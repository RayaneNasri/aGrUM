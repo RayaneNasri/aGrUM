{
 "cells": [
  {
   "cell_type": "code",
   "execution_count": 10,
   "metadata": {},
   "outputs": [
    {
     "name": "stdout",
     "output_type": "stream",
     "text": [
      "pyAgrum version 0.12.0.9\n",
      "(c) Pierre-Henri Wuillemin, Christophe Gonzales, Lionel Torti\n",
      "    UPMC 2015\n",
      "\n",
      "    This is free software; see the source code for copying conditions.\n",
      "    There is ABSOLUTELY NO WARRANTY; not even for MERCHANTABILITY or\n",
      "    FITNESS FOR A PARTICULAR PURPOSE.  For details, see 'pyAgrum.warranty'.\n",
      "    \n"
     ]
    }
   ],
   "source": [
    "import pyagrum as gum\n",
    "import pyagrum.lib.notebook as gnb\n",
    "gum.about()"
   ]
  },
  {
   "cell_type": "code",
   "execution_count": 12,
   "metadata": {},
   "outputs": [
    {
     "name": "stdout",
     "output_type": "stream",
     "text": [
      "\r\n",
      "type t_lv OK, NOK, UNKNOWN;\r\n",
      "int (0,4) t_rv ;\r\n",
      "real(0.3,1.5,3.8,10) t_dv;\r\n",
      "\r\n",
      "class BNO3PRMIO {\r\n",
      "    t_lv lv {\r\n",
      "        [ 0.4,\r\n",
      "          0.39,\r\n",
      "          0.21 ]\r\n",
      "    };\r\n",
      "\r\n",
      "    t_rv rv dependson lv {\r\n",
      "        //     0 |  1 |  2 |  3 |  4\r\n",
      "        [    0.1 ,0.1 ,0.2 ,0.5 ,0.1, // OK\r\n",
      "             0.2 ,0.0 ,0.2 ,0.4 ,0.2, // NOK\r\n",
      "             0.3 ,0.1 ,0.2 ,0.3 ,0.1] // UNKNOWN\r\n",
      "    };\r\n",
      "\r\n",
      "    t_dv dv dependson rv {\r\n",
      "        // 0.3-1.5| 1.5-3.8| 3.8-10\r\n",
      "        [     0.20,    0.40,   0.40, // 0\r\n",
      "              0.20,    0.40,   0.40, // 1\r\n",
      "              0.20,    0.40,   0.40, // 2\r\n",
      "              0.20,    0.40,   0.40, // 3\r\n",
      "              0.20,    0.40,   0.40] // 4\r\n",
      "    };\r\n",
      "}\r\n"
     ]
    }
   ],
   "source": [
    "!cat ./BNO3PRM.o3prm"
   ]
  },
  {
   "cell_type": "code",
   "execution_count": 14,
   "metadata": {},
   "outputs": [],
   "source": [
    "bn=gum.loadBN(\"./BNO3PRM.o3prm\")"
   ]
  },
  {
   "cell_type": "code",
   "execution_count": 15,
   "metadata": {},
   "outputs": [
    {
     "name": "stdout",
     "output_type": "stream",
     "text": [
      "1:lv<OK,NOK,UNKNOWN>\n",
      "2:rv[0-4]\n",
      "0:dv<[0.3;1.5[,[1.5;3.8[,[3.8;10]>\n"
     ]
    }
   ],
   "source": [
    "for i in bn.names():\n",
    "    print(f\"{bn.variable(i).varType()}:{bn.variable(i)}\")\n"
   ]
  },
  {
   "cell_type": "code",
   "execution_count": 16,
   "metadata": {},
   "outputs": [
    {
     "name": "stdout",
     "output_type": "stream",
     "text": [
      "1:lv<OK,NOK,UNKNOWN>\n",
      "2:rv[0-4]\n",
      "0:dv<[0.3;1.5[,[1.5;3.8[,[3.8;10]>\n"
     ]
    }
   ],
   "source": [
    "bn2=gum.BayesNet()\n",
    "bn2.add(gum.LabelizedVariable(\"lv\",\"lv\",0).addLabel(\"OK\").addLabel(\"NOK\").addLabel(\"UNKNOWN\"))\n",
    "bn2.add(gum.RangeVariable(\"rv\",\"rv\",0,4))\n",
    "bn2.add(gum.DiscretizedVariable(\"dv\",\"dv\").addTick(0.3).addTick(1.5).addTick(3.8).addTick(10))\n",
    "\n",
    "for i in bn2.names():\n",
    "    print(f\"{bn2.variable(i).varType()}:{bn2.variable(i)}\")"
   ]
  },
  {
   "cell_type": "code",
   "execution_count": 17,
   "metadata": {},
   "outputs": [
    {
     "data": {
      "text/plain": [
       "1"
      ]
     },
     "execution_count": 17,
     "metadata": {},
     "output_type": "execute_result"
    }
   ],
   "source": [
    "v.varType()\n"
   ]
  },
  {
   "cell_type": "code",
   "execution_count": 8,
   "metadata": {},
   "outputs": [
    {
     "data": {
      "text/plain": [
       "0"
      ]
     },
     "execution_count": 8,
     "metadata": {},
     "output_type": "execute_result"
    }
   ],
   "source": [
    "v.VarType_Discretized\n"
   ]
  },
  {
   "cell_type": "code",
   "execution_count": null,
   "metadata": {
    "collapsed": true
   },
   "outputs": [],
   "source": []
  }
 ],
 "metadata": {
  "hide_input": false,
  "kernelspec": {
   "display_name": "devAgrum (python3)",
   "language": "python",
   "name": "devagrum"
  },
  "language_info": {
   "codemirror_mode": {
    "name": "ipython",
    "version": 3
   },
   "file_extension": ".py",
   "mimetype": "text/x-python",
   "name": "python",
   "nbconvert_exporter": "python",
   "pygments_lexer": "ipython3",
   "version": "3.5.3"
  }
 },
 "nbformat": 4,
 "nbformat_minor": 2
}
