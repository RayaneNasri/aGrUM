{
 "cells": [
  {
   "cell_type": "markdown",
   "metadata": {
    "editable": true,
    "slideshow": {
     "slide_type": ""
    },
    "tags": []
   },
   "source": [
    "# Good and Bas Cholesterol (p229)\n",
    "\n",
    "| | | |\n",
    "|-|-|-|\n",
    "|[ ![Creative Commons License](images/cc4.png)](http://creativecommons.org/licenses/by-nc/4.0/) |[ ![aGrUM](images/logoAgrum.png)](https://agrum.org) |[ ![interactive online version](images/atbinder.svg)](https://agrum.gitlab.io/extra/agrum_at_binder.html)\n",
    "\n",
    "Authors: <b>Aymen Merrouche</b> and Pierre-Henri Wuillemin.\n",
    "\n",
    "**This notebook follows the example from \"The Book Of Why\" (Pearl, 2018) chapter 7 page 229**"
   ]
  },
  {
   "cell_type": "markdown",
   "metadata": {
    "editable": true,
    "slideshow": {
     "slide_type": ""
    },
    "tags": []
   },
   "source": [
    "## Randomised Controlled Trials with noncompliance"
   ]
  },
  {
   "cell_type": "code",
   "execution_count": 1,
   "metadata": {
    "editable": true,
    "execution": {
     "iopub.execute_input": "2025-03-24T10:37:56.882405Z",
     "iopub.status.busy": "2025-03-24T10:37:56.882159Z",
     "iopub.status.idle": "2025-03-24T10:37:57.376518Z",
     "shell.execute_reply": "2025-03-24T10:37:57.376253Z",
     "shell.execute_reply.started": "2025-03-24T10:37:56.882387Z"
    },
    "slideshow": {
     "slide_type": ""
    },
    "tags": []
   },
   "outputs": [],
   "source": [
    "import pyagrum as gum\n",
    "import pyagrum.lib.notebook as gnb\n",
    "import pyagrum.causal as csl\n",
    "import pyagrum.causal.notebook as cslnb"
   ]
  },
  {
   "cell_type": "markdown",
   "metadata": {},
   "source": [
    "> Noncompliance is an important issue in the conduct of randomized controlled trials (RCTs). Taking account for noncompliers is necessary because they will bias the impact of the treatment on the outcome. "
   ]
  },
  {
   "cell_type": "markdown",
   "metadata": {
    "editable": true,
    "slideshow": {
     "slide_type": ""
    },
    "tags": []
   },
   "source": [
    "**We create the causal diagram:**\n",
    "\n",
    "From 1973 to 1984 a randomized controlled trial was conducted to measure the effect of cholestyramine on cholesterol. The researchers in charge of this trial faced the noncompliance problem. (when patients who participate in the trial don't take their treatment). The corresponding causal diagram is the following:"
   ]
  },
  {
   "cell_type": "code",
   "execution_count": 2,
   "metadata": {
    "editable": true,
    "execution": {
     "iopub.execute_input": "2025-03-24T10:37:57.376975Z",
     "iopub.status.busy": "2025-03-24T10:37:57.376842Z",
     "iopub.status.idle": "2025-03-24T10:37:57.467669Z",
     "shell.execute_reply": "2025-03-24T10:37:57.467326Z",
     "shell.execute_reply.started": "2025-03-24T10:37:57.376967Z"
    },
    "slideshow": {
     "slide_type": ""
    },
    "tags": []
   },
   "outputs": [
    {
     "data": {
      "text/html": [
       "<svg xmlns=\"http://www.w3.org/2000/svg\" xmlns:xlink=\"http://www.w3.org/1999/xlink\" width=\"115pt\" height=\"188pt\" viewBox=\"0.00 0.00 114.80 188.00\">\n",
       "<g id=\"graph0\" class=\"graph\" transform=\"scale(1 1) rotate(0) translate(4 184)\">\n",
       "<title>G</title>\n",
       "<!-- Received -->\n",
       "<g id=\"node1\" class=\"node\">\n",
       "<title>Received</title>\n",
       "<g id=\"a_node1\"><a xlink:title=\"(1) Received\">\n",
       "<ellipse fill=\"#404040\" stroke=\"#4a4a4a\" cx=\"53.4\" cy=\"-90\" rx=\"45.21\" ry=\"18\"/>\n",
       "<text text-anchor=\"middle\" x=\"53.4\" y=\"-84.95\" font-family=\"Times,serif\" font-size=\"14.00\" fill=\"white\">Received</text>\n",
       "</a>\n",
       "</g>\n",
       "</g>\n",
       "<!-- Cholesterol -->\n",
       "<g id=\"node2\" class=\"node\">\n",
       "<title>Cholesterol</title>\n",
       "<g id=\"a_node2\"><a xlink:title=\"(2) Cholesterol\">\n",
       "<ellipse fill=\"#404040\" stroke=\"#4a4a4a\" cx=\"53.4\" cy=\"-18\" rx=\"53.4\" ry=\"18\"/>\n",
       "<text text-anchor=\"middle\" x=\"53.4\" y=\"-12.95\" font-family=\"Times,serif\" font-size=\"14.00\" fill=\"white\">Cholesterol</text>\n",
       "</a>\n",
       "</g>\n",
       "</g>\n",
       "<!-- Received&#45;&gt;Cholesterol -->\n",
       "<g id=\"edge2\" class=\"edge\">\n",
       "<title>Received-&gt;Cholesterol</title>\n",
       "<g id=\"a_edge2\"><a xlink:title=\"1 → 2\">\n",
       "<path fill=\"none\" stroke=\"#4a4a4a\" d=\"M53.4,-71.7C53.4,-64.41 53.4,-55.73 53.4,-47.54\"/>\n",
       "<polygon fill=\"#4a4a4a\" stroke=\"#4a4a4a\" points=\"56.9,-47.62 53.4,-37.62 49.9,-47.62 56.9,-47.62\"/>\n",
       "</a>\n",
       "</g>\n",
       "</g>\n",
       "<!-- Assigned -->\n",
       "<g id=\"node3\" class=\"node\">\n",
       "<title>Assigned</title>\n",
       "<g id=\"a_node3\"><a xlink:title=\"(0) Assigned\">\n",
       "<ellipse fill=\"#404040\" stroke=\"#4a4a4a\" cx=\"53.4\" cy=\"-162\" rx=\"45.21\" ry=\"18\"/>\n",
       "<text text-anchor=\"middle\" x=\"53.4\" y=\"-156.95\" font-family=\"Times,serif\" font-size=\"14.00\" fill=\"white\">Assigned</text>\n",
       "</a>\n",
       "</g>\n",
       "</g>\n",
       "<!-- Assigned&#45;&gt;Received -->\n",
       "<g id=\"edge1\" class=\"edge\">\n",
       "<title>Assigned-&gt;Received</title>\n",
       "<g id=\"a_edge1\"><a xlink:title=\"0 → 1\">\n",
       "<path fill=\"none\" stroke=\"#4a4a4a\" d=\"M53.4,-143.7C53.4,-136.41 53.4,-127.73 53.4,-119.54\"/>\n",
       "<polygon fill=\"#4a4a4a\" stroke=\"#4a4a4a\" points=\"56.9,-119.62 53.4,-109.62 49.9,-119.62 56.9,-119.62\"/>\n",
       "</a>\n",
       "</g>\n",
       "</g>\n",
       "</g>\n",
       "</svg>"
      ],
      "text/plain": [
       "(pyagrum.BayesNet@0x126a5c000) BN{nodes: 3, arcs: 2, domainSize: 8, dim: 5, mem: 80o}"
      ]
     },
     "execution_count": 2,
     "metadata": {},
     "output_type": "execute_result"
    }
   ],
   "source": [
    "bw = gum.fastBN(\"Assigned->Received->Cholesterol\")\n",
    "bw"
   ]
  },
  {
   "cell_type": "markdown",
   "metadata": {},
   "source": [
    "All our variables are binary, not numerical."
   ]
  },
  {
   "cell_type": "markdown",
   "metadata": {},
   "source": [
    "## What is the effect of the treatment on the outcome?"
   ]
  },
  {
   "cell_type": "markdown",
   "metadata": {
    "editable": true,
    "slideshow": {
     "slide_type": ""
    },
    "tags": []
   },
   "source": [
    "> This question raises another one: <b> What if noncompliers followed the instructions they were given, how would they have responded to the treatment? </b> We can't suppose that they would respond the same way compliers did. Not complying is maybe due to the risk of interacting with other drugs which can be a sign of a disease, and therefore these noncompliers may react differently: confounding."
   ]
  },
  {
   "cell_type": "code",
   "execution_count": 3,
   "metadata": {
    "editable": true,
    "execution": {
     "iopub.execute_input": "2025-03-24T10:37:57.468247Z",
     "iopub.status.busy": "2025-03-24T10:37:57.468161Z",
     "iopub.status.idle": "2025-03-24T10:37:57.614822Z",
     "shell.execute_reply": "2025-03-24T10:37:57.614502Z",
     "shell.execute_reply.started": "2025-03-24T10:37:57.468238Z"
    },
    "slideshow": {
     "slide_type": ""
    },
    "tags": [
     "nbsphinx-thumbnail"
    ]
   },
   "outputs": [
    {
     "data": {
      "image/svg+xml": [
       "<svg xmlns=\"http://www.w3.org/2000/svg\" xmlns:xlink=\"http://www.w3.org/1999/xlink\" width=\"143pt\" height=\"188pt\" viewBox=\"0.00 0.00 142.61 188.00\">\n",
       "<g id=\"graph0\" class=\"graph\" transform=\"scale(1 1) rotate(0) translate(4 184)\">\n",
       "<title>G</title>\n",
       "<!-- confounder -->\n",
       "<g id=\"node1\" class=\"node\">\n",
       "<title>confounder</title>\n",
       "<ellipse fill=\"#404040\" stroke=\"#4a4a4a\" cx=\"114.21\" cy=\"-162\" rx=\"1.8\" ry=\"1.8\"/>\n",
       "</g>\n",
       "<!-- Received -->\n",
       "<g id=\"node3\" class=\"node\">\n",
       "<title>Received</title>\n",
       "<ellipse fill=\"#404040\" stroke=\"#4a4a4a\" cx=\"45.21\" cy=\"-90\" rx=\"45.21\" ry=\"18\"/>\n",
       "<text text-anchor=\"middle\" x=\"45.21\" y=\"-84.95\" font-family=\"Times,serif\" font-size=\"14.00\" fill=\"white\">Received</text>\n",
       "</g>\n",
       "<!-- confounder&#45;&gt;Received -->\n",
       "<g id=\"edge4\" class=\"edge\">\n",
       "<title>confounder-&gt;Received</title>\n",
       "<path fill=\"none\" stroke=\"#4a4a4a\" stroke-dasharray=\"5,2\" d=\"M113.42,-160.06C111.22,-157.45 104.84,-149.94 99.21,-144 89.94,-134.22 79.42,-123.77 70.15,-114.75\"/>\n",
       "<polygon fill=\"#4a4a4a\" stroke=\"#4a4a4a\" points=\"72.77,-112.42 63.15,-107.99 67.91,-117.45 72.77,-112.42\"/>\n",
       "</g>\n",
       "<!-- Cholesterol -->\n",
       "<g id=\"node4\" class=\"node\">\n",
       "<title>Cholesterol</title>\n",
       "<ellipse fill=\"#404040\" stroke=\"#4a4a4a\" cx=\"81.21\" cy=\"-18\" rx=\"53.4\" ry=\"18\"/>\n",
       "<text text-anchor=\"middle\" x=\"81.21\" y=\"-12.95\" font-family=\"Times,serif\" font-size=\"14.00\" fill=\"white\">Cholesterol</text>\n",
       "</g>\n",
       "<!-- confounder&#45;&gt;Cholesterol -->\n",
       "<g id=\"edge2\" class=\"edge\">\n",
       "<title>confounder-&gt;Cholesterol</title>\n",
       "<path fill=\"none\" stroke=\"#4a4a4a\" stroke-dasharray=\"5,2\" d=\"M114.07,-159.73C113.2,-151.7 108.1,-107.25 99.21,-72 97.11,-63.67 94.31,-54.78 91.55,-46.71\"/>\n",
       "<polygon fill=\"#4a4a4a\" stroke=\"#4a4a4a\" points=\"94.9,-45.66 88.26,-37.4 88.3,-48 94.9,-45.66\"/>\n",
       "</g>\n",
       "<!-- Assigned -->\n",
       "<g id=\"node2\" class=\"node\">\n",
       "<title>Assigned</title>\n",
       "<ellipse fill=\"#404040\" stroke=\"#4a4a4a\" cx=\"45.21\" cy=\"-162\" rx=\"45.21\" ry=\"18\"/>\n",
       "<text text-anchor=\"middle\" x=\"45.21\" y=\"-156.95\" font-family=\"Times,serif\" font-size=\"14.00\" fill=\"white\">Assigned</text>\n",
       "</g>\n",
       "<!-- Assigned&#45;&gt;Received -->\n",
       "<g id=\"edge1\" class=\"edge\">\n",
       "<title>Assigned-&gt;Received</title>\n",
       "<path fill=\"none\" stroke=\"#4a4a4a\" d=\"M44.21,-143.7C44.21,-136.41 44.21,-127.73 44.21,-119.54\"/>\n",
       "<path fill=\"none\" stroke=\"#4a4a4a\" d=\"M46.21,-143.7C46.21,-136.41 46.21,-127.73 46.21,-119.54\"/>\n",
       "<polygon fill=\"#4a4a4a\" stroke=\"#4a4a4a\" points=\"48.71,-119.62 45.21,-109.62 41.71,-119.62 48.71,-119.62\"/>\n",
       "</g>\n",
       "<!-- Received&#45;&gt;Cholesterol -->\n",
       "<g id=\"edge3\" class=\"edge\">\n",
       "<title>Received-&gt;Cholesterol</title>\n",
       "<path fill=\"none\" stroke=\"#4a4a4a\" d=\"M53.04,-71.6C57.06,-63.77 61.94,-54.29 66.45,-45.52\"/>\n",
       "<path fill=\"none\" stroke=\"#4a4a4a\" d=\"M54.81,-72.51C58.84,-64.69 63.71,-55.21 68.23,-46.43\"/>\n",
       "<polygon fill=\"#4a4a4a\" stroke=\"#4a4a4a\" points=\"70.42,-47.63 71.88,-37.13 64.2,-44.43 70.42,-47.63\"/>\n",
       "</g>\n",
       "</g>\n",
       "</svg>"
      ],
      "text/plain": [
       "<IPython.core.display.SVG object>"
      ]
     },
     "metadata": {},
     "output_type": "display_data"
    }
   ],
   "source": [
    "bwModele = csl.CausalModel(bw, [(\"confounder\", [\"Received\", \"Cholesterol\"])], True)\n",
    "gnb.show(bwModele)"
   ]
  },
  {
   "cell_type": "code",
   "execution_count": 4,
   "metadata": {
    "editable": true,
    "execution": {
     "iopub.execute_input": "2025-03-24T10:37:57.615339Z",
     "iopub.status.busy": "2025-03-24T10:37:57.615240Z",
     "iopub.status.idle": "2025-03-24T10:37:57.713007Z",
     "shell.execute_reply": "2025-03-24T10:37:57.712698Z",
     "shell.execute_reply.started": "2025-03-24T10:37:57.615330Z"
    },
    "slideshow": {
     "slide_type": ""
    },
    "tags": []
   },
   "outputs": [
    {
     "data": {
      "text/html": [
       "\n",
       "      <style>\n",
       "      .floating-box {\n",
       "      display: inline-block;\n",
       "      margin: 7px;\n",
       "      padding : 3px;\n",
       "      border: 0px solid transparent;  \n",
       "      valign:middle;\n",
       "      background-color: transparent;\n",
       "      }\n",
       "      </style>\n",
       "      <div class=\"floating-box\"><svg xmlns=\"http://www.w3.org/2000/svg\" xmlns:xlink=\"http://www.w3.org/1999/xlink\" width=\"137pt\" height=\"180pt\" viewBox=\"0.00 0.00 136.54 180.00\">\n",
       "<g id=\"graph0\" class=\"graph\" transform=\"scale(0.957447 0.957447) rotate(0) translate(4 184)\">\n",
       "<title>G</title>\n",
       "<!-- confounder -->\n",
       "<g id=\"node1\" class=\"node\">\n",
       "<title>confounder</title>\n",
       "<ellipse fill=\"#404040\" stroke=\"#4a4a4a\" cx=\"114.21\" cy=\"-162\" rx=\"1.8\" ry=\"1.8\"/>\n",
       "</g>\n",
       "<!-- Received -->\n",
       "<g id=\"node3\" class=\"node\">\n",
       "<title>Received</title>\n",
       "<ellipse fill=\"#404040\" stroke=\"#4a4a4a\" cx=\"45.21\" cy=\"-90\" rx=\"45.21\" ry=\"18\"/>\n",
       "<text text-anchor=\"middle\" x=\"45.21\" y=\"-84.95\" font-family=\"Times,serif\" font-size=\"14.00\" fill=\"white\">Received</text>\n",
       "</g>\n",
       "<!-- confounder&#45;&gt;Received -->\n",
       "<g id=\"edge4\" class=\"edge\">\n",
       "<title>confounder-&gt;Received</title>\n",
       "<path fill=\"none\" stroke=\"#4a4a4a\" stroke-dasharray=\"5,2\" d=\"M113.42,-160.06C111.22,-157.45 104.84,-149.94 99.21,-144 89.94,-134.22 79.42,-123.77 70.15,-114.75\"/>\n",
       "<polygon fill=\"#4a4a4a\" stroke=\"#4a4a4a\" points=\"72.77,-112.42 63.15,-107.99 67.91,-117.45 72.77,-112.42\"/>\n",
       "</g>\n",
       "<!-- Cholesterol -->\n",
       "<g id=\"node4\" class=\"node\">\n",
       "<title>Cholesterol</title>\n",
       "<ellipse fill=\"#404040\" stroke=\"#4a4a4a\" cx=\"81.21\" cy=\"-18\" rx=\"53.4\" ry=\"18\"/>\n",
       "<text text-anchor=\"middle\" x=\"81.21\" y=\"-12.95\" font-family=\"Times,serif\" font-size=\"14.00\" fill=\"white\">Cholesterol</text>\n",
       "</g>\n",
       "<!-- confounder&#45;&gt;Cholesterol -->\n",
       "<g id=\"edge2\" class=\"edge\">\n",
       "<title>confounder-&gt;Cholesterol</title>\n",
       "<path fill=\"none\" stroke=\"#4a4a4a\" stroke-dasharray=\"5,2\" d=\"M114.07,-159.73C113.2,-151.7 108.1,-107.25 99.21,-72 97.11,-63.67 94.31,-54.78 91.55,-46.71\"/>\n",
       "<polygon fill=\"#4a4a4a\" stroke=\"#4a4a4a\" points=\"94.9,-45.66 88.26,-37.4 88.3,-48 94.9,-45.66\"/>\n",
       "</g>\n",
       "<!-- Assigned -->\n",
       "<g id=\"node2\" class=\"node\">\n",
       "<title>Assigned</title>\n",
       "<ellipse fill=\"#404040\" stroke=\"#4a4a4a\" cx=\"45.21\" cy=\"-162\" rx=\"45.21\" ry=\"18\"/>\n",
       "<text text-anchor=\"middle\" x=\"45.21\" y=\"-156.95\" font-family=\"Times,serif\" font-size=\"14.00\" fill=\"white\">Assigned</text>\n",
       "</g>\n",
       "<!-- Assigned&#45;&gt;Received -->\n",
       "<g id=\"edge1\" class=\"edge\">\n",
       "<title>Assigned-&gt;Received</title>\n",
       "<path fill=\"none\" stroke=\"#4a4a4a\" d=\"M44.21,-143.7C44.21,-136.41 44.21,-127.73 44.21,-119.54\"/>\n",
       "<path fill=\"none\" stroke=\"#4a4a4a\" d=\"M46.21,-143.7C46.21,-136.41 46.21,-127.73 46.21,-119.54\"/>\n",
       "<polygon fill=\"#4a4a4a\" stroke=\"#4a4a4a\" points=\"48.71,-119.62 45.21,-109.62 41.71,-119.62 48.71,-119.62\"/>\n",
       "</g>\n",
       "<!-- Received&#45;&gt;Cholesterol -->\n",
       "<g id=\"edge3\" class=\"edge\">\n",
       "<title>Received-&gt;Cholesterol</title>\n",
       "<path fill=\"none\" stroke=\"#4a4a4a\" d=\"M53.04,-71.6C57.06,-63.77 61.94,-54.29 66.45,-45.52\"/>\n",
       "<path fill=\"none\" stroke=\"#4a4a4a\" d=\"M54.81,-72.51C58.84,-64.69 63.71,-55.21 68.23,-46.43\"/>\n",
       "<polygon fill=\"#4a4a4a\" stroke=\"#4a4a4a\" points=\"70.42,-47.63 71.88,-37.13 64.2,-44.43 70.42,-47.63\"/>\n",
       "</g>\n",
       "</g>\n",
       "</svg><br><center><small><em>Causal Model</em></small></center></div><div class=\"floating-box\">Hedge Error: G={'Received', 'Cholesterol'}, G[S]={'Cholesterol'}<br><center><small><em>Impossible</em></small></center></div><div class=\"floating-box\">No result<br><center><small><em>Impact</em></small></center></div>"
      ],
      "text/plain": [
       "<IPython.core.display.HTML object>"
      ]
     },
     "metadata": {},
     "output_type": "display_data"
    }
   ],
   "source": [
    "cslnb.showCausalImpact(bwModele, on=\"Cholesterol\", doing=\"Received\")"
   ]
  },
  {
   "cell_type": "markdown",
   "metadata": {},
   "source": [
    "> We cannot observe any of these confounders, so we can't control for it using back-door adjustment.<br>\n",
    "\"Assigned\" is an \"instrumental variable\" :\n",
    "+ According to data the variable \"Assigned\" is correlated with the outcome \"Cholesterol\"\n",
    "+ The variable \"Assigned\" has not a causal effect on the outcome: Assigning a number doesn't cause cholesterol.\n",
    "+ The instrument has a causal effect on the treatment \"Received\"\n",
    "+ The variable \"Assigned\" is as if it was randomly assigned. (no incoming arrows in the causal diagram)\n",
    "+ The correlation between \"Assigned\" and \"Received\" that is observed in the data, is the causal effect of the instrument over the treatment.\n",
    "+ Since the instrument is as if it was randomly assigned (no incoming arrows), it can't be correlated with any other confounders of the relationship between it and the outcome."
   ]
  },
  {
   "cell_type": "markdown",
   "metadata": {},
   "source": [
    "> One of the methods of taking account for noncompliers is to take the worst-case scenario where none of the noncompliers would have improved if they followed the instructions (we get that 39.2% improved.), and the best-case scenario where all noncompliers would have improved if they had complied (we get that 78.0% improved.), we can say that the treatment is efficient because even in the worst-case scenario 39.2% of the population improved. "
   ]
  },
  {
   "cell_type": "code",
   "execution_count": null,
   "metadata": {
    "editable": true,
    "slideshow": {
     "slide_type": ""
    },
    "tags": []
   },
   "outputs": [],
   "source": []
  }
 ],
 "metadata": {
  "kernelspec": {
   "display_name": "Python 3 (ipykernel)",
   "language": "python",
   "name": "python3"
  },
  "language_info": {
   "codemirror_mode": {
    "name": "ipython",
    "version": 3
   },
   "file_extension": ".py",
   "mimetype": "text/x-python",
   "name": "python",
   "nbconvert_exporter": "python",
   "pygments_lexer": "ipython3",
   "version": "3.13.2"
  }
 },
 "nbformat": 4,
 "nbformat_minor": 4
}
