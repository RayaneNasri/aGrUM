{
 "cells": [
  {
   "cell_type": "markdown",
   "metadata": {
    "editable": true,
    "slideshow": {
     "slide_type": ""
    },
    "tags": []
   },
   "source": [
    "# Smoking (chapter 5)\n",
    "\n",
    "| | | |\n",
    "|-|-|-|\n",
    "|[ ![Creative Commons License](images/cc4.png)](http://creativecommons.org/licenses/by-nc/4.0/) |[ ![aGrUM](images/logoAgrum.png)](https://agrum.org) |[ ![interactive online version](images/atbinder.svg)](https://agrum.gitlab.io/extra/agrum_at_binder.html)\n",
    "\n",
    "Authors: <b>Aymen Merrouche</b> and Pierre-Henri Wuillemin.\n",
    "\n",
    "**This notebook follows the example from \"The Book Of Why\" (Pearl, 2018) chapter 5**"
   ]
  },
  {
   "cell_type": "code",
   "execution_count": 1,
   "metadata": {
    "editable": true,
    "execution": {
     "iopub.execute_input": "2025-03-24T10:37:30.499510Z",
     "iopub.status.busy": "2025-03-24T10:37:30.499293Z",
     "iopub.status.idle": "2025-03-24T10:37:31.073509Z",
     "shell.execute_reply": "2025-03-24T10:37:31.073153Z",
     "shell.execute_reply.started": "2025-03-24T10:37:30.499490Z"
    },
    "slideshow": {
     "slide_type": ""
    },
    "tags": []
   },
   "outputs": [],
   "source": [
    "from IPython.display import display, Math, Latex,HTML\n",
    "\n",
    "import pyagrum as gum\n",
    "import pyagrum.lib.notebook as gnb\n",
    "import pyagrum.causal as csl\n",
    "import pyagrum.causal.notebook as cslnb\n",
    "import os"
   ]
  },
  {
   "cell_type": "markdown",
   "metadata": {},
   "source": [
    "> In the 1950s the strong association between smoking and lung cancer provoked a debate on the issue. Does smoking cause lung cancer?"
   ]
  },
  {
   "cell_type": "markdown",
   "metadata": {
    "editable": true,
    "slideshow": {
     "slide_type": ""
    },
    "tags": []
   },
   "source": [
    "### Corresponding causal diagram:\n",
    "The corresponding causal diagram is the following:"
   ]
  },
  {
   "cell_type": "code",
   "execution_count": 2,
   "metadata": {
    "editable": true,
    "execution": {
     "iopub.execute_input": "2025-03-24T10:37:31.074181Z",
     "iopub.status.busy": "2025-03-24T10:37:31.074008Z",
     "iopub.status.idle": "2025-03-24T10:37:31.176710Z",
     "shell.execute_reply": "2025-03-24T10:37:31.176325Z",
     "shell.execute_reply.started": "2025-03-24T10:37:31.074170Z"
    },
    "slideshow": {
     "slide_type": ""
    },
    "tags": []
   },
   "outputs": [
    {
     "data": {
      "text/html": [
       "<svg xmlns=\"http://www.w3.org/2000/svg\" xmlns:xlink=\"http://www.w3.org/1999/xlink\" width=\"126pt\" height=\"116pt\" viewBox=\"0.00 0.00 126.06 116.00\">\n",
       "<g id=\"graph0\" class=\"graph\" transform=\"scale(1 1) rotate(0) translate(4 112)\">\n",
       "<title>G</title>\n",
       "<!-- Lung Cancer -->\n",
       "<g id=\"node1\" class=\"node\">\n",
       "<title>Lung Cancer</title>\n",
       "<g id=\"a_node1\"><a xlink:title=\"(1) Lung Cancer\">\n",
       "<ellipse fill=\"#404040\" stroke=\"#4a4a4a\" cx=\"59.03\" cy=\"-18\" rx=\"59.03\" ry=\"18\"/>\n",
       "<text text-anchor=\"middle\" x=\"59.03\" y=\"-12.95\" font-family=\"Times,serif\" font-size=\"14.00\" fill=\"white\">Lung Cancer</text>\n",
       "</a>\n",
       "</g>\n",
       "</g>\n",
       "<!-- Smoking -->\n",
       "<g id=\"node2\" class=\"node\">\n",
       "<title>Smoking</title>\n",
       "<g id=\"a_node2\"><a xlink:title=\"(0) Smoking\">\n",
       "<ellipse fill=\"#404040\" stroke=\"#4a4a4a\" cx=\"59.03\" cy=\"-90\" rx=\"44.7\" ry=\"18\"/>\n",
       "<text text-anchor=\"middle\" x=\"59.03\" y=\"-84.95\" font-family=\"Times,serif\" font-size=\"14.00\" fill=\"white\">Smoking</text>\n",
       "</a>\n",
       "</g>\n",
       "</g>\n",
       "<!-- Smoking&#45;&gt;Lung Cancer -->\n",
       "<g id=\"edge1\" class=\"edge\">\n",
       "<title>Smoking-&gt;Lung Cancer</title>\n",
       "<g id=\"a_edge1\"><a xlink:title=\"0 → 1\">\n",
       "<path fill=\"none\" stroke=\"#4a4a4a\" d=\"M59.03,-71.7C59.03,-64.41 59.03,-55.73 59.03,-47.54\"/>\n",
       "<polygon fill=\"#4a4a4a\" stroke=\"#4a4a4a\" points=\"62.53,-47.62 59.03,-37.62 55.53,-47.62 62.53,-47.62\"/>\n",
       "</a>\n",
       "</g>\n",
       "</g>\n",
       "</g>\n",
       "</svg>"
      ],
      "text/plain": [
       "(pyagrum.BayesNet@0x106808200) BN{nodes: 2, arcs: 1, domainSize: 4, dim: 3, mem: 48o}"
      ]
     },
     "execution_count": 2,
     "metadata": {},
     "output_type": "execute_result"
    }
   ],
   "source": [
    "sc = gum.fastBN(\"Smoking->Lung Cancer\")\n",
    "sc"
   ]
  },
  {
   "cell_type": "markdown",
   "metadata": {
    "editable": true,
    "slideshow": {
     "slide_type": ""
    },
    "tags": []
   },
   "source": [
    "### Constitutional Hypothesis:\n",
    "> Smoking industry and some other skeptic statisticians advanced the theory that smokers are genetically different from nonsmokers. A smoking gene could be a confounder that would explain the observed association."
   ]
  },
  {
   "cell_type": "code",
   "execution_count": 3,
   "metadata": {
    "editable": true,
    "execution": {
     "iopub.execute_input": "2025-03-24T10:37:31.177536Z",
     "iopub.status.busy": "2025-03-24T10:37:31.177341Z",
     "iopub.status.idle": "2025-03-24T10:37:31.337278Z",
     "shell.execute_reply": "2025-03-24T10:37:31.336804Z",
     "shell.execute_reply.started": "2025-03-24T10:37:31.177525Z"
    },
    "slideshow": {
     "slide_type": ""
    },
    "tags": []
   },
   "outputs": [
    {
     "data": {
      "text/html": [
       "\n",
       "      <style>\n",
       "      .floating-box {\n",
       "      display: inline-block;\n",
       "      margin: 7px;\n",
       "      padding : 3px;\n",
       "      border: 0px solid transparent;  \n",
       "      valign:middle;\n",
       "      background-color: transparent;\n",
       "      }\n",
       "      </style>\n",
       "      <div class=\"floating-box\"><svg xmlns=\"http://www.w3.org/2000/svg\" xmlns:xlink=\"http://www.w3.org/1999/xlink\" width=\"180pt\" height=\"64pt\" viewBox=\"0.00 0.00 180.00 64.38\">\n",
       "<g id=\"graph0\" class=\"graph\" transform=\"scale(0.770131 0.770131) rotate(0) translate(4 79.6)\">\n",
       "<title>G</title>\n",
       "<!-- Smoking Gene -->\n",
       "<g id=\"node1\" class=\"node\">\n",
       "<title>Smoking Gene</title>\n",
       "<ellipse fill=\"#404040\" stroke=\"#4a4a4a\" cx=\"105.7\" cy=\"-73.8\" rx=\"1.8\" ry=\"1.8\"/>\n",
       "</g>\n",
       "<!-- Smoking -->\n",
       "<g id=\"node2\" class=\"node\">\n",
       "<title>Smoking</title>\n",
       "<ellipse fill=\"#404040\" stroke=\"#4a4a4a\" cx=\"44.7\" cy=\"-18\" rx=\"44.7\" ry=\"18\"/>\n",
       "<text text-anchor=\"middle\" x=\"44.7\" y=\"-12.95\" font-family=\"Times,serif\" font-size=\"14.00\" fill=\"white\">Smoking</text>\n",
       "</g>\n",
       "<!-- Smoking Gene&#45;&gt;Smoking -->\n",
       "<g id=\"edge1\" class=\"edge\">\n",
       "<title>Smoking Gene-&gt;Smoking</title>\n",
       "<path fill=\"none\" stroke=\"#4a4a4a\" stroke-dasharray=\"5,2\" d=\"M104.64,-71.87C100.55,-68.26 85.32,-54.83 71.24,-42.41\"/>\n",
       "<polygon fill=\"#4a4a4a\" stroke=\"#4a4a4a\" points=\"73.68,-39.9 63.87,-35.91 69.05,-45.15 73.68,-39.9\"/>\n",
       "</g>\n",
       "<!-- Lung Cancer -->\n",
       "<g id=\"node3\" class=\"node\">\n",
       "<title>Lung Cancer</title>\n",
       "<ellipse fill=\"#404040\" stroke=\"#4a4a4a\" cx=\"166.7\" cy=\"-18\" rx=\"59.03\" ry=\"18\"/>\n",
       "<text text-anchor=\"middle\" x=\"166.7\" y=\"-12.95\" font-family=\"Times,serif\" font-size=\"14.00\" fill=\"white\">Lung Cancer</text>\n",
       "</g>\n",
       "<!-- Smoking Gene&#45;&gt;Lung Cancer -->\n",
       "<g id=\"edge2\" class=\"edge\">\n",
       "<title>Smoking Gene-&gt;Lung Cancer</title>\n",
       "<path fill=\"none\" stroke=\"#4a4a4a\" stroke-dasharray=\"5,2\" d=\"M106.76,-71.87C110.79,-68.31 125.68,-55.17 139.61,-42.89\"/>\n",
       "<polygon fill=\"#4a4a4a\" stroke=\"#4a4a4a\" points=\"141.73,-45.68 146.92,-36.44 137.1,-40.43 141.73,-45.68\"/>\n",
       "</g>\n",
       "</g>\n",
       "</svg><br><center><small><em>Causal Model</em></small></center></div><div class=\"floating-box\">$$\\begin{equation*}P( Lung Cancer \\mid \\text{do}(Smoking)) = P\\left(Lung Cancer\\right)\\end{equation*}$$<br><center><small><em>Explanation : No causal effect of X on Y, because they are d-separated (conditioning on the observed variables if any).</em></small></center></div><div class=\"floating-box\"><table style=\"border:1px solid black;border-collapse: collapse;\">\n",
       "<tr style='border:1px solid black;color:black;background-color:#808080'>\n",
       "      <th colspan='2'><center>Lung Cancer</center></th></tr>\n",
       "<tr><th style='border:1px solid black;border-bottom-style: double;color:black;background-color:#BBBBBB'>\n",
       "      <center>0</center></th><th style='border:1px solid black;border-bottom-style: double;color:black;background-color:#BBBBBB'>\n",
       "      <center>1</center></th></tr>\n",
       "<tr><td style='color:black;background-color:#d3aa64;text-align:right;padding: 3px;'>0.3377</td><td style='color:black;background-color:#aad364;text-align:right;padding: 3px;'>0.6623</td></tr>\n",
       "</table><br><center><small><em>Impact</em></small></center></div>"
      ],
      "text/plain": [
       "<IPython.core.display.HTML object>"
      ]
     },
     "metadata": {},
     "output_type": "display_data"
    }
   ],
   "source": [
    "msc = csl.CausalModel(sc, [(\"Smoking Gene\", [\"Smoking\",\"Lung Cancer\"])])\n",
    "cslnb.showCausalImpact(msc, \"Lung Cancer\", doing=\"Smoking\",values={})"
   ]
  },
  {
   "cell_type": "markdown",
   "metadata": {},
   "source": [
    "> This constitutional hypothesis was untestable, we couldn't sequence the human genome at the time. <br>\n",
    "However, this hypothesis wasn't plausible because the observed association was way too strong. <br>"
   ]
  },
  {
   "cell_type": "markdown",
   "metadata": {
    "editable": true,
    "slideshow": {
     "slide_type": ""
    },
    "tags": []
   },
   "source": [
    "### Another explanation \n",
    "To explain this association, another hypothesis was that a smoking gene could be a confounder but there was still a direct causal effect between smoking on lung cancer:"
   ]
  },
  {
   "cell_type": "code",
   "execution_count": 4,
   "metadata": {
    "editable": true,
    "execution": {
     "iopub.execute_input": "2025-03-24T10:37:31.337963Z",
     "iopub.status.busy": "2025-03-24T10:37:31.337834Z",
     "iopub.status.idle": "2025-03-24T10:37:31.448536Z",
     "shell.execute_reply": "2025-03-24T10:37:31.448188Z",
     "shell.execute_reply.started": "2025-03-24T10:37:31.337954Z"
    },
    "slideshow": {
     "slide_type": ""
    },
    "tags": []
   },
   "outputs": [
    {
     "data": {
      "text/html": [
       "\n",
       "      <style>\n",
       "      .floating-box {\n",
       "      display: inline-block;\n",
       "      margin: 7px;\n",
       "      padding : 3px;\n",
       "      border: 0px solid transparent;  \n",
       "      valign:middle;\n",
       "      background-color: transparent;\n",
       "      }\n",
       "      </style>\n",
       "      <div class=\"floating-box\"><svg xmlns=\"http://www.w3.org/2000/svg\" xmlns:xlink=\"http://www.w3.org/1999/xlink\" width=\"148pt\" height=\"156pt\" viewBox=\"0.00 0.00 147.73 155.60\">\n",
       "<g id=\"graph0\" class=\"graph\" transform=\"scale(1 1) rotate(0) translate(4 151.6)\">\n",
       "<title>G</title>\n",
       "<!-- Smoking Gene -->\n",
       "<g id=\"node1\" class=\"node\">\n",
       "<title>Smoking Gene</title>\n",
       "<ellipse fill=\"#404040\" stroke=\"#4a4a4a\" cx=\"80.7\" cy=\"-145.8\" rx=\"1.8\" ry=\"1.8\"/>\n",
       "</g>\n",
       "<!-- Smoking -->\n",
       "<g id=\"node2\" class=\"node\">\n",
       "<title>Smoking</title>\n",
       "<ellipse fill=\"#404040\" stroke=\"#4a4a4a\" cx=\"44.7\" cy=\"-90\" rx=\"44.7\" ry=\"18\"/>\n",
       "<text text-anchor=\"middle\" x=\"44.7\" y=\"-84.95\" font-family=\"Times,serif\" font-size=\"14.00\" fill=\"white\">Smoking</text>\n",
       "</g>\n",
       "<!-- Smoking Gene&#45;&gt;Smoking -->\n",
       "<g id=\"edge2\" class=\"edge\">\n",
       "<title>Smoking Gene-&gt;Smoking</title>\n",
       "<path fill=\"none\" stroke=\"#4a4a4a\" stroke-dasharray=\"5,2\" d=\"M80.07,-143.87C77.84,-140.53 69.98,-128.78 62.24,-117.21\"/>\n",
       "<polygon fill=\"#4a4a4a\" stroke=\"#4a4a4a\" points=\"65.19,-115.34 56.72,-108.97 59.38,-119.23 65.19,-115.34\"/>\n",
       "</g>\n",
       "<!-- Lung Cancer -->\n",
       "<g id=\"node3\" class=\"node\">\n",
       "<title>Lung Cancer</title>\n",
       "<ellipse fill=\"#404040\" stroke=\"#4a4a4a\" cx=\"80.7\" cy=\"-18\" rx=\"59.03\" ry=\"18\"/>\n",
       "<text text-anchor=\"middle\" x=\"80.7\" y=\"-12.95\" font-family=\"Times,serif\" font-size=\"14.00\" fill=\"white\">Lung Cancer</text>\n",
       "</g>\n",
       "<!-- Smoking Gene&#45;&gt;Lung Cancer -->\n",
       "<g id=\"edge3\" class=\"edge\">\n",
       "<title>Smoking Gene-&gt;Lung Cancer</title>\n",
       "<path fill=\"none\" stroke=\"#4a4a4a\" stroke-dasharray=\"5,2\" d=\"M81.46,-143.73C84.41,-139.47 95.17,-123.24 98.7,-108 103.42,-87.59 98.39,-64.39 92.46,-46.79\"/>\n",
       "<polygon fill=\"#4a4a4a\" stroke=\"#4a4a4a\" points=\"95.79,-45.71 89.05,-37.54 89.23,-48.14 95.79,-45.71\"/>\n",
       "</g>\n",
       "<!-- Smoking&#45;&gt;Lung Cancer -->\n",
       "<g id=\"edge1\" class=\"edge\">\n",
       "<title>Smoking-&gt;Lung Cancer</title>\n",
       "<path fill=\"none\" stroke=\"#4a4a4a\" d=\"M52.52,-71.6C56.49,-63.89 61.28,-54.57 65.74,-45.91\"/>\n",
       "<path fill=\"none\" stroke=\"#4a4a4a\" d=\"M54.3,-72.51C58.27,-64.8 63.06,-55.48 67.51,-46.82\"/>\n",
       "<polygon fill=\"#4a4a4a\" stroke=\"#4a4a4a\" points=\"69.66,-48.11 71.12,-37.62 63.44,-44.91 69.66,-48.11\"/>\n",
       "</g>\n",
       "</g>\n",
       "</svg><br><center><small><em>Causal Model</em></small></center></div><div class=\"floating-box\">Hedge Error: G={'Lung Cancer', 'Smoking'}, G[S]={'Lung Cancer'}<br><center><small><em>Impossible</em></small></center></div><div class=\"floating-box\">No result<br><center><small><em>Impact</em></small></center></div>"
      ],
      "text/plain": [
       "<IPython.core.display.HTML object>"
      ]
     },
     "metadata": {},
     "output_type": "display_data"
    }
   ],
   "source": [
    "msc = csl.CausalModel(sc, [(\"Smoking Gene\", [\"Smoking\",\"Lung Cancer\"])], True)\n",
    "cslnb.showCausalImpact(msc, \"Lung Cancer\", doing=\"Smoking\",values={})"
   ]
  },
  {
   "cell_type": "markdown",
   "metadata": {
    "editable": true,
    "slideshow": {
     "slide_type": ""
    },
    "tags": []
   },
   "source": [
    "### Front door criterion:"
   ]
  },
  {
   "cell_type": "markdown",
   "metadata": {
    "editable": true,
    "slideshow": {
     "slide_type": ""
    },
    "tags": []
   },
   "source": [
    "> Let's suppose now that smoking causes cancer only through tar deposits that are fully due to the physical action of cigarettes, the causal diagram becomes:"
   ]
  },
  {
   "cell_type": "code",
   "execution_count": 5,
   "metadata": {
    "execution": {
     "iopub.execute_input": "2025-03-24T10:37:31.449095Z",
     "iopub.status.busy": "2025-03-24T10:37:31.449002Z",
     "iopub.status.idle": "2025-03-24T10:37:31.548381Z",
     "shell.execute_reply": "2025-03-24T10:37:31.547981Z",
     "shell.execute_reply.started": "2025-03-24T10:37:31.449087Z"
    }
   },
   "outputs": [
    {
     "data": {
      "text/html": [
       "<svg xmlns=\"http://www.w3.org/2000/svg\" xmlns:xlink=\"http://www.w3.org/1999/xlink\" width=\"126pt\" height=\"188pt\" viewBox=\"0.00 0.00 126.06 188.00\">\n",
       "<g id=\"graph0\" class=\"graph\" transform=\"scale(1 1) rotate(0) translate(4 184)\">\n",
       "<title>G</title>\n",
       "<!-- Lung Cancer -->\n",
       "<g id=\"node1\" class=\"node\">\n",
       "<title>Lung Cancer</title>\n",
       "<g id=\"a_node1\"><a xlink:title=\"(2) Lung Cancer\">\n",
       "<ellipse fill=\"#404040\" stroke=\"#4a4a4a\" cx=\"59.03\" cy=\"-18\" rx=\"59.03\" ry=\"18\"/>\n",
       "<text text-anchor=\"middle\" x=\"59.03\" y=\"-12.95\" font-family=\"Times,serif\" font-size=\"14.00\" fill=\"white\">Lung Cancer</text>\n",
       "</a>\n",
       "</g>\n",
       "</g>\n",
       "<!-- Tar -->\n",
       "<g id=\"node2\" class=\"node\">\n",
       "<title>Tar</title>\n",
       "<g id=\"a_node2\"><a xlink:title=\"(1) Tar\">\n",
       "<ellipse fill=\"#404040\" stroke=\"#4a4a4a\" cx=\"59.03\" cy=\"-90\" rx=\"27\" ry=\"18\"/>\n",
       "<text text-anchor=\"middle\" x=\"59.03\" y=\"-84.95\" font-family=\"Times,serif\" font-size=\"14.00\" fill=\"white\">Tar</text>\n",
       "</a>\n",
       "</g>\n",
       "</g>\n",
       "<!-- Tar&#45;&gt;Lung Cancer -->\n",
       "<g id=\"edge2\" class=\"edge\">\n",
       "<title>Tar-&gt;Lung Cancer</title>\n",
       "<g id=\"a_edge2\"><a xlink:title=\"1 → 2\">\n",
       "<path fill=\"none\" stroke=\"#4a4a4a\" d=\"M59.03,-71.7C59.03,-64.41 59.03,-55.73 59.03,-47.54\"/>\n",
       "<polygon fill=\"#4a4a4a\" stroke=\"#4a4a4a\" points=\"62.53,-47.62 59.03,-37.62 55.53,-47.62 62.53,-47.62\"/>\n",
       "</a>\n",
       "</g>\n",
       "</g>\n",
       "<!-- Smoking -->\n",
       "<g id=\"node3\" class=\"node\">\n",
       "<title>Smoking</title>\n",
       "<g id=\"a_node3\"><a xlink:title=\"(0) Smoking\">\n",
       "<ellipse fill=\"#404040\" stroke=\"#4a4a4a\" cx=\"59.03\" cy=\"-162\" rx=\"44.7\" ry=\"18\"/>\n",
       "<text text-anchor=\"middle\" x=\"59.03\" y=\"-156.95\" font-family=\"Times,serif\" font-size=\"14.00\" fill=\"white\">Smoking</text>\n",
       "</a>\n",
       "</g>\n",
       "</g>\n",
       "<!-- Smoking&#45;&gt;Tar -->\n",
       "<g id=\"edge1\" class=\"edge\">\n",
       "<title>Smoking-&gt;Tar</title>\n",
       "<g id=\"a_edge1\"><a xlink:title=\"0 → 1\">\n",
       "<path fill=\"none\" stroke=\"#4a4a4a\" d=\"M59.03,-143.7C59.03,-136.41 59.03,-127.73 59.03,-119.54\"/>\n",
       "<polygon fill=\"#4a4a4a\" stroke=\"#4a4a4a\" points=\"62.53,-119.62 59.03,-109.62 55.53,-119.62 62.53,-119.62\"/>\n",
       "</a>\n",
       "</g>\n",
       "</g>\n",
       "</g>\n",
       "</svg>"
      ],
      "text/plain": [
       "(pyagrum.BayesNet@0x1602fcc00) BN{nodes: 3, arcs: 2, domainSize: 8, dim: 5, mem: 80o}"
      ]
     },
     "execution_count": 5,
     "metadata": {},
     "output_type": "execute_result"
    }
   ],
   "source": [
    "sct = gum.fastBN(\"Smoking->Tar->Lung Cancer\")\n",
    "sct"
   ]
  },
  {
   "cell_type": "code",
   "execution_count": 6,
   "metadata": {
    "editable": true,
    "execution": {
     "iopub.execute_input": "2025-03-24T10:37:31.550392Z",
     "iopub.status.busy": "2025-03-24T10:37:31.550254Z",
     "iopub.status.idle": "2025-03-24T10:37:31.658744Z",
     "shell.execute_reply": "2025-03-24T10:37:31.658432Z",
     "shell.execute_reply.started": "2025-03-24T10:37:31.550380Z"
    },
    "slideshow": {
     "slide_type": ""
    },
    "tags": [
     "nbsphinx-thumbnail"
    ]
   },
   "outputs": [
    {
     "data": {
      "image/svg+xml": [
       "<svg xmlns=\"http://www.w3.org/2000/svg\" xmlns:xlink=\"http://www.w3.org/1999/xlink\" width=\"148pt\" height=\"228pt\" viewBox=\"0.00 0.00 147.73 227.60\">\n",
       "<g id=\"graph0\" class=\"graph\" transform=\"scale(1 1) rotate(0) translate(4 223.6)\">\n",
       "<title>G</title>\n",
       "<!-- Smoking Gene -->\n",
       "<g id=\"node1\" class=\"node\">\n",
       "<title>Smoking Gene</title>\n",
       "<ellipse fill=\"#404040\" stroke=\"#4a4a4a\" cx=\"80.7\" cy=\"-217.8\" rx=\"1.8\" ry=\"1.8\"/>\n",
       "</g>\n",
       "<!-- Smoking -->\n",
       "<g id=\"node2\" class=\"node\">\n",
       "<title>Smoking</title>\n",
       "<ellipse fill=\"#404040\" stroke=\"#4a4a4a\" cx=\"44.7\" cy=\"-162\" rx=\"44.7\" ry=\"18\"/>\n",
       "<text text-anchor=\"middle\" x=\"44.7\" y=\"-156.95\" font-family=\"Times,serif\" font-size=\"14.00\" fill=\"white\">Smoking</text>\n",
       "</g>\n",
       "<!-- Smoking Gene&#45;&gt;Smoking -->\n",
       "<g id=\"edge4\" class=\"edge\">\n",
       "<title>Smoking Gene-&gt;Smoking</title>\n",
       "<path fill=\"none\" stroke=\"#4a4a4a\" stroke-dasharray=\"5,2\" d=\"M80.07,-215.87C77.84,-212.53 69.98,-200.78 62.24,-189.21\"/>\n",
       "<polygon fill=\"#4a4a4a\" stroke=\"#4a4a4a\" points=\"65.19,-187.34 56.72,-180.97 59.38,-191.23 65.19,-187.34\"/>\n",
       "</g>\n",
       "<!-- Lung Cancer -->\n",
       "<g id=\"node4\" class=\"node\">\n",
       "<title>Lung Cancer</title>\n",
       "<ellipse fill=\"#404040\" stroke=\"#4a4a4a\" cx=\"80.7\" cy=\"-18\" rx=\"59.03\" ry=\"18\"/>\n",
       "<text text-anchor=\"middle\" x=\"80.7\" y=\"-12.95\" font-family=\"Times,serif\" font-size=\"14.00\" fill=\"white\">Lung Cancer</text>\n",
       "</g>\n",
       "<!-- Smoking Gene&#45;&gt;Lung Cancer -->\n",
       "<g id=\"edge2\" class=\"edge\">\n",
       "<title>Smoking Gene-&gt;Lung Cancer</title>\n",
       "<path fill=\"none\" stroke=\"#4a4a4a\" stroke-dasharray=\"5,2\" d=\"M81.46,-215.73C84.41,-211.47 95.17,-195.24 98.7,-180 109.32,-134.12 98.35,-79.38 89.48,-47\"/>\n",
       "<polygon fill=\"#4a4a4a\" stroke=\"#4a4a4a\" points=\"92.91,-46.24 86.78,-37.59 86.18,-48.17 92.91,-46.24\"/>\n",
       "</g>\n",
       "<!-- Tar -->\n",
       "<g id=\"node3\" class=\"node\">\n",
       "<title>Tar</title>\n",
       "<ellipse fill=\"#404040\" stroke=\"#4a4a4a\" cx=\"53.7\" cy=\"-90\" rx=\"27\" ry=\"18\"/>\n",
       "<text text-anchor=\"middle\" x=\"53.7\" y=\"-84.95\" font-family=\"Times,serif\" font-size=\"14.00\" fill=\"white\">Tar</text>\n",
       "</g>\n",
       "<!-- Smoking&#45;&gt;Tar -->\n",
       "<g id=\"edge1\" class=\"edge\">\n",
       "<title>Smoking-&gt;Tar</title>\n",
       "<path fill=\"none\" stroke=\"#4a4a4a\" d=\"M45.93,-143.57C46.88,-136.19 48.01,-127.4 49.07,-119.12\"/>\n",
       "<path fill=\"none\" stroke=\"#4a4a4a\" d=\"M47.91,-143.82C48.86,-136.45 49.99,-127.65 51.06,-119.38\"/>\n",
       "<polygon fill=\"#4a4a4a\" stroke=\"#4a4a4a\" points=\"53.5,-119.97 51.31,-109.61 46.56,-119.08 53.5,-119.97\"/>\n",
       "</g>\n",
       "<!-- Tar&#45;&gt;Lung Cancer -->\n",
       "<g id=\"edge3\" class=\"edge\">\n",
       "<title>Tar-&gt;Lung Cancer</title>\n",
       "<path fill=\"none\" stroke=\"#4a4a4a\" d=\"M59.3,-71.7C62.21,-64.16 65.71,-55.08 68.99,-46.58\"/>\n",
       "<path fill=\"none\" stroke=\"#4a4a4a\" d=\"M61.17,-72.41C64.08,-64.87 67.58,-55.8 70.86,-47.3\"/>\n",
       "<polygon fill=\"#4a4a4a\" stroke=\"#4a4a4a\" points=\"73.16,-48.28 73.49,-37.69 66.63,-45.76 73.16,-48.28\"/>\n",
       "</g>\n",
       "</g>\n",
       "</svg>"
      ],
      "text/plain": [
       "<IPython.core.display.SVG object>"
      ]
     },
     "metadata": {},
     "output_type": "display_data"
    }
   ],
   "source": [
    "msct = csl.CausalModel(sct, [(\"Smoking Gene\", [\"Smoking\",\"Lung Cancer\"])], True)\n",
    "gnb.show(msct)"
   ]
  },
  {
   "cell_type": "code",
   "execution_count": 7,
   "metadata": {
    "editable": true,
    "execution": {
     "iopub.execute_input": "2025-03-24T10:37:31.659553Z",
     "iopub.status.busy": "2025-03-24T10:37:31.659444Z",
     "iopub.status.idle": "2025-03-24T10:37:31.768426Z",
     "shell.execute_reply": "2025-03-24T10:37:31.768054Z",
     "shell.execute_reply.started": "2025-03-24T10:37:31.659544Z"
    },
    "slideshow": {
     "slide_type": ""
    },
    "tags": []
   },
   "outputs": [
    {
     "data": {
      "text/html": [
       "\n",
       "      <style>\n",
       "      .floating-box {\n",
       "      display: inline-block;\n",
       "      margin: 7px;\n",
       "      padding : 3px;\n",
       "      border: 0px solid transparent;  \n",
       "      valign:middle;\n",
       "      background-color: transparent;\n",
       "      }\n",
       "      </style>\n",
       "      <div class=\"floating-box\"><svg xmlns=\"http://www.w3.org/2000/svg\" xmlns:xlink=\"http://www.w3.org/1999/xlink\" width=\"117pt\" height=\"180pt\" viewBox=\"0.00 0.00 116.83 180.00\">\n",
       "<g id=\"graph0\" class=\"graph\" transform=\"scale(0.790861 0.790861) rotate(0) translate(4 223.6)\">\n",
       "<title>G</title>\n",
       "<!-- Smoking Gene -->\n",
       "<g id=\"node1\" class=\"node\">\n",
       "<title>Smoking Gene</title>\n",
       "<ellipse fill=\"#404040\" stroke=\"#4a4a4a\" cx=\"80.7\" cy=\"-217.8\" rx=\"1.8\" ry=\"1.8\"/>\n",
       "</g>\n",
       "<!-- Smoking -->\n",
       "<g id=\"node2\" class=\"node\">\n",
       "<title>Smoking</title>\n",
       "<ellipse fill=\"#404040\" stroke=\"#4a4a4a\" cx=\"44.7\" cy=\"-162\" rx=\"44.7\" ry=\"18\"/>\n",
       "<text text-anchor=\"middle\" x=\"44.7\" y=\"-156.95\" font-family=\"Times,serif\" font-size=\"14.00\" fill=\"white\">Smoking</text>\n",
       "</g>\n",
       "<!-- Smoking Gene&#45;&gt;Smoking -->\n",
       "<g id=\"edge4\" class=\"edge\">\n",
       "<title>Smoking Gene-&gt;Smoking</title>\n",
       "<path fill=\"none\" stroke=\"#4a4a4a\" stroke-dasharray=\"5,2\" d=\"M80.07,-215.87C77.84,-212.53 69.98,-200.78 62.24,-189.21\"/>\n",
       "<polygon fill=\"#4a4a4a\" stroke=\"#4a4a4a\" points=\"65.19,-187.34 56.72,-180.97 59.38,-191.23 65.19,-187.34\"/>\n",
       "</g>\n",
       "<!-- Lung Cancer -->\n",
       "<g id=\"node4\" class=\"node\">\n",
       "<title>Lung Cancer</title>\n",
       "<ellipse fill=\"#404040\" stroke=\"#4a4a4a\" cx=\"80.7\" cy=\"-18\" rx=\"59.03\" ry=\"18\"/>\n",
       "<text text-anchor=\"middle\" x=\"80.7\" y=\"-12.95\" font-family=\"Times,serif\" font-size=\"14.00\" fill=\"white\">Lung Cancer</text>\n",
       "</g>\n",
       "<!-- Smoking Gene&#45;&gt;Lung Cancer -->\n",
       "<g id=\"edge2\" class=\"edge\">\n",
       "<title>Smoking Gene-&gt;Lung Cancer</title>\n",
       "<path fill=\"none\" stroke=\"#4a4a4a\" stroke-dasharray=\"5,2\" d=\"M81.46,-215.73C84.41,-211.47 95.17,-195.24 98.7,-180 109.32,-134.12 98.35,-79.38 89.48,-47\"/>\n",
       "<polygon fill=\"#4a4a4a\" stroke=\"#4a4a4a\" points=\"92.91,-46.24 86.78,-37.59 86.18,-48.17 92.91,-46.24\"/>\n",
       "</g>\n",
       "<!-- Tar -->\n",
       "<g id=\"node3\" class=\"node\">\n",
       "<title>Tar</title>\n",
       "<ellipse fill=\"#404040\" stroke=\"#4a4a4a\" cx=\"53.7\" cy=\"-90\" rx=\"27\" ry=\"18\"/>\n",
       "<text text-anchor=\"middle\" x=\"53.7\" y=\"-84.95\" font-family=\"Times,serif\" font-size=\"14.00\" fill=\"white\">Tar</text>\n",
       "</g>\n",
       "<!-- Smoking&#45;&gt;Tar -->\n",
       "<g id=\"edge1\" class=\"edge\">\n",
       "<title>Smoking-&gt;Tar</title>\n",
       "<path fill=\"none\" stroke=\"#4a4a4a\" d=\"M45.93,-143.57C46.88,-136.19 48.01,-127.4 49.07,-119.12\"/>\n",
       "<path fill=\"none\" stroke=\"#4a4a4a\" d=\"M47.91,-143.82C48.86,-136.45 49.99,-127.65 51.06,-119.38\"/>\n",
       "<polygon fill=\"#4a4a4a\" stroke=\"#4a4a4a\" points=\"53.5,-119.97 51.31,-109.61 46.56,-119.08 53.5,-119.97\"/>\n",
       "</g>\n",
       "<!-- Tar&#45;&gt;Lung Cancer -->\n",
       "<g id=\"edge3\" class=\"edge\">\n",
       "<title>Tar-&gt;Lung Cancer</title>\n",
       "<path fill=\"none\" stroke=\"#4a4a4a\" d=\"M59.3,-71.7C62.21,-64.16 65.71,-55.08 68.99,-46.58\"/>\n",
       "<path fill=\"none\" stroke=\"#4a4a4a\" d=\"M61.17,-72.41C64.08,-64.87 67.58,-55.8 70.86,-47.3\"/>\n",
       "<polygon fill=\"#4a4a4a\" stroke=\"#4a4a4a\" points=\"73.16,-48.28 73.49,-37.69 66.63,-45.76 73.16,-48.28\"/>\n",
       "</g>\n",
       "</g>\n",
       "</svg><br><center><small><em>Causal Model</em></small></center></div><div class=\"floating-box\">$$\\begin{equation*}P( Lung Cancer \\mid \\text{do}(Smoking)) = \\sum_{Tar}{P\\left(Tar\\mid Smoking\\right) \\cdot \\left(\\sum_{Smoking'}{P\\left(Lung Cancer\\mid Smoking',Tar\\right) \\cdot P\\left(Smoking'\\right)}\\right)}\\end{equation*}$$<br><center><small><em>Explanation : frontdoor ['Tar'] found.</em></small></center></div><div class=\"floating-box\"><table style=\"border:1px solid black;border-collapse: collapse;\">\n",
       "<tr><th colspan='1'></th>\n",
       "      <th colspan='2' style='border:1px solid black;color:black;background-color:#808080;'><center>Lung Cancer</center>\n",
       "      </th></tr>\n",
       "<tr><th style='border:1px solid black;color:black;background-color:#808080'><center>Smoking</center></th><th style='border:1px solid black;border-bottom-style: double;color:black;background-color:#BBBBBB'>\n",
       "      <center>0</center></th><th style='border:1px solid black;border-bottom-style: double;color:black;background-color:#BBBBBB'>\n",
       "      <center>1</center></th></tr>\n",
       "<tr><th style='border:1px solid black;color:black;background-color:#BBBBBB'><center>0</center></th><td style='color:black;background-color:#b4c964;text-align:right;padding: 3px;'>0.5834</td><td style='color:black;background-color:#c9b464;text-align:right;padding: 3px;'>0.4166</td></tr>\n",
       "<tr><th style='border:1px solid black;color:black;background-color:#BBBBBB'><center>1</center></th><td style='color:black;background-color:#b4c964;text-align:right;padding: 3px;'>0.5803</td><td style='color:black;background-color:#c9b464;text-align:right;padding: 3px;'>0.4197</td></tr>\n",
       "</table><br><center><small><em>Impact</em></small></center></div>"
      ],
      "text/plain": [
       "<IPython.core.display.HTML object>"
      ]
     },
     "metadata": {},
     "output_type": "display_data"
    }
   ],
   "source": [
    "cslnb.showCausalImpact(msct, \"Lung Cancer\", doing=\"Smoking\",values={})"
   ]
  },
  {
   "cell_type": "markdown",
   "metadata": {},
   "source": [
    "> Even if the smoking gene is unobservable, we can assess the causal effect of Smoking on Lung Cancer using the front-door method. In this case, the front-door is: $$Smoking \\rightarrow \\color{red}{Tar} \\rightarrow LungCancer$$\n",
    "It consists of variables that we have observed:"
   ]
  },
  {
   "cell_type": "markdown",
   "metadata": {},
   "source": [
    "* We can measure the causal effect of $Smoking$ on $Tar$, there are no open back-doors between the two ($Tar \\leftarrow  Smoking \\rightarrow SmokingGene \\leftarrow LungCancer$ is blocked by the collider node $LungCancer$)\n",
    "$$P(Tar \\mid do(Smoking)) = P (Tar \\mid Smoking) $$"
   ]
  },
  {
   "cell_type": "code",
   "execution_count": 8,
   "metadata": {
    "execution": {
     "iopub.execute_input": "2025-03-24T10:37:31.768940Z",
     "iopub.status.busy": "2025-03-24T10:37:31.768856Z",
     "iopub.status.idle": "2025-03-24T10:37:31.772034Z",
     "shell.execute_reply": "2025-03-24T10:37:31.771780Z",
     "shell.execute_reply.started": "2025-03-24T10:37:31.768931Z"
    }
   },
   "outputs": [
    {
     "data": {
      "text/latex": [
       "$\\displaystyle P( Tar \\mid \\text{do}(Smoking)) = P\\left(Tar\\mid Smoking\\right)$"
      ],
      "text/plain": [
       "<IPython.core.display.Math object>"
      ]
     },
     "metadata": {},
     "output_type": "display_data"
    }
   ],
   "source": [
    "formula, adj, exp = csl.causalImpact(msct,on = \"Tar\",doing = \"Smoking\",values = {})\n",
    "display(Math(formula.toLatex()))"
   ]
  },
  {
   "cell_type": "markdown",
   "metadata": {},
   "source": [
    "* We can measure the causal effect of $Tar$ on $LungCancer$, we just need to adjust for the $Smoking$  to block the \"back-door path\" $ Tar \\leftarrow Smoking \\leftarrow SmokingGene \\rightarrow LungCancer$\n",
    "$$P(LungCancer \\mid do(Tar)) = \\sum_{Smoking}{P(LungCancer \\mid Tar, Smoking) \\times P(Smoking)}$$"
   ]
  },
  {
   "cell_type": "code",
   "execution_count": 9,
   "metadata": {
    "execution": {
     "iopub.execute_input": "2025-03-24T10:37:31.772562Z",
     "iopub.status.busy": "2025-03-24T10:37:31.772482Z",
     "iopub.status.idle": "2025-03-24T10:37:31.775640Z",
     "shell.execute_reply": "2025-03-24T10:37:31.775440Z",
     "shell.execute_reply.started": "2025-03-24T10:37:31.772554Z"
    }
   },
   "outputs": [
    {
     "data": {
      "text/latex": [
       "$\\displaystyle P( Lung Cancer \\mid \\text{do}(Tar)) = \\sum_{Smoking}{P\\left(Lung Cancer\\mid Smoking,Tar\\right) \\cdot P\\left(Smoking\\right)}$"
      ],
      "text/plain": [
       "<IPython.core.display.Math object>"
      ]
     },
     "metadata": {},
     "output_type": "display_data"
    }
   ],
   "source": [
    "formula, adj, exp = csl.causalImpact(msct,on = \"Lung Cancer\",doing = \"Tar\",values = {})\n",
    "display(Math(formula.toLatex()))"
   ]
  },
  {
   "cell_type": "markdown",
   "metadata": {},
   "source": [
    "We can now combine these two pieces of information to have the causal effect of $Smoking$ on $LungCancer$ and reduce the expression of $P(LungCancer \\mid do(Smoking))$ to elements that we observed:\n",
    "$$ P(LungCancer \\mid do(Smoking)) = \\sum_{Tar}{(P(Tar \\mid Smoking) \\times \\sum_{Smoking^{'}}{P(LungCancer \\mid Tar, Smoking^{'}) \\times P(Smoking^{'})})} $$"
   ]
  },
  {
   "cell_type": "markdown",
   "metadata": {
    "editable": true,
    "slideshow": {
     "slide_type": ""
    },
    "tags": []
   },
   "source": [
    "## Birth-weight paradox:"
   ]
  },
  {
   "cell_type": "markdown",
   "metadata": {
    "editable": true,
    "slideshow": {
     "slide_type": ""
    },
    "tags": []
   },
   "source": [
    "> Studies have shown that babies of smoking mothers tend to weigh less than average. Other studies have shown that low-birth-weight babies have a higher mortality rate than normal-birth-weight babies. The corresponding causal diagram is the following causal:"
   ]
  },
  {
   "cell_type": "code",
   "execution_count": 10,
   "metadata": {
    "execution": {
     "iopub.execute_input": "2025-03-24T10:37:31.776081Z",
     "iopub.status.busy": "2025-03-24T10:37:31.775995Z",
     "iopub.status.idle": "2025-03-24T10:37:31.871473Z",
     "shell.execute_reply": "2025-03-24T10:37:31.871052Z",
     "shell.execute_reply.started": "2025-03-24T10:37:31.776073Z"
    }
   },
   "outputs": [
    {
     "data": {
      "text/html": [
       "<svg xmlns=\"http://www.w3.org/2000/svg\" xmlns:xlink=\"http://www.w3.org/1999/xlink\" width=\"165pt\" height=\"188pt\" viewBox=\"0.00 0.00 164.95 188.00\">\n",
       "<g id=\"graph0\" class=\"graph\" transform=\"scale(1 1) rotate(0) translate(4 184)\">\n",
       "<title>G</title>\n",
       "<!-- Low Birth Weight -->\n",
       "<g id=\"node1\" class=\"node\">\n",
       "<title>Low Birth Weight</title>\n",
       "<g id=\"a_node1\"><a xlink:title=\"(1) Low Birth Weight\">\n",
       "<ellipse fill=\"#404040\" stroke=\"#4a4a4a\" cx=\"78.48\" cy=\"-90\" rx=\"78.48\" ry=\"18\"/>\n",
       "<text text-anchor=\"middle\" x=\"78.48\" y=\"-84.95\" font-family=\"Times,serif\" font-size=\"14.00\" fill=\"white\">Low Birth Weight</text>\n",
       "</a>\n",
       "</g>\n",
       "</g>\n",
       "<!-- Mortality -->\n",
       "<g id=\"node2\" class=\"node\">\n",
       "<title>Mortality</title>\n",
       "<g id=\"a_node2\"><a xlink:title=\"(2) Mortality\">\n",
       "<ellipse fill=\"#404040\" stroke=\"#4a4a4a\" cx=\"78.48\" cy=\"-18\" rx=\"46.23\" ry=\"18\"/>\n",
       "<text text-anchor=\"middle\" x=\"78.48\" y=\"-12.95\" font-family=\"Times,serif\" font-size=\"14.00\" fill=\"white\">Mortality</text>\n",
       "</a>\n",
       "</g>\n",
       "</g>\n",
       "<!-- Low Birth Weight&#45;&gt;Mortality -->\n",
       "<g id=\"edge2\" class=\"edge\">\n",
       "<title>Low Birth Weight-&gt;Mortality</title>\n",
       "<g id=\"a_edge2\"><a xlink:title=\"1 → 2\">\n",
       "<path fill=\"none\" stroke=\"#4a4a4a\" d=\"M78.48,-71.7C78.48,-64.41 78.48,-55.73 78.48,-47.54\"/>\n",
       "<polygon fill=\"#4a4a4a\" stroke=\"#4a4a4a\" points=\"81.98,-47.62 78.48,-37.62 74.98,-47.62 81.98,-47.62\"/>\n",
       "</a>\n",
       "</g>\n",
       "</g>\n",
       "<!-- Smoking -->\n",
       "<g id=\"node3\" class=\"node\">\n",
       "<title>Smoking</title>\n",
       "<g id=\"a_node3\"><a xlink:title=\"(0) Smoking\">\n",
       "<ellipse fill=\"#404040\" stroke=\"#4a4a4a\" cx=\"78.48\" cy=\"-162\" rx=\"44.7\" ry=\"18\"/>\n",
       "<text text-anchor=\"middle\" x=\"78.48\" y=\"-156.95\" font-family=\"Times,serif\" font-size=\"14.00\" fill=\"white\">Smoking</text>\n",
       "</a>\n",
       "</g>\n",
       "</g>\n",
       "<!-- Smoking&#45;&gt;Low Birth Weight -->\n",
       "<g id=\"edge1\" class=\"edge\">\n",
       "<title>Smoking-&gt;Low Birth Weight</title>\n",
       "<g id=\"a_edge1\"><a xlink:title=\"0 → 1\">\n",
       "<path fill=\"none\" stroke=\"#4a4a4a\" d=\"M78.48,-143.7C78.48,-136.41 78.48,-127.73 78.48,-119.54\"/>\n",
       "<polygon fill=\"#4a4a4a\" stroke=\"#4a4a4a\" points=\"81.98,-119.62 78.48,-109.62 74.98,-119.62 81.98,-119.62\"/>\n",
       "</a>\n",
       "</g>\n",
       "</g>\n",
       "</g>\n",
       "</svg>"
      ],
      "text/plain": [
       "(pyagrum.BayesNet@0x132941a00) BN{nodes: 3, arcs: 2, domainSize: 8, dim: 5, mem: 80o}"
      ]
     },
     "execution_count": 10,
     "metadata": {},
     "output_type": "execute_result"
    }
   ],
   "source": [
    "bwp = gum.fastBN(\"Smoking->Low Birth Weight->Mortality\")\n",
    "bwp"
   ]
  },
  {
   "cell_type": "code",
   "execution_count": 11,
   "metadata": {
    "execution": {
     "iopub.execute_input": "2025-03-24T10:37:31.872209Z",
     "iopub.status.busy": "2025-03-24T10:37:31.872116Z",
     "iopub.status.idle": "2025-03-24T10:37:31.974200Z",
     "shell.execute_reply": "2025-03-24T10:37:31.973884Z",
     "shell.execute_reply.started": "2025-03-24T10:37:31.872199Z"
    }
   },
   "outputs": [
    {
     "data": {
      "text/html": [
       "\n",
       "      <style>\n",
       "      .floating-box {\n",
       "      display: inline-block;\n",
       "      margin: 7px;\n",
       "      padding : 3px;\n",
       "      border: 0px solid transparent;  \n",
       "      valign:middle;\n",
       "      background-color: transparent;\n",
       "      }\n",
       "      </style>\n",
       "      <div class=\"floating-box\"><svg xmlns=\"http://www.w3.org/2000/svg\" xmlns:xlink=\"http://www.w3.org/1999/xlink\" width=\"158pt\" height=\"180pt\" viewBox=\"0.00 0.00 157.94 180.00\">\n",
       "<g id=\"graph0\" class=\"graph\" transform=\"scale(0.957447 0.957447) rotate(0) translate(4 184)\">\n",
       "<title>G</title>\n",
       "<!-- Smoking -->\n",
       "<g id=\"node1\" class=\"node\">\n",
       "<title>Smoking</title>\n",
       "<ellipse fill=\"#404040\" stroke=\"#4a4a4a\" cx=\"78.48\" cy=\"-162\" rx=\"44.7\" ry=\"18\"/>\n",
       "<text text-anchor=\"middle\" x=\"78.48\" y=\"-156.95\" font-family=\"Times,serif\" font-size=\"14.00\" fill=\"white\">Smoking</text>\n",
       "</g>\n",
       "<!-- Low Birth Weight -->\n",
       "<g id=\"node2\" class=\"node\">\n",
       "<title>Low Birth Weight</title>\n",
       "<ellipse fill=\"#404040\" stroke=\"#4a4a4a\" cx=\"78.48\" cy=\"-90\" rx=\"78.48\" ry=\"18\"/>\n",
       "<text text-anchor=\"middle\" x=\"78.48\" y=\"-84.95\" font-family=\"Times,serif\" font-size=\"14.00\" fill=\"white\">Low Birth Weight</text>\n",
       "</g>\n",
       "<!-- Smoking&#45;&gt;Low Birth Weight -->\n",
       "<g id=\"edge1\" class=\"edge\">\n",
       "<title>Smoking-&gt;Low Birth Weight</title>\n",
       "<path fill=\"none\" stroke=\"#4a4a4a\" d=\"M77.48,-143.7C77.48,-136.41 77.48,-127.73 77.48,-119.54\"/>\n",
       "<path fill=\"none\" stroke=\"#4a4a4a\" d=\"M79.48,-143.7C79.48,-136.41 79.48,-127.73 79.48,-119.54\"/>\n",
       "<polygon fill=\"#4a4a4a\" stroke=\"#4a4a4a\" points=\"81.98,-119.62 78.48,-109.62 74.98,-119.62 81.98,-119.62\"/>\n",
       "</g>\n",
       "<!-- Mortality -->\n",
       "<g id=\"node3\" class=\"node\">\n",
       "<title>Mortality</title>\n",
       "<ellipse fill=\"#404040\" stroke=\"#4a4a4a\" cx=\"78.48\" cy=\"-18\" rx=\"46.23\" ry=\"18\"/>\n",
       "<text text-anchor=\"middle\" x=\"78.48\" y=\"-12.95\" font-family=\"Times,serif\" font-size=\"14.00\" fill=\"white\">Mortality</text>\n",
       "</g>\n",
       "<!-- Low Birth Weight&#45;&gt;Mortality -->\n",
       "<g id=\"edge2\" class=\"edge\">\n",
       "<title>Low Birth Weight-&gt;Mortality</title>\n",
       "<path fill=\"none\" stroke=\"#4a4a4a\" d=\"M77.48,-71.7C77.48,-64.41 77.48,-55.73 77.48,-47.54\"/>\n",
       "<path fill=\"none\" stroke=\"#4a4a4a\" d=\"M79.48,-71.7C79.48,-64.41 79.48,-55.73 79.48,-47.54\"/>\n",
       "<polygon fill=\"#4a4a4a\" stroke=\"#4a4a4a\" points=\"81.98,-47.62 78.48,-37.62 74.98,-47.62 81.98,-47.62\"/>\n",
       "</g>\n",
       "</g>\n",
       "</svg><br><center><small><em>Causal Model</em></small></center></div><div class=\"floating-box\">$$\\begin{equation*}P( Mortality \\mid \\text{do}(Smoking)) = \\sum_{Low Birth Weight}{P\\left(Low Birth Weight\\mid Smoking\\right) \\cdot \\left(\\sum_{Smoking'}{P\\left(Mortality\\mid Low Birth Weight\\right) \\cdot P\\left(Smoking'\\right)}\\right)}\\end{equation*}$$<br><center><small><em>Explanation : frontdoor ['Low Birth Weight'] found.</em></small></center></div><div class=\"floating-box\"><table style=\"border:1px solid black;border-collapse: collapse;\">\n",
       "<tr><th colspan='1'></th>\n",
       "      <th colspan='2' style='border:1px solid black;color:black;background-color:#808080;'><center>Mortality</center>\n",
       "      </th></tr>\n",
       "<tr><th style='border:1px solid black;color:black;background-color:#808080'><center>Smoking</center></th><th style='border:1px solid black;border-bottom-style: double;color:black;background-color:#BBBBBB'>\n",
       "      <center>0</center></th><th style='border:1px solid black;border-bottom-style: double;color:black;background-color:#BBBBBB'>\n",
       "      <center>1</center></th></tr>\n",
       "<tr><th style='border:1px solid black;color:black;background-color:#BBBBBB'><center>0</center></th><td style='color:black;background-color:#b8c564;text-align:right;padding: 3px;'>0.5496</td><td style='color:black;background-color:#c5b864;text-align:right;padding: 3px;'>0.4504</td></tr>\n",
       "<tr><th style='border:1px solid black;color:black;background-color:#BBBBBB'><center>1</center></th><td style='color:black;background-color:#bcc164;text-align:right;padding: 3px;'>0.5228</td><td style='color:black;background-color:#c1bc64;text-align:right;padding: 3px;'>0.4772</td></tr>\n",
       "</table><br><center><small><em>Impact</em></small></center></div>"
      ],
      "text/plain": [
       "<IPython.core.display.HTML object>"
      ]
     },
     "metadata": {},
     "output_type": "display_data"
    }
   ],
   "source": [
    "# Causal effect of Smoking on neo-natal mortality\n",
    "bwpModele = csl.CausalModel(bwp)\n",
    "cslnb.showCausalImpact(bwpModele, \"Mortality\", doing=\"Smoking\",values={})"
   ]
  },
  {
   "cell_type": "markdown",
   "metadata": {},
   "source": [
    "> However the data also showed that low-birth-weight babies of smoker mothers had lower mortality rates than low-birth-weight babies of non-smoker mothers. <br>\n",
    "An explanation for this paradoxical situation is that low-birth-weight is either due to a smoking mother or to another birth defect that is much more threatening to the baby's health. The causal diagram becomes:"
   ]
  },
  {
   "cell_type": "code",
   "execution_count": 12,
   "metadata": {
    "execution": {
     "iopub.execute_input": "2025-03-24T10:37:31.974782Z",
     "iopub.status.busy": "2025-03-24T10:37:31.974689Z",
     "iopub.status.idle": "2025-03-24T10:37:32.072920Z",
     "shell.execute_reply": "2025-03-24T10:37:32.072563Z",
     "shell.execute_reply.started": "2025-03-24T10:37:31.974773Z"
    }
   },
   "outputs": [
    {
     "data": {
      "text/html": [
       "<svg xmlns=\"http://www.w3.org/2000/svg\" xmlns:xlink=\"http://www.w3.org/1999/xlink\" width=\"249pt\" height=\"188pt\" viewBox=\"0.00 0.00 248.63 188.00\">\n",
       "<g id=\"graph0\" class=\"graph\" transform=\"scale(1 1) rotate(0) translate(4 184)\">\n",
       "<title>G</title>\n",
       "<!-- Low Birth Weight -->\n",
       "<g id=\"node1\" class=\"node\">\n",
       "<title>Low Birth Weight</title>\n",
       "<g id=\"a_node1\"><a xlink:title=\"(1) Low Birth Weight\">\n",
       "<ellipse fill=\"#404040\" stroke=\"#4a4a4a\" cx=\"113.93\" cy=\"-90\" rx=\"78.48\" ry=\"18\"/>\n",
       "<text text-anchor=\"middle\" x=\"113.93\" y=\"-84.95\" font-family=\"Times,serif\" font-size=\"14.00\" fill=\"white\">Low Birth Weight</text>\n",
       "</a>\n",
       "</g>\n",
       "</g>\n",
       "<!-- Mortality -->\n",
       "<g id=\"node2\" class=\"node\">\n",
       "<title>Mortality</title>\n",
       "<g id=\"a_node2\"><a xlink:title=\"(2) Mortality\">\n",
       "<ellipse fill=\"#404040\" stroke=\"#4a4a4a\" cx=\"113.93\" cy=\"-18\" rx=\"46.23\" ry=\"18\"/>\n",
       "<text text-anchor=\"middle\" x=\"113.93\" y=\"-12.95\" font-family=\"Times,serif\" font-size=\"14.00\" fill=\"white\">Mortality</text>\n",
       "</a>\n",
       "</g>\n",
       "</g>\n",
       "<!-- Low Birth Weight&#45;&gt;Mortality -->\n",
       "<g id=\"edge2\" class=\"edge\">\n",
       "<title>Low Birth Weight-&gt;Mortality</title>\n",
       "<g id=\"a_edge2\"><a xlink:title=\"1 → 2\">\n",
       "<path fill=\"none\" stroke=\"#4a4a4a\" d=\"M113.93,-71.7C113.93,-64.41 113.93,-55.73 113.93,-47.54\"/>\n",
       "<polygon fill=\"#4a4a4a\" stroke=\"#4a4a4a\" points=\"117.43,-47.62 113.93,-37.62 110.43,-47.62 117.43,-47.62\"/>\n",
       "</a>\n",
       "</g>\n",
       "</g>\n",
       "<!-- Birth defect -->\n",
       "<g id=\"node3\" class=\"node\">\n",
       "<title>Birth defect</title>\n",
       "<g id=\"a_node3\"><a xlink:title=\"(3) Birth defect\">\n",
       "<ellipse fill=\"#404040\" stroke=\"#4a4a4a\" cx=\"54.93\" cy=\"-162\" rx=\"54.93\" ry=\"18\"/>\n",
       "<text text-anchor=\"middle\" x=\"54.93\" y=\"-156.95\" font-family=\"Times,serif\" font-size=\"14.00\" fill=\"white\">Birth defect</text>\n",
       "</a>\n",
       "</g>\n",
       "</g>\n",
       "<!-- Birth defect&#45;&gt;Low Birth Weight -->\n",
       "<g id=\"edge3\" class=\"edge\">\n",
       "<title>Birth defect-&gt;Low Birth Weight</title>\n",
       "<g id=\"a_edge3\"><a xlink:title=\"3 → 1\">\n",
       "<path fill=\"none\" stroke=\"#4a4a4a\" d=\"M68.92,-144.41C75.94,-136.08 84.61,-125.8 92.45,-116.49\"/>\n",
       "<polygon fill=\"#4a4a4a\" stroke=\"#4a4a4a\" points=\"94.9,-119.02 98.67,-109.11 89.55,-114.5 94.9,-119.02\"/>\n",
       "</a>\n",
       "</g>\n",
       "</g>\n",
       "<!-- Birth defect&#45;&gt;Mortality -->\n",
       "<g id=\"edge5\" class=\"edge\">\n",
       "<title>Birth defect-&gt;Mortality</title>\n",
       "<g id=\"a_edge5\"><a xlink:title=\"3 → 2\">\n",
       "<path fill=\"none\" stroke=\"#4a4a4a\" d=\"M41.87,-144.09C29.26,-125.54 13.84,-95.3 26.93,-72 36.26,-55.4 53.13,-43.39 69.54,-35.04\"/>\n",
       "<polygon fill=\"#4a4a4a\" stroke=\"#4a4a4a\" points=\"70.7,-38.37 78.27,-30.95 67.73,-32.03 70.7,-38.37\"/>\n",
       "</a>\n",
       "</g>\n",
       "</g>\n",
       "<!-- Smoking -->\n",
       "<g id=\"node4\" class=\"node\">\n",
       "<title>Smoking</title>\n",
       "<g id=\"a_node4\"><a xlink:title=\"(0) Smoking\">\n",
       "<ellipse fill=\"#404040\" stroke=\"#4a4a4a\" cx=\"195.93\" cy=\"-162\" rx=\"44.7\" ry=\"18\"/>\n",
       "<text text-anchor=\"middle\" x=\"195.93\" y=\"-156.95\" font-family=\"Times,serif\" font-size=\"14.00\" fill=\"white\">Smoking</text>\n",
       "</a>\n",
       "</g>\n",
       "</g>\n",
       "<!-- Smoking&#45;&gt;Low Birth Weight -->\n",
       "<g id=\"edge1\" class=\"edge\">\n",
       "<title>Smoking-&gt;Low Birth Weight</title>\n",
       "<g id=\"a_edge1\"><a xlink:title=\"0 → 1\">\n",
       "<path fill=\"none\" stroke=\"#4a4a4a\" d=\"M177.74,-145.46C167.28,-136.54 153.93,-125.14 142.15,-115.08\"/>\n",
       "<polygon fill=\"#4a4a4a\" stroke=\"#4a4a4a\" points=\"144.54,-112.53 134.66,-108.7 140,-117.85 144.54,-112.53\"/>\n",
       "</a>\n",
       "</g>\n",
       "</g>\n",
       "<!-- Smoking&#45;&gt;Mortality -->\n",
       "<g id=\"edge4\" class=\"edge\">\n",
       "<title>Smoking-&gt;Mortality</title>\n",
       "<g id=\"a_edge4\"><a xlink:title=\"0 → 2\">\n",
       "<path fill=\"none\" stroke=\"#4a4a4a\" d=\"M202.12,-143.7C207.75,-124.8 213.44,-94.26 200.93,-72 191.61,-55.4 174.74,-43.39 158.32,-35.04\"/>\n",
       "<polygon fill=\"#4a4a4a\" stroke=\"#4a4a4a\" points=\"160.14,-32.03 149.6,-30.95 157.17,-38.37 160.14,-32.03\"/>\n",
       "</a>\n",
       "</g>\n",
       "</g>\n",
       "</g>\n",
       "</svg>"
      ],
      "text/plain": [
       "(pyagrum.BayesNet@0x136a24e00) BN{nodes: 4, arcs: 5, domainSize: 16, dim: 14, mem: 224o}"
      ]
     },
     "execution_count": 12,
     "metadata": {},
     "output_type": "execute_result"
    }
   ],
   "source": [
    "bwpe = gum.fastBN(\"Smoking->Low Birth Weight->Mortality<-Smoking;Birth defect->Low Birth Weight;Mortality<-Birth defect\")\n",
    "bwpe"
   ]
  },
  {
   "cell_type": "markdown",
   "metadata": {},
   "source": [
    "> Pinpointing the source of this paradoxical situation becomes easy thanks to this causal diagram: \"collider bias\".\"Low Birth Weight\" is a collider! \n",
    "The data only concerned low-birth-weight babies (it is as if we are adjusting for \"Low Birth Weight.\"). Knowing that the mother doesn't smoke increases our belief that a birth defect is the cause of the low-birth-weight, and a birth defect is more threatening for the baby's health. This opened the backdoor path formerly blocked and allowed non-causal information to flow from Smoking to Mortality ($Smoking \\rightarrow Low Birth Weight \\leftarrow Birth defect \\rightarrow Mortality $) introducing a bias."
   ]
  },
  {
   "cell_type": "code",
   "execution_count": 13,
   "metadata": {
    "execution": {
     "iopub.execute_input": "2025-03-24T10:37:32.073537Z",
     "iopub.status.busy": "2025-03-24T10:37:32.073437Z",
     "iopub.status.idle": "2025-03-24T10:37:32.183481Z",
     "shell.execute_reply": "2025-03-24T10:37:32.183042Z",
     "shell.execute_reply.started": "2025-03-24T10:37:32.073528Z"
    }
   },
   "outputs": [
    {
     "data": {
      "text/html": [
       "\n",
       "      <style>\n",
       "      .floating-box {\n",
       "      display: inline-block;\n",
       "      margin: 7px;\n",
       "      padding : 3px;\n",
       "      border: 0px solid transparent;  \n",
       "      valign:middle;\n",
       "      background-color: transparent;\n",
       "      }\n",
       "      </style>\n",
       "      <div class=\"floating-box\"><svg xmlns=\"http://www.w3.org/2000/svg\" xmlns:xlink=\"http://www.w3.org/1999/xlink\" width=\"180pt\" height=\"136pt\" viewBox=\"0.00 0.00 180.00 136.10\">\n",
       "<g id=\"graph0\" class=\"graph\" transform=\"scale(0.723962 0.723962) rotate(0) translate(4 184)\">\n",
       "<title>G</title>\n",
       "<!-- Smoking -->\n",
       "<g id=\"node1\" class=\"node\">\n",
       "<title>Smoking</title>\n",
       "<ellipse fill=\"#404040\" stroke=\"#4a4a4a\" cx=\"44.7\" cy=\"-162\" rx=\"44.7\" ry=\"18\"/>\n",
       "<text text-anchor=\"middle\" x=\"44.7\" y=\"-156.95\" font-family=\"Times,serif\" font-size=\"14.00\" fill=\"white\">Smoking</text>\n",
       "</g>\n",
       "<!-- Low Birth Weight -->\n",
       "<g id=\"node2\" class=\"node\">\n",
       "<title>Low Birth Weight</title>\n",
       "<ellipse fill=\"#404040\" stroke=\"#4a4a4a\" cx=\"103.7\" cy=\"-90\" rx=\"78.48\" ry=\"18\"/>\n",
       "<text text-anchor=\"middle\" x=\"103.7\" y=\"-84.95\" font-family=\"Times,serif\" font-size=\"14.00\" fill=\"white\">Low Birth Weight</text>\n",
       "</g>\n",
       "<!-- Smoking&#45;&gt;Low Birth Weight -->\n",
       "<g id=\"edge1\" class=\"edge\">\n",
       "<title>Smoking-&gt;Low Birth Weight</title>\n",
       "<path fill=\"none\" stroke=\"#4a4a4a\" d=\"M57.92,-143.77C64.94,-135.43 73.6,-125.15 81.45,-115.84\"/>\n",
       "<path fill=\"none\" stroke=\"#4a4a4a\" d=\"M59.44,-145.06C66.47,-136.72 75.13,-126.44 82.98,-117.13\"/>\n",
       "<polygon fill=\"#4a4a4a\" stroke=\"#4a4a4a\" points=\"84.66,-119.02 88.43,-109.11 79.31,-114.5 84.66,-119.02\"/>\n",
       "</g>\n",
       "<!-- Mortality -->\n",
       "<g id=\"node3\" class=\"node\">\n",
       "<title>Mortality</title>\n",
       "<ellipse fill=\"#404040\" stroke=\"#4a4a4a\" cx=\"103.7\" cy=\"-18\" rx=\"46.23\" ry=\"18\"/>\n",
       "<text text-anchor=\"middle\" x=\"103.7\" y=\"-12.95\" font-family=\"Times,serif\" font-size=\"14.00\" fill=\"white\">Mortality</text>\n",
       "</g>\n",
       "<!-- Smoking&#45;&gt;Mortality -->\n",
       "<g id=\"edge4\" class=\"edge\">\n",
       "<title>Smoking-&gt;Mortality</title>\n",
       "<path fill=\"none\" stroke=\"#4a4a4a\" d=\"M31.04,-144.99C18.32,-126.36 2.64,-95.9 15.83,-71.51 25.44,-54.59 42.31,-42.57 58.86,-34.15\"/>\n",
       "<path fill=\"none\" stroke=\"#4a4a4a\" d=\"M32.69,-143.86C20.1,-125.45 4.42,-94.99 17.57,-72.49 26.6,-56.21 43.47,-44.2 59.76,-35.93\"/>\n",
       "<polygon fill=\"#4a4a4a\" stroke=\"#4a4a4a\" points=\"60.46,-38.37 68.03,-30.95 57.49,-32.03 60.46,-38.37\"/>\n",
       "</g>\n",
       "<!-- Low Birth Weight&#45;&gt;Mortality -->\n",
       "<g id=\"edge2\" class=\"edge\">\n",
       "<title>Low Birth Weight-&gt;Mortality</title>\n",
       "<path fill=\"none\" stroke=\"#4a4a4a\" d=\"M102.7,-71.7C102.7,-64.41 102.7,-55.73 102.7,-47.54\"/>\n",
       "<path fill=\"none\" stroke=\"#4a4a4a\" d=\"M104.7,-71.7C104.7,-64.41 104.7,-55.73 104.7,-47.54\"/>\n",
       "<polygon fill=\"#4a4a4a\" stroke=\"#4a4a4a\" points=\"107.2,-47.62 103.7,-37.62 100.2,-47.62 107.2,-47.62\"/>\n",
       "</g>\n",
       "<!-- Birth defect -->\n",
       "<g id=\"node4\" class=\"node\">\n",
       "<title>Birth defect</title>\n",
       "<ellipse fill=\"#404040\" stroke=\"#4a4a4a\" cx=\"185.7\" cy=\"-162\" rx=\"54.93\" ry=\"18\"/>\n",
       "<text text-anchor=\"middle\" x=\"185.7\" y=\"-156.95\" font-family=\"Times,serif\" font-size=\"14.00\" fill=\"white\">Birth defect</text>\n",
       "</g>\n",
       "<!-- Birth defect&#45;&gt;Low Birth Weight -->\n",
       "<g id=\"edge3\" class=\"edge\">\n",
       "<title>Birth defect-&gt;Low Birth Weight</title>\n",
       "<path fill=\"none\" stroke=\"#4a4a4a\" d=\"M166.03,-145.53C155.7,-136.71 142.73,-125.63 131.24,-115.83\"/>\n",
       "<path fill=\"none\" stroke=\"#4a4a4a\" d=\"M167.33,-144C157,-135.19 144.02,-124.11 132.54,-114.31\"/>\n",
       "<polygon fill=\"#4a4a4a\" stroke=\"#4a4a4a\" points=\"134.5,-112.69 124.62,-108.86 129.95,-118.02 134.5,-112.69\"/>\n",
       "</g>\n",
       "<!-- Birth defect&#45;&gt;Mortality -->\n",
       "<g id=\"edge5\" class=\"edge\">\n",
       "<title>Birth defect-&gt;Mortality</title>\n",
       "<path fill=\"none\" stroke=\"#4a4a4a\" d=\"M190.93,-143.41C196.53,-124.62 202.22,-94.08 189.83,-72.49 180.79,-56.21 163.92,-44.2 147.63,-35.93\"/>\n",
       "<path fill=\"none\" stroke=\"#4a4a4a\" d=\"M192.84,-143.98C198.49,-124.98 204.19,-94.45 191.57,-71.51 181.95,-54.59 165.08,-42.57 148.54,-34.15\"/>\n",
       "<polygon fill=\"#4a4a4a\" stroke=\"#4a4a4a\" points=\"149.91,-32.03 139.37,-30.95 146.93,-38.37 149.91,-32.03\"/>\n",
       "</g>\n",
       "</g>\n",
       "</svg><br><center><small><em>Causal Model</em></small></center></div><div class=\"floating-box\">$$\\begin{equation*}P( Mortality \\mid \\text{do}(Smoking)) = \\sum_{Birth defect,Low Birth Weight}{P\\left(Birth defect\\right) \\cdot P\\left(Mortality\\mid Birth defect,Low Birth Weight,Smoking\\right) \\cdot P\\left(Low Birth Weight\\mid Birth defect,Smoking\\right)}\\end{equation*}$$<br><center><small><em>Explanation : Do-calculus computations</em></small></center></div><div class=\"floating-box\"><table style=\"border:1px solid black;border-collapse: collapse;\">\n",
       "<tr><th colspan='1'></th>\n",
       "      <th colspan='2' style='border:1px solid black;color:black;background-color:#808080;'><center>Mortality</center>\n",
       "      </th></tr>\n",
       "<tr><th style='border:1px solid black;color:black;background-color:#808080'><center>Smoking</center></th><th style='border:1px solid black;border-bottom-style: double;color:black;background-color:#BBBBBB'>\n",
       "      <center>0</center></th><th style='border:1px solid black;border-bottom-style: double;color:black;background-color:#BBBBBB'>\n",
       "      <center>1</center></th></tr>\n",
       "<tr><th style='border:1px solid black;color:black;background-color:#BBBBBB'><center>0</center></th><td style='color:black;background-color:#bac364;text-align:right;padding: 3px;'>0.5336</td><td style='color:black;background-color:#c3ba64;text-align:right;padding: 3px;'>0.4664</td></tr>\n",
       "<tr><th style='border:1px solid black;color:black;background-color:#BBBBBB'><center>1</center></th><td style='color:black;background-color:#de9f64;text-align:right;padding: 3px;'>0.2559</td><td style='color:black;background-color:#9fde64;text-align:right;padding: 3px;'>0.7441</td></tr>\n",
       "</table><br><center><small><em>Impact</em></small></center></div>"
      ],
      "text/plain": [
       "<IPython.core.display.HTML object>"
      ]
     },
     "metadata": {},
     "output_type": "display_data"
    }
   ],
   "source": [
    "bwpeModele = csl.CausalModel(bwpe)\n",
    "cslnb.showCausalImpact(bwpeModele, \"Mortality\", doing=\"Smoking\",values={})"
   ]
  },
  {
   "cell_type": "code",
   "execution_count": null,
   "metadata": {
    "editable": true,
    "slideshow": {
     "slide_type": ""
    },
    "tags": []
   },
   "outputs": [],
   "source": []
  }
 ],
 "metadata": {
  "kernelspec": {
   "display_name": "Python 3 (ipykernel)",
   "language": "python",
   "name": "python3"
  },
  "language_info": {
   "codemirror_mode": {
    "name": "ipython",
    "version": 3
   },
   "file_extension": ".py",
   "mimetype": "text/x-python",
   "name": "python",
   "nbconvert_exporter": "python",
   "pygments_lexer": "ipython3",
   "version": "3.13.2"
  }
 },
 "nbformat": 4,
 "nbformat_minor": 4
}
