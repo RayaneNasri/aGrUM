{
 "cells": [
  {
   "cell_type": "markdown",
   "metadata": {
    "editable": true,
    "slideshow": {
     "slide_type": ""
    },
    "tags": []
   },
   "source": [
    "# Back-Door Criterion (p150)\n",
    "\n",
    "| | | |\n",
    "|-|-|-|\n",
    "|[ ![Creative Commons License](images/cc4.png)](http://creativecommons.org/licenses/by-nc/4.0/) |[ ![aGrUM](images/logoAgrum.png)](https://agrum.org) |[ ![interactive online version](images/atbinder.svg)](https://agrum.gitlab.io/extra/agrum_at_binder.html)\n",
    "\n",
    "Authors: <b>Aymen Merrouche</b> and Pierre-Henri Wuillemin.\n",
    "\n",
    "**This notebook follows the example from \"The Book Of Why\" (Pearl, 2018) chapter 4 page 150**"
   ]
  },
  {
   "cell_type": "markdown",
   "metadata": {
    "editable": true,
    "slideshow": {
     "slide_type": ""
    },
    "tags": []
   },
   "source": [
    "## Back-Door Criterion"
   ]
  },
  {
   "cell_type": "code",
   "execution_count": 1,
   "metadata": {
    "editable": true,
    "execution": {
     "iopub.execute_input": "2025-03-24T10:37:11.936279Z",
     "iopub.status.busy": "2025-03-24T10:37:11.936126Z",
     "iopub.status.idle": "2025-03-24T10:37:12.426226Z",
     "shell.execute_reply": "2025-03-24T10:37:12.425939Z",
     "shell.execute_reply.started": "2025-03-24T10:37:11.936261Z"
    },
    "slideshow": {
     "slide_type": ""
    },
    "tags": []
   },
   "outputs": [],
   "source": [
    "import pyagrum as gum\n",
    "import pyagrum.lib.notebook as gnb\n",
    "import pyagrum.causal as csl\n",
    "import pyagrum.causal.notebook as cslnb"
   ]
  },
  {
   "cell_type": "markdown",
   "metadata": {},
   "source": [
    "> In a causal diagram, confounding bias is due to the flow of non-causal information between treatment $X$ and outcome $Y$ through back-door paths. To neutralize this bias, we need to block these paths. <br>\n",
    "To block a non-causal path, we must perform an adjustment operation for a variable or a set of variables that would block the flow of information on that path. Such a set of variables satisfies what we call the \"back-door\" criterion.\n",
    "> A set of variables $Z$ satisfies the back-door criterion for $(X, Y)$ if and only if:\n",
    "* $Z$ blocks all back-door paths between $X$ and $Y$. A \"back-door path\" is any path in the causal diagram between $X$ and $Y$ starting with an arrow pointing towards $X$.\n",
    "* No variable in $Z$ is a descendant of $X$ on a causal path, if we adjust for such a variable we would block a path that carries causal information hence the causal effect of $X$ on $Y$ would be biased.\n",
    "\n",
    "<b>If a set of $ Z $ variable satisfies the back-door criterion for $(X,Y)$, the causal effect of $X$ on $Y$ is given by the formula: \n",
    "$$P(y \\mid do(x)) = \\sum_{z}{P(y \\mid x,z) \\times P(z)}$$</b>"
   ]
  },
  {
   "cell_type": "markdown",
   "metadata": {
    "editable": true,
    "slideshow": {
     "slide_type": ""
    },
    "tags": []
   },
   "source": [
    "### Example 1: "
   ]
  },
  {
   "cell_type": "code",
   "execution_count": 2,
   "metadata": {
    "editable": true,
    "execution": {
     "iopub.execute_input": "2025-03-24T10:37:12.426727Z",
     "iopub.status.busy": "2025-03-24T10:37:12.426603Z",
     "iopub.status.idle": "2025-03-24T10:37:12.516632Z",
     "shell.execute_reply": "2025-03-24T10:37:12.516304Z",
     "shell.execute_reply.started": "2025-03-24T10:37:12.426717Z"
    },
    "slideshow": {
     "slide_type": ""
    },
    "tags": []
   },
   "outputs": [
    {
     "data": {
      "text/html": [
       "<svg xmlns=\"http://www.w3.org/2000/svg\" xmlns:xlink=\"http://www.w3.org/1999/xlink\" width=\"134pt\" height=\"188pt\" viewBox=\"0.00 0.00 134.00 188.00\">\n",
       "<g id=\"graph0\" class=\"graph\" transform=\"scale(1 1) rotate(0) translate(4 184)\">\n",
       "<title>G</title>\n",
       "<!-- Y -->\n",
       "<g id=\"node1\" class=\"node\">\n",
       "<title>Y</title>\n",
       "<g id=\"a_node1\"><a xlink:title=\"(2) Y\">\n",
       "<ellipse fill=\"#404040\" stroke=\"#4a4a4a\" cx=\"27\" cy=\"-18\" rx=\"27\" ry=\"18\"/>\n",
       "<text text-anchor=\"middle\" x=\"27\" y=\"-12.95\" font-family=\"Times,serif\" font-size=\"14.00\" fill=\"white\">Y</text>\n",
       "</a>\n",
       "</g>\n",
       "</g>\n",
       "<!-- B -->\n",
       "<g id=\"node2\" class=\"node\">\n",
       "<title>B</title>\n",
       "<g id=\"a_node2\"><a xlink:title=\"(3) B\">\n",
       "<ellipse fill=\"#404040\" stroke=\"#4a4a4a\" cx=\"99\" cy=\"-18\" rx=\"27\" ry=\"18\"/>\n",
       "<text text-anchor=\"middle\" x=\"99\" y=\"-12.95\" font-family=\"Times,serif\" font-size=\"14.00\" fill=\"white\">B</text>\n",
       "</a>\n",
       "</g>\n",
       "</g>\n",
       "<!-- X -->\n",
       "<g id=\"node3\" class=\"node\">\n",
       "<title>X</title>\n",
       "<g id=\"a_node3\"><a xlink:title=\"(0) X\">\n",
       "<ellipse fill=\"#404040\" stroke=\"#4a4a4a\" cx=\"63\" cy=\"-162\" rx=\"27\" ry=\"18\"/>\n",
       "<text text-anchor=\"middle\" x=\"63\" y=\"-156.95\" font-family=\"Times,serif\" font-size=\"14.00\" fill=\"white\">X</text>\n",
       "</a>\n",
       "</g>\n",
       "</g>\n",
       "<!-- A -->\n",
       "<g id=\"node4\" class=\"node\">\n",
       "<title>A</title>\n",
       "<g id=\"a_node4\"><a xlink:title=\"(1) A\">\n",
       "<ellipse fill=\"#404040\" stroke=\"#4a4a4a\" cx=\"63\" cy=\"-90\" rx=\"27\" ry=\"18\"/>\n",
       "<text text-anchor=\"middle\" x=\"63\" y=\"-84.95\" font-family=\"Times,serif\" font-size=\"14.00\" fill=\"white\">A</text>\n",
       "</a>\n",
       "</g>\n",
       "</g>\n",
       "<!-- X&#45;&gt;A -->\n",
       "<g id=\"edge1\" class=\"edge\">\n",
       "<title>X-&gt;A</title>\n",
       "<g id=\"a_edge1\"><a xlink:title=\"0 → 1\">\n",
       "<path fill=\"none\" stroke=\"#4a4a4a\" d=\"M63,-143.7C63,-136.41 63,-127.73 63,-119.54\"/>\n",
       "<polygon fill=\"#4a4a4a\" stroke=\"#4a4a4a\" points=\"66.5,-119.62 63,-109.62 59.5,-119.62 66.5,-119.62\"/>\n",
       "</a>\n",
       "</g>\n",
       "</g>\n",
       "<!-- A&#45;&gt;Y -->\n",
       "<g id=\"edge2\" class=\"edge\">\n",
       "<title>A-&gt;Y</title>\n",
       "<g id=\"a_edge2\"><a xlink:title=\"1 → 2\">\n",
       "<path fill=\"none\" stroke=\"#4a4a4a\" d=\"M54.65,-72.76C50.42,-64.55 45.19,-54.37 40.42,-45.09\"/>\n",
       "<polygon fill=\"#4a4a4a\" stroke=\"#4a4a4a\" points=\"43.68,-43.79 36,-36.49 37.46,-46.99 43.68,-43.79\"/>\n",
       "</a>\n",
       "</g>\n",
       "</g>\n",
       "<!-- A&#45;&gt;B -->\n",
       "<g id=\"edge3\" class=\"edge\">\n",
       "<title>A-&gt;B</title>\n",
       "<g id=\"a_edge3\"><a xlink:title=\"1 → 3\">\n",
       "<path fill=\"none\" stroke=\"#4a4a4a\" d=\"M71.35,-72.76C75.58,-64.55 80.81,-54.37 85.58,-45.09\"/>\n",
       "<polygon fill=\"#4a4a4a\" stroke=\"#4a4a4a\" points=\"88.54,-46.99 90,-36.49 82.32,-43.79 88.54,-46.99\"/>\n",
       "</a>\n",
       "</g>\n",
       "</g>\n",
       "</g>\n",
       "</svg>"
      ],
      "text/plain": [
       "(pyagrum.BayesNet@0x14267f600) BN{nodes: 4, arcs: 3, domainSize: 16, dim: 7, mem: 112o}"
      ]
     },
     "execution_count": 2,
     "metadata": {},
     "output_type": "execute_result"
    }
   ],
   "source": [
    "e1 = gum.fastBN(\"X->A->Y;A->B\")\n",
    "e1"
   ]
  },
  {
   "cell_type": "code",
   "execution_count": 3,
   "metadata": {
    "execution": {
     "iopub.execute_input": "2025-03-24T10:37:12.517346Z",
     "iopub.status.busy": "2025-03-24T10:37:12.517180Z",
     "iopub.status.idle": "2025-03-24T10:37:12.664705Z",
     "shell.execute_reply": "2025-03-24T10:37:12.664389Z",
     "shell.execute_reply.started": "2025-03-24T10:37:12.517324Z"
    }
   },
   "outputs": [
    {
     "data": {
      "text/html": [
       "\n",
       "      <style>\n",
       "      .floating-box {\n",
       "      display: inline-block;\n",
       "      margin: 7px;\n",
       "      padding : 3px;\n",
       "      border: 0px solid transparent;  \n",
       "      valign:middle;\n",
       "      background-color: transparent;\n",
       "      }\n",
       "      </style>\n",
       "      <div class=\"floating-box\"><svg xmlns=\"http://www.w3.org/2000/svg\" xmlns:xlink=\"http://www.w3.org/1999/xlink\" width=\"128pt\" height=\"180pt\" viewBox=\"0.00 0.00 128.30 180.00\">\n",
       "<g id=\"graph0\" class=\"graph\" transform=\"scale(0.957447 0.957447) rotate(0) translate(4 184)\">\n",
       "<title>G</title>\n",
       "<!-- X -->\n",
       "<g id=\"node1\" class=\"node\">\n",
       "<title>X</title>\n",
       "<ellipse fill=\"#404040\" stroke=\"#4a4a4a\" cx=\"63\" cy=\"-162\" rx=\"27\" ry=\"18\"/>\n",
       "<text text-anchor=\"middle\" x=\"63\" y=\"-156.95\" font-family=\"Times,serif\" font-size=\"14.00\" fill=\"white\">X</text>\n",
       "</g>\n",
       "<!-- A -->\n",
       "<g id=\"node2\" class=\"node\">\n",
       "<title>A</title>\n",
       "<ellipse fill=\"#404040\" stroke=\"#4a4a4a\" cx=\"63\" cy=\"-90\" rx=\"27\" ry=\"18\"/>\n",
       "<text text-anchor=\"middle\" x=\"63\" y=\"-84.95\" font-family=\"Times,serif\" font-size=\"14.00\" fill=\"white\">A</text>\n",
       "</g>\n",
       "<!-- X&#45;&gt;A -->\n",
       "<g id=\"edge1\" class=\"edge\">\n",
       "<title>X-&gt;A</title>\n",
       "<path fill=\"none\" stroke=\"#4a4a4a\" d=\"M62,-143.7C62,-136.41 62,-127.73 62,-119.54\"/>\n",
       "<path fill=\"none\" stroke=\"#4a4a4a\" d=\"M64,-143.7C64,-136.41 64,-127.73 64,-119.54\"/>\n",
       "<polygon fill=\"#4a4a4a\" stroke=\"#4a4a4a\" points=\"66.5,-119.62 63,-109.62 59.5,-119.62 66.5,-119.62\"/>\n",
       "</g>\n",
       "<!-- Y -->\n",
       "<g id=\"node3\" class=\"node\">\n",
       "<title>Y</title>\n",
       "<ellipse fill=\"#404040\" stroke=\"#4a4a4a\" cx=\"27\" cy=\"-18\" rx=\"27\" ry=\"18\"/>\n",
       "<text text-anchor=\"middle\" x=\"27\" y=\"-12.95\" font-family=\"Times,serif\" font-size=\"14.00\" fill=\"white\">Y</text>\n",
       "</g>\n",
       "<!-- A&#45;&gt;Y -->\n",
       "<g id=\"edge2\" class=\"edge\">\n",
       "<title>A-&gt;Y</title>\n",
       "<path fill=\"none\" stroke=\"#4a4a4a\" d=\"M53.76,-73.22C49.54,-65.01 44.3,-54.83 39.53,-45.55\"/>\n",
       "<path fill=\"none\" stroke=\"#4a4a4a\" d=\"M55.54,-72.31C51.31,-64.09 46.08,-53.92 41.31,-44.64\"/>\n",
       "<polygon fill=\"#4a4a4a\" stroke=\"#4a4a4a\" points=\"43.68,-43.79 36,-36.49 37.46,-46.99 43.68,-43.79\"/>\n",
       "</g>\n",
       "<!-- B -->\n",
       "<g id=\"node4\" class=\"node\">\n",
       "<title>B</title>\n",
       "<ellipse fill=\"#404040\" stroke=\"#4a4a4a\" cx=\"99\" cy=\"-18\" rx=\"27\" ry=\"18\"/>\n",
       "<text text-anchor=\"middle\" x=\"99\" y=\"-12.95\" font-family=\"Times,serif\" font-size=\"14.00\" fill=\"white\">B</text>\n",
       "</g>\n",
       "<!-- A&#45;&gt;B -->\n",
       "<g id=\"edge3\" class=\"edge\">\n",
       "<title>A-&gt;B</title>\n",
       "<path fill=\"none\" stroke=\"#4a4a4a\" d=\"M70.46,-72.31C74.69,-64.09 79.92,-53.92 84.69,-44.64\"/>\n",
       "<path fill=\"none\" stroke=\"#4a4a4a\" d=\"M72.24,-73.22C76.46,-65.01 81.7,-54.83 86.47,-45.55\"/>\n",
       "<polygon fill=\"#4a4a4a\" stroke=\"#4a4a4a\" points=\"88.54,-46.99 90,-36.49 82.32,-43.79 88.54,-46.99\"/>\n",
       "</g>\n",
       "</g>\n",
       "</svg><br><center><small><em>Causal Model</em></small></center></div><div class=\"floating-box\">$$\\begin{equation*}P( Y \\mid \\text{do}(X)) = \\sum_{A}{P\\left(A\\mid X\\right) \\cdot \\left(\\sum_{X'}{P\\left(Y\\mid A\\right) \\cdot P\\left(X'\\right)}\\right)}\\end{equation*}$$<br><center><small><em>Explanation : frontdoor ['A'] found.</em></small></center></div><div class=\"floating-box\"><table style=\"border:1px solid black;border-collapse: collapse;\">\n",
       "<tr><th colspan='1'></th>\n",
       "      <th colspan='2' style='border:1px solid black;color:black;background-color:#808080;'><center>Y</center>\n",
       "      </th></tr>\n",
       "<tr><th style='border:1px solid black;color:black;background-color:#808080'><center>X</center></th><th style='border:1px solid black;border-bottom-style: double;color:black;background-color:#BBBBBB'>\n",
       "      <center>0</center></th><th style='border:1px solid black;border-bottom-style: double;color:black;background-color:#BBBBBB'>\n",
       "      <center>1</center></th></tr>\n",
       "<tr><th style='border:1px solid black;color:black;background-color:#BBBBBB'><center>0</center></th><td style='color:black;background-color:#94e964;text-align:right;padding: 3px;'>0.8337</td><td style='color:black;background-color:#e99464;text-align:right;padding: 3px;'>0.1663</td></tr>\n",
       "<tr><th style='border:1px solid black;color:black;background-color:#BBBBBB'><center>1</center></th><td style='color:black;background-color:#90ed64;text-align:right;padding: 3px;'>0.8621</td><td style='color:black;background-color:#ed9064;text-align:right;padding: 3px;'>0.1379</td></tr>\n",
       "</table><br><center><small><em>Impact</em></small></center></div>"
      ],
      "text/plain": [
       "<IPython.core.display.HTML object>"
      ]
     },
     "metadata": {},
     "output_type": "display_data"
    }
   ],
   "source": [
    "m1 = csl.CausalModel(e1)\n",
    "cslnb.showCausalImpact(m1, \"Y\", doing=\"X\", values={})"
   ]
  },
  {
   "cell_type": "code",
   "execution_count": 4,
   "metadata": {
    "execution": {
     "iopub.execute_input": "2025-03-24T10:37:12.665412Z",
     "iopub.status.busy": "2025-03-24T10:37:12.665248Z",
     "iopub.status.idle": "2025-03-24T10:37:12.667167Z",
     "shell.execute_reply": "2025-03-24T10:37:12.666901Z",
     "shell.execute_reply.started": "2025-03-24T10:37:12.665403Z"
    }
   },
   "outputs": [
    {
     "name": "stdout",
     "output_type": "stream",
     "text": [
      "The set of variables which satisfies the back-door criterion for (X, Y) is : None\n"
     ]
    }
   ],
   "source": [
    "# This function returns the set of variables which satisfies the back-door criterion for (X, Y)\n",
    "# None if there are no back-door paths.\n",
    "setOfVars = m1.backDoor(\"X\", \"Y\")\n",
    "print(\"The set of variables which satisfies the back-door criterion for (X, Y) is :\", setOfVars)"
   ]
  },
  {
   "cell_type": "markdown",
   "metadata": {},
   "source": [
    "> No incoming arrows into X, therefore there are no back-door paths between $X$ and $Y$ (as if we did a graph surgery according to the do operator), direct causal path $X \\rightarrow A \\rightarrow Y$."
   ]
  },
  {
   "cell_type": "markdown",
   "metadata": {
    "editable": true,
    "slideshow": {
     "slide_type": ""
    },
    "tags": []
   },
   "source": [
    "### Example 2:"
   ]
  },
  {
   "cell_type": "code",
   "execution_count": 5,
   "metadata": {
    "editable": true,
    "execution": {
     "iopub.execute_input": "2025-03-24T10:37:12.667550Z",
     "iopub.status.busy": "2025-03-24T10:37:12.667470Z",
     "iopub.status.idle": "2025-03-24T10:37:12.756963Z",
     "shell.execute_reply": "2025-03-24T10:37:12.756623Z",
     "shell.execute_reply.started": "2025-03-24T10:37:12.667543Z"
    },
    "slideshow": {
     "slide_type": ""
    },
    "tags": []
   },
   "outputs": [
    {
     "data": {
      "text/html": [
       "<svg xmlns=\"http://www.w3.org/2000/svg\" xmlns:xlink=\"http://www.w3.org/1999/xlink\" width=\"189pt\" height=\"260pt\" viewBox=\"0.00 0.00 189.00 260.00\">\n",
       "<g id=\"graph0\" class=\"graph\" transform=\"scale(1 1) rotate(0) translate(4 256)\">\n",
       "<title>G</title>\n",
       "<!-- Y -->\n",
       "<g id=\"node1\" class=\"node\">\n",
       "<title>Y</title>\n",
       "<g id=\"a_node1\"><a xlink:title=\"(5) Y\">\n",
       "<ellipse fill=\"#404040\" stroke=\"#4a4a4a\" cx=\"154\" cy=\"-18\" rx=\"27\" ry=\"18\"/>\n",
       "<text text-anchor=\"middle\" x=\"154\" y=\"-12.95\" font-family=\"Times,serif\" font-size=\"14.00\" fill=\"white\">Y</text>\n",
       "</a>\n",
       "</g>\n",
       "</g>\n",
       "<!-- B -->\n",
       "<g id=\"node2\" class=\"node\">\n",
       "<title>B</title>\n",
       "<g id=\"a_node2\"><a xlink:title=\"(1) B\">\n",
       "<ellipse fill=\"#404040\" stroke=\"#4a4a4a\" cx=\"99\" cy=\"-162\" rx=\"27\" ry=\"18\"/>\n",
       "<text text-anchor=\"middle\" x=\"99\" y=\"-156.95\" font-family=\"Times,serif\" font-size=\"14.00\" fill=\"white\">B</text>\n",
       "</a>\n",
       "</g>\n",
       "</g>\n",
       "<!-- C -->\n",
       "<g id=\"node5\" class=\"node\">\n",
       "<title>C</title>\n",
       "<g id=\"a_node5\"><a xlink:title=\"(2) C\">\n",
       "<ellipse fill=\"#404040\" stroke=\"#4a4a4a\" cx=\"82\" cy=\"-90\" rx=\"27\" ry=\"18\"/>\n",
       "<text text-anchor=\"middle\" x=\"82\" y=\"-84.95\" font-family=\"Times,serif\" font-size=\"14.00\" fill=\"white\">C</text>\n",
       "</a>\n",
       "</g>\n",
       "</g>\n",
       "<!-- B&#45;&gt;C -->\n",
       "<g id=\"edge2\" class=\"edge\">\n",
       "<title>B-&gt;C</title>\n",
       "<g id=\"a_edge2\"><a xlink:title=\"1 → 2\">\n",
       "<path fill=\"none\" stroke=\"#4a4a4a\" d=\"M94.88,-144.05C93.07,-136.6 90.9,-127.64 88.85,-119.22\"/>\n",
       "<polygon fill=\"#4a4a4a\" stroke=\"#4a4a4a\" points=\"92.31,-118.64 86.55,-109.75 85.51,-120.29 92.31,-118.64\"/>\n",
       "</a>\n",
       "</g>\n",
       "</g>\n",
       "<!-- E -->\n",
       "<g id=\"node3\" class=\"node\">\n",
       "<title>E</title>\n",
       "<g id=\"a_node3\"><a xlink:title=\"(4) E\">\n",
       "<ellipse fill=\"#404040\" stroke=\"#4a4a4a\" cx=\"154\" cy=\"-90\" rx=\"27\" ry=\"18\"/>\n",
       "<text text-anchor=\"middle\" x=\"154\" y=\"-84.95\" font-family=\"Times,serif\" font-size=\"14.00\" fill=\"white\">E</text>\n",
       "</a>\n",
       "</g>\n",
       "</g>\n",
       "<!-- E&#45;&gt;Y -->\n",
       "<g id=\"edge7\" class=\"edge\">\n",
       "<title>E-&gt;Y</title>\n",
       "<g id=\"a_edge7\"><a xlink:title=\"4 → 5\">\n",
       "<path fill=\"none\" stroke=\"#4a4a4a\" d=\"M154,-71.7C154,-64.41 154,-55.73 154,-47.54\"/>\n",
       "<polygon fill=\"#4a4a4a\" stroke=\"#4a4a4a\" points=\"157.5,-47.62 154,-37.62 150.5,-47.62 157.5,-47.62\"/>\n",
       "</a>\n",
       "</g>\n",
       "</g>\n",
       "<!-- D -->\n",
       "<g id=\"node4\" class=\"node\">\n",
       "<title>D</title>\n",
       "<g id=\"a_node4\"><a xlink:title=\"(6) D\">\n",
       "<ellipse fill=\"#404040\" stroke=\"#4a4a4a\" cx=\"140\" cy=\"-234\" rx=\"27\" ry=\"18\"/>\n",
       "<text text-anchor=\"middle\" x=\"140\" y=\"-228.95\" font-family=\"Times,serif\" font-size=\"14.00\" fill=\"white\">D</text>\n",
       "</a>\n",
       "</g>\n",
       "</g>\n",
       "<!-- D&#45;&gt;B -->\n",
       "<g id=\"edge4\" class=\"edge\">\n",
       "<title>D-&gt;B</title>\n",
       "<g id=\"a_edge4\"><a xlink:title=\"6 → 1\">\n",
       "<path fill=\"none\" stroke=\"#4a4a4a\" d=\"M130.49,-216.76C125.63,-208.46 119.59,-198.15 114.11,-188.79\"/>\n",
       "<polygon fill=\"#4a4a4a\" stroke=\"#4a4a4a\" points=\"117.3,-187.31 109.22,-180.45 111.26,-190.85 117.3,-187.31\"/>\n",
       "</a>\n",
       "</g>\n",
       "</g>\n",
       "<!-- D&#45;&gt;E -->\n",
       "<g id=\"edge6\" class=\"edge\">\n",
       "<title>D-&gt;E</title>\n",
       "<g id=\"a_edge6\"><a xlink:title=\"6 → 4\">\n",
       "<path fill=\"none\" stroke=\"#4a4a4a\" d=\"M141.72,-215.59C144.08,-191.61 148.37,-148.14 151.2,-119.42\"/>\n",
       "<polygon fill=\"#4a4a4a\" stroke=\"#4a4a4a\" points=\"154.67,-119.91 152.16,-109.62 147.7,-119.23 154.67,-119.91\"/>\n",
       "</a>\n",
       "</g>\n",
       "</g>\n",
       "<!-- X -->\n",
       "<g id=\"node6\" class=\"node\">\n",
       "<title>X</title>\n",
       "<g id=\"a_node6\"><a xlink:title=\"(3) X\">\n",
       "<ellipse fill=\"#404040\" stroke=\"#4a4a4a\" cx=\"27\" cy=\"-162\" rx=\"27\" ry=\"18\"/>\n",
       "<text text-anchor=\"middle\" x=\"27\" y=\"-156.95\" font-family=\"Times,serif\" font-size=\"14.00\" fill=\"white\">X</text>\n",
       "</a>\n",
       "</g>\n",
       "</g>\n",
       "<!-- X&#45;&gt;E -->\n",
       "<g id=\"edge3\" class=\"edge\">\n",
       "<title>X-&gt;E</title>\n",
       "<g id=\"a_edge3\"><a xlink:title=\"3 → 4\">\n",
       "<path fill=\"none\" stroke=\"#4a4a4a\" d=\"M47.4,-149.75C68.05,-138.37 100.2,-120.65 123.8,-107.65\"/>\n",
       "<polygon fill=\"#4a4a4a\" stroke=\"#4a4a4a\" points=\"125.25,-110.84 132.32,-102.95 121.87,-104.71 125.25,-110.84\"/>\n",
       "</a>\n",
       "</g>\n",
       "</g>\n",
       "<!-- A -->\n",
       "<g id=\"node7\" class=\"node\">\n",
       "<title>A</title>\n",
       "<g id=\"a_node7\"><a xlink:title=\"(0) A\">\n",
       "<ellipse fill=\"#404040\" stroke=\"#4a4a4a\" cx=\"54\" cy=\"-234\" rx=\"27\" ry=\"18\"/>\n",
       "<text text-anchor=\"middle\" x=\"54\" y=\"-228.95\" font-family=\"Times,serif\" font-size=\"14.00\" fill=\"white\">A</text>\n",
       "</a>\n",
       "</g>\n",
       "</g>\n",
       "<!-- A&#45;&gt;B -->\n",
       "<g id=\"edge1\" class=\"edge\">\n",
       "<title>A-&gt;B</title>\n",
       "<g id=\"a_edge1\"><a xlink:title=\"0 → 1\">\n",
       "<path fill=\"none\" stroke=\"#4a4a4a\" d=\"M64.21,-217.12C69.68,-208.61 76.54,-197.94 82.72,-188.32\"/>\n",
       "<polygon fill=\"#4a4a4a\" stroke=\"#4a4a4a\" points=\"85.55,-190.4 88.01,-180.09 79.66,-186.61 85.55,-190.4\"/>\n",
       "</a>\n",
       "</g>\n",
       "</g>\n",
       "<!-- A&#45;&gt;X -->\n",
       "<g id=\"edge5\" class=\"edge\">\n",
       "<title>A-&gt;X</title>\n",
       "<g id=\"a_edge5\"><a xlink:title=\"0 → 3\">\n",
       "<path fill=\"none\" stroke=\"#4a4a4a\" d=\"M47.46,-216.05C44.48,-208.32 40.87,-198.96 37.52,-190.27\"/>\n",
       "<polygon fill=\"#4a4a4a\" stroke=\"#4a4a4a\" points=\"40.88,-189.27 34.02,-181.2 34.35,-191.79 40.88,-189.27\"/>\n",
       "</a>\n",
       "</g>\n",
       "</g>\n",
       "</g>\n",
       "</svg>"
      ],
      "text/plain": [
       "(pyagrum.BayesNet@0x142681400) BN{nodes: 7, arcs: 7, domainSize: 128, dim: 16, mem: 256o}"
      ]
     },
     "execution_count": 5,
     "metadata": {},
     "output_type": "execute_result"
    }
   ],
   "source": [
    "e2 = gum.fastBN(\"A->B->C;A->X->E->Y;B<-D->E\")\n",
    "e2"
   ]
  },
  {
   "cell_type": "code",
   "execution_count": 6,
   "metadata": {
    "editable": true,
    "execution": {
     "iopub.execute_input": "2025-03-24T10:37:12.759099Z",
     "iopub.status.busy": "2025-03-24T10:37:12.758921Z",
     "iopub.status.idle": "2025-03-24T10:37:12.870564Z",
     "shell.execute_reply": "2025-03-24T10:37:12.870196Z",
     "shell.execute_reply.started": "2025-03-24T10:37:12.759080Z"
    },
    "slideshow": {
     "slide_type": ""
    },
    "tags": [
     "nbsphinx-thumbnail"
    ]
   },
   "outputs": [
    {
     "data": {
      "image/svg+xml": [
       "<svg xmlns=\"http://www.w3.org/2000/svg\" xmlns:xlink=\"http://www.w3.org/1999/xlink\" width=\"175pt\" height=\"260pt\" viewBox=\"0.00 0.00 175.00 260.00\">\n",
       "<g id=\"graph0\" class=\"graph\" transform=\"scale(1 1) rotate(0) translate(4 256)\">\n",
       "<title>G</title>\n",
       "<!-- A -->\n",
       "<g id=\"node1\" class=\"node\">\n",
       "<title>A</title>\n",
       "<ellipse fill=\"#404040\" stroke=\"#4a4a4a\" cx=\"54\" cy=\"-234\" rx=\"27\" ry=\"18\"/>\n",
       "<text text-anchor=\"middle\" x=\"54\" y=\"-228.95\" font-family=\"Times,serif\" font-size=\"14.00\" fill=\"white\">A</text>\n",
       "</g>\n",
       "<!-- B -->\n",
       "<g id=\"node2\" class=\"node\">\n",
       "<title>B</title>\n",
       "<ellipse fill=\"#404040\" stroke=\"#4a4a4a\" cx=\"99\" cy=\"-162\" rx=\"27\" ry=\"18\"/>\n",
       "<text text-anchor=\"middle\" x=\"99\" y=\"-156.95\" font-family=\"Times,serif\" font-size=\"14.00\" fill=\"white\">B</text>\n",
       "</g>\n",
       "<!-- A&#45;&gt;B -->\n",
       "<g id=\"edge1\" class=\"edge\">\n",
       "<title>A-&gt;B</title>\n",
       "<path fill=\"none\" stroke=\"#4a4a4a\" d=\"M63.37,-216.58C68.84,-208.07 75.7,-197.4 81.88,-187.78\"/>\n",
       "<path fill=\"none\" stroke=\"#4a4a4a\" d=\"M65.05,-217.66C70.52,-209.15 77.38,-198.48 83.56,-188.86\"/>\n",
       "<polygon fill=\"#4a4a4a\" stroke=\"#4a4a4a\" points=\"85.55,-190.4 88.01,-180.09 79.66,-186.61 85.55,-190.4\"/>\n",
       "</g>\n",
       "<!-- X -->\n",
       "<g id=\"node4\" class=\"node\">\n",
       "<title>X</title>\n",
       "<ellipse fill=\"#404040\" stroke=\"#4a4a4a\" cx=\"27\" cy=\"-162\" rx=\"27\" ry=\"18\"/>\n",
       "<text text-anchor=\"middle\" x=\"27\" y=\"-156.95\" font-family=\"Times,serif\" font-size=\"14.00\" fill=\"white\">X</text>\n",
       "</g>\n",
       "<!-- A&#45;&gt;X -->\n",
       "<g id=\"edge5\" class=\"edge\">\n",
       "<title>A-&gt;X</title>\n",
       "<path fill=\"none\" stroke=\"#4a4a4a\" d=\"M46.53,-216.41C43.55,-208.68 39.94,-199.32 36.58,-190.63\"/>\n",
       "<path fill=\"none\" stroke=\"#4a4a4a\" d=\"M48.4,-215.7C45.41,-207.96 41.8,-198.6 38.45,-189.91\"/>\n",
       "<polygon fill=\"#4a4a4a\" stroke=\"#4a4a4a\" points=\"40.88,-189.27 34.02,-181.2 34.35,-191.79 40.88,-189.27\"/>\n",
       "</g>\n",
       "<!-- C -->\n",
       "<g id=\"node3\" class=\"node\">\n",
       "<title>C</title>\n",
       "<ellipse fill=\"#404040\" stroke=\"#4a4a4a\" cx=\"99\" cy=\"-90\" rx=\"27\" ry=\"18\"/>\n",
       "<text text-anchor=\"middle\" x=\"99\" y=\"-84.95\" font-family=\"Times,serif\" font-size=\"14.00\" fill=\"white\">C</text>\n",
       "</g>\n",
       "<!-- B&#45;&gt;C -->\n",
       "<g id=\"edge2\" class=\"edge\">\n",
       "<title>B-&gt;C</title>\n",
       "<path fill=\"none\" stroke=\"#4a4a4a\" d=\"M98,-143.7C98,-136.41 98,-127.73 98,-119.54\"/>\n",
       "<path fill=\"none\" stroke=\"#4a4a4a\" d=\"M100,-143.7C100,-136.41 100,-127.73 100,-119.54\"/>\n",
       "<polygon fill=\"#4a4a4a\" stroke=\"#4a4a4a\" points=\"102.5,-119.62 99,-109.62 95.5,-119.62 102.5,-119.62\"/>\n",
       "</g>\n",
       "<!-- E -->\n",
       "<g id=\"node5\" class=\"node\">\n",
       "<title>E</title>\n",
       "<ellipse fill=\"#404040\" stroke=\"#4a4a4a\" cx=\"27\" cy=\"-90\" rx=\"27\" ry=\"18\"/>\n",
       "<text text-anchor=\"middle\" x=\"27\" y=\"-84.95\" font-family=\"Times,serif\" font-size=\"14.00\" fill=\"white\">E</text>\n",
       "</g>\n",
       "<!-- X&#45;&gt;E -->\n",
       "<g id=\"edge3\" class=\"edge\">\n",
       "<title>X-&gt;E</title>\n",
       "<path fill=\"none\" stroke=\"#4a4a4a\" d=\"M26,-143.7C26,-136.41 26,-127.73 26,-119.54\"/>\n",
       "<path fill=\"none\" stroke=\"#4a4a4a\" d=\"M28,-143.7C28,-136.41 28,-127.73 28,-119.54\"/>\n",
       "<polygon fill=\"#4a4a4a\" stroke=\"#4a4a4a\" points=\"30.5,-119.62 27,-109.62 23.5,-119.62 30.5,-119.62\"/>\n",
       "</g>\n",
       "<!-- Y -->\n",
       "<g id=\"node6\" class=\"node\">\n",
       "<title>Y</title>\n",
       "<ellipse fill=\"#404040\" stroke=\"#4a4a4a\" cx=\"27\" cy=\"-18\" rx=\"27\" ry=\"18\"/>\n",
       "<text text-anchor=\"middle\" x=\"27\" y=\"-12.95\" font-family=\"Times,serif\" font-size=\"14.00\" fill=\"white\">Y</text>\n",
       "</g>\n",
       "<!-- E&#45;&gt;Y -->\n",
       "<g id=\"edge7\" class=\"edge\">\n",
       "<title>E-&gt;Y</title>\n",
       "<path fill=\"none\" stroke=\"#4a4a4a\" d=\"M26,-71.7C26,-64.41 26,-55.73 26,-47.54\"/>\n",
       "<path fill=\"none\" stroke=\"#4a4a4a\" d=\"M28,-71.7C28,-64.41 28,-55.73 28,-47.54\"/>\n",
       "<polygon fill=\"#4a4a4a\" stroke=\"#4a4a4a\" points=\"30.5,-47.62 27,-37.62 23.5,-47.62 30.5,-47.62\"/>\n",
       "</g>\n",
       "<!-- D -->\n",
       "<g id=\"node7\" class=\"node\">\n",
       "<title>D</title>\n",
       "<ellipse fill=\"#404040\" stroke=\"#4a4a4a\" cx=\"140\" cy=\"-234\" rx=\"27\" ry=\"18\"/>\n",
       "<text text-anchor=\"middle\" x=\"140\" y=\"-228.95\" font-family=\"Times,serif\" font-size=\"14.00\" fill=\"white\">D</text>\n",
       "</g>\n",
       "<!-- D&#45;&gt;B -->\n",
       "<g id=\"edge4\" class=\"edge\">\n",
       "<title>D-&gt;B</title>\n",
       "<path fill=\"none\" stroke=\"#4a4a4a\" d=\"M129.63,-217.27C124.76,-208.97 118.73,-198.66 113.24,-189.3\"/>\n",
       "<path fill=\"none\" stroke=\"#4a4a4a\" d=\"M131.35,-216.26C126.49,-207.95 120.45,-197.65 114.97,-188.29\"/>\n",
       "<polygon fill=\"#4a4a4a\" stroke=\"#4a4a4a\" points=\"117.3,-187.31 109.22,-180.45 111.26,-190.85 117.3,-187.31\"/>\n",
       "</g>\n",
       "<!-- D&#45;&gt;E -->\n",
       "<g id=\"edge6\" class=\"edge\">\n",
       "<title>D-&gt;E</title>\n",
       "<path fill=\"none\" stroke=\"#4a4a4a\" d=\"M142.8,-215.85C146.06,-196.78 148.28,-165.47 134.17,-144.55 133.39,-143.12 89.65,-121.99 58.21,-106.96\"/>\n",
       "<path fill=\"none\" stroke=\"#4a4a4a\" d=\"M144.77,-216.19C148.05,-196.92 150.28,-165.61 135.83,-143.45 134.26,-141.32 90.52,-120.19 59.07,-105.15\"/>\n",
       "<polygon fill=\"#4a4a4a\" stroke=\"#4a4a4a\" points=\"60.42,-103.03 49.89,-101.88 57.41,-109.35 60.42,-103.03\"/>\n",
       "</g>\n",
       "</g>\n",
       "</svg>"
      ],
      "text/plain": [
       "<IPython.core.display.SVG object>"
      ]
     },
     "metadata": {},
     "output_type": "display_data"
    }
   ],
   "source": [
    "m2 = csl.CausalModel(e2)\n",
    "gnb.show(m2)"
   ]
  },
  {
   "cell_type": "code",
   "execution_count": 7,
   "metadata": {
    "editable": true,
    "execution": {
     "iopub.execute_input": "2025-03-24T10:37:12.871249Z",
     "iopub.status.busy": "2025-03-24T10:37:12.871134Z",
     "iopub.status.idle": "2025-03-24T10:37:12.981796Z",
     "shell.execute_reply": "2025-03-24T10:37:12.981457Z",
     "shell.execute_reply.started": "2025-03-24T10:37:12.871239Z"
    },
    "slideshow": {
     "slide_type": ""
    },
    "tags": []
   },
   "outputs": [
    {
     "data": {
      "text/html": [
       "\n",
       "      <style>\n",
       "      .floating-box {\n",
       "      display: inline-block;\n",
       "      margin: 7px;\n",
       "      padding : 3px;\n",
       "      border: 0px solid transparent;  \n",
       "      valign:middle;\n",
       "      background-color: transparent;\n",
       "      }\n",
       "      </style>\n",
       "      <div class=\"floating-box\"><svg xmlns=\"http://www.w3.org/2000/svg\" xmlns:xlink=\"http://www.w3.org/1999/xlink\" width=\"121pt\" height=\"180pt\" viewBox=\"0.00 0.00 121.15 180.00\">\n",
       "<g id=\"graph0\" class=\"graph\" transform=\"scale(0.692308 0.692308) rotate(0) translate(4 256)\">\n",
       "<title>G</title>\n",
       "<!-- A -->\n",
       "<g id=\"node1\" class=\"node\">\n",
       "<title>A</title>\n",
       "<ellipse fill=\"#404040\" stroke=\"#4a4a4a\" cx=\"54\" cy=\"-234\" rx=\"27\" ry=\"18\"/>\n",
       "<text text-anchor=\"middle\" x=\"54\" y=\"-228.95\" font-family=\"Times,serif\" font-size=\"14.00\" fill=\"white\">A</text>\n",
       "</g>\n",
       "<!-- B -->\n",
       "<g id=\"node2\" class=\"node\">\n",
       "<title>B</title>\n",
       "<ellipse fill=\"#404040\" stroke=\"#4a4a4a\" cx=\"99\" cy=\"-162\" rx=\"27\" ry=\"18\"/>\n",
       "<text text-anchor=\"middle\" x=\"99\" y=\"-156.95\" font-family=\"Times,serif\" font-size=\"14.00\" fill=\"white\">B</text>\n",
       "</g>\n",
       "<!-- A&#45;&gt;B -->\n",
       "<g id=\"edge1\" class=\"edge\">\n",
       "<title>A-&gt;B</title>\n",
       "<path fill=\"none\" stroke=\"#4a4a4a\" d=\"M63.37,-216.58C68.84,-208.07 75.7,-197.4 81.88,-187.78\"/>\n",
       "<path fill=\"none\" stroke=\"#4a4a4a\" d=\"M65.05,-217.66C70.52,-209.15 77.38,-198.48 83.56,-188.86\"/>\n",
       "<polygon fill=\"#4a4a4a\" stroke=\"#4a4a4a\" points=\"85.55,-190.4 88.01,-180.09 79.66,-186.61 85.55,-190.4\"/>\n",
       "</g>\n",
       "<!-- X -->\n",
       "<g id=\"node4\" class=\"node\">\n",
       "<title>X</title>\n",
       "<ellipse fill=\"#404040\" stroke=\"#4a4a4a\" cx=\"27\" cy=\"-162\" rx=\"27\" ry=\"18\"/>\n",
       "<text text-anchor=\"middle\" x=\"27\" y=\"-156.95\" font-family=\"Times,serif\" font-size=\"14.00\" fill=\"white\">X</text>\n",
       "</g>\n",
       "<!-- A&#45;&gt;X -->\n",
       "<g id=\"edge5\" class=\"edge\">\n",
       "<title>A-&gt;X</title>\n",
       "<path fill=\"none\" stroke=\"#4a4a4a\" d=\"M46.53,-216.41C43.55,-208.68 39.94,-199.32 36.58,-190.63\"/>\n",
       "<path fill=\"none\" stroke=\"#4a4a4a\" d=\"M48.4,-215.7C45.41,-207.96 41.8,-198.6 38.45,-189.91\"/>\n",
       "<polygon fill=\"#4a4a4a\" stroke=\"#4a4a4a\" points=\"40.88,-189.27 34.02,-181.2 34.35,-191.79 40.88,-189.27\"/>\n",
       "</g>\n",
       "<!-- C -->\n",
       "<g id=\"node3\" class=\"node\">\n",
       "<title>C</title>\n",
       "<ellipse fill=\"#404040\" stroke=\"#4a4a4a\" cx=\"99\" cy=\"-90\" rx=\"27\" ry=\"18\"/>\n",
       "<text text-anchor=\"middle\" x=\"99\" y=\"-84.95\" font-family=\"Times,serif\" font-size=\"14.00\" fill=\"white\">C</text>\n",
       "</g>\n",
       "<!-- B&#45;&gt;C -->\n",
       "<g id=\"edge2\" class=\"edge\">\n",
       "<title>B-&gt;C</title>\n",
       "<path fill=\"none\" stroke=\"#4a4a4a\" d=\"M98,-143.7C98,-136.41 98,-127.73 98,-119.54\"/>\n",
       "<path fill=\"none\" stroke=\"#4a4a4a\" d=\"M100,-143.7C100,-136.41 100,-127.73 100,-119.54\"/>\n",
       "<polygon fill=\"#4a4a4a\" stroke=\"#4a4a4a\" points=\"102.5,-119.62 99,-109.62 95.5,-119.62 102.5,-119.62\"/>\n",
       "</g>\n",
       "<!-- E -->\n",
       "<g id=\"node5\" class=\"node\">\n",
       "<title>E</title>\n",
       "<ellipse fill=\"#404040\" stroke=\"#4a4a4a\" cx=\"27\" cy=\"-90\" rx=\"27\" ry=\"18\"/>\n",
       "<text text-anchor=\"middle\" x=\"27\" y=\"-84.95\" font-family=\"Times,serif\" font-size=\"14.00\" fill=\"white\">E</text>\n",
       "</g>\n",
       "<!-- X&#45;&gt;E -->\n",
       "<g id=\"edge3\" class=\"edge\">\n",
       "<title>X-&gt;E</title>\n",
       "<path fill=\"none\" stroke=\"#4a4a4a\" d=\"M26,-143.7C26,-136.41 26,-127.73 26,-119.54\"/>\n",
       "<path fill=\"none\" stroke=\"#4a4a4a\" d=\"M28,-143.7C28,-136.41 28,-127.73 28,-119.54\"/>\n",
       "<polygon fill=\"#4a4a4a\" stroke=\"#4a4a4a\" points=\"30.5,-119.62 27,-109.62 23.5,-119.62 30.5,-119.62\"/>\n",
       "</g>\n",
       "<!-- Y -->\n",
       "<g id=\"node6\" class=\"node\">\n",
       "<title>Y</title>\n",
       "<ellipse fill=\"#404040\" stroke=\"#4a4a4a\" cx=\"27\" cy=\"-18\" rx=\"27\" ry=\"18\"/>\n",
       "<text text-anchor=\"middle\" x=\"27\" y=\"-12.95\" font-family=\"Times,serif\" font-size=\"14.00\" fill=\"white\">Y</text>\n",
       "</g>\n",
       "<!-- E&#45;&gt;Y -->\n",
       "<g id=\"edge7\" class=\"edge\">\n",
       "<title>E-&gt;Y</title>\n",
       "<path fill=\"none\" stroke=\"#4a4a4a\" d=\"M26,-71.7C26,-64.41 26,-55.73 26,-47.54\"/>\n",
       "<path fill=\"none\" stroke=\"#4a4a4a\" d=\"M28,-71.7C28,-64.41 28,-55.73 28,-47.54\"/>\n",
       "<polygon fill=\"#4a4a4a\" stroke=\"#4a4a4a\" points=\"30.5,-47.62 27,-37.62 23.5,-47.62 30.5,-47.62\"/>\n",
       "</g>\n",
       "<!-- D -->\n",
       "<g id=\"node7\" class=\"node\">\n",
       "<title>D</title>\n",
       "<ellipse fill=\"#404040\" stroke=\"#4a4a4a\" cx=\"140\" cy=\"-234\" rx=\"27\" ry=\"18\"/>\n",
       "<text text-anchor=\"middle\" x=\"140\" y=\"-228.95\" font-family=\"Times,serif\" font-size=\"14.00\" fill=\"white\">D</text>\n",
       "</g>\n",
       "<!-- D&#45;&gt;B -->\n",
       "<g id=\"edge4\" class=\"edge\">\n",
       "<title>D-&gt;B</title>\n",
       "<path fill=\"none\" stroke=\"#4a4a4a\" d=\"M129.63,-217.27C124.76,-208.97 118.73,-198.66 113.24,-189.3\"/>\n",
       "<path fill=\"none\" stroke=\"#4a4a4a\" d=\"M131.35,-216.26C126.49,-207.95 120.45,-197.65 114.97,-188.29\"/>\n",
       "<polygon fill=\"#4a4a4a\" stroke=\"#4a4a4a\" points=\"117.3,-187.31 109.22,-180.45 111.26,-190.85 117.3,-187.31\"/>\n",
       "</g>\n",
       "<!-- D&#45;&gt;E -->\n",
       "<g id=\"edge6\" class=\"edge\">\n",
       "<title>D-&gt;E</title>\n",
       "<path fill=\"none\" stroke=\"#4a4a4a\" d=\"M142.8,-215.85C146.06,-196.78 148.28,-165.47 134.17,-144.55 133.39,-143.12 89.65,-121.99 58.21,-106.96\"/>\n",
       "<path fill=\"none\" stroke=\"#4a4a4a\" d=\"M144.77,-216.19C148.05,-196.92 150.28,-165.61 135.83,-143.45 134.26,-141.32 90.52,-120.19 59.07,-105.15\"/>\n",
       "<polygon fill=\"#4a4a4a\" stroke=\"#4a4a4a\" points=\"60.42,-103.03 49.89,-101.88 57.41,-109.35 60.42,-103.03\"/>\n",
       "</g>\n",
       "</g>\n",
       "</svg><br><center><small><em>Causal Model</em></small></center></div><div class=\"floating-box\">$$\\begin{equation*}P( Y \\mid \\text{do}(X)) = \\sum_{E}{P\\left(E\\mid X\\right) \\cdot \\left(\\sum_{X'}{P\\left(Y\\mid E\\right) \\cdot P\\left(X'\\right)}\\right)}\\end{equation*}$$<br><center><small><em>Explanation : frontdoor ['E'] found.</em></small></center></div><div class=\"floating-box\"><table style=\"border:1px solid black;border-collapse: collapse;\">\n",
       "<tr><th colspan='1'></th>\n",
       "      <th colspan='2' style='border:1px solid black;color:black;background-color:#808080;'><center>Y</center>\n",
       "      </th></tr>\n",
       "<tr><th style='border:1px solid black;color:black;background-color:#808080'><center>X</center></th><th style='border:1px solid black;border-bottom-style: double;color:black;background-color:#BBBBBB'>\n",
       "      <center>0</center></th><th style='border:1px solid black;border-bottom-style: double;color:black;background-color:#BBBBBB'>\n",
       "      <center>1</center></th></tr>\n",
       "<tr><th style='border:1px solid black;color:black;background-color:#BBBBBB'><center>0</center></th><td style='color:black;background-color:#c2bb64;text-align:right;padding: 3px;'>0.4749</td><td style='color:black;background-color:#bbc264;text-align:right;padding: 3px;'>0.5251</td></tr>\n",
       "<tr><th style='border:1px solid black;color:black;background-color:#BBBBBB'><center>1</center></th><td style='color:black;background-color:#c9b464;text-align:right;padding: 3px;'>0.4200</td><td style='color:black;background-color:#b4c964;text-align:right;padding: 3px;'>0.5800</td></tr>\n",
       "</table><br><center><small><em>Impact</em></small></center></div>"
      ],
      "text/plain": [
       "<IPython.core.display.HTML object>"
      ]
     },
     "metadata": {},
     "output_type": "display_data"
    }
   ],
   "source": [
    "cslnb.showCausalImpact(m2, \"Y\", doing=\"X\", values={})"
   ]
  },
  {
   "cell_type": "code",
   "execution_count": 8,
   "metadata": {
    "execution": {
     "iopub.execute_input": "2025-03-24T10:37:12.982336Z",
     "iopub.status.busy": "2025-03-24T10:37:12.982243Z",
     "iopub.status.idle": "2025-03-24T10:37:12.984736Z",
     "shell.execute_reply": "2025-03-24T10:37:12.984402Z",
     "shell.execute_reply.started": "2025-03-24T10:37:12.982325Z"
    }
   },
   "outputs": [
    {
     "name": "stdout",
     "output_type": "stream",
     "text": [
      "The set of variables which satisfies the back-door criterion for (X, Y) is : None\n"
     ]
    }
   ],
   "source": [
    "# This function returns the set of variables which satisfies the back-door criterion for (X, Y)\n",
    "# None if there are no back-door paths.\n",
    "setOfVars = m2.backDoor(\"X\", \"Y\")\n",
    "print(\"The set of variables which satisfies the back-door criterion for (X, Y) is :\", setOfVars)"
   ]
  },
  {
   "cell_type": "markdown",
   "metadata": {},
   "source": [
    "> There is one back-door path from $X$ to $Y$ :\n",
    "$$X \\leftarrow A \\rightarrow B \\leftarrow D \\rightarrow E \\rightarrow Y$$\n",
    "We don't need to control for any set of variables; this back-door path is blocked by collider node $B$ (two incoming arrows)\n",
    "$$A \\rightarrow B \\leftarrow D$$\n",
    "Controlling for collider node $B$ would open this causal path (controlling for colliders increases bias), direct causal path $X \\rightarrow E \\rightarrow Y$."
   ]
  },
  {
   "cell_type": "markdown",
   "metadata": {
    "editable": true,
    "slideshow": {
     "slide_type": ""
    },
    "tags": []
   },
   "source": [
    "### Example 3:"
   ]
  },
  {
   "cell_type": "code",
   "execution_count": 9,
   "metadata": {
    "editable": true,
    "execution": {
     "iopub.execute_input": "2025-03-24T10:37:12.985304Z",
     "iopub.status.busy": "2025-03-24T10:37:12.985208Z",
     "iopub.status.idle": "2025-03-24T10:37:13.079679Z",
     "shell.execute_reply": "2025-03-24T10:37:13.079345Z",
     "shell.execute_reply.started": "2025-03-24T10:37:12.985296Z"
    },
    "slideshow": {
     "slide_type": ""
    },
    "tags": []
   },
   "outputs": [
    {
     "data": {
      "text/html": [
       "<svg xmlns=\"http://www.w3.org/2000/svg\" xmlns:xlink=\"http://www.w3.org/1999/xlink\" width=\"143pt\" height=\"188pt\" viewBox=\"0.00 0.00 143.00 188.00\">\n",
       "<g id=\"graph0\" class=\"graph\" transform=\"scale(1 1) rotate(0) translate(4 184)\">\n",
       "<title>G</title>\n",
       "<!-- A -->\n",
       "<g id=\"node1\" class=\"node\">\n",
       "<title>A</title>\n",
       "<g id=\"a_node1\"><a xlink:title=\"(3) A\">\n",
       "<ellipse fill=\"#404040\" stroke=\"#4a4a4a\" cx=\"27\" cy=\"-18\" rx=\"27\" ry=\"18\"/>\n",
       "<text text-anchor=\"middle\" x=\"27\" y=\"-12.95\" font-family=\"Times,serif\" font-size=\"14.00\" fill=\"white\">A</text>\n",
       "</a>\n",
       "</g>\n",
       "</g>\n",
       "<!-- Y -->\n",
       "<g id=\"node2\" class=\"node\">\n",
       "<title>Y</title>\n",
       "<g id=\"a_node2\"><a xlink:title=\"(2) Y\">\n",
       "<ellipse fill=\"#404040\" stroke=\"#4a4a4a\" cx=\"108\" cy=\"-18\" rx=\"27\" ry=\"18\"/>\n",
       "<text text-anchor=\"middle\" x=\"108\" y=\"-12.95\" font-family=\"Times,serif\" font-size=\"14.00\" fill=\"white\">Y</text>\n",
       "</a>\n",
       "</g>\n",
       "</g>\n",
       "<!-- X -->\n",
       "<g id=\"node3\" class=\"node\">\n",
       "<title>X</title>\n",
       "<g id=\"a_node3\"><a xlink:title=\"(1) X\">\n",
       "<ellipse fill=\"#404040\" stroke=\"#4a4a4a\" cx=\"63\" cy=\"-90\" rx=\"27\" ry=\"18\"/>\n",
       "<text text-anchor=\"middle\" x=\"63\" y=\"-84.95\" font-family=\"Times,serif\" font-size=\"14.00\" fill=\"white\">X</text>\n",
       "</a>\n",
       "</g>\n",
       "</g>\n",
       "<!-- X&#45;&gt;A -->\n",
       "<g id=\"edge5\" class=\"edge\">\n",
       "<title>X-&gt;A</title>\n",
       "<g id=\"a_edge5\"><a xlink:title=\"1 → 3\">\n",
       "<path fill=\"none\" stroke=\"#4a4a4a\" d=\"M54.65,-72.76C50.42,-64.55 45.19,-54.37 40.42,-45.09\"/>\n",
       "<polygon fill=\"#4a4a4a\" stroke=\"#4a4a4a\" points=\"43.68,-43.79 36,-36.49 37.46,-46.99 43.68,-43.79\"/>\n",
       "</a>\n",
       "</g>\n",
       "</g>\n",
       "<!-- X&#45;&gt;Y -->\n",
       "<g id=\"edge2\" class=\"edge\">\n",
       "<title>X-&gt;Y</title>\n",
       "<g id=\"a_edge2\"><a xlink:title=\"1 → 2\">\n",
       "<path fill=\"none\" stroke=\"#4a4a4a\" d=\"M73.21,-73.12C78.68,-64.61 85.54,-53.94 91.72,-44.32\"/>\n",
       "<polygon fill=\"#4a4a4a\" stroke=\"#4a4a4a\" points=\"94.55,-46.4 97.01,-36.09 88.66,-42.61 94.55,-46.4\"/>\n",
       "</a>\n",
       "</g>\n",
       "</g>\n",
       "<!-- B -->\n",
       "<g id=\"node4\" class=\"node\">\n",
       "<title>B</title>\n",
       "<g id=\"a_node4\"><a xlink:title=\"(0) B\">\n",
       "<ellipse fill=\"#404040\" stroke=\"#4a4a4a\" cx=\"63\" cy=\"-162\" rx=\"27\" ry=\"18\"/>\n",
       "<text text-anchor=\"middle\" x=\"63\" y=\"-156.95\" font-family=\"Times,serif\" font-size=\"14.00\" fill=\"white\">B</text>\n",
       "</a>\n",
       "</g>\n",
       "</g>\n",
       "<!-- B&#45;&gt;A -->\n",
       "<g id=\"edge3\" class=\"edge\">\n",
       "<title>B-&gt;A</title>\n",
       "<g id=\"a_edge3\"><a xlink:title=\"0 → 3\">\n",
       "<path fill=\"none\" stroke=\"#4a4a4a\" d=\"M49.25,-146.07C41.04,-136.1 31.38,-122.25 27,-108 20.99,-88.44 21.19,-65.3 22.8,-47.52\"/>\n",
       "<polygon fill=\"#4a4a4a\" stroke=\"#4a4a4a\" points=\"26.26,-48 23.9,-37.68 19.31,-47.22 26.26,-48\"/>\n",
       "</a>\n",
       "</g>\n",
       "</g>\n",
       "<!-- B&#45;&gt;Y -->\n",
       "<g id=\"edge4\" class=\"edge\">\n",
       "<title>B-&gt;Y</title>\n",
       "<g id=\"a_edge4\"><a xlink:title=\"0 → 2\">\n",
       "<path fill=\"none\" stroke=\"#4a4a4a\" d=\"M76.27,-145.91C84.28,-135.87 93.91,-122.01 99,-108 106.03,-88.67 108.19,-65.52 108.65,-47.68\"/>\n",
       "<polygon fill=\"#4a4a4a\" stroke=\"#4a4a4a\" points=\"112.14,-47.82 108.71,-37.8 105.14,-47.77 112.14,-47.82\"/>\n",
       "</a>\n",
       "</g>\n",
       "</g>\n",
       "<!-- B&#45;&gt;X -->\n",
       "<g id=\"edge1\" class=\"edge\">\n",
       "<title>B-&gt;X</title>\n",
       "<g id=\"a_edge1\"><a xlink:title=\"0 → 1\">\n",
       "<path fill=\"none\" stroke=\"#4a4a4a\" d=\"M63,-143.7C63,-136.41 63,-127.73 63,-119.54\"/>\n",
       "<polygon fill=\"#4a4a4a\" stroke=\"#4a4a4a\" points=\"66.5,-119.62 63,-109.62 59.5,-119.62 66.5,-119.62\"/>\n",
       "</a>\n",
       "</g>\n",
       "</g>\n",
       "</g>\n",
       "</svg>"
      ],
      "text/plain": [
       "(pyagrum.BayesNet@0x14267a000) BN{nodes: 4, arcs: 5, domainSize: 16, dim: 11, mem: 176o}"
      ]
     },
     "execution_count": 9,
     "metadata": {},
     "output_type": "execute_result"
    }
   ],
   "source": [
    "e3 = gum.fastBN(\"B->X->Y;X->A<-B->Y\")\n",
    "e3"
   ]
  },
  {
   "cell_type": "code",
   "execution_count": 10,
   "metadata": {
    "execution": {
     "iopub.execute_input": "2025-03-24T10:37:13.080379Z",
     "iopub.status.busy": "2025-03-24T10:37:13.080280Z",
     "iopub.status.idle": "2025-03-24T10:37:13.184483Z",
     "shell.execute_reply": "2025-03-24T10:37:13.184164Z",
     "shell.execute_reply.started": "2025-03-24T10:37:13.080368Z"
    }
   },
   "outputs": [
    {
     "data": {
      "text/html": [
       "\n",
       "      <style>\n",
       "      .floating-box {\n",
       "      display: inline-block;\n",
       "      margin: 7px;\n",
       "      padding : 3px;\n",
       "      border: 0px solid transparent;  \n",
       "      valign:middle;\n",
       "      background-color: transparent;\n",
       "      }\n",
       "      </style>\n",
       "      <div class=\"floating-box\"><svg xmlns=\"http://www.w3.org/2000/svg\" xmlns:xlink=\"http://www.w3.org/1999/xlink\" width=\"146pt\" height=\"180pt\" viewBox=\"0.00 0.00 146.49 180.00\">\n",
       "<g id=\"graph0\" class=\"graph\" transform=\"scale(0.957447 0.957447) rotate(0) translate(4 184)\">\n",
       "<title>G</title>\n",
       "<!-- B -->\n",
       "<g id=\"node1\" class=\"node\">\n",
       "<title>B</title>\n",
       "<ellipse fill=\"#404040\" stroke=\"#4a4a4a\" cx=\"73\" cy=\"-162\" rx=\"27\" ry=\"18\"/>\n",
       "<text text-anchor=\"middle\" x=\"73\" y=\"-156.95\" font-family=\"Times,serif\" font-size=\"14.00\" fill=\"white\">B</text>\n",
       "</g>\n",
       "<!-- X -->\n",
       "<g id=\"node2\" class=\"node\">\n",
       "<title>X</title>\n",
       "<ellipse fill=\"#404040\" stroke=\"#4a4a4a\" cx=\"73\" cy=\"-90\" rx=\"27\" ry=\"18\"/>\n",
       "<text text-anchor=\"middle\" x=\"73\" y=\"-84.95\" font-family=\"Times,serif\" font-size=\"14.00\" fill=\"white\">X</text>\n",
       "</g>\n",
       "<!-- B&#45;&gt;X -->\n",
       "<g id=\"edge1\" class=\"edge\">\n",
       "<title>B-&gt;X</title>\n",
       "<path fill=\"none\" stroke=\"#4a4a4a\" d=\"M72,-143.7C72,-136.41 72,-127.73 72,-119.54\"/>\n",
       "<path fill=\"none\" stroke=\"#4a4a4a\" d=\"M74,-143.7C74,-136.41 74,-127.73 74,-119.54\"/>\n",
       "<polygon fill=\"#4a4a4a\" stroke=\"#4a4a4a\" points=\"76.5,-119.62 73,-109.62 69.5,-119.62 76.5,-119.62\"/>\n",
       "</g>\n",
       "<!-- Y -->\n",
       "<g id=\"node3\" class=\"node\">\n",
       "<title>Y</title>\n",
       "<ellipse fill=\"#404040\" stroke=\"#4a4a4a\" cx=\"27\" cy=\"-18\" rx=\"27\" ry=\"18\"/>\n",
       "<text text-anchor=\"middle\" x=\"27\" y=\"-12.95\" font-family=\"Times,serif\" font-size=\"14.00\" fill=\"white\">Y</text>\n",
       "</g>\n",
       "<!-- B&#45;&gt;Y -->\n",
       "<g id=\"edge4\" class=\"edge\">\n",
       "<title>B-&gt;Y</title>\n",
       "<path fill=\"none\" stroke=\"#4a4a4a\" d=\"M59.01,-146.51C50.97,-136.42 41.35,-122.55 36.06,-108.35 28.86,-88.79 26.43,-65.64 25.75,-47.73\"/>\n",
       "<path fill=\"none\" stroke=\"#4a4a4a\" d=\"M60.57,-145.26C52.61,-135.28 42.99,-121.41 37.94,-107.65 30.85,-88.58 28.42,-65.43 27.75,-47.65\"/>\n",
       "<polygon fill=\"#4a4a4a\" stroke=\"#4a4a4a\" points=\"30.25,-47.73 26.55,-37.81 23.25,-47.87 30.25,-47.73\"/>\n",
       "</g>\n",
       "<!-- A -->\n",
       "<g id=\"node4\" class=\"node\">\n",
       "<title>A</title>\n",
       "<ellipse fill=\"#404040\" stroke=\"#4a4a4a\" cx=\"118\" cy=\"-18\" rx=\"27\" ry=\"18\"/>\n",
       "<text text-anchor=\"middle\" x=\"118\" y=\"-12.95\" font-family=\"Times,serif\" font-size=\"14.00\" fill=\"white\">A</text>\n",
       "</g>\n",
       "<!-- B&#45;&gt;A -->\n",
       "<g id=\"edge3\" class=\"edge\">\n",
       "<title>B-&gt;A</title>\n",
       "<path fill=\"none\" stroke=\"#4a4a4a\" d=\"M85.48,-145.28C93.46,-135.3 103.09,-121.44 108.06,-107.66 115.03,-88.58 117.2,-65.43 117.65,-47.65\"/>\n",
       "<path fill=\"none\" stroke=\"#4a4a4a\" d=\"M87.05,-146.53C95.1,-136.44 104.73,-122.58 109.94,-108.34 117.02,-88.76 119.19,-65.61 119.65,-47.7\"/>\n",
       "<polygon fill=\"#4a4a4a\" stroke=\"#4a4a4a\" points=\"122.14,-47.82 118.71,-37.8 115.14,-47.77 122.14,-47.82\"/>\n",
       "</g>\n",
       "<!-- X&#45;&gt;Y -->\n",
       "<g id=\"edge2\" class=\"edge\">\n",
       "<title>X-&gt;Y</title>\n",
       "<path fill=\"none\" stroke=\"#4a4a4a\" d=\"M61.73,-73.67C56.14,-65.16 49.12,-54.49 42.81,-44.87\"/>\n",
       "<path fill=\"none\" stroke=\"#4a4a4a\" d=\"M63.4,-72.57C57.81,-64.06 50.8,-53.39 44.48,-43.77\"/>\n",
       "<polygon fill=\"#4a4a4a\" stroke=\"#4a4a4a\" points=\"46.64,-42.52 38.23,-36.09 40.79,-46.37 46.64,-42.52\"/>\n",
       "</g>\n",
       "<!-- X&#45;&gt;A -->\n",
       "<g id=\"edge5\" class=\"edge\">\n",
       "<title>X-&gt;A</title>\n",
       "<path fill=\"none\" stroke=\"#4a4a4a\" d=\"M82.37,-72.58C87.84,-64.07 94.7,-53.4 100.88,-43.78\"/>\n",
       "<path fill=\"none\" stroke=\"#4a4a4a\" d=\"M84.05,-73.66C89.52,-65.15 96.38,-54.48 102.56,-44.86\"/>\n",
       "<polygon fill=\"#4a4a4a\" stroke=\"#4a4a4a\" points=\"104.55,-46.4 107.01,-36.09 98.66,-42.61 104.55,-46.4\"/>\n",
       "</g>\n",
       "</g>\n",
       "</svg><br><center><small><em>Causal Model</em></small></center></div><div class=\"floating-box\">$$\\begin{equation*}P( Y \\mid \\text{do}(X)) = \\sum_{B}{P\\left(Y\\mid B,X\\right) \\cdot P\\left(B\\right)}\\end{equation*}$$<br><center><small><em>Explanation : backdoor ['B'] found.</em></small></center></div><div class=\"floating-box\"><table style=\"border:1px solid black;border-collapse: collapse;\">\n",
       "<tr><th colspan='1'></th>\n",
       "      <th colspan='2' style='border:1px solid black;color:black;background-color:#808080;'><center>Y</center>\n",
       "      </th></tr>\n",
       "<tr><th style='border:1px solid black;color:black;background-color:#808080'><center>X</center></th><th style='border:1px solid black;border-bottom-style: double;color:black;background-color:#BBBBBB'>\n",
       "      <center>0</center></th><th style='border:1px solid black;border-bottom-style: double;color:black;background-color:#BBBBBB'>\n",
       "      <center>1</center></th></tr>\n",
       "<tr><th style='border:1px solid black;color:black;background-color:#BBBBBB'><center>0</center></th><td style='color:black;background-color:#d9a464;text-align:right;padding: 3px;'>0.2921</td><td style='color:black;background-color:#a4d964;text-align:right;padding: 3px;'>0.7079</td></tr>\n",
       "<tr><th style='border:1px solid black;color:black;background-color:#BBBBBB'><center>1</center></th><td style='color:black;background-color:#dba264;text-align:right;padding: 3px;'>0.2779</td><td style='color:black;background-color:#a2db64;text-align:right;padding: 3px;'>0.7221</td></tr>\n",
       "</table><br><center><small><em>Impact</em></small></center></div>"
      ],
      "text/plain": [
       "<IPython.core.display.HTML object>"
      ]
     },
     "metadata": {},
     "output_type": "display_data"
    }
   ],
   "source": [
    "m3 = csl.CausalModel(e3)\n",
    "cslnb.showCausalImpact(m3, \"Y\", doing=\"X\", values={})"
   ]
  },
  {
   "cell_type": "code",
   "execution_count": 11,
   "metadata": {
    "execution": {
     "iopub.execute_input": "2025-03-24T10:37:13.185128Z",
     "iopub.status.busy": "2025-03-24T10:37:13.185024Z",
     "iopub.status.idle": "2025-03-24T10:37:13.187450Z",
     "shell.execute_reply": "2025-03-24T10:37:13.187148Z",
     "shell.execute_reply.started": "2025-03-24T10:37:13.185117Z"
    }
   },
   "outputs": [
    {
     "name": "stdout",
     "output_type": "stream",
     "text": [
      "The set of variables which satisfies the back-door criterion for (X, Y) is : {'B'}\n"
     ]
    }
   ],
   "source": [
    "# This function returns the set of variables which satisfies the back-door criterion for (X, Y)\n",
    "# None if there are no back-door paths.\n",
    "setOfVars = m3.backDoor(\"X\", \"Y\")\n",
    "print(\"The set of variables which satisfies the back-door criterion for (X, Y) is :\", setOfVars)"
   ]
  },
  {
   "cell_type": "markdown",
   "metadata": {},
   "source": [
    "> There is one back-door path from $X$ to $Y$ :\n",
    "$$Y \\leftarrow B \\rightarrow X $$\n",
    "We need to block it by controlling for $B$ wich satisfies the back-door criterion."
   ]
  },
  {
   "cell_type": "markdown",
   "metadata": {
    "editable": true,
    "slideshow": {
     "slide_type": ""
    },
    "tags": []
   },
   "source": [
    "### Example 4 (M-bias):"
   ]
  },
  {
   "cell_type": "code",
   "execution_count": 12,
   "metadata": {
    "execution": {
     "iopub.execute_input": "2025-03-24T10:37:13.187995Z",
     "iopub.status.busy": "2025-03-24T10:37:13.187915Z",
     "iopub.status.idle": "2025-03-24T10:37:13.280149Z",
     "shell.execute_reply": "2025-03-24T10:37:13.279749Z",
     "shell.execute_reply.started": "2025-03-24T10:37:13.187988Z"
    }
   },
   "outputs": [
    {
     "data": {
      "text/html": [
       "<svg xmlns=\"http://www.w3.org/2000/svg\" xmlns:xlink=\"http://www.w3.org/1999/xlink\" width=\"206pt\" height=\"116pt\" viewBox=\"0.00 0.00 206.00 116.00\">\n",
       "<g id=\"graph0\" class=\"graph\" transform=\"scale(1 1) rotate(0) translate(4 112)\">\n",
       "<title>G</title>\n",
       "<!-- Y -->\n",
       "<g id=\"node1\" class=\"node\">\n",
       "<title>Y</title>\n",
       "<g id=\"a_node1\"><a xlink:title=\"(4) Y\">\n",
       "<ellipse fill=\"#404040\" stroke=\"#4a4a4a\" cx=\"27\" cy=\"-18\" rx=\"27\" ry=\"18\"/>\n",
       "<text text-anchor=\"middle\" x=\"27\" y=\"-12.95\" font-family=\"Times,serif\" font-size=\"14.00\" fill=\"white\">Y</text>\n",
       "</a>\n",
       "</g>\n",
       "</g>\n",
       "<!-- B -->\n",
       "<g id=\"node2\" class=\"node\">\n",
       "<title>B</title>\n",
       "<g id=\"a_node2\"><a xlink:title=\"(2) B\">\n",
       "<ellipse fill=\"#404040\" stroke=\"#4a4a4a\" cx=\"99\" cy=\"-18\" rx=\"27\" ry=\"18\"/>\n",
       "<text text-anchor=\"middle\" x=\"99\" y=\"-12.95\" font-family=\"Times,serif\" font-size=\"14.00\" fill=\"white\">B</text>\n",
       "</a>\n",
       "</g>\n",
       "</g>\n",
       "<!-- C -->\n",
       "<g id=\"node3\" class=\"node\">\n",
       "<title>C</title>\n",
       "<g id=\"a_node3\"><a xlink:title=\"(3) C\">\n",
       "<ellipse fill=\"#404040\" stroke=\"#4a4a4a\" cx=\"45\" cy=\"-90\" rx=\"27\" ry=\"18\"/>\n",
       "<text text-anchor=\"middle\" x=\"45\" y=\"-84.95\" font-family=\"Times,serif\" font-size=\"14.00\" fill=\"white\">C</text>\n",
       "</a>\n",
       "</g>\n",
       "</g>\n",
       "<!-- C&#45;&gt;Y -->\n",
       "<g id=\"edge4\" class=\"edge\">\n",
       "<title>C-&gt;Y</title>\n",
       "<g id=\"a_edge4\"><a xlink:title=\"3 → 4\">\n",
       "<path fill=\"none\" stroke=\"#4a4a4a\" d=\"M40.64,-72.05C38.7,-64.49 36.35,-55.37 34.16,-46.85\"/>\n",
       "<polygon fill=\"#4a4a4a\" stroke=\"#4a4a4a\" points=\"37.57,-46.07 31.69,-37.25 30.79,-47.81 37.57,-46.07\"/>\n",
       "</a>\n",
       "</g>\n",
       "</g>\n",
       "<!-- C&#45;&gt;B -->\n",
       "<g id=\"edge2\" class=\"edge\">\n",
       "<title>C-&gt;B</title>\n",
       "<g id=\"a_edge2\"><a xlink:title=\"3 → 2\">\n",
       "<path fill=\"none\" stroke=\"#4a4a4a\" d=\"M56.98,-73.46C63.77,-64.67 72.4,-53.48 80.08,-43.53\"/>\n",
       "<polygon fill=\"#4a4a4a\" stroke=\"#4a4a4a\" points=\"82.79,-45.75 86.12,-35.69 77.25,-41.47 82.79,-45.75\"/>\n",
       "</a>\n",
       "</g>\n",
       "</g>\n",
       "<!-- X -->\n",
       "<g id=\"node4\" class=\"node\">\n",
       "<title>X</title>\n",
       "<g id=\"a_node4\"><a xlink:title=\"(0) X\">\n",
       "<ellipse fill=\"#404040\" stroke=\"#4a4a4a\" cx=\"171\" cy=\"-18\" rx=\"27\" ry=\"18\"/>\n",
       "<text text-anchor=\"middle\" x=\"171\" y=\"-12.95\" font-family=\"Times,serif\" font-size=\"14.00\" fill=\"white\">X</text>\n",
       "</a>\n",
       "</g>\n",
       "</g>\n",
       "<!-- A -->\n",
       "<g id=\"node5\" class=\"node\">\n",
       "<title>A</title>\n",
       "<g id=\"a_node5\"><a xlink:title=\"(1) A\">\n",
       "<ellipse fill=\"#404040\" stroke=\"#4a4a4a\" cx=\"153\" cy=\"-90\" rx=\"27\" ry=\"18\"/>\n",
       "<text text-anchor=\"middle\" x=\"153\" y=\"-84.95\" font-family=\"Times,serif\" font-size=\"14.00\" fill=\"white\">A</text>\n",
       "</a>\n",
       "</g>\n",
       "</g>\n",
       "<!-- A&#45;&gt;B -->\n",
       "<g id=\"edge3\" class=\"edge\">\n",
       "<title>A-&gt;B</title>\n",
       "<g id=\"a_edge3\"><a xlink:title=\"1 → 2\">\n",
       "<path fill=\"none\" stroke=\"#4a4a4a\" d=\"M141.02,-73.46C134.23,-64.67 125.6,-53.48 117.92,-43.53\"/>\n",
       "<polygon fill=\"#4a4a4a\" stroke=\"#4a4a4a\" points=\"120.75,-41.47 111.88,-35.69 115.21,-45.75 120.75,-41.47\"/>\n",
       "</a>\n",
       "</g>\n",
       "</g>\n",
       "<!-- A&#45;&gt;X -->\n",
       "<g id=\"edge1\" class=\"edge\">\n",
       "<title>A-&gt;X</title>\n",
       "<g id=\"a_edge1\"><a xlink:title=\"1 → 0\">\n",
       "<path fill=\"none\" stroke=\"#4a4a4a\" d=\"M157.36,-72.05C159.3,-64.49 161.65,-55.37 163.84,-46.85\"/>\n",
       "<polygon fill=\"#4a4a4a\" stroke=\"#4a4a4a\" points=\"167.21,-47.81 166.31,-37.25 160.43,-46.07 167.21,-47.81\"/>\n",
       "</a>\n",
       "</g>\n",
       "</g>\n",
       "</g>\n",
       "</svg>"
      ],
      "text/plain": [
       "(pyagrum.BayesNet@0x1220b1000) BN{nodes: 5, arcs: 4, domainSize: 32, dim: 10, mem: 160o}"
      ]
     },
     "execution_count": 12,
     "metadata": {},
     "output_type": "execute_result"
    }
   ],
   "source": [
    "e4 = gum.fastBN(\"X<-A->B<-C->Y\")\n",
    "e4"
   ]
  },
  {
   "cell_type": "code",
   "execution_count": 13,
   "metadata": {
    "editable": true,
    "execution": {
     "iopub.execute_input": "2025-03-24T10:37:13.280779Z",
     "iopub.status.busy": "2025-03-24T10:37:13.280678Z",
     "iopub.status.idle": "2025-03-24T10:37:13.385595Z",
     "shell.execute_reply": "2025-03-24T10:37:13.385265Z",
     "shell.execute_reply.started": "2025-03-24T10:37:13.280767Z"
    },
    "slideshow": {
     "slide_type": ""
    },
    "tags": []
   },
   "outputs": [
    {
     "data": {
      "text/html": [
       "\n",
       "      <style>\n",
       "      .floating-box {\n",
       "      display: inline-block;\n",
       "      margin: 7px;\n",
       "      padding : 3px;\n",
       "      border: 0px solid transparent;  \n",
       "      valign:middle;\n",
       "      background-color: transparent;\n",
       "      }\n",
       "      </style>\n",
       "      <div class=\"floating-box\"><svg xmlns=\"http://www.w3.org/2000/svg\" xmlns:xlink=\"http://www.w3.org/1999/xlink\" width=\"180pt\" height=\"101pt\" viewBox=\"0.00 0.00 180.00 101.36\">\n",
       "<g id=\"graph0\" class=\"graph\" transform=\"scale(0.873786 0.873786) rotate(0) translate(4 112)\">\n",
       "<title>G</title>\n",
       "<!-- X -->\n",
       "<g id=\"node1\" class=\"node\">\n",
       "<title>X</title>\n",
       "<ellipse fill=\"#404040\" stroke=\"#4a4a4a\" cx=\"27\" cy=\"-18\" rx=\"27\" ry=\"18\"/>\n",
       "<text text-anchor=\"middle\" x=\"27\" y=\"-12.95\" font-family=\"Times,serif\" font-size=\"14.00\" fill=\"white\">X</text>\n",
       "</g>\n",
       "<!-- A -->\n",
       "<g id=\"node2\" class=\"node\">\n",
       "<title>A</title>\n",
       "<ellipse fill=\"#404040\" stroke=\"#4a4a4a\" cx=\"45\" cy=\"-90\" rx=\"27\" ry=\"18\"/>\n",
       "<text text-anchor=\"middle\" x=\"45\" y=\"-84.95\" font-family=\"Times,serif\" font-size=\"14.00\" fill=\"white\">A</text>\n",
       "</g>\n",
       "<!-- A&#45;&gt;X -->\n",
       "<g id=\"edge1\" class=\"edge\">\n",
       "<title>A-&gt;X</title>\n",
       "<path fill=\"none\" stroke=\"#4a4a4a\" d=\"M39.67,-72.3C37.73,-64.74 35.38,-55.62 33.19,-47.1\"/>\n",
       "<path fill=\"none\" stroke=\"#4a4a4a\" d=\"M41.61,-71.81C39.67,-64.24 37.32,-55.12 35.13,-46.6\"/>\n",
       "<polygon fill=\"#4a4a4a\" stroke=\"#4a4a4a\" points=\"37.57,-46.07 31.69,-37.25 30.79,-47.81 37.57,-46.07\"/>\n",
       "</g>\n",
       "<!-- B -->\n",
       "<g id=\"node3\" class=\"node\">\n",
       "<title>B</title>\n",
       "<ellipse fill=\"#404040\" stroke=\"#4a4a4a\" cx=\"99\" cy=\"-18\" rx=\"27\" ry=\"18\"/>\n",
       "<text text-anchor=\"middle\" x=\"99\" y=\"-12.95\" font-family=\"Times,serif\" font-size=\"14.00\" fill=\"white\">B</text>\n",
       "</g>\n",
       "<!-- A&#45;&gt;B -->\n",
       "<g id=\"edge3\" class=\"edge\">\n",
       "<title>A-&gt;B</title>\n",
       "<path fill=\"none\" stroke=\"#4a4a4a\" d=\"M56.19,-72.85C62.97,-64.06 71.61,-52.87 79.28,-42.92\"/>\n",
       "<path fill=\"none\" stroke=\"#4a4a4a\" d=\"M57.78,-74.08C64.56,-65.28 73.19,-54.09 80.87,-44.14\"/>\n",
       "<polygon fill=\"#4a4a4a\" stroke=\"#4a4a4a\" points=\"82.79,-45.75 86.12,-35.69 77.25,-41.47 82.79,-45.75\"/>\n",
       "</g>\n",
       "<!-- C -->\n",
       "<g id=\"node4\" class=\"node\">\n",
       "<title>C</title>\n",
       "<ellipse fill=\"#404040\" stroke=\"#4a4a4a\" cx=\"153\" cy=\"-90\" rx=\"27\" ry=\"18\"/>\n",
       "<text text-anchor=\"middle\" x=\"153\" y=\"-84.95\" font-family=\"Times,serif\" font-size=\"14.00\" fill=\"white\">C</text>\n",
       "</g>\n",
       "<!-- C&#45;&gt;B -->\n",
       "<g id=\"edge2\" class=\"edge\">\n",
       "<title>C-&gt;B</title>\n",
       "<path fill=\"none\" stroke=\"#4a4a4a\" d=\"M140.22,-74.08C133.44,-65.28 124.81,-54.09 117.13,-44.14\"/>\n",
       "<path fill=\"none\" stroke=\"#4a4a4a\" d=\"M141.81,-72.85C135.03,-64.06 126.39,-52.87 118.72,-42.92\"/>\n",
       "<polygon fill=\"#4a4a4a\" stroke=\"#4a4a4a\" points=\"120.75,-41.47 111.88,-35.69 115.21,-45.75 120.75,-41.47\"/>\n",
       "</g>\n",
       "<!-- Y -->\n",
       "<g id=\"node5\" class=\"node\">\n",
       "<title>Y</title>\n",
       "<ellipse fill=\"#404040\" stroke=\"#4a4a4a\" cx=\"171\" cy=\"-18\" rx=\"27\" ry=\"18\"/>\n",
       "<text text-anchor=\"middle\" x=\"171\" y=\"-12.95\" font-family=\"Times,serif\" font-size=\"14.00\" fill=\"white\">Y</text>\n",
       "</g>\n",
       "<!-- C&#45;&gt;Y -->\n",
       "<g id=\"edge4\" class=\"edge\">\n",
       "<title>C-&gt;Y</title>\n",
       "<path fill=\"none\" stroke=\"#4a4a4a\" d=\"M156.39,-71.81C158.33,-64.24 160.68,-55.12 162.87,-46.6\"/>\n",
       "<path fill=\"none\" stroke=\"#4a4a4a\" d=\"M158.33,-72.3C160.27,-64.74 162.62,-55.62 164.81,-47.1\"/>\n",
       "<polygon fill=\"#4a4a4a\" stroke=\"#4a4a4a\" points=\"167.21,-47.81 166.31,-37.25 160.43,-46.07 167.21,-47.81\"/>\n",
       "</g>\n",
       "</g>\n",
       "</svg><br><center><small><em>Causal Model</em></small></center></div><div class=\"floating-box\">$$\\begin{equation*}P( Y \\mid \\text{do}(X)) = P\\left(Y\\right)\\end{equation*}$$<br><center><small><em>Explanation : No causal effect of X on Y, because they are d-separated (conditioning on the observed variables if any).</em></small></center></div><div class=\"floating-box\"><table style=\"border:1px solid black;border-collapse: collapse;\">\n",
       "<tr style='border:1px solid black;color:black;background-color:#808080'>\n",
       "      <th colspan='2'><center>Y</center></th></tr>\n",
       "<tr><th style='border:1px solid black;border-bottom-style: double;color:black;background-color:#BBBBBB'>\n",
       "      <center>0</center></th><th style='border:1px solid black;border-bottom-style: double;color:black;background-color:#BBBBBB'>\n",
       "      <center>1</center></th></tr>\n",
       "<tr><td style='color:black;background-color:#cdb064;text-align:right;padding: 3px;'>0.3858</td><td style='color:black;background-color:#b0cd64;text-align:right;padding: 3px;'>0.6142</td></tr>\n",
       "</table><br><center><small><em>Impact</em></small></center></div>"
      ],
      "text/plain": [
       "<IPython.core.display.HTML object>"
      ]
     },
     "metadata": {},
     "output_type": "display_data"
    }
   ],
   "source": [
    "m4 = csl.CausalModel(e4)\n",
    "cslnb.showCausalImpact(m4, \"Y\", doing=\"X\", values={})"
   ]
  },
  {
   "cell_type": "code",
   "execution_count": 14,
   "metadata": {
    "execution": {
     "iopub.execute_input": "2025-03-24T10:37:13.386298Z",
     "iopub.status.busy": "2025-03-24T10:37:13.386193Z",
     "iopub.status.idle": "2025-03-24T10:37:13.388754Z",
     "shell.execute_reply": "2025-03-24T10:37:13.388521Z",
     "shell.execute_reply.started": "2025-03-24T10:37:13.386284Z"
    }
   },
   "outputs": [
    {
     "name": "stdout",
     "output_type": "stream",
     "text": [
      "The set of variables which satisfies the back-door criterion for (X, Y) is : None\n"
     ]
    }
   ],
   "source": [
    "# This function returns the set of variables which satisfies the back-door criterion for (X, Y)\n",
    "# None if there are no back-door paths.\n",
    "setOfVars = m4.backDoor(\"X\", \"Y\")\n",
    "print(\"The set of variables which satisfies the back-door criterion for (X, Y) is :\", setOfVars)"
   ]
  },
  {
   "cell_type": "markdown",
   "metadata": {},
   "source": [
    "> There is one back-door path from $X$ to $Y$ :\n",
    "$$X \\leftarrow A \\rightarrow B \\leftarrow C \\rightarrow Y$$\n",
    "We don't need to control for any set of variables, this back-door path is blocked by collider node $B$, the two variables are d-separated, deconfounded, independent.  Controlling for collider node $B$ would make them dependant (introducing the M-bias)."
   ]
  },
  {
   "cell_type": "markdown",
   "metadata": {
    "editable": true,
    "slideshow": {
     "slide_type": ""
    },
    "tags": []
   },
   "source": [
    "### Example 5:"
   ]
  },
  {
   "cell_type": "code",
   "execution_count": 15,
   "metadata": {
    "editable": true,
    "execution": {
     "iopub.execute_input": "2025-03-24T10:37:13.389224Z",
     "iopub.status.busy": "2025-03-24T10:37:13.389148Z",
     "iopub.status.idle": "2025-03-24T10:37:13.480476Z",
     "shell.execute_reply": "2025-03-24T10:37:13.480092Z",
     "shell.execute_reply.started": "2025-03-24T10:37:13.389217Z"
    },
    "slideshow": {
     "slide_type": ""
    },
    "tags": []
   },
   "outputs": [
    {
     "data": {
      "text/html": [
       "<svg xmlns=\"http://www.w3.org/2000/svg\" xmlns:xlink=\"http://www.w3.org/1999/xlink\" width=\"153pt\" height=\"260pt\" viewBox=\"0.00 0.00 153.00 260.00\">\n",
       "<g id=\"graph0\" class=\"graph\" transform=\"scale(1 1) rotate(0) translate(4 256)\">\n",
       "<title>G</title>\n",
       "<!-- Y -->\n",
       "<g id=\"node1\" class=\"node\">\n",
       "<title>Y</title>\n",
       "<g id=\"a_node1\"><a xlink:title=\"(3) Y\">\n",
       "<ellipse fill=\"#404040\" stroke=\"#4a4a4a\" cx=\"45\" cy=\"-18\" rx=\"27\" ry=\"18\"/>\n",
       "<text text-anchor=\"middle\" x=\"45\" y=\"-12.95\" font-family=\"Times,serif\" font-size=\"14.00\" fill=\"white\">Y</text>\n",
       "</a>\n",
       "</g>\n",
       "</g>\n",
       "<!-- B -->\n",
       "<g id=\"node2\" class=\"node\">\n",
       "<title>B</title>\n",
       "<g id=\"a_node2\"><a xlink:title=\"(1) B\">\n",
       "<ellipse fill=\"#404040\" stroke=\"#4a4a4a\" cx=\"73\" cy=\"-162\" rx=\"27\" ry=\"18\"/>\n",
       "<text text-anchor=\"middle\" x=\"73\" y=\"-156.95\" font-family=\"Times,serif\" font-size=\"14.00\" fill=\"white\">B</text>\n",
       "</a>\n",
       "</g>\n",
       "</g>\n",
       "<!-- X -->\n",
       "<g id=\"node4\" class=\"node\">\n",
       "<title>X</title>\n",
       "<g id=\"a_node4\"><a xlink:title=\"(0) X\">\n",
       "<ellipse fill=\"#404040\" stroke=\"#4a4a4a\" cx=\"73\" cy=\"-90\" rx=\"27\" ry=\"18\"/>\n",
       "<text text-anchor=\"middle\" x=\"73\" y=\"-84.95\" font-family=\"Times,serif\" font-size=\"14.00\" fill=\"white\">X</text>\n",
       "</a>\n",
       "</g>\n",
       "</g>\n",
       "<!-- B&#45;&gt;X -->\n",
       "<g id=\"edge5\" class=\"edge\">\n",
       "<title>B-&gt;X</title>\n",
       "<g id=\"a_edge5\"><a xlink:title=\"1 → 0\">\n",
       "<path fill=\"none\" stroke=\"#4a4a4a\" d=\"M73,-143.7C73,-136.41 73,-127.73 73,-119.54\"/>\n",
       "<polygon fill=\"#4a4a4a\" stroke=\"#4a4a4a\" points=\"76.5,-119.62 73,-109.62 69.5,-119.62 76.5,-119.62\"/>\n",
       "</a>\n",
       "</g>\n",
       "</g>\n",
       "<!-- C -->\n",
       "<g id=\"node3\" class=\"node\">\n",
       "<title>C</title>\n",
       "<g id=\"a_node3\"><a xlink:title=\"(4) C\">\n",
       "<ellipse fill=\"#404040\" stroke=\"#4a4a4a\" cx=\"27\" cy=\"-234\" rx=\"27\" ry=\"18\"/>\n",
       "<text text-anchor=\"middle\" x=\"27\" y=\"-228.95\" font-family=\"Times,serif\" font-size=\"14.00\" fill=\"white\">C</text>\n",
       "</a>\n",
       "</g>\n",
       "</g>\n",
       "<!-- C&#45;&gt;Y -->\n",
       "<g id=\"edge2\" class=\"edge\">\n",
       "<title>C-&gt;Y</title>\n",
       "<g id=\"a_edge2\"><a xlink:title=\"4 → 3\">\n",
       "<path fill=\"none\" stroke=\"#4a4a4a\" d=\"M27.58,-215.57C28.68,-185.98 31.46,-124.08 37,-72 37.85,-64.01 39.04,-55.38 40.23,-47.46\"/>\n",
       "<polygon fill=\"#4a4a4a\" stroke=\"#4a4a4a\" points=\"43.68,-48.06 41.79,-37.63 36.77,-46.96 43.68,-48.06\"/>\n",
       "</a>\n",
       "</g>\n",
       "</g>\n",
       "<!-- C&#45;&gt;B -->\n",
       "<g id=\"edge6\" class=\"edge\">\n",
       "<title>C-&gt;B</title>\n",
       "<g id=\"a_edge6\"><a xlink:title=\"4 → 1\">\n",
       "<path fill=\"none\" stroke=\"#4a4a4a\" d=\"M37.44,-217.12C43.03,-208.61 50.04,-197.94 56.36,-188.32\"/>\n",
       "<polygon fill=\"#4a4a4a\" stroke=\"#4a4a4a\" points=\"59.21,-190.37 61.77,-180.09 53.36,-186.52 59.21,-190.37\"/>\n",
       "</a>\n",
       "</g>\n",
       "</g>\n",
       "<!-- X&#45;&gt;Y -->\n",
       "<g id=\"edge3\" class=\"edge\">\n",
       "<title>X-&gt;Y</title>\n",
       "<g id=\"a_edge3\"><a xlink:title=\"0 → 3\">\n",
       "<path fill=\"none\" stroke=\"#4a4a4a\" d=\"M66.36,-72.41C63.23,-64.57 59.4,-54.99 55.85,-46.13\"/>\n",
       "<polygon fill=\"#4a4a4a\" stroke=\"#4a4a4a\" points=\"59.11,-44.86 52.15,-36.88 52.61,-47.46 59.11,-44.86\"/>\n",
       "</a>\n",
       "</g>\n",
       "</g>\n",
       "<!-- A -->\n",
       "<g id=\"node5\" class=\"node\">\n",
       "<title>A</title>\n",
       "<g id=\"a_node5\"><a xlink:title=\"(2) A\">\n",
       "<ellipse fill=\"#404040\" stroke=\"#4a4a4a\" cx=\"118\" cy=\"-234\" rx=\"27\" ry=\"18\"/>\n",
       "<text text-anchor=\"middle\" x=\"118\" y=\"-228.95\" font-family=\"Times,serif\" font-size=\"14.00\" fill=\"white\">A</text>\n",
       "</a>\n",
       "</g>\n",
       "</g>\n",
       "<!-- A&#45;&gt;B -->\n",
       "<g id=\"edge1\" class=\"edge\">\n",
       "<title>A-&gt;B</title>\n",
       "<g id=\"a_edge1\"><a xlink:title=\"2 → 1\">\n",
       "<path fill=\"none\" stroke=\"#4a4a4a\" d=\"M107.79,-217.12C102.32,-208.61 95.46,-197.94 89.28,-188.32\"/>\n",
       "<polygon fill=\"#4a4a4a\" stroke=\"#4a4a4a\" points=\"92.34,-186.61 83.99,-180.09 86.45,-190.4 92.34,-186.61\"/>\n",
       "</a>\n",
       "</g>\n",
       "</g>\n",
       "<!-- A&#45;&gt;X -->\n",
       "<g id=\"edge4\" class=\"edge\">\n",
       "<title>A-&gt;X</title>\n",
       "<g id=\"a_edge4\"><a xlink:title=\"2 → 0\">\n",
       "<path fill=\"none\" stroke=\"#4a4a4a\" d=\"M118.72,-215.72C118.93,-197.37 117.65,-167.79 109,-144 105.3,-133.82 99.21,-123.72 93.08,-115.11\"/>\n",
       "<polygon fill=\"#4a4a4a\" stroke=\"#4a4a4a\" points=\"96,-113.17 87.18,-107.3 90.41,-117.39 96,-113.17\"/>\n",
       "</a>\n",
       "</g>\n",
       "</g>\n",
       "</g>\n",
       "</svg>"
      ],
      "text/plain": [
       "(pyagrum.BayesNet@0x1321ef200) BN{nodes: 5, arcs: 6, domainSize: 32, dim: 14, mem: 224o}"
      ]
     },
     "execution_count": 15,
     "metadata": {},
     "output_type": "execute_result"
    }
   ],
   "source": [
    "e5 = gum.fastBN(\"X<-B<-A->X->Y<-C->B\")\n",
    "e5"
   ]
  },
  {
   "cell_type": "code",
   "execution_count": 16,
   "metadata": {
    "execution": {
     "iopub.execute_input": "2025-03-24T10:37:13.481153Z",
     "iopub.status.busy": "2025-03-24T10:37:13.481053Z",
     "iopub.status.idle": "2025-03-24T10:37:13.588056Z",
     "shell.execute_reply": "2025-03-24T10:37:13.587769Z",
     "shell.execute_reply.started": "2025-03-24T10:37:13.481142Z"
    }
   },
   "outputs": [
    {
     "data": {
      "text/html": [
       "\n",
       "      <style>\n",
       "      .floating-box {\n",
       "      display: inline-block;\n",
       "      margin: 7px;\n",
       "      padding : 3px;\n",
       "      border: 0px solid transparent;  \n",
       "      valign:middle;\n",
       "      background-color: transparent;\n",
       "      }\n",
       "      </style>\n",
       "      <div class=\"floating-box\"><svg xmlns=\"http://www.w3.org/2000/svg\" xmlns:xlink=\"http://www.w3.org/1999/xlink\" width=\"99pt\" height=\"180pt\" viewBox=\"0.00 0.00 99.00 180.00\">\n",
       "<g id=\"graph0\" class=\"graph\" transform=\"scale(0.692308 0.692308) rotate(0) translate(4 256)\">\n",
       "<title>G</title>\n",
       "<!-- X -->\n",
       "<g id=\"node1\" class=\"node\">\n",
       "<title>X</title>\n",
       "<ellipse fill=\"#404040\" stroke=\"#4a4a4a\" cx=\"63\" cy=\"-90\" rx=\"27\" ry=\"18\"/>\n",
       "<text text-anchor=\"middle\" x=\"63\" y=\"-84.95\" font-family=\"Times,serif\" font-size=\"14.00\" fill=\"white\">X</text>\n",
       "</g>\n",
       "<!-- Y -->\n",
       "<g id=\"node4\" class=\"node\">\n",
       "<title>Y</title>\n",
       "<ellipse fill=\"#404040\" stroke=\"#4a4a4a\" cx=\"35\" cy=\"-18\" rx=\"27\" ry=\"18\"/>\n",
       "<text text-anchor=\"middle\" x=\"35\" y=\"-12.95\" font-family=\"Times,serif\" font-size=\"14.00\" fill=\"white\">Y</text>\n",
       "</g>\n",
       "<!-- X&#45;&gt;Y -->\n",
       "<g id=\"edge3\" class=\"edge\">\n",
       "<title>X-&gt;Y</title>\n",
       "<path fill=\"none\" stroke=\"#4a4a4a\" d=\"M55.44,-72.78C52.3,-64.94 48.47,-55.37 44.92,-46.5\"/>\n",
       "<path fill=\"none\" stroke=\"#4a4a4a\" d=\"M57.29,-72.04C54.15,-64.19 50.33,-54.62 46.78,-45.76\"/>\n",
       "<polygon fill=\"#4a4a4a\" stroke=\"#4a4a4a\" points=\"49.11,-44.86 42.15,-36.88 42.61,-47.46 49.11,-44.86\"/>\n",
       "</g>\n",
       "<!-- B -->\n",
       "<g id=\"node2\" class=\"node\">\n",
       "<title>B</title>\n",
       "<ellipse fill=\"#404040\" stroke=\"#4a4a4a\" cx=\"63\" cy=\"-162\" rx=\"27\" ry=\"18\"/>\n",
       "<text text-anchor=\"middle\" x=\"63\" y=\"-156.95\" font-family=\"Times,serif\" font-size=\"14.00\" fill=\"white\">B</text>\n",
       "</g>\n",
       "<!-- B&#45;&gt;X -->\n",
       "<g id=\"edge5\" class=\"edge\">\n",
       "<title>B-&gt;X</title>\n",
       "<path fill=\"none\" stroke=\"#4a4a4a\" d=\"M62,-143.7C62,-136.41 62,-127.73 62,-119.54\"/>\n",
       "<path fill=\"none\" stroke=\"#4a4a4a\" d=\"M64,-143.7C64,-136.41 64,-127.73 64,-119.54\"/>\n",
       "<polygon fill=\"#4a4a4a\" stroke=\"#4a4a4a\" points=\"66.5,-119.62 63,-109.62 59.5,-119.62 66.5,-119.62\"/>\n",
       "</g>\n",
       "<!-- A -->\n",
       "<g id=\"node3\" class=\"node\">\n",
       "<title>A</title>\n",
       "<ellipse fill=\"#404040\" stroke=\"#4a4a4a\" cx=\"108\" cy=\"-234\" rx=\"27\" ry=\"18\"/>\n",
       "<text text-anchor=\"middle\" x=\"108\" y=\"-228.95\" font-family=\"Times,serif\" font-size=\"14.00\" fill=\"white\">A</text>\n",
       "</g>\n",
       "<!-- A&#45;&gt;X -->\n",
       "<g id=\"edge4\" class=\"edge\">\n",
       "<title>A-&gt;X</title>\n",
       "<path fill=\"none\" stroke=\"#4a4a4a\" d=\"M107.72,-215.7C107.93,-197.41 106.65,-167.83 98.06,-144.34 94.44,-134.34 88.35,-124.24 82.26,-115.69\"/>\n",
       "<path fill=\"none\" stroke=\"#4a4a4a\" d=\"M109.72,-215.73C109.93,-197.32 108.65,-167.75 99.94,-143.66 96.16,-133.31 90.06,-123.2 83.89,-114.53\"/>\n",
       "<polygon fill=\"#4a4a4a\" stroke=\"#4a4a4a\" points=\"86,-113.17 77.18,-107.3 80.41,-117.39 86,-113.17\"/>\n",
       "</g>\n",
       "<!-- A&#45;&gt;B -->\n",
       "<g id=\"edge1\" class=\"edge\">\n",
       "<title>A-&gt;B</title>\n",
       "<path fill=\"none\" stroke=\"#4a4a4a\" d=\"M96.95,-217.66C91.48,-209.15 84.62,-198.48 78.44,-188.86\"/>\n",
       "<path fill=\"none\" stroke=\"#4a4a4a\" d=\"M98.63,-216.58C93.16,-208.07 86.3,-197.4 80.12,-187.78\"/>\n",
       "<polygon fill=\"#4a4a4a\" stroke=\"#4a4a4a\" points=\"82.34,-186.61 73.99,-180.09 76.45,-190.4 82.34,-186.61\"/>\n",
       "</g>\n",
       "<!-- C -->\n",
       "<g id=\"node5\" class=\"node\">\n",
       "<title>C</title>\n",
       "<ellipse fill=\"#404040\" stroke=\"#4a4a4a\" cx=\"27\" cy=\"-234\" rx=\"27\" ry=\"18\"/>\n",
       "<text text-anchor=\"middle\" x=\"27\" y=\"-228.95\" font-family=\"Times,serif\" font-size=\"14.00\" fill=\"white\">C</text>\n",
       "</g>\n",
       "<!-- C&#45;&gt;B -->\n",
       "<g id=\"edge6\" class=\"edge\">\n",
       "<title>C-&gt;B</title>\n",
       "<path fill=\"none\" stroke=\"#4a4a4a\" d=\"M34.46,-216.31C38.69,-208.09 43.92,-197.92 48.69,-188.64\"/>\n",
       "<path fill=\"none\" stroke=\"#4a4a4a\" d=\"M36.24,-217.22C40.46,-209.01 45.7,-198.83 50.47,-189.55\"/>\n",
       "<polygon fill=\"#4a4a4a\" stroke=\"#4a4a4a\" points=\"52.54,-190.99 54,-180.49 46.32,-187.79 52.54,-190.99\"/>\n",
       "</g>\n",
       "<!-- C&#45;&gt;Y -->\n",
       "<g id=\"edge2\" class=\"edge\">\n",
       "<title>C-&gt;Y</title>\n",
       "<path fill=\"none\" stroke=\"#4a4a4a\" d=\"M25.15,-215.62C23.89,-186.03 22.09,-124.15 26,-71.93 26.61,-63.86 27.71,-55.23 28.92,-47.28\"/>\n",
       "<path fill=\"none\" stroke=\"#4a4a4a\" d=\"M27.15,-215.53C25.89,-185.98 24.09,-124.09 28,-72.07 28.59,-64.12 29.7,-55.48 30.9,-47.58\"/>\n",
       "<polygon fill=\"#4a4a4a\" stroke=\"#4a4a4a\" points=\"33.35,-48.04 31.51,-37.61 26.45,-46.91 33.35,-48.04\"/>\n",
       "</g>\n",
       "</g>\n",
       "</svg><br><center><small><em>Causal Model</em></small></center></div><div class=\"floating-box\">$$\\begin{equation*}P( Y \\mid \\text{do}(X)) = \\sum_{C}{P\\left(Y\\mid C,X\\right) \\cdot P\\left(C\\right)}\\end{equation*}$$<br><center><small><em>Explanation : backdoor ['C'] found.</em></small></center></div><div class=\"floating-box\"><table style=\"border:1px solid black;border-collapse: collapse;\">\n",
       "<tr><th colspan='1'></th>\n",
       "      <th colspan='2' style='border:1px solid black;color:black;background-color:#808080;'><center>Y</center>\n",
       "      </th></tr>\n",
       "<tr><th style='border:1px solid black;color:black;background-color:#808080'><center>X</center></th><th style='border:1px solid black;border-bottom-style: double;color:black;background-color:#BBBBBB'>\n",
       "      <center>0</center></th><th style='border:1px solid black;border-bottom-style: double;color:black;background-color:#BBBBBB'>\n",
       "      <center>1</center></th></tr>\n",
       "<tr><th style='border:1px solid black;color:black;background-color:#BBBBBB'><center>0</center></th><td style='color:black;background-color:#9edf64;text-align:right;padding: 3px;'>0.7511</td><td style='color:black;background-color:#df9e64;text-align:right;padding: 3px;'>0.2489</td></tr>\n",
       "<tr><th style='border:1px solid black;color:black;background-color:#BBBBBB'><center>1</center></th><td style='color:black;background-color:#d5a864;text-align:right;padding: 3px;'>0.3242</td><td style='color:black;background-color:#a8d564;text-align:right;padding: 3px;'>0.6758</td></tr>\n",
       "</table><br><center><small><em>Impact</em></small></center></div>"
      ],
      "text/plain": [
       "<IPython.core.display.HTML object>"
      ]
     },
     "metadata": {},
     "output_type": "display_data"
    }
   ],
   "source": [
    "m5 = csl.CausalModel(e5)\n",
    "cslnb.showCausalImpact(m5, \"Y\", doing=\"X\", values={})"
   ]
  },
  {
   "cell_type": "markdown",
   "metadata": {
    "editable": true,
    "slideshow": {
     "slide_type": ""
    },
    "tags": []
   },
   "source": [
    "![Game 4 and 5](images/game4.game5.png)"
   ]
  },
  {
   "cell_type": "code",
   "execution_count": 17,
   "metadata": {
    "editable": true,
    "execution": {
     "iopub.execute_input": "2025-03-24T10:37:13.588662Z",
     "iopub.status.busy": "2025-03-24T10:37:13.588563Z",
     "iopub.status.idle": "2025-03-24T10:37:13.590837Z",
     "shell.execute_reply": "2025-03-24T10:37:13.590602Z",
     "shell.execute_reply.started": "2025-03-24T10:37:13.588651Z"
    },
    "slideshow": {
     "slide_type": ""
    },
    "tags": []
   },
   "outputs": [
    {
     "name": "stdout",
     "output_type": "stream",
     "text": [
      "The set of variables which satisfies the back-door criterion for (X, Y) is : {'C'}\n"
     ]
    }
   ],
   "source": [
    "# This function returns the set of variables which satisfies the back-door criterion for (X, Y)\n",
    "# None if there are no back-door paths.\n",
    "setOfVars = m5.backDoor(\"X\", \"Y\")\n",
    "print(\"The set of variables which satisfies the back-door criterion for (X, Y) is :\", setOfVars)"
   ]
  },
  {
   "cell_type": "markdown",
   "metadata": {},
   "source": [
    "> The difference between this example and the previous one is that we added an arrow between $B$ and $X$ ( $B \\rightarrow X$ ), this opens a new back-door path between $X$ and $Y$ that isn't blocked by any colliders $$X \\leftarrow B \\leftarrow C \\rightarrow Y$$\n",
    "We need to block the non-causal information that flows through it, controlling for $B$ closes this backdoor path (it prevents information from getting from $X$ to $C$). However, this action will open the back-door path that was formerly blocked by collider node $B$ that we are adjusting for now:\n",
    "$$X \\leftarrow A \\rightarrow B \\leftarrow C \\rightarrow Y$$\n",
    "And, in this case, in addition to $B$ we would also control for $C$ or for $A$ to reblock the path we opened and to block the new path. <br> <br>\n",
    "Another solution is to control for $C$ (it prevents information from getting from $B$ to $Y$) which satisfies the back-door criterion, it blocks the new path without reopening the one that is blocked by $B$."
   ]
  },
  {
   "cell_type": "markdown",
   "metadata": {
    "editable": true,
    "slideshow": {
     "slide_type": ""
    },
    "tags": []
   },
   "source": [
    "### Example 6:"
   ]
  },
  {
   "cell_type": "code",
   "execution_count": 18,
   "metadata": {
    "execution": {
     "iopub.execute_input": "2025-03-24T10:37:13.591338Z",
     "iopub.status.busy": "2025-03-24T10:37:13.591235Z",
     "iopub.status.idle": "2025-03-24T10:37:13.684877Z",
     "shell.execute_reply": "2025-03-24T10:37:13.684549Z",
     "shell.execute_reply.started": "2025-03-24T10:37:13.591329Z"
    }
   },
   "outputs": [
    {
     "data": {
      "text/html": [
       "<svg xmlns=\"http://www.w3.org/2000/svg\" xmlns:xlink=\"http://www.w3.org/1999/xlink\" width=\"291pt\" height=\"332pt\" viewBox=\"0.00 0.00 291.48 332.00\">\n",
       "<g id=\"graph0\" class=\"graph\" transform=\"scale(1 1) rotate(0) translate(4 328)\">\n",
       "<title>G</title>\n",
       "<!-- D -->\n",
       "<g id=\"node1\" class=\"node\">\n",
       "<title>D</title>\n",
       "<g id=\"a_node1\"><a xlink:title=\"(3) D\">\n",
       "<ellipse fill=\"#404040\" stroke=\"#4a4a4a\" cx=\"70.07\" cy=\"-306\" rx=\"27\" ry=\"18\"/>\n",
       "<text text-anchor=\"middle\" x=\"70.07\" y=\"-300.95\" font-family=\"Times,serif\" font-size=\"14.00\" fill=\"white\">D</text>\n",
       "</a>\n",
       "</g>\n",
       "</g>\n",
       "<!-- C -->\n",
       "<g id=\"node6\" class=\"node\">\n",
       "<title>C</title>\n",
       "<g id=\"a_node6\"><a xlink:title=\"(4) C\">\n",
       "<ellipse fill=\"#404040\" stroke=\"#4a4a4a\" cx=\"114.07\" cy=\"-234\" rx=\"27\" ry=\"18\"/>\n",
       "<text text-anchor=\"middle\" x=\"114.07\" y=\"-228.95\" font-family=\"Times,serif\" font-size=\"14.00\" fill=\"white\">C</text>\n",
       "</a>\n",
       "</g>\n",
       "</g>\n",
       "<!-- D&#45;&gt;C -->\n",
       "<g id=\"edge5\" class=\"edge\">\n",
       "<title>D-&gt;C</title>\n",
       "<g id=\"a_edge5\"><a xlink:title=\"3 → 4\">\n",
       "<path fill=\"none\" stroke=\"#4a4a4a\" d=\"M80.06,-289.12C85.4,-280.61 92.11,-269.94 98.15,-260.32\"/>\n",
       "<polygon fill=\"#4a4a4a\" stroke=\"#4a4a4a\" points=\"100.96,-262.43 103.32,-252.1 95.04,-258.71 100.96,-262.43\"/>\n",
       "</a>\n",
       "</g>\n",
       "</g>\n",
       "<!-- A -->\n",
       "<g id=\"node9\" class=\"node\">\n",
       "<title>A</title>\n",
       "<g id=\"a_node9\"><a xlink:title=\"(0) A\">\n",
       "<ellipse fill=\"#404040\" stroke=\"#4a4a4a\" cx=\"42.07\" cy=\"-234\" rx=\"27\" ry=\"18\"/>\n",
       "<text text-anchor=\"middle\" x=\"42.07\" y=\"-228.95\" font-family=\"Times,serif\" font-size=\"14.00\" fill=\"white\">A</text>\n",
       "</a>\n",
       "</g>\n",
       "</g>\n",
       "<!-- D&#45;&gt;A -->\n",
       "<g id=\"edge10\" class=\"edge\">\n",
       "<title>D-&gt;A</title>\n",
       "<g id=\"a_edge10\"><a xlink:title=\"3 → 0\">\n",
       "<path fill=\"none\" stroke=\"#4a4a4a\" d=\"M63.44,-288.41C60.3,-280.57 56.47,-270.99 52.92,-262.13\"/>\n",
       "<polygon fill=\"#4a4a4a\" stroke=\"#4a4a4a\" points=\"56.18,-260.86 49.22,-252.88 49.69,-263.46 56.18,-260.86\"/>\n",
       "</a>\n",
       "</g>\n",
       "</g>\n",
       "<!-- B -->\n",
       "<g id=\"node2\" class=\"node\">\n",
       "<title>B</title>\n",
       "<g id=\"a_node2\"><a xlink:title=\"(2) B\">\n",
       "<ellipse fill=\"#404040\" stroke=\"#4a4a4a\" cx=\"42.07\" cy=\"-162\" rx=\"27\" ry=\"18\"/>\n",
       "<text text-anchor=\"middle\" x=\"42.07\" y=\"-156.95\" font-family=\"Times,serif\" font-size=\"14.00\" fill=\"white\">B</text>\n",
       "</a>\n",
       "</g>\n",
       "</g>\n",
       "<!-- X -->\n",
       "<g id=\"node8\" class=\"node\">\n",
       "<title>X</title>\n",
       "<g id=\"a_node8\"><a xlink:title=\"(1) X\">\n",
       "<ellipse fill=\"#404040\" stroke=\"#4a4a4a\" cx=\"169.07\" cy=\"-90\" rx=\"27\" ry=\"18\"/>\n",
       "<text text-anchor=\"middle\" x=\"169.07\" y=\"-84.95\" font-family=\"Times,serif\" font-size=\"14.00\" fill=\"white\">X</text>\n",
       "</a>\n",
       "</g>\n",
       "</g>\n",
       "<!-- B&#45;&gt;X -->\n",
       "<g id=\"edge4\" class=\"edge\">\n",
       "<title>B-&gt;X</title>\n",
       "<g id=\"a_edge4\"><a xlink:title=\"2 → 1\">\n",
       "<path fill=\"none\" stroke=\"#4a4a4a\" d=\"M62.48,-149.75C83.12,-138.37 115.27,-120.65 138.87,-107.65\"/>\n",
       "<polygon fill=\"#4a4a4a\" stroke=\"#4a4a4a\" points=\"140.32,-110.84 147.39,-102.95 136.94,-104.71 140.32,-110.84\"/>\n",
       "</a>\n",
       "</g>\n",
       "</g>\n",
       "<!-- E -->\n",
       "<g id=\"node3\" class=\"node\">\n",
       "<title>E</title>\n",
       "<g id=\"a_node3\"><a xlink:title=\"(5) E\">\n",
       "<ellipse fill=\"#404040\" stroke=\"#4a4a4a\" cx=\"114.07\" cy=\"-162\" rx=\"27\" ry=\"18\"/>\n",
       "<text text-anchor=\"middle\" x=\"114.07\" y=\"-156.95\" font-family=\"Times,serif\" font-size=\"14.00\" fill=\"white\">E</text>\n",
       "</a>\n",
       "</g>\n",
       "</g>\n",
       "<!-- Y -->\n",
       "<g id=\"node4\" class=\"node\">\n",
       "<title>Y</title>\n",
       "<g id=\"a_node4\"><a xlink:title=\"(6) Y\">\n",
       "<ellipse fill=\"#404040\" stroke=\"#4a4a4a\" cx=\"224.07\" cy=\"-18\" rx=\"27\" ry=\"18\"/>\n",
       "<text text-anchor=\"middle\" x=\"224.07\" y=\"-12.95\" font-family=\"Times,serif\" font-size=\"14.00\" fill=\"white\">Y</text>\n",
       "</a>\n",
       "</g>\n",
       "</g>\n",
       "<!-- E&#45;&gt;Y -->\n",
       "<g id=\"edge14\" class=\"edge\">\n",
       "<title>E-&gt;Y</title>\n",
       "<g id=\"a_edge14\"><a xlink:title=\"5 → 6\">\n",
       "<path fill=\"none\" stroke=\"#4a4a4a\" d=\"M113.76,-143.61C114.26,-124.36 117.69,-93.24 133.07,-72 146.94,-52.85 170.02,-39.52 189.47,-31.02\"/>\n",
       "<polygon fill=\"#4a4a4a\" stroke=\"#4a4a4a\" points=\"190.77,-34.27 198.71,-27.25 188.13,-27.79 190.77,-34.27\"/>\n",
       "</a>\n",
       "</g>\n",
       "</g>\n",
       "<!-- E&#45;&gt;X -->\n",
       "<g id=\"edge8\" class=\"edge\">\n",
       "<title>E-&gt;X</title>\n",
       "<g id=\"a_edge8\"><a xlink:title=\"5 → 1\">\n",
       "<path fill=\"none\" stroke=\"#4a4a4a\" d=\"M126.28,-145.46C133.18,-136.67 141.98,-125.48 149.8,-115.53\"/>\n",
       "<polygon fill=\"#4a4a4a\" stroke=\"#4a4a4a\" points=\"152.54,-117.71 155.96,-107.68 147.03,-113.38 152.54,-117.71\"/>\n",
       "</a>\n",
       "</g>\n",
       "</g>\n",
       "<!-- F -->\n",
       "<g id=\"node5\" class=\"node\">\n",
       "<title>F</title>\n",
       "<g id=\"a_node5\"><a xlink:title=\"(7) F\">\n",
       "<ellipse fill=\"#404040\" stroke=\"#4a4a4a\" cx=\"169.07\" cy=\"-306\" rx=\"27\" ry=\"18\"/>\n",
       "<text text-anchor=\"middle\" x=\"169.07\" y=\"-300.95\" font-family=\"Times,serif\" font-size=\"14.00\" fill=\"white\">F</text>\n",
       "</a>\n",
       "</g>\n",
       "</g>\n",
       "<!-- F&#45;&gt;Y -->\n",
       "<g id=\"edge13\" class=\"edge\">\n",
       "<title>F-&gt;Y</title>\n",
       "<g id=\"a_edge13\"><a xlink:title=\"7 → 6\">\n",
       "<path fill=\"none\" stroke=\"#4a4a4a\" d=\"M186.83,-292.08C213.12,-271.73 261.31,-229.38 280.07,-180 286.44,-163.24 282.6,-86.8 276.07,-72 270.53,-59.45 260.61,-48.18 250.91,-39.28\"/>\n",
       "<polygon fill=\"#4a4a4a\" stroke=\"#4a4a4a\" points=\"253.22,-36.65 243.34,-32.81 248.66,-41.97 253.22,-36.65\"/>\n",
       "</a>\n",
       "</g>\n",
       "</g>\n",
       "<!-- F&#45;&gt;C -->\n",
       "<g id=\"edge2\" class=\"edge\">\n",
       "<title>F-&gt;C</title>\n",
       "<g id=\"a_edge2\"><a xlink:title=\"7 → 4\">\n",
       "<path fill=\"none\" stroke=\"#4a4a4a\" d=\"M156.86,-289.46C149.96,-280.67 141.16,-269.48 133.35,-259.53\"/>\n",
       "<polygon fill=\"#4a4a4a\" stroke=\"#4a4a4a\" points=\"136.11,-257.38 127.18,-251.68 130.6,-261.71 136.11,-257.38\"/>\n",
       "</a>\n",
       "</g>\n",
       "</g>\n",
       "<!-- F&#45;&gt;X -->\n",
       "<g id=\"edge3\" class=\"edge\">\n",
       "<title>F-&gt;X</title>\n",
       "<g id=\"a_edge3\"><a xlink:title=\"7 → 1\">\n",
       "<path fill=\"none\" stroke=\"#4a4a4a\" d=\"M169.07,-287.85C169.07,-251.14 169.07,-164.66 169.07,-119.53\"/>\n",
       "<polygon fill=\"#4a4a4a\" stroke=\"#4a4a4a\" points=\"172.57,-119.75 169.07,-109.75 165.57,-119.75 172.57,-119.75\"/>\n",
       "</a>\n",
       "</g>\n",
       "</g>\n",
       "<!-- C&#45;&gt;B -->\n",
       "<g id=\"edge9\" class=\"edge\">\n",
       "<title>C-&gt;B</title>\n",
       "<g id=\"a_edge9\"><a xlink:title=\"4 → 2\">\n",
       "<path fill=\"none\" stroke=\"#4a4a4a\" d=\"M99.15,-218.5C89.31,-208.92 76.21,-196.19 65.05,-185.34\"/>\n",
       "<polygon fill=\"#4a4a4a\" stroke=\"#4a4a4a\" points=\"67.67,-183 58.06,-178.54 62.79,-188.02 67.67,-183\"/>\n",
       "</a>\n",
       "</g>\n",
       "</g>\n",
       "<!-- C&#45;&gt;E -->\n",
       "<g id=\"edge11\" class=\"edge\">\n",
       "<title>C-&gt;E</title>\n",
       "<g id=\"a_edge11\"><a xlink:title=\"4 → 5\">\n",
       "<path fill=\"none\" stroke=\"#4a4a4a\" d=\"M114.07,-215.7C114.07,-208.41 114.07,-199.73 114.07,-191.54\"/>\n",
       "<polygon fill=\"#4a4a4a\" stroke=\"#4a4a4a\" points=\"117.57,-191.62 114.07,-181.62 110.57,-191.62 117.57,-191.62\"/>\n",
       "</a>\n",
       "</g>\n",
       "</g>\n",
       "<!-- C&#45;&gt;Y -->\n",
       "<g id=\"edge7\" class=\"edge\">\n",
       "<title>C-&gt;Y</title>\n",
       "<g id=\"a_edge7\"><a xlink:title=\"4 → 6\">\n",
       "<path fill=\"none\" stroke=\"#4a4a4a\" d=\"M141.12,-232C175.37,-229.1 233.14,-218.42 260.07,-180 288.97,-138.76 261.2,-78.23 240.96,-44.36\"/>\n",
       "<polygon fill=\"#4a4a4a\" stroke=\"#4a4a4a\" points=\"244.04,-42.68 235.79,-36.03 238.1,-46.38 244.04,-42.68\"/>\n",
       "</a>\n",
       "</g>\n",
       "</g>\n",
       "<!-- G -->\n",
       "<g id=\"node7\" class=\"node\">\n",
       "<title>G</title>\n",
       "<g id=\"a_node7\"><a xlink:title=\"(8) G\">\n",
       "<ellipse fill=\"#404040\" stroke=\"#4a4a4a\" cx=\"224.07\" cy=\"-162\" rx=\"27\" ry=\"18\"/>\n",
       "<text text-anchor=\"middle\" x=\"224.07\" y=\"-156.95\" font-family=\"Times,serif\" font-size=\"14.00\" fill=\"white\">G</text>\n",
       "</a>\n",
       "</g>\n",
       "</g>\n",
       "<!-- G&#45;&gt;Y -->\n",
       "<g id=\"edge15\" class=\"edge\">\n",
       "<title>G-&gt;Y</title>\n",
       "<g id=\"a_edge15\"><a xlink:title=\"8 → 6\">\n",
       "<path fill=\"none\" stroke=\"#4a4a4a\" d=\"M224.07,-143.59C224.07,-119.61 224.07,-76.14 224.07,-47.42\"/>\n",
       "<polygon fill=\"#4a4a4a\" stroke=\"#4a4a4a\" points=\"227.57,-47.62 224.07,-37.62 220.57,-47.62 227.57,-47.62\"/>\n",
       "</a>\n",
       "</g>\n",
       "</g>\n",
       "<!-- G&#45;&gt;X -->\n",
       "<g id=\"edge6\" class=\"edge\">\n",
       "<title>G-&gt;X</title>\n",
       "<g id=\"a_edge6\"><a xlink:title=\"8 → 1\">\n",
       "<path fill=\"none\" stroke=\"#4a4a4a\" d=\"M211.86,-145.46C204.96,-136.67 196.16,-125.48 188.35,-115.53\"/>\n",
       "<polygon fill=\"#4a4a4a\" stroke=\"#4a4a4a\" points=\"191.11,-113.38 182.18,-107.68 185.6,-117.71 191.11,-113.38\"/>\n",
       "</a>\n",
       "</g>\n",
       "</g>\n",
       "<!-- X&#45;&gt;Y -->\n",
       "<g id=\"edge16\" class=\"edge\">\n",
       "<title>X-&gt;Y</title>\n",
       "<g id=\"a_edge16\"><a xlink:title=\"1 → 6\">\n",
       "<path fill=\"none\" stroke=\"#4a4a4a\" d=\"M181.28,-73.46C188.18,-64.67 196.98,-53.48 204.8,-43.53\"/>\n",
       "<polygon fill=\"#4a4a4a\" stroke=\"#4a4a4a\" points=\"207.54,-45.71 210.96,-35.68 202.03,-41.38 207.54,-45.71\"/>\n",
       "</a>\n",
       "</g>\n",
       "</g>\n",
       "<!-- A&#45;&gt;B -->\n",
       "<g id=\"edge12\" class=\"edge\">\n",
       "<title>A-&gt;B</title>\n",
       "<g id=\"a_edge12\"><a xlink:title=\"0 → 2\">\n",
       "<path fill=\"none\" stroke=\"#4a4a4a\" d=\"M42.07,-215.7C42.07,-208.41 42.07,-199.73 42.07,-191.54\"/>\n",
       "<polygon fill=\"#4a4a4a\" stroke=\"#4a4a4a\" points=\"45.57,-191.62 42.07,-181.62 38.57,-191.62 45.57,-191.62\"/>\n",
       "</a>\n",
       "</g>\n",
       "</g>\n",
       "<!-- A&#45;&gt;X -->\n",
       "<g id=\"edge1\" class=\"edge\">\n",
       "<title>A-&gt;X</title>\n",
       "<g id=\"a_edge1\"><a xlink:title=\"0 → 1\">\n",
       "<path fill=\"none\" stroke=\"#4a4a4a\" d=\"M27.83,-218.36C11.52,-199.77 -10.88,-167.33 6.07,-144 34.36,-105.05 91.98,-94.16 130.57,-91.43\"/>\n",
       "<polygon fill=\"#4a4a4a\" stroke=\"#4a4a4a\" points=\"130.57,-94.93 140.37,-90.9 130.2,-87.94 130.57,-94.93\"/>\n",
       "</a>\n",
       "</g>\n",
       "</g>\n",
       "</g>\n",
       "</svg>"
      ],
      "text/plain": [
       "(pyagrum.BayesNet@0x105061e00) BN{nodes: 9, arcs: 16, domainSize: 512, dim: 79, mem: 1Ko 240o}"
      ]
     },
     "execution_count": 18,
     "metadata": {},
     "output_type": "execute_result"
    }
   ],
   "source": [
    "e6 = gum.fastBN(\"A->X;A->B;D->A;B->X;C->B;C->E;C->Y;D->C;E->Y;E->X;F->C;F->X;F->Y;G->X;G->Y;X->Y\")\n",
    "e6"
   ]
  },
  {
   "cell_type": "code",
   "execution_count": 19,
   "metadata": {
    "execution": {
     "iopub.execute_input": "2025-03-24T10:37:13.685555Z",
     "iopub.status.busy": "2025-03-24T10:37:13.685457Z",
     "iopub.status.idle": "2025-03-24T10:37:13.852348Z",
     "shell.execute_reply": "2025-03-24T10:37:13.852043Z",
     "shell.execute_reply.started": "2025-03-24T10:37:13.685544Z"
    }
   },
   "outputs": [
    {
     "data": {
      "text/html": [
       "\n",
       "      <style>\n",
       "      .floating-box {\n",
       "      display: inline-block;\n",
       "      margin: 7px;\n",
       "      padding : 3px;\n",
       "      border: 0px solid transparent;  \n",
       "      valign:middle;\n",
       "      background-color: transparent;\n",
       "      }\n",
       "      </style>\n",
       "      <div class=\"floating-box\"><svg xmlns=\"http://www.w3.org/2000/svg\" xmlns:xlink=\"http://www.w3.org/1999/xlink\" width=\"168pt\" height=\"180pt\" viewBox=\"0.00 0.00 168.06 180.00\">\n",
       "<g id=\"graph0\" class=\"graph\" transform=\"scale(0.542169 0.542169) rotate(0) translate(4 328)\">\n",
       "<title>G</title>\n",
       "<!-- A -->\n",
       "<g id=\"node1\" class=\"node\">\n",
       "<title>A</title>\n",
       "<ellipse fill=\"#404040\" stroke=\"#4a4a4a\" cx=\"131.82\" cy=\"-234\" rx=\"27\" ry=\"18\"/>\n",
       "<text text-anchor=\"middle\" x=\"131.82\" y=\"-228.95\" font-family=\"Times,serif\" font-size=\"14.00\" fill=\"white\">A</text>\n",
       "</g>\n",
       "<!-- X -->\n",
       "<g id=\"node2\" class=\"node\">\n",
       "<title>X</title>\n",
       "<ellipse fill=\"#404040\" stroke=\"#4a4a4a\" cx=\"167.82\" cy=\"-90\" rx=\"27\" ry=\"18\"/>\n",
       "<text text-anchor=\"middle\" x=\"167.82\" y=\"-84.95\" font-family=\"Times,serif\" font-size=\"14.00\" fill=\"white\">X</text>\n",
       "</g>\n",
       "<!-- A&#45;&gt;X -->\n",
       "<g id=\"edge1\" class=\"edge\">\n",
       "<title>A-&gt;X</title>\n",
       "<path fill=\"none\" stroke=\"#4a4a4a\" d=\"M136.82,-215.62C140.3,-205.31 144.63,-191.83 147.85,-179.74 153.19,-159.7 158.07,-136.74 161.53,-119.19\"/>\n",
       "<path fill=\"none\" stroke=\"#4a4a4a\" d=\"M138.72,-216.26C142.2,-205.92 146.54,-192.44 149.79,-180.26 155.15,-160.11 160.02,-137.15 163.49,-119.57\"/>\n",
       "<polygon fill=\"#4a4a4a\" stroke=\"#4a4a4a\" points=\"165.93,-120.15 164.39,-109.67 159.06,-118.82 165.93,-120.15\"/>\n",
       "</g>\n",
       "<!-- B -->\n",
       "<g id=\"node3\" class=\"node\">\n",
       "<title>B</title>\n",
       "<ellipse fill=\"#404040\" stroke=\"#4a4a4a\" cx=\"112.82\" cy=\"-162\" rx=\"27\" ry=\"18\"/>\n",
       "<text text-anchor=\"middle\" x=\"112.82\" y=\"-156.95\" font-family=\"Times,serif\" font-size=\"14.00\" fill=\"white\">B</text>\n",
       "</g>\n",
       "<!-- A&#45;&gt;B -->\n",
       "<g id=\"edge11\" class=\"edge\">\n",
       "<title>A-&gt;B</title>\n",
       "<path fill=\"none\" stroke=\"#4a4a4a\" d=\"M126.26,-216.32C124.2,-208.75 121.73,-199.63 119.41,-191.11\"/>\n",
       "<path fill=\"none\" stroke=\"#4a4a4a\" d=\"M128.19,-215.79C126.13,-208.23 123.66,-199.11 121.34,-190.58\"/>\n",
       "<polygon fill=\"#4a4a4a\" stroke=\"#4a4a4a\" points=\"123.77,-189.98 117.77,-181.25 117.01,-191.82 123.77,-189.98\"/>\n",
       "</g>\n",
       "<!-- Y -->\n",
       "<g id=\"node7\" class=\"node\">\n",
       "<title>Y</title>\n",
       "<ellipse fill=\"#404040\" stroke=\"#4a4a4a\" cx=\"167.82\" cy=\"-18\" rx=\"27\" ry=\"18\"/>\n",
       "<text text-anchor=\"middle\" x=\"167.82\" y=\"-12.95\" font-family=\"Times,serif\" font-size=\"14.00\" fill=\"white\">Y</text>\n",
       "</g>\n",
       "<!-- X&#45;&gt;Y -->\n",
       "<g id=\"edge16\" class=\"edge\">\n",
       "<title>X-&gt;Y</title>\n",
       "<path fill=\"none\" stroke=\"#4a4a4a\" d=\"M166.82,-71.7C166.82,-64.41 166.82,-55.73 166.82,-47.54\"/>\n",
       "<path fill=\"none\" stroke=\"#4a4a4a\" d=\"M168.82,-71.7C168.82,-64.41 168.82,-55.73 168.82,-47.54\"/>\n",
       "<polygon fill=\"#4a4a4a\" stroke=\"#4a4a4a\" points=\"171.32,-47.62 167.82,-37.62 164.32,-47.62 171.32,-47.62\"/>\n",
       "</g>\n",
       "<!-- B&#45;&gt;X -->\n",
       "<g id=\"edge4\" class=\"edge\">\n",
       "<title>B-&gt;X</title>\n",
       "<path fill=\"none\" stroke=\"#4a4a4a\" d=\"M124.24,-144.85C131.15,-136.06 139.94,-124.86 147.76,-114.91\"/>\n",
       "<path fill=\"none\" stroke=\"#4a4a4a\" d=\"M125.81,-146.08C132.72,-137.29 141.51,-126.1 149.33,-116.15\"/>\n",
       "<polygon fill=\"#4a4a4a\" stroke=\"#4a4a4a\" points=\"151.29,-117.71 154.71,-107.68 145.78,-113.38 151.29,-117.71\"/>\n",
       "</g>\n",
       "<!-- D -->\n",
       "<g id=\"node4\" class=\"node\">\n",
       "<title>D</title>\n",
       "<ellipse fill=\"#404040\" stroke=\"#4a4a4a\" cx=\"106.82\" cy=\"-306\" rx=\"27\" ry=\"18\"/>\n",
       "<text text-anchor=\"middle\" x=\"106.82\" y=\"-300.95\" font-family=\"Times,serif\" font-size=\"14.00\" fill=\"white\">D</text>\n",
       "</g>\n",
       "<!-- D&#45;&gt;A -->\n",
       "<g id=\"edge10\" class=\"edge\">\n",
       "<title>D-&gt;A</title>\n",
       "<path fill=\"none\" stroke=\"#4a4a4a\" d=\"M111.93,-287.72C114.66,-280.07 117.96,-270.83 121.04,-262.22\"/>\n",
       "<path fill=\"none\" stroke=\"#4a4a4a\" d=\"M113.81,-288.39C116.55,-280.74 119.85,-271.5 122.92,-262.89\"/>\n",
       "<polygon fill=\"#4a4a4a\" stroke=\"#4a4a4a\" points=\"125.25,-263.81 125.31,-253.21 118.65,-261.45 125.25,-263.81\"/>\n",
       "</g>\n",
       "<!-- C -->\n",
       "<g id=\"node5\" class=\"node\">\n",
       "<title>C</title>\n",
       "<ellipse fill=\"#404040\" stroke=\"#4a4a4a\" cx=\"59.82\" cy=\"-234\" rx=\"27\" ry=\"18\"/>\n",
       "<text text-anchor=\"middle\" x=\"59.82\" y=\"-228.95\" font-family=\"Times,serif\" font-size=\"14.00\" fill=\"white\">C</text>\n",
       "</g>\n",
       "<!-- D&#45;&gt;C -->\n",
       "<g id=\"edge5\" class=\"edge\">\n",
       "<title>D-&gt;C</title>\n",
       "<path fill=\"none\" stroke=\"#4a4a4a\" d=\"M95.32,-289.67C89.62,-281.17 82.45,-270.5 75.99,-260.88\"/>\n",
       "<path fill=\"none\" stroke=\"#4a4a4a\" d=\"M96.98,-288.56C91.28,-280.06 84.11,-269.38 77.65,-259.77\"/>\n",
       "<polygon fill=\"#4a4a4a\" stroke=\"#4a4a4a\" points=\"79.77,-258.43 71.29,-252.08 73.95,-262.33 79.77,-258.43\"/>\n",
       "</g>\n",
       "<!-- C&#45;&gt;B -->\n",
       "<g id=\"edge9\" class=\"edge\">\n",
       "<title>C-&gt;B</title>\n",
       "<path fill=\"none\" stroke=\"#4a4a4a\" d=\"M70.78,-216.86C77.44,-208.07 85.92,-196.88 93.45,-186.93\"/>\n",
       "<path fill=\"none\" stroke=\"#4a4a4a\" d=\"M72.38,-218.07C79.04,-209.28 87.51,-198.08 95.04,-188.14\"/>\n",
       "<polygon fill=\"#4a4a4a\" stroke=\"#4a4a4a\" points=\"96.93,-189.78 100.18,-179.7 91.35,-185.56 96.93,-189.78\"/>\n",
       "</g>\n",
       "<!-- E -->\n",
       "<g id=\"node6\" class=\"node\">\n",
       "<title>E</title>\n",
       "<ellipse fill=\"#404040\" stroke=\"#4a4a4a\" cx=\"40.82\" cy=\"-162\" rx=\"27\" ry=\"18\"/>\n",
       "<text text-anchor=\"middle\" x=\"40.82\" y=\"-156.95\" font-family=\"Times,serif\" font-size=\"14.00\" fill=\"white\">E</text>\n",
       "</g>\n",
       "<!-- C&#45;&gt;E -->\n",
       "<g id=\"edge12\" class=\"edge\">\n",
       "<title>C-&gt;E</title>\n",
       "<path fill=\"none\" stroke=\"#4a4a4a\" d=\"M54.26,-216.32C52.2,-208.75 49.73,-199.63 47.41,-191.11\"/>\n",
       "<path fill=\"none\" stroke=\"#4a4a4a\" d=\"M56.19,-215.79C54.13,-208.23 51.66,-199.11 49.34,-190.58\"/>\n",
       "<polygon fill=\"#4a4a4a\" stroke=\"#4a4a4a\" points=\"51.77,-189.98 45.77,-181.25 45.01,-191.82 51.77,-189.98\"/>\n",
       "</g>\n",
       "<!-- C&#45;&gt;Y -->\n",
       "<g id=\"edge7\" class=\"edge\">\n",
       "<title>C-&gt;Y</title>\n",
       "<path fill=\"none\" stroke=\"#4a4a4a\" d=\"M40.06,-221.55C27.18,-212.08 11.41,-197.83 3.9,-180.39 -2.44,-165.31 -2.69,-158.65 3.91,-143.59 29.24,-87.18 94.09,-50.04 134.16,-31.62\"/>\n",
       "<path fill=\"none\" stroke=\"#4a4a4a\" d=\"M41.24,-219.93C28.52,-210.59 12.75,-196.34 5.74,-179.61 -0.44,-165.24 -0.69,-158.58 5.73,-144.41 30.24,-88.92 95.09,-51.78 134.99,-33.43\"/>\n",
       "<polygon fill=\"#4a4a4a\" stroke=\"#4a4a4a\" points=\"135.8,-35.81 143.51,-28.55 132.95,-29.41 135.8,-35.81\"/>\n",
       "</g>\n",
       "<!-- E&#45;&gt;X -->\n",
       "<g id=\"edge8\" class=\"edge\">\n",
       "<title>E-&gt;X</title>\n",
       "<path fill=\"none\" stroke=\"#4a4a4a\" d=\"M60.74,-148.88C81.39,-137.5 113.54,-119.78 137.13,-106.77\"/>\n",
       "<path fill=\"none\" stroke=\"#4a4a4a\" d=\"M61.71,-150.63C82.35,-139.25 114.5,-121.53 138.1,-108.52\"/>\n",
       "<polygon fill=\"#4a4a4a\" stroke=\"#4a4a4a\" points=\"139.07,-110.84 146.14,-102.95 135.69,-104.71 139.07,-110.84\"/>\n",
       "</g>\n",
       "<!-- E&#45;&gt;Y -->\n",
       "<g id=\"edge14\" class=\"edge\">\n",
       "<title>E-&gt;Y</title>\n",
       "<path fill=\"none\" stroke=\"#4a4a4a\" d=\"M53.43,-145.41C75.59,-120.63 120.13,-70.83 146.38,-41.47\"/>\n",
       "<path fill=\"none\" stroke=\"#4a4a4a\" d=\"M54.92,-146.74C77.08,-121.96 121.62,-72.16 147.88,-42.8\"/>\n",
       "<polygon fill=\"#4a4a4a\" stroke=\"#4a4a4a\" points=\"149.58,-44.64 153.64,-34.86 144.36,-39.98 149.58,-44.64\"/>\n",
       "</g>\n",
       "<!-- F -->\n",
       "<g id=\"node8\" class=\"node\">\n",
       "<title>F</title>\n",
       "<ellipse fill=\"#404040\" stroke=\"#4a4a4a\" cx=\"205.82\" cy=\"-306\" rx=\"27\" ry=\"18\"/>\n",
       "<text text-anchor=\"middle\" x=\"205.82\" y=\"-300.95\" font-family=\"Times,serif\" font-size=\"14.00\" fill=\"white\">F</text>\n",
       "</g>\n",
       "<!-- F&#45;&gt;X -->\n",
       "<g id=\"edge3\" class=\"edge\">\n",
       "<title>F-&gt;X</title>\n",
       "<path fill=\"none\" stroke=\"#4a4a4a\" d=\"M201.79,-288.02C195.27,-251.32 179.91,-164.83 171.9,-119.71\"/>\n",
       "<path fill=\"none\" stroke=\"#4a4a4a\" d=\"M203.76,-287.67C197.24,-250.97 181.88,-164.48 173.87,-119.36\"/>\n",
       "<polygon fill=\"#4a4a4a\" stroke=\"#4a4a4a\" points=\"176.34,-118.96 171.14,-109.72 169.45,-120.18 176.34,-118.96\"/>\n",
       "</g>\n",
       "<!-- F&#45;&gt;C -->\n",
       "<g id=\"edge2\" class=\"edge\">\n",
       "<title>F-&gt;C</title>\n",
       "<path fill=\"none\" stroke=\"#4a4a4a\" d=\"M183.84,-295.57C159.37,-283.84 119.19,-264.57 91.12,-251.12\"/>\n",
       "<path fill=\"none\" stroke=\"#4a4a4a\" d=\"M184.71,-293.77C160.23,-282.03 120.05,-262.77 91.99,-249.31\"/>\n",
       "<polygon fill=\"#4a4a4a\" stroke=\"#4a4a4a\" points=\"93.35,-247.19 82.82,-246.03 90.32,-253.5 93.35,-247.19\"/>\n",
       "</g>\n",
       "<!-- F&#45;&gt;Y -->\n",
       "<g id=\"edge13\" class=\"edge\">\n",
       "<title>F-&gt;Y</title>\n",
       "<path fill=\"none\" stroke=\"#4a4a4a\" d=\"M222.16,-291.07C254.35,-264.42 319.25,-201.46 295.89,-144.37 277.12,-96.8 228.76,-58.6 197.04,-37.64\"/>\n",
       "<path fill=\"none\" stroke=\"#4a4a4a\" d=\"M223.44,-292.61C255.74,-265.86 320.65,-202.9 297.75,-143.63 278.36,-95.23 230,-57.03 198.14,-35.97\"/>\n",
       "<polygon fill=\"#4a4a4a\" stroke=\"#4a4a4a\" points=\"199.49,-33.87 189.19,-31.42 195.72,-39.76 199.49,-33.87\"/>\n",
       "</g>\n",
       "<!-- G -->\n",
       "<g id=\"node9\" class=\"node\">\n",
       "<title>G</title>\n",
       "<ellipse fill=\"#404040\" stroke=\"#4a4a4a\" cx=\"260.82\" cy=\"-162\" rx=\"27\" ry=\"18\"/>\n",
       "<text text-anchor=\"middle\" x=\"260.82\" y=\"-156.95\" font-family=\"Times,serif\" font-size=\"14.00\" fill=\"white\">G</text>\n",
       "</g>\n",
       "<!-- G&#45;&gt;X -->\n",
       "<g id=\"edge6\" class=\"edge\">\n",
       "<title>G-&gt;X</title>\n",
       "<path fill=\"none\" stroke=\"#4a4a4a\" d=\"M242.73,-148.63C228.83,-138.17 209.17,-123.38 193.4,-111.5\"/>\n",
       "<path fill=\"none\" stroke=\"#4a4a4a\" d=\"M243.93,-147.03C230.03,-136.57 210.37,-121.78 194.6,-109.91\"/>\n",
       "<polygon fill=\"#4a4a4a\" stroke=\"#4a4a4a\" points=\"196.54,-108.24 186.44,-105.02 192.33,-113.83 196.54,-108.24\"/>\n",
       "</g>\n",
       "<!-- G&#45;&gt;Y -->\n",
       "<g id=\"edge15\" class=\"edge\">\n",
       "<title>G-&gt;Y</title>\n",
       "<path fill=\"none\" stroke=\"#4a4a4a\" d=\"M249.81,-145.37C238.51,-127.48 219.65,-97.81 202.98,-72.55 196.94,-63.38 190.19,-53.4 184.2,-44.59\"/>\n",
       "<path fill=\"none\" stroke=\"#4a4a4a\" d=\"M251.5,-144.3C240.19,-126.4 221.33,-96.74 204.65,-71.45 198.6,-62.27 191.85,-52.28 185.85,-43.47\"/>\n",
       "<polygon fill=\"#4a4a4a\" stroke=\"#4a4a4a\" points=\"188.03,-42.23 179.5,-35.94 182.25,-46.18 188.03,-42.23\"/>\n",
       "</g>\n",
       "</g>\n",
       "</svg><br><center><small><em>Causal Model</em></small></center></div><div class=\"floating-box\">$$\\begin{equation*}P( Y \\mid \\text{do}(X)) = \\sum_{C,E,F,G}{P\\left(Y\\mid C,E,F,G,X\\right) \\cdot P\\left(C,E,F,G\\right)}\\end{equation*}$$<br><center><small><em>Explanation : backdoor ['C', 'E', 'F', 'G'] found.</em></small></center></div><div class=\"floating-box\"><table style=\"border:1px solid black;border-collapse: collapse;\">\n",
       "<tr><th colspan='1'></th>\n",
       "      <th colspan='2' style='border:1px solid black;color:black;background-color:#808080;'><center>Y</center>\n",
       "      </th></tr>\n",
       "<tr><th style='border:1px solid black;color:black;background-color:#808080'><center>X</center></th><th style='border:1px solid black;border-bottom-style: double;color:black;background-color:#BBBBBB'>\n",
       "      <center>0</center></th><th style='border:1px solid black;border-bottom-style: double;color:black;background-color:#BBBBBB'>\n",
       "      <center>1</center></th></tr>\n",
       "<tr><th style='border:1px solid black;color:black;background-color:#BBBBBB'><center>0</center></th><td style='color:black;background-color:#acd164;text-align:right;padding: 3px;'>0.6453</td><td style='color:black;background-color:#d1ac64;text-align:right;padding: 3px;'>0.3547</td></tr>\n",
       "<tr><th style='border:1px solid black;color:black;background-color:#BBBBBB'><center>1</center></th><td style='color:black;background-color:#c0bd64;text-align:right;padding: 3px;'>0.4898</td><td style='color:black;background-color:#bdc064;text-align:right;padding: 3px;'>0.5102</td></tr>\n",
       "</table><br><center><small><em>Impact</em></small></center></div>"
      ],
      "text/plain": [
       "<IPython.core.display.HTML object>"
      ]
     },
     "metadata": {},
     "output_type": "display_data"
    }
   ],
   "source": [
    "m6 = csl.CausalModel(e6)\n",
    "cslnb.showCausalImpact(m6, \"Y\", doing=\"X\", values={})"
   ]
  },
  {
   "cell_type": "code",
   "execution_count": 20,
   "metadata": {
    "execution": {
     "iopub.execute_input": "2025-03-24T10:37:13.852877Z",
     "iopub.status.busy": "2025-03-24T10:37:13.852790Z",
     "iopub.status.idle": "2025-03-24T10:37:13.858229Z",
     "shell.execute_reply": "2025-03-24T10:37:13.857974Z",
     "shell.execute_reply.started": "2025-03-24T10:37:13.852867Z"
    }
   },
   "outputs": [
    {
     "name": "stdout",
     "output_type": "stream",
     "text": [
      "The set of variables which satisfies the back-door criterion for (X, Y) is : {'C', 'F', 'G', 'E'}\n"
     ]
    }
   ],
   "source": [
    "# This function returns the set of variables which satisfies the back-door criterion for (X, Y)\n",
    "# None if there are no back-door paths.\n",
    "setOfVars = m6.backDoor(\"X\", \"Y\")\n",
    "print(\"The set of variables which satisfies the back-door criterion for (X, Y) is :\", setOfVars)"
   ]
  },
  {
   "cell_type": "markdown",
   "metadata": {},
   "source": [
    "> Back-door paths are: <br>\n",
    "1) - $X \\leftarrow G \\rightarrow Y$ <br>\n",
    "2) - $X \\leftarrow E \\rightarrow Y$ and any other back-door paths that go through $E$ <br>\n",
    "3) - $X \\leftarrow F \\rightarrow Y$ and any other back-door paths that go through $F$ <br>\n",
    "4) - Blocked by collider $B$ :  $X \\leftarrow A \\rightarrow B \\leftarrow C \\rightarrow Y$ and any other back-door paths that go through $ A$ will go through $C$ <br>\n",
    "5) - $X \\leftarrow B \\leftarrow C \\rightarrow Y$ and any other back-door paths that go through $B$ will go through $C$<br><br>\n",
    "Two sets of variables that satisfy the back-door criterion are:\n",
    "* {$C$,$E$,$F$,$G$} blocking (1), (2), (3) and (5)\n",
    "* {$A$,$B$,$E$,$F$,$G$} blocking (1), (2), (3), (5), opening (4) and reblocking it.\n"
   ]
  },
  {
   "cell_type": "code",
   "execution_count": null,
   "metadata": {
    "editable": true,
    "slideshow": {
     "slide_type": ""
    },
    "tags": []
   },
   "outputs": [],
   "source": []
  }
 ],
 "metadata": {
  "kernelspec": {
   "display_name": "Python 3 (ipykernel)",
   "language": "python",
   "name": "python3"
  },
  "language_info": {
   "codemirror_mode": {
    "name": "ipython",
    "version": 3
   },
   "file_extension": ".py",
   "mimetype": "text/x-python",
   "name": "python",
   "nbconvert_exporter": "python",
   "pygments_lexer": "ipython3",
   "version": "3.13.2"
  }
 },
 "nbformat": 4,
 "nbformat_minor": 4
}
