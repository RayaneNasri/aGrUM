{
 "cells": [
  {
   "cell_type": "markdown",
   "metadata": {
    "editable": true,
    "slideshow": {
     "slide_type": ""
    },
    "tags": []
   },
   "source": [
    "# Do-Calculus (p213)\n",
    "\n",
    "| | | |\n",
    "|-|-|-|\n",
    "|[ ![Creative Commons License](images/cc4.png)](http://creativecommons.org/licenses/by-nc/4.0/) |[ ![aGrUM](images/logoAgrum.png)](https://agrum.org) |[ ![interactive online version](images/atbinder.svg)](https://agrum.gitlab.io/extra/agrum_at_binder.html)\n",
    "\n",
    "Authors: <b>Aymen Merrouche</b> and Pierre-Henri Wuillemin.\n",
    "\n",
    "**This notebook follows the example from \"The Book Of Why\" (Pearl, 2018) chapter 7 page 213**"
   ]
  },
  {
   "cell_type": "code",
   "execution_count": 1,
   "metadata": {
    "editable": true,
    "execution": {
     "iopub.execute_input": "2025-03-24T10:37:44.650931Z",
     "iopub.status.busy": "2025-03-24T10:37:44.650677Z",
     "iopub.status.idle": "2025-03-24T10:37:45.149522Z",
     "shell.execute_reply": "2025-03-24T10:37:45.149233Z",
     "shell.execute_reply.started": "2025-03-24T10:37:44.650914Z"
    },
    "slideshow": {
     "slide_type": ""
    },
    "tags": []
   },
   "outputs": [],
   "source": [
    "from IPython.display import display, Math, Latex,HTML\n",
    "\n",
    "import pyagrum as gum\n",
    "import pyagrum.lib.notebook as gnb\n",
    "\n",
    "import pyagrum.causal as csl\n",
    "import pyagrum.causal.notebook as cslnb\n",
    "\n",
    "import os"
   ]
  },
  {
   "cell_type": "markdown",
   "metadata": {
    "editable": true,
    "slideshow": {
     "slide_type": ""
    },
    "tags": []
   },
   "source": [
    "### the causal diagram\n",
    "The corresponding causal diagram is the following:<br>\n",
    "> We're facing the following situation and we want to measure the causal effect of $X$ on $Y$:"
   ]
  },
  {
   "cell_type": "code",
   "execution_count": 2,
   "metadata": {
    "editable": true,
    "execution": {
     "iopub.execute_input": "2025-03-24T10:37:45.150112Z",
     "iopub.status.busy": "2025-03-24T10:37:45.149982Z",
     "iopub.status.idle": "2025-03-24T10:37:45.240642Z",
     "shell.execute_reply": "2025-03-24T10:37:45.240306Z",
     "shell.execute_reply.started": "2025-03-24T10:37:45.150104Z"
    },
    "slideshow": {
     "slide_type": ""
    },
    "tags": []
   },
   "outputs": [
    {
     "data": {
      "text/html": [
       "<svg xmlns=\"http://www.w3.org/2000/svg\" xmlns:xlink=\"http://www.w3.org/1999/xlink\" width=\"127pt\" height=\"260pt\" viewBox=\"0.00 0.00 127.00 260.00\">\n",
       "<g id=\"graph0\" class=\"graph\" transform=\"scale(1 1) rotate(0) translate(4 256)\">\n",
       "<title>G</title>\n",
       "<!-- w -->\n",
       "<g id=\"node1\" class=\"node\">\n",
       "<title>w</title>\n",
       "<g id=\"a_node1\"><a xlink:title=\"(0) w\">\n",
       "<ellipse fill=\"#404040\" stroke=\"#4a4a4a\" cx=\"82\" cy=\"-234\" rx=\"27\" ry=\"18\"/>\n",
       "<text text-anchor=\"middle\" x=\"82\" y=\"-228.95\" font-family=\"Times,serif\" font-size=\"14.00\" fill=\"white\">w</text>\n",
       "</a>\n",
       "</g>\n",
       "</g>\n",
       "<!-- z -->\n",
       "<g id=\"node2\" class=\"node\">\n",
       "<title>z</title>\n",
       "<g id=\"a_node2\"><a xlink:title=\"(1) z\">\n",
       "<ellipse fill=\"#404040\" stroke=\"#4a4a4a\" cx=\"27\" cy=\"-162\" rx=\"27\" ry=\"18\"/>\n",
       "<text text-anchor=\"middle\" x=\"27\" y=\"-156.95\" font-family=\"Times,serif\" font-size=\"14.00\" fill=\"white\">z</text>\n",
       "</a>\n",
       "</g>\n",
       "</g>\n",
       "<!-- w&#45;&gt;z -->\n",
       "<g id=\"edge1\" class=\"edge\">\n",
       "<title>w-&gt;z</title>\n",
       "<g id=\"a_edge1\"><a xlink:title=\"0 → 1\">\n",
       "<path fill=\"none\" stroke=\"#4a4a4a\" d=\"M69.79,-217.46C62.89,-208.67 54.09,-197.48 46.27,-187.53\"/>\n",
       "<polygon fill=\"#4a4a4a\" stroke=\"#4a4a4a\" points=\"49.04,-185.38 40.11,-179.68 43.53,-189.71 49.04,-185.38\"/>\n",
       "</a>\n",
       "</g>\n",
       "</g>\n",
       "<!-- x -->\n",
       "<g id=\"node3\" class=\"node\">\n",
       "<title>x</title>\n",
       "<g id=\"a_node3\"><a xlink:title=\"(2) x\">\n",
       "<ellipse fill=\"#404040\" stroke=\"#4a4a4a\" cx=\"65\" cy=\"-90\" rx=\"27\" ry=\"18\"/>\n",
       "<text text-anchor=\"middle\" x=\"65\" y=\"-84.95\" font-family=\"Times,serif\" font-size=\"14.00\" fill=\"white\">x</text>\n",
       "</a>\n",
       "</g>\n",
       "</g>\n",
       "<!-- w&#45;&gt;x -->\n",
       "<g id=\"edge5\" class=\"edge\">\n",
       "<title>w-&gt;x</title>\n",
       "<g id=\"a_edge5\"><a xlink:title=\"0 → 2\">\n",
       "<path fill=\"none\" stroke=\"#4a4a4a\" d=\"M79.92,-215.59C77.05,-191.61 71.84,-148.14 68.4,-119.42\"/>\n",
       "<polygon fill=\"#4a4a4a\" stroke=\"#4a4a4a\" points=\"71.89,-119.13 67.23,-109.61 64.94,-119.96 71.89,-119.13\"/>\n",
       "</a>\n",
       "</g>\n",
       "</g>\n",
       "<!-- y -->\n",
       "<g id=\"node4\" class=\"node\">\n",
       "<title>y</title>\n",
       "<g id=\"a_node4\"><a xlink:title=\"(3) y\">\n",
       "<ellipse fill=\"#404040\" stroke=\"#4a4a4a\" cx=\"92\" cy=\"-18\" rx=\"27\" ry=\"18\"/>\n",
       "<text text-anchor=\"middle\" x=\"92\" y=\"-12.95\" font-family=\"Times,serif\" font-size=\"14.00\" fill=\"white\">y</text>\n",
       "</a>\n",
       "</g>\n",
       "</g>\n",
       "<!-- w&#45;&gt;y -->\n",
       "<g id=\"edge3\" class=\"edge\">\n",
       "<title>w-&gt;y</title>\n",
       "<g id=\"a_edge3\"><a xlink:title=\"0 → 3\">\n",
       "<path fill=\"none\" stroke=\"#4a4a4a\" d=\"M86.25,-216.12C93.11,-186.84 105.44,-124.73 101,-72 100.32,-63.97 99.08,-55.33 97.73,-47.4\"/>\n",
       "<polygon fill=\"#4a4a4a\" stroke=\"#4a4a4a\" points=\"101.17,-46.79 95.93,-37.58 94.29,-48.05 101.17,-46.79\"/>\n",
       "</a>\n",
       "</g>\n",
       "</g>\n",
       "<!-- z&#45;&gt;x -->\n",
       "<g id=\"edge2\" class=\"edge\">\n",
       "<title>z-&gt;x</title>\n",
       "<g id=\"a_edge2\"><a xlink:title=\"1 → 2\">\n",
       "<path fill=\"none\" stroke=\"#4a4a4a\" d=\"M35.81,-144.76C40.27,-136.55 45.8,-126.37 50.84,-117.09\"/>\n",
       "<polygon fill=\"#4a4a4a\" stroke=\"#4a4a4a\" points=\"53.82,-118.94 55.51,-108.48 47.67,-115.6 53.82,-118.94\"/>\n",
       "</a>\n",
       "</g>\n",
       "</g>\n",
       "<!-- x&#45;&gt;y -->\n",
       "<g id=\"edge4\" class=\"edge\">\n",
       "<title>x-&gt;y</title>\n",
       "<g id=\"a_edge4\"><a xlink:title=\"2 → 3\">\n",
       "<path fill=\"none\" stroke=\"#4a4a4a\" d=\"M71.54,-72.05C74.52,-64.32 78.13,-54.96 81.48,-46.27\"/>\n",
       "<polygon fill=\"#4a4a4a\" stroke=\"#4a4a4a\" points=\"84.65,-47.79 84.98,-37.2 78.12,-45.27 84.65,-47.79\"/>\n",
       "</a>\n",
       "</g>\n",
       "</g>\n",
       "</g>\n",
       "</svg>"
      ],
      "text/plain": [
       "(pyagrum.BayesNet@0x112210000) BN{nodes: 4, arcs: 5, domainSize: 16, dim: 11, mem: 176o}"
      ]
     },
     "execution_count": 2,
     "metadata": {},
     "output_type": "execute_result"
    }
   ],
   "source": [
    "fd = gum.fastBN(\"w->z->x->y;w->x;w->y\")\n",
    "fd"
   ]
  },
  {
   "cell_type": "markdown",
   "metadata": {
    "editable": true,
    "slideshow": {
     "slide_type": ""
    },
    "tags": []
   },
   "source": [
    "> We suspect the presence of some <b>unmeasured</b> confounders, that could explain the correlation between $W$ and $X$ and between $W$ and $Y$:"
   ]
  },
  {
   "cell_type": "code",
   "execution_count": 3,
   "metadata": {
    "editable": true,
    "execution": {
     "iopub.execute_input": "2025-03-24T10:37:45.241306Z",
     "iopub.status.busy": "2025-03-24T10:37:45.241210Z",
     "iopub.status.idle": "2025-03-24T10:37:45.399052Z",
     "shell.execute_reply": "2025-03-24T10:37:45.398701Z",
     "shell.execute_reply.started": "2025-03-24T10:37:45.241299Z"
    },
    "slideshow": {
     "slide_type": ""
    },
    "tags": [
     "nbsphinx-thumbnail"
    ]
   },
   "outputs": [
    {
     "data": {
      "image/svg+xml": [
       "<svg xmlns=\"http://www.w3.org/2000/svg\" xmlns:xlink=\"http://www.w3.org/1999/xlink\" width=\"107pt\" height=\"300pt\" viewBox=\"0.00 0.00 107.39 299.60\">\n",
       "<g id=\"graph0\" class=\"graph\" transform=\"scale(1 1) rotate(0) translate(4 295.6)\">\n",
       "<title>G</title>\n",
       "<!-- u1 -->\n",
       "<g id=\"node1\" class=\"node\">\n",
       "<title>u1</title>\n",
       "<ellipse fill=\"#404040\" stroke=\"#4a4a4a\" cx=\"26.39\" cy=\"-289.8\" rx=\"1.8\" ry=\"1.8\"/>\n",
       "</g>\n",
       "<!-- w -->\n",
       "<g id=\"node3\" class=\"node\">\n",
       "<title>w</title>\n",
       "<ellipse fill=\"#404040\" stroke=\"#4a4a4a\" cx=\"45.39\" cy=\"-234\" rx=\"27\" ry=\"18\"/>\n",
       "<text text-anchor=\"middle\" x=\"45.39\" y=\"-228.95\" font-family=\"Times,serif\" font-size=\"14.00\" fill=\"white\">w</text>\n",
       "</g>\n",
       "<!-- u1&#45;&gt;w -->\n",
       "<g id=\"edge3\" class=\"edge\">\n",
       "<title>u1-&gt;w</title>\n",
       "<path fill=\"none\" stroke=\"#4a4a4a\" stroke-dasharray=\"5,2\" d=\"M26.72,-287.87C27.85,-284.68 31.67,-273.85 35.57,-262.82\"/>\n",
       "<polygon fill=\"#4a4a4a\" stroke=\"#4a4a4a\" points=\"38.86,-264.01 38.89,-253.41 32.26,-261.68 38.86,-264.01\"/>\n",
       "</g>\n",
       "<!-- x -->\n",
       "<g id=\"node5\" class=\"node\">\n",
       "<title>x</title>\n",
       "<ellipse fill=\"#404040\" stroke=\"#4a4a4a\" cx=\"45.39\" cy=\"-90\" rx=\"27\" ry=\"18\"/>\n",
       "<text text-anchor=\"middle\" x=\"45.39\" y=\"-84.95\" font-family=\"Times,serif\" font-size=\"14.00\" fill=\"white\">x</text>\n",
       "</g>\n",
       "<!-- u1&#45;&gt;x -->\n",
       "<g id=\"edge4\" class=\"edge\">\n",
       "<title>u1-&gt;x</title>\n",
       "<path fill=\"none\" stroke=\"#4a4a4a\" stroke-dasharray=\"5,2\" d=\"M25.68,-287.72C22.88,-283.43 12.72,-267.12 9.39,-252 -0.91,-205.12 -4.72,-189.88 9.39,-144 12.58,-133.65 18.54,-123.51 24.72,-114.91\"/>\n",
       "<polygon fill=\"#4a4a4a\" stroke=\"#4a4a4a\" points=\"27.38,-117.19 30.72,-107.13 21.84,-112.91 27.38,-117.19\"/>\n",
       "</g>\n",
       "<!-- u2 -->\n",
       "<g id=\"node2\" class=\"node\">\n",
       "<title>u2</title>\n",
       "<ellipse fill=\"#404040\" stroke=\"#4a4a4a\" cx=\"64.39\" cy=\"-289.8\" rx=\"1.8\" ry=\"1.8\"/>\n",
       "</g>\n",
       "<!-- u2&#45;&gt;w -->\n",
       "<g id=\"edge6\" class=\"edge\">\n",
       "<title>u2-&gt;w</title>\n",
       "<path fill=\"none\" stroke=\"#4a4a4a\" stroke-dasharray=\"5,2\" d=\"M64.06,-287.87C62.94,-284.68 59.11,-273.85 55.22,-262.82\"/>\n",
       "<polygon fill=\"#4a4a4a\" stroke=\"#4a4a4a\" points=\"58.53,-261.68 51.9,-253.41 51.93,-264.01 58.53,-261.68\"/>\n",
       "</g>\n",
       "<!-- y -->\n",
       "<g id=\"node6\" class=\"node\">\n",
       "<title>y</title>\n",
       "<ellipse fill=\"#404040\" stroke=\"#4a4a4a\" cx=\"72.39\" cy=\"-18\" rx=\"27\" ry=\"18\"/>\n",
       "<text text-anchor=\"middle\" x=\"72.39\" y=\"-12.95\" font-family=\"Times,serif\" font-size=\"14.00\" fill=\"white\">y</text>\n",
       "</g>\n",
       "<!-- u2&#45;&gt;y -->\n",
       "<g id=\"edge7\" class=\"edge\">\n",
       "<title>u2-&gt;y</title>\n",
       "<path fill=\"none\" stroke=\"#4a4a4a\" stroke-dasharray=\"5,2\" d=\"M65.11,-287.72C67.9,-283.43 78.07,-267.12 81.39,-252 98.57,-173.87 88.11,-151.72 81.39,-72 80.72,-63.97 79.47,-55.33 78.12,-47.4\"/>\n",
       "<polygon fill=\"#4a4a4a\" stroke=\"#4a4a4a\" points=\"81.57,-46.79 76.32,-37.58 74.68,-48.05 81.57,-46.79\"/>\n",
       "</g>\n",
       "<!-- z -->\n",
       "<g id=\"node4\" class=\"node\">\n",
       "<title>z</title>\n",
       "<ellipse fill=\"#404040\" stroke=\"#4a4a4a\" cx=\"45.39\" cy=\"-162\" rx=\"27\" ry=\"18\"/>\n",
       "<text text-anchor=\"middle\" x=\"45.39\" y=\"-156.95\" font-family=\"Times,serif\" font-size=\"14.00\" fill=\"white\">z</text>\n",
       "</g>\n",
       "<!-- w&#45;&gt;z -->\n",
       "<g id=\"edge1\" class=\"edge\">\n",
       "<title>w-&gt;z</title>\n",
       "<path fill=\"none\" stroke=\"#4a4a4a\" d=\"M44.39,-215.7C44.39,-208.41 44.39,-199.73 44.39,-191.54\"/>\n",
       "<path fill=\"none\" stroke=\"#4a4a4a\" d=\"M46.39,-215.7C46.39,-208.41 46.39,-199.73 46.39,-191.54\"/>\n",
       "<polygon fill=\"#4a4a4a\" stroke=\"#4a4a4a\" points=\"48.89,-191.62 45.39,-181.62 41.89,-191.62 48.89,-191.62\"/>\n",
       "</g>\n",
       "<!-- z&#45;&gt;x -->\n",
       "<g id=\"edge2\" class=\"edge\">\n",
       "<title>z-&gt;x</title>\n",
       "<path fill=\"none\" stroke=\"#4a4a4a\" d=\"M44.39,-143.7C44.39,-136.41 44.39,-127.73 44.39,-119.54\"/>\n",
       "<path fill=\"none\" stroke=\"#4a4a4a\" d=\"M46.39,-143.7C46.39,-136.41 46.39,-127.73 46.39,-119.54\"/>\n",
       "<polygon fill=\"#4a4a4a\" stroke=\"#4a4a4a\" points=\"48.89,-119.62 45.39,-109.62 41.89,-119.62 48.89,-119.62\"/>\n",
       "</g>\n",
       "<!-- x&#45;&gt;y -->\n",
       "<g id=\"edge5\" class=\"edge\">\n",
       "<title>x-&gt;y</title>\n",
       "<path fill=\"none\" stroke=\"#4a4a4a\" d=\"M51,-71.7C53.98,-63.96 57.59,-54.6 60.94,-45.91\"/>\n",
       "<path fill=\"none\" stroke=\"#4a4a4a\" d=\"M52.86,-72.41C55.85,-64.68 59.46,-55.32 62.81,-46.63\"/>\n",
       "<polygon fill=\"#4a4a4a\" stroke=\"#4a4a4a\" points=\"65.04,-47.79 65.37,-37.2 58.51,-45.27 65.04,-47.79\"/>\n",
       "</g>\n",
       "</g>\n",
       "</svg>"
      ],
      "text/plain": [
       "<IPython.core.display.SVG object>"
      ]
     },
     "metadata": {},
     "output_type": "display_data"
    }
   ],
   "source": [
    "fdModele = csl.CausalModel(fd, [(\"u1\", [\"w\",\"x\"]),(\"u2\", [\"w\",\"y\"])],False) \n",
    "#(<latent variable name>, <list of affected variables’ ids>).\n",
    "gnb.show(fdModele)"
   ]
  },
  {
   "cell_type": "markdown",
   "metadata": {
    "editable": true,
    "slideshow": {
     "slide_type": ""
    },
    "tags": []
   },
   "source": [
    "### Even with two umeasured confounders :"
   ]
  },
  {
   "cell_type": "markdown",
   "metadata": {
    "editable": true,
    "slideshow": {
     "slide_type": ""
    },
    "tags": []
   },
   "source": [
    "> * We can measure the causal effect of $Z$ on $Y$ using the back-door adjustment:"
   ]
  },
  {
   "cell_type": "code",
   "execution_count": 4,
   "metadata": {
    "execution": {
     "iopub.execute_input": "2025-03-24T10:37:45.399612Z",
     "iopub.status.busy": "2025-03-24T10:37:45.399497Z",
     "iopub.status.idle": "2025-03-24T10:37:45.402306Z",
     "shell.execute_reply": "2025-03-24T10:37:45.402039Z",
     "shell.execute_reply.started": "2025-03-24T10:37:45.399602Z"
    }
   },
   "outputs": [
    {
     "name": "stdout",
     "output_type": "stream",
     "text": [
      " + Back-door doing Z on Y :{'w'}\n"
     ]
    }
   ],
   "source": [
    "print(\" + Back-door doing Z on Y :\"+str(fdModele.backDoor(\"z\",\"y\")))"
   ]
  },
  {
   "cell_type": "markdown",
   "metadata": {},
   "source": [
    "> * We can measure the causal effect of $W$ on $X$ using the front-door formula:"
   ]
  },
  {
   "cell_type": "code",
   "execution_count": 5,
   "metadata": {
    "execution": {
     "iopub.execute_input": "2025-03-24T10:37:45.402817Z",
     "iopub.status.busy": "2025-03-24T10:37:45.402719Z",
     "iopub.status.idle": "2025-03-24T10:37:45.404879Z",
     "shell.execute_reply": "2025-03-24T10:37:45.404664Z",
     "shell.execute_reply.started": "2025-03-24T10:37:45.402808Z"
    }
   },
   "outputs": [
    {
     "name": "stdout",
     "output_type": "stream",
     "text": [
      " + Front-door doing W on X :{'z'}\n"
     ]
    }
   ],
   "source": [
    "print(\" + Front-door doing W on X :\"+str(fdModele.frontDoor(\"w\",\"x\")))"
   ]
  },
  {
   "cell_type": "markdown",
   "metadata": {},
   "source": [
    "> * In order to measure the causal effect of $X$ on $Y$, we can use neither the back-door adjustment nor the front-door formula:"
   ]
  },
  {
   "cell_type": "code",
   "execution_count": 6,
   "metadata": {
    "execution": {
     "iopub.execute_input": "2025-03-24T10:37:45.406286Z",
     "iopub.status.busy": "2025-03-24T10:37:45.406192Z",
     "iopub.status.idle": "2025-03-24T10:37:45.408269Z",
     "shell.execute_reply": "2025-03-24T10:37:45.407934Z",
     "shell.execute_reply.started": "2025-03-24T10:37:45.406279Z"
    }
   },
   "outputs": [
    {
     "name": "stdout",
     "output_type": "stream",
     "text": [
      " + Backdoor doing X on Y :None\n",
      " + Frontdoor doing X on Y :None\n"
     ]
    }
   ],
   "source": [
    "print(\" + Backdoor doing X on Y :\"+str(fdModele.backDoor(\"x\",\"y\")))\n",
    "print(\" + Frontdoor doing X on Y :\"+str(fdModele.frontDoor(\"x\",\"y\")))"
   ]
  },
  {
   "cell_type": "markdown",
   "metadata": {},
   "source": [
    "> * In this case, the only way to measure the causal effect of $X$ on $Y$ is to use the do-calculus:"
   ]
  },
  {
   "cell_type": "code",
   "execution_count": 7,
   "metadata": {
    "execution": {
     "iopub.execute_input": "2025-03-24T10:37:45.408723Z",
     "iopub.status.busy": "2025-03-24T10:37:45.408662Z",
     "iopub.status.idle": "2025-03-24T10:37:45.514938Z",
     "shell.execute_reply": "2025-03-24T10:37:45.514642Z",
     "shell.execute_reply.started": "2025-03-24T10:37:45.408717Z"
    }
   },
   "outputs": [
    {
     "data": {
      "text/html": [
       "\n",
       "      <style>\n",
       "      .floating-box {\n",
       "      display: inline-block;\n",
       "      margin: 7px;\n",
       "      padding : 3px;\n",
       "      border: 0px solid transparent;  \n",
       "      valign:middle;\n",
       "      background-color: transparent;\n",
       "      }\n",
       "      </style>\n",
       "      <div class=\"floating-box\"><svg xmlns=\"http://www.w3.org/2000/svg\" xmlns:xlink=\"http://www.w3.org/1999/xlink\" width=\"65pt\" height=\"180pt\" viewBox=\"0.00 0.00 64.52 180.00\">\n",
       "<g id=\"graph0\" class=\"graph\" transform=\"scale(0.600801 0.600801) rotate(0) translate(4 295.6)\">\n",
       "<title>G</title>\n",
       "<!-- u1 -->\n",
       "<g id=\"node1\" class=\"node\">\n",
       "<title>u1</title>\n",
       "<ellipse fill=\"#404040\" stroke=\"#4a4a4a\" cx=\"26.39\" cy=\"-289.8\" rx=\"1.8\" ry=\"1.8\"/>\n",
       "</g>\n",
       "<!-- w -->\n",
       "<g id=\"node3\" class=\"node\">\n",
       "<title>w</title>\n",
       "<ellipse fill=\"#404040\" stroke=\"#4a4a4a\" cx=\"45.39\" cy=\"-234\" rx=\"27\" ry=\"18\"/>\n",
       "<text text-anchor=\"middle\" x=\"45.39\" y=\"-228.95\" font-family=\"Times,serif\" font-size=\"14.00\" fill=\"white\">w</text>\n",
       "</g>\n",
       "<!-- u1&#45;&gt;w -->\n",
       "<g id=\"edge3\" class=\"edge\">\n",
       "<title>u1-&gt;w</title>\n",
       "<path fill=\"none\" stroke=\"#4a4a4a\" stroke-dasharray=\"5,2\" d=\"M26.72,-287.87C27.85,-284.68 31.67,-273.85 35.57,-262.82\"/>\n",
       "<polygon fill=\"#4a4a4a\" stroke=\"#4a4a4a\" points=\"38.86,-264.01 38.89,-253.41 32.26,-261.68 38.86,-264.01\"/>\n",
       "</g>\n",
       "<!-- x -->\n",
       "<g id=\"node5\" class=\"node\">\n",
       "<title>x</title>\n",
       "<ellipse fill=\"#404040\" stroke=\"#4a4a4a\" cx=\"45.39\" cy=\"-90\" rx=\"27\" ry=\"18\"/>\n",
       "<text text-anchor=\"middle\" x=\"45.39\" y=\"-84.95\" font-family=\"Times,serif\" font-size=\"14.00\" fill=\"white\">x</text>\n",
       "</g>\n",
       "<!-- u1&#45;&gt;x -->\n",
       "<g id=\"edge4\" class=\"edge\">\n",
       "<title>u1-&gt;x</title>\n",
       "<path fill=\"none\" stroke=\"#4a4a4a\" stroke-dasharray=\"5,2\" d=\"M25.68,-287.72C22.88,-283.43 12.72,-267.12 9.39,-252 -0.91,-205.12 -4.72,-189.88 9.39,-144 12.58,-133.65 18.54,-123.51 24.72,-114.91\"/>\n",
       "<polygon fill=\"#4a4a4a\" stroke=\"#4a4a4a\" points=\"27.38,-117.19 30.72,-107.13 21.84,-112.91 27.38,-117.19\"/>\n",
       "</g>\n",
       "<!-- u2 -->\n",
       "<g id=\"node2\" class=\"node\">\n",
       "<title>u2</title>\n",
       "<ellipse fill=\"#404040\" stroke=\"#4a4a4a\" cx=\"64.39\" cy=\"-289.8\" rx=\"1.8\" ry=\"1.8\"/>\n",
       "</g>\n",
       "<!-- u2&#45;&gt;w -->\n",
       "<g id=\"edge6\" class=\"edge\">\n",
       "<title>u2-&gt;w</title>\n",
       "<path fill=\"none\" stroke=\"#4a4a4a\" stroke-dasharray=\"5,2\" d=\"M64.06,-287.87C62.94,-284.68 59.11,-273.85 55.22,-262.82\"/>\n",
       "<polygon fill=\"#4a4a4a\" stroke=\"#4a4a4a\" points=\"58.53,-261.68 51.9,-253.41 51.93,-264.01 58.53,-261.68\"/>\n",
       "</g>\n",
       "<!-- y -->\n",
       "<g id=\"node6\" class=\"node\">\n",
       "<title>y</title>\n",
       "<ellipse fill=\"#404040\" stroke=\"#4a4a4a\" cx=\"72.39\" cy=\"-18\" rx=\"27\" ry=\"18\"/>\n",
       "<text text-anchor=\"middle\" x=\"72.39\" y=\"-12.95\" font-family=\"Times,serif\" font-size=\"14.00\" fill=\"white\">y</text>\n",
       "</g>\n",
       "<!-- u2&#45;&gt;y -->\n",
       "<g id=\"edge7\" class=\"edge\">\n",
       "<title>u2-&gt;y</title>\n",
       "<path fill=\"none\" stroke=\"#4a4a4a\" stroke-dasharray=\"5,2\" d=\"M65.11,-287.72C67.9,-283.43 78.07,-267.12 81.39,-252 98.57,-173.87 88.11,-151.72 81.39,-72 80.72,-63.97 79.47,-55.33 78.12,-47.4\"/>\n",
       "<polygon fill=\"#4a4a4a\" stroke=\"#4a4a4a\" points=\"81.57,-46.79 76.32,-37.58 74.68,-48.05 81.57,-46.79\"/>\n",
       "</g>\n",
       "<!-- z -->\n",
       "<g id=\"node4\" class=\"node\">\n",
       "<title>z</title>\n",
       "<ellipse fill=\"#404040\" stroke=\"#4a4a4a\" cx=\"45.39\" cy=\"-162\" rx=\"27\" ry=\"18\"/>\n",
       "<text text-anchor=\"middle\" x=\"45.39\" y=\"-156.95\" font-family=\"Times,serif\" font-size=\"14.00\" fill=\"white\">z</text>\n",
       "</g>\n",
       "<!-- w&#45;&gt;z -->\n",
       "<g id=\"edge1\" class=\"edge\">\n",
       "<title>w-&gt;z</title>\n",
       "<path fill=\"none\" stroke=\"#4a4a4a\" d=\"M44.39,-215.7C44.39,-208.41 44.39,-199.73 44.39,-191.54\"/>\n",
       "<path fill=\"none\" stroke=\"#4a4a4a\" d=\"M46.39,-215.7C46.39,-208.41 46.39,-199.73 46.39,-191.54\"/>\n",
       "<polygon fill=\"#4a4a4a\" stroke=\"#4a4a4a\" points=\"48.89,-191.62 45.39,-181.62 41.89,-191.62 48.89,-191.62\"/>\n",
       "</g>\n",
       "<!-- z&#45;&gt;x -->\n",
       "<g id=\"edge2\" class=\"edge\">\n",
       "<title>z-&gt;x</title>\n",
       "<path fill=\"none\" stroke=\"#4a4a4a\" d=\"M44.39,-143.7C44.39,-136.41 44.39,-127.73 44.39,-119.54\"/>\n",
       "<path fill=\"none\" stroke=\"#4a4a4a\" d=\"M46.39,-143.7C46.39,-136.41 46.39,-127.73 46.39,-119.54\"/>\n",
       "<polygon fill=\"#4a4a4a\" stroke=\"#4a4a4a\" points=\"48.89,-119.62 45.39,-109.62 41.89,-119.62 48.89,-119.62\"/>\n",
       "</g>\n",
       "<!-- x&#45;&gt;y -->\n",
       "<g id=\"edge5\" class=\"edge\">\n",
       "<title>x-&gt;y</title>\n",
       "<path fill=\"none\" stroke=\"#4a4a4a\" d=\"M51,-71.7C53.98,-63.96 57.59,-54.6 60.94,-45.91\"/>\n",
       "<path fill=\"none\" stroke=\"#4a4a4a\" d=\"M52.86,-72.41C55.85,-64.68 59.46,-55.32 62.81,-46.63\"/>\n",
       "<polygon fill=\"#4a4a4a\" stroke=\"#4a4a4a\" points=\"65.04,-47.79 65.37,-37.2 58.51,-45.27 65.04,-47.79\"/>\n",
       "</g>\n",
       "</g>\n",
       "</svg><br><center><small><em>Causal Model</em></small></center></div><div class=\"floating-box\">$$\\begin{equation*}P( y \\mid \\text{do}(x)) =  \\frac {\\sum_{w}{P\\left(w\\right) \\cdot P\\left(x\\mid w,z\\right) \\cdot P\\left(y\\mid w,x,z\\right)}}{\\sum_{w,y'}{P\\left(w\\right) \\cdot P\\left(x\\mid w,z\\right) \\cdot P\\left(y'\\mid w,x,z\\right)}}\\end{equation*}$$<br><center><small><em>Explanation : Do-calculus computations</em></small></center></div><div class=\"floating-box\"><table style=\"border:1px solid black;border-collapse: collapse;\">\n",
       "<tr><th colspan='2'></th>\n",
       "      <th colspan='2' style='border:1px solid black;color:black;background-color:#808080;'><center>y</center>\n",
       "      </th></tr>\n",
       "<tr><th style='border:1px solid black;color:black;background-color:#808080'><center>z</center></th><th style='border:1px solid black;color:black;background-color:#808080'><center>x</center></th><th style='border:1px solid black;border-bottom-style: double;color:black;background-color:#BBBBBB'>\n",
       "      <center>0</center></th><th style='border:1px solid black;border-bottom-style: double;color:black;background-color:#BBBBBB'>\n",
       "      <center>1</center></th></tr>\n",
       "<tr><th style='border:1px solid black;color:black;background-color:#BBBBBB;' rowspan = '2'>\n",
       "            <center>0</center></th><th style='border:1px solid black;color:black;background-color:#BBBBBB'><center>0</center></th><td style='color:black;background-color:#ceaf64;text-align:right;padding: 3px;'>0.3775</td><td style='color:black;background-color:#afce64;text-align:right;padding: 3px;'>0.6225</td></tr>\n",
       "<tr><th style='border:1px solid black;color:black;background-color:#BBBBBB'><center>1</center></th><td style='color:black;background-color:#aad364;text-align:right;padding: 3px;'>0.6639</td><td style='color:black;background-color:#d3aa64;text-align:right;padding: 3px;'>0.3361</td></tr>\n",
       "<tr><th style='border:1px solid black;color:black;background-color:#BBBBBB;' rowspan = '2'>\n",
       "            <center>1</center></th><th style='border:1px solid black;color:black;background-color:#BBBBBB'><center>0</center></th><td style='color:black;background-color:#d0ad64;text-align:right;padding: 3px;'>0.3649</td><td style='color:black;background-color:#add064;text-align:right;padding: 3px;'>0.6351</td></tr>\n",
       "<tr><th style='border:1px solid black;color:black;background-color:#BBBBBB'><center>1</center></th><td style='color:black;background-color:#aad364;text-align:right;padding: 3px;'>0.6602</td><td style='color:black;background-color:#d3aa64;text-align:right;padding: 3px;'>0.3398</td></tr>\n",
       "</table><br><center><small><em>Impact</em></small></center></div>"
      ],
      "text/plain": [
       "<IPython.core.display.HTML object>"
      ]
     },
     "metadata": {},
     "output_type": "display_data"
    }
   ],
   "source": [
    "cslnb.showCausalImpact(fdModele,on=\"y\",doing=\"x\")"
   ]
  },
  {
   "cell_type": "code",
   "execution_count": null,
   "metadata": {
    "editable": true,
    "slideshow": {
     "slide_type": ""
    },
    "tags": []
   },
   "outputs": [],
   "source": []
  }
 ],
 "metadata": {
  "kernelspec": {
   "display_name": "Python 3 (ipykernel)",
   "language": "python",
   "name": "python3"
  },
  "language_info": {
   "codemirror_mode": {
    "name": "ipython",
    "version": 3
   },
   "file_extension": ".py",
   "mimetype": "text/x-python",
   "name": "python",
   "nbconvert_exporter": "python",
   "pygments_lexer": "ipython3",
   "version": "3.13.2"
  }
 },
 "nbformat": 4,
 "nbformat_minor": 4
}
