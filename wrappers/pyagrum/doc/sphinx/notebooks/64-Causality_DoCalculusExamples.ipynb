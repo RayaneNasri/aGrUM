{
 "cells": [
  {
   "cell_type": "markdown",
   "metadata": {
    "editable": true,
    "slideshow": {
     "slide_type": ""
    },
    "tags": []
   },
   "source": [
    "# Some examples of do-calculus"
   ]
  },
  {
   "cell_type": "markdown",
   "metadata": {},
   "source": [
    "| | | |\n",
    "|-|-|-|\n",
    "|[ ![Creative Commons License](images/cc4.png)](http://creativecommons.org/licenses/by-nc/4.0/) |[ ![aGrUM](images/logoAgrum.png)](https://agrum.org) |[ ![interactive online version](images/atbinder.svg)](https://agrum.gitlab.io/extra/agrum_at_binder.html)"
   ]
  },
  {
   "cell_type": "code",
   "execution_count": 1,
   "metadata": {
    "ExecuteTime": {
     "end_time": "2019-03-30T09:47:26.455586Z",
     "start_time": "2019-03-30T09:47:26.223653Z"
    },
    "execution": {
     "iopub.execute_input": "2025-03-24T10:22:53.122860Z",
     "iopub.status.busy": "2025-03-24T10:22:53.122775Z",
     "iopub.status.idle": "2025-03-24T10:22:53.646693Z",
     "shell.execute_reply": "2025-03-24T10:22:53.646405Z",
     "shell.execute_reply.started": "2025-03-24T10:22:53.122849Z"
    }
   },
   "outputs": [],
   "source": [
    "from IPython.display import display, Math, Latex, HTML\n",
    "\n",
    "import pyagrum as gum\n",
    "import pyagrum.lib.notebook as gnb\n",
    "import pyagrum.causal as csl\n",
    "import pyagrum.causal.notebook as cslnb"
   ]
  },
  {
   "cell_type": "markdown",
   "metadata": {},
   "source": [
    "## S. Tikka and J. Karvanen, 2016 [CRAN]"
   ]
  },
  {
   "cell_type": "code",
   "execution_count": 2,
   "metadata": {
    "ExecuteTime": {
     "end_time": "2019-03-30T09:47:30.296100Z",
     "start_time": "2019-03-30T09:47:26.457764Z"
    },
    "execution": {
     "iopub.execute_input": "2025-03-24T10:22:53.647131Z",
     "iopub.status.busy": "2025-03-24T10:22:53.647013Z",
     "iopub.status.idle": "2025-03-24T10:22:53.917146Z",
     "shell.execute_reply": "2025-03-24T10:22:53.916800Z",
     "shell.execute_reply.started": "2025-03-24T10:22:53.647123Z"
    }
   },
   "outputs": [
    {
     "data": {
      "text/html": [
       "\n",
       "      <style>\n",
       "      .floating-box {\n",
       "      display: inline-block;\n",
       "      margin: 7px;\n",
       "      padding : 3px;\n",
       "      border: 0px solid transparent;  \n",
       "      valign:middle;\n",
       "      background-color: transparent;\n",
       "      }\n",
       "      </style>\n",
       "      <div class=\"floating-box\"><svg xmlns=\"http://www.w3.org/2000/svg\" xmlns:xlink=\"http://www.w3.org/1999/xlink\" width=\"80pt\" height=\"180pt\" viewBox=\"0.00 0.00 79.62 180.00\">\n",
       "<g id=\"graph0\" class=\"graph\" transform=\"scale(0.692308 0.692308) rotate(0) translate(4 256)\">\n",
       "<title>G</title>\n",
       "<!-- lat1 -->\n",
       "<g id=\"node1\" class=\"node\">\n",
       "<title>lat1</title>\n",
       "<ellipse fill=\"#404040\" stroke=\"#4a4a4a\" cx=\"29\" cy=\"-234\" rx=\"1.8\" ry=\"1.8\"/>\n",
       "</g>\n",
       "<!-- x -->\n",
       "<g id=\"node3\" class=\"node\">\n",
       "<title>x</title>\n",
       "<ellipse fill=\"#404040\" stroke=\"#4a4a4a\" cx=\"55\" cy=\"-162\" rx=\"27\" ry=\"18\"/>\n",
       "<text text-anchor=\"middle\" x=\"55\" y=\"-156.95\" font-family=\"Times,serif\" font-size=\"14.00\" fill=\"white\">x</text>\n",
       "</g>\n",
       "<!-- lat1&#45;&gt;x -->\n",
       "<g id=\"edge6\" class=\"edge\">\n",
       "<title>lat1-&gt;x</title>\n",
       "<path fill=\"none\" stroke=\"#4a4a4a\" stroke-dasharray=\"5,2\" d=\"M29.45,-231.79C31.3,-226.81 38.49,-207.46 44.77,-190.55\"/>\n",
       "<polygon fill=\"#4a4a4a\" stroke=\"#4a4a4a\" points=\"47.97,-191.97 48.17,-181.38 41.41,-189.54 47.97,-191.97\"/>\n",
       "</g>\n",
       "<!-- y -->\n",
       "<g id=\"node5\" class=\"node\">\n",
       "<title>y</title>\n",
       "<ellipse fill=\"#404040\" stroke=\"#4a4a4a\" cx=\"27\" cy=\"-18\" rx=\"27\" ry=\"18\"/>\n",
       "<text text-anchor=\"middle\" x=\"27\" y=\"-12.95\" font-family=\"Times,serif\" font-size=\"14.00\" fill=\"white\">y</text>\n",
       "</g>\n",
       "<!-- lat1&#45;&gt;y -->\n",
       "<g id=\"edge3\" class=\"edge\">\n",
       "<title>lat1-&gt;y</title>\n",
       "<path fill=\"none\" stroke=\"#4a4a4a\" stroke-dasharray=\"5,2\" d=\"M28.81,-232.26C27.59,-227.58 21.02,-201.63 19,-180 14.53,-132.21 15.41,-119.87 19,-72 19.6,-63.99 20.71,-55.35 21.91,-47.43\"/>\n",
       "<polygon fill=\"#4a4a4a\" stroke=\"#4a4a4a\" points=\"25.35,-48.04 23.51,-37.61 18.45,-46.91 25.35,-48.04\"/>\n",
       "</g>\n",
       "<!-- w -->\n",
       "<g id=\"node2\" class=\"node\">\n",
       "<title>w</title>\n",
       "<ellipse fill=\"#404040\" stroke=\"#4a4a4a\" cx=\"80\" cy=\"-234\" rx=\"27\" ry=\"18\"/>\n",
       "<text text-anchor=\"middle\" x=\"80\" y=\"-228.95\" font-family=\"Times,serif\" font-size=\"14.00\" fill=\"white\">w</text>\n",
       "</g>\n",
       "<!-- w&#45;&gt;x -->\n",
       "<g id=\"edge1\" class=\"edge\">\n",
       "<title>w-&gt;x</title>\n",
       "<path fill=\"none\" stroke=\"#4a4a4a\" d=\"M73.01,-216.39C70.27,-208.74 66.97,-199.5 63.9,-190.89\"/>\n",
       "<path fill=\"none\" stroke=\"#4a4a4a\" d=\"M74.89,-215.72C72.16,-208.07 68.86,-198.83 65.78,-190.22\"/>\n",
       "<polygon fill=\"#4a4a4a\" stroke=\"#4a4a4a\" points=\"68.16,-189.45 61.51,-181.21 61.57,-191.81 68.16,-189.45\"/>\n",
       "</g>\n",
       "<!-- z -->\n",
       "<g id=\"node4\" class=\"node\">\n",
       "<title>z</title>\n",
       "<ellipse fill=\"#404040\" stroke=\"#4a4a4a\" cx=\"55\" cy=\"-90\" rx=\"27\" ry=\"18\"/>\n",
       "<text text-anchor=\"middle\" x=\"55\" y=\"-84.95\" font-family=\"Times,serif\" font-size=\"14.00\" fill=\"white\">z</text>\n",
       "</g>\n",
       "<!-- w&#45;&gt;z -->\n",
       "<g id=\"edge5\" class=\"edge\">\n",
       "<title>w-&gt;z</title>\n",
       "<path fill=\"none\" stroke=\"#4a4a4a\" d=\"M85.19,-215.93C90.9,-197.85 97.53,-168.19 90.04,-144.29 86.96,-134.16 80.99,-124.01 74.86,-115.49\"/>\n",
       "<path fill=\"none\" stroke=\"#4a4a4a\" d=\"M87.1,-216.54C92.86,-198.28 99.48,-168.62 91.96,-143.71 88.68,-133.14 82.71,-123 76.48,-114.33\"/>\n",
       "<polygon fill=\"#4a4a4a\" stroke=\"#4a4a4a\" points=\"78.55,-112.91 69.67,-107.13 73.01,-117.19 78.55,-112.91\"/>\n",
       "</g>\n",
       "<!-- x&#45;&gt;z -->\n",
       "<g id=\"edge2\" class=\"edge\">\n",
       "<title>x-&gt;z</title>\n",
       "<path fill=\"none\" stroke=\"#4a4a4a\" d=\"M54,-143.7C54,-136.41 54,-127.73 54,-119.54\"/>\n",
       "<path fill=\"none\" stroke=\"#4a4a4a\" d=\"M56,-143.7C56,-136.41 56,-127.73 56,-119.54\"/>\n",
       "<polygon fill=\"#4a4a4a\" stroke=\"#4a4a4a\" points=\"58.5,-119.62 55,-109.62 51.5,-119.62 58.5,-119.62\"/>\n",
       "</g>\n",
       "<!-- z&#45;&gt;y -->\n",
       "<g id=\"edge4\" class=\"edge\">\n",
       "<title>z-&gt;y</title>\n",
       "<path fill=\"none\" stroke=\"#4a4a4a\" d=\"M47.44,-72.78C44.3,-64.94 40.47,-55.37 36.92,-46.5\"/>\n",
       "<path fill=\"none\" stroke=\"#4a4a4a\" d=\"M49.29,-72.04C46.15,-64.19 42.33,-54.62 38.78,-45.76\"/>\n",
       "<polygon fill=\"#4a4a4a\" stroke=\"#4a4a4a\" points=\"41.11,-44.86 34.15,-36.88 34.61,-47.46 41.11,-44.86\"/>\n",
       "</g>\n",
       "</g>\n",
       "</svg><br><center><small><em>Causal Model</em></small></center></div><div class=\"floating-box\">$$\\begin{equation*}P( y \\mid \\text{do}(x)) = \\sum_{w,z}{\\left(\\sum_{x'}{P\\left(y\\mid w,x',z\\right) \\cdot P\\left(x'\\mid w\\right)}\\right) \\cdot P\\left(z\\mid w,x\\right) \\cdot P\\left(w\\right)}\\end{equation*}$$<br><center><small><em>Explanation : Do-calculus computations</em></small></center></div><div class=\"floating-box\"><table style=\"border:1px solid black;border-collapse: collapse;\">\n",
       "<tr style='border:1px solid black;color:black;background-color:#808080'>\n",
       "      <th colspan='2'><center>y</center></th></tr>\n",
       "<tr><th style='border:1px solid black;border-bottom-style: double;color:black;background-color:#BBBBBB'>\n",
       "      <center>0</center></th><th style='border:1px solid black;border-bottom-style: double;color:black;background-color:#BBBBBB'>\n",
       "      <center>1</center></th></tr>\n",
       "<tr><td style='color:black;background-color:#bdc064;text-align:right;padding: 3px;'>0.5130</td><td style='color:black;background-color:#c0bd64;text-align:right;padding: 3px;'>0.4870</td></tr>\n",
       "</table><br><center><small><em>Impact</em></small></center></div>"
      ],
      "text/plain": [
       "<IPython.core.display.HTML object>"
      ]
     },
     "metadata": {},
     "output_type": "display_data"
    },
    {
     "data": {
      "text/html": [
       "\n",
       "      <style>\n",
       "      .floating-box {\n",
       "      display: inline-block;\n",
       "      margin: 7px;\n",
       "      padding : 3px;\n",
       "      border: 0px solid transparent;  \n",
       "      valign:middle;\n",
       "      background-color: transparent;\n",
       "      }\n",
       "      </style>\n",
       "      <div class=\"floating-box\"><svg xmlns=\"http://www.w3.org/2000/svg\" xmlns:xlink=\"http://www.w3.org/1999/xlink\" width=\"80pt\" height=\"180pt\" viewBox=\"0.00 0.00 79.62 180.00\">\n",
       "<g id=\"graph0\" class=\"graph\" transform=\"scale(0.692308 0.692308) rotate(0) translate(4 256)\">\n",
       "<title>G</title>\n",
       "<!-- lat1 -->\n",
       "<g id=\"node1\" class=\"node\">\n",
       "<title>lat1</title>\n",
       "<ellipse fill=\"#404040\" stroke=\"#4a4a4a\" cx=\"29\" cy=\"-234\" rx=\"1.8\" ry=\"1.8\"/>\n",
       "</g>\n",
       "<!-- x -->\n",
       "<g id=\"node3\" class=\"node\">\n",
       "<title>x</title>\n",
       "<ellipse fill=\"#404040\" stroke=\"#4a4a4a\" cx=\"55\" cy=\"-162\" rx=\"27\" ry=\"18\"/>\n",
       "<text text-anchor=\"middle\" x=\"55\" y=\"-156.95\" font-family=\"Times,serif\" font-size=\"14.00\" fill=\"white\">x</text>\n",
       "</g>\n",
       "<!-- lat1&#45;&gt;x -->\n",
       "<g id=\"edge6\" class=\"edge\">\n",
       "<title>lat1-&gt;x</title>\n",
       "<path fill=\"none\" stroke=\"#4a4a4a\" stroke-dasharray=\"5,2\" d=\"M29.45,-231.79C31.3,-226.81 38.49,-207.46 44.77,-190.55\"/>\n",
       "<polygon fill=\"#4a4a4a\" stroke=\"#4a4a4a\" points=\"47.97,-191.97 48.17,-181.38 41.41,-189.54 47.97,-191.97\"/>\n",
       "</g>\n",
       "<!-- y -->\n",
       "<g id=\"node5\" class=\"node\">\n",
       "<title>y</title>\n",
       "<ellipse fill=\"#404040\" stroke=\"#4a4a4a\" cx=\"27\" cy=\"-18\" rx=\"27\" ry=\"18\"/>\n",
       "<text text-anchor=\"middle\" x=\"27\" y=\"-12.95\" font-family=\"Times,serif\" font-size=\"14.00\" fill=\"white\">y</text>\n",
       "</g>\n",
       "<!-- lat1&#45;&gt;y -->\n",
       "<g id=\"edge3\" class=\"edge\">\n",
       "<title>lat1-&gt;y</title>\n",
       "<path fill=\"none\" stroke=\"#4a4a4a\" stroke-dasharray=\"5,2\" d=\"M28.81,-232.26C27.59,-227.58 21.02,-201.63 19,-180 14.53,-132.21 15.41,-119.87 19,-72 19.6,-63.99 20.71,-55.35 21.91,-47.43\"/>\n",
       "<polygon fill=\"#4a4a4a\" stroke=\"#4a4a4a\" points=\"25.35,-48.04 23.51,-37.61 18.45,-46.91 25.35,-48.04\"/>\n",
       "</g>\n",
       "<!-- w -->\n",
       "<g id=\"node2\" class=\"node\">\n",
       "<title>w</title>\n",
       "<ellipse fill=\"#404040\" stroke=\"#4a4a4a\" cx=\"80\" cy=\"-234\" rx=\"27\" ry=\"18\"/>\n",
       "<text text-anchor=\"middle\" x=\"80\" y=\"-228.95\" font-family=\"Times,serif\" font-size=\"14.00\" fill=\"white\">w</text>\n",
       "</g>\n",
       "<!-- w&#45;&gt;x -->\n",
       "<g id=\"edge1\" class=\"edge\">\n",
       "<title>w-&gt;x</title>\n",
       "<path fill=\"none\" stroke=\"#4a4a4a\" d=\"M73.01,-216.39C70.27,-208.74 66.97,-199.5 63.9,-190.89\"/>\n",
       "<path fill=\"none\" stroke=\"#4a4a4a\" d=\"M74.89,-215.72C72.16,-208.07 68.86,-198.83 65.78,-190.22\"/>\n",
       "<polygon fill=\"#4a4a4a\" stroke=\"#4a4a4a\" points=\"68.16,-189.45 61.51,-181.21 61.57,-191.81 68.16,-189.45\"/>\n",
       "</g>\n",
       "<!-- z -->\n",
       "<g id=\"node4\" class=\"node\">\n",
       "<title>z</title>\n",
       "<ellipse fill=\"#404040\" stroke=\"#4a4a4a\" cx=\"55\" cy=\"-90\" rx=\"27\" ry=\"18\"/>\n",
       "<text text-anchor=\"middle\" x=\"55\" y=\"-84.95\" font-family=\"Times,serif\" font-size=\"14.00\" fill=\"white\">z</text>\n",
       "</g>\n",
       "<!-- w&#45;&gt;z -->\n",
       "<g id=\"edge5\" class=\"edge\">\n",
       "<title>w-&gt;z</title>\n",
       "<path fill=\"none\" stroke=\"#4a4a4a\" d=\"M85.19,-215.93C90.9,-197.85 97.53,-168.19 90.04,-144.29 86.96,-134.16 80.99,-124.01 74.86,-115.49\"/>\n",
       "<path fill=\"none\" stroke=\"#4a4a4a\" d=\"M87.1,-216.54C92.86,-198.28 99.48,-168.62 91.96,-143.71 88.68,-133.14 82.71,-123 76.48,-114.33\"/>\n",
       "<polygon fill=\"#4a4a4a\" stroke=\"#4a4a4a\" points=\"78.55,-112.91 69.67,-107.13 73.01,-117.19 78.55,-112.91\"/>\n",
       "</g>\n",
       "<!-- x&#45;&gt;z -->\n",
       "<g id=\"edge2\" class=\"edge\">\n",
       "<title>x-&gt;z</title>\n",
       "<path fill=\"none\" stroke=\"#4a4a4a\" d=\"M54,-143.7C54,-136.41 54,-127.73 54,-119.54\"/>\n",
       "<path fill=\"none\" stroke=\"#4a4a4a\" d=\"M56,-143.7C56,-136.41 56,-127.73 56,-119.54\"/>\n",
       "<polygon fill=\"#4a4a4a\" stroke=\"#4a4a4a\" points=\"58.5,-119.62 55,-109.62 51.5,-119.62 58.5,-119.62\"/>\n",
       "</g>\n",
       "<!-- z&#45;&gt;y -->\n",
       "<g id=\"edge4\" class=\"edge\">\n",
       "<title>z-&gt;y</title>\n",
       "<path fill=\"none\" stroke=\"#4a4a4a\" d=\"M47.44,-72.78C44.3,-64.94 40.47,-55.37 36.92,-46.5\"/>\n",
       "<path fill=\"none\" stroke=\"#4a4a4a\" d=\"M49.29,-72.04C46.15,-64.19 42.33,-54.62 38.78,-45.76\"/>\n",
       "<polygon fill=\"#4a4a4a\" stroke=\"#4a4a4a\" points=\"41.11,-44.86 34.15,-36.88 34.61,-47.46 41.11,-44.86\"/>\n",
       "</g>\n",
       "</g>\n",
       "</svg><br><center><small><em>Causal Model</em></small></center></div><div class=\"floating-box\">$$\\begin{equation*}P( y \\mid \\text{do}(x)) = \\sum_{w,z}{\\left(\\sum_{x'}{P\\left(y\\mid w,x',z\\right) \\cdot P\\left(x'\\mid w\\right)}\\right) \\cdot P\\left(z\\mid w,x\\right) \\cdot P\\left(w\\right)}\\end{equation*}$$<br><center><small><em>Explanation : Do-calculus computations</em></small></center></div><div class=\"floating-box\"><table style=\"border:1px solid black;border-collapse: collapse;\">\n",
       "<tr style='border:1px solid black;color:black;background-color:#808080'>\n",
       "      <th colspan='2'><center>y</center></th></tr>\n",
       "<tr><th style='border:1px solid black;border-bottom-style: double;color:black;background-color:#BBBBBB'>\n",
       "      <center>0</center></th><th style='border:1px solid black;border-bottom-style: double;color:black;background-color:#BBBBBB'>\n",
       "      <center>1</center></th></tr>\n",
       "<tr><td style='color:black;background-color:#acd164;text-align:right;padding: 3px;'>0.6460</td><td style='color:black;background-color:#d1ac64;text-align:right;padding: 3px;'>0.3540</td></tr>\n",
       "</table><br><center><small><em>Impact</em></small></center></div>"
      ],
      "text/plain": [
       "<IPython.core.display.HTML object>"
      ]
     },
     "metadata": {},
     "output_type": "display_data"
    }
   ],
   "source": [
    "bn = gum.fastBN(\"w->x->z->y;w->z\")\n",
    "\n",
    "bn.cpt(\"w\")[:] = [0.7,0.3]\n",
    "\n",
    "bn.cpt(\"x\")[:] = [[0.4,0.6],[0.3,0.7]]\n",
    "\n",
    "bn.cpt(\"z\")[{'w':0,'x':0}]=[0.2,0.8]\n",
    "bn.cpt(\"z\")[{'w':0,'x':1}]=[0.1,0.9]\n",
    "bn.cpt(\"z\")[{'w':1,'x':0}]=[0.9,0.1]\n",
    "bn.cpt(\"z\")[{'w':1,'x':1}]=[0.5,0.5]\n",
    "\n",
    "bn.cpt(\"y\")[:] = [[0.1,0.9],[0.8,0.2]]\n",
    "\n",
    "\n",
    "d = csl.CausalModel(bn, [(\"lat1\", [\"x\",\"y\"])])\n",
    "#csl.causalImpact(d,\"y\",{\"x\":0})\n",
    "cslnb.showCausalImpact(d,\"y\",\"x\",values={\"x\":0})\n",
    "cslnb.showCausalImpact(d,\"y\",\"x\",values={\"x\":1})\n",
    "\n"
   ]
  },
  {
   "cell_type": "markdown",
   "metadata": {},
   "source": [
    "Since we have the formula, let us compute by hand this intervention :"
   ]
  },
  {
   "cell_type": "code",
   "execution_count": 3,
   "metadata": {
    "ExecuteTime": {
     "end_time": "2019-03-30T09:47:30.305181Z",
     "start_time": "2019-03-30T09:47:30.298891Z"
    },
    "execution": {
     "iopub.execute_input": "2025-03-24T10:22:53.917684Z",
     "iopub.status.busy": "2025-03-24T10:22:53.917590Z",
     "iopub.status.idle": "2025-03-24T10:22:53.920625Z",
     "shell.execute_reply": "2025-03-24T10:22:53.920375Z",
     "shell.execute_reply.started": "2025-03-24T10:22:53.917674Z"
    }
   },
   "outputs": [
    {
     "data": {
      "text/html": [
       "<table style=\"border:1px solid black;border-collapse: collapse;\">\n",
       "<tr><th colspan='1'></th>\n",
       "      <th colspan='2' style='border:1px solid black;color:black;background-color:#808080;'><center>y</center>\n",
       "      </th></tr>\n",
       "<tr><th style='border:1px solid black;color:black;background-color:#808080'><center>x</center></th><th style='border:1px solid black;border-bottom-style: double;color:black;background-color:#BBBBBB'>\n",
       "      <center>0</center></th><th style='border:1px solid black;border-bottom-style: double;color:black;background-color:#BBBBBB'>\n",
       "      <center>1</center></th></tr>\n",
       "<tr><th style='border:1px solid black;color:black;background-color:#BBBBBB'><center>0</center></th><td style='color:black;background-color:#bdc064;text-align:right;padding: 3px;'>0.5130</td><td style='color:black;background-color:#c0bd64;text-align:right;padding: 3px;'>0.4870</td></tr>\n",
       "<tr><th style='border:1px solid black;color:black;background-color:#BBBBBB'><center>1</center></th><td style='color:black;background-color:#acd164;text-align:right;padding: 3px;'>0.6460</td><td style='color:black;background-color:#d1ac64;text-align:right;padding: 3px;'>0.3540</td></tr>\n",
       "</table>"
      ],
      "text/plain": [
       "(pyagrum.Tensor@0x600000cbc0e0) \n",
       "      ||  y                |\n",
       "x     ||0        |1        |\n",
       "------||---------|---------|\n",
       "0     || 0.5130  | 0.4870  |\n",
       "1     || 0.6460  | 0.3540  |"
      ]
     },
     "execution_count": 3,
     "metadata": {},
     "output_type": "execute_result"
    }
   ],
   "source": [
    "(((bn.cpt(\"x\") * bn.cpt(\"y\")).sumOut([\"x\"]) * bn.cpt(\"w\") * bn.cpt(\"z\")).sumOut([\"z\", \"w\"])).putFirst(\"y\")"
   ]
  },
  {
   "cell_type": "code",
   "execution_count": 4,
   "metadata": {
    "ExecuteTime": {
     "end_time": "2019-03-30T09:47:32.332589Z",
     "start_time": "2019-03-30T09:47:30.307406Z"
    },
    "execution": {
     "iopub.execute_input": "2025-03-24T10:22:53.921081Z",
     "iopub.status.busy": "2025-03-24T10:22:53.921010Z",
     "iopub.status.idle": "2025-03-24T10:22:54.036024Z",
     "shell.execute_reply": "2025-03-24T10:22:54.035678Z",
     "shell.execute_reply.started": "2025-03-24T10:22:53.921074Z"
    }
   },
   "outputs": [
    {
     "data": {
      "text/html": [
       "\n",
       "      <style>\n",
       "      .floating-box {\n",
       "      display: inline-block;\n",
       "      margin: 7px;\n",
       "      padding : 3px;\n",
       "      border: 0px solid transparent;  \n",
       "      valign:middle;\n",
       "      background-color: transparent;\n",
       "      }\n",
       "      </style>\n",
       "      <div class=\"floating-box\"><svg xmlns=\"http://www.w3.org/2000/svg\" xmlns:xlink=\"http://www.w3.org/1999/xlink\" width=\"93pt\" height=\"180pt\" viewBox=\"0.00 0.00 93.00 180.00\">\n",
       "<g id=\"graph0\" class=\"graph\" transform=\"scale(0.600801 0.600801) rotate(0) translate(4 295.6)\">\n",
       "<title>G</title>\n",
       "<!-- L1 -->\n",
       "<g id=\"node1\" class=\"node\">\n",
       "<title>L1</title>\n",
       "<ellipse fill=\"#404040\" stroke=\"#4a4a4a\" cx=\"88\" cy=\"-289.8\" rx=\"1.8\" ry=\"1.8\"/>\n",
       "</g>\n",
       "<!-- Z1 -->\n",
       "<g id=\"node5\" class=\"node\">\n",
       "<title>Z1</title>\n",
       "<ellipse fill=\"#404040\" stroke=\"#4a4a4a\" cx=\"70\" cy=\"-234\" rx=\"27\" ry=\"18\"/>\n",
       "<text text-anchor=\"middle\" x=\"70\" y=\"-228.95\" font-family=\"Times,serif\" font-size=\"14.00\" fill=\"white\">Z1</text>\n",
       "</g>\n",
       "<!-- L1&#45;&gt;Z1 -->\n",
       "<g id=\"edge4\" class=\"edge\">\n",
       "<title>L1-&gt;Z1</title>\n",
       "<path fill=\"none\" stroke=\"#4a4a4a\" stroke-dasharray=\"5,2\" d=\"M87.69,-287.87C86.62,-284.68 83,-273.85 79.31,-262.82\"/>\n",
       "<polygon fill=\"#4a4a4a\" stroke=\"#4a4a4a\" points=\"82.66,-261.79 76.16,-253.42 76.02,-264.01 82.66,-261.79\"/>\n",
       "</g>\n",
       "<!-- X -->\n",
       "<g id=\"node6\" class=\"node\">\n",
       "<title>X</title>\n",
       "<ellipse fill=\"#404040\" stroke=\"#4a4a4a\" cx=\"82\" cy=\"-162\" rx=\"27\" ry=\"18\"/>\n",
       "<text text-anchor=\"middle\" x=\"82\" y=\"-156.95\" font-family=\"Times,serif\" font-size=\"14.00\" fill=\"white\">X</text>\n",
       "</g>\n",
       "<!-- L1&#45;&gt;X -->\n",
       "<g id=\"edge10\" class=\"edge\">\n",
       "<title>L1-&gt;X</title>\n",
       "<path fill=\"none\" stroke=\"#4a4a4a\" stroke-dasharray=\"5,2\" d=\"M88.76,-287.73C91.71,-283.47 102.47,-267.24 106,-252 109.61,-236.41 109.38,-231.64 106,-216 104.04,-206.94 100.41,-197.56 96.54,-189.26\"/>\n",
       "<polygon fill=\"#4a4a4a\" stroke=\"#4a4a4a\" points=\"99.74,-187.82 92.13,-180.44 93.47,-190.95 99.74,-187.82\"/>\n",
       "</g>\n",
       "<!-- L2 -->\n",
       "<g id=\"node2\" class=\"node\">\n",
       "<title>L2</title>\n",
       "<ellipse fill=\"#404040\" stroke=\"#4a4a4a\" cx=\"145\" cy=\"-289.8\" rx=\"1.8\" ry=\"1.8\"/>\n",
       "</g>\n",
       "<!-- L2&#45;&gt;Z1 -->\n",
       "<g id=\"edge7\" class=\"edge\">\n",
       "<title>L2-&gt;Z1</title>\n",
       "<path fill=\"none\" stroke=\"#4a4a4a\" stroke-dasharray=\"5,2\" d=\"M143.94,-288.04C138.79,-284.35 115.88,-267.91 96.9,-254.3\"/>\n",
       "<polygon fill=\"#4a4a4a\" stroke=\"#4a4a4a\" points=\"99.12,-251.58 88.96,-248.6 95.04,-257.27 99.12,-251.58\"/>\n",
       "</g>\n",
       "<!-- Z2 -->\n",
       "<g id=\"node7\" class=\"node\">\n",
       "<title>Z2</title>\n",
       "<ellipse fill=\"#404040\" stroke=\"#4a4a4a\" cx=\"82\" cy=\"-90\" rx=\"27\" ry=\"18\"/>\n",
       "<text text-anchor=\"middle\" x=\"82\" y=\"-84.95\" font-family=\"Times,serif\" font-size=\"14.00\" fill=\"white\">Z2</text>\n",
       "</g>\n",
       "<!-- L2&#45;&gt;Z2 -->\n",
       "<g id=\"edge11\" class=\"edge\">\n",
       "<title>L2-&gt;Z2</title>\n",
       "<path fill=\"none\" stroke=\"#4a4a4a\" stroke-dasharray=\"5,2\" d=\"M144.96,-287.59C144.59,-277.07 141.17,-200.28 118,-144 113.88,-133.99 107.68,-123.92 101.59,-115.3\"/>\n",
       "<polygon fill=\"#4a4a4a\" stroke=\"#4a4a4a\" points=\"104.54,-113.4 95.77,-107.46 98.92,-117.58 104.54,-113.4\"/>\n",
       "</g>\n",
       "<!-- L3 -->\n",
       "<g id=\"node3\" class=\"node\">\n",
       "<title>L3</title>\n",
       "<ellipse fill=\"#404040\" stroke=\"#4a4a4a\" cx=\"39\" cy=\"-289.8\" rx=\"1.8\" ry=\"1.8\"/>\n",
       "</g>\n",
       "<!-- L3&#45;&gt;Z1 -->\n",
       "<g id=\"edge8\" class=\"edge\">\n",
       "<title>L3-&gt;Z1</title>\n",
       "<path fill=\"none\" stroke=\"#4a4a4a\" stroke-dasharray=\"5,2\" d=\"M39.54,-287.87C41.47,-284.52 48.27,-272.72 54.96,-261.11\"/>\n",
       "<polygon fill=\"#4a4a4a\" stroke=\"#4a4a4a\" points=\"57.96,-262.9 59.92,-252.49 51.9,-259.4 57.96,-262.9\"/>\n",
       "</g>\n",
       "<!-- Y -->\n",
       "<g id=\"node8\" class=\"node\">\n",
       "<title>Y</title>\n",
       "<ellipse fill=\"#404040\" stroke=\"#4a4a4a\" cx=\"27\" cy=\"-18\" rx=\"27\" ry=\"18\"/>\n",
       "<text text-anchor=\"middle\" x=\"27\" y=\"-12.95\" font-family=\"Times,serif\" font-size=\"14.00\" fill=\"white\">Y</text>\n",
       "</g>\n",
       "<!-- L3&#45;&gt;Y -->\n",
       "<g id=\"edge9\" class=\"edge\">\n",
       "<title>L3-&gt;Y</title>\n",
       "<path fill=\"none\" stroke=\"#4a4a4a\" stroke-dasharray=\"5,2\" d=\"M37.87,-287.8C33.47,-283.84 17.43,-268.57 12,-252 -11.28,-180.92 6.79,-91.26 18.7,-46.73\"/>\n",
       "<polygon fill=\"#4a4a4a\" stroke=\"#4a4a4a\" points=\"21.99,-47.95 21.3,-37.38 15.25,-46.07 21.99,-47.95\"/>\n",
       "</g>\n",
       "<!-- L4 -->\n",
       "<g id=\"node4\" class=\"node\">\n",
       "<title>L4</title>\n",
       "<ellipse fill=\"#404040\" stroke=\"#4a4a4a\" cx=\"23\" cy=\"-234\" rx=\"1.8\" ry=\"1.8\"/>\n",
       "</g>\n",
       "<!-- L4&#45;&gt;X -->\n",
       "<g id=\"edge3\" class=\"edge\">\n",
       "<title>L4-&gt;X</title>\n",
       "<path fill=\"none\" stroke=\"#4a4a4a\" stroke-dasharray=\"5,2\" d=\"M23.55,-232.04C25.07,-229.4 29.55,-221.8 34,-216 42.02,-205.56 51.64,-194.67 60.15,-185.49\"/>\n",
       "<polygon fill=\"#4a4a4a\" stroke=\"#4a4a4a\" points=\"62.53,-188.07 66.85,-178.4 57.44,-183.27 62.53,-188.07\"/>\n",
       "</g>\n",
       "<!-- L4&#45;&gt;Y -->\n",
       "<g id=\"edge5\" class=\"edge\">\n",
       "<title>L4-&gt;Y</title>\n",
       "<path fill=\"none\" stroke=\"#4a4a4a\" stroke-dasharray=\"5,2\" d=\"M23.02,-232.05C23.24,-220.3 25.43,-103.11 26.46,-47.72\"/>\n",
       "<polygon fill=\"#4a4a4a\" stroke=\"#4a4a4a\" points=\"29.96,-47.86 26.65,-37.8 22.96,-47.73 29.96,-47.86\"/>\n",
       "</g>\n",
       "<!-- Z1&#45;&gt;X -->\n",
       "<g id=\"edge1\" class=\"edge\">\n",
       "<title>Z1-&gt;X</title>\n",
       "<path fill=\"none\" stroke=\"#4a4a4a\" d=\"M71.98,-215.53C73.24,-208.15 74.75,-199.36 76.17,-191.08\"/>\n",
       "<path fill=\"none\" stroke=\"#4a4a4a\" d=\"M73.95,-215.87C75.22,-208.49 76.72,-199.69 78.14,-191.42\"/>\n",
       "<polygon fill=\"#4a4a4a\" stroke=\"#4a4a4a\" points=\"80.57,-192.04 78.81,-181.6 73.67,-190.86 80.57,-192.04\"/>\n",
       "</g>\n",
       "<!-- X&#45;&gt;Z2 -->\n",
       "<g id=\"edge2\" class=\"edge\">\n",
       "<title>X-&gt;Z2</title>\n",
       "<path fill=\"none\" stroke=\"#4a4a4a\" d=\"M81,-143.7C81,-136.41 81,-127.73 81,-119.54\"/>\n",
       "<path fill=\"none\" stroke=\"#4a4a4a\" d=\"M83,-143.7C83,-136.41 83,-127.73 83,-119.54\"/>\n",
       "<polygon fill=\"#4a4a4a\" stroke=\"#4a4a4a\" points=\"85.5,-119.62 82,-109.62 78.5,-119.62 85.5,-119.62\"/>\n",
       "</g>\n",
       "<!-- Z2&#45;&gt;Y -->\n",
       "<g id=\"edge6\" class=\"edge\">\n",
       "<title>Z2-&gt;Y</title>\n",
       "<path fill=\"none\" stroke=\"#4a4a4a\" d=\"M69.01,-74.08C62.1,-65.29 53.31,-54.1 45.49,-44.15\"/>\n",
       "<path fill=\"none\" stroke=\"#4a4a4a\" d=\"M70.58,-72.85C63.67,-64.06 54.88,-52.86 47.06,-42.91\"/>\n",
       "<polygon fill=\"#4a4a4a\" stroke=\"#4a4a4a\" points=\"49.04,-41.38 40.11,-35.68 43.53,-45.71 49.04,-41.38\"/>\n",
       "</g>\n",
       "</g>\n",
       "</svg><br><center><small><em>Causal Model</em></small></center></div><div class=\"floating-box\">Hedge Error: G={'Z2', 'Z1', 'X'}, G[S]={'Z2'}<br><center><small><em>Impossible</em></small></center></div><div class=\"floating-box\">No result<br><center><small><em>Impact</em></small></center></div>"
      ],
      "text/plain": [
       "<IPython.core.display.HTML object>"
      ]
     },
     "metadata": {},
     "output_type": "display_data"
    }
   ],
   "source": [
    "bn = gum.fastBN(\"Z1->X->Z2->Y\")\n",
    "d=csl.CausalModel(bn,[(\"L1\",[\"Z1\",\"X\"]),\n",
    "                      (\"L2\",[\"Z1\",\"Z2\"]),\n",
    "                      (\"L3\",[\"Z1\",\"Y\"]),\n",
    "                      (\"L4\",[\"Y\",\"X\"])],\n",
    "                  True)\n",
    "cslnb.showCausalImpact(d,\"Y\",\"X\",values={\"X\":1})"
   ]
  },
  {
   "cell_type": "markdown",
   "metadata": {},
   "source": [
    "## Front door"
   ]
  },
  {
   "cell_type": "code",
   "execution_count": 5,
   "metadata": {
    "ExecuteTime": {
     "end_time": "2019-03-30T09:47:34.259441Z",
     "start_time": "2019-03-30T09:47:32.335346Z"
    },
    "execution": {
     "iopub.execute_input": "2025-03-24T10:22:54.036680Z",
     "iopub.status.busy": "2025-03-24T10:22:54.036541Z",
     "iopub.status.idle": "2025-03-24T10:22:54.141696Z",
     "shell.execute_reply": "2025-03-24T10:22:54.141380Z",
     "shell.execute_reply.started": "2025-03-24T10:22:54.036664Z"
    }
   },
   "outputs": [
    {
     "data": {
      "image/svg+xml": [
       "<svg xmlns=\"http://www.w3.org/2000/svg\" xmlns:xlink=\"http://www.w3.org/1999/xlink\" width=\"99pt\" height=\"180pt\" viewBox=\"0.00 0.00 99.43 180.00\">\n",
       "<g id=\"graph0\" class=\"graph\" transform=\"scale(0.790861 0.790861) rotate(0) translate(4 223.6)\">\n",
       "<title>G</title>\n",
       "<!-- Genotype -->\n",
       "<g id=\"node1\" class=\"node\">\n",
       "<title>Genotype</title>\n",
       "<ellipse fill=\"#404040\" stroke=\"#4a4a4a\" cx=\"80.7\" cy=\"-217.8\" rx=\"1.8\" ry=\"1.8\"/>\n",
       "</g>\n",
       "<!-- Smoking -->\n",
       "<g id=\"node2\" class=\"node\">\n",
       "<title>Smoking</title>\n",
       "<ellipse fill=\"#404040\" stroke=\"#4a4a4a\" cx=\"44.7\" cy=\"-162\" rx=\"44.7\" ry=\"18\"/>\n",
       "<text text-anchor=\"middle\" x=\"44.7\" y=\"-156.95\" font-family=\"Times,serif\" font-size=\"14.00\" fill=\"white\">Smoking</text>\n",
       "</g>\n",
       "<!-- Genotype&#45;&gt;Smoking -->\n",
       "<g id=\"edge4\" class=\"edge\">\n",
       "<title>Genotype-&gt;Smoking</title>\n",
       "<path fill=\"none\" stroke=\"#4a4a4a\" stroke-dasharray=\"5,2\" d=\"M80.07,-215.87C77.84,-212.53 69.98,-200.78 62.24,-189.21\"/>\n",
       "<polygon fill=\"#4a4a4a\" stroke=\"#4a4a4a\" points=\"65.19,-187.34 56.72,-180.97 59.38,-191.23 65.19,-187.34\"/>\n",
       "</g>\n",
       "<!-- Cancer -->\n",
       "<g id=\"node3\" class=\"node\">\n",
       "<title>Cancer</title>\n",
       "<ellipse fill=\"#404040\" stroke=\"#4a4a4a\" cx=\"80.7\" cy=\"-18\" rx=\"37.02\" ry=\"18\"/>\n",
       "<text text-anchor=\"middle\" x=\"80.7\" y=\"-12.95\" font-family=\"Times,serif\" font-size=\"14.00\" fill=\"white\">Cancer</text>\n",
       "</g>\n",
       "<!-- Genotype&#45;&gt;Cancer -->\n",
       "<g id=\"edge1\" class=\"edge\">\n",
       "<title>Genotype-&gt;Cancer</title>\n",
       "<path fill=\"none\" stroke=\"#4a4a4a\" stroke-dasharray=\"5,2\" d=\"M81.46,-215.73C84.41,-211.47 95.17,-195.24 98.7,-180 109.32,-134.12 98.35,-79.38 89.48,-47\"/>\n",
       "<polygon fill=\"#4a4a4a\" stroke=\"#4a4a4a\" points=\"92.91,-46.24 86.78,-37.59 86.18,-48.17 92.91,-46.24\"/>\n",
       "</g>\n",
       "<!-- Tar -->\n",
       "<g id=\"node4\" class=\"node\">\n",
       "<title>Tar</title>\n",
       "<ellipse fill=\"#404040\" stroke=\"#4a4a4a\" cx=\"53.7\" cy=\"-90\" rx=\"27\" ry=\"18\"/>\n",
       "<text text-anchor=\"middle\" x=\"53.7\" y=\"-84.95\" font-family=\"Times,serif\" font-size=\"14.00\" fill=\"white\">Tar</text>\n",
       "</g>\n",
       "<!-- Smoking&#45;&gt;Tar -->\n",
       "<g id=\"edge2\" class=\"edge\">\n",
       "<title>Smoking-&gt;Tar</title>\n",
       "<path fill=\"none\" stroke=\"#4a4a4a\" d=\"M45.93,-143.57C46.88,-136.19 48.01,-127.4 49.07,-119.12\"/>\n",
       "<path fill=\"none\" stroke=\"#4a4a4a\" d=\"M47.91,-143.82C48.86,-136.45 49.99,-127.65 51.06,-119.38\"/>\n",
       "<polygon fill=\"#4a4a4a\" stroke=\"#4a4a4a\" points=\"53.5,-119.97 51.31,-109.61 46.56,-119.08 53.5,-119.97\"/>\n",
       "</g>\n",
       "<!-- Tar&#45;&gt;Cancer -->\n",
       "<g id=\"edge3\" class=\"edge\">\n",
       "<title>Tar-&gt;Cancer</title>\n",
       "<path fill=\"none\" stroke=\"#4a4a4a\" d=\"M59.3,-71.7C62.29,-63.96 65.9,-54.6 69.25,-45.91\"/>\n",
       "<path fill=\"none\" stroke=\"#4a4a4a\" d=\"M61.17,-72.41C64.15,-64.68 67.76,-55.32 71.11,-46.63\"/>\n",
       "<polygon fill=\"#4a4a4a\" stroke=\"#4a4a4a\" points=\"73.34,-47.79 73.68,-37.2 66.81,-45.27 73.34,-47.79\"/>\n",
       "</g>\n",
       "</g>\n",
       "</svg>"
      ],
      "text/plain": [
       "<IPython.core.display.SVG object>"
      ]
     },
     "metadata": {},
     "output_type": "display_data"
    }
   ],
   "source": [
    "modele4 = gum.BayesNet()\n",
    "modele4.add(gum.LabelizedVariable(\"Smoking\"))\n",
    "modele4.add(gum.LabelizedVariable(\"Cancer\"))\n",
    "modele4.add(gum.LabelizedVariable(\"Tar\"))\n",
    "\n",
    "modele4.addArc(0,2)\n",
    "modele4.addArc(2,1)\n",
    "modele4.addArc(0,1)\n",
    "\n",
    "#Smoking\n",
    "modele4.cpt(0)[:]=[0.5, 0.5]\n",
    "\n",
    "#Tar\n",
    "modele4.cpt(2)[{\"Smoking\":0}] = [0.4, 0.6]\n",
    "modele4.cpt(2)[{\"Smoking\":1}] = [0.3, 0.6]\n",
    "\n",
    "#Cancer\n",
    "modele4.cpt(1)[{'Smoking':0,'Tar':0}]=[0.1,0.9]   #No Drug, Male -> healed in 0.8 of cases\n",
    "modele4.cpt(1)[{'Smoking':0,'Tar':1}]=[0.15,0.85] #No Drug, Female -> healed in 0.4 of cases\n",
    "modele4.cpt(1)[{'Smoking':1,'Tar':0}]=[0.2,0.8]   #Drug, Male -> healed 0.7 of cases \n",
    "modele4.cpt(1)[{'Smoking':1,'Tar':1}]=[0.25,0.75]\n",
    "\n",
    "d4 = csl.CausalModel(modele4, [(\"Genotype\", [\"Smoking\",\"Cancer\"])],False)\n",
    "cslnb.showCausalModel(d4)"
   ]
  },
  {
   "cell_type": "code",
   "execution_count": 6,
   "metadata": {
    "ExecuteTime": {
     "end_time": "2019-03-30T09:47:34.266672Z",
     "start_time": "2019-03-30T09:47:34.261668Z"
    },
    "execution": {
     "iopub.execute_input": "2025-03-24T10:22:54.143592Z",
     "iopub.status.busy": "2025-03-24T10:22:54.143484Z",
     "iopub.status.idle": "2025-03-24T10:22:54.145948Z",
     "shell.execute_reply": "2025-03-24T10:22:54.145690Z",
     "shell.execute_reply.started": "2025-03-24T10:22:54.143583Z"
    }
   },
   "outputs": [],
   "source": [
    "try: \n",
    "    a = csl.doCalculusWithObservation (d4,\"Cancer\", {\"Smoking\"})\n",
    "except csl.HedgeException as h: \n",
    "    print (h.message)"
   ]
  },
  {
   "cell_type": "code",
   "execution_count": 7,
   "metadata": {
    "ExecuteTime": {
     "end_time": "2019-03-30T09:47:34.278604Z",
     "start_time": "2019-03-30T09:47:34.269804Z"
    },
    "execution": {
     "iopub.execute_input": "2025-03-24T10:22:54.146285Z",
     "iopub.status.busy": "2025-03-24T10:22:54.146216Z",
     "iopub.status.idle": "2025-03-24T10:22:54.148380Z",
     "shell.execute_reply": "2025-03-24T10:22:54.148199Z",
     "shell.execute_reply.started": "2025-03-24T10:22:54.146278Z"
    }
   },
   "outputs": [
    {
     "data": {
      "text/latex": [
       "$\\displaystyle P( Cancer \\mid \\text{do}(Smoking)) = \\sum_{Tar}{P\\left(Tar\\mid Smoking\\right) \\cdot \\left(\\sum_{Smoking'}{P\\left(Smoking'\\right) \\cdot P\\left(Cancer\\mid Smoking',Tar\\right)}\\right)}$"
      ],
      "text/plain": [
       "<IPython.core.display.Math object>"
      ]
     },
     "metadata": {},
     "output_type": "display_data"
    }
   ],
   "source": [
    "display(Math(a.toLatex()))"
   ]
  },
  {
   "cell_type": "code",
   "execution_count": 8,
   "metadata": {
    "ExecuteTime": {
     "end_time": "2019-03-30T09:47:34.286144Z",
     "start_time": "2019-03-30T09:47:34.281296Z"
    },
    "execution": {
     "iopub.execute_input": "2025-03-24T10:22:54.148840Z",
     "iopub.status.busy": "2025-03-24T10:22:54.148759Z",
     "iopub.status.idle": "2025-03-24T10:22:54.151197Z",
     "shell.execute_reply": "2025-03-24T10:22:54.150989Z",
     "shell.execute_reply.started": "2025-03-24T10:22:54.148833Z"
    }
   },
   "outputs": [
    {
     "name": "stdout",
     "output_type": "stream",
     "text": [
      "\n",
      "      ||  Cancer           |\n",
      "Smokin||0        |1        |\n",
      "------||---------|---------|\n",
      "0     || 0.1774  | 0.8226  |\n",
      "1     || 0.1626  | 0.7374  |\n",
      "\n"
     ]
    }
   ],
   "source": [
    "try: \n",
    "    adjj = a.eval()\n",
    "except csl.UnidentifiableException as u: \n",
    "    print (u.message)\n",
    "    \n",
    "print (adjj)\n"
   ]
  },
  {
   "cell_type": "code",
   "execution_count": 9,
   "metadata": {
    "ExecuteTime": {
     "end_time": "2019-03-30T09:47:34.295089Z",
     "start_time": "2019-03-30T09:47:34.288571Z"
    },
    "execution": {
     "iopub.execute_input": "2025-03-24T10:22:54.151638Z",
     "iopub.status.busy": "2025-03-24T10:22:54.151573Z",
     "iopub.status.idle": "2025-03-24T10:22:54.154041Z",
     "shell.execute_reply": "2025-03-24T10:22:54.153748Z",
     "shell.execute_reply.started": "2025-03-24T10:22:54.151631Z"
    }
   },
   "outputs": [],
   "source": [
    "formula, adj, exp = csl.causalImpact(d4, \"Cancer\", \"Smoking\",values={\"Smoking\":0})"
   ]
  },
  {
   "cell_type": "code",
   "execution_count": 10,
   "metadata": {
    "ExecuteTime": {
     "end_time": "2019-03-30T09:47:34.305804Z",
     "start_time": "2019-03-30T09:47:34.297727Z"
    },
    "execution": {
     "iopub.execute_input": "2025-03-24T10:22:54.154395Z",
     "iopub.status.busy": "2025-03-24T10:22:54.154323Z",
     "iopub.status.idle": "2025-03-24T10:22:54.156868Z",
     "shell.execute_reply": "2025-03-24T10:22:54.156697Z",
     "shell.execute_reply.started": "2025-03-24T10:22:54.154388Z"
    }
   },
   "outputs": [
    {
     "data": {
      "text/latex": [
       "$\\displaystyle P( Cancer \\mid \\text{do}(Smoking)) = \\sum_{Tar}{P\\left(Tar\\mid Smoking\\right) \\cdot \\left(\\sum_{Smoking'}{P\\left(Cancer\\mid Smoking',Tar\\right) \\cdot P\\left(Smoking'\\right)}\\right)}$"
      ],
      "text/plain": [
       "<IPython.core.display.Math object>"
      ]
     },
     "metadata": {},
     "output_type": "display_data"
    },
    {
     "data": {
      "text/html": [
       "<table style=\"border:1px solid black;border-collapse: collapse;\">\n",
       "<tr style='border:1px solid black;color:black;background-color:#808080'>\n",
       "      <th colspan='2'><center>Cancer</center></th></tr>\n",
       "<tr><th style='border:1px solid black;border-bottom-style: double;color:black;background-color:#BBBBBB'>\n",
       "      <center>0</center></th><th style='border:1px solid black;border-bottom-style: double;color:black;background-color:#BBBBBB'>\n",
       "      <center>1</center></th></tr>\n",
       "<tr><td style='color:black;background-color:#e89564;text-align:right;padding: 3px;'>0.1774</td><td style='color:black;background-color:#95e864;text-align:right;padding: 3px;'>0.8226</td></tr>\n",
       "</table>"
      ],
      "text/plain": [
       "(pyagrum.Tensor@0x600000ccece0) \n",
       "  Cancer           |\n",
       "0        |1        |\n",
       "---------|---------|\n",
       " 0.1774  | 0.8226  |"
      ]
     },
     "execution_count": 10,
     "metadata": {},
     "output_type": "execute_result"
    }
   ],
   "source": [
    "display(Math(formula.toLatex()))\n",
    "adj"
   ]
  },
  {
   "cell_type": "markdown",
   "metadata": {},
   "source": [
    "  ## Last example from R "
   ]
  },
  {
   "cell_type": "code",
   "execution_count": 11,
   "metadata": {
    "ExecuteTime": {
     "end_time": "2019-03-30T09:47:36.642701Z",
     "start_time": "2019-03-30T09:47:34.308047Z"
    },
    "execution": {
     "iopub.execute_input": "2025-03-24T10:22:54.157414Z",
     "iopub.status.busy": "2025-03-24T10:22:54.157345Z",
     "iopub.status.idle": "2025-03-24T10:22:54.278629Z",
     "shell.execute_reply": "2025-03-24T10:22:54.278320Z",
     "shell.execute_reply.started": "2025-03-24T10:22:54.157407Z"
    }
   },
   "outputs": [
    {
     "data": {
      "image/svg+xml": [
       "<svg xmlns=\"http://www.w3.org/2000/svg\" xmlns:xlink=\"http://www.w3.org/1999/xlink\" width=\"129pt\" height=\"180pt\" viewBox=\"0.00 0.00 128.60 180.00\">\n",
       "<g id=\"graph0\" class=\"graph\" transform=\"scale(0.600801 0.600801) rotate(0) translate(4 295.6)\">\n",
       "<title>G</title>\n",
       "<!-- X&#45;Z2 -->\n",
       "<g id=\"node1\" class=\"node\">\n",
       "<title>X-Z2</title>\n",
       "<ellipse fill=\"#404040\" stroke=\"#4a4a4a\" cx=\"87.05\" cy=\"-289.8\" rx=\"1.8\" ry=\"1.8\"/>\n",
       "</g>\n",
       "<!-- z2 -->\n",
       "<g id=\"node5\" class=\"node\">\n",
       "<title>z2</title>\n",
       "<ellipse fill=\"#404040\" stroke=\"#4a4a4a\" cx=\"61.05\" cy=\"-234\" rx=\"27\" ry=\"18\"/>\n",
       "<text text-anchor=\"middle\" x=\"61.05\" y=\"-228.95\" font-family=\"Times,serif\" font-size=\"14.00\" fill=\"white\">z2</text>\n",
       "</g>\n",
       "<!-- X&#45;Z2&#45;&gt;z2 -->\n",
       "<g id=\"edge14\" class=\"edge\">\n",
       "<title>X-Z2-&gt;z2</title>\n",
       "<path fill=\"none\" stroke=\"#4a4a4a\" stroke-dasharray=\"5,2\" d=\"M86.6,-287.87C85,-284.58 79.46,-273.1 73.94,-261.68\"/>\n",
       "<polygon fill=\"#4a4a4a\" stroke=\"#4a4a4a\" points=\"77.15,-260.29 69.65,-252.81 70.85,-263.33 77.15,-260.29\"/>\n",
       "</g>\n",
       "<!-- x -->\n",
       "<g id=\"node6\" class=\"node\">\n",
       "<title>x</title>\n",
       "<ellipse fill=\"#404040\" stroke=\"#4a4a4a\" cx=\"107.05\" cy=\"-162\" rx=\"27\" ry=\"18\"/>\n",
       "<text text-anchor=\"middle\" x=\"107.05\" y=\"-156.95\" font-family=\"Times,serif\" font-size=\"14.00\" fill=\"white\">x</text>\n",
       "</g>\n",
       "<!-- X&#45;Z2&#45;&gt;x -->\n",
       "<g id=\"edge7\" class=\"edge\">\n",
       "<title>X-Z2-&gt;x</title>\n",
       "<path fill=\"none\" stroke=\"#4a4a4a\" stroke-dasharray=\"5,2\" d=\"M87.42,-287.67C88.89,-283.2 94.32,-266.31 97.05,-252 100.87,-231.99 103.39,-209.16 104.95,-191.63\"/>\n",
       "<polygon fill=\"#4a4a4a\" stroke=\"#4a4a4a\" points=\"108.44,-191.94 105.78,-181.69 101.46,-191.36 108.44,-191.94\"/>\n",
       "</g>\n",
       "<!-- X&#45;Z3 -->\n",
       "<g id=\"node2\" class=\"node\">\n",
       "<title>X-Z3</title>\n",
       "<ellipse fill=\"#404040\" stroke=\"#4a4a4a\" cx=\"162.05\" cy=\"-234\" rx=\"1.8\" ry=\"1.8\"/>\n",
       "</g>\n",
       "<!-- X&#45;Z3&#45;&gt;x -->\n",
       "<g id=\"edge6\" class=\"edge\">\n",
       "<title>X-Z3-&gt;x</title>\n",
       "<path fill=\"none\" stroke=\"#4a4a4a\" stroke-dasharray=\"5,2\" d=\"M161.27,-232.01C157.44,-227.14 140.25,-205.25 126.23,-187.42\"/>\n",
       "<polygon fill=\"#4a4a4a\" stroke=\"#4a4a4a\" points=\"129.14,-185.46 120.21,-179.76 123.64,-189.78 129.14,-185.46\"/>\n",
       "</g>\n",
       "<!-- z3 -->\n",
       "<g id=\"node9\" class=\"node\">\n",
       "<title>z3</title>\n",
       "<ellipse fill=\"#404040\" stroke=\"#4a4a4a\" cx=\"179.05\" cy=\"-162\" rx=\"27\" ry=\"18\"/>\n",
       "<text text-anchor=\"middle\" x=\"179.05\" y=\"-156.95\" font-family=\"Times,serif\" font-size=\"14.00\" fill=\"white\">z3</text>\n",
       "</g>\n",
       "<!-- X&#45;Z3&#45;&gt;z3 -->\n",
       "<g id=\"edge8\" class=\"edge\">\n",
       "<title>X-Z3-&gt;z3</title>\n",
       "<path fill=\"none\" stroke=\"#4a4a4a\" stroke-dasharray=\"5,2\" d=\"M162.34,-231.79C163.54,-226.86 168.16,-207.83 172.24,-191.03\"/>\n",
       "<polygon fill=\"#4a4a4a\" stroke=\"#4a4a4a\" points=\"175.61,-191.98 174.57,-181.43 168.81,-190.32 175.61,-191.98\"/>\n",
       "</g>\n",
       "<!-- X&#45;Y -->\n",
       "<g id=\"node3\" class=\"node\">\n",
       "<title>X-Y</title>\n",
       "<ellipse fill=\"#404040\" stroke=\"#4a4a4a\" cx=\"14.05\" cy=\"-234\" rx=\"1.8\" ry=\"1.8\"/>\n",
       "</g>\n",
       "<!-- X&#45;Y&#45;&gt;x -->\n",
       "<g id=\"edge3\" class=\"edge\">\n",
       "<title>X-Y-&gt;x</title>\n",
       "<path fill=\"none\" stroke=\"#4a4a4a\" stroke-dasharray=\"5,2\" d=\"M14.52,-231.98C15.85,-229.16 19.87,-221.17 25.05,-216 39.94,-201.11 59.69,-188.2 76.07,-178.84\"/>\n",
       "<polygon fill=\"#4a4a4a\" stroke=\"#4a4a4a\" points=\"77.37,-182.12 84.44,-174.22 73.99,-175.99 77.37,-182.12\"/>\n",
       "</g>\n",
       "<!-- y -->\n",
       "<g id=\"node8\" class=\"node\">\n",
       "<title>y</title>\n",
       "<ellipse fill=\"#404040\" stroke=\"#4a4a4a\" cx=\"41.05\" cy=\"-18\" rx=\"27\" ry=\"18\"/>\n",
       "<text text-anchor=\"middle\" x=\"41.05\" y=\"-12.95\" font-family=\"Times,serif\" font-size=\"14.00\" fill=\"white\">y</text>\n",
       "</g>\n",
       "<!-- X&#45;Y&#45;&gt;y -->\n",
       "<g id=\"edge9\" class=\"edge\">\n",
       "<title>X-Y-&gt;y</title>\n",
       "<path fill=\"none\" stroke=\"#4a4a4a\" stroke-dasharray=\"5,2\" d=\"M14.18,-231.71C15.37,-220.49 24.12,-138.39 33.05,-72 34.12,-64.04 35.37,-55.42 36.57,-47.49\"/>\n",
       "<polygon fill=\"#4a4a4a\" stroke=\"#4a4a4a\" points=\"40.02,-48.08 38.08,-37.66 33.1,-47.01 40.02,-48.08\"/>\n",
       "</g>\n",
       "<!-- Y&#45;Z2 -->\n",
       "<g id=\"node4\" class=\"node\">\n",
       "<title>Y-Z2</title>\n",
       "<ellipse fill=\"#404040\" stroke=\"#4a4a4a\" cx=\"34.05\" cy=\"-289.8\" rx=\"1.8\" ry=\"1.8\"/>\n",
       "</g>\n",
       "<!-- Y&#45;Z2&#45;&gt;z2 -->\n",
       "<g id=\"edge11\" class=\"edge\">\n",
       "<title>Y-Z2-&gt;z2</title>\n",
       "<path fill=\"none\" stroke=\"#4a4a4a\" stroke-dasharray=\"5,2\" d=\"M34.51,-287.87C36.17,-284.58 41.92,-273.1 47.66,-261.68\"/>\n",
       "<polygon fill=\"#4a4a4a\" stroke=\"#4a4a4a\" points=\"50.76,-263.3 52.12,-252.8 44.5,-260.16 50.76,-263.3\"/>\n",
       "</g>\n",
       "<!-- Y&#45;Z2&#45;&gt;y -->\n",
       "<g id=\"edge13\" class=\"edge\">\n",
       "<title>Y-Z2-&gt;y</title>\n",
       "<path fill=\"none\" stroke=\"#4a4a4a\" stroke-dasharray=\"5,2\" d=\"M33.02,-288.04C28.38,-284.57 9.46,-269.58 3.05,-252 -2.44,-236.97 1.83,-231.95 3.05,-216 7.95,-151.44 10.77,-135.15 25.05,-72 26.92,-63.72 29.41,-54.84 31.86,-46.76\"/>\n",
       "<polygon fill=\"#4a4a4a\" stroke=\"#4a4a4a\" points=\"35.12,-48.06 34.78,-37.47 28.44,-45.95 35.12,-48.06\"/>\n",
       "</g>\n",
       "<!-- z2&#45;&gt;x -->\n",
       "<g id=\"edge1\" class=\"edge\">\n",
       "<title>z2-&gt;x</title>\n",
       "<path fill=\"none\" stroke=\"#4a4a4a\" d=\"M70.65,-216.57C76.24,-208.06 83.25,-197.39 89.57,-187.77\"/>\n",
       "<path fill=\"none\" stroke=\"#4a4a4a\" d=\"M72.32,-217.67C77.91,-209.16 84.92,-198.49 91.24,-188.87\"/>\n",
       "<polygon fill=\"#4a4a4a\" stroke=\"#4a4a4a\" points=\"93.25,-190.37 95.82,-180.09 87.4,-186.52 93.25,-190.37\"/>\n",
       "</g>\n",
       "<!-- z1 -->\n",
       "<g id=\"node7\" class=\"node\">\n",
       "<title>z1</title>\n",
       "<ellipse fill=\"#404040\" stroke=\"#4a4a4a\" cx=\"69.05\" cy=\"-90\" rx=\"27\" ry=\"18\"/>\n",
       "<text text-anchor=\"middle\" x=\"69.05\" y=\"-84.95\" font-family=\"Times,serif\" font-size=\"14.00\" fill=\"white\">z1</text>\n",
       "</g>\n",
       "<!-- z2&#45;&gt;z1 -->\n",
       "<g id=\"edge12\" class=\"edge\">\n",
       "<title>z2-&gt;z1</title>\n",
       "<path fill=\"none\" stroke=\"#4a4a4a\" d=\"M61.03,-215.53C62.38,-191.56 64.83,-148.09 66.45,-119.36\"/>\n",
       "<path fill=\"none\" stroke=\"#4a4a4a\" d=\"M63.03,-215.64C64.38,-191.67 66.83,-148.2 68.44,-119.47\"/>\n",
       "<polygon fill=\"#4a4a4a\" stroke=\"#4a4a4a\" points=\"70.93,-119.8 68,-109.62 63.94,-119.41 70.93,-119.8\"/>\n",
       "</g>\n",
       "<!-- z2&#45;&gt;z3 -->\n",
       "<g id=\"edge4\" class=\"edge\">\n",
       "<title>z2-&gt;z3</title>\n",
       "<path fill=\"none\" stroke=\"#4a4a4a\" d=\"M80.29,-220.42C99.01,-209.32 127.37,-192.49 148.82,-179.77\"/>\n",
       "<path fill=\"none\" stroke=\"#4a4a4a\" d=\"M81.31,-222.14C100.03,-211.04 128.39,-194.21 149.84,-181.49\"/>\n",
       "<polygon fill=\"#4a4a4a\" stroke=\"#4a4a4a\" points=\"151.11,-183.64 157.93,-175.53 147.54,-177.62 151.11,-183.64\"/>\n",
       "</g>\n",
       "<!-- x&#45;&gt;z1 -->\n",
       "<g id=\"edge2\" class=\"edge\">\n",
       "<title>x-&gt;z1</title>\n",
       "<path fill=\"none\" stroke=\"#4a4a4a\" d=\"M97.35,-145.24C92.89,-137.03 87.37,-126.85 82.33,-117.57\"/>\n",
       "<path fill=\"none\" stroke=\"#4a4a4a\" d=\"M99.11,-144.29C94.65,-136.07 89.13,-125.9 84.09,-116.62\"/>\n",
       "<polygon fill=\"#4a4a4a\" stroke=\"#4a4a4a\" points=\"86.38,-115.6 78.53,-108.48 80.23,-118.94 86.38,-115.6\"/>\n",
       "</g>\n",
       "<!-- z1&#45;&gt;y -->\n",
       "<g id=\"edge10\" class=\"edge\">\n",
       "<title>z1-&gt;y</title>\n",
       "<path fill=\"none\" stroke=\"#4a4a4a\" d=\"M61.48,-72.78C58.34,-64.94 54.52,-55.37 50.97,-46.5\"/>\n",
       "<path fill=\"none\" stroke=\"#4a4a4a\" d=\"M63.34,-72.04C60.2,-64.19 56.37,-54.62 52.83,-45.76\"/>\n",
       "<polygon fill=\"#4a4a4a\" stroke=\"#4a4a4a\" points=\"55.16,-44.86 48.2,-36.88 48.66,-47.46 55.16,-44.86\"/>\n",
       "</g>\n",
       "<!-- z3&#45;&gt;y -->\n",
       "<g id=\"edge5\" class=\"edge\">\n",
       "<title>z3-&gt;y</title>\n",
       "<path fill=\"none\" stroke=\"#4a4a4a\" d=\"M166.75,-146.07C152.85,-127.71 128.3,-96.61 104.34,-72.71 92.8,-61.18 78.89,-49.44 67.02,-39.98\"/>\n",
       "<path fill=\"none\" stroke=\"#4a4a4a\" d=\"M168.34,-144.86C154.42,-126.47 129.87,-95.37 105.75,-71.29 94.09,-59.66 80.18,-47.91 68.27,-38.42\"/>\n",
       "<polygon fill=\"#4a4a4a\" stroke=\"#4a4a4a\" points=\"69.85,-36.48 59.83,-33.06 65.53,-41.99 69.85,-36.48\"/>\n",
       "</g>\n",
       "</g>\n",
       "</svg>"
      ],
      "text/plain": [
       "<IPython.core.display.SVG object>"
      ]
     },
     "metadata": {},
     "output_type": "display_data"
    }
   ],
   "source": [
    "m = gum.fastBN(\"z2->x->z1->y;z2->z1;z2->z3->y\")\n",
    "\n",
    "m.cpt(\"z2\") [:] = [0.5, 0.5]\n",
    "m.cpt(\"x\") [:] = [[0.4,0.6], #z2=0\n",
    "                  [0.4,0.6]] #z2=1\n",
    "m.cpt(\"z3\") [:] = [[0.3,0.7], #z2=0\n",
    "                   [0.3,0.7]] #z2=1\n",
    "m.cpt(\"z1\")[{\"z2\":0, \"x\":0}]= [0.2, 0.8]\n",
    "m.cpt(\"z1\")[{\"z2\":0, \"x\":1}]= [0.25, 0.75]\n",
    "m.cpt(\"z1\")[{\"z2\":1, \"x\":0}]= [0.1, 0.9]\n",
    "m.cpt(\"z1\")[{\"z2\":1, \"x\":1}]= [0.15, 0.85]\n",
    "\n",
    "m.cpt(\"y\")[{\"z1\":0,\"z3\":0}]= [0.5,0.5]\n",
    "m.cpt(\"y\")[{\"z1\":0,\"z3\":1}]= [0.45,0.55]\n",
    "m.cpt(\"y\")[{\"z1\":1,\"z3\":0}]= [0.4,0.6]\n",
    "m.cpt(\"y\")[{\"z1\":1,\"z3\":1}]= [0.35,0.65]\n",
    "\n",
    "\n",
    "d = csl.CausalModel(m, [(\"X-Z2\",[\"x\",\"z2\"]), \n",
    "                        (\"X-Z3\",[\"x\",\"z3\"]), \n",
    "                        (\"X-Y\",[\"x\",\"y\"]), \n",
    "                        (\"Y-Z2\",[\"y\",\"z2\"])],\n",
    "                    True)\n",
    "\n",
    "cslnb.showCausalModel(d)"
   ]
  },
  {
   "cell_type": "code",
   "execution_count": 12,
   "metadata": {
    "ExecuteTime": {
     "end_time": "2019-03-30T09:47:36.674695Z",
     "start_time": "2019-03-30T09:47:36.647288Z"
    },
    "execution": {
     "iopub.execute_input": "2025-03-24T10:22:54.279186Z",
     "iopub.status.busy": "2025-03-24T10:22:54.279091Z",
     "iopub.status.idle": "2025-03-24T10:22:54.286943Z",
     "shell.execute_reply": "2025-03-24T10:22:54.286704Z",
     "shell.execute_reply.started": "2025-03-24T10:22:54.279176Z"
    }
   },
   "outputs": [
    {
     "name": "stdout",
     "output_type": "stream",
     "text": [
      "Do-calculus computations\n"
     ]
    },
    {
     "data": {
      "text/latex": [
       "$\\displaystyle P( y,z2,z1,z3 \\mid \\text{do}(x)) = P\\left(z3\\mid z2\\right) \\cdot P\\left(z1\\mid x,z2\\right) \\cdot P\\left(z2\\right) \\cdot  \\frac {\\sum_{x'}{P\\left(z2\\right) \\cdot P\\left(y\\mid x',z1,z2,z3\\right) \\cdot P\\left(x'\\mid z2\\right) \\cdot P\\left(z3\\mid x',z2\\right)}}{\\sum_{x',y'}{P\\left(z2\\right) \\cdot P\\left(y'\\mid x',z1,z2,z3\\right) \\cdot P\\left(x'\\mid z2\\right) \\cdot P\\left(z3\\mid x',z2\\right)}}$"
      ],
      "text/plain": [
       "<IPython.core.display.Math object>"
      ]
     },
     "metadata": {},
     "output_type": "display_data"
    }
   ],
   "source": [
    "try:\n",
    "    formula,result,msg = csl.causalImpact(d,on={\"y\",\"z2\",\"z1\",\"z3\"},doing={\"x\"})\n",
    "except csl.HedgeException as h:\n",
    "    print (h.message)\n",
    "    \n",
    "print(msg)\n",
    "display(Math(formula.toLatex()))"
   ]
  },
  {
   "cell_type": "code",
   "execution_count": 13,
   "metadata": {
    "ExecuteTime": {
     "end_time": "2019-03-30T09:47:36.683790Z",
     "start_time": "2019-03-30T09:47:36.676831Z"
    },
    "execution": {
     "iopub.execute_input": "2025-03-24T10:22:54.287433Z",
     "iopub.status.busy": "2025-03-24T10:22:54.287353Z",
     "iopub.status.idle": "2025-03-24T10:22:54.289459Z",
     "shell.execute_reply": "2025-03-24T10:22:54.289234Z",
     "shell.execute_reply.started": "2025-03-24T10:22:54.287425Z"
    }
   },
   "outputs": [],
   "source": [
    "# computation for this formula directly in pyAgrum\n",
    "f1=m.cpt(\"x\")*m.cpt(\"z2\")*m.cpt(\"z3\")*m.cpt(\"y\")\n",
    "f2=f1.sumOut([\"x\"])\n",
    "f3=f1.sumOut([\"x\",\"y\"])\n",
    "f4=f2/f3\n",
    "pyResult=m.cpt(\"z3\")*m.cpt(\"z1\")*m.cpt(\"z2\")*f4"
   ]
  },
  {
   "cell_type": "code",
   "execution_count": 14,
   "metadata": {
    "ExecuteTime": {
     "end_time": "2019-03-30T09:47:36.694555Z",
     "start_time": "2019-03-30T09:47:36.685828Z"
    },
    "execution": {
     "iopub.execute_input": "2025-03-24T10:22:54.289970Z",
     "iopub.status.busy": "2025-03-24T10:22:54.289896Z",
     "iopub.status.idle": "2025-03-24T10:22:54.292676Z",
     "shell.execute_reply": "2025-03-24T10:22:54.292477Z",
     "shell.execute_reply.started": "2025-03-24T10:22:54.289962Z"
    }
   },
   "outputs": [
    {
     "name": "stdout",
     "output_type": "stream",
     "text": [
      "According to [ref], the result should be :\n"
     ]
    },
    {
     "data": {
      "text/latex": [
       "$\\displaystyle P\\left(z1\\mid x,z2\\right) \\cdot \\left(\\sum_{x}{P\\left(y,z3\\mid z1,z2\\right) \\cdot P\\left(x,z2\\right)}\\right)$"
      ],
      "text/plain": [
       "<IPython.core.display.Math object>"
      ]
     },
     "metadata": {},
     "output_type": "display_data"
    }
   ],
   "source": [
    "# computation for this formula directly by creating the causal AST\n",
    "a = csl.ASTposteriorProba(m,{\"z1\"},{\"x\",\"z2\"})\n",
    "b= csl.ASTposteriorProba(m,{\"y\",\"z3\"},{\"x\",\"z1\",\"z2\"})\n",
    "c = csl.ASTjointProba([\"x\",\"z2\"])\n",
    "correct = csl.ASTmult(a,csl.ASTsum([\"x\"],csl.ASTmult(b,c)))\n",
    "\n",
    "print(\"According to [ref], the result should be :\")\n",
    "display(Math(correct.toLatex()))"
   ]
  },
  {
   "cell_type": "code",
   "execution_count": 15,
   "metadata": {
    "ExecuteTime": {
     "end_time": "2019-03-30T09:47:36.704823Z",
     "start_time": "2019-03-30T09:47:36.697245Z"
    },
    "execution": {
     "iopub.execute_input": "2025-03-24T10:22:54.293059Z",
     "iopub.status.busy": "2025-03-24T10:22:54.292990Z",
     "iopub.status.idle": "2025-03-24T10:22:54.296542Z",
     "shell.execute_reply": "2025-03-24T10:22:54.296329Z",
     "shell.execute_reply.started": "2025-03-24T10:22:54.293051Z"
    }
   },
   "outputs": [],
   "source": [
    "# computation for that formula\n",
    "ie=gum.LazyPropagation(m)\n",
    "refResult=(ie.evidenceJointImpact([\"y\",\"z3\"],[\"x\",\"z1\",\"z2\"])*\n",
    "     ie.evidenceJointImpact([\"x\",\"z2\"],[])\n",
    "    ).sumOut([\"x\"])* m.cpt(\"z1\")\n"
   ]
  },
  {
   "cell_type": "code",
   "execution_count": 16,
   "metadata": {
    "ExecuteTime": {
     "end_time": "2019-03-30T09:47:36.712720Z",
     "start_time": "2019-03-30T09:47:36.707153Z"
    },
    "execution": {
     "iopub.execute_input": "2025-03-24T10:22:54.297046Z",
     "iopub.status.busy": "2025-03-24T10:22:54.296923Z",
     "iopub.status.idle": "2025-03-24T10:22:54.298821Z",
     "shell.execute_reply": "2025-03-24T10:22:54.298577Z",
     "shell.execute_reply.started": "2025-03-24T10:22:54.297040Z"
    }
   },
   "outputs": [
    {
     "name": "stdout",
     "output_type": "stream",
     "text": [
      "Maximum error between these 3 versions : 5.551115123125783e-17\n"
     ]
    }
   ],
   "source": [
    "print(\"Maximum error between these 3 versions : {}\".format(max((refResult-pyResult).abs().max(),\n",
    "                                                               (refResult-result).abs().max(),\n",
    "                                                               (pyResult-result).new_abs().max())))"
   ]
  },
  {
   "cell_type": "markdown",
   "metadata": {},
   "source": [
    "## Unidentifiabilty\n"
   ]
  },
  {
   "cell_type": "code",
   "execution_count": 17,
   "metadata": {
    "ExecuteTime": {
     "end_time": "2019-03-30T09:47:38.846042Z",
     "start_time": "2019-03-30T09:47:36.715078Z"
    },
    "execution": {
     "iopub.execute_input": "2025-03-24T10:22:54.299348Z",
     "iopub.status.busy": "2025-03-24T10:22:54.299249Z",
     "iopub.status.idle": "2025-03-24T10:22:54.461559Z",
     "shell.execute_reply": "2025-03-24T10:22:54.461248Z",
     "shell.execute_reply.started": "2025-03-24T10:22:54.299341Z"
    }
   },
   "outputs": [
    {
     "data": {
      "image/svg+xml": [
       "<svg xmlns=\"http://www.w3.org/2000/svg\" xmlns:xlink=\"http://www.w3.org/1999/xlink\" width=\"93pt\" height=\"180pt\" viewBox=\"0.00 0.00 93.00 180.00\">\n",
       "<g id=\"graph0\" class=\"graph\" transform=\"scale(0.600801 0.600801) rotate(0) translate(4 295.6)\">\n",
       "<title>G</title>\n",
       "<!-- Z1−X -->\n",
       "<g id=\"node1\" class=\"node\">\n",
       "<title>Z1−X</title>\n",
       "<ellipse fill=\"#404040\" stroke=\"#4a4a4a\" cx=\"88\" cy=\"-289.8\" rx=\"1.8\" ry=\"1.8\"/>\n",
       "</g>\n",
       "<!-- z1 -->\n",
       "<g id=\"node5\" class=\"node\">\n",
       "<title>z1</title>\n",
       "<ellipse fill=\"#404040\" stroke=\"#4a4a4a\" cx=\"70\" cy=\"-234\" rx=\"27\" ry=\"18\"/>\n",
       "<text text-anchor=\"middle\" x=\"70\" y=\"-228.95\" font-family=\"Times,serif\" font-size=\"14.00\" fill=\"white\">z1</text>\n",
       "</g>\n",
       "<!-- Z1−X&#45;&gt;z1 -->\n",
       "<g id=\"edge5\" class=\"edge\">\n",
       "<title>Z1−X-&gt;z1</title>\n",
       "<path fill=\"none\" stroke=\"#4a4a4a\" stroke-dasharray=\"5,2\" d=\"M87.69,-287.87C86.62,-284.68 83,-273.85 79.31,-262.82\"/>\n",
       "<polygon fill=\"#4a4a4a\" stroke=\"#4a4a4a\" points=\"82.66,-261.79 76.16,-253.42 76.02,-264.01 82.66,-261.79\"/>\n",
       "</g>\n",
       "<!-- x -->\n",
       "<g id=\"node6\" class=\"node\">\n",
       "<title>x</title>\n",
       "<ellipse fill=\"#404040\" stroke=\"#4a4a4a\" cx=\"82\" cy=\"-162\" rx=\"27\" ry=\"18\"/>\n",
       "<text text-anchor=\"middle\" x=\"82\" y=\"-156.95\" font-family=\"Times,serif\" font-size=\"14.00\" fill=\"white\">x</text>\n",
       "</g>\n",
       "<!-- Z1−X&#45;&gt;x -->\n",
       "<g id=\"edge11\" class=\"edge\">\n",
       "<title>Z1−X-&gt;x</title>\n",
       "<path fill=\"none\" stroke=\"#4a4a4a\" stroke-dasharray=\"5,2\" d=\"M88.76,-287.73C91.71,-283.47 102.47,-267.24 106,-252 109.61,-236.41 109.38,-231.64 106,-216 104.04,-206.94 100.41,-197.56 96.54,-189.26\"/>\n",
       "<polygon fill=\"#4a4a4a\" stroke=\"#4a4a4a\" points=\"99.74,-187.82 92.13,-180.44 93.47,-190.95 99.74,-187.82\"/>\n",
       "</g>\n",
       "<!-- Z1&#45;Y -->\n",
       "<g id=\"node2\" class=\"node\">\n",
       "<title>Z1-Y</title>\n",
       "<ellipse fill=\"#404040\" stroke=\"#4a4a4a\" cx=\"39\" cy=\"-289.8\" rx=\"1.8\" ry=\"1.8\"/>\n",
       "</g>\n",
       "<!-- Z1&#45;Y&#45;&gt;z1 -->\n",
       "<g id=\"edge8\" class=\"edge\">\n",
       "<title>Z1-Y-&gt;z1</title>\n",
       "<path fill=\"none\" stroke=\"#4a4a4a\" stroke-dasharray=\"5,2\" d=\"M39.54,-287.87C41.47,-284.52 48.27,-272.72 54.96,-261.11\"/>\n",
       "<polygon fill=\"#4a4a4a\" stroke=\"#4a4a4a\" points=\"57.96,-262.9 59.92,-252.49 51.9,-259.4 57.96,-262.9\"/>\n",
       "</g>\n",
       "<!-- y -->\n",
       "<g id=\"node8\" class=\"node\">\n",
       "<title>y</title>\n",
       "<ellipse fill=\"#404040\" stroke=\"#4a4a4a\" cx=\"27\" cy=\"-18\" rx=\"27\" ry=\"18\"/>\n",
       "<text text-anchor=\"middle\" x=\"27\" y=\"-12.95\" font-family=\"Times,serif\" font-size=\"14.00\" fill=\"white\">y</text>\n",
       "</g>\n",
       "<!-- Z1&#45;Y&#45;&gt;y -->\n",
       "<g id=\"edge10\" class=\"edge\">\n",
       "<title>Z1-Y-&gt;y</title>\n",
       "<path fill=\"none\" stroke=\"#4a4a4a\" stroke-dasharray=\"5,2\" d=\"M37.87,-287.8C33.47,-283.84 17.43,-268.57 12,-252 -11.28,-180.92 6.79,-91.26 18.7,-46.73\"/>\n",
       "<polygon fill=\"#4a4a4a\" stroke=\"#4a4a4a\" points=\"21.99,-47.95 21.3,-37.38 15.25,-46.07 21.99,-47.95\"/>\n",
       "</g>\n",
       "<!-- Z1&#45;Z1 -->\n",
       "<g id=\"node3\" class=\"node\">\n",
       "<title>Z1-Z1</title>\n",
       "<ellipse fill=\"#404040\" stroke=\"#4a4a4a\" cx=\"145\" cy=\"-289.8\" rx=\"1.8\" ry=\"1.8\"/>\n",
       "</g>\n",
       "<!-- Z1&#45;Z1&#45;&gt;z1 -->\n",
       "<g id=\"edge9\" class=\"edge\">\n",
       "<title>Z1-Z1-&gt;z1</title>\n",
       "<path fill=\"none\" stroke=\"#4a4a4a\" stroke-dasharray=\"5,2\" d=\"M143.94,-288.04C138.79,-284.35 115.88,-267.91 96.9,-254.3\"/>\n",
       "<polygon fill=\"#4a4a4a\" stroke=\"#4a4a4a\" points=\"99.12,-251.58 88.96,-248.6 95.04,-257.27 99.12,-251.58\"/>\n",
       "</g>\n",
       "<!-- z2 -->\n",
       "<g id=\"node7\" class=\"node\">\n",
       "<title>z2</title>\n",
       "<ellipse fill=\"#404040\" stroke=\"#4a4a4a\" cx=\"82\" cy=\"-90\" rx=\"27\" ry=\"18\"/>\n",
       "<text text-anchor=\"middle\" x=\"82\" y=\"-84.95\" font-family=\"Times,serif\" font-size=\"14.00\" fill=\"white\">z2</text>\n",
       "</g>\n",
       "<!-- Z1&#45;Z1&#45;&gt;z2 -->\n",
       "<g id=\"edge2\" class=\"edge\">\n",
       "<title>Z1-Z1-&gt;z2</title>\n",
       "<path fill=\"none\" stroke=\"#4a4a4a\" stroke-dasharray=\"5,2\" d=\"M144.96,-287.59C144.59,-277.07 141.17,-200.28 118,-144 113.88,-133.99 107.68,-123.92 101.59,-115.3\"/>\n",
       "<polygon fill=\"#4a4a4a\" stroke=\"#4a4a4a\" points=\"104.54,-113.4 95.77,-107.46 98.92,-117.58 104.54,-113.4\"/>\n",
       "</g>\n",
       "<!-- X−Y -->\n",
       "<g id=\"node4\" class=\"node\">\n",
       "<title>X−Y</title>\n",
       "<ellipse fill=\"#404040\" stroke=\"#4a4a4a\" cx=\"23\" cy=\"-234\" rx=\"1.8\" ry=\"1.8\"/>\n",
       "</g>\n",
       "<!-- X−Y&#45;&gt;x -->\n",
       "<g id=\"edge4\" class=\"edge\">\n",
       "<title>X−Y-&gt;x</title>\n",
       "<path fill=\"none\" stroke=\"#4a4a4a\" stroke-dasharray=\"5,2\" d=\"M23.55,-232.04C25.07,-229.4 29.55,-221.8 34,-216 42.02,-205.56 51.64,-194.67 60.15,-185.49\"/>\n",
       "<polygon fill=\"#4a4a4a\" stroke=\"#4a4a4a\" points=\"62.53,-188.07 66.85,-178.4 57.44,-183.27 62.53,-188.07\"/>\n",
       "</g>\n",
       "<!-- X−Y&#45;&gt;y -->\n",
       "<g id=\"edge6\" class=\"edge\">\n",
       "<title>X−Y-&gt;y</title>\n",
       "<path fill=\"none\" stroke=\"#4a4a4a\" stroke-dasharray=\"5,2\" d=\"M23.02,-232.05C23.24,-220.3 25.43,-103.11 26.46,-47.72\"/>\n",
       "<polygon fill=\"#4a4a4a\" stroke=\"#4a4a4a\" points=\"29.96,-47.86 26.65,-37.8 22.96,-47.73 29.96,-47.86\"/>\n",
       "</g>\n",
       "<!-- z1&#45;&gt;x -->\n",
       "<g id=\"edge1\" class=\"edge\">\n",
       "<title>z1-&gt;x</title>\n",
       "<path fill=\"none\" stroke=\"#4a4a4a\" d=\"M71.98,-215.53C73.24,-208.15 74.75,-199.36 76.17,-191.08\"/>\n",
       "<path fill=\"none\" stroke=\"#4a4a4a\" d=\"M73.95,-215.87C75.22,-208.49 76.72,-199.69 78.14,-191.42\"/>\n",
       "<polygon fill=\"#4a4a4a\" stroke=\"#4a4a4a\" points=\"80.57,-192.04 78.81,-181.6 73.67,-190.86 80.57,-192.04\"/>\n",
       "</g>\n",
       "<!-- x&#45;&gt;z2 -->\n",
       "<g id=\"edge3\" class=\"edge\">\n",
       "<title>x-&gt;z2</title>\n",
       "<path fill=\"none\" stroke=\"#4a4a4a\" d=\"M81,-143.7C81,-136.41 81,-127.73 81,-119.54\"/>\n",
       "<path fill=\"none\" stroke=\"#4a4a4a\" d=\"M83,-143.7C83,-136.41 83,-127.73 83,-119.54\"/>\n",
       "<polygon fill=\"#4a4a4a\" stroke=\"#4a4a4a\" points=\"85.5,-119.62 82,-109.62 78.5,-119.62 85.5,-119.62\"/>\n",
       "</g>\n",
       "<!-- z2&#45;&gt;y -->\n",
       "<g id=\"edge7\" class=\"edge\">\n",
       "<title>z2-&gt;y</title>\n",
       "<path fill=\"none\" stroke=\"#4a4a4a\" d=\"M69.01,-74.08C62.1,-65.29 53.31,-54.1 45.49,-44.15\"/>\n",
       "<path fill=\"none\" stroke=\"#4a4a4a\" d=\"M70.58,-72.85C63.67,-64.06 54.88,-52.86 47.06,-42.91\"/>\n",
       "<polygon fill=\"#4a4a4a\" stroke=\"#4a4a4a\" points=\"49.04,-41.38 40.11,-35.68 43.53,-45.71 49.04,-41.38\"/>\n",
       "</g>\n",
       "</g>\n",
       "</svg>"
      ],
      "text/plain": [
       "<IPython.core.display.SVG object>"
      ]
     },
     "metadata": {},
     "output_type": "display_data"
    }
   ],
   "source": [
    "m1 = gum.fastBN(\"z1->x->z2->y\")\n",
    "\n",
    "cdg = csl.CausalModel(m1, [(\"Z1−X\",[\"z1\",\"x\"]),\n",
    "                           (\"Z1-Y\",[\"z1\",\"y\"]),\n",
    "                           (\"Z1-Z1\",[\"z1\",\"z2\"]), \n",
    "                           (\"X−Y\",[\"x\",\"y\"])\n",
    "                          ], True )\n",
    "cslnb.showCausalModel(cdg)"
   ]
  },
  {
   "cell_type": "code",
   "execution_count": 18,
   "metadata": {
    "ExecuteTime": {
     "end_time": "2019-03-30T09:47:40.741542Z",
     "start_time": "2019-03-30T09:47:38.848489Z"
    },
    "execution": {
     "iopub.execute_input": "2025-03-24T10:22:54.462101Z",
     "iopub.status.busy": "2025-03-24T10:22:54.462008Z",
     "iopub.status.idle": "2025-03-24T10:22:54.571117Z",
     "shell.execute_reply": "2025-03-24T10:22:54.570816Z",
     "shell.execute_reply.started": "2025-03-24T10:22:54.462092Z"
    }
   },
   "outputs": [
    {
     "data": {
      "text/html": [
       "\n",
       "      <style>\n",
       "      .floating-box {\n",
       "      display: inline-block;\n",
       "      margin: 7px;\n",
       "      padding : 3px;\n",
       "      border: 0px solid transparent;  \n",
       "      valign:middle;\n",
       "      background-color: transparent;\n",
       "      }\n",
       "      </style>\n",
       "      <div class=\"floating-box\"><svg xmlns=\"http://www.w3.org/2000/svg\" xmlns:xlink=\"http://www.w3.org/1999/xlink\" width=\"93pt\" height=\"180pt\" viewBox=\"0.00 0.00 93.00 180.00\">\n",
       "<g id=\"graph0\" class=\"graph\" transform=\"scale(0.600801 0.600801) rotate(0) translate(4 295.6)\">\n",
       "<title>G</title>\n",
       "<!-- Z1−X -->\n",
       "<g id=\"node1\" class=\"node\">\n",
       "<title>Z1−X</title>\n",
       "<ellipse fill=\"#404040\" stroke=\"#4a4a4a\" cx=\"88\" cy=\"-289.8\" rx=\"1.8\" ry=\"1.8\"/>\n",
       "</g>\n",
       "<!-- z1 -->\n",
       "<g id=\"node5\" class=\"node\">\n",
       "<title>z1</title>\n",
       "<ellipse fill=\"#404040\" stroke=\"#4a4a4a\" cx=\"70\" cy=\"-234\" rx=\"27\" ry=\"18\"/>\n",
       "<text text-anchor=\"middle\" x=\"70\" y=\"-228.95\" font-family=\"Times,serif\" font-size=\"14.00\" fill=\"white\">z1</text>\n",
       "</g>\n",
       "<!-- Z1−X&#45;&gt;z1 -->\n",
       "<g id=\"edge5\" class=\"edge\">\n",
       "<title>Z1−X-&gt;z1</title>\n",
       "<path fill=\"none\" stroke=\"#4a4a4a\" stroke-dasharray=\"5,2\" d=\"M87.69,-287.87C86.62,-284.68 83,-273.85 79.31,-262.82\"/>\n",
       "<polygon fill=\"#4a4a4a\" stroke=\"#4a4a4a\" points=\"82.66,-261.79 76.16,-253.42 76.02,-264.01 82.66,-261.79\"/>\n",
       "</g>\n",
       "<!-- x -->\n",
       "<g id=\"node6\" class=\"node\">\n",
       "<title>x</title>\n",
       "<ellipse fill=\"#404040\" stroke=\"#4a4a4a\" cx=\"82\" cy=\"-162\" rx=\"27\" ry=\"18\"/>\n",
       "<text text-anchor=\"middle\" x=\"82\" y=\"-156.95\" font-family=\"Times,serif\" font-size=\"14.00\" fill=\"white\">x</text>\n",
       "</g>\n",
       "<!-- Z1−X&#45;&gt;x -->\n",
       "<g id=\"edge11\" class=\"edge\">\n",
       "<title>Z1−X-&gt;x</title>\n",
       "<path fill=\"none\" stroke=\"#4a4a4a\" stroke-dasharray=\"5,2\" d=\"M88.76,-287.73C91.71,-283.47 102.47,-267.24 106,-252 109.61,-236.41 109.38,-231.64 106,-216 104.04,-206.94 100.41,-197.56 96.54,-189.26\"/>\n",
       "<polygon fill=\"#4a4a4a\" stroke=\"#4a4a4a\" points=\"99.74,-187.82 92.13,-180.44 93.47,-190.95 99.74,-187.82\"/>\n",
       "</g>\n",
       "<!-- Z1&#45;Y -->\n",
       "<g id=\"node2\" class=\"node\">\n",
       "<title>Z1-Y</title>\n",
       "<ellipse fill=\"#404040\" stroke=\"#4a4a4a\" cx=\"39\" cy=\"-289.8\" rx=\"1.8\" ry=\"1.8\"/>\n",
       "</g>\n",
       "<!-- Z1&#45;Y&#45;&gt;z1 -->\n",
       "<g id=\"edge8\" class=\"edge\">\n",
       "<title>Z1-Y-&gt;z1</title>\n",
       "<path fill=\"none\" stroke=\"#4a4a4a\" stroke-dasharray=\"5,2\" d=\"M39.54,-287.87C41.47,-284.52 48.27,-272.72 54.96,-261.11\"/>\n",
       "<polygon fill=\"#4a4a4a\" stroke=\"#4a4a4a\" points=\"57.96,-262.9 59.92,-252.49 51.9,-259.4 57.96,-262.9\"/>\n",
       "</g>\n",
       "<!-- y -->\n",
       "<g id=\"node8\" class=\"node\">\n",
       "<title>y</title>\n",
       "<ellipse fill=\"#404040\" stroke=\"#4a4a4a\" cx=\"27\" cy=\"-18\" rx=\"27\" ry=\"18\"/>\n",
       "<text text-anchor=\"middle\" x=\"27\" y=\"-12.95\" font-family=\"Times,serif\" font-size=\"14.00\" fill=\"white\">y</text>\n",
       "</g>\n",
       "<!-- Z1&#45;Y&#45;&gt;y -->\n",
       "<g id=\"edge10\" class=\"edge\">\n",
       "<title>Z1-Y-&gt;y</title>\n",
       "<path fill=\"none\" stroke=\"#4a4a4a\" stroke-dasharray=\"5,2\" d=\"M37.87,-287.8C33.47,-283.84 17.43,-268.57 12,-252 -11.28,-180.92 6.79,-91.26 18.7,-46.73\"/>\n",
       "<polygon fill=\"#4a4a4a\" stroke=\"#4a4a4a\" points=\"21.99,-47.95 21.3,-37.38 15.25,-46.07 21.99,-47.95\"/>\n",
       "</g>\n",
       "<!-- Z1&#45;Z1 -->\n",
       "<g id=\"node3\" class=\"node\">\n",
       "<title>Z1-Z1</title>\n",
       "<ellipse fill=\"#404040\" stroke=\"#4a4a4a\" cx=\"145\" cy=\"-289.8\" rx=\"1.8\" ry=\"1.8\"/>\n",
       "</g>\n",
       "<!-- Z1&#45;Z1&#45;&gt;z1 -->\n",
       "<g id=\"edge9\" class=\"edge\">\n",
       "<title>Z1-Z1-&gt;z1</title>\n",
       "<path fill=\"none\" stroke=\"#4a4a4a\" stroke-dasharray=\"5,2\" d=\"M143.94,-288.04C138.79,-284.35 115.88,-267.91 96.9,-254.3\"/>\n",
       "<polygon fill=\"#4a4a4a\" stroke=\"#4a4a4a\" points=\"99.12,-251.58 88.96,-248.6 95.04,-257.27 99.12,-251.58\"/>\n",
       "</g>\n",
       "<!-- z2 -->\n",
       "<g id=\"node7\" class=\"node\">\n",
       "<title>z2</title>\n",
       "<ellipse fill=\"#404040\" stroke=\"#4a4a4a\" cx=\"82\" cy=\"-90\" rx=\"27\" ry=\"18\"/>\n",
       "<text text-anchor=\"middle\" x=\"82\" y=\"-84.95\" font-family=\"Times,serif\" font-size=\"14.00\" fill=\"white\">z2</text>\n",
       "</g>\n",
       "<!-- Z1&#45;Z1&#45;&gt;z2 -->\n",
       "<g id=\"edge2\" class=\"edge\">\n",
       "<title>Z1-Z1-&gt;z2</title>\n",
       "<path fill=\"none\" stroke=\"#4a4a4a\" stroke-dasharray=\"5,2\" d=\"M144.96,-287.59C144.59,-277.07 141.17,-200.28 118,-144 113.88,-133.99 107.68,-123.92 101.59,-115.3\"/>\n",
       "<polygon fill=\"#4a4a4a\" stroke=\"#4a4a4a\" points=\"104.54,-113.4 95.77,-107.46 98.92,-117.58 104.54,-113.4\"/>\n",
       "</g>\n",
       "<!-- X−Y -->\n",
       "<g id=\"node4\" class=\"node\">\n",
       "<title>X−Y</title>\n",
       "<ellipse fill=\"#404040\" stroke=\"#4a4a4a\" cx=\"23\" cy=\"-234\" rx=\"1.8\" ry=\"1.8\"/>\n",
       "</g>\n",
       "<!-- X−Y&#45;&gt;x -->\n",
       "<g id=\"edge4\" class=\"edge\">\n",
       "<title>X−Y-&gt;x</title>\n",
       "<path fill=\"none\" stroke=\"#4a4a4a\" stroke-dasharray=\"5,2\" d=\"M23.55,-232.04C25.07,-229.4 29.55,-221.8 34,-216 42.02,-205.56 51.64,-194.67 60.15,-185.49\"/>\n",
       "<polygon fill=\"#4a4a4a\" stroke=\"#4a4a4a\" points=\"62.53,-188.07 66.85,-178.4 57.44,-183.27 62.53,-188.07\"/>\n",
       "</g>\n",
       "<!-- X−Y&#45;&gt;y -->\n",
       "<g id=\"edge6\" class=\"edge\">\n",
       "<title>X−Y-&gt;y</title>\n",
       "<path fill=\"none\" stroke=\"#4a4a4a\" stroke-dasharray=\"5,2\" d=\"M23.02,-232.05C23.24,-220.3 25.43,-103.11 26.46,-47.72\"/>\n",
       "<polygon fill=\"#4a4a4a\" stroke=\"#4a4a4a\" points=\"29.96,-47.86 26.65,-37.8 22.96,-47.73 29.96,-47.86\"/>\n",
       "</g>\n",
       "<!-- z1&#45;&gt;x -->\n",
       "<g id=\"edge1\" class=\"edge\">\n",
       "<title>z1-&gt;x</title>\n",
       "<path fill=\"none\" stroke=\"#4a4a4a\" d=\"M71.98,-215.53C73.24,-208.15 74.75,-199.36 76.17,-191.08\"/>\n",
       "<path fill=\"none\" stroke=\"#4a4a4a\" d=\"M73.95,-215.87C75.22,-208.49 76.72,-199.69 78.14,-191.42\"/>\n",
       "<polygon fill=\"#4a4a4a\" stroke=\"#4a4a4a\" points=\"80.57,-192.04 78.81,-181.6 73.67,-190.86 80.57,-192.04\"/>\n",
       "</g>\n",
       "<!-- x&#45;&gt;z2 -->\n",
       "<g id=\"edge3\" class=\"edge\">\n",
       "<title>x-&gt;z2</title>\n",
       "<path fill=\"none\" stroke=\"#4a4a4a\" d=\"M81,-143.7C81,-136.41 81,-127.73 81,-119.54\"/>\n",
       "<path fill=\"none\" stroke=\"#4a4a4a\" d=\"M83,-143.7C83,-136.41 83,-127.73 83,-119.54\"/>\n",
       "<polygon fill=\"#4a4a4a\" stroke=\"#4a4a4a\" points=\"85.5,-119.62 82,-109.62 78.5,-119.62 85.5,-119.62\"/>\n",
       "</g>\n",
       "<!-- z2&#45;&gt;y -->\n",
       "<g id=\"edge7\" class=\"edge\">\n",
       "<title>z2-&gt;y</title>\n",
       "<path fill=\"none\" stroke=\"#4a4a4a\" d=\"M69.01,-74.08C62.1,-65.29 53.31,-54.1 45.49,-44.15\"/>\n",
       "<path fill=\"none\" stroke=\"#4a4a4a\" d=\"M70.58,-72.85C63.67,-64.06 54.88,-52.86 47.06,-42.91\"/>\n",
       "<polygon fill=\"#4a4a4a\" stroke=\"#4a4a4a\" points=\"49.04,-41.38 40.11,-35.68 43.53,-45.71 49.04,-41.38\"/>\n",
       "</g>\n",
       "</g>\n",
       "</svg><br><center><small><em>Causal Model</em></small></center></div><div class=\"floating-box\">Hedge Error: G={'z2', 'x', 'z1'}, G[S]={'z2'}<br><center><small><em>Impossible</em></small></center></div><div class=\"floating-box\">No result<br><center><small><em>Impact</em></small></center></div>"
      ],
      "text/plain": [
       "<IPython.core.display.HTML object>"
      ]
     },
     "metadata": {},
     "output_type": "display_data"
    }
   ],
   "source": [
    "err = cslnb.showCausalImpact(cdg,\"y\",\"x\",values={\"x\":0})\n"
   ]
  },
  {
   "cell_type": "markdown",
   "metadata": {},
   "source": [
    "## another one"
   ]
  },
  {
   "cell_type": "code",
   "execution_count": 19,
   "metadata": {
    "ExecuteTime": {
     "end_time": "2019-03-30T09:47:43.001646Z",
     "start_time": "2019-03-30T09:47:40.743915Z"
    },
    "execution": {
     "iopub.execute_input": "2025-03-24T10:22:54.571652Z",
     "iopub.status.busy": "2025-03-24T10:22:54.571570Z",
     "iopub.status.idle": "2025-03-24T10:22:54.661533Z",
     "shell.execute_reply": "2025-03-24T10:22:54.661226Z",
     "shell.execute_reply.started": "2025-03-24T10:22:54.571644Z"
    }
   },
   "outputs": [
    {
     "data": {
      "image/svg+xml": [
       "<svg xmlns=\"http://www.w3.org/2000/svg\" xmlns:xlink=\"http://www.w3.org/1999/xlink\" width=\"144pt\" height=\"260pt\" viewBox=\"0.00 0.00 144.00 260.00\">\n",
       "<g id=\"graph0\" class=\"graph\" transform=\"scale(1 1) rotate(0) translate(4 256)\">\n",
       "<title>G</title>\n",
       "<!-- y -->\n",
       "<g id=\"node1\" class=\"node\">\n",
       "<title>y</title>\n",
       "<g id=\"a_node1\"><a xlink:title=\"(1) y\">\n",
       "<ellipse fill=\"#404040\" stroke=\"#4a4a4a\" cx=\"54\" cy=\"-18\" rx=\"27\" ry=\"18\"/>\n",
       "<text text-anchor=\"middle\" x=\"54\" y=\"-12.95\" font-family=\"Times,serif\" font-size=\"14.00\" fill=\"white\">y</text>\n",
       "</a>\n",
       "</g>\n",
       "</g>\n",
       "<!-- z2 -->\n",
       "<g id=\"node2\" class=\"node\">\n",
       "<title>z2</title>\n",
       "<g id=\"a_node2\"><a xlink:title=\"(3) z2\">\n",
       "<ellipse fill=\"#404040\" stroke=\"#4a4a4a\" cx=\"27\" cy=\"-234\" rx=\"27\" ry=\"18\"/>\n",
       "<text text-anchor=\"middle\" x=\"27\" y=\"-228.95\" font-family=\"Times,serif\" font-size=\"14.00\" fill=\"white\">z2</text>\n",
       "</a>\n",
       "</g>\n",
       "</g>\n",
       "<!-- z2&#45;&gt;y -->\n",
       "<g id=\"edge5\" class=\"edge\">\n",
       "<title>z2-&gt;y</title>\n",
       "<g id=\"a_edge5\"><a xlink:title=\"3 → 1\">\n",
       "<path fill=\"none\" stroke=\"#4a4a4a\" d=\"M25.91,-215.55C25.04,-197.56 24.36,-168.74 27,-144 30.62,-110.08 39.62,-71.84 46.24,-46.69\"/>\n",
       "<polygon fill=\"#4a4a4a\" stroke=\"#4a4a4a\" points=\"49.56,-47.83 48.78,-37.26 42.8,-46 49.56,-47.83\"/>\n",
       "</a>\n",
       "</g>\n",
       "</g>\n",
       "<!-- z3 -->\n",
       "<g id=\"node4\" class=\"node\">\n",
       "<title>z3</title>\n",
       "<g id=\"a_node4\"><a xlink:title=\"(4) z3\">\n",
       "<ellipse fill=\"#404040\" stroke=\"#4a4a4a\" cx=\"63\" cy=\"-162\" rx=\"27\" ry=\"18\"/>\n",
       "<text text-anchor=\"middle\" x=\"63\" y=\"-156.95\" font-family=\"Times,serif\" font-size=\"14.00\" fill=\"white\">z3</text>\n",
       "</a>\n",
       "</g>\n",
       "</g>\n",
       "<!-- z2&#45;&gt;z3 -->\n",
       "<g id=\"edge4\" class=\"edge\">\n",
       "<title>z2-&gt;z3</title>\n",
       "<g id=\"a_edge4\"><a xlink:title=\"3 → 4\">\n",
       "<path fill=\"none\" stroke=\"#4a4a4a\" d=\"M35.35,-216.76C39.58,-208.55 44.81,-198.37 49.58,-189.09\"/>\n",
       "<polygon fill=\"#4a4a4a\" stroke=\"#4a4a4a\" points=\"52.54,-190.99 54,-180.49 46.32,-187.79 52.54,-190.99\"/>\n",
       "</a>\n",
       "</g>\n",
       "</g>\n",
       "<!-- x -->\n",
       "<g id=\"node3\" class=\"node\">\n",
       "<title>x</title>\n",
       "<g id=\"a_node3\"><a xlink:title=\"(0) x\">\n",
       "<ellipse fill=\"#404040\" stroke=\"#4a4a4a\" cx=\"109\" cy=\"-90\" rx=\"27\" ry=\"18\"/>\n",
       "<text text-anchor=\"middle\" x=\"109\" y=\"-84.95\" font-family=\"Times,serif\" font-size=\"14.00\" fill=\"white\">x</text>\n",
       "</a>\n",
       "</g>\n",
       "</g>\n",
       "<!-- x&#45;&gt;y -->\n",
       "<g id=\"edge1\" class=\"edge\">\n",
       "<title>x-&gt;y</title>\n",
       "<g id=\"a_edge1\"><a xlink:title=\"0 → 1\">\n",
       "<path fill=\"none\" stroke=\"#4a4a4a\" d=\"M96.79,-73.46C89.89,-64.67 81.09,-53.48 73.27,-43.53\"/>\n",
       "<polygon fill=\"#4a4a4a\" stroke=\"#4a4a4a\" points=\"76.04,-41.38 67.11,-35.68 70.53,-45.71 76.04,-41.38\"/>\n",
       "</a>\n",
       "</g>\n",
       "</g>\n",
       "<!-- z3&#45;&gt;y -->\n",
       "<g id=\"edge7\" class=\"edge\">\n",
       "<title>z3-&gt;y</title>\n",
       "<g id=\"a_edge7\"><a xlink:title=\"4 → 1\">\n",
       "<path fill=\"none\" stroke=\"#4a4a4a\" d=\"M61.9,-143.59C60.38,-119.61 57.62,-76.14 55.8,-47.42\"/>\n",
       "<polygon fill=\"#4a4a4a\" stroke=\"#4a4a4a\" points=\"59.31,-47.38 55.18,-37.62 52.32,-47.82 59.31,-47.38\"/>\n",
       "</a>\n",
       "</g>\n",
       "</g>\n",
       "<!-- z3&#45;&gt;x -->\n",
       "<g id=\"edge3\" class=\"edge\">\n",
       "<title>z3-&gt;x</title>\n",
       "<g id=\"a_edge3\"><a xlink:title=\"4 → 0\">\n",
       "<path fill=\"none\" stroke=\"#4a4a4a\" d=\"M73.44,-145.12C79.03,-136.61 86.04,-125.94 92.36,-116.32\"/>\n",
       "<polygon fill=\"#4a4a4a\" stroke=\"#4a4a4a\" points=\"95.21,-118.37 97.77,-108.09 89.36,-114.52 95.21,-118.37\"/>\n",
       "</a>\n",
       "</g>\n",
       "</g>\n",
       "<!-- z1 -->\n",
       "<g id=\"node5\" class=\"node\">\n",
       "<title>z1</title>\n",
       "<g id=\"a_node5\"><a xlink:title=\"(2) z1\">\n",
       "<ellipse fill=\"#404040\" stroke=\"#4a4a4a\" cx=\"108\" cy=\"-234\" rx=\"27\" ry=\"18\"/>\n",
       "<text text-anchor=\"middle\" x=\"108\" y=\"-228.95\" font-family=\"Times,serif\" font-size=\"14.00\" fill=\"white\">z1</text>\n",
       "</a>\n",
       "</g>\n",
       "</g>\n",
       "<!-- z1&#45;&gt;x -->\n",
       "<g id=\"edge6\" class=\"edge\">\n",
       "<title>z1-&gt;x</title>\n",
       "<g id=\"a_edge6\"><a xlink:title=\"2 → 0\">\n",
       "<path fill=\"none\" stroke=\"#4a4a4a\" d=\"M108.12,-215.59C108.29,-191.61 108.6,-148.14 108.8,-119.42\"/>\n",
       "<polygon fill=\"#4a4a4a\" stroke=\"#4a4a4a\" points=\"112.3,-119.65 108.87,-109.62 105.3,-119.6 112.3,-119.65\"/>\n",
       "</a>\n",
       "</g>\n",
       "</g>\n",
       "<!-- z1&#45;&gt;z3 -->\n",
       "<g id=\"edge2\" class=\"edge\">\n",
       "<title>z1-&gt;z3</title>\n",
       "<g id=\"a_edge2\"><a xlink:title=\"2 → 4\">\n",
       "<path fill=\"none\" stroke=\"#4a4a4a\" d=\"M97.79,-217.12C92.32,-208.61 85.46,-197.94 79.28,-188.32\"/>\n",
       "<polygon fill=\"#4a4a4a\" stroke=\"#4a4a4a\" points=\"82.34,-186.61 73.99,-180.09 76.45,-190.4 82.34,-186.61\"/>\n",
       "</a>\n",
       "</g>\n",
       "</g>\n",
       "</g>\n",
       "</svg>"
      ],
      "text/plain": [
       "<IPython.core.display.SVG object>"
      ]
     },
     "metadata": {},
     "output_type": "display_data"
    }
   ],
   "source": [
    "# EXEMPLE PAGE 17 : http://ftp.cs.ucla.edu/pub/stat_ser/r350.pdf\n",
    "\n",
    "\n",
    "m1 = gum.BayesNet()\n",
    "m1.add(gum.LabelizedVariable(\"x\"))\n",
    "m1.add(gum.LabelizedVariable(\"y\"))\n",
    "m1.add(gum.LabelizedVariable(\"z1\"))\n",
    "m1.add(gum.LabelizedVariable(\"z2\"))\n",
    "m1.add(gum.LabelizedVariable(\"z3\"))\n",
    "\n",
    "m1.addArc(2,4)\n",
    "m1.addArc(2,0)\n",
    "m1.addArc(3,4)\n",
    "m1.addArc(3,1)\n",
    "m1.addArc(4,1)\n",
    "m1.addArc(4,0)\n",
    "m1.addArc(0,1)\n",
    "\n",
    "gnb.showBN(m1)\n",
    "d = csl.CausalModel(m1)"
   ]
  },
  {
   "cell_type": "code",
   "execution_count": 20,
   "metadata": {
    "ExecuteTime": {
     "end_time": "2019-03-30T09:47:43.010201Z",
     "start_time": "2019-03-30T09:47:43.004428Z"
    },
    "execution": {
     "iopub.execute_input": "2025-03-24T10:22:54.662296Z",
     "iopub.status.busy": "2025-03-24T10:22:54.662206Z",
     "iopub.status.idle": "2025-03-24T10:22:54.665112Z",
     "shell.execute_reply": "2025-03-24T10:22:54.664883Z",
     "shell.execute_reply.started": "2025-03-24T10:22:54.662286Z"
    }
   },
   "outputs": [
    {
     "data": {
      "text/latex": [
       "$\\displaystyle P\\left(z3\\mid z1,z2\\right) \\cdot P\\left(z2\\right) \\cdot P\\left(z1\\right) \\cdot P\\left(y\\mid x,z2,z3\\right)$"
      ],
      "text/plain": [
       "<IPython.core.display.Math object>"
      ]
     },
     "metadata": {},
     "output_type": "display_data"
    }
   ],
   "source": [
    "display(Math(csl.identifyingIntervention (d,{\"z1\",\"z2\",\"z3\",\"y\"}, {\"x\"}).toLatex()))"
   ]
  },
  {
   "cell_type": "code",
   "execution_count": 21,
   "metadata": {
    "ExecuteTime": {
     "end_time": "2019-03-30T09:47:43.018992Z",
     "start_time": "2019-03-30T09:47:43.011836Z"
    },
    "execution": {
     "iopub.execute_input": "2025-03-24T10:22:54.667728Z",
     "iopub.status.busy": "2025-03-24T10:22:54.667641Z",
     "iopub.status.idle": "2025-03-24T10:22:54.670022Z",
     "shell.execute_reply": "2025-03-24T10:22:54.669824Z",
     "shell.execute_reply.started": "2025-03-24T10:22:54.667721Z"
    }
   },
   "outputs": [
    {
     "data": {
      "text/latex": [
       "$\\displaystyle \\sum_{z1,z2,z3}{P\\left(z3\\mid z1,z2\\right) \\cdot P\\left(z2\\right) \\cdot P\\left(z1\\right) \\cdot P\\left(y\\mid x,z2,z3\\right)}$"
      ],
      "text/plain": [
       "<IPython.core.display.Math object>"
      ]
     },
     "metadata": {},
     "output_type": "display_data"
    }
   ],
   "source": [
    "display(Math(csl.identifyingIntervention(d,{\"y\"}, {\"x\"}).toLatex()))"
   ]
  },
  {
   "cell_type": "code",
   "execution_count": 22,
   "metadata": {
    "ExecuteTime": {
     "end_time": "2019-03-30T09:47:43.025483Z",
     "start_time": "2019-03-30T09:47:43.020669Z"
    },
    "execution": {
     "iopub.execute_input": "2025-03-24T10:22:54.670403Z",
     "iopub.status.busy": "2025-03-24T10:22:54.670333Z",
     "iopub.status.idle": "2025-03-24T10:22:54.672875Z",
     "shell.execute_reply": "2025-03-24T10:22:54.672670Z",
     "shell.execute_reply.started": "2025-03-24T10:22:54.670396Z"
    }
   },
   "outputs": [
    {
     "data": {
      "text/latex": [
       "$\\displaystyle P\\left(z3\\mid z1,z2\\right) \\cdot P\\left(z1\\right) \\cdot P\\left(y\\mid x,z2,z3\\right)$"
      ],
      "text/plain": [
       "<IPython.core.display.Math object>"
      ]
     },
     "metadata": {},
     "output_type": "display_data"
    }
   ],
   "source": [
    "display(Math(csl.identifyingIntervention(d,{\"z1\",\"z3\",\"y\"}, {\"x\",\"z2\"}).toLatex()))"
   ]
  },
  {
   "cell_type": "code",
   "execution_count": 23,
   "metadata": {
    "ExecuteTime": {
     "end_time": "2019-03-30T09:47:43.033600Z",
     "start_time": "2019-03-30T09:47:43.028772Z"
    },
    "execution": {
     "iopub.execute_input": "2025-03-24T10:22:54.673373Z",
     "iopub.status.busy": "2025-03-24T10:22:54.673256Z",
     "iopub.status.idle": "2025-03-24T10:22:54.675694Z",
     "shell.execute_reply": "2025-03-24T10:22:54.675493Z",
     "shell.execute_reply.started": "2025-03-24T10:22:54.673365Z"
    }
   },
   "outputs": [
    {
     "data": {
      "text/latex": [
       "$\\displaystyle \\sum_{z1,z3}{P\\left(z3\\mid z1,z2\\right) \\cdot P\\left(z1\\right) \\cdot P\\left(y\\mid x,z2,z3\\right)}$"
      ],
      "text/plain": [
       "<IPython.core.display.Math object>"
      ]
     },
     "metadata": {},
     "output_type": "display_data"
    }
   ],
   "source": [
    "display(Math(csl.identifyingIntervention(d,{\"y\"}, {\"x\",\"z2\"}).toLatex()))"
   ]
  },
  {
   "cell_type": "markdown",
   "metadata": {},
   "source": [
    "## Other example"
   ]
  },
  {
   "cell_type": "code",
   "execution_count": 24,
   "metadata": {
    "ExecuteTime": {
     "end_time": "2019-03-30T09:47:45.111304Z",
     "start_time": "2019-03-30T09:47:43.035453Z"
    },
    "execution": {
     "iopub.execute_input": "2025-03-24T10:22:54.676101Z",
     "iopub.status.busy": "2025-03-24T10:22:54.676022Z",
     "iopub.status.idle": "2025-03-24T10:22:54.768696Z",
     "shell.execute_reply": "2025-03-24T10:22:54.768366Z",
     "shell.execute_reply.started": "2025-03-24T10:22:54.676094Z"
    }
   },
   "outputs": [
    {
     "data": {
      "image/svg+xml": [
       "<svg xmlns=\"http://www.w3.org/2000/svg\" xmlns:xlink=\"http://www.w3.org/1999/xlink\" width=\"127pt\" height=\"260pt\" viewBox=\"0.00 0.00 127.00 260.00\">\n",
       "<g id=\"graph0\" class=\"graph\" transform=\"scale(1 1) rotate(0) translate(4 256)\">\n",
       "<title>G</title>\n",
       "<!-- b -->\n",
       "<g id=\"node1\" class=\"node\">\n",
       "<title>b</title>\n",
       "<g id=\"a_node1\"><a xlink:title=\"(2) b\">\n",
       "<ellipse fill=\"#404040\" stroke=\"#4a4a4a\" cx=\"27\" cy=\"-90\" rx=\"27\" ry=\"18\"/>\n",
       "<text text-anchor=\"middle\" x=\"27\" y=\"-84.95\" font-family=\"Times,serif\" font-size=\"14.00\" fill=\"white\">b</text>\n",
       "</a>\n",
       "</g>\n",
       "</g>\n",
       "<!-- y -->\n",
       "<g id=\"node4\" class=\"node\">\n",
       "<title>y</title>\n",
       "<g id=\"a_node4\"><a xlink:title=\"(3) y\">\n",
       "<ellipse fill=\"#404040\" stroke=\"#4a4a4a\" cx=\"82\" cy=\"-18\" rx=\"27\" ry=\"18\"/>\n",
       "<text text-anchor=\"middle\" x=\"82\" y=\"-12.95\" font-family=\"Times,serif\" font-size=\"14.00\" fill=\"white\">y</text>\n",
       "</a>\n",
       "</g>\n",
       "</g>\n",
       "<!-- b&#45;&gt;y -->\n",
       "<g id=\"edge4\" class=\"edge\">\n",
       "<title>b-&gt;y</title>\n",
       "<g id=\"a_edge4\"><a xlink:title=\"2 → 3\">\n",
       "<path fill=\"none\" stroke=\"#4a4a4a\" d=\"M39.21,-73.46C46.11,-64.67 54.91,-53.48 62.73,-43.53\"/>\n",
       "<polygon fill=\"#4a4a4a\" stroke=\"#4a4a4a\" points=\"65.47,-45.71 68.89,-35.68 59.96,-41.38 65.47,-45.71\"/>\n",
       "</a>\n",
       "</g>\n",
       "</g>\n",
       "<!-- p -->\n",
       "<g id=\"node2\" class=\"node\">\n",
       "<title>p</title>\n",
       "<g id=\"a_node2\"><a xlink:title=\"(1) p\">\n",
       "<ellipse fill=\"#404040\" stroke=\"#4a4a4a\" cx=\"65\" cy=\"-162\" rx=\"27\" ry=\"18\"/>\n",
       "<text text-anchor=\"middle\" x=\"65\" y=\"-156.95\" font-family=\"Times,serif\" font-size=\"14.00\" fill=\"white\">p</text>\n",
       "</a>\n",
       "</g>\n",
       "</g>\n",
       "<!-- p&#45;&gt;b -->\n",
       "<g id=\"edge2\" class=\"edge\">\n",
       "<title>p-&gt;b</title>\n",
       "<g id=\"a_edge2\"><a xlink:title=\"1 → 2\">\n",
       "<path fill=\"none\" stroke=\"#4a4a4a\" d=\"M56.19,-144.76C51.73,-136.55 46.2,-126.37 41.16,-117.09\"/>\n",
       "<polygon fill=\"#4a4a4a\" stroke=\"#4a4a4a\" points=\"44.33,-115.6 36.49,-108.48 38.18,-118.94 44.33,-115.6\"/>\n",
       "</a>\n",
       "</g>\n",
       "</g>\n",
       "<!-- p&#45;&gt;y -->\n",
       "<g id=\"edge5\" class=\"edge\">\n",
       "<title>p-&gt;y</title>\n",
       "<g id=\"a_edge5\"><a xlink:title=\"1 → 3\">\n",
       "<path fill=\"none\" stroke=\"#4a4a4a\" d=\"M67.08,-143.59C69.95,-119.61 75.16,-76.14 78.6,-47.42\"/>\n",
       "<polygon fill=\"#4a4a4a\" stroke=\"#4a4a4a\" points=\"82.06,-47.96 79.77,-37.61 75.11,-47.13 82.06,-47.96\"/>\n",
       "</a>\n",
       "</g>\n",
       "</g>\n",
       "<!-- a -->\n",
       "<g id=\"node3\" class=\"node\">\n",
       "<title>a</title>\n",
       "<g id=\"a_node3\"><a xlink:title=\"(0) a\">\n",
       "<ellipse fill=\"#404040\" stroke=\"#4a4a4a\" cx=\"92\" cy=\"-234\" rx=\"27\" ry=\"18\"/>\n",
       "<text text-anchor=\"middle\" x=\"92\" y=\"-228.95\" font-family=\"Times,serif\" font-size=\"14.00\" fill=\"white\">a</text>\n",
       "</a>\n",
       "</g>\n",
       "</g>\n",
       "<!-- a&#45;&gt;p -->\n",
       "<g id=\"edge1\" class=\"edge\">\n",
       "<title>a-&gt;p</title>\n",
       "<g id=\"a_edge1\"><a xlink:title=\"0 → 1\">\n",
       "<path fill=\"none\" stroke=\"#4a4a4a\" d=\"M85.46,-216.05C82.48,-208.32 78.87,-198.96 75.52,-190.27\"/>\n",
       "<polygon fill=\"#4a4a4a\" stroke=\"#4a4a4a\" points=\"78.88,-189.27 72.02,-181.2 72.35,-191.79 78.88,-189.27\"/>\n",
       "</a>\n",
       "</g>\n",
       "</g>\n",
       "<!-- a&#45;&gt;y -->\n",
       "<g id=\"edge3\" class=\"edge\">\n",
       "<title>a-&gt;y</title>\n",
       "<g id=\"a_edge3\"><a xlink:title=\"0 → 3\">\n",
       "<path fill=\"none\" stroke=\"#4a4a4a\" d=\"M95.65,-215.91C97.68,-205.57 99.98,-192.09 101,-180 104.94,-133.25 95.69,-79.11 88.76,-47.04\"/>\n",
       "<polygon fill=\"#4a4a4a\" stroke=\"#4a4a4a\" points=\"92.19,-46.35 86.58,-37.36 85.36,-47.88 92.19,-46.35\"/>\n",
       "</a>\n",
       "</g>\n",
       "</g>\n",
       "</g>\n",
       "</svg>"
      ],
      "text/plain": [
       "<IPython.core.display.SVG object>"
      ]
     },
     "metadata": {},
     "output_type": "display_data"
    }
   ],
   "source": [
    "#http://www.stats.ox.ac.uk/~lienart/gml15_causalinference.html\n",
    "\n",
    "m1 = gum.BayesNet()\n",
    "m1.add(gum.LabelizedVariable(\"a\"))\n",
    "m1.add(gum.LabelizedVariable(\"p\"))\n",
    "m1.add(gum.LabelizedVariable(\"b\"))\n",
    "m1.add(gum.LabelizedVariable(\"y\"))\n",
    "\n",
    "m1.addArc(0,1)\n",
    "m1.addArc(1,2)\n",
    "m1.addArc(0,3)\n",
    "m1.addArc(1,3)\n",
    "m1.addArc(2,3)\n",
    "gnb.showBN(m1)\n",
    "d = csl.CausalModel(m1)"
   ]
  },
  {
   "cell_type": "code",
   "execution_count": 25,
   "metadata": {
    "ExecuteTime": {
     "end_time": "2019-03-30T09:47:45.120857Z",
     "start_time": "2019-03-30T09:47:45.114350Z"
    },
    "execution": {
     "iopub.execute_input": "2025-03-24T10:22:54.769385Z",
     "iopub.status.busy": "2025-03-24T10:22:54.769271Z",
     "iopub.status.idle": "2025-03-24T10:22:54.772143Z",
     "shell.execute_reply": "2025-03-24T10:22:54.771847Z",
     "shell.execute_reply.started": "2025-03-24T10:22:54.769375Z"
    }
   },
   "outputs": [
    {
     "data": {
      "text/latex": [
       "$\\displaystyle \\sum_{p}{P\\left(y\\mid a,b,p\\right) \\cdot P\\left(p\\mid a\\right)}$"
      ],
      "text/plain": [
       "<IPython.core.display.Math object>"
      ]
     },
     "metadata": {},
     "output_type": "display_data"
    }
   ],
   "source": [
    "display(Math(csl.identifyingIntervention(d,{\"y\"}, {\"a\",\"b\"}).toLatex()))"
   ]
  },
  {
   "cell_type": "markdown",
   "metadata": {},
   "source": [
    "## example f"
   ]
  },
  {
   "cell_type": "code",
   "execution_count": 26,
   "metadata": {
    "ExecuteTime": {
     "end_time": "2019-03-30T09:47:47.074252Z",
     "start_time": "2019-03-30T09:47:45.123670Z"
    },
    "execution": {
     "iopub.execute_input": "2025-03-24T10:22:54.772677Z",
     "iopub.status.busy": "2025-03-24T10:22:54.772570Z",
     "iopub.status.idle": "2025-03-24T10:22:54.882794Z",
     "shell.execute_reply": "2025-03-24T10:22:54.882477Z",
     "shell.execute_reply.started": "2025-03-24T10:22:54.772669Z"
    }
   },
   "outputs": [
    {
     "data": {
      "image/svg+xml": [
       "<svg xmlns=\"http://www.w3.org/2000/svg\" xmlns:xlink=\"http://www.w3.org/1999/xlink\" width=\"98pt\" height=\"180pt\" viewBox=\"0.00 0.00 98.01 180.00\">\n",
       "<g id=\"graph0\" class=\"graph\" transform=\"scale(0.600801 0.600801) rotate(0) translate(4 295.6)\">\n",
       "<title>G</title>\n",
       "<!-- l1 -->\n",
       "<g id=\"node1\" class=\"node\">\n",
       "<title>l1</title>\n",
       "<ellipse fill=\"#404040\" stroke=\"#4a4a4a\" cx=\"54\" cy=\"-289.8\" rx=\"1.8\" ry=\"1.8\"/>\n",
       "</g>\n",
       "<!-- X -->\n",
       "<g id=\"node3\" class=\"node\">\n",
       "<title>X</title>\n",
       "<ellipse fill=\"#404040\" stroke=\"#4a4a4a\" cx=\"27\" cy=\"-234\" rx=\"27\" ry=\"18\"/>\n",
       "<text text-anchor=\"middle\" x=\"27\" y=\"-228.95\" font-family=\"Times,serif\" font-size=\"14.00\" fill=\"white\">X</text>\n",
       "</g>\n",
       "<!-- l1&#45;&gt;X -->\n",
       "<g id=\"edge2\" class=\"edge\">\n",
       "<title>l1-&gt;X</title>\n",
       "<path fill=\"none\" stroke=\"#4a4a4a\" stroke-dasharray=\"5,2\" d=\"M53.53,-287.87C51.88,-284.58 46.12,-273.1 40.39,-261.68\"/>\n",
       "<polygon fill=\"#4a4a4a\" stroke=\"#4a4a4a\" points=\"43.54,-260.16 35.93,-252.8 37.29,-263.3 43.54,-260.16\"/>\n",
       "</g>\n",
       "<!-- Z1 -->\n",
       "<g id=\"node5\" class=\"node\">\n",
       "<title>Z1</title>\n",
       "<ellipse fill=\"#404040\" stroke=\"#4a4a4a\" cx=\"82\" cy=\"-162\" rx=\"27\" ry=\"18\"/>\n",
       "<text text-anchor=\"middle\" x=\"82\" y=\"-156.95\" font-family=\"Times,serif\" font-size=\"14.00\" fill=\"white\">Z1</text>\n",
       "</g>\n",
       "<!-- l1&#45;&gt;Z1 -->\n",
       "<g id=\"edge6\" class=\"edge\">\n",
       "<title>l1-&gt;Z1</title>\n",
       "<path fill=\"none\" stroke=\"#4a4a4a\" stroke-dasharray=\"5,2\" d=\"M54.29,-287.66C55.44,-283.14 59.77,-266.1 63,-252 67.64,-231.73 72.53,-208.77 76.19,-191.26\"/>\n",
       "<polygon fill=\"#4a4a4a\" stroke=\"#4a4a4a\" points=\"79.59,-192.08 78.2,-181.58 72.74,-190.66 79.59,-192.08\"/>\n",
       "</g>\n",
       "<!-- l2 -->\n",
       "<g id=\"node2\" class=\"node\">\n",
       "<title>l2</title>\n",
       "<ellipse fill=\"#404040\" stroke=\"#4a4a4a\" cx=\"143\" cy=\"-234\" rx=\"1.8\" ry=\"1.8\"/>\n",
       "</g>\n",
       "<!-- Y -->\n",
       "<g id=\"node4\" class=\"node\">\n",
       "<title>Y</title>\n",
       "<ellipse fill=\"#404040\" stroke=\"#4a4a4a\" cx=\"76\" cy=\"-18\" rx=\"27\" ry=\"18\"/>\n",
       "<text text-anchor=\"middle\" x=\"76\" y=\"-12.95\" font-family=\"Times,serif\" font-size=\"14.00\" fill=\"white\">Y</text>\n",
       "</g>\n",
       "<!-- l2&#45;&gt;Y -->\n",
       "<g id=\"edge5\" class=\"edge\">\n",
       "<title>l2-&gt;Y</title>\n",
       "<path fill=\"none\" stroke=\"#4a4a4a\" stroke-dasharray=\"5,2\" d=\"M143.31,-231.9C146.28,-221.06 169.12,-132.45 140,-72 132.82,-57.09 119.21,-44.89 106.39,-35.98\"/>\n",
       "<polygon fill=\"#4a4a4a\" stroke=\"#4a4a4a\" points=\"108.42,-33.13 98.13,-30.63 104.62,-39 108.42,-33.13\"/>\n",
       "</g>\n",
       "<!-- l2&#45;&gt;Z1 -->\n",
       "<g id=\"edge9\" class=\"edge\">\n",
       "<title>l2-&gt;Z1</title>\n",
       "<path fill=\"none\" stroke=\"#4a4a4a\" stroke-dasharray=\"5,2\" d=\"M142.14,-232.01C137.81,-227.04 118.02,-204.33 102.31,-186.3\"/>\n",
       "<polygon fill=\"#4a4a4a\" stroke=\"#4a4a4a\" points=\"105.21,-184.31 96,-179.07 99.93,-188.91 105.21,-184.31\"/>\n",
       "</g>\n",
       "<!-- X&#45;&gt;Y -->\n",
       "<g id=\"edge1\" class=\"edge\">\n",
       "<title>X-&gt;Y</title>\n",
       "<path fill=\"none\" stroke=\"#4a4a4a\" d=\"M29.55,-215.71C33.29,-197.77 39.41,-168.77 45.02,-143.78 52.24,-111.67 54.34,-103.71 62.03,-71.77 63.96,-63.72 66.09,-54.99 68.06,-46.99\"/>\n",
       "<path fill=\"none\" stroke=\"#4a4a4a\" d=\"M31.51,-216.12C35.25,-198.19 41.37,-169.18 46.98,-144.22 54.18,-112.18 56.27,-104.22 63.97,-72.23 65.91,-64.19 68.04,-55.47 70,-47.46\"/>\n",
       "<polygon fill=\"#4a4a4a\" stroke=\"#4a4a4a\" points=\"72.39,-48.19 71.39,-37.65 65.6,-46.52 72.39,-48.19\"/>\n",
       "</g>\n",
       "<!-- X&#45;&gt;Z1 -->\n",
       "<g id=\"edge8\" class=\"edge\">\n",
       "<title>X-&gt;Z1</title>\n",
       "<path fill=\"none\" stroke=\"#4a4a4a\" d=\"M38.42,-216.85C45.33,-208.06 54.12,-196.86 61.94,-186.91\"/>\n",
       "<path fill=\"none\" stroke=\"#4a4a4a\" d=\"M39.99,-218.08C46.9,-209.29 55.69,-198.1 63.51,-188.15\"/>\n",
       "<polygon fill=\"#4a4a4a\" stroke=\"#4a4a4a\" points=\"65.47,-189.71 68.89,-179.68 59.96,-185.38 65.47,-189.71\"/>\n",
       "</g>\n",
       "<!-- Z1&#45;&gt;Y -->\n",
       "<g id=\"edge3\" class=\"edge\">\n",
       "<title>Z1-&gt;Y</title>\n",
       "<path fill=\"none\" stroke=\"#4a4a4a\" d=\"M75.37,-144.33C72.21,-134 68.63,-120.53 67.01,-108.13 64.38,-87.66 66.56,-64.7 69.32,-47.12\"/>\n",
       "<path fill=\"none\" stroke=\"#4a4a4a\" d=\"M77.28,-143.75C74.14,-133.49 70.56,-120.01 68.99,-107.87 66.37,-87.85 68.56,-64.89 71.3,-47.43\"/>\n",
       "<polygon fill=\"#4a4a4a\" stroke=\"#4a4a4a\" points=\"73.73,-48.05 71.99,-37.6 66.83,-46.85 73.73,-48.05\"/>\n",
       "</g>\n",
       "<!-- Z2 -->\n",
       "<g id=\"node6\" class=\"node\">\n",
       "<title>Z2</title>\n",
       "<ellipse fill=\"#404040\" stroke=\"#4a4a4a\" cx=\"104\" cy=\"-90\" rx=\"27\" ry=\"18\"/>\n",
       "<text text-anchor=\"middle\" x=\"104\" y=\"-84.95\" font-family=\"Times,serif\" font-size=\"14.00\" fill=\"white\">Z2</text>\n",
       "</g>\n",
       "<!-- Z1&#45;&gt;Z2 -->\n",
       "<g id=\"edge7\" class=\"edge\">\n",
       "<title>Z1-&gt;Z2</title>\n",
       "<path fill=\"none\" stroke=\"#4a4a4a\" d=\"M86.37,-143.76C88.78,-136.1 91.68,-126.86 94.39,-118.26\"/>\n",
       "<path fill=\"none\" stroke=\"#4a4a4a\" d=\"M88.28,-144.35C90.68,-136.7 93.59,-127.46 96.29,-118.86\"/>\n",
       "<polygon fill=\"#4a4a4a\" stroke=\"#4a4a4a\" points=\"98.61,-119.82 98.27,-109.23 91.93,-117.72 98.61,-119.82\"/>\n",
       "</g>\n",
       "<!-- Z2&#45;&gt;Y -->\n",
       "<g id=\"edge4\" class=\"edge\">\n",
       "<title>Z2-&gt;Y</title>\n",
       "<path fill=\"none\" stroke=\"#4a4a4a\" d=\"M96.44,-72.78C93.3,-64.94 89.47,-55.37 85.92,-46.5\"/>\n",
       "<path fill=\"none\" stroke=\"#4a4a4a\" d=\"M98.29,-72.04C95.15,-64.19 91.33,-54.62 87.78,-45.76\"/>\n",
       "<polygon fill=\"#4a4a4a\" stroke=\"#4a4a4a\" points=\"90.11,-44.86 83.15,-36.88 83.61,-47.46 90.11,-44.86\"/>\n",
       "</g>\n",
       "</g>\n",
       "</svg>"
      ],
      "text/plain": [
       "<IPython.core.display.SVG object>"
      ]
     },
     "metadata": {},
     "output_type": "display_data"
    }
   ],
   "source": [
    "#https://cse.sc.edu/~mgv/talks/AIM2010.ppt , example (f)\n",
    "\n",
    "m1 = gum.BayesNet()\n",
    "m1.add(gum.LabelizedVariable(\"X\"))\n",
    "m1.add(gum.LabelizedVariable(\"Y\"))\n",
    "m1.add(gum.LabelizedVariable(\"Z1\"))\n",
    "m1.add(gum.LabelizedVariable(\"Z2\"))\n",
    "\n",
    "m1.addArc(0,1)\n",
    "m1.addArc(0,2)\n",
    "m1.addArc(2,3)\n",
    "m1.addArc(3,1)\n",
    "m1.addArc(2,1)\n",
    "d = csl.CausalModel(m1, [(\"l1\",[\"X\",\"Z1\"]) ,(\"l2\",[\"Y\",\"Z1\"])],True)\n",
    "cslnb.showCausalModel(d)"
   ]
  },
  {
   "cell_type": "code",
   "execution_count": 27,
   "metadata": {
    "ExecuteTime": {
     "end_time": "2019-03-30T09:47:47.084796Z",
     "start_time": "2019-03-30T09:47:47.078258Z"
    },
    "execution": {
     "iopub.execute_input": "2025-03-24T10:22:54.883397Z",
     "iopub.status.busy": "2025-03-24T10:22:54.883309Z",
     "iopub.status.idle": "2025-03-24T10:22:54.886327Z",
     "shell.execute_reply": "2025-03-24T10:22:54.886097Z",
     "shell.execute_reply.started": "2025-03-24T10:22:54.883389Z"
    }
   },
   "outputs": [
    {
     "name": "stdout",
     "output_type": "stream",
     "text": [
      "Hedge exception : Hedge Error: G={'Y', 'Z1', 'X'}, G[S]={'Z1', 'Y'}\n"
     ]
    }
   ],
   "source": [
    "try:\n",
    "    display(Math(csl.identifyingIntervention (d,{\"Y\"}, {\"X\"}).toLatex()))\n",
    "except csl.HedgeException as e:\n",
    "    print(\"Hedge exception : {}\".format(e))"
   ]
  },
  {
   "cell_type": "markdown",
   "metadata": {},
   "source": [
    "## Example [Pearl,2009] Causality, p66"
   ]
  },
  {
   "cell_type": "code",
   "execution_count": 28,
   "metadata": {
    "ExecuteTime": {
     "end_time": "2019-03-30T09:48:38.071599Z",
     "start_time": "2019-03-30T09:48:34.411764Z"
    },
    "execution": {
     "iopub.execute_input": "2025-03-24T10:22:54.886660Z",
     "iopub.status.busy": "2025-03-24T10:22:54.886596Z",
     "iopub.status.idle": "2025-03-24T10:22:54.977269Z",
     "shell.execute_reply": "2025-03-24T10:22:54.976848Z",
     "shell.execute_reply.started": "2025-03-24T10:22:54.886653Z"
    }
   },
   "outputs": [
    {
     "data": {
      "image/svg+xml": [
       "<svg xmlns=\"http://www.w3.org/2000/svg\" xmlns:xlink=\"http://www.w3.org/1999/xlink\" width=\"172pt\" height=\"332pt\" viewBox=\"0.00 0.00 172.00 332.00\">\n",
       "<g id=\"graph0\" class=\"graph\" transform=\"scale(1 1) rotate(0) translate(4 328)\">\n",
       "<title>G</title>\n",
       "<!-- Z1 -->\n",
       "<g id=\"node1\" class=\"node\">\n",
       "<title>Z1</title>\n",
       "<g id=\"a_node1\"><a xlink:title=\"(0) Z1\">\n",
       "<ellipse fill=\"#404040\" stroke=\"#4a4a4a\" cx=\"82\" cy=\"-306\" rx=\"27\" ry=\"18\"/>\n",
       "<text text-anchor=\"middle\" x=\"82\" y=\"-300.95\" font-family=\"Times,serif\" font-size=\"14.00\" fill=\"white\">Z1</text>\n",
       "</a>\n",
       "</g>\n",
       "</g>\n",
       "<!-- Z3 -->\n",
       "<g id=\"node3\" class=\"node\">\n",
       "<title>Z3</title>\n",
       "<g id=\"a_node3\"><a xlink:title=\"(2) Z3\">\n",
       "<ellipse fill=\"#404040\" stroke=\"#4a4a4a\" cx=\"27\" cy=\"-90\" rx=\"27\" ry=\"18\"/>\n",
       "<text text-anchor=\"middle\" x=\"27\" y=\"-84.95\" font-family=\"Times,serif\" font-size=\"14.00\" fill=\"white\">Z3</text>\n",
       "</a>\n",
       "</g>\n",
       "</g>\n",
       "<!-- Z1&#45;&gt;Z3 -->\n",
       "<g id=\"edge8\" class=\"edge\">\n",
       "<title>Z1-&gt;Z3</title>\n",
       "<g id=\"a_edge8\"><a xlink:title=\"0 → 2\">\n",
       "<path fill=\"none\" stroke=\"#4a4a4a\" d=\"M68.81,-289.88C60.83,-279.83 51.21,-265.97 46,-252 29.51,-207.81 26.47,-152.48 26.33,-119.53\"/>\n",
       "<polygon fill=\"#4a4a4a\" stroke=\"#4a4a4a\" points=\"29.83,-119.6 26.39,-109.58 22.83,-119.56 29.83,-119.6\"/>\n",
       "</a>\n",
       "</g>\n",
       "</g>\n",
       "<!-- X -->\n",
       "<g id=\"node4\" class=\"node\">\n",
       "<title>X</title>\n",
       "<g id=\"a_node4\"><a xlink:title=\"(4) X\">\n",
       "<ellipse fill=\"#404040\" stroke=\"#4a4a4a\" cx=\"82\" cy=\"-234\" rx=\"27\" ry=\"18\"/>\n",
       "<text text-anchor=\"middle\" x=\"82\" y=\"-228.95\" font-family=\"Times,serif\" font-size=\"14.00\" fill=\"white\">X</text>\n",
       "</a>\n",
       "</g>\n",
       "</g>\n",
       "<!-- Z1&#45;&gt;X -->\n",
       "<g id=\"edge3\" class=\"edge\">\n",
       "<title>Z1-&gt;X</title>\n",
       "<g id=\"a_edge3\"><a xlink:title=\"0 → 4\">\n",
       "<path fill=\"none\" stroke=\"#4a4a4a\" d=\"M82,-287.7C82,-280.41 82,-271.73 82,-263.54\"/>\n",
       "<polygon fill=\"#4a4a4a\" stroke=\"#4a4a4a\" points=\"85.5,-263.62 82,-253.62 78.5,-263.62 85.5,-263.62\"/>\n",
       "</a>\n",
       "</g>\n",
       "</g>\n",
       "<!-- Z2 -->\n",
       "<g id=\"node5\" class=\"node\">\n",
       "<title>Z2</title>\n",
       "<g id=\"a_node5\"><a xlink:title=\"(1) Z2\">\n",
       "<ellipse fill=\"#404040\" stroke=\"#4a4a4a\" cx=\"137\" cy=\"-162\" rx=\"27\" ry=\"18\"/>\n",
       "<text text-anchor=\"middle\" x=\"137\" y=\"-156.95\" font-family=\"Times,serif\" font-size=\"14.00\" fill=\"white\">Z2</text>\n",
       "</a>\n",
       "</g>\n",
       "</g>\n",
       "<!-- Z1&#45;&gt;Z2 -->\n",
       "<g id=\"edge1\" class=\"edge\">\n",
       "<title>Z1-&gt;Z2</title>\n",
       "<g id=\"a_edge1\"><a xlink:title=\"0 → 1\">\n",
       "<path fill=\"none\" stroke=\"#4a4a4a\" d=\"M94.75,-289.7C102.56,-279.59 112.15,-265.71 118,-252 126.26,-232.66 131.06,-209.38 133.77,-191.48\"/>\n",
       "<polygon fill=\"#4a4a4a\" stroke=\"#4a4a4a\" points=\"137.21,-192.21 135.1,-181.83 130.27,-191.26 137.21,-192.21\"/>\n",
       "</a>\n",
       "</g>\n",
       "</g>\n",
       "<!-- Y -->\n",
       "<g id=\"node2\" class=\"node\">\n",
       "<title>Y</title>\n",
       "<g id=\"a_node2\"><a xlink:title=\"(3) Y\">\n",
       "<ellipse fill=\"#404040\" stroke=\"#4a4a4a\" cx=\"82\" cy=\"-18\" rx=\"27\" ry=\"18\"/>\n",
       "<text text-anchor=\"middle\" x=\"82\" y=\"-12.95\" font-family=\"Times,serif\" font-size=\"14.00\" fill=\"white\">Y</text>\n",
       "</a>\n",
       "</g>\n",
       "</g>\n",
       "<!-- Z3&#45;&gt;Y -->\n",
       "<g id=\"edge7\" class=\"edge\">\n",
       "<title>Z3-&gt;Y</title>\n",
       "<g id=\"a_edge7\"><a xlink:title=\"2 → 3\">\n",
       "<path fill=\"none\" stroke=\"#4a4a4a\" d=\"M39.21,-73.46C46.11,-64.67 54.91,-53.48 62.73,-43.53\"/>\n",
       "<polygon fill=\"#4a4a4a\" stroke=\"#4a4a4a\" points=\"65.47,-45.71 68.89,-35.68 59.96,-41.38 65.47,-45.71\"/>\n",
       "</a>\n",
       "</g>\n",
       "</g>\n",
       "<!-- X&#45;&gt;Y -->\n",
       "<g id=\"edge5\" class=\"edge\">\n",
       "<title>X-&gt;Y</title>\n",
       "<g id=\"a_edge5\"><a xlink:title=\"4 → 3\">\n",
       "<path fill=\"none\" stroke=\"#4a4a4a\" d=\"M82,-215.85C82,-179.14 82,-92.66 82,-47.53\"/>\n",
       "<polygon fill=\"#4a4a4a\" stroke=\"#4a4a4a\" points=\"85.5,-47.75 82,-37.75 78.5,-47.75 85.5,-47.75\"/>\n",
       "</a>\n",
       "</g>\n",
       "</g>\n",
       "<!-- X&#45;&gt;Z3 -->\n",
       "<g id=\"edge6\" class=\"edge\">\n",
       "<title>X-&gt;Z3</title>\n",
       "<g id=\"a_edge6\"><a xlink:title=\"4 → 2\">\n",
       "<path fill=\"none\" stroke=\"#4a4a4a\" d=\"M75.47,-216.15C66.13,-192.03 48.83,-147.36 37.62,-118.43\"/>\n",
       "<polygon fill=\"#4a4a4a\" stroke=\"#4a4a4a\" points=\"40.94,-117.3 34.06,-109.24 34.41,-119.83 40.94,-117.3\"/>\n",
       "</a>\n",
       "</g>\n",
       "</g>\n",
       "<!-- X&#45;&gt;Z2 -->\n",
       "<g id=\"edge4\" class=\"edge\">\n",
       "<title>X-&gt;Z2</title>\n",
       "<g id=\"a_edge4\"><a xlink:title=\"4 → 1\">\n",
       "<path fill=\"none\" stroke=\"#4a4a4a\" d=\"M94.21,-217.46C101.11,-208.67 109.91,-197.48 117.73,-187.53\"/>\n",
       "<polygon fill=\"#4a4a4a\" stroke=\"#4a4a4a\" points=\"120.47,-189.71 123.89,-179.68 114.96,-185.38 120.47,-189.71\"/>\n",
       "</a>\n",
       "</g>\n",
       "</g>\n",
       "<!-- Z2&#45;&gt;Y -->\n",
       "<g id=\"edge9\" class=\"edge\">\n",
       "<title>Z2-&gt;Y</title>\n",
       "<g id=\"a_edge9\"><a xlink:title=\"1 → 3\">\n",
       "<path fill=\"none\" stroke=\"#4a4a4a\" d=\"M130.47,-144.15C121.13,-120.03 103.83,-75.36 92.62,-46.43\"/>\n",
       "<polygon fill=\"#4a4a4a\" stroke=\"#4a4a4a\" points=\"95.94,-45.3 89.06,-37.24 89.41,-47.83 95.94,-45.3\"/>\n",
       "</a>\n",
       "</g>\n",
       "</g>\n",
       "<!-- Z2&#45;&gt;Z3 -->\n",
       "<g id=\"edge2\" class=\"edge\">\n",
       "<title>Z2-&gt;Z3</title>\n",
       "<g id=\"a_edge2\"><a xlink:title=\"1 → 2\">\n",
       "<path fill=\"none\" stroke=\"#4a4a4a\" d=\"M117.84,-148.81C100.65,-137.87 75.18,-121.66 55.58,-109.19\"/>\n",
       "<polygon fill=\"#4a4a4a\" stroke=\"#4a4a4a\" points=\"57.53,-106.28 47.22,-103.87 53.78,-112.19 57.53,-106.28\"/>\n",
       "</a>\n",
       "</g>\n",
       "</g>\n",
       "</g>\n",
       "</svg>"
      ],
      "text/plain": [
       "<IPython.core.display.SVG object>"
      ]
     },
     "metadata": {},
     "output_type": "display_data"
    }
   ],
   "source": [
    "bn = gum.fastBN(\"Z1->Z2->Z3->Y<-X->Z2;Z2->Y;Z1->X->Z3<-Z1\")\n",
    "gnb.showBN(bn)"
   ]
  },
  {
   "cell_type": "code",
   "execution_count": 29,
   "metadata": {
    "ExecuteTime": {
     "end_time": "2019-03-30T09:48:38.071599Z",
     "start_time": "2019-03-30T09:48:34.411764Z"
    },
    "execution": {
     "iopub.execute_input": "2025-03-24T10:22:54.977885Z",
     "iopub.status.busy": "2025-03-24T10:22:54.977798Z",
     "iopub.status.idle": "2025-03-24T10:22:55.093206Z",
     "shell.execute_reply": "2025-03-24T10:22:55.092735Z",
     "shell.execute_reply.started": "2025-03-24T10:22:54.977875Z"
    },
    "tags": [
     "nbsphinx-thumbnail"
    ]
   },
   "outputs": [
    {
     "data": {
      "image/svg+xml": [
       "<svg xmlns=\"http://www.w3.org/2000/svg\" xmlns:xlink=\"http://www.w3.org/1999/xlink\" width=\"101pt\" height=\"180pt\" viewBox=\"0.00 0.00 100.93 180.00\">\n",
       "<g id=\"graph0\" class=\"graph\" transform=\"scale(0.600801 0.600801) rotate(0) translate(4 295.6)\">\n",
       "<title>G</title>\n",
       "<!-- Z0 -->\n",
       "<g id=\"node1\" class=\"node\">\n",
       "<title>Z0</title>\n",
       "<ellipse fill=\"#404040\" stroke=\"#4a4a4a\" cx=\"61\" cy=\"-289.8\" rx=\"1.8\" ry=\"1.8\"/>\n",
       "</g>\n",
       "<!-- Z1 -->\n",
       "<g id=\"node2\" class=\"node\">\n",
       "<title>Z1</title>\n",
       "<ellipse fill=\"#404040\" stroke=\"#4a4a4a\" cx=\"61\" cy=\"-234\" rx=\"27\" ry=\"18\"/>\n",
       "<text text-anchor=\"middle\" x=\"61\" y=\"-228.95\" font-family=\"Times,serif\" font-size=\"14.00\" fill=\"white\">Z1</text>\n",
       "</g>\n",
       "<!-- Z0&#45;&gt;Z1 -->\n",
       "<g id=\"edge7\" class=\"edge\">\n",
       "<title>Z0-&gt;Z1</title>\n",
       "<path fill=\"none\" stroke=\"#4a4a4a\" stroke-dasharray=\"5,2\" d=\"M61,-287.87C61,-284.77 61,-274.44 61,-263.72\"/>\n",
       "<polygon fill=\"#4a4a4a\" stroke=\"#4a4a4a\" points=\"64.5,-263.77 61,-253.77 57.5,-263.77 64.5,-263.77\"/>\n",
       "</g>\n",
       "<!-- Z3 -->\n",
       "<g id=\"node4\" class=\"node\">\n",
       "<title>Z3</title>\n",
       "<ellipse fill=\"#404040\" stroke=\"#4a4a4a\" cx=\"27\" cy=\"-90\" rx=\"27\" ry=\"18\"/>\n",
       "<text text-anchor=\"middle\" x=\"27\" y=\"-84.95\" font-family=\"Times,serif\" font-size=\"14.00\" fill=\"white\">Z3</text>\n",
       "</g>\n",
       "<!-- Z0&#45;&gt;Z3 -->\n",
       "<g id=\"edge9\" class=\"edge\">\n",
       "<title>Z0-&gt;Z3</title>\n",
       "<path fill=\"none\" stroke=\"#4a4a4a\" stroke-dasharray=\"5,2\" d=\"M59.81,-288.09C54.45,-284.81 32.56,-270.54 25,-252 7.14,-208.2 13.76,-151.96 20.31,-118.86\"/>\n",
       "<polygon fill=\"#4a4a4a\" stroke=\"#4a4a4a\" points=\"23.69,-119.77 22.36,-109.26 16.85,-118.31 23.69,-119.77\"/>\n",
       "</g>\n",
       "<!-- X -->\n",
       "<g id=\"node6\" class=\"node\">\n",
       "<title>X</title>\n",
       "<ellipse fill=\"#404040\" stroke=\"#4a4a4a\" cx=\"133\" cy=\"-234\" rx=\"27\" ry=\"18\"/>\n",
       "<text text-anchor=\"middle\" x=\"133\" y=\"-228.95\" font-family=\"Times,serif\" font-size=\"14.00\" fill=\"white\">X</text>\n",
       "</g>\n",
       "<!-- Z0&#45;&gt;X -->\n",
       "<g id=\"edge5\" class=\"edge\">\n",
       "<title>Z0-&gt;X</title>\n",
       "<path fill=\"none\" stroke=\"#4a4a4a\" stroke-dasharray=\"5,2\" d=\"M62.02,-288.04C66.91,-284.39 88.5,-268.25 106.6,-254.73\"/>\n",
       "<polygon fill=\"#4a4a4a\" stroke=\"#4a4a4a\" points=\"108.51,-257.67 114.43,-248.88 104.32,-252.06 108.51,-257.67\"/>\n",
       "</g>\n",
       "<!-- Z2 -->\n",
       "<g id=\"node3\" class=\"node\">\n",
       "<title>Z2</title>\n",
       "<ellipse fill=\"#404040\" stroke=\"#4a4a4a\" cx=\"69\" cy=\"-162\" rx=\"27\" ry=\"18\"/>\n",
       "<text text-anchor=\"middle\" x=\"69\" y=\"-156.95\" font-family=\"Times,serif\" font-size=\"14.00\" fill=\"white\">Z2</text>\n",
       "</g>\n",
       "<!-- Z1&#45;&gt;Z2 -->\n",
       "<g id=\"edge1\" class=\"edge\">\n",
       "<title>Z1-&gt;Z2</title>\n",
       "<path fill=\"none\" stroke=\"#4a4a4a\" d=\"M61.98,-215.58C62.82,-208.29 63.81,-199.61 64.75,-191.42\"/>\n",
       "<path fill=\"none\" stroke=\"#4a4a4a\" d=\"M63.97,-215.81C64.8,-208.52 65.8,-199.84 66.73,-191.65\"/>\n",
       "<polygon fill=\"#4a4a4a\" stroke=\"#4a4a4a\" points=\"69.22,-191.94 66.87,-181.61 62.26,-191.15 69.22,-191.94\"/>\n",
       "</g>\n",
       "<!-- Z2&#45;&gt;Z3 -->\n",
       "<g id=\"edge2\" class=\"edge\">\n",
       "<title>Z2-&gt;Z3</title>\n",
       "<path fill=\"none\" stroke=\"#4a4a4a\" d=\"M58.4,-145.28C53.42,-136.97 47.23,-126.67 41.62,-117.31\"/>\n",
       "<path fill=\"none\" stroke=\"#4a4a4a\" d=\"M60.12,-144.25C55.13,-135.95 48.95,-125.64 43.33,-116.28\"/>\n",
       "<polygon fill=\"#4a4a4a\" stroke=\"#4a4a4a\" points=\"45.61,-115.22 37.47,-108.45 39.61,-118.82 45.61,-115.22\"/>\n",
       "</g>\n",
       "<!-- Y -->\n",
       "<g id=\"node5\" class=\"node\">\n",
       "<title>Y</title>\n",
       "<ellipse fill=\"#404040\" stroke=\"#4a4a4a\" cx=\"82\" cy=\"-18\" rx=\"27\" ry=\"18\"/>\n",
       "<text text-anchor=\"middle\" x=\"82\" y=\"-12.95\" font-family=\"Times,serif\" font-size=\"14.00\" fill=\"white\">Y</text>\n",
       "</g>\n",
       "<!-- Z2&#45;&gt;Y -->\n",
       "<g id=\"edge8\" class=\"edge\">\n",
       "<title>Z2-&gt;Y</title>\n",
       "<path fill=\"none\" stroke=\"#4a4a4a\" d=\"M69.6,-143.5C71.79,-119.52 75.77,-76.05 78.4,-47.33\"/>\n",
       "<path fill=\"none\" stroke=\"#4a4a4a\" d=\"M71.59,-143.68C73.78,-119.7 77.76,-76.23 80.39,-47.51\"/>\n",
       "<polygon fill=\"#4a4a4a\" stroke=\"#4a4a4a\" points=\"82.87,-47.9 80.3,-37.62 75.9,-47.26 82.87,-47.9\"/>\n",
       "</g>\n",
       "<!-- Z3&#45;&gt;Y -->\n",
       "<g id=\"edge6\" class=\"edge\">\n",
       "<title>Z3-&gt;Y</title>\n",
       "<path fill=\"none\" stroke=\"#4a4a4a\" d=\"M38.42,-72.85C45.33,-64.06 54.12,-52.86 61.94,-42.91\"/>\n",
       "<path fill=\"none\" stroke=\"#4a4a4a\" d=\"M39.99,-74.08C46.9,-65.29 55.69,-54.1 63.51,-44.15\"/>\n",
       "<polygon fill=\"#4a4a4a\" stroke=\"#4a4a4a\" points=\"65.47,-45.71 68.89,-35.68 59.96,-41.38 65.47,-45.71\"/>\n",
       "</g>\n",
       "<!-- X&#45;&gt;Z2 -->\n",
       "<g id=\"edge3\" class=\"edge\">\n",
       "<title>X-&gt;Z2</title>\n",
       "<path fill=\"none\" stroke=\"#4a4a4a\" d=\"M118.69,-218.83C110.2,-209.55 99.1,-197.4 89.47,-186.87\"/>\n",
       "<path fill=\"none\" stroke=\"#4a4a4a\" d=\"M120.17,-217.48C111.68,-208.2 100.57,-196.05 90.94,-185.52\"/>\n",
       "<polygon fill=\"#4a4a4a\" stroke=\"#4a4a4a\" points=\"92.91,-183.96 83.57,-178.94 87.74,-188.68 92.91,-183.96\"/>\n",
       "</g>\n",
       "<!-- X&#45;&gt;Y -->\n",
       "<g id=\"edge4\" class=\"edge\">\n",
       "<title>X-&gt;Y</title>\n",
       "<path fill=\"none\" stroke=\"#4a4a4a\" d=\"M127.94,-216.08C119.17,-179.3 98.49,-92.52 87.76,-47.48\"/>\n",
       "<path fill=\"none\" stroke=\"#4a4a4a\" d=\"M129.89,-215.62C121.12,-178.83 100.44,-92.06 89.7,-47.01\"/>\n",
       "<polygon fill=\"#4a4a4a\" stroke=\"#4a4a4a\" points=\"92.18,-46.62 86.46,-37.7 85.37,-48.24 92.18,-46.62\"/>\n",
       "</g>\n",
       "</g>\n",
       "</svg>"
      ],
      "text/plain": [
       "<IPython.core.display.SVG object>"
      ]
     },
     "metadata": {},
     "output_type": "display_data"
    }
   ],
   "source": [
    "c = csl.CausalModel(bn, [(\"Z0\", (\"X\", \"Z1\", \"Z3\"))], False)\n",
    "cslnb.showCausalModel(c)"
   ]
  },
  {
   "cell_type": "code",
   "execution_count": 30,
   "metadata": {
    "ExecuteTime": {
     "end_time": "2019-03-30T09:48:38.071599Z",
     "start_time": "2019-03-30T09:48:34.411764Z"
    },
    "editable": true,
    "execution": {
     "iopub.execute_input": "2025-03-24T10:22:55.093865Z",
     "iopub.status.busy": "2025-03-24T10:22:55.093757Z",
     "iopub.status.idle": "2025-03-24T10:22:55.210851Z",
     "shell.execute_reply": "2025-03-24T10:22:55.210260Z",
     "shell.execute_reply.started": "2025-03-24T10:22:55.093855Z"
    },
    "slideshow": {
     "slide_type": ""
    },
    "tags": []
   },
   "outputs": [
    {
     "data": {
      "text/html": [
       "\n",
       "      <style>\n",
       "      .floating-box {\n",
       "      display: inline-block;\n",
       "      margin: 7px;\n",
       "      padding : 3px;\n",
       "      border: 0px solid transparent;  \n",
       "      valign:middle;\n",
       "      background-color: transparent;\n",
       "      }\n",
       "      </style>\n",
       "      <div class=\"floating-box\"><svg xmlns=\"http://www.w3.org/2000/svg\" xmlns:xlink=\"http://www.w3.org/1999/xlink\" width=\"101pt\" height=\"180pt\" viewBox=\"0.00 0.00 100.93 180.00\">\n",
       "<g id=\"graph0\" class=\"graph\" transform=\"scale(0.600801 0.600801) rotate(0) translate(4 295.6)\">\n",
       "<title>G</title>\n",
       "<!-- Z0 -->\n",
       "<g id=\"node1\" class=\"node\">\n",
       "<title>Z0</title>\n",
       "<ellipse fill=\"#404040\" stroke=\"#4a4a4a\" cx=\"61\" cy=\"-289.8\" rx=\"1.8\" ry=\"1.8\"/>\n",
       "</g>\n",
       "<!-- Z1 -->\n",
       "<g id=\"node2\" class=\"node\">\n",
       "<title>Z1</title>\n",
       "<ellipse fill=\"#404040\" stroke=\"#4a4a4a\" cx=\"61\" cy=\"-234\" rx=\"27\" ry=\"18\"/>\n",
       "<text text-anchor=\"middle\" x=\"61\" y=\"-228.95\" font-family=\"Times,serif\" font-size=\"14.00\" fill=\"white\">Z1</text>\n",
       "</g>\n",
       "<!-- Z0&#45;&gt;Z1 -->\n",
       "<g id=\"edge7\" class=\"edge\">\n",
       "<title>Z0-&gt;Z1</title>\n",
       "<path fill=\"none\" stroke=\"#4a4a4a\" stroke-dasharray=\"5,2\" d=\"M61,-287.87C61,-284.77 61,-274.44 61,-263.72\"/>\n",
       "<polygon fill=\"#4a4a4a\" stroke=\"#4a4a4a\" points=\"64.5,-263.77 61,-253.77 57.5,-263.77 64.5,-263.77\"/>\n",
       "</g>\n",
       "<!-- Z3 -->\n",
       "<g id=\"node4\" class=\"node\">\n",
       "<title>Z3</title>\n",
       "<ellipse fill=\"#404040\" stroke=\"#4a4a4a\" cx=\"27\" cy=\"-90\" rx=\"27\" ry=\"18\"/>\n",
       "<text text-anchor=\"middle\" x=\"27\" y=\"-84.95\" font-family=\"Times,serif\" font-size=\"14.00\" fill=\"white\">Z3</text>\n",
       "</g>\n",
       "<!-- Z0&#45;&gt;Z3 -->\n",
       "<g id=\"edge9\" class=\"edge\">\n",
       "<title>Z0-&gt;Z3</title>\n",
       "<path fill=\"none\" stroke=\"#4a4a4a\" stroke-dasharray=\"5,2\" d=\"M59.81,-288.09C54.45,-284.81 32.56,-270.54 25,-252 7.14,-208.2 13.76,-151.96 20.31,-118.86\"/>\n",
       "<polygon fill=\"#4a4a4a\" stroke=\"#4a4a4a\" points=\"23.69,-119.77 22.36,-109.26 16.85,-118.31 23.69,-119.77\"/>\n",
       "</g>\n",
       "<!-- X -->\n",
       "<g id=\"node6\" class=\"node\">\n",
       "<title>X</title>\n",
       "<ellipse fill=\"#404040\" stroke=\"#4a4a4a\" cx=\"133\" cy=\"-234\" rx=\"27\" ry=\"18\"/>\n",
       "<text text-anchor=\"middle\" x=\"133\" y=\"-228.95\" font-family=\"Times,serif\" font-size=\"14.00\" fill=\"white\">X</text>\n",
       "</g>\n",
       "<!-- Z0&#45;&gt;X -->\n",
       "<g id=\"edge5\" class=\"edge\">\n",
       "<title>Z0-&gt;X</title>\n",
       "<path fill=\"none\" stroke=\"#4a4a4a\" stroke-dasharray=\"5,2\" d=\"M62.02,-288.04C66.91,-284.39 88.5,-268.25 106.6,-254.73\"/>\n",
       "<polygon fill=\"#4a4a4a\" stroke=\"#4a4a4a\" points=\"108.51,-257.67 114.43,-248.88 104.32,-252.06 108.51,-257.67\"/>\n",
       "</g>\n",
       "<!-- Z2 -->\n",
       "<g id=\"node3\" class=\"node\">\n",
       "<title>Z2</title>\n",
       "<ellipse fill=\"#404040\" stroke=\"#4a4a4a\" cx=\"69\" cy=\"-162\" rx=\"27\" ry=\"18\"/>\n",
       "<text text-anchor=\"middle\" x=\"69\" y=\"-156.95\" font-family=\"Times,serif\" font-size=\"14.00\" fill=\"white\">Z2</text>\n",
       "</g>\n",
       "<!-- Z1&#45;&gt;Z2 -->\n",
       "<g id=\"edge1\" class=\"edge\">\n",
       "<title>Z1-&gt;Z2</title>\n",
       "<path fill=\"none\" stroke=\"#4a4a4a\" d=\"M61.98,-215.58C62.82,-208.29 63.81,-199.61 64.75,-191.42\"/>\n",
       "<path fill=\"none\" stroke=\"#4a4a4a\" d=\"M63.97,-215.81C64.8,-208.52 65.8,-199.84 66.73,-191.65\"/>\n",
       "<polygon fill=\"#4a4a4a\" stroke=\"#4a4a4a\" points=\"69.22,-191.94 66.87,-181.61 62.26,-191.15 69.22,-191.94\"/>\n",
       "</g>\n",
       "<!-- Z2&#45;&gt;Z3 -->\n",
       "<g id=\"edge2\" class=\"edge\">\n",
       "<title>Z2-&gt;Z3</title>\n",
       "<path fill=\"none\" stroke=\"#4a4a4a\" d=\"M58.4,-145.28C53.42,-136.97 47.23,-126.67 41.62,-117.31\"/>\n",
       "<path fill=\"none\" stroke=\"#4a4a4a\" d=\"M60.12,-144.25C55.13,-135.95 48.95,-125.64 43.33,-116.28\"/>\n",
       "<polygon fill=\"#4a4a4a\" stroke=\"#4a4a4a\" points=\"45.61,-115.22 37.47,-108.45 39.61,-118.82 45.61,-115.22\"/>\n",
       "</g>\n",
       "<!-- Y -->\n",
       "<g id=\"node5\" class=\"node\">\n",
       "<title>Y</title>\n",
       "<ellipse fill=\"#404040\" stroke=\"#4a4a4a\" cx=\"82\" cy=\"-18\" rx=\"27\" ry=\"18\"/>\n",
       "<text text-anchor=\"middle\" x=\"82\" y=\"-12.95\" font-family=\"Times,serif\" font-size=\"14.00\" fill=\"white\">Y</text>\n",
       "</g>\n",
       "<!-- Z2&#45;&gt;Y -->\n",
       "<g id=\"edge8\" class=\"edge\">\n",
       "<title>Z2-&gt;Y</title>\n",
       "<path fill=\"none\" stroke=\"#4a4a4a\" d=\"M69.6,-143.5C71.79,-119.52 75.77,-76.05 78.4,-47.33\"/>\n",
       "<path fill=\"none\" stroke=\"#4a4a4a\" d=\"M71.59,-143.68C73.78,-119.7 77.76,-76.23 80.39,-47.51\"/>\n",
       "<polygon fill=\"#4a4a4a\" stroke=\"#4a4a4a\" points=\"82.87,-47.9 80.3,-37.62 75.9,-47.26 82.87,-47.9\"/>\n",
       "</g>\n",
       "<!-- Z3&#45;&gt;Y -->\n",
       "<g id=\"edge6\" class=\"edge\">\n",
       "<title>Z3-&gt;Y</title>\n",
       "<path fill=\"none\" stroke=\"#4a4a4a\" d=\"M38.42,-72.85C45.33,-64.06 54.12,-52.86 61.94,-42.91\"/>\n",
       "<path fill=\"none\" stroke=\"#4a4a4a\" d=\"M39.99,-74.08C46.9,-65.29 55.69,-54.1 63.51,-44.15\"/>\n",
       "<polygon fill=\"#4a4a4a\" stroke=\"#4a4a4a\" points=\"65.47,-45.71 68.89,-35.68 59.96,-41.38 65.47,-45.71\"/>\n",
       "</g>\n",
       "<!-- X&#45;&gt;Z2 -->\n",
       "<g id=\"edge3\" class=\"edge\">\n",
       "<title>X-&gt;Z2</title>\n",
       "<path fill=\"none\" stroke=\"#4a4a4a\" d=\"M118.69,-218.83C110.2,-209.55 99.1,-197.4 89.47,-186.87\"/>\n",
       "<path fill=\"none\" stroke=\"#4a4a4a\" d=\"M120.17,-217.48C111.68,-208.2 100.57,-196.05 90.94,-185.52\"/>\n",
       "<polygon fill=\"#4a4a4a\" stroke=\"#4a4a4a\" points=\"92.91,-183.96 83.57,-178.94 87.74,-188.68 92.91,-183.96\"/>\n",
       "</g>\n",
       "<!-- X&#45;&gt;Y -->\n",
       "<g id=\"edge4\" class=\"edge\">\n",
       "<title>X-&gt;Y</title>\n",
       "<path fill=\"none\" stroke=\"#4a4a4a\" d=\"M127.94,-216.08C119.17,-179.3 98.49,-92.52 87.76,-47.48\"/>\n",
       "<path fill=\"none\" stroke=\"#4a4a4a\" d=\"M129.89,-215.62C121.12,-178.83 100.44,-92.06 89.7,-47.01\"/>\n",
       "<polygon fill=\"#4a4a4a\" stroke=\"#4a4a4a\" points=\"92.18,-46.62 86.46,-37.7 85.37,-48.24 92.18,-46.62\"/>\n",
       "</g>\n",
       "</g>\n",
       "</svg><br><center><small><em>Causal Model</em></small></center></div><div class=\"floating-box\">$$\\begin{equation*}P( Y \\mid \\text{do}(X)) = \\sum_{Z1,Z2,Z3}{P\\left(Y\\mid X,Z2,Z3\\right) \\cdot P\\left(Z2\\mid X,Z1\\right) \\cdot \\left(\\sum_{X'}{P\\left(Z3\\mid X',Z1,Z2\\right) \\cdot P\\left(Z1\\right) \\cdot P\\left(X'\\mid Z1\\right)}\\right)}\\end{equation*}$$<br><center><small><em>Explanation : Do-calculus computations</em></small></center></div><div class=\"floating-box\"><table style=\"border:1px solid black;border-collapse: collapse;\">\n",
       "<tr><th colspan='1'></th>\n",
       "      <th colspan='2' style='border:1px solid black;color:black;background-color:#808080;'><center>Y</center>\n",
       "      </th></tr>\n",
       "<tr><th style='border:1px solid black;color:black;background-color:#808080'><center>X</center></th><th style='border:1px solid black;border-bottom-style: double;color:black;background-color:#BBBBBB'>\n",
       "      <center>0</center></th><th style='border:1px solid black;border-bottom-style: double;color:black;background-color:#BBBBBB'>\n",
       "      <center>1</center></th></tr>\n",
       "<tr><th style='border:1px solid black;color:black;background-color:#BBBBBB'><center>0</center></th><td style='color:black;background-color:#d0ad64;text-align:right;padding: 3px;'>0.3625</td><td style='color:black;background-color:#add064;text-align:right;padding: 3px;'>0.6375</td></tr>\n",
       "<tr><th style='border:1px solid black;color:black;background-color:#BBBBBB'><center>1</center></th><td style='color:black;background-color:#dba264;text-align:right;padding: 3px;'>0.2792</td><td style='color:black;background-color:#a2db64;text-align:right;padding: 3px;'>0.7208</td></tr>\n",
       "</table><br><center><small><em>Impact</em></small></center></div>"
      ],
      "text/plain": [
       "<IPython.core.display.HTML object>"
      ]
     },
     "metadata": {},
     "output_type": "display_data"
    }
   ],
   "source": [
    "formula, impact, explanation = csl.causalImpact(c, \"Y\", \"X\")\n",
    "cslnb.showCausalImpact(c,\"Y\",\"X\")"
   ]
  }
 ],
 "metadata": {
  "anaconda-cloud": {},
  "hide_input": false,
  "kernelspec": {
   "display_name": "Python 3 (ipykernel)",
   "language": "python",
   "name": "python3"
  },
  "language_info": {
   "codemirror_mode": {
    "name": "ipython",
    "version": 3
   },
   "file_extension": ".py",
   "mimetype": "text/x-python",
   "name": "python",
   "nbconvert_exporter": "python",
   "pygments_lexer": "ipython3",
   "version": "3.13.2"
  },
  "toc": {
   "colors": {
    "hover_highlight": "#DAA520",
    "running_highlight": "#FF0000",
    "selected_highlight": "#FFD700"
   },
   "moveMenuLeft": true,
   "nav_menu": {
    "height": "193px",
    "width": "252px"
   },
   "navigate_menu": true,
   "number_sections": true,
   "sideBar": true,
   "threshold": 4,
   "toc_cell": false,
   "toc_section_display": "block",
   "toc_window_display": true,
   "widenNotebook": false
  }
 },
 "nbformat": 4,
 "nbformat_minor": 4
}
