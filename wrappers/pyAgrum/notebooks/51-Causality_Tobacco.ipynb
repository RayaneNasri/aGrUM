{
 "cells": [
  {
   "cell_type": "markdown",
   "metadata": {},
   "source": [
    "<a href=\"http://agrum.org\" target=\"blank\"><img src=\"http://agrum.gitlab.io/theme/img/logoAgrum.png\" align=\"left\" style=\"height:100px\"/></a><a rel=\"license\" href=\"http://creativecommons.org/licenses/by-nc/4.0/\"><img alt=\"Creative Commons License\" style=\"border-width:0\" src=\"https://i.creativecommons.org/l/by-nc/4.0/88x31.png\" /></a><br />This pyAgrum's notebook is licensed under a <a rel=\"license\" href=\"http://creativecommons.org/licenses/by-nc/4.0/\">Creative Commons Attribution-NonCommercial 4.0 International License</a>."
   ]
  },
  {
   "cell_type": "markdown",
   "metadata": {},
   "source": [
    "# Correlation between Smoking and Cancer\n",
    "This notebook follows the famous example from *Causality* (Pearl, 2009).\n",
    "\n",
    "A correlation has been observed between Smoking and Cancer, represented by this Bayesian Network :"
   ]
  },
  {
   "cell_type": "code",
   "execution_count": 1,
   "metadata": {
    "ExecuteTime": {
     "end_time": "2019-02-21T17:20:14.758704Z",
     "start_time": "2019-02-21T17:20:12.391192Z"
    }
   },
   "outputs": [
    {
     "data": {
      "text/html": [
       "<table style=\"border-style: hidden; border-collapse: collapse;\" width=\"100%\"><tr><td style=\"border-top:hidden;border-bottom:hidden;\"><div align=\"center\" style=\"\"><svg height=\"116pt\" viewBox=\"0.00 0.00 111.99 116.00\" width=\"112pt\" xmlns=\"http://www.w3.org/2000/svg\" xmlns:xlink=\"http://www.w3.org/1999/xlink\">\n",
       "<g class=\"graph\" id=\"graph0\" transform=\"scale(1 1) rotate(0) translate(4 112)\">\n",
       "<title>G</title>\n",
       "<!-- Smoking -->\n",
       "<g class=\"node\" id=\"node1\">\n",
       "<title>Smoking</title>\n",
       "<g id=\"a_node1\"><a xlink:title=\"(0) Smoking\">\n",
       "<ellipse cx=\"51.9954\" cy=\"-90\" fill=\"#444444\" rx=\"51.9908\" ry=\"18\" stroke=\"#000000\"/>\n",
       "<text fill=\"#ffffff\" font-family=\"Times,serif\" font-size=\"14.00\" text-anchor=\"middle\" x=\"51.9954\" y=\"-86.3\">Smoking</text>\n",
       "</a>\n",
       "</g>\n",
       "</g>\n",
       "<!-- Cancer -->\n",
       "<g class=\"node\" id=\"node2\">\n",
       "<title>Cancer</title>\n",
       "<g id=\"a_node2\"><a xlink:title=\"(1) Cancer\">\n",
       "<ellipse cx=\"51.9954\" cy=\"-18\" fill=\"#444444\" rx=\"44.393\" ry=\"18\" stroke=\"#000000\"/>\n",
       "<text fill=\"#ffffff\" font-family=\"Times,serif\" font-size=\"14.00\" text-anchor=\"middle\" x=\"51.9954\" y=\"-14.3\">Cancer</text>\n",
       "</a>\n",
       "</g>\n",
       "</g>\n",
       "<!-- Smoking&#45;&gt;Cancer -->\n",
       "<g class=\"edge\" id=\"edge1\">\n",
       "<title>Smoking-&gt;Cancer</title>\n",
       "<g id=\"a_edge1\"><a xlink:title=\"(0, 1) : \">\n",
       "<path d=\"M51.9954,-71.8314C51.9954,-64.131 51.9954,-54.9743 51.9954,-46.4166\" fill=\"none\" stroke=\"#000000\"/>\n",
       "<polygon fill=\"#000000\" points=\"55.4955,-46.4132 51.9954,-36.4133 48.4955,-46.4133 55.4955,-46.4132\" stroke=\"#000000\"/>\n",
       "</a>\n",
       "</g>\n",
       "</g>\n",
       "</g>\n",
       "</svg></div></td><td style=\"border-top:hidden;border-bottom:hidden;\"><div align=\"center\" style=\"\"><table>\n",
       "<tr><th colspan='1'></th><th colspan='2' style='background-color:#AAAAAA'><center>Smoking</center></th></tr>\n",
       "<tr><th style='background-color:#AAAAAA'><center>Cancer</center></th><th style='background-color:#BBBBBB'><center>0</center></th><th style='background-color:#BBBBBB'><center>1</center></th></tr>\n",
       "<tr><th style='background-color:#BBBBBB'><center>0</center></th><td style='background-color:#b9c464;text-align:right;'>0.5400</td><td style='background-color:#dba264;text-align:right;'>0.2800</td></tr>\n",
       "<tr><th style='background-color:#BBBBBB'><center>1</center></th><td style='background-color:#f78664;text-align:right;'>0.0600</td><td style='background-color:#ef8e64;text-align:right;'>0.1200</td></tr>\n",
       "</table></div></td><td style=\"border-top:hidden;border-bottom:hidden;\"><div align=\"center\" style=\"\"><table>\n",
       "<tr style='background-color:#AAAAAA'><th colspan='2'><center>Smoking</center></th></tr>\n",
       "<tr><th style='background-color:#BBBBBB'><center>0</center></th><th style='background-color:#BBBBBB'><center>1</center></th></tr>\n",
       "<tr><td style='background-color:#b2cb64;text-align:right;'>0.6000</td><td style='background-color:#cbb264;text-align:right;'>0.4000</td></tr>\n",
       "</table></div></td><td style=\"border-top:hidden;border-bottom:hidden;\"><div align=\"center\" style=\"\"><table>\n",
       "<tr><th colspan='1'></th><th colspan='2' style='background-color:#AAAAAA'><center>Cancer</center></th></tr>\n",
       "<tr><th style='background-color:#AAAAAA'><center>Smoking</center></th><th style='background-color:#BBBBBB'><center>0</center></th><th style='background-color:#BBBBBB'><center>1</center></th></tr>\n",
       "<tr><th style='background-color:#BBBBBB'><center>0</center></th><td style='background-color:#8bf264;text-align:right;'>0.9000</td><td style='background-color:#f28b64;text-align:right;'>0.1000</td></tr>\n",
       "<tr><th style='background-color:#BBBBBB'><center>1</center></th><td style='background-color:#a5d864;text-align:right;'>0.7000</td><td style='background-color:#d8a564;text-align:right;'>0.3000</td></tr>\n",
       "</table></div></td></tr><tr><td style=\"border-top:hidden;border-bottom:hidden;\"><div align=\"center\"><small>the BN</small></div></td><td style=\"border-top:hidden;border-bottom:hidden;\"><div align=\"center\"><small>the joint distribution</small></div></td><td style=\"border-top:hidden;border-bottom:hidden;\"><div align=\"center\"><small>the marginal for $smoking$</small></div></td><td style=\"border-top:hidden;border-bottom:hidden;\"><div align=\"center\"><small>the CPT for $cancer$</small></div></td></tr></table>"
      ],
      "text/plain": [
       "<IPython.core.display.HTML object>"
      ]
     },
     "metadata": {},
     "output_type": "display_data"
    }
   ],
   "source": [
    "from IPython.display import display, Math, Latex,HTML\n",
    "\n",
    "import pyAgrum as gum\n",
    "import pyAgrum.lib.notebook as gnb\n",
    "import pyAgrum.causal as csl\n",
    "import pyAgrum.causal.notebook as cslnb\n",
    "\n",
    "\n",
    "\n",
    "obs1 = gum.fastBN(\"Smoking->Cancer\")\n",
    "\n",
    "obs1.cpt(\"Smoking\")[:]=[0.6,0.4]\n",
    "obs1.cpt(\"Cancer\")[{\"Smoking\":0}]=[0.9,0.1]\n",
    "obs1.cpt(\"Cancer\")[{\"Smoking\":1}]=[0.7,0.3]\n",
    "                  \n",
    "gnb.sideBySide(obs1,obs1.cpt(\"Smoking\")*obs1.cpt(\"Cancer\"),obs1.cpt(\"Smoking\"),obs1.cpt(\"Cancer\"),\n",
    "               captions=[\"the BN\",\"the joint distribution\",\"the marginal for $smoking$\",\"the CPT for $cancer$\"])\n"
   ]
  },
  {
   "cell_type": "markdown",
   "metadata": {},
   "source": [
    "# Direct causality between Smoking and Cancer"
   ]
  },
  {
   "cell_type": "markdown",
   "metadata": {},
   "source": [
    "The very strong observed correlation between smoking and lung cancer suggests a causal relationship as the Surgeon General asserts in 1964, then, the proposed model is as follows :"
   ]
  },
  {
   "cell_type": "code",
   "execution_count": 2,
   "metadata": {
    "ExecuteTime": {
     "end_time": "2019-02-21T17:20:16.953628Z",
     "start_time": "2019-02-21T17:20:14.761624Z"
    }
   },
   "outputs": [
    {
     "data": {
      "text/html": [
       "<table style=\"border-style: hidden; border-collapse: collapse;\" width=\"100%\"><tr><td style=\"border-top:hidden;border-bottom:hidden;\"><div align=\"center\" style=\"\"><svg height=\"116pt\" viewBox=\"0.00 0.00 111.99 116.00\" width=\"112pt\" xmlns=\"http://www.w3.org/2000/svg\" xmlns:xlink=\"http://www.w3.org/1999/xlink\">\n",
       "<g class=\"graph\" id=\"graph0\" transform=\"scale(1 1) rotate(0) translate(4 112)\">\n",
       "<title>G</title>\n",
       "<polygon fill=\"#ffffff\" points=\"-4,4 -4,-112 107.9908,-112 107.9908,4 -4,4\" stroke=\"transparent\"/>\n",
       "<!-- Smoking -->\n",
       "<g class=\"node\" id=\"node1\">\n",
       "<title>Smoking</title>\n",
       "<ellipse cx=\"51.9954\" cy=\"-90\" fill=\"#444444\" rx=\"51.9908\" ry=\"18\" stroke=\"#000000\"/>\n",
       "<text fill=\"#ffffff\" font-family=\"Times,serif\" font-size=\"14.00\" text-anchor=\"middle\" x=\"51.9954\" y=\"-86.3\">Smoking</text>\n",
       "</g>\n",
       "<!-- Cancer -->\n",
       "<g class=\"node\" id=\"node2\">\n",
       "<title>Cancer</title>\n",
       "<ellipse cx=\"51.9954\" cy=\"-18\" fill=\"#444444\" rx=\"44.393\" ry=\"18\" stroke=\"#000000\"/>\n",
       "<text fill=\"#ffffff\" font-family=\"Times,serif\" font-size=\"14.00\" text-anchor=\"middle\" x=\"51.9954\" y=\"-14.3\">Cancer</text>\n",
       "</g>\n",
       "<!-- Smoking&#45;&gt;Cancer -->\n",
       "<g class=\"edge\" id=\"edge1\">\n",
       "<title>Smoking-&gt;Cancer</title>\n",
       "<path d=\"M51.9954,-71.8314C51.9954,-64.131 51.9954,-54.9743 51.9954,-46.4166\" fill=\"none\" stroke=\"#000000\"/>\n",
       "<polygon fill=\"#000000\" points=\"55.4955,-46.4132 51.9954,-36.4133 48.4955,-46.4133 55.4955,-46.4132\" stroke=\"#000000\"/>\n",
       "</g>\n",
       "</g>\n",
       "</svg></div></td><td style=\"border-top:hidden;border-bottom:hidden;\"><div align=\"center\" style=\"\">$$\\begin{equation}P( Cancer \\mid \\hookrightarrow Smoking) = P\\left(Cancer\\mid Smoking\\right)\\end{equation}$$</div></td><td style=\"border-top:hidden;border-bottom:hidden;\"><div align=\"center\" style=\"\"><table>\n",
       "<tr style='background-color:#AAAAAA'><th colspan='2'><center>Cancer</center></th></tr>\n",
       "<tr><th style='background-color:#BBBBBB'><center>0</center></th><th style='background-color:#BBBBBB'><center>1</center></th></tr>\n",
       "<tr><td style='background-color:#a5d864;text-align:right;'>0.7000</td><td style='background-color:#d8a564;text-align:right;'>0.3000</td></tr>\n",
       "</table></div></td></tr><tr><td style=\"border-top:hidden;border-bottom:hidden;\"><div align=\"center\"><small>Causal Model</small></div></td><td style=\"border-top:hidden;border-bottom:hidden;\"><div align=\"center\"><small>Explanation : Do-calculus computations</small></div></td><td style=\"border-top:hidden;border-bottom:hidden;\"><div align=\"center\"><small>Impact : $P( Cancer \\mid \\hookrightarrow Smoking=1)$</small></div></td></tr></table>"
      ],
      "text/plain": [
       "<IPython.core.display.HTML object>"
      ]
     },
     "metadata": {},
     "output_type": "display_data"
    }
   ],
   "source": [
    "# the bayesian network is causal\n",
    "modele1=csl.CausalModel(obs1)\n",
    "\n",
    "cslnb.showCausalImpact(modele1,\"Cancer\", \"Smoking\", values={\"Smoking\":1})\n"
   ]
  },
  {
   "cell_type": "markdown",
   "metadata": {},
   "source": [
    "# Latent confounder between Smoking and Cancer"
   ]
  },
  {
   "cell_type": "markdown",
   "metadata": {},
   "source": [
    "This model is highly contested by the tobacco industry which answers by proposing a different model in which Smoking and Cancer are simultaneously provoked by a common factor, the Genotype (or other latent variable) :"
   ]
  },
  {
   "cell_type": "code",
   "execution_count": 3,
   "metadata": {
    "ExecuteTime": {
     "end_time": "2019-02-21T17:20:19.428855Z",
     "start_time": "2019-02-21T17:20:16.957169Z"
    }
   },
   "outputs": [
    {
     "data": {
      "text/html": [
       "<table style=\"border-style: hidden; border-collapse: collapse;\" width=\"100%\"><tr><td style=\"border-top:hidden;border-bottom:hidden;\"><div align=\"center\" style=\"\"><svg height=\"84pt\" viewBox=\"0.00 0.00 218.19 83.60\" width=\"218pt\" xmlns=\"http://www.w3.org/2000/svg\" xmlns:xlink=\"http://www.w3.org/1999/xlink\">\n",
       "<g class=\"graph\" id=\"graph0\" transform=\"scale(1 1) rotate(0) translate(4 79.6)\">\n",
       "<title>G</title>\n",
       "<polygon fill=\"#ffffff\" points=\"-4,4 -4,-79.6 214.1915,-79.6 214.1915,4 -4,4\" stroke=\"transparent\"/>\n",
       "<!-- Smoking -->\n",
       "<g class=\"node\" id=\"node1\">\n",
       "<title>Smoking</title>\n",
       "<ellipse cx=\"51.9954\" cy=\"-18\" fill=\"#444444\" rx=\"51.9908\" ry=\"18\" stroke=\"#000000\"/>\n",
       "<text fill=\"#ffffff\" font-family=\"Times,serif\" font-size=\"14.00\" text-anchor=\"middle\" x=\"51.9954\" y=\"-14.3\">Smoking</text>\n",
       "</g>\n",
       "<!-- Cancer -->\n",
       "<g class=\"node\" id=\"node2\">\n",
       "<title>Cancer</title>\n",
       "<ellipse cx=\"165.9954\" cy=\"-18\" fill=\"#444444\" rx=\"44.393\" ry=\"18\" stroke=\"#000000\"/>\n",
       "<text fill=\"#ffffff\" font-family=\"Times,serif\" font-size=\"14.00\" text-anchor=\"middle\" x=\"165.9954\" y=\"-14.3\">Cancer</text>\n",
       "</g>\n",
       "<!-- Genotype -->\n",
       "<g class=\"node\" id=\"node3\">\n",
       "<title>Genotype</title>\n",
       "<ellipse cx=\"108.9954\" cy=\"-73.8\" fill=\"#ff0000\" rx=\"1.8\" ry=\"1.8\" stroke=\"#000000\"/>\n",
       "</g>\n",
       "<!-- Genotype&#45;&gt;Smoking -->\n",
       "<g class=\"edge\" id=\"edge1\">\n",
       "<title>Genotype-&gt;Smoking</title>\n",
       "<path d=\"M107.5864,-72.4207C103.2298,-68.1558 89.5029,-54.7179 76.7808,-42.2636\" fill=\"none\" stroke=\"#000000\" stroke-dasharray=\"5,2\"/>\n",
       "<polygon fill=\"#000000\" points=\"79.079,-39.6155 69.4846,-35.1211 74.1821,-44.6176 79.079,-39.6155\" stroke=\"#000000\"/>\n",
       "</g>\n",
       "<!-- Genotype&#45;&gt;Cancer -->\n",
       "<g class=\"edge\" id=\"edge2\">\n",
       "<title>Genotype-&gt;Cancer</title>\n",
       "<path d=\"M110.4044,-72.4207C114.7897,-68.1277 128.6688,-54.5407 141.461,-42.0179\" fill=\"none\" stroke=\"#000000\" stroke-dasharray=\"5,2\"/>\n",
       "<polygon fill=\"#000000\" points=\"144.0897,-44.3425 148.7872,-34.8459 139.1929,-39.3403 144.0897,-44.3425\" stroke=\"#000000\"/>\n",
       "</g>\n",
       "</g>\n",
       "</svg></div></td><td style=\"border-top:hidden;border-bottom:hidden;\"><div align=\"center\" style=\"\">$$\\begin{equation}P( Cancer \\mid \\hookrightarrow Smoking) = P\\left(Cancer\\right)\\end{equation}$$</div></td><td style=\"border-top:hidden;border-bottom:hidden;\"><div align=\"center\" style=\"\"><table>\n",
       "<tr style='background-color:#AAAAAA'><th colspan='2'><center>Cancer</center></th></tr>\n",
       "<tr><th style='background-color:#BBBBBB'><center>0</center></th><th style='background-color:#BBBBBB'><center>1</center></th></tr>\n",
       "<tr><td style='background-color:#96e764;text-align:right;'>0.8200</td><td style='background-color:#e79664;text-align:right;'>0.1800</td></tr>\n",
       "</table></div></td></tr><tr><td style=\"border-top:hidden;border-bottom:hidden;\"><div align=\"center\"><small>Causal Model</small></div></td><td style=\"border-top:hidden;border-bottom:hidden;\"><div align=\"center\"><small>Explanation : No causal effect of X on Y, because they are d-separated (conditioning on the observed variables if any).</small></div></td><td style=\"border-top:hidden;border-bottom:hidden;\"><div align=\"center\"><small>Impact : $P( Cancer \\mid \\hookrightarrow Smoking=1)$</small></div></td></tr></table>"
      ],
      "text/plain": [
       "<IPython.core.display.HTML object>"
      ]
     },
     "metadata": {},
     "output_type": "display_data"
    }
   ],
   "source": [
    "# a latent varible exists between Smoking and Cancer in the causal model\n",
    "modele2 = csl.CausalModel(obs1, [(\"Genotype\", [\"Smoking\",\"Cancer\"])])\n",
    "\n",
    "cslnb.showCausalImpact(modele2, \"Cancer\", \"Smoking\",values={\"Smoking\":1})\n"
   ]
  },
  {
   "cell_type": "code",
   "execution_count": 4,
   "metadata": {
    "ExecuteTime": {
     "end_time": "2019-02-21T17:20:19.441208Z",
     "start_time": "2019-02-21T17:20:19.434370Z"
    }
   },
   "outputs": [
    {
     "data": {
      "text/html": [
       "<table>\n",
       "<tr style='background-color:#AAAAAA'><th colspan='2'><center>Cancer</center></th></tr>\n",
       "<tr><th style='background-color:#BBBBBB'><center>0</center></th><th style='background-color:#BBBBBB'><center>1</center></th></tr>\n",
       "<tr><td style='background-color:#96e764;text-align:right;'>0.8200</td><td style='background-color:#e79664;text-align:right;'>0.1800</td></tr>\n",
       "</table>"
      ],
      "text/plain": [
       "(gum::Potential<double>@0x558758d86ea0) <Cancer:0> :: 0.82 /<Cancer:1> :: 0.18"
      ]
     },
     "execution_count": 4,
     "metadata": {},
     "output_type": "execute_result"
    }
   ],
   "source": [
    "# just check P(Cancer) in the bn `obs1`\n",
    "(obs1.cpt(\"Smoking\")*obs1.cpt(\"Cancer\")).margSumIn([\"Cancer\"])\n"
   ]
  },
  {
   "cell_type": "markdown",
   "metadata": {},
   "source": [
    "# Confounder and direct causality"
   ]
  },
  {
   "cell_type": "markdown",
   "metadata": {},
   "source": [
    "In a diplomatic effort, both parts agree that there must be some truth in both models :"
   ]
  },
  {
   "cell_type": "code",
   "execution_count": 5,
   "metadata": {
    "ExecuteTime": {
     "end_time": "2019-02-21T17:20:21.832022Z",
     "start_time": "2019-02-21T17:20:19.445435Z"
    }
   },
   "outputs": [
    {
     "data": {
      "text/html": [
       "<table style=\"border-style: hidden; border-collapse: collapse;\" width=\"100%\"><tr><td style=\"border-top:hidden;border-bottom:hidden;\"><div align=\"center\" style=\"\"><svg height=\"156pt\" viewBox=\"0.00 0.00 144.19 155.60\" width=\"144pt\" xmlns=\"http://www.w3.org/2000/svg\" xmlns:xlink=\"http://www.w3.org/1999/xlink\">\n",
       "<g class=\"graph\" id=\"graph0\" transform=\"scale(1 1) rotate(0) translate(4 151.6)\">\n",
       "<title>G</title>\n",
       "<polygon fill=\"#ffffff\" points=\"-4,4 -4,-151.6 140.1915,-151.6 140.1915,4 -4,4\" stroke=\"transparent\"/>\n",
       "<!-- Smoking -->\n",
       "<g class=\"node\" id=\"node1\">\n",
       "<title>Smoking</title>\n",
       "<ellipse cx=\"51.9954\" cy=\"-90\" fill=\"#444444\" rx=\"51.9908\" ry=\"18\" stroke=\"#000000\"/>\n",
       "<text fill=\"#ffffff\" font-family=\"Times,serif\" font-size=\"14.00\" text-anchor=\"middle\" x=\"51.9954\" y=\"-86.3\">Smoking</text>\n",
       "</g>\n",
       "<!-- Cancer -->\n",
       "<g class=\"node\" id=\"node2\">\n",
       "<title>Cancer</title>\n",
       "<ellipse cx=\"91.9954\" cy=\"-18\" fill=\"#444444\" rx=\"44.393\" ry=\"18\" stroke=\"#000000\"/>\n",
       "<text fill=\"#ffffff\" font-family=\"Times,serif\" font-size=\"14.00\" text-anchor=\"middle\" x=\"91.9954\" y=\"-14.3\">Cancer</text>\n",
       "</g>\n",
       "<!-- Smoking&#45;&gt;Cancer -->\n",
       "<g class=\"edge\" id=\"edge1\">\n",
       "<title>Smoking-&gt;Cancer</title>\n",
       "<path d=\"M61.883,-72.2022C66.5332,-63.832 72.1731,-53.6802 77.3089,-44.4356\" fill=\"none\" stroke=\"#000000\"/>\n",
       "<polygon fill=\"#000000\" points=\"80.4246,-46.0344 82.2215,-35.593 74.3054,-42.6348 80.4246,-46.0344\" stroke=\"#000000\"/>\n",
       "</g>\n",
       "<!-- Genotype -->\n",
       "<g class=\"node\" id=\"node3\">\n",
       "<title>Genotype</title>\n",
       "<ellipse cx=\"91.9954\" cy=\"-145.8\" fill=\"#ff0000\" rx=\"1.8\" ry=\"1.8\" stroke=\"#000000\"/>\n",
       "</g>\n",
       "<!-- Genotype&#45;&gt;Smoking -->\n",
       "<g class=\"edge\" id=\"edge2\">\n",
       "<title>Genotype-&gt;Smoking</title>\n",
       "<path d=\"M90.6645,-143.9434C87.4357,-139.4392 78.8422,-127.4513 70.5743,-115.9176\" fill=\"none\" stroke=\"#000000\" stroke-dasharray=\"5,2\"/>\n",
       "<polygon fill=\"#000000\" points=\"73.3637,-113.8013 64.6929,-107.713 67.6744,-117.8796 73.3637,-113.8013\" stroke=\"#000000\"/>\n",
       "</g>\n",
       "<!-- Genotype&#45;&gt;Cancer -->\n",
       "<g class=\"edge\" id=\"edge3\">\n",
       "<title>Genotype-&gt;Cancer</title>\n",
       "<path d=\"M93.2894,-144.1993C97.2214,-139.2189 109.0032,-123.4065 112.9954,-108 118.4627,-86.9011 112.2145,-62.852 105.1448,-44.9246\" fill=\"none\" stroke=\"#000000\" stroke-dasharray=\"5,2\"/>\n",
       "<polygon fill=\"#000000\" points=\"108.336,-43.4852 101.2018,-35.6524 101.8943,-46.2246 108.336,-43.4852\" stroke=\"#000000\"/>\n",
       "</g>\n",
       "</g>\n",
       "</svg></div></td><td style=\"border-top:hidden;border-bottom:hidden;\"><div align=\"center\" style=\"\">?</div></td><td style=\"border-top:hidden;border-bottom:hidden;\"><div align=\"center\" style=\"\">No result</div></td></tr><tr><td style=\"border-top:hidden;border-bottom:hidden;\"><div align=\"center\"><small>Causal Model</small></div></td><td style=\"border-top:hidden;border-bottom:hidden;\"><div align=\"center\"><small>Explanation : Hedge Error: G={'Cancer', 'Smoking'},G[S]={'Cancer'}</small></div></td><td style=\"border-top:hidden;border-bottom:hidden;\"><div align=\"center\"><small>Impact : $?$</small></div></td></tr></table>"
      ],
      "text/plain": [
       "<IPython.core.display.HTML object>"
      ]
     },
     "metadata": {},
     "output_type": "display_data"
    }
   ],
   "source": [
    "# a latent variable exists between Smoking and Cancer but the direct causal relation exists also\n",
    "modele3 = csl.CausalModel(obs1, [(\"Genotype\", [\"Smoking\",\"Cancer\"])], True)\n",
    "\n",
    "cslnb.showCausalImpact(modele3, \"Cancer\", \"Smoking\",values={\"Smoking\":1})\n"
   ]
  },
  {
   "cell_type": "markdown",
   "metadata": {},
   "source": [
    "Smoking's causal effect on Cancer becomes uncomputable in such a model because we can't distinguish both causes' impact from the observations."
   ]
  },
  {
   "cell_type": "markdown",
   "metadata": {},
   "source": [
    "# A intermediary observed variable\n",
    "We introduce an auxilary factor between Smoking and Cancer, tobacco causes cancer because of the tar deposits in the lungs."
   ]
  },
  {
   "cell_type": "code",
   "execution_count": 6,
   "metadata": {
    "ExecuteTime": {
     "end_time": "2019-02-21T17:20:24.133034Z",
     "start_time": "2019-02-21T17:20:21.835785Z"
    }
   },
   "outputs": [
    {
     "data": {
      "text/html": [
       "<table style=\"border-style: hidden; border-collapse: collapse;\" width=\"100%\"><tr><td style=\"border-top:hidden;border-bottom:hidden;\"><div align=\"center\" style=\"\"><svg height=\"188pt\" viewBox=\"0.00 0.00 114.00 188.00\" width=\"114pt\" xmlns=\"http://www.w3.org/2000/svg\" xmlns:xlink=\"http://www.w3.org/1999/xlink\">\n",
       "<g class=\"graph\" id=\"graph0\" transform=\"scale(1 1) rotate(0) translate(4 184)\">\n",
       "<title>G</title>\n",
       "<!-- Smoking -->\n",
       "<g class=\"node\" id=\"node1\">\n",
       "<title>Smoking</title>\n",
       "<g id=\"a_node1\"><a xlink:title=\"(0) Smoking\">\n",
       "<ellipse cx=\"54\" cy=\"-162\" fill=\"#444444\" rx=\"51.9908\" ry=\"18\" stroke=\"#000000\"/>\n",
       "<text fill=\"#ffffff\" font-family=\"Times,serif\" font-size=\"14.00\" text-anchor=\"middle\" x=\"54\" y=\"-158.3\">Smoking</text>\n",
       "</a>\n",
       "</g>\n",
       "</g>\n",
       "<!-- Tar -->\n",
       "<g class=\"node\" id=\"node2\">\n",
       "<title>Tar</title>\n",
       "<g id=\"a_node2\"><a xlink:title=\"(1) Tar\">\n",
       "<ellipse cx=\"27\" cy=\"-90\" fill=\"#444444\" rx=\"27\" ry=\"18\" stroke=\"#000000\"/>\n",
       "<text fill=\"#ffffff\" font-family=\"Times,serif\" font-size=\"14.00\" text-anchor=\"middle\" x=\"27\" y=\"-86.3\">Tar</text>\n",
       "</a>\n",
       "</g>\n",
       "</g>\n",
       "<!-- Smoking&#45;&gt;Tar -->\n",
       "<g class=\"edge\" id=\"edge1\">\n",
       "<title>Smoking-&gt;Tar</title>\n",
       "<g id=\"a_edge1\"><a xlink:title=\"(0, 1) : \">\n",
       "<path d=\"M47.1868,-143.8314C44.1902,-135.8406 40.6057,-126.2819 37.2943,-117.4514\" fill=\"none\" stroke=\"#000000\"/>\n",
       "<polygon fill=\"#000000\" points=\"40.506,-116.0478 33.7175,-107.9134 33.9517,-118.5057 40.506,-116.0478\" stroke=\"#000000\"/>\n",
       "</a>\n",
       "</g>\n",
       "</g>\n",
       "<!-- Cancer -->\n",
       "<g class=\"node\" id=\"node3\">\n",
       "<title>Cancer</title>\n",
       "<g id=\"a_node3\"><a xlink:title=\"(2) Cancer\">\n",
       "<ellipse cx=\"54\" cy=\"-18\" fill=\"#444444\" rx=\"44.393\" ry=\"18\" stroke=\"#000000\"/>\n",
       "<text fill=\"#ffffff\" font-family=\"Times,serif\" font-size=\"14.00\" text-anchor=\"middle\" x=\"54\" y=\"-14.3\">Cancer</text>\n",
       "</a>\n",
       "</g>\n",
       "</g>\n",
       "<!-- Smoking&#45;&gt;Cancer -->\n",
       "<g class=\"edge\" id=\"edge2\">\n",
       "<title>Smoking-&gt;Cancer</title>\n",
       "<g id=\"a_edge2\"><a xlink:title=\"(0, 2) : \">\n",
       "<path d=\"M57.8413,-143.6001C59.8166,-133.2025 62.0123,-119.9346 63,-108 64.3197,-92.0545 64.3197,-87.9455 63,-72 62.3055,-63.6085 61.0138,-54.5578 59.6214,-46.3092\" fill=\"none\" stroke=\"#000000\"/>\n",
       "<polygon fill=\"#000000\" points=\"63.0544,-45.6235 57.8413,-36.3999 56.1647,-46.8612 63.0544,-45.6235\" stroke=\"#000000\"/>\n",
       "</a>\n",
       "</g>\n",
       "</g>\n",
       "<!-- Tar&#45;&gt;Cancer -->\n",
       "<g class=\"edge\" id=\"edge3\">\n",
       "<title>Tar-&gt;Cancer</title>\n",
       "<g id=\"a_edge3\"><a xlink:title=\"(1, 2) : \">\n",
       "<path d=\"M33.6742,-72.2022C36.7247,-64.0675 40.4062,-54.2501 43.7932,-45.2181\" fill=\"none\" stroke=\"#000000\"/>\n",
       "<polygon fill=\"#000000\" points=\"47.0749,-46.4348 47.309,-35.8425 40.5206,-43.9769 47.0749,-46.4348\" stroke=\"#000000\"/>\n",
       "</a>\n",
       "</g>\n",
       "</g>\n",
       "</g>\n",
       "</svg></div></td><td style=\"border-top:hidden;border-bottom:hidden;\"><div align=\"center\" style=\"\"><table>\n",
       "<tr style='background-color:#AAAAAA'><th colspan='2'><center>Smoking</center></th></tr>\n",
       "<tr><th style='background-color:#BBBBBB'><center>0</center></th><th style='background-color:#BBBBBB'><center>1</center></th></tr>\n",
       "<tr><td style='background-color:#b2cb64;text-align:right;'>0.6000</td><td style='background-color:#cbb264;text-align:right;'>0.4000</td></tr>\n",
       "</table></div></td><td style=\"border-top:hidden;border-bottom:hidden;\"><div align=\"center\" style=\"\"><table>\n",
       "<tr><th colspan='1'></th><th colspan='2' style='background-color:#AAAAAA'><center>Tar</center></th></tr>\n",
       "<tr><th style='background-color:#AAAAAA'><center>Smoking</center></th><th style='background-color:#BBBBBB'><center>0</center></th><th style='background-color:#BBBBBB'><center>1</center></th></tr>\n",
       "<tr><th style='background-color:#BBBBBB'><center>0</center></th><td style='background-color:#8bf264;text-align:right;'>0.9000</td><td style='background-color:#f28b64;text-align:right;'>0.1000</td></tr>\n",
       "<tr><th style='background-color:#BBBBBB'><center>1</center></th><td style='background-color:#a5d864;text-align:right;'>0.7000</td><td style='background-color:#d8a564;text-align:right;'>0.3000</td></tr>\n",
       "</table></div></td><td style=\"border-top:hidden;border-bottom:hidden;\"><div align=\"center\" style=\"\"><table>\n",
       "<tr><th colspan='2'></th><th colspan='2' style='background-color:#AAAAAA'><center>Cancer</center></th></tr>\n",
       "<tr><th style='background-color:#AAAAAA'><center>Tar</center></th><th style='background-color:#AAAAAA'><center>Smoking</center></th><th style='background-color:#BBBBBB'><center>0</center></th><th style='background-color:#BBBBBB'><center>1</center></th></tr>\n",
       "<tr><th style='background-color:#BBBBBB'><center>0</center></th><th style='background-color:#BBBBBB;' rowspan = '2'><center>0</center></th><td style='background-color:#8bf264;text-align:right;'>0.9000</td><td style='background-color:#f28b64;text-align:right;'>0.1000</td></tr>\n",
       "<tr><th style='background-color:#BBBBBB'><center>1</center></th><td style='background-color:#98e564;text-align:right;'>0.8000</td><td style='background-color:#e59864;text-align:right;'>0.2000</td></tr>\n",
       "<tr><th style='background-color:#BBBBBB'><center>0</center></th><th style='background-color:#BBBBBB;' rowspan = '2'><center>1</center></th><td style='background-color:#a5d864;text-align:right;'>0.7000</td><td style='background-color:#d8a564;text-align:right;'>0.3000</td></tr>\n",
       "<tr><th style='background-color:#BBBBBB'><center>1</center></th><td style='background-color:#b2cb64;text-align:right;'>0.6000</td><td style='background-color:#cbb264;text-align:right;'>0.4000</td></tr>\n",
       "</table></div></td></tr><tr><td style=\"border-top:hidden;border-bottom:hidden;\"><div align=\"center\"><small></small></div></td><td style=\"border-top:hidden;border-bottom:hidden;\"><div align=\"center\"><small>$P(Smoking)$</small></div></td><td style=\"border-top:hidden;border-bottom:hidden;\"><div align=\"center\"><small>$P(Tar|Smoking)$</small></div></td><td style=\"border-top:hidden;border-bottom:hidden;\"><div align=\"center\"><small>$P(Cancer|Tar,Smoking)$</small></div></td></tr></table>"
      ],
      "text/plain": [
       "<IPython.core.display.HTML object>"
      ]
     },
     "metadata": {},
     "output_type": "display_data"
    }
   ],
   "source": [
    "obs2 = gum.fastBN(\"Smoking->Tar->Cancer;Smoking->Cancer\")\n",
    "\n",
    "obs2.cpt(\"Smoking\")[:] = [0.6, 0.4]\n",
    "obs2.cpt(\"Tar\")[{\"Smoking\": 0}] = [0.9, 0.1]\n",
    "obs2.cpt(\"Tar\")[{\"Smoking\": 1}] = [0.7, 0.3]\n",
    "obs2.cpt(\"Cancer\")[{\"Tar\": 0, \"Smoking\": 0}] = [0.9, 0.1]\n",
    "obs2.cpt(\"Cancer\")[{\"Tar\": 1, \"Smoking\": 0}] = [0.8, 0.2]\n",
    "obs2.cpt(\"Cancer\")[{\"Tar\": 0, \"Smoking\": 1}] = [0.7, 0.3]\n",
    "obs2.cpt(\"Cancer\")[{\"Tar\": 1, \"Smoking\": 1}] = [0.6, 0.4]\n",
    "\n",
    "gnb.sideBySide(obs2,obs2.cpt(\"Smoking\"),obs2.cpt(\"Tar\"),obs2.cpt(\"Cancer\"),\n",
    "               captions=[\"\",\"$P(Smoking)$\",\"$P(Tar|Smoking)$\",\"$P(Cancer|Tar,Smoking)$\"])\n"
   ]
  },
  {
   "cell_type": "code",
   "execution_count": 7,
   "metadata": {
    "ExecuteTime": {
     "end_time": "2019-02-21T17:20:26.900507Z",
     "start_time": "2019-02-21T17:20:24.136807Z"
    }
   },
   "outputs": [
    {
     "data": {
      "text/html": [
       "<table style=\"border-style: hidden; border-collapse: collapse;\" width=\"100%\"><tr><td style=\"border-top:hidden;border-bottom:hidden;\"><div align=\"center\" style=\"\"><svg height=\"228pt\" viewBox=\"0.00 0.00 144.19 227.60\" width=\"144pt\" xmlns=\"http://www.w3.org/2000/svg\" xmlns:xlink=\"http://www.w3.org/1999/xlink\">\n",
       "<g class=\"graph\" id=\"graph0\" transform=\"scale(1 1) rotate(0) translate(4 223.6)\">\n",
       "<title>G</title>\n",
       "<polygon fill=\"#ffffff\" points=\"-4,4 -4,-223.6 140.1915,-223.6 140.1915,4 -4,4\" stroke=\"transparent\"/>\n",
       "<!-- Smoking -->\n",
       "<g class=\"node\" id=\"node1\">\n",
       "<title>Smoking</title>\n",
       "<ellipse cx=\"51.9954\" cy=\"-162\" fill=\"#444444\" rx=\"51.9908\" ry=\"18\" stroke=\"#000000\"/>\n",
       "<text fill=\"#ffffff\" font-family=\"Times,serif\" font-size=\"14.00\" text-anchor=\"middle\" x=\"51.9954\" y=\"-158.3\">Smoking</text>\n",
       "</g>\n",
       "<!-- Tar -->\n",
       "<g class=\"node\" id=\"node2\">\n",
       "<title>Tar</title>\n",
       "<ellipse cx=\"64.9954\" cy=\"-90\" fill=\"#444444\" rx=\"27\" ry=\"18\" stroke=\"#000000\"/>\n",
       "<text fill=\"#ffffff\" font-family=\"Times,serif\" font-size=\"14.00\" text-anchor=\"middle\" x=\"64.9954\" y=\"-86.3\">Tar</text>\n",
       "</g>\n",
       "<!-- Smoking&#45;&gt;Tar -->\n",
       "<g class=\"edge\" id=\"edge1\">\n",
       "<title>Smoking-&gt;Tar</title>\n",
       "<path d=\"M55.2758,-143.8314C56.6876,-136.0125 58.3704,-126.6923 59.9358,-118.0221\" fill=\"none\" stroke=\"#000000\"/>\n",
       "<polygon fill=\"#000000\" points=\"63.4284,-118.3762 61.761,-107.9134 56.5398,-117.1324 63.4284,-118.3762\" stroke=\"#000000\"/>\n",
       "</g>\n",
       "<!-- Cancer -->\n",
       "<g class=\"node\" id=\"node3\">\n",
       "<title>Cancer</title>\n",
       "<ellipse cx=\"91.9954\" cy=\"-18\" fill=\"#444444\" rx=\"44.393\" ry=\"18\" stroke=\"#000000\"/>\n",
       "<text fill=\"#ffffff\" font-family=\"Times,serif\" font-size=\"14.00\" text-anchor=\"middle\" x=\"91.9954\" y=\"-14.3\">Cancer</text>\n",
       "</g>\n",
       "<!-- Tar&#45;&gt;Cancer -->\n",
       "<g class=\"edge\" id=\"edge4\">\n",
       "<title>Tar-&gt;Cancer</title>\n",
       "<path d=\"M71.6695,-72.2022C74.7201,-64.0675 78.4016,-54.2501 81.7886,-45.2181\" fill=\"none\" stroke=\"#000000\"/>\n",
       "<polygon fill=\"#000000\" points=\"85.0703,-46.4348 85.3044,-35.8425 78.516,-43.9769 85.0703,-46.4348\" stroke=\"#000000\"/>\n",
       "</g>\n",
       "<!-- Genotype -->\n",
       "<g class=\"node\" id=\"node4\">\n",
       "<title>Genotype</title>\n",
       "<ellipse cx=\"91.9954\" cy=\"-217.8\" fill=\"#ff0000\" rx=\"1.8\" ry=\"1.8\" stroke=\"#000000\"/>\n",
       "</g>\n",
       "<!-- Genotype&#45;&gt;Smoking -->\n",
       "<g class=\"edge\" id=\"edge2\">\n",
       "<title>Genotype-&gt;Smoking</title>\n",
       "<path d=\"M90.6645,-215.9434C87.4357,-211.4392 78.8422,-199.4513 70.5743,-187.9176\" fill=\"none\" stroke=\"#000000\" stroke-dasharray=\"5,2\"/>\n",
       "<polygon fill=\"#000000\" points=\"73.3637,-185.8013 64.6929,-179.713 67.6744,-189.8796 73.3637,-185.8013\" stroke=\"#000000\"/>\n",
       "</g>\n",
       "<!-- Genotype&#45;&gt;Cancer -->\n",
       "<g class=\"edge\" id=\"edge3\">\n",
       "<title>Genotype-&gt;Cancer</title>\n",
       "<path d=\"M93.2894,-216.1993C97.2214,-211.2189 109.0032,-195.4065 112.9954,-180 124.9351,-133.923 112.193,-78.6316 102.0003,-46.0129\" fill=\"none\" stroke=\"#000000\" stroke-dasharray=\"5,2\"/>\n",
       "<polygon fill=\"#000000\" points=\"105.2466,-44.6789 98.8151,-36.2595 98.5925,-46.852 105.2466,-44.6789\" stroke=\"#000000\"/>\n",
       "</g>\n",
       "</g>\n",
       "</svg></div></td><td style=\"border-top:hidden;border-bottom:hidden;\"><div align=\"center\" style=\"\">$$\\begin{equation}P( Cancer \\mid \\hookrightarrow Smoking) = \\sum_{Tar}{P\\left(Tar\\mid Smoking\\right) \\cdot \\left(\\sum_{Smoking'}{P\\left(Cancer\\mid Smoking',Tar\\right) \\cdot P\\left(Smoking'\\right)}\\right)}\\end{equation}$$</div></td><td style=\"border-top:hidden;border-bottom:hidden;\"><div align=\"center\" style=\"\"><table>\n",
       "<tr style='background-color:#AAAAAA'><th colspan='2'><center>Cancer</center></th></tr>\n",
       "<tr><th style='background-color:#BBBBBB'><center>0</center></th><th style='background-color:#BBBBBB'><center>1</center></th></tr>\n",
       "<tr><td style='background-color:#99e464;text-align:right;'>0.7900</td><td style='background-color:#e49964;text-align:right;'>0.2100</td></tr>\n",
       "</table></div></td></tr><tr><td style=\"border-top:hidden;border-bottom:hidden;\"><div align=\"center\"><small>Causal Model</small></div></td><td style=\"border-top:hidden;border-bottom:hidden;\"><div align=\"center\"><small>Explanation : frontdoor ['Tar'] found.</small></div></td><td style=\"border-top:hidden;border-bottom:hidden;\"><div align=\"center\"><small>Impact : $P( Cancer \\mid \\hookrightarrow Smoking=1)$</small></div></td></tr></table>"
      ],
      "text/plain": [
       "<IPython.core.display.HTML object>"
      ]
     },
     "metadata": {},
     "output_type": "display_data"
    }
   ],
   "source": [
    "modele4 = csl.CausalModel(obs2, [(\"Genotype\", [\"Smoking\",\"Cancer\"])])\n",
    "\n",
    "cslnb.showCausalImpact(modele4, \"Cancer\", \"Smoking\",values={\"Smoking\":1})\n"
   ]
  },
  {
   "cell_type": "markdown",
   "metadata": {},
   "source": [
    "In this model, we are, again, able to calculate the causal impact of Smoking on Cancer thanks to the verification of the Frontdoor criterion by the Tar relatively to the couple (Smoking, Cancer)"
   ]
  },
  {
   "cell_type": "code",
   "execution_count": 8,
   "metadata": {
    "ExecuteTime": {
     "end_time": "2019-02-21T17:20:26.914405Z",
     "start_time": "2019-02-21T17:20:26.904668Z"
    }
   },
   "outputs": [
    {
     "data": {
      "text/html": [
       "<table>\n",
       "<tr><th colspan='1'></th><th colspan='2' style='background-color:#AAAAAA'><center>Cancer</center></th></tr>\n",
       "<tr><th style='background-color:#AAAAAA'><center>Smoking</center></th><th style='background-color:#BBBBBB'><center>0</center></th><th style='background-color:#BBBBBB'><center>1</center></th></tr>\n",
       "<tr><th style='background-color:#BBBBBB'><center>0</center></th><td style='background-color:#97e664;text-align:right;'>0.8100</td><td style='background-color:#e69764;text-align:right;'>0.1900</td></tr>\n",
       "<tr><th style='background-color:#BBBBBB'><center>1</center></th><td style='background-color:#99e464;text-align:right;'>0.7900</td><td style='background-color:#e49964;text-align:right;'>0.2100</td></tr>\n",
       "</table>"
      ],
      "text/plain": [
       "(gum::Potential<double>@0x5587593e1600) <Cancer:0|Smoking:0> :: 0.81 /<Cancer:1|Smoking:0> :: 0.19 /<Cancer:0|Smoking:1> :: 0.79 /<Cancer:1|Smoking:1> :: 0.21"
      ]
     },
     "execution_count": 8,
     "metadata": {},
     "output_type": "execute_result"
    }
   ],
   "source": [
    "# just check P(Cancer|do(smoking)) in the bn `obs2`\n",
    "((obs2.cpt(\"Cancer\")*obs2.cpt(\"Smoking\")).margSumOut([\"Smoking\"])*obs2.cpt(\"Tar\")).margSumOut(['Tar']).putFirst(\"Cancer\")\n"
   ]
  },
  {
   "cell_type": "markdown",
   "metadata": {},
   "source": [
    "# Other causal impacts for this last model "
   ]
  },
  {
   "cell_type": "code",
   "execution_count": 9,
   "metadata": {
    "ExecuteTime": {
     "end_time": "2019-02-21T17:20:29.147070Z",
     "start_time": "2019-02-21T17:20:26.916346Z"
    }
   },
   "outputs": [
    {
     "data": {
      "text/html": [
       "<table style=\"border-style: hidden; border-collapse: collapse;\" width=\"100%\"><tr><td style=\"border-top:hidden;border-bottom:hidden;\"><div align=\"center\" style=\"\"><svg height=\"228pt\" viewBox=\"0.00 0.00 144.19 227.60\" width=\"144pt\" xmlns=\"http://www.w3.org/2000/svg\" xmlns:xlink=\"http://www.w3.org/1999/xlink\">\n",
       "<g class=\"graph\" id=\"graph0\" transform=\"scale(1 1) rotate(0) translate(4 223.6)\">\n",
       "<title>G</title>\n",
       "<polygon fill=\"#ffffff\" points=\"-4,4 -4,-223.6 140.1915,-223.6 140.1915,4 -4,4\" stroke=\"transparent\"/>\n",
       "<!-- Smoking -->\n",
       "<g class=\"node\" id=\"node1\">\n",
       "<title>Smoking</title>\n",
       "<ellipse cx=\"51.9954\" cy=\"-162\" fill=\"#444444\" rx=\"51.9908\" ry=\"18\" stroke=\"#000000\"/>\n",
       "<text fill=\"#ffffff\" font-family=\"Times,serif\" font-size=\"14.00\" text-anchor=\"middle\" x=\"51.9954\" y=\"-158.3\">Smoking</text>\n",
       "</g>\n",
       "<!-- Tar -->\n",
       "<g class=\"node\" id=\"node2\">\n",
       "<title>Tar</title>\n",
       "<ellipse cx=\"64.9954\" cy=\"-90\" fill=\"#444444\" rx=\"27\" ry=\"18\" stroke=\"#000000\"/>\n",
       "<text fill=\"#ffffff\" font-family=\"Times,serif\" font-size=\"14.00\" text-anchor=\"middle\" x=\"64.9954\" y=\"-86.3\">Tar</text>\n",
       "</g>\n",
       "<!-- Smoking&#45;&gt;Tar -->\n",
       "<g class=\"edge\" id=\"edge1\">\n",
       "<title>Smoking-&gt;Tar</title>\n",
       "<path d=\"M55.2758,-143.8314C56.6876,-136.0125 58.3704,-126.6923 59.9358,-118.0221\" fill=\"none\" stroke=\"#000000\"/>\n",
       "<polygon fill=\"#000000\" points=\"63.4284,-118.3762 61.761,-107.9134 56.5398,-117.1324 63.4284,-118.3762\" stroke=\"#000000\"/>\n",
       "</g>\n",
       "<!-- Cancer -->\n",
       "<g class=\"node\" id=\"node3\">\n",
       "<title>Cancer</title>\n",
       "<ellipse cx=\"91.9954\" cy=\"-18\" fill=\"#444444\" rx=\"44.393\" ry=\"18\" stroke=\"#000000\"/>\n",
       "<text fill=\"#ffffff\" font-family=\"Times,serif\" font-size=\"14.00\" text-anchor=\"middle\" x=\"91.9954\" y=\"-14.3\">Cancer</text>\n",
       "</g>\n",
       "<!-- Tar&#45;&gt;Cancer -->\n",
       "<g class=\"edge\" id=\"edge4\">\n",
       "<title>Tar-&gt;Cancer</title>\n",
       "<path d=\"M71.6695,-72.2022C74.7201,-64.0675 78.4016,-54.2501 81.7886,-45.2181\" fill=\"none\" stroke=\"#000000\"/>\n",
       "<polygon fill=\"#000000\" points=\"85.0703,-46.4348 85.3044,-35.8425 78.516,-43.9769 85.0703,-46.4348\" stroke=\"#000000\"/>\n",
       "</g>\n",
       "<!-- Genotype -->\n",
       "<g class=\"node\" id=\"node4\">\n",
       "<title>Genotype</title>\n",
       "<ellipse cx=\"91.9954\" cy=\"-217.8\" fill=\"#ff0000\" rx=\"1.8\" ry=\"1.8\" stroke=\"#000000\"/>\n",
       "</g>\n",
       "<!-- Genotype&#45;&gt;Smoking -->\n",
       "<g class=\"edge\" id=\"edge2\">\n",
       "<title>Genotype-&gt;Smoking</title>\n",
       "<path d=\"M90.6645,-215.9434C87.4357,-211.4392 78.8422,-199.4513 70.5743,-187.9176\" fill=\"none\" stroke=\"#000000\" stroke-dasharray=\"5,2\"/>\n",
       "<polygon fill=\"#000000\" points=\"73.3637,-185.8013 64.6929,-179.713 67.6744,-189.8796 73.3637,-185.8013\" stroke=\"#000000\"/>\n",
       "</g>\n",
       "<!-- Genotype&#45;&gt;Cancer -->\n",
       "<g class=\"edge\" id=\"edge3\">\n",
       "<title>Genotype-&gt;Cancer</title>\n",
       "<path d=\"M93.2894,-216.1993C97.2214,-211.2189 109.0032,-195.4065 112.9954,-180 124.9351,-133.923 112.193,-78.6316 102.0003,-46.0129\" fill=\"none\" stroke=\"#000000\" stroke-dasharray=\"5,2\"/>\n",
       "<polygon fill=\"#000000\" points=\"105.2466,-44.6789 98.8151,-36.2595 98.5925,-46.852 105.2466,-44.6789\" stroke=\"#000000\"/>\n",
       "</g>\n",
       "</g>\n",
       "</svg></div></td><td style=\"border-top:hidden;border-bottom:hidden;\"><div align=\"center\" style=\"\">$$\\begin{equation}P( Smoking \\mid \\hookrightarrow Cancer, Tar) = P\\left(Smoking\\mid Tar\\right)\\end{equation}$$</div></td><td style=\"border-top:hidden;border-bottom:hidden;\"><div align=\"center\" style=\"\"><table>\n",
       "<tr style='background-color:#AAAAAA'><th colspan='2'><center>Smoking</center></th></tr>\n",
       "<tr><th style='background-color:#BBBBBB'><center>0</center></th><th style='background-color:#BBBBBB'><center>1</center></th></tr>\n",
       "<tr><td style='background-color:#d4a964;text-align:right;'>0.3333</td><td style='background-color:#a9d464;text-align:right;'>0.6667</td></tr>\n",
       "</table></div></td></tr><tr><td style=\"border-top:hidden;border-bottom:hidden;\"><div align=\"center\"><small>Causal Model</small></div></td><td style=\"border-top:hidden;border-bottom:hidden;\"><div align=\"center\"><small>Explanation : No causal effect of X on Y, because they are d-separated (conditioning on the observed variables if any).</small></div></td><td style=\"border-top:hidden;border-bottom:hidden;\"><div align=\"center\"><small>Impact : $P( Smoking \\mid \\hookrightarrow Cancer=1, Tar=1)$</small></div></td></tr></table>"
      ],
      "text/plain": [
       "<IPython.core.display.HTML object>"
      ]
     },
     "metadata": {},
     "output_type": "display_data"
    }
   ],
   "source": [
    "cslnb.showCausalImpact(modele4, \"Smoking\", doing=\"Cancer\",knowing={\"Tar\"}, values={\"Cancer\":1,\"Tar\":1})\n"
   ]
  },
  {
   "cell_type": "code",
   "execution_count": 10,
   "metadata": {
    "ExecuteTime": {
     "end_time": "2019-02-21T17:20:31.557884Z",
     "start_time": "2019-02-21T17:20:29.150601Z"
    }
   },
   "outputs": [
    {
     "data": {
      "text/html": [
       "<table style=\"border-style: hidden; border-collapse: collapse;\" width=\"100%\"><tr><td style=\"border-top:hidden;border-bottom:hidden;\"><div align=\"center\" style=\"\"><svg height=\"228pt\" viewBox=\"0.00 0.00 144.19 227.60\" width=\"144pt\" xmlns=\"http://www.w3.org/2000/svg\" xmlns:xlink=\"http://www.w3.org/1999/xlink\">\n",
       "<g class=\"graph\" id=\"graph0\" transform=\"scale(1 1) rotate(0) translate(4 223.6)\">\n",
       "<title>G</title>\n",
       "<polygon fill=\"#ffffff\" points=\"-4,4 -4,-223.6 140.1915,-223.6 140.1915,4 -4,4\" stroke=\"transparent\"/>\n",
       "<!-- Smoking -->\n",
       "<g class=\"node\" id=\"node1\">\n",
       "<title>Smoking</title>\n",
       "<ellipse cx=\"51.9954\" cy=\"-162\" fill=\"#444444\" rx=\"51.9908\" ry=\"18\" stroke=\"#000000\"/>\n",
       "<text fill=\"#ffffff\" font-family=\"Times,serif\" font-size=\"14.00\" text-anchor=\"middle\" x=\"51.9954\" y=\"-158.3\">Smoking</text>\n",
       "</g>\n",
       "<!-- Tar -->\n",
       "<g class=\"node\" id=\"node2\">\n",
       "<title>Tar</title>\n",
       "<ellipse cx=\"64.9954\" cy=\"-90\" fill=\"#444444\" rx=\"27\" ry=\"18\" stroke=\"#000000\"/>\n",
       "<text fill=\"#ffffff\" font-family=\"Times,serif\" font-size=\"14.00\" text-anchor=\"middle\" x=\"64.9954\" y=\"-86.3\">Tar</text>\n",
       "</g>\n",
       "<!-- Smoking&#45;&gt;Tar -->\n",
       "<g class=\"edge\" id=\"edge1\">\n",
       "<title>Smoking-&gt;Tar</title>\n",
       "<path d=\"M55.2758,-143.8314C56.6876,-136.0125 58.3704,-126.6923 59.9358,-118.0221\" fill=\"none\" stroke=\"#000000\"/>\n",
       "<polygon fill=\"#000000\" points=\"63.4284,-118.3762 61.761,-107.9134 56.5398,-117.1324 63.4284,-118.3762\" stroke=\"#000000\"/>\n",
       "</g>\n",
       "<!-- Cancer -->\n",
       "<g class=\"node\" id=\"node3\">\n",
       "<title>Cancer</title>\n",
       "<ellipse cx=\"91.9954\" cy=\"-18\" fill=\"#444444\" rx=\"44.393\" ry=\"18\" stroke=\"#000000\"/>\n",
       "<text fill=\"#ffffff\" font-family=\"Times,serif\" font-size=\"14.00\" text-anchor=\"middle\" x=\"91.9954\" y=\"-14.3\">Cancer</text>\n",
       "</g>\n",
       "<!-- Tar&#45;&gt;Cancer -->\n",
       "<g class=\"edge\" id=\"edge4\">\n",
       "<title>Tar-&gt;Cancer</title>\n",
       "<path d=\"M71.6695,-72.2022C74.7201,-64.0675 78.4016,-54.2501 81.7886,-45.2181\" fill=\"none\" stroke=\"#000000\"/>\n",
       "<polygon fill=\"#000000\" points=\"85.0703,-46.4348 85.3044,-35.8425 78.516,-43.9769 85.0703,-46.4348\" stroke=\"#000000\"/>\n",
       "</g>\n",
       "<!-- Genotype -->\n",
       "<g class=\"node\" id=\"node4\">\n",
       "<title>Genotype</title>\n",
       "<ellipse cx=\"91.9954\" cy=\"-217.8\" fill=\"#ff0000\" rx=\"1.8\" ry=\"1.8\" stroke=\"#000000\"/>\n",
       "</g>\n",
       "<!-- Genotype&#45;&gt;Smoking -->\n",
       "<g class=\"edge\" id=\"edge2\">\n",
       "<title>Genotype-&gt;Smoking</title>\n",
       "<path d=\"M90.6645,-215.9434C87.4357,-211.4392 78.8422,-199.4513 70.5743,-187.9176\" fill=\"none\" stroke=\"#000000\" stroke-dasharray=\"5,2\"/>\n",
       "<polygon fill=\"#000000\" points=\"73.3637,-185.8013 64.6929,-179.713 67.6744,-189.8796 73.3637,-185.8013\" stroke=\"#000000\"/>\n",
       "</g>\n",
       "<!-- Genotype&#45;&gt;Cancer -->\n",
       "<g class=\"edge\" id=\"edge3\">\n",
       "<title>Genotype-&gt;Cancer</title>\n",
       "<path d=\"M93.2894,-216.1993C97.2214,-211.2189 109.0032,-195.4065 112.9954,-180 124.9351,-133.923 112.193,-78.6316 102.0003,-46.0129\" fill=\"none\" stroke=\"#000000\" stroke-dasharray=\"5,2\"/>\n",
       "<polygon fill=\"#000000\" points=\"105.2466,-44.6789 98.8151,-36.2595 98.5925,-46.852 105.2466,-44.6789\" stroke=\"#000000\"/>\n",
       "</g>\n",
       "</g>\n",
       "</svg></div></td><td style=\"border-top:hidden;border-bottom:hidden;\"><div align=\"center\" style=\"\">$$\\begin{equation}P( Smoking \\mid \\hookrightarrow Cancer) = P\\left(Smoking\\right)\\end{equation}$$</div></td><td style=\"border-top:hidden;border-bottom:hidden;\"><div align=\"center\" style=\"\"><table>\n",
       "<tr style='background-color:#AAAAAA'><th colspan='2'><center>Smoking</center></th></tr>\n",
       "<tr><th style='background-color:#BBBBBB'><center>0</center></th><th style='background-color:#BBBBBB'><center>1</center></th></tr>\n",
       "<tr><td style='background-color:#b2cb64;text-align:right;'>0.6000</td><td style='background-color:#cbb264;text-align:right;'>0.4000</td></tr>\n",
       "</table></div></td></tr><tr><td style=\"border-top:hidden;border-bottom:hidden;\"><div align=\"center\"><small>Causal Model</small></div></td><td style=\"border-top:hidden;border-bottom:hidden;\"><div align=\"center\"><small>Explanation : Do-calculus computations</small></div></td><td style=\"border-top:hidden;border-bottom:hidden;\"><div align=\"center\"><small>Impact : $P( Smoking \\mid \\hookrightarrow Cancer=1)$</small></div></td></tr></table>"
      ],
      "text/plain": [
       "<IPython.core.display.HTML object>"
      ]
     },
     "metadata": {},
     "output_type": "display_data"
    }
   ],
   "source": [
    "cslnb.showCausalImpact(modele4, \"Smoking\", doing=\"Cancer\",values={\"Cancer\":1})\n"
   ]
  },
  {
   "cell_type": "code",
   "execution_count": 11,
   "metadata": {
    "ExecuteTime": {
     "end_time": "2019-02-21T17:20:33.817237Z",
     "start_time": "2019-02-21T17:20:31.561256Z"
    }
   },
   "outputs": [
    {
     "data": {
      "text/html": [
       "<table style=\"border-style: hidden; border-collapse: collapse;\" width=\"100%\"><tr><td style=\"border-top:hidden;border-bottom:hidden;\"><div align=\"center\" style=\"\"><svg height=\"228pt\" viewBox=\"0.00 0.00 144.19 227.60\" width=\"144pt\" xmlns=\"http://www.w3.org/2000/svg\" xmlns:xlink=\"http://www.w3.org/1999/xlink\">\n",
       "<g class=\"graph\" id=\"graph0\" transform=\"scale(1 1) rotate(0) translate(4 223.6)\">\n",
       "<title>G</title>\n",
       "<polygon fill=\"#ffffff\" points=\"-4,4 -4,-223.6 140.1915,-223.6 140.1915,4 -4,4\" stroke=\"transparent\"/>\n",
       "<!-- Smoking -->\n",
       "<g class=\"node\" id=\"node1\">\n",
       "<title>Smoking</title>\n",
       "<ellipse cx=\"51.9954\" cy=\"-162\" fill=\"#444444\" rx=\"51.9908\" ry=\"18\" stroke=\"#000000\"/>\n",
       "<text fill=\"#ffffff\" font-family=\"Times,serif\" font-size=\"14.00\" text-anchor=\"middle\" x=\"51.9954\" y=\"-158.3\">Smoking</text>\n",
       "</g>\n",
       "<!-- Tar -->\n",
       "<g class=\"node\" id=\"node2\">\n",
       "<title>Tar</title>\n",
       "<ellipse cx=\"64.9954\" cy=\"-90\" fill=\"#444444\" rx=\"27\" ry=\"18\" stroke=\"#000000\"/>\n",
       "<text fill=\"#ffffff\" font-family=\"Times,serif\" font-size=\"14.00\" text-anchor=\"middle\" x=\"64.9954\" y=\"-86.3\">Tar</text>\n",
       "</g>\n",
       "<!-- Smoking&#45;&gt;Tar -->\n",
       "<g class=\"edge\" id=\"edge1\">\n",
       "<title>Smoking-&gt;Tar</title>\n",
       "<path d=\"M55.2758,-143.8314C56.6876,-136.0125 58.3704,-126.6923 59.9358,-118.0221\" fill=\"none\" stroke=\"#000000\"/>\n",
       "<polygon fill=\"#000000\" points=\"63.4284,-118.3762 61.761,-107.9134 56.5398,-117.1324 63.4284,-118.3762\" stroke=\"#000000\"/>\n",
       "</g>\n",
       "<!-- Cancer -->\n",
       "<g class=\"node\" id=\"node3\">\n",
       "<title>Cancer</title>\n",
       "<ellipse cx=\"91.9954\" cy=\"-18\" fill=\"#444444\" rx=\"44.393\" ry=\"18\" stroke=\"#000000\"/>\n",
       "<text fill=\"#ffffff\" font-family=\"Times,serif\" font-size=\"14.00\" text-anchor=\"middle\" x=\"91.9954\" y=\"-14.3\">Cancer</text>\n",
       "</g>\n",
       "<!-- Tar&#45;&gt;Cancer -->\n",
       "<g class=\"edge\" id=\"edge4\">\n",
       "<title>Tar-&gt;Cancer</title>\n",
       "<path d=\"M71.6695,-72.2022C74.7201,-64.0675 78.4016,-54.2501 81.7886,-45.2181\" fill=\"none\" stroke=\"#000000\"/>\n",
       "<polygon fill=\"#000000\" points=\"85.0703,-46.4348 85.3044,-35.8425 78.516,-43.9769 85.0703,-46.4348\" stroke=\"#000000\"/>\n",
       "</g>\n",
       "<!-- Genotype -->\n",
       "<g class=\"node\" id=\"node4\">\n",
       "<title>Genotype</title>\n",
       "<ellipse cx=\"91.9954\" cy=\"-217.8\" fill=\"#ff0000\" rx=\"1.8\" ry=\"1.8\" stroke=\"#000000\"/>\n",
       "</g>\n",
       "<!-- Genotype&#45;&gt;Smoking -->\n",
       "<g class=\"edge\" id=\"edge2\">\n",
       "<title>Genotype-&gt;Smoking</title>\n",
       "<path d=\"M90.6645,-215.9434C87.4357,-211.4392 78.8422,-199.4513 70.5743,-187.9176\" fill=\"none\" stroke=\"#000000\" stroke-dasharray=\"5,2\"/>\n",
       "<polygon fill=\"#000000\" points=\"73.3637,-185.8013 64.6929,-179.713 67.6744,-189.8796 73.3637,-185.8013\" stroke=\"#000000\"/>\n",
       "</g>\n",
       "<!-- Genotype&#45;&gt;Cancer -->\n",
       "<g class=\"edge\" id=\"edge3\">\n",
       "<title>Genotype-&gt;Cancer</title>\n",
       "<path d=\"M93.2894,-216.1993C97.2214,-211.2189 109.0032,-195.4065 112.9954,-180 124.9351,-133.923 112.193,-78.6316 102.0003,-46.0129\" fill=\"none\" stroke=\"#000000\" stroke-dasharray=\"5,2\"/>\n",
       "<polygon fill=\"#000000\" points=\"105.2466,-44.6789 98.8151,-36.2595 98.5925,-46.852 105.2466,-44.6789\" stroke=\"#000000\"/>\n",
       "</g>\n",
       "</g>\n",
       "</svg></div></td><td style=\"border-top:hidden;border-bottom:hidden;\"><div align=\"center\" style=\"\">$$\\begin{equation}P( Smoking \\mid \\hookrightarrow Cancer, \\hookrightarrow Tar) = P\\left(Smoking\\right)\\end{equation}$$</div></td><td style=\"border-top:hidden;border-bottom:hidden;\"><div align=\"center\" style=\"\"><table>\n",
       "<tr style='background-color:#AAAAAA'><th colspan='2'><center>Smoking</center></th></tr>\n",
       "<tr><th style='background-color:#BBBBBB'><center>0</center></th><th style='background-color:#BBBBBB'><center>1</center></th></tr>\n",
       "<tr><td style='background-color:#b2cb64;text-align:right;'>0.6000</td><td style='background-color:#cbb264;text-align:right;'>0.4000</td></tr>\n",
       "</table></div></td></tr><tr><td style=\"border-top:hidden;border-bottom:hidden;\"><div align=\"center\"><small>Causal Model</small></div></td><td style=\"border-top:hidden;border-bottom:hidden;\"><div align=\"center\"><small>Explanation : Do-calculus computations</small></div></td><td style=\"border-top:hidden;border-bottom:hidden;\"><div align=\"center\"><small>Impact : $P( Smoking \\mid \\hookrightarrow Cancer=1, \\hookrightarrow Tar=1)$</small></div></td></tr></table>"
      ],
      "text/plain": [
       "<IPython.core.display.HTML object>"
      ]
     },
     "metadata": {},
     "output_type": "display_data"
    }
   ],
   "source": [
    "cslnb.showCausalImpact(modele4, \"Smoking\", doing={\"Cancer\",\"Tar\"},values={\"Cancer\":1,\"Tar\":1})\n"
   ]
  },
  {
   "cell_type": "code",
   "execution_count": 12,
   "metadata": {
    "ExecuteTime": {
     "end_time": "2019-02-21T17:20:36.326515Z",
     "start_time": "2019-02-21T17:20:33.820958Z"
    }
   },
   "outputs": [
    {
     "data": {
      "text/html": [
       "<table style=\"border-style: hidden; border-collapse: collapse;\" width=\"100%\"><tr><td style=\"border-top:hidden;border-bottom:hidden;\"><div align=\"center\" style=\"\"><svg height=\"228pt\" viewBox=\"0.00 0.00 144.19 227.60\" width=\"144pt\" xmlns=\"http://www.w3.org/2000/svg\" xmlns:xlink=\"http://www.w3.org/1999/xlink\">\n",
       "<g class=\"graph\" id=\"graph0\" transform=\"scale(1 1) rotate(0) translate(4 223.6)\">\n",
       "<title>G</title>\n",
       "<polygon fill=\"#ffffff\" points=\"-4,4 -4,-223.6 140.1915,-223.6 140.1915,4 -4,4\" stroke=\"transparent\"/>\n",
       "<!-- Smoking -->\n",
       "<g class=\"node\" id=\"node1\">\n",
       "<title>Smoking</title>\n",
       "<ellipse cx=\"51.9954\" cy=\"-162\" fill=\"#444444\" rx=\"51.9908\" ry=\"18\" stroke=\"#000000\"/>\n",
       "<text fill=\"#ffffff\" font-family=\"Times,serif\" font-size=\"14.00\" text-anchor=\"middle\" x=\"51.9954\" y=\"-158.3\">Smoking</text>\n",
       "</g>\n",
       "<!-- Tar -->\n",
       "<g class=\"node\" id=\"node2\">\n",
       "<title>Tar</title>\n",
       "<ellipse cx=\"64.9954\" cy=\"-90\" fill=\"#444444\" rx=\"27\" ry=\"18\" stroke=\"#000000\"/>\n",
       "<text fill=\"#ffffff\" font-family=\"Times,serif\" font-size=\"14.00\" text-anchor=\"middle\" x=\"64.9954\" y=\"-86.3\">Tar</text>\n",
       "</g>\n",
       "<!-- Smoking&#45;&gt;Tar -->\n",
       "<g class=\"edge\" id=\"edge1\">\n",
       "<title>Smoking-&gt;Tar</title>\n",
       "<path d=\"M55.2758,-143.8314C56.6876,-136.0125 58.3704,-126.6923 59.9358,-118.0221\" fill=\"none\" stroke=\"#000000\"/>\n",
       "<polygon fill=\"#000000\" points=\"63.4284,-118.3762 61.761,-107.9134 56.5398,-117.1324 63.4284,-118.3762\" stroke=\"#000000\"/>\n",
       "</g>\n",
       "<!-- Cancer -->\n",
       "<g class=\"node\" id=\"node3\">\n",
       "<title>Cancer</title>\n",
       "<ellipse cx=\"91.9954\" cy=\"-18\" fill=\"#444444\" rx=\"44.393\" ry=\"18\" stroke=\"#000000\"/>\n",
       "<text fill=\"#ffffff\" font-family=\"Times,serif\" font-size=\"14.00\" text-anchor=\"middle\" x=\"91.9954\" y=\"-14.3\">Cancer</text>\n",
       "</g>\n",
       "<!-- Tar&#45;&gt;Cancer -->\n",
       "<g class=\"edge\" id=\"edge4\">\n",
       "<title>Tar-&gt;Cancer</title>\n",
       "<path d=\"M71.6695,-72.2022C74.7201,-64.0675 78.4016,-54.2501 81.7886,-45.2181\" fill=\"none\" stroke=\"#000000\"/>\n",
       "<polygon fill=\"#000000\" points=\"85.0703,-46.4348 85.3044,-35.8425 78.516,-43.9769 85.0703,-46.4348\" stroke=\"#000000\"/>\n",
       "</g>\n",
       "<!-- Genotype -->\n",
       "<g class=\"node\" id=\"node4\">\n",
       "<title>Genotype</title>\n",
       "<ellipse cx=\"91.9954\" cy=\"-217.8\" fill=\"#ff0000\" rx=\"1.8\" ry=\"1.8\" stroke=\"#000000\"/>\n",
       "</g>\n",
       "<!-- Genotype&#45;&gt;Smoking -->\n",
       "<g class=\"edge\" id=\"edge2\">\n",
       "<title>Genotype-&gt;Smoking</title>\n",
       "<path d=\"M90.6645,-215.9434C87.4357,-211.4392 78.8422,-199.4513 70.5743,-187.9176\" fill=\"none\" stroke=\"#000000\" stroke-dasharray=\"5,2\"/>\n",
       "<polygon fill=\"#000000\" points=\"73.3637,-185.8013 64.6929,-179.713 67.6744,-189.8796 73.3637,-185.8013\" stroke=\"#000000\"/>\n",
       "</g>\n",
       "<!-- Genotype&#45;&gt;Cancer -->\n",
       "<g class=\"edge\" id=\"edge3\">\n",
       "<title>Genotype-&gt;Cancer</title>\n",
       "<path d=\"M93.2894,-216.1993C97.2214,-211.2189 109.0032,-195.4065 112.9954,-180 124.9351,-133.923 112.193,-78.6316 102.0003,-46.0129\" fill=\"none\" stroke=\"#000000\" stroke-dasharray=\"5,2\"/>\n",
       "<polygon fill=\"#000000\" points=\"105.2466,-44.6789 98.8151,-36.2595 98.5925,-46.852 105.2466,-44.6789\" stroke=\"#000000\"/>\n",
       "</g>\n",
       "</g>\n",
       "</svg></div></td><td style=\"border-top:hidden;border-bottom:hidden;\"><div align=\"center\" style=\"\">$$\\begin{equation}P( Tar \\mid \\hookrightarrow Cancer, \\hookrightarrow Smoking) = P\\left(Tar\\mid Smoking\\right)\\end{equation}$$</div></td><td style=\"border-top:hidden;border-bottom:hidden;\"><div align=\"center\" style=\"\"><table>\n",
       "<tr style='background-color:#AAAAAA'><th colspan='2'><center>Tar</center></th></tr>\n",
       "<tr><th style='background-color:#BBBBBB'><center>0</center></th><th style='background-color:#BBBBBB'><center>1</center></th></tr>\n",
       "<tr><td style='background-color:#a5d864;text-align:right;'>0.7000</td><td style='background-color:#d8a564;text-align:right;'>0.3000</td></tr>\n",
       "</table></div></td></tr><tr><td style=\"border-top:hidden;border-bottom:hidden;\"><div align=\"center\"><small>Causal Model</small></div></td><td style=\"border-top:hidden;border-bottom:hidden;\"><div align=\"center\"><small>Explanation : Do-calculus computations</small></div></td><td style=\"border-top:hidden;border-bottom:hidden;\"><div align=\"center\"><small>Impact : $P( Tar \\mid \\hookrightarrow Cancer=1, \\hookrightarrow Smoking=1)$</small></div></td></tr></table>"
      ],
      "text/plain": [
       "<IPython.core.display.HTML object>"
      ]
     },
     "metadata": {},
     "output_type": "display_data"
    }
   ],
   "source": [
    "cslnb.showCausalImpact(modele4, \"Tar\", doing={\"Cancer\",\"Smoking\"},values={\"Cancer\":1,\"Smoking\":1})\n"
   ]
  }
 ],
 "metadata": {
  "anaconda-cloud": {},
  "hide_input": false,
  "kernelspec": {
   "display_name": "Python 3",
   "language": "python",
   "name": "python3"
  },
  "language_info": {
   "codemirror_mode": {
    "name": "ipython",
    "version": 3
   },
   "file_extension": ".py",
   "mimetype": "text/x-python",
   "name": "python",
   "nbconvert_exporter": "python",
   "pygments_lexer": "ipython3",
   "version": "3.7.2"
  },
  "toc": {
   "colors": {
    "hover_highlight": "#DAA520",
    "running_highlight": "#FF0000",
    "selected_highlight": "#FFD700"
   },
   "moveMenuLeft": true,
   "nav_menu": {
    "height": "31px",
    "width": "252px"
   },
   "navigate_menu": true,
   "number_sections": true,
   "sideBar": true,
   "threshold": 4,
   "toc_cell": true,
   "toc_section_display": "block",
   "toc_window_display": true,
   "widenNotebook": false
  }
 },
 "nbformat": 4,
 "nbformat_minor": 1
}
