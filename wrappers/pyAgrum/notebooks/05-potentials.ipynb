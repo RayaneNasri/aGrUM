{
 "cells": [
  {
   "cell_type": "code",
   "execution_count": 1,
   "metadata": {
    "collapsed": false,
    "deletable": true,
    "editable": true
   },
   "outputs": [],
   "source": [
    "import pyAgrum as gum\n",
    "import pyAgrum.lib.notebook as gnb\n",
    "\n",
    "a,b,c=[gum.LabelizedVariable(s,s,2) for s in \"abc\"]"
   ]
  },
  {
   "cell_type": "markdown",
   "metadata": {
    "deletable": true,
    "editable": true
   },
   "source": [
    "# potential algebra"
   ]
  },
  {
   "cell_type": "code",
   "execution_count": 2,
   "metadata": {
    "collapsed": false,
    "deletable": true,
    "editable": true
   },
   "outputs": [],
   "source": [
    "p1=gum.Potential().add(a).add(b).fillWith([1,2,3,4]).normalize()\n",
    "p2=gum.Potential().add(b).add(c).fillWith([4,5,2,3]).normalize()"
   ]
  },
  {
   "cell_type": "code",
   "execution_count": 3,
   "metadata": {
    "collapsed": false,
    "deletable": true,
    "editable": true
   },
   "outputs": [
    {
     "data": {
      "text/html": [
       "<table style=\"border-style: hidden; border-collapse: collapse;\" width=\"100%\"><tr><td style=\"border-top:hidden;border-bottom:hidden;\"><div align=\"center\"><table>\n",
       "<tr><th colspan='1'></th><th colspan='2' style='background-color:#AAAAAA'><center>a</center></th></tr>\n",
       "<tr><th style='background-color:#AAAAAA'><center>b</center></th><th style='background-color:#BBBBBB'><center>0</center></th><th style='background-color:#BBBBBB'><center>1</center></th></tr>\n",
       "<tr><th style='background-color:#BBBBBB'><center>0</center></th><td style='background-color:#f28b64;text-align:right;'>0.1000</td><td style='background-color:#e59864;text-align:right;'>0.2000</td></tr>\n",
       "<tr><th style='background-color:#BBBBBB'><center>1</center></th><td style='background-color:#d8a564;text-align:right;'>0.3000</td><td style='background-color:#cbb264;text-align:right;'>0.4000</td></tr>\n",
       "</table></div></td><td style=\"border-top:hidden;border-bottom:hidden;\"><div align=\"center\"><table>\n",
       "<tr><th colspan='1'></th><th colspan='2' style='background-color:#AAAAAA'><center>b</center></th></tr>\n",
       "<tr><th style='background-color:#AAAAAA'><center>c</center></th><th style='background-color:#BBBBBB'><center>0</center></th><th style='background-color:#BBBBBB'><center>1</center></th></tr>\n",
       "<tr><th style='background-color:#BBBBBB'><center>0</center></th><td style='background-color:#daa364;text-align:right;'>0.2857</td><td style='background-color:#d1ac64;text-align:right;'>0.3571</td></tr>\n",
       "<tr><th style='background-color:#BBBBBB'><center>1</center></th><td style='background-color:#ec9164;text-align:right;'>0.1429</td><td style='background-color:#e39a64;text-align:right;'>0.2143</td></tr>\n",
       "</table></div></td><td style=\"border-top:hidden;border-bottom:hidden;\"><div align=\"center\"><table>\n",
       "<tr><th colspan='2'></th><th colspan='2' style='background-color:#AAAAAA'><center>b</center></th></tr>\n",
       "<tr><th style='background-color:#AAAAAA'><center>c</center></th><th style='background-color:#AAAAAA'><center>a</center></th><th style='background-color:#BBBBBB'><center>0</center></th><th style='background-color:#BBBBBB'><center>1</center></th></tr>\n",
       "<tr><th style='background-color:#BBBBBB'><center>0</center></th><th style='background-color:#BBBBBB;' rowspan = '2'><center>0</center></th><td style='background-color:#cdb064;text-align:right;'>0.3857</td><td style='background-color:#aad364;text-align:right;'>0.6571</td></tr>\n",
       "<tr><th style='background-color:#BBBBBB'><center>1</center></th><td style='background-color:#df9e64;text-align:right;'>0.2429</td><td style='background-color:#bdc064;text-align:right;'>0.5143</td></tr>\n",
       "<tr><th style='background-color:#BBBBBB'><center>0</center></th><th style='background-color:#BBBBBB;' rowspan = '2'><center>1</center></th><td style='background-color:#c0bd64;text-align:right;'>0.4857</td><td style='background-color:#9edf64;text-align:right;'>0.7571</td></tr>\n",
       "<tr><th style='background-color:#BBBBBB'><center>1</center></th><td style='background-color:#d3aa64;text-align:right;'>0.3429</td><td style='background-color:#b0cd64;text-align:right;'>0.6143</td></tr>\n",
       "</table></div></td></tr><tr><td style=\"border-top:hidden;border-bottom:hidden;\"><div align=\"center\"><small>p1</small></div></td><td style=\"border-top:hidden;border-bottom:hidden;\"><div align=\"center\"><small>p2</small></div></td><td style=\"border-top:hidden;border-bottom:hidden;\"><div align=\"center\"><small>p1+p2</small></div></td></tr></table>"
      ],
      "text/plain": [
       "<IPython.core.display.HTML object>"
      ]
     },
     "metadata": {},
     "output_type": "display_data"
    }
   ],
   "source": [
    "gnb.sideBySide(p1,p2,p1+p2,\n",
    "              captions=['p1','p2','p1+p2'])"
   ]
  },
  {
   "cell_type": "code",
   "execution_count": 4,
   "metadata": {
    "collapsed": false,
    "deletable": true,
    "editable": true
   },
   "outputs": [
    {
     "data": {
      "text/html": [
       "<table><tr><th colspan='2'></th><th colspan='2' style='background-color:#AAAAAA'><center>c</center></th></tr><tr><th style='background-color:#AAAAAA'><center>a</center></th><th style='background-color:#AAAAAA'><center>b</center></th><th style='background-color:#BBBBBB'><center>0</center></th><th style='background-color:#BBBBBB'><center>1</center></th></tr><tr><th style='background-color:#BBBBBB'><center>0</center></th><th style='background-color:#BBBBBB;' rowspan = '2'><center>0</center></th><td style='background-color:#cfae64;text-align:right;'>0.3699</td><td style='background-color:#d5a864;text-align:right;'>0.3208</td></tr><tr><th style='background-color:#BBBBBB'><center>1</center></th><td style='background-color:#ccb164;text-align:right;'>0.3908</td><td style='background-color:#d1ac64;text-align:right;'>0.3582</td></tr><tr><th style='background-color:#BBBBBB'><center>0</center></th><th style='background-color:#BBBBBB;' rowspan = '2'><center>1</center></th><td style='background-color:#aecf64;text-align:right;'>0.6301</td><td style='background-color:#a8d564;text-align:right;'>0.6792</td></tr><tr><th style='background-color:#BBBBBB'><center>1</center></th><td style='background-color:#b1cc64;text-align:right;'>0.6092</td><td style='background-color:#acd164;text-align:right;'>0.6418</td></tr></table>"
      ],
      "text/plain": [
       "<IPython.core.display.HTML object>"
      ]
     },
     "execution_count": 4,
     "metadata": {},
     "output_type": "execute_result"
    }
   ],
   "source": [
    "p3=p1+p2 \n",
    "gnb.showPotential(p3/p3.margSumOut([\"b\"]))"
   ]
  },
  {
   "cell_type": "code",
   "execution_count": 5,
   "metadata": {
    "collapsed": false,
    "deletable": true,
    "editable": true
   },
   "outputs": [
    {
     "data": {
      "text/html": [
       "<table style=\"border-style: hidden; border-collapse: collapse;\" width=\"100%\"><tr><td style=\"border-top:hidden;border-bottom:hidden;\"><div align=\"center\"><table>\n",
       "<tr><th colspan='2'></th><th colspan='2' style='background-color:#AAAAAA'><center>b</center></th></tr>\n",
       "<tr><th style='background-color:#AAAAAA'><center>c</center></th><th style='background-color:#AAAAAA'><center>a</center></th><th style='background-color:#BBBBBB'><center>0</center></th><th style='background-color:#BBBBBB'><center>1</center></th></tr>\n",
       "<tr><th style='background-color:#BBBBBB'><center>0</center></th><th style='background-color:#BBBBBB;' rowspan = '2'><center>0</center></th><td style='background-color:#cdb064;text-align:right;'>0.3857</td><td style='background-color:#aad364;text-align:right;'>0.6571</td></tr>\n",
       "<tr><th style='background-color:#BBBBBB'><center>1</center></th><td style='background-color:#df9e64;text-align:right;'>0.2429</td><td style='background-color:#bdc064;text-align:right;'>0.5143</td></tr>\n",
       "<tr><th style='background-color:#BBBBBB'><center>0</center></th><th style='background-color:#BBBBBB;' rowspan = '2'><center>1</center></th><td style='background-color:#c0bd64;text-align:right;'>0.4857</td><td style='background-color:#9edf64;text-align:right;'>0.7571</td></tr>\n",
       "<tr><th style='background-color:#BBBBBB'><center>1</center></th><td style='background-color:#d3aa64;text-align:right;'>0.3429</td><td style='background-color:#b0cd64;text-align:right;'>0.6143</td></tr>\n",
       "</table></div></td><td style=\"border-top:hidden;border-bottom:hidden;\"><div align=\"center\"><table>\n",
       "<tr><th colspan='2'></th><th colspan='2' style='background-color:#AAAAAA'><center>b</center></th></tr>\n",
       "<tr><th style='background-color:#AAAAAA'><center>c</center></th><th style='background-color:#AAAAAA'><center>a</center></th><th style='background-color:#BBBBBB'><center>0</center></th><th style='background-color:#BBBBBB'><center>1</center></th></tr>\n",
       "<tr><th style='background-color:#BBBBBB'><center>0</center></th><th style='background-color:#BBBBBB;' rowspan = '2'><center>0</center></th><td style='text-align:right;'>1.3857</td><td style='text-align:right;'>1.6571</td></tr>\n",
       "<tr><th style='background-color:#BBBBBB'><center>1</center></th><td style='text-align:right;'>1.2429</td><td style='text-align:right;'>1.5143</td></tr>\n",
       "<tr><th style='background-color:#BBBBBB'><center>0</center></th><th style='background-color:#BBBBBB;' rowspan = '2'><center>1</center></th><td style='text-align:right;'>1.4857</td><td style='text-align:right;'>1.7571</td></tr>\n",
       "<tr><th style='background-color:#BBBBBB'><center>1</center></th><td style='text-align:right;'>1.3429</td><td style='text-align:right;'>1.6143</td></tr>\n",
       "</table></div></td></tr><tr><td style=\"border-top:hidden;border-bottom:hidden;\"><div align=\"center\"><small>p3</small></div></td><td style=\"border-top:hidden;border-bottom:hidden;\"><div align=\"center\"><small>p4</small></div></td></tr></table>"
      ],
      "text/plain": [
       "<IPython.core.display.HTML object>"
      ]
     },
     "metadata": {},
     "output_type": "display_data"
    }
   ],
   "source": [
    "p4=gum.Potential()+p3\n",
    "gnb.sideBySide(p3,p4,\n",
    "              captions=['p3','p4'])\n"
   ]
  },
  {
   "cell_type": "markdown",
   "metadata": {
    "deletable": true,
    "editable": true
   },
   "source": [
    "# bayes formula"
   ]
  },
  {
   "cell_type": "code",
   "execution_count": 6,
   "metadata": {
    "collapsed": false,
    "deletable": true,
    "editable": true
   },
   "outputs": [
    {
     "data": {
      "text/html": [
       "<svg height=\"116pt\" viewBox=\"0.00 0.00 134.00 116.00\" width=\"134pt\" xmlns=\"http://www.w3.org/2000/svg\" xmlns:xlink=\"http://www.w3.org/1999/xlink\">\n",
       "<g class=\"graph\" id=\"graph0\" transform=\"scale(1 1) rotate(0) translate(4 112)\">\n",
       "<title>G</title>\n",
       "<polygon fill=\"white\" points=\"-4,4 -4,-112 130,-112 130,4 -4,4\" stroke=\"none\"/>\n",
       "<!-- a -->\n",
       "<g class=\"node\" id=\"node1\"><title>a</title>\n",
       "<g id=\"a_node1\"><a xlink:title=\"(0) a\">\n",
       "<ellipse cx=\"27\" cy=\"-90\" fill=\"#444444\" rx=\"27\" ry=\"18\" stroke=\"black\"/>\n",
       "<text fill=\"#ffffff\" font-family=\"Times,serif\" font-size=\"14.00\" text-anchor=\"middle\" x=\"27\" y=\"-86.3\">a</text>\n",
       "</a>\n",
       "</g>\n",
       "</g>\n",
       "<!-- c -->\n",
       "<g class=\"node\" id=\"node2\"><title>c</title>\n",
       "<g id=\"a_node2\"><a xlink:title=\"(1) c\">\n",
       "<ellipse cx=\"63\" cy=\"-18\" fill=\"#444444\" rx=\"27\" ry=\"18\" stroke=\"black\"/>\n",
       "<text fill=\"#ffffff\" font-family=\"Times,serif\" font-size=\"14.00\" text-anchor=\"middle\" x=\"63\" y=\"-14.3\">c</text>\n",
       "</a>\n",
       "</g>\n",
       "</g>\n",
       "<!-- a&#45;&gt;c -->\n",
       "<g class=\"edge\" id=\"edge1\"><title>a-&gt;c</title>\n",
       "<g id=\"a_edge1\"><a xlink:title=\"(0, 1) : \">\n",
       "<path d=\"M35.3496,-72.7646C39.7115,-64.2831 45.1469,-53.7144 50.0413,-44.1974\" fill=\"none\" stroke=\"black\"/>\n",
       "<polygon fill=\"black\" points=\"53.2346,-45.6409 54.6957,-35.1473 47.0096,-42.4395 53.2346,-45.6409\" stroke=\"black\"/>\n",
       "</a>\n",
       "</g>\n",
       "</g>\n",
       "<!-- b -->\n",
       "<g class=\"node\" id=\"node3\"><title>b</title>\n",
       "<g id=\"a_node3\"><a xlink:title=\"(2) b\">\n",
       "<ellipse cx=\"99\" cy=\"-90\" fill=\"#444444\" rx=\"27\" ry=\"18\" stroke=\"black\"/>\n",
       "<text fill=\"#ffffff\" font-family=\"Times,serif\" font-size=\"14.00\" text-anchor=\"middle\" x=\"99\" y=\"-86.3\">b</text>\n",
       "</a>\n",
       "</g>\n",
       "</g>\n",
       "<!-- b&#45;&gt;c -->\n",
       "<g class=\"edge\" id=\"edge2\"><title>b-&gt;c</title>\n",
       "<g id=\"a_edge2\"><a xlink:title=\"(2, 1) : \">\n",
       "<path d=\"M90.6504,-72.7646C86.2885,-64.2831 80.8531,-53.7144 75.9587,-44.1974\" fill=\"none\" stroke=\"black\"/>\n",
       "<polygon fill=\"black\" points=\"78.9904,-42.4395 71.3043,-35.1473 72.7654,-45.6409 78.9904,-42.4395\" stroke=\"black\"/>\n",
       "</a>\n",
       "</g>\n",
       "</g>\n",
       "</g>\n",
       "</svg>"
      ],
      "text/plain": [
       "<pyAgrum.pyAgrum.BayesNet_double; proxy of <Swig Object of type 'gum::BayesNet< double > *' at 0x7fe5452becf0> >"
      ]
     },
     "execution_count": 6,
     "metadata": {},
     "output_type": "execute_result"
    }
   ],
   "source": [
    "bn=gum.fastBN(\"a->c;b->c\",3)\n",
    "bn"
   ]
  },
  {
   "cell_type": "markdown",
   "metadata": {
    "deletable": true,
    "editable": true
   },
   "source": [
    "In such a small bayes net, we can directly manipulate $P(a,b,c)$. For instance : $$P(b|c)=\\frac{\\sum_{a} P(a,b,c)}{\\sum_{a,b} P(a,b,c)}$$"
   ]
  },
  {
   "cell_type": "code",
   "execution_count": 7,
   "metadata": {
    "collapsed": false,
    "deletable": true,
    "editable": true
   },
   "outputs": [
    {
     "data": {
      "text/html": [
       "<table>\n",
       "<tr><th colspan='1'></th><th colspan='3' style='background-color:#AAAAAA'><center>b</center></th></tr>\n",
       "<tr><th style='background-color:#AAAAAA'><center>c</center></th><th style='background-color:#BBBBBB'><center>0</center></th><th style='background-color:#BBBBBB'><center>1</center></th><th style='background-color:#BBBBBB'><center>2</center></th></tr>\n",
       "<tr><th style='background-color:#BBBBBB'><center>0</center></th><td style='background-color:#d9a464;text-align:right;'>0.2929</td><td style='background-color:#cdb064;text-align:right;'>0.3895</td><td style='background-color:#d6a764;text-align:right;'>0.3176</td></tr>\n",
       "<tr><th style='background-color:#BBBBBB'><center>1</center></th><td style='background-color:#ee8f64;text-align:right;'>0.1263</td><td style='background-color:#f58864;text-align:right;'>0.0736</td><td style='background-color:#98e564;text-align:right;'>0.8000</td></tr>\n",
       "<tr><th style='background-color:#BBBBBB'><center>2</center></th><td style='background-color:#f78664;text-align:right;'>0.0621</td><td style='background-color:#afce64;text-align:right;'>0.6239</td><td style='background-color:#d6a764;text-align:right;'>0.3139</td></tr>\n",
       "</table>"
      ],
      "text/plain": [
       "<pyAgrum.pyAgrum.Potential_double; proxy of <Swig Object of type 'gum::Potential< double > *' at 0x7fe593e7cf30> >"
      ]
     },
     "execution_count": 7,
     "metadata": {},
     "output_type": "execute_result"
    }
   ],
   "source": [
    "pABC=bn.cpt(\"a\")*bn.cpt(\"b\")*bn.cpt(\"c\")\n",
    "pBgivenC=(pABC.margSumOut([\"a\"])/pABC.margSumOut([\"a\",\"b\"])).putFirst(\"b\")\n",
    "\n",
    "pBgivenC"
   ]
  },
  {
   "cell_type": "markdown",
   "metadata": {
    "deletable": true,
    "editable": true
   },
   "source": [
    "# Joint, marginal probability, likelihood\n",
    "Let's compute the joint probability $P(A,B)$ from $P(A,B,C)$"
   ]
  },
  {
   "cell_type": "code",
   "execution_count": 8,
   "metadata": {
    "collapsed": false,
    "deletable": true,
    "editable": true
   },
   "outputs": [
    {
     "name": "stdout",
     "output_type": "stream",
     "text": [
      "pAC really is a probability : it sums to 1.0\n"
     ]
    },
    {
     "data": {
      "text/html": [
       "<table>\n",
       "<tr><th colspan='1'></th><th colspan='3' style='background-color:#AAAAAA'><center>a</center></th></tr>\n",
       "<tr><th style='background-color:#AAAAAA'><center>c</center></th><th style='background-color:#BBBBBB'><center>0</center></th><th style='background-color:#BBBBBB'><center>1</center></th><th style='background-color:#BBBBBB'><center>2</center></th></tr>\n",
       "<tr><th style='background-color:#BBBBBB'><center>0</center></th><td style='background-color:#fe7f64;text-align:right;'>0.0029</td><td style='background-color:#ea9364;text-align:right;'>0.1633</td><td style='background-color:#f48964;text-align:right;'>0.0801</td></tr>\n",
       "<tr><th style='background-color:#BBBBBB'><center>1</center></th><td style='background-color:#fe7f64;text-align:right;'>0.0034</td><td style='background-color:#e89564;text-align:right;'>0.1748</td><td style='background-color:#e69764;text-align:right;'>0.1895</td></tr>\n",
       "<tr><th style='background-color:#BBBBBB'><center>2</center></th><td style='background-color:#fe7f64;text-align:right;'>0.0035</td><td style='background-color:#e29b64;text-align:right;'>0.2254</td><td style='background-color:#ea9364;text-align:right;'>0.1572</td></tr>\n",
       "</table>"
      ],
      "text/plain": [
       "<pyAgrum.pyAgrum.Potential_double; proxy of <Swig Object of type 'gum::Potential< double > *' at 0x7fe5452bef60> >"
      ]
     },
     "execution_count": 8,
     "metadata": {},
     "output_type": "execute_result"
    }
   ],
   "source": [
    "pAC=pABC.margSumOut([\"b\"])\n",
    "print(\"pAC really is a probability : it sums to {}\".format(pAC.sum()))\n",
    "pAC\n"
   ]
  },
  {
   "cell_type": "markdown",
   "metadata": {
    "deletable": true,
    "editable": true
   },
   "source": [
    "## Computing $p(A)$"
   ]
  },
  {
   "cell_type": "code",
   "execution_count": 9,
   "metadata": {
    "collapsed": false,
    "deletable": true,
    "editable": true
   },
   "outputs": [
    {
     "data": {
      "text/html": [
       "<table>\n",
       "<tr style='background-color:#AAAAAA'><th colspan='3'><center>a</center></th></tr>\n",
       "<tr><th style='background-color:#BBBBBB'><center>0</center></th><th style='background-color:#BBBBBB'><center>1</center></th><th style='background-color:#BBBBBB'><center>2</center></th></tr>\n",
       "<tr><td style='background-color:#fd8064;text-align:right;'>0.0098</td><td style='background-color:#b6c764;text-align:right;'>0.5634</td><td style='background-color:#c8b564;text-align:right;'>0.4268</td></tr>\n",
       "</table>"
      ],
      "text/plain": [
       "<pyAgrum.pyAgrum.Potential_double; proxy of <Swig Object of type 'gum::Potential< double > *' at 0x7fe5452bef00> >"
      ]
     },
     "execution_count": 9,
     "metadata": {},
     "output_type": "execute_result"
    }
   ],
   "source": [
    "pAC.margSumOut([\"c\"])"
   ]
  },
  {
   "cell_type": "markdown",
   "metadata": {
    "deletable": true,
    "editable": true
   },
   "source": [
    "## Computing $p(A |C=1)$\n",
    "It is easy to compute $p(A, C=1)$"
   ]
  },
  {
   "cell_type": "code",
   "execution_count": 10,
   "metadata": {
    "collapsed": false,
    "deletable": true,
    "editable": true
   },
   "outputs": [
    {
     "data": {
      "text/html": [
       "<table>\n",
       "<tr style='background-color:#AAAAAA'><th colspan='3'><center>a</center></th></tr>\n",
       "<tr><th style='background-color:#BBBBBB'><center>0</center></th><th style='background-color:#BBBBBB'><center>1</center></th><th style='background-color:#BBBBBB'><center>2</center></th></tr>\n",
       "<tr><td style='background-color:#fe7f64;text-align:right;'>0.0034</td><td style='background-color:#e89564;text-align:right;'>0.1748</td><td style='background-color:#e69764;text-align:right;'>0.1895</td></tr>\n",
       "</table>"
      ],
      "text/plain": [
       "<pyAgrum.pyAgrum.Potential_double; proxy of <Swig Object of type 'gum::Potential< double > *' at 0x7fe54aa41c60> >"
      ]
     },
     "execution_count": 10,
     "metadata": {},
     "output_type": "execute_result"
    }
   ],
   "source": [
    "pAC.extract({\"c\":1})"
   ]
  },
  {
   "cell_type": "markdown",
   "metadata": {
    "deletable": true,
    "editable": true
   },
   "source": [
    "Moreover, we know that $P(C=1)=\\sum_A P(A,C=1)$"
   ]
  },
  {
   "cell_type": "code",
   "execution_count": 11,
   "metadata": {
    "collapsed": false,
    "deletable": true,
    "editable": true
   },
   "outputs": [
    {
     "data": {
      "text/plain": [
       "0.36759741334768553"
      ]
     },
     "execution_count": 11,
     "metadata": {},
     "output_type": "execute_result"
    }
   ],
   "source": [
    "pAC.extract({\"c\":1}).sum()"
   ]
  },
  {
   "cell_type": "markdown",
   "metadata": {
    "deletable": true,
    "editable": true
   },
   "source": [
    "Now we can compute $p(A|C=1)=\\frac{P(A,C=1)}{p(C=1)}$"
   ]
  },
  {
   "cell_type": "code",
   "execution_count": 12,
   "metadata": {
    "collapsed": false,
    "deletable": true,
    "editable": true
   },
   "outputs": [
    {
     "data": {
      "text/html": [
       "<table>\n",
       "<tr style='background-color:#AAAAAA'><th colspan='3'><center>a</center></th></tr>\n",
       "<tr><th style='background-color:#BBBBBB'><center>0</center></th><th style='background-color:#BBBBBB'><center>1</center></th><th style='background-color:#BBBBBB'><center>2</center></th></tr>\n",
       "<tr><td style='background-color:#fd8064;text-align:right;'>0.0092</td><td style='background-color:#c2bb64;text-align:right;'>0.4754</td><td style='background-color:#bdc064;text-align:right;'>0.5154</td></tr>\n",
       "</table>"
      ],
      "text/plain": [
       "<pyAgrum.pyAgrum.Potential_double; proxy of <Swig Object of type 'gum::Potential< double > *' at 0x7fe544fac6c0> >"
      ]
     },
     "execution_count": 12,
     "metadata": {},
     "output_type": "execute_result"
    }
   ],
   "source": [
    "pAC.extract({\"c\":1}).normalize()"
   ]
  },
  {
   "cell_type": "markdown",
   "metadata": {
    "deletable": true,
    "editable": true
   },
   "source": [
    "## Computing $P(A|C)$\n",
    "$P(A|C)$ is represented by a matrix that verifies $p(A|C)=\\frac{P(A,C)}{P(C}$"
   ]
  },
  {
   "cell_type": "code",
   "execution_count": 13,
   "metadata": {
    "collapsed": false,
    "deletable": true,
    "editable": true
   },
   "outputs": [
    {
     "data": {
      "text/html": [
       "<table style=\"border-style: hidden; border-collapse: collapse;\" width=\"100%\"><tr><td style=\"border-top:hidden;border-bottom:hidden;\"><div align=\"center\"><table>\n",
       "<tr><th colspan='1'></th><th colspan='3' style='background-color:#AAAAAA'><center>c</center></th></tr>\n",
       "<tr><th style='background-color:#AAAAAA'><center>a</center></th><th style='background-color:#BBBBBB'><center>0</center></th><th style='background-color:#BBBBBB'><center>1</center></th><th style='background-color:#BBBBBB'><center>2</center></th></tr>\n",
       "<tr><th style='background-color:#BBBBBB'><center>0</center></th><td style='background-color:#fd8064;text-align:right;'>0.0118</td><td style='background-color:#fd8064;text-align:right;'>0.0092</td><td style='background-color:#fd8064;text-align:right;'>0.0091</td></tr>\n",
       "<tr><th style='background-color:#BBBBBB'><center>1</center></th><td style='background-color:#aad364;text-align:right;'>0.6630</td><td style='background-color:#c2bb64;text-align:right;'>0.4754</td><td style='background-color:#b4c964;text-align:right;'>0.5837</td></tr>\n",
       "<tr><th style='background-color:#BBBBBB'><center>2</center></th><td style='background-color:#d5a864;text-align:right;'>0.3252</td><td style='background-color:#bdc064;text-align:right;'>0.5154</td><td style='background-color:#cab364;text-align:right;'>0.4072</td></tr>\n",
       "</table></div></td><td style=\"border-top:hidden;border-bottom:hidden;\"><div align=\"center\"><table>\n",
       "<tr style='background-color:#AAAAAA'><th colspan='3'><center>a</center></th></tr>\n",
       "<tr><th style='background-color:#BBBBBB'><center>0</center></th><th style='background-color:#BBBBBB'><center>1</center></th><th style='background-color:#BBBBBB'><center>2</center></th></tr>\n",
       "<tr><td style='background-color:#fd8064;text-align:right;'>0.0092</td><td style='background-color:#c2bb64;text-align:right;'>0.4754</td><td style='background-color:#bdc064;text-align:right;'>0.5154</td></tr>\n",
       "</table></div></td></tr><tr><td style=\"border-top:hidden;border-bottom:hidden;\"><div align=\"center\"><small>$P(A|C)$</small></div></td><td style=\"border-top:hidden;border-bottom:hidden;\"><div align=\"center\"><small>$P(A|C=1)$</small></div></td></tr></table>"
      ],
      "text/plain": [
       "<IPython.core.display.HTML object>"
      ]
     },
     "metadata": {},
     "output_type": "display_data"
    }
   ],
   "source": [
    "pAgivenC=pAC/pAC.margSumIn([\"c\"])\n",
    "gnb.sideBySide(pAgivenC,pAgivenC.extract({'c':1}),\n",
    "               captions=[\"$P(A|C)$\",\"$P(A|C=1)$\"])"
   ]
  },
  {
   "cell_type": "markdown",
   "metadata": {
    "deletable": true,
    "editable": true
   },
   "source": [
    "## Likelihood $P(A=2|C)$"
   ]
  },
  {
   "cell_type": "markdown",
   "metadata": {
    "deletable": true,
    "editable": true
   },
   "source": [
    "A likelihood can also be found in this matrix."
   ]
  },
  {
   "cell_type": "code",
   "execution_count": 14,
   "metadata": {
    "collapsed": false,
    "deletable": true,
    "editable": true
   },
   "outputs": [
    {
     "data": {
      "text/html": [
       "<table>\n",
       "<tr style='background-color:#AAAAAA'><th colspan='3'><center>c</center></th></tr>\n",
       "<tr><th style='background-color:#BBBBBB'><center>0</center></th><th style='background-color:#BBBBBB'><center>1</center></th><th style='background-color:#BBBBBB'><center>2</center></th></tr>\n",
       "<tr><td style='background-color:#d5a864;text-align:right;'>0.3252</td><td style='background-color:#bdc064;text-align:right;'>0.5154</td><td style='background-color:#cab364;text-align:right;'>0.4072</td></tr>\n",
       "</table>"
      ],
      "text/plain": [
       "<pyAgrum.pyAgrum.Potential_double; proxy of <Swig Object of type 'gum::Potential< double > *' at 0x7fe544fac4b0> >"
      ]
     },
     "execution_count": 14,
     "metadata": {},
     "output_type": "execute_result"
    }
   ],
   "source": [
    "pAgivenC.extract({'a':2})"
   ]
  },
  {
   "cell_type": "markdown",
   "metadata": {
    "deletable": true,
    "editable": true
   },
   "source": [
    "A likelihood does not have to sum to 1. It is not relevant to normalize it."
   ]
  },
  {
   "cell_type": "code",
   "execution_count": 15,
   "metadata": {
    "collapsed": false,
    "deletable": true,
    "editable": true
   },
   "outputs": [
    {
     "data": {
      "text/html": [
       "<table>\n",
       "<tr style='background-color:#AAAAAA'><th colspan='3'><center>a</center></th></tr>\n",
       "<tr><th style='background-color:#BBBBBB'><center>0</center></th><th style='background-color:#BBBBBB'><center>1</center></th><th style='background-color:#BBBBBB'><center>2</center></th></tr>\n",
       "<tr><td style='background-color:#fb8264;text-align:right;'>0.0301</td><td style='text-align:right;'>1.7222</td><td style='text-align:right;'>1.2477</td></tr>\n",
       "</table>"
      ],
      "text/plain": [
       "<pyAgrum.pyAgrum.Potential_double; proxy of <Swig Object of type 'gum::Potential< double > *' at 0x7fe544fac750> >"
      ]
     },
     "execution_count": 15,
     "metadata": {},
     "output_type": "execute_result"
    }
   ],
   "source": [
    "pAgivenC.margSumIn([\"a\"])"
   ]
  },
  {
   "cell_type": "markdown",
   "metadata": {
    "deletable": true,
    "editable": true
   },
   "source": [
    "# entropy of potential"
   ]
  },
  {
   "cell_type": "code",
   "execution_count": 16,
   "metadata": {
    "collapsed": true,
    "deletable": true,
    "editable": true
   },
   "outputs": [],
   "source": [
    "%matplotlib inline\n",
    "from pylab import *\n",
    "import matplotlib.pyplot as plt\n",
    "import numpy as np"
   ]
  },
  {
   "cell_type": "code",
   "execution_count": 17,
   "metadata": {
    "collapsed": false,
    "deletable": true,
    "editable": true
   },
   "outputs": [
    {
     "data": {
      "image/png": "[encoded data removed]",
      "text/plain": [
       "<matplotlib.figure.Figure at 0x7fe544fee1d0>"
      ]
     },
     "metadata": {},
     "output_type": "display_data"
    }
   ],
   "source": [
    "p1=gum.Potential().add(a)\n",
    "x = np.linspace(0, 1, 100)\n",
    "plt.plot(x,[p1.fillWith([p,1-p]).entropy() for p in x])\n",
    "plt.show()"
   ]
  },
  {
   "cell_type": "code",
   "execution_count": 18,
   "metadata": {
    "collapsed": false,
    "deletable": true,
    "editable": true
   },
   "outputs": [
    {
     "data": {
      "image/png": "[encoded data removed]",
      "text/plain": [
       "<matplotlib.figure.Figure at 0x7fe544fc82e8>"
      ]
     },
     "metadata": {},
     "output_type": "display_data"
    }
   ],
   "source": [
    "t=gum.LabelizedVariable('t','t',3)\n",
    "p1=gum.Potential().add(t)\n",
    "\n",
    "def entrop(bc):\n",
    "    \"\"\"\n",
    "    bc is a list [a,b,c] close to a distribution \n",
    "    (normalized just to be sure)\n",
    "    \"\"\"\n",
    "    return p1.fillWith(bc).normalize().entropy()\n",
    "\n",
    "import matplotlib.tri as tri\n",
    "\n",
    "corners = np.array([[0, 0], [1, 0], [0.5, 0.75**0.5]])\n",
    "triangle = tri.Triangulation(corners[:, 0], corners[:, 1])\n",
    "\n",
    "# Mid-points of triangle sides opposite of each corner\n",
    "midpoints = [(corners[(i + 1) % 3] + corners[(i + 2) % 3]) / 2.0 \\\n",
    "             for i in range(3)]\n",
    "def xy2bc(xy, tol=1.e-3):\n",
    "    \"\"\"\n",
    "    From 2D Cartesian coordinates to barycentric.\n",
    "    \"\"\"\n",
    "    s = [(corners[i] - midpoints[i]).dot(xy - midpoints[i]) / 0.75 \\\n",
    "         for i in range(3)]\n",
    "    return np.clip(s, tol, 1.0 - tol)\n",
    "    \n",
    "def draw_entropy(nlevels=200, subdiv=6, **kwargs):\n",
    "    import math\n",
    "\n",
    "    refiner = tri.UniformTriRefiner(triangle)\n",
    "    trimesh = refiner.refine_triangulation(subdiv=subdiv)\n",
    "    pvals = [entrop(xy2bc(xy)) for xy in zip(trimesh.x, trimesh.y)]\n",
    "\n",
    "    plt.tricontourf(trimesh, pvals, nlevels, **kwargs)\n",
    "    plt.axis('equal')\n",
    "    plt.xlim(0, 1)\n",
    "    plt.ylim(0, 0.75**0.5)\n",
    "    plt.axis('off')\n",
    "    \n",
    "draw_entropy()"
   ]
  },
  {
   "cell_type": "code",
   "execution_count": 19,
   "metadata": {
    "collapsed": true,
    "deletable": true,
    "editable": true
   },
   "outputs": [],
   "source": []
  }
 ],
 "metadata": {
  "kernelspec": {
   "display_name": "devAgrum (python3)",
   "language": "python",
   "name": "devagrum"
  },
  "language_info": {
   "codemirror_mode": {
    "name": "ipython",
    "version": 3
   },
   "file_extension": ".py",
   "mimetype": "text/x-python",
   "name": "python",
   "nbconvert_exporter": "python",
   "pygments_lexer": "ipython3",
   "version": "3.5.2+"
  }
 },
 "nbformat": 4,
 "nbformat_minor": 0
}
