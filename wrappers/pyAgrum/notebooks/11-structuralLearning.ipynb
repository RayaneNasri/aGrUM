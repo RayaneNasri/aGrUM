{
 "cells": [
  {
   "cell_type": "code",
   "execution_count": 1,
   "metadata": {
    "ExecuteTime": {
     "end_time": "2019-02-01T18:02:51.133087Z",
     "start_time": "2019-02-01T18:02:50.889010Z"
    }
   },
   "outputs": [],
   "source": [
    "%matplotlib inline\n",
    "from pylab import *\n",
    "import matplotlib.pyplot as plt\n",
    "\n",
    "import os"
   ]
  },
  {
   "cell_type": "code",
   "execution_count": 2,
   "metadata": {
    "ExecuteTime": {
     "end_time": "2019-02-01T18:02:51.145910Z",
     "start_time": "2019-02-01T18:02:51.135738Z"
    }
   },
   "outputs": [
    {
     "name": "stdout",
     "output_type": "stream",
     "text": [
      "pyAgrum version 0.13.6.9\n",
      "(c) Pierre-Henri Wuillemin, Christophe Gonzales, Lionel Torti\n",
      "    UPMC 2015\n",
      "\n",
      "    This is free software; see the source code for copying conditions.\n",
      "    There is ABSOLUTELY NO WARRANTY; not even for MERCHANTABILITY or\n",
      "    FITNESS FOR A PARTICULAR PURPOSE.  For details, see 'pyAgrum.warranty'.\n",
      "    \n"
     ]
    },
    {
     "data": {
      "text/html": [
       "<table width='100%'><tr><th>Library</th><th>Version</th></tr><tr><td>OS</td><td>posix [linux]</td></tr><tr><td>Python</td><td>3.7.2 (default, Jan 10 2019, 23:51:51) \n",
       "[GCC 8.2.1 20181127]</td></tr><tr><td>IPython</td><td>7.2.0</td></tr><tr><td>MatPlotLib</td><td>3.0.2</td></tr><tr><td>Numpy</td><td>1.16.1</td></tr><tr><td>pyAgrum</td><td>0.13.6.9</td></tr></table><div align='right'><small>Fri Feb 01 19:02:51 2019 CET</small></div>"
      ],
      "text/plain": [
       "<IPython.core.display.HTML object>"
      ]
     },
     "metadata": {},
     "output_type": "display_data"
    }
   ],
   "source": [
    "import pyAgrum as gum\n",
    "import pyAgrum.lib.notebook as gnb\n",
    "gum.about()\n",
    "gnb.configuration()\n"
   ]
  },
  {
   "cell_type": "markdown",
   "metadata": {},
   "source": [
    "# Generating the database from a BN"
   ]
  },
  {
   "cell_type": "code",
   "execution_count": null,
   "metadata": {
    "ExecuteTime": {
     "start_time": "2019-02-01T18:02:50.892Z"
    }
   },
   "outputs": [
    {
     "data": {
      "text/html": [
       "<svg height=\"182pt\" viewBox=\"0.00 0.00 288.00 182.28\" width=\"288pt\" xmlns=\"http://www.w3.org/2000/svg\" xmlns:xlink=\"http://www.w3.org/1999/xlink\">\n",
       "<g class=\"graph\" id=\"graph0\" transform=\"scale(.7011 .7011) rotate(0) translate(4 256)\">\n",
       "<title>G</title>\n",
       "<!-- visit_to_Asia? -->\n",
       "<g class=\"node\" id=\"node1\">\n",
       "<title>visit_to_Asia?</title>\n",
       "<g id=\"a_node1\"><a xlink:title=\"(0) visit_to_Asia?\">\n",
       "<ellipse cx=\"74.7434\" cy=\"-234\" fill=\"#444444\" rx=\"74.9875\" ry=\"18\" stroke=\"#000000\"/>\n",
       "<text fill=\"#ffffff\" font-family=\"Times,serif\" font-size=\"14.00\" text-anchor=\"middle\" x=\"74.7434\" y=\"-230.3\">visit_to_Asia?</text>\n",
       "</a>\n",
       "</g>\n",
       "</g>\n",
       "<!-- tuberculosis? -->\n",
       "<g class=\"node\" id=\"node2\">\n",
       "<title>tuberculosis?</title>\n",
       "<g id=\"a_node2\"><a xlink:title=\"(1) tuberculosis?\">\n",
       "<ellipse cx=\"74.7434\" cy=\"-162\" fill=\"#444444\" rx=\"73.387\" ry=\"18\" stroke=\"#000000\"/>\n",
       "<text fill=\"#ffffff\" font-family=\"Times,serif\" font-size=\"14.00\" text-anchor=\"middle\" x=\"74.7434\" y=\"-158.3\">tuberculosis?</text>\n",
       "</a>\n",
       "</g>\n",
       "</g>\n",
       "<!-- visit_to_Asia?&#45;&gt;tuberculosis? -->\n",
       "<g class=\"edge\" id=\"edge1\">\n",
       "<title>visit_to_Asia?-&gt;tuberculosis?</title>\n",
       "<g id=\"a_edge1\"><a xlink:title=\"(0, 1) : \">\n",
       "<path d=\"M74.7434,-215.8314C74.7434,-208.131 74.7434,-198.9743 74.7434,-190.4166\" fill=\"none\" stroke=\"#000000\"/>\n",
       "<polygon fill=\"#000000\" points=\"78.2435,-190.4132 74.7434,-180.4133 71.2435,-190.4133 78.2435,-190.4132\" stroke=\"#000000\"/>\n",
       "</a>\n",
       "</g>\n",
       "</g>\n",
       "<!-- tuberculos_or_cancer? -->\n",
       "<g class=\"node\" id=\"node3\">\n",
       "<title>tuberculos_or_cancer?</title>\n",
       "<g id=\"a_node3\"><a xlink:title=\"(2) tuberculos_or_cancer?\">\n",
       "<ellipse cx=\"142.7434\" cy=\"-90\" fill=\"#444444\" rx=\"116.1796\" ry=\"18\" stroke=\"#000000\"/>\n",
       "<text fill=\"#ffffff\" font-family=\"Times,serif\" font-size=\"14.00\" text-anchor=\"middle\" x=\"142.7434\" y=\"-86.3\">tuberculos_or_cancer?</text>\n",
       "</a>\n",
       "</g>\n",
       "</g>\n",
       "<!-- tuberculosis?&#45;&gt;tuberculos_or_cancer? -->\n",
       "<g class=\"edge\" id=\"edge2\">\n",
       "<title>tuberculosis?-&gt;tuberculos_or_cancer?</title>\n",
       "<g id=\"a_edge2\"><a xlink:title=\"(1, 2) : \">\n",
       "<path d=\"M91.5524,-144.2022C99.8073,-135.4617 109.8969,-124.7786 118.9297,-115.2144\" fill=\"none\" stroke=\"#000000\"/>\n",
       "<polygon fill=\"#000000\" points=\"121.5704,-117.5159 125.8921,-107.8425 116.4813,-112.7095 121.5704,-117.5159\" stroke=\"#000000\"/>\n",
       "</a>\n",
       "</g>\n",
       "</g>\n",
       "<!-- positive_XraY? -->\n",
       "<g class=\"node\" id=\"node4\">\n",
       "<title>positive_XraY?</title>\n",
       "<g id=\"a_node4\"><a xlink:title=\"(3) positive_XraY?\">\n",
       "<ellipse cx=\"142.7434\" cy=\"-18\" fill=\"#444444\" rx=\"79.8859\" ry=\"18\" stroke=\"#000000\"/>\n",
       "<text fill=\"#ffffff\" font-family=\"Times,serif\" font-size=\"14.00\" text-anchor=\"middle\" x=\"142.7434\" y=\"-14.3\">positive_XraY?</text>\n",
       "</a>\n",
       "</g>\n",
       "</g>\n",
       "<!-- tuberculos_or_cancer?&#45;&gt;positive_XraY? -->\n",
       "<g class=\"edge\" id=\"edge7\">\n",
       "<title>tuberculos_or_cancer?-&gt;positive_XraY?</title>\n",
       "<g id=\"a_edge7\"><a xlink:title=\"(2, 3) : \">\n",
       "<path d=\"M142.7434,-71.8314C142.7434,-64.131 142.7434,-54.9743 142.7434,-46.4166\" fill=\"none\" stroke=\"#000000\"/>\n",
       "<polygon fill=\"#000000\" points=\"146.2435,-46.4132 142.7434,-36.4133 139.2435,-46.4133 146.2435,-46.4132\" stroke=\"#000000\"/>\n",
       "</a>\n",
       "</g>\n",
       "</g>\n",
       "<!-- dyspnoea? -->\n",
       "<g class=\"node\" id=\"node8\">\n",
       "<title>dyspnoea?</title>\n",
       "<g id=\"a_node8\"><a xlink:title=\"(7) dyspnoea?\">\n",
       "<ellipse cx=\"319.7434\" cy=\"-18\" fill=\"#444444\" rx=\"59.5901\" ry=\"18\" stroke=\"#000000\"/>\n",
       "<text fill=\"#ffffff\" font-family=\"Times,serif\" font-size=\"14.00\" text-anchor=\"middle\" x=\"319.7434\" y=\"-14.3\">dyspnoea?</text>\n",
       "</a>\n",
       "</g>\n",
       "</g>\n",
       "<!-- tuberculos_or_cancer?&#45;&gt;dyspnoea? -->\n",
       "<g class=\"edge\" id=\"edge3\">\n",
       "<title>tuberculos_or_cancer?-&gt;dyspnoea?</title>\n",
       "<g id=\"a_edge3\"><a xlink:title=\"(2, 7) : \">\n",
       "<path d=\"M184.242,-73.1192C211.2972,-62.1137 246.6083,-47.7498 274.4005,-36.4446\" fill=\"none\" stroke=\"#000000\"/>\n",
       "<polygon fill=\"#000000\" points=\"275.9473,-39.5939 283.8915,-32.5838 273.3097,-33.1098 275.9473,-39.5939\" stroke=\"#000000\"/>\n",
       "</a>\n",
       "</g>\n",
       "</g>\n",
       "<!-- lung_cancer? -->\n",
       "<g class=\"node\" id=\"node5\">\n",
       "<title>lung_cancer?</title>\n",
       "<g id=\"a_node5\"><a xlink:title=\"(4) lung_cancer?\">\n",
       "<ellipse cx=\"238.7434\" cy=\"-162\" fill=\"#444444\" rx=\"72.5877\" ry=\"18\" stroke=\"#000000\"/>\n",
       "<text fill=\"#ffffff\" font-family=\"Times,serif\" font-size=\"14.00\" text-anchor=\"middle\" x=\"238.7434\" y=\"-158.3\">lung_cancer?</text>\n",
       "</a>\n",
       "</g>\n",
       "</g>\n",
       "<!-- lung_cancer?&#45;&gt;tuberculos_or_cancer? -->\n",
       "<g class=\"edge\" id=\"edge8\">\n",
       "<title>lung_cancer?-&gt;tuberculos_or_cancer?</title>\n",
       "<g id=\"a_edge8\"><a xlink:title=\"(4, 2) : \">\n",
       "<path d=\"M215.5044,-144.5708C203.1889,-135.3341 187.8786,-123.8514 174.4839,-113.8054\" fill=\"none\" stroke=\"#000000\"/>\n",
       "<polygon fill=\"#000000\" points=\"176.5352,-110.9689 166.4352,-107.7689 172.3352,-116.5689 176.5352,-110.9689\" stroke=\"#000000\"/>\n",
       "</a>\n",
       "</g>\n",
       "</g>\n",
       "<!-- smoking? -->\n",
       "<g class=\"node\" id=\"node6\">\n",
       "<title>smoking?</title>\n",
       "<g id=\"a_node6\"><a xlink:title=\"(5) smoking?\">\n",
       "<ellipse cx=\"288.7434\" cy=\"-234\" fill=\"#444444\" rx=\"55.4913\" ry=\"18\" stroke=\"#000000\"/>\n",
       "<text fill=\"#ffffff\" font-family=\"Times,serif\" font-size=\"14.00\" text-anchor=\"middle\" x=\"288.7434\" y=\"-230.3\">smoking?</text>\n",
       "</a>\n",
       "</g>\n",
       "</g>\n",
       "<!-- smoking?&#45;&gt;lung_cancer? -->\n",
       "<g class=\"edge\" id=\"edge4\">\n",
       "<title>smoking?-&gt;lung_cancer?</title>\n",
       "<g id=\"a_edge4\"><a xlink:title=\"(5, 4) : \">\n",
       "<path d=\"M276.3838,-216.2022C270.4943,-207.7214 263.3347,-197.4115 256.8472,-188.0696\" fill=\"none\" stroke=\"#000000\"/>\n",
       "<polygon fill=\"#000000\" points=\"259.7128,-186.0599 251.134,-179.8425 253.9632,-190.0527 259.7128,-186.0599\" stroke=\"#000000\"/>\n",
       "</a>\n",
       "</g>\n",
       "</g>\n",
       "<!-- bronchitis? -->\n",
       "<g class=\"node\" id=\"node7\">\n",
       "<title>bronchitis?</title>\n",
       "<g id=\"a_node7\"><a xlink:title=\"(6) bronchitis?\">\n",
       "<ellipse cx=\"339.7434\" cy=\"-90\" fill=\"#444444\" rx=\"63.0888\" ry=\"18\" stroke=\"#000000\"/>\n",
       "<text fill=\"#ffffff\" font-family=\"Times,serif\" font-size=\"14.00\" text-anchor=\"middle\" x=\"339.7434\" y=\"-86.3\">bronchitis?</text>\n",
       "</a>\n",
       "</g>\n",
       "</g>\n",
       "<!-- smoking?&#45;&gt;bronchitis? -->\n",
       "<g class=\"edge\" id=\"edge6\">\n",
       "<title>smoking?-&gt;bronchitis?</title>\n",
       "<g id=\"a_edge6\"><a xlink:title=\"(5, 6) : \">\n",
       "<path d=\"M301.2622,-216.265C307.929,-206.0754 315.7588,-192.7941 320.7434,-180 328.5456,-159.9736 333.3955,-136.1291 336.2409,-118.0161\" fill=\"none\" stroke=\"#000000\"/>\n",
       "<polygon fill=\"#000000\" points=\"339.7092,-118.4869 337.6918,-108.0859 332.7827,-117.4748 339.7092,-118.4869\" stroke=\"#000000\"/>\n",
       "</a>\n",
       "</g>\n",
       "</g>\n",
       "<!-- bronchitis?&#45;&gt;dyspnoea? -->\n",
       "<g class=\"edge\" id=\"edge5\">\n",
       "<title>bronchitis?-&gt;dyspnoea?</title>\n",
       "<g id=\"a_edge5\"><a xlink:title=\"(6, 7) : \">\n",
       "<path d=\"M334.6965,-71.8314C332.534,-64.0463 329.9581,-54.7729 327.5586,-46.1347\" fill=\"none\" stroke=\"#000000\"/>\n",
       "<polygon fill=\"#000000\" points=\"330.907,-45.1117 324.8582,-36.4133 324.1624,-46.9852 330.907,-45.1117\" stroke=\"#000000\"/>\n",
       "</a>\n",
       "</g>\n",
       "</g>\n",
       "</g>\n",
       "</svg>"
      ],
      "text/plain": [
       "(gum::BayesNet<double>@0x562679031150) BN{nodes: 8, arcs: 8, domainSize: 256, parameters: 36, compression ratio: 85% }"
      ]
     },
     "execution_count": 3,
     "metadata": {},
     "output_type": "execute_result"
    }
   ],
   "source": [
    "bn=gum.loadBN(os.path.join(\"res\",\"asia.bif\"))\n",
    "bn"
   ]
  },
  {
   "cell_type": "code",
   "execution_count": null,
   "metadata": {
    "ExecuteTime": {
     "start_time": "2019-02-01T18:02:50.897Z"
    }
   },
   "outputs": [
    {
     "name": "stdout",
     "output_type": "stream",
     "text": [
      " out/sample_asia.csv : [ ####################################################  ] 99%"
     ]
    }
   ],
   "source": [
    "gum.generateCSV(bn,os.path.join(\"out\",\"sample_asia.csv\"),500000,True)"
   ]
  },
  {
   "cell_type": "code",
   "execution_count": null,
   "metadata": {
    "ExecuteTime": {
     "start_time": "2019-02-01T18:02:50.901Z"
    }
   },
   "outputs": [],
   "source": [
    "import pyAgrum.lib._utils.oslike as oslike\n",
    "print(\"===\\n  Size of the generated database\\n===\")\n",
    "oslike.wc_l(os.path.join(\"out\",\"sample_asia.csv\"))\n",
    "print(\"\\n===\\n  First lines\\n===\")\n",
    "oslike.head(os.path.join(\"out\",\"sample_asia.csv\"))"
   ]
  },
  {
   "cell_type": "code",
   "execution_count": null,
   "metadata": {
    "ExecuteTime": {
     "start_time": "2019-02-01T18:02:50.905Z"
    }
   },
   "outputs": [],
   "source": [
    "learner=gum.BNLearner(os.path.join(\"out\",\"sample_asia.csv\"),bn) #using bn as template for variables\n",
    "learner.names()"
   ]
  },
  {
   "cell_type": "code",
   "execution_count": null,
   "metadata": {
    "ExecuteTime": {
     "start_time": "2019-02-01T18:02:50.908Z"
    }
   },
   "outputs": [],
   "source": [
    "learner.idFromName('visit_to_Asia?') # first row is 0"
   ]
  },
  {
   "cell_type": "code",
   "execution_count": null,
   "metadata": {
    "ExecuteTime": {
     "start_time": "2019-02-01T18:02:50.913Z"
    }
   },
   "outputs": [],
   "source": [
    "learner.nameFromId(4)"
   ]
  },
  {
   "cell_type": "markdown",
   "metadata": {},
   "source": [
    "The BNLearner is capable of recognizing missing values in databases. For this purpose, just indicate as a last argument the list of the strings that represent missing values. Note that, currently, the BNLearner is not yet able to learn in the presence of missing values. This is the reason why, when it discovers that there exist such values, it raises a gum.MissingValueInDatabase exception."
   ]
  },
  {
   "cell_type": "code",
   "execution_count": null,
   "metadata": {
    "ExecuteTime": {
     "start_time": "2019-02-01T18:02:50.923Z"
    }
   },
   "outputs": [],
   "source": [
    "# it is possible to add as a last argument a list of the symbols that represent missing values:\n",
    "# whenever a cell of the database is equal to one of these strings, it is considered as a \n",
    "# missing value\n",
    "learner=gum.BNLearner(os.path.join(\"out\",\"sample_asia.csv\"),bn, ['?', 'N/A'] )"
   ]
  },
  {
   "cell_type": "code",
   "execution_count": null,
   "metadata": {
    "ExecuteTime": {
     "start_time": "2019-02-01T18:02:50.929Z"
    }
   },
   "outputs": [],
   "source": [
    "oslike.head(os.path.join(\"res\",\"asia_missing.csv\"))\n",
    "\n",
    "try:\n",
    "    learner=gum.BNLearner(os.path.join(\"res\",\"asia_missing.csv\"),bn, ['?', 'N/A'] )\n",
    "except gum.MissingValueInDatabase:\n",
    "    print ( \"exception raised: there are missing values in the database\" )"
   ]
  },
  {
   "cell_type": "markdown",
   "metadata": {},
   "source": [
    "# Parameters learning from the database"
   ]
  },
  {
   "cell_type": "markdown",
   "metadata": {},
   "source": [
    "We give the $bn$ as a parameter for the learner in order to have the variables and the order of the labels for each variables. Please try to remove the argument $bn$ in the first line below to see the difference ..."
   ]
  },
  {
   "cell_type": "code",
   "execution_count": null,
   "metadata": {
    "ExecuteTime": {
     "start_time": "2019-02-01T18:02:50.942Z"
    }
   },
   "outputs": [],
   "source": [
    "learner=gum.BNLearner(os.path.join(\"out\",\"sample_asia.csv\"),bn) #using bn as template for variables and labels\n",
    "learner.setInitialDAG(bn.dag())\n",
    "bn2=learner.learnParameters()\n",
    "gnb.showBN(bn2)"
   ]
  },
  {
   "cell_type": "code",
   "execution_count": null,
   "metadata": {
    "ExecuteTime": {
     "start_time": "2019-02-01T18:02:50.954Z"
    }
   },
   "outputs": [],
   "source": [
    "from IPython.display import HTML\n",
    "\n",
    "HTML('<table><tr><td style=\"text-align:center;\"><h3>original BN</h3></td>'+\n",
    "     '<td style=\"text-align:center;\"><h3>Learned BN</h3></td></tr>'+\n",
    "     '<tr><td><center>'+\n",
    "     gnb.getPotential(bn.cpt (bn.idFromName('visit_to_Asia?')))\n",
    "     +'</center></td><td><center>'+\n",
    "     gnb.getPotential(bn2.cpt(bn2.idFromName('visit_to_Asia?')))\n",
    "     +'</center></td></tr><tr><td><center>'+\n",
    "     gnb.getPotential(bn.cpt (bn.idFromName('tuberculosis?')))\n",
    "     +'</center></td><td><center>'+\n",
    "     gnb.getPotential(bn2.cpt(bn2.idFromName('tuberculosis?')))\n",
    "     +'</center></td></tr></table>')"
   ]
  },
  {
   "cell_type": "markdown",
   "metadata": {},
   "source": [
    "# Structural learning a BN from the database"
   ]
  },
  {
   "cell_type": "markdown",
   "metadata": {},
   "source": [
    "## Different learning algorithms"
   ]
  },
  {
   "cell_type": "markdown",
   "metadata": {},
   "source": [
    "For now, there are three algorithms that are wrapped in pyAgrum : LocalSearchWithTabuList,"
   ]
  },
  {
   "cell_type": "code",
   "execution_count": null,
   "metadata": {
    "ExecuteTime": {
     "start_time": "2019-02-01T18:02:50.977Z"
    }
   },
   "outputs": [],
   "source": [
    "learner=gum.BNLearner(os.path.join(\"out\",\"sample_asia.csv\"),bn) #using bn as template for variables\n",
    "learner.useLocalSearchWithTabuList()\n",
    "bn2=learner.learnBN()\n",
    "print(\"Learned in {0}ms\".format(1000*learner.currentTime()))\n",
    "gnb.sideBySide(bn2,gnb.getInformation(bn2))\n",
    "kl=gum.ExactBNdistance(bn,bn2)\n",
    "kl.compute()\n"
   ]
  },
  {
   "cell_type": "markdown",
   "metadata": {},
   "source": [
    "A greedy Hill Climbing algorithm (with insert, remove and change arc as atomic operations)."
   ]
  },
  {
   "cell_type": "code",
   "execution_count": null,
   "metadata": {
    "ExecuteTime": {
     "start_time": "2019-02-01T18:02:50.983Z"
    }
   },
   "outputs": [],
   "source": [
    "learner=gum.BNLearner(os.path.join(\"out\",\"sample_asia.csv\"),bn) #using bn as template for variables\n",
    "learner.useGreedyHillClimbing()\n",
    "bn2=learner.learnBN()\n",
    "print(\"Learned in {0}ms\".format(1000*learner.currentTime()))\n",
    "gnb.sideBySide(bn2,gnb.getInformation(bn2))"
   ]
  },
  {
   "cell_type": "markdown",
   "metadata": {},
   "source": [
    "And a K2 for those who likes it :)"
   ]
  },
  {
   "cell_type": "code",
   "execution_count": null,
   "metadata": {
    "ExecuteTime": {
     "start_time": "2019-02-01T18:02:50.990Z"
    }
   },
   "outputs": [],
   "source": [
    "learner=gum.BNLearner(os.path.join(\"out\",\"sample_asia.csv\"),bn) #using bn as template for variables\n",
    "learner.useK2([0,1,2,3,4,5,6,7])\n",
    "bn2=learner.learnBN()\n",
    "print(\"Learned in {0}ms\".format(1000*learner.currentTime()))\n",
    "bn2"
   ]
  },
  {
   "cell_type": "markdown",
   "metadata": {},
   "source": [
    "K2 can be very good if the order is the good one (a topological order of nodes in the reference)\n"
   ]
  },
  {
   "cell_type": "code",
   "execution_count": null,
   "metadata": {
    "ExecuteTime": {
     "start_time": "2019-02-01T18:02:50.995Z"
    }
   },
   "outputs": [],
   "source": [
    "learner=gum.BNLearner(os.path.join(\"out\",\"sample_asia.csv\"),bn) #using bn as template for variables\n",
    "learner.useK2([7,6,5,4,3,2,1,0])\n",
    "bn2=learner.learnBN()\n",
    "print(\"Learned in {0}s\".format(learner.currentTime()))\n",
    "bn2"
   ]
  },
  {
   "cell_type": "markdown",
   "metadata": {},
   "source": [
    "# Following the learning curve"
   ]
  },
  {
   "cell_type": "code",
   "execution_count": null,
   "metadata": {
    "ExecuteTime": {
     "start_time": "2019-02-01T18:02:50.999Z"
    }
   },
   "outputs": [],
   "source": [
    "import numpy as np\n",
    "%matplotlib inline\n",
    "\n",
    "learner=gum.BNLearner(os.path.join(\"out\",\"sample_asia.csv\"),bn) #using bn as template for variables\n",
    "learner.useLocalSearchWithTabuList()\n",
    "\n",
    "# we could prefere a log2likelihood score\n",
    "# learner.useScoreLog2Likelihood()\n",
    "learner.setMaxTime(10)\n",
    "\n",
    "# representation of the error as a pseudo log (negative values really represents negative epsilon\n",
    "@np.vectorize\n",
    "def pseudolog(x):\n",
    "    seuil=2.0\n",
    "    y=-x if x<0 else x\n",
    "        \n",
    "    if y<seuil:\n",
    "        res=y*np.log10(seuil)/seuil\n",
    "    else:\n",
    "        res=np.log10(y)\n",
    "        \n",
    "    return res if x>0 else -res\n",
    "\n",
    "# in order to control the complexity, we limit the number of parents\n",
    "learner.setMaxIndegree(3) # no more than 3 parent by node\n",
    "gnb.animApproximationScheme(learner,\n",
    "                            scale=pseudolog) # scale by default is np.log10\n",
    "\n",
    "bn2=learner.learnBN()\n"
   ]
  },
  {
   "cell_type": "markdown",
   "metadata": {},
   "source": [
    "# Customizing the learning algorithms"
   ]
  },
  {
   "cell_type": "markdown",
   "metadata": {},
   "source": [
    "## 1. Learn a tree ?"
   ]
  },
  {
   "cell_type": "code",
   "execution_count": null,
   "metadata": {
    "ExecuteTime": {
     "start_time": "2019-02-01T18:02:51.007Z"
    }
   },
   "outputs": [],
   "source": [
    "learner=gum.BNLearner(os.path.join(\"out\",\"sample_asia.csv\"),bn) #using bn as template for variables\n",
    "learner.useGreedyHillClimbing()\n",
    "\n",
    "learner.setMaxIndegree(1) # no more than 1 parent by node\n",
    "\n",
    "bntree=learner.learnBN()\n",
    "bntree"
   ]
  },
  {
   "cell_type": "markdown",
   "metadata": {},
   "source": [
    "## 2. with prior structural knowledge"
   ]
  },
  {
   "cell_type": "code",
   "execution_count": null,
   "metadata": {
    "ExecuteTime": {
     "start_time": "2019-02-01T18:02:51.012Z"
    }
   },
   "outputs": [],
   "source": [
    "learner=gum.BNLearner(os.path.join(\"out\",\"sample_asia.csv\"),bn) #using bn as template for variables\n",
    "learner.useGreedyHillClimbing()\n",
    "\n",
    "# I know that smoking causes cancer\n",
    "learner.addMandatoryArc(\"smoking?\",\"lung_cancer?\") # smoking->lung_cancer\n",
    "# I know that visit to Asia may change the risk of tuberculosis\n",
    "learner.addMandatoryArc(\"visit_to_Asia?\",\"tuberculosis?\") # visit_to_Asia->tuberculosis\n",
    "\n",
    "bn2=learner.learnBN()\n",
    "gnb.showBN(bn2,size=\"5\")"
   ]
  },
  {
   "cell_type": "markdown",
   "metadata": {},
   "source": [
    "## 3. comparing BNs"
   ]
  },
  {
   "cell_type": "code",
   "execution_count": null,
   "metadata": {
    "ExecuteTime": {
     "start_time": "2019-02-01T18:02:51.020Z"
    }
   },
   "outputs": [],
   "source": [
    "help(gnb.getBNDiff)"
   ]
  },
  {
   "cell_type": "code",
   "execution_count": null,
   "metadata": {
    "ExecuteTime": {
     "start_time": "2019-02-01T18:02:51.030Z"
    }
   },
   "outputs": [],
   "source": [
    "gnb.sideBySide(bn,bn2,gnb.getBNDiff(bn,bn2),\n",
    "              captions=['target','learned BN','graphical diffs between target and learned'])"
   ]
  },
  {
   "cell_type": "code",
   "execution_count": null,
   "metadata": {
    "ExecuteTime": {
     "start_time": "2019-02-01T18:02:51.034Z"
    },
    "scrolled": false
   },
   "outputs": [],
   "source": [
    "kl=gum.ExactBNdistance(bn,bn2)\n",
    "kl.compute()"
   ]
  },
  {
   "cell_type": "markdown",
   "metadata": {},
   "source": [
    "## 3. changing the scores"
   ]
  },
  {
   "cell_type": "markdown",
   "metadata": {},
   "source": [
    "By default, a BDEU score is used. But it can be changed."
   ]
  },
  {
   "cell_type": "code",
   "execution_count": null,
   "metadata": {
    "ExecuteTime": {
     "start_time": "2019-02-01T18:02:51.040Z"
    }
   },
   "outputs": [],
   "source": [
    "learner=gum.BNLearner(os.path.join(\"out\",\"sample_asia.csv\"),bn) #using bn as template for variables\n",
    "learner.useGreedyHillClimbing()\n",
    "\n",
    "# I know that smoking causes cancer\n",
    "learner.addMandatoryArc(0,1)\n",
    "\n",
    "# we prefere a log2likelihood score\n",
    "learner.useScoreLog2Likelihood()\n",
    "\n",
    "# in order to control the complexity, we limit the number of parents\n",
    "learner.setMaxIndegree(1) # no more than 1 parent by node\n",
    "\n",
    "bn2=learner.learnBN()\n",
    "kl=gum.ExactBNdistance(bn,bn2)\n",
    "gnb.sideBySide(bn2,\n",
    "               \"<br/>\".join([\"<b>\"+k+\"</b> :\"+str(v) for k,v in kl.compute().items()]),\n",
    "               captions=[\"learned BN\",\"distances\"])"
   ]
  },
  {
   "cell_type": "markdown",
   "metadata": {},
   "source": [
    "## 4. Mixing algorithms"
   ]
  },
  {
   "cell_type": "markdown",
   "metadata": {},
   "source": [
    "First we learn a structure with HillClimbing (faster ?)"
   ]
  },
  {
   "cell_type": "code",
   "execution_count": null,
   "metadata": {
    "ExecuteTime": {
     "start_time": "2019-02-01T18:02:51.047Z"
    }
   },
   "outputs": [],
   "source": [
    "learner=gum.BNLearner(os.path.join(\"out\",\"sample_asia.csv\"),bn) #using bn as template for variables\n",
    "learner.useGreedyHillClimbing()\n",
    "learner.addMandatoryArc(0,1)\n",
    "bn2=learner.learnBN()\n",
    "kl=gum.ExactBNdistance(bn,bn2)\n",
    "gnb.sideBySide(bn2,\n",
    "               \"<br/>\".join([\"<b>\"+k+\"</b> :\"+str(v) for k,v in kl.compute().items()]),\n",
    "               captions=[\"learned BN\",\"distances\"])"
   ]
  },
  {
   "cell_type": "markdown",
   "metadata": {},
   "source": [
    "And then we refine with tabuList"
   ]
  },
  {
   "cell_type": "code",
   "execution_count": null,
   "metadata": {
    "ExecuteTime": {
     "start_time": "2019-02-01T18:02:51.052Z"
    }
   },
   "outputs": [],
   "source": [
    "learner=gum.BNLearner(os.path.join(\"out\",\"sample_asia.csv\"),bn) #using bn as template for variables\n",
    "learner.useLocalSearchWithTabuList()\n",
    "\n",
    "learner.setInitialDAG(bn2.dag())\n",
    "#learner.setMaxNbDecreasingChanges(2)\n",
    "\n",
    "bn3=learner.learnBN()\n",
    "kl=gum.ExactBNdistance(bn,bn3)\n",
    "gnb.sideBySide(bn3,\n",
    "               \"<br/>\".join([\"<b>\"+k+\"</b> :\"+str(v) for k,v in kl.compute().items()]),\n",
    "               captions=[\"learned BN\",\"distances\"])"
   ]
  },
  {
   "cell_type": "markdown",
   "metadata": {},
   "source": [
    "# Impact of the size of the database for the learning"
   ]
  },
  {
   "cell_type": "code",
   "execution_count": null,
   "metadata": {
    "ExecuteTime": {
     "start_time": "2019-02-01T18:02:51.054Z"
    }
   },
   "outputs": [],
   "source": [
    "!head out/sample_asia.csv"
   ]
  },
  {
   "cell_type": "code",
   "execution_count": null,
   "metadata": {
    "ExecuteTime": {
     "start_time": "2019-02-01T18:02:51.057Z"
    }
   },
   "outputs": [],
   "source": [
    "import IPython.display\n",
    "rows=3\n",
    "sizes=[400,500,700,1000,2000,5000,\n",
    "       10000,50000,75000,\n",
    "       100000,150000,175000,\n",
    "       200000,300000,500000]\n"
   ]
  },
  {
   "cell_type": "code",
   "execution_count": null,
   "metadata": {
    "ExecuteTime": {
     "start_time": "2019-02-01T18:02:51.087Z"
    },
    "scrolled": false
   },
   "outputs": [],
   "source": [
    "res=\"<table>\"\n",
    "nbr=0\n",
    "l=[]\n",
    "for i in sizes:\n",
    "    n=i+1\n",
    "    oslike.rm(os.path.join(\"out\",'extract_asia.csv'))\n",
    "    oslike.head(os.path.join(\"out\",\"sample_asia.csv\"),n,os.path.join(\"out\",\"extract_asia.csv\"))\n",
    "    oslike.wc_l(os.path.join(\"out\",\"extract_asia.csv\"))\n",
    "    learner=gum.BNLearner(os.path.join(\"out\",\"extract_asia.csv\"),bn) # using bn as template for variables\n",
    "    learner.useGreedyHillClimbing()\n",
    "    bn2=learner.learnBN()\n",
    "    \n",
    "    kl=gum.ExactBNdistance(bn,bn2)\n",
    "    r=kl.compute()\n",
    "    l.append(r['klPQ'])\n",
    "    \n",
    "    if nbr % rows == 0:\n",
    "        res+=\"<tr>\"\n",
    "    res+=\"<td><center>size=\"+str(i)+\"</center>\"+gnb.getBN(bn2,size=\"3\",format=\"svg\")+\"</td>\"\n",
    "    nbr+=1\n",
    "    if nbr % rows == 0:\n",
    "        res+=\"</tr>\"\n",
    "if nbr % rows!=0:\n",
    "    res+=\"</tr>\"\n",
    "res+=\"</table>\"\n",
    "\n",
    "IPython.display.display(IPython.display.HTML(res))\n",
    "\n",
    "plot(sizes,l)\n",
    "print(l[-1])"
   ]
  },
  {
   "cell_type": "code",
   "execution_count": null,
   "metadata": {
    "ExecuteTime": {
     "start_time": "2019-02-01T18:02:51.115Z"
    },
    "scrolled": false
   },
   "outputs": [],
   "source": [
    "res=\"<table>\"\n",
    "nbr=0\n",
    "l=[]\n",
    "for i in sizes:\n",
    "    n=i+1\n",
    "    oslike.rm(os.path.join(\"out\",\"extract_asia.csv\"))\n",
    "    oslike.head(os.path.join(\"out\",\"sample_asia.csv\"),n,os.path.join(\"out\",\"extract_asia.csv\"))\n",
    "    oslike.wc_l(os.path.join(\"out\",\"extract_asia.csv\"))\n",
    "    learner=gum.BNLearner(os.path.join(\"out\",\"extract_asia.csv\"),bn) #using bn as template for variables\n",
    "    learner.useLocalSearchWithTabuList()\n",
    "    bn2=learner.learnBN()\n",
    "    \n",
    "    kl=gum.ExactBNdistance(bn,bn2)\n",
    "    r=kl.compute()\n",
    "    l.append(r['klPQ'])\n",
    "    \n",
    "    bn2.setProperty(\"name\",\"BN(%{0})\".format(i))\n",
    "    if nbr % rows == 0:\n",
    "        res+=\"<tr>\"\n",
    "    res+=\"<td><center>size=\"+str(i)+\"</center>\"+gnb.getBN(bn2,size=\"3\",format=\"svg\")+\"</td>\"\n",
    "    nbr+=1\n",
    "    if nbr % rows == 0:\n",
    "        res+=\"</tr>\"\n",
    "if nbr % rows!=0:\n",
    "    res+=\"</tr>\"\n",
    "res+=\"</table>\"\n",
    "\n",
    "IPython.display.display(IPython.display.HTML(res))\n",
    "\n",
    "plot(sizes,l)\n",
    "print(l[-1])"
   ]
  },
  {
   "cell_type": "code",
   "execution_count": null,
   "metadata": {},
   "outputs": [],
   "source": []
  }
 ],
 "metadata": {
  "hide_input": false,
  "kernelspec": {
   "display_name": "Python 3",
   "language": "python",
   "name": "python3"
  },
  "language_info": {
   "codemirror_mode": {
    "name": "ipython",
    "version": 3
   },
   "file_extension": ".py",
   "mimetype": "text/x-python",
   "name": "python",
   "nbconvert_exporter": "python",
   "pygments_lexer": "ipython3",
   "version": "3.7.2"
  }
 },
 "nbformat": 4,
 "nbformat_minor": 1
}
