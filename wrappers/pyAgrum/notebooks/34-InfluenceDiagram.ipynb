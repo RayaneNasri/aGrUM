{
 "cells": [
  {
   "cell_type": "code",
   "execution_count": 1,
   "metadata": {
    "ExecuteTime": {
     "end_time": "2018-09-11T07:53:39.666223Z",
     "start_time": "2018-09-11T07:53:39.499214Z"
    }
   },
   "outputs": [],
   "source": [
    "import os\n",
    "\n",
    "%matplotlib inline\n",
    "from pylab import *\n",
    "import matplotlib.pyplot as plt"
   ]
  },
  {
   "cell_type": "code",
   "execution_count": 2,
   "metadata": {
    "ExecuteTime": {
     "end_time": "2018-09-11T07:53:39.701452Z",
     "start_time": "2018-09-11T07:53:39.668126Z"
    }
   },
   "outputs": [],
   "source": [
    "import pyAgrum as gum\n",
    "import pyAgrum.lib.notebook as gnb\n"
   ]
  },
  {
   "cell_type": "code",
   "execution_count": 3,
   "metadata": {
    "ExecuteTime": {
     "end_time": "2018-09-11T07:53:39.883402Z",
     "start_time": "2018-09-11T07:53:39.703143Z"
    }
   },
   "outputs": [
    {
     "data": {
      "text/html": [
       "<svg height=\"385pt\" viewBox=\"0.00 0.00 432.00 384.79\" width=\"432pt\" xmlns=\"http://www.w3.org/2000/svg\" xmlns:xlink=\"http://www.w3.org/1999/xlink\">\n",
       "<g class=\"graph\" id=\"graph0\" transform=\"scale(.8084 .8084) rotate(0) translate(4 472)\">\n",
       "<title>res/diag.bifxml</title>\n",
       "<polygon fill=\"#ffffff\" points=\"-4,4 -4,-472 530.4008,-472 530.4008,4 -4,4\" stroke=\"transparent\"/>\n",
       "<!-- decisionVar1 -->\n",
       "<g class=\"node\" id=\"node1\">\n",
       "<title>decisionVar1</title>\n",
       "<polygon fill=\"#d3d3d3\" points=\"226.4008,-468 116.4008,-468 116.4008,-432 226.4008,-432 226.4008,-468\" stroke=\"#000000\"/>\n",
       "<text fill=\"#000000\" font-family=\"Times,serif\" font-size=\"14.00\" text-anchor=\"middle\" x=\"171.4008\" y=\"-446.3\">decisionVar1</text>\n",
       "</g>\n",
       "<!-- chanceVar1 -->\n",
       "<g class=\"node\" id=\"node7\">\n",
       "<title>chanceVar1</title>\n",
       "<ellipse cx=\"171.4008\" cy=\"-378\" fill=\"#d3d3d3\" rx=\"66.0889\" ry=\"18\" stroke=\"#000000\"/>\n",
       "<text fill=\"#000000\" font-family=\"Times,serif\" font-size=\"14.00\" text-anchor=\"middle\" x=\"171.4008\" y=\"-374.3\">chanceVar1</text>\n",
       "</g>\n",
       "<!-- decisionVar1&#45;&gt;chanceVar1 -->\n",
       "<g class=\"edge\" id=\"edge1\">\n",
       "<title>decisionVar1-&gt;chanceVar1</title>\n",
       "<path d=\"M171.4008,-431.8314C171.4008,-424.131 171.4008,-414.9743 171.4008,-406.4166\" fill=\"none\" stroke=\"#000000\"/>\n",
       "<polygon fill=\"#000000\" points=\"174.9009,-406.4132 171.4008,-396.4133 167.9009,-406.4133 174.9009,-406.4132\" stroke=\"#000000\"/>\n",
       "</g>\n",
       "<!-- decisionVar2 -->\n",
       "<g class=\"node\" id=\"node2\">\n",
       "<title>decisionVar2</title>\n",
       "<polygon fill=\"#d3d3d3\" points=\"292.4008,-252 182.4008,-252 182.4008,-216 292.4008,-216 292.4008,-252\" stroke=\"#000000\"/>\n",
       "<text fill=\"#000000\" font-family=\"Times,serif\" font-size=\"14.00\" text-anchor=\"middle\" x=\"237.4008\" y=\"-230.3\">decisionVar2</text>\n",
       "</g>\n",
       "<!-- utilityVar1 -->\n",
       "<g class=\"node\" id=\"node5\">\n",
       "<title>utilityVar1</title>\n",
       "<polygon fill=\"#d3d3d3\" points=\"86.4008,-180 .0991,-162 86.4008,-144 172.7025,-162 86.4008,-180\" stroke=\"#000000\"/>\n",
       "<text fill=\"#000000\" font-family=\"Times,serif\" font-size=\"14.00\" text-anchor=\"middle\" x=\"86.4008\" y=\"-158.3\">utilityVar1</text>\n",
       "</g>\n",
       "<!-- decisionVar2&#45;&gt;utilityVar1 -->\n",
       "<g class=\"edge\" id=\"edge2\">\n",
       "<title>decisionVar2-&gt;utilityVar1</title>\n",
       "<path d=\"M199.2971,-215.8314C175.6463,-204.5541 145.4454,-190.1537 122.2321,-179.0851\" fill=\"none\" stroke=\"#000000\"/>\n",
       "<polygon fill=\"#000000\" points=\"123.6035,-175.8615 113.0706,-174.7168 120.5906,-182.18 123.6035,-175.8615\" stroke=\"#000000\"/>\n",
       "</g>\n",
       "<!-- chanceVar4 -->\n",
       "<g class=\"node\" id=\"node10\">\n",
       "<title>chanceVar4</title>\n",
       "<ellipse cx=\"257.4008\" cy=\"-162\" fill=\"#d3d3d3\" rx=\"66.0889\" ry=\"18\" stroke=\"#000000\"/>\n",
       "<text fill=\"#000000\" font-family=\"Times,serif\" font-size=\"14.00\" text-anchor=\"middle\" x=\"257.4008\" y=\"-158.3\">chanceVar4</text>\n",
       "</g>\n",
       "<!-- decisionVar2&#45;&gt;chanceVar4 -->\n",
       "<g class=\"edge\" id=\"edge3\">\n",
       "<title>decisionVar2-&gt;chanceVar4</title>\n",
       "<path d=\"M242.4476,-215.8314C244.6101,-208.0463 247.1861,-198.7729 249.5856,-190.1347\" fill=\"none\" stroke=\"#000000\"/>\n",
       "<polygon fill=\"#000000\" points=\"252.9818,-190.9852 252.286,-180.4133 246.2372,-189.1117 252.9818,-190.9852\" stroke=\"#000000\"/>\n",
       "</g>\n",
       "<!-- decisionVar3 -->\n",
       "<g class=\"node\" id=\"node3\">\n",
       "<title>decisionVar3</title>\n",
       "<polygon fill=\"#d3d3d3\" points=\"441.4008,-252 331.4008,-252 331.4008,-216 441.4008,-216 441.4008,-252\" stroke=\"#000000\"/>\n",
       "<text fill=\"#000000\" font-family=\"Times,serif\" font-size=\"14.00\" text-anchor=\"middle\" x=\"386.4008\" y=\"-230.3\">decisionVar3</text>\n",
       "</g>\n",
       "<!-- chanceVar3 -->\n",
       "<g class=\"node\" id=\"node9\">\n",
       "<title>chanceVar3</title>\n",
       "<ellipse cx=\"408.4008\" cy=\"-162\" fill=\"#d3d3d3\" rx=\"66.0889\" ry=\"18\" stroke=\"#000000\"/>\n",
       "<text fill=\"#000000\" font-family=\"Times,serif\" font-size=\"14.00\" text-anchor=\"middle\" x=\"408.4008\" y=\"-158.3\">chanceVar3</text>\n",
       "</g>\n",
       "<!-- decisionVar3&#45;&gt;chanceVar3 -->\n",
       "<g class=\"edge\" id=\"edge4\">\n",
       "<title>decisionVar3-&gt;chanceVar3</title>\n",
       "<path d=\"M391.9523,-215.8314C394.3311,-208.0463 397.1646,-198.7729 399.8041,-190.1347\" fill=\"none\" stroke=\"#000000\"/>\n",
       "<polygon fill=\"#000000\" points=\"403.1995,-190.9996 402.7745,-180.4133 396.505,-188.954 403.1995,-190.9996\" stroke=\"#000000\"/>\n",
       "</g>\n",
       "<!-- decisionVar4 -->\n",
       "<g class=\"node\" id=\"node4\">\n",
       "<title>decisionVar4</title>\n",
       "<polygon fill=\"#d3d3d3\" points=\"526.4008,-108 416.4008,-108 416.4008,-72 526.4008,-72 526.4008,-108\" stroke=\"#000000\"/>\n",
       "<text fill=\"#000000\" font-family=\"Times,serif\" font-size=\"14.00\" text-anchor=\"middle\" x=\"471.4008\" y=\"-86.3\">decisionVar4</text>\n",
       "</g>\n",
       "<!-- utilityVar2 -->\n",
       "<g class=\"node\" id=\"node6\">\n",
       "<title>utilityVar2</title>\n",
       "<polygon fill=\"#d3d3d3\" points=\"401.4008,-36 315.0991,-18 401.4008,0 487.7025,-18 401.4008,-36\" stroke=\"#000000\"/>\n",
       "<text fill=\"#000000\" font-family=\"Times,serif\" font-size=\"14.00\" text-anchor=\"middle\" x=\"401.4008\" y=\"-14.3\">utilityVar2</text>\n",
       "</g>\n",
       "<!-- decisionVar4&#45;&gt;utilityVar2 -->\n",
       "<g class=\"edge\" id=\"edge5\">\n",
       "<title>decisionVar4-&gt;utilityVar2</title>\n",
       "<path d=\"M453.7368,-71.8314C444.4417,-62.2706 432.9641,-50.4651 423.1281,-40.3481\" fill=\"none\" stroke=\"#000000\"/>\n",
       "<polygon fill=\"#000000\" points=\"425.4702,-37.7361 415.9899,-33.0059 420.4512,-42.6157 425.4702,-37.7361\" stroke=\"#000000\"/>\n",
       "</g>\n",
       "<!-- chanceVar1&#45;&gt;utilityVar1 -->\n",
       "<g class=\"edge\" id=\"edge6\">\n",
       "<title>chanceVar1-&gt;utilityVar1</title>\n",
       "<path d=\"M164.2999,-359.9555C149.2711,-321.7646 114.1955,-232.6312 96.7021,-188.1774\" fill=\"none\" stroke=\"#000000\"/>\n",
       "<polygon fill=\"#000000\" points=\"99.8708,-186.6715 92.952,-178.6477 93.357,-189.2348 99.8708,-186.6715\" stroke=\"#000000\"/>\n",
       "</g>\n",
       "<!-- chanceVar2 -->\n",
       "<g class=\"node\" id=\"node8\">\n",
       "<title>chanceVar2</title>\n",
       "<ellipse cx=\"237.4008\" cy=\"-306\" fill=\"#d3d3d3\" rx=\"66.0889\" ry=\"18\" stroke=\"#000000\"/>\n",
       "<text fill=\"#000000\" font-family=\"Times,serif\" font-size=\"14.00\" text-anchor=\"middle\" x=\"237.4008\" y=\"-302.3\">chanceVar2</text>\n",
       "</g>\n",
       "<!-- chanceVar1&#45;&gt;chanceVar2 -->\n",
       "<g class=\"edge\" id=\"edge7\">\n",
       "<title>chanceVar1-&gt;chanceVar2</title>\n",
       "<path d=\"M187.7154,-360.2022C195.7878,-351.396 205.6678,-340.6179 214.4851,-330.9989\" fill=\"none\" stroke=\"#000000\"/>\n",
       "<polygon fill=\"#000000\" points=\"217.0966,-333.3296 221.2738,-323.593 211.9365,-328.5995 217.0966,-333.3296\" stroke=\"#000000\"/>\n",
       "</g>\n",
       "<!-- chanceVar2&#45;&gt;decisionVar2 -->\n",
       "<g class=\"edge\" id=\"edge8\">\n",
       "<title>chanceVar2-&gt;decisionVar2</title>\n",
       "<path d=\"M237.4008,-287.8314C237.4008,-280.131 237.4008,-270.9743 237.4008,-262.4166\" fill=\"none\" stroke=\"#000000\"/>\n",
       "<polygon fill=\"#000000\" points=\"240.9009,-262.4132 237.4008,-252.4133 233.9009,-262.4133 240.9009,-262.4132\" stroke=\"#000000\"/>\n",
       "</g>\n",
       "<!-- chanceVar2&#45;&gt;decisionVar3 -->\n",
       "<g class=\"edge\" id=\"edge9\">\n",
       "<title>chanceVar2-&gt;decisionVar3</title>\n",
       "<path d=\"M270.0995,-290.1993C290.5788,-280.3032 317.289,-267.3963 339.9467,-256.4476\" fill=\"none\" stroke=\"#000000\"/>\n",
       "<polygon fill=\"#000000\" points=\"341.5731,-259.549 349.0542,-252.0467 338.5274,-253.2463 341.5731,-259.549\" stroke=\"#000000\"/>\n",
       "</g>\n",
       "<!-- chanceVar5 -->\n",
       "<g class=\"node\" id=\"node11\">\n",
       "<title>chanceVar5</title>\n",
       "<ellipse cx=\"332.4008\" cy=\"-90\" fill=\"#d3d3d3\" rx=\"66.0889\" ry=\"18\" stroke=\"#000000\"/>\n",
       "<text fill=\"#000000\" font-family=\"Times,serif\" font-size=\"14.00\" text-anchor=\"middle\" x=\"332.4008\" y=\"-86.3\">chanceVar5</text>\n",
       "</g>\n",
       "<!-- chanceVar3&#45;&gt;chanceVar5 -->\n",
       "<g class=\"edge\" id=\"edge10\">\n",
       "<title>chanceVar3-&gt;chanceVar5</title>\n",
       "<path d=\"M390.0033,-144.5708C380.4587,-135.5286 368.6421,-124.3338 358.2003,-114.4417\" fill=\"none\" stroke=\"#000000\"/>\n",
       "<polygon fill=\"#000000\" points=\"360.5589,-111.8549 350.8923,-107.5182 355.7447,-116.9366 360.5589,-111.8549\" stroke=\"#000000\"/>\n",
       "</g>\n",
       "<!-- chanceVar4&#45;&gt;chanceVar5 -->\n",
       "<g class=\"edge\" id=\"edge11\">\n",
       "<title>chanceVar4-&gt;chanceVar5</title>\n",
       "<path d=\"M275.5562,-144.5708C284.8837,-135.6164 296.4101,-124.551 306.6402,-114.7302\" fill=\"none\" stroke=\"#000000\"/>\n",
       "<polygon fill=\"#000000\" points=\"309.3626,-116.9685 314.1526,-107.5182 304.5148,-111.9187 309.3626,-116.9685\" stroke=\"#000000\"/>\n",
       "</g>\n",
       "<!-- chanceVar5&#45;&gt;utilityVar2 -->\n",
       "<g class=\"edge\" id=\"edge12\">\n",
       "<title>chanceVar5-&gt;utilityVar2</title>\n",
       "<path d=\"M349.1038,-72.5708C358.2572,-63.0194 369.7123,-51.0662 379.5665,-40.7836\" fill=\"none\" stroke=\"#000000\"/>\n",
       "<polygon fill=\"#000000\" points=\"382.3333,-42.955 386.7254,-33.3134 377.2794,-38.1116 382.3333,-42.955\" stroke=\"#000000\"/>\n",
       "</g>\n",
       "</g>\n",
       "</svg>"
      ],
      "text/plain": [
       "<IPython.core.display.HTML object>"
      ]
     },
     "metadata": {},
     "output_type": "display_data"
    }
   ],
   "source": [
    "diag=gum.loadID(os.path.join(\"res\",\"diag.bifxml\"))\n",
    "gnb.showInfluenceDiagram(diag,size=\"6\",format='svg')"
   ]
  },
  {
   "cell_type": "code",
   "execution_count": 4,
   "metadata": {
    "ExecuteTime": {
     "end_time": "2018-09-11T07:53:40.071202Z",
     "start_time": "2018-09-11T07:53:39.886135Z"
    }
   },
   "outputs": [
    {
     "data": {
      "text/html": [
       "<svg height=\"371pt\" viewBox=\"0.00 0.00 432.00 370.91\" width=\"432pt\" xmlns=\"http://www.w3.org/2000/svg\" xmlns:xlink=\"http://www.w3.org/1999/xlink\">\n",
       "<g class=\"graph\" id=\"graph0\" transform=\"scale(.7792 .7792) rotate(0) translate(4 472)\">\n",
       "<title>res/diag.bifxml</title>\n",
       "<polygon fill=\"#ffffff\" points=\"-4,4 -4,-472 550.4008,-472 550.4008,4 -4,4\" stroke=\"transparent\"/>\n",
       "<!-- decisionVar1 -->\n",
       "<g class=\"node\" id=\"node1\">\n",
       "<title>decisionVar1</title>\n",
       "<polygon fill=\"#d3d3d3\" points=\"393.4008,-468 283.4008,-468 283.4008,-432 393.4008,-432 393.4008,-468\" stroke=\"#000000\"/>\n",
       "<text fill=\"#000000\" font-family=\"Times,serif\" font-size=\"14.00\" text-anchor=\"middle\" x=\"338.4008\" y=\"-446.3\">decisionVar1</text>\n",
       "</g>\n",
       "<!-- chanceVar1 -->\n",
       "<g class=\"node\" id=\"node8\">\n",
       "<title>chanceVar1</title>\n",
       "<ellipse cx=\"291.4008\" cy=\"-378\" fill=\"#d3d3d3\" rx=\"66.0889\" ry=\"18\" stroke=\"#000000\"/>\n",
       "<text fill=\"#000000\" font-family=\"Times,serif\" font-size=\"14.00\" text-anchor=\"middle\" x=\"291.4008\" y=\"-374.3\">chanceVar1</text>\n",
       "</g>\n",
       "<!-- decisionVar1&#45;&gt;chanceVar1 -->\n",
       "<g class=\"edge\" id=\"edge2\">\n",
       "<title>decisionVar1-&gt;chanceVar1</title>\n",
       "<path d=\"M326.5407,-431.8314C321.1002,-423.497 314.5461,-413.4567 308.5794,-404.3162\" fill=\"none\" stroke=\"#000000\"/>\n",
       "<polygon fill=\"#000000\" points=\"311.4914,-402.374 303.0943,-395.9134 305.6297,-406.2004 311.4914,-402.374\" stroke=\"#000000\"/>\n",
       "</g>\n",
       "<!-- F -->\n",
       "<g class=\"node\" id=\"node13\">\n",
       "<title>F</title>\n",
       "<ellipse cx=\"430.4008\" cy=\"-306\" fill=\"#d3d3d3\" rx=\"27\" ry=\"18\" stroke=\"#000000\"/>\n",
       "<text fill=\"#000000\" font-family=\"Times,serif\" font-size=\"14.00\" text-anchor=\"middle\" x=\"430.4008\" y=\"-302.3\">F</text>\n",
       "</g>\n",
       "<!-- decisionVar1&#45;&gt;F -->\n",
       "<g class=\"edge\" id=\"edge1\">\n",
       "<title>decisionVar1-&gt;F</title>\n",
       "<path d=\"M350.0526,-431.7623C366.2828,-406.3585 395.7672,-360.2091 414.1505,-331.4352\" fill=\"none\" stroke=\"#000000\"/>\n",
       "<polygon fill=\"#000000\" points=\"417.2637,-333.0632 419.6982,-322.7519 411.3648,-329.2945 417.2637,-333.0632\" stroke=\"#000000\"/>\n",
       "</g>\n",
       "<!-- decisionVar2 -->\n",
       "<g class=\"node\" id=\"node2\">\n",
       "<title>decisionVar2</title>\n",
       "<polygon fill=\"#d3d3d3\" points=\"312.4008,-252 202.4008,-252 202.4008,-216 312.4008,-216 312.4008,-252\" stroke=\"#000000\"/>\n",
       "<text fill=\"#000000\" font-family=\"Times,serif\" font-size=\"14.00\" text-anchor=\"middle\" x=\"257.4008\" y=\"-230.3\">decisionVar2</text>\n",
       "</g>\n",
       "<!-- utilityVar1 -->\n",
       "<g class=\"node\" id=\"node5\">\n",
       "<title>utilityVar1</title>\n",
       "<polygon fill=\"#d3d3d3\" points=\"86.4008,-180 .0991,-162 86.4008,-144 172.7025,-162 86.4008,-180\" stroke=\"#000000\"/>\n",
       "<text fill=\"#000000\" font-family=\"Times,serif\" font-size=\"14.00\" text-anchor=\"middle\" x=\"86.4008\" y=\"-158.3\">utilityVar1</text>\n",
       "</g>\n",
       "<!-- decisionVar2&#45;&gt;utilityVar1 -->\n",
       "<g class=\"edge\" id=\"edge3\">\n",
       "<title>decisionVar2-&gt;utilityVar1</title>\n",
       "<path d=\"M214.2503,-215.8314C186.581,-204.1812 150.9955,-189.1978 124.3962,-177.9981\" fill=\"none\" stroke=\"#000000\"/>\n",
       "<polygon fill=\"#000000\" points=\"125.609,-174.7112 115.0344,-174.0563 122.8925,-181.1626 125.609,-174.7112\" stroke=\"#000000\"/>\n",
       "</g>\n",
       "<!-- chanceVar4 -->\n",
       "<g class=\"node\" id=\"node11\">\n",
       "<title>chanceVar4</title>\n",
       "<ellipse cx=\"257.4008\" cy=\"-162\" fill=\"#d3d3d3\" rx=\"66.0889\" ry=\"18\" stroke=\"#000000\"/>\n",
       "<text fill=\"#000000\" font-family=\"Times,serif\" font-size=\"14.00\" text-anchor=\"middle\" x=\"257.4008\" y=\"-158.3\">chanceVar4</text>\n",
       "</g>\n",
       "<!-- decisionVar2&#45;&gt;chanceVar4 -->\n",
       "<g class=\"edge\" id=\"edge4\">\n",
       "<title>decisionVar2-&gt;chanceVar4</title>\n",
       "<path d=\"M257.4008,-215.8314C257.4008,-208.131 257.4008,-198.9743 257.4008,-190.4166\" fill=\"none\" stroke=\"#000000\"/>\n",
       "<polygon fill=\"#000000\" points=\"260.9009,-190.4132 257.4008,-180.4133 253.9009,-190.4133 260.9009,-190.4132\" stroke=\"#000000\"/>\n",
       "</g>\n",
       "<!-- decisionVar3 -->\n",
       "<g class=\"node\" id=\"node3\">\n",
       "<title>decisionVar3</title>\n",
       "<polygon fill=\"#d3d3d3\" points=\"463.4008,-252 353.4008,-252 353.4008,-216 463.4008,-216 463.4008,-252\" stroke=\"#000000\"/>\n",
       "<text fill=\"#000000\" font-family=\"Times,serif\" font-size=\"14.00\" text-anchor=\"middle\" x=\"408.4008\" y=\"-230.3\">decisionVar3</text>\n",
       "</g>\n",
       "<!-- U -->\n",
       "<g class=\"node\" id=\"node7\">\n",
       "<title>U</title>\n",
       "<polygon fill=\"#d3d3d3\" points=\"519.4008,-180 492.4008,-162 519.4008,-144 546.4008,-162 519.4008,-180\" stroke=\"#000000\"/>\n",
       "<text fill=\"#000000\" font-family=\"Times,serif\" font-size=\"14.00\" text-anchor=\"middle\" x=\"519.4008\" y=\"-158.3\">U</text>\n",
       "</g>\n",
       "<!-- decisionVar3&#45;&gt;U -->\n",
       "<g class=\"edge\" id=\"edge6\">\n",
       "<title>decisionVar3-&gt;U</title>\n",
       "<path d=\"M436.4108,-215.8314C455.2245,-203.6279 479.6765,-187.7671 497.1564,-176.4288\" fill=\"none\" stroke=\"#000000\"/>\n",
       "<polygon fill=\"#000000\" points=\"499.11,-179.3335 505.5949,-170.9551 495.3006,-173.4607 499.11,-179.3335\" stroke=\"#000000\"/>\n",
       "</g>\n",
       "<!-- chanceVar3 -->\n",
       "<g class=\"node\" id=\"node10\">\n",
       "<title>chanceVar3</title>\n",
       "<ellipse cx=\"408.4008\" cy=\"-162\" fill=\"#d3d3d3\" rx=\"66.0889\" ry=\"18\" stroke=\"#000000\"/>\n",
       "<text fill=\"#000000\" font-family=\"Times,serif\" font-size=\"14.00\" text-anchor=\"middle\" x=\"408.4008\" y=\"-158.3\">chanceVar3</text>\n",
       "</g>\n",
       "<!-- decisionVar3&#45;&gt;chanceVar3 -->\n",
       "<g class=\"edge\" id=\"edge5\">\n",
       "<title>decisionVar3-&gt;chanceVar3</title>\n",
       "<path d=\"M408.4008,-215.8314C408.4008,-208.131 408.4008,-198.9743 408.4008,-190.4166\" fill=\"none\" stroke=\"#000000\"/>\n",
       "<polygon fill=\"#000000\" points=\"411.9009,-190.4132 408.4008,-180.4133 404.9009,-190.4133 411.9009,-190.4132\" stroke=\"#000000\"/>\n",
       "</g>\n",
       "<!-- decisionVar4 -->\n",
       "<g class=\"node\" id=\"node4\">\n",
       "<title>decisionVar4</title>\n",
       "<polygon fill=\"#d3d3d3\" points=\"526.4008,-108 416.4008,-108 416.4008,-72 526.4008,-72 526.4008,-108\" stroke=\"#000000\"/>\n",
       "<text fill=\"#000000\" font-family=\"Times,serif\" font-size=\"14.00\" text-anchor=\"middle\" x=\"471.4008\" y=\"-86.3\">decisionVar4</text>\n",
       "</g>\n",
       "<!-- utilityVar2 -->\n",
       "<g class=\"node\" id=\"node6\">\n",
       "<title>utilityVar2</title>\n",
       "<polygon fill=\"#d3d3d3\" points=\"401.4008,-36 315.0991,-18 401.4008,0 487.7025,-18 401.4008,-36\" stroke=\"#000000\"/>\n",
       "<text fill=\"#000000\" font-family=\"Times,serif\" font-size=\"14.00\" text-anchor=\"middle\" x=\"401.4008\" y=\"-14.3\">utilityVar2</text>\n",
       "</g>\n",
       "<!-- decisionVar4&#45;&gt;utilityVar2 -->\n",
       "<g class=\"edge\" id=\"edge7\">\n",
       "<title>decisionVar4-&gt;utilityVar2</title>\n",
       "<path d=\"M453.7368,-71.8314C444.4417,-62.2706 432.9641,-50.4651 423.1281,-40.3481\" fill=\"none\" stroke=\"#000000\"/>\n",
       "<polygon fill=\"#000000\" points=\"425.4702,-37.7361 415.9899,-33.0059 420.4512,-42.6157 425.4702,-37.7361\" stroke=\"#000000\"/>\n",
       "</g>\n",
       "<!-- chanceVar1&#45;&gt;utilityVar1 -->\n",
       "<g class=\"edge\" id=\"edge8\">\n",
       "<title>chanceVar1-&gt;utilityVar1</title>\n",
       "<path d=\"M264.7201,-361.3692C249.7543,-351.4269 231.1806,-338.0275 216.4008,-324 170.2579,-280.206 125.976,-219.8394 102.9026,-186.5381\" fill=\"none\" stroke=\"#000000\"/>\n",
       "<polygon fill=\"#000000\" points=\"105.518,-184.1636 96.9733,-177.8995 99.7466,-188.1249 105.518,-184.1636\" stroke=\"#000000\"/>\n",
       "</g>\n",
       "<!-- chanceVar2 -->\n",
       "<g class=\"node\" id=\"node9\">\n",
       "<title>chanceVar2</title>\n",
       "<ellipse cx=\"291.4008\" cy=\"-306\" fill=\"#d3d3d3\" rx=\"66.0889\" ry=\"18\" stroke=\"#000000\"/>\n",
       "<text fill=\"#000000\" font-family=\"Times,serif\" font-size=\"14.00\" text-anchor=\"middle\" x=\"291.4008\" y=\"-302.3\">chanceVar2</text>\n",
       "</g>\n",
       "<!-- chanceVar1&#45;&gt;chanceVar2 -->\n",
       "<g class=\"edge\" id=\"edge9\">\n",
       "<title>chanceVar1-&gt;chanceVar2</title>\n",
       "<path d=\"M291.4008,-359.8314C291.4008,-352.131 291.4008,-342.9743 291.4008,-334.4166\" fill=\"none\" stroke=\"#000000\"/>\n",
       "<polygon fill=\"#000000\" points=\"294.9009,-334.4132 291.4008,-324.4133 287.9009,-334.4133 294.9009,-334.4132\" stroke=\"#000000\"/>\n",
       "</g>\n",
       "<!-- chanceVar2&#45;&gt;decisionVar2 -->\n",
       "<g class=\"edge\" id=\"edge10\">\n",
       "<title>chanceVar2-&gt;decisionVar2</title>\n",
       "<path d=\"M282.8211,-287.8314C279.065,-279.8771 274.575,-270.369 270.421,-261.5723\" fill=\"none\" stroke=\"#000000\"/>\n",
       "<polygon fill=\"#000000\" points=\"273.5309,-259.9612 266.0959,-252.4133 267.2012,-262.9503 273.5309,-259.9612\" stroke=\"#000000\"/>\n",
       "</g>\n",
       "<!-- chanceVar2&#45;&gt;decisionVar3 -->\n",
       "<g class=\"edge\" id=\"edge11\">\n",
       "<title>chanceVar2-&gt;decisionVar3</title>\n",
       "<path d=\"M318.2429,-289.4817C333.6399,-280.0067 353.2237,-267.9552 370.2027,-257.5065\" fill=\"none\" stroke=\"#000000\"/>\n",
       "<polygon fill=\"#000000\" points=\"372.126,-260.4326 378.8082,-252.2108 368.4573,-254.471 372.126,-260.4326\" stroke=\"#000000\"/>\n",
       "</g>\n",
       "<!-- chanceVar5 -->\n",
       "<g class=\"node\" id=\"node12\">\n",
       "<title>chanceVar5</title>\n",
       "<ellipse cx=\"332.4008\" cy=\"-90\" fill=\"#d3d3d3\" rx=\"66.0889\" ry=\"18\" stroke=\"#000000\"/>\n",
       "<text fill=\"#000000\" font-family=\"Times,serif\" font-size=\"14.00\" text-anchor=\"middle\" x=\"332.4008\" y=\"-86.3\">chanceVar5</text>\n",
       "</g>\n",
       "<!-- chanceVar3&#45;&gt;chanceVar5 -->\n",
       "<g class=\"edge\" id=\"edge12\">\n",
       "<title>chanceVar3-&gt;chanceVar5</title>\n",
       "<path d=\"M390.0033,-144.5708C380.4587,-135.5286 368.6421,-124.3338 358.2003,-114.4417\" fill=\"none\" stroke=\"#000000\"/>\n",
       "<polygon fill=\"#000000\" points=\"360.5589,-111.8549 350.8923,-107.5182 355.7447,-116.9366 360.5589,-111.8549\" stroke=\"#000000\"/>\n",
       "</g>\n",
       "<!-- chanceVar4&#45;&gt;chanceVar5 -->\n",
       "<g class=\"edge\" id=\"edge13\">\n",
       "<title>chanceVar4-&gt;chanceVar5</title>\n",
       "<path d=\"M275.5562,-144.5708C284.8837,-135.6164 296.4101,-124.551 306.6402,-114.7302\" fill=\"none\" stroke=\"#000000\"/>\n",
       "<polygon fill=\"#000000\" points=\"309.3626,-116.9685 314.1526,-107.5182 304.5148,-111.9187 309.3626,-116.9685\" stroke=\"#000000\"/>\n",
       "</g>\n",
       "<!-- chanceVar5&#45;&gt;utilityVar2 -->\n",
       "<g class=\"edge\" id=\"edge14\">\n",
       "<title>chanceVar5-&gt;utilityVar2</title>\n",
       "<path d=\"M349.1038,-72.5708C358.2572,-63.0194 369.7123,-51.0662 379.5665,-40.7836\" fill=\"none\" stroke=\"#000000\"/>\n",
       "<polygon fill=\"#000000\" points=\"382.3333,-42.955 386.7254,-33.3134 377.2794,-38.1116 382.3333,-42.955\" stroke=\"#000000\"/>\n",
       "</g>\n",
       "<!-- F&#45;&gt;U -->\n",
       "<g class=\"edge\" id=\"edge15\">\n",
       "<title>F-&gt;U</title>\n",
       "<path d=\"M444.0633,-290.0194C452.6929,-279.5566 463.7971,-265.3889 472.4008,-252 486.4559,-230.1277 499.9167,-203.584 508.8025,-185.0119\" fill=\"none\" stroke=\"#000000\"/>\n",
       "<polygon fill=\"#000000\" points=\"512.0262,-186.3817 513.1271,-175.8442 505.6952,-183.3953 512.0262,-186.3817\" stroke=\"#000000\"/>\n",
       "</g>\n",
       "</g>\n",
       "</svg>"
      ],
      "text/plain": [
       "<IPython.core.display.HTML object>"
      ]
     },
     "metadata": {},
     "output_type": "display_data"
    }
   ],
   "source": [
    "F=diag.addChanceNode(gum.LabelizedVariable(\"F\",\"F\",2))\n",
    "diag.addArc(diag.idFromName(\"decisionVar1\"),F)\n",
    "\n",
    "U=diag.addUtilityNode(gum.LabelizedVariable(\"U\",\"U\",1))\n",
    "diag.addArc(diag.idFromName(\"decisionVar3\"),U)\n",
    "diag.addArc(diag.idFromName(\"F\"),U)\n",
    "\n",
    "gnb.showInfluenceDiagram(diag,size=\"6\",format=\"svg\") \n",
    "# note the difference between png (above) and svg (here)rendering"
   ]
  },
  {
   "cell_type": "code",
   "execution_count": 5,
   "metadata": {
    "ExecuteTime": {
     "end_time": "2018-09-11T07:53:40.078030Z",
     "start_time": "2018-09-11T07:53:40.073443Z"
    }
   },
   "outputs": [],
   "source": [
    "diag.cpt(F)[{'decisionVar1':0}]=[0.9,0.1]\n",
    "diag.cpt(F)[{'decisionVar1':1}]=[0.3,0.7]\n",
    "\n",
    "diag.utility(U)[{'F':0,'decisionVar3':0}]=2\n",
    "diag.utility(U)[{'F':0,'decisionVar3':1}]=4\n",
    "diag.utility(U)[{'F':1}]=[[0],[5]]"
   ]
  },
  {
   "cell_type": "code",
   "execution_count": 6,
   "metadata": {
    "ExecuteTime": {
     "end_time": "2018-09-11T07:53:40.450053Z",
     "start_time": "2018-09-11T07:53:40.080259Z"
    }
   },
   "outputs": [
    {
     "data": {
      "image/png": "[encoded data removed]"
     },
     "metadata": {},
     "output_type": "display_data"
    }
   ],
   "source": [
    "asia=gum.loadID(os.path.join(\"res\",\"DecAsia.bifxml\"))\n",
    "gnb.showInfluenceDiagram(asia)"
   ]
  },
  {
   "cell_type": "code",
   "execution_count": 7,
   "metadata": {
    "ExecuteTime": {
     "end_time": "2018-09-11T07:53:40.722444Z",
     "start_time": "2018-09-11T07:53:40.454292Z"
    }
   },
   "outputs": [
    {
     "data": {
      "image/png": "[encoded data removed]"
     },
     "metadata": {},
     "output_type": "display_data"
    }
   ],
   "source": [
    "oil=gum.loadID(os.path.join(\"res\",\"OilWildcater.bifxml\"))\n",
    "gnb.showInfluenceDiagram(oil)"
   ]
  },
  {
   "cell_type": "code",
   "execution_count": 8,
   "metadata": {
    "ExecuteTime": {
     "end_time": "2018-09-11T07:53:40.730837Z",
     "start_time": "2018-09-11T07:53:40.726667Z"
    }
   },
   "outputs": [],
   "source": [
    "ie=gum.InfluenceDiagramInference(oil)"
   ]
  },
  {
   "cell_type": "code",
   "execution_count": 9,
   "metadata": {
    "ExecuteTime": {
     "end_time": "2018-09-11T07:53:40.748290Z",
     "start_time": "2018-09-11T07:53:40.732956Z"
    }
   },
   "outputs": [
    {
     "name": "stdout",
     "output_type": "stream",
     "text": [
      "Best decision for T : 1\n",
      "Best decision for D : 1\n",
      "For a maxEU : 60.0\n"
     ]
    }
   ],
   "source": [
    "ie.makeInference()\n",
    "print(\"Best decision for T : {0}\".format(ie.getBestDecisionChoice(oil.idFromName(\"T\"))))\n",
    "print(\"Best decision for D : {0}\".format(ie.getBestDecisionChoice(oil.idFromName(\"D\"))))\n",
    "print(\"For a maxEU : {0}\".format(ie.getMEU()))"
   ]
  },
  {
   "cell_type": "code",
   "execution_count": 10,
   "metadata": {
    "ExecuteTime": {
     "end_time": "2018-09-11T07:53:40.774188Z",
     "start_time": "2018-09-11T07:53:40.750726Z"
    }
   },
   "outputs": [
    {
     "name": "stdout",
     "output_type": "stream",
     "text": [
      "O<Dry,Wet,Soak>\n"
     ]
    }
   ],
   "source": [
    "print(oil.variable(3))"
   ]
  },
  {
   "cell_type": "code",
   "execution_count": 11,
   "metadata": {
    "ExecuteTime": {
     "end_time": "2018-09-11T07:53:40.789296Z",
     "start_time": "2018-09-11T07:53:40.777074Z"
    }
   },
   "outputs": [
    {
     "name": "stdout",
     "output_type": "stream",
     "text": [
      "Best decision for T : 1\n",
      "Best decision for D : 1\n",
      "For a maxEU : 0.0\n"
     ]
    }
   ],
   "source": [
    "ie.eraseAllEvidence()\n",
    "ie.setEvidence({3:0})\n",
    "ie.makeInference()\n",
    "print(\"Best decision for T : {0}\".format(ie.getBestDecisionChoice(oil.idFromName(\"T\"))))\n",
    "print(\"Best decision for D : {0}\".format(ie.getBestDecisionChoice(oil.idFromName(\"D\"))))\n",
    "print(\"For a maxEU : {0}\".format(ie.getMEU()))"
   ]
  },
  {
   "cell_type": "code",
   "execution_count": 12,
   "metadata": {
    "ExecuteTime": {
     "end_time": "2018-09-11T07:53:40.816977Z",
     "start_time": "2018-09-11T07:53:40.791910Z"
    }
   },
   "outputs": [
    {
     "name": "stdout",
     "output_type": "stream",
     "text": [
      "Best decision for T : 1\n",
      "Best decision for D : 0\n",
      "For a maxEU : 60.0\n"
     ]
    }
   ],
   "source": [
    "ie.eraseAllEvidence()\n",
    "ie.setEvidence({3:1})\n",
    "ie.makeInference()\n",
    "print(\"Best decision for T : {0}\".format(ie.getBestDecisionChoice(oil.idFromName(\"T\"))))\n",
    "print(\"Best decision for D : {0}\".format(ie.getBestDecisionChoice(oil.idFromName(\"D\"))))\n",
    "print(\"For a maxEU : {0}\".format(ie.getMEU()))"
   ]
  },
  {
   "cell_type": "code",
   "execution_count": 13,
   "metadata": {
    "ExecuteTime": {
     "end_time": "2018-09-11T07:53:40.841765Z",
     "start_time": "2018-09-11T07:53:40.820017Z"
    }
   },
   "outputs": [
    {
     "name": "stdout",
     "output_type": "stream",
     "text": [
      "Best decision for T : 1\n",
      "Best decision for D : 0\n",
      "For a maxEU : 10.0\n"
     ]
    }
   ],
   "source": [
    "ie.eraseAllEvidence()\n",
    "ie.setEvidence({3:2})\n",
    "ie.makeInference()\n",
    "print(\"Best decision for T : {0}\".format(ie.getBestDecisionChoice(oil.idFromName(\"T\"))))\n",
    "print(\"Best decision for D : {0}\".format(ie.getBestDecisionChoice(oil.idFromName(\"D\"))))\n",
    "print(\"For a maxEU : {0}\".format(ie.getMEU()))"
   ]
  },
  {
   "cell_type": "code",
   "execution_count": 14,
   "metadata": {
    "ExecuteTime": {
     "end_time": "2018-09-11T07:53:40.865206Z",
     "start_time": "2018-09-11T07:53:40.844502Z"
    }
   },
   "outputs": [
    {
     "name": "stdout",
     "output_type": "stream",
     "text": [
      "Best decision for T : 1\n",
      "Best decision for D : 1\n",
      "For a maxEU : 30.0\n"
     ]
    }
   ],
   "source": [
    "ie.eraseAllEvidence()\n",
    "ie.setEvidence({3:[1,0.5,0.1]})\n",
    "ie.makeInference()\n",
    "print(\"Best decision for T : {0}\".format(ie.getBestDecisionChoice(oil.idFromName(\"T\"))))\n",
    "print(\"Best decision for D : {0}\".format(ie.getBestDecisionChoice(oil.idFromName(\"D\"))))\n",
    "print(\"For a maxEU : {0}\".format(ie.getMEU()))"
   ]
  },
  {
   "cell_type": "code",
   "execution_count": null,
   "metadata": {},
   "outputs": [],
   "source": []
  }
 ],
 "metadata": {
  "hide_input": false,
  "kernelspec": {
   "display_name": "Python 3",
   "language": "python",
   "name": "python3"
  },
  "language_info": {
   "codemirror_mode": {
    "name": "ipython",
    "version": 3
   },
   "file_extension": ".py",
   "mimetype": "text/x-python",
   "name": "python",
   "nbconvert_exporter": "python",
   "pygments_lexer": "ipython3",
   "version": "3.7.0"
  }
 },
 "nbformat": 4,
 "nbformat_minor": 1
}
