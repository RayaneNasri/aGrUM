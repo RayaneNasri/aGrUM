{
 "cells": [
  {
   "cell_type": "code",
   "execution_count": 1,
   "metadata": {},
   "outputs": [],
   "source": [
    "import os \n",
    "\n",
    "%matplotlib inline\n",
    "from pylab import *\n",
    "import matplotlib.pyplot as plt\n",
    "\n",
    "plt.rcParams[\"figure.figsize\"] = [3,3]\n",
    "\n"
   ]
  },
  {
   "cell_type": "code",
   "execution_count": 2,
   "metadata": {},
   "outputs": [
    {
     "name": "stdout",
     "output_type": "stream",
     "text": [
      "\n",
      "BN{nodes: 413, arcs: 602, domainSize: 10^406.108, parameters: 461069, compression ratio: 100-10^-398.444% }\n"
     ]
    }
   ],
   "source": [
    "import pyAgrum as gum\n",
    "import pyAgrum.lib.notebook as gnb\n",
    "\n",
    "bn=gum.loadBN(os.path.join(\"res\",\"Diabetes.bif\"))\n",
    "#gnb.showBN(bn,size='8')\n",
    "print(bn)\n",
    "\n"
   ]
  },
  {
   "cell_type": "markdown",
   "metadata": {},
   "source": [
    "### First, some helpers"
   ]
  },
  {
   "cell_type": "code",
   "execution_count": 3,
   "metadata": {
    "collapsed": true
   },
   "outputs": [],
   "source": [
    "import time\n",
    "\n",
    "class Timer:    \n",
    "    def __enter__(self):\n",
    "        self.start = time.clock()\n",
    "        return self\n",
    "\n",
    "    def __exit__(self, *args):\n",
    "        self.end = time.clock()\n",
    "        self.interval = self.end - self.start\n",
    "        \n",
    "        "
   ]
  },
  {
   "cell_type": "code",
   "execution_count": 4,
   "metadata": {
    "collapsed": true
   },
   "outputs": [],
   "source": [
    "def execute(ie):\n",
    "    with Timer() as t:\n",
    "        ie.makeInference()\n",
    "        for i in bn.ids():\n",
    "            a=ie.posterior(i)\n",
    "    print(\"duration : {:3.3f}s\".format(t.interval))\n",
    "    \n",
    "def compare(ie,ie2):\n",
    "    exact=[]\n",
    "    appro=[]\n",
    "    for node in bn.ids():\n",
    "        # potentials as numpy array\n",
    "        exact+=ie.posterior(node).tolist()\n",
    "        appro+=ie2.posterior(node).tolist()\n",
    "\n",
    "    plot(exact,appro,'ro')\n",
    "    \n",
    "    "
   ]
  },
  {
   "cell_type": "markdown",
   "metadata": {},
   "source": [
    "### Exact inference."
   ]
  },
  {
   "cell_type": "code",
   "execution_count": 5,
   "metadata": {},
   "outputs": [
    {
     "name": "stdout",
     "output_type": "stream",
     "text": [
      "duration : 1.809s\n"
     ]
    },
    {
     "data": {
      "image/png": "[encoded data removed]",
      "text/plain": [
       "<matplotlib.figure.Figure at 0x7f4d61be7160>"
      ]
     },
     "metadata": {},
     "output_type": "display_data"
    }
   ],
   "source": [
    "# timer in\n",
    "ie=gum.LazyPropagation(bn)\n",
    "execute(ie)\n",
    "compare(ie,ie)\n",
    "\n"
   ]
  },
  {
   "cell_type": "markdown",
   "metadata": {},
   "source": [
    "<h1>Loopy Belief Propagation</h1>\n",
    "\n",
    "Like other approximated algorithm (GibbsInference), Loopy belief propagations inference iterations can be stopped :\n",
    "<ul>\n",
    "<li> by the value of error (epsilon)</li>\n",
    "<li> by the rate of change of epsilon (MinEpsilonRate)</li>\n",
    "<li> by the number of iteration (MaxIteration)</li>\n",
    "<li> by the duration of the algorithm (MaxTime)</li>\n",
    "</ul>"
   ]
  },
  {
   "cell_type": "code",
   "execution_count": 6,
   "metadata": {},
   "outputs": [
    {
     "name": "stdout",
     "output_type": "stream",
     "text": [
      "duration : 1.039s\n",
      "stopped with epsilon=1e-08\n"
     ]
    },
    {
     "data": {
      "image/png": "[encoded data removed]",
      "text/plain": [
       "<matplotlib.figure.Figure at 0x7f4d63935550>"
      ]
     },
     "metadata": {},
     "output_type": "display_data"
    }
   ],
   "source": [
    "ie2=gum.LoopyBeliefPropagation(bn)\n",
    "execute(ie2)\n",
    "print(ie2.messageApproximationScheme())\n",
    "compare(ie,ie2)\n",
    "\n"
   ]
  },
  {
   "cell_type": "markdown",
   "metadata": {},
   "source": [
    "<H1>GIBBS vs LBP</H1>\n",
    "\n",
    "Let's try a Gibbs Inference with the same amount of time :"
   ]
  },
  {
   "cell_type": "code",
   "execution_count": 7,
   "metadata": {
    "scrolled": true
   },
   "outputs": [
    {
     "name": "stdout",
     "output_type": "stream",
     "text": [
      "duration : 1.146s\n",
      "stopped with timeout=1\n"
     ]
    },
    {
     "data": {
      "image/png": "[encoded data removed]",
      "text/plain": [
       "<matplotlib.figure.Figure at 0x7f4d16a0fbe0>"
      ]
     },
     "metadata": {},
     "output_type": "display_data"
    }
   ],
   "source": [
    "ie2=gum.GibbsInference(bn)\n",
    "ie2.setMaxTime(1)\n",
    "execute(ie2)\n",
    "print(ie2.messageApproximationScheme())\n",
    "compare(ie,ie2)\n",
    "\n"
   ]
  },
  {
   "cell_type": "markdown",
   "metadata": {},
   "source": [
    "<H2>More time for Gibbs</H2>"
   ]
  },
  {
   "cell_type": "code",
   "execution_count": 8,
   "metadata": {},
   "outputs": [
    {
     "name": "stdout",
     "output_type": "stream",
     "text": [
      "duration : 120.849s\n",
      "stopped with timeout=120\n"
     ]
    },
    {
     "data": {
      "image/png": "[encoded data removed]",
      "text/plain": [
       "<matplotlib.figure.Figure at 0x7f4d0d9fdd30>"
      ]
     },
     "metadata": {},
     "output_type": "display_data"
    }
   ],
   "source": [
    "ie2=gum.GibbsInference(bn)\n",
    "ie2.setMaxTime(120)\n",
    "execute(ie2)\n",
    "print(ie2.messageApproximationScheme())\n",
    "compare(ie,ie2)\n",
    "\n"
   ]
  }
 ],
 "metadata": {
  "hide_input": false,
  "kernelspec": {
   "display_name": "devAgrum (python3)",
   "language": "python",
   "name": "devagrum"
  },
  "language_info": {
   "codemirror_mode": {
    "name": "ipython",
    "version": 3
   },
   "file_extension": ".py",
   "mimetype": "text/x-python",
   "name": "python",
   "nbconvert_exporter": "python",
   "pygments_lexer": "ipython3",
   "version": "3.5.3"
  }
 },
 "nbformat": 4,
 "nbformat_minor": 1
}
