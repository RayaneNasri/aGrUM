{
 "cells": [
  {
   "cell_type": "code",
   "execution_count": 1,
   "metadata": {
    "collapsed": true
   },
   "outputs": [],
   "source": [
    "import os \n",
    "\n",
    "%matplotlib inline\n",
    "from pylab import *\n",
    "import matplotlib.pyplot as plt\n"
   ]
  },
  {
   "cell_type": "code",
   "execution_count": 2,
   "metadata": {},
   "outputs": [
    {
     "name": "stdout",
     "output_type": "stream",
     "text": [
      "BN{nodes: 413, arcs: 602, domainSize: 10^406.108, parameters: 461069, compression ratio: 100-10^-398.444% }\n"
     ]
    }
   ],
   "source": [
    "import pyAgrum as gum\n",
    "import pyAgrum.lib.notebook as gnb\n",
    "\n",
    "bn=gum.loadBN(os.path.join(\"res\",\"Diabetes.bif\"))\n",
    "#gnb.showBN(bn,size='8')\n",
    "print(bn)\n",
    "\n"
   ]
  },
  {
   "cell_type": "markdown",
   "metadata": {},
   "source": [
    "### First, some helpers"
   ]
  },
  {
   "cell_type": "code",
   "execution_count": 3,
   "metadata": {
    "collapsed": true
   },
   "outputs": [],
   "source": [
    "import time\n",
    "\n",
    "class Timer:    \n",
    "    def __enter__(self):\n",
    "        self.start = time.clock()\n",
    "        return self\n",
    "\n",
    "    def __exit__(self, *args):\n",
    "        self.end = time.clock()\n",
    "        self.duration = self.end - self.start\n",
    "        \n",
    "        "
   ]
  },
  {
   "cell_type": "code",
   "execution_count": 4,
   "metadata": {
    "collapsed": true
   },
   "outputs": [],
   "source": [
    "def execute(ie):\n",
    "    with Timer() as t:\n",
    "        ie.makeInference()\n",
    "        for i in bn.ids():\n",
    "            a=ie.posterior(i)\n",
    "    return \"duration : {:3.3f}s\".format(t.duration)\n",
    "    \n",
    "def vals(bn,ie):\n",
    "    exact=[]\n",
    "    appro=[]\n",
    "    for node in bn.ids():\n",
    "        # potentials as numpy array\n",
    "        exact+=ie.posterior(node).tolist()\n",
    "\n",
    "    return exact\n",
    "    \n",
    "    "
   ]
  },
  {
   "cell_type": "markdown",
   "metadata": {},
   "source": [
    "### Exact inference."
   ]
  },
  {
   "cell_type": "code",
   "execution_count": 5,
   "metadata": {},
   "outputs": [],
   "source": [
    "plt.rcParams[\"figure.figsize\"] = [25,3]\n",
    "\n",
    "def compareIE(bn,maxtime,epsilon,evs=None):\n",
    "    ie=gum.LazyPropagation(bn)\n",
    "    if evs is not None:\n",
    "        ie.setEvidence(evs)\n",
    "    txt=\"Lazy : \"+execute(ie)\n",
    "    x=vals(bn,ie)\n",
    "    y=vals(bn,ie)\n",
    "    plt.subplot(161)\n",
    "    plt.plot(x,y,'ro')\n",
    "    plt.title(txt)\n",
    "\n",
    "    ie2=gum.GibbsSampling(bn)\n",
    "    if evs is not None:\n",
    "        ie2.setEvidence(evs)\n",
    "    ie2.setMaxTime(maxtime)\n",
    "    ie2.setEpsilon(epsilon)\n",
    "    txt=\"Gibbs : \"+execute(ie2)+\"\\n\"+ie2.messageApproximationScheme()\n",
    "    y=vals(bn,ie2)\n",
    "    plt.subplot(162)\n",
    "    plt.plot(x,y,'ro')\n",
    "    plt.title(txt)\n",
    "\n",
    "    ie3=gum.MonteCarloSampling(bn)\n",
    "    if evs is not None:\n",
    "        ie3.setEvidence(evs)\n",
    "    ie3.setMaxTime(maxtime)\n",
    "    ie3.setEpsilon(epsilon)\n",
    "    txt=\"MonteCarlo : \"+execute(ie3)+\"\\n\"+ie3.messageApproximationScheme()\n",
    "    y=vals(bn,ie3)\n",
    "    plt.subplot(163)\n",
    "    plt.plot(x,y,'ro')\n",
    "    plt.title(txt)\n",
    "\n",
    "    ie4=gum.WeightedSampling(bn)\n",
    "    if evs is not None:\n",
    "        ie4.setEvidence(evs)\n",
    "    ie4.setMaxTime(maxtime)\n",
    "    ie4.setEpsilon(epsilon)\n",
    "    txt=\"Weighted : \"+execute(ie4)+\"\\n\"+ie4.messageApproximationScheme()\n",
    "    y=vals(bn,ie4)\n",
    "    plt.subplot(164)\n",
    "    plt.plot(x,y,'ro')\n",
    "    plt.title(txt)\n",
    "\n",
    "    ie5=gum.ImportanceSampling(bn)\n",
    "    if evs is not None:\n",
    "        ie5.setEvidence(evs)\n",
    "    ie5.setMaxTime(maxtime)\n",
    "    ie5.setEpsilon(epsilon)\n",
    "    txt=\"Importance: \"+execute(ie5)+\"\\n\"+ie5.messageApproximationScheme()\n",
    "    y=vals(bn,ie5)\n",
    "    plt.subplot(165)\n",
    "    plt.plot(x,y,'ro')\n",
    "    plt.title(txt)\n",
    "\n",
    "    ie6=gum.LoopyBeliefPropagation(bn)\n",
    "    if evs is not None:\n",
    "        ie6.setEvidence(evs)\n",
    "    ie6.setMaxTime(maxtime)\n",
    "    ie6.setEpsilon(epsilon)\n",
    "    txt=\"LBP: \"+execute(ie6)+\"\\n\"+ie6.messageApproximationScheme()\n",
    "    y=vals(bn,ie6)\n",
    "    plt.subplot(166)\n",
    "    plt.plot(x,y,'ro')\n",
    "    plt.title(txt)\n",
    "    plt.show()\n"
   ]
  },
  {
   "cell_type": "code",
   "execution_count": null,
   "metadata": {},
   "outputs": [],
   "source": [
    "compareIE(bn,5,1e-2)"
   ]
  },
  {
   "cell_type": "code",
   "execution_count": null,
   "metadata": {},
   "outputs": [],
   "source": [
    "compareIE(bn,50,1e-2)"
   ]
  },
  {
   "cell_type": "code",
   "execution_count": null,
   "metadata": {},
   "outputs": [],
   "source": [
    "print(bn.variable(bn.topologicalOrder()[-1]).name())\n",
    "print(bn.variable(bn.topologicalOrder()[-10]).name())\n",
    "print(bn.variable(bn.topologicalOrder()[-100]).name())"
   ]
  },
  {
   "cell_type": "code",
   "execution_count": null,
   "metadata": {},
   "outputs": [],
   "source": [
    "ie=gum.LazyPropagation(bn)\n",
    "ie.setEvidence({'bg_24':0})\n",
    "ie.makeInference()\n",
    "gnb.sideBySide(ie.posterior(\"bg_24\"),ie.posterior(409))"
   ]
  },
  {
   "cell_type": "code",
   "execution_count": 6,
   "metadata": {},
   "outputs": [
    {
     "ename": "UndefinedElement",
     "evalue": "/home/phw/Documents/gits/lip6/aGrUM-dev/wrappers/pyAgrum/../../src/agrum/BN/inference/tools/marginalTargetedInference_tpl.h:80: 246 is not a NodeId in the bn",
     "output_type": "error",
     "traceback": [
      "\u001b[0;31m---------------------------------------------------------------------------\u001b[0m",
      "\u001b[0;31mUndefinedElement\u001b[0m                          Traceback (most recent call last)",
      "\u001b[0;32m<ipython-input-6-6660db566e77>\u001b[0m in \u001b[0;36m<module>\u001b[0;34m()\u001b[0m\n\u001b[0;32m----> 1\u001b[0;31m \u001b[0mcompareIE\u001b[0m\u001b[0;34m(\u001b[0m\u001b[0mbn\u001b[0m\u001b[0;34m,\u001b[0m\u001b[0;36m5\u001b[0m\u001b[0;34m,\u001b[0m\u001b[0;36m1e-2\u001b[0m\u001b[0;34m,\u001b[0m\u001b[0mevs\u001b[0m\u001b[0;34m=\u001b[0m\u001b[0;34m{\u001b[0m\u001b[0;34m'bg_24'\u001b[0m\u001b[0;34m:\u001b[0m\u001b[0;36m0\u001b[0m\u001b[0;34m,\u001b[0m\u001b[0;34m'ins_indep_util_23'\u001b[0m\u001b[0;34m:\u001b[0m\u001b[0;36m1\u001b[0m\u001b[0;34m,\u001b[0m\u001b[0;34m'renal_cl_14'\u001b[0m\u001b[0;34m:\u001b[0m\u001b[0;36m1\u001b[0m\u001b[0;34m}\u001b[0m\u001b[0;34m)\u001b[0m\u001b[0;34m\u001b[0m\u001b[0m\n\u001b[0m",
      "\u001b[0;32m<ipython-input-5-e7c46133692e>\u001b[0m in \u001b[0;36mcompareIE\u001b[0;34m(bn, maxtime, epsilon, evs)\u001b[0m\n\u001b[1;32m     50\u001b[0m     \u001b[0mie5\u001b[0m\u001b[0;34m.\u001b[0m\u001b[0msetMaxTime\u001b[0m\u001b[0;34m(\u001b[0m\u001b[0mmaxtime\u001b[0m\u001b[0;34m)\u001b[0m\u001b[0;34m\u001b[0m\u001b[0m\n\u001b[1;32m     51\u001b[0m     \u001b[0mie5\u001b[0m\u001b[0;34m.\u001b[0m\u001b[0msetEpsilon\u001b[0m\u001b[0;34m(\u001b[0m\u001b[0mepsilon\u001b[0m\u001b[0;34m)\u001b[0m\u001b[0;34m\u001b[0m\u001b[0m\n\u001b[0;32m---> 52\u001b[0;31m     \u001b[0mtxt\u001b[0m\u001b[0;34m=\u001b[0m\u001b[0;34m\"Importance: \"\u001b[0m\u001b[0;34m+\u001b[0m\u001b[0mexecute\u001b[0m\u001b[0;34m(\u001b[0m\u001b[0mie5\u001b[0m\u001b[0;34m)\u001b[0m\u001b[0;34m+\u001b[0m\u001b[0;34m\"\\n\"\u001b[0m\u001b[0;34m+\u001b[0m\u001b[0mie5\u001b[0m\u001b[0;34m.\u001b[0m\u001b[0mmessageApproximationScheme\u001b[0m\u001b[0;34m(\u001b[0m\u001b[0;34m)\u001b[0m\u001b[0;34m\u001b[0m\u001b[0m\n\u001b[0m\u001b[1;32m     53\u001b[0m     \u001b[0my\u001b[0m\u001b[0;34m=\u001b[0m\u001b[0mvals\u001b[0m\u001b[0;34m(\u001b[0m\u001b[0mbn\u001b[0m\u001b[0;34m,\u001b[0m\u001b[0mie5\u001b[0m\u001b[0;34m)\u001b[0m\u001b[0;34m\u001b[0m\u001b[0m\n\u001b[1;32m     54\u001b[0m     \u001b[0mplt\u001b[0m\u001b[0;34m.\u001b[0m\u001b[0msubplot\u001b[0m\u001b[0;34m(\u001b[0m\u001b[0;36m165\u001b[0m\u001b[0;34m)\u001b[0m\u001b[0;34m\u001b[0m\u001b[0m\n",
      "\u001b[0;32m<ipython-input-4-0010a491c932>\u001b[0m in \u001b[0;36mexecute\u001b[0;34m(ie)\u001b[0m\n\u001b[1;32m      3\u001b[0m         \u001b[0mie\u001b[0m\u001b[0;34m.\u001b[0m\u001b[0mmakeInference\u001b[0m\u001b[0;34m(\u001b[0m\u001b[0;34m)\u001b[0m\u001b[0;34m\u001b[0m\u001b[0m\n\u001b[1;32m      4\u001b[0m         \u001b[0;32mfor\u001b[0m \u001b[0mi\u001b[0m \u001b[0;32min\u001b[0m \u001b[0mbn\u001b[0m\u001b[0;34m.\u001b[0m\u001b[0mids\u001b[0m\u001b[0;34m(\u001b[0m\u001b[0;34m)\u001b[0m\u001b[0;34m:\u001b[0m\u001b[0;34m\u001b[0m\u001b[0m\n\u001b[0;32m----> 5\u001b[0;31m             \u001b[0ma\u001b[0m\u001b[0;34m=\u001b[0m\u001b[0mie\u001b[0m\u001b[0;34m.\u001b[0m\u001b[0mposterior\u001b[0m\u001b[0;34m(\u001b[0m\u001b[0mi\u001b[0m\u001b[0;34m)\u001b[0m\u001b[0;34m\u001b[0m\u001b[0m\n\u001b[0m\u001b[1;32m      6\u001b[0m     \u001b[0;32mreturn\u001b[0m \u001b[0;34m\"duration : {:3.3f}s\"\u001b[0m\u001b[0;34m.\u001b[0m\u001b[0mformat\u001b[0m\u001b[0;34m(\u001b[0m\u001b[0mt\u001b[0m\u001b[0;34m.\u001b[0m\u001b[0mduration\u001b[0m\u001b[0;34m)\u001b[0m\u001b[0;34m\u001b[0m\u001b[0m\n\u001b[1;32m      7\u001b[0m \u001b[0;34m\u001b[0m\u001b[0m\n",
      "\u001b[0;32m~/virtualenvs/devAgrum/lib/python3.5/site-packages/pyAgrum/pyAgrum.py\u001b[0m in \u001b[0;36mposterior\u001b[0;34m(self, *args)\u001b[0m\n\u001b[1;32m   7913\u001b[0m         \u001b[0mposterior\u001b[0m\u001b[0;34m(\u001b[0m\u001b[0mself\u001b[0m\u001b[0;34m,\u001b[0m \u001b[0mnodeName\u001b[0m\u001b[0;34m)\u001b[0m \u001b[0;34m->\u001b[0m \u001b[0mPotential_double\u001b[0m\u001b[0;34m\u001b[0m\u001b[0m\n\u001b[1;32m   7914\u001b[0m         \"\"\"\n\u001b[0;32m-> 7915\u001b[0;31m         \u001b[0;32mreturn\u001b[0m \u001b[0m_pyAgrum\u001b[0m\u001b[0;34m.\u001b[0m\u001b[0mImportanceSampling_double_posterior\u001b[0m\u001b[0;34m(\u001b[0m\u001b[0mself\u001b[0m\u001b[0;34m,\u001b[0m \u001b[0;34m*\u001b[0m\u001b[0margs\u001b[0m\u001b[0;34m)\u001b[0m\u001b[0;34m\u001b[0m\u001b[0m\n\u001b[0m\u001b[1;32m   7916\u001b[0m \u001b[0;34m\u001b[0m\u001b[0m\n\u001b[1;32m   7917\u001b[0m \u001b[0;34m\u001b[0m\u001b[0m\n",
      "\u001b[0;31mUndefinedElement\u001b[0m: /home/phw/Documents/gits/lip6/aGrUM-dev/wrappers/pyAgrum/../../src/agrum/BN/inference/tools/marginalTargetedInference_tpl.h:80: 246 is not a NodeId in the bn"
     ]
    },
    {
     "data": {
      "image/png": "[encoded data removed]",
      "text/plain": [
       "<matplotlib.figure.Figure at 0x7faa27dd3208>"
      ]
     },
     "metadata": {},
     "output_type": "display_data"
    }
   ],
   "source": [
    "compareIE(bn,5,1e-2,evs={'bg_24':0,'ins_indep_util_23':1,'renal_cl_14':1})"
   ]
  },
  {
   "cell_type": "markdown",
   "metadata": {},
   "source": [
    "<h1>Loopy Belief Propagation</h1>\n",
    "\n",
    "Like other approximated algorithm (GibbsInference), Loopy belief propagations inference iterations can be stopped :\n",
    "<ul>\n",
    "<li> by the value of error (epsilon)</li>\n",
    "<li> by the rate of change of epsilon (MinEpsilonRate)</li>\n",
    "<li> by the number of iteration (MaxIteration)</li>\n",
    "<li> by the duration of the algorithm (MaxTime)</li>\n",
    "</ul>"
   ]
  },
  {
   "cell_type": "code",
   "execution_count": null,
   "metadata": {},
   "outputs": [],
   "source": [
    "ie2=gum.LoopyBeliefPropagation(bn)\n",
    "execute(ie2)\n",
    "print(ie2.messageApproximationScheme())\n",
    "compare(ie,ie2)\n",
    "\n"
   ]
  },
  {
   "cell_type": "markdown",
   "metadata": {},
   "source": [
    "<H1>GIBBS vs LBP</H1>\n",
    "\n",
    "Let's try a Gibbs Inference with the same amount of time :"
   ]
  },
  {
   "cell_type": "code",
   "execution_count": null,
   "metadata": {
    "scrolled": true
   },
   "outputs": [],
   "source": [
    "ie2=gum.GibbsInference(bn)\n",
    "ie2.setMaxTime(1)\n",
    "execute(ie2)\n",
    "print(ie2.messageApproximationScheme())\n",
    "compare(ie,ie2)\n",
    "\n"
   ]
  },
  {
   "cell_type": "code",
   "execution_count": null,
   "metadata": {},
   "outputs": [],
   "source": [
    "ie2=gum.ImportanceSampling(bn)\n",
    "ie2.setMaxTime(1)\n",
    "execute(ie2)\n",
    "print(ie2.messageApproximationScheme())\n",
    "compare(ie,ie2)\n",
    "\n"
   ]
  },
  {
   "cell_type": "markdown",
   "metadata": {},
   "source": [
    "<H2>More time for Gibbs</H2>"
   ]
  },
  {
   "cell_type": "code",
   "execution_count": null,
   "metadata": {},
   "outputs": [],
   "source": [
    "ie2=gum.GibbsInference(bn)\n",
    "ie2.setMaxTime(120)\n",
    "execute(ie2)\n",
    "print(ie2.messageApproximationScheme())\n",
    "compare(ie,ie2)\n",
    "\n"
   ]
  },
  {
   "cell_type": "code",
   "execution_count": null,
   "metadata": {},
   "outputs": [],
   "source": [
    "ie2=gum.ImportanceSampling(bn)\n",
    "ie2.setMaxTime(120)\n",
    "execute(ie2)\n",
    "print(ie2.messageApproximationScheme())\n",
    "compare(ie,ie2)\n"
   ]
  },
  {
   "cell_type": "code",
   "execution_count": null,
   "metadata": {},
   "outputs": [],
   "source": [
    "print(bn.parents(bn.idFromName(\"bg_24\")))"
   ]
  },
  {
   "cell_type": "code",
   "execution_count": null,
   "metadata": {},
   "outputs": [],
   "source": [
    "bn.cpt(\"bg_24\")"
   ]
  },
  {
   "cell_type": "code",
   "execution_count": null,
   "metadata": {},
   "outputs": [],
   "source": [
    "ie=gum.LazyPropagation(bn)\n",
    "ie.makeInference()\n",
    "ie.posterior(\"bg_24\")"
   ]
  },
  {
   "cell_type": "code",
   "execution_count": null,
   "metadata": {
    "collapsed": true
   },
   "outputs": [],
   "source": []
  }
 ],
 "metadata": {
  "hide_input": false,
  "kernelspec": {
   "display_name": "Python 3",
   "language": "python",
   "name": "python3"
  },
  "language_info": {
   "codemirror_mode": {
    "name": "ipython",
    "version": 3
   },
   "file_extension": ".py",
   "mimetype": "text/x-python",
   "name": "python",
   "nbconvert_exporter": "python",
   "pygments_lexer": "ipython3",
   "version": "3.5.3"
  }
 },
 "nbformat": 4,
 "nbformat_minor": 1
}
