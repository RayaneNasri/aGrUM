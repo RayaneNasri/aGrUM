{
 "cells": [
  {
   "cell_type": "code",
   "execution_count": 1,
   "metadata": {
    "ExecuteTime": {
     "end_time": "2018-09-11T07:44:58.322277Z",
     "start_time": "2018-09-11T07:44:58.127424Z"
    }
   },
   "outputs": [],
   "source": [
    "import os\n",
    "\n",
    "%matplotlib inline\n",
    "\n",
    "from pylab import *\n",
    "import matplotlib.pyplot as plt\n"
   ]
  },
  {
   "cell_type": "markdown",
   "metadata": {},
   "source": [
    "Initialisation\n",
    "==============\n",
    "\n",
    "* importing pyAgrum\n",
    "* importing pyAgrum.lib tools\n",
    "* loading a BN"
   ]
  },
  {
   "cell_type": "code",
   "execution_count": 2,
   "metadata": {
    "ExecuteTime": {
     "end_time": "2018-09-11T07:44:58.362238Z",
     "start_time": "2018-09-11T07:44:58.324495Z"
    }
   },
   "outputs": [],
   "source": [
    "import pyAgrum as gum\n",
    "import pyAgrum.lib.notebook as gnb"
   ]
  },
  {
   "cell_type": "markdown",
   "metadata": {},
   "source": [
    "## Create a first BN : bn"
   ]
  },
  {
   "cell_type": "code",
   "execution_count": 3,
   "metadata": {
    "ExecuteTime": {
     "end_time": "2018-09-11T07:44:58.482603Z",
     "start_time": "2018-09-11T07:44:58.364248Z"
    }
   },
   "outputs": [
    {
     "data": {
      "text/html": [
       "<svg height=\"182pt\" viewBox=\"0.00 0.00 288.00 182.28\" width=\"288pt\" xmlns=\"http://www.w3.org/2000/svg\" xmlns:xlink=\"http://www.w3.org/1999/xlink\">\n",
       "<g class=\"graph\" id=\"graph0\" transform=\"scale(.7011 .7011) rotate(0) translate(4 256)\">\n",
       "<title>G</title>\n",
       "<!-- visit_to_Asia? -->\n",
       "<g class=\"node\" id=\"node1\">\n",
       "<title>visit_to_Asia?</title>\n",
       "<g id=\"a_node1\"><a xlink:title=\"(0) visit_to_Asia?\">\n",
       "<ellipse cx=\"74.7434\" cy=\"-234\" fill=\"#444444\" rx=\"74.9875\" ry=\"18\" stroke=\"#000000\"/>\n",
       "<text fill=\"#ffffff\" font-family=\"Times,serif\" font-size=\"14.00\" text-anchor=\"middle\" x=\"74.7434\" y=\"-230.3\">visit_to_Asia?</text>\n",
       "</a>\n",
       "</g>\n",
       "</g>\n",
       "<!-- tuberculosis? -->\n",
       "<g class=\"node\" id=\"node2\">\n",
       "<title>tuberculosis?</title>\n",
       "<g id=\"a_node2\"><a xlink:title=\"(1) tuberculosis?\">\n",
       "<ellipse cx=\"74.7434\" cy=\"-162\" fill=\"#444444\" rx=\"73.387\" ry=\"18\" stroke=\"#000000\"/>\n",
       "<text fill=\"#ffffff\" font-family=\"Times,serif\" font-size=\"14.00\" text-anchor=\"middle\" x=\"74.7434\" y=\"-158.3\">tuberculosis?</text>\n",
       "</a>\n",
       "</g>\n",
       "</g>\n",
       "<!-- visit_to_Asia?&#45;&gt;tuberculosis? -->\n",
       "<g class=\"edge\" id=\"edge1\">\n",
       "<title>visit_to_Asia?-&gt;tuberculosis?</title>\n",
       "<g id=\"a_edge1\"><a xlink:title=\"(0, 1) : \">\n",
       "<path d=\"M74.7434,-215.8314C74.7434,-208.131 74.7434,-198.9743 74.7434,-190.4166\" fill=\"none\" stroke=\"#000000\"/>\n",
       "<polygon fill=\"#000000\" points=\"78.2435,-190.4132 74.7434,-180.4133 71.2435,-190.4133 78.2435,-190.4132\" stroke=\"#000000\"/>\n",
       "</a>\n",
       "</g>\n",
       "</g>\n",
       "<!-- tuberculos_or_cancer? -->\n",
       "<g class=\"node\" id=\"node3\">\n",
       "<title>tuberculos_or_cancer?</title>\n",
       "<g id=\"a_node3\"><a xlink:title=\"(2) tuberculos_or_cancer?\">\n",
       "<ellipse cx=\"142.7434\" cy=\"-90\" fill=\"#444444\" rx=\"116.1796\" ry=\"18\" stroke=\"#000000\"/>\n",
       "<text fill=\"#ffffff\" font-family=\"Times,serif\" font-size=\"14.00\" text-anchor=\"middle\" x=\"142.7434\" y=\"-86.3\">tuberculos_or_cancer?</text>\n",
       "</a>\n",
       "</g>\n",
       "</g>\n",
       "<!-- tuberculosis?&#45;&gt;tuberculos_or_cancer? -->\n",
       "<g class=\"edge\" id=\"edge3\">\n",
       "<title>tuberculosis?-&gt;tuberculos_or_cancer?</title>\n",
       "<g id=\"a_edge3\"><a xlink:title=\"(1, 2) : \">\n",
       "<path d=\"M91.5524,-144.2022C99.8073,-135.4617 109.8969,-124.7786 118.9297,-115.2144\" fill=\"none\" stroke=\"#000000\"/>\n",
       "<polygon fill=\"#000000\" points=\"121.5704,-117.5159 125.8921,-107.8425 116.4813,-112.7095 121.5704,-117.5159\" stroke=\"#000000\"/>\n",
       "</a>\n",
       "</g>\n",
       "</g>\n",
       "<!-- positive_XraY? -->\n",
       "<g class=\"node\" id=\"node4\">\n",
       "<title>positive_XraY?</title>\n",
       "<g id=\"a_node4\"><a xlink:title=\"(3) positive_XraY?\">\n",
       "<ellipse cx=\"142.7434\" cy=\"-18\" fill=\"#444444\" rx=\"79.8859\" ry=\"18\" stroke=\"#000000\"/>\n",
       "<text fill=\"#ffffff\" font-family=\"Times,serif\" font-size=\"14.00\" text-anchor=\"middle\" x=\"142.7434\" y=\"-14.3\">positive_XraY?</text>\n",
       "</a>\n",
       "</g>\n",
       "</g>\n",
       "<!-- tuberculos_or_cancer?&#45;&gt;positive_XraY? -->\n",
       "<g class=\"edge\" id=\"edge7\">\n",
       "<title>tuberculos_or_cancer?-&gt;positive_XraY?</title>\n",
       "<g id=\"a_edge7\"><a xlink:title=\"(2, 3) : \">\n",
       "<path d=\"M142.7434,-71.8314C142.7434,-64.131 142.7434,-54.9743 142.7434,-46.4166\" fill=\"none\" stroke=\"#000000\"/>\n",
       "<polygon fill=\"#000000\" points=\"146.2435,-46.4132 142.7434,-36.4133 139.2435,-46.4133 146.2435,-46.4132\" stroke=\"#000000\"/>\n",
       "</a>\n",
       "</g>\n",
       "</g>\n",
       "<!-- dyspnoea? -->\n",
       "<g class=\"node\" id=\"node8\">\n",
       "<title>dyspnoea?</title>\n",
       "<g id=\"a_node8\"><a xlink:title=\"(7) dyspnoea?\">\n",
       "<ellipse cx=\"319.7434\" cy=\"-18\" fill=\"#444444\" rx=\"59.5901\" ry=\"18\" stroke=\"#000000\"/>\n",
       "<text fill=\"#ffffff\" font-family=\"Times,serif\" font-size=\"14.00\" text-anchor=\"middle\" x=\"319.7434\" y=\"-14.3\">dyspnoea?</text>\n",
       "</a>\n",
       "</g>\n",
       "</g>\n",
       "<!-- tuberculos_or_cancer?&#45;&gt;dyspnoea? -->\n",
       "<g class=\"edge\" id=\"edge2\">\n",
       "<title>tuberculos_or_cancer?-&gt;dyspnoea?</title>\n",
       "<g id=\"a_edge2\"><a xlink:title=\"(2, 7) : \">\n",
       "<path d=\"M184.242,-73.1192C211.2972,-62.1137 246.6083,-47.7498 274.4005,-36.4446\" fill=\"none\" stroke=\"#000000\"/>\n",
       "<polygon fill=\"#000000\" points=\"275.9473,-39.5939 283.8915,-32.5838 273.3097,-33.1098 275.9473,-39.5939\" stroke=\"#000000\"/>\n",
       "</a>\n",
       "</g>\n",
       "</g>\n",
       "<!-- lung_cancer? -->\n",
       "<g class=\"node\" id=\"node5\">\n",
       "<title>lung_cancer?</title>\n",
       "<g id=\"a_node5\"><a xlink:title=\"(4) lung_cancer?\">\n",
       "<ellipse cx=\"238.7434\" cy=\"-162\" fill=\"#444444\" rx=\"72.5877\" ry=\"18\" stroke=\"#000000\"/>\n",
       "<text fill=\"#ffffff\" font-family=\"Times,serif\" font-size=\"14.00\" text-anchor=\"middle\" x=\"238.7434\" y=\"-158.3\">lung_cancer?</text>\n",
       "</a>\n",
       "</g>\n",
       "</g>\n",
       "<!-- lung_cancer?&#45;&gt;tuberculos_or_cancer? -->\n",
       "<g class=\"edge\" id=\"edge8\">\n",
       "<title>lung_cancer?-&gt;tuberculos_or_cancer?</title>\n",
       "<g id=\"a_edge8\"><a xlink:title=\"(4, 2) : \">\n",
       "<path d=\"M215.5044,-144.5708C203.1889,-135.3341 187.8786,-123.8514 174.4839,-113.8054\" fill=\"none\" stroke=\"#000000\"/>\n",
       "<polygon fill=\"#000000\" points=\"176.5352,-110.9689 166.4352,-107.7689 172.3352,-116.5689 176.5352,-110.9689\" stroke=\"#000000\"/>\n",
       "</a>\n",
       "</g>\n",
       "</g>\n",
       "<!-- smoking? -->\n",
       "<g class=\"node\" id=\"node6\">\n",
       "<title>smoking?</title>\n",
       "<g id=\"a_node6\"><a xlink:title=\"(5) smoking?\">\n",
       "<ellipse cx=\"288.7434\" cy=\"-234\" fill=\"#444444\" rx=\"55.4913\" ry=\"18\" stroke=\"#000000\"/>\n",
       "<text fill=\"#ffffff\" font-family=\"Times,serif\" font-size=\"14.00\" text-anchor=\"middle\" x=\"288.7434\" y=\"-230.3\">smoking?</text>\n",
       "</a>\n",
       "</g>\n",
       "</g>\n",
       "<!-- smoking?&#45;&gt;lung_cancer? -->\n",
       "<g class=\"edge\" id=\"edge4\">\n",
       "<title>smoking?-&gt;lung_cancer?</title>\n",
       "<g id=\"a_edge4\"><a xlink:title=\"(5, 4) : \">\n",
       "<path d=\"M276.3838,-216.2022C270.4943,-207.7214 263.3347,-197.4115 256.8472,-188.0696\" fill=\"none\" stroke=\"#000000\"/>\n",
       "<polygon fill=\"#000000\" points=\"259.7128,-186.0599 251.134,-179.8425 253.9632,-190.0527 259.7128,-186.0599\" stroke=\"#000000\"/>\n",
       "</a>\n",
       "</g>\n",
       "</g>\n",
       "<!-- bronchitis? -->\n",
       "<g class=\"node\" id=\"node7\">\n",
       "<title>bronchitis?</title>\n",
       "<g id=\"a_node7\"><a xlink:title=\"(6) bronchitis?\">\n",
       "<ellipse cx=\"339.7434\" cy=\"-90\" fill=\"#444444\" rx=\"63.0888\" ry=\"18\" stroke=\"#000000\"/>\n",
       "<text fill=\"#ffffff\" font-family=\"Times,serif\" font-size=\"14.00\" text-anchor=\"middle\" x=\"339.7434\" y=\"-86.3\">bronchitis?</text>\n",
       "</a>\n",
       "</g>\n",
       "</g>\n",
       "<!-- smoking?&#45;&gt;bronchitis? -->\n",
       "<g class=\"edge\" id=\"edge6\">\n",
       "<title>smoking?-&gt;bronchitis?</title>\n",
       "<g id=\"a_edge6\"><a xlink:title=\"(5, 6) : \">\n",
       "<path d=\"M301.2622,-216.265C307.929,-206.0754 315.7588,-192.7941 320.7434,-180 328.5456,-159.9736 333.3955,-136.1291 336.2409,-118.0161\" fill=\"none\" stroke=\"#000000\"/>\n",
       "<polygon fill=\"#000000\" points=\"339.7092,-118.4869 337.6918,-108.0859 332.7827,-117.4748 339.7092,-118.4869\" stroke=\"#000000\"/>\n",
       "</a>\n",
       "</g>\n",
       "</g>\n",
       "<!-- bronchitis?&#45;&gt;dyspnoea? -->\n",
       "<g class=\"edge\" id=\"edge5\">\n",
       "<title>bronchitis?-&gt;dyspnoea?</title>\n",
       "<g id=\"a_edge5\"><a xlink:title=\"(6, 7) : \">\n",
       "<path d=\"M334.6965,-71.8314C332.534,-64.0463 329.9581,-54.7729 327.5586,-46.1347\" fill=\"none\" stroke=\"#000000\"/>\n",
       "<polygon fill=\"#000000\" points=\"330.907,-45.1117 324.8582,-36.4133 324.1624,-46.9852 330.907,-45.1117\" stroke=\"#000000\"/>\n",
       "</a>\n",
       "</g>\n",
       "</g>\n",
       "</g>\n",
       "</svg>"
      ],
      "text/plain": [
       "(gum::BayesNet<double>@0x5567c85706b0) BN{nodes: 8, arcs: 8, domainSize: 256, parameters: 36, compression ratio: 85% }"
      ]
     },
     "execution_count": 3,
     "metadata": {},
     "output_type": "execute_result"
    }
   ],
   "source": [
    "bn=gum.loadBN(os.path.join(\"res\",\"asia.bif\"))\n",
    "# randomly re-generate parameters for every Conditional Probability Table\n",
    "bn.generateCPTs() \n",
    "bn"
   ]
  },
  {
   "cell_type": "markdown",
   "metadata": {},
   "source": [
    "## Create a second BN : bn2"
   ]
  },
  {
   "cell_type": "code",
   "execution_count": 4,
   "metadata": {
    "ExecuteTime": {
     "end_time": "2018-09-11T07:44:58.607379Z",
     "start_time": "2018-09-11T07:44:58.485232Z"
    }
   },
   "outputs": [
    {
     "data": {
      "text/html": [
       "<svg height=\"182pt\" viewBox=\"0.00 0.00 288.00 182.28\" width=\"288pt\" xmlns=\"http://www.w3.org/2000/svg\" xmlns:xlink=\"http://www.w3.org/1999/xlink\">\n",
       "<g class=\"graph\" id=\"graph0\" transform=\"scale(.7011 .7011) rotate(0) translate(4 256)\">\n",
       "<title>G</title>\n",
       "<!-- visit_to_Asia? -->\n",
       "<g class=\"node\" id=\"node1\">\n",
       "<title>visit_to_Asia?</title>\n",
       "<g id=\"a_node1\"><a xlink:title=\"(0) visit_to_Asia?\">\n",
       "<ellipse cx=\"74.7434\" cy=\"-234\" fill=\"#444444\" rx=\"74.9875\" ry=\"18\" stroke=\"#000000\"/>\n",
       "<text fill=\"#ffffff\" font-family=\"Times,serif\" font-size=\"14.00\" text-anchor=\"middle\" x=\"74.7434\" y=\"-230.3\">visit_to_Asia?</text>\n",
       "</a>\n",
       "</g>\n",
       "</g>\n",
       "<!-- tuberculosis? -->\n",
       "<g class=\"node\" id=\"node2\">\n",
       "<title>tuberculosis?</title>\n",
       "<g id=\"a_node2\"><a xlink:title=\"(1) tuberculosis?\">\n",
       "<ellipse cx=\"74.7434\" cy=\"-162\" fill=\"#444444\" rx=\"73.387\" ry=\"18\" stroke=\"#000000\"/>\n",
       "<text fill=\"#ffffff\" font-family=\"Times,serif\" font-size=\"14.00\" text-anchor=\"middle\" x=\"74.7434\" y=\"-158.3\">tuberculosis?</text>\n",
       "</a>\n",
       "</g>\n",
       "</g>\n",
       "<!-- visit_to_Asia?&#45;&gt;tuberculosis? -->\n",
       "<g class=\"edge\" id=\"edge1\">\n",
       "<title>visit_to_Asia?-&gt;tuberculosis?</title>\n",
       "<g id=\"a_edge1\"><a xlink:title=\"(0, 1) : \">\n",
       "<path d=\"M74.7434,-215.8314C74.7434,-208.131 74.7434,-198.9743 74.7434,-190.4166\" fill=\"none\" stroke=\"#000000\"/>\n",
       "<polygon fill=\"#000000\" points=\"78.2435,-190.4132 74.7434,-180.4133 71.2435,-190.4133 78.2435,-190.4132\" stroke=\"#000000\"/>\n",
       "</a>\n",
       "</g>\n",
       "</g>\n",
       "<!-- tuberculos_or_cancer? -->\n",
       "<g class=\"node\" id=\"node3\">\n",
       "<title>tuberculos_or_cancer?</title>\n",
       "<g id=\"a_node3\"><a xlink:title=\"(2) tuberculos_or_cancer?\">\n",
       "<ellipse cx=\"142.7434\" cy=\"-90\" fill=\"#444444\" rx=\"116.1796\" ry=\"18\" stroke=\"#000000\"/>\n",
       "<text fill=\"#ffffff\" font-family=\"Times,serif\" font-size=\"14.00\" text-anchor=\"middle\" x=\"142.7434\" y=\"-86.3\">tuberculos_or_cancer?</text>\n",
       "</a>\n",
       "</g>\n",
       "</g>\n",
       "<!-- tuberculosis?&#45;&gt;tuberculos_or_cancer? -->\n",
       "<g class=\"edge\" id=\"edge3\">\n",
       "<title>tuberculosis?-&gt;tuberculos_or_cancer?</title>\n",
       "<g id=\"a_edge3\"><a xlink:title=\"(1, 2) : \">\n",
       "<path d=\"M91.5524,-144.2022C99.8073,-135.4617 109.8969,-124.7786 118.9297,-115.2144\" fill=\"none\" stroke=\"#000000\"/>\n",
       "<polygon fill=\"#000000\" points=\"121.5704,-117.5159 125.8921,-107.8425 116.4813,-112.7095 121.5704,-117.5159\" stroke=\"#000000\"/>\n",
       "</a>\n",
       "</g>\n",
       "</g>\n",
       "<!-- positive_XraY? -->\n",
       "<g class=\"node\" id=\"node4\">\n",
       "<title>positive_XraY?</title>\n",
       "<g id=\"a_node4\"><a xlink:title=\"(3) positive_XraY?\">\n",
       "<ellipse cx=\"142.7434\" cy=\"-18\" fill=\"#444444\" rx=\"79.8859\" ry=\"18\" stroke=\"#000000\"/>\n",
       "<text fill=\"#ffffff\" font-family=\"Times,serif\" font-size=\"14.00\" text-anchor=\"middle\" x=\"142.7434\" y=\"-14.3\">positive_XraY?</text>\n",
       "</a>\n",
       "</g>\n",
       "</g>\n",
       "<!-- tuberculos_or_cancer?&#45;&gt;positive_XraY? -->\n",
       "<g class=\"edge\" id=\"edge7\">\n",
       "<title>tuberculos_or_cancer?-&gt;positive_XraY?</title>\n",
       "<g id=\"a_edge7\"><a xlink:title=\"(2, 3) : \">\n",
       "<path d=\"M142.7434,-71.8314C142.7434,-64.131 142.7434,-54.9743 142.7434,-46.4166\" fill=\"none\" stroke=\"#000000\"/>\n",
       "<polygon fill=\"#000000\" points=\"146.2435,-46.4132 142.7434,-36.4133 139.2435,-46.4133 146.2435,-46.4132\" stroke=\"#000000\"/>\n",
       "</a>\n",
       "</g>\n",
       "</g>\n",
       "<!-- dyspnoea? -->\n",
       "<g class=\"node\" id=\"node8\">\n",
       "<title>dyspnoea?</title>\n",
       "<g id=\"a_node8\"><a xlink:title=\"(7) dyspnoea?\">\n",
       "<ellipse cx=\"319.7434\" cy=\"-18\" fill=\"#444444\" rx=\"59.5901\" ry=\"18\" stroke=\"#000000\"/>\n",
       "<text fill=\"#ffffff\" font-family=\"Times,serif\" font-size=\"14.00\" text-anchor=\"middle\" x=\"319.7434\" y=\"-14.3\">dyspnoea?</text>\n",
       "</a>\n",
       "</g>\n",
       "</g>\n",
       "<!-- tuberculos_or_cancer?&#45;&gt;dyspnoea? -->\n",
       "<g class=\"edge\" id=\"edge2\">\n",
       "<title>tuberculos_or_cancer?-&gt;dyspnoea?</title>\n",
       "<g id=\"a_edge2\"><a xlink:title=\"(2, 7) : \">\n",
       "<path d=\"M184.242,-73.1192C211.2972,-62.1137 246.6083,-47.7498 274.4005,-36.4446\" fill=\"none\" stroke=\"#000000\"/>\n",
       "<polygon fill=\"#000000\" points=\"275.9473,-39.5939 283.8915,-32.5838 273.3097,-33.1098 275.9473,-39.5939\" stroke=\"#000000\"/>\n",
       "</a>\n",
       "</g>\n",
       "</g>\n",
       "<!-- lung_cancer? -->\n",
       "<g class=\"node\" id=\"node5\">\n",
       "<title>lung_cancer?</title>\n",
       "<g id=\"a_node5\"><a xlink:title=\"(4) lung_cancer?\">\n",
       "<ellipse cx=\"238.7434\" cy=\"-162\" fill=\"#444444\" rx=\"72.5877\" ry=\"18\" stroke=\"#000000\"/>\n",
       "<text fill=\"#ffffff\" font-family=\"Times,serif\" font-size=\"14.00\" text-anchor=\"middle\" x=\"238.7434\" y=\"-158.3\">lung_cancer?</text>\n",
       "</a>\n",
       "</g>\n",
       "</g>\n",
       "<!-- lung_cancer?&#45;&gt;tuberculos_or_cancer? -->\n",
       "<g class=\"edge\" id=\"edge8\">\n",
       "<title>lung_cancer?-&gt;tuberculos_or_cancer?</title>\n",
       "<g id=\"a_edge8\"><a xlink:title=\"(4, 2) : \">\n",
       "<path d=\"M215.5044,-144.5708C203.1889,-135.3341 187.8786,-123.8514 174.4839,-113.8054\" fill=\"none\" stroke=\"#000000\"/>\n",
       "<polygon fill=\"#000000\" points=\"176.5352,-110.9689 166.4352,-107.7689 172.3352,-116.5689 176.5352,-110.9689\" stroke=\"#000000\"/>\n",
       "</a>\n",
       "</g>\n",
       "</g>\n",
       "<!-- smoking? -->\n",
       "<g class=\"node\" id=\"node6\">\n",
       "<title>smoking?</title>\n",
       "<g id=\"a_node6\"><a xlink:title=\"(5) smoking?\">\n",
       "<ellipse cx=\"288.7434\" cy=\"-234\" fill=\"#444444\" rx=\"55.4913\" ry=\"18\" stroke=\"#000000\"/>\n",
       "<text fill=\"#ffffff\" font-family=\"Times,serif\" font-size=\"14.00\" text-anchor=\"middle\" x=\"288.7434\" y=\"-230.3\">smoking?</text>\n",
       "</a>\n",
       "</g>\n",
       "</g>\n",
       "<!-- smoking?&#45;&gt;lung_cancer? -->\n",
       "<g class=\"edge\" id=\"edge4\">\n",
       "<title>smoking?-&gt;lung_cancer?</title>\n",
       "<g id=\"a_edge4\"><a xlink:title=\"(5, 4) : \">\n",
       "<path d=\"M276.3838,-216.2022C270.4943,-207.7214 263.3347,-197.4115 256.8472,-188.0696\" fill=\"none\" stroke=\"#000000\"/>\n",
       "<polygon fill=\"#000000\" points=\"259.7128,-186.0599 251.134,-179.8425 253.9632,-190.0527 259.7128,-186.0599\" stroke=\"#000000\"/>\n",
       "</a>\n",
       "</g>\n",
       "</g>\n",
       "<!-- bronchitis? -->\n",
       "<g class=\"node\" id=\"node7\">\n",
       "<title>bronchitis?</title>\n",
       "<g id=\"a_node7\"><a xlink:title=\"(6) bronchitis?\">\n",
       "<ellipse cx=\"339.7434\" cy=\"-90\" fill=\"#444444\" rx=\"63.0888\" ry=\"18\" stroke=\"#000000\"/>\n",
       "<text fill=\"#ffffff\" font-family=\"Times,serif\" font-size=\"14.00\" text-anchor=\"middle\" x=\"339.7434\" y=\"-86.3\">bronchitis?</text>\n",
       "</a>\n",
       "</g>\n",
       "</g>\n",
       "<!-- smoking?&#45;&gt;bronchitis? -->\n",
       "<g class=\"edge\" id=\"edge6\">\n",
       "<title>smoking?-&gt;bronchitis?</title>\n",
       "<g id=\"a_edge6\"><a xlink:title=\"(5, 6) : \">\n",
       "<path d=\"M301.2622,-216.265C307.929,-206.0754 315.7588,-192.7941 320.7434,-180 328.5456,-159.9736 333.3955,-136.1291 336.2409,-118.0161\" fill=\"none\" stroke=\"#000000\"/>\n",
       "<polygon fill=\"#000000\" points=\"339.7092,-118.4869 337.6918,-108.0859 332.7827,-117.4748 339.7092,-118.4869\" stroke=\"#000000\"/>\n",
       "</a>\n",
       "</g>\n",
       "</g>\n",
       "<!-- bronchitis?&#45;&gt;dyspnoea? -->\n",
       "<g class=\"edge\" id=\"edge5\">\n",
       "<title>bronchitis?-&gt;dyspnoea?</title>\n",
       "<g id=\"a_edge5\"><a xlink:title=\"(6, 7) : \">\n",
       "<path d=\"M334.6965,-71.8314C332.534,-64.0463 329.9581,-54.7729 327.5586,-46.1347\" fill=\"none\" stroke=\"#000000\"/>\n",
       "<polygon fill=\"#000000\" points=\"330.907,-45.1117 324.8582,-36.4133 324.1624,-46.9852 330.907,-45.1117\" stroke=\"#000000\"/>\n",
       "</a>\n",
       "</g>\n",
       "</g>\n",
       "</g>\n",
       "</svg>"
      ],
      "text/plain": [
       "(gum::BayesNet<double>@0x5567c93d6bc0) BN{nodes: 8, arcs: 8, domainSize: 256, parameters: 36, compression ratio: 85% }"
      ]
     },
     "execution_count": 4,
     "metadata": {},
     "output_type": "execute_result"
    }
   ],
   "source": [
    "bn2=gum.loadBN(os.path.join(\"res\",\"asia.bif\"))\n",
    "bn2.generateCPTs()\n",
    "bn2"
   ]
  },
  {
   "cell_type": "markdown",
   "metadata": {},
   "source": [
    "## bn vs bn2 : different parameters"
   ]
  },
  {
   "cell_type": "code",
   "execution_count": 5,
   "metadata": {
    "ExecuteTime": {
     "end_time": "2018-09-11T07:44:58.614743Z",
     "start_time": "2018-09-11T07:44:58.609805Z"
    }
   },
   "outputs": [
    {
     "data": {
      "text/html": [
       "<table style=\"border-style: hidden; border-collapse: collapse;\" width=\"100%\"><tr><td style=\"border-top:hidden;border-bottom:hidden;\"><div align=\"center\"><table>\n",
       "<tr><th colspan='1'></th><th colspan='2' style='background-color:#AAAAAA'><center>positive_XraY?</center></th></tr>\n",
       "<tr><th style='background-color:#AAAAAA'><center>tuberculos_or_cancer?</center></th><th style='background-color:#BBBBBB'><center>0</center></th><th style='background-color:#BBBBBB'><center>1</center></th></tr>\n",
       "<tr><th style='background-color:#BBBBBB'><center>0</center></th><td style='background-color:#f78664;text-align:right;'>0.0612</td><td style='background-color:#86f764;text-align:right;'>0.9388</td></tr>\n",
       "<tr><th style='background-color:#BBBBBB'><center>1</center></th><td style='background-color:#de9f64;text-align:right;'>0.2502</td><td style='background-color:#9fde64;text-align:right;'>0.7498</td></tr>\n",
       "</table></div></td><td style=\"border-top:hidden;border-bottom:hidden;\"><div align=\"center\"><table>\n",
       "<tr><th colspan='1'></th><th colspan='2' style='background-color:#AAAAAA'><center>positive_XraY?</center></th></tr>\n",
       "<tr><th style='background-color:#AAAAAA'><center>tuberculos_or_cancer?</center></th><th style='background-color:#BBBBBB'><center>0</center></th><th style='background-color:#BBBBBB'><center>1</center></th></tr>\n",
       "<tr><th style='background-color:#BBBBBB'><center>0</center></th><td style='background-color:#cdb064;text-align:right;'>0.3863</td><td style='background-color:#b0cd64;text-align:right;'>0.6137</td></tr>\n",
       "<tr><th style='background-color:#BBBBBB'><center>1</center></th><td style='background-color:#c5b864;text-align:right;'>0.4526</td><td style='background-color:#b8c564;text-align:right;'>0.5474</td></tr>\n",
       "</table></div></td></tr><tr><td style=\"border-top:hidden;border-bottom:hidden;\"><div align=\"center\"><small>a CPT in bn</small></div></td><td style=\"border-top:hidden;border-bottom:hidden;\"><div align=\"center\"><small>same CPT in bn2</small></div></td></tr></table>"
      ],
      "text/plain": [
       "<IPython.core.display.HTML object>"
      ]
     },
     "metadata": {},
     "output_type": "display_data"
    }
   ],
   "source": [
    "gnb.sideBySide(bn.cpt(3),bn2.cpt(3),\n",
    "              captions=[\"a CPT in bn\",\"same CPT in bn2\"])"
   ]
  },
  {
   "cell_type": "markdown",
   "metadata": {},
   "source": [
    "## Exact and (Gibbs) approximated KL-divergence "
   ]
  },
  {
   "cell_type": "markdown",
   "metadata": {},
   "source": [
    "In order to compute KL-divergence, we just need to be sure that the 2 distributions are defined on the same domain (same variables, etc.)"
   ]
  },
  {
   "cell_type": "markdown",
   "metadata": {},
   "source": [
    "<h3>Exact KL</h3>\n"
   ]
  },
  {
   "cell_type": "code",
   "execution_count": 6,
   "metadata": {
    "ExecuteTime": {
     "end_time": "2018-09-11T07:44:58.635241Z",
     "start_time": "2018-09-11T07:44:58.616688Z"
    }
   },
   "outputs": [
    {
     "name": "stdout",
     "output_type": "stream",
     "text": [
      "{'klPQ': 3.4969004332482925, 'errorPQ': 0, 'klQP': 4.0549568167709715, 'errorQP': 0, 'hellinger': 0.9698660153011534, 'bhattacharya': 0.6354823110910987}\n"
     ]
    }
   ],
   "source": [
    "g1=gum.BruteForceKL(bn,bn2)\n",
    "print(g1.compute())"
   ]
  },
  {
   "cell_type": "markdown",
   "metadata": {},
   "source": [
    "If the models are not on the same domain :"
   ]
  },
  {
   "cell_type": "code",
   "execution_count": 7,
   "metadata": {
    "ExecuteTime": {
     "end_time": "2018-09-11T07:44:58.655752Z",
     "start_time": "2018-09-11T07:44:58.637974Z"
    }
   },
   "outputs": [],
   "source": [
    "bn_different_domain=gum.loadBN(os.path.join(\"res\",\"alarm.dsl\"))\n",
    "\n",
    "# g=gum.BruteForceKL(bn,bn_different_domain) # a KL-divergence between asia and alarm ... :(\n",
    "#\n",
    "# would cause\n",
    "#---------------------------------------------------------------------------\n",
    "#OperationNotAllowed                       Traceback (most recent call last)\n",
    "#\n",
    "#OperationNotAllowed: this operation is not allowed : KL : the 2 BNs are not compatible (not the same vars : visit_to_Asia?)"
   ]
  },
  {
   "cell_type": "markdown",
   "metadata": {},
   "source": [
    "<h3>Gibbs-approximated KL</h3>\n",
    "\n",
    "There is something wrong with <em>Bhattacharya</em> computations...\n"
   ]
  },
  {
   "cell_type": "code",
   "execution_count": 8,
   "metadata": {
    "ExecuteTime": {
     "end_time": "2018-09-11T07:44:58.678599Z",
     "start_time": "2018-09-11T07:44:58.658433Z"
    }
   },
   "outputs": [],
   "source": [
    "g=gum.GibbsKL(bn,bn2)\n",
    "g.setVerbosity(True)\n",
    "g.setMaxTime(120)\n",
    "g.setBurnIn(5000)\n",
    "g.setEpsilon(1e-7)\n",
    "g.setPeriodSize(500)"
   ]
  },
  {
   "cell_type": "code",
   "execution_count": 9,
   "metadata": {
    "ExecuteTime": {
     "end_time": "2018-09-11T07:45:03.107891Z",
     "start_time": "2018-09-11T07:44:58.681379Z"
    }
   },
   "outputs": [
    {
     "name": "stdout",
     "output_type": "stream",
     "text": [
      "{'klPQ': 3.4978731003369457, 'errorPQ': 0, 'klQP': 4.432843766721604, 'errorQP': 0, 'hellinger': 0.9876077653859481, 'bhattacharya': -12.524807510329607}\n",
      "Computed in 4.401134537 s\n"
     ]
    }
   ],
   "source": [
    "print(g.compute())\n",
    "print(\"Computed in {0} s\".format(g.currentTime()))"
   ]
  },
  {
   "cell_type": "code",
   "execution_count": 10,
   "metadata": {
    "ExecuteTime": {
     "end_time": "2018-09-11T07:45:03.354358Z",
     "start_time": "2018-09-11T07:45:03.110509Z"
    }
   },
   "outputs": [
    {
     "name": "stdout",
     "output_type": "stream",
     "text": [
      "--\n",
      "stopped with epsilon=1e-07\n",
      "--\n",
      "Temps de calcul : 4.401134537\n",
      "Nombre d'itérations : 519500\n"
     ]
    },
    {
     "data": {
      "image/png": "[encoded data removed]",
      "text/plain": [
       "<Figure size 432x288 with 1 Axes>"
      ]
     },
     "metadata": {
      "needs_background": "light"
     },
     "output_type": "display_data"
    }
   ],
   "source": [
    "print(\"--\")\n",
    "\n",
    "print(g.messageApproximationScheme())\n",
    "print(\"--\")\n",
    "\n",
    "print(\"Temps de calcul : {0}\".format(g.currentTime()))\n",
    "print(\"Nombre d'itérations : {0}\".format(g.nbrIterations()))\n",
    "\n",
    "p=plot(g.history(), 'g')"
   ]
  },
  {
   "cell_type": "markdown",
   "metadata": {},
   "source": [
    "### Animation of Gibbs KL"
   ]
  },
  {
   "cell_type": "markdown",
   "metadata": {},
   "source": [
    "Since it may be difficult to know what happens during approximation algorithm, pyAgrum allows to follow the iteration using animated matplotlib figure"
   ]
  },
  {
   "cell_type": "code",
   "execution_count": 11,
   "metadata": {
    "ExecuteTime": {
     "end_time": "2018-09-11T07:45:03.359644Z",
     "start_time": "2018-09-11T07:45:03.356337Z"
    }
   },
   "outputs": [],
   "source": [
    "g=gum.GibbsKL(bn,bn2)\n",
    "g.setMaxTime(60)\n",
    "g.setBurnIn(500)\n",
    "g.setEpsilon(1e-7)\n",
    "g.setPeriodSize(5000)"
   ]
  },
  {
   "cell_type": "code",
   "execution_count": 12,
   "metadata": {
    "ExecuteTime": {
     "end_time": "2018-09-11T07:46:04.168107Z",
     "start_time": "2018-09-11T07:45:03.361518Z"
    }
   },
   "outputs": [
    {
     "data": {
      "text/plain": [
       "{'klPQ': 3.489270409542791,\n",
       " 'errorPQ': 0,\n",
       " 'klQP': 4.044739922507175,\n",
       " 'errorQP': 0,\n",
       " 'hellinger': 0.9680094375530707,\n",
       " 'bhattacharya': -13.388178111885498}"
      ]
     },
     "execution_count": 12,
     "metadata": {},
     "output_type": "execute_result"
    },
    {
     "data": {
      "image/png": "[encoded data removed]",
      "text/plain": [
       "<Figure size 432x288 with 1 Axes>"
      ]
     },
     "metadata": {
      "needs_background": "light"
     },
     "output_type": "display_data"
    }
   ],
   "source": [
    "gnb.animApproximationScheme(g) # logarithmique scale for Y\n",
    "g.compute()"
   ]
  },
  {
   "cell_type": "code",
   "execution_count": null,
   "metadata": {},
   "outputs": [],
   "source": []
  }
 ],
 "metadata": {
  "hide_input": false,
  "kernelspec": {
   "display_name": "Python 3",
   "language": "python",
   "name": "python3"
  },
  "language_info": {
   "codemirror_mode": {
    "name": "ipython",
    "version": 3
   },
   "file_extension": ".py",
   "mimetype": "text/x-python",
   "name": "python",
   "nbconvert_exporter": "python",
   "pygments_lexer": "ipython3",
   "version": "3.7.0"
  }
 },
 "nbformat": 4,
 "nbformat_minor": 1
}
