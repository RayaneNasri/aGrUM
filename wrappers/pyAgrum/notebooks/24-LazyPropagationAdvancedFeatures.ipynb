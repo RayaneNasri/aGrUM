{
 "cells": [
  {
   "cell_type": "code",
   "execution_count": 1,
   "metadata": {
    "ExecuteTime": {
     "end_time": "2018-10-31T13:01:05.786503Z",
     "start_time": "2018-10-31T13:01:05.564132Z"
    }
   },
   "outputs": [],
   "source": [
    "import pyAgrum as gum\n",
    "import pyAgrum.lib.notebook as gnb"
   ]
  },
  {
   "cell_type": "code",
   "execution_count": 2,
   "metadata": {
    "ExecuteTime": {
     "end_time": "2018-10-31T13:01:07.882520Z",
     "start_time": "2018-10-31T13:01:05.788460Z"
    }
   },
   "outputs": [
    {
     "data": {
      "text/html": [
       "<svg height=\"260pt\" viewBox=\"0.00 0.00 134.00 260.00\" width=\"134pt\" xmlns=\"http://www.w3.org/2000/svg\" xmlns:xlink=\"http://www.w3.org/1999/xlink\">\n",
       "<g class=\"graph\" id=\"graph0\" transform=\"scale(1 1) rotate(0) translate(4 256)\">\n",
       "<title>G</title>\n",
       "<!-- A -->\n",
       "<g class=\"node\" id=\"node1\">\n",
       "<title>A</title>\n",
       "<g id=\"a_node1\"><a xlink:title=\"(0) A\">\n",
       "<ellipse cx=\"99\" cy=\"-234\" fill=\"#444444\" rx=\"27\" ry=\"18\" stroke=\"#000000\"/>\n",
       "<text fill=\"#ffffff\" font-family=\"Times,serif\" font-size=\"14.00\" text-anchor=\"middle\" x=\"99\" y=\"-230.3\">A</text>\n",
       "</a>\n",
       "</g>\n",
       "</g>\n",
       "<!-- B -->\n",
       "<g class=\"node\" id=\"node2\">\n",
       "<title>B</title>\n",
       "<g id=\"a_node2\"><a xlink:title=\"(1) B\">\n",
       "<ellipse cx=\"27\" cy=\"-162\" fill=\"#444444\" rx=\"27\" ry=\"18\" stroke=\"#000000\"/>\n",
       "<text fill=\"#ffffff\" font-family=\"Times,serif\" font-size=\"14.00\" text-anchor=\"middle\" x=\"27\" y=\"-158.3\">B</text>\n",
       "</a>\n",
       "</g>\n",
       "</g>\n",
       "<!-- A&#45;&gt;B -->\n",
       "<g class=\"edge\" id=\"edge1\">\n",
       "<title>A-&gt;B</title>\n",
       "<g id=\"a_edge1\"><a xlink:title=\"(0, 1) : \">\n",
       "<path d=\"M83.7307,-218.7307C73.803,-208.803 60.6847,-195.6847 49.5637,-184.5637\" fill=\"none\" stroke=\"#000000\"/>\n",
       "<polygon fill=\"#000000\" points=\"51.7933,-181.8436 42.2473,-177.2473 46.8436,-186.7933 51.7933,-181.8436\" stroke=\"#000000\"/>\n",
       "</a>\n",
       "</g>\n",
       "</g>\n",
       "<!-- E -->\n",
       "<g class=\"node\" id=\"node5\">\n",
       "<title>E</title>\n",
       "<g id=\"a_node5\"><a xlink:title=\"(4) E\">\n",
       "<ellipse cx=\"99\" cy=\"-90\" fill=\"#444444\" rx=\"27\" ry=\"18\" stroke=\"#000000\"/>\n",
       "<text fill=\"#ffffff\" font-family=\"Times,serif\" font-size=\"14.00\" text-anchor=\"middle\" x=\"99\" y=\"-86.3\">E</text>\n",
       "</a>\n",
       "</g>\n",
       "</g>\n",
       "<!-- A&#45;&gt;E -->\n",
       "<g class=\"edge\" id=\"edge6\">\n",
       "<title>A-&gt;E</title>\n",
       "<g id=\"a_edge6\"><a xlink:title=\"(0, 4) : \">\n",
       "<path d=\"M99,-215.7623C99,-191.201 99,-147.2474 99,-118.3541\" fill=\"none\" stroke=\"#000000\"/>\n",
       "<polygon fill=\"#000000\" points=\"102.5001,-118.0896 99,-108.0896 95.5001,-118.0897 102.5001,-118.0896\" stroke=\"#000000\"/>\n",
       "</a>\n",
       "</g>\n",
       "</g>\n",
       "<!-- C -->\n",
       "<g class=\"node\" id=\"node3\">\n",
       "<title>C</title>\n",
       "<g id=\"a_node3\"><a xlink:title=\"(2) C\">\n",
       "<ellipse cx=\"27\" cy=\"-90\" fill=\"#444444\" rx=\"27\" ry=\"18\" stroke=\"#000000\"/>\n",
       "<text fill=\"#ffffff\" font-family=\"Times,serif\" font-size=\"14.00\" text-anchor=\"middle\" x=\"27\" y=\"-86.3\">C</text>\n",
       "</a>\n",
       "</g>\n",
       "</g>\n",
       "<!-- B&#45;&gt;C -->\n",
       "<g class=\"edge\" id=\"edge2\">\n",
       "<title>B-&gt;C</title>\n",
       "<g id=\"a_edge2\"><a xlink:title=\"(1, 2) : \">\n",
       "<path d=\"M27,-143.8314C27,-136.131 27,-126.9743 27,-118.4166\" fill=\"none\" stroke=\"#000000\"/>\n",
       "<polygon fill=\"#000000\" points=\"30.5001,-118.4132 27,-108.4133 23.5001,-118.4133 30.5001,-118.4132\" stroke=\"#000000\"/>\n",
       "</a>\n",
       "</g>\n",
       "</g>\n",
       "<!-- D -->\n",
       "<g class=\"node\" id=\"node4\">\n",
       "<title>D</title>\n",
       "<g id=\"a_node4\"><a xlink:title=\"(3) D\">\n",
       "<ellipse cx=\"99\" cy=\"-18\" fill=\"#444444\" rx=\"27\" ry=\"18\" stroke=\"#000000\"/>\n",
       "<text fill=\"#ffffff\" font-family=\"Times,serif\" font-size=\"14.00\" text-anchor=\"middle\" x=\"99\" y=\"-14.3\">D</text>\n",
       "</a>\n",
       "</g>\n",
       "</g>\n",
       "<!-- C&#45;&gt;D -->\n",
       "<g class=\"edge\" id=\"edge4\">\n",
       "<title>C-&gt;D</title>\n",
       "<g id=\"a_edge4\"><a xlink:title=\"(2, 3) : \">\n",
       "<path d=\"M42.2693,-74.7307C52.197,-64.803 65.3153,-51.6847 76.4363,-40.5637\" fill=\"none\" stroke=\"#000000\"/>\n",
       "<polygon fill=\"#000000\" points=\"79.1564,-42.7933 83.7527,-33.2473 74.2067,-37.8436 79.1564,-42.7933\" stroke=\"#000000\"/>\n",
       "</a>\n",
       "</g>\n",
       "</g>\n",
       "<!-- H -->\n",
       "<g class=\"node\" id=\"node7\">\n",
       "<title>H</title>\n",
       "<g id=\"a_node7\"><a xlink:title=\"(6) H\">\n",
       "<ellipse cx=\"27\" cy=\"-18\" fill=\"#444444\" rx=\"27\" ry=\"18\" stroke=\"#000000\"/>\n",
       "<text fill=\"#ffffff\" font-family=\"Times,serif\" font-size=\"14.00\" text-anchor=\"middle\" x=\"27\" y=\"-14.3\">H</text>\n",
       "</a>\n",
       "</g>\n",
       "</g>\n",
       "<!-- C&#45;&gt;H -->\n",
       "<g class=\"edge\" id=\"edge3\">\n",
       "<title>C-&gt;H</title>\n",
       "<g id=\"a_edge3\"><a xlink:title=\"(2, 6) : \">\n",
       "<path d=\"M27,-71.8314C27,-64.131 27,-54.9743 27,-46.4166\" fill=\"none\" stroke=\"#000000\"/>\n",
       "<polygon fill=\"#000000\" points=\"30.5001,-46.4132 27,-36.4133 23.5001,-46.4133 30.5001,-46.4132\" stroke=\"#000000\"/>\n",
       "</a>\n",
       "</g>\n",
       "</g>\n",
       "<!-- E&#45;&gt;D -->\n",
       "<g class=\"edge\" id=\"edge5\">\n",
       "<title>E-&gt;D</title>\n",
       "<g id=\"a_edge5\"><a xlink:title=\"(4, 3) : \">\n",
       "<path d=\"M99,-71.8314C99,-64.131 99,-54.9743 99,-46.4166\" fill=\"none\" stroke=\"#000000\"/>\n",
       "<polygon fill=\"#000000\" points=\"102.5001,-46.4132 99,-36.4133 95.5001,-46.4133 102.5001,-46.4132\" stroke=\"#000000\"/>\n",
       "</a>\n",
       "</g>\n",
       "</g>\n",
       "<!-- F -->\n",
       "<g class=\"node\" id=\"node6\">\n",
       "<title>F</title>\n",
       "<g id=\"a_node6\"><a xlink:title=\"(5) F\">\n",
       "<ellipse cx=\"27\" cy=\"-234\" fill=\"#444444\" rx=\"27\" ry=\"18\" stroke=\"#000000\"/>\n",
       "<text fill=\"#ffffff\" font-family=\"Times,serif\" font-size=\"14.00\" text-anchor=\"middle\" x=\"27\" y=\"-230.3\">F</text>\n",
       "</a>\n",
       "</g>\n",
       "</g>\n",
       "<!-- F&#45;&gt;B -->\n",
       "<g class=\"edge\" id=\"edge7\">\n",
       "<title>F-&gt;B</title>\n",
       "<g id=\"a_edge7\"><a xlink:title=\"(5, 1) : \">\n",
       "<path d=\"M27,-215.8314C27,-208.131 27,-198.9743 27,-190.4166\" fill=\"none\" stroke=\"#000000\"/>\n",
       "<polygon fill=\"#000000\" points=\"30.5001,-190.4132 27,-180.4133 23.5001,-190.4133 30.5001,-190.4132\" stroke=\"#000000\"/>\n",
       "</a>\n",
       "</g>\n",
       "</g>\n",
       "</g>\n",
       "</svg>"
      ],
      "text/plain": [
       "(gum::BayesNet<double>@0x55fa71928b60) BN{nodes: 7, arcs: 7, domainSize: 128, parameters: 32, compression ratio: 75% }"
      ]
     },
     "execution_count": 2,
     "metadata": {},
     "output_type": "execute_result"
    }
   ],
   "source": [
    "bn=gum.fastBN(\"A->B->C->D;A->E->D;F->B;C->H\")\n",
    "ie=gum.LazyPropagation(bn)\n",
    "bn              "
   ]
  },
  {
   "cell_type": "markdown",
   "metadata": {},
   "source": [
    "Evidence Impact allows the user to analyze the effect of any variables on any other variables"
   ]
  },
  {
   "cell_type": "code",
   "execution_count": 3,
   "metadata": {
    "ExecuteTime": {
     "end_time": "2018-10-31T13:01:07.897232Z",
     "start_time": "2018-10-31T13:01:07.887716Z"
    }
   },
   "outputs": [
    {
     "data": {
      "text/html": [
       "<table>\n",
       "<tr><th colspan='2'></th><th colspan='2' style='background-color:#AAAAAA'><center>B</center></th></tr>\n",
       "<tr><th style='background-color:#AAAAAA'><center>H</center></th><th style='background-color:#AAAAAA'><center>A</center></th><th style='background-color:#BBBBBB'><center>0</center></th><th style='background-color:#BBBBBB'><center>1</center></th></tr>\n",
       "<tr><th style='background-color:#BBBBBB'><center>0</center></th><th style='background-color:#BBBBBB;' rowspan = '2'><center>0</center></th><td style='background-color:#b8c564;text-align:right;'>0.5514</td><td style='background-color:#c5b864;text-align:right;'>0.4486</td></tr>\n",
       "<tr><th style='background-color:#BBBBBB'><center>1</center></th><td style='background-color:#b6c764;text-align:right;'>0.5665</td><td style='background-color:#c7b664;text-align:right;'>0.4335</td></tr>\n",
       "<tr><th style='background-color:#BBBBBB'><center>0</center></th><th style='background-color:#BBBBBB;' rowspan = '2'><center>1</center></th><td style='background-color:#cab364;text-align:right;'>0.4120</td><td style='background-color:#b3ca64;text-align:right;'>0.5880</td></tr>\n",
       "<tr><th style='background-color:#BBBBBB'><center>1</center></th><td style='background-color:#c8b564;text-align:right;'>0.4269</td><td style='background-color:#b5c864;text-align:right;'>0.5731</td></tr>\n",
       "</table>"
      ],
      "text/plain": [
       "(gum::Potential<double>@0x55fa71017fb0) <B:0|H:0|A:0> :: 0.551362 /<B:1|H:0|A:0> :: 0.448638 /<B:0|H:1|A:0> :: 0.566508 /<B:1|H:1|A:0> :: 0.433492 /<B:0|H:0|A:1> :: 0.411951 /<B:1|H:0|A:1> :: 0.588049 /<B:0|H:1|A:1> :: 0.426911 /<B:1|H:1|A:1> :: 0.573089"
      ]
     },
     "execution_count": 3,
     "metadata": {},
     "output_type": "execute_result"
    }
   ],
   "source": [
    "ie.evidenceImpact(\"B\",[\"A\",\"H\"])"
   ]
  },
  {
   "cell_type": "markdown",
   "metadata": {
    "ExecuteTime": {
     "end_time": "2018-09-11T07:44:32.291529Z",
     "start_time": "2018-09-11T07:44:32.271183Z"
    }
   },
   "source": [
    "Evidence impact is able to find the minimum set of variables which effectively conditions the analyzed variable"
   ]
  },
  {
   "cell_type": "code",
   "execution_count": 4,
   "metadata": {
    "ExecuteTime": {
     "end_time": "2018-10-31T13:01:07.909842Z",
     "start_time": "2018-10-31T13:01:07.899817Z"
    }
   },
   "outputs": [
    {
     "data": {
      "text/html": [
       "<table>\n",
       "<tr><th colspan='3'></th><th colspan='2' style='background-color:#AAAAAA'><center>E</center></th></tr>\n",
       "<tr><th style='background-color:#AAAAAA'><center>D</center></th><th style='background-color:#AAAAAA'><center>B</center></th><th style='background-color:#AAAAAA'><center>A</center></th><th style='background-color:#BBBBBB'><center>0</center></th><th style='background-color:#BBBBBB'><center>1</center></th></tr>\n",
       "<tr><th style='background-color:#BBBBBB'><center>0</center></th><th style='background-color:#BBBBBB;' rowspan = '2'><center>0</center></th><th style='background-color:#BBBBBB;' rowspan = '4'><center>0</center></th><td style='background-color:#93ea64;text-align:right;'>0.8376</td><td style='background-color:#ea9364;text-align:right;'>0.1624</td></tr>\n",
       "<tr><th style='background-color:#BBBBBB'><center>1</center></th><td style='background-color:#b1cc64;text-align:right;'>0.6028</td><td style='background-color:#ccb164;text-align:right;'>0.3972</td></tr>\n",
       "<tr><th style='background-color:#BBBBBB'><center>0</center></th><th style='background-color:#BBBBBB;' rowspan = '2'><center>1</center></th><td style='background-color:#93ea64;text-align:right;'>0.8381</td><td style='background-color:#ea9364;text-align:right;'>0.1619</td></tr>\n",
       "<tr><th style='background-color:#BBBBBB'><center>1</center></th><td style='background-color:#b1cc64;text-align:right;'>0.6023</td><td style='background-color:#ccb164;text-align:right;'>0.3977</td></tr>\n",
       "<tr><th style='background-color:#BBBBBB'><center>0</center></th><th style='background-color:#BBBBBB;' rowspan = '2'><center>0</center></th><th style='background-color:#BBBBBB;' rowspan = '4'><center>1</center></th><td style='background-color:#85f864;text-align:right;'>0.9453</td><td style='background-color:#f88564;text-align:right;'>0.0547</td></tr>\n",
       "<tr><th style='background-color:#BBBBBB'><center>1</center></th><td style='background-color:#94e964;text-align:right;'>0.8358</td><td style='background-color:#e99464;text-align:right;'>0.1642</td></tr>\n",
       "<tr><th style='background-color:#BBBBBB'><center>0</center></th><th style='background-color:#BBBBBB;' rowspan = '2'><center>1</center></th><td style='background-color:#85f864;text-align:right;'>0.9455</td><td style='background-color:#f88564;text-align:right;'>0.0545</td></tr>\n",
       "<tr><th style='background-color:#BBBBBB'><center>1</center></th><td style='background-color:#94e964;text-align:right;'>0.8355</td><td style='background-color:#e99464;text-align:right;'>0.1645</td></tr>\n",
       "</table>"
      ],
      "text/plain": [
       "(gum::Potential<double>@0x55fa71003530) <E:0|D:0|B:0|A:0> :: 0.837619 /<E:1|D:0|B:0|A:0> :: 0.162381 /<E:0|D:1|B:0|A:0> :: 0.602804 /<E:1|D:1|B:0|A:0> :: 0.397196 /<E:0|D:0|B:1|A:0> :: 0.838144 /<E:1|D:0|B:1|A:0> :: 0.161856 /<E:0|D:1|B:1|A:0> :: 0.602291 /<E:1|D:1|B:1|A:0> :: 0.397709 /<E:0|D:0|B:0|A:1> :: 0.945346 /<E:1|D:0|B:0|A:1> :: 0.0546536 /<E:0|D:1|B:0|A:1> :: 0.83577 /<E:1|D:1|B:0|A:1> :: 0.16423 /<E:0|D:0|B:1|A:1> :: 0.945546 /<E:1|D:0|B:1|A:1> :: 0.0544542 /<E:0|D:1|B:1|A:1> :: 0.835475 /<E:1|D:1|B:1|A:1> :: 0.164525"
      ]
     },
     "execution_count": 4,
     "metadata": {},
     "output_type": "execute_result"
    }
   ],
   "source": [
    "ie.evidenceImpact(\"E\",[\"A\",\"F\",\"B\",\"D\"]) # {A,D,B} d-separates E and F"
   ]
  },
  {
   "cell_type": "code",
   "execution_count": 5,
   "metadata": {
    "ExecuteTime": {
     "end_time": "2018-10-31T13:01:07.921245Z",
     "start_time": "2018-10-31T13:01:07.912063Z"
    }
   },
   "outputs": [
    {
     "data": {
      "text/html": [
       "<table>\n",
       "<tr><th colspan='3'></th><th colspan='2' style='background-color:#AAAAAA'><center>E</center></th></tr>\n",
       "<tr><th style='background-color:#AAAAAA'><center>D</center></th><th style='background-color:#AAAAAA'><center>A</center></th><th style='background-color:#AAAAAA'><center>C</center></th><th style='background-color:#BBBBBB'><center>0</center></th><th style='background-color:#BBBBBB'><center>1</center></th></tr>\n",
       "<tr><th style='background-color:#BBBBBB'><center>0</center></th><th style='background-color:#BBBBBB;' rowspan = '2'><center>0</center></th><th style='background-color:#BBBBBB;' rowspan = '4'><center>0</center></th><td style='background-color:#93ea64;text-align:right;'>0.8400</td><td style='background-color:#ea9364;text-align:right;'>0.1600</td></tr>\n",
       "<tr><th style='background-color:#BBBBBB'><center>1</center></th><td style='background-color:#b2cb64;text-align:right;'>0.6004</td><td style='background-color:#cbb264;text-align:right;'>0.3996</td></tr>\n",
       "<tr><th style='background-color:#BBBBBB'><center>0</center></th><th style='background-color:#BBBBBB;' rowspan = '2'><center>1</center></th><td style='background-color:#85f864;text-align:right;'>0.9463</td><td style='background-color:#f88564;text-align:right;'>0.0537</td></tr>\n",
       "<tr><th style='background-color:#BBBBBB'><center>1</center></th><td style='background-color:#94e964;text-align:right;'>0.8344</td><td style='background-color:#e99464;text-align:right;'>0.1656</td></tr>\n",
       "<tr><th style='background-color:#BBBBBB'><center>0</center></th><th style='background-color:#BBBBBB;' rowspan = '2'><center>0</center></th><th style='background-color:#BBBBBB;' rowspan = '4'><center>1</center></th><td style='background-color:#98e564;text-align:right;'>0.8036</td><td style='background-color:#e59864;text-align:right;'>0.1964</td></tr>\n",
       "<tr><th style='background-color:#BBBBBB'><center>1</center></th><td style='background-color:#aecf64;text-align:right;'>0.6310</td><td style='background-color:#cfae64;text-align:right;'>0.3690</td></tr>\n",
       "<tr><th style='background-color:#BBBBBB'><center>0</center></th><th style='background-color:#BBBBBB;' rowspan = '2'><center>1</center></th><td style='background-color:#87f664;text-align:right;'>0.9321</td><td style='background-color:#f68764;text-align:right;'>0.0679</td></tr>\n",
       "<tr><th style='background-color:#BBBBBB'><center>1</center></th><td style='background-color:#92eb64;text-align:right;'>0.8515</td><td style='background-color:#eb9264;text-align:right;'>0.1485</td></tr>\n",
       "</table>"
      ],
      "text/plain": [
       "(gum::Potential<double>@0x55fa717d0df0) <E:0|D:0|A:0|C:0> :: 0.840037 /<E:1|D:0|A:0|C:0> :: 0.159963 /<E:0|D:1|A:0|C:0> :: 0.600419 /<E:1|D:1|A:0|C:0> :: 0.399581 /<E:0|D:0|A:1|C:0> :: 0.946263 /<E:1|D:0|A:1|C:0> :: 0.0537367 /<E:0|D:1|A:1|C:0> :: 0.834399 /<E:1|D:1|A:1|C:0> :: 0.165601 /<E:0|D:0|A:0|C:1> :: 0.803608 /<E:1|D:0|A:0|C:1> :: 0.196392 /<E:0|D:1|A:0|C:1> :: 0.631032 /<E:1|D:1|A:0|C:1> :: 0.368968 /<E:0|D:0|A:1|C:1> :: 0.932069 /<E:1|D:0|A:1|C:1> :: 0.0679305 /<E:0|D:1|A:1|C:1> :: 0.85152 /<E:1|D:1|A:1|C:1> :: 0.14848"
      ]
     },
     "execution_count": 5,
     "metadata": {},
     "output_type": "execute_result"
    }
   ],
   "source": [
    "ie.evidenceImpact(\"E\",[\"A\",\"B\",\"C\",\"D\",\"F\"]) # {A,C,D} d-separates E and {B,F}"
   ]
  },
  {
   "cell_type": "code",
   "execution_count": 6,
   "metadata": {
    "ExecuteTime": {
     "end_time": "2018-10-31T13:01:07.930033Z",
     "start_time": "2018-10-31T13:01:07.923491Z"
    }
   },
   "outputs": [
    {
     "data": {
      "text/html": [
       "<table>\n",
       "<tr><th colspan='3'></th><th colspan='2' style='background-color:#AAAAAA'><center>A</center></th></tr>\n",
       "<tr><th style='background-color:#AAAAAA'><center>F</center></th><th style='background-color:#AAAAAA'><center>B</center></th><th style='background-color:#AAAAAA'><center>E</center></th><th style='background-color:#BBBBBB'><center>0</center></th><th style='background-color:#BBBBBB'><center>1</center></th></tr>\n",
       "<tr><th style='background-color:#BBBBBB'><center>0</center></th><th style='background-color:#BBBBBB;' rowspan = '2'><center>0</center></th><th style='background-color:#BBBBBB;' rowspan = '4'><center>0</center></th><td style='text-align:right;'>0.2531</td><td style='text-align:right;'>0.1998</td></tr>\n",
       "<tr><th style='background-color:#BBBBBB'><center>1</center></th><td style='text-align:right;'>0.2996</td><td style='text-align:right;'>0.2475</td></tr>\n",
       "<tr><th style='background-color:#BBBBBB'><center>0</center></th><th style='background-color:#BBBBBB;' rowspan = '2'><center>1</center></th><td style='text-align:right;'>0.3194</td><td style='text-align:right;'>0.4143</td></tr>\n",
       "<tr><th style='background-color:#BBBBBB'><center>1</center></th><td style='text-align:right;'>0.0938</td><td style='text-align:right;'>0.1725</td></tr>\n",
       "<tr><th style='background-color:#BBBBBB'><center>0</center></th><th style='background-color:#BBBBBB;' rowspan = '2'><center>0</center></th><th style='background-color:#BBBBBB;' rowspan = '4'><center>1</center></th><td style='text-align:right;'>0.3689</td><td style='text-align:right;'>0.0869</td></tr>\n",
       "<tr><th style='background-color:#BBBBBB'><center>1</center></th><td style='text-align:right;'>0.4367</td><td style='text-align:right;'>0.1076</td></tr>\n",
       "<tr><th style='background-color:#BBBBBB'><center>0</center></th><th style='background-color:#BBBBBB;' rowspan = '2'><center>1</center></th><td style='text-align:right;'>0.5430</td><td style='text-align:right;'>0.2100</td></tr>\n",
       "<tr><th style='background-color:#BBBBBB'><center>1</center></th><td style='text-align:right;'>0.1595</td><td style='text-align:right;'>0.0875</td></tr>\n",
       "</table>"
      ],
      "text/plain": [
       "(gum::Potential<double>@0x55fa71758bf0) <A:0|F:0|B:0|E:0> :: 0.253077 /<A:1|F:0|B:0|E:0> :: 0.199815 /<A:0|F:1|B:0|E:0> :: 0.299589 /<A:1|F:1|B:0|E:0> :: 0.247519 /<A:0|F:0|B:1|E:0> :: 0.319415 /<A:1|F:0|B:1|E:0> :: 0.414255 /<A:0|F:1|B:1|E:0> :: 0.0938133 /<A:1|F:1|B:1|E:0> :: 0.172517 /<A:0|F:0|B:0|E:1> :: 0.368879 /<A:1|F:0|B:0|E:1> :: 0.0868556 /<A:0|F:1|B:0|E:1> :: 0.436673 /<A:1|F:1|B:0|E:1> :: 0.107592 /<A:0|F:0|B:1|E:1> :: 0.543023 /<A:1|F:0|B:1|E:1> :: 0.210024 /<A:0|F:1|B:1|E:1> :: 0.159488 /<A:1|F:1|B:1|E:1> :: 0.0874647"
      ]
     },
     "execution_count": 6,
     "metadata": {},
     "output_type": "execute_result"
    }
   ],
   "source": [
    "ie.evidenceJointImpact([\"A\",\"F\"],[\"B\",\"C\",\"D\",\"E\",\"H\"]) # {B,E} d-separates [A,F] and [C,D,H]"
   ]
  },
  {
   "cell_type": "code",
   "execution_count": null,
   "metadata": {},
   "outputs": [],
   "source": []
  }
 ],
 "metadata": {
  "hide_input": false,
  "kernelspec": {
   "display_name": "Python 3",
   "language": "python",
   "name": "python3"
  },
  "language_info": {
   "codemirror_mode": {
    "name": "ipython",
    "version": 3
   },
   "file_extension": ".py",
   "mimetype": "text/x-python",
   "name": "python",
   "nbconvert_exporter": "python",
   "pygments_lexer": "ipython3",
   "version": "3.7.1"
  }
 },
 "nbformat": 4,
 "nbformat_minor": 2
}
