{
 "cells": [
  {
   "cell_type": "markdown",
   "metadata": {},
   "source": [
    "<a href=\"http://agrum.org\" target=\"blank\"><img src=\"http://agrum.gitlab.io/theme/img/logoAgrum.png\" align=\"left\" style=\"height:100px\"/></a><a rel=\"license\" href=\"http://creativecommons.org/licenses/by-nc/4.0/\"><img alt=\"Creative Commons License\" style=\"border-width:0\" src=\"https://i.creativecommons.org/l/by-nc/4.0/88x31.png\" /></a><br />This pyAgrum's notebook is licensed under a <a rel=\"license\" href=\"http://creativecommons.org/licenses/by-nc/4.0/\">Creative Commons Attribution-NonCommercial 4.0 International License</a>."
   ]
  },
  {
   "cell_type": "code",
   "execution_count": 1,
   "metadata": {
    "ExecuteTime": {
     "end_time": "2019-02-25T16:37:44.110141Z",
     "start_time": "2019-02-25T16:37:43.874674Z"
    }
   },
   "outputs": [],
   "source": [
    "import pyAgrum as gum\n",
    "import pyAgrum.lib.notebook as gnb"
   ]
  },
  {
   "cell_type": "code",
   "execution_count": 2,
   "metadata": {
    "ExecuteTime": {
     "end_time": "2019-02-25T16:37:46.421089Z",
     "start_time": "2019-02-25T16:37:44.111996Z"
    }
   },
   "outputs": [
    {
     "data": {
      "text/html": [
       "<svg height=\"260pt\" viewBox=\"0.00 0.00 134.00 260.00\" width=\"134pt\" xmlns=\"http://www.w3.org/2000/svg\" xmlns:xlink=\"http://www.w3.org/1999/xlink\">\n",
       "<g class=\"graph\" id=\"graph0\" transform=\"scale(1 1) rotate(0) translate(4 256)\">\n",
       "<title>G</title>\n",
       "<!-- A -->\n",
       "<g class=\"node\" id=\"node1\">\n",
       "<title>A</title>\n",
       "<g id=\"a_node1\"><a xlink:title=\"(0) A\">\n",
       "<ellipse cx=\"99\" cy=\"-234\" fill=\"#444444\" rx=\"27\" ry=\"18\" stroke=\"#000000\"/>\n",
       "<text fill=\"#ffffff\" font-family=\"Times,serif\" font-size=\"14.00\" text-anchor=\"middle\" x=\"99\" y=\"-230.3\">A</text>\n",
       "</a>\n",
       "</g>\n",
       "</g>\n",
       "<!-- B -->\n",
       "<g class=\"node\" id=\"node2\">\n",
       "<title>B</title>\n",
       "<g id=\"a_node2\"><a xlink:title=\"(1) B\">\n",
       "<ellipse cx=\"27\" cy=\"-162\" fill=\"#444444\" rx=\"27\" ry=\"18\" stroke=\"#000000\"/>\n",
       "<text fill=\"#ffffff\" font-family=\"Times,serif\" font-size=\"14.00\" text-anchor=\"middle\" x=\"27\" y=\"-158.3\">B</text>\n",
       "</a>\n",
       "</g>\n",
       "</g>\n",
       "<!-- A&#45;&gt;B -->\n",
       "<g class=\"edge\" id=\"edge1\">\n",
       "<title>A-&gt;B</title>\n",
       "<g id=\"a_edge1\"><a xlink:title=\"(0, 1) : \">\n",
       "<path d=\"M83.7307,-218.7307C73.803,-208.803 60.6847,-195.6847 49.5637,-184.5637\" fill=\"none\" stroke=\"#000000\"/>\n",
       "<polygon fill=\"#000000\" points=\"51.7933,-181.8436 42.2473,-177.2473 46.8436,-186.7933 51.7933,-181.8436\" stroke=\"#000000\"/>\n",
       "</a>\n",
       "</g>\n",
       "</g>\n",
       "<!-- E -->\n",
       "<g class=\"node\" id=\"node5\">\n",
       "<title>E</title>\n",
       "<g id=\"a_node5\"><a xlink:title=\"(4) E\">\n",
       "<ellipse cx=\"99\" cy=\"-90\" fill=\"#444444\" rx=\"27\" ry=\"18\" stroke=\"#000000\"/>\n",
       "<text fill=\"#ffffff\" font-family=\"Times,serif\" font-size=\"14.00\" text-anchor=\"middle\" x=\"99\" y=\"-86.3\">E</text>\n",
       "</a>\n",
       "</g>\n",
       "</g>\n",
       "<!-- A&#45;&gt;E -->\n",
       "<g class=\"edge\" id=\"edge6\">\n",
       "<title>A-&gt;E</title>\n",
       "<g id=\"a_edge6\"><a xlink:title=\"(0, 4) : \">\n",
       "<path d=\"M99,-215.7623C99,-191.201 99,-147.2474 99,-118.3541\" fill=\"none\" stroke=\"#000000\"/>\n",
       "<polygon fill=\"#000000\" points=\"102.5001,-118.0896 99,-108.0896 95.5001,-118.0897 102.5001,-118.0896\" stroke=\"#000000\"/>\n",
       "</a>\n",
       "</g>\n",
       "</g>\n",
       "<!-- C -->\n",
       "<g class=\"node\" id=\"node3\">\n",
       "<title>C</title>\n",
       "<g id=\"a_node3\"><a xlink:title=\"(2) C\">\n",
       "<ellipse cx=\"27\" cy=\"-90\" fill=\"#444444\" rx=\"27\" ry=\"18\" stroke=\"#000000\"/>\n",
       "<text fill=\"#ffffff\" font-family=\"Times,serif\" font-size=\"14.00\" text-anchor=\"middle\" x=\"27\" y=\"-86.3\">C</text>\n",
       "</a>\n",
       "</g>\n",
       "</g>\n",
       "<!-- B&#45;&gt;C -->\n",
       "<g class=\"edge\" id=\"edge2\">\n",
       "<title>B-&gt;C</title>\n",
       "<g id=\"a_edge2\"><a xlink:title=\"(1, 2) : \">\n",
       "<path d=\"M27,-143.8314C27,-136.131 27,-126.9743 27,-118.4166\" fill=\"none\" stroke=\"#000000\"/>\n",
       "<polygon fill=\"#000000\" points=\"30.5001,-118.4132 27,-108.4133 23.5001,-118.4133 30.5001,-118.4132\" stroke=\"#000000\"/>\n",
       "</a>\n",
       "</g>\n",
       "</g>\n",
       "<!-- D -->\n",
       "<g class=\"node\" id=\"node4\">\n",
       "<title>D</title>\n",
       "<g id=\"a_node4\"><a xlink:title=\"(3) D\">\n",
       "<ellipse cx=\"99\" cy=\"-18\" fill=\"#444444\" rx=\"27\" ry=\"18\" stroke=\"#000000\"/>\n",
       "<text fill=\"#ffffff\" font-family=\"Times,serif\" font-size=\"14.00\" text-anchor=\"middle\" x=\"99\" y=\"-14.3\">D</text>\n",
       "</a>\n",
       "</g>\n",
       "</g>\n",
       "<!-- C&#45;&gt;D -->\n",
       "<g class=\"edge\" id=\"edge4\">\n",
       "<title>C-&gt;D</title>\n",
       "<g id=\"a_edge4\"><a xlink:title=\"(2, 3) : \">\n",
       "<path d=\"M42.2693,-74.7307C52.197,-64.803 65.3153,-51.6847 76.4363,-40.5637\" fill=\"none\" stroke=\"#000000\"/>\n",
       "<polygon fill=\"#000000\" points=\"79.1564,-42.7933 83.7527,-33.2473 74.2067,-37.8436 79.1564,-42.7933\" stroke=\"#000000\"/>\n",
       "</a>\n",
       "</g>\n",
       "</g>\n",
       "<!-- H -->\n",
       "<g class=\"node\" id=\"node7\">\n",
       "<title>H</title>\n",
       "<g id=\"a_node7\"><a xlink:title=\"(6) H\">\n",
       "<ellipse cx=\"27\" cy=\"-18\" fill=\"#444444\" rx=\"27\" ry=\"18\" stroke=\"#000000\"/>\n",
       "<text fill=\"#ffffff\" font-family=\"Times,serif\" font-size=\"14.00\" text-anchor=\"middle\" x=\"27\" y=\"-14.3\">H</text>\n",
       "</a>\n",
       "</g>\n",
       "</g>\n",
       "<!-- C&#45;&gt;H -->\n",
       "<g class=\"edge\" id=\"edge3\">\n",
       "<title>C-&gt;H</title>\n",
       "<g id=\"a_edge3\"><a xlink:title=\"(2, 6) : \">\n",
       "<path d=\"M27,-71.8314C27,-64.131 27,-54.9743 27,-46.4166\" fill=\"none\" stroke=\"#000000\"/>\n",
       "<polygon fill=\"#000000\" points=\"30.5001,-46.4132 27,-36.4133 23.5001,-46.4133 30.5001,-46.4132\" stroke=\"#000000\"/>\n",
       "</a>\n",
       "</g>\n",
       "</g>\n",
       "<!-- E&#45;&gt;D -->\n",
       "<g class=\"edge\" id=\"edge5\">\n",
       "<title>E-&gt;D</title>\n",
       "<g id=\"a_edge5\"><a xlink:title=\"(4, 3) : \">\n",
       "<path d=\"M99,-71.8314C99,-64.131 99,-54.9743 99,-46.4166\" fill=\"none\" stroke=\"#000000\"/>\n",
       "<polygon fill=\"#000000\" points=\"102.5001,-46.4132 99,-36.4133 95.5001,-46.4133 102.5001,-46.4132\" stroke=\"#000000\"/>\n",
       "</a>\n",
       "</g>\n",
       "</g>\n",
       "<!-- F -->\n",
       "<g class=\"node\" id=\"node6\">\n",
       "<title>F</title>\n",
       "<g id=\"a_node6\"><a xlink:title=\"(5) F\">\n",
       "<ellipse cx=\"27\" cy=\"-234\" fill=\"#444444\" rx=\"27\" ry=\"18\" stroke=\"#000000\"/>\n",
       "<text fill=\"#ffffff\" font-family=\"Times,serif\" font-size=\"14.00\" text-anchor=\"middle\" x=\"27\" y=\"-230.3\">F</text>\n",
       "</a>\n",
       "</g>\n",
       "</g>\n",
       "<!-- F&#45;&gt;B -->\n",
       "<g class=\"edge\" id=\"edge7\">\n",
       "<title>F-&gt;B</title>\n",
       "<g id=\"a_edge7\"><a xlink:title=\"(5, 1) : \">\n",
       "<path d=\"M27,-215.8314C27,-208.131 27,-198.9743 27,-190.4166\" fill=\"none\" stroke=\"#000000\"/>\n",
       "<polygon fill=\"#000000\" points=\"30.5001,-190.4132 27,-180.4133 23.5001,-190.4133 30.5001,-190.4132\" stroke=\"#000000\"/>\n",
       "</a>\n",
       "</g>\n",
       "</g>\n",
       "</g>\n",
       "</svg>"
      ],
      "text/plain": [
       "(gum::BayesNet<double>@0x55c1cc8188e0) BN{nodes: 7, arcs: 7, domainSize: 128, parameters: 32, compression ratio: 75% }"
      ]
     },
     "execution_count": 2,
     "metadata": {},
     "output_type": "execute_result"
    }
   ],
   "source": [
    "bn=gum.fastBN(\"A->B->C->D;A->E->D;F->B;C->H\")\n",
    "ie=gum.LazyPropagation(bn)\n",
    "bn              "
   ]
  },
  {
   "cell_type": "markdown",
   "metadata": {},
   "source": [
    "Evidence Impact allows the user to analyze the effect of any variables on any other variables"
   ]
  },
  {
   "cell_type": "code",
   "execution_count": 3,
   "metadata": {
    "ExecuteTime": {
     "end_time": "2019-02-25T16:37:46.432896Z",
     "start_time": "2019-02-25T16:37:46.425447Z"
    }
   },
   "outputs": [
    {
     "data": {
      "text/html": [
       "<table>\n",
       "<tr><th colspan='2'></th><th colspan='2' style='background-color:#AAAAAA'><center>B</center></th></tr>\n",
       "<tr><th style='background-color:#AAAAAA'><center>H</center></th><th style='background-color:#AAAAAA'><center>A</center></th><th style='background-color:#BBBBBB'><center>0</center></th><th style='background-color:#BBBBBB'><center>1</center></th></tr>\n",
       "<tr><th style='background-color:#BBBBBB'><center>0</center></th><th style='background-color:#BBBBBB;' rowspan = '2'><center>0</center></th><td style='background-color:#96e764;text-align:right;'>0.8162</td><td style='background-color:#e79664;text-align:right;'>0.1838</td></tr>\n",
       "<tr><th style='background-color:#BBBBBB'><center>1</center></th><td style='background-color:#9be264;text-align:right;'>0.7793</td><td style='background-color:#e29b64;text-align:right;'>0.2207</td></tr>\n",
       "<tr><th style='background-color:#BBBBBB'><center>0</center></th><th style='background-color:#BBBBBB;' rowspan = '2'><center>1</center></th><td style='background-color:#8bf264;text-align:right;'>0.9022</td><td style='background-color:#f28b64;text-align:right;'>0.0978</td></tr>\n",
       "<tr><th style='background-color:#BBBBBB'><center>1</center></th><td style='background-color:#8eef64;text-align:right;'>0.8800</td><td style='background-color:#ef8e64;text-align:right;'>0.1200</td></tr>\n",
       "</table>"
      ],
      "text/plain": [
       "(gum::Potential<double>@0x55c1cc770c70) <B:0|H:0|A:0> :: 0.816243 /<B:1|H:0|A:0> :: 0.183757 /<B:0|H:1|A:0> :: 0.779313 /<B:1|H:1|A:0> :: 0.220687 /<B:0|H:0|A:1> :: 0.902162 /<B:1|H:0|A:1> :: 0.0978376 /<B:0|H:1|A:1> :: 0.879961 /<B:1|H:1|A:1> :: 0.120039"
      ]
     },
     "execution_count": 3,
     "metadata": {},
     "output_type": "execute_result"
    }
   ],
   "source": [
    "ie.evidenceImpact(\"B\",[\"A\",\"H\"])"
   ]
  },
  {
   "cell_type": "markdown",
   "metadata": {
    "ExecuteTime": {
     "end_time": "2018-09-11T07:44:32.291529Z",
     "start_time": "2018-09-11T07:44:32.271183Z"
    }
   },
   "source": [
    "Evidence impact is able to find the minimum set of variables which effectively conditions the analyzed variable"
   ]
  },
  {
   "cell_type": "code",
   "execution_count": 4,
   "metadata": {
    "ExecuteTime": {
     "end_time": "2019-02-25T16:37:46.491139Z",
     "start_time": "2019-02-25T16:37:46.436149Z"
    }
   },
   "outputs": [
    {
     "data": {
      "text/html": [
       "<table>\n",
       "<tr><th colspan='3'></th><th colspan='2' style='background-color:#AAAAAA'><center>E</center></th></tr>\n",
       "<tr><th style='background-color:#AAAAAA'><center>D</center></th><th style='background-color:#AAAAAA'><center>B</center></th><th style='background-color:#AAAAAA'><center>A</center></th><th style='background-color:#BBBBBB'><center>0</center></th><th style='background-color:#BBBBBB'><center>1</center></th></tr>\n",
       "<tr><th style='background-color:#BBBBBB'><center>0</center></th><th style='background-color:#BBBBBB;' rowspan = '2'><center>0</center></th><th style='background-color:#BBBBBB;' rowspan = '4'><center>0</center></th><td style='background-color:#cfae64;text-align:right;'>0.3734</td><td style='background-color:#aecf64;text-align:right;'>0.6266</td></tr>\n",
       "<tr><th style='background-color:#BBBBBB'><center>1</center></th><td style='background-color:#e39a64;text-align:right;'>0.2159</td><td style='background-color:#9ae364;text-align:right;'>0.7841</td></tr>\n",
       "<tr><th style='background-color:#BBBBBB'><center>0</center></th><th style='background-color:#BBBBBB;' rowspan = '2'><center>1</center></th><td style='background-color:#c0bd64;text-align:right;'>0.4912</td><td style='background-color:#bdc064;text-align:right;'>0.5088</td></tr>\n",
       "<tr><th style='background-color:#BBBBBB'><center>1</center></th><td style='background-color:#e89564;text-align:right;'>0.1745</td><td style='background-color:#95e864;text-align:right;'>0.8255</td></tr>\n",
       "<tr><th style='background-color:#BBBBBB'><center>0</center></th><th style='background-color:#BBBBBB;' rowspan = '2'><center>0</center></th><th style='background-color:#BBBBBB;' rowspan = '4'><center>1</center></th><td style='background-color:#bcc164;text-align:right;'>0.5197</td><td style='background-color:#c1bc64;text-align:right;'>0.4803</td></tr>\n",
       "<tr><th style='background-color:#BBBBBB'><center>1</center></th><td style='background-color:#d4a964;text-align:right;'>0.3333</td><td style='background-color:#a9d464;text-align:right;'>0.6667</td></tr>\n",
       "<tr><th style='background-color:#BBBBBB'><center>0</center></th><th style='background-color:#BBBBBB;' rowspan = '2'><center>1</center></th><td style='background-color:#add064;text-align:right;'>0.6368</td><td style='background-color:#d0ad64;text-align:right;'>0.3632</td></tr>\n",
       "<tr><th style='background-color:#BBBBBB'><center>1</center></th><td style='background-color:#dba264;text-align:right;'>0.2774</td><td style='background-color:#a2db64;text-align:right;'>0.7226</td></tr>\n",
       "</table>"
      ],
      "text/plain": [
       "(gum::Potential<double>@0x55c1cc75a6b0) <E:0|D:0|B:0|A:0> :: 0.373361 /<E:1|D:0|B:0|A:0> :: 0.626639 /<E:0|D:1|B:0|A:0> :: 0.21585 /<E:1|D:1|B:0|A:0> :: 0.78415 /<E:0|D:0|B:1|A:0> :: 0.491226 /<E:1|D:0|B:1|A:0> :: 0.508774 /<E:0|D:1|B:1|A:0> :: 0.174531 /<E:1|D:1|B:1|A:0> :: 0.825469 /<E:0|D:0|B:0|A:1> :: 0.51969 /<E:1|D:0|B:0|A:1> :: 0.48031 /<E:0|D:1|B:0|A:1> :: 0.33328 /<E:1|D:1|B:0|A:1> :: 0.66672 /<E:0|D:0|B:1|A:1> :: 0.636806 /<E:1|D:0|B:1|A:1> :: 0.363194 /<E:0|D:1|B:1|A:1> :: 0.277434 /<E:1|D:1|B:1|A:1> :: 0.722566"
      ]
     },
     "execution_count": 4,
     "metadata": {},
     "output_type": "execute_result"
    }
   ],
   "source": [
    "ie.evidenceImpact(\"E\",[\"A\",\"F\",\"B\",\"D\"]) # {A,D,B} d-separates E and F"
   ]
  },
  {
   "cell_type": "code",
   "execution_count": 5,
   "metadata": {
    "ExecuteTime": {
     "end_time": "2019-02-25T16:37:46.503831Z",
     "start_time": "2019-02-25T16:37:46.493996Z"
    }
   },
   "outputs": [
    {
     "data": {
      "text/html": [
       "<table>\n",
       "<tr><th colspan='3'></th><th colspan='2' style='background-color:#AAAAAA'><center>E</center></th></tr>\n",
       "<tr><th style='background-color:#AAAAAA'><center>D</center></th><th style='background-color:#AAAAAA'><center>A</center></th><th style='background-color:#AAAAAA'><center>C</center></th><th style='background-color:#BBBBBB'><center>0</center></th><th style='background-color:#BBBBBB'><center>1</center></th></tr>\n",
       "<tr><th style='background-color:#BBBBBB'><center>0</center></th><th style='background-color:#BBBBBB;' rowspan = '2'><center>0</center></th><th style='background-color:#BBBBBB;' rowspan = '4'><center>0</center></th><td style='background-color:#8af364;text-align:right;'>0.9067</td><td style='background-color:#f38a64;text-align:right;'>0.0933</td></tr>\n",
       "<tr><th style='background-color:#BBBBBB'><center>1</center></th><td style='background-color:#f08d64;text-align:right;'>0.1156</td><td style='background-color:#8df064;text-align:right;'>0.8844</td></tr>\n",
       "<tr><th style='background-color:#BBBBBB'><center>0</center></th><th style='background-color:#BBBBBB;' rowspan = '2'><center>1</center></th><td style='background-color:#85f864;text-align:right;'>0.9464</td><td style='background-color:#f88564;text-align:right;'>0.0536</td></tr>\n",
       "<tr><th style='background-color:#BBBBBB'><center>1</center></th><td style='background-color:#e69764;text-align:right;'>0.1919</td><td style='background-color:#97e664;text-align:right;'>0.8081</td></tr>\n",
       "<tr><th style='background-color:#BBBBBB'><center>0</center></th><th style='background-color:#BBBBBB;' rowspan = '2'><center>0</center></th><th style='background-color:#BBBBBB;' rowspan = '4'><center>1</center></th><td style='background-color:#eb9264;text-align:right;'>0.1495</td><td style='background-color:#92eb64;text-align:right;'>0.8505</td></tr>\n",
       "<tr><th style='background-color:#BBBBBB'><center>1</center></th><td style='background-color:#c0bd64;text-align:right;'>0.4881</td><td style='background-color:#bdc064;text-align:right;'>0.5119</td></tr>\n",
       "<tr><th style='background-color:#BBBBBB'><center>0</center></th><th style='background-color:#BBBBBB;' rowspan = '2'><center>1</center></th><td style='background-color:#e09d64;text-align:right;'>0.2420</td><td style='background-color:#9de064;text-align:right;'>0.7580</td></tr>\n",
       "<tr><th style='background-color:#BBBBBB'><center>1</center></th><td style='background-color:#add064;text-align:right;'>0.6339</td><td style='background-color:#d0ad64;text-align:right;'>0.3661</td></tr>\n",
       "</table>"
      ],
      "text/plain": [
       "(gum::Potential<double>@0x55c1cc3c75b0) <E:0|D:0|A:0|C:0> :: 0.906696 /<E:1|D:0|A:0|C:0> :: 0.0933041 /<E:0|D:1|A:0|C:0> :: 0.11563 /<E:1|D:1|A:0|C:0> :: 0.88437 /<E:0|D:0|A:1|C:0> :: 0.946372 /<E:1|D:0|A:1|C:0> :: 0.0536277 /<E:0|D:1|A:1|C:0> :: 0.191879 /<E:1|D:1|A:1|C:0> :: 0.808121 /<E:0|D:0|A:0|C:1> :: 0.149549 /<E:1|D:0|A:0|C:1> :: 0.850451 /<E:0|D:1|A:0|C:1> :: 0.488137 /<E:1|D:1|A:0|C:1> :: 0.511863 /<E:0|D:0|A:1|C:1> :: 0.242042 /<E:1|D:0|A:1|C:1> :: 0.757958 /<E:0|D:1|A:1|C:1> :: 0.633942 /<E:1|D:1|A:1|C:1> :: 0.366058"
      ]
     },
     "execution_count": 5,
     "metadata": {},
     "output_type": "execute_result"
    }
   ],
   "source": [
    "ie.evidenceImpact(\"E\",[\"A\",\"B\",\"C\",\"D\",\"F\"]) # {A,C,D} d-separates E and {B,F}"
   ]
  },
  {
   "cell_type": "code",
   "execution_count": 6,
   "metadata": {
    "ExecuteTime": {
     "end_time": "2019-02-25T16:37:46.514303Z",
     "start_time": "2019-02-25T16:37:46.506505Z"
    }
   },
   "outputs": [
    {
     "data": {
      "text/html": [
       "<table>\n",
       "<tr><th colspan='3'></th><th colspan='2' style='background-color:#AAAAAA'><center>A</center></th></tr>\n",
       "<tr><th style='background-color:#AAAAAA'><center>F</center></th><th style='background-color:#AAAAAA'><center>B</center></th><th style='background-color:#AAAAAA'><center>E</center></th><th style='background-color:#BBBBBB'><center>0</center></th><th style='background-color:#BBBBBB'><center>1</center></th></tr>\n",
       "<tr><th style='background-color:#BBBBBB'><center>0</center></th><th style='background-color:#BBBBBB;' rowspan = '2'><center>0</center></th><th style='background-color:#BBBBBB;' rowspan = '4'><center>0</center></th><td style='text-align:right;'>0.0004</td><td style='text-align:right;'>0.0576</td></tr>\n",
       "<tr><th style='background-color:#BBBBBB'><center>1</center></th><td style='text-align:right;'>0.0117</td><td style='text-align:right;'>0.9303</td></tr>\n",
       "<tr><th style='background-color:#BBBBBB'><center>0</center></th><th style='background-color:#BBBBBB;' rowspan = '2'><center>1</center></th><td style='text-align:right;'>0.0120</td><td style='text-align:right;'>0.6367</td></tr>\n",
       "<tr><th style='background-color:#BBBBBB'><center>1</center></th><td style='text-align:right;'>0.0128</td><td style='text-align:right;'>0.3385</td></tr>\n",
       "<tr><th style='background-color:#BBBBBB'><center>0</center></th><th style='background-color:#BBBBBB;' rowspan = '2'><center>0</center></th><th style='background-color:#BBBBBB;' rowspan = '4'><center>1</center></th><td style='text-align:right;'>0.0007</td><td style='text-align:right;'>0.0570</td></tr>\n",
       "<tr><th style='background-color:#BBBBBB'><center>1</center></th><td style='text-align:right;'>0.0211</td><td style='text-align:right;'>0.9212</td></tr>\n",
       "<tr><th style='background-color:#BBBBBB'><center>0</center></th><th style='background-color:#BBBBBB;' rowspan = '2'><center>1</center></th><td style='text-align:right;'>0.0214</td><td style='text-align:right;'>0.6240</td></tr>\n",
       "<tr><th style='background-color:#BBBBBB'><center>1</center></th><td style='text-align:right;'>0.0228</td><td style='text-align:right;'>0.3318</td></tr>\n",
       "</table>"
      ],
      "text/plain": [
       "(gum::Potential<double>@0x55c1cbeb6810) <A:0|F:0|B:0|E:0> :: 0.000377639 /<A:1|F:0|B:0|E:0> :: 0.0575543 /<A:0|F:1|B:0|E:0> :: 0.0117422 /<A:1|F:1|B:0|E:0> :: 0.930326 /<A:0|F:0|B:1|E:0> :: 0.0120158 /<A:1|F:0|B:1|E:0> :: 0.636683 /<A:0|F:1|B:1|E:0> :: 0.0128197 /<A:1|F:1|B:1|E:0> :: 0.338482 /<A:0|F:0|B:0|E:1> :: 0.000679071 /<A:1|F:0|B:0|E:1> :: 0.0569907 /<A:0|F:1|B:0|E:1> :: 0.0211147 /<A:1|F:1|B:0|E:1> :: 0.921216 /<A:0|F:0|B:1|E:1> :: 0.0213871 /<A:1|F:0|B:1|E:1> :: 0.624037 /<A:0|F:1|B:1|E:1> :: 0.0228179 /<A:1|F:1|B:1|E:1> :: 0.331758"
      ]
     },
     "execution_count": 6,
     "metadata": {},
     "output_type": "execute_result"
    }
   ],
   "source": [
    "ie.evidenceJointImpact([\"A\",\"F\"],[\"B\",\"C\",\"D\",\"E\",\"H\"]) # {B,E} d-separates [A,F] and [C,D,H]"
   ]
  },
  {
   "cell_type": "code",
   "execution_count": null,
   "metadata": {},
   "outputs": [],
   "source": []
  }
 ],
 "metadata": {
  "hide_input": false,
  "kernelspec": {
   "display_name": "Python 3",
   "language": "python",
   "name": "python3"
  },
  "language_info": {
   "codemirror_mode": {
    "name": "ipython",
    "version": 3
   },
   "file_extension": ".py",
   "mimetype": "text/x-python",
   "name": "python",
   "nbconvert_exporter": "python",
   "pygments_lexer": "ipython3",
   "version": "3.7.2"
  }
 },
 "nbformat": 4,
 "nbformat_minor": 2
}
