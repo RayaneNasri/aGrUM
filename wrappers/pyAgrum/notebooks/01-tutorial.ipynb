{
 "cells": [
  {
   "cell_type": "code",
   "execution_count": 1,
   "metadata": {},
   "outputs": [],
   "source": [
    "%matplotlib inline\n",
    "from pylab import *\n",
    "import matplotlib.pyplot as plt\n",
    "import os"
   ]
  },
  {
   "cell_type": "markdown",
   "metadata": {},
   "source": [
    "# Creating your first Bayesian Network with pyAgrum"
   ]
  },
  {
   "cell_type": "markdown",
   "metadata": {},
   "source": [
    "(This example is based on an OpenBayes [closed] website tutorial)"
   ]
  },
  {
   "cell_type": "markdown",
   "metadata": {},
   "source": [
    "<p>A <b>Bayesian network</b> (BN) is composed of <b>random variables</b> (nodes) and their conditional dependencies (arcs) which, together, form a directed acyclic graph (DAG). A <b>conditional probability table</b> (CPT) is associated with each node. It contains the conditional probability distribution of the node given its parents in the DAG:\n",
    "<center><img src=\"files/images/waterprinkler.png\"></center>\n",
    "Such a BN allows to manipulate the joint probability $P(C,S,R,W)$&nbsp;&nbsp;&nbsp;using this decomposition :\n",
    "<center>\n",
    "    $P(C,S,R,W)=\\prod_X P(X | Parents_X) = P(C) \\cdot P(S | C) \\cdot P(R | C) \\cdot P(W | S,R)$\n",
    "</center>\n",
    "</p>\n",
    "<p>\n",
    "    Imagine you want to create your first Bayesian network, say for example the 'Water Sprinkler' network. This is an easy example. All the nodes are Boolean (only 2 possible values). You can proceed as follows.\n",
    "</p>"
   ]
  },
  {
   "cell_type": "markdown",
   "metadata": {},
   "source": [
    "## Import the pyAgrum package"
   ]
  },
  {
   "cell_type": "code",
   "execution_count": 2,
   "metadata": {},
   "outputs": [],
   "source": [
    "import pyAgrum as gum"
   ]
  },
  {
   "cell_type": "markdown",
   "metadata": {},
   "source": [
    "## Create the network topology"
   ]
  },
  {
   "cell_type": "markdown",
   "metadata": {},
   "source": [
    "### Create the BN"
   ]
  },
  {
   "cell_type": "markdown",
   "metadata": {},
   "source": [
    "The next line creates an empty BN network with a 'name' property."
   ]
  },
  {
   "cell_type": "code",
   "execution_count": 3,
   "metadata": {},
   "outputs": [
    {
     "name": "stdout",
     "output_type": "stream",
     "text": [
      "BN{nodes: 0, arcs: 0, domainSize: 1, parameters: 0, compression ratio: 100-10^-inf% }\n"
     ]
    }
   ],
   "source": [
    "bn=gum.BayesNet('WaterSprinkler')\n",
    "print(bn)"
   ]
  },
  {
   "cell_type": "markdown",
   "metadata": {},
   "source": [
    "### Create the variables"
   ]
  },
  {
   "cell_type": "markdown",
   "metadata": {},
   "source": [
    "pyAgrum(aGrUM) provides 3 types of variables :\n",
    "<ul>\n",
    "    <li>LabelizedVariable</li>\n",
    "    <li>RangeVariable</li>\n",
    "    <li>DiscretizedVariable</li>\n",
    "</ul>\n",
    "In this tutorial, we will use LabelizedVariable, which is a variable whose domain is a finite set of labels. The next line will create a variable named 'c', with 2 values and described as 'cloudy?', and it will add it to the BN. The value returned is the id of the node in the graphical structure (the DAG). pyAgrum actually distinguishes the random variable (here the labelizedVariable) from its node in the DAG: the latter is identified through a numeric id. Of course, pyAgrum provides functions to get the id of a node given the corresponding variable and conversely."
   ]
  },
  {
   "cell_type": "code",
   "execution_count": 4,
   "metadata": {},
   "outputs": [
    {
     "name": "stdout",
     "output_type": "stream",
     "text": [
      "0\n"
     ]
    }
   ],
   "source": [
    "c=bn.add(gum.LabelizedVariable('c','cloudy ?',2))\n",
    "print(c)"
   ]
  },
  {
   "cell_type": "markdown",
   "metadata": {},
   "source": [
    "You can go on adding nodes in the network this way. Let us use python to compact a little bit the code:"
   ]
  },
  {
   "cell_type": "code",
   "execution_count": 5,
   "metadata": {},
   "outputs": [
    {
     "name": "stdout",
     "output_type": "stream",
     "text": [
      "1 2 3\n",
      "BN{nodes: 4, arcs: 0, domainSize: 16, parameters: 8, compression ratio: 50% }\n"
     ]
    }
   ],
   "source": [
    "s, r, w = [ bn.add(name, 2) for name in \"srw\" ] #bn.add(name, 2) === bn.add(gum.LabelizedVariable(name, name, 2))\n",
    "print (s,r,w)\n",
    "print (bn)"
   ]
  },
  {
   "cell_type": "markdown",
   "metadata": {},
   "source": [
    "### Create the arcs"
   ]
  },
  {
   "cell_type": "markdown",
   "metadata": {},
   "source": [
    "Now we have to connect nodes, i.e., to add arcs linking the nodes. Remember that <tt>c</tt> and <tt>s</tt> are ids for nodes:"
   ]
  },
  {
   "cell_type": "code",
   "execution_count": 6,
   "metadata": {},
   "outputs": [],
   "source": [
    "bn.addArc(c,s)"
   ]
  },
  {
   "cell_type": "markdown",
   "metadata": {},
   "source": [
    "Once again, python can help us :"
   ]
  },
  {
   "cell_type": "code",
   "execution_count": 7,
   "metadata": {},
   "outputs": [
    {
     "name": "stdout",
     "output_type": "stream",
     "text": [
      "BN{nodes: 4, arcs: 4, domainSize: 16, parameters: 18, compression ratio: -12% }\n"
     ]
    }
   ],
   "source": [
    "for link in [(c,r),(s,w),(r,w)]:\n",
    "    bn.addArc(*link)\n",
    "print(bn)"
   ]
  },
  {
   "cell_type": "markdown",
   "metadata": {},
   "source": [
    "pyAgrum provides tools to display <tt>bn</tt> in more user-frendly fashions. <br/>Notably, <tt>pyAgrum.lib</tt> is a set of tools written in pyAgrum to help using aGrUM in python. <tt>pyAgrum.lib.notebook</tt> adds dedicated functions for iPython notebook."
   ]
  },
  {
   "cell_type": "code",
   "execution_count": 8,
   "metadata": {},
   "outputs": [
    {
     "data": {
      "text/html": [
       "<svg height=\"188pt\" viewBox=\"0.00 0.00 134.00 188.00\" width=\"134pt\" xmlns=\"http://www.w3.org/2000/svg\" xmlns:xlink=\"http://www.w3.org/1999/xlink\">\n",
       "<g class=\"graph\" id=\"graph0\" transform=\"scale(1 1) rotate(0) translate(4 184)\">\n",
       "<title>G</title>\n",
       "<!-- c -->\n",
       "<g class=\"node\" id=\"node1\"><title>c</title>\n",
       "<g id=\"a_node1\"><a xlink:title=\"(0) c\">\n",
       "<ellipse cx=\"63\" cy=\"-162\" fill=\"#444444\" rx=\"27\" ry=\"18\" stroke=\"black\"/>\n",
       "<text fill=\"#ffffff\" font-family=\"Times,serif\" font-size=\"14.00\" text-anchor=\"middle\" x=\"63\" y=\"-158.3\">c</text>\n",
       "</a>\n",
       "</g>\n",
       "</g>\n",
       "<!-- s -->\n",
       "<g class=\"node\" id=\"node2\"><title>s</title>\n",
       "<g id=\"a_node2\"><a xlink:title=\"(1) s\">\n",
       "<ellipse cx=\"27\" cy=\"-90\" fill=\"#444444\" rx=\"27\" ry=\"18\" stroke=\"black\"/>\n",
       "<text fill=\"#ffffff\" font-family=\"Times,serif\" font-size=\"14.00\" text-anchor=\"middle\" x=\"27\" y=\"-86.3\">s</text>\n",
       "</a>\n",
       "</g>\n",
       "</g>\n",
       "<!-- c&#45;&gt;s -->\n",
       "<g class=\"edge\" id=\"edge1\"><title>c-&gt;s</title>\n",
       "<g id=\"a_edge1\"><a xlink:title=\"(0, 1) : \">\n",
       "<path d=\"M54.6504,-144.765C50.2885,-136.283 44.8531,-125.714 39.9587,-116.197\" fill=\"none\" stroke=\"black\"/>\n",
       "<polygon fill=\"black\" points=\"42.9904,-114.439 35.3043,-107.147 36.7654,-117.641 42.9904,-114.439\" stroke=\"black\"/>\n",
       "</a>\n",
       "</g>\n",
       "</g>\n",
       "<!-- r -->\n",
       "<g class=\"node\" id=\"node3\"><title>r</title>\n",
       "<g id=\"a_node3\"><a xlink:title=\"(2) r\">\n",
       "<ellipse cx=\"99\" cy=\"-90\" fill=\"#444444\" rx=\"27\" ry=\"18\" stroke=\"black\"/>\n",
       "<text fill=\"#ffffff\" font-family=\"Times,serif\" font-size=\"14.00\" text-anchor=\"middle\" x=\"99\" y=\"-86.3\">r</text>\n",
       "</a>\n",
       "</g>\n",
       "</g>\n",
       "<!-- c&#45;&gt;r -->\n",
       "<g class=\"edge\" id=\"edge4\"><title>c-&gt;r</title>\n",
       "<g id=\"a_edge4\"><a xlink:title=\"(0, 2) : \">\n",
       "<path d=\"M71.3496,-144.765C75.7115,-136.283 81.1469,-125.714 86.0413,-116.197\" fill=\"none\" stroke=\"black\"/>\n",
       "<polygon fill=\"black\" points=\"89.2346,-117.641 90.6957,-107.147 83.0096,-114.439 89.2346,-117.641\" stroke=\"black\"/>\n",
       "</a>\n",
       "</g>\n",
       "</g>\n",
       "<!-- w -->\n",
       "<g class=\"node\" id=\"node4\"><title>w</title>\n",
       "<g id=\"a_node4\"><a xlink:title=\"(3) w\">\n",
       "<ellipse cx=\"63\" cy=\"-18\" fill=\"#444444\" rx=\"27\" ry=\"18\" stroke=\"black\"/>\n",
       "<text fill=\"#ffffff\" font-family=\"Times,serif\" font-size=\"14.00\" text-anchor=\"middle\" x=\"63\" y=\"-14.3\">w</text>\n",
       "</a>\n",
       "</g>\n",
       "</g>\n",
       "<!-- s&#45;&gt;w -->\n",
       "<g class=\"edge\" id=\"edge2\"><title>s-&gt;w</title>\n",
       "<g id=\"a_edge2\"><a xlink:title=\"(1, 3) : \">\n",
       "<path d=\"M35.3496,-72.7646C39.7115,-64.2831 45.1469,-53.7144 50.0413,-44.1974\" fill=\"none\" stroke=\"black\"/>\n",
       "<polygon fill=\"black\" points=\"53.2346,-45.6409 54.6957,-35.1473 47.0096,-42.4395 53.2346,-45.6409\" stroke=\"black\"/>\n",
       "</a>\n",
       "</g>\n",
       "</g>\n",
       "<!-- r&#45;&gt;w -->\n",
       "<g class=\"edge\" id=\"edge3\"><title>r-&gt;w</title>\n",
       "<g id=\"a_edge3\"><a xlink:title=\"(2, 3) : \">\n",
       "<path d=\"M90.6504,-72.7646C86.2885,-64.2831 80.8531,-53.7144 75.9587,-44.1974\" fill=\"none\" stroke=\"black\"/>\n",
       "<polygon fill=\"black\" points=\"78.9904,-42.4395 71.3043,-35.1473 72.7654,-45.6409 78.9904,-42.4395\" stroke=\"black\"/>\n",
       "</a>\n",
       "</g>\n",
       "</g>\n",
       "</g>\n",
       "</svg>"
      ],
      "text/plain": [
       "(gum::BayesNet<double>@0x55a21c0bac50) BN{nodes: 4, arcs: 4, domainSize: 16, parameters: 18, compression ratio: -12% }"
      ]
     },
     "execution_count": 8,
     "metadata": {},
     "output_type": "execute_result"
    }
   ],
   "source": [
    "import pyAgrum.lib.notebook as gnb\n",
    "bn"
   ]
  },
  {
   "cell_type": "markdown",
   "metadata": {},
   "source": [
    "### Create the probability tables"
   ]
  },
  {
   "cell_type": "markdown",
   "metadata": {},
   "source": [
    "Once the network topology is constructed, we must initialize the conditional probability tables (CPT) distributions.\n",
    "Each CPT is considered as a Potential object in pyAgrum. There are several ways to fill such an object.<br/>\n",
    "\n",
    "To get the CPT of a variable, use the cpt method of your BayesNet instance with the variable's id as parameter.<br/>\n",
    "\n",
    "Now we are ready to fill in the parameters of each node in our network. There are several ways to add these parameters.<br/>"
   ]
  },
  {
   "cell_type": "markdown",
   "metadata": {},
   "source": [
    "#### Low-level way"
   ]
  },
  {
   "cell_type": "code",
   "execution_count": 9,
   "metadata": {},
   "outputs": [
    {
     "data": {
      "text/html": [
       "<table>\n",
       "<tr style='background-color:#AAAAAA'><th colspan='2'><center>c</center></th></tr>\n",
       "<tr><th style='background-color:#BBBBBB'><center>0</center></th><th style='background-color:#BBBBBB'><center>1</center></th></tr>\n",
       "<tr><td style='background-color:#bfbf64;text-align:right;'>0.5000</td><td style='background-color:#bfbf64;text-align:right;'>0.5000</td></tr>\n",
       "</table>"
      ],
      "text/plain": [
       "(gum::Potential<double>@0x55a21c3c7c10) <c:0> :: 0.5 /<c:1> :: 0.5"
      ]
     },
     "execution_count": 9,
     "metadata": {},
     "output_type": "execute_result"
    }
   ],
   "source": [
    "bn.cpt(c).fillWith([0.5,0.5])"
   ]
  },
  {
   "cell_type": "markdown",
   "metadata": {},
   "source": [
    "Most of the methods using a node id will also work with name of the random variable."
   ]
  },
  {
   "cell_type": "code",
   "execution_count": 10,
   "metadata": {},
   "outputs": [
    {
     "data": {
      "text/html": [
       "<table>\n",
       "<tr style='background-color:#AAAAAA'><th colspan='2'><center>c</center></th></tr>\n",
       "<tr><th style='background-color:#BBBBBB'><center>0</center></th><th style='background-color:#BBBBBB'><center>1</center></th></tr>\n",
       "<tr><td style='background-color:#cbb264;text-align:right;'>0.4000</td><td style='background-color:#b2cb64;text-align:right;'>0.6000</td></tr>\n",
       "</table>"
      ],
      "text/plain": [
       "(gum::Potential<double>@0x55a21c3c7c10) <c:0> :: 0.4 /<c:1> :: 0.6"
      ]
     },
     "execution_count": 10,
     "metadata": {},
     "output_type": "execute_result"
    }
   ],
   "source": [
    "bn.cpt(\"c\").fillWith([0.4,0.6])"
   ]
  },
  {
   "cell_type": "markdown",
   "metadata": {},
   "source": [
    "#### Using the order of variables"
   ]
  },
  {
   "cell_type": "code",
   "execution_count": 11,
   "metadata": {},
   "outputs": [
    {
     "data": {
      "text/plain": [
       "['c', 's']"
      ]
     },
     "execution_count": 11,
     "metadata": {},
     "output_type": "execute_result"
    }
   ],
   "source": [
    "bn.cpt(s).var_names"
   ]
  },
  {
   "cell_type": "code",
   "execution_count": 12,
   "metadata": {},
   "outputs": [],
   "source": [
    "bn.cpt(s)[:]=[ [0.5,0.5],[0.9,0.1]]"
   ]
  },
  {
   "cell_type": "markdown",
   "metadata": {},
   "source": [
    "Then $P(S | C=0)=[0.5,0.5]$ <br/>and $P(S | C=1)=[0.9,0.1]$."
   ]
  },
  {
   "cell_type": "code",
   "execution_count": 13,
   "metadata": {},
   "outputs": [
    {
     "name": "stdout",
     "output_type": "stream",
     "text": [
      "[0.9 0.1]\n"
     ]
    }
   ],
   "source": [
    "print(bn.cpt(s)[1])"
   ]
  },
  {
   "cell_type": "markdown",
   "metadata": {},
   "source": [
    "The same process can be performed in several steps:"
   ]
  },
  {
   "cell_type": "code",
   "execution_count": 14,
   "metadata": {},
   "outputs": [],
   "source": [
    "bn.cpt(s)[0,:]=0.5 # equivalent to [0.5,0.5]\n",
    "bn.cpt(s)[1,:]=[0.9,0.1]"
   ]
  },
  {
   "cell_type": "code",
   "execution_count": 15,
   "metadata": {},
   "outputs": [
    {
     "data": {
      "text/plain": [
       "['r', 's', 'w']"
      ]
     },
     "execution_count": 15,
     "metadata": {},
     "output_type": "execute_result"
    }
   ],
   "source": [
    "bn.cpt(w).var_names"
   ]
  },
  {
   "cell_type": "code",
   "execution_count": 16,
   "metadata": {},
   "outputs": [],
   "source": [
    "bn.cpt(w)[0,0,:] = [1, 0] # r=0,s=0\n",
    "bn.cpt(w)[0,1,:] = [0.1, 0.9] # r=0,s=1\n",
    "bn.cpt(w)[1,0,:] = [0.1, 0.9] # r=1,s=0\n",
    "bn.cpt(w)[1,1,:] = [0.01, 0.99] # r=1,s=1"
   ]
  },
  {
   "cell_type": "markdown",
   "metadata": {},
   "source": [
    "#### Using a dictionnary"
   ]
  },
  {
   "cell_type": "markdown",
   "metadata": {},
   "source": [
    "This is probably the most convenient way:"
   ]
  },
  {
   "cell_type": "code",
   "execution_count": 17,
   "metadata": {},
   "outputs": [
    {
     "data": {
      "text/html": [
       "<table>\n",
       "<tr><th colspan='2'></th><th colspan='2' style='background-color:#AAAAAA'><center>w</center></th></tr>\n",
       "<tr><th style='background-color:#AAAAAA'><center>s</center></th><th style='background-color:#AAAAAA'><center>r</center></th><th style='background-color:#BBBBBB'><center>0</center></th><th style='background-color:#BBBBBB'><center>1</center></th></tr>\n",
       "<tr><th style='background-color:#BBBBBB'><center>0</center></th><th style='background-color:#BBBBBB;' rowspan = '2'><center>0</center></th><td style='background-color:#7fff64;text-align:right;'>1.0000</td><td style='background-color:#ff7f64;text-align:right;'>0.0000</td></tr>\n",
       "<tr><th style='background-color:#BBBBBB'><center>1</center></th><td style='background-color:#f28b64;text-align:right;'>0.1000</td><td style='background-color:#8bf264;text-align:right;'>0.9000</td></tr>\n",
       "<tr><th style='background-color:#BBBBBB'><center>0</center></th><th style='background-color:#BBBBBB;' rowspan = '2'><center>1</center></th><td style='background-color:#f28b64;text-align:right;'>0.1000</td><td style='background-color:#8bf264;text-align:right;'>0.9000</td></tr>\n",
       "<tr><th style='background-color:#BBBBBB'><center>1</center></th><td style='background-color:#fd8064;text-align:right;'>0.0100</td><td style='background-color:#80fd64;text-align:right;'>0.9900</td></tr>\n",
       "</table>"
      ],
      "text/plain": [
       "(gum::Potential<double>@0x55a21c454d50) <w:0|s:0|r:0> :: 1 /<w:1|s:0|r:0> :: 0 /<w:0|s:1|r:0> :: 0.1 /<w:1|s:1|r:0> :: 0.9 /<w:0|s:0|r:1> :: 0.1 /<w:1|s:0|r:1> :: 0.9 /<w:0|s:1|r:1> :: 0.01 /<w:1|s:1|r:1> :: 0.99"
      ]
     },
     "execution_count": 17,
     "metadata": {},
     "output_type": "execute_result"
    }
   ],
   "source": [
    "bn.cpt(w)[{'r': 0, 's': 0}] = [1, 0]\n",
    "bn.cpt(w)[{'r': 0, 's': 1}] = [0.1, 0.9]\n",
    "bn.cpt(w)[{'r': 1, 's': 0}] = [0.1, 0.9]\n",
    "bn.cpt(w)[{'r': 1, 's': 1}] = [0.01, 0.99]\n",
    "bn.cpt(w)"
   ]
  },
  {
   "cell_type": "markdown",
   "metadata": {},
   "source": [
    "The use of dictionaries is a feature borrowed from OpenBayes. It facilitates the use and avoid common errors that happen when introducing data into the wrong places."
   ]
  },
  {
   "cell_type": "code",
   "execution_count": 18,
   "metadata": {},
   "outputs": [],
   "source": [
    "bn.cpt(r)[{'c':0}]=[0.8,0.2]\n",
    "bn.cpt(r)[{'c':1}]=[0.2,0.8]"
   ]
  },
  {
   "cell_type": "markdown",
   "metadata": {},
   "source": [
    "## Input/output"
   ]
  },
  {
   "cell_type": "markdown",
   "metadata": {},
   "source": [
    "Now our BN is complete. It can be saved in different format :"
   ]
  },
  {
   "cell_type": "code",
   "execution_count": 19,
   "metadata": {},
   "outputs": [
    {
     "name": "stdout",
     "output_type": "stream",
     "text": [
      "bif|dsl|net|bifxml|o3prm|uai\n"
     ]
    }
   ],
   "source": [
    "print(gum.availableBNExts())"
   ]
  },
  {
   "cell_type": "markdown",
   "metadata": {},
   "source": [
    "We can save a BN using BIF format"
   ]
  },
  {
   "cell_type": "code",
   "execution_count": 20,
   "metadata": {},
   "outputs": [],
   "source": [
    "gum.saveBN(bn,os.path.join(\"out\",\"WaterSprinkler.bif\"))"
   ]
  },
  {
   "cell_type": "code",
   "execution_count": 21,
   "metadata": {},
   "outputs": [
    {
     "name": "stdout",
     "output_type": "stream",
     "text": [
      "network \"WaterSprinkler\" {\n",
      "// written by aGrUM 0.12.0.9\n",
      "}\n",
      "\n",
      "variable c {\n",
      "   type discrete[2] {0, 1};\n",
      "}\n",
      "\n",
      "variable s {\n",
      "   type discrete[2] {0, 1};\n",
      "}\n",
      "\n",
      "variable r {\n",
      "   type discrete[2] {0, 1};\n",
      "}\n",
      "\n",
      "variable w {\n",
      "   type discrete[2] {0, 1};\n",
      "}\n",
      "\n",
      "probability (c) {\n",
      "   default 0.4 0.6;\n",
      "}\n",
      "probability (s | c) {\n",
      "   (0) 0.5 0.5;\n",
      "   (1) 0.9 0.1;\n",
      "}\n",
      "probability (r | c) {\n",
      "   (0) 0.8 0.2;\n",
      "   (1) 0.2 0.8;\n",
      "}\n",
      "probability (w | s, r) {\n",
      "   (0, 0) 1 0;\n",
      "   (1, 0) 0.1 0.9;\n",
      "   (0, 1) 0.1 0.9;\n",
      "   (1, 1) 0.01 0.99;\n",
      "}\n",
      "\n",
      "\n"
     ]
    }
   ],
   "source": [
    "with open(os.path.join(\"out\",\"WaterSprinkler.bif\"),\"r\") as out:\n",
    "    print(out.read())"
   ]
  },
  {
   "cell_type": "code",
   "execution_count": 22,
   "metadata": {},
   "outputs": [],
   "source": [
    "bn2=gum.loadBN(os.path.join(\"out\",\"WaterSprinkler.bif\"))"
   ]
  },
  {
   "cell_type": "markdown",
   "metadata": {},
   "source": [
    "We can also save and load it in other formats"
   ]
  },
  {
   "cell_type": "code",
   "execution_count": 23,
   "metadata": {},
   "outputs": [
    {
     "name": "stdout",
     "output_type": "stream",
     "text": [
      "\n",
      "net {\n",
      "  name = WaterSprinkler;\n",
      "  software = \"aGrUM \";\n",
      "  node_size = (50 50);\n",
      "}\n",
      "\n",
      "node c {\n",
      "   states = (0 1 );\n",
      "   label = \"c\";\n",
      "   ID = \"c\";\n",
      "}\n",
      "\n",
      "node s {\n",
      "   states = (0 1 );\n",
      "   label = \"s\";\n",
      "   ID = \"s\";\n",
      "}\n",
      "\n",
      "node r {\n",
      "   states = (0 1 );\n",
      "   label = \"r\";\n",
      "   ID = \"r\";\n",
      "}\n",
      "\n",
      "node w {\n",
      "   states = (0 1 );\n",
      "   label = \"w\";\n",
      "   ID = \"w\";\n",
      "}\n",
      "\n",
      "potential (c) {\n",
      "   data = (  0.4 0.6);\n",
      "}\n",
      "potential ( s | c   ) {\n",
      "   data = \n",
      "   ((   0.5   0.5)\n",
      "   (   0.9   0.1));\n",
      "}\n",
      "potential ( r | c   ) {\n",
      "   data = \n",
      "   ((   0.8   0.2)\n",
      "   (   0.2   0.8));\n",
      "}\n",
      "potential ( w | s   r   ) {\n",
      "   data = \n",
      "   (((   1   0)\n",
      "   (   0.1   0.9))\n",
      "   ((   0.1   0.9)\n",
      "   (   0.01   0.99)));\n",
      "}\n",
      "\n",
      "\n"
     ]
    }
   ],
   "source": [
    "gum.saveBN(bn,os.path.join(\"out\",\"WaterSprinkler.net\"))\n",
    "with open(os.path.join(\"out\",\"WaterSprinkler.net\"),\"r\") as out:\n",
    "    print(out.read())\n",
    "bn3=gum.loadBN(os.path.join(\"out\",\"WaterSprinkler.net\"))"
   ]
  },
  {
   "cell_type": "markdown",
   "metadata": {},
   "source": [
    "# Inference in Bayesian Networks"
   ]
  },
  {
   "cell_type": "markdown",
   "metadata": {},
   "source": [
    "We have to choose an inference engine to perform calculations for us. Two inference engines are currently available in pyAgrum:\n",
    "<ul>\n",
    "    <li><b>LazyPropagation</b>: an exact inference method that transforms the Bayesian network into a hypergraph called a join tree or a junction tree. This tree is constructed in order to optimize inference computations.</li>\n",
    "    <li><b>Gibbs</b> : an approximate inference engine using the Gibbs sampling algorithm to generate a sequence of samples from the joint probability distribution.</li>\n",
    "</ul>\n",
    "        \n"
   ]
  },
  {
   "cell_type": "code",
   "execution_count": 24,
   "metadata": {},
   "outputs": [],
   "source": [
    "ie=gum.LazyPropagation(bn)"
   ]
  },
  {
   "cell_type": "markdown",
   "metadata": {},
   "source": [
    "## Inference without evidence"
   ]
  },
  {
   "cell_type": "code",
   "execution_count": 25,
   "metadata": {},
   "outputs": [
    {
     "name": "stdout",
     "output_type": "stream",
     "text": [
      "<w:0> :: 0.33328 /<w:1> :: 0.66672\n"
     ]
    }
   ],
   "source": [
    "ie.makeInference()\n",
    "print (ie.posterior(w))"
   ]
  },
  {
   "cell_type": "markdown",
   "metadata": {},
   "source": [
    "\n",
    "In our BN, $P(W) = [ 0.3529,\\ \\  0.6471]$"
   ]
  },
  {
   "cell_type": "markdown",
   "metadata": {},
   "source": [
    "With notebooks, it can be viewed as an HTML table"
   ]
  },
  {
   "cell_type": "code",
   "execution_count": 26,
   "metadata": {},
   "outputs": [
    {
     "data": {
      "text/html": [
       "<table>\n",
       "<tr style='background-color:#AAAAAA'><th colspan='2'><center>w</center></th></tr>\n",
       "<tr><th style='background-color:#BBBBBB'><center>0</center></th><th style='background-color:#BBBBBB'><center>1</center></th></tr>\n",
       "<tr><td style='background-color:#d4a964;text-align:right;'>0.3333</td><td style='background-color:#a9d464;text-align:right;'>0.6667</td></tr>\n",
       "</table>"
      ],
      "text/plain": [
       "(gum::Potential<double>@0x55a21c545c50) <w:0> :: 0.33328 /<w:1> :: 0.66672"
      ]
     },
     "execution_count": 26,
     "metadata": {},
     "output_type": "execute_result"
    }
   ],
   "source": [
    "ie.posterior(w)"
   ]
  },
  {
   "cell_type": "markdown",
   "metadata": {},
   "source": [
    "## Inference with evidence"
   ]
  },
  {
   "cell_type": "markdown",
   "metadata": {},
   "source": [
    "Suppose now that you know that the sprinkler is on and that it is not cloudy, and you wonder what Is the probability of the grass being wet, i.e., you are interested in distribution $P(W|S=1,C=0)$. <br/>The new knowledge you have (sprinkler is on and it is not cloudy) is called evidence. Evidence is entered using a dictionary. When you know precisely the value taken by a random variable, the evidence is called a hard evidence. This is the case, for instance, when I know for sure that the sprinkler is on. In this case, the knowledge is entered in the dictionary as 'variable name':label"
   ]
  },
  {
   "cell_type": "code",
   "execution_count": 27,
   "metadata": {},
   "outputs": [
    {
     "data": {
      "text/html": [
       "<table>\n",
       "<tr style='background-color:#AAAAAA'><th colspan='2'><center>w</center></th></tr>\n",
       "<tr><th style='background-color:#BBBBBB'><center>0</center></th><th style='background-color:#BBBBBB'><center>1</center></th></tr>\n",
       "<tr><td style='background-color:#96e764;text-align:right;'>0.8200</td><td style='background-color:#e79664;text-align:right;'>0.1800</td></tr>\n",
       "</table>"
      ],
      "text/plain": [
       "(gum::Potential<double>@0x55a21c53f900) <w:0> :: 0.82 /<w:1> :: 0.18"
      ]
     },
     "execution_count": 27,
     "metadata": {},
     "output_type": "execute_result"
    }
   ],
   "source": [
    "ie.setEvidence({'s':0, 'c': 0})\n",
    "ie.makeInference()\n",
    "ie.posterior(w)"
   ]
  },
  {
   "cell_type": "markdown",
   "metadata": {},
   "source": [
    "When you have incomplete knowledge about the value of a random variable, this is called a soft evidence. In this case, this evidence is entered as the belief you have over the possible values that the random variable can take, in other words, as <em>P(evidence|true value of the variable)</em>. Imagine for instance that you think that if the sprinkler is off, you have only 50% chances of knowing it, but if it is on, you are sure to know it. Then, your belief about the state of the sprinkler is [0.5, 1] and you should enter this knowledge as shown below. Of course, hard evidence are special cases of soft evidence in which the beliefs over all the values of the random variable but one are equal to 0."
   ]
  },
  {
   "cell_type": "code",
   "execution_count": 28,
   "metadata": {},
   "outputs": [
    {
     "data": {
      "text/html": [
       "<table>\n",
       "<tr style='background-color:#AAAAAA'><th colspan='2'><center>w</center></th></tr>\n",
       "<tr><th style='background-color:#BBBBBB'><center>0</center></th><th style='background-color:#BBBBBB'><center>1</center></th></tr>\n",
       "<tr><td style='background-color:#d5a864;text-align:right;'>0.3280</td><td style='background-color:#a8d564;text-align:right;'>0.6720</td></tr>\n",
       "</table>"
      ],
      "text/plain": [
       "(gum::Potential<double>@0x55a21c53fbf0) <w:0> :: 0.328 /<w:1> :: 0.672"
      ]
     },
     "execution_count": 28,
     "metadata": {},
     "output_type": "execute_result"
    }
   ],
   "source": [
    "ie.setEvidence({'s': [0.5, 1], 'c': [1, 0]})\n",
    "ie.makeInference()\n",
    "ie.posterior(w) # using gnb's feature"
   ]
  },
  {
   "cell_type": "markdown",
   "metadata": {},
   "source": [
    "the pyAgrum.lib.notebook utility proposes certain functions to graphically show distributions."
   ]
  },
  {
   "cell_type": "code",
   "execution_count": 29,
   "metadata": {},
   "outputs": [
    {
     "data": {
      "image/png": "[encoded data removed]",
      "text/plain": [
       "<matplotlib.figure.Figure at 0x7f5d4efe93c8>"
      ]
     },
     "metadata": {},
     "output_type": "display_data"
    }
   ],
   "source": [
    "%matplotlib inline\n",
    "gnb.showProba(ie.posterior(w))"
   ]
  },
  {
   "cell_type": "code",
   "execution_count": 30,
   "metadata": {},
   "outputs": [
    {
     "data": {
      "image/png": "[encoded data removed]",
      "text/plain": [
       "<matplotlib.figure.Figure at 0x7f5d4efe96a0>"
      ]
     },
     "metadata": {},
     "output_type": "display_data"
    }
   ],
   "source": [
    "gnb.showPosterior(bn,{'s':1,'c':0},'w')"
   ]
  },
  {
   "cell_type": "markdown",
   "metadata": {},
   "source": [
    "## inference in the whole Bayes net"
   ]
  },
  {
   "cell_type": "code",
   "execution_count": 31,
   "metadata": {},
   "outputs": [
    {
     "data": {
      "image/png": "[encoded data removed]"
     },
     "metadata": {},
     "output_type": "display_data"
    }
   ],
   "source": [
    "gnb.showInference(bn,evs={})"
   ]
  },
  {
   "cell_type": "markdown",
   "metadata": {},
   "source": [
    "### inference with evidence"
   ]
  },
  {
   "cell_type": "code",
   "execution_count": 32,
   "metadata": {},
   "outputs": [
    {
     "data": {
      "image/png": "[encoded data removed]"
     },
     "metadata": {},
     "output_type": "display_data"
    }
   ],
   "source": [
    "gnb.showInference(bn,evs={'s':1,'c':0})"
   ]
  },
  {
   "cell_type": "markdown",
   "metadata": {},
   "source": [
    "### inference with soft and hard evidence"
   ]
  },
  {
   "cell_type": "code",
   "execution_count": 33,
   "metadata": {},
   "outputs": [
    {
     "data": {
      "image/png": "[encoded data removed]"
     },
     "metadata": {},
     "output_type": "display_data"
    }
   ],
   "source": [
    "gnb.showInference(bn,evs={'s':1,'c':[0.3,0.9]})"
   ]
  },
  {
   "cell_type": "markdown",
   "metadata": {
    "collapsed": true
   },
   "source": [
    "### inference with partial targets"
   ]
  },
  {
   "cell_type": "code",
   "execution_count": 34,
   "metadata": {},
   "outputs": [
    {
     "data": {
      "image/png": "[encoded data removed]"
     },
     "metadata": {},
     "output_type": "display_data"
    }
   ],
   "source": [
    "gnb.showInference(bn,evs={'c':[0.3,0.9]},targets={'c','w'})"
   ]
  },
  {
   "cell_type": "code",
   "execution_count": null,
   "metadata": {},
   "outputs": [],
   "source": []
  }
 ],
 "metadata": {
  "anaconda-cloud": {},
  "hide_input": false,
  "kernelspec": {
   "display_name": "Python 3",
   "language": "python",
   "name": "python3"
  },
  "language_info": {
   "codemirror_mode": {
    "name": "ipython",
    "version": 3
   },
   "file_extension": ".py",
   "mimetype": "text/x-python",
   "name": "python",
   "nbconvert_exporter": "python",
   "pygments_lexer": "ipython3",
   "version": "3.5.3"
  }
 },
 "nbformat": 4,
 "nbformat_minor": 1
}
