{
 "cells": [
  {
   "cell_type": "code",
   "execution_count": 1,
   "metadata": {
    "ExecuteTime": {
     "end_time": "2019-01-16T15:09:49.992479Z",
     "start_time": "2019-01-16T15:09:49.740671Z"
    }
   },
   "outputs": [],
   "source": [
    "from IPython.display import display, Math, Latex, HTML\n",
    "\n",
    "import pyAgrum as gum\n",
    "import pyAgrum.lib.notebook as gnb\n",
    "import pyAgrum.causal as csl\n",
    "import pyAgrum.causal.notebook as cslnb"
   ]
  },
  {
   "cell_type": "markdown",
   "metadata": {},
   "source": [
    "# EXAMPLE S. Tikka and J. Karvanen, 2016 [CRAN]"
   ]
  },
  {
   "cell_type": "code",
   "execution_count": 2,
   "metadata": {
    "ExecuteTime": {
     "end_time": "2019-01-16T15:09:54.412013Z",
     "start_time": "2019-01-16T15:09:49.995824Z"
    }
   },
   "outputs": [
    {
     "data": {
      "text/html": [
       "<table style=\"border-style: hidden; border-collapse: collapse;\" width=\"100%\"><tr><td style=\"border-top:hidden;border-bottom:hidden;\"><div align=\"center\" style=\"\"><svg height=\"260pt\" viewBox=\"0.00 0.00 146.60 260.00\" width=\"147pt\" xmlns=\"http://www.w3.org/2000/svg\" xmlns:xlink=\"http://www.w3.org/1999/xlink\">\n",
       "<g class=\"graph\" id=\"graph0\" transform=\"scale(1 1) rotate(0) translate(4 256)\">\n",
       "<title>G</title>\n",
       "<polygon fill=\"#ffffff\" points=\"-4,4 -4,-256 142.5975,-256 142.5975,4 -4,4\" stroke=\"transparent\"/>\n",
       "<!-- w -->\n",
       "<g class=\"node\" id=\"node1\">\n",
       "<title>w</title>\n",
       "<ellipse cx=\"27\" cy=\"-234\" fill=\"#444444\" rx=\"27\" ry=\"18\" stroke=\"#000000\"/>\n",
       "<text fill=\"#ffffff\" font-family=\"Times,serif\" font-size=\"14.00\" text-anchor=\"middle\" x=\"27\" y=\"-230.3\">w</text>\n",
       "</g>\n",
       "<!-- x -->\n",
       "<g class=\"node\" id=\"node2\">\n",
       "<title>x</title>\n",
       "<ellipse cx=\"64\" cy=\"-162\" fill=\"#444444\" rx=\"27\" ry=\"18\" stroke=\"#000000\"/>\n",
       "<text fill=\"#ffffff\" font-family=\"Times,serif\" font-size=\"14.00\" text-anchor=\"middle\" x=\"64\" y=\"-158.3\">x</text>\n",
       "</g>\n",
       "<!-- w&#45;&gt;x -->\n",
       "<g class=\"edge\" id=\"edge1\">\n",
       "<title>w-&gt;x</title>\n",
       "<path d=\"M35.7685,-216.937C40.1279,-208.4537 45.4953,-198.0092 50.3753,-188.513\" fill=\"none\" stroke=\"#000000\"/>\n",
       "<polygon fill=\"#000000\" points=\"53.5797,-189.9348 55.0374,-179.4407 47.3537,-186.7352 53.5797,-189.9348\" stroke=\"#000000\"/>\n",
       "</g>\n",
       "<!-- z -->\n",
       "<g class=\"node\" id=\"node3\">\n",
       "<title>z</title>\n",
       "<ellipse cx=\"64\" cy=\"-90\" fill=\"#444444\" rx=\"27\" ry=\"18\" stroke=\"#000000\"/>\n",
       "<text fill=\"#ffffff\" font-family=\"Times,serif\" font-size=\"14.00\" text-anchor=\"middle\" x=\"64\" y=\"-86.3\">z</text>\n",
       "</g>\n",
       "<!-- w&#45;&gt;z -->\n",
       "<g class=\"edge\" id=\"edge6\">\n",
       "<title>w-&gt;z</title>\n",
       "<path d=\"M24.2438,-215.9474C22.0945,-197.4374 20.576,-168.0375 28,-144 31.326,-133.2311 37.5493,-122.6331 43.898,-113.7167\" fill=\"none\" stroke=\"#000000\"/>\n",
       "<polygon fill=\"#000000\" points=\"46.695,-115.8206 49.9327,-105.7326 41.1107,-111.5997 46.695,-115.8206\" stroke=\"#000000\"/>\n",
       "</g>\n",
       "<!-- x&#45;&gt;z -->\n",
       "<g class=\"edge\" id=\"edge2\">\n",
       "<title>x-&gt;z</title>\n",
       "<path d=\"M64,-143.8314C64,-136.131 64,-126.9743 64,-118.4166\" fill=\"none\" stroke=\"#000000\"/>\n",
       "<polygon fill=\"#000000\" points=\"67.5001,-118.4132 64,-108.4133 60.5001,-118.4133 67.5001,-118.4132\" stroke=\"#000000\"/>\n",
       "</g>\n",
       "<!-- y -->\n",
       "<g class=\"node\" id=\"node4\">\n",
       "<title>y</title>\n",
       "<ellipse cx=\"91\" cy=\"-18\" fill=\"#444444\" rx=\"27\" ry=\"18\" stroke=\"#000000\"/>\n",
       "<text fill=\"#ffffff\" font-family=\"Times,serif\" font-size=\"14.00\" text-anchor=\"middle\" x=\"91\" y=\"-14.3\">y</text>\n",
       "</g>\n",
       "<!-- z&#45;&gt;y -->\n",
       "<g class=\"edge\" id=\"edge3\">\n",
       "<title>z-&gt;y</title>\n",
       "<path d=\"M70.6742,-72.2022C73.7476,-64.0064 77.4616,-54.1024 80.8695,-45.0145\" fill=\"none\" stroke=\"#000000\"/>\n",
       "<polygon fill=\"#000000\" points=\"84.1685,-46.1853 84.4026,-35.593 77.6142,-43.7274 84.1685,-46.1853\" stroke=\"#000000\"/>\n",
       "</g>\n",
       "<!-- lat1 -->\n",
       "<g class=\"node\" id=\"node5\">\n",
       "<title>lat1</title>\n",
       "<ellipse cx=\"110\" cy=\"-234\" fill=\"none\" rx=\"28.6953\" ry=\"18\" stroke=\"#000000\" stroke-dasharray=\"5,2\"/>\n",
       "<text fill=\"#000000\" font-family=\"Times,serif\" font-size=\"14.00\" text-anchor=\"middle\" x=\"110\" y=\"-230.3\">lat1</text>\n",
       "</g>\n",
       "<!-- lat1&#45;&gt;x -->\n",
       "<g class=\"edge\" id=\"edge5\">\n",
       "<title>lat1-&gt;x</title>\n",
       "<path d=\"M99.0986,-216.937C93.4845,-208.1496 86.5259,-197.2579 80.2888,-187.4956\" fill=\"none\" stroke=\"#000000\" stroke-dasharray=\"5,2\"/>\n",
       "<polygon fill=\"#000000\" points=\"83.1565,-185.4831 74.8231,-178.9405 77.2576,-189.2519 83.1565,-185.4831\" stroke=\"#000000\"/>\n",
       "</g>\n",
       "<!-- lat1&#45;&gt;y -->\n",
       "<g class=\"edge\" id=\"edge4\">\n",
       "<title>lat1-&gt;y</title>\n",
       "<path d=\"M109.4961,-215.9674C108.5223,-185.9974 105.9308,-124.0754 100,-72 99.0321,-63.5011 97.6324,-54.3037 96.2241,-45.9495\" fill=\"none\" stroke=\"#000000\" stroke-dasharray=\"5,2\"/>\n",
       "<polygon fill=\"#000000\" points=\"99.6425,-45.1795 94.4675,-35.9345 92.7478,-46.3888 99.6425,-45.1795\" stroke=\"#000000\"/>\n",
       "</g>\n",
       "</g>\n",
       "</svg></div></td><td style=\"border-top:hidden;border-bottom:hidden;\"><div align=\"center\" style=\"\">$$\\begin{equation}P( y \\mid \\hookrightarrow x) = \\sum_{w,z}{\\left(\\sum_{x'}{P\\left(x'\\mid w\\right) \\cdot P\\left(y\\mid z\\right)}\\right) \\cdot P\\left(z\\mid w,x\\right) \\cdot P\\left(w\\right)}\\end{equation}$$</div></td><td style=\"border-top:hidden;border-bottom:hidden;\"><div align=\"center\" style=\"\"><table>\n",
       "<tr style='background-color:#AAAAAA'><th colspan='2'><center>y</center></th></tr>\n",
       "<tr><th style='background-color:#BBBBBB'><center>0</center></th><th style='background-color:#BBBBBB'><center>1</center></th></tr>\n",
       "<tr><td style='background-color:#bdc064;text-align:right;'>0.5130</td><td style='background-color:#c0bd64;text-align:right;'>0.4870</td></tr>\n",
       "</table></div></td></tr><tr><td style=\"border-top:hidden;border-bottom:hidden;\"><div align=\"center\"><small>Causal Model</small></div></td><td style=\"border-top:hidden;border-bottom:hidden;\"><div align=\"center\"><small>Explanation : Do-calculus computations</small></div></td><td style=\"border-top:hidden;border-bottom:hidden;\"><div align=\"center\"><small>Impact : $P( y \\mid \\hookrightarrow x=0)$</small></div></td></tr></table>"
      ],
      "text/plain": [
       "<IPython.core.display.HTML object>"
      ]
     },
     "metadata": {},
     "output_type": "display_data"
    },
    {
     "data": {
      "text/html": [
       "<table style=\"border-style: hidden; border-collapse: collapse;\" width=\"100%\"><tr><td style=\"border-top:hidden;border-bottom:hidden;\"><div align=\"center\" style=\"\"><svg height=\"260pt\" viewBox=\"0.00 0.00 146.60 260.00\" width=\"147pt\" xmlns=\"http://www.w3.org/2000/svg\" xmlns:xlink=\"http://www.w3.org/1999/xlink\">\n",
       "<g class=\"graph\" id=\"graph0\" transform=\"scale(1 1) rotate(0) translate(4 256)\">\n",
       "<title>G</title>\n",
       "<polygon fill=\"#ffffff\" points=\"-4,4 -4,-256 142.5975,-256 142.5975,4 -4,4\" stroke=\"transparent\"/>\n",
       "<!-- w -->\n",
       "<g class=\"node\" id=\"node1\">\n",
       "<title>w</title>\n",
       "<ellipse cx=\"27\" cy=\"-234\" fill=\"#444444\" rx=\"27\" ry=\"18\" stroke=\"#000000\"/>\n",
       "<text fill=\"#ffffff\" font-family=\"Times,serif\" font-size=\"14.00\" text-anchor=\"middle\" x=\"27\" y=\"-230.3\">w</text>\n",
       "</g>\n",
       "<!-- x -->\n",
       "<g class=\"node\" id=\"node2\">\n",
       "<title>x</title>\n",
       "<ellipse cx=\"64\" cy=\"-162\" fill=\"#444444\" rx=\"27\" ry=\"18\" stroke=\"#000000\"/>\n",
       "<text fill=\"#ffffff\" font-family=\"Times,serif\" font-size=\"14.00\" text-anchor=\"middle\" x=\"64\" y=\"-158.3\">x</text>\n",
       "</g>\n",
       "<!-- w&#45;&gt;x -->\n",
       "<g class=\"edge\" id=\"edge1\">\n",
       "<title>w-&gt;x</title>\n",
       "<path d=\"M35.7685,-216.937C40.1279,-208.4537 45.4953,-198.0092 50.3753,-188.513\" fill=\"none\" stroke=\"#000000\"/>\n",
       "<polygon fill=\"#000000\" points=\"53.5797,-189.9348 55.0374,-179.4407 47.3537,-186.7352 53.5797,-189.9348\" stroke=\"#000000\"/>\n",
       "</g>\n",
       "<!-- z -->\n",
       "<g class=\"node\" id=\"node3\">\n",
       "<title>z</title>\n",
       "<ellipse cx=\"64\" cy=\"-90\" fill=\"#444444\" rx=\"27\" ry=\"18\" stroke=\"#000000\"/>\n",
       "<text fill=\"#ffffff\" font-family=\"Times,serif\" font-size=\"14.00\" text-anchor=\"middle\" x=\"64\" y=\"-86.3\">z</text>\n",
       "</g>\n",
       "<!-- w&#45;&gt;z -->\n",
       "<g class=\"edge\" id=\"edge6\">\n",
       "<title>w-&gt;z</title>\n",
       "<path d=\"M24.2438,-215.9474C22.0945,-197.4374 20.576,-168.0375 28,-144 31.326,-133.2311 37.5493,-122.6331 43.898,-113.7167\" fill=\"none\" stroke=\"#000000\"/>\n",
       "<polygon fill=\"#000000\" points=\"46.695,-115.8206 49.9327,-105.7326 41.1107,-111.5997 46.695,-115.8206\" stroke=\"#000000\"/>\n",
       "</g>\n",
       "<!-- x&#45;&gt;z -->\n",
       "<g class=\"edge\" id=\"edge2\">\n",
       "<title>x-&gt;z</title>\n",
       "<path d=\"M64,-143.8314C64,-136.131 64,-126.9743 64,-118.4166\" fill=\"none\" stroke=\"#000000\"/>\n",
       "<polygon fill=\"#000000\" points=\"67.5001,-118.4132 64,-108.4133 60.5001,-118.4133 67.5001,-118.4132\" stroke=\"#000000\"/>\n",
       "</g>\n",
       "<!-- y -->\n",
       "<g class=\"node\" id=\"node4\">\n",
       "<title>y</title>\n",
       "<ellipse cx=\"91\" cy=\"-18\" fill=\"#444444\" rx=\"27\" ry=\"18\" stroke=\"#000000\"/>\n",
       "<text fill=\"#ffffff\" font-family=\"Times,serif\" font-size=\"14.00\" text-anchor=\"middle\" x=\"91\" y=\"-14.3\">y</text>\n",
       "</g>\n",
       "<!-- z&#45;&gt;y -->\n",
       "<g class=\"edge\" id=\"edge3\">\n",
       "<title>z-&gt;y</title>\n",
       "<path d=\"M70.6742,-72.2022C73.7476,-64.0064 77.4616,-54.1024 80.8695,-45.0145\" fill=\"none\" stroke=\"#000000\"/>\n",
       "<polygon fill=\"#000000\" points=\"84.1685,-46.1853 84.4026,-35.593 77.6142,-43.7274 84.1685,-46.1853\" stroke=\"#000000\"/>\n",
       "</g>\n",
       "<!-- lat1 -->\n",
       "<g class=\"node\" id=\"node5\">\n",
       "<title>lat1</title>\n",
       "<ellipse cx=\"110\" cy=\"-234\" fill=\"none\" rx=\"28.6953\" ry=\"18\" stroke=\"#000000\" stroke-dasharray=\"5,2\"/>\n",
       "<text fill=\"#000000\" font-family=\"Times,serif\" font-size=\"14.00\" text-anchor=\"middle\" x=\"110\" y=\"-230.3\">lat1</text>\n",
       "</g>\n",
       "<!-- lat1&#45;&gt;x -->\n",
       "<g class=\"edge\" id=\"edge5\">\n",
       "<title>lat1-&gt;x</title>\n",
       "<path d=\"M99.0986,-216.937C93.4845,-208.1496 86.5259,-197.2579 80.2888,-187.4956\" fill=\"none\" stroke=\"#000000\" stroke-dasharray=\"5,2\"/>\n",
       "<polygon fill=\"#000000\" points=\"83.1565,-185.4831 74.8231,-178.9405 77.2576,-189.2519 83.1565,-185.4831\" stroke=\"#000000\"/>\n",
       "</g>\n",
       "<!-- lat1&#45;&gt;y -->\n",
       "<g class=\"edge\" id=\"edge4\">\n",
       "<title>lat1-&gt;y</title>\n",
       "<path d=\"M109.4961,-215.9674C108.5223,-185.9974 105.9308,-124.0754 100,-72 99.0321,-63.5011 97.6324,-54.3037 96.2241,-45.9495\" fill=\"none\" stroke=\"#000000\" stroke-dasharray=\"5,2\"/>\n",
       "<polygon fill=\"#000000\" points=\"99.6425,-45.1795 94.4675,-35.9345 92.7478,-46.3888 99.6425,-45.1795\" stroke=\"#000000\"/>\n",
       "</g>\n",
       "</g>\n",
       "</svg></div></td><td style=\"border-top:hidden;border-bottom:hidden;\"><div align=\"center\" style=\"\">$$\\begin{equation}P( y \\mid \\hookrightarrow x) = \\sum_{w,z}{\\left(\\sum_{x'}{P\\left(x'\\mid w\\right) \\cdot P\\left(y\\mid z\\right)}\\right) \\cdot P\\left(z\\mid w,x\\right) \\cdot P\\left(w\\right)}\\end{equation}$$</div></td><td style=\"border-top:hidden;border-bottom:hidden;\"><div align=\"center\" style=\"\"><table>\n",
       "<tr style='background-color:#AAAAAA'><th colspan='2'><center>y</center></th></tr>\n",
       "<tr><th style='background-color:#BBBBBB'><center>0</center></th><th style='background-color:#BBBBBB'><center>1</center></th></tr>\n",
       "<tr><td style='background-color:#acd164;text-align:right;'>0.6460</td><td style='background-color:#d1ac64;text-align:right;'>0.3540</td></tr>\n",
       "</table></div></td></tr><tr><td style=\"border-top:hidden;border-bottom:hidden;\"><div align=\"center\"><small>Causal Model</small></div></td><td style=\"border-top:hidden;border-bottom:hidden;\"><div align=\"center\"><small>Explanation : Do-calculus computations</small></div></td><td style=\"border-top:hidden;border-bottom:hidden;\"><div align=\"center\"><small>Impact : $P( y \\mid \\hookrightarrow x=1)$</small></div></td></tr></table>"
      ],
      "text/plain": [
       "<IPython.core.display.HTML object>"
      ]
     },
     "metadata": {},
     "output_type": "display_data"
    }
   ],
   "source": [
    "bn = gum.fastBN(\"w->x->z->y;w->z\")\n",
    "\n",
    "bn.cpt(\"w\")[:] = [0.7,0.3]\n",
    "\n",
    "bn.cpt(\"x\")[:] = [0.4,0.6],[0.3,0.7]\n",
    "\n",
    "bn.cpt(\"z\")[{'w':0,'x':0}]=[0.2,0.8]\n",
    "bn.cpt(\"z\")[{'w':0,'x':1}]=[0.1,0.9]\n",
    "bn.cpt(\"z\")[{'w':1,'x':0}]=[0.9,0.1]\n",
    "bn.cpt(\"z\")[{'w':1,'x':1}]=[0.5,0.5]\n",
    "\n",
    "bn.cpt(\"y\")[:] = [0.1,0.9],[0.8,0.2]\n",
    "\n",
    "\n",
    "d = csl.CausalModel(bn, [(\"lat1\", [\"x\",\"y\"])])\n",
    "#csl.causalImpact(d,\"y\",{\"x\":0})\n",
    "cslnb.showCausalImpact(d,\"y\",\"x\",values={\"x\":0})\n",
    "cslnb.showCausalImpact(d,\"y\",\"x\",values={\"x\":1})\n",
    "\n"
   ]
  },
  {
   "cell_type": "markdown",
   "metadata": {},
   "source": [
    "Since we have the formula, let us compute by hand this intervention :"
   ]
  },
  {
   "cell_type": "code",
   "execution_count": 3,
   "metadata": {
    "ExecuteTime": {
     "end_time": "2019-01-16T15:09:54.426462Z",
     "start_time": "2019-01-16T15:09:54.417339Z"
    }
   },
   "outputs": [
    {
     "data": {
      "text/html": [
       "<table>\n",
       "<tr><th colspan='1'></th><th colspan='2' style='background-color:#AAAAAA'><center>y</center></th></tr>\n",
       "<tr><th style='background-color:#AAAAAA'><center>x</center></th><th style='background-color:#BBBBBB'><center>0</center></th><th style='background-color:#BBBBBB'><center>1</center></th></tr>\n",
       "<tr><th style='background-color:#BBBBBB'><center>0</center></th><td style='background-color:#bdc064;text-align:right;'>0.5130</td><td style='background-color:#c0bd64;text-align:right;'>0.4870</td></tr>\n",
       "<tr><th style='background-color:#BBBBBB'><center>1</center></th><td style='background-color:#acd164;text-align:right;'>0.6460</td><td style='background-color:#d1ac64;text-align:right;'>0.3540</td></tr>\n",
       "</table>"
      ],
      "text/plain": [
       "(gum::Potential<double>@0x555891055220) <y:0|x:0> :: 0.513 /<y:1|x:0> :: 0.487 /<y:0|x:1> :: 0.646 /<y:1|x:1> :: 0.354"
      ]
     },
     "execution_count": 3,
     "metadata": {},
     "output_type": "execute_result"
    }
   ],
   "source": [
    "(((bn.cpt(\"x\") * bn.cpt(\"y\")).margSumOut([\"x\"]) * bn.cpt(\"w\") * bn.cpt(\"z\")).margSumOut([\"z\", \"w\"])).putFirst(\"y\")"
   ]
  },
  {
   "cell_type": "code",
   "execution_count": 4,
   "metadata": {
    "ExecuteTime": {
     "end_time": "2019-01-16T15:09:56.814491Z",
     "start_time": "2019-01-16T15:09:54.428842Z"
    }
   },
   "outputs": [
    {
     "data": {
      "text/html": [
       "<table style=\"border-style: hidden; border-collapse: collapse;\" width=\"100%\"><tr><td style=\"border-top:hidden;border-bottom:hidden;\"><div align=\"center\" style=\"\"><svg height=\"288pt\" viewBox=\"0.00 0.00 216.00 288.00\" width=\"216pt\" xmlns=\"http://www.w3.org/2000/svg\" xmlns:xlink=\"http://www.w3.org/1999/xlink\">\n",
       "<g class=\"graph\" id=\"graph0\" transform=\"scale(.8675 .8675) rotate(0) translate(4 328)\">\n",
       "<title>G</title>\n",
       "<polygon fill=\"#ffffff\" points=\"-4,4 -4,-328 245,-328 245,4 -4,4\" stroke=\"transparent\"/>\n",
       "<!-- Z1 -->\n",
       "<g class=\"node\" id=\"node1\">\n",
       "<title>Z1</title>\n",
       "<ellipse cx=\"73\" cy=\"-234\" fill=\"#444444\" rx=\"27\" ry=\"18\" stroke=\"#000000\"/>\n",
       "<text fill=\"#ffffff\" font-family=\"Times,serif\" font-size=\"14.00\" text-anchor=\"middle\" x=\"73\" y=\"-230.3\">Z1</text>\n",
       "</g>\n",
       "<!-- X -->\n",
       "<g class=\"node\" id=\"node2\">\n",
       "<title>X</title>\n",
       "<ellipse cx=\"128\" cy=\"-162\" fill=\"#444444\" rx=\"27\" ry=\"18\" stroke=\"#000000\"/>\n",
       "<text fill=\"#ffffff\" font-family=\"Times,serif\" font-size=\"14.00\" text-anchor=\"middle\" x=\"128\" y=\"-158.3\">X</text>\n",
       "</g>\n",
       "<!-- Z1&#45;&gt;X -->\n",
       "<g class=\"edge\" id=\"edge1\">\n",
       "<title>Z1-&gt;X</title>\n",
       "<path d=\"M85.4804,-217.6621C92.5124,-208.4564 101.4347,-196.7764 109.2883,-186.4953\" fill=\"none\" stroke=\"#000000\"/>\n",
       "<polygon fill=\"#000000\" points=\"112.28,-188.3446 115.569,-178.2733 106.7172,-184.0953 112.28,-188.3446\" stroke=\"#000000\"/>\n",
       "</g>\n",
       "<!-- Z2 -->\n",
       "<g class=\"node\" id=\"node3\">\n",
       "<title>Z2</title>\n",
       "<ellipse cx=\"128\" cy=\"-90\" fill=\"#444444\" rx=\"27\" ry=\"18\" stroke=\"#000000\"/>\n",
       "<text fill=\"#ffffff\" font-family=\"Times,serif\" font-size=\"14.00\" text-anchor=\"middle\" x=\"128\" y=\"-86.3\">Z2</text>\n",
       "</g>\n",
       "<!-- X&#45;&gt;Z2 -->\n",
       "<g class=\"edge\" id=\"edge3\">\n",
       "<title>X-&gt;Z2</title>\n",
       "<path d=\"M128,-143.8314C128,-136.131 128,-126.9743 128,-118.4166\" fill=\"none\" stroke=\"#000000\"/>\n",
       "<polygon fill=\"#000000\" points=\"131.5001,-118.4132 128,-108.4133 124.5001,-118.4133 131.5001,-118.4132\" stroke=\"#000000\"/>\n",
       "</g>\n",
       "<!-- Y -->\n",
       "<g class=\"node\" id=\"node4\">\n",
       "<title>Y</title>\n",
       "<ellipse cx=\"183\" cy=\"-18\" fill=\"#444444\" rx=\"27\" ry=\"18\" stroke=\"#000000\"/>\n",
       "<text fill=\"#ffffff\" font-family=\"Times,serif\" font-size=\"14.00\" text-anchor=\"middle\" x=\"183\" y=\"-14.3\">Y</text>\n",
       "</g>\n",
       "<!-- Z2&#45;&gt;Y -->\n",
       "<g class=\"edge\" id=\"edge8\">\n",
       "<title>Z2-&gt;Y</title>\n",
       "<path d=\"M140.4804,-73.6621C147.5124,-64.4564 156.4347,-52.7764 164.2883,-42.4953\" fill=\"none\" stroke=\"#000000\"/>\n",
       "<polygon fill=\"#000000\" points=\"167.28,-44.3446 170.569,-34.2733 161.7172,-40.0953 167.28,-44.3446\" stroke=\"#000000\"/>\n",
       "</g>\n",
       "<!-- L1 -->\n",
       "<g class=\"node\" id=\"node5\">\n",
       "<title>L1</title>\n",
       "<ellipse cx=\"118\" cy=\"-306\" fill=\"none\" rx=\"27\" ry=\"18\" stroke=\"#000000\" stroke-dasharray=\"5,2\"/>\n",
       "<text fill=\"#000000\" font-family=\"Times,serif\" font-size=\"14.00\" text-anchor=\"middle\" x=\"118\" y=\"-302.3\">L1</text>\n",
       "</g>\n",
       "<!-- L1&#45;&gt;Z1 -->\n",
       "<g class=\"edge\" id=\"edge11\">\n",
       "<title>L1-&gt;Z1</title>\n",
       "<path d=\"M107.563,-289.3008C102.0765,-280.5224 95.2314,-269.5703 89.0837,-259.7339\" fill=\"none\" stroke=\"#000000\" stroke-dasharray=\"5,2\"/>\n",
       "<polygon fill=\"#000000\" points=\"91.9609,-257.7336 83.6929,-251.1086 86.0249,-261.4436 91.9609,-257.7336\" stroke=\"#000000\"/>\n",
       "</g>\n",
       "<!-- L1&#45;&gt;X -->\n",
       "<g class=\"edge\" id=\"edge10\">\n",
       "<title>L1-&gt;X</title>\n",
       "<path d=\"M119.2665,-287.7623C120.9721,-263.201 124.0245,-219.2474 126.031,-190.3541\" fill=\"none\" stroke=\"#000000\" stroke-dasharray=\"5,2\"/>\n",
       "<polygon fill=\"#000000\" points=\"129.5425,-190.3081 126.7438,-180.0896 122.5593,-189.8231 129.5425,-190.3081\" stroke=\"#000000\"/>\n",
       "</g>\n",
       "<!-- L2 -->\n",
       "<g class=\"node\" id=\"node6\">\n",
       "<title>L2</title>\n",
       "<ellipse cx=\"27\" cy=\"-306\" fill=\"none\" rx=\"27\" ry=\"18\" stroke=\"#000000\" stroke-dasharray=\"5,2\"/>\n",
       "<text fill=\"#000000\" font-family=\"Times,serif\" font-size=\"14.00\" text-anchor=\"middle\" x=\"27\" y=\"-302.3\">L2</text>\n",
       "</g>\n",
       "<!-- L2&#45;&gt;Z1 -->\n",
       "<g class=\"edge\" id=\"edge9\">\n",
       "<title>L2-&gt;Z1</title>\n",
       "<path d=\"M37.6689,-289.3008C43.3586,-280.3952 50.4777,-269.2524 56.8316,-259.307\" fill=\"none\" stroke=\"#000000\" stroke-dasharray=\"5,2\"/>\n",
       "<polygon fill=\"#000000\" points=\"59.9544,-260.92 62.3889,-250.6087 54.0555,-257.1513 59.9544,-260.92\" stroke=\"#000000\"/>\n",
       "</g>\n",
       "<!-- L2&#45;&gt;Z2 -->\n",
       "<g class=\"edge\" id=\"edge5\">\n",
       "<title>L2-&gt;Z2</title>\n",
       "<path d=\"M26.3467,-287.7732C26.2854,-269.1244 27.8927,-239.6158 37,-216 52.6142,-175.5114 84.5229,-136.1683 106.0915,-112.51\" fill=\"none\" stroke=\"#000000\" stroke-dasharray=\"5,2\"/>\n",
       "<polygon fill=\"#000000\" points=\"108.7263,-114.8163 112.9712,-105.109 103.5993,-110.0503 108.7263,-114.8163\" stroke=\"#000000\"/>\n",
       "</g>\n",
       "<!-- L3 -->\n",
       "<g class=\"node\" id=\"node7\">\n",
       "<title>L3</title>\n",
       "<ellipse cx=\"214\" cy=\"-306\" fill=\"none\" rx=\"27\" ry=\"18\" stroke=\"#000000\" stroke-dasharray=\"5,2\"/>\n",
       "<text fill=\"#000000\" font-family=\"Times,serif\" font-size=\"14.00\" text-anchor=\"middle\" x=\"214\" y=\"-302.3\">L3</text>\n",
       "</g>\n",
       "<!-- L3&#45;&gt;Z1 -->\n",
       "<g class=\"edge\" id=\"edge6\">\n",
       "<title>L3-&gt;Z1</title>\n",
       "<path d=\"M192.2778,-294.9078C168.5067,-282.7694 130.2239,-263.2207 103.4594,-249.5538\" fill=\"none\" stroke=\"#000000\" stroke-dasharray=\"5,2\"/>\n",
       "<polygon fill=\"#000000\" points=\"105.0133,-246.4174 94.5155,-244.9867 101.8299,-252.6516 105.0133,-246.4174\" stroke=\"#000000\"/>\n",
       "</g>\n",
       "<!-- L3&#45;&gt;Y -->\n",
       "<g class=\"edge\" id=\"edge7\">\n",
       "<title>L3-&gt;Y</title>\n",
       "<path d=\"M216.0829,-288.0289C217.1939,-277.5385 218.4439,-264.0385 219,-252 222.4784,-176.7057 202.5009,-89.2109 190.8869,-45.6301\" fill=\"none\" stroke=\"#000000\" stroke-dasharray=\"5,2\"/>\n",
       "<polygon fill=\"#000000\" points=\"194.2082,-44.5054 188.2025,-35.7771 187.4543,-46.3455 194.2082,-44.5054\" stroke=\"#000000\"/>\n",
       "</g>\n",
       "<!-- L4 -->\n",
       "<g class=\"node\" id=\"node8\">\n",
       "<title>L4</title>\n",
       "<ellipse cx=\"183\" cy=\"-234\" fill=\"none\" rx=\"27\" ry=\"18\" stroke=\"#000000\" stroke-dasharray=\"5,2\"/>\n",
       "<text fill=\"#000000\" font-family=\"Times,serif\" font-size=\"14.00\" text-anchor=\"middle\" x=\"183\" y=\"-230.3\">L4</text>\n",
       "</g>\n",
       "<!-- L4&#45;&gt;X -->\n",
       "<g class=\"edge\" id=\"edge4\">\n",
       "<title>L4-&gt;X</title>\n",
       "<path d=\"M170.5196,-217.6621C163.4876,-208.4564 154.5653,-196.7764 146.7117,-186.4953\" fill=\"none\" stroke=\"#000000\" stroke-dasharray=\"5,2\"/>\n",
       "<polygon fill=\"#000000\" points=\"149.2828,-184.0953 140.431,-178.2733 143.72,-188.3446 149.2828,-184.0953\" stroke=\"#000000\"/>\n",
       "</g>\n",
       "<!-- L4&#45;&gt;Y -->\n",
       "<g class=\"edge\" id=\"edge2\">\n",
       "<title>L4-&gt;Y</title>\n",
       "<path d=\"M183,-215.9555C183,-178.3938 183,-91.5541 183,-46.4103\" fill=\"none\" stroke=\"#000000\" stroke-dasharray=\"5,2\"/>\n",
       "<polygon fill=\"#000000\" points=\"186.5001,-46.145 183,-36.1451 179.5001,-46.1451 186.5001,-46.145\" stroke=\"#000000\"/>\n",
       "</g>\n",
       "</g>\n",
       "</svg></div></td><td style=\"border-top:hidden;border-bottom:hidden;\"><div align=\"center\" style=\"\">?</div></td><td style=\"border-top:hidden;border-bottom:hidden;\"><div align=\"center\" style=\"\">No result</div></td></tr><tr><td style=\"border-top:hidden;border-bottom:hidden;\"><div align=\"center\"><small>Causal Model</small></div></td><td style=\"border-top:hidden;border-bottom:hidden;\"><div align=\"center\"><small>Explanation : Hedge Error: G={'Z2', 'X', 'Z1'},G[S]={'Z2'}</small></div></td><td style=\"border-top:hidden;border-bottom:hidden;\"><div align=\"center\"><small>Impact : $?$</small></div></td></tr></table>"
      ],
      "text/plain": [
       "<IPython.core.display.HTML object>"
      ]
     },
     "metadata": {},
     "output_type": "display_data"
    }
   ],
   "source": [
    "bn = gum.fastBN(\"Z1->X->Z2->Y\")\n",
    "d=csl.CausalModel(bn,[(\"L1\",[\"Z1\",\"X\"]),\n",
    "                      (\"L2\",[\"Z1\",\"Z2\"]),\n",
    "                      (\"L3\",[\"Z1\",\"Y\"]),\n",
    "                      (\"L4\",[\"Y\",\"X\"])],\n",
    "                  True)\n",
    "cslnb.showCausalImpact(d,\"Y\",\"X\",values={\"X\":1})"
   ]
  },
  {
   "cell_type": "markdown",
   "metadata": {
    "collapsed": true
   },
   "source": [
    "# FRONT DOOR EXAMPLE"
   ]
  },
  {
   "cell_type": "code",
   "execution_count": 5,
   "metadata": {
    "ExecuteTime": {
     "end_time": "2019-01-16T15:09:59.056793Z",
     "start_time": "2019-01-16T15:09:56.816705Z"
    }
   },
   "outputs": [
    {
     "data": {
      "text/html": [
       "<div align='center'><svg height=\"260pt\" viewBox=\"0.00 0.00 155.24 260.00\" width=\"155pt\" xmlns=\"http://www.w3.org/2000/svg\" xmlns:xlink=\"http://www.w3.org/1999/xlink\">\n",
       "<g class=\"graph\" id=\"graph0\" transform=\"scale(1 1) rotate(0) translate(4 256)\">\n",
       "<title>G</title>\n",
       "<polygon fill=\"#ffffff\" points=\"-4,4 -4,-256 151.2405,-256 151.2405,4 -4,4\" stroke=\"transparent\"/>\n",
       "<!-- Smoking -->\n",
       "<g class=\"node\" id=\"node1\">\n",
       "<title>Smoking</title>\n",
       "<ellipse cx=\"51.9954\" cy=\"-162\" fill=\"#444444\" rx=\"51.9908\" ry=\"18\" stroke=\"#000000\"/>\n",
       "<text fill=\"#ffffff\" font-family=\"Times,serif\" font-size=\"14.00\" text-anchor=\"middle\" x=\"51.9954\" y=\"-158.3\">Smoking</text>\n",
       "</g>\n",
       "<!-- Tar -->\n",
       "<g class=\"node\" id=\"node3\">\n",
       "<title>Tar</title>\n",
       "<ellipse cx=\"64.9954\" cy=\"-90\" fill=\"#444444\" rx=\"27\" ry=\"18\" stroke=\"#000000\"/>\n",
       "<text fill=\"#ffffff\" font-family=\"Times,serif\" font-size=\"14.00\" text-anchor=\"middle\" x=\"64.9954\" y=\"-86.3\">Tar</text>\n",
       "</g>\n",
       "<!-- Smoking&#45;&gt;Tar -->\n",
       "<g class=\"edge\" id=\"edge3\">\n",
       "<title>Smoking-&gt;Tar</title>\n",
       "<path d=\"M55.2758,-143.8314C56.6876,-136.0125 58.3704,-126.6923 59.9358,-118.0221\" fill=\"none\" stroke=\"#000000\"/>\n",
       "<polygon fill=\"#000000\" points=\"63.4284,-118.3762 61.761,-107.9134 56.5398,-117.1324 63.4284,-118.3762\" stroke=\"#000000\"/>\n",
       "</g>\n",
       "<!-- Cancer -->\n",
       "<g class=\"node\" id=\"node2\">\n",
       "<title>Cancer</title>\n",
       "<ellipse cx=\"91.9954\" cy=\"-18\" fill=\"#444444\" rx=\"44.393\" ry=\"18\" stroke=\"#000000\"/>\n",
       "<text fill=\"#ffffff\" font-family=\"Times,serif\" font-size=\"14.00\" text-anchor=\"middle\" x=\"91.9954\" y=\"-14.3\">Cancer</text>\n",
       "</g>\n",
       "<!-- Tar&#45;&gt;Cancer -->\n",
       "<g class=\"edge\" id=\"edge4\">\n",
       "<title>Tar-&gt;Cancer</title>\n",
       "<path d=\"M71.6695,-72.2022C74.7201,-64.0675 78.4016,-54.2501 81.7886,-45.2181\" fill=\"none\" stroke=\"#000000\"/>\n",
       "<polygon fill=\"#000000\" points=\"85.0703,-46.4348 85.3044,-35.8425 78.516,-43.9769 85.0703,-46.4348\" stroke=\"#000000\"/>\n",
       "</g>\n",
       "<!-- Genotype -->\n",
       "<g class=\"node\" id=\"node4\">\n",
       "<title>Genotype</title>\n",
       "<ellipse cx=\"91.9954\" cy=\"-234\" fill=\"none\" rx=\"55.4913\" ry=\"18\" stroke=\"#000000\" stroke-dasharray=\"5,2\"/>\n",
       "<text fill=\"#000000\" font-family=\"Times,serif\" font-size=\"14.00\" text-anchor=\"middle\" x=\"91.9954\" y=\"-230.3\">Genotype</text>\n",
       "</g>\n",
       "<!-- Genotype&#45;&gt;Smoking -->\n",
       "<g class=\"edge\" id=\"edge1\">\n",
       "<title>Genotype-&gt;Smoking</title>\n",
       "<path d=\"M82.1077,-216.2022C77.4923,-207.8944 71.9018,-197.8316 66.7969,-188.6427\" fill=\"none\" stroke=\"#000000\" stroke-dasharray=\"5,2\"/>\n",
       "<polygon fill=\"#000000\" points=\"69.8239,-186.8844 61.9079,-179.8425 63.7048,-190.2839 69.8239,-186.8844\" stroke=\"#000000\"/>\n",
       "</g>\n",
       "<!-- Genotype&#45;&gt;Cancer -->\n",
       "<g class=\"edge\" id=\"edge2\">\n",
       "<title>Genotype-&gt;Cancer</title>\n",
       "<path d=\"M100.9336,-216.0042C105.5347,-205.733 110.6584,-192.457 112.9954,-180 121.7719,-133.2173 110.0142,-78.1456 100.8748,-45.7618\" fill=\"none\" stroke=\"#000000\" stroke-dasharray=\"5,2\"/>\n",
       "<polygon fill=\"#000000\" points=\"104.208,-44.6904 98.0288,-36.0841 97.4923,-46.6653 104.208,-44.6904\" stroke=\"#000000\"/>\n",
       "</g>\n",
       "</g>\n",
       "</svg></div>"
      ],
      "text/plain": [
       "<IPython.core.display.HTML object>"
      ]
     },
     "metadata": {},
     "output_type": "display_data"
    }
   ],
   "source": [
    "modele4 = gum.BayesNet()\n",
    "modele4.add(gum.LabelizedVariable(\"Smoking\"))\n",
    "modele4.add(gum.LabelizedVariable(\"Cancer\"))\n",
    "modele4.add(gum.LabelizedVariable(\"Tar\"))\n",
    "\n",
    "modele4.addArc(0,2)\n",
    "modele4.addArc(2,1)\n",
    "modele4.addArc(0,1)\n",
    "\n",
    "#Smoking\n",
    "modele4.cpt(0)[:]=[0.5, 0.5]\n",
    "\n",
    "#Tar\n",
    "modele4.cpt(2)[{\"Smoking\":0}] = [0.4, 0.6]\n",
    "modele4.cpt(2)[{\"Smoking\":1}] = [0.3, 0.6]\n",
    "\n",
    "#Cancer\n",
    "modele4.cpt(1)[{'Smoking':0,'Tar':0}]=[0.1,0.9] #No Drug, Male -> healed in 0.8 of cases\n",
    "modele4.cpt(1)[{'Smoking':0,'Tar':1}]=[0.15,0.85] #No Drug, Female -> healed in 0.4 of cases\n",
    "modele4.cpt(1)[{'Smoking':1,'Tar':0}]=[0.2,0.8] #Drug, Male -> healed 0.7 of cases \n",
    "modele4.cpt(1)[{'Smoking':1,'Tar':1}]=[0.25,0.75]\n",
    "\n",
    "d4 = csl.CausalModel(modele4, [(\"Genotype\", [\"Smoking\",\"Cancer\"])],False)\n",
    "cslnb.showCausalModel(d4)"
   ]
  },
  {
   "cell_type": "code",
   "execution_count": 6,
   "metadata": {
    "ExecuteTime": {
     "end_time": "2019-01-16T15:09:59.064844Z",
     "start_time": "2019-01-16T15:09:59.059597Z"
    }
   },
   "outputs": [],
   "source": [
    "try: \n",
    "    a = csl.doCalculusWithObservation (d4,\"Cancer\", {\"Smoking\"})\n",
    "except csl.HedgeException as h: \n",
    "    print (h.message)"
   ]
  },
  {
   "cell_type": "code",
   "execution_count": 7,
   "metadata": {
    "ExecuteTime": {
     "end_time": "2019-01-16T15:09:59.078231Z",
     "start_time": "2019-01-16T15:09:59.066748Z"
    }
   },
   "outputs": [
    {
     "data": {
      "text/latex": [
       "$\\displaystyle P( Cancer \\mid \\hookrightarrow Smoking) = \\sum_{Tar}{P\\left(Tar\\mid Smoking\\right) \\cdot \\left(\\sum_{Smoking'}{P\\left(Smoking'\\right) \\cdot P\\left(Cancer\\mid Smoking',Tar\\right)}\\right)}$"
      ],
      "text/plain": [
       "<IPython.core.display.Math object>"
      ]
     },
     "metadata": {},
     "output_type": "display_data"
    }
   ],
   "source": [
    "display(Math(a.toLatex()))"
   ]
  },
  {
   "cell_type": "code",
   "execution_count": 8,
   "metadata": {
    "ExecuteTime": {
     "end_time": "2019-01-16T15:09:59.088443Z",
     "start_time": "2019-01-16T15:09:59.082915Z"
    },
    "scrolled": false
   },
   "outputs": [
    {
     "name": "stdout",
     "output_type": "stream",
     "text": [
      "<Cancer:0|Smoking:0> :: 0.177368 /<Cancer:1|Smoking:0> :: 0.822632 /<Cancer:0|Smoking:1> :: 0.162632 /<Cancer:1|Smoking:1> :: 0.737368\n"
     ]
    }
   ],
   "source": [
    "try: \n",
    "    adjj = a.eval()\n",
    "except csl.UnidentifiableException as u: \n",
    "    print (u.message)\n",
    "    \n",
    "print (adjj)\n"
   ]
  },
  {
   "cell_type": "code",
   "execution_count": 9,
   "metadata": {
    "ExecuteTime": {
     "end_time": "2019-01-16T15:09:59.098792Z",
     "start_time": "2019-01-16T15:09:59.091366Z"
    }
   },
   "outputs": [],
   "source": [
    "formula, adj, exp = csl.causalImpact(d4, \"Cancer\", \"Smoking\",values={\"Smoking\":0})"
   ]
  },
  {
   "cell_type": "code",
   "execution_count": 10,
   "metadata": {
    "ExecuteTime": {
     "end_time": "2019-01-16T15:09:59.107536Z",
     "start_time": "2019-01-16T15:09:59.100910Z"
    }
   },
   "outputs": [
    {
     "data": {
      "text/latex": [
       "$\\displaystyle P( Cancer \\mid \\hookrightarrow Smoking) = \\sum_{Tar}{P\\left(Tar\\mid Smoking\\right) \\cdot \\left(\\sum_{Smoking'}{P\\left(Cancer\\mid Smoking',Tar\\right) \\cdot P\\left(Smoking'\\right)}\\right)}$"
      ],
      "text/plain": [
       "<IPython.core.display.Math object>"
      ]
     },
     "metadata": {},
     "output_type": "display_data"
    },
    {
     "data": {
      "text/html": [
       "<table>\n",
       "<tr style='background-color:#AAAAAA'><th colspan='2'><center>Cancer</center></th></tr>\n",
       "<tr><th style='background-color:#BBBBBB'><center>0</center></th><th style='background-color:#BBBBBB'><center>1</center></th></tr>\n",
       "<tr><td style='background-color:#e89564;text-align:right;'>0.1774</td><td style='background-color:#95e864;text-align:right;'>0.8226</td></tr>\n",
       "</table>"
      ],
      "text/plain": [
       "(gum::Potential<double>@0x5558911e3bb0) <Cancer:0> :: 0.177368 /<Cancer:1> :: 0.822632"
      ]
     },
     "execution_count": 10,
     "metadata": {},
     "output_type": "execute_result"
    }
   ],
   "source": [
    "display(Math(formula.toLatex()))\n",
    "adj"
   ]
  },
  {
   "cell_type": "markdown",
   "metadata": {
    "collapsed": true
   },
   "source": [
    "  # Last example from R "
   ]
  },
  {
   "cell_type": "code",
   "execution_count": 11,
   "metadata": {
    "ExecuteTime": {
     "end_time": "2019-01-16T15:10:01.411728Z",
     "start_time": "2019-01-16T15:09:59.109790Z"
    }
   },
   "outputs": [
    {
     "data": {
      "text/html": [
       "<div align='center'><svg height=\"288pt\" viewBox=\"0.00 0.00 230.77 288.00\" width=\"231pt\" xmlns=\"http://www.w3.org/2000/svg\" xmlns:xlink=\"http://www.w3.org/1999/xlink\">\n",
       "<g class=\"graph\" id=\"graph0\" transform=\"scale(.8675 .8675) rotate(0) translate(4 328)\">\n",
       "<title>G</title>\n",
       "<polygon fill=\"#ffffff\" points=\"-4,4 -4,-328 262.032,-328 262.032,4 -4,4\" stroke=\"transparent\"/>\n",
       "<!-- z2 -->\n",
       "<g class=\"node\" id=\"node1\">\n",
       "<title>z2</title>\n",
       "<ellipse cx=\"121.032\" cy=\"-234\" fill=\"#444444\" rx=\"27\" ry=\"18\" stroke=\"#000000\"/>\n",
       "<text fill=\"#ffffff\" font-family=\"Times,serif\" font-size=\"14.00\" text-anchor=\"middle\" x=\"121.032\" y=\"-230.3\">z2</text>\n",
       "</g>\n",
       "<!-- x -->\n",
       "<g class=\"node\" id=\"node2\">\n",
       "<title>x</title>\n",
       "<ellipse cx=\"176.032\" cy=\"-162\" fill=\"#444444\" rx=\"27\" ry=\"18\" stroke=\"#000000\"/>\n",
       "<text fill=\"#ffffff\" font-family=\"Times,serif\" font-size=\"14.00\" text-anchor=\"middle\" x=\"176.032\" y=\"-158.3\">x</text>\n",
       "</g>\n",
       "<!-- z2&#45;&gt;x -->\n",
       "<g class=\"edge\" id=\"edge1\">\n",
       "<title>z2-&gt;x</title>\n",
       "<path d=\"M133.5123,-217.6621C140.5444,-208.4564 149.4666,-196.7764 157.3203,-186.4953\" fill=\"none\" stroke=\"#000000\"/>\n",
       "<polygon fill=\"#000000\" points=\"160.3119,-188.3446 163.601,-178.2733 154.7492,-184.0953 160.3119,-188.3446\" stroke=\"#000000\"/>\n",
       "</g>\n",
       "<!-- z1 -->\n",
       "<g class=\"node\" id=\"node3\">\n",
       "<title>z1</title>\n",
       "<ellipse cx=\"121.032\" cy=\"-90\" fill=\"#444444\" rx=\"27\" ry=\"18\" stroke=\"#000000\"/>\n",
       "<text fill=\"#ffffff\" font-family=\"Times,serif\" font-size=\"14.00\" text-anchor=\"middle\" x=\"121.032\" y=\"-86.3\">z1</text>\n",
       "</g>\n",
       "<!-- z2&#45;&gt;z1 -->\n",
       "<g class=\"edge\" id=\"edge14\">\n",
       "<title>z2-&gt;z1</title>\n",
       "<path d=\"M121.032,-215.7623C121.032,-191.201 121.032,-147.2474 121.032,-118.3541\" fill=\"none\" stroke=\"#000000\"/>\n",
       "<polygon fill=\"#000000\" points=\"124.5321,-118.0896 121.032,-108.0896 117.5321,-118.0897 124.5321,-118.0896\" stroke=\"#000000\"/>\n",
       "</g>\n",
       "<!-- z3 -->\n",
       "<g class=\"node\" id=\"node5\">\n",
       "<title>z3</title>\n",
       "<ellipse cx=\"66.032\" cy=\"-162\" fill=\"#444444\" rx=\"27\" ry=\"18\" stroke=\"#000000\"/>\n",
       "<text fill=\"#ffffff\" font-family=\"Times,serif\" font-size=\"14.00\" text-anchor=\"middle\" x=\"66.032\" y=\"-158.3\">z3</text>\n",
       "</g>\n",
       "<!-- z2&#45;&gt;z3 -->\n",
       "<g class=\"edge\" id=\"edge10\">\n",
       "<title>z2-&gt;z3</title>\n",
       "<path d=\"M108.5516,-217.6621C101.5195,-208.4564 92.5973,-196.7764 84.7437,-186.4953\" fill=\"none\" stroke=\"#000000\"/>\n",
       "<polygon fill=\"#000000\" points=\"87.3147,-184.0953 78.4629,-178.2733 81.752,-188.3446 87.3147,-184.0953\" stroke=\"#000000\"/>\n",
       "</g>\n",
       "<!-- x&#45;&gt;z1 -->\n",
       "<g class=\"edge\" id=\"edge5\">\n",
       "<title>x-&gt;z1</title>\n",
       "<path d=\"M163.5516,-145.6621C156.5195,-136.4564 147.5973,-124.7764 139.7437,-114.4953\" fill=\"none\" stroke=\"#000000\"/>\n",
       "<polygon fill=\"#000000\" points=\"142.3147,-112.0953 133.4629,-106.2733 136.752,-116.3446 142.3147,-112.0953\" stroke=\"#000000\"/>\n",
       "</g>\n",
       "<!-- y -->\n",
       "<g class=\"node\" id=\"node4\">\n",
       "<title>y</title>\n",
       "<ellipse cx=\"93.032\" cy=\"-18\" fill=\"#444444\" rx=\"27\" ry=\"18\" stroke=\"#000000\"/>\n",
       "<text fill=\"#ffffff\" font-family=\"Times,serif\" font-size=\"14.00\" text-anchor=\"middle\" x=\"93.032\" y=\"-14.3\">y</text>\n",
       "</g>\n",
       "<!-- z1&#45;&gt;y -->\n",
       "<g class=\"edge\" id=\"edge9\">\n",
       "<title>z1-&gt;y</title>\n",
       "<path d=\"M114.254,-72.5708C111.0448,-64.3187 107.1384,-54.2738 103.5562,-45.0623\" fill=\"none\" stroke=\"#000000\"/>\n",
       "<polygon fill=\"#000000\" points=\"106.7312,-43.5697 99.8446,-35.5182 100.2071,-46.1069 106.7312,-43.5697\" stroke=\"#000000\"/>\n",
       "</g>\n",
       "<!-- z3&#45;&gt;y -->\n",
       "<g class=\"edge\" id=\"edge12\">\n",
       "<title>z3-&gt;y</title>\n",
       "<path d=\"M69.3969,-144.0535C74.005,-119.4774 82.3256,-75.1008 87.7637,-46.0974\" fill=\"none\" stroke=\"#000000\"/>\n",
       "<polygon fill=\"#000000\" points=\"91.2217,-46.6465 89.6246,-36.1727 84.3416,-45.3564 91.2217,-46.6465\" stroke=\"#000000\"/>\n",
       "</g>\n",
       "<!-- X&#45;Z2 -->\n",
       "<g class=\"node\" id=\"node6\">\n",
       "<title>X-Z2</title>\n",
       "<ellipse cx=\"148.032\" cy=\"-306\" fill=\"none\" rx=\"32.4942\" ry=\"18\" stroke=\"#000000\" stroke-dasharray=\"5,2\"/>\n",
       "<text fill=\"#000000\" font-family=\"Times,serif\" font-size=\"14.00\" text-anchor=\"middle\" x=\"148.032\" y=\"-302.3\">X-Z2</text>\n",
       "</g>\n",
       "<!-- X&#45;Z2&#45;&gt;z2 -->\n",
       "<g class=\"edge\" id=\"edge11\">\n",
       "<title>X-Z2-&gt;z2</title>\n",
       "<path d=\"M141.3578,-288.2022C138.2844,-280.0064 134.5704,-270.1024 131.1624,-261.0145\" fill=\"none\" stroke=\"#000000\" stroke-dasharray=\"5,2\"/>\n",
       "<polygon fill=\"#000000\" points=\"134.4178,-259.7274 127.6294,-251.593 127.8635,-262.1853 134.4178,-259.7274\" stroke=\"#000000\"/>\n",
       "</g>\n",
       "<!-- X&#45;Z2&#45;&gt;x -->\n",
       "<g class=\"edge\" id=\"edge13\">\n",
       "<title>X-Z2-&gt;x</title>\n",
       "<path d=\"M151.5216,-288.0535C156.3003,-263.4774 164.929,-219.1008 170.5686,-190.0974\" fill=\"none\" stroke=\"#000000\" stroke-dasharray=\"5,2\"/>\n",
       "<polygon fill=\"#000000\" points=\"174.0253,-190.6569 172.4984,-180.1727 167.154,-189.3208 174.0253,-190.6569\" stroke=\"#000000\"/>\n",
       "</g>\n",
       "<!-- X&#45;Z3 -->\n",
       "<g class=\"node\" id=\"node7\">\n",
       "<title>X-Z3</title>\n",
       "<ellipse cx=\"44.032\" cy=\"-234\" fill=\"none\" rx=\"32.4942\" ry=\"18\" stroke=\"#000000\" stroke-dasharray=\"5,2\"/>\n",
       "<text fill=\"#000000\" font-family=\"Times,serif\" font-size=\"14.00\" text-anchor=\"middle\" x=\"44.032\" y=\"-230.3\">X-Z3</text>\n",
       "</g>\n",
       "<!-- X&#45;Z3&#45;&gt;x -->\n",
       "<g class=\"edge\" id=\"edge7\">\n",
       "<title>X-Z3-&gt;x</title>\n",
       "<path d=\"M67.3271,-221.2936C89.1505,-209.3899 121.8906,-191.5317 145.7357,-178.5252\" fill=\"none\" stroke=\"#000000\" stroke-dasharray=\"5,2\"/>\n",
       "<polygon fill=\"#000000\" points=\"147.6121,-181.4886 154.715,-173.6274 144.2601,-175.3433 147.6121,-181.4886\" stroke=\"#000000\"/>\n",
       "</g>\n",
       "<!-- X&#45;Z3&#45;&gt;z3 -->\n",
       "<g class=\"edge\" id=\"edge4\">\n",
       "<title>X-Z3-&gt;z3</title>\n",
       "<path d=\"M49.4702,-216.2022C51.9293,-208.1541 54.8918,-198.4588 57.6272,-189.5067\" fill=\"none\" stroke=\"#000000\" stroke-dasharray=\"5,2\"/>\n",
       "<polygon fill=\"#000000\" points=\"61.0051,-190.4289 60.5801,-179.8425 54.3106,-188.3833 61.0051,-190.4289\" stroke=\"#000000\"/>\n",
       "</g>\n",
       "<!-- X&#45;Y -->\n",
       "<g class=\"node\" id=\"node8\">\n",
       "<title>X-Y</title>\n",
       "<ellipse cx=\"231.032\" cy=\"-234\" fill=\"none\" rx=\"27\" ry=\"18\" stroke=\"#000000\" stroke-dasharray=\"5,2\"/>\n",
       "<text fill=\"#000000\" font-family=\"Times,serif\" font-size=\"14.00\" text-anchor=\"middle\" x=\"231.032\" y=\"-230.3\">X-Y</text>\n",
       "</g>\n",
       "<!-- X&#45;Y&#45;&gt;x -->\n",
       "<g class=\"edge\" id=\"edge6\">\n",
       "<title>X-Y-&gt;x</title>\n",
       "<path d=\"M218.5516,-217.6621C211.5195,-208.4564 202.5973,-196.7764 194.7437,-186.4953\" fill=\"none\" stroke=\"#000000\" stroke-dasharray=\"5,2\"/>\n",
       "<polygon fill=\"#000000\" points=\"197.3147,-184.0953 188.4629,-178.2733 191.752,-188.3446 197.3147,-184.0953\" stroke=\"#000000\"/>\n",
       "</g>\n",
       "<!-- X&#45;Y&#45;&gt;y -->\n",
       "<g class=\"edge\" id=\"edge2\">\n",
       "<title>X-Y-&gt;y</title>\n",
       "<path d=\"M229.5921,-216.0186C227.5639,-197.3082 222.8211,-167.5132 212.032,-144 191.4486,-99.1419 148.3864,-60.039 120.1026,-37.7329\" fill=\"none\" stroke=\"#000000\" stroke-dasharray=\"5,2\"/>\n",
       "<polygon fill=\"#000000\" points=\"121.8968,-34.6967 111.8405,-31.3618 117.6222,-40.24 121.8968,-34.6967\" stroke=\"#000000\"/>\n",
       "</g>\n",
       "<!-- Y&#45;Z2 -->\n",
       "<g class=\"node\" id=\"node9\">\n",
       "<title>Y-Z2</title>\n",
       "<ellipse cx=\"39.032\" cy=\"-306\" fill=\"none\" rx=\"31.3957\" ry=\"18\" stroke=\"#000000\" stroke-dasharray=\"5,2\"/>\n",
       "<text fill=\"#000000\" font-family=\"Times,serif\" font-size=\"14.00\" text-anchor=\"middle\" x=\"39.032\" y=\"-302.3\">Y-Z2</text>\n",
       "</g>\n",
       "<!-- Y&#45;Z2&#45;&gt;z2 -->\n",
       "<g class=\"edge\" id=\"edge8\">\n",
       "<title>Y-Z2-&gt;z2</title>\n",
       "<path d=\"M56.4221,-290.7307C68.1796,-280.407 83.8666,-266.633 96.839,-255.2426\" fill=\"none\" stroke=\"#000000\" stroke-dasharray=\"5,2\"/>\n",
       "<polygon fill=\"#000000\" points=\"99.3008,-257.7388 104.5059,-248.5107 94.6821,-252.4787 99.3008,-257.7388\" stroke=\"#000000\"/>\n",
       "</g>\n",
       "<!-- Y&#45;Z2&#45;&gt;y -->\n",
       "<g class=\"edge\" id=\"edge3\">\n",
       "<title>Y-Z2-&gt;y</title>\n",
       "<path d=\"M24.5386,-289.821C16.4937,-279.7252 7.2766,-266.0191 3.032,-252 -1.6046,-236.6865 .1772,-231.7433 3.032,-216 15.0811,-149.5531 54.2198,-79.3123 76.7175,-43.0081\" fill=\"none\" stroke=\"#000000\" stroke-dasharray=\"5,2\"/>\n",
       "<polygon fill=\"#000000\" points=\"79.6874,-44.86 82.0521,-34.5324 73.7632,-41.1313 79.6874,-44.86\" stroke=\"#000000\"/>\n",
       "</g>\n",
       "</g>\n",
       "</svg></div>"
      ],
      "text/plain": [
       "<IPython.core.display.HTML object>"
      ]
     },
     "metadata": {},
     "output_type": "display_data"
    }
   ],
   "source": [
    "m = gum.fastBN(\"z2->x->z1->y;z2->z1;z2->z3->y\")\n",
    "\n",
    "m.cpt(\"z2\") [:] = [0.5, 0.5]\n",
    "m.cpt(\"x\") [:] = [[0.4,0.6], #z2=0\n",
    "                  [0.4,0.6]] #z2=1\n",
    "m.cpt(\"z3\") [:] = [[0.3,0.7], #z2=0\n",
    "                   [0.3,0.7]] #z2=1\n",
    "m.cpt(\"z1\")[{\"z2\":0, \"x\":0}]= [0.2, 0.8]\n",
    "m.cpt(\"z1\")[{\"z2\":0, \"x\":1}]= [0.25, 0.75]\n",
    "m.cpt(\"z1\")[{\"z2\":1, \"x\":0}]= [0.1, 0.9]\n",
    "m.cpt(\"z1\")[{\"z2\":1, \"x\":1}]= [0.15, 0.85]\n",
    "\n",
    "m.cpt(\"y\")[{\"z1\":0,\"z3\":0}]= [0.5,0.5]\n",
    "m.cpt(\"y\")[{\"z1\":0,\"z3\":1}]= [0.45,0.55]\n",
    "m.cpt(\"y\")[{\"z1\":1,\"z3\":0}]= [0.4,0.6]\n",
    "m.cpt(\"y\")[{\"z1\":1,\"z3\":1}]= [0.35,0.65]\n",
    "\n",
    "\n",
    "d = csl.CausalModel(m, [(\"X-Z2\",[\"x\",\"z2\"]), \n",
    "                        (\"X-Z3\",[\"x\",\"z3\"]), \n",
    "                        (\"X-Y\",[\"x\",\"y\"]), \n",
    "                        (\"Y-Z2\",[\"y\",\"z2\"])],\n",
    "                    True)\n",
    "\n",
    "cslnb.showCausalModel(d)"
   ]
  },
  {
   "cell_type": "code",
   "execution_count": 12,
   "metadata": {
    "ExecuteTime": {
     "end_time": "2019-01-16T15:10:01.426215Z",
     "start_time": "2019-01-16T15:10:01.414298Z"
    }
   },
   "outputs": [
    {
     "name": "stdout",
     "output_type": "stream",
     "text": [
      "Do-calculus computations\n"
     ]
    },
    {
     "data": {
      "text/latex": [
       "$\\displaystyle P( z3,z2,z1,y \\mid \\hookrightarrow x) = P\\left(z3\\mid z2\\right) \\cdot P\\left(z1\\mid x,z2\\right) \\cdot P\\left(z2\\right) \\cdot  \\frac {\\sum_{x'}{P\\left(z3\\mid z2\\right) \\cdot P\\left(z2\\right) \\cdot P\\left(x'\\mid z2\\right) \\cdot P\\left(y\\mid z1,z3\\right)}}{\\sum_{x',y'}{P\\left(z3\\mid z2\\right) \\cdot P\\left(z2\\right) \\cdot P\\left(x'\\mid z2\\right) \\cdot P\\left(y'\\mid z1,z3\\right)}}$"
      ],
      "text/plain": [
       "<IPython.core.display.Math object>"
      ]
     },
     "metadata": {},
     "output_type": "display_data"
    }
   ],
   "source": [
    "try:\n",
    "    formula,result,msg = csl.causalImpact(d,on={\"y\",\"z2\",\"z1\",\"z3\"},doing={\"x\"})\n",
    "except csl.HedgeException as h:\n",
    "    print (h.message)\n",
    "    \n",
    "print(msg)\n",
    "display(Math(formula.toLatex()))"
   ]
  },
  {
   "cell_type": "code",
   "execution_count": 13,
   "metadata": {
    "ExecuteTime": {
     "end_time": "2019-01-16T15:10:01.433640Z",
     "start_time": "2019-01-16T15:10:01.427777Z"
    }
   },
   "outputs": [],
   "source": [
    "# computation for this formula directly in pyAgrum\n",
    "f1=m.cpt(\"x\")*m.cpt(\"z2\")*m.cpt(\"z3\")*m.cpt(\"y\")\n",
    "f2=f1.margSumOut([\"x\"])\n",
    "f3=f1.margSumOut([\"x\",\"y\"])\n",
    "f4=f2/f3\n",
    "pyResult=m.cpt(\"z3\")*m.cpt(\"z1\")*m.cpt(\"z2\")*f4"
   ]
  },
  {
   "cell_type": "code",
   "execution_count": 14,
   "metadata": {
    "ExecuteTime": {
     "end_time": "2019-01-16T15:10:01.447896Z",
     "start_time": "2019-01-16T15:10:01.436462Z"
    }
   },
   "outputs": [
    {
     "name": "stdout",
     "output_type": "stream",
     "text": [
      "According to [ref], the result should be :\n"
     ]
    },
    {
     "data": {
      "text/latex": [
       "$\\displaystyle P\\left(z1\\mid x,z2\\right) \\cdot \\left(\\sum_{x}{P\\left(y,z3\\mid z1,z2\\right) \\cdot P\\left(x,z2\\right)}\\right)$"
      ],
      "text/plain": [
       "<IPython.core.display.Math object>"
      ]
     },
     "metadata": {},
     "output_type": "display_data"
    }
   ],
   "source": [
    "# computation for this formula directly by creating the causal AST\n",
    "a = csl.ASTposteriorProba(m,{\"z1\"},{\"x\",\"z2\"})\n",
    "b= csl.ASTposteriorProba(m,{\"y\",\"z3\"},{\"x\",\"z1\",\"z2\"})\n",
    "c = csl.ASTjointProba([\"x\",\"z2\"])\n",
    "correct = csl.ASTmult(a,csl.ASTsum([\"x\"],csl.ASTmult(b,c)))\n",
    "\n",
    "print(\"According to [ref], the result should be :\")\n",
    "display(Math(correct.toLatex()))"
   ]
  },
  {
   "cell_type": "code",
   "execution_count": 15,
   "metadata": {
    "ExecuteTime": {
     "end_time": "2019-01-16T15:10:01.467104Z",
     "start_time": "2019-01-16T15:10:01.450554Z"
    }
   },
   "outputs": [],
   "source": [
    "# computation for that formula\n",
    "ie=gum.LazyPropagation(m)\n",
    "refResult=(ie.evidenceJointImpact([\"y\",\"z3\"],[\"x\",\"z1\",\"z2\"])*\n",
    "     ie.evidenceJointImpact([\"x\",\"z2\"],[])\n",
    "    ).margSumOut([\"x\"])* m.cpt(\"z1\")\n"
   ]
  },
  {
   "cell_type": "code",
   "execution_count": 16,
   "metadata": {
    "ExecuteTime": {
     "end_time": "2019-01-16T15:10:01.478343Z",
     "start_time": "2019-01-16T15:10:01.472019Z"
    }
   },
   "outputs": [
    {
     "name": "stdout",
     "output_type": "stream",
     "text": [
      "Maximum error between these 3 versions : 5.551115123125783e-17\n"
     ]
    }
   ],
   "source": [
    "print(\"Maximum error between these 3 versions : {}\".format(max((refResult-pyResult).abs().max(),\n",
    "                                                               (refResult-result).abs().max(),\n",
    "                                                               (pyResult-result).abs().max())))"
   ]
  },
  {
   "cell_type": "markdown",
   "metadata": {
    "collapsed": true
   },
   "source": [
    "# Unidentifiabilty\n"
   ]
  },
  {
   "cell_type": "code",
   "execution_count": 17,
   "metadata": {
    "ExecuteTime": {
     "end_time": "2019-01-16T15:10:03.799830Z",
     "start_time": "2019-01-16T15:10:01.480548Z"
    }
   },
   "outputs": [
    {
     "data": {
      "text/html": [
       "<div align='center'><svg height=\"288pt\" viewBox=\"0.00 0.00 243.36 288.00\" width=\"243pt\" xmlns=\"http://www.w3.org/2000/svg\" xmlns:xlink=\"http://www.w3.org/1999/xlink\">\n",
       "<g class=\"graph\" id=\"graph0\" transform=\"scale(.8675 .8675) rotate(0) translate(4 328)\">\n",
       "<title>G</title>\n",
       "<polygon fill=\"#ffffff\" points=\"-4,4 -4,-328 276.5438,-328 276.5438,4 -4,4\" stroke=\"transparent\"/>\n",
       "<!-- z1 -->\n",
       "<g class=\"node\" id=\"node1\">\n",
       "<title>z1</title>\n",
       "<ellipse cx=\"85.3466\" cy=\"-234\" fill=\"#444444\" rx=\"27\" ry=\"18\" stroke=\"#000000\"/>\n",
       "<text fill=\"#ffffff\" font-family=\"Times,serif\" font-size=\"14.00\" text-anchor=\"middle\" x=\"85.3466\" y=\"-230.3\">z1</text>\n",
       "</g>\n",
       "<!-- x -->\n",
       "<g class=\"node\" id=\"node2\">\n",
       "<title>x</title>\n",
       "<ellipse cx=\"140.3466\" cy=\"-162\" fill=\"#444444\" rx=\"27\" ry=\"18\" stroke=\"#000000\"/>\n",
       "<text fill=\"#ffffff\" font-family=\"Times,serif\" font-size=\"14.00\" text-anchor=\"middle\" x=\"140.3466\" y=\"-158.3\">x</text>\n",
       "</g>\n",
       "<!-- z1&#45;&gt;x -->\n",
       "<g class=\"edge\" id=\"edge1\">\n",
       "<title>z1-&gt;x</title>\n",
       "<path d=\"M97.8269,-217.6621C104.859,-208.4564 113.7813,-196.7764 121.6349,-186.4953\" fill=\"none\" stroke=\"#000000\"/>\n",
       "<polygon fill=\"#000000\" points=\"124.6266,-188.3446 127.9156,-178.2733 119.0638,-184.0953 124.6266,-188.3446\" stroke=\"#000000\"/>\n",
       "</g>\n",
       "<!-- z2 -->\n",
       "<g class=\"node\" id=\"node3\">\n",
       "<title>z2</title>\n",
       "<ellipse cx=\"140.3466\" cy=\"-90\" fill=\"#444444\" rx=\"27\" ry=\"18\" stroke=\"#000000\"/>\n",
       "<text fill=\"#ffffff\" font-family=\"Times,serif\" font-size=\"14.00\" text-anchor=\"middle\" x=\"140.3466\" y=\"-86.3\">z2</text>\n",
       "</g>\n",
       "<!-- x&#45;&gt;z2 -->\n",
       "<g class=\"edge\" id=\"edge3\">\n",
       "<title>x-&gt;z2</title>\n",
       "<path d=\"M140.3466,-143.8314C140.3466,-136.131 140.3466,-126.9743 140.3466,-118.4166\" fill=\"none\" stroke=\"#000000\"/>\n",
       "<polygon fill=\"#000000\" points=\"143.8467,-118.4132 140.3466,-108.4133 136.8467,-118.4133 143.8467,-118.4132\" stroke=\"#000000\"/>\n",
       "</g>\n",
       "<!-- y -->\n",
       "<g class=\"node\" id=\"node4\">\n",
       "<title>y</title>\n",
       "<ellipse cx=\"200.3466\" cy=\"-18\" fill=\"#444444\" rx=\"27\" ry=\"18\" stroke=\"#000000\"/>\n",
       "<text fill=\"#ffffff\" font-family=\"Times,serif\" font-size=\"14.00\" text-anchor=\"middle\" x=\"200.3466\" y=\"-14.3\">y</text>\n",
       "</g>\n",
       "<!-- z2&#45;&gt;y -->\n",
       "<g class=\"edge\" id=\"edge8\">\n",
       "<title>z2-&gt;y</title>\n",
       "<path d=\"M153.6625,-74.0209C161.5859,-64.5128 171.7859,-52.2728 180.6296,-41.6604\" fill=\"none\" stroke=\"#000000\"/>\n",
       "<polygon fill=\"#000000\" points=\"183.3548,-43.8574 187.0679,-33.9345 177.9772,-39.376 183.3548,-43.8574\" stroke=\"#000000\"/>\n",
       "</g>\n",
       "<!-- Z1−X -->\n",
       "<g class=\"node\" id=\"node5\">\n",
       "<title>Z1−X</title>\n",
       "<ellipse cx=\"136.3466\" cy=\"-306\" fill=\"none\" rx=\"37.8943\" ry=\"18\" stroke=\"#000000\" stroke-dasharray=\"5,2\"/>\n",
       "<text fill=\"#000000\" font-family=\"Times,serif\" font-size=\"14.00\" text-anchor=\"middle\" x=\"136.3466\" y=\"-302.3\">Z1−X</text>\n",
       "</g>\n",
       "<!-- Z1−X&#45;&gt;z1 -->\n",
       "<g class=\"edge\" id=\"edge5\">\n",
       "<title>Z1−X-&gt;z1</title>\n",
       "<path d=\"M124.2603,-288.937C117.8813,-279.9313 109.9366,-268.7154 102.8921,-258.7701\" fill=\"none\" stroke=\"#000000\" stroke-dasharray=\"5,2\"/>\n",
       "<polygon fill=\"#000000\" points=\"105.6314,-256.5821 96.9951,-250.4449 99.9192,-260.6283 105.6314,-256.5821\" stroke=\"#000000\"/>\n",
       "</g>\n",
       "<!-- Z1−X&#45;&gt;x -->\n",
       "<g class=\"edge\" id=\"edge10\">\n",
       "<title>Z1−X-&gt;x</title>\n",
       "<path d=\"M136.8532,-287.7623C137.5355,-263.201 138.7564,-219.2474 139.559,-190.3541\" fill=\"none\" stroke=\"#000000\" stroke-dasharray=\"5,2\"/>\n",
       "<polygon fill=\"#000000\" points=\"143.065,-190.183 139.8441,-180.0896 136.0677,-189.9885 143.065,-190.183\" stroke=\"#000000\"/>\n",
       "</g>\n",
       "<!-- Z1&#45;Y -->\n",
       "<g class=\"node\" id=\"node6\">\n",
       "<title>Z1-Y</title>\n",
       "<ellipse cx=\"241.3466\" cy=\"-306\" fill=\"none\" rx=\"31.3957\" ry=\"18\" stroke=\"#000000\" stroke-dasharray=\"5,2\"/>\n",
       "<text fill=\"#000000\" font-family=\"Times,serif\" font-size=\"14.00\" text-anchor=\"middle\" x=\"241.3466\" y=\"-302.3\">Z1-Y</text>\n",
       "</g>\n",
       "<!-- Z1&#45;Y&#45;&gt;z1 -->\n",
       "<g class=\"edge\" id=\"edge9\">\n",
       "<title>Z1-Y-&gt;z1</title>\n",
       "<path d=\"M216.9716,-294.75C190.179,-282.3842 147.0254,-262.4671 117.4837,-248.8325\" fill=\"none\" stroke=\"#000000\" stroke-dasharray=\"5,2\"/>\n",
       "<polygon fill=\"#000000\" points=\"118.5767,-245.4822 108.0303,-244.4694 115.6432,-251.8379 118.5767,-245.4822\" stroke=\"#000000\"/>\n",
       "</g>\n",
       "<!-- Z1&#45;Y&#45;&gt;y -->\n",
       "<g class=\"edge\" id=\"edge11\">\n",
       "<title>Z1-Y-&gt;y</title>\n",
       "<path d=\"M242.3368,-287.6826C243.0889,-269.4643 243.6457,-240.7371 241.3466,-216 235.3207,-151.1641 228.5256,-135.5528 214.3466,-72 212.4275,-63.3982 210.1037,-54.0884 207.9055,-45.6608\" fill=\"none\" stroke=\"#000000\" stroke-dasharray=\"5,2\"/>\n",
       "<polygon fill=\"#000000\" points=\"211.2699,-44.6933 205.322,-35.9256 204.5041,-46.4888 211.2699,-44.6933\" stroke=\"#000000\"/>\n",
       "</g>\n",
       "<!-- Z1&#45;Z1 -->\n",
       "<g class=\"node\" id=\"node7\">\n",
       "<title>Z1-Z1</title>\n",
       "<ellipse cx=\"38.3466\" cy=\"-306\" fill=\"none\" rx=\"38.1938\" ry=\"18\" stroke=\"#000000\" stroke-dasharray=\"5,2\"/>\n",
       "<text fill=\"#000000\" font-family=\"Times,serif\" font-size=\"14.00\" text-anchor=\"middle\" x=\"38.3466\" y=\"-302.3\">Z1-Z1</text>\n",
       "</g>\n",
       "<!-- Z1&#45;Z1&#45;&gt;z1 -->\n",
       "<g class=\"edge\" id=\"edge6\">\n",
       "<title>Z1-Z1-&gt;z1</title>\n",
       "<path d=\"M49.724,-288.5708C55.4648,-279.7763 62.5348,-268.9457 68.859,-259.2577\" fill=\"none\" stroke=\"#000000\" stroke-dasharray=\"5,2\"/>\n",
       "<polygon fill=\"#000000\" points=\"71.8622,-261.0599 74.3976,-250.7729 66.0005,-257.2335 71.8622,-261.0599\" stroke=\"#000000\"/>\n",
       "</g>\n",
       "<!-- Z1&#45;Z1&#45;&gt;z2 -->\n",
       "<g class=\"edge\" id=\"edge7\">\n",
       "<title>Z1-Z1-&gt;z2</title>\n",
       "<path d=\"M37.9459,-287.7649C38.1318,-269.1095 40.0981,-239.5957 49.3466,-216 65.1825,-175.5976 97.0344,-136.2324 118.5301,-112.5457\" fill=\"none\" stroke=\"#000000\" stroke-dasharray=\"5,2\"/>\n",
       "<polygon fill=\"#000000\" points=\"121.1638,-114.8527 125.3848,-105.135 116.0251,-110.0995 121.1638,-114.8527\" stroke=\"#000000\"/>\n",
       "</g>\n",
       "<!-- X−Y -->\n",
       "<g class=\"node\" id=\"node8\">\n",
       "<title>X−Y</title>\n",
       "<ellipse cx=\"200.3466\" cy=\"-234\" fill=\"none\" rx=\"31.6951\" ry=\"18\" stroke=\"#000000\" stroke-dasharray=\"5,2\"/>\n",
       "<text fill=\"#000000\" font-family=\"Times,serif\" font-size=\"14.00\" text-anchor=\"middle\" x=\"200.3466\" y=\"-230.3\">X−Y</text>\n",
       "</g>\n",
       "<!-- X−Y&#45;&gt;x -->\n",
       "<g class=\"edge\" id=\"edge4\">\n",
       "<title>X−Y-&gt;x</title>\n",
       "<path d=\"M186.7317,-217.6621C178.8744,-208.2334 168.8542,-196.2091 160.1388,-185.7507\" fill=\"none\" stroke=\"#000000\" stroke-dasharray=\"5,2\"/>\n",
       "<polygon fill=\"#000000\" points=\"162.586,-183.22 153.4953,-177.7784 157.2084,-187.7013 162.586,-183.22\" stroke=\"#000000\"/>\n",
       "</g>\n",
       "<!-- X−Y&#45;&gt;y -->\n",
       "<g class=\"edge\" id=\"edge2\">\n",
       "<title>X−Y-&gt;y</title>\n",
       "<path d=\"M200.3466,-215.9555C200.3466,-178.3938 200.3466,-91.5541 200.3466,-46.4103\" fill=\"none\" stroke=\"#000000\" stroke-dasharray=\"5,2\"/>\n",
       "<polygon fill=\"#000000\" points=\"203.8467,-46.145 200.3466,-36.1451 196.8467,-46.1451 203.8467,-46.145\" stroke=\"#000000\"/>\n",
       "</g>\n",
       "</g>\n",
       "</svg></div>"
      ],
      "text/plain": [
       "<IPython.core.display.HTML object>"
      ]
     },
     "metadata": {},
     "output_type": "display_data"
    }
   ],
   "source": [
    "m1 = gum.fastBN(\"z1->x->z2->y\")\n",
    "\n",
    "cdg = csl.CausalModel(m1, [(\"Z1−X\",[\"z1\",\"x\"]),\n",
    "                           (\"Z1-Y\",[\"z1\",\"y\"]),\n",
    "                           (\"Z1-Z1\",[\"z1\",\"z2\"]), \n",
    "                           (\"X−Y\",[\"x\",\"y\"])\n",
    "                          ], True )\n",
    "cslnb.showCausalModel(cdg)"
   ]
  },
  {
   "cell_type": "code",
   "execution_count": 18,
   "metadata": {
    "ExecuteTime": {
     "end_time": "2019-01-16T15:10:05.919290Z",
     "start_time": "2019-01-16T15:10:03.802128Z"
    }
   },
   "outputs": [
    {
     "data": {
      "text/html": [
       "<table style=\"border-style: hidden; border-collapse: collapse;\" width=\"100%\"><tr><td style=\"border-top:hidden;border-bottom:hidden;\"><div align=\"center\" style=\"\"><svg height=\"288pt\" viewBox=\"0.00 0.00 243.36 288.00\" width=\"243pt\" xmlns=\"http://www.w3.org/2000/svg\" xmlns:xlink=\"http://www.w3.org/1999/xlink\">\n",
       "<g class=\"graph\" id=\"graph0\" transform=\"scale(.8675 .8675) rotate(0) translate(4 328)\">\n",
       "<title>G</title>\n",
       "<polygon fill=\"#ffffff\" points=\"-4,4 -4,-328 276.5438,-328 276.5438,4 -4,4\" stroke=\"transparent\"/>\n",
       "<!-- z1 -->\n",
       "<g class=\"node\" id=\"node1\">\n",
       "<title>z1</title>\n",
       "<ellipse cx=\"85.3466\" cy=\"-234\" fill=\"#444444\" rx=\"27\" ry=\"18\" stroke=\"#000000\"/>\n",
       "<text fill=\"#ffffff\" font-family=\"Times,serif\" font-size=\"14.00\" text-anchor=\"middle\" x=\"85.3466\" y=\"-230.3\">z1</text>\n",
       "</g>\n",
       "<!-- x -->\n",
       "<g class=\"node\" id=\"node2\">\n",
       "<title>x</title>\n",
       "<ellipse cx=\"140.3466\" cy=\"-162\" fill=\"#444444\" rx=\"27\" ry=\"18\" stroke=\"#000000\"/>\n",
       "<text fill=\"#ffffff\" font-family=\"Times,serif\" font-size=\"14.00\" text-anchor=\"middle\" x=\"140.3466\" y=\"-158.3\">x</text>\n",
       "</g>\n",
       "<!-- z1&#45;&gt;x -->\n",
       "<g class=\"edge\" id=\"edge1\">\n",
       "<title>z1-&gt;x</title>\n",
       "<path d=\"M97.8269,-217.6621C104.859,-208.4564 113.7813,-196.7764 121.6349,-186.4953\" fill=\"none\" stroke=\"#000000\"/>\n",
       "<polygon fill=\"#000000\" points=\"124.6266,-188.3446 127.9156,-178.2733 119.0638,-184.0953 124.6266,-188.3446\" stroke=\"#000000\"/>\n",
       "</g>\n",
       "<!-- z2 -->\n",
       "<g class=\"node\" id=\"node3\">\n",
       "<title>z2</title>\n",
       "<ellipse cx=\"140.3466\" cy=\"-90\" fill=\"#444444\" rx=\"27\" ry=\"18\" stroke=\"#000000\"/>\n",
       "<text fill=\"#ffffff\" font-family=\"Times,serif\" font-size=\"14.00\" text-anchor=\"middle\" x=\"140.3466\" y=\"-86.3\">z2</text>\n",
       "</g>\n",
       "<!-- x&#45;&gt;z2 -->\n",
       "<g class=\"edge\" id=\"edge3\">\n",
       "<title>x-&gt;z2</title>\n",
       "<path d=\"M140.3466,-143.8314C140.3466,-136.131 140.3466,-126.9743 140.3466,-118.4166\" fill=\"none\" stroke=\"#000000\"/>\n",
       "<polygon fill=\"#000000\" points=\"143.8467,-118.4132 140.3466,-108.4133 136.8467,-118.4133 143.8467,-118.4132\" stroke=\"#000000\"/>\n",
       "</g>\n",
       "<!-- y -->\n",
       "<g class=\"node\" id=\"node4\">\n",
       "<title>y</title>\n",
       "<ellipse cx=\"200.3466\" cy=\"-18\" fill=\"#444444\" rx=\"27\" ry=\"18\" stroke=\"#000000\"/>\n",
       "<text fill=\"#ffffff\" font-family=\"Times,serif\" font-size=\"14.00\" text-anchor=\"middle\" x=\"200.3466\" y=\"-14.3\">y</text>\n",
       "</g>\n",
       "<!-- z2&#45;&gt;y -->\n",
       "<g class=\"edge\" id=\"edge8\">\n",
       "<title>z2-&gt;y</title>\n",
       "<path d=\"M153.6625,-74.0209C161.5859,-64.5128 171.7859,-52.2728 180.6296,-41.6604\" fill=\"none\" stroke=\"#000000\"/>\n",
       "<polygon fill=\"#000000\" points=\"183.3548,-43.8574 187.0679,-33.9345 177.9772,-39.376 183.3548,-43.8574\" stroke=\"#000000\"/>\n",
       "</g>\n",
       "<!-- Z1−X -->\n",
       "<g class=\"node\" id=\"node5\">\n",
       "<title>Z1−X</title>\n",
       "<ellipse cx=\"136.3466\" cy=\"-306\" fill=\"none\" rx=\"37.8943\" ry=\"18\" stroke=\"#000000\" stroke-dasharray=\"5,2\"/>\n",
       "<text fill=\"#000000\" font-family=\"Times,serif\" font-size=\"14.00\" text-anchor=\"middle\" x=\"136.3466\" y=\"-302.3\">Z1−X</text>\n",
       "</g>\n",
       "<!-- Z1−X&#45;&gt;z1 -->\n",
       "<g class=\"edge\" id=\"edge5\">\n",
       "<title>Z1−X-&gt;z1</title>\n",
       "<path d=\"M124.2603,-288.937C117.8813,-279.9313 109.9366,-268.7154 102.8921,-258.7701\" fill=\"none\" stroke=\"#000000\" stroke-dasharray=\"5,2\"/>\n",
       "<polygon fill=\"#000000\" points=\"105.6314,-256.5821 96.9951,-250.4449 99.9192,-260.6283 105.6314,-256.5821\" stroke=\"#000000\"/>\n",
       "</g>\n",
       "<!-- Z1−X&#45;&gt;x -->\n",
       "<g class=\"edge\" id=\"edge10\">\n",
       "<title>Z1−X-&gt;x</title>\n",
       "<path d=\"M136.8532,-287.7623C137.5355,-263.201 138.7564,-219.2474 139.559,-190.3541\" fill=\"none\" stroke=\"#000000\" stroke-dasharray=\"5,2\"/>\n",
       "<polygon fill=\"#000000\" points=\"143.065,-190.183 139.8441,-180.0896 136.0677,-189.9885 143.065,-190.183\" stroke=\"#000000\"/>\n",
       "</g>\n",
       "<!-- Z1&#45;Y -->\n",
       "<g class=\"node\" id=\"node6\">\n",
       "<title>Z1-Y</title>\n",
       "<ellipse cx=\"241.3466\" cy=\"-306\" fill=\"none\" rx=\"31.3957\" ry=\"18\" stroke=\"#000000\" stroke-dasharray=\"5,2\"/>\n",
       "<text fill=\"#000000\" font-family=\"Times,serif\" font-size=\"14.00\" text-anchor=\"middle\" x=\"241.3466\" y=\"-302.3\">Z1-Y</text>\n",
       "</g>\n",
       "<!-- Z1&#45;Y&#45;&gt;z1 -->\n",
       "<g class=\"edge\" id=\"edge9\">\n",
       "<title>Z1-Y-&gt;z1</title>\n",
       "<path d=\"M216.9716,-294.75C190.179,-282.3842 147.0254,-262.4671 117.4837,-248.8325\" fill=\"none\" stroke=\"#000000\" stroke-dasharray=\"5,2\"/>\n",
       "<polygon fill=\"#000000\" points=\"118.5767,-245.4822 108.0303,-244.4694 115.6432,-251.8379 118.5767,-245.4822\" stroke=\"#000000\"/>\n",
       "</g>\n",
       "<!-- Z1&#45;Y&#45;&gt;y -->\n",
       "<g class=\"edge\" id=\"edge11\">\n",
       "<title>Z1-Y-&gt;y</title>\n",
       "<path d=\"M242.3368,-287.6826C243.0889,-269.4643 243.6457,-240.7371 241.3466,-216 235.3207,-151.1641 228.5256,-135.5528 214.3466,-72 212.4275,-63.3982 210.1037,-54.0884 207.9055,-45.6608\" fill=\"none\" stroke=\"#000000\" stroke-dasharray=\"5,2\"/>\n",
       "<polygon fill=\"#000000\" points=\"211.2699,-44.6933 205.322,-35.9256 204.5041,-46.4888 211.2699,-44.6933\" stroke=\"#000000\"/>\n",
       "</g>\n",
       "<!-- Z1&#45;Z1 -->\n",
       "<g class=\"node\" id=\"node7\">\n",
       "<title>Z1-Z1</title>\n",
       "<ellipse cx=\"38.3466\" cy=\"-306\" fill=\"none\" rx=\"38.1938\" ry=\"18\" stroke=\"#000000\" stroke-dasharray=\"5,2\"/>\n",
       "<text fill=\"#000000\" font-family=\"Times,serif\" font-size=\"14.00\" text-anchor=\"middle\" x=\"38.3466\" y=\"-302.3\">Z1-Z1</text>\n",
       "</g>\n",
       "<!-- Z1&#45;Z1&#45;&gt;z1 -->\n",
       "<g class=\"edge\" id=\"edge6\">\n",
       "<title>Z1-Z1-&gt;z1</title>\n",
       "<path d=\"M49.724,-288.5708C55.4648,-279.7763 62.5348,-268.9457 68.859,-259.2577\" fill=\"none\" stroke=\"#000000\" stroke-dasharray=\"5,2\"/>\n",
       "<polygon fill=\"#000000\" points=\"71.8622,-261.0599 74.3976,-250.7729 66.0005,-257.2335 71.8622,-261.0599\" stroke=\"#000000\"/>\n",
       "</g>\n",
       "<!-- Z1&#45;Z1&#45;&gt;z2 -->\n",
       "<g class=\"edge\" id=\"edge7\">\n",
       "<title>Z1-Z1-&gt;z2</title>\n",
       "<path d=\"M37.9459,-287.7649C38.1318,-269.1095 40.0981,-239.5957 49.3466,-216 65.1825,-175.5976 97.0344,-136.2324 118.5301,-112.5457\" fill=\"none\" stroke=\"#000000\" stroke-dasharray=\"5,2\"/>\n",
       "<polygon fill=\"#000000\" points=\"121.1638,-114.8527 125.3848,-105.135 116.0251,-110.0995 121.1638,-114.8527\" stroke=\"#000000\"/>\n",
       "</g>\n",
       "<!-- X−Y -->\n",
       "<g class=\"node\" id=\"node8\">\n",
       "<title>X−Y</title>\n",
       "<ellipse cx=\"200.3466\" cy=\"-234\" fill=\"none\" rx=\"31.6951\" ry=\"18\" stroke=\"#000000\" stroke-dasharray=\"5,2\"/>\n",
       "<text fill=\"#000000\" font-family=\"Times,serif\" font-size=\"14.00\" text-anchor=\"middle\" x=\"200.3466\" y=\"-230.3\">X−Y</text>\n",
       "</g>\n",
       "<!-- X−Y&#45;&gt;x -->\n",
       "<g class=\"edge\" id=\"edge4\">\n",
       "<title>X−Y-&gt;x</title>\n",
       "<path d=\"M186.7317,-217.6621C178.8744,-208.2334 168.8542,-196.2091 160.1388,-185.7507\" fill=\"none\" stroke=\"#000000\" stroke-dasharray=\"5,2\"/>\n",
       "<polygon fill=\"#000000\" points=\"162.586,-183.22 153.4953,-177.7784 157.2084,-187.7013 162.586,-183.22\" stroke=\"#000000\"/>\n",
       "</g>\n",
       "<!-- X−Y&#45;&gt;y -->\n",
       "<g class=\"edge\" id=\"edge2\">\n",
       "<title>X−Y-&gt;y</title>\n",
       "<path d=\"M200.3466,-215.9555C200.3466,-178.3938 200.3466,-91.5541 200.3466,-46.4103\" fill=\"none\" stroke=\"#000000\" stroke-dasharray=\"5,2\"/>\n",
       "<polygon fill=\"#000000\" points=\"203.8467,-46.145 200.3466,-36.1451 196.8467,-46.1451 203.8467,-46.145\" stroke=\"#000000\"/>\n",
       "</g>\n",
       "</g>\n",
       "</svg></div></td><td style=\"border-top:hidden;border-bottom:hidden;\"><div align=\"center\" style=\"\">?</div></td><td style=\"border-top:hidden;border-bottom:hidden;\"><div align=\"center\" style=\"\">No result</div></td></tr><tr><td style=\"border-top:hidden;border-bottom:hidden;\"><div align=\"center\"><small>Causal Model</small></div></td><td style=\"border-top:hidden;border-bottom:hidden;\"><div align=\"center\"><small>Explanation : Hedge Error: G={'z2', 'x', 'z1'},G[S]={'z2'}</small></div></td><td style=\"border-top:hidden;border-bottom:hidden;\"><div align=\"center\"><small>Impact : $?$</small></div></td></tr></table>"
      ],
      "text/plain": [
       "<IPython.core.display.HTML object>"
      ]
     },
     "metadata": {},
     "output_type": "display_data"
    }
   ],
   "source": [
    "err = cslnb.showCausalImpact(cdg,\"y\",\"x\",values={\"x\":0})\n"
   ]
  },
  {
   "cell_type": "markdown",
   "metadata": {
    "collapsed": true
   },
   "source": [
    "## another one"
   ]
  },
  {
   "cell_type": "code",
   "execution_count": 19,
   "metadata": {
    "ExecuteTime": {
     "end_time": "2019-01-16T15:10:08.149907Z",
     "start_time": "2019-01-16T15:10:05.921630Z"
    }
   },
   "outputs": [
    {
     "data": {
      "text/html": [
       "<svg height=\"260pt\" viewBox=\"0.00 0.00 144.00 260.00\" width=\"144pt\" xmlns=\"http://www.w3.org/2000/svg\" xmlns:xlink=\"http://www.w3.org/1999/xlink\">\n",
       "<g class=\"graph\" id=\"graph0\" transform=\"scale(1 1) rotate(0) translate(4 256)\">\n",
       "<title>G</title>\n",
       "<!-- x -->\n",
       "<g class=\"node\" id=\"node1\">\n",
       "<title>x</title>\n",
       "<g id=\"a_node1\"><a xlink:title=\"(0) x\">\n",
       "<ellipse cx=\"109\" cy=\"-90\" fill=\"#444444\" rx=\"27\" ry=\"18\" stroke=\"#000000\"/>\n",
       "<text fill=\"#ffffff\" font-family=\"Times,serif\" font-size=\"14.00\" text-anchor=\"middle\" x=\"109\" y=\"-86.3\">x</text>\n",
       "</a>\n",
       "</g>\n",
       "</g>\n",
       "<!-- y -->\n",
       "<g class=\"node\" id=\"node2\">\n",
       "<title>y</title>\n",
       "<g id=\"a_node2\"><a xlink:title=\"(1) y\">\n",
       "<ellipse cx=\"54\" cy=\"-18\" fill=\"#444444\" rx=\"27\" ry=\"18\" stroke=\"#000000\"/>\n",
       "<text fill=\"#ffffff\" font-family=\"Times,serif\" font-size=\"14.00\" text-anchor=\"middle\" x=\"54\" y=\"-14.3\">y</text>\n",
       "</a>\n",
       "</g>\n",
       "</g>\n",
       "<!-- x&#45;&gt;y -->\n",
       "<g class=\"edge\" id=\"edge1\">\n",
       "<title>x-&gt;y</title>\n",
       "<g id=\"a_edge1\"><a xlink:title=\"(0, 1) : \">\n",
       "<path d=\"M96.5196,-73.6621C89.4876,-64.4564 80.5653,-52.7764 72.7117,-42.4953\" fill=\"none\" stroke=\"#000000\"/>\n",
       "<polygon fill=\"#000000\" points=\"75.2828,-40.0953 66.431,-34.2733 69.72,-44.3446 75.2828,-40.0953\" stroke=\"#000000\"/>\n",
       "</a>\n",
       "</g>\n",
       "</g>\n",
       "<!-- z1 -->\n",
       "<g class=\"node\" id=\"node3\">\n",
       "<title>z1</title>\n",
       "<g id=\"a_node3\"><a xlink:title=\"(2) z1\">\n",
       "<ellipse cx=\"108\" cy=\"-234\" fill=\"#444444\" rx=\"27\" ry=\"18\" stroke=\"#000000\"/>\n",
       "<text fill=\"#ffffff\" font-family=\"Times,serif\" font-size=\"14.00\" text-anchor=\"middle\" x=\"108\" y=\"-230.3\">z1</text>\n",
       "</a>\n",
       "</g>\n",
       "</g>\n",
       "<!-- z1&#45;&gt;x -->\n",
       "<g class=\"edge\" id=\"edge3\">\n",
       "<title>z1-&gt;x</title>\n",
       "<g id=\"a_edge3\"><a xlink:title=\"(2, 0) : \">\n",
       "<path d=\"M108.1267,-215.7623C108.2972,-191.201 108.6024,-147.2474 108.8031,-118.3541\" fill=\"none\" stroke=\"#000000\"/>\n",
       "<polygon fill=\"#000000\" points=\"112.3048,-118.1137 108.8744,-108.0896 105.3049,-118.065 112.3048,-118.1137\" stroke=\"#000000\"/>\n",
       "</a>\n",
       "</g>\n",
       "</g>\n",
       "<!-- z3 -->\n",
       "<g class=\"node\" id=\"node5\">\n",
       "<title>z3</title>\n",
       "<g id=\"a_node5\"><a xlink:title=\"(4) z3\">\n",
       "<ellipse cx=\"63\" cy=\"-162\" fill=\"#444444\" rx=\"27\" ry=\"18\" stroke=\"#000000\"/>\n",
       "<text fill=\"#ffffff\" font-family=\"Times,serif\" font-size=\"14.00\" text-anchor=\"middle\" x=\"63\" y=\"-158.3\">z3</text>\n",
       "</a>\n",
       "</g>\n",
       "</g>\n",
       "<!-- z1&#45;&gt;z3 -->\n",
       "<g class=\"edge\" id=\"edge6\">\n",
       "<title>z1-&gt;z3</title>\n",
       "<g id=\"a_edge6\"><a xlink:title=\"(2, 4) : \">\n",
       "<path d=\"M97.563,-217.3008C92.0765,-208.5224 85.2314,-197.5703 79.0837,-187.7339\" fill=\"none\" stroke=\"#000000\"/>\n",
       "<polygon fill=\"#000000\" points=\"81.9609,-185.7336 73.6929,-179.1086 76.0249,-189.4436 81.9609,-185.7336\" stroke=\"#000000\"/>\n",
       "</a>\n",
       "</g>\n",
       "</g>\n",
       "<!-- z2 -->\n",
       "<g class=\"node\" id=\"node4\">\n",
       "<title>z2</title>\n",
       "<g id=\"a_node4\"><a xlink:title=\"(3) z2\">\n",
       "<ellipse cx=\"27\" cy=\"-234\" fill=\"#444444\" rx=\"27\" ry=\"18\" stroke=\"#000000\"/>\n",
       "<text fill=\"#ffffff\" font-family=\"Times,serif\" font-size=\"14.00\" text-anchor=\"middle\" x=\"27\" y=\"-230.3\">z2</text>\n",
       "</a>\n",
       "</g>\n",
       "</g>\n",
       "<!-- z2&#45;&gt;y -->\n",
       "<g class=\"edge\" id=\"edge2\">\n",
       "<title>z2-&gt;y</title>\n",
       "<g id=\"a_edge2\"><a xlink:title=\"(3, 1) : \">\n",
       "<path d=\"M25.8889,-216.0116C25.0247,-197.8019 24.3662,-168.8609 27,-144 30.6296,-109.7395 39.663,-71.1021 46.2853,-45.7519\" fill=\"none\" stroke=\"#000000\"/>\n",
       "<polygon fill=\"#000000\" points=\"49.757,-46.3168 48.9531,-35.7525 42.9935,-44.5123 49.757,-46.3168\" stroke=\"#000000\"/>\n",
       "</a>\n",
       "</g>\n",
       "</g>\n",
       "<!-- z2&#45;&gt;z3 -->\n",
       "<g class=\"edge\" id=\"edge4\">\n",
       "<title>z2-&gt;z3</title>\n",
       "<g id=\"a_edge4\"><a xlink:title=\"(3, 4) : \">\n",
       "<path d=\"M35.7146,-216.5708C39.9597,-208.0807 45.1536,-197.6929 49.8663,-188.2674\" fill=\"none\" stroke=\"#000000\"/>\n",
       "<polygon fill=\"#000000\" points=\"53.024,-189.7782 54.3657,-179.2687 46.763,-186.6477 53.024,-189.7782\" stroke=\"#000000\"/>\n",
       "</a>\n",
       "</g>\n",
       "</g>\n",
       "<!-- z3&#45;&gt;x -->\n",
       "<g class=\"edge\" id=\"edge7\">\n",
       "<title>z3-&gt;x</title>\n",
       "<g id=\"a_edge7\"><a xlink:title=\"(4, 0) : \">\n",
       "<path d=\"M73.6689,-145.3008C79.3586,-136.3952 86.4777,-125.2524 92.8316,-115.307\" fill=\"none\" stroke=\"#000000\"/>\n",
       "<polygon fill=\"#000000\" points=\"95.9544,-116.92 98.3889,-106.6087 90.0555,-113.1513 95.9544,-116.92\" stroke=\"#000000\"/>\n",
       "</a>\n",
       "</g>\n",
       "</g>\n",
       "<!-- z3&#45;&gt;y -->\n",
       "<g class=\"edge\" id=\"edge5\">\n",
       "<title>z3-&gt;y</title>\n",
       "<g id=\"a_edge5\"><a xlink:title=\"(4, 1) : \">\n",
       "<path d=\"M61.8601,-143.7623C60.3251,-119.201 57.578,-75.2474 55.7721,-46.3541\" fill=\"none\" stroke=\"#000000\"/>\n",
       "<polygon fill=\"#000000\" points=\"59.2477,-45.8518 55.1306,-36.0896 52.2613,-46.2885 59.2477,-45.8518\" stroke=\"#000000\"/>\n",
       "</a>\n",
       "</g>\n",
       "</g>\n",
       "</g>\n",
       "</svg>"
      ],
      "text/plain": [
       "<IPython.core.display.HTML object>"
      ]
     },
     "metadata": {},
     "output_type": "display_data"
    }
   ],
   "source": [
    "# EXEMPLE PAGE 17 : http://ftp.cs.ucla.edu/pub/stat_ser/r350.pdf\n",
    "\n",
    "\n",
    "m1 = gum.BayesNet()\n",
    "m1.add(gum.LabelizedVariable(\"x\"))\n",
    "m1.add(gum.LabelizedVariable(\"y\"))\n",
    "m1.add(gum.LabelizedVariable(\"z1\"))\n",
    "m1.add(gum.LabelizedVariable(\"z2\"))\n",
    "m1.add(gum.LabelizedVariable(\"z3\"))\n",
    "\n",
    "m1.addArc(2,4)\n",
    "m1.addArc(2,0)\n",
    "m1.addArc(3,4)\n",
    "m1.addArc(3,1)\n",
    "m1.addArc(4,1)\n",
    "m1.addArc(4,0)\n",
    "m1.addArc(0,1)\n",
    "\n",
    "gnb.showBN(m1)\n",
    "d = csl.CausalModel(m1)"
   ]
  },
  {
   "cell_type": "code",
   "execution_count": 20,
   "metadata": {
    "ExecuteTime": {
     "end_time": "2019-01-16T15:10:08.158846Z",
     "start_time": "2019-01-16T15:10:08.152242Z"
    }
   },
   "outputs": [
    {
     "data": {
      "text/latex": [
       "$\\displaystyle P\\left(z3\\mid z1,z2\\right) \\cdot P\\left(z2\\right) \\cdot P\\left(z1\\right) \\cdot P\\left(y\\mid x,z2,z3\\right)$"
      ],
      "text/plain": [
       "<IPython.core.display.Math object>"
      ]
     },
     "metadata": {},
     "output_type": "display_data"
    }
   ],
   "source": [
    "display(Math(csl.identifyingIntervention (d,{\"z1\",\"z2\",\"z3\",\"y\"}, {\"x\"}).toLatex()))"
   ]
  },
  {
   "cell_type": "code",
   "execution_count": 22,
   "metadata": {
    "ExecuteTime": {
     "end_time": "2019-01-16T15:21:47.271174Z",
     "start_time": "2019-01-16T15:21:47.261020Z"
    }
   },
   "outputs": [
    {
     "data": {
      "text/latex": [
       "$\\displaystyle \\sum_{z1,z2,z3}{P\\left(z3\\mid z1,z2\\right) \\cdot P\\left(z2\\right) \\cdot P\\left(z1\\right) \\cdot P\\left(y\\mid x,z2,z3\\right)}$"
      ],
      "text/plain": [
       "<IPython.core.display.Math object>"
      ]
     },
     "metadata": {},
     "output_type": "display_data"
    }
   ],
   "source": [
    "display(Math(csl.identifyingIntervention(d,{\"y\"}, {\"x\"}).toLatex()))"
   ]
  },
  {
   "cell_type": "code",
   "execution_count": 23,
   "metadata": {
    "ExecuteTime": {
     "end_time": "2019-01-16T15:21:55.070997Z",
     "start_time": "2019-01-16T15:21:55.061732Z"
    }
   },
   "outputs": [
    {
     "data": {
      "text/latex": [
       "$\\displaystyle P\\left(z3\\mid z1,z2\\right) \\cdot P\\left(z1\\right) \\cdot P\\left(y\\mid x,z2,z3\\right)$"
      ],
      "text/plain": [
       "<IPython.core.display.Math object>"
      ]
     },
     "metadata": {},
     "output_type": "display_data"
    }
   ],
   "source": [
    "display(Math(csl.identifyingIntervention(d,{\"z1\",\"z3\",\"y\"}, {\"x\",\"z2\"}).toLatex()))"
   ]
  },
  {
   "cell_type": "code",
   "execution_count": 24,
   "metadata": {
    "ExecuteTime": {
     "end_time": "2019-01-16T15:22:01.846256Z",
     "start_time": "2019-01-16T15:22:01.836950Z"
    }
   },
   "outputs": [
    {
     "data": {
      "text/latex": [
       "$\\displaystyle \\sum_{z1,z3}{P\\left(z3\\mid z1,z2\\right) \\cdot P\\left(z1\\right) \\cdot P\\left(y\\mid x,z2,z3\\right)}$"
      ],
      "text/plain": [
       "<IPython.core.display.Math object>"
      ]
     },
     "metadata": {},
     "output_type": "display_data"
    }
   ],
   "source": [
    "display(Math(csl.identifyingIntervention(d,{\"y\"}, {\"x\",\"z2\"}).toLatex()))"
   ]
  },
  {
   "cell_type": "markdown",
   "metadata": {},
   "source": [
    "## another"
   ]
  },
  {
   "cell_type": "code",
   "execution_count": 25,
   "metadata": {
    "ExecuteTime": {
     "end_time": "2019-01-16T15:22:08.622449Z",
     "start_time": "2019-01-16T15:22:06.528447Z"
    }
   },
   "outputs": [
    {
     "data": {
      "text/html": [
       "<svg height=\"260pt\" viewBox=\"0.00 0.00 127.00 260.00\" width=\"127pt\" xmlns=\"http://www.w3.org/2000/svg\" xmlns:xlink=\"http://www.w3.org/1999/xlink\">\n",
       "<g class=\"graph\" id=\"graph0\" transform=\"scale(1 1) rotate(0) translate(4 256)\">\n",
       "<title>G</title>\n",
       "<!-- a -->\n",
       "<g class=\"node\" id=\"node1\">\n",
       "<title>a</title>\n",
       "<g id=\"a_node1\"><a xlink:title=\"(0) a\">\n",
       "<ellipse cx=\"92\" cy=\"-234\" fill=\"#444444\" rx=\"27\" ry=\"18\" stroke=\"#000000\"/>\n",
       "<text fill=\"#ffffff\" font-family=\"Times,serif\" font-size=\"14.00\" text-anchor=\"middle\" x=\"92\" y=\"-230.3\">a</text>\n",
       "</a>\n",
       "</g>\n",
       "</g>\n",
       "<!-- p -->\n",
       "<g class=\"node\" id=\"node2\">\n",
       "<title>p</title>\n",
       "<g id=\"a_node2\"><a xlink:title=\"(1) p\">\n",
       "<ellipse cx=\"65\" cy=\"-162\" fill=\"#444444\" rx=\"27\" ry=\"18\" stroke=\"#000000\"/>\n",
       "<text fill=\"#ffffff\" font-family=\"Times,serif\" font-size=\"14.00\" text-anchor=\"middle\" x=\"65\" y=\"-158.3\">p</text>\n",
       "</a>\n",
       "</g>\n",
       "</g>\n",
       "<!-- a&#45;&gt;p -->\n",
       "<g class=\"edge\" id=\"edge1\">\n",
       "<title>a-&gt;p</title>\n",
       "<g id=\"a_edge1\"><a xlink:title=\"(0, 1) : \">\n",
       "<path d=\"M85.3258,-216.2022C82.2524,-208.0064 78.5384,-198.1024 75.1305,-189.0145\" fill=\"none\" stroke=\"#000000\"/>\n",
       "<polygon fill=\"#000000\" points=\"78.3858,-187.7274 71.5974,-179.593 71.8315,-190.1853 78.3858,-187.7274\" stroke=\"#000000\"/>\n",
       "</a>\n",
       "</g>\n",
       "</g>\n",
       "<!-- y -->\n",
       "<g class=\"node\" id=\"node4\">\n",
       "<title>y</title>\n",
       "<g id=\"a_node4\"><a xlink:title=\"(3) y\">\n",
       "<ellipse cx=\"82\" cy=\"-18\" fill=\"#444444\" rx=\"27\" ry=\"18\" stroke=\"#000000\"/>\n",
       "<text fill=\"#ffffff\" font-family=\"Times,serif\" font-size=\"14.00\" text-anchor=\"middle\" x=\"82\" y=\"-14.3\">y</text>\n",
       "</a>\n",
       "</g>\n",
       "</g>\n",
       "<!-- a&#45;&gt;y -->\n",
       "<g class=\"edge\" id=\"edge5\">\n",
       "<title>a-&gt;y</title>\n",
       "<g id=\"a_edge5\"><a xlink:title=\"(0, 3) : \">\n",
       "<path d=\"M95.7474,-216.0931C97.7466,-205.6241 99.9966,-192.1241 101,-180 104.9031,-132.8396 95.6145,-78.2193 88.6933,-45.9738\" fill=\"none\" stroke=\"#000000\"/>\n",
       "<polygon fill=\"#000000\" points=\"92.0488,-44.9397 86.4593,-35.9392 85.2161,-46.4608 92.0488,-44.9397\" stroke=\"#000000\"/>\n",
       "</a>\n",
       "</g>\n",
       "</g>\n",
       "<!-- b -->\n",
       "<g class=\"node\" id=\"node3\">\n",
       "<title>b</title>\n",
       "<g id=\"a_node3\"><a xlink:title=\"(2) b\">\n",
       "<ellipse cx=\"27\" cy=\"-90\" fill=\"#444444\" rx=\"27\" ry=\"18\" stroke=\"#000000\"/>\n",
       "<text fill=\"#ffffff\" font-family=\"Times,serif\" font-size=\"14.00\" text-anchor=\"middle\" x=\"27\" y=\"-86.3\">b</text>\n",
       "</a>\n",
       "</g>\n",
       "</g>\n",
       "<!-- p&#45;&gt;b -->\n",
       "<g class=\"edge\" id=\"edge2\">\n",
       "<title>p-&gt;b</title>\n",
       "<g id=\"a_edge2\"><a xlink:title=\"(1, 2) : \">\n",
       "<path d=\"M55.9945,-144.937C51.5172,-136.4537 46.0048,-126.0092 40.993,-116.513\" fill=\"none\" stroke=\"#000000\"/>\n",
       "<polygon fill=\"#000000\" points=\"43.9678,-114.6509 36.2048,-107.4407 37.7771,-117.9182 43.9678,-114.6509\" stroke=\"#000000\"/>\n",
       "</a>\n",
       "</g>\n",
       "</g>\n",
       "<!-- p&#45;&gt;y -->\n",
       "<g class=\"edge\" id=\"edge3\">\n",
       "<title>p-&gt;y</title>\n",
       "<g id=\"a_edge3\"><a xlink:title=\"(1, 3) : \">\n",
       "<path d=\"M67.1187,-144.0535C70.0073,-119.5852 75.213,-75.4896 78.6378,-46.4799\" fill=\"none\" stroke=\"#000000\"/>\n",
       "<polygon fill=\"#000000\" points=\"82.158,-46.5141 79.8546,-36.1727 75.2062,-45.6934 82.158,-46.5141\" stroke=\"#000000\"/>\n",
       "</a>\n",
       "</g>\n",
       "</g>\n",
       "<!-- b&#45;&gt;y -->\n",
       "<g class=\"edge\" id=\"edge4\">\n",
       "<title>b-&gt;y</title>\n",
       "<g id=\"a_edge4\"><a xlink:title=\"(2, 3) : \">\n",
       "<path d=\"M39.4804,-73.6621C46.5124,-64.4564 55.4347,-52.7764 63.2883,-42.4953\" fill=\"none\" stroke=\"#000000\"/>\n",
       "<polygon fill=\"#000000\" points=\"66.28,-44.3446 69.569,-34.2733 60.7172,-40.0953 66.28,-44.3446\" stroke=\"#000000\"/>\n",
       "</a>\n",
       "</g>\n",
       "</g>\n",
       "</g>\n",
       "</svg>"
      ],
      "text/plain": [
       "<IPython.core.display.HTML object>"
      ]
     },
     "metadata": {},
     "output_type": "display_data"
    }
   ],
   "source": [
    "#http://www.stats.ox.ac.uk/~lienart/gml15_causalinference.html\n",
    "\n",
    "m1 = gum.BayesNet()\n",
    "m1.add(gum.LabelizedVariable(\"a\"))\n",
    "m1.add(gum.LabelizedVariable(\"p\"))\n",
    "m1.add(gum.LabelizedVariable(\"b\"))\n",
    "m1.add(gum.LabelizedVariable(\"y\"))\n",
    "\n",
    "m1.addArc(0,1)\n",
    "m1.addArc(1,2)\n",
    "m1.addArc(0,3)\n",
    "m1.addArc(1,3)\n",
    "m1.addArc(2,3)\n",
    "gnb.showBN(m1)\n",
    "d = csl.CausalModel(m1)"
   ]
  },
  {
   "cell_type": "code",
   "execution_count": 27,
   "metadata": {
    "ExecuteTime": {
     "end_time": "2019-01-16T15:22:13.469272Z",
     "start_time": "2019-01-16T15:22:13.458781Z"
    }
   },
   "outputs": [
    {
     "data": {
      "text/latex": [
       "$\\displaystyle \\sum_{p}{P\\left(y\\mid a,b,p\\right) \\cdot P\\left(p\\mid a\\right)}$"
      ],
      "text/plain": [
       "<IPython.core.display.Math object>"
      ]
     },
     "metadata": {},
     "output_type": "display_data"
    }
   ],
   "source": [
    "display(Math(csl.identifyingIntervention(d,{\"y\"}, {\"a\",\"b\"}).toLatex()))"
   ]
  },
  {
   "cell_type": "markdown",
   "metadata": {},
   "source": [
    "## example f"
   ]
  },
  {
   "cell_type": "code",
   "execution_count": 28,
   "metadata": {
    "ExecuteTime": {
     "end_time": "2019-01-16T15:22:19.348931Z",
     "start_time": "2019-01-16T15:22:17.300063Z"
    }
   },
   "outputs": [
    {
     "data": {
      "text/html": [
       "<div align='center'><svg height=\"288pt\" viewBox=\"0.00 0.00 157.88 288.00\" width=\"158pt\" xmlns=\"http://www.w3.org/2000/svg\" xmlns:xlink=\"http://www.w3.org/1999/xlink\">\n",
       "<g class=\"graph\" id=\"graph0\" transform=\"scale(.8675 .8675) rotate(0) translate(4 328)\">\n",
       "<title>G</title>\n",
       "<polygon fill=\"#ffffff\" points=\"-4,4 -4,-328 178,-328 178,4 -4,4\" stroke=\"transparent\"/>\n",
       "<!-- X -->\n",
       "<g class=\"node\" id=\"node1\">\n",
       "<title>X</title>\n",
       "<ellipse cx=\"27\" cy=\"-234\" fill=\"#444444\" rx=\"27\" ry=\"18\" stroke=\"#000000\"/>\n",
       "<text fill=\"#ffffff\" font-family=\"Times,serif\" font-size=\"14.00\" text-anchor=\"middle\" x=\"27\" y=\"-230.3\">X</text>\n",
       "</g>\n",
       "<!-- Y -->\n",
       "<g class=\"node\" id=\"node2\">\n",
       "<title>Y</title>\n",
       "<ellipse cx=\"73\" cy=\"-18\" fill=\"#444444\" rx=\"27\" ry=\"18\" stroke=\"#000000\"/>\n",
       "<text fill=\"#ffffff\" font-family=\"Times,serif\" font-size=\"14.00\" text-anchor=\"middle\" x=\"73\" y=\"-14.3\">Y</text>\n",
       "</g>\n",
       "<!-- X&#45;&gt;Y -->\n",
       "<g class=\"edge\" id=\"edge1\">\n",
       "<title>X-&gt;Y</title>\n",
       "<path d=\"M30.4558,-215.9766C36.248,-186.0198 48.4224,-124.1163 60,-72 61.903,-63.4338 64.0957,-54.1343 66.1317,-45.7053\" fill=\"none\" stroke=\"#000000\"/>\n",
       "<polygon fill=\"#000000\" points=\"69.5386,-46.5077 68.5075,-35.9632 62.7379,-44.8492 69.5386,-46.5077\" stroke=\"#000000\"/>\n",
       "</g>\n",
       "<!-- Z1 -->\n",
       "<g class=\"node\" id=\"node3\">\n",
       "<title>Z1</title>\n",
       "<ellipse cx=\"82\" cy=\"-162\" fill=\"#444444\" rx=\"27\" ry=\"18\" stroke=\"#000000\"/>\n",
       "<text fill=\"#ffffff\" font-family=\"Times,serif\" font-size=\"14.00\" text-anchor=\"middle\" x=\"82\" y=\"-158.3\">Z1</text>\n",
       "</g>\n",
       "<!-- X&#45;&gt;Z1 -->\n",
       "<g class=\"edge\" id=\"edge8\">\n",
       "<title>X-&gt;Z1</title>\n",
       "<path d=\"M39.4804,-217.6621C46.5124,-208.4564 55.4347,-196.7764 63.2883,-186.4953\" fill=\"none\" stroke=\"#000000\"/>\n",
       "<polygon fill=\"#000000\" points=\"66.28,-188.3446 69.569,-178.2733 60.7172,-184.0953 66.28,-188.3446\" stroke=\"#000000\"/>\n",
       "</g>\n",
       "<!-- Z1&#45;&gt;Y -->\n",
       "<g class=\"edge\" id=\"edge3\">\n",
       "<title>Z1-&gt;Y</title>\n",
       "<path d=\"M74.9333,-144.326C71.1611,-133.9346 66.9111,-120.4346 65,-108 61.8278,-87.3595 64.1182,-63.8481 67.0476,-46.0333\" fill=\"none\" stroke=\"#000000\"/>\n",
       "<polygon fill=\"#000000\" points=\"70.5246,-46.4743 68.8603,-36.011 63.6364,-45.2284 70.5246,-46.4743\" stroke=\"#000000\"/>\n",
       "</g>\n",
       "<!-- Z2 -->\n",
       "<g class=\"node\" id=\"node4\">\n",
       "<title>Z2</title>\n",
       "<ellipse cx=\"101\" cy=\"-90\" fill=\"#444444\" rx=\"27\" ry=\"18\" stroke=\"#000000\"/>\n",
       "<text fill=\"#ffffff\" font-family=\"Times,serif\" font-size=\"14.00\" text-anchor=\"middle\" x=\"101\" y=\"-86.3\">Z2</text>\n",
       "</g>\n",
       "<!-- Z1&#45;&gt;Z2 -->\n",
       "<g class=\"edge\" id=\"edge4\">\n",
       "<title>Z1-&gt;Z2</title>\n",
       "<path d=\"M86.6966,-144.2022C88.7976,-136.2406 91.324,-126.6671 93.665,-117.7957\" fill=\"none\" stroke=\"#000000\"/>\n",
       "<polygon fill=\"#000000\" points=\"97.1241,-118.4046 96.2916,-107.8425 90.3558,-116.6185 97.1241,-118.4046\" stroke=\"#000000\"/>\n",
       "</g>\n",
       "<!-- Z2&#45;&gt;Y -->\n",
       "<g class=\"edge\" id=\"edge2\">\n",
       "<title>Z2-&gt;Y</title>\n",
       "<path d=\"M94.222,-72.5708C91.0128,-64.3187 87.1065,-54.2738 83.5242,-45.0623\" fill=\"none\" stroke=\"#000000\"/>\n",
       "<polygon fill=\"#000000\" points=\"86.6992,-43.5697 79.8126,-35.5182 80.1752,-46.1069 86.6992,-43.5697\" stroke=\"#000000\"/>\n",
       "</g>\n",
       "<!-- l1 -->\n",
       "<g class=\"node\" id=\"node5\">\n",
       "<title>l1</title>\n",
       "<ellipse cx=\"54\" cy=\"-306\" fill=\"none\" rx=\"27\" ry=\"18\" stroke=\"#000000\" stroke-dasharray=\"5,2\"/>\n",
       "<text fill=\"#000000\" font-family=\"Times,serif\" font-size=\"14.00\" text-anchor=\"middle\" x=\"54\" y=\"-302.3\">l1</text>\n",
       "</g>\n",
       "<!-- l1&#45;&gt;X -->\n",
       "<g class=\"edge\" id=\"edge9\">\n",
       "<title>l1-&gt;X</title>\n",
       "<path d=\"M47.3258,-288.2022C44.2524,-280.0064 40.5384,-270.1024 37.1305,-261.0145\" fill=\"none\" stroke=\"#000000\" stroke-dasharray=\"5,2\"/>\n",
       "<polygon fill=\"#000000\" points=\"40.3858,-259.7274 33.5974,-251.593 33.8315,-262.1853 40.3858,-259.7274\" stroke=\"#000000\"/>\n",
       "</g>\n",
       "<!-- l1&#45;&gt;Z1 -->\n",
       "<g class=\"edge\" id=\"edge5\">\n",
       "<title>l1-&gt;Z1</title>\n",
       "<path d=\"M57.4896,-288.0535C62.2683,-263.4774 70.8971,-219.1008 76.5366,-190.0974\" fill=\"none\" stroke=\"#000000\" stroke-dasharray=\"5,2\"/>\n",
       "<polygon fill=\"#000000\" points=\"79.9933,-190.6569 78.4664,-180.1727 73.122,-189.3208 79.9933,-190.6569\" stroke=\"#000000\"/>\n",
       "</g>\n",
       "<!-- l2 -->\n",
       "<g class=\"node\" id=\"node6\">\n",
       "<title>l2</title>\n",
       "<ellipse cx=\"147\" cy=\"-234\" fill=\"none\" rx=\"27\" ry=\"18\" stroke=\"#000000\" stroke-dasharray=\"5,2\"/>\n",
       "<text fill=\"#000000\" font-family=\"Times,serif\" font-size=\"14.00\" text-anchor=\"middle\" x=\"147\" y=\"-230.3\">l2</text>\n",
       "</g>\n",
       "<!-- l2&#45;&gt;Y -->\n",
       "<g class=\"edge\" id=\"edge6\">\n",
       "<title>l2-&gt;Y</title>\n",
       "<path d=\"M150.2944,-215.8005C155.0332,-184.5127 160.7932,-119.3318 137,-72 129.4136,-56.9084 115.5304,-44.3924 102.6287,-35.2228\" fill=\"none\" stroke=\"#000000\" stroke-dasharray=\"5,2\"/>\n",
       "<polygon fill=\"#000000\" points=\"104.2022,-32.0647 93.9431,-29.4186 100.3129,-37.8848 104.2022,-32.0647\" stroke=\"#000000\"/>\n",
       "</g>\n",
       "<!-- l2&#45;&gt;Z1 -->\n",
       "<g class=\"edge\" id=\"edge7\">\n",
       "<title>l2-&gt;Z1</title>\n",
       "<path d=\"M132.896,-218.3771C124.1227,-208.659 112.6827,-195.987 102.8714,-185.1191\" fill=\"none\" stroke=\"#000000\" stroke-dasharray=\"5,2\"/>\n",
       "<polygon fill=\"#000000\" points=\"105.3755,-182.6698 96.0765,-177.5924 100.1796,-187.3605 105.3755,-182.6698\" stroke=\"#000000\"/>\n",
       "</g>\n",
       "</g>\n",
       "</svg></div>"
      ],
      "text/plain": [
       "<IPython.core.display.HTML object>"
      ]
     },
     "metadata": {},
     "output_type": "display_data"
    }
   ],
   "source": [
    "#https://cse.sc.edu/~mgv/talks/AIM2010.ppt , example (f)\n",
    "\n",
    "m1 = gum.BayesNet()\n",
    "m1.add(gum.LabelizedVariable(\"X\"))\n",
    "m1.add(gum.LabelizedVariable(\"Y\"))\n",
    "m1.add(gum.LabelizedVariable(\"Z1\"))\n",
    "m1.add(gum.LabelizedVariable(\"Z2\"))\n",
    "\n",
    "m1.addArc(0,1)\n",
    "m1.addArc(0,2)\n",
    "m1.addArc(2,3)\n",
    "m1.addArc(3,1)\n",
    "m1.addArc(2,1)\n",
    "d = csl.CausalModel(m1, [(\"l1\",[\"X\",\"Z1\"]) ,(\"l2\",[\"Y\",\"Z1\"])],True)\n",
    "cslnb.showCausalModel(d)"
   ]
  },
  {
   "cell_type": "code",
   "execution_count": 32,
   "metadata": {
    "ExecuteTime": {
     "end_time": "2019-01-16T15:24:03.448540Z",
     "start_time": "2019-01-16T15:24:03.438565Z"
    }
   },
   "outputs": [
    {
     "name": "stdout",
     "output_type": "stream",
     "text": [
      "Hedge exception : (\"Hedge Error: G={'Y', 'X', 'Z1'},G[S]={'Y', 'Z1'}\", {'Y', 'X', 'Z1'}, {'Y', 'Z1'})\n"
     ]
    }
   ],
   "source": [
    "try:\n",
    "    display(Math(csl.identifyingIntervention (d,{\"Y\"}, {\"X\"}).toLatex()))\n",
    "except csl.HedgeException as e:\n",
    "    print(\"Hedge exception : {}\".format(e))"
   ]
  }
 ],
 "metadata": {
  "anaconda-cloud": {},
  "hide_input": false,
  "kernelspec": {
   "display_name": "Python 3",
   "language": "python",
   "name": "python3"
  },
  "language_info": {
   "codemirror_mode": {
    "name": "ipython",
    "version": 3
   },
   "file_extension": ".py",
   "mimetype": "text/x-python",
   "name": "python",
   "nbconvert_exporter": "python",
   "pygments_lexer": "ipython3",
   "version": "3.7.1"
  },
  "toc": {
   "colors": {
    "hover_highlight": "#DAA520",
    "running_highlight": "#FF0000",
    "selected_highlight": "#FFD700"
   },
   "moveMenuLeft": true,
   "nav_menu": {
    "height": "193px",
    "width": "252px"
   },
   "navigate_menu": true,
   "number_sections": true,
   "sideBar": true,
   "threshold": 4,
   "toc_cell": false,
   "toc_section_display": "block",
   "toc_window_display": true,
   "widenNotebook": false
  }
 },
 "nbformat": 4,
 "nbformat_minor": 1
}
