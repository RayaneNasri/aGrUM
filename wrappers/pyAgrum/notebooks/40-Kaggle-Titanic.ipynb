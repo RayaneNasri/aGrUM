{
 "cells": [
  {
   "cell_type": "markdown",
   "metadata": {},
   "source": [
    "# Titanic: Machine Learning from Disaster\n",
    "\n",
    "This notebook is an introduction to the [Kaggle titanic challenge](https://www.kaggle.com/c/titanic). The goal here is not to produce the best possible classifier, at least not yet, but to show how pyAgrum and Bayesian Networks can be used to easily and quickly explore and understand data.\n",
    "\n",
    "To undestand this notebook, basic knowledge of Bayesian Networks is required. If you are looking for an introduction to pyAgrum, check [this notebook](http://www-desir.lip6.fr/~phw/aGrUM/docs/last/notebooks/01-tutorial.ipynb.html).\n",
    "\n",
    "The notebook is split in four sections:\n",
    "1. Pretreatment: where we mangle with the data.\n",
    "2. Pre-learning: where we define our learning parameters.\n",
    "3. Learning: where we learn a Bayesian Network.\n",
    "4. Classification: where we use the Bayesian Network as a class ifier.\n",
    "\n",
    "Before we start, some notes about aGrUM and pyAgrum. \n",
    "\n",
    "**aGrUM** is a C++ library designed for easily building applications using graphical models such as Bayesian networks, influence diagrams, decision trees or Markov decision processes. \n",
    "\n",
    "**pyAgrum** is a Python wrapper for the C++ aGrUM library. It provides a high-level interface to the part of aGrUM allowing to create, handle and make computations into Bayesian Networks. The module mainly is an application of the [SWIG](http://www.swig.org/) interface generator. Custom-written code is added to simplify and extend the aGrUM API.\n",
    "\n",
    "Both projects are [open source](https://gitlab.com/agrumery/aGrUM/blob/master/LICENSE) and can be freely downloaded from [aGrUM's gitlab repository](https://gitlab.com/agrumery/aGrUM) or installed using [pip or anaconda](http://agrum.gitlab.io/pages/pyagrum.html).\n",
    "\n",
    "If you have questions, remarks or suggestions, feel free to ask us on [info@agrum.org](mailto:info@agrum.org)."
   ]
  },
  {
   "cell_type": "markdown",
   "metadata": {},
   "source": [
    "## Pretreatment\n",
    "We will be using [pandas](http://pandas.pydata.org/) to setup the learning data to fit with pyAgrum requirements."
   ]
  },
  {
   "cell_type": "code",
   "execution_count": 1,
   "metadata": {
    "collapsed": true
   },
   "outputs": [],
   "source": [
    "import pandas\n",
    "import os"
   ]
  },
  {
   "cell_type": "code",
   "execution_count": 2,
   "metadata": {
    "collapsed": true
   },
   "outputs": [],
   "source": [
    "traindf=pandas.read_csv(os.path.join('res', 'titanic', 'train.csv'))\n",
    "\n",
    "testdf=pandas.merge(pandas.read_csv(os.path.join('res', 'titanic', 'test.csv')),\n",
    "                    pandas.read_csv(os.path.join('res', 'titanic', 'gender_submission.csv')),\n",
    "                    on=\"PassengerId\")"
   ]
  },
  {
   "cell_type": "markdown",
   "metadata": {},
   "source": [
    "This merges both the test base and their respective classes, i.e. if a passagen has survived or not."
   ]
  },
  {
   "cell_type": "code",
   "execution_count": 3,
   "metadata": {},
   "outputs": [
    {
     "data": {
      "text/plain": [
       "PassengerId    66231.000000\n",
       "Survived           0.236772\n",
       "Pclass             0.699015\n",
       "Age              211.019125\n",
       "SibSp              1.216043\n",
       "Parch              0.649728\n",
       "Fare            2469.436846\n",
       "dtype: float64"
      ]
     },
     "execution_count": 3,
     "metadata": {},
     "output_type": "execute_result"
    }
   ],
   "source": [
    "traindf.var()"
   ]
  },
  {
   "cell_type": "code",
   "execution_count": 4,
   "metadata": {},
   "outputs": [
    {
     "name": "stdout",
     "output_type": "stream",
     "text": [
      "PassengerId: 891\n",
      "Survived: 2\n",
      "Pclass: 3\n",
      "Name: 891\n",
      "Sex: 2\n",
      "Age: 89\n",
      "SibSp: 7\n",
      "Parch: 7\n",
      "Ticket: 681\n",
      "Fare: 248\n",
      "Cabin: 148\n",
      "Embarked: 4\n"
     ]
    }
   ],
   "source": [
    "for k in traindf.keys():\n",
    "    print('{0}: {1}'.format(k, len(traindf[k].unique())))"
   ]
  },
  {
   "cell_type": "markdown",
   "metadata": {},
   "source": [
    "Looking at the number of unique values for each variable necessary since Bayesian Networks are discrete models. We will want to reduce the domain size of some discrete varaibles (like age) and discretize continuous variables (like Fare).\n",
    "\n",
    "For starters you can filter out variables with a large number of values. Choosing a large number will have an impact on performances, which boils down to how much CPU and RAM you have at your disposal. Here, we choose to filter out any variable with more than 10 different outcomes."
   ]
  },
  {
   "cell_type": "code",
   "execution_count": 5,
   "metadata": {},
   "outputs": [
    {
     "name": "stdout",
     "output_type": "stream",
     "text": [
      "Survived\n",
      "Pclass\n",
      "Sex\n",
      "SibSp\n",
      "Parch\n",
      "Embarked\n"
     ]
    }
   ],
   "source": [
    "for k in traindf.keys():\n",
    "    if len(traindf[k].unique())<=15:\n",
    "        print(k)"
   ]
  },
  {
   "cell_type": "markdown",
   "metadata": {},
   "source": [
    "This leaves us with 6 variables, not much but still enough to learn a Bayesian Network. Will just add one more variable by reducing the cardinality of the Age variable."
   ]
  },
  {
   "cell_type": "code",
   "execution_count": 6,
   "metadata": {},
   "outputs": [
    {
     "name": "stdout",
     "output_type": "stream",
     "text": [
      "decade: 10\n"
     ]
    }
   ],
   "source": [
    "import math\n",
    "\n",
    "def forAge(row):\n",
    "    if row['Age'] < 10:\n",
    "        return '<10'\n",
    "    elif math.isnan(row['Age']):\n",
    "        return \"nan\"\n",
    "    else:\n",
    "        dec = str(int(row['Age']/10))\n",
    "        return \"{0}0's\".format(dec)\n",
    "\n",
    "decade=traindf.apply(forAge, axis=1)\n",
    "print(\"decade: {1}\".format(k, len(decade.unique())))"
   ]
  },
  {
   "cell_type": "markdown",
   "metadata": {},
   "source": [
    "When pretreating data, you will want to wrap your changes inside a function, this will help you keep track of your changes and easily compare them."
   ]
  },
  {
   "cell_type": "code",
   "execution_count": 7,
   "metadata": {
    "collapsed": true
   },
   "outputs": [],
   "source": [
    "import math\n",
    "def pretreat(df):\n",
    "    # create a df with discrete variables (len<10)\n",
    "    lvd=[k for k in df.keys() if len(df[k].unique())<=15]\n",
    "    res=df[lvd].copy()\n",
    "    \n",
    "    forAge = lambda row: \"{0}0th\".format(int(row['Age']/10)) if not math.isnan(row['Age']) else str(\"nan\")\n",
    "    res['decade']=df.apply(forAge, axis=1)\n",
    "   \n",
    "    return res"
   ]
  },
  {
   "cell_type": "code",
   "execution_count": 8,
   "metadata": {
    "collapsed": true
   },
   "outputs": [],
   "source": [
    "ptraindf=pretreat(traindf)\n",
    "ptestdf=pretreat(testdf)"
   ]
  },
  {
   "cell_type": "markdown",
   "metadata": {},
   "source": [
    "We will need to save this intermediate learning database, since pyAgrum accepts only files as inputs."
   ]
  },
  {
   "cell_type": "code",
   "execution_count": 9,
   "metadata": {
    "collapsed": true
   },
   "outputs": [],
   "source": [
    "ptraindf.to_csv(os.path.join('res', 'titanic', 'post_train.csv'), index=False)\n",
    "ptestdf.to_csv(os.path.join('res', 'titanic', 'post_test.csv'), index=False)"
   ]
  },
  {
   "cell_type": "markdown",
   "metadata": {},
   "source": [
    "## Pre-learning\n",
    "Now we have two data files: `data/post_train.csv` and `data/post_test.csv`. The first one is our pretreated learning database, the second our pretreated test base.\n",
    "\n",
    "Before learning a Bayesian Network, we first need to create a template. This is not mandatory, however it is sometimes usefull since not all varaibles values are present in the learning base (in this example the number of relatives).\n",
    "\n",
    "If during the learning step, the algorithm encounters an unknown value it will raise an error. This would be an issue if we wanted to automitize our classifier but, we will directly use values working with the test and learning base. This is not ideal but the objective here it to explore the data fast, not thoroughly."
   ]
  },
  {
   "cell_type": "code",
   "execution_count": 10,
   "metadata": {
    "collapsed": true
   },
   "outputs": [],
   "source": [
    "import pyAgrum as gum\n",
    "import pyAgrum.lib.notebook as gnb"
   ]
  },
  {
   "cell_type": "markdown",
   "metadata": {},
   "source": [
    "To help creating de the template Bayesian Network that we will use to learn our classifier, let us firt recall all the variables wa have at our disposal."
   ]
  },
  {
   "cell_type": "code",
   "execution_count": 11,
   "metadata": {},
   "outputs": [
    {
     "name": "stdout",
     "output_type": "stream",
     "text": [
      "Survived : [0 1]\n",
      "Pclass : [3 1 2]\n",
      "Sex : ['male' 'female']\n",
      "SibSp : [1 0 3 4 2 5 8]\n",
      "Parch : [0 1 2 5 3 4 6]\n",
      "Embarked : ['S' 'C' 'Q' nan]\n",
      "decade : ['20th' '30th' nan '50th' '00th' '10th' '40th' '60th' '70th' '80th']\n"
     ]
    }
   ],
   "source": [
    "df = pandas.read_csv(os.path.join('res', 'titanic', 'post_train.csv'))\n",
    "for k in df.keys():\n",
    "    print(\"{} : {}\".format(k, df[k].unique()))"
   ]
  },
  {
   "cell_type": "markdown",
   "metadata": {},
   "source": [
    "From here, creating the BayesNet is straitforward: for each variable we either use the `RangeVariable` class or the `LabelizedVariable`.\n",
    "\n",
    "The `RangeVariable` class creates a discrete random variable over a range. With the `LabelizedVariable` you will need to add each label ony by one. Note however that you can pass an argument to create as much labels starting from `0`."
   ]
  },
  {
   "cell_type": "code",
   "execution_count": 12,
   "metadata": {},
   "outputs": [
    {
     "data": {
      "text/html": [
       "<svg height=\"21pt\" viewBox=\"0.00 0.00 288.00 20.70\" width=\"288pt\" xmlns=\"http://www.w3.org/2000/svg\" xmlns:xlink=\"http://www.w3.org/1999/xlink\">\n",
       "<g class=\"graph\" id=\"graph0\" transform=\"scale(0.470363 0.470363) rotate(0) translate(4 40)\">\n",
       "<title>G</title>\n",
       "<!-- Survived -->\n",
       "<g class=\"node\" id=\"node1\"><title>Survived</title>\n",
       "<g id=\"a_node1\"><a xlink:title=\"(0) Survived\">\n",
       "<ellipse cx=\"42.2463\" cy=\"-18\" fill=\"#444444\" rx=\"42.4939\" ry=\"18\" stroke=\"black\"/>\n",
       "<text fill=\"#ffffff\" font-family=\"Times,serif\" font-size=\"14.00\" text-anchor=\"middle\" x=\"42.2463\" y=\"-14.3\">Survived</text>\n",
       "</a>\n",
       "</g>\n",
       "</g>\n",
       "<!-- Pclass -->\n",
       "<g class=\"node\" id=\"node2\"><title>Pclass</title>\n",
       "<g id=\"a_node2\"><a xlink:title=\"(1) Pclass\">\n",
       "<ellipse cx=\"135.246\" cy=\"-18\" fill=\"#444444\" rx=\"32.4942\" ry=\"18\" stroke=\"black\"/>\n",
       "<text fill=\"#ffffff\" font-family=\"Times,serif\" font-size=\"14.00\" text-anchor=\"middle\" x=\"135.246\" y=\"-14.3\">Pclass</text>\n",
       "</a>\n",
       "</g>\n",
       "</g>\n",
       "<!-- Sex -->\n",
       "<g class=\"node\" id=\"node3\"><title>Sex</title>\n",
       "<g id=\"a_node3\"><a xlink:title=\"(2) Sex\">\n",
       "<ellipse cx=\"212.246\" cy=\"-18\" fill=\"#444444\" rx=\"27\" ry=\"18\" stroke=\"black\"/>\n",
       "<text fill=\"#ffffff\" font-family=\"Times,serif\" font-size=\"14.00\" text-anchor=\"middle\" x=\"212.246\" y=\"-14.3\">Sex</text>\n",
       "</a>\n",
       "</g>\n",
       "</g>\n",
       "<!-- SibSp -->\n",
       "<g class=\"node\" id=\"node4\"><title>SibSp</title>\n",
       "<g id=\"a_node4\"><a xlink:title=\"(3) SibSp\">\n",
       "<ellipse cx=\"289.246\" cy=\"-18\" fill=\"#444444\" rx=\"31.6951\" ry=\"18\" stroke=\"black\"/>\n",
       "<text fill=\"#ffffff\" font-family=\"Times,serif\" font-size=\"14.00\" text-anchor=\"middle\" x=\"289.246\" y=\"-14.3\">SibSp</text>\n",
       "</a>\n",
       "</g>\n",
       "</g>\n",
       "<!-- Parch -->\n",
       "<g class=\"node\" id=\"node5\"><title>Parch</title>\n",
       "<g id=\"a_node5\"><a xlink:title=\"(4) Parch\">\n",
       "<ellipse cx=\"369.246\" cy=\"-18\" fill=\"#444444\" rx=\"30.5947\" ry=\"18\" stroke=\"black\"/>\n",
       "<text fill=\"#ffffff\" font-family=\"Times,serif\" font-size=\"14.00\" text-anchor=\"middle\" x=\"369.246\" y=\"-14.3\">Parch</text>\n",
       "</a>\n",
       "</g>\n",
       "</g>\n",
       "<!-- Embarked -->\n",
       "<g class=\"node\" id=\"node6\"><title>Embarked</title>\n",
       "<g id=\"a_node6\"><a xlink:title=\"(5) Embarked\">\n",
       "<ellipse cx=\"465.246\" cy=\"-18\" fill=\"#444444\" rx=\"47.3916\" ry=\"18\" stroke=\"black\"/>\n",
       "<text fill=\"#ffffff\" font-family=\"Times,serif\" font-size=\"14.00\" text-anchor=\"middle\" x=\"465.246\" y=\"-14.3\">Embarked</text>\n",
       "</a>\n",
       "</g>\n",
       "</g>\n",
       "<!-- Decade -->\n",
       "<g class=\"node\" id=\"node7\"><title>Decade</title>\n",
       "<g id=\"a_node7\"><a xlink:title=\"(6) Decade\">\n",
       "<ellipse cx=\"567.246\" cy=\"-18\" fill=\"#444444\" rx=\"37.0935\" ry=\"18\" stroke=\"black\"/>\n",
       "<text fill=\"#ffffff\" font-family=\"Times,serif\" font-size=\"14.00\" text-anchor=\"middle\" x=\"567.246\" y=\"-14.3\">Decade</text>\n",
       "</a>\n",
       "</g>\n",
       "</g>\n",
       "</g>\n",
       "</svg>"
      ],
      "text/plain": [
       "<IPython.core.display.HTML object>"
      ]
     },
     "metadata": {},
     "output_type": "display_data"
    }
   ],
   "source": [
    "template=gum.BayesNet()\n",
    "template.add(gum.RangeVariable(\"Survived\", \"Survived\",0,1))\n",
    "template.add(gum.RangeVariable(\"Pclass\", \"Pclass\",1,3))\n",
    "template.add(gum.LabelizedVariable(\"Sex\", \"Sex\",0).addLabel(\"female\").addLabel(\"male\"))\n",
    "template.add(gum.RangeVariable(\"SibSp\", \"SibSp\",0,8))\n",
    "template.add(gum.RangeVariable(\"Parch\", \"Parch\",0,9))\n",
    "template.add(gum.LabelizedVariable(\"Embarked\", \"Embarked\",0).addLabel('').addLabel('C').addLabel('Q').addLabel('S'))\n",
    "template.add(gum.LabelizedVariable(\"Decade\", \"Calculated decade\", 10).addLabel(''))\n",
    "gnb.showBN(template)"
   ]
  },
  {
   "cell_type": "markdown",
   "metadata": {},
   "source": [
    "You can also let the learning algorithm create the BayesNet random variables. However please be aware that the algorithm will no be able to handle values absent from the learning database."
   ]
  },
  {
   "cell_type": "markdown",
   "metadata": {},
   "source": [
    "## Learning\n",
    "\n",
    "We can now learn our first Bayesian Network. As you will see, this is really easy."
   ]
  },
  {
   "cell_type": "code",
   "execution_count": 13,
   "metadata": {
    "scrolled": false
   },
   "outputs": [
    {
     "data": {
      "text/html": [
       "<svg height=\"288pt\" viewBox=\"0.00 0.00 147.81 288.00\" width=\"148pt\" xmlns=\"http://www.w3.org/2000/svg\" xmlns:xlink=\"http://www.w3.org/1999/xlink\">\n",
       "<g class=\"graph\" id=\"graph0\" transform=\"scale(0.712871 0.712871) rotate(0) translate(4 400)\">\n",
       "<title>G</title>\n",
       "<!-- Survived -->\n",
       "<g class=\"node\" id=\"node1\"><title>Survived</title>\n",
       "<g id=\"a_node1\"><a xlink:title=\"(0) Survived\">\n",
       "<ellipse cx=\"77.4971\" cy=\"-162\" fill=\"#444444\" rx=\"42.4939\" ry=\"18\" stroke=\"black\"/>\n",
       "<text fill=\"#ffffff\" font-family=\"Times,serif\" font-size=\"14.00\" text-anchor=\"middle\" x=\"77.4971\" y=\"-158.3\">Survived</text>\n",
       "</a>\n",
       "</g>\n",
       "</g>\n",
       "<!-- Pclass -->\n",
       "<g class=\"node\" id=\"node2\"><title>Pclass</title>\n",
       "<g id=\"a_node2\"><a xlink:title=\"(1) Pclass\">\n",
       "<ellipse cx=\"32.4971\" cy=\"-18\" fill=\"#444444\" rx=\"32.4942\" ry=\"18\" stroke=\"black\"/>\n",
       "<text fill=\"#ffffff\" font-family=\"Times,serif\" font-size=\"14.00\" text-anchor=\"middle\" x=\"32.4971\" y=\"-14.3\">Pclass</text>\n",
       "</a>\n",
       "</g>\n",
       "</g>\n",
       "<!-- Survived&#45;&gt;Pclass -->\n",
       "<g class=\"edge\" id=\"edge4\"><title>Survived-&gt;Pclass</title>\n",
       "<g id=\"a_edge4\"><a xlink:title=\"(0, 1) : \">\n",
       "<path d=\"M52.4345,-147.363C38.4626,-138.249 22.3391,-124.845 14.4971,-108 5.13539,-87.8903 11.5032,-62.9988 19.1373,-44.6577\" fill=\"none\" stroke=\"black\"/>\n",
       "<polygon fill=\"black\" points=\"22.361,-46.0231 23.2921,-35.4692 15.9828,-43.1389 22.361,-46.0231\" stroke=\"black\"/>\n",
       "</a>\n",
       "</g>\n",
       "</g>\n",
       "<!-- SibSp -->\n",
       "<g class=\"node\" id=\"node4\"><title>SibSp</title>\n",
       "<g id=\"a_node4\"><a xlink:title=\"(3) SibSp\">\n",
       "<ellipse cx=\"167.497\" cy=\"-90\" fill=\"#444444\" rx=\"31.6951\" ry=\"18\" stroke=\"black\"/>\n",
       "<text fill=\"#ffffff\" font-family=\"Times,serif\" font-size=\"14.00\" text-anchor=\"middle\" x=\"167.497\" y=\"-86.3\">SibSp</text>\n",
       "</a>\n",
       "</g>\n",
       "</g>\n",
       "<!-- Survived&#45;&gt;SibSp -->\n",
       "<g class=\"edge\" id=\"edge6\"><title>Survived-&gt;SibSp</title>\n",
       "<g id=\"a_edge6\"><a xlink:title=\"(0, 3) : \">\n",
       "<path d=\"M97.0258,-145.811C110.077,-135.66 127.391,-122.194 141.591,-111.149\" fill=\"none\" stroke=\"black\"/>\n",
       "<polygon fill=\"black\" points=\"143.791,-113.872 149.536,-104.97 139.494,-108.346 143.791,-113.872\" stroke=\"black\"/>\n",
       "</a>\n",
       "</g>\n",
       "</g>\n",
       "<!-- Embarked -->\n",
       "<g class=\"node\" id=\"node6\"><title>Embarked</title>\n",
       "<g id=\"a_node6\"><a xlink:title=\"(5) Embarked\">\n",
       "<ellipse cx=\"70.4971\" cy=\"-90\" fill=\"#444444\" rx=\"47.3916\" ry=\"18\" stroke=\"black\"/>\n",
       "<text fill=\"#ffffff\" font-family=\"Times,serif\" font-size=\"14.00\" text-anchor=\"middle\" x=\"70.4971\" y=\"-86.3\">Embarked</text>\n",
       "</a>\n",
       "</g>\n",
       "</g>\n",
       "<!-- Survived&#45;&gt;Embarked -->\n",
       "<g class=\"edge\" id=\"edge3\"><title>Survived-&gt;Embarked</title>\n",
       "<g id=\"a_edge3\"><a xlink:title=\"(0, 5) : \">\n",
       "<path d=\"M75.7668,-143.697C74.9954,-135.983 74.0684,-126.712 73.2084,-118.112\" fill=\"none\" stroke=\"black\"/>\n",
       "<polygon fill=\"black\" points=\"76.6853,-117.706 72.2075,-108.104 69.72,-118.403 76.6853,-117.706\" stroke=\"black\"/>\n",
       "</a>\n",
       "</g>\n",
       "</g>\n",
       "<!-- Sex -->\n",
       "<g class=\"node\" id=\"node3\"><title>Sex</title>\n",
       "<g id=\"a_node3\"><a xlink:title=\"(2) Sex\">\n",
       "<ellipse cx=\"84.4971\" cy=\"-234\" fill=\"#444444\" rx=\"27\" ry=\"18\" stroke=\"black\"/>\n",
       "<text fill=\"#ffffff\" font-family=\"Times,serif\" font-size=\"14.00\" text-anchor=\"middle\" x=\"84.4971\" y=\"-230.3\">Sex</text>\n",
       "</a>\n",
       "</g>\n",
       "</g>\n",
       "<!-- Sex&#45;&gt;Survived -->\n",
       "<g class=\"edge\" id=\"edge7\"><title>Sex-&gt;Survived</title>\n",
       "<g id=\"a_edge7\"><a xlink:title=\"(2, 0) : \">\n",
       "<path d=\"M82.7668,-215.697C81.9954,-207.983 81.0684,-198.712 80.2084,-190.112\" fill=\"none\" stroke=\"black\"/>\n",
       "<polygon fill=\"black\" points=\"83.6853,-189.706 79.2075,-180.104 76.72,-190.403 83.6853,-189.706\" stroke=\"black\"/>\n",
       "</a>\n",
       "</g>\n",
       "</g>\n",
       "<!-- Parch -->\n",
       "<g class=\"node\" id=\"node5\"><title>Parch</title>\n",
       "<g id=\"a_node5\"><a xlink:title=\"(4) Parch\">\n",
       "<ellipse cx=\"119.497\" cy=\"-306\" fill=\"#444444\" rx=\"30.5947\" ry=\"18\" stroke=\"black\"/>\n",
       "<text fill=\"#ffffff\" font-family=\"Times,serif\" font-size=\"14.00\" text-anchor=\"middle\" x=\"119.497\" y=\"-302.3\">Parch</text>\n",
       "</a>\n",
       "</g>\n",
       "</g>\n",
       "<!-- Parch&#45;&gt;Sex -->\n",
       "<g class=\"edge\" id=\"edge8\"><title>Parch-&gt;Sex</title>\n",
       "<g id=\"a_edge8\"><a xlink:title=\"(4, 2) : \">\n",
       "<path d=\"M111.203,-288.411C107.062,-280.129 101.96,-269.925 97.3281,-260.662\" fill=\"none\" stroke=\"black\"/>\n",
       "<polygon fill=\"black\" points=\"100.335,-258.849 92.7321,-251.47 94.0738,-261.979 100.335,-258.849\" stroke=\"black\"/>\n",
       "</a>\n",
       "</g>\n",
       "</g>\n",
       "<!-- Parch&#45;&gt;SibSp -->\n",
       "<g class=\"edge\" id=\"edge1\"><title>Parch-&gt;SibSp</title>\n",
       "<g id=\"a_edge1\"><a xlink:title=\"(4, 3) : \">\n",
       "<path d=\"M123.344,-287.849C131.685,-250.662 151.488,-162.374 161.492,-117.772\" fill=\"none\" stroke=\"black\"/>\n",
       "<polygon fill=\"black\" points=\"164.925,-118.459 163.699,-107.935 158.095,-116.927 164.925,-118.459\" stroke=\"black\"/>\n",
       "</a>\n",
       "</g>\n",
       "</g>\n",
       "<!-- Embarked&#45;&gt;Pclass -->\n",
       "<g class=\"edge\" id=\"edge2\"><title>Embarked-&gt;Pclass</title>\n",
       "<g id=\"a_edge2\"><a xlink:title=\"(5, 1) : \">\n",
       "<path d=\"M61.2984,-72.055C56.8641,-63.8866 51.4491,-53.9116 46.5161,-44.8244\" fill=\"none\" stroke=\"black\"/>\n",
       "<polygon fill=\"black\" points=\"49.4581,-42.9077 41.6111,-35.789 43.3061,-46.2474 49.4581,-42.9077\" stroke=\"black\"/>\n",
       "</a>\n",
       "</g>\n",
       "</g>\n",
       "<!-- decade -->\n",
       "<g class=\"node\" id=\"node7\"><title>decade</title>\n",
       "<g id=\"a_node7\"><a xlink:title=\"(6) decade\">\n",
       "<ellipse cx=\"119.497\" cy=\"-378\" fill=\"#444444\" rx=\"35.194\" ry=\"18\" stroke=\"black\"/>\n",
       "<text fill=\"#ffffff\" font-family=\"Times,serif\" font-size=\"14.00\" text-anchor=\"middle\" x=\"119.497\" y=\"-374.3\">decade</text>\n",
       "</a>\n",
       "</g>\n",
       "</g>\n",
       "<!-- decade&#45;&gt;Parch -->\n",
       "<g class=\"edge\" id=\"edge5\"><title>decade-&gt;Parch</title>\n",
       "<g id=\"a_edge5\"><a xlink:title=\"(6, 4) : \">\n",
       "<path d=\"M119.497,-359.697C119.497,-351.983 119.497,-342.712 119.497,-334.112\" fill=\"none\" stroke=\"black\"/>\n",
       "<polygon fill=\"black\" points=\"122.997,-334.104 119.497,-324.104 115.997,-334.104 122.997,-334.104\" stroke=\"black\"/>\n",
       "</a>\n",
       "</g>\n",
       "</g>\n",
       "</g>\n",
       "</svg>"
      ],
      "text/plain": [
       "<pyAgrum.pyAgrum.BayesNet_double; proxy of <Swig Object of type 'gum::BayesNet< double > *' at 0x7fa08089ea20> >"
      ]
     },
     "execution_count": 13,
     "metadata": {},
     "output_type": "execute_result"
    }
   ],
   "source": [
    "learner = gum.BNLearner(os.path.join('res', 'titanic', 'post_train.csv'), template)\n",
    "bn = learner.learnBN()\n",
    "bn"
   ]
  },
  {
   "cell_type": "markdown",
   "metadata": {},
   "source": [
    "In a notebook, a Bayesian Network will automatically be shown graphically, you can also use the helper function `gnb.showBN(bn)`."
   ]
  },
  {
   "cell_type": "markdown",
   "metadata": {},
   "source": [
    "## Exploring the data\n",
    "Now that we have a BayesNet, we can start looking how the variables corelate with each other. pyAgum offer the perfect tool for that: the information graph."
   ]
  },
  {
   "cell_type": "code",
   "execution_count": 14,
   "metadata": {},
   "outputs": [
    {
     "data": {
      "text/html": [
       "<div align='center'><svg height=\"404pt\" viewBox=\"0.00 0.00 207.34 404.00\" width=\"207pt\" xmlns=\"http://www.w3.org/2000/svg\" xmlns:xlink=\"http://www.w3.org/1999/xlink\">\n",
       "<g class=\"graph\" id=\"graph0\" transform=\"scale(1 1) rotate(0) translate(4 400)\">\n",
       "<title>G</title>\n",
       "<!-- Survived -->\n",
       "<g class=\"node\" id=\"node1\"><title>Survived</title>\n",
       "<g id=\"a_node1\"><a xlink:title=\"(0) Survived : 0.96080\">\n",
       "<ellipse cx=\"77.4971\" cy=\"-162\" fill=\"#4e0305\" rx=\"42.4939\" ry=\"18\" stroke=\"black\"/>\n",
       "<text fill=\"#ffffff\" font-family=\"Times,serif\" font-size=\"14.00\" text-anchor=\"middle\" x=\"77.4971\" y=\"-158.3\">Survived</text>\n",
       "</a>\n",
       "</g>\n",
       "</g>\n",
       "<!-- Pclass -->\n",
       "<g class=\"node\" id=\"node2\"><title>Pclass</title>\n",
       "<g id=\"a_node2\"><a xlink:title=\"(1) Pclass : 1.43964\">\n",
       "<ellipse cx=\"32.4971\" cy=\"-18\" fill=\"#622a47\" rx=\"32.4942\" ry=\"18\" stroke=\"black\"/>\n",
       "<text fill=\"#ffffff\" font-family=\"Times,serif\" font-size=\"14.00\" text-anchor=\"middle\" x=\"32.4971\" y=\"-14.3\">Pclass</text>\n",
       "</a>\n",
       "</g>\n",
       "</g>\n",
       "<!-- Survived&#45;&gt;Pclass -->\n",
       "<g class=\"edge\" id=\"edge4\"><title>Survived-&gt;Pclass</title>\n",
       "<g id=\"a_edge4\"><a xlink:title=\"(0, 1) : 0.08367924601191316\">\n",
       "<path d=\"M52.4345,-147.363C38.4626,-138.249 22.3391,-124.845 14.4971,-108 5.13539,-87.8903 11.5032,-62.9988 19.1373,-44.6577\" fill=\"none\" stroke=\"black\" stroke-width=\"1.65325\"/>\n",
       "<polygon fill=\"black\" points=\"22.361,-46.0231 23.2921,-35.4692 15.9828,-43.1389 22.361,-46.0231\" stroke=\"black\" stroke-width=\"1.65325\"/>\n",
       "</a>\n",
       "</g>\n",
       "</g>\n",
       "<!-- SibSp -->\n",
       "<g class=\"node\" id=\"node4\"><title>SibSp</title>\n",
       "<g id=\"a_node4\"><a xlink:title=\"(3) SibSp : 1.36568\">\n",
       "<ellipse cx=\"167.497\" cy=\"-90\" fill=\"#5f243d\" rx=\"31.6951\" ry=\"18\" stroke=\"black\"/>\n",
       "<text fill=\"#ffffff\" font-family=\"Times,serif\" font-size=\"14.00\" text-anchor=\"middle\" x=\"167.497\" y=\"-86.3\">SibSp</text>\n",
       "</a>\n",
       "</g>\n",
       "</g>\n",
       "<!-- Survived&#45;&gt;SibSp -->\n",
       "<g class=\"edge\" id=\"edge6\"><title>Survived-&gt;SibSp</title>\n",
       "<g id=\"a_edge6\"><a xlink:title=\"(0, 3) : 0.029468123609304054\">\n",
       "<path d=\"M97.0258,-145.811C110.077,-135.66 127.391,-122.194 141.591,-111.149\" fill=\"none\" stroke=\"black\" stroke-width=\"0.253358\"/>\n",
       "<polygon fill=\"black\" points=\"143.791,-113.872 149.536,-104.97 139.494,-108.346 143.791,-113.872\" stroke=\"black\" stroke-width=\"0.253358\"/>\n",
       "</a>\n",
       "</g>\n",
       "</g>\n",
       "<!-- Embarked -->\n",
       "<g class=\"node\" id=\"node6\"><title>Embarked</title>\n",
       "<g id=\"a_node6\"><a xlink:title=\"(5) Embarked : 1.12038\">\n",
       "<ellipse cx=\"70.4971\" cy=\"-90\" fill=\"#54101b\" rx=\"47.3916\" ry=\"18\" stroke=\"black\"/>\n",
       "<text fill=\"#ffffff\" font-family=\"Times,serif\" font-size=\"14.00\" text-anchor=\"middle\" x=\"70.4971\" y=\"-86.3\">Embarked</text>\n",
       "</a>\n",
       "</g>\n",
       "</g>\n",
       "<!-- Survived&#45;&gt;Embarked -->\n",
       "<g class=\"edge\" id=\"edge3\"><title>Survived-&gt;Embarked</title>\n",
       "<g id=\"a_edge3\"><a xlink:title=\"(0, 5) : 0.023529301398958508\">\n",
       "<path d=\"M75.7668,-143.697C74.9954,-135.983 74.0684,-126.712 73.2084,-118.112\" fill=\"none\" stroke=\"black\" stroke-width=\"0.1\"/>\n",
       "<polygon fill=\"black\" points=\"76.6853,-117.706 72.2075,-108.104 69.72,-118.403 76.6853,-117.706\" stroke=\"black\" stroke-width=\"0.1\"/>\n",
       "</a>\n",
       "</g>\n",
       "</g>\n",
       "<!-- Sex -->\n",
       "<g class=\"node\" id=\"node3\"><title>Sex</title>\n",
       "<g id=\"a_node3\"><a xlink:title=\"(2) Sex : 0.93635\">\n",
       "<ellipse cx=\"84.4971\" cy=\"-234\" fill=\"#4d0102\" rx=\"27\" ry=\"18\" stroke=\"black\"/>\n",
       "<text fill=\"#ffffff\" font-family=\"Times,serif\" font-size=\"14.00\" text-anchor=\"middle\" x=\"84.4971\" y=\"-230.3\">Sex</text>\n",
       "</a>\n",
       "</g>\n",
       "</g>\n",
       "<!-- Sex&#45;&gt;Survived -->\n",
       "<g class=\"edge\" id=\"edge7\"><title>Sex-&gt;Survived</title>\n",
       "<g id=\"a_edge7\"><a xlink:title=\"(2, 0) : 0.21715541239879504\">\n",
       "<path d=\"M82.7668,-215.697C81.9954,-207.983 81.0684,-198.712 80.2084,-190.112\" fill=\"none\" stroke=\"black\" stroke-width=\"5.1\"/>\n",
       "<polygon fill=\"black\" points=\"84.643,-189.611 79.2075,-180.104 75.7623,-190.499 84.643,-189.611\" stroke=\"black\" stroke-width=\"5.1\"/>\n",
       "</a>\n",
       "</g>\n",
       "</g>\n",
       "<!-- Parch -->\n",
       "<g class=\"node\" id=\"node5\"><title>Parch</title>\n",
       "<g id=\"a_node5\"><a xlink:title=\"(4) Parch : 1.13637\">\n",
       "<ellipse cx=\"119.497\" cy=\"-306\" fill=\"#55111d\" rx=\"30.5947\" ry=\"18\" stroke=\"black\"/>\n",
       "<text fill=\"#ffffff\" font-family=\"Times,serif\" font-size=\"14.00\" text-anchor=\"middle\" x=\"119.497\" y=\"-302.3\">Parch</text>\n",
       "</a>\n",
       "</g>\n",
       "</g>\n",
       "<!-- Parch&#45;&gt;Sex -->\n",
       "<g class=\"edge\" id=\"edge8\"><title>Parch-&gt;Sex</title>\n",
       "<g id=\"a_edge8\"><a xlink:title=\"(4, 2) : 0.047228938295119906\">\n",
       "<path d=\"M111.203,-288.411C107.062,-280.129 101.96,-269.925 97.3281,-260.662\" fill=\"none\" stroke=\"black\" stroke-width=\"0.711995\"/>\n",
       "<polygon fill=\"black\" points=\"100.335,-258.849 92.7321,-251.47 94.0738,-261.979 100.335,-258.849\" stroke=\"black\" stroke-width=\"0.711995\"/>\n",
       "</a>\n",
       "</g>\n",
       "</g>\n",
       "<!-- Parch&#45;&gt;SibSp -->\n",
       "<g class=\"edge\" id=\"edge1\"><title>Parch-&gt;SibSp</title>\n",
       "<g id=\"a_edge1\"><a xlink:title=\"(4, 3) : 0.21195371835758875\">\n",
       "<path d=\"M123.344,-287.849C131.685,-250.662 151.488,-162.374 161.492,-117.772\" fill=\"none\" stroke=\"black\" stroke-width=\"4.96568\"/>\n",
       "<polygon fill=\"black\" points=\"165.749,-118.644 163.699,-107.935 157.27,-116.742 165.749,-118.644\" stroke=\"black\" stroke-width=\"4.96568\"/>\n",
       "</a>\n",
       "</g>\n",
       "</g>\n",
       "<!-- Embarked&#45;&gt;Pclass -->\n",
       "<g class=\"edge\" id=\"edge2\"><title>Embarked-&gt;Pclass</title>\n",
       "<g id=\"a_edge2\"><a xlink:title=\"(5, 1) : 0.10523655617315925\">\n",
       "<path d=\"M61.2984,-72.055C56.8641,-63.8866 51.4491,-53.9116 46.5161,-44.8244\" fill=\"none\" stroke=\"black\" stroke-width=\"2.20992\"/>\n",
       "<polygon fill=\"black\" points=\"49.4581,-42.9077 41.6111,-35.789 43.3061,-46.2474 49.4581,-42.9077\" stroke=\"black\" stroke-width=\"2.20992\"/>\n",
       "</a>\n",
       "</g>\n",
       "</g>\n",
       "<!-- decade -->\n",
       "<g class=\"node\" id=\"node7\"><title>decade</title>\n",
       "<g id=\"a_node7\"><a xlink:title=\"(6) decade : 2.77848\">\n",
       "<ellipse cx=\"119.497\" cy=\"-378\" fill=\"#9898fd\" rx=\"35.194\" ry=\"18\" stroke=\"black\"/>\n",
       "<text fill=\"#000000\" font-family=\"Times,serif\" font-size=\"14.00\" text-anchor=\"middle\" x=\"119.497\" y=\"-374.3\">decade</text>\n",
       "</a>\n",
       "</g>\n",
       "</g>\n",
       "<!-- decade&#45;&gt;Parch -->\n",
       "<g class=\"edge\" id=\"edge5\"><title>decade-&gt;Parch</title>\n",
       "<g id=\"a_edge5\"><a xlink:title=\"(6, 4) : 0.20931313785886463\">\n",
       "<path d=\"M119.497,-359.697C119.497,-351.983 119.497,-342.712 119.497,-334.112\" fill=\"none\" stroke=\"black\" stroke-width=\"4.89749\"/>\n",
       "<polygon fill=\"black\" points=\"123.783,-334.104 119.497,-324.104 115.212,-334.104 123.783,-334.104\" stroke=\"black\" stroke-width=\"4.89749\"/>\n",
       "</a>\n",
       "</g>\n",
       "</g>\n",
       "</g>\n",
       "</svg></div><div align='center'><font color='#4d0102'>0.9363497953477022</font><img style='vertical-align:middle' src='data:image/png;base64,iVBORw0KGgoAAAANSUhEUgAAAhsAAABRCAYAAAB7e2SeAAAABHNCSVQICAgIfAhkiAAAAAlwSFlz\n",
       "AAALEgAACxIB0t1+/AAACKRJREFUeJzt3X+IZWUdx/H3J1dJy2p1s8wf/QAhCsyWEDWzLcJMCPsF\n",
       "GWYmURYUWRRIf5jmPxFRUGASJbJhCqWuVv4EhSRTUlt31S01WUyTZDXUtaVll29/3DPbbfbembOz\n",
       "98ydnfN+wTD3Ps9zz33O9z7zne+cc+eeVBWSJEldedm0JyBJkpY3iw1JktQpiw1JktQpiw1JktQp\n",
       "iw1JktQpiw1JktQpiw1JktQpiw1JktQpiw1JktSpFXsy+LCkts87Kq2aM27cXA+e9yFzD9jVm7bP\n",
       "3W5fWkysGTWZ/fjfsAXEcPa9Be7L0n1N9mw77R62ODHZfS4LjMnYh01hnS70ddnb555QDHd/9Hzb\n",
       "m+xrMRg6a622fe6xzQuLyfjXZNL5au79yHzj2mxzQvsy7ddk4TFp+zM+/6Annrjvlqo6bb6t7FGx\n",
       "sR04ZdeCmZnsTND///7Y9l3JZHb73m9zV39nc1zq29sX5rjUt7f32+zbOtx9f5feHPe97e0Lc1xa\n",
       "2+vjOpx0rllIDM87L6towdMokiSpUxYbkiSpUxYbkiSpUxYbkiSpUxYbkiSpUxYbkiSpUxYbkiSp\n",
       "UxYbkiSpUxYbkiSpUxYbkiSpUxYbkiSpUxYbkiSpUxYbkiSpUxYbkiSpUxYbkiSpUxYbkiSpUxYb\n",
       "kiSpUxYbkiSpUxYbkiSpUxYbkiSpUxYbkiSpUxYbkiSpUxYbkiSpUxYbkiSpUxYbkiSpUxYbkiSp\n",
       "UxYbkiSpUxYbkiSpUxYbkiSpUxYbkiSpUxYbkiSpU6mq9oOTm4FVE3jeVcCWCWxnuTEuoxmX8YzN\n",
       "aMZlNOMynrEZbb64bKmq0+bbyB4VG5OS5N6qeteiP/ESZ1xGMy7jGZvRjMtoxmU8YzPapOLiaRRJ\n",
       "ktQpiw1JktSpaRUbP53S8y51xmU04zKesRnNuIxmXMYzNqNNJC5Tec+GJEnqD0+jSJKkTk202Ehy\n",
       "eZJnkjw4pj9JfpTksSQbkqwe6jsnyaPN1zmTnNe0tYjLWU08Nia5K8k7hvo2N+3rk9y7eLPuXou4\n",
       "rEnyfLPv65NcONR3WpK/NmvpgsWb9eJoEZtvDsXlwSQ7kxzS9C3nNXNUkjuSPJzkoSRfHTGmd3mm\n",
       "ZVx6l2daxqWXeaZlbCaXZ6pqYl/AKcBq4MEx/acDNwEBTgDuadoPAR5vvq9sbq+c5Nym+dUiLifN\n",
       "7C/woZm4NPc3A6umvQ9Tissa4Lcj2vcD/ga8BTgAeAB427T3ZzFjM2vsh4Hbe7JmDgdWN7cPBh6Z\n",
       "/dr3Mc+0jEvv8kzLuPQyz7SJzazxe5VnJnpko6p+Dzw3x5AzgLU1cDfwmiSHAx8Ebquq56rqX8Bt\n",
       "wLwfErKvmC8uVXVXs98AdwNHLsrEpqzFehnneOCxqnq8qrYDVzNYW8vGHsbmU8BVHU5nyaiqp6vq\n",
       "/ub2i8Am4IhZw3qXZ9rEpY95puV6GWdZ55kFxGav8sxiv2fjCODvQ/efbNrGtffR5xj8VTajgFuT\n",
       "3JfkC1Oa0zSdmOSBJDcleXvT5nppJDmIwS/Ma4aae7FmkrwJeCdwz6yuXueZOeIyrHd5Zp649DrP\n",
       "zLdmJpFnVuz9NDUpSd7HIAmcPNR8clU9leQw4LYkf2n+6u2D+4E3VtXWJKcD64BjpjynpebDwB+q\n",
       "avgoyLJfM0leySDxnV9VL0x7PktFm7j0Mc/ME5de55mWP0t7nWcW+8jGU8BRQ/ePbNrGtfdGkmOB\n",
       "nwFnVNWzM+1V9VTz/RngOgaH9nqhql6oqq3N7RuB/ZOswvUy7ExmHdpc7msmyf4MkuOVVXXtiCG9\n",
       "zDMt4tLLPDNfXPqcZ9qsmcZe55nFLjZuAD7TvFv8BOD5qnoauAU4NcnKJCuBU5u2XkhyNHAtcHZV\n",
       "PTLU/ookB8/cZhCXkf+dsBwleX2SNLePZ7BenwX+BByT5M1JDmDwg3DD9GY6HUleDbwXuH6obVmv\n",
       "mWY9/BzYVFU/GDOsd3mmTVz6mGdaxqWXeablz9LE8sxET6MkuYrBO3tXJXkS+DawP0BVXQbcyOCd\n",
       "4o8B/wbObfqeS3IJgxcX4DuzDtfs01rE5ULgUODSZs3vqMGFb14HXNe0rQB+WVU3L/oOdKRFXD4B\n",
       "fCnJDmAbcGYN3ga9I8mXGfyi2A+4vKoemsIudKZFbAA+CtxaVS8NPXRZrxng3cDZwMYk65u2bwFH\n",
       "Q6/zTJu49DHPtIlLX/NMm9jAhPKMnyAqSZI65SeISpKkTllsSJKkTllsSJKkTllsSJKkTllsSJKk\n",
       "TvkJolKPJNkJbBxqurqqvjvH+DXA9qq6q+u5SVq+LDakftlWVcftwfg1wFZgt2IjyYqq2jGpiUla\n",
       "vjyNIokkm5NcnOT+JBuTvLW5ONMXga8lWZ/kPUmuSHJZknuA7yU5JMm6JBuS3N18HDZJLkryiyR/\n",
       "TPJoks837WuTfGToea9MsmyupClpNIsNqV8ObAqHma9PDvVtqarVwE+Ab1TVZuAy4IdVdVxV3dmM\n",
       "OxI4qaq+DlwM/LmqjmXw6YNrh7Z3LPB+4ETgwiRvYPDxyJ+FXR+DfBLwu472VdIS4WkUqV/mOo0y\n",
       "cyGm+4CPzbGNX1XVzub2ycDHAarq9iSHJnlV03d9VW0DtiW5Azi+qtYluTTJa5vHXeOpGGn5s9iQ\n",
       "NOM/zfedzJ0bXpqjb9jsayHM3F8LfJrBha3ObT07SfssT6NImsuLwMFz9N8JnAW7/nNlS1W90PSd\n",
       "keTlSQ5l8EbTmQugXQGcD1BVD09+ypKWGo9sSP1y4NAVHgFurqoL5hj/G+DXzZs4vzKi/yLg8iQb\n",
       "GFxh9Zyhvg3AHcAq4JKq+gdAVf0zySZg3cJ3Q9K+xKu+Spq4JBcBW6vq+yP6DmLwWR+rq+r5xZ6b\n",
       "pMXnaRRJiybJB4BNwI8tNKT+8MiGJEnqlEc2JElSpyw2JElSpyw2JElSpyw2JElSpyw2JElSpyw2\n",
       "JElSp/4LcjTTYSJpCDYAAAAASUVORK5CYII=\n",
       "'><font color='#9898fd'>2.7784812428636143</font></div>"
      ],
      "text/plain": [
       "<IPython.core.display.HTML object>"
      ]
     },
     "metadata": {},
     "output_type": "display_data"
    }
   ],
   "source": [
    "gnb.showInformation(bn,{},size=\"20\")"
   ]
  },
  {
   "cell_type": "markdown",
   "metadata": {},
   "source": [
    "To read this graph, you must understand what the entropy of a variable means: the hightest the value the more uncertain the variable marginal probability distrubition is (maximum entropy beging the equiprobable law). The lowest the value is, the more /certain/ the law is.\n",
    "\n",
    "A consequence of how entropy is calculated, is that entropy tends to get bigger if the random varaible has many modalities.\n",
    "\n",
    "What the information graph tells us is that the `decade` variable has a hight entropy. Thus, we can conclude that the passengers `decade` is distributed between all of its modalities.\n",
    "\n",
    "What it also tells us, it that high modality variables with low entropy, such as `Parch` or `SibSp`, are not evenly distributed.\n",
    "\n",
    "Let us look at he variables marginal probability by using the `showInference()` function."
   ]
  },
  {
   "cell_type": "code",
   "execution_count": 15,
   "metadata": {
    "scrolled": false
   },
   "outputs": [
    {
     "data": {
      "image/png": "[encoded data removed]"
     },
     "metadata": {},
     "output_type": "display_data"
    }
   ],
   "source": [
    "gnb.showInference(bn)"
   ]
  },
  {
   "cell_type": "markdown",
   "metadata": {},
   "source": [
    "The `showInference()` is really usefull as it shows the marginal probability distribution for each random variable of a BayesNet.\n",
    "\n",
    "We can now confirm what the entropy learned us: `Parch` and `SibSp` are unevenly distributed and `decade` is more evenly distributed.\n",
    "\n",
    "Lets focus on the Kaggle challenge now, and look at the `Survived` variable. We show a single posterior using the `showPosterior()` function."
   ]
  },
  {
   "cell_type": "code",
   "execution_count": 16,
   "metadata": {},
   "outputs": [
    {
     "data": {
      "image/png": "[encoded data removed]",
      "text/plain": [
       "<matplotlib.figure.Figure at 0x7fa00e73b048>"
      ]
     },
     "metadata": {},
     "output_type": "display_data"
    }
   ],
   "source": [
    "gnb.showPosterior(bn,evs={},target='Survived')"
   ]
  },
  {
   "cell_type": "markdown",
   "metadata": {},
   "source": [
    "So almost 38% of the passenger in our learning database survived.\n",
    "\n",
    "So how can we use this BayesNet as a classifier ? Given a set of evidence, we can infer an update posterio distribution of the target variable `Survived`.\n",
    "\n",
    "Lets look at the odds of surviving as a man in his thirties."
   ]
  },
  {
   "cell_type": "code",
   "execution_count": 17,
   "metadata": {},
   "outputs": [
    {
     "data": {
      "image/png": "[encoded data removed]",
      "text/plain": [
       "<matplotlib.figure.Figure at 0x7fa00e6c6860>"
      ]
     },
     "metadata": {},
     "output_type": "display_data"
    }
   ],
   "source": [
    "gnb.showPosterior(bn,evs={\"Sex\": \"male\", \"decade\": 3},target='Survived')"
   ]
  },
  {
   "cell_type": "markdown",
   "metadata": {},
   "source": [
    "And now the odds of an old lady to survive."
   ]
  },
  {
   "cell_type": "code",
   "execution_count": 18,
   "metadata": {},
   "outputs": [
    {
     "data": {
      "image/png": "[encoded data removed]",
      "text/plain": [
       "<matplotlib.figure.Figure at 0x7fa068a53b70>"
      ]
     },
     "metadata": {},
     "output_type": "display_data"
    }
   ],
   "source": [
    "gnb.showPosterior(bn,evs={\"Sex\": \"female\", \"decade\": 8},target='Survived')"
   ]
  },
  {
   "cell_type": "markdown",
   "metadata": {},
   "source": [
    "Well, children and ladies first, that's right ?\n",
    "\n",
    "One last information we will need is which variables are required to predict the `Survived` variable. To do, we will use the markov blanket of `Survived`.\n",
    "\n"
   ]
  },
  {
   "cell_type": "code",
   "execution_count": 19,
   "metadata": {},
   "outputs": [
    {
     "data": {
      "text/html": [
       "<table style=\"border-style: hidden; border-collapse: collapse;\" width=\"100%\"><tr><td style=\"border-top:hidden;border-bottom:hidden;\"><div align=\"center\"><svg height=\"288pt\" viewBox=\"0.00 0.00 147.81 288.00\" width=\"148pt\" xmlns=\"http://www.w3.org/2000/svg\" xmlns:xlink=\"http://www.w3.org/1999/xlink\">\n",
       "<g class=\"graph\" id=\"graph0\" transform=\"scale(0.712871 0.712871) rotate(0) translate(4 400)\">\n",
       "<title>G</title>\n",
       "<!-- Survived -->\n",
       "<g class=\"node\" id=\"node1\"><title>Survived</title>\n",
       "<g id=\"a_node1\"><a xlink:title=\"(0) Survived\">\n",
       "<ellipse cx=\"77.4971\" cy=\"-162\" fill=\"#444444\" rx=\"42.4939\" ry=\"18\" stroke=\"black\"/>\n",
       "<text fill=\"#ffffff\" font-family=\"Times,serif\" font-size=\"14.00\" text-anchor=\"middle\" x=\"77.4971\" y=\"-158.3\">Survived</text>\n",
       "</a>\n",
       "</g>\n",
       "</g>\n",
       "<!-- Pclass -->\n",
       "<g class=\"node\" id=\"node2\"><title>Pclass</title>\n",
       "<g id=\"a_node2\"><a xlink:title=\"(1) Pclass\">\n",
       "<ellipse cx=\"32.4971\" cy=\"-18\" fill=\"#444444\" rx=\"32.4942\" ry=\"18\" stroke=\"black\"/>\n",
       "<text fill=\"#ffffff\" font-family=\"Times,serif\" font-size=\"14.00\" text-anchor=\"middle\" x=\"32.4971\" y=\"-14.3\">Pclass</text>\n",
       "</a>\n",
       "</g>\n",
       "</g>\n",
       "<!-- Survived&#45;&gt;Pclass -->\n",
       "<g class=\"edge\" id=\"edge4\"><title>Survived-&gt;Pclass</title>\n",
       "<g id=\"a_edge4\"><a xlink:title=\"(0, 1) : \">\n",
       "<path d=\"M52.4345,-147.363C38.4626,-138.249 22.3391,-124.845 14.4971,-108 5.13539,-87.8903 11.5032,-62.9988 19.1373,-44.6577\" fill=\"none\" stroke=\"black\"/>\n",
       "<polygon fill=\"black\" points=\"22.361,-46.0231 23.2921,-35.4692 15.9828,-43.1389 22.361,-46.0231\" stroke=\"black\"/>\n",
       "</a>\n",
       "</g>\n",
       "</g>\n",
       "<!-- SibSp -->\n",
       "<g class=\"node\" id=\"node4\"><title>SibSp</title>\n",
       "<g id=\"a_node4\"><a xlink:title=\"(3) SibSp\">\n",
       "<ellipse cx=\"167.497\" cy=\"-90\" fill=\"#444444\" rx=\"31.6951\" ry=\"18\" stroke=\"black\"/>\n",
       "<text fill=\"#ffffff\" font-family=\"Times,serif\" font-size=\"14.00\" text-anchor=\"middle\" x=\"167.497\" y=\"-86.3\">SibSp</text>\n",
       "</a>\n",
       "</g>\n",
       "</g>\n",
       "<!-- Survived&#45;&gt;SibSp -->\n",
       "<g class=\"edge\" id=\"edge6\"><title>Survived-&gt;SibSp</title>\n",
       "<g id=\"a_edge6\"><a xlink:title=\"(0, 3) : \">\n",
       "<path d=\"M97.0258,-145.811C110.077,-135.66 127.391,-122.194 141.591,-111.149\" fill=\"none\" stroke=\"black\"/>\n",
       "<polygon fill=\"black\" points=\"143.791,-113.872 149.536,-104.97 139.494,-108.346 143.791,-113.872\" stroke=\"black\"/>\n",
       "</a>\n",
       "</g>\n",
       "</g>\n",
       "<!-- Embarked -->\n",
       "<g class=\"node\" id=\"node6\"><title>Embarked</title>\n",
       "<g id=\"a_node6\"><a xlink:title=\"(5) Embarked\">\n",
       "<ellipse cx=\"70.4971\" cy=\"-90\" fill=\"#444444\" rx=\"47.3916\" ry=\"18\" stroke=\"black\"/>\n",
       "<text fill=\"#ffffff\" font-family=\"Times,serif\" font-size=\"14.00\" text-anchor=\"middle\" x=\"70.4971\" y=\"-86.3\">Embarked</text>\n",
       "</a>\n",
       "</g>\n",
       "</g>\n",
       "<!-- Survived&#45;&gt;Embarked -->\n",
       "<g class=\"edge\" id=\"edge3\"><title>Survived-&gt;Embarked</title>\n",
       "<g id=\"a_edge3\"><a xlink:title=\"(0, 5) : \">\n",
       "<path d=\"M75.7668,-143.697C74.9954,-135.983 74.0684,-126.712 73.2084,-118.112\" fill=\"none\" stroke=\"black\"/>\n",
       "<polygon fill=\"black\" points=\"76.6853,-117.706 72.2075,-108.104 69.72,-118.403 76.6853,-117.706\" stroke=\"black\"/>\n",
       "</a>\n",
       "</g>\n",
       "</g>\n",
       "<!-- Sex -->\n",
       "<g class=\"node\" id=\"node3\"><title>Sex</title>\n",
       "<g id=\"a_node3\"><a xlink:title=\"(2) Sex\">\n",
       "<ellipse cx=\"84.4971\" cy=\"-234\" fill=\"#444444\" rx=\"27\" ry=\"18\" stroke=\"black\"/>\n",
       "<text fill=\"#ffffff\" font-family=\"Times,serif\" font-size=\"14.00\" text-anchor=\"middle\" x=\"84.4971\" y=\"-230.3\">Sex</text>\n",
       "</a>\n",
       "</g>\n",
       "</g>\n",
       "<!-- Sex&#45;&gt;Survived -->\n",
       "<g class=\"edge\" id=\"edge7\"><title>Sex-&gt;Survived</title>\n",
       "<g id=\"a_edge7\"><a xlink:title=\"(2, 0) : \">\n",
       "<path d=\"M82.7668,-215.697C81.9954,-207.983 81.0684,-198.712 80.2084,-190.112\" fill=\"none\" stroke=\"black\"/>\n",
       "<polygon fill=\"black\" points=\"83.6853,-189.706 79.2075,-180.104 76.72,-190.403 83.6853,-189.706\" stroke=\"black\"/>\n",
       "</a>\n",
       "</g>\n",
       "</g>\n",
       "<!-- Parch -->\n",
       "<g class=\"node\" id=\"node5\"><title>Parch</title>\n",
       "<g id=\"a_node5\"><a xlink:title=\"(4) Parch\">\n",
       "<ellipse cx=\"119.497\" cy=\"-306\" fill=\"#444444\" rx=\"30.5947\" ry=\"18\" stroke=\"black\"/>\n",
       "<text fill=\"#ffffff\" font-family=\"Times,serif\" font-size=\"14.00\" text-anchor=\"middle\" x=\"119.497\" y=\"-302.3\">Parch</text>\n",
       "</a>\n",
       "</g>\n",
       "</g>\n",
       "<!-- Parch&#45;&gt;Sex -->\n",
       "<g class=\"edge\" id=\"edge8\"><title>Parch-&gt;Sex</title>\n",
       "<g id=\"a_edge8\"><a xlink:title=\"(4, 2) : \">\n",
       "<path d=\"M111.203,-288.411C107.062,-280.129 101.96,-269.925 97.3281,-260.662\" fill=\"none\" stroke=\"black\"/>\n",
       "<polygon fill=\"black\" points=\"100.335,-258.849 92.7321,-251.47 94.0738,-261.979 100.335,-258.849\" stroke=\"black\"/>\n",
       "</a>\n",
       "</g>\n",
       "</g>\n",
       "<!-- Parch&#45;&gt;SibSp -->\n",
       "<g class=\"edge\" id=\"edge1\"><title>Parch-&gt;SibSp</title>\n",
       "<g id=\"a_edge1\"><a xlink:title=\"(4, 3) : \">\n",
       "<path d=\"M123.344,-287.849C131.685,-250.662 151.488,-162.374 161.492,-117.772\" fill=\"none\" stroke=\"black\"/>\n",
       "<polygon fill=\"black\" points=\"164.925,-118.459 163.699,-107.935 158.095,-116.927 164.925,-118.459\" stroke=\"black\"/>\n",
       "</a>\n",
       "</g>\n",
       "</g>\n",
       "<!-- Embarked&#45;&gt;Pclass -->\n",
       "<g class=\"edge\" id=\"edge2\"><title>Embarked-&gt;Pclass</title>\n",
       "<g id=\"a_edge2\"><a xlink:title=\"(5, 1) : \">\n",
       "<path d=\"M61.2984,-72.055C56.8641,-63.8866 51.4491,-53.9116 46.5161,-44.8244\" fill=\"none\" stroke=\"black\"/>\n",
       "<polygon fill=\"black\" points=\"49.4581,-42.9077 41.6111,-35.789 43.3061,-46.2474 49.4581,-42.9077\" stroke=\"black\"/>\n",
       "</a>\n",
       "</g>\n",
       "</g>\n",
       "<!-- decade -->\n",
       "<g class=\"node\" id=\"node7\"><title>decade</title>\n",
       "<g id=\"a_node7\"><a xlink:title=\"(6) decade\">\n",
       "<ellipse cx=\"119.497\" cy=\"-378\" fill=\"#444444\" rx=\"35.194\" ry=\"18\" stroke=\"black\"/>\n",
       "<text fill=\"#ffffff\" font-family=\"Times,serif\" font-size=\"14.00\" text-anchor=\"middle\" x=\"119.497\" y=\"-374.3\">decade</text>\n",
       "</a>\n",
       "</g>\n",
       "</g>\n",
       "<!-- decade&#45;&gt;Parch -->\n",
       "<g class=\"edge\" id=\"edge5\"><title>decade-&gt;Parch</title>\n",
       "<g id=\"a_edge5\"><a xlink:title=\"(6, 4) : \">\n",
       "<path d=\"M119.497,-359.697C119.497,-351.983 119.497,-342.712 119.497,-334.112\" fill=\"none\" stroke=\"black\"/>\n",
       "<polygon fill=\"black\" points=\"122.997,-334.104 119.497,-324.104 115.997,-334.104 122.997,-334.104\" stroke=\"black\"/>\n",
       "</a>\n",
       "</g>\n",
       "</g>\n",
       "</g>\n",
       "</svg></div></td><td style=\"border-top:hidden;border-bottom:hidden;\"><div align=\"center\"><img style=\"margin:0\" src=\"data:image/png;base64,iVBORw0KGgoAAAANSUhEUgAAAPAAAAGACAYAAACTAO/nAAAABmJLR0QA/wD/AP+gvaeTAAAgAElE\n",
       "QVR4nO2dd5xU1fn/37MsLL2IgCgi0tSI2JVgASJ2UGNsJEaNJrEEC7FGY0lijEZjTDTFr8Yaf5aY\n",
       "WNOsoBgbasSoiL0jaEQpUvf8/vjcyc4us23m3HvunXner9e8ts2e+8zceU55KhiGYRiGYRiGYRhG\n",
       "dZALLYCRaWqAwcDI6DEM6AesAwwAugJ10dc8i4BVwOfAh8CC6OvrwFzgFWBeMuJnH1Ngoz10ByYA\n",
       "Y6LHtkAP4H2keG/QoJQLgP8C9cASYAUNCt0RWAsp+wBgIA2TQF9gPvBk9JgJ/AtYmcDryxymwEZr\n",
       "DAYOAvYEdgQ+Rkr1BPAU8Dyw2OP1+gJbA9tHjx2ADsADwN+APwOferyeYVQcXYFvAzPQdvcR4FRg\n",
       "dABZatHEcT7wH2AZcAewH1JswzAi1gUuQKvsXOAHwAZBJVqTLYBLgI/Qlv0ktI03jKqlD3ARsBS4\n",
       "H5iEDFRppjNwJDAbnZlPBDoFlcgwEiYHfBcZmx5DW9WskQMOBl5Fluzdw4pjGMkwDJiOrMYHhRXF\n",
       "Cx2BU5DF+zqgV1BpDCNG9kaW3OvR9rmSGIaMb3OBUYFlMQzvnIrOut8JLUiM1AK/QEEjeweWxTC8\n",
       "cR6wEPlWq4Fvoclq/9CCGEa5nAJ8goIkqokpwBfAxNCCGEap7Io+xOMDyxGK45GlfXhoQQyjvayF\n",
       "gh6+F1qQwFwNPE76/duG0YirkVW22uPeewDvAseEFsQw2spwlAW0SRljbABci7KB/gLcjBIKphJP\n",
       "LHJ/tFuojWHsKShVsS6GsQ3DO79GSlcuPZDfuEv0c1fgVuB0D2MXUgOcgNw/cShZBxStdUQMYxuG\n",
       "V2pQTu4eHsaqQwpcqFRDUXaQ75Wyc5Fr+eRMFO9tGKlmC5R616W1J7aBYgrcAxnHfCtasWv5ZBtk\n",
       "ke8c0/iJYha5ymUb4Fn0YY1r/HdRvjDALii173vA74CvouygY1Hy/zhgDnAV+twdiKLCfgk8yJrn\n",
       "9I2Ae1CSwsv48+M+h6qEfMnTeIYRC2cBt3saK78qdkOx05OQYuXDMTtFP+dXtd6oxE4nYGOUYDAF\n",
       "2ArYDTgU+WZB59IZwJUF11oEnBGNA1L25/C3XX8D2MvTWIYRCxcB13gaqw6t5A6FJs5GubiFrqmN\n",
       "oq+1qPzOwuj/8sqf38p3QCvywIL/zdfKguJb6G6oyICvbfWzaELJPHGY6o108CkqEueLZWhFXN7M\n",
       "399EKyUoYMI1+Xt99LUWZQwVFqlb2sq1V+HXZdUXhZVmHjsDVy7zgEEJXasGpSY+D/wJrZbNka9S\n",
       "uW+T329BMsEmHVElzIooXWsKXLk8gZSip4ex6pByNbcK1qJys8PQdnef6Hd9aTgX5z9rK4EbULrf\n",
       "CSgz6ixUMM8VPK/wWh2ajFEO26Pglpc9jGUYsfIe5afSDQJ+hRTvV8DYIs/JAWcDn6HSPDujMrD/\n",
       "An6Ott1n03Du7QxcitxQ7yBFzk8Q06Ln/xTYMHpcEP0ub/gqh/OBuz2MYxixcz5y0RiiDpUQ+mpo\n",
       "QQyjLayLVq4xoQVJCcchF5LVkzYyw4XIuNQxtCCBGYBygg9s7YmGkSa6olXnR6EFCUgNOvf+LbQg\n",
       "hlEKW6L+RQeHFiQQFwBvo1XYMDLJ15H/dc/QgiTMqaiV6RahBTGMcjkSRT0dEFqQBMgB56KQzmKu\n",
       "L8PIJIcgJf4plWuN7YEiwj5EPYwNo6LYGngLeAgl5lcSY1Ha4mPIjWYYFclaKKRxCXAy2e/s1weV\n",
       "EFqGLO5Zfz2G0Sb2QLm8bwDfIHvx8V2A02josLhZWHEMI3k6ojajHwCvoWJ1vVv8j/D0R3K+jxIT\n",
       "DsRK5xpVThfgaOAllE/8e9QzOC2K0QmlId6GtsozUFxz1nYNhhErOdSO5QZU3uYt4ApUSqdbwrKs\n",
       "jXzYN6Ik/A+By1BwStWTlpnVSC9dUYvOPaNHH1Sf6snoMRudoVd4uFZ3VEVkK5S3uz2wKdrW/x34\n",
       "K7Kcr/ZwrYrAFNhoDzlkJBqLlGs7YORmm21WM3fu3LeWL1/+Gqp0sQCdpxejPOLFBWP0Qlvevugc\n",
       "2w9YD3WRGIS2xi+gyeEpZJh6I/ZXllFMgY2yuOqqqwYMHz78zWuuuea8G2+8cQWKN14HKWZnGoxh\n",
       "3ZDLqh6dZVeh4nLzUGL/q8BclOBfj2EY8TNjxoyzpk+f/lQ7/+0M4N445Kk2zHpnlMysWbM6OueO\n",
       "yeVyl7TzX19ANbCMMjEFNkpmyZIlU4DV9fX17W2gNhtYHxnEjDIwBTZKxjl3Ui6Xu3zChAmrWn92\n",
       "I95FfuZRMYhVVZgCGyUxffr0CcDw+vr6P5Q4xH+wsMeyMQU2SmWac+6aCRMmLCzx/2djClw21lrF\n",
       "aDczZswY4Zzbo76+vmlHwfbwAnCYL5mqFVuBjXZTX19/InDPLrvs8noZw7yAVmCLRSgDW4GNdvHo\n",
       "o4/2Wb169eHOuXJra72AQic3QLHWRgnYCmy0i1WrVh2dy+VemTBhwswyh8onSZg/uAxMgY02M2vW\n",
       "rI65XO441NfIB/lttFEipsBGm1myZMmBQE23bt3+5GlIU+AyMQU22oxz7sRcLnf5Nttss7L1Z7cJ\n",
       "C6ksEzNiGW1i+vTpOwGjVq5cuZfHYWcDI1DW0jKP41YNtgIbbWWac+7aiRMnfuJxzLkoX7gcf3JV\n",
       "Yyuw0SozZszY0Dk3Cf/b3dWohvNmqMqH0U5sBTZaxTl3EvD3CRMmzIlheAupLANTYKNFnnjiiZ7A\n",
       "Ec65X8Z0CTNklYEpsNEiX3zxxXeBt8aPHz8jpkuYK6kMTIGNZrnttts6RIEbl+RyORfTZWYDA1EN\n",
       "LaOdmAIbzTJgwIADgLp+/frdGuNl5gHzsVW4JEyBjWaJjFe/2XTTTX3UfG4JS+4vEXMjGUWZPn36\n",
       "l4HNnXOTE7icnYNLxFZgozmm5XK56ydMmPBxAtcyS3SJ2ApsrMGDDz64AbAfsHlCl5yNWqjUYEXd\n",
       "24WtwMYadOjQ4QTg/nHjxr2c0CX/A9QBwxK6XsVgCmw0YubMmT2Ao2IM3CjGF6j/kZ2D24kpsNGI\n",
       "lStXHgW8O378+AcTvvRs7BzcbkyBq5hHHnlk4MMPPzwo/3MUuDEVuDTGwI3mMEt0CZgRq4qpr6+/\n",
       "KJfLfX3GjBl3Oucuqq+vHwz0cM7dHECcF4BvBLhupjEFrmKcc+vncrkOwD7AfjU1NZ/mcrkH58+f\n",
       "76viRnuYjYxY+TakRhuwLXQVU1NT0x/AOdcR6AD0dc7t179///dnzJhx+sMPP9y75RG88gawFLmT\n",
       "jDZiClzFOOfWavKrHHLnDHDO/SSXyz2ZoDj1wEvYObhd2Ba6uml2hXXO5YDTE5QFzJDVbmwFrlIe\n",
       "fvjhzqiYXDFW1dTUHDNhwoQ7k5QJC6lsN6bAVUpNTU1z+bcrc7ncGePGjSu1bWg5mC+4nZgCVym5\n",
       "XK4fKipX+LsVwPnjxo37RRipmA30RQn+RhswBa5SnHNrRwqb/3k5cNX48eN/HFCsT4APsXNwmzEF\n",
       "rl761dfX5zN/lgO377zzzseHFCjCttHtwBS4SnHO9c3lcrXRyvv3BQsWHB4gfLIYZoluB+ZGyi41\n",
       "wIbASHRmHAT0BzoCPdC9XQ18Hn39CPgAbVFfdc71z+VydTU1NTOWLFlyyEEHHbS6yDVC8AJwUmgh\n",
       "soIpcHYYAOwEjAPGAF9CbqD3osc84GPgU+C/wEKgF1L0XijCaVdgXWDwLbfcwrbbbrt02rRpry9a\n",
       "tOgAYEY0Tmhmo9dWC6wKLIthlMVwFEzxJIpUmgv8ATgS2AbFDZdC5169em3TuXPnI4DfAS8CDvg3\n",
       "cA5SoFDUASsCy2AYJdMJOBh4CDX+egiYCqwf83XXAb4L/AMZtf4FHA50ifm6xXgRvQeGkRk6AocB\n",
       "r6Gz6oXABoFk6QOcGMkyHzgP6Jng9W8Bzk/weoZRFvsCbwKvA0chZU4DNcAhaEX8EPgmSniIm7OA\n",
       "uxO4jmGUxUDgHuAztOKlRXGbUgN8C63GM4i/+NxkNKEZRmrZCynEHWQndLAPcA2acKbEeJ0hyGiX\n",
       "ZD6yYbSZU1Hy+nGhBSmRKUiJLyKeLXUOucPGxjC2YZRMDvglivnN+odzM+Q3vhFV8/DNTOCYGMY1\n",
       "jJL5KTIGbRJaEE+sD7wKXIX/lfh3wG88j2kYJXM0io7aIrQgnhmGJqVzPI97HPCI5zENoyRGoTPv\n",
       "XqEFiYntUXeFnT2OuSOa8JJwWxlGs9QAzwKXhRYkZs4A3sJf5FYvZIke7Gk8wyiJbwHvU3rcclbo\n",
       "gJqUneFxzLeBvT2OZxjtogYFJHzH03gDgWuB29GHux4Ze9LCPigTqqun8e4FfuBpLMNoN7sjl1Fz\n",
       "1R/bQw1S3DHRz3VImW/yMLYvcih++puexrsA+H+exqpIrCJHvExBgfnLPIzVERmJ8jm7y4HjUQ5w\n",
       "Wgw9Drgefz2OrDqHEZQ3UKd7H9SipII7aJwZNI70KDDAl1EVEB/BHaNQSmWdh7EMo130RSvSOh7H\n",
       "3B+tvC+jhP5ibAr8DMUsP4qqcABsBTyFFGJ34CsoCGN//E4AdZGMPnoc1aLdy+YexjKMdrEpqizh\n",
       "e3Ucj3oILQfObDL+QOBWGla/Q5FRKZ8sMRjVxjoH5fhu5Vm2PO8CEz2N9W/0OgwjUXYEFsQ0dheU\n",
       "8L6CxgXgpqFVv/BRDxxQ8JxvoqCSM2OSDeB54CBPY92IkiYMI1G2BhZ7HG8gaxodT0JW33we8W+B\n",
       "37cyTg9kCJtOfPnHr+LPf3sa8DdPY1UcZoWOj09Q8IYPFxKoIuXkJr+7Lho/v43+FG2xC/2wNcCW\n",
       "0fc5pBDHonPlCZ5ka8ra6PX7wAq9G0HogKyx23sabzsUFDKy4Hd7ApfToMCjUUzyvWgLPxa4Ivpf\n",
       "UKDF1Oj7qZF8vpVjCNq29/E03nroKNDX03iG0WYeAE72NFY/ZJFdjAI6Lkdnw+5NnncAcjctBh5H\n",
       "KzLAgah2dD7hYBwyhL0JTPAkI8gH/B+P44F83eM8j2kYrTINeDq0EAlzD6qo6ZPpKGjFMBKlH1rl\n",
       "Ki0HuDnWR37mka09sZ38Gvg/z2MaRpu4Gq1K1UBcr/U76DhgGImzHrCEhoioSmVLtNsYFcPYY9CZ\n",
       "3rwmRhBORr7XtUMLEhPdUHTYxTGOv5r461EbRlFqgH9Gj7QWby+VHEr5m4X6OsXFa/hLDDGMdrM2\n",
       "WqVuJF3ZQ+VyKYp9jrv52h3A2TFfwzBaZDCqpHET8a5WSdAB+aIXkEwr0B8BtyVwHcNokUEoUf1B\n",
       "5GbKIj3RivgmsFFC1zwAmJPQtQyjRXoDf0XF7r4SWJb2sg06j84k2Z5OGwGr8FdvyzDKIoes01+g\n",
       "zgZpj/XtAVyCwjnPR8n2SdIBueO2Tvi6htEim6Dt9MfAKaSv/Gwdyl56H1X0aK4SSBLMQmV6DSN1\n",
       "HIiSAD5CyfYDwopDHxTL/Q5qPH4E4QMprkFWb8NIJTVIkR9DUU23Avvir9tBa3RCKYrXo6odzyLF\n",
       "TXq73BzTgPtDC2EYbWE0CuJ/j4YUwqmozKrPlXAT1HjtZtSLaD5wJQ05xGliIpLPiKikgIJKJYeK\n",
       "AkxCub3bIsPXi2jLPQf4AJ1R5yMj06KC/89XBRmArMbrAhujonujkEvoWdQJ8G/R19XxvqSS6Yde\n",
       "4zroqFH1mAJnjy4ocWAUWqX3Rgrdj5ZjrT9FbUA/QG6gF9Ak8Ax+a3fFzTxUpfKB0IIYRrnsDHxG\n",
       "46iu3sBawFCk0H2orIn6fnQWNkiPccIojUkoQWJFwe8WRl//m7w4iTAba7fyP0K7BYzymIwK2FUT\n",
       "L2BVKo0KYBgKLazUHOPm2Bq5uHz0XjKMYExD8cjVRmc0cSWVRJFqbAudXSZTPbW2ClmGrOi2jcYU\n",
       "OKv0QoXbq1GBwQxZ/8MUOJvsiapgvBRakEBY4+8IU+BsMonqXX3BLNFGhumAUg999d/NIkNR/6We\n",
       "oQUxjPZSLPqq2sih92BMaEFCY1vo7DGZNaOvqg2Hzv9Vfw42Bc4e1eo+aopZoo3MUa3RV8WYiroW\n",
       "VjW2AmeLfVCTr49DC5ICzJVkZI6HgNNDC5ES+qCz8HqhBTGMttALGa6S6IKQFd5DQS1Vi22hs0O1\n",
       "R18Vo+oNWabA2aHao6+KYedgIxNY9FVxDgWeDy2EYbSGRV8VZzSqn12174ttobOBRV8VJ9+tcGRQ\n",
       "KQJiCpwNLPqqOCuAuVTxOdgUOP0MA4YDfw8tSEqpaku0KXD62ReLvmqJqs4NNgVOP5OovtKx7cFc\n",
       "SUZqseir1lkfhVT2Di2IYTTlENSb12iZT4GdQgsRAttCp4tH0Xn3+8AIzPrcVmwbbaSCt9B28AtU\n",
       "8+m/wE3AOKyPVUv8BvhdaCEM40WkwIWP5egcvAi4jsrqNOiLY4DHQgsRApvV00WxPr35MMEa1Jjb\n",
       "JSdOZsj7gnPY+2ME5AHWXIHzjyXABuFESzU90JFjSGA5EseMWOni82Z+vxI4Eng7QVmyxCL03lSd\n",
       "IcsUOF18VuR3y9DZ99ZkRckcs6nCiCxT4HTxGdoK5lkNfACcFEacTFGVriRT4HSxBCltnnpgf9TQ\n",
       "2mgZU2AjOIUKvBw18baKE21jNsoL7hxaEKN6OQEp8TLgPszn2x5qUQDMlqEFSRJbgdPFYqALskZP\n",
       "wXya7WEV8DJVto22QI4YcMoi6l3w6IEUE/Se94i+X4VcIABuCmx4C7j94Pt36Hl1OW2ljbZRdedg\n",
       "26K1EyfFGoKiojYCBgODgHVRats6qIokKARyIVpZV6DtMeic+wXQPfq5A9DzY+j4BKw1CboVXHIx\n",
       "qgf9HrJIvwO8iVabV3LKxDHEKcCuwO6hBUkKU+AWcFKwrYBtosdolCVUiwIHXkEK9X709YPo+4XA\n",
       "p7kSrcdOR5veqH1IfzQ5DIoe60UyjEQNruejGOrngKeBWcDruercfu+GfObrBpYjMUyBC3BSmnHA\n",
       "V4AJwKbIN/sMUox/I6V9JacVNChOyrwxSvjPTzIboTP0TNRL6SHghSpR6IFoEu0PLAgsi5EEDjZ2\n",
       "cIaDJxyscvC2g2sdHOZUTC5TOOjuYGcH5zqY7mCZg/kOrnfwVQddQ8sYM/PR5GtUKg6GOPiRg5cd\n",
       "rHTwgIOpWVTY1nDQxcGuDq5w8K6DJQ7+4mA/Bx1DyxcDDwInhhbC8IyDjg4OdnB/tNLe7+BwB2uF\n",
       "li0pHOQcbOfgYgcfOpgXfT8itGweuQy4OrQQhiccdHNwooO3HLwXrbwbhpYrNNGEtq+Dux2scPAn\n",
       "B9uGlssDRwFPhhbCKBMHnRx838HHDl50cISr4h46LeFghIP/i87L/3TZzurZFrnrLEgpq0Qry9zo\n",
       "sb8za3ubcDDQwe8cLHdwpZM1N2t0RX72SjoWVAcO+ji42cHCaPW1FbcEHIxycF9kvd4vtDwlMBdl\n",
       "cRlZwcG46Iz7kFN0lFEmDr7rYJGDq122snz+DJwXWgijjTj4uoOlDk5zdvbxioPhDp5z8GiGLPbn\n",
       "ISU20k7kv13ibMsUGw56RMatl51ivdPO/mgbbaQZB1+LVt5xoWWpdCK30x0OnspANNcIZMjq1toT\n",
       "jUA4GB2tvId4HHYgcC1wO0pWqCf+iv8dgb8ST2rnUFTVw8vYDrpGCnyzj/FipAZlcVWCX7vyiCKK\n",
       "HnPwK4/D1iDFHRP9XIeU+SaP12juusfg/+zeGzgN5RvX+RrUwSAHnzvYy9eYMfEkCuow0oaDb0Sh\n",
       "gL08DluHAuEHFfyuO5oksupH7ozyhb0pMICDkx285hryntPI1Sis0kgbUZbN6Z6HrUV5tXegPNs8\n",
       "48iuAtcRjwJ3cvCJU/J8WjkRJTYYacLB+lEywvoxDL8/KmHzMsqtLaQGOJqGLenaNGxRewDHAk8g\n",
       "hZ8DXIUU/+DoOa+g3F2APYB5SAEOQW1F80rW0vMnRj9vCvwMuCb630JF2hOde88ALka5wV4VGCCK\n",
       "2LrW97gemYDlBKcPB3u7eJtejwdeQop8Jo1X36Zb0vzPnZGyLUHF6LZC1SHyXIiMYnnr7QbAj6Pv\n",
       "B6GiAXVtfP5A1KUhv309FLUhHYgU/PsF42xBfAo8xcGzvsf1yNqoiMHA0IIYBTg41sHDMV+mC3A+\n",
       "qmNV2BWh6Za08Of8911Yk3WQkh0c/XwashAXG7O1509jzcZn9cBBaMtYGIUWyxYaXXSsg098j+uZ\n",
       "D2g8kVYcWYxacjGNO5CG9+ML4IdIcabSvsT3+iK/mwfcgrbZ3YF+qDBdc7T0/BHAlWhnkH/UAHcB\n",
       "o1A9riTIgl3gBbKdWdUqWVTgd4gn1nknYHKT312HtsdNP6z5n9vz/v0G+SVPR37f1iai5p7/Kdrm\n",
       "FwZT1KDt8nJg63bIVA4bkP5uifm+wUZaiPyQq2JIWNgOrXIjC363J3A5DQrbCXgLmBR9fygKGFiP\n",
       "hvNwsS000Rh3oeJ4hYEVXZr5v+aePxrtEO4FdgTGAldE8l8cPT/vCtsMnYELrepecPB7JyNamjmM\n",
       "dJ/Tq5PIjXSG52H7oZYmi1FAx+XARTTUbs5zFDr7PYMsnbOQLGejFfBsmjecjKPhXAtaOadG1z25\n",
       "yLWaPj/PAcjltRh4HK3IoNDBX6Oz39OoTvITwL543PI6qIvcSBNbf3ZQtkTvrTUwSBNR9tE8p2gj\n",
       "I2EcnOLg1ZQHcoCMdyuBTUILYhQQhVLOdNo6GgniYHCUI7xHaFnayIsU38UYIXGwmYPFDr4RWpZq\n",
       "walA4CwXf3y4T25BLkEjbTgVKl/qrJB37ETphHc5FcBvzlCXRs5CxkAjjTj4XpRWeEBoWSoVBz2d\n",
       "6mi/5LJX6G4yLfvcjdA4FWxf6uBMK6njFwcbOZgdWf77hJanBIag4BrvrjTDIw52dPCOgxlON80o\n",
       "g8hQeGxkZ7jSxRCOmRA55GcfG1oQoxUc9HbwRwefOTg1wx+6oDjY3MGDkauuaXRaFnkMFU0wsoCD\n",
       "SQ7mOHjdwUG2rW4bDtZzcJVTYfffOmX0VAK/Q6GpRlaIrKYnOBUnn+PgKGeF3osSnXP/ECnu35zy\n",
       "jSuJ44BHQgthlIBTIbapDt5w8L6D8x0MCy1XaJyqanzVwb1Ozc1uccpjrkR2QllaWcigMorhoNbB\n",
       "gQ7+ESVDPBytyv1Cy5YUDmqiPN5Lo53JBw4urIIJrReyRMdRxcVIGqeyPGc7eGE6rH5fFS5PdLBR\n",
       "aNl8E0VP7eFUAueDyKp8m4PJrrqC/N8G9g4thOGPrsBlOVj2E7jOSYlXOvVXusGpHelIl7FtVxR0\n",
       "8RWnPsiPRtvjeQ6uiZQ2S1FUPrkX/xlsRiC2R4XrZqOUM+B/H/5J0RbzuWirvTByqfzcqQ7UVi4l\n",
       "Ff+dEgt2jXYPNzp4+SNYfT4sXgV3OjjewaZZm4Ri4gKyFcPdJqrtxnZEsbFnoJrB56C6V0WJFHUL\n",
       "VBljG5QgvxGyZr+LKke+E33/HvB+9HUhsDCnfN12E21te6PIp34oQX9dVMRgPWB4JEc34EM0GT0D\n",
       "zDocFt2gkjsvooIDaa9blRRTUJHCiqrQUU0KvDlwI1KOw1HCe7uJfMpDkAKNjL5fFynWYFSQLl9D\n",
       "axVS5s/1r/+rV1WPqmrkV/I6tKXviBS3R8ElP0OTwrsoUf9d4A1UuvaVnP7elL5otfkScCDqUlDt\n",
       "jAKeQ0UTlgeWxRvVosDHAr8Afo9m4WVxXszpQ5JfQXujc2evE2Db+2CHOXB99NQVqBRt4fefEa3g\n",
       "wKc5TQKlkENF+c4FfoDfNjRZpBbtiLZDRycjA/REjbgWkA4L5CnImJIke6MStTeQ/q6CcfM8OlZU\n",
       "DJUcYrg1OhduiM6wfw0rDqBaWR8kfM2/onP8xigmeGjLT69oKq5KZSUqcA71xZkJ/A1F4bwVUqAC\n",
       "1iV5BQYZ2nZGBfieA/YLIEMaeIEKU+BKowdqTlbYRyhNzED9lUJyGDprX0j6i9L5Zk9kEDRSyFA0\n",
       "wz6GLMFpZC6wT2ghUMzzG8BDZK/CRjmsh7wBfUMLYjRmJ+Aj4I+kO9JoEWt2PQxFX+AfaHu9fWBZ\n",
       "kuRjVG/bSAnfRT5V3/2CfdMTzf7rhRakgBx635Yiu0E1MB0V0zcCU4u6EPyXdDeazrMxsJp0JhBU\n",
       "k6vp1yhSzQhIb2QQegmFFWaBCSjsMa0MBp5CVupKdjV9B7WjMQIxEDnkHyRblQa/gfzSaaYzcBWK\n",
       "BqtUV9MYFJFViS7U1LMh8CpwJ/qwZYlTST4Kq1Qq2dXUDR1lKnmXkUo2RT6860jnObI1LgX+L7QQ\n",
       "7aCSXU2vUyE7jKxsI8agM+8fgW9ReoB/SEKEUZbDsygEdQWK4KokV1PFhVSmmcloOzcttCBlkoYo\n",
       "rFKoRFfTj4HbQgtRDUxGH5zDQgvigbREYZVKJbmaDkT51EaM7IKU96jQgngiTVFYpVIprqaN0DEs\n",
       "6xNRavkyqmJxbGhBPJGPwlo3tCAe6AxcTbZdTR3QsWzr0IJUIlugrdppoQXxSJqjsEql0NWUFWNo\n",
       "IbOAI0ILUWlshoLNfxhaEM+kPQqrVLLsaroGlVkyPLERyuO9MLQgMZCFKKxSyWpW0zTg/tBCVAoD\n",
       "UBf1K0ILEhOnAveEFiJGsuhqmgjMDy1EJdAF+Beq3VRpYXt5shaFVSpZcjX1Q4bFrG39GxHa+JAD\n",
       "/oDqIh+MDD2VSNaisEolSwX0FqAVeHRoQcohtAKfi6ppTKbELgYZYV0q04hVjHwBvWdIfwE9C6ks\n",
       "g0mowPoOoQVJgFfRJFVtpN3VdCmyRhvtZAhyF30nsBxJUQlRWKWSZlfTt5A/2GgHdSjT5Q+hBUmI\n",
       "SorCKpW0upq2RpbzSjWexsIvUOe8NFePLIcc6gSfLzhQiVFYpZBGV1MXFBNd2Nh9bUyhm2U3dAM3\n",
       "Dy1IjOyMVlyHts7vIdfKTcDPgBOi51QraXE1dUHHmpeAW5HVfCG6bxXVP8kXayNL7AmhBYmZvqh9\n",
       "qCvyWIkS5J8PJl06CJnVdBJq0boarb6L0X3J36MVKPTVaMKNwH1UR0vTNxf+OuQAABgPSURBVCiu\n",
       "wA7VsK6E/OZyCZXVNBUpbnP3x5Hezh7B2BO5E4aFFiQhfk/jWb3wMR/oFE601JG0q6kW1cRqbpdU\n",
       "yfEIJdENrUhZL4nTHqagD2XTD0eaDDhpYisUC5+Uq2kftFUupsDPJXD9TPFzdN6pJsveQIp/OBYB\n",
       "3QPKlWZaczX9ETjL4/VmsOYuqR4L7GjEMHTm2zG0IAF4nzXPvj8KKlH6ac7V9H1gOVI4X7HLm7Pm\n",
       "WbgSiid65S7kLqhGbkCWzvyHYzmyxButU+hqmkDDSrkKeBl/PvUbUDhv4RFnd09jZ56vIINAmrrx\n",
       "Jcm3aDgHL6Nyc53jYhjwH6RUhRPhF8Apnq4xIBqvcBUe7GnszPMYcH5oIQIyjAZL5ypgg7DiZI5a\n",
       "ZDtZzpq2hOX4a2p3Lg1K/AXV4eZsld2Qwabat4wfo9Xj1tCCZJBfsebqWBhs8S/8KFtX5NpzKCrL\n",
       "AB4BfhJaiATpAvQpeGyIIozuRR+MsWSrk2Jo9qN5P23+sQx/NcMPi8a8Fd2/ddD96xv9nNq4/Ti2\n",
       "CzujD+4QZIjIGh2R7INQBtGA6Pv+0aMXUsae0ffd2jn+ClTz+nPgUxSJ9BmyWs9HsdMfRV/fRDuZ\n",
       "amMyshmshwxYzXWiXIq20m0pllCHkvdHRI+R6L72K3i0xEpUxWMBKr74NsrzfhWt3K+hSSBR4lDg\n",
       "W9HW8XsxjO2TtVD5l81QNspwdG4djCKCPooehYr1CVK2z6OvC6Ov9egGNxfFU0dD4H5PGk8APdFR\n",
       "oz8NE8V6aBWoi679WvR4FRl2ZiPlTvwDkzCbAgcBh6P3ZhV6T/KsAKZT3HLcDxWu2wk1acu7jebS\n",
       "oHjvIeVfgCbKpegeF76vndAk3Q3dmwHR2EPRJDACTfiLUW7xk5FMj6JdQqz4VuB10My0DfCC57HL\n",
       "oSfqcLgDkm00+kB8jBIL5tCgJK8h5VgeRNIGapCMw2iYXEagD+JQ9IGbDfwbnQdnoiD9SmULVDft\n",
       "m+hzll+Z65GS/xkYFT1nr+j5rwEPI2PY02iljKPuWjdgSzRRjEEemG7oKHkXcDuaJFLP2SjCJTTd\n",
       "Ubjc5egDvgpte/6CAgX2INsJ9j3QufoYlBDwIvogvwP8P1TpZP1g0sXPVsBFaPXMxy+/iFbke9Hr\n",
       "D2n1r0HFAs5ExStWoiizg9ERLZXUoA/QlEDXH4r8gw+g1fM99OE+HH8uhzTTF9UZuxAVlKtHu6CL\n",
       "0TYyjTWpymEzFPa4HH3ujkPHojSyEXAe+ky+D5yD7leqGIvOhs0ZHOJgXZTf+SRaZR9GRdSt0qDO\n",
       "aocDN6Nz+ruoGkrWa3ONRK9pOYqk2jasOO2iI9ru/wvdk/NIkXfiYpLxd9Yg48RtaGvyItoWD0zg\n",
       "2lmlDll2b0Bn5znoPesTUqh20g24BCnuTcgekGX2ROfy+ciNFTyA5BXi3T53QQHuryH31C/I/k0M\n",
       "QU+03fwP2jFdQfrDB3dDxtFZVFZL0BzaJc1HqZTBzu2jkAGhdwxj1wHHo7PDy8CRpNixnjHGIyvp\n",
       "MuA3yOqdJjoAP0bunZOo3JTUvsj4+AlK5EicU5HxyDeTkEvnVeQ+qNQbGJptUFuUL1BscF3LT0+E\n",
       "rkimN8j+ub2tHI0mq1OTvvCdyLLmi3WR7+xzNPNWe0nWpBiHfKVzou9D0QsFQjxFCq21MbMDitC7\n",
       "IMmLzkOGJR+MRxFQd1HZvsy00gn585dGX5M2rnRE3oTpyN9djWyBzsU/SOJiI1B0Sy8PY52ItnFW\n",
       "FSE8Y5Dr6S6SLQOUD0zx8XnKMmNRPvnX4r7QYfipc3w62jqM9zCW4YcByGf5MMkUYf8aii9Pc1vS\n",
       "JDkMeVxidZFeAlxb5hhT0Xl3TPniGJ7pic6i/yBeW0RvFBp5dIzXyCJ3A3+K8wJ3Ud5efUu0bf6K\n",
       "H3GABmPMKmQMuxo1U7sDRcAcX8bY66AJx8eHuSOKy/4t5cfIDkVHjziUbC3kCfhhDGPnOQtNFOWe\n",
       "uQeiBeV25DuuB37X5DkdkYW7lrbdz7aMGReDUfBKbO2IXgIOKPF/O6Lt98X+xPkfa6PtWNPQzomU\n",
       "Xpu5I7KKL8KPq6UrSrr4vMzxegOneZSrGDugiTaOjvadgA+AA8scpwYpWX4nV4cU76Yizzsm+ntr\n",
       "97OtY8bJ9cRUHLIGBQGUOjscgAI04oifrkNn6qY3po7yLOadmxk39Hi+5SrG/6GAA9/siqyu5fr5\n",
       "8/nThQEp3VF5nuZW9tbet1LG9M2X0STjvaPHELSdaG9Vijz3oUibOCimwDnKNwg0NzGEHs+3XMUY\n",
       "jSbs1qpXtJef42diqEUW7DtonCQwjuaVrbX3rZQxfdMBRWl5982PQS++FDqg8Mu4Moea3pgOwHYo\n",
       "AwR0Y76NWmmMRtuiZ1GM8EFolf4bSlUrbDeZH3cKis2dD/yaxuGdu6Ct2ffQWemraPY8FngC3Yg5\n",
       "wFU0XgH6RNf8K4pCy6cAbopak16DAhx2jX6/Jzr3noGOIeVuxdvCK9Hr8ck/8ddyZn90ZnyZ4hFc\n",
       "OeAQ9D7W0bb72dKYtSj/+An0mXkKWY6vx68r7D5iaMszCRk3SmEIWr3jck/UUbyqYeF5ux9KBv9O\n",
       "gRy7oxuwV/TzVqgoQN7IURf9z0mo9M2XkTL+NPp7J/Se5I8FvdGHvhNq9r0EfVi2QkH6+Q9QZzRx\n",
       "HE3jmX0gyvLKby8PjeT7JupYkGcLklHge4GTPY/5b5Ts7ovxyDazHCXVN10pByFjZl6BW7qfrY2Z\n",
       "AzZB9/Wb6H4PR2WVf+3tFWlC8B6ddQSaeUphC+Ktw9t0Be6ClPP8Fp4DUuTC3+XLjtY1+Z/Cc/ve\n",
       "wFs0WJLzHd9r0Sq5kMazfeHsXhf9/Rz0AWjKNJqvzFiYRZTEFhrUJtZ3ve+5KN3RJ12QnCuQchZS\n",
       "+F615X62Nmax9357tHvzxW+By5r+stwqDWujulKl8BZ605LoRgeaLO5HecQt0bRm0mqKu3gKC589\n",
       "hRQ9/36+iSyqX0VVMZoWn6tv8nMO9Y86ijUNeiOAK6Pn5B+d0aSysOWXEgsbonvnkwX4OVcPpOEe\n",
       "fIHcXqchN1Frbrrm7mepY76C38l0ALrnjShXgXtT+hl4IYqhTrKiQj0qBLclfnMvO6Kz80r0nl6P\n",
       "3GN/om0TXD06j6+P8pwLdyX56LTCo0YOTXxJ58Z2QamjL3se9z00MZTLTqy5kl+HJrz27PQK72ep\n",
       "Y47Ab6H4DZHHxisXUV47xotRJlMcdGfN7SrIcf9w9PcurLn1yf8urzB5I1N+ZcxvlwoD7aeiJlyg\n",
       "s+48tHXuhs61i1CGVa8iMhWO/2V0Hju24O+j0cx/L1qlx6Ik/BnI6JJ3b2yGzsBxlmg5HDXH9l1f\n",
       "63soZLNctkO7n5EFv9sTFTcsVLb8Pe5C6/ezLWPWoXt8DJpYN0FGMl8JPn3RTtDHJNeIS5AltVRG\n",
       "ILfEVn7E+R9D0Yd8JfqgX4smmnuQ8eJupKAnR9c/iYbyrWcgQ8UP0REh/5wj0Y2qQefV69F56HQa\n",
       "36gcyuL5DBkydka50v9C7pLl0d8HImX7QTT+t9GNugdFkF1MQzbWAciVsRh4HK3I3ZCR5ANUmuUU\n",
       "ZI/Yl3jsCnWRDHHkqg5D96rcggL90Hu5GAVfXI4WmcJkjBqkoMvQve1Jy/ezLWPmJ4HT0I7rWfye\n",
       "6b+N/10PAL8Efl/mGBeirUaSxfCM9vNzpMBx3ad/RtfIInEaEHPofZ8aw9j8GpViKYc6dC79I5VX\n",
       "+rRSOBjlB/veKRUyER0B0lbWpy3kj0FxuES/gYx8pQZLtchl+AnqXh+dM64iBdX5jEbsi5R3/wSu\n",
       "dTsKYskSXdFxawU6Uvqc5Pqi4hZHeByzET9FZwcfDEV+sztJUa3cKuckZED7RkLXWwedIZv6bauR\n",
       "WuDvKAIrtkXtTNSTxhcDkNHpFeLJejHaRk9UPP0jGqyxSTEOrfi+Azuyxm9RRF+sNcFORMYHn9Qi\n",
       "X+gyFDpmJWST5WvI3ziTcOfRw5AS+465zgI1yK40j8auq1g4CrlK4mAMCoZ4HflSzcAVL6PR+fNT\n",
       "5IcO/X5PQUp8TGA5kqQrysp6mwSUFzRDzolx/I4oFng+slTvjxm5fPMllCyxHFUtSVOLmt1RGt2N\n",
       "xGSFTREbo7Dbp0mwGusYFLAQN93Qdn0eCnw/nfR2ossChf2lVkRfE5nxS2AD1LzuNRrSKCuJWhSE\n",
       "sxhtnRMtqj8YBYEnVXa0O9pSzUaha79H4YW2KreNDVHk1+vI2vtzYgjPi4GOaNJegraYQ4JK448J\n",
       "KB/9DVQbLXE6ohjNELP3OLS1+hy5ny5GiRGhz25pYzByyzyOQjSnA98im8bBocjrsQxZabNa+H9H\n",
       "4EG06v6UZEr2NstHhK3l3AXFCt+OZuiPUAGwKSiWudrohCqCXIwyauqR8uYT1iuBrZHBLb/93zms\n",
       "OG2iDlnXn0bGuV+SXCptizyJZvQ00Bmd7S5EmToObRdvAL6LStNU2na7B3rN56F856XI8HMbes2V\n",
       "orTFGInu9acoR/lXKFU0LdSg1fZXyBD7PrpP3hYWHx/mP6It7JkexvLNYJTPORa9kaPQzf43Okc/\n",
       "H32dgyKO0kwHZNAZjaqAjkZVTTZEGUkzUcbTTPS6mhYmqGR6AvuhWlcTUVjufdFjBjpmJcX6yNi2\n",
       "ayRLB+AvwC0ojdXrffGhwOeiXNRSa0MnSU+0/RpNgyKMQtub95Gl8/Xo63tIMT5E1u//xixbF5Qz\n",
       "vA5y5ayH0uzyaY5DkM3hDRpPQM/ht3RL1umLao3tGn0diCL7ngaeQZP1qzQUaC+VOpQOOwLt7LaN\n",
       "Huuge5OfQB5BW/1Y8KHAU1AObWyV42OmFq3Uw2msMIPQzR+AZtFlaGv6KZrRPyv46mhc3uZzGhq+\n",
       "5Y1qXdFN74omkp7R33uhLVU+/vu/aNJ4H60k+UklP7Es9ffSq4KhKCl/W7S9Hokmx+Woedt8ZJFf\n",
       "gGwoX6Dc5MWoSijo3nRDucED0Nl1XXSP30LpsM+gSeJp9DlJBB8KvDWqPtCDyty21aCbdjQqOncG\n",
       "Urq8AnajcTWH3jR+XxejDwToQ7MYKf1CGiaAhWi1n4cmCiNeuqGVcxANStkPuSlz6B6CrPaLou8/\n",
       "QUq+ABlK30IT7KqkhI6LzmiLsEloQWKkC9qmHhlaEMOIg9kkl3IWgh+gkiZxduczjGBch5KZK5E+\n",
       "6Fw6KbQghtEUX1FLzxFvuZWQnIMCIu4NLYhhxMWOyBBTaWGMQ5BVcmxgOQwjVvJ9iLLqSmqOm4i5\n",
       "O7phpIWZqEB3pbA5cvtUsnXdyDg+t7wzURf3SuFi4GpiKqhtGGljMgpPqwR2Qw78dUILYhhJ0QdF\n",
       "pYwILUiZ1KCwuHNDC2IYSfM4cFxoIcrkUBQq16O1JxpGpfEj4us2mASdUNLAsa090TAqkR1QgH5r\n",
       "zZTTyvdR6llW5TeMsqiloSF11uiN0sq+FloQwwjJH1EJkaxxISoPVGkldwyjXXwVVbPIkiKsh5K5\n",
       "k+4DZBipowvyoY4JLUg7uAa4O7QQhpEWbkORTFlgE1QFY9PQghhGWjgYlRvJwjb6XhQyaRhGRHdU\n",
       "fC3tOcI7IzmzWuHfMGLjTtQ2Iq3kUB3ln4UWxDDSyDdRJ8G0ciAqlWNdDg2jCL2RcShNrS7y1KI0\n",
       "wWmhBTGMNHMLcHloIYpwHDKyJdqL1TCyxq6oVlbQ9olN6I46H1RyGVzD8EIOZfd8PbQgBZyHegtV\n",
       "WgE+w4iFc1Ez4zTQH2VL7RpaEMPICoNQb6DhoQVBXd0fCi2EYWSNfwDnF/zcD3U1jJOfRNfIR4ON\n",
       "RFUmt475uoZRcRyIMpQ2QWGLK1BLzoExXa8GKesq4EVgF+B2lOpoGEY7GYP6sK5GiuWQcm0R0/WG\n",
       "RtdwqInzCtRv1/obGUYb6YBW3ueRAq2kQakcikHeLaZrT4rGL7xeXoY7kIIbhtECh9KwAroij8Uo\n",
       "3DIOTmVNBc4/liNFtuR9I/PE6Qu9GSXJL2/h2v1juvZmqPF4MRw6Fz8f07UNo2LoBDyAGp81XQlX\n",
       "AT+P6bovFLmei+R4FKv5bBhtpisq+L6MNRUqLqvwkiLXWoZis61krGG0k55oy9pUiWfEcK31KH7u\n",
       "vQILnzSMkukNvESDG8kBc2K4zq403rKvRB0jDMMok/7AGzQo8ccxXOMEGrbQK4GjYriGYVQt66N0\n",
       "vlVIwXwXvrsSua6WAXt5HtswUkVtgGu+C+wEPAH0RdFYawPDUD/etYEBaMvdDVmyO6Dk+6XRGAvR\n",
       "NvljFOH1EfAO8BoqpLcYBYk8kcQLMoxQJFn2tQNS1u2AbYAdUS/hHApzfCP6ugAp5sdolV4Ufc3T\n",
       "MxqrB1L4fkjph0aPOqTQTwGzosfjqGeTYVQUcSvwIGAyMBFFPtUBzyGlegaYDbxKw8paLjVoi74x\n",
       "miTyj4HR9R5AmVGPoW22YRhN6AccjwImVqOV8Kc0KHAIhgPHAH9GCf3vowZsWWr/YhixMhYFZixD\n",
       "K+ypwAZBJSpOZ9SA7WZkrX4O+C46bxtG1bEjKpnzBeqJNDasOO2iF1Le/6Az93nR7wyj4tkMKe4i\n",
       "1Ft37bDilEUONfaejazaxyFDmWFUHN2BX6Ct8m/QmbdSqAEOQdVDnsbK7xgVxmjU0aDSP9zdgUvQ\n",
       "seBUstFl0TBa5HBk9LmY6snoGY8s1vdiKYhGhjkDRTftE1qQAPQDZqJdR1wFCAwjNs5BFtpq9pl2\n",
       "Ae5B2VTWzdDIDIeglXf70IKkgI7AP4FHsKZoRgbYDBlxJocWJEX0ROV6fhVaEMNoiVoUAmkf1DUZ\n",
       "jSa2nUILYhjNcRTwFuWHF24AXIvyfv+Cwhf/DEyl9UCJvqgx2rOkb8v6YxQuahipI4eMNcd5Gq8H\n",
       "SuXrEv3cFbgVOL0N/7s+8BnpU+CeKCd5YmhBDKMp45DC+WrKXReNV6iEQ1H8cWsFBYr9b1r4JZqI\n",
       "DCMYxao07o7yZn3l6BZjAfKvZjne+G5UQC/Lr8HIOMVWwB1QVlGcbINK66xG/ZOGAOsiA9FUFK7Z\n",
       "HLsgC/lKYBRwH+p39G20svcD3gQuKPiflv5WKo+hXcomaDdhGKngVfx28ctvg7sBfaKxXwW+g/on\n",
       "HR89rwOqE31lkf/Nb6E7Rf+bb5vSG3glGvttFClVh8I+Kfif5v5WLm8RX4M2wyiJj9Eq7Is6Guo0\n",
       "L0Upe0ei1f8JGvcI7krj826xM/BG0ddaYE9kTOqG/LN3Iut14fm9toW/lcszwNc9jmcYZfM6sLfH\n",
       "8ZozRNWhs3BLecTF/rcT2nYfiGpu5f++ESoU/w5r9h1u6W/l8Cawh8fxDKNdFDNifYjak8RNPcpu\n",
       "2rfJ77eg+fS9GuB61KblTzQUhu+A8pO3R6GOt9Jwvi/2Nx/UoqqY8zyNZxjtppgCPwns7PEadUgh\n",
       "m1prVwI3oOIAJ6Bt+1nIkOWayJdX6FpUHG8Y2jbvE/1uAHA08hl/P7pW4f8c0eRvPtg+eg0vehrP\n",
       "MLywGyor08nDWINQOObK6GvTelmdgUtpKMx+Ag2K1xsl0y8DTkTBEzngbKSMj6GJ5gFUAXMF8EPg\n",
       "Z8ABBdfIb9WL/a0cLgDu8jSWYXijA+pwcERgOdJMVzQpVGN+tJEBTkC+WB+rcCVyCgo3tVI7Riqp\n",
       "Q8EJPw4tSArZEFXi3DO0IIbREl9G509Lm2ugMzp7XxdYDsNoE6cAn9AQPFHN5IAbUVCIFX83MsMV\n",
       "yEL8pdCCBKQW5TW/QzI+csPwRg1wGQqayFLbFF90Q5lHc9H51zAyyWkopvlkqsf6mi9k/zhWUtao\n",
       "ACagQuf/QOl5lUpHFESyFEWKmTvNqBj6oTaiS1F0U5eWn545dkYZU6+j4gaGUZFMQHHAH6BQx6wr\n",
       "8g6oOMBS4Cdk//UYRqvUoHzYOSgr53xUiC4rdELF6x9BinsZjfOTDaMq6ADsjxILVqI2JIeiBIS0\n",
       "kUNtYi5Fk857qH3MOiGFMoy0sBHK1HkNWa3vBr5H2GCQnijv+ApUXmcJqvu1H61XxjSM1BK3O2hr\n",
       "pDgTgW3RivcEKoo+CxmLFni+Zh2wMbAVKp63TfT9h2iH8A/gr0iJDSPTJOnP7YUsvNsipdoa+VY/\n",
       "Q4XqXkMKviD6+jmqd0X0/WpUJL4WGZh6Iov42mj7OwQYjs7gq9DkMAvVrZqJzumGUVGEDsjoB4yI\n",
       "HkORAak/Usp+SFmbFrpbiCp2fIYKASxAUWJvokngNVQtcmUSL8AwDMMwDMMwDMMwDMOIn/8PCkLL\n",
       "OGwGatsAAAAASUVORK5CYII=\n",
       "\"/></div></td></tr><tr><td style=\"border-top:hidden;border-bottom:hidden;\"><div align=\"center\"><small>Learned Bayesian Network</small></div></td><td style=\"border-top:hidden;border-bottom:hidden;\"><div align=\"center\"><small>Markov blanket of 'Survived'</small></div></td></tr></table>"
      ],
      "text/plain": [
       "<IPython.core.display.HTML object>"
      ]
     },
     "metadata": {},
     "output_type": "display_data"
    }
   ],
   "source": [
    "gnb.sideBySide(bn, gum.MarkovBlanket(bn, 'Survived'), captions=[\"Learned Bayesian Network\", \"Markov blanket of 'Survived'\"])"
   ]
  },
  {
   "cell_type": "markdown",
   "metadata": {},
   "source": [
    "The Markov Blanket of the `Survived` variable tells us that we only need to observe all other variables except for `decade` in order to predict `Survived`. Not really usefull here but on larger Bayesian Networks it can save you a lot of time and CPU.\n",
    "\n",
    "So how to use this BayesNet we have learned as a classifier ? We simply infer the posterior the `Survive` variable given the set of evidence we are given, and if the passanger odds of survival are above some value he will be taged as a survivor.\n",
    "\n",
    "To compute the best value given the BayesNet and our training database, we can use the `showROC()` function."
   ]
  },
  {
   "cell_type": "code",
   "execution_count": 20,
   "metadata": {
    "scrolled": true
   },
   "outputs": [
    {
     "name": "stdout",
     "output_type": "stream",
     "text": [
      " res/titanic/post_train.csv : [ ############################################## ] 100%\n",
      " result in res/titanic/post_train.csv-ROC_unnamed-Survived-1.png\n"
     ]
    },
    {
     "data": {
      "image/png": "[encoded data removed]",
      "text/plain": [
       "<matplotlib.figure.Figure at 0x7fa0686da128>"
      ]
     },
     "metadata": {},
     "output_type": "display_data"
    }
   ],
   "source": [
    "from pyAgrum.lib.bn2roc import showROC\n",
    "\n",
    "showROC(bn, os.path.join('res', 'titanic', 'post_train.csv'),'Survived',\"1\",True,True)"
   ]
  },
  {
   "cell_type": "code",
   "execution_count": 21,
   "metadata": {},
   "outputs": [
    {
     "data": {
      "text/plain": [
       "True Positive     0.588517\n",
       "True Negative     0.351675\n",
       "False Negative    0.047847\n",
       "False Positive    0.011962\n",
       "dtype: float64"
      ]
     },
     "execution_count": 21,
     "metadata": {},
     "output_type": "execute_result"
    }
   ],
   "source": [
    "vars = [ var for var in ptestdf.keys() if var != \"Survived\" ]\n",
    "ie=gum.LazyPropagation(bn)\n",
    "testdf=pandas.read_csv(os.path.join('res', 'titanic', 'post_test.csv'))\n",
    "\n",
    "def init_belief():\n",
    "    # Initialize evidence\n",
    "    for var in vars:\n",
    "        ie.addEvidence(var, 0)\n",
    "\n",
    "def update_beliefs(row):\n",
    "    # Update beliefs from a given row less the Survived variable\n",
    "    for var in vars:\n",
    "        label = str(row.to_dict()[var])\n",
    "        idx = bn.variable(var).index(str(row.to_dict()[var]))\n",
    "        ie.chgEvidence(var, idx)\n",
    "    ie.makeInference()\n",
    "    \n",
    "def is_well_predicted(row):\n",
    "    update_beliefs(row)\n",
    "    marginal = ie.posterior('Survived')\n",
    "    outcome = row.to_dict()['Survived']\n",
    "    if outcome == 0: # Did not survived\n",
    "        if marginal.toarray()[1] < 0.46576681:\n",
    "            return \"True Positive\"\n",
    "        else:\n",
    "            return \"False Negative\"\n",
    "    else: # Survived\n",
    "        if marginal.toarray()[1] >= 0.46576681:\n",
    "            return \"True Negative\"\n",
    "        else:\n",
    "            return \"False Positive\"\n",
    "\n",
    "init_belief()\n",
    "ie.addTarget('Survived')\n",
    "\n",
    "result = testdf.apply(is_well_predicted, axis=1)\n",
    "\n",
    "result.value_counts(True)"
   ]
  },
  {
   "cell_type": "code",
   "execution_count": 22,
   "metadata": {},
   "outputs": [
    {
     "name": "stdout",
     "output_type": "stream",
     "text": [
      "94.02% good predictions\n"
     ]
    }
   ],
   "source": [
    "positives=result.select(lambda idx: result[idx].startswith(\"True\")).count()\n",
    "total=result.count()\n",
    "\n",
    "print(\"{0:.2f}% good predictions\".format(positives/total*100))"
   ]
  }
 ],
 "metadata": {
  "hide_input": false,
  "kernelspec": {
   "display_name": "Python 3",
   "language": "python",
   "name": "python3"
  },
  "language_info": {
   "codemirror_mode": {
    "name": "ipython",
    "version": 3
   },
   "file_extension": ".py",
   "mimetype": "text/x-python",
   "name": "python",
   "nbconvert_exporter": "python",
   "pygments_lexer": "ipython3",
   "version": "3.5.3"
  }
 },
 "nbformat": 4,
 "nbformat_minor": 2
}
