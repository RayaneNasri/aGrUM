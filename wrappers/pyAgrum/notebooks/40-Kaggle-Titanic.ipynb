{
 "cells": [
  {
   "cell_type": "markdown",
   "metadata": {},
   "source": [
    "# Titanic: Machine Learning from Disaster\n",
    "\n",
    "This notebook is an introduction to the [Kaggle titanic challenge](https://www.kaggle.com/c/titanic). The goal here is not to produce the best possible classifier, at least not yet, but to show how pyAgrum and Bayesian Networks can be used to easily and quickly explore and understand data.\n",
    "\n",
    "To undestand this notebook, basic knowledge of Bayesian Networks is required. If you are looking for an introduction to pyAgrum, check [this notebook](http://www-desir.lip6.fr/~phw/aGrUM/docs/last/notebooks/01-tutorial.ipynb.html).\n",
    "\n",
    "The notebook is split in four sections:\n",
    "1. Pretreatment: where we mangle with the data.\n",
    "2. Pre-learning: where we define our learning parameters.\n",
    "3. Learning: where we learn a Bayesian Network.\n",
    "4. Classification: where we use the Bayesian Network as a class ifier.\n",
    "\n",
    "Before we start, some notes about aGrUM and pyAgrum. \n",
    "\n",
    "**aGrUM** is a C++ library designed for easily building applications using graphical models such as Bayesian networks, influence diagrams, decision trees or Markov decision processes. \n",
    "\n",
    "**pyAgrum** is a Python wrapper for the C++ aGrUM library. It provides a high-level interface to the part of aGrUM allowing to create, handle and make computations into Bayesian Networks. The module mainly is an application of the [SWIG](http://www.swig.org/) interface generator. Custom-written code is added to simplify and extend the aGrUM API.\n",
    "\n",
    "Both projects are [open source](https://gitlab.com/agrumery/aGrUM/blob/master/LICENSE) and can be freely downloaded from [aGrUM's gitlab repository](https://gitlab.com/agrumery/aGrUM) or installed using [pip or anaconda](http://agrum.gitlab.io/pages/pyagrum.html).\n",
    "\n",
    "If you have questions, remarks or suggestions, feel free to ask us on [info@agrum.org](mailto:info@agrum.org)."
   ]
  },
  {
   "cell_type": "markdown",
   "metadata": {},
   "source": [
    "## Pretreatment\n",
    "We will be using [pandas](http://pandas.pydata.org/) to setup the learning data to fit with pyAgrum requirements."
   ]
  },
  {
   "cell_type": "code",
   "execution_count": 1,
   "metadata": {},
   "outputs": [],
   "source": [
    "import pandas\n",
    "import os"
   ]
  },
  {
   "cell_type": "code",
   "execution_count": 2,
   "metadata": {},
   "outputs": [],
   "source": [
    "traindf=pandas.read_csv(os.path.join('res', 'titanic', 'train.csv'))\n",
    "\n",
    "testdf=pandas.merge(pandas.read_csv(os.path.join('res', 'titanic', 'test.csv')),\n",
    "                    pandas.read_csv(os.path.join('res', 'titanic', 'gender_submission.csv')),\n",
    "                    on=\"PassengerId\")"
   ]
  },
  {
   "cell_type": "markdown",
   "metadata": {},
   "source": [
    "This merges both the test base and their respective classes, i.e. if a passagen has survived or not."
   ]
  },
  {
   "cell_type": "code",
   "execution_count": 3,
   "metadata": {},
   "outputs": [
    {
     "data": {
      "text/plain": [
       "PassengerId    66231.000000\n",
       "Survived           0.236772\n",
       "Pclass             0.699015\n",
       "Age              211.019125\n",
       "SibSp              1.216043\n",
       "Parch              0.649728\n",
       "Fare            2469.436846\n",
       "dtype: float64"
      ]
     },
     "execution_count": 3,
     "metadata": {},
     "output_type": "execute_result"
    }
   ],
   "source": [
    "traindf.var()"
   ]
  },
  {
   "cell_type": "code",
   "execution_count": 4,
   "metadata": {},
   "outputs": [
    {
     "name": "stdout",
     "output_type": "stream",
     "text": [
      "PassengerId: 891\n",
      "Survived: 2\n",
      "Pclass: 3\n",
      "Name: 891\n",
      "Sex: 2\n",
      "Age: 89\n",
      "SibSp: 7\n",
      "Parch: 7\n",
      "Ticket: 681\n",
      "Fare: 248\n",
      "Cabin: 148\n",
      "Embarked: 4\n"
     ]
    }
   ],
   "source": [
    "for k in traindf.keys():\n",
    "    print('{0}: {1}'.format(k, len(traindf[k].unique())))"
   ]
  },
  {
   "cell_type": "markdown",
   "metadata": {},
   "source": [
    "Looking at the number of unique values for each variable necessary since Bayesian Networks are discrete models. We will want to reduce the domain size of some discrete varaibles (like age) and discretize continuous variables (like Fare).\n",
    "\n",
    "For starters you can filter out variables with a large number of values. Choosing a large number will have an impact on performances, which boils down to how much CPU and RAM you have at your disposal. Here, we choose to filter out any variable with more than 10 different outcomes."
   ]
  },
  {
   "cell_type": "code",
   "execution_count": 5,
   "metadata": {},
   "outputs": [
    {
     "name": "stdout",
     "output_type": "stream",
     "text": [
      "Survived\n",
      "Pclass\n",
      "Sex\n",
      "SibSp\n",
      "Parch\n",
      "Embarked\n"
     ]
    }
   ],
   "source": [
    "for k in traindf.keys():\n",
    "    if len(traindf[k].unique())<=15:\n",
    "        print(k)"
   ]
  },
  {
   "cell_type": "markdown",
   "metadata": {},
   "source": [
    "This leaves us with 6 variables, not much but still enough to learn a Bayesian Network. Will just add one more variable by reducing the cardinality of the Age variable."
   ]
  },
  {
   "cell_type": "code",
   "execution_count": 6,
   "metadata": {},
   "outputs": [
    {
     "name": "stdout",
     "output_type": "stream",
     "text": [
      "decade: 10\n"
     ]
    }
   ],
   "source": [
    "import math\n",
    "\n",
    "def forAge(row):\n",
    "    if row['Age'] < 10:\n",
    "        return '<10'\n",
    "    elif math.isnan(row['Age']):\n",
    "        return \"nan\"\n",
    "    else:\n",
    "        dec = str(int(row['Age']/10))\n",
    "        return \"{0}0's\".format(dec)\n",
    "\n",
    "decade=traindf.apply(forAge, axis=1)\n",
    "print(\"decade: {1}\".format(k, len(decade.unique())))"
   ]
  },
  {
   "cell_type": "markdown",
   "metadata": {},
   "source": [
    "When pretreating data, you will want to wrap your changes inside a function, this will help you keep track of your changes and easily compare them."
   ]
  },
  {
   "cell_type": "code",
   "execution_count": 7,
   "metadata": {},
   "outputs": [],
   "source": [
    "import math\n",
    "def pretreat(df):\n",
    "    # create a df with discrete variables (len<10)\n",
    "    lvd=[k for k in df.keys() if len(df[k].unique())<=15]\n",
    "    res=df[lvd].copy()\n",
    "    \n",
    "    forAge = lambda row: \"{0}0th\".format(int(row['Age']/10)) if not math.isnan(row['Age']) else str(\"nan\")\n",
    "    res['decade']=df.apply(forAge, axis=1)\n",
    "   \n",
    "    return res"
   ]
  },
  {
   "cell_type": "code",
   "execution_count": 8,
   "metadata": {},
   "outputs": [],
   "source": [
    "ptraindf=pretreat(traindf)\n",
    "ptestdf=pretreat(testdf)"
   ]
  },
  {
   "cell_type": "markdown",
   "metadata": {},
   "source": [
    "We will need to save this intermediate learning database, since pyAgrum accepts only files as inputs."
   ]
  },
  {
   "cell_type": "code",
   "execution_count": 9,
   "metadata": {},
   "outputs": [],
   "source": [
    "ptraindf.to_csv(os.path.join('res', 'titanic', 'post_train.csv'), index=False)\n",
    "ptestdf.to_csv(os.path.join('res', 'titanic', 'post_test.csv'), index=False)"
   ]
  },
  {
   "cell_type": "markdown",
   "metadata": {},
   "source": [
    "## Pre-learning\n",
    "Now we have two data files: `data/post_train.csv` and `data/post_test.csv`. The first one is our pretreated learning database, the second our pretreated test base.\n",
    "\n",
    "Before learning a Bayesian Network, we first need to create a template. This is not mandatory, however it is sometimes usefull since not all varaibles values are present in the learning base (in this example the number of relatives).\n",
    "\n",
    "If during the learning step, the algorithm encounters an unknown value it will raise an error. This would be an issue if we wanted to automitize our classifier but, we will directly use values working with the test and learning base. This is not ideal but the objective here it to explore the data fast, not thoroughly."
   ]
  },
  {
   "cell_type": "code",
   "execution_count": 10,
   "metadata": {},
   "outputs": [],
   "source": [
    "import pyAgrum as gum\n",
    "import pyAgrum.lib.notebook as gnb"
   ]
  },
  {
   "cell_type": "markdown",
   "metadata": {},
   "source": [
    "To help creating de the template Bayesian Network that we will use to learn our classifier, let us firt recall all the variables wa have at our disposal."
   ]
  },
  {
   "cell_type": "code",
   "execution_count": 11,
   "metadata": {},
   "outputs": [
    {
     "name": "stdout",
     "output_type": "stream",
     "text": [
      "Survived : [0 1]\n",
      "Pclass : [3 1 2]\n",
      "Sex : ['male' 'female']\n",
      "SibSp : [1 0 3 4 2 5 8]\n",
      "Parch : [0 1 2 5 3 4 6]\n",
      "Embarked : ['S' 'C' 'Q' nan]\n",
      "decade : ['20th' '30th' nan '50th' '00th' '10th' '40th' '60th' '70th' '80th']\n"
     ]
    }
   ],
   "source": [
    "df = pandas.read_csv(os.path.join('res', 'titanic', 'post_train.csv'))\n",
    "for k in df.keys():\n",
    "    print(\"{} : {}\".format(k, df[k].unique()))"
   ]
  },
  {
   "cell_type": "markdown",
   "metadata": {},
   "source": [
    "From here, creating the BayesNet is straitforward: for each variable we either use the `RangeVariable` class or the `LabelizedVariable`.\n",
    "\n",
    "The `RangeVariable` class creates a discrete random variable over a range. With the `LabelizedVariable` you will need to add each label ony by one. Note however that you can pass an argument to create as much labels starting from `0`."
   ]
  },
  {
   "cell_type": "code",
   "execution_count": 12,
   "metadata": {},
   "outputs": [
    {
     "data": {
      "text/html": [
       "<svg height=\"21pt\" viewBox=\"0.00 0.00 288.00 20.70\" width=\"288pt\" xmlns=\"http://www.w3.org/2000/svg\" xmlns:xlink=\"http://www.w3.org/1999/xlink\">\n",
       "<g class=\"graph\" id=\"graph0\" transform=\"scale(0.470363 0.470363) rotate(0) translate(4 40)\">\n",
       "<title>G</title>\n",
       "<!-- Survived -->\n",
       "<g class=\"node\" id=\"node1\"><title>Survived</title>\n",
       "<g id=\"a_node1\"><a xlink:title=\"(0) Survived\">\n",
       "<ellipse cx=\"42.2463\" cy=\"-18\" fill=\"#444444\" rx=\"42.4939\" ry=\"18\" stroke=\"black\"/>\n",
       "<text fill=\"#ffffff\" font-family=\"Times,serif\" font-size=\"14.00\" text-anchor=\"middle\" x=\"42.2463\" y=\"-14.3\">Survived</text>\n",
       "</a>\n",
       "</g>\n",
       "</g>\n",
       "<!-- Pclass -->\n",
       "<g class=\"node\" id=\"node2\"><title>Pclass</title>\n",
       "<g id=\"a_node2\"><a xlink:title=\"(1) Pclass\">\n",
       "<ellipse cx=\"135.246\" cy=\"-18\" fill=\"#444444\" rx=\"32.4942\" ry=\"18\" stroke=\"black\"/>\n",
       "<text fill=\"#ffffff\" font-family=\"Times,serif\" font-size=\"14.00\" text-anchor=\"middle\" x=\"135.246\" y=\"-14.3\">Pclass</text>\n",
       "</a>\n",
       "</g>\n",
       "</g>\n",
       "<!-- Sex -->\n",
       "<g class=\"node\" id=\"node3\"><title>Sex</title>\n",
       "<g id=\"a_node3\"><a xlink:title=\"(2) Sex\">\n",
       "<ellipse cx=\"212.246\" cy=\"-18\" fill=\"#444444\" rx=\"27\" ry=\"18\" stroke=\"black\"/>\n",
       "<text fill=\"#ffffff\" font-family=\"Times,serif\" font-size=\"14.00\" text-anchor=\"middle\" x=\"212.246\" y=\"-14.3\">Sex</text>\n",
       "</a>\n",
       "</g>\n",
       "</g>\n",
       "<!-- SibSp -->\n",
       "<g class=\"node\" id=\"node4\"><title>SibSp</title>\n",
       "<g id=\"a_node4\"><a xlink:title=\"(3) SibSp\">\n",
       "<ellipse cx=\"289.246\" cy=\"-18\" fill=\"#444444\" rx=\"31.6951\" ry=\"18\" stroke=\"black\"/>\n",
       "<text fill=\"#ffffff\" font-family=\"Times,serif\" font-size=\"14.00\" text-anchor=\"middle\" x=\"289.246\" y=\"-14.3\">SibSp</text>\n",
       "</a>\n",
       "</g>\n",
       "</g>\n",
       "<!-- Parch -->\n",
       "<g class=\"node\" id=\"node5\"><title>Parch</title>\n",
       "<g id=\"a_node5\"><a xlink:title=\"(4) Parch\">\n",
       "<ellipse cx=\"369.246\" cy=\"-18\" fill=\"#444444\" rx=\"30.5947\" ry=\"18\" stroke=\"black\"/>\n",
       "<text fill=\"#ffffff\" font-family=\"Times,serif\" font-size=\"14.00\" text-anchor=\"middle\" x=\"369.246\" y=\"-14.3\">Parch</text>\n",
       "</a>\n",
       "</g>\n",
       "</g>\n",
       "<!-- Embarked -->\n",
       "<g class=\"node\" id=\"node6\"><title>Embarked</title>\n",
       "<g id=\"a_node6\"><a xlink:title=\"(5) Embarked\">\n",
       "<ellipse cx=\"465.246\" cy=\"-18\" fill=\"#444444\" rx=\"47.3916\" ry=\"18\" stroke=\"black\"/>\n",
       "<text fill=\"#ffffff\" font-family=\"Times,serif\" font-size=\"14.00\" text-anchor=\"middle\" x=\"465.246\" y=\"-14.3\">Embarked</text>\n",
       "</a>\n",
       "</g>\n",
       "</g>\n",
       "<!-- Decade -->\n",
       "<g class=\"node\" id=\"node7\"><title>Decade</title>\n",
       "<g id=\"a_node7\"><a xlink:title=\"(6) Decade\">\n",
       "<ellipse cx=\"567.246\" cy=\"-18\" fill=\"#444444\" rx=\"37.0935\" ry=\"18\" stroke=\"black\"/>\n",
       "<text fill=\"#ffffff\" font-family=\"Times,serif\" font-size=\"14.00\" text-anchor=\"middle\" x=\"567.246\" y=\"-14.3\">Decade</text>\n",
       "</a>\n",
       "</g>\n",
       "</g>\n",
       "</g>\n",
       "</svg>"
      ],
      "text/plain": [
       "<IPython.core.display.HTML object>"
      ]
     },
     "metadata": {},
     "output_type": "display_data"
    }
   ],
   "source": [
    "template=gum.BayesNet()\n",
    "template.add(gum.RangeVariable(\"Survived\", \"Survived\",0,1))\n",
    "template.add(gum.RangeVariable(\"Pclass\", \"Pclass\",1,3))\n",
    "template.add(gum.LabelizedVariable(\"Sex\", \"Sex\",0).addLabel(\"female\").addLabel(\"male\"))\n",
    "template.add(gum.RangeVariable(\"SibSp\", \"SibSp\",0,8))\n",
    "template.add(gum.RangeVariable(\"Parch\", \"Parch\",0,9))\n",
    "template.add(gum.LabelizedVariable(\"Embarked\", \"Embarked\",0).addLabel('').addLabel('C').addLabel('Q').addLabel('S'))\n",
    "template.add(gum.LabelizedVariable(\"Decade\", \"Calculated decade\", 10).addLabel(''))\n",
    "gnb.showBN(template)"
   ]
  },
  {
   "cell_type": "markdown",
   "metadata": {},
   "source": [
    "You can also let the learning algorithm create the BayesNet random variables. However please be aware that the algorithm will no be able to handle values absent from the learning database."
   ]
  },
  {
   "cell_type": "markdown",
   "metadata": {},
   "source": [
    "## Learning\n",
    "\n",
    "We can now learn our first Bayesian Network. As you will see, this is really easy."
   ]
  },
  {
   "cell_type": "code",
   "execution_count": 13,
   "metadata": {
    "scrolled": false
   },
   "outputs": [
    {
     "data": {
      "text/html": [
       "<svg height=\"288pt\" viewBox=\"0.00 0.00 147.81 288.00\" width=\"148pt\" xmlns=\"http://www.w3.org/2000/svg\" xmlns:xlink=\"http://www.w3.org/1999/xlink\">\n",
       "<g class=\"graph\" id=\"graph0\" transform=\"scale(0.712871 0.712871) rotate(0) translate(4 400)\">\n",
       "<title>G</title>\n",
       "<!-- Survived -->\n",
       "<g class=\"node\" id=\"node1\"><title>Survived</title>\n",
       "<g id=\"a_node1\"><a xlink:title=\"(0) Survived\">\n",
       "<ellipse cx=\"77.4971\" cy=\"-162\" fill=\"#444444\" rx=\"42.4939\" ry=\"18\" stroke=\"black\"/>\n",
       "<text fill=\"#ffffff\" font-family=\"Times,serif\" font-size=\"14.00\" text-anchor=\"middle\" x=\"77.4971\" y=\"-158.3\">Survived</text>\n",
       "</a>\n",
       "</g>\n",
       "</g>\n",
       "<!-- Pclass -->\n",
       "<g class=\"node\" id=\"node2\"><title>Pclass</title>\n",
       "<g id=\"a_node2\"><a xlink:title=\"(1) Pclass\">\n",
       "<ellipse cx=\"32.4971\" cy=\"-18\" fill=\"#444444\" rx=\"32.4942\" ry=\"18\" stroke=\"black\"/>\n",
       "<text fill=\"#ffffff\" font-family=\"Times,serif\" font-size=\"14.00\" text-anchor=\"middle\" x=\"32.4971\" y=\"-14.3\">Pclass</text>\n",
       "</a>\n",
       "</g>\n",
       "</g>\n",
       "<!-- Survived&#45;&gt;Pclass -->\n",
       "<g class=\"edge\" id=\"edge1\"><title>Survived-&gt;Pclass</title>\n",
       "<g id=\"a_edge1\"><a xlink:title=\"(0, 1) : \">\n",
       "<path d=\"M52.4345,-147.363C38.4626,-138.249 22.3391,-124.845 14.4971,-108 5.13539,-87.8903 11.5032,-62.9988 19.1373,-44.6577\" fill=\"none\" stroke=\"black\"/>\n",
       "<polygon fill=\"black\" points=\"22.361,-46.0231 23.2921,-35.4692 15.9828,-43.1389 22.361,-46.0231\" stroke=\"black\"/>\n",
       "</a>\n",
       "</g>\n",
       "</g>\n",
       "<!-- SibSp -->\n",
       "<g class=\"node\" id=\"node4\"><title>SibSp</title>\n",
       "<g id=\"a_node4\"><a xlink:title=\"(3) SibSp\">\n",
       "<ellipse cx=\"167.497\" cy=\"-90\" fill=\"#444444\" rx=\"31.6951\" ry=\"18\" stroke=\"black\"/>\n",
       "<text fill=\"#ffffff\" font-family=\"Times,serif\" font-size=\"14.00\" text-anchor=\"middle\" x=\"167.497\" y=\"-86.3\">SibSp</text>\n",
       "</a>\n",
       "</g>\n",
       "</g>\n",
       "<!-- Survived&#45;&gt;SibSp -->\n",
       "<g class=\"edge\" id=\"edge8\"><title>Survived-&gt;SibSp</title>\n",
       "<g id=\"a_edge8\"><a xlink:title=\"(0, 3) : \">\n",
       "<path d=\"M97.0258,-145.811C110.077,-135.66 127.391,-122.194 141.591,-111.149\" fill=\"none\" stroke=\"black\"/>\n",
       "<polygon fill=\"black\" points=\"143.791,-113.872 149.536,-104.97 139.494,-108.346 143.791,-113.872\" stroke=\"black\"/>\n",
       "</a>\n",
       "</g>\n",
       "</g>\n",
       "<!-- Embarked -->\n",
       "<g class=\"node\" id=\"node6\"><title>Embarked</title>\n",
       "<g id=\"a_node6\"><a xlink:title=\"(5) Embarked\">\n",
       "<ellipse cx=\"70.4971\" cy=\"-90\" fill=\"#444444\" rx=\"47.3916\" ry=\"18\" stroke=\"black\"/>\n",
       "<text fill=\"#ffffff\" font-family=\"Times,serif\" font-size=\"14.00\" text-anchor=\"middle\" x=\"70.4971\" y=\"-86.3\">Embarked</text>\n",
       "</a>\n",
       "</g>\n",
       "</g>\n",
       "<!-- Survived&#45;&gt;Embarked -->\n",
       "<g class=\"edge\" id=\"edge4\"><title>Survived-&gt;Embarked</title>\n",
       "<g id=\"a_edge4\"><a xlink:title=\"(0, 5) : \">\n",
       "<path d=\"M75.7668,-143.697C74.9954,-135.983 74.0684,-126.712 73.2084,-118.112\" fill=\"none\" stroke=\"black\"/>\n",
       "<polygon fill=\"black\" points=\"76.6853,-117.706 72.2075,-108.104 69.72,-118.403 76.6853,-117.706\" stroke=\"black\"/>\n",
       "</a>\n",
       "</g>\n",
       "</g>\n",
       "<!-- Sex -->\n",
       "<g class=\"node\" id=\"node3\"><title>Sex</title>\n",
       "<g id=\"a_node3\"><a xlink:title=\"(2) Sex\">\n",
       "<ellipse cx=\"84.4971\" cy=\"-234\" fill=\"#444444\" rx=\"27\" ry=\"18\" stroke=\"black\"/>\n",
       "<text fill=\"#ffffff\" font-family=\"Times,serif\" font-size=\"14.00\" text-anchor=\"middle\" x=\"84.4971\" y=\"-230.3\">Sex</text>\n",
       "</a>\n",
       "</g>\n",
       "</g>\n",
       "<!-- Sex&#45;&gt;Survived -->\n",
       "<g class=\"edge\" id=\"edge3\"><title>Sex-&gt;Survived</title>\n",
       "<g id=\"a_edge3\"><a xlink:title=\"(2, 0) : \">\n",
       "<path d=\"M82.7668,-215.697C81.9954,-207.983 81.0684,-198.712 80.2084,-190.112\" fill=\"none\" stroke=\"black\"/>\n",
       "<polygon fill=\"black\" points=\"83.6853,-189.706 79.2075,-180.104 76.72,-190.403 83.6853,-189.706\" stroke=\"black\"/>\n",
       "</a>\n",
       "</g>\n",
       "</g>\n",
       "<!-- Parch -->\n",
       "<g class=\"node\" id=\"node5\"><title>Parch</title>\n",
       "<g id=\"a_node5\"><a xlink:title=\"(4) Parch\">\n",
       "<ellipse cx=\"119.497\" cy=\"-306\" fill=\"#444444\" rx=\"30.5947\" ry=\"18\" stroke=\"black\"/>\n",
       "<text fill=\"#ffffff\" font-family=\"Times,serif\" font-size=\"14.00\" text-anchor=\"middle\" x=\"119.497\" y=\"-302.3\">Parch</text>\n",
       "</a>\n",
       "</g>\n",
       "</g>\n",
       "<!-- Parch&#45;&gt;Sex -->\n",
       "<g class=\"edge\" id=\"edge6\"><title>Parch-&gt;Sex</title>\n",
       "<g id=\"a_edge6\"><a xlink:title=\"(4, 2) : \">\n",
       "<path d=\"M111.203,-288.411C107.062,-280.129 101.96,-269.925 97.3281,-260.662\" fill=\"none\" stroke=\"black\"/>\n",
       "<polygon fill=\"black\" points=\"100.335,-258.849 92.7321,-251.47 94.0738,-261.979 100.335,-258.849\" stroke=\"black\"/>\n",
       "</a>\n",
       "</g>\n",
       "</g>\n",
       "<!-- Parch&#45;&gt;SibSp -->\n",
       "<g class=\"edge\" id=\"edge5\"><title>Parch-&gt;SibSp</title>\n",
       "<g id=\"a_edge5\"><a xlink:title=\"(4, 3) : \">\n",
       "<path d=\"M123.344,-287.849C131.685,-250.662 151.488,-162.374 161.492,-117.772\" fill=\"none\" stroke=\"black\"/>\n",
       "<polygon fill=\"black\" points=\"164.925,-118.459 163.699,-107.935 158.095,-116.927 164.925,-118.459\" stroke=\"black\"/>\n",
       "</a>\n",
       "</g>\n",
       "</g>\n",
       "<!-- Embarked&#45;&gt;Pclass -->\n",
       "<g class=\"edge\" id=\"edge7\"><title>Embarked-&gt;Pclass</title>\n",
       "<g id=\"a_edge7\"><a xlink:title=\"(5, 1) : \">\n",
       "<path d=\"M61.2984,-72.055C56.8641,-63.8866 51.4491,-53.9116 46.5161,-44.8244\" fill=\"none\" stroke=\"black\"/>\n",
       "<polygon fill=\"black\" points=\"49.4581,-42.9077 41.6111,-35.789 43.3061,-46.2474 49.4581,-42.9077\" stroke=\"black\"/>\n",
       "</a>\n",
       "</g>\n",
       "</g>\n",
       "<!-- decade -->\n",
       "<g class=\"node\" id=\"node7\"><title>decade</title>\n",
       "<g id=\"a_node7\"><a xlink:title=\"(6) decade\">\n",
       "<ellipse cx=\"119.497\" cy=\"-378\" fill=\"#444444\" rx=\"35.194\" ry=\"18\" stroke=\"black\"/>\n",
       "<text fill=\"#ffffff\" font-family=\"Times,serif\" font-size=\"14.00\" text-anchor=\"middle\" x=\"119.497\" y=\"-374.3\">decade</text>\n",
       "</a>\n",
       "</g>\n",
       "</g>\n",
       "<!-- decade&#45;&gt;Parch -->\n",
       "<g class=\"edge\" id=\"edge2\"><title>decade-&gt;Parch</title>\n",
       "<g id=\"a_edge2\"><a xlink:title=\"(6, 4) : \">\n",
       "<path d=\"M119.497,-359.697C119.497,-351.983 119.497,-342.712 119.497,-334.112\" fill=\"none\" stroke=\"black\"/>\n",
       "<polygon fill=\"black\" points=\"122.997,-334.104 119.497,-324.104 115.997,-334.104 122.997,-334.104\" stroke=\"black\"/>\n",
       "</a>\n",
       "</g>\n",
       "</g>\n",
       "</g>\n",
       "</svg>"
      ],
      "text/plain": [
       "(gum::BayesNet<double>@0x5584e9dc5db0) BN{nodes: 7, arcs: 8, domainSize: 43200, parameters: 346, compression ratio: 99% }"
      ]
     },
     "execution_count": 13,
     "metadata": {},
     "output_type": "execute_result"
    }
   ],
   "source": [
    "learner = gum.BNLearner(os.path.join('res', 'titanic', 'post_train.csv'), template)\n",
    "bn = learner.learnBN()\n",
    "bn"
   ]
  },
  {
   "cell_type": "markdown",
   "metadata": {},
   "source": [
    "In a notebook, a Bayesian Network will automatically be shown graphically, you can also use the helper function `gnb.showBN(bn)`."
   ]
  },
  {
   "cell_type": "markdown",
   "metadata": {},
   "source": [
    "## Exploring the data\n",
    "Now that we have a BayesNet, we can start looking how the variables corelate with each other. pyAgum offer the perfect tool for that: the information graph."
   ]
  },
  {
   "cell_type": "code",
   "execution_count": 14,
   "metadata": {},
   "outputs": [
    {
     "data": {
      "text/html": [
       "<div align='center'><svg height=\"404pt\" viewBox=\"0.00 0.00 207.34 404.00\" width=\"207pt\" xmlns=\"http://www.w3.org/2000/svg\" xmlns:xlink=\"http://www.w3.org/1999/xlink\">\n",
       "<g class=\"graph\" id=\"graph0\" transform=\"scale(1 1) rotate(0) translate(4 400)\">\n",
       "<title>G</title>\n",
       "<!-- Survived -->\n",
       "<g class=\"node\" id=\"node1\"><title>Survived</title>\n",
       "<g id=\"a_node1\"><a xlink:title=\"(0) Survived : 0.96080\">\n",
       "<ellipse cx=\"77.4971\" cy=\"-162\" fill=\"#4e0305\" rx=\"42.4939\" ry=\"18\" stroke=\"black\"/>\n",
       "<text fill=\"#ffffff\" font-family=\"Times,serif\" font-size=\"14.00\" text-anchor=\"middle\" x=\"77.4971\" y=\"-158.3\">Survived</text>\n",
       "</a>\n",
       "</g>\n",
       "</g>\n",
       "<!-- Pclass -->\n",
       "<g class=\"node\" id=\"node2\"><title>Pclass</title>\n",
       "<g id=\"a_node2\"><a xlink:title=\"(1) Pclass : 1.43964\">\n",
       "<ellipse cx=\"32.4971\" cy=\"-18\" fill=\"#622a47\" rx=\"32.4942\" ry=\"18\" stroke=\"black\"/>\n",
       "<text fill=\"#ffffff\" font-family=\"Times,serif\" font-size=\"14.00\" text-anchor=\"middle\" x=\"32.4971\" y=\"-14.3\">Pclass</text>\n",
       "</a>\n",
       "</g>\n",
       "</g>\n",
       "<!-- Survived&#45;&gt;Pclass -->\n",
       "<g class=\"edge\" id=\"edge1\"><title>Survived-&gt;Pclass</title>\n",
       "<g id=\"a_edge1\"><a xlink:title=\"(0, 1) : 0.08367924601191316\">\n",
       "<path d=\"M52.4345,-147.363C38.4626,-138.249 22.3391,-124.845 14.4971,-108 5.13539,-87.8903 11.5032,-62.9988 19.1373,-44.6577\" fill=\"none\" stroke=\"black\" stroke-width=\"1.65325\"/>\n",
       "<polygon fill=\"black\" points=\"22.361,-46.0231 23.2921,-35.4692 15.9828,-43.1389 22.361,-46.0231\" stroke=\"black\" stroke-width=\"1.65325\"/>\n",
       "</a>\n",
       "</g>\n",
       "</g>\n",
       "<!-- SibSp -->\n",
       "<g class=\"node\" id=\"node4\"><title>SibSp</title>\n",
       "<g id=\"a_node4\"><a xlink:title=\"(3) SibSp : 1.36568\">\n",
       "<ellipse cx=\"167.497\" cy=\"-90\" fill=\"#5f243d\" rx=\"31.6951\" ry=\"18\" stroke=\"black\"/>\n",
       "<text fill=\"#ffffff\" font-family=\"Times,serif\" font-size=\"14.00\" text-anchor=\"middle\" x=\"167.497\" y=\"-86.3\">SibSp</text>\n",
       "</a>\n",
       "</g>\n",
       "</g>\n",
       "<!-- Survived&#45;&gt;SibSp -->\n",
       "<g class=\"edge\" id=\"edge8\"><title>Survived-&gt;SibSp</title>\n",
       "<g id=\"a_edge8\"><a xlink:title=\"(0, 3) : 0.029468123609304054\">\n",
       "<path d=\"M97.0258,-145.811C110.077,-135.66 127.391,-122.194 141.591,-111.149\" fill=\"none\" stroke=\"black\" stroke-width=\"0.253358\"/>\n",
       "<polygon fill=\"black\" points=\"143.791,-113.872 149.536,-104.97 139.494,-108.346 143.791,-113.872\" stroke=\"black\" stroke-width=\"0.253358\"/>\n",
       "</a>\n",
       "</g>\n",
       "</g>\n",
       "<!-- Embarked -->\n",
       "<g class=\"node\" id=\"node6\"><title>Embarked</title>\n",
       "<g id=\"a_node6\"><a xlink:title=\"(5) Embarked : 1.12038\">\n",
       "<ellipse cx=\"70.4971\" cy=\"-90\" fill=\"#54101b\" rx=\"47.3916\" ry=\"18\" stroke=\"black\"/>\n",
       "<text fill=\"#ffffff\" font-family=\"Times,serif\" font-size=\"14.00\" text-anchor=\"middle\" x=\"70.4971\" y=\"-86.3\">Embarked</text>\n",
       "</a>\n",
       "</g>\n",
       "</g>\n",
       "<!-- Survived&#45;&gt;Embarked -->\n",
       "<g class=\"edge\" id=\"edge4\"><title>Survived-&gt;Embarked</title>\n",
       "<g id=\"a_edge4\"><a xlink:title=\"(0, 5) : 0.023529301398958508\">\n",
       "<path d=\"M75.7668,-143.697C74.9954,-135.983 74.0684,-126.712 73.2084,-118.112\" fill=\"none\" stroke=\"black\" stroke-width=\"0.1\"/>\n",
       "<polygon fill=\"black\" points=\"76.6853,-117.706 72.2075,-108.104 69.72,-118.403 76.6853,-117.706\" stroke=\"black\" stroke-width=\"0.1\"/>\n",
       "</a>\n",
       "</g>\n",
       "</g>\n",
       "<!-- Sex -->\n",
       "<g class=\"node\" id=\"node3\"><title>Sex</title>\n",
       "<g id=\"a_node3\"><a xlink:title=\"(2) Sex : 0.93635\">\n",
       "<ellipse cx=\"84.4971\" cy=\"-234\" fill=\"#4d0102\" rx=\"27\" ry=\"18\" stroke=\"black\"/>\n",
       "<text fill=\"#ffffff\" font-family=\"Times,serif\" font-size=\"14.00\" text-anchor=\"middle\" x=\"84.4971\" y=\"-230.3\">Sex</text>\n",
       "</a>\n",
       "</g>\n",
       "</g>\n",
       "<!-- Sex&#45;&gt;Survived -->\n",
       "<g class=\"edge\" id=\"edge3\"><title>Sex-&gt;Survived</title>\n",
       "<g id=\"a_edge3\"><a xlink:title=\"(2, 0) : 0.21715541239879504\">\n",
       "<path d=\"M82.7668,-215.697C81.9954,-207.983 81.0684,-198.712 80.2084,-190.112\" fill=\"none\" stroke=\"black\" stroke-width=\"5.1\"/>\n",
       "<polygon fill=\"black\" points=\"84.643,-189.611 79.2075,-180.104 75.7623,-190.499 84.643,-189.611\" stroke=\"black\" stroke-width=\"5.1\"/>\n",
       "</a>\n",
       "</g>\n",
       "</g>\n",
       "<!-- Parch -->\n",
       "<g class=\"node\" id=\"node5\"><title>Parch</title>\n",
       "<g id=\"a_node5\"><a xlink:title=\"(4) Parch : 1.13637\">\n",
       "<ellipse cx=\"119.497\" cy=\"-306\" fill=\"#55111d\" rx=\"30.5947\" ry=\"18\" stroke=\"black\"/>\n",
       "<text fill=\"#ffffff\" font-family=\"Times,serif\" font-size=\"14.00\" text-anchor=\"middle\" x=\"119.497\" y=\"-302.3\">Parch</text>\n",
       "</a>\n",
       "</g>\n",
       "</g>\n",
       "<!-- Parch&#45;&gt;Sex -->\n",
       "<g class=\"edge\" id=\"edge6\"><title>Parch-&gt;Sex</title>\n",
       "<g id=\"a_edge6\"><a xlink:title=\"(4, 2) : 0.047228938295119906\">\n",
       "<path d=\"M111.203,-288.411C107.062,-280.129 101.96,-269.925 97.3281,-260.662\" fill=\"none\" stroke=\"black\" stroke-width=\"0.711995\"/>\n",
       "<polygon fill=\"black\" points=\"100.335,-258.849 92.7321,-251.47 94.0738,-261.979 100.335,-258.849\" stroke=\"black\" stroke-width=\"0.711995\"/>\n",
       "</a>\n",
       "</g>\n",
       "</g>\n",
       "<!-- Parch&#45;&gt;SibSp -->\n",
       "<g class=\"edge\" id=\"edge5\"><title>Parch-&gt;SibSp</title>\n",
       "<g id=\"a_edge5\"><a xlink:title=\"(4, 3) : 0.21195371835758875\">\n",
       "<path d=\"M123.344,-287.849C131.685,-250.662 151.488,-162.374 161.492,-117.772\" fill=\"none\" stroke=\"black\" stroke-width=\"4.96568\"/>\n",
       "<polygon fill=\"black\" points=\"165.749,-118.644 163.699,-107.935 157.27,-116.742 165.749,-118.644\" stroke=\"black\" stroke-width=\"4.96568\"/>\n",
       "</a>\n",
       "</g>\n",
       "</g>\n",
       "<!-- Embarked&#45;&gt;Pclass -->\n",
       "<g class=\"edge\" id=\"edge7\"><title>Embarked-&gt;Pclass</title>\n",
       "<g id=\"a_edge7\"><a xlink:title=\"(5, 1) : 0.10523655617315925\">\n",
       "<path d=\"M61.2984,-72.055C56.8641,-63.8866 51.4491,-53.9116 46.5161,-44.8244\" fill=\"none\" stroke=\"black\" stroke-width=\"2.20992\"/>\n",
       "<polygon fill=\"black\" points=\"49.4581,-42.9077 41.6111,-35.789 43.3061,-46.2474 49.4581,-42.9077\" stroke=\"black\" stroke-width=\"2.20992\"/>\n",
       "</a>\n",
       "</g>\n",
       "</g>\n",
       "<!-- decade -->\n",
       "<g class=\"node\" id=\"node7\"><title>decade</title>\n",
       "<g id=\"a_node7\"><a xlink:title=\"(6) decade : 2.77848\">\n",
       "<ellipse cx=\"119.497\" cy=\"-378\" fill=\"#9898fd\" rx=\"35.194\" ry=\"18\" stroke=\"black\"/>\n",
       "<text fill=\"#000000\" font-family=\"Times,serif\" font-size=\"14.00\" text-anchor=\"middle\" x=\"119.497\" y=\"-374.3\">decade</text>\n",
       "</a>\n",
       "</g>\n",
       "</g>\n",
       "<!-- decade&#45;&gt;Parch -->\n",
       "<g class=\"edge\" id=\"edge2\"><title>decade-&gt;Parch</title>\n",
       "<g id=\"a_edge2\"><a xlink:title=\"(6, 4) : 0.20931313785886463\">\n",
       "<path d=\"M119.497,-359.697C119.497,-351.983 119.497,-342.712 119.497,-334.112\" fill=\"none\" stroke=\"black\" stroke-width=\"4.89749\"/>\n",
       "<polygon fill=\"black\" points=\"123.783,-334.104 119.497,-324.104 115.212,-334.104 123.783,-334.104\" stroke=\"black\" stroke-width=\"4.89749\"/>\n",
       "</a>\n",
       "</g>\n",
       "</g>\n",
       "</g>\n",
       "</svg></div><div align='center'><font color='#4d0102'>0.9363497953477022</font><img style='vertical-align:middle' src='data:image/png;base64,iVBORw0KGgoAAAANSUhEUgAAAhsAAABRCAYAAAB7e2SeAAAABHNCSVQICAgIfAhkiAAAAAlwSFlz\n",
       "AAALEgAACxIB0t1+/AAAADl0RVh0U29mdHdhcmUAbWF0cGxvdGxpYiB2ZXJzaW9uIDIuMS4yLCBo\n",
       "dHRwOi8vbWF0cGxvdGxpYi5vcmcvNQv5yAAACKRJREFUeJzt3X+IZWUdx/H3J1dJy2p1s8wf/QAh\n",
       "CsyWEDWzLcJMCPsFGWYmURYUWRRIf5jmPxFRUGASJbJhCqWuVv4EhSRTUlt31S01WUyTZDXUtaVl\n",
       "l29/3DPbbfbembOz98ydnfN+wTD3Ps9zz33O9z7zne+cc+eeVBWSJEldedm0JyBJkpY3iw1JktQp\n",
       "iw1JktQpiw1JktQpiw1JktQpiw1JktQpiw1JktQpiw1JktQpiw1JktSpFXsy+LCkts87Kq2aM27c\n",
       "XA+e9yFzD9jVm7bP3W5fWkysGTWZ/fjfsAXEcPa9Be7L0n1N9mw77R62ODHZfS4LjMnYh01hnS70\n",
       "ddnb555QDHd/9Hzbm+xrMRg6a622fe6xzQuLyfjXZNL5au79yHzj2mxzQvsy7ddk4TFp+zM+/6An\n",
       "nrjvlqo6bb6t7FGxsR04ZdeCmZnsTND///7Y9l3JZHb73m9zV39nc1zq29sX5rjUt7f32+zbOtx9\n",
       "f5feHPe97e0Lc1xa2+vjOpx0rllIDM87L6towdMokiSpUxYbkiSpUxYbkiSpUxYbkiSpUxYbkiSp\n",
       "UxYbkiSpUxYbkiSpUxYbkiSpUxYbkiSpUxYbkiSpUxYbkiSpUxYbkiSpUxYbkiSpUxYbkiSpUxYb\n",
       "kiSpUxYbkiSpUxYbkiSpUxYbkiSpUxYbkiSpUxYbkiSpUxYbkiSpUxYbkiSpUxYbkiSpUxYbkiSp\n",
       "UxYbkiSpUxYbkiSpUxYbkiSpUxYbkiSpUxYbkiSpUxYbkiSpUxYbkiSpU6mq9oOTm4FVE3jeVcCW\n",
       "CWxnuTEuoxmX8YzNaMZlNOMynrEZbb64bKmq0+bbyB4VG5OS5N6qeteiP/ESZ1xGMy7jGZvRjMto\n",
       "xmU8YzPapOLiaRRJktQpiw1JktSpaRUbP53S8y51xmU04zKesRnNuIxmXMYzNqNNJC5Tec+GJEnq\n",
       "D0+jSJKkTk202EhyeZJnkjw4pj9JfpTksSQbkqwe6jsnyaPN1zmTnNe0tYjLWU08Nia5K8k7hvo2\n",
       "N+3rk9y7eLPuXou4rEnyfLPv65NcONR3WpK/NmvpgsWb9eJoEZtvDsXlwSQ7kxzS9C3nNXNUkjuS\n",
       "PJzkoSRfHTGmd3mmZVx6l2daxqWXeaZlbCaXZ6pqYl/AKcBq4MEx/acDNwEBTgDuadoPAR5vvq9s\n",
       "bq+c5Nym+dUiLifN7C/woZm4NPc3A6umvQ9Tissa4Lcj2vcD/ga8BTgAeAB427T3ZzFjM2vsh4Hb\n",
       "e7JmDgdWN7cPBh6Z/dr3Mc+0jEvv8kzLuPQyz7SJzazxe5VnJnpko6p+Dzw3x5AzgLU1cDfwmiSH\n",
       "Ax8Ebquq56rqX8BtwLwfErKvmC8uVXVXs98AdwNHLsrEpqzFehnneOCxqnq8qrYDVzNYW8vGHsbm\n",
       "U8BVHU5nyaiqp6vq/ub2i8Am4IhZw3qXZ9rEpY95puV6GWdZ55kFxGav8sxiv2fjCODvQ/efbNrG\n",
       "tffR5xj8VTajgFuT3JfkC1Oa0zSdmOSBJDcleXvT5nppJDmIwS/Ma4aae7FmkrwJeCdwz6yuXueZ\n",
       "OeIyrHd5Zp649DrPzLdmJpFnVuz9NDUpSd7HIAmcPNR8clU9leQw4LYkf2n+6u2D+4E3VtXWJKcD\n",
       "64BjpjynpebDwB+qavgoyLJfM0leySDxnV9VL0x7PktFm7j0Mc/ME5de55mWP0t7nWcW+8jGU8BR\n",
       "Q/ePbNrGtfdGkmOBnwFnVNWzM+1V9VTz/RngOgaH9nqhql6oqq3N7RuB/ZOswvUy7ExmHdpc7msm\n",
       "yf4MkuOVVXXtiCG9zDMt4tLLPDNfXPqcZ9qsmcZe55nFLjZuAD7TvFv8BOD5qnoauAU4NcnKJCuB\n",
       "U5u2XkhyNHAtcHZVPTLU/ookB8/cZhCXkf+dsBwleX2SNLePZ7BenwX+BByT5M1JDmDwg3DD9GY6\n",
       "HUleDbwXuH6obVmvmWY9/BzYVFU/GDOsd3mmTVz6mGdaxqWXeablz9LE8sxET6MkuYrBO3tXJXkS\n",
       "+DawP0BVXQbcyOCd4o8B/wbObfqeS3IJgxcX4DuzDtfs01rE5ULgUODSZs3vqMGFb14HXNe0rQB+\n",
       "WVU3L/oOdKRFXD4BfCnJDmAbcGYN3ga9I8mXGfyi2A+4vKoemsIudKZFbAA+CtxaVS8NPXRZrxng\n",
       "3cDZwMYk65u2bwFHQ6/zTJu49DHPtIlLX/NMm9jAhPKMnyAqSZI65SeISpKkTllsSJKkTllsSJKk\n",
       "TllsSJKkTllsSJKkTvkJolKPJNkJbBxqurqqvjvH+DXA9qq6q+u5SVq+LDakftlWVcftwfg1wFZg\n",
       "t2IjyYqq2jGpiUlavjyNIokkm5NcnOT+JBuTvLW5ONMXga8lWZ/kPUmuSHJZknuA7yU5JMm6JBuS\n",
       "3N18HDZJLkryiyR/TPJoks837WuTfGToea9MsmyupClpNIsNqV8ObAqHma9PDvVtqarVwE+Ab1TV\n",
       "ZuAy4IdVdVxV3dmMOxI4qaq+DlwM/LmqjmXw6YNrh7Z3LPB+4ETgwiRvYPDxyJ+FXR+DfBLwu472\n",
       "VdIS4WkUqV/mOo0ycyGm+4CPzbGNX1XVzub2ycDHAarq9iSHJnlV03d9VW0DtiW5Azi+qtYluTTJ\n",
       "a5vHXeOpGGn5s9iQNOM/zfedzJ0bXpqjb9jsayHM3F8LfJrBha3ObT07SfssT6NImsuLwMFz9N8J\n",
       "nAW7/nNlS1W90PSdkeTlSQ5l8EbTmQugXQGcD1BVD09+ypKWGo9sSP1y4NAVHgFurqoL5hj/G+DX\n",
       "zZs4vzKi/yLg8iQbGFxh9Zyhvg3AHcAq4JKq+gdAVf0zySZg3cJ3Q9K+xKu+Spq4JBcBW6vq+yP6\n",
       "DmLwWR+rq+r5xZ6bpMXnaRRJiybJB4BNwI8tNKT+8MiGJEnqlEc2JElSpyw2JElSpyw2JElSpyw2\n",
       "JElSpyw2JElSpyw2JElSp/4LcjTTYSJpCDYAAAAASUVORK5CYII=\n",
       "'><font color='#9898fd'>2.7784812428636143</font></div>"
      ],
      "text/plain": [
       "<IPython.core.display.HTML object>"
      ]
     },
     "metadata": {},
     "output_type": "display_data"
    }
   ],
   "source": [
    "gnb.showInformation(bn,{},size=\"20\")"
   ]
  },
  {
   "cell_type": "markdown",
   "metadata": {},
   "source": [
    "To read this graph, you must understand what the entropy of a variable means: the hightest the value the more uncertain the variable marginal probability distrubition is (maximum entropy beging the equiprobable law). The lowest the value is, the more /certain/ the law is.\n",
    "\n",
    "A consequence of how entropy is calculated, is that entropy tends to get bigger if the random varaible has many modalities.\n",
    "\n",
    "What the information graph tells us is that the `decade` variable has a hight entropy. Thus, we can conclude that the passengers `decade` is distributed between all of its modalities.\n",
    "\n",
    "What it also tells us, it that high modality variables with low entropy, such as `Parch` or `SibSp`, are not evenly distributed.\n",
    "\n",
    "Let us look at he variables marginal probability by using the `showInference()` function."
   ]
  },
  {
   "cell_type": "code",
   "execution_count": 15,
   "metadata": {
    "scrolled": false
   },
   "outputs": [
    {
     "data": {
      "image/png": "[encoded data removed]"
     },
     "metadata": {},
     "output_type": "display_data"
    }
   ],
   "source": [
    "gnb.showInference(bn)"
   ]
  },
  {
   "cell_type": "markdown",
   "metadata": {},
   "source": [
    "The `showInference()` is really usefull as it shows the marginal probability distribution for each random variable of a BayesNet.\n",
    "\n",
    "We can now confirm what the entropy learned us: `Parch` and `SibSp` are unevenly distributed and `decade` is more evenly distributed.\n",
    "\n",
    "Lets focus on the Kaggle challenge now, and look at the `Survived` variable. We show a single posterior using the `showPosterior()` function."
   ]
  },
  {
   "cell_type": "code",
   "execution_count": 16,
   "metadata": {},
   "outputs": [
    {
     "data": {
      "image/png": "[encoded data removed]",
      "text/plain": [
       "<matplotlib.figure.Figure at 0x7f819461d7b8>"
      ]
     },
     "metadata": {},
     "output_type": "display_data"
    }
   ],
   "source": [
    "gnb.showPosterior(bn,evs={},target='Survived')"
   ]
  },
  {
   "cell_type": "markdown",
   "metadata": {},
   "source": [
    "So almost 38% of the passenger in our learning database survived.\n",
    "\n",
    "So how can we use this BayesNet as a classifier ? Given a set of evidence, we can infer an update posterio distribution of the target variable `Survived`.\n",
    "\n",
    "Lets look at the odds of surviving as a man in his thirties."
   ]
  },
  {
   "cell_type": "code",
   "execution_count": 17,
   "metadata": {},
   "outputs": [
    {
     "data": {
      "image/png": "[encoded data removed]",
      "text/plain": [
       "<matplotlib.figure.Figure at 0x7f8194616780>"
      ]
     },
     "metadata": {},
     "output_type": "display_data"
    }
   ],
   "source": [
    "gnb.showPosterior(bn,evs={\"Sex\": \"male\", \"decade\": 3},target='Survived')"
   ]
  },
  {
   "cell_type": "markdown",
   "metadata": {},
   "source": [
    "And now the odds of an old lady to survive."
   ]
  },
  {
   "cell_type": "code",
   "execution_count": 18,
   "metadata": {},
   "outputs": [
    {
     "data": {
      "image/png": "[encoded data removed]",
      "text/plain": [
       "<matplotlib.figure.Figure at 0x7f8194685550>"
      ]
     },
     "metadata": {},
     "output_type": "display_data"
    }
   ],
   "source": [
    "gnb.showPosterior(bn,evs={\"Sex\": \"female\", \"decade\": 8},target='Survived')"
   ]
  },
  {
   "cell_type": "markdown",
   "metadata": {},
   "source": [
    "Well, children and ladies first, that's right ?\n",
    "\n",
    "One last information we will need is which variables are required to predict the `Survived` variable. To do, we will use the markov blanket of `Survived`.\n",
    "\n"
   ]
  },
  {
   "cell_type": "code",
   "execution_count": 19,
   "metadata": {},
   "outputs": [
    {
     "data": {
      "text/html": [
       "<table style=\"border-style: hidden; border-collapse: collapse;\" width=\"100%\"><tr><td style=\"border-top:hidden;border-bottom:hidden;\"><div align=\"center\"><svg height=\"288pt\" viewBox=\"0.00 0.00 147.81 288.00\" width=\"148pt\" xmlns=\"http://www.w3.org/2000/svg\" xmlns:xlink=\"http://www.w3.org/1999/xlink\">\n",
       "<g class=\"graph\" id=\"graph0\" transform=\"scale(0.712871 0.712871) rotate(0) translate(4 400)\">\n",
       "<title>G</title>\n",
       "<!-- Survived -->\n",
       "<g class=\"node\" id=\"node1\"><title>Survived</title>\n",
       "<g id=\"a_node1\"><a xlink:title=\"(0) Survived\">\n",
       "<ellipse cx=\"77.4971\" cy=\"-162\" fill=\"#444444\" rx=\"42.4939\" ry=\"18\" stroke=\"black\"/>\n",
       "<text fill=\"#ffffff\" font-family=\"Times,serif\" font-size=\"14.00\" text-anchor=\"middle\" x=\"77.4971\" y=\"-158.3\">Survived</text>\n",
       "</a>\n",
       "</g>\n",
       "</g>\n",
       "<!-- Pclass -->\n",
       "<g class=\"node\" id=\"node2\"><title>Pclass</title>\n",
       "<g id=\"a_node2\"><a xlink:title=\"(1) Pclass\">\n",
       "<ellipse cx=\"32.4971\" cy=\"-18\" fill=\"#444444\" rx=\"32.4942\" ry=\"18\" stroke=\"black\"/>\n",
       "<text fill=\"#ffffff\" font-family=\"Times,serif\" font-size=\"14.00\" text-anchor=\"middle\" x=\"32.4971\" y=\"-14.3\">Pclass</text>\n",
       "</a>\n",
       "</g>\n",
       "</g>\n",
       "<!-- Survived&#45;&gt;Pclass -->\n",
       "<g class=\"edge\" id=\"edge1\"><title>Survived-&gt;Pclass</title>\n",
       "<g id=\"a_edge1\"><a xlink:title=\"(0, 1) : \">\n",
       "<path d=\"M52.4345,-147.363C38.4626,-138.249 22.3391,-124.845 14.4971,-108 5.13539,-87.8903 11.5032,-62.9988 19.1373,-44.6577\" fill=\"none\" stroke=\"black\"/>\n",
       "<polygon fill=\"black\" points=\"22.361,-46.0231 23.2921,-35.4692 15.9828,-43.1389 22.361,-46.0231\" stroke=\"black\"/>\n",
       "</a>\n",
       "</g>\n",
       "</g>\n",
       "<!-- SibSp -->\n",
       "<g class=\"node\" id=\"node4\"><title>SibSp</title>\n",
       "<g id=\"a_node4\"><a xlink:title=\"(3) SibSp\">\n",
       "<ellipse cx=\"167.497\" cy=\"-90\" fill=\"#444444\" rx=\"31.6951\" ry=\"18\" stroke=\"black\"/>\n",
       "<text fill=\"#ffffff\" font-family=\"Times,serif\" font-size=\"14.00\" text-anchor=\"middle\" x=\"167.497\" y=\"-86.3\">SibSp</text>\n",
       "</a>\n",
       "</g>\n",
       "</g>\n",
       "<!-- Survived&#45;&gt;SibSp -->\n",
       "<g class=\"edge\" id=\"edge8\"><title>Survived-&gt;SibSp</title>\n",
       "<g id=\"a_edge8\"><a xlink:title=\"(0, 3) : \">\n",
       "<path d=\"M97.0258,-145.811C110.077,-135.66 127.391,-122.194 141.591,-111.149\" fill=\"none\" stroke=\"black\"/>\n",
       "<polygon fill=\"black\" points=\"143.791,-113.872 149.536,-104.97 139.494,-108.346 143.791,-113.872\" stroke=\"black\"/>\n",
       "</a>\n",
       "</g>\n",
       "</g>\n",
       "<!-- Embarked -->\n",
       "<g class=\"node\" id=\"node6\"><title>Embarked</title>\n",
       "<g id=\"a_node6\"><a xlink:title=\"(5) Embarked\">\n",
       "<ellipse cx=\"70.4971\" cy=\"-90\" fill=\"#444444\" rx=\"47.3916\" ry=\"18\" stroke=\"black\"/>\n",
       "<text fill=\"#ffffff\" font-family=\"Times,serif\" font-size=\"14.00\" text-anchor=\"middle\" x=\"70.4971\" y=\"-86.3\">Embarked</text>\n",
       "</a>\n",
       "</g>\n",
       "</g>\n",
       "<!-- Survived&#45;&gt;Embarked -->\n",
       "<g class=\"edge\" id=\"edge4\"><title>Survived-&gt;Embarked</title>\n",
       "<g id=\"a_edge4\"><a xlink:title=\"(0, 5) : \">\n",
       "<path d=\"M75.7668,-143.697C74.9954,-135.983 74.0684,-126.712 73.2084,-118.112\" fill=\"none\" stroke=\"black\"/>\n",
       "<polygon fill=\"black\" points=\"76.6853,-117.706 72.2075,-108.104 69.72,-118.403 76.6853,-117.706\" stroke=\"black\"/>\n",
       "</a>\n",
       "</g>\n",
       "</g>\n",
       "<!-- Sex -->\n",
       "<g class=\"node\" id=\"node3\"><title>Sex</title>\n",
       "<g id=\"a_node3\"><a xlink:title=\"(2) Sex\">\n",
       "<ellipse cx=\"84.4971\" cy=\"-234\" fill=\"#444444\" rx=\"27\" ry=\"18\" stroke=\"black\"/>\n",
       "<text fill=\"#ffffff\" font-family=\"Times,serif\" font-size=\"14.00\" text-anchor=\"middle\" x=\"84.4971\" y=\"-230.3\">Sex</text>\n",
       "</a>\n",
       "</g>\n",
       "</g>\n",
       "<!-- Sex&#45;&gt;Survived -->\n",
       "<g class=\"edge\" id=\"edge3\"><title>Sex-&gt;Survived</title>\n",
       "<g id=\"a_edge3\"><a xlink:title=\"(2, 0) : \">\n",
       "<path d=\"M82.7668,-215.697C81.9954,-207.983 81.0684,-198.712 80.2084,-190.112\" fill=\"none\" stroke=\"black\"/>\n",
       "<polygon fill=\"black\" points=\"83.6853,-189.706 79.2075,-180.104 76.72,-190.403 83.6853,-189.706\" stroke=\"black\"/>\n",
       "</a>\n",
       "</g>\n",
       "</g>\n",
       "<!-- Parch -->\n",
       "<g class=\"node\" id=\"node5\"><title>Parch</title>\n",
       "<g id=\"a_node5\"><a xlink:title=\"(4) Parch\">\n",
       "<ellipse cx=\"119.497\" cy=\"-306\" fill=\"#444444\" rx=\"30.5947\" ry=\"18\" stroke=\"black\"/>\n",
       "<text fill=\"#ffffff\" font-family=\"Times,serif\" font-size=\"14.00\" text-anchor=\"middle\" x=\"119.497\" y=\"-302.3\">Parch</text>\n",
       "</a>\n",
       "</g>\n",
       "</g>\n",
       "<!-- Parch&#45;&gt;Sex -->\n",
       "<g class=\"edge\" id=\"edge6\"><title>Parch-&gt;Sex</title>\n",
       "<g id=\"a_edge6\"><a xlink:title=\"(4, 2) : \">\n",
       "<path d=\"M111.203,-288.411C107.062,-280.129 101.96,-269.925 97.3281,-260.662\" fill=\"none\" stroke=\"black\"/>\n",
       "<polygon fill=\"black\" points=\"100.335,-258.849 92.7321,-251.47 94.0738,-261.979 100.335,-258.849\" stroke=\"black\"/>\n",
       "</a>\n",
       "</g>\n",
       "</g>\n",
       "<!-- Parch&#45;&gt;SibSp -->\n",
       "<g class=\"edge\" id=\"edge5\"><title>Parch-&gt;SibSp</title>\n",
       "<g id=\"a_edge5\"><a xlink:title=\"(4, 3) : \">\n",
       "<path d=\"M123.344,-287.849C131.685,-250.662 151.488,-162.374 161.492,-117.772\" fill=\"none\" stroke=\"black\"/>\n",
       "<polygon fill=\"black\" points=\"164.925,-118.459 163.699,-107.935 158.095,-116.927 164.925,-118.459\" stroke=\"black\"/>\n",
       "</a>\n",
       "</g>\n",
       "</g>\n",
       "<!-- Embarked&#45;&gt;Pclass -->\n",
       "<g class=\"edge\" id=\"edge7\"><title>Embarked-&gt;Pclass</title>\n",
       "<g id=\"a_edge7\"><a xlink:title=\"(5, 1) : \">\n",
       "<path d=\"M61.2984,-72.055C56.8641,-63.8866 51.4491,-53.9116 46.5161,-44.8244\" fill=\"none\" stroke=\"black\"/>\n",
       "<polygon fill=\"black\" points=\"49.4581,-42.9077 41.6111,-35.789 43.3061,-46.2474 49.4581,-42.9077\" stroke=\"black\"/>\n",
       "</a>\n",
       "</g>\n",
       "</g>\n",
       "<!-- decade -->\n",
       "<g class=\"node\" id=\"node7\"><title>decade</title>\n",
       "<g id=\"a_node7\"><a xlink:title=\"(6) decade\">\n",
       "<ellipse cx=\"119.497\" cy=\"-378\" fill=\"#444444\" rx=\"35.194\" ry=\"18\" stroke=\"black\"/>\n",
       "<text fill=\"#ffffff\" font-family=\"Times,serif\" font-size=\"14.00\" text-anchor=\"middle\" x=\"119.497\" y=\"-374.3\">decade</text>\n",
       "</a>\n",
       "</g>\n",
       "</g>\n",
       "<!-- decade&#45;&gt;Parch -->\n",
       "<g class=\"edge\" id=\"edge2\"><title>decade-&gt;Parch</title>\n",
       "<g id=\"a_edge2\"><a xlink:title=\"(6, 4) : \">\n",
       "<path d=\"M119.497,-359.697C119.497,-351.983 119.497,-342.712 119.497,-334.112\" fill=\"none\" stroke=\"black\"/>\n",
       "<polygon fill=\"black\" points=\"122.997,-334.104 119.497,-324.104 115.997,-334.104 122.997,-334.104\" stroke=\"black\"/>\n",
       "</a>\n",
       "</g>\n",
       "</g>\n",
       "</g>\n",
       "</svg></div></td><td style=\"border-top:hidden;border-bottom:hidden;\"><div align=\"center\"><img style=\"margin:0\" src=\"data:image/png;base64,iVBORw0KGgoAAAANSUhEUgAAAPAAAAGACAYAAACTAO/nAAAABmJLR0QA/wD/AP+gvaeTAAAgAElE\n",
       "QVR4nO2debxUdfnH33PhssommwIiCorK4gIm4QIkmgu4b6Sp5U9TcyOXTCvNrFzLUtNSKZdKzXJN\n",
       "yxUUd0qFVETcRdlUFNnhfn9/fM40c4e7zcw553vOzPN+veZ1t5nvee7Meb7Ls4JhGIZhGIZhGIZh\n",
       "VAcZ3wIYqaYG6A9sGTwGAj2BjYDeQAegbfA1y1JgLfAF8DGwKPj6FjAHeAOYH4/46ccU2CiGDYBx\n",
       "wKjgsSPQCZiHFO9tckq5CPgUqAOWAavJKXQtsCFS9t7AxuQmge7AQuD54DEdeAZYE8P/lzpMgY3m\n",
       "6A8cBuwN7AIsRkr1HPAC8ArwZYjX6w6MAHYKHjsDrYBHgQeBvwGfhXg9w6g4OgD/B0xD290ngbOB\n",
       "4R5kaY0mjouB/wIrgbuBA5BiG4YR0Af4OVpl5wA/ADb1KtH6bAdcASxAW/Yz0DbeMKqWbsClwHLg\n",
       "EWACMlAlmXbAt4GZ6Mx8OtDGq0SGETMZ4ARkbHoabVXTRgY4HHgTWbK/7lccw4iHgcBUZDU+zK8o\n",
       "oVALnIUs3n8EuniVxjAiZF9kyb0ZbZ8riYHI+DYHGOpZFsMInbPRWfd434JESGvgShQ0sq9nWQwj\n",
       "NC4EliDfajXwLTRZHeRbEMMol7OAT1CQRDUxCVgBjPctiGGUyh7oJh7rWQ5fnIos7YN8C2IYxbIh\n",
       "Cnr4rm9BPHMj8CzJ928bRj1uRFbZao977wR8AJzoWxDDaCmDUBbQ1mWMsT3wL8ABdwF/Bu5FZ8so\n",
       "6A58B6Ukhs0klKrYNoKxDSN0fgP8PYRxRiMFzm4/u6AUv8khjF3I94JrbRXB2K1QtNaxEYxtGKFS\n",
       "g3Jy9wphrK2QUuUzASUThE2G6BQY4DwU720YiWY7lHrXPoSxGlLgkShQIgqiVOCRyCLfLqLxY8Us\n",
       "cpXLSOA/6GaNgh2Bl/N+PhL4EXAacCcwEcUnn4Csv3sCM4DHg+cfDFwEnA/cB+xaMH6vYJx30Uq/\n",
       "Z0hyv4SqhGwT0niGEQnnI6NTGGRX4NbILXU4yhnORjhtiIxl2QVhF1SpowbFJjukrIOC1+4FXJs3\n",
       "/k2oaEAWB/wqGLcWuByYHdL/ApoQ9glxPMMInUuBKSGNlVVgh0ITZwJH5f09A2wbfN8eOAlYl/d3\n",
       "BwzJ+/kZ6odz1lI/Kb9wC719wXjl8h+is6LHSmvfAhiR8RkqEhcmjfmSHfAOUtzPgBdZ/3iWr4DD\n",
       "CsZaQ9NF61Y0MF45dEdhpanHzsCVy3ygX0zXao1W1YeA21FOblMsBvYr+N22xHM/1qJKmBVRutZW\n",
       "4MrlOeAGoDOqwVwOPYOvHdAWupCN0BZ5KIo5zrquepAzotXmPf9m4IfISv4vVCxvNTo3Z4Ms8q3n\n",
       "2brSbYLnlcNOwRivlzmOYUTOh5SfSpcfiXUdsm4XkgGuRtvSB1Hk1+vAUygv16Hz+ODg+W2Ay1A1\n",
       "kAXIwFUTjPP94Pm3AFsEj9uC34UROHIxsnobRuK5GHjMtxAJoi2aNA70LYhhtIQ+wCrURcGAk5EL\n",
       "yepJG6nhEnS2rG3uiRVOb3Q+P9S3IIZRDB3QqvMT34J4pAadex/0LYhhlML2qH/R4b4F8cTPgffQ\n",
       "KmwYqeQbyD+7t29BYuZs5EbbzrcghlEu30Z+3EN8CxIDGeACVIVztGdZDCM0jkBK/DMq1xrbCfgr\n",
       "chnt6FkWwwidEShN73Fgc7+ihM5olLn0NHKjGUZFsiGKdloGnEn6O/t1QyWEViKLe9r/H8NoEXuh\n",
       "zn5vo6T8tCW4tAfOIddhcZhfcQwjfrKVMz4C5qJ45K5eJWqeXkjOeSju+lCsdK5R5bRHJV1fQ3m9\n",
       "16PqGklRjDbA/qjUzkpU7/pA0rdrMIxIyaB2LLegwnXvAtegSpQdY5alB/Jh34qynT4GrkLBKVVP\n",
       "UmZWI7l0QC069w4e3VBhuOeDx0x0hi43TxdgA1RFZAeUt7sTyjOei4oF/ANZzsMsr5NqTIGNYsgg\n",
       "I9FopFxfAbYcNmxYzZw5c95dtWrVXFTpYhE6T3+JSuV8mTdGF7Tl7Y7OsT2BvqjgXT+0NZ6FJocX\n",
       "kGEqivrTFYEpsFEWN9xwQ+9Bgwa9M2XKlAtvvfXW1SjeeCOkmO3IGcM6IpdVHTrLrkXF5eajpP43\n",
       "gTnA+8FzDMOImmnTpp0/derUF4p82bnAA1HIU22Y9c4omRkzZtQ6507MZDJXFPnSWagOllEmpsBG\n",
       "ySxbtmwSsK6urq7YBmozgU2QQcwoA1Ngo2Scc2dkMpmrx40bt7bIl36A/MxDIxCrqjAFNkpi6tSp\n",
       "44BBdXV1N5U4xH+xsMeyMQU2SmWyc27KuHHjlpT4+pmYApeNFXY3imbatGlbOOf2qqur27qMYWYB\n",
       "R4clU7ViK7BRNHV1dacD9+++++5vlTHMLNbvkWQUia3ARlE89dRT3datW3eMc67c2lqzUOjkpijW\n",
       "2igBW4GNoli7du13MpnMG+PGjZte5lDZJAnzB5eBKbDRYmbMmFGbyWROBn4Z0pDZbbRRIqbARotZ\n",
       "tmzZoUBNx44d/xrSkKbAZWIKbLQY59zpmUzm6pEjRzbVjLsYLKSyTMyIZbSIqVOn7goMXbNmzT4h\n",
       "DjsTtQ9th9IIjSKxFdhoKZOdc38YP378JyGOOQflC5fjT65qbAU2mmXatGmbOecmEP52dx2q4TwM\n",
       "VfkwisRWYKNZnHNnAA+NGzdudgTDW0hlGZgCG03y3HPPdQaOdc79KqJLmCGrDEyBjSZZsWLFCcC7\n",
       "Y8eOnRbRJcyVVAamwEaj3Hnnna2CwI0rMpmMi+gyM4GNUQ0to0hMgY1G6d279yFA2549e94R4WXm\n",
       "AwuxVbgkTIGNRgmMV9cOGTIkjJrPTWHJ/SVibiSjQaZOnfpVYFvn3MQYLmfn4BKxFdhojMmZTObm\n",
       "cePGLY7hWmaJLhFbgY31eOyxxzYFDgC2jemSM1ELlRqsqHtR2ApsrEerVq1OAx4ZM2bM6zFd8r9A\n",
       "W2BgTNerGEyBjXpMnz69E3BchIEbDbEC9T+yc3CRmAIb9VizZs1xwAdjx459LOZLz8TOwUVjClzF\n",
       "PPnkkxs/8cQT/bI/B4EbpwC/jDBwozHMEl0CZsSqYurq6i7NZDLfmDZt2j3OuUvr6ur6A52cc3/x\n",
       "IM4s4EgP1001psBVjHNuk0wm0wrYDzigpqbms0wm89jChQvDqrhRDDORESvbhtRoAbaFrmJqamp6\n",
       "ATjnaoFWQHfn3AG9evWaN23atO8/8cQTXZseIVTeBpYjd5LRQkyBqxjn3IYFv8ogd05v59xPM5nM\n",
       "8zGKUwe8hp2Di8K20NVNoyuscy4DfD9GWcAMWUVjK3CV8sQTT7RDxeQaYm1NTc2J48aNuydOmbCQ\n",
       "yqIxBa5SampqGsu/XZPJZM4dM2ZMqW1Dy8F8wUViClylZDKZnqioXP7vVgMXjxkz5ko/UjET6I4S\n",
       "/I0WYApcpTjnegQKm/15FXDD2LFjL/Io1ifAx9g5uMWYAlcvPevq6rKZP6uAu3bbbbdTfQoUYNvo\n",
       "IjAFrlKcc90zmUzrYOV9aNGiRcd4CJ9sCLNEF4G5kdJLDbAZsCU6M/YDegG1QCf02a4Dvgi+LgA+\n",
       "QlvUN51zvTKZTNuampppy5YtO+Kwww5b18A1fDALOMO3EGnBFDg99AZ2BcYAo4BtkBvow+AxH1gM\n",
       "fAZ8CiwBuiBF74IinPYA+gD9b7/9dnbcccflkydPfmvp0qWHANOCcXwzE/1vrYG1nmUxjLIYhIIp\n",
       "nkeRSnOAm4BvAyNR3HAptOvSpcvIdu3aHQtcB7wKOOBl4MdIgXzRFljtWQbDKJk2wOHA46jx1+PA\n",
       "KcAmEV93I+AE4J/IqPUMcAzQPuLrNsSr6D0wjNRQCxwNzEVn1UuATT3J0g04PZBlIXAh0DnG698O\n",
       "XBzj9QyjLPYH3gHeAo5DypwEaoAj0Ir4MfBNlPAQNecD98VwHcMoi42B+4HP0YqXFMUtpAb4FlqN\n",
       "pxF98bmJaEIzjMSyD1KIu0lP6GA3YAqacCZFeJ0ByGgXZz6yYbSYs1Hy+sm+BSmRSUiJLyWaLXUG\n",
       "ucNGRzC2YZRMBvgVivlN+805DPmNb0XVPMJmOnBiBOMaRsn8DBmDtvYtSEhsArwJ3ED4K/F1wLUh\n",
       "j2kYJfMdFB21nW9BQmYgmpR+HPK4JwNPhjymYZTEUHTm3ce3IBGxE+qusFuIY+6CJrw43FaG0Sg1\n",
       "wH+Aq3wLEjHnAu8SXuRWF2SJ7h/SeIZREt8C5lF63HJaaIWalJ0b4pjvAfuGOJ5hFEUNCkg4PqTx\n",
       "egF3AY+gxAYHxF14rin2Q5lQHUIa7wHgByGNZRhF83XkMmqs+mOx3I0itkCTw6Uky9CTQfHT3wxp\n",
       "vJ8Dfw5prIrEKnJEyyQUmL8ypPHGA+8H39eh1SlJIYcOuJnwehxZdQ7DK2+jTvdhMRfl7PbJ+93X\n",
       "Qxw/DL6KqoCEEdwxFKVUtg1hLMMoiu5oRdooxDEnoMZfC4E9G3nONmhrPQXl9I4Pfr8DMCOQaffg\n",
       "9x8AB4UoH0jZVhFOj6PWaPeybQhjGUZRDEGVJcL2Y26D0vvqUNpd/jGoGzL8ZH93MlL4bBH3vijG\n",
       "+MfA5USnGB+QmzjK5WXgqJDGMowWswuwKKKx26GwTEf9cMPjg98VPg7Oe85RaFU7PyLZAF4BDgtp\n",
       "rFvRjsIwYmUE8GWI4/Vj/dX8e2glzlbLuAporjl3e7QFn040SQig+Oiw/LfnAA+GNFbFYVbo6PgE\n",
       "BW+E5ULaFSW65zMFKXW2EMAnwDhUVytLBk0mWS5Eq/D2RFe+tUcgSxhYoXfDC62QNXankMYbiZIG\n",
       "BuX9bi8U1JFlCKoB/Q9gZ5SyeH3wWtAEcFrw/XfRVjrshtoD0K6gW0jj9UXHgO4hjWcYLeZR4MyQ\n",
       "xuqCbuQVKBrrOrQC9yp43sHA6yh54jlURxrgEJQcsHPw887BeO+hVTssjkQhlWGymNz/YRixMRl4\n",
       "0bcQMXM/qqgZJlOBJPRtMqqMnsgnWmk5wI2xCQq82DLkcX8D/D7kMQ2jRdyIVqVqIKr/9Xjg2QjG\n",
       "NYxm6YuCKfbwLUjEbI92G0MjGHsUcsmZ18TwwpmoAFwP34JEREfgNRTdFdX464i+HrVhNEgN8K/g\n",
       "kdTi7aWSQSl/M6jvfw6buYSbGGIYRdEDrVK3Ull1nn6JYp+jbr52N/CjiK9hGE3SH/ld/0S0q1Uc\n",
       "tAKuRvHecbQC/QlwZwzXMYwm6YcS1R8jlyWUNjqjFfEdYHBM1zwEmB3TtQyjSbqicMd5wNc8y1Is\n",
       "I9F5dDrx9nQaDKwlvHpbhlEWGWSdXoE6GyQ91rcTcAWKn74YJdvHSSvkjhvR3BMNI062RtvpxcBZ\n",
       "JK/8bFvgJLRbeIFcYoQPZqAyvYaROA5FSQALgPOA3n7FoRuK5X4fNR4/Fv+BFFOQ1dswEkkNUuSn\n",
       "UVTTHcD+hNftoDnaAHujypLLUUeJY4l/u9wYk6mfPmkYiWU4CuL/EIUR3gWcgsqshrkSbo0ar/0F\n",
       "pRsuBH4HfCXEa4TFeCSfEVBJAQWVSgYVBZgAjAV2RIavV9GWezbwETqjLkRGpqV5r89WBemNrMZ9\n",
       "gK1QIv9Q5BL6DyoQ/2DwdV20/1LJ9ET/40boqFH1mAKnj/YocWAoWqX3RQrdk6ZjrT9DFT0+Qm6g\n",
       "WWgS+Dfh1u6KmvmoJNCjvgUxjHLZDfic+lFdXYENgc2RQnejsibqR9BZ2CA5xgmjNCagBInVeb9b\n",
       "Enz9NH5xYmEm1m7lf/h2CxjlMREVcq8mZmFVKo0KYCAKLazUHOPGGIFcXFHVtDaMWJiM4pGrjXZo\n",
       "4ooriSLR2BY6vUykempt5bMSWdFtG40pcFrpgnovVaMCgxmy/ocpcDrZG1XBeM23IJ6wxt8BpsDp\n",
       "ZALVu/qCWaKNFNMKpR6G1X83jWxO/a6MhpEaGoq+qjYy6D0Y5VsQ39gWOn1MZP3oq2rDofN/1Z+D\n",
       "TYHTR7W6jwoxS7SROqo1+qohTkFdC6saW4HTxX6oyddi34IkAHMlGanjceD7voVICN3QWbivb0EM\n",
       "oyV0QYarOLogpIUPUVBL1WJb6PRQ7dFXDVH1hixT4PRQ7dFXDWHnYCMVWPRVwxwFvOJbCMNoDou+\n",
       "apjhqH521b4vtoVOBxZ91TDZboVbepXCI6bA6cCirxpmNTCHKj4HmwInn4HAIOAh34IklKq2RJsC\n",
       "J5/9seirpqjq3GBT4OQzgeorHVsM5koyEotFXzXPJiiksqtvQQyjkCNQb16jaT4DdvUthA9sC50s\n",
       "nkLn3e8BW2DW55Zi22gjEbyLtoMrUM2nT4E/AWOwPlZNcS1wnW8hDONVpMD5j1XoHLwU+COV1Wkw\n",
       "LE4EnvYthA9sVk8WDfXpzYYJ1qDG3C4+cVJD1hecwd4fwyOPsv4KnH0sAzb1J1qi6YSOHAM8yxE7\n",
       "ZsRKFl808vs1wLeB92KUJU0sRe9N1RmyTIGTxecN/G4lOvveEa8oqWMmVRiRZQqcLD5HW8Es64CP\n",
       "gDP8iJMqqtKVZAqcLJYhpc1SBxyEGlobTWMKbHgnX4FXoSbeVnGiZcxEecHtfAtiVC+nISVeCTyM\n",
       "+XyLoTUKgNnetyBxYitwsvgSaI+s0ZMwn2YxrAVep8q20RbIEQFOWURd8x6dkGKC3vNOwfdrkQsE\n",
       "wE2CzW4HdwB87249r21GW2mjZVTdOdi2aEXipFgDUFTUYKA/0A/og1LbNkJVJEEhkEvQyroabY9B\n",
       "59wVwAbBz62Azouh9jnYcAJ0zLvkl6ge9IfIIv0+8A5abd7IKBPHEGcBewBf9y1IXJgCN4GTgu0A\n",
       "jAwew1GWUGsUOPAGUqh5wdePgu+XAJ9lSrQeOx1tuqL2Ib3Q5NAvePQNZNgSNbheiGKoXwJeBGYA\n",
       "b2Wqc/u9J/KZ9/EsR2yYAufhpDRjgK8B44AhyDf7b6QYLyOlfSOjFdQrTsq8FUr4z04yg9EZejrq\n",
       "pfQ4MKtKFHpjNIn2AhZ5lsWIAwdbOTjXwXMO1jp4z8EfHBztVEwuVTjYwMFuDi5wMNXBSgcLHdzs\n",
       "4EAHHXzLGDEL0eRrVCoOBjj4iYPXHaxx8KiDU9KosM3hoL2DPRxc4+ADB8sc/N3BAQ5qfcsXAY8B\n",
       "p/sWwggZB7UODnfwSLDSPuLgGAcb+pYtLhxkHHzFweUOPnYwP/h+C9+yhchVwI2+hTBCwkFHB6c7\n",
       "eNfBh8HKu5lvuXwTTGj7O7jPwWoHf3Wwo2+5QuA44HnfQhhl4qCNg+85WOzgVQfHuiruodMUDrZw\n",
       "8PvgvPwvl+6snh2Ru86ClNJKsLLMCR4HObO2twgHGzu4zsEqB79zsuamjQ7Iz15Jx4LqwEE3B39x\n",
       "sCRYfW3FLQEHQx08HFivD/AtTwnMQVlcRlpwMCY44z7uFB1llImDExwsdXCjS1eWz9+AC30LYbQQ\n",
       "B99wsNzBOc7OPqHiYJCDlxw8lSKL/YVIiY2kE/hvlznbMkWGg06Bcet1p1jvpHMQ2kYbScbBwcHK\n",
       "O8a3LJVO4Ha628ELKYjm2gIZsjo290TDEw6GByvvESEO2wu4C3gEzeAOuCfE8RuiB/BCRGP3A04h\n",
       "pFXTQYdAgf8SxngRUoOyuCrBr115BBFFTzv4dchD300uDK8GuBR4MuRrFNIGODeCcTsG4zqU8BAK\n",
       "Dvo5+MLBPmGNGRHPo6AOI2k4ODIIBewS8tBLgQPzfq4Bbg75GnGS7VQQmgKjAc90MNfl8p6TyI0o\n",
       "rNJIGk5ZNt+PYOi5KGUwP5807cnhUShwGwefOCXPJ5XTUWKDkSQcbBIkI2wSwfATUBjeQpQcXsip\n",
       "5BSiC3Be8PMw4ATUGnRPlDv8ePCaQ1GRurkoVxd04y8Jnnsi9StPNvX8rwU/b4O291OAZ4Dxea/f\n",
       "D/gR8FPgciJQYDTodQ7+EPa4ITIOywlOHg72ddE2vd4GVbioA86nvl+5cEtaE/y8DTAw+P4ilJZ4\n",
       "eN7rLgXmk0vf6wtcEnw/hvWT7Zt6fjfggTy5TkaTTk9gd+D6vHGGEJ0CT3Lwn7DHDZEe6H/f2Lcg\n",
       "Rh4OTnLwRMSXaQf8TJfj2vVFqKcQ+T87pDSF9EDldQ4Lfv4huWixhjoONvX842m4+dnByOA2thl5\n",
       "Q8HBaAefhD1uyHxEwzupiiGNUUuFN3tY9COX9LASrb5nAieh2lMtZV0Dv1uMjGGnolW1B6qh1RhN\n",
       "PX8IcHsga/7jb8B2NNyiNArSkCAyi3RnVjVLGhX4faKJdd4VmFjwuynoRi2sXJG9eYuxwl4F7ILO\n",
       "p3eX8fxP0PkuP1EjA4xAtbBGFCFTOWxK8rslZvsGG0kh8EOujSBhYSTwMfXL6uyFgjryWQycg4xY\n",
       "35VIjEfKnDVoNcb9yGCVv3oND17XtoXPH4JW+X8AOwOj0bl3JHAlKkGbNX4NDsYOPaDBwfVOE1yS\n",
       "OZpkn9Ork8CNFHbwQxcNzQoUjXUdukELc2KPQxbhV4CdUJXKXwCXBa+fQk6BChmDOi5k6YBWWgf8\n",
       "gPVD/wqfn+VgVBd6OfAcuVDSDsA1wAJkCT8VGeS+RYg+WwdtAzfS+Oaf7ZXt0XHIGhgkiSD7aL5T\n",
       "GVgjZhyc5eDNhAdygHY1a4CtfQti5BGEUk53Wm2MGHHQP8gR3su3LC3kVeq79Iwk4GCYgy8dHOlb\n",
       "lmrBqUDgDAd/8i1LEdwOXOxbCKMBnAqVL3dWyDtygnTCe50K4Ldv/hWJ4XzgXt9CGI3g4LtBWuEh\n",
       "vmWpVBx0dqqj/ZpLX6G7iagZnJFUnAq2L3dwnkunbzuxOBjsYGZg+e/mW54SGIDCYosJxjHixsEu\n",
       "Dt53MM3pQzPKIDAUnhTYGX7nGvZTp4EMasE62rcgRjM46OrgNgefOzg7xTedVxxs6+CxwFVXGJ2W\n",
       "Rp5GWV9GGnAwwcFsB285OMy21S3DQV8HNzgVdv+tUwx2JXAd6yelGEkmsJqe5lScfLaD45wVem+Q\n",
       "4Jx7U6C4D7qGM6rSzMlEXxrJiAKnQmynOHjbwTwHFzvl7lY1TlU1DnTwgFNzs9sd7OBbrojYFYW/\n",
       "piGDymgIB60dHOrgn0EyxBPBqtzTt2xx4aAmyOP9ZbAz+cjBJVUwoXVBlugoqrgYceNUludHDmZN\n",
       "hXXzVOHydNd4EkJqCaKn9nIqgfNRYFW+08FEV11B/u8B+/oWwgiPDsBVGVj5U/ijkxKvceqvdItT\n",
       "O9ItXcq2XUHQxdec+iA/FWyP5zuYEihtmqKowuQBoinfa3hgJ5SONxOlnAH/u/knBFvMl4Kt9pLA\n",
       "pXKZUx2oHVxCKv47JRbsEewebnXw+gJYdzF8uRbucXCqgyFpm4Qi4uekK4a7RVTbB1uLYmPPRXm4\n",
       "PwZWN/bkQFG3QwnxI1Gy/mBkzf4A5QK/H3z/ITAv+LoEWJIpsbxNsLXtiiKfeqJyP31QEYO+qOjA\n",
       "YCTfx2gy+jcw4xhYegv8DmXhHEXy61bFxSRURbSiKnRUkwJvC9yKlOMY4MVSBgl8ygOQAm0ZfN8H\n",
       "KVZ/1MYkW4JnLVLmL/RSlgS/r0OFA7IreVu0pa9Fitsp75Kfo0nhA1Sk7QPgbWA28EZGfy+kO1pt\n",
       "tkFlap8v5X+tMIYCLwEbAKs8yxIa1aLAJ6FyM9ejWXhllBdzukmyK2hXdO7schrs+DDsPDvX7WE1\n",
       "Kgmb//3nBCs48FlGk0ApZFDpnwtQtY+w29CkjdZoR/QVdHQyUkBn1IhrEcmwQJ6FjClxsi/wKXAL\n",
       "ye8qGDWvoGNFxVDJIYYj0LlwM3SG/YdfcQAVGf8o5mv+A53jt0IxwZvHfP0kUXFVKitRgTOoL850\n",
       "4EEUhfOuT4Hy6EP8CgwytO2GCt29BBzgQYYkMIsKU+BKoxOqoTyfZFZMnAZ8x7MMR6Oz9iUkvyhd\n",
       "2OyNDIJGAtkczbBPE1JD6wiYg5qP+WYHZMl+nPRV2CiHvsgb0N23IEZ9dkW1kG8j2ZFGS5E/OQl0\n",
       "B/6Jttc7eZYlThaTq6NtJIATkE81in7BYdIZzf59fQuSRwa9b8uR3aAamAqc4lsIQ3693yAXSZIb\n",
       "TWfZCrVESWICQTW5mn6DItUMj3RFBqHXqN/LKMmMQ2GPSaU/8AKyUleyq+l41Ijd8MTGyCH/GOmq\n",
       "NHgk8ksnmXbADSgarFJdTaNQRFYlulATz2bAm8A96GZLE2cTfxRWqVSyq6kjOspU8i4jkQxBPrw/\n",
       "ksxzZHP8Evi9byGKoJJdTW9RITuMtGwjRqEz722oVWapAf4+8RFGWQ7/QSGoq1EEVyW5mioupDLJ\n",
       "TETbucm+BSmTJERhlUIlupouAu70LUQ1MBHdOEf7FiQEkhKFVSqV5Go6FOVTGxGyO1Le43wLEhJJ\n",
       "isIqlUpxNQ1Gx7C0T0SJ5auoisVJvgUJiWwUVh/fgoRAO+BG0u1qaoWOZSN8C1KJbIe2auf4FiRE\n",
       "khyFVSr5rqa0GEPzmQEc61uISmMYCjb/oW9BQibpUVilkmZX0xRUZskIicEoj/cS34JEQBqisEol\n",
       "rVlNk4FHfAtRKfRGXdSv8S1IRJwN3O9biAhJo6tpPLDQtxCVQHvgGVS7qdLC9rKkLQqrVNLkauqJ\n",
       "DItp2/rXw7fxIQPchOoiH44MPZVI2qKwSiVNBfQWoRV4uG9BysG3Al+AqmlMpMQuBimhD5VpxGqI\n",
       "bAG9f5P8AnoWUlkGE1CB9Z19CxIDb6JJqtpIuqvpl8gabRTJAOQuOt6zHHFRCVFYpZJkV9O3kD/Y\n",
       "KIK2KNPlJt+CxEQlRWGVSlJdTSOQ5bxSjaeRcCXqnJfk6pHlkEGd4LMFByoxCqsUkuhqao9iovMb\n",
       "u/fAFLpR9kQf4La+BYmQ3dCK69DW+UPkWvkT8AvgtOA51UpSXE3t0bHmNeAOZDVfgj63iuqfFBY9\n",
       "kCX2NN+CREx31D7UNfBYgxLkX/EmXTLwmdV0BmrRug6tvl+izyX7Ga1Goa9GAbcCD1MdLU3fpmEF\n",
       "dqiGdSXkN5eLr6ymU5DiNvb5OJLb2cMbeyN3wkDfgsTE9dSf1fMfC4E2/mIRFkQAABfBSURBVERL\n",
       "HHG7mlqjmliN7ZIqOR6hJDqiFSntJXGKYRK6KQtvjiQZcJLEDigWPi5X035oq9yQAr8Uw/VTxWXo\n",
       "vFNNlr2NafjmWAps4FGuJNOcq+k24PwQrzeN9XdJdVhgRz0GojPfLr4F8cA81j/7/sSrRMmnMVfT\n",
       "94BVSOHCil3elvXPwpVQPDFU7kXugmrkFmTpzN4cq5Al3miefFfTOHIr5VrgdcLzqd+Cwnnzjzhf\n",
       "D2ns1PM1ZBBIUje+OPkWuXPwSio31zkqBgL/RUqVPxGuAM4K6Rq9g/HyV+H+IY2dep4GLvYthEcG\n",
       "krN0rgU29StO6miNbCerWN+WsIrwmtpdQE6JV1Adbs5m2RMZbKp9y7gYrR53+BYkhfya9VfH/GCL\n",
       "ZwhH2Tog155DUVkG8CTwU99CxEh7oFveYzMUYfQAujFGk65Oir45gMb9tNnHSsKrGX50MOYd6PPb\n",
       "CH1+3YOfExu3H8V2YTd04w5Ahoi0UYtk74cyiHoH3/cKHl2QMnYOvu9Y5PirUc3rL4DPUCTS58hq\n",
       "vRDFTi8Ivr6DdjLVxkRkM+iLDFiNdaJcjrbSLSmW0BYl728RPLZEn2vPvEdTrEFVPBah4ovvoTzv\n",
       "N9HKPRdNArEShQLfgbaO341g7DDZEJV/GYayUQahc2t/FBG0IHjkK9YnSNm+CL4uCb7WoQ+4sSie\n",
       "tuQC9ztTfwLojI4avchNFH3RKtA2uPbc4PEmMuzMRMod+w0TM0OAw4Bj0HuzFr0nWVYDU2nYctwT\n",
       "Fa7bFTVpy7qN5pBTvA+R8i9CE+Vy9Bnnv69t0CTdEX02vYOxN0eTwBZowv8S5RY/H8j0FNolRErY\n",
       "CrwRmplGArNCHrscOqMOhzsj2YajG2IxSiyYTU5J5iLlWOVF0hw1SMaB5CaXLdCNuDm64WYCL6Pz\n",
       "4HQUpF+pbIfqpn0T3WfZlbkOKfnfgKHBc/YJnj8XeAIZw15EK2UUddc6AtujiWIU8sB0REfJe4G7\n",
       "0CSReH6EIlx8swEKl7sa3eBr0bbn7yhQYC/SnWDfCZ2rT0QJAa+iG/l94M+o0skm3qSLnh2AS9Hq\n",
       "mY1ffhWtyA+g/9+n1b8GFQs4DxWvWIOizA5HR7REUoNuoEmerr858g8+ilbPD9HNfQzhuRySTHdU\n",
       "Z+wSVFCuDu2CLkfbyCTWpCqHYSjscRW6705Gx6IkMhi4EN2T84Afo88rUYxGZ8PGDA5R0Afldz6P\n",
       "VtknUBF1qzSos9oxwF/QOf0DVA0l7bW5tkT/0yoUSbWjX3GKohZt959Bn8mFJMg7cTnx+DtrkHHi\n",
       "TrQ1eRVtizeO4dpppS2y7N6Czs6z0XvWzadQRdIRuAIp7p+QPSDN7I3O5QuRG8t7AMkbRLt9bo8C\n",
       "3Oci99SVpP9D9EFntN38L9oxXUPywwf3RMbRGVRWS9AM2iUtRKmU3s7tQ5EBoWsEY7cFTkVnh9eB\n",
       "b5Ngx3rKGIuspCuBa5HVO0m0Ai5C7p0zqNyU1O7I+PgJSuSInbOR8ShsJiCXzpvIfVCpH6BvRqK2\n",
       "KCtQbHDbpp8eCx2QTG+T/nN7S/kOmqzOjvvC9yDLWlj0Qb6zL9DMW+0lWeNiDPKVzg6+90UXFAjx\n",
       "Agm01kbMzihC7+dxXnQ+MiyFwVgUAXUvle3LTCptkD9/efA1buNKLfImTEX+7mpkO3Qu/kEcF9sC\n",
       "Rbd0CWGs09E2zqoi+GcUcj3dS7xlgLKBKWHcT2lmNMonPzjqCx1NOHWOv4+2DmNDGMsIh97IZ/kE\n",
       "8RRhPxjFlye5LWmcHI08LpG6SK8A/lDmGKeg8+6o8sUxQqYzOov+k2htEV1RaOR3IrxGGrkP+GuU\n",
       "F7iX8vbq26Nt89fCEQdQa4z3UZzsX9G2bApwNwpkKKc7RA8UgxxG8e9aYA/C8cX2QxNhFEXJN0Se\n",
       "gB9GMHaW89FEUe6ZuxcygD6CMo8cMrLm0yO4Vvb75j7PlowZFf1R8Epk7YheAw4p8bW1aPt9eXji\n",
       "/I890BtdeEPsDpxZ4pitUby1Q03LyqUDSl4vd7yOwLkhytUQO6OJNoqO9m2Aj4BDQxjrbnIVLWtQ\n",
       "0sOTDVzvXFr+ebZkzCi5mYiKQ9agIIBSZ4dDUIBGFPHTW9FwvmwrFMZWKhnCVZSwxgtbrob4PQo4\n",
       "CJs9kNU1DD//UuDAvJ9rkAI0Rkvet2LHDJuvBjKE3tFjAMp6KbYqRZaHUaRNFDSmwGFEG4WtKGGN\n",
       "F7UCD0cTdnPVK4rlMsKbGOaiFNL8dNHmSsU2976VMmaYtEJRWqH75kchy3EptELhl1FlDhUqcAf0\n",
       "pl+Wd/1vo1Ya44DfovS7OSj2dm80wXwKfKNgbAcchIINlqDEivyAgyORD/W04G8T0XHhBODZYPwZ\n",
       "KP41O95WKALqRtS75whylt9t0LZtCrIKZ33u+wXX+Sk6hkStwKCY9wObfVZx/IvwWs5MQO6Xheh9\n",
       "LqQ1OvPme06a+zybGrMVqs31LPqcH0eZRg8Rbmjqw0TQlmcCMm6UwgC0ekflnsgqcOHjirzndA1+\n",
       "dwHydWaQoWYp2taBlO6NgrEdKhawKQqun42KBYAMPqvJ5d/ugm6WGlRVw6FdxyCU4J0dbytUT+w3\n",
       "1E8x64aS1LPjnYxupiNQE7UsQ4hHgR+gdBtCY7xM7r0Ig23IFTk4n/VzocdQf3Jv6vNsbswMuXvt\n",
       "ImQU648qpDwSyn8jbiaC6KxjgedKfO12RFuHt3AFbo9WrCsKnld4029b8LptkUIWvmbrvJ/3IneU\n",
       "yJCzCbQHTqJ+GReHlK1wvAtQfmghx9N4ZcaxzfwvUXAr4df7noNWrzBpB/wMvSfXFvyt8N5o6vNs\n",
       "6ZiF7/0Owe/Ciib7LXBV4S/LrdLQA9WVKoV30RsSRzc60GRxH3B7M88rrIW1iobLoOTfAM8hxe0c\n",
       "/P4dpLj7o5zPwve5obpMOyHHfWHs75BA5kzBYyl+WmFuhj67MFlEOOfqfuQWhJVopTwTfRbNJc43\n",
       "9nmWOubs4Gup9qFCeqMtfD3KVeCulH4GXoJiqOOuqDADZbeEmQNbi/6X+eiM9Qw6A92Otrst4VwU\n",
       "A3479QMmPkFn9HwLZAbN7HHnxrZHqaOvhzzuh2hiKJddWX8ln4Ler2JqUeV/nqWOOTh4/YIirtsU\n",
       "myGPTT3KVeBaVBWjVG4D/q9MGRojG0tb+D/2RoETC2g4sijrysim1GWfU7jVz0+5m4SCWRwKCBiC\n",
       "bvTOaDsG2q1kZ+P8Dz57vTWo3Mr2aJufvd7f0ep0N/LFjgauQ37IH6IbhbyvUSYAHIYmlGdDHvdJ\n",
       "5J8vlzeB31G/BtoolOr6Sd7vspNh/mfY2OfZ0jFBUWT9UCjoNagbZRilf7ujY1novucrgBvKeP0W\n",
       "aFuyQzji/I8RKELMoSqZf0Cz5v1o63k/2r6fFzznV6jW0mBkGHLoPNoDfRAOnUWzH/wFqIzppeiD\n",
       "Pizv2hlkEPkEeBCdrV5HFs4rg7GmBNfqHIzl0Nmqd/Bah86aQ4MxDw7GWI62d2OQ8S87Ec1ARQ9e\n",
       "RU3VosibbhuMH0Wu6kA0gZVrte1CrsfRXWiim0L9Y1oHdJZ06LPrSNOfZ0vGJHjOOejzmI0s3WHZ\n",
       "d/6P8Hc9gG7865t9VtNcgqK54iyGZxTPZUiBo/qc/kXOxZdGojIgZtD7fkoEY/Mb1rfGFUtbVKD8\n",
       "Niqv9GmlcDha/cPeKeUzHiW0JK2sT0tohRQ4ivfnSGTkC8sYVo+r0JaiXDZBltsbSEB1PqMe+yPl\n",
       "PSiGa92FyuikifYokMahAJBdQhy7O9qSHxvimPX4GeHFhG6OMojuIUG1cqucM9DZ78iYrrcRckue\n",
       "EdP1kkxr5Ml4mAgXtfPQ4T8seiOj0xtEk/VitIzOqHj6AuTCipMxaMUPO7AjbfwWWcAjrQl2OjI+\n",
       "hElrZK1diULHrIRsvByM/I3T8XcePRopcdgx12mgBtmV5iPPSKQcBzwd0dijUAzxW8isbwauaBmO\n",
       "zp+foSgj3+/3JKTEJ3qWI046oKys94hBeUEz5Oxmn1U6tajA3UJkqT4IM3KFzTaoJc4q4CaS1aLm\n",
       "68iffisRWWETxFYoG+5FYqzGOgqlTkVNR7Rdn48C379PcjvRpYH8/lKrg6+xzPglsClqXjeXXIZY\n",
       "JZGtCvIl2jrHWlS/PzKfx1V2dAO0pZqJIqquR2Z7W5VbxmYo0ugtZO29jHBikKOmFk3ay9AWc4BX\n",
       "acJjHMpHf5tcyG2s1KLMGh+z9xi0tfoCuZ8uR4kRvs9uSaM/css8i1qwTkXhlmk0Dm6OvB4rkZU2\n",
       "rYX/dwEeQ6vuz4inZG+jLMBvLef2qLbWXWiGXoAKgE1CsczVRhuUGHA56kBYh5T3DKCvR7nCZAQy\n",
       "uGW3/7v5FadFtEXW9ReRce5XxJdK2yTPoxk9CbRDZ7tLUIC/Q9vFW1BljSFU3na7E/qfL0QVIJYj\n",
       "w8+d6H+uFKVtiC3RZ/0ZylH+NcrmSgo1aLX9NTLEziOXJBMKYdzMt6Et7HkhjBU2/VE+52j0Rg5F\n",
       "H/bL6Bz9SvB1Noo4SjKtkEFnOEotG46qmmyGSrJOR3nI09H/1VDRgEqlMyrPewSazN5BEUwPo8Cg\n",
       "L2KUZRNkbNsjkKUVSgm9HXW4CPVzCUOBL0CF6UqtDR0nndH2azg5RRiKtjfzkKXzreDrh0gxPkbW\n",
       "708jlq09qnq4EXLl9EVpdgNRLuoAZHN4m/oT0EtoAjVEd1R4bo/g68Yosu9F4N9osn4T+VrryrhO\n",
       "W5QOuwXa2e0YPDZCn012AnmS9UsyhUYYCjwJVZOIrHJ8xLRGK/Ug6itMP/Th90az6Eq0Nf0Mzeif\n",
       "5311qMJIli/INXzLGtU6oA+9A5pIOgd/74K2VNn470/RpDEPrSTZSSU7sSwP71+vCjYHvoKUa3u0\n",
       "7e6L/N4foK3tYpTxswztxNYgA1O3YIzOyJXZE90PvdBkuw5t3V9Dk8OLwaMw0T8ywlDgEShZvROV\n",
       "uW2rQR/ad1CT8XOR0mUVsCP1q2B0pf77+iW5qiWrgp8/Rwr/Rd73H6GVfmVE/4eRoyNaOfuRU8qe\n",
       "5CqTdg2etxa5K0FKuSh4LECK+07wnFTTDm0Rtm7uiSmmPdqmftu3IIYRBTOJL+XMBz9AJU2i7M5n\n",
       "GN74I+vXW64UuqFz6QTfghhGIWFFLb1EtOVWfPJjFBDxgG9BDCMqdkGGmEoLYxyArJKjPcthGJHS\n",
       "Ft3oaXUlNcafiLg7umEkhenAd30LESLbIrdPJVvXjZQT5pZ3OuocUClcjlp9RlJQ2zCSxkQUnlYJ\n",
       "7Ikc+Bv5FsQw4qIbikrZwrcgZVKDwuIu8C2IYcTNs6gBdZo5CoXKRdkkzDASyU9QYfa00gYlDZzk\n",
       "WxDD8MHOKEC/mF6sSeJ7KPUsrfIbRlm0Rul2Yz3LUQpdUVrZwb4FMQyf3IZKiKSNS1B5oEoruWMY\n",
       "RXEgqmaRJkXoi5K54+4DZBiJoz3yoY7yLUgRTAHu8y2EYSSFO1EkUxrYGlXBGOJbEMNICoejciNp\n",
       "2EY/gEImDcMI2AAVX0t6jvBuSM60Vvg3jMi4B7WNSCoZVEf5F74FMYwk8k3USTCpHIpK5ViXQ8No\n",
       "gK7IOJSkVhdZWqM0wcm+BTGMJHM7cLVvIRrgZGRki7UXq2GkjT1QrSyv7RML2AB1PqjkMriGEQoZ\n",
       "lN3zDd+C5HEh6i1UaQX4DCMSLkDNjJNAL5QttYdvQQwjLfRDvYEG+RYEdXV/3LcQhpE2/glcnPdz\n",
       "T9TVMEp+GlwjGw22JaoyOSLi6xpGxXEoylDaGoUtrkYtOTeO6Ho1SFnXAq8CuwN3oVRHwzCKZBTq\n",
       "w7oOKZZDyrVdRNfbPLiGQ02cV6N+u9bfyDBaSCu08r6CFGgNOaVyKAZ5z4iuPSEYP/96WRnuRgpu\n",
       "GEYTHEVuBXQNPL5E4ZZRcDbrK3D2sQopsiXvG6knSl/oX1CS/Komrt0romsPQ43HG8Khc/ErEV3b\n",
       "MCqGNsCjqPFZ4Uq4FrgsouvOauB6LpDjKazms2G0mA6o4PtK1leoqKzCyxq41koUm20lYw2jSDqj\n",
       "LWuhEk+L4Fp9afjcew0WPmkYJdMVeI2cG8kBsyO4zh7U37KvQR0jDMMok17A2+SUeHEE1ziN3BZ6\n",
       "DXBcBNcwjKplE5TOtxYpWNiF736HXFcrgX1CHtswEkVrD9f8ANgVeA7ojqKxegADUT/eHkBvtOXu\n",
       "iCzZrVDy/fJgjCVom7wYRXgtAN4H5qJCel+iIJHn4viHDMMXcZZ9bYWU9SvASGAX1Es4g8Ic3w6+\n",
       "LkKKuRit0kuDr1k6B2N1QgrfEyn95sGjLVLoF4AZweNZ1LPJMCqKqBW4HzARGI8in9oCLyGl+jcw\n",
       "E3iT3MpaLjVoi74VmiSyj42D6z2KMqOeRttswzAK6AmcigIm1qGV8GfkFNgHg4ATgb+hhP55qAFb\n",
       "mtq/GEakjEaBGSvRCns2sKlXiRqmHWrA9hdkrX4JOAGdtw2j6tgFlcxZgXoijfYrTlF0Qcr7X3Tm\n",
       "vjD4nWFUPMOQ4i5FvXV7+BWnLDKosfdMZNU+GRnKDKPi2AC4Em2Vr0Vn3kqhBjgCVQ95ESu/Y1QY\n",
       "w1FHg0q/uTcArkDHgrNJR5dFw2iSY5DR53KqJ6NnLLJYP4ClIBop5lwU3bSfb0E80BOYjnYdURUg\n",
       "MIzI+DGy0Fazz7Q9cD/KprJuhkZqOAKtvDv5FiQB1AL/Ap7EmqIZKWAYMuJM9C1IguiMyvX82rcg\n",
       "htEUrVEIpN2o6zMcTWy7+hbEMBrjOOBdyg8v3B5tOx3qjPBn4F5a1lZlAHApMKdMGaLgIhQuahiJ\n",
       "I4OMNSeHNN5opMDZelRdgGeAyS147Z7Ba5NGZ5STPN63IIZRyBiUOxtWU+6tWF8JJ6D831JemxR+\n",
       "BdzhWwijummoSuPXUd5sWDm6DTGf9Idg3ocK6FnMtOGNhkrq7IyyiqJkR+Dl4PuDgW1RobudUKTX\n",
       "U0289khUeeNzlAl1K/LRHo9aiPZBCQn5W/Sm/lYqT6NdytYom8kwEsGbhNvFL7sNbo2CIA5HgSEH\n",
       "AXuhhIgsNyE/a+Frs2yImpRldw67kGuR8hla1VsB5xfI0NTfyuFdomvQZhglsRitwmGRVcJsR8KZ\n",
       "qPEZyJiVf61a6sccFypwBq3WoOiok1DVD5Db6yFUJ6swbrmpv5XDv4FvhDieYZTNW8C+IY7XlCFq\n",
       "KVpFi3ltZ6S4R6B6V9m/b4l2D5+iht75NPW3cngH7SIMwwsNGbE+Ru1J4mAx6ydIbEvjLVBao1X7\n",
       "IdTnaFne3xxKcXwIGZjatfBvpdIarejzQxjLMELjSsJtOrYrUqCG3FIXopKxF6Gt9EnU76QwNHht\n",
       "1tLbL/h5AlqJJwc/9wBuCZ7TE1WczE86+H0TfyuVnVGBvGpJrTRSwp7IUtsmhLHyI7GuQ1vefNqg\n",
       "FqMfo1rOF5FbffsB1wevPQedXTPA1cAnwIPIAvw68HDwvPODv59WcJ0VTfytVH6OosoMI1G0Qh0O\n",
       "jvUsR5LpgArQV2N+tJECTkMrWxircCVyFgo3tVI7RiJpi4ITLvItSALZDFnP9/YtiGE0xVdR5UlL\n",
       "m8vRDkVg/dGzHIbRIs5CBqPBvgVJABkUtjkLK/5upIhrUOvObXwL4pHWwB/Q+xCXj9wwQqEGuAoF\n",
       "XaSpbUpYdETBH3PQ+dcwUsk5yJ96JtVjfc0Wsn8WKylrVADjUKHzf6KUvkqlFnVkWI4i08ydZlQM\n",
       "PVGo5XLghygrqJLYDWVMvYWKGxhGRTIOeBX4CDid9CvyzigkcznwU9L//xhGs9SgfNjZKCvnYmAT\n",
       "rxIVRxuUlvgkUtyrgI29SmQYHmiFKmw8CqxBJW6OQhlDSSOD2sT8Ek06H6L2MRv5FMowksJglKkz\n",
       "F1mt7wO+i99gkM7A/sin/R7KI74TOICG64IZRiqI2h00AinOeFTIbj7wHCqKPgMZixaFfM22qJLH\n",
       "Dih9cWTw/cdoh/BP4B/ULwZgGKkkTn9uF2Th3REp1QjkW/0clbuZixR8UfD1C1Q8neD7dSgnuDUy\n",
       "MHVGFvEeaPs7ABiEzuBr0eQwA9Wtmo7O6YZRUfgOyOgJbBE8NkcGpF5IKXsiZe1A/W6AS1Dy/ueo\n",
       "CMAiFCX2DpoE5qJqkWvi+AcMwzAMwzAMwzAMwzCM6Pl/377pNaXMQUcAAAAASUVORK5CYII=\n",
       "\"/></div></td></tr><tr><td style=\"border-top:hidden;border-bottom:hidden;\"><div align=\"center\"><small>Learned Bayesian Network</small></div></td><td style=\"border-top:hidden;border-bottom:hidden;\"><div align=\"center\"><small>Markov blanket of 'Survived'</small></div></td></tr></table>"
      ],
      "text/plain": [
       "<IPython.core.display.HTML object>"
      ]
     },
     "metadata": {},
     "output_type": "display_data"
    }
   ],
   "source": [
    "gnb.sideBySide(bn, gum.MarkovBlanket(bn, 'Survived'), captions=[\"Learned Bayesian Network\", \"Markov blanket of 'Survived'\"])"
   ]
  },
  {
   "cell_type": "markdown",
   "metadata": {},
   "source": [
    "The Markov Blanket of the `Survived` variable tells us that we only need to observe all other variables except for `decade` in order to predict `Survived`. Not really usefull here but on larger Bayesian Networks it can save you a lot of time and CPU.\n",
    "\n",
    "So how to use this BayesNet we have learned as a classifier ? We simply infer the posterior the `Survive` variable given the set of evidence we are given, and if the passanger odds of survival are above some value he will be taged as a survivor.\n",
    "\n",
    "To compute the best value given the BayesNet and our training database, we can use the `showROC()` function."
   ]
  },
  {
   "cell_type": "code",
   "execution_count": 20,
   "metadata": {
    "scrolled": true
   },
   "outputs": [
    {
     "name": "stdout",
     "output_type": "stream",
     "text": [
      " res/titanic/post_train.csv : [ ############################################## ] 100%\n",
      " result in res/titanic/post_train.csv-ROC_unnamed-Survived-1.png\n"
     ]
    },
    {
     "data": {
      "image/png": "[encoded data removed]",
      "text/plain": [
       "<matplotlib.figure.Figure at 0x7f8194689ba8>"
      ]
     },
     "metadata": {},
     "output_type": "display_data"
    }
   ],
   "source": [
    "from pyAgrum.lib.bn2roc import showROC\n",
    "\n",
    "showROC(bn, os.path.join('res', 'titanic', 'post_train.csv'),'Survived',\"1\",True,True)"
   ]
  },
  {
   "cell_type": "code",
   "execution_count": 21,
   "metadata": {},
   "outputs": [
    {
     "data": {
      "text/plain": [
       "True Positive     0.588517\n",
       "True Negative     0.351675\n",
       "False Negative    0.047847\n",
       "False Positive    0.011962\n",
       "dtype: float64"
      ]
     },
     "execution_count": 21,
     "metadata": {},
     "output_type": "execute_result"
    }
   ],
   "source": [
    "vars = [ var for var in ptestdf.keys() if var != \"Survived\" ]\n",
    "ie=gum.LazyPropagation(bn)\n",
    "testdf=pandas.read_csv(os.path.join('res', 'titanic', 'post_test.csv'))\n",
    "\n",
    "def init_belief():\n",
    "    # Initialize evidence\n",
    "    for var in vars:\n",
    "        ie.addEvidence(var, 0)\n",
    "\n",
    "def update_beliefs(row):\n",
    "    # Update beliefs from a given row less the Survived variable\n",
    "    for var in vars:\n",
    "        label = str(row.to_dict()[var])\n",
    "        idx = bn.variable(var).index(str(row.to_dict()[var]))\n",
    "        ie.chgEvidence(var, idx)\n",
    "    ie.makeInference()\n",
    "    \n",
    "def is_well_predicted(row):\n",
    "    update_beliefs(row)\n",
    "    marginal = ie.posterior('Survived')\n",
    "    outcome = row.to_dict()['Survived']\n",
    "    if outcome == 0: # Did not survived\n",
    "        if marginal.toarray()[1] < 0.46576681:\n",
    "            return \"True Positive\"\n",
    "        else:\n",
    "            return \"False Negative\"\n",
    "    else: # Survived\n",
    "        if marginal.toarray()[1] >= 0.46576681:\n",
    "            return \"True Negative\"\n",
    "        else:\n",
    "            return \"False Positive\"\n",
    "\n",
    "init_belief()\n",
    "ie.addTarget('Survived')\n",
    "\n",
    "result = testdf.apply(is_well_predicted, axis=1)\n",
    "\n",
    "result.value_counts(True)"
   ]
  },
  {
   "cell_type": "code",
   "execution_count": 22,
   "metadata": {},
   "outputs": [
    {
     "name": "stdout",
     "output_type": "stream",
     "text": [
      "94.02% good predictions\n"
     ]
    },
    {
     "name": "stderr",
     "output_type": "stream",
     "text": [
      "/home/phw/virtualenvs/devAgrum/lib/python3.5/site-packages/ipykernel_launcher.py:1: FutureWarning: 'select' is deprecated and will be removed in a future release. You can use .loc[labels.map(crit)] as a replacement\n",
      "  \"\"\"Entry point for launching an IPython kernel.\n"
     ]
    }
   ],
   "source": [
    "positives=result.select(lambda idx: result[idx].startswith(\"True\")).count()\n",
    "\n",
    "total=result.count()\n",
    "\n",
    "print(\"{0:.2f}% good predictions\".format(positives/total*100))"
   ]
  },
  {
   "cell_type": "code",
   "execution_count": null,
   "metadata": {},
   "outputs": [],
   "source": []
  }
 ],
 "metadata": {
  "hide_input": false,
  "kernelspec": {
   "display_name": "Python 3",
   "language": "python",
   "name": "python3"
  },
  "language_info": {
   "codemirror_mode": {
    "name": "ipython",
    "version": 3
   },
   "file_extension": ".py",
   "mimetype": "text/x-python",
   "name": "python",
   "nbconvert_exporter": "python",
   "pygments_lexer": "ipython3",
   "version": "3.5.3"
  }
 },
 "nbformat": 4,
 "nbformat_minor": 2
}
