{
 "cells": [
  {
   "cell_type": "markdown",
   "metadata": {},
   "source": [
    "# Titanic: Machine Learning from Disaster\n",
    "\n",
    "This notebook is an introduction to the [Kaggle titanic challenge](https://www.kaggle.com/c/titanic). The goal here is not to produce the best possible classifier, at least not yet, but to show how pyAgrum and Bayesian Networks can be used to easily and quickly explore and understand data.\n",
    "\n",
    "To undestand this notebook, basic knowledge of Bayesian Networks is required. If you are looking for an introduction to pyAgrum, check [this notebook](http://www-desir.lip6.fr/~phw/aGrUM/docs/last/notebooks/01-tutorial.ipynb.html).\n",
    "\n",
    "The notebook is split in four sections:\n",
    "1. Pretreatment: where we mangle with the data.\n",
    "2. Pre-learning: where we define our learning parameters.\n",
    "3. Learning: where we learn a Bayesian Network.\n",
    "4. Classification: where we use the Bayesian Network as a class ifier.\n",
    "\n",
    "Before we start, some notes about aGrUM and pyAgrum. \n",
    "\n",
    "**aGrUM** is a C++ library designed for easily building applications using graphical models such as Bayesian networks, influence diagrams, decision trees or Markov decision processes. \n",
    "\n",
    "**pyAgrum** is a Python wrapper for the C++ aGrUM library. It provides a high-level interface to the part of aGrUM allowing to create, handle and make computations into Bayesian Networks. The module mainly is an application of the [SWIG](http://www.swig.org/) interface generator. Custom-written code is added to simplify and extend the aGrUM API.\n",
    "\n",
    "Both projects are [open source](https://gitlab.com/agrumery/aGrUM/blob/master/LICENSE) and can be freely downloaded from [aGrUM's gitlab repository](https://gitlab.com/agrumery/aGrUM) or installed using [pip or anaconda](http://agrum.gitlab.io/pages/pyagrum.html).\n",
    "\n",
    "If you have questions, remarks or suggestions, feel free to ask us on [info@agrum.org](mailto:info@agrum.org)."
   ]
  },
  {
   "cell_type": "markdown",
   "metadata": {},
   "source": [
    "## Pretreatment\n",
    "We will be using [pandas](http://pandas.pydata.org/) to setup the learning data to fit with pyAgrum requirements."
   ]
  },
  {
   "cell_type": "code",
   "execution_count": 1,
   "metadata": {
    "ExecuteTime": {
     "end_time": "2018-05-24T12:23:11.232978Z",
     "start_time": "2018-05-24T12:23:10.969757Z"
    }
   },
   "outputs": [],
   "source": [
    "import pandas\n",
    "import os"
   ]
  },
  {
   "cell_type": "code",
   "execution_count": 2,
   "metadata": {
    "ExecuteTime": {
     "end_time": "2018-05-24T12:23:11.261287Z",
     "start_time": "2018-05-24T12:23:11.234852Z"
    }
   },
   "outputs": [],
   "source": [
    "traindf=pandas.read_csv(os.path.join('res', 'titanic', 'train.csv'))\n",
    "\n",
    "testdf=pandas.merge(pandas.read_csv(os.path.join('res', 'titanic', 'test.csv')),\n",
    "                    pandas.read_csv(os.path.join('res', 'titanic', 'gender_submission.csv')),\n",
    "                    on=\"PassengerId\")"
   ]
  },
  {
   "cell_type": "markdown",
   "metadata": {},
   "source": [
    "This merges both the test base and their respective classes, i.e. if a passagen has survived or not."
   ]
  },
  {
   "cell_type": "code",
   "execution_count": 3,
   "metadata": {
    "ExecuteTime": {
     "end_time": "2018-05-24T12:23:11.294731Z",
     "start_time": "2018-05-24T12:23:11.264538Z"
    }
   },
   "outputs": [
    {
     "data": {
      "text/plain": [
       "PassengerId    66231.000000\n",
       "Survived           0.236772\n",
       "Pclass             0.699015\n",
       "Age              211.019125\n",
       "SibSp              1.216043\n",
       "Parch              0.649728\n",
       "Fare            2469.436846\n",
       "dtype: float64"
      ]
     },
     "execution_count": 3,
     "metadata": {},
     "output_type": "execute_result"
    }
   ],
   "source": [
    "traindf.var()"
   ]
  },
  {
   "cell_type": "code",
   "execution_count": 4,
   "metadata": {
    "ExecuteTime": {
     "end_time": "2018-05-24T12:23:11.307189Z",
     "start_time": "2018-05-24T12:23:11.297470Z"
    }
   },
   "outputs": [
    {
     "name": "stdout",
     "output_type": "stream",
     "text": [
      "PassengerId: 891\n",
      "Survived: 2\n",
      "Pclass: 3\n",
      "Name: 891\n",
      "Sex: 2\n",
      "Age: 89\n",
      "SibSp: 7\n",
      "Parch: 7\n",
      "Ticket: 681\n",
      "Fare: 248\n",
      "Cabin: 148\n",
      "Embarked: 4\n"
     ]
    }
   ],
   "source": [
    "for k in traindf.keys():\n",
    "    print('{0}: {1}'.format(k, len(traindf[k].unique())))"
   ]
  },
  {
   "cell_type": "markdown",
   "metadata": {},
   "source": [
    "Looking at the number of unique values for each variable necessary since Bayesian Networks are discrete models. We will want to reduce the domain size of some discrete varaibles (like age) and discretize continuous variables (like Fare).\n",
    "\n",
    "For starters you can filter out variables with a large number of values. Choosing a large number will have an impact on performances, which boils down to how much CPU and RAM you have at your disposal. Here, we choose to filter out any variable with more than 10 different outcomes."
   ]
  },
  {
   "cell_type": "code",
   "execution_count": 5,
   "metadata": {
    "ExecuteTime": {
     "end_time": "2018-05-24T12:23:11.317020Z",
     "start_time": "2018-05-24T12:23:11.310169Z"
    }
   },
   "outputs": [
    {
     "name": "stdout",
     "output_type": "stream",
     "text": [
      "Survived\n",
      "Pclass\n",
      "Sex\n",
      "SibSp\n",
      "Parch\n",
      "Embarked\n"
     ]
    }
   ],
   "source": [
    "for k in traindf.keys():\n",
    "    if len(traindf[k].unique())<=15:\n",
    "        print(k)"
   ]
  },
  {
   "cell_type": "markdown",
   "metadata": {},
   "source": [
    "This leaves us with 6 variables, not much but still enough to learn a Bayesian Network. Will just add one more variable by reducing the cardinality of the Age variable."
   ]
  },
  {
   "cell_type": "code",
   "execution_count": 6,
   "metadata": {
    "ExecuteTime": {
     "end_time": "2018-05-24T12:23:11.361938Z",
     "start_time": "2018-05-24T12:23:11.319831Z"
    }
   },
   "outputs": [
    {
     "name": "stdout",
     "output_type": "stream",
     "text": [
      "Decade: 10\n"
     ]
    }
   ],
   "source": [
    "import math\n",
    "\n",
    "def forAge(row):\n",
    "    if row['Age'] < 10:\n",
    "        return '<10'\n",
    "    elif math.isnan(row['Age']):\n",
    "        return \"nan\"\n",
    "    else:\n",
    "        dec = str(int(row['Age']/10))\n",
    "        return \"{0}0's\".format(dec)\n",
    "\n",
    "decade=traindf.apply(forAge, axis=1)\n",
    "print(\"Decade: {1}\".format(k, len(decade.unique())))"
   ]
  },
  {
   "cell_type": "markdown",
   "metadata": {},
   "source": [
    "When pretreating data, you will want to wrap your changes inside a function, this will help you keep track of your changes and easily compare them."
   ]
  },
  {
   "cell_type": "code",
   "execution_count": 7,
   "metadata": {
    "ExecuteTime": {
     "end_time": "2018-05-24T12:23:11.368207Z",
     "start_time": "2018-05-24T12:23:11.364027Z"
    }
   },
   "outputs": [],
   "source": [
    "import math\n",
    "def pretreat(df):\n",
    "    # create a df with discrete variables (len<10)\n",
    "    lvd=[k for k in df.keys() if len(df[k].unique())<=15]\n",
    "    res=df[lvd].copy()\n",
    "    \n",
    "    forAge = lambda row: \"{0}0th\".format(int(row['Age']/10)) if not math.isnan(row['Age']) else str(\"nan\")\n",
    "    res['Decade']=df.apply(forAge, axis=1)\n",
    "   \n",
    "    return res"
   ]
  },
  {
   "cell_type": "code",
   "execution_count": 8,
   "metadata": {
    "ExecuteTime": {
     "end_time": "2018-05-24T12:23:11.416150Z",
     "start_time": "2018-05-24T12:23:11.370081Z"
    }
   },
   "outputs": [],
   "source": [
    "ptraindf=pretreat(traindf)\n",
    "ptestdf=pretreat(testdf)"
   ]
  },
  {
   "cell_type": "markdown",
   "metadata": {},
   "source": [
    "We will need to save this intermediate learning database, since pyAgrum accepts only files as inputs."
   ]
  },
  {
   "cell_type": "code",
   "execution_count": 9,
   "metadata": {
    "ExecuteTime": {
     "end_time": "2018-05-24T12:23:11.431408Z",
     "start_time": "2018-05-24T12:23:11.418076Z"
    }
   },
   "outputs": [],
   "source": [
    "ptraindf.to_csv(os.path.join('res', 'titanic', 'post_train.csv'), index=False)\n",
    "ptestdf.to_csv(os.path.join('res', 'titanic', 'post_test.csv'), index=False)"
   ]
  },
  {
   "cell_type": "markdown",
   "metadata": {},
   "source": [
    "## Pre-learning\n",
    "Now we have two data files: `data/post_train.csv` and `data/post_test.csv`. The first one is our pretreated learning database, the second our pretreated test base.\n",
    "\n",
    "Before learning a Bayesian Network, we first need to create a template. This is not mandatory, however it is sometimes usefull since not all varaibles values are present in the learning base (in this example the number of relatives).\n",
    "\n",
    "If during the learning step, the algorithm encounters an unknown value it will raise an error. This would be an issue if we wanted to automitize our classifier but, we will directly use values working with the test and learning base. This is not ideal but the objective here it to explore the data fast, not thoroughly."
   ]
  },
  {
   "cell_type": "code",
   "execution_count": 10,
   "metadata": {
    "ExecuteTime": {
     "end_time": "2018-05-24T12:23:11.566947Z",
     "start_time": "2018-05-24T12:23:11.433295Z"
    }
   },
   "outputs": [],
   "source": [
    "import pyAgrum as gum\n",
    "import pyAgrum.lib.notebook as gnb"
   ]
  },
  {
   "cell_type": "markdown",
   "metadata": {},
   "source": [
    "To help creating de the template Bayesian Network that we will use to learn our classifier, let us firt recall all the variables wa have at our disposal."
   ]
  },
  {
   "cell_type": "code",
   "execution_count": 11,
   "metadata": {
    "ExecuteTime": {
     "end_time": "2018-05-24T12:23:11.579312Z",
     "start_time": "2018-05-24T12:23:11.569269Z"
    }
   },
   "outputs": [
    {
     "name": "stdout",
     "output_type": "stream",
     "text": [
      "Survived : [0 1]\n",
      "Pclass : [3 1 2]\n",
      "Sex : ['male' 'female']\n",
      "SibSp : [1 0 3 4 2 5 8]\n",
      "Parch : [0 1 2 5 3 4 6]\n",
      "Embarked : ['S' 'C' 'Q' nan]\n",
      "Decade : ['20th' '30th' nan '50th' '00th' '10th' '40th' '60th' '70th' '80th']\n"
     ]
    }
   ],
   "source": [
    "df = pandas.read_csv(os.path.join('res', 'titanic', 'post_train.csv'))\n",
    "for k in df.keys():\n",
    "    print(\"{} : {}\".format(k, df[k].unique()))"
   ]
  },
  {
   "cell_type": "markdown",
   "metadata": {},
   "source": [
    "From here, creating the BayesNet is straitforward: for each variable we either use the `RangeVariable` class or the `LabelizedVariable`.\n",
    "\n",
    "The `RangeVariable` class creates a discrete random variable over a range. With the `LabelizedVariable` you will need to add each label ony by one. Note however that you can pass an argument to create as much labels starting from `0`."
   ]
  },
  {
   "cell_type": "code",
   "execution_count": 12,
   "metadata": {
    "ExecuteTime": {
     "end_time": "2018-05-24T12:23:11.707833Z",
     "start_time": "2018-05-24T12:23:11.581369Z"
    }
   },
   "outputs": [
    {
     "data": {
      "text/html": [
       "<svg height=\"20pt\" viewBox=\"0.00 0.00 288.00 20.23\" width=\"288pt\" xmlns=\"http://www.w3.org/2000/svg\" xmlns:xlink=\"http://www.w3.org/1999/xlink\">\n",
       "<g class=\"graph\" id=\"graph0\" transform=\"scale(0.459886 0.459886) rotate(0) translate(4 40)\">\n",
       "<title>G</title>\n",
       "<!-- Survived -->\n",
       "<g class=\"node\" id=\"node1\"><title>Survived</title>\n",
       "<g id=\"a_node1\"><a xlink:title=\"(0) Survived\">\n",
       "<ellipse cx=\"42.8962\" cy=\"-18\" fill=\"#444444\" rx=\"42.7926\" ry=\"18\" stroke=\"black\"/>\n",
       "<text fill=\"#ffffff\" font-family=\"Times New Roman,serif\" font-size=\"14.00\" text-anchor=\"middle\" x=\"42.8962\" y=\"-14.3\">Survived</text>\n",
       "</a>\n",
       "</g>\n",
       "</g>\n",
       "<!-- Pclass -->\n",
       "<g class=\"node\" id=\"node2\"><title>Pclass</title>\n",
       "<g id=\"a_node2\"><a xlink:title=\"(1) Pclass\">\n",
       "<ellipse cx=\"137.896\" cy=\"-18\" fill=\"#444444\" rx=\"34.394\" ry=\"18\" stroke=\"black\"/>\n",
       "<text fill=\"#ffffff\" font-family=\"Times New Roman,serif\" font-size=\"14.00\" text-anchor=\"middle\" x=\"137.896\" y=\"-14.3\">Pclass</text>\n",
       "</a>\n",
       "</g>\n",
       "</g>\n",
       "<!-- Sex -->\n",
       "<g class=\"node\" id=\"node3\"><title>Sex</title>\n",
       "<g id=\"a_node3\"><a xlink:title=\"(2) Sex\">\n",
       "<ellipse cx=\"216.896\" cy=\"-18\" fill=\"#444444\" rx=\"27\" ry=\"18\" stroke=\"black\"/>\n",
       "<text fill=\"#ffffff\" font-family=\"Times New Roman,serif\" font-size=\"14.00\" text-anchor=\"middle\" x=\"216.896\" y=\"-14.3\">Sex</text>\n",
       "</a>\n",
       "</g>\n",
       "</g>\n",
       "<!-- SibSp -->\n",
       "<g class=\"node\" id=\"node4\"><title>SibSp</title>\n",
       "<g id=\"a_node4\"><a xlink:title=\"(3) SibSp\">\n",
       "<ellipse cx=\"294.896\" cy=\"-18\" fill=\"#444444\" rx=\"33.2948\" ry=\"18\" stroke=\"black\"/>\n",
       "<text fill=\"#ffffff\" font-family=\"Times New Roman,serif\" font-size=\"14.00\" text-anchor=\"middle\" x=\"294.896\" y=\"-14.3\">SibSp</text>\n",
       "</a>\n",
       "</g>\n",
       "</g>\n",
       "<!-- Parch -->\n",
       "<g class=\"node\" id=\"node5\"><title>Parch</title>\n",
       "<g id=\"a_node5\"><a xlink:title=\"(4) Parch\">\n",
       "<ellipse cx=\"377.896\" cy=\"-18\" fill=\"#444444\" rx=\"31.6951\" ry=\"18\" stroke=\"black\"/>\n",
       "<text fill=\"#ffffff\" font-family=\"Times New Roman,serif\" font-size=\"14.00\" text-anchor=\"middle\" x=\"377.896\" y=\"-14.3\">Parch</text>\n",
       "</a>\n",
       "</g>\n",
       "</g>\n",
       "<!-- Embarked -->\n",
       "<g class=\"node\" id=\"node6\"><title>Embarked</title>\n",
       "<g id=\"a_node6\"><a xlink:title=\"(5) Embarked\">\n",
       "<ellipse cx=\"475.896\" cy=\"-18\" fill=\"#444444\" rx=\"48.1917\" ry=\"18\" stroke=\"black\"/>\n",
       "<text fill=\"#ffffff\" font-family=\"Times New Roman,serif\" font-size=\"14.00\" text-anchor=\"middle\" x=\"475.896\" y=\"-14.3\">Embarked</text>\n",
       "</a>\n",
       "</g>\n",
       "</g>\n",
       "<!-- Decade -->\n",
       "<g class=\"node\" id=\"node7\"><title>Decade</title>\n",
       "<g id=\"a_node7\"><a xlink:title=\"(6) Decade\">\n",
       "<ellipse cx=\"579.896\" cy=\"-18\" fill=\"#444444\" rx=\"38.1938\" ry=\"18\" stroke=\"black\"/>\n",
       "<text fill=\"#ffffff\" font-family=\"Times New Roman,serif\" font-size=\"14.00\" text-anchor=\"middle\" x=\"579.896\" y=\"-14.3\">Decade</text>\n",
       "</a>\n",
       "</g>\n",
       "</g>\n",
       "</g>\n",
       "</svg>"
      ],
      "text/plain": [
       "<IPython.core.display.HTML object>"
      ]
     },
     "metadata": {},
     "output_type": "display_data"
    }
   ],
   "source": [
    "template=gum.BayesNet()\n",
    "template.add(gum.RangeVariable(\"Survived\", \"Survived\",0,1))\n",
    "template.add(gum.RangeVariable(\"Pclass\", \"Pclass\",1,3))\n",
    "template.add(gum.LabelizedVariable(\"Sex\", \"Sex\",0).addLabel(\"female\").addLabel(\"male\"))\n",
    "template.add(gum.RangeVariable(\"SibSp\", \"SibSp\",0,8))\n",
    "template.add(gum.RangeVariable(\"Parch\", \"Parch\",0,9))\n",
    "template.add(gum.LabelizedVariable(\"Embarked\", \"Embarked\",0).addLabel('').addLabel('C').addLabel('Q').addLabel('S'))\n",
    "template.add(gum.LabelizedVariable(\"Decade\", \"Calculated decade\", 0).addLabel('00th').addLabel('10th').addLabel('20th').addLabel('30th').addLabel('40th').addLabel('50th').addLabel('60th').addLabel('70th').addLabel('80th').addLabel('nan'))\n",
    "gnb.showBN(template)"
   ]
  },
  {
   "cell_type": "markdown",
   "metadata": {},
   "source": [
    "You can also let the learning algorithm create the BayesNet random variables. However please be aware that the algorithm will no be able to handle values absent from the learning database."
   ]
  },
  {
   "cell_type": "markdown",
   "metadata": {},
   "source": [
    "## Learning\n",
    "\n",
    "We can now learn our first Bayesian Network. As you will see, this is really easy."
   ]
  },
  {
   "cell_type": "code",
   "execution_count": 13,
   "metadata": {
    "ExecuteTime": {
     "end_time": "2018-05-24T12:23:11.900075Z",
     "start_time": "2018-05-24T12:23:11.711646Z"
    },
    "scrolled": false
   },
   "outputs": [
    {
     "data": {
      "text/html": [
       "<svg height=\"244pt\" viewBox=\"0.00 0.00 288.00 244.07\" width=\"288pt\" xmlns=\"http://www.w3.org/2000/svg\" xmlns:xlink=\"http://www.w3.org/1999/xlink\">\n",
       "<g class=\"graph\" id=\"graph0\" transform=\"scale(0.938742 0.938742) rotate(0) translate(4 256)\">\n",
       "<title>G</title>\n",
       "<!-- Survived -->\n",
       "<g class=\"node\" id=\"node1\"><title>Survived</title>\n",
       "<g id=\"a_node1\"><a xlink:title=\"(0) Survived\">\n",
       "<ellipse cx=\"75.4469\" cy=\"-162\" fill=\"#444444\" rx=\"42.7926\" ry=\"18\" stroke=\"black\"/>\n",
       "<text fill=\"#ffffff\" font-family=\"Times New Roman,serif\" font-size=\"14.00\" text-anchor=\"middle\" x=\"75.4469\" y=\"-158.3\">Survived</text>\n",
       "</a>\n",
       "</g>\n",
       "</g>\n",
       "<!-- Pclass -->\n",
       "<g class=\"node\" id=\"node2\"><title>Pclass</title>\n",
       "<g id=\"a_node2\"><a xlink:title=\"(1) Pclass\">\n",
       "<ellipse cx=\"34.4469\" cy=\"-18\" fill=\"#444444\" rx=\"34.394\" ry=\"18\" stroke=\"black\"/>\n",
       "<text fill=\"#ffffff\" font-family=\"Times New Roman,serif\" font-size=\"14.00\" text-anchor=\"middle\" x=\"34.4469\" y=\"-14.3\">Pclass</text>\n",
       "</a>\n",
       "</g>\n",
       "</g>\n",
       "<!-- Survived&#45;&gt;Pclass -->\n",
       "<g class=\"edge\" id=\"edge1\"><title>Survived-&gt;Pclass</title>\n",
       "<g id=\"a_edge1\"><a xlink:title=\"(0, 1) : \">\n",
       "<path d=\"M51.2402,-146.878C37.9949,-137.674 22.8172,-124.344 15.4469,-108 6.30804,-87.7335 12.9558,-62.8576 20.7969,-44.5623\" fill=\"none\" stroke=\"black\"/>\n",
       "<polygon fill=\"black\" points=\"24.0142,-45.9442 25.0555,-35.4006 17.6664,-42.9935 24.0142,-45.9442\" stroke=\"black\"/>\n",
       "</a>\n",
       "</g>\n",
       "</g>\n",
       "<!-- SibSp -->\n",
       "<g class=\"node\" id=\"node4\"><title>SibSp</title>\n",
       "<g id=\"a_node4\"><a xlink:title=\"(3) SibSp\">\n",
       "<ellipse cx=\"171.447\" cy=\"-90\" fill=\"#444444\" rx=\"33.2948\" ry=\"18\" stroke=\"black\"/>\n",
       "<text fill=\"#ffffff\" font-family=\"Times New Roman,serif\" font-size=\"14.00\" text-anchor=\"middle\" x=\"171.447\" y=\"-86.3\">SibSp</text>\n",
       "</a>\n",
       "</g>\n",
       "</g>\n",
       "<!-- Survived&#45;&gt;SibSp -->\n",
       "<g class=\"edge\" id=\"edge7\"><title>Survived-&gt;SibSp</title>\n",
       "<g id=\"a_edge7\"><a xlink:title=\"(0, 3) : \">\n",
       "<path d=\"M95.8061,-146.155C109.924,-135.861 128.88,-122.038 144.284,-110.806\" fill=\"none\" stroke=\"black\"/>\n",
       "<polygon fill=\"black\" points=\"146.405,-113.591 152.423,-104.872 142.281,-107.935 146.405,-113.591\" stroke=\"black\"/>\n",
       "</a>\n",
       "</g>\n",
       "</g>\n",
       "<!-- Embarked -->\n",
       "<g class=\"node\" id=\"node6\"><title>Embarked</title>\n",
       "<g id=\"a_node6\"><a xlink:title=\"(5) Embarked\">\n",
       "<ellipse cx=\"72.4469\" cy=\"-90\" fill=\"#444444\" rx=\"48.1917\" ry=\"18\" stroke=\"black\"/>\n",
       "<text fill=\"#ffffff\" font-family=\"Times New Roman,serif\" font-size=\"14.00\" text-anchor=\"middle\" x=\"72.4469\" y=\"-86.3\">Embarked</text>\n",
       "</a>\n",
       "</g>\n",
       "</g>\n",
       "<!-- Survived&#45;&gt;Embarked -->\n",
       "<g class=\"edge\" id=\"edge4\"><title>Survived-&gt;Embarked</title>\n",
       "<g id=\"a_edge4\"><a xlink:title=\"(0, 5) : \">\n",
       "<path d=\"M74.7054,-143.697C74.3748,-135.983 73.9775,-126.712 73.6089,-118.112\" fill=\"none\" stroke=\"black\"/>\n",
       "<polygon fill=\"black\" points=\"77.1051,-117.945 73.18,-108.104 70.1115,-118.245 77.1051,-117.945\" stroke=\"black\"/>\n",
       "</a>\n",
       "</g>\n",
       "</g>\n",
       "<!-- Sex -->\n",
       "<g class=\"node\" id=\"node3\"><title>Sex</title>\n",
       "<g id=\"a_node3\"><a xlink:title=\"(2) Sex\">\n",
       "<ellipse cx=\"124.447\" cy=\"-234\" fill=\"#444444\" rx=\"27\" ry=\"18\" stroke=\"black\"/>\n",
       "<text fill=\"#ffffff\" font-family=\"Times New Roman,serif\" font-size=\"14.00\" text-anchor=\"middle\" x=\"124.447\" y=\"-230.3\">Sex</text>\n",
       "</a>\n",
       "</g>\n",
       "</g>\n",
       "<!-- Sex&#45;&gt;Survived -->\n",
       "<g class=\"edge\" id=\"edge3\"><title>Sex-&gt;Survived</title>\n",
       "<g id=\"a_edge3\"><a xlink:title=\"(2, 0) : \">\n",
       "<path d=\"M113.572,-217.465C107.466,-208.742 99.7048,-197.654 92.7806,-187.762\" fill=\"none\" stroke=\"black\"/>\n",
       "<polygon fill=\"black\" points=\"95.576,-185.652 86.974,-179.467 89.8413,-189.667 95.576,-185.652\" stroke=\"black\"/>\n",
       "</a>\n",
       "</g>\n",
       "</g>\n",
       "<!-- Parch -->\n",
       "<g class=\"node\" id=\"node5\"><title>Parch</title>\n",
       "<g id=\"a_node5\"><a xlink:title=\"(4) Parch\">\n",
       "<ellipse cx=\"171.447\" cy=\"-162\" fill=\"#444444\" rx=\"31.6951\" ry=\"18\" stroke=\"black\"/>\n",
       "<text fill=\"#ffffff\" font-family=\"Times New Roman,serif\" font-size=\"14.00\" text-anchor=\"middle\" x=\"171.447\" y=\"-158.3\">Parch</text>\n",
       "</a>\n",
       "</g>\n",
       "</g>\n",
       "<!-- Sex&#45;&gt;Parch -->\n",
       "<g class=\"edge\" id=\"edge8\"><title>Sex-&gt;Parch</title>\n",
       "<g id=\"a_edge8\"><a xlink:title=\"(2, 4) : \">\n",
       "<path d=\"M135.112,-217.116C140.918,-208.469 148.232,-197.575 154.773,-187.833\" fill=\"none\" stroke=\"black\"/>\n",
       "<polygon fill=\"black\" points=\"157.829,-189.56 160.498,-179.307 152.018,-185.658 157.829,-189.56\" stroke=\"black\"/>\n",
       "</a>\n",
       "</g>\n",
       "</g>\n",
       "<!-- Parch&#45;&gt;SibSp -->\n",
       "<g class=\"edge\" id=\"edge5\"><title>Parch-&gt;SibSp</title>\n",
       "<g id=\"a_edge5\"><a xlink:title=\"(4, 3) : \">\n",
       "<path d=\"M171.447,-143.697C171.447,-135.983 171.447,-126.712 171.447,-118.112\" fill=\"none\" stroke=\"black\"/>\n",
       "<polygon fill=\"black\" points=\"174.947,-118.104 171.447,-108.104 167.947,-118.104 174.947,-118.104\" stroke=\"black\"/>\n",
       "</a>\n",
       "</g>\n",
       "</g>\n",
       "<!-- Decade -->\n",
       "<g class=\"node\" id=\"node7\"><title>Decade</title>\n",
       "<g id=\"a_node7\"><a xlink:title=\"(6) Decade\">\n",
       "<ellipse cx=\"260.447\" cy=\"-90\" fill=\"#444444\" rx=\"38.1938\" ry=\"18\" stroke=\"black\"/>\n",
       "<text fill=\"#ffffff\" font-family=\"Times New Roman,serif\" font-size=\"14.00\" text-anchor=\"middle\" x=\"260.447\" y=\"-86.3\">Decade</text>\n",
       "</a>\n",
       "</g>\n",
       "</g>\n",
       "<!-- Parch&#45;&gt;Decade -->\n",
       "<g class=\"edge\" id=\"edge2\"><title>Parch-&gt;Decade</title>\n",
       "<g id=\"a_edge2\"><a xlink:title=\"(4, 6) : \">\n",
       "<path d=\"M189.457,-146.834C202.11,-136.883 219.256,-123.397 233.527,-112.173\" fill=\"none\" stroke=\"black\"/>\n",
       "<polygon fill=\"black\" points=\"235.845,-114.802 241.542,-105.869 231.518,-109.3 235.845,-114.802\" stroke=\"black\"/>\n",
       "</a>\n",
       "</g>\n",
       "</g>\n",
       "<!-- Embarked&#45;&gt;Pclass -->\n",
       "<g class=\"edge\" id=\"edge6\"><title>Embarked-&gt;Pclass</title>\n",
       "<g id=\"a_edge6\"><a xlink:title=\"(5, 1) : \">\n",
       "<path d=\"M63.2482,-72.055C58.814,-63.8866 53.3989,-53.9116 48.4659,-44.8244\" fill=\"none\" stroke=\"black\"/>\n",
       "<polygon fill=\"black\" points=\"51.4079,-42.9077 43.561,-35.789 45.256,-46.2474 51.4079,-42.9077\" stroke=\"black\"/>\n",
       "</a>\n",
       "</g>\n",
       "</g>\n",
       "</g>\n",
       "</svg>"
      ],
      "text/plain": [
       "(gum::BayesNet<double>@00000218FF5D5F20) BN{nodes: 7, arcs: 8, domainSize: 43200, parameters: 338, compression ratio: 99% }"
      ]
     },
     "execution_count": 13,
     "metadata": {},
     "output_type": "execute_result"
    }
   ],
   "source": [
    "learner = gum.BNLearner(os.path.join('res', 'titanic', 'post_train.csv'), template)\n",
    "bn = learner.learnBN()\n",
    "bn"
   ]
  },
  {
   "cell_type": "markdown",
   "metadata": {},
   "source": [
    "In a notebook, a Bayesian Network will automatically be shown graphically, you can also use the helper function `gnb.showBN(bn)`."
   ]
  },
  {
   "cell_type": "markdown",
   "metadata": {},
   "source": [
    "## Exploring the data\n",
    "Now that we have a BayesNet, we can start looking how the variables corelate with each other. pyAgum offer the perfect tool for that: the information graph."
   ]
  },
  {
   "cell_type": "code",
   "execution_count": 14,
   "metadata": {
    "ExecuteTime": {
     "end_time": "2018-05-24T12:23:12.152569Z",
     "start_time": "2018-05-24T12:23:11.903459Z"
    }
   },
   "outputs": [
    {
     "data": {
      "text/html": [
       "<div align='center'><svg height=\"260pt\" viewBox=\"0.00 0.00 306.79 260.00\" width=\"307pt\" xmlns=\"http://www.w3.org/2000/svg\" xmlns:xlink=\"http://www.w3.org/1999/xlink\">\n",
       "<g class=\"graph\" id=\"graph0\" transform=\"scale(1 1) rotate(0) translate(4 256)\">\n",
       "<title>G</title>\n",
       "<!-- Survived -->\n",
       "<g class=\"node\" id=\"node1\"><title>Survived</title>\n",
       "<g id=\"a_node1\"><a xlink:title=\"(0) Survived : 0.96080\">\n",
       "<ellipse cx=\"75.4469\" cy=\"-162\" fill=\"#4e0305\" rx=\"42.7926\" ry=\"18\" stroke=\"black\"/>\n",
       "<text fill=\"#ffffff\" font-family=\"Times New Roman,serif\" font-size=\"14.00\" text-anchor=\"middle\" x=\"75.4469\" y=\"-158.3\">Survived</text>\n",
       "</a>\n",
       "</g>\n",
       "</g>\n",
       "<!-- Pclass -->\n",
       "<g class=\"node\" id=\"node2\"><title>Pclass</title>\n",
       "<g id=\"a_node2\"><a xlink:title=\"(1) Pclass : 1.43964\">\n",
       "<ellipse cx=\"34.4469\" cy=\"-18\" fill=\"#622a47\" rx=\"34.394\" ry=\"18\" stroke=\"black\"/>\n",
       "<text fill=\"#ffffff\" font-family=\"Times New Roman,serif\" font-size=\"14.00\" text-anchor=\"middle\" x=\"34.4469\" y=\"-14.3\">Pclass</text>\n",
       "</a>\n",
       "</g>\n",
       "</g>\n",
       "<!-- Survived&#45;&gt;Pclass -->\n",
       "<g class=\"edge\" id=\"edge1\"><title>Survived-&gt;Pclass</title>\n",
       "<g id=\"a_edge1\"><a xlink:title=\"(0, 1) : 0.08367924601191325\">\n",
       "<path d=\"M51.2402,-146.878C37.9949,-137.674 22.8172,-124.344 15.4469,-108 6.30804,-87.7335 12.9558,-62.8576 20.7969,-44.5623\" fill=\"none\" stroke=\"black\" stroke-width=\"1.65325\"/>\n",
       "<polygon fill=\"black\" points=\"24.0142,-45.9442 25.0555,-35.4006 17.6664,-42.9935 24.0142,-45.9442\" stroke=\"black\" stroke-width=\"1.65325\"/>\n",
       "</a>\n",
       "</g>\n",
       "</g>\n",
       "<!-- SibSp -->\n",
       "<g class=\"node\" id=\"node4\"><title>SibSp</title>\n",
       "<g id=\"a_node4\"><a xlink:title=\"(3) SibSp : 1.36568\">\n",
       "<ellipse cx=\"171.447\" cy=\"-90\" fill=\"#5f243d\" rx=\"33.2948\" ry=\"18\" stroke=\"black\"/>\n",
       "<text fill=\"#ffffff\" font-family=\"Times New Roman,serif\" font-size=\"14.00\" text-anchor=\"middle\" x=\"171.447\" y=\"-86.3\">SibSp</text>\n",
       "</a>\n",
       "</g>\n",
       "</g>\n",
       "<!-- Survived&#45;&gt;SibSp -->\n",
       "<g class=\"edge\" id=\"edge7\"><title>Survived-&gt;SibSp</title>\n",
       "<g id=\"a_edge7\"><a xlink:title=\"(0, 3) : 0.029468123609304106\">\n",
       "<path d=\"M95.8061,-146.155C109.924,-135.861 128.88,-122.038 144.284,-110.806\" fill=\"none\" stroke=\"black\" stroke-width=\"0.253358\"/>\n",
       "<polygon fill=\"black\" points=\"146.405,-113.591 152.423,-104.872 142.281,-107.935 146.405,-113.591\" stroke=\"black\" stroke-width=\"0.253358\"/>\n",
       "</a>\n",
       "</g>\n",
       "</g>\n",
       "<!-- Embarked -->\n",
       "<g class=\"node\" id=\"node6\"><title>Embarked</title>\n",
       "<g id=\"a_node6\"><a xlink:title=\"(5) Embarked : 1.12038\">\n",
       "<ellipse cx=\"72.4469\" cy=\"-90\" fill=\"#54101b\" rx=\"48.1917\" ry=\"18\" stroke=\"black\"/>\n",
       "<text fill=\"#ffffff\" font-family=\"Times New Roman,serif\" font-size=\"14.00\" text-anchor=\"middle\" x=\"72.4469\" y=\"-86.3\">Embarked</text>\n",
       "</a>\n",
       "</g>\n",
       "</g>\n",
       "<!-- Survived&#45;&gt;Embarked -->\n",
       "<g class=\"edge\" id=\"edge4\"><title>Survived-&gt;Embarked</title>\n",
       "<g id=\"a_edge4\"><a xlink:title=\"(0, 5) : 0.02352930139895891\">\n",
       "<path d=\"M74.7054,-143.697C74.3748,-135.983 73.9775,-126.712 73.6089,-118.112\" fill=\"none\" stroke=\"black\" stroke-width=\"0.1\"/>\n",
       "<polygon fill=\"black\" points=\"77.1051,-117.945 73.18,-108.104 70.1115,-118.245 77.1051,-117.945\" stroke=\"black\" stroke-width=\"0.1\"/>\n",
       "</a>\n",
       "</g>\n",
       "</g>\n",
       "<!-- Sex -->\n",
       "<g class=\"node\" id=\"node3\"><title>Sex</title>\n",
       "<g id=\"a_node3\"><a xlink:title=\"(2) Sex : 0.93635\">\n",
       "<ellipse cx=\"124.447\" cy=\"-234\" fill=\"#4d0102\" rx=\"27\" ry=\"18\" stroke=\"black\"/>\n",
       "<text fill=\"#ffffff\" font-family=\"Times New Roman,serif\" font-size=\"14.00\" text-anchor=\"middle\" x=\"124.447\" y=\"-230.3\">Sex</text>\n",
       "</a>\n",
       "</g>\n",
       "</g>\n",
       "<!-- Sex&#45;&gt;Survived -->\n",
       "<g class=\"edge\" id=\"edge3\"><title>Sex-&gt;Survived</title>\n",
       "<g id=\"a_edge3\"><a xlink:title=\"(2, 0) : 0.2171554123987946\">\n",
       "<path d=\"M113.572,-217.465C107.466,-208.742 99.7048,-197.654 92.7806,-187.762\" fill=\"none\" stroke=\"black\" stroke-width=\"5.1\"/>\n",
       "<polygon fill=\"black\" points=\"96.3645,-185.1 86.974,-179.467 89.0528,-190.219 96.3645,-185.1\" stroke=\"black\" stroke-width=\"5.1\"/>\n",
       "</a>\n",
       "</g>\n",
       "</g>\n",
       "<!-- Parch -->\n",
       "<g class=\"node\" id=\"node5\"><title>Parch</title>\n",
       "<g id=\"a_node5\"><a xlink:title=\"(4) Parch : 1.13637\">\n",
       "<ellipse cx=\"171.447\" cy=\"-162\" fill=\"#55111d\" rx=\"31.6951\" ry=\"18\" stroke=\"black\"/>\n",
       "<text fill=\"#ffffff\" font-family=\"Times New Roman,serif\" font-size=\"14.00\" text-anchor=\"middle\" x=\"171.447\" y=\"-158.3\">Parch</text>\n",
       "</a>\n",
       "</g>\n",
       "</g>\n",
       "<!-- Sex&#45;&gt;Parch -->\n",
       "<g class=\"edge\" id=\"edge8\"><title>Sex-&gt;Parch</title>\n",
       "<g id=\"a_edge8\"><a xlink:title=\"(2, 4) : 0.04722893829511969\">\n",
       "<path d=\"M135.112,-217.116C140.918,-208.469 148.232,-197.575 154.773,-187.833\" fill=\"none\" stroke=\"black\" stroke-width=\"0.711995\"/>\n",
       "<polygon fill=\"black\" points=\"157.829,-189.56 160.498,-179.307 152.018,-185.658 157.829,-189.56\" stroke=\"black\" stroke-width=\"0.711995\"/>\n",
       "</a>\n",
       "</g>\n",
       "</g>\n",
       "<!-- Parch&#45;&gt;SibSp -->\n",
       "<g class=\"edge\" id=\"edge5\"><title>Parch-&gt;SibSp</title>\n",
       "<g id=\"a_edge5\"><a xlink:title=\"(4, 3) : 0.2119537183575891\">\n",
       "<path d=\"M171.447,-143.697C171.447,-135.983 171.447,-126.712 171.447,-118.112\" fill=\"none\" stroke=\"black\" stroke-width=\"4.96568\"/>\n",
       "<polygon fill=\"black\" points=\"175.792,-118.104 171.447,-108.104 167.102,-118.104 175.792,-118.104\" stroke=\"black\" stroke-width=\"4.96568\"/>\n",
       "</a>\n",
       "</g>\n",
       "</g>\n",
       "<!-- Decade -->\n",
       "<g class=\"node\" id=\"node7\"><title>Decade</title>\n",
       "<g id=\"a_node7\"><a xlink:title=\"(6) Decade : 2.77848\">\n",
       "<ellipse cx=\"260.447\" cy=\"-90\" fill=\"#9898fd\" rx=\"38.1938\" ry=\"18\" stroke=\"black\"/>\n",
       "<text fill=\"#000000\" font-family=\"Times New Roman,serif\" font-size=\"14.00\" text-anchor=\"middle\" x=\"260.447\" y=\"-86.3\">Decade</text>\n",
       "</a>\n",
       "</g>\n",
       "</g>\n",
       "<!-- Parch&#45;&gt;Decade -->\n",
       "<g class=\"edge\" id=\"edge2\"><title>Parch-&gt;Decade</title>\n",
       "<g id=\"a_edge2\"><a xlink:title=\"(4, 6) : 0.20931313785886585\">\n",
       "<path d=\"M189.457,-146.834C202.11,-136.883 219.256,-123.397 233.527,-112.173\" fill=\"none\" stroke=\"black\" stroke-width=\"4.89749\"/>\n",
       "<polygon fill=\"black\" points=\"236.331,-115.42 241.542,-105.869 231.032,-108.683 236.331,-115.42\" stroke=\"black\" stroke-width=\"4.89749\"/>\n",
       "</a>\n",
       "</g>\n",
       "</g>\n",
       "<!-- Embarked&#45;&gt;Pclass -->\n",
       "<g class=\"edge\" id=\"edge6\"><title>Embarked-&gt;Pclass</title>\n",
       "<g id=\"a_edge6\"><a xlink:title=\"(5, 1) : 0.10523655617315912\">\n",
       "<path d=\"M63.2482,-72.055C58.814,-63.8866 53.3989,-53.9116 48.4659,-44.8244\" fill=\"none\" stroke=\"black\" stroke-width=\"2.20992\"/>\n",
       "<polygon fill=\"black\" points=\"51.4079,-42.9077 43.561,-35.789 45.256,-46.2474 51.4079,-42.9077\" stroke=\"black\" stroke-width=\"2.20992\"/>\n",
       "</a>\n",
       "</g>\n",
       "</g>\n",
       "</g>\n",
       "</svg></div><div align='center'><font color='#4d0102'>0.9363497953477022</font><img style='vertical-align:middle' src='data:image/png;base64,iVBORw0KGgoAAAANSUhEUgAAAhsAAABRCAYAAAB7e2SeAAAABHNCSVQICAgIfAhkiAAAAAlwSFlz\n",
       "AAALEgAACxIB0t1+/AAAADl0RVh0U29mdHdhcmUAbWF0cGxvdGxpYiB2ZXJzaW9uIDIuMi4wLCBo\n",
       "dHRwOi8vbWF0cGxvdGxpYi5vcmcvFvnyVgAACMBJREFUeJzt3WuoZWUZwPH/kzOSptToYJmXbtiH\n",
       "gsmGEG/YBGJmyJAVGWJigRIUCRVIHyZLgogoKCrpYqWYRt7GyisoGA1aOo3jyJiZDCYj2TjhODk1\n",
       "zPD0Ya097fbsyzrn7Hfvc/b6/+Bw9n7Xu9d+17Pf85znrLXOWpGZSJIklfKqaQ9AkiTNNosNSZJU\n",
       "lMWGJEkqymJDkiQVZbEhSZKKstiQJElFWWxIkqSiLDYkSVJRFhuSJKmoZXPpfExE7h3ZKxo1x6B+\n",
       "w1488iXDOxxYGk3fu9m2NBhY3Ws82/G/bvOIYe+zeW7L4v1M5raeZi+bTEwOHss8YzLwZVOYp/P9\n",
       "XBb63mOK4cGvHrW+8X4WVdeeudr0vQc2zy8mgz+Tceer4dsRo/o1WeeYtmXan8n8Y9L0Z3x0p2ef\n",
       "ffSezDx31FrmVGzsBc46MGE6g+0E/f+fD2w/kEx62xe+zgPLi41xsa9vKYxxsa9v4ets2zw8eHsX\n",
       "3xiX3vqWwhgX1/raOA/HnWvmE8PLL4+VNOBhFEmSVJTFhiRJKspiQ5IkFWWxIUmSirLYkCRJRVls\n",
       "SJKkoiw2JElSURYbkiSpKIsNSZJUlMWGJEkqymJDkiQVZbEhSZKKstiQJElFWWxIkqSiLDYkSVJR\n",
       "FhuSJKkoiw1JklSUxYYkSSrKYkOSJBVlsSFJkoqy2JAkSUVZbEiSpKIsNiRJUlEWG5IkqSiLDUmS\n",
       "VJTFhiRJKspiQ5IkFWWxIUmSirLYkCRJRVlsSJKkoiw2JElSUZGZzTtH3A2sHMP7rgR2jGE9s8a4\n",
       "9GdcBjM2/RmX/ozLYMamv1Fx2ZGZ545ayZyKjXGJiEcy8z0Tf+NFzrj0Z1wGMzb9GZf+jMtgxqa/\n",
       "ccXFwyiSJKkoiw1JklTUtIqNH07pfRc749KfcRnM2PRnXPozLoMZm/7GEpepnLMhSZLaw8MokiSp\n",
       "qLEWGxFxbUS8EBFbBiyPiPhORDwdEZsjYnXXsksi4i/11yXjHNe0NYjLRXU8NkfEhoh4V9eybRHx\n",
       "eERsiohHJjfq8hrEZU1EvFRv+6aIWNe17NyI+HM9l66c3Kgno0FsvtgVly0RsT8ijqqXzfKcOSEi\n",
       "HoiIrRHxRER8rk+f1uWZhnFpXZ5pGJdW5pmGsRlfnsnMsX0BZwGrgS0Dlp8H3AUEcCrwcN1+FPBM\n",
       "/X1F/XjFOMc2za8GcTm9s73ABzpxqZ9vA1ZOexumFJc1wG/6tB8C/BV4K3Ao8BjwjmlvzyRj09P3\n",
       "fOD+lsyZY4HV9eMjgad6P/s25pmGcWldnmkYl1bmmSax6em/oDwz1j0bmfkgsHNIl7XAdVl5CHhd\n",
       "RBwLvB+4LzN3ZuY/gfuAkRcJWSpGxSUzN9TbDfAQcPxEBjZlDebLIKcAT2fmM5m5F7iJam7NjDnG\n",
       "5uPAjQWHs2hk5vOZubF+/DKwFTiup1vr8kyTuLQxzzScL4PMdJ6ZR2wWlGcmfc7GccDfup4/V7cN\n",
       "am+jT1H9VdaRwL0R8WhEXDalMU3TaRHxWETcFRHvrNucL7WIOJzqF+YtXc2tmDMR8Wbg3cDDPYta\n",
       "nWeGxKVb6/LMiLi0Os+MmjPjyDPLFj7MOYk+bTmkvVUi4n1USeDMruYzMnN7RBwD3BcRT9Z/9bbB\n",
       "RuBNmbk7Is4DbgdOwvnS7Xzg95nZvRdk5udMRBxBlfiuyMxdvYv7vKQVeWZEXDp9WpdnRsSl1Xmm\n",
       "yZxhDHlm0ns2ngNO6Hp+PLB9SHtrRMQq4MfA2sx8sdOemdvr7y8At1Ht2muFzNyVmbvrx3cCyyNi\n",
       "Jc6XbhfSs2tz1udMRCynSo43ZOatfbq0Ms80iEsr88youLQ5zzSZM7UF55lJFxt3AJ+ozxY/FXgp\n",
       "M58H7gHOiYgVEbECOKdua4WIOBG4Fbg4M5/qan9NRBzZeUwVl77/nTCLIuINERH141Oo5uuLwB+B\n",
       "kyLiLRFxKNUPwh3TG+l0RMRrgfcC67vaZnrO1PPhJ8DWzPzWgG6tyzNN4tLGPNMwLq3MMw1/lsaW\n",
       "Z8Z6GCUibqQ6s3dlRDwHfBlYDpCZ1wB3Up0p/jTwCnBpvWxnRFxN9eECfLVnd82S1iAu64Cjge/X\n",
       "c35fVje+eT1wW922DPhFZt498Q0opEFcPgJ8OiL2AXuAC7M6DXpfRHyG6hfFIcC1mfnEFDahmAax\n",
       "AfgQcG9m/qvrpTM9Z4AzgIuBxyNiU932JeBEaHWeaRKXNuaZJnFpa55pEhsYU57xCqKSJKkoryAq\n",
       "SZKKstiQJElFWWxIkqSiLDYkSVJRFhuSJKmoSV9BVNIURcR+4PGuppsy8+tD+q8B9mbmhtJjkzS7\n",
       "LDakdtmTmSfPof8aYDdwULEREcsyc9+4BiZpdnmdDalFImJ3Zh7Rp30b8HOqeyAsBz4K/Jvq7qD7\n",
       "gX8An6W6p8ZOqps2bQS+BlxLdRvuV4DLMnNzRFwFvI3qxlUnAN/IzB9FxPXAzZm5vn7fG4BfZubM\n",
       "XJlR0sE8Z0Nql8MiYlPX18e6lu3IzNXAD4AvZOY24Brg25l5cmb+ru73duDszPw88BXgT5m5iurq\n",
       "g9d1rW8V8EHgNGBdRLyR6r4cl8KByyCfTnXFT0kzzMMoUrsMO4zSuRHTo8AFQ9bxq8zcXz8+E/gw\n",
       "QGbeHxFH10UEwPrM3APsiYgHgFMy8/aI+F59p8gLgFs8FCPNPosNSR3/qb/vZ3hu6L5HwrDbcPce\n",
       "o+08vx64iOrGVp+c4xglLUEeRpE0zMvAkUOWP0hVOHT+c2VHZu6ql62NiFdHxNFUJ5p2boD2M+AK\n",
       "gBm7sZWkAdyzIbXLYV13eAS4OzOvHNL/18DNEbGW6gTRXlcBP42IzVQniF7StewPwG+p7iJ5dWZu\n",
       "B8jMv0fEVuD2+W+GpKXE/0aRNHb1f6Pszsxv9ll2ONW1PlZn5kuTHpukyfMwiqSJiYizgSeB71po\n",
       "SO3hng1JklSUezYkSVJRFhuSJKkoiw1JklSUxYYkSSrKYkOSJBVlsSFJkor6L7La79stu/kMAAAA\n",
       "AElFTkSuQmCC\n",
       "'><font color='#9898fd'>2.778481242863614</font></div>"
      ],
      "text/plain": [
       "<IPython.core.display.HTML object>"
      ]
     },
     "metadata": {},
     "output_type": "display_data"
    }
   ],
   "source": [
    "gnb.showInformation(bn,{},size=\"20\")"
   ]
  },
  {
   "cell_type": "markdown",
   "metadata": {},
   "source": [
    "To read this graph, you must understand what the entropy of a variable means: the hightest the value the more uncertain the variable marginal probability distrubition is (maximum entropy beging the equiprobable law). The lowest the value is, the more /certain/ the law is.\n",
    "\n",
    "A consequence of how entropy is calculated, is that entropy tends to get bigger if the random varaible has many modalities.\n",
    "\n",
    "What the information graph tells us is that the `decade` variable has a hight entropy. Thus, we can conclude that the passengers `decade` is distributed between all of its modalities.\n",
    "\n",
    "What it also tells us, it that high modality variables with low entropy, such as `Parch` or `SibSp`, are not evenly distributed.\n",
    "\n",
    "Let us look at he variables marginal probability by using the `showInference()` function."
   ]
  },
  {
   "cell_type": "code",
   "execution_count": 15,
   "metadata": {
    "ExecuteTime": {
     "end_time": "2018-05-24T12:23:13.166797Z",
     "start_time": "2018-05-24T12:23:12.156160Z"
    },
    "scrolled": false
   },
   "outputs": [
    {
     "data": {
      "image/png": "[encoded data removed]"
     },
     "metadata": {},
     "output_type": "display_data"
    }
   ],
   "source": [
    "gnb.showInference(bn)"
   ]
  },
  {
   "cell_type": "markdown",
   "metadata": {},
   "source": [
    "The `showInference()` is really usefull as it shows the marginal probability distribution for each random variable of a BayesNet.\n",
    "\n",
    "We can now confirm what the entropy learned us: `Parch` and `SibSp` are unevenly distributed and `decade` is more evenly distributed.\n",
    "\n",
    "Lets focus on the Kaggle challenge now, and look at the `Survived` variable. We show a single posterior using the `showPosterior()` function."
   ]
  },
  {
   "cell_type": "code",
   "execution_count": 16,
   "metadata": {
    "ExecuteTime": {
     "end_time": "2018-05-24T12:23:13.255617Z",
     "start_time": "2018-05-24T12:23:13.171007Z"
    }
   },
   "outputs": [
    {
     "data": {
      "image/png": "[encoded data removed]",
      "text/plain": [
       "<Figure size 144x36 with 1 Axes>"
      ]
     },
     "metadata": {},
     "output_type": "display_data"
    }
   ],
   "source": [
    "gnb.showPosterior(bn,evs={},target='Survived')"
   ]
  },
  {
   "cell_type": "markdown",
   "metadata": {},
   "source": [
    "So almost 38% of the passenger in our learning database survived.\n",
    "\n",
    "So how can we use this BayesNet as a classifier ? Given a set of evidence, we can infer an update posterio distribution of the target variable `Survived`.\n",
    "\n",
    "Lets look at the odds of surviving as a man in his thirties."
   ]
  },
  {
   "cell_type": "code",
   "execution_count": 17,
   "metadata": {
    "ExecuteTime": {
     "end_time": "2018-05-24T12:23:13.319774Z",
     "start_time": "2018-05-24T12:23:13.257904Z"
    }
   },
   "outputs": [
    {
     "data": {
      "image/png": "[encoded data removed]",
      "text/plain": [
       "<Figure size 144x36 with 1 Axes>"
      ]
     },
     "metadata": {},
     "output_type": "display_data"
    }
   ],
   "source": [
    "gnb.showPosterior(bn,evs={\"Sex\": \"male\", \"Decade\": 3},target='Survived')"
   ]
  },
  {
   "cell_type": "markdown",
   "metadata": {},
   "source": [
    "And now the odds of an old lady to survive."
   ]
  },
  {
   "cell_type": "code",
   "execution_count": 18,
   "metadata": {
    "ExecuteTime": {
     "end_time": "2018-05-24T12:23:13.384576Z",
     "start_time": "2018-05-24T12:23:13.321768Z"
    }
   },
   "outputs": [
    {
     "data": {
      "image/png": "[encoded data removed]",
      "text/plain": [
       "<Figure size 144x36 with 1 Axes>"
      ]
     },
     "metadata": {},
     "output_type": "display_data"
    }
   ],
   "source": [
    "gnb.showPosterior(bn,evs={\"Sex\": \"female\", \"Decade\": 8},target='Survived')"
   ]
  },
  {
   "cell_type": "markdown",
   "metadata": {},
   "source": [
    "Well, children and ladies first, that's right ?\n",
    "\n",
    "One last information we will need is which variables are required to predict the `Survived` variable. To do, we will use the markov blanket of `Survived`.\n",
    "\n"
   ]
  },
  {
   "cell_type": "code",
   "execution_count": 19,
   "metadata": {
    "ExecuteTime": {
     "end_time": "2018-05-24T12:23:13.778384Z",
     "start_time": "2018-05-24T12:23:13.387288Z"
    }
   },
   "outputs": [
    {
     "data": {
      "text/html": [
       "<table style=\"border-style: hidden; border-collapse: collapse;\" width=\"100%\"><tr><td style=\"border-top:hidden;border-bottom:hidden;\"><div align=\"center\"><svg height=\"244pt\" viewBox=\"0.00 0.00 288.00 244.07\" width=\"288pt\" xmlns=\"http://www.w3.org/2000/svg\" xmlns:xlink=\"http://www.w3.org/1999/xlink\">\n",
       "<g class=\"graph\" id=\"graph0\" transform=\"scale(0.938742 0.938742) rotate(0) translate(4 256)\">\n",
       "<title>G</title>\n",
       "<!-- Survived -->\n",
       "<g class=\"node\" id=\"node1\"><title>Survived</title>\n",
       "<g id=\"a_node1\"><a xlink:title=\"(0) Survived\">\n",
       "<ellipse cx=\"75.4469\" cy=\"-162\" fill=\"#444444\" rx=\"42.7926\" ry=\"18\" stroke=\"black\"/>\n",
       "<text fill=\"#ffffff\" font-family=\"Times New Roman,serif\" font-size=\"14.00\" text-anchor=\"middle\" x=\"75.4469\" y=\"-158.3\">Survived</text>\n",
       "</a>\n",
       "</g>\n",
       "</g>\n",
       "<!-- Pclass -->\n",
       "<g class=\"node\" id=\"node2\"><title>Pclass</title>\n",
       "<g id=\"a_node2\"><a xlink:title=\"(1) Pclass\">\n",
       "<ellipse cx=\"34.4469\" cy=\"-18\" fill=\"#444444\" rx=\"34.394\" ry=\"18\" stroke=\"black\"/>\n",
       "<text fill=\"#ffffff\" font-family=\"Times New Roman,serif\" font-size=\"14.00\" text-anchor=\"middle\" x=\"34.4469\" y=\"-14.3\">Pclass</text>\n",
       "</a>\n",
       "</g>\n",
       "</g>\n",
       "<!-- Survived&#45;&gt;Pclass -->\n",
       "<g class=\"edge\" id=\"edge1\"><title>Survived-&gt;Pclass</title>\n",
       "<g id=\"a_edge1\"><a xlink:title=\"(0, 1) : \">\n",
       "<path d=\"M51.2402,-146.878C37.9949,-137.674 22.8172,-124.344 15.4469,-108 6.30804,-87.7335 12.9558,-62.8576 20.7969,-44.5623\" fill=\"none\" stroke=\"black\"/>\n",
       "<polygon fill=\"black\" points=\"24.0142,-45.9442 25.0555,-35.4006 17.6664,-42.9935 24.0142,-45.9442\" stroke=\"black\"/>\n",
       "</a>\n",
       "</g>\n",
       "</g>\n",
       "<!-- SibSp -->\n",
       "<g class=\"node\" id=\"node4\"><title>SibSp</title>\n",
       "<g id=\"a_node4\"><a xlink:title=\"(3) SibSp\">\n",
       "<ellipse cx=\"171.447\" cy=\"-90\" fill=\"#444444\" rx=\"33.2948\" ry=\"18\" stroke=\"black\"/>\n",
       "<text fill=\"#ffffff\" font-family=\"Times New Roman,serif\" font-size=\"14.00\" text-anchor=\"middle\" x=\"171.447\" y=\"-86.3\">SibSp</text>\n",
       "</a>\n",
       "</g>\n",
       "</g>\n",
       "<!-- Survived&#45;&gt;SibSp -->\n",
       "<g class=\"edge\" id=\"edge7\"><title>Survived-&gt;SibSp</title>\n",
       "<g id=\"a_edge7\"><a xlink:title=\"(0, 3) : \">\n",
       "<path d=\"M95.8061,-146.155C109.924,-135.861 128.88,-122.038 144.284,-110.806\" fill=\"none\" stroke=\"black\"/>\n",
       "<polygon fill=\"black\" points=\"146.405,-113.591 152.423,-104.872 142.281,-107.935 146.405,-113.591\" stroke=\"black\"/>\n",
       "</a>\n",
       "</g>\n",
       "</g>\n",
       "<!-- Embarked -->\n",
       "<g class=\"node\" id=\"node6\"><title>Embarked</title>\n",
       "<g id=\"a_node6\"><a xlink:title=\"(5) Embarked\">\n",
       "<ellipse cx=\"72.4469\" cy=\"-90\" fill=\"#444444\" rx=\"48.1917\" ry=\"18\" stroke=\"black\"/>\n",
       "<text fill=\"#ffffff\" font-family=\"Times New Roman,serif\" font-size=\"14.00\" text-anchor=\"middle\" x=\"72.4469\" y=\"-86.3\">Embarked</text>\n",
       "</a>\n",
       "</g>\n",
       "</g>\n",
       "<!-- Survived&#45;&gt;Embarked -->\n",
       "<g class=\"edge\" id=\"edge4\"><title>Survived-&gt;Embarked</title>\n",
       "<g id=\"a_edge4\"><a xlink:title=\"(0, 5) : \">\n",
       "<path d=\"M74.7054,-143.697C74.3748,-135.983 73.9775,-126.712 73.6089,-118.112\" fill=\"none\" stroke=\"black\"/>\n",
       "<polygon fill=\"black\" points=\"77.1051,-117.945 73.18,-108.104 70.1115,-118.245 77.1051,-117.945\" stroke=\"black\"/>\n",
       "</a>\n",
       "</g>\n",
       "</g>\n",
       "<!-- Sex -->\n",
       "<g class=\"node\" id=\"node3\"><title>Sex</title>\n",
       "<g id=\"a_node3\"><a xlink:title=\"(2) Sex\">\n",
       "<ellipse cx=\"124.447\" cy=\"-234\" fill=\"#444444\" rx=\"27\" ry=\"18\" stroke=\"black\"/>\n",
       "<text fill=\"#ffffff\" font-family=\"Times New Roman,serif\" font-size=\"14.00\" text-anchor=\"middle\" x=\"124.447\" y=\"-230.3\">Sex</text>\n",
       "</a>\n",
       "</g>\n",
       "</g>\n",
       "<!-- Sex&#45;&gt;Survived -->\n",
       "<g class=\"edge\" id=\"edge3\"><title>Sex-&gt;Survived</title>\n",
       "<g id=\"a_edge3\"><a xlink:title=\"(2, 0) : \">\n",
       "<path d=\"M113.572,-217.465C107.466,-208.742 99.7048,-197.654 92.7806,-187.762\" fill=\"none\" stroke=\"black\"/>\n",
       "<polygon fill=\"black\" points=\"95.576,-185.652 86.974,-179.467 89.8413,-189.667 95.576,-185.652\" stroke=\"black\"/>\n",
       "</a>\n",
       "</g>\n",
       "</g>\n",
       "<!-- Parch -->\n",
       "<g class=\"node\" id=\"node5\"><title>Parch</title>\n",
       "<g id=\"a_node5\"><a xlink:title=\"(4) Parch\">\n",
       "<ellipse cx=\"171.447\" cy=\"-162\" fill=\"#444444\" rx=\"31.6951\" ry=\"18\" stroke=\"black\"/>\n",
       "<text fill=\"#ffffff\" font-family=\"Times New Roman,serif\" font-size=\"14.00\" text-anchor=\"middle\" x=\"171.447\" y=\"-158.3\">Parch</text>\n",
       "</a>\n",
       "</g>\n",
       "</g>\n",
       "<!-- Sex&#45;&gt;Parch -->\n",
       "<g class=\"edge\" id=\"edge8\"><title>Sex-&gt;Parch</title>\n",
       "<g id=\"a_edge8\"><a xlink:title=\"(2, 4) : \">\n",
       "<path d=\"M135.112,-217.116C140.918,-208.469 148.232,-197.575 154.773,-187.833\" fill=\"none\" stroke=\"black\"/>\n",
       "<polygon fill=\"black\" points=\"157.829,-189.56 160.498,-179.307 152.018,-185.658 157.829,-189.56\" stroke=\"black\"/>\n",
       "</a>\n",
       "</g>\n",
       "</g>\n",
       "<!-- Parch&#45;&gt;SibSp -->\n",
       "<g class=\"edge\" id=\"edge5\"><title>Parch-&gt;SibSp</title>\n",
       "<g id=\"a_edge5\"><a xlink:title=\"(4, 3) : \">\n",
       "<path d=\"M171.447,-143.697C171.447,-135.983 171.447,-126.712 171.447,-118.112\" fill=\"none\" stroke=\"black\"/>\n",
       "<polygon fill=\"black\" points=\"174.947,-118.104 171.447,-108.104 167.947,-118.104 174.947,-118.104\" stroke=\"black\"/>\n",
       "</a>\n",
       "</g>\n",
       "</g>\n",
       "<!-- Decade -->\n",
       "<g class=\"node\" id=\"node7\"><title>Decade</title>\n",
       "<g id=\"a_node7\"><a xlink:title=\"(6) Decade\">\n",
       "<ellipse cx=\"260.447\" cy=\"-90\" fill=\"#444444\" rx=\"38.1938\" ry=\"18\" stroke=\"black\"/>\n",
       "<text fill=\"#ffffff\" font-family=\"Times New Roman,serif\" font-size=\"14.00\" text-anchor=\"middle\" x=\"260.447\" y=\"-86.3\">Decade</text>\n",
       "</a>\n",
       "</g>\n",
       "</g>\n",
       "<!-- Parch&#45;&gt;Decade -->\n",
       "<g class=\"edge\" id=\"edge2\"><title>Parch-&gt;Decade</title>\n",
       "<g id=\"a_edge2\"><a xlink:title=\"(4, 6) : \">\n",
       "<path d=\"M189.457,-146.834C202.11,-136.883 219.256,-123.397 233.527,-112.173\" fill=\"none\" stroke=\"black\"/>\n",
       "<polygon fill=\"black\" points=\"235.845,-114.802 241.542,-105.869 231.518,-109.3 235.845,-114.802\" stroke=\"black\"/>\n",
       "</a>\n",
       "</g>\n",
       "</g>\n",
       "<!-- Embarked&#45;&gt;Pclass -->\n",
       "<g class=\"edge\" id=\"edge6\"><title>Embarked-&gt;Pclass</title>\n",
       "<g id=\"a_edge6\"><a xlink:title=\"(5, 1) : \">\n",
       "<path d=\"M63.2482,-72.055C58.814,-63.8866 53.3989,-53.9116 48.4659,-44.8244\" fill=\"none\" stroke=\"black\"/>\n",
       "<polygon fill=\"black\" points=\"51.4079,-42.9077 43.561,-35.789 45.256,-46.2474 51.4079,-42.9077\" stroke=\"black\"/>\n",
       "</a>\n",
       "</g>\n",
       "</g>\n",
       "</g>\n",
       "</svg></div></td><td style=\"border-top:hidden;border-bottom:hidden;\"><div align=\"center\"><img style=\"margin:0\" src=\"data:image/png;base64,iVBORw0KGgoAAAANSUhEUgAAARsAAAFbCAYAAADldSpNAAAABmJLR0QA/wD/AP+gvaeTAAAgAElE\n",
       "QVR4nO2deZgcVdX/Pz2TyU4SQjIEEoYlIYQlhJ2AYUlYXNhUECK7aFB8wS2IvAooRn4ggoiocUde\n",
       "FxAVISCCaCYBXvYIsu97CIQtISH7zP398a16u6bTPdMzU1W3uvp8nqeeTqq7b53punXuveecew4Y\n",
       "hmEYhmEYhmEYhmEYWaPgWwCjrhkBjAKGA32BAUB/YC2wHGgD3gEWA28A7X7ENOLAlI2RNAVgO2A3\n",
       "YHtgB2AbYDTQrxvtrEMK5yngMeBR4CHg38F7RsYxZWMkwRbAYcD+wL5oBvM+8ARSEk8BC4NjEbAE\n",
       "WBUcK9EsZxDQBAwDNgbGoFnQeKSwtgc2RDOgu4D5wN+A/yT+1xmG4ZUtgHOABYBDs5BrgNPQzKYh\n",
       "oWueAPwSeD647nPAxcBOCVzPMAxPNKAZzE3IvvIqcBmwH9DoQZ5JwPnA40jx3AOcjOxAhmHUIA3A\n",
       "McAjSMn8HfgofhRMJaYAv0NLs1eBLyADtGEYNcJUZHdpA34PbOtXnC4ZBXwfWIFsRMdjtkrDyDTN\n",
       "wG+R+/lGYIJfcbrNxsBspCTnUXvyG0ZdcBDyGr0EHOFZlt6yO3A/8o6d6lkWwzACCsB3KC6ZhvgV\n",
       "Jzb6AN9G8Tl/xGw5huGVvmjZtBL4lGdZkmIq8DrwvyiK2TCMlOmLPEzvoKC8PDMWeAYFHI70LIth\n",
       "1BUF5DJejCJ164GRwMMoLmeQZ1kMo264CG0f2M23ICmzKZrh/A1zjRtG4hwArAEO9C2IJ8YB7wJf\n",
       "8i2IYeSZISjS9gLfgnjmaBR1vJ1vQQwjr/w/tImyybcgGeC3yEBuGEbMtCAX91TfgmSEMWh7wwG+\n",
       "BTGMvHEFcHtCbU9G2wRc8DoNGBr8P8v8iOR+E8OoS/qjeJoTE2h7MlIq0yPnJgFzyL6y2QntA9vG\n",
       "tyCGkReOREuoJOJLwhlNKZMqnM8aDwOzfAuRF5LInmbUFvtR3JgYN6OD10kl5yul7mwGZiJFNAct\n",
       "uQj+Hz0qnYub+eQ/gtowUuMBlEYzCcIZjANmIFtNJZqRggmXXNOC74WKakbw/+aSz5cqsjiZjmZ9\n",
       "5qEzjBh4m2RTLYynuJwK7TfllM501p+hODouY8J2whlQM8myR3C9LRK+jmHknkb0MB2ZwrWiXimH\n",
       "chdHmcP6S6PSJVIzxSXW+ITlBW3SdNTf1g3DiJ0N0MN0SIrXnExRsUQVTrW2l3AGNDl+0dZjVHCt\n",
       "KSlcyzByzxrg2ITadpRfMrWwvnIJ/9/ZjCVcPoVG5KSXUROC69TL7nfDSJRFqPJAEjiKHqVy782J\n",
       "/D80AM+iqKBC5RIS/nto8N3ZsUlann0DmUYlfB3DqAtuRUXekiCcrYRRwwSv4VIo6klqpry9piX4\n",
       "TlQJhe2UGpDj5nSUyc8wjBg4D2WpS4JwmTSe4swlVBDllkstwXvh1oaWSDuVll1JxtlcDVyXUNuG\n",
       "UXfsgcLyt/AsR9boi0oIWwUGw4iRR1HZWqPIx4Hl5KeihGFkgv8CXgb6+RYkQ9wG/Ny3EIaRN/oC\n",
       "zwFf9i1IRjgA5bMZ41sQw8gjx6D8uy1dfTDnDAAewdKjGkZiFIBb0E7nRs+y+OQnwLPAYN+CGEae\n",
       "GYXiSr7nWxBPHA+sRh46wzASZhp64M72LUjKHI5qf5/mWxDDqCeOA9qAr/gWJCUORcnDLvQtiGHU\n",
       "I6eikf4y8p3R8TPo77wcq4RpGN44ArmAbyH5HdZp0x8Zg9uBszzLYhgGsCvyziwCDvYsS1zsgPIg\n",
       "vwt8zLMshmFEGAL8AW14vBrYxK84PWYwyre8BrgL2NyvOIZhVOJQFGn8Htot3lkC8yzRF/gs8Aqa\n",
       "zZxGvu1QhpELBgDnosJ27wDfIrv2nMFIsbyI3Pk/Bkb4FMgwjO4zFM1u3kIP8jUoRicLM4adkGJZ\n",
       "ggzcP8b2ORlGzdMPRd7egWw6i1DiqwNJbxd5I4r6vQh4MpDjceCLwIYpyWAYRopsBXwVuBe5lFei\n",
       "vVbfBj4KjCOemc8Y4IPAfwN/A5Y2NTW5Sy655L2jjz76j8iDZmQMC2IykuBS4NMoZcUuqMTvdmgG\n",
       "sgJ4GliIZkELkcF5ObA2eO2PbEMDkCdsFCrluwlKJzosuM5zwJ1Iod3e2tp6bqFQ+IhzbsepU6da\n",
       "7uCMYcrGiJu90JLqs8CvIucHANuiGJdt0OxkU6RAhgKD0LJrILIBrQBWIUX0BvIkvY4U1SNombQ0\n",
       "euE777xzg3Xr1j1YKBSe3XfffT9cKBSSyk1sGIZn+gGPoYoNXgayuXPn7jlv3ry1ra2tX/JxfcMw\n",
       "0uECYBmwpU8h5s+f/4158+atuv3223f0KYfRkSy4KY18sCvaY3Q28IJPQd54442LgHvb29uvvuuu\n",
       "uwb4lMUoYsrGiIMmZJ/5X7S50StHH310W1tb24nApmvWrLnEtzyGYcTHecigu7VvQaLMnz//mHnz\n",
       "5rW3trYe6lsWwzB6z0TkPcpkoq3W1tbfzJs3b3Fra6vV6/aMLaOM3tAI/BpYgJJPZY6mpqYzgPca\n",
       "Ghp+45yzUA/DqFHOQrEw2/kWpDPMHW4Ytc0EtB3h674FqQZzh/vHllFGT2hA3qfHUDKqzGPucP+Y\n",
       "sjF6whnA7mj/0zrPslSFucMNo/YYizZLnu9bkJ5g7nB/mHXe6A4FoBUYDuyGcvnWHK2trb+x3eHp\n",
       "Y8soozucCkwBTqFGFQ2YO9wwsk4LSvfwXd+CxIG5ww0jmxRQ2ognUGKrXGDu8HSxZZRRDSehnMKn\n",
       "oCC+XGDu8HQxZWN0xabA94ErgLs9yxIr5g43jGwxB5XfHeRbkKQwd7hh+OeTqErCfr4FSRrbHZ48\n",
       "towyKtEM/BD4OapekGvMHW4Y/vgT8BKwgW9B0sLc4YaRPh9Hy6eDfQuSNuYOTw5bRhmlDEe1sa8C\n",
       "/uFZltQxd3hymLIxSrkczWoymeYzacwdbhjpcCjggMN8C+Ibc4fHj1ndjZChwKOodO6xnmXJBLY7\n",
       "PF5sGWWEXAr0Bb7gW5CsYO5ww4ifg5Gd5ijfgmQNc4cbRnwMBp4H/uxbkKxi7vB4sGWUcRGy15zu\n",
       "W5CsYu7weDBlU9/sB3we+CJgBtAKmDvcMHrHAOBp4EbfgtQK5g43jM7ZGrge2KXk/KXAEmBM6hLV\n",
       "MLY7vOfYMir/fAQ4ArgfuADoB+yFlk4zgVf9iVZ7dOYOb21t3X/+/Pl1t5+sWix2IP/MAQ5BA0sb\n",
       "8GLw72eAD6GIYaMbzJ07d8+GhoY7nXNfnTp16g8ee+yxvm+99dYFzrkzAfbbb7+GQqFgv2sJpmzy\n",
       "TQPwLjAkcm4d0Aj8GlW2XOlBrppn/vz533DOndvQ0HBMe3v7LGA79LvinNt56tSpD/mVMHvYMirf\n",
       "TKSjogHogwaZk1C1hH3TFioPBO7wR9ra2v7knNuWQNEAa9GM0SjBlE2+2Z/Ktbj7IOPwfBRrY1RJ\n",
       "a2vriObm5r8CuwJNhUKhT+TtPg0NDR/1JFqmMWWTb6bR+T0OR+MNU5AlF7S2th5YKBQeR7OXQqGw\n",
       "niWiAOx+1113DU9duIxjyia/NKCZTaV7vA5N+T8bHEYX3HnnnRsUCoXbgJFAU6XPOedYu3atLaVK\n",
       "MGWTX8rZa0LWoojhvVBCc6MKpkyZsgzVO1+BfsNKtDnnLPCvBFM2+WU/yttr2lEp3YnAglQlygH7\n",
       "77//LxobGycCD6JQgnI0AYdce+21jRXer0tM2eSXaXQMbWhDiubrwOEoetjoAfvss8/zixcv3ts5\n",
       "9y30m5ZT6kNGjhy5V7qSZRuLs8knpfE1a5FyORJl4jNi4vbbb9+jvb39j8izF/VKrXHOfW/q1Knn\n",
       "eBItc9jMJp9E7TVtwD3AjpiiiZ199933vtWrV+/gnLsKoFAotAdv9S0UCkd4FC1z2MzGEw76A8OQ\n",
       "23kgUg7hGn8Aej9kCcVtBe8Dq4JzSwqawZTyNYqxMxcA36SyfcGIiblz5x7R0NBwZaFQGOycawJc\n",
       "nz59xkyZMuW1Tr7WiLxbI1Feof7ouRwWvL8aGaQhuOfIuL88ib8hSUzZxIzTVHoLYDwwOjg2AzYN\n",
       "XocjBdO/QhM94d3geB1YOAn2eBg2nwkXXwJ/BZ6qoJSMmGltbR1VKBSuIijw55w7berUqVcBk4Dt\n",
       "gXFoJ/7WwCZIyfSElcBi4AW0zy08HkSVTDOHKZse4vTbjQV2Q0uU8cC2qDP1DT62FO2qfhV4DXgF\n",
       "eJviCPVu8Po+GqlCd+rqQjCauY6jHKgcbl+ksIZRnB0NB0YBoxfB5gUYPUr1ukM7wpvA48BTwJPI\n",
       "E/VgAZbF84sYIQMHDtz0rLPOumj//fc/4ZVXXll5wgknNKH7sBzlEHo2eH09OBaj+7OMjrMYR3GW\n",
       "G/aDYcDGSEltDGyJ+tx4NJg1BO3dD9wHtAJ3UzmSPDVM2VSJ003eB5iCFMwu6NxqtMcofIifDP79\n",
       "rO8H2anjjUEdcRukDLdBmwY3RZ6Up4EHUOecBzxSsJ3g3aURBVAeAhwE7AAs23LLLR/t27fvg089\n",
       "9dQ/0W/8SsJy9EcD3x7A7sGxLeqHc4Hb0Ey3s2VdYpiyqUBgU9k/OKYh5eKA/6COsyB4fbTQeYBX\n",
       "JnEaFXdD+3t2RR1zEzTCzkMj4m0FjcJGefYCpgNHo9/zfhTDdBsZmU2ge3owUoIfRgPk7cDVwJ+w\n",
       "5bUfHGzo4HgHf3Kw3ME6Bw84+J6DDztVIsgtDiY4+LyDax286cA5eMzBBQ52czY4gYz5M5BtxAEP\n",
       "AWcjO13WaUKzr98C76El2y+BnXwKVTc46OfgEw5ucbDGwQoH1zs42cFGvuXzhYOCgz0dXOjgiUDx\n",
       "vOLgIgcTfMvngQ2A84B3kHH216yfarWWGIT2xD2ClGYrMhMYceNgooMrHLwdKJnrHXzcaeQySghm\n",
       "Pec6eDZQPHc5+FQd/F79ga+i5eW7SOGM8CpR/EwD/omUzq1oWW30FgfTgllMezBin+nktTGqIJjx\n",
       "HODgd8Es8E0H57n8PYAAByBj/zLgQvKfiuMA4H9RTNYVKO7H6C4OPhTYX5yDuQ4+aDaI3uFghIPz\n",
       "HbwV2Lh+kBOlMwS4Co301yOXcr1QAE5A7vOFKGG+UQ0Odg5mMi5YKtkUMWYcDHJwhoPXHLzrYKYr\n",
       "xhrVGjugcIBFaMNqvbIRUrjtKBq9T+cfr2OCB+DHDtoc3O0s127iOBjs4DvB8uoZJ1tALXEkCrCc\n",
       "iwIkDTiZ4m9SKT9S/eJgsoOnA+PvcbZcShcHLQ7+HNjFLnPxbs1IilNQXMz3KO5RM8QOaFvEAvKx\n",
       "TI4HB2c5WOvgZqeAJsMTQczSEgePOtjKtzydcCoyip7lW5AMMwZFyj9KvRuOHTQ6mB0omtNtNpMN\n",
       "HGzm4B4HrzuF0WeNaWjLyem+BakBRgAPA/+idm1yvSNQNNc5WOasZk/mcDAguD/LM2bHaUEbHi/x\n",
       "LUgNsSXyVF3uWxAvOPiJg8WutiM6c00wIPwsWFZN9C1PwN+Dw2w03WMvYA31FnEcuFlXO9jTtywJ\n",
       "Mys4kqYZbS6cE3fDgcK5Idj20NM8LnFxPJrVjPYsR5wkdu/KcCHKcNAvhWv5x8E4BysdHJfgZSYD\n",
       "s3U5ZqNlwFDST8OQlrIJ/9ZE/j4HAx3c5+DKJNqvkr4owdSXY2rPVTjmoE2baUWoJ3rvSugPvEy9\n",
       "2LoCj9MfErzEZF2G6ZFzk1AnSlvZpEmiHdZpn9Uq528afiLa5xTnLv5m1v/dWtAA4VBOoTRIS9kA\n",
       "nImyA+Y74C/YfrAyYfd2OFKUMqnC+byQeId1cIlT/hcf3AtcnEC75X63UAnNTuB61cqQFMPQDvh8\n",
       "1zZ3yjnzx4QvE85gJpUXocO/S29y6blm4LCgzaGo880p+Vz0+zMj51oorsUnd+M74XXD83NY3xs0\n",
       "NGg7fH98mXZjx8HWTltI0s6lMhKF4E9NoO1Kv1vp+aFoeRWen0VxqVWun8wq+e70yHdndHKtwygq\n",
       "uqSWcv8EfppQ2/5xMCyYhie9dyWcwYQ3tVIwU6UpdPRcVLFMDtoObUBhhytlFh2XbWFb1XwnlGsO\n",
       "xWVg+L2o8pwTyBH+bdGOnChO8TeXJn2dEj6Jwu+TMGyW+91C+150ZhPOmJsp9pPw/Ur9hMj70fte\n",
       "qoyi34Xi4JHUzOprwPMJte0fB/sGo2Ia+1fG09HwNp3ySqdcR6s02yn9/qwy54dSvhN15zvTKS9T\n",
       "+Jlw5IvaE8KHIw1lc5FTatU0+RbwWEJth79bqMzD+xF9+AnOzS7zvdL/l/aT8H5GZymT6eh9qqYf\n",
       "xslHg7bz6ZVyCoNf5dKNEo56pRx6UEvEqlrZlBLOoKKG6Gl0nIGUfrea75RbpkXbqWSTSkvZnOqU\n",
       "+S5NZqMI2CQo9ztHZ5qltNBx6VvaTinVOCbSVjZ7Bm3nMw2Hgy84TxniKY4kpQqnN8qGoM3oCFW6\n",
       "RCr33Z58p5r301I2xzsV3EuT35JcHEp3frcZVLaR9ea+pK1sJgZtb5dQ+35xSt/Z5pLfn1FuKgvr\n",
       "22Mo8/9y5zq76eEUeXLQfjUzp2q/U8nt6lvZfMEpb0yaXAbclVDb1f5u4X0LjfjdndlUmilV+m6S\n",
       "93Mq6y/tylKrtb5fRLK3dPG5OCiXbOvl4PXGGK8zN3g9Cdgbldvo7XdODV5PoKg0Q+9U9P3OOm+S\n",
       "7EBy9pNKvIHKrvjk6uD15U4/tT5hf/scxfvZQnpu9XI0o9Qcb3mUITkcNDhY6OCM5C+Foxg1DB1d\n",
       "j9GHNLR/hLOIqIs6dD12NcKExsSZJeej3y0dQSp9p/R70SNU0uEMbU7k3DQ6yp0ITlsXFrr0I1Cn\n",
       "Itd33Nsloob1rkb5cIbSQsdlVDOd95Nm1rfDzabY58r1k+7I1RMuQ3mL84tTLad7k78MoJtZGhdR\n",
       "ujRpYX1bTuh2Ln3oK9kMQqNvadulyqKa70TlChXSbNafDYYjY1QpRuVOBAcHOVW1SDvZfD/k+v5k\n",
       "jG2WU+idDSrhPQvja0LvVHR5XqmfhJ8v1w/LXb9amXrKI8D5CbSbHRyMdfJIJRGcZSSMg386f/uj\n",
       "rkFlaI3esR2aJe7gW5DEccrs/0QKhmIjRhx80ikxuq8SOruizHzjPF0/L/wSuMW3EKngoL9T0bTf\n",
       "OcvMVxM4FQdc4uA0z6L8A1UPMHrG1ijD4f6e5UgPpxKx77t00i8YvcDBGKdcNjdkYHDYDm0iPNiz\n",
       "HLVIAZXrTTLjQjZxcLhT7uFzfMtilMfBlsGS9x6XnZK95wGvoGTeRvX8N3J112clWQcnBN6NXzlo\n",
       "8i2PUcTB7g4WObjX+c/QF6UvcDdKdZEVBZh1piN7V77TSnRF4E5d6mCeg819y1PvONUFPzVY5v41\n",
       "QzOaKCNRAqhbyKZ8WeIjKGzgbN+CZAIHOzjVKVrqFFlreMDBxg5ucrDOqUpmlpOKb4f22t2JEkIZ\n",
       "63MMMghf5luQTBF4qS512j/1d5fXTWIZxEEfB5938FbgKdzbt0xVshXKy/IoMMGzLFmigGYy6zAn\n",
       "TGUc7OPg34Hx+MfOSocmilOq1secql1c4uLN8ZsGmyAbzjI0ktc7GwE3oZ35vkMVso/TPqpTHLzm\n",
       "4L1gm4N5H2Ii+H2PcHCXA+dUjK6Wg+WagO+jyNirSSdBWxb5BFpaPg/s5lmW2sLBYAdnOng1GHmv\n",
       "dLCjb7lqFacql5928HiwXL3eqXhZXvgw8AKqwnAaea8gUGQcms20A78ANvQrTg3joK+DkwMjsnPw\n",
       "gFNt8OG+ZasFHOzlipUtVwWhBtv6lishBqIqDGuAp4Bjqd20LF2xGfAz9Lc+Rr1Vu0ya4MH5lVON\n",
       "8BUOrg327VRKbF6XONg5sg+tHhX0VmhrwzpkQJ5BftzkO6DqCKvQTO5T1M8sLn2CJdZJDuY41aJa\n",
       "7eAWB59z6RUXywxOVSsPcnCZgxcCBfNsYO+q53rqE4Bfo20O7wDfozZndQOAo1HyNYdmMqdiG5rT\n",
       "xcEgB0e9CteeDitX6EF7xcH/OPiUg/HO/76eWHGwgYOpbfAtB3cEyrbNwQIH5zrlmTWKjEDu4BfQ\n",
       "w/oQCuEf61OoLugPHIpyML+HlkvXAQeQs/5ca0xGtaBf/ZbyHX/ZwY1BoKAL7BX/cnCxg08ECqgm\n",
       "tkg42MjBFAdfDBToEw7aXoT2sbDqFzL0fszJ7Wl0TgEZxS9HnhuHopF/BByB31CLPsgB8mXg7yjy\n",
       "dx2azZyKh/trGq0jBeBLwHdRCoKTieRWDaJgJyJX4K7A7sH/+wJr0Uj3BDImPgssRHlmXyukVLIk\n",
       "UHqbIvf+GLRtYzxaAmxD8QFYhGo2LQDuvwye/oqCto5BUaJfRxGjRnU0oD5xcHDshe7Fi8B96Ld+\n",
       "Aimj51F/iYsRyIs0ASmY3YGdgUGoD96GtmPMBd6M8brdwpRNkeHAr9BU8xzkhXBdfclJ0WyLHuTx\n",
       "kX+Po6OheSVSPO8AS5BLdUlwvIc63/Lgs23BOVCHDYPjGoEhwblhyC05LDiGo0Teoyje13XAq0j5\n",
       "PQU8CTwNPFGoXArnJOCH6IE4Fj0gRvcZjB76PYLXXYEtgvfWISW0CFgMvI6UwApgafCZ91A/GIzu\n",
       "d1+kPEag/Vwj0b3egqKh/n3gYbSx9IHg9ckk/rieYMpGTEZ1wxtRbto74mg0iKDdDBgdHJuh6Wuo\n",
       "IEJlsQHKjRt6OJoWwOBBwISOisch5bSOjsrq3eB4HSmXhSh1whsFfb+7jAV+j2ZtZ+I3e3+eGIiS\n",
       "Tm2NBqZNUJqGjZHyGIQGE9BA1YC8RCspDkZvIwX1JqoU8QKaLT2D7n2XA6Thj1ORsewmsrWd4Q7g\n",
       "Jx6v3wctq9YBN5Ct1BD1ws0osM6ocZrQw9yOkihlbZbnW9mE7IOM5a8BB3mWpd64Cc0wjRpmBDAP\n",
       "bbj7mF9RKnIHsp1kgWFon1A7cCl5LSKfPa5By/tckNfQ687YERnONkPpD7Ja0qOADH5ZYAmyZX0K\n",
       "+AxwD5a2Iw3akB0nF9SbsjkSVe97AdgTFdjKKkO6/kjqXIUiiFcjhW1pB5LlfbKddMyowLloGfAj\n",
       "amPvx8PAhb6FqIAZj9PhJ8TkGTXSoRH4OXIdzvAsS3d4GLjAtxBdsA+KFzHjcTJcQt7raOeIgWjk\n",
       "XY6C9WqJh6mNxNJmPE6OC1E/MDLORsBdKPhpT8+y9ISXqA1lE3ISin59EDMex8V5ZNuu2C3yaiDe\n",
       "HGXKHwV8ALjXrzh1gRmP42cN2XQU9Ig8KpsdUdLqlci1/bRfcXpFrYWePwdMQTl8r8CMx71llW8B\n",
       "jMp8AE3lb0P7jWqZl6jt2UHUeGz1tHvGaSjGycgYoaK5lnxkHHuH2lY2YMbj3nIKpmwyxwfQzuhr\n",
       "qY0YmmpYQu0rmxAzHveMY5GiNjLCFIqKJk/RlnlSNqC0FXejqNg8/V1JchS1Z7fLLaGiCXPR5Ikl\n",
       "wHG+hYgZizzuHocgZVPr9seaZwratX0N+VM0oIjnY30LkRBmPK6Og5GysdJCHvkA+VY0oE6WV2UD\n",
       "ZjyuhimoH4z2LUi9MhEtMfKsaCD/yibEjMeVmYz6QYtvQeqRcSi/7s3kw73dGQ443LcQKVFqPM5a\n",
       "1kRfTET9oBYL4dU0I1FS53vIT+nTSgxEnewQ34KkiBmP12db1A+sSGCKDERK5mFUkSDvDKX+lE2I\n",
       "GY+LtKB+UIsbiWuSRjTSvYKKrtUD9axswIzHIaNRP5jiW5B64btoLb+bb0FSJFQ2+3uWwzf1bjwO\n",
       "+4ElJkuBz6A1fL0YSkM2xka0kHo2Hm9Afc9wU2MvlBtlpm9BPBCu1U3ZiHo2HjuUqN9IiFGolOg1\n",
       "vgXxhCmb8tSj8bid+oi38kJflGXvIfLv4q5EqGx29S1IBqk34/ESVK/LSIAfoFwuW/kWxCNbY/EV\n",
       "XXEiMh4/RL6Nx3nb/Z8ZDkEjVlZL4qZFGDlqyqZz6sF4/BLwRd9C5I1NUSWEn/gWJAOYsqmevBuP\n",
       "a63KRuZpAFpRhPAAz7JkgVDZjPctSA2RV+PxI6iaqxETX0aZ5Lf3LUhG2AXb7dsT8mg8znIZ5ppj\n",
       "PLACOMu3IB65ASmXV9Fm02dRjNETaGSbH5z7rC8Ba4xaNR5vgiqD3ALMQ6V3lwCLUN94FSVVs4Ra\n",
       "PaARVa28m3znpumKBagDdXVc50vAGqQWjccfprp+YKlCe8BMNKuZ4FsQzxwLtNF1B9vPl4A1Sq0Z\n",
       "jxuBN+i8D6wD/uZLwFplNErteY5vQTLABqjUamedbCG1MTpnkSnUjvH4QjrvC22onpTRDa5FpXHz\n",
       "YMSLgzkU1+OlxxrgO/5EywW1YjzeGsnYmbIZ4U26GiTMGp/1USZNPknnSylzg8dDLRiP76Z8X2gD\n",
       "bvcoV83RB3lZrvUtSMaotJRqBx7wKFceqdZ4/AX8DIgnU17ZrAXO8CBPzfJZ5Nat571PlbiB9ZdS\n",
       "64DP+xQqp3RlPD6c4j0Yl65oDEaOk3IDz2Ypy1KzDERGuh/4FiSjlFtKrQU28ilUzgmNx4sozmI2\n",
       "QfEt7Wi2uYD0a8j/io4z3XaUsdCoknPQejnrLkhflC6l1iLDsZEspcbjeXS8D+uA81OW6QN0HHTW\n",
       "AP+dsgw1y1DgXczV3RXRpVQ78FG/4tQVJwJvU9k4u1fK8jxXIsM2KV+/ZjkbTU2H+RYk40SXUkvJ\n",
       "fzG+LLEzlcMP1gEvk27k7tci8jyT4nVrmgFoTWwbyromupT6sWdZ6omBaP9ZJWUTLmWuSlGmTSgO\n",
       "PDUfZ5WW0etTaBl1eUrXyzJDgSHBa7/g3+G+sAKa+S1FgVsLgQMj312D3LUrgPeCY1kqUuefK4DN\n",
       "6fyZaEJLrRuBPycgwzCgGfWJcAXwXvDvZWjv1Fq0vF6KzBKLgeUJyBI7aYS/F1BczXzyu2u5Gbny\n",
       "x6DRaBRKBtYcvA6nYweKE4eWp0uBt9AM8vXgdTHaKbwQjdpLErh+HtgY/WbV4NCDvx36XbvDQGBH\n",
       "ZHsZh+J9xqJ+M4KeL5lXoXv/MlpuPRccTwCPIgXlnTSUzT4o6nFnFLVZqy1mfsoAABilSURBVPRH\n",
       "+XZ2RBtHt0IdZiukSEAjzuLgWIg21b2GRqD3gtelFGclq9CoFO0MS1CHBs14hkTe64+WpIOC8+Ex\n",
       "FCmykejBCZXdxnQMbX+bYkd8DngcdcYnyUiH9Mi+wKHAx5ECaAvOl8tGsBYl5T+A4r0qxwRgKrAH\n",
       "Sl6/LZo5rUDK//ng9VWkLN5CSm8ZxX4QzmZBS+w+FPvFcHTPR6L7vHkg+zhgS6S8VqOcOAuAe4G5\n",
       "SCmlThrK5jfoId09hWvFxQaovvKewCSkYMahm7yMYs6ZsLOED+9rFDtpVuiLAsGiyjF8HY8U2BqK\n",
       "uXMeRmk/HkAdtR7ZAuXDPgwpi75IwTRFPtMOfIWOpoGNkMI6EJhGMdXtA+hhX4BiZV5KVHrRgBTP\n",
       "rsGxC6oqOwT12bkod87NSPklTtLKZih6AM8EZid8rd4wBpW63QvFN+yAbtYz6OF7mOKD+AKdj2a1\n",
       "RB+08W8iUqoTgZ2QclqNHo67URKn+ajqRb0xEPWNw1BU8aZ0VDwHoxnFJ5BiWoMe5H+hVLePkJ3+\n",
       "0gcpnGlI1n2Rl+1mZIO6kZQUTxKchqaAWcsq1h91kkuQAnFoOdOKrP6HoClqvTIaPTyXAfegB2gd\n",
       "moZ/Gynlek12tgPwVbT8DGOh3gP+gCpX1lIO7Q1RPfWb0JJ+CfAj9DfWHLeTrquwMzYAjkMRue+j\n",
       "5c596OHZh/TD0WuJAUg5fx8ttxyy//wOjfhZTdcQN40o0Vk4W7kf+Bz5KKY4HC0Lw/t7O/BBrxJ1\n",
       "g+FoNPQZAdsPOBr4C5oerkSpNY/Ftkz0hjHAqcA/0T1+F7gS+BD5nPE0ACdQNKT/Fi0380gBLRtv\n",
       "RkrnHuRyzzTHoqnZYA/XHgdcjIxza9Ba9AQ6enaMeNgY7Uqfj2aLLwJfD87ngcloBrMWOTu29ipN\n",
       "uuyOVgLtSPmkvfu9an4P3JryNQ9Emenz2Olrga3oqOSvQSEPtcgQ4OeoL7VS32WG9ke2zdVoQ2qm\n",
       "TA6NaE3/hZSudyBwB5r23YLcjw0pXdtYn37A8cjl2w5cT20tO3ZH7uHXgWM8y5IV+qDneTlaWmUm\n",
       "H9Xe6MEfm/B1JiFDVqhk0t6Va3ROASn++5HS+QvZL7x3GpqV/R2bFZdjAvBvFJx6iGdZAFm1X0mw\n",
       "/cHILbsWxYCYksk2BeS1ehKNjGfRMUAuCxSA/4eWTV/DKll0Rj/gJ8g58BnPsnA1yRVU249iePcM\n",
       "rFPUEn1R3eoVyH2cpXphP0YOjaN9C1JDnIVmrGf6FOIZ4s8qVkB/1FrgT1g5i1pmLFr+LiMbD/c3\n",
       "UeyVFQHsPp9Cs8HjfFx8OLKhHNjVB7tBXzRbWgN8KcZ2DX80oaWwQ8sXX5yAlgOHe5Sh1jkbear2\n",
       "TvvCB6OpVVzpFBrRTOZtFOlr5IujUUf1kVhtDApItPIoveenaEUzKM2Lnkm8u1p/jzrELjG2mSbN\n",
       "wHSSS1yeZPtJyx5yBFI45yZ8nVJuRV4nX3a/WcEB6f3WSdEfeAz4YZoX/QkKgoqDU9Amt6TSU3RW\n",
       "Wzt69IbZMbVTiTkJtp+07FGORAonrdnrR5ChenQCbU+m+NvNRrush7L+7xhVNt39rau9RprshZak\n",
       "qUVZ34z2yfSWLZCiSbqIeniDyt2k8RXOd5ekH9gk209L2QB8D+UFSiOp+B0kMwpPRr/X9Mi5SRQH\n",
       "hc6o9rfuzTWS5lZU8yoVniCeci1/RVvf06Czm2zKJr0O3A+lbrgo4evsgeyKmyfQdjjbKGVShfNR\n",
       "qv2te3ONpDkIzVAT3+hcQLEKx/eynYmoM6RV+L3cTS79f+ma+jCKU9gwKnZ6mXPR9puBmRU+A5pl\n",
       "zYh8flbwnfD6hwXXHxp8P5yCl8o/LXIuej56/TnB50qvPz3y/vgybSTNx5BLfMMEr3EB8J+E2g5n\n",
       "F5PKvFd6L0ptNNX2k+5cI+wzUOxbs9G9TYImlBfnpITa/z9GoT9m3162czHKNZMWpQ9UC+s/YFHb\n",
       "SHiTw+ns7ODf0e9GMxOG3ws/0xxprznyudmRc6XtzClpZ1LkvXLyzyhpO7xmOPUOFVK0w84J2gyT\n",
       "nYWKJ01l04Q8j59O8BoLSM77Fc4uHLoHlRLHlbO1VdtPqr1GdMAJ2wwHKkdyCuevKFQlUbZHf0Rv\n",
       "ZyT3o/V7WlRrGK40A+rqXLnPhLOGGZFzsyivpEr/X9q5op+bRMe1fMh0yssZzo7CmVq0A3Zmz0qS\n",
       "61FirqRYSbIj73g6GnynU14h9LSf9OYaUFRWM7v4O3rKLJKbOf4fYX3iTXvZzhLS3XNRzcym3Oeq\n",
       "Pdcd5RVef2aZ97tqJ/RQlCM6kpZTqpXsAD6UzSUkN7Mdgv6egxNqP0rUY+SQQo/S237Sk2tU02Zv\n",
       "OR1VFkmUQ9Af0Ns0iWtR8q20qKQwqv1cnMpmBpXtJV21E85eJnfymUr46JSVOB/lT0mC0ejvmZJQ\n",
       "++WYTFHZR5VBHMqmu9foTps95URSSJx+HNpS0FteB74YQzvVUu0Pn4Syic5EQmXREnm/u51xVvDv\n",
       "5gqfqbROz5Ky+REwL6G2+6G/J6l0tY7yy5lwttzZ/ay2n/TmGpXajJOvUCawN+4EU8OIp+riQ8gj\n",
       "lQVaKNo14iQ0zM6PnAuNar0pInYJSoN6fsn5U4PXEyh21NDrEX2/nIcjbXYiuTX/ahSRXqqM42TX\n",
       "MufCe3pjN9sq1096e41wwLm5m7JUyxhUkTVRziaerQpnoHpTaWTb68wI2kLR09Qc+Vz0YQ3PNXdy\n",
       "LpzeTot8Zg7rG+jCz7XQcRnVXNJulHJyhSPcjAqfix4tJd+ZEzkXdaGnVfdrJFpGH5TgNW5C+YST\n",
       "IPy9wohe6BhSECqP3vSTaq8R/ez0yOdmkey2iLtRJY5EiUvZDEOZwI6Koa3OKPfwlTuGljlX7vuV\n",
       "zoE6RtiZwvDyUkIvQRhfE3qnotPjUCFU+hvCa5WTIZylhTKUxm+EyjV8P+ouT3ImEOUbKMlWkgPN\n",
       "6WipnsSeqPD3Hs/6MVPjSz7X035S7TWi14lGGHfmLu8tYVWVxA3wcSkbUBTyi1hFhHpiLAroSzrv\n",
       "7yYo+PSAhK+TBdK2uX0e1bnvm/SF4lQ2fZHt5tcxtWdkm0aU4vUvKV3vp6juVd5JU9n0AZ5HBuLE\n",
       "OYN400tMRCPQeTG2aWSPRlT4bRHpFQ/cCvWtmqn62APK2YWS5IvoHqZSK+40lB84To5Ga8CzY27X\n",
       "yAYFNHtdSvn4oCQ5DyXmT3Iflk8q2YWSYGuUzD610jenoDV33ByHFM73yV5WfqPnDAH+jPL/phlk\n",
       "F9IH1ba6gXyWDU6LoSgI809pXvRIpEGTuHFHIUV2O8kkPDLSZQfgKWRM9FmKZxywGCV9M7pPX+Bf\n",
       "KCXoRmle+ECkbIYn1P4ElC/ndTxlczd6TR9kQHwfRQmP8iqN2BPJ8wOskmp3GIBmhYvxUAd8d6Rs\n",
       "tkzwGoNR/EEb8iYktU3eiJ+9kYdxJSqfkqWa0R9BCudatKXB6JyNgLvQwO8lP3gY9ZpGXefJwIPI\n",
       "o3A5vd9pbiTHBJQyog24jRRz1HaTyaj44d0kO2DWOruhZdPTeKz5nUTNqM7ogzxgr6BdpqZ0skVU\n",
       "yTwGfMKvOFWxNZp9LaF8XqB6pgH4Ktps/Q/SC1OoyHJUJS9N+qEQ9FfQTOd3KLeOkT4NwKFo/1Go\n",
       "ZI6htmwh/dDA1Y6yzm3hVZpssDNaNq1G5ZoyUfb6CdKv/xPSDzgZuBfNsB4CPkd+4yiyxGhUcvkF\n",
       "pGRuQfWgaknJlHIQ8DiaNZ9HSsFqGWMkqoPeBtxJNrIC/B+3Ab/wLQTagv8L5C5fA/wNJfVJagNa\n",
       "PTIKzSjno874JkrnmrpnIkH6oqXDMuR1+TrplJrxzcbApWil8hpKo5qJ2UyUX6Mqg1lhIIpC/gsa\n",
       "oVah3a//Rb4eijQooC0kX0WFCNeh3DBXAh8i3wGXG6Fd1UtRQvbvoo2jeWNn4GfoWXkN+BK9z7yZ\n",
       "GN9EtX+yyAbI6Pc7NEo5ZFW/ApUQyULMR9bYCpXmuRLte3FoqfRzZJtJfHdvxtgQzW5eQrO5W9Fg\n",
       "ltkHsgo2RNUsQvPDI8j80N+nUNVwLIqjyHr4dwOKC/oGWgasQT/0c2hT4OfRUizzP3iMDEGG9ZnA\n",
       "dRSVy3L0UH0ZeZgM9Z9D0Cx5DYrR+RMyhtfCUn1jVFTgVory/w8JOlaSWIPtguryjEMPbq0wAMUP\n",
       "7B0ceyHj2Do0+3kEGZwfRmH2L6GMcrVIfxRHsj1aFk1Ehr8tUZ94GaV7uBt5IP6DfgejPBsiY/hR\n",
       "KOwj3HP1L7TcvB8tv3wyEsURHRAc26NB5CZkYvg7CScpT0LZDELGtMNJr3xuUowFdgyOiShYcUs0\n",
       "qq1DrvbnguN5tM9nISpjsYh48jH3hJFo5NokODZDf8tWwetodO/XIcX5cHD8JzheS1/k3DAY2A9l\n",
       "2DsA9R2AZ4F/B8dTqM88i2yIcTIE3eOxqH7bLsGxGbrf9wFzkSK8i3gKFFRFUtblF9HGtosTat8n\n",
       "g1GkdPjglj7EUSPpShTO/Q4ypL4XHEuD1/fRuv+9yHeWU5wx9UczrpBh6J4NKXMMo5irOGpHWcX6\n",
       "SjH899Ok2NnqlI3Qcn0XtCzfGcXtFNAS9dXgeCs4FqO+sgLFtET7R3j/BwTHCDSwhK+bU8xbs46O\n",
       "Cm5BcCSRlaEqklI2N6OH7JSE2s8y4QM/Gs0u9kTT61tQHFBUQQxCimFQ5PtDKNq71iLlE/Ie6nzL\n",
       "KCquUHktRR31DTQzCV99za6MyvRHA9S44BhDUWE0I6UyGA1cTRTje5aiQMNVSBm9RUcl9RIaTJ5F\n",
       "A36tLvO7xfdIt1Z3lrkDrdsNw0iAo5H2rTe3aClHoJFoD9+CGEZeGYvWo+UKadULfdC+oGt9C2IY\n",
       "eedtFBhUr3wGGV8tStkwEuZW4Je+hfDEQOQC/5FvQQyjHvgOydVrzjpfR16itKpIGkZd8xHkpk01\n",
       "CXIGGIFclFbryjBSYggKLDrCtyAp8wMUPTyoqw8ahhEfD6BaT/XCVijqs54N44bhhUtQqHS98Afg\n",
       "SbJVNcAw6oLD0VJqmG9BUmBXFMD3cd+CGEY9siFSNkf6FiQF/ol20WYudaJh1At3kI2cxEnyQRQx\n",
       "7aNetWEYAd9AKQ7ySgNKqnW9b0EMo97ZBY36E30LkhAnoq382/kWxDDqnQLKrXKWb0ESoD/KG5L3\n",
       "ZaJh1Ay/QUnF88ZMlG3PSv4aRkb4KNq6sLFvQWJkQ7Sz/QLfghiGUWQASm95qm9BYuS7qALkEN+C\n",
       "GIbRkT+jPLx5YDOUzPyLvgUxDGN9jkP7hmqhgFdXXImqE9R72lPDyCRDkbI50bcgvWQisj990rcg\n",
       "hmFU5gZUea+W+RvazW7bEgwjwxyDAuBqNYPdVBSgeIBvQQzD6JyBKF3m6b4F6QEFVAsrL0Zuw8g9\n",
       "/4N2R9caRyNbzSTfghiGUR0fQnlfxvsWpBs0oZKmV/kWxDCM6mlANYkv9i1INzgDxdVs7lsQwzC6\n",
       "x3moEHotxKkMQRtJL/EtiGEY3WcM8kod41uQKvg28A4w3LcghmH0jDkolWaW2QTt6cpjegzDqBsO\n",
       "RYbiLNfC/inwMspbYxhGjdKI0oVe5FuQCkxAS72TPcthGEYMfAsZX6OG4u2BryGvVRo0oKjgW4GW\n",
       "yPnrgIdTlMMwjATZDAXKHQXsg/ZNueDYOSUZtopccy3yOn04+P9HUpLBMIyEaUCbGt+k+LCHD/6H\n",
       "UpLhkMg1HbAGWIG2JgxISQbDyD2+lgj9gM8Az6DqCxsG58OytW3IE5QG2yIFE9KElMwuwPPAKdhS\n",
       "yjBqkrCgWxvyRrkyxyrg6ynJ82s6zqiiR3sg5/tYqRbD6BU+Ruy9I9eulBOmAIxKRxwmUZxRlZOj\n",
       "Ae1Wn5CSPIZhxMg3qTyrCWcUf0lJluWdyNEWHCenJIthGAlwEZ0rnPtSkGFMJ9dfh5Zzh6Ygh2EY\n",
       "CXMZmjmUe9hfTuH6B1a49lpgKbBXCjIYhpECBWA25RXO6hSufwbyRJW6vhdhBmHDyB0F5BFax/oK\n",
       "J+myL7PpqGzWAE+jYEPDMHJII3A16yucbRK+7l10XDrdh6WSMIzc04g8UFGFMzXha75D0Rh8M3Jx\n",
       "G4aRAJXiS3wQFn67Dm1VaAQ2LvO5DYCRKOp4SPC5Roo1t9cidzYoGG8Z8BbwdvBeyAiKkcu/Bz6N\n",
       "lI5hGHXCCLScccDdaHl1L/AqckVXclVXc7wLPIHKsVwdnGtFyzXbkmAYCeK7qmMTsDswBdgV7Uca\n",
       "i+RqQ4nR/4P2KL1KcYbyJloCLaO47FoStNmP4nJoA2AQUmAjUHG8ZmALtNt7GzR7agjaeig47kVK\n",
       "6LUE/mbDqEt8KJsdUeqGqcAHkDJ4AVgAPAj8GymYRSnJ0xdtxtwV2Amlttg5kOtpYB7wL5T+YllK\n",
       "MhmG0UP2RKVbnkWzkOeBXwAnoCjerNGEFOE3gNvQ8m0VcBPaBW4eK8PIEM3AV5GNxAGPAOeTXlKs\n",
       "OBmCKkFci8oHrwKuQRHIZusxDE/sCPwBBci9DVwOTPQqUbwMAE4E5qO9Xc8B/4Ul2jKM1NgDlWdp\n",
       "R0bW45GxNs9MAK5Amf1eR7mTB3uVyDByTAuaybSjiNxD8e/lSptm4EK0efM14CTq7zcwjMToA5yD\n",
       "RvVngI/5FScTjAB+jNzxd6MlpWEYvWAsephWAGdSGzW702Rn4E5kSJ6JGZENo0cchTwyC7A0DJ3R\n",
       "AJyNUmXcSnFrhGEYVfA1ZJv5PjabqZawSsMTKGrZMIwuuBxtZPysb0FqkGbgHuSx2sGzLIaRac5F\n",
       "y4EP+xakhhmAIpBfIZtR04bhnZORd8W8Tb1nIHA78BQWj2MYHRiHNh+e7luQHDEUeAz4pW9BDCMr\n",
       "NCD39nW+BemEZmA6ilyuJXZCy1IrE2MYaLvBW8BGMbZZKanVHGAGUh7dYXakjVrjHBQMmaVsiYaR\n",
       "Og3IVfuNBNpuZn0F0QLMCs6N72Z7tapsBqMkYCf4FsQwfPJRFB2cVCmVcgoiVEKzY2irVjgf2W8M\n",
       "o275DXLTJkUlBVHu/FBklwnfm9HFd4YGnwnPz2L95dnMSFvNrH/Nrt6Pi12Ctscm1L5hZJoG4A3g\n",
       "tASvUUmplJvZzEEKI2R2yf9L2wrtOM1oeVba5szgfHjNWSXf7+r9OCkAC1FlTsOoOzZGD9d+CV4j\n",
       "VBCTgv9HH+rJkc+FM5rozGQyHb1PpcpmFh2VS+n7pe2Vzly6ej9u/oG5wY06ZSd6ZqjtDuU8UrMo\n",
       "Kp+QOXT9oFdakrVQXA6Vm/lMp7xNqqv34+ZKkl2yGkZm+QB62EYleI1qjbrVfK7cZ2YgRTW+zPvj\n",
       "KSoxhxQS3Xg/bn6IUowaRt2xDR2XOElQrbIJH/rOZCltK1x6tVR4P2QSxVlMOYXS1ftx8Ufgzwm2\n",
       "bxiZJTTUfijBa1SrbEKv0myKS5oWurbJdPX/6PJoUjffj5vb0Y56w6hLHga+nVDboTIrNcSWo5mO\n",
       "S5pQ8YyPvF/aVvj5Fjouo8L3Q/tQOPMJbTtU+X6cDEDxTJ9IqH3DyDwXokx8cVNpu0JnNFP0VM2i\n",
       "o+G6XDuTIp8NvzubjsuqZorG41JF0tX7cXIIKnmThiHaMDLJDqjWtiV6SpY/kO2NroaRCn9BD4OR\n",
       "DNugzIe7+hbEMHyzE3oYpvgWJIcUUGzNDb4FMYyscCkqL7uBb0FyxqmooN3mvgUxjKzQD3mmbgAa\n",
       "PcuSF/YC3kf1wg3DiLA9SqJ1FVZStrdMBJYAP/ctiGFklT3RaPxLoMmzLLXK7sAi4HpslmgYnXIg\n",
       "sjPcisWFdJePAcuRorHifoZRBROBl1DK0F08y1ILNKGgwnXAZdiMxjC6xSbAP1Hk69nYA1SJbYD7\n",
       "0fLzM55lMYyapQH4CrAS+Dewr19xMsVg4Dtoz9O9JJsXyDDqhm2BvwPtKNp4K7/ieKURlb95DXgX\n",
       "7amyMi2GETNHAE+jiOPfIXd5vdAXpcJ4Btlmfg6M8CqRYeScPsCxwCNopnMjUkJ5tem0AOehhOWr\n",
       "gJ9hVRIMI1UKwOFoedWGHsYLyMcO8kHAMcDf0CxmIUrHsalPoQzD0Oh/PvACyg3zNPBdYG9qZ8bT\n",
       "DJyMtmysQDW6b0KzNgtwNIwMsguKOXkEKZ6laKk1E9gD6O9PtA6MRkF4VwCPoiXhcpQn+DhgmD/R\n",
       "DKN28bXXaXNganDsj2ZA61Cw4L/R5s+n0Y7zF5BNJG5GIe/ZWGTQ3gWl1RiJYojuA/4FzAPuSUgG\n",
       "w6gbsrKxcnOURCp84HcENgvec8id/ArwNtoUGh6r0NIGNFNqBwai3eoNaFvFQGAjpESakadoq+A8\n",
       "QRuPAw8iRfdQcITtGoYRA1lRNuUYiJRCOPsYgxTFCKQ8RqCE4QOCz28YvK5CwYageJeVFJXTYuBN\n",
       "NFt6Hs2cXiPZ6gmGYRiGYRiGYRiGYRiGYRiGYRj1y/8HSokN9mupi3sAAAAASUVORK5CYII=\n",
       "\"/></div></td></tr><tr><td style=\"border-top:hidden;border-bottom:hidden;\"><div align=\"center\"><small>Learned Bayesian Network</small></div></td><td style=\"border-top:hidden;border-bottom:hidden;\"><div align=\"center\"><small>Markov blanket of 'Survived'</small></div></td></tr></table>"
      ],
      "text/plain": [
       "<IPython.core.display.HTML object>"
      ]
     },
     "metadata": {},
     "output_type": "display_data"
    }
   ],
   "source": [
    "gnb.sideBySide(bn, gum.MarkovBlanket(bn, 'Survived'), captions=[\"Learned Bayesian Network\", \"Markov blanket of 'Survived'\"])"
   ]
  },
  {
   "cell_type": "markdown",
   "metadata": {},
   "source": [
    "The Markov Blanket of the `Survived` variable tells us that we only need to observe all other variables except for `decade` in order to predict `Survived`. Not really usefull here but on larger Bayesian Networks it can save you a lot of time and CPU.\n",
    "\n",
    "So how to use this BayesNet we have learned as a classifier ? We simply infer the posterior the `Survive` variable given the set of evidence we are given, and if the passanger odds of survival are above some value he will be taged as a survivor.\n",
    "\n",
    "To compute the best value given the BayesNet and our training database, we can use the `showROC()` function."
   ]
  },
  {
   "cell_type": "code",
   "execution_count": 20,
   "metadata": {
    "ExecuteTime": {
     "end_time": "2018-05-24T12:23:15.332352Z",
     "start_time": "2018-05-24T12:23:13.781882Z"
    },
    "scrolled": true
   },
   "outputs": [
    {
     "name": "stdout",
     "output_type": "stream",
     "text": [
      " res\\titanic\\post_train.csv : [ ############################################## ] 100%\n",
      " result in res\\titanic\\post_train.csv-ROC_unnamed-Survived-1.png\n"
     ]
    },
    {
     "data": {
      "image/png": "[encoded data removed]",
      "text/plain": [
       "<Figure size 432x288 with 1 Axes>"
      ]
     },
     "metadata": {},
     "output_type": "display_data"
    }
   ],
   "source": [
    "from pyAgrum.lib.bn2roc import showROC\n",
    "\n",
    "showROC(bn, os.path.join('res', 'titanic', 'post_train.csv'),'Survived',\"1\",True,True)"
   ]
  },
  {
   "cell_type": "code",
   "execution_count": 21,
   "metadata": {
    "ExecuteTime": {
     "end_time": "2018-05-24T12:23:15.740754Z",
     "start_time": "2018-05-24T12:23:15.334573Z"
    }
   },
   "outputs": [
    {
     "data": {
      "text/plain": [
       "True Positive     0.588517\n",
       "True Negative     0.351675\n",
       "False Negative    0.047847\n",
       "False Positive    0.011962\n",
       "dtype: float64"
      ]
     },
     "execution_count": 21,
     "metadata": {},
     "output_type": "execute_result"
    }
   ],
   "source": [
    "vars = [ var for var in ptestdf.keys() if var != \"Survived\" ]\n",
    "ie=gum.LazyPropagation(bn)\n",
    "testdf=pandas.read_csv(os.path.join('res', 'titanic', 'post_test.csv'))\n",
    "\n",
    "def init_belief():\n",
    "    # Initialize evidence\n",
    "    for var in vars:\n",
    "        ie.addEvidence(var, 0)\n",
    "\n",
    "def update_beliefs(row):\n",
    "    # Update beliefs from a given row less the Survived variable\n",
    "    for var in vars:\n",
    "        label = str(row.to_dict()[var])\n",
    "        idx = bn.variable(var).index(str(row.to_dict()[var]))\n",
    "        ie.chgEvidence(var, idx)\n",
    "    ie.makeInference()\n",
    "    \n",
    "def is_well_predicted(row):\n",
    "    update_beliefs(row)\n",
    "    marginal = ie.posterior('Survived')\n",
    "    outcome = row.to_dict()['Survived']\n",
    "    if outcome == 0: # Did not survived\n",
    "        if marginal.toarray()[1] < 0.46576681:\n",
    "            return \"True Positive\"\n",
    "        else:\n",
    "            return \"False Negative\"\n",
    "    else: # Survived\n",
    "        if marginal.toarray()[1] >= 0.46576681:\n",
    "            return \"True Negative\"\n",
    "        else:\n",
    "            return \"False Positive\"\n",
    "\n",
    "init_belief()\n",
    "ie.addTarget('Survived')\n",
    "\n",
    "result = testdf.apply(is_well_predicted, axis=1)\n",
    "\n",
    "result.value_counts(True)"
   ]
  },
  {
   "cell_type": "code",
   "execution_count": 22,
   "metadata": {},
   "outputs": [
    {
     "name": "stdout",
     "output_type": "stream",
     "text": [
      "94.02% good predictions\n"
     ]
    }
   ],
   "source": [
    "positives = sum(result.map(lambda x: 1 if x.startswith(\"True\") else 0 ))\n",
    "total = result.count()\n",
    "print(\"{0:.2f}% good predictions\".format(positives/total*100))"
   ]
  },
  {
   "cell_type": "code",
   "execution_count": null,
   "metadata": {},
   "outputs": [],
   "source": []
  }
 ],
 "metadata": {
  "hide_input": false,
  "kernelspec": {
   "display_name": "Python 3",
   "language": "python",
   "name": "python3"
  },
  "language_info": {
   "codemirror_mode": {
    "name": "ipython",
    "version": 3
   },
   "file_extension": ".py",
   "mimetype": "text/x-python",
   "name": "python",
   "nbconvert_exporter": "python",
   "pygments_lexer": "ipython3",
   "version": "3.6.2"
  }
 },
 "nbformat": 4,
 "nbformat_minor": 2
}
