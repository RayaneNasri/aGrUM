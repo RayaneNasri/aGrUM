{
 "cells": [
  {
   "cell_type": "markdown",
   "metadata": {},
   "source": [
    "# Titanic: Machine Learning from Disaster\n",
    "\n",
    "This notebook is an introduction to the [Kaggle titanic challenge](https://www.kaggle.com/c/titanic). The goal here is not to produce the best possible classifier, at least not yet, but to show how pyAgrum and Bayesian Networks can be used to easily and quickly explore and understand data.\n",
    "\n",
    "To undestand this notebook, basic knowledge of Bayesian Networks is required. If you are looking for an introduction to pyAgrum, check [this notebook](http://www-desir.lip6.fr/~phw/aGrUM/docs/last/notebooks/01-tutorial.ipynb.html).\n",
    "\n",
    "The notebook is split in four sections:\n",
    "1. Pretreatment: where we mangle with the data.\n",
    "2. Pre-learning: where we define our learning parameters.\n",
    "3. Learning: where we learn a Bayesian Network.\n",
    "4. Classification: where we use the Bayesian Network as a class ifier.\n",
    "\n",
    "Before we start, some notes about aGrUM and pyAgrum. \n",
    "\n",
    "**aGrUM** is a C++ library designed for easily building applications using graphical models such as Bayesian networks, influence diagrams, decision trees or Markov decision processes. \n",
    "\n",
    "**pyAgrum** is a Python wrapper for the C++ aGrUM library. It provides a high-level interface to the part of aGrUM allowing to create, handle and make computations into Bayesian Networks. The module mainly is an application of the [SWIG](http://www.swig.org/) interface generator. Custom-written code is added to simplify and extend the aGrUM API.\n",
    "\n",
    "Both projects are [open source](https://gitlab.com/agrumery/aGrUM/blob/master/LICENSE) and can be freely downloaded from [aGrUM's gitlab repository](https://gitlab.com/agrumery/aGrUM) or installed using [pip or anaconda](http://agrum.gitlab.io/pages/pyagrum.html).\n",
    "\n",
    "If you have questions, remarks or suggestions, feel free to ask us on [info@agrum.org](mailto:info@agrum.org)."
   ]
  },
  {
   "cell_type": "markdown",
   "metadata": {},
   "source": [
    "## Pretreatment\n",
    "We will be using [pandas](http://pandas.pydata.org/) to setup the learning data to fit with pyAgrum requirements."
   ]
  },
  {
   "cell_type": "code",
   "execution_count": 1,
   "metadata": {
    "ExecuteTime": {
     "end_time": "2018-09-11T07:53:54.342852Z",
     "start_time": "2018-09-11T07:53:54.117005Z"
    }
   },
   "outputs": [],
   "source": [
    "import pandas\n",
    "import os"
   ]
  },
  {
   "cell_type": "code",
   "execution_count": 2,
   "metadata": {
    "ExecuteTime": {
     "end_time": "2018-09-11T07:53:54.360655Z",
     "start_time": "2018-09-11T07:53:54.345026Z"
    }
   },
   "outputs": [],
   "source": [
    "traindf=pandas.read_csv(os.path.join('res', 'titanic', 'train.csv'))\n",
    "\n",
    "testdf=pandas.merge(pandas.read_csv(os.path.join('res', 'titanic', 'test.csv')),\n",
    "                    pandas.read_csv(os.path.join('res', 'titanic', 'gender_submission.csv')),\n",
    "                    on=\"PassengerId\")"
   ]
  },
  {
   "cell_type": "markdown",
   "metadata": {},
   "source": [
    "This merges both the test base and their respective classes, i.e. if a passagen has survived or not."
   ]
  },
  {
   "cell_type": "code",
   "execution_count": 3,
   "metadata": {
    "ExecuteTime": {
     "end_time": "2018-09-11T07:53:54.407949Z",
     "start_time": "2018-09-11T07:53:54.362075Z"
    }
   },
   "outputs": [
    {
     "data": {
      "text/plain": [
       "PassengerId    66231.000000\n",
       "Survived           0.236772\n",
       "Pclass             0.699015\n",
       "Age              211.019125\n",
       "SibSp              1.216043\n",
       "Parch              0.649728\n",
       "Fare            2469.436846\n",
       "dtype: float64"
      ]
     },
     "execution_count": 3,
     "metadata": {},
     "output_type": "execute_result"
    }
   ],
   "source": [
    "traindf.var()"
   ]
  },
  {
   "cell_type": "code",
   "execution_count": 4,
   "metadata": {
    "ExecuteTime": {
     "end_time": "2018-09-11T07:53:54.416259Z",
     "start_time": "2018-09-11T07:53:54.410615Z"
    }
   },
   "outputs": [
    {
     "name": "stdout",
     "output_type": "stream",
     "text": [
      "PassengerId: 891\n",
      "Survived: 2\n",
      "Pclass: 3\n",
      "Name: 891\n",
      "Sex: 2\n",
      "Age: 89\n",
      "SibSp: 7\n",
      "Parch: 7\n",
      "Ticket: 681\n",
      "Fare: 248\n",
      "Cabin: 148\n",
      "Embarked: 4\n"
     ]
    }
   ],
   "source": [
    "for k in traindf.keys():\n",
    "    print('{0}: {1}'.format(k, len(traindf[k].unique())))"
   ]
  },
  {
   "cell_type": "markdown",
   "metadata": {},
   "source": [
    "Looking at the number of unique values for each variable necessary since Bayesian Networks are discrete models. We will want to reduce the domain size of some discrete varaibles (like age) and discretize continuous variables (like Fare).\n",
    "\n",
    "For starters you can filter out variables with a large number of values. Choosing a large number will have an impact on performances, which boils down to how much CPU and RAM you have at your disposal. Here, we choose to filter out any variable with more than 10 different outcomes."
   ]
  },
  {
   "cell_type": "code",
   "execution_count": 5,
   "metadata": {
    "ExecuteTime": {
     "end_time": "2018-09-11T07:53:54.430880Z",
     "start_time": "2018-09-11T07:53:54.417989Z"
    }
   },
   "outputs": [
    {
     "name": "stdout",
     "output_type": "stream",
     "text": [
      "Survived\n",
      "Pclass\n",
      "Sex\n",
      "SibSp\n",
      "Parch\n",
      "Embarked\n"
     ]
    }
   ],
   "source": [
    "for k in traindf.keys():\n",
    "    if len(traindf[k].unique())<=15:\n",
    "        print(k)"
   ]
  },
  {
   "cell_type": "markdown",
   "metadata": {},
   "source": [
    "This leaves us with 6 variables, not much but still enough to learn a Bayesian Network. Will just add one more variable by reducing the cardinality of the Age variable."
   ]
  },
  {
   "cell_type": "code",
   "execution_count": 6,
   "metadata": {
    "ExecuteTime": {
     "end_time": "2018-09-11T07:53:54.468506Z",
     "start_time": "2018-09-11T07:53:54.433072Z"
    }
   },
   "outputs": [
    {
     "name": "stdout",
     "output_type": "stream",
     "text": [
      "Decade: 10\n"
     ]
    }
   ],
   "source": [
    "import math\n",
    "\n",
    "def forAge(row):\n",
    "    if row['Age'] < 10:\n",
    "        return '<10'\n",
    "    elif math.isnan(row['Age']):\n",
    "        return \"nan\"\n",
    "    else:\n",
    "        dec = str(int(row['Age']/10))\n",
    "        return \"{0}0's\".format(dec)\n",
    "\n",
    "decade=traindf.apply(forAge, axis=1)\n",
    "print(\"Decade: {1}\".format(k, len(decade.unique())))"
   ]
  },
  {
   "cell_type": "markdown",
   "metadata": {},
   "source": [
    "When pretreating data, you will want to wrap your changes inside a function, this will help you keep track of your changes and easily compare them."
   ]
  },
  {
   "cell_type": "code",
   "execution_count": 7,
   "metadata": {
    "ExecuteTime": {
     "end_time": "2018-09-11T07:53:54.490625Z",
     "start_time": "2018-09-11T07:53:54.470423Z"
    }
   },
   "outputs": [],
   "source": [
    "import math\n",
    "def pretreat(df):\n",
    "    # create a df with discrete variables (len<10)\n",
    "    lvd=[k for k in df.keys() if len(df[k].unique())<=15]\n",
    "    res=df[lvd].copy()\n",
    "    \n",
    "    forAge = lambda row: \"{0}0th\".format(int(row['Age']/10)) if not math.isnan(row['Age']) else str(\"nan\")\n",
    "    res['Decade']=df.apply(forAge, axis=1)\n",
    "   \n",
    "    return res"
   ]
  },
  {
   "cell_type": "code",
   "execution_count": 8,
   "metadata": {
    "ExecuteTime": {
     "end_time": "2018-09-11T07:53:54.555546Z",
     "start_time": "2018-09-11T07:53:54.493485Z"
    }
   },
   "outputs": [],
   "source": [
    "ptraindf=pretreat(traindf)\n",
    "ptestdf=pretreat(testdf)"
   ]
  },
  {
   "cell_type": "markdown",
   "metadata": {},
   "source": [
    "We will need to save this intermediate learning database, since pyAgrum accepts only files as inputs."
   ]
  },
  {
   "cell_type": "code",
   "execution_count": 9,
   "metadata": {
    "ExecuteTime": {
     "end_time": "2018-09-11T07:53:54.577214Z",
     "start_time": "2018-09-11T07:53:54.557606Z"
    }
   },
   "outputs": [],
   "source": [
    "ptraindf.to_csv(os.path.join('res', 'titanic', 'post_train.csv'), index=False)\n",
    "ptestdf.to_csv(os.path.join('res', 'titanic', 'post_test.csv'), index=False)"
   ]
  },
  {
   "cell_type": "markdown",
   "metadata": {},
   "source": [
    "## Pre-learning\n",
    "Now we have two data files: `data/post_train.csv` and `data/post_test.csv`. The first one is our pretreated learning database, the second our pretreated test base.\n",
    "\n",
    "Before learning a Bayesian Network, we first need to create a template. This is not mandatory, however it is sometimes usefull since not all varaibles values are present in the learning base (in this example the number of relatives).\n",
    "\n",
    "If during the learning step, the algorithm encounters an unknown value it will raise an error. This would be an issue if we wanted to automitize our classifier but, we will directly use values working with the test and learning base. This is not ideal but the objective here it to explore the data fast, not thoroughly."
   ]
  },
  {
   "cell_type": "code",
   "execution_count": 10,
   "metadata": {
    "ExecuteTime": {
     "end_time": "2018-09-11T07:53:54.750675Z",
     "start_time": "2018-09-11T07:53:54.579931Z"
    }
   },
   "outputs": [],
   "source": [
    "import pyAgrum as gum\n",
    "import pyAgrum.lib.notebook as gnb"
   ]
  },
  {
   "cell_type": "markdown",
   "metadata": {},
   "source": [
    "To help creating de the template Bayesian Network that we will use to learn our classifier, let us firt recall all the variables wa have at our disposal."
   ]
  },
  {
   "cell_type": "code",
   "execution_count": 11,
   "metadata": {
    "ExecuteTime": {
     "end_time": "2018-09-11T07:53:54.766009Z",
     "start_time": "2018-09-11T07:53:54.753275Z"
    }
   },
   "outputs": [
    {
     "name": "stdout",
     "output_type": "stream",
     "text": [
      "Survived : [0 1]\n",
      "Pclass : [3 1 2]\n",
      "Sex : ['male' 'female']\n",
      "SibSp : [1 0 3 4 2 5 8]\n",
      "Parch : [0 1 2 5 3 4 6]\n",
      "Embarked : ['S' 'C' 'Q' nan]\n",
      "Decade : ['20th' '30th' nan '50th' '00th' '10th' '40th' '60th' '70th' '80th']\n"
     ]
    }
   ],
   "source": [
    "df = pandas.read_csv(os.path.join('res', 'titanic', 'post_train.csv'))\n",
    "for k in df.keys():\n",
    "    print(\"{} : {}\".format(k, df[k].unique()))"
   ]
  },
  {
   "cell_type": "markdown",
   "metadata": {},
   "source": [
    "From here, creating the BayesNet is straitforward: for each variable we either use the `RangeVariable` class or the `LabelizedVariable`.\n",
    "\n",
    "The `RangeVariable` class creates a discrete random variable over a range. With the `LabelizedVariable` you will need to add each label ony by one. Note however that you can pass an argument to create as much labels starting from `0`."
   ]
  },
  {
   "cell_type": "code",
   "execution_count": 12,
   "metadata": {
    "ExecuteTime": {
     "end_time": "2018-09-11T07:53:54.888317Z",
     "start_time": "2018-09-11T07:53:54.768675Z"
    }
   },
   "outputs": [
    {
     "data": {
      "text/html": [
       "<svg height=\"18pt\" viewBox=\"0.00 0.00 288.00 17.64\" width=\"288pt\" xmlns=\"http://www.w3.org/2000/svg\" xmlns:xlink=\"http://www.w3.org/1999/xlink\">\n",
       "<g class=\"graph\" id=\"graph0\" transform=\"scale(.4008 .4008) rotate(0) translate(4 40)\">\n",
       "<title>G</title>\n",
       "<!-- Survived -->\n",
       "<g class=\"node\" id=\"node1\">\n",
       "<title>Survived</title>\n",
       "<g id=\"a_node1\"><a xlink:title=\"(0) Survived\">\n",
       "<ellipse cx=\"51.9954\" cy=\"-18\" fill=\"#444444\" rx=\"51.9908\" ry=\"18\" stroke=\"#000000\"/>\n",
       "<text fill=\"#ffffff\" font-family=\"Times,serif\" font-size=\"14.00\" text-anchor=\"middle\" x=\"51.9954\" y=\"-14.3\">Survived</text>\n",
       "</a>\n",
       "</g>\n",
       "</g>\n",
       "<!-- Pclass -->\n",
       "<g class=\"node\" id=\"node2\">\n",
       "<title>Pclass</title>\n",
       "<g id=\"a_node2\"><a xlink:title=\"(1) Pclass\">\n",
       "<ellipse cx=\"161.9954\" cy=\"-18\" fill=\"#444444\" rx=\"40.0939\" ry=\"18\" stroke=\"#000000\"/>\n",
       "<text fill=\"#ffffff\" font-family=\"Times,serif\" font-size=\"14.00\" text-anchor=\"middle\" x=\"161.9954\" y=\"-14.3\">Pclass</text>\n",
       "</a>\n",
       "</g>\n",
       "</g>\n",
       "<!-- Sex -->\n",
       "<g class=\"node\" id=\"node3\">\n",
       "<title>Sex</title>\n",
       "<g id=\"a_node3\"><a xlink:title=\"(2) Sex\">\n",
       "<ellipse cx=\"247.9954\" cy=\"-18\" fill=\"#444444\" rx=\"27.8951\" ry=\"18\" stroke=\"#000000\"/>\n",
       "<text fill=\"#ffffff\" font-family=\"Times,serif\" font-size=\"14.00\" text-anchor=\"middle\" x=\"247.9954\" y=\"-14.3\">Sex</text>\n",
       "</a>\n",
       "</g>\n",
       "</g>\n",
       "<!-- SibSp -->\n",
       "<g class=\"node\" id=\"node4\">\n",
       "<title>SibSp</title>\n",
       "<g id=\"a_node4\"><a xlink:title=\"(3) SibSp\">\n",
       "<ellipse cx=\"331.9954\" cy=\"-18\" fill=\"#444444\" rx=\"38.1938\" ry=\"18\" stroke=\"#000000\"/>\n",
       "<text fill=\"#ffffff\" font-family=\"Times,serif\" font-size=\"14.00\" text-anchor=\"middle\" x=\"331.9954\" y=\"-14.3\">SibSp</text>\n",
       "</a>\n",
       "</g>\n",
       "</g>\n",
       "<!-- Parch -->\n",
       "<g class=\"node\" id=\"node5\">\n",
       "<title>Parch</title>\n",
       "<g id=\"a_node5\"><a xlink:title=\"(4) Parch\">\n",
       "<ellipse cx=\"426.9954\" cy=\"-18\" fill=\"#444444\" rx=\"38.1938\" ry=\"18\" stroke=\"#000000\"/>\n",
       "<text fill=\"#ffffff\" font-family=\"Times,serif\" font-size=\"14.00\" text-anchor=\"middle\" x=\"426.9954\" y=\"-14.3\">Parch</text>\n",
       "</a>\n",
       "</g>\n",
       "</g>\n",
       "<!-- Embarked -->\n",
       "<g class=\"node\" id=\"node6\">\n",
       "<title>Embarked</title>\n",
       "<g id=\"a_node6\"><a xlink:title=\"(5) Embarked\">\n",
       "<ellipse cx=\"541.9954\" cy=\"-18\" fill=\"#444444\" rx=\"59.2899\" ry=\"18\" stroke=\"#000000\"/>\n",
       "<text fill=\"#ffffff\" font-family=\"Times,serif\" font-size=\"14.00\" text-anchor=\"middle\" x=\"541.9954\" y=\"-14.3\">Embarked</text>\n",
       "</a>\n",
       "</g>\n",
       "</g>\n",
       "<!-- Decade -->\n",
       "<g class=\"node\" id=\"node7\">\n",
       "<title>Decade</title>\n",
       "<g id=\"a_node7\"><a xlink:title=\"(6) Decade\">\n",
       "<ellipse cx=\"664.9954\" cy=\"-18\" fill=\"#444444\" rx=\"45.4919\" ry=\"18\" stroke=\"#000000\"/>\n",
       "<text fill=\"#ffffff\" font-family=\"Times,serif\" font-size=\"14.00\" text-anchor=\"middle\" x=\"664.9954\" y=\"-14.3\">Decade</text>\n",
       "</a>\n",
       "</g>\n",
       "</g>\n",
       "</g>\n",
       "</svg>"
      ],
      "text/plain": [
       "<IPython.core.display.HTML object>"
      ]
     },
     "metadata": {},
     "output_type": "display_data"
    }
   ],
   "source": [
    "template=gum.BayesNet()\n",
    "template.add(gum.RangeVariable(\"Survived\", \"Survived\",0,1))\n",
    "template.add(gum.RangeVariable(\"Pclass\", \"Pclass\",1,3))\n",
    "template.add(gum.LabelizedVariable(\"Sex\", \"Sex\",0).addLabel(\"female\").addLabel(\"male\"))\n",
    "template.add(gum.RangeVariable(\"SibSp\", \"SibSp\",0,8))\n",
    "template.add(gum.RangeVariable(\"Parch\", \"Parch\",0,9))\n",
    "template.add(gum.LabelizedVariable(\"Embarked\", \"Embarked\",0).addLabel('').addLabel('C').addLabel('Q').addLabel('S'))\n",
    "template.add(gum.LabelizedVariable(\"Decade\", \"Calculated decade\", 0).addLabel('00th').addLabel('10th').addLabel('20th').addLabel('30th').addLabel('40th').addLabel('50th').addLabel('60th').addLabel('70th').addLabel('80th').addLabel('nan'))\n",
    "gnb.showBN(template)"
   ]
  },
  {
   "cell_type": "markdown",
   "metadata": {},
   "source": [
    "You can also let the learning algorithm create the BayesNet random variables. However please be aware that the algorithm will no be able to handle values absent from the learning database."
   ]
  },
  {
   "cell_type": "markdown",
   "metadata": {},
   "source": [
    "## Learning\n",
    "\n",
    "We can now learn our first Bayesian Network. As you will see, this is really easy."
   ]
  },
  {
   "cell_type": "code",
   "execution_count": 13,
   "metadata": {
    "ExecuteTime": {
     "end_time": "2018-09-11T07:53:55.029764Z",
     "start_time": "2018-09-11T07:53:54.890769Z"
    },
    "scrolled": false
   },
   "outputs": [
    {
     "data": {
      "text/html": [
       "<svg height=\"211pt\" viewBox=\"0.00 0.00 288.00 211.05\" width=\"288pt\" xmlns=\"http://www.w3.org/2000/svg\" xmlns:xlink=\"http://www.w3.org/1999/xlink\">\n",
       "<g class=\"graph\" id=\"graph0\" transform=\"scale(.8117 .8117) rotate(0) translate(4 256)\">\n",
       "<title>G</title>\n",
       "<!-- Survived -->\n",
       "<g class=\"node\" id=\"node1\">\n",
       "<title>Survived</title>\n",
       "<g id=\"a_node1\"><a xlink:title=\"(0) Survived\">\n",
       "<ellipse cx=\"88.2964\" cy=\"-162\" fill=\"#444444\" rx=\"51.9908\" ry=\"18\" stroke=\"#000000\"/>\n",
       "<text fill=\"#ffffff\" font-family=\"Times,serif\" font-size=\"14.00\" text-anchor=\"middle\" x=\"88.2964\" y=\"-158.3\">Survived</text>\n",
       "</a>\n",
       "</g>\n",
       "</g>\n",
       "<!-- Pclass -->\n",
       "<g class=\"node\" id=\"node2\">\n",
       "<title>Pclass</title>\n",
       "<g id=\"a_node2\"><a xlink:title=\"(1) Pclass\">\n",
       "<ellipse cx=\"40.2964\" cy=\"-18\" fill=\"#444444\" rx=\"40.0939\" ry=\"18\" stroke=\"#000000\"/>\n",
       "<text fill=\"#ffffff\" font-family=\"Times,serif\" font-size=\"14.00\" text-anchor=\"middle\" x=\"40.2964\" y=\"-14.3\">Pclass</text>\n",
       "</a>\n",
       "</g>\n",
       "</g>\n",
       "<!-- Survived&#45;&gt;Pclass -->\n",
       "<g class=\"edge\" id=\"edge1\">\n",
       "<title>Survived-&gt;Pclass</title>\n",
       "<g id=\"a_edge1\"><a xlink:title=\"(0, 1) : \">\n",
       "<path d=\"M57.1477,-147.338C41.8483,-138.3272 24.8913,-125.1898 16.2964,-108 6.1503,-87.7077 14.3332,-62.6264 23.8026,-44.0998\" fill=\"none\" stroke=\"#000000\"/>\n",
       "<polygon fill=\"#000000\" points=\"26.8761,-45.7742 28.6301,-35.3256 20.7431,-42.3999 26.8761,-45.7742\" stroke=\"#000000\"/>\n",
       "</a>\n",
       "</g>\n",
       "</g>\n",
       "<!-- SibSp -->\n",
       "<g class=\"node\" id=\"node4\">\n",
       "<title>SibSp</title>\n",
       "<g id=\"a_node4\"><a xlink:title=\"(3) SibSp\">\n",
       "<ellipse cx=\"199.2964\" cy=\"-90\" fill=\"#444444\" rx=\"38.1938\" ry=\"18\" stroke=\"#000000\"/>\n",
       "<text fill=\"#ffffff\" font-family=\"Times,serif\" font-size=\"14.00\" text-anchor=\"middle\" x=\"199.2964\" y=\"-86.3\">SibSp</text>\n",
       "</a>\n",
       "</g>\n",
       "</g>\n",
       "<!-- Survived&#45;&gt;SibSp -->\n",
       "<g class=\"edge\" id=\"edge7\">\n",
       "<title>Survived-&gt;SibSp</title>\n",
       "<g id=\"a_edge7\"><a xlink:title=\"(0, 3) : \">\n",
       "<path d=\"M112.9309,-146.0209C129.139,-135.5075 150.4965,-121.654 167.9175,-110.3539\" fill=\"none\" stroke=\"#000000\"/>\n",
       "<polygon fill=\"#000000\" points=\"170.1356,-113.087 176.6206,-104.7087 166.3262,-107.2143 170.1356,-113.087\" stroke=\"#000000\"/>\n",
       "</a>\n",
       "</g>\n",
       "</g>\n",
       "<!-- Embarked -->\n",
       "<g class=\"node\" id=\"node6\">\n",
       "<title>Embarked</title>\n",
       "<g id=\"a_node6\"><a xlink:title=\"(5) Embarked\">\n",
       "<ellipse cx=\"84.2964\" cy=\"-90\" fill=\"#444444\" rx=\"59.2899\" ry=\"18\" stroke=\"#000000\"/>\n",
       "<text fill=\"#ffffff\" font-family=\"Times,serif\" font-size=\"14.00\" text-anchor=\"middle\" x=\"84.2964\" y=\"-86.3\">Embarked</text>\n",
       "</a>\n",
       "</g>\n",
       "</g>\n",
       "<!-- Survived&#45;&gt;Embarked -->\n",
       "<g class=\"edge\" id=\"edge4\">\n",
       "<title>Survived-&gt;Embarked</title>\n",
       "<g id=\"a_edge4\"><a xlink:title=\"(0, 5) : \">\n",
       "<path d=\"M87.2871,-143.8314C86.8593,-136.131 86.3506,-126.9743 85.8751,-118.4166\" fill=\"none\" stroke=\"#000000\"/>\n",
       "<polygon fill=\"#000000\" points=\"89.3688,-118.2037 85.3194,-108.4133 82.3796,-118.592 89.3688,-118.2037\" stroke=\"#000000\"/>\n",
       "</a>\n",
       "</g>\n",
       "</g>\n",
       "<!-- Sex -->\n",
       "<g class=\"node\" id=\"node3\">\n",
       "<title>Sex</title>\n",
       "<g id=\"a_node3\"><a xlink:title=\"(2) Sex\">\n",
       "<ellipse cx=\"142.2964\" cy=\"-234\" fill=\"#444444\" rx=\"27.8951\" ry=\"18\" stroke=\"#000000\"/>\n",
       "<text fill=\"#ffffff\" font-family=\"Times,serif\" font-size=\"14.00\" text-anchor=\"middle\" x=\"142.2964\" y=\"-230.3\">Sex</text>\n",
       "</a>\n",
       "</g>\n",
       "</g>\n",
       "<!-- Sex&#45;&gt;Survived -->\n",
       "<g class=\"edge\" id=\"edge3\">\n",
       "<title>Sex-&gt;Survived</title>\n",
       "<g id=\"a_edge3\"><a xlink:title=\"(2, 0) : \">\n",
       "<path d=\"M130.043,-217.6621C123.3819,-208.7806 114.9933,-197.5959 107.4862,-187.5864\" fill=\"none\" stroke=\"#000000\"/>\n",
       "<polygon fill=\"#000000\" points=\"110.2449,-185.4312 101.4448,-179.5312 104.6448,-189.6312 110.2449,-185.4312\" stroke=\"#000000\"/>\n",
       "</a>\n",
       "</g>\n",
       "</g>\n",
       "<!-- Parch -->\n",
       "<g class=\"node\" id=\"node5\">\n",
       "<title>Parch</title>\n",
       "<g id=\"a_node5\"><a xlink:title=\"(4) Parch\">\n",
       "<ellipse cx=\"199.2964\" cy=\"-162\" fill=\"#444444\" rx=\"38.1938\" ry=\"18\" stroke=\"#000000\"/>\n",
       "<text fill=\"#ffffff\" font-family=\"Times,serif\" font-size=\"14.00\" text-anchor=\"middle\" x=\"199.2964\" y=\"-158.3\">Parch</text>\n",
       "</a>\n",
       "</g>\n",
       "</g>\n",
       "<!-- Sex&#45;&gt;Parch -->\n",
       "<g class=\"edge\" id=\"edge8\">\n",
       "<title>Sex-&gt;Parch</title>\n",
       "<g id=\"a_edge8\"><a xlink:title=\"(2, 4) : \">\n",
       "<path d=\"M155.2306,-217.6621C162.3644,-208.6509 171.3753,-197.2688 179.387,-187.1488\" fill=\"none\" stroke=\"#000000\"/>\n",
       "<polygon fill=\"#000000\" points=\"182.3558,-189.0375 185.8187,-179.0245 176.8675,-184.6925 182.3558,-189.0375\" stroke=\"#000000\"/>\n",
       "</a>\n",
       "</g>\n",
       "</g>\n",
       "<!-- Parch&#45;&gt;SibSp -->\n",
       "<g class=\"edge\" id=\"edge5\">\n",
       "<title>Parch-&gt;SibSp</title>\n",
       "<g id=\"a_edge5\"><a xlink:title=\"(4, 3) : \">\n",
       "<path d=\"M199.2964,-143.8314C199.2964,-136.131 199.2964,-126.9743 199.2964,-118.4166\" fill=\"none\" stroke=\"#000000\"/>\n",
       "<polygon fill=\"#000000\" points=\"202.7965,-118.4132 199.2964,-108.4133 195.7965,-118.4133 202.7965,-118.4132\" stroke=\"#000000\"/>\n",
       "</a>\n",
       "</g>\n",
       "</g>\n",
       "<!-- Decade -->\n",
       "<g class=\"node\" id=\"node7\">\n",
       "<title>Decade</title>\n",
       "<g id=\"a_node7\"><a xlink:title=\"(6) Decade\">\n",
       "<ellipse cx=\"301.2964\" cy=\"-90\" fill=\"#444444\" rx=\"45.4919\" ry=\"18\" stroke=\"#000000\"/>\n",
       "<text fill=\"#ffffff\" font-family=\"Times,serif\" font-size=\"14.00\" text-anchor=\"middle\" x=\"301.2964\" y=\"-86.3\">Decade</text>\n",
       "</a>\n",
       "</g>\n",
       "</g>\n",
       "<!-- Parch&#45;&gt;Decade -->\n",
       "<g class=\"edge\" id=\"edge2\">\n",
       "<title>Parch-&gt;Decade</title>\n",
       "<g id=\"a_edge2\"><a xlink:title=\"(4, 6) : \">\n",
       "<path d=\"M220.928,-146.7307C235.3357,-136.5605 254.4871,-123.0419 270.4806,-111.7523\" fill=\"none\" stroke=\"#000000\"/>\n",
       "<polygon fill=\"#000000\" points=\"272.8396,-114.3713 278.9909,-105.7451 268.8028,-108.6526 272.8396,-114.3713\" stroke=\"#000000\"/>\n",
       "</a>\n",
       "</g>\n",
       "</g>\n",
       "<!-- Embarked&#45;&gt;Pclass -->\n",
       "<g class=\"edge\" id=\"edge6\">\n",
       "<title>Embarked-&gt;Pclass</title>\n",
       "<g id=\"a_edge6\"><a xlink:title=\"(5, 1) : \">\n",
       "<path d=\"M73.42,-72.2022C68.2516,-63.7448 61.9716,-53.4685 56.2751,-44.147\" fill=\"none\" stroke=\"#000000\"/>\n",
       "<polygon fill=\"#000000\" points=\"59.2488,-42.3008 51.0477,-35.593 53.2758,-45.951 59.2488,-42.3008\" stroke=\"#000000\"/>\n",
       "</a>\n",
       "</g>\n",
       "</g>\n",
       "</g>\n",
       "</svg>"
      ],
      "text/plain": [
       "(gum::BayesNet<double>@0x562f09e2e210) BN{nodes: 7, arcs: 8, domainSize: 43200, parameters: 338, compression ratio: 99% }"
      ]
     },
     "execution_count": 13,
     "metadata": {},
     "output_type": "execute_result"
    }
   ],
   "source": [
    "learner = gum.BNLearner(os.path.join('res', 'titanic', 'post_train.csv'), template)\n",
    "bn = learner.learnBN()\n",
    "bn"
   ]
  },
  {
   "cell_type": "markdown",
   "metadata": {},
   "source": [
    "In a notebook, a Bayesian Network will automatically be shown graphically, you can also use the helper function `gnb.showBN(bn)`."
   ]
  },
  {
   "cell_type": "markdown",
   "metadata": {},
   "source": [
    "## Exploring the data\n",
    "Now that we have a BayesNet, we can start looking how the variables corelate with each other. pyAgum offer the perfect tool for that: the information graph."
   ]
  },
  {
   "cell_type": "code",
   "execution_count": 14,
   "metadata": {
    "ExecuteTime": {
     "end_time": "2018-09-11T07:53:55.324985Z",
     "start_time": "2018-09-11T07:53:55.032715Z"
    }
   },
   "outputs": [
    {
     "data": {
      "text/html": [
       "<div align='center'><svg height=\"260pt\" viewBox=\"0.00 0.00 354.79 260.00\" width=\"355pt\" xmlns=\"http://www.w3.org/2000/svg\" xmlns:xlink=\"http://www.w3.org/1999/xlink\">\n",
       "<g class=\"graph\" id=\"graph0\" transform=\"scale(1 1) rotate(0) translate(4 256)\">\n",
       "<title>G</title>\n",
       "<!-- Survived -->\n",
       "<g class=\"node\" id=\"node1\">\n",
       "<title>Survived</title>\n",
       "<g id=\"a_node1\"><a xlink:title=\"(0) Survived : 0.96080\">\n",
       "<ellipse cx=\"88.2964\" cy=\"-162\" fill=\"#4e0305\" rx=\"51.9908\" ry=\"18\" stroke=\"#000000\"/>\n",
       "<text fill=\"#ffffff\" font-family=\"Times,serif\" font-size=\"14.00\" text-anchor=\"middle\" x=\"88.2964\" y=\"-158.3\">Survived</text>\n",
       "</a>\n",
       "</g>\n",
       "</g>\n",
       "<!-- Pclass -->\n",
       "<g class=\"node\" id=\"node2\">\n",
       "<title>Pclass</title>\n",
       "<g id=\"a_node2\"><a xlink:title=\"(1) Pclass : 1.43964\">\n",
       "<ellipse cx=\"40.2964\" cy=\"-18\" fill=\"#622a47\" rx=\"40.0939\" ry=\"18\" stroke=\"#000000\"/>\n",
       "<text fill=\"#ffffff\" font-family=\"Times,serif\" font-size=\"14.00\" text-anchor=\"middle\" x=\"40.2964\" y=\"-14.3\">Pclass</text>\n",
       "</a>\n",
       "</g>\n",
       "</g>\n",
       "<!-- Survived&#45;&gt;Pclass -->\n",
       "<g class=\"edge\" id=\"edge1\">\n",
       "<title>Survived-&gt;Pclass</title>\n",
       "<g id=\"a_edge1\"><a xlink:title=\"(0, 1) : 0.0836792460119134\">\n",
       "<path d=\"M57.1477,-147.338C41.8483,-138.3272 24.8913,-125.1898 16.2964,-108 6.1503,-87.7077 14.3332,-62.6264 23.8026,-44.0998\" fill=\"none\" stroke=\"#000000\" stroke-width=\"1.6532\"/>\n",
       "<polygon fill=\"#000000\" points=\"26.8761,-45.7742 28.6301,-35.3256 20.7431,-42.3999 26.8761,-45.7742\" stroke=\"#000000\" stroke-width=\"1.6532\"/>\n",
       "</a>\n",
       "</g>\n",
       "</g>\n",
       "<!-- SibSp -->\n",
       "<g class=\"node\" id=\"node4\">\n",
       "<title>SibSp</title>\n",
       "<g id=\"a_node4\"><a xlink:title=\"(3) SibSp : 1.36568\">\n",
       "<ellipse cx=\"199.2964\" cy=\"-90\" fill=\"#5f243d\" rx=\"38.1938\" ry=\"18\" stroke=\"#000000\"/>\n",
       "<text fill=\"#ffffff\" font-family=\"Times,serif\" font-size=\"14.00\" text-anchor=\"middle\" x=\"199.2964\" y=\"-86.3\">SibSp</text>\n",
       "</a>\n",
       "</g>\n",
       "</g>\n",
       "<!-- Survived&#45;&gt;SibSp -->\n",
       "<g class=\"edge\" id=\"edge7\">\n",
       "<title>Survived-&gt;SibSp</title>\n",
       "<g id=\"a_edge7\"><a xlink:title=\"(0, 3) : 0.029468123609304106\">\n",
       "<path d=\"M112.9309,-146.0209C129.139,-135.5075 150.4965,-121.654 167.9175,-110.3539\" fill=\"none\" stroke=\"#000000\" stroke-width=\".2534\"/>\n",
       "<polygon fill=\"#000000\" points=\"170.1356,-113.087 176.6206,-104.7087 166.3262,-107.2143 170.1356,-113.087\" stroke=\"#000000\" stroke-width=\".2534\"/>\n",
       "</a>\n",
       "</g>\n",
       "</g>\n",
       "<!-- Embarked -->\n",
       "<g class=\"node\" id=\"node6\">\n",
       "<title>Embarked</title>\n",
       "<g id=\"a_node6\"><a xlink:title=\"(5) Embarked : 1.12038\">\n",
       "<ellipse cx=\"84.2964\" cy=\"-90\" fill=\"#54101b\" rx=\"59.2899\" ry=\"18\" stroke=\"#000000\"/>\n",
       "<text fill=\"#ffffff\" font-family=\"Times,serif\" font-size=\"14.00\" text-anchor=\"middle\" x=\"84.2964\" y=\"-86.3\">Embarked</text>\n",
       "</a>\n",
       "</g>\n",
       "</g>\n",
       "<!-- Survived&#45;&gt;Embarked -->\n",
       "<g class=\"edge\" id=\"edge4\">\n",
       "<title>Survived-&gt;Embarked</title>\n",
       "<g id=\"a_edge4\"><a xlink:title=\"(0, 5) : 0.023529301398958688\">\n",
       "<path d=\"M87.2871,-143.8314C86.8593,-136.131 86.3506,-126.9743 85.8751,-118.4166\" fill=\"none\" stroke=\"#000000\" stroke-width=\".1\"/>\n",
       "<polygon fill=\"#000000\" points=\"89.3688,-118.2037 85.3194,-108.4133 82.3796,-118.592 89.3688,-118.2037\" stroke=\"#000000\" stroke-width=\".1\"/>\n",
       "</a>\n",
       "</g>\n",
       "</g>\n",
       "<!-- Sex -->\n",
       "<g class=\"node\" id=\"node3\">\n",
       "<title>Sex</title>\n",
       "<g id=\"a_node3\"><a xlink:title=\"(2) Sex : 0.93635\">\n",
       "<ellipse cx=\"142.2964\" cy=\"-234\" fill=\"#4d0102\" rx=\"27.8951\" ry=\"18\" stroke=\"#000000\"/>\n",
       "<text fill=\"#ffffff\" font-family=\"Times,serif\" font-size=\"14.00\" text-anchor=\"middle\" x=\"142.2964\" y=\"-230.3\">Sex</text>\n",
       "</a>\n",
       "</g>\n",
       "</g>\n",
       "<!-- Sex&#45;&gt;Survived -->\n",
       "<g class=\"edge\" id=\"edge3\">\n",
       "<title>Sex-&gt;Survived</title>\n",
       "<g id=\"a_edge3\"><a xlink:title=\"(2, 0) : 0.2171554123987946\">\n",
       "<path d=\"M130.043,-217.6621C123.3819,-208.7806 114.9933,-197.5959 107.4862,-187.5864\" fill=\"none\" stroke=\"#000000\" stroke-width=\"5.1\"/>\n",
       "<polygon fill=\"#000000\" points=\"111.0149,-184.8537 101.4448,-179.5312 103.8748,-190.2087 111.0149,-184.8537\" stroke=\"#000000\" stroke-width=\"5.1\"/>\n",
       "</a>\n",
       "</g>\n",
       "</g>\n",
       "<!-- Parch -->\n",
       "<g class=\"node\" id=\"node5\">\n",
       "<title>Parch</title>\n",
       "<g id=\"a_node5\"><a xlink:title=\"(4) Parch : 1.13637\">\n",
       "<ellipse cx=\"199.2964\" cy=\"-162\" fill=\"#55111d\" rx=\"38.1938\" ry=\"18\" stroke=\"#000000\"/>\n",
       "<text fill=\"#ffffff\" font-family=\"Times,serif\" font-size=\"14.00\" text-anchor=\"middle\" x=\"199.2964\" y=\"-158.3\">Parch</text>\n",
       "</a>\n",
       "</g>\n",
       "</g>\n",
       "<!-- Sex&#45;&gt;Parch -->\n",
       "<g class=\"edge\" id=\"edge8\">\n",
       "<title>Sex-&gt;Parch</title>\n",
       "<g id=\"a_edge8\"><a xlink:title=\"(2, 4) : 0.04722893829511984\">\n",
       "<path d=\"M155.2306,-217.6621C162.3644,-208.6509 171.3753,-197.2688 179.387,-187.1488\" fill=\"none\" stroke=\"#000000\" stroke-width=\".712\"/>\n",
       "<polygon fill=\"#000000\" points=\"182.3558,-189.0375 185.8187,-179.0245 176.8675,-184.6925 182.3558,-189.0375\" stroke=\"#000000\" stroke-width=\".712\"/>\n",
       "</a>\n",
       "</g>\n",
       "</g>\n",
       "<!-- Parch&#45;&gt;SibSp -->\n",
       "<g class=\"edge\" id=\"edge5\">\n",
       "<title>Parch-&gt;SibSp</title>\n",
       "<g id=\"a_edge5\"><a xlink:title=\"(4, 3) : 0.2119537183575891\">\n",
       "<path d=\"M199.2964,-143.8314C199.2964,-136.131 199.2964,-126.9743 199.2964,-118.4166\" fill=\"none\" stroke=\"#000000\" stroke-width=\"4.9657\"/>\n",
       "<polygon fill=\"#000000\" points=\"203.6415,-118.4132 199.2964,-108.4133 194.9516,-118.4133 203.6415,-118.4132\" stroke=\"#000000\" stroke-width=\"4.9657\"/>\n",
       "</a>\n",
       "</g>\n",
       "</g>\n",
       "<!-- Decade -->\n",
       "<g class=\"node\" id=\"node7\">\n",
       "<title>Decade</title>\n",
       "<g id=\"a_node7\"><a xlink:title=\"(6) Decade : 2.77848\">\n",
       "<ellipse cx=\"301.2964\" cy=\"-90\" fill=\"#9898fd\" rx=\"45.4919\" ry=\"18\" stroke=\"#000000\"/>\n",
       "<text fill=\"#000000\" font-family=\"Times,serif\" font-size=\"14.00\" text-anchor=\"middle\" x=\"301.2964\" y=\"-86.3\">Decade</text>\n",
       "</a>\n",
       "</g>\n",
       "</g>\n",
       "<!-- Parch&#45;&gt;Decade -->\n",
       "<g class=\"edge\" id=\"edge2\">\n",
       "<title>Parch-&gt;Decade</title>\n",
       "<g id=\"a_edge2\"><a xlink:title=\"(4, 6) : 0.20931313785886585\">\n",
       "<path d=\"M220.928,-146.7307C235.3357,-136.5605 254.4871,-123.0419 270.4806,-111.7523\" fill=\"none\" stroke=\"#000000\" stroke-width=\"4.8975\"/>\n",
       "<polygon fill=\"#000000\" points=\"273.2925,-115.0129 278.9909,-105.7451 268.3499,-108.011 273.2925,-115.0129\" stroke=\"#000000\" stroke-width=\"4.8975\"/>\n",
       "</a>\n",
       "</g>\n",
       "</g>\n",
       "<!-- Embarked&#45;&gt;Pclass -->\n",
       "<g class=\"edge\" id=\"edge6\">\n",
       "<title>Embarked-&gt;Pclass</title>\n",
       "<g id=\"a_edge6\"><a xlink:title=\"(5, 1) : 0.10523655617315915\">\n",
       "<path d=\"M73.42,-72.2022C68.2516,-63.7448 61.9716,-53.4685 56.2751,-44.147\" fill=\"none\" stroke=\"#000000\" stroke-width=\"2.2099\"/>\n",
       "<polygon fill=\"#000000\" points=\"59.2488,-42.3008 51.0477,-35.593 53.2758,-45.951 59.2488,-42.3008\" stroke=\"#000000\" stroke-width=\"2.2099\"/>\n",
       "</a>\n",
       "</g>\n",
       "</g>\n",
       "</g>\n",
       "</svg></div><div align='center'><font color='#4d0102'>0.9363497953477022</font><img style='vertical-align:middle' src='data:image/png;base64,iVBORw0KGgoAAAANSUhEUgAAAhsAAABRCAYAAAB7e2SeAAAABHNCSVQICAgIfAhkiAAAAAlwSFlz\n",
       "AAALEgAACxIB0t1+/AAAADl0RVh0U29mdHdhcmUAbWF0cGxvdGxpYiB2ZXJzaW9uIDIuMi4zLCBo\n",
       "dHRwOi8vbWF0cGxvdGxpYi5vcmcvIxREBQAACKRJREFUeJzt3X+IZWUdx/H3J1dJy2p1s8wf/QAh\n",
       "CsyWEDWzLcJMCPsFGWYmURYUWRRIf5jmPxFRUGASJbJhCqWuVv4EhSRTUlt31S01WUyTZDXUtaVl\n",
       "l29/3DPbbfbembOz98ydnfN+wTD3Ps9zz33O9z7zne+cc+eeVBWSJEldedm0JyBJkpY3iw1JktQp\n",
       "iw1JktQpiw1JktQpiw1JktQpiw1JktQpiw1JktQpiw1JktQpiw1JktSpFXsy+LCkts87Kq2aM27c\n",
       "XA+e9yFzD9jVm7bP3W5fWkysGTWZ/fjfsAXEcPa9Be7L0n1N9mw77R62ODHZfS4LjMnYh01hnS70\n",
       "ddnb555QDHd/9Hzbm+xrMRg6a622fe6xzQuLyfjXZNL5au79yHzj2mxzQvsy7ddk4TFp+zM+/6An\n",
       "nrjvlqo6bb6t7FGxsR04ZdeCmZnsTND///7Y9l3JZHb73m9zV39nc1zq29sX5rjUt7f32+zbOtx9\n",
       "f5feHPe97e0Lc1xa2+vjOpx0rllIDM87L6towdMokiSpUxYbkiSpUxYbkiSpUxYbkiSpUxYbkiSp\n",
       "UxYbkiSpUxYbkiSpUxYbkiSpUxYbkiSpUxYbkiSpUxYbkiSpUxYbkiSpUxYbkiSpUxYbkiSpUxYb\n",
       "kiSpUxYbkiSpUxYbkiSpUxYbkiSpUxYbkiSpUxYbkiSpUxYbkiSpUxYbkiSpUxYbkiSpUxYbkiSp\n",
       "UxYbkiSpUxYbkiSpUxYbkiSpUxYbkiSpUxYbkiSpUxYbkiSpUxYbkiSpU6mq9oOTm4FVE3jeVcCW\n",
       "CWxnuTEuoxmX8YzNaMZlNOMynrEZbb64bKmq0+bbyB4VG5OS5N6qeteiP/ESZ1xGMy7jGZvRjMto\n",
       "xmU8YzPapOLiaRRJktQpiw1JktSpaRUbP53S8y51xmU04zKesRnNuIxmXMYzNqNNJC5Tec+GJEnq\n",
       "D0+jSJKkTk202EhyeZJnkjw4pj9JfpTksSQbkqwe6jsnyaPN1zmTnNe0tYjLWU08Nia5K8k7hvo2\n",
       "N+3rk9y7eLPuXou4rEnyfLPv65NcONR3WpK/NmvpgsWb9eJoEZtvDsXlwSQ7kxzS9C3nNXNUkjuS\n",
       "PJzkoSRfHTGmd3mmZVx6l2daxqWXeaZlbCaXZ6pqYl/AKcBq4MEx/acDNwEBTgDuadoPAR5vvq9s\n",
       "bq+c5Nym+dUiLifN7C/woZm4NPc3A6umvQ9Tissa4Lcj2vcD/ga8BTgAeAB427T3ZzFjM2vsh4Hb\n",
       "e7JmDgdWN7cPBh6Z/dr3Mc+0jEvv8kzLuPQyz7SJzazxe5VnJnpko6p+Dzw3x5AzgLU1cDfwmiSH\n",
       "Ax8Ebquq56rqX8BtwLwfErKvmC8uVXVXs98AdwNHLsrEpqzFehnneOCxqnq8qrYDVzNYW8vGHsbm\n",
       "U8BVHU5nyaiqp6vq/ub2i8Am4IhZw3qXZ9rEpY95puV6GWdZ55kFxGav8sxiv2fjCODvQ/efbNrG\n",
       "tffR5xj8VTajgFuT3JfkC1Oa0zSdmOSBJDcleXvT5nppJDmIwS/Ma4aae7FmkrwJeCdwz6yuXueZ\n",
       "OeIyrHd5Zp649DrPzLdmJpFnVuz9NDUpSd7HIAmcPNR8clU9leQw4LYkf2n+6u2D+4E3VtXWJKcD\n",
       "64BjpjynpebDwB+qavgoyLJfM0leySDxnV9VL0x7PktFm7j0Mc/ME5de55mWP0t7nWcW+8jGU8BR\n",
       "Q/ePbNrGtfdGkmOBnwFnVNWzM+1V9VTz/RngOgaH9nqhql6oqq3N7RuB/ZOswvUy7ExmHdpc7msm\n",
       "yf4MkuOVVXXtiCG9zDMt4tLLPDNfXPqcZ9qsmcZe55nFLjZuAD7TvFv8BOD5qnoauAU4NcnKJCuB\n",
       "U5u2XkhyNHAtcHZVPTLU/ookB8/cZhCXkf+dsBwleX2SNLePZ7BenwX+BByT5M1JDmDwg3DD9GY6\n",
       "HUleDbwXuH6obVmvmWY9/BzYVFU/GDOsd3mmTVz6mGdaxqWXeablz9LE8sxET6MkuYrBO3tXJXkS\n",
       "+DawP0BVXQbcyOCd4o8B/wbObfqeS3IJgxcX4DuzDtfs01rE5ULgUODSZs3vqMGFb14HXNe0rQB+\n",
       "WVU3L/oOdKRFXD4BfCnJDmAbcGYN3ga9I8mXGfyi2A+4vKoemsIudKZFbAA+CtxaVS8NPXRZrxng\n",
       "3cDZwMYk65u2bwFHQ6/zTJu49DHPtIlLX/NMm9jAhPKMnyAqSZI65SeISpKkTllsSJKkTllsSJKk\n",
       "TllsSJKkTllsSJKkTvkJolKPJNkJbBxqurqqvjvH+DXA9qq6q+u5SVq+LDakftlWVcftwfg1wFZg\n",
       "t2IjyYqq2jGpiUlavjyNIokkm5NcnOT+JBuTvLW5ONMXga8lWZ/kPUmuSHJZknuA7yU5JMm6JBuS\n",
       "3N18HDZJLkryiyR/TPJoks837WuTfGToea9MsmyupClpNIsNqV8ObAqHma9PDvVtqarVwE+Ab1TV\n",
       "ZuAy4IdVdVxV3dmMOxI4qaq+DlwM/LmqjmXw6YNrh7Z3LPB+4ETgwiRvYPDxyJ+FXR+DfBLwu472\n",
       "VdIS4WkUqV/mOo0ycyGm+4CPzbGNX1XVzub2ycDHAarq9iSHJnlV03d9VW0DtiW5Azi+qtYluTTJ\n",
       "a5vHXeOpGGn5s9iQNOM/zfedzJ0bXpqjb9jsayHM3F8LfJrBha3ObT07SfssT6NImsuLwMFz9N8J\n",
       "nAW7/nNlS1W90PSdkeTlSQ5l8EbTmQugXQGcD1BVD09+ypKWGo9sSP1y4NAVHgFurqoL5hj/G+DX\n",
       "zZs4vzKi/yLg8iQbGFxh9Zyhvg3AHcAq4JKq+gdAVf0zySZg3cJ3Q9K+xKu+Spq4JBcBW6vq+yP6\n",
       "DmLwWR+rq+r5xZ6bpMXnaRRJiybJB4BNwI8tNKT+8MiGJEnqlEc2JElSpyw2JElSpyw2JElSpyw2\n",
       "JElSpyw2JElSpyw2JElSp/4LcjTTYSJpCDYAAAAASUVORK5CYII=\n",
       "'><font color='#9898fd'>2.778481242863614</font></div>"
      ],
      "text/plain": [
       "<IPython.core.display.HTML object>"
      ]
     },
     "metadata": {},
     "output_type": "display_data"
    }
   ],
   "source": [
    "gnb.showInformation(bn,{},size=\"20\")"
   ]
  },
  {
   "cell_type": "markdown",
   "metadata": {},
   "source": [
    "To read this graph, you must understand what the entropy of a variable means: the hightest the value the more uncertain the variable marginal probability distrubition is (maximum entropy beging the equiprobable law). The lowest the value is, the more /certain/ the law is.\n",
    "\n",
    "A consequence of how entropy is calculated, is that entropy tends to get bigger if the random varaible has many modalities.\n",
    "\n",
    "What the information graph tells us is that the `decade` variable has a hight entropy. Thus, we can conclude that the passengers `decade` is distributed between all of its modalities.\n",
    "\n",
    "What it also tells us, it that high modality variables with low entropy, such as `Parch` or `SibSp`, are not evenly distributed.\n",
    "\n",
    "Let us look at he variables marginal probability by using the `showInference()` function."
   ]
  },
  {
   "cell_type": "code",
   "execution_count": 15,
   "metadata": {
    "ExecuteTime": {
     "end_time": "2018-09-11T07:53:56.170611Z",
     "start_time": "2018-09-11T07:53:55.327626Z"
    },
    "scrolled": false
   },
   "outputs": [
    {
     "data": {
      "image/png": "[encoded data removed]"
     },
     "metadata": {},
     "output_type": "display_data"
    }
   ],
   "source": [
    "gnb.showInference(bn)"
   ]
  },
  {
   "cell_type": "markdown",
   "metadata": {},
   "source": [
    "The `showInference()` is really usefull as it shows the marginal probability distribution for each random variable of a BayesNet.\n",
    "\n",
    "We can now confirm what the entropy learned us: `Parch` and `SibSp` are unevenly distributed and `decade` is more evenly distributed.\n",
    "\n",
    "Lets focus on the Kaggle challenge now, and look at the `Survived` variable. We show a single posterior using the `showPosterior()` function."
   ]
  },
  {
   "cell_type": "code",
   "execution_count": 16,
   "metadata": {
    "ExecuteTime": {
     "end_time": "2018-09-11T07:53:56.260477Z",
     "start_time": "2018-09-11T07:53:56.174553Z"
    }
   },
   "outputs": [
    {
     "data": {
      "image/png": "[encoded data removed]",
      "text/plain": [
       "<Figure size 144x36 with 1 Axes>"
      ]
     },
     "metadata": {
      "needs_background": "light"
     },
     "output_type": "display_data"
    }
   ],
   "source": [
    "gnb.showPosterior(bn,evs={},target='Survived')"
   ]
  },
  {
   "cell_type": "markdown",
   "metadata": {},
   "source": [
    "So almost 38% of the passenger in our learning database survived.\n",
    "\n",
    "So how can we use this BayesNet as a classifier ? Given a set of evidence, we can infer an update posterio distribution of the target variable `Survived`.\n",
    "\n",
    "Lets look at the odds of surviving as a man in his thirties."
   ]
  },
  {
   "cell_type": "code",
   "execution_count": 17,
   "metadata": {
    "ExecuteTime": {
     "end_time": "2018-09-11T07:53:56.345096Z",
     "start_time": "2018-09-11T07:53:56.263917Z"
    }
   },
   "outputs": [
    {
     "data": {
      "image/png": "[encoded data removed]",
      "text/plain": [
       "<Figure size 144x36 with 1 Axes>"
      ]
     },
     "metadata": {
      "needs_background": "light"
     },
     "output_type": "display_data"
    }
   ],
   "source": [
    "gnb.showPosterior(bn,evs={\"Sex\": \"male\", \"Decade\": 3},target='Survived')"
   ]
  },
  {
   "cell_type": "markdown",
   "metadata": {},
   "source": [
    "And now the odds of an old lady to survive."
   ]
  },
  {
   "cell_type": "code",
   "execution_count": 18,
   "metadata": {
    "ExecuteTime": {
     "end_time": "2018-09-11T07:53:56.406714Z",
     "start_time": "2018-09-11T07:53:56.347861Z"
    }
   },
   "outputs": [
    {
     "data": {
      "image/png": "[encoded data removed]",
      "text/plain": [
       "<Figure size 144x36 with 1 Axes>"
      ]
     },
     "metadata": {
      "needs_background": "light"
     },
     "output_type": "display_data"
    }
   ],
   "source": [
    "gnb.showPosterior(bn,evs={\"Sex\": \"female\", \"Decade\": 8},target='Survived')"
   ]
  },
  {
   "cell_type": "markdown",
   "metadata": {},
   "source": [
    "Well, children and ladies first, that's right ?\n",
    "\n",
    "One last information we will need is which variables are required to predict the `Survived` variable. To do, we will use the markov blanket of `Survived`.\n",
    "\n"
   ]
  },
  {
   "cell_type": "code",
   "execution_count": 19,
   "metadata": {
    "ExecuteTime": {
     "end_time": "2018-09-11T07:53:56.748785Z",
     "start_time": "2018-09-11T07:53:56.408892Z"
    }
   },
   "outputs": [
    {
     "data": {
      "text/html": [
       "<table style=\"border-style: hidden; border-collapse: collapse;\" width=\"100%\"><tr><td style=\"border-top:hidden;border-bottom:hidden;\"><div align=\"center\"><svg height=\"211pt\" viewBox=\"0.00 0.00 288.00 211.05\" width=\"288pt\" xmlns=\"http://www.w3.org/2000/svg\" xmlns:xlink=\"http://www.w3.org/1999/xlink\">\n",
       "<g class=\"graph\" id=\"graph0\" transform=\"scale(.8117 .8117) rotate(0) translate(4 256)\">\n",
       "<title>G</title>\n",
       "<!-- Survived -->\n",
       "<g class=\"node\" id=\"node1\">\n",
       "<title>Survived</title>\n",
       "<g id=\"a_node1\"><a xlink:title=\"(0) Survived\">\n",
       "<ellipse cx=\"88.2964\" cy=\"-162\" fill=\"#444444\" rx=\"51.9908\" ry=\"18\" stroke=\"#000000\"/>\n",
       "<text fill=\"#ffffff\" font-family=\"Times,serif\" font-size=\"14.00\" text-anchor=\"middle\" x=\"88.2964\" y=\"-158.3\">Survived</text>\n",
       "</a>\n",
       "</g>\n",
       "</g>\n",
       "<!-- Pclass -->\n",
       "<g class=\"node\" id=\"node2\">\n",
       "<title>Pclass</title>\n",
       "<g id=\"a_node2\"><a xlink:title=\"(1) Pclass\">\n",
       "<ellipse cx=\"40.2964\" cy=\"-18\" fill=\"#444444\" rx=\"40.0939\" ry=\"18\" stroke=\"#000000\"/>\n",
       "<text fill=\"#ffffff\" font-family=\"Times,serif\" font-size=\"14.00\" text-anchor=\"middle\" x=\"40.2964\" y=\"-14.3\">Pclass</text>\n",
       "</a>\n",
       "</g>\n",
       "</g>\n",
       "<!-- Survived&#45;&gt;Pclass -->\n",
       "<g class=\"edge\" id=\"edge1\">\n",
       "<title>Survived-&gt;Pclass</title>\n",
       "<g id=\"a_edge1\"><a xlink:title=\"(0, 1) : \">\n",
       "<path d=\"M57.1477,-147.338C41.8483,-138.3272 24.8913,-125.1898 16.2964,-108 6.1503,-87.7077 14.3332,-62.6264 23.8026,-44.0998\" fill=\"none\" stroke=\"#000000\"/>\n",
       "<polygon fill=\"#000000\" points=\"26.8761,-45.7742 28.6301,-35.3256 20.7431,-42.3999 26.8761,-45.7742\" stroke=\"#000000\"/>\n",
       "</a>\n",
       "</g>\n",
       "</g>\n",
       "<!-- SibSp -->\n",
       "<g class=\"node\" id=\"node4\">\n",
       "<title>SibSp</title>\n",
       "<g id=\"a_node4\"><a xlink:title=\"(3) SibSp\">\n",
       "<ellipse cx=\"199.2964\" cy=\"-90\" fill=\"#444444\" rx=\"38.1938\" ry=\"18\" stroke=\"#000000\"/>\n",
       "<text fill=\"#ffffff\" font-family=\"Times,serif\" font-size=\"14.00\" text-anchor=\"middle\" x=\"199.2964\" y=\"-86.3\">SibSp</text>\n",
       "</a>\n",
       "</g>\n",
       "</g>\n",
       "<!-- Survived&#45;&gt;SibSp -->\n",
       "<g class=\"edge\" id=\"edge7\">\n",
       "<title>Survived-&gt;SibSp</title>\n",
       "<g id=\"a_edge7\"><a xlink:title=\"(0, 3) : \">\n",
       "<path d=\"M112.9309,-146.0209C129.139,-135.5075 150.4965,-121.654 167.9175,-110.3539\" fill=\"none\" stroke=\"#000000\"/>\n",
       "<polygon fill=\"#000000\" points=\"170.1356,-113.087 176.6206,-104.7087 166.3262,-107.2143 170.1356,-113.087\" stroke=\"#000000\"/>\n",
       "</a>\n",
       "</g>\n",
       "</g>\n",
       "<!-- Embarked -->\n",
       "<g class=\"node\" id=\"node6\">\n",
       "<title>Embarked</title>\n",
       "<g id=\"a_node6\"><a xlink:title=\"(5) Embarked\">\n",
       "<ellipse cx=\"84.2964\" cy=\"-90\" fill=\"#444444\" rx=\"59.2899\" ry=\"18\" stroke=\"#000000\"/>\n",
       "<text fill=\"#ffffff\" font-family=\"Times,serif\" font-size=\"14.00\" text-anchor=\"middle\" x=\"84.2964\" y=\"-86.3\">Embarked</text>\n",
       "</a>\n",
       "</g>\n",
       "</g>\n",
       "<!-- Survived&#45;&gt;Embarked -->\n",
       "<g class=\"edge\" id=\"edge4\">\n",
       "<title>Survived-&gt;Embarked</title>\n",
       "<g id=\"a_edge4\"><a xlink:title=\"(0, 5) : \">\n",
       "<path d=\"M87.2871,-143.8314C86.8593,-136.131 86.3506,-126.9743 85.8751,-118.4166\" fill=\"none\" stroke=\"#000000\"/>\n",
       "<polygon fill=\"#000000\" points=\"89.3688,-118.2037 85.3194,-108.4133 82.3796,-118.592 89.3688,-118.2037\" stroke=\"#000000\"/>\n",
       "</a>\n",
       "</g>\n",
       "</g>\n",
       "<!-- Sex -->\n",
       "<g class=\"node\" id=\"node3\">\n",
       "<title>Sex</title>\n",
       "<g id=\"a_node3\"><a xlink:title=\"(2) Sex\">\n",
       "<ellipse cx=\"142.2964\" cy=\"-234\" fill=\"#444444\" rx=\"27.8951\" ry=\"18\" stroke=\"#000000\"/>\n",
       "<text fill=\"#ffffff\" font-family=\"Times,serif\" font-size=\"14.00\" text-anchor=\"middle\" x=\"142.2964\" y=\"-230.3\">Sex</text>\n",
       "</a>\n",
       "</g>\n",
       "</g>\n",
       "<!-- Sex&#45;&gt;Survived -->\n",
       "<g class=\"edge\" id=\"edge3\">\n",
       "<title>Sex-&gt;Survived</title>\n",
       "<g id=\"a_edge3\"><a xlink:title=\"(2, 0) : \">\n",
       "<path d=\"M130.043,-217.6621C123.3819,-208.7806 114.9933,-197.5959 107.4862,-187.5864\" fill=\"none\" stroke=\"#000000\"/>\n",
       "<polygon fill=\"#000000\" points=\"110.2449,-185.4312 101.4448,-179.5312 104.6448,-189.6312 110.2449,-185.4312\" stroke=\"#000000\"/>\n",
       "</a>\n",
       "</g>\n",
       "</g>\n",
       "<!-- Parch -->\n",
       "<g class=\"node\" id=\"node5\">\n",
       "<title>Parch</title>\n",
       "<g id=\"a_node5\"><a xlink:title=\"(4) Parch\">\n",
       "<ellipse cx=\"199.2964\" cy=\"-162\" fill=\"#444444\" rx=\"38.1938\" ry=\"18\" stroke=\"#000000\"/>\n",
       "<text fill=\"#ffffff\" font-family=\"Times,serif\" font-size=\"14.00\" text-anchor=\"middle\" x=\"199.2964\" y=\"-158.3\">Parch</text>\n",
       "</a>\n",
       "</g>\n",
       "</g>\n",
       "<!-- Sex&#45;&gt;Parch -->\n",
       "<g class=\"edge\" id=\"edge8\">\n",
       "<title>Sex-&gt;Parch</title>\n",
       "<g id=\"a_edge8\"><a xlink:title=\"(2, 4) : \">\n",
       "<path d=\"M155.2306,-217.6621C162.3644,-208.6509 171.3753,-197.2688 179.387,-187.1488\" fill=\"none\" stroke=\"#000000\"/>\n",
       "<polygon fill=\"#000000\" points=\"182.3558,-189.0375 185.8187,-179.0245 176.8675,-184.6925 182.3558,-189.0375\" stroke=\"#000000\"/>\n",
       "</a>\n",
       "</g>\n",
       "</g>\n",
       "<!-- Parch&#45;&gt;SibSp -->\n",
       "<g class=\"edge\" id=\"edge5\">\n",
       "<title>Parch-&gt;SibSp</title>\n",
       "<g id=\"a_edge5\"><a xlink:title=\"(4, 3) : \">\n",
       "<path d=\"M199.2964,-143.8314C199.2964,-136.131 199.2964,-126.9743 199.2964,-118.4166\" fill=\"none\" stroke=\"#000000\"/>\n",
       "<polygon fill=\"#000000\" points=\"202.7965,-118.4132 199.2964,-108.4133 195.7965,-118.4133 202.7965,-118.4132\" stroke=\"#000000\"/>\n",
       "</a>\n",
       "</g>\n",
       "</g>\n",
       "<!-- Decade -->\n",
       "<g class=\"node\" id=\"node7\">\n",
       "<title>Decade</title>\n",
       "<g id=\"a_node7\"><a xlink:title=\"(6) Decade\">\n",
       "<ellipse cx=\"301.2964\" cy=\"-90\" fill=\"#444444\" rx=\"45.4919\" ry=\"18\" stroke=\"#000000\"/>\n",
       "<text fill=\"#ffffff\" font-family=\"Times,serif\" font-size=\"14.00\" text-anchor=\"middle\" x=\"301.2964\" y=\"-86.3\">Decade</text>\n",
       "</a>\n",
       "</g>\n",
       "</g>\n",
       "<!-- Parch&#45;&gt;Decade -->\n",
       "<g class=\"edge\" id=\"edge2\">\n",
       "<title>Parch-&gt;Decade</title>\n",
       "<g id=\"a_edge2\"><a xlink:title=\"(4, 6) : \">\n",
       "<path d=\"M220.928,-146.7307C235.3357,-136.5605 254.4871,-123.0419 270.4806,-111.7523\" fill=\"none\" stroke=\"#000000\"/>\n",
       "<polygon fill=\"#000000\" points=\"272.8396,-114.3713 278.9909,-105.7451 268.8028,-108.6526 272.8396,-114.3713\" stroke=\"#000000\"/>\n",
       "</a>\n",
       "</g>\n",
       "</g>\n",
       "<!-- Embarked&#45;&gt;Pclass -->\n",
       "<g class=\"edge\" id=\"edge6\">\n",
       "<title>Embarked-&gt;Pclass</title>\n",
       "<g id=\"a_edge6\"><a xlink:title=\"(5, 1) : \">\n",
       "<path d=\"M73.42,-72.2022C68.2516,-63.7448 61.9716,-53.4685 56.2751,-44.147\" fill=\"none\" stroke=\"#000000\"/>\n",
       "<polygon fill=\"#000000\" points=\"59.2488,-42.3008 51.0477,-35.593 53.2758,-45.951 59.2488,-42.3008\" stroke=\"#000000\"/>\n",
       "</a>\n",
       "</g>\n",
       "</g>\n",
       "</g>\n",
       "</svg></div></td><td style=\"border-top:hidden;border-bottom:hidden;\"><div align=\"center\"><img style=\"margin:0\" src=\"data:image/png;base64,iVBORw0KGgoAAAANSUhEUgAAAUgAAAFbCAYAAAC3VhcGAAAABmJLR0QA/wD/AP+gvaeTAAAgAElE\n",
       "QVR4nO2dd5xcZdXHv7Obtum9EhICoSUhCEFAICESaQJSpEgTGwKvGoqIIAr4iqgo2EBBBZUi+irS\n",
       "gxCSDYHQQiegdEJ6b6Tu7vP+8bvXmZ2d2d3ZnXufOzPn+/ncz+zO3Ln3zMxzzz3PeU4BwzAMwzAM\n",
       "wzAMwzAMwzCM6Ej5FsAwYmYAMAjoDXQBOgNdgQZgbbDPamAFsATY4kFGIyGYgjTKkS7ABGAsMAbY\n",
       "HRiNFGOnAo+1EvgQeAOYFzw+CywolrBGcjEFaZQDHYCDgEODxwnIMlwDvB5sbwKLgYXIMlyNrMOt\n",
       "wEdANdAzOF5vpEwHAcOA7ZGSHQOMBKqA94HZwCzgAWBplB/QMAyjEKqBo4E/IyvPAf8GbgbOQIos\n",
       "CroBk4ErgEeBjUA98CRwMTA0ovMahmG0yAjgf9EUtx54HLgI2MmTPF2BY4FbkaLeBtwLHIUsTcMw\n",
       "jMgZBdyEpsSLgR8BO3qVqCmdgRORZdkAvA2cjVwAhmEYRWcImkbXowWSMykNhbM7cBuyKN8CPuNX\n",
       "HMMwyokOyKe3DngPOJnSnLKOAu5AFuXDwM5+xTEMo9TZCXgaLYBcCdR4laY4HAi8iFbMz8UiSAzD\n",
       "aAOnA+uB54HdPMtSbDoA3wfq0EJOL7/iGIZRKqSAq9BU9KcUHtBdShyAVuFfQ6vyhmEYeakCbkEr\n",
       "1F/yLEtcbAe8jFbkx3iWxTCMhJICbgQ2A4d7liVueqI4zoUkL2TJMIwEcCUKhanUMJiewHPAO0B/\n",
       "z7IYhpEgDkXxjV/xLYhn+qPc7gex1W3DMICBqMDD7b4FSQj7IR/sRb4FMQzDPzcD84EeRTpeNXAO\n",
       "MAfVddwGLAIeAr5GdMUrisl3UYjTEN+CGIbhj/EoFvC0Ih7zTjRd/xZaIe6CFj6uRqFDK4p4rqio\n",
       "QVPtWzzLYRiGR24DXqB4/rZ9ULmzm/O8fgOloSBBuebbsLJphlGR9Ebpdl8u4jHPQgrym3len0Tp\n",
       "KMhOwDLgO74FMQwjfr4CbAC6F/GYRyAFOYfyyMC5DlUuMgyjwrgNeKTIx+yOMlIcaq0wFfkhW2IA\n",
       "8Evk99sKLAfuBvbM2OeJ4LjhFq66T896vnc7P0MmhyO/6cAiHtMwjBLgXdSuoNgciFbFM5XWa8A1\n",
       "5M5SGYIU4xLgSKRkxwC1wCZg/4x9xyOrdx7QN3iuJ/KjnlLUTyF6oUWs4yM4tmEYCaUKXfgnR3T8\n",
       "zmiR4x5URzJUlNtQbclM/hi8dmrW84NR2uPcrOdPDPZ/GinJGWiFPCoWABdGeHzDMBJGP6RkDonh\n",
       "XB2ATwJ/Cc7ZAHwi4/U1KCyoZ9O38nzwnuxp+g+C51cD9xNtAd8XiVYBG4aRMLZDCmb/lnYsMj8K\n",
       "zvvD4P/ONJ6K59smZx0nhSxIhyzVKHkC+EXE5zBaoBRL2Buly+rgsW+zexXOATTfl3pm8BgupGxB\n",
       "FmQd0BEpvlzbzMaH4WDUMmElqkA0vv2i56VfcB7DI6YgjTj5CC2ADCjycVNoxXe/PK9PCB5fzHju\n",
       "bjQNPyDH/pegBZ/M5mA7oN4yJwGfDs55L8X/LCEDKZ3YTcMwisSzKLSmmByIpr3z0aLLUDSNHomC\n",
       "x7egRZfOGe8ZiNqyvoPiKHshy/arSJGflLFvd1TcNnPF+gi0+DMLWaHFZIfg8xxU5OMahpFwfkZj\n",
       "S64YVCFL8FrkI1yIlNc6VGvxUqBrjvf1DeR5B8VBLgP+BUzJ2OfXNPZLjkXlybL9lZcX8fOcgVbS\n",
       "uxTxmIZhlABHoBXlnXwLkmDuQYHohmFUGNXAByiA22jKEGTNRhUrahhGwrkCLUAUMz2vXLgWZfd0\n",
       "bmlHwzDKkx5ICfzMtyAJYwfkezzPtyCGYfjlXLS6vGdLO1YIKdST5nUahxcZhlGBVKNA7P9QvLYL\n",
       "pcw3ke8x7iwjwzASylCUAXM3UpiVyhSkHPMV/DUMo0KZCGwE/kBltjzdH5VSu43K/PyGYbTAkcgf\n",
       "eTOV5X+biPLT76GyPrdhGAVyNLKkplEZPsnT0Ir137GMGcMwWsEE1Mv6DWAvz7JERRfg5yib6CdY\n",
       "wRjDMApgGPAYmnJfQnlNPccDr6BSa9mVzA3DMFpFFfAtNAV9laaFa0uNvqjoxTZgNqoyZBiG0S5G\n",
       "Aw+gajn3AHv7FadgeiAreAXKHPoCNqU2DKPIHIHqOTrgIdTTJskhMUOBq4BVqOTaD1G9ScMwjMg4\n",
       "HBWodajY7WXAcK8SpekMHAPch6bSK1BRjj4+hTIMo/IYA1yPlFAD6kJ4OcrrjnMK2x9VGb+rqqpq\n",
       "bc+ePetRHcdTsGo8ZUGSpymG0RI1aNGjN9AN9bReAzwJzAFeQCFDHxThXN2B3YBxqPfNgcCuqHXs\n",
       "rBtuuKHT6NGje9TV1e135JFHbinC+YwEUE4hFEblcSGwBzAJeCb4+yDUfuFc0n2t1wNvoRjLRcBi\n",
       "5BvcgDobrkd9Zbqja6InMCjYhgHbAyOQQbEJWaz3opX2J4A1Y8eOHe2ce65z584/D85tlAFmQRql\n",
       "ykQUL3kxCrzORW80Hd8drYgPRgsoQ5Ay7EFaMW5DCnMbUpjLUCGNBajHzevAPOA9NK1vwowZMz5T\n",
       "VVX1T+BLBx988K3t/oSGYRhtYABSXPeTsJv8rFmzrq2trd30+OOPl2smUEVhMVlGqVGFKt/UA2eh\n",
       "Fe3EsHTp0m8DsxsaGu6ePn16P9/yGO3DFKRRalwKfBKtFK/0LEsTTjrppPqOHTueDnTo0KHDH51z\n",
       "do0ZhhELE5GP8HzfgrTEzJkz96utrd0ya9as7/iWxTCM8iexfsd81NbWfqO2trZ+5syZh/uWxWgb\n",
       "JTHQjIqnCqUY7obKoCVuap2P2traPwFHpVKpCZMmTXrPtzxGYZh/xCgFEu13bI4tW7acByx2zt31\n",
       "0EMPWXZNiWEK0kg6E4ErUVD2U35FKZzDDjvso1QqdRywS01NzS98y2MYRvlQcn7HfMyYMeMztbW1\n",
       "DbW1tV/wLYthGKVPFfAwyqMui3jC2tran1gQeWlhU2wjqZSs3zEfy5YtuxQLIi8pTEEaSaSk/Y75\n",
       "sCBywzDaS9n4HfNhQeSGYbSFsvM75sOCyA3DKJTvAFuB/X0LEge1tbV/qq2tXTlr1qwdfMti5MZ8\n",
       "IEZSKEu/Y3NkBJHfPWfOnBrf8hhNMQVpJIEBwJ1oel0xwdQZQeQ7bNmy5Xrf8hiGkTwqxu+YDwsi\n",
       "NwwjHxXld8yHBZEnE5tiGz6pOL9jPiyIPJmYgjR8UZF+x3xYEHkysR/B8EGi+8r44oADDljmnPss\n",
       "cOjjjz9+qW95DMPwg/kdm8GCyA2jcimZvjI+sSDyZGBTbCNOzO/YSiyIPBmYgjTiwvyOBWBB5IZR\n",
       "WZjfsQ3MmjXrGAsiN4zyxvyO7cCCyP1hU2wjaszv2E4siNwfpiCNKDG/YxGwIHLDKE/M71hErBK5\n",
       "YZQP5neMAAsij5ey7PlheGcA8GKwHYNNrYtKbW3tn4CjUqnUhEmTJr3nW55yxnwZRns4Osdz5neM\n",
       "mCCIfJEFkUePKUijrYwD7gNuATIv0rLrZ500giDy48kTRD5z5sztZs6cebkH0coOU5BGWzkOqAPO\n",
       "QFPpXbH6jrExadKkt1Kp1JmpVOrszCDyGTNmHJJKpV6pqqr67tNPP93Tp4zlgPkgjbYyD9g9+Hsb\n",
       "mkpvBGqB47GpdSzU1tb+BPh6dXX1gfX19YemUqkfOOccurbPOvjgg2/zLGJJYxak0RZGklaOAB2D\n",
       "rRdSll09yFSROOcuA+bW19ffFSjHKqAa3aBO8Std6WMK0mgLx6PpdSapYDsOeAkYG7dQlUhVVdVo\n",
       "YAgwIiuAvBo4dPbs2X38SFYemII02sKJ6ALMRQdkYT4LnB6XQJXIrFmzTnPOvQCMQBZ8NqmGhoZj\n",
       "YharrDAFaRTKIODjNO+/TgFdgI8hhWkUkXnz5nWqra29wTl3O9CZ5r/jz8UkVlliCtIolM/Q/AJM\n",
       "HbAImAxcRNOpuNFOli1bVpVKpdYB9alUqrnvt9o5d4hNs9uOKUijUD6b5/l6pDhvBXYDZsUmUYUx\n",
       "efLkzZMmTbq0qqpqL+fcPKChmd1T9fX1x8YlW7lhCtIohF7IMsz2P9YBi4FDgLOBj2KWqyKZOHHi\n",
       "K865fVKp1IXAZhRB0IhUKpXCptltxuIgjUI4Fbid9LipRzfZ3wMXAhs8yVXxzJ49e1RDQ8MtwEHO\n",
       "uTCiAADnXH19ff2gKVOmWGZTgZgFaRTCCUgpgqzGJcAUZDWacvTIQQcd9O7EiRMnA18A1pNhTaZS\n",
       "KTp27GjT7DZgFmQJ4zTl7QF0B7qhnOguGbt0oXGedAOwtvEhWIOU3rrg7w0p1XDMpguwKuP4NwEX\n",
       "Y4oxccycOXNwKpX6DfCZVCrlnHOkUqmZkyZNmtKKt3cG+gZbDdA7eL4aCFMXw3ED6bGzAY2PVaRv\n",
       "oiWPKcgE4aAPiiHcDhiIAoAHBNuQ4LleSCH2ilCULcgKWQssB5b/FrqcC5/qAWsvgF9fBY8AHwAL\n",
       "UmV0QZQTs2bNOsk5dyPQD6hftWrV0OOPP74nypsfCWyPYii3B4Yipdi9CKcOx81i4H00TsLtdWBh\n",
       "Ec4RC6YgY8YpjnAMGqQ7oYG6Q/DYO2PXDWiALSM92JahwRcqr/DOvT543EZji25bKuN/p3i5Hhmv\n",
       "h/93RBdGn+AxtEp7IaU84HiY3BVqboRtPaE/6YWabcCH6EJ4L9j+gy6Et1I5Fg6MWOgM7D18+PDJ\n",
       "U6dO/cKECRN2vO6667bed999nYLXVwDzkdKaj37D0AJcGTx+hMYYNJ59pEiP1fDv7qQtz35o3AxF\n",
       "Cnhk8Bgq39XAq8BrKOvqaZTb39xqvBdMQUaE0wDdE5iASoPthhRj2HRpNfA2UijvZz3OT8GmeCVu\n",
       "kY+hqj04+a4H0Vi5Zz9WI+X4JlKWrwMvAM+lpOyN4tIVRRh8EtgP2BuNwWXAy4cddtjq4447bsA5\n",
       "55xzCfAGflwj/VEK6hh0TYwBxqMb8jqkKOcA04O/vc9MTEEWCSdr8BMoy2QfpBw7IV/NK2hQziNQ\n",
       "FuWsJJz8lLuRvinshi6IHdGY+xClIj4LPAM8k1KYilEYo1DF9iNQqbnOyDJ7grSyeSfceebMmV0m\n",
       "T56ctO+5GinNA1DvogPRDXY1cuNMAx7AaouWFg4GOzjRwU0O3nPgHGx1MC947kwHY5xFCvwXBz0c\n",
       "HOhgqoM/O3g3+N62OZjr4EcOpjjdWIzc9ENRA0+gKekG4P7guWEe5Somo9DnuR/dOOuAR4Ezaewi\n",
       "MpKCgyoH+zv4sYN/Bxf2Zge1Dr4XXPh2YReIgxEOzgoU5oLge13n4B8OTg8WriqdFHAYsqTqkC/w\n",
       "T8Fz5Z7r3h0VPXkQRVdsQHG3430KZfBfpXiIg984WBRcvG85+Elg6Vg/kCLjYBcH5zl42MGWwCp/\n",
       "JHhuoG/5YqYGOA+5ZxzwGHASlTvu+gP/g1xVDhVnPg6bpcWLg+0dXJIxBZzn4Eonx7cREw66Ojg6\n",
       "sC7XOqhz8Gjg2shV3qtc6IQU40K0knwzVl8zkxRKULgXLeS8RO4GckaxcFDt4GQHjztocLDQwTUO\n",
       "dvEtmwEOaoIp92MO6h0sDnyWQ33LVmQ+hyIZNgE/R9ECRn7GAP9A/tin0Qq+USyCC+9cB28HF94/\n",
       "HBzp8heENTzjYGRg0S8MpuG/d4orLWVGAQ8ji+hmlCxgtJ69UXhQPfBr0lk/Rltw0DFYTV3qYJOD\n",
       "3wahOkaJ4KCzgy8Fi2b1Dv5eor/h/6Cp9GsoVMxoO2eg2M8FKCbUKBQHRwUX1aZgwcWmMSVMsJh2\n",
       "nIPXAovyp65xVlJS6QbcgVamr8KiIIpFP+Bv6Hu9FIv3bh0OhjqYFiy8/M0p68MoExx0CFa7lztY\n",
       "5uBk3zI1w1AU1L0cONSzLOXKVBQa9A8URG/kI1gNXe7gPw4O8i2PER0Oeju4MVhsu8UVpwBDMRkO\n",
       "vIXCVYZ7lqXcOQhl5TxE40pXBvx3+nVdgi8WIyKCm+IyB28maBFnMEr/e4XKi+v0xQSUqvgvyjs8\n",
       "rDCCKdftga8xyrLz1cA5KPd1LSrSsAjdtb6GckuNxpyCgn0dEeZhOxji4MlgMe5jUZ2nlXQEHkfV\n",
       "jvoX8bgbSH+XmVsDmsLfg+oDJIFjaSxjXFbdXuh7ui6m8yWbYJX6XgfrnXqlRMmdKLzgWyg8owsq\n",
       "zHA1GqQrIj5/oXRHU7wHfAuCQjMiLaDgoFuQjbPawb5RnqsFfoYu0iiCvvdECueejOd6oUyTpcgX\n",
       "15qCuXFxD/EqSFDLkAbU172yCVan17voA0f30em4Oc/rN5A8BdkDTfMe8i0IMShI+G9I0ANB7KSP\n",
       "qe0e6Cb6+YiOn0tBhpwWvPZaROduCz4UJMBvUauQynW1OTg8iIs7M4bTnaVT8s08r08ieQoyScSi\n",
       "IEEtKhy845TnHXf+7sOovFtUISfNKcihpKe0SQl/8qUg+6BiwFfEfN5k4JS/u8jBn2M65RE6LXOw\n",
       "OLa2EJuCBHCwj1MBjC/FdU7k/3JEG7jcnIIcRlpBRtmqoxB8KUiAy9BaQeWtajv4RjC1jmsa1R0V\n",
       "v3WoevZUmk8Tu5z0YH0i4/nDM57PtDizndq7oCDYlVnPZ26XB+/tkPX833McrwuyKgo5RsgA4Jeo\n",
       "EvpWtCBwN7pYs9kVXRRrUdbIbFQcNVYFCeBUnendGK3Ia4B3iTZguZApdgcUI/oomm5uQjGZU2n6\n",
       "nbRm/IULTv3QIsg7qK/RAvT7nkXTCkShghwJ/BUVll6J/OI7tvpTt43BKIj8mIjPkzwcPO/gdzGf\n",
       "9kDU1yNzIL2GLox8P/YGGivIkLnknpKHA6oWOBiV2N8X/dD9UeXlemB0jvc+TdNV/Fx38EKOMQQp\n",
       "xiXAkehGMSaQbxOqDh2yE4pFWwB8Kth3HAq7eI/4FeRuTskCB8d0yjeAayM+Ry4F2ZPcizRHBfte\n",
       "iqac/YGvo98+n5wtjb/B6CawODh+D5ShFhoE5+c53j1orHRDFvZa5IqImtnArTGcJzk46OMU7+jj\n",
       "ztAZ+TzvQf01QkW5DbVHzaatCvKIPOc/JHj9pqznD0aNmbILq+ZSkIUc44/Bvqdm7TsYKby5Gc/9\n",
       "Ldj3hKx9hwb7xt4GwCk28vsxnKoDUiLZn73YhAoyO8xnBSoLlhnmcxQwM8cxbkOKNFehh5bG363B\n",
       "6yfleG0a+RXkUVnP30FjqzQqrkXtPioHBxMCy2CUZ1E6oLvhX0gP1OwiBG1VkP1yvBbyAlI2gzOe\n",
       "mwZc0Mzxsv0wrT1G2E8718X0fHDs0NUQ3jByrRy+gh8FebfT7xM1w3W6yKMpmptit5ZvBsfYP8dr\n",
       "LY2/NcHrrW2JEB4vuw7CT4Ln92jlcdrK+bSi/Wy5VeLtGjxu9CqFLIYZaEr6Y+R7yr5TtpWPmnnt\n",
       "Z8iSnRr8Px5dmL8v4PitOUZn5OyvQlOibMtlr2C/0cG+PZASzNVJb1kBshWTj9C0LmrCG8i6ZveK\n",
       "l17Ien4VuT7C3y2cXnfN8z7IPf7C8bAZtSAuhLVZ/4etX6PWTWtoxYJVuSnIsPPZgBjPeQDy8eQj\n",
       "nMpkh1c0kHvVuz1hGH9FHQPPRRfmt1F8ZiGDtjXH2IIGWB3KDknl2WYG+65HlmouC7JvAbIVk4HE\n",
       "E361JHgc3Oxe8XI/8F3kq98Z6YEU6VlCoYtJW0ivCpdKU62htKKzaLkpyDfRAkGc2RIpdLHlm0JN\n",
       "CB5fzHp+MU270A0Gtm+HLHXAL9Cd8UfAZ9AqcxTHuBu5Eg7I8dolaNEq9FlOCx4Pz9qvPx4qtjvJ\n",
       "NQGV6o+aVciyas/vWkyq0W+2BP2uy5H1CO3rdfPP4PHIHK+9CFzfjmNHwfa0YopddgS+pcdiPOWB\n",
       "Oi3z0YLFUDTlGIl8OluQXzG73NKvgvd9DVlWOyLrbQHN+yBbit3qQdof9Kdm9mvueK05xkDgbRTS\n",
       "cQRSqH2Br6JpWKazfkdk3WeuYu+OgqeXEv8q9lHBYl5cvurHgLsiPkchPsjHgn0vRjepGmAyWohz\n",
       "5E5JbGn8havYi4BPozG0HXAjUsbZN4h8x/tR8HyuULFi8i7wg4jPkTwcHBos1ORyNEdBFbojX4tC\n",
       "YRailet1wHMolCKXT6cXmuIsQj7T2ciqmUvaJ/QjZJnminVsjuYc3dlxbQ64vcBjhPRFPst30Orn\n",
       "MhS6k+sC2xlZGWvR530WXUjTM+QoxFfaJhyknIpXPBz1uTI4D7kZoupGmKtYxb+b2b8/Srmbj363\n",
       "JWgV+pqM94dRCIWMv37IUnw3OO4itBCWGTaW63ihosp+PqpaARNo7CuvLBxMd/CGi8cJb5QQDs53\n",
       "sM3F26FyELopZIe6GH64C9XirEwcDHKwJKYwDqNEcEoz3OLkI42ba5A/so+HcxtpPo4WSCsviyYT\n",
       "B0c4Fay42rcshn8cjHVqFTvN+Vmc7IUWRG7xcG5D1KAFo8d9C5IIHJwaTKdu9HRRGAnAwd5O7TZm\n",
       "Ob/tQD+FogS+4lGGSuYPyIr3nUiSHBwcH0yr7nb+Yu4MTzg43cE6Bw+66BZJCuH7KBTtMN+CVBiX\n",
       "oMyvYiVslA8OJjqY7+BDp3AGo8xxqv14exDOc71LTim6KpTHvgmt4hvRcznyO37NtyCJxUFfp8by\n",
       "9Q5ucNEnwxuecPBZB+8HC3XZwelJoAqFNG0BvuhZlnKmI0p6qEfxuUZLODjTqaDuKgcXOOtyVjYE\n",
       "vsbHA6vxzy7ZXQNTwA+RZfM7KrF4a7QMQbHFG0h2f/Tk4aC7g6uduh2+7eCrzgZoyRIoxr8Gs4Mn\n",
       "XXI6+LWGY1DBiJcpLbmTzEko+P3fRNMgrTJwMNLBTQ42B9OxS11yenYYLRBkTU0PMqeeD6bWUVbt\n",
       "joodUfWnMA++VAo+JI2RwIPIKr8ZvxEL5YODgQ6udLAysCr/5mBKiV5sZY2DwQ6mOng5UIxPODi6\n",
       "TH6rE1G65jK06mqzmtbRF6XlfoQK1kTd5rkycdDDwbkOng0uvnccfNflbkFgxIRTI7bPOrg/iGtd\n",
       "6eBXTrUqy43+qK/LJlQ84ss0LXRiiH7AlSi/fylK5UxKtEJ5E2Re/MzB0kBZvhb4LSeUibWSaBz0\n",
       "d/AFB/c62Oigzqld68muMhTGMOA3aKV7KSrokF0er1IZjxa2NqLA78uo5D7XPnFQ7WBSEEv3XqAs\n",
       "5zv4g4PTnFbLjHbioJODgxxc4WB2oBA3BVbjl1y8RZCTxBDgKlQ/dCuqw3kClTf97gecg9qUOFRs\n",
       "4hxMMSYLBx8LL+KVsPURKcx5wZTvZCdHsdECQSTBRAeXBJbhhuDm876DWxyc6GzwZ9IJtW99FC3m\n",
       "rEElyo6i+RYJpcwA4AxUAX0r8jHeicrp2Swu4ZyWgmXdYcEWuNbBc4F/zDlY5pTadoWDI13zfbLL\n",
       "HgfdAtfEOYHl/WpgIbogJvUvDr7iou+HXC4MQf62Z9CK7SZUh/N8VIi4VJVHR1TH9Ur02eqRi+Eh\n",
       "4HQ83DBL9Yv0yShUJflQVGj2AoJeOE538r1QPNs+qLRSeNGvBV5H/bJfR1OEd4APUyqwW/I4TYN2\n",
       "AHZDPbJ3Dx5HLoKqr0Ld1fD8HjALFcx9LqWirUbbGYyyhY5AxTD6oLjKOcBTwePLyFeXNLYDPoY6\n",
       "fh6ACtnWoDExDRU1fozCG4EVDVOQracjqgx9NaqY/FU0AJvFKQRhHFIaY5HSGEvap1aPWhG8H2zv\n",
       "oQGyHDnnlwDLUrqTeiPwAQ5A2SlD0IU5EinEkcEWxu9tRUG64Q3hjQtg088VijEaWQjXoamiUTyq\n",
       "UauCT5BWOsOD1xahm/KrwBtohfwDNNaibHnRAxhBeqyMydj6IH/iG8CTSJnPQaE6icAUZOs4EJWo\n",
       "H4VaEfwQKYE24xTOsSNp5ZK5DadpNfQ1SFmuC7a16M66IdjWBPutp7HiWZ3xdw2Nnfs9UAOrsONg\n",
       "TxQo3z3j/4FIMWamZNajWL33SCv2zO29VG7l1wG4CCnIN1EIy3M59jOKx1B0gx6HlNI41Cgtc7q6\n",
       "GCnQlcG2Ktg+ovF4CvsUdcx4fxc0rnqiGUTmth2NK2itQMpwHuqHHj6uIaGYgmyebqjXzDnIx3Me\n",
       "UgqR43TuQcE2MHgcjJRaqMh6oIEaPkfwfPi7Vl8PPY/kv60DQ0d3yEZkmW5FF8LaYNsQ/L8OWbLL\n",
       "0UUUBjEvT7XcF6c5dkSZDhORu+Iymu/3bRSffsiyG4Eaag1Dyixz6xZsYWxhOLbqSff53oQs0HVI\n",
       "qa7M2BYiC/V9ZK3m6otulCj7A2+hH/pUz7K0hzrgFN9C5CAFnIm+33fI3ejLSB6/wipyVzQdUJrX\n",
       "VuARSnsFuguy9JLcf2MI8He0GvtnZNkYyeWnaIXZqEB2B55HU8+plL4Loh9SkKWQm3o0WqxajHKS\n",
       "jWRyNfCSbyGMeEkBZyM/2NOoh3M5MBwpyP18C9JKegM3IWvyfkrbei9XvocWWowKYTugFi1WXIZC\n",
       "JcqFXZGC3MO3IAUyEfgPWt2cijVcSxKXoDA3owI4FK3Kvo7ix8qNvZGCLMUMlRoUN1mHFgV29SuO\n",
       "EXA+Wp02ypgUuhPWAXdQvjm/ByEFWcoFNfYE5iK/8JVYOSvfnIviGY0ypT9KY9qMpm/lzOFIQZZ6\n",
       "ZeUwsmAT1prAN1/E4hnLln1Ip/KVysJFezgBKcgOvgUpEjui3NxtqDVBdraRET2nUSa1A4zGnI0W\n",
       "Yh6gcfpTOXMG0ebZ+sACzP0S3nTLaTGzoukG/B/yN15K6cc2FsI5JLOKSzGwAHM/HIUUZI1vQYz2\n",
       "sx3wAnIqT/Ysiw8uAj70LUTEWIB5vHwKKUjr/lnifAz5Gt/kv7UaKo7vorJj5Y4FmMfHRKQgB/kW\n",
       "xGg7J6KwkIeAXp5l8cmPkAVdKViAefTsixTk9r4FMdrGVFSO6ZeYI/mXwGzfQsSMBZhHy55IQVor\n",
       "5BIjhQKJG4JHA/6AytZXIhZgHg27IQU5zrcgRuvpiDJitqA4LUPchdqEVmyzddcAACAASURBVCoW\n",
       "YF58RiEFOcG3IEbrqEGxjesojbJecXIfcJtvIRKABZgXj2FIQR7gWxCjZbqhorarUQVwozGPoV46\n",
       "hgWYF4uwxugnfQtiNE9v1AltKTDesyxJ5WnUPdBIYwHm7aM7UpBH+BbEyE8v1Fd5EerUZuTmFeB/\n",
       "fQuRUCzAvG10RAryWN+CGLnpiSyjDynNOodx8g5KrzRyYwHmbaMeONm3EEZTugKzUH/o3TzLUgos\n",
       "Ab7hW4gSwALMC2MT8ucaCaIGmIkpx0JYB3zJtxAlggWYt541wFd8C2GkqQb+iVYgx3qWpZSoAz7n\n",
       "W4gSwwLMW2Yp8HXfQhhpfoUG7IG+BSkhSqEndlKxAPPmmQ9807cQhvhfZAkd71uQEqMvpdMTO6lY\n",
       "gHlu3gS+41sIQ/0vGjA/WlsIe2JbAH37sADzprwKfN+3EJXOAahdwA98C1KilGpP7KRiAeZp5gI/\n",
       "9i1EJTMCOYL/iYVctJW9KN2e2EnGAsyVwfZz30JUKt2RY/wlyrdfdRyUQ0/spFLpAeYzgN/4FqJS\n",
       "uRNYhqxIo+2US0/sJFOpAebTgFt8CxEHSeuXfC5KYToS+MCzLKXEIOAzyGe7CVhLOjRlOxQitTZ4\n",
       "rdzawPrkcRQ3eQXwM9QS9WzKqw9QVxREH7Yu6R78P4z0glVvtJj1Fpr5GRGwB7qQr/ItSAnSGfgI\n",
       "WYwtbTM9yVjulGuA+dm0blw5LBQvMnoCb6OYs0rvI9NW7kbxei0N4lN9CVgBlGOAeS8062hpXG1G\n",
       "1qYRAbegVevBvgUpYT6Pqqw0N4jXoAwbI1rKLcD8dmAr+cdVHXCPN+nKnKPQl3yCb0FKnH40ryC3\n",
       "Ij+ZEQ/lFGD+SZq/8dYDp3uTrozph+LJ/uRbkDLhKRR6km8g7+5PtIqlHALMU2jRtDkLso836cqY\n",
       "O1Hh296+BSkTvkVuP2Q9Up6GPzIDzEuxluL3yD3Nrgce9ShX2XIY1tui2ITphbkG8Rke5TJEoQHm\n",
       "e5Ic/+V25Hbh1KGVbqOIdEaxYv/nW5Ay5D2aDuL12ApjkmhNgHlnFFd4Z4xytcQMpBAzx1YDlq1V\n",
       "dK5AcXuWLVN8fgpsIT2At2B5s0mkpQrmYZm/BuBr8YqWl8/R2MfdgLluis4oFEx7sW9BypRJNLUg\n",
       "rQp7cskVYD6OxpZaHcqt900X1MYjlGsbcIFXicqQvwBvoPaRRvGpRlO30Pf4rF9xjFbQEbgMBZi/\n",
       "ADxP4wWROmAFMNSXgBncQGPZRvkVp7wYjy5aS0mKltvRRVUPnOVXFKMAdgEeJPdiyFbgGfwbFhNI\n",
       "y/SaZ1nKjoeRRZPyLUiZcyIawBuwxZlSYgSaajcXb/hTb9KlmYfkudy3IFETZzWfiSi0Zwr6co3W\n",
       "0wmFe/RGzv2ajOcy6YF+0xpkhTyBvve6jH3qSfuR1qDFsk3Bc4ZfbqH5a7IauBBZknFEgHRHvY36\n",
       "If9jON7moKSDjagp3Mbg+bBa1EpgFWUwpuK05KYHj6WcclUM+qOYsqFo4PUPHgcEf4f/98jY4rqR\n",
       "rUeDfQPyea0MtvDv5cHfy1DQ8yI09TPaz1lIQbZ0TYaFIfaifWXVuiIltyOwPbJeRwAj0RjsS/sr\n",
       "EtUhRbkCZeLMz3h8G3gdjbnEEpeCHAu8goLC/xXTOX0xFBgdbCPQ4Nsu2IYj6y4kvNuGSmhZxt/r\n",
       "M7ZNSGmFNR03krYEM9mIwnpAzbqeomkKWGd0cVShSi1hfb9QGXcNngsVdebjABpnPTlgCcqGWogG\n",
       "/oco9/jN4HELRkv0QgqjP7rhtKSY6oD3gY+hcdES/dF4mICuxT3Q4koVGkfhb/c+UmDhOFwVbCvR\n",
       "TCOsJboZrb4/RXo8QXpW0w8p2ND67A/sQFoRb4d8qS445zzkz5wbHHNRKz5TLMSlIH+PwhTCTI9S\n",
       "pwP6LOPRXThUiDuRbhOxgfSAWxhsHyDLa2Hw2JrBnTQ6AAPRYB+GBnv493B0AQxFY6sBXXhvBdub\n",
       "6Eb5MrrwjDTdgf1Q7/dJwCeQwtmKvvPsYPJtyKf/GZpeU8NQRfmDgmPuEuzzJupI+FqwvQq8S2MX\n",
       "TBxUIUt1LDAGKeyxwG7IjfAB6nszB33Gd2KW77/EoSD7o4vkQuC3MZyv2HQD9kZ3zPHBNhbdObei\n",
       "jIi3Mra30UBc7EPYhFBD+qYR3jhGowtgQLDPfKQow20uuqEYogvwceRDDhVmV6QYq0jXTb0IJQIc\n",
       "AHwazdLC4tNPI0XzNLLMVscnfpvoDuyLPuv+6DP1RNfTNOAhVPB5W1wCxaEgL0fKcTgy05POUKQQ\n",
       "D0B38wlIGa5BU4Hng8fX0UVtLQwKow+yGvYOtt1RYHQnNF2fixaXnsS+30yq0U36IOBgpDj7ICt9\n",
       "KUr3exf5+qcjhVKKM5RMws98NCqLuBe6Dh9AlZEeo8RnpClkFVzrWY7mGIBSqP6Ipr1hhsCzqNjp\n",
       "yUi5G9HRFV34lwD3Ih+YQ/7WmcC30cVh4WGysv4H3aAd+q7moO+n3NkBBdS/ij77e2hslGIJOUBT\n",
       "BIfuAkmhCpnwPwCeQ07qrcAsZO1OwmIHk8BoVCX9T8hd4ZCldDuqTNTXn2heGAlcRzo06yY0Ha1U\n",
       "xqEC0KuRO+F3aGZSUvwYmf2+qULT5V+QthLfQYPsRKweZSkwCpXVuh9ZlnVoKj4VLRqVK8OAG1E0\n",
       "wPuohkGl3RyaoxtwDnJ71QN3oJtrSfAf4Ccez787cD1ppTgPFQQouTuN0YgeqPnYP5Gy3Ip8bqdQ\n",
       "Pt0EuyPX1Ea0qvtlktemOUmkkLHzOnKR/Q4tECeWPZBS2i/m83ZGPsVZwfnfxpRiORMqy3vRhbEU\n",
       "lREr5SIKRyOluAL4OhrTRuuoRhXbP0SJDZ8nob7r7yHLLVcx0CjojRThMnSh3A0cGuP5Df8MQ2Ng\n",
       "AZpuPYjCRUqFnqjalUO+1gHN7240Qw/gl6RbQiSuY+p04mnGFSrG1Sj4+Cp0oRiVSwfgOOSjdCjY\n",
       "OOmKcixySS1GNQuM4rAvik9eiNYhEkEVSos7J8JzdEBBsqFi/C5K2TKMTKYAs5GifBDlHieNY1DM\n",
       "4uMko+ZjudEL9e3einy53gn9j+MjOv7eqLDoZmQx9ozoPEb5MAVl7GxEsXO+6yqGHI8u3JuxRZgo\n",
       "SSFd0YDiSL3yVVRIobqlHQukmnQfj1qUY2oYraUjUo4bkbLcza84HIv85b8ioQsJZcglSEme51OI\n",
       "P5Iub1YseqFQjo3AV4h2QG0gf9HS7G1Ckc/9zYxjLyjysZN6/lMyzhlHauGOKJVxDf7aDu+GjIjf\n",
       "UtyxXI1cW3OQm2sbqo7zEGr+NbIVx2jrGCjGuePgO0i2ib4EeJ7ixj+OQvFNC4B9injc5tgTDZB7\n",
       "mtlnDcVXkCEv4UdB+jz/dOLLve4M3IpmI1NjOmdINzSen6T4cZt3opXbb6FKS13QDeFqZDmtyNq/\n",
       "O1rEeCDHsQodA4We2xcp4B9oQczL6vZqNM0uBtuhnMvnideBbQqyvBVkyMXo4v16jOe8Ci0sFjva\n",
       "Yh80Zm/O8/oNNFVSPVBW2UM59i9kDLTl3D7pifTKrXGfuC/6oj5VhGN1QuXl5xF/QnprFGSUmIKM\n",
       "j28jyyeOavcD0dQ6irbHZ6Ex+808r0+iMCVVyBgo9rnj4HPod4+1VkTY9WynIhzrSlRR28diTHMK\n",
       "8gmi7xZoCjJe7kKxcj0iPs8PUZZHlwiOfQQas3MoztS9kDFQ7HPHQQrNTO/It0MUWSajkFae387j\n",
       "DEa+jCtRAG3SOZbGizcjgL8iBb8SuA3V7xuJCi6sRz6Q39H8Rbkrit9bixaoZqJalZl0QGXZHkU1\n",
       "FTehklBTafwbZ8u4C/C3QL7wuXz5q6fTdIEq038zAGUuvI/CVpajbKZcd+dd0Y1nLapMMxv/Qbxf\n",
       "Q0rroojPcyK6IKO4EcxGv//+qGL4VOSiykf2eMintFszBgs9d/ZC0D6ovmPYFynXOYqNQ1Pso4nm\n",
       "hpWTi1EeaXu5DF1ksQmeRWhB5tvOyvO+e4LX/4HiNbuh8lwO+XnuCY7dHflpHSpjlc1LyMc5Aw2U\n",
       "7sg6fxlVdpmUse9RwXEuRUq4P/Kp1ZO7FmcoYy0qvtoVZRzUkVaQ2dZDNSov9ShN+9wMQYpxCXBk\n",
       "IOuY4PibaJzFshPyUS9AbpjuqHTVv5BPyGeB3KvQZ4gqHnEc+t4/HtHxQTea+TQeq68B15A/SD4c\n",
       "D9nXWiFjsK3nfglFjcxB46RbC+coNkPRdfLpiM/zX36Igrjby2xkXfmirVPscLAdmfX8a8Hz2aEF\n",
       "75K7O91L5C72EV5kL2U8dxS642ZzG7LmsgPpQxmbC3HJVJC9UbreL8kd2/rH4HinZj0/GCm8uRnP\n",
       "/S3Y94SsfYcG+/pUkGHPpKgU2MkovKTY8cHZdEYFG+4h3eI3LASdy/fZnIJs7Rhs67nDc2TPNJo7\n",
       "R7F5n2h8wjn5Faqk015WAOcW4Thtpb0KMrtG4SPB89nFeGeTu3/wS8j6yhUjtzA41pA8MoSE05js\n",
       "PORQxuYWvkIFuQtyceRa5QxZg+7CuTKang/OFU63woume459X8Gvgkwha+asiI5/IfI/xkkH4JOk\n",
       "i2A0oILRmTSnINszBltz7tCCzEVrx3l7eQL19WlCFD7InhSnYXg3kttT40BkNTVH9nfQgJTIxqzn\n",
       "68n/O4S+wWyWBY+hEu4FfB/5HVeTvmuH0+t8FdJb6hHUB02vNiJr83M59ukcnD/Mv892RYStAEYH\n",
       "+/ZASjDXb7ssx3Nx4pBcuZR3MSjWtVEIdeg3/BwqYJ1CM47W0tox2J5zr8nz/tacoxisJU/R7KgU\n",
       "ZDGagS8ngSWKYiZf8Y1wwIQD6H5UrON3wM7od00BFwSvtzVTI4Uc+VNQXc0/0DTucwsa4HUolS+V\n",
       "Z5sZ7LseWSq5lJDvStmdAxmiUtRLiHZMH4DqYeYjdMMUUkG/tWOwPefuR+4xmn2OqBhKnl7cUSjI\n",
       "HhTnLvks0Tto28tclCYXFd1pWvBjHPpBX0ar4NVocC5BPsLlpO/4Ne08/yrUt2cluvNvRtOx7Iv8\n",
       "bjSdyrXqeAly3IcLH9OCx8Oz9uuP/9z6A5GSfzai4y9EVnlUFmoKKZV8RarDm9uLBRyzNWOwvefu\n",
       "QtMMuVzniIIUasq3MMJzNOJxdKG2l9ChPaIIx2oLrQkUz6Ug8/lzHiZ3g/Zack83Q9/MbLTC3Nzq\n",
       "Xtj+8mKkaGqAySiawNE0ADqfjNnnz46B+yRa9HmKxlWuByIL8x00Fe+FLLGvomn8SRn77ogUbuYq\n",
       "9u7o+1mKXx/kX4lOOYJ+m200XaAqFgei33U+WjAbin6nkcgfvQWN2ewK5c35IFs7Btt67nClfDp+\n",
       "VrHDxoJRVR5rwmPAb4pwnE4oR/SvRThWoRRSrCJUkPvleO0HpAPnM7dvkx5QmduV5I4Pm0E6PqyW\n",
       "ppZaf1T0YD5SYEtQfNc1Gceam0fGbP/SKTlePz/Pe2/PeF9fFAb0TiDDMhS6kys7ZWfUTyaMq3sW\n",
       "hVlMzzj273O8L0r2Q37iqJRXyAyUsxwFVWhsXAs8jayibWhG9xwKA8v0R2fHQYa/aVvGYKHnDglv\n",
       "xLuhm+S6Zs4RBT9GN/fYeJjiDe7D0aA9o0jHM4xc9EYXyb9iONeXkGVUyj1zionPjLHeaDZzZZwn\n",
       "vZ/itlr4MZp2xZEna1QeNchaWQAMiuF81ai2QFRWZKnhU0H+BPnsY+1E8A+K++NXIbN/E7nDTAyj\n",
       "rQxCJcdWEG/Xy2PRzCi27I0E40tBTkCG1zfiPvFfkJIsJmEl8Ybg0ToVGu1lHEptfBs/lcX/gKIE\n",
       "ktgjJw4y/ZyZPvs46IMy2KYTfVZTE24gd9pbMQj9N49SuQPLaB/VKD50A1pQ9BV7WYNScl8l+kBo\n",
       "I0135FL5gPyFWSLlClQtOSr2RYMqac2XjOSzN0p93IzGqe+xMxxFaszDkiLioCcKWVqK2ux64Vyi\n",
       "L4zZEYUNbESD60Rs2m3kZwcUWRE2e9vVqzSNGYqKlbyFx4u2AtgehbotwnOztuORrzCOu/OOyOdZ\n",
       "j6zKkzBFaaQJFeNW5Gs8g2R2DxyELJsNNK2IZLSfQ9Fq9asUp5B3uwgDoKOuwJHJ7qQV5RuoWGd2\n",
       "zUKjMkihLKK7SCvGs0h+z+mOwPWki7jG3WKkHOmGAtfrUCRMN7/iiFHoR46r+2AmuwM3kY74vxX5\n",
       "LI3ypy9afHkDjb+nkMWYdMWYzbEoC2UpquJutI0jUZTCKrS4mxiq0Uqzz6lCD+BslBjv0Bf1C/yX\n",
       "9TeKS1dULv/PKOd7HbpBfsynUEWgFxqvdUjRH+JXnJJiHOmizPdT/M6RReENYk7faYaPo5YGYSn4\n",
       "N1DtxAmYv7IUGYgsw3vRavQW1NP5TKJvuBU3+6D0R4dC2+wGn589gL+j9Y+nUWGVxHIvzXQK80QK\n",
       "VQu5nrSyXI58l18goXcag07Ip3gNCtFpQErxQeDzFFbbsFSZiBZxHPoOzqJpVZxKpAMqLjITfTcv\n",
       "A8d4laiVXEvjPiRJZByK5n8EpTE61Dfmt8ga8b7aVaH0QHn330OFT8LKSm+idh5HE109xaSzLzI8\n",
       "tqBqST8n2gZgSWUscDUydOqRQTaFZEYo5OQryB9UKgLXoMpB16Lc3M3oolyCynJdjH6AAb4ELFM6\n",
       "oTp8ZwK/Rj7jOtJ+4ztQTckdfAmYUIagCvL/Qd/VW6gj496UzjVXKGNRYsjL6DN/gNKOI62KFNWX\n",
       "uR9yLo8m5lprRaIzGmz7o5p0+6KAXlCg6csZ2zw0QH0Wei0FhqOK4eORv2g8ijroiL67l9CYeTJ4\n",
       "zFkC32jCBLQgehJyEy1Flvc0FBTfXBuEJNMHFcs9Ahkv26MElLAYzhPI3RIpUSnILsiCPBPFo5UD\n",
       "A9FFnbntii7wsJLyWxnbf1A7yQ8pTo+epNMBpcuNQDfG0agwbvh3WCx1CY1vMC+j7ypXtXWj9aTQ\n",
       "mDw82A5Av8nbqOf0HOAZlAa81ZOM+eiAxsrHkdyfQNkuYaHnacE2F02pYyNKc/xFVC0jtn6zHuhE\n",
       "YyUQKoWdaZxbuw4pyg9RjNsCZCEtQwU7V2Q8Rn5XLJBuKKl/YPDYL/h7e9TKdRiyDgeTroyyGfkM\n",
       "M28YbyJFuDxG2SuZnmgGtD9SOPsh/24dUpqvBdtbaLr6Pur9EuX4C2+gI1AW3DhUZm5XdC1tQtXH\n",
       "52RsKyOUp0WiVJC/QwsdkyM8R5LpiZTI9kiJbJf19zBy95FeEWxbkDLZhILe16JYv02km6JtovHU\n",
       "vo7G1mpHmi5ohBlGnZDy64Wsu5rgtZrgPf2QQszuU7IlkG8+aWWf6+9crUINf1QjF8fYjG0cUlZh\n",
       "WvBWdBNfigKsVyEFtQr97muD/TLHWTc0lkAKOOwM2S947It89yNIj6X64DyvZWzzgm1b0T5xEYhS\n",
       "QZ6DKvb2JnlWUVLoSNoq6x9sA5CFdh7p6WhXpMi6B3+HSq8HjTNFOtO470cD6UEdsh4N8G1ohTjs\n",
       "AbIR9dQO/860alciZb2cynAXVBLVyL8+AjXYGoHGYN+srSPpm2vmjXcjUp6gsbaNtHLNVLDvIUt1\n",
       "PrqRJkoR+mAvZEXEWam5XDgfDTqvVUcMw4iOamSRfM23ICXGYNQGM67qyoZheOI+it9+ody5C01F\n",
       "ElF5xDCM6LgA+SAs57l1TEFuiaN9C2IYRvSMRxf8nr4FKQE6oUIad/sWxDCMeKhCK58X+hakBPge\n",
       "CuMZ6VkOwzBi5C8oYNzIzwikHL/lWxDDMOLlVBSAWgllqdrKAyhI1neXPcMwYqYXUpAn+xYkoZyA\n",
       "ArorNePIMCqemahpjtGYrigH9o9+xTAMwycXonCfUmugFDXXojSsgb4FMQzDHzuhcJ8pvgVJEGOQ\n",
       "6+Ec34IYhuGfuaiJu6EiITNRaafqFvY1DKMCuAjlZluzITUJq6cy+4kYhpGDoUgplETXsQjpiwrl\n",
       "/tK3IIZhJItZKHC8krkZ1Xm0uFDDMBpxDirSWm4N3lvLPsiKPtW3IIZhJI/eqALxl3wL4oFq4AXU\n",
       "aa5cW3MahtFO7kTNeCoNqxJuGEaLHIJiInf3LUiMWJVwwzBaRQq1nfypb0FixKqEG4bRar6LQl0q\n",
       "ISbSqoQbhlEQw1Ca3em+BYkYqxJuGEab+CtKPyxnrEq4YRht4kA09SzXdDurEm4YRrt4DrjNtxAR\n",
       "YVXCDcNoF18ENqMwmHLCqoQbhtFuaoClwNW+BSkiViXcMIyicTmqql0u+dlWJdwwjKLRB1gPXOBb\n",
       "kCJgVcINwyg6Pwc+RHGDpYpVCTcMIxJGANuAM30L0g6sSrhhGJHxJ+DflKb1ZVXCDcOIlJ2QFZld\n",
       "THYw8D/xi5OTvYC/AYOynrcq4YZhRM7twOtAFdAduBIV2F3tUaZMzkHZP+uAc5GcViXcMIxYGA3U\n",
       "IYtsGbIoXbBlW20+uIW0TPXAi8gtUItVCTcMI2KmACtQFkoDaeXoSEZWyjs0lmkbkvM+oJ9HuQzD\n",
       "KGMmoI6HDlmQLmvbCnzNm3SiF02VdqaiXIFW4c2SNAyjKFQBtyLFkzmdzqUgf+NJxpCw8G2+LbR6\n",
       "Z2HlzQyjLKjyfP4GFN6zsYX9OgLjoxenWfZFijofoeW4FPlPDcMwisIYFCazlfwW2lpv0omH0MJM\n",
       "c9bjldgU2zCMCBiBmnk1pyR9rmSvzCPTVmQBH+tPNMMwKoG+wNPk90f6WsneIY88W1G3wjGe5DIM\n",
       "o8Loiqaz2avZPleyT6Hp9LoOeBIY4EkmwzAqlGoULJ4ZVuNzJft6YAtpf6ML5LN2CoZheOPbNFaS\n",
       "czzJ8Rxpq3EbahVhGEaZUworrucBv0IhSetQwHYuqpAPsw/QE1Uo7xC81o10rcltwIasv9ejfO/V\n",
       "SAlm0jHYpxNaqDkGf4raMIwY6dDyLt65EWWp3I4U33eCx+HA9sAQlOaXT3EWyjqkKBejIr5bkXJ8\n",
       "H/gq8HyRzmMYRsJJogU5GBWd3QvYHa0Qjybt71uLcqIXoBXkxUiBhhbgqmCfjchvCOqcuCn4uxOy\n",
       "KEFWZy9UOagvaQu0LzAMKeG9UXhRl+A99cC7qKXrG6hgxTPA/KJ8esMwEkMSFOQewCHAfihbZQTy\n",
       "970NvIaUUPhYHbx+d4zyjQvO3wnVrAyVdvi4SyDXYqQonwEeQ5ZmQ4xyGoZRZHwoyL7AEcCngEPR\n",
       "FHkl8BTwLFIwzwJrPMjWFrojK3NfpOT3I/2ZpgOPANOQAjUMw2hCb1Tp5n407a0D5gI/QkUgSsEX\n",
       "WgijgLNR9fF1aFr+BDAVGOpRLsMwEkIVcBhwD1ro2AT8E1XeLpce2K2hC0pDvIO0snwUOAGLozSM\n",
       "iqMP8C3kQ3SoFerpaOW50qkBjgceQIpyEfB9NCU3DKOM6Yeq2axGq8g3oQUOIzfDgEtQKNEW9H1t\n",
       "51UiwzCKTjfgahRsvRy4lMqaQreXLqhr43wUjvRrrH2DYZQFn0UW0CrgYrSia7SNTqhr4iIU1/kV\n",
       "/Bc0NgyjDQwBHkZxfrcCA/2KU1b0BH6G0iCfRkHyhmGUCIehtgJvAgd4lqWcGYtCodZhPbcNoyS4\n",
       "AlmNd2B+xjjoBPwcfee/QRk7hmEkjCpUUacO+cmMeDkO5Zb/H+mqRIZhJIAUcAtaYT3BsyyVzESU\n",
       "fjkNCzA3jMRwGVowOLyIx9xA/u6Ay1H2zT5tPPY3M463oN2SJou9kU/yRt+CGIYBR6OMjyh6weyJ\n",
       "lNg9Gc/1QtPJpSg9cUo7jv8S5acgQWmL9SjX2zAMT3QHFgJ/jOj4uRRkyGnBa6+14/jlqiAB/hcF\n",
       "5lvhC8PwxA9Q2mD/iI7fnIIcSnqa3LuNxy9nBdkJeAvFoBqGETM9gI+AiyI8R3MKchhpBdnWVgrl\n",
       "rCABTkJT7VG+BTGMciVfKtuxqEajLwvl4OBxHip8EdIPuA61XNiCFOB04CxUKaclOgAno3JjS1AJ\n",
       "tldRncbs76IzqrTzbxRiswrVszyGxvGIrd2v2PwDLWidHOE5DMPIwb3AfRGfI5cF2ZP8izSDUS+Y\n",
       "xcBRyModBFweHOf8rOPnsiCPCva9FJVl6w98HVli12bt+zsUVvMppHwHBfs40gq8kP2i4AasiZhh\n",
       "xM47qBRXlIQKMjvMZwVS0NlhPrcG+5yU41jTaL2CnJnj/bchhZxZs/Jd5OcblrXvf2is+Fq7XxSc\n",
       "iuJTk9BbyDAqghS66E6L+DzN+SBzsSbYv7UpjoX4IMPYyf0znrsxeK4O9cj5GXBQjve2dr8oOCg4\n",
       "96CYzmcYFU8NuuiOjvg8hSjIzsG+m1raMYNcCrIX8he+ilbosy3YQzL2TQFnIB/nRxn73E+6bWwh\n",
       "+0XBHsG5do34PIZhZLCa6AORfViQjwfH+AYwgPTU9Pzg+XyB6R2Rj/FfwX4/bOd+xeJwCvtODMMo\n",
       "gHyr2AuAkTHK0Rr+GTwemeO1F4HrW3h/NSrPtgT4JVoBdsFruVbA15C2zLahle9jg/fs14b9omAk\n",
       "WuVfH/F5DKMiyacgHwc+HacgreBS4D2kCD+NrKbtkA9wCC0ryHqgFq2GX4xWsGuAyeSvUPRbNI3t\n",
       "jIoCfwtZnY+1cb9icxQwK+JzGIaRxURkAe0W0fFzFav4dyve1w8pwnfRqvMi4C80rrqdWawi3H4Q\n",
       "vNYfKbP5wfuXoNXxazL2nRvsOz7Y93XkW1wJPAV8mcarxq3dr9j0RbGgUS+mGYaRRRUKXbnNtyBG\n",
       "Xq5Bytj8j4bhgWNRXOKBvgUxmjAKrehHUWXJMIxWMh2l+/VsaUcjNjoiH/E8lDppGIYnhqAV7WlY\n",
       "P5Sk8Fu0aj3OtyCGYSi7ZDNaLbY+zX65HLk9jvMtiGEYaY5FSvJOrB+KD1IohbEeONezLIZh5OAQ\n",
       "NLV7FMv9jZMeKJRpC3CKZ1kMw2iGvVGln8U0zls2omEv4E0Ur2nft2GUAL2Av6Hp3i9oe8VvIz81\n",
       "wBXIrTEdZf8YhlFCnAUsQ9bNmVhNwmJxNLLS1wEXYgtjhlGy9EZWHk+usAAAAdpJREFUZB3wMnAi\n",
       "pijbyoGoRFpYKm17v+IYhlEsxgN3oxCUl5CitCDmlqlCJcvCMmzTscwlwyhb9gD+D/knFwJXoYo7\n",
       "RmP6o4pCbyHF+C9Uis0wjApgB1Qsdgmafj+A/JSVvKDTFfgsuoFsRnUkfwWM8SmUYRj+6ITakt6P\n",
       "lMJm1C3xLJTGWO70Q03G7kIl3urQNPqLRN+OwTCMEqI38HngQaQoHfAKyhA5gvKwLruhArw/BJ5D\n",
       "roZtwAxUlHegP9EMwygUXyvOXVFR3kNRD5exaIHn38AzwNOocO0bFNaoK046ATsDE4B9UXuFsWhx\n",
       "6m2UcfQIUo7rPMloGEY7SEpIzmCkYEJFMwHojpTme6ha9+uo1/SHwTaf6JVnZ7TINByF3eyMqqyP\n",
       "AXZEynAz8AJS7M+gauLzI5bLMIwYSIqCzKYaKaMxSCHtHjzuTOMGW8tR24WVqBPjqmBbjaa2G4L9\n",
       "Mv+uAboEf3dFSrAXamHQJ3jsh5T2YNLf0WbU6uF1ZNlmPm4rxoc2DCNZJFVBNkd/ZNENB0YgJdYP\n",
       "KbdQwfVB1l3YjqAT6UWRTUjZgXrIbEWdAUMFGz4uRpbgAmSxLonwMxmGYRiGYRiGYRiGYRiGYRiG\n",
       "YRiGYRgA/w+/dgUu5XvOrwAAAABJRU5ErkJggg==\n",
       "\"/></div></td></tr><tr><td style=\"border-top:hidden;border-bottom:hidden;\"><div align=\"center\"><small>Learned Bayesian Network</small></div></td><td style=\"border-top:hidden;border-bottom:hidden;\"><div align=\"center\"><small>Markov blanket of 'Survived'</small></div></td></tr></table>"
      ],
      "text/plain": [
       "<IPython.core.display.HTML object>"
      ]
     },
     "metadata": {},
     "output_type": "display_data"
    }
   ],
   "source": [
    "gnb.sideBySide(bn, gum.MarkovBlanket(bn, 'Survived'), captions=[\"Learned Bayesian Network\", \"Markov blanket of 'Survived'\"])"
   ]
  },
  {
   "cell_type": "markdown",
   "metadata": {},
   "source": [
    "The Markov Blanket of the `Survived` variable tells us that we only need to observe all other variables except for `decade` in order to predict `Survived`. Not really usefull here but on larger Bayesian Networks it can save you a lot of time and CPU.\n",
    "\n",
    "So how to use this BayesNet we have learned as a classifier ? We simply infer the posterior the `Survive` variable given the set of evidence we are given, and if the passanger odds of survival are above some value he will be taged as a survivor.\n",
    "\n",
    "To compute the best value given the BayesNet and our training database, we can use the `showROC()` function."
   ]
  },
  {
   "cell_type": "code",
   "execution_count": 20,
   "metadata": {
    "ExecuteTime": {
     "end_time": "2018-09-11T07:53:57.937729Z",
     "start_time": "2018-09-11T07:53:56.752917Z"
    },
    "scrolled": true
   },
   "outputs": [
    {
     "name": "stdout",
     "output_type": "stream",
     "text": [
      " res/titanic/post_train.csv : [ ############################################## ] 100%\n",
      " result in res/titanic/post_train.csv-ROC_unnamed-Survived-1.png\n"
     ]
    },
    {
     "data": {
      "image/png": "[encoded data removed]",
      "text/plain": [
       "<Figure size 432x288 with 1 Axes>"
      ]
     },
     "metadata": {
      "needs_background": "light"
     },
     "output_type": "display_data"
    }
   ],
   "source": [
    "from pyAgrum.lib.bn2roc import showROC\n",
    "\n",
    "showROC(bn, os.path.join('res', 'titanic', 'post_train.csv'),'Survived',\"1\",True,True)"
   ]
  },
  {
   "cell_type": "code",
   "execution_count": 21,
   "metadata": {
    "ExecuteTime": {
     "end_time": "2018-09-11T07:53:58.306315Z",
     "start_time": "2018-09-11T07:53:57.940903Z"
    }
   },
   "outputs": [
    {
     "data": {
      "text/plain": [
       "True Positive     0.588517\n",
       "True Negative     0.351675\n",
       "False Negative    0.047847\n",
       "False Positive    0.011962\n",
       "dtype: float64"
      ]
     },
     "execution_count": 21,
     "metadata": {},
     "output_type": "execute_result"
    }
   ],
   "source": [
    "vars = [ var for var in ptestdf.keys() if var != \"Survived\" ]\n",
    "ie=gum.LazyPropagation(bn)\n",
    "testdf=pandas.read_csv(os.path.join('res', 'titanic', 'post_test.csv'))\n",
    "\n",
    "def init_belief():\n",
    "    # Initialize evidence\n",
    "    for var in vars:\n",
    "        ie.addEvidence(var, 0)\n",
    "\n",
    "def update_beliefs(row):\n",
    "    # Update beliefs from a given row less the Survived variable\n",
    "    for var in vars:\n",
    "        label = str(row.to_dict()[var])\n",
    "        idx = bn.variable(var).index(str(row.to_dict()[var]))\n",
    "        ie.chgEvidence(var, idx)\n",
    "    ie.makeInference()\n",
    "    \n",
    "def is_well_predicted(row):\n",
    "    update_beliefs(row)\n",
    "    marginal = ie.posterior('Survived')\n",
    "    outcome = row.to_dict()['Survived']\n",
    "    if outcome == 0: # Did not survived\n",
    "        if marginal.toarray()[1] < 0.46576681:\n",
    "            return \"True Positive\"\n",
    "        else:\n",
    "            return \"False Negative\"\n",
    "    else: # Survived\n",
    "        if marginal.toarray()[1] >= 0.46576681:\n",
    "            return \"True Negative\"\n",
    "        else:\n",
    "            return \"False Positive\"\n",
    "\n",
    "init_belief()\n",
    "ie.addTarget('Survived')\n",
    "\n",
    "result = testdf.apply(is_well_predicted, axis=1)\n",
    "\n",
    "result.value_counts(True)"
   ]
  },
  {
   "cell_type": "code",
   "execution_count": 22,
   "metadata": {
    "ExecuteTime": {
     "end_time": "2018-09-11T07:53:58.315822Z",
     "start_time": "2018-09-11T07:53:58.309554Z"
    }
   },
   "outputs": [
    {
     "name": "stdout",
     "output_type": "stream",
     "text": [
      "94.02% good predictions\n"
     ]
    }
   ],
   "source": [
    "positives = sum(result.map(lambda x: 1 if x.startswith(\"True\") else 0 ))\n",
    "total = result.count()\n",
    "print(\"{0:.2f}% good predictions\".format(positives/total*100))"
   ]
  },
  {
   "cell_type": "code",
   "execution_count": null,
   "metadata": {},
   "outputs": [],
   "source": []
  }
 ],
 "metadata": {
  "hide_input": false,
  "kernelspec": {
   "display_name": "Python 3",
   "language": "python",
   "name": "python3"
  },
  "language_info": {
   "codemirror_mode": {
    "name": "ipython",
    "version": 3
   },
   "file_extension": ".py",
   "mimetype": "text/x-python",
   "name": "python",
   "nbconvert_exporter": "python",
   "pygments_lexer": "ipython3",
   "version": "3.7.0"
  }
 },
 "nbformat": 4,
 "nbformat_minor": 2
}
