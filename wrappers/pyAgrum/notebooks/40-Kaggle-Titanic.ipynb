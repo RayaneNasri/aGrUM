{
 "cells": [
  {
   "cell_type": "markdown",
   "metadata": {},
   "source": [
    "# Titanic: Machine Learning from Disaster\n",
    "\n",
    "This notebook is an introduction to the [Kaggle titanic challenge](https://www.kaggle.com/c/titanic). The goal here is not to produce the best possible classifier, at least not yet, but to show how pyAgrum and Bayesian Networks can be used to easily and quickly explore and understand data.\n",
    "\n",
    "To undestand this notebook, basic knowledge of Bayesian Networks is required. If you are looking for an introduction to pyAgrum, check [this notebook](http://www-desir.lip6.fr/~phw/aGrUM/docs/last/notebooks/01-tutorial.ipynb.html).\n",
    "\n",
    "The notebook is split in four sections:\n",
    "1. Pretreatment: where we mangle with the data.\n",
    "2. Pre-learning: where we define our learning parameters.\n",
    "3. Learning: where we learn a Bayesian Network.\n",
    "4. Classification: where we use the Bayesian Network as a class ifier.\n",
    "\n",
    "Before we start, some notes about aGrUM and pyAgrum. \n",
    "\n",
    "**aGrUM** is a C++ library designed for easily building applications using graphical models such as Bayesian networks, influence diagrams, decision trees or Markov decision processes. \n",
    "\n",
    "**pyAgrum** is a Python wrapper for the C++ aGrUM library. It provides a high-level interface to the part of aGrUM allowing to create, handle and make computations into Bayesian Networks. The module mainly is an application of the [SWIG](http://www.swig.org/) interface generator. Custom-written code is added to simplify and extend the aGrUM API.\n",
    "\n",
    "Both projects are [open source](https://gitlab.com/agrumery/aGrUM/blob/master/LICENSE) and can be freely downloaded from [aGrUM's gitlab repository](https://gitlab.com/agrumery/aGrUM) or installed using [pip or anaconda](http://agrum.gitlab.io/pages/pyagrum.html).\n",
    "\n",
    "If you have questions, remarks or suggestions, feel free to ask us on [info@agrum.org](mailto:info@agrum.org)."
   ]
  },
  {
   "cell_type": "markdown",
   "metadata": {},
   "source": [
    "## Pretreatment\n",
    "We will be using [pandas](http://pandas.pydata.org/) to setup the learning data to fit with pyAgrum requirements."
   ]
  },
  {
   "cell_type": "code",
   "execution_count": 1,
   "metadata": {
    "collapsed": true
   },
   "outputs": [],
   "source": [
    "import pandas\n",
    "import os"
   ]
  },
  {
   "cell_type": "code",
   "execution_count": 2,
   "metadata": {
    "collapsed": true
   },
   "outputs": [],
   "source": [
    "traindf=pandas.read_csv(os.path.join('res', 'titanic', 'train.csv'))\n",
    "\n",
    "testdf=pandas.merge(pandas.read_csv(os.path.join('res', 'titanic', 'test.csv')),\n",
    "                    pandas.read_csv(os.path.join('res', 'titanic', 'gender_submission.csv')),\n",
    "                    on=\"PassengerId\")"
   ]
  },
  {
   "cell_type": "markdown",
   "metadata": {},
   "source": [
    "This merges both the test base and their respective classes, i.e. if a passagen has survived or not."
   ]
  },
  {
   "cell_type": "code",
   "execution_count": 3,
   "metadata": {},
   "outputs": [
    {
     "data": {
      "text/plain": [
       "PassengerId    66231.000000\n",
       "Survived           0.236772\n",
       "Pclass             0.699015\n",
       "Age              211.019125\n",
       "SibSp              1.216043\n",
       "Parch              0.649728\n",
       "Fare            2469.436846\n",
       "dtype: float64"
      ]
     },
     "execution_count": 3,
     "metadata": {},
     "output_type": "execute_result"
    }
   ],
   "source": [
    "traindf.var()"
   ]
  },
  {
   "cell_type": "code",
   "execution_count": 4,
   "metadata": {},
   "outputs": [
    {
     "name": "stdout",
     "output_type": "stream",
     "text": [
      "PassengerId: 891\n",
      "Survived: 2\n",
      "Pclass: 3\n",
      "Name: 891\n",
      "Sex: 2\n",
      "Age: 89\n",
      "SibSp: 7\n",
      "Parch: 7\n",
      "Ticket: 681\n",
      "Fare: 248\n",
      "Cabin: 148\n",
      "Embarked: 4\n"
     ]
    }
   ],
   "source": [
    "for k in traindf.keys():\n",
    "    print('{0}: {1}'.format(k, len(traindf[k].unique())))"
   ]
  },
  {
   "cell_type": "markdown",
   "metadata": {},
   "source": [
    "Looking at the number of unique values for each variable necessary since Bayesian Networks are discrete models. We will want to reduce the domain size of some discrete varaibles (like age) and discretize continuous variables (like Fare).\n",
    "\n",
    "For starters you can filter out variables with a large number of values. Choosing a large number will have an impact on performances, which boils down to how much CPU and RAM you have at your disposal. Here, we choose to filter out any variable with more than 10 different outcomes."
   ]
  },
  {
   "cell_type": "code",
   "execution_count": 5,
   "metadata": {},
   "outputs": [
    {
     "name": "stdout",
     "output_type": "stream",
     "text": [
      "Survived\n",
      "Pclass\n",
      "Sex\n",
      "SibSp\n",
      "Parch\n",
      "Embarked\n"
     ]
    }
   ],
   "source": [
    "for k in traindf.keys():\n",
    "    if len(traindf[k].unique())<=15:\n",
    "        print(k)"
   ]
  },
  {
   "cell_type": "markdown",
   "metadata": {},
   "source": [
    "This leaves us with 6 variables, not much but still enough to learn a Bayesian Network. Will just add one more variable by reducing the cardinality of the Age variable."
   ]
  },
  {
   "cell_type": "code",
   "execution_count": 6,
   "metadata": {},
   "outputs": [
    {
     "name": "stdout",
     "output_type": "stream",
     "text": [
      "decade: 10\n"
     ]
    }
   ],
   "source": [
    "import math\n",
    "\n",
    "def forAge(row):\n",
    "    if row['Age'] < 10:\n",
    "        return '<10'\n",
    "    elif math.isnan(row['Age']):\n",
    "        return \"nan\"\n",
    "    else:\n",
    "        dec = str(int(row['Age']/10))\n",
    "        return \"{0}0's\".format(dec)\n",
    "\n",
    "decade=traindf.apply(forAge, axis=1)\n",
    "print(\"decade: {1}\".format(k, len(decade.unique())))"
   ]
  },
  {
   "cell_type": "markdown",
   "metadata": {},
   "source": [
    "When pretreating data, you will want to wrap your changes inside a function, this will help you keep track of your changes and easily compare them."
   ]
  },
  {
   "cell_type": "code",
   "execution_count": 7,
   "metadata": {
    "collapsed": true
   },
   "outputs": [],
   "source": [
    "import math\n",
    "def pretreat(df):\n",
    "    # create a df with discrete variables (len<10)\n",
    "    lvd=[k for k in df.keys() if len(df[k].unique())<=15]\n",
    "    res=df[lvd].copy()\n",
    "    \n",
    "    forAge = lambda row: \"{0}0th\".format(int(row['Age']/10)) if not math.isnan(row['Age']) else str(\"nan\")\n",
    "    res['decade']=df.apply(forAge, axis=1)\n",
    "   \n",
    "    return res"
   ]
  },
  {
   "cell_type": "code",
   "execution_count": 8,
   "metadata": {
    "collapsed": true
   },
   "outputs": [],
   "source": [
    "ptraindf=pretreat(traindf)\n",
    "ptestdf=pretreat(testdf)"
   ]
  },
  {
   "cell_type": "markdown",
   "metadata": {},
   "source": [
    "We will need to save this intermediate learning database, since pyAgrum accepts only files as inputs."
   ]
  },
  {
   "cell_type": "code",
   "execution_count": 9,
   "metadata": {
    "collapsed": true
   },
   "outputs": [],
   "source": [
    "ptraindf.to_csv(os.path.join('res', 'titanic', 'post_train.csv'), index=False)\n",
    "ptestdf.to_csv(os.path.join('res', 'titanic', 'post_test.csv'), index=False)"
   ]
  },
  {
   "cell_type": "markdown",
   "metadata": {},
   "source": [
    "## Pre-learning\n",
    "Now we have two data files: `data/post_train.csv` and `data/post_test.csv`. The first one is our pretreated learning database, the second our pretreated test base.\n",
    "\n",
    "Before learning a Bayesian Network, we first need to create a template. This is not mandatory, however it is sometimes usefull since not all varaibles values are present in the learning base (in this example the number of relatives).\n",
    "\n",
    "If during the learning step, the algorithm encounters an unknown value it will raise an error. This would be an issue if we wanted to automitize our classifier but, we will directly use values working with the test and learning base. This is not ideal but the objective here it to explore the data fast, not thoroughly."
   ]
  },
  {
   "cell_type": "code",
   "execution_count": 10,
   "metadata": {
    "collapsed": true
   },
   "outputs": [],
   "source": [
    "import pyAgrum as gum\n",
    "import pyAgrum.lib.notebook as gnb"
   ]
  },
  {
   "cell_type": "markdown",
   "metadata": {},
   "source": [
    "To help creating de the template Bayesian Network that we will use to learn our classifier, let us firt recall all the variables wa have at our disposal."
   ]
  },
  {
   "cell_type": "code",
   "execution_count": 11,
   "metadata": {},
   "outputs": [
    {
     "name": "stdout",
     "output_type": "stream",
     "text": [
      "Survived : [0 1]\n",
      "Pclass : [3 1 2]\n",
      "Sex : ['male' 'female']\n",
      "SibSp : [1 0 3 4 2 5 8]\n",
      "Parch : [0 1 2 5 3 4 6]\n",
      "Embarked : ['S' 'C' 'Q' nan]\n",
      "decade : ['20th' '30th' nan '50th' '00th' '10th' '40th' '60th' '70th' '80th']\n"
     ]
    }
   ],
   "source": [
    "df = pandas.read_csv(os.path.join('res', 'titanic', 'post_train.csv'))\n",
    "for k in df.keys():\n",
    "    print(\"{} : {}\".format(k, df[k].unique()))"
   ]
  },
  {
   "cell_type": "markdown",
   "metadata": {},
   "source": [
    "From here, creating the BayesNet is straitforward: for each variable we either use the `RangeVariable` class or the `LabelizedVariable`.\n",
    "\n",
    "The `RangeVariable` class creates a discrete random variable over a range. With the `LabelizedVariable` you will need to add each label ony by one. Note however that you can pass an argument to create as much labels starting from `0`."
   ]
  },
  {
   "cell_type": "code",
   "execution_count": 12,
   "metadata": {},
   "outputs": [
    {
     "data": {
      "text/html": [
       "<svg height=\"21pt\" viewBox=\"0.00 0.00 288.00 20.89\" width=\"288pt\" xmlns=\"http://www.w3.org/2000/svg\" xmlns:xlink=\"http://www.w3.org/1999/xlink\">\n",
       "<g class=\"graph\" id=\"graph0\" transform=\"scale(.4747 .4747) rotate(0) translate(4 40)\">\n",
       "<title>G</title>\n",
       "<!-- Survived -->\n",
       "<g class=\"node\" id=\"node1\">\n",
       "<title>Survived</title>\n",
       "<g id=\"a_node1\"><a xlink:title=\"(0) Survived\">\n",
       "<ellipse cx=\"42.0392\" cy=\"-18\" fill=\"#444444\" rx=\"42.0784\" ry=\"18\" stroke=\"#000000\"/>\n",
       "<text fill=\"#ffffff\" font-family=\"Times,serif\" font-size=\"14.00\" text-anchor=\"middle\" x=\"42.0392\" y=\"-13.8\">Survived</text>\n",
       "</a>\n",
       "</g>\n",
       "</g>\n",
       "<!-- Pclass -->\n",
       "<g class=\"node\" id=\"node2\">\n",
       "<title>Pclass</title>\n",
       "<g id=\"a_node2\"><a xlink:title=\"(1) Pclass\">\n",
       "<ellipse cx=\"134.0392\" cy=\"-18\" fill=\"#444444\" rx=\"32.4324\" ry=\"18\" stroke=\"#000000\"/>\n",
       "<text fill=\"#ffffff\" font-family=\"Times,serif\" font-size=\"14.00\" text-anchor=\"middle\" x=\"134.0392\" y=\"-13.8\">Pclass</text>\n",
       "</a>\n",
       "</g>\n",
       "</g>\n",
       "<!-- Sex -->\n",
       "<g class=\"node\" id=\"node3\">\n",
       "<title>Sex</title>\n",
       "<g id=\"a_node3\"><a xlink:title=\"(2) Sex\">\n",
       "<ellipse cx=\"211.0392\" cy=\"-18\" fill=\"#444444\" rx=\"27\" ry=\"18\" stroke=\"#000000\"/>\n",
       "<text fill=\"#ffffff\" font-family=\"Times,serif\" font-size=\"14.00\" text-anchor=\"middle\" x=\"211.0392\" y=\"-13.8\">Sex</text>\n",
       "</a>\n",
       "</g>\n",
       "</g>\n",
       "<!-- SibSp -->\n",
       "<g class=\"node\" id=\"node4\">\n",
       "<title>SibSp</title>\n",
       "<g id=\"a_node4\"><a xlink:title=\"(3) SibSp\">\n",
       "<ellipse cx=\"287.0392\" cy=\"-18\" fill=\"#444444\" rx=\"31.4897\" ry=\"18\" stroke=\"#000000\"/>\n",
       "<text fill=\"#ffffff\" font-family=\"Times,serif\" font-size=\"14.00\" text-anchor=\"middle\" x=\"287.0392\" y=\"-13.8\">SibSp</text>\n",
       "</a>\n",
       "</g>\n",
       "</g>\n",
       "<!-- Parch -->\n",
       "<g class=\"node\" id=\"node5\">\n",
       "<title>Parch</title>\n",
       "<g id=\"a_node5\"><a xlink:title=\"(4) Parch\">\n",
       "<ellipse cx=\"366.0392\" cy=\"-18\" fill=\"#444444\" rx=\"30.4862\" ry=\"18\" stroke=\"#000000\"/>\n",
       "<text fill=\"#ffffff\" font-family=\"Times,serif\" font-size=\"14.00\" text-anchor=\"middle\" x=\"366.0392\" y=\"-13.8\">Parch</text>\n",
       "</a>\n",
       "</g>\n",
       "</g>\n",
       "<!-- Embarked -->\n",
       "<g class=\"node\" id=\"node6\">\n",
       "<title>Embarked</title>\n",
       "<g id=\"a_node6\"><a xlink:title=\"(5) Embarked\">\n",
       "<ellipse cx=\"461.0392\" cy=\"-18\" fill=\"#444444\" rx=\"46.3959\" ry=\"18\" stroke=\"#000000\"/>\n",
       "<text fill=\"#ffffff\" font-family=\"Times,serif\" font-size=\"14.00\" text-anchor=\"middle\" x=\"461.0392\" y=\"-13.8\">Embarked</text>\n",
       "</a>\n",
       "</g>\n",
       "</g>\n",
       "<!-- Decade -->\n",
       "<g class=\"node\" id=\"node7\">\n",
       "<title>Decade</title>\n",
       "<g id=\"a_node7\"><a xlink:title=\"(6) Decade\">\n",
       "<ellipse cx=\"562.0392\" cy=\"-18\" fill=\"#444444\" rx=\"36.7316\" ry=\"18\" stroke=\"#000000\"/>\n",
       "<text fill=\"#ffffff\" font-family=\"Times,serif\" font-size=\"14.00\" text-anchor=\"middle\" x=\"562.0392\" y=\"-13.8\">Decade</text>\n",
       "</a>\n",
       "</g>\n",
       "</g>\n",
       "</g>\n",
       "</svg>"
      ],
      "text/plain": [
       "<IPython.core.display.HTML object>"
      ]
     },
     "metadata": {},
     "output_type": "display_data"
    }
   ],
   "source": [
    "template=gum.BayesNet()\n",
    "template.add(gum.RangeVariable(\"Survived\", \"Survived\",0,1))\n",
    "template.add(gum.RangeVariable(\"Pclass\", \"Pclass\",1,3))\n",
    "template.add(gum.LabelizedVariable(\"Sex\", \"Sex\",0).addLabel(\"female\").addLabel(\"male\"))\n",
    "template.add(gum.RangeVariable(\"SibSp\", \"SibSp\",0,8))\n",
    "template.add(gum.RangeVariable(\"Parch\", \"Parch\",0,9))\n",
    "template.add(gum.LabelizedVariable(\"Embarked\", \"Embarked\",0).addLabel('').addLabel('C').addLabel('Q').addLabel('S'))\n",
    "template.add(gum.LabelizedVariable(\"Decade\", \"Calculated decade\", 10).addLabel(''))\n",
    "gnb.showBN(template)"
   ]
  },
  {
   "cell_type": "markdown",
   "metadata": {},
   "source": [
    "You can also let the learning algorithm create the BayesNet random variables. However please be aware that the algorithm will no be able to handle values absent from the learning database."
   ]
  },
  {
   "cell_type": "markdown",
   "metadata": {},
   "source": [
    "## Learning\n",
    "\n",
    "We can now learn our first Bayesian Network. As you will see, this is really easy."
   ]
  },
  {
   "cell_type": "code",
   "execution_count": 13,
   "metadata": {
    "scrolled": false
   },
   "outputs": [
    {
     "data": {
      "text/html": [
       "<svg height=\"288pt\" viewBox=\"0.00 0.00 145.75 288.00\" width=\"146pt\" xmlns=\"http://www.w3.org/2000/svg\" xmlns:xlink=\"http://www.w3.org/1999/xlink\">\n",
       "<g class=\"graph\" id=\"graph0\" transform=\"scale(.7129 .7129) rotate(0) translate(4 400)\">\n",
       "<title>G</title>\n",
       "<!-- Survived -->\n",
       "<g class=\"node\" id=\"node1\">\n",
       "<title>Survived</title>\n",
       "<g id=\"a_node1\"><a xlink:title=\"(0) Survived\">\n",
       "<ellipse cx=\"82.2155\" cy=\"-162\" fill=\"#444444\" rx=\"42.0784\" ry=\"18\" stroke=\"#000000\"/>\n",
       "<text fill=\"#ffffff\" font-family=\"Times,serif\" font-size=\"14.00\" text-anchor=\"middle\" x=\"82.2155\" y=\"-157.8\">Survived</text>\n",
       "</a>\n",
       "</g>\n",
       "</g>\n",
       "<!-- Pclass -->\n",
       "<g class=\"node\" id=\"node2\">\n",
       "<title>Pclass</title>\n",
       "<g id=\"a_node2\"><a xlink:title=\"(1) Pclass\">\n",
       "<ellipse cx=\"32.2155\" cy=\"-18\" fill=\"#444444\" rx=\"32.4324\" ry=\"18\" stroke=\"#000000\"/>\n",
       "<text fill=\"#ffffff\" font-family=\"Times,serif\" font-size=\"14.00\" text-anchor=\"middle\" x=\"32.2155\" y=\"-13.8\">Pclass</text>\n",
       "</a>\n",
       "</g>\n",
       "</g>\n",
       "<!-- Survived&#45;&gt;Pclass -->\n",
       "<g class=\"edge\" id=\"edge4\">\n",
       "<title>Survived-&gt;Pclass</title>\n",
       "<g id=\"a_edge4\"><a xlink:title=\"(0, 1) : \">\n",
       "<path d=\"M54.857,-148.2463C39.8718,-139.0874 22.6712,-125.5125 14.2155,-108 4.5839,-88.0522 10.7206,-63.2296 18.3406,-44.7087\" fill=\"none\" stroke=\"#000000\"/>\n",
       "<polygon fill=\"#000000\" points=\"21.6171,-45.9555 22.5098,-35.3983 15.2284,-43.0946 21.6171,-45.9555\" stroke=\"#000000\"/>\n",
       "</a>\n",
       "</g>\n",
       "</g>\n",
       "<!-- SibSp -->\n",
       "<g class=\"node\" id=\"node4\">\n",
       "<title>SibSp</title>\n",
       "<g id=\"a_node4\"><a xlink:title=\"(3) SibSp\">\n",
       "<ellipse cx=\"165.2155\" cy=\"-90\" fill=\"#444444\" rx=\"31.4897\" ry=\"18\" stroke=\"#000000\"/>\n",
       "<text fill=\"#ffffff\" font-family=\"Times,serif\" font-size=\"14.00\" text-anchor=\"middle\" x=\"165.2155\" y=\"-85.8\">SibSp</text>\n",
       "</a>\n",
       "</g>\n",
       "</g>\n",
       "<!-- Survived&#45;&gt;SibSp -->\n",
       "<g class=\"edge\" id=\"edge6\">\n",
       "<title>Survived-&gt;SibSp</title>\n",
       "<g id=\"a_edge6\"><a xlink:title=\"(0, 3) : \">\n",
       "<path d=\"M101.0495,-145.6621C112.5845,-135.6558 127.4896,-122.726 140.0306,-111.8471\" fill=\"none\" stroke=\"#000000\"/>\n",
       "<polygon fill=\"#000000\" points=\"142.6108,-114.2423 147.8712,-105.0456 138.0238,-108.9545 142.6108,-114.2423\" stroke=\"#000000\"/>\n",
       "</a>\n",
       "</g>\n",
       "</g>\n",
       "<!-- Embarked -->\n",
       "<g class=\"node\" id=\"node6\">\n",
       "<title>Embarked</title>\n",
       "<g id=\"a_node6\"><a xlink:title=\"(5) Embarked\">\n",
       "<ellipse cx=\"69.2155\" cy=\"-90\" fill=\"#444444\" rx=\"46.3959\" ry=\"18\" stroke=\"#000000\"/>\n",
       "<text fill=\"#ffffff\" font-family=\"Times,serif\" font-size=\"14.00\" text-anchor=\"middle\" x=\"69.2155\" y=\"-85.8\">Embarked</text>\n",
       "</a>\n",
       "</g>\n",
       "</g>\n",
       "<!-- Survived&#45;&gt;Embarked -->\n",
       "<g class=\"edge\" id=\"edge3\">\n",
       "<title>Survived-&gt;Embarked</title>\n",
       "<g id=\"a_edge3\"><a xlink:title=\"(0, 5) : \">\n",
       "<path d=\"M78.935,-143.8314C77.5447,-136.131 75.8914,-126.9743 74.3463,-118.4166\" fill=\"none\" stroke=\"#000000\"/>\n",
       "<polygon fill=\"#000000\" points=\"77.7613,-117.6322 72.5401,-108.4133 70.8727,-118.8761 77.7613,-117.6322\" stroke=\"#000000\"/>\n",
       "</a>\n",
       "</g>\n",
       "</g>\n",
       "<!-- Sex -->\n",
       "<g class=\"node\" id=\"node3\">\n",
       "<title>Sex</title>\n",
       "<g id=\"a_node3\"><a xlink:title=\"(2) Sex\">\n",
       "<ellipse cx=\"93.2155\" cy=\"-234\" fill=\"#444444\" rx=\"27\" ry=\"18\" stroke=\"#000000\"/>\n",
       "<text fill=\"#ffffff\" font-family=\"Times,serif\" font-size=\"14.00\" text-anchor=\"middle\" x=\"93.2155\" y=\"-229.8\">Sex</text>\n",
       "</a>\n",
       "</g>\n",
       "</g>\n",
       "<!-- Sex&#45;&gt;Survived -->\n",
       "<g class=\"edge\" id=\"edge7\">\n",
       "<title>Sex-&gt;Survived</title>\n",
       "<g id=\"a_edge7\"><a xlink:title=\"(2, 0) : \">\n",
       "<path d=\"M90.4397,-215.8314C89.2633,-208.131 87.8643,-198.9743 86.5569,-190.4166\" fill=\"none\" stroke=\"#000000\"/>\n",
       "<polygon fill=\"#000000\" points=\"89.9988,-189.7699 85.0286,-180.4133 83.0791,-190.8272 89.9988,-189.7699\" stroke=\"#000000\"/>\n",
       "</a>\n",
       "</g>\n",
       "</g>\n",
       "<!-- Parch -->\n",
       "<g class=\"node\" id=\"node5\">\n",
       "<title>Parch</title>\n",
       "<g id=\"a_node5\"><a xlink:title=\"(4) Parch\">\n",
       "<ellipse cx=\"120.2155\" cy=\"-306\" fill=\"#444444\" rx=\"30.4862\" ry=\"18\" stroke=\"#000000\"/>\n",
       "<text fill=\"#ffffff\" font-family=\"Times,serif\" font-size=\"14.00\" text-anchor=\"middle\" x=\"120.2155\" y=\"-301.8\">Parch</text>\n",
       "</a>\n",
       "</g>\n",
       "</g>\n",
       "<!-- Parch&#45;&gt;Sex -->\n",
       "<g class=\"edge\" id=\"edge8\">\n",
       "<title>Parch-&gt;Sex</title>\n",
       "<g id=\"a_edge8\"><a xlink:title=\"(4, 2) : \">\n",
       "<path d=\"M113.5413,-288.2022C110.4679,-280.0064 106.7539,-270.1024 103.3459,-261.0145\" fill=\"none\" stroke=\"#000000\"/>\n",
       "<polygon fill=\"#000000\" points=\"106.6013,-259.7274 99.8129,-251.593 100.047,-262.1853 106.6013,-259.7274\" stroke=\"#000000\"/>\n",
       "</a>\n",
       "</g>\n",
       "</g>\n",
       "<!-- Parch&#45;&gt;SibSp -->\n",
       "<g class=\"edge\" id=\"edge1\">\n",
       "<title>Parch-&gt;SibSp</title>\n",
       "<g id=\"a_edge1\"><a xlink:title=\"(4, 3) : \">\n",
       "<path d=\"M123.9748,-287.9555C131.8167,-250.3144 149.9683,-163.1867 159.3562,-118.1246\" fill=\"none\" stroke=\"#000000\"/>\n",
       "<polygon fill=\"#000000\" points=\"162.8221,-118.6487 161.4353,-108.1451 155.9692,-117.221 162.8221,-118.6487\" stroke=\"#000000\"/>\n",
       "</a>\n",
       "</g>\n",
       "</g>\n",
       "<!-- Embarked&#45;&gt;Pclass -->\n",
       "<g class=\"edge\" id=\"edge2\">\n",
       "<title>Embarked-&gt;Pclass</title>\n",
       "<g id=\"a_edge2\"><a xlink:title=\"(5, 1) : \">\n",
       "<path d=\"M60.0694,-72.2022C55.7811,-63.8574 50.5827,-53.7417 45.8437,-44.5197\" fill=\"none\" stroke=\"#000000\"/>\n",
       "<polygon fill=\"#000000\" points=\"48.8124,-42.6391 41.1287,-35.3446 42.5864,-45.8387 48.8124,-42.6391\" stroke=\"#000000\"/>\n",
       "</a>\n",
       "</g>\n",
       "</g>\n",
       "<!-- decade -->\n",
       "<g class=\"node\" id=\"node7\">\n",
       "<title>decade</title>\n",
       "<g id=\"a_node7\"><a xlink:title=\"(6) decade\">\n",
       "<ellipse cx=\"120.2155\" cy=\"-378\" fill=\"#444444\" rx=\"34.8024\" ry=\"18\" stroke=\"#000000\"/>\n",
       "<text fill=\"#ffffff\" font-family=\"Times,serif\" font-size=\"14.00\" text-anchor=\"middle\" x=\"120.2155\" y=\"-373.8\">decade</text>\n",
       "</a>\n",
       "</g>\n",
       "</g>\n",
       "<!-- decade&#45;&gt;Parch -->\n",
       "<g class=\"edge\" id=\"edge5\">\n",
       "<title>decade-&gt;Parch</title>\n",
       "<g id=\"a_edge5\"><a xlink:title=\"(6, 4) : \">\n",
       "<path d=\"M120.2155,-359.8314C120.2155,-352.131 120.2155,-342.9743 120.2155,-334.4166\" fill=\"none\" stroke=\"#000000\"/>\n",
       "<polygon fill=\"#000000\" points=\"123.7156,-334.4132 120.2155,-324.4133 116.7156,-334.4133 123.7156,-334.4132\" stroke=\"#000000\"/>\n",
       "</a>\n",
       "</g>\n",
       "</g>\n",
       "</g>\n",
       "</svg>"
      ],
      "text/plain": [
       "<pyAgrum.pyAgrum.BayesNet_double; proxy of <Swig Object of type 'gum::BayesNet< double > *' at 0x1149cdf60> >"
      ]
     },
     "execution_count": 13,
     "metadata": {},
     "output_type": "execute_result"
    }
   ],
   "source": [
    "learner = gum.BNLearner(os.path.join('res', 'titanic', 'post_train.csv'), template)\n",
    "bn = learner.learnBN()\n",
    "bn"
   ]
  },
  {
   "cell_type": "markdown",
   "metadata": {},
   "source": [
    "In a notebook, a Bayesian Network will automatically be shown graphically, you can also use the helper function `gnb.showBN(bn)`."
   ]
  },
  {
   "cell_type": "markdown",
   "metadata": {},
   "source": [
    "## Exploring the data\n",
    "Now that we have a BayesNet, we can start looking how the variables corelate with each other. pyAgum offer the perfect tool for that: the information graph."
   ]
  },
  {
   "cell_type": "code",
   "execution_count": 14,
   "metadata": {},
   "outputs": [
    {
     "data": {
      "text/html": [
       "<div align='center'><svg height=\"404pt\" viewBox=\"0.00 0.00 204.46 404.00\" width=\"204pt\" xmlns=\"http://www.w3.org/2000/svg\" xmlns:xlink=\"http://www.w3.org/1999/xlink\">\n",
       "<g class=\"graph\" id=\"graph0\" transform=\"scale(1 1) rotate(0) translate(4 400)\">\n",
       "<title>G</title>\n",
       "<!-- Survived -->\n",
       "<g class=\"node\" id=\"node1\">\n",
       "<title>Survived</title>\n",
       "<g id=\"a_node1\"><a xlink:title=\"(0) Survived : 0.96080\">\n",
       "<ellipse cx=\"82.2155\" cy=\"-162\" fill=\"#4e0305\" rx=\"42.0784\" ry=\"18\" stroke=\"#000000\"/>\n",
       "<text fill=\"#ffffff\" font-family=\"Times,serif\" font-size=\"14.00\" text-anchor=\"middle\" x=\"82.2155\" y=\"-157.8\">Survived</text>\n",
       "</a>\n",
       "</g>\n",
       "</g>\n",
       "<!-- Pclass -->\n",
       "<g class=\"node\" id=\"node2\">\n",
       "<title>Pclass</title>\n",
       "<g id=\"a_node2\"><a xlink:title=\"(1) Pclass : 1.43964\">\n",
       "<ellipse cx=\"32.2155\" cy=\"-18\" fill=\"#622a47\" rx=\"32.4324\" ry=\"18\" stroke=\"#000000\"/>\n",
       "<text fill=\"#ffffff\" font-family=\"Times,serif\" font-size=\"14.00\" text-anchor=\"middle\" x=\"32.2155\" y=\"-13.8\">Pclass</text>\n",
       "</a>\n",
       "</g>\n",
       "</g>\n",
       "<!-- Survived&#45;&gt;Pclass -->\n",
       "<g class=\"edge\" id=\"edge4\">\n",
       "<title>Survived-&gt;Pclass</title>\n",
       "<g id=\"a_edge4\"><a xlink:title=\"(0, 1) : 0.08367924601191316\">\n",
       "<path d=\"M54.857,-148.2463C39.8718,-139.0874 22.6712,-125.5125 14.2155,-108 4.5839,-88.0522 10.7206,-63.2296 18.3406,-44.7087\" fill=\"none\" stroke=\"#000000\" stroke-width=\"1.6532\"/>\n",
       "<polygon fill=\"#000000\" points=\"21.6171,-45.9555 22.5098,-35.3983 15.2284,-43.0946 21.6171,-45.9555\" stroke=\"#000000\" stroke-width=\"1.6532\"/>\n",
       "</a>\n",
       "</g>\n",
       "</g>\n",
       "<!-- SibSp -->\n",
       "<g class=\"node\" id=\"node4\">\n",
       "<title>SibSp</title>\n",
       "<g id=\"a_node4\"><a xlink:title=\"(3) SibSp : 1.36568\">\n",
       "<ellipse cx=\"165.2155\" cy=\"-90\" fill=\"#5f243d\" rx=\"31.4897\" ry=\"18\" stroke=\"#000000\"/>\n",
       "<text fill=\"#ffffff\" font-family=\"Times,serif\" font-size=\"14.00\" text-anchor=\"middle\" x=\"165.2155\" y=\"-85.8\">SibSp</text>\n",
       "</a>\n",
       "</g>\n",
       "</g>\n",
       "<!-- Survived&#45;&gt;SibSp -->\n",
       "<g class=\"edge\" id=\"edge6\">\n",
       "<title>Survived-&gt;SibSp</title>\n",
       "<g id=\"a_edge6\"><a xlink:title=\"(0, 3) : 0.029468123609304054\">\n",
       "<path d=\"M101.0495,-145.6621C112.5845,-135.6558 127.4896,-122.726 140.0306,-111.8471\" fill=\"none\" stroke=\"#000000\" stroke-width=\".2534\"/>\n",
       "<polygon fill=\"#000000\" points=\"142.6108,-114.2423 147.8712,-105.0456 138.0238,-108.9545 142.6108,-114.2423\" stroke=\"#000000\" stroke-width=\".2534\"/>\n",
       "</a>\n",
       "</g>\n",
       "</g>\n",
       "<!-- Embarked -->\n",
       "<g class=\"node\" id=\"node6\">\n",
       "<title>Embarked</title>\n",
       "<g id=\"a_node6\"><a xlink:title=\"(5) Embarked : 1.12038\">\n",
       "<ellipse cx=\"69.2155\" cy=\"-90\" fill=\"#54101b\" rx=\"46.3959\" ry=\"18\" stroke=\"#000000\"/>\n",
       "<text fill=\"#ffffff\" font-family=\"Times,serif\" font-size=\"14.00\" text-anchor=\"middle\" x=\"69.2155\" y=\"-85.8\">Embarked</text>\n",
       "</a>\n",
       "</g>\n",
       "</g>\n",
       "<!-- Survived&#45;&gt;Embarked -->\n",
       "<g class=\"edge\" id=\"edge3\">\n",
       "<title>Survived-&gt;Embarked</title>\n",
       "<g id=\"a_edge3\"><a xlink:title=\"(0, 5) : 0.023529301398958563\">\n",
       "<path d=\"M78.935,-143.8314C77.5447,-136.131 75.8914,-126.9743 74.3463,-118.4166\" fill=\"none\" stroke=\"#000000\" stroke-width=\".1\"/>\n",
       "<polygon fill=\"#000000\" points=\"77.7613,-117.6322 72.5401,-108.4133 70.8727,-118.8761 77.7613,-117.6322\" stroke=\"#000000\" stroke-width=\".1\"/>\n",
       "</a>\n",
       "</g>\n",
       "</g>\n",
       "<!-- Sex -->\n",
       "<g class=\"node\" id=\"node3\">\n",
       "<title>Sex</title>\n",
       "<g id=\"a_node3\"><a xlink:title=\"(2) Sex : 0.93635\">\n",
       "<ellipse cx=\"93.2155\" cy=\"-234\" fill=\"#4d0102\" rx=\"27\" ry=\"18\" stroke=\"#000000\"/>\n",
       "<text fill=\"#ffffff\" font-family=\"Times,serif\" font-size=\"14.00\" text-anchor=\"middle\" x=\"93.2155\" y=\"-229.8\">Sex</text>\n",
       "</a>\n",
       "</g>\n",
       "</g>\n",
       "<!-- Sex&#45;&gt;Survived -->\n",
       "<g class=\"edge\" id=\"edge7\">\n",
       "<title>Sex-&gt;Survived</title>\n",
       "<g id=\"a_edge7\"><a xlink:title=\"(2, 0) : 0.21715541239879504\">\n",
       "<path d=\"M90.4397,-215.8314C89.2633,-208.131 87.8643,-198.9743 86.5569,-190.4166\" fill=\"none\" stroke=\"#000000\" stroke-width=\"5.1\"/>\n",
       "<polygon fill=\"#000000\" points=\"90.9503,-189.6246 85.0286,-180.4133 82.1276,-190.9726 90.9503,-189.6246\" stroke=\"#000000\" stroke-width=\"5.1\"/>\n",
       "</a>\n",
       "</g>\n",
       "</g>\n",
       "<!-- Parch -->\n",
       "<g class=\"node\" id=\"node5\">\n",
       "<title>Parch</title>\n",
       "<g id=\"a_node5\"><a xlink:title=\"(4) Parch : 1.13637\">\n",
       "<ellipse cx=\"120.2155\" cy=\"-306\" fill=\"#55111d\" rx=\"30.4862\" ry=\"18\" stroke=\"#000000\"/>\n",
       "<text fill=\"#ffffff\" font-family=\"Times,serif\" font-size=\"14.00\" text-anchor=\"middle\" x=\"120.2155\" y=\"-301.8\">Parch</text>\n",
       "</a>\n",
       "</g>\n",
       "</g>\n",
       "<!-- Parch&#45;&gt;Sex -->\n",
       "<g class=\"edge\" id=\"edge8\">\n",
       "<title>Parch-&gt;Sex</title>\n",
       "<g id=\"a_edge8\"><a xlink:title=\"(4, 2) : 0.04722893829511968\">\n",
       "<path d=\"M113.5413,-288.2022C110.4679,-280.0064 106.7539,-270.1024 103.3459,-261.0145\" fill=\"none\" stroke=\"#000000\" stroke-width=\".712\"/>\n",
       "<polygon fill=\"#000000\" points=\"106.6013,-259.7274 99.8129,-251.593 100.047,-262.1853 106.6013,-259.7274\" stroke=\"#000000\" stroke-width=\".712\"/>\n",
       "</a>\n",
       "</g>\n",
       "</g>\n",
       "<!-- Parch&#45;&gt;SibSp -->\n",
       "<g class=\"edge\" id=\"edge1\">\n",
       "<title>Parch-&gt;SibSp</title>\n",
       "<g id=\"a_edge1\"><a xlink:title=\"(4, 3) : 0.21195371835758875\">\n",
       "<path d=\"M123.9748,-287.9555C131.8167,-250.3144 149.9683,-163.1867 159.3562,-118.1246\" fill=\"none\" stroke=\"#000000\" stroke-width=\"4.9657\"/>\n",
       "<polygon fill=\"#000000\" points=\"163.6493,-118.8211 161.4353,-108.1451 155.142,-117.0487 163.6493,-118.8211\" stroke=\"#000000\" stroke-width=\"4.9657\"/>\n",
       "</a>\n",
       "</g>\n",
       "</g>\n",
       "<!-- Embarked&#45;&gt;Pclass -->\n",
       "<g class=\"edge\" id=\"edge2\">\n",
       "<title>Embarked-&gt;Pclass</title>\n",
       "<g id=\"a_edge2\"><a xlink:title=\"(5, 1) : 0.10523655617315925\">\n",
       "<path d=\"M60.0694,-72.2022C55.7811,-63.8574 50.5827,-53.7417 45.8437,-44.5197\" fill=\"none\" stroke=\"#000000\" stroke-width=\"2.2099\"/>\n",
       "<polygon fill=\"#000000\" points=\"48.8124,-42.6391 41.1287,-35.3446 42.5864,-45.8387 48.8124,-42.6391\" stroke=\"#000000\" stroke-width=\"2.2099\"/>\n",
       "</a>\n",
       "</g>\n",
       "</g>\n",
       "<!-- decade -->\n",
       "<g class=\"node\" id=\"node7\">\n",
       "<title>decade</title>\n",
       "<g id=\"a_node7\"><a xlink:title=\"(6) decade : 2.77848\">\n",
       "<ellipse cx=\"120.2155\" cy=\"-378\" fill=\"#9898fd\" rx=\"34.8024\" ry=\"18\" stroke=\"#000000\"/>\n",
       "<text fill=\"#000000\" font-family=\"Times,serif\" font-size=\"14.00\" text-anchor=\"middle\" x=\"120.2155\" y=\"-373.8\">decade</text>\n",
       "</a>\n",
       "</g>\n",
       "</g>\n",
       "<!-- decade&#45;&gt;Parch -->\n",
       "<g class=\"edge\" id=\"edge5\">\n",
       "<title>decade-&gt;Parch</title>\n",
       "<g id=\"a_edge5\"><a xlink:title=\"(6, 4) : 0.20931313785886452\">\n",
       "<path d=\"M120.2155,-359.8314C120.2155,-352.131 120.2155,-342.9743 120.2155,-334.4166\" fill=\"none\" stroke=\"#000000\" stroke-width=\"4.8975\"/>\n",
       "<polygon fill=\"#000000\" points=\"124.5009,-334.4132 120.2155,-324.4133 115.9303,-334.4133 124.5009,-334.4132\" stroke=\"#000000\" stroke-width=\"4.8975\"/>\n",
       "</a>\n",
       "</g>\n",
       "</g>\n",
       "</g>\n",
       "</svg></div><div align='center'><font color='#4d0102'>0.9363497953477022</font><img style='vertical-align:middle' src='data:image/png;base64,iVBORw0KGgoAAAANSUhEUgAAAhsAAABRCAYAAAB7e2SeAAAABHNCSVQICAgIfAhkiAAAAAlwSFlz\n",
       "AAALEgAACxIB0t1+/AAACKRJREFUeJzt3X+IZWUdx/H3J1dJy2p1s8wf/QAhCsyWEDWzLcJMCPsF\n",
       "GWYmURYUWRRIf5jmPxFRUGASJbJhCqWuVv4EhSRTUlt31S01WUyTZDXUtaVll29/3DPbbfbembOz\n",
       "98ydnfN+wTD3Ps9zz33O9z7zne+cc+eeVBWSJEldedm0JyBJkpY3iw1JktQpiw1JktQpiw1JktQp\n",
       "iw1JktQpiw1JktQpiw1JktQpiw1JktQpiw1JktSpFXsy+LCkts87Kq2aM27cXA+e9yFzD9jVm7bP\n",
       "3W5fWkysGTWZ/fjfsAXEcPa9Be7L0n1N9mw77R62ODHZfS4LjMnYh01hnS70ddnb555QDHd/9Hzb\n",
       "m+xrMRg6a622fe6xzQuLyfjXZNL5au79yHzj2mxzQvsy7ddk4TFp+zM+/6Annrjvlqo6bb6t7FGx\n",
       "sR04ZdeCmZnsTND///7Y9l3JZHb73m9zV39nc1zq29sX5rjUt7f32+zbOtx9f5feHPe97e0Lc1xa\n",
       "2+vjOpx0rllIDM87L6towdMokiSpUxYbkiSpUxYbkiSpUxYbkiSpUxYbkiSpUxYbkiSpUxYbkiSp\n",
       "UxYbkiSpUxYbkiSpUxYbkiSpUxYbkiSpUxYbkiSpUxYbkiSpUxYbkiSpUxYbkiSpUxYbkiSpUxYb\n",
       "kiSpUxYbkiSpUxYbkiSpUxYbkiSpUxYbkiSpUxYbkiSpUxYbkiSpUxYbkiSpUxYbkiSpUxYbkiSp\n",
       "UxYbkiSpUxYbkiSpUxYbkiSpUxYbkiSpUxYbkiSpU6mq9oOTm4FVE3jeVcCWCWxnuTEuoxmX8YzN\n",
       "aMZlNOMynrEZbb64bKmq0+bbyB4VG5OS5N6qeteiP/ESZ1xGMy7jGZvRjMtoxmU8YzPapOLiaRRJ\n",
       "ktQpiw1JktSpaRUbP53S8y51xmU04zKesRnNuIxmXMYzNqNNJC5Tec+GJEnqD0+jSJKkTk202Ehy\n",
       "eZJnkjw4pj9JfpTksSQbkqwe6jsnyaPN1zmTnNe0tYjLWU08Nia5K8k7hvo2N+3rk9y7eLPuXou4\n",
       "rEnyfLPv65NcONR3WpK/NmvpgsWb9eJoEZtvDsXlwSQ7kxzS9C3nNXNUkjuSPJzkoSRfHTGmd3mm\n",
       "ZVx6l2daxqWXeaZlbCaXZ6pqYl/AKcBq4MEx/acDNwEBTgDuadoPAR5vvq9sbq+c5Nym+dUiLifN\n",
       "7C/woZm4NPc3A6umvQ9Tissa4Lcj2vcD/ga8BTgAeAB427T3ZzFjM2vsh4Hbe7JmDgdWN7cPBh6Z\n",
       "/dr3Mc+0jEvv8kzLuPQyz7SJzazxe5VnJnpko6p+Dzw3x5AzgLU1cDfwmiSHAx8Ebquq56rqX8Bt\n",
       "wLwfErKvmC8uVXVXs98AdwNHLsrEpqzFehnneOCxqnq8qrYDVzNYW8vGHsbmU8BVHU5nyaiqp6vq\n",
       "/ub2i8Am4IhZw3qXZ9rEpY95puV6GWdZ55kFxGav8sxiv2fjCODvQ/efbNrGtffR5xj8VTajgFuT\n",
       "3JfkC1Oa0zSdmOSBJDcleXvT5nppJDmIwS/Ma4aae7FmkrwJeCdwz6yuXueZOeIyrHd5Zp649DrP\n",
       "zLdmJpFnVuz9NDUpSd7HIAmcPNR8clU9leQw4LYkf2n+6u2D+4E3VtXWJKcD64BjpjynpebDwB+q\n",
       "avgoyLJfM0leySDxnV9VL0x7PktFm7j0Mc/ME5de55mWP0t7nWcW+8jGU8BRQ/ePbNrGtfdGkmOB\n",
       "nwFnVNWzM+1V9VTz/RngOgaH9nqhql6oqq3N7RuB/ZOswvUy7ExmHdpc7msmyf4MkuOVVXXtiCG9\n",
       "zDMt4tLLPDNfXPqcZ9qsmcZe55nFLjZuAD7TvFv8BOD5qnoauAU4NcnKJCuBU5u2XkhyNHAtcHZV\n",
       "PTLU/ookB8/cZhCXkf+dsBwleX2SNLePZ7BenwX+BByT5M1JDmDwg3DD9GY6HUleDbwXuH6obVmv\n",
       "mWY9/BzYVFU/GDOsd3mmTVz6mGdaxqWXeablz9LE8sxET6MkuYrBO3tXJXkS+DawP0BVXQbcyOCd\n",
       "4o8B/wbObfqeS3IJgxcX4DuzDtfs01rE5ULgUODSZs3vqMGFb14HXNe0rQB+WVU3L/oOdKRFXD4B\n",
       "fCnJDmAbcGYN3ga9I8mXGfyi2A+4vKoemsIudKZFbAA+CtxaVS8NPXRZrxng3cDZwMYk65u2bwFH\n",
       "Q6/zTJu49DHPtIlLX/NMm9jAhPKMnyAqSZI65SeISpKkTllsSJKkTllsSJKkTllsSJKkTllsSJKk\n",
       "TvkJolKPJNkJbBxqurqqvjvH+DXA9qq6q+u5SVq+LDakftlWVcftwfg1wFZgt2IjyYqq2jGpiUla\n",
       "vjyNIokkm5NcnOT+JBuTvLW5ONMXga8lWZ/kPUmuSHJZknuA7yU5JMm6JBuS3N18HDZJLkryiyR/\n",
       "TPJoks837WuTfGToea9MsmyupClpNIsNqV8ObAqHma9PDvVtqarVwE+Ab1TVZuAy4IdVdVxV3dmM\n",
       "OxI4qaq+DlwM/LmqjmXw6YNrh7Z3LPB+4ETgwiRvYPDxyJ+FXR+DfBLwu472VdIS4WkUqV/mOo0y\n",
       "cyGm+4CPzbGNX1XVzub2ycDHAarq9iSHJnlV03d9VW0DtiW5Azi+qtYluTTJa5vHXeOpGGn5s9iQ\n",
       "NOM/zfedzJ0bXpqjb9jsayHM3F8LfJrBha3ObT07SfssT6NImsuLwMFz9N8JnAW7/nNlS1W90PSd\n",
       "keTlSQ5l8EbTmQugXQGcD1BVD09+ypKWGo9sSP1y4NAVHgFurqoL5hj/G+DXzZs4vzKi/yLg8iQb\n",
       "GFxh9Zyhvg3AHcAq4JKq+gdAVf0zySZg3cJ3Q9K+xKu+Spq4JBcBW6vq+yP6DmLwWR+rq+r5xZ6b\n",
       "pMXnaRRJiybJB4BNwI8tNKT+8MiGJEnqlEc2JElSpyw2JElSpyw2JElSpyw2JElSpyw2JElSpyw2\n",
       "JElSp/4LcjTTYSJpCDYAAAAASUVORK5CYII=\n",
       "'><font color='#9898fd'>2.7784812428636143</font></div>"
      ],
      "text/plain": [
       "<IPython.core.display.HTML object>"
      ]
     },
     "metadata": {},
     "output_type": "display_data"
    }
   ],
   "source": [
    "gnb.showInformation(bn,{},size=\"20\")"
   ]
  },
  {
   "cell_type": "markdown",
   "metadata": {},
   "source": [
    "To read this graph, you must understand what the entropy of a variable means: the hightest the value the more uncertain the variable marginal probability distrubition is (maximum entropy beging the equiprobable law). The lowest the value is, the more /certain/ the law is.\n",
    "\n",
    "A consequence of how entropy is calculated, is that entropy tends to get bigger if the random varaible has many modalities.\n",
    "\n",
    "What the information graph tells us is that the `decade` variable has a hight entropy. Thus, we can conclude that the passengers `decade` is distributed between all of its modalities.\n",
    "\n",
    "What it also tells us, it that high modality variables with low entropy, such as `Parch` or `SibSp`, are not evenly distributed.\n",
    "\n",
    "Let us look at he variables marginal probability by using the `showInference()` function."
   ]
  },
  {
   "cell_type": "code",
   "execution_count": 15,
   "metadata": {
    "scrolled": false
   },
   "outputs": [
    {
     "data": {
      "image/png": "[encoded data removed]"
     },
     "metadata": {},
     "output_type": "display_data"
    }
   ],
   "source": [
    "gnb.showInference(bn)"
   ]
  },
  {
   "cell_type": "markdown",
   "metadata": {},
   "source": [
    "The `showInference()` is really usefull as it shows the marginal probability distribution for each random variable of a BayesNet.\n",
    "\n",
    "We can now confirm what the entropy learned us: `Parch` and `SibSp` are unevenly distributed and `decade` is more evenly distributed.\n",
    "\n",
    "Lets focus on the Kaggle challenge now, and look at the `Survived` variable. We show a single posterior using the `showPosterior()` function."
   ]
  },
  {
   "cell_type": "code",
   "execution_count": 16,
   "metadata": {},
   "outputs": [
    {
     "data": {
      "image/png": "[encoded data removed]",
      "text/plain": [
       "<matplotlib.figure.Figure at 0x114ef8080>"
      ]
     },
     "metadata": {},
     "output_type": "display_data"
    }
   ],
   "source": [
    "gnb.showPosterior(bn,evs={},target='Survived')"
   ]
  },
  {
   "cell_type": "markdown",
   "metadata": {},
   "source": [
    "So almost 38% of the passenger in our learning database survived.\n",
    "\n",
    "So how can we use this BayesNet as a classifier ? Given a set of evidence, we can infer an update posterio distribution of the target variable `Survived`.\n",
    "\n",
    "Lets look at the odds of surviving as a man in his thirties."
   ]
  },
  {
   "cell_type": "code",
   "execution_count": 17,
   "metadata": {},
   "outputs": [
    {
     "data": {
      "image/png": "[encoded data removed]",
      "text/plain": [
       "<matplotlib.figure.Figure at 0x114ee9b70>"
      ]
     },
     "metadata": {},
     "output_type": "display_data"
    }
   ],
   "source": [
    "gnb.showPosterior(bn,evs={\"Sex\": \"male\", \"decade\": 3},target='Survived')"
   ]
  },
  {
   "cell_type": "markdown",
   "metadata": {},
   "source": [
    "And now the odds of an old lady to survive."
   ]
  },
  {
   "cell_type": "code",
   "execution_count": 18,
   "metadata": {},
   "outputs": [
    {
     "data": {
      "image/png": "[encoded data removed]",
      "text/plain": [
       "<matplotlib.figure.Figure at 0x114f5d198>"
      ]
     },
     "metadata": {},
     "output_type": "display_data"
    }
   ],
   "source": [
    "gnb.showPosterior(bn,evs={\"Sex\": \"female\", \"decade\": 8},target='Survived')"
   ]
  },
  {
   "cell_type": "markdown",
   "metadata": {},
   "source": [
    "Well, children and ladies first, that's right ?\n",
    "\n",
    "One last information we will need is which variables are required to predict the `Survived` variable. To do, we will use the markov blanket of `Survived`.\n",
    "\n"
   ]
  },
  {
   "cell_type": "code",
   "execution_count": 19,
   "metadata": {},
   "outputs": [
    {
     "data": {
      "text/html": [
       "<table style=\"border-style: hidden; border-collapse: collapse;\" width=\"100%\"><tr><td style=\"border-top:hidden;border-bottom:hidden;\"><div align=\"center\"><svg height=\"288pt\" viewBox=\"0.00 0.00 145.75 288.00\" width=\"146pt\" xmlns=\"http://www.w3.org/2000/svg\" xmlns:xlink=\"http://www.w3.org/1999/xlink\">\n",
       "<g class=\"graph\" id=\"graph0\" transform=\"scale(.7129 .7129) rotate(0) translate(4 400)\">\n",
       "<title>G</title>\n",
       "<!-- Survived -->\n",
       "<g class=\"node\" id=\"node1\">\n",
       "<title>Survived</title>\n",
       "<g id=\"a_node1\"><a xlink:title=\"(0) Survived\">\n",
       "<ellipse cx=\"82.2155\" cy=\"-162\" fill=\"#444444\" rx=\"42.0784\" ry=\"18\" stroke=\"#000000\"/>\n",
       "<text fill=\"#ffffff\" font-family=\"Times,serif\" font-size=\"14.00\" text-anchor=\"middle\" x=\"82.2155\" y=\"-157.8\">Survived</text>\n",
       "</a>\n",
       "</g>\n",
       "</g>\n",
       "<!-- Pclass -->\n",
       "<g class=\"node\" id=\"node2\">\n",
       "<title>Pclass</title>\n",
       "<g id=\"a_node2\"><a xlink:title=\"(1) Pclass\">\n",
       "<ellipse cx=\"32.2155\" cy=\"-18\" fill=\"#444444\" rx=\"32.4324\" ry=\"18\" stroke=\"#000000\"/>\n",
       "<text fill=\"#ffffff\" font-family=\"Times,serif\" font-size=\"14.00\" text-anchor=\"middle\" x=\"32.2155\" y=\"-13.8\">Pclass</text>\n",
       "</a>\n",
       "</g>\n",
       "</g>\n",
       "<!-- Survived&#45;&gt;Pclass -->\n",
       "<g class=\"edge\" id=\"edge4\">\n",
       "<title>Survived-&gt;Pclass</title>\n",
       "<g id=\"a_edge4\"><a xlink:title=\"(0, 1) : \">\n",
       "<path d=\"M54.857,-148.2463C39.8718,-139.0874 22.6712,-125.5125 14.2155,-108 4.5839,-88.0522 10.7206,-63.2296 18.3406,-44.7087\" fill=\"none\" stroke=\"#000000\"/>\n",
       "<polygon fill=\"#000000\" points=\"21.6171,-45.9555 22.5098,-35.3983 15.2284,-43.0946 21.6171,-45.9555\" stroke=\"#000000\"/>\n",
       "</a>\n",
       "</g>\n",
       "</g>\n",
       "<!-- SibSp -->\n",
       "<g class=\"node\" id=\"node4\">\n",
       "<title>SibSp</title>\n",
       "<g id=\"a_node4\"><a xlink:title=\"(3) SibSp\">\n",
       "<ellipse cx=\"165.2155\" cy=\"-90\" fill=\"#444444\" rx=\"31.4897\" ry=\"18\" stroke=\"#000000\"/>\n",
       "<text fill=\"#ffffff\" font-family=\"Times,serif\" font-size=\"14.00\" text-anchor=\"middle\" x=\"165.2155\" y=\"-85.8\">SibSp</text>\n",
       "</a>\n",
       "</g>\n",
       "</g>\n",
       "<!-- Survived&#45;&gt;SibSp -->\n",
       "<g class=\"edge\" id=\"edge6\">\n",
       "<title>Survived-&gt;SibSp</title>\n",
       "<g id=\"a_edge6\"><a xlink:title=\"(0, 3) : \">\n",
       "<path d=\"M101.0495,-145.6621C112.5845,-135.6558 127.4896,-122.726 140.0306,-111.8471\" fill=\"none\" stroke=\"#000000\"/>\n",
       "<polygon fill=\"#000000\" points=\"142.6108,-114.2423 147.8712,-105.0456 138.0238,-108.9545 142.6108,-114.2423\" stroke=\"#000000\"/>\n",
       "</a>\n",
       "</g>\n",
       "</g>\n",
       "<!-- Embarked -->\n",
       "<g class=\"node\" id=\"node6\">\n",
       "<title>Embarked</title>\n",
       "<g id=\"a_node6\"><a xlink:title=\"(5) Embarked\">\n",
       "<ellipse cx=\"69.2155\" cy=\"-90\" fill=\"#444444\" rx=\"46.3959\" ry=\"18\" stroke=\"#000000\"/>\n",
       "<text fill=\"#ffffff\" font-family=\"Times,serif\" font-size=\"14.00\" text-anchor=\"middle\" x=\"69.2155\" y=\"-85.8\">Embarked</text>\n",
       "</a>\n",
       "</g>\n",
       "</g>\n",
       "<!-- Survived&#45;&gt;Embarked -->\n",
       "<g class=\"edge\" id=\"edge3\">\n",
       "<title>Survived-&gt;Embarked</title>\n",
       "<g id=\"a_edge3\"><a xlink:title=\"(0, 5) : \">\n",
       "<path d=\"M78.935,-143.8314C77.5447,-136.131 75.8914,-126.9743 74.3463,-118.4166\" fill=\"none\" stroke=\"#000000\"/>\n",
       "<polygon fill=\"#000000\" points=\"77.7613,-117.6322 72.5401,-108.4133 70.8727,-118.8761 77.7613,-117.6322\" stroke=\"#000000\"/>\n",
       "</a>\n",
       "</g>\n",
       "</g>\n",
       "<!-- Sex -->\n",
       "<g class=\"node\" id=\"node3\">\n",
       "<title>Sex</title>\n",
       "<g id=\"a_node3\"><a xlink:title=\"(2) Sex\">\n",
       "<ellipse cx=\"93.2155\" cy=\"-234\" fill=\"#444444\" rx=\"27\" ry=\"18\" stroke=\"#000000\"/>\n",
       "<text fill=\"#ffffff\" font-family=\"Times,serif\" font-size=\"14.00\" text-anchor=\"middle\" x=\"93.2155\" y=\"-229.8\">Sex</text>\n",
       "</a>\n",
       "</g>\n",
       "</g>\n",
       "<!-- Sex&#45;&gt;Survived -->\n",
       "<g class=\"edge\" id=\"edge7\">\n",
       "<title>Sex-&gt;Survived</title>\n",
       "<g id=\"a_edge7\"><a xlink:title=\"(2, 0) : \">\n",
       "<path d=\"M90.4397,-215.8314C89.2633,-208.131 87.8643,-198.9743 86.5569,-190.4166\" fill=\"none\" stroke=\"#000000\"/>\n",
       "<polygon fill=\"#000000\" points=\"89.9988,-189.7699 85.0286,-180.4133 83.0791,-190.8272 89.9988,-189.7699\" stroke=\"#000000\"/>\n",
       "</a>\n",
       "</g>\n",
       "</g>\n",
       "<!-- Parch -->\n",
       "<g class=\"node\" id=\"node5\">\n",
       "<title>Parch</title>\n",
       "<g id=\"a_node5\"><a xlink:title=\"(4) Parch\">\n",
       "<ellipse cx=\"120.2155\" cy=\"-306\" fill=\"#444444\" rx=\"30.4862\" ry=\"18\" stroke=\"#000000\"/>\n",
       "<text fill=\"#ffffff\" font-family=\"Times,serif\" font-size=\"14.00\" text-anchor=\"middle\" x=\"120.2155\" y=\"-301.8\">Parch</text>\n",
       "</a>\n",
       "</g>\n",
       "</g>\n",
       "<!-- Parch&#45;&gt;Sex -->\n",
       "<g class=\"edge\" id=\"edge8\">\n",
       "<title>Parch-&gt;Sex</title>\n",
       "<g id=\"a_edge8\"><a xlink:title=\"(4, 2) : \">\n",
       "<path d=\"M113.5413,-288.2022C110.4679,-280.0064 106.7539,-270.1024 103.3459,-261.0145\" fill=\"none\" stroke=\"#000000\"/>\n",
       "<polygon fill=\"#000000\" points=\"106.6013,-259.7274 99.8129,-251.593 100.047,-262.1853 106.6013,-259.7274\" stroke=\"#000000\"/>\n",
       "</a>\n",
       "</g>\n",
       "</g>\n",
       "<!-- Parch&#45;&gt;SibSp -->\n",
       "<g class=\"edge\" id=\"edge1\">\n",
       "<title>Parch-&gt;SibSp</title>\n",
       "<g id=\"a_edge1\"><a xlink:title=\"(4, 3) : \">\n",
       "<path d=\"M123.9748,-287.9555C131.8167,-250.3144 149.9683,-163.1867 159.3562,-118.1246\" fill=\"none\" stroke=\"#000000\"/>\n",
       "<polygon fill=\"#000000\" points=\"162.8221,-118.6487 161.4353,-108.1451 155.9692,-117.221 162.8221,-118.6487\" stroke=\"#000000\"/>\n",
       "</a>\n",
       "</g>\n",
       "</g>\n",
       "<!-- Embarked&#45;&gt;Pclass -->\n",
       "<g class=\"edge\" id=\"edge2\">\n",
       "<title>Embarked-&gt;Pclass</title>\n",
       "<g id=\"a_edge2\"><a xlink:title=\"(5, 1) : \">\n",
       "<path d=\"M60.0694,-72.2022C55.7811,-63.8574 50.5827,-53.7417 45.8437,-44.5197\" fill=\"none\" stroke=\"#000000\"/>\n",
       "<polygon fill=\"#000000\" points=\"48.8124,-42.6391 41.1287,-35.3446 42.5864,-45.8387 48.8124,-42.6391\" stroke=\"#000000\"/>\n",
       "</a>\n",
       "</g>\n",
       "</g>\n",
       "<!-- decade -->\n",
       "<g class=\"node\" id=\"node7\">\n",
       "<title>decade</title>\n",
       "<g id=\"a_node7\"><a xlink:title=\"(6) decade\">\n",
       "<ellipse cx=\"120.2155\" cy=\"-378\" fill=\"#444444\" rx=\"34.8024\" ry=\"18\" stroke=\"#000000\"/>\n",
       "<text fill=\"#ffffff\" font-family=\"Times,serif\" font-size=\"14.00\" text-anchor=\"middle\" x=\"120.2155\" y=\"-373.8\">decade</text>\n",
       "</a>\n",
       "</g>\n",
       "</g>\n",
       "<!-- decade&#45;&gt;Parch -->\n",
       "<g class=\"edge\" id=\"edge5\">\n",
       "<title>decade-&gt;Parch</title>\n",
       "<g id=\"a_edge5\"><a xlink:title=\"(6, 4) : \">\n",
       "<path d=\"M120.2155,-359.8314C120.2155,-352.131 120.2155,-342.9743 120.2155,-334.4166\" fill=\"none\" stroke=\"#000000\"/>\n",
       "<polygon fill=\"#000000\" points=\"123.7156,-334.4132 120.2155,-324.4133 116.7156,-334.4133 123.7156,-334.4132\" stroke=\"#000000\"/>\n",
       "</a>\n",
       "</g>\n",
       "</g>\n",
       "</g>\n",
       "</svg></div></td><td style=\"border-top:hidden;border-bottom:hidden;\"><div align=\"center\"><img style=\"margin:0\" src=\"data:image/png;base64,iVBORw0KGgoAAAANSUhEUgAAAOwAAAGACAYAAACuko6BAAAAAXNSR0IArs4c6QAAQABJREFUeAHt\n",
       "nQfYHFXVgCkpEBBCrwFCr6EHpIbeBEGaUgSkgwpKUwQpIgpSfulFpEqXXqRJL9JDMRBKEgi9JHQI\n",
       "7X/fZEeWZb/k293Z3ZnZc57n/WZ2du65556Zc9vc2W+iiULCA+GB8EB4IDwQHggPhAfCA+GB8EB4\n",
       "IDyQDw9MnA8zw8o2eqAHec8NC5SYg+1MJWZg2wcmg94wCXwGn5Z4l+0b8Dq8CkPh2dL2I7YhNXog\n",
       "ArZGh3XA6TNSxtVhOVgeloSeMAIMtmFgEMqb8DEkQfoV+wauASzTQRLc/dg36OcFz1HXA/AfuAOe\n",
       "gZAJeCACdgIO6pCvF6Ocm8F6sAzYEt4HBpMMAYMyDbEVngsGlrBSWBZGwo1wNdwKX0JIeCA8UPLA\n",
       "9Gz3hcEwBq6F3WAuaLVMTYabwlnwDrwGx8EiEBIe6GgPLEjpTwe7sraeBqld16xILwz5IVwOViQ3\n",
       "wToQEh7oKA84WXQOGASXwPch6+K49ygYBXbRV4aQ8EChPWCLdRh8AlfCwpA3mQaD/wz2Cq6AWSEk\n",
       "PFA4DziB9BQ4aVSE1ml2yuGklC3uDhASHiiMB3alJLaqR4KPUYokW1AYn/GeA5NBSHggtx7wsckp\n",
       "4A29Xm5LMWHD+3PKo/AQuIAjJDyQOw8YrOfCCHCBQtFlcgp4Pdjtn6nohY3yFc8Dp1GkF2DO4hWt\n",
       "yxI5qeZE1JMwZZdnxRfhgYx5wDGrkzHzZ8yuVpjjGP0+MHAnbkWGkUd4oBEPuBjiU1inESU5T2uX\n",
       "+FXYPeflCPM7wAP/poxndUA5J1TEzTnBXkaMZyfkqfi+bR5Ym5zfg2nbZkG2Mr4Fc47LlknpWRP9\n",
       "/fR82S5N15Hxs7BPnQb46ty+sBJ4P9hC9QK7lzfDDfA1pCku6t8f5oa0F3Sshc7LwEUWH0JIeCAz\n",
       "HnDRvu+gzpeCRY+j4/2SHl9K3xRGgyuLJoW05WgUDklbaUnf82x/0iTdbVXrc7uQ/HpgVUwfDs+l\n",
       "UAT1+GKA8jH8E06EjWANSFveRWHaLXdioz2D1ZIPRdpGwOb7avri971NLMLLJd0zlrZ2nw2EPWDJ\n",
       "0rFk40vws8FCYJAn4kJ9W7uNYYrkYNnWbrjl2BrsMaQh+kSdhZMI2HxfUmdDX2tiEVza+BkYANPA\n",
       "0BL/Yuv7qo57p4a/wRPgu7Wngt+5xncTOArsbs8AIyAJfnYnmhw8fwv4PdwGBnCjok/0TeHEH9gK\n",
       "ya8HDBbHa2lJbxQZZP1gFZgeNoNhYPDaVX4FFCe6nKG+B/4EO8InMAi0y9bSR0394T3Qzi3B1/ve\n",
       "BGUq2B8cO98IBqx5vwSNiGNvbSicRMDm+5KOwvw0H+c4ppTBcAa4GCMRA0oMRLu8dnVnB+XtcZuJ\n",
       "HixtDdCdwJbVfeVzWHPs3jd/nMVNJrpeLB22W91owOoTfVM4iYDN9yW16zdfikUYg66rxqPPbquP\n",
       "fGxRNx7PeX41D9gN7q4kE1BpdImtSPRN4STGsPm+pA9g/sotKsJe5PNDOAg+6kaeTlgtCpUVipNT\n",
       "zRZ9om8KJxGw+b6kd2O+kzgDUiiG49UpwRa0mgzkoC2XE0V2OZco7XsPJT01v0vkEnY+gXNB+xaC\n",
       "o8BusNIHys/3s1J+bNyR2v5qj2Prf9eWLM4OD7TGAxeTzekNZNWTtL8FW027pSfDglApgzjgZNHz\n",
       "cCj8CpyE+h0cD6a9FQzsRDZg53XwOyer1gBlYXgMPL4zfA9OKX2+iK2TUfXKJiR8A3rXqyDShQea\n",
       "6YEVUG7gOFnTbLH1TVpT8zLYJySOSWee0EkpfW9e/4HDU9IXasIDTfGAq5KuaIrmfCndBXNfhUZa\n",
       "6HyVOKzNpQccW34AW+fS+nSMnhc1o2DLdNSFlvBAcz3wI9TbNV62udlkUrst6n+hkbF8JgsWRhXb\n",
       "A4dSPCdcBhS7mN8qnRNWd8Gd4Bg7JDyQKw+4qOEdGJgrq+sz1lVXTjIZsD6SCgkP5NIDPmqxe7xj\n",
       "Lq3vntFLc9pwuAGqvQXE4ZDwQH48sCGmjobzwIUORZFJKEjyDPgI9v0cEh4ohAfmphS+AePihR8X\n",
       "oESurrILPALWLkB5ogjhge94wMUEPp98Cx6E1SFvYsVzAXwGJ0CMV3FCSLE94KMPu5AuQbwXfM91\n",
       "Usiy+IjqH+BbRJfBfBASHugoD7jI/2Cwm2zX0iBeCLIi2rcHPAC+j3sW+NZPSHigoz3g4njHtdfD\n",
       "5+Bi/D/AitDqlncB8twL/gWJLfuwPyOElHnA8U1IeMDA+CGsD2vAV+B41wkeeQpeAo83KjOgwBbd\n",
       "7u5ysDz46xX3g79ocTU8DSFVPBABW8UpHX7IN3CSQHI7EPr17NnTCZ/nPv/88+Fs3yjxJtuPwa6r\n",
       "3xvQttwyObiwYaYS/djOD9OAa34fAbu9Vgj3gI+gQibggQjYCTgovh7rgSlOPPHEX88+++zbbrLJ\n",
       "Jn/jyMxgINpaGpiTlZiErcErPcDvbwAD/BUYCs+CM9Yh4YHwQLM8cMcdd9x+5513HlSD/gU51/Go\n",
       "wRySkgesEUPCA+P1wP333z8XJ6w86aSTnjfeE7/9pa2p3eROehHh2x5owqcI2CY4tWgqx4wZs93E\n",
       "E098x0orrfRSDWVzPDsYlqohTZw6AQ9EwE7AQZ3+9ddff+08hwF7Th2+eJQ0EbB1OK6rJBGwXXkm\n",
       "jo/1wN13370KO9P36dPnijpcYsAuWUe6SNKFByJgu3BMHB7nga+++mp79i5dZpllfHxTq7gYYzHw\n",
       "UVFICh6IgE3BiUVVMXjwYN8z3YzJpnPqLGOyAGLhOtNHsgoPRMBWOCQ+fuOB0aNH+4LAG0w2ubCh\n",
       "HvGxjqukYhxbj/eqpImAreKUODTOA0w4bV/nZFO5C2McW+6NBvcjYBt0YFGT1/nstZo7Yqa4mlfq\n",
       "PBYBW6fjip6szmev1dzixJO/FBH3WjXv1HgsnFijwzrh9AafvVa66AkOuDzRhf8hDXogArZBBxYx\n",
       "eYPPXitd8gkHhkBMPFV6po7PEbB1OK3oSRp89lrNPTHxVM0rdRyLgK3DaUVOksKz12rucRwbLWw1\n",
       "z9R4LAK2RocV/fQUnr1Wc1G0sNW8UsexCNg6nFbkJCk9e6100eMc6Av9K7+Iz7V5IAK2Nn8V+uwU\n",
       "n71W+ul9DjwP8SJApWdq/BwBW6PDinx6is9eq7kpxrHVvFLjsQjYGh1W1NNTfvZazU2x4qmaV2o8\n",
       "FgFbo8OKenrKz16ruSkCtppXajwWAVujw4p6ehOevVa6yoD1lxb9DeKQOj0QAVun44qUrEnPXitd\n",
       "5D+Zfgli4qnSMzV8joCtwVlFPbVJz16ruSsmnqp5pYZjEbA1OKuopzbp2Ws1d8U4tppXajgWAVuD\n",
       "s4p4ahOfvVZzVwRsNa/UcCwCtgZnFfHUJj97rXSZATsH+D93QurwQARsHU4rSpIWPHutdNWrHPD/\n",
       "7MTEU6Vnuvk5ArabjirCaXfdddcv7rnnnpWSsrTg2WuSVfk2Jp7KvVHjvv9hLKRDPECL+rMvvvhi\n",
       "Cf6x1Uh+XO10nr0OYFvvbw7X67UYx9brOdJFC9uA8/KWlIBN/pPc7OwfiP3+jOnStLzbPPzww31a\n",
       "VJ4I2AYcHf8ftgHn5S0pLatvzMxTbjct7Nd89v+5TsT+Jb169frN8ssv7zizWeIrdi/A1PBBszIp\n",
       "qt5oYYt6ZauUi4D8zr/McOIJJocedJFnXm655Zr9z5aHYdp74C8phtTogQjYGh2W89OrzlkQyGMo\n",
       "14szzDDD5uz7byKbLTHxVKeHI2DrdFxOk32nhZ1kkkm+onX9uGfPnussssgiH7aoXDGOrdPREbB1\n",
       "Oi6PyQjM7wQs5fiCVnWDFVdccUQLy2TAxrPYOhweAVuH03Kc5FtdYgL1c9hp1VVXva/FZTJgF4Jk\n",
       "1rrF2ec3uwjY/F67eiz/X8ASqJ/S4h6/8sorn1+PogbTDCX9ZzCgQT0dlzwCtrMueRKwPsa5jZb1\n",
       "N20qvhNbgyF+q7jGCxABW6PD8nw6reqk2P8FDO/bt++WfPYZbLskJp7q8HxS49aRNJK0yQPTkK//\n",
       "0Xx28OdWZEqYvIStl//PxlbU550uuH91uummG0kX2IUyH/To0WOdxRdf/CP22ykG7B7tNCCPeUfA\n",
       "Zvuq9cK8gbAquGjfMZ8BOhpegrHByNYVQx4zSA1Kg9cJndlgGZj1o48+mot1xF/vu+++Hz/++OPH\n",
       "c+yuEnZNW/HslWy+JT6LXQycufY/tYeEB3LpgSmweku4BJJAvJ79A2BtMGBrlgceeGCqs846a28S\n",
       "bgSHwx1gS/wmnAnrQrXHPhxuipiXFcziTdEeSsMDTfaArecp4K/kvwjHwArQzHmG3uhfDwxYA/c1\n",
       "OALmgFbIw2SyQysyijzCA2l5wC7vDeBjjothELRDHB5tCjfDGDgbvvWiAJ/TljNQeGLaSkNfeKAZ\n",
       "HpgTpVeC3dKTwEmkrIhjy0vBSkTb+kIzZDeU3tMMxaEzPJCWB+zi7gfO0hoUWQpUzPmWOL40oF6H\n",
       "Lb71TToflkON65eb2e1Px9LQ0pEemIlS3wIvw1o58YCzzj8Dx9Z/gz6Qljib/QUsmJbC0BMeSMsD\n",
       "Tiq9AlfBtGkpbaGeecnLSaJHYeYU830SXVulqC9UhQca9sAqaPA56VFgi5VXmQzDrwBnsQ3gNORc\n",
       "lPwlDUWhIzyQhgdcL2t38ldpKMuADsebdo2HwSwp2OOz4dtS0BMqwgMNe6AfGt6AwxrWlC0FBu1l\n",
       "8Dg4Dm1E7H2824iCSBseSMMD3tR3wiVpKMugDhdduLzw1AZtm4r0X0H/BvVE8vBAQx7Yh9R2G6du\n",
       "SEu2Ey+AeT6WcclkIzKUxD9qREGkDQ804gFngUfBxo0oyUnag7HzCbBHUa/YCzmi3sSRLjzQqAe8\n",
       "+e5pVElO0vtc1jXIjSysOID0Ls8MCQ+03AO+JD4SNk8xZ1dDuSrKRRe+uXM0XA5ZkcMx5OYGjHER\n",
       "iaupQsIDLffA6uT4DvRKKWe7mk7uGKSKr6VtA2PA1i0L4oTRl+BKrnpkOhJ9DbPWkzjShAca8cAh\n",
       "JL6qEQUVaefnszdzZZfzKI7NV3FuOz++QOaNTByNIP0G7SxAHvJuZKIgD+Vrh40DyfT+FDN2OeP7\n",
       "cCDMVqb3ZPY/KfvstVwRNoXyZ6Or8nnNErZgK5T2F2Wbplhmy16v2ItYqt7EnZIuAjb9K+06Wxf3\n",
       "pyW+1XMCLA6u4/0JKC+BY2XFrvE54GtxtshDYTtQhoDBfSK8CgvDhmCLmKZoSyNrjC1bBGyaVyR0\n",
       "dcsDwzhr3W6dWdtJu3G6La3dY1cZTQmJHMrO1skHtmeDz0d7lI4tw9a3YjznfHBiLG3ZD4XXNKD0\n",
       "B6S1WxwyHg8kF3Q8p8RXNXrAbmozJoNOQ++1cCpsBgvCSuAvIzoJdSvYuiq2pKeAQT0aHoZjwGC1\n",
       "FXOCKG2xzOVd9Fr128LOAU5AOWkXEh5oiQfuJpddUsypfNyaqD2dHVva7UoHxrCd0ITNqpzjeQZy\n",
       "M8Qut13vRsRHO2s2oqDoaWMMm/4V/i8qHW+mJb9EUdJyJjqPK+0sWtq+zNZxablMzYdFSgds/axE\n",
       "bJntWg+CtMUyO15uRB4jcYxjG/FgpK3ZA7Z6T9ScqusEe/CV3d0pyk7ZnH0XzK9eOvZ7tp/DztAb\n",
       "BoCPfZKx6v+VjrGZ6B/ghJPd5bTEPO0ONxpsf0THxWkZFXrCA93xgDOlBs9C3Tm5G+eszTkPwU1w\n",
       "OPwFngNbykQmY8cb3SB2fPo42CobsAeB6acF5edgd/pfMCekIVugxFa+0R7bpuhwhjskPNBSD1xN\n",
       "bkm3tdGMfaaaTGLNyP6C0KsLpdNwvF8X3zXz8C0oPyKFDFwxZaXzvRR0hYrwQLc94ATPRzBbt1Pk\n",
       "90TL+nGKZR2FrpXz646wPK8euA7Dz8+r8d202y73w/Cnbp7fndP+zUl7defEOCc8kKYH5kHZ++D4\n",
       "rqjyBwr2PKQ5gXUM+s4tqsOiXNn2wHaY58KFRbJtZl3WbUCqT2FgXam7TrQVXz3Z9dfxTXiguR44\n",
       "FvUjIa0Z2eZa2z3tK3CaY/Ttu3d6TWc5qeYsuzPfIeGBlntgYnK0izccvBnzLq5Ecjnk/k0qiI+G\n",
       "PoS0W+4mmRtqi+gBb8K/gmtkV89xAX+G7S6Q2L3JZbgX/bs1OY9QHx6YoAec/fSGd7KmxwTPzs4J\n",
       "Phe9AN6FDVtgluuSz2hBPpFFeGCCHliWM1wa6LrZ70/w7Paf4Oqjl+A+aNU4fAfycnVWSHggEx5w\n",
       "5dKR4CzreTAfZE2WxyBXMLmQYU+YBFolS5CRvunZqgwjn/BAdzywACddDGPgfLD1bacYlOuA65bt\n",
       "ujvunhFaLQaqAbt4qzOO/MID3fHAwpx0DnwMj8IvoJXLGp299iWBF8GJMRcvzArtFFdQ2TUOCQ9k\n",
       "1gMu3t8b/gO+dfMAHAZrQPICALsNi/lsBAbmEPC5583wU5gMsiBOOp2QBUOyZMPEWTImbPmWB3zr\n",
       "5oewOrgYvi88C0/B0zACXoNXwSWQdiHtxtqtNeh8y8c0tpTSHxYFV13NAy7muBN81/ZacAY4S7Ib\n",
       "xmwDK2XJqHbbEgHb7ivQvfy9TgvCADDo7EIb0HOBrWVXj4g+47skqF9i32CXx2EEZFmWw7jbYCrw\n",
       "lbuQ8EDuPfAGJVgT7C77grrj3lnAIM5K1xZT6hJ7CF+AFVVIeCD3HjA4vwYDtajiSwA/KWrh6imX\n",
       "452QfHpgKcy2W5u1sWea3nwUZUunqTDvuiJg83sFl8R0b+gii+WznCElD0TA5vdWsIV1eWORxfJF\n",
       "wBb5CndQ2Zz19SXyIosvHThD3L/IhYyyFd8D01NEJ5ycES66DKWAvoAQggeiS5zP28Bu4uvgM9ai\n",
       "S4xjy65wBGyZM3K06/i16BNOyeVwHGt5Q/BABGw+b4NOmHBKrowVUwRs4o3Y5tIDz2H1j3Jpee1G\n",
       "T0cSx+uuhw4JD+TOA1NhsTOnc+XO8voNdoFI0WfEu+Wd6BJ3y02ZOmkJrBkNwzNlVXONiW5xyb8R\n",
       "sM290ZqhvZPGr4n/YuIpAja5F3K3NWA7ZYY4uTjRwiaeiG3uPOD7rJ32BosTTk48OQEVEh7IjQeS\n",
       "d0QXyI3F6RnqQhHf/e1oiTFsvi7/AMz1Z2B8rNNpEuNYrngEbL5ue8evg6ETfzIlxrERsPmKVqzt\n",
       "xAmn5CJFwCaeiG1uPPAIlm6fG2vTNdRX7OxZ+MpdSHgg8x7w1/A/A8exnSqjKLg/+dqxEmPY/Fx6\n",
       "f0/YRxv/zY/JqVva8RNPEbCp31NNU+j49Unwpz87VTp+HBsBm59bv5MnnJKrZMB29G88RcAmt0L2\n",
       "txGw4350biEuVd5/JD37d1tY2JAHrFg/hHb/O8qGCpFC4sQPA1PQlUsV0cJm87JVPrpwKWJvcAzb\n",
       "yeJjHReO2NvoSOnqnyh1pDMyVOh9sOXX4EL/e8E1xC/AGOh06fiJp06/AbJY/q0wyn8f6WMcg9Tu\n",
       "8JfgOmJv2BNhS+hE2YFCP9SJBY8yZ9cDjlUNVAO2GnYND4ZOFH9xw8rMhSQh4YFMeKAvVlQL1OSY\n",
       "/8S5U2dKDVQDdnHoOIlJp2xecn+z6f0uTLPl3RO8aTtRPqfQju07cuIpAja7t/yLVUzzZn0Qrqzy\n",
       "XScd6tgFFBGw2b3Nn65i2sQc263K8U471LFriiNgs3urD8E0Z4UTsQt8OlQL5OScTtnawjr5FPdv\n",
       "p1zxHJRzc2z0cU4y0fQe+05GhYx7Lu1LEAt2mjOihsruFfd3m5KZYFvX/cDJqJBxPQ97IB058RQ3\n",
       "QDY9MCVm2bq6YMJ3YKNyxQllci77fyn73BG7cRNk9zLbHX4XvEa7gIslQr7xQEdOPMVa4m9ugKbu\n",
       "0VTqa8eg05Rt7fK6EKBX2dYW1Wetn88w0URvT0HrOnyiiZwdXhRGCR8+Ztvp4sTT7zvNCd4IISl4\n",
       "gIAktibyrRonQuaF2cvox375hJGtp8HnLLDPVscGaGnfFnVsAO+MjoMmmuiDOcfpNn1SwXq+q51G\n",
       "wsul7Qi2z8IQLuorbIsuvtHkRNw8MKzohU3KFwGbeKKGLcE5C6cvW2IZtguDQemPpDlZNBSSQDKo\n",
       "5A1w0mg0Tu/uz7wYpKYZK+TrTeqx6WA2KK8U+vPZymIm+AAMXruND5V4qoZ8SZIL0c+/gStyYW0K\n",
       "RkbAdsOJBMocnLZGiVXZGigj4GEwIJ4AA2Q4Dm3rWBNbDWgD10pkabBCWRy0S1tvK/Egttq651ku\n",
       "xvjn4aA8FyJsb9AD3PQTwwpwLDwHX8FgOB42BIaX+RHs7QlLw6/hOngfPoCr4afguDqPcgBG35BH\n",
       "w8PmFDzAjbsUnASvgjf0ZbAVTJ+C+syooDw94PvwJ3gGxsBNYPD6snxeZC0MfT0vxoadKXiAG/R7\n",
       "sDs8Cp/CJWArOlkK6nOhgrIuDIfAMBgNJ4Pd6KyLY3lMnWjWrBsa9jXoAa7ydHA4vAtPwS9h2gbV\n",
       "5jo55XcosAZcCLa6N8IqGS+UcwkbZNzGMK9eD3AD2qLaFfwQ7oYNgPmXkHIP4JN+cBw4NNBPWf2l\n",
       "wquw++By22O/AB7ghrP12B5eg4cg6y1HJryOn6aFY8HhwrngI60sye8x5sosGRS2NOgBbrJZ4VZw\n",
       "MmlbiBa1Rp/is3nBWeVRsGWNyZt5+g9Qbrc4pAge4ObaCN6GS6Gjx6hpXE98aIXnxNQ5MEUaOhvU\n",
       "4YQTpoxdTNKgqkjeVg9wFX8DH8F2bTWkYJnjzzngAXgEstBF9tHOmgVzc2cVhxvpSLBlzepkSa4v\n",
       "CH7tDT6ndmGJyyTbKTeS+f7tNCDybsAD3EC/gnfAN1xCmuQB/DsJXARPwlRNyqY7av/ISS5TDMmb\n",
       "B7hxVoVPYKW82d4GexuefMPPLnu8Ey5rg/1Jlpuy44sAIXnyADfNZPAC+AZHWrIOiu6Gq+Ea+B0c\n",
       "Ac0WH1f4k6bNkK1ReguYR8OCv52FdwHK5g0rq09Bf5J9BZX/RKw+bZGqNR7ghtkbhkCPlHK0Sz0G\n",
       "fJVOcU3xWXC9H5osK6B/1ybmMRzdqQSsNuLzPcHKclI/t0FGkefKbcg3sqzXA6UbZrt601dJZ2v6\n",
       "MfQp+84bsp3dvzJTGtp9itSWLxXB973gddgoFYW1K/k3SfaqPVm+UqTVErW91NwoLlafDS5P0Zgh\n",
       "6PLtlaNgb/iyxP+xVeYHW2FfGLeLOR8sBsp1YOusjweBN9S68BIsBAa++jzvE/DNExez3w8uBPD7\n",
       "QXAb9IMVQXkDbge7f+uB8k9Ql79W8X2YGW4A9ZaLOgbAA6WDuC0dYTDs2mMrsk3AoUOr5VEyXKrV\n",
       "mUZ+dXqAm2VnuK/O5F0lM9hsibyx7wZfCq+USzhgYCtO4hwInm/wGcymfwt8ydqXra+A5eAL+C0k\n",
       "siQ7Bp46DOg74CNI5Ch21DtvcoDtkfCT0md7AefBbqDel2E7UNR5JtjFngq00Z9OdZuaYNwW8HRq\n",
       "CmtTtBWnP1lbkji7bR7gRvH1sGZM7XuDGwioH/sTMAZEufyBD/8tO7A++55rwCpOgDkhsgDYak4B\n",
       "yoVw79i9cX/2YDOw7PPu7JcHrOlGgy19ImexY6uqHApbu1OSs9l+CFY6Hi8PpN58dsxXXmHwsTGh\n",
       "0MuDNrZDFiTTz2GydmTeqjyTi92q/PKYz/sY/VNYE16FU+FY6K68zYnvwbNgtzUJwpPZXwEWA2Vp\n",
       "eHDs3rg/tsAGfiKmOwd2KR2wpX0OrAyUbWBlOKyEtp4CU4JpbodEPmPnFSjXn3zX6LYZOrtj01BO\n",
       "slwDunNyXs+x9i2KeIOuk3JhZkffyJLO29jabX0MfgG2rI20Jraug8FgOhseggmJAfhLWAWsQPyc\n",
       "yBzsXAvXJwfKtvOx/3jZ52btaoPXoR1ixaU/HceWV3ztsKVpeRaphfUi+RMvSZczDaedgBLHf4kY\n",
       "oHZDe4JBkEi9frSV3RZ2hH8kysaztRW5FX4O08LrkMjL7GyYfChtp2a7CLwJq5eOlW/Sbg1t4dsZ\n",
       "LI+SvwFbWKn3RsucQ4gqa9dXYLMUjZsGXb+q0GeXy1Y3meBwa8syD9hjWRGU6cdt/vdD4dV8bZAa\n",
       "ND3hg9L5yaYPO71AneVikG8OV5cfZP9cMPB3Bseo2nkgPAPngxNgtsqKgTxrCT83LBRCW7XryoaV\n",
       "1a/AgF2y/uSRsqUe4KZJe+HE6RTAFu0i2A8uBbvE5TeFwfEwOOtql3RTGAaOJZ0NvhcMyiNhJqiU\n",
       "4ziwdMVBJ5/uAdP9FgzeRCZlx+55ecvvd062XAx2Db8Eu8Dzg2KFYFk+Ae2xK/00XA7LQ8OCoe1e\n",
       "OGEZlgCvg+UNyboHuGnSXpo4XanMto7zQj+oDJTSKf/7ZX9bxK7OSc4t3xrwtcr40kyDMu2sJg4X\n",
       "vlf6YvJqJ9RzDL+3e2liYraBasAunhyIbcY9wM0Ti/9beI3wdxYW/5eX2N7ODuUHYj/jHuAmitfr\n",
       "WnCN8HNWXq8rL+0ZfHCyMCRPHuBmihfYm3jB8G+WXmAvL+lufHD8H5I3D3BTxU/ENOGi4dd+kKWf\n",
       "iCkvpRN9rvCqNitffl7sZ9ED3FjxI2wpXhj8uQ1k6UfYKkvnZNoXsGDlF/E5Jx7gBoufOW3wWuHD\n",
       "rP7MabWSPcnBrap9Ecdy4gFuuPgh8TquFX7L+g+JVyvVuRz8S7Uv4ljOPMANWP6vOu7i8wYGc86K\n",
       "0XRz8Ynj1Dz8q45qvtibgy4uCSmKB7gZ459hVVxMKy5YHS4EX0j/F6xScVoePmrzu3kwNGys0QPc\n",
       "kLa4u7OW79HzuEl5odL/ELAhuNSvI4SyLgS+TzwMnFDKy7+b7Or6TMUXLtHs39UJcTzfHvCd1PtZ\n",
       "1/YmC23P54Z9Ffyvbf5Q9laQLOTPdylL1lOeyn/o/DnHboa8/UPn8V2PoXz5o/GdEN/lzwM+Avgz\n",
       "uP70JLBmdsW9XcMV4Vjwl+2/gsFwPNj6zuB5eRHsdfng0vBruA7eBysk/7nVduD646LJxRToiKIV\n",
       "qpPL4zjHX2zwrRbfjulSuKH9XzI7wAXwMnwNw+FyOADWg/7Q9of12NAX/KmWn4Fd2//wetFnL437\n",
       "cfU7+WzXdyUo+hstB3BBb+jyoub0i06cHfWNFVvVneCPpX0ftHdbuNln4eRlSyzD1pfEZ4fPwErA\n",
       "7tjLMLKMN9gfLTi9pvxIM1bId0p2bA19i2g2MM8Ex2sLgq/wfQDPgq8CPjTXRBOtNmLc5NEGfB4M\n",
       "nSBrUUjfA565SIXttIAdxMU7G96GHeApSEUIJiuCBcCgmReSQPJVN/f7QiIG1OgxtHq89c0819if\n",
       "Q022vu/qy+C2gG7Frrrpe4BC0rE/xWKFkFQMxOTYIB3CRX2F/XLxOh8Je8IW8C8oujjv8BZYsb1a\n",
       "lMJ6ITtBfH/U1tQb9nA4GpgYbp0Q0AabQWcLKX2p+o8ZxEJ1Blt389nANEi1Kwlet7baBvioErbQ\n",
       "H7Ffj+xMIt9k2QvOqEdBztKMwN494Pqc2d3R5g6g9E+ArekSGfPEu9jT6uec65Dn++CwoOgV9lWU\n",
       "8WAIyYkHbEn8WZTjYLKM2Ww3mYb3W13lVploJWZX+hIY369XtMqeZuXzexRf2SzloTc9Dzgpcw28\n",
       "DmulpzZVTeujjcnbtolju8fhHtBfRZQfUCi7xSEZ9sDK2GbrcTM4Y5pV+S2GXdtm4/x9pxthKMzb\n",
       "Zluakf2sKLUXU9QKqRk+a6nOfcjNRRC/gayPzy7CRifC2i1Ohp0Ozqiu0G5jmpC/vaw1m6A3VDbg\n",
       "AVuKy8CLMwjyIE9j5JYZMvQAbPkYNs+QTWmYYg9i/zQUhY50PLAAaobAvWAXKA/iRI+PbBbKmLFW\n",
       "IAZtkW5wezEXZ8zPHWvOOpR8NJwMPXPkhaWw9ROYNIM2r4hNLiw5LaP21eqyTUngGD2kzR7Ym/y9\n",
       "6Xdrsx31ZL89iR6uJ2GL0sxHPs/BDTBli/JsVjb9UeyrdskPqDcrn9DbhQecJDkD3oHVujgn64d9\n",
       "Lvz3jBvp0j6HGY9BXoYaXbl0FF/49CCkxR6Ygvys9e3i5PkxxK3Ybw8h6zIZBl4KPiZbLOvGjse+\n",
       "f/Odi2hCWuiBmcjLbuT9YO2fZ3kT41fPSQF8PHY0vAdr58TmSjOP4cC5lQfjc/M8MDeqXwSXmfnS\n",
       "eZ5lFozP48N85wqcM9gxh87fCptdTx7SAg8sQh6+HvU3mKQF+TU7C2e2X2l2Jk3S73LKD+CPYMub\n",
       "F/HxmY/R7OKHNNEDy6D7bXCSJk83yPhcsh9f3ji+EzL+3RLYZ4VzIfg8OQ9iRf8hDMyDsXm1cXkM\n",
       "d9x0SF4L0IXd53P8qC6+y8vhfhhqF/MumDYnRjvjncdHgLlwrzWhCyIOzIW1tRnpje6YKu8yFQW4\n",
       "CZ4B5xiyLidi4BlZNzKP9tkN9rnZQXk0fgI29+T7MbDoBM7Ly9c+E3duwVlve0RZlh0w7qEsG5hH\n",
       "27yR34Xf59H4btg8gHM+AwO3SGJP6CNwGWBWxbH3p1A037fN33OR8yvgM7OiyjYU7PGCFu4nlOtj\n",
       "2Cej5TNQDdjFM2pfrsyaEWuHwjlQlNlgivIdcQHCed85WpwDLv9zyehJkMUXGx7GLrvGuRWnu9st\n",
       "fTDgehgCO4GLCooq1u6Di1o4ynU3rADrwVXgUtIsyaMYs2SWDMqbLbam/wQnAwzcostrFHCtoheS\n",
       "8s0ALiF9BFzZlRXxsc49WTEmj3b8GaNfgixd1Gb50ZvY3oNrojtBXEJqZTwCXK2WBVkOI1xAkYWe\n",
       "ZRb8UZMNTsC4zK1TJgHWoKxv1OSh/J9sYBwLPlO3/O0WK5EvYMF2G5K3/H284WOAzfJmeAP2/pq0\n",
       "NzeQPs9J98T4TyALEz5PYsdWeXZmq23vS4bPw19anXGb8zuH/Iv8yGpC7v0BJ9gdPXxCJzb5+3PR\n",
       "32n3XkMuvZLUt0MWp/0bKlhZYhfF3wLeGNuC3f7H4KfQybI0hffNq/OhV5scsTf53lbKe2q2q8Kv\n",
       "IC8vMpRMb81mV7J5Czphksnleo6XbFXcfgnD4RLYH9aFaaDTZA4K/BRYabey/E76rQMnw0hwkc5X\n",
       "kFwjdkPKPeBA33HrRuUHC7x/F2VzVrgan3Hc9zPnh04UW7ZbwWfv/ZvsAJ+7vgZeB8fRrsaqvCZP\n",
       "cyykzAMuEveZ3Kllx4q+ewIFtPauvDmSG8fvO1lcKng2OHM+sMmOuA/9VpDVroXHLm1y/rlT/xss\n",
       "fgE6YXFEcnF2Y8fucLWb5H2Ot7I7mNiUxe3BGGXPa+MmGrcYursKWNcXH9rEvHOn2m6f3ZAsPIdr\n",
       "pfNWJTNvhsqAtVv2i1YakoO8tsFG/bJXF7Y699HoYgd7d+ZReT2sVLeGkJIHHMv9rQO9MSNlrrw5\n",
       "nOQYBg4RQr7tgUF8fBf+CuXBuSef9eNO0IhMS2J7NpXXZAzHlm1EcZHSWnM5K+yz104UV3KV3yBO\n",
       "Nm3QiY7oZpkX4jwrtKvB4ZPPbpOurMH8PWhEdidxtVa2U+/Pb/lyCj6NhF2+dbSzPvjsNQlYb7w7\n",
       "O6v4dZV2JlL9p+Sr8uBy/y91afwmkc/+nwEfsSXX5b1vvu7svSMovjdsefem0zxyNgW2G+zNYcA6\n",
       "+REyYQ847zEKygNLH9p9nRsakVVJnLTa6ny8EWVFSTszBXGiSed0suxD4Z0BtXXoxHF8Pdd+ahI9\n",
       "Bw4fDKhyPHYtNCpXoCCZELygUWVFSO8zxk5d6F5+/Ryv2kpYeTkJFTJ+D/hs1knK8q5wecC6b+s4\n",
       "CBqRfiQ2+H1O/rtGFBUhrc6w9hpYhMJMoAw9+H5ymAqmA3sWln9WmAEWB2+y38LEEDJ+D/h4x4Ac\n",
       "X8BaAQ6BRodah6DDa/MT8Pp5vWYHr6HPyJ30ajQPVKQrzbiJTsLEOWHDdE1tibbe5OJSudnAoJNZ\n",
       "SlsfC9hdS3BmsRd0VxzL+ljBSQ4ZXeINtq+WcAmd+8PAWdFOlJko9Pbwc7BXYtBYMZaLDcIv4czy\n",
       "g13sW4EuDI6L54O5wTzEAB1fDBjQXgev0ZswEobCc/AsPA1joGUyPmPrMcKb2EKtD3fVo6BFaQw+\n",
       "Wz9ZAOYFL6YXV0mCKAkgt29DEmzJ1sc2tgiVOBtp906caHoBbImTYE+203AsqRDcJvue643yPHhz\n",
       "iAvmnSB5EbyRii7em6vBnrAR6GP9kogVng2DlWAi+n1ZWAOWA3t5BmZ5oOnT18EAXBT+BaPgsxI9\n",
       "2PYu0YetLa86rDzmgCTwvV+sTLwmD8I9cAt43ZomaQfsvli6FSzVNItrV+xF9uKtBF7MJUDH69jB\n",
       "8F9IAsOtrVtLa03yKxeviYFrJZJgpWLlYutgJaHdj8G9cDdYoRRZpqdw28EvYFbQR3I8HAIG9I9g\n",
       "TegFd8J98BA8DM0IIisHA957yophdegP5nc9XAxDIbNiAYaDjm2n9CDzQfBn8KJZc1ob3wAHww8g\n",
       "aUnZzZV8D2tXhD3gHLCC+bq0PZvt1uBYusiyCoW7BGxxv4SPYDgcDauBAdsusUJ1Dbkt7Rdg8O4F\n",
       "U0PmZD0segt6t8GyvuRpRXEpGJx2WS8Hb+wBMAkUVZwk2QxOgOfAm9iW90BYGIokBuOOYA/Dnoa9\n",
       "CysqW9usiV3on8MToK0nwTyQGTkPS05poTVWDHaD/glOQjwLR8GqYCvbqWI3+pdwM9gK2XV2qDIb\n",
       "5FWscK2Qh5WwfFNBXsR78goYA6fD7NBWcZz4PqzcAivmIo9jYBS8DH+BpSDkux6YgUNO2twDdtGu\n",
       "g7UgT+L8gy3qSLC72RPyKs6fXAOfwO+gbWXZnMwNnmZ2TVZAv7WUrYbj0fWhmfmhvlBiy3scWNH9\n",
       "F3aBdo73yH68Mhnf/hXsPTkfYaNQFFmdggyFJ2GZdhTqAjI9vkkZ23reBF64EyFT4wDsyZv0weBd\n",
       "we7lS7AjTApZkrkxxq68LeuiWTIsRVsc0v0JbG13T1Fvt1S9zlnrdevM7p80Paf+HQzU06Dt/X5s\n",
       "KJLYHbOLac/oCVgJsiAOq+wFnAm2skWXdSmgk7VngGP1pssAcvDRyRQp5rQFut6GG2G+FPWGqu96\n",
       "wKA4BD6GUyDN64i6mmQdzvYxzT41pcr/yfYaX4SLoenj2l+TyR2QhnjzWLP6aGbbNBSGjm57YAHO\n",
       "fACGQDseBy1PvlYadtE7UWal0Pr+nGYX/koysIZuVKZDwX3wCPRvVFmkr8sDPUjlDPx7sFZdGupL\n",
       "1I9kr4Mzp50s3vdvwv7NdMIIlP+gwQwcrzqOuhacFAlprwds5WztNmiRGbeSzyUtyivr2TiX4BBz\n",
       "yWYYaqv4Ndic1yt2g++Ha6Dp/fd6jezAdFtTZseTA5tc9u3Qb6tipR0yzgM+fnsYUp+Estv0xrg8\n",
       "6v57Iimdwp+8bg2RsNwDaT6bPgjF9qCmLs8gxf1J0TUMdk5RZxFU2cu0Ets07cI44eQz0nplORJ+\n",
       "AgvWq6Ai3WJ8PhVugOvAx0JnwblgC+7xmaBWsfY/Ev4LPiNMQ5xddyr/6TSUocMW8Rb4fUr6VGPw\n",
       "3wVWqs0QF9y8Br1TUL4OOu6Gq8Fr7Xj4CEjELua7sDB093rOzrmXgn69Ho6Gy6EV4nW8N+2MTkLh\n",
       "KQ0ovZG0Nv9pyuIos5v+twqlffh8O8xXcby7H70h1JtWwJrvb2CUOynJcPSkGbCa5Y3umKqRYY96\n",
       "qok3/5+rfVHjsUU5fwwsW0pnQFpRG2SJTMPO4eAbT8qErucknGPPzyBVesI2YD7eS82WmcngK3BC\n",
       "7n+iUY3IXCQeXqcCb4C14YQ603eVbHjpi88rTviYz9a6H1Yc7+5Ha+e05e2UFVq2L1PW6U37AHiz\n",
       "pinee6tBIz20xJ4fsvMFPF06oF93Aa95IlaMVmYflA5M6Hq6lNO1vw+Xzvd+Slb0zVY61szN6yh/\n",
       "EtYoz6SdAbs6hujg4eUGNXHfmmokvFbKwwUCS4E+WBm8eewCKrPAZvCt2s0vSjIH25/C/MmB0tZa\n",
       "WD17gC1TuUzLB1uAvvATmArKxRbAi7NmaZt8p30rguOZauN8v9sdkvzsBaQt16JQu9IUfahP/pOC\n",
       "0iHo0DdHgeNixYrr/8buffNnIXarXdNq1/MVzn0fDoTyAD2Zz59AIsuxY2s4N+wMK0BaYkVppZGa\n",
       "WFtpcD1yGIkuqifhBNJMzffetKeWnTcl+yeAgakMAoP3LrBL9lf4FLRnP7Cbbu1mTT0DKAabeu1q\n",
       "XwmDwa7ixqAYcMPAi+vFewFWAmU78CJfAhfAR/Bj2Ams+RM5j53dIcnTrpfHdoPfwsugLsXK5UzY\n",
       "FQx+byzL4DZtWR+Fli1NGYiy91JS2AM9T8HXcDcsDOVixXA4+L1lUSZ0PT3nD2CaN8BKtlzsWp8O\n",
       "fv93OAv+W/rsNUlDjJEL01Ckjl6gsd6c9cjRJLKgaUsSsENRbHDIf8AuUxKw7I4NhMfYerGVncDy\n",
       "LOgHxNZyDKzjByS5wBuN+zg23T3sWxOrYz14GhK5gR1vkkRcEGJ+igFmwJmnAWteVhxLQrkcyoet\n",
       "yw6czb7dXvPzeHl+vfmsLgM7bRmEwtdSVrpayjr1qZWb1/AzsJIrl+n54HeVAdvV9UzSqseW1rSX\n",
       "gZV/IvOw4/FtSgcmYXs1JNe5dLjuzQElff9TYAb1il07ZfS4Tc1/3yKFXYlmyW0o1pFiL2AvKBdb\n",
       "vHfAQFaGj/37zY35OZ/fhH6l48kmGdOY7p8wK/SHG2ERmA52AI/PDomY14OlD8kN4EeDz+C+Ayov\n",
       "tLZbyRxW4lW2p4A3zS5wOyTiTWrl4Q2UtnidvF5pivr01cQpKdWnP4U1QT+dCsdCIl7PatLV9UzO\n",
       "PY2dheBacJh0P0wNihW6MnLcZuwkkfeE3Vi72Y3KDCj4lt/TCNh6uzWPYMxAmLTRUnUz/bmc98R4\n",
       "zv24ynfe/AZUV/JA6YvknN/z+VdwKYwofTehjYHvzebNNUXFyV50b5RDSvyO7f5gJTkffAmtkBXI\n",
       "xOuVpiQ9k/JKrV795TqsqO2pDIdfQNKwsDtBKb+es5Wdra22xGfAorAxdCWPl76wMmpU+qMgqQzG\n",
       "6mo0YO2e1XvTONZQ7Eq2QrTVymXPFDMzoD6A58AW/IdwEHwEtcjPOLk3nFWR6GU+b1hxzNp9EbD1\n",
       "X73iOz+m3cJq1+ZwlcpTlFHoegrWSEHnCegob6lH81lf9gQrtu5K+fX8JYnmr0h4XOmzQduV2Ah5\n",
       "/Z/t6oRuHjc2B8Fd5ed7sF6ZnITVWqXu6rOLcjIcDOXO7m76rs6bpvSFF6tSvPlXLh30+/Ly9y0d\n",
       "n6y0dWPLWX6Ox8p7BFY2tn62kl4oa3r9Mi0sUdpP0qvL78olaZmtSAwKA15/JHIuOzvCzmDgDIAD\n",
       "4Rk4H7xx1gTFQJ61hJ/Tkl1RZGV3XVoKy/TcxP7GZZ/r3fWa/6oisb4aCU+Wjie9lz4V53V1PUdw\n",
       "3imQpDOZOq0QHf6Uy/RlH9Zh/3hoJDZUtwr0gnv9kIYMQsnrDSqakvQ6da8G9STJvYEvBp1qN9Ou\n",
       "qTf2FTAYPO7Yb3l4Gd6FtcDuj+f4/V/Bm98g8fOdsCB4zJv2FtgbjgbtTiqbQezb6j0Ph4I3kBfN\n",
       "7dZgS/wWbAuKAX0HmIddN/UnNpzD/lxg5WF5voIv4XFIav2e7J8OjsW9qN5cT8PlYPnSkLlQMhp+\n",
       "mIayKjrm5ZgVt9tGRD/cChfBfuB1fwyWBGVmOA709bUwH+jv8V3Ptfn+IbBSORz+As/BbpBIP3bU\n",
       "aX6/A+04DcorAT7WJdeQyp5DarIaml5LQdsa6PDGtkbJg3gxZunC0F4c71H2nUGVhkyDEm+OamIL\n",
       "8L3SF5UteLXzu3vMyvQROKu7Ceo8z0rqgjrTJsmmK+3YmzH49VVSkZa+6nLT1fXUl31KqWZka6Xt\n",
       "9S2XJGAHcdBzvBZpyECUfAbzpKEs0bE6O2kErPp+DqNgOT+EtN0D3nj/hrugd5Ot6Y/+j2C9JufT\n",
       "DPXlAZuWfiv5J+BPaSlM9KTVwib69mXHbuwPkgOxbYsH7D4+CPdA0nI32xCHDa+CcwB5EhsYu8Tb\n",
       "p2j0ieh6BtLsLY01z2bbAEtTtkGZte0fwK5KSGs9YCVs4FwCjp9bKReSmWN0u+J5ECeanAA8Eg6B\n",
       "70Oj4lyGPc0FGlVULf1CHHQypLtjhWo6qh1zouBZeAgGVDshjqXuAYPkr/Ax7J269u4ptIKwC/4A\n",
       "TNu9JIU6a09KY2O1RrNKNRuK7Q40o9vkYP94+BROAAf0Iel7wF7MT+EVuB8WgXaK1/1meBLmbKch\n",
       "LczbBu8w+ADs4TRNpkKzAWvgNkuWQLGTHx+Cg/BOrHkpduriTbIlDAG7wDuCx7IgvTHiHHgXNoQi\n",
       "i93qG+ElWLbZBfUCj4HFmp0R+tcBWwDHzCeB3fGQ2j1gb8gZeSc13oIDYArIouyMUXbRTwcfaxVN\n",
       "NqVA9mxuAgO3JTKCXNZtSU7jMlmJzWXwOfig3FYieVbGbkgXHnCC8GSwwrO7aTCkPguJzrRlARTe\n",
       "CW/A9mAXPu9ima4DF6TsCi3t2djq2Z1qtfj86wgYBvb9ffC+AfSCkHEeWJTNH+B5cDLjIvDZed7E\n",
       "G/pnMBLswm8Bk0DeZB4MPgfslZ4Ls0DL5XJyPLjluX6ToRfTVvdUeBM+hKthN5gDOkns2jrmOwWG\n",
       "gzfGv2BbcBY47+Is8j5ga/si7At56CqviZ3ek/YK/wkLQ9vEGdzT2pb7tzO21l0ebFUeha/gOTgH\n",
       "doIFoUgyHYXZCI6G++AzeB3+DpuCk4JFlN4UanvwGn8CDpEsrwGdFbF380d4Ad6D/4N5oWFptP+8\n",
       "FxZYq1uLZE1mwqCVS9gKLw6O4R6HwWVbJ2A+hayK18jegvaLM+du5wZneO8u4yn2nbnvFFmagv4E\n",
       "fgxTwx3gYyF5FlolVo6DYO0Sc7HVhgvB1tUhSSrSaMCuixVnQr9UrGmuEmdIlwJv+AS7Jz1hJNga\n",
       "O96Tl+C1EgZFag5HV6X04ICVy6zguGY2cLxjjSzu23pok5WNPFZiBNuQcWNaJ9bWKeG+LdtDJZ5g\n",
       "OxS8to1cy0lI770+H/ikYhlYFhYA7xeD9KbSdhTb1KXRgO2PRY4nHCM14ojUC9ZNhQbrXOAFSALE\n",
       "rUFjANnt1EeW7S0YXcKbQRwzf16FSTmm7nKclbUVKGcaPk8P3gjm4UW3gnAyLalAkq29g5DuecD7\n",
       "0WAycA0oK2Yrvt6gjx06vFnC62gP67MSPdh6nvSBGcAKdUaYHaw81WELbrf8wRJes6ZLowHrjfYx\n",
       "fB+s9YsmvSiQwXsnXA33QRJwfdl3oqc8KJP9LzleGcjeFN4cCUnwO4likEZA4oQmivfqnNAfZgYD\n",
       "ULyeSYC69dolAey9/TZ4jQzwkWAFakWdW7G7sVVurZ+w4TtyykvgxQwJD+TeA+dRgmNyX4rqBbCF\n",
       "HQ67VP86joYHWusBuwmNyiMoWKpRJRlNvxN22UU6O6P2hVnhgZo9sBIpHI81Oh6uOeMmJ3By4RXY\n",
       "rsn5hPrwQEs94IycrZCzq0WSX1GYZ8AZ35DwQKE88DSlKdLEk7O/zgxuWairFIXJvQfSGMPqhHtg\n",
       "5dx745sC/IJdA/bSbw7FXnigOB7YmqLYyhZBXGb2DmxchMJEGcID1TzQj4MutnfVTt7lEArwcN4L\n",
       "EfaHBybkgWGcsMmETsr499NinyuR1su4nWFeh3ogrTGs7rsDVncnx7Ivtj8FN+a4DGF6eKBbHvgx\n",
       "Z7nOMq/iulLXiOa90smr/8PuFnvA7qTPY30rIo9yLEbfnkfDw+bwQL0euJ+EP683cRvT+Sqdb2as\n",
       "2EYbIuvwQMs94AzrdS3PtfEMT0ZFjFsb92NoyJkHlsVeWypf/M2LzImhvv+o7SHhgY7ygC8AvAz+\n",
       "KFZe5G8YelVejA07wwNpe+CvKPxH2kqbpM8XFsbAgCbpD7Xhgcx7YFUsdPGBL39nXc7HwEuybmTY\n",
       "Fx5opgd8Hc3fv1m/mZmkoHshdNi6ug0JD3S0B06n9Gdn3AO+iXNexm0M88IDLfHAKuTyPkzektxq\n",
       "z2Rxkvizlnld5FF7iSNFeGA8HnC2eARk9QXwq7HtzPHYH1+FBzrOA3+ixNdmsNQ+b/W5q//+IiQ8\n",
       "EB4oeWARtk7qTJ8xj/wLe07KmE1hTnggEx7wvwH4cytZEX/h0ZVYs2TFoLAjPJAlD/giwOAMGXQ7\n",
       "tvhWTkh4IDxQxQN9OWaLNrDKd60+tAYZ+r7rDK3OOPILD+TJAz7rLJ+R7cHnraGZ3VJ/wfF7UC73\n",
       "8eHI8gOxHx4ID3zXAwbPB+A7p/uBq6C+hma+e3oH+n0OvD/0AVdd+d8JpoGQ8EB4YDwe6M93Q8FH\n",
       "KXaPDdaPYBNolvgvNszH/N6FB+BwCAkPhAe68MDyHHeBwhfwCRhACY4ld4VmiF1u80zySgLXf8i8\n",
       "G/g/XEPCA+GBMg8YGAbK56VtefC4bwAfBM0Qlxv6G8mVeSb5vsp3O4CrsULCA7nywCRNstbF/xeC\n",
       "LV016cXBGat9kcIx33G1+11N/I90M4OLOQzgkPBAeKDkAV+zuwYqu8NJy3dFkzy1B3rtcif5lG9t\n",
       "8XdvUr6hNjyQew/Ykv4bqgWtv7DYDDkOpdW64h7bthkZhs7wQJE84GOV/0Bl0L7QpELehN7yVtV9\n",
       "1zT/qEn5hdrwQOE8MBUlehIcWybB5HPRZsgwlCZ5OPn0GazTjIxCZ3igyB6YjsI9BwaQAfUlpD3p\n",
       "5cyvrWmi3+ewq0BIeCA8UIcHZiHNy5CMMZ2tTVNmR5nB6uy0K5189zUkPFAYD7jIoJXyGpm5VPFB\n",
       "cBG+yxV9vOOjGFdEuS9+NzX0LsNAtHUWu9auYHIxxJvwBjgmTpYeGqyrgt3wkPBAYTzQysUDU+C1\n",
       "5WAZWA3WAvN3nDkCXgQDzwA0EB3jJgHq1nOTAPZ5ql1sA9sAnwVcMGEFoNj1vg/8x8wPwaPQ1TNh\n",
       "vgoJD+TDAwZBM2VJlK8Pa8IKYMtnAD0C78Ao8EfH0womV1jZ0hrES4OVw1LgePl2uAWuAyuIkPBA\n",
       "eAAPLAR/gKFg1/UG+DUMgGZXEGTxHXHtsN3ww+B+MHjd7g2uegoJD3ScBxwLbwa2Yk4oXQvbgo9z\n",
       "siZOTBmsD8AYuAhWgpDwQOE9YKDuCMPgFTgUZoO8iL9PfBp8AAbw2hASHiikB35EqZ4Hx4O7gssQ\n",
       "8yrTYvgR8B7cDY57Q8IDhfDAXJTCiRtncfeCPAcq5n9LDNy/grPSbit/ZoZDIeGB/HhgC0x9Hy6E\n",
       "Ik/Y2FW2i2wPIlpbnBCSLw9MirkngcG6db5Mr9tax+dHwsewc91aImF4oMUe6E1+V8ILMH+L885C\n",
       "duthhJNSB2fBmLAhPDA+D/gM8yZwpdBM4zux4N8tQ/lcgfXHgpczipdzD/wN+58BJ2M6XVy15ZDA\n",
       "x1gh4YHMecBHNbYq/TNnWfsMWpesP4WYiGrfNYicq3igH8d8Jrlple86/dAxOOBxcLgQEh7IhAcu\n",
       "wIrLM2FJ9gJjMvziBNweGfFPmNHhHpiD8rvGdrEG/DAfaX0M5MJ/1xX/A6wEXE3UnZlmf4liZ/DN\n",
       "ntMha6JtBq2Pu0LCA231wKHkfnMKFhi0X8NZJV3OMh8LX8IOpWPj20zMl85Onzm+k9r0nY+63oa1\n",
       "25R/ZNuhHqj2m0rehNek4I/hJR221oovp+8Drh46DgzI8YnB7vLHLIpLF33cFQGbxatTYJtczVMu\n",
       "js8Gwk7lB1Pefwl988Dk4Coi81wVZoVb4WUYn0zPl6vDFHA9OJOdyILsrAR2V5+FV0HpC+uDlcfT\n",
       "MAQaldtRsEujSiJ9eKAWD1S2sP1I7LhsQkFTSx7l5/qTLsvCA2CwOl52fGvw3glPwI+hK9mYL86H\n",
       "K8BW7n7oCcr2sCb8E7YAVygp5nk2XAVWDo6j0xArnrnTUBQ6wgPd9UBlwE5JQl9AdyleWjIPijaD\n",
       "g8GgsRU1oBTHp3a/Pe5vOvnIxIX3XbjjyBAAAAQeSURBVMkGfPEwfAFXgwFjq6psC+/DKNirtGUz\n",
       "9tHUpGw/gQvgMkhD3kGJrXxIeKBtHliAnB079knBAls+dd0Im8AiUD5utXX9CmwBu5J/80W1SacB\n",
       "HP8FqD9pSQ9k38rmzzA1JLIQOx6/BRZNDqawtTV/NwU9oSI8ULcHbDEMImd4G5UkYE/tQtEgjhtw\n",
       "SQtZ7bTKgDW4LwIrAGdqywPWysBJLbvKjmEN6kS+z84w8LvdkoMNbrcj/WMN6ojk4YGaPFDZJf6I\n",
       "1N6Eq9akpb6TR5aS/agi+WIVn8s/2nV+HK4Eg7VcFubDseDWVVqngWLL7ljX46fDyeBYvVHRR/c2\n",
       "qiTShwdq8UBlwJrWruMGtSjp4tykqztNF9/bCt4D+4EtprPEzrouDon0YseWWukBS8H8fkDskipO\n",
       "WFmOX/sBUa867QYrVghzgWPYX8JbUBnsHKpJHBOvCzfXlCpODg80wQN2UX384YROvWKX+h9gYDg5\n",
       "YzAZWJViS+fssOe5qP4PkFQiP2XfIBsBa4HyR9C2O+AHYNqhYJf3LrD1XB8OhxVBOQDsWm8MO5Q+\n",
       "s2lInMl+FaxQQsIDbffA1VhwVgutmI68HJN2R/qUnTQx+7a8iq2eATSjH8rE4543MySVQdnXNe+q\n",
       "7wmwIggJD2TCA7aytm6rZcKabBlxIObY7S6vOLJlYVjTkR7wxhwOyVi0I51QUeiBfLbrHhVZhWPi\n",
       "Y/s9YPfxGngAqo0/229hay2Ym+zegN+1NtvILTzQfQ/4XNaVRc4cT9n9ZIU7cx5KZDf474UrWRSo\n",
       "cB7oS4l8/GLgzlS40k24QEtzii2rz3DTmLSacI5xRnigQQ84weJiBR9lrN6grjwl3wNjP4bD8mR0\n",
       "2BoeSDzg81QnXY4Gu8tFldkpmKuqXGThAomQ8EBuPWAX8RF4CTbNbSmqG+5zXFdJfQCXw6wQEh7I\n",
       "vQdcPOAyP99WeQg2gDyLgbobjIDnYH0ICQ8UzgNTUaJDYDT40sBO4Hg3L+Lqp4PgZXgRfgbJyil2\n",
       "Q8IDxfTA1BRrb3Bdr8F7Kri4wJY4a2KF4gv1dnnHwN3wY+gJIeGBjvLAxJTWhfpnwyh4Hc4Ef2HC\n",
       "32Jql/Qn453hMvgQ7PoeAwMgJDyQGw8YYM0Sx4XrgOPBNWEecNH8g+Cklc91h4CPTdIUX+czEJ0c\n",
       "WwaWhznBLrsLQJLVW74hFBIeyJUHmhmwlY6YiwOrgEG0LCwOk4HPdp8Hx5AuUPBRyptg19pfiEjQ\n",
       "Vt/oMY1MC65znhFmASuEeWE6sHVPKgUnxe4EX/MLCQ/k2gOtDNhKRzm+nQPmAwOtPxh8YiBODQZo\n",
       "gi2iwetzYLfOUCfBbaC7dNAZXoP/NQgJD4QHwgPhgfBAeCA8EB4ID4QHwgPhgfBAeCA8EB5okwf+\n",
       "H9rkIXTsAb/KAAAAAElFTkSuQmCC\n",
       "\"/></div></td></tr><tr><td style=\"border-top:hidden;border-bottom:hidden;\"><div align=\"center\"><small>Learned Bayesian Network</small></div></td><td style=\"border-top:hidden;border-bottom:hidden;\"><div align=\"center\"><small>Markov blanket of 'Survived'</small></div></td></tr></table>"
      ],
      "text/plain": [
       "<IPython.core.display.HTML object>"
      ]
     },
     "metadata": {},
     "output_type": "display_data"
    }
   ],
   "source": [
    "gnb.sideBySide(bn, gum.MarkovBlanket(bn, 'Survived'), captions=[\"Learned Bayesian Network\", \"Markov blanket of 'Survived'\"])"
   ]
  },
  {
   "cell_type": "markdown",
   "metadata": {},
   "source": [
    "The Markov Blanket of the `Survived` variable tells us that we only need to observe all other variables except for `decade` in order to predict `Survived`. Not really usefull here but on larger Bayesian Networks it can save you a lot of time and CPU.\n",
    "\n",
    "So how to use this BayesNet we have learned as a classifier ? We simply infer the posterior the `Survive` variable given the set of evidence we are given, and if the passanger odds of survival are above some value he will be taged as a survivor.\n",
    "\n",
    "To compute the best value given the BayesNet and our training database, we can use the `showROC()` function."
   ]
  },
  {
   "cell_type": "code",
   "execution_count": 20,
   "metadata": {
    "scrolled": true
   },
   "outputs": [
    {
     "name": "stdout",
     "output_type": "stream",
     "text": [
      " res/titanic/post_train.csv : [ ############################################## ] 100%es/titanic/post_train.csv : [ #########################                      ] 55%res/titanic/post_train.csv : [ ##########################                     ] 57%res/titanic/post_train.csv : [ #############################################  ] 98%\n",
      " result in res/titanic/post_train.csv-ROC_unnamed-Survived-1.png\n"
     ]
    },
    {
     "data": {
      "image/png": "[encoded data removed]",
      "text/plain": [
       "<matplotlib.figure.Figure at 0x114bd6d68>"
      ]
     },
     "metadata": {},
     "output_type": "display_data"
    }
   ],
   "source": [
    "from pyAgrum.lib.bn2roc import showROC\n",
    "\n",
    "showROC(bn, os.path.join('res', 'titanic', 'post_train.csv'),'Survived',\"1\",True,True)"
   ]
  },
  {
   "cell_type": "code",
   "execution_count": 21,
   "metadata": {},
   "outputs": [
    {
     "data": {
      "text/plain": [
       "True Positive     0.588517\n",
       "True Negative     0.351675\n",
       "False Negative    0.047847\n",
       "False Positive    0.011962\n",
       "dtype: float64"
      ]
     },
     "execution_count": 21,
     "metadata": {},
     "output_type": "execute_result"
    }
   ],
   "source": [
    "vars = [ var for var in ptestdf.keys() if var != \"Survived\" ]\n",
    "ie=gum.LazyPropagation(bn)\n",
    "testdf=pandas.read_csv(os.path.join('res', 'titanic', 'post_test.csv'))\n",
    "\n",
    "def init_belief():\n",
    "    # Initialize evidence\n",
    "    for var in vars:\n",
    "        ie.addEvidence(var, 0)\n",
    "\n",
    "def update_beliefs(row):\n",
    "    # Update beliefs from a given row less the Survived variable\n",
    "    for var in vars:\n",
    "        label = str(row.to_dict()[var])\n",
    "        idx = bn.variable(var).index(str(row.to_dict()[var]))\n",
    "        ie.chgEvidence(var, idx)\n",
    "    ie.makeInference()\n",
    "    \n",
    "def is_well_predicted(row):\n",
    "    update_beliefs(row)\n",
    "    marginal = ie.posterior('Survived')\n",
    "    outcome = row.to_dict()['Survived']\n",
    "    if outcome == 0: # Did not survived\n",
    "        if marginal.toarray()[1] < 0.46576681:\n",
    "            return \"True Positive\"\n",
    "        else:\n",
    "            return \"False Negative\"\n",
    "    else: # Survived\n",
    "        if marginal.toarray()[1] >= 0.46576681:\n",
    "            return \"True Negative\"\n",
    "        else:\n",
    "            return \"False Positive\"\n",
    "\n",
    "init_belief()\n",
    "ie.addTarget('Survived')\n",
    "\n",
    "result = testdf.apply(is_well_predicted, axis=1)\n",
    "\n",
    "result.value_counts(True)"
   ]
  },
  {
   "cell_type": "code",
   "execution_count": 22,
   "metadata": {},
   "outputs": [
    {
     "name": "stdout",
     "output_type": "stream",
     "text": [
      "94.02% good predictions\n"
     ]
    }
   ],
   "source": [
    "positives=result.select(lambda idx: result[idx].startswith(\"True\")).count()\n",
    "total=result.count()\n",
    "\n",
    "print(\"{0:.2f}% good predictions\".format(positives/total*100))"
   ]
  },
  {
   "cell_type": "code",
   "execution_count": null,
   "metadata": {
    "collapsed": true
   },
   "outputs": [],
   "source": []
  }
 ],
 "metadata": {
  "hide_input": false,
  "kernelspec": {
   "display_name": "Python 3",
   "language": "python",
   "name": "python3"
  },
  "language_info": {
   "codemirror_mode": {
    "name": "ipython",
    "version": 3
   },
   "file_extension": ".py",
   "mimetype": "text/x-python",
   "name": "python",
   "nbconvert_exporter": "python",
   "pygments_lexer": "ipython3",
   "version": "3.6.0"
  }
 },
 "nbformat": 4,
 "nbformat_minor": 2
}
