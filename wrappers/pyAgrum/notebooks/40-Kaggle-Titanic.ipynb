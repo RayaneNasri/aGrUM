{
 "cells": [
  {
   "cell_type": "markdown",
   "metadata": {},
   "source": [
    "# Titanic: Machine Learning from Disaster\n",
    "\n",
    "This notebook is an introduction to the [Kaggle titanic challenge](https://www.kaggle.com/c/titanic). The goal here is not to produce the best possible classifier, at least not yet, but to show how pyAgrum and Bayesian Networks can be used to easily and quickly explore and understand data.\n",
    "\n",
    "To undestand this notebook, basic knowledge of Bayesian Networks is required. If you are looking for an introduction to pyAgrum, check [this notebook](http://www-desir.lip6.fr/~phw/aGrUM/docs/last/notebooks/01-tutorial.ipynb.html).\n",
    "\n",
    "The notebook is split in four sections:\n",
    "1. Pretreatment: where we mangle with the data.\n",
    "2. Pre-learning: where we define our learning parameters.\n",
    "3. Learning: where we learn a Bayesian Network.\n",
    "4. Classification: where we use the Bayesian Network as a class ifier.\n",
    "\n",
    "Before we start, some notes about aGrUM and pyAgrum. \n",
    "\n",
    "**aGrUM** is a C++ library designed for easily building applications using graphical models such as Bayesian networks, influence diagrams, decision trees or Markov decision processes. \n",
    "\n",
    "**pyAgrum** is a Python wrapper for the C++ aGrUM library. It provides a high-level interface to the part of aGrUM allowing to create, handle and make computations into Bayesian Networks. The module mainly is an application of the [SWIG](http://www.swig.org/) interface generator. Custom-written code is added to simplify and extend the aGrUM API.\n",
    "\n",
    "Both projects are [open source](https://gitlab.com/agrumery/aGrUM/blob/master/LICENSE) and can be freely downloaded from [aGrUM's gitlab repository](https://gitlab.com/agrumery/aGrUM) or installed using [pip or anaconda](http://agrum.gitlab.io/pages/pyagrum.html).\n",
    "\n",
    "If you have questions, remarks or suggestions, feel free to ask us on [info@agrum.org](mailto:info@agrum.org)."
   ]
  },
  {
   "cell_type": "markdown",
   "metadata": {},
   "source": [
    "## Pretreatment\n",
    "We will be using [pandas](http://pandas.pydata.org/) to setup the learning data to fit with pyAgrum requirements."
   ]
  },
  {
   "cell_type": "code",
   "execution_count": 29,
   "metadata": {
    "ExecuteTime": {
     "end_time": "2018-10-31T14:08:51.491606Z",
     "start_time": "2018-10-31T14:08:51.487402Z"
    }
   },
   "outputs": [],
   "source": [
    "import pandas\n",
    "import os"
   ]
  },
  {
   "cell_type": "code",
   "execution_count": 30,
   "metadata": {
    "ExecuteTime": {
     "end_time": "2018-10-31T14:08:51.792333Z",
     "start_time": "2018-10-31T14:08:51.761274Z"
    }
   },
   "outputs": [],
   "source": [
    "traindf=pandas.read_csv(os.path.join('res', 'titanic', 'train.csv'))\n",
    "\n",
    "testdf=pandas.merge(pandas.read_csv(os.path.join('res', 'titanic', 'test.csv')),\n",
    "                    pandas.read_csv(os.path.join('res', 'titanic', 'gender_submission.csv')),\n",
    "                    on=\"PassengerId\")"
   ]
  },
  {
   "cell_type": "markdown",
   "metadata": {},
   "source": [
    "This merges both the test base and their respective classes, i.e. if a passagen has survived or not."
   ]
  },
  {
   "cell_type": "code",
   "execution_count": 31,
   "metadata": {
    "ExecuteTime": {
     "end_time": "2018-10-31T14:08:52.575990Z",
     "start_time": "2018-10-31T14:08:52.559491Z"
    }
   },
   "outputs": [
    {
     "data": {
      "text/plain": [
       "PassengerId    66231.000000\n",
       "Survived           0.236772\n",
       "Pclass             0.699015\n",
       "Age              211.019125\n",
       "SibSp              1.216043\n",
       "Parch              0.649728\n",
       "Fare            2469.436846\n",
       "dtype: float64"
      ]
     },
     "execution_count": 31,
     "metadata": {},
     "output_type": "execute_result"
    }
   ],
   "source": [
    "traindf.var()"
   ]
  },
  {
   "cell_type": "code",
   "execution_count": 32,
   "metadata": {
    "ExecuteTime": {
     "end_time": "2018-10-31T14:08:53.054941Z",
     "start_time": "2018-10-31T14:08:53.041647Z"
    }
   },
   "outputs": [
    {
     "name": "stdout",
     "output_type": "stream",
     "text": [
      "PassengerId: 891\n",
      "Survived: 2\n",
      "Pclass: 3\n",
      "Name: 891\n",
      "Sex: 2\n",
      "Age: 89\n",
      "SibSp: 7\n",
      "Parch: 7\n",
      "Ticket: 681\n",
      "Fare: 248\n",
      "Cabin: 148\n",
      "Embarked: 4\n"
     ]
    }
   ],
   "source": [
    "for k in traindf.keys():\n",
    "    print('{0}: {1}'.format(k, len(traindf[k].unique())))"
   ]
  },
  {
   "cell_type": "markdown",
   "metadata": {},
   "source": [
    "Looking at the number of unique values for each variable necessary since Bayesian Networks are discrete models. We will want to reduce the domain size of some discrete varaibles (like age) and discretize continuous variables (like Fare).\n",
    "\n",
    "For starters you can filter out variables with a large number of values. Choosing a large number will have an impact on performances, which boils down to how much CPU and RAM you have at your disposal. Here, we choose to filter out any variable with more than 10 different outcomes."
   ]
  },
  {
   "cell_type": "code",
   "execution_count": 33,
   "metadata": {
    "ExecuteTime": {
     "end_time": "2018-10-31T14:08:55.114596Z",
     "start_time": "2018-10-31T14:08:55.106676Z"
    }
   },
   "outputs": [
    {
     "name": "stdout",
     "output_type": "stream",
     "text": [
      "Survived\n",
      "Pclass\n",
      "Sex\n",
      "SibSp\n",
      "Parch\n",
      "Embarked\n"
     ]
    }
   ],
   "source": [
    "for k in traindf.keys():\n",
    "    if len(traindf[k].unique())<=15:\n",
    "        print(k)"
   ]
  },
  {
   "cell_type": "markdown",
   "metadata": {},
   "source": [
    "This leaves us with 6 variables, not much but still enough to learn a Bayesian Network. Will just add one more variable by reducing the cardinality of the Age variable."
   ]
  },
  {
   "cell_type": "code",
   "execution_count": 34,
   "metadata": {
    "ExecuteTime": {
     "end_time": "2018-10-31T14:09:00.103295Z",
     "start_time": "2018-10-31T14:09:00.068747Z"
    }
   },
   "outputs": [
    {
     "name": "stdout",
     "output_type": "stream",
     "text": [
      "Decade: 10\n"
     ]
    }
   ],
   "source": [
    "import math\n",
    "\n",
    "def forAge(row):\n",
    "    if row['Age'] < 10:\n",
    "        return '<10'\n",
    "    elif math.isnan(row['Age']):\n",
    "        return \"nan\"\n",
    "    else:\n",
    "        dec = str(int(row['Age']/10))\n",
    "        return \"{0}0's\".format(dec)\n",
    "\n",
    "decade=traindf.apply(forAge, axis=1)\n",
    "print(\"Decade: {1}\".format(k, len(decade.unique())))"
   ]
  },
  {
   "cell_type": "markdown",
   "metadata": {},
   "source": [
    "When pretreating data, you will want to wrap your changes inside a function, this will help you keep track of your changes and easily compare them."
   ]
  },
  {
   "cell_type": "code",
   "execution_count": 81,
   "metadata": {
    "ExecuteTime": {
     "end_time": "2018-10-31T14:24:45.389286Z",
     "start_time": "2018-10-31T14:24:45.378887Z"
    }
   },
   "outputs": [],
   "source": [
    "import math\n",
    "def pretreat(df):\n",
    "    # create a df with discrete variables (len<10)\n",
    "    lvd=[k for k in df.keys() if len(df[k].unique())<=15]\n",
    "    res=df[lvd].copy()\n",
    "    \n",
    "    forAge = lambda row: int(row['Age']/10) if not math.isnan(row['Age']) else np.nan\n",
    "    res['Decade']=df.apply(forAge, axis=1)\n",
    "    \n",
    "    res=res.dropna()    \n",
    "    res['Decade']=res['Decade'].astype('int32')\n",
    "    \n",
    "    return res"
   ]
  },
  {
   "cell_type": "code",
   "execution_count": 82,
   "metadata": {
    "ExecuteTime": {
     "end_time": "2018-10-31T14:24:46.101825Z",
     "start_time": "2018-10-31T14:24:45.972409Z"
    }
   },
   "outputs": [],
   "source": [
    "ptraindf=pretreat(traindf)\n",
    "ptestdf=pretreat(testdf)"
   ]
  },
  {
   "cell_type": "markdown",
   "metadata": {},
   "source": [
    "We will need to save this intermediate learning database, since pyAgrum accepts only files as inputs."
   ]
  },
  {
   "cell_type": "code",
   "execution_count": 83,
   "metadata": {
    "ExecuteTime": {
     "end_time": "2018-10-31T14:24:47.371721Z",
     "start_time": "2018-10-31T14:24:47.354755Z"
    }
   },
   "outputs": [],
   "source": [
    "ptraindf.to_csv(os.path.join('res', 'titanic', 'post_train.csv'), index=False)\n",
    "ptestdf.to_csv(os.path.join('res', 'titanic', 'post_test.csv'), index=False)"
   ]
  },
  {
   "cell_type": "markdown",
   "metadata": {},
   "source": [
    "## Pre-learning\n",
    "Now we have two data files: `data/post_train.csv` and `data/post_test.csv`. The first one is our pretreated learning database, the second our pretreated test base.\n",
    "\n",
    "Before learning a Bayesian Network, we first need to create a template. This is not mandatory, however it is sometimes usefull since not all varaibles values are present in the learning base (in this example the number of relatives).\n",
    "\n",
    "If during the learning step, the algorithm encounters an unknown value it will raise an error. This would be an issue if we wanted to automitize our classifier but, we will directly use values working with the test and learning base. This is not ideal but the objective here it to explore the data fast, not thoroughly."
   ]
  },
  {
   "cell_type": "code",
   "execution_count": 84,
   "metadata": {
    "ExecuteTime": {
     "end_time": "2018-10-31T14:24:48.222986Z",
     "start_time": "2018-10-31T14:24:48.219631Z"
    }
   },
   "outputs": [],
   "source": [
    "import pyAgrum as gum\n",
    "import pyAgrum.lib.notebook as gnb"
   ]
  },
  {
   "cell_type": "markdown",
   "metadata": {},
   "source": [
    "To help creating de the template Bayesian Network that we will use to learn our classifier, let us firt recall all the variables wa have at our disposal."
   ]
  },
  {
   "cell_type": "code",
   "execution_count": 85,
   "metadata": {
    "ExecuteTime": {
     "end_time": "2018-10-31T14:24:49.197471Z",
     "start_time": "2018-10-31T14:24:49.180761Z"
    }
   },
   "outputs": [
    {
     "name": "stdout",
     "output_type": "stream",
     "text": [
      "Survived : [0 1]\n",
      "Pclass : [3 1 2]\n",
      "Sex : ['male' 'female']\n",
      "SibSp : [1 0 3 4 2 5]\n",
      "Parch : [0 1 2 5 3 4 6]\n",
      "Embarked : ['S' 'C' 'Q']\n",
      "Decade : [2 3 5 0 1 4 6 7 8]\n"
     ]
    }
   ],
   "source": [
    "df = pandas.read_csv(os.path.join('res', 'titanic', 'post_train.csv'))\n",
    "for k in df.keys():\n",
    "    print(\"{} : {}\".format(k, df[k].unique()))"
   ]
  },
  {
   "cell_type": "markdown",
   "metadata": {},
   "source": [
    "From here, creating the BayesNet is straitforward: for each variable we either use the `RangeVariable` class or the `LabelizedVariable`.\n",
    "\n",
    "The `RangeVariable` class creates a discrete random variable over a range. With the `LabelizedVariable` you will need to add each label ony by one. Note however that you can pass an argument to create as much labels starting from `0`."
   ]
  },
  {
   "cell_type": "code",
   "execution_count": 86,
   "metadata": {
    "ExecuteTime": {
     "end_time": "2018-10-31T14:24:53.136380Z",
     "start_time": "2018-10-31T14:24:50.702634Z"
    }
   },
   "outputs": [
    {
     "data": {
      "text/html": [
       "<svg height=\"18pt\" viewBox=\"0.00 0.00 288.00 17.64\" width=\"288pt\" xmlns=\"http://www.w3.org/2000/svg\" xmlns:xlink=\"http://www.w3.org/1999/xlink\">\n",
       "<g class=\"graph\" id=\"graph0\" transform=\"scale(.4008 .4008) rotate(0) translate(4 40)\">\n",
       "<title>G</title>\n",
       "<!-- Survived -->\n",
       "<g class=\"node\" id=\"node1\">\n",
       "<title>Survived</title>\n",
       "<g id=\"a_node1\"><a xlink:title=\"(0) Survived\">\n",
       "<ellipse cx=\"51.9954\" cy=\"-18\" fill=\"#444444\" rx=\"51.9908\" ry=\"18\" stroke=\"#000000\"/>\n",
       "<text fill=\"#ffffff\" font-family=\"Times,serif\" font-size=\"14.00\" text-anchor=\"middle\" x=\"51.9954\" y=\"-14.3\">Survived</text>\n",
       "</a>\n",
       "</g>\n",
       "</g>\n",
       "<!-- Pclass -->\n",
       "<g class=\"node\" id=\"node2\">\n",
       "<title>Pclass</title>\n",
       "<g id=\"a_node2\"><a xlink:title=\"(1) Pclass\">\n",
       "<ellipse cx=\"161.9954\" cy=\"-18\" fill=\"#444444\" rx=\"40.0939\" ry=\"18\" stroke=\"#000000\"/>\n",
       "<text fill=\"#ffffff\" font-family=\"Times,serif\" font-size=\"14.00\" text-anchor=\"middle\" x=\"161.9954\" y=\"-14.3\">Pclass</text>\n",
       "</a>\n",
       "</g>\n",
       "</g>\n",
       "<!-- Sex -->\n",
       "<g class=\"node\" id=\"node3\">\n",
       "<title>Sex</title>\n",
       "<g id=\"a_node3\"><a xlink:title=\"(2) Sex\">\n",
       "<ellipse cx=\"247.9954\" cy=\"-18\" fill=\"#444444\" rx=\"27.8951\" ry=\"18\" stroke=\"#000000\"/>\n",
       "<text fill=\"#ffffff\" font-family=\"Times,serif\" font-size=\"14.00\" text-anchor=\"middle\" x=\"247.9954\" y=\"-14.3\">Sex</text>\n",
       "</a>\n",
       "</g>\n",
       "</g>\n",
       "<!-- SibSp -->\n",
       "<g class=\"node\" id=\"node4\">\n",
       "<title>SibSp</title>\n",
       "<g id=\"a_node4\"><a xlink:title=\"(3) SibSp\">\n",
       "<ellipse cx=\"331.9954\" cy=\"-18\" fill=\"#444444\" rx=\"38.1938\" ry=\"18\" stroke=\"#000000\"/>\n",
       "<text fill=\"#ffffff\" font-family=\"Times,serif\" font-size=\"14.00\" text-anchor=\"middle\" x=\"331.9954\" y=\"-14.3\">SibSp</text>\n",
       "</a>\n",
       "</g>\n",
       "</g>\n",
       "<!-- Parch -->\n",
       "<g class=\"node\" id=\"node5\">\n",
       "<title>Parch</title>\n",
       "<g id=\"a_node5\"><a xlink:title=\"(4) Parch\">\n",
       "<ellipse cx=\"426.9954\" cy=\"-18\" fill=\"#444444\" rx=\"38.1938\" ry=\"18\" stroke=\"#000000\"/>\n",
       "<text fill=\"#ffffff\" font-family=\"Times,serif\" font-size=\"14.00\" text-anchor=\"middle\" x=\"426.9954\" y=\"-14.3\">Parch</text>\n",
       "</a>\n",
       "</g>\n",
       "</g>\n",
       "<!-- Embarked -->\n",
       "<g class=\"node\" id=\"node6\">\n",
       "<title>Embarked</title>\n",
       "<g id=\"a_node6\"><a xlink:title=\"(5) Embarked\">\n",
       "<ellipse cx=\"541.9954\" cy=\"-18\" fill=\"#444444\" rx=\"59.2899\" ry=\"18\" stroke=\"#000000\"/>\n",
       "<text fill=\"#ffffff\" font-family=\"Times,serif\" font-size=\"14.00\" text-anchor=\"middle\" x=\"541.9954\" y=\"-14.3\">Embarked</text>\n",
       "</a>\n",
       "</g>\n",
       "</g>\n",
       "<!-- Decade -->\n",
       "<g class=\"node\" id=\"node7\">\n",
       "<title>Decade</title>\n",
       "<g id=\"a_node7\"><a xlink:title=\"(6) Decade\">\n",
       "<ellipse cx=\"664.9954\" cy=\"-18\" fill=\"#444444\" rx=\"45.4919\" ry=\"18\" stroke=\"#000000\"/>\n",
       "<text fill=\"#ffffff\" font-family=\"Times,serif\" font-size=\"14.00\" text-anchor=\"middle\" x=\"664.9954\" y=\"-14.3\">Decade</text>\n",
       "</a>\n",
       "</g>\n",
       "</g>\n",
       "</g>\n",
       "</svg>"
      ],
      "text/plain": [
       "<IPython.core.display.HTML object>"
      ]
     },
     "metadata": {},
     "output_type": "display_data"
    }
   ],
   "source": [
    "template=gum.BayesNet()\n",
    "template.add(gum.RangeVariable(\"Survived\", \"Survived\",0,1))\n",
    "template.add(gum.RangeVariable(\"Pclass\", \"Pclass\",1,3))\n",
    "template.add(gum.LabelizedVariable(\"Sex\", \"Sex\",0).addLabel(\"female\").addLabel(\"male\"))\n",
    "template.add(gum.RangeVariable(\"SibSp\", \"SibSp\",0,8))\n",
    "template.add(gum.RangeVariable(\"Parch\", \"Parch\",0,9))\n",
    "template.add(gum.LabelizedVariable(\"Embarked\", \"Embarked\",0).addLabel('').addLabel('C').addLabel('Q').addLabel('S'))\n",
    "template.add(gum.RangeVariable(\"Decade\", \"Calculated decade\", 0,9))\n",
    "             \n",
    "gnb.showBN(template)"
   ]
  },
  {
   "cell_type": "markdown",
   "metadata": {},
   "source": [
    "You can also let the learning algorithm create the BayesNet random variables. However please be aware that the algorithm will no be able to handle values absent from the learning database."
   ]
  },
  {
   "cell_type": "markdown",
   "metadata": {},
   "source": [
    "## Learning\n",
    "\n",
    "We can now learn our first Bayesian Network. As you will see, this is really easy."
   ]
  },
  {
   "cell_type": "code",
   "execution_count": 87,
   "metadata": {
    "ExecuteTime": {
     "end_time": "2018-10-31T14:24:57.271638Z",
     "start_time": "2018-10-31T14:24:55.289686Z"
    },
    "scrolled": false
   },
   "outputs": [
    {
     "data": {
      "text/html": [
       "<svg height=\"288pt\" viewBox=\"0.00 0.00 287.56 288.00\" width=\"288pt\" xmlns=\"http://www.w3.org/2000/svg\" xmlns:xlink=\"http://www.w3.org/1999/xlink\">\n",
       "<g class=\"graph\" id=\"graph0\" transform=\"scale(.8675 .8675) rotate(0) translate(4 328)\">\n",
       "<title>G</title>\n",
       "<!-- Survived -->\n",
       "<g class=\"node\" id=\"node1\">\n",
       "<title>Survived</title>\n",
       "<g id=\"a_node1\"><a xlink:title=\"(0) Survived\">\n",
       "<ellipse cx=\"51.9954\" cy=\"-162\" fill=\"#444444\" rx=\"51.9908\" ry=\"18\" stroke=\"#000000\"/>\n",
       "<text fill=\"#ffffff\" font-family=\"Times,serif\" font-size=\"14.00\" text-anchor=\"middle\" x=\"51.9954\" y=\"-158.3\">Survived</text>\n",
       "</a>\n",
       "</g>\n",
       "</g>\n",
       "<!-- Pclass -->\n",
       "<g class=\"node\" id=\"node2\">\n",
       "<title>Pclass</title>\n",
       "<g id=\"a_node2\"><a xlink:title=\"(1) Pclass\">\n",
       "<ellipse cx=\"91.9954\" cy=\"-90\" fill=\"#444444\" rx=\"40.0939\" ry=\"18\" stroke=\"#000000\"/>\n",
       "<text fill=\"#ffffff\" font-family=\"Times,serif\" font-size=\"14.00\" text-anchor=\"middle\" x=\"91.9954\" y=\"-86.3\">Pclass</text>\n",
       "</a>\n",
       "</g>\n",
       "</g>\n",
       "<!-- Survived&#45;&gt;Pclass -->\n",
       "<g class=\"edge\" id=\"edge1\">\n",
       "<title>Survived-&gt;Pclass</title>\n",
       "<g id=\"a_edge1\"><a xlink:title=\"(0, 1) : \">\n",
       "<path d=\"M61.883,-144.2022C66.5332,-135.832 72.1731,-125.6802 77.3089,-116.4356\" fill=\"none\" stroke=\"#000000\"/>\n",
       "<polygon fill=\"#000000\" points=\"80.4246,-118.0344 82.2215,-107.593 74.3054,-114.6348 80.4246,-118.0344\" stroke=\"#000000\"/>\n",
       "</a>\n",
       "</g>\n",
       "</g>\n",
       "<!-- Embarked -->\n",
       "<g class=\"node\" id=\"node6\">\n",
       "<title>Embarked</title>\n",
       "<g id=\"a_node6\"><a xlink:title=\"(5) Embarked\">\n",
       "<ellipse cx=\"91.9954\" cy=\"-18\" fill=\"#444444\" rx=\"59.2899\" ry=\"18\" stroke=\"#000000\"/>\n",
       "<text fill=\"#ffffff\" font-family=\"Times,serif\" font-size=\"14.00\" text-anchor=\"middle\" x=\"91.9954\" y=\"-14.3\">Embarked</text>\n",
       "</a>\n",
       "</g>\n",
       "</g>\n",
       "<!-- Pclass&#45;&gt;Embarked -->\n",
       "<g class=\"edge\" id=\"edge4\">\n",
       "<title>Pclass-&gt;Embarked</title>\n",
       "<g id=\"a_edge4\"><a xlink:title=\"(1, 5) : \">\n",
       "<path d=\"M91.9954,-71.8314C91.9954,-64.131 91.9954,-54.9743 91.9954,-46.4166\" fill=\"none\" stroke=\"#000000\"/>\n",
       "<polygon fill=\"#000000\" points=\"95.4955,-46.4132 91.9954,-36.4133 88.4955,-46.4133 95.4955,-46.4132\" stroke=\"#000000\"/>\n",
       "</a>\n",
       "</g>\n",
       "</g>\n",
       "<!-- Sex -->\n",
       "<g class=\"node\" id=\"node3\">\n",
       "<title>Sex</title>\n",
       "<g id=\"a_node3\"><a xlink:title=\"(2) Sex\">\n",
       "<ellipse cx=\"91.9954\" cy=\"-234\" fill=\"#444444\" rx=\"27.8951\" ry=\"18\" stroke=\"#000000\"/>\n",
       "<text fill=\"#ffffff\" font-family=\"Times,serif\" font-size=\"14.00\" text-anchor=\"middle\" x=\"91.9954\" y=\"-230.3\">Sex</text>\n",
       "</a>\n",
       "</g>\n",
       "</g>\n",
       "<!-- Sex&#45;&gt;Survived -->\n",
       "<g class=\"edge\" id=\"edge5\">\n",
       "<title>Sex-&gt;Survived</title>\n",
       "<g id=\"a_edge5\"><a xlink:title=\"(2, 0) : \">\n",
       "<path d=\"M82.5159,-216.937C77.8377,-208.5161 72.0858,-198.1627 66.8413,-188.7226\" fill=\"none\" stroke=\"#000000\"/>\n",
       "<polygon fill=\"#000000\" points=\"69.7405,-186.7342 61.8245,-179.6924 63.6214,-190.1338 69.7405,-186.7342\" stroke=\"#000000\"/>\n",
       "</a>\n",
       "</g>\n",
       "</g>\n",
       "<!-- Sex&#45;&gt;Pclass -->\n",
       "<g class=\"edge\" id=\"edge3\">\n",
       "<title>Sex-&gt;Pclass</title>\n",
       "<g id=\"a_edge3\"><a xlink:title=\"(2, 1) : \">\n",
       "<path d=\"M100.7149,-216.491C105.3713,-206.1547 110.6213,-192.6547 112.9954,-180 115.9455,-164.2743 115.9455,-159.7257 112.9954,-144 111.3157,-135.0465 108.1964,-125.67 104.8662,-117.2901\" fill=\"none\" stroke=\"#000000\"/>\n",
       "<polygon fill=\"#000000\" points=\"108.0537,-115.8414 100.9336,-107.9958 101.607,-118.5692 108.0537,-115.8414\" stroke=\"#000000\"/>\n",
       "</a>\n",
       "</g>\n",
       "</g>\n",
       "<!-- SibSp -->\n",
       "<g class=\"node\" id=\"node4\">\n",
       "<title>SibSp</title>\n",
       "<g id=\"a_node4\"><a xlink:title=\"(3) SibSp\">\n",
       "<ellipse cx=\"175.9954\" cy=\"-234\" fill=\"#444444\" rx=\"38.1938\" ry=\"18\" stroke=\"#000000\"/>\n",
       "<text fill=\"#ffffff\" font-family=\"Times,serif\" font-size=\"14.00\" text-anchor=\"middle\" x=\"175.9954\" y=\"-230.3\">SibSp</text>\n",
       "</a>\n",
       "</g>\n",
       "</g>\n",
       "<!-- Parch -->\n",
       "<g class=\"node\" id=\"node5\">\n",
       "<title>Parch</title>\n",
       "<g id=\"a_node5\"><a xlink:title=\"(4) Parch\">\n",
       "<ellipse cx=\"175.9954\" cy=\"-306\" fill=\"#444444\" rx=\"38.1938\" ry=\"18\" stroke=\"#000000\"/>\n",
       "<text fill=\"#ffffff\" font-family=\"Times,serif\" font-size=\"14.00\" text-anchor=\"middle\" x=\"175.9954\" y=\"-302.3\">Parch</text>\n",
       "</a>\n",
       "</g>\n",
       "</g>\n",
       "<!-- Parch&#45;&gt;Sex -->\n",
       "<g class=\"edge\" id=\"edge7\">\n",
       "<title>Parch-&gt;Sex</title>\n",
       "<g id=\"a_edge7\"><a xlink:title=\"(4, 2) : \">\n",
       "<path d=\"M157.3531,-290.0209C145.345,-279.7283 129.602,-266.2342 116.5759,-255.069\" fill=\"none\" stroke=\"#000000\"/>\n",
       "<polygon fill=\"#000000\" points=\"118.7444,-252.318 108.8741,-248.4674 114.1889,-257.6328 118.7444,-252.318\" stroke=\"#000000\"/>\n",
       "</a>\n",
       "</g>\n",
       "</g>\n",
       "<!-- Parch&#45;&gt;SibSp -->\n",
       "<g class=\"edge\" id=\"edge6\">\n",
       "<title>Parch-&gt;SibSp</title>\n",
       "<g id=\"a_edge6\"><a xlink:title=\"(4, 3) : \">\n",
       "<path d=\"M175.9954,-287.8314C175.9954,-280.131 175.9954,-270.9743 175.9954,-262.4166\" fill=\"none\" stroke=\"#000000\"/>\n",
       "<polygon fill=\"#000000\" points=\"179.4955,-262.4132 175.9954,-252.4133 172.4955,-262.4133 179.4955,-262.4132\" stroke=\"#000000\"/>\n",
       "</a>\n",
       "</g>\n",
       "</g>\n",
       "<!-- Decade -->\n",
       "<g class=\"node\" id=\"node7\">\n",
       "<title>Decade</title>\n",
       "<g id=\"a_node7\"><a xlink:title=\"(6) Decade\">\n",
       "<ellipse cx=\"277.9954\" cy=\"-234\" fill=\"#444444\" rx=\"45.4919\" ry=\"18\" stroke=\"#000000\"/>\n",
       "<text fill=\"#ffffff\" font-family=\"Times,serif\" font-size=\"14.00\" text-anchor=\"middle\" x=\"277.9954\" y=\"-230.3\">Decade</text>\n",
       "</a>\n",
       "</g>\n",
       "</g>\n",
       "<!-- Parch&#45;&gt;Decade -->\n",
       "<g class=\"edge\" id=\"edge2\">\n",
       "<title>Parch-&gt;Decade</title>\n",
       "<g id=\"a_edge2\"><a xlink:title=\"(4, 6) : \">\n",
       "<path d=\"M197.627,-290.7307C212.0347,-280.5605 231.1861,-267.0419 247.1796,-255.7523\" fill=\"none\" stroke=\"#000000\"/>\n",
       "<polygon fill=\"#000000\" points=\"249.5386,-258.3713 255.6899,-249.7451 245.5018,-252.6526 249.5386,-258.3713\" stroke=\"#000000\"/>\n",
       "</a>\n",
       "</g>\n",
       "</g>\n",
       "</g>\n",
       "</svg>"
      ],
      "text/plain": [
       "(gum::BayesNet<double>@0x555bcce70d00) BN{nodes: 7, arcs: 7, domainSize: 43200, parameters: 248, compression ratio: 99% }"
      ]
     },
     "execution_count": 87,
     "metadata": {},
     "output_type": "execute_result"
    }
   ],
   "source": [
    "learner = gum.BNLearner(os.path.join('res', 'titanic', 'post_train.csv'), template)\n",
    "bn = learner.learnBN()\n",
    "bn"
   ]
  },
  {
   "cell_type": "markdown",
   "metadata": {},
   "source": [
    "In a notebook, a Bayesian Network will automatically be shown graphically, you can also use the helper function `gnb.showBN(bn)`."
   ]
  },
  {
   "cell_type": "markdown",
   "metadata": {},
   "source": [
    "## Exploring the data\n",
    "Now that we have a BayesNet, we can start looking how the variables corelate with each other. pyAgum offer the perfect tool for that: the information graph."
   ]
  },
  {
   "cell_type": "code",
   "execution_count": 88,
   "metadata": {
    "ExecuteTime": {
     "end_time": "2018-10-31T14:25:12.382719Z",
     "start_time": "2018-10-31T14:25:10.230116Z"
    }
   },
   "outputs": [
    {
     "data": {
      "text/html": [
       "<div align='center'><svg height=\"332pt\" viewBox=\"0.00 0.00 331.49 332.00\" width=\"331pt\" xmlns=\"http://www.w3.org/2000/svg\" xmlns:xlink=\"http://www.w3.org/1999/xlink\">\n",
       "<g class=\"graph\" id=\"graph0\" transform=\"scale(1 1) rotate(0) translate(4 328)\">\n",
       "<title>G</title>\n",
       "<!-- Survived -->\n",
       "<g class=\"node\" id=\"node1\">\n",
       "<title>Survived</title>\n",
       "<g id=\"a_node1\"><a xlink:title=\"(0) Survived : 0.97359\">\n",
       "<ellipse cx=\"51.9954\" cy=\"-162\" fill=\"#4f060a\" rx=\"51.9908\" ry=\"18\" stroke=\"#000000\"/>\n",
       "<text fill=\"#ffffff\" font-family=\"Times,serif\" font-size=\"14.00\" text-anchor=\"middle\" x=\"51.9954\" y=\"-158.3\">Survived</text>\n",
       "</a>\n",
       "</g>\n",
       "</g>\n",
       "<!-- Pclass -->\n",
       "<g class=\"node\" id=\"node2\">\n",
       "<title>Pclass</title>\n",
       "<g id=\"a_node2\"><a xlink:title=\"(1) Pclass : 1.50129\">\n",
       "<ellipse cx=\"91.9954\" cy=\"-90\" fill=\"#68365b\" rx=\"40.0939\" ry=\"18\" stroke=\"#000000\"/>\n",
       "<text fill=\"#ffffff\" font-family=\"Times,serif\" font-size=\"14.00\" text-anchor=\"middle\" x=\"91.9954\" y=\"-86.3\">Pclass</text>\n",
       "</a>\n",
       "</g>\n",
       "</g>\n",
       "<!-- Survived&#45;&gt;Pclass -->\n",
       "<g class=\"edge\" id=\"edge1\">\n",
       "<title>Survived-&gt;Pclass</title>\n",
       "<g id=\"a_edge1\"><a xlink:title=\"(0, 1) : 0.09377567147937242\">\n",
       "<path d=\"M61.883,-144.2022C66.5332,-135.832 72.1731,-125.6802 77.3089,-116.4356\" fill=\"none\" stroke=\"#000000\" stroke-width=\"1.8517\"/>\n",
       "<polygon fill=\"#000000\" points=\"80.4246,-118.0344 82.2215,-107.593 74.3054,-114.6348 80.4246,-118.0344\" stroke=\"#000000\" stroke-width=\"1.8517\"/>\n",
       "</a>\n",
       "</g>\n",
       "</g>\n",
       "<!-- Embarked -->\n",
       "<g class=\"node\" id=\"node6\">\n",
       "<title>Embarked</title>\n",
       "<g id=\"a_node6\"><a xlink:title=\"(5) Embarked : 0.91907\">\n",
       "<ellipse cx=\"91.9954\" cy=\"-18\" fill=\"#4d0102\" rx=\"59.2899\" ry=\"18\" stroke=\"#000000\"/>\n",
       "<text fill=\"#ffffff\" font-family=\"Times,serif\" font-size=\"14.00\" text-anchor=\"middle\" x=\"91.9954\" y=\"-14.3\">Embarked</text>\n",
       "</a>\n",
       "</g>\n",
       "</g>\n",
       "<!-- Pclass&#45;&gt;Embarked -->\n",
       "<g class=\"edge\" id=\"edge4\">\n",
       "<title>Pclass-&gt;Embarked</title>\n",
       "<g id=\"a_edge4\"><a xlink:title=\"(1, 5) : 0.08692509724452918\">\n",
       "<path d=\"M91.9954,-71.8314C91.9954,-64.131 91.9954,-54.9743 91.9954,-46.4166\" fill=\"none\" stroke=\"#000000\" stroke-width=\"1.6925\"/>\n",
       "<polygon fill=\"#000000\" points=\"95.4955,-46.4132 91.9954,-36.4133 88.4955,-46.4133 95.4955,-46.4132\" stroke=\"#000000\" stroke-width=\"1.6925\"/>\n",
       "</a>\n",
       "</g>\n",
       "</g>\n",
       "<!-- Sex -->\n",
       "<g class=\"node\" id=\"node3\">\n",
       "<title>Sex</title>\n",
       "<g id=\"a_node3\"><a xlink:title=\"(2) Sex : 0.94592\">\n",
       "<ellipse cx=\"91.9954\" cy=\"-234\" fill=\"#4e0306\" rx=\"27.8951\" ry=\"18\" stroke=\"#000000\"/>\n",
       "<text fill=\"#ffffff\" font-family=\"Times,serif\" font-size=\"14.00\" text-anchor=\"middle\" x=\"91.9954\" y=\"-230.3\">Sex</text>\n",
       "</a>\n",
       "</g>\n",
       "</g>\n",
       "<!-- Sex&#45;&gt;Survived -->\n",
       "<g class=\"edge\" id=\"edge5\">\n",
       "<title>Sex-&gt;Survived</title>\n",
       "<g id=\"a_edge5\"><a xlink:title=\"(2, 0) : 0.21348084055839042\">\n",
       "<path d=\"M82.5159,-216.937C77.8377,-208.5161 72.0858,-198.1627 66.8413,-188.7226\" fill=\"none\" stroke=\"#000000\" stroke-width=\"4.6332\"/>\n",
       "<polygon fill=\"#000000\" points=\"70.2249,-186.4652 61.8245,-179.6924 63.1371,-190.4029 70.2249,-186.4652\" stroke=\"#000000\" stroke-width=\"4.6332\"/>\n",
       "</a>\n",
       "</g>\n",
       "</g>\n",
       "<!-- Sex&#45;&gt;Pclass -->\n",
       "<g class=\"edge\" id=\"edge3\">\n",
       "<title>Sex-&gt;Pclass</title>\n",
       "<g id=\"a_edge3\"><a xlink:title=\"(2, 1) : 0.018388796256806263\">\n",
       "<path d=\"M100.7149,-216.491C105.3713,-206.1547 110.6213,-192.6547 112.9954,-180 115.9455,-164.2743 115.9455,-159.7257 112.9954,-144 111.3157,-135.0465 108.1964,-125.67 104.8662,-117.2901\" fill=\"none\" stroke=\"#000000\" stroke-width=\".1\"/>\n",
       "<polygon fill=\"#000000\" points=\"108.0537,-115.8414 100.9336,-107.9958 101.607,-118.5692 108.0537,-115.8414\" stroke=\"#000000\" stroke-width=\".1\"/>\n",
       "</a>\n",
       "</g>\n",
       "</g>\n",
       "<!-- SibSp -->\n",
       "<g class=\"node\" id=\"node4\">\n",
       "<title>SibSp</title>\n",
       "<g id=\"a_node4\"><a xlink:title=\"(3) SibSp : 1.36252\">\n",
       "<ellipse cx=\"175.9954\" cy=\"-234\" fill=\"#612a46\" rx=\"38.1938\" ry=\"18\" stroke=\"#000000\"/>\n",
       "<text fill=\"#ffffff\" font-family=\"Times,serif\" font-size=\"14.00\" text-anchor=\"middle\" x=\"175.9954\" y=\"-230.3\">SibSp</text>\n",
       "</a>\n",
       "</g>\n",
       "</g>\n",
       "<!-- Parch -->\n",
       "<g class=\"node\" id=\"node5\">\n",
       "<title>Parch</title>\n",
       "<g id=\"a_node5\"><a xlink:title=\"(4) Parch : 1.23770\">\n",
       "<ellipse cx=\"175.9954\" cy=\"-306\" fill=\"#5c1e33\" rx=\"38.1938\" ry=\"18\" stroke=\"#000000\"/>\n",
       "<text fill=\"#ffffff\" font-family=\"Times,serif\" font-size=\"14.00\" text-anchor=\"middle\" x=\"175.9954\" y=\"-302.3\">Parch</text>\n",
       "</a>\n",
       "</g>\n",
       "</g>\n",
       "<!-- Parch&#45;&gt;Sex -->\n",
       "<g class=\"edge\" id=\"edge7\">\n",
       "<title>Parch-&gt;Sex</title>\n",
       "<g id=\"a_edge7\"><a xlink:title=\"(4, 2) : 0.04935370467254296\">\n",
       "<path d=\"M157.3531,-290.0209C145.345,-279.7283 129.602,-266.2342 116.5759,-255.069\" fill=\"none\" stroke=\"#000000\" stroke-width=\".8195\"/>\n",
       "<polygon fill=\"#000000\" points=\"118.7444,-252.318 108.8741,-248.4674 114.1889,-257.6328 118.7444,-252.318\" stroke=\"#000000\" stroke-width=\".8195\"/>\n",
       "</a>\n",
       "</g>\n",
       "</g>\n",
       "<!-- Parch&#45;&gt;SibSp -->\n",
       "<g class=\"edge\" id=\"edge6\">\n",
       "<title>Parch-&gt;SibSp</title>\n",
       "<g id=\"a_edge6\"><a xlink:title=\"(4, 3) : 0.1867757758543106\">\n",
       "<path d=\"M175.9954,-287.8314C175.9954,-280.131 175.9954,-270.9743 175.9954,-262.4166\" fill=\"none\" stroke=\"#000000\" stroke-width=\"4.0127\"/>\n",
       "<polygon fill=\"#000000\" points=\"179.5066,-262.4132 175.9954,-252.4133 172.4844,-262.4133 179.5066,-262.4132\" stroke=\"#000000\" stroke-width=\"4.0127\"/>\n",
       "</a>\n",
       "</g>\n",
       "</g>\n",
       "<!-- Decade -->\n",
       "<g class=\"node\" id=\"node7\">\n",
       "<title>Decade</title>\n",
       "<g id=\"a_node7\"><a xlink:title=\"(6) Decade : 2.56819\">\n",
       "<ellipse cx=\"277.9954\" cy=\"-234\" fill=\"#9898fd\" rx=\"45.4919\" ry=\"18\" stroke=\"#000000\"/>\n",
       "<text fill=\"#000000\" font-family=\"Times,serif\" font-size=\"14.00\" text-anchor=\"middle\" x=\"277.9954\" y=\"-230.3\">Decade</text>\n",
       "</a>\n",
       "</g>\n",
       "</g>\n",
       "<!-- Parch&#45;&gt;Decade -->\n",
       "<g class=\"edge\" id=\"edge2\">\n",
       "<title>Parch-&gt;Decade</title>\n",
       "<g id=\"a_edge2\"><a xlink:title=\"(4, 6) : 0.23356964364352656\">\n",
       "<path d=\"M197.627,-290.7307C212.0347,-280.5605 231.1861,-267.0419 247.1796,-255.7523\" fill=\"none\" stroke=\"#000000\" stroke-width=\"5.1\"/>\n",
       "<polygon fill=\"#000000\" points=\"250.0936,-259.1577 255.6899,-249.7451 244.9467,-251.8662 250.0936,-259.1577\" stroke=\"#000000\" stroke-width=\"5.1\"/>\n",
       "</a>\n",
       "</g>\n",
       "</g>\n",
       "</g>\n",
       "</svg></div><div align='center'><font color='#4d0102'>0.9190670541925421</font><img style='vertical-align:middle' src='data:image/png;base64,iVBORw0KGgoAAAANSUhEUgAAAhsAAABRCAYAAAB7e2SeAAAABHNCSVQICAgIfAhkiAAAAAlwSFlz\n",
       "AAALEgAACxIB0t1+/AAAADl0RVh0U29mdHdhcmUAbWF0cGxvdGxpYiB2ZXJzaW9uIDMuMC4xLCBo\n",
       "dHRwOi8vbWF0cGxvdGxpYi5vcmcvDW2N/gAACDJJREFUeJzt3W+oZHUdx/H3p9ZI0cxcDfMPRlDW\n",
       "A7XNysxk+wOpT+yPUGRaEmEEokVg+MAUn1hERYVJmMiGJKSiSWUEWgq6Vtq2ay6YlGymJGvhvyRZ\n",
       "/fZgzq63u3vvPXv3/mZmz7xfcNmZc35z5vudM/e3n5kzd06qCkmSpFZeMekCJEnSsBk2JElSU4YN\n",
       "SZLUlGFDkiQ1ZdiQJElNGTYkSVJThg1JktSUYUOSJDVl2JAkSU2t2p3Bhyb1wpKj0mtxFhq32I2X\n",
       "vMniA3asTd/77tdLj8K6USvTx8vDlvEYzr+2zF6md5/s3nb63Ww8j8nOtSzzMVnwZhN4ni53v+zp\n",
       "fa/QY7jzrZfa3srui9HQec/Vvve94OLlPSYL75OVnq8W7yNLjeuzzRXqZdL7ZPmPSd/f8aUHbdly\n",
       "36+q6tSltrJbYeMF4JQdT5jtxW5/0P//+oLLd0wm85fv+TZ3rG9W47Rvb2+ocdq3t+fbnLXn4c79\n",
       "Tl+Ne9/29oYap2t7s/g8XOm5ZjmP4XnnZTU9eBhFkiQ1ZdiQJElNGTYkSVJThg1JktSUYUOSJDVl\n",
       "2JAkSU0ZNiRJUlOGDUmS1JRhQ5IkNWXYkCRJTRk2JElSU4YNSZLUlGFDkiQ1ZdiQJElNGTYkSVJT\n",
       "hg1JktSUYUOSJDVl2JAkSU0ZNiRJUlOGDUmS1JRhQ5IkNWXYkCRJTRk2JElSU4YNSZLUlGFDkiQ1\n",
       "ZdiQJElNGTYkSVJThg1JktSUYUOSJDVl2JAkSU0ZNiRJUlOpqv6Dk9uA1e3KgW77Wxvfx7Sy99lk\n",
       "77NnVvsGex9a71ur6tSlBu1W2BiHJH+oqhMmXcck2Lu9z5pZ7X1W+wZ7n9XePYwiSZKaMmxIkqSm\n",
       "pjFs/HDSBUyQvc8me589s9o32PtMmrrPbEiSpGGZxnc2JEnSgEwkbCS5JskTSR5YYH2SfDfJw0k2\n",
       "Jlkz7hpb6dH7WV3Pm5LcneS4cdfYylK9zxn3ziTbkpw5rtpa69N7krVJNiT5c5LfjrO+lno85w9M\n",
       "cmuSP3W9nzvuGltIcmSSO5I82PV1wS7GDHKu69n7IOe6Pr3PGTu4uW5BVTX2H+AUYA3wwALrTwd+\n",
       "CQQ4Ebh3EnVOqPeTgIO6y6fNUu/dmFcCtwO/AM6cdM1j3O+vBR4EjuquHzrpmsfY+8XA17vLhwD/\n",
       "Al416bpXoO/DgDXd5QOAh4C3zRszyLmuZ++DnOv69N6tG+Rct9DPRN7ZqKo7GU0oCzkDWFcj64HX\n",
       "JjlsPNW1tVTvVXV3Vf27u7oeOGIshY1Bj/0OcD5wI/BE+4rGp0fvnwJuqqot3fjB9N+j9wIOSBJg\n",
       "/27stnHU1lJVPV5V93eXnwE2A4fPGzbIua5P70Od63rudxjoXLeQaf3MxuHA3+dcf5Rd76yh+xyj\n",
       "Vz0zIcnhwEeBH0y6lgl4M3BQkt8kuS/JOZMuaIy+D7wVeAzYBFxQVS9NtqSVleRo4O3AvfNWDX6u\n",
       "W6T3uQY51y3U+yzOdasmXYB2Lcn7Gf0CnjzpWsboO8BFVfXS6EXuTFkFvAP4ILAvcE+S9VX10GTL\n",
       "GosPAxuADwBvAn6d5K6qenqyZa2MJPszegV74VB66qtP70Od65bofebmumkNG/8Ajpxz/Yhu2UxI\n",
       "cixwNXBaVT056XrG6ATg+u6XbzVwepJtVXXzZMsai0eBJ6vqOeC5JHcCxzE63jt05wJX1OhA9sNJ\n",
       "/gYcA/xusmXtuST7MPoP57qqumkXQwY71/XofbBzXY/eZ26um9bDKD8Dzuk+qX0i8FRVPT7posYh\n",
       "yVHATcDZM/KqdoeqemNVHV1VRwM3AF8c8i/fPLcAJydZlWQ/4N2MjvXOgi2M3tEhyeuBtwB/nWhF\n",
       "K6D7DMqPgM1V9a0Fhg1yruvT+1Dnuj69z+JcN5F3NpL8BFgLrE7yKPA1YB+AqrqK0adzTwceBv7D\n",
       "6JXPIPTo/RLgYODKLvVuq4GcuKdH74O1VO9VtTmjsypvBF4Crq6qRf9EeG/RY79fDlybZBOjv8q4\n",
       "qKqGcGbM9wJnA5uSbOiWXQwcBYOf6/r0PtS5rk/vM8dvEJUkSU1N62EUSZI0EIYNSZLUlGFDkiQ1\n",
       "ZdiQJElNGTYkSVJT0/qlXpIaSPIio68E3+76qrpikfFrgReq6u7WtUkaLsOGNFuer6rjd2P8WuBZ\n",
       "YKewkWRVVe31J0yT1J6HUSSR5JEklyW5P8mmJMd0J5H6AvClJBuSvC/JtUmuSnIv8I0kr0tyc5KN\n",
       "SdZ3Xz9NkkuT/DjJPUn+kuTz3fJ1ST4y536vS3LGBFqWNEaGDWm27NsFh+0/n5izbmtVrWF0Jsqv\n",
       "VNUjwFXAt6vq+Kq6qxt3BHBSVX0ZuAz4Y1Udy+hbEtfN2d6xjE6u9h7gkiRvYPQ1zp8FSHIgcBLw\n",
       "80a9SpoSHkaRZstih1G2nzDqPuBji2zjp1X1Ynf5ZODjAFV1e5KDk7ymW3dLVT0PPJ/kDuBdVXVz\n",
       "kiuTHNLd7kYPxUjDZ9iQtN1/u39fZPG54bme25t/LoTt19cBnwY+yXDOBSJpER5GkbSYZ4ADFll/\n",
       "F3AW7PjLla1V9XS37owkr05yMKMPmv6+W34tcCFAVT248iVLmja+syHNln3nnIkS4Laq+uoi428F\n",
       "bug+xHn+LtZfClyTZCOjs5Z+Zs66jcAdwGrg8qp6DKCq/plkMzDoU2pLeplnfZW04pJcCjxbVd/c\n",
       "xbr9GH3Xx5qqemrctUkaPw+jSBqbJB8CNgPfM2hIs8N3NiRJUlO+syFJkpoybEiSpKYMG5IkqSnD\n",
       "hiRJasqwIUmSmjJsSJKkpv4HtmQ6srszgM0AAAAASUVORK5CYII=\n",
       "'><font color='#9898fd'>2.5681856062967756</font></div>"
      ],
      "text/plain": [
       "<IPython.core.display.HTML object>"
      ]
     },
     "metadata": {},
     "output_type": "display_data"
    }
   ],
   "source": [
    "gnb.showInformation(bn,{},size=\"20\")"
   ]
  },
  {
   "cell_type": "markdown",
   "metadata": {},
   "source": [
    "To read this graph, you must understand what the entropy of a variable means: the hightest the value the more uncertain the variable marginal probability distrubition is (maximum entropy beging the equiprobable law). The lowest the value is, the more /certain/ the law is.\n",
    "\n",
    "A consequence of how entropy is calculated, is that entropy tends to get bigger if the random varaible has many modalities.\n",
    "\n",
    "What the information graph tells us is that the `decade` variable has a hight entropy. Thus, we can conclude that the passengers `decade` is distributed between all of its modalities.\n",
    "\n",
    "What it also tells us, it that high modality variables with low entropy, such as `Parch` or `SibSp`, are not evenly distributed.\n",
    "\n",
    "Let us look at he variables marginal probability by using the `showInference()` function."
   ]
  },
  {
   "cell_type": "code",
   "execution_count": 89,
   "metadata": {
    "ExecuteTime": {
     "end_time": "2018-10-31T14:25:17.189068Z",
     "start_time": "2018-10-31T14:25:12.387072Z"
    },
    "scrolled": false
   },
   "outputs": [
    {
     "data": {
      "image/png": "[encoded data removed]"
     },
     "metadata": {},
     "output_type": "display_data"
    }
   ],
   "source": [
    "gnb.showInference(bn)"
   ]
  },
  {
   "cell_type": "markdown",
   "metadata": {},
   "source": [
    "The `showInference()` is really usefull as it shows the marginal probability distribution for each random variable of a BayesNet.\n",
    "\n",
    "We can now confirm what the entropy learned us: `Parch` and `SibSp` are unevenly distributed and `decade` is more evenly distributed.\n",
    "\n",
    "Lets focus on the Kaggle challenge now, and look at the `Survived` variable. We show a single posterior using the `showPosterior()` function."
   ]
  },
  {
   "cell_type": "code",
   "execution_count": 90,
   "metadata": {
    "ExecuteTime": {
     "end_time": "2018-10-31T14:25:17.366549Z",
     "start_time": "2018-10-31T14:25:17.192947Z"
    }
   },
   "outputs": [
    {
     "data": {
      "image/png": "[encoded data removed]",
      "text/plain": [
       "<Figure size 144x36 with 1 Axes>"
      ]
     },
     "metadata": {
      "needs_background": "light"
     },
     "output_type": "display_data"
    }
   ],
   "source": [
    "gnb.showPosterior(bn,evs={},target='Survived')"
   ]
  },
  {
   "cell_type": "markdown",
   "metadata": {},
   "source": [
    "So more than 40% of the passenger in our learning database survived.\n",
    "\n",
    "So how can we use this BayesNet as a classifier ? Given a set of evidence, we can infer an update posterio distribution of the target variable `Survived`.\n",
    "\n",
    "Lets look at the odds of surviving as a man in his thirties."
   ]
  },
  {
   "cell_type": "code",
   "execution_count": 97,
   "metadata": {
    "ExecuteTime": {
     "end_time": "2018-10-31T14:35:11.008260Z",
     "start_time": "2018-10-31T14:35:10.885317Z"
    }
   },
   "outputs": [
    {
     "data": {
      "image/png": "[encoded data removed]",
      "text/plain": [
       "<Figure size 144x36 with 1 Axes>"
      ]
     },
     "metadata": {
      "needs_background": "light"
     },
     "output_type": "display_data"
    }
   ],
   "source": [
    "gnb.showPosterior(bn,evs={\"Sex\": \"male\", \"Decade\": 3},target='Survived')"
   ]
  },
  {
   "cell_type": "markdown",
   "metadata": {},
   "source": [
    "And now the odds of an old lady to survive."
   ]
  },
  {
   "cell_type": "code",
   "execution_count": 98,
   "metadata": {
    "ExecuteTime": {
     "end_time": "2018-10-31T14:35:16.875101Z",
     "start_time": "2018-10-31T14:35:16.758425Z"
    }
   },
   "outputs": [
    {
     "data": {
      "image/png": "[encoded data removed]",
      "text/plain": [
       "<Figure size 144x36 with 1 Axes>"
      ]
     },
     "metadata": {
      "needs_background": "light"
     },
     "output_type": "display_data"
    }
   ],
   "source": [
    "gnb.showPosterior(bn,evs={\"Sex\": \"female\", \"Decade\": 8},target='Survived')"
   ]
  },
  {
   "cell_type": "markdown",
   "metadata": {},
   "source": [
    "Well, children and ladies first, that's right ?\n",
    "\n",
    "One last information we will need is which variables are required to predict the `Survived` variable. To do, we will use the markov blanket of `Survived`.\n",
    "\n"
   ]
  },
  {
   "cell_type": "code",
   "execution_count": 99,
   "metadata": {
    "ExecuteTime": {
     "end_time": "2018-10-31T14:35:26.735210Z",
     "start_time": "2018-10-31T14:35:22.344621Z"
    }
   },
   "outputs": [
    {
     "data": {
      "text/html": [
       "<table style=\"border-style: hidden; border-collapse: collapse;\" width=\"100%\"><tr><td style=\"border-top:hidden;border-bottom:hidden;\"><div align=\"center\"><svg height=\"288pt\" viewBox=\"0.00 0.00 287.56 288.00\" width=\"288pt\" xmlns=\"http://www.w3.org/2000/svg\" xmlns:xlink=\"http://www.w3.org/1999/xlink\">\n",
       "<g class=\"graph\" id=\"graph0\" transform=\"scale(.8675 .8675) rotate(0) translate(4 328)\">\n",
       "<title>G</title>\n",
       "<!-- Survived -->\n",
       "<g class=\"node\" id=\"node1\">\n",
       "<title>Survived</title>\n",
       "<g id=\"a_node1\"><a xlink:title=\"(0) Survived\">\n",
       "<ellipse cx=\"51.9954\" cy=\"-162\" fill=\"#444444\" rx=\"51.9908\" ry=\"18\" stroke=\"#000000\"/>\n",
       "<text fill=\"#ffffff\" font-family=\"Times,serif\" font-size=\"14.00\" text-anchor=\"middle\" x=\"51.9954\" y=\"-158.3\">Survived</text>\n",
       "</a>\n",
       "</g>\n",
       "</g>\n",
       "<!-- Pclass -->\n",
       "<g class=\"node\" id=\"node2\">\n",
       "<title>Pclass</title>\n",
       "<g id=\"a_node2\"><a xlink:title=\"(1) Pclass\">\n",
       "<ellipse cx=\"91.9954\" cy=\"-90\" fill=\"#444444\" rx=\"40.0939\" ry=\"18\" stroke=\"#000000\"/>\n",
       "<text fill=\"#ffffff\" font-family=\"Times,serif\" font-size=\"14.00\" text-anchor=\"middle\" x=\"91.9954\" y=\"-86.3\">Pclass</text>\n",
       "</a>\n",
       "</g>\n",
       "</g>\n",
       "<!-- Survived&#45;&gt;Pclass -->\n",
       "<g class=\"edge\" id=\"edge1\">\n",
       "<title>Survived-&gt;Pclass</title>\n",
       "<g id=\"a_edge1\"><a xlink:title=\"(0, 1) : \">\n",
       "<path d=\"M61.883,-144.2022C66.5332,-135.832 72.1731,-125.6802 77.3089,-116.4356\" fill=\"none\" stroke=\"#000000\"/>\n",
       "<polygon fill=\"#000000\" points=\"80.4246,-118.0344 82.2215,-107.593 74.3054,-114.6348 80.4246,-118.0344\" stroke=\"#000000\"/>\n",
       "</a>\n",
       "</g>\n",
       "</g>\n",
       "<!-- Embarked -->\n",
       "<g class=\"node\" id=\"node6\">\n",
       "<title>Embarked</title>\n",
       "<g id=\"a_node6\"><a xlink:title=\"(5) Embarked\">\n",
       "<ellipse cx=\"91.9954\" cy=\"-18\" fill=\"#444444\" rx=\"59.2899\" ry=\"18\" stroke=\"#000000\"/>\n",
       "<text fill=\"#ffffff\" font-family=\"Times,serif\" font-size=\"14.00\" text-anchor=\"middle\" x=\"91.9954\" y=\"-14.3\">Embarked</text>\n",
       "</a>\n",
       "</g>\n",
       "</g>\n",
       "<!-- Pclass&#45;&gt;Embarked -->\n",
       "<g class=\"edge\" id=\"edge4\">\n",
       "<title>Pclass-&gt;Embarked</title>\n",
       "<g id=\"a_edge4\"><a xlink:title=\"(1, 5) : \">\n",
       "<path d=\"M91.9954,-71.8314C91.9954,-64.131 91.9954,-54.9743 91.9954,-46.4166\" fill=\"none\" stroke=\"#000000\"/>\n",
       "<polygon fill=\"#000000\" points=\"95.4955,-46.4132 91.9954,-36.4133 88.4955,-46.4133 95.4955,-46.4132\" stroke=\"#000000\"/>\n",
       "</a>\n",
       "</g>\n",
       "</g>\n",
       "<!-- Sex -->\n",
       "<g class=\"node\" id=\"node3\">\n",
       "<title>Sex</title>\n",
       "<g id=\"a_node3\"><a xlink:title=\"(2) Sex\">\n",
       "<ellipse cx=\"91.9954\" cy=\"-234\" fill=\"#444444\" rx=\"27.8951\" ry=\"18\" stroke=\"#000000\"/>\n",
       "<text fill=\"#ffffff\" font-family=\"Times,serif\" font-size=\"14.00\" text-anchor=\"middle\" x=\"91.9954\" y=\"-230.3\">Sex</text>\n",
       "</a>\n",
       "</g>\n",
       "</g>\n",
       "<!-- Sex&#45;&gt;Survived -->\n",
       "<g class=\"edge\" id=\"edge5\">\n",
       "<title>Sex-&gt;Survived</title>\n",
       "<g id=\"a_edge5\"><a xlink:title=\"(2, 0) : \">\n",
       "<path d=\"M82.5159,-216.937C77.8377,-208.5161 72.0858,-198.1627 66.8413,-188.7226\" fill=\"none\" stroke=\"#000000\"/>\n",
       "<polygon fill=\"#000000\" points=\"69.7405,-186.7342 61.8245,-179.6924 63.6214,-190.1338 69.7405,-186.7342\" stroke=\"#000000\"/>\n",
       "</a>\n",
       "</g>\n",
       "</g>\n",
       "<!-- Sex&#45;&gt;Pclass -->\n",
       "<g class=\"edge\" id=\"edge3\">\n",
       "<title>Sex-&gt;Pclass</title>\n",
       "<g id=\"a_edge3\"><a xlink:title=\"(2, 1) : \">\n",
       "<path d=\"M100.7149,-216.491C105.3713,-206.1547 110.6213,-192.6547 112.9954,-180 115.9455,-164.2743 115.9455,-159.7257 112.9954,-144 111.3157,-135.0465 108.1964,-125.67 104.8662,-117.2901\" fill=\"none\" stroke=\"#000000\"/>\n",
       "<polygon fill=\"#000000\" points=\"108.0537,-115.8414 100.9336,-107.9958 101.607,-118.5692 108.0537,-115.8414\" stroke=\"#000000\"/>\n",
       "</a>\n",
       "</g>\n",
       "</g>\n",
       "<!-- SibSp -->\n",
       "<g class=\"node\" id=\"node4\">\n",
       "<title>SibSp</title>\n",
       "<g id=\"a_node4\"><a xlink:title=\"(3) SibSp\">\n",
       "<ellipse cx=\"175.9954\" cy=\"-234\" fill=\"#444444\" rx=\"38.1938\" ry=\"18\" stroke=\"#000000\"/>\n",
       "<text fill=\"#ffffff\" font-family=\"Times,serif\" font-size=\"14.00\" text-anchor=\"middle\" x=\"175.9954\" y=\"-230.3\">SibSp</text>\n",
       "</a>\n",
       "</g>\n",
       "</g>\n",
       "<!-- Parch -->\n",
       "<g class=\"node\" id=\"node5\">\n",
       "<title>Parch</title>\n",
       "<g id=\"a_node5\"><a xlink:title=\"(4) Parch\">\n",
       "<ellipse cx=\"175.9954\" cy=\"-306\" fill=\"#444444\" rx=\"38.1938\" ry=\"18\" stroke=\"#000000\"/>\n",
       "<text fill=\"#ffffff\" font-family=\"Times,serif\" font-size=\"14.00\" text-anchor=\"middle\" x=\"175.9954\" y=\"-302.3\">Parch</text>\n",
       "</a>\n",
       "</g>\n",
       "</g>\n",
       "<!-- Parch&#45;&gt;Sex -->\n",
       "<g class=\"edge\" id=\"edge7\">\n",
       "<title>Parch-&gt;Sex</title>\n",
       "<g id=\"a_edge7\"><a xlink:title=\"(4, 2) : \">\n",
       "<path d=\"M157.3531,-290.0209C145.345,-279.7283 129.602,-266.2342 116.5759,-255.069\" fill=\"none\" stroke=\"#000000\"/>\n",
       "<polygon fill=\"#000000\" points=\"118.7444,-252.318 108.8741,-248.4674 114.1889,-257.6328 118.7444,-252.318\" stroke=\"#000000\"/>\n",
       "</a>\n",
       "</g>\n",
       "</g>\n",
       "<!-- Parch&#45;&gt;SibSp -->\n",
       "<g class=\"edge\" id=\"edge6\">\n",
       "<title>Parch-&gt;SibSp</title>\n",
       "<g id=\"a_edge6\"><a xlink:title=\"(4, 3) : \">\n",
       "<path d=\"M175.9954,-287.8314C175.9954,-280.131 175.9954,-270.9743 175.9954,-262.4166\" fill=\"none\" stroke=\"#000000\"/>\n",
       "<polygon fill=\"#000000\" points=\"179.4955,-262.4132 175.9954,-252.4133 172.4955,-262.4133 179.4955,-262.4132\" stroke=\"#000000\"/>\n",
       "</a>\n",
       "</g>\n",
       "</g>\n",
       "<!-- Decade -->\n",
       "<g class=\"node\" id=\"node7\">\n",
       "<title>Decade</title>\n",
       "<g id=\"a_node7\"><a xlink:title=\"(6) Decade\">\n",
       "<ellipse cx=\"277.9954\" cy=\"-234\" fill=\"#444444\" rx=\"45.4919\" ry=\"18\" stroke=\"#000000\"/>\n",
       "<text fill=\"#ffffff\" font-family=\"Times,serif\" font-size=\"14.00\" text-anchor=\"middle\" x=\"277.9954\" y=\"-230.3\">Decade</text>\n",
       "</a>\n",
       "</g>\n",
       "</g>\n",
       "<!-- Parch&#45;&gt;Decade -->\n",
       "<g class=\"edge\" id=\"edge2\">\n",
       "<title>Parch-&gt;Decade</title>\n",
       "<g id=\"a_edge2\"><a xlink:title=\"(4, 6) : \">\n",
       "<path d=\"M197.627,-290.7307C212.0347,-280.5605 231.1861,-267.0419 247.1796,-255.7523\" fill=\"none\" stroke=\"#000000\"/>\n",
       "<polygon fill=\"#000000\" points=\"249.5386,-258.3713 255.6899,-249.7451 245.5018,-252.6526 249.5386,-258.3713\" stroke=\"#000000\"/>\n",
       "</a>\n",
       "</g>\n",
       "</g>\n",
       "</g>\n",
       "</svg></div></td><td style=\"border-top:hidden;border-bottom:hidden;\"><div align=\"center\"><img style=\"margin:0\" src=\"data:image/png;base64,iVBORw0KGgoAAAANSUhEUgAAALsAAAD7CAYAAAAyyOUGAAAABmJLR0QA/wD/AP+gvaeTAAAgAElE\n",
       "QVR4nO2deZxcVZXHv5XOnnT2NFkAg2EJCRhkxwRFiMgOigQBBcZBkRGFURRQ3BgHkIgoAoOKg8oI\n",
       "yCbbBJkoYROQfUkAgYQQIISEhCRkge503/njd59VXanq6uW9d+tVne/n8z5VXfXqvVPV59137tku\n",
       "GIZhGIZhGIZRzeRCC2CkxmBgc2CYf94ADPHvrQbagHeBVcAbwNoAMiaKKXtt0QuYAnwYmOy37ZCS\n",
       "D+zisdYBrwMvAM8D84GngOfQhZE5TNmzzw7AQcBHgWlo5H4fKWikqIuBZUh5VyJFbkMjOsBQdKEM\n",
       "BkYA44HNgC2B7f02CejrP/8gcB/wv0j5DSMxdgYuAl4GHPAWcD3wVWAnZKLETW9/3tOAG9DF44AX\n",
       "gQv9eQ0jFhqBU4DHkZL9A7gA2AuNymnTAExHiv6Sl+lR4GR0hzCMLjMEOBNYAWxAI/gMqs8E3QX4\n",
       "JZrYvg38ABgeUiAjO/QDvgOsQYr+fWRPVzujgHOBd5Bn51vI1jeMkhyM7PG1SOEbw4rTLYagC3Qd\n",
       "MrkOCCuOUW0MBq5E9u+1yGWYdbZEppcDrgAGhRXHqAZ2QhO9ZcDhgWVJgiORLf8CcpcadcpBKHr5\n",
       "V2BMYFmSZDxwL/Lv7x9YFiMAJwItwG+APmFFSYW+wNVAM3BcYFmMFJkJbAR+FFqQlMkBs9BFfkRg\n",
       "WYwU2BeF9S8OLUhALgPeA/YOLYiRHGOApcB1VF9wKE16ATejLMumwLIYCZAD5iDPy5AK+9YDw4CF\n",
       "wOzQghjxMxNoBXaP6XgNwJdRJuJqZAcvQcpzKjAhpvMkyTSUhfmp0IIY8dEfeAW4KsZjXoMunm+h\n",
       "IFR/YCLwn0iB3o7xXEnyB3S3s9SCGuFENCkdF9PxdkORyV+Vef8ysqPsH0B3pWOSOkGI1NB65ovA\n",
       "n5CZEQdT/OOLZd6/PqbzpMGrwB3Al0ILYvScrdAo/IkYj3mgP+aD1Mbt/yBkem0RWhCjZ5yAfMr9\n",
       "YzzmYOBN8hVDp9G55LHRwCXAIhTJXI5cgIXVRg/440bb//jX/1L0+rAefodCBiAzLzFTxkiHX6G6\n",
       "zbiZjmpMCxVwHnA+mqgWMxYp+VI0kg5G5tA9qDhkr4J9p6I04/nkc+mHAE8An431W+R5CM01jAwz\n",
       "h/ITyZ7SDzgeuAUVe0RK3wJ8s2jf3/r3ji16fQy68zxW9PpRfv+HkcLfjTw9SfFbVMhtZJgngPNS\n",
       "OE9vlIpwLVLSNuAjBe+vQq7KUgGtqL612BT6kX/9HeB2knVszAL+nsSBzRuTHgORmZA0G9Hoewzw\n",
       "YxSxPcS/149824zVtDd9HOoeALBN0TG/ixRwGOoskGTfmHUkVLBtyp4eK4m/AHkaaqNRjrn+MZpE\n",
       "vo9G9o0onThXZpvb/jDsA2yLamEvR7Z8UowkodiAKXt6rCD+ZKecP+aeZd7f1T8+WfDazcjUmVZi\n",
       "/zPRZLd3wWtboejmTFQbmwNuRR6dJGhCv5WRYc4j/u5Z05H5sRhNOMchU2UCcAYayR/zr0U0oWLu\n",
       "BchPPxRNPE9GJsTMgn0HA0/T3vNyIJr43ksyxSYvAz9M4LhGikQBkzhHxF5ohJ6FvCVvIEVcgxoW\n",
       "nU3pHo8jUEexBcjPvgy4C/WjibiU9vb8DqhNRrGdf06M32cs8QfejAAMAdZj4fCOOBX59a2jWA3w\n",
       "ezTiGqV5Evh1aCGMeJiGbtMfDy1IFfJJ9NvsWmlHIzvMRn3Ok+i0m1UagGeAm0ILYsTL9mgS+bXQ\n",
       "glQRX0eeo+JgllEDfA/loexcacc6YHek6GeFFsRIhl6o+9cCarsDWCXGoQzM2ViAs6ZpQt1tn6Y+\n",
       "+5iPQqnD81GKgFHjbInK0R5FaxjVC+OQm3Eh6v9o1AkTUZXRQrS6Xa2zI0pveJ5stPkwYmYkcD9K\n",
       "u/1cYFmS5ESUyjCX+jTdDE8/1PexDfWCycKSMp1lFOp00IoWHKuF4nAjBj6JWm28jVbHy3LwqTfK\n",
       "d1mJ1mDdL6w4RjUyBPgJykh8Gq1akSXXXC/gaFT4/T5awjKL60IZKTIJlcG1IhfdiajdRLUyCPhX\n",
       "tJRMK+pSbFFRo0tsjzImm1HR86VUT8JUDtgDLQ62Go3kVwHbhRTKyD5NqALpBZQhuAj4ObKF42y+\n",
       "VIkBqNDjF+R71sxHOS5Jlev1mHpuhJ91dkVLtByOqoiaUQne/f5xPipxa+nhefqgYuvJqJHqdLSa\n",
       "dV+UqXgr6lfzRA/Pkzim7LXBBNSebjyqhtoOeXGakcK/hjqALUHdBVb5z0WPUfeB4f75OJSzswWw\n",
       "NVL4jcij8jhS7vvQqJ4ZTNlrg52QEh4N3IhMmknI1p+Emh5thi6GIeQDOtHjOwWPq9FFsRTVtD7v\n",
       "txdQneoa4LBEv41hdMBfUI/EpAevI1HQa9uEz2MYJTkcKWCpPjBx04BWDrkohXMZRjt6o4nodSme\n",
       "8yxk7lgHACNVvoL82luneM7hqJnSKSme06hzGtEk8icBzn0l6m5mDg4jFc5HCVYhqnx2QPOEGZV2\n",
       "NIyesjkyJU4PKMO9KKBkGIlyNSrW7ldpxwT5DEr2+mBAGYwa58NIyT4TWI7IDRlizmDUCWkFkDrD\n",
       "WWjeUKpTsGH0iDQDSJ1hFGr2dHxoQYzaIkQAqTPcQDJLXhp1TIgAUmeIuu/WQxsQIwVCBpAq0QsV\n",
       "kVSjbEYGiQJI1dpe43uoG0JIV6hRA1RDAKkSm6PijqNCC2Jkm/8hfACpM9wF3BZaCCO7RAGkI0ML\n",
       "0gk+h+pd66lBqxEj1RRAqsRAVLJnK4oYXabaAkid4SpsNUCji1RrAKkS+5JfINgwOsWpVGcAqRK9\n",
       "0OIK54cWxMgGUQBpVmhBusmPkffIMCpS7QGkSuyKLd5rdIIsBJA6w8tohDeMsmQlgFSJH6M1orLg\n",
       "MjUCkKUAUiXMlDE6JEsBpErk0B3KTBljE7IYQKrELLTkpWH8k6wGkCqxNzJlbAUO459EAaSJoQWJ\n",
       "mQZgOfCN0IIY1UHWA0iVuBq4J7QQRrqU63h7AdkOIFXiaFTUEaJFnxGIb6IK/EJXXBRAOi2IROkw\n",
       "FJlox4QWxEiP3yFvS7RU+5bUTgCpEn9F5oxRJzyLPBMOVfO0oIr8emgudDZao6kW4gdGBRrQrdwV\n",
       "bc1otboz0TKLtcoe6PtuH1oQI3m2ZVNFL9xaUeJUra5A14CWpflKaEGM5Pk0stU7Uvg25JWZFEjG\n",
       "pLkNuCm0EL1CC1AH7IhMlnK0IJv2I2it0VrkbmAfTN9qnhuQqVJqRG9GCr55MOnSYUf0fXcOLYiR\n",
       "LAsoregtaKmWoeFES40cMtO+GloQIzn6oQhiqUnpH6htL0wxf8b87TXNVEpPRi+h/uzXc7GU35rm\n",
       "OPL2ept/Xq8uuIPRb2B5MjXKeWgS2uofPx1WnKCMRhf9AaEE6B3qxNWCg2Eo1XYw6lc4kPb5KgOA\n",
       "/gV/t6KehhFtwGpkm7+LAijv5vT3h4A+/vWDgfuT+RaZYDkqwt4D2e+pU3P5Ck63ya2Acaij7Bg0\n",
       "qhQ+H4qUe0iCory3OfRtgbbZMG8XWAy8hfLXl/vnS1AHrTdyumhqnevQYBIkWpzJkd1JkSejfIuJ\n",
       "SLkn+MfGgl3XAG8i5VqGErKWo5yUtf791WjkXYtSbpv9Y0RzruBvJw/KoIL3+6ALp69/HAY0LobR\n",
       "zfC92fCHXfTeaLRA7l7+eRP5wabZ6WJ4BSWIvQL8A5gHLPR3iVrgGeBLoU5e1SO7kwnxYWA3YIrf\n",
       "JiOFAi1t8jJ5BSl8fC2nZQtDMZxNTZ5/4pQzMob8RRpdsBPQRbEl8thEgafnkfI/CTyS00WbNQ5B\n",
       "qQMj0ICTKlWl7E4j9Z7A7si22xHdfVagUSH6h78AzMvoP7xTON3ut0cX95SCx2j59FeAR/z2d+DR\n",
       "XMdpCdXAB9BANB34W9onD6rsDsaiLz4DzdK3RJHFZ9CP8bjfnstpJl/3OM0zPgTsglpvfBTNR9YD\n",
       "D6Lf7QHg3px+y2oiiqR+G/ivwLIki4MGBx91cLGDBQ6cg/UO5jg428EeLqPziJA4mOjgiw6udbDU\n",
       "/67v+L9nuvbzmNDcD1weWohEcNDbwUEOfu1gmf9HPOfgPAcfc7VflpYqDnIOpjg4zcFfHbQ4eM/B\n",
       "/zo4yWkuEZLLqDUXrINJDn7g4FWv4PP937YScoo4GO7gKAe/d/CuV/zb/Wsh7qJfRrGIbOOgj4MT\n",
       "HDzsFXyRV/CtQstmgINGB19w8ID//yz2/5/RKYrxcYmS0VX1HAx28O/+x2t2cI2D/Vz9JTtlBgfb\n",
       "elNymYN1Di51eU9PkozX6dk7hXPFh4P+fmK5wsFaBz9zci8ZGcHBQAenOljoYKODqx1skeApcyj2\n",
       "cFKC54gPPwma6eAVr+Q/dJbNlmm8I+FYBy/7kf5c1z5SHCePAxcmdOz4cLCVg3sdtDr4rdNtyagR\n",
       "HPR1cIaDVQ5ed0pgi5trgVsSOG58ODjG/whPO1tVoaZxMNp7cNocXOLaZ372lB8Cz8V4vPjwXpYr\n",
       "E/riRhVTNMDFNR/7V5R8V134Seht3kd7aIKnakA+2AdRJmLUYmI26mE+IcFzZ5XPki/3SyzpzcEE\n",
       "B095b1sciwscqMNWUWTXwQAfhVvplJiVJNegLMFvodYS/VH67n+iXO+3Ez5/VxkMvATcEVoQtB5T\n",
       "ohmeDoY5eNApHaGny7XvRLWtyuEU4l/hlHiUJLvpdPyqzPuXUX3K3ojaZMwOLQgpKDuAg0HeOfGS\n",
       "61nhS5MOxz7xSNZDvGuxzcERKZzuRJ2SM8q8/zGqT9mriVSUHcBBk4MlDq7vwWFyqNnrsTGJ1X0c\n",
       "jHDKmvt5SqeMbLgHqa9eKnGRmrID+Oh4q4NP9eAwS4CvxSVTt3HwfQfLXXoTiMGofM6h3iKn0XFL\n",
       "uHPIT8weKHj9gILXC+8ERxS8HtmK16OiEFdmO8d/tnfR6zeWOF5/VD3VlWNEjEZ9ZBah4ovlwM3I\n",
       "ri1mEvJPr0algvejeoBUlR3AwR8dPNGDQyxA7brD4kPHaUe4pqM6zEKlmAecT/mV5NbSXtkjHqO0\n",
       "2XOLP+49yF4ciCbeG4FRwJ1okrxNic8+zKbLpUTHK3TFduUYY5GSLwUOQhf9FC/fBlSvGrE1yhZ8\n",
       "HfiE33dH4C5UtZS2sk9zSibr7nxuHvCDGEXqOt7N5FyYRJ1+aDWKW1D+RKT0LWhdomK6q+wHljn/\n",
       "fv79Xxa9vg/qAlCcEltK2btyjN/6fYtt1zFIeR8reO16v2/xcu/j/L5pK3vO3/1P7+YhHiX0CtgO\n",
       "PuGVPXSSf29gXxRadsj9+JGifbqr7B3l8TyBFGdMwWt3Av/ewfGKg2ydPcYqdBco5dl43B87Muei\n",
       "i7/UynvPEKC43ME9Tp6y7nAf8Is45alEqRTcgf5xfZqClGAj6ut9DBoBcqg6PQ7WdfDeRegOE61i\n",
       "NxUVgV/ZheN35hj9UP+aXsgGL7b3o/bO2/h9G5FCry1xvmVdkC1O1tH9ZLFmUnZGlFL2Ff4xzYT+\n",
       "aahpUDnm+sdhRa+3UfoHK96vK/wReA04BY24ZyH/f1fC2505xvtoZN+Ies/kymxz/b7vojtIqZE9\n",
       "1DqqTeT1pasMQPOS1Cil7M8iJUo6YlpIDv1we5Z5P0o6e7Lo9TfZNOtyDOpS0F02IpfrULQo7+HI\n",
       "W5LEMW5G5tq0Eu+diSbskY1/p38s7pU4igCRSCcLYEc2/Z90lgGEtx7AwVzX3j2WNNN1Whajydo4\n",
       "dOuegAJN7yM7vLg4+xf+c6eiEW8iGlVfp2ObvVIiWyMadR1aw7QcHR2vM8doQk2eFqBJ81A0Sp+M\n",
       "TISZBftORKNooTdmMuqb+BbpT1A/71SV1l0L4Hngu3HK1C0cHO1UtTIlpVP2QqPbLOSeewN5YNag\n",
       "WfvZ5OcShQwFfo0CFOuR33lXdGFEtu8F6I5RypfeERf6fUq51or97A4t4tuVY0SMQDb+AmTHLkPu\n",
       "xBkl9t0W+BOy8dejBkkHIz97JEdX5hbdwqklyjynfKbusojyEfP0cNDLwaN+s4im0Q6nKqb1Thdf\n",
       "d3kbzWnC49R4Z7WDi0PLYlQPDj7u7/pf7MFh+qJ5YRp5V53DKXG/zZUO6Bh1hlPHtpU9NF9AczGH\n",
       "enpWDw5OcUr6uSC0LEY4nNoWrnZwh5MnpSfspUMm2sWgezg40eXbLFRPdYmRCg6+7GCDU+/IPjEc\n",
       "8kgUOY7jWPHj4AAHbzm1WkjTB28EwsEoB7f6ge5cp9LJODiVjoOI4XGwmYM/e//qLFcfC9bWHd4b\n",
       "d4JTkcarCSQF/hT1lK9ufLbbKQ7edmqddnKMV7wRGAfTvct5o4P/cj1LvSjHHWRpAWCn7rAX+1F+\n",
       "vh8JqtMGMyrilJ9+m/e+zXFKBUiKF6mG6GlXcWqQ+Tuv9IsdfN2VTlYyqgx/lz7M5bv6/s0l0wGs\n",
       "kD4oUnx0wudJDgdjnNofr/Iuqt87mOGqbN0mAxyMd3Cmdza0OfVrL5WekASTJELJssNs4c2b05ya\n",
       "6jgHz/sf1nq0B8TBEKfGpf/n4yZvObjISfnS5DAUPa2tu7+DnR38wqn3jHPwpFMx99TQstUD/m77\n",
       "JQd3Oq240eLt8iMCzq/OQuWJtYlTr8gZDi5z6gzrnIq6r3DqT5NmoUjN4tSqcF8HP3Ja/aTVqf30\n",
       "TQ6Od+GKPAq5Brg9tBCp4CdFu/t/yEN+tGlzapx5sYNPu2oMI1ch3jTZ18E5Tm0KN/iB5CUHv3Rw\n",
       "uOt5aD9unkUtDVMn+OTRKf3gY6i4el/UR7ABVSE96rdHgGdzeq0u8b/TFJSvv5vftkO1AK+j8r27\n",
       "gbtzKoKpRvqi8sITgOvSPnlwZS/Guy13QRlxu6N/6gf82yuB+ai3d/T4MvBGTqVwmcebdFuhKqTJ\n",
       "6OKfTP43WIWKU6LVrR/NqXglC0wFnkLfaX7aJ686ZS+FV4Ad0fLm0T9/CvmWGC1odFvkt1dQwfMy\n",
       "lIOxFFgecrlz74Id7bfNUIOkMSjddQJS8Ankq/XfQ6Vrz6GGQtEFvjDDq31/HlWWNRJg9e1MKHs5\n",
       "nGo4J7KpwkxA/VaK7dWVSPnXoNvpO6g1xVr/9xq/3xqUledPw6qCYwykfS3sEGR2DUB3pUbUc2cw\n",
       "0PgmjBirv0fTvkHSRi/LInRxLip6/mouL0OtcCGwP4F87JleOj2nkXsZ8FCp971JNAaNpKPRaNqE\n",
       "FDJSyrHklbRRh22XD9Kb9mnN79G+BcQ6dMeIerqsQRfH0uNhxBxoWgjnDdDd5U3Uy3FZTo/1xlTU\n",
       "0MmoQT6ILoKTQwtSBeRQ3elXQwtiJMfPkLnSk+b9tcDWyCQs1xvIqAGGo34v/xFakMAci8y9avP7\n",
       "GzFzBurz0pNOZVnnp/Ssn7uREfqieMBVoQUJyCPApaGFMNLhs8iVuEtoQQIwiKznsBtdIod6yc8N\n",
       "LUgAZqDJ6bjQghjpsSfK5U66Gqja+CEy44w640aUBpDpgF4XuQ/479BCGOlTb4GmIchen1lpR6M2\n",
       "qadA02dQHlA1FI4YAainQNNvKL3Im1FH1EOgKYdSr8+ptKNR29RDoGkqcjnWY2zBKKLWA01noRTs\n",
       "UgvVGXVGrQea7qHjBdiMOqNWA02Ry/GY0IIY1UUtBppmIpfjyEo7GvVFLQaabgTmhBbCqE5qKdA0\n",
       "ENXjfim0IEZ1UkuBps+iVhlNoQUxqpdaCTTdhFbpNoyy1EKgaTC6YE8KLYhR/WQ90HQsMmGsM7NR\n",
       "kRzwN9SkNIv8CbgztBBGdtiLbAaaGpEJ84XQghjZIouBpuOB97FAktFFshhomos8MYbRZbIUaJqA\n",
       "JtaHBJbDyChZCjT9AHUqtoWfjW6ThUBTDlgAzAotiJFtshBo2hdVJCW5BLxRJ3QUaMqR7goqZ7Lp\n",
       "yhm/R70cDaPHlAs07elfn5yiLK+jUfwh1LtxOFqi599SlMGocaJA00HILXmD/9uRbgOitf6crf78\n",
       "q5BvfbsUZTDqgNuAN5ByNSOlew/1UkyDBvIXWOHW4rebUBNTw+g2fVAhxCqkVIWK1oryUdJgOJsq\n",
       "euEWXYBPAzunJJNRQxyKlotspbySLUpJlq06kCHaNqJyPPO3G13iJKRApUyH4tE9jbWKdq4gRzPw\n",
       "JMppN4wu8y2k7JUUPg2zYb8Ozt+M7jCbpSCHUcN8BinTRsqP7MenIMeRZc7fgjp/TUhBhm5jbcmy\n",
       "wY3AAcjzsrHE+y3AlBTkGFbi/K3IO7Q/6c0duoUpe3a4GwWRViDlLqQvaiKaNMORORUR3VUOBJ5K\n",
       "4fxGnTEeeI68my/a3kzh3P+B7i6F5tOnUzivUccMR2kChT73NmRmJMml5C+yNqyDgJES/YDrae9/\n",
       "/0jC57yavGfo2wmfK3ayVN9otOd91CH3Z8Cp/rUdgAcL9mlAaxmNQL7vIf41/N9R4KcZWFf0fA3w\n",
       "jt9a/XsjUVLapcB5sX6bFEgzNdSIl74o+WoiquY/FHgJWI4W1x1BfOV8q5HSj0QpC9cDi4FXUdHG\n",
       "i+giqWpM2bPBeGAPFDjaHrkZJ5K/My9Fo/Fg4Do0WV2BFHSlf1zj94mUcgOabIJMooH+eW/UEmMI\n",
       "mhuM8I8j0Z3kVS/P5uQDSBtRgcl81BHhCeDvwJJYvn1MmLJXH71QccR+yNW4B1KuNjSCzkMKNR95\n",
       "ZV5EJg3Ah1G4Pil6097P3h/dXaILcHtkSm3jv8drqKjjIeCvKEHMJShfh5iyVwdNKE99f5QiOxp1\n",
       "FXgIKcvDwGOoSCILDAF2Qxfr7igXP/pOf0FNT+8E3g4loJEuI1CI/3ZkWrSg9ZXOROV3tTYQfRA4\n",
       "DWVEbkB3iAf8a5ZPU4M0AIcDs9E/ey3wR5T7MrCDz9Uag1B11Q2oc0ILuugPIe8tMjJKE/Bd5MFo\n",
       "Bf6M/tn1pODlGIQKyuegecki4DtYF+DMMRo1D4pcd78k3eLorLE1cAFyn64Ffg6MDSqRUZFhwE/R\n",
       "LXoJcDo2ineFQcA3yLtUZ5GNFoB1RQ44AXkd3kKRzf5BJco2A9BAsRwNGsdRexP3TDIBuA9NPC8l\n",
       "+aSsemIEcAWa79wNbBFWnPrmSGSTP4MCO0Yy7IqCaSuQV8tIkV7INndo5Emj6LneGQhciTw3P8bM\n",
       "mlTojXocvodyRox0OQEF436D+eYTpQG4GbnH9g8sSz1zEPLW/BErMU2MWcitOC3GY0Y9FIu3NuSN\n",
       "uAXlm3SHMwqO93qPJa0uPorurpnLr88Cn0cKeGwCx94JKeQtBa8NBT6FXJnN9KyX4lPUnrKDTJo2\n",
       "0m3wWvOMQvnhP03o+KWUPeI4/968Hhy/VpUd5O5djnLvjRi4DEX1GhM6fkfKPo68KdJdH34tK3sj\n",
       "KlpJaiCqK8ai7Lx/SfAcHSn7ePLKPrSbx69lZQcto9lMmSQym8F2nqPQpPTaQOffxz/OR4llESPR\n",
       "aLYAVSy9jgokTqRzfv/eaAWNOeiutQF4FuWZF+tHP+Bc4AX0W6xEqbmH0d7919n94uZq9BscmeA5\n",
       "6oL7gN8lfI5SI/sQyk9QxwAL0e37EHQr3ww4xx/n9KLjlxrZD/H7no3s3VHAV1Fovnj1u1+jgutP\n",
       "oAtpM7+PI38xdmW/JLgGlQAaPWAlWhAgSSJlL3Y9vg3cyqaux6sov8zMnXRe2eeW+PzV6OIqzDZc\n",
       "iDoYjC/a9x+0V+LO7pcEX0EDg9FNBiGlOijh83Rks5dild+/sxPmrtjskW9+r4LXLie/4MAjwEXA\n",
       "3iU+29n9kuAwNEBYtmk3iTwh0xM+T1eUvZ/fd0MXjl9K2Yci+/pZlMxWfGfZr2DfHIoz/AVFLqN9\n",
       "bkcDQlf3S4KP+XNZXWs3aUCj1FEJnyfEyH6fP8bXkBcjSqw63b9eLojVB9nkd/n9ykUwO7tfXByD\n",
       "JqmbOF/MG9M5WpGnYkJgOYqJFg4rZV49CVxc4fMNKOVhKXAJCspEfV1KeXJWAZP88xbkwTnCf2bP\n",
       "buyXBBNQoUdb8Rum7J3nPuDg0EIUcTZaXOxiJFsj6tR1OYoLVFL2VuAe5NX5JvLEDAA+Dny5zGeu\n",
       "AD6EzKgmtAxOjk09IJ3dL24OAe5N+Bw1z+FIOcYldPxSiWAvdOJzI5FSL0TekyUoFrBNwT6FiWDR\n",
       "9iP/3iikmIv955ciL8/5Bfs+5ved6vd9DtniK1Ajp5Non1fe2f3iZkvyCyMbPaAf8mdfEloQoyxX\n",
       "oJZ7tixlDHwB2aA7hBbE2ISpyIlwXGhBaoVe6Jb+d8yPW00MRJ2DH8LK9GJlK+S1uDq0IAYg5b4W\n",
       "zQsmBpalJvkkumVadUxYcsBPkGm5X4V9jR5wPPqRL8dcuCFoQF0Gmkmmaswo4ggUrv8TViGTJiNQ\n",
       "6sF6qi/2UdPsDbyBgjtJRwcNRXwX+22vCvsaCTAa9VxvRnZ80slO9chg4EJkOt6KRncjEDnUyPQd\n",
       "tMiWVcvEx9EogW0FKr0z92KVMBL1FW9Fa5IeGlacTDMD+c7bUPe1prDiGOXYA1ULObQA2KGY16Yz\n",
       "REvxPIKU/A7U0NTIALujf1gbmsSejRUWlGIsqp19Ff1Wt6KF1IwMsh3qArACFRfcjNYSGhxSqMA0\n",
       "Ih/5rWhyvxwVZm/T0YeM7NAfBaTuQp6F9cCN6J9eD4tmbQZ8Dl3sG5CSz0YJXP0CymUkzCjgi6iS\n",
       "pxlNap9Ai2jNoDZG/UbU6fhCVBbYhu5sf0ZZpKm5EM2FUz0MRhVC+6Oaze2Q8s9HWZYPA4+jgo73\n",
       "yxwjNP3Qku67oIDPHmh1wF5oCfo5wP+h6qh1aQtnyl69jEcKsydSmp1RKutGNNGdhxT/Hyia+Jrf\n",
       "kr4Q+qM1jbZAlUHbIQWfgjJCG5Bp9ji6QKNtScJyVcSUPTv0Rkq1PRotJ/vnW9M+t36p31agxk4r\n",
       "UaBrFboQ1vv9Cp8PAvoWPR+GTIwRKO9nJPKYFHqSNgAvo1H7Ob89jy7CjT3+xjFjyl4bNNF+tB1L\n",
       "Xkmjx2GoXC2aB/QjvzbrevJ3hHeRoq4if6FEF81S5BqM7iLLE/xOhmEYhqv2SucAAAAOSURBVGEY\n",
       "hmEYhlGb/D+YopgEZveA7QAAAABJRU5ErkJggg==\n",
       "\"/></div></td></tr><tr><td style=\"border-top:hidden;border-bottom:hidden;\"><div align=\"center\"><small>Learned Bayesian Network</small></div></td><td style=\"border-top:hidden;border-bottom:hidden;\"><div align=\"center\"><small>Markov blanket of 'Survived'</small></div></td></tr></table>"
      ],
      "text/plain": [
       "<IPython.core.display.HTML object>"
      ]
     },
     "metadata": {},
     "output_type": "display_data"
    }
   ],
   "source": [
    "gnb.sideBySide(bn, gum.MarkovBlanket(bn, 'Survived'), captions=[\"Learned Bayesian Network\", \"Markov blanket of 'Survived'\"])"
   ]
  },
  {
   "cell_type": "markdown",
   "metadata": {},
   "source": [
    "The Markov Blanket of the `Survived` variable tells us that we only need to observe `Sex` and `Pclass` in order to predict `Survived`. Not really usefull here but on larger Bayesian Networks it can save you a lot of time and CPU.\n",
    "\n",
    "So how to use this BayesNet we have learned as a classifier ? We simply infer the posterior the `Survive` variable given the set of evidence we are given, and if the passanger odds of survival are above some value he will be taged as a survivor.\n",
    "\n",
    "To compute the best value given the BayesNet and our training database, we can use the `showROC()` function."
   ]
  },
  {
   "cell_type": "code",
   "execution_count": 100,
   "metadata": {
    "ExecuteTime": {
     "end_time": "2018-10-31T14:36:38.727898Z",
     "start_time": "2018-10-31T14:36:37.719031Z"
    },
    "scrolled": true
   },
   "outputs": [
    {
     "name": "stdout",
     "output_type": "stream",
     "text": [
      " res/titanic/post_train.csv : [ ############################################## ] 100%\n",
      " result in res/titanic/post_train.csv-ROC_unnamed-Survived-1.png\n"
     ]
    },
    {
     "data": {
      "image/png": "[encoded data removed]",
      "text/plain": [
       "<Figure size 432x288 with 1 Axes>"
      ]
     },
     "metadata": {
      "needs_background": "light"
     },
     "output_type": "display_data"
    }
   ],
   "source": [
    "from pyAgrum.lib.bn2roc import showROC\n",
    "\n",
    "showROC(bn, os.path.join('res', 'titanic', 'post_train.csv'),'Survived',\"1\",True,True)"
   ]
  },
  {
   "cell_type": "code",
   "execution_count": 101,
   "metadata": {
    "ExecuteTime": {
     "end_time": "2018-10-31T14:36:40.345034Z",
     "start_time": "2018-10-31T14:36:40.098252Z"
    }
   },
   "outputs": [
    {
     "data": {
      "text/plain": [
       "True Positive     0.617470\n",
       "True Negative     0.231928\n",
       "False Positive    0.150602\n",
       "dtype: float64"
      ]
     },
     "execution_count": 101,
     "metadata": {},
     "output_type": "execute_result"
    }
   ],
   "source": [
    "vars = [ var for var in ptestdf.keys() if var != \"Survived\" ]\n",
    "ie=gum.LazyPropagation(bn)\n",
    "testdf=pandas.read_csv(os.path.join('res', 'titanic', 'post_test.csv'))\n",
    "\n",
    "def init_belief():\n",
    "    # Initialize evidence\n",
    "    for var in vars:\n",
    "        ie.addEvidence(var, 0)\n",
    "\n",
    "def update_beliefs(row):\n",
    "    # Update beliefs from a given row less the Survived variable\n",
    "    for var in vars:\n",
    "        label = str(row.to_dict()[var])\n",
    "        idx = bn.variable(var).index(str(row.to_dict()[var]))\n",
    "        ie.chgEvidence(var, idx)\n",
    "    ie.makeInference()\n",
    "    \n",
    "def is_well_predicted(row):\n",
    "    update_beliefs(row)\n",
    "    marginal = ie.posterior('Survived')\n",
    "    outcome = row.to_dict()['Survived']\n",
    "    if outcome == 0: # Did not survived\n",
    "        if marginal.toarray()[1] < 0.46576681:\n",
    "            return \"True Positive\"\n",
    "        else:\n",
    "            return \"False Negative\"\n",
    "    else: # Survived\n",
    "        if marginal.toarray()[1] >= 0.46576681:\n",
    "            return \"True Negative\"\n",
    "        else:\n",
    "            return \"False Positive\"\n",
    "\n",
    "init_belief()\n",
    "ie.addTarget('Survived')\n",
    "\n",
    "result = testdf.apply(is_well_predicted, axis=1)\n",
    "\n",
    "result.value_counts(True)"
   ]
  },
  {
   "cell_type": "code",
   "execution_count": 102,
   "metadata": {
    "ExecuteTime": {
     "end_time": "2018-10-31T14:36:42.577636Z",
     "start_time": "2018-10-31T14:36:42.568607Z"
    }
   },
   "outputs": [
    {
     "name": "stdout",
     "output_type": "stream",
     "text": [
      "84.94% good predictions\n"
     ]
    }
   ],
   "source": [
    "positives = sum(result.map(lambda x: 1 if x.startswith(\"True\") else 0 ))\n",
    "total = result.count()\n",
    "print(\"{0:.2f}% good predictions\".format(positives/total*100))"
   ]
  },
  {
   "cell_type": "code",
   "execution_count": null,
   "metadata": {},
   "outputs": [],
   "source": []
  }
 ],
 "metadata": {
  "hide_input": false,
  "kernelspec": {
   "display_name": "Python 3",
   "language": "python",
   "name": "python3"
  },
  "language_info": {
   "codemirror_mode": {
    "name": "ipython",
    "version": 3
   },
   "file_extension": ".py",
   "mimetype": "text/x-python",
   "name": "python",
   "nbconvert_exporter": "python",
   "pygments_lexer": "ipython3",
   "version": "3.7.1"
  }
 },
 "nbformat": 4,
 "nbformat_minor": 2
}
