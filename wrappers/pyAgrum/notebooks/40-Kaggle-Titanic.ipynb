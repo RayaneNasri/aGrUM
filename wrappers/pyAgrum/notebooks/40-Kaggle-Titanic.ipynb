{
 "cells": [
  {
   "cell_type": "markdown",
   "metadata": {},
   "source": [
    "# Titanic: Machine Learning from Disaster\n",
    "\n",
    "This notebook is an introduction to the [Kaggle titanic challenge](https://www.kaggle.com/c/titanic). The goal here is not to produce the best possible classifier, at least not yet, but to show how pyAgrum and Bayesian Networks can be used to easily and quickly explore and understand data.\n",
    "\n",
    "To undestand this notebook, basic knowledge of Bayesian Networks is required. If you are looking for an introduction to pyAgrum, check [this notebook](http://www-desir.lip6.fr/~phw/aGrUM/docs/last/notebooks/01-tutorial.ipynb.html).\n",
    "\n",
    "The notebook is split in four sections:\n",
    "1. Pretreatment: where we mangle with the data.\n",
    "2. Pre-learning: where we define our learning parameters.\n",
    "3. Learning: where we learn a Bayesian Network.\n",
    "4. Classification: where we use the Bayesian Network as a class ifier.\n",
    "\n",
    "Before we start, some notes about aGrUM and pyAgrum. \n",
    "\n",
    "**aGrUM** is a C++ library designed for easily building applications using graphical models such as Bayesian networks, influence diagrams, decision trees or Markov decision processes. \n",
    "\n",
    "**pyAgrum** is a Python wrapper for the C++ aGrUM library. It provides a high-level interface to the part of aGrUM allowing to create, handle and make computations into Bayesian Networks. The module mainly is an application of the [SWIG](http://www.swig.org/) interface generator. Custom-written code is added to simplify and extend the aGrUM API.\n",
    "\n",
    "Both projects are [open source](https://gitlab.com/agrumery/aGrUM/blob/master/LICENSE) and can be freely downloaded from [aGrUM's gitlab repository](https://gitlab.com/agrumery/aGrUM) or installed using [pip or anaconda](http://agrum.gitlab.io/pages/pyagrum.html).\n",
    "\n",
    "If you have questions, remarks or suggestions, feel free to ask us on [info@agrum.org](mailto:info@agrum.org)."
   ]
  },
  {
   "cell_type": "markdown",
   "metadata": {},
   "source": [
    "## Pretreatment\n",
    "We will be using [pandas](http://pandas.pydata.org/) to setup the learning data to fit with pyAgrum requirements."
   ]
  },
  {
   "cell_type": "code",
   "execution_count": 1,
   "metadata": {},
   "outputs": [],
   "source": [
    "import pandas\n",
    "import os"
   ]
  },
  {
   "cell_type": "code",
   "execution_count": 2,
   "metadata": {},
   "outputs": [],
   "source": [
    "traindf=pandas.read_csv(os.path.join('res', 'titanic', 'train.csv'))\n",
    "\n",
    "testdf=pandas.merge(pandas.read_csv(os.path.join('res', 'titanic', 'test.csv')),\n",
    "                    pandas.read_csv(os.path.join('res', 'titanic', 'gender_submission.csv')),\n",
    "                    on=\"PassengerId\")"
   ]
  },
  {
   "cell_type": "markdown",
   "metadata": {},
   "source": [
    "This merges both the test base and their respective classes, i.e. if a passagen has survived or not."
   ]
  },
  {
   "cell_type": "code",
   "execution_count": 3,
   "metadata": {},
   "outputs": [
    {
     "data": {
      "text/plain": [
       "PassengerId    66231.000000\n",
       "Survived           0.236772\n",
       "Pclass             0.699015\n",
       "Age              211.019125\n",
       "SibSp              1.216043\n",
       "Parch              0.649728\n",
       "Fare            2469.436846\n",
       "dtype: float64"
      ]
     },
     "execution_count": 3,
     "metadata": {},
     "output_type": "execute_result"
    }
   ],
   "source": [
    "traindf.var()"
   ]
  },
  {
   "cell_type": "code",
   "execution_count": 4,
   "metadata": {},
   "outputs": [
    {
     "name": "stdout",
     "output_type": "stream",
     "text": [
      "PassengerId: 891\n",
      "Survived: 2\n",
      "Pclass: 3\n",
      "Name: 891\n",
      "Sex: 2\n",
      "Age: 89\n",
      "SibSp: 7\n",
      "Parch: 7\n",
      "Ticket: 681\n",
      "Fare: 248\n",
      "Cabin: 148\n",
      "Embarked: 4\n"
     ]
    }
   ],
   "source": [
    "for k in traindf.keys():\n",
    "    print('{0}: {1}'.format(k, len(traindf[k].unique())))"
   ]
  },
  {
   "cell_type": "markdown",
   "metadata": {},
   "source": [
    "Looking at the number of unique values for each variable necessary since Bayesian Networks are discrete models. We will want to reduce the domain size of some discrete varaibles (like age) and discretize continuous variables (like Fare).\n",
    "\n",
    "For starters you can filter out variables with a large number of values. Choosing a large number will have an impact on performances, which boils down to how much CPU and RAM you have at your disposal. Here, we choose to filter out any variable with more than 10 different outcomes."
   ]
  },
  {
   "cell_type": "code",
   "execution_count": 5,
   "metadata": {},
   "outputs": [
    {
     "name": "stdout",
     "output_type": "stream",
     "text": [
      "Survived\n",
      "Pclass\n",
      "Sex\n",
      "SibSp\n",
      "Parch\n",
      "Embarked\n"
     ]
    }
   ],
   "source": [
    "for k in traindf.keys():\n",
    "    if len(traindf[k].unique())<=15:\n",
    "        print(k)"
   ]
  },
  {
   "cell_type": "markdown",
   "metadata": {},
   "source": [
    "This leaves us with 6 variables, not much but still enough to learn a Bayesian Network. Will just add one more variable by reducing the cardinality of the Age variable."
   ]
  },
  {
   "cell_type": "code",
   "execution_count": 6,
   "metadata": {},
   "outputs": [
    {
     "name": "stdout",
     "output_type": "stream",
     "text": [
      "Decade: 10\n"
     ]
    }
   ],
   "source": [
    "import math\n",
    "\n",
    "def forAge(row):\n",
    "    if row['Age'] < 10:\n",
    "        return '<10'\n",
    "    elif math.isnan(row['Age']):\n",
    "        return \"nan\"\n",
    "    else:\n",
    "        dec = str(int(row['Age']/10))\n",
    "        return \"{0}0's\".format(dec)\n",
    "\n",
    "decade=traindf.apply(forAge, axis=1)\n",
    "print(\"Decade: {1}\".format(k, len(decade.unique())))"
   ]
  },
  {
   "cell_type": "markdown",
   "metadata": {},
   "source": [
    "When pretreating data, you will want to wrap your changes inside a function, this will help you keep track of your changes and easily compare them."
   ]
  },
  {
   "cell_type": "code",
   "execution_count": 7,
   "metadata": {},
   "outputs": [],
   "source": [
    "import math\n",
    "def pretreat(df):\n",
    "    # create a df with discrete variables (len<10)\n",
    "    lvd=[k for k in df.keys() if len(df[k].unique())<=15]\n",
    "    res=df[lvd].copy()\n",
    "    \n",
    "    forAge = lambda row: \"{0}0th\".format(int(row['Age']/10)) if not math.isnan(row['Age']) else str(\"nan\")\n",
    "    res['Decade']=df.apply(forAge, axis=1)\n",
    "   \n",
    "    return res"
   ]
  },
  {
   "cell_type": "code",
   "execution_count": 8,
   "metadata": {},
   "outputs": [],
   "source": [
    "ptraindf=pretreat(traindf)\n",
    "ptestdf=pretreat(testdf)"
   ]
  },
  {
   "cell_type": "markdown",
   "metadata": {},
   "source": [
    "We will need to save this intermediate learning database, since pyAgrum accepts only files as inputs."
   ]
  },
  {
   "cell_type": "code",
   "execution_count": 9,
   "metadata": {},
   "outputs": [],
   "source": [
    "ptraindf.to_csv(os.path.join('res', 'titanic', 'post_train.csv'), index=False)\n",
    "ptestdf.to_csv(os.path.join('res', 'titanic', 'post_test.csv'), index=False)"
   ]
  },
  {
   "cell_type": "markdown",
   "metadata": {},
   "source": [
    "## Pre-learning\n",
    "Now we have two data files: `data/post_train.csv` and `data/post_test.csv`. The first one is our pretreated learning database, the second our pretreated test base.\n",
    "\n",
    "Before learning a Bayesian Network, we first need to create a template. This is not mandatory, however it is sometimes usefull since not all varaibles values are present in the learning base (in this example the number of relatives).\n",
    "\n",
    "If during the learning step, the algorithm encounters an unknown value it will raise an error. This would be an issue if we wanted to automitize our classifier but, we will directly use values working with the test and learning base. This is not ideal but the objective here it to explore the data fast, not thoroughly."
   ]
  },
  {
   "cell_type": "code",
   "execution_count": 10,
   "metadata": {},
   "outputs": [],
   "source": [
    "import pyAgrum as gum\n",
    "import pyAgrum.lib.notebook as gnb"
   ]
  },
  {
   "cell_type": "markdown",
   "metadata": {},
   "source": [
    "To help creating de the template Bayesian Network that we will use to learn our classifier, let us firt recall all the variables wa have at our disposal."
   ]
  },
  {
   "cell_type": "code",
   "execution_count": 11,
   "metadata": {},
   "outputs": [
    {
     "name": "stdout",
     "output_type": "stream",
     "text": [
      "Survived : [0 1]\n",
      "Pclass : [3 1 2]\n",
      "Sex : ['male' 'female']\n",
      "SibSp : [1 0 3 4 2 5 8]\n",
      "Parch : [0 1 2 5 3 4 6]\n",
      "Embarked : ['S' 'C' 'Q' nan]\n",
      "Decade : ['20th' '30th' nan '50th' '00th' '10th' '40th' '60th' '70th' '80th']\n"
     ]
    }
   ],
   "source": [
    "df = pandas.read_csv(os.path.join('res', 'titanic', 'post_train.csv'))\n",
    "for k in df.keys():\n",
    "    print(\"{} : {}\".format(k, df[k].unique()))"
   ]
  },
  {
   "cell_type": "markdown",
   "metadata": {},
   "source": [
    "From here, creating the BayesNet is straitforward: for each variable we either use the `RangeVariable` class or the `LabelizedVariable`.\n",
    "\n",
    "The `RangeVariable` class creates a discrete random variable over a range. With the `LabelizedVariable` you will need to add each label ony by one. Note however that you can pass an argument to create as much labels starting from `0`."
   ]
  },
  {
   "cell_type": "code",
   "execution_count": 25,
   "metadata": {},
   "outputs": [
    {
     "data": {
      "text/html": [
       "<svg height=\"21pt\" viewBox=\"0.00 0.00 288.00 20.70\" width=\"288pt\" xmlns=\"http://www.w3.org/2000/svg\" xmlns:xlink=\"http://www.w3.org/1999/xlink\">\n",
       "<g class=\"graph\" id=\"graph0\" transform=\"scale(0.470363 0.470363) rotate(0) translate(4 40)\">\n",
       "<title>G</title>\n",
       "<!-- Survived -->\n",
       "<g class=\"node\" id=\"node1\"><title>Survived</title>\n",
       "<g id=\"a_node1\"><a xlink:title=\"(0) Survived\">\n",
       "<ellipse cx=\"42.2463\" cy=\"-18\" fill=\"#444444\" rx=\"42.4939\" ry=\"18\" stroke=\"black\"/>\n",
       "<text fill=\"#ffffff\" font-family=\"Times,serif\" font-size=\"14.00\" text-anchor=\"middle\" x=\"42.2463\" y=\"-14.3\">Survived</text>\n",
       "</a>\n",
       "</g>\n",
       "</g>\n",
       "<!-- Pclass -->\n",
       "<g class=\"node\" id=\"node2\"><title>Pclass</title>\n",
       "<g id=\"a_node2\"><a xlink:title=\"(1) Pclass\">\n",
       "<ellipse cx=\"135.246\" cy=\"-18\" fill=\"#444444\" rx=\"32.4942\" ry=\"18\" stroke=\"black\"/>\n",
       "<text fill=\"#ffffff\" font-family=\"Times,serif\" font-size=\"14.00\" text-anchor=\"middle\" x=\"135.246\" y=\"-14.3\">Pclass</text>\n",
       "</a>\n",
       "</g>\n",
       "</g>\n",
       "<!-- Sex -->\n",
       "<g class=\"node\" id=\"node3\"><title>Sex</title>\n",
       "<g id=\"a_node3\"><a xlink:title=\"(2) Sex\">\n",
       "<ellipse cx=\"212.246\" cy=\"-18\" fill=\"#444444\" rx=\"27\" ry=\"18\" stroke=\"black\"/>\n",
       "<text fill=\"#ffffff\" font-family=\"Times,serif\" font-size=\"14.00\" text-anchor=\"middle\" x=\"212.246\" y=\"-14.3\">Sex</text>\n",
       "</a>\n",
       "</g>\n",
       "</g>\n",
       "<!-- SibSp -->\n",
       "<g class=\"node\" id=\"node4\"><title>SibSp</title>\n",
       "<g id=\"a_node4\"><a xlink:title=\"(3) SibSp\">\n",
       "<ellipse cx=\"289.246\" cy=\"-18\" fill=\"#444444\" rx=\"31.6951\" ry=\"18\" stroke=\"black\"/>\n",
       "<text fill=\"#ffffff\" font-family=\"Times,serif\" font-size=\"14.00\" text-anchor=\"middle\" x=\"289.246\" y=\"-14.3\">SibSp</text>\n",
       "</a>\n",
       "</g>\n",
       "</g>\n",
       "<!-- Parch -->\n",
       "<g class=\"node\" id=\"node5\"><title>Parch</title>\n",
       "<g id=\"a_node5\"><a xlink:title=\"(4) Parch\">\n",
       "<ellipse cx=\"369.246\" cy=\"-18\" fill=\"#444444\" rx=\"30.5947\" ry=\"18\" stroke=\"black\"/>\n",
       "<text fill=\"#ffffff\" font-family=\"Times,serif\" font-size=\"14.00\" text-anchor=\"middle\" x=\"369.246\" y=\"-14.3\">Parch</text>\n",
       "</a>\n",
       "</g>\n",
       "</g>\n",
       "<!-- Embarked -->\n",
       "<g class=\"node\" id=\"node6\"><title>Embarked</title>\n",
       "<g id=\"a_node6\"><a xlink:title=\"(5) Embarked\">\n",
       "<ellipse cx=\"465.246\" cy=\"-18\" fill=\"#444444\" rx=\"47.3916\" ry=\"18\" stroke=\"black\"/>\n",
       "<text fill=\"#ffffff\" font-family=\"Times,serif\" font-size=\"14.00\" text-anchor=\"middle\" x=\"465.246\" y=\"-14.3\">Embarked</text>\n",
       "</a>\n",
       "</g>\n",
       "</g>\n",
       "<!-- Decade -->\n",
       "<g class=\"node\" id=\"node7\"><title>Decade</title>\n",
       "<g id=\"a_node7\"><a xlink:title=\"(6) Decade\">\n",
       "<ellipse cx=\"567.246\" cy=\"-18\" fill=\"#444444\" rx=\"37.0935\" ry=\"18\" stroke=\"black\"/>\n",
       "<text fill=\"#ffffff\" font-family=\"Times,serif\" font-size=\"14.00\" text-anchor=\"middle\" x=\"567.246\" y=\"-14.3\">Decade</text>\n",
       "</a>\n",
       "</g>\n",
       "</g>\n",
       "</g>\n",
       "</svg>"
      ],
      "text/plain": [
       "<IPython.core.display.HTML object>"
      ]
     },
     "metadata": {},
     "output_type": "display_data"
    },
    {
     "ename": "NotFound",
     "evalue": "[pyAgrum] Object not found: The following property does not exists: name",
     "output_type": "error",
     "traceback": [
      "\u001b[0;31m---------------------------------------------------------------------------\u001b[0m",
      "\u001b[0;31mNotFound\u001b[0m                                  Traceback (most recent call last)",
      "\u001b[0;32m<ipython-input-25-dfc8e23def67>\u001b[0m in \u001b[0;36m<module>\u001b[0;34m()\u001b[0m\n\u001b[1;32m      8\u001b[0m \u001b[0mtemplate\u001b[0m\u001b[0;34m.\u001b[0m\u001b[0madd\u001b[0m\u001b[0;34m(\u001b[0m\u001b[0mgum\u001b[0m\u001b[0;34m.\u001b[0m\u001b[0mLabelizedVariable\u001b[0m\u001b[0;34m(\u001b[0m\u001b[0;34m\"Decade\"\u001b[0m\u001b[0;34m,\u001b[0m \u001b[0;34m\"Calculated decade\"\u001b[0m\u001b[0;34m,\u001b[0m \u001b[0;36m0\u001b[0m\u001b[0;34m)\u001b[0m\u001b[0;34m.\u001b[0m\u001b[0maddLabel\u001b[0m\u001b[0;34m(\u001b[0m\u001b[0;34m'00th'\u001b[0m\u001b[0;34m)\u001b[0m\u001b[0;34m.\u001b[0m\u001b[0maddLabel\u001b[0m\u001b[0;34m(\u001b[0m\u001b[0;34m'10th'\u001b[0m\u001b[0;34m)\u001b[0m\u001b[0;34m.\u001b[0m\u001b[0maddLabel\u001b[0m\u001b[0;34m(\u001b[0m\u001b[0;34m'20th'\u001b[0m\u001b[0;34m)\u001b[0m\u001b[0;34m.\u001b[0m\u001b[0maddLabel\u001b[0m\u001b[0;34m(\u001b[0m\u001b[0;34m'30th'\u001b[0m\u001b[0;34m)\u001b[0m\u001b[0;34m.\u001b[0m\u001b[0maddLabel\u001b[0m\u001b[0;34m(\u001b[0m\u001b[0;34m'40th'\u001b[0m\u001b[0;34m)\u001b[0m\u001b[0;34m.\u001b[0m\u001b[0maddLabel\u001b[0m\u001b[0;34m(\u001b[0m\u001b[0;34m'50th'\u001b[0m\u001b[0;34m)\u001b[0m\u001b[0;34m.\u001b[0m\u001b[0maddLabel\u001b[0m\u001b[0;34m(\u001b[0m\u001b[0;34m'60th'\u001b[0m\u001b[0;34m)\u001b[0m\u001b[0;34m.\u001b[0m\u001b[0maddLabel\u001b[0m\u001b[0;34m(\u001b[0m\u001b[0;34m'70th'\u001b[0m\u001b[0;34m)\u001b[0m\u001b[0;34m.\u001b[0m\u001b[0maddLabel\u001b[0m\u001b[0;34m(\u001b[0m\u001b[0;34m'80th'\u001b[0m\u001b[0;34m)\u001b[0m\u001b[0;34m.\u001b[0m\u001b[0maddLabel\u001b[0m\u001b[0;34m(\u001b[0m\u001b[0;34m'nan'\u001b[0m\u001b[0;34m)\u001b[0m\u001b[0;34m)\u001b[0m\u001b[0;34m\u001b[0m\u001b[0m\n\u001b[1;32m      9\u001b[0m \u001b[0mgnb\u001b[0m\u001b[0;34m.\u001b[0m\u001b[0mshowBN\u001b[0m\u001b[0;34m(\u001b[0m\u001b[0mtemplate\u001b[0m\u001b[0;34m)\u001b[0m\u001b[0;34m\u001b[0m\u001b[0m\n\u001b[0;32m---> 10\u001b[0;31m \u001b[0mtemplate\u001b[0m\u001b[0;34m.\u001b[0m\u001b[0mproperty\u001b[0m\u001b[0;34m(\u001b[0m\u001b[0;34m\"name\"\u001b[0m\u001b[0;34m)\u001b[0m\u001b[0;34m\u001b[0m\u001b[0m\n\u001b[0m",
      "\u001b[0;32m~/tmp/agrum/repo/aGrUM/wrappers/pyAgrum/notebooks/venv/lib/python3.6/site-packages/pyAgrum/pyAgrum.py\u001b[0m in \u001b[0;36mproperty\u001b[0;34m(self, name)\u001b[0m\n\u001b[1;32m   7107\u001b[0m \u001b[0;34m\u001b[0m\u001b[0m\n\u001b[1;32m   7108\u001b[0m         \"\"\"\n\u001b[0;32m-> 7109\u001b[0;31m         \u001b[0;32mreturn\u001b[0m \u001b[0m_pyAgrum\u001b[0m\u001b[0;34m.\u001b[0m\u001b[0mDAGmodel_property\u001b[0m\u001b[0;34m(\u001b[0m\u001b[0mself\u001b[0m\u001b[0;34m,\u001b[0m \u001b[0mname\u001b[0m\u001b[0;34m)\u001b[0m\u001b[0;34m\u001b[0m\u001b[0m\n\u001b[0m\u001b[1;32m   7110\u001b[0m \u001b[0;34m\u001b[0m\u001b[0m\n\u001b[1;32m   7111\u001b[0m \u001b[0;34m\u001b[0m\u001b[0m\n",
      "\u001b[0;31mNotFound\u001b[0m: [pyAgrum] Object not found: The following property does not exists: name"
     ]
    }
   ],
   "source": [
    "template=gum.BayesNet()\n",
    "template.add(gum.RangeVariable(\"Survived\", \"Survived\",0,1))\n",
    "template.add(gum.RangeVariable(\"Pclass\", \"Pclass\",1,3))\n",
    "template.add(gum.LabelizedVariable(\"Sex\", \"Sex\",0).addLabel(\"female\").addLabel(\"male\"))\n",
    "template.add(gum.RangeVariable(\"SibSp\", \"SibSp\",0,8))\n",
    "template.add(gum.RangeVariable(\"Parch\", \"Parch\",0,9))\n",
    "template.add(gum.LabelizedVariable(\"Embarked\", \"Embarked\",0).addLabel('').addLabel('C').addLabel('Q').addLabel('S'))\n",
    "template.add(gum.LabelizedVariable(\"Decade\", \"Calculated decade\", 0).addLabel('00th').addLabel('10th').addLabel('20th').addLabel('30th').addLabel('40th').addLabel('50th').addLabel('60th').addLabel('70th').addLabel('80th').addLabel('nan'))\n",
    "gnb.showBN(template)\n",
    "template.property(\"name\")"
   ]
  },
  {
   "cell_type": "markdown",
   "metadata": {},
   "source": [
    "You can also let the learning algorithm create the BayesNet random variables. However please be aware that the algorithm will no be able to handle values absent from the learning database."
   ]
  },
  {
   "cell_type": "markdown",
   "metadata": {},
   "source": [
    "## Learning\n",
    "\n",
    "We can now learn our first Bayesian Network. As you will see, this is really easy."
   ]
  },
  {
   "cell_type": "code",
   "execution_count": 23,
   "metadata": {
    "scrolled": false
   },
   "outputs": [
    {
     "data": {
      "text/html": [
       "<svg height=\"250pt\" viewBox=\"0.00 0.00 288.00 249.98\" width=\"288pt\" xmlns=\"http://www.w3.org/2000/svg\" xmlns:xlink=\"http://www.w3.org/1999/xlink\">\n",
       "<g class=\"graph\" id=\"graph0\" transform=\"scale(0.961462 0.961462) rotate(0) translate(4 256)\">\n",
       "<title>G</title>\n",
       "<!-- Survived -->\n",
       "<g class=\"node\" id=\"node1\"><title>Survived</title>\n",
       "<g id=\"a_node1\"><a xlink:title=\"(0) Survived\">\n",
       "<ellipse cx=\"73.4971\" cy=\"-162\" fill=\"#444444\" rx=\"42.4939\" ry=\"18\" stroke=\"black\"/>\n",
       "<text fill=\"#ffffff\" font-family=\"Times,serif\" font-size=\"14.00\" text-anchor=\"middle\" x=\"73.4971\" y=\"-158.3\">Survived</text>\n",
       "</a>\n",
       "</g>\n",
       "</g>\n",
       "<!-- Pclass -->\n",
       "<g class=\"node\" id=\"node2\"><title>Pclass</title>\n",
       "<g id=\"a_node2\"><a xlink:title=\"(1) Pclass\">\n",
       "<ellipse cx=\"32.4971\" cy=\"-18\" fill=\"#444444\" rx=\"32.4942\" ry=\"18\" stroke=\"black\"/>\n",
       "<text fill=\"#ffffff\" font-family=\"Times,serif\" font-size=\"14.00\" text-anchor=\"middle\" x=\"32.4971\" y=\"-14.3\">Pclass</text>\n",
       "</a>\n",
       "</g>\n",
       "</g>\n",
       "<!-- Survived&#45;&gt;Pclass -->\n",
       "<g class=\"edge\" id=\"edge1\"><title>Survived-&gt;Pclass</title>\n",
       "<g id=\"a_edge1\"><a xlink:title=\"(0, 1) : \">\n",
       "<path d=\"M49.9864,-147.002C36.8877,-137.76 21.7871,-124.348 14.4971,-108 5.46313,-87.741 11.7984,-62.8643 19.3367,-44.5668\" fill=\"none\" stroke=\"black\"/>\n",
       "<polygon fill=\"black\" points=\"22.547,-45.9614 23.4355,-35.4039 16.1572,-43.1031 22.547,-45.9614\" stroke=\"black\"/>\n",
       "</a>\n",
       "</g>\n",
       "</g>\n",
       "<!-- SibSp -->\n",
       "<g class=\"node\" id=\"node4\"><title>SibSp</title>\n",
       "<g id=\"a_node4\"><a xlink:title=\"(3) SibSp\">\n",
       "<ellipse cx=\"167.497\" cy=\"-90\" fill=\"#444444\" rx=\"31.6951\" ry=\"18\" stroke=\"black\"/>\n",
       "<text fill=\"#ffffff\" font-family=\"Times,serif\" font-size=\"14.00\" text-anchor=\"middle\" x=\"167.497\" y=\"-86.3\">SibSp</text>\n",
       "</a>\n",
       "</g>\n",
       "</g>\n",
       "<!-- Survived&#45;&gt;SibSp -->\n",
       "<g class=\"edge\" id=\"edge7\"><title>Survived-&gt;SibSp</title>\n",
       "<g id=\"a_edge7\"><a xlink:title=\"(0, 3) : \">\n",
       "<path d=\"M93.8937,-145.811C107.616,-135.593 125.848,-122.015 140.734,-110.93\" fill=\"none\" stroke=\"black\"/>\n",
       "<polygon fill=\"black\" points=\"143.122,-113.516 149.052,-104.736 138.941,-107.901 143.122,-113.516\" stroke=\"black\"/>\n",
       "</a>\n",
       "</g>\n",
       "</g>\n",
       "<!-- Embarked -->\n",
       "<g class=\"node\" id=\"node6\"><title>Embarked</title>\n",
       "<g id=\"a_node6\"><a xlink:title=\"(5) Embarked\">\n",
       "<ellipse cx=\"70.4971\" cy=\"-90\" fill=\"#444444\" rx=\"47.3916\" ry=\"18\" stroke=\"black\"/>\n",
       "<text fill=\"#ffffff\" font-family=\"Times,serif\" font-size=\"14.00\" text-anchor=\"middle\" x=\"70.4971\" y=\"-86.3\">Embarked</text>\n",
       "</a>\n",
       "</g>\n",
       "</g>\n",
       "<!-- Survived&#45;&gt;Embarked -->\n",
       "<g class=\"edge\" id=\"edge4\"><title>Survived-&gt;Embarked</title>\n",
       "<g id=\"a_edge4\"><a xlink:title=\"(0, 5) : \">\n",
       "<path d=\"M72.7555,-143.697C72.4249,-135.983 72.0277,-126.712 71.6591,-118.112\" fill=\"none\" stroke=\"black\"/>\n",
       "<polygon fill=\"black\" points=\"75.1552,-117.945 71.2302,-108.104 68.1616,-118.245 75.1552,-117.945\" stroke=\"black\"/>\n",
       "</a>\n",
       "</g>\n",
       "</g>\n",
       "<!-- Sex -->\n",
       "<g class=\"node\" id=\"node3\"><title>Sex</title>\n",
       "<g id=\"a_node3\"><a xlink:title=\"(2) Sex\">\n",
       "<ellipse cx=\"121.497\" cy=\"-234\" fill=\"#444444\" rx=\"27\" ry=\"18\" stroke=\"black\"/>\n",
       "<text fill=\"#ffffff\" font-family=\"Times,serif\" font-size=\"14.00\" text-anchor=\"middle\" x=\"121.497\" y=\"-230.3\">Sex</text>\n",
       "</a>\n",
       "</g>\n",
       "</g>\n",
       "<!-- Sex&#45;&gt;Survived -->\n",
       "<g class=\"edge\" id=\"edge3\"><title>Sex-&gt;Survived</title>\n",
       "<g id=\"a_edge3\"><a xlink:title=\"(2, 0) : \">\n",
       "<path d=\"M110.605,-217.116C104.76,-208.592 97.419,-197.886 90.8123,-188.251\" fill=\"none\" stroke=\"black\"/>\n",
       "<polygon fill=\"black\" points=\"93.5572,-186.065 85.0153,-179.797 87.7841,-190.024 93.5572,-186.065\" stroke=\"black\"/>\n",
       "</a>\n",
       "</g>\n",
       "</g>\n",
       "<!-- Parch -->\n",
       "<g class=\"node\" id=\"node5\"><title>Parch</title>\n",
       "<g id=\"a_node5\"><a xlink:title=\"(4) Parch\">\n",
       "<ellipse cx=\"167.497\" cy=\"-162\" fill=\"#444444\" rx=\"30.5947\" ry=\"18\" stroke=\"black\"/>\n",
       "<text fill=\"#ffffff\" font-family=\"Times,serif\" font-size=\"14.00\" text-anchor=\"middle\" x=\"167.497\" y=\"-158.3\">Parch</text>\n",
       "</a>\n",
       "</g>\n",
       "</g>\n",
       "<!-- Sex&#45;&gt;Parch -->\n",
       "<g class=\"edge\" id=\"edge8\"><title>Sex-&gt;Parch</title>\n",
       "<g id=\"a_edge8\"><a xlink:title=\"(2, 4) : \">\n",
       "<path d=\"M131.935,-217.116C137.618,-208.469 144.776,-197.575 151.178,-187.833\" fill=\"none\" stroke=\"black\"/>\n",
       "<polygon fill=\"black\" points=\"154.214,-189.586 156.781,-179.307 148.364,-185.742 154.214,-189.586\" stroke=\"black\"/>\n",
       "</a>\n",
       "</g>\n",
       "</g>\n",
       "<!-- Parch&#45;&gt;SibSp -->\n",
       "<g class=\"edge\" id=\"edge5\"><title>Parch-&gt;SibSp</title>\n",
       "<g id=\"a_edge5\"><a xlink:title=\"(4, 3) : \">\n",
       "<path d=\"M167.497,-143.697C167.497,-135.983 167.497,-126.712 167.497,-118.112\" fill=\"none\" stroke=\"black\"/>\n",
       "<polygon fill=\"black\" points=\"170.997,-118.104 167.497,-108.104 163.997,-118.104 170.997,-118.104\" stroke=\"black\"/>\n",
       "</a>\n",
       "</g>\n",
       "</g>\n",
       "<!-- Decade -->\n",
       "<g class=\"node\" id=\"node7\"><title>Decade</title>\n",
       "<g id=\"a_node7\"><a xlink:title=\"(6) Decade\">\n",
       "<ellipse cx=\"254.497\" cy=\"-90\" fill=\"#444444\" rx=\"37.0935\" ry=\"18\" stroke=\"black\"/>\n",
       "<text fill=\"#ffffff\" font-family=\"Times,serif\" font-size=\"14.00\" text-anchor=\"middle\" x=\"254.497\" y=\"-86.3\">Decade</text>\n",
       "</a>\n",
       "</g>\n",
       "</g>\n",
       "<!-- Parch&#45;&gt;Decade -->\n",
       "<g class=\"edge\" id=\"edge2\"><title>Parch-&gt;Decade</title>\n",
       "<g id=\"a_edge2\"><a xlink:title=\"(4, 6) : \">\n",
       "<path d=\"M185.103,-146.834C197.472,-136.883 214.232,-123.397 228.182,-112.173\" fill=\"none\" stroke=\"black\"/>\n",
       "<polygon fill=\"black\" points=\"230.42,-114.865 236.017,-105.869 226.031,-109.411 230.42,-114.865\" stroke=\"black\"/>\n",
       "</a>\n",
       "</g>\n",
       "</g>\n",
       "<!-- Embarked&#45;&gt;Pclass -->\n",
       "<g class=\"edge\" id=\"edge6\"><title>Embarked-&gt;Pclass</title>\n",
       "<g id=\"a_edge6\"><a xlink:title=\"(5, 1) : \">\n",
       "<path d=\"M61.2984,-72.055C56.8641,-63.8866 51.4491,-53.9116 46.5161,-44.8244\" fill=\"none\" stroke=\"black\"/>\n",
       "<polygon fill=\"black\" points=\"49.4581,-42.9077 41.6111,-35.789 43.3061,-46.2474 49.4581,-42.9077\" stroke=\"black\"/>\n",
       "</a>\n",
       "</g>\n",
       "</g>\n",
       "</g>\n",
       "</svg>"
      ],
      "text/plain": [
       "(gum::BayesNet<double>@0x37c3d80) BN{nodes: 7, arcs: 8, domainSize: 43200, parameters: 338, compression ratio: 99% }"
      ]
     },
     "execution_count": 23,
     "metadata": {},
     "output_type": "execute_result"
    }
   ],
   "source": [
    "learner = gum.BNLearner(os.path.join('res', 'titanic', 'post_train.csv'), template)\n",
    "bn = learner.learnBN()\n",
    "bn"
   ]
  },
  {
   "cell_type": "markdown",
   "metadata": {},
   "source": [
    "In a notebook, a Bayesian Network will automatically be shown graphically, you can also use the helper function `gnb.showBN(bn)`."
   ]
  },
  {
   "cell_type": "markdown",
   "metadata": {},
   "source": [
    "## Exploring the data\n",
    "Now that we have a BayesNet, we can start looking how the variables corelate with each other. pyAgum offer the perfect tool for that: the information graph."
   ]
  },
  {
   "cell_type": "code",
   "execution_count": 14,
   "metadata": {},
   "outputs": [
    {
     "data": {
      "text/html": [
       "<div align='center'><svg height=\"260pt\" viewBox=\"0.00 0.00 299.54 260.00\" width=\"300pt\" xmlns=\"http://www.w3.org/2000/svg\" xmlns:xlink=\"http://www.w3.org/1999/xlink\">\n",
       "<g class=\"graph\" id=\"graph0\" transform=\"scale(1 1) rotate(0) translate(4 256)\">\n",
       "<title>G</title>\n",
       "<!-- Survived -->\n",
       "<g class=\"node\" id=\"node1\"><title>Survived</title>\n",
       "<g id=\"a_node1\"><a xlink:title=\"(0) Survived : 0.96080\">\n",
       "<ellipse cx=\"73.4971\" cy=\"-162\" fill=\"#4e0305\" rx=\"42.4939\" ry=\"18\" stroke=\"black\"/>\n",
       "<text fill=\"#ffffff\" font-family=\"Times,serif\" font-size=\"14.00\" text-anchor=\"middle\" x=\"73.4971\" y=\"-158.3\">Survived</text>\n",
       "</a>\n",
       "</g>\n",
       "</g>\n",
       "<!-- Pclass -->\n",
       "<g class=\"node\" id=\"node2\"><title>Pclass</title>\n",
       "<g id=\"a_node2\"><a xlink:title=\"(1) Pclass : 1.43964\">\n",
       "<ellipse cx=\"32.4971\" cy=\"-18\" fill=\"#622a47\" rx=\"32.4942\" ry=\"18\" stroke=\"black\"/>\n",
       "<text fill=\"#ffffff\" font-family=\"Times,serif\" font-size=\"14.00\" text-anchor=\"middle\" x=\"32.4971\" y=\"-14.3\">Pclass</text>\n",
       "</a>\n",
       "</g>\n",
       "</g>\n",
       "<!-- Survived&#45;&gt;Pclass -->\n",
       "<g class=\"edge\" id=\"edge1\"><title>Survived-&gt;Pclass</title>\n",
       "<g id=\"a_edge1\"><a xlink:title=\"(0, 1) : 0.08367924601191325\">\n",
       "<path d=\"M49.9864,-147.002C36.8877,-137.76 21.7871,-124.348 14.4971,-108 5.46313,-87.741 11.7984,-62.8643 19.3367,-44.5668\" fill=\"none\" stroke=\"black\" stroke-width=\"1.65325\"/>\n",
       "<polygon fill=\"black\" points=\"22.547,-45.9614 23.4355,-35.4039 16.1572,-43.1031 22.547,-45.9614\" stroke=\"black\" stroke-width=\"1.65325\"/>\n",
       "</a>\n",
       "</g>\n",
       "</g>\n",
       "<!-- SibSp -->\n",
       "<g class=\"node\" id=\"node4\"><title>SibSp</title>\n",
       "<g id=\"a_node4\"><a xlink:title=\"(3) SibSp : 1.36568\">\n",
       "<ellipse cx=\"167.497\" cy=\"-90\" fill=\"#5f243d\" rx=\"31.6951\" ry=\"18\" stroke=\"black\"/>\n",
       "<text fill=\"#ffffff\" font-family=\"Times,serif\" font-size=\"14.00\" text-anchor=\"middle\" x=\"167.497\" y=\"-86.3\">SibSp</text>\n",
       "</a>\n",
       "</g>\n",
       "</g>\n",
       "<!-- Survived&#45;&gt;SibSp -->\n",
       "<g class=\"edge\" id=\"edge7\"><title>Survived-&gt;SibSp</title>\n",
       "<g id=\"a_edge7\"><a xlink:title=\"(0, 3) : 0.029468123609304106\">\n",
       "<path d=\"M93.8937,-145.811C107.616,-135.593 125.848,-122.015 140.734,-110.93\" fill=\"none\" stroke=\"black\" stroke-width=\"0.253358\"/>\n",
       "<polygon fill=\"black\" points=\"143.122,-113.516 149.052,-104.736 138.941,-107.901 143.122,-113.516\" stroke=\"black\" stroke-width=\"0.253358\"/>\n",
       "</a>\n",
       "</g>\n",
       "</g>\n",
       "<!-- Embarked -->\n",
       "<g class=\"node\" id=\"node6\"><title>Embarked</title>\n",
       "<g id=\"a_node6\"><a xlink:title=\"(5) Embarked : 1.12038\">\n",
       "<ellipse cx=\"70.4971\" cy=\"-90\" fill=\"#54101b\" rx=\"47.3916\" ry=\"18\" stroke=\"black\"/>\n",
       "<text fill=\"#ffffff\" font-family=\"Times,serif\" font-size=\"14.00\" text-anchor=\"middle\" x=\"70.4971\" y=\"-86.3\">Embarked</text>\n",
       "</a>\n",
       "</g>\n",
       "</g>\n",
       "<!-- Survived&#45;&gt;Embarked -->\n",
       "<g class=\"edge\" id=\"edge4\"><title>Survived-&gt;Embarked</title>\n",
       "<g id=\"a_edge4\"><a xlink:title=\"(0, 5) : 0.02352930139895884\">\n",
       "<path d=\"M72.7555,-143.697C72.4249,-135.983 72.0277,-126.712 71.6591,-118.112\" fill=\"none\" stroke=\"black\" stroke-width=\"0.1\"/>\n",
       "<polygon fill=\"black\" points=\"75.1552,-117.945 71.2302,-108.104 68.1616,-118.245 75.1552,-117.945\" stroke=\"black\" stroke-width=\"0.1\"/>\n",
       "</a>\n",
       "</g>\n",
       "</g>\n",
       "<!-- Sex -->\n",
       "<g class=\"node\" id=\"node3\"><title>Sex</title>\n",
       "<g id=\"a_node3\"><a xlink:title=\"(2) Sex : 0.93635\">\n",
       "<ellipse cx=\"121.497\" cy=\"-234\" fill=\"#4d0102\" rx=\"27\" ry=\"18\" stroke=\"black\"/>\n",
       "<text fill=\"#ffffff\" font-family=\"Times,serif\" font-size=\"14.00\" text-anchor=\"middle\" x=\"121.497\" y=\"-230.3\">Sex</text>\n",
       "</a>\n",
       "</g>\n",
       "</g>\n",
       "<!-- Sex&#45;&gt;Survived -->\n",
       "<g class=\"edge\" id=\"edge3\"><title>Sex-&gt;Survived</title>\n",
       "<g id=\"a_edge3\"><a xlink:title=\"(2, 0) : 0.2171554123987946\">\n",
       "<path d=\"M110.605,-217.116C104.76,-208.592 97.419,-197.886 90.8123,-188.251\" fill=\"none\" stroke=\"black\" stroke-width=\"5.1\"/>\n",
       "<polygon fill=\"black\" points=\"94.351,-185.521 85.0153,-179.797 86.9903,-190.568 94.351,-185.521\" stroke=\"black\" stroke-width=\"5.1\"/>\n",
       "</a>\n",
       "</g>\n",
       "</g>\n",
       "<!-- Parch -->\n",
       "<g class=\"node\" id=\"node5\"><title>Parch</title>\n",
       "<g id=\"a_node5\"><a xlink:title=\"(4) Parch : 1.13637\">\n",
       "<ellipse cx=\"167.497\" cy=\"-162\" fill=\"#55111d\" rx=\"30.5947\" ry=\"18\" stroke=\"black\"/>\n",
       "<text fill=\"#ffffff\" font-family=\"Times,serif\" font-size=\"14.00\" text-anchor=\"middle\" x=\"167.497\" y=\"-158.3\">Parch</text>\n",
       "</a>\n",
       "</g>\n",
       "</g>\n",
       "<!-- Sex&#45;&gt;Parch -->\n",
       "<g class=\"edge\" id=\"edge8\"><title>Sex-&gt;Parch</title>\n",
       "<g id=\"a_edge8\"><a xlink:title=\"(2, 4) : 0.04722893829511984\">\n",
       "<path d=\"M131.935,-217.116C137.618,-208.469 144.776,-197.575 151.178,-187.833\" fill=\"none\" stroke=\"black\" stroke-width=\"0.711995\"/>\n",
       "<polygon fill=\"black\" points=\"154.214,-189.586 156.781,-179.307 148.364,-185.742 154.214,-189.586\" stroke=\"black\" stroke-width=\"0.711995\"/>\n",
       "</a>\n",
       "</g>\n",
       "</g>\n",
       "<!-- Parch&#45;&gt;SibSp -->\n",
       "<g class=\"edge\" id=\"edge5\"><title>Parch-&gt;SibSp</title>\n",
       "<g id=\"a_edge5\"><a xlink:title=\"(4, 3) : 0.2119537183575891\">\n",
       "<path d=\"M167.497,-143.697C167.497,-135.983 167.497,-126.712 167.497,-118.112\" fill=\"none\" stroke=\"black\" stroke-width=\"4.96568\"/>\n",
       "<polygon fill=\"black\" points=\"171.842,-118.104 167.497,-108.104 163.152,-118.104 171.842,-118.104\" stroke=\"black\" stroke-width=\"4.96568\"/>\n",
       "</a>\n",
       "</g>\n",
       "</g>\n",
       "<!-- Decade -->\n",
       "<g class=\"node\" id=\"node7\"><title>Decade</title>\n",
       "<g id=\"a_node7\"><a xlink:title=\"(6) Decade : 2.77848\">\n",
       "<ellipse cx=\"254.497\" cy=\"-90\" fill=\"#9898fd\" rx=\"37.0935\" ry=\"18\" stroke=\"black\"/>\n",
       "<text fill=\"#000000\" font-family=\"Times,serif\" font-size=\"14.00\" text-anchor=\"middle\" x=\"254.497\" y=\"-86.3\">Decade</text>\n",
       "</a>\n",
       "</g>\n",
       "</g>\n",
       "<!-- Parch&#45;&gt;Decade -->\n",
       "<g class=\"edge\" id=\"edge2\"><title>Parch-&gt;Decade</title>\n",
       "<g id=\"a_edge2\"><a xlink:title=\"(4, 6) : 0.20931313785886585\">\n",
       "<path d=\"M185.103,-146.834C197.472,-136.883 214.232,-123.397 228.182,-112.173\" fill=\"none\" stroke=\"black\" stroke-width=\"4.89749\"/>\n",
       "<polygon fill=\"black\" points=\"230.912,-115.477 236.017,-105.869 225.539,-108.799 230.912,-115.477\" stroke=\"black\" stroke-width=\"4.89749\"/>\n",
       "</a>\n",
       "</g>\n",
       "</g>\n",
       "<!-- Embarked&#45;&gt;Pclass -->\n",
       "<g class=\"edge\" id=\"edge6\"><title>Embarked-&gt;Pclass</title>\n",
       "<g id=\"a_edge6\"><a xlink:title=\"(5, 1) : 0.10523655617315912\">\n",
       "<path d=\"M61.2984,-72.055C56.8641,-63.8866 51.4491,-53.9116 46.5161,-44.8244\" fill=\"none\" stroke=\"black\" stroke-width=\"2.20992\"/>\n",
       "<polygon fill=\"black\" points=\"49.4581,-42.9077 41.6111,-35.789 43.3061,-46.2474 49.4581,-42.9077\" stroke=\"black\" stroke-width=\"2.20992\"/>\n",
       "</a>\n",
       "</g>\n",
       "</g>\n",
       "</g>\n",
       "</svg></div><div align='center'><font color='#4d0102'>0.9363497953477022</font><img style='vertical-align:middle' src='data:image/png;base64,iVBORw0KGgoAAAANSUhEUgAAAhsAAABRCAYAAAB7e2SeAAAABHNCSVQICAgIfAhkiAAAAAlwSFlz\n",
       "AAALEgAACxIB0t1+/AAAADl0RVh0U29mdHdhcmUAbWF0cGxvdGxpYiB2ZXJzaW9uIDIuMi4yLCBo\n",
       "dHRwOi8vbWF0cGxvdGxpYi5vcmcvhp/UCwAACKRJREFUeJzt3X+IZWUdx/H3J1dJy2p1s8wf/QAh\n",
       "CsyWEDWzLcJMCPsFGWYmURYUWRRIf5jmPxFRUGASJbJhCqWuVv4EhSRTUlt31S01WUyTZDXUtaVl\n",
       "l29/3DPbbfbembOz98ydnfN+wTD3Ps9zz33O9z7zne+cc+eeVBWSJEldedm0JyBJkpY3iw1JktQp\n",
       "iw1JktQpiw1JktQpiw1JktQpiw1JktQpiw1JktQpiw1JktQpiw1JktSpFXsy+LCkts87Kq2aM27c\n",
       "XA+e9yFzD9jVm7bP3W5fWkysGTWZ/fjfsAXEcPa9Be7L0n1N9mw77R62ODHZfS4LjMnYh01hnS70\n",
       "ddnb555QDHd/9Hzbm+xrMRg6a622fe6xzQuLyfjXZNL5au79yHzj2mxzQvsy7ddk4TFp+zM+/6An\n",
       "nrjvlqo6bb6t7FGxsR04ZdeCmZnsTND///7Y9l3JZHb73m9zV39nc1zq29sX5rjUt7f32+zbOtx9\n",
       "f5feHPe97e0Lc1xa2+vjOpx0rllIDM87L6towdMokiSpUxYbkiSpUxYbkiSpUxYbkiSpUxYbkiSp\n",
       "UxYbkiSpUxYbkiSpUxYbkiSpUxYbkiSpUxYbkiSpUxYbkiSpUxYbkiSpUxYbkiSpUxYbkiSpUxYb\n",
       "kiSpUxYbkiSpUxYbkiSpUxYbkiSpUxYbkiSpUxYbkiSpUxYbkiSpUxYbkiSpUxYbkiSpUxYbkiSp\n",
       "UxYbkiSpUxYbkiSpUxYbkiSpUxYbkiSpUxYbkiSpUxYbkiSpUxYbkiSpU6mq9oOTm4FVE3jeVcCW\n",
       "CWxnuTEuoxmX8YzNaMZlNOMynrEZbb64bKmq0+bbyB4VG5OS5N6qeteiP/ESZ1xGMy7jGZvRjMto\n",
       "xmU8YzPapOLiaRRJktQpiw1JktSpaRUbP53S8y51xmU04zKesRnNuIxmXMYzNqNNJC5Tec+GJEnq\n",
       "D0+jSJKkTk202EhyeZJnkjw4pj9JfpTksSQbkqwe6jsnyaPN1zmTnNe0tYjLWU08Nia5K8k7hvo2\n",
       "N+3rk9y7eLPuXou4rEnyfLPv65NcONR3WpK/NmvpgsWb9eJoEZtvDsXlwSQ7kxzS9C3nNXNUkjuS\n",
       "PJzkoSRfHTGmd3mmZVx6l2daxqWXeaZlbCaXZ6pqYl/AKcBq4MEx/acDNwEBTgDuadoPAR5vvq9s\n",
       "bq+c5Nym+dUiLifN7C/woZm4NPc3A6umvQ9Tissa4Lcj2vcD/ga8BTgAeAB427T3ZzFjM2vsh4Hb\n",
       "e7JmDgdWN7cPBh6Z/dr3Mc+0jEvv8kzLuPQyz7SJzazxe5VnJnpko6p+Dzw3x5AzgLU1cDfwmiSH\n",
       "Ax8Ebquq56rqX8BtwLwfErKvmC8uVXVXs98AdwNHLsrEpqzFehnneOCxqnq8qrYDVzNYW8vGHsbm\n",
       "U8BVHU5nyaiqp6vq/ub2i8Am4IhZw3qXZ9rEpY95puV6GWdZ55kFxGav8sxiv2fjCODvQ/efbNrG\n",
       "tffR5xj8VTajgFuT3JfkC1Oa0zSdmOSBJDcleXvT5nppJDmIwS/Ma4aae7FmkrwJeCdwz6yuXueZ\n",
       "OeIyrHd5Zp649DrPzLdmJpFnVuz9NDUpSd7HIAmcPNR8clU9leQw4LYkf2n+6u2D+4E3VtXWJKcD\n",
       "64BjpjynpebDwB+qavgoyLJfM0leySDxnV9VL0x7PktFm7j0Mc/ME5de55mWP0t7nWcW+8jGU8BR\n",
       "Q/ePbNrGtfdGkmOBnwFnVNWzM+1V9VTz/RngOgaH9nqhql6oqq3N7RuB/ZOswvUy7ExmHdpc7msm\n",
       "yf4MkuOVVXXtiCG9zDMt4tLLPDNfXPqcZ9qsmcZe55nFLjZuAD7TvFv8BOD5qnoauAU4NcnKJCuB\n",
       "U5u2XkhyNHAtcHZVPTLU/ookB8/cZhCXkf+dsBwleX2SNLePZ7BenwX+BByT5M1JDmDwg3DD9GY6\n",
       "HUleDbwXuH6obVmvmWY9/BzYVFU/GDOsd3mmTVz6mGdaxqWXeablz9LE8sxET6MkuYrBO3tXJXkS\n",
       "+DawP0BVXQbcyOCd4o8B/wbObfqeS3IJgxcX4DuzDtfs01rE5ULgUODSZs3vqMGFb14HXNe0rQB+\n",
       "WVU3L/oOdKRFXD4BfCnJDmAbcGYN3ga9I8mXGfyi2A+4vKoemsIudKZFbAA+CtxaVS8NPXRZrxng\n",
       "3cDZwMYk65u2bwFHQ6/zTJu49DHPtIlLX/NMm9jAhPKMnyAqSZI65SeISpKkTllsSJKkTllsSJKk\n",
       "TllsSJKkTllsSJKkTvkJolKPJNkJbBxqurqqvjvH+DXA9qq6q+u5SVq+LDakftlWVcftwfg1wFZg\n",
       "t2IjyYqq2jGpiUlavjyNIokkm5NcnOT+JBuTvLW5ONMXga8lWZ/kPUmuSHJZknuA7yU5JMm6JBuS\n",
       "3N18HDZJLkryiyR/TPJoks837WuTfGToea9MsmyupClpNIsNqV8ObAqHma9PDvVtqarVwE+Ab1TV\n",
       "ZuAy4IdVdVxV3dmMOxI4qaq+DlwM/LmqjmXw6YNrh7Z3LPB+4ETgwiRvYPDxyJ+FXR+DfBLwu472\n",
       "VdIS4WkUqV/mOo0ycyGm+4CPzbGNX1XVzub2ycDHAarq9iSHJnlV03d9VW0DtiW5Azi+qtYluTTJ\n",
       "a5vHXeOpGGn5s9iQNOM/zfedzJ0bXpqjb9jsayHM3F8LfJrBha3ObT07SfssT6NImsuLwMFz9N8J\n",
       "nAW7/nNlS1W90PSdkeTlSQ5l8EbTmQugXQGcD1BVD09+ypKWGo9sSP1y4NAVHgFurqoL5hj/G+DX\n",
       "zZs4vzKi/yLg8iQbGFxh9Zyhvg3AHcAq4JKq+gdAVf0zySZg3cJ3Q9K+xKu+Spq4JBcBW6vq+yP6\n",
       "DmLwWR+rq+r5xZ6bpMXnaRRJiybJB4BNwI8tNKT+8MiGJEnqlEc2JElSpyw2JElSpyw2JElSpyw2\n",
       "JElSpyw2JElSpyw2JElSp/4LcjTTYSJpCDYAAAAASUVORK5CYII=\n",
       "'><font color='#9898fd'>2.778481242863614</font></div>"
      ],
      "text/plain": [
       "<IPython.core.display.HTML object>"
      ]
     },
     "metadata": {},
     "output_type": "display_data"
    }
   ],
   "source": [
    "gnb.showInformation(bn,{},size=\"20\")"
   ]
  },
  {
   "cell_type": "markdown",
   "metadata": {},
   "source": [
    "To read this graph, you must understand what the entropy of a variable means: the hightest the value the more uncertain the variable marginal probability distrubition is (maximum entropy beging the equiprobable law). The lowest the value is, the more /certain/ the law is.\n",
    "\n",
    "A consequence of how entropy is calculated, is that entropy tends to get bigger if the random varaible has many modalities.\n",
    "\n",
    "What the information graph tells us is that the `decade` variable has a hight entropy. Thus, we can conclude that the passengers `decade` is distributed between all of its modalities.\n",
    "\n",
    "What it also tells us, it that high modality variables with low entropy, such as `Parch` or `SibSp`, are not evenly distributed.\n",
    "\n",
    "Let us look at he variables marginal probability by using the `showInference()` function."
   ]
  },
  {
   "cell_type": "code",
   "execution_count": 15,
   "metadata": {
    "scrolled": false
   },
   "outputs": [
    {
     "data": {
      "image/png": "[encoded data removed]"
     },
     "metadata": {},
     "output_type": "display_data"
    }
   ],
   "source": [
    "gnb.showInference(bn)"
   ]
  },
  {
   "cell_type": "markdown",
   "metadata": {},
   "source": [
    "The `showInference()` is really usefull as it shows the marginal probability distribution for each random variable of a BayesNet.\n",
    "\n",
    "We can now confirm what the entropy learned us: `Parch` and `SibSp` are unevenly distributed and `decade` is more evenly distributed.\n",
    "\n",
    "Lets focus on the Kaggle challenge now, and look at the `Survived` variable. We show a single posterior using the `showPosterior()` function."
   ]
  },
  {
   "cell_type": "code",
   "execution_count": 16,
   "metadata": {},
   "outputs": [
    {
     "data": {
      "image/png": "[encoded data removed]",
      "text/plain": [
       "<Figure size 144x36 with 1 Axes>"
      ]
     },
     "metadata": {},
     "output_type": "display_data"
    }
   ],
   "source": [
    "gnb.showPosterior(bn,evs={},target='Survived')"
   ]
  },
  {
   "cell_type": "markdown",
   "metadata": {},
   "source": [
    "So almost 38% of the passenger in our learning database survived.\n",
    "\n",
    "So how can we use this BayesNet as a classifier ? Given a set of evidence, we can infer an update posterio distribution of the target variable `Survived`.\n",
    "\n",
    "Lets look at the odds of surviving as a man in his thirties."
   ]
  },
  {
   "cell_type": "code",
   "execution_count": 17,
   "metadata": {},
   "outputs": [
    {
     "data": {
      "image/png": "[encoded data removed]",
      "text/plain": [
       "<Figure size 144x36 with 1 Axes>"
      ]
     },
     "metadata": {},
     "output_type": "display_data"
    }
   ],
   "source": [
    "gnb.showPosterior(bn,evs={\"Sex\": \"male\", \"Decade\": 3},target='Survived')"
   ]
  },
  {
   "cell_type": "markdown",
   "metadata": {},
   "source": [
    "And now the odds of an old lady to survive."
   ]
  },
  {
   "cell_type": "code",
   "execution_count": 18,
   "metadata": {},
   "outputs": [
    {
     "data": {
      "image/png": "[encoded data removed]",
      "text/plain": [
       "<Figure size 144x36 with 1 Axes>"
      ]
     },
     "metadata": {},
     "output_type": "display_data"
    }
   ],
   "source": [
    "gnb.showPosterior(bn,evs={\"Sex\": \"female\", \"Decade\": 8},target='Survived')"
   ]
  },
  {
   "cell_type": "markdown",
   "metadata": {},
   "source": [
    "Well, children and ladies first, that's right ?\n",
    "\n",
    "One last information we will need is which variables are required to predict the `Survived` variable. To do, we will use the markov blanket of `Survived`.\n",
    "\n"
   ]
  },
  {
   "cell_type": "code",
   "execution_count": 19,
   "metadata": {},
   "outputs": [
    {
     "data": {
      "text/html": [
       "<table style=\"border-style: hidden; border-collapse: collapse;\" width=\"100%\"><tr><td style=\"border-top:hidden;border-bottom:hidden;\"><div align=\"center\"><svg height=\"250pt\" viewBox=\"0.00 0.00 288.00 249.98\" width=\"288pt\" xmlns=\"http://www.w3.org/2000/svg\" xmlns:xlink=\"http://www.w3.org/1999/xlink\">\n",
       "<g class=\"graph\" id=\"graph0\" transform=\"scale(0.961462 0.961462) rotate(0) translate(4 256)\">\n",
       "<title>G</title>\n",
       "<!-- Survived -->\n",
       "<g class=\"node\" id=\"node1\"><title>Survived</title>\n",
       "<g id=\"a_node1\"><a xlink:title=\"(0) Survived\">\n",
       "<ellipse cx=\"73.4971\" cy=\"-162\" fill=\"#444444\" rx=\"42.4939\" ry=\"18\" stroke=\"black\"/>\n",
       "<text fill=\"#ffffff\" font-family=\"Times,serif\" font-size=\"14.00\" text-anchor=\"middle\" x=\"73.4971\" y=\"-158.3\">Survived</text>\n",
       "</a>\n",
       "</g>\n",
       "</g>\n",
       "<!-- Pclass -->\n",
       "<g class=\"node\" id=\"node2\"><title>Pclass</title>\n",
       "<g id=\"a_node2\"><a xlink:title=\"(1) Pclass\">\n",
       "<ellipse cx=\"32.4971\" cy=\"-18\" fill=\"#444444\" rx=\"32.4942\" ry=\"18\" stroke=\"black\"/>\n",
       "<text fill=\"#ffffff\" font-family=\"Times,serif\" font-size=\"14.00\" text-anchor=\"middle\" x=\"32.4971\" y=\"-14.3\">Pclass</text>\n",
       "</a>\n",
       "</g>\n",
       "</g>\n",
       "<!-- Survived&#45;&gt;Pclass -->\n",
       "<g class=\"edge\" id=\"edge1\"><title>Survived-&gt;Pclass</title>\n",
       "<g id=\"a_edge1\"><a xlink:title=\"(0, 1) : \">\n",
       "<path d=\"M49.9864,-147.002C36.8877,-137.76 21.7871,-124.348 14.4971,-108 5.46313,-87.741 11.7984,-62.8643 19.3367,-44.5668\" fill=\"none\" stroke=\"black\"/>\n",
       "<polygon fill=\"black\" points=\"22.547,-45.9614 23.4355,-35.4039 16.1572,-43.1031 22.547,-45.9614\" stroke=\"black\"/>\n",
       "</a>\n",
       "</g>\n",
       "</g>\n",
       "<!-- SibSp -->\n",
       "<g class=\"node\" id=\"node4\"><title>SibSp</title>\n",
       "<g id=\"a_node4\"><a xlink:title=\"(3) SibSp\">\n",
       "<ellipse cx=\"167.497\" cy=\"-90\" fill=\"#444444\" rx=\"31.6951\" ry=\"18\" stroke=\"black\"/>\n",
       "<text fill=\"#ffffff\" font-family=\"Times,serif\" font-size=\"14.00\" text-anchor=\"middle\" x=\"167.497\" y=\"-86.3\">SibSp</text>\n",
       "</a>\n",
       "</g>\n",
       "</g>\n",
       "<!-- Survived&#45;&gt;SibSp -->\n",
       "<g class=\"edge\" id=\"edge7\"><title>Survived-&gt;SibSp</title>\n",
       "<g id=\"a_edge7\"><a xlink:title=\"(0, 3) : \">\n",
       "<path d=\"M93.8937,-145.811C107.616,-135.593 125.848,-122.015 140.734,-110.93\" fill=\"none\" stroke=\"black\"/>\n",
       "<polygon fill=\"black\" points=\"143.122,-113.516 149.052,-104.736 138.941,-107.901 143.122,-113.516\" stroke=\"black\"/>\n",
       "</a>\n",
       "</g>\n",
       "</g>\n",
       "<!-- Embarked -->\n",
       "<g class=\"node\" id=\"node6\"><title>Embarked</title>\n",
       "<g id=\"a_node6\"><a xlink:title=\"(5) Embarked\">\n",
       "<ellipse cx=\"70.4971\" cy=\"-90\" fill=\"#444444\" rx=\"47.3916\" ry=\"18\" stroke=\"black\"/>\n",
       "<text fill=\"#ffffff\" font-family=\"Times,serif\" font-size=\"14.00\" text-anchor=\"middle\" x=\"70.4971\" y=\"-86.3\">Embarked</text>\n",
       "</a>\n",
       "</g>\n",
       "</g>\n",
       "<!-- Survived&#45;&gt;Embarked -->\n",
       "<g class=\"edge\" id=\"edge4\"><title>Survived-&gt;Embarked</title>\n",
       "<g id=\"a_edge4\"><a xlink:title=\"(0, 5) : \">\n",
       "<path d=\"M72.7555,-143.697C72.4249,-135.983 72.0277,-126.712 71.6591,-118.112\" fill=\"none\" stroke=\"black\"/>\n",
       "<polygon fill=\"black\" points=\"75.1552,-117.945 71.2302,-108.104 68.1616,-118.245 75.1552,-117.945\" stroke=\"black\"/>\n",
       "</a>\n",
       "</g>\n",
       "</g>\n",
       "<!-- Sex -->\n",
       "<g class=\"node\" id=\"node3\"><title>Sex</title>\n",
       "<g id=\"a_node3\"><a xlink:title=\"(2) Sex\">\n",
       "<ellipse cx=\"121.497\" cy=\"-234\" fill=\"#444444\" rx=\"27\" ry=\"18\" stroke=\"black\"/>\n",
       "<text fill=\"#ffffff\" font-family=\"Times,serif\" font-size=\"14.00\" text-anchor=\"middle\" x=\"121.497\" y=\"-230.3\">Sex</text>\n",
       "</a>\n",
       "</g>\n",
       "</g>\n",
       "<!-- Sex&#45;&gt;Survived -->\n",
       "<g class=\"edge\" id=\"edge3\"><title>Sex-&gt;Survived</title>\n",
       "<g id=\"a_edge3\"><a xlink:title=\"(2, 0) : \">\n",
       "<path d=\"M110.605,-217.116C104.76,-208.592 97.419,-197.886 90.8123,-188.251\" fill=\"none\" stroke=\"black\"/>\n",
       "<polygon fill=\"black\" points=\"93.5572,-186.065 85.0153,-179.797 87.7841,-190.024 93.5572,-186.065\" stroke=\"black\"/>\n",
       "</a>\n",
       "</g>\n",
       "</g>\n",
       "<!-- Parch -->\n",
       "<g class=\"node\" id=\"node5\"><title>Parch</title>\n",
       "<g id=\"a_node5\"><a xlink:title=\"(4) Parch\">\n",
       "<ellipse cx=\"167.497\" cy=\"-162\" fill=\"#444444\" rx=\"30.5947\" ry=\"18\" stroke=\"black\"/>\n",
       "<text fill=\"#ffffff\" font-family=\"Times,serif\" font-size=\"14.00\" text-anchor=\"middle\" x=\"167.497\" y=\"-158.3\">Parch</text>\n",
       "</a>\n",
       "</g>\n",
       "</g>\n",
       "<!-- Sex&#45;&gt;Parch -->\n",
       "<g class=\"edge\" id=\"edge8\"><title>Sex-&gt;Parch</title>\n",
       "<g id=\"a_edge8\"><a xlink:title=\"(2, 4) : \">\n",
       "<path d=\"M131.935,-217.116C137.618,-208.469 144.776,-197.575 151.178,-187.833\" fill=\"none\" stroke=\"black\"/>\n",
       "<polygon fill=\"black\" points=\"154.214,-189.586 156.781,-179.307 148.364,-185.742 154.214,-189.586\" stroke=\"black\"/>\n",
       "</a>\n",
       "</g>\n",
       "</g>\n",
       "<!-- Parch&#45;&gt;SibSp -->\n",
       "<g class=\"edge\" id=\"edge5\"><title>Parch-&gt;SibSp</title>\n",
       "<g id=\"a_edge5\"><a xlink:title=\"(4, 3) : \">\n",
       "<path d=\"M167.497,-143.697C167.497,-135.983 167.497,-126.712 167.497,-118.112\" fill=\"none\" stroke=\"black\"/>\n",
       "<polygon fill=\"black\" points=\"170.997,-118.104 167.497,-108.104 163.997,-118.104 170.997,-118.104\" stroke=\"black\"/>\n",
       "</a>\n",
       "</g>\n",
       "</g>\n",
       "<!-- Decade -->\n",
       "<g class=\"node\" id=\"node7\"><title>Decade</title>\n",
       "<g id=\"a_node7\"><a xlink:title=\"(6) Decade\">\n",
       "<ellipse cx=\"254.497\" cy=\"-90\" fill=\"#444444\" rx=\"37.0935\" ry=\"18\" stroke=\"black\"/>\n",
       "<text fill=\"#ffffff\" font-family=\"Times,serif\" font-size=\"14.00\" text-anchor=\"middle\" x=\"254.497\" y=\"-86.3\">Decade</text>\n",
       "</a>\n",
       "</g>\n",
       "</g>\n",
       "<!-- Parch&#45;&gt;Decade -->\n",
       "<g class=\"edge\" id=\"edge2\"><title>Parch-&gt;Decade</title>\n",
       "<g id=\"a_edge2\"><a xlink:title=\"(4, 6) : \">\n",
       "<path d=\"M185.103,-146.834C197.472,-136.883 214.232,-123.397 228.182,-112.173\" fill=\"none\" stroke=\"black\"/>\n",
       "<polygon fill=\"black\" points=\"230.42,-114.865 236.017,-105.869 226.031,-109.411 230.42,-114.865\" stroke=\"black\"/>\n",
       "</a>\n",
       "</g>\n",
       "</g>\n",
       "<!-- Embarked&#45;&gt;Pclass -->\n",
       "<g class=\"edge\" id=\"edge6\"><title>Embarked-&gt;Pclass</title>\n",
       "<g id=\"a_edge6\"><a xlink:title=\"(5, 1) : \">\n",
       "<path d=\"M61.2984,-72.055C56.8641,-63.8866 51.4491,-53.9116 46.5161,-44.8244\" fill=\"none\" stroke=\"black\"/>\n",
       "<polygon fill=\"black\" points=\"49.4581,-42.9077 41.6111,-35.789 43.3061,-46.2474 49.4581,-42.9077\" stroke=\"black\"/>\n",
       "</a>\n",
       "</g>\n",
       "</g>\n",
       "</g>\n",
       "</svg></div></td><td style=\"border-top:hidden;border-bottom:hidden;\"><div align=\"center\"><img style=\"margin:0\" src=\"data:image/png;base64,iVBORw0KGgoAAAANSUhEUgAAARQAAAFbCAYAAAAUfnHAAAAABmJLR0QA/wD/AP+gvaeTAAAgAElE\n",
       "QVR4nO2dd5wcdfnH33t3qaQSkpACJIFQQ02hhZDD/OgIIgRRQEBBBAQjCCKoKMKPHwoINoooRRQj\n",
       "ShOUlrsgRsAAoYYSEkgIJQHSgLTLfX9/fGbcvbu9PjPfmd3n/Xrta+/29mae3Zl55vk+FQzDMAzD\n",
       "MAzDMAzDMIzWyPkWwCgrNgaGAP2AHkD34LkOWAVsAJYD7wePDX7ENDqKKRQjanLADsBuwfMYYBtg\n",
       "GFIgbWUDUipvAC8BLwLPA/8B1kQorxEhplCMKNgC+CxQDewDbAKsBeYiZTAXWAS8CywGliGlsBb4\n",
       "FOgC9AIqkBUzGCmgIUgZbQ/sCPQP/ucpoBZ4AHgScLF/QsMwYmU48F1gNrqglwP3ANOAsUBVDPsc\n",
       "AZwA3IQsFwe8DfwC2COG/RmGESM5YH/gLmA9sAS4HjgA6OpBnh2B76OlkAPmAKcha8cwjBQzBS01\n",
       "HLJKTkUO1bQwFim3j4GlwMVAX58CGYbRlN2RI7Qe+Cuwi19xWmUT4DJgJVIspyLfjGEYHumP7vgb\n",
       "gEeBnf2K024GAFeipdmTwK5+xTGM8mUi8BaKynzRsyydZUfgMRQdOheLbBpGonwH3dXvRcuHUqAC\n",
       "OB9Yh0LN/fyKYxilTyVa4tQBZ1Oad/LdUZj5eZTnYhhGDFQhh+snwGGeZYmbzVDW7VvAKM+yGEbJ\n",
       "kQNuQbU0e3mWJSn6o9D36ygr1zCMiLgUOSz39y1IwgwCXkOKpT01RoZhNMMUFBb+im9BPDEK1RX9\n",
       "3LcghpF1+qNCvTt8C+KZY1DS3sG+BTGMLHMlag9gIVT4I/Aqqno2DKOdjELtA77uW5CUMAJ9H2d4\n",
       "lsMwMsnVqPw/jhYDACej0OwclPfhgsfkmPYXBdei76QU828MIza6orYDF8a0/ZOQ8jim4LUjUL+U\n",
       "42LaZxRsi+Su9i2IYWSJg5ATcnhM269BF2afRq9PRWn9aeZJ4EbfQmQZK+suP/YBXkFLkTgIz6lp\n",
       "jV7/S7DfNPMIKow0DKONzEAtFOPiKPI+k3toPhO1O3Ae8BvUb+Vh1NAaYCfgoWAb96I+s1cAC4Hj\n",
       "4xIcOARZbxvHuA/DKCnmows5To5DCWMO+BD4Gk2t4RtQA+qQB4H3gN7B7z1Rg+v5yO9zDzA6PpEh\n",
       "2L4j/U2kDCM1rCCZzNgBwC9R9bID7gM2Cv42gbwV0/hxSME2xqJWCrOAExOQeeNAhikJ7MswSoL1\n",
       "JNs0aWdU2euQggHle7zQxv//MSoPSKJjXDck5+EJ7KskMads+bEMpd3HwSSatlp8DuWfOOALwWsD\n",
       "UHJdzyLbKDwnc8CWaKbPbcTfWT/0nXwU835KFlMo5ccHwMCYtr0KuIqm59UClOa/JPj9FaRMzm/0\n",
       "vu2AMwt+Pw/1aTkZOWx/GLG8jQm/lw9i3o9hlAx/Rg7OOOiFLJHf0XA2zqHB6ycFv3cjP6jrJrQE\n",
       "uwQ5ZkOn7O7AHwq2EfpjJsUkO8hPsxo/M4YMI5NMQ5ZCXCnm7yBF8QEK/T4E/AtlyxayBVJsH6Jm\n",
       "2NeT72F7ZCDjrwref2mw3WXE56C9HvhnTNs2jJJkJ3Rh7u1bkJRRhdo5XOxZDsPIHM8Qb3JbFvks\n",
       "Smrb0rcghpE1zkANqYf4FiRFzEDZuoZhtJPuwJsoW9VQtzaH1fEYRoc5HkVNxvsWxDM9gJeBu3wL\n",
       "YhhZpgJFYObRtNVAOfFrFDka4VkOw8g8Q1B49k+UZ5Ljl5Aj9ijfghhGqVCN+qle41uQhDkAzSO6\n",
       "wrcghlFqHIX8KZdTHj1VpwAfo4mJ5fB5DSNxjgfWoYuslMdJHIcsk99T2p/TMLyzP7ASpZ9v5lmW\n",
       "qOkC/AT5TK7ALBPDSIQxqFPah6imphTYCjWg/hj4smdZDKPs6Im6v4d9YUd4labjdEe1OauBZ9Go\n",
       "DMMwPLEfSvr6BLgMNUbKAlXACahFwkrgHMxfYhipoCu6IJegi/N/iW+mT2fpgZoxvY5aXd4EDPUq\n",
       "kWEYRdkI+DbqTF+HlkKHkI47/xjgZ6h141rgt6jFpGEYKacrGjM6A0VMPkQd2g6jYZe2OKlENUiX\n",
       "AnORr2ceaik5KCEZDMOImJHAuagjWz1aZjyJwrNHox6xUQxkH4ZC2hcA9wMrBg8e7K677ro1W2+9\n",
       "9Y2oWVQ5lg6kDovFG1GwM5r+F0aG9kXKpBIly72Gpv69h0agrkAh3DrU2Lobiix1A/qiaYPDUa3R\n",
       "1uS79C8GHgceGzp06L//8Ic/3AKsWLJkyeSpU6duiP9jGq1hCsXoLJXAE0g57I0sFVDIdjvk39gG\n",
       "KYhNg+fewaMLWiatQ5GkNUjBvI+Ux3vIwfoSmuPTYLxFTU3NLrlc7knge5MnT7aaHMMoAc5FimB7\n",
       "HzufOXPm+bW1tetqamrG+di/YRjRMQItXb7nSwDnXEVtbW1NbW3tS7NmzerhSw5DmCPL6Cg51EJy\n",
       "PvB/3oTI5eqdc8cDQ9auXfu/vuQwDKNznIxmDu/lWxCA2tra42tra+tra2sP8i2LYRjtY1PkIL3a\n",
       "tyCF1NTU3FFbW7v4kUceyUqJQMlhSx6jI/wcpeF78500w2nAhqqqKuvmbxgZ4RCUa3KAb0GKUVNT\n",
       "MyVY+hzvWxbDMFqmD7AIdXVLLTU1NT+rra1dXlNTM8K3LOWGLXmM9nAFSlg717cgLbF69erzgYW5\n",
       "XO626dOnV/qWp5wwhWK0lUnAqcA3gKWeZWmRgw8+eK1z7gRgwqBBg87xLY9hGA3phhotPeBbkPZg\n",
       "WbTJY7U8Rlu4DDgT2AH5UDKBc65i5syZjwKDunbtOm6vvfZa7VumUseWPEZr7IR8JheQIWUClkXr\n",
       "A7NQjJZorpI4UwQh5FuAQyZPnvx33/IYRrlyLmqp6KWSOEosizYZbMljNMcINILix8ghm3Usi9Yw\n",
       "PJEDHkJNjbp6liUyLIvWMPyQqkriKLEs2nixJY/RmE1Rk+lrgVmeZYkcy6KNF1MoRmOuRX1d01ZJ\n",
       "HAmWRWsYyZHqSuIosSzaeLA8FCOkD+ouPwP4smdZYseyaOPBljxGSCYqiaPCsmgNIz4moSzYY30L\n",
       "kjTWizZabMljdAOeBd4EDvYrih9qamruyOVy+9TV1e00ZcqUD33Lk2VsyWP8ANgcOMO3IB6xLFrD\n",
       "iICd0BjQclYmgGXRRoUtecqXsJI4zIjNZCVxlNTU1Pwsl8ud6Jzbpbq6+k3f8mQRW/KUL9OQhfIV\n",
       "TJkAlkUbBaZQypMRyHdyKco9MbAsWsPoKA8Bc1GEx2iEZdEaRts5iRKtJI4K51xFbW1tTW1t7Uuz\n",
       "Zs3q4VueLGFLnvJiMPBTSrSSOCosi9YwGjIG+DswttHr01ECW6+kBcoilkVrGOL7qGp4A7JIepKv\n",
       "JD7Uo1yZo7letDNmzBg7c+bMU33JlVZsyVOa7IeURwVwNvA6cDNwG/A3f2JlkgZZtNOnT6+cOXPm\n",
       "hblc7kng19b0uiGmUEqPKmAC+aTFKuQ72QToD9gF0A6qq6uXO+dOBj43c+bMcwYNGjTLOffDXC5X\n",
       "6Zyjqqpqf98ypglTKKXHbkDjyESYpHUA8BpwQqISZZzq6upHgPudc5flcrldyX+f9blcruSbUbWH\n",
       "Kt8CGJEzEVgPdCnyty5APzT0ah/glATlyiQ1NTWb5HK5m5xzh+ZyOeecKyxXqXLOHeqcy+VyOedN\n",
       "yBRhFkrpsS8tH9cc8q8sSEac7FJbW3tQLpeb65w7KJfLQfHatwGPPfbYLgmLllpMoZQWOdQsqbk6\n",
       "lDpgNXA0GoBuNMP06dMrc7ncncCAXC5XzNoLWV9fX2/LngBTKKXFdmhJU4w64C1gHPCXxCTKKFOn\n",
       "Tt1QX1+/r3PurVwut76Ft1ZVVFRYKD7AFEppMQnlnjTGAXcCO6MaHqMNVFdXz+7SpctO9fX1twQv\n",
       "FfOT5Orr6/d4+OGH+yYpW1oxhVJaTKLhSb8BtSa4APWL/cSHUFlm4sSJq6qrq09xzh0NfIwc3g3I\n",
       "5XIVVVVV1clLlz5MoZQW1eQjd+uBj1A05/+8SVQiVFdX31lVVTUGmE0jKzCXy9VVVFSYHwVTKKXE\n",
       "FmiMKOiEfwrYESsCjIyJEycuXLJkyT65XO5C59wGAsXinOvinDvCs3ipwFpAJoxTtmp/5Dztjups\n",
       "QMq9cB2+GlgT/FyHxoN+DCwDlufUC7aQ41BqPcCNqE9sS85EoxPMmDFj98rKyun19fVDc7lcFYBz\n",
       "brvq6upXWvi3KmAgMAgNVusWvNY7+PsqdKzXACuBpcGjLp5PET2W2BYRgaLYBnVDGwpsBgwPfh5C\n",
       "XolEtb9PgOXAB8CiY2D4XbD+NLjhWrgr2OeiXHFHotFJ9ttvvydramp2Rsr7qODlA4E3UGvNHdD5\n",
       "MBrYGh2PQR3YlUNK5V2U5fwa8CrqtPc8KVM2ZqG0E6fS/11Ra4Dt0EmzHfmTpQ54H1gIvAO8DbyH\n",
       "/BnLkBIIn9ehuxIAOb1euJ8w/6EbsmT6IKXUj7yCGgQMexdGrYUhI3Tihqn3n6CT71UU3XkOmJ2T\n",
       "XEY09Lr44osvnThx4ukvvPDCymnTpvVA3/9aVJT5KlICi5FSWIIURHj8Q+sTZKlUAV3RsQ2tmSHo\n",
       "5rQ1Ot+2QufEauBp4ElgJhoj69XxbgqlBZy+nx2AycB4lMOxDUocW4ruEq+Qv2BfRVZBsdBtYjgV\n",
       "Am4DbFvwvB2wJfpM76ATcTbwGPDvnC4Ao21sAUwFDgL2Bqo233zz1zbeeOPn58yZ8w90gb9KfOdB\n",
       "JTqmuwePPZC/bB3wOOqFMx1YFNP+jbbiYAsHpzj4o4P3HDgHyxw86OBSB0c6DcbKHA76Oqh28G0H\n",
       "f3KwIPh8nzp4xMF3HUxw5qwvRh9U+zQTheI/AH6PfFcdWcpEzWBU9PkH4EOkzGrQVIPeLfyfETUO\n",
       "Rjk428HjDuodfOLgYQfnO5joihfalQQOhjg42sH1Dt4KFMxSB7c6OMzJ/C5nRgGXoyXrauA+VLqQ\n",
       "5u+lEpgC3Ioc+SuB65G1asSBg6HBHfnV4CJ6x8GvHexfzheRg50cfN/BMwXW2fVOpnU5MRq4A93p\n",
       "3wTOoWEULiv0B85DPr064Ha09DU6i4MKB0c4uM9BnYMPHPzMwZ5m5jfFwQgH5zh4MVAuLzj4ZhDR\n",
       "KlUGAb9C/oiXka+kFIZ+VQFfQD6/tcAvkNPXaC8Oujo4wcFcBxuC5cwJrmkjIqMZHIx1cI2DDx2s\n",
       "Cn7ezLdcEfNl5H94G/keSkGRNKYK+YIWo8DCcX7FyRAOujk4N3CurnFwg1PozeggDvoE3+liB2sd\n",
       "3OQU0swymwL/QMubayiPqQC9kZWyAbifdDiW04uDzzt4I3CwXu7yaelGBARW31cKvuOLHWzkW64O\n",
       "sBe6W78G7OlZFh9MRMl4iyg/P1nrBBGbmiBac1sJ3D1TTWAFnudghYNFDg7zLVM7+DLyJ9xLNh2u\n",
       "UdEfeACl/H/JsyzpIbhjrnQwx6nzu5EQDgY5uCVw3t7g0r9s+DrKJ7kMS/AEBSV+gpZAX/Usi18c\n",
       "9HRwZ+BwvcLZEHBvBEvNpQ5ed7C9b3ma4TSkTL7rW5AU8gP03XzFtyBecDDQwRPBSTzZtzzGf5Pl\n",
       "HnfwkVPT7DSxH6rCvsi3ICnmR2gpuI9vQRLFwfDgTjjPojfpwkF3B38Oomtp6RWyGUqZvwNb5rRE\n",
       "DrUMXQIM8yxLMgThyzlBspWFvFJIkEh4nVOtUBoiKPeiIs6erb3RYCMU+Sr9huYOKh38I0iXz2Sh\n",
       "XkqJPNIRHKt7HSxxMDLq7beDI5FvYLJHGaKmT8zbn4L6sWQpctd+HJwRJFXtFuNuTgZeBOagzEkX\n",
       "PCbHuM9iPAFcEeP2uyHn5CxiatbjYCMHzzt4OI7tt4Ec8AKqDo6CvVEinENRkYdQL5LHgJ8Tv8V8\n",
       "Lqp6TqIj33TgmQT244cgPPmRg0tj3M1J2hXHFLx2BGqKk3Sq8h+RkyxOuqOUcxfXDhyMD6JwU+Pa\n",
       "RwuEd9qdI9zm0GCbrxW8Ngh4BDXKGhvhvhrTDfmCYjteBYwN9jMpgX0lj4MrHSyMOSuzRrtqYlJO\n",
       "Bb4T4359MpeYT9AgTX+eS94h+gdkPUSNo+mcox2C1+P2PcR+vAqYhVohtEqmKmydirW+CNyYi7fV\n",
       "Xfi9TGv0+l9QtabRMa5CpfN7JbjPHAoV35PQ/t4KnkspOnIvsvJKKzLmYEqQUj8q5l0dRd5ncg/q\n",
       "htWYU5CTL7xL9Aa+VfBaBcrBuBoNJh8K1KIT7qvklxiXFGzz62hNfkrw/0cDN6P1cihXa/8HWsKc\n",
       "B/wG+A/yXYwpeH8P4ErUdOcSlC26kATueEFk7pdx76eAMdotu8aw7WIWyn7B61cGv48G/oyaNN2K\n",
       "LKUdafn86Ics8IvQJINrgr+dXbCf0EIZiEK8HyKf37jIPl2e8cG+to1h2/5w6s3xVuvvjITj0FrY\n",
       "oYP1NZpadPNoehGGr3VFodJPgt+/A3wGdUnfCDgzeP3Agv/dDDXAKfy98Unblv+7gYbduR5EjbJ7\n",
       "IyvvieA9IaOQgy8JhXKNg3/GvZ8CjkBKPo6mWQ71jq0ANgYOR82YVpD//l9D5wSodcAy5CBu6fzo\n",
       "i5bdt5K3Ck4M3hfOUQ4VysWox+3Bwe9xzGHqEWz7kBi27Q+nZkhJnowD0N20TrvnPhr6boqtYxu/\n",
       "9krwe+OmRF2Qciw0xX8E7NLofY0VSmv/N4G8ddX4cQia11PsbvNqkc8SOcFNYWHc+yngVAqmCURM\n",
       "4Xe7Gh2XG5FVEjINNTYCKYd5NJypVOz8mBa8VpisWYmUSjiKJTzPCpchHxCfK2AVinyWDk7FZ3/z\n",
       "sOud0cniaGiut0WhtOQ8+xZaqoxCiuJPRd5TzKxu6f/OQHfA5rgn2Gb3VuSOBQcnuYLRIQnwTRT2\n",
       "j4Nix6YYGwGnoyXMIlo/P8Jj1FICXlvOvSh5BzirtTdlyimL+lYMjXkfk2i63n4O5Z848nebKPgN\n",
       "uqOciUzzOyP4vwFI0RQ7GSvIOwsHdEDeKBiOjmNSfIi/zwryP7wAzAd+jJpGt0bosxvd4ruSI4dG\n",
       "syxt7Y1ZUyhvoT6nccq9CkUjGu9jARrgtaTgtfBuEK7Pc7Qv23QlUg4no5yXuyL4v1eQMjm/0f9s\n",
       "hxRQGKXytR7ekuT8YKDj1Z0Ipza2k1uRFfmP4Pe2nLvPBc8X0nBJswWaBZQ0A9BnWNLaGzOFg9FO\n",
       "/TaqY9xNL+2K39Gwp8ehwesnFbz21+C1H6Fpbt8kH4U5AJ08C4Lfm8ubGYF8NBe2IEuxO3pz/9cN\n",
       "deBywE0ozH4Jcsz2Rsu39Wi9fQByuFUjR6ILthsLDro4VYU3VnZxMgg5ZQ9s7Y3tZHP0fb3ZyvuW\n",
       "B/v/H3Qs3g/+bwKy1oqdHyORJeOAR9Fy6UfAdeQVzOLg74Uzd94psq0oOCz4DJtEvF3/OHjKwW9j\n",
       "3k14YD5AadUPAf+iadXsaBQx+RhdsKNRWPBWpHguIe+0u56mDteQq1GUoJCeKJwb/v80mg5sKvZ/\n",
       "oDvZPUi5vRvsu/Bk2AdNmFuJlM/5KDT9axT2jMUCdJrzs8El39z6BdQ8KComIL9VeGx+QfPtE09H\n",
       "SuXJ4D1noRk/D6Hj19z5MQZZNR8hH9DVKNEyh1Lvw/+7GimQbxe89lOijWpdDTwb4fbSg9NUv7Wu\n",
       "1GLiJY5TkeAzTg2Rk+ZyFFmq8rDvrNMVWUM/9i1ILDiVxD/poNaVWuZeCePgLI83gi3QMs9HHVHW\n",
       "OR6FuUttZEoeB3sEpvO3fctitI6DXZ1m+fi8y/0ZeJ4SHisbA13RsLPbW3tj5nEwzSkN/1jfshjN\n",
       "4zTydaHTJAKfI163Aj7FbkLt4UKUnuCzj01yOPi5Uzewz/qWxWiKg80dvOTUVS8NYyouRA70Ma29\n",
       "0WBnpICTjMj5JXD0Xe80p/gM3/IYeYJlzjsOnnPpqbztgqJZ8ynFEGh0DETh8EcpR0e2g+8Gy59f\n",
       "O+sX6h2nudGrHDzk4m9T2F7Ci+WfpH92kA/6oALDefjNMPaLg6OdOrm94pTubCSMgwFOne7rHVzl\n",
       "0usA3QFVX88iHUuxtNAf5csspmG1enniNFbjYQfrnTq7+Uq3LiuCUP6JwRJnkVMZftrZFiWMPUuM\n",
       "2cEZYhSKgi1EDmwDwEHOwWlBivdSp4bW5bcOTAgHkxw8HSjxX7mmbRrSzEhUN/MBsL9nWXxyMMrI\n",
       "fQbl7BiNcdDLwcUOVjtY4OBs869Eh4OJDu4LljePONjJt0wdpCfqhl9HPo29XOgFXItaYdyM6rqM\n",
       "lnAwKnDWrnbwXuDAtcFgHcBBVwdTHcx2KtJ8xKnXaClwIrpLv4GKJkudg1Bh4gcoG9ZoDw4GO7g0\n",
       "cNyuc/BXB4c4dcIyWsDBGAdXB0vIOqfB9KXo+N4UZdQ6VLwX5ygMX0xA4WCHChyL9Us22oqDHg6O\n",
       "czAjMNcXO7jWQbUplzwOtnHwnQJrZJ6Di5xK7kudSSgCVI9aVEz0K04kTEYV6PWo0rwUPlO6cLBl\n",
       "4Gd5Ibholjr4rYMjXZnF4IPlzKTAins5+D6WOLjRwWRXnoWYhyPF4tD0gBPIVu5KH9RG4xn0GR6n\n",
       "1MeKpgUHWzk47xN44hSov1vWyzNB+PnQUlMwDro72HM9XBAkoH0SKJH5wfJmklls/2V34A5gLapt\n",
       "uR013GrclzcN9EClKHeg1Pm1aNBZKS5RU882wPM5+Ohs+KFTl/3ng6VReLFNd/BtB/tlxbnrNFt4\n",
       "rFMvmesDRbnun+C2h/Uz4G8OvuLin3eUdTYGTkNZtvVIudyPWmtuix8rLofae34DeAApkXrU6Otr\n",
       "FG/AFaswhvgcavs4D/XNmB/+IbBOxgePccEjbJa9HI2gmBs8v4kSpt4G3sk1HJkQC8FyZDCqmRmG\n",
       "cgm2CR5bo3aFoMK4Z5H5PvtSWHyRZkSPQ3Nhrolb1hJiM9RW8kAU6epDvjPbUyhJ7FU0l2dtRPvs\n",
       "jo7n1qh4bwKynvqiFp6PoC5vfyfZRuD/xRSKkt5+jKoqb0CavlUl4GAIujNsg+5O4QU8nHwinUM9\n",
       "RN9DIcnlwWNZ8LwetWHcELx/FcqHAGX5hsenD1p+9EOJY4XPg5ByK2wNsAQpxrnohA4V3hu5/L4K\n",
       "P/9FweM+4CuBrEbb6YImJexO/iLfErXSrEdNud8mfy4sRcc6HPK1PNhOeMx7BY+BKPI0GJ1XWwTb\n",
       "3IDC26HyehLdKMJzxxvlrlBGANORQvhq8HOnCPwOg9EdbBg6ETZFCiB8hAqhkoLM0veh7wtQESR2\n",
       "FCqXj5HyWUFeIYVKaSm6Gy1EvXDfzsGaDohejcZe1gNfItmBaqVIN9RjOLQSh5BXDoNQAl0vpCDC\n",
       "eqIV6PtfhZYuS5ACeh8d2/DmMI/orB4jIvZGB+plVCyWBo7F711mE2Sl1KERl+aUTY46op35ZCTI\n",
       "V5GGv5N0pVofT8esiyjJoaHca9B83bT0Mil1PgW+7FsIo31Uog7o9cFz2gadnUh8s2nbyw5o/MRS\n",
       "LHchCZahOcxGRuiNzPnVwHGeZWmOr6J1dFrogSI/Ds0asuLK+HiPNswONtLBVshXsph0J/ichoZz\n",
       "pY2j0B30Rawfa1y8SQk00E6byR8H+6LQ2iqUb/Efv+K0SCVNw7pp4E401W4F+i7P9itOSbIWRYaM\n",
       "FHMkWuJMJ51p0o05G4UH00oViv5sQEomS82U0s7zaHStkVJORLkbvyQ7ltg5KJ8k7XwGKb43Ufjd\n",
       "6DxPEe38ZSNCzkeOxMt9C9JOzkNNb7LAQFTHsh5ZLVlR2mnln6h7mpEicsBVKEnoNM+ydITvAq/7\n",
       "FqIdhDkra1HTnqEtv91ogUeA630LYeTpikq21wBHe5alo3wPeMW3EB1gHFKES4BDPMuSVf4G3OJb\n",
       "iM5SKmZqD2R+H4C6l//ZrzgdppIUFHh1gNnAbsCDKNfnGvzOMc4iJRHlKQWF0gO1ttsVFbg95lec\n",
       "TlFFNhUKKCx/PHKGn4w6nY32KVDGMIWSArqikPB41Jdijl9xOk0V6cxDaQ+3oubOOeBprKN6WzGF\n",
       "4pmuwF9Qs939kdmddbK65GnMa8AeyEF+M1L6NsWxZdaQjVypFsmqQumKEqv2QX6TNGe/tocsL3ka\n",
       "E4aTD0TH6VmkZIzimIXiia7I6ToJKZOn/IoTKaWw5GnMw6hd4Sso1+JisnnexU1JKJSsUQXcjTqV\n",
       "7e5Zljj4FTDDtxAxEeasrENKZohfcVLHD1HxZabJ0p0iB/wGpX0fhPpolhqlaKGEOBRO3hsNKZ+D\n",
       "jqMhzEJJmCvQ3a2UT8Lfoo7lpU4fNCumHstZCclKHVdJ8C3yzZNLmVtQYli5cAJqwP0U6llTzpyJ\n",
       "Mo2NmPk8WgZM8y1IAtyOfETlxLYoArSC0r9htETauvWVJLuhO1i5VGHegcLh5UZ3tPSpR4lxWZof\n",
       "HBVpaFBe0gwFFqFJaFWtvLdUuBMplXLlcOADFGLexbMsSTMVKdRMz8pKa5SnJyr2W46+6FJJ9mqN\n",
       "Uo7ytIV7kCJ5H3gChZkzfYG1g7Xos5qDOgZuQ3eqkb4FSZj7KIES9gioRE2y1iElM8CvOIlwAAqt\n",
       "9/EtSKlxNrpLl3J4uDn+DtzkW4gUsTsaWv8eqtcqZSYjhTLIsxwlxUR0V/qub0E88TAa2G7k6Yv8\n",
       "SmHOShe/4sTGnkihbOZbkFJhAJpQfzfls25uzAyUfm805QQ0VfEJYJRnWeJgV6RQMp2Pkyan7E3o\n",
       "C/1K8FyOlLtTtiVuRX1vegDPUHqDxdcGz5lvYZAGzkQXUrVvQTwzC7jatxApJ8xZCcejpmnYfWfY\n",
       "En2msb4FyTo7oGFcF3uWIw08ic1maSufQ2NbXwZ28ixLFAxDCmUv34JkmSrUHOnflE/yWks8TfZm\n",
       "Cflkc9RjZTXZH4+6CVIo5W6ld4oLUbrx9r4F8cARwFvIEf0W8AKwEng3+PkpoBaNV+jrR8RMEI5H\n",
       "rQPuAjb2Kk3b+RJqjTkDHeenkR8lPCfeRrU9pdDaNBG2Q3eWc3wL4omD0dHmiykAAB03SURBVB2p\n",
       "tccaoLcnGbPEZHQRLkQtJ9POT2n92NcDj/sSMEtUoPDfLJQVWY50QRZJSyfUOtQ3xGgbmwD3Imvl\n",
       "YtJ9bo2hdYWyHjjLl4BZ4hT0ZZWCM60z/A4pjZZOqgO8SZdNcsCpwKdADXJ2ppVnUXSzJQtlc2/S\n",
       "ZYSNUSOZK30LkgIOomVlspR032XTzA7IF7UUOMyzLM3xdWRNNXf8n/MnWna4DjkezdGoZc8Kip9M\n",
       "a7EQcmfpQcOclZ5+xWlCX+Qja265W64lKG1mJ2TilXNnrsb8FimPYidVuS8Jo+IoYBnqKr9jC+87\n",
       "luSL826n+WXvtgnLkjnuR3kn5VqrU4wDKb52fsmnUCXIFsC/kG+lWM7Ksei7f4Rkz8/PUFyZLEhQ\n",
       "hkyyD/qipvgWJGUUW/asp3zD6XES5qxsQN3x+gevj0KtRuuDv52eoEw51Jmw8XL30gRlyCT/Ah7y\n",
       "LURK+S0Nzd4N2CCsOPkM8A7wJppA+R+kxAtzf7ZOUJ6LabrsGZfg/jNHGM0Y71uQlFK47KnDFG8S\n",
       "DEb9itfSNNKyHkVYkuq9shkNw8fvYW6BFplJeQyw6iiFy54NaD1vxM9+aJlTzIdRB1yUoCw1wT7X\n",
       "AT9LcL+ZYwI6QJM9y5F2wn4wn5C+8GYpMhDlQ7WUB1JHclb1seSV2+SE9hk5SVT4XoDWqLUJ7Cut\n",
       "dEXNh/sC/YLfC/t4bIRyc0BFgfsisztkWfD7CpSuvyxmeUudHGoG3o+WEwcdKn3YCdWdRUkfYNPg\n",
       "uR86tmFOyiDywYtPgFUoQW8pUjqpJe512haoyfBU4C8x7ytpKtHadyRK7940eB4EDA+e+6MTpkcM\n",
       "+y9ULm+ju+1iNIJicfCYh3qGGA35AvDHNr63DvgF7Z9cmQO2QTU7o4PH1uiaGEjHBqPXo2kQ7wKv\n",
       "FzxeRj4f74PC4lYoFwOnoQtvfctvTS190R1qDDpBtgoeI8nPUFlL/kIuvLCXkb/wVwY/L0N+kpUF\n",
       "+1hNw5OhD/k7Z2Xwe7fgObyj9Q0eG6OhaIORQhuMlFl4bJcjxfJG8DwXeB4N08rqMeksmyAFcSRK\n",
       "HqtDBavNtUR1KDJU08I2e6KI0SS0zB+Hjs8GVAEdXvwL0DmyFCmGFeRHkH5Kfj5Pv4Lt9kVKaDD5\n",
       "4zy64NEdHcuw7cW/UcPz0OpNjDgVSgWyTv6EZqxkgQGoY9YEpER2JD8baBnwKrooCx/z0cmRJrog\n",
       "K2lL8gowfGwd/H0d+Tvbc+gkfJryUzJboALMI9AyowopmMIITz06xtvRcLm5JcrC3R/YGyn9l9ES\n",
       "/6ng+Xny/WLjIBfIMR6dt+ORMuuGFMzDaLbR46R8udQa+yPNvp1vQVpgBPBl4EZ0ItQHj7lIEV4A\n",
       "HEJpjTbogpTlccAVKES9BB2rT1FE7lL0ucttxnBvpCBuRYojzEkJnbS3oqXtNNSu06Hv7jbUlT8t\n",
       "uUM9USrCVSjj2qHkuZ+i7vqZ5A7S1xymO7oLXY46YYVFWLNREdnRyBwuR4aiz38N+j42IGtlNlq6\n",
       "jqW8ciMq0Zyo/0OWaGEW63KkXA4jG3OCtkfH8BX0GWajFg9x+PZioRfyC3zVtyDoS5sK/BV5zB0y\n",
       "Q69AeQg2S7Y4A1ER5+/JWzCLUFf+3T3KlTQHoeWLQ5m1Z5HtURf7IOt7HUqg+xYZUCxHoDvcYE/7\n",
       "r0Qm++9RyC3MPj0F+RaM9lGB1uY/Qn4kh5y8l5LuJW1nmIgaYDvUBW4Pv+JEzlBkfX2MooRfJ8WN\n",
       "4m9ELR6Tph+qJJ1P3rQ7G617jejYAZnQ4VLgcbRcyoL53xoDgZuRL+1hSt8a2xQtc9egDnIT/IrT\n",
       "lBzSeN9LcJ/boUSlNciZdhXJFneVKxVoSfA3ZJEuAr5Ddp25X0J5HguRlV1OjAYeRcfxWlK0rAtn\n",
       "tCYxAW008rDXoeY5X8HS1n0xEpnQK5DP5dtkZ6pfd+B6ZJVcS3YVYmfJoWjVcjTuNRVzli9ACTVx\n",
       "RgQ2Bm5AUYi5qA4iTXOay5kBwGXId/UeUvJpjg4NQfk3y4DDPcuSFrZE38lylP7hlfuQFzkujkdZ\n",
       "qO8gbWpNnNPJQLQ2rwMeI53O25Hks4dHeZYlbXRH1v9alJvjjXeAc2PY7kDgQbTG+yXW5Dor7IYy\n",
       "RteijOm0WCsjUYnE0+jcMpqSI39T8NJSYzPkP5kU8XbHI0fZfEovfFcOVKKWlutQPlAfv+LQF2WQ\n",
       "Pp0CWbLAlSjgMTHpHR+JLIgoR2d+ASXJ/YPszK01irMP8q/NRTU0PsihZl+LSfcQsDRRgW4ES0l4\n",
       "8Nj/ooKkqDgamVtXYb6SUmEoyneYh58L+mvImZ+6fIuUsxGqd0u08+K9aM5IFByKTOSrI9qeT+Iy\n",
       "q7ugKtc4iNNHNRCF+eeSrP9iGIpcXJ7gPlsjS0uuvdAK5LikdvgiSs/uLEOBj4DfEI8T71zy1aR1\n",
       "yNl7H0rQegR4K/hbZ6qMK5ET8p9E3xKgPwrNfozkjIpuaFrdLPS9xMkQ1BvkrzHvp5BrUT1O1LUr\n",
       "J6Nzfw5K6gwLCSc3et8TqIasvedGW7efBNeh4xZ7mn4OFd+dFMG27keVkXEWLQ1BB+W1In/LIQXT\n",
       "2VBid9QxLcqLvpD3Y9h23DIXsjfJ3fH6o9yYsyLe7knouzqm4LUjkCXU+HP9kfwNt63fc3u2nwQj\n",
       "kRI8prU3dpbwAt23k9sJCwv36rREreOQ2V2MvYhmLOVc4rs449p2nDI35hrk7Is7q/YbKIs3yoAB\n",
       "qIubo+nSZSoqQ2iJtnzPndl+XNwJzCj2hyizS8O7+fxObudc4G5kdvtiW+Q4XOJRhnLhR8gSPTHm\n",
       "/RyAiv1WRbzd8Bpq3HP2L8jKTvv2O8LdyLqMtUThi8iJ2plozHBUT3FQJBK1TmMLJYeskofJt17o\n",
       "iYrG/oCmH+6B6hzeRF/q1sBd6C47l6Y1TOFdaCvktP4I9deYXPCe0cCfkbPwVpRZuiM6mfZFjukF\n",
       "yLdUi3w8/Wh6hzsH5Qv8lLyztjtwHvJH/Sf4bGMK/qcHyjO4HrgE+WYWkpyFAsrIfCzG7VehHr5f\n",
       "i2HbR5H3adxD8ZYdFShieTPqiBfSlnOjLdvfAx3zBcHf70TLqRdQKkfUbIqu0wNj2PZ/+Qaq3egM\n",
       "xyCllFTDl+bmsTjyBy7s2enQuvVglEYeDrQ+F5mjuwSvNW5kHJ40V6NucaciZ2odUhogP8684Ocq\n",
       "5DB+ATV/2pN8Y6jvoGbJN6IlQqFC6Y+UUbjNkBtQc+2QB9Fx6o2U/xPBe0JGkR/LmRTHI0UYV7Or\n",
       "4ejzxLWMPo68k/9DpLgaW/9h0mfhDawt50Zr269AvX8+Df5+Lcr3ORYp0bg+9/vAmTFs9798n+b9\n",
       "EW3lAvIXVhIUs1AGo7tl4ztB4/eG3vZCwk73hYQnTeHa/azgtZuD36ehBL5QhnlIsYaErfv605Bw\n",
       "2yORBdK4fWU4ZK3Y4xDgjODnbRv9X9hEKSnGk/8ccbBbsP0tY9o+qCjyl+QHh91HU79QcwqlpXOj\n",
       "rdsPj1lhtf3ZwWttHRnSHp5HFm0DovSh9KfzA6h6EP1ApfbgkFK4mtbDecXW4h+RH3/Q0vvvDp63\n",
       "D56vRifI6cCFKHxb2KwovLib+37vRyfXB41eH4/Cjbkij/vJV5K+2ej/ku6O/mnwHFfrifDC+ySm\n",
       "7YMshzPQknchyqO6oo3/29K50dbth8fs04LX7g2eR7dRjvawiiIO7rQplGWkI73+LqQcehFPW4T3\n",
       "g+eFwfN4tMSZD/wYmb3t4Vy0XGw8rmQAWsIUu1AryGeqDmjn/qImtKw+imn7oaKNugH5JJp2kX8O\n",
       "+UAceauzPRSeG53d/jvB86IOyNEa4SjXBqRNobyIHI9pGUdwO/GY/mHC3N+C51uRRfKP4Pf2HpcH\n",
       "kDP1Mho6tF9ByqSxotkOrX/DKMEh7dxf1IwlPxEvDsITP+rzahUqC2l8vBYgxdCRKGHhudHZ7Yc3\n",
       "ikc6IEdL5JBjNtYo6EPIWdgZeqK782mdF6dVBiNlUSzM3Q0dyLCvS/fgvYVhurCfamHobEHwWuEJ\n",
       "8DJN/R+/JG/agpy99cD/oGhZmLA2ATkUw+02XpOHvXNzyMH6KFLquxR8jjeC99wUbPsS5JjtDeyM\n",
       "lnYfoLBqD6Aa5Ws4NLcoCR4jupKN5lgA/CDibfZC39PvaHgeHBq8flKR9y4ueK21c6M92w/9MYVR\n",
       "1hNQX+Wos1p3DvYV64yfh2kYLegov0NfdJwd2CajlG+HLuSXkXXwN5QOHXrHT0Fh5CvJD336DPI9\n",
       "hJGQa9Ay7cxgWw61PwzvDlPQWrYGhWavQb6Sws93OlIqT6KmyGch8/8h5F8JHanXI2XRH7ioYH8X\n",
       "IMvu+OD3FSgi1BdV9d6D1uDvBtsoNP33QU2mVyLlcz4Kbf4ajRmJuxNe6DCNuzPYb4hnTtQ7SP4P\n",
       "0PF6CKUXFPak7Ymsx/A4TkMKvS3nRlu2D3mFcg469waiYxlHwuA5yDqJ9dx4BH0pnWUbdOF+K4Jt\n",
       "GemmCoWtk0hi/CzKwC7V5uVJZTfnUITnd3Hv6FFUOBQF30VKZYeItmekkwtJ7jhXoGHlv05gXz5I\n",
       "SqEcGOxnl9be2FlmEN3BCu9cc/E3LMyIl8+iXJvGKeVx8nWUllCKVkqY3RxnTVQlyuR9MMZ9/Jco\n",
       "LRSQ7+JlZF75Dmsa0TIFXdg3kWyP2SrU9rE24f3GyUZogmPon7mJ+Nqkfgv1Bk5k5XAfCn9GyWbI\n",
       "O/888WY5GslxLEowuwU/o0/GIod6HI3US5mdUAQ26khZs9yOEsKiZnMU+voI//kSRsfpAvwMRaZ8\n",
       "t/Q8B6WwH+ZRhiwxBC2pZpDguNnr0LInDrojr/IGdDKW62S3rDIG+De6w3UkezQObkCJY1FPaCg1\n",
       "NkHV9a/QtJYsVn6CHDZxchLKp1iInHpGuumB8i/WISd7mqJ2XYDpqPblYM+ypJVhyI/5BvEVbjZL\n",
       "FNXGbWEQ8HvkgHoAGJfAPo32UYWU/wKUsHcG6RwVW4kS3tahhDIjz3hUNPoSSppMnDNItsPZfuiu\n",
       "V48yQWNNAzbaRCXK1n0dXaQ34ulkbAc54HvIp/JHom8RmUXOQPlBD+Ixwvo5dHF3S3i/U9BSy6HU\n",
       "6qNJoCO30YB+qPfGfOTnmk48JfNxMgXVUL1BzJ3IUswI1NaiDq04vFqVYTOfER72nUNVtvejE3oh\n",
       "ysJMdMpZmZFDbSZvQTkly1DdUZbD+5uigtCwKVG5TBbshurPPkZLnMRHjhYj7jZ7bWVL5CD+EFlM\n",
       "/0QmnGXcRsNuqLFPOLtoDmpdGHfX+iQ5CFlbq5GSjGL6QRrpggpg30LO6YuIrw1nu6lCptLRvgUJ\n",
       "6IryDG5H4cE6FNY+l4ZNmo2W6YbaKlyFet+GLR8uQ8lOpUpXVEH+DrpzX0PppOz3RUvUN1Dm6y9J\n",
       "qTX2DvBN30IUoSeaY3I76k7v0LLohuD1VH6ZnqhE/S7ORNnP4XTCF5Blsrs/0bzQE6Wcz0cW79+B\n",
       "w0neVxgF45DyWBU8foUfF0WbeRz4uW8hWqEC+Xt+gKJEYV+TN1E4+gxk1qfG9IuZAcgC+QHy6oe9\n",
       "YJaj2S+n0LmRrKVCBcp9ehD56ZahZMsDSK9yyaGbw49R5M2hZtbfJKbZ1VEXSN2EfCkHRLzdOOmF\n",
       "FMzeyP+zFxqLsR5lBz6HaonmoIPxNsk3cY6C7mj+y/ao9HxntGQZHvx9AWrcEz5eIpufMwmGIcv2\n",
       "GGSxfYqaUj2EltUvI6Xjg+Eo+3f/4DEE9ZSdDtyBylhiI2qF8h3UvnFExNtNkgrU5GknGl544bJo\n",
       "Lbr45qE16Hx0wN5HS773UAw/afqhnI9Ng+fNkIN6q+B5GDredcgX8lzwmBM83m+6SaMNbE7+4v0M\n",
       "6t73CUpX/w/6bl9DFkKUTbjDG8Ro5BMch5LRhqCb4SzyHd6eIaGbQ9QK5Ug0Aa8XfsdhxMEA5JQr\n",
       "vEi3QinJjSNIHyHFshy1Y1wZPC8Pfq5DvolwVEcd+VEKFTQ0RzdCy6+eyHIKH/2CxwCkRAqHo61F\n",
       "vUvfKPJ4DT8KrxyoRBf3+ILH9uSXRB+SbzC9lPwcpzBosBZZO1XkE+z6outpIFIWA5EVshk6V8Ll\n",
       "+mykwP4T/NzeyQmRELVCGYOcdzsFz+VCFxRaHIYu7mGoz+uLSLH0RUqgf/BzRcEz6IQrHHWxnHz3\n",
       "rTVIOa+hqXJagZRXaBmFz43n8xj+qERWzNbImhiBlMJAdCPqhxRGF2R19KDhDWY5UjJL0bFdio7z\n",
       "6wWPUrt5/5duKOU6LRWlvjgBnRRpKoYzjEwyh7ZPTCtFuqKlRRQTAAyj7PktGqlRrpyLTNThrb3R\n",
       "MIzW+QZa15dKz8720A/5L37sWxDDKBUm4q9I0DdXIKdZLElDhlGO9EJJPZ/3LUjCDEP5B2f5FsQw\n",
       "So05aHxnOXEzSnJLaxq2YWSWX6A6mXJhRxQmLvdwuWHEwrEoH6Vna28sER4AniWdfVMNI/MMQ47Z\n",
       "yZ7lSIJJ6LNO8S2IYZQyb6EOUKVMDhVh/d23IIZR6tyKJo2VMlNRRMs67htGzByPqidLqddoIV1Q\n",
       "5e4tvgUxjHJgU9SD4SDfgsTEmUhhjvItiGGUC8+j5salRi9USv4T34IYRjnxU0qzL8qPUGMcb1PV\n",
       "DKMc2R8te0pp4NYg1OToPN+CGEa50QXdyc/0LUiEXIcaVZdL0p5hpIo/odEDpcDWKAP4RM9yGEbZ\n",
       "chy6CPv5FiQC/ooczZW+BTGMcmVj1N19qm9BOsnuyB90sG9BDKPcmQH8wbcQneSfaJiTYRieOR3N\n",
       "Cclq1uzhyDrZ07cghmFoBsl64CjfgnSASjRf50++BTEMI8+jaL5q1jgFOZVH+xbEMIw8X0M9V3v5\n",
       "FqQd9EBzi3/uWxDDMBoyEN3pv+RbkHZwIRoJ2Xh2sWEYKeAesjMEbBM0V/Z7vgUxDKM4R6BoSRZK\n",
       "/q8B3gd6+xbEMIziVAHvAj/wLUgrjATWIL+PYRgp5ifAAtLdIf6PwKuouNEwjBSzDeoS/xnfgjTD\n",
       "LqhP7Od8C2IYRtt4Avi9byGa4WEkXzkOezeMTPI1YDUNK5B3Qr6VpPqMfB8ta44oeO1AZD1NTEgG\n",
       "wzAioA9Kcvs6qt6tQReyA/ZKSIbCfT6JlMgzwN0J7d8wjIjoAfwbFQw6lPAWXtyHJyTD0oJ91gXP\n",
       "79LQYjEMI8UMAs4HliDHZz35i9qhAsKvJiBHnyL7DhVbPXAbMDQBOQzD6CBfRxdsoTXS+LEGuCAB\n",
       "WfZoQYZQsazBGlEbRrtIMhfkXZTY1lJuRw7V/MTNdshCao4uQFesO5thtIskFcrdwMnIAmiOKpJR\n",
       "KNvTskKpA2qBwxKQxTCMTnAWLS83HklAhr9T3IfikKK5HcuSNYzMcAnNX9AvJrD/t5vZdz1wLeku\n",
       "CzAMowhXImug8UX9Xsz77UlTZVYfPM6Ped+GYcREDvgN+RyQ8LE25v3uSlNlsgH5dwzDyDCVwJ9R\n",
       "/knhRR5nm8gvkbeM6lAJgEVzDKNE6Ar8g4b5KSNj3N8lSIGtRx3Zdo9xX4ZRVlT5FgApkiNRV/wJ\n",
       "yCE6CPVMKWST4NEb6Bu8thFSSKCh7CCLYxVKrf8AKY5CxqDP/Q5qofBKRJ/DMMqeNJXoDwYeB7ZC\n",
       "4zZc8PMwpEg6qvyWIUfvfOB1NBvIAYeiOcWGYUSET4UyElkIuwPjyFsO9ejifxGYh0K8S1F/1yXA\n",
       "CmSBgCqW16HPEbZC6I4smE1QktymwWOr4LENeQvnLWA28B+UyDablhPeDMNogSQVSnfUb+RgpEhG\n",
       "IYUQXtCzg8d8Ws6mjYJNgLFIkY1DSm0I8qnUAA8BdyElZhhGSqhCS4vbkGWxAbUtuATYl7z/Iw1s\n",
       "D3wDjfpYhSJAM4DTgI09ymUYZc+mKEnsLWRtvBT8npWWAN1RHc+twEpUeTwdmOJTKMMoN7ZG1sg6\n",
       "5O+4nHhDwEnQC7WsnIOU4xPAIV4lMowSZyRwMwrRzgWOB7r5FCgm9kZLonrUNvIAv+IYRmnRHTV7\n",
       "/hQ1fD4OZb+WOmOB+5DFcjewhV9xDCP77IvyOlYB51Ke5f5hYtwnwDmkK6/HMDJBBbJK6pD5P9yv\n",
       "ON7pClyE/EZ/J5kGUYZREvRFg7DWoBCrkWcCyqFZjHJbDMNogSEo0rEY+RCMpvRDVspKLMRsGM0y\n",
       "DHgD+QtG+BUl9XRBY1bXYj1pDaMJvdBEvZcx/0BbyQE3ImfteM+yGEZqyAH3omrdrCeoJU0V8AD6\n",
       "7srdcW0YAJyKktWSmjdcavRGy8QHfAtiGL7ZHBX0Xe5bkCIMAo4GvutbkDawFyqKPNGzHIbhletR\n",
       "P5LuEW1vb9TqMZx98xCq5n0M+DlSEm1hW+AXwXbmRiRb3PwCWES6qqsNIzEGo1aKp0a83aFIEbxW\n",
       "8NogNNxrGW0PR3cjWwplGIr6nOhZDsPwwgWouVBU1kkhxRTBDsHrf+nkdtLMLaig0DBKluYm5B0I\n",
       "3I8yYpPgreB5WEL788FfUAathd6NkqWYQukF7Il8HEkxIXj+V/C8EaqPuQ24BvV7PbuVbYxGM34u\n",
       "R42RHgN2LPj7ONTL5AbgClSLtFEb/hYVNch3tF/E2zWMVDMGLSe2i2n7DrU6qECtFQ8H3kQRpW1Q\n",
       "/kYNUgph9e6J5DvVF26ncMnzGnIiE2xjGfBCwd9fBT4s2OZ08tZCS3+LkleA78WwXcNILZ9BF+uA\n",
       "mLZfOCFwNVru3IgsDIBpwd+2LvifSqRU+hW81lihTAO+EPycQ8plXcHflwT/87Xg9x2BPm34W5TM\n",
       "RBEfwygbPosurrg6rrXmTL0neE/PDmxnI+B0tFxaRMPu+Z9HRXsOLa3GtfFvUfI35Jw1jLJhL3Rh\n",
       "xeUgbU2hPBG8Z+d2bmc8ah9wYPD7XJqO4xhFPhdmHWpV2Za/RcVTyEdjGGXDluiiiquorTWFcn3w\n",
       "nuk07IC2BXBQC9uZi6ySkFdpqFB+WPDzF4K/LWrD36JkEepuZxhlQyWaCfzNGLa9ObpY32zhPSOB\n",
       "j4P3PYqWMD8CriOvYHoEfy+cf7wcNY/+H+CLKI/GoQjScFT5G/pgqoL3h3khLf0tKkYE8kyOeLuG\n",
       "kXruQI2ComQC8CfyDtlfoIl9xRiDlh8foVGkV5N3ko5EoeRwO2cjZXA6eUWwO3BW8P93o2iSA55G\n",
       "84F+j5pMjwi22dLfouJU1H/X0u+NsuNY5EfY3LcgJcQTaBlnGGVHF7Qs+ZlnOUqFamQF7elbEMPw\n",
       "xdnIt7CVb0EyTiUwC1VWG0bZUgXMRnkZzdX8GK1zDqo0HuNbEMPwza7Il3KBb0Eyylhk5V3kWxDD\n",
       "SAtnonDsMb4FyRgjgHdRtKrKryiGkS6uQnU3B/sWJCMMR4WAc1BfWcMwCqgAfoOWPyd4liXtbIsK\n",
       "Hl9AHeoMwyhCDrgMLX8uQdELoyEHoSzjfwH9PctiGJngFOBTVIpv82ZEF1T0V4/6uLRWKW0YRgE7\n",
       "oWK8j4DTKO+w8p7As6j+6ES/ohhGdtkI+AnyqzxJvo1juTAItYzcADxMw4ZQhmF0kDFo+eNQUV1b\n",
       "R2FklYFoefMxsJh8lzjDMCLkIGSp1KPRmwdTWkuh7dFAso/RvOJpmK/EMGLnYLQEqEcd1L5DdquW\n",
       "e6HeKjXIAnsd9YkxRWIYCbMNqlb+CCmXWehiHOFRprbQF5gK3ImiWetRn9sDKC2LyzAySVdktdyM\n",
       "RluEd/pfA0eisac+6Qnsg9pA/gspkPVoLtEpwCb+RDOMbJFr/S2R0hU1wZ6CWjWORQlyb6PK5qeB\n",
       "l5HCmYfS/aOiEvWl3QpZT7sF+98++NsCNGP5YdRq4MMI920YZUHSCqUxfVEz7HHo4h6LlkShXG+j\n",
       "xs5Lg8d7qI3iCrSMWoOUThX5mpk+KKS9CbJ+BgGbotaRYfvFj4BnkAKbHTzejOMDGkY54VuhFKM7\n",
       "siK2QsO/hiHlMBApiN5IaVQG7+2BckFWBv+/AimZUAm9HzyHVs/rSKEYhmEYhmEYhmEYhmEYhmEY\n",
       "hmFkl/8HrYZh4lqsb5cAAAAASUVORK5CYII=\n",
       "\"/></div></td></tr><tr><td style=\"border-top:hidden;border-bottom:hidden;\"><div align=\"center\"><small>Learned Bayesian Network</small></div></td><td style=\"border-top:hidden;border-bottom:hidden;\"><div align=\"center\"><small>Markov blanket of 'Survived'</small></div></td></tr></table>"
      ],
      "text/plain": [
       "<IPython.core.display.HTML object>"
      ]
     },
     "metadata": {},
     "output_type": "display_data"
    }
   ],
   "source": [
    "gnb.sideBySide(bn, gum.MarkovBlanket(bn, 'Survived'), captions=[\"Learned Bayesian Network\", \"Markov blanket of 'Survived'\"])"
   ]
  },
  {
   "cell_type": "markdown",
   "metadata": {},
   "source": [
    "The Markov Blanket of the `Survived` variable tells us that we only need to observe all other variables except for `decade` in order to predict `Survived`. Not really usefull here but on larger Bayesian Networks it can save you a lot of time and CPU.\n",
    "\n",
    "So how to use this BayesNet we have learned as a classifier ? We simply infer the posterior the `Survive` variable given the set of evidence we are given, and if the passanger odds of survival are above some value he will be taged as a survivor.\n",
    "\n",
    "To compute the best value given the BayesNet and our training database, we can use the `showROC()` function."
   ]
  },
  {
   "cell_type": "code",
   "execution_count": 20,
   "metadata": {
    "scrolled": true
   },
   "outputs": [
    {
     "name": "stdout",
     "output_type": "stream",
     "text": [
      " res/titanic/post_train.csv : [ ############################################## ] 100%"
     ]
    },
    {
     "ename": "NotFound",
     "evalue": "[pyAgrum] Object not found: The following property does not exists: name",
     "output_type": "error",
     "traceback": [
      "\u001b[0;31m---------------------------------------------------------------------------\u001b[0m",
      "\u001b[0;31mNotFound\u001b[0m                                  Traceback (most recent call last)",
      "\u001b[0;32m<ipython-input-20-a897d2ee350d>\u001b[0m in \u001b[0;36m<module>\u001b[0;34m()\u001b[0m\n\u001b[1;32m      1\u001b[0m \u001b[0;32mfrom\u001b[0m \u001b[0mpyAgrum\u001b[0m\u001b[0;34m.\u001b[0m\u001b[0mlib\u001b[0m\u001b[0;34m.\u001b[0m\u001b[0mbn2roc\u001b[0m \u001b[0;32mimport\u001b[0m \u001b[0mshowROC\u001b[0m\u001b[0;34m\u001b[0m\u001b[0m\n\u001b[1;32m      2\u001b[0m \u001b[0;34m\u001b[0m\u001b[0m\n\u001b[0;32m----> 3\u001b[0;31m \u001b[0mshowROC\u001b[0m\u001b[0;34m(\u001b[0m\u001b[0mbn\u001b[0m\u001b[0;34m,\u001b[0m \u001b[0mos\u001b[0m\u001b[0;34m.\u001b[0m\u001b[0mpath\u001b[0m\u001b[0;34m.\u001b[0m\u001b[0mjoin\u001b[0m\u001b[0;34m(\u001b[0m\u001b[0;34m'res'\u001b[0m\u001b[0;34m,\u001b[0m \u001b[0;34m'titanic'\u001b[0m\u001b[0;34m,\u001b[0m \u001b[0;34m'post_train.csv'\u001b[0m\u001b[0;34m)\u001b[0m\u001b[0;34m,\u001b[0m\u001b[0;34m'Survived'\u001b[0m\u001b[0;34m,\u001b[0m\u001b[0;34m\"1\"\u001b[0m\u001b[0;34m,\u001b[0m\u001b[0;32mTrue\u001b[0m\u001b[0;34m,\u001b[0m\u001b[0;32mTrue\u001b[0m\u001b[0;34m)\u001b[0m\u001b[0;34m\u001b[0m\u001b[0m\n\u001b[0m",
      "\u001b[0;32m~/tmp/agrum/repo/aGrUM/wrappers/pyAgrum/notebooks/venv/lib/python3.6/site-packages/pyAgrum/lib/bn2roc.py\u001b[0m in \u001b[0;36mshowROC\u001b[0;34m(bn, csv_name, variable, label, visible, show_fig, with_labels)\u001b[0m\n\u001b[1;32m    399\u001b[0m \u001b[0;34m\u001b[0m\u001b[0m\n\u001b[1;32m    400\u001b[0m   \u001b[0;32mtry\u001b[0m\u001b[0;34m:\u001b[0m\u001b[0;34m\u001b[0m\u001b[0m\n\u001b[0;32m--> 401\u001b[0;31m     \u001b[0mshortname\u001b[0m \u001b[0;34m=\u001b[0m \u001b[0mos\u001b[0m\u001b[0;34m.\u001b[0m\u001b[0mpath\u001b[0m\u001b[0;34m.\u001b[0m\u001b[0mbasename\u001b[0m\u001b[0;34m(\u001b[0m\u001b[0mbn\u001b[0m\u001b[0;34m.\u001b[0m\u001b[0mproperty\u001b[0m\u001b[0;34m(\u001b[0m\u001b[0;34m\"name\"\u001b[0m\u001b[0;34m)\u001b[0m\u001b[0;34m)\u001b[0m\u001b[0;34m\u001b[0m\u001b[0m\n\u001b[0m\u001b[1;32m    402\u001b[0m   \u001b[0;32mexcept\u001b[0m \u001b[0mIndexError\u001b[0m\u001b[0;34m:\u001b[0m\u001b[0;34m\u001b[0m\u001b[0m\n\u001b[1;32m    403\u001b[0m     \u001b[0mshortname\u001b[0m \u001b[0;34m=\u001b[0m \u001b[0;34m\"unnamed\"\u001b[0m\u001b[0;34m\u001b[0m\u001b[0m\n",
      "\u001b[0;32m~/tmp/agrum/repo/aGrUM/wrappers/pyAgrum/notebooks/venv/lib/python3.6/site-packages/pyAgrum/pyAgrum.py\u001b[0m in \u001b[0;36mproperty\u001b[0;34m(self, name)\u001b[0m\n\u001b[1;32m   7107\u001b[0m \u001b[0;34m\u001b[0m\u001b[0m\n\u001b[1;32m   7108\u001b[0m         \"\"\"\n\u001b[0;32m-> 7109\u001b[0;31m         \u001b[0;32mreturn\u001b[0m \u001b[0m_pyAgrum\u001b[0m\u001b[0;34m.\u001b[0m\u001b[0mDAGmodel_property\u001b[0m\u001b[0;34m(\u001b[0m\u001b[0mself\u001b[0m\u001b[0;34m,\u001b[0m \u001b[0mname\u001b[0m\u001b[0;34m)\u001b[0m\u001b[0;34m\u001b[0m\u001b[0m\n\u001b[0m\u001b[1;32m   7110\u001b[0m \u001b[0;34m\u001b[0m\u001b[0m\n\u001b[1;32m   7111\u001b[0m \u001b[0;34m\u001b[0m\u001b[0m\n",
      "\u001b[0;31mNotFound\u001b[0m: [pyAgrum] Object not found: The following property does not exists: name"
     ]
    }
   ],
   "source": [
    "from pyAgrum.lib.bn2roc import showROC\n",
    "\n",
    "showROC(bn, os.path.join('res', 'titanic', 'post_train.csv'),'Survived',\"1\",True,True)"
   ]
  },
  {
   "cell_type": "code",
   "execution_count": 21,
   "metadata": {},
   "outputs": [
    {
     "data": {
      "text/plain": [
       "True Positive     0.588517\n",
       "True Negative     0.351675\n",
       "False Negative    0.047847\n",
       "False Positive    0.011962\n",
       "dtype: float64"
      ]
     },
     "execution_count": 21,
     "metadata": {},
     "output_type": "execute_result"
    }
   ],
   "source": [
    "vars = [ var for var in ptestdf.keys() if var != \"Survived\" ]\n",
    "ie=gum.LazyPropagation(bn)\n",
    "testdf=pandas.read_csv(os.path.join('res', 'titanic', 'post_test.csv'))\n",
    "\n",
    "def init_belief():\n",
    "    # Initialize evidence\n",
    "    for var in vars:\n",
    "        ie.addEvidence(var, 0)\n",
    "\n",
    "def update_beliefs(row):\n",
    "    # Update beliefs from a given row less the Survived variable\n",
    "    for var in vars:\n",
    "        label = str(row.to_dict()[var])\n",
    "        idx = bn.variable(var).index(str(row.to_dict()[var]))\n",
    "        ie.chgEvidence(var, idx)\n",
    "    ie.makeInference()\n",
    "    \n",
    "def is_well_predicted(row):\n",
    "    update_beliefs(row)\n",
    "    marginal = ie.posterior('Survived')\n",
    "    outcome = row.to_dict()['Survived']\n",
    "    if outcome == 0: # Did not survived\n",
    "        if marginal.toarray()[1] < 0.46576681:\n",
    "            return \"True Positive\"\n",
    "        else:\n",
    "            return \"False Negative\"\n",
    "    else: # Survived\n",
    "        if marginal.toarray()[1] >= 0.46576681:\n",
    "            return \"True Negative\"\n",
    "        else:\n",
    "            return \"False Positive\"\n",
    "\n",
    "init_belief()\n",
    "ie.addTarget('Survived')\n",
    "\n",
    "result = testdf.apply(is_well_predicted, axis=1)\n",
    "\n",
    "result.value_counts(True)"
   ]
  },
  {
   "cell_type": "code",
   "execution_count": 22,
   "metadata": {},
   "outputs": [
    {
     "name": "stdout",
     "output_type": "stream",
     "text": [
      "94.02% good predictions\n"
     ]
    },
    {
     "name": "stderr",
     "output_type": "stream",
     "text": [
      "/home/gonzales/tmp/agrum/repo/aGrUM/wrappers/pyAgrum/notebooks/venv/lib/python3.6/site-packages/ipykernel_launcher.py:1: FutureWarning: 'select' is deprecated and will be removed in a future release. You can use .loc[labels.map(crit)] as a replacement\n",
      "  \"\"\"Entry point for launching an IPython kernel.\n"
     ]
    }
   ],
   "source": [
    "positives=result.select(lambda idx: result[idx].startswith(\"True\")).count()\n",
    "\n",
    "total=result.count()\n",
    "\n",
    "print(\"{0:.2f}% good predictions\".format(positives/total*100))"
   ]
  },
  {
   "cell_type": "code",
   "execution_count": null,
   "metadata": {
    "collapsed": true
   },
   "outputs": [],
   "source": []
  }
 ],
 "metadata": {
  "hide_input": false,
  "kernelspec": {
   "display_name": "Python 3",
   "language": "python",
   "name": "python3"
  },
  "language_info": {
   "codemirror_mode": {
    "name": "ipython",
    "version": 3
   },
   "file_extension": ".py",
   "mimetype": "text/x-python",
   "name": "python",
   "nbconvert_exporter": "python",
   "pygments_lexer": "ipython3",
   "version": "3.6.3"
  }
 },
 "nbformat": 4,
 "nbformat_minor": 2
}
