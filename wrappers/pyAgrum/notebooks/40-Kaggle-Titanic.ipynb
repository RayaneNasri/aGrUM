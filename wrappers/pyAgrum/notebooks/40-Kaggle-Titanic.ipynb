{
 "cells": [
  {
   "cell_type": "markdown",
   "metadata": {},
   "source": [
    "# Titanic: Machine Learning from Disaster\n",
    "\n",
    "This notebook is an introduction to the [Kaggle titanic challenge](https://www.kaggle.com/c/titanic). The goal here is not to produce the best possible classifier, at least not yet, but to show how pyAgrum and Bayesian Networks can be used to easily and quickly explore and understand data.\n",
    "\n",
    "To undestand this notebook, basic knowledge of Bayesian Networks is required. If you are looking for an introduction to pyAgrum, check [this notebook](http://www-desir.lip6.fr/~phw/aGrUM/docs/last/notebooks/01-tutorial.ipynb.html).\n",
    "\n",
    "The notebook is split in four sections:\n",
    "1. Pretreatment: where we mangle with the data.\n",
    "2. Pre-learning: where we define our learning parameters.\n",
    "3. Learning: where we learn a Bayesian Network.\n",
    "4. Classification: where we use the Bayesian Network as a class ifier.\n",
    "\n",
    "Before we start, some notes about aGrUM and pyAgrum. \n",
    "\n",
    "**aGrUM** is a C++ library designed for easily building applications using graphical models such as Bayesian networks, influence diagrams, decision trees or Markov decision processes. \n",
    "\n",
    "**pyAgrum** is a Python wrapper for the C++ aGrUM library. It provides a high-level interface to the part of aGrUM allowing to create, handle and make computations into Bayesian Networks. The module mainly is an application of the [SWIG](http://www.swig.org/) interface generator. Custom-written code is added to simplify and extend the aGrUM API.\n",
    "\n",
    "Both projects are [open source](https://gitlab.com/agrumery/aGrUM/blob/master/LICENSE) and can be freely downloaded from [aGrUM's gitlab repository](https://gitlab.com/agrumery/aGrUM) or installed using [pip or anaconda](http://agrum.gitlab.io/pages/pyagrum.html).\n",
    "\n",
    "If you have questions, remarks or suggestions, feel free to ask us on [info@agrum.org](mailto:info@agrum.org)."
   ]
  },
  {
   "cell_type": "markdown",
   "metadata": {},
   "source": [
    "## Pretreatment\n",
    "We will be using [pandas](http://pandas.pydata.org/) to setup the learning data to fit with pyAgrum requirements."
   ]
  },
  {
   "cell_type": "code",
   "execution_count": 1,
   "metadata": {},
   "outputs": [],
   "source": [
    "import pandas\n",
    "import os"
   ]
  },
  {
   "cell_type": "code",
   "execution_count": 2,
   "metadata": {},
   "outputs": [],
   "source": [
    "traindf=pandas.read_csv(os.path.join('res', 'titanic', 'train.csv'))\n",
    "\n",
    "testdf=pandas.merge(pandas.read_csv(os.path.join('res', 'titanic', 'test.csv')),\n",
    "                    pandas.read_csv(os.path.join('res', 'titanic', 'gender_submission.csv')),\n",
    "                    on=\"PassengerId\")"
   ]
  },
  {
   "cell_type": "markdown",
   "metadata": {},
   "source": [
    "This merges both the test base and their respective classes, i.e. if a passagen has survived or not."
   ]
  },
  {
   "cell_type": "code",
   "execution_count": 3,
   "metadata": {},
   "outputs": [
    {
     "data": {
      "text/plain": [
       "PassengerId    66231.000000\n",
       "Survived           0.236772\n",
       "Pclass             0.699015\n",
       "Age              211.019125\n",
       "SibSp              1.216043\n",
       "Parch              0.649728\n",
       "Fare            2469.436846\n",
       "dtype: float64"
      ]
     },
     "execution_count": 3,
     "metadata": {},
     "output_type": "execute_result"
    }
   ],
   "source": [
    "traindf.var()"
   ]
  },
  {
   "cell_type": "code",
   "execution_count": 4,
   "metadata": {},
   "outputs": [
    {
     "name": "stdout",
     "output_type": "stream",
     "text": [
      "PassengerId: 891\n",
      "Survived: 2\n",
      "Pclass: 3\n",
      "Name: 891\n",
      "Sex: 2\n",
      "Age: 89\n",
      "SibSp: 7\n",
      "Parch: 7\n",
      "Ticket: 681\n",
      "Fare: 248\n",
      "Cabin: 148\n",
      "Embarked: 4\n"
     ]
    }
   ],
   "source": [
    "for k in traindf.keys():\n",
    "    print('{0}: {1}'.format(k, len(traindf[k].unique())))"
   ]
  },
  {
   "cell_type": "markdown",
   "metadata": {},
   "source": [
    "Looking at the number of unique values for each variable necessary since Bayesian Networks are discrete models. We will want to reduce the domain size of some discrete varaibles (like age) and discretize continuous variables (like Fare).\n",
    "\n",
    "For starters you can filter out variables with a large number of values. Choosing a large number will have an impact on performances, which boils down to how much CPU and RAM you have at your disposal. Here, we choose to filter out any variable with more than 10 different outcomes."
   ]
  },
  {
   "cell_type": "code",
   "execution_count": 5,
   "metadata": {},
   "outputs": [
    {
     "name": "stdout",
     "output_type": "stream",
     "text": [
      "Survived\n",
      "Pclass\n",
      "Sex\n",
      "SibSp\n",
      "Parch\n",
      "Embarked\n"
     ]
    }
   ],
   "source": [
    "for k in traindf.keys():\n",
    "    if len(traindf[k].unique())<=15:\n",
    "        print(k)"
   ]
  },
  {
   "cell_type": "markdown",
   "metadata": {},
   "source": [
    "This leaves us with 6 variables, not much but still enough to learn a Bayesian Network. Will just add one more variable by reducing the cardinality of the Age variable."
   ]
  },
  {
   "cell_type": "code",
   "execution_count": 6,
   "metadata": {},
   "outputs": [
    {
     "name": "stdout",
     "output_type": "stream",
     "text": [
      "decade: 10\n"
     ]
    }
   ],
   "source": [
    "import math\n",
    "\n",
    "def forAge(row):\n",
    "    if row['Age'] < 10:\n",
    "        return '<10'\n",
    "    elif math.isnan(row['Age']):\n",
    "        return \"nan\"\n",
    "    else:\n",
    "        dec = str(int(row['Age']/10))\n",
    "        return \"{0}0's\".format(dec)\n",
    "\n",
    "decade=traindf.apply(forAge, axis=1)\n",
    "print(\"decade: {1}\".format(k, len(decade.unique())))"
   ]
  },
  {
   "cell_type": "markdown",
   "metadata": {},
   "source": [
    "When pretreating data, you will want to wrap your changes inside a function, this will help you keep track of your changes and easily compare them."
   ]
  },
  {
   "cell_type": "code",
   "execution_count": 7,
   "metadata": {},
   "outputs": [],
   "source": [
    "import math\n",
    "def pretreat(df):\n",
    "    # create a df with discrete variables (len<10)\n",
    "    lvd=[k for k in df.keys() if len(df[k].unique())<=15]\n",
    "    res=df[lvd].copy()\n",
    "    \n",
    "    forAge = lambda row: \"{0}0th\".format(int(row['Age']/10)) if not math.isnan(row['Age']) else str(\"nan\")\n",
    "    res['decade']=df.apply(forAge, axis=1)\n",
    "   \n",
    "    return res"
   ]
  },
  {
   "cell_type": "code",
   "execution_count": 8,
   "metadata": {},
   "outputs": [],
   "source": [
    "ptraindf=pretreat(traindf)\n",
    "ptestdf=pretreat(testdf)"
   ]
  },
  {
   "cell_type": "markdown",
   "metadata": {},
   "source": [
    "We will need to save this intermediate learning database, since pyAgrum accepts only files as inputs."
   ]
  },
  {
   "cell_type": "code",
   "execution_count": 9,
   "metadata": {},
   "outputs": [],
   "source": [
    "ptraindf.to_csv(os.path.join('res', 'titanic', 'post_train.csv'), index=False)\n",
    "ptestdf.to_csv(os.path.join('res', 'titanic', 'post_test.csv'), index=False)"
   ]
  },
  {
   "cell_type": "markdown",
   "metadata": {},
   "source": [
    "## Pre-learning\n",
    "Now we have two data files: `data/post_train.csv` and `data/post_test.csv`. The first one is our pretreated learning database, the second our pretreated test base.\n",
    "\n",
    "Before learning a Bayesian Network, we first need to create a template. This is not mandatory, however it is sometimes usefull since not all varaibles values are present in the learning base (in this example the number of relatives).\n",
    "\n",
    "If during the learning step, the algorithm encounters an unknown value it will raise an error. This would be an issue if we wanted to automitize our classifier but, we will directly use values working with the test and learning base. This is not ideal but the objective here it to explore the data fast, not thoroughly."
   ]
  },
  {
   "cell_type": "code",
   "execution_count": 10,
   "metadata": {},
   "outputs": [],
   "source": [
    "import pyAgrum as gum\n",
    "import pyAgrum.lib.notebook as gnb"
   ]
  },
  {
   "cell_type": "markdown",
   "metadata": {},
   "source": [
    "To help creating de the template Bayesian Network that we will use to learn our classifier, let us firt recall all the variables wa have at our disposal."
   ]
  },
  {
   "cell_type": "code",
   "execution_count": 11,
   "metadata": {},
   "outputs": [
    {
     "name": "stdout",
     "output_type": "stream",
     "text": [
      "Survived : [0 1]\n",
      "Pclass : [3 1 2]\n",
      "Sex : ['male' 'female']\n",
      "SibSp : [1 0 3 4 2 5 8]\n",
      "Parch : [0 1 2 5 3 4 6]\n",
      "Embarked : ['S' 'C' 'Q' nan]\n",
      "decade : ['20th' '30th' nan '50th' '00th' '10th' '40th' '60th' '70th' '80th']\n"
     ]
    }
   ],
   "source": [
    "df = pandas.read_csv(os.path.join('res', 'titanic', 'post_train.csv'))\n",
    "for k in df.keys():\n",
    "    print(\"{} : {}\".format(k, df[k].unique()))"
   ]
  },
  {
   "cell_type": "markdown",
   "metadata": {},
   "source": [
    "From here, creating the BayesNet is straitforward: for each variable we either use the `RangeVariable` class or the `LabelizedVariable`.\n",
    "\n",
    "The `RangeVariable` class creates a discrete random variable over a range. With the `LabelizedVariable` you will need to add each label ony by one. Note however that you can pass an argument to create as much labels starting from `0`."
   ]
  },
  {
   "cell_type": "code",
   "execution_count": 12,
   "metadata": {},
   "outputs": [
    {
     "data": {
      "text/html": [
       "<svg height=\"20pt\" viewBox=\"0.00 0.00 288.00 20.16\" width=\"288pt\" xmlns=\"http://www.w3.org/2000/svg\" xmlns:xlink=\"http://www.w3.org/1999/xlink\">\n",
       "<g class=\"graph\" id=\"graph0\" transform=\"scale(0.458203 0.458203) rotate(0) translate(4 40)\">\n",
       "<title>G</title>\n",
       "<!-- Survived -->\n",
       "<g class=\"node\" id=\"node1\"><title>Survived</title>\n",
       "<g id=\"a_node1\"><a xlink:title=\"(0) Survived\">\n",
       "<ellipse cx=\"43.5461\" cy=\"-18\" fill=\"#444444\" rx=\"43.5923\" ry=\"18\" stroke=\"black\"/>\n",
       "<text fill=\"#ffffff\" font-family=\"Times,serif\" font-size=\"14.00\" text-anchor=\"middle\" x=\"43.5461\" y=\"-14.3\">Survived</text>\n",
       "</a>\n",
       "</g>\n",
       "</g>\n",
       "<!-- Pclass -->\n",
       "<g class=\"node\" id=\"node2\"><title>Pclass</title>\n",
       "<g id=\"a_node2\"><a xlink:title=\"(1) Pclass\">\n",
       "<ellipse cx=\"138.546\" cy=\"-18\" fill=\"#444444\" rx=\"33.5952\" ry=\"18\" stroke=\"black\"/>\n",
       "<text fill=\"#ffffff\" font-family=\"Times,serif\" font-size=\"14.00\" text-anchor=\"middle\" x=\"138.546\" y=\"-14.3\">Pclass</text>\n",
       "</a>\n",
       "</g>\n",
       "</g>\n",
       "<!-- Sex -->\n",
       "<g class=\"node\" id=\"node3\"><title>Sex</title>\n",
       "<g id=\"a_node3\"><a xlink:title=\"(2) Sex\">\n",
       "<ellipse cx=\"217.546\" cy=\"-18\" fill=\"#444444\" rx=\"27\" ry=\"18\" stroke=\"black\"/>\n",
       "<text fill=\"#ffffff\" font-family=\"Times,serif\" font-size=\"14.00\" text-anchor=\"middle\" x=\"217.546\" y=\"-14.3\">Sex</text>\n",
       "</a>\n",
       "</g>\n",
       "</g>\n",
       "<!-- SibSp -->\n",
       "<g class=\"node\" id=\"node4\"><title>SibSp</title>\n",
       "<g id=\"a_node4\"><a xlink:title=\"(3) SibSp\">\n",
       "<ellipse cx=\"294.546\" cy=\"-18\" fill=\"#444444\" rx=\"31.6951\" ry=\"18\" stroke=\"black\"/>\n",
       "<text fill=\"#ffffff\" font-family=\"Times,serif\" font-size=\"14.00\" text-anchor=\"middle\" x=\"294.546\" y=\"-14.3\">SibSp</text>\n",
       "</a>\n",
       "</g>\n",
       "</g>\n",
       "<!-- Parch -->\n",
       "<g class=\"node\" id=\"node5\"><title>Parch</title>\n",
       "<g id=\"a_node5\"><a xlink:title=\"(4) Parch\">\n",
       "<ellipse cx=\"376.546\" cy=\"-18\" fill=\"#444444\" rx=\"31.6951\" ry=\"18\" stroke=\"black\"/>\n",
       "<text fill=\"#ffffff\" font-family=\"Times,serif\" font-size=\"14.00\" text-anchor=\"middle\" x=\"376.546\" y=\"-14.3\">Parch</text>\n",
       "</a>\n",
       "</g>\n",
       "</g>\n",
       "<!-- Embarked -->\n",
       "<g class=\"node\" id=\"node6\"><title>Embarked</title>\n",
       "<g id=\"a_node6\"><a xlink:title=\"(5) Embarked\">\n",
       "<ellipse cx=\"475.546\" cy=\"-18\" fill=\"#444444\" rx=\"49.2915\" ry=\"18\" stroke=\"black\"/>\n",
       "<text fill=\"#ffffff\" font-family=\"Times,serif\" font-size=\"14.00\" text-anchor=\"middle\" x=\"475.546\" y=\"-14.3\">Embarked</text>\n",
       "</a>\n",
       "</g>\n",
       "</g>\n",
       "<!-- Decade -->\n",
       "<g class=\"node\" id=\"node7\"><title>Decade</title>\n",
       "<g id=\"a_node7\"><a xlink:title=\"(6) Decade\">\n",
       "<ellipse cx=\"581.546\" cy=\"-18\" fill=\"#444444\" rx=\"38.9931\" ry=\"18\" stroke=\"black\"/>\n",
       "<text fill=\"#ffffff\" font-family=\"Times,serif\" font-size=\"14.00\" text-anchor=\"middle\" x=\"581.546\" y=\"-14.3\">Decade</text>\n",
       "</a>\n",
       "</g>\n",
       "</g>\n",
       "</g>\n",
       "</svg>"
      ],
      "text/plain": [
       "<IPython.core.display.HTML object>"
      ]
     },
     "metadata": {},
     "output_type": "display_data"
    }
   ],
   "source": [
    "template=gum.BayesNet()\n",
    "template.add(gum.RangeVariable(\"Survived\", \"Survived\",0,1))\n",
    "template.add(gum.RangeVariable(\"Pclass\", \"Pclass\",1,3))\n",
    "template.add(gum.LabelizedVariable(\"Sex\", \"Sex\",0).addLabel(\"female\").addLabel(\"male\"))\n",
    "template.add(gum.RangeVariable(\"SibSp\", \"SibSp\",0,8))\n",
    "template.add(gum.RangeVariable(\"Parch\", \"Parch\",0,9))\n",
    "template.add(gum.LabelizedVariable(\"Embarked\", \"Embarked\",0).addLabel('').addLabel('C').addLabel('Q').addLabel('S'))\n",
    "template.add(gum.LabelizedVariable(\"Decade\", \"Calculated decade\", 10).addLabel(''))\n",
    "gnb.showBN(template)"
   ]
  },
  {
   "cell_type": "markdown",
   "metadata": {},
   "source": [
    "You can also let the learning algorithm create the BayesNet random variables. However please be aware that the algorithm will no be able to handle values absent from the learning database."
   ]
  },
  {
   "cell_type": "markdown",
   "metadata": {},
   "source": [
    "## Learning\n",
    "\n",
    "We can now learn our first Bayesian Network. As you will see, this is really easy."
   ]
  },
  {
   "cell_type": "code",
   "execution_count": 13,
   "metadata": {
    "scrolled": false
   },
   "outputs": [
    {
     "data": {
      "text/html": [
       "<svg height=\"288pt\" viewBox=\"0.00 0.00 150.88 288.00\" width=\"151pt\" xmlns=\"http://www.w3.org/2000/svg\" xmlns:xlink=\"http://www.w3.org/1999/xlink\">\n",
       "<g class=\"graph\" id=\"graph0\" transform=\"scale(0.712871 0.712871) rotate(0) translate(4 400)\">\n",
       "<title>G</title>\n",
       "<!-- Survived -->\n",
       "<g class=\"node\" id=\"node1\"><title>Survived</title>\n",
       "<g id=\"a_node1\"><a xlink:title=\"(0) Survived\">\n",
       "<ellipse cx=\"79.797\" cy=\"-162\" fill=\"#444444\" rx=\"43.5923\" ry=\"18\" stroke=\"black\"/>\n",
       "<text fill=\"#ffffff\" font-family=\"Times,serif\" font-size=\"14.00\" text-anchor=\"middle\" x=\"79.797\" y=\"-158.3\">Survived</text>\n",
       "</a>\n",
       "</g>\n",
       "</g>\n",
       "<!-- Pclass -->\n",
       "<g class=\"node\" id=\"node2\"><title>Pclass</title>\n",
       "<g id=\"a_node2\"><a xlink:title=\"(1) Pclass\">\n",
       "<ellipse cx=\"33.797\" cy=\"-18\" fill=\"#444444\" rx=\"33.5952\" ry=\"18\" stroke=\"black\"/>\n",
       "<text fill=\"#ffffff\" font-family=\"Times,serif\" font-size=\"14.00\" text-anchor=\"middle\" x=\"33.797\" y=\"-14.3\">Pclass</text>\n",
       "</a>\n",
       "</g>\n",
       "</g>\n",
       "<!-- Survived&#45;&gt;Pclass -->\n",
       "<g class=\"edge\" id=\"edge1\"><title>Survived-&gt;Pclass</title>\n",
       "<g id=\"a_edge1\"><a xlink:title=\"(0, 1) : \">\n",
       "<path d=\"M53.6271,-147.338C39.2967,-138.292 22.8547,-124.967 14.797,-108 5.25986,-87.9179 11.9472,-63.0237 19.9047,-44.6745\" fill=\"none\" stroke=\"black\"/>\n",
       "<polygon fill=\"black\" points=\"23.1397,-46.0197 24.2314,-35.4813 16.8061,-43.0388 23.1397,-46.0197\" stroke=\"black\"/>\n",
       "</a>\n",
       "</g>\n",
       "</g>\n",
       "<!-- SibSp -->\n",
       "<g class=\"node\" id=\"node4\"><title>SibSp</title>\n",
       "<g id=\"a_node4\"><a xlink:title=\"(3) SibSp\">\n",
       "<ellipse cx=\"171.797\" cy=\"-90\" fill=\"#444444\" rx=\"31.6951\" ry=\"18\" stroke=\"black\"/>\n",
       "<text fill=\"#ffffff\" font-family=\"Times,serif\" font-size=\"14.00\" text-anchor=\"middle\" x=\"171.797\" y=\"-86.3\">SibSp</text>\n",
       "</a>\n",
       "</g>\n",
       "</g>\n",
       "<!-- Survived&#45;&gt;SibSp -->\n",
       "<g class=\"edge\" id=\"edge7\"><title>Survived-&gt;SibSp</title>\n",
       "<g id=\"a_edge7\"><a xlink:title=\"(0, 3) : \">\n",
       "<path d=\"M99.7596,-145.811C113.101,-135.66 130.8,-122.194 145.315,-111.149\" fill=\"none\" stroke=\"black\"/>\n",
       "<polygon fill=\"black\" points=\"147.598,-113.81 153.437,-104.97 143.359,-108.24 147.598,-113.81\" stroke=\"black\"/>\n",
       "</a>\n",
       "</g>\n",
       "</g>\n",
       "<!-- Embarked -->\n",
       "<g class=\"node\" id=\"node6\"><title>Embarked</title>\n",
       "<g id=\"a_node6\"><a xlink:title=\"(5) Embarked\">\n",
       "<ellipse cx=\"72.797\" cy=\"-90\" fill=\"#444444\" rx=\"49.2915\" ry=\"18\" stroke=\"black\"/>\n",
       "<text fill=\"#ffffff\" font-family=\"Times,serif\" font-size=\"14.00\" text-anchor=\"middle\" x=\"72.797\" y=\"-86.3\">Embarked</text>\n",
       "</a>\n",
       "</g>\n",
       "</g>\n",
       "<!-- Survived&#45;&gt;Embarked -->\n",
       "<g class=\"edge\" id=\"edge4\"><title>Survived-&gt;Embarked</title>\n",
       "<g id=\"a_edge4\"><a xlink:title=\"(0, 5) : \">\n",
       "<path d=\"M78.0667,-143.697C77.2953,-135.983 76.3682,-126.712 75.5082,-118.112\" fill=\"none\" stroke=\"black\"/>\n",
       "<polygon fill=\"black\" points=\"78.9852,-117.706 74.5074,-108.104 72.0199,-118.403 78.9852,-117.706\" stroke=\"black\"/>\n",
       "</a>\n",
       "</g>\n",
       "</g>\n",
       "<!-- Sex -->\n",
       "<g class=\"node\" id=\"node3\"><title>Sex</title>\n",
       "<g id=\"a_node3\"><a xlink:title=\"(2) Sex\">\n",
       "<ellipse cx=\"87.797\" cy=\"-234\" fill=\"#444444\" rx=\"27\" ry=\"18\" stroke=\"black\"/>\n",
       "<text fill=\"#ffffff\" font-family=\"Times,serif\" font-size=\"14.00\" text-anchor=\"middle\" x=\"87.797\" y=\"-230.3\">Sex</text>\n",
       "</a>\n",
       "</g>\n",
       "</g>\n",
       "<!-- Sex&#45;&gt;Survived -->\n",
       "<g class=\"edge\" id=\"edge3\"><title>Sex-&gt;Survived</title>\n",
       "<g id=\"a_edge3\"><a xlink:title=\"(2, 0) : \">\n",
       "<path d=\"M85.8195,-215.697C84.9379,-207.983 83.8784,-198.712 82.8956,-190.112\" fill=\"none\" stroke=\"black\"/>\n",
       "<polygon fill=\"black\" points=\"86.3647,-189.642 81.7518,-180.104 79.41,-190.437 86.3647,-189.642\" stroke=\"black\"/>\n",
       "</a>\n",
       "</g>\n",
       "</g>\n",
       "<!-- Parch -->\n",
       "<g class=\"node\" id=\"node5\"><title>Parch</title>\n",
       "<g id=\"a_node5\"><a xlink:title=\"(4) Parch\">\n",
       "<ellipse cx=\"123.797\" cy=\"-306\" fill=\"#444444\" rx=\"31.6951\" ry=\"18\" stroke=\"black\"/>\n",
       "<text fill=\"#ffffff\" font-family=\"Times,serif\" font-size=\"14.00\" text-anchor=\"middle\" x=\"123.797\" y=\"-302.3\">Parch</text>\n",
       "</a>\n",
       "</g>\n",
       "</g>\n",
       "<!-- Parch&#45;&gt;Sex -->\n",
       "<g class=\"edge\" id=\"edge8\"><title>Parch-&gt;Sex</title>\n",
       "<g id=\"a_edge8\"><a xlink:title=\"(4, 2) : \">\n",
       "<path d=\"M115.266,-288.411C110.961,-280.042 105.648,-269.71 100.844,-260.37\" fill=\"none\" stroke=\"black\"/>\n",
       "<polygon fill=\"black\" points=\"103.953,-258.762 96.2673,-251.47 97.7283,-261.964 103.953,-258.762\" stroke=\"black\"/>\n",
       "</a>\n",
       "</g>\n",
       "</g>\n",
       "<!-- Parch&#45;&gt;SibSp -->\n",
       "<g class=\"edge\" id=\"edge5\"><title>Parch-&gt;SibSp</title>\n",
       "<g id=\"a_edge5\"><a xlink:title=\"(4, 3) : \">\n",
       "<path d=\"M127.644,-287.849C135.985,-250.662 155.788,-162.374 165.792,-117.772\" fill=\"none\" stroke=\"black\"/>\n",
       "<polygon fill=\"black\" points=\"169.225,-118.459 167.998,-107.935 162.395,-116.927 169.225,-118.459\" stroke=\"black\"/>\n",
       "</a>\n",
       "</g>\n",
       "</g>\n",
       "<!-- Embarked&#45;&gt;Pclass -->\n",
       "<g class=\"edge\" id=\"edge6\"><title>Embarked-&gt;Pclass</title>\n",
       "<g id=\"a_edge6\"><a xlink:title=\"(5, 1) : \">\n",
       "<path d=\"M63.3562,-72.055C58.7574,-63.8006 53.1306,-53.7014 48.0252,-44.5378\" fill=\"none\" stroke=\"black\"/>\n",
       "<polygon fill=\"black\" points=\"51.0754,-42.8212 43.1509,-35.789 44.9605,-46.2282 51.0754,-42.8212\" stroke=\"black\"/>\n",
       "</a>\n",
       "</g>\n",
       "</g>\n",
       "<!-- decade -->\n",
       "<g class=\"node\" id=\"node7\"><title>decade</title>\n",
       "<g id=\"a_node7\"><a xlink:title=\"(6) decade\">\n",
       "<ellipse cx=\"123.797\" cy=\"-378\" fill=\"#444444\" rx=\"37.8943\" ry=\"18\" stroke=\"black\"/>\n",
       "<text fill=\"#ffffff\" font-family=\"Times,serif\" font-size=\"14.00\" text-anchor=\"middle\" x=\"123.797\" y=\"-374.3\">decade</text>\n",
       "</a>\n",
       "</g>\n",
       "</g>\n",
       "<!-- decade&#45;&gt;Parch -->\n",
       "<g class=\"edge\" id=\"edge2\"><title>decade-&gt;Parch</title>\n",
       "<g id=\"a_edge2\"><a xlink:title=\"(6, 4) : \">\n",
       "<path d=\"M123.797,-359.697C123.797,-351.983 123.797,-342.712 123.797,-334.112\" fill=\"none\" stroke=\"black\"/>\n",
       "<polygon fill=\"black\" points=\"127.297,-334.104 123.797,-324.104 120.297,-334.104 127.297,-334.104\" stroke=\"black\"/>\n",
       "</a>\n",
       "</g>\n",
       "</g>\n",
       "</g>\n",
       "</svg>"
      ],
      "text/plain": [
       "(gum::BayesNet<double>@0x22d9130) BN{nodes: 7, arcs: 8, domainSize: 43200, parameters: 346, compression ratio: 99% }"
      ]
     },
     "execution_count": 13,
     "metadata": {},
     "output_type": "execute_result"
    }
   ],
   "source": [
    "learner = gum.BNLearner(os.path.join('res', 'titanic', 'post_train.csv'), template)\n",
    "bn = learner.learnBN()\n",
    "bn"
   ]
  },
  {
   "cell_type": "markdown",
   "metadata": {},
   "source": [
    "In a notebook, a Bayesian Network will automatically be shown graphically, you can also use the helper function `gnb.showBN(bn)`."
   ]
  },
  {
   "cell_type": "markdown",
   "metadata": {},
   "source": [
    "## Exploring the data\n",
    "Now that we have a BayesNet, we can start looking how the variables corelate with each other. pyAgum offer the perfect tool for that: the information graph."
   ]
  },
  {
   "cell_type": "code",
   "execution_count": 14,
   "metadata": {},
   "outputs": [
    {
     "data": {
      "text/html": [
       "<div align='center'><svg height=\"404pt\" viewBox=\"0.00 0.00 211.64 404.00\" width=\"212pt\" xmlns=\"http://www.w3.org/2000/svg\" xmlns:xlink=\"http://www.w3.org/1999/xlink\">\n",
       "<g class=\"graph\" id=\"graph0\" transform=\"scale(1 1) rotate(0) translate(4 400)\">\n",
       "<title>G</title>\n",
       "<!-- Survived -->\n",
       "<g class=\"node\" id=\"node1\"><title>Survived</title>\n",
       "<g id=\"a_node1\"><a xlink:title=\"(0) Survived : 0.96080\">\n",
       "<ellipse cx=\"79.797\" cy=\"-162\" fill=\"#4e0305\" rx=\"43.5923\" ry=\"18\" stroke=\"black\"/>\n",
       "<text fill=\"#ffffff\" font-family=\"Times,serif\" font-size=\"14.00\" text-anchor=\"middle\" x=\"79.797\" y=\"-158.3\">Survived</text>\n",
       "</a>\n",
       "</g>\n",
       "</g>\n",
       "<!-- Pclass -->\n",
       "<g class=\"node\" id=\"node2\"><title>Pclass</title>\n",
       "<g id=\"a_node2\"><a xlink:title=\"(1) Pclass : 1.43964\">\n",
       "<ellipse cx=\"33.797\" cy=\"-18\" fill=\"#622a47\" rx=\"33.5952\" ry=\"18\" stroke=\"black\"/>\n",
       "<text fill=\"#ffffff\" font-family=\"Times,serif\" font-size=\"14.00\" text-anchor=\"middle\" x=\"33.797\" y=\"-14.3\">Pclass</text>\n",
       "</a>\n",
       "</g>\n",
       "</g>\n",
       "<!-- Survived&#45;&gt;Pclass -->\n",
       "<g class=\"edge\" id=\"edge1\"><title>Survived-&gt;Pclass</title>\n",
       "<g id=\"a_edge1\"><a xlink:title=\"(0, 1) : 0.08367924601191316\">\n",
       "<path d=\"M53.6271,-147.338C39.2967,-138.292 22.8547,-124.967 14.797,-108 5.25986,-87.9179 11.9472,-63.0237 19.9047,-44.6745\" fill=\"none\" stroke=\"black\" stroke-width=\"1.65325\"/>\n",
       "<polygon fill=\"black\" points=\"23.1397,-46.0197 24.2314,-35.4813 16.8061,-43.0388 23.1397,-46.0197\" stroke=\"black\" stroke-width=\"1.65325\"/>\n",
       "</a>\n",
       "</g>\n",
       "</g>\n",
       "<!-- SibSp -->\n",
       "<g class=\"node\" id=\"node4\"><title>SibSp</title>\n",
       "<g id=\"a_node4\"><a xlink:title=\"(3) SibSp : 1.36568\">\n",
       "<ellipse cx=\"171.797\" cy=\"-90\" fill=\"#5f243d\" rx=\"31.6951\" ry=\"18\" stroke=\"black\"/>\n",
       "<text fill=\"#ffffff\" font-family=\"Times,serif\" font-size=\"14.00\" text-anchor=\"middle\" x=\"171.797\" y=\"-86.3\">SibSp</text>\n",
       "</a>\n",
       "</g>\n",
       "</g>\n",
       "<!-- Survived&#45;&gt;SibSp -->\n",
       "<g class=\"edge\" id=\"edge7\"><title>Survived-&gt;SibSp</title>\n",
       "<g id=\"a_edge7\"><a xlink:title=\"(0, 3) : 0.029468123609304054\">\n",
       "<path d=\"M99.7596,-145.811C113.101,-135.66 130.8,-122.194 145.315,-111.149\" fill=\"none\" stroke=\"black\" stroke-width=\"0.253358\"/>\n",
       "<polygon fill=\"black\" points=\"147.598,-113.81 153.437,-104.97 143.359,-108.24 147.598,-113.81\" stroke=\"black\" stroke-width=\"0.253358\"/>\n",
       "</a>\n",
       "</g>\n",
       "</g>\n",
       "<!-- Embarked -->\n",
       "<g class=\"node\" id=\"node6\"><title>Embarked</title>\n",
       "<g id=\"a_node6\"><a xlink:title=\"(5) Embarked : 1.12038\">\n",
       "<ellipse cx=\"72.797\" cy=\"-90\" fill=\"#54101b\" rx=\"49.2915\" ry=\"18\" stroke=\"black\"/>\n",
       "<text fill=\"#ffffff\" font-family=\"Times,serif\" font-size=\"14.00\" text-anchor=\"middle\" x=\"72.797\" y=\"-86.3\">Embarked</text>\n",
       "</a>\n",
       "</g>\n",
       "</g>\n",
       "<!-- Survived&#45;&gt;Embarked -->\n",
       "<g class=\"edge\" id=\"edge4\"><title>Survived-&gt;Embarked</title>\n",
       "<g id=\"a_edge4\"><a xlink:title=\"(0, 5) : 0.023529301398958508\">\n",
       "<path d=\"M78.0667,-143.697C77.2953,-135.983 76.3682,-126.712 75.5082,-118.112\" fill=\"none\" stroke=\"black\" stroke-width=\"0.1\"/>\n",
       "<polygon fill=\"black\" points=\"78.9852,-117.706 74.5074,-108.104 72.0199,-118.403 78.9852,-117.706\" stroke=\"black\" stroke-width=\"0.1\"/>\n",
       "</a>\n",
       "</g>\n",
       "</g>\n",
       "<!-- Sex -->\n",
       "<g class=\"node\" id=\"node3\"><title>Sex</title>\n",
       "<g id=\"a_node3\"><a xlink:title=\"(2) Sex : 0.93635\">\n",
       "<ellipse cx=\"87.797\" cy=\"-234\" fill=\"#4d0102\" rx=\"27\" ry=\"18\" stroke=\"black\"/>\n",
       "<text fill=\"#ffffff\" font-family=\"Times,serif\" font-size=\"14.00\" text-anchor=\"middle\" x=\"87.797\" y=\"-230.3\">Sex</text>\n",
       "</a>\n",
       "</g>\n",
       "</g>\n",
       "<!-- Sex&#45;&gt;Survived -->\n",
       "<g class=\"edge\" id=\"edge3\"><title>Sex-&gt;Survived</title>\n",
       "<g id=\"a_edge3\"><a xlink:title=\"(2, 0) : 0.21715541239879504\">\n",
       "<path d=\"M85.8195,-215.697C84.9379,-207.983 83.8784,-198.712 82.8956,-190.112\" fill=\"none\" stroke=\"black\" stroke-width=\"5.1\"/>\n",
       "<polygon fill=\"black\" points=\"87.321,-189.533 81.7518,-180.104 78.4537,-190.546 87.321,-189.533\" stroke=\"black\" stroke-width=\"5.1\"/>\n",
       "</a>\n",
       "</g>\n",
       "</g>\n",
       "<!-- Parch -->\n",
       "<g class=\"node\" id=\"node5\"><title>Parch</title>\n",
       "<g id=\"a_node5\"><a xlink:title=\"(4) Parch : 1.13637\">\n",
       "<ellipse cx=\"123.797\" cy=\"-306\" fill=\"#55111d\" rx=\"31.6951\" ry=\"18\" stroke=\"black\"/>\n",
       "<text fill=\"#ffffff\" font-family=\"Times,serif\" font-size=\"14.00\" text-anchor=\"middle\" x=\"123.797\" y=\"-302.3\">Parch</text>\n",
       "</a>\n",
       "</g>\n",
       "</g>\n",
       "<!-- Parch&#45;&gt;Sex -->\n",
       "<g class=\"edge\" id=\"edge8\"><title>Parch-&gt;Sex</title>\n",
       "<g id=\"a_edge8\"><a xlink:title=\"(4, 2) : 0.047228938295119906\">\n",
       "<path d=\"M115.266,-288.411C110.961,-280.042 105.648,-269.71 100.844,-260.37\" fill=\"none\" stroke=\"black\" stroke-width=\"0.711995\"/>\n",
       "<polygon fill=\"black\" points=\"103.953,-258.762 96.2673,-251.47 97.7283,-261.964 103.953,-258.762\" stroke=\"black\" stroke-width=\"0.711995\"/>\n",
       "</a>\n",
       "</g>\n",
       "</g>\n",
       "<!-- Parch&#45;&gt;SibSp -->\n",
       "<g class=\"edge\" id=\"edge5\"><title>Parch-&gt;SibSp</title>\n",
       "<g id=\"a_edge5\"><a xlink:title=\"(4, 3) : 0.21195371835758875\">\n",
       "<path d=\"M127.644,-287.849C135.985,-250.662 155.788,-162.374 165.792,-117.772\" fill=\"none\" stroke=\"black\" stroke-width=\"4.96568\"/>\n",
       "<polygon fill=\"black\" points=\"170.049,-118.644 167.998,-107.935 161.57,-116.742 170.049,-118.644\" stroke=\"black\" stroke-width=\"4.96568\"/>\n",
       "</a>\n",
       "</g>\n",
       "</g>\n",
       "<!-- Embarked&#45;&gt;Pclass -->\n",
       "<g class=\"edge\" id=\"edge6\"><title>Embarked-&gt;Pclass</title>\n",
       "<g id=\"a_edge6\"><a xlink:title=\"(5, 1) : 0.10523655617315925\">\n",
       "<path d=\"M63.3562,-72.055C58.7574,-63.8006 53.1306,-53.7014 48.0252,-44.5378\" fill=\"none\" stroke=\"black\" stroke-width=\"2.20992\"/>\n",
       "<polygon fill=\"black\" points=\"51.0754,-42.8212 43.1509,-35.789 44.9605,-46.2282 51.0754,-42.8212\" stroke=\"black\" stroke-width=\"2.20992\"/>\n",
       "</a>\n",
       "</g>\n",
       "</g>\n",
       "<!-- decade -->\n",
       "<g class=\"node\" id=\"node7\"><title>decade</title>\n",
       "<g id=\"a_node7\"><a xlink:title=\"(6) decade : 2.77848\">\n",
       "<ellipse cx=\"123.797\" cy=\"-378\" fill=\"#9898fd\" rx=\"37.8943\" ry=\"18\" stroke=\"black\"/>\n",
       "<text fill=\"#000000\" font-family=\"Times,serif\" font-size=\"14.00\" text-anchor=\"middle\" x=\"123.797\" y=\"-374.3\">decade</text>\n",
       "</a>\n",
       "</g>\n",
       "</g>\n",
       "<!-- decade&#45;&gt;Parch -->\n",
       "<g class=\"edge\" id=\"edge2\"><title>decade-&gt;Parch</title>\n",
       "<g id=\"a_edge2\"><a xlink:title=\"(6, 4) : 0.20931313785886463\">\n",
       "<path d=\"M123.797,-359.697C123.797,-351.983 123.797,-342.712 123.797,-334.112\" fill=\"none\" stroke=\"black\" stroke-width=\"4.89749\"/>\n",
       "<polygon fill=\"black\" points=\"128.082,-334.104 123.797,-324.104 119.512,-334.104 128.082,-334.104\" stroke=\"black\" stroke-width=\"4.89749\"/>\n",
       "</a>\n",
       "</g>\n",
       "</g>\n",
       "</g>\n",
       "</svg></div><div align='center'><font color='#4d0102'>0.9363497953477024</font><img style='vertical-align:middle' src='data:image/png;base64,iVBORw0KGgoAAAANSUhEUgAAAhsAAABRCAYAAAB7e2SeAAAABHNCSVQICAgIfAhkiAAAAAlwSFlz\n",
       "AAALEgAACxIB0t1+/AAAADl0RVh0U29mdHdhcmUAbWF0cGxvdGxpYiB2ZXJzaW9uIDIuMS4yLCBo\n",
       "dHRwOi8vbWF0cGxvdGxpYi5vcmcvNQv5yAAACKRJREFUeJzt3X+IZWUdx/H3J1dJy2p1s8wf/QAh\n",
       "CsyWEDWzLcJMCPsFGWYmURYUWRRIf5jmPxFRUGASJbJhCqWuVv4EhSRTUlt31S01WUyTZDXUtaVl\n",
       "l29/3DPbbfbembOz98ydnfN+wTD3Ps9zz33O9z7zne+cc+eeVBWSJEldedm0JyBJkpY3iw1JktQp\n",
       "iw1JktQpiw1JktQpiw1JktQpiw1JktQpiw1JktQpiw1JktQpiw1JktSpFXsy+LCkts87Kq2aM27c\n",
       "XA+e9yFzD9jVm7bP3W5fWkysGTWZ/fjfsAXEcPa9Be7L0n1N9mw77R62ODHZfS4LjMnYh01hnS70\n",
       "ddnb555QDHd/9Hzbm+xrMRg6a622fe6xzQuLyfjXZNL5au79yHzj2mxzQvsy7ddk4TFp+zM+/6An\n",
       "nrjvlqo6bb6t7FGxsR04ZdeCmZnsTND///7Y9l3JZHb73m9zV39nc1zq29sX5rjUt7f32+zbOtx9\n",
       "f5feHPe97e0Lc1xa2+vjOpx0rllIDM87L6towdMokiSpUxYbkiSpUxYbkiSpUxYbkiSpUxYbkiSp\n",
       "UxYbkiSpUxYbkiSpUxYbkiSpUxYbkiSpUxYbkiSpUxYbkiSpUxYbkiSpUxYbkiSpUxYbkiSpUxYb\n",
       "kiSpUxYbkiSpUxYbkiSpUxYbkiSpUxYbkiSpUxYbkiSpUxYbkiSpUxYbkiSpUxYbkiSpUxYbkiSp\n",
       "UxYbkiSpUxYbkiSpUxYbkiSpUxYbkiSpUxYbkiSpUxYbkiSpUxYbkiSpU6mq9oOTm4FVE3jeVcCW\n",
       "CWxnuTEuoxmX8YzNaMZlNOMynrEZbb64bKmq0+bbyB4VG5OS5N6qeteiP/ESZ1xGMy7jGZvRjMto\n",
       "xmU8YzPapOLiaRRJktQpiw1JktSpaRUbP53S8y51xmU04zKesRnNuIxmXMYzNqNNJC5Tec+GJEnq\n",
       "D0+jSJKkTk202EhyeZJnkjw4pj9JfpTksSQbkqwe6jsnyaPN1zmTnNe0tYjLWU08Nia5K8k7hvo2\n",
       "N+3rk9y7eLPuXou4rEnyfLPv65NcONR3WpK/NmvpgsWb9eJoEZtvDsXlwSQ7kxzS9C3nNXNUkjuS\n",
       "PJzkoSRfHTGmd3mmZVx6l2daxqWXeaZlbCaXZ6pqYl/AKcBq4MEx/acDNwEBTgDuadoPAR5vvq9s\n",
       "bq+c5Nym+dUiLifN7C/woZm4NPc3A6umvQ9Tissa4Lcj2vcD/ga8BTgAeAB427T3ZzFjM2vsh4Hb\n",
       "e7JmDgdWN7cPBh6Z/dr3Mc+0jEvv8kzLuPQyz7SJzazxe5VnJnpko6p+Dzw3x5AzgLU1cDfwmiSH\n",
       "Ax8Ebquq56rqX8BtwLwfErKvmC8uVXVXs98AdwNHLsrEpqzFehnneOCxqnq8qrYDVzNYW8vGHsbm\n",
       "U8BVHU5nyaiqp6vq/ub2i8Am4IhZw3qXZ9rEpY95puV6GWdZ55kFxGav8sxiv2fjCODvQ/efbNrG\n",
       "tffR5xj8VTajgFuT3JfkC1Oa0zSdmOSBJDcleXvT5nppJDmIwS/Ma4aae7FmkrwJeCdwz6yuXueZ\n",
       "OeIyrHd5Zp649DrPzLdmJpFnVuz9NDUpSd7HIAmcPNR8clU9leQw4LYkf2n+6u2D+4E3VtXWJKcD\n",
       "64BjpjynpebDwB+qavgoyLJfM0leySDxnV9VL0x7PktFm7j0Mc/ME5de55mWP0t7nWcW+8jGU8BR\n",
       "Q/ePbNrGtfdGkmOBnwFnVNWzM+1V9VTz/RngOgaH9nqhql6oqq3N7RuB/ZOswvUy7ExmHdpc7msm\n",
       "yf4MkuOVVXXtiCG9zDMt4tLLPDNfXPqcZ9qsmcZe55nFLjZuAD7TvFv8BOD5qnoauAU4NcnKJCuB\n",
       "U5u2XkhyNHAtcHZVPTLU/ookB8/cZhCXkf+dsBwleX2SNLePZ7BenwX+BByT5M1JDmDwg3DD9GY6\n",
       "HUleDbwXuH6obVmvmWY9/BzYVFU/GDOsd3mmTVz6mGdaxqWXeablz9LE8sxET6MkuYrBO3tXJXkS\n",
       "+DawP0BVXQbcyOCd4o8B/wbObfqeS3IJgxcX4DuzDtfs01rE5ULgUODSZs3vqMGFb14HXNe0rQB+\n",
       "WVU3L/oOdKRFXD4BfCnJDmAbcGYN3ga9I8mXGfyi2A+4vKoemsIudKZFbAA+CtxaVS8NPXRZrxng\n",
       "3cDZwMYk65u2bwFHQ6/zTJu49DHPtIlLX/NMm9jAhPKMnyAqSZI65SeISpKkTllsSJKkTllsSJKk\n",
       "TllsSJKkTllsSJKkTvkJolKPJNkJbBxqurqqvjvH+DXA9qq6q+u5SVq+LDakftlWVcftwfg1wFZg\n",
       "t2IjyYqq2jGpiUlavjyNIokkm5NcnOT+JBuTvLW5ONMXga8lWZ/kPUmuSHJZknuA7yU5JMm6JBuS\n",
       "3N18HDZJLkryiyR/TPJoks837WuTfGToea9MsmyupClpNIsNqV8ObAqHma9PDvVtqarVwE+Ab1TV\n",
       "ZuAy4IdVdVxV3dmMOxI4qaq+DlwM/LmqjmXw6YNrh7Z3LPB+4ETgwiRvYPDxyJ+FXR+DfBLwu472\n",
       "VdIS4WkUqV/mOo0ycyGm+4CPzbGNX1XVzub2ycDHAarq9iSHJnlV03d9VW0DtiW5Azi+qtYluTTJ\n",
       "a5vHXeOpGGn5s9iQNOM/zfedzJ0bXpqjb9jsayHM3F8LfJrBha3ObT07SfssT6NImsuLwMFz9N8J\n",
       "nAW7/nNlS1W90PSdkeTlSQ5l8EbTmQugXQGcD1BVD09+ypKWGo9sSP1y4NAVHgFurqoL5hj/G+DX\n",
       "zZs4vzKi/yLg8iQbGFxh9Zyhvg3AHcAq4JKq+gdAVf0zySZg3cJ3Q9K+xKu+Spq4JBcBW6vq+yP6\n",
       "DmLwWR+rq+r5xZ6bpMXnaRRJiybJB4BNwI8tNKT+8MiGJEnqlEc2JElSpyw2JElSpyw2JElSpyw2\n",
       "JElSpyw2JElSpyw2JElSp/4LcjTTYSJpCDYAAAAASUVORK5CYII=\n",
       "'><font color='#9898fd'>2.7784812428636143</font></div>"
      ],
      "text/plain": [
       "<IPython.core.display.HTML object>"
      ]
     },
     "metadata": {},
     "output_type": "display_data"
    }
   ],
   "source": [
    "gnb.showInformation(bn,{},size=\"20\")"
   ]
  },
  {
   "cell_type": "markdown",
   "metadata": {},
   "source": [
    "To read this graph, you must understand what the entropy of a variable means: the hightest the value the more uncertain the variable marginal probability distrubition is (maximum entropy beging the equiprobable law). The lowest the value is, the more /certain/ the law is.\n",
    "\n",
    "A consequence of how entropy is calculated, is that entropy tends to get bigger if the random varaible has many modalities.\n",
    "\n",
    "What the information graph tells us is that the `decade` variable has a hight entropy. Thus, we can conclude that the passengers `decade` is distributed between all of its modalities.\n",
    "\n",
    "What it also tells us, it that high modality variables with low entropy, such as `Parch` or `SibSp`, are not evenly distributed.\n",
    "\n",
    "Let us look at he variables marginal probability by using the `showInference()` function."
   ]
  },
  {
   "cell_type": "code",
   "execution_count": 15,
   "metadata": {
    "scrolled": false
   },
   "outputs": [
    {
     "data": {
      "image/png": "[encoded data removed]"
     },
     "metadata": {},
     "output_type": "display_data"
    }
   ],
   "source": [
    "gnb.showInference(bn)"
   ]
  },
  {
   "cell_type": "markdown",
   "metadata": {},
   "source": [
    "The `showInference()` is really usefull as it shows the marginal probability distribution for each random variable of a BayesNet.\n",
    "\n",
    "We can now confirm what the entropy learned us: `Parch` and `SibSp` are unevenly distributed and `decade` is more evenly distributed.\n",
    "\n",
    "Lets focus on the Kaggle challenge now, and look at the `Survived` variable. We show a single posterior using the `showPosterior()` function."
   ]
  },
  {
   "cell_type": "code",
   "execution_count": 16,
   "metadata": {},
   "outputs": [
    {
     "data": {
      "image/png": "[encoded data removed]",
      "text/plain": [
       "<matplotlib.figure.Figure at 0x7f7e18b5e710>"
      ]
     },
     "metadata": {},
     "output_type": "display_data"
    }
   ],
   "source": [
    "gnb.showPosterior(bn,evs={},target='Survived')"
   ]
  },
  {
   "cell_type": "markdown",
   "metadata": {},
   "source": [
    "So almost 38% of the passenger in our learning database survived.\n",
    "\n",
    "So how can we use this BayesNet as a classifier ? Given a set of evidence, we can infer an update posterio distribution of the target variable `Survived`.\n",
    "\n",
    "Lets look at the odds of surviving as a man in his thirties."
   ]
  },
  {
   "cell_type": "code",
   "execution_count": 17,
   "metadata": {},
   "outputs": [
    {
     "data": {
      "image/png": "[encoded data removed]",
      "text/plain": [
       "<matplotlib.figure.Figure at 0x7f7e18b5e1d0>"
      ]
     },
     "metadata": {},
     "output_type": "display_data"
    }
   ],
   "source": [
    "gnb.showPosterior(bn,evs={\"Sex\": \"male\", \"decade\": 3},target='Survived')"
   ]
  },
  {
   "cell_type": "markdown",
   "metadata": {},
   "source": [
    "And now the odds of an old lady to survive."
   ]
  },
  {
   "cell_type": "code",
   "execution_count": 18,
   "metadata": {},
   "outputs": [
    {
     "data": {
      "image/png": "[encoded data removed]",
      "text/plain": [
       "<matplotlib.figure.Figure at 0x7f7e18bb87b8>"
      ]
     },
     "metadata": {},
     "output_type": "display_data"
    }
   ],
   "source": [
    "gnb.showPosterior(bn,evs={\"Sex\": \"female\", \"decade\": 8},target='Survived')"
   ]
  },
  {
   "cell_type": "markdown",
   "metadata": {},
   "source": [
    "Well, children and ladies first, that's right ?\n",
    "\n",
    "One last information we will need is which variables are required to predict the `Survived` variable. To do, we will use the markov blanket of `Survived`.\n",
    "\n"
   ]
  },
  {
   "cell_type": "code",
   "execution_count": 19,
   "metadata": {},
   "outputs": [
    {
     "data": {
      "text/html": [
       "<table style=\"border-style: hidden; border-collapse: collapse;\" width=\"100%\"><tr><td style=\"border-top:hidden;border-bottom:hidden;\"><div align=\"center\"><svg height=\"288pt\" viewBox=\"0.00 0.00 150.88 288.00\" width=\"151pt\" xmlns=\"http://www.w3.org/2000/svg\" xmlns:xlink=\"http://www.w3.org/1999/xlink\">\n",
       "<g class=\"graph\" id=\"graph0\" transform=\"scale(0.712871 0.712871) rotate(0) translate(4 400)\">\n",
       "<title>G</title>\n",
       "<!-- Survived -->\n",
       "<g class=\"node\" id=\"node1\"><title>Survived</title>\n",
       "<g id=\"a_node1\"><a xlink:title=\"(0) Survived\">\n",
       "<ellipse cx=\"79.797\" cy=\"-162\" fill=\"#444444\" rx=\"43.5923\" ry=\"18\" stroke=\"black\"/>\n",
       "<text fill=\"#ffffff\" font-family=\"Times,serif\" font-size=\"14.00\" text-anchor=\"middle\" x=\"79.797\" y=\"-158.3\">Survived</text>\n",
       "</a>\n",
       "</g>\n",
       "</g>\n",
       "<!-- Pclass -->\n",
       "<g class=\"node\" id=\"node2\"><title>Pclass</title>\n",
       "<g id=\"a_node2\"><a xlink:title=\"(1) Pclass\">\n",
       "<ellipse cx=\"33.797\" cy=\"-18\" fill=\"#444444\" rx=\"33.5952\" ry=\"18\" stroke=\"black\"/>\n",
       "<text fill=\"#ffffff\" font-family=\"Times,serif\" font-size=\"14.00\" text-anchor=\"middle\" x=\"33.797\" y=\"-14.3\">Pclass</text>\n",
       "</a>\n",
       "</g>\n",
       "</g>\n",
       "<!-- Survived&#45;&gt;Pclass -->\n",
       "<g class=\"edge\" id=\"edge1\"><title>Survived-&gt;Pclass</title>\n",
       "<g id=\"a_edge1\"><a xlink:title=\"(0, 1) : \">\n",
       "<path d=\"M53.6271,-147.338C39.2967,-138.292 22.8547,-124.967 14.797,-108 5.25986,-87.9179 11.9472,-63.0237 19.9047,-44.6745\" fill=\"none\" stroke=\"black\"/>\n",
       "<polygon fill=\"black\" points=\"23.1397,-46.0197 24.2314,-35.4813 16.8061,-43.0388 23.1397,-46.0197\" stroke=\"black\"/>\n",
       "</a>\n",
       "</g>\n",
       "</g>\n",
       "<!-- SibSp -->\n",
       "<g class=\"node\" id=\"node4\"><title>SibSp</title>\n",
       "<g id=\"a_node4\"><a xlink:title=\"(3) SibSp\">\n",
       "<ellipse cx=\"171.797\" cy=\"-90\" fill=\"#444444\" rx=\"31.6951\" ry=\"18\" stroke=\"black\"/>\n",
       "<text fill=\"#ffffff\" font-family=\"Times,serif\" font-size=\"14.00\" text-anchor=\"middle\" x=\"171.797\" y=\"-86.3\">SibSp</text>\n",
       "</a>\n",
       "</g>\n",
       "</g>\n",
       "<!-- Survived&#45;&gt;SibSp -->\n",
       "<g class=\"edge\" id=\"edge7\"><title>Survived-&gt;SibSp</title>\n",
       "<g id=\"a_edge7\"><a xlink:title=\"(0, 3) : \">\n",
       "<path d=\"M99.7596,-145.811C113.101,-135.66 130.8,-122.194 145.315,-111.149\" fill=\"none\" stroke=\"black\"/>\n",
       "<polygon fill=\"black\" points=\"147.598,-113.81 153.437,-104.97 143.359,-108.24 147.598,-113.81\" stroke=\"black\"/>\n",
       "</a>\n",
       "</g>\n",
       "</g>\n",
       "<!-- Embarked -->\n",
       "<g class=\"node\" id=\"node6\"><title>Embarked</title>\n",
       "<g id=\"a_node6\"><a xlink:title=\"(5) Embarked\">\n",
       "<ellipse cx=\"72.797\" cy=\"-90\" fill=\"#444444\" rx=\"49.2915\" ry=\"18\" stroke=\"black\"/>\n",
       "<text fill=\"#ffffff\" font-family=\"Times,serif\" font-size=\"14.00\" text-anchor=\"middle\" x=\"72.797\" y=\"-86.3\">Embarked</text>\n",
       "</a>\n",
       "</g>\n",
       "</g>\n",
       "<!-- Survived&#45;&gt;Embarked -->\n",
       "<g class=\"edge\" id=\"edge4\"><title>Survived-&gt;Embarked</title>\n",
       "<g id=\"a_edge4\"><a xlink:title=\"(0, 5) : \">\n",
       "<path d=\"M78.0667,-143.697C77.2953,-135.983 76.3682,-126.712 75.5082,-118.112\" fill=\"none\" stroke=\"black\"/>\n",
       "<polygon fill=\"black\" points=\"78.9852,-117.706 74.5074,-108.104 72.0199,-118.403 78.9852,-117.706\" stroke=\"black\"/>\n",
       "</a>\n",
       "</g>\n",
       "</g>\n",
       "<!-- Sex -->\n",
       "<g class=\"node\" id=\"node3\"><title>Sex</title>\n",
       "<g id=\"a_node3\"><a xlink:title=\"(2) Sex\">\n",
       "<ellipse cx=\"87.797\" cy=\"-234\" fill=\"#444444\" rx=\"27\" ry=\"18\" stroke=\"black\"/>\n",
       "<text fill=\"#ffffff\" font-family=\"Times,serif\" font-size=\"14.00\" text-anchor=\"middle\" x=\"87.797\" y=\"-230.3\">Sex</text>\n",
       "</a>\n",
       "</g>\n",
       "</g>\n",
       "<!-- Sex&#45;&gt;Survived -->\n",
       "<g class=\"edge\" id=\"edge3\"><title>Sex-&gt;Survived</title>\n",
       "<g id=\"a_edge3\"><a xlink:title=\"(2, 0) : \">\n",
       "<path d=\"M85.8195,-215.697C84.9379,-207.983 83.8784,-198.712 82.8956,-190.112\" fill=\"none\" stroke=\"black\"/>\n",
       "<polygon fill=\"black\" points=\"86.3647,-189.642 81.7518,-180.104 79.41,-190.437 86.3647,-189.642\" stroke=\"black\"/>\n",
       "</a>\n",
       "</g>\n",
       "</g>\n",
       "<!-- Parch -->\n",
       "<g class=\"node\" id=\"node5\"><title>Parch</title>\n",
       "<g id=\"a_node5\"><a xlink:title=\"(4) Parch\">\n",
       "<ellipse cx=\"123.797\" cy=\"-306\" fill=\"#444444\" rx=\"31.6951\" ry=\"18\" stroke=\"black\"/>\n",
       "<text fill=\"#ffffff\" font-family=\"Times,serif\" font-size=\"14.00\" text-anchor=\"middle\" x=\"123.797\" y=\"-302.3\">Parch</text>\n",
       "</a>\n",
       "</g>\n",
       "</g>\n",
       "<!-- Parch&#45;&gt;Sex -->\n",
       "<g class=\"edge\" id=\"edge8\"><title>Parch-&gt;Sex</title>\n",
       "<g id=\"a_edge8\"><a xlink:title=\"(4, 2) : \">\n",
       "<path d=\"M115.266,-288.411C110.961,-280.042 105.648,-269.71 100.844,-260.37\" fill=\"none\" stroke=\"black\"/>\n",
       "<polygon fill=\"black\" points=\"103.953,-258.762 96.2673,-251.47 97.7283,-261.964 103.953,-258.762\" stroke=\"black\"/>\n",
       "</a>\n",
       "</g>\n",
       "</g>\n",
       "<!-- Parch&#45;&gt;SibSp -->\n",
       "<g class=\"edge\" id=\"edge5\"><title>Parch-&gt;SibSp</title>\n",
       "<g id=\"a_edge5\"><a xlink:title=\"(4, 3) : \">\n",
       "<path d=\"M127.644,-287.849C135.985,-250.662 155.788,-162.374 165.792,-117.772\" fill=\"none\" stroke=\"black\"/>\n",
       "<polygon fill=\"black\" points=\"169.225,-118.459 167.998,-107.935 162.395,-116.927 169.225,-118.459\" stroke=\"black\"/>\n",
       "</a>\n",
       "</g>\n",
       "</g>\n",
       "<!-- Embarked&#45;&gt;Pclass -->\n",
       "<g class=\"edge\" id=\"edge6\"><title>Embarked-&gt;Pclass</title>\n",
       "<g id=\"a_edge6\"><a xlink:title=\"(5, 1) : \">\n",
       "<path d=\"M63.3562,-72.055C58.7574,-63.8006 53.1306,-53.7014 48.0252,-44.5378\" fill=\"none\" stroke=\"black\"/>\n",
       "<polygon fill=\"black\" points=\"51.0754,-42.8212 43.1509,-35.789 44.9605,-46.2282 51.0754,-42.8212\" stroke=\"black\"/>\n",
       "</a>\n",
       "</g>\n",
       "</g>\n",
       "<!-- decade -->\n",
       "<g class=\"node\" id=\"node7\"><title>decade</title>\n",
       "<g id=\"a_node7\"><a xlink:title=\"(6) decade\">\n",
       "<ellipse cx=\"123.797\" cy=\"-378\" fill=\"#444444\" rx=\"37.8943\" ry=\"18\" stroke=\"black\"/>\n",
       "<text fill=\"#ffffff\" font-family=\"Times,serif\" font-size=\"14.00\" text-anchor=\"middle\" x=\"123.797\" y=\"-374.3\">decade</text>\n",
       "</a>\n",
       "</g>\n",
       "</g>\n",
       "<!-- decade&#45;&gt;Parch -->\n",
       "<g class=\"edge\" id=\"edge2\"><title>decade-&gt;Parch</title>\n",
       "<g id=\"a_edge2\"><a xlink:title=\"(6, 4) : \">\n",
       "<path d=\"M123.797,-359.697C123.797,-351.983 123.797,-342.712 123.797,-334.112\" fill=\"none\" stroke=\"black\"/>\n",
       "<polygon fill=\"black\" points=\"127.297,-334.104 123.797,-324.104 120.297,-334.104 127.297,-334.104\" stroke=\"black\"/>\n",
       "</a>\n",
       "</g>\n",
       "</g>\n",
       "</g>\n",
       "</svg></div></td><td style=\"border-top:hidden;border-bottom:hidden;\"><div align=\"center\"><img style=\"margin:0\" src=\"data:image/png;base64,iVBORw0KGgoAAAANSUhEUgAAAPUAAAGACAYAAAB1KSSjAAAABmJLR0QA/wD/AP+gvaeTAAAgAElE\n",
       "QVR4nO2dd7gcVfnHP3Nveg/pPQRCAoRQkkgRchO6ghjA8EOkSUcUBUQUQcACKFIFxEZHEAtdIxgS\n",
       "eqQTOiHUQCAJkEbqTc7vj++Mu3dz2+7O7JR9P8+zz95tZ967O++cc94KhmEYhmEYhmEYhmGUghe3\n",
       "AEam6A6MBDb17wcC/YE+QG+gLdDFvw9YAqz37z8CFgILgLeAOf7tff89RiswpTZKpRaYAOzk338B\n",
       "GAGsJKeM84BFSFk/BZb6n10KrCOn4O2AjZDi9wUG+GNthi4Ky4BngKeAWcBDwCcR/3+pxZTaKIaN\n",
       "gAOAvYFdkTI+gZTtSeA54D3AhXjMrsBW6MIxAdgB2Bgp+f3AP4BnQzyeYWSedsDXgXuBNcCLwPnA\n",
       "ZP+1OBgBnADcgVYGrwPnAcNjkscwUsEA4Gdo6fwu8HNgTKwSNU434HBgGrAWuAvYPVaJDCNh9AEu\n",
       "QTPgdGB/tH9OAyOBS4HFwOPAbvGKYxjx0hY4AxmlHkQGsLTSE/gF+l/uR8puGFXF9sBsZLHeO2ZZ\n",
       "wqQvcB2wAjgbaBOvOIYRPR5wKlpq/xzoGK84kTEJXbAeRr5zw8gk7YHbgfnopM863YC/AR+jlYlh\n",
       "ZIouwAPA88jKXS14wFko+GXXmGUxjNBoi6zajwE9YpYlLk4CPifdxkDD+B+/BV6lehU64EwUZ75p\n",
       "3IIYRjkcgmKwN4lbkBLwCD+s+QYU5loT8riGURF6IyPREWWM8RXgJRTb/ThwH/Av/36vcgVsgsHI\n",
       "5/wG4c+q3VCs+skhj2sYFeFXKKikXI5HSj3Kf+wh6/ky4JwQxi+kBvi+f8wolsr7o4yvzhGMbRiR\n",
       "0RX4jHBioqfQuIL9FFhFw1zpsGjqmGHgodVHZmZr20tUB19FS+/pER5jDvJ9FzPjJSH11wFXoaSQ\n",
       "TGBKXR3sgfa+YeY5F7IdyqdenPf49yiefDow1X++O3Ai8DQKAnkUmIEU/BjgGqRkd6Ewz3wG++/9\n",
       "DLmlwuKfwLYomcUwUsGrwIEhjVW4FG4LHI0qnOyY9753kPKCFPBj/+++KAssmCG/BlyA8qP/Ts7K\n",
       "PRu53/KP+Su0lbgelT8KM5b7PbIV925knM9QxZAwCBRsOiqccD9wGTC64H0/Iqf4B/mfCWbC/f3H\n",
       "QbhmB2A5sGfe5yeg2TP/mEG21RH+4zCj4Z4AjgxxvNiwrJXs4yHXzdKW3lgkxwNvNvP6BUjRzwYG\n",
       "+c91RgEfwTYgqDO2uf/a/LzPP9XImMHnlvj37YsTuVkWk5GAHNtTZx+HZuqeFT7uqcAPgF+jqiTN\n",
       "0cu/HxypRM3TG20hUo8pdXUwHxgS0litsVhvDlwMXInSOls6z173748seH5KUZKVx2BUuin1mFJX\n",
       "B48DdSGNFeQjd2rmPf39+32BoeQMUMPRjBgsm4Mx3kdFBA8C/ogqll5Jbnnfxb/v3MTjchnty9XY\n",
       "kt8wEsmBqHhgubXGdkOuKIeW1E2FnLYF7kH71GuRMr+LMsN2BWb6Y9yGyv+CXF03o63Ca8i3DjAM\n",
       "GeUcUvhBKG3U+WOHUdjh+8AjIYxjGBWjPVqCh+XWyhJtkPstM8EnRvVwFip6n5bKoJXiaNRJJK4a\n",
       "5oZRMp2AucBpcQuSIHojF9shcQtiGKWyF6r4MS5uQRJALbm0UcNINecBH5ALCKlWfoOs673jFsQw\n",
       "ysUD/ox8w0NjliUOPBRDvogNQ1sNI7W0AW5ESQxbxixLJWmLMsc+JJl9wQyjLDwUwrkcOCxmWSrB\n",
       "EBSE8yrprNFmGK3mQJQgcTMb5i9nAQ/5oBehbUeX5t9uGNlgBIoQ+wQ4juxk722JotEWYMElRpXy\n",
       "dRSH/Try3aY1N2AkWnmsQaGlvZp/u2Fkm3Zotv4QuXzOADaKVaLWszPqD7bavx/V/NsNo7roiEIo\n",
       "n0PGtBuBfYimWmg5jESFGF5FtoHLgc1ilcgwUsBOqJ7Yx8jgdDPK0IqjuV47VGf8fBTLXo9KKh2F\n",
       "6pdVPUko0Wqkh1qUOrk3qic2BnXOeMq/PYv24wtCOl57NBOPQTXLJqAqpWuQAex+4G5yRQ0NTKmN\n",
       "8hiIZvEvIIXbBugxfvz45c8999yr69at+wAp3AKUOLEaVUJZlTdGUGapNypM2AetAEagiLd1qKZ4\n",
       "cOF4El081kX6n6UYU2ojVK644oo9x4wZc/exxx77/blz53Ynp6h9yBX7r0EVRFeg5XMXtG+fjUoK\n",
       "LUJGujko13lthf+NVJMVf6SREMaOHXuMc+76uXPnXlnExy5BM/ZxEYlVVaTVD2kkkOnTpw8DptTU\n",
       "1Fxe5EdfAMZGIFJVYkpthEZtbe3JwAN1dXWvFvnR2Sj6K2nuslRiSm2EwqOPPtoVONo5d2kJH38F\n",
       "nYvmXw4BU2ojFNauXXs08P6kSZNK6ay5GrnCtg5XqurElNoom9tvv73W87xvA5d4nldqZ03bV4eE\n",
       "KbVRNv369fsq0NU5d2sZw8zGZupQMKU2ysY5d4rneVdPnjx5VcvvbhKbqUPClNooiwcffHAcMGHt\n",
       "2rXXlDnUbBShlsVCDRXFlNooi5qamtOcczfvvvvu5cZfz0fhpFu19EajeUypjZKZPn36IODA2tra\n",
       "K0Ia0vbVIWBKbZSMH2wyc+LEibNDGnI2tq8uG1NqoySefvrpTpQebNIUL2AzddmYUhslsWzZsqOA\n",
       "RZMmTfp3iMPOBrbAmtWVhSm1UTTOOc8PNrm4jGCTxnjFv7dw0TIwpTaKZsaMGfsBG7Vr1+7mkIde\n",
       "g4WLlo0ptVE0tbW1pwDX7LTTTisjGN6CUMrElNooiocffng759wONTU1v43oEObWKhNTaqMo1q9f\n",
       "fwpw68SJE+dHdAizgJeJlTMyWs2jjz46sL6+/iDn3PYRHmY20B+Fi4ZVlbSqsJnaaDX19fUneZ73\n",
       "yOTJk5+P8DAfoQqktq8uEVNqo1X4wSbHr1u3Lsxgk6awfXUZmFIbrWLZsmWHA59Onjz5XxU4nFnA\n",
       "y8CU2mgRP9jkZOBSz/PWV+CQNlOXgSm10SIzZsz4MtB/9erVN1bokC8Am2PhoiVhSm20SBBsstde\n",
       "e31eoUMGJYatFW0JmFIbzTJjxowxzrmJzrmrK3jYtcBr2BK8JEypjWbxPO804C+TJ0+eV+FDm7Gs\n",
       "REypjf/x0EMPjZwxY0aP4PFjjz3WFzgYCKuySTGYsaxErOul8T9mzpz5snNuE8/z/rRu3bpLamtr\n",
       "j/A8b2JdXd2kGMTZAzW37xfDsVONzdRGPv08z2sPHN2mTZs3PM/7jnPu/phkeR6FippSF4nN1Mb/\n",
       "mDlz5loa5gOsAxwwx/O8Czt37nzr+PHjK9krej5wOPBABY+ZemymNgCYNWtWNzZM8KkF2nieN9o5\n",
       "d+3y5csr5acOsH11CViWlgHA2rVrezf1mnMO59wq59yFlZQJs4CXhM3UBgD19fV9kX+4EAes8Tzv\n",
       "S7vuuusLFRbLZuoSMKU2AnrTuFLXO+emTJo06ZFKC4SFi5aEKbUBgOd5fdCs/D+cc/XANyZPnjwt\n",
       "Hql4FViPFNtoJabURkBvz/Pyz4f6mpqaEyZNmvTX2CSCehQuavvqIjClNgJ6O+fa+n+v9Tzvh3V1\n",
       "dX+KVSJhNcuKxJTaAMDzvH7IfbXG87xf1NXVXRy3TD7WX6tIzKWVHdqizhYjgEHAABSRVQP0QIFG\n",
       "a4DP/fuPgHkowOMN59wgf5w/1NXVnVdZ0ZvlBeCMuIVIE6bU6WVjoM6/jSeXe/wuUtQPgE+BJcBC\n",
       "YDk55e4BTAD2BYYAg55//vn6ZcuWLTjnnHPWAPsBj/qfj5sXgD6owuhHMctiGKEzDjgfWYXXofjo\n",
       "y1Em1VaU7vrp1qdPn4nA8cCNwHvISPUQ8F1gcHlil82HwF4xy2AYodEN+BaasVYAd6B46I0iPu6m\n",
       "wOnAE8h/fS+a2eOww0zzZTGMVNMV7SU/RW6dM4hekZtiU+BCVFx/LnAcld26/RK4qYLHM4xQqQW+\n",
       "DXwGPIlmx6Rk03VEy/EPgZeByRU67jeQFdwwUsdY4Bm0pz0wZlmaowNwNtoO3Az0jPh4Y9AWoH3E\n",
       "xzGMUDkJKcllQOeYZWktGwPTkcX9ixEepw2wEtgmwmMYRmi0Aa5D/aO+FLMspVAD/Bgp3ZERHudZ\n",
       "ZCA0jETTEfgnMoQNj1eUstkH+cJ/GNH41wNJiXIzjEZpA9yF9tC9YpYlLLZHwS7fiWDsU7CyRkbC\n",
       "uRqYg0I5s8RkZBvYP+Rxd8P6VRsJ5gBgGYrVziLfRP71ISGO2Qvlew8IcUzDCIWNgEXoxM8ytwJh\n",
       "lxf+ANg75DENo2wuRTHVYTAOmIViwBeimexXIY1dLn3Q/jpMi/4/gR+EOJ5hlE0/YBUyKJVLZzRz\n",
       "nek/7gj8HVmJk8JZKCouLC4EbglxPMMomyBBIgx2QTNzXd5z3VCWVVLohS5iYQWNHAK8GNJYhhEK\n",
       "z6L0xjCoQ0p9Iw1jw6eENH5Y/A0lZITBlihctENI4xlGWXRDOcojQhqvPQrPdCiDqbETvQ1wmv/6\n",
       "LLQ8H+i/Nh7Neg7FmW+NLPLfI9z0yhOAx0MaKwgX3Tak8QyjLCajUNAwGYtKEjm0ChhV8PqPUOIF\n",
       "aDZ/FcVqB4xGpY1OQUvbE0OWD3SxWIWyz8LgGaINRzWMVvN1dEKGTU+UKeWQbzgo0tcJWO2/dpl/\n",
       "uxvNmvnZTheg8ke3E00BhMC/3Cek8a4DLglpLMMoi2/RcJYMm6OQ8gTW5nH+45aMVF1QfnRUjeVr\n",
       "UEH+wlVEqXyPaL/H1GMlgivHSuR2CovCfOtrgd+ggoIbkctxHtnIZ/Nn6j6ooN+JRNMJoyNa+n8e\n",
       "0njWX8tIDPsBr4c43rVsGGZ6GNojt0O5zg6YQcP97FRgC/9vD1nP+6AaaA8QfpWVYb4cnUIaL1jO\n",
       "D2zpjYYRNSOR9btbSOOdAzxNrm6ZhwIz8rtqTEMK8GfgyygY5IK81/8PbQsg5yKbGpJ8AV8F3gp5\n",
       "zHmkM/fcyBgesn7vGdJ4hyEl/Bi4DVUZvYKGVVN6+a99ihThXHIFA/dGddB29h+PApYCi4GvhCQj\n",
       "KGw17Ciw+4gub9swiuI6Gs6kWacGeAdZ/sPkArT6MIzY2RkFeHSPW5AKsTdaJYQdAXYw8FLIYxpG\n",
       "SXjAf4FfxC1IBfCQe+3nEYy9BRYuaiSIOuTe2ThuQSLmUFSpJCzDYD61qLrKdhGMbRglcQPwGNlt\n",
       "UDgcGdwOi/AYT5P9QhNGiugKvEk2wx27AE8RfZucP6GCE4aRGLYEPiFblTzaIt/4E0TfkOC7wIMR\n",
       "H8MwimYnZA0/u6U3poAuSKFfojIljyehi6JhJI4JKIDkD6TXmjsMZaA9RuVqmG+Egm8GVeh4hlEU\n",
       "m6LY6+dRjnOamIJ80bcQbsJKa3gfhb8aRiLpAFyFXDU/Ifmz9iAUgrocpX3Gwb2oEIRhJJpJqPfz\n",
       "m8glFFbFkLDogWLIl6F482ExyvILVF/cMBJPW9SP6gOUrnkcMkTFyVCkRItRVNxe8YoDKMvslbiF\n",
       "MIxi6AB8G3XFXAL8Fs3klZq9u6I463tQWOYDJGsPuzlKZ630Xt4wysZDhQtvROmSC1DG1xGEV50U\n",
       "dLEYjwoR3oeqtbyFiuhvGuJxwqIWhdyOi1uQJBF2lQsjetohBf8yMBEVGlyEyv0Ge/F5qETRAqSY\n",
       "K/M+3w2tAPoBg1EFkdH+OJsjRZmFWgPdDTwX9T9UJk+hFcy1cQuSFEyp008PNFONQdVABqM85sFo\n",
       "+dwUH/u3eWjf/jK6MDyPSiKlhT8iC/z34hbEMKJgGg2j02pQAcI+KCusJ9nL5T4Z1WEzjMzRHdX5\n",
       "HhO3IBWmDgsXNTLKIWg/XW30QHXFw2xwn2qs7nd2+CoKBqk2FiO7wNiW3lgtmFJng/aoHtidcQsS\n",
       "Ey9gBf7/hyl1Ntgdua1mxS1ITLyAzdT/w5Q6G0wB7gLWxS1ITFgrHiNT1KCuldXcsWIUChcNq7WP\n",
       "YcRKUEs86amaURKEi46PW5AkYMvv9DMFxWmviluQGFmHIuJsCY4pdRbYj+q1eudjxjIjE4xFcdo9\n",
       "4hYkAXwHmBm3EEnAZup0MwWYjgIwqp3AV21JSkaqeRY4Pm4hEkIQLjo0bkEMo1SGIQPRgLgFSRDv\n",
       "APvGLUTc2PI7vUxBEWTz4xYkQVgQCqbUaWYKZvUuxCzgRmrphQoBbha3IAljKirSaBip45uoZ5XR\n",
       "kM2QnSHq5nyJxpbf6WQK1Zk73RJvomy1LeMWxDCKoRMW59wc/wWOiVuIOLGZOn3sjWp/PxO3IAml\n",
       "6gsmmFKnjynAP1AbV2NDZmMWcCNFtEGVM3eNW5AEswtayVi4qJEKdkNK3SZuQRJMdxQuGmc3zlix\n",
       "5Xe6mIJ6MtfHLUiCWQK8SxXvq02p04OHygBbFFnLVPW+2pQ6PYwHegP3xy1ICqhqC7gpdXL5K+o4\n",
       "eTowEi29/4181EbzVPVMbSSXWchttRIZfhYCt6EOl2bZbZ6RKFy0S9yCGEY+M5BS599WIyPZAuAy\n",
       "zAreFDWowur2cQsSB7b8Ti4rGnmuHSqH2ws4APv9mmI9SnipyiW4nRTJpTGlDliH9thpag5faaq2\n",
       "YIIpdXJZ3sTza4BTUX0yo2msYIKROK5kwz31SuDuOIVKETujQJSqMyraTJ1cVtGw4d16dJIeGYs0\n",
       "6WM20JUqDBc1pU4uq5AiB6wH9gc+jUec1LEUVRetun21KXVyyZ+pV6MglCfiEyeVVOW+2pQ6uawi\n",
       "55t+CLg8XnFSSVVawE2pk8tK1J72M+BgrChCKVTlTG0RSRHipJTdUUuYHshw04OcRbYzCigBKXHQ\n",
       "jrZ+P9j4Xlj/NfjO7Qo4aeupLLDRemYDm6Bw0aZchJmj6sz9YeJgMDAKlaYdBgxCzw0AhqAigQFL\n",
       "UCO7dSiEMciJXomUNlDu9kCn+dDxReixJ3QsGOMDYB7qzPEeyh1+HXjdU3y4kcND3/leKJa+KrCZ\n",
       "uhU4KefWKJliO//vzdAMsAAVkH8HKdl/gfeR0i1Cy+fFXonLZ6ffKJjp+wIDyV08NkEn7GZADyfL\n",
       "+OvA86gw4TPAy1U8wztyzeirRqltpm4EBxuhWleT/NsYNKM+hyK5ngdeBd7wEtJG1knhR6OVw3b+\n",
       "bSz6jZ9GvZsfAh73qit98xq0OjopbkGMCuNgWwfnOHjGwToH7zq4wcGRDka5FBoVHbR1sLWDkxz8\n",
       "1cECB2sczHRwqtNMn3VOBB6NWwijQvgn/KUO3nGwysE/HRzvYETcskWBA8/BGAenO3jEQb2Dlxyc\n",
       "62DjuOWLiC+iQBRblWYVp73ndx085yvyXx0c6Kowod5BHwffdPCAr+AzHBzuW+2zQlcUjZfVi1b1\n",
       "4mC4g8scLPMV+jtOeckG4GCog7MczHXwkf93Vr6fuShV1cgCDob4e+M1Du5zMDlumZKMg1p/5fKE\n",
       "g88d/NLJ8p5m/gGcE7cQRpk46OrgfAcrHNzhrBNi0TjYxcHjDhY5ONlB27hlKpFzgb/HLYRRBg52\n",
       "841fTzq5powS8Y1rU/1l+dMpvTjuj9rcGmnDQTsHV/iz8+lOkVpGCDjolPfdnhq3PEWyCTKWdYtb\n",
       "EKMIHPR08KCDl1M6m6QCB7v6hrRrXS60Nel4KMR2x7gFMVqJg/4OXnHwnwwYdaLEIwR/rYON/Yvn\n",
       "f1zD2PQk8xhwQtxCVILURUkV4uSHvA/FPH8phLDNcShO+HmUIOGAX5U5ZmvYEu37olCS4cBFwBxC\n",
       "KO/jwdsoqKMHcHNKou2qJg0zDT9GS/wZxWUfEkLiQmdU2O9uYBtgKHKH9C1z3NawGCWDRJF88S5K\n",
       "MAktLNS/eO4LbAucH9a4EVKVBRNSh4Ov++6WPiENuYuGpS7vuW7AjSGNHydT0P82PMxBHWzjR+Zt\n",
       "F+a4EbAjFi6abHxr7EcOjgpx2DoNzY00/PFLjUYq9gSqITqLfSRKjQb9tUt+amNnlK2Vybj+TODg\n",
       "EAdvuXCvvO3RUtUBN7FhDPRwYLr/+qb+7V80VJbuKDPoaWAHlCHk0BbhHZQaCdrffQQchE64k4E3\n",
       "/HH2aeH9oDzr03w5Z6HgioF5snrA94ErgKuBW4hOqTfyZ+ttwh47ZN5EPmsjifghn+dFMPRYVFnE\n",
       "odzpUQWvH0ROqQGm0lBZ+gKX+M9dBXwNuAAVDlxArjBFG+Bm/++OwI8Kxmnu/fjvP9v/20P53dPz\n",
       "Xj8V+Au5i97viEip0cB/dfDrKMYOkb+j6DIjiTj40MGuEQ3fEymQQ9VE8q2mwTJ204LHw/Pes7//\n",
       "XH7XxWEoAOLL/uMvIYUv/MzwVry/E6oyejPqfnkZMu49jlYbHYFP/M8EHNCInKHhJ8g8EMXYIXIO\n",
       "MnwaScOPHFvnok/yP0qH48m851qj1IXvCZiGmskD/AYpYOFnhrfi/eP89za13N3Gf31MC+OHhoN9\n",
       "nVxmSWYKytjKNFlwaYXJgQWPr0XKNAGVOCqXPwL7IVfZCjTblvL+nv79yEY+0x7o5//dvRxhM8gL\n",
       "KK860+GiqVRqT50fPyb8Pkn7oCJ++TyFfMeFJWaDEMmuObFa5G7kVrmV3AxcyvuD2eZbNLSWT0Wr\n",
       "l7f9xzs3MmZULp2NkWEvybyDKrmOaeF9qSaVSu3zHCoKGCbvomCWYFb2gL2RhXlN3ntAS/NRaCYF\n",
       "7Z+D7zNYJueXCMYf4wYUifVMwWud/fuurXj/28C/0f9/E9p3n4V8xa+gZfBDyPq9jS/Xbv5n9ySa\n",
       "qLU6FIWXZBzwIhaEkkz8wJO3Qw5RPExD8zFwG3AHcgl1znuPB/weXfH/joxRD6NqlR2ALVDlTueP\n",
       "sVXBMUaxoW99MDnX2I2oBHBz7wdVJbkNGfLmIatufsnn/mimXwLMAE4B7gcOJeRyRXkurTQoy1XA\n",
       "b+MWwmgEBx0dzHdwTNyyVDsOLnGyvKeB40mPrNWHg4MdfOJyhiGjwjgY58/S28YtSyvZAdlH0rz1\n",
       "zDYO7nQquZOWFMDM4GCgU4WZNCR0BAThooXuRiMpOOji4ClfudOStJ96/KIUz/qRZGmb9eagYJxM\n",
       "krYfYwM8LaX2RT7baS7nwzUiwg/6eRz1CjvMU+RbmniBdBj1SiL1Sg3gyVr9RbSsetxVSTJ8HDi5\n",
       "xGahRJV9vFz73TQxGztH0oFT76hLHax08CNnhQdDw0FnB1c7FR78btzylMlXgbfiFsIoAgeT/LTM\n",
       "p50V7y8LpxLBB/sxAU862DxumUJgONoyWBhtmvANaD9z6jJxjy3Ji8epcuiTTt0yT3LZ6Wfuob7h\n",
       "jYXRGknHwSAHf3JquzPNwe5xy5RknNruHOQr8zKnLidZTIB4BMXOG2nFqQHcxQ6WOnjBqfNlWLXN\n",
       "Uo9TA8Fz/GX2fN8mkWVPwpWoIb2Rdhx09xP6n/Zn7zsc/J+rwv2VU730Y51a2NY71fE+1DXM884q\n",
       "xwFPxC2EETJODdgvWgBvPywF/7eDb7nG85RTj4MaB1s7+KFTV8t1Dp53als7NG75Ksz2WLhoZtkf\n",
       "mN9HCn2Wv5esdzDPwU0OjnawRRrdY04VYsY5day8w4+TX+Vgur/9GB63jDEShItm8gJerfRFaY6f\n",
       "A2eQd8X2l+hfcSp9+5S/TF/m4BEHlzv4poMdXDjVUELBwQDflXe8g985eHoVrD4b1iyBRx2c52Cy\n",
       "sxj5fF5nw2o3qadaC5tPRXm1z6K91XvNvdkp/3gsqg02DoUYboaswovQyfE28CHwAfA+Kue7AHWy\n",
       "WOxpVigaP569h3/ri3KtBwJD/PtNGpHlOeCZG+HdI+EiX/6pqOKokeOv6Dv5SdyChEm1KXU/VCq3\n",
       "DpXQva6cwRwMQEUMNkOllQaTU7qhNCyusAwVLFiDanoH4ZWr0CohSEbp7P/dASlyfvWUz8hdNOb7\n",
       "9+8ArwFveCqYUEh71AvsKJRL/OcS/90schYwntKbNSSSalLqvYHrUZH949CsGikO2pKbZXsgC3sn\n",
       "oP02cOw4ePtPuTJFn5MrmbQCKftipMiLgSWlzvY++6OL2N1IuVeWMVZW2A/VV984bkGM4miLSv2s\n",
       "QDHLSbmQPYXKJ1WSzVCG0rNEX145DQxD4aLW/jhFjEIn8CskryXMPOKJbuuAaqwtoWEzgWokCBfd\n",
       "JW5BjNZxONrH3kjDvW0SqEFlh7eIUYbDkZ/2cqq7uERQNNJIMJ1RnexFJNcA0h9VDo172bcF8DLq\n",
       "QDI8XlFi4zdo5WIklE3QnvG/yBKdVLZDe/wk0BWVGl6IjInVxrEkvw1v1bI3cuncSPIDLPYheT2d\n",
       "jkMW8QtJYfRcGXwBCxdNHB6KCFvl36eBY1HqX9IYhyqCzEBbhGqgI1DPhu2WjJjogqKCFhB+C54o\n",
       "OQf1jk4ivYD7UN233Vp4b1Z4DUXcZYI0LzmGor3QIOSumhmrNMUxAEWEJZFPUHXW84F7kY8/zedJ\n",
       "a7BChAlgK+TnvYl0umPuIh1bhYko8u4eEpS8EgE/RpF2RkxMQgEDl5PeGSSOaLJS6YMa672LWtZk\n",
       "ka+Q/Da8mWV/FCN9etyClMkHpKtWWi0NQ22zxlAULprl8k2J5NvopDo4bkHKJAnRZKWyG0op/QfZ\n",
       "K//0KdpuGBXAAy5AmUpZqOGdlGiyUhkMPIbytrNkXJoJfCduIaoBDxUz+JDs9D5KUjRZqbRBQSor\n",
       "kM89C1wB/CFuIbKOh8q4ziedS9Wm2Bd4M24hQuKryGh5Iw2LOaSRo1F4sRERNcC1qMxQ1voIJzWa\n",
       "rFSGoYSQl0n3xXcCWnlUU4hsxfCAq5ELZUTMskRBkqPJSqUDcjEuBf4vZllKJQgXHRW3IFnkQhT2\n",
       "mYVGbI1xDXBZ3EJExKEoOeJ3pDMo6FXgoLiFyBpnItdCVoxijZGWaLJSGQ28iAJs0lb76zbg53EL\n",
       "kSWORFf5rEYtBaQpmqxUuqCqpYuAL8csSzGciUJijRCYhIwUSa1UEiYfUD3ZT4ejCMDLUQHIpLMP\n",
       "suUYZbIVCiyphraiaY4mK5VtkQvvIVQPPckMQYFBveIWJM30Rp0tLopbkFgvQi0AABo6SURBVAox\n",
       "gHRHk5VKN3J573vELEtLLELNHowSqAWmoQygavENZiGarFQ8lAyygmTnaM8ATo5biLRyCSqdU01L\n",
       "nSxFk5XKBJTm+B/UBilpXA78MW4h0shUVJN7y7gFqTBZiyYrld7Av1AvsJ1ilqWQo5CHwiiCoahk\n",
       "TtbdOqAa5APILTWzGE1WKoUFI5PSDmk8G4aLDohJllTQBngcNaqrBq5GhrF16EL2EfAGKh5/Dpq5\n",
       "h8UmXTKYjJJ27iR+A2JnlFM9H7gBtWxagX7DbWOUK9Gcj/Jwu8QtSIU4kdxJUXhbiaptfD826ZLD\n",
       "ILQteQftuSvNJSh+YD1yOS5HF+L836tvDHIlngloqTU+bkEqyBg2PDnyb6vQ/tLQKu5c4imZdC1S\n",
       "5qZ+p2UVlicVtEPxwOfHLUiF8VB3yaYU+jfxiZZY9kVblZuoXGPDvjS9onLAcxWSI1X8DBVM7xC3\n",
       "IDHwT7SsKzxR6rH9dFMMBZ5AWVNjKnTMH6EtUeHvtJ7qsQG1mlFoVkqa66JSnIrin/NPlDUo4cFo\n",
       "mvbIZ7wM+Hojr+8A/Jvw+qa1Qy62wgvwCszusQH/RHuWamU8G+7X1lG5GSjt7I9yA/IbH/ZGbYHW\n",
       "AReHeKypwGo2VOp9QzxG6tkPVcOoZj9fLQ33a/VohjFaz2aoRfEzwEhgOlr9Bd/nF0M81n/9MfOX\n",
       "35uEOH6qaQvMwZYuoPKz+UvvME/CaqET8h3PJ6fQwarnbcKz12xLQ6VeS/XkJrTIcejLTmNZm7A5\n",
       "E83W67EQxHKYTOOup5WoNnxY3ELuwpG0PuKx0Q4p9NFxC5IQdkYz9Gpsf1Yq/ZCrqzFPQjCjhhW4\n",
       "MpCcUt8V0pip59soGykN1S7CxEP9mIJbP1QRdTRS6ndQVlq1RNSFRQ1qW1xoxCp0Eb5OeCvDn/jj\n",
       "Xoh+y/7ot9zIf5xY92wUQfRtUErlT0i3f68dMBwZ+QahAIUB6MftC3RFyf9dUV+pHhT/fa5CLptl\n",
       "qCj+Uv/vD5F192P/7wXogpDUntZR0xV4FFXJWUXTbqxVwK+Bs1s5bgd/zJHIGDcStRXqg37jltKC\n",
       "16CiCgvRb/MusiPNAV5BS3fXSllCIwql/hqKlBqG/umkMxy5l8YgK+cm6Io8GH0/C/xboFzz/ftl\n",
       "yNWyxP97Kdrb4T+ub+J4nZAPFnQx6Ebu4tANnUh90Sw/wP97oP/aSnTBnOvfvw68hKL1lpT+FaSG\n",
       "YaiO3RHANuj7KOwMUo982M808vl+qNvozsAXkEKvRUk2c9Dq8n2UeLMQ/Y7L0QU3Xznb+8ftTO63\n",
       "6oMaT4z0b8P8zz+Fmh3MQBem1aX9660nCqWeATyMspCShIeuxjsA26MyxGOQsryNOkzMIacwb6HZ\n",
       "MfIfoZX0RBeb4KITLOu3QquE95CCP4uWqrPQHjSrDAYOAL6BYgECBXfoYrc1UtixqFPql/znXkfn\n",
       "aKBsryELeth0QZVuJqBzbjJaYTyE9ul/IyW/zxZodh4ctyBoHzYO+CFwH/oC61Ec79XIOr8jUuq0\n",
       "MwSdtGegWmDzkEHpNbQFOoLkF/0rh37A8WgyCRJopqEL9WrgbmS0HRKXgOh8nACchXzua1Bg1tfQ\n",
       "ljWxXAncHuPxewHfBG5Fy6cVqAbamagMcTUZqIagbhOXoeW58+8vQUvQRJ9IJbINKsi/Fin0USS3\n",
       "kfwWKCfiQ7Tk/zEJlLUW7UX2qfBxe6Gr8DT0Y76EqpPuQXhxwVlgIJqxb0FdUBaiYg17kH4F3xxN\n",
       "JquB69CyNy20RduD/6K9+9nIvpIIdkHGokqY+mvQbBP8kC+jXNxqqqddDrXIWHQ5srB/hFw3aWtI\n",
       "2BX9D6tRbHja5C9kX7Q9/Ag4JGZZAC3rbo34GF2B05Ex6zNkZd8q4mNmnbYoaeJfaKUzDdg7Vola\n",
       "x5eR7WAWWnZnBQ+tPD9BOQKx2qfeIrqOgd2RgWERMjIcSfqbnCeR4aiQxWJkGd6P5BQEDGiDVhWf\n",
       "oyCnpNYPL5c+aCW6ANgzDgECq3fYe4Fa9MN9CjyNfJRJO8mySA8UPPQJUu446oY1Rhdk+JxDtmbn\n",
       "5vg2ctdVusQTx6GNfpjsiHyu7yGzv1F5uqEIrVWo5/RGMcqyEaqG8hgJtBJHTB0KLjq3kge9Hu2p\n",
       "w6AGmfeDzJtK1akymmZLlD76HrrYVpr2KBrrAar3fBiPVk6nVuqAcwhnNu2BHPLvYznHSaMGuVvi\n",
       "WArehGwpiXH1xEQd+v6/EvWB+qDopUFljtMThe7N8MdMAx7h7/GjGC/MMXdFNo5zQxyzOQ5BM9TQ\n",
       "Ch0vIIrfNgyORTEGkdYh3w351cqhGzKEPUB4ASNTUTVKhwrF34Za3tyDonjuLGPsocAvUCLApuWJ\n",
       "CSgG/ZdI3jDGA1myL0JJCsNDGjNgHFLs1mZDlUpvdAIfWeY445Dr63l/PAf8quA9W6LvahSt+21b\n",
       "M2ZUTENBRJFxAuU3fbseteMJOwLsW+jL3qzg+c6UV3PbA07zxw5DCWtRidqwxgPJeKo/5vCQxswn\n",
       "6DkVZb/pn1L+udUZdd8403/cEfg7G6YFD0KK0paWf9vWjhkVI5C3KbJgq4uBP5Xx+QOQZW/jcMRp\n",
       "wBSa/nEmRzh2Kewf8niQk3F4iGPm8z0UABKFNbojmgH3K3OcXdB3kN9IvhuKQGuKln7bUsYMm1tp\n",
       "ouVuGI77kchQVirnoWXc2yHIUgwzGnmu0vuo/GNVPJk+BC5HM9bxEYy9Gwr/vLfMcYJz/Ghy3/dS\n",
       "4B9NvLc1RQaLGROiOaeuAQ4korj9lynd8j0JfRlRpT82dsVtgwIr8oMXhpDrIrID2n9/jNrtjkSp\n",
       "m5/S8OQNxt4bNVD/BCVIBAUQtvMfn4FK2k71n++OGuc97R/rUXSByZe1HcquegslYXTPk/00ZA2e\n",
       "hZZ8+SmVHqreegVKL72FaGdqUD7zu4RfcfNylJxRLu2RfA59b43lJnQGTkb76OG0/Nu2ZsxewClo\n",
       "zz0JBc18huw6YZzvbdEKNxIX4yeU7n76BdFu+IMf5z/IMHYXuR8jX6nbIeVzaG/bDu25F6Ifpi1w\n",
       "KQrZqykY+0+oisYpNDSWvIOUF+AkdJEAWS0v8d97FbogXkBDpR6MllaFP/6PyBmnPGRYm573+qno\n",
       "pAlmht8RvVK3R3vrcSGPOxPZa8JgLNomOBTQNKrg9Y7kbBrDafm3bc2YPdHW1KELwmjgUBRf/7tQ\n",
       "/it9Rye29KZiqUFJ6aNL/PxtRFshpbGZuga4mQ3DDAv3tIfRUCEO9x8HUVXB2GPzxvgHipv20EkS\n",
       "jHWQ/97AVRcca/tGZN0NXVAKjYad0HL0ZjSLX4aS/x9HitURXWC/lPeZA4heqUEn9TdCHvNV9J2E\n",
       "RU/03Tm06hpb8Hrwmwyn5d+22DHzFf5mdBEMY+t7K424FssduKc/RqllWXqiJUklWY+WrYUU7mkL\n",
       "25cu9e8LZ88VeX9PR0vl3mj2bYNm1l3914NoqOBYjX1vv/fft7Lg+c3RCuLXyED1PWRE2gkp+yh0\n",
       "wXk/7zPrGxk/Cj4nfM9FJxp+t+XyGZopj0bnXaGRqTGbRlO/bbFj5pdLegR9V2G0MP6cRhKbylXq\n",
       "XkjwUhXzbaKxerfEXcDsCMb9BLkaPkNL4R8gJZxWxBjnoH301ILnAwvzyEY+0x6V9IHc/ruSDCK3\n",
       "vQiLhYQThHRgweNr0UpoAsXFsuf/tuWMuRSV1fq0iGM3RT+0JWxAuUrdHVVbbKpyZku8goxFlWY9\n",
       "8l0fGfK4/VHCwUi0n7oSzbjFfM+zUCDK72lYUyvoFPEtGhqlpqJihIH3YOdGxozSor8JCsYJu/PI\n",
       "PMK54O/DhnEKT6G97fIixgl+2/oyx9wYZb6VqjOFY31Q+GS5St2G8oT7M9rbRlV+Jpi9CpsK9ECW\n",
       "1fxm4oFlM1CA4DPB8iYoEl9o5e2W9/rXUBGH/v5z+6ITPig6MBwtu4Jj5S+dgvFrkJvvPfT9BJbV\n",
       "t1HS/CRkcf0yyjHfDl0c56BKld9H32kN2p+D8nGjKu10IvIOlBtVWMjD5OQvh3fR9xjMoB76PW6i\n",
       "YQnrYGuUH1/e2G9bzJgBm/v3HVHYaxh2pP4o+KTc4JwN+CIqXFAO1yODT9hMRUtsh074u5Bh7n60\n",
       "F/mU3EVtJKr8EVg4B6B9t0OWysG+jA5Z7HuiH/9qtLS+BC2zx/vjtUXhqIvR0mw4OhEeQ/vrmf5Y\n",
       "t6HKLdugEFmHDGADUSEA5783mH17+Z/5FM1k59LQT9nfl3MJcpOd4v+/hxJNmamh6H+MIqpsC2Qr\n",
       "6NfSG1sgMHh+jL67O5DLLz/bazC53/9GZPht6rdt7ZiQM7j9Hp1HNyDjWRh8CyW5hM7OaO9TDn3Q\n",
       "Vf648sUxKkgN8CCy5kbFTBQ/kFbCjjoMqEE+9Uh0ZiLhGEj2Q7Pn7iGMZUSPB/wW+eJ7RHicfZBh\n",
       "qn9Lb0woUSn1N9FEGMmWKozld8AJmGKnAQ8FzcyjcUt82NyJulmkkYORUocZmBNkrkVWbXQs4bal\n",
       "OR5Zi08OcUwjPDZCe/b3qYxCg/a7nxFB5FTEbIkMlw5dlMJQ7LbIX35PCGM1ycZI6PYtvbEI9kBL\n",
       "+r8Rb00soyFfRMvtB4g4Qb8R9kAX+70qfNwk4aGw1VeIuEZbEHwSdqWSQcgIsxBF62S1DGwa6I0i\n",
       "pVahRJi4fotj0PZs35iOHye1wB+QTzryhgXtkFJvEsHYHoon/hAFZIThszRaTyfkEvsEJcSUGt8f\n",
       "Joej0M2j4hakgnRBTQ/nUsEOJEuINiqsG4qjXoqSF77U/NuNMumKMtY+Rmm1heGqcbMv2mNfS/Yb\n",
       "OmyJlttPUOGupa9Qmbrc3dDJ9inKez6DcILiDTEaBbx8goJ2Dif8HOmwGIHy0V+n/Ao2SaQtasH8\n",
       "OQpGatf828PnfipbMrYrcn89h5ZiN6AQvcJQUKNl+qAAhseQF+MvKOItiVU0C2mHwmSDc6DS1Uaj\n",
       "Yg90UZ1DjO7da6lcFcVCvoDKuixEM/h1KGDBWtg2zSDkHpqO4vafR6uecsMx42IkCgFehUI1yy1V\n",
       "HRd1yAW2DMX+x3oO/4zou122RC26ql2D9oIrkevldBRXnYaZJyo6ITvEpah3twOeQZUwK+VrrgRf\n",
       "QLHaa1A8dhqaQXRARr9nUXbXRSRkS/lNwk+7K5cRaEvwAFLwJagW2IWou0GW/d8D0f94IfqfV6Gc\n",
       "29vRUntI0x/NBKNQfbPlKLPtQpJhuQ/I7w2+EFm1z0Du4VAIYwbbEe2ru5HMipidUfL6jv5te3Q1\n",
       "fAvtXV4CXvRvb6Gc2DTQDZ2sY1Gm1xhgaxSY8BpyAz7h314hmb9NlHRHGVEHI3fom+g8vR+ldRZW\n",
       "tomSYWgluad/71AW4G1oyR1qhZowlLoHcjEMQfHAaWAEUoAxSCHGkgu6fx8pd3Cbh4Ln56MZb4NK\n",
       "ExHQHhmxBqHorQEofXMEiuIbgS5My5Db6cW823NoZWLk6I0UKrj1Qxe+p9BW5DVkmHqP8hSsA9rS\n",
       "jETuqAn+rR+yXQQXlUeIcPIIa6/5EcrZ/U9I48VBe3IKk38bhJSqL7Kwr0VunyXId74k7++1yBob\n",
       "xMOv85+vpWFts64oD7qz/3xX/76Hfwu2B5+j4JuPUT72W2i5FlxwPqT6ZuAw2JScwm2LqpgMRL/b\n",
       "e2hZvBAlK32OtnBBVZMgRLMb+v36oCyy4CJcj5b9ryC321P+fRjli1pFWEo9g1yieJbpi/Zs96GW\n",
       "MAvJKWRwC3y77dgwaT6/lttKdMIs9Z9f5t8WIyX+0H/dqAxd0Aw7GM3s/f37LkhPghTTevQ7OXRx\n",
       "D5T/IxQb/w7hlCqKnYupXB+huPkNjXf3MIxM8XVkcMo6o9ASLezC9YaRODZF+8esNwW/E0UvGUbm\n",
       "8dD+YmLcgkRIHTKCZSUc0TBa5N/kSqhmDQ9ZMdNcBM8wiuYsym87mlQOQxbpqLpzGkYi2QW5Y5Ka\n",
       "rlcqHZCbwkoYG1VHO+RXjarbRlyciQIJImnubRhJ50HUGC4r9EGrD6u2YlQtP6a4Do9J57foQmUY\n",
       "Vct2KPwxC7WjRqNAk6xtJwyjKDxUxnSfuAUJgXtRnWXDqHquQ32Z08xkFGiS9YIChtEqpiIXUFpL\n",
       "CNWgVLlzY5bDMBJDFzTLpTXp4UiURpf1OHbDKIq7UHP2tNERJckfHbcghpE0jkCF1tPGT4AXyF5U\n",
       "nGGUTU9UqnXLuAUpgr6oLNGecQtiGEnln6Qrq+n3SGbDMJrgUFSALQ1W8M1Rfeyt4hbEMJJMZ1Sg\n",
       "bae4BWkF04DfxS2EYaSBW4Cr4haiBXZFF58BcQtiGGlgb1Q+tUPcgjRBLerScVbcghhGWqhB++pD\n",
       "4xakCY5BHTgK63MbhtEMZ6E2I0mjCyqYf0TcghhG2uiPfNZj4hakgPNQf6OauAUxjDTyd5LVkmcg\n",
       "6ou0e9yCGEZa2ROVBUrK3vVa4J64hTCMNOMBb6AG9QEDUf/gqLkI2CPv8daookmaQlgNI5GcgRqh\n",
       "j0Qz5VrUqifKKp09UHfCemA6UuT7Sb7v3DBSQR0qiF+PQjKdfxsc4TF3RkY6R+4isoLkGe0MI1Xs\n",
       "jGbHenIKFtzWANtHeOwTkUEs/5gr0UXll1ghBMMommOQIq2joWIFt+VEu6++upljrwQWABtHeHzD\n",
       "qDhR+2j/BryIlr5NMSjC40+g+f/xHdSt0zCMIuiBFDt/H52//D4/wmMva+SYwSx9HypfZBhGCfQA\n",
       "XqJxxb4lomMObORYDrmzrsYiyQyjbPogX3WhYj8W0fH2QjNy/rHWovBQwzBCoi/wJpotA0V7J6Jj\n",
       "nYa6cDpgPVLoQyI6lmFUNX2BueQU+/OIjnMTUuZ6NGPvFdFxDMNAFu/30OzpiCYm/BWk1IuAsRGM\n",
       "bxiJJM6igEOAJ5CC74IMVyP8x73zbh3IBYl0RrPuemQ5/xxYiiLVFvm3t1BhhmdQAYRd0QXEMKqC\n",
       "Sit1LUqoGI/a8uyAQjZrkL94LipcsABYiJR0BZrRl+eN0wYpei055e+Fcrc3Bob6r72PlPtZ/34W\n",
       "8FmE/59hxE4llHoTYF/USbIOaI+KEwSKNhsp8+IQj9kWGIZ6TG/n38YhN9dzqJH8A8BMmg+MMQzD\n",
       "ZyRwNlLeelTO6FxgItAuPrEYgUJXb0ErgU+B69FFJ8psMcNIJe2Bg9EsuBYlcRyHrN1JpBbYDQWi\n",
       "fAx8APwUzfCGUdW0R8r7PtoPXwgMj1OgEqhFpY1uRwa424EtYpXIMGKgFjgBmA+8ChxONpawW6Dl\n",
       "+Rrgz8hKbxiZ54vI0PUeitLKYhz1ZsA/kNvsLLQiMYzM0Ra4APmKf0ZyCglGyR5oJfIssqYbRmYY\n",
       "BDwJvIZcRNVER2RQW05yu40YRlGMQUvtv1Ads3NTHIAU+8dxC2IY5TAWRWFdRDb3zsWyPYp4+1Xc\n",
       "ghhGKQxD/tsL4hYkYWyFLnSnxC2IYRRDWxTGeSPxJn4EeCRrpTARxaXvGrcghtFafoaMYp3KGOMr\n",
       "qIyRAx5HdcH+5d+3Nr95B+AatKfftAxZouAHKOimR9yCGEZLDEdFDHYIYazjkVKP8h97wCRUFPCc\n",
       "Vo5xpj9G0pS6FqWP2vbESDxXAXeGNNYUGlfIn6J6ZW1bMcb+TYyRBPYAlgA94xbEMKDxPWoH4Ehk\n",
       "7Y6SOShKqzUuMhexLOXwAKq7ZvXPjETQmFJPQr7YJyI+9nYot3kxWpIfg/bOVwF30XJ213bA71Hj\n",
       "venA1LzXvod6Yn8beBg4uoXny+VOYO+QxjKM0Pk5SmQIi8Lld1ukTIuAHf3nTkDK5vm32cBvmxkD\n",
       "VIX0RP/vk1D6JMjd5FAPL5B1+phmng+DHdES3DBip7GsqkHAuxEc63coZrwdKgq4M7KudwB+jaK1\n",
       "gmX20ai4QkvjPeD/vRDN7H1Q7yyA76IiDTNQ3bJOTTwfBu8C3VCJpWUhjWkYoXEXcHqI4zVlKAvY\n",
       "1n99qxLGGI0qrFzjvz7cf/4P/uN5NFyWN/V8ubT3x7Vme0bsNLanXkxlLbm9/Pti+1SfivzEvwam\n",
       "Fbx2LHAYWhXcjnzuzT1fLhv599Zsz0gkv0RRZGHRkjtqiP/6Xwqen1Lwd/4Ym/uPg2yxYOk+HO1v\n",
       "g6byPYCHUMGDPZp4vkuR/09jTCC6pgSGURSNzdSPo8qfYYWGDvTvm4pMex+4AzgI+CNS0CuRmygg\n",
       "+GxQtLC/f78vKgccWJ6HA1sC3/EfL0Yz8lKgexPPryry/2mMyeh7M4xE0gWd6GHkTO8GPI1m0WnA\n",
       "EU28rztwM0qSeA34at5r45D7ySGlH4os6Pcg5bwWKfO7qNneCcjIdgWyDdyNmgVMaeL5MHgUbQcM\n",
       "I7HcQHQtZrPG9siqPyBuQQyjOUaj/eaYlt5Y5XjIrXZF3IIYRmu4AtXlirP4ftI5HhVM6Be3IIbR\n",
       "GjoBrwOXxi1IQtkaGdr2j1sQwyiGLZDv9bS4BUkYQ1B+9y/iFsQwSmEX5IP9ftyCJITRqFXutSSj\n",
       "IoxhlMQX0Yz9G7LRhaNUJqLv4QqSVVrJMEpiNPAGSskcEbMslaYWVWlZiW1FjIzRBS07l6Cc5GqY\n",
       "tbdB0WJvkUsVNYzMMQXlM7+AQiSzSG9UsGEV2nZ0i1ccw4ieTsB5qErKTNQKNgv0R5lfwf+1dazS\n",
       "GEYM9EHVNJeiYJXjUbGAtLEzyk5bCfwHlXUyjKqmJ6oB9jKq/nE9qvvdIUaZWmILVGQhkPkPwPhY\n",
       "JTKMhLIz2o9+iGbwv6AZfGScQiFD3z7Axaik0hrg36hWme2ZjUwQdfBEDbATUqRdURrlfOC/aKn+\n",
       "LPAi6tcVNp2RG267gtsC4EGUiHEv8GkExzaM2Kh0RFR3FKE2npySDUI9qeb6t3mo0ugiFOixFM2o\n",
       "a1BkWxtye/Ye/t99yBUeHIEqpPRH++MXyF1AHkcN5A0jsyQhzLEHUsJN/NsA5E7q5993RsEf+cvj\n",
       "1ehCsA5VEg0uAh+hYglzUeWUeeSqixqGYRiGYRiGYRiGYRhGk/w/JN9QbtdmWAwAAAAASUVORK5C\n",
       "YII=\n",
       "\"/></div></td></tr><tr><td style=\"border-top:hidden;border-bottom:hidden;\"><div align=\"center\"><small>Learned Bayesian Network</small></div></td><td style=\"border-top:hidden;border-bottom:hidden;\"><div align=\"center\"><small>Markov blanket of 'Survived'</small></div></td></tr></table>"
      ],
      "text/plain": [
       "<IPython.core.display.HTML object>"
      ]
     },
     "metadata": {},
     "output_type": "display_data"
    }
   ],
   "source": [
    "gnb.sideBySide(bn, gum.MarkovBlanket(bn, 'Survived'), captions=[\"Learned Bayesian Network\", \"Markov blanket of 'Survived'\"])"
   ]
  },
  {
   "cell_type": "markdown",
   "metadata": {},
   "source": [
    "The Markov Blanket of the `Survived` variable tells us that we only need to observe all other variables except for `decade` in order to predict `Survived`. Not really usefull here but on larger Bayesian Networks it can save you a lot of time and CPU.\n",
    "\n",
    "So how to use this BayesNet we have learned as a classifier ? We simply infer the posterior the `Survive` variable given the set of evidence we are given, and if the passanger odds of survival are above some value he will be taged as a survivor.\n",
    "\n",
    "To compute the best value given the BayesNet and our training database, we can use the `showROC()` function."
   ]
  },
  {
   "cell_type": "code",
   "execution_count": 20,
   "metadata": {
    "scrolled": true
   },
   "outputs": [
    {
     "name": "stdout",
     "output_type": "stream",
     "text": [
      " res/titanic/post_train.csv : [ ############################################## ] 100%es/titanic/post_train.csv : [ ###############                                ] 33%res/titanic/post_train.csv : [ #################                              ] 37%res/titanic/post_train.csv : [ ####################                           ] 43%res/titanic/post_train.csv : [ #####################                          ] 46%res/titanic/post_train.csv : [ ######################                         ] 47%res/titanic/post_train.csv : [ ###########################################    ] 93%\n",
      " result in res/titanic/post_train.csv-ROC_unnamed-Survived-1.png\n"
     ]
    },
    {
     "data": {
      "image/png": "[encoded data removed]",
      "text/plain": [
       "<matplotlib.figure.Figure at 0x7f7e18b14588>"
      ]
     },
     "metadata": {},
     "output_type": "display_data"
    }
   ],
   "source": [
    "from pyAgrum.lib.bn2roc import showROC\n",
    "\n",
    "showROC(bn, os.path.join('res', 'titanic', 'post_train.csv'),'Survived',\"1\",True,True)"
   ]
  },
  {
   "cell_type": "code",
   "execution_count": 21,
   "metadata": {},
   "outputs": [
    {
     "data": {
      "text/plain": [
       "True Positive     0.588517\n",
       "True Negative     0.351675\n",
       "False Negative    0.047847\n",
       "False Positive    0.011962\n",
       "dtype: float64"
      ]
     },
     "execution_count": 21,
     "metadata": {},
     "output_type": "execute_result"
    }
   ],
   "source": [
    "vars = [ var for var in ptestdf.keys() if var != \"Survived\" ]\n",
    "ie=gum.LazyPropagation(bn)\n",
    "testdf=pandas.read_csv(os.path.join('res', 'titanic', 'post_test.csv'))\n",
    "\n",
    "def init_belief():\n",
    "    # Initialize evidence\n",
    "    for var in vars:\n",
    "        ie.addEvidence(var, 0)\n",
    "\n",
    "def update_beliefs(row):\n",
    "    # Update beliefs from a given row less the Survived variable\n",
    "    for var in vars:\n",
    "        label = str(row.to_dict()[var])\n",
    "        idx = bn.variable(var).index(str(row.to_dict()[var]))\n",
    "        ie.chgEvidence(var, idx)\n",
    "    ie.makeInference()\n",
    "    \n",
    "def is_well_predicted(row):\n",
    "    update_beliefs(row)\n",
    "    marginal = ie.posterior('Survived')\n",
    "    outcome = row.to_dict()['Survived']\n",
    "    if outcome == 0: # Did not survived\n",
    "        if marginal.toarray()[1] < 0.46576681:\n",
    "            return \"True Positive\"\n",
    "        else:\n",
    "            return \"False Negative\"\n",
    "    else: # Survived\n",
    "        if marginal.toarray()[1] >= 0.46576681:\n",
    "            return \"True Negative\"\n",
    "        else:\n",
    "            return \"False Positive\"\n",
    "\n",
    "init_belief()\n",
    "ie.addTarget('Survived')\n",
    "\n",
    "result = testdf.apply(is_well_predicted, axis=1)\n",
    "\n",
    "result.value_counts(True)"
   ]
  },
  {
   "cell_type": "code",
   "execution_count": 24,
   "metadata": {},
   "outputs": [
    {
     "name": "stdout",
     "output_type": "stream",
     "text": [
      "94.02% good predictions\n"
     ]
    },
    {
     "name": "stderr",
     "output_type": "stream",
     "text": [
      "/home/phw/virtualenvs/devAgrum/lib/python3.4/site-packages/ipykernel_launcher.py:1: FutureWarning: 'select' is deprecated and will be removed in a future release. You can use .loc[labels.map(crit)] as a replacement\n",
      "  \"\"\"Entry point for launching an IPython kernel.\n"
     ]
    }
   ],
   "source": [
    "positives=result.select(lambda idx: result[idx].startswith(\"True\")).count()\n",
    "\n",
    "total=result.count()\n",
    "\n",
    "print(\"{0:.2f}% good predictions\".format(positives/total*100))"
   ]
  },
  {
   "cell_type": "code",
   "execution_count": null,
   "metadata": {},
   "outputs": [],
   "source": []
  }
 ],
 "metadata": {
  "hide_input": false,
  "kernelspec": {
   "display_name": "Python 3",
   "language": "python",
   "name": "python3"
  },
  "language_info": {
   "codemirror_mode": {
    "name": "ipython",
    "version": 3
   },
   "file_extension": ".py",
   "mimetype": "text/x-python",
   "name": "python",
   "nbconvert_exporter": "python",
   "pygments_lexer": "ipython3",
   "version": "3.4.6"
  }
 },
 "nbformat": 4,
 "nbformat_minor": 2
}
