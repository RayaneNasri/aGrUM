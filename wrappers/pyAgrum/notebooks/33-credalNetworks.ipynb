{
 "cells": [
  {
   "cell_type": "markdown",
   "metadata": {},
   "source": [
    "<a href=\"http://agrum.org\" target=\"blank\"><img src=\"http://agrum.gitlab.io/theme/img/logoAgrum.png\" align=\"left\" style=\"height:100px\"/></a><a rel=\"license\" href=\"http://creativecommons.org/licenses/by-nc/4.0/\"><img alt=\"Creative Commons License\" style=\"border-width:0\" src=\"https://i.creativecommons.org/l/by-nc/4.0/88x31.png\" /></a><br /><span xmlns:dct=\"http://purl.org/dc/terms/\" href=\"http://purl.org/dc/dcmitype/Dataset\" property=\"dct:title\" rel=\"dct:type\">This pyAgrum's notebook</span> is licensed under a <a rel=\"license\" href=\"http://creativecommons.org/licenses/by-nc/4.0/\">Creative Commons Attribution-NonCommercial 4.0 International License</a>."
   ]
  },
  {
   "cell_type": "code",
   "execution_count": 1,
   "metadata": {
    "ExecuteTime": {
     "end_time": "2019-02-21T16:59:25.660175Z",
     "start_time": "2019-02-21T16:59:25.423637Z"
    }
   },
   "outputs": [],
   "source": [
    "import os\n",
    "\n",
    "%matplotlib inline\n",
    "from pylab import *\n",
    "import matplotlib.pyplot as plt"
   ]
  },
  {
   "cell_type": "code",
   "execution_count": 2,
   "metadata": {
    "ExecuteTime": {
     "end_time": "2019-02-21T16:59:25.671055Z",
     "start_time": "2019-02-21T16:59:25.662460Z"
    }
   },
   "outputs": [
    {
     "data": {
      "text/html": [
       "<table width='100%'><tr><th>Library</th><th>Version</th></tr><tr><td>OS</td><td>posix [linux]</td></tr><tr><td>Python</td><td>3.7.2 (default, Jan 10 2019, 23:51:51) \n",
       "[GCC 8.2.1 20181127]</td></tr><tr><td>IPython</td><td>7.3.0</td></tr><tr><td>MatPlotLib</td><td>3.0.2</td></tr><tr><td>Numpy</td><td>1.16.1</td></tr><tr><td>pyAgrum</td><td>0.14.1.9</td></tr></table><div align='right'><small>Thu Feb 21 17:59:25 2019 CET</small></div>"
      ],
      "text/plain": [
       "<IPython.core.display.HTML object>"
      ]
     },
     "metadata": {},
     "output_type": "display_data"
    }
   ],
   "source": [
    "import pyAgrum as gum\n",
    "import pyAgrum.lib.notebook as gnb\n",
    "gnb.configuration()"
   ]
  },
  {
   "cell_type": "markdown",
   "metadata": {},
   "source": [
    "## Static Credal Net"
   ]
  },
  {
   "cell_type": "code",
   "execution_count": 3,
   "metadata": {
    "ExecuteTime": {
     "end_time": "2019-02-21T16:59:25.677107Z",
     "start_time": "2019-02-21T16:59:25.673090Z"
    }
   },
   "outputs": [],
   "source": [
    "cn=gum.CredalNet(os.path.join(\"res\",\"cn/2Umin.bif\"),os.path.join(\"res\",\"cn/2Umax.bif\"))"
   ]
  },
  {
   "cell_type": "code",
   "execution_count": 4,
   "metadata": {
    "ExecuteTime": {
     "end_time": "2019-02-21T16:59:25.683081Z",
     "start_time": "2019-02-21T16:59:25.678635Z"
    }
   },
   "outputs": [],
   "source": [
    "cn.intervalToCredal()"
   ]
  },
  {
   "cell_type": "code",
   "execution_count": 5,
   "metadata": {
    "ExecuteTime": {
     "end_time": "2019-02-21T16:59:27.957551Z",
     "start_time": "2019-02-21T16:59:25.684708Z"
    }
   },
   "outputs": [
    {
     "data": {
      "text/html": [
       "<svg height=\"202pt\" viewBox=\"0.00 0.00 216.00 202.01\" width=\"216pt\" xmlns=\"http://www.w3.org/2000/svg\" xmlns:xlink=\"http://www.w3.org/1999/xlink\">\n",
       "<g class=\"graph\" id=\"graph0\" transform=\"scale(.777 .777) rotate(0) translate(4 256)\">\n",
       "<title>G</title>\n",
       "<!-- A -->\n",
       "<g class=\"node\" id=\"node1\">\n",
       "<title>A</title>\n",
       "<g id=\"a_node1\"><a xlink:title=\"(0) A\">\n",
       "<ellipse cx=\"27\" cy=\"-234\" fill=\"#444444\" rx=\"27\" ry=\"18\" stroke=\"#000000\"/>\n",
       "<text fill=\"#ffffff\" font-family=\"Times,serif\" font-size=\"14.00\" text-anchor=\"middle\" x=\"27\" y=\"-230.3\">A</text>\n",
       "</a>\n",
       "</g>\n",
       "</g>\n",
       "<!-- E -->\n",
       "<g class=\"node\" id=\"node5\">\n",
       "<title>E</title>\n",
       "<g id=\"a_node5\"><a xlink:title=\"(4) E\">\n",
       "<ellipse cx=\"99\" cy=\"-162\" fill=\"#444444\" rx=\"27\" ry=\"18\" stroke=\"#000000\"/>\n",
       "<text fill=\"#ffffff\" font-family=\"Times,serif\" font-size=\"14.00\" text-anchor=\"middle\" x=\"99\" y=\"-158.3\">E</text>\n",
       "</a>\n",
       "</g>\n",
       "</g>\n",
       "<!-- A&#45;&gt;E -->\n",
       "<g class=\"edge\" id=\"edge5\">\n",
       "<title>A-&gt;E</title>\n",
       "<g id=\"a_edge5\"><a xlink:title=\"(0, 4) : \">\n",
       "<path d=\"M42.2693,-218.7307C52.197,-208.803 65.3153,-195.6847 76.4363,-184.5637\" fill=\"none\" stroke=\"#000000\"/>\n",
       "<polygon fill=\"#000000\" points=\"79.1564,-186.7933 83.7527,-177.2473 74.2067,-181.8436 79.1564,-186.7933\" stroke=\"#000000\"/>\n",
       "</a>\n",
       "</g>\n",
       "</g>\n",
       "<!-- B -->\n",
       "<g class=\"node\" id=\"node2\">\n",
       "<title>B</title>\n",
       "<g id=\"a_node2\"><a xlink:title=\"(1) B\">\n",
       "<ellipse cx=\"99\" cy=\"-234\" fill=\"#444444\" rx=\"27\" ry=\"18\" stroke=\"#000000\"/>\n",
       "<text fill=\"#ffffff\" font-family=\"Times,serif\" font-size=\"14.00\" text-anchor=\"middle\" x=\"99\" y=\"-230.3\">B</text>\n",
       "</a>\n",
       "</g>\n",
       "</g>\n",
       "<!-- B&#45;&gt;E -->\n",
       "<g class=\"edge\" id=\"edge3\">\n",
       "<title>B-&gt;E</title>\n",
       "<g id=\"a_edge3\"><a xlink:title=\"(1, 4) : \">\n",
       "<path d=\"M99,-215.8314C99,-208.131 99,-198.9743 99,-190.4166\" fill=\"none\" stroke=\"#000000\"/>\n",
       "<polygon fill=\"#000000\" points=\"102.5001,-190.4132 99,-180.4133 95.5001,-190.4133 102.5001,-190.4132\" stroke=\"#000000\"/>\n",
       "</a>\n",
       "</g>\n",
       "</g>\n",
       "<!-- C -->\n",
       "<g class=\"node\" id=\"node3\">\n",
       "<title>C</title>\n",
       "<g id=\"a_node3\"><a xlink:title=\"(2) C\">\n",
       "<ellipse cx=\"171\" cy=\"-234\" fill=\"#444444\" rx=\"27\" ry=\"18\" stroke=\"#000000\"/>\n",
       "<text fill=\"#ffffff\" font-family=\"Times,serif\" font-size=\"14.00\" text-anchor=\"middle\" x=\"171\" y=\"-230.3\">C</text>\n",
       "</a>\n",
       "</g>\n",
       "</g>\n",
       "<!-- F -->\n",
       "<g class=\"node\" id=\"node6\">\n",
       "<title>F</title>\n",
       "<g id=\"a_node6\"><a xlink:title=\"(5) F\">\n",
       "<ellipse cx=\"171\" cy=\"-162\" fill=\"#444444\" rx=\"27\" ry=\"18\" stroke=\"#000000\"/>\n",
       "<text fill=\"#ffffff\" font-family=\"Times,serif\" font-size=\"14.00\" text-anchor=\"middle\" x=\"171\" y=\"-158.3\">F</text>\n",
       "</a>\n",
       "</g>\n",
       "</g>\n",
       "<!-- C&#45;&gt;F -->\n",
       "<g class=\"edge\" id=\"edge6\">\n",
       "<title>C-&gt;F</title>\n",
       "<g id=\"a_edge6\"><a xlink:title=\"(2, 5) : \">\n",
       "<path d=\"M171,-215.8314C171,-208.131 171,-198.9743 171,-190.4166\" fill=\"none\" stroke=\"#000000\"/>\n",
       "<polygon fill=\"#000000\" points=\"174.5001,-190.4132 171,-180.4133 167.5001,-190.4133 174.5001,-190.4132\" stroke=\"#000000\"/>\n",
       "</a>\n",
       "</g>\n",
       "</g>\n",
       "<!-- D -->\n",
       "<g class=\"node\" id=\"node4\">\n",
       "<title>D</title>\n",
       "<g id=\"a_node4\"><a xlink:title=\"(3) D\">\n",
       "<ellipse cx=\"243\" cy=\"-234\" fill=\"#444444\" rx=\"27\" ry=\"18\" stroke=\"#000000\"/>\n",
       "<text fill=\"#ffffff\" font-family=\"Times,serif\" font-size=\"14.00\" text-anchor=\"middle\" x=\"243\" y=\"-230.3\">D</text>\n",
       "</a>\n",
       "</g>\n",
       "</g>\n",
       "<!-- D&#45;&gt;F -->\n",
       "<g class=\"edge\" id=\"edge8\">\n",
       "<title>D-&gt;F</title>\n",
       "<g id=\"a_edge8\"><a xlink:title=\"(3, 5) : \">\n",
       "<path d=\"M227.7307,-218.7307C217.803,-208.803 204.6847,-195.6847 193.5637,-184.5637\" fill=\"none\" stroke=\"#000000\"/>\n",
       "<polygon fill=\"#000000\" points=\"195.7933,-181.8436 186.2473,-177.2473 190.8436,-186.7933 195.7933,-181.8436\" stroke=\"#000000\"/>\n",
       "</a>\n",
       "</g>\n",
       "</g>\n",
       "<!-- G -->\n",
       "<g class=\"node\" id=\"node7\">\n",
       "<title>G</title>\n",
       "<g id=\"a_node7\"><a xlink:title=\"(6) G\">\n",
       "<ellipse cx=\"243\" cy=\"-162\" fill=\"#444444\" rx=\"27\" ry=\"18\" stroke=\"#000000\"/>\n",
       "<text fill=\"#ffffff\" font-family=\"Times,serif\" font-size=\"14.00\" text-anchor=\"middle\" x=\"243\" y=\"-158.3\">G</text>\n",
       "</a>\n",
       "</g>\n",
       "</g>\n",
       "<!-- D&#45;&gt;G -->\n",
       "<g class=\"edge\" id=\"edge4\">\n",
       "<title>D-&gt;G</title>\n",
       "<g id=\"a_edge4\"><a xlink:title=\"(3, 6) : \">\n",
       "<path d=\"M243,-215.8314C243,-208.131 243,-198.9743 243,-190.4166\" fill=\"none\" stroke=\"#000000\"/>\n",
       "<polygon fill=\"#000000\" points=\"246.5001,-190.4132 243,-180.4133 239.5001,-190.4133 246.5001,-190.4132\" stroke=\"#000000\"/>\n",
       "</a>\n",
       "</g>\n",
       "</g>\n",
       "<!-- H -->\n",
       "<g class=\"node\" id=\"node8\">\n",
       "<title>H</title>\n",
       "<g id=\"a_node8\"><a xlink:title=\"(7) H\">\n",
       "<ellipse cx=\"135\" cy=\"-90\" fill=\"#444444\" rx=\"27\" ry=\"18\" stroke=\"#000000\"/>\n",
       "<text fill=\"#ffffff\" font-family=\"Times,serif\" font-size=\"14.00\" text-anchor=\"middle\" x=\"135\" y=\"-86.3\">H</text>\n",
       "</a>\n",
       "</g>\n",
       "</g>\n",
       "<!-- E&#45;&gt;H -->\n",
       "<g class=\"edge\" id=\"edge1\">\n",
       "<title>E-&gt;H</title>\n",
       "<g id=\"a_edge1\"><a xlink:title=\"(4, 7) : \">\n",
       "<path d=\"M107.7146,-144.5708C111.9597,-136.0807 117.1536,-125.6929 121.8663,-116.2674\" fill=\"none\" stroke=\"#000000\"/>\n",
       "<polygon fill=\"#000000\" points=\"125.024,-117.7782 126.3657,-107.2687 118.763,-114.6477 125.024,-117.7782\" stroke=\"#000000\"/>\n",
       "</a>\n",
       "</g>\n",
       "</g>\n",
       "<!-- F&#45;&gt;H -->\n",
       "<g class=\"edge\" id=\"edge2\">\n",
       "<title>F-&gt;H</title>\n",
       "<g id=\"a_edge2\"><a xlink:title=\"(5, 7) : \">\n",
       "<path d=\"M162.2854,-144.5708C158.0403,-136.0807 152.8464,-125.6929 148.1337,-116.2674\" fill=\"none\" stroke=\"#000000\"/>\n",
       "<polygon fill=\"#000000\" points=\"151.237,-114.6477 143.6343,-107.2687 144.976,-117.7782 151.237,-114.6477\" stroke=\"#000000\"/>\n",
       "</a>\n",
       "</g>\n",
       "</g>\n",
       "<!-- L -->\n",
       "<g class=\"node\" id=\"node9\">\n",
       "<title>L</title>\n",
       "<g id=\"a_node9\"><a xlink:title=\"(8) L\">\n",
       "<ellipse cx=\"135\" cy=\"-18\" fill=\"#444444\" rx=\"27\" ry=\"18\" stroke=\"#000000\"/>\n",
       "<text fill=\"#ffffff\" font-family=\"Times,serif\" font-size=\"14.00\" text-anchor=\"middle\" x=\"135\" y=\"-14.3\">L</text>\n",
       "</a>\n",
       "</g>\n",
       "</g>\n",
       "<!-- H&#45;&gt;L -->\n",
       "<g class=\"edge\" id=\"edge7\">\n",
       "<title>H-&gt;L</title>\n",
       "<g id=\"a_edge7\"><a xlink:title=\"(7, 8) : \">\n",
       "<path d=\"M135,-71.8314C135,-64.131 135,-54.9743 135,-46.4166\" fill=\"none\" stroke=\"#000000\"/>\n",
       "<polygon fill=\"#000000\" points=\"138.5001,-46.4132 135,-36.4133 131.5001,-46.4133 138.5001,-46.4132\" stroke=\"#000000\"/>\n",
       "</a>\n",
       "</g>\n",
       "</g>\n",
       "</g>\n",
       "</svg>"
      ],
      "text/plain": [
       "<IPython.core.display.HTML object>"
      ]
     },
     "metadata": {},
     "output_type": "display_data"
    }
   ],
   "source": [
    "gnb.showBN(cn.current_bn(),\"3\")"
   ]
  },
  {
   "cell_type": "code",
   "execution_count": 6,
   "metadata": {
    "ExecuteTime": {
     "end_time": "2019-02-21T16:59:27.965223Z",
     "start_time": "2019-02-21T16:59:27.960266Z"
    }
   },
   "outputs": [],
   "source": [
    "ie=gum.CNMonteCarloSampling(cn)\n",
    "ie.insertEvidenceFile(os.path.join(\"res\",\"cn/L2U.evi\"))"
   ]
  },
  {
   "cell_type": "code",
   "execution_count": 7,
   "metadata": {
    "ExecuteTime": {
     "end_time": "2019-02-21T16:59:29.835229Z",
     "start_time": "2019-02-21T16:59:27.967610Z"
    }
   },
   "outputs": [],
   "source": [
    "ie.setRepetitiveInd(False)\n",
    "\n",
    "ie.setRepetitiveInd(False)\n",
    "ie.setMaxTime(1)\n",
    "ie.setMaxIter(1000)\n",
    "\n",
    "ie.makeInference()"
   ]
  },
  {
   "cell_type": "code",
   "execution_count": 8,
   "metadata": {
    "ExecuteTime": {
     "end_time": "2019-02-21T16:59:29.846096Z",
     "start_time": "2019-02-21T16:59:29.839536Z"
    }
   },
   "outputs": [
    {
     "name": "stdout",
     "output_type": "stream",
     "text": [
      "(0.6947076406118742, 0.5673865472999488)\n",
      "(0.4326134527000512, 0.30529235938812593)\n"
     ]
    }
   ],
   "source": [
    "print(ie.marginalMax(0))\n",
    "print(ie.marginalMin(0))"
   ]
  },
  {
   "cell_type": "markdown",
   "metadata": {},
   "source": [
    "## Dynamical Credal Net"
   ]
  },
  {
   "cell_type": "code",
   "execution_count": 9,
   "metadata": {
    "ExecuteTime": {
     "end_time": "2019-02-21T16:59:29.859691Z",
     "start_time": "2019-02-21T16:59:29.848536Z"
    }
   },
   "outputs": [],
   "source": [
    "cn=gum.CredalNet(os.path.join(\"res\",\"cn/bn_c_8.bif\"),os.path.join(\"res\",\"cn/den_c_8.bif\"))\n",
    "cn.bnToCredal(0.8,False)"
   ]
  },
  {
   "cell_type": "code",
   "execution_count": 10,
   "metadata": {
    "ExecuteTime": {
     "end_time": "2019-02-21T16:59:29.966907Z",
     "start_time": "2019-02-21T16:59:29.861486Z"
    }
   },
   "outputs": [],
   "source": [
    "ie=gum.CNMonteCarloSampling(cn)\n",
    "ie.insertModalsFile(os.path.join(\"res\",\"cn/modalities.modal\"))\n",
    "\n",
    "ie.setRepetitiveInd(True)\n",
    "ie.setMaxTime(30)\n",
    "ie.setMaxIter(1000)\n",
    "\n",
    "ie.makeInference()"
   ]
  },
  {
   "cell_type": "code",
   "execution_count": 11,
   "metadata": {
    "ExecuteTime": {
     "end_time": "2019-02-21T16:59:29.974500Z",
     "start_time": "2019-02-21T16:59:29.968798Z"
    }
   },
   "outputs": [
    {
     "name": "stdout",
     "output_type": "stream",
     "text": [
      "(14.20340463585978, 11.864395311233636, 12.190483111797988, 12.017742222303982, 12.004198613861337, 12.00832823667389, 12.007694290966164, 12.007688128877898, 12.00772208700393)\n"
     ]
    }
   ],
   "source": [
    "print(ie.dynamicExpMax(\"temp\"))"
   ]
  },
  {
   "cell_type": "code",
   "execution_count": 12,
   "metadata": {
    "ExecuteTime": {
     "end_time": "2019-02-21T16:59:30.242849Z",
     "start_time": "2019-02-21T16:59:29.976158Z"
    }
   },
   "outputs": [
    {
     "data": {
      "text/plain": [
       "<matplotlib.collections.PolyCollection at 0x7f1dc0087668>"
      ]
     },
     "execution_count": 12,
     "metadata": {},
     "output_type": "execute_result"
    },
    {
     "data": {
      "image/png": "[encoded data removed]",
      "text/plain": [
       "<Figure size 432x288 with 1 Axes>"
      ]
     },
     "metadata": {
      "needs_background": "light"
     },
     "output_type": "display_data"
    }
   ],
   "source": [
    "fig=figure()\n",
    "ax=fig.add_subplot(111)\n",
    "ax.fill_between(range(9),ie.dynamicExpMax(\"temp\"),ie.dynamicExpMin(\"temp\"))"
   ]
  },
  {
   "cell_type": "code",
   "execution_count": 13,
   "metadata": {
    "ExecuteTime": {
     "end_time": "2019-02-21T16:59:30.358011Z",
     "start_time": "2019-02-21T16:59:30.244553Z"
    }
   },
   "outputs": [],
   "source": [
    "ie=gum.CNMonteCarloSampling(cn)\n",
    "ie.insertModalsFile(os.path.join(\"res\",\"cn/modalities.modal\"))\n",
    "\n",
    "ie.setRepetitiveInd(False)\n",
    "ie.setMaxTime(30)\n",
    "ie.setMaxIter(1000)\n",
    "\n",
    "ie.makeInference()\n"
   ]
  },
  {
   "cell_type": "code",
   "execution_count": 14,
   "metadata": {
    "ExecuteTime": {
     "end_time": "2019-02-21T16:59:30.539102Z",
     "start_time": "2019-02-21T16:59:30.360134Z"
    }
   },
   "outputs": [
    {
     "data": {
      "text/plain": [
       "<matplotlib.collections.PolyCollection at 0x7f1dfcb88198>"
      ]
     },
     "execution_count": 14,
     "metadata": {},
     "output_type": "execute_result"
    },
    {
     "data": {
      "image/png": "[encoded data removed]",
      "text/plain": [
       "<Figure size 432x288 with 1 Axes>"
      ]
     },
     "metadata": {
      "needs_background": "light"
     },
     "output_type": "display_data"
    }
   ],
   "source": [
    "fig=figure()\n",
    "ax=fig.add_subplot(111)\n",
    "ax.fill_between(range(9),ie.dynamicExpMax(\"temp\"),ie.dynamicExpMin(\"temp\"))"
   ]
  },
  {
   "cell_type": "code",
   "execution_count": 15,
   "metadata": {
    "ExecuteTime": {
     "end_time": "2019-02-21T16:59:31.368792Z",
     "start_time": "2019-02-21T16:59:30.542525Z"
    }
   },
   "outputs": [
    {
     "data": {
      "text/plain": [
       "<matplotlib.collections.PolyCollection at 0x7f1dfcabaf98>"
      ]
     },
     "execution_count": 15,
     "metadata": {},
     "output_type": "execute_result"
    },
    {
     "data": {
      "image/png": "[encoded data removed]",
      "text/plain": [
       "<Figure size 432x288 with 1 Axes>"
      ]
     },
     "metadata": {
      "needs_background": "light"
     },
     "output_type": "display_data"
    },
    {
     "data": {
      "image/png": "[encoded data removed]",
      "text/plain": [
       "<Figure size 432x288 with 1 Axes>"
      ]
     },
     "metadata": {
      "needs_background": "light"
     },
     "output_type": "display_data"
    }
   ],
   "source": [
    "ie=gum.CNMonteCarloSampling(cn)\n",
    "ie.insertModalsFile(os.path.join(\"res\",\"cn/modalities.modal\"))\n",
    "\n",
    "ie.setRepetitiveInd(False)\n",
    "ie.setMaxTime(30)\n",
    "ie.setMaxIter(1000)\n",
    "\n",
    "gnb.animApproximationScheme(ie)\n",
    "ie.makeInference()\n",
    "\n",
    "fig=figure()\n",
    "ax=fig.add_subplot(111)\n",
    "ax.fill_between(range(9),ie.dynamicExpMax(\"temp\"),ie.dynamicExpMin(\"temp\"))\n"
   ]
  },
  {
   "cell_type": "code",
   "execution_count": null,
   "metadata": {},
   "outputs": [],
   "source": []
  }
 ],
 "metadata": {
  "hide_input": false,
  "kernelspec": {
   "display_name": "Python 3",
   "language": "python",
   "name": "python3"
  },
  "language_info": {
   "codemirror_mode": {
    "name": "ipython",
    "version": 3
   },
   "file_extension": ".py",
   "mimetype": "text/x-python",
   "name": "python",
   "nbconvert_exporter": "python",
   "pygments_lexer": "ipython3",
   "version": "3.7.2"
  }
 },
 "nbformat": 4,
 "nbformat_minor": 1
}
