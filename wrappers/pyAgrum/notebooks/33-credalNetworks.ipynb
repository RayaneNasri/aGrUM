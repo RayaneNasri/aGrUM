{
 "cells": [
  {
   "cell_type": "code",
   "execution_count": 1,
   "metadata": {
    "ExecuteTime": {
     "end_time": "2018-05-24T12:05:06.520544Z",
     "start_time": "2018-05-24T12:05:06.266971Z"
    }
   },
   "outputs": [],
   "source": [
    "import os\n",
    "\n",
    "%matplotlib inline\n",
    "from pylab import *\n",
    "import matplotlib.pyplot as plt"
   ]
  },
  {
   "cell_type": "code",
   "execution_count": 2,
   "metadata": {
    "ExecuteTime": {
     "end_time": "2018-05-24T12:05:06.532869Z",
     "start_time": "2018-05-24T12:05:06.522904Z"
    }
   },
   "outputs": [
    {
     "data": {
      "text/html": [
       "<table width='100%'><tr><th>Library</th><th>Version</th></tr><tr><td>OS</td><td>posix [linux]</td></tr><tr><td>Python</td><td>3.5.3 (default, Jan 19 2017, 14:11:04) \n",
       "[GCC 6.3.0 20170118]</td></tr><tr><td>IPython</td><td>6.3.1</td></tr><tr><td>MatPlotLib</td><td>2.2.2</td></tr><tr><td>Numpy</td><td>1.14.3</td></tr><tr><td>pyAgrum</td><td>0.12.0.9</td></tr></table><div align='right'><small>Thu May 24 14:05:06 2018 CEST</small></div>"
      ],
      "text/plain": [
       "<IPython.core.display.HTML object>"
      ]
     },
     "metadata": {},
     "output_type": "display_data"
    }
   ],
   "source": [
    "import pyAgrum as gum\n",
    "import pyAgrum.lib.notebook as gnb\n",
    "gnb.configuration()"
   ]
  },
  {
   "cell_type": "markdown",
   "metadata": {},
   "source": [
    "## Static Credal Net"
   ]
  },
  {
   "cell_type": "code",
   "execution_count": 3,
   "metadata": {
    "ExecuteTime": {
     "end_time": "2018-05-24T12:05:06.540021Z",
     "start_time": "2018-05-24T12:05:06.534993Z"
    }
   },
   "outputs": [],
   "source": [
    "cn=gum.CredalNet(os.path.join(\"res\",\"cn/2Umin.bif\"),os.path.join(\"res\",\"cn/2Umax.bif\"))"
   ]
  },
  {
   "cell_type": "code",
   "execution_count": 4,
   "metadata": {
    "ExecuteTime": {
     "end_time": "2018-05-24T12:05:06.546430Z",
     "start_time": "2018-05-24T12:05:06.541988Z"
    }
   },
   "outputs": [],
   "source": [
    "cn.intervalToCredal()"
   ]
  },
  {
   "cell_type": "code",
   "execution_count": 5,
   "metadata": {
    "ExecuteTime": {
     "end_time": "2018-05-24T12:05:06.704302Z",
     "start_time": "2018-05-24T12:05:06.548552Z"
    }
   },
   "outputs": [
    {
     "data": {
      "text/html": [
       "<svg height=\"202pt\" viewBox=\"0.00 0.00 216.00 202.01\" width=\"216pt\" xmlns=\"http://www.w3.org/2000/svg\" xmlns:xlink=\"http://www.w3.org/1999/xlink\">\n",
       "<g class=\"graph\" id=\"graph0\" transform=\"scale(0.776978 0.776978) rotate(0) translate(4 256)\">\n",
       "<title>G</title>\n",
       "<!-- A -->\n",
       "<g class=\"node\" id=\"node1\"><title>A</title>\n",
       "<g id=\"a_node1\"><a xlink:title=\"(0) A\">\n",
       "<ellipse cx=\"27\" cy=\"-234\" fill=\"#444444\" rx=\"27\" ry=\"18\" stroke=\"black\"/>\n",
       "<text fill=\"#ffffff\" font-family=\"Times,serif\" font-size=\"14.00\" text-anchor=\"middle\" x=\"27\" y=\"-230.3\">A</text>\n",
       "</a>\n",
       "</g>\n",
       "</g>\n",
       "<!-- E -->\n",
       "<g class=\"node\" id=\"node5\"><title>E</title>\n",
       "<g id=\"a_node5\"><a xlink:title=\"(4) E\">\n",
       "<ellipse cx=\"99\" cy=\"-162\" fill=\"#444444\" rx=\"27\" ry=\"18\" stroke=\"black\"/>\n",
       "<text fill=\"#ffffff\" font-family=\"Times,serif\" font-size=\"14.00\" text-anchor=\"middle\" x=\"99\" y=\"-158.3\">E</text>\n",
       "</a>\n",
       "</g>\n",
       "</g>\n",
       "<!-- A&#45;&gt;E -->\n",
       "<g class=\"edge\" id=\"edge5\"><title>A-&gt;E</title>\n",
       "<g id=\"a_edge5\"><a xlink:title=\"(0, 4) : \">\n",
       "<path d=\"M41.5703,-218.834C51.7499,-208.938 65.5239,-195.546 77.0306,-184.359\" fill=\"none\" stroke=\"black\"/>\n",
       "<polygon fill=\"black\" points=\"79.4741,-186.865 84.2043,-177.385 74.5945,-181.846 79.4741,-186.865\" stroke=\"black\"/>\n",
       "</a>\n",
       "</g>\n",
       "</g>\n",
       "<!-- B -->\n",
       "<g class=\"node\" id=\"node2\"><title>B</title>\n",
       "<g id=\"a_node2\"><a xlink:title=\"(1) B\">\n",
       "<ellipse cx=\"99\" cy=\"-234\" fill=\"#444444\" rx=\"27\" ry=\"18\" stroke=\"black\"/>\n",
       "<text fill=\"#ffffff\" font-family=\"Times,serif\" font-size=\"14.00\" text-anchor=\"middle\" x=\"99\" y=\"-230.3\">B</text>\n",
       "</a>\n",
       "</g>\n",
       "</g>\n",
       "<!-- B&#45;&gt;E -->\n",
       "<g class=\"edge\" id=\"edge3\"><title>B-&gt;E</title>\n",
       "<g id=\"a_edge3\"><a xlink:title=\"(1, 4) : \">\n",
       "<path d=\"M99,-215.697C99,-207.983 99,-198.712 99,-190.112\" fill=\"none\" stroke=\"black\"/>\n",
       "<polygon fill=\"black\" points=\"102.5,-190.104 99,-180.104 95.5001,-190.104 102.5,-190.104\" stroke=\"black\"/>\n",
       "</a>\n",
       "</g>\n",
       "</g>\n",
       "<!-- C -->\n",
       "<g class=\"node\" id=\"node3\"><title>C</title>\n",
       "<g id=\"a_node3\"><a xlink:title=\"(2) C\">\n",
       "<ellipse cx=\"171\" cy=\"-234\" fill=\"#444444\" rx=\"27\" ry=\"18\" stroke=\"black\"/>\n",
       "<text fill=\"#ffffff\" font-family=\"Times,serif\" font-size=\"14.00\" text-anchor=\"middle\" x=\"171\" y=\"-230.3\">C</text>\n",
       "</a>\n",
       "</g>\n",
       "</g>\n",
       "<!-- F -->\n",
       "<g class=\"node\" id=\"node6\"><title>F</title>\n",
       "<g id=\"a_node6\"><a xlink:title=\"(5) F\">\n",
       "<ellipse cx=\"171\" cy=\"-162\" fill=\"#444444\" rx=\"27\" ry=\"18\" stroke=\"black\"/>\n",
       "<text fill=\"#ffffff\" font-family=\"Times,serif\" font-size=\"14.00\" text-anchor=\"middle\" x=\"171\" y=\"-158.3\">F</text>\n",
       "</a>\n",
       "</g>\n",
       "</g>\n",
       "<!-- C&#45;&gt;F -->\n",
       "<g class=\"edge\" id=\"edge6\"><title>C-&gt;F</title>\n",
       "<g id=\"a_edge6\"><a xlink:title=\"(2, 5) : \">\n",
       "<path d=\"M171,-215.697C171,-207.983 171,-198.712 171,-190.112\" fill=\"none\" stroke=\"black\"/>\n",
       "<polygon fill=\"black\" points=\"174.5,-190.104 171,-180.104 167.5,-190.104 174.5,-190.104\" stroke=\"black\"/>\n",
       "</a>\n",
       "</g>\n",
       "</g>\n",
       "<!-- D -->\n",
       "<g class=\"node\" id=\"node4\"><title>D</title>\n",
       "<g id=\"a_node4\"><a xlink:title=\"(3) D\">\n",
       "<ellipse cx=\"243\" cy=\"-234\" fill=\"#444444\" rx=\"27\" ry=\"18\" stroke=\"black\"/>\n",
       "<text fill=\"#ffffff\" font-family=\"Times,serif\" font-size=\"14.00\" text-anchor=\"middle\" x=\"243\" y=\"-230.3\">D</text>\n",
       "</a>\n",
       "</g>\n",
       "</g>\n",
       "<!-- D&#45;&gt;F -->\n",
       "<g class=\"edge\" id=\"edge8\"><title>D-&gt;F</title>\n",
       "<g id=\"a_edge8\"><a xlink:title=\"(3, 5) : \">\n",
       "<path d=\"M228.43,-218.834C218.25,-208.938 204.476,-195.546 192.969,-184.359\" fill=\"none\" stroke=\"black\"/>\n",
       "<polygon fill=\"black\" points=\"195.405,-181.846 185.796,-177.385 190.526,-186.865 195.405,-181.846\" stroke=\"black\"/>\n",
       "</a>\n",
       "</g>\n",
       "</g>\n",
       "<!-- G -->\n",
       "<g class=\"node\" id=\"node7\"><title>G</title>\n",
       "<g id=\"a_node7\"><a xlink:title=\"(6) G\">\n",
       "<ellipse cx=\"243\" cy=\"-162\" fill=\"#444444\" rx=\"27\" ry=\"18\" stroke=\"black\"/>\n",
       "<text fill=\"#ffffff\" font-family=\"Times,serif\" font-size=\"14.00\" text-anchor=\"middle\" x=\"243\" y=\"-158.3\">G</text>\n",
       "</a>\n",
       "</g>\n",
       "</g>\n",
       "<!-- D&#45;&gt;G -->\n",
       "<g class=\"edge\" id=\"edge4\"><title>D-&gt;G</title>\n",
       "<g id=\"a_edge4\"><a xlink:title=\"(3, 6) : \">\n",
       "<path d=\"M243,-215.697C243,-207.983 243,-198.712 243,-190.112\" fill=\"none\" stroke=\"black\"/>\n",
       "<polygon fill=\"black\" points=\"246.5,-190.104 243,-180.104 239.5,-190.104 246.5,-190.104\" stroke=\"black\"/>\n",
       "</a>\n",
       "</g>\n",
       "</g>\n",
       "<!-- H -->\n",
       "<g class=\"node\" id=\"node8\"><title>H</title>\n",
       "<g id=\"a_node8\"><a xlink:title=\"(7) H\">\n",
       "<ellipse cx=\"135\" cy=\"-90\" fill=\"#444444\" rx=\"27\" ry=\"18\" stroke=\"black\"/>\n",
       "<text fill=\"#ffffff\" font-family=\"Times,serif\" font-size=\"14.00\" text-anchor=\"middle\" x=\"135\" y=\"-86.3\">H</text>\n",
       "</a>\n",
       "</g>\n",
       "</g>\n",
       "<!-- E&#45;&gt;H -->\n",
       "<g class=\"edge\" id=\"edge1\"><title>E-&gt;H</title>\n",
       "<g id=\"a_edge1\"><a xlink:title=\"(4, 7) : \">\n",
       "<path d=\"M107.35,-144.765C111.712,-136.283 117.147,-125.714 122.041,-116.197\" fill=\"none\" stroke=\"black\"/>\n",
       "<polygon fill=\"black\" points=\"125.235,-117.641 126.696,-107.147 119.01,-114.439 125.235,-117.641\" stroke=\"black\"/>\n",
       "</a>\n",
       "</g>\n",
       "</g>\n",
       "<!-- F&#45;&gt;H -->\n",
       "<g class=\"edge\" id=\"edge2\"><title>F-&gt;H</title>\n",
       "<g id=\"a_edge2\"><a xlink:title=\"(5, 7) : \">\n",
       "<path d=\"M162.65,-144.765C158.288,-136.283 152.853,-125.714 147.959,-116.197\" fill=\"none\" stroke=\"black\"/>\n",
       "<polygon fill=\"black\" points=\"150.99,-114.439 143.304,-107.147 144.765,-117.641 150.99,-114.439\" stroke=\"black\"/>\n",
       "</a>\n",
       "</g>\n",
       "</g>\n",
       "<!-- L -->\n",
       "<g class=\"node\" id=\"node9\"><title>L</title>\n",
       "<g id=\"a_node9\"><a xlink:title=\"(8) L\">\n",
       "<ellipse cx=\"135\" cy=\"-18\" fill=\"#444444\" rx=\"27\" ry=\"18\" stroke=\"black\"/>\n",
       "<text fill=\"#ffffff\" font-family=\"Times,serif\" font-size=\"14.00\" text-anchor=\"middle\" x=\"135\" y=\"-14.3\">L</text>\n",
       "</a>\n",
       "</g>\n",
       "</g>\n",
       "<!-- H&#45;&gt;L -->\n",
       "<g class=\"edge\" id=\"edge7\"><title>H-&gt;L</title>\n",
       "<g id=\"a_edge7\"><a xlink:title=\"(7, 8) : \">\n",
       "<path d=\"M135,-71.6966C135,-63.9827 135,-54.7125 135,-46.1124\" fill=\"none\" stroke=\"black\"/>\n",
       "<polygon fill=\"black\" points=\"138.5,-46.1043 135,-36.1043 131.5,-46.1044 138.5,-46.1043\" stroke=\"black\"/>\n",
       "</a>\n",
       "</g>\n",
       "</g>\n",
       "</g>\n",
       "</svg>"
      ],
      "text/plain": [
       "<IPython.core.display.HTML object>"
      ]
     },
     "metadata": {},
     "output_type": "display_data"
    }
   ],
   "source": [
    "gnb.showBN(cn.current_bn(),\"3\")"
   ]
  },
  {
   "cell_type": "code",
   "execution_count": 6,
   "metadata": {
    "ExecuteTime": {
     "end_time": "2018-05-24T12:05:06.711546Z",
     "start_time": "2018-05-24T12:05:06.707447Z"
    }
   },
   "outputs": [],
   "source": [
    "ie=gum.CNMonteCarloSampling(cn)\n",
    "ie.insertEvidenceFile(os.path.join(\"res\",\"cn/L2U.evi\"))"
   ]
  },
  {
   "cell_type": "code",
   "execution_count": 7,
   "metadata": {
    "ExecuteTime": {
     "end_time": "2018-05-24T12:05:08.177455Z",
     "start_time": "2018-05-24T12:05:06.714646Z"
    }
   },
   "outputs": [],
   "source": [
    "ie.setRepetitiveInd(False)\n",
    "\n",
    "ie.setRepetitiveInd(False)\n",
    "ie.setMaxTime(1)\n",
    "ie.setMaxIter(1000)\n",
    "\n",
    "ie.makeInference()"
   ]
  },
  {
   "cell_type": "code",
   "execution_count": 8,
   "metadata": {
    "ExecuteTime": {
     "end_time": "2018-05-24T12:05:08.182095Z",
     "start_time": "2018-05-24T12:05:08.179173Z"
    }
   },
   "outputs": [
    {
     "name": "stdout",
     "output_type": "stream",
     "text": [
      "(0.694650301065308, 0.5606799207994164)\n",
      "(0.43932007920058364, 0.30534969893469194)\n"
     ]
    }
   ],
   "source": [
    "print(ie.marginalMax(0))\n",
    "print(ie.marginalMin(0))"
   ]
  },
  {
   "cell_type": "markdown",
   "metadata": {},
   "source": [
    "## Dynamical Credal Net"
   ]
  },
  {
   "cell_type": "code",
   "execution_count": 9,
   "metadata": {
    "ExecuteTime": {
     "end_time": "2018-05-24T12:05:08.192045Z",
     "start_time": "2018-05-24T12:05:08.183597Z"
    }
   },
   "outputs": [],
   "source": [
    "cn=gum.CredalNet(os.path.join(\"res\",\"cn/bn_c_8.bif\"),os.path.join(\"res\",\"cn/den_c_8.bif\"))\n",
    "cn.bnToCredal(0.8,False)"
   ]
  },
  {
   "cell_type": "code",
   "execution_count": 10,
   "metadata": {
    "ExecuteTime": {
     "end_time": "2018-05-24T12:05:08.288170Z",
     "start_time": "2018-05-24T12:05:08.193558Z"
    }
   },
   "outputs": [],
   "source": [
    "ie=gum.CNMonteCarloSampling(cn)\n",
    "ie.insertModalsFile(os.path.join(\"res\",\"cn/modalities.modal\"))\n",
    "\n",
    "ie.setRepetitiveInd(True)\n",
    "ie.setMaxTime(30)\n",
    "ie.setMaxIter(1000)\n",
    "\n",
    "ie.makeInference()"
   ]
  },
  {
   "cell_type": "code",
   "execution_count": 11,
   "metadata": {
    "ExecuteTime": {
     "end_time": "2018-05-24T12:05:08.296200Z",
     "start_time": "2018-05-24T12:05:08.290184Z"
    }
   },
   "outputs": [
    {
     "name": "stdout",
     "output_type": "stream",
     "text": [
      "(14.20340463585978, 11.911090727297022, 12.173214762720487, 12.031555626094853, 12.003107222323997, 12.007979313031278, 12.007860681770776, 12.007652655580069, 12.007725006693335)\n"
     ]
    }
   ],
   "source": [
    "print(ie.dynamicExpMax(\"temp\"))"
   ]
  },
  {
   "cell_type": "code",
   "execution_count": 12,
   "metadata": {
    "ExecuteTime": {
     "end_time": "2018-05-24T12:05:08.478146Z",
     "start_time": "2018-05-24T12:05:08.297956Z"
    }
   },
   "outputs": [
    {
     "data": {
      "text/plain": [
       "<matplotlib.collections.PolyCollection at 0x7fc100e4f320>"
      ]
     },
     "execution_count": 12,
     "metadata": {},
     "output_type": "execute_result"
    },
    {
     "data": {
      "image/png": "[encoded data removed]",
      "text/plain": [
       "<Figure size 432x288 with 1 Axes>"
      ]
     },
     "metadata": {},
     "output_type": "display_data"
    }
   ],
   "source": [
    "fig=figure()\n",
    "ax=fig.add_subplot(111)\n",
    "ax.fill_between(range(9),ie.dynamicExpMax(\"temp\"),ie.dynamicExpMin(\"temp\"))"
   ]
  },
  {
   "cell_type": "code",
   "execution_count": 13,
   "metadata": {
    "ExecuteTime": {
     "end_time": "2018-05-24T12:05:08.589765Z",
     "start_time": "2018-05-24T12:05:08.480149Z"
    }
   },
   "outputs": [],
   "source": [
    "ie=gum.CNMonteCarloSampling(cn)\n",
    "ie.insertModalsFile(os.path.join(\"res\",\"cn/modalities.modal\"))\n",
    "\n",
    "ie.setRepetitiveInd(False)\n",
    "ie.setMaxTime(30)\n",
    "ie.setMaxIter(1000)\n",
    "\n",
    "ie.makeInference()\n"
   ]
  },
  {
   "cell_type": "code",
   "execution_count": 14,
   "metadata": {
    "ExecuteTime": {
     "end_time": "2018-05-24T12:05:08.726788Z",
     "start_time": "2018-05-24T12:05:08.591561Z"
    }
   },
   "outputs": [
    {
     "data": {
      "text/plain": [
       "<matplotlib.collections.PolyCollection at 0x7fc100e5d3c8>"
      ]
     },
     "execution_count": 14,
     "metadata": {},
     "output_type": "execute_result"
    },
    {
     "data": {
      "image/png": "[encoded data removed]",
      "text/plain": [
       "<Figure size 432x288 with 1 Axes>"
      ]
     },
     "metadata": {},
     "output_type": "display_data"
    }
   ],
   "source": [
    "fig=figure()\n",
    "ax=fig.add_subplot(111)\n",
    "ax.fill_between(range(9),ie.dynamicExpMax(\"temp\"),ie.dynamicExpMin(\"temp\"))"
   ]
  },
  {
   "cell_type": "code",
   "execution_count": 15,
   "metadata": {
    "ExecuteTime": {
     "end_time": "2018-05-24T12:05:09.411104Z",
     "start_time": "2018-05-24T12:05:08.729057Z"
    }
   },
   "outputs": [
    {
     "data": {
      "text/plain": [
       "<matplotlib.collections.PolyCollection at 0x7fc0a1be5710>"
      ]
     },
     "execution_count": 15,
     "metadata": {},
     "output_type": "execute_result"
    },
    {
     "data": {
      "image/png": "[encoded data removed]",
      "text/plain": [
       "<Figure size 432x288 with 1 Axes>"
      ]
     },
     "metadata": {},
     "output_type": "display_data"
    },
    {
     "data": {
      "image/png": "[encoded data removed]",
      "text/plain": [
       "<Figure size 432x288 with 1 Axes>"
      ]
     },
     "metadata": {},
     "output_type": "display_data"
    }
   ],
   "source": [
    "ie=gum.CNMonteCarloSampling(cn)\n",
    "ie.insertModalsFile(os.path.join(\"res\",\"cn/modalities.modal\"))\n",
    "\n",
    "ie.setRepetitiveInd(False)\n",
    "ie.setMaxTime(30)\n",
    "ie.setMaxIter(1000)\n",
    "\n",
    "gnb.animApproximationScheme(ie)\n",
    "ie.makeInference()\n",
    "\n",
    "fig=figure()\n",
    "ax=fig.add_subplot(111)\n",
    "ax.fill_between(range(9),ie.dynamicExpMax(\"temp\"),ie.dynamicExpMin(\"temp\"))\n"
   ]
  },
  {
   "cell_type": "code",
   "execution_count": null,
   "metadata": {},
   "outputs": [],
   "source": []
  }
 ],
 "metadata": {
  "hide_input": false,
  "kernelspec": {
   "display_name": "Python 3",
   "language": "python",
   "name": "python3"
  },
  "language_info": {
   "codemirror_mode": {
    "name": "ipython",
    "version": 3
   },
   "file_extension": ".py",
   "mimetype": "text/x-python",
   "name": "python",
   "nbconvert_exporter": "python",
   "pygments_lexer": "ipython3",
   "version": "3.5.3"
  }
 },
 "nbformat": 4,
 "nbformat_minor": 1
}
