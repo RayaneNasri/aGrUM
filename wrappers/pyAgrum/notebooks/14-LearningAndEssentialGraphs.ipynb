{
 "cells": [
  {
   "cell_type": "markdown",
   "metadata": {},
   "source": [
    "<a href=\"http://agrum.org\" target=\"blank\"><img src=\"http://agrum.gitlab.io/theme/img/logoAgrum.png\" align=\"left\" style=\"height:100px\"/></a><a rel=\"license\" href=\"http://creativecommons.org/licenses/by-nc/4.0/\"><img alt=\"Creative Commons License\" style=\"border-width:0\" src=\"https://i.creativecommons.org/l/by-nc/4.0/88x31.png\" /></a><br />This pyAgrum's notebook is licensed under a <a rel=\"license\" href=\"http://creativecommons.org/licenses/by-nc/4.0/\">Creative Commons Attribution-NonCommercial 4.0 International License</a>."
   ]
  },
  {
   "cell_type": "code",
   "execution_count": null,
   "metadata": {
    "ExecuteTime": {
     "start_time": "2019-02-21T16:37:15.720Z"
    }
   },
   "outputs": [],
   "source": [
    "%matplotlib inline\n",
    "from pylab import *\n",
    "import matplotlib.pyplot as plt\n",
    "\n",
    "import os\n",
    "\n",
    "import pyAgrum as gum\n",
    "import pyAgrum.lib.notebook as gnb\n"
   ]
  },
  {
   "cell_type": "markdown",
   "metadata": {},
   "source": [
    "### Compare learning algorithms\n",
    "Essentially MIIC and 3off2 computes the essential graph (CPDAG) from data. Essential graphs are mixed graphs."
   ]
  },
  {
   "cell_type": "code",
   "execution_count": null,
   "metadata": {
    "ExecuteTime": {
     "start_time": "2019-02-21T16:37:15.723Z"
    }
   },
   "outputs": [],
   "source": [
    "learner=gum.BNLearner(os.path.join(\"out\",\"sample_asia.csv\"))\n",
    "learner.use3off2()\n",
    "learner.useNML()\n",
    "ge3off2=learner.learnMixedStructure()\n",
    "ge3off2"
   ]
  },
  {
   "cell_type": "code",
   "execution_count": null,
   "metadata": {
    "ExecuteTime": {
     "start_time": "2019-02-21T16:37:15.729Z"
    }
   },
   "outputs": [],
   "source": [
    "learner=gum.BNLearner(os.path.join(\"out\",\"sample_asia.csv\"))\n",
    "learner.useMIIC()\n",
    "learner.useNML()\n",
    "gemiic=learner.learnMixedStructure()\n",
    "gemiic"
   ]
  },
  {
   "cell_type": "markdown",
   "metadata": {},
   "source": [
    "For the others methods, it is possible to obtain the essential graph from the learned BN."
   ]
  },
  {
   "cell_type": "code",
   "execution_count": null,
   "metadata": {
    "ExecuteTime": {
     "start_time": "2019-02-21T16:37:15.732Z"
    }
   },
   "outputs": [],
   "source": [
    "learner=gum.BNLearner(os.path.join(\"out\",\"sample_asia.csv\"))\n",
    "learner.useGreedyHillClimbing()\n",
    "bnHC=learner.learnBN()\n",
    "geHC=gum.EssentialGraph(bnHC)\n",
    "geHC\n",
    "gnb.sideBySide(bnHC,geHC)"
   ]
  },
  {
   "cell_type": "code",
   "execution_count": null,
   "metadata": {
    "ExecuteTime": {
     "start_time": "2019-02-21T16:37:15.734Z"
    }
   },
   "outputs": [],
   "source": [
    "learner=gum.BNLearner(os.path.join(\"out\",\"sample_asia.csv\"))\n",
    "learner.useLocalSearchWithTabuList()\n",
    "bnTL=learner.learnBN()\n",
    "geTL=gum.EssentialGraph(bnTL)\n",
    "geTL\n",
    "gnb.sideBySide(bnTL,geTL)"
   ]
  },
  {
   "cell_type": "markdown",
   "metadata": {},
   "source": [
    "Hence we can compare the 4 algorithms."
   ]
  },
  {
   "cell_type": "code",
   "execution_count": null,
   "metadata": {
    "ExecuteTime": {
     "start_time": "2019-02-21T16:37:15.736Z"
    },
    "scrolled": true
   },
   "outputs": [],
   "source": [
    "gnb.sideBySide(ge3off2,gemiic,bnHC,geHC,bnTL,geTL,\n",
    "               captions=[\"Essential graph from 3off2\",\n",
    "                        \"Essential graph from miic\",\n",
    "                        \"BayesNet from HC\",\n",
    "                        \"Essential graph from HC\",\n",
    "                        \"BayesNet form TabuList\",\n",
    "                        \"Essential graph from TabuList\"])\n"
   ]
  },
  {
   "cell_type": "code",
   "execution_count": null,
   "metadata": {},
   "outputs": [],
   "source": []
  },
  {
   "cell_type": "code",
   "execution_count": null,
   "metadata": {},
   "outputs": [],
   "source": []
  }
 ],
 "metadata": {
  "hide_input": false,
  "kernelspec": {
   "display_name": "Python 3",
   "language": "python",
   "name": "python3"
  },
  "language_info": {
   "codemirror_mode": {
    "name": "ipython",
    "version": 3
   },
   "file_extension": ".py",
   "mimetype": "text/x-python",
   "name": "python",
   "nbconvert_exporter": "python",
   "pygments_lexer": "ipython3",
   "version": "3.7.2"
  }
 },
 "nbformat": 4,
 "nbformat_minor": 2
}
