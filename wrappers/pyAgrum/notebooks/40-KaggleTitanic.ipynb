{
 "cells": [
  {
   "cell_type": "markdown",
   "metadata": {},
   "source": [
    "<a href=\"http://agrum.org\" target=\"blank\"><img src=\"http://agrum.gitlab.io/theme/img/logoAgrum.png\" align=\"left\" style=\"height:100px\"/></a><a rel=\"license\" href=\"http://creativecommons.org/licenses/by-nc/4.0/\"><img alt=\"Creative Commons License\" style=\"border-width:0\" src=\"https://i.creativecommons.org/l/by-nc/4.0/88x31.png\" /></a><br /><span xmlns:dct=\"http://purl.org/dc/terms/\" href=\"http://purl.org/dc/dcmitype/Dataset\" property=\"dct:title\" rel=\"dct:type\">This pyAgrum's notebook</span> is licensed under a <a rel=\"license\" href=\"http://creativecommons.org/licenses/by-nc/4.0/\">Creative Commons Attribution-NonCommercial 4.0 International License</a>."
   ]
  },
  {
   "cell_type": "code",
   "execution_count": 1,
   "metadata": {
    "ExecuteTime": {
     "end_time": "2019-02-21T17:01:14.915998Z",
     "start_time": "2019-02-21T17:01:14.544539Z"
    }
   },
   "outputs": [],
   "source": [
    "import pandas\n",
    "import os\n",
    "import math\n",
    "import pyAgrum as gum\n",
    "import pyAgrum.lib.notebook as gnb\n",
    "from pyAgrum.lib.bn2roc import showROC"
   ]
  },
  {
   "cell_type": "markdown",
   "metadata": {},
   "source": [
    "# Titanic: Machine Learning from Disaster\n",
    "\n",
    "This notebook is an introduction to the [Kaggle titanic challenge](https://www.kaggle.com/c/titanic). The goal here is not to produce the best possible classifier, at least not yet, but to show how pyAgrum and Bayesian Networks can be used to easily and quickly explore and understand data.\n",
    "\n",
    "To undestand this notebook, basic knowledge of Bayesian Networks is required. If you are looking for an introduction to pyAgrum, check [this notebook](http://www-desir.lip6.fr/~phw/aGrUM/docs/last/notebooks/01-tutorial.ipynb.html).\n",
    "\n",
    "This notebook present three different Bayesien Networks techniques to answer the Kaggle Titanic challenge. The first approach we will answer the challenge without using the training set and we will only use our prior knowledge about shipwrecks. In the second approach we will only use the training set with pyAgrum's machine learning algorithms. Finally, in the third approach we will use both prior knowledge about shipwrecks and machine learning.\n",
    "\n",
    "Before we start, some disclaimers about aGrUM and pyAgrum. \n",
    "\n",
    "**aGrUM** is a C++ library designed for easily building applications using graphical models such as Bayesian networks, influence diagrams, decision trees or Markov decision processes. \n",
    "\n",
    "**pyAgrum** is a Python wrapper for the C++ aGrUM library. It provides a high-level interface to the part of aGrUM allowing to create, handle and make computations into Bayesian Networks. The module mainly is an application of the [SWIG](http://www.swig.org/) interface generator. Custom-written code is added to simplify and extend the aGrUM API.\n",
    "\n",
    "Both projects are [open source](https://gitlab.com/agrumery/aGrUM/blob/master/LICENSE) and can be freely downloaded from [aGrUM's gitlab repository](https://gitlab.com/agrumery/aGrUM) or installed using [pip or anaconda](http://agrum.gitlab.io/pages/pyagrum.html).\n",
    "\n",
    "If you have questions, remarks or suggestions, feel free to ask us on [info@agrum.org](mailto:info@agrum.org)."
   ]
  },
  {
   "cell_type": "markdown",
   "metadata": {},
   "source": [
    "## Pretreatment\n",
    "We will be using [pandas](http://pandas.pydata.org/) to setup the learning data to fit with pyAgrum requirements."
   ]
  },
  {
   "cell_type": "code",
   "execution_count": 2,
   "metadata": {
    "ExecuteTime": {
     "end_time": "2019-02-21T17:01:14.943173Z",
     "start_time": "2019-02-21T17:01:14.918324Z"
    }
   },
   "outputs": [],
   "source": [
    "traindf=pandas.read_csv(os.path.join('res', 'titanic', 'train.csv'))\n",
    "\n",
    "testdf=pandas.merge(pandas.read_csv(os.path.join('res', 'titanic', 'test.csv')),\n",
    "                    pandas.read_csv(os.path.join('res', 'titanic', 'gender_submission.csv')),\n",
    "                    on=\"PassengerId\")"
   ]
  },
  {
   "cell_type": "markdown",
   "metadata": {},
   "source": [
    "This merges both the test base with the fact that a passager has survived or not."
   ]
  },
  {
   "cell_type": "code",
   "execution_count": 3,
   "metadata": {
    "ExecuteTime": {
     "end_time": "2019-02-21T17:01:14.958645Z",
     "start_time": "2019-02-21T17:01:14.945865Z"
    }
   },
   "outputs": [
    {
     "data": {
      "text/plain": [
       "PassengerId    66231.000000\n",
       "Survived           0.236772\n",
       "Pclass             0.699015\n",
       "Age              211.019125\n",
       "SibSp              1.216043\n",
       "Parch              0.649728\n",
       "Fare            2469.436846\n",
       "dtype: float64"
      ]
     },
     "execution_count": 3,
     "metadata": {},
     "output_type": "execute_result"
    }
   ],
   "source": [
    "traindf.var()"
   ]
  },
  {
   "cell_type": "code",
   "execution_count": 4,
   "metadata": {
    "ExecuteTime": {
     "end_time": "2019-02-21T17:01:14.967881Z",
     "start_time": "2019-02-21T17:01:14.960109Z"
    }
   },
   "outputs": [
    {
     "name": "stdout",
     "output_type": "stream",
     "text": [
      "PassengerId: 891\n",
      "Survived: 2\n",
      "Pclass: 3\n",
      "Name: 891\n",
      "Sex: 2\n",
      "Age: 89\n",
      "SibSp: 7\n",
      "Parch: 7\n",
      "Ticket: 681\n",
      "Fare: 248\n",
      "Cabin: 148\n",
      "Embarked: 4\n"
     ]
    }
   ],
   "source": [
    "for k in traindf.keys():\n",
    "    print('{0}: {1}'.format(k, len(traindf[k].unique())))"
   ]
  },
  {
   "cell_type": "markdown",
   "metadata": {},
   "source": [
    "Looking at the number of unique values for each variable is necessary since Bayesian Networks are discrete models. We will want to reduce the domain size of some discrete varaibles (like age) and discretize continuous variables (like Fare).\n",
    "\n",
    "For starters you can filter out variables with a large number of values. Choosing a large number will have an impact on performances, which boils down to how much CPU and RAM you have at your disposal. Here, we choose to filter out any variable with more than 10 different outcomes."
   ]
  },
  {
   "cell_type": "code",
   "execution_count": 5,
   "metadata": {
    "ExecuteTime": {
     "end_time": "2019-02-21T17:01:14.979371Z",
     "start_time": "2019-02-21T17:01:14.969444Z"
    }
   },
   "outputs": [
    {
     "name": "stdout",
     "output_type": "stream",
     "text": [
      "Survived\n",
      "Pclass\n",
      "Sex\n",
      "SibSp\n",
      "Parch\n",
      "Embarked\n"
     ]
    }
   ],
   "source": [
    "for k in traindf.keys():\n",
    "    if len(traindf[k].unique())<=15:\n",
    "        print(k)"
   ]
  },
  {
   "cell_type": "markdown",
   "metadata": {},
   "source": [
    "This leaves us with 6 variables, not much but still enough to learn a Bayesian Network. Will just add one more variable by reducing the cardinality of the Age variable."
   ]
  },
  {
   "cell_type": "code",
   "execution_count": 6,
   "metadata": {
    "ExecuteTime": {
     "end_time": "2019-02-21T17:01:15.051646Z",
     "start_time": "2019-02-21T17:01:14.982109Z"
    }
   },
   "outputs": [
    {
     "data": {
      "text/html": [
       "<div>\n",
       "<style scoped>\n",
       "    .dataframe tbody tr th:only-of-type {\n",
       "        vertical-align: middle;\n",
       "    }\n",
       "\n",
       "    .dataframe tbody tr th {\n",
       "        vertical-align: top;\n",
       "    }\n",
       "\n",
       "    .dataframe thead th {\n",
       "        text-align: right;\n",
       "    }\n",
       "</style>\n",
       "<table border=\"1\" class=\"dataframe\">\n",
       "  <thead>\n",
       "    <tr style=\"text-align: right;\">\n",
       "      <th></th>\n",
       "      <th>PassengerId</th>\n",
       "      <th>Pclass</th>\n",
       "      <th>Name</th>\n",
       "      <th>Sex</th>\n",
       "      <th>Age</th>\n",
       "      <th>SibSp</th>\n",
       "      <th>Parch</th>\n",
       "      <th>Ticket</th>\n",
       "      <th>Fare</th>\n",
       "      <th>Cabin</th>\n",
       "      <th>Embarked</th>\n",
       "      <th>Survived</th>\n",
       "    </tr>\n",
       "  </thead>\n",
       "  <tbody>\n",
       "    <tr>\n",
       "      <th>0</th>\n",
       "      <td>892</td>\n",
       "      <td>3</td>\n",
       "      <td>Kelly, Mr. James</td>\n",
       "      <td>male</td>\n",
       "      <td>34.5</td>\n",
       "      <td>0</td>\n",
       "      <td>0</td>\n",
       "      <td>330911</td>\n",
       "      <td>7.8292</td>\n",
       "      <td>NaN</td>\n",
       "      <td>Q</td>\n",
       "      <td>0</td>\n",
       "    </tr>\n",
       "    <tr>\n",
       "      <th>1</th>\n",
       "      <td>893</td>\n",
       "      <td>3</td>\n",
       "      <td>Wilkes, Mrs. James (Ellen Needs)</td>\n",
       "      <td>female</td>\n",
       "      <td>47.0</td>\n",
       "      <td>1</td>\n",
       "      <td>0</td>\n",
       "      <td>363272</td>\n",
       "      <td>7.0000</td>\n",
       "      <td>NaN</td>\n",
       "      <td>S</td>\n",
       "      <td>1</td>\n",
       "    </tr>\n",
       "    <tr>\n",
       "      <th>2</th>\n",
       "      <td>894</td>\n",
       "      <td>2</td>\n",
       "      <td>Myles, Mr. Thomas Francis</td>\n",
       "      <td>male</td>\n",
       "      <td>62.0</td>\n",
       "      <td>0</td>\n",
       "      <td>0</td>\n",
       "      <td>240276</td>\n",
       "      <td>9.6875</td>\n",
       "      <td>NaN</td>\n",
       "      <td>Q</td>\n",
       "      <td>0</td>\n",
       "    </tr>\n",
       "    <tr>\n",
       "      <th>3</th>\n",
       "      <td>895</td>\n",
       "      <td>3</td>\n",
       "      <td>Wirz, Mr. Albert</td>\n",
       "      <td>male</td>\n",
       "      <td>27.0</td>\n",
       "      <td>0</td>\n",
       "      <td>0</td>\n",
       "      <td>315154</td>\n",
       "      <td>8.6625</td>\n",
       "      <td>NaN</td>\n",
       "      <td>S</td>\n",
       "      <td>0</td>\n",
       "    </tr>\n",
       "    <tr>\n",
       "      <th>4</th>\n",
       "      <td>896</td>\n",
       "      <td>3</td>\n",
       "      <td>Hirvonen, Mrs. Alexander (Helga E Lindqvist)</td>\n",
       "      <td>female</td>\n",
       "      <td>22.0</td>\n",
       "      <td>1</td>\n",
       "      <td>1</td>\n",
       "      <td>3101298</td>\n",
       "      <td>12.2875</td>\n",
       "      <td>NaN</td>\n",
       "      <td>S</td>\n",
       "      <td>1</td>\n",
       "    </tr>\n",
       "    <tr>\n",
       "      <th>5</th>\n",
       "      <td>897</td>\n",
       "      <td>3</td>\n",
       "      <td>Svensson, Mr. Johan Cervin</td>\n",
       "      <td>male</td>\n",
       "      <td>14.0</td>\n",
       "      <td>0</td>\n",
       "      <td>0</td>\n",
       "      <td>7538</td>\n",
       "      <td>9.2250</td>\n",
       "      <td>NaN</td>\n",
       "      <td>S</td>\n",
       "      <td>0</td>\n",
       "    </tr>\n",
       "    <tr>\n",
       "      <th>6</th>\n",
       "      <td>898</td>\n",
       "      <td>3</td>\n",
       "      <td>Connolly, Miss. Kate</td>\n",
       "      <td>female</td>\n",
       "      <td>30.0</td>\n",
       "      <td>0</td>\n",
       "      <td>0</td>\n",
       "      <td>330972</td>\n",
       "      <td>7.6292</td>\n",
       "      <td>NaN</td>\n",
       "      <td>Q</td>\n",
       "      <td>1</td>\n",
       "    </tr>\n",
       "    <tr>\n",
       "      <th>7</th>\n",
       "      <td>899</td>\n",
       "      <td>2</td>\n",
       "      <td>Caldwell, Mr. Albert Francis</td>\n",
       "      <td>male</td>\n",
       "      <td>26.0</td>\n",
       "      <td>1</td>\n",
       "      <td>1</td>\n",
       "      <td>248738</td>\n",
       "      <td>29.0000</td>\n",
       "      <td>NaN</td>\n",
       "      <td>S</td>\n",
       "      <td>0</td>\n",
       "    </tr>\n",
       "    <tr>\n",
       "      <th>8</th>\n",
       "      <td>900</td>\n",
       "      <td>3</td>\n",
       "      <td>Abrahim, Mrs. Joseph (Sophie Halaut Easu)</td>\n",
       "      <td>female</td>\n",
       "      <td>18.0</td>\n",
       "      <td>0</td>\n",
       "      <td>0</td>\n",
       "      <td>2657</td>\n",
       "      <td>7.2292</td>\n",
       "      <td>NaN</td>\n",
       "      <td>C</td>\n",
       "      <td>1</td>\n",
       "    </tr>\n",
       "    <tr>\n",
       "      <th>9</th>\n",
       "      <td>901</td>\n",
       "      <td>3</td>\n",
       "      <td>Davies, Mr. John Samuel</td>\n",
       "      <td>male</td>\n",
       "      <td>21.0</td>\n",
       "      <td>2</td>\n",
       "      <td>0</td>\n",
       "      <td>A/4 48871</td>\n",
       "      <td>24.1500</td>\n",
       "      <td>NaN</td>\n",
       "      <td>S</td>\n",
       "      <td>0</td>\n",
       "    </tr>\n",
       "    <tr>\n",
       "      <th>10</th>\n",
       "      <td>902</td>\n",
       "      <td>3</td>\n",
       "      <td>Ilieff, Mr. Ylio</td>\n",
       "      <td>male</td>\n",
       "      <td>NaN</td>\n",
       "      <td>0</td>\n",
       "      <td>0</td>\n",
       "      <td>349220</td>\n",
       "      <td>7.8958</td>\n",
       "      <td>NaN</td>\n",
       "      <td>S</td>\n",
       "      <td>0</td>\n",
       "    </tr>\n",
       "    <tr>\n",
       "      <th>11</th>\n",
       "      <td>903</td>\n",
       "      <td>1</td>\n",
       "      <td>Jones, Mr. Charles Cresson</td>\n",
       "      <td>male</td>\n",
       "      <td>46.0</td>\n",
       "      <td>0</td>\n",
       "      <td>0</td>\n",
       "      <td>694</td>\n",
       "      <td>26.0000</td>\n",
       "      <td>NaN</td>\n",
       "      <td>S</td>\n",
       "      <td>0</td>\n",
       "    </tr>\n",
       "    <tr>\n",
       "      <th>12</th>\n",
       "      <td>904</td>\n",
       "      <td>1</td>\n",
       "      <td>Snyder, Mrs. John Pillsbury (Nelle Stevenson)</td>\n",
       "      <td>female</td>\n",
       "      <td>23.0</td>\n",
       "      <td>1</td>\n",
       "      <td>0</td>\n",
       "      <td>21228</td>\n",
       "      <td>82.2667</td>\n",
       "      <td>B45</td>\n",
       "      <td>S</td>\n",
       "      <td>1</td>\n",
       "    </tr>\n",
       "    <tr>\n",
       "      <th>13</th>\n",
       "      <td>905</td>\n",
       "      <td>2</td>\n",
       "      <td>Howard, Mr. Benjamin</td>\n",
       "      <td>male</td>\n",
       "      <td>63.0</td>\n",
       "      <td>1</td>\n",
       "      <td>0</td>\n",
       "      <td>24065</td>\n",
       "      <td>26.0000</td>\n",
       "      <td>NaN</td>\n",
       "      <td>S</td>\n",
       "      <td>0</td>\n",
       "    </tr>\n",
       "    <tr>\n",
       "      <th>14</th>\n",
       "      <td>906</td>\n",
       "      <td>1</td>\n",
       "      <td>Chaffee, Mrs. Herbert Fuller (Carrie Constance...</td>\n",
       "      <td>female</td>\n",
       "      <td>47.0</td>\n",
       "      <td>1</td>\n",
       "      <td>0</td>\n",
       "      <td>W.E.P. 5734</td>\n",
       "      <td>61.1750</td>\n",
       "      <td>E31</td>\n",
       "      <td>S</td>\n",
       "      <td>1</td>\n",
       "    </tr>\n",
       "    <tr>\n",
       "      <th>15</th>\n",
       "      <td>907</td>\n",
       "      <td>2</td>\n",
       "      <td>del Carlo, Mrs. Sebastiano (Argenia Genovesi)</td>\n",
       "      <td>female</td>\n",
       "      <td>24.0</td>\n",
       "      <td>1</td>\n",
       "      <td>0</td>\n",
       "      <td>SC/PARIS 2167</td>\n",
       "      <td>27.7208</td>\n",
       "      <td>NaN</td>\n",
       "      <td>C</td>\n",
       "      <td>1</td>\n",
       "    </tr>\n",
       "    <tr>\n",
       "      <th>16</th>\n",
       "      <td>908</td>\n",
       "      <td>2</td>\n",
       "      <td>Keane, Mr. Daniel</td>\n",
       "      <td>male</td>\n",
       "      <td>35.0</td>\n",
       "      <td>0</td>\n",
       "      <td>0</td>\n",
       "      <td>233734</td>\n",
       "      <td>12.3500</td>\n",
       "      <td>NaN</td>\n",
       "      <td>Q</td>\n",
       "      <td>0</td>\n",
       "    </tr>\n",
       "    <tr>\n",
       "      <th>17</th>\n",
       "      <td>909</td>\n",
       "      <td>3</td>\n",
       "      <td>Assaf, Mr. Gerios</td>\n",
       "      <td>male</td>\n",
       "      <td>21.0</td>\n",
       "      <td>0</td>\n",
       "      <td>0</td>\n",
       "      <td>2692</td>\n",
       "      <td>7.2250</td>\n",
       "      <td>NaN</td>\n",
       "      <td>C</td>\n",
       "      <td>0</td>\n",
       "    </tr>\n",
       "    <tr>\n",
       "      <th>18</th>\n",
       "      <td>910</td>\n",
       "      <td>3</td>\n",
       "      <td>Ilmakangas, Miss. Ida Livija</td>\n",
       "      <td>female</td>\n",
       "      <td>27.0</td>\n",
       "      <td>1</td>\n",
       "      <td>0</td>\n",
       "      <td>STON/O2. 3101270</td>\n",
       "      <td>7.9250</td>\n",
       "      <td>NaN</td>\n",
       "      <td>S</td>\n",
       "      <td>1</td>\n",
       "    </tr>\n",
       "    <tr>\n",
       "      <th>19</th>\n",
       "      <td>911</td>\n",
       "      <td>3</td>\n",
       "      <td>Assaf Khalil, Mrs. Mariana (Miriam\")\"</td>\n",
       "      <td>female</td>\n",
       "      <td>45.0</td>\n",
       "      <td>0</td>\n",
       "      <td>0</td>\n",
       "      <td>2696</td>\n",
       "      <td>7.2250</td>\n",
       "      <td>NaN</td>\n",
       "      <td>C</td>\n",
       "      <td>1</td>\n",
       "    </tr>\n",
       "    <tr>\n",
       "      <th>20</th>\n",
       "      <td>912</td>\n",
       "      <td>1</td>\n",
       "      <td>Rothschild, Mr. Martin</td>\n",
       "      <td>male</td>\n",
       "      <td>55.0</td>\n",
       "      <td>1</td>\n",
       "      <td>0</td>\n",
       "      <td>PC 17603</td>\n",
       "      <td>59.4000</td>\n",
       "      <td>NaN</td>\n",
       "      <td>C</td>\n",
       "      <td>0</td>\n",
       "    </tr>\n",
       "    <tr>\n",
       "      <th>21</th>\n",
       "      <td>913</td>\n",
       "      <td>3</td>\n",
       "      <td>Olsen, Master. Artur Karl</td>\n",
       "      <td>male</td>\n",
       "      <td>9.0</td>\n",
       "      <td>0</td>\n",
       "      <td>1</td>\n",
       "      <td>C 17368</td>\n",
       "      <td>3.1708</td>\n",
       "      <td>NaN</td>\n",
       "      <td>S</td>\n",
       "      <td>0</td>\n",
       "    </tr>\n",
       "    <tr>\n",
       "      <th>22</th>\n",
       "      <td>914</td>\n",
       "      <td>1</td>\n",
       "      <td>Flegenheim, Mrs. Alfred (Antoinette)</td>\n",
       "      <td>female</td>\n",
       "      <td>NaN</td>\n",
       "      <td>0</td>\n",
       "      <td>0</td>\n",
       "      <td>PC 17598</td>\n",
       "      <td>31.6833</td>\n",
       "      <td>NaN</td>\n",
       "      <td>S</td>\n",
       "      <td>1</td>\n",
       "    </tr>\n",
       "    <tr>\n",
       "      <th>23</th>\n",
       "      <td>915</td>\n",
       "      <td>1</td>\n",
       "      <td>Williams, Mr. Richard Norris II</td>\n",
       "      <td>male</td>\n",
       "      <td>21.0</td>\n",
       "      <td>0</td>\n",
       "      <td>1</td>\n",
       "      <td>PC 17597</td>\n",
       "      <td>61.3792</td>\n",
       "      <td>NaN</td>\n",
       "      <td>C</td>\n",
       "      <td>0</td>\n",
       "    </tr>\n",
       "    <tr>\n",
       "      <th>24</th>\n",
       "      <td>916</td>\n",
       "      <td>1</td>\n",
       "      <td>Ryerson, Mrs. Arthur Larned (Emily Maria Borie)</td>\n",
       "      <td>female</td>\n",
       "      <td>48.0</td>\n",
       "      <td>1</td>\n",
       "      <td>3</td>\n",
       "      <td>PC 17608</td>\n",
       "      <td>262.3750</td>\n",
       "      <td>B57 B59 B63 B66</td>\n",
       "      <td>C</td>\n",
       "      <td>1</td>\n",
       "    </tr>\n",
       "    <tr>\n",
       "      <th>25</th>\n",
       "      <td>917</td>\n",
       "      <td>3</td>\n",
       "      <td>Robins, Mr. Alexander A</td>\n",
       "      <td>male</td>\n",
       "      <td>50.0</td>\n",
       "      <td>1</td>\n",
       "      <td>0</td>\n",
       "      <td>A/5. 3337</td>\n",
       "      <td>14.5000</td>\n",
       "      <td>NaN</td>\n",
       "      <td>S</td>\n",
       "      <td>0</td>\n",
       "    </tr>\n",
       "    <tr>\n",
       "      <th>26</th>\n",
       "      <td>918</td>\n",
       "      <td>1</td>\n",
       "      <td>Ostby, Miss. Helene Ragnhild</td>\n",
       "      <td>female</td>\n",
       "      <td>22.0</td>\n",
       "      <td>0</td>\n",
       "      <td>1</td>\n",
       "      <td>113509</td>\n",
       "      <td>61.9792</td>\n",
       "      <td>B36</td>\n",
       "      <td>C</td>\n",
       "      <td>1</td>\n",
       "    </tr>\n",
       "    <tr>\n",
       "      <th>27</th>\n",
       "      <td>919</td>\n",
       "      <td>3</td>\n",
       "      <td>Daher, Mr. Shedid</td>\n",
       "      <td>male</td>\n",
       "      <td>22.5</td>\n",
       "      <td>0</td>\n",
       "      <td>0</td>\n",
       "      <td>2698</td>\n",
       "      <td>7.2250</td>\n",
       "      <td>NaN</td>\n",
       "      <td>C</td>\n",
       "      <td>0</td>\n",
       "    </tr>\n",
       "    <tr>\n",
       "      <th>28</th>\n",
       "      <td>920</td>\n",
       "      <td>1</td>\n",
       "      <td>Brady, Mr. John Bertram</td>\n",
       "      <td>male</td>\n",
       "      <td>41.0</td>\n",
       "      <td>0</td>\n",
       "      <td>0</td>\n",
       "      <td>113054</td>\n",
       "      <td>30.5000</td>\n",
       "      <td>A21</td>\n",
       "      <td>S</td>\n",
       "      <td>0</td>\n",
       "    </tr>\n",
       "    <tr>\n",
       "      <th>29</th>\n",
       "      <td>921</td>\n",
       "      <td>3</td>\n",
       "      <td>Samaan, Mr. Elias</td>\n",
       "      <td>male</td>\n",
       "      <td>NaN</td>\n",
       "      <td>2</td>\n",
       "      <td>0</td>\n",
       "      <td>2662</td>\n",
       "      <td>21.6792</td>\n",
       "      <td>NaN</td>\n",
       "      <td>C</td>\n",
       "      <td>0</td>\n",
       "    </tr>\n",
       "    <tr>\n",
       "      <th>...</th>\n",
       "      <td>...</td>\n",
       "      <td>...</td>\n",
       "      <td>...</td>\n",
       "      <td>...</td>\n",
       "      <td>...</td>\n",
       "      <td>...</td>\n",
       "      <td>...</td>\n",
       "      <td>...</td>\n",
       "      <td>...</td>\n",
       "      <td>...</td>\n",
       "      <td>...</td>\n",
       "      <td>...</td>\n",
       "    </tr>\n",
       "    <tr>\n",
       "      <th>388</th>\n",
       "      <td>1280</td>\n",
       "      <td>3</td>\n",
       "      <td>Canavan, Mr. Patrick</td>\n",
       "      <td>male</td>\n",
       "      <td>21.0</td>\n",
       "      <td>0</td>\n",
       "      <td>0</td>\n",
       "      <td>364858</td>\n",
       "      <td>7.7500</td>\n",
       "      <td>NaN</td>\n",
       "      <td>Q</td>\n",
       "      <td>0</td>\n",
       "    </tr>\n",
       "    <tr>\n",
       "      <th>389</th>\n",
       "      <td>1281</td>\n",
       "      <td>3</td>\n",
       "      <td>Palsson, Master. Paul Folke</td>\n",
       "      <td>male</td>\n",
       "      <td>6.0</td>\n",
       "      <td>3</td>\n",
       "      <td>1</td>\n",
       "      <td>349909</td>\n",
       "      <td>21.0750</td>\n",
       "      <td>NaN</td>\n",
       "      <td>S</td>\n",
       "      <td>0</td>\n",
       "    </tr>\n",
       "    <tr>\n",
       "      <th>390</th>\n",
       "      <td>1282</td>\n",
       "      <td>1</td>\n",
       "      <td>Payne, Mr. Vivian Ponsonby</td>\n",
       "      <td>male</td>\n",
       "      <td>23.0</td>\n",
       "      <td>0</td>\n",
       "      <td>0</td>\n",
       "      <td>12749</td>\n",
       "      <td>93.5000</td>\n",
       "      <td>B24</td>\n",
       "      <td>S</td>\n",
       "      <td>0</td>\n",
       "    </tr>\n",
       "    <tr>\n",
       "      <th>391</th>\n",
       "      <td>1283</td>\n",
       "      <td>1</td>\n",
       "      <td>Lines, Mrs. Ernest H (Elizabeth Lindsey James)</td>\n",
       "      <td>female</td>\n",
       "      <td>51.0</td>\n",
       "      <td>0</td>\n",
       "      <td>1</td>\n",
       "      <td>PC 17592</td>\n",
       "      <td>39.4000</td>\n",
       "      <td>D28</td>\n",
       "      <td>S</td>\n",
       "      <td>1</td>\n",
       "    </tr>\n",
       "    <tr>\n",
       "      <th>392</th>\n",
       "      <td>1284</td>\n",
       "      <td>3</td>\n",
       "      <td>Abbott, Master. Eugene Joseph</td>\n",
       "      <td>male</td>\n",
       "      <td>13.0</td>\n",
       "      <td>0</td>\n",
       "      <td>2</td>\n",
       "      <td>C.A. 2673</td>\n",
       "      <td>20.2500</td>\n",
       "      <td>NaN</td>\n",
       "      <td>S</td>\n",
       "      <td>0</td>\n",
       "    </tr>\n",
       "    <tr>\n",
       "      <th>393</th>\n",
       "      <td>1285</td>\n",
       "      <td>2</td>\n",
       "      <td>Gilbert, Mr. William</td>\n",
       "      <td>male</td>\n",
       "      <td>47.0</td>\n",
       "      <td>0</td>\n",
       "      <td>0</td>\n",
       "      <td>C.A. 30769</td>\n",
       "      <td>10.5000</td>\n",
       "      <td>NaN</td>\n",
       "      <td>S</td>\n",
       "      <td>0</td>\n",
       "    </tr>\n",
       "    <tr>\n",
       "      <th>394</th>\n",
       "      <td>1286</td>\n",
       "      <td>3</td>\n",
       "      <td>Kink-Heilmann, Mr. Anton</td>\n",
       "      <td>male</td>\n",
       "      <td>29.0</td>\n",
       "      <td>3</td>\n",
       "      <td>1</td>\n",
       "      <td>315153</td>\n",
       "      <td>22.0250</td>\n",
       "      <td>NaN</td>\n",
       "      <td>S</td>\n",
       "      <td>0</td>\n",
       "    </tr>\n",
       "    <tr>\n",
       "      <th>395</th>\n",
       "      <td>1287</td>\n",
       "      <td>1</td>\n",
       "      <td>Smith, Mrs. Lucien Philip (Mary Eloise Hughes)</td>\n",
       "      <td>female</td>\n",
       "      <td>18.0</td>\n",
       "      <td>1</td>\n",
       "      <td>0</td>\n",
       "      <td>13695</td>\n",
       "      <td>60.0000</td>\n",
       "      <td>C31</td>\n",
       "      <td>S</td>\n",
       "      <td>1</td>\n",
       "    </tr>\n",
       "    <tr>\n",
       "      <th>396</th>\n",
       "      <td>1288</td>\n",
       "      <td>3</td>\n",
       "      <td>Colbert, Mr. Patrick</td>\n",
       "      <td>male</td>\n",
       "      <td>24.0</td>\n",
       "      <td>0</td>\n",
       "      <td>0</td>\n",
       "      <td>371109</td>\n",
       "      <td>7.2500</td>\n",
       "      <td>NaN</td>\n",
       "      <td>Q</td>\n",
       "      <td>0</td>\n",
       "    </tr>\n",
       "    <tr>\n",
       "      <th>397</th>\n",
       "      <td>1289</td>\n",
       "      <td>1</td>\n",
       "      <td>Frolicher-Stehli, Mrs. Maxmillian (Margaretha ...</td>\n",
       "      <td>female</td>\n",
       "      <td>48.0</td>\n",
       "      <td>1</td>\n",
       "      <td>1</td>\n",
       "      <td>13567</td>\n",
       "      <td>79.2000</td>\n",
       "      <td>B41</td>\n",
       "      <td>C</td>\n",
       "      <td>1</td>\n",
       "    </tr>\n",
       "    <tr>\n",
       "      <th>398</th>\n",
       "      <td>1290</td>\n",
       "      <td>3</td>\n",
       "      <td>Larsson-Rondberg, Mr. Edvard A</td>\n",
       "      <td>male</td>\n",
       "      <td>22.0</td>\n",
       "      <td>0</td>\n",
       "      <td>0</td>\n",
       "      <td>347065</td>\n",
       "      <td>7.7750</td>\n",
       "      <td>NaN</td>\n",
       "      <td>S</td>\n",
       "      <td>0</td>\n",
       "    </tr>\n",
       "    <tr>\n",
       "      <th>399</th>\n",
       "      <td>1291</td>\n",
       "      <td>3</td>\n",
       "      <td>Conlon, Mr. Thomas Henry</td>\n",
       "      <td>male</td>\n",
       "      <td>31.0</td>\n",
       "      <td>0</td>\n",
       "      <td>0</td>\n",
       "      <td>21332</td>\n",
       "      <td>7.7333</td>\n",
       "      <td>NaN</td>\n",
       "      <td>Q</td>\n",
       "      <td>0</td>\n",
       "    </tr>\n",
       "    <tr>\n",
       "      <th>400</th>\n",
       "      <td>1292</td>\n",
       "      <td>1</td>\n",
       "      <td>Bonnell, Miss. Caroline</td>\n",
       "      <td>female</td>\n",
       "      <td>30.0</td>\n",
       "      <td>0</td>\n",
       "      <td>0</td>\n",
       "      <td>36928</td>\n",
       "      <td>164.8667</td>\n",
       "      <td>C7</td>\n",
       "      <td>S</td>\n",
       "      <td>1</td>\n",
       "    </tr>\n",
       "    <tr>\n",
       "      <th>401</th>\n",
       "      <td>1293</td>\n",
       "      <td>2</td>\n",
       "      <td>Gale, Mr. Harry</td>\n",
       "      <td>male</td>\n",
       "      <td>38.0</td>\n",
       "      <td>1</td>\n",
       "      <td>0</td>\n",
       "      <td>28664</td>\n",
       "      <td>21.0000</td>\n",
       "      <td>NaN</td>\n",
       "      <td>S</td>\n",
       "      <td>0</td>\n",
       "    </tr>\n",
       "    <tr>\n",
       "      <th>402</th>\n",
       "      <td>1294</td>\n",
       "      <td>1</td>\n",
       "      <td>Gibson, Miss. Dorothy Winifred</td>\n",
       "      <td>female</td>\n",
       "      <td>22.0</td>\n",
       "      <td>0</td>\n",
       "      <td>1</td>\n",
       "      <td>112378</td>\n",
       "      <td>59.4000</td>\n",
       "      <td>NaN</td>\n",
       "      <td>C</td>\n",
       "      <td>1</td>\n",
       "    </tr>\n",
       "    <tr>\n",
       "      <th>403</th>\n",
       "      <td>1295</td>\n",
       "      <td>1</td>\n",
       "      <td>Carrau, Mr. Jose Pedro</td>\n",
       "      <td>male</td>\n",
       "      <td>17.0</td>\n",
       "      <td>0</td>\n",
       "      <td>0</td>\n",
       "      <td>113059</td>\n",
       "      <td>47.1000</td>\n",
       "      <td>NaN</td>\n",
       "      <td>S</td>\n",
       "      <td>0</td>\n",
       "    </tr>\n",
       "    <tr>\n",
       "      <th>404</th>\n",
       "      <td>1296</td>\n",
       "      <td>1</td>\n",
       "      <td>Frauenthal, Mr. Isaac Gerald</td>\n",
       "      <td>male</td>\n",
       "      <td>43.0</td>\n",
       "      <td>1</td>\n",
       "      <td>0</td>\n",
       "      <td>17765</td>\n",
       "      <td>27.7208</td>\n",
       "      <td>D40</td>\n",
       "      <td>C</td>\n",
       "      <td>0</td>\n",
       "    </tr>\n",
       "    <tr>\n",
       "      <th>405</th>\n",
       "      <td>1297</td>\n",
       "      <td>2</td>\n",
       "      <td>Nourney, Mr. Alfred (Baron von Drachstedt\")\"</td>\n",
       "      <td>male</td>\n",
       "      <td>20.0</td>\n",
       "      <td>0</td>\n",
       "      <td>0</td>\n",
       "      <td>SC/PARIS 2166</td>\n",
       "      <td>13.8625</td>\n",
       "      <td>D38</td>\n",
       "      <td>C</td>\n",
       "      <td>0</td>\n",
       "    </tr>\n",
       "    <tr>\n",
       "      <th>406</th>\n",
       "      <td>1298</td>\n",
       "      <td>2</td>\n",
       "      <td>Ware, Mr. William Jeffery</td>\n",
       "      <td>male</td>\n",
       "      <td>23.0</td>\n",
       "      <td>1</td>\n",
       "      <td>0</td>\n",
       "      <td>28666</td>\n",
       "      <td>10.5000</td>\n",
       "      <td>NaN</td>\n",
       "      <td>S</td>\n",
       "      <td>0</td>\n",
       "    </tr>\n",
       "    <tr>\n",
       "      <th>407</th>\n",
       "      <td>1299</td>\n",
       "      <td>1</td>\n",
       "      <td>Widener, Mr. George Dunton</td>\n",
       "      <td>male</td>\n",
       "      <td>50.0</td>\n",
       "      <td>1</td>\n",
       "      <td>1</td>\n",
       "      <td>113503</td>\n",
       "      <td>211.5000</td>\n",
       "      <td>C80</td>\n",
       "      <td>C</td>\n",
       "      <td>0</td>\n",
       "    </tr>\n",
       "    <tr>\n",
       "      <th>408</th>\n",
       "      <td>1300</td>\n",
       "      <td>3</td>\n",
       "      <td>Riordan, Miss. Johanna Hannah\"\"</td>\n",
       "      <td>female</td>\n",
       "      <td>NaN</td>\n",
       "      <td>0</td>\n",
       "      <td>0</td>\n",
       "      <td>334915</td>\n",
       "      <td>7.7208</td>\n",
       "      <td>NaN</td>\n",
       "      <td>Q</td>\n",
       "      <td>1</td>\n",
       "    </tr>\n",
       "    <tr>\n",
       "      <th>409</th>\n",
       "      <td>1301</td>\n",
       "      <td>3</td>\n",
       "      <td>Peacock, Miss. Treasteall</td>\n",
       "      <td>female</td>\n",
       "      <td>3.0</td>\n",
       "      <td>1</td>\n",
       "      <td>1</td>\n",
       "      <td>SOTON/O.Q. 3101315</td>\n",
       "      <td>13.7750</td>\n",
       "      <td>NaN</td>\n",
       "      <td>S</td>\n",
       "      <td>1</td>\n",
       "    </tr>\n",
       "    <tr>\n",
       "      <th>410</th>\n",
       "      <td>1302</td>\n",
       "      <td>3</td>\n",
       "      <td>Naughton, Miss. Hannah</td>\n",
       "      <td>female</td>\n",
       "      <td>NaN</td>\n",
       "      <td>0</td>\n",
       "      <td>0</td>\n",
       "      <td>365237</td>\n",
       "      <td>7.7500</td>\n",
       "      <td>NaN</td>\n",
       "      <td>Q</td>\n",
       "      <td>1</td>\n",
       "    </tr>\n",
       "    <tr>\n",
       "      <th>411</th>\n",
       "      <td>1303</td>\n",
       "      <td>1</td>\n",
       "      <td>Minahan, Mrs. William Edward (Lillian E Thorpe)</td>\n",
       "      <td>female</td>\n",
       "      <td>37.0</td>\n",
       "      <td>1</td>\n",
       "      <td>0</td>\n",
       "      <td>19928</td>\n",
       "      <td>90.0000</td>\n",
       "      <td>C78</td>\n",
       "      <td>Q</td>\n",
       "      <td>1</td>\n",
       "    </tr>\n",
       "    <tr>\n",
       "      <th>412</th>\n",
       "      <td>1304</td>\n",
       "      <td>3</td>\n",
       "      <td>Henriksson, Miss. Jenny Lovisa</td>\n",
       "      <td>female</td>\n",
       "      <td>28.0</td>\n",
       "      <td>0</td>\n",
       "      <td>0</td>\n",
       "      <td>347086</td>\n",
       "      <td>7.7750</td>\n",
       "      <td>NaN</td>\n",
       "      <td>S</td>\n",
       "      <td>1</td>\n",
       "    </tr>\n",
       "    <tr>\n",
       "      <th>413</th>\n",
       "      <td>1305</td>\n",
       "      <td>3</td>\n",
       "      <td>Spector, Mr. Woolf</td>\n",
       "      <td>male</td>\n",
       "      <td>NaN</td>\n",
       "      <td>0</td>\n",
       "      <td>0</td>\n",
       "      <td>A.5. 3236</td>\n",
       "      <td>8.0500</td>\n",
       "      <td>NaN</td>\n",
       "      <td>S</td>\n",
       "      <td>0</td>\n",
       "    </tr>\n",
       "    <tr>\n",
       "      <th>414</th>\n",
       "      <td>1306</td>\n",
       "      <td>1</td>\n",
       "      <td>Oliva y Ocana, Dona. Fermina</td>\n",
       "      <td>female</td>\n",
       "      <td>39.0</td>\n",
       "      <td>0</td>\n",
       "      <td>0</td>\n",
       "      <td>PC 17758</td>\n",
       "      <td>108.9000</td>\n",
       "      <td>C105</td>\n",
       "      <td>C</td>\n",
       "      <td>1</td>\n",
       "    </tr>\n",
       "    <tr>\n",
       "      <th>415</th>\n",
       "      <td>1307</td>\n",
       "      <td>3</td>\n",
       "      <td>Saether, Mr. Simon Sivertsen</td>\n",
       "      <td>male</td>\n",
       "      <td>38.5</td>\n",
       "      <td>0</td>\n",
       "      <td>0</td>\n",
       "      <td>SOTON/O.Q. 3101262</td>\n",
       "      <td>7.2500</td>\n",
       "      <td>NaN</td>\n",
       "      <td>S</td>\n",
       "      <td>0</td>\n",
       "    </tr>\n",
       "    <tr>\n",
       "      <th>416</th>\n",
       "      <td>1308</td>\n",
       "      <td>3</td>\n",
       "      <td>Ware, Mr. Frederick</td>\n",
       "      <td>male</td>\n",
       "      <td>NaN</td>\n",
       "      <td>0</td>\n",
       "      <td>0</td>\n",
       "      <td>359309</td>\n",
       "      <td>8.0500</td>\n",
       "      <td>NaN</td>\n",
       "      <td>S</td>\n",
       "      <td>0</td>\n",
       "    </tr>\n",
       "    <tr>\n",
       "      <th>417</th>\n",
       "      <td>1309</td>\n",
       "      <td>3</td>\n",
       "      <td>Peter, Master. Michael J</td>\n",
       "      <td>male</td>\n",
       "      <td>NaN</td>\n",
       "      <td>1</td>\n",
       "      <td>1</td>\n",
       "      <td>2668</td>\n",
       "      <td>22.3583</td>\n",
       "      <td>NaN</td>\n",
       "      <td>C</td>\n",
       "      <td>0</td>\n",
       "    </tr>\n",
       "  </tbody>\n",
       "</table>\n",
       "<p>418 rows × 12 columns</p>\n",
       "</div>"
      ],
      "text/plain": [
       "     PassengerId  Pclass                                               Name  \\\n",
       "0            892       3                                   Kelly, Mr. James   \n",
       "1            893       3                   Wilkes, Mrs. James (Ellen Needs)   \n",
       "2            894       2                          Myles, Mr. Thomas Francis   \n",
       "3            895       3                                   Wirz, Mr. Albert   \n",
       "4            896       3       Hirvonen, Mrs. Alexander (Helga E Lindqvist)   \n",
       "5            897       3                         Svensson, Mr. Johan Cervin   \n",
       "6            898       3                               Connolly, Miss. Kate   \n",
       "7            899       2                       Caldwell, Mr. Albert Francis   \n",
       "8            900       3          Abrahim, Mrs. Joseph (Sophie Halaut Easu)   \n",
       "9            901       3                            Davies, Mr. John Samuel   \n",
       "10           902       3                                   Ilieff, Mr. Ylio   \n",
       "11           903       1                         Jones, Mr. Charles Cresson   \n",
       "12           904       1      Snyder, Mrs. John Pillsbury (Nelle Stevenson)   \n",
       "13           905       2                               Howard, Mr. Benjamin   \n",
       "14           906       1  Chaffee, Mrs. Herbert Fuller (Carrie Constance...   \n",
       "15           907       2      del Carlo, Mrs. Sebastiano (Argenia Genovesi)   \n",
       "16           908       2                                  Keane, Mr. Daniel   \n",
       "17           909       3                                  Assaf, Mr. Gerios   \n",
       "18           910       3                       Ilmakangas, Miss. Ida Livija   \n",
       "19           911       3              Assaf Khalil, Mrs. Mariana (Miriam\")\"   \n",
       "20           912       1                             Rothschild, Mr. Martin   \n",
       "21           913       3                          Olsen, Master. Artur Karl   \n",
       "22           914       1               Flegenheim, Mrs. Alfred (Antoinette)   \n",
       "23           915       1                    Williams, Mr. Richard Norris II   \n",
       "24           916       1    Ryerson, Mrs. Arthur Larned (Emily Maria Borie)   \n",
       "25           917       3                            Robins, Mr. Alexander A   \n",
       "26           918       1                       Ostby, Miss. Helene Ragnhild   \n",
       "27           919       3                                  Daher, Mr. Shedid   \n",
       "28           920       1                            Brady, Mr. John Bertram   \n",
       "29           921       3                                  Samaan, Mr. Elias   \n",
       "..           ...     ...                                                ...   \n",
       "388         1280       3                               Canavan, Mr. Patrick   \n",
       "389         1281       3                        Palsson, Master. Paul Folke   \n",
       "390         1282       1                         Payne, Mr. Vivian Ponsonby   \n",
       "391         1283       1     Lines, Mrs. Ernest H (Elizabeth Lindsey James)   \n",
       "392         1284       3                      Abbott, Master. Eugene Joseph   \n",
       "393         1285       2                               Gilbert, Mr. William   \n",
       "394         1286       3                           Kink-Heilmann, Mr. Anton   \n",
       "395         1287       1     Smith, Mrs. Lucien Philip (Mary Eloise Hughes)   \n",
       "396         1288       3                               Colbert, Mr. Patrick   \n",
       "397         1289       1  Frolicher-Stehli, Mrs. Maxmillian (Margaretha ...   \n",
       "398         1290       3                     Larsson-Rondberg, Mr. Edvard A   \n",
       "399         1291       3                           Conlon, Mr. Thomas Henry   \n",
       "400         1292       1                            Bonnell, Miss. Caroline   \n",
       "401         1293       2                                    Gale, Mr. Harry   \n",
       "402         1294       1                     Gibson, Miss. Dorothy Winifred   \n",
       "403         1295       1                             Carrau, Mr. Jose Pedro   \n",
       "404         1296       1                       Frauenthal, Mr. Isaac Gerald   \n",
       "405         1297       2       Nourney, Mr. Alfred (Baron von Drachstedt\")\"   \n",
       "406         1298       2                          Ware, Mr. William Jeffery   \n",
       "407         1299       1                         Widener, Mr. George Dunton   \n",
       "408         1300       3                    Riordan, Miss. Johanna Hannah\"\"   \n",
       "409         1301       3                          Peacock, Miss. Treasteall   \n",
       "410         1302       3                             Naughton, Miss. Hannah   \n",
       "411         1303       1    Minahan, Mrs. William Edward (Lillian E Thorpe)   \n",
       "412         1304       3                     Henriksson, Miss. Jenny Lovisa   \n",
       "413         1305       3                                 Spector, Mr. Woolf   \n",
       "414         1306       1                       Oliva y Ocana, Dona. Fermina   \n",
       "415         1307       3                       Saether, Mr. Simon Sivertsen   \n",
       "416         1308       3                                Ware, Mr. Frederick   \n",
       "417         1309       3                           Peter, Master. Michael J   \n",
       "\n",
       "        Sex   Age  SibSp  Parch              Ticket      Fare  \\\n",
       "0      male  34.5      0      0              330911    7.8292   \n",
       "1    female  47.0      1      0              363272    7.0000   \n",
       "2      male  62.0      0      0              240276    9.6875   \n",
       "3      male  27.0      0      0              315154    8.6625   \n",
       "4    female  22.0      1      1             3101298   12.2875   \n",
       "5      male  14.0      0      0                7538    9.2250   \n",
       "6    female  30.0      0      0              330972    7.6292   \n",
       "7      male  26.0      1      1              248738   29.0000   \n",
       "8    female  18.0      0      0                2657    7.2292   \n",
       "9      male  21.0      2      0           A/4 48871   24.1500   \n",
       "10     male   NaN      0      0              349220    7.8958   \n",
       "11     male  46.0      0      0                 694   26.0000   \n",
       "12   female  23.0      1      0               21228   82.2667   \n",
       "13     male  63.0      1      0               24065   26.0000   \n",
       "14   female  47.0      1      0         W.E.P. 5734   61.1750   \n",
       "15   female  24.0      1      0       SC/PARIS 2167   27.7208   \n",
       "16     male  35.0      0      0              233734   12.3500   \n",
       "17     male  21.0      0      0                2692    7.2250   \n",
       "18   female  27.0      1      0    STON/O2. 3101270    7.9250   \n",
       "19   female  45.0      0      0                2696    7.2250   \n",
       "20     male  55.0      1      0            PC 17603   59.4000   \n",
       "21     male   9.0      0      1             C 17368    3.1708   \n",
       "22   female   NaN      0      0            PC 17598   31.6833   \n",
       "23     male  21.0      0      1            PC 17597   61.3792   \n",
       "24   female  48.0      1      3            PC 17608  262.3750   \n",
       "25     male  50.0      1      0           A/5. 3337   14.5000   \n",
       "26   female  22.0      0      1              113509   61.9792   \n",
       "27     male  22.5      0      0                2698    7.2250   \n",
       "28     male  41.0      0      0              113054   30.5000   \n",
       "29     male   NaN      2      0                2662   21.6792   \n",
       "..      ...   ...    ...    ...                 ...       ...   \n",
       "388    male  21.0      0      0              364858    7.7500   \n",
       "389    male   6.0      3      1              349909   21.0750   \n",
       "390    male  23.0      0      0               12749   93.5000   \n",
       "391  female  51.0      0      1            PC 17592   39.4000   \n",
       "392    male  13.0      0      2           C.A. 2673   20.2500   \n",
       "393    male  47.0      0      0          C.A. 30769   10.5000   \n",
       "394    male  29.0      3      1              315153   22.0250   \n",
       "395  female  18.0      1      0               13695   60.0000   \n",
       "396    male  24.0      0      0              371109    7.2500   \n",
       "397  female  48.0      1      1               13567   79.2000   \n",
       "398    male  22.0      0      0              347065    7.7750   \n",
       "399    male  31.0      0      0               21332    7.7333   \n",
       "400  female  30.0      0      0               36928  164.8667   \n",
       "401    male  38.0      1      0               28664   21.0000   \n",
       "402  female  22.0      0      1              112378   59.4000   \n",
       "403    male  17.0      0      0              113059   47.1000   \n",
       "404    male  43.0      1      0               17765   27.7208   \n",
       "405    male  20.0      0      0       SC/PARIS 2166   13.8625   \n",
       "406    male  23.0      1      0               28666   10.5000   \n",
       "407    male  50.0      1      1              113503  211.5000   \n",
       "408  female   NaN      0      0              334915    7.7208   \n",
       "409  female   3.0      1      1  SOTON/O.Q. 3101315   13.7750   \n",
       "410  female   NaN      0      0              365237    7.7500   \n",
       "411  female  37.0      1      0               19928   90.0000   \n",
       "412  female  28.0      0      0              347086    7.7750   \n",
       "413    male   NaN      0      0           A.5. 3236    8.0500   \n",
       "414  female  39.0      0      0            PC 17758  108.9000   \n",
       "415    male  38.5      0      0  SOTON/O.Q. 3101262    7.2500   \n",
       "416    male   NaN      0      0              359309    8.0500   \n",
       "417    male   NaN      1      1                2668   22.3583   \n",
       "\n",
       "               Cabin Embarked  Survived  \n",
       "0                NaN        Q         0  \n",
       "1                NaN        S         1  \n",
       "2                NaN        Q         0  \n",
       "3                NaN        S         0  \n",
       "4                NaN        S         1  \n",
       "5                NaN        S         0  \n",
       "6                NaN        Q         1  \n",
       "7                NaN        S         0  \n",
       "8                NaN        C         1  \n",
       "9                NaN        S         0  \n",
       "10               NaN        S         0  \n",
       "11               NaN        S         0  \n",
       "12               B45        S         1  \n",
       "13               NaN        S         0  \n",
       "14               E31        S         1  \n",
       "15               NaN        C         1  \n",
       "16               NaN        Q         0  \n",
       "17               NaN        C         0  \n",
       "18               NaN        S         1  \n",
       "19               NaN        C         1  \n",
       "20               NaN        C         0  \n",
       "21               NaN        S         0  \n",
       "22               NaN        S         1  \n",
       "23               NaN        C         0  \n",
       "24   B57 B59 B63 B66        C         1  \n",
       "25               NaN        S         0  \n",
       "26               B36        C         1  \n",
       "27               NaN        C         0  \n",
       "28               A21        S         0  \n",
       "29               NaN        C         0  \n",
       "..               ...      ...       ...  \n",
       "388              NaN        Q         0  \n",
       "389              NaN        S         0  \n",
       "390              B24        S         0  \n",
       "391              D28        S         1  \n",
       "392              NaN        S         0  \n",
       "393              NaN        S         0  \n",
       "394              NaN        S         0  \n",
       "395              C31        S         1  \n",
       "396              NaN        Q         0  \n",
       "397              B41        C         1  \n",
       "398              NaN        S         0  \n",
       "399              NaN        Q         0  \n",
       "400               C7        S         1  \n",
       "401              NaN        S         0  \n",
       "402              NaN        C         1  \n",
       "403              NaN        S         0  \n",
       "404              D40        C         0  \n",
       "405              D38        C         0  \n",
       "406              NaN        S         0  \n",
       "407              C80        C         0  \n",
       "408              NaN        Q         1  \n",
       "409              NaN        S         1  \n",
       "410              NaN        Q         1  \n",
       "411              C78        Q         1  \n",
       "412              NaN        S         1  \n",
       "413              NaN        S         0  \n",
       "414             C105        C         1  \n",
       "415              NaN        S         0  \n",
       "416              NaN        S         0  \n",
       "417              NaN        C         0  \n",
       "\n",
       "[418 rows x 12 columns]"
      ]
     },
     "execution_count": 6,
     "metadata": {},
     "output_type": "execute_result"
    }
   ],
   "source": [
    "testdf=pandas.merge(pandas.read_csv(os.path.join('res', 'titanic', 'test.csv')),\n",
    "                    pandas.read_csv(os.path.join('res', 'titanic', 'gender_submission.csv')),\n",
    "                    on=\"PassengerId\")\n",
    "\n",
    "def forAge(row):\n",
    "    try:\n",
    "        age = float(row['Age'])\n",
    "        if age < 1:\n",
    "            #return '[0;1['\n",
    "            return 'baby'\n",
    "        elif age < 6:\n",
    "            #return '[1;6['\n",
    "            return 'toddler'\n",
    "        elif age < 12:\n",
    "            #return '[6;12['\n",
    "            return 'kid'\n",
    "        elif age < 21:\n",
    "            #return '[12;21['\n",
    "            return 'teen'\n",
    "        elif age < 80:\n",
    "            #return '[21;80['\n",
    "            return 'adult'\n",
    "        else:\n",
    "            #return '[80;200]'\n",
    "            return 'old'\n",
    "    except ValueError:\n",
    "        return np.nan\n",
    "    \n",
    "def forBoolean(row, col):\n",
    "    try:\n",
    "        val = int(row[col])\n",
    "        if row[col] >= 1:\n",
    "            return \"True\"\n",
    "        else:\n",
    "            return \"False\"\n",
    "    except ValueError:\n",
    "        return \"False\"\n",
    "    \n",
    "def forGender(row):\n",
    "    if row['Sex'] == \"male\":\n",
    "        return \"Male\"\n",
    "    else:\n",
    "        return \"Female\"\n",
    "        \n",
    "\n",
    "testdf"
   ]
  },
  {
   "cell_type": "markdown",
   "metadata": {},
   "source": [
    "When pretreating data, you will want to wrap your changes inside a function, this will help you keep track of your changes and easily compare them."
   ]
  },
  {
   "cell_type": "code",
   "execution_count": 7,
   "metadata": {
    "ExecuteTime": {
     "end_time": "2019-02-21T17:01:15.243795Z",
     "start_time": "2019-02-21T17:01:15.053559Z"
    }
   },
   "outputs": [],
   "source": [
    "def pretreat(df):\n",
    "    if 'Survived' in df.columns:\n",
    "        df['Survived'] = df.apply(lambda row: forBoolean(row, 'Survived'), axis=1).dropna()\n",
    "    df['Age'] = df.apply(forAge, axis=1).dropna()\n",
    "    df['SibSp'] = df.apply(lambda row: forBoolean(row, 'SibSp'), axis=1).dropna()\n",
    "    df['Parch'] = df.apply(lambda row: forBoolean(row, 'Parch'), axis=1).dropna()\n",
    "    df['Sex'] = df.apply(forGender, axis=1).dropna()\n",
    "    droped_cols = [col for col in ['PassengerId', 'Name', 'Ticket', 'Fare', 'Cabin'] if col in df.columns]\n",
    "    df = df.drop(droped_cols, axis=1)\n",
    "    df = df.rename(index=str, columns={'Sex': 'Gender', 'SibSp': 'Siblings', 'Parch': 'Parents'})\n",
    "    return df\n",
    "\n",
    "traindf = pandas.read_csv(os.path.join('res', 'titanic', 'train.csv'))\n",
    "testdf  = pandas.merge(pandas.read_csv(os.path.join('res', 'titanic', 'test.csv')),\n",
    "                       pandas.read_csv(os.path.join('res', 'titanic', 'gender_submission.csv')),\n",
    "                       on=\"PassengerId\")\n",
    "traindf = pretreat(traindf)\n",
    "testdf = pretreat(testdf)"
   ]
  },
  {
   "cell_type": "markdown",
   "metadata": {},
   "source": [
    "We will need to save this intermediate learning database, since pyAgrum accepts only files as inputs. As a rule of thumb, save your CSV using comma as separators and do not quote values when you plan to use them with pyAgrum."
   ]
  },
  {
   "cell_type": "code",
   "execution_count": 8,
   "metadata": {
    "ExecuteTime": {
     "end_time": "2019-02-21T17:01:15.257282Z",
     "start_time": "2019-02-21T17:01:15.247558Z"
    }
   },
   "outputs": [],
   "source": [
    "import csv\n",
    "traindf.to_csv(os.path.join('res', 'titanic', 'post_train.csv'), index=False)\n",
    "testdf.to_csv(os.path.join('res', 'titanic', 'post_test.csv'), index=False)"
   ]
  },
  {
   "cell_type": "markdown",
   "metadata": {},
   "source": [
    "## Modeling withtout learning\n",
    "In some cases, we might not have any data to learn from. In such cases, we can rely on experts to provide correlation between variables and conditional probabilities.\n",
    "\n",
    "It can be simpler to start with a simple topography, leaving room to add more complexe correlations as the model is confonted aginst data. Here, we will use three hypothesis: \n",
    "- All variables are independent conditionnaly to each other given the fact that a passenger has survive or not.\n",
    "- Women and children are more likelly to survive.\n",
    "- The more sibling or parents abord, the less likelly the passenger will survive.\n",
    "\n",
    "The first assumption results in the folowing DAG for our Bayesian Network:"
   ]
  },
  {
   "cell_type": "code",
   "execution_count": 9,
   "metadata": {
    "ExecuteTime": {
     "end_time": "2019-02-21T17:01:17.652579Z",
     "start_time": "2019-02-21T17:01:15.261020Z"
    }
   },
   "outputs": [
    {
     "name": "stdout",
     "output_type": "stream",
     "text": [
      "Survived<False,True>\n",
      "Age<baby,toddler,kid,teen,adult,old>\n",
      "Gender<Female,Male>\n",
      "Siblings<False,True>\n",
      "Parents<False,True>\n"
     ]
    },
    {
     "data": {
      "text/html": [
       "<svg height=\"84pt\" viewBox=\"0.00 0.00 288.00 83.86\" width=\"288pt\" xmlns=\"http://www.w3.org/2000/svg\" xmlns:xlink=\"http://www.w3.org/1999/xlink\">\n",
       "<g class=\"graph\" id=\"graph0\" transform=\"scale(.7229 .7229) rotate(0) translate(4 112)\">\n",
       "<title>G</title>\n",
       "<!-- Survived -->\n",
       "<g class=\"node\" id=\"node1\">\n",
       "<title>Survived</title>\n",
       "<g id=\"a_node1\"><a xlink:title=\"(0) Survived\">\n",
       "<ellipse cx=\"174.5975\" cy=\"-90\" fill=\"#444444\" rx=\"51.9908\" ry=\"18\" stroke=\"#000000\"/>\n",
       "<text fill=\"#ffffff\" font-family=\"Times,serif\" font-size=\"14.00\" text-anchor=\"middle\" x=\"174.5975\" y=\"-86.3\">Survived</text>\n",
       "</a>\n",
       "</g>\n",
       "</g>\n",
       "<!-- Age -->\n",
       "<g class=\"node\" id=\"node2\">\n",
       "<title>Age</title>\n",
       "<g id=\"a_node2\"><a xlink:title=\"(1) Age\">\n",
       "<ellipse cx=\"28.5975\" cy=\"-18\" fill=\"#444444\" rx=\"28.6953\" ry=\"18\" stroke=\"#000000\"/>\n",
       "<text fill=\"#ffffff\" font-family=\"Times,serif\" font-size=\"14.00\" text-anchor=\"middle\" x=\"28.5975\" y=\"-14.3\">Age</text>\n",
       "</a>\n",
       "</g>\n",
       "</g>\n",
       "<!-- Survived&#45;&gt;Age -->\n",
       "<g class=\"edge\" id=\"edge1\">\n",
       "<title>Survived-&gt;Age</title>\n",
       "<g id=\"a_edge1\"><a xlink:title=\"(0, 1) : \">\n",
       "<path d=\"M144.6999,-75.256C120.14,-63.1443 85.4391,-46.0315 60.3787,-33.6729\" fill=\"none\" stroke=\"#000000\"/>\n",
       "<polygon fill=\"#000000\" points=\"61.804,-30.4734 51.2873,-29.1895 58.708,-36.7515 61.804,-30.4734\" stroke=\"#000000\"/>\n",
       "</a>\n",
       "</g>\n",
       "</g>\n",
       "<!-- Gender -->\n",
       "<g class=\"node\" id=\"node3\">\n",
       "<title>Gender</title>\n",
       "<g id=\"a_node3\"><a xlink:title=\"(2) Gender\">\n",
       "<ellipse cx=\"119.5975\" cy=\"-18\" fill=\"#444444\" rx=\"44.6926\" ry=\"18\" stroke=\"#000000\"/>\n",
       "<text fill=\"#ffffff\" font-family=\"Times,serif\" font-size=\"14.00\" text-anchor=\"middle\" x=\"119.5975\" y=\"-14.3\">Gender</text>\n",
       "</a>\n",
       "</g>\n",
       "</g>\n",
       "<!-- Survived&#45;&gt;Gender -->\n",
       "<g class=\"edge\" id=\"edge3\">\n",
       "<title>Survived-&gt;Gender</title>\n",
       "<g id=\"a_edge3\"><a xlink:title=\"(0, 2) : \">\n",
       "<path d=\"M161.2835,-72.5708C154.5953,-63.8153 146.3655,-53.0418 138.9901,-43.3867\" fill=\"none\" stroke=\"#000000\"/>\n",
       "<polygon fill=\"#000000\" points=\"141.6406,-41.0908 132.7888,-35.2687 136.0779,-45.3401 141.6406,-41.0908\" stroke=\"#000000\"/>\n",
       "</a>\n",
       "</g>\n",
       "</g>\n",
       "<!-- Siblings -->\n",
       "<g class=\"node\" id=\"node4\">\n",
       "<title>Siblings</title>\n",
       "<g id=\"a_node4\"><a xlink:title=\"(3) Siblings\">\n",
       "<ellipse cx=\"230.5975\" cy=\"-18\" fill=\"#444444\" rx=\"48.1917\" ry=\"18\" stroke=\"#000000\"/>\n",
       "<text fill=\"#ffffff\" font-family=\"Times,serif\" font-size=\"14.00\" text-anchor=\"middle\" x=\"230.5975\" y=\"-14.3\">Siblings</text>\n",
       "</a>\n",
       "</g>\n",
       "</g>\n",
       "<!-- Survived&#45;&gt;Siblings -->\n",
       "<g class=\"edge\" id=\"edge2\">\n",
       "<title>Survived-&gt;Siblings</title>\n",
       "<g id=\"a_edge2\"><a xlink:title=\"(0, 3) : \">\n",
       "<path d=\"M188.1535,-72.5708C194.9132,-63.8797 203.2196,-53.2001 210.6865,-43.5998\" fill=\"none\" stroke=\"#000000\"/>\n",
       "<polygon fill=\"#000000\" points=\"213.5955,-45.5606 216.9722,-35.5182 208.07,-41.263 213.5955,-45.5606\" stroke=\"#000000\"/>\n",
       "</a>\n",
       "</g>\n",
       "</g>\n",
       "<!-- Parents -->\n",
       "<g class=\"node\" id=\"node5\">\n",
       "<title>Parents</title>\n",
       "<g id=\"a_node5\"><a xlink:title=\"(4) Parents\">\n",
       "<ellipse cx=\"343.5975\" cy=\"-18\" fill=\"#444444\" rx=\"46.5926\" ry=\"18\" stroke=\"#000000\"/>\n",
       "<text fill=\"#ffffff\" font-family=\"Times,serif\" font-size=\"14.00\" text-anchor=\"middle\" x=\"343.5975\" y=\"-14.3\">Parents</text>\n",
       "</a>\n",
       "</g>\n",
       "</g>\n",
       "<!-- Survived&#45;&gt;Parents -->\n",
       "<g class=\"edge\" id=\"edge4\">\n",
       "<title>Survived-&gt;Parents</title>\n",
       "<g id=\"a_edge4\"><a xlink:title=\"(0, 4) : \">\n",
       "<path d=\"M207.5836,-75.9468C234.7689,-64.3648 273.4575,-47.8821 302.6265,-35.4551\" fill=\"none\" stroke=\"#000000\"/>\n",
       "<polygon fill=\"#000000\" points=\"304.2952,-38.5486 312.1233,-31.4091 301.5516,-32.1087 304.2952,-38.5486\" stroke=\"#000000\"/>\n",
       "</a>\n",
       "</g>\n",
       "</g>\n",
       "</g>\n",
       "</svg>"
      ],
      "text/plain": [
       "(gum::BayesNet<double>@0x561882ad4320) BN{nodes: 5, arcs: 4, domainSize: 96, parameters: 26, compression ratio: 72% }"
      ]
     },
     "execution_count": 9,
     "metadata": {},
     "output_type": "execute_result"
    }
   ],
   "source": [
    "bn = gum.BayesNet(\"Surviving Titanic\")\n",
    "\n",
    "survived = gum.LabelizedVariable('Survived','Did the passenger survived ?',0)\n",
    "survived.addLabel(\"False\")\n",
    "survived.addLabel(\"True\")\n",
    "bn.add(survived)\n",
    "print(survived)\n",
    "\n",
    "age = gum.LabelizedVariable('Age', \"The passenger's age category\", 0)\n",
    "age.addLabel(\"baby\")\n",
    "age.addLabel(\"toddler\")\n",
    "age.addLabel(\"kid\")\n",
    "age.addLabel(\"teen\")\n",
    "age.addLabel(\"adult\")\n",
    "age.addLabel(\"old\")\n",
    "bn.add(age)\n",
    "print(age)\n",
    "\n",
    "gender = gum.LabelizedVariable('Gender', \"The passenger's gender\", 0)\n",
    "gender.addLabel(\"Female\")\n",
    "gender.addLabel(\"Male\")\n",
    "bn.add(gender)\n",
    "print(gender)\n",
    "\n",
    "siblings = gum.LabelizedVariable('Siblings', \"Did the passenger had siblings aboard ?\", 0)\n",
    "siblings.addLabel(\"False\")\n",
    "siblings.addLabel(\"True\")\n",
    "bn.add(siblings)\n",
    "print(siblings)\n",
    "\n",
    "parents = gum.LabelizedVariable('Parents', \"The passenger had parents aboard ?\", 0)\n",
    "parents.addLabel(\"False\")\n",
    "parents.addLabel(\"True\")\n",
    "bn.add(parents)\n",
    "print(parents)\n",
    "\n",
    "bn.addArc('Survived', 'Age')\n",
    "bn.addArc('Survived', 'Gender')\n",
    "bn.addArc('Survived', 'Siblings')\n",
    "bn.addArc('Survived', 'Parents')\n",
    "\n",
    "bn"
   ]
  },
  {
   "cell_type": "markdown",
   "metadata": {},
   "source": [
    "Hypothesis two and three can help us define the parameters for this Bayesian Network. Remember that we assume that we do not have any data to learn from. So we will use simple definition such as \"a women is 10 times more likeliy to survive than a man\". We can then normalize the values to obtain a proper conditional probability distribution.\n",
    "\n",
    "This technique may not be the most precise or scientifically sounded, it however has the advantage to be easy to use."
   ]
  },
  {
   "cell_type": "code",
   "execution_count": 10,
   "metadata": {
    "ExecuteTime": {
     "end_time": "2019-02-21T17:01:17.659853Z",
     "start_time": "2019-02-21T17:01:17.654746Z"
    }
   },
   "outputs": [
    {
     "data": {
      "text/html": [
       "<table>\n",
       "<tr style='background-color:#AAAAAA'><th colspan='2'><center>Survived</center></th></tr>\n",
       "<tr><th style='background-color:#BBBBBB'><center>False</center></th><th style='background-color:#BBBBBB'><center>True</center></th></tr>\n",
       "<tr><td style='background-color:#80fd64;text-align:right;'>0.9901</td><td style='background-color:#fd8064;text-align:right;'>0.0099</td></tr>\n",
       "</table>"
      ],
      "text/plain": [
       "(gum::Potential<double>@0x56188272af20) <Survived:False> :: 0.990099 /<Survived:True> :: 0.00990099"
      ]
     },
     "execution_count": 10,
     "metadata": {},
     "output_type": "execute_result"
    }
   ],
   "source": [
    "bn.cpt('Survived')[:] = [100, 1]\n",
    "bn.cpt('Survived').normalizeAsCPT()\n",
    "bn.cpt('Survived')"
   ]
  },
  {
   "cell_type": "code",
   "execution_count": 11,
   "metadata": {
    "ExecuteTime": {
     "end_time": "2019-02-21T17:01:17.798096Z",
     "start_time": "2019-02-21T17:01:17.661613Z"
    }
   },
   "outputs": [
    {
     "data": {
      "text/html": [
       "<table>\n",
       "<tr><th colspan='1'></th><th colspan='6' style='background-color:#AAAAAA'><center>Age</center></th></tr>\n",
       "<tr><th style='background-color:#AAAAAA'><center>Survived</center></th><th style='background-color:#BBBBBB'><center>baby</center></th><th style='background-color:#BBBBBB'><center>toddler</center></th><th style='background-color:#BBBBBB'><center>kid</center></th><th style='background-color:#BBBBBB'><center>teen</center></th><th style='background-color:#BBBBBB'><center>adult</center></th><th style='background-color:#BBBBBB'><center>old</center></th></tr>\n",
       "<tr><th style='background-color:#BBBBBB'><center>False</center></th><td style='background-color:#f98464;text-align:right;'>0.0417</td><td style='background-color:#f98464;text-align:right;'>0.0417</td><td style='background-color:#f98464;text-align:right;'>0.0417</td><td style='background-color:#c9b464;text-align:right;'>0.4167</td><td style='background-color:#c9b464;text-align:right;'>0.4167</td><td style='background-color:#f98464;text-align:right;'>0.0417</td></tr>\n",
       "<tr><th style='background-color:#BBBBBB'><center>True</center></th><td style='background-color:#e09d64;text-align:right;'>0.2381</td><td style='background-color:#e09d64;text-align:right;'>0.2381</td><td style='background-color:#e09d64;text-align:right;'>0.2381</td><td style='background-color:#fb8264;text-align:right;'>0.0238</td><td style='background-color:#fb8264;text-align:right;'>0.0238</td><td style='background-color:#e09d64;text-align:right;'>0.2381</td></tr>\n",
       "</table>"
      ],
      "text/plain": [
       "(gum::Potential<double>@0x561882688470) <Age:baby|Survived:False> :: 0.0416667 /<Age:toddler|Survived:False> :: 0.0416667 /<Age:kid|Survived:False> :: 0.0416667 /<Age:teen|Survived:False> :: 0.416667 /<Age:adult|Survived:False> :: 0.416667 /<Age:old|Survived:False> :: 0.0416667 /<Age:baby|Survived:True> :: 0.238095 /<Age:toddler|Survived:True> :: 0.238095 /<Age:kid|Survived:True> :: 0.238095 /<Age:teen|Survived:True> :: 0.0238095 /<Age:adult|Survived:True> :: 0.0238095 /<Age:old|Survived:True> :: 0.238095"
      ]
     },
     "execution_count": 11,
     "metadata": {},
     "output_type": "execute_result"
    }
   ],
   "source": [
    "bn.cpt('Age')[0:] = [ 1, 1, 1, 10, 10, 1]\n",
    "bn.cpt('Age')[1:] = [ 10, 10, 10, 1, 1, 10]\n",
    "bn.cpt('Age').normalizeAsCPT()\n",
    "bn.cpt('Age')"
   ]
  },
  {
   "cell_type": "code",
   "execution_count": 12,
   "metadata": {
    "ExecuteTime": {
     "end_time": "2019-02-21T17:01:17.809466Z",
     "start_time": "2019-02-21T17:01:17.800238Z"
    }
   },
   "outputs": [
    {
     "data": {
      "text/html": [
       "<table>\n",
       "<tr><th colspan='1'></th><th colspan='2' style='background-color:#AAAAAA'><center>Gender</center></th></tr>\n",
       "<tr><th style='background-color:#AAAAAA'><center>Survived</center></th><th style='background-color:#BBBBBB'><center>Female</center></th><th style='background-color:#BBBBBB'><center>Male</center></th></tr>\n",
       "<tr><th style='background-color:#BBBBBB'><center>False</center></th><td style='background-color:#bfbf64;text-align:right;'>0.5000</td><td style='background-color:#bfbf64;text-align:right;'>0.5000</td></tr>\n",
       "<tr><th style='background-color:#BBBBBB'><center>True</center></th><td style='background-color:#8af364;text-align:right;'>0.9091</td><td style='background-color:#f38a64;text-align:right;'>0.0909</td></tr>\n",
       "</table>"
      ],
      "text/plain": [
       "(gum::Potential<double>@0x561882692c30) <Gender:Female|Survived:False> :: 0.5 /<Gender:Male|Survived:False> :: 0.5 /<Gender:Female|Survived:True> :: 0.909091 /<Gender:Male|Survived:True> :: 0.0909091"
      ]
     },
     "execution_count": 12,
     "metadata": {},
     "output_type": "execute_result"
    }
   ],
   "source": [
    "bn.cpt('Gender')[0:] = [ 1, 1]\n",
    "bn.cpt('Gender')[1:] = [ 10, 1]\n",
    "bn.cpt('Gender').normalizeAsCPT()\n",
    "bn.cpt('Gender')"
   ]
  },
  {
   "cell_type": "code",
   "execution_count": 13,
   "metadata": {
    "ExecuteTime": {
     "end_time": "2019-02-21T17:01:17.815956Z",
     "start_time": "2019-02-21T17:01:17.810870Z"
    }
   },
   "outputs": [
    {
     "data": {
      "text/html": [
       "<table>\n",
       "<tr><th colspan='1'></th><th colspan='2' style='background-color:#AAAAAA'><center>Siblings</center></th></tr>\n",
       "<tr><th style='background-color:#AAAAAA'><center>Survived</center></th><th style='background-color:#BBBBBB'><center>False</center></th><th style='background-color:#BBBBBB'><center>True</center></th></tr>\n",
       "<tr><th style='background-color:#BBBBBB'><center>False</center></th><td style='background-color:#f38a64;text-align:right;'>0.0909</td><td style='background-color:#8af364;text-align:right;'>0.9091</td></tr>\n",
       "<tr><th style='background-color:#BBBBBB'><center>True</center></th><td style='background-color:#8af364;text-align:right;'>0.9091</td><td style='background-color:#f38a64;text-align:right;'>0.0909</td></tr>\n",
       "</table>"
      ],
      "text/plain": [
       "(gum::Potential<double>@0x5618824a4340) <Siblings:False|Survived:False> :: 0.0909091 /<Siblings:True|Survived:False> :: 0.909091 /<Siblings:False|Survived:True> :: 0.909091 /<Siblings:True|Survived:True> :: 0.0909091"
      ]
     },
     "execution_count": 13,
     "metadata": {},
     "output_type": "execute_result"
    }
   ],
   "source": [
    "bn.cpt('Siblings')[0:] = [ 1, 10]\n",
    "bn.cpt('Siblings')[1:] = [ 10, 1]\n",
    "bn.cpt('Siblings').normalizeAsCPT()\n",
    "bn.cpt('Siblings')"
   ]
  },
  {
   "cell_type": "code",
   "execution_count": 14,
   "metadata": {
    "ExecuteTime": {
     "end_time": "2019-02-21T17:01:17.822219Z",
     "start_time": "2019-02-21T17:01:17.817396Z"
    }
   },
   "outputs": [
    {
     "data": {
      "text/html": [
       "<table>\n",
       "<tr><th colspan='1'></th><th colspan='2' style='background-color:#AAAAAA'><center>Parents</center></th></tr>\n",
       "<tr><th style='background-color:#AAAAAA'><center>Survived</center></th><th style='background-color:#BBBBBB'><center>False</center></th><th style='background-color:#BBBBBB'><center>True</center></th></tr>\n",
       "<tr><th style='background-color:#BBBBBB'><center>False</center></th><td style='background-color:#f38a64;text-align:right;'>0.0909</td><td style='background-color:#8af364;text-align:right;'>0.9091</td></tr>\n",
       "<tr><th style='background-color:#BBBBBB'><center>True</center></th><td style='background-color:#8af364;text-align:right;'>0.9091</td><td style='background-color:#f38a64;text-align:right;'>0.0909</td></tr>\n",
       "</table>"
      ],
      "text/plain": [
       "(gum::Potential<double>@0x5618825a5b60) <Parents:False|Survived:False> :: 0.0909091 /<Parents:True|Survived:False> :: 0.909091 /<Parents:False|Survived:True> :: 0.909091 /<Parents:True|Survived:True> :: 0.0909091"
      ]
     },
     "execution_count": 14,
     "metadata": {},
     "output_type": "execute_result"
    }
   ],
   "source": [
    "bn.cpt('Parents')[0:] = [ 1, 10]\n",
    "bn.cpt('Parents')[1:] = [ 10, 1]\n",
    "bn.cpt('Parents').normalizeAsCPT()\n",
    "bn.cpt('Parents')"
   ]
  },
  {
   "cell_type": "markdown",
   "metadata": {},
   "source": [
    "Now we can start using the Bayesian Network and check that our hypothesis hold."
   ]
  },
  {
   "cell_type": "code",
   "execution_count": 15,
   "metadata": {
    "ExecuteTime": {
     "end_time": "2019-02-21T17:01:23.167208Z",
     "start_time": "2019-02-21T17:01:17.823629Z"
    }
   },
   "outputs": [
    {
     "data": {
      "image/png": "[encoded data removed]"
     },
     "metadata": {},
     "output_type": "display_data"
    }
   ],
   "source": [
    "gnb.showInference(bn,size=\"10\")"
   ]
  },
  {
   "cell_type": "markdown",
   "metadata": {},
   "source": [
    "We can see here that most passengers (99% of them) will not survive and that we have almost as much women (50.4%) as men (49.6%). The majority of passengers are either teenagers or adults. Finally, most passenger had siblings or parents aboard.\n",
    "\n",
    "Recall that we have not use any data to learn the Bayesian Netork's parameters and our expert did not have any knowledge about the passengers aboard the Titanic."
   ]
  },
  {
   "cell_type": "code",
   "execution_count": 16,
   "metadata": {
    "ExecuteTime": {
     "end_time": "2019-02-21T17:01:32.632840Z",
     "start_time": "2019-02-21T17:01:23.169797Z"
    }
   },
   "outputs": [
    {
     "data": {
      "image/png": "[encoded data removed]"
     },
     "metadata": {},
     "output_type": "display_data"
    },
    {
     "data": {
      "image/png": "[encoded data removed]"
     },
     "metadata": {},
     "output_type": "display_data"
    }
   ],
   "source": [
    "gnb.showInference(bn,size=\"10\", evs={'Survived':'False'})\n",
    "gnb.showInference(bn,size=\"10\", evs={'Survived':'True'})"
   ]
  },
  {
   "cell_type": "markdown",
   "metadata": {},
   "source": [
    "Here, we can see that our second and third hypothesis hold since when we enter envidence that a passenger survived, it is more likely to be a woman with no siblings or parents. On the contrary, if we observe that a passenger did not survive we can see that it is more likely to be a man with siblings or parents."
   ]
  },
  {
   "cell_type": "code",
   "execution_count": 17,
   "metadata": {
    "ExecuteTime": {
     "end_time": "2019-02-21T17:01:42.459820Z",
     "start_time": "2019-02-21T17:01:32.635239Z"
    }
   },
   "outputs": [
    {
     "data": {
      "image/png": "[encoded data removed]"
     },
     "metadata": {},
     "output_type": "display_data"
    },
    {
     "data": {
      "image/png": "[encoded data removed]"
     },
     "metadata": {},
     "output_type": "display_data"
    }
   ],
   "source": [
    "gnb.showInference(bn,size=\"10\", evs={'Survived':'True', 'Gender':'Male'})\n",
    "gnb.showInference(bn,size=\"10\", evs={'Gender':'Male'})"
   ]
  },
  {
   "cell_type": "markdown",
   "metadata": {},
   "source": [
    "This validates our first hypothesis: if we know that a passenger survived or not, then evidence about that passenger does not changes our belief about other variables. On the contrary, if we do not know if a passenger survived, then evidence about the passenger will change our belief about other variables, including the fact that he or she survived or not."
   ]
  },
  {
   "cell_type": "code",
   "execution_count": 18,
   "metadata": {
    "ExecuteTime": {
     "end_time": "2019-02-21T17:01:42.706977Z",
     "start_time": "2019-02-21T17:01:42.463996Z"
    }
   },
   "outputs": [
    {
     "data": {
      "text/plain": [
       "True Positive     0.516746\n",
       "False Positive    0.322967\n",
       "False Negative    0.119617\n",
       "True Negative     0.040670\n",
       "dtype: float64"
      ]
     },
     "execution_count": 18,
     "metadata": {},
     "output_type": "execute_result"
    }
   ],
   "source": [
    "ie=gum.LazyPropagation(bn)\n",
    "\n",
    "def init_belief(engine):\n",
    "    # Initialize evidence\n",
    "    for var in engine.BN().names():\n",
    "        if var != 'Survived':\n",
    "            engine.addEvidence(var, 0)\n",
    "\n",
    "def update_beliefs(engine, bayesNet, row):\n",
    "    # Update beliefs from a given row less the Survived variable\n",
    "    for var in bayesNet.names():\n",
    "        if var == \"Survived\":\n",
    "            continue\n",
    "        try:\n",
    "            label = str(row.to_dict()[var])\n",
    "            idx = bayesNet.variable(var).index(str(row.to_dict()[var]))\n",
    "            engine.chgEvidence(var, idx)\n",
    "        except gum.NotFound:\n",
    "            # this can happend when value is missing is the test base.\n",
    "            pass        \n",
    "    engine.makeInference()\n",
    "    \n",
    "def is_well_predicted(engine, bayesNet, auc, row):\n",
    "    update_beliefs(engine, bayesNet, row)\n",
    "    marginal = engine.posterior('Survived')\n",
    "    outcome = row.to_dict()['Survived']\n",
    "    if outcome == \"False\": # Did not survived\n",
    "        if marginal.toarray()[1] < auc:\n",
    "            return \"True Positive\"\n",
    "        else:\n",
    "            return \"False Negative\"\n",
    "    else: # Survived\n",
    "        if marginal.toarray()[1] >= auc:\n",
    "            return \"True Negative\"\n",
    "        else:\n",
    "            return \"False Positive\"\n",
    "\n",
    "init_belief(ie)\n",
    "ie.addTarget('Survived')\n",
    "result = testdf.apply(lambda x: is_well_predicted(ie, bn, 0.5, x), axis=1)\n",
    "result.value_counts(True)"
   ]
  },
  {
   "cell_type": "code",
   "execution_count": 19,
   "metadata": {
    "ExecuteTime": {
     "end_time": "2019-02-21T17:01:42.714192Z",
     "start_time": "2019-02-21T17:01:42.709212Z"
    }
   },
   "outputs": [
    {
     "name": "stdout",
     "output_type": "stream",
     "text": [
      "55.74% good predictions\n"
     ]
    }
   ],
   "source": [
    "positives = sum(result.map(lambda x: 1 if x.startswith(\"True\") else 0 ))\n",
    "total = result.count()\n",
    "print(\"{0:.2f}% good predictions\".format(positives/total*100))"
   ]
  },
  {
   "cell_type": "markdown",
   "metadata": {},
   "source": [
    "This first model achieve a 55% of good predictions, not a good result but we have plenty of room to improve it."
   ]
  },
  {
   "cell_type": "markdown",
   "metadata": {},
   "source": [
    "## Pre-learning\n",
    "We will now learn a Bayesian Network from the training set without any prior knowledge about shipwreks.\n",
    "\n",
    "Before learning a Bayesian Network, we first need to create a template. This is not mandatory, however it is sometimes usefull since not all varaibles values are present in the learning base (in this example the number of relatives).\n",
    "\n",
    "If during the learning step, the algorithm encounters an unknown value it will raise an error. This would be an issue if we wanted to automitize our classifier but, we will directly use values working with the test and learning base. This is not ideal but the objective here it to explore the data fast, not thoroughly."
   ]
  },
  {
   "cell_type": "markdown",
   "metadata": {},
   "source": [
    "To help creating de the template Bayesian Network that we will use to learn our classifier, let us firt recall all the variables wa have at our disposal."
   ]
  },
  {
   "cell_type": "code",
   "execution_count": 20,
   "metadata": {
    "ExecuteTime": {
     "end_time": "2019-02-21T17:01:42.731932Z",
     "start_time": "2019-02-21T17:01:42.716686Z"
    }
   },
   "outputs": [
    {
     "name": "stdout",
     "output_type": "stream",
     "text": [
      "Survived: 2\n",
      "Pclass: 3\n",
      "Gender: 2\n",
      "Age: 6\n",
      "Siblings: 2\n",
      "Parents: 2\n",
      "Embarked: 4\n"
     ]
    }
   ],
   "source": [
    "df = pandas.read_csv(os.path.join('res', 'titanic', 'post_train.csv'))\n",
    "for k in traindf.keys():\n",
    "    print('{0}: {1}'.format(k, len(traindf[k].unique())))"
   ]
  },
  {
   "cell_type": "markdown",
   "metadata": {},
   "source": [
    "From here, creating the BayesNet is straitforward: for each variable we either use the `RangeVariable` class or the `LabelizedVariable`.\n",
    "\n",
    "The `RangeVariable` class creates a discrete random variable over a range. With the `LabelizedVariable` you will need to add each label ony by one. Note however that you can pass an argument to create as much labels starting from `0`."
   ]
  },
  {
   "cell_type": "code",
   "execution_count": 21,
   "metadata": {
    "ExecuteTime": {
     "end_time": "2019-02-21T17:01:44.809502Z",
     "start_time": "2019-02-21T17:01:42.733829Z"
    }
   },
   "outputs": [
    {
     "data": {
      "text/html": [
       "<svg height=\"17pt\" viewBox=\"0.00 0.00 288.00 16.77\" width=\"288pt\" xmlns=\"http://www.w3.org/2000/svg\" xmlns:xlink=\"http://www.w3.org/1999/xlink\">\n",
       "<g class=\"graph\" id=\"graph0\" transform=\"scale(.3812 .3812) rotate(0) translate(4 40)\">\n",
       "<title>G</title>\n",
       "<!-- Survived -->\n",
       "<g class=\"node\" id=\"node1\">\n",
       "<title>Survived</title>\n",
       "<g id=\"a_node1\"><a xlink:title=\"(0) Survived\">\n",
       "<ellipse cx=\"51.9954\" cy=\"-18\" fill=\"#444444\" rx=\"51.9908\" ry=\"18\" stroke=\"#000000\"/>\n",
       "<text fill=\"#ffffff\" font-family=\"Times,serif\" font-size=\"14.00\" text-anchor=\"middle\" x=\"51.9954\" y=\"-14.3\">Survived</text>\n",
       "</a>\n",
       "</g>\n",
       "</g>\n",
       "<!-- Pclass -->\n",
       "<g class=\"node\" id=\"node2\">\n",
       "<title>Pclass</title>\n",
       "<g id=\"a_node2\"><a xlink:title=\"(1) Pclass\">\n",
       "<ellipse cx=\"161.9954\" cy=\"-18\" fill=\"#444444\" rx=\"40.0939\" ry=\"18\" stroke=\"#000000\"/>\n",
       "<text fill=\"#ffffff\" font-family=\"Times,serif\" font-size=\"14.00\" text-anchor=\"middle\" x=\"161.9954\" y=\"-14.3\">Pclass</text>\n",
       "</a>\n",
       "</g>\n",
       "</g>\n",
       "<!-- Gender -->\n",
       "<g class=\"node\" id=\"node3\">\n",
       "<title>Gender</title>\n",
       "<g id=\"a_node3\"><a xlink:title=\"(2) Gender\">\n",
       "<ellipse cx=\"264.9954\" cy=\"-18\" fill=\"#444444\" rx=\"44.6926\" ry=\"18\" stroke=\"#000000\"/>\n",
       "<text fill=\"#ffffff\" font-family=\"Times,serif\" font-size=\"14.00\" text-anchor=\"middle\" x=\"264.9954\" y=\"-14.3\">Gender</text>\n",
       "</a>\n",
       "</g>\n",
       "</g>\n",
       "<!-- Siblings -->\n",
       "<g class=\"node\" id=\"node4\">\n",
       "<title>Siblings</title>\n",
       "<g id=\"a_node4\"><a xlink:title=\"(3) Siblings\">\n",
       "<ellipse cx=\"375.9954\" cy=\"-18\" fill=\"#444444\" rx=\"48.1917\" ry=\"18\" stroke=\"#000000\"/>\n",
       "<text fill=\"#ffffff\" font-family=\"Times,serif\" font-size=\"14.00\" text-anchor=\"middle\" x=\"375.9954\" y=\"-14.3\">Siblings</text>\n",
       "</a>\n",
       "</g>\n",
       "</g>\n",
       "<!-- Parents -->\n",
       "<g class=\"node\" id=\"node5\">\n",
       "<title>Parents</title>\n",
       "<g id=\"a_node5\"><a xlink:title=\"(4) Parents\">\n",
       "<ellipse cx=\"488.9954\" cy=\"-18\" fill=\"#444444\" rx=\"46.5926\" ry=\"18\" stroke=\"#000000\"/>\n",
       "<text fill=\"#ffffff\" font-family=\"Times,serif\" font-size=\"14.00\" text-anchor=\"middle\" x=\"488.9954\" y=\"-14.3\">Parents</text>\n",
       "</a>\n",
       "</g>\n",
       "</g>\n",
       "<!-- Embarked -->\n",
       "<g class=\"node\" id=\"node6\">\n",
       "<title>Embarked</title>\n",
       "<g id=\"a_node6\"><a xlink:title=\"(5) Embarked\">\n",
       "<ellipse cx=\"612.9954\" cy=\"-18\" fill=\"#444444\" rx=\"59.2899\" ry=\"18\" stroke=\"#000000\"/>\n",
       "<text fill=\"#ffffff\" font-family=\"Times,serif\" font-size=\"14.00\" text-anchor=\"middle\" x=\"612.9954\" y=\"-14.3\">Embarked</text>\n",
       "</a>\n",
       "</g>\n",
       "</g>\n",
       "<!-- Age -->\n",
       "<g class=\"node\" id=\"node7\">\n",
       "<title>Age</title>\n",
       "<g id=\"a_node7\"><a xlink:title=\"(6) Age\">\n",
       "<ellipse cx=\"718.9954\" cy=\"-18\" fill=\"#444444\" rx=\"28.6953\" ry=\"18\" stroke=\"#000000\"/>\n",
       "<text fill=\"#ffffff\" font-family=\"Times,serif\" font-size=\"14.00\" text-anchor=\"middle\" x=\"718.9954\" y=\"-14.3\">Age</text>\n",
       "</a>\n",
       "</g>\n",
       "</g>\n",
       "</g>\n",
       "</svg>"
      ],
      "text/plain": [
       "<IPython.core.display.HTML object>"
      ]
     },
     "metadata": {},
     "output_type": "display_data"
    }
   ],
   "source": [
    "template=gum.BayesNet()\n",
    "template.add(gum.LabelizedVariable(\"Survived\", \"Survived\", ['False', 'True']))\n",
    "template.add(gum.RangeVariable(\"Pclass\", \"Pclass\",1,3))\n",
    "template.add(gum.LabelizedVariable(\"Gender\", \"The passenger's gender\",['Female', 'Male']))\n",
    "template.add(gum.LabelizedVariable(\"Siblings\", \"Siblings\",['False', 'True']))\n",
    "template.add(gum.LabelizedVariable(\"Parents\", \"Parents\",['False', 'True']))\n",
    "template.add(gum.LabelizedVariable(\"Embarked\", \"Embarked\", ['', 'C', 'Q', 'S']))\n",
    "template.add(gum.LabelizedVariable(\"Age\", \"The passenger's age category\", [\"baby\", \"toddler\", \"kid\", \"teen\", \"adult\", \"old\"]))             \n",
    "gnb.showBN(template)"
   ]
  },
  {
   "cell_type": "markdown",
   "metadata": {},
   "source": [
    "You can also let the learning algorithm create the BayesNet random variables. However please be aware that the algorithm will no be able to handle values absent from the learning database."
   ]
  },
  {
   "cell_type": "markdown",
   "metadata": {},
   "source": [
    "## Learning\n",
    "\n",
    "We can now learn our first Bayesian Network. As you will see, this is really easy."
   ]
  },
  {
   "cell_type": "code",
   "execution_count": 22,
   "metadata": {
    "ExecuteTime": {
     "end_time": "2019-02-21T17:01:46.893582Z",
     "start_time": "2019-02-21T17:01:44.813403Z"
    },
    "scrolled": false
   },
   "outputs": [
    {
     "data": {
      "text/html": [
       "<svg height=\"288pt\" viewBox=\"0.00 0.00 124.27 288.00\" width=\"124pt\" xmlns=\"http://www.w3.org/2000/svg\" xmlns:xlink=\"http://www.w3.org/1999/xlink\">\n",
       "<g class=\"graph\" id=\"graph0\" transform=\"scale(.605 .605) rotate(0) translate(4 472)\">\n",
       "<title>G</title>\n",
       "<!-- Survived -->\n",
       "<g class=\"node\" id=\"node1\">\n",
       "<title>Survived</title>\n",
       "<g id=\"a_node1\"><a xlink:title=\"(0) Survived\">\n",
       "<ellipse cx=\"114.2415\" cy=\"-18\" fill=\"#444444\" rx=\"51.9908\" ry=\"18\" stroke=\"#000000\"/>\n",
       "<text fill=\"#ffffff\" font-family=\"Times,serif\" font-size=\"14.00\" text-anchor=\"middle\" x=\"114.2415\" y=\"-14.3\">Survived</text>\n",
       "</a>\n",
       "</g>\n",
       "</g>\n",
       "<!-- Pclass -->\n",
       "<g class=\"node\" id=\"node2\">\n",
       "<title>Pclass</title>\n",
       "<g id=\"a_node2\"><a xlink:title=\"(1) Pclass\">\n",
       "<ellipse cx=\"138.2415\" cy=\"-234\" fill=\"#444444\" rx=\"40.0939\" ry=\"18\" stroke=\"#000000\"/>\n",
       "<text fill=\"#ffffff\" font-family=\"Times,serif\" font-size=\"14.00\" text-anchor=\"middle\" x=\"138.2415\" y=\"-230.3\">Pclass</text>\n",
       "</a>\n",
       "</g>\n",
       "</g>\n",
       "<!-- Pclass&#45;&gt;Survived -->\n",
       "<g class=\"edge\" id=\"edge8\">\n",
       "<title>Pclass-&gt;Survived</title>\n",
       "<g id=\"a_edge8\"><a xlink:title=\"(1, 0) : \">\n",
       "<path d=\"M138.7467,-215.8681C139.2738,-185.7553 139.0355,-123.6327 130.2415,-72 128.7709,-63.3655 126.3704,-54.1619 123.8709,-45.8447\" fill=\"none\" stroke=\"#000000\"/>\n",
       "<polygon fill=\"#000000\" points=\"127.1842,-44.7139 120.8287,-36.237 120.5107,-46.827 127.1842,-44.7139\" stroke=\"#000000\"/>\n",
       "</a>\n",
       "</g>\n",
       "</g>\n",
       "<!-- Siblings -->\n",
       "<g class=\"node\" id=\"node4\">\n",
       "<title>Siblings</title>\n",
       "<g id=\"a_node4\"><a xlink:title=\"(3) Siblings\">\n",
       "<ellipse cx=\"76.2415\" cy=\"-162\" fill=\"#444444\" rx=\"48.1917\" ry=\"18\" stroke=\"#000000\"/>\n",
       "<text fill=\"#ffffff\" font-family=\"Times,serif\" font-size=\"14.00\" text-anchor=\"middle\" x=\"76.2415\" y=\"-158.3\">Siblings</text>\n",
       "</a>\n",
       "</g>\n",
       "</g>\n",
       "<!-- Pclass&#45;&gt;Siblings -->\n",
       "<g class=\"edge\" id=\"edge2\">\n",
       "<title>Pclass-&gt;Siblings</title>\n",
       "<g id=\"a_edge2\"><a xlink:title=\"(1, 3) : \">\n",
       "<path d=\"M123.5484,-216.937C115.8628,-208.0119 106.3079,-196.9159 97.8014,-187.0373\" fill=\"none\" stroke=\"#000000\"/>\n",
       "<polygon fill=\"#000000\" points=\"100.4373,-184.7345 91.2598,-179.4407 95.1329,-189.3022 100.4373,-184.7345\" stroke=\"#000000\"/>\n",
       "</a>\n",
       "</g>\n",
       "</g>\n",
       "<!-- Gender -->\n",
       "<g class=\"node\" id=\"node3\">\n",
       "<title>Gender</title>\n",
       "<g id=\"a_node3\"><a xlink:title=\"(2) Gender\">\n",
       "<ellipse cx=\"76.2415\" cy=\"-90\" fill=\"#444444\" rx=\"44.6926\" ry=\"18\" stroke=\"#000000\"/>\n",
       "<text fill=\"#ffffff\" font-family=\"Times,serif\" font-size=\"14.00\" text-anchor=\"middle\" x=\"76.2415\" y=\"-86.3\">Gender</text>\n",
       "</a>\n",
       "</g>\n",
       "</g>\n",
       "<!-- Gender&#45;&gt;Survived -->\n",
       "<g class=\"edge\" id=\"edge4\">\n",
       "<title>Gender-&gt;Survived</title>\n",
       "<g id=\"a_edge4\"><a xlink:title=\"(2, 0) : \">\n",
       "<path d=\"M85.6347,-72.2022C89.9737,-63.981 95.2198,-54.041 100.0284,-44.9301\" fill=\"none\" stroke=\"#000000\"/>\n",
       "<polygon fill=\"#000000\" points=\"103.2523,-46.3201 104.8246,-35.8425 97.0616,-43.0527 103.2523,-46.3201\" stroke=\"#000000\"/>\n",
       "</a>\n",
       "</g>\n",
       "</g>\n",
       "<!-- Siblings&#45;&gt;Gender -->\n",
       "<g class=\"edge\" id=\"edge1\">\n",
       "<title>Siblings-&gt;Gender</title>\n",
       "<g id=\"a_edge1\"><a xlink:title=\"(3, 2) : \">\n",
       "<path d=\"M76.2415,-143.8314C76.2415,-136.131 76.2415,-126.9743 76.2415,-118.4166\" fill=\"none\" stroke=\"#000000\"/>\n",
       "<polygon fill=\"#000000\" points=\"79.7416,-118.4132 76.2415,-108.4133 72.7416,-118.4133 79.7416,-118.4132\" stroke=\"#000000\"/>\n",
       "</a>\n",
       "</g>\n",
       "</g>\n",
       "<!-- Parents -->\n",
       "<g class=\"node\" id=\"node5\">\n",
       "<title>Parents</title>\n",
       "<g id=\"a_node5\"><a xlink:title=\"(4) Parents\">\n",
       "<ellipse cx=\"51.2415\" cy=\"-450\" fill=\"#444444\" rx=\"46.5926\" ry=\"18\" stroke=\"#000000\"/>\n",
       "<text fill=\"#ffffff\" font-family=\"Times,serif\" font-size=\"14.00\" text-anchor=\"middle\" x=\"51.2415\" y=\"-446.3\">Parents</text>\n",
       "</a>\n",
       "</g>\n",
       "</g>\n",
       "<!-- Parents&#45;&gt;Gender -->\n",
       "<g class=\"edge\" id=\"edge6\">\n",
       "<title>Parents-&gt;Gender</title>\n",
       "<g id=\"a_edge6\"><a xlink:title=\"(4, 2) : \">\n",
       "<path d=\"M40.4257,-432.0837C25.4551,-405.5364 .2415,-353.7389 .2415,-306 .2415,-306 .2415,-306 .2415,-234 .2415,-193.1184 -.7245,-179.6745 19.2415,-144 25.913,-132.0797 36.0956,-121.2172 46.0182,-112.411\" fill=\"none\" stroke=\"#000000\"/>\n",
       "<polygon fill=\"#000000\" points=\"48.4596,-114.9306 53.8482,-105.8084 43.947,-109.5792 48.4596,-114.9306\" stroke=\"#000000\"/>\n",
       "</a>\n",
       "</g>\n",
       "</g>\n",
       "<!-- Parents&#45;&gt;Siblings -->\n",
       "<g class=\"edge\" id=\"edge5\">\n",
       "<title>Parents-&gt;Siblings</title>\n",
       "<g id=\"a_edge5\"><a xlink:title=\"(4, 3) : \">\n",
       "<path d=\"M52.8054,-431.9843C57.0319,-383.2939 68.7071,-248.7961 73.806,-190.0573\" fill=\"none\" stroke=\"#000000\"/>\n",
       "<polygon fill=\"#000000\" points=\"77.3002,-190.2741 74.6782,-180.0089 70.3264,-189.6687 77.3002,-190.2741\" stroke=\"#000000\"/>\n",
       "</a>\n",
       "</g>\n",
       "</g>\n",
       "<!-- Age -->\n",
       "<g class=\"node\" id=\"node7\">\n",
       "<title>Age</title>\n",
       "<g id=\"a_node7\"><a xlink:title=\"(6) Age\">\n",
       "<ellipse cx=\"123.2415\" cy=\"-378\" fill=\"#444444\" rx=\"28.6953\" ry=\"18\" stroke=\"#000000\"/>\n",
       "<text fill=\"#ffffff\" font-family=\"Times,serif\" font-size=\"14.00\" text-anchor=\"middle\" x=\"123.2415\" y=\"-374.3\">Age</text>\n",
       "</a>\n",
       "</g>\n",
       "</g>\n",
       "<!-- Parents&#45;&gt;Age -->\n",
       "<g class=\"edge\" id=\"edge3\">\n",
       "<title>Parents-&gt;Age</title>\n",
       "<g id=\"a_edge3\"><a xlink:title=\"(4, 6) : \">\n",
       "<path d=\"M68.3045,-432.937C77.9417,-423.2997 90.1101,-411.1313 100.5438,-400.6977\" fill=\"none\" stroke=\"#000000\"/>\n",
       "<polygon fill=\"#000000\" points=\"103.1774,-403.0139 107.7736,-393.4679 98.2276,-398.0641 103.1774,-403.0139\" stroke=\"#000000\"/>\n",
       "</a>\n",
       "</g>\n",
       "</g>\n",
       "<!-- Embarked -->\n",
       "<g class=\"node\" id=\"node6\">\n",
       "<title>Embarked</title>\n",
       "<g id=\"a_node6\"><a xlink:title=\"(5) Embarked\">\n",
       "<ellipse cx=\"138.2415\" cy=\"-306\" fill=\"#444444\" rx=\"59.2899\" ry=\"18\" stroke=\"#000000\"/>\n",
       "<text fill=\"#ffffff\" font-family=\"Times,serif\" font-size=\"14.00\" text-anchor=\"middle\" x=\"138.2415\" y=\"-302.3\">Embarked</text>\n",
       "</a>\n",
       "</g>\n",
       "</g>\n",
       "<!-- Embarked&#45;&gt;Pclass -->\n",
       "<g class=\"edge\" id=\"edge7\">\n",
       "<title>Embarked-&gt;Pclass</title>\n",
       "<g id=\"a_edge7\"><a xlink:title=\"(5, 1) : \">\n",
       "<path d=\"M138.2415,-287.8314C138.2415,-280.131 138.2415,-270.9743 138.2415,-262.4166\" fill=\"none\" stroke=\"#000000\"/>\n",
       "<polygon fill=\"#000000\" points=\"141.7416,-262.4132 138.2415,-252.4133 134.7416,-262.4133 141.7416,-262.4132\" stroke=\"#000000\"/>\n",
       "</a>\n",
       "</g>\n",
       "</g>\n",
       "<!-- Age&#45;&gt;Embarked -->\n",
       "<g class=\"edge\" id=\"edge9\">\n",
       "<title>Age-&gt;Embarked</title>\n",
       "<g id=\"a_edge9\"><a xlink:title=\"(6, 5) : \">\n",
       "<path d=\"M127.0266,-359.8314C128.6309,-352.131 130.5385,-342.9743 132.3214,-334.4166\" fill=\"none\" stroke=\"#000000\"/>\n",
       "<polygon fill=\"#000000\" points=\"135.7922,-334.9169 134.4054,-324.4133 128.9393,-333.4892 135.7922,-334.9169\" stroke=\"#000000\"/>\n",
       "</a>\n",
       "</g>\n",
       "</g>\n",
       "</g>\n",
       "</svg>"
      ],
      "text/plain": [
       "(gum::BayesNet<double>@0x561882da95d0) BN{nodes: 7, arcs: 9, domainSize: 1152, parameters: 82, compression ratio: 92% }"
      ]
     },
     "execution_count": 22,
     "metadata": {},
     "output_type": "execute_result"
    }
   ],
   "source": [
    "file = os.path.join('res', 'titanic', 'post_train.csv')\n",
    "learner = gum.BNLearner(file, template)\n",
    "bn = learner.learnBN()\n",
    "bn"
   ]
  },
  {
   "cell_type": "markdown",
   "metadata": {},
   "source": [
    "In a notebook, a Bayesian Network will automatically be shown graphically, you can also use the helper function `gnb.showBN(bn)`."
   ]
  },
  {
   "cell_type": "markdown",
   "metadata": {},
   "source": [
    "## Exploring the data\n",
    "Now that we have a BayesNet, we can start looking how the variables corelate with each other. pyAgum offer the perfect tool for that: the information graph."
   ]
  },
  {
   "cell_type": "code",
   "execution_count": 23,
   "metadata": {
    "ExecuteTime": {
     "end_time": "2019-02-21T17:01:49.096343Z",
     "start_time": "2019-02-21T17:01:46.895816Z"
    }
   },
   "outputs": [
    {
     "data": {
      "text/html": [
       "<div align='center'><svg height=\"476pt\" viewBox=\"0.00 0.00 205.39 476.00\" width=\"205pt\" xmlns=\"http://www.w3.org/2000/svg\" xmlns:xlink=\"http://www.w3.org/1999/xlink\">\n",
       "<g class=\"graph\" id=\"graph0\" transform=\"scale(1 1) rotate(0) translate(4 472)\">\n",
       "<title>G</title>\n",
       "<!-- Survived -->\n",
       "<g class=\"node\" id=\"node1\">\n",
       "<title>Survived</title>\n",
       "<g id=\"a_node1\"><a xlink:title=\"(0) Survived : 0.95547\">\n",
       "<ellipse cx=\"114.2415\" cy=\"-18\" fill=\"#5b1c30\" rx=\"51.9908\" ry=\"18\" stroke=\"#000000\"/>\n",
       "<text fill=\"#ffffff\" font-family=\"Times,serif\" font-size=\"14.00\" text-anchor=\"middle\" x=\"114.2415\" y=\"-14.3\">Survived</text>\n",
       "</a>\n",
       "</g>\n",
       "</g>\n",
       "<!-- Pclass -->\n",
       "<g class=\"node\" id=\"node2\">\n",
       "<title>Pclass</title>\n",
       "<g id=\"a_node2\"><a xlink:title=\"(1) Pclass : 1.43964\">\n",
       "<ellipse cx=\"138.2415\" cy=\"-234\" fill=\"#8570bb\" rx=\"40.0939\" ry=\"18\" stroke=\"#000000\"/>\n",
       "<text fill=\"#ffffff\" font-family=\"Times,serif\" font-size=\"14.00\" text-anchor=\"middle\" x=\"138.2415\" y=\"-230.3\">Pclass</text>\n",
       "</a>\n",
       "</g>\n",
       "</g>\n",
       "<!-- Pclass&#45;&gt;Survived -->\n",
       "<g class=\"edge\" id=\"edge8\">\n",
       "<title>Pclass-&gt;Survived</title>\n",
       "<g id=\"a_edge8\"><a xlink:title=\"(1, 0) : 0.06188387020981327\">\n",
       "<path d=\"M138.7467,-215.8681C139.2738,-185.7553 139.0355,-123.6327 130.2415,-72 128.7709,-63.3655 126.3704,-54.1619 123.8709,-45.8447\" fill=\"none\" stroke=\"#000000\" stroke-width=\"1.6716\"/>\n",
       "<polygon fill=\"#000000\" points=\"127.1842,-44.7139 120.8287,-36.237 120.5107,-46.827 127.1842,-44.7139\" stroke=\"#000000\" stroke-width=\"1.6716\"/>\n",
       "</a>\n",
       "</g>\n",
       "</g>\n",
       "<!-- Siblings -->\n",
       "<g class=\"node\" id=\"node4\">\n",
       "<title>Siblings</title>\n",
       "<g id=\"a_node4\"><a xlink:title=\"(3) Siblings : 0.90370\">\n",
       "<ellipse cx=\"76.2415\" cy=\"-162\" fill=\"#561321\" rx=\"48.1917\" ry=\"18\" stroke=\"#000000\"/>\n",
       "<text fill=\"#ffffff\" font-family=\"Times,serif\" font-size=\"14.00\" text-anchor=\"middle\" x=\"76.2415\" y=\"-158.3\">Siblings</text>\n",
       "</a>\n",
       "</g>\n",
       "</g>\n",
       "<!-- Pclass&#45;&gt;Siblings -->\n",
       "<g class=\"edge\" id=\"edge2\">\n",
       "<title>Pclass-&gt;Siblings</title>\n",
       "<g id=\"a_edge2\"><a xlink:title=\"(1, 3) : 0.003130418122582839\">\n",
       "<path d=\"M123.5484,-216.937C115.8628,-208.0119 106.3079,-196.9159 97.8014,-187.0373\" fill=\"none\" stroke=\"#000000\" stroke-width=\".1\"/>\n",
       "<polygon fill=\"#000000\" points=\"100.4373,-184.7345 91.2598,-179.4407 95.1329,-189.3022 100.4373,-184.7345\" stroke=\"#000000\" stroke-width=\".1\"/>\n",
       "</a>\n",
       "</g>\n",
       "</g>\n",
       "<!-- Gender -->\n",
       "<g class=\"node\" id=\"node3\">\n",
       "<title>Gender</title>\n",
       "<g id=\"a_node3\"><a xlink:title=\"(2) Gender : 0.93637\">\n",
       "<ellipse cx=\"76.2415\" cy=\"-90\" fill=\"#59192b\" rx=\"44.6926\" ry=\"18\" stroke=\"#000000\"/>\n",
       "<text fill=\"#ffffff\" font-family=\"Times,serif\" font-size=\"14.00\" text-anchor=\"middle\" x=\"76.2415\" y=\"-86.3\">Gender</text>\n",
       "</a>\n",
       "</g>\n",
       "</g>\n",
       "<!-- Gender&#45;&gt;Survived -->\n",
       "<g class=\"edge\" id=\"edge4\">\n",
       "<title>Gender-&gt;Survived</title>\n",
       "<g id=\"a_edge4\"><a xlink:title=\"(2, 0) : 0.19005139456505218\">\n",
       "<path d=\"M85.6347,-72.2022C89.9737,-63.981 95.2198,-54.041 100.0284,-44.9301\" fill=\"none\" stroke=\"#000000\" stroke-width=\"5.1\"/>\n",
       "<polygon fill=\"#000000\" points=\"104.1035,-46.7693 104.8246,-35.8425 96.2104,-42.6035 104.1035,-46.7693\" stroke=\"#000000\" stroke-width=\"5.1\"/>\n",
       "</a>\n",
       "</g>\n",
       "</g>\n",
       "<!-- Siblings&#45;&gt;Gender -->\n",
       "<g class=\"edge\" id=\"edge1\">\n",
       "<title>Siblings-&gt;Gender</title>\n",
       "<g id=\"a_edge1\"><a xlink:title=\"(3, 2) : 0.029375456747888072\">\n",
       "<path d=\"M76.2415,-143.8314C76.2415,-136.131 76.2415,-126.9743 76.2415,-118.4166\" fill=\"none\" stroke=\"#000000\" stroke-width=\".802\"/>\n",
       "<polygon fill=\"#000000\" points=\"79.7416,-118.4132 76.2415,-108.4133 72.7416,-118.4133 79.7416,-118.4132\" stroke=\"#000000\" stroke-width=\".802\"/>\n",
       "</a>\n",
       "</g>\n",
       "</g>\n",
       "<!-- Parents -->\n",
       "<g class=\"node\" id=\"node5\">\n",
       "<title>Parents</title>\n",
       "<g id=\"a_node5\"><a xlink:title=\"(4) Parents : 0.79396\">\n",
       "<ellipse cx=\"51.2415\" cy=\"-450\" fill=\"#4d0102\" rx=\"46.5926\" ry=\"18\" stroke=\"#000000\"/>\n",
       "<text fill=\"#ffffff\" font-family=\"Times,serif\" font-size=\"14.00\" text-anchor=\"middle\" x=\"51.2415\" y=\"-446.3\">Parents</text>\n",
       "</a>\n",
       "</g>\n",
       "</g>\n",
       "<!-- Parents&#45;&gt;Gender -->\n",
       "<g class=\"edge\" id=\"edge6\">\n",
       "<title>Parents-&gt;Gender</title>\n",
       "<g id=\"a_edge6\"><a xlink:title=\"(4, 2) : 0.042400051353146145\">\n",
       "<path d=\"M40.4257,-432.0837C25.4551,-405.5364 .2415,-353.7389 .2415,-306 .2415,-306 .2415,-306 .2415,-234 .2415,-193.1184 -.7245,-179.6745 19.2415,-144 25.913,-132.0797 36.0956,-121.2172 46.0182,-112.411\" fill=\"none\" stroke=\"#000000\" stroke-width=\"1.1504\"/>\n",
       "<polygon fill=\"#000000\" points=\"48.4596,-114.9306 53.8482,-105.8084 43.947,-109.5792 48.4596,-114.9306\" stroke=\"#000000\" stroke-width=\"1.1504\"/>\n",
       "</a>\n",
       "</g>\n",
       "</g>\n",
       "<!-- Parents&#45;&gt;Siblings -->\n",
       "<g class=\"edge\" id=\"edge5\">\n",
       "<title>Parents-&gt;Siblings</title>\n",
       "<g id=\"a_edge5\"><a xlink:title=\"(4, 3) : 0.12199245686348749\">\n",
       "<path d=\"M52.8054,-431.9843C57.0319,-383.2939 68.7071,-248.7961 73.806,-190.0573\" fill=\"none\" stroke=\"#000000\" stroke-width=\"3.2795\"/>\n",
       "<polygon fill=\"#000000\" points=\"77.3002,-190.2741 74.6782,-180.0089 70.3264,-189.6687 77.3002,-190.2741\" stroke=\"#000000\" stroke-width=\"3.2795\"/>\n",
       "</a>\n",
       "</g>\n",
       "</g>\n",
       "<!-- Age -->\n",
       "<g class=\"node\" id=\"node7\">\n",
       "<title>Age</title>\n",
       "<g id=\"a_node7\"><a xlink:title=\"(6) Age : 1.67210\">\n",
       "<ellipse cx=\"123.2415\" cy=\"-378\" fill=\"#9898fd\" rx=\"28.6953\" ry=\"18\" stroke=\"#000000\"/>\n",
       "<text fill=\"#000000\" font-family=\"Times,serif\" font-size=\"14.00\" text-anchor=\"middle\" x=\"123.2415\" y=\"-374.3\">Age</text>\n",
       "</a>\n",
       "</g>\n",
       "</g>\n",
       "<!-- Parents&#45;&gt;Age -->\n",
       "<g class=\"edge\" id=\"edge3\">\n",
       "<title>Parents-&gt;Age</title>\n",
       "<g id=\"a_edge3\"><a xlink:title=\"(4, 6) : 0.15997823869673794\">\n",
       "<path d=\"M68.3045,-432.937C77.9417,-423.2997 90.1101,-411.1313 100.5438,-400.6977\" fill=\"none\" stroke=\"#000000\" stroke-width=\"4.2956\"/>\n",
       "<polygon fill=\"#000000\" points=\"103.3602,-403.1968 107.7736,-393.4679 98.0447,-397.8813 103.3602,-403.1968\" stroke=\"#000000\" stroke-width=\"4.2956\"/>\n",
       "</a>\n",
       "</g>\n",
       "</g>\n",
       "<!-- Embarked -->\n",
       "<g class=\"node\" id=\"node6\">\n",
       "<title>Embarked</title>\n",
       "<g id=\"a_node6\"><a xlink:title=\"(5) Embarked : 1.12038\">\n",
       "<ellipse cx=\"138.2415\" cy=\"-306\" fill=\"#69395f\" rx=\"59.2899\" ry=\"18\" stroke=\"#000000\"/>\n",
       "<text fill=\"#ffffff\" font-family=\"Times,serif\" font-size=\"14.00\" text-anchor=\"middle\" x=\"138.2415\" y=\"-302.3\">Embarked</text>\n",
       "</a>\n",
       "</g>\n",
       "</g>\n",
       "<!-- Embarked&#45;&gt;Pclass -->\n",
       "<g class=\"edge\" id=\"edge7\">\n",
       "<title>Embarked-&gt;Pclass</title>\n",
       "<g id=\"a_edge7\"><a xlink:title=\"(5, 1) : 0.10523655617315912\">\n",
       "<path d=\"M138.2415,-287.8314C138.2415,-280.131 138.2415,-270.9743 138.2415,-262.4166\" fill=\"none\" stroke=\"#000000\" stroke-width=\"2.8313\"/>\n",
       "<polygon fill=\"#000000\" points=\"141.7416,-262.4132 138.2415,-252.4133 134.7416,-262.4133 141.7416,-262.4132\" stroke=\"#000000\" stroke-width=\"2.8313\"/>\n",
       "</a>\n",
       "</g>\n",
       "</g>\n",
       "<!-- Age&#45;&gt;Embarked -->\n",
       "<g class=\"edge\" id=\"edge9\">\n",
       "<title>Age-&gt;Embarked</title>\n",
       "<g id=\"a_edge9\"><a xlink:title=\"(6, 5) : 0.07532836405242072\">\n",
       "<path d=\"M127.0266,-359.8314C128.6309,-352.131 130.5385,-342.9743 132.3214,-334.4166\" fill=\"none\" stroke=\"#000000\" stroke-width=\"2.0312\"/>\n",
       "<polygon fill=\"#000000\" points=\"135.7922,-334.9169 134.4054,-324.4133 128.9393,-333.4892 135.7922,-334.9169\" stroke=\"#000000\" stroke-width=\"2.0312\"/>\n",
       "</a>\n",
       "</g>\n",
       "</g>\n",
       "</g>\n",
       "</svg></div><div align='center'><font color='#4d0102'>0.7939573061919782</font><img style='vertical-align:middle' src='data:image/png;base64,iVBORw0KGgoAAAANSUhEUgAAAhwAAABRCAYAAACZp3/nAAAABHNCSVQICAgIfAhkiAAAAAlwSFlz\n",
       "AAALEgAACxIB0t1+/AAAADl0RVh0U29mdHdhcmUAbWF0cGxvdGxpYiB2ZXJzaW9uIDMuMC4yLCBo\n",
       "dHRwOi8vbWF0cGxvdGxpYi5vcmcvOIA7rQAACSRJREFUeJzt3X2obFUZx/Hvr26mlWl5EyvzJUrM\n",
       "QMXKSqxuL5DaH2YKVlpaEmYlWAlZkFkRRQRFQomZiBIJpam9/1GWgi+oeb2WWlmIqZFppWmSXn36\n",
       "Y/a18XrvmX3OmTVzZu73A8OZvfeaNc8za86eh733zEpVIUmS1NJTph2AJEmafxYckiSpOQsOSZLU\n",
       "nAWHJElqzoJDkiQ1Z8EhSZKas+CQJEnNWXBIkqTmLDgkSVJzqxb7gB2Tenhkq/Ranc2129wDezVf\n",
       "uNHjW7PI5x65ul9/6Z1Lz/iWmEc2vXpxzz2mXMY/JovrZ/TDlhDXEl+TJ8eyxNdkmbmM7X26jDxG\n",
       "vx3aPffw4pMfPaq/8Y7FhhdidOsFWixxf/Wk/caYclns8268OqPajepv2f/rLH9cxjQmy35NxvBZ\n",
       "dPvt1/28qg4a1W7RBcfDwOsff9NsCHjDC//E5c2u37Cjz6bXL7W/J7RZoTGu9P5mIcaV3t8T2qzQ\n",
       "GMee85jznYWcV3p/sxCj78MVmPNi+wOOPz6r6cFTKpIkqTkLDkmS1JwFhyRJas6CQ5IkNWfBIUmS\n",
       "mrPgkCRJzVlwSJKk5iw4JElScxYckiSpOQsOSZLUnAWHJElqzoJDkiQ1Z8EhSZKas+CQJEnNWXBI\n",
       "kqTmLDgkSVJzFhySJKk5Cw5JktScBYckSWrOgkOSJDVnwSFJkpqz4JAkSc1ZcEiSpOYsOCRJUnMW\n",
       "HJIkqTkLDkmS1JwFhyRJas6CQ5IkNWfBIUmSmrPgkCRJzVlwSJKk5lJVi3tA8jNgdbe4Grhn3EGt\n",
       "UOY6n8x1PpnrfDLXlemeqjpoVKNFFxxPeHBybVW9cskdzBBznU/mOp/MdT6Z62zzlIokSWrOgkOS\n",
       "JDW33ILjzLFEMRvMdT6Z63wy1/lkrjNsWddwSJIk9eEpFUmS1FyvgiPJQUl+n+TWJKdsYvsuSS5N\n",
       "cn2SdUkOGX+ok9Ej112T/KLL81dJdp5GnMuV5Owkdyf57Wa2J8nXu9dhXZL9Jh3juPTIdc8kVyb5\n",
       "b5KTJx3fOPXI9ahuPG9MckWSfSYd47j0yPXQLte1Sa5NcuCkYxyXUbkOtXtVkvVJjphUbOPWY1zX\n",
       "JLmvG9e1SU6ddIzj0mdcu3zXJvldkl9PMr6xq6oFb8BTgT8BLwa2Am4A9tqozZnACd39vYDbRvW7\n",
       "Em89c/0ecEx3/03AedOOe4m5vh7YD/jtZrYfAvwUCPAa4Oppx9ww1x2BVwFfAE6edryNcz0AeE53\n",
       "/+A5H9dn8f/TxnsDt0w75la5dm2eCvwS+AlwxLRjbjiua4AfTTvOCeW6PXATsEu3vOO0Y17Orc8R\n",
       "jv2BW6vqz1X1MHA+cOhGbQp4dnd/O+CuHv2uRH1y3YvBPzXApZvYPhOq6jLgHws0ORQ4twauArZP\n",
       "8vzJRDdeo3Ktqrur6hrgkclF1UaPXK+oqn92i1cBM3mEDnrl+kB1e2ngmQz2UzOpx/8rwInABcDd\n",
       "7SNqp2euc6FHru8GLqyq27v2Mz22fQqOFwJ/GVq+o1s37DTg6CR3MKiuTxxLdJPXJ9cbgHd09w8D\n",
       "tk2ywwRim7Q+r4Vm23EMjmLNrSSHJbkF+DHw/mnH00qSFzLYH31z2rFMyGuT3JDkp0lePu1gGtoD\n",
       "eE53+v66JO+ddkDLMa6LRt8FnFNVOzM4FH9eknm9IPVk4A1JrgfeANwJPDrdkKTFSfJGBgXHJ6Yd\n",
       "S0tV9YOq2hN4O/D5acfT0NeAT1TVY9MOZAJ+A+xaVfsApwMXTTmellYBrwDeBrwV+HSSPaYb0tKt\n",
       "6tHmTuBFQ8s7d+uGHQccBFBVVybZmsHvwM/a4Z+RuVbVXXRHOJI8Czi8qv41sQgnp8+4awYl2Rs4\n",
       "Czi4qu6ddjyTUFWXJXlxktVVNSvzUyzGK4Hzk8Bg33tIkvVVNXcfxlV1/9D9nyT5xhyP6x3AvVX1\n",
       "IPBgksuAfYA/TDespelzFOIa4KVJdk+yFfBO4JKN2twOvBkgycuArYG/jzPQCRmZa5LVQ0dvPgmc\n",
       "PeEYJ+US4L3dt1VeA9xXVX+ddlBaniS7ABcC76mqmdxp9ZXkJek+gbtvWT0dmMsCq6p2r6rdqmo3\n",
       "4PvAh+ax2ABIstPQuO7P4HNsLscVuBg4MMmqJM8AXg3cPOWYlmzkEY6qWp/kI8DPGVwFfXZV/S7J\n",
       "54Brq+oS4OPAt5J8lMGFWccOXaw1M3rmugb4YpICLgM+PLWAlyHJdxnksrq79uYzwNMAquoMBtfi\n",
       "HALcCvwHeN90Il2+Ubkm2Qm4lsGFz48lOYnBt5Pu30yXK1aPcT0V2AH4RrfPXl8zOkFUj1wPZ1A0\n",
       "PwI8BBw5i/sl6JXr3OiR6xHACUnWMxjXd87ruFbVzRnM0L4OeAw4q6oW/Gr0SuYvjUqSpObm9cJO\n",
       "SZK0glhwSJKk5iw4JElScxYckiSpOQsOSZLUXJ8f/pI0J5I8Ctw4tOr8qvrSAu3XAA9X1RWtY5M0\n",
       "3yw4pC3LQ1W17yLarwEeAJ5UcCRZVVXrxxWYpPnmKRVJJLktyWeT/CbJjUn2TLIb8EHgo0nWJnld\n",
       "knOSnJHkauDLSZ6b5KIk65Jc1f1sOklOS3JekiuT/DHJB7r15yZ5+9DzfifJTM64LGlxLDikLcs2\n",
       "XfGw4Xbk0LZ7qmo/BjOOnlxVtwFnAF+tqn2r6vKu3c7AAVX1MeCzwPVVtTfwKeDcof72Bt4EvBY4\n",
       "NckLgG8DxwIk2Q44gMFMrpLmnKdUpC3LQqdULuz+Xkc3QeFmfK+qNsyQfCCDnxCnqn6ZZIckz+62\n",
       "XVxVDwEPJbkU2L+qLuom23pe97gLPC0jbRksOCRt8N/u76MsvG94sGd/G8+bsGH5XOBoBpMjzuwc\n",
       "PZIWx1Mqkhbyb2DbBbZfDhwFj3+j5Z6hSe8OTbJ1kh0YXHx6Tbf+HOAkgKq6afwhS1qJPMIhbVm2\n",
       "SbJ2aPlnVXXKAu1/CHy/u7DzxE1sPw04O8k6BrMKHzO0bR1wKbAa+HxV3QVQVX9LcjMwl9OnS9o0\n",
       "Z4uVNHZJTgMeqKqvbGLbMxj8Fsh+VXXfpGOTNB2eUpE0MUneAtwMnG6xIW1ZPMIhSZKa8wiHJElq\n",
       "zoJDkiQ1Z8EhSZKas+CQJEnNWXBIkqTmLDgkSVJz/wPUITO11jE4hAAAAABJRU5ErkJggg==\n",
       "'><font color='#9898fd'>1.6720972518418398</font></div>"
      ],
      "text/plain": [
       "<IPython.core.display.HTML object>"
      ]
     },
     "metadata": {},
     "output_type": "display_data"
    }
   ],
   "source": [
    "gnb.showInformation(bn,{},size=\"20\")"
   ]
  },
  {
   "cell_type": "markdown",
   "metadata": {},
   "source": [
    "To read this graph, you must understand what the entropy of a variable means: the hightest the value the more uncertain the variable marginal probability distrubition is (maximum entropy beging the equiprobable law). The lowest the value is, the more /certain/ the law is.\n",
    "\n",
    "A consequence of how entropy is calculated, is that entropy tends to get bigger if the random varaible has many modalities.\n",
    "\n",
    "What the information graph tells us is that the `decade` variable has a hight entropy. Thus, we can conclude that the passengers `decade` is distributed between all of its modalities.\n",
    "\n",
    "What it also tells us, it that high modality variables with low entropy, such as `Parch` or `SibSp`, are not evenly distributed.\n",
    "\n",
    "Let us look at he variables marginal probability by using the `showInference()` function."
   ]
  },
  {
   "cell_type": "code",
   "execution_count": 24,
   "metadata": {
    "ExecuteTime": {
     "end_time": "2019-02-21T17:01:54.508491Z",
     "start_time": "2019-02-21T17:01:49.100039Z"
    },
    "scrolled": false
   },
   "outputs": [
    {
     "data": {
      "image/png": "[encoded data removed]"
     },
     "metadata": {},
     "output_type": "display_data"
    }
   ],
   "source": [
    "gnb.showInference(bn)"
   ]
  },
  {
   "cell_type": "markdown",
   "metadata": {},
   "source": [
    "The `showInference()` is really usefull as it shows the marginal probability distribution for each random variable of a BayesNet.\n",
    "\n",
    "We can now confirm what the entropy learned us: `Parch` and `SibSp` are unevenly distributed and `decade` is more evenly distributed.\n",
    "\n",
    "Lets focus on the Kaggle challenge now, and look at the `Survived` variable. We show a single posterior using the `showPosterior()` function."
   ]
  },
  {
   "cell_type": "code",
   "execution_count": 25,
   "metadata": {
    "ExecuteTime": {
     "end_time": "2019-02-21T17:01:54.668610Z",
     "start_time": "2019-02-21T17:01:54.511666Z"
    }
   },
   "outputs": [
    {
     "data": {
      "image/png": "[encoded data removed]",
      "text/plain": [
       "<Figure size 144x36 with 1 Axes>"
      ]
     },
     "metadata": {
      "needs_background": "light"
     },
     "output_type": "display_data"
    }
   ],
   "source": [
    "gnb.showPosterior(bn,evs={},target='Survived')"
   ]
  },
  {
   "cell_type": "markdown",
   "metadata": {},
   "source": [
    "So more than 40% of the passenger in our learning database survived.\n",
    "\n",
    "So how can we use this BayesNet as a classifier ? Given a set of evidence, we can infer an update posterio distribution of the target variable `Survived`.\n",
    "\n",
    "Lets look at the odds of surviving as a man in his thirties."
   ]
  },
  {
   "cell_type": "code",
   "execution_count": 26,
   "metadata": {
    "ExecuteTime": {
     "end_time": "2019-02-21T17:01:54.744065Z",
     "start_time": "2019-02-21T17:01:54.670408Z"
    }
   },
   "outputs": [
    {
     "data": {
      "image/png": "[encoded data removed]",
      "text/plain": [
       "<Figure size 144x36 with 1 Axes>"
      ]
     },
     "metadata": {
      "needs_background": "light"
     },
     "output_type": "display_data"
    }
   ],
   "source": [
    "gnb.showPosterior(bn,evs={\"Gender\": \"Male\", \"Age\": 'adult'},target='Survived')"
   ]
  },
  {
   "cell_type": "markdown",
   "metadata": {},
   "source": [
    "And now the odds of an old lady to survive."
   ]
  },
  {
   "cell_type": "code",
   "execution_count": 27,
   "metadata": {
    "ExecuteTime": {
     "end_time": "2019-02-21T17:01:54.824479Z",
     "start_time": "2019-02-21T17:01:54.745721Z"
    }
   },
   "outputs": [
    {
     "data": {
      "image/png": "[encoded data removed]",
      "text/plain": [
       "<Figure size 144x36 with 1 Axes>"
      ]
     },
     "metadata": {
      "needs_background": "light"
     },
     "output_type": "display_data"
    }
   ],
   "source": [
    "gnb.showPosterior(bn,evs={\"Gender\": \"Female\", \"Age\": 'old'},target='Survived')"
   ]
  },
  {
   "cell_type": "markdown",
   "metadata": {},
   "source": [
    "Well, children and ladies first, that's right ?\n",
    "\n",
    "One last information we will need is which variables are required to predict the `Survived` variable. To do, we will use the markov blanket of `Survived`.\n",
    "\n"
   ]
  },
  {
   "cell_type": "code",
   "execution_count": 28,
   "metadata": {
    "ExecuteTime": {
     "end_time": "2019-02-21T17:01:58.927687Z",
     "start_time": "2019-02-21T17:01:54.826338Z"
    }
   },
   "outputs": [
    {
     "data": {
      "text/html": [
       "<table style=\"border-style: hidden; border-collapse: collapse;\" width=\"100%\"><tr><td style=\"border-top:hidden;border-bottom:hidden;\"><div align=\"center\" style=\"\"><svg height=\"288pt\" viewBox=\"0.00 0.00 124.27 288.00\" width=\"124pt\" xmlns=\"http://www.w3.org/2000/svg\" xmlns:xlink=\"http://www.w3.org/1999/xlink\">\n",
       "<g class=\"graph\" id=\"graph0\" transform=\"scale(.605 .605) rotate(0) translate(4 472)\">\n",
       "<title>G</title>\n",
       "<!-- Survived -->\n",
       "<g class=\"node\" id=\"node1\">\n",
       "<title>Survived</title>\n",
       "<g id=\"a_node1\"><a xlink:title=\"(0) Survived\">\n",
       "<ellipse cx=\"114.2415\" cy=\"-18\" fill=\"#444444\" rx=\"51.9908\" ry=\"18\" stroke=\"#000000\"/>\n",
       "<text fill=\"#ffffff\" font-family=\"Times,serif\" font-size=\"14.00\" text-anchor=\"middle\" x=\"114.2415\" y=\"-14.3\">Survived</text>\n",
       "</a>\n",
       "</g>\n",
       "</g>\n",
       "<!-- Pclass -->\n",
       "<g class=\"node\" id=\"node2\">\n",
       "<title>Pclass</title>\n",
       "<g id=\"a_node2\"><a xlink:title=\"(1) Pclass\">\n",
       "<ellipse cx=\"138.2415\" cy=\"-234\" fill=\"#444444\" rx=\"40.0939\" ry=\"18\" stroke=\"#000000\"/>\n",
       "<text fill=\"#ffffff\" font-family=\"Times,serif\" font-size=\"14.00\" text-anchor=\"middle\" x=\"138.2415\" y=\"-230.3\">Pclass</text>\n",
       "</a>\n",
       "</g>\n",
       "</g>\n",
       "<!-- Pclass&#45;&gt;Survived -->\n",
       "<g class=\"edge\" id=\"edge8\">\n",
       "<title>Pclass-&gt;Survived</title>\n",
       "<g id=\"a_edge8\"><a xlink:title=\"(1, 0) : \">\n",
       "<path d=\"M138.7467,-215.8681C139.2738,-185.7553 139.0355,-123.6327 130.2415,-72 128.7709,-63.3655 126.3704,-54.1619 123.8709,-45.8447\" fill=\"none\" stroke=\"#000000\"/>\n",
       "<polygon fill=\"#000000\" points=\"127.1842,-44.7139 120.8287,-36.237 120.5107,-46.827 127.1842,-44.7139\" stroke=\"#000000\"/>\n",
       "</a>\n",
       "</g>\n",
       "</g>\n",
       "<!-- Siblings -->\n",
       "<g class=\"node\" id=\"node4\">\n",
       "<title>Siblings</title>\n",
       "<g id=\"a_node4\"><a xlink:title=\"(3) Siblings\">\n",
       "<ellipse cx=\"76.2415\" cy=\"-162\" fill=\"#444444\" rx=\"48.1917\" ry=\"18\" stroke=\"#000000\"/>\n",
       "<text fill=\"#ffffff\" font-family=\"Times,serif\" font-size=\"14.00\" text-anchor=\"middle\" x=\"76.2415\" y=\"-158.3\">Siblings</text>\n",
       "</a>\n",
       "</g>\n",
       "</g>\n",
       "<!-- Pclass&#45;&gt;Siblings -->\n",
       "<g class=\"edge\" id=\"edge2\">\n",
       "<title>Pclass-&gt;Siblings</title>\n",
       "<g id=\"a_edge2\"><a xlink:title=\"(1, 3) : \">\n",
       "<path d=\"M123.5484,-216.937C115.8628,-208.0119 106.3079,-196.9159 97.8014,-187.0373\" fill=\"none\" stroke=\"#000000\"/>\n",
       "<polygon fill=\"#000000\" points=\"100.4373,-184.7345 91.2598,-179.4407 95.1329,-189.3022 100.4373,-184.7345\" stroke=\"#000000\"/>\n",
       "</a>\n",
       "</g>\n",
       "</g>\n",
       "<!-- Gender -->\n",
       "<g class=\"node\" id=\"node3\">\n",
       "<title>Gender</title>\n",
       "<g id=\"a_node3\"><a xlink:title=\"(2) Gender\">\n",
       "<ellipse cx=\"76.2415\" cy=\"-90\" fill=\"#444444\" rx=\"44.6926\" ry=\"18\" stroke=\"#000000\"/>\n",
       "<text fill=\"#ffffff\" font-family=\"Times,serif\" font-size=\"14.00\" text-anchor=\"middle\" x=\"76.2415\" y=\"-86.3\">Gender</text>\n",
       "</a>\n",
       "</g>\n",
       "</g>\n",
       "<!-- Gender&#45;&gt;Survived -->\n",
       "<g class=\"edge\" id=\"edge4\">\n",
       "<title>Gender-&gt;Survived</title>\n",
       "<g id=\"a_edge4\"><a xlink:title=\"(2, 0) : \">\n",
       "<path d=\"M85.6347,-72.2022C89.9737,-63.981 95.2198,-54.041 100.0284,-44.9301\" fill=\"none\" stroke=\"#000000\"/>\n",
       "<polygon fill=\"#000000\" points=\"103.2523,-46.3201 104.8246,-35.8425 97.0616,-43.0527 103.2523,-46.3201\" stroke=\"#000000\"/>\n",
       "</a>\n",
       "</g>\n",
       "</g>\n",
       "<!-- Siblings&#45;&gt;Gender -->\n",
       "<g class=\"edge\" id=\"edge1\">\n",
       "<title>Siblings-&gt;Gender</title>\n",
       "<g id=\"a_edge1\"><a xlink:title=\"(3, 2) : \">\n",
       "<path d=\"M76.2415,-143.8314C76.2415,-136.131 76.2415,-126.9743 76.2415,-118.4166\" fill=\"none\" stroke=\"#000000\"/>\n",
       "<polygon fill=\"#000000\" points=\"79.7416,-118.4132 76.2415,-108.4133 72.7416,-118.4133 79.7416,-118.4132\" stroke=\"#000000\"/>\n",
       "</a>\n",
       "</g>\n",
       "</g>\n",
       "<!-- Parents -->\n",
       "<g class=\"node\" id=\"node5\">\n",
       "<title>Parents</title>\n",
       "<g id=\"a_node5\"><a xlink:title=\"(4) Parents\">\n",
       "<ellipse cx=\"51.2415\" cy=\"-450\" fill=\"#444444\" rx=\"46.5926\" ry=\"18\" stroke=\"#000000\"/>\n",
       "<text fill=\"#ffffff\" font-family=\"Times,serif\" font-size=\"14.00\" text-anchor=\"middle\" x=\"51.2415\" y=\"-446.3\">Parents</text>\n",
       "</a>\n",
       "</g>\n",
       "</g>\n",
       "<!-- Parents&#45;&gt;Gender -->\n",
       "<g class=\"edge\" id=\"edge6\">\n",
       "<title>Parents-&gt;Gender</title>\n",
       "<g id=\"a_edge6\"><a xlink:title=\"(4, 2) : \">\n",
       "<path d=\"M40.4257,-432.0837C25.4551,-405.5364 .2415,-353.7389 .2415,-306 .2415,-306 .2415,-306 .2415,-234 .2415,-193.1184 -.7245,-179.6745 19.2415,-144 25.913,-132.0797 36.0956,-121.2172 46.0182,-112.411\" fill=\"none\" stroke=\"#000000\"/>\n",
       "<polygon fill=\"#000000\" points=\"48.4596,-114.9306 53.8482,-105.8084 43.947,-109.5792 48.4596,-114.9306\" stroke=\"#000000\"/>\n",
       "</a>\n",
       "</g>\n",
       "</g>\n",
       "<!-- Parents&#45;&gt;Siblings -->\n",
       "<g class=\"edge\" id=\"edge5\">\n",
       "<title>Parents-&gt;Siblings</title>\n",
       "<g id=\"a_edge5\"><a xlink:title=\"(4, 3) : \">\n",
       "<path d=\"M52.8054,-431.9843C57.0319,-383.2939 68.7071,-248.7961 73.806,-190.0573\" fill=\"none\" stroke=\"#000000\"/>\n",
       "<polygon fill=\"#000000\" points=\"77.3002,-190.2741 74.6782,-180.0089 70.3264,-189.6687 77.3002,-190.2741\" stroke=\"#000000\"/>\n",
       "</a>\n",
       "</g>\n",
       "</g>\n",
       "<!-- Age -->\n",
       "<g class=\"node\" id=\"node7\">\n",
       "<title>Age</title>\n",
       "<g id=\"a_node7\"><a xlink:title=\"(6) Age\">\n",
       "<ellipse cx=\"123.2415\" cy=\"-378\" fill=\"#444444\" rx=\"28.6953\" ry=\"18\" stroke=\"#000000\"/>\n",
       "<text fill=\"#ffffff\" font-family=\"Times,serif\" font-size=\"14.00\" text-anchor=\"middle\" x=\"123.2415\" y=\"-374.3\">Age</text>\n",
       "</a>\n",
       "</g>\n",
       "</g>\n",
       "<!-- Parents&#45;&gt;Age -->\n",
       "<g class=\"edge\" id=\"edge3\">\n",
       "<title>Parents-&gt;Age</title>\n",
       "<g id=\"a_edge3\"><a xlink:title=\"(4, 6) : \">\n",
       "<path d=\"M68.3045,-432.937C77.9417,-423.2997 90.1101,-411.1313 100.5438,-400.6977\" fill=\"none\" stroke=\"#000000\"/>\n",
       "<polygon fill=\"#000000\" points=\"103.1774,-403.0139 107.7736,-393.4679 98.2276,-398.0641 103.1774,-403.0139\" stroke=\"#000000\"/>\n",
       "</a>\n",
       "</g>\n",
       "</g>\n",
       "<!-- Embarked -->\n",
       "<g class=\"node\" id=\"node6\">\n",
       "<title>Embarked</title>\n",
       "<g id=\"a_node6\"><a xlink:title=\"(5) Embarked\">\n",
       "<ellipse cx=\"138.2415\" cy=\"-306\" fill=\"#444444\" rx=\"59.2899\" ry=\"18\" stroke=\"#000000\"/>\n",
       "<text fill=\"#ffffff\" font-family=\"Times,serif\" font-size=\"14.00\" text-anchor=\"middle\" x=\"138.2415\" y=\"-302.3\">Embarked</text>\n",
       "</a>\n",
       "</g>\n",
       "</g>\n",
       "<!-- Embarked&#45;&gt;Pclass -->\n",
       "<g class=\"edge\" id=\"edge7\">\n",
       "<title>Embarked-&gt;Pclass</title>\n",
       "<g id=\"a_edge7\"><a xlink:title=\"(5, 1) : \">\n",
       "<path d=\"M138.2415,-287.8314C138.2415,-280.131 138.2415,-270.9743 138.2415,-262.4166\" fill=\"none\" stroke=\"#000000\"/>\n",
       "<polygon fill=\"#000000\" points=\"141.7416,-262.4132 138.2415,-252.4133 134.7416,-262.4133 141.7416,-262.4132\" stroke=\"#000000\"/>\n",
       "</a>\n",
       "</g>\n",
       "</g>\n",
       "<!-- Age&#45;&gt;Embarked -->\n",
       "<g class=\"edge\" id=\"edge9\">\n",
       "<title>Age-&gt;Embarked</title>\n",
       "<g id=\"a_edge9\"><a xlink:title=\"(6, 5) : \">\n",
       "<path d=\"M127.0266,-359.8314C128.6309,-352.131 130.5385,-342.9743 132.3214,-334.4166\" fill=\"none\" stroke=\"#000000\"/>\n",
       "<polygon fill=\"#000000\" points=\"135.7922,-334.9169 134.4054,-324.4133 128.9393,-333.4892 135.7922,-334.9169\" stroke=\"#000000\"/>\n",
       "</a>\n",
       "</g>\n",
       "</g>\n",
       "</g>\n",
       "</svg></div></td><td style=\"border-top:hidden;border-bottom:hidden;\"><div align=\"center\" style=\"\"><img style=\"margin:0\" src=\"data:image/png;base64,iVBORw0KGgoAAAANSUhEUgAAAQYAAACbCAYAAACAujUVAAAABmJLR0QA/wD/AP+gvaeTAAAdPElE\n",
       "QVR4nO2deZhcRbmH354sM1lnskAWCCQsSUhYw76jbAZBQUAQFVG8Cldk8YqAIHqRJQrIFQRZlPWC\n",
       "EhCiQQISIGCULSQI2SEYQsgK2UO2man7x6/O7dM9PZPpnj59Tk9/7/Ocp5Mzp8+p7q766quvvvoV\n",
       "GIZhGIZhGIZhGIZhtJ1U3AUoIlVAb6AX0BPoAXT0f+sGdPb/3gKsy/r3WmClP+pLVF6j9HQH6vxR\n",
       "jepKQA3QJfT/dah+gOrEWmA9sApYDWyIurBxUi6GoROwK7ALsCOwPTAI2AEYAPQBaov0rDXIQCwG\n",
       "PvTHAn+8D8wGNhXpWUZxGIDqxg5Af1Q/BvqjH+ow6oAORXzmJmQkgrryEbAo9LoAmOuvKTuSaBj6\n",
       "AwcAo4ARwEhkFDr5vy9HjXUh8AH6UT4m3eOvQBb9U9INeCNpC98ZeRAgL6MW9SS9SXscvYHtkPEJ\n",
       "jNAA/54GZCBmALOAacBrqCIY0ZECdgL2AXYHhqF6MRR5hwCbgaWofixBdWQZ8AmqE6vJ7PHXkvYQ\n",
       "NyOPIKAW1Q+Qd9GVtMdRG3rtTdoIbYfqSb/Qe5cjAzEHeBf4F6ozS9ryZURNEgzDnsDRwEHAgcgj\n",
       "cMB7wHTU+ILXOcTnwlWjXikwVsHrMNQTLUYG4jXgeeBNoDGWkrYPBgJHAfsjY7A3aogNqG7MRg1t\n",
       "buh1URwFzUFH5L0EhiswYsNQ/QbVl2n+eAWYjAxWIojDMPQGRgPHAschC/sJ+nJeRw3rdcrHBesO\n",
       "7IuM2kH+CD7TROBvwARUEYzmGQgcAxwJHIGM8BbgbWAq6Ub0NvIGy5VeyBvex7+OQsajEXkTLwOT\n",
       "gBfRsLZdUwecDYxH7n09MAUYgypDx+bfWpbsBHwHGIt+3AbUI1yEGoAhRgKXoe+mERmCoF6cRPHi\n",
       "RklnG/R5x6DP34DayGT0/QyPr2jFpwo4HhiHxm8bgCeBs0iPCSuBGuBk4GHSRuI54FTScZNKYg/g\n",
       "RhQHcP71TuDzZM4KVDJ9gK8BjyLP2SFv4kcojlGW9EIf4D30gV5EH7JnnIVKCF2ALwFPIQOxCLiG\n",
       "dGCzvdIHuBgNCRwK3l6D3OgkxLmSTCcUg7sDBdbrgWeBr6K4V+LpA/wMzQysBu5CvYORm+2Qm/gh\n",
       "Gl7dhWZA2hO7AL9GOQGrgQfR0NGMQWFUoyHHWFRnlqLhRyKHp92A69DUz3LgCiprqNBWaoDvoenO\n",
       "jcBvkJEtZw4EnkZxg7no83Vr8R1GvgwArkVtbgNwN5oJSQSnoR5vBXApitAbhdEZOA8NLz4G/oP0\n",
       "XHi5MBR4DBmEycAXKL/PUG50QYHu95CBuAnN/MXCAOAZVAHuA7aNqyDtkJ7AzShC/yqa/0463YD/\n",
       "QUHmGcggGKWlM3ABGl6s9P8uqVE+3j98LnBoKR9cYeyOpq7WoJmcpPIZYB7K2ziX4qYdG/nTAw3t\n",
       "NwMvoThP5PwUeQkPY3GEUtAZ9cSNwG9JVqPrAPwKle1JlMpuJId9gLdQmvc3o3pIFXAbmio5L6qH\n",
       "GM1yCsr2e4z0KtE4qUXZnJ8CX4+5LEbzdAJuQMb7Roo8tEgB96KI+anFvLGRF0egZJcJxJsYNRDF\n",
       "ET5C6xiM5HMWCkyOo4gdy49RIOxzxbohmtd2OY5GNP0yjsIr3Q9D91vY5pImi31RzOGOmJ5fh9Yq\n",
       "zCLanIu90fTbHFRX1qGY1t+Ay5GbHGcuxJmk69jGGMuRDwejXJJHKILncBLK0LugrTfKwd7oix0X\n",
       "OleL3OalKHhyTBvu/xbtzzCA0qsb0BRVKalGC3w+JLr58irgF2jIehuqI12QQdof+D3pBrlfRGXI\n",
       "h4mUj2EABYo3Are05Sbdkbt4fxEKlItchiHgq/5v09tw//ZqGAB+jhLKSpnxdg3yVkZE+Izr0O/e\n",
       "UhxrDGYY2sKX0fc3utAbXIvmQ/sWq0RZtGQYBpLuGeoKvH97NgydkQbBfSV63jDUAL4f4TN2Q57Q\n",
       "lK1cV4fGy2YYCucPSOQo74TEHmia47+KXaIQLRmG7UgbhkKX3rZnwwCy/A1oiXfU/BnpZESZMHML\n",
       "+r0vi/AZxaZcDcO2KFv5x81d0NwPfTLSSChVj5TNUf51BpmqNn3Q3Pk8tIhkIfpxzqF1S3Y7Ameg\n",
       "Zc9LUM/zDtJJyP4uqpH7PBtNy61AehJfIDOfoLXXFZs/oUDtGRE+AyRTNhql2kapSHWEf/1Xge/f\n",
       "BrgVmI/iU8uBJ1AHFHAymcHuwaSXNn+CVr3unOPew1EHthp1mH8HDityWYahxVGfhM5F5a0vQyGC\n",
       "c8gziPtn4C/FL08GuTyGnjQffOyPlusuBk5EXk0/4Cp/n4uz7p/LYzjRX3sFWh7eF7nHDWieN8w9\n",
       "qMIci4xOP3+NI2248rkuCm5HEnJR8gNUWaNe4rsIfWcHFPDeAagRLgFOQC7ySKSEtAFF5MOMI133\n",
       "DkYp3ccgw/561rW7oCH1QvQbd0erhp8F/k1Tj6HQskxC9aUrWoRWT3SGAfQZHHlmL88jepcuMAzZ\n",
       "05UfI8OUPV15n7/myznuNYHWG4YXc7z/IWSIwpoR76NxfLYwxhwyG3xrr4uCs1DFjHLq7knUk0XN\n",
       "Ylo2DG+RWVfCHcr9/lx26nh/9P1kxy2Cxnhi1vnHaNpTj/XnsnN4Bvp7ZxuGQstScDCwDSwgj3ae\n",
       "Qh/gq5EVR7QUY8hFoGTT2lTsfGIMQe5D2Jrf4c/Vo17kZuDwHO9t7XVRcLh/dr8InzENzRZEzRT0\n",
       "WU7YynX70bTerEJeXy4xoDf99eG8i6AxZn9vv/Ln9wydW+PP5QrUvU1Tw1BoWeJYav88Us9qQq4Y\n",
       "Qw1yG5MkRFmNgpAb0TRdodSieMA7yD0Mep9gGNE1dO33kE7lJOQK/gDN448nU1ugtddFQRB/6dXi\n",
       "VW2jhtIoc7/sX0fl+b6gblSh7yPbCw3ul2uVarYq82b/GpaN74Hq3TqasqyIZVmf41zUfEozsblc\n",
       "hmEDsnpJkhvbhL7oGtq2eGs88BMUFxiKPn8KuMT/PeySOzTEOAZNkR2HMu9OBK4s4LooCPIYPorw\n",
       "Gasozfr+e9BQ8kzyGxoFG7/Uo1TxVDNHriFka+69FtW7XB5D9vcSZVmioA/qIJvQ3KzEQhSxTRJP\n",
       "+tdcruY0tp7N1QEFWpagiPFy1Kght9VcRVqddwuayQgiyQcVcF0UDEYGsy1e1NaYRWY0PcrnjEFe\n",
       "149auC7XTM8TaMYpVyDtMjSWLlSJfIJ/zV4S0BfNJJSyLMWkE1raPyufN91O4dNGrSXfGEMwK7EI\n",
       "KQr3QGO1O1Bjz07TzRVjeN4/81L0w3ZBaaIf+PPhWZBVaHiwJ3IRt0XLzh2ZnkBrr4uCp1CgNkpO\n",
       "Qz1gKfQoq4BfIs/h92htSFf0O+2B5t2X+PJcFXrftkjBaB4K4gU7RH0XuejZAetgXF+TdT7Iqgwb\n",
       "wp3RrEx4VmIEEipaStMYQ7HKEjVBan1e6e1HoMLuFkWJyL2IanYr3tcHeQbvo/HgIpTFFR6zhRdR\n",
       "Bce1/m99UbBlgX//EjTbcUPo2iBqvJe/dib6QYNNcb5Npqvb2uuKTW/kukYdJO6MvKvLI35OmFHI\n",
       "MLxHeqvBxciwXwkMyfGe3ijwOw/9tsvQlGLY2B9E83Uj+/xTofcNRR5rsPXh66hzmhi6/ndFKIuj\n",
       "dIxDQ968qEJTcA8VvThGsbgBGaFSCOaMQdPIJuHXPjgceWUnF/Lmk/2bW8rwMuJhJxQkjmLVay66\n",
       "ot7vkRI9z4iOauTd/rUtN5mI0pJts5jk0AlN7c2gtEGs0aijOL+EzzSKSwp4AA2JBrXlRgNQ0GUC\n",
       "ydIbrGTuRLMQcWzm82MUsDo9hmcbbeeXKOZxfDFudjCKvN6B7REQN1ehXvuUGMtwK6oPSVauNjKp\n",
       "QnGiBor8u52MKsMjVOZGrHGTQlHuBuJ35at8WRqRYIxtN5dsuqMZiI1EJNx7NHJhnyPa3Hwjkx5o\n",
       "SnYTygpMCueiMj1FsrJkjTSjkAraUiLeA2ZfFJ1ejAyFES2jkAjqEpL5fR+Kcg1WoPUiRjKoRvkZ\n",
       "W1D69Y6leGgtWoragHYyLlRhyWieLih7ciOaGUryZi5d0aY4DcibzHcRlFFcvojSnNeiBX4lH+qd\n",
       "gzK6lqDewsaaxeEk5JWtQSs1yyXgewjK+GxEsahSSM4ZaQ5FGwk3oo47V3ZoyahDXkM9WltxOmYg\n",
       "CuUwtPrT+dfEbGmeJ8cgnYIG9DmyFYuM4lGFvu/xpHcYT1RC4l5oVVkjWrx0OslYQZZ0qtCqvZeR\n",
       "QZhIwn7YAukIfA2Yij7Xy2gxVhK212sP1KFhwhzU5v4KfDbWEm2FPZE8VgPSCPhvSrMqr9zoi1Z4\n",
       "vosazrO0353Dj0IrQBvQ2o7bMS+iEDqhYeZYlA6/HiW7DW/pTUljCHA96SWyT6E4RCUHKruiXvMx\n",
       "FFRchXZbGhlnoUrI9kiPYDoyhu+iTLwjsKza5uiKgon3oHheA1ri/y3KfJlCZyRvPp60cOZfUOCy\n",
       "Eua++6D1939ES83r0XDhW0Qv+5Zk9kVyenORkfgYreQ9i6aiupVECmk9nI8600+RMXgVKZuXZNqx\n",
       "1NQB30DjoY2oQryNsugCQYtypxsSfrkeeAP9qFuAF9C2a7ZsuSnDkIbGJJTH71BuxL2ovgQSfO2R\n",
       "zshIXgg8jhKRHJpqfBIlkcWSTBjXDEJX5EIeh1RxdkdBlNlox6NXkWDKLEojRFoInVGl3Q/tA3AQ\n",
       "+hwdUcV+DglhvECyhHWTTDcUfzgCOBJJydeghjLNH1NRhzIX9ajlQi9kBPdBuR6jUH3pjIaVk4GX\n",
       "UKB2KvIuYyMpU4v9UcMKGth+KMe7EW3qMdMfc9Buyx8iFaaojUY1GhsPQtOHQ5Gq1Ugk+dUReT9T\n",
       "kUF7Dc3lL4i4XJVCNZrxCjemPfx5h1b+vuuPuaheLPLnF5NWfS4FXVE96U+6vuyKjMGupPeqWE2m\n",
       "kZuKOsQod/nKm6QYhmw6oEY4EjXEEf51KJnCrctRRfgEqd2u8MdK5MIHkt/hf3chra/XlbTkd29k\n",
       "1Xuj2EB/fwTf0UZ/33kozXQm8mhm+vsbpaET2h0qaHDBMQJtDReu00EC3krUIFf519WoPmwmLdve\n",
       "SFpOvorMoW1t6Fxd1msvFBcJX78ZGamw0Zrr/z2f0kq4FURSDUNL9EUWeRAKxvRHDbkX6YbdC/Xm\n",
       "gexZZ9LBvg2kBTzXox9xNWnDErwuRj3/QvQjLwEeRHkHe/r/G8mgBukwrkYamANJ99z9UCMOjqBR\n",
       "ByKzQScRri+QKau+Dhn/NaQNTGBkVqLOKeypLC3y5zMSTndk9SdQnka1vXI3Mublmi1qtAMORYGh\n",
       "uHURDPElmt/T1DBKyjVoSBKHvJqRZnuUA5Fz/0XDKDUd0ezDVCz/Py6q0FTwDDL3HDWMWNkJBaN+\n",
       "EXdBKpSrURC5FNvnGUZenIuyGxO9sq0dcgCaTfp+3AUxjOZ4FE1TlWJHaEPTje8DT2MzQ0aC6YXy\n",
       "Hf4Ud0EqhIdRDokJEhuJ5xg0pPhG3AVp53wTfc/Hxl0Qw2gtN6PFPrtu7UKjIHbBgr1GGVKNZO1e\n",
       "xzblKTadSK+4telho+wYgZYC/zTugrQzbkLrFYbFXRDDKJQL0YIb0zUsDsdh8RujHZBCslzzKHNd\n",
       "vgSwDVq1ODbughhGMdgWTandG3dBypgU0gddgKaEDaNdMBqJf5wRd0HKlIvRkOyQuAtiGMXmTiTk\n",
       "YToB+bE7CuJeGXdBDCMKuiL5t5ewvRNaS1ckl/cy9p0Z7ZhRwCYkkW5sHVNjMiqGy7Elwq3B1JiM\n",
       "iiIQFZmJiYo0R6DG9Nu4C2IYpWR7JHP/m7gLkkBMjcmoaE5FU5gnxl2QhGFqTEbF8xDaCKV/3AVJ\n",
       "CKbGZBjY3hRhatEWhKbGZBjY3hQBj2BqTIaRwc/R3hS7x12QmDA1JsPIQSXvTWFqTIbRApW4N4Wp\n",
       "MRlGK6i0vSlMjckwWkml7E0RqDGdHXdBDKMcqIS9KUyNyTAKINiboj32pqbGZBht4Fc0vzfF6SS/\n",
       "UR2PZO2yMTUmw2gDufam6AE8gJYjJ10m7hW0QvK40LndUb6GqTEZRhsI9qa4GknQf4DWEtQjA5FU\n",
       "+qChUKM/bgLqMDUmwygaF6FU4Xp/OH+sQEuUk8jXkWEIyroF7Uq9HC05NwyjDQxGLnnYIISPfWMr\n",
       "WcuMRcYgXNbNSNbuohjLZRhlz+ko+LiZ3EZhE/CT2ErXPB1RuXOVORhaPEnyg6eGkSg6oiSnXA0r\n",
       "u5G9EVMZW+Iotl72LSiJ66B4imgY5cnRKK7QnLcQHA0o0JckbkTezNaM2kRgYExlNIyypZa059BI\n",
       "84bhK3EVsBnm0bxB2OyPy0hu4NQwyoKz0ZRldjAvcMkfiq9oTdiZ5o1CPdpwZ8/YSmcY7YwhwGvk\n",
       "np1YRXJ630toasDqkWczBltabRhFpyPwM9TIsg3EAfEVK4NJNM1fWAgcHmOZDKMiOAhlQAY98ybg\n",
       "p7GWSPQkXabAOPwvErw1yhhT5i0faoG70PZtKbSmYp/sixx0QesreqCU5A6oAQdU+XuFWYs8koB1\n",
       "qMGv8X9bm4L1Ocp0GvAYCpSuBs5BqygNw4gSB9UOhjk41sHXL4GHO8PmFDR+CBMdTHXwvoMVDuod\n",
       "uIiOBv+M+Q7+5eCZ4+E9wA2HWW/ABQ5GOxjhjZNRxpjHkAAcdAOGAyORUOqQ0DGA9O+0GVg2B1ae\n",
       "Dtt/BaZfAf9EayhWod59nX9d6885YGXWI1eldD54fh2ZdSH4fx0aFvTwr7XI+6hrgIGD4IwfwNIf\n",
       "KhayDVATusdStGfEfP86D5gOzErJEzESjBmGEuOktXAAmsIbiVZTDka/xSbUgP5NZqOaD3yQ0t6X\n",
       "AR3QUGJKaUrehL7IUMwLTngDswP6PGHjNhgZvGBfyg/RNOZ04B2UzTkrpSGJkQDMMESI09qAQ5Eh\n",
       "2N+/9kbj9xmkG8ds//p+KnOs325wim0MRoYwMIgjkF5DDfJwpiAtiteBySlt5WfEgBmGIuLUIx6C\n",
       "ZNoOQ4agE7AYeBOYDPwDeDMl8ZKKx2kYMgytGt0XGdK9kUf0Pkqjngg8n9KQyTCSj4MdHFzo4AUH\n",
       "m32gboaD2xyc4tq/8nPRcdDDwQkObvLB1QYfWH3FwWXOpOeNJOJgqIMrHUzxhmCVg0ccnOUULDSK\n",
       "iIM+Dk518DsHy0LG9zon78Iw4sFBTwdnO3jOQaOD5Q4edHCSk1ajUQIcVDk4zMEYB3NCRuIyp5kR\n",
       "w4geB3s7uN/BOgcbHPzRwfEuOWsVKhpvJH7vYI2DjQ7GOsUpDKP4OPiMg2e8d/C2g+85UyBKLA66\n",
       "OfiGg396L2Kygy84C7AbxcDBkQ5e85Vrks/ms8pVRngvYrw36jMcfDHuMhllioOdHDzuDcIzDg6M\n",
       "u0xG23Aw0g/9Gp3Sx00XwmgdDjo4uNqPT2c6OCHuMhnFxcEhDl73U56/trUcRos42NHB331Q8RKX\n",
       "3v3JaGc4SPkYxEoH7zhlXBpGJj6BxipJhZHVGZwTd3mMBOHgTJ+leG+EbmUH4Dy0+nE1Wh+xCHga\n",
       "uACtGzAyOZO0EtTGqB7ih4/X+9jDJVE9xygjHJzrx5o3RTzb8AhSNfoR2qKtBgmnXodWEX4c4bML\n",
       "oTvwLvBU3AVBayMiMwwBfvjY6OCqqJ9lJBgHB3tP4ZqIH7W/Hsfdzfz9dpJnGHqgJdRPx10QSmQY\n",
       "ABx8xxuHU0rxPCNhOKhzUjp6ugR5Cefokfywmb8fSfIMQ5IomWEAcHCnjzcNKdUzjYTg4G4HC50E\n",
       "RqJmtB7JPzH59EIotWGo8dmtE0r1TCMBOBjkhxDnlOiR3ZEGgwPmot2eW9oK/irSQbfJofOfC50P\n",
       "exgnh847tAx5LFJ4cs0cwTi6Y9b5x3PcrwapMeVzj4BtgFuR6tRmYDnwBLlXQQ4HxqHg7Hrg70jH\n",
       "oqSGAcDB0T65LSmy/EbUOK28W+5K23sfBiwgswFNB25AQchcrCPTMARMIffQY5y/7yS0sWxXlLFZ\n",
       "jzyjCSgAumuO975K063ugvuFtRvzuccAZBCWoESx7kitaRISpjk4dO0uSItyIXCsv3YP4FkkZ1dS\n",
       "wwDgp65vL/VzjZhw8KyLZ1u3arTd3DgkgBoYiC3ApTmuL9QwjG7m+Uf7v9+Vdf4otE9Fx2buFzYM\n",
       "+dzjfn/tWVnX9kcNPaxPOdZfe2rWtQP9tXEYhusdzCz1c42YcDDPweUxF6Mj8FngDyoSjUgGLkyh\n",
       "hqGl3a+nokbWP3RuArnn73MZhnzusQp5Fz1pypv+3sGQKjCUuTaneZt4DMNXHGwpQXA68VSKpkBX\n",
       "tElsnNQDLyDX+xeo8p1YpHvn2gwm4GbkuVzk/78X2tnqd3ncvzX3qEaq0VUoZpAdnxjlr9vVX9sD\n",
       "Nf51OZ4XlwjsemTAK154p1IMwwpKq+5zKNpXoTle9K91WecbyR0Hyb4uHx5Fcu3no578cpRfsbbI\n",
       "99iEPIZ6tOYk1czxor92LfJMcnkMcelk9gPWpWLwVpJGpRiGtyjtMuoUsC3qVXOxn3+dlnV+MbBd\n",
       "1rn+aK+GQqkHfo168zFIm+DWiO7xBOpxcykoXYaCsUFMIpga/FzWdX2JT+z1QJr+JkZ7JTR27L/1\n",
       "q4vCYXosC1AgbiByTwejpKdNKG6Q7bLe5t93AepJd0a99UJajjFkxwSy6UF6V6oHWriupfu15h7b\n",
       "om3r5qGAaC3q/b+L3PQvh67dGU2vhmclRgDPIG+r1NOVXRx84pTCblQC/kdf5OCWEj2yCvWaN6Ip\n",
       "vY9IbxL7BnAF6V2ZwtQC96DFVp+ief39kBEJxupjkCeSK1ehJX7pr8klVpKdx+DQrtX53COgN4pJ\n",
       "zMNvqYemII/Jce1Q4EkUk/gUbTTzeZTHEJQjn1hIwfh1E+udhhNGpeBz4rc4ODzushjJwsFwB2sd\n",
       "XBt3WYwYcPCEgw9LlBZtlAE+HXqak86npa9XIg56OW3j/pqzHaIqHj/EfNrBCgc7xl0eI0YcDHHw\n",
       "npN68MC4y2PEg5Pc/HPeKJjwr/H/i6pmOy3Dbm5K0WinONjNwVs+IG2yfkYaB9t4N3KLg6ucpNiM\n",
       "do6D8/zswyvO9BeMXDgpB1/kJAz6ipPyktEO8V7CM06yfte6pgvIDCMTB3s4eMlJ4utB1zT70ChT\n",
       "HPR2cKuTHsc0p+Qzw2g9Dk7zcYd1Dm5xMCjuMhmF4YeK1/jg4hIH33aVswTAKDZ+XvsSBwt8L/OA\n",
       "BajKB6etBm938KmTOM/VLvcycMPIHwedHJztpOrjHEzx2ZM94i6bkYmDagcnORjrg8n/9rGjXGnn\n",
       "htF2fIDyeAePOu1vudZpo5rP2ExGfPjf5UAfP/jEBxXHO/iSBRaNkuIDWd938Kb3Ij52cJ+DLzrb\n",
       "KDVyHHR2cJyDOxx85H+D2Q4ut2Q1IxE42MXBpQ7+4aDBz42Pd3Cxgz2dyYMVBQfDHJzv4HGnvR+c\n",
       "g6k+dmDb2hvJxUF/H3943HsRzsEyP/z4TwejnO2kvVWc9pTcw8G3/LTxQv9drvFG90JnaxpKgvVq\n",
       "RcZPie2FhF8/i+bNeyLhkWlIj+ENJLD6bko6DRWHj8/sBOyD9nLYH+lCdkfaDK8ijcwXgDdSUpEy\n",
       "SoQZhojxhmI4qvhBA9gLLfHdgjakmeGPmcBsYH4qt0hq2eGkBjUEibKMQFO/u/mjBjX4mUikJThm\n",
       "mCGIFzMMMeAk6TYCNY7d/b9HogYUzHR8jDZeme+PBUjZaRna3WlRKj9B16LjoBuSy+uHxHYHIn3K\n",
       "waGjf/pyPkBGIDCC04GZqfgVvI0szDAkCD+zsRMyEEPIbGCDaKp0vQEZieVINm4t8jTWoV2e1qKe\n",
       "d6O/NmA9kl0DGaJwAlA1mv+vQlJztci9745yOOqAXqjBZ+cJrERq0vORUQsbtnntxQuqBMwwlBE+\n",
       "gLkNEl0dEPp3X9INuIc/alGD74B69rA6UXDe35ZVob/VI4MSnF+bdazyxxJkkJYG/05J5NYwDMMw\n",
       "DMMwDMMwDMMwDMMwcvN/IteTZAJzSHEAAAAASUVORK5CYII=\n",
       "\"/></div></td></tr><tr><td style=\"border-top:hidden;border-bottom:hidden;\"><div align=\"center\"><small>Learned Bayesian Network</small></div></td><td style=\"border-top:hidden;border-bottom:hidden;\"><div align=\"center\"><small>Markov blanket of 'Survived'</small></div></td></tr></table>"
      ],
      "text/plain": [
       "<IPython.core.display.HTML object>"
      ]
     },
     "metadata": {},
     "output_type": "display_data"
    }
   ],
   "source": [
    "gnb.sideBySide(bn, gum.MarkovBlanket(bn, 'Survived'), captions=[\"Learned Bayesian Network\", \"Markov blanket of 'Survived'\"])"
   ]
  },
  {
   "cell_type": "markdown",
   "metadata": {},
   "source": [
    "The Markov Blanket of the `Survived` variable tells us that we only need to observe `Sex` and `Pclass` in order to predict `Survived`. Not really usefull here but on larger Bayesian Networks it can save you a lot of time and CPU.\n",
    "\n",
    "So how to use this BayesNet we have learned as a classifier ? We simply infer the posterior the `Survive` variable given the set of evidence we are given, and if the passanger odds of survival are above some value he will be taged as a survivor.\n",
    "\n",
    "To compute the best value given the BayesNet and our training database, we can use the `showROC()` function."
   ]
  },
  {
   "cell_type": "code",
   "execution_count": 29,
   "metadata": {
    "ExecuteTime": {
     "end_time": "2019-02-21T17:02:00.000733Z",
     "start_time": "2019-02-21T17:01:58.931756Z"
    },
    "scrolled": true
   },
   "outputs": [
    {
     "name": "stdout",
     "output_type": "stream",
     "text": [
      " res/titanic/post_train.csv : [ ############################################## ] 100%\n",
      " result in res/titanic/post_train.csv-ROC_unnamed-Survived-True.png\n"
     ]
    },
    {
     "data": {
      "image/png": "[encoded data removed]",
      "text/plain": [
       "<Figure size 432x288 with 1 Axes>"
      ]
     },
     "metadata": {
      "needs_background": "light"
     },
     "output_type": "display_data"
    }
   ],
   "source": [
    "showROC(bn, os.path.join('res', 'titanic', 'post_train.csv'), 'Survived', 'True', True, True)"
   ]
  },
  {
   "cell_type": "code",
   "execution_count": 30,
   "metadata": {
    "ExecuteTime": {
     "end_time": "2019-02-21T17:02:00.266643Z",
     "start_time": "2019-02-21T17:02:00.004383Z"
    }
   },
   "outputs": [
    {
     "data": {
      "text/plain": [
       "True Negative     0.363636\n",
       "True Positive     0.349282\n",
       "False Negative    0.287081\n",
       "dtype: float64"
      ]
     },
     "execution_count": 30,
     "metadata": {},
     "output_type": "execute_result"
    }
   ],
   "source": [
    "ie=gum.LazyPropagation(bn)\n",
    "init_belief(ie)\n",
    "ie.addTarget('Survived')\n",
    "result = testdf.apply(lambda x: is_well_predicted(ie, bn, 0.157935, x), axis=1)\n",
    "result.value_counts(True)"
   ]
  },
  {
   "cell_type": "code",
   "execution_count": 31,
   "metadata": {
    "ExecuteTime": {
     "end_time": "2019-02-21T17:02:00.272358Z",
     "start_time": "2019-02-21T17:02:00.268128Z"
    }
   },
   "outputs": [
    {
     "name": "stdout",
     "output_type": "stream",
     "text": [
      "71.29% good predictions\n"
     ]
    }
   ],
   "source": [
    "positives = sum(result.map(lambda x: 1 if x.startswith(\"True\") else 0 ))\n",
    "total = result.count()\n",
    "print(\"{0:.2f}% good predictions\".format(positives/total*100))"
   ]
  },
  {
   "cell_type": "markdown",
   "metadata": {},
   "source": [
    "With 71% of good prediction, this model performs better than the first one."
   ]
  },
  {
   "cell_type": "markdown",
   "metadata": {},
   "source": [
    "# Making a BN without learning data\n",
    "In this last part we will combine both methods: we will force the BayesNet DAG and learn its parameters. We will assume the naive bayes hypothesis, which states that all random variables are independant conditionally to the target variable (here the variable Survived).\n",
    "\n",
    "This results in the following topology."
   ]
  },
  {
   "cell_type": "code",
   "execution_count": 32,
   "metadata": {
    "ExecuteTime": {
     "end_time": "2019-02-21T17:02:02.351719Z",
     "start_time": "2019-02-21T17:02:00.274044Z"
    }
   },
   "outputs": [
    {
     "data": {
      "text/html": [
       "<svg height=\"84pt\" viewBox=\"0.00 0.00 288.00 83.86\" width=\"288pt\" xmlns=\"http://www.w3.org/2000/svg\" xmlns:xlink=\"http://www.w3.org/1999/xlink\">\n",
       "<g class=\"graph\" id=\"graph0\" transform=\"scale(.7229 .7229) rotate(0) translate(4 112)\">\n",
       "<title>G</title>\n",
       "<!-- Survived -->\n",
       "<g class=\"node\" id=\"node1\">\n",
       "<title>Survived</title>\n",
       "<g id=\"a_node1\"><a xlink:title=\"(0) Survived\">\n",
       "<ellipse cx=\"174.5975\" cy=\"-90\" fill=\"#444444\" rx=\"51.9908\" ry=\"18\" stroke=\"#000000\"/>\n",
       "<text fill=\"#ffffff\" font-family=\"Times,serif\" font-size=\"14.00\" text-anchor=\"middle\" x=\"174.5975\" y=\"-86.3\">Survived</text>\n",
       "</a>\n",
       "</g>\n",
       "</g>\n",
       "<!-- Age -->\n",
       "<g class=\"node\" id=\"node2\">\n",
       "<title>Age</title>\n",
       "<g id=\"a_node2\"><a xlink:title=\"(1) Age\">\n",
       "<ellipse cx=\"28.5975\" cy=\"-18\" fill=\"#444444\" rx=\"28.6953\" ry=\"18\" stroke=\"#000000\"/>\n",
       "<text fill=\"#ffffff\" font-family=\"Times,serif\" font-size=\"14.00\" text-anchor=\"middle\" x=\"28.5975\" y=\"-14.3\">Age</text>\n",
       "</a>\n",
       "</g>\n",
       "</g>\n",
       "<!-- Survived&#45;&gt;Age -->\n",
       "<g class=\"edge\" id=\"edge1\">\n",
       "<title>Survived-&gt;Age</title>\n",
       "<g id=\"a_edge1\"><a xlink:title=\"(0, 1) : \">\n",
       "<path d=\"M144.6999,-75.256C120.14,-63.1443 85.4391,-46.0315 60.3787,-33.6729\" fill=\"none\" stroke=\"#000000\"/>\n",
       "<polygon fill=\"#000000\" points=\"61.804,-30.4734 51.2873,-29.1895 58.708,-36.7515 61.804,-30.4734\" stroke=\"#000000\"/>\n",
       "</a>\n",
       "</g>\n",
       "</g>\n",
       "<!-- Gender -->\n",
       "<g class=\"node\" id=\"node3\">\n",
       "<title>Gender</title>\n",
       "<g id=\"a_node3\"><a xlink:title=\"(2) Gender\">\n",
       "<ellipse cx=\"119.5975\" cy=\"-18\" fill=\"#444444\" rx=\"44.6926\" ry=\"18\" stroke=\"#000000\"/>\n",
       "<text fill=\"#ffffff\" font-family=\"Times,serif\" font-size=\"14.00\" text-anchor=\"middle\" x=\"119.5975\" y=\"-14.3\">Gender</text>\n",
       "</a>\n",
       "</g>\n",
       "</g>\n",
       "<!-- Survived&#45;&gt;Gender -->\n",
       "<g class=\"edge\" id=\"edge3\">\n",
       "<title>Survived-&gt;Gender</title>\n",
       "<g id=\"a_edge3\"><a xlink:title=\"(0, 2) : \">\n",
       "<path d=\"M161.2835,-72.5708C154.5953,-63.8153 146.3655,-53.0418 138.9901,-43.3867\" fill=\"none\" stroke=\"#000000\"/>\n",
       "<polygon fill=\"#000000\" points=\"141.6406,-41.0908 132.7888,-35.2687 136.0779,-45.3401 141.6406,-41.0908\" stroke=\"#000000\"/>\n",
       "</a>\n",
       "</g>\n",
       "</g>\n",
       "<!-- Siblings -->\n",
       "<g class=\"node\" id=\"node4\">\n",
       "<title>Siblings</title>\n",
       "<g id=\"a_node4\"><a xlink:title=\"(3) Siblings\">\n",
       "<ellipse cx=\"230.5975\" cy=\"-18\" fill=\"#444444\" rx=\"48.1917\" ry=\"18\" stroke=\"#000000\"/>\n",
       "<text fill=\"#ffffff\" font-family=\"Times,serif\" font-size=\"14.00\" text-anchor=\"middle\" x=\"230.5975\" y=\"-14.3\">Siblings</text>\n",
       "</a>\n",
       "</g>\n",
       "</g>\n",
       "<!-- Survived&#45;&gt;Siblings -->\n",
       "<g class=\"edge\" id=\"edge2\">\n",
       "<title>Survived-&gt;Siblings</title>\n",
       "<g id=\"a_edge2\"><a xlink:title=\"(0, 3) : \">\n",
       "<path d=\"M188.1535,-72.5708C194.9132,-63.8797 203.2196,-53.2001 210.6865,-43.5998\" fill=\"none\" stroke=\"#000000\"/>\n",
       "<polygon fill=\"#000000\" points=\"213.5955,-45.5606 216.9722,-35.5182 208.07,-41.263 213.5955,-45.5606\" stroke=\"#000000\"/>\n",
       "</a>\n",
       "</g>\n",
       "</g>\n",
       "<!-- Parents -->\n",
       "<g class=\"node\" id=\"node5\">\n",
       "<title>Parents</title>\n",
       "<g id=\"a_node5\"><a xlink:title=\"(4) Parents\">\n",
       "<ellipse cx=\"343.5975\" cy=\"-18\" fill=\"#444444\" rx=\"46.5926\" ry=\"18\" stroke=\"#000000\"/>\n",
       "<text fill=\"#ffffff\" font-family=\"Times,serif\" font-size=\"14.00\" text-anchor=\"middle\" x=\"343.5975\" y=\"-14.3\">Parents</text>\n",
       "</a>\n",
       "</g>\n",
       "</g>\n",
       "<!-- Survived&#45;&gt;Parents -->\n",
       "<g class=\"edge\" id=\"edge4\">\n",
       "<title>Survived-&gt;Parents</title>\n",
       "<g id=\"a_edge4\"><a xlink:title=\"(0, 4) : \">\n",
       "<path d=\"M207.5836,-75.9468C234.7689,-64.3648 273.4575,-47.8821 302.6265,-35.4551\" fill=\"none\" stroke=\"#000000\"/>\n",
       "<polygon fill=\"#000000\" points=\"304.2952,-38.5486 312.1233,-31.4091 301.5516,-32.1087 304.2952,-38.5486\" stroke=\"#000000\"/>\n",
       "</a>\n",
       "</g>\n",
       "</g>\n",
       "</g>\n",
       "</svg>"
      ],
      "text/plain": [
       "(gum::BayesNet<double>@0x561882f9f710) BN{nodes: 5, arcs: 4, domainSize: 96, parameters: 26, compression ratio: 72% }"
      ]
     },
     "execution_count": 32,
     "metadata": {},
     "output_type": "execute_result"
    }
   ],
   "source": [
    "bn = gum.BayesNet(\"Surviving Titanic\")\n",
    "bn.add(survived)\n",
    "bn.add(age)\n",
    "bn.add(gender)\n",
    "bn.add(siblings)\n",
    "bn.add(parents)\n",
    "bn.addArc('Survived', 'Age')\n",
    "bn.addArc('Survived', 'Gender')\n",
    "bn.addArc('Survived', 'Siblings')\n",
    "bn.addArc('Survived', 'Parents')\n",
    "bn"
   ]
  },
  {
   "cell_type": "markdown",
   "metadata": {},
   "source": [
    "The next step is to learn the parameters, this can easily be done using the `learnParameters` method."
   ]
  },
  {
   "cell_type": "code",
   "execution_count": 33,
   "metadata": {
    "ExecuteTime": {
     "end_time": "2019-02-21T17:02:07.473247Z",
     "start_time": "2019-02-21T17:02:02.353964Z"
    }
   },
   "outputs": [
    {
     "data": {
      "image/png": "[encoded data removed]"
     },
     "metadata": {},
     "output_type": "display_data"
    }
   ],
   "source": [
    "learner = gum.BNLearner(os.path.join(\"res\", 'titanic', 'post_train.csv'), bn)\n",
    "bn = learner.learnParameters(bn.dag())\n",
    "gnb.showInference(bn, size=\"10\")"
   ]
  },
  {
   "cell_type": "markdown",
   "metadata": {},
   "source": [
    "If we compare the CPTs obtained here with those defined by our expert in the first example we can see that they differ. They ressemble those obtained in the second example. This result is expected since we have learn the parameters from the training data, the learned probabilities distribution should match the data.\n",
    "\n",
    "The final steps consists of confronting this model agains our test dataset."
   ]
  },
  {
   "cell_type": "code",
   "execution_count": 34,
   "metadata": {
    "ExecuteTime": {
     "end_time": "2019-02-21T17:02:08.495535Z",
     "start_time": "2019-02-21T17:02:07.478508Z"
    }
   },
   "outputs": [
    {
     "name": "stdout",
     "output_type": "stream",
     "text": [
      " res/titanic/post_train.csv : [ ############################################## ] 100%\n",
      " result in res/titanic/post_train.csv-ROC_unnamed-Survived-True.png\n"
     ]
    },
    {
     "data": {
      "image/png": "[encoded data removed]",
      "text/plain": [
       "<Figure size 432x288 with 1 Axes>"
      ]
     },
     "metadata": {
      "needs_background": "light"
     },
     "output_type": "display_data"
    }
   ],
   "source": [
    "showROC(bn, os.path.join('res', 'titanic', 'post_train.csv'), 'Survived', \"True\", True, True)"
   ]
  },
  {
   "cell_type": "code",
   "execution_count": 35,
   "metadata": {
    "ExecuteTime": {
     "end_time": "2019-02-21T17:02:08.715160Z",
     "start_time": "2019-02-21T17:02:08.497318Z"
    }
   },
   "outputs": [
    {
     "data": {
      "text/plain": [
       "True Positive     0.588517\n",
       "True Negative     0.363636\n",
       "False Negative    0.047847\n",
       "dtype: float64"
      ]
     },
     "execution_count": 35,
     "metadata": {},
     "output_type": "execute_result"
    }
   ],
   "source": [
    "ie = gum.LazyPropagation(bn)\n",
    "init_belief(ie)\n",
    "ie.addTarget('Survived')\n",
    "result = testdf.apply(lambda x: is_well_predicted(ie, bn, 0.35917266477065596, x), axis=1)\n",
    "result.value_counts(True)"
   ]
  },
  {
   "cell_type": "code",
   "execution_count": 36,
   "metadata": {
    "ExecuteTime": {
     "end_time": "2019-02-21T17:02:08.721473Z",
     "start_time": "2019-02-21T17:02:08.716751Z"
    }
   },
   "outputs": [
    {
     "name": "stdout",
     "output_type": "stream",
     "text": [
      "95.22% good predictions\n"
     ]
    }
   ],
   "source": [
    "positives = sum(result.map(lambda x: 1 if x.startswith(\"True\") else 0 ))\n",
    "total = result.count()\n",
    "print(\"{0:.2f}% good predictions\".format(positives/total*100))"
   ]
  },
  {
   "cell_type": "markdown",
   "metadata": {},
   "source": [
    "Naive Bayes perform well when used for classification tasks, as shown by the 95% of good predictions achieved by our third model.\n",
    "\n",
    "# Conclusion\n",
    "\n",
    "We have demonstradted with different classification techniques using Bayesian Networks. In the first approach, we mangaged to model a classifier without using any training set and relying solely on prior knowledge. In the second approach we used only machine learning techniques. Finally, in the third example we assumed the naive bayes hypothesis and obtained a model combinede"
   ]
  }
 ],
 "metadata": {
  "hide_input": false,
  "kernelspec": {
   "display_name": "Python 3",
   "language": "python",
   "name": "python3"
  },
  "language_info": {
   "codemirror_mode": {
    "name": "ipython",
    "version": 3
   },
   "file_extension": ".py",
   "mimetype": "text/x-python",
   "name": "python",
   "nbconvert_exporter": "python",
   "pygments_lexer": "ipython3",
   "version": "3.7.2"
  }
 },
 "nbformat": 4,
 "nbformat_minor": 2
}
