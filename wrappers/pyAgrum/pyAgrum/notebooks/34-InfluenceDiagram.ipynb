{
 "cells": [
  {
   "cell_type": "markdown",
   "metadata": {},
   "source": [
    "<a href=\"http://agrum.org\" target=\"blank\"><img src=\"http://agrum.gitlab.io/theme/img/logoAgrum.png\" align=\"left\" style=\"height:100px\"/></a><a rel=\"license\" href=\"http://creativecommons.org/licenses/by-nc/4.0/\"><img alt=\"Creative Commons License\" style=\"border-width:0\" src=\"https://i.creativecommons.org/l/by-nc/4.0/88x31.png\" /></a><br />This pyAgrum's notebook is licensed under a <a rel=\"license\" href=\"http://creativecommons.org/licenses/by-nc/4.0/\">Creative Commons Attribution-NonCommercial 4.0 International License</a>."
   ]
  },
  {
   "cell_type": "code",
   "execution_count": 1,
   "metadata": {
    "ExecuteTime": {
     "end_time": "2019-02-25T17:33:50.568756Z",
     "start_time": "2019-02-25T17:33:50.344887Z"
    }
   },
   "outputs": [],
   "source": [
    "import os\n",
    "\n",
    "%matplotlib inline\n",
    "from pylab import *\n",
    "import matplotlib.pyplot as plt"
   ]
  },
  {
   "cell_type": "code",
   "execution_count": 2,
   "metadata": {
    "ExecuteTime": {
     "end_time": "2019-02-25T17:33:50.578808Z",
     "start_time": "2019-02-25T17:33:50.571592Z"
    }
   },
   "outputs": [],
   "source": [
    "import pyAgrum as gum\n",
    "import pyAgrum.lib.notebook as gnb\n"
   ]
  },
  {
   "cell_type": "code",
   "execution_count": 3,
   "metadata": {
    "ExecuteTime": {
     "end_time": "2019-02-25T17:33:52.797218Z",
     "start_time": "2019-02-25T17:33:50.581194Z"
    }
   },
   "outputs": [
    {
     "data": {
      "text/html": [
       "<svg height=\"390pt\" viewBox=\"0.00 0.00 432.00 390.15\" width=\"432pt\" xmlns=\"http://www.w3.org/2000/svg\" xmlns:xlink=\"http://www.w3.org/1999/xlink\">\n",
       "<g class=\"graph\" id=\"graph0\" transform=\"scale(.8196 .8196) rotate(0) translate(4 472)\">\n",
       "<title>res/diag.bifxml</title>\n",
       "<polygon fill=\"#ffffff\" points=\"-4,4 -4,-472 523.0625,-472 523.0625,4 -4,4\" stroke=\"transparent\"/>\n",
       "<!-- decisionVar1 -->\n",
       "<g class=\"node\" id=\"node1\">\n",
       "<title>decisionVar1</title>\n",
       "<polygon fill=\"#d3d3d3\" points=\"223.0625,-468 114.0625,-468 114.0625,-432 223.0625,-432 223.0625,-468\" stroke=\"#000000\"/>\n",
       "<text fill=\"#000000\" font-family=\"Times,serif\" font-size=\"14.00\" text-anchor=\"middle\" x=\"168.5625\" y=\"-446.3\">decisionVar1</text>\n",
       "</g>\n",
       "<!-- chanceVar1 -->\n",
       "<g class=\"node\" id=\"node7\">\n",
       "<title>chanceVar1</title>\n",
       "<ellipse cx=\"168.5625\" cy=\"-378\" fill=\"#d3d3d3\" rx=\"65.7887\" ry=\"18\" stroke=\"#000000\"/>\n",
       "<text fill=\"#000000\" font-family=\"Times,serif\" font-size=\"14.00\" text-anchor=\"middle\" x=\"168.5625\" y=\"-374.3\">chanceVar1</text>\n",
       "</g>\n",
       "<!-- decisionVar1&#45;&gt;chanceVar1 -->\n",
       "<g class=\"edge\" id=\"edge1\">\n",
       "<title>decisionVar1-&gt;chanceVar1</title>\n",
       "<path d=\"M168.5625,-431.8314C168.5625,-424.131 168.5625,-414.9743 168.5625,-406.4166\" fill=\"none\" stroke=\"#000000\"/>\n",
       "<polygon fill=\"#000000\" points=\"172.0626,-406.4132 168.5625,-396.4133 165.0626,-406.4133 172.0626,-406.4132\" stroke=\"#000000\"/>\n",
       "</g>\n",
       "<!-- decisionVar2 -->\n",
       "<g class=\"node\" id=\"node2\">\n",
       "<title>decisionVar2</title>\n",
       "<polygon fill=\"#d3d3d3\" points=\"288.0625,-252 179.0625,-252 179.0625,-216 288.0625,-216 288.0625,-252\" stroke=\"#000000\"/>\n",
       "<text fill=\"#000000\" font-family=\"Times,serif\" font-size=\"14.00\" text-anchor=\"middle\" x=\"233.5625\" y=\"-230.3\">decisionVar2</text>\n",
       "</g>\n",
       "<!-- utilityVar1 -->\n",
       "<g class=\"node\" id=\"node5\">\n",
       "<title>utilityVar1</title>\n",
       "<polygon fill=\"#d3d3d3\" points=\"84.5625,-180 -.0625,-162 84.5625,-144 169.1874,-162 84.5625,-180\" stroke=\"#000000\"/>\n",
       "<text fill=\"#000000\" font-family=\"Times,serif\" font-size=\"14.00\" text-anchor=\"middle\" x=\"84.5625\" y=\"-158.3\">utilityVar1</text>\n",
       "</g>\n",
       "<!-- decisionVar2&#45;&gt;utilityVar1 -->\n",
       "<g class=\"edge\" id=\"edge2\">\n",
       "<title>decisionVar2-&gt;utilityVar1</title>\n",
       "<path d=\"M195.9635,-215.8314C172.6259,-204.5541 142.825,-190.1537 119.9192,-179.0851\" fill=\"none\" stroke=\"#000000\"/>\n",
       "<polygon fill=\"#000000\" points=\"121.4058,-175.9163 110.8791,-174.7168 118.3602,-182.219 121.4058,-175.9163\" stroke=\"#000000\"/>\n",
       "</g>\n",
       "<!-- chanceVar4 -->\n",
       "<g class=\"node\" id=\"node10\">\n",
       "<title>chanceVar4</title>\n",
       "<ellipse cx=\"252.5625\" cy=\"-162\" fill=\"#d3d3d3\" rx=\"65.7887\" ry=\"18\" stroke=\"#000000\"/>\n",
       "<text fill=\"#000000\" font-family=\"Times,serif\" font-size=\"14.00\" text-anchor=\"middle\" x=\"252.5625\" y=\"-158.3\">chanceVar4</text>\n",
       "</g>\n",
       "<!-- decisionVar2&#45;&gt;chanceVar4 -->\n",
       "<g class=\"edge\" id=\"edge3\">\n",
       "<title>decisionVar2-&gt;chanceVar4</title>\n",
       "<path d=\"M238.357,-215.8314C240.4114,-208.0463 242.8585,-198.7729 245.138,-190.1347\" fill=\"none\" stroke=\"#000000\"/>\n",
       "<polygon fill=\"#000000\" points=\"248.5359,-190.9753 247.7034,-180.4133 241.7676,-189.1892 248.5359,-190.9753\" stroke=\"#000000\"/>\n",
       "</g>\n",
       "<!-- decisionVar3 -->\n",
       "<g class=\"node\" id=\"node3\">\n",
       "<title>decisionVar3</title>\n",
       "<polygon fill=\"#d3d3d3\" points=\"435.0625,-252 326.0625,-252 326.0625,-216 435.0625,-216 435.0625,-252\" stroke=\"#000000\"/>\n",
       "<text fill=\"#000000\" font-family=\"Times,serif\" font-size=\"14.00\" text-anchor=\"middle\" x=\"380.5625\" y=\"-230.3\">decisionVar3</text>\n",
       "</g>\n",
       "<!-- chanceVar3 -->\n",
       "<g class=\"node\" id=\"node9\">\n",
       "<title>chanceVar3</title>\n",
       "<ellipse cx=\"401.5625\" cy=\"-162\" fill=\"#d3d3d3\" rx=\"65.7887\" ry=\"18\" stroke=\"#000000\"/>\n",
       "<text fill=\"#000000\" font-family=\"Times,serif\" font-size=\"14.00\" text-anchor=\"middle\" x=\"401.5625\" y=\"-158.3\">chanceVar3</text>\n",
       "</g>\n",
       "<!-- decisionVar3&#45;&gt;chanceVar3 -->\n",
       "<g class=\"edge\" id=\"edge4\">\n",
       "<title>decisionVar3-&gt;chanceVar3</title>\n",
       "<path d=\"M385.8617,-215.8314C388.1323,-208.0463 390.837,-198.7729 393.3565,-190.1347\" fill=\"none\" stroke=\"#000000\"/>\n",
       "<polygon fill=\"#000000\" points=\"396.7519,-190.9933 396.1919,-180.4133 390.0319,-189.0332 396.7519,-190.9933\" stroke=\"#000000\"/>\n",
       "</g>\n",
       "<!-- decisionVar4 -->\n",
       "<g class=\"node\" id=\"node4\">\n",
       "<title>decisionVar4</title>\n",
       "<polygon fill=\"#d3d3d3\" points=\"519.0625,-108 410.0625,-108 410.0625,-72 519.0625,-72 519.0625,-108\" stroke=\"#000000\"/>\n",
       "<text fill=\"#000000\" font-family=\"Times,serif\" font-size=\"14.00\" text-anchor=\"middle\" x=\"464.5625\" y=\"-86.3\">decisionVar4</text>\n",
       "</g>\n",
       "<!-- utilityVar2 -->\n",
       "<g class=\"node\" id=\"node6\">\n",
       "<title>utilityVar2</title>\n",
       "<polygon fill=\"#d3d3d3\" points=\"395.5625,-36 310.9375,-18 395.5625,0 480.1874,-18 395.5625,-36\" stroke=\"#000000\"/>\n",
       "<text fill=\"#000000\" font-family=\"Times,serif\" font-size=\"14.00\" text-anchor=\"middle\" x=\"395.5625\" y=\"-14.3\">utilityVar2</text>\n",
       "</g>\n",
       "<!-- decisionVar4&#45;&gt;utilityVar2 -->\n",
       "<g class=\"edge\" id=\"edge5\">\n",
       "<title>decisionVar4-&gt;utilityVar2</title>\n",
       "<path d=\"M447.1509,-71.8314C437.9885,-62.2706 426.6748,-50.4651 416.9794,-40.3481\" fill=\"none\" stroke=\"#000000\"/>\n",
       "<polygon fill=\"#000000\" points=\"419.3892,-37.8041 409.9431,-33.0059 414.3353,-42.6475 419.3892,-37.8041\" stroke=\"#000000\"/>\n",
       "</g>\n",
       "<!-- chanceVar1&#45;&gt;utilityVar1 -->\n",
       "<g class=\"edge\" id=\"edge6\">\n",
       "<title>chanceVar1-&gt;utilityVar1</title>\n",
       "<path d=\"M161.5452,-359.9555C146.6932,-321.7646 112.0301,-232.6312 94.7426,-188.1774\" fill=\"none\" stroke=\"#000000\"/>\n",
       "<polygon fill=\"#000000\" points=\"97.9231,-186.6992 91.0366,-178.6477 91.3991,-189.2364 97.9231,-186.6992\" stroke=\"#000000\"/>\n",
       "</g>\n",
       "<!-- chanceVar2 -->\n",
       "<g class=\"node\" id=\"node8\">\n",
       "<title>chanceVar2</title>\n",
       "<ellipse cx=\"233.5625\" cy=\"-306\" fill=\"#d3d3d3\" rx=\"65.7887\" ry=\"18\" stroke=\"#000000\"/>\n",
       "<text fill=\"#000000\" font-family=\"Times,serif\" font-size=\"14.00\" text-anchor=\"middle\" x=\"233.5625\" y=\"-302.3\">chanceVar2</text>\n",
       "</g>\n",
       "<!-- chanceVar1&#45;&gt;chanceVar2 -->\n",
       "<g class=\"edge\" id=\"edge7\">\n",
       "<title>chanceVar1-&gt;chanceVar2</title>\n",
       "<path d=\"M184.6299,-360.2022C192.5012,-351.4832 202.1177,-340.8311 210.7358,-331.2849\" fill=\"none\" stroke=\"#000000\"/>\n",
       "<polygon fill=\"#000000\" points=\"213.5768,-333.3611 217.6799,-323.593 208.3809,-328.6704 213.5768,-333.3611\" stroke=\"#000000\"/>\n",
       "</g>\n",
       "<!-- chanceVar2&#45;&gt;decisionVar2 -->\n",
       "<g class=\"edge\" id=\"edge8\">\n",
       "<title>chanceVar2-&gt;decisionVar2</title>\n",
       "<path d=\"M233.5625,-287.8314C233.5625,-280.131 233.5625,-270.9743 233.5625,-262.4166\" fill=\"none\" stroke=\"#000000\"/>\n",
       "<polygon fill=\"#000000\" points=\"237.0626,-262.4132 233.5625,-252.4133 230.0626,-262.4133 237.0626,-262.4132\" stroke=\"#000000\"/>\n",
       "</g>\n",
       "<!-- chanceVar2&#45;&gt;decisionVar3 -->\n",
       "<g class=\"edge\" id=\"edge9\">\n",
       "<title>chanceVar2-&gt;decisionVar3</title>\n",
       "<path d=\"M265.8222,-290.1993C286.0267,-280.3032 312.3784,-267.3963 334.7319,-256.4476\" fill=\"none\" stroke=\"#000000\"/>\n",
       "<polygon fill=\"#000000\" points=\"336.2761,-259.5886 343.7171,-252.0467 333.1969,-253.3022 336.2761,-259.5886\" stroke=\"#000000\"/>\n",
       "</g>\n",
       "<!-- chanceVar5 -->\n",
       "<g class=\"node\" id=\"node11\">\n",
       "<title>chanceVar5</title>\n",
       "<ellipse cx=\"326.5625\" cy=\"-90\" fill=\"#d3d3d3\" rx=\"65.7887\" ry=\"18\" stroke=\"#000000\"/>\n",
       "<text fill=\"#000000\" font-family=\"Times,serif\" font-size=\"14.00\" text-anchor=\"middle\" x=\"326.5625\" y=\"-86.3\">chanceVar5</text>\n",
       "</g>\n",
       "<!-- chanceVar3&#45;&gt;chanceVar5 -->\n",
       "<g class=\"edge\" id=\"edge10\">\n",
       "<title>chanceVar3-&gt;chanceVar5</title>\n",
       "<path d=\"M383.4071,-144.5708C374.0795,-135.6164 362.5531,-124.551 352.323,-114.7302\" fill=\"none\" stroke=\"#000000\"/>\n",
       "<polygon fill=\"#000000\" points=\"354.4484,-111.9187 344.8106,-107.5182 349.6007,-116.9685 354.4484,-111.9187\" stroke=\"#000000\"/>\n",
       "</g>\n",
       "<!-- chanceVar4&#45;&gt;chanceVar5 -->\n",
       "<g class=\"edge\" id=\"edge11\">\n",
       "<title>chanceVar4-&gt;chanceVar5</title>\n",
       "<path d=\"M270.4758,-144.5708C279.679,-135.6164 291.0517,-124.551 301.1454,-114.7302\" fill=\"none\" stroke=\"#000000\"/>\n",
       "<polygon fill=\"#000000\" points=\"303.8311,-117.0004 308.5576,-107.5182 298.9496,-111.9833 303.8311,-117.0004\" stroke=\"#000000\"/>\n",
       "</g>\n",
       "<!-- chanceVar5&#45;&gt;utilityVar2 -->\n",
       "<g class=\"edge\" id=\"edge12\">\n",
       "<title>chanceVar5-&gt;utilityVar2</title>\n",
       "<path d=\"M343.2654,-72.5708C352.4189,-63.0194 363.874,-51.0662 373.7282,-40.7836\" fill=\"none\" stroke=\"#000000\"/>\n",
       "<polygon fill=\"#000000\" points=\"376.495,-42.955 380.8871,-33.3134 371.4411,-38.1116 376.495,-42.955\" stroke=\"#000000\"/>\n",
       "</g>\n",
       "</g>\n",
       "</svg>"
      ],
      "text/plain": [
       "<IPython.core.display.HTML object>"
      ]
     },
     "metadata": {},
     "output_type": "display_data"
    }
   ],
   "source": [
    "diag=gum.loadID(os.path.join(\"res\",\"diag.bifxml\"))\n",
    "gnb.showInfluenceDiagram(diag,size=\"6\",format='svg')"
   ]
  },
  {
   "cell_type": "code",
   "execution_count": 4,
   "metadata": {
    "ExecuteTime": {
     "end_time": "2019-02-25T17:33:54.946587Z",
     "start_time": "2019-02-25T17:33:52.799259Z"
    }
   },
   "outputs": [
    {
     "data": {
      "text/html": [
       "<svg height=\"376pt\" viewBox=\"0.00 0.00 432.00 375.54\" width=\"432pt\" xmlns=\"http://www.w3.org/2000/svg\" xmlns:xlink=\"http://www.w3.org/1999/xlink\">\n",
       "<g class=\"graph\" id=\"graph0\" transform=\"scale(.789 .789) rotate(0) translate(4 472)\">\n",
       "<title>res/diag.bifxml</title>\n",
       "<polygon fill=\"#ffffff\" points=\"-4,4 -4,-472 543.5625,-472 543.5625,4 -4,4\" stroke=\"transparent\"/>\n",
       "<!-- decisionVar1 -->\n",
       "<g class=\"node\" id=\"node1\">\n",
       "<title>decisionVar1</title>\n",
       "<polygon fill=\"#d3d3d3\" points=\"387.0625,-468 278.0625,-468 278.0625,-432 387.0625,-432 387.0625,-468\" stroke=\"#000000\"/>\n",
       "<text fill=\"#000000\" font-family=\"Times,serif\" font-size=\"14.00\" text-anchor=\"middle\" x=\"332.5625\" y=\"-446.3\">decisionVar1</text>\n",
       "</g>\n",
       "<!-- chanceVar1 -->\n",
       "<g class=\"node\" id=\"node8\">\n",
       "<title>chanceVar1</title>\n",
       "<ellipse cx=\"285.5625\" cy=\"-378\" fill=\"#d3d3d3\" rx=\"65.7887\" ry=\"18\" stroke=\"#000000\"/>\n",
       "<text fill=\"#000000\" font-family=\"Times,serif\" font-size=\"14.00\" text-anchor=\"middle\" x=\"285.5625\" y=\"-374.3\">chanceVar1</text>\n",
       "</g>\n",
       "<!-- decisionVar1&#45;&gt;chanceVar1 -->\n",
       "<g class=\"edge\" id=\"edge2\">\n",
       "<title>decisionVar1-&gt;chanceVar1</title>\n",
       "<path d=\"M320.7024,-431.8314C315.2619,-423.497 308.7078,-413.4567 302.7411,-404.3162\" fill=\"none\" stroke=\"#000000\"/>\n",
       "<polygon fill=\"#000000\" points=\"305.653,-402.374 297.2559,-395.9134 299.7914,-406.2004 305.653,-402.374\" stroke=\"#000000\"/>\n",
       "</g>\n",
       "<!-- F -->\n",
       "<g class=\"node\" id=\"node13\">\n",
       "<title>F</title>\n",
       "<ellipse cx=\"423.5625\" cy=\"-306\" fill=\"#d3d3d3\" rx=\"27\" ry=\"18\" stroke=\"#000000\"/>\n",
       "<text fill=\"#000000\" font-family=\"Times,serif\" font-size=\"14.00\" text-anchor=\"middle\" x=\"423.5625\" y=\"-302.3\">F</text>\n",
       "</g>\n",
       "<!-- decisionVar1&#45;&gt;F -->\n",
       "<g class=\"edge\" id=\"edge1\">\n",
       "<title>decisionVar1-&gt;F</title>\n",
       "<path d=\"M344.0877,-431.7623C360.1415,-406.3585 389.3054,-360.2091 407.4888,-331.4352\" fill=\"none\" stroke=\"#000000\"/>\n",
       "<polygon fill=\"#000000\" points=\"410.5928,-333.0752 412.9762,-322.7519 404.6753,-329.3356 410.5928,-333.0752\" stroke=\"#000000\"/>\n",
       "</g>\n",
       "<!-- decisionVar2 -->\n",
       "<g class=\"node\" id=\"node2\">\n",
       "<title>decisionVar2</title>\n",
       "<polygon fill=\"#d3d3d3\" points=\"307.0625,-252 198.0625,-252 198.0625,-216 307.0625,-216 307.0625,-252\" stroke=\"#000000\"/>\n",
       "<text fill=\"#000000\" font-family=\"Times,serif\" font-size=\"14.00\" text-anchor=\"middle\" x=\"252.5625\" y=\"-230.3\">decisionVar2</text>\n",
       "</g>\n",
       "<!-- utilityVar1 -->\n",
       "<g class=\"node\" id=\"node5\">\n",
       "<title>utilityVar1</title>\n",
       "<polygon fill=\"#d3d3d3\" points=\"84.5625,-180 -.0625,-162 84.5625,-144 169.1874,-162 84.5625,-180\" stroke=\"#000000\"/>\n",
       "<text fill=\"#000000\" font-family=\"Times,serif\" font-size=\"14.00\" text-anchor=\"middle\" x=\"84.5625\" y=\"-158.3\">utilityVar1</text>\n",
       "</g>\n",
       "<!-- decisionVar2&#45;&gt;utilityVar1 -->\n",
       "<g class=\"edge\" id=\"edge3\">\n",
       "<title>decisionVar2-&gt;utilityVar1</title>\n",
       "<path d=\"M210.169,-215.8314C182.9852,-204.1812 148.0239,-189.1978 121.8913,-177.9981\" fill=\"none\" stroke=\"#000000\"/>\n",
       "<polygon fill=\"#000000\" points=\"123.2639,-174.7785 112.6937,-174.0563 120.5064,-181.2125 123.2639,-174.7785\" stroke=\"#000000\"/>\n",
       "</g>\n",
       "<!-- chanceVar4 -->\n",
       "<g class=\"node\" id=\"node11\">\n",
       "<title>chanceVar4</title>\n",
       "<ellipse cx=\"252.5625\" cy=\"-162\" fill=\"#d3d3d3\" rx=\"65.7887\" ry=\"18\" stroke=\"#000000\"/>\n",
       "<text fill=\"#000000\" font-family=\"Times,serif\" font-size=\"14.00\" text-anchor=\"middle\" x=\"252.5625\" y=\"-158.3\">chanceVar4</text>\n",
       "</g>\n",
       "<!-- decisionVar2&#45;&gt;chanceVar4 -->\n",
       "<g class=\"edge\" id=\"edge4\">\n",
       "<title>decisionVar2-&gt;chanceVar4</title>\n",
       "<path d=\"M252.5625,-215.8314C252.5625,-208.131 252.5625,-198.9743 252.5625,-190.4166\" fill=\"none\" stroke=\"#000000\"/>\n",
       "<polygon fill=\"#000000\" points=\"256.0626,-190.4132 252.5625,-180.4133 249.0626,-190.4133 256.0626,-190.4132\" stroke=\"#000000\"/>\n",
       "</g>\n",
       "<!-- decisionVar3 -->\n",
       "<g class=\"node\" id=\"node3\">\n",
       "<title>decisionVar3</title>\n",
       "<polygon fill=\"#d3d3d3\" points=\"456.0625,-252 347.0625,-252 347.0625,-216 456.0625,-216 456.0625,-252\" stroke=\"#000000\"/>\n",
       "<text fill=\"#000000\" font-family=\"Times,serif\" font-size=\"14.00\" text-anchor=\"middle\" x=\"401.5625\" y=\"-230.3\">decisionVar3</text>\n",
       "</g>\n",
       "<!-- U -->\n",
       "<g class=\"node\" id=\"node7\">\n",
       "<title>U</title>\n",
       "<polygon fill=\"#d3d3d3\" points=\"512.5625,-180 485.5625,-162 512.5625,-144 539.5625,-162 512.5625,-180\" stroke=\"#000000\"/>\n",
       "<text fill=\"#000000\" font-family=\"Times,serif\" font-size=\"14.00\" text-anchor=\"middle\" x=\"512.5625\" y=\"-158.3\">U</text>\n",
       "</g>\n",
       "<!-- decisionVar3&#45;&gt;U -->\n",
       "<g class=\"edge\" id=\"edge6\">\n",
       "<title>decisionVar3-&gt;U</title>\n",
       "<path d=\"M429.5725,-215.8314C448.3862,-203.6279 472.8382,-187.7671 490.3181,-176.4288\" fill=\"none\" stroke=\"#000000\"/>\n",
       "<polygon fill=\"#000000\" points=\"492.2717,-179.3335 498.7566,-170.9551 488.4623,-173.4607 492.2717,-179.3335\" stroke=\"#000000\"/>\n",
       "</g>\n",
       "<!-- chanceVar3 -->\n",
       "<g class=\"node\" id=\"node10\">\n",
       "<title>chanceVar3</title>\n",
       "<ellipse cx=\"401.5625\" cy=\"-162\" fill=\"#d3d3d3\" rx=\"65.7887\" ry=\"18\" stroke=\"#000000\"/>\n",
       "<text fill=\"#000000\" font-family=\"Times,serif\" font-size=\"14.00\" text-anchor=\"middle\" x=\"401.5625\" y=\"-158.3\">chanceVar3</text>\n",
       "</g>\n",
       "<!-- decisionVar3&#45;&gt;chanceVar3 -->\n",
       "<g class=\"edge\" id=\"edge5\">\n",
       "<title>decisionVar3-&gt;chanceVar3</title>\n",
       "<path d=\"M401.5625,-215.8314C401.5625,-208.131 401.5625,-198.9743 401.5625,-190.4166\" fill=\"none\" stroke=\"#000000\"/>\n",
       "<polygon fill=\"#000000\" points=\"405.0626,-190.4132 401.5625,-180.4133 398.0626,-190.4133 405.0626,-190.4132\" stroke=\"#000000\"/>\n",
       "</g>\n",
       "<!-- decisionVar4 -->\n",
       "<g class=\"node\" id=\"node4\">\n",
       "<title>decisionVar4</title>\n",
       "<polygon fill=\"#d3d3d3\" points=\"519.0625,-108 410.0625,-108 410.0625,-72 519.0625,-72 519.0625,-108\" stroke=\"#000000\"/>\n",
       "<text fill=\"#000000\" font-family=\"Times,serif\" font-size=\"14.00\" text-anchor=\"middle\" x=\"464.5625\" y=\"-86.3\">decisionVar4</text>\n",
       "</g>\n",
       "<!-- utilityVar2 -->\n",
       "<g class=\"node\" id=\"node6\">\n",
       "<title>utilityVar2</title>\n",
       "<polygon fill=\"#d3d3d3\" points=\"395.5625,-36 310.9375,-18 395.5625,0 480.1874,-18 395.5625,-36\" stroke=\"#000000\"/>\n",
       "<text fill=\"#000000\" font-family=\"Times,serif\" font-size=\"14.00\" text-anchor=\"middle\" x=\"395.5625\" y=\"-14.3\">utilityVar2</text>\n",
       "</g>\n",
       "<!-- decisionVar4&#45;&gt;utilityVar2 -->\n",
       "<g class=\"edge\" id=\"edge7\">\n",
       "<title>decisionVar4-&gt;utilityVar2</title>\n",
       "<path d=\"M447.1509,-71.8314C437.9885,-62.2706 426.6748,-50.4651 416.9794,-40.3481\" fill=\"none\" stroke=\"#000000\"/>\n",
       "<polygon fill=\"#000000\" points=\"419.3892,-37.8041 409.9431,-33.0059 414.3353,-42.6475 419.3892,-37.8041\" stroke=\"#000000\"/>\n",
       "</g>\n",
       "<!-- chanceVar1&#45;&gt;utilityVar1 -->\n",
       "<g class=\"edge\" id=\"edge8\">\n",
       "<title>chanceVar1-&gt;utilityVar1</title>\n",
       "<path d=\"M258.8002,-361.4545C243.8081,-351.5398 225.2352,-338.1394 210.5625,-324 165.3007,-280.3835 122.585,-219.9498 100.4004,-186.5896\" fill=\"none\" stroke=\"#000000\"/>\n",
       "<polygon fill=\"#000000\" points=\"103.1247,-184.3627 94.7026,-177.9348 97.278,-188.2118 103.1247,-184.3627\" stroke=\"#000000\"/>\n",
       "</g>\n",
       "<!-- chanceVar2 -->\n",
       "<g class=\"node\" id=\"node9\">\n",
       "<title>chanceVar2</title>\n",
       "<ellipse cx=\"285.5625\" cy=\"-306\" fill=\"#d3d3d3\" rx=\"65.7887\" ry=\"18\" stroke=\"#000000\"/>\n",
       "<text fill=\"#000000\" font-family=\"Times,serif\" font-size=\"14.00\" text-anchor=\"middle\" x=\"285.5625\" y=\"-302.3\">chanceVar2</text>\n",
       "</g>\n",
       "<!-- chanceVar1&#45;&gt;chanceVar2 -->\n",
       "<g class=\"edge\" id=\"edge9\">\n",
       "<title>chanceVar1-&gt;chanceVar2</title>\n",
       "<path d=\"M285.5625,-359.8314C285.5625,-352.131 285.5625,-342.9743 285.5625,-334.4166\" fill=\"none\" stroke=\"#000000\"/>\n",
       "<polygon fill=\"#000000\" points=\"289.0626,-334.4132 285.5625,-324.4133 282.0626,-334.4133 289.0626,-334.4132\" stroke=\"#000000\"/>\n",
       "</g>\n",
       "<!-- chanceVar2&#45;&gt;decisionVar2 -->\n",
       "<g class=\"edge\" id=\"edge10\">\n",
       "<title>chanceVar2-&gt;decisionVar2</title>\n",
       "<path d=\"M277.2352,-287.8314C273.5895,-279.8771 269.2316,-270.369 265.1998,-261.5723\" fill=\"none\" stroke=\"#000000\"/>\n",
       "<polygon fill=\"#000000\" points=\"268.3502,-260.0456 261.0019,-252.4133 261.9868,-262.9622 268.3502,-260.0456\" stroke=\"#000000\"/>\n",
       "</g>\n",
       "<!-- chanceVar2&#45;&gt;decisionVar3 -->\n",
       "<g class=\"edge\" id=\"edge11\">\n",
       "<title>chanceVar2-&gt;decisionVar3</title>\n",
       "<path d=\"M312.1752,-289.4817C327.4405,-280.0067 346.8569,-267.9552 363.6909,-257.5065\" fill=\"none\" stroke=\"#000000\"/>\n",
       "<polygon fill=\"#000000\" points=\"365.5722,-260.4582 372.2228,-252.2108 361.8806,-254.5107 365.5722,-260.4582\" stroke=\"#000000\"/>\n",
       "</g>\n",
       "<!-- chanceVar5 -->\n",
       "<g class=\"node\" id=\"node12\">\n",
       "<title>chanceVar5</title>\n",
       "<ellipse cx=\"326.5625\" cy=\"-90\" fill=\"#d3d3d3\" rx=\"65.7887\" ry=\"18\" stroke=\"#000000\"/>\n",
       "<text fill=\"#000000\" font-family=\"Times,serif\" font-size=\"14.00\" text-anchor=\"middle\" x=\"326.5625\" y=\"-86.3\">chanceVar5</text>\n",
       "</g>\n",
       "<!-- chanceVar3&#45;&gt;chanceVar5 -->\n",
       "<g class=\"edge\" id=\"edge12\">\n",
       "<title>chanceVar3-&gt;chanceVar5</title>\n",
       "<path d=\"M383.4071,-144.5708C374.0795,-135.6164 362.5531,-124.551 352.323,-114.7302\" fill=\"none\" stroke=\"#000000\"/>\n",
       "<polygon fill=\"#000000\" points=\"354.4484,-111.9187 344.8106,-107.5182 349.6007,-116.9685 354.4484,-111.9187\" stroke=\"#000000\"/>\n",
       "</g>\n",
       "<!-- chanceVar4&#45;&gt;chanceVar5 -->\n",
       "<g class=\"edge\" id=\"edge13\">\n",
       "<title>chanceVar4-&gt;chanceVar5</title>\n",
       "<path d=\"M270.4758,-144.5708C279.679,-135.6164 291.0517,-124.551 301.1454,-114.7302\" fill=\"none\" stroke=\"#000000\"/>\n",
       "<polygon fill=\"#000000\" points=\"303.8311,-117.0004 308.5576,-107.5182 298.9496,-111.9833 303.8311,-117.0004\" stroke=\"#000000\"/>\n",
       "</g>\n",
       "<!-- chanceVar5&#45;&gt;utilityVar2 -->\n",
       "<g class=\"edge\" id=\"edge14\">\n",
       "<title>chanceVar5-&gt;utilityVar2</title>\n",
       "<path d=\"M343.2654,-72.5708C352.4189,-63.0194 363.874,-51.0662 373.7282,-40.7836\" fill=\"none\" stroke=\"#000000\"/>\n",
       "<polygon fill=\"#000000\" points=\"376.495,-42.955 380.8871,-33.3134 371.4411,-38.1116 376.495,-42.955\" stroke=\"#000000\"/>\n",
       "</g>\n",
       "<!-- F&#45;&gt;U -->\n",
       "<g class=\"edge\" id=\"edge15\">\n",
       "<title>F-&gt;U</title>\n",
       "<path d=\"M437.225,-290.0194C445.8546,-279.5566 456.9588,-265.3889 465.5625,-252 479.6176,-230.1277 493.0784,-203.584 501.9642,-185.0119\" fill=\"none\" stroke=\"#000000\"/>\n",
       "<polygon fill=\"#000000\" points=\"505.1878,-186.3817 506.2888,-175.8442 498.8569,-183.3953 505.1878,-186.3817\" stroke=\"#000000\"/>\n",
       "</g>\n",
       "</g>\n",
       "</svg>"
      ],
      "text/plain": [
       "<IPython.core.display.HTML object>"
      ]
     },
     "metadata": {},
     "output_type": "display_data"
    }
   ],
   "source": [
    "F=diag.addChanceNode(gum.LabelizedVariable(\"F\",\"F\",2))\n",
    "diag.addArc(diag.idFromName(\"decisionVar1\"),F)\n",
    "\n",
    "U=diag.addUtilityNode(gum.LabelizedVariable(\"U\",\"U\",1))\n",
    "diag.addArc(diag.idFromName(\"decisionVar3\"),U)\n",
    "diag.addArc(diag.idFromName(\"F\"),U)\n",
    "\n",
    "gnb.showInfluenceDiagram(diag,size=\"6\",format=\"svg\") \n",
    "# note the difference between png (above) and svg (here)rendering"
   ]
  },
  {
   "cell_type": "code",
   "execution_count": 5,
   "metadata": {
    "ExecuteTime": {
     "end_time": "2019-02-25T17:33:54.955130Z",
     "start_time": "2019-02-25T17:33:54.948913Z"
    }
   },
   "outputs": [],
   "source": [
    "diag.cpt(F)[{'decisionVar1':0}]=[0.9,0.1]\n",
    "diag.cpt(F)[{'decisionVar1':1}]=[0.3,0.7]\n",
    "\n",
    "diag.utility(U)[{'F':0,'decisionVar3':0}]=2\n",
    "diag.utility(U)[{'F':0,'decisionVar3':1}]=4\n",
    "diag.utility(U)[{'F':1}]=[[0],[5]]"
   ]
  },
  {
   "cell_type": "code",
   "execution_count": 6,
   "metadata": {
    "ExecuteTime": {
     "end_time": "2019-02-25T17:33:57.089038Z",
     "start_time": "2019-02-25T17:33:54.956871Z"
    }
   },
   "outputs": [
    {
     "data": {
      "text/html": [
       "<svg height=\"226pt\" viewBox=\"0.00 0.00 288.00 225.54\" width=\"288pt\" xmlns=\"http://www.w3.org/2000/svg\" xmlns:xlink=\"http://www.w3.org/1999/xlink\">\n",
       "<g class=\"graph\" id=\"graph0\" transform=\"scale(.8675 .8675) rotate(0) translate(4 256)\">\n",
       "<title>res/DecAsia.bifxml</title>\n",
       "<polygon fill=\"#ffffff\" points=\"-4,4 -4,-256 328,-256 328,4 -4,4\" stroke=\"transparent\"/>\n",
       "<!-- H -->\n",
       "<g class=\"node\" id=\"node1\">\n",
       "<title>H</title>\n",
       "<polygon fill=\"#d3d3d3\" points=\"85,-180 31,-180 31,-144 85,-144 85,-180\" stroke=\"#000000\"/>\n",
       "<text fill=\"#000000\" font-family=\"Times,serif\" font-size=\"14.00\" text-anchor=\"middle\" x=\"58\" y=\"-158.3\">H</text>\n",
       "</g>\n",
       "<!-- Ta -->\n",
       "<g class=\"node\" id=\"node2\">\n",
       "<title>Ta</title>\n",
       "<polygon fill=\"#d3d3d3\" points=\"54,-108 0,-108 0,-72 54,-72 54,-108\" stroke=\"#000000\"/>\n",
       "<text fill=\"#000000\" font-family=\"Times,serif\" font-size=\"14.00\" text-anchor=\"middle\" x=\"27\" y=\"-86.3\">Ta</text>\n",
       "</g>\n",
       "<!-- H&#45;&gt;Ta -->\n",
       "<g class=\"edge\" id=\"edge1\">\n",
       "<title>H-&gt;Ta</title>\n",
       "<path d=\"M50.1774,-143.8314C46.7891,-135.9617 42.7459,-126.5712 38.9924,-117.8533\" fill=\"none\" stroke=\"#000000\"/>\n",
       "<polygon fill=\"#000000\" points=\"42.0973,-116.214 34.9279,-108.4133 35.6679,-118.9822 42.0973,-116.214\" stroke=\"#000000\"/>\n",
       "</g>\n",
       "<!-- Uh -->\n",
       "<g class=\"node\" id=\"node3\">\n",
       "<title>Uh</title>\n",
       "<polygon fill=\"#d3d3d3\" points=\"107,-108 72.1439,-90 107,-72 141.8561,-90 107,-108\" stroke=\"#000000\"/>\n",
       "<text fill=\"#000000\" font-family=\"Times,serif\" font-size=\"14.00\" text-anchor=\"middle\" x=\"107\" y=\"-86.3\">Uh</text>\n",
       "</g>\n",
       "<!-- H&#45;&gt;Uh -->\n",
       "<g class=\"edge\" id=\"edge2\">\n",
       "<title>H-&gt;Uh</title>\n",
       "<path d=\"M70.3648,-143.8314C76.9431,-134.1652 85.0831,-122.2044 92.0183,-112.014\" fill=\"none\" stroke=\"#000000\"/>\n",
       "<polygon fill=\"#000000\" points=\"95.0003,-113.853 97.7331,-103.6167 89.2133,-109.9147 95.0003,-113.853\" stroke=\"#000000\"/>\n",
       "</g>\n",
       "<!-- Ut -->\n",
       "<g class=\"node\" id=\"node4\">\n",
       "<title>Ut</title>\n",
       "<polygon fill=\"#d3d3d3\" points=\"76,-36 43.6581,-18 76,0 108.3419,-18 76,-36\" stroke=\"#000000\"/>\n",
       "<text fill=\"#000000\" font-family=\"Times,serif\" font-size=\"14.00\" text-anchor=\"middle\" x=\"76\" y=\"-14.3\">Ut</text>\n",
       "</g>\n",
       "<!-- Ta&#45;&gt;Ut -->\n",
       "<g class=\"edge\" id=\"edge3\">\n",
       "<title>Ta-&gt;Ut</title>\n",
       "<path d=\"M39.3648,-71.8314C46.0309,-62.0363 54.3005,-49.885 61.295,-39.6073\" fill=\"none\" stroke=\"#000000\"/>\n",
       "<polygon fill=\"#000000\" points=\"64.3084,-41.4004 67.0411,-31.164 58.5214,-37.462 64.3084,-41.4004\" stroke=\"#000000\"/>\n",
       "</g>\n",
       "<!-- P -->\n",
       "<g class=\"node\" id=\"node10\">\n",
       "<title>P</title>\n",
       "<ellipse cx=\"177\" cy=\"-18\" fill=\"#d3d3d3\" rx=\"27\" ry=\"18\" stroke=\"#000000\"/>\n",
       "<text fill=\"#000000\" font-family=\"Times,serif\" font-size=\"14.00\" text-anchor=\"middle\" x=\"177\" y=\"-14.3\">P</text>\n",
       "</g>\n",
       "<!-- Ta&#45;&gt;P -->\n",
       "<g class=\"edge\" id=\"edge4\">\n",
       "<title>Ta-&gt;P</title>\n",
       "<path d=\"M54.0963,-76.3747C57.096,-74.8893 60.1099,-73.4068 63,-72 90.7395,-58.4972 122.471,-43.5029 145.4009,-32.7477\" fill=\"none\" stroke=\"#000000\"/>\n",
       "<polygon fill=\"#000000\" points=\"147.0806,-35.8259 154.6518,-28.4146 144.1113,-29.4868 147.0806,-35.8259\" stroke=\"#000000\"/>\n",
       "</g>\n",
       "<!-- S -->\n",
       "<g class=\"node\" id=\"node5\">\n",
       "<title>S</title>\n",
       "<ellipse cx=\"256\" cy=\"-234\" fill=\"#d3d3d3\" rx=\"27\" ry=\"18\" stroke=\"#000000\"/>\n",
       "<text fill=\"#000000\" font-family=\"Times,serif\" font-size=\"14.00\" text-anchor=\"middle\" x=\"256\" y=\"-230.3\">S</text>\n",
       "</g>\n",
       "<!-- B -->\n",
       "<g class=\"node\" id=\"node6\">\n",
       "<title>B</title>\n",
       "<ellipse cx=\"297\" cy=\"-90\" fill=\"#d3d3d3\" rx=\"27\" ry=\"18\" stroke=\"#000000\"/>\n",
       "<text fill=\"#000000\" font-family=\"Times,serif\" font-size=\"14.00\" text-anchor=\"middle\" x=\"297\" y=\"-86.3\">B</text>\n",
       "</g>\n",
       "<!-- S&#45;&gt;B -->\n",
       "<g class=\"edge\" id=\"edge5\">\n",
       "<title>S-&gt;B</title>\n",
       "<path d=\"M261.1098,-216.0535C268.1454,-191.3431 280.8804,-146.6152 289.135,-117.6234\" fill=\"none\" stroke=\"#000000\"/>\n",
       "<polygon fill=\"#000000\" points=\"292.5824,-118.2966 291.9546,-107.7204 285.8499,-116.3797 292.5824,-118.2966\" stroke=\"#000000\"/>\n",
       "</g>\n",
       "<!-- L -->\n",
       "<g class=\"node\" id=\"node7\">\n",
       "<title>L</title>\n",
       "<ellipse cx=\"229\" cy=\"-162\" fill=\"#d3d3d3\" rx=\"27\" ry=\"18\" stroke=\"#000000\"/>\n",
       "<text fill=\"#000000\" font-family=\"Times,serif\" font-size=\"14.00\" text-anchor=\"middle\" x=\"229\" y=\"-158.3\">L</text>\n",
       "</g>\n",
       "<!-- S&#45;&gt;L -->\n",
       "<g class=\"edge\" id=\"edge6\">\n",
       "<title>S-&gt;L</title>\n",
       "<path d=\"M249.3258,-216.2022C246.2524,-208.0064 242.5384,-198.1024 239.1305,-189.0145\" fill=\"none\" stroke=\"#000000\"/>\n",
       "<polygon fill=\"#000000\" points=\"242.3858,-187.7274 235.5974,-179.593 235.8315,-190.1853 242.3858,-187.7274\" stroke=\"#000000\"/>\n",
       "</g>\n",
       "<!-- D -->\n",
       "<g class=\"node\" id=\"node9\">\n",
       "<title>D</title>\n",
       "<ellipse cx=\"261\" cy=\"-18\" fill=\"#d3d3d3\" rx=\"27\" ry=\"18\" stroke=\"#000000\"/>\n",
       "<text fill=\"#000000\" font-family=\"Times,serif\" font-size=\"14.00\" text-anchor=\"middle\" x=\"261\" y=\"-14.3\">D</text>\n",
       "</g>\n",
       "<!-- B&#45;&gt;D -->\n",
       "<g class=\"edge\" id=\"edge7\">\n",
       "<title>B-&gt;D</title>\n",
       "<path d=\"M288.2854,-72.5708C284.0403,-64.0807 278.8464,-53.6929 274.1337,-44.2674\" fill=\"none\" stroke=\"#000000\"/>\n",
       "<polygon fill=\"#000000\" points=\"277.237,-42.6477 269.6343,-35.2687 270.976,-45.7782 277.237,-42.6477\" stroke=\"#000000\"/>\n",
       "</g>\n",
       "<!-- L&#45;&gt;Uh -->\n",
       "<g class=\"edge\" id=\"edge9\">\n",
       "<title>L-&gt;Uh</title>\n",
       "<path d=\"M208.5799,-149.9488C187.5942,-137.5638 154.8812,-118.2577 132.2755,-104.9167\" fill=\"none\" stroke=\"#000000\"/>\n",
       "<polygon fill=\"#000000\" points=\"133.9555,-101.8441 123.5645,-99.7758 130.3977,-107.8726 133.9555,-101.8441\" stroke=\"#000000\"/>\n",
       "</g>\n",
       "<!-- E -->\n",
       "<g class=\"node\" id=\"node8\">\n",
       "<title>E</title>\n",
       "<ellipse cx=\"225\" cy=\"-90\" fill=\"#d3d3d3\" rx=\"27\" ry=\"18\" stroke=\"#000000\"/>\n",
       "<text fill=\"#000000\" font-family=\"Times,serif\" font-size=\"14.00\" text-anchor=\"middle\" x=\"225\" y=\"-86.3\">E</text>\n",
       "</g>\n",
       "<!-- L&#45;&gt;E -->\n",
       "<g class=\"edge\" id=\"edge8\">\n",
       "<title>L-&gt;E</title>\n",
       "<path d=\"M227.9906,-143.8314C227.5628,-136.131 227.0541,-126.9743 226.5787,-118.4166\" fill=\"none\" stroke=\"#000000\"/>\n",
       "<polygon fill=\"#000000\" points=\"230.0724,-118.2037 226.023,-108.4133 223.0831,-118.592 230.0724,-118.2037\" stroke=\"#000000\"/>\n",
       "</g>\n",
       "<!-- E&#45;&gt;D -->\n",
       "<g class=\"edge\" id=\"edge10\">\n",
       "<title>E-&gt;D</title>\n",
       "<path d=\"M233.7146,-72.5708C237.9597,-64.0807 243.1536,-53.6929 247.8663,-44.2674\" fill=\"none\" stroke=\"#000000\"/>\n",
       "<polygon fill=\"#000000\" points=\"251.024,-45.7782 252.3657,-35.2687 244.763,-42.6477 251.024,-45.7782\" stroke=\"#000000\"/>\n",
       "</g>\n",
       "<!-- E&#45;&gt;P -->\n",
       "<g class=\"edge\" id=\"edge11\">\n",
       "<title>E-&gt;P</title>\n",
       "<path d=\"M213.8672,-73.3008C207.8696,-64.3043 200.3498,-53.0247 193.6686,-43.0029\" fill=\"none\" stroke=\"#000000\"/>\n",
       "<polygon fill=\"#000000\" points=\"196.5317,-40.9877 188.0724,-34.6087 190.7073,-44.8706 196.5317,-40.9877\" stroke=\"#000000\"/>\n",
       "</g>\n",
       "<!-- Tu -->\n",
       "<g class=\"node\" id=\"node11\">\n",
       "<title>Tu</title>\n",
       "<ellipse cx=\"157\" cy=\"-162\" fill=\"#d3d3d3\" rx=\"27\" ry=\"18\" stroke=\"#000000\"/>\n",
       "<text fill=\"#000000\" font-family=\"Times,serif\" font-size=\"14.00\" text-anchor=\"middle\" x=\"157\" y=\"-158.3\">Tu</text>\n",
       "</g>\n",
       "<!-- Tu&#45;&gt;Uh -->\n",
       "<g class=\"edge\" id=\"edge14\">\n",
       "<title>Tu-&gt;Uh</title>\n",
       "<path d=\"M145.6542,-145.6621C138.6518,-135.5787 129.5878,-122.5265 121.9971,-111.5959\" fill=\"none\" stroke=\"#000000\"/>\n",
       "<polygon fill=\"#000000\" points=\"124.8717,-109.5991 116.2929,-103.3818 119.1221,-113.5919 124.8717,-109.5991\" stroke=\"#000000\"/>\n",
       "</g>\n",
       "<!-- Tu&#45;&gt;Ut -->\n",
       "<g class=\"edge\" id=\"edge12\">\n",
       "<title>Tu-&gt;Ut</title>\n",
       "<path d=\"M160.1039,-143.8333C162.4321,-124.7027 163.3866,-94.3184 151,-72 140.6513,-53.3536 120.8313,-39.513 104.1646,-30.5143\" fill=\"none\" stroke=\"#000000\"/>\n",
       "<polygon fill=\"#000000\" points=\"105.3136,-27.1729 94.8112,-25.7758 102.15,-33.4173 105.3136,-27.1729\" stroke=\"#000000\"/>\n",
       "</g>\n",
       "<!-- Tu&#45;&gt;E -->\n",
       "<g class=\"edge\" id=\"edge13\">\n",
       "<title>Tu-&gt;E</title>\n",
       "<path d=\"M171.4211,-146.7307C180.7972,-136.803 193.1867,-123.6847 203.6899,-112.5637\" fill=\"none\" stroke=\"#000000\"/>\n",
       "<polygon fill=\"#000000\" points=\"206.278,-114.9207 210.5997,-105.2473 201.1889,-110.1143 206.278,-114.9207\" stroke=\"#000000\"/>\n",
       "</g>\n",
       "<!-- A -->\n",
       "<g class=\"node\" id=\"node12\">\n",
       "<title>A</title>\n",
       "<ellipse cx=\"157\" cy=\"-234\" fill=\"#d3d3d3\" rx=\"27\" ry=\"18\" stroke=\"#000000\"/>\n",
       "<text fill=\"#000000\" font-family=\"Times,serif\" font-size=\"14.00\" text-anchor=\"middle\" x=\"157\" y=\"-230.3\">A</text>\n",
       "</g>\n",
       "<!-- A&#45;&gt;Tu -->\n",
       "<g class=\"edge\" id=\"edge15\">\n",
       "<title>A-&gt;Tu</title>\n",
       "<path d=\"M157,-215.8314C157,-208.131 157,-198.9743 157,-190.4166\" fill=\"none\" stroke=\"#000000\"/>\n",
       "<polygon fill=\"#000000\" points=\"160.5001,-190.4132 157,-180.4133 153.5001,-190.4133 160.5001,-190.4132\" stroke=\"#000000\"/>\n",
       "</g>\n",
       "</g>\n",
       "</svg>"
      ],
      "text/plain": [
       "<IPython.core.display.HTML object>"
      ]
     },
     "metadata": {},
     "output_type": "display_data"
    }
   ],
   "source": [
    "asia=gum.loadID(os.path.join(\"res\",\"DecAsia.bifxml\"))\n",
    "gnb.showInfluenceDiagram(asia)"
   ]
  },
  {
   "cell_type": "code",
   "execution_count": 7,
   "metadata": {
    "ExecuteTime": {
     "end_time": "2019-02-25T17:33:59.278856Z",
     "start_time": "2019-02-25T17:33:57.091511Z"
    }
   },
   "outputs": [
    {
     "data": {
      "text/html": [
       "<svg height=\"260pt\" viewBox=\"0.00 0.00 193.19 260.00\" width=\"193pt\" xmlns=\"http://www.w3.org/2000/svg\" xmlns:xlink=\"http://www.w3.org/1999/xlink\">\n",
       "<g class=\"graph\" id=\"graph0\" transform=\"scale(1 1) rotate(0) translate(4 256)\">\n",
       "<title>res/OilWildcater.bifxml</title>\n",
       "<polygon fill=\"#ffffff\" points=\"-4,4 -4,-256 189.1945,-256 189.1945,4 -4,4\" stroke=\"transparent\"/>\n",
       "<!-- T -->\n",
       "<g class=\"node\" id=\"node1\">\n",
       "<title>T</title>\n",
       "<polygon fill=\"#d3d3d3\" points=\"73.2666,-252 19.2666,-252 19.2666,-216 73.2666,-216 73.2666,-252\" stroke=\"#000000\"/>\n",
       "<text fill=\"#000000\" font-family=\"Times,serif\" font-size=\"14.00\" text-anchor=\"middle\" x=\"46.2666\" y=\"-230.3\">T</text>\n",
       "</g>\n",
       "<!-- D -->\n",
       "<g class=\"node\" id=\"node2\">\n",
       "<title>D</title>\n",
       "<polygon fill=\"#d3d3d3\" points=\"150.2666,-108 96.2666,-108 96.2666,-72 150.2666,-72 150.2666,-108\" stroke=\"#000000\"/>\n",
       "<text fill=\"#000000\" font-family=\"Times,serif\" font-size=\"14.00\" text-anchor=\"middle\" x=\"123.2666\" y=\"-86.3\">D</text>\n",
       "</g>\n",
       "<!-- T&#45;&gt;D -->\n",
       "<g class=\"edge\" id=\"edge1\">\n",
       "<title>T-&gt;D</title>\n",
       "<path d=\"M27.6635,-215.9751C10.6482,-197.2291 -9.7624,-167.4056 5.2666,-144 22.9686,-116.4314 58.6361,-102.7587 86.1462,-96.0907\" fill=\"none\" stroke=\"#000000\"/>\n",
       "<polygon fill=\"#000000\" points=\"87.2252,-99.4368 96.2358,-93.8637 85.7164,-92.6013 87.2252,-99.4368\" stroke=\"#000000\"/>\n",
       "</g>\n",
       "<!-- Ut -->\n",
       "<g class=\"node\" id=\"node3\">\n",
       "<title>Ut</title>\n",
       "<polygon fill=\"#d3d3d3\" points=\"46.2666,-180 13.9246,-162 46.2666,-144 78.6085,-162 46.2666,-180\" stroke=\"#000000\"/>\n",
       "<text fill=\"#000000\" font-family=\"Times,serif\" font-size=\"14.00\" text-anchor=\"middle\" x=\"46.2666\" y=\"-158.3\">Ut</text>\n",
       "</g>\n",
       "<!-- T&#45;&gt;Ut -->\n",
       "<g class=\"edge\" id=\"edge2\">\n",
       "<title>T-&gt;Ut</title>\n",
       "<path d=\"M46.2666,-215.8314C46.2666,-208.131 46.2666,-198.9743 46.2666,-190.4166\" fill=\"none\" stroke=\"#000000\"/>\n",
       "<polygon fill=\"#000000\" points=\"49.7667,-190.4132 46.2666,-180.4133 42.7667,-190.4133 49.7667,-190.4132\" stroke=\"#000000\"/>\n",
       "</g>\n",
       "<!-- R -->\n",
       "<g class=\"node\" id=\"node5\">\n",
       "<title>R</title>\n",
       "<ellipse cx=\"123.2666\" cy=\"-162\" fill=\"#d3d3d3\" rx=\"27\" ry=\"18\" stroke=\"#000000\"/>\n",
       "<text fill=\"#000000\" font-family=\"Times,serif\" font-size=\"14.00\" text-anchor=\"middle\" x=\"123.2666\" y=\"-158.3\">R</text>\n",
       "</g>\n",
       "<!-- T&#45;&gt;R -->\n",
       "<g class=\"edge\" id=\"edge3\">\n",
       "<title>T-&gt;R</title>\n",
       "<path d=\"M65.6969,-215.8314C76.0218,-206.1769 88.7948,-194.2334 99.6842,-184.0511\" fill=\"none\" stroke=\"#000000\"/>\n",
       "<polygon fill=\"#000000\" points=\"102.3048,-186.3924 107.2186,-177.0059 97.5238,-181.2794 102.3048,-186.3924\" stroke=\"#000000\"/>\n",
       "</g>\n",
       "<!-- Ud -->\n",
       "<g class=\"node\" id=\"node4\">\n",
       "<title>Ud</title>\n",
       "<polygon fill=\"#d3d3d3\" points=\"150.2666,-36 115.4105,-18 150.2666,0 185.1227,-18 150.2666,-36\" stroke=\"#000000\"/>\n",
       "<text fill=\"#000000\" font-family=\"Times,serif\" font-size=\"14.00\" text-anchor=\"middle\" x=\"150.2666\" y=\"-14.3\">Ud</text>\n",
       "</g>\n",
       "<!-- D&#45;&gt;Ud -->\n",
       "<g class=\"edge\" id=\"edge4\">\n",
       "<title>D-&gt;Ud</title>\n",
       "<path d=\"M130.0798,-71.8314C133.3727,-63.0504 137.3756,-52.3759 140.9459,-42.8552\" fill=\"none\" stroke=\"#000000\"/>\n",
       "<polygon fill=\"#000000\" points=\"144.2278,-44.0712 144.462,-33.479 137.6735,-41.6133 144.2278,-44.0712\" stroke=\"#000000\"/>\n",
       "</g>\n",
       "<!-- R&#45;&gt;D -->\n",
       "<g class=\"edge\" id=\"edge5\">\n",
       "<title>R-&gt;D</title>\n",
       "<path d=\"M123.2666,-143.8314C123.2666,-136.131 123.2666,-126.9743 123.2666,-118.4166\" fill=\"none\" stroke=\"#000000\"/>\n",
       "<polygon fill=\"#000000\" points=\"126.7667,-118.4132 123.2666,-108.4133 119.7667,-118.4133 126.7667,-118.4132\" stroke=\"#000000\"/>\n",
       "</g>\n",
       "<!-- O -->\n",
       "<g class=\"node\" id=\"node6\">\n",
       "<title>O</title>\n",
       "<ellipse cx=\"150.2666\" cy=\"-234\" fill=\"#d3d3d3\" rx=\"27\" ry=\"18\" stroke=\"#000000\"/>\n",
       "<text fill=\"#000000\" font-family=\"Times,serif\" font-size=\"14.00\" text-anchor=\"middle\" x=\"150.2666\" y=\"-230.3\">O</text>\n",
       "</g>\n",
       "<!-- O&#45;&gt;Ud -->\n",
       "<g class=\"edge\" id=\"edge7\">\n",
       "<title>O-&gt;Ud</title>\n",
       "<path d=\"M154.014,-216.0931C156.0131,-205.6241 158.2631,-192.1241 159.2666,-180 163.2256,-132.1636 163.2256,-119.8364 159.2666,-72 158.5198,-62.9765 157.0824,-53.1908 155.5719,-44.4599\" fill=\"none\" stroke=\"#000000\"/>\n",
       "<polygon fill=\"#000000\" points=\"158.9834,-43.6585 153.7347,-34.4552 152.0985,-44.9229 158.9834,-43.6585\" stroke=\"#000000\"/>\n",
       "</g>\n",
       "<!-- O&#45;&gt;R -->\n",
       "<g class=\"edge\" id=\"edge6\">\n",
       "<title>O-&gt;R</title>\n",
       "<path d=\"M143.5924,-216.2022C140.5189,-208.0064 136.805,-198.1024 133.397,-189.0145\" fill=\"none\" stroke=\"#000000\"/>\n",
       "<polygon fill=\"#000000\" points=\"136.6524,-187.7274 129.8639,-179.593 130.0981,-190.1853 136.6524,-187.7274\" stroke=\"#000000\"/>\n",
       "</g>\n",
       "</g>\n",
       "</svg>"
      ],
      "text/plain": [
       "<IPython.core.display.HTML object>"
      ]
     },
     "metadata": {},
     "output_type": "display_data"
    }
   ],
   "source": [
    "oil=gum.loadID(os.path.join(\"res\",\"OilWildcater.bifxml\"))\n",
    "gnb.showInfluenceDiagram(oil)"
   ]
  },
  {
   "cell_type": "code",
   "execution_count": 8,
   "metadata": {
    "ExecuteTime": {
     "end_time": "2019-02-25T17:33:59.287118Z",
     "start_time": "2019-02-25T17:33:59.283647Z"
    }
   },
   "outputs": [],
   "source": [
    "ie=gum.InfluenceDiagramInference(oil)"
   ]
  },
  {
   "cell_type": "code",
   "execution_count": 9,
   "metadata": {
    "ExecuteTime": {
     "end_time": "2019-02-25T17:33:59.299581Z",
     "start_time": "2019-02-25T17:33:59.289093Z"
    }
   },
   "outputs": [
    {
     "name": "stdout",
     "output_type": "stream",
     "text": [
      "Best decision for T : 1\n",
      "Best decision for D : 1\n",
      "For a maxEU : 60.0\n"
     ]
    }
   ],
   "source": [
    "ie.makeInference()\n",
    "print(\"Best decision for T : {0}\".format(ie.getBestDecisionChoice(oil.idFromName(\"T\"))))\n",
    "print(\"Best decision for D : {0}\".format(ie.getBestDecisionChoice(oil.idFromName(\"D\"))))\n",
    "print(\"For a maxEU : {0}\".format(ie.getMEU()))"
   ]
  },
  {
   "cell_type": "code",
   "execution_count": 10,
   "metadata": {
    "ExecuteTime": {
     "end_time": "2019-02-25T17:33:59.306228Z",
     "start_time": "2019-02-25T17:33:59.301343Z"
    }
   },
   "outputs": [
    {
     "name": "stdout",
     "output_type": "stream",
     "text": [
      "O<Dry,Wet,Soak>\n"
     ]
    }
   ],
   "source": [
    "print(oil.variable(3))"
   ]
  },
  {
   "cell_type": "code",
   "execution_count": 11,
   "metadata": {
    "ExecuteTime": {
     "end_time": "2019-02-25T17:33:59.315173Z",
     "start_time": "2019-02-25T17:33:59.308144Z"
    }
   },
   "outputs": [
    {
     "name": "stdout",
     "output_type": "stream",
     "text": [
      "Best decision for T : 1\n",
      "Best decision for D : 1\n",
      "For a maxEU : 0.0\n"
     ]
    }
   ],
   "source": [
    "ie.eraseAllEvidence()\n",
    "ie.setEvidence({3:0})\n",
    "ie.makeInference()\n",
    "print(\"Best decision for T : {0}\".format(ie.getBestDecisionChoice(oil.idFromName(\"T\"))))\n",
    "print(\"Best decision for D : {0}\".format(ie.getBestDecisionChoice(oil.idFromName(\"D\"))))\n",
    "print(\"For a maxEU : {0}\".format(ie.getMEU()))"
   ]
  },
  {
   "cell_type": "code",
   "execution_count": 12,
   "metadata": {
    "ExecuteTime": {
     "end_time": "2019-02-25T17:33:59.325676Z",
     "start_time": "2019-02-25T17:33:59.316942Z"
    }
   },
   "outputs": [
    {
     "name": "stdout",
     "output_type": "stream",
     "text": [
      "Best decision for T : 1\n",
      "Best decision for D : 0\n",
      "For a maxEU : 60.0\n"
     ]
    }
   ],
   "source": [
    "ie.eraseAllEvidence()\n",
    "ie.setEvidence({3:1})\n",
    "ie.makeInference()\n",
    "print(\"Best decision for T : {0}\".format(ie.getBestDecisionChoice(oil.idFromName(\"T\"))))\n",
    "print(\"Best decision for D : {0}\".format(ie.getBestDecisionChoice(oil.idFromName(\"D\"))))\n",
    "print(\"For a maxEU : {0}\".format(ie.getMEU()))"
   ]
  },
  {
   "cell_type": "code",
   "execution_count": 13,
   "metadata": {
    "ExecuteTime": {
     "end_time": "2019-02-25T17:33:59.336580Z",
     "start_time": "2019-02-25T17:33:59.327720Z"
    }
   },
   "outputs": [
    {
     "name": "stdout",
     "output_type": "stream",
     "text": [
      "Best decision for T : 1\n",
      "Best decision for D : 0\n",
      "For a maxEU : 10.0\n"
     ]
    }
   ],
   "source": [
    "ie.eraseAllEvidence()\n",
    "ie.setEvidence({3:2})\n",
    "ie.makeInference()\n",
    "print(\"Best decision for T : {0}\".format(ie.getBestDecisionChoice(oil.idFromName(\"T\"))))\n",
    "print(\"Best decision for D : {0}\".format(ie.getBestDecisionChoice(oil.idFromName(\"D\"))))\n",
    "print(\"For a maxEU : {0}\".format(ie.getMEU()))"
   ]
  },
  {
   "cell_type": "code",
   "execution_count": 14,
   "metadata": {
    "ExecuteTime": {
     "end_time": "2019-02-25T17:33:59.344389Z",
     "start_time": "2019-02-25T17:33:59.338423Z"
    }
   },
   "outputs": [
    {
     "name": "stdout",
     "output_type": "stream",
     "text": [
      "Best decision for T : 1\n",
      "Best decision for D : 1\n",
      "For a maxEU : 30.0\n"
     ]
    }
   ],
   "source": [
    "ie.eraseAllEvidence()\n",
    "ie.setEvidence({3:[1,0.5,0.1]})\n",
    "ie.makeInference()\n",
    "print(\"Best decision for T : {0}\".format(ie.getBestDecisionChoice(oil.idFromName(\"T\"))))\n",
    "print(\"Best decision for D : {0}\".format(ie.getBestDecisionChoice(oil.idFromName(\"D\"))))\n",
    "print(\"For a maxEU : {0}\".format(ie.getMEU()))"
   ]
  },
  {
   "cell_type": "code",
   "execution_count": null,
   "metadata": {},
   "outputs": [],
   "source": []
  }
 ],
 "metadata": {
  "hide_input": false,
  "kernelspec": {
   "display_name": "Python 3",
   "language": "python",
   "name": "python3"
  },
  "language_info": {
   "codemirror_mode": {
    "name": "ipython",
    "version": 3
   },
   "file_extension": ".py",
   "mimetype": "text/x-python",
   "name": "python",
   "nbconvert_exporter": "python",
   "pygments_lexer": "ipython3",
   "version": "3.7.2"
  }
 },
 "nbformat": 4,
 "nbformat_minor": 1
}
