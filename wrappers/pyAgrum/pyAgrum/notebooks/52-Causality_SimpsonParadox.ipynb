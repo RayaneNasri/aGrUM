{
 "cells": [
  {
   "cell_type": "markdown",
   "metadata": {},
   "source": [
    "<a href=\"http://agrum.org\" target=\"blank\"><img src=\"http://agrum.gitlab.io/theme/img/logoAgrum.png\" align=\"left\" style=\"height:100px\"/></a><a rel=\"license\" href=\"http://creativecommons.org/licenses/by-nc/4.0/\"><img alt=\"Creative Commons License\" style=\"border-width:0\" src=\"https://i.creativecommons.org/l/by-nc/4.0/88x31.png\" /></a><br />This pyAgrum's notebook is licensed under a <a rel=\"license\" href=\"http://creativecommons.org/licenses/by-nc/4.0/\">Creative Commons Attribution-NonCommercial 4.0 International License</a>."
   ]
  },
  {
   "cell_type": "code",
   "execution_count": 1,
   "metadata": {
    "ExecuteTime": {
     "end_time": "2019-02-25T17:44:25.571762Z",
     "start_time": "2019-02-25T17:44:25.292928Z"
    }
   },
   "outputs": [],
   "source": [
    "from IPython.display import display, Math, Latex\n",
    "\n",
    "import pyAgrum as gum\n",
    "import pyAgrum.lib.notebook as gnb\n",
    "import pyAgrum.causal as csl\n",
    "import pyAgrum.causal.notebook as cslnb\n"
   ]
  },
  {
   "cell_type": "markdown",
   "metadata": {},
   "source": [
    "# Simpson's Paradox\n",
    "This notebook follows the famous example from *Causality* (Pearl, 2009)."
   ]
  },
  {
   "cell_type": "markdown",
   "metadata": {},
   "source": [
    "In a statistical study about a drug, we try to evaluate the latter's efficiency among a population of men and women.\n",
    "Let's note:\n",
    "- $Drug$ : drug taking\n",
    "- $Patient$ : cured patient\n",
    "- $Gender$ : patient's gender"
   ]
  },
  {
   "cell_type": "markdown",
   "metadata": {},
   "source": [
    "The model from the observed date is as follow :"
   ]
  },
  {
   "cell_type": "code",
   "execution_count": 2,
   "metadata": {
    "ExecuteTime": {
     "end_time": "2019-02-25T17:44:28.017220Z",
     "start_time": "2019-02-25T17:44:25.574806Z"
    }
   },
   "outputs": [
    {
     "data": {
      "text/html": [
       "<table style=\"border-style: hidden; border-collapse: collapse;\" width=\"100%\"><tr><td style=\"border-top:hidden;border-bottom:hidden;\"><div align=\"center\" style=\"\"><svg height=\"188pt\" viewBox=\"0.00 0.00 118.29 188.00\" width=\"118pt\" xmlns=\"http://www.w3.org/2000/svg\" xmlns:xlink=\"http://www.w3.org/1999/xlink\">\n",
       "<g class=\"graph\" id=\"graph0\" transform=\"scale(1 1) rotate(0) translate(4 184)\">\n",
       "<title>G</title>\n",
       "<!-- Gender -->\n",
       "<g class=\"node\" id=\"node1\">\n",
       "<title>Gender</title>\n",
       "<g id=\"a_node1\"><a xlink:title=\"(0) Gender\">\n",
       "<ellipse cx=\"65.4469\" cy=\"-162\" fill=\"#444444\" rx=\"44.6926\" ry=\"18\" stroke=\"#000000\"/>\n",
       "<text fill=\"#ffffff\" font-family=\"Times,serif\" font-size=\"14.00\" text-anchor=\"middle\" x=\"65.4469\" y=\"-158.3\">Gender</text>\n",
       "</a>\n",
       "</g>\n",
       "</g>\n",
       "<!-- Drug -->\n",
       "<g class=\"node\" id=\"node2\">\n",
       "<title>Drug</title>\n",
       "<g id=\"a_node2\"><a xlink:title=\"(1) Drug\">\n",
       "<ellipse cx=\"34.4469\" cy=\"-90\" fill=\"#444444\" rx=\"34.394\" ry=\"18\" stroke=\"#000000\"/>\n",
       "<text fill=\"#ffffff\" font-family=\"Times,serif\" font-size=\"14.00\" text-anchor=\"middle\" x=\"34.4469\" y=\"-86.3\">Drug</text>\n",
       "</a>\n",
       "</g>\n",
       "</g>\n",
       "<!-- Gender&#45;&gt;Drug -->\n",
       "<g class=\"edge\" id=\"edge1\">\n",
       "<title>Gender-&gt;Drug</title>\n",
       "<g id=\"a_edge1\"><a xlink:title=\"(0, 1) : \">\n",
       "<path d=\"M57.784,-144.2022C54.2552,-136.0064 49.991,-126.1024 46.0782,-117.0145\" fill=\"none\" stroke=\"#000000\"/>\n",
       "<polygon fill=\"#000000\" points=\"49.1911,-115.3938 42.0217,-107.593 42.7617,-118.162 49.1911,-115.3938\" stroke=\"#000000\"/>\n",
       "</a>\n",
       "</g>\n",
       "</g>\n",
       "<!-- Patient -->\n",
       "<g class=\"node\" id=\"node3\">\n",
       "<title>Patient</title>\n",
       "<g id=\"a_node3\"><a xlink:title=\"(2) Patient\">\n",
       "<ellipse cx=\"65.4469\" cy=\"-18\" fill=\"#444444\" rx=\"44.393\" ry=\"18\" stroke=\"#000000\"/>\n",
       "<text fill=\"#ffffff\" font-family=\"Times,serif\" font-size=\"14.00\" text-anchor=\"middle\" x=\"65.4469\" y=\"-14.3\">Patient</text>\n",
       "</a>\n",
       "</g>\n",
       "</g>\n",
       "<!-- Gender&#45;&gt;Patient -->\n",
       "<g class=\"edge\" id=\"edge2\">\n",
       "<title>Gender-&gt;Patient</title>\n",
       "<g id=\"a_edge2\"><a xlink:title=\"(0, 2) : \">\n",
       "<path d=\"M70.5661,-143.6727C73.1989,-133.2978 76.1266,-120.0284 77.4469,-108 79.1928,-92.0955 79.1928,-87.9045 77.4469,-72 76.5185,-63.5425 74.7956,-54.4715 72.9391,-46.2246\" fill=\"none\" stroke=\"#000000\"/>\n",
       "<polygon fill=\"#000000\" points=\"76.3013,-45.2356 70.5661,-36.3273 69.4942,-46.8678 76.3013,-45.2356\" stroke=\"#000000\"/>\n",
       "</a>\n",
       "</g>\n",
       "</g>\n",
       "<!-- Drug&#45;&gt;Patient -->\n",
       "<g class=\"edge\" id=\"edge3\">\n",
       "<title>Drug-&gt;Patient</title>\n",
       "<g id=\"a_edge3\"><a xlink:title=\"(1, 2) : \">\n",
       "<path d=\"M42.1099,-72.2022C45.6123,-64.0675 49.8393,-54.2501 53.728,-45.2181\" fill=\"none\" stroke=\"#000000\"/>\n",
       "<polygon fill=\"#000000\" points=\"57.0248,-46.4115 57.7647,-35.8425 50.5954,-43.6433 57.0248,-46.4115\" stroke=\"#000000\"/>\n",
       "</a>\n",
       "</g>\n",
       "</g>\n",
       "</g>\n",
       "</svg></div></td><td style=\"border-top:hidden;border-bottom:hidden;\"><div align=\"center\" style=\"\"><table>\n",
       "<tr style='background-color:#AAAAAA'><th colspan='2'><center>Gender</center></th></tr>\n",
       "<tr><th style='background-color:#BBBBBB'><center>F</center></th><th style='background-color:#BBBBBB'><center>M</center></th></tr>\n",
       "<tr><td style='background-color:#bfbf64;text-align:right;'>0.5000</td><td style='background-color:#bfbf64;text-align:right;'>0.5000</td></tr>\n",
       "</table></div></td><td style=\"border-top:hidden;border-bottom:hidden;\"><div align=\"center\" style=\"\"><table>\n",
       "<tr><th colspan='1'></th><th colspan='2' style='background-color:#AAAAAA'><center>Drug</center></th></tr>\n",
       "<tr><th style='background-color:#AAAAAA'><center>Gender</center></th><th style='background-color:#BBBBBB'><center>Without</center></th><th style='background-color:#BBBBBB'><center>With</center></th></tr>\n",
       "<tr><th style='background-color:#BBBBBB'><center>F</center></th><td style='background-color:#df9f64;text-align:right;'>0.2500</td><td style='background-color:#9fdf64;text-align:right;'>0.7500</td></tr>\n",
       "<tr><th style='background-color:#BBBBBB'><center>M</center></th><td style='background-color:#9fdf64;text-align:right;'>0.7500</td><td style='background-color:#df9f64;text-align:right;'>0.2500</td></tr>\n",
       "</table></div></td><td style=\"border-top:hidden;border-bottom:hidden;\"><div align=\"center\" style=\"\"><table>\n",
       "<tr><th colspan='2'></th><th colspan='2' style='background-color:#AAAAAA'><center>Patient</center></th></tr>\n",
       "<tr><th style='background-color:#AAAAAA'><center>Drug</center></th><th style='background-color:#AAAAAA'><center>Gender</center></th><th style='background-color:#BBBBBB'><center>Sick</center></th><th style='background-color:#BBBBBB'><center>Healed</center></th></tr>\n",
       "<tr><th style='background-color:#BBBBBB'><center>Without</center></th><th style='background-color:#BBBBBB;' rowspan = '2'><center>F</center></th><td style='background-color:#e59864;text-align:right;'>0.2000</td><td style='background-color:#98e564;text-align:right;'>0.8000</td></tr>\n",
       "<tr><th style='background-color:#BBBBBB'><center>With</center></th><td style='background-color:#d8a564;text-align:right;'>0.3000</td><td style='background-color:#a5d864;text-align:right;'>0.7000</td></tr>\n",
       "<tr><th style='background-color:#BBBBBB'><center>Without</center></th><th style='background-color:#BBBBBB;' rowspan = '2'><center>M</center></th><td style='background-color:#b2cb64;text-align:right;'>0.6000</td><td style='background-color:#cbb264;text-align:right;'>0.4000</td></tr>\n",
       "<tr><th style='background-color:#BBBBBB'><center>With</center></th><td style='background-color:#98e564;text-align:right;'>0.8000</td><td style='background-color:#e59864;text-align:right;'>0.2000</td></tr>\n",
       "</table></div></td></tr></table>"
      ],
      "text/plain": [
       "<IPython.core.display.HTML object>"
      ]
     },
     "metadata": {},
     "output_type": "display_data"
    }
   ],
   "source": [
    "m1 = gum.fastBN(\"Gender{F|M}->Drug{Without|With}->Patient{Sick|Healed}<-Gender\")\n",
    "\n",
    "m1.cpt(\"Gender\")[:]=[0.5,0.5]\n",
    "m1.cpt(\"Drug\")[:]=[[0.25,0.75],  #Gender=F\n",
    "                   [0.75,0.25]]  #Gender=M\n",
    "\n",
    "m1.cpt(\"Patient\")[{'Drug':'Without','Gender':'F'}]=[0.2,0.8] #No Drug, Male -> healed in 0.8 of cases\n",
    "m1.cpt(\"Patient\")[{'Drug':'Without','Gender':'M'}]=[0.6,0.4] #No Drug, Female -> healed in 0.4 of cases\n",
    "m1.cpt(\"Patient\")[{'Drug':'With','Gender':'F'}]=[0.3,0.7] #Drug, Male -> healed 0.7 of cases \n",
    "m1.cpt(\"Patient\")[{'Drug':'With','Gender':'M'}]=[0.8,0.2] #Drug, Female -> healed in 0.2 of cases\n",
    "gnb.sideBySide(m1,m1.cpt(\"Gender\"),m1.cpt(\"Drug\"),m1.cpt(\"Patient\"))\n"
   ]
  },
  {
   "cell_type": "code",
   "execution_count": 3,
   "metadata": {
    "ExecuteTime": {
     "end_time": "2019-02-25T17:44:28.028815Z",
     "start_time": "2019-02-25T17:44:28.020049Z"
    }
   },
   "outputs": [
    {
     "data": {
      "text/html": [
       "<table style=\"border-style: hidden; border-collapse: collapse;\" width=\"100%\"><tr><td style=\"border-top:hidden;border-bottom:hidden;\"><div align=\"center\" style=\"\"><table>\n",
       "<tr style='background-color:#AAAAAA'><th colspan='2'><center>Drug</center></th></tr>\n",
       "<tr><th style='background-color:#BBBBBB'><center>Without</center></th><th style='background-color:#BBBBBB'><center>With</center></th></tr>\n",
       "<tr><td style='background-color:#bfbf64;text-align:right;'>0.5000</td><td style='background-color:#b5c864;text-align:right;'>0.5750</td></tr>\n",
       "</table></div></td><td style=\"border-top:hidden;border-bottom:hidden;\"><div align=\"center\" style=\"\"><table>\n",
       "<tr style='background-color:#AAAAAA'><th colspan='2'><center>Drug</center></th></tr>\n",
       "<tr><th style='background-color:#BBBBBB'><center>Without</center></th><th style='background-color:#BBBBBB'><center>With</center></th></tr>\n",
       "<tr><td style='background-color:#98e564;text-align:right;'>0.8000</td><td style='background-color:#a5d864;text-align:right;'>0.7000</td></tr>\n",
       "</table></div></td><td style=\"border-top:hidden;border-bottom:hidden;\"><div align=\"center\" style=\"\"><table>\n",
       "<tr style='background-color:#AAAAAA'><th colspan='2'><center>Drug</center></th></tr>\n",
       "<tr><th style='background-color:#BBBBBB'><center>Without</center></th><th style='background-color:#BBBBBB'><center>With</center></th></tr>\n",
       "<tr><td style='background-color:#cbb264;text-align:right;'>0.4000</td><td style='background-color:#e59864;text-align:right;'>0.2000</td></tr>\n",
       "</table></div></td></tr><tr><td style=\"border-top:hidden;border-bottom:hidden;\"><div align=\"center\"><small>$P(Patient = Healed \\mid Drug )$<br/>Taking $Drug$ is observed as efficient to cure</small></div></td><td style=\"border-top:hidden;border-bottom:hidden;\"><div align=\"center\"><small>$P(Patient = Healed \\mid Gender=F,Drug)$<br/>except if the $gender$ of the patient is female</small></div></td><td style=\"border-top:hidden;border-bottom:hidden;\"><div align=\"center\"><small>$P(Patient = Healed \\mid Gender=M,Drug)$<br/>... or male.</small></div></td></tr></table>"
      ],
      "text/plain": [
       "<IPython.core.display.HTML object>"
      ]
     },
     "metadata": {},
     "output_type": "display_data"
    }
   ],
   "source": [
    "def getCuredObservedProba(m1,evs):\n",
    "    evs0=dict(evs)\n",
    "    evs1=dict(evs)\n",
    "    evs0[\"Drug\"]='Without'\n",
    "    evs1[\"Drug\"]='With'\n",
    "    \n",
    "    return gum.Potential().add(m1.variableFromName(\"Drug\")).fillWith([\n",
    "            gum.getPosterior(m1,target=\"Patient\",evs=evs0)[1],\n",
    "            gum.getPosterior(m1,target=\"Patient\",evs=evs1)[1]\n",
    "        ])\n",
    "\n",
    "gnb.sideBySide(getCuredObservedProba(m1,{}),\n",
    "               getCuredObservedProba(m1,{'Gender':'F'}),\n",
    "               getCuredObservedProba(m1,{'Gender':'M'}),\n",
    "               captions=[\"$P(Patient = Healed \\mid Drug )$<br/>Taking $Drug$ is observed as efficient to cure\",\n",
    "                         \"$P(Patient = Healed \\mid Gender=F,Drug)$<br/>except if the $gender$ of the patient is female\",\n",
    "                         \"$P(Patient = Healed \\mid Gender=M,Drug)$<br/>... or male.\"])\n"
   ]
  },
  {
   "cell_type": "markdown",
   "metadata": {},
   "source": [
    "Those results form a paradox called <b>Simpson paradox</b> :\n",
    "\n",
    "$$P(C\\mid \\neg{D}) = 0.5 < P(C\\mid D) = 0.575$$\n",
    "$$P(C\\mid \\neg{D},G = Male) = 0.8 > P(C\\mid D,G = Male) = 0.7$$\n",
    "$$P(C\\mid \\neg{D},G = Female) = 0.4 > P(C\\mid D,G = Female) = 0.2$$\n",
    "\n",
    "Actuallay, giving a drug is not an observation in our model but rather an intervention. What if we use intervention instead of observation ?"
   ]
  },
  {
   "cell_type": "markdown",
   "metadata": {},
   "source": [
    "# How to compute causal impacts on the patient's health ?\n",
    "## Computing $P (Patient = Healed \\mid \\hookrightarrow Drug = Without)$"
   ]
  },
  {
   "cell_type": "code",
   "execution_count": 4,
   "metadata": {
    "ExecuteTime": {
     "end_time": "2019-02-25T17:44:30.719276Z",
     "start_time": "2019-02-25T17:44:28.030308Z"
    }
   },
   "outputs": [
    {
     "data": {
      "text/html": [
       "<table style=\"border-style: hidden; border-collapse: collapse;\" width=\"100%\"><tr><td style=\"border-top:hidden;border-bottom:hidden;\"><div align=\"center\" style=\"\"><svg height=\"188pt\" viewBox=\"0.00 0.00 118.29 188.00\" width=\"118pt\" xmlns=\"http://www.w3.org/2000/svg\" xmlns:xlink=\"http://www.w3.org/1999/xlink\">\n",
       "<g class=\"graph\" id=\"graph0\" transform=\"scale(1 1) rotate(0) translate(4 184)\">\n",
       "<title>G</title>\n",
       "<polygon fill=\"#ffffff\" points=\"-4,4 -4,-184 114.293,-184 114.293,4 -4,4\" stroke=\"transparent\"/>\n",
       "<!-- Gender -->\n",
       "<g class=\"node\" id=\"node1\">\n",
       "<title>Gender</title>\n",
       "<ellipse cx=\"65.4469\" cy=\"-162\" fill=\"#444444\" rx=\"44.6926\" ry=\"18\" stroke=\"#000000\"/>\n",
       "<text fill=\"#ffffff\" font-family=\"Times,serif\" font-size=\"14.00\" text-anchor=\"middle\" x=\"65.4469\" y=\"-158.3\">Gender</text>\n",
       "</g>\n",
       "<!-- Drug -->\n",
       "<g class=\"node\" id=\"node2\">\n",
       "<title>Drug</title>\n",
       "<ellipse cx=\"34.4469\" cy=\"-90\" fill=\"#444444\" rx=\"34.394\" ry=\"18\" stroke=\"#000000\"/>\n",
       "<text fill=\"#ffffff\" font-family=\"Times,serif\" font-size=\"14.00\" text-anchor=\"middle\" x=\"34.4469\" y=\"-86.3\">Drug</text>\n",
       "</g>\n",
       "<!-- Gender&#45;&gt;Drug -->\n",
       "<g class=\"edge\" id=\"edge1\">\n",
       "<title>Gender-&gt;Drug</title>\n",
       "<path d=\"M57.784,-144.2022C54.2552,-136.0064 49.991,-126.1024 46.0782,-117.0145\" fill=\"none\" stroke=\"#000000\"/>\n",
       "<polygon fill=\"#000000\" points=\"49.1911,-115.3938 42.0217,-107.593 42.7617,-118.162 49.1911,-115.3938\" stroke=\"#000000\"/>\n",
       "</g>\n",
       "<!-- Patient -->\n",
       "<g class=\"node\" id=\"node3\">\n",
       "<title>Patient</title>\n",
       "<ellipse cx=\"65.4469\" cy=\"-18\" fill=\"#444444\" rx=\"44.393\" ry=\"18\" stroke=\"#000000\"/>\n",
       "<text fill=\"#ffffff\" font-family=\"Times,serif\" font-size=\"14.00\" text-anchor=\"middle\" x=\"65.4469\" y=\"-14.3\">Patient</text>\n",
       "</g>\n",
       "<!-- Gender&#45;&gt;Patient -->\n",
       "<g class=\"edge\" id=\"edge2\">\n",
       "<title>Gender-&gt;Patient</title>\n",
       "<path d=\"M70.5661,-143.6727C73.1989,-133.2978 76.1266,-120.0284 77.4469,-108 79.1928,-92.0955 79.1928,-87.9045 77.4469,-72 76.5185,-63.5425 74.7956,-54.4715 72.9391,-46.2246\" fill=\"none\" stroke=\"#000000\"/>\n",
       "<polygon fill=\"#000000\" points=\"76.3013,-45.2356 70.5661,-36.3273 69.4942,-46.8678 76.3013,-45.2356\" stroke=\"#000000\"/>\n",
       "</g>\n",
       "<!-- Drug&#45;&gt;Patient -->\n",
       "<g class=\"edge\" id=\"edge3\">\n",
       "<title>Drug-&gt;Patient</title>\n",
       "<path d=\"M42.1099,-72.2022C45.6123,-64.0675 49.8393,-54.2501 53.728,-45.2181\" fill=\"none\" stroke=\"#000000\"/>\n",
       "<polygon fill=\"#000000\" points=\"57.0248,-46.4115 57.7647,-35.8425 50.5954,-43.6433 57.0248,-46.4115\" stroke=\"#000000\"/>\n",
       "</g>\n",
       "</g>\n",
       "</svg></div></td><td style=\"border-top:hidden;border-bottom:hidden;\"><div align=\"center\" style=\"\">$$\\begin{equation}P( Patient \\mid \\hookrightarrow Drug) = \\sum_{Gender}{P\\left(Patient\\mid Drug,Gender\\right) \\cdot P\\left(Gender\\right)}\\end{equation}$$</div></td><td style=\"border-top:hidden;border-bottom:hidden;\"><div align=\"center\" style=\"\"><table>\n",
       "<tr style='background-color:#AAAAAA'><th colspan='2'><center>Patient</center></th></tr>\n",
       "<tr><th style='background-color:#BBBBBB'><center>Sick</center></th><th style='background-color:#BBBBBB'><center>Healed</center></th></tr>\n",
       "<tr><td style='background-color:#cbb264;text-align:right;'>0.4000</td><td style='background-color:#b2cb64;text-align:right;'>0.6000</td></tr>\n",
       "</table></div></td></tr><tr><td style=\"border-top:hidden;border-bottom:hidden;\"><div align=\"center\"><small>Causal Model</small></div></td><td style=\"border-top:hidden;border-bottom:hidden;\"><div align=\"center\"><small>Explanation : backdoor ['Gender'] found.</small></div></td><td style=\"border-top:hidden;border-bottom:hidden;\"><div align=\"center\"><small>Impact : $P( Patient \\mid \\hookrightarrow Drug=Without)$</small></div></td></tr></table>"
      ],
      "text/plain": [
       "<IPython.core.display.HTML object>"
      ]
     },
     "metadata": {},
     "output_type": "display_data"
    }
   ],
   "source": [
    "d1 = csl.CausalModel(m1)\n",
    "cslnb.showCausalImpact(d1, \"Patient\", doing=\"Drug\",values={\"Drug\" : \"Without\"})\n"
   ]
  },
  {
   "cell_type": "markdown",
   "metadata": {},
   "source": [
    "We have, $$P (Patient = Healed \\mid \\hookrightarrow Drug = without) = 0.6$$"
   ]
  },
  {
   "cell_type": "markdown",
   "metadata": {},
   "source": [
    "## Computing $P (Patient = Healed \\mid \\hookrightarrow Drug = With )$"
   ]
  },
  {
   "cell_type": "code",
   "execution_count": 5,
   "metadata": {
    "ExecuteTime": {
     "end_time": "2019-02-25T17:44:33.312080Z",
     "start_time": "2019-02-25T17:44:30.722118Z"
    }
   },
   "outputs": [
    {
     "data": {
      "text/html": [
       "<table style=\"border-style: hidden; border-collapse: collapse;\" width=\"100%\"><tr><td style=\"border-top:hidden;border-bottom:hidden;\"><div align=\"center\" style=\"\"><svg height=\"188pt\" viewBox=\"0.00 0.00 118.29 188.00\" width=\"118pt\" xmlns=\"http://www.w3.org/2000/svg\" xmlns:xlink=\"http://www.w3.org/1999/xlink\">\n",
       "<g class=\"graph\" id=\"graph0\" transform=\"scale(1 1) rotate(0) translate(4 184)\">\n",
       "<title>G</title>\n",
       "<polygon fill=\"#ffffff\" points=\"-4,4 -4,-184 114.293,-184 114.293,4 -4,4\" stroke=\"transparent\"/>\n",
       "<!-- Gender -->\n",
       "<g class=\"node\" id=\"node1\">\n",
       "<title>Gender</title>\n",
       "<ellipse cx=\"65.4469\" cy=\"-162\" fill=\"#444444\" rx=\"44.6926\" ry=\"18\" stroke=\"#000000\"/>\n",
       "<text fill=\"#ffffff\" font-family=\"Times,serif\" font-size=\"14.00\" text-anchor=\"middle\" x=\"65.4469\" y=\"-158.3\">Gender</text>\n",
       "</g>\n",
       "<!-- Drug -->\n",
       "<g class=\"node\" id=\"node2\">\n",
       "<title>Drug</title>\n",
       "<ellipse cx=\"34.4469\" cy=\"-90\" fill=\"#444444\" rx=\"34.394\" ry=\"18\" stroke=\"#000000\"/>\n",
       "<text fill=\"#ffffff\" font-family=\"Times,serif\" font-size=\"14.00\" text-anchor=\"middle\" x=\"34.4469\" y=\"-86.3\">Drug</text>\n",
       "</g>\n",
       "<!-- Gender&#45;&gt;Drug -->\n",
       "<g class=\"edge\" id=\"edge1\">\n",
       "<title>Gender-&gt;Drug</title>\n",
       "<path d=\"M57.784,-144.2022C54.2552,-136.0064 49.991,-126.1024 46.0782,-117.0145\" fill=\"none\" stroke=\"#000000\"/>\n",
       "<polygon fill=\"#000000\" points=\"49.1911,-115.3938 42.0217,-107.593 42.7617,-118.162 49.1911,-115.3938\" stroke=\"#000000\"/>\n",
       "</g>\n",
       "<!-- Patient -->\n",
       "<g class=\"node\" id=\"node3\">\n",
       "<title>Patient</title>\n",
       "<ellipse cx=\"65.4469\" cy=\"-18\" fill=\"#444444\" rx=\"44.393\" ry=\"18\" stroke=\"#000000\"/>\n",
       "<text fill=\"#ffffff\" font-family=\"Times,serif\" font-size=\"14.00\" text-anchor=\"middle\" x=\"65.4469\" y=\"-14.3\">Patient</text>\n",
       "</g>\n",
       "<!-- Gender&#45;&gt;Patient -->\n",
       "<g class=\"edge\" id=\"edge2\">\n",
       "<title>Gender-&gt;Patient</title>\n",
       "<path d=\"M70.5661,-143.6727C73.1989,-133.2978 76.1266,-120.0284 77.4469,-108 79.1928,-92.0955 79.1928,-87.9045 77.4469,-72 76.5185,-63.5425 74.7956,-54.4715 72.9391,-46.2246\" fill=\"none\" stroke=\"#000000\"/>\n",
       "<polygon fill=\"#000000\" points=\"76.3013,-45.2356 70.5661,-36.3273 69.4942,-46.8678 76.3013,-45.2356\" stroke=\"#000000\"/>\n",
       "</g>\n",
       "<!-- Drug&#45;&gt;Patient -->\n",
       "<g class=\"edge\" id=\"edge3\">\n",
       "<title>Drug-&gt;Patient</title>\n",
       "<path d=\"M42.1099,-72.2022C45.6123,-64.0675 49.8393,-54.2501 53.728,-45.2181\" fill=\"none\" stroke=\"#000000\"/>\n",
       "<polygon fill=\"#000000\" points=\"57.0248,-46.4115 57.7647,-35.8425 50.5954,-43.6433 57.0248,-46.4115\" stroke=\"#000000\"/>\n",
       "</g>\n",
       "</g>\n",
       "</svg></div></td><td style=\"border-top:hidden;border-bottom:hidden;\"><div align=\"center\" style=\"\">$$\\begin{equation}P( Patient \\mid \\hookrightarrow Drug) = \\sum_{Gender}{P\\left(Patient\\mid Drug,Gender\\right) \\cdot P\\left(Gender\\right)}\\end{equation}$$</div></td><td style=\"border-top:hidden;border-bottom:hidden;\"><div align=\"center\" style=\"\"><table>\n",
       "<tr style='background-color:#AAAAAA'><th colspan='2'><center>Patient</center></th></tr>\n",
       "<tr><th style='background-color:#BBBBBB'><center>Sick</center></th><th style='background-color:#BBBBBB'><center>Healed</center></th></tr>\n",
       "<tr><td style='background-color:#b8c564;text-align:right;'>0.5500</td><td style='background-color:#c5b864;text-align:right;'>0.4500</td></tr>\n",
       "</table></div></td></tr><tr><td style=\"border-top:hidden;border-bottom:hidden;\"><div align=\"center\"><small>Causal Model</small></div></td><td style=\"border-top:hidden;border-bottom:hidden;\"><div align=\"center\"><small>Explanation : backdoor ['Gender'] found.</small></div></td><td style=\"border-top:hidden;border-bottom:hidden;\"><div align=\"center\"><small>Impact : $P( Patient \\mid \\hookrightarrow Drug=With)$</small></div></td></tr></table>"
      ],
      "text/plain": [
       "<IPython.core.display.HTML object>"
      ]
     },
     "metadata": {},
     "output_type": "display_data"
    }
   ],
   "source": [
    "d1 = csl.CausalModel(m1)\n",
    "cslnb.showCausalImpact(d1, \"Patient\", \"Drug\",values={\"Drug\" : \"With\"})\n"
   ]
  },
  {
   "cell_type": "markdown",
   "metadata": {},
   "source": [
    "And then : $$P(Patient = Healed \\mid \\hookrightarrow Drug = With ) = 0.45 $$"
   ]
  },
  {
   "cell_type": "markdown",
   "metadata": {},
   "source": [
    "Therefore : $$P(Patient = Healed\\mid \\hookrightarrow Drug = Without) = 0.6 > P(Patient = Healed\\mid \\hookrightarrow Drug = With) = 0.45 $$\n",
    "\n",
    "Which means that taking this drug would not enhance the patient's healing process, and it is better not to prescribe this drug for treatment.\n"
   ]
  },
  {
   "cell_type": "markdown",
   "metadata": {
    "collapsed": true
   },
   "source": [
    "# Simpson paradox solved by interventions"
   ]
  },
  {
   "cell_type": "markdown",
   "metadata": {
    "ExecuteTime": {
     "end_time": "2019-01-14T09:53:23.369180Z",
     "start_time": "2019-01-14T09:53:23.361492Z"
    }
   },
   "source": [
    "So to summarize, the paradox appears when wrongly dealing with observations on $Drug$ :"
   ]
  },
  {
   "cell_type": "code",
   "execution_count": 6,
   "metadata": {
    "ExecuteTime": {
     "end_time": "2019-02-25T17:44:33.322748Z",
     "start_time": "2019-02-25T17:44:33.314758Z"
    }
   },
   "outputs": [
    {
     "data": {
      "text/html": [
       "<table style=\"border-style: hidden; border-collapse: collapse;\" width=\"100%\"><tr><td style=\"border-top:hidden;border-bottom:hidden;\"><div align=\"center\" style=\"\"><table>\n",
       "<tr style='background-color:#AAAAAA'><th colspan='2'><center>Drug</center></th></tr>\n",
       "<tr><th style='background-color:#BBBBBB'><center>Without</center></th><th style='background-color:#BBBBBB'><center>With</center></th></tr>\n",
       "<tr><td style='background-color:#bfbf64;text-align:right;'>0.5000</td><td style='background-color:#b5c864;text-align:right;'>0.5750</td></tr>\n",
       "</table></div></td><td style=\"border-top:hidden;border-bottom:hidden;\"><div align=\"center\" style=\"\"><table>\n",
       "<tr style='background-color:#AAAAAA'><th colspan='2'><center>Drug</center></th></tr>\n",
       "<tr><th style='background-color:#BBBBBB'><center>Without</center></th><th style='background-color:#BBBBBB'><center>With</center></th></tr>\n",
       "<tr><td style='background-color:#98e564;text-align:right;'>0.8000</td><td style='background-color:#a5d864;text-align:right;'>0.7000</td></tr>\n",
       "</table></div></td><td style=\"border-top:hidden;border-bottom:hidden;\"><div align=\"center\" style=\"\"><table>\n",
       "<tr style='background-color:#AAAAAA'><th colspan='2'><center>Drug</center></th></tr>\n",
       "<tr><th style='background-color:#BBBBBB'><center>Without</center></th><th style='background-color:#BBBBBB'><center>With</center></th></tr>\n",
       "<tr><td style='background-color:#cbb264;text-align:right;'>0.4000</td><td style='background-color:#e59864;text-align:right;'>0.2000</td></tr>\n",
       "</table></div></td></tr><tr><td style=\"border-top:hidden;border-bottom:hidden;\"><div align=\"center\"><small>$P(Patient = Healed \\mid Drug )$<br/>Taking $Drug$ is observed as efficient to cure</small></div></td><td style=\"border-top:hidden;border-bottom:hidden;\"><div align=\"center\"><small>$P(Patient = Healed \\mid Gender=F,Drug)$<br/>except if the $gender$ of the patient is female</small></div></td><td style=\"border-top:hidden;border-bottom:hidden;\"><div align=\"center\"><small>$P(Patient = Healed \\mid Gender=M,Drug)$<br/>... or male.</small></div></td></tr></table>"
      ],
      "text/plain": [
       "<IPython.core.display.HTML object>"
      ]
     },
     "metadata": {},
     "output_type": "display_data"
    }
   ],
   "source": [
    "gnb.sideBySide(getCuredObservedProba(m1,{}),\n",
    "               getCuredObservedProba(m1,{'Gender':'F'}),\n",
    "               getCuredObservedProba(m1,{'Gender':'M'}),\n",
    "               captions=[\"$P(Patient = Healed \\mid Drug )$<br/>Taking $Drug$ is observed as efficient to cure\",\n",
    "                         \"$P(Patient = Healed \\mid Gender=F,Drug)$<br/>except if the $gender$ of the patient is female\",\n",
    "                         \"$P(Patient = Healed \\mid Gender=M,Drug)$<br/>... or male.\"])\n"
   ]
  },
  {
   "cell_type": "markdown",
   "metadata": {},
   "source": [
    "... and disappears when dealing with intervention on $Drug$ :"
   ]
  },
  {
   "cell_type": "code",
   "execution_count": 7,
   "metadata": {
    "ExecuteTime": {
     "end_time": "2019-02-25T17:44:33.337535Z",
     "start_time": "2019-02-25T17:44:33.325191Z"
    }
   },
   "outputs": [
    {
     "data": {
      "text/html": [
       "<table style=\"border-style: hidden; border-collapse: collapse;\" width=\"100%\"><tr><td style=\"border-top:hidden;border-bottom:hidden;\"><div align=\"center\" style=\"\"><table>\n",
       "<tr style='background-color:#AAAAAA'><th colspan='2'><center>Drug</center></th></tr>\n",
       "<tr><th style='background-color:#BBBBBB'><center>Without</center></th><th style='background-color:#BBBBBB'><center>With</center></th></tr>\n",
       "<tr><td style='background-color:#b2cb64;text-align:right;'>0.6000</td><td style='background-color:#c5b864;text-align:right;'>0.4500</td></tr>\n",
       "</table></div></td><td style=\"border-top:hidden;border-bottom:hidden;\"><div align=\"center\" style=\"\"><table>\n",
       "<tr style='background-color:#AAAAAA'><th colspan='2'><center>Drug</center></th></tr>\n",
       "<tr><th style='background-color:#BBBBBB'><center>Without</center></th><th style='background-color:#BBBBBB'><center>With</center></th></tr>\n",
       "<tr><td style='background-color:#98e564;text-align:right;'>0.8000</td><td style='background-color:#a5d864;text-align:right;'>0.7000</td></tr>\n",
       "</table></div></td><td style=\"border-top:hidden;border-bottom:hidden;\"><div align=\"center\" style=\"\"><table>\n",
       "<tr style='background-color:#AAAAAA'><th colspan='2'><center>Drug</center></th></tr>\n",
       "<tr><th style='background-color:#BBBBBB'><center>Without</center></th><th style='background-color:#BBBBBB'><center>With</center></th></tr>\n",
       "<tr><td style='background-color:#cbb264;text-align:right;'>0.4000</td><td style='background-color:#e59864;text-align:right;'>0.2000</td></tr>\n",
       "</table></div></td></tr><tr><td style=\"border-top:hidden;border-bottom:hidden;\"><div align=\"center\"><small>$P(Patient = 1 \\mid \\hookrightarrow Drug )$<br/>Effectively $Drug$ taking is not efficient to cure</small></div></td><td style=\"border-top:hidden;border-bottom:hidden;\"><div align=\"center\"><small>$P(Patient = 1 \\mid \\hookrightarrow Drug, gender=F )$<br/>, the $gender$ of the patient being female</small></div></td><td style=\"border-top:hidden;border-bottom:hidden;\"><div align=\"center\"><small>$P(Patient = 1 \\mid \\hookrightarrow Drug, gender=M )$<br/>, ... or male.</small></div></td></tr></table>"
      ],
      "text/plain": [
       "<IPython.core.display.HTML object>"
      ]
     },
     "metadata": {},
     "output_type": "display_data"
    }
   ],
   "source": [
    "gnb.sideBySide(csl.causalImpact(d1,on=\"Patient\",doing=\"Drug\",values={\"Patient\":\"Healed\"})[1],\n",
    "               csl.causalImpact(d1,on=\"Patient\",doing=\"Drug\",knowing={\"Gender\"},values={\"Patient\":\"Healed\",\"Gender\":\"F\"})[1],\n",
    "               csl.causalImpact(d1,on=\"Patient\",doing=\"Drug\",knowing={\"Gender\"},values={\"Patient\":\"Healed\",\"Gender\":\"M\"})[1],\n",
    "               captions=[\"$P(Patient = 1 \\mid \\hookrightarrow Drug )$<br/>Effectively $Drug$ taking is not efficient to cure\",\n",
    "                         \"$P(Patient = 1 \\mid \\hookrightarrow Drug, gender=F )$<br/>, the $gender$ of the patient being female\",\n",
    "                         \"$P(Patient = 1 \\mid \\hookrightarrow Drug, gender=M )$<br/>, ... or male.\"])\n"
   ]
  },
  {
   "cell_type": "code",
   "execution_count": null,
   "metadata": {},
   "outputs": [],
   "source": []
  }
 ],
 "metadata": {
  "anaconda-cloud": {},
  "hide_input": false,
  "kernelspec": {
   "display_name": "Python 3",
   "language": "python",
   "name": "python3"
  },
  "language_info": {
   "codemirror_mode": {
    "name": "ipython",
    "version": 3
   },
   "file_extension": ".py",
   "mimetype": "text/x-python",
   "name": "python",
   "nbconvert_exporter": "python",
   "pygments_lexer": "ipython3",
   "version": "3.7.2"
  },
  "toc": {
   "colors": {
    "hover_highlight": "#DAA520",
    "running_highlight": "#FF0000",
    "selected_highlight": "#FFD700"
   },
   "moveMenuLeft": true,
   "nav_menu": {
    "height": "119px",
    "width": "252px"
   },
   "navigate_menu": true,
   "number_sections": true,
   "sideBar": true,
   "threshold": 4,
   "toc_cell": false,
   "toc_section_display": "block",
   "toc_window_display": true,
   "widenNotebook": false
  }
 },
 "nbformat": 4,
 "nbformat_minor": 1
}
