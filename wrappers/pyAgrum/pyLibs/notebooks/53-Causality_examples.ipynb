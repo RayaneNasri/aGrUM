{
 "cells": [
  {
   "cell_type": "markdown",
   "metadata": {},
   "source": [
    "<a href=\"http://agrum.org\" target=\"blank\"><img src=\"http://agrum.gitlab.io/theme/img/logoAgrum.png\" align=\"left\" style=\"height:100px\"/></a><a rel=\"license\" href=\"http://creativecommons.org/licenses/by-nc/4.0/\"><img alt=\"Creative Commons License\" style=\"border-width:0\" src=\"https://i.creativecommons.org/l/by-nc/4.0/88x31.png\" /></a><br />This pyAgrum's notebook is licensed under a <a rel=\"license\" href=\"http://creativecommons.org/licenses/by-nc/4.0/\">Creative Commons Attribution-NonCommercial 4.0 International License</a>."
   ]
  },
  {
   "cell_type": "code",
   "execution_count": 1,
   "metadata": {
    "ExecuteTime": {
     "end_time": "2019-03-30T09:47:26.455586Z",
     "start_time": "2019-03-30T09:47:26.223653Z"
    }
   },
   "outputs": [],
   "source": [
    "from IPython.display import display, Math, Latex, HTML\n",
    "\n",
    "import pyAgrum as gum\n",
    "import pyAgrum.lib.notebook as gnb\n",
    "import pyAgrum.causal as csl\n",
    "import pyAgrum.causal.notebook as cslnb"
   ]
  },
  {
   "cell_type": "markdown",
   "metadata": {},
   "source": [
    "# EXAMPLE S. Tikka and J. Karvanen, 2016 [CRAN]"
   ]
  },
  {
   "cell_type": "code",
   "execution_count": 2,
   "metadata": {
    "ExecuteTime": {
     "end_time": "2019-03-30T09:47:30.296100Z",
     "start_time": "2019-03-30T09:47:26.457764Z"
    }
   },
   "outputs": [
    {
     "data": {
      "text/html": [
       "<table style=\"border-style: hidden; border-collapse: collapse;\" width=\"100%\"><tr><td style=\"border-top:hidden;border-bottom:hidden;\"><div align=\"center\" style=\"\"><svg height=\"180pt\" viewBox=\"0.00 0.00 79.62 180.00\" width=\"80pt\" xmlns=\"http://www.w3.org/2000/svg\" xmlns:xlink=\"http://www.w3.org/1999/xlink\">\n",
       "<g class=\"graph\" id=\"graph0\" transform=\"scale(.6923 .6923) rotate(0) translate(4 256)\">\n",
       "<title>G</title>\n",
       "<polygon fill=\"#ffffff\" points=\"-4,4 -4,-256 111,-256 111,4 -4,4\" stroke=\"transparent\"/>\n",
       "<!-- w -->\n",
       "<g class=\"node\" id=\"node1\">\n",
       "<title>w</title>\n",
       "<ellipse cx=\"27\" cy=\"-234\" fill=\"#404040\" rx=\"27\" ry=\"18\" stroke=\"#000000\"/>\n",
       "<text fill=\"#ffffff\" font-family=\"Times,serif\" font-size=\"14.00\" text-anchor=\"middle\" x=\"27\" y=\"-229.8\">w</text>\n",
       "</g>\n",
       "<!-- x -->\n",
       "<g class=\"node\" id=\"node2\">\n",
       "<title>x</title>\n",
       "<ellipse cx=\"53\" cy=\"-162\" fill=\"#404040\" rx=\"27\" ry=\"18\" stroke=\"#000000\"/>\n",
       "<text fill=\"#ffffff\" font-family=\"Times,serif\" font-size=\"14.00\" text-anchor=\"middle\" x=\"53\" y=\"-157.8\">x</text>\n",
       "</g>\n",
       "<!-- w&#45;&gt;x -->\n",
       "<g class=\"edge\" id=\"edge1\">\n",
       "<title>w-&gt;x</title>\n",
       "<path d=\"M32.4864,-215.8626C35.446,-207.6667 39.0225,-197.7627 42.3042,-188.6749\" fill=\"none\" stroke=\"#000000\"/>\n",
       "<path d=\"M34.3675,-216.5419C37.3271,-208.346 40.9036,-198.442 44.1853,-189.3542\" fill=\"none\" stroke=\"#000000\"/>\n",
       "<polygon fill=\"#000000\" points=\"46.5424,-190.1874 46.647,-179.593 39.9585,-187.8098 46.5424,-190.1874\" stroke=\"#000000\"/>\n",
       "</g>\n",
       "<!-- z -->\n",
       "<g class=\"node\" id=\"node3\">\n",
       "<title>z</title>\n",
       "<ellipse cx=\"53\" cy=\"-90\" fill=\"#404040\" rx=\"27\" ry=\"18\" stroke=\"#000000\"/>\n",
       "<text fill=\"#ffffff\" font-family=\"Times,serif\" font-size=\"14.00\" text-anchor=\"middle\" x=\"53\" y=\"-85.8\">z</text>\n",
       "</g>\n",
       "<!-- w&#45;&gt;z -->\n",
       "<g class=\"edge\" id=\"edge6\">\n",
       "<title>w-&gt;z</title>\n",
       "<path d=\"M20.0002,-216.6475C14.6044,-198.1392 8.6394,-168.5732 16.0429,-143.7102 19.4033,-132.7073 25.6135,-122.1053 32.017,-113.1158\" fill=\"none\" stroke=\"#000000\"/>\n",
       "<path d=\"M21.9201,-216.0873C16.5649,-197.7436 10.5999,-168.1777 17.9571,-144.2898 21.129,-133.7182 27.3392,-123.1162 33.6456,-114.2768\" fill=\"none\" stroke=\"#000000\"/>\n",
       "<polygon fill=\"#000000\" points=\"35.6285,-115.8001 38.8771,-105.7156 30.0487,-111.5732 35.6285,-115.8001\" stroke=\"#000000\"/>\n",
       "</g>\n",
       "<!-- x&#45;&gt;z -->\n",
       "<g class=\"edge\" id=\"edge2\">\n",
       "<title>x-&gt;z</title>\n",
       "<path d=\"M52,-143.8314C52,-136.131 52,-126.9743 52,-118.4166\" fill=\"none\" stroke=\"#000000\"/>\n",
       "<path d=\"M54,-143.8314C54,-136.131 54,-126.9743 54,-118.4166\" fill=\"none\" stroke=\"#000000\"/>\n",
       "<polygon fill=\"#000000\" points=\"56.5001,-118.4132 53,-108.4133 49.5001,-118.4133 56.5001,-118.4132\" stroke=\"#000000\"/>\n",
       "</g>\n",
       "<!-- y -->\n",
       "<g class=\"node\" id=\"node4\">\n",
       "<title>y</title>\n",
       "<ellipse cx=\"80\" cy=\"-18\" fill=\"#404040\" rx=\"27\" ry=\"18\" stroke=\"#000000\"/>\n",
       "<text fill=\"#ffffff\" font-family=\"Times,serif\" font-size=\"14.00\" text-anchor=\"middle\" x=\"80\" y=\"-13.8\">y</text>\n",
       "</g>\n",
       "<!-- z&#45;&gt;y -->\n",
       "<g class=\"edge\" id=\"edge3\">\n",
       "<title>z-&gt;y</title>\n",
       "<path d=\"M58.7378,-71.8511C61.8113,-63.6552 65.5253,-53.7513 68.9332,-44.6634\" fill=\"none\" stroke=\"#000000\"/>\n",
       "<path d=\"M60.6105,-72.5534C63.6839,-64.3575 67.3979,-54.4535 70.8059,-45.3657\" fill=\"none\" stroke=\"#000000\"/>\n",
       "<polygon fill=\"#000000\" points=\"73.1685,-46.1853 73.4026,-35.593 66.6142,-43.7274 73.1685,-46.1853\" stroke=\"#000000\"/>\n",
       "</g>\n",
       "<!-- lat1 -->\n",
       "<g class=\"node\" id=\"node5\">\n",
       "<title>lat1</title>\n",
       "<ellipse cx=\"78\" cy=\"-234\" fill=\"#a08080\" rx=\"1.8\" ry=\"1.8\" stroke=\"#000000\"/>\n",
       "</g>\n",
       "<!-- lat1&#45;&gt;x -->\n",
       "<g class=\"edge\" id=\"edge5\">\n",
       "<title>lat1-&gt;x</title>\n",
       "<path d=\"M77.382,-232.2202C75.3078,-226.2465 68.3908,-206.3255 62.4516,-189.2206\" fill=\"none\" stroke=\"#000000\" stroke-dasharray=\"5,2\"/>\n",
       "<polygon fill=\"#000000\" points=\"65.6982,-187.9003 59.1117,-179.6017 59.0855,-190.1965 65.6982,-187.9003\" stroke=\"#000000\"/>\n",
       "</g>\n",
       "<!-- lat1&#45;&gt;y -->\n",
       "<g class=\"edge\" id=\"edge4\">\n",
       "<title>lat1-&gt;y</title>\n",
       "<path d=\"M78.5699,-231.9629C80.5211,-224.8689 86.927,-200.5616 89,-180 93.8148,-132.2421 92.9591,-119.8364 89,-72 88.2945,-63.4753 86.9727,-54.2703 85.5551,-45.917\" fill=\"none\" stroke=\"#000000\" stroke-dasharray=\"5,2\"/>\n",
       "<polygon fill=\"#000000\" points=\"88.9689,-45.1258 83.7474,-35.9069 82.0803,-46.3698 88.9689,-45.1258\" stroke=\"#000000\"/>\n",
       "</g>\n",
       "</g>\n",
       "</svg></div></td><td style=\"border-top:hidden;border-bottom:hidden;\"><div align=\"center\" style=\"\">$$\\begin{equation}P( y \\mid \\hookrightarrow\\mkern-6.5mux) = \\sum_{w,z}{\\left(\\sum_{x'}{P\\left(y\\mid w,x',z\\right) \\cdot P\\left(x'\\mid w\\right)}\\right) \\cdot P\\left(z\\mid w,x\\right) \\cdot P\\left(w\\right)}\\end{equation}$$</div></td><td style=\"border-top:hidden;border-bottom:hidden;\"><div align=\"center\" style=\"\"><table style=\"border:1px solid black;\">\n",
       "<tr style='border:1px solid black;color:black;background-color:#808080'><th colspan='2'><center>y</center></th></tr>\n",
       "<tr><th style='border:1px solid black;border-bottom-style: double;color:black;background-color:#BBBBBB'><center>0</center></th><th style='border:1px solid black;border-bottom-style: double;color:black;background-color:#BBBBBB'><center>1</center></th></tr>\n",
       "<tr><td style='color:black;background-color:#bdc064;text-align:right;'>0.5130</td><td style='color:black;background-color:#c0bd64;text-align:right;'>0.4870</td></tr>\n",
       "</table></div></td></tr><tr><td style=\"border-top:hidden;border-bottom:hidden;\"><div align=\"center\"><small>Causal Model</small></div></td><td style=\"border-top:hidden;border-bottom:hidden;\"><div align=\"center\"><small>Explanation : Do-calculus computations</small></div></td><td style=\"border-top:hidden;border-bottom:hidden;\"><div align=\"center\"><small>Impact : $P( y \\mid \\hookrightarrow\\mkern-6.5mux=0)$</small></div></td></tr></table>"
      ],
      "text/plain": [
       "<IPython.core.display.HTML object>"
      ]
     },
     "metadata": {},
     "output_type": "display_data"
    },
    {
     "data": {
      "text/html": [
       "<table style=\"border-style: hidden; border-collapse: collapse;\" width=\"100%\"><tr><td style=\"border-top:hidden;border-bottom:hidden;\"><div align=\"center\" style=\"\"><svg height=\"180pt\" viewBox=\"0.00 0.00 79.62 180.00\" width=\"80pt\" xmlns=\"http://www.w3.org/2000/svg\" xmlns:xlink=\"http://www.w3.org/1999/xlink\">\n",
       "<g class=\"graph\" id=\"graph0\" transform=\"scale(.6923 .6923) rotate(0) translate(4 256)\">\n",
       "<title>G</title>\n",
       "<polygon fill=\"#ffffff\" points=\"-4,4 -4,-256 111,-256 111,4 -4,4\" stroke=\"transparent\"/>\n",
       "<!-- w -->\n",
       "<g class=\"node\" id=\"node1\">\n",
       "<title>w</title>\n",
       "<ellipse cx=\"27\" cy=\"-234\" fill=\"#404040\" rx=\"27\" ry=\"18\" stroke=\"#000000\"/>\n",
       "<text fill=\"#ffffff\" font-family=\"Times,serif\" font-size=\"14.00\" text-anchor=\"middle\" x=\"27\" y=\"-229.8\">w</text>\n",
       "</g>\n",
       "<!-- x -->\n",
       "<g class=\"node\" id=\"node2\">\n",
       "<title>x</title>\n",
       "<ellipse cx=\"53\" cy=\"-162\" fill=\"#404040\" rx=\"27\" ry=\"18\" stroke=\"#000000\"/>\n",
       "<text fill=\"#ffffff\" font-family=\"Times,serif\" font-size=\"14.00\" text-anchor=\"middle\" x=\"53\" y=\"-157.8\">x</text>\n",
       "</g>\n",
       "<!-- w&#45;&gt;x -->\n",
       "<g class=\"edge\" id=\"edge1\">\n",
       "<title>w-&gt;x</title>\n",
       "<path d=\"M32.4864,-215.8626C35.446,-207.6667 39.0225,-197.7627 42.3042,-188.6749\" fill=\"none\" stroke=\"#000000\"/>\n",
       "<path d=\"M34.3675,-216.5419C37.3271,-208.346 40.9036,-198.442 44.1853,-189.3542\" fill=\"none\" stroke=\"#000000\"/>\n",
       "<polygon fill=\"#000000\" points=\"46.5424,-190.1874 46.647,-179.593 39.9585,-187.8098 46.5424,-190.1874\" stroke=\"#000000\"/>\n",
       "</g>\n",
       "<!-- z -->\n",
       "<g class=\"node\" id=\"node3\">\n",
       "<title>z</title>\n",
       "<ellipse cx=\"53\" cy=\"-90\" fill=\"#404040\" rx=\"27\" ry=\"18\" stroke=\"#000000\"/>\n",
       "<text fill=\"#ffffff\" font-family=\"Times,serif\" font-size=\"14.00\" text-anchor=\"middle\" x=\"53\" y=\"-85.8\">z</text>\n",
       "</g>\n",
       "<!-- w&#45;&gt;z -->\n",
       "<g class=\"edge\" id=\"edge6\">\n",
       "<title>w-&gt;z</title>\n",
       "<path d=\"M20.0002,-216.6475C14.6044,-198.1392 8.6394,-168.5732 16.0429,-143.7102 19.4033,-132.7073 25.6135,-122.1053 32.017,-113.1158\" fill=\"none\" stroke=\"#000000\"/>\n",
       "<path d=\"M21.9201,-216.0873C16.5649,-197.7436 10.5999,-168.1777 17.9571,-144.2898 21.129,-133.7182 27.3392,-123.1162 33.6456,-114.2768\" fill=\"none\" stroke=\"#000000\"/>\n",
       "<polygon fill=\"#000000\" points=\"35.6285,-115.8001 38.8771,-105.7156 30.0487,-111.5732 35.6285,-115.8001\" stroke=\"#000000\"/>\n",
       "</g>\n",
       "<!-- x&#45;&gt;z -->\n",
       "<g class=\"edge\" id=\"edge2\">\n",
       "<title>x-&gt;z</title>\n",
       "<path d=\"M52,-143.8314C52,-136.131 52,-126.9743 52,-118.4166\" fill=\"none\" stroke=\"#000000\"/>\n",
       "<path d=\"M54,-143.8314C54,-136.131 54,-126.9743 54,-118.4166\" fill=\"none\" stroke=\"#000000\"/>\n",
       "<polygon fill=\"#000000\" points=\"56.5001,-118.4132 53,-108.4133 49.5001,-118.4133 56.5001,-118.4132\" stroke=\"#000000\"/>\n",
       "</g>\n",
       "<!-- y -->\n",
       "<g class=\"node\" id=\"node4\">\n",
       "<title>y</title>\n",
       "<ellipse cx=\"80\" cy=\"-18\" fill=\"#404040\" rx=\"27\" ry=\"18\" stroke=\"#000000\"/>\n",
       "<text fill=\"#ffffff\" font-family=\"Times,serif\" font-size=\"14.00\" text-anchor=\"middle\" x=\"80\" y=\"-13.8\">y</text>\n",
       "</g>\n",
       "<!-- z&#45;&gt;y -->\n",
       "<g class=\"edge\" id=\"edge3\">\n",
       "<title>z-&gt;y</title>\n",
       "<path d=\"M58.7378,-71.8511C61.8113,-63.6552 65.5253,-53.7513 68.9332,-44.6634\" fill=\"none\" stroke=\"#000000\"/>\n",
       "<path d=\"M60.6105,-72.5534C63.6839,-64.3575 67.3979,-54.4535 70.8059,-45.3657\" fill=\"none\" stroke=\"#000000\"/>\n",
       "<polygon fill=\"#000000\" points=\"73.1685,-46.1853 73.4026,-35.593 66.6142,-43.7274 73.1685,-46.1853\" stroke=\"#000000\"/>\n",
       "</g>\n",
       "<!-- lat1 -->\n",
       "<g class=\"node\" id=\"node5\">\n",
       "<title>lat1</title>\n",
       "<ellipse cx=\"78\" cy=\"-234\" fill=\"#a08080\" rx=\"1.8\" ry=\"1.8\" stroke=\"#000000\"/>\n",
       "</g>\n",
       "<!-- lat1&#45;&gt;x -->\n",
       "<g class=\"edge\" id=\"edge5\">\n",
       "<title>lat1-&gt;x</title>\n",
       "<path d=\"M77.382,-232.2202C75.3078,-226.2465 68.3908,-206.3255 62.4516,-189.2206\" fill=\"none\" stroke=\"#000000\" stroke-dasharray=\"5,2\"/>\n",
       "<polygon fill=\"#000000\" points=\"65.6982,-187.9003 59.1117,-179.6017 59.0855,-190.1965 65.6982,-187.9003\" stroke=\"#000000\"/>\n",
       "</g>\n",
       "<!-- lat1&#45;&gt;y -->\n",
       "<g class=\"edge\" id=\"edge4\">\n",
       "<title>lat1-&gt;y</title>\n",
       "<path d=\"M78.5699,-231.9629C80.5211,-224.8689 86.927,-200.5616 89,-180 93.8148,-132.2421 92.9591,-119.8364 89,-72 88.2945,-63.4753 86.9727,-54.2703 85.5551,-45.917\" fill=\"none\" stroke=\"#000000\" stroke-dasharray=\"5,2\"/>\n",
       "<polygon fill=\"#000000\" points=\"88.9689,-45.1258 83.7474,-35.9069 82.0803,-46.3698 88.9689,-45.1258\" stroke=\"#000000\"/>\n",
       "</g>\n",
       "</g>\n",
       "</svg></div></td><td style=\"border-top:hidden;border-bottom:hidden;\"><div align=\"center\" style=\"\">$$\\begin{equation}P( y \\mid \\hookrightarrow\\mkern-6.5mux) = \\sum_{w,z}{\\left(\\sum_{x'}{P\\left(y\\mid w,x',z\\right) \\cdot P\\left(x'\\mid w\\right)}\\right) \\cdot P\\left(z\\mid w,x\\right) \\cdot P\\left(w\\right)}\\end{equation}$$</div></td><td style=\"border-top:hidden;border-bottom:hidden;\"><div align=\"center\" style=\"\"><table style=\"border:1px solid black;\">\n",
       "<tr style='border:1px solid black;color:black;background-color:#808080'><th colspan='2'><center>y</center></th></tr>\n",
       "<tr><th style='border:1px solid black;border-bottom-style: double;color:black;background-color:#BBBBBB'><center>0</center></th><th style='border:1px solid black;border-bottom-style: double;color:black;background-color:#BBBBBB'><center>1</center></th></tr>\n",
       "<tr><td style='color:black;background-color:#acd164;text-align:right;'>0.6460</td><td style='color:black;background-color:#d1ac64;text-align:right;'>0.3540</td></tr>\n",
       "</table></div></td></tr><tr><td style=\"border-top:hidden;border-bottom:hidden;\"><div align=\"center\"><small>Causal Model</small></div></td><td style=\"border-top:hidden;border-bottom:hidden;\"><div align=\"center\"><small>Explanation : Do-calculus computations</small></div></td><td style=\"border-top:hidden;border-bottom:hidden;\"><div align=\"center\"><small>Impact : $P( y \\mid \\hookrightarrow\\mkern-6.5mux=1)$</small></div></td></tr></table>"
      ],
      "text/plain": [
       "<IPython.core.display.HTML object>"
      ]
     },
     "metadata": {},
     "output_type": "display_data"
    }
   ],
   "source": [
    "bn = gum.fastBN(\"w->x->z->y;w->z\")\n",
    "\n",
    "bn.cpt(\"w\")[:] = [0.7,0.3]\n",
    "\n",
    "bn.cpt(\"x\")[:] = [0.4,0.6],[0.3,0.7]\n",
    "\n",
    "bn.cpt(\"z\")[{'w':0,'x':0}]=[0.2,0.8]\n",
    "bn.cpt(\"z\")[{'w':0,'x':1}]=[0.1,0.9]\n",
    "bn.cpt(\"z\")[{'w':1,'x':0}]=[0.9,0.1]\n",
    "bn.cpt(\"z\")[{'w':1,'x':1}]=[0.5,0.5]\n",
    "\n",
    "bn.cpt(\"y\")[:] = [0.1,0.9],[0.8,0.2]\n",
    "\n",
    "\n",
    "d = csl.CausalModel(bn, [(\"lat1\", [\"x\",\"y\"])])\n",
    "#csl.causalImpact(d,\"y\",{\"x\":0})\n",
    "cslnb.showCausalImpact(d,\"y\",\"x\",values={\"x\":0})\n",
    "cslnb.showCausalImpact(d,\"y\",\"x\",values={\"x\":1})\n",
    "\n"
   ]
  },
  {
   "cell_type": "markdown",
   "metadata": {},
   "source": [
    "Since we have the formula, let us compute by hand this intervention :"
   ]
  },
  {
   "cell_type": "code",
   "execution_count": 3,
   "metadata": {
    "ExecuteTime": {
     "end_time": "2019-03-30T09:47:30.305181Z",
     "start_time": "2019-03-30T09:47:30.298891Z"
    }
   },
   "outputs": [
    {
     "data": {
      "text/html": [
       "<table style=\"border:1px solid black;\">\n",
       "<tr><th colspan='1'></th><th colspan='2' style='border:1px solid black;color:black;background-color:#808080;'><center>y</center></th></tr>\n",
       "<tr><th style='border:1px solid black;color:black;background-color:#808080'><center>x</center></th><th style='border:1px solid black;border-bottom-style: double;color:black;background-color:#BBBBBB'><center>0</center></th><th style='border:1px solid black;border-bottom-style: double;color:black;background-color:#BBBBBB'><center>1</center></th></tr>\n",
       "<tr><th style='border:1px solid black;color:black;background-color:#BBBBBB'><center>0</center></th><td style='color:black;background-color:#bdc064;text-align:right;'>0.5130</td><td style='color:black;background-color:#c0bd64;text-align:right;'>0.4870</td></tr>\n",
       "<tr><th style='border:1px solid black;color:black;background-color:#BBBBBB'><center>1</center></th><td style='color:black;background-color:#acd164;text-align:right;'>0.6460</td><td style='color:black;background-color:#d1ac64;text-align:right;'>0.3540</td></tr>\n",
       "</table>"
      ],
      "text/plain": [
       "(gum::Potential<double>@0x7f9122e48ae0) <y:0|x:0> :: 0.513 /<y:1|x:0> :: 0.487 /<y:0|x:1> :: 0.646 /<y:1|x:1> :: 0.354"
      ]
     },
     "execution_count": 3,
     "metadata": {},
     "output_type": "execute_result"
    }
   ],
   "source": [
    "(((bn.cpt(\"x\") * bn.cpt(\"y\")).margSumOut([\"x\"]) * bn.cpt(\"w\") * bn.cpt(\"z\")).margSumOut([\"z\", \"w\"])).putFirst(\"y\")"
   ]
  },
  {
   "cell_type": "code",
   "execution_count": 4,
   "metadata": {
    "ExecuteTime": {
     "end_time": "2019-03-30T09:47:32.332589Z",
     "start_time": "2019-03-30T09:47:30.307406Z"
    }
   },
   "outputs": [
    {
     "data": {
      "text/html": [
       "<table style=\"border-style: hidden; border-collapse: collapse;\" width=\"100%\"><tr><td style=\"border-top:hidden;border-bottom:hidden;\"><div align=\"center\" style=\"\"><svg height=\"180pt\" viewBox=\"0.00 0.00 92.74 180.00\" width=\"93pt\" xmlns=\"http://www.w3.org/2000/svg\" xmlns:xlink=\"http://www.w3.org/1999/xlink\">\n",
       "<g class=\"graph\" id=\"graph0\" transform=\"scale(.6008 .6008) rotate(0) translate(4 295.6)\">\n",
       "<title>G</title>\n",
       "<polygon fill=\"#ffffff\" points=\"-4,4 -4,-295.6 150.3676,-295.6 150.3676,4 -4,4\" stroke=\"transparent\"/>\n",
       "<!-- Z1 -->\n",
       "<g class=\"node\" id=\"node1\">\n",
       "<title>Z1</title>\n",
       "<ellipse cx=\"38.3676\" cy=\"-234\" fill=\"#404040\" rx=\"27\" ry=\"18\" stroke=\"#000000\"/>\n",
       "<text fill=\"#ffffff\" font-family=\"Times,serif\" font-size=\"14.00\" text-anchor=\"middle\" x=\"38.3676\" y=\"-229.8\">Z1</text>\n",
       "</g>\n",
       "<!-- X -->\n",
       "<g class=\"node\" id=\"node2\">\n",
       "<title>X</title>\n",
       "<ellipse cx=\"64.3676\" cy=\"-162\" fill=\"#404040\" rx=\"27\" ry=\"18\" stroke=\"#000000\"/>\n",
       "<text fill=\"#ffffff\" font-family=\"Times,serif\" font-size=\"14.00\" text-anchor=\"middle\" x=\"64.3676\" y=\"-157.8\">X</text>\n",
       "</g>\n",
       "<!-- Z1&#45;&gt;X -->\n",
       "<g class=\"edge\" id=\"edge1\">\n",
       "<title>Z1-&gt;X</title>\n",
       "<path d=\"M43.854,-215.8626C46.8136,-207.6667 50.3901,-197.7627 53.6718,-188.6749\" fill=\"none\" stroke=\"#000000\"/>\n",
       "<path d=\"M45.7351,-216.5419C48.6947,-208.346 52.2712,-198.442 55.5529,-189.3542\" fill=\"none\" stroke=\"#000000\"/>\n",
       "<polygon fill=\"#000000\" points=\"57.91,-190.1874 58.0146,-179.593 51.3261,-187.8098 57.91,-190.1874\" stroke=\"#000000\"/>\n",
       "</g>\n",
       "<!-- Z2 -->\n",
       "<g class=\"node\" id=\"node3\">\n",
       "<title>Z2</title>\n",
       "<ellipse cx=\"64.3676\" cy=\"-90\" fill=\"#404040\" rx=\"27\" ry=\"18\" stroke=\"#000000\"/>\n",
       "<text fill=\"#ffffff\" font-family=\"Times,serif\" font-size=\"14.00\" text-anchor=\"middle\" x=\"64.3676\" y=\"-85.8\">Z2</text>\n",
       "</g>\n",
       "<!-- X&#45;&gt;Z2 -->\n",
       "<g class=\"edge\" id=\"edge3\">\n",
       "<title>X-&gt;Z2</title>\n",
       "<path d=\"M63.3676,-143.8314C63.3676,-136.131 63.3676,-126.9743 63.3676,-118.4166\" fill=\"none\" stroke=\"#000000\"/>\n",
       "<path d=\"M65.3676,-143.8314C65.3676,-136.131 65.3676,-126.9743 65.3676,-118.4166\" fill=\"none\" stroke=\"#000000\"/>\n",
       "<polygon fill=\"#000000\" points=\"67.8677,-118.4132 64.3676,-108.4133 60.8677,-118.4133 67.8677,-118.4132\" stroke=\"#000000\"/>\n",
       "</g>\n",
       "<!-- Y -->\n",
       "<g class=\"node\" id=\"node4\">\n",
       "<title>Y</title>\n",
       "<ellipse cx=\"119.3676\" cy=\"-18\" fill=\"#404040\" rx=\"27\" ry=\"18\" stroke=\"#000000\"/>\n",
       "<text fill=\"#ffffff\" font-family=\"Times,serif\" font-size=\"14.00\" text-anchor=\"middle\" x=\"119.3676\" y=\"-13.8\">Y</text>\n",
       "</g>\n",
       "<!-- Z2&#45;&gt;Y -->\n",
       "<g class=\"edge\" id=\"edge8\">\n",
       "<title>Z2-&gt;Y</title>\n",
       "<path d=\"M76.0533,-73.055C83.0854,-63.8494 92.0076,-52.1694 99.8612,-41.8883\" fill=\"none\" stroke=\"#000000\"/>\n",
       "<path d=\"M77.6426,-74.2691C84.6747,-65.0635 93.5969,-53.3835 101.4506,-43.1024\" fill=\"none\" stroke=\"#000000\"/>\n",
       "<polygon fill=\"#000000\" points=\"103.6475,-44.3446 106.9366,-34.2733 98.0848,-40.0953 103.6475,-44.3446\" stroke=\"#000000\"/>\n",
       "</g>\n",
       "<!-- L1 -->\n",
       "<g class=\"node\" id=\"node5\">\n",
       "<title>L1</title>\n",
       "<ellipse cx=\"57.3676\" cy=\"-289.8\" fill=\"#a08080\" rx=\"1.8\" ry=\"1.8\" stroke=\"#000000\"/>\n",
       "</g>\n",
       "<!-- L1&#45;&gt;Z1 -->\n",
       "<g class=\"edge\" id=\"edge11\">\n",
       "<title>L1-&gt;Z1</title>\n",
       "<path d=\"M56.7354,-287.9434C55.2613,-283.6141 51.433,-272.3711 47.6507,-261.2629\" fill=\"none\" stroke=\"#000000\" stroke-dasharray=\"5,2\"/>\n",
       "<polygon fill=\"#000000\" points=\"50.9354,-260.0511 44.3989,-251.713 44.309,-262.3074 50.9354,-260.0511\" stroke=\"#000000\"/>\n",
       "</g>\n",
       "<!-- L1&#45;&gt;X -->\n",
       "<g class=\"edge\" id=\"edge10\">\n",
       "<title>L1-&gt;X</title>\n",
       "<path d=\"M58.418,-288.1557C61.6093,-283.0501 71.168,-266.9154 74.3676,-252 78.8055,-231.3122 75.8133,-207.5017 71.9768,-189.5697\" fill=\"none\" stroke=\"#000000\" stroke-dasharray=\"5,2\"/>\n",
       "<polygon fill=\"#000000\" points=\"75.3661,-188.6925 69.6701,-179.759 68.5519,-190.2947 75.3661,-188.6925\" stroke=\"#000000\"/>\n",
       "</g>\n",
       "<!-- L2 -->\n",
       "<g class=\"node\" id=\"node6\">\n",
       "<title>L2</title>\n",
       "<ellipse cx=\"19.3676\" cy=\"-289.8\" fill=\"#a08080\" rx=\"1.8\" ry=\"1.8\" stroke=\"#000000\"/>\n",
       "</g>\n",
       "<!-- L2&#45;&gt;Z1 -->\n",
       "<g class=\"edge\" id=\"edge9\">\n",
       "<title>L2-&gt;Z1</title>\n",
       "<path d=\"M19.9998,-287.9434C21.4739,-283.6141 25.3022,-272.3711 29.0845,-261.2629\" fill=\"none\" stroke=\"#000000\" stroke-dasharray=\"5,2\"/>\n",
       "<polygon fill=\"#000000\" points=\"32.4261,-262.3074 32.3363,-251.713 25.7997,-260.0511 32.4261,-262.3074\" stroke=\"#000000\"/>\n",
       "</g>\n",
       "<!-- L2&#45;&gt;Z2 -->\n",
       "<g class=\"edge\" id=\"edge5\">\n",
       "<title>L2-&gt;Z2</title>\n",
       "<path d=\"M18.3172,-288.1557C15.1259,-283.0501 5.5672,-266.9154 2.3676,-252 -.9884,-236.3559 -.3909,-231.7604 2.3676,-216 8.2332,-182.4869 13.0421,-174.3753 28.3676,-144 33.3922,-134.0411 39.9145,-123.709 46.0246,-114.7817\" fill=\"none\" stroke=\"#000000\" stroke-dasharray=\"5,2\"/>\n",
       "<polygon fill=\"#000000\" points=\"49.0374,-116.5819 51.9266,-106.3886 43.3114,-112.5554 49.0374,-116.5819\" stroke=\"#000000\"/>\n",
       "</g>\n",
       "<!-- L3 -->\n",
       "<g class=\"node\" id=\"node7\">\n",
       "<title>L3</title>\n",
       "<ellipse cx=\"125.3676\" cy=\"-289.8\" fill=\"#a08080\" rx=\"1.8\" ry=\"1.8\" stroke=\"#000000\"/>\n",
       "</g>\n",
       "<!-- L3&#45;&gt;Z1 -->\n",
       "<g class=\"edge\" id=\"edge6\">\n",
       "<title>L3-&gt;Z1</title>\n",
       "<path d=\"M123.5505,-288.6345C116.2587,-283.9577 88.4614,-266.1291 66.5785,-252.0939\" fill=\"none\" stroke=\"#000000\" stroke-dasharray=\"5,2\"/>\n",
       "<polygon fill=\"#000000\" points=\"68.2466,-249.0057 57.9395,-246.553 64.4674,-254.898 68.2466,-249.0057\" stroke=\"#000000\"/>\n",
       "</g>\n",
       "<!-- L3&#45;&gt;Y -->\n",
       "<g class=\"edge\" id=\"edge7\">\n",
       "<title>L3-&gt;Y</title>\n",
       "<path d=\"M126.0154,-287.7802C127.7764,-282.1755 132.6347,-265.9242 134.3676,-252 144.2476,-172.6124 145.7225,-151.1901 134.3676,-72 133.1109,-63.2354 130.8522,-53.8785 128.4627,-45.4579\" fill=\"none\" stroke=\"#000000\" stroke-dasharray=\"5,2\"/>\n",
       "<polygon fill=\"#000000\" points=\"131.7756,-44.3206 125.5418,-35.7538 125.0727,-46.3382 131.7756,-44.3206\" stroke=\"#000000\"/>\n",
       "</g>\n",
       "<!-- L4 -->\n",
       "<g class=\"node\" id=\"node8\">\n",
       "<title>L4</title>\n",
       "<ellipse cx=\"123.3676\" cy=\"-234\" fill=\"#a08080\" rx=\"1.8\" ry=\"1.8\" stroke=\"#000000\"/>\n",
       "</g>\n",
       "<!-- L4&#45;&gt;X -->\n",
       "<g class=\"edge\" id=\"edge4\">\n",
       "<title>L4-&gt;X</title>\n",
       "<path d=\"M122.1353,-232.4962C117.2275,-226.507 98.6223,-203.8024 83.835,-185.7569\" fill=\"none\" stroke=\"#000000\" stroke-dasharray=\"5,2\"/>\n",
       "<polygon fill=\"#000000\" points=\"86.4179,-183.3867 77.3724,-177.8703 81.0035,-187.8235 86.4179,-183.3867\" stroke=\"#000000\"/>\n",
       "</g>\n",
       "<!-- L4&#45;&gt;Y -->\n",
       "<g class=\"edge\" id=\"edge2\">\n",
       "<title>L4-&gt;Y</title>\n",
       "<path d=\"M123.333,-232.1327C123.0359,-216.0902 120.9006,-100.7822 119.8923,-46.3334\" fill=\"none\" stroke=\"#000000\" stroke-dasharray=\"5,2\"/>\n",
       "<polygon fill=\"#000000\" points=\"123.3912,-46.236 119.7065,-36.3025 116.3924,-46.3656 123.3912,-46.236\" stroke=\"#000000\"/>\n",
       "</g>\n",
       "</g>\n",
       "</svg></div></td><td style=\"border-top:hidden;border-bottom:hidden;\"><div align=\"center\" style=\"\">?</div></td><td style=\"border-top:hidden;border-bottom:hidden;\"><div align=\"center\" style=\"\">No result</div></td></tr><tr><td style=\"border-top:hidden;border-bottom:hidden;\"><div align=\"center\"><small>Causal Model</small></div></td><td style=\"border-top:hidden;border-bottom:hidden;\"><div align=\"center\"><small>Explanation : Hedge Error: G={'Z2', 'Z1', 'X'}, G[S]={'Z2'}</small></div></td><td style=\"border-top:hidden;border-bottom:hidden;\"><div align=\"center\"><small>Impact : $?$</small></div></td></tr></table>"
      ],
      "text/plain": [
       "<IPython.core.display.HTML object>"
      ]
     },
     "metadata": {},
     "output_type": "display_data"
    }
   ],
   "source": [
    "bn = gum.fastBN(\"Z1->X->Z2->Y\")\n",
    "d=csl.CausalModel(bn,[(\"L1\",[\"Z1\",\"X\"]),\n",
    "                      (\"L2\",[\"Z1\",\"Z2\"]),\n",
    "                      (\"L3\",[\"Z1\",\"Y\"]),\n",
    "                      (\"L4\",[\"Y\",\"X\"])],\n",
    "                  True)\n",
    "cslnb.showCausalImpact(d,\"Y\",\"X\",values={\"X\":1})"
   ]
  },
  {
   "cell_type": "markdown",
   "metadata": {},
   "source": [
    "# FRONT DOOR EXAMPLE"
   ]
  },
  {
   "cell_type": "code",
   "execution_count": 5,
   "metadata": {
    "ExecuteTime": {
     "end_time": "2019-03-30T09:47:34.259441Z",
     "start_time": "2019-03-30T09:47:32.335346Z"
    }
   },
   "outputs": [
    {
     "data": {
      "text/html": [
       "<div align='center'><svg height=\"228pt\" viewBox=\"0.00 0.00 120.20 227.60\" width=\"120pt\" xmlns=\"http://www.w3.org/2000/svg\" xmlns:xlink=\"http://www.w3.org/1999/xlink\">\n",
       "<g class=\"graph\" id=\"graph0\" transform=\"scale(1 1) rotate(0) translate(4 223.6)\">\n",
       "<title>G</title>\n",
       "<polygon fill=\"#ffffff\" points=\"-4,4 -4,-223.6 116.1953,-223.6 116.1953,4 -4,4\" stroke=\"transparent\"/>\n",
       "<!-- Smoking -->\n",
       "<g class=\"node\" id=\"node1\">\n",
       "<title>Smoking</title>\n",
       "<ellipse cx=\"42.0478\" cy=\"-162\" fill=\"#404040\" rx=\"42.0956\" ry=\"18\" stroke=\"#000000\"/>\n",
       "<text fill=\"#ffffff\" font-family=\"Times,serif\" font-size=\"14.00\" text-anchor=\"middle\" x=\"42.0478\" y=\"-157.8\">Smoking</text>\n",
       "</g>\n",
       "<!-- Tar -->\n",
       "<g class=\"node\" id=\"node3\">\n",
       "<title>Tar</title>\n",
       "<ellipse cx=\"50.0478\" cy=\"-90\" fill=\"#404040\" rx=\"27\" ry=\"18\" stroke=\"#000000\"/>\n",
       "<text fill=\"#ffffff\" font-family=\"Times,serif\" font-size=\"14.00\" text-anchor=\"middle\" x=\"50.0478\" y=\"-85.8\">Tar</text>\n",
       "</g>\n",
       "<!-- Smoking&#45;&gt;Tar -->\n",
       "<g class=\"edge\" id=\"edge3\">\n",
       "<title>Smoking-&gt;Tar</title>\n",
       "<path d=\"M43.0727,-143.7209C43.9283,-136.0205 44.9457,-126.8639 45.8965,-118.3062\" fill=\"none\" stroke=\"#000000\"/>\n",
       "<path d=\"M45.0604,-143.9418C45.916,-136.2414 46.9334,-127.0848 47.8843,-118.5271\" fill=\"none\" stroke=\"#000000\"/>\n",
       "<polygon fill=\"#000000\" points=\"50.3761,-118.7386 48.0019,-108.4133 43.4189,-117.9656 50.3761,-118.7386\" stroke=\"#000000\"/>\n",
       "</g>\n",
       "<!-- Cancer -->\n",
       "<g class=\"node\" id=\"node2\">\n",
       "<title>Cancer</title>\n",
       "<ellipse cx=\"77.0478\" cy=\"-18\" fill=\"#404040\" rx=\"35.2956\" ry=\"18\" stroke=\"#000000\"/>\n",
       "<text fill=\"#ffffff\" font-family=\"Times,serif\" font-size=\"14.00\" text-anchor=\"middle\" x=\"77.0478\" y=\"-13.8\">Cancer</text>\n",
       "</g>\n",
       "<!-- Tar&#45;&gt;Cancer -->\n",
       "<g class=\"edge\" id=\"edge4\">\n",
       "<title>Tar-&gt;Cancer</title>\n",
       "<path d=\"M55.7856,-71.8511C58.8361,-63.7164 62.5177,-53.899 65.9047,-44.867\" fill=\"none\" stroke=\"#000000\"/>\n",
       "<path d=\"M57.6583,-72.5534C60.7088,-64.4186 64.3903,-54.6012 67.7773,-45.5693\" fill=\"none\" stroke=\"#000000\"/>\n",
       "<polygon fill=\"#000000\" points=\"70.1227,-46.4348 70.3568,-35.8425 63.5684,-43.9769 70.1227,-46.4348\" stroke=\"#000000\"/>\n",
       "</g>\n",
       "<!-- Genotype -->\n",
       "<g class=\"node\" id=\"node4\">\n",
       "<title>Genotype</title>\n",
       "<ellipse cx=\"77.0478\" cy=\"-217.8\" fill=\"#a08080\" rx=\"1.8\" ry=\"1.8\" stroke=\"#000000\"/>\n",
       "</g>\n",
       "<!-- Genotype&#45;&gt;Smoking -->\n",
       "<g class=\"edge\" id=\"edge1\">\n",
       "<title>Genotype-&gt;Smoking</title>\n",
       "<path d=\"M75.8833,-215.9434C73.0666,-211.4528 65.5841,-199.5236 58.3698,-188.022\" fill=\"none\" stroke=\"#000000\" stroke-dasharray=\"5,2\"/>\n",
       "<polygon fill=\"#000000\" points=\"61.2657,-186.0519 52.987,-179.4403 55.3357,-189.7715 61.2657,-186.0519\" stroke=\"#000000\"/>\n",
       "</g>\n",
       "<!-- Genotype&#45;&gt;Cancer -->\n",
       "<g class=\"edge\" id=\"edge2\">\n",
       "<title>Genotype-&gt;Cancer</title>\n",
       "<path d=\"M78.037,-216.146C81.0424,-211.0124 90.0433,-194.8057 93.0478,-180 102.481,-133.5139 92.668,-78.3499 84.7902,-45.8673\" fill=\"none\" stroke=\"#000000\" stroke-dasharray=\"5,2\"/>\n",
       "<polygon fill=\"#000000\" points=\"88.1787,-44.9903 82.3273,-36.1578 81.3936,-46.7114 88.1787,-44.9903\" stroke=\"#000000\"/>\n",
       "</g>\n",
       "</g>\n",
       "</svg></div>"
      ],
      "text/plain": [
       "<IPython.core.display.HTML object>"
      ]
     },
     "metadata": {},
     "output_type": "display_data"
    }
   ],
   "source": [
    "modele4 = gum.BayesNet()\n",
    "modele4.add(gum.LabelizedVariable(\"Smoking\"))\n",
    "modele4.add(gum.LabelizedVariable(\"Cancer\"))\n",
    "modele4.add(gum.LabelizedVariable(\"Tar\"))\n",
    "\n",
    "modele4.addArc(0,2)\n",
    "modele4.addArc(2,1)\n",
    "modele4.addArc(0,1)\n",
    "\n",
    "#Smoking\n",
    "modele4.cpt(0)[:]=[0.5, 0.5]\n",
    "\n",
    "#Tar\n",
    "modele4.cpt(2)[{\"Smoking\":0}] = [0.4, 0.6]\n",
    "modele4.cpt(2)[{\"Smoking\":1}] = [0.3, 0.6]\n",
    "\n",
    "#Cancer\n",
    "modele4.cpt(1)[{'Smoking':0,'Tar':0}]=[0.1,0.9] #No Drug, Male -> healed in 0.8 of cases\n",
    "modele4.cpt(1)[{'Smoking':0,'Tar':1}]=[0.15,0.85] #No Drug, Female -> healed in 0.4 of cases\n",
    "modele4.cpt(1)[{'Smoking':1,'Tar':0}]=[0.2,0.8] #Drug, Male -> healed 0.7 of cases \n",
    "modele4.cpt(1)[{'Smoking':1,'Tar':1}]=[0.25,0.75]\n",
    "\n",
    "d4 = csl.CausalModel(modele4, [(\"Genotype\", [\"Smoking\",\"Cancer\"])],False)\n",
    "cslnb.showCausalModel(d4)"
   ]
  },
  {
   "cell_type": "code",
   "execution_count": 6,
   "metadata": {
    "ExecuteTime": {
     "end_time": "2019-03-30T09:47:34.266672Z",
     "start_time": "2019-03-30T09:47:34.261668Z"
    }
   },
   "outputs": [],
   "source": [
    "try: \n",
    "    a = csl.doCalculusWithObservation (d4,\"Cancer\", {\"Smoking\"})\n",
    "except csl.HedgeException as h: \n",
    "    print (h.message)"
   ]
  },
  {
   "cell_type": "code",
   "execution_count": 7,
   "metadata": {
    "ExecuteTime": {
     "end_time": "2019-03-30T09:47:34.278604Z",
     "start_time": "2019-03-30T09:47:34.269804Z"
    }
   },
   "outputs": [
    {
     "data": {
      "text/latex": [
       "$\\displaystyle P( Cancer \\mid \\hookrightarrow\\mkern-6.5muSmoking) = \\sum_{Tar}{P\\left(Tar\\mid Smoking\\right) \\cdot \\left(\\sum_{Smoking'}{P\\left(Smoking'\\right) \\cdot P\\left(Cancer\\mid Smoking',Tar\\right)}\\right)}$"
      ],
      "text/plain": [
       "<IPython.core.display.Math object>"
      ]
     },
     "metadata": {},
     "output_type": "display_data"
    }
   ],
   "source": [
    "display(Math(a.toLatex()))"
   ]
  },
  {
   "cell_type": "code",
   "execution_count": 8,
   "metadata": {
    "ExecuteTime": {
     "end_time": "2019-03-30T09:47:34.286144Z",
     "start_time": "2019-03-30T09:47:34.281296Z"
    }
   },
   "outputs": [
    {
     "name": "stdout",
     "output_type": "stream",
     "text": [
      "<Cancer:0|Smoking:0> :: 0.177368 /<Cancer:1|Smoking:0> :: 0.822632 /<Cancer:0|Smoking:1> :: 0.162632 /<Cancer:1|Smoking:1> :: 0.737368\n"
     ]
    }
   ],
   "source": [
    "try: \n",
    "    adjj = a.eval()\n",
    "except csl.UnidentifiableException as u: \n",
    "    print (u.message)\n",
    "    \n",
    "print (adjj)\n"
   ]
  },
  {
   "cell_type": "code",
   "execution_count": 9,
   "metadata": {
    "ExecuteTime": {
     "end_time": "2019-03-30T09:47:34.295089Z",
     "start_time": "2019-03-30T09:47:34.288571Z"
    }
   },
   "outputs": [],
   "source": [
    "formula, adj, exp = csl.causalImpact(d4, \"Cancer\", \"Smoking\",values={\"Smoking\":0})"
   ]
  },
  {
   "cell_type": "code",
   "execution_count": 10,
   "metadata": {
    "ExecuteTime": {
     "end_time": "2019-03-30T09:47:34.305804Z",
     "start_time": "2019-03-30T09:47:34.297727Z"
    }
   },
   "outputs": [
    {
     "data": {
      "text/latex": [
       "$\\displaystyle P( Cancer \\mid \\hookrightarrow\\mkern-6.5muSmoking) = \\sum_{Tar}{P\\left(Tar\\mid Smoking\\right) \\cdot \\left(\\sum_{Smoking'}{P\\left(Cancer\\mid Smoking',Tar\\right) \\cdot P\\left(Smoking'\\right)}\\right)}$"
      ],
      "text/plain": [
       "<IPython.core.display.Math object>"
      ]
     },
     "metadata": {},
     "output_type": "display_data"
    },
    {
     "data": {
      "text/html": [
       "<table style=\"border:1px solid black;\">\n",
       "<tr style='border:1px solid black;color:black;background-color:#808080'><th colspan='2'><center>Cancer</center></th></tr>\n",
       "<tr><th style='border:1px solid black;border-bottom-style: double;color:black;background-color:#BBBBBB'><center>0</center></th><th style='border:1px solid black;border-bottom-style: double;color:black;background-color:#BBBBBB'><center>1</center></th></tr>\n",
       "<tr><td style='color:black;background-color:#e89564;text-align:right;'>0.1774</td><td style='color:black;background-color:#95e864;text-align:right;'>0.8226</td></tr>\n",
       "</table>"
      ],
      "text/plain": [
       "(gum::Potential<double>@0x7f9152e37040) <Cancer:0> :: 0.177368 /<Cancer:1> :: 0.822632"
      ]
     },
     "execution_count": 10,
     "metadata": {},
     "output_type": "execute_result"
    }
   ],
   "source": [
    "display(Math(formula.toLatex()))\n",
    "adj"
   ]
  },
  {
   "cell_type": "markdown",
   "metadata": {},
   "source": [
    "  # Last example from R "
   ]
  },
  {
   "cell_type": "code",
   "execution_count": 11,
   "metadata": {
    "ExecuteTime": {
     "end_time": "2019-03-30T09:47:36.642701Z",
     "start_time": "2019-03-30T09:47:34.308047Z"
    }
   },
   "outputs": [
    {
     "data": {
      "text/html": [
       "<div align='center'><svg height=\"288pt\" viewBox=\"0.00 0.00 193.21 288.00\" width=\"193pt\" xmlns=\"http://www.w3.org/2000/svg\" xmlns:xlink=\"http://www.w3.org/1999/xlink\">\n",
       "<g class=\"graph\" id=\"graph0\" transform=\"scale(.9613 .9613) rotate(0) translate(4 295.6)\">\n",
       "<title>G</title>\n",
       "<polygon fill=\"#ffffff\" points=\"-4,4 -4,-295.6 196.9885,-295.6 196.9885,4 -4,4\" stroke=\"transparent\"/>\n",
       "<!-- z2 -->\n",
       "<g class=\"node\" id=\"node1\">\n",
       "<title>z2</title>\n",
       "<ellipse cx=\"93.5326\" cy=\"-234\" fill=\"#404040\" rx=\"27\" ry=\"18\" stroke=\"#000000\"/>\n",
       "<text fill=\"#ffffff\" font-family=\"Times,serif\" font-size=\"14.00\" text-anchor=\"middle\" x=\"93.5326\" y=\"-229.8\">z2</text>\n",
       "</g>\n",
       "<!-- x -->\n",
       "<g class=\"node\" id=\"node2\">\n",
       "<title>x</title>\n",
       "<ellipse cx=\"148.5326\" cy=\"-162\" fill=\"#404040\" rx=\"27\" ry=\"18\" stroke=\"#000000\"/>\n",
       "<text fill=\"#ffffff\" font-family=\"Times,serif\" font-size=\"14.00\" text-anchor=\"middle\" x=\"148.5326\" y=\"-157.8\">x</text>\n",
       "</g>\n",
       "<!-- z2&#45;&gt;x -->\n",
       "<g class=\"edge\" id=\"edge1\">\n",
       "<title>z2-&gt;x</title>\n",
       "<path d=\"M105.2183,-217.055C112.2504,-207.8494 121.1726,-196.1694 129.0262,-185.8883\" fill=\"none\" stroke=\"#000000\"/>\n",
       "<path d=\"M106.8076,-218.2691C113.8397,-209.0635 122.762,-197.3835 130.6156,-187.1024\" fill=\"none\" stroke=\"#000000\"/>\n",
       "<polygon fill=\"#000000\" points=\"132.8126,-188.3446 136.1017,-178.2733 127.2499,-184.0953 132.8126,-188.3446\" stroke=\"#000000\"/>\n",
       "</g>\n",
       "<!-- z1 -->\n",
       "<g class=\"node\" id=\"node3\">\n",
       "<title>z1</title>\n",
       "<ellipse cx=\"93.5326\" cy=\"-90\" fill=\"#404040\" rx=\"27\" ry=\"18\" stroke=\"#000000\"/>\n",
       "<text fill=\"#ffffff\" font-family=\"Times,serif\" font-size=\"14.00\" text-anchor=\"middle\" x=\"93.5326\" y=\"-85.8\">z1</text>\n",
       "</g>\n",
       "<!-- z2&#45;&gt;z1 -->\n",
       "<g class=\"edge\" id=\"edge14\">\n",
       "<title>z2-&gt;z1</title>\n",
       "<path d=\"M92.5326,-215.7623C92.5326,-191.201 92.5326,-147.2474 92.5326,-118.3541\" fill=\"none\" stroke=\"#000000\"/>\n",
       "<path d=\"M94.5326,-215.7623C94.5326,-191.201 94.5326,-147.2474 94.5326,-118.3541\" fill=\"none\" stroke=\"#000000\"/>\n",
       "<polygon fill=\"#000000\" points=\"97.0327,-118.0896 93.5326,-108.0896 90.0327,-118.0897 97.0327,-118.0896\" stroke=\"#000000\"/>\n",
       "</g>\n",
       "<!-- z3 -->\n",
       "<g class=\"node\" id=\"node5\">\n",
       "<title>z3</title>\n",
       "<ellipse cx=\"38.5326\" cy=\"-162\" fill=\"#404040\" rx=\"27\" ry=\"18\" stroke=\"#000000\"/>\n",
       "<text fill=\"#ffffff\" font-family=\"Times,serif\" font-size=\"14.00\" text-anchor=\"middle\" x=\"38.5326\" y=\"-157.8\">z3</text>\n",
       "</g>\n",
       "<!-- z2&#45;&gt;z3 -->\n",
       "<g class=\"edge\" id=\"edge10\">\n",
       "<title>z2-&gt;z3</title>\n",
       "<path d=\"M80.2576,-218.2691C73.2255,-209.0635 64.3033,-197.3835 56.4497,-187.1024\" fill=\"none\" stroke=\"#000000\"/>\n",
       "<path d=\"M81.8469,-217.055C74.8148,-207.8494 65.8926,-196.1694 58.039,-185.8883\" fill=\"none\" stroke=\"#000000\"/>\n",
       "<polygon fill=\"#000000\" points=\"59.8154,-184.0953 50.9636,-178.2733 54.2527,-188.3446 59.8154,-184.0953\" stroke=\"#000000\"/>\n",
       "</g>\n",
       "<!-- x&#45;&gt;z1 -->\n",
       "<g class=\"edge\" id=\"edge5\">\n",
       "<title>x-&gt;z1</title>\n",
       "<path d=\"M135.2576,-146.2691C128.2255,-137.0635 119.3033,-125.3835 111.4497,-115.1024\" fill=\"none\" stroke=\"#000000\"/>\n",
       "<path d=\"M136.8469,-145.055C129.8148,-135.8494 120.8926,-124.1694 113.039,-113.8883\" fill=\"none\" stroke=\"#000000\"/>\n",
       "<polygon fill=\"#000000\" points=\"114.8154,-112.0953 105.9636,-106.2733 109.2527,-116.3446 114.8154,-112.0953\" stroke=\"#000000\"/>\n",
       "</g>\n",
       "<!-- y -->\n",
       "<g class=\"node\" id=\"node4\">\n",
       "<title>y</title>\n",
       "<ellipse cx=\"65.5326\" cy=\"-18\" fill=\"#404040\" rx=\"27\" ry=\"18\" stroke=\"#000000\"/>\n",
       "<text fill=\"#ffffff\" font-family=\"Times,serif\" font-size=\"14.00\" text-anchor=\"middle\" x=\"65.5326\" y=\"-13.8\">y</text>\n",
       "</g>\n",
       "<!-- z1&#45;&gt;y -->\n",
       "<g class=\"edge\" id=\"edge9\">\n",
       "<title>z1-&gt;y</title>\n",
       "<path d=\"M85.8226,-72.9333C82.6134,-64.6811 78.7071,-54.6362 75.1248,-45.4247\" fill=\"none\" stroke=\"#000000\"/>\n",
       "<path d=\"M87.6866,-72.2084C84.4774,-63.9562 80.5711,-53.9113 76.9888,-44.6998\" fill=\"none\" stroke=\"#000000\"/>\n",
       "<polygon fill=\"#000000\" points=\"79.2318,-43.5697 72.3453,-35.5182 72.7078,-46.1069 79.2318,-43.5697\" stroke=\"#000000\"/>\n",
       "</g>\n",
       "<!-- z3&#45;&gt;y -->\n",
       "<g class=\"edge\" id=\"edge12\">\n",
       "<title>z3-&gt;y</title>\n",
       "<path d=\"M40.9147,-143.8692C45.5227,-119.2931 53.8434,-74.9165 59.2815,-45.9132\" fill=\"none\" stroke=\"#000000\"/>\n",
       "<path d=\"M42.8805,-144.2377C47.4885,-119.6617 55.8091,-75.285 61.2472,-46.2817\" fill=\"none\" stroke=\"#000000\"/>\n",
       "<polygon fill=\"#000000\" points=\"63.7223,-46.6465 62.1252,-36.1727 56.8422,-45.3564 63.7223,-46.6465\" stroke=\"#000000\"/>\n",
       "</g>\n",
       "<!-- X&#45;Z2 -->\n",
       "<g class=\"node\" id=\"node6\">\n",
       "<title>X-Z2</title>\n",
       "<ellipse cx=\"120.5326\" cy=\"-289.8\" fill=\"#a08080\" rx=\"1.8\" ry=\"1.8\" stroke=\"#000000\"/>\n",
       "</g>\n",
       "<!-- X&#45;Z2&#45;&gt;z2 -->\n",
       "<g class=\"edge\" id=\"edge11\">\n",
       "<title>X-Z2-&gt;z2</title>\n",
       "<path d=\"M119.6343,-287.9434C117.4897,-283.5113 111.839,-271.8332 106.3415,-260.4717\" fill=\"none\" stroke=\"#000000\" stroke-dasharray=\"5,2\"/>\n",
       "<polygon fill=\"#000000\" points=\"109.3462,-258.6457 101.84,-251.1686 103.0451,-261.6947 109.3462,-258.6457\" stroke=\"#000000\"/>\n",
       "</g>\n",
       "<!-- X&#45;Z2&#45;&gt;x -->\n",
       "<g class=\"edge\" id=\"edge13\">\n",
       "<title>X-Z2-&gt;x</title>\n",
       "<path d=\"M121.0389,-287.7556C122.4383,-282.0879 126.4582,-265.6906 129.5326,-252 134.1907,-231.2573 139.1422,-207.75 142.8223,-189.9626\" fill=\"none\" stroke=\"#000000\" stroke-dasharray=\"5,2\"/>\n",
       "<polygon fill=\"#000000\" points=\"146.2933,-190.4597 144.8827,-179.9592 139.4372,-189.0474 146.2933,-190.4597\" stroke=\"#000000\"/>\n",
       "</g>\n",
       "<!-- X&#45;Z3 -->\n",
       "<g class=\"node\" id=\"node7\">\n",
       "<title>X-Z3</title>\n",
       "<ellipse cx=\"42.5326\" cy=\"-234\" fill=\"#a08080\" rx=\"1.8\" ry=\"1.8\" stroke=\"#000000\"/>\n",
       "</g>\n",
       "<!-- X&#45;Z3&#45;&gt;x -->\n",
       "<g class=\"edge\" id=\"edge7\">\n",
       "<title>X-Z3-&gt;x</title>\n",
       "<path d=\"M43.7618,-232.1374C46.123,-228.6581 51.5883,-221.0661 57.5326,-216 75.6303,-200.576 98.6909,-186.9443 117.0692,-177.2355\" fill=\"none\" stroke=\"#000000\" stroke-dasharray=\"5,2\"/>\n",
       "<polygon fill=\"#000000\" points=\"118.9173,-180.2205 126.2019,-172.5274 115.7097,-173.9987 118.9173,-180.2205\" stroke=\"#000000\"/>\n",
       "</g>\n",
       "<!-- X&#45;Z3&#45;&gt;z3 -->\n",
       "<g class=\"edge\" id=\"edge4\">\n",
       "<title>X-Z3-&gt;z3</title>\n",
       "<path d=\"M42.4172,-231.9228C42.0747,-225.7569 41.0302,-206.9566 40.1105,-190.4022\" fill=\"none\" stroke=\"#000000\" stroke-dasharray=\"5,2\"/>\n",
       "<polygon fill=\"#000000\" points=\"43.5822,-189.7936 39.5328,-180.0032 36.593,-190.182 43.5822,-189.7936\" stroke=\"#000000\"/>\n",
       "</g>\n",
       "<!-- X&#45;Y -->\n",
       "<g class=\"node\" id=\"node8\">\n",
       "<title>X-Y</title>\n",
       "<ellipse cx=\"190.5326\" cy=\"-234\" fill=\"#a08080\" rx=\"1.8\" ry=\"1.8\" stroke=\"#000000\"/>\n",
       "</g>\n",
       "<!-- X&#45;Y&#45;&gt;x -->\n",
       "<g class=\"edge\" id=\"edge6\">\n",
       "<title>X-Y-&gt;x</title>\n",
       "<path d=\"M189.4944,-232.2202C185.9016,-226.061 173.6599,-205.0754 163.4872,-187.6365\" fill=\"none\" stroke=\"#000000\" stroke-dasharray=\"5,2\"/>\n",
       "<polygon fill=\"#000000\" points=\"166.4749,-185.8119 158.4129,-178.9377 160.4285,-189.339 166.4749,-185.8119\" stroke=\"#000000\"/>\n",
       "</g>\n",
       "<!-- X&#45;Y&#45;&gt;y -->\n",
       "<g class=\"edge\" id=\"edge2\">\n",
       "<title>X-Y-&gt;y</title>\n",
       "<path d=\"M190.7837,-232.205C192.0392,-222.7003 197.0918,-177.4223 184.5326,-144 167.0003,-97.3436 122.3327,-58.3114 92.987,-36.5713\" fill=\"none\" stroke=\"#000000\" stroke-dasharray=\"5,2\"/>\n",
       "<polygon fill=\"#000000\" points=\"94.9415,-33.6655 84.7854,-30.6481 90.8431,-39.3403 94.9415,-33.6655\" stroke=\"#000000\"/>\n",
       "</g>\n",
       "<!-- Y&#45;Z2 -->\n",
       "<g class=\"node\" id=\"node9\">\n",
       "<title>Y-Z2</title>\n",
       "<ellipse cx=\"54.5326\" cy=\"-289.8\" fill=\"#a08080\" rx=\"1.8\" ry=\"1.8\" stroke=\"#000000\"/>\n",
       "</g>\n",
       "<!-- Y&#45;Z2&#45;&gt;z2 -->\n",
       "<g class=\"edge\" id=\"edge8\">\n",
       "<title>Y-Z2-&gt;z2</title>\n",
       "<path d=\"M55.8302,-287.9434C59.0847,-283.287 67.929,-270.6328 76.2339,-258.7505\" fill=\"none\" stroke=\"#000000\" stroke-dasharray=\"5,2\"/>\n",
       "<polygon fill=\"#000000\" points=\"79.2381,-260.5616 82.0981,-250.3601 73.5006,-256.5515 79.2381,-260.5616\" stroke=\"#000000\"/>\n",
       "</g>\n",
       "<!-- Y&#45;Z2&#45;&gt;y -->\n",
       "<g class=\"edge\" id=\"edge3\">\n",
       "<title>Y-Z2-&gt;y</title>\n",
       "<path d=\"M53.3632,-288.3996C44.4482,-277.5534 -12.039,-205.7265 2.5326,-144 11.3517,-106.6418 33.037,-67.7312 48.4975,-43.2136\" fill=\"none\" stroke=\"#000000\" stroke-dasharray=\"5,2\"/>\n",
       "<polygon fill=\"#000000\" points=\"51.6026,-44.8565 54.0783,-34.555 45.7189,-41.0642 51.6026,-44.8565\" stroke=\"#000000\"/>\n",
       "</g>\n",
       "</g>\n",
       "</svg></div>"
      ],
      "text/plain": [
       "<IPython.core.display.HTML object>"
      ]
     },
     "metadata": {},
     "output_type": "display_data"
    }
   ],
   "source": [
    "m = gum.fastBN(\"z2->x->z1->y;z2->z1;z2->z3->y\")\n",
    "\n",
    "m.cpt(\"z2\") [:] = [0.5, 0.5]\n",
    "m.cpt(\"x\") [:] = [[0.4,0.6], #z2=0\n",
    "                  [0.4,0.6]] #z2=1\n",
    "m.cpt(\"z3\") [:] = [[0.3,0.7], #z2=0\n",
    "                   [0.3,0.7]] #z2=1\n",
    "m.cpt(\"z1\")[{\"z2\":0, \"x\":0}]= [0.2, 0.8]\n",
    "m.cpt(\"z1\")[{\"z2\":0, \"x\":1}]= [0.25, 0.75]\n",
    "m.cpt(\"z1\")[{\"z2\":1, \"x\":0}]= [0.1, 0.9]\n",
    "m.cpt(\"z1\")[{\"z2\":1, \"x\":1}]= [0.15, 0.85]\n",
    "\n",
    "m.cpt(\"y\")[{\"z1\":0,\"z3\":0}]= [0.5,0.5]\n",
    "m.cpt(\"y\")[{\"z1\":0,\"z3\":1}]= [0.45,0.55]\n",
    "m.cpt(\"y\")[{\"z1\":1,\"z3\":0}]= [0.4,0.6]\n",
    "m.cpt(\"y\")[{\"z1\":1,\"z3\":1}]= [0.35,0.65]\n",
    "\n",
    "\n",
    "d = csl.CausalModel(m, [(\"X-Z2\",[\"x\",\"z2\"]), \n",
    "                        (\"X-Z3\",[\"x\",\"z3\"]), \n",
    "                        (\"X-Y\",[\"x\",\"y\"]), \n",
    "                        (\"Y-Z2\",[\"y\",\"z2\"])],\n",
    "                    True)\n",
    "\n",
    "cslnb.showCausalModel(d)"
   ]
  },
  {
   "cell_type": "code",
   "execution_count": 12,
   "metadata": {
    "ExecuteTime": {
     "end_time": "2019-03-30T09:47:36.674695Z",
     "start_time": "2019-03-30T09:47:36.647288Z"
    }
   },
   "outputs": [
    {
     "name": "stdout",
     "output_type": "stream",
     "text": [
      "Do-calculus computations\n"
     ]
    },
    {
     "data": {
      "text/latex": [
       "$\\displaystyle P( z2,z1,y,z3 \\mid \\hookrightarrow\\mkern-6.5mux) = P\\left(z3\\mid z2\\right) \\cdot P\\left(z1\\mid x,z2\\right) \\cdot P\\left(z2\\right) \\cdot  \\frac {\\sum_{x'}{P\\left(z2\\right) \\cdot P\\left(y\\mid x',z1,z2,z3\\right) \\cdot P\\left(x'\\mid z2\\right) \\cdot P\\left(z3\\mid x',z2\\right)}}{\\sum_{x',y'}{P\\left(z2\\right) \\cdot P\\left(y'\\mid x',z1,z2,z3\\right) \\cdot P\\left(x'\\mid z2\\right) \\cdot P\\left(z3\\mid x',z2\\right)}}$"
      ],
      "text/plain": [
       "<IPython.core.display.Math object>"
      ]
     },
     "metadata": {},
     "output_type": "display_data"
    }
   ],
   "source": [
    "try:\n",
    "    formula,result,msg = csl.causalImpact(d,on={\"y\",\"z2\",\"z1\",\"z3\"},doing={\"x\"})\n",
    "except csl.HedgeException as h:\n",
    "    print (h.message)\n",
    "    \n",
    "print(msg)\n",
    "display(Math(formula.toLatex()))"
   ]
  },
  {
   "cell_type": "code",
   "execution_count": 13,
   "metadata": {
    "ExecuteTime": {
     "end_time": "2019-03-30T09:47:36.683790Z",
     "start_time": "2019-03-30T09:47:36.676831Z"
    }
   },
   "outputs": [],
   "source": [
    "# computation for this formula directly in pyAgrum\n",
    "f1=m.cpt(\"x\")*m.cpt(\"z2\")*m.cpt(\"z3\")*m.cpt(\"y\")\n",
    "f2=f1.margSumOut([\"x\"])\n",
    "f3=f1.margSumOut([\"x\",\"y\"])\n",
    "f4=f2/f3\n",
    "pyResult=m.cpt(\"z3\")*m.cpt(\"z1\")*m.cpt(\"z2\")*f4"
   ]
  },
  {
   "cell_type": "code",
   "execution_count": 14,
   "metadata": {
    "ExecuteTime": {
     "end_time": "2019-03-30T09:47:36.694555Z",
     "start_time": "2019-03-30T09:47:36.685828Z"
    }
   },
   "outputs": [
    {
     "name": "stdout",
     "output_type": "stream",
     "text": [
      "According to [ref], the result should be :\n"
     ]
    },
    {
     "data": {
      "text/latex": [
       "$\\displaystyle P\\left(z1\\mid x,z2\\right) \\cdot \\left(\\sum_{x}{P\\left(y,z3\\mid z1,z2\\right) \\cdot P\\left(x,z2\\right)}\\right)$"
      ],
      "text/plain": [
       "<IPython.core.display.Math object>"
      ]
     },
     "metadata": {},
     "output_type": "display_data"
    }
   ],
   "source": [
    "# computation for this formula directly by creating the causal AST\n",
    "a = csl.ASTposteriorProba(m,{\"z1\"},{\"x\",\"z2\"})\n",
    "b= csl.ASTposteriorProba(m,{\"y\",\"z3\"},{\"x\",\"z1\",\"z2\"})\n",
    "c = csl.ASTjointProba([\"x\",\"z2\"])\n",
    "correct = csl.ASTmult(a,csl.ASTsum([\"x\"],csl.ASTmult(b,c)))\n",
    "\n",
    "print(\"According to [ref], the result should be :\")\n",
    "display(Math(correct.toLatex()))"
   ]
  },
  {
   "cell_type": "code",
   "execution_count": 15,
   "metadata": {
    "ExecuteTime": {
     "end_time": "2019-03-30T09:47:36.704823Z",
     "start_time": "2019-03-30T09:47:36.697245Z"
    }
   },
   "outputs": [],
   "source": [
    "# computation for that formula\n",
    "ie=gum.LazyPropagation(m)\n",
    "refResult=(ie.evidenceJointImpact([\"y\",\"z3\"],[\"x\",\"z1\",\"z2\"])*\n",
    "     ie.evidenceJointImpact([\"x\",\"z2\"],[])\n",
    "    ).margSumOut([\"x\"])* m.cpt(\"z1\")\n"
   ]
  },
  {
   "cell_type": "code",
   "execution_count": 16,
   "metadata": {
    "ExecuteTime": {
     "end_time": "2019-03-30T09:47:36.712720Z",
     "start_time": "2019-03-30T09:47:36.707153Z"
    }
   },
   "outputs": [
    {
     "name": "stdout",
     "output_type": "stream",
     "text": [
      "Maximum error between these 3 versions : 5.551115123125783e-17\n"
     ]
    }
   ],
   "source": [
    "print(\"Maximum error between these 3 versions : {}\".format(max((refResult-pyResult).abs().max(),\n",
    "                                                               (refResult-result).abs().max(),\n",
    "                                                               (pyResult-result).abs().max())))"
   ]
  },
  {
   "cell_type": "markdown",
   "metadata": {},
   "source": [
    "# Unidentifiabilty\n"
   ]
  },
  {
   "cell_type": "code",
   "execution_count": 17,
   "metadata": {
    "ExecuteTime": {
     "end_time": "2019-03-30T09:47:38.846042Z",
     "start_time": "2019-03-30T09:47:36.715078Z"
    }
   },
   "outputs": [
    {
     "data": {
      "text/html": [
       "<div align='center'><svg height=\"288pt\" viewBox=\"0.00 0.00 148.39 288.00\" width=\"148pt\" xmlns=\"http://www.w3.org/2000/svg\" xmlns:xlink=\"http://www.w3.org/1999/xlink\">\n",
       "<g class=\"graph\" id=\"graph0\" transform=\"scale(.9613 .9613) rotate(0) translate(4 295.6)\">\n",
       "<title>G</title>\n",
       "<polygon fill=\"#ffffff\" points=\"-4,4 -4,-295.6 150.3676,-295.6 150.3676,4 -4,4\" stroke=\"transparent\"/>\n",
       "<!-- z1 -->\n",
       "<g class=\"node\" id=\"node1\">\n",
       "<title>z1</title>\n",
       "<ellipse cx=\"38.3676\" cy=\"-234\" fill=\"#404040\" rx=\"27\" ry=\"18\" stroke=\"#000000\"/>\n",
       "<text fill=\"#ffffff\" font-family=\"Times,serif\" font-size=\"14.00\" text-anchor=\"middle\" x=\"38.3676\" y=\"-229.8\">z1</text>\n",
       "</g>\n",
       "<!-- x -->\n",
       "<g class=\"node\" id=\"node2\">\n",
       "<title>x</title>\n",
       "<ellipse cx=\"64.3676\" cy=\"-162\" fill=\"#404040\" rx=\"27\" ry=\"18\" stroke=\"#000000\"/>\n",
       "<text fill=\"#ffffff\" font-family=\"Times,serif\" font-size=\"14.00\" text-anchor=\"middle\" x=\"64.3676\" y=\"-157.8\">x</text>\n",
       "</g>\n",
       "<!-- z1&#45;&gt;x -->\n",
       "<g class=\"edge\" id=\"edge1\">\n",
       "<title>z1-&gt;x</title>\n",
       "<path d=\"M43.854,-215.8626C46.8136,-207.6667 50.3901,-197.7627 53.6718,-188.6749\" fill=\"none\" stroke=\"#000000\"/>\n",
       "<path d=\"M45.7351,-216.5419C48.6947,-208.346 52.2712,-198.442 55.5529,-189.3542\" fill=\"none\" stroke=\"#000000\"/>\n",
       "<polygon fill=\"#000000\" points=\"57.91,-190.1874 58.0146,-179.593 51.3261,-187.8098 57.91,-190.1874\" stroke=\"#000000\"/>\n",
       "</g>\n",
       "<!-- z2 -->\n",
       "<g class=\"node\" id=\"node3\">\n",
       "<title>z2</title>\n",
       "<ellipse cx=\"64.3676\" cy=\"-90\" fill=\"#404040\" rx=\"27\" ry=\"18\" stroke=\"#000000\"/>\n",
       "<text fill=\"#ffffff\" font-family=\"Times,serif\" font-size=\"14.00\" text-anchor=\"middle\" x=\"64.3676\" y=\"-85.8\">z2</text>\n",
       "</g>\n",
       "<!-- x&#45;&gt;z2 -->\n",
       "<g class=\"edge\" id=\"edge3\">\n",
       "<title>x-&gt;z2</title>\n",
       "<path d=\"M63.3676,-143.8314C63.3676,-136.131 63.3676,-126.9743 63.3676,-118.4166\" fill=\"none\" stroke=\"#000000\"/>\n",
       "<path d=\"M65.3676,-143.8314C65.3676,-136.131 65.3676,-126.9743 65.3676,-118.4166\" fill=\"none\" stroke=\"#000000\"/>\n",
       "<polygon fill=\"#000000\" points=\"67.8677,-118.4132 64.3676,-108.4133 60.8677,-118.4133 67.8677,-118.4132\" stroke=\"#000000\"/>\n",
       "</g>\n",
       "<!-- y -->\n",
       "<g class=\"node\" id=\"node4\">\n",
       "<title>y</title>\n",
       "<ellipse cx=\"119.3676\" cy=\"-18\" fill=\"#404040\" rx=\"27\" ry=\"18\" stroke=\"#000000\"/>\n",
       "<text fill=\"#ffffff\" font-family=\"Times,serif\" font-size=\"14.00\" text-anchor=\"middle\" x=\"119.3676\" y=\"-13.8\">y</text>\n",
       "</g>\n",
       "<!-- z2&#45;&gt;y -->\n",
       "<g class=\"edge\" id=\"edge8\">\n",
       "<title>z2-&gt;y</title>\n",
       "<path d=\"M76.0533,-73.055C83.0854,-63.8494 92.0076,-52.1694 99.8612,-41.8883\" fill=\"none\" stroke=\"#000000\"/>\n",
       "<path d=\"M77.6426,-74.2691C84.6747,-65.0635 93.5969,-53.3835 101.4506,-43.1024\" fill=\"none\" stroke=\"#000000\"/>\n",
       "<polygon fill=\"#000000\" points=\"103.6475,-44.3446 106.9366,-34.2733 98.0848,-40.0953 103.6475,-44.3446\" stroke=\"#000000\"/>\n",
       "</g>\n",
       "<!-- Z1−X -->\n",
       "<g class=\"node\" id=\"node5\">\n",
       "<title>Z1−X</title>\n",
       "<ellipse cx=\"57.3676\" cy=\"-289.8\" fill=\"#a08080\" rx=\"1.8\" ry=\"1.8\" stroke=\"#000000\"/>\n",
       "</g>\n",
       "<!-- Z1−X&#45;&gt;z1 -->\n",
       "<g class=\"edge\" id=\"edge5\">\n",
       "<title>Z1−X-&gt;z1</title>\n",
       "<path d=\"M56.7354,-287.9434C55.2613,-283.6141 51.433,-272.3711 47.6507,-261.2629\" fill=\"none\" stroke=\"#000000\" stroke-dasharray=\"5,2\"/>\n",
       "<polygon fill=\"#000000\" points=\"50.9354,-260.0511 44.3989,-251.713 44.309,-262.3074 50.9354,-260.0511\" stroke=\"#000000\"/>\n",
       "</g>\n",
       "<!-- Z1−X&#45;&gt;x -->\n",
       "<g class=\"edge\" id=\"edge10\">\n",
       "<title>Z1−X-&gt;x</title>\n",
       "<path d=\"M58.418,-288.1557C61.6093,-283.0501 71.168,-266.9154 74.3676,-252 78.8055,-231.3122 75.8133,-207.5017 71.9768,-189.5697\" fill=\"none\" stroke=\"#000000\" stroke-dasharray=\"5,2\"/>\n",
       "<polygon fill=\"#000000\" points=\"75.3661,-188.6925 69.6701,-179.759 68.5519,-190.2947 75.3661,-188.6925\" stroke=\"#000000\"/>\n",
       "</g>\n",
       "<!-- Z1&#45;Y -->\n",
       "<g class=\"node\" id=\"node6\">\n",
       "<title>Z1-Y</title>\n",
       "<ellipse cx=\"125.3676\" cy=\"-289.8\" fill=\"#a08080\" rx=\"1.8\" ry=\"1.8\" stroke=\"#000000\"/>\n",
       "</g>\n",
       "<!-- Z1&#45;Y&#45;&gt;z1 -->\n",
       "<g class=\"edge\" id=\"edge9\">\n",
       "<title>Z1-Y-&gt;z1</title>\n",
       "<path d=\"M123.5505,-288.6345C116.2587,-283.9577 88.4614,-266.1291 66.5785,-252.0939\" fill=\"none\" stroke=\"#000000\" stroke-dasharray=\"5,2\"/>\n",
       "<polygon fill=\"#000000\" points=\"68.2466,-249.0057 57.9395,-246.553 64.4674,-254.898 68.2466,-249.0057\" stroke=\"#000000\"/>\n",
       "</g>\n",
       "<!-- Z1&#45;Y&#45;&gt;y -->\n",
       "<g class=\"edge\" id=\"edge11\">\n",
       "<title>Z1-Y-&gt;y</title>\n",
       "<path d=\"M126.0154,-287.7802C127.7764,-282.1755 132.6347,-265.9242 134.3676,-252 144.2476,-172.6124 145.7225,-151.1901 134.3676,-72 133.1109,-63.2354 130.8522,-53.8785 128.4627,-45.4579\" fill=\"none\" stroke=\"#000000\" stroke-dasharray=\"5,2\"/>\n",
       "<polygon fill=\"#000000\" points=\"131.7756,-44.3206 125.5418,-35.7538 125.0727,-46.3382 131.7756,-44.3206\" stroke=\"#000000\"/>\n",
       "</g>\n",
       "<!-- Z1&#45;Z1 -->\n",
       "<g class=\"node\" id=\"node7\">\n",
       "<title>Z1-Z1</title>\n",
       "<ellipse cx=\"19.3676\" cy=\"-289.8\" fill=\"#a08080\" rx=\"1.8\" ry=\"1.8\" stroke=\"#000000\"/>\n",
       "</g>\n",
       "<!-- Z1&#45;Z1&#45;&gt;z1 -->\n",
       "<g class=\"edge\" id=\"edge6\">\n",
       "<title>Z1-Z1-&gt;z1</title>\n",
       "<path d=\"M19.9998,-287.9434C21.4739,-283.6141 25.3022,-272.3711 29.0845,-261.2629\" fill=\"none\" stroke=\"#000000\" stroke-dasharray=\"5,2\"/>\n",
       "<polygon fill=\"#000000\" points=\"32.4261,-262.3074 32.3363,-251.713 25.7997,-260.0511 32.4261,-262.3074\" stroke=\"#000000\"/>\n",
       "</g>\n",
       "<!-- Z1&#45;Z1&#45;&gt;z2 -->\n",
       "<g class=\"edge\" id=\"edge7\">\n",
       "<title>Z1-Z1-&gt;z2</title>\n",
       "<path d=\"M18.3172,-288.1557C15.1259,-283.0501 5.5672,-266.9154 2.3676,-252 -.9884,-236.3559 -.3909,-231.7604 2.3676,-216 8.2332,-182.4869 13.0421,-174.3753 28.3676,-144 33.3922,-134.0411 39.9145,-123.709 46.0246,-114.7817\" fill=\"none\" stroke=\"#000000\" stroke-dasharray=\"5,2\"/>\n",
       "<polygon fill=\"#000000\" points=\"49.0374,-116.5819 51.9266,-106.3886 43.3114,-112.5554 49.0374,-116.5819\" stroke=\"#000000\"/>\n",
       "</g>\n",
       "<!-- X−Y -->\n",
       "<g class=\"node\" id=\"node8\">\n",
       "<title>X−Y</title>\n",
       "<ellipse cx=\"123.3676\" cy=\"-234\" fill=\"#a08080\" rx=\"1.8\" ry=\"1.8\" stroke=\"#000000\"/>\n",
       "</g>\n",
       "<!-- X−Y&#45;&gt;x -->\n",
       "<g class=\"edge\" id=\"edge4\">\n",
       "<title>X−Y-&gt;x</title>\n",
       "<path d=\"M122.1353,-232.4962C117.2275,-226.507 98.6223,-203.8024 83.835,-185.7569\" fill=\"none\" stroke=\"#000000\" stroke-dasharray=\"5,2\"/>\n",
       "<polygon fill=\"#000000\" points=\"86.4179,-183.3867 77.3724,-177.8703 81.0035,-187.8235 86.4179,-183.3867\" stroke=\"#000000\"/>\n",
       "</g>\n",
       "<!-- X−Y&#45;&gt;y -->\n",
       "<g class=\"edge\" id=\"edge2\">\n",
       "<title>X−Y-&gt;y</title>\n",
       "<path d=\"M123.333,-232.1327C123.0359,-216.0902 120.9006,-100.7822 119.8923,-46.3334\" fill=\"none\" stroke=\"#000000\" stroke-dasharray=\"5,2\"/>\n",
       "<polygon fill=\"#000000\" points=\"123.3912,-46.236 119.7065,-36.3025 116.3924,-46.3656 123.3912,-46.236\" stroke=\"#000000\"/>\n",
       "</g>\n",
       "</g>\n",
       "</svg></div>"
      ],
      "text/plain": [
       "<IPython.core.display.HTML object>"
      ]
     },
     "metadata": {},
     "output_type": "display_data"
    }
   ],
   "source": [
    "m1 = gum.fastBN(\"z1->x->z2->y\")\n",
    "\n",
    "cdg = csl.CausalModel(m1, [(\"Z1−X\",[\"z1\",\"x\"]),\n",
    "                           (\"Z1-Y\",[\"z1\",\"y\"]),\n",
    "                           (\"Z1-Z1\",[\"z1\",\"z2\"]), \n",
    "                           (\"X−Y\",[\"x\",\"y\"])\n",
    "                          ], True )\n",
    "cslnb.showCausalModel(cdg)"
   ]
  },
  {
   "cell_type": "code",
   "execution_count": 18,
   "metadata": {
    "ExecuteTime": {
     "end_time": "2019-03-30T09:47:40.741542Z",
     "start_time": "2019-03-30T09:47:38.848489Z"
    }
   },
   "outputs": [
    {
     "data": {
      "text/html": [
       "<table style=\"border-style: hidden; border-collapse: collapse;\" width=\"100%\"><tr><td style=\"border-top:hidden;border-bottom:hidden;\"><div align=\"center\" style=\"\"><svg height=\"180pt\" viewBox=\"0.00 0.00 92.74 180.00\" width=\"93pt\" xmlns=\"http://www.w3.org/2000/svg\" xmlns:xlink=\"http://www.w3.org/1999/xlink\">\n",
       "<g class=\"graph\" id=\"graph0\" transform=\"scale(.6008 .6008) rotate(0) translate(4 295.6)\">\n",
       "<title>G</title>\n",
       "<polygon fill=\"#ffffff\" points=\"-4,4 -4,-295.6 150.3676,-295.6 150.3676,4 -4,4\" stroke=\"transparent\"/>\n",
       "<!-- z1 -->\n",
       "<g class=\"node\" id=\"node1\">\n",
       "<title>z1</title>\n",
       "<ellipse cx=\"38.3676\" cy=\"-234\" fill=\"#404040\" rx=\"27\" ry=\"18\" stroke=\"#000000\"/>\n",
       "<text fill=\"#ffffff\" font-family=\"Times,serif\" font-size=\"14.00\" text-anchor=\"middle\" x=\"38.3676\" y=\"-229.8\">z1</text>\n",
       "</g>\n",
       "<!-- x -->\n",
       "<g class=\"node\" id=\"node2\">\n",
       "<title>x</title>\n",
       "<ellipse cx=\"64.3676\" cy=\"-162\" fill=\"#404040\" rx=\"27\" ry=\"18\" stroke=\"#000000\"/>\n",
       "<text fill=\"#ffffff\" font-family=\"Times,serif\" font-size=\"14.00\" text-anchor=\"middle\" x=\"64.3676\" y=\"-157.8\">x</text>\n",
       "</g>\n",
       "<!-- z1&#45;&gt;x -->\n",
       "<g class=\"edge\" id=\"edge1\">\n",
       "<title>z1-&gt;x</title>\n",
       "<path d=\"M43.854,-215.8626C46.8136,-207.6667 50.3901,-197.7627 53.6718,-188.6749\" fill=\"none\" stroke=\"#000000\"/>\n",
       "<path d=\"M45.7351,-216.5419C48.6947,-208.346 52.2712,-198.442 55.5529,-189.3542\" fill=\"none\" stroke=\"#000000\"/>\n",
       "<polygon fill=\"#000000\" points=\"57.91,-190.1874 58.0146,-179.593 51.3261,-187.8098 57.91,-190.1874\" stroke=\"#000000\"/>\n",
       "</g>\n",
       "<!-- z2 -->\n",
       "<g class=\"node\" id=\"node3\">\n",
       "<title>z2</title>\n",
       "<ellipse cx=\"64.3676\" cy=\"-90\" fill=\"#404040\" rx=\"27\" ry=\"18\" stroke=\"#000000\"/>\n",
       "<text fill=\"#ffffff\" font-family=\"Times,serif\" font-size=\"14.00\" text-anchor=\"middle\" x=\"64.3676\" y=\"-85.8\">z2</text>\n",
       "</g>\n",
       "<!-- x&#45;&gt;z2 -->\n",
       "<g class=\"edge\" id=\"edge3\">\n",
       "<title>x-&gt;z2</title>\n",
       "<path d=\"M63.3676,-143.8314C63.3676,-136.131 63.3676,-126.9743 63.3676,-118.4166\" fill=\"none\" stroke=\"#000000\"/>\n",
       "<path d=\"M65.3676,-143.8314C65.3676,-136.131 65.3676,-126.9743 65.3676,-118.4166\" fill=\"none\" stroke=\"#000000\"/>\n",
       "<polygon fill=\"#000000\" points=\"67.8677,-118.4132 64.3676,-108.4133 60.8677,-118.4133 67.8677,-118.4132\" stroke=\"#000000\"/>\n",
       "</g>\n",
       "<!-- y -->\n",
       "<g class=\"node\" id=\"node4\">\n",
       "<title>y</title>\n",
       "<ellipse cx=\"119.3676\" cy=\"-18\" fill=\"#404040\" rx=\"27\" ry=\"18\" stroke=\"#000000\"/>\n",
       "<text fill=\"#ffffff\" font-family=\"Times,serif\" font-size=\"14.00\" text-anchor=\"middle\" x=\"119.3676\" y=\"-13.8\">y</text>\n",
       "</g>\n",
       "<!-- z2&#45;&gt;y -->\n",
       "<g class=\"edge\" id=\"edge8\">\n",
       "<title>z2-&gt;y</title>\n",
       "<path d=\"M76.0533,-73.055C83.0854,-63.8494 92.0076,-52.1694 99.8612,-41.8883\" fill=\"none\" stroke=\"#000000\"/>\n",
       "<path d=\"M77.6426,-74.2691C84.6747,-65.0635 93.5969,-53.3835 101.4506,-43.1024\" fill=\"none\" stroke=\"#000000\"/>\n",
       "<polygon fill=\"#000000\" points=\"103.6475,-44.3446 106.9366,-34.2733 98.0848,-40.0953 103.6475,-44.3446\" stroke=\"#000000\"/>\n",
       "</g>\n",
       "<!-- Z1−X -->\n",
       "<g class=\"node\" id=\"node5\">\n",
       "<title>Z1−X</title>\n",
       "<ellipse cx=\"57.3676\" cy=\"-289.8\" fill=\"#a08080\" rx=\"1.8\" ry=\"1.8\" stroke=\"#000000\"/>\n",
       "</g>\n",
       "<!-- Z1−X&#45;&gt;z1 -->\n",
       "<g class=\"edge\" id=\"edge5\">\n",
       "<title>Z1−X-&gt;z1</title>\n",
       "<path d=\"M56.7354,-287.9434C55.2613,-283.6141 51.433,-272.3711 47.6507,-261.2629\" fill=\"none\" stroke=\"#000000\" stroke-dasharray=\"5,2\"/>\n",
       "<polygon fill=\"#000000\" points=\"50.9354,-260.0511 44.3989,-251.713 44.309,-262.3074 50.9354,-260.0511\" stroke=\"#000000\"/>\n",
       "</g>\n",
       "<!-- Z1−X&#45;&gt;x -->\n",
       "<g class=\"edge\" id=\"edge10\">\n",
       "<title>Z1−X-&gt;x</title>\n",
       "<path d=\"M58.418,-288.1557C61.6093,-283.0501 71.168,-266.9154 74.3676,-252 78.8055,-231.3122 75.8133,-207.5017 71.9768,-189.5697\" fill=\"none\" stroke=\"#000000\" stroke-dasharray=\"5,2\"/>\n",
       "<polygon fill=\"#000000\" points=\"75.3661,-188.6925 69.6701,-179.759 68.5519,-190.2947 75.3661,-188.6925\" stroke=\"#000000\"/>\n",
       "</g>\n",
       "<!-- Z1&#45;Y -->\n",
       "<g class=\"node\" id=\"node6\">\n",
       "<title>Z1-Y</title>\n",
       "<ellipse cx=\"125.3676\" cy=\"-289.8\" fill=\"#a08080\" rx=\"1.8\" ry=\"1.8\" stroke=\"#000000\"/>\n",
       "</g>\n",
       "<!-- Z1&#45;Y&#45;&gt;z1 -->\n",
       "<g class=\"edge\" id=\"edge9\">\n",
       "<title>Z1-Y-&gt;z1</title>\n",
       "<path d=\"M123.5505,-288.6345C116.2587,-283.9577 88.4614,-266.1291 66.5785,-252.0939\" fill=\"none\" stroke=\"#000000\" stroke-dasharray=\"5,2\"/>\n",
       "<polygon fill=\"#000000\" points=\"68.2466,-249.0057 57.9395,-246.553 64.4674,-254.898 68.2466,-249.0057\" stroke=\"#000000\"/>\n",
       "</g>\n",
       "<!-- Z1&#45;Y&#45;&gt;y -->\n",
       "<g class=\"edge\" id=\"edge11\">\n",
       "<title>Z1-Y-&gt;y</title>\n",
       "<path d=\"M126.0154,-287.7802C127.7764,-282.1755 132.6347,-265.9242 134.3676,-252 144.2476,-172.6124 145.7225,-151.1901 134.3676,-72 133.1109,-63.2354 130.8522,-53.8785 128.4627,-45.4579\" fill=\"none\" stroke=\"#000000\" stroke-dasharray=\"5,2\"/>\n",
       "<polygon fill=\"#000000\" points=\"131.7756,-44.3206 125.5418,-35.7538 125.0727,-46.3382 131.7756,-44.3206\" stroke=\"#000000\"/>\n",
       "</g>\n",
       "<!-- Z1&#45;Z1 -->\n",
       "<g class=\"node\" id=\"node7\">\n",
       "<title>Z1-Z1</title>\n",
       "<ellipse cx=\"19.3676\" cy=\"-289.8\" fill=\"#a08080\" rx=\"1.8\" ry=\"1.8\" stroke=\"#000000\"/>\n",
       "</g>\n",
       "<!-- Z1&#45;Z1&#45;&gt;z1 -->\n",
       "<g class=\"edge\" id=\"edge6\">\n",
       "<title>Z1-Z1-&gt;z1</title>\n",
       "<path d=\"M19.9998,-287.9434C21.4739,-283.6141 25.3022,-272.3711 29.0845,-261.2629\" fill=\"none\" stroke=\"#000000\" stroke-dasharray=\"5,2\"/>\n",
       "<polygon fill=\"#000000\" points=\"32.4261,-262.3074 32.3363,-251.713 25.7997,-260.0511 32.4261,-262.3074\" stroke=\"#000000\"/>\n",
       "</g>\n",
       "<!-- Z1&#45;Z1&#45;&gt;z2 -->\n",
       "<g class=\"edge\" id=\"edge7\">\n",
       "<title>Z1-Z1-&gt;z2</title>\n",
       "<path d=\"M18.3172,-288.1557C15.1259,-283.0501 5.5672,-266.9154 2.3676,-252 -.9884,-236.3559 -.3909,-231.7604 2.3676,-216 8.2332,-182.4869 13.0421,-174.3753 28.3676,-144 33.3922,-134.0411 39.9145,-123.709 46.0246,-114.7817\" fill=\"none\" stroke=\"#000000\" stroke-dasharray=\"5,2\"/>\n",
       "<polygon fill=\"#000000\" points=\"49.0374,-116.5819 51.9266,-106.3886 43.3114,-112.5554 49.0374,-116.5819\" stroke=\"#000000\"/>\n",
       "</g>\n",
       "<!-- X−Y -->\n",
       "<g class=\"node\" id=\"node8\">\n",
       "<title>X−Y</title>\n",
       "<ellipse cx=\"123.3676\" cy=\"-234\" fill=\"#a08080\" rx=\"1.8\" ry=\"1.8\" stroke=\"#000000\"/>\n",
       "</g>\n",
       "<!-- X−Y&#45;&gt;x -->\n",
       "<g class=\"edge\" id=\"edge4\">\n",
       "<title>X−Y-&gt;x</title>\n",
       "<path d=\"M122.1353,-232.4962C117.2275,-226.507 98.6223,-203.8024 83.835,-185.7569\" fill=\"none\" stroke=\"#000000\" stroke-dasharray=\"5,2\"/>\n",
       "<polygon fill=\"#000000\" points=\"86.4179,-183.3867 77.3724,-177.8703 81.0035,-187.8235 86.4179,-183.3867\" stroke=\"#000000\"/>\n",
       "</g>\n",
       "<!-- X−Y&#45;&gt;y -->\n",
       "<g class=\"edge\" id=\"edge2\">\n",
       "<title>X−Y-&gt;y</title>\n",
       "<path d=\"M123.333,-232.1327C123.0359,-216.0902 120.9006,-100.7822 119.8923,-46.3334\" fill=\"none\" stroke=\"#000000\" stroke-dasharray=\"5,2\"/>\n",
       "<polygon fill=\"#000000\" points=\"123.3912,-46.236 119.7065,-36.3025 116.3924,-46.3656 123.3912,-46.236\" stroke=\"#000000\"/>\n",
       "</g>\n",
       "</g>\n",
       "</svg></div></td><td style=\"border-top:hidden;border-bottom:hidden;\"><div align=\"center\" style=\"\">?</div></td><td style=\"border-top:hidden;border-bottom:hidden;\"><div align=\"center\" style=\"\">No result</div></td></tr><tr><td style=\"border-top:hidden;border-bottom:hidden;\"><div align=\"center\"><small>Causal Model</small></div></td><td style=\"border-top:hidden;border-bottom:hidden;\"><div align=\"center\"><small>Explanation : Hedge Error: G={'z2', 'z1', 'x'}, G[S]={'z2'}</small></div></td><td style=\"border-top:hidden;border-bottom:hidden;\"><div align=\"center\"><small>Impact : $?$</small></div></td></tr></table>"
      ],
      "text/plain": [
       "<IPython.core.display.HTML object>"
      ]
     },
     "metadata": {},
     "output_type": "display_data"
    }
   ],
   "source": [
    "err = cslnb.showCausalImpact(cdg,\"y\",\"x\",values={\"x\":0})\n"
   ]
  },
  {
   "cell_type": "markdown",
   "metadata": {},
   "source": [
    "## another one"
   ]
  },
  {
   "cell_type": "code",
   "execution_count": 19,
   "metadata": {
    "ExecuteTime": {
     "end_time": "2019-03-30T09:47:43.001646Z",
     "start_time": "2019-03-30T09:47:40.743915Z"
    }
   },
   "outputs": [
    {
     "data": {
      "image/svg+xml": [
       "<svg height=\"260pt\" viewBox=\"0.00 0.00 144.00 260.00\" width=\"144pt\" xmlns=\"http://www.w3.org/2000/svg\" xmlns:xlink=\"http://www.w3.org/1999/xlink\">\n",
       "<g class=\"graph\" id=\"graph0\" transform=\"scale(1 1) rotate(0) translate(4 256)\">\n",
       "<title>G</title>\n",
       "<!-- x -->\n",
       "<g class=\"node\" id=\"node1\">\n",
       "<title>x</title>\n",
       "<g id=\"a_node1\"><a xlink:title=\"(0) x\">\n",
       "<ellipse cx=\"109\" cy=\"-90\" fill=\"#404040\" rx=\"27\" ry=\"18\" stroke=\"#000000\"/>\n",
       "<text fill=\"#ffffff\" font-family=\"Times,serif\" font-size=\"14.00\" text-anchor=\"middle\" x=\"109\" y=\"-85.8\">x</text>\n",
       "</a>\n",
       "</g>\n",
       "</g>\n",
       "<!-- y -->\n",
       "<g class=\"node\" id=\"node2\">\n",
       "<title>y</title>\n",
       "<g id=\"a_node2\"><a xlink:title=\"(1) y\">\n",
       "<ellipse cx=\"54\" cy=\"-18\" fill=\"#404040\" rx=\"27\" ry=\"18\" stroke=\"#000000\"/>\n",
       "<text fill=\"#ffffff\" font-family=\"Times,serif\" font-size=\"14.00\" text-anchor=\"middle\" x=\"54\" y=\"-13.8\">y</text>\n",
       "</a>\n",
       "</g>\n",
       "</g>\n",
       "<!-- x&#45;&gt;y -->\n",
       "<g class=\"edge\" id=\"edge1\">\n",
       "<title>x-&gt;y</title>\n",
       "<g id=\"a_edge1\"><a xlink:title=\"(0, 1) : \">\n",
       "<path d=\"M96.5196,-73.6621C89.4876,-64.4564 80.5653,-52.7764 72.7117,-42.4953\" fill=\"none\" stroke=\"#4a4a4a\"/>\n",
       "<polygon fill=\"#4a4a4a\" points=\"75.2828,-40.0953 66.431,-34.2733 69.72,-44.3446 75.2828,-40.0953\" stroke=\"#4a4a4a\"/>\n",
       "</a>\n",
       "</g>\n",
       "</g>\n",
       "<!-- z1 -->\n",
       "<g class=\"node\" id=\"node3\">\n",
       "<title>z1</title>\n",
       "<g id=\"a_node3\"><a xlink:title=\"(2) z1\">\n",
       "<ellipse cx=\"108\" cy=\"-234\" fill=\"#404040\" rx=\"27\" ry=\"18\" stroke=\"#000000\"/>\n",
       "<text fill=\"#ffffff\" font-family=\"Times,serif\" font-size=\"14.00\" text-anchor=\"middle\" x=\"108\" y=\"-229.8\">z1</text>\n",
       "</a>\n",
       "</g>\n",
       "</g>\n",
       "<!-- z1&#45;&gt;x -->\n",
       "<g class=\"edge\" id=\"edge3\">\n",
       "<title>z1-&gt;x</title>\n",
       "<g id=\"a_edge3\"><a xlink:title=\"(2, 0) : \">\n",
       "<path d=\"M108.1267,-215.7623C108.2972,-191.201 108.6024,-147.2474 108.8031,-118.3541\" fill=\"none\" stroke=\"#4a4a4a\"/>\n",
       "<polygon fill=\"#4a4a4a\" points=\"112.3048,-118.1137 108.8744,-108.0896 105.3049,-118.065 112.3048,-118.1137\" stroke=\"#4a4a4a\"/>\n",
       "</a>\n",
       "</g>\n",
       "</g>\n",
       "<!-- z3 -->\n",
       "<g class=\"node\" id=\"node5\">\n",
       "<title>z3</title>\n",
       "<g id=\"a_node5\"><a xlink:title=\"(4) z3\">\n",
       "<ellipse cx=\"63\" cy=\"-162\" fill=\"#404040\" rx=\"27\" ry=\"18\" stroke=\"#000000\"/>\n",
       "<text fill=\"#ffffff\" font-family=\"Times,serif\" font-size=\"14.00\" text-anchor=\"middle\" x=\"63\" y=\"-157.8\">z3</text>\n",
       "</a>\n",
       "</g>\n",
       "</g>\n",
       "<!-- z1&#45;&gt;z3 -->\n",
       "<g class=\"edge\" id=\"edge6\">\n",
       "<title>z1-&gt;z3</title>\n",
       "<g id=\"a_edge6\"><a xlink:title=\"(2, 4) : \">\n",
       "<path d=\"M97.563,-217.3008C92.0765,-208.5224 85.2314,-197.5703 79.0837,-187.7339\" fill=\"none\" stroke=\"#4a4a4a\"/>\n",
       "<polygon fill=\"#4a4a4a\" points=\"81.9609,-185.7336 73.6929,-179.1086 76.0249,-189.4436 81.9609,-185.7336\" stroke=\"#4a4a4a\"/>\n",
       "</a>\n",
       "</g>\n",
       "</g>\n",
       "<!-- z2 -->\n",
       "<g class=\"node\" id=\"node4\">\n",
       "<title>z2</title>\n",
       "<g id=\"a_node4\"><a xlink:title=\"(3) z2\">\n",
       "<ellipse cx=\"27\" cy=\"-234\" fill=\"#404040\" rx=\"27\" ry=\"18\" stroke=\"#000000\"/>\n",
       "<text fill=\"#ffffff\" font-family=\"Times,serif\" font-size=\"14.00\" text-anchor=\"middle\" x=\"27\" y=\"-229.8\">z2</text>\n",
       "</a>\n",
       "</g>\n",
       "</g>\n",
       "<!-- z2&#45;&gt;y -->\n",
       "<g class=\"edge\" id=\"edge2\">\n",
       "<title>z2-&gt;y</title>\n",
       "<g id=\"a_edge2\"><a xlink:title=\"(3, 1) : \">\n",
       "<path d=\"M25.8889,-216.0116C25.0247,-197.8019 24.3662,-168.8609 27,-144 30.6296,-109.7395 39.663,-71.1021 46.2853,-45.7519\" fill=\"none\" stroke=\"#4a4a4a\"/>\n",
       "<polygon fill=\"#4a4a4a\" points=\"49.757,-46.3168 48.9531,-35.7525 42.9935,-44.5123 49.757,-46.3168\" stroke=\"#4a4a4a\"/>\n",
       "</a>\n",
       "</g>\n",
       "</g>\n",
       "<!-- z2&#45;&gt;z3 -->\n",
       "<g class=\"edge\" id=\"edge4\">\n",
       "<title>z2-&gt;z3</title>\n",
       "<g id=\"a_edge4\"><a xlink:title=\"(3, 4) : \">\n",
       "<path d=\"M35.7146,-216.5708C39.9597,-208.0807 45.1536,-197.6929 49.8663,-188.2674\" fill=\"none\" stroke=\"#4a4a4a\"/>\n",
       "<polygon fill=\"#4a4a4a\" points=\"53.024,-189.7782 54.3657,-179.2687 46.763,-186.6477 53.024,-189.7782\" stroke=\"#4a4a4a\"/>\n",
       "</a>\n",
       "</g>\n",
       "</g>\n",
       "<!-- z3&#45;&gt;x -->\n",
       "<g class=\"edge\" id=\"edge7\">\n",
       "<title>z3-&gt;x</title>\n",
       "<g id=\"a_edge7\"><a xlink:title=\"(4, 0) : \">\n",
       "<path d=\"M73.6689,-145.3008C79.3586,-136.3952 86.4777,-125.2524 92.8316,-115.307\" fill=\"none\" stroke=\"#4a4a4a\"/>\n",
       "<polygon fill=\"#4a4a4a\" points=\"95.9544,-116.92 98.3889,-106.6087 90.0555,-113.1513 95.9544,-116.92\" stroke=\"#4a4a4a\"/>\n",
       "</a>\n",
       "</g>\n",
       "</g>\n",
       "<!-- z3&#45;&gt;y -->\n",
       "<g class=\"edge\" id=\"edge5\">\n",
       "<title>z3-&gt;y</title>\n",
       "<g id=\"a_edge5\"><a xlink:title=\"(4, 1) : \">\n",
       "<path d=\"M61.8601,-143.7623C60.3251,-119.201 57.578,-75.2474 55.7721,-46.3541\" fill=\"none\" stroke=\"#4a4a4a\"/>\n",
       "<polygon fill=\"#4a4a4a\" points=\"59.2477,-45.8518 55.1306,-36.0896 52.2613,-46.2885 59.2477,-45.8518\" stroke=\"#4a4a4a\"/>\n",
       "</a>\n",
       "</g>\n",
       "</g>\n",
       "</g>\n",
       "</svg>"
      ],
      "text/plain": [
       "<IPython.core.display.SVG object>"
      ]
     },
     "metadata": {},
     "output_type": "display_data"
    }
   ],
   "source": [
    "# EXEMPLE PAGE 17 : http://ftp.cs.ucla.edu/pub/stat_ser/r350.pdf\n",
    "\n",
    "\n",
    "m1 = gum.BayesNet()\n",
    "m1.add(gum.LabelizedVariable(\"x\"))\n",
    "m1.add(gum.LabelizedVariable(\"y\"))\n",
    "m1.add(gum.LabelizedVariable(\"z1\"))\n",
    "m1.add(gum.LabelizedVariable(\"z2\"))\n",
    "m1.add(gum.LabelizedVariable(\"z3\"))\n",
    "\n",
    "m1.addArc(2,4)\n",
    "m1.addArc(2,0)\n",
    "m1.addArc(3,4)\n",
    "m1.addArc(3,1)\n",
    "m1.addArc(4,1)\n",
    "m1.addArc(4,0)\n",
    "m1.addArc(0,1)\n",
    "\n",
    "gnb.showBN(m1)\n",
    "d = csl.CausalModel(m1)"
   ]
  },
  {
   "cell_type": "code",
   "execution_count": 20,
   "metadata": {
    "ExecuteTime": {
     "end_time": "2019-03-30T09:47:43.010201Z",
     "start_time": "2019-03-30T09:47:43.004428Z"
    }
   },
   "outputs": [
    {
     "data": {
      "text/latex": [
       "$\\displaystyle P\\left(z3\\mid z1,z2\\right) \\cdot P\\left(z2\\right) \\cdot P\\left(z1\\right) \\cdot P\\left(y\\mid x,z2,z3\\right)$"
      ],
      "text/plain": [
       "<IPython.core.display.Math object>"
      ]
     },
     "metadata": {},
     "output_type": "display_data"
    }
   ],
   "source": [
    "display(Math(csl.identifyingIntervention (d,{\"z1\",\"z2\",\"z3\",\"y\"}, {\"x\"}).toLatex()))"
   ]
  },
  {
   "cell_type": "code",
   "execution_count": 21,
   "metadata": {
    "ExecuteTime": {
     "end_time": "2019-03-30T09:47:43.018992Z",
     "start_time": "2019-03-30T09:47:43.011836Z"
    }
   },
   "outputs": [
    {
     "data": {
      "text/latex": [
       "$\\displaystyle \\sum_{z1,z2,z3}{P\\left(z3\\mid z1,z2\\right) \\cdot P\\left(z2\\right) \\cdot P\\left(z1\\right) \\cdot P\\left(y\\mid x,z2,z3\\right)}$"
      ],
      "text/plain": [
       "<IPython.core.display.Math object>"
      ]
     },
     "metadata": {},
     "output_type": "display_data"
    }
   ],
   "source": [
    "display(Math(csl.identifyingIntervention(d,{\"y\"}, {\"x\"}).toLatex()))"
   ]
  },
  {
   "cell_type": "code",
   "execution_count": 22,
   "metadata": {
    "ExecuteTime": {
     "end_time": "2019-03-30T09:47:43.025483Z",
     "start_time": "2019-03-30T09:47:43.020669Z"
    }
   },
   "outputs": [
    {
     "data": {
      "text/latex": [
       "$\\displaystyle P\\left(z3\\mid z1,z2\\right) \\cdot P\\left(z1\\right) \\cdot P\\left(y\\mid x,z2,z3\\right)$"
      ],
      "text/plain": [
       "<IPython.core.display.Math object>"
      ]
     },
     "metadata": {},
     "output_type": "display_data"
    }
   ],
   "source": [
    "display(Math(csl.identifyingIntervention(d,{\"z1\",\"z3\",\"y\"}, {\"x\",\"z2\"}).toLatex()))"
   ]
  },
  {
   "cell_type": "code",
   "execution_count": 23,
   "metadata": {
    "ExecuteTime": {
     "end_time": "2019-03-30T09:47:43.033600Z",
     "start_time": "2019-03-30T09:47:43.028772Z"
    }
   },
   "outputs": [
    {
     "data": {
      "text/latex": [
       "$\\displaystyle \\sum_{z1,z3}{P\\left(z3\\mid z1,z2\\right) \\cdot P\\left(z1\\right) \\cdot P\\left(y\\mid x,z2,z3\\right)}$"
      ],
      "text/plain": [
       "<IPython.core.display.Math object>"
      ]
     },
     "metadata": {},
     "output_type": "display_data"
    }
   ],
   "source": [
    "display(Math(csl.identifyingIntervention(d,{\"y\"}, {\"x\",\"z2\"}).toLatex()))"
   ]
  },
  {
   "cell_type": "markdown",
   "metadata": {},
   "source": [
    "## another"
   ]
  },
  {
   "cell_type": "code",
   "execution_count": 24,
   "metadata": {
    "ExecuteTime": {
     "end_time": "2019-03-30T09:47:45.111304Z",
     "start_time": "2019-03-30T09:47:43.035453Z"
    }
   },
   "outputs": [
    {
     "data": {
      "image/svg+xml": [
       "<svg height=\"260pt\" viewBox=\"0.00 0.00 127.00 260.00\" width=\"127pt\" xmlns=\"http://www.w3.org/2000/svg\" xmlns:xlink=\"http://www.w3.org/1999/xlink\">\n",
       "<g class=\"graph\" id=\"graph0\" transform=\"scale(1 1) rotate(0) translate(4 256)\">\n",
       "<title>G</title>\n",
       "<!-- a -->\n",
       "<g class=\"node\" id=\"node1\">\n",
       "<title>a</title>\n",
       "<g id=\"a_node1\"><a xlink:title=\"(0) a\">\n",
       "<ellipse cx=\"92\" cy=\"-234\" fill=\"#404040\" rx=\"27\" ry=\"18\" stroke=\"#000000\"/>\n",
       "<text fill=\"#ffffff\" font-family=\"Times,serif\" font-size=\"14.00\" text-anchor=\"middle\" x=\"92\" y=\"-229.8\">a</text>\n",
       "</a>\n",
       "</g>\n",
       "</g>\n",
       "<!-- p -->\n",
       "<g class=\"node\" id=\"node2\">\n",
       "<title>p</title>\n",
       "<g id=\"a_node2\"><a xlink:title=\"(1) p\">\n",
       "<ellipse cx=\"65\" cy=\"-162\" fill=\"#404040\" rx=\"27\" ry=\"18\" stroke=\"#000000\"/>\n",
       "<text fill=\"#ffffff\" font-family=\"Times,serif\" font-size=\"14.00\" text-anchor=\"middle\" x=\"65\" y=\"-157.8\">p</text>\n",
       "</a>\n",
       "</g>\n",
       "</g>\n",
       "<!-- a&#45;&gt;p -->\n",
       "<g class=\"edge\" id=\"edge1\">\n",
       "<title>a-&gt;p</title>\n",
       "<g id=\"a_edge1\"><a xlink:title=\"(0, 1) : \">\n",
       "<path d=\"M85.3258,-216.2022C82.2524,-208.0064 78.5384,-198.1024 75.1305,-189.0145\" fill=\"none\" stroke=\"#4a4a4a\"/>\n",
       "<polygon fill=\"#4a4a4a\" points=\"78.3858,-187.7274 71.5974,-179.593 71.8315,-190.1853 78.3858,-187.7274\" stroke=\"#4a4a4a\"/>\n",
       "</a>\n",
       "</g>\n",
       "</g>\n",
       "<!-- y -->\n",
       "<g class=\"node\" id=\"node4\">\n",
       "<title>y</title>\n",
       "<g id=\"a_node4\"><a xlink:title=\"(3) y\">\n",
       "<ellipse cx=\"82\" cy=\"-18\" fill=\"#404040\" rx=\"27\" ry=\"18\" stroke=\"#000000\"/>\n",
       "<text fill=\"#ffffff\" font-family=\"Times,serif\" font-size=\"14.00\" text-anchor=\"middle\" x=\"82\" y=\"-13.8\">y</text>\n",
       "</a>\n",
       "</g>\n",
       "</g>\n",
       "<!-- a&#45;&gt;y -->\n",
       "<g class=\"edge\" id=\"edge5\">\n",
       "<title>a-&gt;y</title>\n",
       "<g id=\"a_edge5\"><a xlink:title=\"(0, 3) : \">\n",
       "<path d=\"M95.7474,-216.0931C97.7466,-205.6241 99.9966,-192.1241 101,-180 104.9031,-132.8396 95.6145,-78.2193 88.6933,-45.9738\" fill=\"none\" stroke=\"#4a4a4a\"/>\n",
       "<polygon fill=\"#4a4a4a\" points=\"92.0488,-44.9397 86.4593,-35.9392 85.2161,-46.4608 92.0488,-44.9397\" stroke=\"#4a4a4a\"/>\n",
       "</a>\n",
       "</g>\n",
       "</g>\n",
       "<!-- b -->\n",
       "<g class=\"node\" id=\"node3\">\n",
       "<title>b</title>\n",
       "<g id=\"a_node3\"><a xlink:title=\"(2) b\">\n",
       "<ellipse cx=\"27\" cy=\"-90\" fill=\"#404040\" rx=\"27\" ry=\"18\" stroke=\"#000000\"/>\n",
       "<text fill=\"#ffffff\" font-family=\"Times,serif\" font-size=\"14.00\" text-anchor=\"middle\" x=\"27\" y=\"-85.8\">b</text>\n",
       "</a>\n",
       "</g>\n",
       "</g>\n",
       "<!-- p&#45;&gt;b -->\n",
       "<g class=\"edge\" id=\"edge2\">\n",
       "<title>p-&gt;b</title>\n",
       "<g id=\"a_edge2\"><a xlink:title=\"(1, 2) : \">\n",
       "<path d=\"M55.9945,-144.937C51.5172,-136.4537 46.0048,-126.0092 40.993,-116.513\" fill=\"none\" stroke=\"#4a4a4a\"/>\n",
       "<polygon fill=\"#4a4a4a\" points=\"43.9678,-114.6509 36.2048,-107.4407 37.7771,-117.9182 43.9678,-114.6509\" stroke=\"#4a4a4a\"/>\n",
       "</a>\n",
       "</g>\n",
       "</g>\n",
       "<!-- p&#45;&gt;y -->\n",
       "<g class=\"edge\" id=\"edge3\">\n",
       "<title>p-&gt;y</title>\n",
       "<g id=\"a_edge3\"><a xlink:title=\"(1, 3) : \">\n",
       "<path d=\"M67.1187,-144.0535C70.0073,-119.5852 75.213,-75.4896 78.6378,-46.4799\" fill=\"none\" stroke=\"#4a4a4a\"/>\n",
       "<polygon fill=\"#4a4a4a\" points=\"82.158,-46.5141 79.8546,-36.1727 75.2062,-45.6934 82.158,-46.5141\" stroke=\"#4a4a4a\"/>\n",
       "</a>\n",
       "</g>\n",
       "</g>\n",
       "<!-- b&#45;&gt;y -->\n",
       "<g class=\"edge\" id=\"edge4\">\n",
       "<title>b-&gt;y</title>\n",
       "<g id=\"a_edge4\"><a xlink:title=\"(2, 3) : \">\n",
       "<path d=\"M39.4804,-73.6621C46.5124,-64.4564 55.4347,-52.7764 63.2883,-42.4953\" fill=\"none\" stroke=\"#4a4a4a\"/>\n",
       "<polygon fill=\"#4a4a4a\" points=\"66.28,-44.3446 69.569,-34.2733 60.7172,-40.0953 66.28,-44.3446\" stroke=\"#4a4a4a\"/>\n",
       "</a>\n",
       "</g>\n",
       "</g>\n",
       "</g>\n",
       "</svg>"
      ],
      "text/plain": [
       "<IPython.core.display.SVG object>"
      ]
     },
     "metadata": {},
     "output_type": "display_data"
    }
   ],
   "source": [
    "#http://www.stats.ox.ac.uk/~lienart/gml15_causalinference.html\n",
    "\n",
    "m1 = gum.BayesNet()\n",
    "m1.add(gum.LabelizedVariable(\"a\"))\n",
    "m1.add(gum.LabelizedVariable(\"p\"))\n",
    "m1.add(gum.LabelizedVariable(\"b\"))\n",
    "m1.add(gum.LabelizedVariable(\"y\"))\n",
    "\n",
    "m1.addArc(0,1)\n",
    "m1.addArc(1,2)\n",
    "m1.addArc(0,3)\n",
    "m1.addArc(1,3)\n",
    "m1.addArc(2,3)\n",
    "gnb.showBN(m1)\n",
    "d = csl.CausalModel(m1)"
   ]
  },
  {
   "cell_type": "code",
   "execution_count": 25,
   "metadata": {
    "ExecuteTime": {
     "end_time": "2019-03-30T09:47:45.120857Z",
     "start_time": "2019-03-30T09:47:45.114350Z"
    }
   },
   "outputs": [
    {
     "data": {
      "text/latex": [
       "$\\displaystyle \\sum_{p}{P\\left(y\\mid a,b,p\\right) \\cdot P\\left(p\\mid a\\right)}$"
      ],
      "text/plain": [
       "<IPython.core.display.Math object>"
      ]
     },
     "metadata": {},
     "output_type": "display_data"
    }
   ],
   "source": [
    "display(Math(csl.identifyingIntervention(d,{\"y\"}, {\"a\",\"b\"}).toLatex()))"
   ]
  },
  {
   "cell_type": "markdown",
   "metadata": {},
   "source": [
    "## example f"
   ]
  },
  {
   "cell_type": "code",
   "execution_count": 26,
   "metadata": {
    "ExecuteTime": {
     "end_time": "2019-03-30T09:47:47.074252Z",
     "start_time": "2019-03-30T09:47:45.123670Z"
    }
   },
   "outputs": [
    {
     "data": {
      "text/html": [
       "<div align='center'><svg height=\"288pt\" viewBox=\"0.00 0.00 156.67 288.00\" width=\"157pt\" xmlns=\"http://www.w3.org/2000/svg\" xmlns:xlink=\"http://www.w3.org/1999/xlink\">\n",
       "<g class=\"graph\" id=\"graph0\" transform=\"scale(.9613 .9613) rotate(0) translate(4 295.6)\">\n",
       "<title>G</title>\n",
       "<polygon fill=\"#ffffff\" points=\"-4,4 -4,-295.6 158.9835,-295.6 158.9835,4 -4,4\" stroke=\"transparent\"/>\n",
       "<!-- X -->\n",
       "<g class=\"node\" id=\"node1\">\n",
       "<title>X</title>\n",
       "<ellipse cx=\"27\" cy=\"-234\" fill=\"#404040\" rx=\"27\" ry=\"18\" stroke=\"#000000\"/>\n",
       "<text fill=\"#ffffff\" font-family=\"Times,serif\" font-size=\"14.00\" text-anchor=\"middle\" x=\"27\" y=\"-229.8\">X</text>\n",
       "</g>\n",
       "<!-- Y -->\n",
       "<g class=\"node\" id=\"node2\">\n",
       "<title>Y</title>\n",
       "<ellipse cx=\"76\" cy=\"-18\" fill=\"#404040\" rx=\"27\" ry=\"18\" stroke=\"#000000\"/>\n",
       "<text fill=\"#ffffff\" font-family=\"Times,serif\" font-size=\"14.00\" text-anchor=\"middle\" x=\"76\" y=\"-13.8\">Y</text>\n",
       "</g>\n",
       "<!-- X&#45;&gt;Y -->\n",
       "<g class=\"edge\" id=\"edge1\">\n",
       "<title>X-&gt;Y</title>\n",
       "<path d=\"M29.6802,-215.8418C33.4179,-197.6538 39.446,-168.7314 45.0241,-143.7818 52.2105,-111.6449 54.4108,-103.716 62.0273,-71.7681 64.0628,-63.2308 66.2937,-53.9401 68.3242,-45.5091\" fill=\"none\" stroke=\"#000000\"/>\n",
       "<path d=\"M31.6393,-216.2444C35.3758,-198.0618 41.404,-169.1394 46.9759,-144.2182 54.1377,-112.1797 56.338,-104.2508 63.9727,-72.2319 66.0075,-63.6978 68.2384,-54.4071 70.2686,-45.9774\" fill=\"none\" stroke=\"#000000\"/>\n",
       "<polygon fill=\"#000000\" points=\"72.7053,-46.5371 71.6469,-35.9953 65.9003,-44.8962 72.7053,-46.5371\" stroke=\"#000000\"/>\n",
       "</g>\n",
       "<!-- Z1 -->\n",
       "<g class=\"node\" id=\"node3\">\n",
       "<title>Z1</title>\n",
       "<ellipse cx=\"82\" cy=\"-162\" fill=\"#404040\" rx=\"27\" ry=\"18\" stroke=\"#000000\"/>\n",
       "<text fill=\"#ffffff\" font-family=\"Times,serif\" font-size=\"14.00\" text-anchor=\"middle\" x=\"82\" y=\"-157.8\">Z1</text>\n",
       "</g>\n",
       "<!-- X&#45;&gt;Z1 -->\n",
       "<g class=\"edge\" id=\"edge8\">\n",
       "<title>X-&gt;Z1</title>\n",
       "<path d=\"M38.6857,-217.055C45.7178,-207.8494 54.64,-196.1694 62.4936,-185.8883\" fill=\"none\" stroke=\"#000000\"/>\n",
       "<path d=\"M40.275,-218.2691C47.3071,-209.0635 56.2293,-197.3835 64.083,-187.1024\" fill=\"none\" stroke=\"#000000\"/>\n",
       "<polygon fill=\"#000000\" points=\"66.28,-188.3446 69.569,-178.2733 60.7172,-184.0953 66.28,-188.3446\" stroke=\"#000000\"/>\n",
       "</g>\n",
       "<!-- Z1&#45;&gt;Y -->\n",
       "<g class=\"edge\" id=\"edge3\">\n",
       "<title>Z1-&gt;Y</title>\n",
       "<path d=\"M75.2178,-144.5085C72.1002,-134.0481 68.6002,-120.5481 67.008,-108.1265 64.363,-87.1889 66.6321,-63.6805 69.4264,-45.827\" fill=\"none\" stroke=\"#000000\"/>\n",
       "<path d=\"M77.1344,-143.9372C74.0361,-133.5462 70.5361,-120.0462 68.992,-107.8735 66.3538,-87.381 68.6229,-63.8726 71.4023,-46.1365\" fill=\"none\" stroke=\"#000000\"/>\n",
       "<polygon fill=\"#000000\" points=\"73.8901,-46.4207 72.1293,-35.9732 66.9906,-45.2384 73.8901,-46.4207\" stroke=\"#000000\"/>\n",
       "</g>\n",
       "<!-- Z2 -->\n",
       "<g class=\"node\" id=\"node4\">\n",
       "<title>Z2</title>\n",
       "<ellipse cx=\"104\" cy=\"-90\" fill=\"#404040\" rx=\"27\" ry=\"18\" stroke=\"#000000\"/>\n",
       "<text fill=\"#ffffff\" font-family=\"Times,serif\" font-size=\"14.00\" text-anchor=\"middle\" x=\"104\" y=\"-85.8\">Z2</text>\n",
       "</g>\n",
       "<!-- Z1&#45;&gt;Z2 -->\n",
       "<g class=\"edge\" id=\"edge4\">\n",
       "<title>Z1-&gt;Z2</title>\n",
       "<path d=\"M86.4819,-143.91C88.941,-135.8618 91.9035,-126.1666 94.6388,-117.2144\" fill=\"none\" stroke=\"#000000\"/>\n",
       "<path d=\"M88.3946,-144.4945C90.8537,-136.4463 93.8162,-126.751 96.5515,-117.7989\" fill=\"none\" stroke=\"#000000\"/>\n",
       "<polygon fill=\"#000000\" points=\"98.9731,-118.4289 98.5481,-107.8425 92.2786,-116.3833 98.9731,-118.4289\" stroke=\"#000000\"/>\n",
       "</g>\n",
       "<!-- Z2&#45;&gt;Y -->\n",
       "<g class=\"edge\" id=\"edge2\">\n",
       "<title>Z2-&gt;Y</title>\n",
       "<path d=\"M96.29,-72.9333C93.0808,-64.6811 89.1745,-54.6362 85.5922,-45.4247\" fill=\"none\" stroke=\"#000000\"/>\n",
       "<path d=\"M98.154,-72.2084C94.9448,-63.9562 91.0385,-53.9113 87.4562,-44.6998\" fill=\"none\" stroke=\"#000000\"/>\n",
       "<polygon fill=\"#000000\" points=\"89.6992,-43.5697 82.8126,-35.5182 83.1752,-46.1069 89.6992,-43.5697\" stroke=\"#000000\"/>\n",
       "</g>\n",
       "<!-- l1 -->\n",
       "<g class=\"node\" id=\"node5\">\n",
       "<title>l1</title>\n",
       "<ellipse cx=\"54\" cy=\"-289.8\" fill=\"#a08080\" rx=\"1.8\" ry=\"1.8\" stroke=\"#000000\"/>\n",
       "</g>\n",
       "<!-- l1&#45;&gt;X -->\n",
       "<g class=\"edge\" id=\"edge9\">\n",
       "<title>l1-&gt;X</title>\n",
       "<path d=\"M53.1017,-287.9434C50.9571,-283.5113 45.3064,-271.8332 39.8089,-260.4717\" fill=\"none\" stroke=\"#000000\" stroke-dasharray=\"5,2\"/>\n",
       "<polygon fill=\"#000000\" points=\"42.8136,-258.6457 35.3074,-251.1686 36.5125,-261.6947 42.8136,-258.6457\" stroke=\"#000000\"/>\n",
       "</g>\n",
       "<!-- l1&#45;&gt;Z1 -->\n",
       "<g class=\"edge\" id=\"edge5\">\n",
       "<title>l1-&gt;Z1</title>\n",
       "<path d=\"M54.5063,-287.7556C55.9057,-282.0879 59.9256,-265.6906 63,-252 67.6581,-231.2573 72.6095,-207.75 76.2896,-189.9626\" fill=\"none\" stroke=\"#000000\" stroke-dasharray=\"5,2\"/>\n",
       "<polygon fill=\"#000000\" points=\"79.7607,-190.4597 78.3501,-179.9592 72.9046,-189.0474 79.7607,-190.4597\" stroke=\"#000000\"/>\n",
       "</g>\n",
       "<!-- l2 -->\n",
       "<g class=\"node\" id=\"node6\">\n",
       "<title>l2</title>\n",
       "<ellipse cx=\"143\" cy=\"-234\" fill=\"#a08080\" rx=\"1.8\" ry=\"1.8\" stroke=\"#000000\"/>\n",
       "</g>\n",
       "<!-- l2&#45;&gt;Y -->\n",
       "<g class=\"edge\" id=\"edge6\">\n",
       "<title>l2-&gt;Y</title>\n",
       "<path d=\"M143.5641,-231.9332C147.3686,-217.5681 168.2886,-131.4351 140,-72 132.671,-56.6017 118.6208,-43.9768 105.5477,-34.8168\" fill=\"none\" stroke=\"#000000\" stroke-dasharray=\"5,2\"/>\n",
       "<polygon fill=\"#000000\" points=\"107.4548,-31.8819 97.1785,-29.3035 103.6039,-37.7275 107.4548,-31.8819\" stroke=\"#000000\"/>\n",
       "</g>\n",
       "<!-- l2&#45;&gt;Z1 -->\n",
       "<g class=\"edge\" id=\"edge7\">\n",
       "<title>l2-&gt;Z1</title>\n",
       "<path d=\"M141.7259,-232.4962C136.6518,-226.507 117.4159,-203.8024 102.1274,-185.7569\" fill=\"none\" stroke=\"#000000\" stroke-dasharray=\"5,2\"/>\n",
       "<polygon fill=\"#000000\" points=\"104.5804,-183.2377 95.4457,-177.8703 99.2394,-187.7627 104.5804,-183.2377\" stroke=\"#000000\"/>\n",
       "</g>\n",
       "</g>\n",
       "</svg></div>"
      ],
      "text/plain": [
       "<IPython.core.display.HTML object>"
      ]
     },
     "metadata": {},
     "output_type": "display_data"
    }
   ],
   "source": [
    "#https://cse.sc.edu/~mgv/talks/AIM2010.ppt , example (f)\n",
    "\n",
    "m1 = gum.BayesNet()\n",
    "m1.add(gum.LabelizedVariable(\"X\"))\n",
    "m1.add(gum.LabelizedVariable(\"Y\"))\n",
    "m1.add(gum.LabelizedVariable(\"Z1\"))\n",
    "m1.add(gum.LabelizedVariable(\"Z2\"))\n",
    "\n",
    "m1.addArc(0,1)\n",
    "m1.addArc(0,2)\n",
    "m1.addArc(2,3)\n",
    "m1.addArc(3,1)\n",
    "m1.addArc(2,1)\n",
    "d = csl.CausalModel(m1, [(\"l1\",[\"X\",\"Z1\"]) ,(\"l2\",[\"Y\",\"Z1\"])],True)\n",
    "cslnb.showCausalModel(d)"
   ]
  },
  {
   "cell_type": "code",
   "execution_count": 27,
   "metadata": {
    "ExecuteTime": {
     "end_time": "2019-03-30T09:47:47.084796Z",
     "start_time": "2019-03-30T09:47:47.078258Z"
    }
   },
   "outputs": [
    {
     "name": "stdout",
     "output_type": "stream",
     "text": [
      "Hedge exception : (\"Hedge Error: G={'Z1', 'Y', 'X'}, G[S]={'Z1', 'Y'}\", {'Z1', 'Y', 'X'}, {'Z1', 'Y'})\n"
     ]
    }
   ],
   "source": [
    "try:\n",
    "    display(Math(csl.identifyingIntervention (d,{\"Y\"}, {\"X\"}).toLatex()))\n",
    "except csl.HedgeException as e:\n",
    "    print(\"Hedge exception : {}\".format(e))"
   ]
  },
  {
   "cell_type": "markdown",
   "metadata": {},
   "source": [
    "# Example [Pearl,2009] Causality, p66"
   ]
  },
  {
   "cell_type": "code",
   "execution_count": 28,
   "metadata": {
    "ExecuteTime": {
     "end_time": "2019-03-30T09:48:38.071599Z",
     "start_time": "2019-03-30T09:48:34.411764Z"
    }
   },
   "outputs": [
    {
     "data": {
      "image/svg+xml": [
       "<svg height=\"332pt\" viewBox=\"0.00 0.00 172.00 332.00\" width=\"172pt\" xmlns=\"http://www.w3.org/2000/svg\" xmlns:xlink=\"http://www.w3.org/1999/xlink\">\n",
       "<g class=\"graph\" id=\"graph0\" transform=\"scale(1 1) rotate(0) translate(4 328)\">\n",
       "<title>G</title>\n",
       "<!-- Z1 -->\n",
       "<g class=\"node\" id=\"node1\">\n",
       "<title>Z1</title>\n",
       "<g id=\"a_node1\"><a xlink:title=\"(0) Z1\">\n",
       "<ellipse cx=\"82\" cy=\"-306\" fill=\"#404040\" rx=\"27\" ry=\"18\" stroke=\"#000000\"/>\n",
       "<text fill=\"#ffffff\" font-family=\"Times,serif\" font-size=\"14.00\" text-anchor=\"middle\" x=\"82\" y=\"-301.8\">Z1</text>\n",
       "</a>\n",
       "</g>\n",
       "</g>\n",
       "<!-- Z2 -->\n",
       "<g class=\"node\" id=\"node2\">\n",
       "<title>Z2</title>\n",
       "<g id=\"a_node2\"><a xlink:title=\"(1) Z2\">\n",
       "<ellipse cx=\"27\" cy=\"-162\" fill=\"#404040\" rx=\"27\" ry=\"18\" stroke=\"#000000\"/>\n",
       "<text fill=\"#ffffff\" font-family=\"Times,serif\" font-size=\"14.00\" text-anchor=\"middle\" x=\"27\" y=\"-157.8\">Z2</text>\n",
       "</a>\n",
       "</g>\n",
       "</g>\n",
       "<!-- Z1&#45;&gt;Z2 -->\n",
       "<g class=\"edge\" id=\"edge1\">\n",
       "<title>Z1-&gt;Z2</title>\n",
       "<g id=\"a_edge1\"><a xlink:title=\"(0, 1) : \">\n",
       "<path d=\"M75.2559,-288.3428C65.8133,-263.6202 48.5649,-218.4608 37.4515,-189.3639\" fill=\"none\" stroke=\"#4a4a4a\"/>\n",
       "<polygon fill=\"#4a4a4a\" points=\"40.637,-187.8946 33.7992,-179.8017 34.0977,-190.3923 40.637,-187.8946\" stroke=\"#4a4a4a\"/>\n",
       "</a>\n",
       "</g>\n",
       "</g>\n",
       "<!-- Z3 -->\n",
       "<g class=\"node\" id=\"node3\">\n",
       "<title>Z3</title>\n",
       "<g id=\"a_node3\"><a xlink:title=\"(2) Z3\">\n",
       "<ellipse cx=\"82\" cy=\"-90\" fill=\"#404040\" rx=\"27\" ry=\"18\" stroke=\"#000000\"/>\n",
       "<text fill=\"#ffffff\" font-family=\"Times,serif\" font-size=\"14.00\" text-anchor=\"middle\" x=\"82\" y=\"-85.8\">Z3</text>\n",
       "</a>\n",
       "</g>\n",
       "</g>\n",
       "<!-- Z1&#45;&gt;Z3 -->\n",
       "<g class=\"edge\" id=\"edge9\">\n",
       "<title>Z1-&gt;Z3</title>\n",
       "<g id=\"a_edge9\"><a xlink:title=\"(0, 2) : \">\n",
       "<path d=\"M82,-287.9555C82,-250.3938 82,-163.5541 82,-118.4103\" fill=\"none\" stroke=\"#4a4a4a\"/>\n",
       "<polygon fill=\"#4a4a4a\" points=\"85.5001,-118.145 82,-108.1451 78.5001,-118.1451 85.5001,-118.145\" stroke=\"#4a4a4a\"/>\n",
       "</a>\n",
       "</g>\n",
       "</g>\n",
       "<!-- X -->\n",
       "<g class=\"node\" id=\"node5\">\n",
       "<title>X</title>\n",
       "<g id=\"a_node5\"><a xlink:title=\"(4) X\">\n",
       "<ellipse cx=\"137\" cy=\"-234\" fill=\"#404040\" rx=\"27\" ry=\"18\" stroke=\"#000000\"/>\n",
       "<text fill=\"#ffffff\" font-family=\"Times,serif\" font-size=\"14.00\" text-anchor=\"middle\" x=\"137\" y=\"-229.8\">X</text>\n",
       "</a>\n",
       "</g>\n",
       "</g>\n",
       "<!-- Z1&#45;&gt;X -->\n",
       "<g class=\"edge\" id=\"edge6\">\n",
       "<title>Z1-&gt;X</title>\n",
       "<g id=\"a_edge6\"><a xlink:title=\"(0, 4) : \">\n",
       "<path d=\"M94.4804,-289.6621C101.5124,-280.4564 110.4347,-268.7764 118.2883,-258.4953\" fill=\"none\" stroke=\"#4a4a4a\"/>\n",
       "<polygon fill=\"#4a4a4a\" points=\"121.28,-260.3446 124.569,-250.2733 115.7172,-256.0953 121.28,-260.3446\" stroke=\"#4a4a4a\"/>\n",
       "</a>\n",
       "</g>\n",
       "</g>\n",
       "<!-- Z2&#45;&gt;Z3 -->\n",
       "<g class=\"edge\" id=\"edge2\">\n",
       "<title>Z2-&gt;Z3</title>\n",
       "<g id=\"a_edge2\"><a xlink:title=\"(1, 2) : \">\n",
       "<path d=\"M39.4804,-145.6621C46.5124,-136.4564 55.4347,-124.7764 63.2883,-114.4953\" fill=\"none\" stroke=\"#4a4a4a\"/>\n",
       "<polygon fill=\"#4a4a4a\" points=\"66.28,-116.3446 69.569,-106.2733 60.7172,-112.0953 66.28,-116.3446\" stroke=\"#4a4a4a\"/>\n",
       "</a>\n",
       "</g>\n",
       "</g>\n",
       "<!-- Y -->\n",
       "<g class=\"node\" id=\"node4\">\n",
       "<title>Y</title>\n",
       "<g id=\"a_node4\"><a xlink:title=\"(3) Y\">\n",
       "<ellipse cx=\"82\" cy=\"-18\" fill=\"#404040\" rx=\"27\" ry=\"18\" stroke=\"#000000\"/>\n",
       "<text fill=\"#ffffff\" font-family=\"Times,serif\" font-size=\"14.00\" text-anchor=\"middle\" x=\"82\" y=\"-13.8\">Y</text>\n",
       "</a>\n",
       "</g>\n",
       "</g>\n",
       "<!-- Z2&#45;&gt;Y -->\n",
       "<g class=\"edge\" id=\"edge3\">\n",
       "<title>Z2-&gt;Y</title>\n",
       "<g id=\"a_edge3\"><a xlink:title=\"(1, 3) : \">\n",
       "<path d=\"M28.7905,-143.8083C31.0888,-125.1875 36.0345,-95.7008 46,-72 50.3236,-61.7173 56.687,-51.3119 62.866,-42.4164\" fill=\"none\" stroke=\"#4a4a4a\"/>\n",
       "<polygon fill=\"#4a4a4a\" points=\"65.8693,-44.2365 68.9011,-34.0847 60.2002,-40.1301 65.8693,-44.2365\" stroke=\"#4a4a4a\"/>\n",
       "</a>\n",
       "</g>\n",
       "</g>\n",
       "<!-- Z3&#45;&gt;Y -->\n",
       "<g class=\"edge\" id=\"edge4\">\n",
       "<title>Z3-&gt;Y</title>\n",
       "<g id=\"a_edge4\"><a xlink:title=\"(2, 3) : \">\n",
       "<path d=\"M82,-71.8314C82,-64.131 82,-54.9743 82,-46.4166\" fill=\"none\" stroke=\"#4a4a4a\"/>\n",
       "<polygon fill=\"#4a4a4a\" points=\"85.5001,-46.4132 82,-36.4133 78.5001,-46.4133 85.5001,-46.4132\" stroke=\"#4a4a4a\"/>\n",
       "</a>\n",
       "</g>\n",
       "</g>\n",
       "<!-- X&#45;&gt;Z2 -->\n",
       "<g class=\"edge\" id=\"edge8\">\n",
       "<title>X-&gt;Z2</title>\n",
       "<g id=\"a_edge8\"><a xlink:title=\"(4, 1) : \">\n",
       "<path d=\"M117.5874,-221.2936C100.258,-209.9507 74.6682,-193.201 55.1028,-180.3946\" fill=\"none\" stroke=\"#4a4a4a\"/>\n",
       "<polygon fill=\"#4a4a4a\" points=\"56.8724,-177.3698 46.5885,-174.8216 53.0387,-183.2267 56.8724,-177.3698\" stroke=\"#4a4a4a\"/>\n",
       "</a>\n",
       "</g>\n",
       "</g>\n",
       "<!-- X&#45;&gt;Z3 -->\n",
       "<g class=\"edge\" id=\"edge7\">\n",
       "<title>X-&gt;Z3</title>\n",
       "<g id=\"a_edge7\"><a xlink:title=\"(4, 2) : \">\n",
       "<path d=\"M130.2559,-216.3428C120.8133,-191.6202 103.5649,-146.4608 92.4515,-117.3639\" fill=\"none\" stroke=\"#4a4a4a\"/>\n",
       "<polygon fill=\"#4a4a4a\" points=\"95.637,-115.8946 88.7992,-107.8017 89.0977,-118.3923 95.637,-115.8946\" stroke=\"#4a4a4a\"/>\n",
       "</a>\n",
       "</g>\n",
       "</g>\n",
       "<!-- X&#45;&gt;Y -->\n",
       "<g class=\"edge\" id=\"edge5\">\n",
       "<title>X-&gt;Y</title>\n",
       "<g id=\"a_edge5\"><a xlink:title=\"(4, 3) : \">\n",
       "<path d=\"M137.5863,-215.8694C137.99,-185.2324 136.2761,-121.7005 118,-72 114.1502,-61.5307 107.8941,-51.083 101.6686,-42.2059\" fill=\"none\" stroke=\"#4a4a4a\"/>\n",
       "<polygon fill=\"#4a4a4a\" points=\"104.2989,-39.8758 95.5436,-33.9096 98.6674,-44.0335 104.2989,-39.8758\" stroke=\"#4a4a4a\"/>\n",
       "</a>\n",
       "</g>\n",
       "</g>\n",
       "</g>\n",
       "</svg>"
      ],
      "text/plain": [
       "<IPython.core.display.SVG object>"
      ]
     },
     "metadata": {},
     "output_type": "display_data"
    },
    {
     "data": {
      "text/html": [
       "<table style=\"border-style: hidden; border-collapse: collapse;\" width=\"100%\"><tr><td style=\"border-top:hidden;border-bottom:hidden;\"><div align=\"center\" style=\"\"><svg height=\"180pt\" viewBox=\"0.00 0.00 100.93 180.00\" width=\"101pt\" xmlns=\"http://www.w3.org/2000/svg\" xmlns:xlink=\"http://www.w3.org/1999/xlink\">\n",
       "<g class=\"graph\" id=\"graph0\" transform=\"scale(.6008 .6008) rotate(0) translate(4 295.6)\">\n",
       "<title>G</title>\n",
       "<polygon fill=\"#ffffff\" points=\"-4,4 -4,-295.6 164,-295.6 164,4 -4,4\" stroke=\"transparent\"/>\n",
       "<!-- Z1 -->\n",
       "<g class=\"node\" id=\"node1\">\n",
       "<title>Z1</title>\n",
       "<ellipse cx=\"61\" cy=\"-234\" fill=\"#404040\" rx=\"27\" ry=\"18\" stroke=\"#000000\"/>\n",
       "<text fill=\"#ffffff\" font-family=\"Times,serif\" font-size=\"14.00\" text-anchor=\"middle\" x=\"61\" y=\"-229.8\">Z1</text>\n",
       "</g>\n",
       "<!-- Z2 -->\n",
       "<g class=\"node\" id=\"node2\">\n",
       "<title>Z2</title>\n",
       "<ellipse cx=\"69\" cy=\"-162\" fill=\"#404040\" rx=\"27\" ry=\"18\" stroke=\"#000000\"/>\n",
       "<text fill=\"#ffffff\" font-family=\"Times,serif\" font-size=\"14.00\" text-anchor=\"middle\" x=\"69\" y=\"-157.8\">Z2</text>\n",
       "</g>\n",
       "<!-- Z1&#45;&gt;Z2 -->\n",
       "<g class=\"edge\" id=\"edge1\">\n",
       "<title>Z1-&gt;Z2</title>\n",
       "<path d=\"M62.0249,-215.7209C62.8805,-208.0205 63.8979,-198.8639 64.8487,-190.3062\" fill=\"none\" stroke=\"#000000\"/>\n",
       "<path d=\"M64.0126,-215.9418C64.8682,-208.2414 65.8856,-199.0848 66.8365,-190.5271\" fill=\"none\" stroke=\"#000000\"/>\n",
       "<polygon fill=\"#000000\" points=\"69.3283,-190.7386 66.9541,-180.4133 62.3711,-189.9656 69.3283,-190.7386\" stroke=\"#000000\"/>\n",
       "</g>\n",
       "<!-- Z3 -->\n",
       "<g class=\"node\" id=\"node3\">\n",
       "<title>Z3</title>\n",
       "<ellipse cx=\"27\" cy=\"-90\" fill=\"#404040\" rx=\"27\" ry=\"18\" stroke=\"#000000\"/>\n",
       "<text fill=\"#ffffff\" font-family=\"Times,serif\" font-size=\"14.00\" text-anchor=\"middle\" x=\"27\" y=\"-85.8\">Z3</text>\n",
       "</g>\n",
       "<!-- Z2&#45;&gt;Z3 -->\n",
       "<g class=\"edge\" id=\"edge2\">\n",
       "<title>Z2-&gt;Z3</title>\n",
       "<path d=\"M58.1828,-145.4409C53.1091,-136.7432 46.8328,-125.9838 41.1832,-116.2986\" fill=\"none\" stroke=\"#000000\"/>\n",
       "<path d=\"M59.9104,-144.4331C54.8367,-135.7354 48.5604,-124.9761 42.9107,-115.2909\" fill=\"none\" stroke=\"#000000\"/>\n",
       "<polygon fill=\"#000000\" points=\"44.944,-113.8148 36.882,-106.9405 38.8975,-117.3419 44.944,-113.8148\" stroke=\"#000000\"/>\n",
       "</g>\n",
       "<!-- Y -->\n",
       "<g class=\"node\" id=\"node4\">\n",
       "<title>Y</title>\n",
       "<ellipse cx=\"82\" cy=\"-18\" fill=\"#404040\" rx=\"27\" ry=\"18\" stroke=\"#000000\"/>\n",
       "<text fill=\"#ffffff\" font-family=\"Times,serif\" font-size=\"14.00\" text-anchor=\"middle\" x=\"82\" y=\"-13.8\">Y</text>\n",
       "</g>\n",
       "<!-- Z2&#45;&gt;Y -->\n",
       "<g class=\"edge\" id=\"edge4\">\n",
       "<title>Z2-&gt;Y</title>\n",
       "<path d=\"M69.6505,-143.6724C71.8678,-119.1111 75.8359,-75.1575 78.4443,-46.2641\" fill=\"none\" stroke=\"#000000\"/>\n",
       "<path d=\"M71.6424,-143.8522C73.8597,-119.291 77.8278,-75.3373 80.4362,-46.444\" fill=\"none\" stroke=\"#000000\"/>\n",
       "<polygon fill=\"#000000\" points=\"82.9535,-46.3638 80.3669,-36.0896 75.9819,-45.7344 82.9535,-46.3638\" stroke=\"#000000\"/>\n",
       "</g>\n",
       "<!-- Z3&#45;&gt;Y -->\n",
       "<g class=\"edge\" id=\"edge6\">\n",
       "<title>Z3-&gt;Y</title>\n",
       "<path d=\"M38.6857,-73.055C45.7178,-63.8494 54.64,-52.1694 62.4936,-41.8883\" fill=\"none\" stroke=\"#000000\"/>\n",
       "<path d=\"M40.275,-74.2691C47.3071,-65.0635 56.2293,-53.3835 64.083,-43.1024\" fill=\"none\" stroke=\"#000000\"/>\n",
       "<polygon fill=\"#000000\" points=\"66.28,-44.3446 69.569,-34.2733 60.7172,-40.0953 66.28,-44.3446\" stroke=\"#000000\"/>\n",
       "</g>\n",
       "<!-- X -->\n",
       "<g class=\"node\" id=\"node5\">\n",
       "<title>X</title>\n",
       "<ellipse cx=\"133\" cy=\"-234\" fill=\"#404040\" rx=\"27\" ry=\"18\" stroke=\"#000000\"/>\n",
       "<text fill=\"#ffffff\" font-family=\"Times,serif\" font-size=\"14.00\" text-anchor=\"middle\" x=\"133\" y=\"-229.8\">X</text>\n",
       "</g>\n",
       "<!-- X&#45;&gt;Z2 -->\n",
       "<g class=\"edge\" id=\"edge9\">\n",
       "<title>X-&gt;Z2</title>\n",
       "<path d=\"M118.3655,-219.0414C109.7273,-209.3234 98.4633,-196.6514 88.8029,-185.7835\" fill=\"none\" stroke=\"#000000\"/>\n",
       "<path d=\"M119.8604,-217.7127C111.2221,-207.9946 99.9581,-195.3227 90.2977,-184.4547\" fill=\"none\" stroke=\"#000000\"/>\n",
       "<polygon fill=\"#000000\" points=\"92.1196,-182.7413 82.8599,-177.5924 86.8877,-187.3918 92.1196,-182.7413\" stroke=\"#000000\"/>\n",
       "</g>\n",
       "<!-- X&#45;&gt;Y -->\n",
       "<g class=\"edge\" id=\"edge7\">\n",
       "<title>X-&gt;Y</title>\n",
       "<path d=\"M127.7662,-216.1853C118.8566,-178.4503 98.2043,-90.9816 87.5879,-46.018\" fill=\"none\" stroke=\"#000000\"/>\n",
       "<path d=\"M129.7127,-215.7257C120.8031,-177.9907 100.1508,-90.522 89.5343,-45.5584\" fill=\"none\" stroke=\"#000000\"/>\n",
       "<polygon fill=\"#000000\" points=\"91.9169,-44.7694 86.2125,-35.8413 85.1042,-46.378 91.9169,-44.7694\" stroke=\"#000000\"/>\n",
       "</g>\n",
       "<!-- Z0 -->\n",
       "<g class=\"node\" id=\"node6\">\n",
       "<title>Z0</title>\n",
       "<ellipse cx=\"61\" cy=\"-289.8\" fill=\"#a08080\" rx=\"1.8\" ry=\"1.8\" stroke=\"#000000\"/>\n",
       "</g>\n",
       "<!-- Z0&#45;&gt;Z1 -->\n",
       "<g class=\"edge\" id=\"edge8\">\n",
       "<title>Z0-&gt;Z1</title>\n",
       "<path d=\"M61,-287.9434C61,-283.7589 61,-273.1154 61,-262.3776\" fill=\"none\" stroke=\"#000000\" stroke-dasharray=\"5,2\"/>\n",
       "<polygon fill=\"#000000\" points=\"64.5001,-262.2613 61,-252.2614 57.5001,-262.2614 64.5001,-262.2613\" stroke=\"#000000\"/>\n",
       "</g>\n",
       "<!-- Z0&#45;&gt;Z3 -->\n",
       "<g class=\"edge\" id=\"edge5\">\n",
       "<title>Z0-&gt;Z3</title>\n",
       "<path d=\"M59.1704,-288.651C52.9008,-284.59 32.27,-270.1749 25,-252 7.2791,-207.6977 13.9222,-150.9731 20.4209,-117.7436\" fill=\"none\" stroke=\"#000000\" stroke-dasharray=\"5,2\"/>\n",
       "<polygon fill=\"#000000\" points=\"23.8738,-118.3306 22.4947,-107.8259 17.022,-116.8978 23.8738,-118.3306\" stroke=\"#000000\"/>\n",
       "</g>\n",
       "<!-- Z0&#45;&gt;X -->\n",
       "<g class=\"edge\" id=\"edge3\">\n",
       "<title>Z0-&gt;X</title>\n",
       "<path d=\"M62.5038,-288.6345C68.2308,-284.1961 89.2416,-267.9128 106.848,-254.2678\" fill=\"none\" stroke=\"#000000\" stroke-dasharray=\"5,2\"/>\n",
       "<polygon fill=\"#000000\" points=\"109.3756,-256.737 115.1358,-247.8448 105.0876,-251.2041 109.3756,-256.737\" stroke=\"#000000\"/>\n",
       "</g>\n",
       "</g>\n",
       "</svg></div></td><td style=\"border-top:hidden;border-bottom:hidden;\"><div align=\"center\" style=\"\">$$\\begin{equation}P( Y \\mid \\hookrightarrow\\mkern-6.5muX) = \\sum_{Z1,Z2,Z3}{P\\left(Y\\mid X,Z2,Z3\\right) \\cdot P\\left(Z2\\mid X,Z1\\right) \\cdot \\left(\\sum_{X'}{P\\left(Z3\\mid X',Z1,Z2\\right) \\cdot P\\left(Z1\\right) \\cdot P\\left(X'\\mid Z1\\right)}\\right)}\\end{equation}$$</div></td><td style=\"border-top:hidden;border-bottom:hidden;\"><div align=\"center\" style=\"\"><table style=\"border:1px solid black;\">\n",
       "<tr><th colspan='1'></th><th colspan='2' style='border:1px solid black;color:black;background-color:#808080;'><center>Y</center></th></tr>\n",
       "<tr><th style='border:1px solid black;color:black;background-color:#808080'><center>X</center></th><th style='border:1px solid black;border-bottom-style: double;color:black;background-color:#BBBBBB'><center>0</center></th><th style='border:1px solid black;border-bottom-style: double;color:black;background-color:#BBBBBB'><center>1</center></th></tr>\n",
       "<tr><th style='border:1px solid black;color:black;background-color:#BBBBBB'><center>0</center></th><td style='color:black;background-color:#c7b664;text-align:right;'>0.4347</td><td style='color:black;background-color:#b6c764;text-align:right;'>0.5653</td></tr>\n",
       "<tr><th style='border:1px solid black;color:black;background-color:#BBBBBB'><center>1</center></th><td style='color:black;background-color:#cfae64;text-align:right;'>0.3750</td><td style='color:black;background-color:#aecf64;text-align:right;'>0.6250</td></tr>\n",
       "</table></div></td></tr><tr><td style=\"border-top:hidden;border-bottom:hidden;\"><div align=\"center\"><small>Causal Model</small></div></td><td style=\"border-top:hidden;border-bottom:hidden;\"><div align=\"center\"><small>Explanation : Do-calculus computations</small></div></td><td style=\"border-top:hidden;border-bottom:hidden;\"><div align=\"center\"><small>Impact : $P( Y \\mid \\hookrightarrow\\mkern-6.5muX)$</small></div></td></tr></table>"
      ],
      "text/plain": [
       "<IPython.core.display.HTML object>"
      ]
     },
     "metadata": {},
     "output_type": "display_data"
    }
   ],
   "source": [
    "bn = gum.fastBN(\"Z1->Z2->Z3->Y<-X->Z2;Z2->Y;Z1->X->Z3<-Z1\")\n",
    "gnb.showBN(bn)\n",
    "c = csl.CausalModel(bn, [(\"Z0\", (\"X\", \"Z1\", \"Z3\"))], False)\n",
    "\n",
    "formula, impact, explanation = csl.causalImpact(c, \"Y\", \"X\")\n",
    "cslnb.showCausalImpact(c,\"Y\",\"X\")"
   ]
  },
  {
   "cell_type": "code",
   "execution_count": null,
   "metadata": {},
   "outputs": [],
   "source": []
  }
 ],
 "metadata": {
  "anaconda-cloud": {},
  "hide_input": false,
  "kernelspec": {
   "display_name": "Python 3",
   "language": "python",
   "name": "python3"
  },
  "language_info": {
   "codemirror_mode": {
    "name": "ipython",
    "version": 3
   },
   "file_extension": ".py",
   "mimetype": "text/x-python",
   "name": "python",
   "nbconvert_exporter": "python",
   "pygments_lexer": "ipython3",
   "version": "3.7.3"
  },
  "toc": {
   "colors": {
    "hover_highlight": "#DAA520",
    "running_highlight": "#FF0000",
    "selected_highlight": "#FFD700"
   },
   "moveMenuLeft": true,
   "nav_menu": {
    "height": "193px",
    "width": "252px"
   },
   "navigate_menu": true,
   "number_sections": true,
   "sideBar": true,
   "threshold": 4,
   "toc_cell": false,
   "toc_section_display": "block",
   "toc_window_display": true,
   "widenNotebook": false
  }
 },
 "nbformat": 4,
 "nbformat_minor": 4
}
