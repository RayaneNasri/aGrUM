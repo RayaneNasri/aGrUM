{
 "cells": [
  {
   "cell_type": "markdown",
   "metadata": {},
   "source": [
    "<a href=\"http://agrum.org\" target=\"blank\"><img src=\"http://agrum.gitlab.io/theme/img/logoAgrum.png\" align=\"left\" style=\"height:100px\"/></a><a rel=\"license\" href=\"http://creativecommons.org/licenses/by-nc/4.0/\"><img alt=\"Creative Commons License\" style=\"border-width:0\" src=\"https://i.creativecommons.org/l/by-nc/4.0/88x31.png\" /></a><br />This pyAgrum's notebook is licensed under a <a rel=\"license\" href=\"http://creativecommons.org/licenses/by-nc/4.0/\">Creative Commons Attribution-NonCommercial 4.0 International License</a>."
   ]
  },
  {
   "cell_type": "markdown",
   "metadata": {},
   "source": [
    "# Potentials\n",
    "\n",
    "In *pyAgrum*, Potentials represent multi-dimensionnal arrays with (discrete) random variables attached to each dimension. This mathematical object have tensorial operators w.r.t. to the variables attached. "
   ]
  },
  {
   "cell_type": "code",
   "execution_count": 1,
   "metadata": {
    "ExecuteTime": {
     "end_time": "2019-02-25T16:02:22.747155Z",
     "start_time": "2019-02-25T16:02:22.531055Z"
    },
    "execution": {
     "iopub.execute_input": "2021-05-13T16:42:09.692642Z",
     "iopub.status.busy": "2021-05-13T16:42:09.692642Z",
     "iopub.status.idle": "2021-05-13T16:42:10.127375Z",
     "shell.execute_reply": "2021-05-13T16:42:10.127375Z",
     "shell.execute_reply.started": "2021-05-13T16:42:09.692642Z"
    }
   },
   "outputs": [],
   "source": [
    "import pyAgrum as gum\n",
    "import pyAgrum.lib.notebook as gnb\n",
    "\n",
    "a,b,c=[gum.LabelizedVariable(s,s,2) for s in \"abc\"]"
   ]
  },
  {
   "cell_type": "markdown",
   "metadata": {},
   "source": [
    "# potential algebra"
   ]
  },
  {
   "cell_type": "code",
   "execution_count": 2,
   "metadata": {
    "ExecuteTime": {
     "end_time": "2019-02-25T16:02:22.753418Z",
     "start_time": "2019-02-25T16:02:22.749707Z"
    },
    "execution": {
     "iopub.execute_input": "2021-05-13T16:42:10.127375Z",
     "iopub.status.busy": "2021-05-13T16:42:10.127375Z",
     "iopub.status.idle": "2021-05-13T16:42:10.152497Z",
     "shell.execute_reply": "2021-05-13T16:42:10.151264Z",
     "shell.execute_reply.started": "2021-05-13T16:42:10.127375Z"
    }
   },
   "outputs": [],
   "source": [
    "p1=gum.Potential().add(a).add(b).fillWith([1,2,3,4]).normalize()\n",
    "p2=gum.Potential().add(b).add(c).fillWith([4,5,2,3]).normalize()"
   ]
  },
  {
   "cell_type": "code",
   "execution_count": 3,
   "metadata": {
    "ExecuteTime": {
     "end_time": "2019-02-25T16:02:22.764375Z",
     "start_time": "2019-02-25T16:02:22.755155Z"
    },
    "execution": {
     "iopub.execute_input": "2021-05-13T16:42:10.152497Z",
     "iopub.status.busy": "2021-05-13T16:42:10.152497Z",
     "iopub.status.idle": "2021-05-13T16:42:10.167276Z",
     "shell.execute_reply": "2021-05-13T16:42:10.167276Z",
     "shell.execute_reply.started": "2021-05-13T16:42:10.152497Z"
    }
   },
   "outputs": [
    {
     "data": {
      "text/html": [
       "<table style=\"border-style: hidden; border-collapse: collapse;\" width=\"100%\"><tr><td style=\"border-top:hidden;border-bottom:hidden;\"><div align=\"center\" style=\"\"><table style=\"border:1px solid black;\">\n",
       "<tr><th colspan='1'></th>\n",
       "      <th colspan='2' style='border:1px solid black;color:black;background-color:#808080;'><center>a</center>\n",
       "      </th></tr>\n",
       "<tr><th style='border:1px solid black;color:black;background-color:#808080'><center>b</center></th><th style='border:1px solid black;border-bottom-style: double;color:black;background-color:#BBBBBB'>\n",
       "      <center>0</center></th><th style='border:1px solid black;border-bottom-style: double;color:black;background-color:#BBBBBB'>\n",
       "      <center>1</center></th></tr>\n",
       "<tr><th style='border:1px solid black;color:black;background-color:#BBBBBB'><center>0</center></th><td style='color:black;background-color:#f28b64;text-align:right;'>0.1000</td><td style='color:black;background-color:#e59864;text-align:right;'>0.2000</td></tr>\n",
       "<tr><th style='border:1px solid black;color:black;background-color:#BBBBBB'><center>1</center></th><td style='color:black;background-color:#d8a564;text-align:right;'>0.3000</td><td style='color:black;background-color:#cbb264;text-align:right;'>0.4000</td></tr>\n",
       "</table></div></td><td style=\"border-top:hidden;border-bottom:hidden;\"><div align=\"center\" style=\"\"><table style=\"border:1px solid black;\">\n",
       "<tr><th colspan='1'></th>\n",
       "      <th colspan='2' style='border:1px solid black;color:black;background-color:#808080;'><center>b</center>\n",
       "      </th></tr>\n",
       "<tr><th style='border:1px solid black;color:black;background-color:#808080'><center>c</center></th><th style='border:1px solid black;border-bottom-style: double;color:black;background-color:#BBBBBB'>\n",
       "      <center>0</center></th><th style='border:1px solid black;border-bottom-style: double;color:black;background-color:#BBBBBB'>\n",
       "      <center>1</center></th></tr>\n",
       "<tr><th style='border:1px solid black;color:black;background-color:#BBBBBB'><center>0</center></th><td style='color:black;background-color:#daa364;text-align:right;'>0.2857</td><td style='color:black;background-color:#d1ac64;text-align:right;'>0.3571</td></tr>\n",
       "<tr><th style='border:1px solid black;color:black;background-color:#BBBBBB'><center>1</center></th><td style='color:black;background-color:#ec9164;text-align:right;'>0.1429</td><td style='color:black;background-color:#e39a64;text-align:right;'>0.2143</td></tr>\n",
       "</table></div></td><td style=\"border-top:hidden;border-bottom:hidden;\"><div align=\"center\" style=\"\"><table style=\"border:1px solid black;\">\n",
       "<tr><th colspan='2'></th>\n",
       "      <th colspan='2' style='border:1px solid black;color:black;background-color:#808080;'><center>b</center>\n",
       "      </th></tr>\n",
       "<tr><th style='border:1px solid black;color:black;background-color:#808080'><center>a</center></th><th style='border:1px solid black;color:black;background-color:#808080'><center>c</center></th><th style='border:1px solid black;border-bottom-style: double;color:black;background-color:#BBBBBB'>\n",
       "      <center>0</center></th><th style='border:1px solid black;border-bottom-style: double;color:black;background-color:#BBBBBB'>\n",
       "      <center>1</center></th></tr>\n",
       "<tr><th style='border:1px solid black;color:black;background-color:#BBBBBB;' rowspan = '2'>\n",
       "            <center>0</center></th><th style='border:1px solid black;color:black;background-color:#BBBBBB'><center>0</center></th><td style='text-align:right;'>0.3857</td><td style='text-align:right;'>0.6571</td></tr>\n",
       "<tr><th style='border:1px solid black;color:black;background-color:#BBBBBB'><center>1</center></th><td style='text-align:right;'>0.2429</td><td style='text-align:right;'>0.5143</td></tr>\n",
       "<tr><th style='border:1px solid black;color:black;background-color:#BBBBBB;' rowspan = '2'>\n",
       "            <center>1</center></th><th style='border:1px solid black;color:black;background-color:#BBBBBB'><center>0</center></th><td style='text-align:right;'>0.4857</td><td style='text-align:right;'>0.7571</td></tr>\n",
       "<tr><th style='border:1px solid black;color:black;background-color:#BBBBBB'><center>1</center></th><td style='text-align:right;'>0.3429</td><td style='text-align:right;'>0.6143</td></tr>\n",
       "</table></div></td></tr><tr><td style=\"border-top:hidden;border-bottom:hidden;\"><div align=\"center\"><small>p1</small></div></td><td style=\"border-top:hidden;border-bottom:hidden;\"><div align=\"center\"><small>p2</small></div></td><td style=\"border-top:hidden;border-bottom:hidden;\"><div align=\"center\"><small>p1+p2</small></div></td></tr></table>"
      ],
      "text/plain": [
       "<IPython.core.display.HTML object>"
      ]
     },
     "metadata": {},
     "output_type": "display_data"
    }
   ],
   "source": [
    "gnb.sideBySide(p1,p2,p1+p2,\n",
    "              captions=['p1','p2','p1+p2'])"
   ]
  },
  {
   "cell_type": "code",
   "execution_count": 4,
   "metadata": {
    "ExecuteTime": {
     "end_time": "2019-02-25T16:02:22.772619Z",
     "start_time": "2019-02-25T16:02:22.767436Z"
    },
    "execution": {
     "iopub.execute_input": "2021-05-13T16:42:10.167276Z",
     "iopub.status.busy": "2021-05-13T16:42:10.167276Z",
     "iopub.status.idle": "2021-05-13T16:42:10.187472Z",
     "shell.execute_reply": "2021-05-13T16:42:10.187472Z",
     "shell.execute_reply.started": "2021-05-13T16:42:10.167276Z"
    }
   },
   "outputs": [
    {
     "data": {
      "text/html": [
       "<table style=\"border:1px solid black;\"><tr><th colspan='2'></th>\n",
       "      <th colspan='2' style='border:1px solid black;color:black;background-color:#808080;'><center>c</center>\n",
       "      </th></tr><tr><th style='border:1px solid black;color:black;background-color:#808080'><center>b</center></th><th style='border:1px solid black;color:black;background-color:#808080'><center>a</center></th><th style='border:1px solid black;border-bottom-style: double;color:black;background-color:#BBBBBB'>\n",
       "      <center>0</center></th><th style='border:1px solid black;border-bottom-style: double;color:black;background-color:#BBBBBB'>\n",
       "      <center>1</center></th></tr><tr><th style='border:1px solid black;color:black;background-color:#BBBBBB;' rowspan = '2'>\n",
       "            <center>0</center></th><th style='border:1px solid black;color:black;background-color:#BBBBBB'><center>0</center></th><td style='text-align:right;'>0.3699</td><td style='text-align:right;'>0.3208</td></tr><tr><th style='border:1px solid black;color:black;background-color:#BBBBBB'><center>1</center></th><td style='text-align:right;'>0.3908</td><td style='text-align:right;'>0.3582</td></tr><tr><th style='border:1px solid black;color:black;background-color:#BBBBBB;' rowspan = '2'>\n",
       "            <center>1</center></th><th style='border:1px solid black;color:black;background-color:#BBBBBB'><center>0</center></th><td style='text-align:right;'>0.6301</td><td style='text-align:right;'>0.6792</td></tr><tr><th style='border:1px solid black;color:black;background-color:#BBBBBB'><center>1</center></th><td style='text-align:right;'>0.6092</td><td style='text-align:right;'>0.6418</td></tr></table>"
      ],
      "text/plain": [
       "<IPython.core.display.HTML object>"
      ]
     },
     "metadata": {},
     "output_type": "display_data"
    }
   ],
   "source": [
    "p3=p1+p2 \n",
    "gnb.showPotential(p3/p3.margSumOut([\"b\"]))"
   ]
  },
  {
   "cell_type": "code",
   "execution_count": 5,
   "metadata": {
    "ExecuteTime": {
     "end_time": "2019-02-25T16:02:22.780177Z",
     "start_time": "2019-02-25T16:02:22.775712Z"
    },
    "execution": {
     "iopub.execute_input": "2021-05-13T16:42:10.187472Z",
     "iopub.status.busy": "2021-05-13T16:42:10.187472Z",
     "iopub.status.idle": "2021-05-13T16:42:10.202625Z",
     "shell.execute_reply": "2021-05-13T16:42:10.202625Z",
     "shell.execute_reply.started": "2021-05-13T16:42:10.187472Z"
    }
   },
   "outputs": [
    {
     "data": {
      "text/html": [
       "<table style=\"border-style: hidden; border-collapse: collapse;\" width=\"100%\"><tr><td style=\"border-top:hidden;border-bottom:hidden;\"><div align=\"center\" style=\"\"><table style=\"border:1px solid black;\">\n",
       "<tr><th colspan='2'></th>\n",
       "      <th colspan='2' style='border:1px solid black;color:black;background-color:#808080;'><center>b</center>\n",
       "      </th></tr>\n",
       "<tr><th style='border:1px solid black;color:black;background-color:#808080'><center>a</center></th><th style='border:1px solid black;color:black;background-color:#808080'><center>c</center></th><th style='border:1px solid black;border-bottom-style: double;color:black;background-color:#BBBBBB'>\n",
       "      <center>0</center></th><th style='border:1px solid black;border-bottom-style: double;color:black;background-color:#BBBBBB'>\n",
       "      <center>1</center></th></tr>\n",
       "<tr><th style='border:1px solid black;color:black;background-color:#BBBBBB;' rowspan = '2'>\n",
       "            <center>0</center></th><th style='border:1px solid black;color:black;background-color:#BBBBBB'><center>0</center></th><td style='text-align:right;'>0.3857</td><td style='text-align:right;'>0.6571</td></tr>\n",
       "<tr><th style='border:1px solid black;color:black;background-color:#BBBBBB'><center>1</center></th><td style='text-align:right;'>0.2429</td><td style='text-align:right;'>0.5143</td></tr>\n",
       "<tr><th style='border:1px solid black;color:black;background-color:#BBBBBB;' rowspan = '2'>\n",
       "            <center>1</center></th><th style='border:1px solid black;color:black;background-color:#BBBBBB'><center>0</center></th><td style='text-align:right;'>0.4857</td><td style='text-align:right;'>0.7571</td></tr>\n",
       "<tr><th style='border:1px solid black;color:black;background-color:#BBBBBB'><center>1</center></th><td style='text-align:right;'>0.3429</td><td style='text-align:right;'>0.6143</td></tr>\n",
       "</table></div></td><td style=\"border-top:hidden;border-bottom:hidden;\"><div align=\"center\" style=\"\"><table style=\"border:1px solid black;\">\n",
       "<tr><th colspan='2'></th>\n",
       "      <th colspan='2' style='border:1px solid black;color:black;background-color:#808080;'><center>b</center>\n",
       "      </th></tr>\n",
       "<tr><th style='border:1px solid black;color:black;background-color:#808080'><center>a</center></th><th style='border:1px solid black;color:black;background-color:#808080'><center>c</center></th><th style='border:1px solid black;border-bottom-style: double;color:black;background-color:#BBBBBB'>\n",
       "      <center>0</center></th><th style='border:1px solid black;border-bottom-style: double;color:black;background-color:#BBBBBB'>\n",
       "      <center>1</center></th></tr>\n",
       "<tr><th style='border:1px solid black;color:black;background-color:#BBBBBB;' rowspan = '2'>\n",
       "            <center>0</center></th><th style='border:1px solid black;color:black;background-color:#BBBBBB'><center>0</center></th><td style='text-align:right;'>1.3857</td><td style='text-align:right;'>1.6571</td></tr>\n",
       "<tr><th style='border:1px solid black;color:black;background-color:#BBBBBB'><center>1</center></th><td style='text-align:right;'>1.2429</td><td style='text-align:right;'>1.5143</td></tr>\n",
       "<tr><th style='border:1px solid black;color:black;background-color:#BBBBBB;' rowspan = '2'>\n",
       "            <center>1</center></th><th style='border:1px solid black;color:black;background-color:#BBBBBB'><center>0</center></th><td style='text-align:right;'>1.4857</td><td style='text-align:right;'>1.7571</td></tr>\n",
       "<tr><th style='border:1px solid black;color:black;background-color:#BBBBBB'><center>1</center></th><td style='text-align:right;'>1.3429</td><td style='text-align:right;'>1.6143</td></tr>\n",
       "</table></div></td></tr><tr><td style=\"border-top:hidden;border-bottom:hidden;\"><div align=\"center\"><small>p3</small></div></td><td style=\"border-top:hidden;border-bottom:hidden;\"><div align=\"center\"><small>p4</small></div></td></tr></table>"
      ],
      "text/plain": [
       "<IPython.core.display.HTML object>"
      ]
     },
     "metadata": {},
     "output_type": "display_data"
    }
   ],
   "source": [
    "p4=gum.Potential()+p3\n",
    "gnb.sideBySide(p3,p4,\n",
    "              captions=['p3','p4'])\n"
   ]
  },
  {
   "cell_type": "markdown",
   "metadata": {},
   "source": [
    "# Bayes' theorem"
   ]
  },
  {
   "cell_type": "code",
   "execution_count": 6,
   "metadata": {
    "ExecuteTime": {
     "end_time": "2019-02-25T16:02:24.950470Z",
     "start_time": "2019-02-25T16:02:22.781865Z"
    },
    "execution": {
     "iopub.execute_input": "2021-05-13T16:42:10.202625Z",
     "iopub.status.busy": "2021-05-13T16:42:10.202625Z",
     "iopub.status.idle": "2021-05-13T16:42:10.302266Z",
     "shell.execute_reply": "2021-05-13T16:42:10.302266Z",
     "shell.execute_reply.started": "2021-05-13T16:42:10.202625Z"
    }
   },
   "outputs": [
    {
     "data": {
      "text/html": [
       "<svg xmlns=\"http://www.w3.org/2000/svg\" xmlns:xlink=\"http://www.w3.org/1999/xlink\" width=\"134pt\" height=\"116pt\" viewBox=\"0.00 0.00 134.00 116.00\">\n",
       "<g id=\"graph0\" class=\"graph\" transform=\"scale(1 1) rotate(0) translate(4 112)\">\n",
       "<title>G</title>\n",
       "<!-- b -->\n",
       "<g id=\"node1\" class=\"node\">\n",
       "<title>b</title>\n",
       "<g id=\"a_node1\"><a xlink:title=\"(2) b\">\n",
       "<ellipse fill=\"#404040\" stroke=\"black\" cx=\"27\" cy=\"-90\" rx=\"27\" ry=\"18\"/>\n",
       "<text text-anchor=\"middle\" x=\"27\" y=\"-86.3\" font-family=\"Times New Roman,serif\" font-size=\"14.00\" fill=\"white\">b</text>\n",
       "</a>\n",
       "</g>\n",
       "</g>\n",
       "<!-- c -->\n",
       "<g id=\"node3\" class=\"node\">\n",
       "<title>c</title>\n",
       "<g id=\"a_node3\"><a xlink:title=\"(1) c\">\n",
       "<ellipse fill=\"#404040\" stroke=\"black\" cx=\"63\" cy=\"-18\" rx=\"27\" ry=\"18\"/>\n",
       "<text text-anchor=\"middle\" x=\"63\" y=\"-14.3\" font-family=\"Times New Roman,serif\" font-size=\"14.00\" fill=\"white\">c</text>\n",
       "</a>\n",
       "</g>\n",
       "</g>\n",
       "<!-- b&#45;&gt;c -->\n",
       "<g id=\"edge2\" class=\"edge\">\n",
       "<title>b-&gt;c</title>\n",
       "<g id=\"a_edge2\"><a xlink:title=\"(2, 1) : \">\n",
       "<path fill=\"none\" stroke=\"#4a4a4a\" d=\"M35.35,-72.76C39.71,-64.28 45.15,-53.71 50.04,-44.2\"/>\n",
       "<polygon fill=\"#4a4a4a\" stroke=\"#4a4a4a\" points=\"53.23,-45.64 54.7,-35.15 47.01,-42.44 53.23,-45.64\"/>\n",
       "</a>\n",
       "</g>\n",
       "</g>\n",
       "<!-- a -->\n",
       "<g id=\"node2\" class=\"node\">\n",
       "<title>a</title>\n",
       "<g id=\"a_node2\"><a xlink:title=\"(0) a\">\n",
       "<ellipse fill=\"#404040\" stroke=\"black\" cx=\"99\" cy=\"-90\" rx=\"27\" ry=\"18\"/>\n",
       "<text text-anchor=\"middle\" x=\"99\" y=\"-86.3\" font-family=\"Times New Roman,serif\" font-size=\"14.00\" fill=\"white\">a</text>\n",
       "</a>\n",
       "</g>\n",
       "</g>\n",
       "<!-- a&#45;&gt;c -->\n",
       "<g id=\"edge1\" class=\"edge\">\n",
       "<title>a-&gt;c</title>\n",
       "<g id=\"a_edge1\"><a xlink:title=\"(0, 1) : \">\n",
       "<path fill=\"none\" stroke=\"#4a4a4a\" d=\"M90.65,-72.76C86.29,-64.28 80.85,-53.71 75.96,-44.2\"/>\n",
       "<polygon fill=\"#4a4a4a\" stroke=\"#4a4a4a\" points=\"78.99,-42.44 71.3,-35.15 72.77,-45.64 78.99,-42.44\"/>\n",
       "</a>\n",
       "</g>\n",
       "</g>\n",
       "</g>\n",
       "</svg>"
      ],
      "text/plain": [
       "(gum::BayesNet<double>@00000233F99F1BB0) BN{nodes: 3, arcs: 2, domainSize: 27, dim: 33}"
      ]
     },
     "execution_count": 6,
     "metadata": {},
     "output_type": "execute_result"
    }
   ],
   "source": [
    "bn=gum.fastBN(\"a->c;b->c\",3)\n",
    "bn"
   ]
  },
  {
   "cell_type": "markdown",
   "metadata": {},
   "source": [
    "In such a small bayes net, we can directly manipulate $P(a,b,c)$. For instance : $$P(b|c)=\\frac{\\sum_{a} P(a,b,c)}{\\sum_{a,b} P(a,b,c)}$$"
   ]
  },
  {
   "cell_type": "code",
   "execution_count": 7,
   "metadata": {
    "ExecuteTime": {
     "end_time": "2019-02-25T16:02:24.959791Z",
     "start_time": "2019-02-25T16:02:24.952627Z"
    },
    "execution": {
     "iopub.execute_input": "2021-05-13T16:42:10.302266Z",
     "iopub.status.busy": "2021-05-13T16:42:10.302266Z",
     "iopub.status.idle": "2021-05-13T16:42:10.317302Z",
     "shell.execute_reply": "2021-05-13T16:42:10.317302Z",
     "shell.execute_reply.started": "2021-05-13T16:42:10.302266Z"
    }
   },
   "outputs": [
    {
     "data": {
      "text/html": [
       "<table style=\"border:1px solid black;\">\n",
       "<tr><th colspan='1'></th>\n",
       "      <th colspan='3' style='border:1px solid black;color:black;background-color:#808080;'><center>b</center>\n",
       "      </th></tr>\n",
       "<tr><th style='border:1px solid black;color:black;background-color:#808080'><center>c</center></th><th style='border:1px solid black;border-bottom-style: double;color:black;background-color:#BBBBBB'>\n",
       "      <center>0</center></th><th style='border:1px solid black;border-bottom-style: double;color:black;background-color:#BBBBBB'>\n",
       "      <center>1</center></th><th style='border:1px solid black;border-bottom-style: double;color:black;background-color:#BBBBBB'>\n",
       "      <center>2</center></th></tr>\n",
       "<tr><th style='border:1px solid black;color:black;background-color:#BBBBBB'><center>0</center></th><td style='color:black;background-color:#d2ab64;text-align:right;'>0.3482</td><td style='color:black;background-color:#d4a964;text-align:right;'>0.3349</td><td style='color:black;background-color:#d6a764;text-align:right;'>0.3169</td></tr>\n",
       "<tr><th style='border:1px solid black;color:black;background-color:#BBBBBB'><center>1</center></th><td style='color:black;background-color:#d0ad64;text-align:right;'>0.3667</td><td style='color:black;background-color:#bdc064;text-align:right;'>0.5083</td><td style='color:black;background-color:#ee8f64;text-align:right;'>0.1250</td></tr>\n",
       "<tr><th style='border:1px solid black;color:black;background-color:#BBBBBB'><center>2</center></th><td style='color:black;background-color:#dda064;text-align:right;'>0.2597</td><td style='color:black;background-color:#e09d64;text-align:right;'>0.2377</td><td style='color:black;background-color:#bebf64;text-align:right;'>0.5026</td></tr>\n",
       "</table>"
      ],
      "text/plain": [
       "(gum::Potential<double>@00000233F9938060) \n",
       "      ||  b                          |\n",
       "c     ||0        |1        |2        |\n",
       "------||---------|---------|---------|\n",
       "0     || 0.3482  | 0.3349  | 0.3169  |\n",
       "1     || 0.3667  | 0.5083  | 0.1250  |\n",
       "2     || 0.2597  | 0.2377  | 0.5026  |"
      ]
     },
     "execution_count": 7,
     "metadata": {},
     "output_type": "execute_result"
    }
   ],
   "source": [
    "pABC=bn.cpt(\"a\")*bn.cpt(\"b\")*bn.cpt(\"c\")\n",
    "pBgivenC=(pABC.margSumOut([\"a\"])/pABC.margSumOut([\"a\",\"b\"]))\n",
    "\n",
    "pBgivenC.putFirst(\"b\") # in order to have b horizontally in the table"
   ]
  },
  {
   "cell_type": "markdown",
   "metadata": {},
   "source": [
    "# Joint, marginal probability, likelihood\n",
    "Let's compute the joint probability $P(A,B)$ from $P(A,B,C)$"
   ]
  },
  {
   "cell_type": "code",
   "execution_count": 8,
   "metadata": {
    "ExecuteTime": {
     "end_time": "2019-02-25T16:02:24.973689Z",
     "start_time": "2019-02-25T16:02:24.961832Z"
    },
    "execution": {
     "iopub.execute_input": "2021-05-13T16:42:10.317302Z",
     "iopub.status.busy": "2021-05-13T16:42:10.317302Z",
     "iopub.status.idle": "2021-05-13T16:42:10.332467Z",
     "shell.execute_reply": "2021-05-13T16:42:10.332467Z",
     "shell.execute_reply.started": "2021-05-13T16:42:10.317302Z"
    }
   },
   "outputs": [
    {
     "name": "stdout",
     "output_type": "stream",
     "text": [
      "pAC really is a probability : it sums to 1.0\n"
     ]
    },
    {
     "data": {
      "text/html": [
       "<table style=\"border:1px solid black;\">\n",
       "<tr><th colspan='1'></th>\n",
       "      <th colspan='3' style='border:1px solid black;color:black;background-color:#808080;'><center>a</center>\n",
       "      </th></tr>\n",
       "<tr><th style='border:1px solid black;color:black;background-color:#808080'><center>c</center></th><th style='border:1px solid black;border-bottom-style: double;color:black;background-color:#BBBBBB'>\n",
       "      <center>0</center></th><th style='border:1px solid black;border-bottom-style: double;color:black;background-color:#BBBBBB'>\n",
       "      <center>1</center></th><th style='border:1px solid black;border-bottom-style: double;color:black;background-color:#BBBBBB'>\n",
       "      <center>2</center></th></tr>\n",
       "<tr><th style='border:1px solid black;color:black;background-color:#BBBBBB'><center>0</center></th><td style='color:black;background-color:#e69764;text-align:right;'>0.1946</td><td style='color:black;background-color:#f58864;text-align:right;'>0.0756</td><td style='color:black;background-color:#f38a64;text-align:right;'>0.0872</td></tr>\n",
       "<tr><th style='border:1px solid black;color:black;background-color:#BBBBBB'><center>1</center></th><td style='color:black;background-color:#f28b64;text-align:right;'>0.0954</td><td style='color:black;background-color:#ef8e64;text-align:right;'>0.1241</td><td style='color:black;background-color:#f28b64;text-align:right;'>0.1008</td></tr>\n",
       "<tr><th style='border:1px solid black;color:black;background-color:#BBBBBB'><center>2</center></th><td style='color:black;background-color:#f08d64;text-align:right;'>0.1120</td><td style='color:black;background-color:#f28b64;text-align:right;'>0.0994</td><td style='color:black;background-color:#f08d64;text-align:right;'>0.1110</td></tr>\n",
       "</table>"
      ],
      "text/plain": [
       "(gum::Potential<double>@00000233F9938680) \n",
       "      ||  a                          |\n",
       "c     ||0        |1        |2        |\n",
       "------||---------|---------|---------|\n",
       "0     || 0.1946  | 0.0756  | 0.0872  |\n",
       "1     || 0.0954  | 0.1241  | 0.1008  |\n",
       "2     || 0.1120  | 0.0994  | 0.1110  |"
      ]
     },
     "execution_count": 8,
     "metadata": {},
     "output_type": "execute_result"
    }
   ],
   "source": [
    "pAC=pABC.margSumOut([\"b\"])\n",
    "print(\"pAC really is a probability : it sums to {}\".format(pAC.sum()))\n",
    "pAC\n"
   ]
  },
  {
   "cell_type": "markdown",
   "metadata": {},
   "source": [
    "## Computing $p(A)$"
   ]
  },
  {
   "cell_type": "code",
   "execution_count": 9,
   "metadata": {
    "ExecuteTime": {
     "end_time": "2019-02-25T16:02:24.980756Z",
     "start_time": "2019-02-25T16:02:24.975900Z"
    },
    "execution": {
     "iopub.execute_input": "2021-05-13T16:42:10.332467Z",
     "iopub.status.busy": "2021-05-13T16:42:10.332467Z",
     "iopub.status.idle": "2021-05-13T16:42:10.352664Z",
     "shell.execute_reply": "2021-05-13T16:42:10.351610Z",
     "shell.execute_reply.started": "2021-05-13T16:42:10.332467Z"
    }
   },
   "outputs": [
    {
     "data": {
      "text/html": [
       "<table style=\"border:1px solid black;\">\n",
       "<tr style='border:1px solid black;color:black;background-color:#808080'>\n",
       "      <th colspan='3'><center>a</center></th></tr>\n",
       "<tr><th style='border:1px solid black;border-bottom-style: double;color:black;background-color:#BBBBBB'>\n",
       "      <center>0</center></th><th style='border:1px solid black;border-bottom-style: double;color:black;background-color:#BBBBBB'>\n",
       "      <center>1</center></th><th style='border:1px solid black;border-bottom-style: double;color:black;background-color:#BBBBBB'>\n",
       "      <center>2</center></th></tr>\n",
       "<tr><td style='color:black;background-color:#cbb264;text-align:right;'>0.4020</td><td style='color:black;background-color:#d8a564;text-align:right;'>0.2990</td><td style='color:black;background-color:#d8a564;text-align:right;'>0.2989</td></tr>\n",
       "</table>"
      ],
      "text/plain": [
       "(gum::Potential<double>@00000233F99380A0) \n",
       "  a                          |\n",
       "0        |1        |2        |\n",
       "---------|---------|---------|\n",
       " 0.4020  | 0.2990  | 0.2989  |"
      ]
     },
     "execution_count": 9,
     "metadata": {},
     "output_type": "execute_result"
    }
   ],
   "source": [
    "pAC.margSumOut([\"c\"])"
   ]
  },
  {
   "cell_type": "markdown",
   "metadata": {},
   "source": [
    "## Computing $p(A |C=1)$\n",
    "It is easy to compute $p(A, C=1)$"
   ]
  },
  {
   "cell_type": "code",
   "execution_count": 10,
   "metadata": {
    "ExecuteTime": {
     "end_time": "2019-02-25T16:02:24.986946Z",
     "start_time": "2019-02-25T16:02:24.982820Z"
    },
    "execution": {
     "iopub.execute_input": "2021-05-13T16:42:10.352664Z",
     "iopub.status.busy": "2021-05-13T16:42:10.352664Z",
     "iopub.status.idle": "2021-05-13T16:42:10.367649Z",
     "shell.execute_reply": "2021-05-13T16:42:10.367649Z",
     "shell.execute_reply.started": "2021-05-13T16:42:10.352664Z"
    }
   },
   "outputs": [
    {
     "data": {
      "text/html": [
       "<table style=\"border:1px solid black;\">\n",
       "<tr style='border:1px solid black;color:black;background-color:#808080'>\n",
       "      <th colspan='3'><center>a</center></th></tr>\n",
       "<tr><th style='border:1px solid black;border-bottom-style: double;color:black;background-color:#BBBBBB'>\n",
       "      <center>0</center></th><th style='border:1px solid black;border-bottom-style: double;color:black;background-color:#BBBBBB'>\n",
       "      <center>1</center></th><th style='border:1px solid black;border-bottom-style: double;color:black;background-color:#BBBBBB'>\n",
       "      <center>2</center></th></tr>\n",
       "<tr><td style='text-align:right;'>0.0954</td><td style='text-align:right;'>0.1241</td><td style='text-align:right;'>0.1008</td></tr>\n",
       "</table>"
      ],
      "text/plain": [
       "(gum::Potential<double>@00000233F9938360) \n",
       "  a                          |\n",
       "0        |1        |2        |\n",
       "---------|---------|---------|\n",
       " 0.0954  | 0.1241  | 0.1008  |"
      ]
     },
     "execution_count": 10,
     "metadata": {},
     "output_type": "execute_result"
    }
   ],
   "source": [
    "pAC.extract({\"c\":1})"
   ]
  },
  {
   "cell_type": "markdown",
   "metadata": {},
   "source": [
    "Moreover, we know that $P(C=1)=\\sum_A P(A,C=1)$"
   ]
  },
  {
   "cell_type": "code",
   "execution_count": 11,
   "metadata": {
    "ExecuteTime": {
     "end_time": "2019-02-25T16:02:24.992799Z",
     "start_time": "2019-02-25T16:02:24.988632Z"
    },
    "execution": {
     "iopub.execute_input": "2021-05-13T16:42:10.367649Z",
     "iopub.status.busy": "2021-05-13T16:42:10.367649Z",
     "iopub.status.idle": "2021-05-13T16:42:10.387539Z",
     "shell.execute_reply": "2021-05-13T16:42:10.387539Z",
     "shell.execute_reply.started": "2021-05-13T16:42:10.367649Z"
    }
   },
   "outputs": [
    {
     "data": {
      "text/plain": [
       "0.32028673942022157"
      ]
     },
     "execution_count": 11,
     "metadata": {},
     "output_type": "execute_result"
    }
   ],
   "source": [
    "pAC.extract({\"c\":1}).sum()"
   ]
  },
  {
   "cell_type": "markdown",
   "metadata": {},
   "source": [
    "Now we can compute $p(A|C=1)=\\frac{P(A,C=1)}{p(C=1)}$"
   ]
  },
  {
   "cell_type": "code",
   "execution_count": 12,
   "metadata": {
    "ExecuteTime": {
     "end_time": "2019-02-25T16:02:24.998982Z",
     "start_time": "2019-02-25T16:02:24.994445Z"
    },
    "execution": {
     "iopub.execute_input": "2021-05-13T16:42:10.387539Z",
     "iopub.status.busy": "2021-05-13T16:42:10.387539Z",
     "iopub.status.idle": "2021-05-13T16:42:10.407278Z",
     "shell.execute_reply": "2021-05-13T16:42:10.407278Z",
     "shell.execute_reply.started": "2021-05-13T16:42:10.387539Z"
    }
   },
   "outputs": [
    {
     "data": {
      "text/html": [
       "<table style=\"border:1px solid black;\">\n",
       "<tr style='border:1px solid black;color:black;background-color:#808080'>\n",
       "      <th colspan='3'><center>a</center></th></tr>\n",
       "<tr><th style='border:1px solid black;border-bottom-style: double;color:black;background-color:#BBBBBB'>\n",
       "      <center>0</center></th><th style='border:1px solid black;border-bottom-style: double;color:black;background-color:#BBBBBB'>\n",
       "      <center>1</center></th><th style='border:1px solid black;border-bottom-style: double;color:black;background-color:#BBBBBB'>\n",
       "      <center>2</center></th></tr>\n",
       "<tr><td style='color:black;background-color:#d8a564;text-align:right;'>0.2980</td><td style='color:black;background-color:#cdb064;text-align:right;'>0.3873</td><td style='color:black;background-color:#d6a764;text-align:right;'>0.3147</td></tr>\n",
       "</table>"
      ],
      "text/plain": [
       "(gum::Potential<double>@00000233F99382A0) \n",
       "  a                          |\n",
       "0        |1        |2        |\n",
       "---------|---------|---------|\n",
       " 0.2980  | 0.3873  | 0.3147  |"
      ]
     },
     "execution_count": 12,
     "metadata": {},
     "output_type": "execute_result"
    }
   ],
   "source": [
    "pAC.extract({\"c\":1}).normalize()"
   ]
  },
  {
   "cell_type": "markdown",
   "metadata": {},
   "source": [
    "## Computing $P(A|C)$\n",
    "$P(A|C)$ is represented by a matrix that verifies $p(A|C)=\\frac{P(A,C)}{P(C}$"
   ]
  },
  {
   "cell_type": "code",
   "execution_count": 13,
   "metadata": {
    "ExecuteTime": {
     "end_time": "2019-02-25T16:02:25.005322Z",
     "start_time": "2019-02-25T16:02:25.000498Z"
    },
    "execution": {
     "iopub.execute_input": "2021-05-13T16:42:10.407278Z",
     "iopub.status.busy": "2021-05-13T16:42:10.407278Z",
     "iopub.status.idle": "2021-05-13T16:42:10.422541Z",
     "shell.execute_reply": "2021-05-13T16:42:10.422438Z",
     "shell.execute_reply.started": "2021-05-13T16:42:10.407278Z"
    }
   },
   "outputs": [
    {
     "data": {
      "text/html": [
       "<table style=\"border-style: hidden; border-collapse: collapse;\" width=\"100%\"><tr><td style=\"border-top:hidden;border-bottom:hidden;\"><div align=\"center\" style=\"\"><table style=\"border:1px solid black;\">\n",
       "<tr><th colspan='1'></th>\n",
       "      <th colspan='3' style='border:1px solid black;color:black;background-color:#808080;'><center>a</center>\n",
       "      </th></tr>\n",
       "<tr><th style='border:1px solid black;color:black;background-color:#808080'><center>c</center></th><th style='border:1px solid black;border-bottom-style: double;color:black;background-color:#BBBBBB'>\n",
       "      <center>0</center></th><th style='border:1px solid black;border-bottom-style: double;color:black;background-color:#BBBBBB'>\n",
       "      <center>1</center></th><th style='border:1px solid black;border-bottom-style: double;color:black;background-color:#BBBBBB'>\n",
       "      <center>2</center></th></tr>\n",
       "<tr><th style='border:1px solid black;color:black;background-color:#BBBBBB'><center>0</center></th><td style='color:black;background-color:#b9c464;text-align:right;'>0.5445</td><td style='color:black;background-color:#e39a64;text-align:right;'>0.2116</td><td style='color:black;background-color:#df9e64;text-align:right;'>0.2439</td></tr>\n",
       "<tr><th style='border:1px solid black;color:black;background-color:#BBBBBB'><center>1</center></th><td style='color:black;background-color:#d8a564;text-align:right;'>0.2980</td><td style='color:black;background-color:#cdb064;text-align:right;'>0.3873</td><td style='color:black;background-color:#d6a764;text-align:right;'>0.3147</td></tr>\n",
       "<tr><th style='border:1px solid black;color:black;background-color:#BBBBBB'><center>2</center></th><td style='color:black;background-color:#d2ab64;text-align:right;'>0.3474</td><td style='color:black;background-color:#d7a664;text-align:right;'>0.3083</td><td style='color:black;background-color:#d2ab64;text-align:right;'>0.3443</td></tr>\n",
       "</table></div></td><td style=\"border-top:hidden;border-bottom:hidden;\"><div align=\"center\" style=\"\"><table style=\"border:1px solid black;\">\n",
       "<tr style='border:1px solid black;color:black;background-color:#808080'>\n",
       "      <th colspan='3'><center>a</center></th></tr>\n",
       "<tr><th style='border:1px solid black;border-bottom-style: double;color:black;background-color:#BBBBBB'>\n",
       "      <center>0</center></th><th style='border:1px solid black;border-bottom-style: double;color:black;background-color:#BBBBBB'>\n",
       "      <center>1</center></th><th style='border:1px solid black;border-bottom-style: double;color:black;background-color:#BBBBBB'>\n",
       "      <center>2</center></th></tr>\n",
       "<tr><td style='color:black;background-color:#d8a564;text-align:right;'>0.2980</td><td style='color:black;background-color:#cdb064;text-align:right;'>0.3873</td><td style='color:black;background-color:#d6a764;text-align:right;'>0.3147</td></tr>\n",
       "</table></div></td></tr><tr><td style=\"border-top:hidden;border-bottom:hidden;\"><div align=\"center\"><small>$P(A|C)$</small></div></td><td style=\"border-top:hidden;border-bottom:hidden;\"><div align=\"center\"><small>$P(A|C=1)$</small></div></td></tr></table>"
      ],
      "text/plain": [
       "<IPython.core.display.HTML object>"
      ]
     },
     "metadata": {},
     "output_type": "display_data"
    }
   ],
   "source": [
    "pAgivenC=(pAC/pAC.margSumIn(\"c\")).putFirst(\"a\") \n",
    "# putFirst(\"a\") : to correctly show a cpt, the first variable have to bethe conditionned one\n",
    "gnb.sideBySide(pAgivenC,pAgivenC.extract({'c':1}),\n",
    "               captions=[\"$P(A|C)$\",\"$P(A|C=1)$\"])"
   ]
  },
  {
   "cell_type": "markdown",
   "metadata": {},
   "source": [
    "## Likelihood $P(A=2|C)$"
   ]
  },
  {
   "cell_type": "markdown",
   "metadata": {},
   "source": [
    "A likelihood can also be found in this matrix."
   ]
  },
  {
   "cell_type": "code",
   "execution_count": 14,
   "metadata": {
    "ExecuteTime": {
     "end_time": "2019-02-25T16:02:25.012653Z",
     "start_time": "2019-02-25T16:02:25.006694Z"
    },
    "execution": {
     "iopub.execute_input": "2021-05-13T16:42:10.422541Z",
     "iopub.status.busy": "2021-05-13T16:42:10.422541Z",
     "iopub.status.idle": "2021-05-13T16:42:10.442332Z",
     "shell.execute_reply": "2021-05-13T16:42:10.442332Z",
     "shell.execute_reply.started": "2021-05-13T16:42:10.422541Z"
    }
   },
   "outputs": [
    {
     "data": {
      "text/html": [
       "<table style=\"border:1px solid black;\">\n",
       "<tr style='border:1px solid black;color:black;background-color:#808080'>\n",
       "      <th colspan='3'><center>c</center></th></tr>\n",
       "<tr><th style='border:1px solid black;border-bottom-style: double;color:black;background-color:#BBBBBB'>\n",
       "      <center>0</center></th><th style='border:1px solid black;border-bottom-style: double;color:black;background-color:#BBBBBB'>\n",
       "      <center>1</center></th><th style='border:1px solid black;border-bottom-style: double;color:black;background-color:#BBBBBB'>\n",
       "      <center>2</center></th></tr>\n",
       "<tr><td style='text-align:right;'>0.2439</td><td style='text-align:right;'>0.3147</td><td style='text-align:right;'>0.3443</td></tr>\n",
       "</table>"
      ],
      "text/plain": [
       "(gum::Potential<double>@00000233F9938EE0) \n",
       "  c                          |\n",
       "0        |1        |2        |\n",
       "---------|---------|---------|\n",
       " 0.2439  | 0.3147  | 0.3443  |"
      ]
     },
     "execution_count": 14,
     "metadata": {},
     "output_type": "execute_result"
    }
   ],
   "source": [
    "pAgivenC.extract({'a':2})"
   ]
  },
  {
   "cell_type": "markdown",
   "metadata": {},
   "source": [
    "A likelihood does not have to sum to 1. It is not relevant to normalize it."
   ]
  },
  {
   "cell_type": "code",
   "execution_count": 15,
   "metadata": {
    "ExecuteTime": {
     "end_time": "2019-02-25T16:02:25.018454Z",
     "start_time": "2019-02-25T16:02:25.014011Z"
    },
    "execution": {
     "iopub.execute_input": "2021-05-13T16:42:10.442332Z",
     "iopub.status.busy": "2021-05-13T16:42:10.442332Z",
     "iopub.status.idle": "2021-05-13T16:42:10.462564Z",
     "shell.execute_reply": "2021-05-13T16:42:10.462564Z",
     "shell.execute_reply.started": "2021-05-13T16:42:10.442332Z"
    }
   },
   "outputs": [
    {
     "data": {
      "text/html": [
       "<table style=\"border:1px solid black;\">\n",
       "<tr style='border:1px solid black;color:black;background-color:#808080'>\n",
       "      <th colspan='3'><center>a</center></th></tr>\n",
       "<tr><th style='border:1px solid black;border-bottom-style: double;color:black;background-color:#BBBBBB'>\n",
       "      <center>0</center></th><th style='border:1px solid black;border-bottom-style: double;color:black;background-color:#BBBBBB'>\n",
       "      <center>1</center></th><th style='border:1px solid black;border-bottom-style: double;color:black;background-color:#BBBBBB'>\n",
       "      <center>2</center></th></tr>\n",
       "<tr><td style='text-align:right;'>1.1899</td><td style='text-align:right;'>0.9072</td><td style='text-align:right;'>0.9029</td></tr>\n",
       "</table>"
      ],
      "text/plain": [
       "(gum::Potential<double>@00000233F9938A80) \n",
       "  a                          |\n",
       "0        |1        |2        |\n",
       "---------|---------|---------|\n",
       " 1.1899  | 0.9072  | 0.9029  |"
      ]
     },
     "execution_count": 15,
     "metadata": {},
     "output_type": "execute_result"
    }
   ],
   "source": [
    "pAgivenC.margSumIn([\"a\"])"
   ]
  },
  {
   "cell_type": "markdown",
   "metadata": {},
   "source": [
    "# entropy of potential"
   ]
  },
  {
   "cell_type": "code",
   "execution_count": 16,
   "metadata": {
    "ExecuteTime": {
     "end_time": "2019-02-25T16:02:25.029659Z",
     "start_time": "2019-02-25T16:02:25.020133Z"
    },
    "execution": {
     "iopub.execute_input": "2021-05-13T16:42:10.462564Z",
     "iopub.status.busy": "2021-05-13T16:42:10.462564Z",
     "iopub.status.idle": "2021-05-13T16:42:10.482408Z",
     "shell.execute_reply": "2021-05-13T16:42:10.482408Z",
     "shell.execute_reply.started": "2021-05-13T16:42:10.462564Z"
    }
   },
   "outputs": [],
   "source": [
    "%matplotlib inline\n",
    "from pylab import *\n",
    "import matplotlib.pyplot as plt\n",
    "import numpy as np"
   ]
  },
  {
   "cell_type": "code",
   "execution_count": 17,
   "metadata": {
    "ExecuteTime": {
     "end_time": "2019-02-25T16:02:25.307627Z",
     "start_time": "2019-02-25T16:02:25.031420Z"
    },
    "execution": {
     "iopub.execute_input": "2021-05-13T16:42:10.482408Z",
     "iopub.status.busy": "2021-05-13T16:42:10.482408Z",
     "iopub.status.idle": "2021-05-13T16:42:10.622543Z",
     "shell.execute_reply": "2021-05-13T16:42:10.622543Z",
     "shell.execute_reply.started": "2021-05-13T16:42:10.482408Z"
    }
   },
   "outputs": [
    {
     "data": {
      "image/png": "[encoded data removed]",
      "text/plain": [
       "<Figure size 432x288 with 1 Axes>"
      ]
     },
     "metadata": {
      "needs_background": "light"
     },
     "output_type": "display_data"
    }
   ],
   "source": [
    "p1=gum.Potential().add(a)\n",
    "x = np.linspace(0, 1, 100)\n",
    "plt.plot(x,[p1.fillWith([p,1-p]).entropy() for p in x])\n",
    "plt.show()"
   ]
  },
  {
   "cell_type": "code",
   "execution_count": 18,
   "metadata": {
    "ExecuteTime": {
     "end_time": "2019-02-25T16:02:25.824051Z",
     "start_time": "2019-02-25T16:02:25.313742Z"
    },
    "execution": {
     "iopub.execute_input": "2021-05-13T16:42:10.622543Z",
     "iopub.status.busy": "2021-05-13T16:42:10.622543Z",
     "iopub.status.idle": "2021-05-13T16:42:10.892504Z",
     "shell.execute_reply": "2021-05-13T16:42:10.892504Z",
     "shell.execute_reply.started": "2021-05-13T16:42:10.622543Z"
    }
   },
   "outputs": [
    {
     "data": {
      "image/png": "[encoded data removed]",
      "text/plain": [
       "<Figure size 432x288 with 1 Axes>"
      ]
     },
     "metadata": {
      "needs_background": "light"
     },
     "output_type": "display_data"
    }
   ],
   "source": [
    "t=gum.LabelizedVariable('t','t',3)\n",
    "p1=gum.Potential().add(t)\n",
    "\n",
    "def entrop(bc):\n",
    "    \"\"\"\n",
    "    bc is a list [a,b,c] close to a distribution \n",
    "    (normalized just to be sure)\n",
    "    \"\"\"\n",
    "    return p1.fillWith(bc).normalize().entropy()\n",
    "\n",
    "import matplotlib.tri as tri\n",
    "\n",
    "corners = np.array([[0, 0], [1, 0], [0.5, 0.75**0.5]])\n",
    "triangle = tri.Triangulation(corners[:, 0], corners[:, 1])\n",
    "\n",
    "# Mid-points of triangle sides opposite of each corner\n",
    "midpoints = [(corners[(i + 1) % 3] + corners[(i + 2) % 3]) / 2.0 \\\n",
    "             for i in range(3)]\n",
    "def xy2bc(xy, tol=1.e-3):\n",
    "    \"\"\"\n",
    "    From 2D Cartesian coordinates to barycentric.\n",
    "    \"\"\"\n",
    "    s = [(corners[i] - midpoints[i]).dot(xy - midpoints[i]) / 0.75 \\\n",
    "         for i in range(3)]\n",
    "    return np.clip(s, tol, 1.0 - tol)\n",
    "    \n",
    "def draw_entropy(nlevels=200, subdiv=6, **kwargs):\n",
    "    import math\n",
    "\n",
    "    refiner = tri.UniformTriRefiner(triangle)\n",
    "    trimesh = refiner.refine_triangulation(subdiv=subdiv)\n",
    "    pvals = [entrop(xy2bc(xy)) for xy in zip(trimesh.x, trimesh.y)]\n",
    "\n",
    "    plt.tricontourf(trimesh, pvals, nlevels, **kwargs)\n",
    "    plt.axis('equal')\n",
    "    plt.xlim(0, 1)\n",
    "    plt.ylim(0, 0.75**0.5)\n",
    "    plt.axis('off')\n",
    "    \n",
    "draw_entropy()\n",
    "plt.show()"
   ]
  },
  {
   "cell_type": "code",
   "execution_count": null,
   "metadata": {},
   "outputs": [],
   "source": []
  }
 ],
 "metadata": {
  "hide_input": false,
  "kernelspec": {
   "display_name": "Python 3",
   "language": "python",
   "name": "python3"
  },
  "language_info": {
   "codemirror_mode": {
    "name": "ipython",
    "version": 3
   },
   "file_extension": ".py",
   "mimetype": "text/x-python",
   "name": "python",
   "nbconvert_exporter": "python",
   "pygments_lexer": "ipython3",
   "version": "3.9.5"
  }
 },
 "nbformat": 4,
 "nbformat_minor": 4
}
