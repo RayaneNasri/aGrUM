{
 "cells": [
  {
   "cell_type": "markdown",
   "metadata": {},
   "source": [
    "<a href=\"http://agrum.org\" target=\"blank\"><img src=\"http://agrum.gitlab.io/theme/img/logoAgrum.png\" align=\"left\" style=\"height:100px\"/></a><a rel=\"license\" href=\"http://creativecommons.org/licenses/by-nc/4.0/\"><img alt=\"Creative Commons License\" style=\"border-width:0\" src=\"https://i.creativecommons.org/l/by-nc/4.0/88x31.png\" /></a><br />This pyAgrum's notebook is licensed under a <a rel=\"license\" href=\"http://creativecommons.org/licenses/by-nc/4.0/\">Creative Commons Attribution-NonCommercial 4.0 International License</a>."
   ]
  },
  {
   "cell_type": "code",
   "execution_count": 1,
   "metadata": {
    "ExecuteTime": {
     "end_time": "2019-02-25T16:37:44.110141Z",
     "start_time": "2019-02-25T16:37:43.874674Z"
    }
   },
   "outputs": [],
   "source": [
    "import pyAgrum as gum\n",
    "import pyAgrum.lib.notebook as gnb"
   ]
  },
  {
   "cell_type": "code",
   "execution_count": 2,
   "metadata": {
    "ExecuteTime": {
     "end_time": "2019-02-25T16:37:46.421089Z",
     "start_time": "2019-02-25T16:37:44.111996Z"
    }
   },
   "outputs": [
    {
     "data": {
      "text/html": [
       "<svg height=\"260pt\" viewBox=\"0.00 0.00 134.00 260.00\" width=\"134pt\" xmlns=\"http://www.w3.org/2000/svg\" xmlns:xlink=\"http://www.w3.org/1999/xlink\">\n",
       "<g class=\"graph\" id=\"graph0\" transform=\"scale(1 1) rotate(0) translate(4 256)\">\n",
       "<title>G</title>\n",
       "<!-- A -->\n",
       "<g class=\"node\" id=\"node1\">\n",
       "<title>A</title>\n",
       "<g id=\"a_node1\"><a xlink:title=\"(0) A\">\n",
       "<ellipse cx=\"99\" cy=\"-234\" fill=\"#404040\" rx=\"27\" ry=\"18\" stroke=\"#000000\"/>\n",
       "<text fill=\"#ffffff\" font-family=\"Times,serif\" font-size=\"14.00\" text-anchor=\"middle\" x=\"99\" y=\"-229.8\">A</text>\n",
       "</a>\n",
       "</g>\n",
       "</g>\n",
       "<!-- B -->\n",
       "<g class=\"node\" id=\"node2\">\n",
       "<title>B</title>\n",
       "<g id=\"a_node2\"><a xlink:title=\"(1) B\">\n",
       "<ellipse cx=\"27\" cy=\"-162\" fill=\"#404040\" rx=\"27\" ry=\"18\" stroke=\"#000000\"/>\n",
       "<text fill=\"#ffffff\" font-family=\"Times,serif\" font-size=\"14.00\" text-anchor=\"middle\" x=\"27\" y=\"-157.8\">B</text>\n",
       "</a>\n",
       "</g>\n",
       "</g>\n",
       "<!-- A&#45;&gt;B -->\n",
       "<g class=\"edge\" id=\"edge1\">\n",
       "<title>A-&gt;B</title>\n",
       "<g id=\"a_edge1\"><a xlink:title=\"(0, 1) : \">\n",
       "<path d=\"M83.7307,-218.7307C73.803,-208.803 60.6847,-195.6847 49.5637,-184.5637\" fill=\"none\" stroke=\"#4a4a4a\"/>\n",
       "<polygon fill=\"#4a4a4a\" points=\"51.7933,-181.8436 42.2473,-177.2473 46.8436,-186.7933 51.7933,-181.8436\" stroke=\"#4a4a4a\"/>\n",
       "</a>\n",
       "</g>\n",
       "</g>\n",
       "<!-- E -->\n",
       "<g class=\"node\" id=\"node5\">\n",
       "<title>E</title>\n",
       "<g id=\"a_node5\"><a xlink:title=\"(4) E\">\n",
       "<ellipse cx=\"99\" cy=\"-90\" fill=\"#404040\" rx=\"27\" ry=\"18\" stroke=\"#000000\"/>\n",
       "<text fill=\"#ffffff\" font-family=\"Times,serif\" font-size=\"14.00\" text-anchor=\"middle\" x=\"99\" y=\"-85.8\">E</text>\n",
       "</a>\n",
       "</g>\n",
       "</g>\n",
       "<!-- A&#45;&gt;E -->\n",
       "<g class=\"edge\" id=\"edge6\">\n",
       "<title>A-&gt;E</title>\n",
       "<g id=\"a_edge6\"><a xlink:title=\"(0, 4) : \">\n",
       "<path d=\"M99,-215.7623C99,-191.201 99,-147.2474 99,-118.3541\" fill=\"none\" stroke=\"#4a4a4a\"/>\n",
       "<polygon fill=\"#4a4a4a\" points=\"102.5001,-118.0896 99,-108.0896 95.5001,-118.0897 102.5001,-118.0896\" stroke=\"#4a4a4a\"/>\n",
       "</a>\n",
       "</g>\n",
       "</g>\n",
       "<!-- C -->\n",
       "<g class=\"node\" id=\"node3\">\n",
       "<title>C</title>\n",
       "<g id=\"a_node3\"><a xlink:title=\"(2) C\">\n",
       "<ellipse cx=\"27\" cy=\"-90\" fill=\"#404040\" rx=\"27\" ry=\"18\" stroke=\"#000000\"/>\n",
       "<text fill=\"#ffffff\" font-family=\"Times,serif\" font-size=\"14.00\" text-anchor=\"middle\" x=\"27\" y=\"-85.8\">C</text>\n",
       "</a>\n",
       "</g>\n",
       "</g>\n",
       "<!-- B&#45;&gt;C -->\n",
       "<g class=\"edge\" id=\"edge2\">\n",
       "<title>B-&gt;C</title>\n",
       "<g id=\"a_edge2\"><a xlink:title=\"(1, 2) : \">\n",
       "<path d=\"M27,-143.8314C27,-136.131 27,-126.9743 27,-118.4166\" fill=\"none\" stroke=\"#4a4a4a\"/>\n",
       "<polygon fill=\"#4a4a4a\" points=\"30.5001,-118.4132 27,-108.4133 23.5001,-118.4133 30.5001,-118.4132\" stroke=\"#4a4a4a\"/>\n",
       "</a>\n",
       "</g>\n",
       "</g>\n",
       "<!-- D -->\n",
       "<g class=\"node\" id=\"node4\">\n",
       "<title>D</title>\n",
       "<g id=\"a_node4\"><a xlink:title=\"(3) D\">\n",
       "<ellipse cx=\"99\" cy=\"-18\" fill=\"#404040\" rx=\"27\" ry=\"18\" stroke=\"#000000\"/>\n",
       "<text fill=\"#ffffff\" font-family=\"Times,serif\" font-size=\"14.00\" text-anchor=\"middle\" x=\"99\" y=\"-13.8\">D</text>\n",
       "</a>\n",
       "</g>\n",
       "</g>\n",
       "<!-- C&#45;&gt;D -->\n",
       "<g class=\"edge\" id=\"edge4\">\n",
       "<title>C-&gt;D</title>\n",
       "<g id=\"a_edge4\"><a xlink:title=\"(2, 3) : \">\n",
       "<path d=\"M42.2693,-74.7307C52.197,-64.803 65.3153,-51.6847 76.4363,-40.5637\" fill=\"none\" stroke=\"#4a4a4a\"/>\n",
       "<polygon fill=\"#4a4a4a\" points=\"79.1564,-42.7933 83.7527,-33.2473 74.2067,-37.8436 79.1564,-42.7933\" stroke=\"#4a4a4a\"/>\n",
       "</a>\n",
       "</g>\n",
       "</g>\n",
       "<!-- H -->\n",
       "<g class=\"node\" id=\"node7\">\n",
       "<title>H</title>\n",
       "<g id=\"a_node7\"><a xlink:title=\"(6) H\">\n",
       "<ellipse cx=\"27\" cy=\"-18\" fill=\"#404040\" rx=\"27\" ry=\"18\" stroke=\"#000000\"/>\n",
       "<text fill=\"#ffffff\" font-family=\"Times,serif\" font-size=\"14.00\" text-anchor=\"middle\" x=\"27\" y=\"-13.8\">H</text>\n",
       "</a>\n",
       "</g>\n",
       "</g>\n",
       "<!-- C&#45;&gt;H -->\n",
       "<g class=\"edge\" id=\"edge3\">\n",
       "<title>C-&gt;H</title>\n",
       "<g id=\"a_edge3\"><a xlink:title=\"(2, 6) : \">\n",
       "<path d=\"M27,-71.8314C27,-64.131 27,-54.9743 27,-46.4166\" fill=\"none\" stroke=\"#4a4a4a\"/>\n",
       "<polygon fill=\"#4a4a4a\" points=\"30.5001,-46.4132 27,-36.4133 23.5001,-46.4133 30.5001,-46.4132\" stroke=\"#4a4a4a\"/>\n",
       "</a>\n",
       "</g>\n",
       "</g>\n",
       "<!-- E&#45;&gt;D -->\n",
       "<g class=\"edge\" id=\"edge5\">\n",
       "<title>E-&gt;D</title>\n",
       "<g id=\"a_edge5\"><a xlink:title=\"(4, 3) : \">\n",
       "<path d=\"M99,-71.8314C99,-64.131 99,-54.9743 99,-46.4166\" fill=\"none\" stroke=\"#4a4a4a\"/>\n",
       "<polygon fill=\"#4a4a4a\" points=\"102.5001,-46.4132 99,-36.4133 95.5001,-46.4133 102.5001,-46.4132\" stroke=\"#4a4a4a\"/>\n",
       "</a>\n",
       "</g>\n",
       "</g>\n",
       "<!-- F -->\n",
       "<g class=\"node\" id=\"node6\">\n",
       "<title>F</title>\n",
       "<g id=\"a_node6\"><a xlink:title=\"(5) F\">\n",
       "<ellipse cx=\"27\" cy=\"-234\" fill=\"#404040\" rx=\"27\" ry=\"18\" stroke=\"#000000\"/>\n",
       "<text fill=\"#ffffff\" font-family=\"Times,serif\" font-size=\"14.00\" text-anchor=\"middle\" x=\"27\" y=\"-229.8\">F</text>\n",
       "</a>\n",
       "</g>\n",
       "</g>\n",
       "<!-- F&#45;&gt;B -->\n",
       "<g class=\"edge\" id=\"edge7\">\n",
       "<title>F-&gt;B</title>\n",
       "<g id=\"a_edge7\"><a xlink:title=\"(5, 1) : \">\n",
       "<path d=\"M27,-215.8314C27,-208.131 27,-198.9743 27,-190.4166\" fill=\"none\" stroke=\"#4a4a4a\"/>\n",
       "<polygon fill=\"#4a4a4a\" points=\"30.5001,-190.4132 27,-180.4133 23.5001,-190.4133 30.5001,-190.4132\" stroke=\"#4a4a4a\"/>\n",
       "</a>\n",
       "</g>\n",
       "</g>\n",
       "</g>\n",
       "</svg>"
      ],
      "text/plain": [
       "(gum::BayesNet<double>@0x7fe59784de00) BN{nodes: 7, arcs: 7, domainSize: 128, parameters: 32, compression ratio: 75% }"
      ]
     },
     "execution_count": 2,
     "metadata": {},
     "output_type": "execute_result"
    }
   ],
   "source": [
    "bn=gum.fastBN(\"A->B->C->D;A->E->D;F->B;C->H\")\n",
    "ie=gum.LazyPropagation(bn)\n",
    "bn              "
   ]
  },
  {
   "cell_type": "markdown",
   "metadata": {},
   "source": [
    "Evidence Impact allows the user to analyze the effect of any variables on any other variables"
   ]
  },
  {
   "cell_type": "code",
   "execution_count": 3,
   "metadata": {
    "ExecuteTime": {
     "end_time": "2019-02-25T16:37:46.432896Z",
     "start_time": "2019-02-25T16:37:46.425447Z"
    }
   },
   "outputs": [
    {
     "data": {
      "text/html": [
       "<table style=\"border:1px solid black;\">\n",
       "<tr><th colspan='2'></th><th colspan='2' style='border:1px solid black;color:black;background-color:#808080;'><center>B</center></th></tr>\n",
       "<tr><th style='border:1px solid black;color:black;background-color:#808080'><center>A</center></th><th style='border:1px solid black;color:black;background-color:#808080'><center>H</center></th><th style='border:1px solid black;border-bottom-style: double;color:black;background-color:#BBBBBB'><center>0</center></th><th style='border:1px solid black;border-bottom-style: double;color:black;background-color:#BBBBBB'><center>1</center></th></tr>\n",
       "<tr><th style='border:1px solid black;color:black;background-color:#BBBBBB;' rowspan = '2'><center>0</center></th><th style='border:1px solid black;color:black;background-color:#BBBBBB'><center>0</center></th><td style='color:black;background-color:#bebf64;text-align:right;'>0.5017</td><td style='color:black;background-color:#bfbe64;text-align:right;'>0.4983</td></tr>\n",
       "<tr><th style='border:1px solid black;color:black;background-color:#BBBBBB'><center>1</center></th><td style='color:black;background-color:#c9b464;text-align:right;'>0.4142</td><td style='color:black;background-color:#b4c964;text-align:right;'>0.5858</td></tr>\n",
       "<tr><th style='border:1px solid black;color:black;background-color:#BBBBBB;' rowspan = '2'><center>1</center></th><th style='border:1px solid black;color:black;background-color:#BBBBBB'><center>0</center></th><td style='color:black;background-color:#99e464;text-align:right;'>0.7911</td><td style='color:black;background-color:#e49964;text-align:right;'>0.2089</td></tr>\n",
       "<tr><th style='border:1px solid black;color:black;background-color:#BBBBBB'><center>1</center></th><td style='color:black;background-color:#a1dc64;text-align:right;'>0.7267</td><td style='color:black;background-color:#dca164;text-align:right;'>0.2733</td></tr>\n",
       "</table>"
      ],
      "text/plain": [
       "(gum::Potential<double>@0x7fe5876b7f50) <B:0|H:0|A:0> :: 0.501721 /<B:1|H:0|A:0> :: 0.498279 /<B:0|H:1|A:0> :: 0.414185 /<B:1|H:1|A:0> :: 0.585815 /<B:0|H:0|A:1> :: 0.791069 /<B:1|H:0|A:1> :: 0.208931 /<B:0|H:1|A:1> :: 0.726673 /<B:1|H:1|A:1> :: 0.273327"
      ]
     },
     "execution_count": 3,
     "metadata": {},
     "output_type": "execute_result"
    }
   ],
   "source": [
    "ie.evidenceImpact(\"B\",[\"A\",\"H\"])"
   ]
  },
  {
   "cell_type": "markdown",
   "metadata": {
    "ExecuteTime": {
     "end_time": "2018-09-11T07:44:32.291529Z",
     "start_time": "2018-09-11T07:44:32.271183Z"
    }
   },
   "source": [
    "Evidence impact is able to find the minimum set of variables which effectively conditions the analyzed variable"
   ]
  },
  {
   "cell_type": "code",
   "execution_count": 4,
   "metadata": {
    "ExecuteTime": {
     "end_time": "2019-02-25T16:37:46.491139Z",
     "start_time": "2019-02-25T16:37:46.436149Z"
    }
   },
   "outputs": [
    {
     "data": {
      "text/html": [
       "<table style=\"border:1px solid black;\">\n",
       "<tr><th colspan='3'></th><th colspan='2' style='border:1px solid black;color:black;background-color:#808080;'><center>E</center></th></tr>\n",
       "<tr><th style='border:1px solid black;color:black;background-color:#808080'><center>A</center></th><th style='border:1px solid black;color:black;background-color:#808080'><center>B</center></th><th style='border:1px solid black;color:black;background-color:#808080'><center>D</center></th><th style='border:1px solid black;border-bottom-style: double;color:black;background-color:#BBBBBB'><center>0</center></th><th style='border:1px solid black;border-bottom-style: double;color:black;background-color:#BBBBBB'><center>1</center></th></tr>\n",
       "<tr><th style='border:1px solid black;color:black;background-color:#BBBBBB;' rowspan = '4'><center>0</center></th><th style='border:1px solid black;color:black;background-color:#BBBBBB;' rowspan = '2'><center>0</center></th><th style='border:1px solid black;color:black;background-color:#BBBBBB'><center>0</center></th><td style='color:black;background-color:#c4b964;text-align:right;'>0.4589</td><td style='color:black;background-color:#b9c464;text-align:right;'>0.5411</td></tr>\n",
       "<tr><th style='border:1px solid black;color:black;background-color:#BBBBBB'><center>1</center></th><td style='color:black;background-color:#dca164;text-align:right;'>0.2693</td><td style='color:black;background-color:#a1dc64;text-align:right;'>0.7307</td></tr>\n",
       "<tr><th style='border:1px solid black;color:black;background-color:#BBBBBB;' rowspan = '2'><center>1</center></th><th style='border:1px solid black;color:black;background-color:#BBBBBB'><center>0</center></th><td style='color:black;background-color:#c2bb64;text-align:right;'>0.4751</td><td style='color:black;background-color:#bbc264;text-align:right;'>0.5249</td></tr>\n",
       "<tr><th style='border:1px solid black;color:black;background-color:#BBBBBB'><center>1</center></th><td style='color:black;background-color:#e09d64;text-align:right;'>0.2418</td><td style='color:black;background-color:#9de064;text-align:right;'>0.7582</td></tr>\n",
       "<tr><th style='border:1px solid black;color:black;background-color:#BBBBBB;' rowspan = '4'><center>1</center></th><th style='border:1px solid black;color:black;background-color:#BBBBBB;' rowspan = '2'><center>0</center></th><th style='border:1px solid black;color:black;background-color:#BBBBBB'><center>0</center></th><td style='color:black;background-color:#ec9164;text-align:right;'>0.1460</td><td style='color:black;background-color:#91ec64;text-align:right;'>0.8540</td></tr>\n",
       "<tr><th style='border:1px solid black;color:black;background-color:#BBBBBB'><center>1</center></th><td style='color:black;background-color:#f68764;text-align:right;'>0.0691</td><td style='color:black;background-color:#87f664;text-align:right;'>0.9309</td></tr>\n",
       "<tr><th style='border:1px solid black;color:black;background-color:#BBBBBB;' rowspan = '2'><center>1</center></th><th style='border:1px solid black;color:black;background-color:#BBBBBB'><center>0</center></th><td style='color:black;background-color:#eb9264;text-align:right;'>0.1543</td><td style='color:black;background-color:#92eb64;text-align:right;'>0.8457</td></tr>\n",
       "<tr><th style='border:1px solid black;color:black;background-color:#BBBBBB'><center>1</center></th><td style='color:black;background-color:#f78664;text-align:right;'>0.0604</td><td style='color:black;background-color:#86f764;text-align:right;'>0.9396</td></tr>\n",
       "</table>"
      ],
      "text/plain": [
       "(gum::Potential<double>@0x7fe5c76762c0) <E:0|D:0|B:0|A:0> :: 0.458899 /<E:1|D:0|B:0|A:0> :: 0.541101 /<E:0|D:1|B:0|A:0> :: 0.269251 /<E:1|D:1|B:0|A:0> :: 0.730749 /<E:0|D:0|B:1|A:0> :: 0.475065 /<E:1|D:0|B:1|A:0> :: 0.524935 /<E:0|D:1|B:1|A:0> :: 0.241824 /<E:1|D:1|B:1|A:0> :: 0.758176 /<E:0|D:0|B:0|A:1> :: 0.146012 /<E:1|D:0|B:0|A:1> :: 0.853988 /<E:0|D:1|B:0|A:1> :: 0.0691462 /<E:1|D:1|B:0|A:1> :: 0.930854 /<E:0|D:0|B:1|A:1> :: 0.154299 /<E:1|D:0|B:1|A:1> :: 0.845701 /<E:0|D:1|B:1|A:1> :: 0.0604174 /<E:1|D:1|B:1|A:1> :: 0.939583"
      ]
     },
     "execution_count": 4,
     "metadata": {},
     "output_type": "execute_result"
    }
   ],
   "source": [
    "ie.evidenceImpact(\"E\",[\"A\",\"F\",\"B\",\"D\"]) # {A,D,B} d-separates E and F"
   ]
  },
  {
   "cell_type": "code",
   "execution_count": 5,
   "metadata": {
    "ExecuteTime": {
     "end_time": "2019-02-25T16:37:46.503831Z",
     "start_time": "2019-02-25T16:37:46.493996Z"
    }
   },
   "outputs": [
    {
     "data": {
      "text/html": [
       "<table style=\"border:1px solid black;\">\n",
       "<tr><th colspan='3'></th><th colspan='2' style='border:1px solid black;color:black;background-color:#808080;'><center>E</center></th></tr>\n",
       "<tr><th style='border:1px solid black;color:black;background-color:#808080'><center>C</center></th><th style='border:1px solid black;color:black;background-color:#808080'><center>A</center></th><th style='border:1px solid black;color:black;background-color:#808080'><center>D</center></th><th style='border:1px solid black;border-bottom-style: double;color:black;background-color:#BBBBBB'><center>0</center></th><th style='border:1px solid black;border-bottom-style: double;color:black;background-color:#BBBBBB'><center>1</center></th></tr>\n",
       "<tr><th style='border:1px solid black;color:black;background-color:#BBBBBB;' rowspan = '4'><center>0</center></th><th style='border:1px solid black;color:black;background-color:#BBBBBB;' rowspan = '2'><center>0</center></th><th style='border:1px solid black;color:black;background-color:#BBBBBB'><center>0</center></th><td style='color:black;background-color:#bfbe64;text-align:right;'>0.4964</td><td style='color:black;background-color:#bebf64;text-align:right;'>0.5036</td></tr>\n",
       "<tr><th style='border:1px solid black;color:black;background-color:#BBBBBB'><center>1</center></th><td style='color:black;background-color:#e69764;text-align:right;'>0.1915</td><td style='color:black;background-color:#97e664;text-align:right;'>0.8085</td></tr>\n",
       "<tr><th style='border:1px solid black;color:black;background-color:#BBBBBB;' rowspan = '2'><center>1</center></th><th style='border:1px solid black;color:black;background-color:#BBBBBB'><center>0</center></th><td style='color:black;background-color:#e99464;text-align:right;'>0.1658</td><td style='color:black;background-color:#94e964;text-align:right;'>0.8342</td></tr>\n",
       "<tr><th style='border:1px solid black;color:black;background-color:#BBBBBB'><center>1</center></th><td style='color:black;background-color:#f98464;text-align:right;'>0.0456</td><td style='color:black;background-color:#84f964;text-align:right;'>0.9544</td></tr>\n",
       "<tr><th style='border:1px solid black;color:black;background-color:#BBBBBB;' rowspan = '4'><center>1</center></th><th style='border:1px solid black;color:black;background-color:#BBBBBB;' rowspan = '2'><center>0</center></th><th style='border:1px solid black;color:black;background-color:#BBBBBB'><center>0</center></th><td style='color:black;background-color:#cbb264;text-align:right;'>0.4060</td><td style='color:black;background-color:#b2cb64;text-align:right;'>0.5940</td></tr>\n",
       "<tr><th style='border:1px solid black;color:black;background-color:#BBBBBB'><center>1</center></th><td style='color:black;background-color:#d5a864;text-align:right;'>0.3259</td><td style='color:black;background-color:#a8d564;text-align:right;'>0.6741</td></tr>\n",
       "<tr><th style='border:1px solid black;color:black;background-color:#BBBBBB;' rowspan = '2'><center>1</center></th><th style='border:1px solid black;color:black;background-color:#BBBBBB'><center>0</center></th><td style='color:black;background-color:#ef8e64;text-align:right;'>0.1211</td><td style='color:black;background-color:#8eef64;text-align:right;'>0.8789</td></tr>\n",
       "<tr><th style='border:1px solid black;color:black;background-color:#BBBBBB'><center>1</center></th><td style='color:black;background-color:#f38a64;text-align:right;'>0.0888</td><td style='color:black;background-color:#8af364;text-align:right;'>0.9112</td></tr>\n",
       "</table>"
      ],
      "text/plain": [
       "(gum::Potential<double>@0x7fe5675cfa70) <E:0|D:0|A:0|C:0> :: 0.496409 /<E:1|D:0|A:0|C:0> :: 0.503591 /<E:0|D:1|A:0|C:0> :: 0.19153 /<E:1|D:1|A:0|C:0> :: 0.80847 /<E:0|D:0|A:1|C:0> :: 0.165783 /<E:1|D:0|A:1|C:0> :: 0.834217 /<E:0|D:1|A:1|C:0> :: 0.0455836 /<E:1|D:1|A:1|C:0> :: 0.954416 /<E:0|D:0|A:0|C:1> :: 0.405959 /<E:1|D:0|A:0|C:1> :: 0.594041 /<E:0|D:1|A:0|C:1> :: 0.325853 /<E:1|D:1|A:0|C:1> :: 0.674147 /<E:0|D:0|A:1|C:1> :: 0.12109 /<E:1|D:0|A:1|C:1> :: 0.87891 /<E:0|D:1|A:1|C:1> :: 0.0887939 /<E:1|D:1|A:1|C:1> :: 0.911206"
      ]
     },
     "execution_count": 5,
     "metadata": {},
     "output_type": "execute_result"
    }
   ],
   "source": [
    "ie.evidenceImpact(\"E\",[\"A\",\"B\",\"C\",\"D\",\"F\"]) # {A,C,D} d-separates E and {B,F}"
   ]
  },
  {
   "cell_type": "code",
   "execution_count": 6,
   "metadata": {
    "ExecuteTime": {
     "end_time": "2019-02-25T16:37:46.514303Z",
     "start_time": "2019-02-25T16:37:46.506505Z"
    }
   },
   "outputs": [
    {
     "data": {
      "text/html": [
       "<table style=\"border:1px solid black;\">\n",
       "<tr><th colspan='3'></th><th colspan='2' style='border:1px solid black;color:black;background-color:#808080;'><center>A</center></th></tr>\n",
       "<tr><th style='border:1px solid black;color:black;background-color:#808080'><center>E</center></th><th style='border:1px solid black;color:black;background-color:#808080'><center>B</center></th><th style='border:1px solid black;color:black;background-color:#808080'><center>F</center></th><th style='border:1px solid black;border-bottom-style: double;color:black;background-color:#BBBBBB'><center>0</center></th><th style='border:1px solid black;border-bottom-style: double;color:black;background-color:#BBBBBB'><center>1</center></th></tr>\n",
       "<tr><th style='border:1px solid black;color:black;background-color:#BBBBBB;' rowspan = '4'><center>0</center></th><th style='border:1px solid black;color:black;background-color:#BBBBBB;' rowspan = '2'><center>0</center></th><th style='border:1px solid black;color:black;background-color:#BBBBBB'><center>0</center></th><td style='text-align:right;'>0.4496</td><td style='text-align:right;'>0.2457</td></tr>\n",
       "<tr><th style='border:1px solid black;color:black;background-color:#BBBBBB'><center>1</center></th><td style='text-align:right;'>0.2572</td><td style='text-align:right;'>0.0475</td></tr>\n",
       "<tr><th style='border:1px solid black;color:black;background-color:#BBBBBB;' rowspan = '2'><center>1</center></th><th style='border:1px solid black;color:black;background-color:#BBBBBB'><center>0</center></th><td style='text-align:right;'>0.8583</td><td style='text-align:right;'>0.0640</td></tr>\n",
       "<tr><th style='border:1px solid black;color:black;background-color:#BBBBBB'><center>1</center></th><td style='text-align:right;'>0.0423</td><td style='text-align:right;'>0.0354</td></tr>\n",
       "<tr><th style='border:1px solid black;color:black;background-color:#BBBBBB;' rowspan = '4'><center>1</center></th><th style='border:1px solid black;color:black;background-color:#BBBBBB;' rowspan = '2'><center>0</center></th><th style='border:1px solid black;color:black;background-color:#BBBBBB'><center>0</center></th><td style='text-align:right;'>0.2080</td><td style='text-align:right;'>0.5640</td></tr>\n",
       "<tr><th style='border:1px solid black;color:black;background-color:#BBBBBB'><center>1</center></th><td style='text-align:right;'>0.1190</td><td style='text-align:right;'>0.1090</td></tr>\n",
       "<tr><th style='border:1px solid black;color:black;background-color:#BBBBBB;' rowspan = '2'><center>1</center></th><th style='border:1px solid black;color:black;background-color:#BBBBBB'><center>0</center></th><td style='text-align:right;'>0.6159</td><td style='text-align:right;'>0.2276</td></tr>\n",
       "<tr><th style='border:1px solid black;color:black;background-color:#BBBBBB'><center>1</center></th><td style='text-align:right;'>0.0303</td><td style='text-align:right;'>0.1261</td></tr>\n",
       "</table>"
      ],
      "text/plain": [
       "(gum::Potential<double>@0x7fe5a748e1b0) <A:0|F:0|B:0|E:0> :: 0.449592 /<A:1|F:0|B:0|E:0> :: 0.245725 /<A:0|F:1|B:0|E:0> :: 0.257179 /<A:1|F:1|B:0|E:0> :: 0.0475044 /<A:0|F:0|B:1|E:0> :: 0.858342 /<A:1|F:0|B:1|E:0> :: 0.0639527 /<A:0|F:1|B:1|E:0> :: 0.0422887 /<A:1|F:1|B:1|E:0> :: 0.0354168 /<A:0|F:0|B:0|E:1> :: 0.208024 /<A:1|F:0|B:0|E:1> :: 0.563955 /<A:0|F:1|B:0|E:1> :: 0.118995 /<A:1|F:1|B:0|E:1> :: 0.109026 /<A:0|F:0|B:1|E:1> :: 0.61595 /<A:1|F:0|B:1|E:1> :: 0.227638 /<A:0|F:1|B:1|E:1> :: 0.0303466 /<A:1|F:1|B:1|E:1> :: 0.126065"
      ]
     },
     "execution_count": 6,
     "metadata": {},
     "output_type": "execute_result"
    }
   ],
   "source": [
    "ie.evidenceJointImpact([\"A\",\"F\"],[\"B\",\"C\",\"D\",\"E\",\"H\"]) # {B,E} d-separates [A,F] and [C,D,H]"
   ]
  },
  {
   "cell_type": "code",
   "execution_count": null,
   "metadata": {},
   "outputs": [],
   "source": []
  }
 ],
 "metadata": {
  "hide_input": false,
  "kernelspec": {
   "display_name": "Python 3",
   "language": "python",
   "name": "python3"
  },
  "language_info": {
   "codemirror_mode": {
    "name": "ipython",
    "version": 3
   },
   "file_extension": ".py",
   "mimetype": "text/x-python",
   "name": "python",
   "nbconvert_exporter": "python",
   "pygments_lexer": "ipython3",
   "version": "3.7.3"
  }
 },
 "nbformat": 4,
 "nbformat_minor": 4
}
