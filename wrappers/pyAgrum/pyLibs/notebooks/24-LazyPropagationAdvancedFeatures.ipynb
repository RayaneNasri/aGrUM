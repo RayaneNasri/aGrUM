{
 "cells": [
  {
   "cell_type": "markdown",
   "metadata": {},
   "source": [
    "<a href=\"http://agrum.org\" target=\"blank\"><img src=\"http://agrum.gitlab.io/theme/img/logoAgrum.png\" align=\"left\" style=\"height:100px\"/></a><a rel=\"license\" href=\"http://creativecommons.org/licenses/by-nc/4.0/\"><img alt=\"Creative Commons License\" style=\"border-width:0\" src=\"https://i.creativecommons.org/l/by-nc/4.0/88x31.png\" /></a><br />This pyAgrum's notebook is licensed under a <a rel=\"license\" href=\"http://creativecommons.org/licenses/by-nc/4.0/\">Creative Commons Attribution-NonCommercial 4.0 International License</a>."
   ]
  },
  {
   "cell_type": "code",
   "execution_count": 1,
   "metadata": {
    "ExecuteTime": {
     "end_time": "2019-02-25T16:37:44.110141Z",
     "start_time": "2019-02-25T16:37:43.874674Z"
    }
   },
   "outputs": [],
   "source": [
    "import pyAgrum as gum\n",
    "import pyAgrum.lib.notebook as gnb"
   ]
  },
  {
   "cell_type": "code",
   "execution_count": 2,
   "metadata": {
    "ExecuteTime": {
     "end_time": "2019-02-25T16:37:46.421089Z",
     "start_time": "2019-02-25T16:37:44.111996Z"
    }
   },
   "outputs": [
    {
     "data": {
      "text/html": [
       "<svg height=\"260pt\" viewBox=\"0.00 0.00 134.00 260.00\" width=\"134pt\" xmlns=\"http://www.w3.org/2000/svg\" xmlns:xlink=\"http://www.w3.org/1999/xlink\">\n",
       "<g class=\"graph\" id=\"graph0\" transform=\"scale(1 1) rotate(0) translate(4 256)\">\n",
       "<title>G</title>\n",
       "<!-- A -->\n",
       "<g class=\"node\" id=\"node1\">\n",
       "<title>A</title>\n",
       "<g id=\"a_node1\"><a xlink:title=\"(0) A\">\n",
       "<ellipse cx=\"99\" cy=\"-234\" fill=\"#404040\" rx=\"27\" ry=\"18\" stroke=\"#000000\"/>\n",
       "<text fill=\"#ffffff\" font-family=\"Times,serif\" font-size=\"14.00\" text-anchor=\"middle\" x=\"99\" y=\"-230.3\">A</text>\n",
       "</a>\n",
       "</g>\n",
       "</g>\n",
       "<!-- B -->\n",
       "<g class=\"node\" id=\"node2\">\n",
       "<title>B</title>\n",
       "<g id=\"a_node2\"><a xlink:title=\"(1) B\">\n",
       "<ellipse cx=\"27\" cy=\"-162\" fill=\"#404040\" rx=\"27\" ry=\"18\" stroke=\"#000000\"/>\n",
       "<text fill=\"#ffffff\" font-family=\"Times,serif\" font-size=\"14.00\" text-anchor=\"middle\" x=\"27\" y=\"-158.3\">B</text>\n",
       "</a>\n",
       "</g>\n",
       "</g>\n",
       "<!-- A&#45;&gt;B -->\n",
       "<g class=\"edge\" id=\"edge1\">\n",
       "<title>A-&gt;B</title>\n",
       "<g id=\"a_edge1\"><a xlink:title=\"(0, 1) : \">\n",
       "<path d=\"M83.7307,-218.7307C73.803,-208.803 60.6847,-195.6847 49.5637,-184.5637\" fill=\"none\" stroke=\"#aaaaaa\"/>\n",
       "<polygon fill=\"#aaaaaa\" points=\"51.7933,-181.8436 42.2473,-177.2473 46.8436,-186.7933 51.7933,-181.8436\" stroke=\"#aaaaaa\"/>\n",
       "</a>\n",
       "</g>\n",
       "</g>\n",
       "<!-- E -->\n",
       "<g class=\"node\" id=\"node5\">\n",
       "<title>E</title>\n",
       "<g id=\"a_node5\"><a xlink:title=\"(4) E\">\n",
       "<ellipse cx=\"99\" cy=\"-90\" fill=\"#404040\" rx=\"27\" ry=\"18\" stroke=\"#000000\"/>\n",
       "<text fill=\"#ffffff\" font-family=\"Times,serif\" font-size=\"14.00\" text-anchor=\"middle\" x=\"99\" y=\"-86.3\">E</text>\n",
       "</a>\n",
       "</g>\n",
       "</g>\n",
       "<!-- A&#45;&gt;E -->\n",
       "<g class=\"edge\" id=\"edge6\">\n",
       "<title>A-&gt;E</title>\n",
       "<g id=\"a_edge6\"><a xlink:title=\"(0, 4) : \">\n",
       "<path d=\"M99,-215.7623C99,-191.201 99,-147.2474 99,-118.3541\" fill=\"none\" stroke=\"#aaaaaa\"/>\n",
       "<polygon fill=\"#aaaaaa\" points=\"102.5001,-118.0896 99,-108.0896 95.5001,-118.0897 102.5001,-118.0896\" stroke=\"#aaaaaa\"/>\n",
       "</a>\n",
       "</g>\n",
       "</g>\n",
       "<!-- C -->\n",
       "<g class=\"node\" id=\"node3\">\n",
       "<title>C</title>\n",
       "<g id=\"a_node3\"><a xlink:title=\"(2) C\">\n",
       "<ellipse cx=\"27\" cy=\"-90\" fill=\"#404040\" rx=\"27\" ry=\"18\" stroke=\"#000000\"/>\n",
       "<text fill=\"#ffffff\" font-family=\"Times,serif\" font-size=\"14.00\" text-anchor=\"middle\" x=\"27\" y=\"-86.3\">C</text>\n",
       "</a>\n",
       "</g>\n",
       "</g>\n",
       "<!-- B&#45;&gt;C -->\n",
       "<g class=\"edge\" id=\"edge2\">\n",
       "<title>B-&gt;C</title>\n",
       "<g id=\"a_edge2\"><a xlink:title=\"(1, 2) : \">\n",
       "<path d=\"M27,-143.8314C27,-136.131 27,-126.9743 27,-118.4166\" fill=\"none\" stroke=\"#aaaaaa\"/>\n",
       "<polygon fill=\"#aaaaaa\" points=\"30.5001,-118.4132 27,-108.4133 23.5001,-118.4133 30.5001,-118.4132\" stroke=\"#aaaaaa\"/>\n",
       "</a>\n",
       "</g>\n",
       "</g>\n",
       "<!-- D -->\n",
       "<g class=\"node\" id=\"node4\">\n",
       "<title>D</title>\n",
       "<g id=\"a_node4\"><a xlink:title=\"(3) D\">\n",
       "<ellipse cx=\"99\" cy=\"-18\" fill=\"#404040\" rx=\"27\" ry=\"18\" stroke=\"#000000\"/>\n",
       "<text fill=\"#ffffff\" font-family=\"Times,serif\" font-size=\"14.00\" text-anchor=\"middle\" x=\"99\" y=\"-14.3\">D</text>\n",
       "</a>\n",
       "</g>\n",
       "</g>\n",
       "<!-- C&#45;&gt;D -->\n",
       "<g class=\"edge\" id=\"edge4\">\n",
       "<title>C-&gt;D</title>\n",
       "<g id=\"a_edge4\"><a xlink:title=\"(2, 3) : \">\n",
       "<path d=\"M42.2693,-74.7307C52.197,-64.803 65.3153,-51.6847 76.4363,-40.5637\" fill=\"none\" stroke=\"#aaaaaa\"/>\n",
       "<polygon fill=\"#aaaaaa\" points=\"79.1564,-42.7933 83.7527,-33.2473 74.2067,-37.8436 79.1564,-42.7933\" stroke=\"#aaaaaa\"/>\n",
       "</a>\n",
       "</g>\n",
       "</g>\n",
       "<!-- H -->\n",
       "<g class=\"node\" id=\"node7\">\n",
       "<title>H</title>\n",
       "<g id=\"a_node7\"><a xlink:title=\"(6) H\">\n",
       "<ellipse cx=\"27\" cy=\"-18\" fill=\"#404040\" rx=\"27\" ry=\"18\" stroke=\"#000000\"/>\n",
       "<text fill=\"#ffffff\" font-family=\"Times,serif\" font-size=\"14.00\" text-anchor=\"middle\" x=\"27\" y=\"-14.3\">H</text>\n",
       "</a>\n",
       "</g>\n",
       "</g>\n",
       "<!-- C&#45;&gt;H -->\n",
       "<g class=\"edge\" id=\"edge3\">\n",
       "<title>C-&gt;H</title>\n",
       "<g id=\"a_edge3\"><a xlink:title=\"(2, 6) : \">\n",
       "<path d=\"M27,-71.8314C27,-64.131 27,-54.9743 27,-46.4166\" fill=\"none\" stroke=\"#aaaaaa\"/>\n",
       "<polygon fill=\"#aaaaaa\" points=\"30.5001,-46.4132 27,-36.4133 23.5001,-46.4133 30.5001,-46.4132\" stroke=\"#aaaaaa\"/>\n",
       "</a>\n",
       "</g>\n",
       "</g>\n",
       "<!-- E&#45;&gt;D -->\n",
       "<g class=\"edge\" id=\"edge5\">\n",
       "<title>E-&gt;D</title>\n",
       "<g id=\"a_edge5\"><a xlink:title=\"(4, 3) : \">\n",
       "<path d=\"M99,-71.8314C99,-64.131 99,-54.9743 99,-46.4166\" fill=\"none\" stroke=\"#aaaaaa\"/>\n",
       "<polygon fill=\"#aaaaaa\" points=\"102.5001,-46.4132 99,-36.4133 95.5001,-46.4133 102.5001,-46.4132\" stroke=\"#aaaaaa\"/>\n",
       "</a>\n",
       "</g>\n",
       "</g>\n",
       "<!-- F -->\n",
       "<g class=\"node\" id=\"node6\">\n",
       "<title>F</title>\n",
       "<g id=\"a_node6\"><a xlink:title=\"(5) F\">\n",
       "<ellipse cx=\"27\" cy=\"-234\" fill=\"#404040\" rx=\"27\" ry=\"18\" stroke=\"#000000\"/>\n",
       "<text fill=\"#ffffff\" font-family=\"Times,serif\" font-size=\"14.00\" text-anchor=\"middle\" x=\"27\" y=\"-230.3\">F</text>\n",
       "</a>\n",
       "</g>\n",
       "</g>\n",
       "<!-- F&#45;&gt;B -->\n",
       "<g class=\"edge\" id=\"edge7\">\n",
       "<title>F-&gt;B</title>\n",
       "<g id=\"a_edge7\"><a xlink:title=\"(5, 1) : \">\n",
       "<path d=\"M27,-215.8314C27,-208.131 27,-198.9743 27,-190.4166\" fill=\"none\" stroke=\"#aaaaaa\"/>\n",
       "<polygon fill=\"#aaaaaa\" points=\"30.5001,-190.4132 27,-180.4133 23.5001,-190.4133 30.5001,-190.4132\" stroke=\"#aaaaaa\"/>\n",
       "</a>\n",
       "</g>\n",
       "</g>\n",
       "</g>\n",
       "</svg>"
      ],
      "text/plain": [
       "(gum::BayesNet<double>@0x557d251d5260) BN{nodes: 7, arcs: 7, domainSize: 128, parameters: 32, compression ratio: 75% }"
      ]
     },
     "execution_count": 2,
     "metadata": {},
     "output_type": "execute_result"
    }
   ],
   "source": [
    "bn=gum.fastBN(\"A->B->C->D;A->E->D;F->B;C->H\")\n",
    "ie=gum.LazyPropagation(bn)\n",
    "bn              "
   ]
  },
  {
   "cell_type": "markdown",
   "metadata": {},
   "source": [
    "Evidence Impact allows the user to analyze the effect of any variables on any other variables"
   ]
  },
  {
   "cell_type": "code",
   "execution_count": 3,
   "metadata": {
    "ExecuteTime": {
     "end_time": "2019-02-25T16:37:46.432896Z",
     "start_time": "2019-02-25T16:37:46.425447Z"
    }
   },
   "outputs": [
    {
     "data": {
      "text/html": [
       "<table style=\"border:1px solid black;\">\n",
       "<tr><th colspan='2'></th><th colspan='2' style='border:1px solid black;color:black;background-color:#808080;'><center>B</center></th></tr>\n",
       "<tr><th style='border:1px solid black;color:black;background-color:#808080'><center>A</center></th><th style='border:1px solid black;color:black;background-color:#808080'><center>H</center></th><th style='border:1px solid black;border-bottom-style: double;color:black;background-color:#BBBBBB'><center>0</center></th><th style='border:1px solid black;border-bottom-style: double;color:black;background-color:#BBBBBB'><center>1</center></th></tr>\n",
       "<tr><th style='border:1px solid black;color:black;background-color:#BBBBBB;' rowspan = '2'><center>0</center></th><th style='border:1px solid black;color:black;background-color:#BBBBBB'><center>0</center></th><td style='color:black;background-color:#a0dd64;text-align:right;'>0.7414</td><td style='color:black;background-color:#dda064;text-align:right;'>0.2586</td></tr>\n",
       "<tr><th style='border:1px solid black;color:black;background-color:#BBBBBB'><center>1</center></th><td style='color:black;background-color:#a1dc64;text-align:right;'>0.7319</td><td style='color:black;background-color:#dca164;text-align:right;'>0.2681</td></tr>\n",
       "<tr><th style='border:1px solid black;color:black;background-color:#BBBBBB;' rowspan = '2'><center>1</center></th><th style='border:1px solid black;color:black;background-color:#BBBBBB'><center>0</center></th><td style='color:black;background-color:#d5a864;text-align:right;'>0.3208</td><td style='color:black;background-color:#a8d564;text-align:right;'>0.6792</td></tr>\n",
       "<tr><th style='border:1px solid black;color:black;background-color:#BBBBBB'><center>1</center></th><td style='color:black;background-color:#d7a664;text-align:right;'>0.3103</td><td style='color:black;background-color:#a6d764;text-align:right;'>0.6897</td></tr>\n",
       "</table>"
      ],
      "text/plain": [
       "(gum::Potential<double>@0x557d251eed70) <B:0|H:0|A:0> :: 0.741374 /<B:1|H:0|A:0> :: 0.258626 /<B:0|H:1|A:0> :: 0.731949 /<B:1|H:1|A:0> :: 0.268051 /<B:0|H:0|A:1> :: 0.32084 /<B:1|H:0|A:1> :: 0.67916 /<B:0|H:1|A:1> :: 0.310347 /<B:1|H:1|A:1> :: 0.689653"
      ]
     },
     "execution_count": 3,
     "metadata": {},
     "output_type": "execute_result"
    }
   ],
   "source": [
    "ie.evidenceImpact(\"B\",[\"A\",\"H\"])"
   ]
  },
  {
   "cell_type": "markdown",
   "metadata": {
    "ExecuteTime": {
     "end_time": "2018-09-11T07:44:32.291529Z",
     "start_time": "2018-09-11T07:44:32.271183Z"
    }
   },
   "source": [
    "Evidence impact is able to find the minimum set of variables which effectively conditions the analyzed variable"
   ]
  },
  {
   "cell_type": "code",
   "execution_count": 4,
   "metadata": {
    "ExecuteTime": {
     "end_time": "2019-02-25T16:37:46.491139Z",
     "start_time": "2019-02-25T16:37:46.436149Z"
    }
   },
   "outputs": [
    {
     "data": {
      "text/html": [
       "<table style=\"border:1px solid black;\">\n",
       "<tr><th colspan='3'></th><th colspan='2' style='border:1px solid black;color:black;background-color:#808080;'><center>E</center></th></tr>\n",
       "<tr><th style='border:1px solid black;color:black;background-color:#808080'><center>A</center></th><th style='border:1px solid black;color:black;background-color:#808080'><center>B</center></th><th style='border:1px solid black;color:black;background-color:#808080'><center>D</center></th><th style='border:1px solid black;border-bottom-style: double;color:black;background-color:#BBBBBB'><center>0</center></th><th style='border:1px solid black;border-bottom-style: double;color:black;background-color:#BBBBBB'><center>1</center></th></tr>\n",
       "<tr><th style='border:1px solid black;color:black;background-color:#BBBBBB;' rowspan = '4'><center>0</center></th><th style='border:1px solid black;color:black;background-color:#BBBBBB;' rowspan = '2'><center>0</center></th><th style='border:1px solid black;color:black;background-color:#BBBBBB'><center>0</center></th><td style='color:black;background-color:#ceaf64;text-align:right;'>0.3825</td><td style='color:black;background-color:#afce64;text-align:right;'>0.6175</td></tr>\n",
       "<tr><th style='border:1px solid black;color:black;background-color:#BBBBBB'><center>1</center></th><td style='color:black;background-color:#90ed64;text-align:right;'>0.8639</td><td style='color:black;background-color:#ed9064;text-align:right;'>0.1361</td></tr>\n",
       "<tr><th style='border:1px solid black;color:black;background-color:#BBBBBB;' rowspan = '2'><center>1</center></th><th style='border:1px solid black;color:black;background-color:#BBBBBB'><center>0</center></th><td style='color:black;background-color:#cdb064;text-align:right;'>0.3849</td><td style='color:black;background-color:#b0cd64;text-align:right;'>0.6151</td></tr>\n",
       "<tr><th style='border:1px solid black;color:black;background-color:#BBBBBB'><center>1</center></th><td style='color:black;background-color:#8fee64;text-align:right;'>0.8685</td><td style='color:black;background-color:#ee8f64;text-align:right;'>0.1315</td></tr>\n",
       "<tr><th style='border:1px solid black;color:black;background-color:#BBBBBB;' rowspan = '4'><center>1</center></th><th style='border:1px solid black;color:black;background-color:#BBBBBB;' rowspan = '2'><center>0</center></th><th style='border:1px solid black;color:black;background-color:#BBBBBB'><center>0</center></th><td style='color:black;background-color:#aad364;text-align:right;'>0.6563</td><td style='color:black;background-color:#d3aa64;text-align:right;'>0.3437</td></tr>\n",
       "<tr><th style='border:1px solid black;color:black;background-color:#BBBBBB'><center>1</center></th><td style='color:black;background-color:#85f864;text-align:right;'>0.9514</td><td style='color:black;background-color:#f88564;text-align:right;'>0.0486</td></tr>\n",
       "<tr><th style='border:1px solid black;color:black;background-color:#BBBBBB;' rowspan = '2'><center>1</center></th><th style='border:1px solid black;color:black;background-color:#BBBBBB'><center>0</center></th><td style='color:black;background-color:#aad364;text-align:right;'>0.6585</td><td style='color:black;background-color:#d3aa64;text-align:right;'>0.3415</td></tr>\n",
       "<tr><th style='border:1px solid black;color:black;background-color:#BBBBBB'><center>1</center></th><td style='color:black;background-color:#84f964;text-align:right;'>0.9532</td><td style='color:black;background-color:#f98464;text-align:right;'>0.0468</td></tr>\n",
       "</table>"
      ],
      "text/plain": [
       "(gum::Potential<double>@0x557d251eee20) <E:0|D:0|B:0|A:0> :: 0.38254 /<E:1|D:0|B:0|A:0> :: 0.61746 /<E:0|D:1|B:0|A:0> :: 0.863938 /<E:1|D:1|B:0|A:0> :: 0.136062 /<E:0|D:0|B:1|A:0> :: 0.384856 /<E:1|D:0|B:1|A:0> :: 0.615144 /<E:0|D:1|B:1|A:0> :: 0.868502 /<E:1|D:1|B:1|A:0> :: 0.131498 /<E:0|D:0|B:0|A:1> :: 0.656342 /<E:1|D:0|B:0|A:1> :: 0.343658 /<E:0|D:1|B:0|A:1> :: 0.951395 /<E:1|D:1|B:0|A:1> :: 0.048605 /<E:0|D:0|B:1|A:1> :: 0.658547 /<E:1|D:0|B:1|A:1> :: 0.341453 /<E:0|D:1|B:1|A:1> :: 0.953185 /<E:1|D:1|B:1|A:1> :: 0.0468154"
      ]
     },
     "execution_count": 4,
     "metadata": {},
     "output_type": "execute_result"
    }
   ],
   "source": [
    "ie.evidenceImpact(\"E\",[\"A\",\"F\",\"B\",\"D\"]) # {A,D,B} d-separates E and F"
   ]
  },
  {
   "cell_type": "code",
   "execution_count": 5,
   "metadata": {
    "ExecuteTime": {
     "end_time": "2019-02-25T16:37:46.503831Z",
     "start_time": "2019-02-25T16:37:46.493996Z"
    }
   },
   "outputs": [
    {
     "data": {
      "text/html": [
       "<table style=\"border:1px solid black;\">\n",
       "<tr><th colspan='3'></th><th colspan='2' style='border:1px solid black;color:black;background-color:#808080;'><center>E</center></th></tr>\n",
       "<tr><th style='border:1px solid black;color:black;background-color:#808080'><center>C</center></th><th style='border:1px solid black;color:black;background-color:#808080'><center>A</center></th><th style='border:1px solid black;color:black;background-color:#808080'><center>D</center></th><th style='border:1px solid black;border-bottom-style: double;color:black;background-color:#BBBBBB'><center>0</center></th><th style='border:1px solid black;border-bottom-style: double;color:black;background-color:#BBBBBB'><center>1</center></th></tr>\n",
       "<tr><th style='border:1px solid black;color:black;background-color:#BBBBBB;' rowspan = '4'><center>0</center></th><th style='border:1px solid black;color:black;background-color:#BBBBBB;' rowspan = '2'><center>0</center></th><th style='border:1px solid black;color:black;background-color:#BBBBBB'><center>0</center></th><td style='color:black;background-color:#d9a464;text-align:right;'>0.2905</td><td style='color:black;background-color:#a4d964;text-align:right;'>0.7095</td></tr>\n",
       "<tr><th style='border:1px solid black;color:black;background-color:#BBBBBB'><center>1</center></th><td style='color:black;background-color:#9be264;text-align:right;'>0.7797</td><td style='color:black;background-color:#e29b64;text-align:right;'>0.2203</td></tr>\n",
       "<tr><th style='border:1px solid black;color:black;background-color:#BBBBBB;' rowspan = '2'><center>1</center></th><th style='border:1px solid black;color:black;background-color:#BBBBBB'><center>0</center></th><td style='color:black;background-color:#b7c664;text-align:right;'>0.5580</td><td style='color:black;background-color:#c6b764;text-align:right;'>0.4420</td></tr>\n",
       "<tr><th style='border:1px solid black;color:black;background-color:#BBBBBB'><center>1</center></th><td style='color:black;background-color:#89f464;text-align:right;'>0.9160</td><td style='color:black;background-color:#f48964;text-align:right;'>0.0840</td></tr>\n",
       "<tr><th style='border:1px solid black;color:black;background-color:#BBBBBB;' rowspan = '4'><center>1</center></th><th style='border:1px solid black;color:black;background-color:#BBBBBB;' rowspan = '2'><center>0</center></th><th style='border:1px solid black;color:black;background-color:#BBBBBB'><center>0</center></th><td style='color:black;background-color:#c9b464;text-align:right;'>0.4151</td><td style='color:black;background-color:#b4c964;text-align:right;'>0.5849</td></tr>\n",
       "<tr><th style='border:1px solid black;color:black;background-color:#BBBBBB'><center>1</center></th><td style='color:black;background-color:#83fa64;text-align:right;'>0.9657</td><td style='color:black;background-color:#fa8364;text-align:right;'>0.0343</td></tr>\n",
       "<tr><th style='border:1px solid black;color:black;background-color:#BBBBBB;' rowspan = '2'><center>1</center></th><th style='border:1px solid black;color:black;background-color:#BBBBBB'><center>0</center></th><td style='color:black;background-color:#a7d664;text-align:right;'>0.6863</td><td style='color:black;background-color:#d6a764;text-align:right;'>0.3137</td></tr>\n",
       "<tr><th style='border:1px solid black;color:black;background-color:#BBBBBB'><center>1</center></th><td style='color:black;background-color:#80fd64;text-align:right;'>0.9886</td><td style='color:black;background-color:#fd8064;text-align:right;'>0.0114</td></tr>\n",
       "</table>"
      ],
      "text/plain": [
       "(gum::Potential<double>@0x557d24d01080) <E:0|D:0|A:0|C:0> :: 0.290545 /<E:1|D:0|A:0|C:0> :: 0.709455 /<E:0|D:1|A:0|C:0> :: 0.779652 /<E:1|D:1|A:0|C:0> :: 0.220348 /<E:0|D:0|A:1|C:0> :: 0.558006 /<E:1|D:0|A:1|C:0> :: 0.441994 /<E:0|D:1|A:1|C:0> :: 0.91602 /<E:1|D:1|A:1|C:0> :: 0.0839804 /<E:0|D:0|A:0|C:1> :: 0.415116 /<E:1|D:0|A:0|C:1> :: 0.584884 /<E:0|D:1|A:0|C:1> :: 0.965722 /<E:1|D:1|A:0|C:1> :: 0.0342776 /<E:0|D:0|A:1|C:1> :: 0.686318 /<E:1|D:0|A:1|C:1> :: 0.313682 /<E:0|D:1|A:1|C:1> :: 0.988617 /<E:1|D:1|A:1|C:1> :: 0.0113829"
      ]
     },
     "execution_count": 5,
     "metadata": {},
     "output_type": "execute_result"
    }
   ],
   "source": [
    "ie.evidenceImpact(\"E\",[\"A\",\"B\",\"C\",\"D\",\"F\"]) # {A,C,D} d-separates E and {B,F}"
   ]
  },
  {
   "cell_type": "code",
   "execution_count": 6,
   "metadata": {
    "ExecuteTime": {
     "end_time": "2019-02-25T16:37:46.514303Z",
     "start_time": "2019-02-25T16:37:46.506505Z"
    }
   },
   "outputs": [
    {
     "data": {
      "text/html": [
       "<table style=\"border:1px solid black;\">\n",
       "<tr><th colspan='3'></th><th colspan='2' style='border:1px solid black;color:black;background-color:#808080;'><center>A</center></th></tr>\n",
       "<tr><th style='border:1px solid black;color:black;background-color:#808080'><center>E</center></th><th style='border:1px solid black;color:black;background-color:#808080'><center>B</center></th><th style='border:1px solid black;color:black;background-color:#808080'><center>F</center></th><th style='border:1px solid black;border-bottom-style: double;color:black;background-color:#BBBBBB'><center>0</center></th><th style='border:1px solid black;border-bottom-style: double;color:black;background-color:#BBBBBB'><center>1</center></th></tr>\n",
       "<tr><th style='border:1px solid black;color:black;background-color:#BBBBBB;' rowspan = '4'><center>0</center></th><th style='border:1px solid black;color:black;background-color:#BBBBBB;' rowspan = '2'><center>0</center></th><th style='border:1px solid black;color:black;background-color:#BBBBBB'><center>0</center></th><td style='text-align:right;'>0.6893</td><td style='text-align:right;'>0.0014</td></tr>\n",
       "<tr><th style='border:1px solid black;color:black;background-color:#BBBBBB'><center>1</center></th><td style='text-align:right;'>0.3065</td><td style='text-align:right;'>0.0028</td></tr>\n",
       "<tr><th style='border:1px solid black;color:black;background-color:#BBBBBB;' rowspan = '2'><center>1</center></th><th style='border:1px solid black;color:black;background-color:#BBBBBB'><center>0</center></th><td style='text-align:right;'>0.3068</td><td style='text-align:right;'>0.0178</td></tr>\n",
       "<tr><th style='border:1px solid black;color:black;background-color:#BBBBBB'><center>1</center></th><td style='text-align:right;'>0.6682</td><td style='text-align:right;'>0.0072</td></tr>\n",
       "<tr><th style='border:1px solid black;color:black;background-color:#BBBBBB;' rowspan = '4'><center>1</center></th><th style='border:1px solid black;color:black;background-color:#BBBBBB;' rowspan = '2'><center>0</center></th><th style='border:1px solid black;color:black;background-color:#BBBBBB'><center>0</center></th><td style='text-align:right;'>0.6913</td><td style='text-align:right;'>0.0004</td></tr>\n",
       "<tr><th style='border:1px solid black;color:black;background-color:#BBBBBB'><center>1</center></th><td style='text-align:right;'>0.3073</td><td style='text-align:right;'>0.0009</td></tr>\n",
       "<tr><th style='border:1px solid black;color:black;background-color:#BBBBBB;' rowspan = '2'><center>1</center></th><th style='border:1px solid black;color:black;background-color:#BBBBBB'><center>0</center></th><td style='text-align:right;'>0.3121</td><td style='text-align:right;'>0.0059</td></tr>\n",
       "<tr><th style='border:1px solid black;color:black;background-color:#BBBBBB'><center>1</center></th><td style='text-align:right;'>0.6796</td><td style='text-align:right;'>0.0024</td></tr>\n",
       "</table>"
      ],
      "text/plain": [
       "(gum::Potential<double>@0x557d24f64370) <A:0|F:0|B:0|E:0> :: 0.689339 /<A:1|F:0|B:0|E:0> :: 0.00137427 /<A:0|F:1|B:0|E:0> :: 0.306455 /<A:1|F:1|B:0|E:0> :: 0.00283118 /<A:0|F:0|B:1|E:0> :: 0.306837 /<A:1|F:0|B:1|E:0> :: 0.0177973 /<A:0|F:1|B:1|E:0> :: 0.668177 /<A:1|F:1|B:1|E:0> :: 0.00718899 /<A:0|F:0|B:0|E:1> :: 0.691304 /<A:1|F:0|B:0|E:1> :: 0.000447066 /<A:0|F:1|B:0|E:1> :: 0.307328 /<A:1|F:1|B:0|E:1> :: 0.00092102 /<A:0|F:0|B:1|E:1> :: 0.312106 /<A:1|F:0|B:1|E:1> :: 0.00587236 /<A:0|F:1|B:1|E:1> :: 0.67965 /<A:1|F:1|B:1|E:1> :: 0.00237207"
      ]
     },
     "execution_count": 6,
     "metadata": {},
     "output_type": "execute_result"
    }
   ],
   "source": [
    "ie.evidenceJointImpact([\"A\",\"F\"],[\"B\",\"C\",\"D\",\"E\",\"H\"]) # {B,E} d-separates [A,F] and [C,D,H]"
   ]
  },
  {
   "cell_type": "code",
   "execution_count": null,
   "metadata": {},
   "outputs": [],
   "source": []
  }
 ],
 "metadata": {
  "hide_input": false,
  "kernelspec": {
   "display_name": "Python 3",
   "language": "python",
   "name": "python3"
  },
  "language_info": {
   "codemirror_mode": {
    "name": "ipython",
    "version": 3
   },
   "file_extension": ".py",
   "mimetype": "text/x-python",
   "name": "python",
   "nbconvert_exporter": "python",
   "pygments_lexer": "ipython3",
   "version": "3.7.4"
  }
 },
 "nbformat": 4,
 "nbformat_minor": 4
}
