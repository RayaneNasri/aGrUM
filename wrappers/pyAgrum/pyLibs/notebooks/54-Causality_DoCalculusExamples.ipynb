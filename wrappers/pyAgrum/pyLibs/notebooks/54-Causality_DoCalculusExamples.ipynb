{
 "cells": [
  {
   "cell_type": "markdown",
   "metadata": {},
   "source": [
    "<a href=\"http://agrum.org\" target=\"blank\"><img src=\"http://agrum.gitlab.io/theme/img/logoAgrum.png\" align=\"left\" style=\"height:100px\"/></a><a rel=\"license\" href=\"http://creativecommons.org/licenses/by-nc/4.0/\"><img alt=\"Creative Commons License\" style=\"border-width:0\" src=\"https://i.creativecommons.org/l/by-nc/4.0/88x31.png\" /></a><br />This pyAgrum's notebook is licensed under a <a rel=\"license\" href=\"http://creativecommons.org/licenses/by-nc/4.0/\">Creative Commons Attribution-NonCommercial 4.0 International License</a>."
   ]
  },
  {
   "cell_type": "code",
   "execution_count": 1,
   "metadata": {
    "ExecuteTime": {
     "end_time": "2019-03-30T09:47:26.455586Z",
     "start_time": "2019-03-30T09:47:26.223653Z"
    },
    "execution": {
     "iopub.execute_input": "2021-12-06T01:29:07.498340Z",
     "iopub.status.busy": "2021-12-06T01:29:07.498340Z",
     "iopub.status.idle": "2021-12-06T01:29:08.307348Z",
     "shell.execute_reply": "2021-12-06T01:29:08.306413Z",
     "shell.execute_reply.started": "2021-12-06T01:29:07.498340Z"
    }
   },
   "outputs": [],
   "source": [
    "from IPython.display import display, Math, Latex, HTML\n",
    "\n",
    "import pyAgrum as gum\n",
    "import pyAgrum.lib.notebook as gnb\n",
    "import pyAgrum.causal as csl\n",
    "import pyAgrum.causal.notebook as cslnb"
   ]
  },
  {
   "cell_type": "markdown",
   "metadata": {},
   "source": [
    "# EXAMPLE S. Tikka and J. Karvanen, 2016 [CRAN]"
   ]
  },
  {
   "cell_type": "code",
   "execution_count": 2,
   "metadata": {
    "ExecuteTime": {
     "end_time": "2019-03-30T09:47:30.296100Z",
     "start_time": "2019-03-30T09:47:26.457764Z"
    },
    "execution": {
     "iopub.execute_input": "2021-12-06T01:29:08.310347Z",
     "iopub.status.busy": "2021-12-06T01:29:08.309346Z",
     "iopub.status.idle": "2021-12-06T01:29:08.655230Z",
     "shell.execute_reply": "2021-12-06T01:29:08.654232Z",
     "shell.execute_reply.started": "2021-12-06T01:29:08.310347Z"
    }
   },
   "outputs": [
    {
     "data": {
      "text/html": [
       "<table style=\"border-style: hidden; border-collapse: collapse;\" width=\"100%\"><tr><td style=\"border-top:hidden;border-bottom:hidden;\"><div align=\"center\" style=\"\"><svg xmlns=\"http://www.w3.org/2000/svg\" xmlns:xlink=\"http://www.w3.org/1999/xlink\" width=\"187pt\" height=\"281pt\" viewBox=\"0.00 0.00 187.00 280.57\">\n",
       "<g id=\"graph0\" class=\"graph\" transform=\"scale(1 1) rotate(0) translate(4 276.57)\">\n",
       "<title>G</title>\n",
       "<!-- lat1 -->\n",
       "<g id=\"node1\" class=\"node\">\n",
       "<title>lat1</title>\n",
       "<ellipse fill=\"#404040\" stroke=\"#4a4a4a\" cx=\"29\" cy=\"-244.28\" rx=\"1.8\" ry=\"1.8\"/>\n",
       "</g>\n",
       "<!-- x -->\n",
       "<g id=\"node3\" class=\"node\">\n",
       "<title>x</title>\n",
       "<ellipse fill=\"#404040\" stroke=\"#4a4a4a\" cx=\"55\" cy=\"-162\" rx=\"27\" ry=\"18\"/>\n",
       "<text text-anchor=\"middle\" x=\"55\" y=\"-158.3\" font-family=\"Times New Roman,serif\" font-size=\"14.00\" fill=\"white\">x</text>\n",
       "</g>\n",
       "<!-- lat1&#45;&gt;x -->\n",
       "<g id=\"edge6\" class=\"edge\">\n",
       "<title>lat1-&gt;x</title>\n",
       "<path fill=\"none\" stroke=\"#4a4a4a\" stroke-dasharray=\"5,2\" d=\"M29.29,-242.38C30.97,-237.2 39.55,-210.71 46.34,-189.74\"/>\n",
       "<polygon fill=\"#4a4a4a\" stroke=\"#4a4a4a\" points=\"49.74,-190.59 49.49,-180 43.08,-188.44 49.74,-190.59\"/>\n",
       "</g>\n",
       "<!-- y -->\n",
       "<g id=\"node5\" class=\"node\">\n",
       "<title>y</title>\n",
       "<ellipse fill=\"#404040\" stroke=\"#4a4a4a\" cx=\"27\" cy=\"-18\" rx=\"27\" ry=\"18\"/>\n",
       "<text text-anchor=\"middle\" x=\"27\" y=\"-14.3\" font-family=\"Times New Roman,serif\" font-size=\"14.00\" fill=\"white\">y</text>\n",
       "</g>\n",
       "<!-- lat1&#45;&gt;y -->\n",
       "<g id=\"edge3\" class=\"edge\">\n",
       "<title>lat1-&gt;y</title>\n",
       "<path fill=\"none\" stroke=\"#4a4a4a\" stroke-dasharray=\"5,2\" d=\"M28.81,-242.4C27.59,-236.8 21.02,-205.73 19,-180 15.24,-132.15 15.41,-119.87 19,-72 19.64,-63.52 20.84,-54.34 22.12,-46.04\"/>\n",
       "<polygon fill=\"#4a4a4a\" stroke=\"#4a4a4a\" points=\"25.58,-46.55 23.75,-36.11 18.68,-45.41 25.58,-46.55\"/>\n",
       "</g>\n",
       "<!-- w -->\n",
       "<g id=\"node2\" class=\"node\">\n",
       "<title>w</title>\n",
       "<ellipse fill=\"#404040\" stroke=\"#4a4a4a\" cx=\"80\" cy=\"-244.28\" rx=\"27\" ry=\"18\"/>\n",
       "<text text-anchor=\"middle\" x=\"80\" y=\"-240.58\" font-family=\"Times New Roman,serif\" font-size=\"14.00\" fill=\"white\">w</text>\n",
       "</g>\n",
       "<!-- w&#45;&gt;x -->\n",
       "<g id=\"edge1\" class=\"edge\">\n",
       "<title>w-&gt;x</title>\n",
       "<path fill=\"none\" stroke=\"#4a4a4a\" d=\"M73.74,-226.56C70.41,-215.84 66.03,-201.79 62.25,-189.65\"/>\n",
       "<path fill=\"none\" stroke=\"#4a4a4a\" d=\"M75.65,-225.96C72.32,-215.24 67.94,-201.19 64.16,-189.06\"/>\n",
       "<polygon fill=\"#4a4a4a\" stroke=\"#4a4a4a\" points=\"66.52,-188.23 60.21,-179.73 59.84,-190.31 66.52,-188.23\"/>\n",
       "</g>\n",
       "<!-- z -->\n",
       "<g id=\"node4\" class=\"node\">\n",
       "<title>z</title>\n",
       "<ellipse fill=\"#404040\" stroke=\"#4a4a4a\" cx=\"55\" cy=\"-90\" rx=\"27\" ry=\"18\"/>\n",
       "<text text-anchor=\"middle\" x=\"55\" y=\"-86.3\" font-family=\"Times New Roman,serif\" font-size=\"14.00\" fill=\"white\">z</text>\n",
       "</g>\n",
       "<!-- w&#45;&gt;z -->\n",
       "<g id=\"edge5\" class=\"edge\">\n",
       "<title>w-&gt;z</title>\n",
       "<path fill=\"none\" stroke=\"#4a4a4a\" d=\"M84.98,-226.09C91.08,-206.09 98.64,-171.8 90.04,-144.29 86.86,-133.83 80.6,-123.36 74.27,-114.67\"/>\n",
       "<path fill=\"none\" stroke=\"#4a4a4a\" d=\"M86.89,-226.68C93.04,-206.52 100.59,-172.23 91.96,-143.71 88.57,-132.8 82.32,-122.34 75.88,-113.49\"/>\n",
       "<polygon fill=\"#4a4a4a\" stroke=\"#4a4a4a\" points=\"77.65,-111.69 68.75,-105.93 72.12,-115.98 77.65,-111.69\"/>\n",
       "</g>\n",
       "<!-- x&#45;&gt;z -->\n",
       "<g id=\"edge2\" class=\"edge\">\n",
       "<title>x-&gt;z</title>\n",
       "<path fill=\"none\" stroke=\"#4a4a4a\" d=\"M54,-143.7C54,-135.98 54,-126.71 54,-118.11\"/>\n",
       "<path fill=\"none\" stroke=\"#4a4a4a\" d=\"M56,-143.7C56,-135.98 56,-126.71 56,-118.11\"/>\n",
       "<polygon fill=\"#4a4a4a\" stroke=\"#4a4a4a\" points=\"58.5,-118.1 55,-108.1 51.5,-118.1 58.5,-118.1\"/>\n",
       "</g>\n",
       "<!-- z&#45;&gt;y -->\n",
       "<g id=\"edge4\" class=\"edge\">\n",
       "<title>z-&gt;y</title>\n",
       "<path fill=\"none\" stroke=\"#4a4a4a\" d=\"M47.44,-72.78C44.16,-64.59 40.13,-54.51 36.45,-45.33\"/>\n",
       "<path fill=\"none\" stroke=\"#4a4a4a\" d=\"M49.29,-72.04C46.02,-63.85 41.98,-53.77 38.31,-44.58\"/>\n",
       "<polygon fill=\"#4a4a4a\" stroke=\"#4a4a4a\" points=\"40.55,-43.45 33.59,-35.47 34.05,-46.05 40.55,-43.45\"/>\n",
       "</g>\n",
       "<!-- \\n\\n -->\n",
       "<g id=\"node6\" class=\"node\">\n",
       "<title>\\n\\n</title>\n",
       "<ellipse fill=\"#404040\" stroke=\"#4a4a4a\" cx=\"152\" cy=\"-244.28\" rx=\"27\" ry=\"28.07\"/>\n",
       "</g>\n",
       "</g>\n",
       "</svg></div></td><td style=\"border-top:hidden;border-bottom:hidden;\"><div align=\"center\" style=\"\">$$\\begin{equation*}P( y \\mid \\hookrightarrow\\mkern-6.5mux) = \\sum_{w,z}{\\left(\\sum_{x'}{P\\left(x'\\mid w\\right) \\cdot P\\left(y\\mid w,x',z\\right)}\\right) \\cdot P\\left(z\\mid w,x\\right) \\cdot P\\left(w\\right)}\\end{equation*}$$</div></td><td style=\"border-top:hidden;border-bottom:hidden;\"><div align=\"center\" style=\"\"><table style=\"border:1px solid black;\">\n",
       "<tr style='border:1px solid black;color:black;background-color:#808080'>\n",
       "      <th colspan='2'><center>y</center></th></tr>\n",
       "<tr><th style='border:1px solid black;border-bottom-style: double;color:black;background-color:#BBBBBB'>\n",
       "      <center>0</center></th><th style='border:1px solid black;border-bottom-style: double;color:black;background-color:#BBBBBB'>\n",
       "      <center>1</center></th></tr>\n",
       "<tr><td style='color:black;background-color:#bdc064;text-align:right;'>0.5130</td><td style='color:black;background-color:#c0bd64;text-align:right;'>0.4870</td></tr>\n",
       "</table></div></td></tr><tr><td style=\"border-top:hidden;border-bottom:hidden;\"><div align=\"center\"><small>Causal Model</small></div></td><td style=\"border-top:hidden;border-bottom:hidden;\"><div align=\"center\"><small>Explanation : Do-calculus computations</small></div></td><td style=\"border-top:hidden;border-bottom:hidden;\"><div align=\"center\"><small>Impact : $P( y \\mid \\hookrightarrow\\mkern-6.5mux=0)$</small></div></td></tr></table>"
      ],
      "text/plain": [
       "<IPython.core.display.HTML object>"
      ]
     },
     "metadata": {},
     "output_type": "display_data"
    },
    {
     "data": {
      "text/html": [
       "<table style=\"border-style: hidden; border-collapse: collapse;\" width=\"100%\"><tr><td style=\"border-top:hidden;border-bottom:hidden;\"><div align=\"center\" style=\"\"><svg xmlns=\"http://www.w3.org/2000/svg\" xmlns:xlink=\"http://www.w3.org/1999/xlink\" width=\"187pt\" height=\"281pt\" viewBox=\"0.00 0.00 187.00 280.57\">\n",
       "<g id=\"graph0\" class=\"graph\" transform=\"scale(1 1) rotate(0) translate(4 276.57)\">\n",
       "<title>G</title>\n",
       "<!-- lat1 -->\n",
       "<g id=\"node1\" class=\"node\">\n",
       "<title>lat1</title>\n",
       "<ellipse fill=\"#404040\" stroke=\"#4a4a4a\" cx=\"29\" cy=\"-244.28\" rx=\"1.8\" ry=\"1.8\"/>\n",
       "</g>\n",
       "<!-- x -->\n",
       "<g id=\"node3\" class=\"node\">\n",
       "<title>x</title>\n",
       "<ellipse fill=\"#404040\" stroke=\"#4a4a4a\" cx=\"55\" cy=\"-162\" rx=\"27\" ry=\"18\"/>\n",
       "<text text-anchor=\"middle\" x=\"55\" y=\"-158.3\" font-family=\"Times New Roman,serif\" font-size=\"14.00\" fill=\"white\">x</text>\n",
       "</g>\n",
       "<!-- lat1&#45;&gt;x -->\n",
       "<g id=\"edge6\" class=\"edge\">\n",
       "<title>lat1-&gt;x</title>\n",
       "<path fill=\"none\" stroke=\"#4a4a4a\" stroke-dasharray=\"5,2\" d=\"M29.29,-242.38C30.97,-237.2 39.55,-210.71 46.34,-189.74\"/>\n",
       "<polygon fill=\"#4a4a4a\" stroke=\"#4a4a4a\" points=\"49.74,-190.59 49.49,-180 43.08,-188.44 49.74,-190.59\"/>\n",
       "</g>\n",
       "<!-- y -->\n",
       "<g id=\"node5\" class=\"node\">\n",
       "<title>y</title>\n",
       "<ellipse fill=\"#404040\" stroke=\"#4a4a4a\" cx=\"27\" cy=\"-18\" rx=\"27\" ry=\"18\"/>\n",
       "<text text-anchor=\"middle\" x=\"27\" y=\"-14.3\" font-family=\"Times New Roman,serif\" font-size=\"14.00\" fill=\"white\">y</text>\n",
       "</g>\n",
       "<!-- lat1&#45;&gt;y -->\n",
       "<g id=\"edge3\" class=\"edge\">\n",
       "<title>lat1-&gt;y</title>\n",
       "<path fill=\"none\" stroke=\"#4a4a4a\" stroke-dasharray=\"5,2\" d=\"M28.81,-242.4C27.59,-236.8 21.02,-205.73 19,-180 15.24,-132.15 15.41,-119.87 19,-72 19.64,-63.52 20.84,-54.34 22.12,-46.04\"/>\n",
       "<polygon fill=\"#4a4a4a\" stroke=\"#4a4a4a\" points=\"25.58,-46.55 23.75,-36.11 18.68,-45.41 25.58,-46.55\"/>\n",
       "</g>\n",
       "<!-- w -->\n",
       "<g id=\"node2\" class=\"node\">\n",
       "<title>w</title>\n",
       "<ellipse fill=\"#404040\" stroke=\"#4a4a4a\" cx=\"80\" cy=\"-244.28\" rx=\"27\" ry=\"18\"/>\n",
       "<text text-anchor=\"middle\" x=\"80\" y=\"-240.58\" font-family=\"Times New Roman,serif\" font-size=\"14.00\" fill=\"white\">w</text>\n",
       "</g>\n",
       "<!-- w&#45;&gt;x -->\n",
       "<g id=\"edge1\" class=\"edge\">\n",
       "<title>w-&gt;x</title>\n",
       "<path fill=\"none\" stroke=\"#4a4a4a\" d=\"M73.74,-226.56C70.41,-215.84 66.03,-201.79 62.25,-189.65\"/>\n",
       "<path fill=\"none\" stroke=\"#4a4a4a\" d=\"M75.65,-225.96C72.32,-215.24 67.94,-201.19 64.16,-189.06\"/>\n",
       "<polygon fill=\"#4a4a4a\" stroke=\"#4a4a4a\" points=\"66.52,-188.23 60.21,-179.73 59.84,-190.31 66.52,-188.23\"/>\n",
       "</g>\n",
       "<!-- z -->\n",
       "<g id=\"node4\" class=\"node\">\n",
       "<title>z</title>\n",
       "<ellipse fill=\"#404040\" stroke=\"#4a4a4a\" cx=\"55\" cy=\"-90\" rx=\"27\" ry=\"18\"/>\n",
       "<text text-anchor=\"middle\" x=\"55\" y=\"-86.3\" font-family=\"Times New Roman,serif\" font-size=\"14.00\" fill=\"white\">z</text>\n",
       "</g>\n",
       "<!-- w&#45;&gt;z -->\n",
       "<g id=\"edge5\" class=\"edge\">\n",
       "<title>w-&gt;z</title>\n",
       "<path fill=\"none\" stroke=\"#4a4a4a\" d=\"M84.98,-226.09C91.08,-206.09 98.64,-171.8 90.04,-144.29 86.86,-133.83 80.6,-123.36 74.27,-114.67\"/>\n",
       "<path fill=\"none\" stroke=\"#4a4a4a\" d=\"M86.89,-226.68C93.04,-206.52 100.59,-172.23 91.96,-143.71 88.57,-132.8 82.32,-122.34 75.88,-113.49\"/>\n",
       "<polygon fill=\"#4a4a4a\" stroke=\"#4a4a4a\" points=\"77.65,-111.69 68.75,-105.93 72.12,-115.98 77.65,-111.69\"/>\n",
       "</g>\n",
       "<!-- x&#45;&gt;z -->\n",
       "<g id=\"edge2\" class=\"edge\">\n",
       "<title>x-&gt;z</title>\n",
       "<path fill=\"none\" stroke=\"#4a4a4a\" d=\"M54,-143.7C54,-135.98 54,-126.71 54,-118.11\"/>\n",
       "<path fill=\"none\" stroke=\"#4a4a4a\" d=\"M56,-143.7C56,-135.98 56,-126.71 56,-118.11\"/>\n",
       "<polygon fill=\"#4a4a4a\" stroke=\"#4a4a4a\" points=\"58.5,-118.1 55,-108.1 51.5,-118.1 58.5,-118.1\"/>\n",
       "</g>\n",
       "<!-- z&#45;&gt;y -->\n",
       "<g id=\"edge4\" class=\"edge\">\n",
       "<title>z-&gt;y</title>\n",
       "<path fill=\"none\" stroke=\"#4a4a4a\" d=\"M47.44,-72.78C44.16,-64.59 40.13,-54.51 36.45,-45.33\"/>\n",
       "<path fill=\"none\" stroke=\"#4a4a4a\" d=\"M49.29,-72.04C46.02,-63.85 41.98,-53.77 38.31,-44.58\"/>\n",
       "<polygon fill=\"#4a4a4a\" stroke=\"#4a4a4a\" points=\"40.55,-43.45 33.59,-35.47 34.05,-46.05 40.55,-43.45\"/>\n",
       "</g>\n",
       "<!-- \\n\\n -->\n",
       "<g id=\"node6\" class=\"node\">\n",
       "<title>\\n\\n</title>\n",
       "<ellipse fill=\"#404040\" stroke=\"#4a4a4a\" cx=\"152\" cy=\"-244.28\" rx=\"27\" ry=\"28.07\"/>\n",
       "</g>\n",
       "</g>\n",
       "</svg></div></td><td style=\"border-top:hidden;border-bottom:hidden;\"><div align=\"center\" style=\"\">$$\\begin{equation*}P( y \\mid \\hookrightarrow\\mkern-6.5mux) = \\sum_{w,z}{\\left(\\sum_{x'}{P\\left(x'\\mid w\\right) \\cdot P\\left(y\\mid w,x',z\\right)}\\right) \\cdot P\\left(z\\mid w,x\\right) \\cdot P\\left(w\\right)}\\end{equation*}$$</div></td><td style=\"border-top:hidden;border-bottom:hidden;\"><div align=\"center\" style=\"\"><table style=\"border:1px solid black;\">\n",
       "<tr style='border:1px solid black;color:black;background-color:#808080'>\n",
       "      <th colspan='2'><center>y</center></th></tr>\n",
       "<tr><th style='border:1px solid black;border-bottom-style: double;color:black;background-color:#BBBBBB'>\n",
       "      <center>0</center></th><th style='border:1px solid black;border-bottom-style: double;color:black;background-color:#BBBBBB'>\n",
       "      <center>1</center></th></tr>\n",
       "<tr><td style='color:black;background-color:#acd164;text-align:right;'>0.6460</td><td style='color:black;background-color:#d1ac64;text-align:right;'>0.3540</td></tr>\n",
       "</table></div></td></tr><tr><td style=\"border-top:hidden;border-bottom:hidden;\"><div align=\"center\"><small>Causal Model</small></div></td><td style=\"border-top:hidden;border-bottom:hidden;\"><div align=\"center\"><small>Explanation : Do-calculus computations</small></div></td><td style=\"border-top:hidden;border-bottom:hidden;\"><div align=\"center\"><small>Impact : $P( y \\mid \\hookrightarrow\\mkern-6.5mux=1)$</small></div></td></tr></table>"
      ],
      "text/plain": [
       "<IPython.core.display.HTML object>"
      ]
     },
     "metadata": {},
     "output_type": "display_data"
    }
   ],
   "source": [
    "bn = gum.fastBN(\"w->x->z->y;w->z\")\n",
    "\n",
    "bn.cpt(\"w\")[:] = [0.7,0.3]\n",
    "\n",
    "bn.cpt(\"x\")[:] = [[0.4,0.6],[0.3,0.7]]\n",
    "\n",
    "bn.cpt(\"z\")[{'w':0,'x':0}]=[0.2,0.8]\n",
    "bn.cpt(\"z\")[{'w':0,'x':1}]=[0.1,0.9]\n",
    "bn.cpt(\"z\")[{'w':1,'x':0}]=[0.9,0.1]\n",
    "bn.cpt(\"z\")[{'w':1,'x':1}]=[0.5,0.5]\n",
    "\n",
    "bn.cpt(\"y\")[:] = [[0.1,0.9],[0.8,0.2]]\n",
    "\n",
    "\n",
    "d = csl.CausalModel(bn, [(\"lat1\", [\"x\",\"y\"])])\n",
    "#csl.causalImpact(d,\"y\",{\"x\":0})\n",
    "cslnb.showCausalImpact(d,\"y\",\"x\",values={\"x\":0})\n",
    "cslnb.showCausalImpact(d,\"y\",\"x\",values={\"x\":1})\n",
    "\n"
   ]
  },
  {
   "cell_type": "markdown",
   "metadata": {},
   "source": [
    "Since we have the formula, let us compute by hand this intervention :"
   ]
  },
  {
   "cell_type": "code",
   "execution_count": 3,
   "metadata": {
    "ExecuteTime": {
     "end_time": "2019-03-30T09:47:30.305181Z",
     "start_time": "2019-03-30T09:47:30.298891Z"
    },
    "execution": {
     "iopub.execute_input": "2021-12-06T01:29:08.656229Z",
     "iopub.status.busy": "2021-12-06T01:29:08.656229Z",
     "iopub.status.idle": "2021-12-06T01:29:08.670232Z",
     "shell.execute_reply": "2021-12-06T01:29:08.670232Z",
     "shell.execute_reply.started": "2021-12-06T01:29:08.656229Z"
    }
   },
   "outputs": [
    {
     "data": {
      "text/html": [
       "<table style=\"border:1px solid black;\">\n",
       "<tr><th colspan='1'></th>\n",
       "      <th colspan='2' style='border:1px solid black;color:black;background-color:#808080;'><center>y</center>\n",
       "      </th></tr>\n",
       "<tr><th style='border:1px solid black;color:black;background-color:#808080'><center>x</center></th><th style='border:1px solid black;border-bottom-style: double;color:black;background-color:#BBBBBB'>\n",
       "      <center>0</center></th><th style='border:1px solid black;border-bottom-style: double;color:black;background-color:#BBBBBB'>\n",
       "      <center>1</center></th></tr>\n",
       "<tr><th style='border:1px solid black;color:black;background-color:#BBBBBB'><center>0</center></th><td style='color:black;background-color:#bdc064;text-align:right;'>0.5130</td><td style='color:black;background-color:#c0bd64;text-align:right;'>0.4870</td></tr>\n",
       "<tr><th style='border:1px solid black;color:black;background-color:#BBBBBB'><center>1</center></th><td style='color:black;background-color:#acd164;text-align:right;'>0.6460</td><td style='color:black;background-color:#d1ac64;text-align:right;'>0.3540</td></tr>\n",
       "</table>"
      ],
      "text/plain": [
       "(pyAgrum.Potential<double>@000001CCEE2C3080) \n",
       "      ||  y                |\n",
       "x     ||0        |1        |\n",
       "------||---------|---------|\n",
       "0     || 0.5130  | 0.4870  |\n",
       "1     || 0.6460  | 0.3540  |"
      ]
     },
     "execution_count": 3,
     "metadata": {},
     "output_type": "execute_result"
    }
   ],
   "source": [
    "(((bn.cpt(\"x\") * bn.cpt(\"y\")).margSumOut([\"x\"]) * bn.cpt(\"w\") * bn.cpt(\"z\")).margSumOut([\"z\", \"w\"])).putFirst(\"y\")"
   ]
  },
  {
   "cell_type": "code",
   "execution_count": 4,
   "metadata": {
    "ExecuteTime": {
     "end_time": "2019-03-30T09:47:32.332589Z",
     "start_time": "2019-03-30T09:47:30.307406Z"
    },
    "execution": {
     "iopub.execute_input": "2021-12-06T01:29:08.672233Z",
     "iopub.status.busy": "2021-12-06T01:29:08.671233Z",
     "iopub.status.idle": "2021-12-06T01:29:08.856228Z",
     "shell.execute_reply": "2021-12-06T01:29:08.856228Z",
     "shell.execute_reply.started": "2021-12-06T01:29:08.672233Z"
    }
   },
   "outputs": [
    {
     "data": {
      "text/html": [
       "<table style=\"border-style: hidden; border-collapse: collapse;\" width=\"100%\"><tr><td style=\"border-top:hidden;border-bottom:hidden;\"><div align=\"center\" style=\"\"><svg xmlns=\"http://www.w3.org/2000/svg\" xmlns:xlink=\"http://www.w3.org/1999/xlink\" width=\"227pt\" height=\"353pt\" viewBox=\"0.00 0.00 227.00 352.57\">\n",
       "<g id=\"graph0\" class=\"graph\" transform=\"scale(1 1) rotate(0) translate(4 348.57)\">\n",
       "<title>G</title>\n",
       "<!-- L1 -->\n",
       "<g id=\"node1\" class=\"node\">\n",
       "<title>L1</title>\n",
       "<ellipse fill=\"#404040\" stroke=\"#4a4a4a\" cx=\"88\" cy=\"-316.28\" rx=\"1.8\" ry=\"1.8\"/>\n",
       "</g>\n",
       "<!-- Z1 -->\n",
       "<g id=\"node5\" class=\"node\">\n",
       "<title>Z1</title>\n",
       "<ellipse fill=\"#404040\" stroke=\"#4a4a4a\" cx=\"70\" cy=\"-234\" rx=\"27\" ry=\"18\"/>\n",
       "<text text-anchor=\"middle\" x=\"70\" y=\"-230.3\" font-family=\"Times New Roman,serif\" font-size=\"14.00\" fill=\"white\">Z1</text>\n",
       "</g>\n",
       "<!-- L1&#45;&gt;Z1 -->\n",
       "<g id=\"edge4\" class=\"edge\">\n",
       "<title>L1-&gt;Z1</title>\n",
       "<path fill=\"none\" stroke=\"#4a4a4a\" stroke-dasharray=\"5,2\" d=\"M87.8,-314.38C86.64,-309.22 80.75,-282.95 76.06,-262.02\"/>\n",
       "<polygon fill=\"#4a4a4a\" stroke=\"#4a4a4a\" points=\"79.41,-260.99 73.81,-252 72.58,-262.53 79.41,-260.99\"/>\n",
       "</g>\n",
       "<!-- X -->\n",
       "<g id=\"node6\" class=\"node\">\n",
       "<title>X</title>\n",
       "<ellipse fill=\"#404040\" stroke=\"#4a4a4a\" cx=\"82\" cy=\"-162\" rx=\"27\" ry=\"18\"/>\n",
       "<text text-anchor=\"middle\" x=\"82\" y=\"-158.3\" font-family=\"Times New Roman,serif\" font-size=\"14.00\" fill=\"white\">X</text>\n",
       "</g>\n",
       "<!-- L1&#45;&gt;X -->\n",
       "<g id=\"edge10\" class=\"edge\">\n",
       "<title>L1-&gt;X</title>\n",
       "<path fill=\"none\" stroke=\"#4a4a4a\" stroke-dasharray=\"5,2\" d=\"M88.47,-314.3C92.07,-306.69 114.72,-256.41 106,-216 103.96,-206.53 100.08,-196.72 96.02,-188.15\"/>\n",
       "<polygon fill=\"#4a4a4a\" stroke=\"#4a4a4a\" points=\"99.08,-186.44 91.46,-179.08 92.83,-189.59 99.08,-186.44\"/>\n",
       "</g>\n",
       "<!-- L2 -->\n",
       "<g id=\"node2\" class=\"node\">\n",
       "<title>L2</title>\n",
       "<ellipse fill=\"#404040\" stroke=\"#4a4a4a\" cx=\"145\" cy=\"-316.28\" rx=\"1.8\" ry=\"1.8\"/>\n",
       "</g>\n",
       "<!-- L2&#45;&gt;Z1 -->\n",
       "<g id=\"edge7\" class=\"edge\">\n",
       "<title>L2-&gt;Z1</title>\n",
       "<path fill=\"none\" stroke=\"#4a4a4a\" stroke-dasharray=\"5,2\" d=\"M144.16,-314.38C138.97,-308.83 110.91,-278.79 90.84,-257.31\"/>\n",
       "<polygon fill=\"#4a4a4a\" stroke=\"#4a4a4a\" points=\"93.25,-254.76 83.87,-249.84 88.13,-259.54 93.25,-254.76\"/>\n",
       "</g>\n",
       "<!-- Z2 -->\n",
       "<g id=\"node7\" class=\"node\">\n",
       "<title>Z2</title>\n",
       "<ellipse fill=\"#404040\" stroke=\"#4a4a4a\" cx=\"82\" cy=\"-90\" rx=\"27\" ry=\"18\"/>\n",
       "<text text-anchor=\"middle\" x=\"82\" y=\"-86.3\" font-family=\"Times New Roman,serif\" font-size=\"14.00\" fill=\"white\">Z2</text>\n",
       "</g>\n",
       "<!-- L2&#45;&gt;Z2 -->\n",
       "<g id=\"edge11\" class=\"edge\">\n",
       "<title>L2-&gt;Z2</title>\n",
       "<path fill=\"none\" stroke=\"#4a4a4a\" stroke-dasharray=\"5,2\" d=\"M145.01,-314.15C145.05,-302.94 144.56,-211.19 118,-144 113.89,-133.6 107.46,-123.2 101.16,-114.4\"/>\n",
       "<polygon fill=\"#4a4a4a\" stroke=\"#4a4a4a\" points=\"103.8,-112.09 95,-106.19 98.21,-116.29 103.8,-112.09\"/>\n",
       "</g>\n",
       "<!-- L3 -->\n",
       "<g id=\"node3\" class=\"node\">\n",
       "<title>L3</title>\n",
       "<ellipse fill=\"#404040\" stroke=\"#4a4a4a\" cx=\"39\" cy=\"-316.28\" rx=\"1.8\" ry=\"1.8\"/>\n",
       "</g>\n",
       "<!-- L3&#45;&gt;Z1 -->\n",
       "<g id=\"edge8\" class=\"edge\">\n",
       "<title>L3-&gt;Z1</title>\n",
       "<path fill=\"none\" stroke=\"#4a4a4a\" stroke-dasharray=\"5,2\" d=\"M39.35,-314.38C41.37,-309.15 51.79,-282.16 59.93,-261.09\"/>\n",
       "<polygon fill=\"#4a4a4a\" stroke=\"#4a4a4a\" points=\"63.24,-262.22 63.58,-251.63 56.71,-259.7 63.24,-262.22\"/>\n",
       "</g>\n",
       "<!-- Y -->\n",
       "<g id=\"node8\" class=\"node\">\n",
       "<title>Y</title>\n",
       "<ellipse fill=\"#404040\" stroke=\"#4a4a4a\" cx=\"27\" cy=\"-18\" rx=\"27\" ry=\"18\"/>\n",
       "<text text-anchor=\"middle\" x=\"27\" y=\"-14.3\" font-family=\"Times New Roman,serif\" font-size=\"14.00\" fill=\"white\">Y</text>\n",
       "</g>\n",
       "<!-- L3&#45;&gt;Y -->\n",
       "<g id=\"edge9\" class=\"edge\">\n",
       "<title>L3-&gt;Y</title>\n",
       "<path fill=\"none\" stroke=\"#4a4a4a\" stroke-dasharray=\"5,2\" d=\"M38.48,-314.44C35.22,-309.07 17.55,-279.15 12,-252 -3.04,-178.44 11.54,-89.35 20.75,-45.71\"/>\n",
       "<polygon fill=\"#4a4a4a\" stroke=\"#4a4a4a\" points=\"24.18,-46.39 22.9,-35.88 17.34,-44.9 24.18,-46.39\"/>\n",
       "</g>\n",
       "<!-- L4 -->\n",
       "<g id=\"node4\" class=\"node\">\n",
       "<title>L4</title>\n",
       "<ellipse fill=\"#404040\" stroke=\"#4a4a4a\" cx=\"23\" cy=\"-234\" rx=\"1.8\" ry=\"1.8\"/>\n",
       "</g>\n",
       "<!-- L4&#45;&gt;X -->\n",
       "<g id=\"edge3\" class=\"edge\">\n",
       "<title>L4-&gt;X</title>\n",
       "<path fill=\"none\" stroke=\"#4a4a4a\" stroke-dasharray=\"5,2\" d=\"M23.55,-232.04C25.07,-229.4 29.55,-221.8 34,-216 42.15,-205.39 51.95,-194.31 60.57,-185.05\"/>\n",
       "<polygon fill=\"#4a4a4a\" stroke=\"#4a4a4a\" points=\"63.14,-187.42 67.46,-177.74 58.05,-182.61 63.14,-187.42\"/>\n",
       "</g>\n",
       "<!-- L4&#45;&gt;Y -->\n",
       "<g id=\"edge5\" class=\"edge\">\n",
       "<title>L4-&gt;Y</title>\n",
       "<path fill=\"none\" stroke=\"#4a4a4a\" stroke-dasharray=\"5,2\" d=\"M23.02,-232.05C23.24,-220.2 25.46,-101.13 26.49,-46.33\"/>\n",
       "<polygon fill=\"#4a4a4a\" stroke=\"#4a4a4a\" points=\"29.99,-46.35 26.68,-36.28 22.99,-46.22 29.99,-46.35\"/>\n",
       "</g>\n",
       "<!-- Z1&#45;&gt;X -->\n",
       "<g id=\"edge1\" class=\"edge\">\n",
       "<title>Z1-&gt;X</title>\n",
       "<path fill=\"none\" stroke=\"#4a4a4a\" d=\"M71.92,-215.89C73.24,-208.18 74.84,-198.86 76.32,-190.2\"/>\n",
       "<path fill=\"none\" stroke=\"#4a4a4a\" d=\"M73.89,-216.22C75.21,-208.51 76.81,-199.2 78.29,-190.53\"/>\n",
       "<polygon fill=\"#4a4a4a\" stroke=\"#4a4a4a\" points=\"80.8,-190.72 79.04,-180.28 73.9,-189.54 80.8,-190.72\"/>\n",
       "</g>\n",
       "<!-- X&#45;&gt;Z2 -->\n",
       "<g id=\"edge2\" class=\"edge\">\n",
       "<title>X-&gt;Z2</title>\n",
       "<path fill=\"none\" stroke=\"#4a4a4a\" d=\"M81,-143.7C81,-135.98 81,-126.71 81,-118.11\"/>\n",
       "<path fill=\"none\" stroke=\"#4a4a4a\" d=\"M83,-143.7C83,-135.98 83,-126.71 83,-118.11\"/>\n",
       "<polygon fill=\"#4a4a4a\" stroke=\"#4a4a4a\" points=\"85.5,-118.1 82,-108.1 78.5,-118.1 85.5,-118.1\"/>\n",
       "</g>\n",
       "<!-- Z2&#45;&gt;Y -->\n",
       "<g id=\"edge6\" class=\"edge\">\n",
       "<title>Z2-&gt;Y</title>\n",
       "<path fill=\"none\" stroke=\"#4a4a4a\" d=\"M69.28,-74.43C62,-65.16 52.55,-53.14 44.36,-42.71\"/>\n",
       "<path fill=\"none\" stroke=\"#4a4a4a\" d=\"M70.85,-73.19C63.57,-63.93 54.12,-51.9 45.93,-41.48\"/>\n",
       "<polygon fill=\"#4a4a4a\" stroke=\"#4a4a4a\" points=\"47.84,-39.86 38.91,-34.16 42.34,-44.18 47.84,-39.86\"/>\n",
       "</g>\n",
       "<!-- \\n\\n -->\n",
       "<g id=\"node9\" class=\"node\">\n",
       "<title>\\n\\n</title>\n",
       "<ellipse fill=\"#404040\" stroke=\"#4a4a4a\" cx=\"192\" cy=\"-316.28\" rx=\"27\" ry=\"28.07\"/>\n",
       "</g>\n",
       "</g>\n",
       "</svg></div></td><td style=\"border-top:hidden;border-bottom:hidden;\"><div align=\"center\" style=\"\">?</div></td><td style=\"border-top:hidden;border-bottom:hidden;\"><div align=\"center\" style=\"\">No result</div></td></tr><tr><td style=\"border-top:hidden;border-bottom:hidden;\"><div align=\"center\"><small>Causal Model</small></div></td><td style=\"border-top:hidden;border-bottom:hidden;\"><div align=\"center\"><small>Explanation : Hedge Error: G={'X', 'Z1', 'Z2'}, G[S]={'Z2'}</small></div></td><td style=\"border-top:hidden;border-bottom:hidden;\"><div align=\"center\"><small>Impact : $?$</small></div></td></tr></table>"
      ],
      "text/plain": [
       "<IPython.core.display.HTML object>"
      ]
     },
     "metadata": {},
     "output_type": "display_data"
    }
   ],
   "source": [
    "bn = gum.fastBN(\"Z1->X->Z2->Y\")\n",
    "d=csl.CausalModel(bn,[(\"L1\",[\"Z1\",\"X\"]),\n",
    "                      (\"L2\",[\"Z1\",\"Z2\"]),\n",
    "                      (\"L3\",[\"Z1\",\"Y\"]),\n",
    "                      (\"L4\",[\"Y\",\"X\"])],\n",
    "                  True)\n",
    "cslnb.showCausalImpact(d,\"Y\",\"X\",values={\"X\":1})"
   ]
  },
  {
   "cell_type": "markdown",
   "metadata": {},
   "source": [
    "# FRONT DOOR EXAMPLE"
   ]
  },
  {
   "cell_type": "code",
   "execution_count": 5,
   "metadata": {
    "ExecuteTime": {
     "end_time": "2019-03-30T09:47:34.259441Z",
     "start_time": "2019-03-30T09:47:32.335346Z"
    },
    "execution": {
     "iopub.execute_input": "2021-12-06T01:29:08.858232Z",
     "iopub.status.busy": "2021-12-06T01:29:08.858232Z",
     "iopub.status.idle": "2021-12-06T01:29:08.982228Z",
     "shell.execute_reply": "2021-12-06T01:29:08.982228Z",
     "shell.execute_reply.started": "2021-12-06T01:29:08.858232Z"
    }
   },
   "outputs": [
    {
     "data": {
      "image/svg+xml": [
       "<svg xmlns=\"http://www.w3.org/2000/svg\" xmlns:xlink=\"http://www.w3.org/1999/xlink\" width=\"160pt\" height=\"281pt\" viewBox=\"0.00 0.00 159.90 280.57\">\n",
       "<g id=\"graph0\" class=\"graph\" transform=\"scale(1 1) rotate(0) translate(4 276.57)\">\n",
       "<title>G</title>\n",
       "<!-- Genotype -->\n",
       "<g id=\"node1\" class=\"node\">\n",
       "<title>Genotype</title>\n",
       "<ellipse fill=\"#404040\" stroke=\"#4a4a4a\" cx=\"77.9\" cy=\"-244.28\" rx=\"1.8\" ry=\"1.8\"/>\n",
       "</g>\n",
       "<!-- Smoking -->\n",
       "<g id=\"node2\" class=\"node\">\n",
       "<title>Smoking</title>\n",
       "<ellipse fill=\"#404040\" stroke=\"#4a4a4a\" cx=\"42.9\" cy=\"-162\" rx=\"42.79\" ry=\"18\"/>\n",
       "<text text-anchor=\"middle\" x=\"42.9\" y=\"-158.3\" font-family=\"Times New Roman,serif\" font-size=\"14.00\" fill=\"white\">Smoking</text>\n",
       "</g>\n",
       "<!-- Genotype&#45;&gt;Smoking -->\n",
       "<g id=\"edge4\" class=\"edge\">\n",
       "<title>Genotype-&gt;Smoking</title>\n",
       "<path fill=\"none\" stroke=\"#4a4a4a\" stroke-dasharray=\"5,2\" d=\"M77.5,-242.38C75.23,-237.18 63.59,-210.47 54.43,-189.45\"/>\n",
       "<polygon fill=\"#4a4a4a\" stroke=\"#4a4a4a\" points=\"57.51,-187.77 50.31,-180 51.1,-190.57 57.51,-187.77\"/>\n",
       "</g>\n",
       "<!-- Cancer -->\n",
       "<g id=\"node3\" class=\"node\">\n",
       "<title>Cancer</title>\n",
       "<ellipse fill=\"#404040\" stroke=\"#4a4a4a\" cx=\"77.9\" cy=\"-18\" rx=\"36.29\" ry=\"18\"/>\n",
       "<text text-anchor=\"middle\" x=\"77.9\" y=\"-14.3\" font-family=\"Times New Roman,serif\" font-size=\"14.00\" fill=\"white\">Cancer</text>\n",
       "</g>\n",
       "<!-- Genotype&#45;&gt;Cancer -->\n",
       "<g id=\"edge1\" class=\"edge\">\n",
       "<title>Genotype-&gt;Cancer</title>\n",
       "<path fill=\"none\" stroke=\"#4a4a4a\" stroke-dasharray=\"5,2\" d=\"M78.23,-242.41C80.29,-236.88 91.44,-206.17 94.9,-180 101.11,-132.93 91.72,-77.89 84.62,-45.88\"/>\n",
       "<polygon fill=\"#4a4a4a\" stroke=\"#4a4a4a\" points=\"87.98,-44.91 82.32,-35.96 81.16,-46.49 87.98,-44.91\"/>\n",
       "</g>\n",
       "<!-- Tar -->\n",
       "<g id=\"node4\" class=\"node\">\n",
       "<title>Tar</title>\n",
       "<ellipse fill=\"#404040\" stroke=\"#4a4a4a\" cx=\"50.9\" cy=\"-90\" rx=\"27\" ry=\"18\"/>\n",
       "<text text-anchor=\"middle\" x=\"50.9\" y=\"-86.3\" font-family=\"Times New Roman,serif\" font-size=\"14.00\" fill=\"white\">Tar</text>\n",
       "</g>\n",
       "<!-- Smoking&#45;&gt;Tar -->\n",
       "<g id=\"edge2\" class=\"edge\">\n",
       "<title>Smoking-&gt;Tar</title>\n",
       "<path fill=\"none\" stroke=\"#4a4a4a\" d=\"M43.88,-143.58C44.76,-135.87 45.82,-126.6 46.8,-118\"/>\n",
       "<path fill=\"none\" stroke=\"#4a4a4a\" d=\"M45.87,-143.81C46.75,-136.1 47.81,-126.83 48.79,-118.23\"/>\n",
       "<polygon fill=\"#4a4a4a\" stroke=\"#4a4a4a\" points=\"51.28,-118.44 48.94,-108.1 44.33,-117.64 51.28,-118.44\"/>\n",
       "</g>\n",
       "<!-- Tar&#45;&gt;Cancer -->\n",
       "<g id=\"edge3\" class=\"edge\">\n",
       "<title>Tar-&gt;Cancer</title>\n",
       "<path fill=\"none\" stroke=\"#4a4a4a\" d=\"M56.36,-72.05C59.48,-63.98 63.3,-54.07 66.8,-44.99\"/>\n",
       "<path fill=\"none\" stroke=\"#4a4a4a\" d=\"M58.23,-72.77C61.34,-64.7 65.16,-54.79 68.66,-45.71\"/>\n",
       "<polygon fill=\"#4a4a4a\" stroke=\"#4a4a4a\" points=\"71.02,-46.55 71.36,-35.96 64.49,-44.03 71.02,-46.55\"/>\n",
       "</g>\n",
       "<!-- \\n\\n -->\n",
       "<g id=\"node5\" class=\"node\">\n",
       "<title>\\n\\n</title>\n",
       "<ellipse fill=\"#404040\" stroke=\"#4a4a4a\" cx=\"124.9\" cy=\"-244.28\" rx=\"27\" ry=\"28.07\"/>\n",
       "</g>\n",
       "</g>\n",
       "</svg>"
      ],
      "text/plain": [
       "<IPython.core.display.SVG object>"
      ]
     },
     "metadata": {},
     "output_type": "display_data"
    }
   ],
   "source": [
    "modele4 = gum.BayesNet()\n",
    "modele4.add(gum.LabelizedVariable(\"Smoking\"))\n",
    "modele4.add(gum.LabelizedVariable(\"Cancer\"))\n",
    "modele4.add(gum.LabelizedVariable(\"Tar\"))\n",
    "\n",
    "modele4.addArc(0,2)\n",
    "modele4.addArc(2,1)\n",
    "modele4.addArc(0,1)\n",
    "\n",
    "#Smoking\n",
    "modele4.cpt(0)[:]=[0.5, 0.5]\n",
    "\n",
    "#Tar\n",
    "modele4.cpt(2)[{\"Smoking\":0}] = [0.4, 0.6]\n",
    "modele4.cpt(2)[{\"Smoking\":1}] = [0.3, 0.6]\n",
    "\n",
    "#Cancer\n",
    "modele4.cpt(1)[{'Smoking':0,'Tar':0}]=[0.1,0.9] #No Drug, Male -> healed in 0.8 of cases\n",
    "modele4.cpt(1)[{'Smoking':0,'Tar':1}]=[0.15,0.85] #No Drug, Female -> healed in 0.4 of cases\n",
    "modele4.cpt(1)[{'Smoking':1,'Tar':0}]=[0.2,0.8] #Drug, Male -> healed 0.7 of cases \n",
    "modele4.cpt(1)[{'Smoking':1,'Tar':1}]=[0.25,0.75]\n",
    "\n",
    "d4 = csl.CausalModel(modele4, [(\"Genotype\", [\"Smoking\",\"Cancer\"])],False)\n",
    "cslnb.showCausalModel(d4)"
   ]
  },
  {
   "cell_type": "code",
   "execution_count": 6,
   "metadata": {
    "ExecuteTime": {
     "end_time": "2019-03-30T09:47:34.266672Z",
     "start_time": "2019-03-30T09:47:34.261668Z"
    },
    "execution": {
     "iopub.execute_input": "2021-12-06T01:29:08.983236Z",
     "iopub.status.busy": "2021-12-06T01:29:08.983236Z",
     "iopub.status.idle": "2021-12-06T01:29:08.999228Z",
     "shell.execute_reply": "2021-12-06T01:29:08.998228Z",
     "shell.execute_reply.started": "2021-12-06T01:29:08.983236Z"
    }
   },
   "outputs": [],
   "source": [
    "try: \n",
    "    a = csl.doCalculusWithObservation (d4,\"Cancer\", {\"Smoking\"})\n",
    "except csl.HedgeException as h: \n",
    "    print (h.message)"
   ]
  },
  {
   "cell_type": "code",
   "execution_count": 7,
   "metadata": {
    "ExecuteTime": {
     "end_time": "2019-03-30T09:47:34.278604Z",
     "start_time": "2019-03-30T09:47:34.269804Z"
    },
    "execution": {
     "iopub.execute_input": "2021-12-06T01:29:09.000233Z",
     "iopub.status.busy": "2021-12-06T01:29:09.000233Z",
     "iopub.status.idle": "2021-12-06T01:29:09.015234Z",
     "shell.execute_reply": "2021-12-06T01:29:09.014230Z",
     "shell.execute_reply.started": "2021-12-06T01:29:09.000233Z"
    }
   },
   "outputs": [
    {
     "data": {
      "text/latex": [
       "$\\displaystyle P( Cancer \\mid \\hookrightarrow\\mkern-6.5muSmoking) = \\sum_{Tar}{P\\left(Tar\\mid Smoking\\right) \\cdot \\left(\\sum_{Smoking'}{P\\left(Smoking'\\right) \\cdot P\\left(Cancer\\mid Smoking',Tar\\right)}\\right)}$"
      ],
      "text/plain": [
       "<IPython.core.display.Math object>"
      ]
     },
     "metadata": {},
     "output_type": "display_data"
    }
   ],
   "source": [
    "display(Math(a.toLatex()))"
   ]
  },
  {
   "cell_type": "code",
   "execution_count": 8,
   "metadata": {
    "ExecuteTime": {
     "end_time": "2019-03-30T09:47:34.286144Z",
     "start_time": "2019-03-30T09:47:34.281296Z"
    },
    "execution": {
     "iopub.execute_input": "2021-12-06T01:29:09.019231Z",
     "iopub.status.busy": "2021-12-06T01:29:09.018231Z",
     "iopub.status.idle": "2021-12-06T01:29:09.031229Z",
     "shell.execute_reply": "2021-12-06T01:29:09.030230Z",
     "shell.execute_reply.started": "2021-12-06T01:29:09.019231Z"
    }
   },
   "outputs": [
    {
     "name": "stdout",
     "output_type": "stream",
     "text": [
      "\n",
      "      ||  Cancer           |\n",
      "Smokin||0        |1        |\n",
      "------||---------|---------|\n",
      "0     || 0.1774  | 0.8226  |\n",
      "1     || 0.1626  | 0.7374  |\n",
      "\n"
     ]
    }
   ],
   "source": [
    "try: \n",
    "    adjj = a.eval()\n",
    "except csl.UnidentifiableException as u: \n",
    "    print (u.message)\n",
    "    \n",
    "print (adjj)\n"
   ]
  },
  {
   "cell_type": "code",
   "execution_count": 9,
   "metadata": {
    "ExecuteTime": {
     "end_time": "2019-03-30T09:47:34.295089Z",
     "start_time": "2019-03-30T09:47:34.288571Z"
    },
    "execution": {
     "iopub.execute_input": "2021-12-06T01:29:09.032233Z",
     "iopub.status.busy": "2021-12-06T01:29:09.032233Z",
     "iopub.status.idle": "2021-12-06T01:29:09.047229Z",
     "shell.execute_reply": "2021-12-06T01:29:09.046234Z",
     "shell.execute_reply.started": "2021-12-06T01:29:09.032233Z"
    }
   },
   "outputs": [],
   "source": [
    "formula, adj, exp = csl.causalImpact(d4, \"Cancer\", \"Smoking\",values={\"Smoking\":0})"
   ]
  },
  {
   "cell_type": "code",
   "execution_count": 10,
   "metadata": {
    "ExecuteTime": {
     "end_time": "2019-03-30T09:47:34.305804Z",
     "start_time": "2019-03-30T09:47:34.297727Z"
    },
    "execution": {
     "iopub.execute_input": "2021-12-06T01:29:09.049229Z",
     "iopub.status.busy": "2021-12-06T01:29:09.049229Z",
     "iopub.status.idle": "2021-12-06T01:29:09.064230Z",
     "shell.execute_reply": "2021-12-06T01:29:09.062230Z",
     "shell.execute_reply.started": "2021-12-06T01:29:09.049229Z"
    }
   },
   "outputs": [
    {
     "data": {
      "text/latex": [
       "$\\displaystyle P( Cancer \\mid \\hookrightarrow\\mkern-6.5muSmoking) = \\sum_{Tar}{P\\left(Tar\\mid Smoking\\right) \\cdot \\left(\\sum_{Smoking'}{P\\left(Cancer\\mid Smoking',Tar\\right) \\cdot P\\left(Smoking'\\right)}\\right)}$"
      ],
      "text/plain": [
       "<IPython.core.display.Math object>"
      ]
     },
     "metadata": {},
     "output_type": "display_data"
    },
    {
     "data": {
      "text/html": [
       "<table style=\"border:1px solid black;\">\n",
       "<tr style='border:1px solid black;color:black;background-color:#808080'>\n",
       "      <th colspan='2'><center>Cancer</center></th></tr>\n",
       "<tr><th style='border:1px solid black;border-bottom-style: double;color:black;background-color:#BBBBBB'>\n",
       "      <center>0</center></th><th style='border:1px solid black;border-bottom-style: double;color:black;background-color:#BBBBBB'>\n",
       "      <center>1</center></th></tr>\n",
       "<tr><td style='color:black;background-color:#e89564;text-align:right;'>0.1774</td><td style='color:black;background-color:#95e864;text-align:right;'>0.8226</td></tr>\n",
       "</table>"
      ],
      "text/plain": [
       "(pyAgrum.Potential<double>@000001CC8EDB5110) \n",
       "  Cancer           |\n",
       "0        |1        |\n",
       "---------|---------|\n",
       " 0.1774  | 0.8226  |"
      ]
     },
     "execution_count": 10,
     "metadata": {},
     "output_type": "execute_result"
    }
   ],
   "source": [
    "display(Math(formula.toLatex()))\n",
    "adj"
   ]
  },
  {
   "cell_type": "markdown",
   "metadata": {},
   "source": [
    "  # Last example from R "
   ]
  },
  {
   "cell_type": "code",
   "execution_count": 11,
   "metadata": {
    "ExecuteTime": {
     "end_time": "2019-03-30T09:47:36.642701Z",
     "start_time": "2019-03-30T09:47:34.308047Z"
    },
    "execution": {
     "iopub.execute_input": "2021-12-06T01:29:09.066233Z",
     "iopub.status.busy": "2021-12-06T01:29:09.066233Z",
     "iopub.status.idle": "2021-12-06T01:29:09.247232Z",
     "shell.execute_reply": "2021-12-06T01:29:09.246228Z",
     "shell.execute_reply.started": "2021-12-06T01:29:09.066233Z"
    }
   },
   "outputs": [
    {
     "data": {
      "image/svg+xml": [
       "<svg xmlns=\"http://www.w3.org/2000/svg\" xmlns:xlink=\"http://www.w3.org/1999/xlink\" width=\"217pt\" height=\"353pt\" viewBox=\"0.00 0.00 216.56 352.57\">\n",
       "<g id=\"graph0\" class=\"graph\" transform=\"scale(1 1) rotate(0) translate(4 348.57)\">\n",
       "<title>G</title>\n",
       "<!-- X&#45;Z2 -->\n",
       "<g id=\"node1\" class=\"node\">\n",
       "<title>X-Z2</title>\n",
       "<ellipse fill=\"#404040\" stroke=\"#4a4a4a\" cx=\"89.56\" cy=\"-316.28\" rx=\"1.8\" ry=\"1.8\"/>\n",
       "</g>\n",
       "<!-- z2 -->\n",
       "<g id=\"node5\" class=\"node\">\n",
       "<title>z2</title>\n",
       "<ellipse fill=\"#404040\" stroke=\"#4a4a4a\" cx=\"63.56\" cy=\"-234\" rx=\"27\" ry=\"18\"/>\n",
       "<text text-anchor=\"middle\" x=\"63.56\" y=\"-230.3\" font-family=\"Times New Roman,serif\" font-size=\"14.00\" fill=\"white\">z2</text>\n",
       "</g>\n",
       "<!-- X&#45;Z2&#45;&gt;z2 -->\n",
       "<g id=\"edge14\" class=\"edge\">\n",
       "<title>X-Z2-&gt;z2</title>\n",
       "<path fill=\"none\" stroke=\"#4a4a4a\" stroke-dasharray=\"5,2\" d=\"M89.27,-314.38C87.59,-309.2 79.02,-282.71 72.22,-261.74\"/>\n",
       "<polygon fill=\"#4a4a4a\" stroke=\"#4a4a4a\" points=\"75.48,-260.44 69.07,-252 68.82,-262.59 75.48,-260.44\"/>\n",
       "</g>\n",
       "<!-- x -->\n",
       "<g id=\"node6\" class=\"node\">\n",
       "<title>x</title>\n",
       "<ellipse fill=\"#404040\" stroke=\"#4a4a4a\" cx=\"109.56\" cy=\"-162\" rx=\"27\" ry=\"18\"/>\n",
       "<text text-anchor=\"middle\" x=\"109.56\" y=\"-158.3\" font-family=\"Times New Roman,serif\" font-size=\"14.00\" fill=\"white\">x</text>\n",
       "</g>\n",
       "<!-- X&#45;Z2&#45;&gt;x -->\n",
       "<g id=\"edge7\" class=\"edge\">\n",
       "<title>X-Z2-&gt;x</title>\n",
       "<path fill=\"none\" stroke=\"#4a4a4a\" stroke-dasharray=\"5,2\" d=\"M89.72,-314.39C90.7,-308.77 96.11,-277.57 99.56,-252 102.36,-231.33 104.97,-207.88 106.82,-190.24\"/>\n",
       "<polygon fill=\"#4a4a4a\" stroke=\"#4a4a4a\" points=\"110.33,-190.4 107.87,-180.09 103.36,-189.68 110.33,-190.4\"/>\n",
       "</g>\n",
       "<!-- X&#45;Z3 -->\n",
       "<g id=\"node2\" class=\"node\">\n",
       "<title>X-Z3</title>\n",
       "<ellipse fill=\"#404040\" stroke=\"#4a4a4a\" cx=\"164.56\" cy=\"-234\" rx=\"1.8\" ry=\"1.8\"/>\n",
       "</g>\n",
       "<!-- X&#45;Z3&#45;&gt;x -->\n",
       "<g id=\"edge6\" class=\"edge\">\n",
       "<title>X-Z3-&gt;x</title>\n",
       "<path fill=\"none\" stroke=\"#4a4a4a\" stroke-dasharray=\"5,2\" d=\"M163.95,-232.21C160.41,-227.71 142.34,-204.71 127.99,-186.45\"/>\n",
       "<polygon fill=\"#4a4a4a\" stroke=\"#4a4a4a\" points=\"130.65,-184.17 121.72,-178.47 125.15,-188.5 130.65,-184.17\"/>\n",
       "</g>\n",
       "<!-- z3 -->\n",
       "<g id=\"node9\" class=\"node\">\n",
       "<title>z3</title>\n",
       "<ellipse fill=\"#404040\" stroke=\"#4a4a4a\" cx=\"181.56\" cy=\"-162\" rx=\"27\" ry=\"18\"/>\n",
       "<text text-anchor=\"middle\" x=\"181.56\" y=\"-158.3\" font-family=\"Times New Roman,serif\" font-size=\"14.00\" fill=\"white\">z3</text>\n",
       "</g>\n",
       "<!-- X&#45;Z3&#45;&gt;z3 -->\n",
       "<g id=\"edge8\" class=\"edge\">\n",
       "<title>X-Z3-&gt;z3</title>\n",
       "<path fill=\"none\" stroke=\"#4a4a4a\" stroke-dasharray=\"5,2\" d=\"M164.81,-232.01C165.94,-227.34 170.87,-207.03 175.1,-189.64\"/>\n",
       "<polygon fill=\"#4a4a4a\" stroke=\"#4a4a4a\" points=\"178.51,-190.42 177.47,-179.88 171.7,-188.77 178.51,-190.42\"/>\n",
       "</g>\n",
       "<!-- X&#45;Y -->\n",
       "<g id=\"node3\" class=\"node\">\n",
       "<title>X-Y</title>\n",
       "<ellipse fill=\"#404040\" stroke=\"#4a4a4a\" cx=\"16.56\" cy=\"-234\" rx=\"1.8\" ry=\"1.8\"/>\n",
       "</g>\n",
       "<!-- X&#45;Y&#45;&gt;x -->\n",
       "<g id=\"edge3\" class=\"edge\">\n",
       "<title>X-Y-&gt;x</title>\n",
       "<path fill=\"none\" stroke=\"#4a4a4a\" stroke-dasharray=\"5,2\" d=\"M17.03,-231.98C18.36,-229.16 22.39,-221.17 27.56,-216 42.74,-200.83 62.95,-187.71 79.51,-178.31\"/>\n",
       "<polygon fill=\"#4a4a4a\" stroke=\"#4a4a4a\" points=\"81.21,-181.38 88.28,-173.49 77.83,-175.24 81.21,-181.38\"/>\n",
       "</g>\n",
       "<!-- y -->\n",
       "<g id=\"node8\" class=\"node\">\n",
       "<title>y</title>\n",
       "<ellipse fill=\"#404040\" stroke=\"#4a4a4a\" cx=\"43.56\" cy=\"-18\" rx=\"27\" ry=\"18\"/>\n",
       "<text text-anchor=\"middle\" x=\"43.56\" y=\"-14.3\" font-family=\"Times New Roman,serif\" font-size=\"14.00\" fill=\"white\">y</text>\n",
       "</g>\n",
       "<!-- X&#45;Y&#45;&gt;y -->\n",
       "<g id=\"edge9\" class=\"edge\">\n",
       "<title>X-Y-&gt;y</title>\n",
       "<path fill=\"none\" stroke=\"#4a4a4a\" stroke-dasharray=\"5,2\" d=\"M16.67,-231.98C17.74,-221.87 26.56,-138.95 35.56,-72 36.7,-63.57 38.04,-54.4 39.3,-46.1\"/>\n",
       "<polygon fill=\"#4a4a4a\" stroke=\"#4a4a4a\" points=\"42.77,-46.58 40.83,-36.17 35.85,-45.52 42.77,-46.58\"/>\n",
       "</g>\n",
       "<!-- Y&#45;Z2 -->\n",
       "<g id=\"node4\" class=\"node\">\n",
       "<title>Y-Z2</title>\n",
       "<ellipse fill=\"#404040\" stroke=\"#4a4a4a\" cx=\"36.56\" cy=\"-316.28\" rx=\"1.8\" ry=\"1.8\"/>\n",
       "</g>\n",
       "<!-- Y&#45;Z2&#45;&gt;z2 -->\n",
       "<g id=\"edge11\" class=\"edge\">\n",
       "<title>Y-Z2-&gt;z2</title>\n",
       "<path fill=\"none\" stroke=\"#4a4a4a\" stroke-dasharray=\"5,2\" d=\"M36.87,-314.38C38.62,-309.17 47.62,-282.41 54.69,-261.38\"/>\n",
       "<polygon fill=\"#4a4a4a\" stroke=\"#4a4a4a\" points=\"58.1,-262.23 57.97,-251.63 51.47,-260 58.1,-262.23\"/>\n",
       "</g>\n",
       "<!-- Y&#45;Z2&#45;&gt;y -->\n",
       "<g id=\"edge13\" class=\"edge\">\n",
       "<title>Y-Z2-&gt;y</title>\n",
       "<path fill=\"none\" stroke=\"#4a4a4a\" stroke-dasharray=\"5,2\" d=\"M35.97,-314.45C32.23,-309.16 11.97,-279.65 5.56,-252 -11.66,-177.7 16.24,-88.31 32.76,-45.02\"/>\n",
       "<polygon fill=\"#4a4a4a\" stroke=\"#4a4a4a\" points=\"36.09,-46.12 36.48,-35.53 29.57,-43.56 36.09,-46.12\"/>\n",
       "</g>\n",
       "<!-- z2&#45;&gt;x -->\n",
       "<g id=\"edge1\" class=\"edge\">\n",
       "<title>z2-&gt;x</title>\n",
       "<path fill=\"none\" stroke=\"#4a4a4a\" d=\"M73.17,-216.57C78.93,-207.8 86.21,-196.71 92.68,-186.87\"/>\n",
       "<path fill=\"none\" stroke=\"#4a4a4a\" d=\"M74.84,-217.67C80.6,-208.89 87.88,-197.81 94.36,-187.97\"/>\n",
       "<polygon fill=\"#4a4a4a\" stroke=\"#4a4a4a\" points=\"96.6,-189.1 99.17,-178.82 90.75,-185.26 96.6,-189.1\"/>\n",
       "</g>\n",
       "<!-- z1 -->\n",
       "<g id=\"node7\" class=\"node\">\n",
       "<title>z1</title>\n",
       "<ellipse fill=\"#404040\" stroke=\"#4a4a4a\" cx=\"71.56\" cy=\"-90\" rx=\"27\" ry=\"18\"/>\n",
       "<text text-anchor=\"middle\" x=\"71.56\" y=\"-86.3\" font-family=\"Times New Roman,serif\" font-size=\"14.00\" fill=\"white\">z1</text>\n",
       "</g>\n",
       "<!-- z2&#45;&gt;z1 -->\n",
       "<g id=\"edge12\" class=\"edge\">\n",
       "<title>z2-&gt;z1</title>\n",
       "<path fill=\"none\" stroke=\"#4a4a4a\" d=\"M63.53,-215.82C64.89,-191.61 67.4,-147.15 69.02,-118.34\"/>\n",
       "<path fill=\"none\" stroke=\"#4a4a4a\" d=\"M65.53,-215.93C66.89,-191.73 69.4,-147.27 71.02,-118.45\"/>\n",
       "<polygon fill=\"#4a4a4a\" stroke=\"#4a4a4a\" points=\"73.53,-118.37 70.6,-108.19 66.54,-117.98 73.53,-118.37\"/>\n",
       "</g>\n",
       "<!-- z2&#45;&gt;z3 -->\n",
       "<g id=\"edge4\" class=\"edge\">\n",
       "<title>z2-&gt;z3</title>\n",
       "<path fill=\"none\" stroke=\"#4a4a4a\" d=\"M82.54,-220.58C101.67,-209.23 131.06,-191.8 152.76,-178.92\"/>\n",
       "<path fill=\"none\" stroke=\"#4a4a4a\" d=\"M83.56,-222.3C102.69,-210.95 132.08,-193.52 153.78,-180.64\"/>\n",
       "<polygon fill=\"#4a4a4a\" stroke=\"#4a4a4a\" points=\"155.24,-182.69 162.05,-174.58 151.66,-176.67 155.24,-182.69\"/>\n",
       "</g>\n",
       "<!-- x&#45;&gt;z1 -->\n",
       "<g id=\"edge2\" class=\"edge\">\n",
       "<title>x-&gt;z1</title>\n",
       "<path fill=\"none\" stroke=\"#4a4a4a\" d=\"M99.87,-145.24C95.27,-136.76 89.53,-126.19 84.36,-116.67\"/>\n",
       "<path fill=\"none\" stroke=\"#4a4a4a\" d=\"M101.63,-144.29C97.03,-135.81 91.29,-125.24 86.12,-115.72\"/>\n",
       "<polygon fill=\"#4a4a4a\" stroke=\"#4a4a4a\" points=\"88.18,-114.27 80.33,-107.15 82.03,-117.61 88.18,-114.27\"/>\n",
       "</g>\n",
       "<!-- z1&#45;&gt;y -->\n",
       "<g id=\"edge10\" class=\"edge\">\n",
       "<title>z1-&gt;y</title>\n",
       "<path fill=\"none\" stroke=\"#4a4a4a\" d=\"M64,-72.78C60.72,-64.59 56.69,-54.51 53.02,-45.33\"/>\n",
       "<path fill=\"none\" stroke=\"#4a4a4a\" d=\"M65.86,-72.04C62.58,-63.85 58.55,-53.77 54.88,-44.58\"/>\n",
       "<polygon fill=\"#4a4a4a\" stroke=\"#4a4a4a\" points=\"57.12,-43.45 50.15,-35.47 50.62,-46.05 57.12,-43.45\"/>\n",
       "</g>\n",
       "<!-- z3&#45;&gt;y -->\n",
       "<g id=\"edge5\" class=\"edge\">\n",
       "<title>z3-&gt;y</title>\n",
       "<path fill=\"none\" stroke=\"#4a4a4a\" d=\"M169.27,-146.07C155.37,-127.71 130.82,-96.61 106.86,-72.71 94.89,-60.76 80.38,-48.58 68.24,-38.95\"/>\n",
       "<path fill=\"none\" stroke=\"#4a4a4a\" d=\"M170.86,-144.86C156.94,-126.47 132.39,-95.37 108.27,-71.29 96.18,-59.23 81.67,-47.05 69.48,-37.38\"/>\n",
       "<polygon fill=\"#4a4a4a\" stroke=\"#4a4a4a\" points=\"70.91,-35.32 60.88,-31.92 66.6,-40.83 70.91,-35.32\"/>\n",
       "</g>\n",
       "<!-- \\n\\n -->\n",
       "<g id=\"node10\" class=\"node\">\n",
       "<title>\\n\\n</title>\n",
       "<ellipse fill=\"#404040\" stroke=\"#4a4a4a\" cx=\"136.56\" cy=\"-316.28\" rx=\"27\" ry=\"28.07\"/>\n",
       "</g>\n",
       "</g>\n",
       "</svg>"
      ],
      "text/plain": [
       "<IPython.core.display.SVG object>"
      ]
     },
     "metadata": {},
     "output_type": "display_data"
    }
   ],
   "source": [
    "m = gum.fastBN(\"z2->x->z1->y;z2->z1;z2->z3->y\")\n",
    "\n",
    "m.cpt(\"z2\") [:] = [0.5, 0.5]\n",
    "m.cpt(\"x\") [:] = [[0.4,0.6], #z2=0\n",
    "                  [0.4,0.6]] #z2=1\n",
    "m.cpt(\"z3\") [:] = [[0.3,0.7], #z2=0\n",
    "                   [0.3,0.7]] #z2=1\n",
    "m.cpt(\"z1\")[{\"z2\":0, \"x\":0}]= [0.2, 0.8]\n",
    "m.cpt(\"z1\")[{\"z2\":0, \"x\":1}]= [0.25, 0.75]\n",
    "m.cpt(\"z1\")[{\"z2\":1, \"x\":0}]= [0.1, 0.9]\n",
    "m.cpt(\"z1\")[{\"z2\":1, \"x\":1}]= [0.15, 0.85]\n",
    "\n",
    "m.cpt(\"y\")[{\"z1\":0,\"z3\":0}]= [0.5,0.5]\n",
    "m.cpt(\"y\")[{\"z1\":0,\"z3\":1}]= [0.45,0.55]\n",
    "m.cpt(\"y\")[{\"z1\":1,\"z3\":0}]= [0.4,0.6]\n",
    "m.cpt(\"y\")[{\"z1\":1,\"z3\":1}]= [0.35,0.65]\n",
    "\n",
    "\n",
    "d = csl.CausalModel(m, [(\"X-Z2\",[\"x\",\"z2\"]), \n",
    "                        (\"X-Z3\",[\"x\",\"z3\"]), \n",
    "                        (\"X-Y\",[\"x\",\"y\"]), \n",
    "                        (\"Y-Z2\",[\"y\",\"z2\"])],\n",
    "                    True)\n",
    "\n",
    "cslnb.showCausalModel(d)"
   ]
  },
  {
   "cell_type": "code",
   "execution_count": 12,
   "metadata": {
    "ExecuteTime": {
     "end_time": "2019-03-30T09:47:36.674695Z",
     "start_time": "2019-03-30T09:47:36.647288Z"
    },
    "execution": {
     "iopub.execute_input": "2021-12-06T01:29:09.252229Z",
     "iopub.status.busy": "2021-12-06T01:29:09.252229Z",
     "iopub.status.idle": "2021-12-06T01:29:09.277233Z",
     "shell.execute_reply": "2021-12-06T01:29:09.276230Z",
     "shell.execute_reply.started": "2021-12-06T01:29:09.252229Z"
    }
   },
   "outputs": [
    {
     "name": "stdout",
     "output_type": "stream",
     "text": [
      "Do-calculus computations\n"
     ]
    },
    {
     "data": {
      "text/latex": [
       "$\\displaystyle P( z2,z3,y,z1 \\mid \\hookrightarrow\\mkern-6.5mux) = P\\left(z3\\mid z2\\right) \\cdot P\\left(z1\\mid x,z2\\right) \\cdot P\\left(z2\\right) \\cdot  \\frac {\\sum_{x'}{P\\left(z2\\right) \\cdot P\\left(z3\\mid x',z2\\right) \\cdot P\\left(x'\\mid z2\\right) \\cdot P\\left(y\\mid x',z1,z2,z3\\right)}}{\\sum_{x',y'}{P\\left(z2\\right) \\cdot P\\left(z3\\mid x',z2\\right) \\cdot P\\left(x'\\mid z2\\right) \\cdot P\\left(y'\\mid x',z1,z2,z3\\right)}}$"
      ],
      "text/plain": [
       "<IPython.core.display.Math object>"
      ]
     },
     "metadata": {},
     "output_type": "display_data"
    }
   ],
   "source": [
    "try:\n",
    "    formula,result,msg = csl.causalImpact(d,on={\"y\",\"z2\",\"z1\",\"z3\"},doing={\"x\"})\n",
    "except csl.HedgeException as h:\n",
    "    print (h.message)\n",
    "    \n",
    "print(msg)\n",
    "display(Math(formula.toLatex()))"
   ]
  },
  {
   "cell_type": "code",
   "execution_count": 13,
   "metadata": {
    "ExecuteTime": {
     "end_time": "2019-03-30T09:47:36.683790Z",
     "start_time": "2019-03-30T09:47:36.676831Z"
    },
    "execution": {
     "iopub.execute_input": "2021-12-06T01:29:09.280229Z",
     "iopub.status.busy": "2021-12-06T01:29:09.279233Z",
     "iopub.status.idle": "2021-12-06T01:29:09.292233Z",
     "shell.execute_reply": "2021-12-06T01:29:09.291231Z",
     "shell.execute_reply.started": "2021-12-06T01:29:09.280229Z"
    }
   },
   "outputs": [],
   "source": [
    "# computation for this formula directly in pyAgrum\n",
    "f1=m.cpt(\"x\")*m.cpt(\"z2\")*m.cpt(\"z3\")*m.cpt(\"y\")\n",
    "f2=f1.margSumOut([\"x\"])\n",
    "f3=f1.margSumOut([\"x\",\"y\"])\n",
    "f4=f2/f3\n",
    "pyResult=m.cpt(\"z3\")*m.cpt(\"z1\")*m.cpt(\"z2\")*f4"
   ]
  },
  {
   "cell_type": "code",
   "execution_count": 14,
   "metadata": {
    "ExecuteTime": {
     "end_time": "2019-03-30T09:47:36.694555Z",
     "start_time": "2019-03-30T09:47:36.685828Z"
    },
    "execution": {
     "iopub.execute_input": "2021-12-06T01:29:09.293231Z",
     "iopub.status.busy": "2021-12-06T01:29:09.293231Z",
     "iopub.status.idle": "2021-12-06T01:29:09.307234Z",
     "shell.execute_reply": "2021-12-06T01:29:09.306233Z",
     "shell.execute_reply.started": "2021-12-06T01:29:09.293231Z"
    }
   },
   "outputs": [
    {
     "name": "stdout",
     "output_type": "stream",
     "text": [
      "According to [ref], the result should be :\n"
     ]
    },
    {
     "data": {
      "text/latex": [
       "$\\displaystyle P\\left(z1\\mid x,z2\\right) \\cdot \\left(\\sum_{x}{P\\left(y,z3\\mid z1,z2\\right) \\cdot P\\left(x,z2\\right)}\\right)$"
      ],
      "text/plain": [
       "<IPython.core.display.Math object>"
      ]
     },
     "metadata": {},
     "output_type": "display_data"
    }
   ],
   "source": [
    "# computation for this formula directly by creating the causal AST\n",
    "a = csl.ASTposteriorProba(m,{\"z1\"},{\"x\",\"z2\"})\n",
    "b= csl.ASTposteriorProba(m,{\"y\",\"z3\"},{\"x\",\"z1\",\"z2\"})\n",
    "c = csl.ASTjointProba([\"x\",\"z2\"])\n",
    "correct = csl.ASTmult(a,csl.ASTsum([\"x\"],csl.ASTmult(b,c)))\n",
    "\n",
    "print(\"According to [ref], the result should be :\")\n",
    "display(Math(correct.toLatex()))"
   ]
  },
  {
   "cell_type": "code",
   "execution_count": 15,
   "metadata": {
    "ExecuteTime": {
     "end_time": "2019-03-30T09:47:36.704823Z",
     "start_time": "2019-03-30T09:47:36.697245Z"
    },
    "execution": {
     "iopub.execute_input": "2021-12-06T01:29:09.309234Z",
     "iopub.status.busy": "2021-12-06T01:29:09.309234Z",
     "iopub.status.idle": "2021-12-06T01:29:09.321231Z",
     "shell.execute_reply": "2021-12-06T01:29:09.321231Z",
     "shell.execute_reply.started": "2021-12-06T01:29:09.309234Z"
    }
   },
   "outputs": [],
   "source": [
    "# computation for that formula\n",
    "ie=gum.LazyPropagation(m)\n",
    "refResult=(ie.evidenceJointImpact([\"y\",\"z3\"],[\"x\",\"z1\",\"z2\"])*\n",
    "     ie.evidenceJointImpact([\"x\",\"z2\"],[])\n",
    "    ).margSumOut([\"x\"])* m.cpt(\"z1\")\n"
   ]
  },
  {
   "cell_type": "code",
   "execution_count": 16,
   "metadata": {
    "ExecuteTime": {
     "end_time": "2019-03-30T09:47:36.712720Z",
     "start_time": "2019-03-30T09:47:36.707153Z"
    },
    "execution": {
     "iopub.execute_input": "2021-12-06T01:29:09.324231Z",
     "iopub.status.busy": "2021-12-06T01:29:09.323229Z",
     "iopub.status.idle": "2021-12-06T01:29:09.339228Z",
     "shell.execute_reply": "2021-12-06T01:29:09.337226Z",
     "shell.execute_reply.started": "2021-12-06T01:29:09.324231Z"
    }
   },
   "outputs": [
    {
     "name": "stdout",
     "output_type": "stream",
     "text": [
      "Maximum error between these 3 versions : 5.551115123125783e-17\n"
     ]
    }
   ],
   "source": [
    "print(\"Maximum error between these 3 versions : {}\".format(max((refResult-pyResult).abs().max(),\n",
    "                                                               (refResult-result).abs().max(),\n",
    "                                                               (pyResult-result).new_abs().max())))"
   ]
  },
  {
   "cell_type": "markdown",
   "metadata": {},
   "source": [
    "# Unidentifiabilty\n"
   ]
  },
  {
   "cell_type": "code",
   "execution_count": 17,
   "metadata": {
    "ExecuteTime": {
     "end_time": "2019-03-30T09:47:38.846042Z",
     "start_time": "2019-03-30T09:47:36.715078Z"
    },
    "execution": {
     "iopub.execute_input": "2021-12-06T01:29:09.341228Z",
     "iopub.status.busy": "2021-12-06T01:29:09.341228Z",
     "iopub.status.idle": "2021-12-06T01:29:09.744530Z",
     "shell.execute_reply": "2021-12-06T01:29:09.743528Z",
     "shell.execute_reply.started": "2021-12-06T01:29:09.341228Z"
    }
   },
   "outputs": [
    {
     "data": {
      "image/svg+xml": [
       "<svg xmlns=\"http://www.w3.org/2000/svg\" xmlns:xlink=\"http://www.w3.org/1999/xlink\" width=\"227pt\" height=\"353pt\" viewBox=\"0.00 0.00 227.00 352.57\">\n",
       "<g id=\"graph0\" class=\"graph\" transform=\"scale(1 1) rotate(0) translate(4 348.57)\">\n",
       "<title>G</title>\n",
       "<!-- Z1−X -->\n",
       "<g id=\"node1\" class=\"node\">\n",
       "<title>Z1−X</title>\n",
       "<ellipse fill=\"#404040\" stroke=\"#4a4a4a\" cx=\"88\" cy=\"-316.28\" rx=\"1.8\" ry=\"1.8\"/>\n",
       "</g>\n",
       "<!-- z1 -->\n",
       "<g id=\"node5\" class=\"node\">\n",
       "<title>z1</title>\n",
       "<ellipse fill=\"#404040\" stroke=\"#4a4a4a\" cx=\"70\" cy=\"-234\" rx=\"27\" ry=\"18\"/>\n",
       "<text text-anchor=\"middle\" x=\"70\" y=\"-230.3\" font-family=\"Times New Roman,serif\" font-size=\"14.00\" fill=\"white\">z1</text>\n",
       "</g>\n",
       "<!-- Z1−X&#45;&gt;z1 -->\n",
       "<g id=\"edge5\" class=\"edge\">\n",
       "<title>Z1−X-&gt;z1</title>\n",
       "<path fill=\"none\" stroke=\"#4a4a4a\" stroke-dasharray=\"5,2\" d=\"M87.8,-314.38C86.64,-309.22 80.75,-282.95 76.06,-262.02\"/>\n",
       "<polygon fill=\"#4a4a4a\" stroke=\"#4a4a4a\" points=\"79.41,-260.99 73.81,-252 72.58,-262.53 79.41,-260.99\"/>\n",
       "</g>\n",
       "<!-- x -->\n",
       "<g id=\"node6\" class=\"node\">\n",
       "<title>x</title>\n",
       "<ellipse fill=\"#404040\" stroke=\"#4a4a4a\" cx=\"82\" cy=\"-162\" rx=\"27\" ry=\"18\"/>\n",
       "<text text-anchor=\"middle\" x=\"82\" y=\"-158.3\" font-family=\"Times New Roman,serif\" font-size=\"14.00\" fill=\"white\">x</text>\n",
       "</g>\n",
       "<!-- Z1−X&#45;&gt;x -->\n",
       "<g id=\"edge11\" class=\"edge\">\n",
       "<title>Z1−X-&gt;x</title>\n",
       "<path fill=\"none\" stroke=\"#4a4a4a\" stroke-dasharray=\"5,2\" d=\"M88.47,-314.3C92.07,-306.69 114.72,-256.41 106,-216 103.96,-206.53 100.08,-196.72 96.02,-188.15\"/>\n",
       "<polygon fill=\"#4a4a4a\" stroke=\"#4a4a4a\" points=\"99.08,-186.44 91.46,-179.08 92.83,-189.59 99.08,-186.44\"/>\n",
       "</g>\n",
       "<!-- Z1&#45;Y -->\n",
       "<g id=\"node2\" class=\"node\">\n",
       "<title>Z1-Y</title>\n",
       "<ellipse fill=\"#404040\" stroke=\"#4a4a4a\" cx=\"39\" cy=\"-316.28\" rx=\"1.8\" ry=\"1.8\"/>\n",
       "</g>\n",
       "<!-- Z1&#45;Y&#45;&gt;z1 -->\n",
       "<g id=\"edge8\" class=\"edge\">\n",
       "<title>Z1-Y-&gt;z1</title>\n",
       "<path fill=\"none\" stroke=\"#4a4a4a\" stroke-dasharray=\"5,2\" d=\"M39.35,-314.38C41.37,-309.15 51.79,-282.16 59.93,-261.09\"/>\n",
       "<polygon fill=\"#4a4a4a\" stroke=\"#4a4a4a\" points=\"63.24,-262.22 63.58,-251.63 56.71,-259.7 63.24,-262.22\"/>\n",
       "</g>\n",
       "<!-- y -->\n",
       "<g id=\"node8\" class=\"node\">\n",
       "<title>y</title>\n",
       "<ellipse fill=\"#404040\" stroke=\"#4a4a4a\" cx=\"27\" cy=\"-18\" rx=\"27\" ry=\"18\"/>\n",
       "<text text-anchor=\"middle\" x=\"27\" y=\"-14.3\" font-family=\"Times New Roman,serif\" font-size=\"14.00\" fill=\"white\">y</text>\n",
       "</g>\n",
       "<!-- Z1&#45;Y&#45;&gt;y -->\n",
       "<g id=\"edge10\" class=\"edge\">\n",
       "<title>Z1-Y-&gt;y</title>\n",
       "<path fill=\"none\" stroke=\"#4a4a4a\" stroke-dasharray=\"5,2\" d=\"M38.48,-314.44C35.22,-309.07 17.55,-279.15 12,-252 -3.04,-178.44 11.54,-89.35 20.75,-45.71\"/>\n",
       "<polygon fill=\"#4a4a4a\" stroke=\"#4a4a4a\" points=\"24.18,-46.39 22.9,-35.88 17.34,-44.9 24.18,-46.39\"/>\n",
       "</g>\n",
       "<!-- Z1&#45;Z1 -->\n",
       "<g id=\"node3\" class=\"node\">\n",
       "<title>Z1-Z1</title>\n",
       "<ellipse fill=\"#404040\" stroke=\"#4a4a4a\" cx=\"145\" cy=\"-316.28\" rx=\"1.8\" ry=\"1.8\"/>\n",
       "</g>\n",
       "<!-- Z1&#45;Z1&#45;&gt;z1 -->\n",
       "<g id=\"edge9\" class=\"edge\">\n",
       "<title>Z1-Z1-&gt;z1</title>\n",
       "<path fill=\"none\" stroke=\"#4a4a4a\" stroke-dasharray=\"5,2\" d=\"M144.16,-314.38C138.97,-308.83 110.91,-278.79 90.84,-257.31\"/>\n",
       "<polygon fill=\"#4a4a4a\" stroke=\"#4a4a4a\" points=\"93.25,-254.76 83.87,-249.84 88.13,-259.54 93.25,-254.76\"/>\n",
       "</g>\n",
       "<!-- z2 -->\n",
       "<g id=\"node7\" class=\"node\">\n",
       "<title>z2</title>\n",
       "<ellipse fill=\"#404040\" stroke=\"#4a4a4a\" cx=\"82\" cy=\"-90\" rx=\"27\" ry=\"18\"/>\n",
       "<text text-anchor=\"middle\" x=\"82\" y=\"-86.3\" font-family=\"Times New Roman,serif\" font-size=\"14.00\" fill=\"white\">z2</text>\n",
       "</g>\n",
       "<!-- Z1&#45;Z1&#45;&gt;z2 -->\n",
       "<g id=\"edge2\" class=\"edge\">\n",
       "<title>Z1-Z1-&gt;z2</title>\n",
       "<path fill=\"none\" stroke=\"#4a4a4a\" stroke-dasharray=\"5,2\" d=\"M145.01,-314.15C145.05,-302.94 144.56,-211.19 118,-144 113.89,-133.6 107.46,-123.2 101.16,-114.4\"/>\n",
       "<polygon fill=\"#4a4a4a\" stroke=\"#4a4a4a\" points=\"103.8,-112.09 95,-106.19 98.21,-116.29 103.8,-112.09\"/>\n",
       "</g>\n",
       "<!-- X−Y -->\n",
       "<g id=\"node4\" class=\"node\">\n",
       "<title>X−Y</title>\n",
       "<ellipse fill=\"#404040\" stroke=\"#4a4a4a\" cx=\"23\" cy=\"-234\" rx=\"1.8\" ry=\"1.8\"/>\n",
       "</g>\n",
       "<!-- X−Y&#45;&gt;x -->\n",
       "<g id=\"edge4\" class=\"edge\">\n",
       "<title>X−Y-&gt;x</title>\n",
       "<path fill=\"none\" stroke=\"#4a4a4a\" stroke-dasharray=\"5,2\" d=\"M23.55,-232.04C25.07,-229.4 29.55,-221.8 34,-216 42.15,-205.39 51.95,-194.31 60.57,-185.05\"/>\n",
       "<polygon fill=\"#4a4a4a\" stroke=\"#4a4a4a\" points=\"63.14,-187.42 67.46,-177.74 58.05,-182.61 63.14,-187.42\"/>\n",
       "</g>\n",
       "<!-- X−Y&#45;&gt;y -->\n",
       "<g id=\"edge6\" class=\"edge\">\n",
       "<title>X−Y-&gt;y</title>\n",
       "<path fill=\"none\" stroke=\"#4a4a4a\" stroke-dasharray=\"5,2\" d=\"M23.02,-232.05C23.24,-220.2 25.46,-101.13 26.49,-46.33\"/>\n",
       "<polygon fill=\"#4a4a4a\" stroke=\"#4a4a4a\" points=\"29.99,-46.35 26.68,-36.28 22.99,-46.22 29.99,-46.35\"/>\n",
       "</g>\n",
       "<!-- z1&#45;&gt;x -->\n",
       "<g id=\"edge1\" class=\"edge\">\n",
       "<title>z1-&gt;x</title>\n",
       "<path fill=\"none\" stroke=\"#4a4a4a\" d=\"M71.92,-215.89C73.24,-208.18 74.84,-198.86 76.32,-190.2\"/>\n",
       "<path fill=\"none\" stroke=\"#4a4a4a\" d=\"M73.89,-216.22C75.21,-208.51 76.81,-199.2 78.29,-190.53\"/>\n",
       "<polygon fill=\"#4a4a4a\" stroke=\"#4a4a4a\" points=\"80.8,-190.72 79.04,-180.28 73.9,-189.54 80.8,-190.72\"/>\n",
       "</g>\n",
       "<!-- x&#45;&gt;z2 -->\n",
       "<g id=\"edge3\" class=\"edge\">\n",
       "<title>x-&gt;z2</title>\n",
       "<path fill=\"none\" stroke=\"#4a4a4a\" d=\"M81,-143.7C81,-135.98 81,-126.71 81,-118.11\"/>\n",
       "<path fill=\"none\" stroke=\"#4a4a4a\" d=\"M83,-143.7C83,-135.98 83,-126.71 83,-118.11\"/>\n",
       "<polygon fill=\"#4a4a4a\" stroke=\"#4a4a4a\" points=\"85.5,-118.1 82,-108.1 78.5,-118.1 85.5,-118.1\"/>\n",
       "</g>\n",
       "<!-- z2&#45;&gt;y -->\n",
       "<g id=\"edge7\" class=\"edge\">\n",
       "<title>z2-&gt;y</title>\n",
       "<path fill=\"none\" stroke=\"#4a4a4a\" d=\"M69.28,-74.43C62,-65.16 52.55,-53.14 44.36,-42.71\"/>\n",
       "<path fill=\"none\" stroke=\"#4a4a4a\" d=\"M70.85,-73.19C63.57,-63.93 54.12,-51.9 45.93,-41.48\"/>\n",
       "<polygon fill=\"#4a4a4a\" stroke=\"#4a4a4a\" points=\"47.84,-39.86 38.91,-34.16 42.34,-44.18 47.84,-39.86\"/>\n",
       "</g>\n",
       "<!-- \\n\\n -->\n",
       "<g id=\"node9\" class=\"node\">\n",
       "<title>\\n\\n</title>\n",
       "<ellipse fill=\"#404040\" stroke=\"#4a4a4a\" cx=\"192\" cy=\"-316.28\" rx=\"27\" ry=\"28.07\"/>\n",
       "</g>\n",
       "</g>\n",
       "</svg>"
      ],
      "text/plain": [
       "<IPython.core.display.SVG object>"
      ]
     },
     "metadata": {},
     "output_type": "display_data"
    }
   ],
   "source": [
    "m1 = gum.fastBN(\"z1->x->z2->y\")\n",
    "\n",
    "cdg = csl.CausalModel(m1, [(\"Z1−X\",[\"z1\",\"x\"]),\n",
    "                           (\"Z1-Y\",[\"z1\",\"y\"]),\n",
    "                           (\"Z1-Z1\",[\"z1\",\"z2\"]), \n",
    "                           (\"X−Y\",[\"x\",\"y\"])\n",
    "                          ], True )\n",
    "cslnb.showCausalModel(cdg)"
   ]
  },
  {
   "cell_type": "code",
   "execution_count": 18,
   "metadata": {
    "ExecuteTime": {
     "end_time": "2019-03-30T09:47:40.741542Z",
     "start_time": "2019-03-30T09:47:38.848489Z"
    },
    "execution": {
     "iopub.execute_input": "2021-12-06T01:29:09.746530Z",
     "iopub.status.busy": "2021-12-06T01:29:09.745530Z",
     "iopub.status.idle": "2021-12-06T01:29:09.888530Z",
     "shell.execute_reply": "2021-12-06T01:29:09.887525Z",
     "shell.execute_reply.started": "2021-12-06T01:29:09.746530Z"
    }
   },
   "outputs": [
    {
     "data": {
      "text/html": [
       "<table style=\"border-style: hidden; border-collapse: collapse;\" width=\"100%\"><tr><td style=\"border-top:hidden;border-bottom:hidden;\"><div align=\"center\" style=\"\"><svg xmlns=\"http://www.w3.org/2000/svg\" xmlns:xlink=\"http://www.w3.org/1999/xlink\" width=\"227pt\" height=\"353pt\" viewBox=\"0.00 0.00 227.00 352.57\">\n",
       "<g id=\"graph0\" class=\"graph\" transform=\"scale(1 1) rotate(0) translate(4 348.57)\">\n",
       "<title>G</title>\n",
       "<!-- Z1−X -->\n",
       "<g id=\"node1\" class=\"node\">\n",
       "<title>Z1−X</title>\n",
       "<ellipse fill=\"#404040\" stroke=\"#4a4a4a\" cx=\"88\" cy=\"-316.28\" rx=\"1.8\" ry=\"1.8\"/>\n",
       "</g>\n",
       "<!-- z1 -->\n",
       "<g id=\"node5\" class=\"node\">\n",
       "<title>z1</title>\n",
       "<ellipse fill=\"#404040\" stroke=\"#4a4a4a\" cx=\"70\" cy=\"-234\" rx=\"27\" ry=\"18\"/>\n",
       "<text text-anchor=\"middle\" x=\"70\" y=\"-230.3\" font-family=\"Times New Roman,serif\" font-size=\"14.00\" fill=\"white\">z1</text>\n",
       "</g>\n",
       "<!-- Z1−X&#45;&gt;z1 -->\n",
       "<g id=\"edge5\" class=\"edge\">\n",
       "<title>Z1−X-&gt;z1</title>\n",
       "<path fill=\"none\" stroke=\"#4a4a4a\" stroke-dasharray=\"5,2\" d=\"M87.8,-314.38C86.64,-309.22 80.75,-282.95 76.06,-262.02\"/>\n",
       "<polygon fill=\"#4a4a4a\" stroke=\"#4a4a4a\" points=\"79.41,-260.99 73.81,-252 72.58,-262.53 79.41,-260.99\"/>\n",
       "</g>\n",
       "<!-- x -->\n",
       "<g id=\"node6\" class=\"node\">\n",
       "<title>x</title>\n",
       "<ellipse fill=\"#404040\" stroke=\"#4a4a4a\" cx=\"82\" cy=\"-162\" rx=\"27\" ry=\"18\"/>\n",
       "<text text-anchor=\"middle\" x=\"82\" y=\"-158.3\" font-family=\"Times New Roman,serif\" font-size=\"14.00\" fill=\"white\">x</text>\n",
       "</g>\n",
       "<!-- Z1−X&#45;&gt;x -->\n",
       "<g id=\"edge11\" class=\"edge\">\n",
       "<title>Z1−X-&gt;x</title>\n",
       "<path fill=\"none\" stroke=\"#4a4a4a\" stroke-dasharray=\"5,2\" d=\"M88.47,-314.3C92.07,-306.69 114.72,-256.41 106,-216 103.96,-206.53 100.08,-196.72 96.02,-188.15\"/>\n",
       "<polygon fill=\"#4a4a4a\" stroke=\"#4a4a4a\" points=\"99.08,-186.44 91.46,-179.08 92.83,-189.59 99.08,-186.44\"/>\n",
       "</g>\n",
       "<!-- Z1&#45;Y -->\n",
       "<g id=\"node2\" class=\"node\">\n",
       "<title>Z1-Y</title>\n",
       "<ellipse fill=\"#404040\" stroke=\"#4a4a4a\" cx=\"39\" cy=\"-316.28\" rx=\"1.8\" ry=\"1.8\"/>\n",
       "</g>\n",
       "<!-- Z1&#45;Y&#45;&gt;z1 -->\n",
       "<g id=\"edge8\" class=\"edge\">\n",
       "<title>Z1-Y-&gt;z1</title>\n",
       "<path fill=\"none\" stroke=\"#4a4a4a\" stroke-dasharray=\"5,2\" d=\"M39.35,-314.38C41.37,-309.15 51.79,-282.16 59.93,-261.09\"/>\n",
       "<polygon fill=\"#4a4a4a\" stroke=\"#4a4a4a\" points=\"63.24,-262.22 63.58,-251.63 56.71,-259.7 63.24,-262.22\"/>\n",
       "</g>\n",
       "<!-- y -->\n",
       "<g id=\"node8\" class=\"node\">\n",
       "<title>y</title>\n",
       "<ellipse fill=\"#404040\" stroke=\"#4a4a4a\" cx=\"27\" cy=\"-18\" rx=\"27\" ry=\"18\"/>\n",
       "<text text-anchor=\"middle\" x=\"27\" y=\"-14.3\" font-family=\"Times New Roman,serif\" font-size=\"14.00\" fill=\"white\">y</text>\n",
       "</g>\n",
       "<!-- Z1&#45;Y&#45;&gt;y -->\n",
       "<g id=\"edge10\" class=\"edge\">\n",
       "<title>Z1-Y-&gt;y</title>\n",
       "<path fill=\"none\" stroke=\"#4a4a4a\" stroke-dasharray=\"5,2\" d=\"M38.48,-314.44C35.22,-309.07 17.55,-279.15 12,-252 -3.04,-178.44 11.54,-89.35 20.75,-45.71\"/>\n",
       "<polygon fill=\"#4a4a4a\" stroke=\"#4a4a4a\" points=\"24.18,-46.39 22.9,-35.88 17.34,-44.9 24.18,-46.39\"/>\n",
       "</g>\n",
       "<!-- Z1&#45;Z1 -->\n",
       "<g id=\"node3\" class=\"node\">\n",
       "<title>Z1-Z1</title>\n",
       "<ellipse fill=\"#404040\" stroke=\"#4a4a4a\" cx=\"145\" cy=\"-316.28\" rx=\"1.8\" ry=\"1.8\"/>\n",
       "</g>\n",
       "<!-- Z1&#45;Z1&#45;&gt;z1 -->\n",
       "<g id=\"edge9\" class=\"edge\">\n",
       "<title>Z1-Z1-&gt;z1</title>\n",
       "<path fill=\"none\" stroke=\"#4a4a4a\" stroke-dasharray=\"5,2\" d=\"M144.16,-314.38C138.97,-308.83 110.91,-278.79 90.84,-257.31\"/>\n",
       "<polygon fill=\"#4a4a4a\" stroke=\"#4a4a4a\" points=\"93.25,-254.76 83.87,-249.84 88.13,-259.54 93.25,-254.76\"/>\n",
       "</g>\n",
       "<!-- z2 -->\n",
       "<g id=\"node7\" class=\"node\">\n",
       "<title>z2</title>\n",
       "<ellipse fill=\"#404040\" stroke=\"#4a4a4a\" cx=\"82\" cy=\"-90\" rx=\"27\" ry=\"18\"/>\n",
       "<text text-anchor=\"middle\" x=\"82\" y=\"-86.3\" font-family=\"Times New Roman,serif\" font-size=\"14.00\" fill=\"white\">z2</text>\n",
       "</g>\n",
       "<!-- Z1&#45;Z1&#45;&gt;z2 -->\n",
       "<g id=\"edge2\" class=\"edge\">\n",
       "<title>Z1-Z1-&gt;z2</title>\n",
       "<path fill=\"none\" stroke=\"#4a4a4a\" stroke-dasharray=\"5,2\" d=\"M145.01,-314.15C145.05,-302.94 144.56,-211.19 118,-144 113.89,-133.6 107.46,-123.2 101.16,-114.4\"/>\n",
       "<polygon fill=\"#4a4a4a\" stroke=\"#4a4a4a\" points=\"103.8,-112.09 95,-106.19 98.21,-116.29 103.8,-112.09\"/>\n",
       "</g>\n",
       "<!-- X−Y -->\n",
       "<g id=\"node4\" class=\"node\">\n",
       "<title>X−Y</title>\n",
       "<ellipse fill=\"#404040\" stroke=\"#4a4a4a\" cx=\"23\" cy=\"-234\" rx=\"1.8\" ry=\"1.8\"/>\n",
       "</g>\n",
       "<!-- X−Y&#45;&gt;x -->\n",
       "<g id=\"edge4\" class=\"edge\">\n",
       "<title>X−Y-&gt;x</title>\n",
       "<path fill=\"none\" stroke=\"#4a4a4a\" stroke-dasharray=\"5,2\" d=\"M23.55,-232.04C25.07,-229.4 29.55,-221.8 34,-216 42.15,-205.39 51.95,-194.31 60.57,-185.05\"/>\n",
       "<polygon fill=\"#4a4a4a\" stroke=\"#4a4a4a\" points=\"63.14,-187.42 67.46,-177.74 58.05,-182.61 63.14,-187.42\"/>\n",
       "</g>\n",
       "<!-- X−Y&#45;&gt;y -->\n",
       "<g id=\"edge6\" class=\"edge\">\n",
       "<title>X−Y-&gt;y</title>\n",
       "<path fill=\"none\" stroke=\"#4a4a4a\" stroke-dasharray=\"5,2\" d=\"M23.02,-232.05C23.24,-220.2 25.46,-101.13 26.49,-46.33\"/>\n",
       "<polygon fill=\"#4a4a4a\" stroke=\"#4a4a4a\" points=\"29.99,-46.35 26.68,-36.28 22.99,-46.22 29.99,-46.35\"/>\n",
       "</g>\n",
       "<!-- z1&#45;&gt;x -->\n",
       "<g id=\"edge1\" class=\"edge\">\n",
       "<title>z1-&gt;x</title>\n",
       "<path fill=\"none\" stroke=\"#4a4a4a\" d=\"M71.92,-215.89C73.24,-208.18 74.84,-198.86 76.32,-190.2\"/>\n",
       "<path fill=\"none\" stroke=\"#4a4a4a\" d=\"M73.89,-216.22C75.21,-208.51 76.81,-199.2 78.29,-190.53\"/>\n",
       "<polygon fill=\"#4a4a4a\" stroke=\"#4a4a4a\" points=\"80.8,-190.72 79.04,-180.28 73.9,-189.54 80.8,-190.72\"/>\n",
       "</g>\n",
       "<!-- x&#45;&gt;z2 -->\n",
       "<g id=\"edge3\" class=\"edge\">\n",
       "<title>x-&gt;z2</title>\n",
       "<path fill=\"none\" stroke=\"#4a4a4a\" d=\"M81,-143.7C81,-135.98 81,-126.71 81,-118.11\"/>\n",
       "<path fill=\"none\" stroke=\"#4a4a4a\" d=\"M83,-143.7C83,-135.98 83,-126.71 83,-118.11\"/>\n",
       "<polygon fill=\"#4a4a4a\" stroke=\"#4a4a4a\" points=\"85.5,-118.1 82,-108.1 78.5,-118.1 85.5,-118.1\"/>\n",
       "</g>\n",
       "<!-- z2&#45;&gt;y -->\n",
       "<g id=\"edge7\" class=\"edge\">\n",
       "<title>z2-&gt;y</title>\n",
       "<path fill=\"none\" stroke=\"#4a4a4a\" d=\"M69.28,-74.43C62,-65.16 52.55,-53.14 44.36,-42.71\"/>\n",
       "<path fill=\"none\" stroke=\"#4a4a4a\" d=\"M70.85,-73.19C63.57,-63.93 54.12,-51.9 45.93,-41.48\"/>\n",
       "<polygon fill=\"#4a4a4a\" stroke=\"#4a4a4a\" points=\"47.84,-39.86 38.91,-34.16 42.34,-44.18 47.84,-39.86\"/>\n",
       "</g>\n",
       "<!-- \\n\\n -->\n",
       "<g id=\"node9\" class=\"node\">\n",
       "<title>\\n\\n</title>\n",
       "<ellipse fill=\"#404040\" stroke=\"#4a4a4a\" cx=\"192\" cy=\"-316.28\" rx=\"27\" ry=\"28.07\"/>\n",
       "</g>\n",
       "</g>\n",
       "</svg></div></td><td style=\"border-top:hidden;border-bottom:hidden;\"><div align=\"center\" style=\"\">?</div></td><td style=\"border-top:hidden;border-bottom:hidden;\"><div align=\"center\" style=\"\">No result</div></td></tr><tr><td style=\"border-top:hidden;border-bottom:hidden;\"><div align=\"center\"><small>Causal Model</small></div></td><td style=\"border-top:hidden;border-bottom:hidden;\"><div align=\"center\"><small>Explanation : Hedge Error: G={'z2', 'x', 'z1'}, G[S]={'z2'}</small></div></td><td style=\"border-top:hidden;border-bottom:hidden;\"><div align=\"center\"><small>Impact : $?$</small></div></td></tr></table>"
      ],
      "text/plain": [
       "<IPython.core.display.HTML object>"
      ]
     },
     "metadata": {},
     "output_type": "display_data"
    }
   ],
   "source": [
    "err = cslnb.showCausalImpact(cdg,\"y\",\"x\",values={\"x\":0})\n"
   ]
  },
  {
   "cell_type": "markdown",
   "metadata": {},
   "source": [
    "## another one"
   ]
  },
  {
   "cell_type": "code",
   "execution_count": 19,
   "metadata": {
    "ExecuteTime": {
     "end_time": "2019-03-30T09:47:43.001646Z",
     "start_time": "2019-03-30T09:47:40.743915Z"
    },
    "execution": {
     "iopub.execute_input": "2021-12-06T01:29:09.889526Z",
     "iopub.status.busy": "2021-12-06T01:29:09.889526Z",
     "iopub.status.idle": "2021-12-06T01:29:09.999529Z",
     "shell.execute_reply": "2021-12-06T01:29:09.999529Z",
     "shell.execute_reply.started": "2021-12-06T01:29:09.889526Z"
    }
   },
   "outputs": [
    {
     "data": {
      "image/svg+xml": [
       "<svg xmlns=\"http://www.w3.org/2000/svg\" xmlns:xlink=\"http://www.w3.org/1999/xlink\" width=\"144pt\" height=\"260pt\" viewBox=\"0.00 0.00 144.00 260.00\">\n",
       "<g id=\"graph0\" class=\"graph\" transform=\"scale(1 1) rotate(0) translate(4 256)\">\n",
       "<title>G</title>\n",
       "<!-- x -->\n",
       "<g id=\"node1\" class=\"node\">\n",
       "<title>x</title>\n",
       "<g id=\"a_node1\"><a xlink:title=\"(0) x\">\n",
       "<ellipse fill=\"#404040\" stroke=\"black\" cx=\"109\" cy=\"-90\" rx=\"27\" ry=\"18\"/>\n",
       "<text text-anchor=\"middle\" x=\"109\" y=\"-86.3\" font-family=\"Times New Roman,serif\" font-size=\"14.00\" fill=\"white\">x</text>\n",
       "</a>\n",
       "</g>\n",
       "</g>\n",
       "<!-- y -->\n",
       "<g id=\"node3\" class=\"node\">\n",
       "<title>y</title>\n",
       "<g id=\"a_node3\"><a xlink:title=\"(1) y\">\n",
       "<ellipse fill=\"#404040\" stroke=\"black\" cx=\"54\" cy=\"-18\" rx=\"27\" ry=\"18\"/>\n",
       "<text text-anchor=\"middle\" x=\"54\" y=\"-14.3\" font-family=\"Times New Roman,serif\" font-size=\"14.00\" fill=\"white\">y</text>\n",
       "</a>\n",
       "</g>\n",
       "</g>\n",
       "<!-- x&#45;&gt;y -->\n",
       "<g id=\"edge1\" class=\"edge\">\n",
       "<title>x-&gt;y</title>\n",
       "<g id=\"a_edge1\"><a xlink:title=\"(0, 1) : \">\n",
       "<path fill=\"none\" stroke=\"#4a4a4a\" d=\"M97.07,-73.81C89.79,-64.55 80.34,-52.52 72.15,-42.09\"/>\n",
       "<polygon fill=\"#4a4a4a\" stroke=\"#4a4a4a\" points=\"74.84,-39.86 65.91,-34.16 69.34,-44.18 74.84,-39.86\"/>\n",
       "</a>\n",
       "</g>\n",
       "</g>\n",
       "<!-- z2 -->\n",
       "<g id=\"node2\" class=\"node\">\n",
       "<title>z2</title>\n",
       "<g id=\"a_node2\"><a xlink:title=\"(3) z2\">\n",
       "<ellipse fill=\"#404040\" stroke=\"black\" cx=\"27\" cy=\"-234\" rx=\"27\" ry=\"18\"/>\n",
       "<text text-anchor=\"middle\" x=\"27\" y=\"-230.3\" font-family=\"Times New Roman,serif\" font-size=\"14.00\" fill=\"white\">z2</text>\n",
       "</a>\n",
       "</g>\n",
       "</g>\n",
       "<!-- z2&#45;&gt;y -->\n",
       "<g id=\"edge5\" class=\"edge\">\n",
       "<title>z2-&gt;y</title>\n",
       "<g id=\"a_edge5\"><a xlink:title=\"(3, 1) : \">\n",
       "<path fill=\"none\" stroke=\"#4a4a4a\" d=\"M25.93,-215.88C25.05,-197.92 24.34,-168.89 27,-144 30.67,-109.62 39.87,-70.8 46.51,-45.68\"/>\n",
       "<polygon fill=\"#4a4a4a\" stroke=\"#4a4a4a\" points=\"49.95,-46.36 49.18,-35.8 43.19,-44.54 49.95,-46.36\"/>\n",
       "</a>\n",
       "</g>\n",
       "</g>\n",
       "<!-- z3 -->\n",
       "<g id=\"node4\" class=\"node\">\n",
       "<title>z3</title>\n",
       "<g id=\"a_node4\"><a xlink:title=\"(4) z3\">\n",
       "<ellipse fill=\"#404040\" stroke=\"black\" cx=\"63\" cy=\"-162\" rx=\"27\" ry=\"18\"/>\n",
       "<text text-anchor=\"middle\" x=\"63\" y=\"-158.3\" font-family=\"Times New Roman,serif\" font-size=\"14.00\" fill=\"white\">z3</text>\n",
       "</a>\n",
       "</g>\n",
       "</g>\n",
       "<!-- z2&#45;&gt;z3 -->\n",
       "<g id=\"edge4\" class=\"edge\">\n",
       "<title>z2-&gt;z3</title>\n",
       "<g id=\"a_edge4\"><a xlink:title=\"(3, 4) : \">\n",
       "<path fill=\"none\" stroke=\"#4a4a4a\" d=\"M35.35,-216.76C39.71,-208.28 45.15,-197.71 50.04,-188.2\"/>\n",
       "<polygon fill=\"#4a4a4a\" stroke=\"#4a4a4a\" points=\"53.23,-189.64 54.7,-179.15 47.01,-186.44 53.23,-189.64\"/>\n",
       "</a>\n",
       "</g>\n",
       "</g>\n",
       "<!-- z3&#45;&gt;x -->\n",
       "<g id=\"edge3\" class=\"edge\">\n",
       "<title>z3-&gt;x</title>\n",
       "<g id=\"a_edge3\"><a xlink:title=\"(4, 0) : \">\n",
       "<path fill=\"none\" stroke=\"#4a4a4a\" d=\"M73.44,-145.12C79.2,-136.34 86.48,-125.26 92.96,-115.42\"/>\n",
       "<polygon fill=\"#4a4a4a\" stroke=\"#4a4a4a\" points=\"96.04,-117.1 98.6,-106.82 90.19,-113.26 96.04,-117.1\"/>\n",
       "</a>\n",
       "</g>\n",
       "</g>\n",
       "<!-- z3&#45;&gt;y -->\n",
       "<g id=\"edge7\" class=\"edge\">\n",
       "<title>z3-&gt;y</title>\n",
       "<g id=\"a_edge7\"><a xlink:title=\"(4, 1) : \">\n",
       "<path fill=\"none\" stroke=\"#4a4a4a\" d=\"M61.91,-143.87C60.38,-119.67 57.56,-75.21 55.74,-46.39\"/>\n",
       "<polygon fill=\"#4a4a4a\" stroke=\"#4a4a4a\" points=\"59.22,-45.95 55.09,-36.19 52.23,-46.39 59.22,-45.95\"/>\n",
       "</a>\n",
       "</g>\n",
       "</g>\n",
       "<!-- z1 -->\n",
       "<g id=\"node5\" class=\"node\">\n",
       "<title>z1</title>\n",
       "<g id=\"a_node5\"><a xlink:title=\"(2) z1\">\n",
       "<ellipse fill=\"#404040\" stroke=\"black\" cx=\"108\" cy=\"-234\" rx=\"27\" ry=\"18\"/>\n",
       "<text text-anchor=\"middle\" x=\"108\" y=\"-230.3\" font-family=\"Times New Roman,serif\" font-size=\"14.00\" fill=\"white\">z1</text>\n",
       "</a>\n",
       "</g>\n",
       "</g>\n",
       "<!-- z1&#45;&gt;x -->\n",
       "<g id=\"edge6\" class=\"edge\">\n",
       "<title>z1-&gt;x</title>\n",
       "<g id=\"a_edge6\"><a xlink:title=\"(2, 0) : \">\n",
       "<path fill=\"none\" stroke=\"#4a4a4a\" d=\"M108.12,-215.87C108.29,-191.67 108.6,-147.21 108.81,-118.39\"/>\n",
       "<polygon fill=\"#4a4a4a\" stroke=\"#4a4a4a\" points=\"112.31,-118.21 108.88,-108.19 105.31,-118.16 112.31,-118.21\"/>\n",
       "</a>\n",
       "</g>\n",
       "</g>\n",
       "<!-- z1&#45;&gt;z3 -->\n",
       "<g id=\"edge2\" class=\"edge\">\n",
       "<title>z1-&gt;z3</title>\n",
       "<g id=\"a_edge2\"><a xlink:title=\"(2, 4) : \">\n",
       "<path fill=\"none\" stroke=\"#4a4a4a\" d=\"M97.79,-217.12C92.15,-208.34 85.03,-197.26 78.7,-187.42\"/>\n",
       "<polygon fill=\"#4a4a4a\" stroke=\"#4a4a4a\" points=\"81.52,-185.34 73.17,-178.82 75.63,-189.13 81.52,-185.34\"/>\n",
       "</a>\n",
       "</g>\n",
       "</g>\n",
       "</g>\n",
       "</svg>"
      ],
      "text/plain": [
       "<IPython.core.display.SVG object>"
      ]
     },
     "metadata": {},
     "output_type": "display_data"
    }
   ],
   "source": [
    "# EXEMPLE PAGE 17 : http://ftp.cs.ucla.edu/pub/stat_ser/r350.pdf\n",
    "\n",
    "\n",
    "m1 = gum.BayesNet()\n",
    "m1.add(gum.LabelizedVariable(\"x\"))\n",
    "m1.add(gum.LabelizedVariable(\"y\"))\n",
    "m1.add(gum.LabelizedVariable(\"z1\"))\n",
    "m1.add(gum.LabelizedVariable(\"z2\"))\n",
    "m1.add(gum.LabelizedVariable(\"z3\"))\n",
    "\n",
    "m1.addArc(2,4)\n",
    "m1.addArc(2,0)\n",
    "m1.addArc(3,4)\n",
    "m1.addArc(3,1)\n",
    "m1.addArc(4,1)\n",
    "m1.addArc(4,0)\n",
    "m1.addArc(0,1)\n",
    "\n",
    "gnb.showBN(m1)\n",
    "d = csl.CausalModel(m1)"
   ]
  },
  {
   "cell_type": "code",
   "execution_count": 20,
   "metadata": {
    "ExecuteTime": {
     "end_time": "2019-03-30T09:47:43.010201Z",
     "start_time": "2019-03-30T09:47:43.004428Z"
    },
    "execution": {
     "iopub.execute_input": "2021-12-06T01:29:10.000532Z",
     "iopub.status.busy": "2021-12-06T01:29:10.000532Z",
     "iopub.status.idle": "2021-12-06T01:29:10.014531Z",
     "shell.execute_reply": "2021-12-06T01:29:10.014531Z",
     "shell.execute_reply.started": "2021-12-06T01:29:10.000532Z"
    }
   },
   "outputs": [
    {
     "data": {
      "text/latex": [
       "$\\displaystyle P\\left(z3\\mid z1,z2\\right) \\cdot P\\left(z2\\right) \\cdot P\\left(z1\\right) \\cdot P\\left(y\\mid x,z2,z3\\right)$"
      ],
      "text/plain": [
       "<IPython.core.display.Math object>"
      ]
     },
     "metadata": {},
     "output_type": "display_data"
    }
   ],
   "source": [
    "display(Math(csl.identifyingIntervention (d,{\"z1\",\"z2\",\"z3\",\"y\"}, {\"x\"}).toLatex()))"
   ]
  },
  {
   "cell_type": "code",
   "execution_count": 21,
   "metadata": {
    "ExecuteTime": {
     "end_time": "2019-03-30T09:47:43.018992Z",
     "start_time": "2019-03-30T09:47:43.011836Z"
    },
    "execution": {
     "iopub.execute_input": "2021-12-06T01:29:10.015530Z",
     "iopub.status.busy": "2021-12-06T01:29:10.015530Z",
     "iopub.status.idle": "2021-12-06T01:29:10.031530Z",
     "shell.execute_reply": "2021-12-06T01:29:10.030529Z",
     "shell.execute_reply.started": "2021-12-06T01:29:10.015530Z"
    }
   },
   "outputs": [
    {
     "data": {
      "text/latex": [
       "$\\displaystyle \\sum_{z1,z2,z3}{P\\left(z3\\mid z1,z2\\right) \\cdot P\\left(z2\\right) \\cdot P\\left(z1\\right) \\cdot P\\left(y\\mid x,z2,z3\\right)}$"
      ],
      "text/plain": [
       "<IPython.core.display.Math object>"
      ]
     },
     "metadata": {},
     "output_type": "display_data"
    }
   ],
   "source": [
    "display(Math(csl.identifyingIntervention(d,{\"y\"}, {\"x\"}).toLatex()))"
   ]
  },
  {
   "cell_type": "code",
   "execution_count": 22,
   "metadata": {
    "ExecuteTime": {
     "end_time": "2019-03-30T09:47:43.025483Z",
     "start_time": "2019-03-30T09:47:43.020669Z"
    },
    "execution": {
     "iopub.execute_input": "2021-12-06T01:29:10.034528Z",
     "iopub.status.busy": "2021-12-06T01:29:10.033530Z",
     "iopub.status.idle": "2021-12-06T01:29:10.046523Z",
     "shell.execute_reply": "2021-12-06T01:29:10.045523Z",
     "shell.execute_reply.started": "2021-12-06T01:29:10.034528Z"
    }
   },
   "outputs": [
    {
     "data": {
      "text/latex": [
       "$\\displaystyle P\\left(z3\\mid z1,z2\\right) \\cdot P\\left(z1\\right) \\cdot P\\left(y\\mid x,z2,z3\\right)$"
      ],
      "text/plain": [
       "<IPython.core.display.Math object>"
      ]
     },
     "metadata": {},
     "output_type": "display_data"
    }
   ],
   "source": [
    "display(Math(csl.identifyingIntervention(d,{\"z1\",\"z3\",\"y\"}, {\"x\",\"z2\"}).toLatex()))"
   ]
  },
  {
   "cell_type": "code",
   "execution_count": 23,
   "metadata": {
    "ExecuteTime": {
     "end_time": "2019-03-30T09:47:43.033600Z",
     "start_time": "2019-03-30T09:47:43.028772Z"
    },
    "execution": {
     "iopub.execute_input": "2021-12-06T01:29:10.047523Z",
     "iopub.status.busy": "2021-12-06T01:29:10.047523Z",
     "iopub.status.idle": "2021-12-06T01:29:10.061524Z",
     "shell.execute_reply": "2021-12-06T01:29:10.060523Z",
     "shell.execute_reply.started": "2021-12-06T01:29:10.047523Z"
    }
   },
   "outputs": [
    {
     "data": {
      "text/latex": [
       "$\\displaystyle \\sum_{z1,z3}{P\\left(z3\\mid z1,z2\\right) \\cdot P\\left(z1\\right) \\cdot P\\left(y\\mid x,z2,z3\\right)}$"
      ],
      "text/plain": [
       "<IPython.core.display.Math object>"
      ]
     },
     "metadata": {},
     "output_type": "display_data"
    }
   ],
   "source": [
    "display(Math(csl.identifyingIntervention(d,{\"y\"}, {\"x\",\"z2\"}).toLatex()))"
   ]
  },
  {
   "cell_type": "markdown",
   "metadata": {},
   "source": [
    "## another"
   ]
  },
  {
   "cell_type": "code",
   "execution_count": 24,
   "metadata": {
    "ExecuteTime": {
     "end_time": "2019-03-30T09:47:45.111304Z",
     "start_time": "2019-03-30T09:47:43.035453Z"
    },
    "execution": {
     "iopub.execute_input": "2021-12-06T01:29:10.062525Z",
     "iopub.status.busy": "2021-12-06T01:29:10.062525Z",
     "iopub.status.idle": "2021-12-06T01:29:10.170528Z",
     "shell.execute_reply": "2021-12-06T01:29:10.169526Z",
     "shell.execute_reply.started": "2021-12-06T01:29:10.062525Z"
    }
   },
   "outputs": [
    {
     "data": {
      "image/svg+xml": [
       "<svg xmlns=\"http://www.w3.org/2000/svg\" xmlns:xlink=\"http://www.w3.org/1999/xlink\" width=\"103pt\" height=\"260pt\" viewBox=\"0.00 0.00 102.53 260.00\">\n",
       "<g id=\"graph0\" class=\"graph\" transform=\"scale(1 1) rotate(0) translate(4 256)\">\n",
       "<title>G</title>\n",
       "<!-- a -->\n",
       "<g id=\"node1\" class=\"node\">\n",
       "<title>a</title>\n",
       "<g id=\"a_node1\"><a xlink:title=\"(0) a\">\n",
       "<ellipse fill=\"#404040\" stroke=\"black\" cx=\"27\" cy=\"-234\" rx=\"27\" ry=\"18\"/>\n",
       "<text text-anchor=\"middle\" x=\"27\" y=\"-230.3\" font-family=\"Times New Roman,serif\" font-size=\"14.00\" fill=\"white\">a</text>\n",
       "</a>\n",
       "</g>\n",
       "</g>\n",
       "<!-- y -->\n",
       "<g id=\"node3\" class=\"node\">\n",
       "<title>y</title>\n",
       "<g id=\"a_node3\"><a xlink:title=\"(3) y\">\n",
       "<ellipse fill=\"#404040\" stroke=\"black\" cx=\"55\" cy=\"-18\" rx=\"27\" ry=\"18\"/>\n",
       "<text text-anchor=\"middle\" x=\"55\" y=\"-14.3\" font-family=\"Times New Roman,serif\" font-size=\"14.00\" fill=\"white\">y</text>\n",
       "</a>\n",
       "</g>\n",
       "</g>\n",
       "<!-- a&#45;&gt;y -->\n",
       "<g id=\"edge3\" class=\"edge\">\n",
       "<title>a-&gt;y</title>\n",
       "<g id=\"a_edge3\"><a xlink:title=\"(0, 3) : \">\n",
       "<path fill=\"none\" stroke=\"#4a4a4a\" d=\"M22.45,-216.08C15.22,-186.22 3.45,-122.56 19,-72 22.29,-61.31 28.54,-50.85 34.93,-42.08\"/>\n",
       "<polygon fill=\"#4a4a4a\" stroke=\"#4a4a4a\" points=\"37.88,-43.98 41.25,-33.93 32.35,-39.69 37.88,-43.98\"/>\n",
       "</a>\n",
       "</g>\n",
       "</g>\n",
       "<!-- p -->\n",
       "<g id=\"node4\" class=\"node\">\n",
       "<title>p</title>\n",
       "<g id=\"a_node4\"><a xlink:title=\"(1) p\">\n",
       "<ellipse fill=\"#404040\" stroke=\"black\" cx=\"55\" cy=\"-162\" rx=\"27\" ry=\"18\"/>\n",
       "<text text-anchor=\"middle\" x=\"55\" y=\"-158.3\" font-family=\"Times New Roman,serif\" font-size=\"14.00\" fill=\"white\">p</text>\n",
       "</a>\n",
       "</g>\n",
       "</g>\n",
       "<!-- a&#45;&gt;p -->\n",
       "<g id=\"edge1\" class=\"edge\">\n",
       "<title>a-&gt;p</title>\n",
       "<g id=\"a_edge1\"><a xlink:title=\"(0, 1) : \">\n",
       "<path fill=\"none\" stroke=\"#4a4a4a\" d=\"M33.64,-216.41C36.91,-208.22 40.94,-198.14 44.62,-188.95\"/>\n",
       "<polygon fill=\"#4a4a4a\" stroke=\"#4a4a4a\" points=\"47.95,-190.05 48.41,-179.47 41.45,-187.45 47.95,-190.05\"/>\n",
       "</a>\n",
       "</g>\n",
       "</g>\n",
       "<!-- b -->\n",
       "<g id=\"node2\" class=\"node\">\n",
       "<title>b</title>\n",
       "<g id=\"a_node2\"><a xlink:title=\"(2) b\">\n",
       "<ellipse fill=\"#404040\" stroke=\"black\" cx=\"55\" cy=\"-90\" rx=\"27\" ry=\"18\"/>\n",
       "<text text-anchor=\"middle\" x=\"55\" y=\"-86.3\" font-family=\"Times New Roman,serif\" font-size=\"14.00\" fill=\"white\">b</text>\n",
       "</a>\n",
       "</g>\n",
       "</g>\n",
       "<!-- b&#45;&gt;y -->\n",
       "<g id=\"edge4\" class=\"edge\">\n",
       "<title>b-&gt;y</title>\n",
       "<g id=\"a_edge4\"><a xlink:title=\"(2, 3) : \">\n",
       "<path fill=\"none\" stroke=\"#4a4a4a\" d=\"M55,-71.7C55,-63.98 55,-54.71 55,-46.11\"/>\n",
       "<polygon fill=\"#4a4a4a\" stroke=\"#4a4a4a\" points=\"58.5,-46.1 55,-36.1 51.5,-46.1 58.5,-46.1\"/>\n",
       "</a>\n",
       "</g>\n",
       "</g>\n",
       "<!-- p&#45;&gt;b -->\n",
       "<g id=\"edge2\" class=\"edge\">\n",
       "<title>p-&gt;b</title>\n",
       "<g id=\"a_edge2\"><a xlink:title=\"(1, 2) : \">\n",
       "<path fill=\"none\" stroke=\"#4a4a4a\" d=\"M55,-143.7C55,-135.98 55,-126.71 55,-118.11\"/>\n",
       "<polygon fill=\"#4a4a4a\" stroke=\"#4a4a4a\" points=\"58.5,-118.1 55,-108.1 51.5,-118.1 58.5,-118.1\"/>\n",
       "</a>\n",
       "</g>\n",
       "</g>\n",
       "<!-- p&#45;&gt;y -->\n",
       "<g id=\"edge5\" class=\"edge\">\n",
       "<title>p-&gt;y</title>\n",
       "<g id=\"a_edge5\"><a xlink:title=\"(1, 3) : \">\n",
       "<path fill=\"none\" stroke=\"#4a4a4a\" d=\"M68.75,-146.07C76.96,-136.1 86.62,-122.25 91,-108 95.7,-92.71 95.7,-87.29 91,-72 87.71,-61.31 81.46,-50.85 75.07,-42.08\"/>\n",
       "<polygon fill=\"#4a4a4a\" stroke=\"#4a4a4a\" points=\"77.65,-39.69 68.75,-33.93 72.12,-43.98 77.65,-39.69\"/>\n",
       "</a>\n",
       "</g>\n",
       "</g>\n",
       "</g>\n",
       "</svg>"
      ],
      "text/plain": [
       "<IPython.core.display.SVG object>"
      ]
     },
     "metadata": {},
     "output_type": "display_data"
    }
   ],
   "source": [
    "#http://www.stats.ox.ac.uk/~lienart/gml15_causalinference.html\n",
    "\n",
    "m1 = gum.BayesNet()\n",
    "m1.add(gum.LabelizedVariable(\"a\"))\n",
    "m1.add(gum.LabelizedVariable(\"p\"))\n",
    "m1.add(gum.LabelizedVariable(\"b\"))\n",
    "m1.add(gum.LabelizedVariable(\"y\"))\n",
    "\n",
    "m1.addArc(0,1)\n",
    "m1.addArc(1,2)\n",
    "m1.addArc(0,3)\n",
    "m1.addArc(1,3)\n",
    "m1.addArc(2,3)\n",
    "gnb.showBN(m1)\n",
    "d = csl.CausalModel(m1)"
   ]
  },
  {
   "cell_type": "code",
   "execution_count": 25,
   "metadata": {
    "ExecuteTime": {
     "end_time": "2019-03-30T09:47:45.120857Z",
     "start_time": "2019-03-30T09:47:45.114350Z"
    },
    "execution": {
     "iopub.execute_input": "2021-12-06T01:29:10.172531Z",
     "iopub.status.busy": "2021-12-06T01:29:10.172531Z",
     "iopub.status.idle": "2021-12-06T01:29:10.186529Z",
     "shell.execute_reply": "2021-12-06T01:29:10.185526Z",
     "shell.execute_reply.started": "2021-12-06T01:29:10.172531Z"
    }
   },
   "outputs": [
    {
     "data": {
      "text/latex": [
       "$\\displaystyle \\sum_{p}{P\\left(y\\mid a,b,p\\right) \\cdot P\\left(p\\mid a\\right)}$"
      ],
      "text/plain": [
       "<IPython.core.display.Math object>"
      ]
     },
     "metadata": {},
     "output_type": "display_data"
    }
   ],
   "source": [
    "display(Math(csl.identifyingIntervention(d,{\"y\"}, {\"a\",\"b\"}).toLatex()))"
   ]
  },
  {
   "cell_type": "markdown",
   "metadata": {},
   "source": [
    "## example f"
   ]
  },
  {
   "cell_type": "code",
   "execution_count": 26,
   "metadata": {
    "ExecuteTime": {
     "end_time": "2019-03-30T09:47:47.074252Z",
     "start_time": "2019-03-30T09:47:45.123670Z"
    },
    "execution": {
     "iopub.execute_input": "2021-12-06T01:29:10.187529Z",
     "iopub.status.busy": "2021-12-06T01:29:10.187529Z",
     "iopub.status.idle": "2021-12-06T01:29:10.328530Z",
     "shell.execute_reply": "2021-12-06T01:29:10.327532Z",
     "shell.execute_reply.started": "2021-12-06T01:29:10.187529Z"
    }
   },
   "outputs": [
    {
     "data": {
      "image/svg+xml": [
       "<svg xmlns=\"http://www.w3.org/2000/svg\" xmlns:xlink=\"http://www.w3.org/1999/xlink\" width=\"163pt\" height=\"353pt\" viewBox=\"0.00 0.00 163.12 352.57\">\n",
       "<g id=\"graph0\" class=\"graph\" transform=\"scale(1 1) rotate(0) translate(4 348.57)\">\n",
       "<title>G</title>\n",
       "<!-- l1 -->\n",
       "<g id=\"node1\" class=\"node\">\n",
       "<title>l1</title>\n",
       "<ellipse fill=\"#404040\" stroke=\"#4a4a4a\" cx=\"54\" cy=\"-316.28\" rx=\"1.8\" ry=\"1.8\"/>\n",
       "</g>\n",
       "<!-- X -->\n",
       "<g id=\"node3\" class=\"node\">\n",
       "<title>X</title>\n",
       "<ellipse fill=\"#404040\" stroke=\"#4a4a4a\" cx=\"27\" cy=\"-234\" rx=\"27\" ry=\"18\"/>\n",
       "<text text-anchor=\"middle\" x=\"27\" y=\"-230.3\" font-family=\"Times New Roman,serif\" font-size=\"14.00\" fill=\"white\">X</text>\n",
       "</g>\n",
       "<!-- l1&#45;&gt;X -->\n",
       "<g id=\"edge2\" class=\"edge\">\n",
       "<title>l1-&gt;X</title>\n",
       "<path fill=\"none\" stroke=\"#4a4a4a\" stroke-dasharray=\"5,2\" d=\"M53.7,-314.38C51.94,-309.17 42.94,-282.41 35.87,-261.38\"/>\n",
       "<polygon fill=\"#4a4a4a\" stroke=\"#4a4a4a\" points=\"39.1,-260 32.59,-251.63 32.46,-262.23 39.1,-260\"/>\n",
       "</g>\n",
       "<!-- Z1 -->\n",
       "<g id=\"node5\" class=\"node\">\n",
       "<title>Z1</title>\n",
       "<ellipse fill=\"#404040\" stroke=\"#4a4a4a\" cx=\"82\" cy=\"-162\" rx=\"27\" ry=\"18\"/>\n",
       "<text text-anchor=\"middle\" x=\"82\" y=\"-158.3\" font-family=\"Times New Roman,serif\" font-size=\"14.00\" fill=\"white\">Z1</text>\n",
       "</g>\n",
       "<!-- l1&#45;&gt;Z1 -->\n",
       "<g id=\"edge6\" class=\"edge\">\n",
       "<title>l1-&gt;Z1</title>\n",
       "<path fill=\"none\" stroke=\"#4a4a4a\" stroke-dasharray=\"5,2\" d=\"M54.18,-314.31C55.89,-304.99 69.51,-230.91 77.04,-189.97\"/>\n",
       "<polygon fill=\"#4a4a4a\" stroke=\"#4a4a4a\" points=\"80.49,-190.57 78.86,-180.1 73.61,-189.3 80.49,-190.57\"/>\n",
       "</g>\n",
       "<!-- l2 -->\n",
       "<g id=\"node2\" class=\"node\">\n",
       "<title>l2</title>\n",
       "<ellipse fill=\"#404040\" stroke=\"#4a4a4a\" cx=\"143\" cy=\"-234\" rx=\"1.8\" ry=\"1.8\"/>\n",
       "</g>\n",
       "<!-- Y -->\n",
       "<g id=\"node4\" class=\"node\">\n",
       "<title>Y</title>\n",
       "<ellipse fill=\"#404040\" stroke=\"#4a4a4a\" cx=\"76\" cy=\"-18\" rx=\"27\" ry=\"18\"/>\n",
       "<text text-anchor=\"middle\" x=\"76\" y=\"-14.3\" font-family=\"Times New Roman,serif\" font-size=\"14.00\" fill=\"white\">Y</text>\n",
       "</g>\n",
       "<!-- l2&#45;&gt;Y -->\n",
       "<g id=\"edge5\" class=\"edge\">\n",
       "<title>l2-&gt;Y</title>\n",
       "<path fill=\"none\" stroke=\"#4a4a4a\" stroke-dasharray=\"5,2\" d=\"M143.31,-231.9C146.28,-221.06 169.12,-132.45 140,-72 132.68,-56.79 118.68,-44.42 105.64,-35.46\"/>\n",
       "<polygon fill=\"#4a4a4a\" stroke=\"#4a4a4a\" points=\"107.16,-32.28 96.85,-29.81 103.37,-38.16 107.16,-32.28\"/>\n",
       "</g>\n",
       "<!-- l2&#45;&gt;Z1 -->\n",
       "<g id=\"edge9\" class=\"edge\">\n",
       "<title>l2-&gt;Z1</title>\n",
       "<path fill=\"none\" stroke=\"#4a4a4a\" stroke-dasharray=\"5,2\" d=\"M142.31,-232.21C138.34,-227.65 117.88,-204.18 101.88,-185.81\"/>\n",
       "<polygon fill=\"#4a4a4a\" stroke=\"#4a4a4a\" points=\"104.13,-183.06 94.92,-177.82 98.85,-187.66 104.13,-183.06\"/>\n",
       "</g>\n",
       "<!-- X&#45;&gt;Y -->\n",
       "<g id=\"edge1\" class=\"edge\">\n",
       "<title>X-&gt;Y</title>\n",
       "<path fill=\"none\" stroke=\"#4a4a4a\" d=\"M29.43,-215.82C35.4,-186.39 48.32,-124.05 61.03,-71.76 63.09,-63.3 65.46,-54.12 67.66,-45.82\"/>\n",
       "<path fill=\"none\" stroke=\"#4a4a4a\" d=\"M31.39,-216.22C37.36,-186.79 50.28,-124.46 62.97,-72.24 65.02,-63.8 67.4,-54.62 69.59,-46.33\"/>\n",
       "<polygon fill=\"#4a4a4a\" stroke=\"#4a4a4a\" points=\"72.08,-46.71 71.29,-36.14 65.32,-44.9 72.08,-46.71\"/>\n",
       "</g>\n",
       "<!-- X&#45;&gt;Z1 -->\n",
       "<g id=\"edge8\" class=\"edge\">\n",
       "<title>X-&gt;Z1</title>\n",
       "<path fill=\"none\" stroke=\"#4a4a4a\" d=\"M38.15,-217.19C45.43,-207.93 54.88,-195.9 63.07,-185.48\"/>\n",
       "<path fill=\"none\" stroke=\"#4a4a4a\" d=\"M39.72,-218.43C47,-209.16 56.45,-197.14 64.64,-186.71\"/>\n",
       "<polygon fill=\"#4a4a4a\" stroke=\"#4a4a4a\" points=\"66.66,-188.18 70.09,-178.16 61.16,-183.86 66.66,-188.18\"/>\n",
       "</g>\n",
       "<!-- Z1&#45;&gt;Y -->\n",
       "<g id=\"edge3\" class=\"edge\">\n",
       "<title>Z1-&gt;Y</title>\n",
       "<path fill=\"none\" stroke=\"#4a4a4a\" d=\"M75.37,-144.33C72.21,-134 68.63,-120.53 67.01,-108.13 64.32,-87.26 66.65,-63.81 69.48,-46.11\"/>\n",
       "<path fill=\"none\" stroke=\"#4a4a4a\" d=\"M77.28,-143.75C74.14,-133.49 70.56,-120.01 68.99,-107.87 66.32,-87.46 68.64,-64.01 71.45,-46.42\"/>\n",
       "<polygon fill=\"#4a4a4a\" stroke=\"#4a4a4a\" points=\"73.97,-46.56 72.25,-36.11 67.07,-45.35 73.97,-46.56\"/>\n",
       "</g>\n",
       "<!-- Z2 -->\n",
       "<g id=\"node6\" class=\"node\">\n",
       "<title>Z2</title>\n",
       "<ellipse fill=\"#404040\" stroke=\"#4a4a4a\" cx=\"104\" cy=\"-90\" rx=\"27\" ry=\"18\"/>\n",
       "<text text-anchor=\"middle\" x=\"104\" y=\"-86.3\" font-family=\"Times New Roman,serif\" font-size=\"14.00\" fill=\"white\">Z2</text>\n",
       "</g>\n",
       "<!-- Z1&#45;&gt;Z2 -->\n",
       "<g id=\"edge7\" class=\"edge\">\n",
       "<title>Z1-&gt;Z2</title>\n",
       "<path fill=\"none\" stroke=\"#4a4a4a\" d=\"M86.37,-143.76C88.88,-135.76 91.94,-126.03 94.75,-117.1\"/>\n",
       "<path fill=\"none\" stroke=\"#4a4a4a\" d=\"M88.28,-144.35C90.79,-136.36 93.85,-126.63 96.66,-117.7\"/>\n",
       "<polygon fill=\"#4a4a4a\" stroke=\"#4a4a4a\" points=\"99.06,-118.38 98.72,-107.79 92.39,-116.28 99.06,-118.38\"/>\n",
       "</g>\n",
       "<!-- Z2&#45;&gt;Y -->\n",
       "<g id=\"edge4\" class=\"edge\">\n",
       "<title>Z2-&gt;Y</title>\n",
       "<path fill=\"none\" stroke=\"#4a4a4a\" d=\"M96.44,-72.78C93.16,-64.59 89.13,-54.51 85.45,-45.33\"/>\n",
       "<path fill=\"none\" stroke=\"#4a4a4a\" d=\"M98.29,-72.04C95.02,-63.85 90.98,-53.77 87.31,-44.58\"/>\n",
       "<polygon fill=\"#4a4a4a\" stroke=\"#4a4a4a\" points=\"89.55,-43.45 82.59,-35.47 83.05,-46.05 89.55,-43.45\"/>\n",
       "</g>\n",
       "<!-- \\n\\n -->\n",
       "<g id=\"node7\" class=\"node\">\n",
       "<title>\\n\\n</title>\n",
       "<ellipse fill=\"#404040\" stroke=\"#4a4a4a\" cx=\"101\" cy=\"-316.28\" rx=\"27\" ry=\"28.07\"/>\n",
       "</g>\n",
       "</g>\n",
       "</svg>"
      ],
      "text/plain": [
       "<IPython.core.display.SVG object>"
      ]
     },
     "metadata": {},
     "output_type": "display_data"
    }
   ],
   "source": [
    "#https://cse.sc.edu/~mgv/talks/AIM2010.ppt , example (f)\n",
    "\n",
    "m1 = gum.BayesNet()\n",
    "m1.add(gum.LabelizedVariable(\"X\"))\n",
    "m1.add(gum.LabelizedVariable(\"Y\"))\n",
    "m1.add(gum.LabelizedVariable(\"Z1\"))\n",
    "m1.add(gum.LabelizedVariable(\"Z2\"))\n",
    "\n",
    "m1.addArc(0,1)\n",
    "m1.addArc(0,2)\n",
    "m1.addArc(2,3)\n",
    "m1.addArc(3,1)\n",
    "m1.addArc(2,1)\n",
    "d = csl.CausalModel(m1, [(\"l1\",[\"X\",\"Z1\"]) ,(\"l2\",[\"Y\",\"Z1\"])],True)\n",
    "cslnb.showCausalModel(d)"
   ]
  },
  {
   "cell_type": "code",
   "execution_count": 27,
   "metadata": {
    "ExecuteTime": {
     "end_time": "2019-03-30T09:47:47.084796Z",
     "start_time": "2019-03-30T09:47:47.078258Z"
    },
    "execution": {
     "iopub.execute_input": "2021-12-06T01:29:10.329526Z",
     "iopub.status.busy": "2021-12-06T01:29:10.329526Z",
     "iopub.status.idle": "2021-12-06T01:29:10.344528Z",
     "shell.execute_reply": "2021-12-06T01:29:10.343530Z",
     "shell.execute_reply.started": "2021-12-06T01:29:10.329526Z"
    }
   },
   "outputs": [
    {
     "name": "stdout",
     "output_type": "stream",
     "text": [
      "Hedge exception : Hedge Error: G={'X', 'Z1', 'Y'}, G[S]={'Z1', 'Y'}\n"
     ]
    }
   ],
   "source": [
    "try:\n",
    "    display(Math(csl.identifyingIntervention (d,{\"Y\"}, {\"X\"}).toLatex()))\n",
    "except csl.HedgeException as e:\n",
    "    print(\"Hedge exception : {}\".format(e))"
   ]
  },
  {
   "cell_type": "markdown",
   "metadata": {},
   "source": [
    "# Example [Pearl,2009] Causality, p66"
   ]
  },
  {
   "cell_type": "code",
   "execution_count": 28,
   "metadata": {
    "ExecuteTime": {
     "end_time": "2019-03-30T09:48:38.071599Z",
     "start_time": "2019-03-30T09:48:34.411764Z"
    },
    "execution": {
     "iopub.execute_input": "2021-12-06T01:29:10.345526Z",
     "iopub.status.busy": "2021-12-06T01:29:10.345526Z",
     "iopub.status.idle": "2021-12-06T01:29:10.659526Z",
     "shell.execute_reply": "2021-12-06T01:29:10.659526Z",
     "shell.execute_reply.started": "2021-12-06T01:29:10.345526Z"
    }
   },
   "outputs": [
    {
     "data": {
      "image/svg+xml": [
       "<svg xmlns=\"http://www.w3.org/2000/svg\" xmlns:xlink=\"http://www.w3.org/1999/xlink\" width=\"172pt\" height=\"332pt\" viewBox=\"0.00 0.00 172.00 332.00\">\n",
       "<g id=\"graph0\" class=\"graph\" transform=\"scale(1 1) rotate(0) translate(4 328)\">\n",
       "<title>G</title>\n",
       "<!-- Z3 -->\n",
       "<g id=\"node1\" class=\"node\">\n",
       "<title>Z3</title>\n",
       "<g id=\"a_node1\"><a xlink:title=\"(2) Z3\">\n",
       "<ellipse fill=\"#404040\" stroke=\"black\" cx=\"27\" cy=\"-90\" rx=\"27\" ry=\"18\"/>\n",
       "<text text-anchor=\"middle\" x=\"27\" y=\"-86.3\" font-family=\"Times New Roman,serif\" font-size=\"14.00\" fill=\"white\">Z3</text>\n",
       "</a>\n",
       "</g>\n",
       "</g>\n",
       "<!-- Y -->\n",
       "<g id=\"node4\" class=\"node\">\n",
       "<title>Y</title>\n",
       "<g id=\"a_node4\"><a xlink:title=\"(3) Y\">\n",
       "<ellipse fill=\"#404040\" stroke=\"black\" cx=\"82\" cy=\"-18\" rx=\"27\" ry=\"18\"/>\n",
       "<text text-anchor=\"middle\" x=\"82\" y=\"-14.3\" font-family=\"Times New Roman,serif\" font-size=\"14.00\" fill=\"white\">Y</text>\n",
       "</a>\n",
       "</g>\n",
       "</g>\n",
       "<!-- Z3&#45;&gt;Y -->\n",
       "<g id=\"edge7\" class=\"edge\">\n",
       "<title>Z3-&gt;Y</title>\n",
       "<g id=\"a_edge7\"><a xlink:title=\"(2, 3) : \">\n",
       "<path fill=\"none\" stroke=\"#4a4a4a\" d=\"M38.93,-73.81C46.21,-64.55 55.66,-52.52 63.85,-42.09\"/>\n",
       "<polygon fill=\"#4a4a4a\" stroke=\"#4a4a4a\" points=\"66.66,-44.18 70.09,-34.16 61.16,-39.86 66.66,-44.18\"/>\n",
       "</a>\n",
       "</g>\n",
       "</g>\n",
       "<!-- X -->\n",
       "<g id=\"node2\" class=\"node\">\n",
       "<title>X</title>\n",
       "<g id=\"a_node2\"><a xlink:title=\"(4) X\">\n",
       "<ellipse fill=\"#404040\" stroke=\"black\" cx=\"82\" cy=\"-234\" rx=\"27\" ry=\"18\"/>\n",
       "<text text-anchor=\"middle\" x=\"82\" y=\"-230.3\" font-family=\"Times New Roman,serif\" font-size=\"14.00\" fill=\"white\">X</text>\n",
       "</a>\n",
       "</g>\n",
       "</g>\n",
       "<!-- X&#45;&gt;Z3 -->\n",
       "<g id=\"edge6\" class=\"edge\">\n",
       "<title>X-&gt;Z3</title>\n",
       "<g id=\"a_edge6\"><a xlink:title=\"(4, 2) : \">\n",
       "<path fill=\"none\" stroke=\"#4a4a4a\" d=\"M75.58,-216.43C66.15,-192.09 48.46,-146.4 37.23,-117.4\"/>\n",
       "<polygon fill=\"#4a4a4a\" stroke=\"#4a4a4a\" points=\"40.42,-115.96 33.55,-107.9 33.89,-118.49 40.42,-115.96\"/>\n",
       "</a>\n",
       "</g>\n",
       "</g>\n",
       "<!-- X&#45;&gt;Y -->\n",
       "<g id=\"edge5\" class=\"edge\">\n",
       "<title>X-&gt;Y</title>\n",
       "<g id=\"a_edge5\"><a xlink:title=\"(4, 3) : \">\n",
       "<path fill=\"none\" stroke=\"#4a4a4a\" d=\"M82,-215.85C82,-178.83 82,-91.18 82,-46.39\"/>\n",
       "<polygon fill=\"#4a4a4a\" stroke=\"#4a4a4a\" points=\"85.5,-46.23 82,-36.23 78.5,-46.23 85.5,-46.23\"/>\n",
       "</a>\n",
       "</g>\n",
       "</g>\n",
       "<!-- Z2 -->\n",
       "<g id=\"node5\" class=\"node\">\n",
       "<title>Z2</title>\n",
       "<g id=\"a_node5\"><a xlink:title=\"(1) Z2\">\n",
       "<ellipse fill=\"#404040\" stroke=\"black\" cx=\"137\" cy=\"-162\" rx=\"27\" ry=\"18\"/>\n",
       "<text text-anchor=\"middle\" x=\"137\" y=\"-158.3\" font-family=\"Times New Roman,serif\" font-size=\"14.00\" fill=\"white\">Z2</text>\n",
       "</a>\n",
       "</g>\n",
       "</g>\n",
       "<!-- X&#45;&gt;Z2 -->\n",
       "<g id=\"edge4\" class=\"edge\">\n",
       "<title>X-&gt;Z2</title>\n",
       "<g id=\"a_edge4\"><a xlink:title=\"(4, 1) : \">\n",
       "<path fill=\"none\" stroke=\"#4a4a4a\" d=\"M93.93,-217.81C101.21,-208.55 110.66,-196.52 118.85,-186.09\"/>\n",
       "<polygon fill=\"#4a4a4a\" stroke=\"#4a4a4a\" points=\"121.66,-188.18 125.09,-178.16 116.16,-183.86 121.66,-188.18\"/>\n",
       "</a>\n",
       "</g>\n",
       "</g>\n",
       "<!-- Z1 -->\n",
       "<g id=\"node3\" class=\"node\">\n",
       "<title>Z1</title>\n",
       "<g id=\"a_node3\"><a xlink:title=\"(0) Z1\">\n",
       "<ellipse fill=\"#404040\" stroke=\"black\" cx=\"82\" cy=\"-306\" rx=\"27\" ry=\"18\"/>\n",
       "<text text-anchor=\"middle\" x=\"82\" y=\"-302.3\" font-family=\"Times New Roman,serif\" font-size=\"14.00\" fill=\"white\">Z1</text>\n",
       "</a>\n",
       "</g>\n",
       "</g>\n",
       "<!-- Z1&#45;&gt;Z3 -->\n",
       "<g id=\"edge8\" class=\"edge\">\n",
       "<title>Z1-&gt;Z3</title>\n",
       "<g id=\"a_edge8\"><a xlink:title=\"(0, 2) : \">\n",
       "<path fill=\"none\" stroke=\"#4a4a4a\" d=\"M68.81,-289.88C60.83,-279.83 51.21,-265.97 46,-252 29.3,-207.22 26.39,-151.01 26.33,-118.24\"/>\n",
       "<polygon fill=\"#4a4a4a\" stroke=\"#4a4a4a\" points=\"29.83,-118.09 26.4,-108.07 22.83,-118.04 29.83,-118.09\"/>\n",
       "</a>\n",
       "</g>\n",
       "</g>\n",
       "<!-- Z1&#45;&gt;X -->\n",
       "<g id=\"edge3\" class=\"edge\">\n",
       "<title>Z1-&gt;X</title>\n",
       "<g id=\"a_edge3\"><a xlink:title=\"(0, 4) : \">\n",
       "<path fill=\"none\" stroke=\"#4a4a4a\" d=\"M82,-287.7C82,-279.98 82,-270.71 82,-262.11\"/>\n",
       "<polygon fill=\"#4a4a4a\" stroke=\"#4a4a4a\" points=\"85.5,-262.1 82,-252.1 78.5,-262.1 85.5,-262.1\"/>\n",
       "</a>\n",
       "</g>\n",
       "</g>\n",
       "<!-- Z1&#45;&gt;Z2 -->\n",
       "<g id=\"edge1\" class=\"edge\">\n",
       "<title>Z1-&gt;Z2</title>\n",
       "<g id=\"a_edge1\"><a xlink:title=\"(0, 1) : \">\n",
       "<path fill=\"none\" stroke=\"#4a4a4a\" d=\"M94.75,-289.7C102.56,-279.59 112.15,-265.71 118,-252 126.46,-232.17 131.3,-208.2 133.98,-190.13\"/>\n",
       "<polygon fill=\"#4a4a4a\" stroke=\"#4a4a4a\" points=\"137.48,-190.37 135.34,-179.99 130.54,-189.43 137.48,-190.37\"/>\n",
       "</a>\n",
       "</g>\n",
       "</g>\n",
       "<!-- Z2&#45;&gt;Z3 -->\n",
       "<g id=\"edge2\" class=\"edge\">\n",
       "<title>Z2-&gt;Z3</title>\n",
       "<g id=\"a_edge2\"><a xlink:title=\"(1, 2) : \">\n",
       "<path fill=\"none\" stroke=\"#4a4a4a\" d=\"M117.84,-148.81C100.33,-137.67 74.24,-121.06 54.51,-108.5\"/>\n",
       "<polygon fill=\"#4a4a4a\" stroke=\"#4a4a4a\" points=\"56.26,-105.47 45.94,-103.05 52.5,-111.37 56.26,-105.47\"/>\n",
       "</a>\n",
       "</g>\n",
       "</g>\n",
       "<!-- Z2&#45;&gt;Y -->\n",
       "<g id=\"edge9\" class=\"edge\">\n",
       "<title>Z2-&gt;Y</title>\n",
       "<g id=\"a_edge9\"><a xlink:title=\"(1, 3) : \">\n",
       "<path fill=\"none\" stroke=\"#4a4a4a\" d=\"M130.58,-144.43C121.15,-120.09 103.46,-74.4 92.23,-45.4\"/>\n",
       "<polygon fill=\"#4a4a4a\" stroke=\"#4a4a4a\" points=\"95.42,-43.96 88.55,-35.9 88.89,-46.49 95.42,-43.96\"/>\n",
       "</a>\n",
       "</g>\n",
       "</g>\n",
       "</g>\n",
       "</svg>"
      ],
      "text/plain": [
       "<IPython.core.display.SVG object>"
      ]
     },
     "metadata": {},
     "output_type": "display_data"
    },
    {
     "data": {
      "text/html": [
       "<table style=\"border-style: hidden; border-collapse: collapse;\" width=\"100%\"><tr><td style=\"border-top:hidden;border-bottom:hidden;\"><div align=\"center\" style=\"\"><svg xmlns=\"http://www.w3.org/2000/svg\" xmlns:xlink=\"http://www.w3.org/1999/xlink\" width=\"168pt\" height=\"353pt\" viewBox=\"0.00 0.00 168.00 352.57\">\n",
       "<g id=\"graph0\" class=\"graph\" transform=\"scale(1 1) rotate(0) translate(4 348.57)\">\n",
       "<title>G</title>\n",
       "<!-- Z0 -->\n",
       "<g id=\"node1\" class=\"node\">\n",
       "<title>Z0</title>\n",
       "<ellipse fill=\"#404040\" stroke=\"#4a4a4a\" cx=\"61\" cy=\"-316.28\" rx=\"1.8\" ry=\"1.8\"/>\n",
       "</g>\n",
       "<!-- Z1 -->\n",
       "<g id=\"node2\" class=\"node\">\n",
       "<title>Z1</title>\n",
       "<ellipse fill=\"#404040\" stroke=\"#4a4a4a\" cx=\"61\" cy=\"-234\" rx=\"27\" ry=\"18\"/>\n",
       "<text text-anchor=\"middle\" x=\"61\" y=\"-230.3\" font-family=\"Times New Roman,serif\" font-size=\"14.00\" fill=\"white\">Z1</text>\n",
       "</g>\n",
       "<!-- Z0&#45;&gt;Z1 -->\n",
       "<g id=\"edge7\" class=\"edge\">\n",
       "<title>Z0-&gt;Z1</title>\n",
       "<path fill=\"none\" stroke=\"#4a4a4a\" stroke-dasharray=\"5,2\" d=\"M61,-314.38C61,-309.22 61,-282.95 61,-262.02\"/>\n",
       "<polygon fill=\"#4a4a4a\" stroke=\"#4a4a4a\" points=\"64.5,-262 61,-252 57.5,-262 64.5,-262\"/>\n",
       "</g>\n",
       "<!-- Z3 -->\n",
       "<g id=\"node4\" class=\"node\">\n",
       "<title>Z3</title>\n",
       "<ellipse fill=\"#404040\" stroke=\"#4a4a4a\" cx=\"27\" cy=\"-90\" rx=\"27\" ry=\"18\"/>\n",
       "<text text-anchor=\"middle\" x=\"27\" y=\"-86.3\" font-family=\"Times New Roman,serif\" font-size=\"14.00\" fill=\"white\">Z3</text>\n",
       "</g>\n",
       "<!-- Z0&#45;&gt;Z3 -->\n",
       "<g id=\"edge9\" class=\"edge\">\n",
       "<title>Z0-&gt;Z3</title>\n",
       "<path fill=\"none\" stroke=\"#4a4a4a\" stroke-dasharray=\"5,2\" d=\"M60.31,-314.47C55.97,-309.29 32.5,-280.35 25,-252 12.93,-206.35 17.65,-150.86 22.27,-118.38\"/>\n",
       "<polygon fill=\"#4a4a4a\" stroke=\"#4a4a4a\" points=\"25.76,-118.7 23.81,-108.29 18.84,-117.65 25.76,-118.7\"/>\n",
       "</g>\n",
       "<!-- X -->\n",
       "<g id=\"node6\" class=\"node\">\n",
       "<title>X</title>\n",
       "<ellipse fill=\"#404040\" stroke=\"#4a4a4a\" cx=\"133\" cy=\"-234\" rx=\"27\" ry=\"18\"/>\n",
       "<text text-anchor=\"middle\" x=\"133\" y=\"-230.3\" font-family=\"Times New Roman,serif\" font-size=\"14.00\" fill=\"white\">X</text>\n",
       "</g>\n",
       "<!-- Z0&#45;&gt;X -->\n",
       "<g id=\"edge5\" class=\"edge\">\n",
       "<title>Z0-&gt;X</title>\n",
       "<path fill=\"none\" stroke=\"#4a4a4a\" stroke-dasharray=\"5,2\" d=\"M61.25,-314.15C62.17,-310.23 65.6,-296.98 72,-288 81.37,-274.86 94.64,-262.82 106.41,-253.55\"/>\n",
       "<polygon fill=\"#4a4a4a\" stroke=\"#4a4a4a\" points=\"108.79,-256.14 114.64,-247.31 104.56,-250.56 108.79,-256.14\"/>\n",
       "</g>\n",
       "<!-- Z2 -->\n",
       "<g id=\"node3\" class=\"node\">\n",
       "<title>Z2</title>\n",
       "<ellipse fill=\"#404040\" stroke=\"#4a4a4a\" cx=\"69\" cy=\"-162\" rx=\"27\" ry=\"18\"/>\n",
       "<text text-anchor=\"middle\" x=\"69\" y=\"-158.3\" font-family=\"Times New Roman,serif\" font-size=\"14.00\" fill=\"white\">Z2</text>\n",
       "</g>\n",
       "<!-- Z1&#45;&gt;Z2 -->\n",
       "<g id=\"edge1\" class=\"edge\">\n",
       "<title>Z1-&gt;Z2</title>\n",
       "<path fill=\"none\" stroke=\"#4a4a4a\" d=\"M61.98,-215.58C62.87,-207.87 63.93,-198.6 64.91,-190\"/>\n",
       "<path fill=\"none\" stroke=\"#4a4a4a\" d=\"M63.97,-215.81C64.85,-208.1 65.91,-198.83 66.89,-190.23\"/>\n",
       "<polygon fill=\"#4a4a4a\" stroke=\"#4a4a4a\" points=\"69.39,-190.44 67.05,-180.1 62.43,-189.64 69.39,-190.44\"/>\n",
       "</g>\n",
       "<!-- Z2&#45;&gt;Z3 -->\n",
       "<g id=\"edge2\" class=\"edge\">\n",
       "<title>Z2-&gt;Z3</title>\n",
       "<path fill=\"none\" stroke=\"#4a4a4a\" d=\"M58.61,-145.63C53.48,-137.07 47.02,-126.31 41.22,-116.65\"/>\n",
       "<path fill=\"none\" stroke=\"#4a4a4a\" d=\"M60.33,-144.6C55.19,-136.04 48.74,-125.28 42.94,-115.62\"/>\n",
       "<polygon fill=\"#4a4a4a\" stroke=\"#4a4a4a\" points=\"44.93,-114.08 36.78,-107.31 38.93,-117.68 44.93,-114.08\"/>\n",
       "</g>\n",
       "<!-- Y -->\n",
       "<g id=\"node5\" class=\"node\">\n",
       "<title>Y</title>\n",
       "<ellipse fill=\"#404040\" stroke=\"#4a4a4a\" cx=\"82\" cy=\"-18\" rx=\"27\" ry=\"18\"/>\n",
       "<text text-anchor=\"middle\" x=\"82\" y=\"-14.3\" font-family=\"Times New Roman,serif\" font-size=\"14.00\" fill=\"white\">Y</text>\n",
       "</g>\n",
       "<!-- Z2&#45;&gt;Y -->\n",
       "<g id=\"edge8\" class=\"edge\">\n",
       "<title>Z2-&gt;Y</title>\n",
       "<path fill=\"none\" stroke=\"#4a4a4a\" d=\"M69.57,-143.78C71.79,-119.58 75.86,-75.12 78.5,-46.3\"/>\n",
       "<path fill=\"none\" stroke=\"#4a4a4a\" d=\"M71.56,-143.96C73.78,-119.76 77.85,-75.3 80.49,-46.48\"/>\n",
       "<polygon fill=\"#4a4a4a\" stroke=\"#4a4a4a\" points=\"83,-46.47 80.43,-36.19 76.03,-45.83 83,-46.47\"/>\n",
       "</g>\n",
       "<!-- Z3&#45;&gt;Y -->\n",
       "<g id=\"edge6\" class=\"edge\">\n",
       "<title>Z3-&gt;Y</title>\n",
       "<path fill=\"none\" stroke=\"#4a4a4a\" d=\"M38.15,-73.19C45.43,-63.93 54.88,-51.9 63.07,-41.48\"/>\n",
       "<path fill=\"none\" stroke=\"#4a4a4a\" d=\"M39.72,-74.43C47,-65.16 56.45,-53.14 64.64,-42.71\"/>\n",
       "<polygon fill=\"#4a4a4a\" stroke=\"#4a4a4a\" points=\"66.66,-44.18 70.09,-34.16 61.16,-39.86 66.66,-44.18\"/>\n",
       "</g>\n",
       "<!-- X&#45;&gt;Z2 -->\n",
       "<g id=\"edge3\" class=\"edge\">\n",
       "<title>X-&gt;Z2</title>\n",
       "<path fill=\"none\" stroke=\"#4a4a4a\" d=\"M118.69,-218.83C109.95,-209.27 98.43,-196.67 88.6,-185.92\"/>\n",
       "<path fill=\"none\" stroke=\"#4a4a4a\" d=\"M120.17,-217.48C111.43,-207.92 99.9,-195.32 90.08,-184.57\"/>\n",
       "<polygon fill=\"#4a4a4a\" stroke=\"#4a4a4a\" points=\"91.88,-182.84 82.55,-177.82 86.72,-187.57 91.88,-182.84\"/>\n",
       "</g>\n",
       "<!-- X&#45;&gt;Y -->\n",
       "<g id=\"edge4\" class=\"edge\">\n",
       "<title>X-&gt;Y</title>\n",
       "<path fill=\"none\" stroke=\"#4a4a4a\" d=\"M127.94,-216.08C119.08,-178.89 98.04,-90.61 87.41,-46\"/>\n",
       "<path fill=\"none\" stroke=\"#4a4a4a\" d=\"M129.89,-215.62C121.02,-178.43 99.98,-90.14 89.35,-45.54\"/>\n",
       "<polygon fill=\"#4a4a4a\" stroke=\"#4a4a4a\" points=\"91.76,-44.85 86.04,-35.94 84.95,-46.47 91.76,-44.85\"/>\n",
       "</g>\n",
       "<!-- \\n\\n -->\n",
       "<g id=\"node7\" class=\"node\">\n",
       "<title>\\n\\n</title>\n",
       "<ellipse fill=\"#404040\" stroke=\"#4a4a4a\" cx=\"108\" cy=\"-316.28\" rx=\"27\" ry=\"28.07\"/>\n",
       "</g>\n",
       "</g>\n",
       "</svg></div></td><td style=\"border-top:hidden;border-bottom:hidden;\"><div align=\"center\" style=\"\">$$\\begin{equation*}P( Y \\mid \\hookrightarrow\\mkern-6.5muX) = \\sum_{Z1,Z2,Z3}{P\\left(Y\\mid X,Z2,Z3\\right) \\cdot P\\left(Z2\\mid X,Z1\\right) \\cdot \\left(\\sum_{X'}{P\\left(X'\\mid Z1\\right) \\cdot P\\left(Z1\\right) \\cdot P\\left(Z3\\mid X',Z1,Z2\\right)}\\right)}\\end{equation*}$$</div></td><td style=\"border-top:hidden;border-bottom:hidden;\"><div align=\"center\" style=\"\"><table style=\"border:1px solid black;\">\n",
       "<tr><th colspan='1'></th>\n",
       "      <th colspan='2' style='border:1px solid black;color:black;background-color:#808080;'><center>Y</center>\n",
       "      </th></tr>\n",
       "<tr><th style='border:1px solid black;color:black;background-color:#808080'><center>X</center></th><th style='border:1px solid black;border-bottom-style: double;color:black;background-color:#BBBBBB'>\n",
       "      <center>0</center></th><th style='border:1px solid black;border-bottom-style: double;color:black;background-color:#BBBBBB'>\n",
       "      <center>1</center></th></tr>\n",
       "<tr><th style='border:1px solid black;color:black;background-color:#BBBBBB'><center>0</center></th><td style='color:black;background-color:#c7b664;text-align:right;'>0.4331</td><td style='color:black;background-color:#b6c764;text-align:right;'>0.5669</td></tr>\n",
       "<tr><th style='border:1px solid black;color:black;background-color:#BBBBBB'><center>1</center></th><td style='color:black;background-color:#c4b964;text-align:right;'>0.4552</td><td style='color:black;background-color:#b9c464;text-align:right;'>0.5448</td></tr>\n",
       "</table></div></td></tr><tr><td style=\"border-top:hidden;border-bottom:hidden;\"><div align=\"center\"><small>Causal Model</small></div></td><td style=\"border-top:hidden;border-bottom:hidden;\"><div align=\"center\"><small>Explanation : Do-calculus computations</small></div></td><td style=\"border-top:hidden;border-bottom:hidden;\"><div align=\"center\"><small>Impact : $P( Y \\mid \\hookrightarrow\\mkern-6.5muX)$</small></div></td></tr></table>"
      ],
      "text/plain": [
       "<IPython.core.display.HTML object>"
      ]
     },
     "metadata": {},
     "output_type": "display_data"
    }
   ],
   "source": [
    "bn = gum.fastBN(\"Z1->Z2->Z3->Y<-X->Z2;Z2->Y;Z1->X->Z3<-Z1\")\n",
    "gnb.showBN(bn)\n",
    "c = csl.CausalModel(bn, [(\"Z0\", (\"X\", \"Z1\", \"Z3\"))], False)\n",
    "\n",
    "formula, impact, explanation = csl.causalImpact(c, \"Y\", \"X\")\n",
    "cslnb.showCausalImpact(c,\"Y\",\"X\")"
   ]
  },
  {
   "cell_type": "code",
   "execution_count": null,
   "metadata": {},
   "outputs": [],
   "source": []
  }
 ],
 "metadata": {
  "anaconda-cloud": {},
  "hide_input": false,
  "kernelspec": {
   "display_name": "Python 3 (ipykernel)",
   "language": "python",
   "name": "python3"
  },
  "language_info": {
   "codemirror_mode": {
    "name": "ipython",
    "version": 3
   },
   "file_extension": ".py",
   "mimetype": "text/x-python",
   "name": "python",
   "nbconvert_exporter": "python",
   "pygments_lexer": "ipython3",
   "version": "3.10.0"
  },
  "toc": {
   "colors": {
    "hover_highlight": "#DAA520",
    "running_highlight": "#FF0000",
    "selected_highlight": "#FFD700"
   },
   "moveMenuLeft": true,
   "nav_menu": {
    "height": "193px",
    "width": "252px"
   },
   "navigate_menu": true,
   "number_sections": true,
   "sideBar": true,
   "threshold": 4,
   "toc_cell": false,
   "toc_section_display": "block",
   "toc_window_display": true,
   "widenNotebook": false
  }
 },
 "nbformat": 4,
 "nbformat_minor": 4
}
