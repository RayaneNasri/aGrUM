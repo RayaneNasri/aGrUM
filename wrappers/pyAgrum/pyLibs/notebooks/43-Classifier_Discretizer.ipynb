{
 "cells": [
  {
   "cell_type": "markdown",
   "metadata": {},
   "source": [
    "<a href=\"http://agrum.org\" target=\"blank\"><img src=\"http://agrum.gitlab.io/theme/img/logoAgrum.png\" align=\"left\" style=\"height:100px\"/></a><a rel=\"license\" href=\"http://creativecommons.org/licenses/by-nc/4.0/\"><img alt=\"Creative Commons License\" style=\"border-width:0\" src=\"https://i.creativecommons.org/l/by-nc/4.0/88x31.png\" /></a><br />This pyAgrum's notebook is licensed under a <a rel=\"license\" href=\"http://creativecommons.org/licenses/by-nc/4.0/\">Creative Commons Attribution-NonCommercial 4.0 International License</a>."
   ]
  },
  {
   "cell_type": "markdown",
   "metadata": {},
   "source": [
    "# The BNDiscretizer Class\n",
    "\n",
    "Most of the functionality of pyAgrum works only on discrete data. However data in the real world can be often continous. This class can be used to create dizcretized variables from continous data. Since this class was made for the purposes of the class BNClassifier, this class accepts data in the form of ndarrays. To transform data from a csv file to an ndarray we can use the function in BNClassifier XYfromCSV. "
   ]
  },
  {
   "cell_type": "markdown",
   "metadata": {},
   "source": [
    "# Creation of an instance and setting parameters\n",
    "\n",
    "To create an instance of this class we need to specify the default parameters (the discretization method and the number of bins) for discretizing data. We create a discretizer which uses the EWD (Equal Width Discretization) method with 5 bins. The threshold is used for determining if a variable is already discretized. In this case, if a variable has more than 10 unique values we treat it as continous. we can use the setDiscretizationParameters method to set the discretization parameters for a specific variable"
   ]
  },
  {
   "cell_type": "code",
   "execution_count": 1,
   "metadata": {},
   "outputs": [],
   "source": [
    "import pyAgrum.skbn as skbn\n",
    "\n",
    "discretizer=skbn.BNDiscretizer(defaultDiscretizationMethod='uniform',defaultNumberOfBins=5,discretizationThreshold=10)\n",
    "\n",
    "discretizer.setDiscretizationParameters('var4','quantile',10)\n",
    "\n",
    "discretizer.setDiscretizationParameters('var5','NoDiscretization',None)\n"
   ]
  },
  {
   "cell_type": "markdown",
   "metadata": {},
   "source": [
    "# Auditing data\n",
    "\n",
    "To see how certain data will be treated by the discretizer we can use the audit method."
   ]
  },
  {
   "cell_type": "code",
   "execution_count": 2,
   "metadata": {},
   "outputs": [
    {
     "name": "stdout",
     "output_type": "stream",
     "text": [
      "    var1 var2  var3    var4  var5\n",
      "0      1    a     1   1.110     1\n",
      "1      2    b     2   2.213     2\n",
      "2      3    c     3   3.330     3\n",
      "3      4    d     1   4.230     4\n",
      "4      5    e     2   5.420     5\n",
      "5      6    f     3   6.600     6\n",
      "6      7    g     1   7.500     7\n",
      "7      8    h     2   8.900     8\n",
      "8      9    i     3   9.190     9\n",
      "9     10    j     1  10.110    10\n",
      "10    11    k     2  11.120    11\n",
      "11     1    l     3  12.210    12\n",
      "12     2    m     1  13.300    13\n",
      "13     3    n     2  14.500    14\n",
      "\n",
      "** audit **\n",
      "- var1 : \n",
      "    + k : 5\n",
      "    + methode : uniform\n",
      "    + type : Continuous\n",
      "- var2 : \n",
      "    + methode : NoDiscretization\n",
      "    + k : None\n",
      "    + type : Discrete\n",
      "- var3 : \n",
      "    + methode : NoDiscretization\n",
      "    + k : None\n",
      "    + type : Discrete\n",
      "- var4 : \n",
      "    + k : 10\n",
      "    + methode : quantile\n",
      "    + type : Continuous\n",
      "- var5 : \n",
      "    + k : None\n",
      "    + methode : NoDiscretization\n",
      "    + type : Discrete\n"
     ]
    }
   ],
   "source": [
    "import pandas\n",
    "Xdict=dict()\n",
    "Xdict['var1']=[1,2,3,4,5,6,7,8,9,10,11,1,2,3]\n",
    "Xdict['var2']=['a','b','c','d','e','f','g','h','i','j','k','l','m','n']\n",
    "Xdict['var3']=[1,2,3,1,2,3,1,2,3,1,2,3,1,2]\n",
    "Xdict['var4']=[1.11,2.213,3.33,4.23,5.42,6.6,7.5,8.9,9.19,10.11,11.12,12.21,13.3,14.5]\n",
    "Xdict['var5']=[1,2,3,4,5,6,7,8,9,10,11,12,13,14]\n",
    "\n",
    "X=pandas.DataFrame.from_dict(Xdict)\n",
    "\n",
    "print(X)\n",
    "\n",
    "auditDict=discretizer.audit(X)\n",
    "\n",
    "print()\n",
    "print(\"** audit **\")\n",
    "for var in auditDict:\n",
    "    print(f\"- {var} : \")\n",
    "    for k,v in auditDict[var].items():\n",
    "        print(f\"    + {k} : {v}\")"
   ]
  },
  {
   "cell_type": "markdown",
   "metadata": {},
   "source": [
    "We can see that even though var2 has more unique values than var1 it is treated as a discrete variable. This is because the values of var2 are strings and therefore cannot be discretized."
   ]
  },
  {
   "cell_type": "markdown",
   "metadata": {},
   "source": [
    "# Creating variables from data\n",
    "\n",
    "To create variables from data we can use the createVariable method for each column in our data matrix. This will use the parameters that we have already set to create discrete (or discretized) variables from our data."
   ]
  },
  {
   "cell_type": "code",
   "execution_count": 3,
   "metadata": {},
   "outputs": [
    {
     "name": "stdout",
     "output_type": "stream",
     "text": [
      "var1:Discretized(<[-inf;3[,[3;5[,[5;7[,[7;9[,[9;inf]>)\n",
      "var2:Labelized(<a,b,c,d,e,f,g,h,i,j,k,l,m,n>)\n",
      "var3:Labelized(<1,2,3>)\n",
      "var4:Discretized(<[-inf;2.5481[,[2.5481;3.87[,[3.87;5.301[,[5.301;6.78[,[6.78;8.2[,[8.2;9.132[,[9.132;10.211[,[10.211;11.556[,[11.556;12.973[,[12.973;inf]>)\n",
      "var5:Labelized(<1,2,3,4,5,6,7,8,9,10,11,12,13,14>)\n"
     ]
    }
   ],
   "source": [
    "var1=discretizer.createVariable('var1',X['var1'])\n",
    "var2=discretizer.createVariable('var2',X['var2'])\n",
    "var3=discretizer.createVariable('var3',X['var3'])\n",
    "var4=discretizer.createVariable('var4',X['var4'])\n",
    "var5=discretizer.createVariable('var5',X['var5'])\n",
    "\n",
    "print(var1)\n",
    "print(var2)\n",
    "print(var3)\n",
    "print(var4)\n",
    "print(var5)"
   ]
  },
  {
   "cell_type": "markdown",
   "metadata": {},
   "source": [
    "For supervised discretization algorithms (MDLP and CAIM) the list of class labels for each datapoint is also needed.\n"
   ]
  },
  {
   "cell_type": "code",
   "execution_count": 4,
   "metadata": {},
   "outputs": [
    {
     "name": "stdout",
     "output_type": "stream",
     "text": [
      "var4:Discretized(<[-inf;10.615[,[10.615;inf]>)\n",
      "var4:Discretized(<[-inf;1.6615[,[1.6615;inf]>)\n"
     ]
    }
   ],
   "source": [
    "y=[True,False,False,True,False,False,True,True,False,False,True,True,False,True]\n",
    "\n",
    "discretizer.setDiscretizationParameters('var4','CAIM')\n",
    "var4=discretizer.createVariable('var4',X['var4'],y)\n",
    "print(var4)\n",
    "discretizer.setDiscretizationParameters('var4','MDLP')\n",
    "var4=discretizer.createVariable('var4',X['var4'],y)\n",
    "print(var4)\n"
   ]
  },
  {
   "cell_type": "markdown",
   "metadata": {},
   "source": [
    "The discretizer keeps track of the number of discretized variables created by it and the number of bins used to discretize them. To reset these two numbers to 0 we can use the clear method. We can also use it to clear the specific parameteres we have set for each variable."
   ]
  },
  {
   "cell_type": "code",
   "execution_count": 5,
   "metadata": {},
   "outputs": [
    {
     "name": "stdout",
     "output_type": "stream",
     "text": [
      "4\n",
      "19\n",
      "0\n",
      "0\n"
     ]
    },
    {
     "data": {
      "text/plain": [
       "{'var1': {'k': 5, 'methode': 'uniform', 'type': 'Continuous'},\n",
       " 'var2': {'methode': 'NoDiscretization', 'k': None, 'type': 'Discrete'},\n",
       " 'var3': {'methode': 'NoDiscretization', 'k': None, 'type': 'Discrete'},\n",
       " 'var4': {'k': 10, 'methode': 'MDLP', 'type': 'Continuous'},\n",
       " 'var5': {'k': None, 'methode': 'NoDiscretization', 'type': 'Discrete'}}"
      ]
     },
     "execution_count": 5,
     "metadata": {},
     "output_type": "execute_result"
    }
   ],
   "source": [
    "print(discretizer.numberOfContinous)\n",
    "print(discretizer.totalNumberOfBins)\n",
    "\n",
    "discretizer.clear()\n",
    "\n",
    "print(discretizer.numberOfContinous)\n",
    "print(discretizer.totalNumberOfBins)\n",
    "\n",
    "discretizer.audit(X)"
   ]
  },
  {
   "cell_type": "code",
   "execution_count": 6,
   "metadata": {
    "tags": []
   },
   "outputs": [
    {
     "data": {
      "text/plain": [
       "{'var1': {'k': 5, 'methode': 'uniform', 'type': 'Continuous'},\n",
       " 'var2': {'methode': 'NoDiscretization', 'k': None, 'type': 'Discrete'},\n",
       " 'var3': {'methode': 'NoDiscretization', 'k': None, 'type': 'Discrete'},\n",
       " 'var4': {'k': 5, 'methode': 'uniform', 'type': 'Continuous'},\n",
       " 'var5': {'k': 5, 'methode': 'uniform', 'type': 'Continuous'}}"
      ]
     },
     "execution_count": 6,
     "metadata": {},
     "output_type": "execute_result"
    }
   ],
   "source": [
    "discretizer.clear(True)\n",
    "discretizer.audit(X)"
   ]
  }
 ],
 "metadata": {
  "kernelspec": {
   "display_name": "Python 3 (ipykernel)",
   "language": "python",
   "name": "python3"
  },
  "language_info": {
   "codemirror_mode": {
    "name": "ipython",
    "version": 3
   },
   "file_extension": ".py",
   "mimetype": "text/x-python",
   "name": "python",
   "nbconvert_exporter": "python",
   "pygments_lexer": "ipython3",
   "version": "3.9.6"
  }
 },
 "nbformat": 4,
 "nbformat_minor": 4
}
