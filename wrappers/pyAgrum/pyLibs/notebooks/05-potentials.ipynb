{
 "cells": [
  {
   "cell_type": "markdown",
   "metadata": {},
   "source": [
    "<a href=\"http://agrum.org\" target=\"blank\"><img src=\"http://agrum.gitlab.io/theme/img/logoAgrum.png\" align=\"left\" style=\"height:100px\"/></a><a rel=\"license\" href=\"http://creativecommons.org/licenses/by-nc/4.0/\"><img alt=\"Creative Commons License\" style=\"border-width:0\" src=\"https://i.creativecommons.org/l/by-nc/4.0/88x31.png\" /></a><br />This pyAgrum's notebook is licensed under a <a rel=\"license\" href=\"http://creativecommons.org/licenses/by-nc/4.0/\">Creative Commons Attribution-NonCommercial 4.0 International License</a>."
   ]
  },
  {
   "cell_type": "markdown",
   "metadata": {},
   "source": [
    "# Potentials\n",
    "\n",
    "In *pyAgrum*, Potentials represent multi-dimensionnal arrays with (discrete) random variables attached to each dimension. This mathematical object have tensorial operators w.r.t. to the variables attached. "
   ]
  },
  {
   "cell_type": "code",
   "execution_count": 1,
   "metadata": {
    "ExecuteTime": {
     "end_time": "2019-02-25T16:02:22.747155Z",
     "start_time": "2019-02-25T16:02:22.531055Z"
    }
   },
   "outputs": [],
   "source": [
    "import pyAgrum as gum\n",
    "import pyAgrum.lib.notebook as gnb\n",
    "\n",
    "a,b,c=[gum.LabelizedVariable(s,s,2) for s in \"abc\"]"
   ]
  },
  {
   "cell_type": "markdown",
   "metadata": {},
   "source": [
    "# potential algebra"
   ]
  },
  {
   "cell_type": "code",
   "execution_count": 2,
   "metadata": {
    "ExecuteTime": {
     "end_time": "2019-02-25T16:02:22.753418Z",
     "start_time": "2019-02-25T16:02:22.749707Z"
    }
   },
   "outputs": [],
   "source": [
    "p1=gum.Potential().add(a).add(b).fillWith([1,2,3,4]).normalize()\n",
    "p2=gum.Potential().add(b).add(c).fillWith([4,5,2,3]).normalize()"
   ]
  },
  {
   "cell_type": "code",
   "execution_count": 3,
   "metadata": {
    "ExecuteTime": {
     "end_time": "2019-02-25T16:02:22.764375Z",
     "start_time": "2019-02-25T16:02:22.755155Z"
    }
   },
   "outputs": [
    {
     "data": {
      "text/html": [
       "<table style=\"border-style: hidden; border-collapse: collapse;\" width=\"100%\"><tr><td style=\"border-top:hidden;border-bottom:hidden;\"><div align=\"center\" style=\"\"><table style=\"border:1px solid black;\">\n",
       "<tr><th colspan='1'></th><th colspan='2' style='border:1px solid black;color:black;background-color:#808080;'><center>a</center></th></tr>\n",
       "<tr><th style='border:1px solid black;color:black;background-color:#808080'><center>b</center></th><th style='border:1px solid black;border-bottom-style: double;color:black;background-color:#BBBBBB'><center>0</center></th><th style='border:1px solid black;border-bottom-style: double;color:black;background-color:#BBBBBB'><center>1</center></th></tr>\n",
       "<tr><th style='border:1px solid black;color:black;background-color:#BBBBBB'><center>0</center></th><td style='color:black;background-color:#f28b64;text-align:right;'>0.1000</td><td style='color:black;background-color:#e59864;text-align:right;'>0.2000</td></tr>\n",
       "<tr><th style='border:1px solid black;color:black;background-color:#BBBBBB'><center>1</center></th><td style='color:black;background-color:#d8a564;text-align:right;'>0.3000</td><td style='color:black;background-color:#cbb264;text-align:right;'>0.4000</td></tr>\n",
       "</table></div></td><td style=\"border-top:hidden;border-bottom:hidden;\"><div align=\"center\" style=\"\"><table style=\"border:1px solid black;\">\n",
       "<tr><th colspan='1'></th><th colspan='2' style='border:1px solid black;color:black;background-color:#808080;'><center>b</center></th></tr>\n",
       "<tr><th style='border:1px solid black;color:black;background-color:#808080'><center>c</center></th><th style='border:1px solid black;border-bottom-style: double;color:black;background-color:#BBBBBB'><center>0</center></th><th style='border:1px solid black;border-bottom-style: double;color:black;background-color:#BBBBBB'><center>1</center></th></tr>\n",
       "<tr><th style='border:1px solid black;color:black;background-color:#BBBBBB'><center>0</center></th><td style='color:black;background-color:#daa364;text-align:right;'>0.2857</td><td style='color:black;background-color:#d1ac64;text-align:right;'>0.3571</td></tr>\n",
       "<tr><th style='border:1px solid black;color:black;background-color:#BBBBBB'><center>1</center></th><td style='color:black;background-color:#ec9164;text-align:right;'>0.1429</td><td style='color:black;background-color:#e39a64;text-align:right;'>0.2143</td></tr>\n",
       "</table></div></td><td style=\"border-top:hidden;border-bottom:hidden;\"><div align=\"center\" style=\"\"><table style=\"border:1px solid black;\">\n",
       "<tr><th colspan='2'></th><th colspan='2' style='border:1px solid black;color:black;background-color:#808080;'><center>b</center></th></tr>\n",
       "<tr><th style='border:1px solid black;color:black;background-color:#808080'><center>a</center></th><th style='border:1px solid black;color:black;background-color:#808080'><center>c</center></th><th style='border:1px solid black;border-bottom-style: double;color:black;background-color:#BBBBBB'><center>0</center></th><th style='border:1px solid black;border-bottom-style: double;color:black;background-color:#BBBBBB'><center>1</center></th></tr>\n",
       "<tr><th style='border:1px solid black;color:black;background-color:#BBBBBB;' rowspan = '2'><center>0</center></th><th style='border:1px solid black;color:black;background-color:#BBBBBB'><center>0</center></th><td style='text-align:right;'>0.3857</td><td style='text-align:right;'>0.6571</td></tr>\n",
       "<tr><th style='border:1px solid black;color:black;background-color:#BBBBBB'><center>1</center></th><td style='text-align:right;'>0.2429</td><td style='text-align:right;'>0.5143</td></tr>\n",
       "<tr><th style='border:1px solid black;color:black;background-color:#BBBBBB;' rowspan = '2'><center>1</center></th><th style='border:1px solid black;color:black;background-color:#BBBBBB'><center>0</center></th><td style='text-align:right;'>0.4857</td><td style='text-align:right;'>0.7571</td></tr>\n",
       "<tr><th style='border:1px solid black;color:black;background-color:#BBBBBB'><center>1</center></th><td style='text-align:right;'>0.3429</td><td style='text-align:right;'>0.6143</td></tr>\n",
       "</table></div></td></tr><tr><td style=\"border-top:hidden;border-bottom:hidden;\"><div align=\"center\"><small>p1</small></div></td><td style=\"border-top:hidden;border-bottom:hidden;\"><div align=\"center\"><small>p2</small></div></td><td style=\"border-top:hidden;border-bottom:hidden;\"><div align=\"center\"><small>p1+p2</small></div></td></tr></table>"
      ],
      "text/plain": [
       "<IPython.core.display.HTML object>"
      ]
     },
     "metadata": {},
     "output_type": "display_data"
    }
   ],
   "source": [
    "gnb.sideBySide(p1,p2,p1+p2,\n",
    "              captions=['p1','p2','p1+p2'])"
   ]
  },
  {
   "cell_type": "code",
   "execution_count": 4,
   "metadata": {
    "ExecuteTime": {
     "end_time": "2019-02-25T16:02:22.772619Z",
     "start_time": "2019-02-25T16:02:22.767436Z"
    }
   },
   "outputs": [
    {
     "data": {
      "text/html": [
       "<table style=\"border:1px solid black;\"><tr><th colspan='2'></th><th colspan='2' style='border:1px solid black;color:black;background-color:#808080;'><center>c</center></th></tr><tr><th style='border:1px solid black;color:black;background-color:#808080'><center>b</center></th><th style='border:1px solid black;color:black;background-color:#808080'><center>a</center></th><th style='border:1px solid black;border-bottom-style: double;color:black;background-color:#BBBBBB'><center>0</center></th><th style='border:1px solid black;border-bottom-style: double;color:black;background-color:#BBBBBB'><center>1</center></th></tr><tr><th style='border:1px solid black;color:black;background-color:#BBBBBB;' rowspan = '2'><center>0</center></th><th style='border:1px solid black;color:black;background-color:#BBBBBB'><center>0</center></th><td style='color:black;background-color:#cfae64;text-align:right;'>0.3699</td><td style='color:black;background-color:#d5a864;text-align:right;'>0.3208</td></tr><tr><th style='border:1px solid black;color:black;background-color:#BBBBBB'><center>1</center></th><td style='color:black;background-color:#ccb164;text-align:right;'>0.3908</td><td style='color:black;background-color:#d1ac64;text-align:right;'>0.3582</td></tr><tr><th style='border:1px solid black;color:black;background-color:#BBBBBB;' rowspan = '2'><center>1</center></th><th style='border:1px solid black;color:black;background-color:#BBBBBB'><center>0</center></th><td style='color:black;background-color:#aecf64;text-align:right;'>0.6301</td><td style='color:black;background-color:#a8d564;text-align:right;'>0.6792</td></tr><tr><th style='border:1px solid black;color:black;background-color:#BBBBBB'><center>1</center></th><td style='color:black;background-color:#b1cc64;text-align:right;'>0.6092</td><td style='color:black;background-color:#acd164;text-align:right;'>0.6418</td></tr></table>"
      ],
      "text/plain": [
       "<IPython.core.display.HTML object>"
      ]
     },
     "metadata": {},
     "output_type": "display_data"
    }
   ],
   "source": [
    "p3=p1+p2 \n",
    "gnb.showPotential(p3/p3.margSumOut([\"b\"]))"
   ]
  },
  {
   "cell_type": "code",
   "execution_count": 5,
   "metadata": {
    "ExecuteTime": {
     "end_time": "2019-02-25T16:02:22.780177Z",
     "start_time": "2019-02-25T16:02:22.775712Z"
    }
   },
   "outputs": [
    {
     "data": {
      "text/html": [
       "<table style=\"border-style: hidden; border-collapse: collapse;\" width=\"100%\"><tr><td style=\"border-top:hidden;border-bottom:hidden;\"><div align=\"center\" style=\"\"><table style=\"border:1px solid black;\">\n",
       "<tr><th colspan='2'></th><th colspan='2' style='border:1px solid black;color:black;background-color:#808080;'><center>b</center></th></tr>\n",
       "<tr><th style='border:1px solid black;color:black;background-color:#808080'><center>a</center></th><th style='border:1px solid black;color:black;background-color:#808080'><center>c</center></th><th style='border:1px solid black;border-bottom-style: double;color:black;background-color:#BBBBBB'><center>0</center></th><th style='border:1px solid black;border-bottom-style: double;color:black;background-color:#BBBBBB'><center>1</center></th></tr>\n",
       "<tr><th style='border:1px solid black;color:black;background-color:#BBBBBB;' rowspan = '2'><center>0</center></th><th style='border:1px solid black;color:black;background-color:#BBBBBB'><center>0</center></th><td style='text-align:right;'>0.3857</td><td style='text-align:right;'>0.6571</td></tr>\n",
       "<tr><th style='border:1px solid black;color:black;background-color:#BBBBBB'><center>1</center></th><td style='text-align:right;'>0.2429</td><td style='text-align:right;'>0.5143</td></tr>\n",
       "<tr><th style='border:1px solid black;color:black;background-color:#BBBBBB;' rowspan = '2'><center>1</center></th><th style='border:1px solid black;color:black;background-color:#BBBBBB'><center>0</center></th><td style='text-align:right;'>0.4857</td><td style='text-align:right;'>0.7571</td></tr>\n",
       "<tr><th style='border:1px solid black;color:black;background-color:#BBBBBB'><center>1</center></th><td style='text-align:right;'>0.3429</td><td style='text-align:right;'>0.6143</td></tr>\n",
       "</table></div></td><td style=\"border-top:hidden;border-bottom:hidden;\"><div align=\"center\" style=\"\"><table style=\"border:1px solid black;\">\n",
       "<tr><th colspan='2'></th><th colspan='2' style='border:1px solid black;color:black;background-color:#808080;'><center>b</center></th></tr>\n",
       "<tr><th style='border:1px solid black;color:black;background-color:#808080'><center>a</center></th><th style='border:1px solid black;color:black;background-color:#808080'><center>c</center></th><th style='border:1px solid black;border-bottom-style: double;color:black;background-color:#BBBBBB'><center>0</center></th><th style='border:1px solid black;border-bottom-style: double;color:black;background-color:#BBBBBB'><center>1</center></th></tr>\n",
       "<tr><th style='border:1px solid black;color:black;background-color:#BBBBBB;' rowspan = '2'><center>0</center></th><th style='border:1px solid black;color:black;background-color:#BBBBBB'><center>0</center></th><td style='text-align:right;'>1.3857</td><td style='text-align:right;'>1.6571</td></tr>\n",
       "<tr><th style='border:1px solid black;color:black;background-color:#BBBBBB'><center>1</center></th><td style='text-align:right;'>1.2429</td><td style='text-align:right;'>1.5143</td></tr>\n",
       "<tr><th style='border:1px solid black;color:black;background-color:#BBBBBB;' rowspan = '2'><center>1</center></th><th style='border:1px solid black;color:black;background-color:#BBBBBB'><center>0</center></th><td style='text-align:right;'>1.4857</td><td style='text-align:right;'>1.7571</td></tr>\n",
       "<tr><th style='border:1px solid black;color:black;background-color:#BBBBBB'><center>1</center></th><td style='text-align:right;'>1.3429</td><td style='text-align:right;'>1.6143</td></tr>\n",
       "</table></div></td></tr><tr><td style=\"border-top:hidden;border-bottom:hidden;\"><div align=\"center\"><small>p3</small></div></td><td style=\"border-top:hidden;border-bottom:hidden;\"><div align=\"center\"><small>p4</small></div></td></tr></table>"
      ],
      "text/plain": [
       "<IPython.core.display.HTML object>"
      ]
     },
     "metadata": {},
     "output_type": "display_data"
    }
   ],
   "source": [
    "p4=gum.Potential()+p3\n",
    "gnb.sideBySide(p3,p4,\n",
    "              captions=['p3','p4'])\n"
   ]
  },
  {
   "cell_type": "markdown",
   "metadata": {},
   "source": [
    "# bayes formula"
   ]
  },
  {
   "cell_type": "code",
   "execution_count": 6,
   "metadata": {
    "ExecuteTime": {
     "end_time": "2019-02-25T16:02:24.950470Z",
     "start_time": "2019-02-25T16:02:22.781865Z"
    }
   },
   "outputs": [
    {
     "data": {
      "text/html": [
       "<svg height=\"116pt\" viewBox=\"0.00 0.00 134.00 116.00\" width=\"134pt\" xmlns=\"http://www.w3.org/2000/svg\" xmlns:xlink=\"http://www.w3.org/1999/xlink\">\n",
       "<g class=\"graph\" id=\"graph0\" transform=\"scale(1 1) rotate(0) translate(4 112)\">\n",
       "<title>G</title>\n",
       "<!-- a -->\n",
       "<g class=\"node\" id=\"node1\">\n",
       "<title>a</title>\n",
       "<g id=\"a_node1\"><a xlink:title=\"(0) a\">\n",
       "<ellipse cx=\"27\" cy=\"-90\" fill=\"#404040\" rx=\"27\" ry=\"18\" stroke=\"#000000\"/>\n",
       "<text fill=\"#ffffff\" font-family=\"Times,serif\" font-size=\"14.00\" text-anchor=\"middle\" x=\"27\" y=\"-86.3\">a</text>\n",
       "</a>\n",
       "</g>\n",
       "</g>\n",
       "<!-- c -->\n",
       "<g class=\"node\" id=\"node2\">\n",
       "<title>c</title>\n",
       "<g id=\"a_node2\"><a xlink:title=\"(1) c\">\n",
       "<ellipse cx=\"63\" cy=\"-18\" fill=\"#404040\" rx=\"27\" ry=\"18\" stroke=\"#000000\"/>\n",
       "<text fill=\"#ffffff\" font-family=\"Times,serif\" font-size=\"14.00\" text-anchor=\"middle\" x=\"63\" y=\"-14.3\">c</text>\n",
       "</a>\n",
       "</g>\n",
       "</g>\n",
       "<!-- a&#45;&gt;c -->\n",
       "<g class=\"edge\" id=\"edge1\">\n",
       "<title>a-&gt;c</title>\n",
       "<g id=\"a_edge1\"><a xlink:title=\"(0, 1) : \">\n",
       "<path d=\"M35.7146,-72.5708C39.9597,-64.0807 45.1536,-53.6929 49.8663,-44.2674\" fill=\"none\" stroke=\"#4a4a4a\"/>\n",
       "<polygon fill=\"#4a4a4a\" points=\"53.024,-45.7782 54.3657,-35.2687 46.763,-42.6477 53.024,-45.7782\" stroke=\"#4a4a4a\"/>\n",
       "</a>\n",
       "</g>\n",
       "</g>\n",
       "<!-- b -->\n",
       "<g class=\"node\" id=\"node3\">\n",
       "<title>b</title>\n",
       "<g id=\"a_node3\"><a xlink:title=\"(2) b\">\n",
       "<ellipse cx=\"99\" cy=\"-90\" fill=\"#404040\" rx=\"27\" ry=\"18\" stroke=\"#000000\"/>\n",
       "<text fill=\"#ffffff\" font-family=\"Times,serif\" font-size=\"14.00\" text-anchor=\"middle\" x=\"99\" y=\"-86.3\">b</text>\n",
       "</a>\n",
       "</g>\n",
       "</g>\n",
       "<!-- b&#45;&gt;c -->\n",
       "<g class=\"edge\" id=\"edge2\">\n",
       "<title>b-&gt;c</title>\n",
       "<g id=\"a_edge2\"><a xlink:title=\"(2, 1) : \">\n",
       "<path d=\"M90.2854,-72.5708C86.0403,-64.0807 80.8464,-53.6929 76.1337,-44.2674\" fill=\"none\" stroke=\"#4a4a4a\"/>\n",
       "<polygon fill=\"#4a4a4a\" points=\"79.237,-42.6477 71.6343,-35.2687 72.976,-45.7782 79.237,-42.6477\" stroke=\"#4a4a4a\"/>\n",
       "</a>\n",
       "</g>\n",
       "</g>\n",
       "</g>\n",
       "</svg>"
      ],
      "text/plain": [
       "(gum::BayesNet<double>@0x5572763a7810) BN{nodes: 3, arcs: 2, domainSize: 27, parameters: 33, compression ratio: -22% }"
      ]
     },
     "execution_count": 6,
     "metadata": {},
     "output_type": "execute_result"
    }
   ],
   "source": [
    "bn=gum.fastBN(\"a->c;b->c\",3)\n",
    "bn"
   ]
  },
  {
   "cell_type": "markdown",
   "metadata": {},
   "source": [
    "In such a small bayes net, we can directly manipulate $P(a,b,c)$. For instance : $$P(b|c)=\\frac{\\sum_{a} P(a,b,c)}{\\sum_{a,b} P(a,b,c)}$$"
   ]
  },
  {
   "cell_type": "code",
   "execution_count": 7,
   "metadata": {
    "ExecuteTime": {
     "end_time": "2019-02-25T16:02:24.959791Z",
     "start_time": "2019-02-25T16:02:24.952627Z"
    }
   },
   "outputs": [
    {
     "data": {
      "text/html": [
       "<table style=\"border:1px solid black;\">\n",
       "<tr><th colspan='1'></th><th colspan='3' style='border:1px solid black;color:black;background-color:#808080;'><center>b</center></th></tr>\n",
       "<tr><th style='border:1px solid black;color:black;background-color:#808080'><center>c</center></th><th style='border:1px solid black;border-bottom-style: double;color:black;background-color:#BBBBBB'><center>0</center></th><th style='border:1px solid black;border-bottom-style: double;color:black;background-color:#BBBBBB'><center>1</center></th><th style='border:1px solid black;border-bottom-style: double;color:black;background-color:#BBBBBB'><center>2</center></th></tr>\n",
       "<tr><th style='border:1px solid black;color:black;background-color:#BBBBBB'><center>0</center></th><td style='color:black;background-color:#b0cd64;text-align:right;'>0.6154</td><td style='color:black;background-color:#e79664;text-align:right;'>0.1808</td><td style='color:black;background-color:#e49964;text-align:right;'>0.2038</td></tr>\n",
       "<tr><th style='border:1px solid black;color:black;background-color:#BBBBBB'><center>1</center></th><td style='color:black;background-color:#df9e64;text-align:right;'>0.2430</td><td style='color:black;background-color:#a3da64;text-align:right;'>0.7110</td><td style='color:black;background-color:#f98464;text-align:right;'>0.0460</td></tr>\n",
       "<tr><th style='border:1px solid black;color:black;background-color:#BBBBBB'><center>2</center></th><td style='color:black;background-color:#c1bc64;text-align:right;'>0.4842</td><td style='color:black;background-color:#ccb164;text-align:right;'>0.3923</td><td style='color:black;background-color:#ef8e64;text-align:right;'>0.1235</td></tr>\n",
       "</table>"
      ],
      "text/plain": [
       "(gum::Potential<double>@0x5572762a1510) <b:0|c:0> :: 0.615425 /<b:1|c:0> :: 0.180784 /<b:2|c:0> :: 0.203791 /<b:0|c:1> :: 0.242994 /<b:1|c:1> :: 0.711029 /<b:2|c:1> :: 0.0459769 /<b:0|c:2> :: 0.484197 /<b:1|c:2> :: 0.392316 /<b:2|c:2> :: 0.123487"
      ]
     },
     "execution_count": 7,
     "metadata": {},
     "output_type": "execute_result"
    }
   ],
   "source": [
    "pABC=bn.cpt(\"a\")*bn.cpt(\"b\")*bn.cpt(\"c\")\n",
    "pBgivenC=(pABC.margSumOut([\"a\"])/pABC.margSumOut([\"a\",\"b\"]))\n",
    "\n",
    "pBgivenC.putFirst(\"b\") # in order to have b horizontally in the table"
   ]
  },
  {
   "cell_type": "markdown",
   "metadata": {},
   "source": [
    "# Joint, marginal probability, likelihood\n",
    "Let's compute the joint probability $P(A,B)$ from $P(A,B,C)$"
   ]
  },
  {
   "cell_type": "code",
   "execution_count": 8,
   "metadata": {
    "ExecuteTime": {
     "end_time": "2019-02-25T16:02:24.973689Z",
     "start_time": "2019-02-25T16:02:24.961832Z"
    }
   },
   "outputs": [
    {
     "name": "stdout",
     "output_type": "stream",
     "text": [
      "pAC really is a probability : it sums to 1.0\n"
     ]
    },
    {
     "data": {
      "text/html": [
       "<table style=\"border:1px solid black;\">\n",
       "<tr><th colspan='1'></th><th colspan='3' style='border:1px solid black;color:black;background-color:#808080;'><center>a</center></th></tr>\n",
       "<tr><th style='border:1px solid black;color:black;background-color:#808080'><center>c</center></th><th style='border:1px solid black;border-bottom-style: double;color:black;background-color:#BBBBBB'><center>0</center></th><th style='border:1px solid black;border-bottom-style: double;color:black;background-color:#BBBBBB'><center>1</center></th><th style='border:1px solid black;border-bottom-style: double;color:black;background-color:#BBBBBB'><center>2</center></th></tr>\n",
       "<tr><th style='border:1px solid black;color:black;background-color:#BBBBBB'><center>0</center></th><td style='color:black;background-color:#ee8f64;text-align:right;'>0.1282</td><td style='color:black;background-color:#fb8264;text-align:right;'>0.0253</td><td style='color:black;background-color:#ed9064;text-align:right;'>0.1357</td></tr>\n",
       "<tr><th style='border:1px solid black;color:black;background-color:#BBBBBB'><center>1</center></th><td style='color:black;background-color:#e89564;text-align:right;'>0.1788</td><td style='color:black;background-color:#fb8264;text-align:right;'>0.0244</td><td style='color:black;background-color:#eb9264;text-align:right;'>0.1519</td></tr>\n",
       "<tr><th style='border:1px solid black;color:black;background-color:#BBBBBB'><center>2</center></th><td style='color:black;background-color:#e89564;text-align:right;'>0.1762</td><td style='color:black;background-color:#fc8164;text-align:right;'>0.0185</td><td style='color:black;background-color:#ea9364;text-align:right;'>0.1610</td></tr>\n",
       "</table>"
      ],
      "text/plain": [
       "(gum::Potential<double>@0x557276220ec0) <a:0|c:0> :: 0.128199 /<a:1|c:0> :: 0.0253305 /<a:2|c:0> :: 0.135683 /<a:0|c:1> :: 0.178838 /<a:1|c:1> :: 0.0244188 /<a:2|c:1> :: 0.151908 /<a:0|c:2> :: 0.176175 /<a:1|c:2> :: 0.0184508 /<a:2|c:2> :: 0.160996"
      ]
     },
     "execution_count": 8,
     "metadata": {},
     "output_type": "execute_result"
    }
   ],
   "source": [
    "pAC=pABC.margSumOut([\"b\"])\n",
    "print(\"pAC really is a probability : it sums to {}\".format(pAC.sum()))\n",
    "pAC\n"
   ]
  },
  {
   "cell_type": "markdown",
   "metadata": {},
   "source": [
    "## Computing $p(A)$"
   ]
  },
  {
   "cell_type": "code",
   "execution_count": 9,
   "metadata": {
    "ExecuteTime": {
     "end_time": "2019-02-25T16:02:24.980756Z",
     "start_time": "2019-02-25T16:02:24.975900Z"
    }
   },
   "outputs": [
    {
     "data": {
      "text/html": [
       "<table style=\"border:1px solid black;\">\n",
       "<tr style='border:1px solid black;color:black;background-color:#808080'><th colspan='3'><center>a</center></th></tr>\n",
       "<tr><th style='border:1px solid black;border-bottom-style: double;color:black;background-color:#BBBBBB'><center>0</center></th><th style='border:1px solid black;border-bottom-style: double;color:black;background-color:#BBBBBB'><center>1</center></th><th style='border:1px solid black;border-bottom-style: double;color:black;background-color:#BBBBBB'><center>2</center></th></tr>\n",
       "<tr><td style='color:black;background-color:#c1bc64;text-align:right;'>0.4832</td><td style='color:black;background-color:#f68764;text-align:right;'>0.0682</td><td style='color:black;background-color:#c5b864;text-align:right;'>0.4486</td></tr>\n",
       "</table>"
      ],
      "text/plain": [
       "(gum::Potential<double>@0x557276194fd0) <a:0> :: 0.483213 /<a:1> :: 0.0682 /<a:2> :: 0.448587"
      ]
     },
     "execution_count": 9,
     "metadata": {},
     "output_type": "execute_result"
    }
   ],
   "source": [
    "pAC.margSumOut([\"c\"])"
   ]
  },
  {
   "cell_type": "markdown",
   "metadata": {},
   "source": [
    "## Computing $p(A |C=1)$\n",
    "It is easy to compute $p(A, C=1)$"
   ]
  },
  {
   "cell_type": "code",
   "execution_count": 10,
   "metadata": {
    "ExecuteTime": {
     "end_time": "2019-02-25T16:02:24.986946Z",
     "start_time": "2019-02-25T16:02:24.982820Z"
    }
   },
   "outputs": [
    {
     "data": {
      "text/html": [
       "<table style=\"border:1px solid black;\">\n",
       "<tr style='border:1px solid black;color:black;background-color:#808080'><th colspan='3'><center>a</center></th></tr>\n",
       "<tr><th style='border:1px solid black;border-bottom-style: double;color:black;background-color:#BBBBBB'><center>0</center></th><th style='border:1px solid black;border-bottom-style: double;color:black;background-color:#BBBBBB'><center>1</center></th><th style='border:1px solid black;border-bottom-style: double;color:black;background-color:#BBBBBB'><center>2</center></th></tr>\n",
       "<tr><td style='text-align:right;'>0.1788</td><td style='text-align:right;'>0.0244</td><td style='text-align:right;'>0.1519</td></tr>\n",
       "</table>"
      ],
      "text/plain": [
       "(gum::Potential<double>@0x55727615cff0) <a:0> :: 0.178838 /<a:1> :: 0.0244188 /<a:2> :: 0.151908"
      ]
     },
     "execution_count": 10,
     "metadata": {},
     "output_type": "execute_result"
    }
   ],
   "source": [
    "pAC.extract({\"c\":1})"
   ]
  },
  {
   "cell_type": "markdown",
   "metadata": {},
   "source": [
    "Moreover, we know that $P(C=1)=\\sum_A P(A,C=1)$"
   ]
  },
  {
   "cell_type": "code",
   "execution_count": 11,
   "metadata": {
    "ExecuteTime": {
     "end_time": "2019-02-25T16:02:24.992799Z",
     "start_time": "2019-02-25T16:02:24.988632Z"
    }
   },
   "outputs": [
    {
     "data": {
      "text/plain": [
       "0.35516502114640414"
      ]
     },
     "execution_count": 11,
     "metadata": {},
     "output_type": "execute_result"
    }
   ],
   "source": [
    "pAC.extract({\"c\":1}).sum()"
   ]
  },
  {
   "cell_type": "markdown",
   "metadata": {},
   "source": [
    "Now we can compute $p(A|C=1)=\\frac{P(A,C=1)}{p(C=1)}$"
   ]
  },
  {
   "cell_type": "code",
   "execution_count": 12,
   "metadata": {
    "ExecuteTime": {
     "end_time": "2019-02-25T16:02:24.998982Z",
     "start_time": "2019-02-25T16:02:24.994445Z"
    }
   },
   "outputs": [
    {
     "data": {
      "text/html": [
       "<table style=\"border:1px solid black;\">\n",
       "<tr style='border:1px solid black;color:black;background-color:#808080'><th colspan='3'><center>a</center></th></tr>\n",
       "<tr><th style='border:1px solid black;border-bottom-style: double;color:black;background-color:#BBBBBB'><center>0</center></th><th style='border:1px solid black;border-bottom-style: double;color:black;background-color:#BBBBBB'><center>1</center></th><th style='border:1px solid black;border-bottom-style: double;color:black;background-color:#BBBBBB'><center>2</center></th></tr>\n",
       "<tr><td style='color:black;background-color:#bebf64;text-align:right;'>0.5035</td><td style='color:black;background-color:#f68764;text-align:right;'>0.0688</td><td style='color:black;background-color:#c8b564;text-align:right;'>0.4277</td></tr>\n",
       "</table>"
      ],
      "text/plain": [
       "(gum::Potential<double>@0x55727615cfd0) <a:0> :: 0.503535 /<a:1> :: 0.0687534 /<a:2> :: 0.427711"
      ]
     },
     "execution_count": 12,
     "metadata": {},
     "output_type": "execute_result"
    }
   ],
   "source": [
    "pAC.extract({\"c\":1}).normalize()"
   ]
  },
  {
   "cell_type": "markdown",
   "metadata": {},
   "source": [
    "## Computing $P(A|C)$\n",
    "$P(A|C)$ is represented by a matrix that verifies $p(A|C)=\\frac{P(A,C)}{P(C}$"
   ]
  },
  {
   "cell_type": "code",
   "execution_count": 13,
   "metadata": {
    "ExecuteTime": {
     "end_time": "2019-02-25T16:02:25.005322Z",
     "start_time": "2019-02-25T16:02:25.000498Z"
    }
   },
   "outputs": [
    {
     "data": {
      "text/html": [
       "<table style=\"border-style: hidden; border-collapse: collapse;\" width=\"100%\"><tr><td style=\"border-top:hidden;border-bottom:hidden;\"><div align=\"center\" style=\"\"><table style=\"border:1px solid black;\">\n",
       "<tr><th colspan='1'></th><th colspan='3' style='border:1px solid black;color:black;background-color:#808080;'><center>a</center></th></tr>\n",
       "<tr><th style='border:1px solid black;color:black;background-color:#808080'><center>c</center></th><th style='border:1px solid black;border-bottom-style: double;color:black;background-color:#BBBBBB'><center>0</center></th><th style='border:1px solid black;border-bottom-style: double;color:black;background-color:#BBBBBB'><center>1</center></th><th style='border:1px solid black;border-bottom-style: double;color:black;background-color:#BBBBBB'><center>2</center></th></tr>\n",
       "<tr><th style='border:1px solid black;color:black;background-color:#BBBBBB'><center>0</center></th><td style='color:black;background-color:#c6b764;text-align:right;'>0.4433</td><td style='color:black;background-color:#f38a64;text-align:right;'>0.0876</td><td style='color:black;background-color:#c2bb64;text-align:right;'>0.4691</td></tr>\n",
       "<tr><th style='border:1px solid black;color:black;background-color:#BBBBBB'><center>1</center></th><td style='color:black;background-color:#bebf64;text-align:right;'>0.5035</td><td style='color:black;background-color:#f68764;text-align:right;'>0.0688</td><td style='color:black;background-color:#c8b564;text-align:right;'>0.4277</td></tr>\n",
       "<tr><th style='border:1px solid black;color:black;background-color:#BBBBBB'><center>2</center></th><td style='color:black;background-color:#bfbe64;text-align:right;'>0.4954</td><td style='color:black;background-color:#f88564;text-align:right;'>0.0519</td><td style='color:black;background-color:#c5b864;text-align:right;'>0.4527</td></tr>\n",
       "</table></div></td><td style=\"border-top:hidden;border-bottom:hidden;\"><div align=\"center\" style=\"\"><table style=\"border:1px solid black;\">\n",
       "<tr style='border:1px solid black;color:black;background-color:#808080'><th colspan='3'><center>a</center></th></tr>\n",
       "<tr><th style='border:1px solid black;border-bottom-style: double;color:black;background-color:#BBBBBB'><center>0</center></th><th style='border:1px solid black;border-bottom-style: double;color:black;background-color:#BBBBBB'><center>1</center></th><th style='border:1px solid black;border-bottom-style: double;color:black;background-color:#BBBBBB'><center>2</center></th></tr>\n",
       "<tr><td style='color:black;background-color:#bebf64;text-align:right;'>0.5035</td><td style='color:black;background-color:#f68764;text-align:right;'>0.0688</td><td style='color:black;background-color:#c8b564;text-align:right;'>0.4277</td></tr>\n",
       "</table></div></td></tr><tr><td style=\"border-top:hidden;border-bottom:hidden;\"><div align=\"center\"><small>$P(A|C)$</small></div></td><td style=\"border-top:hidden;border-bottom:hidden;\"><div align=\"center\"><small>$P(A|C=1)$</small></div></td></tr></table>"
      ],
      "text/plain": [
       "<IPython.core.display.HTML object>"
      ]
     },
     "metadata": {},
     "output_type": "display_data"
    }
   ],
   "source": [
    "pAgivenC=(pAC/pAC.margSumIn(\"c\")).putFirst(\"a\") \n",
    "# putFirst(\"a\") : to correctly show a cpt, the first variable have to bethe conditionned one\n",
    "gnb.sideBySide(pAgivenC,pAgivenC.extract({'c':1}),\n",
    "               captions=[\"$P(A|C)$\",\"$P(A|C=1)$\"])"
   ]
  },
  {
   "cell_type": "markdown",
   "metadata": {},
   "source": [
    "## Likelihood $P(A=2|C)$"
   ]
  },
  {
   "cell_type": "markdown",
   "metadata": {},
   "source": [
    "A likelihood can also be found in this matrix."
   ]
  },
  {
   "cell_type": "code",
   "execution_count": 14,
   "metadata": {
    "ExecuteTime": {
     "end_time": "2019-02-25T16:02:25.012653Z",
     "start_time": "2019-02-25T16:02:25.006694Z"
    }
   },
   "outputs": [
    {
     "data": {
      "text/html": [
       "<table style=\"border:1px solid black;\">\n",
       "<tr style='border:1px solid black;color:black;background-color:#808080'><th colspan='3'><center>c</center></th></tr>\n",
       "<tr><th style='border:1px solid black;border-bottom-style: double;color:black;background-color:#BBBBBB'><center>0</center></th><th style='border:1px solid black;border-bottom-style: double;color:black;background-color:#BBBBBB'><center>1</center></th><th style='border:1px solid black;border-bottom-style: double;color:black;background-color:#BBBBBB'><center>2</center></th></tr>\n",
       "<tr><td style='text-align:right;'>0.4691</td><td style='text-align:right;'>0.4277</td><td style='text-align:right;'>0.4527</td></tr>\n",
       "</table>"
      ],
      "text/plain": [
       "(gum::Potential<double>@0x5572758ca8e0) <c:0> :: 0.469147 /<c:1> :: 0.427711 /<c:2> :: 0.452716"
      ]
     },
     "execution_count": 14,
     "metadata": {},
     "output_type": "execute_result"
    }
   ],
   "source": [
    "pAgivenC.extract({'a':2})"
   ]
  },
  {
   "cell_type": "markdown",
   "metadata": {},
   "source": [
    "A likelihood does not have to sum to 1. It is not relevant to normalize it."
   ]
  },
  {
   "cell_type": "code",
   "execution_count": 15,
   "metadata": {
    "ExecuteTime": {
     "end_time": "2019-02-25T16:02:25.018454Z",
     "start_time": "2019-02-25T16:02:25.014011Z"
    }
   },
   "outputs": [
    {
     "data": {
      "text/html": [
       "<table style=\"border:1px solid black;\">\n",
       "<tr style='border:1px solid black;color:black;background-color:#808080'><th colspan='3'><center>a</center></th></tr>\n",
       "<tr><th style='border:1px solid black;border-bottom-style: double;color:black;background-color:#BBBBBB'><center>0</center></th><th style='border:1px solid black;border-bottom-style: double;color:black;background-color:#BBBBBB'><center>1</center></th><th style='border:1px solid black;border-bottom-style: double;color:black;background-color:#BBBBBB'><center>2</center></th></tr>\n",
       "<tr><td style='text-align:right;'>1.4422</td><td style='text-align:right;'>0.2082</td><td style='text-align:right;'>1.3496</td></tr>\n",
       "</table>"
      ],
      "text/plain": [
       "(gum::Potential<double>@0x557275ef9340) <a:0> :: 1.4422 /<a:1> :: 0.208221 /<a:2> :: 1.34957"
      ]
     },
     "execution_count": 15,
     "metadata": {},
     "output_type": "execute_result"
    }
   ],
   "source": [
    "pAgivenC.margSumIn([\"a\"])"
   ]
  },
  {
   "cell_type": "markdown",
   "metadata": {},
   "source": [
    "# entropy of potential"
   ]
  },
  {
   "cell_type": "code",
   "execution_count": 16,
   "metadata": {
    "ExecuteTime": {
     "end_time": "2019-02-25T16:02:25.029659Z",
     "start_time": "2019-02-25T16:02:25.020133Z"
    }
   },
   "outputs": [],
   "source": [
    "%matplotlib inline\n",
    "from pylab import *\n",
    "import matplotlib.pyplot as plt\n",
    "import numpy as np"
   ]
  },
  {
   "cell_type": "code",
   "execution_count": 17,
   "metadata": {
    "ExecuteTime": {
     "end_time": "2019-02-25T16:02:25.307627Z",
     "start_time": "2019-02-25T16:02:25.031420Z"
    }
   },
   "outputs": [
    {
     "data": {
      "image/png": "[encoded data removed]",
      "text/plain": [
       "<Figure size 432x288 with 1 Axes>"
      ]
     },
     "metadata": {
      "needs_background": "light"
     },
     "output_type": "display_data"
    }
   ],
   "source": [
    "p1=gum.Potential().add(a)\n",
    "x = np.linspace(0, 1, 100)\n",
    "plt.plot(x,[p1.fillWith([p,1-p]).entropy() for p in x])\n",
    "plt.show()"
   ]
  },
  {
   "cell_type": "code",
   "execution_count": 18,
   "metadata": {
    "ExecuteTime": {
     "end_time": "2019-02-25T16:02:25.824051Z",
     "start_time": "2019-02-25T16:02:25.313742Z"
    }
   },
   "outputs": [
    {
     "data": {
      "image/png": "[encoded data removed]",
      "text/plain": [
       "<Figure size 432x288 with 1 Axes>"
      ]
     },
     "metadata": {
      "needs_background": "light"
     },
     "output_type": "display_data"
    }
   ],
   "source": [
    "t=gum.LabelizedVariable('t','t',3)\n",
    "p1=gum.Potential().add(t)\n",
    "\n",
    "def entrop(bc):\n",
    "    \"\"\"\n",
    "    bc is a list [a,b,c] close to a distribution \n",
    "    (normalized just to be sure)\n",
    "    \"\"\"\n",
    "    return p1.fillWith(bc).normalize().entropy()\n",
    "\n",
    "import matplotlib.tri as tri\n",
    "\n",
    "corners = np.array([[0, 0], [1, 0], [0.5, 0.75**0.5]])\n",
    "triangle = tri.Triangulation(corners[:, 0], corners[:, 1])\n",
    "\n",
    "# Mid-points of triangle sides opposite of each corner\n",
    "midpoints = [(corners[(i + 1) % 3] + corners[(i + 2) % 3]) / 2.0 \\\n",
    "             for i in range(3)]\n",
    "def xy2bc(xy, tol=1.e-3):\n",
    "    \"\"\"\n",
    "    From 2D Cartesian coordinates to barycentric.\n",
    "    \"\"\"\n",
    "    s = [(corners[i] - midpoints[i]).dot(xy - midpoints[i]) / 0.75 \\\n",
    "         for i in range(3)]\n",
    "    return np.clip(s, tol, 1.0 - tol)\n",
    "    \n",
    "def draw_entropy(nlevels=200, subdiv=6, **kwargs):\n",
    "    import math\n",
    "\n",
    "    refiner = tri.UniformTriRefiner(triangle)\n",
    "    trimesh = refiner.refine_triangulation(subdiv=subdiv)\n",
    "    pvals = [entrop(xy2bc(xy)) for xy in zip(trimesh.x, trimesh.y)]\n",
    "\n",
    "    plt.tricontourf(trimesh, pvals, nlevels, **kwargs)\n",
    "    plt.axis('equal')\n",
    "    plt.xlim(0, 1)\n",
    "    plt.ylim(0, 0.75**0.5)\n",
    "    plt.axis('off')\n",
    "    \n",
    "draw_entropy()"
   ]
  },
  {
   "cell_type": "code",
   "execution_count": null,
   "metadata": {},
   "outputs": [],
   "source": []
  }
 ],
 "metadata": {
  "hide_input": false,
  "kernelspec": {
   "display_name": "Python 3",
   "language": "python",
   "name": "python3"
  },
  "language_info": {
   "codemirror_mode": {
    "name": "ipython",
    "version": 3
   },
   "file_extension": ".py",
   "mimetype": "text/x-python",
   "name": "python",
   "nbconvert_exporter": "python",
   "pygments_lexer": "ipython3",
   "version": "3.7.4"
  }
 },
 "nbformat": 4,
 "nbformat_minor": 4
}
