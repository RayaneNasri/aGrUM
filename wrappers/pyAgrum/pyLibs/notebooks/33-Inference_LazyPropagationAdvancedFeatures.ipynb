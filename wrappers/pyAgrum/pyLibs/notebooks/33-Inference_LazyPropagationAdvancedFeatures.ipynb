{
 "cells": [
  {
   "cell_type": "markdown",
   "metadata": {},
   "source": [
    "<a href=\"http://agrum.org\" target=\"blank\"><img src=\"http://agrum.gitlab.io/theme/img/logoAgrum.png\" align=\"left\" style=\"height:100px\"/></a><a rel=\"license\" href=\"http://creativecommons.org/licenses/by-nc/4.0/\"><img alt=\"Creative Commons License\" style=\"border-width:0\" src=\"https://i.creativecommons.org/l/by-nc/4.0/88x31.png\" /></a><br />This pyAgrum's notebook is licensed under a <a rel=\"license\" href=\"http://creativecommons.org/licenses/by-nc/4.0/\">Creative Commons Attribution-NonCommercial 4.0 International License</a>."
   ]
  },
  {
   "cell_type": "code",
   "execution_count": 1,
   "metadata": {
    "ExecuteTime": {
     "end_time": "2019-02-25T16:37:44.110141Z",
     "start_time": "2019-02-25T16:37:43.874674Z"
    },
    "execution": {
     "iopub.execute_input": "2021-09-19T21:46:29.003459Z",
     "iopub.status.busy": "2021-09-19T21:46:29.002459Z",
     "iopub.status.idle": "2021-09-19T21:46:29.432461Z",
     "shell.execute_reply": "2021-09-19T21:46:29.432461Z",
     "shell.execute_reply.started": "2021-09-19T21:46:29.003459Z"
    }
   },
   "outputs": [],
   "source": [
    "import pyAgrum as gum\n",
    "import pyAgrum.lib.notebook as gnb"
   ]
  },
  {
   "cell_type": "code",
   "execution_count": 2,
   "metadata": {
    "ExecuteTime": {
     "end_time": "2019-02-25T16:37:46.421089Z",
     "start_time": "2019-02-25T16:37:44.111996Z"
    },
    "execution": {
     "iopub.execute_input": "2021-09-19T21:46:29.434465Z",
     "iopub.status.busy": "2021-09-19T21:46:29.434465Z",
     "iopub.status.idle": "2021-09-19T21:46:29.541456Z",
     "shell.execute_reply": "2021-09-19T21:46:29.540456Z",
     "shell.execute_reply.started": "2021-09-19T21:46:29.434465Z"
    }
   },
   "outputs": [
    {
     "data": {
      "text/html": [
       "<svg xmlns=\"http://www.w3.org/2000/svg\" xmlns:xlink=\"http://www.w3.org/1999/xlink\" width=\"134pt\" height=\"260pt\" viewBox=\"0.00 0.00 134.00 260.00\">\n",
       "<g id=\"graph0\" class=\"graph\" transform=\"scale(1 1) rotate(0) translate(4 256)\">\n",
       "<title>G</title>\n",
       "<!-- E -->\n",
       "<g id=\"node1\" class=\"node\">\n",
       "<title>E</title>\n",
       "<g id=\"a_node1\"><a xlink:title=\"(4) E\">\n",
       "<ellipse fill=\"#404040\" stroke=\"black\" cx=\"27\" cy=\"-90\" rx=\"27\" ry=\"18\"/>\n",
       "<text text-anchor=\"middle\" x=\"27\" y=\"-86.3\" font-family=\"Times New Roman,serif\" font-size=\"14.00\" fill=\"white\">E</text>\n",
       "</a>\n",
       "</g>\n",
       "</g>\n",
       "<!-- D -->\n",
       "<g id=\"node4\" class=\"node\">\n",
       "<title>D</title>\n",
       "<g id=\"a_node4\"><a xlink:title=\"(3) D\">\n",
       "<ellipse fill=\"#404040\" stroke=\"black\" cx=\"27\" cy=\"-18\" rx=\"27\" ry=\"18\"/>\n",
       "<text text-anchor=\"middle\" x=\"27\" y=\"-14.3\" font-family=\"Times New Roman,serif\" font-size=\"14.00\" fill=\"white\">D</text>\n",
       "</a>\n",
       "</g>\n",
       "</g>\n",
       "<!-- E&#45;&gt;D -->\n",
       "<g id=\"edge4\" class=\"edge\">\n",
       "<title>E-&gt;D</title>\n",
       "<g id=\"a_edge4\"><a xlink:title=\"(4, 3) : \">\n",
       "<path fill=\"none\" stroke=\"#4a4a4a\" d=\"M27,-71.7C27,-63.98 27,-54.71 27,-46.11\"/>\n",
       "<polygon fill=\"#4a4a4a\" stroke=\"#4a4a4a\" points=\"30.5,-46.1 27,-36.1 23.5,-46.1 30.5,-46.1\"/>\n",
       "</a>\n",
       "</g>\n",
       "</g>\n",
       "<!-- A -->\n",
       "<g id=\"node2\" class=\"node\">\n",
       "<title>A</title>\n",
       "<g id=\"a_node2\"><a xlink:title=\"(0) A\">\n",
       "<ellipse fill=\"#404040\" stroke=\"black\" cx=\"27\" cy=\"-234\" rx=\"27\" ry=\"18\"/>\n",
       "<text text-anchor=\"middle\" x=\"27\" y=\"-230.3\" font-family=\"Times New Roman,serif\" font-size=\"14.00\" fill=\"white\">A</text>\n",
       "</a>\n",
       "</g>\n",
       "</g>\n",
       "<!-- A&#45;&gt;E -->\n",
       "<g id=\"edge3\" class=\"edge\">\n",
       "<title>A-&gt;E</title>\n",
       "<g id=\"a_edge3\"><a xlink:title=\"(0, 4) : \">\n",
       "<path fill=\"none\" stroke=\"#4a4a4a\" d=\"M27,-215.87C27,-191.67 27,-147.21 27,-118.39\"/>\n",
       "<polygon fill=\"#4a4a4a\" stroke=\"#4a4a4a\" points=\"30.5,-118.19 27,-108.19 23.5,-118.19 30.5,-118.19\"/>\n",
       "</a>\n",
       "</g>\n",
       "</g>\n",
       "<!-- B -->\n",
       "<g id=\"node3\" class=\"node\">\n",
       "<title>B</title>\n",
       "<g id=\"a_node3\"><a xlink:title=\"(1) B\">\n",
       "<ellipse fill=\"#404040\" stroke=\"black\" cx=\"99\" cy=\"-162\" rx=\"27\" ry=\"18\"/>\n",
       "<text text-anchor=\"middle\" x=\"99\" y=\"-158.3\" font-family=\"Times New Roman,serif\" font-size=\"14.00\" fill=\"white\">B</text>\n",
       "</a>\n",
       "</g>\n",
       "</g>\n",
       "<!-- A&#45;&gt;B -->\n",
       "<g id=\"edge1\" class=\"edge\">\n",
       "<title>A-&gt;B</title>\n",
       "<g id=\"a_edge1\"><a xlink:title=\"(0, 1) : \">\n",
       "<path fill=\"none\" stroke=\"#4a4a4a\" d=\"M41.57,-218.83C51.75,-208.94 65.52,-195.55 77.03,-184.36\"/>\n",
       "<polygon fill=\"#4a4a4a\" stroke=\"#4a4a4a\" points=\"79.47,-186.87 84.2,-177.38 74.59,-181.85 79.47,-186.87\"/>\n",
       "</a>\n",
       "</g>\n",
       "</g>\n",
       "<!-- C -->\n",
       "<g id=\"node7\" class=\"node\">\n",
       "<title>C</title>\n",
       "<g id=\"a_node7\"><a xlink:title=\"(2) C\">\n",
       "<ellipse fill=\"#404040\" stroke=\"black\" cx=\"99\" cy=\"-90\" rx=\"27\" ry=\"18\"/>\n",
       "<text text-anchor=\"middle\" x=\"99\" y=\"-86.3\" font-family=\"Times New Roman,serif\" font-size=\"14.00\" fill=\"white\">C</text>\n",
       "</a>\n",
       "</g>\n",
       "</g>\n",
       "<!-- B&#45;&gt;C -->\n",
       "<g id=\"edge2\" class=\"edge\">\n",
       "<title>B-&gt;C</title>\n",
       "<g id=\"a_edge2\"><a xlink:title=\"(1, 2) : \">\n",
       "<path fill=\"none\" stroke=\"#4a4a4a\" d=\"M99,-143.7C99,-135.98 99,-126.71 99,-118.11\"/>\n",
       "<polygon fill=\"#4a4a4a\" stroke=\"#4a4a4a\" points=\"102.5,-118.1 99,-108.1 95.5,-118.1 102.5,-118.1\"/>\n",
       "</a>\n",
       "</g>\n",
       "</g>\n",
       "<!-- F -->\n",
       "<g id=\"node5\" class=\"node\">\n",
       "<title>F</title>\n",
       "<g id=\"a_node5\"><a xlink:title=\"(5) F\">\n",
       "<ellipse fill=\"#404040\" stroke=\"black\" cx=\"99\" cy=\"-234\" rx=\"27\" ry=\"18\"/>\n",
       "<text text-anchor=\"middle\" x=\"99\" y=\"-230.3\" font-family=\"Times New Roman,serif\" font-size=\"14.00\" fill=\"white\">F</text>\n",
       "</a>\n",
       "</g>\n",
       "</g>\n",
       "<!-- F&#45;&gt;B -->\n",
       "<g id=\"edge5\" class=\"edge\">\n",
       "<title>F-&gt;B</title>\n",
       "<g id=\"a_edge5\"><a xlink:title=\"(5, 1) : \">\n",
       "<path fill=\"none\" stroke=\"#4a4a4a\" d=\"M99,-215.7C99,-207.98 99,-198.71 99,-190.11\"/>\n",
       "<polygon fill=\"#4a4a4a\" stroke=\"#4a4a4a\" points=\"102.5,-190.1 99,-180.1 95.5,-190.1 102.5,-190.1\"/>\n",
       "</a>\n",
       "</g>\n",
       "</g>\n",
       "<!-- H -->\n",
       "<g id=\"node6\" class=\"node\">\n",
       "<title>H</title>\n",
       "<g id=\"a_node6\"><a xlink:title=\"(6) H\">\n",
       "<ellipse fill=\"#404040\" stroke=\"black\" cx=\"99\" cy=\"-18\" rx=\"27\" ry=\"18\"/>\n",
       "<text text-anchor=\"middle\" x=\"99\" y=\"-14.3\" font-family=\"Times New Roman,serif\" font-size=\"14.00\" fill=\"white\">H</text>\n",
       "</a>\n",
       "</g>\n",
       "</g>\n",
       "<!-- C&#45;&gt;D -->\n",
       "<g id=\"edge6\" class=\"edge\">\n",
       "<title>C-&gt;D</title>\n",
       "<g id=\"a_edge6\"><a xlink:title=\"(2, 3) : \">\n",
       "<path fill=\"none\" stroke=\"#4a4a4a\" d=\"M84.43,-74.83C74.25,-64.94 60.48,-51.55 48.97,-40.36\"/>\n",
       "<polygon fill=\"#4a4a4a\" stroke=\"#4a4a4a\" points=\"51.41,-37.85 41.8,-33.38 46.53,-42.87 51.41,-37.85\"/>\n",
       "</a>\n",
       "</g>\n",
       "</g>\n",
       "<!-- C&#45;&gt;H -->\n",
       "<g id=\"edge7\" class=\"edge\">\n",
       "<title>C-&gt;H</title>\n",
       "<g id=\"a_edge7\"><a xlink:title=\"(2, 6) : \">\n",
       "<path fill=\"none\" stroke=\"#4a4a4a\" d=\"M99,-71.7C99,-63.98 99,-54.71 99,-46.11\"/>\n",
       "<polygon fill=\"#4a4a4a\" stroke=\"#4a4a4a\" points=\"102.5,-46.1 99,-36.1 95.5,-46.1 102.5,-46.1\"/>\n",
       "</a>\n",
       "</g>\n",
       "</g>\n",
       "</g>\n",
       "</svg>"
      ],
      "text/plain": [
       "(pyAgrum.BayesNet<double>@000001EC96281000) BN{nodes: 7, arcs: 7, domainSize: 128, dim: 32}"
      ]
     },
     "execution_count": 2,
     "metadata": {},
     "output_type": "execute_result"
    }
   ],
   "source": [
    "bn=gum.fastBN(\"A->B->C->D;A->E->D;F->B;C->H\")\n",
    "ie=gum.LazyPropagation(bn)\n",
    "bn              "
   ]
  },
  {
   "cell_type": "markdown",
   "metadata": {},
   "source": [
    "Evidence Impact allows the user to analyze the effect of any variables on any other variables"
   ]
  },
  {
   "cell_type": "code",
   "execution_count": 3,
   "metadata": {
    "ExecuteTime": {
     "end_time": "2019-02-25T16:37:46.432896Z",
     "start_time": "2019-02-25T16:37:46.425447Z"
    },
    "execution": {
     "iopub.execute_input": "2021-09-19T21:46:29.545456Z",
     "iopub.status.busy": "2021-09-19T21:46:29.545456Z",
     "iopub.status.idle": "2021-09-19T21:46:29.573458Z",
     "shell.execute_reply": "2021-09-19T21:46:29.572457Z",
     "shell.execute_reply.started": "2021-09-19T21:46:29.545456Z"
    }
   },
   "outputs": [
    {
     "data": {
      "text/html": [
       "<table style=\"border:1px solid black;\">\n",
       "<tr><th colspan='2'></th>\n",
       "      <th colspan='2' style='border:1px solid black;color:black;background-color:#808080;'><center>B</center>\n",
       "      </th></tr>\n",
       "<tr><th style='border:1px solid black;color:black;background-color:#808080'><center>A</center></th><th style='border:1px solid black;color:black;background-color:#808080'><center>H</center></th><th style='border:1px solid black;border-bottom-style: double;color:black;background-color:#BBBBBB'>\n",
       "      <center>0</center></th><th style='border:1px solid black;border-bottom-style: double;color:black;background-color:#BBBBBB'>\n",
       "      <center>1</center></th></tr>\n",
       "<tr><th style='border:1px solid black;color:black;background-color:#BBBBBB;' rowspan = '2'>\n",
       "            <center>0</center></th><th style='border:1px solid black;color:black;background-color:#BBBBBB'><center>0</center></th><td style='color:black;background-color:#f78664;text-align:right;'>0.0613</td><td style='color:black;background-color:#86f764;text-align:right;'>0.9387</td></tr>\n",
       "<tr><th style='border:1px solid black;color:black;background-color:#BBBBBB'><center>1</center></th><td style='color:black;background-color:#f88564;text-align:right;'>0.0527</td><td style='color:black;background-color:#85f864;text-align:right;'>0.9473</td></tr>\n",
       "<tr><th style='border:1px solid black;color:black;background-color:#BBBBBB;' rowspan = '2'>\n",
       "            <center>1</center></th><th style='border:1px solid black;color:black;background-color:#BBBBBB'><center>0</center></th><td style='color:black;background-color:#e69764;text-align:right;'>0.1913</td><td style='color:black;background-color:#97e664;text-align:right;'>0.8087</td></tr>\n",
       "<tr><th style='border:1px solid black;color:black;background-color:#BBBBBB'><center>1</center></th><td style='color:black;background-color:#e99464;text-align:right;'>0.1678</td><td style='color:black;background-color:#94e964;text-align:right;'>0.8322</td></tr>\n",
       "</table>"
      ],
      "text/plain": [
       "(pyAgrum.Potential<double>@000001EC96279CF0) \n",
       "             ||  B                |\n",
       "H     |A     ||0        |1        |\n",
       "------|------||---------|---------|\n",
       "0     |0     || 0.0613  | 0.9387  |\n",
       "1     |0     || 0.0527  | 0.9473  |\n",
       "0     |1     || 0.1913  | 0.8087  |\n",
       "1     |1     || 0.1678  | 0.8322  |"
      ]
     },
     "execution_count": 3,
     "metadata": {},
     "output_type": "execute_result"
    }
   ],
   "source": [
    "ie.evidenceImpact(\"B\",[\"A\",\"H\"])"
   ]
  },
  {
   "cell_type": "markdown",
   "metadata": {
    "ExecuteTime": {
     "end_time": "2018-09-11T07:44:32.291529Z",
     "start_time": "2018-09-11T07:44:32.271183Z"
    }
   },
   "source": [
    "Evidence impact is able to find the minimum set of variables which effectively conditions the analyzed variable"
   ]
  },
  {
   "cell_type": "code",
   "execution_count": 4,
   "metadata": {
    "ExecuteTime": {
     "end_time": "2019-02-25T16:37:46.491139Z",
     "start_time": "2019-02-25T16:37:46.436149Z"
    },
    "execution": {
     "iopub.execute_input": "2021-09-19T21:46:29.574460Z",
     "iopub.status.busy": "2021-09-19T21:46:29.574460Z",
     "iopub.status.idle": "2021-09-19T21:46:29.589458Z",
     "shell.execute_reply": "2021-09-19T21:46:29.588458Z",
     "shell.execute_reply.started": "2021-09-19T21:46:29.574460Z"
    }
   },
   "outputs": [
    {
     "data": {
      "text/html": [
       "<table style=\"border:1px solid black;\">\n",
       "<tr><th colspan='3'></th>\n",
       "      <th colspan='2' style='border:1px solid black;color:black;background-color:#808080;'><center>E</center>\n",
       "      </th></tr>\n",
       "<tr><th style='border:1px solid black;color:black;background-color:#808080'><center>A</center></th><th style='border:1px solid black;color:black;background-color:#808080'><center>B</center></th><th style='border:1px solid black;color:black;background-color:#808080'><center>D</center></th><th style='border:1px solid black;border-bottom-style: double;color:black;background-color:#BBBBBB'>\n",
       "      <center>0</center></th><th style='border:1px solid black;border-bottom-style: double;color:black;background-color:#BBBBBB'>\n",
       "      <center>1</center></th></tr>\n",
       "<tr><th style='border:1px solid black;color:black;background-color:#BBBBBB;' rowspan = '4'>\n",
       "            <center>0</center></th><th style='border:1px solid black;color:black;background-color:#BBBBBB;' rowspan = '2'>\n",
       "            <center>0</center></th><th style='border:1px solid black;color:black;background-color:#BBBBBB'><center>0</center></th><td style='color:black;background-color:#ec9164;text-align:right;'>0.1457</td><td style='color:black;background-color:#91ec64;text-align:right;'>0.8543</td></tr>\n",
       "<tr><th style='border:1px solid black;color:black;background-color:#BBBBBB'><center>1</center></th><td style='color:black;background-color:#d6a764;text-align:right;'>0.3192</td><td style='color:black;background-color:#a7d664;text-align:right;'>0.6808</td></tr>\n",
       "<tr><th style='border:1px solid black;color:black;background-color:#BBBBBB;' rowspan = '2'>\n",
       "            <center>1</center></th><th style='border:1px solid black;color:black;background-color:#BBBBBB'><center>0</center></th><td style='color:black;background-color:#ed9064;text-align:right;'>0.1329</td><td style='color:black;background-color:#90ed64;text-align:right;'>0.8671</td></tr>\n",
       "<tr><th style='border:1px solid black;color:black;background-color:#BBBBBB'><center>1</center></th><td style='color:black;background-color:#d3aa64;text-align:right;'>0.3384</td><td style='color:black;background-color:#aad364;text-align:right;'>0.6616</td></tr>\n",
       "<tr><th style='border:1px solid black;color:black;background-color:#BBBBBB;' rowspan = '4'>\n",
       "            <center>1</center></th><th style='border:1px solid black;color:black;background-color:#BBBBBB;' rowspan = '2'>\n",
       "            <center>0</center></th><th style='border:1px solid black;color:black;background-color:#BBBBBB'><center>0</center></th><td style='color:black;background-color:#91ec64;text-align:right;'>0.8539</td><td style='color:black;background-color:#ec9164;text-align:right;'>0.1461</td></tr>\n",
       "<tr><th style='border:1px solid black;color:black;background-color:#BBBBBB'><center>1</center></th><td style='color:black;background-color:#86f764;text-align:right;'>0.9414</td><td style='color:black;background-color:#f78664;text-align:right;'>0.0586</td></tr>\n",
       "<tr><th style='border:1px solid black;color:black;background-color:#BBBBBB;' rowspan = '2'>\n",
       "            <center>1</center></th><th style='border:1px solid black;color:black;background-color:#BBBBBB'><center>0</center></th><td style='color:black;background-color:#93ea64;text-align:right;'>0.8401</td><td style='color:black;background-color:#ea9364;text-align:right;'>0.1599</td></tr>\n",
       "<tr><th style='border:1px solid black;color:black;background-color:#BBBBBB'><center>1</center></th><td style='color:black;background-color:#85f864;text-align:right;'>0.9460</td><td style='color:black;background-color:#f88564;text-align:right;'>0.0540</td></tr>\n",
       "</table>"
      ],
      "text/plain": [
       "(pyAgrum.Potential<double>@000001EC96279B70) \n",
       "                    ||  E                |\n",
       "D     |B     |A     ||0        |1        |\n",
       "------|------|------||---------|---------|\n",
       "0     |0     |0     || 0.1457  | 0.8543  |\n",
       "1     |0     |0     || 0.3192  | 0.6808  |\n",
       "0     |1     |0     || 0.1329  | 0.8671  |\n",
       "1     |1     |0     || 0.3384  | 0.6616  |\n",
       "0     |0     |1     || 0.8539  | 0.1461  |\n",
       "1     |0     |1     || 0.9414  | 0.0586  |\n",
       "0     |1     |1     || 0.8401  | 0.1599  |\n",
       "1     |1     |1     || 0.9460  | 0.0540  |"
      ]
     },
     "execution_count": 4,
     "metadata": {},
     "output_type": "execute_result"
    }
   ],
   "source": [
    "ie.evidenceImpact(\"E\",[\"A\",\"F\",\"B\",\"D\"]) # {A,D,B} d-separates E and F"
   ]
  },
  {
   "cell_type": "code",
   "execution_count": 5,
   "metadata": {
    "ExecuteTime": {
     "end_time": "2019-02-25T16:37:46.503831Z",
     "start_time": "2019-02-25T16:37:46.493996Z"
    },
    "execution": {
     "iopub.execute_input": "2021-09-19T21:46:29.590457Z",
     "iopub.status.busy": "2021-09-19T21:46:29.590457Z",
     "iopub.status.idle": "2021-09-19T21:46:29.605458Z",
     "shell.execute_reply": "2021-09-19T21:46:29.604459Z",
     "shell.execute_reply.started": "2021-09-19T21:46:29.590457Z"
    }
   },
   "outputs": [
    {
     "data": {
      "text/html": [
       "<table style=\"border:1px solid black;\">\n",
       "<tr><th colspan='3'></th>\n",
       "      <th colspan='2' style='border:1px solid black;color:black;background-color:#808080;'><center>E</center>\n",
       "      </th></tr>\n",
       "<tr><th style='border:1px solid black;color:black;background-color:#808080'><center>C</center></th><th style='border:1px solid black;color:black;background-color:#808080'><center>A</center></th><th style='border:1px solid black;color:black;background-color:#808080'><center>D</center></th><th style='border:1px solid black;border-bottom-style: double;color:black;background-color:#BBBBBB'>\n",
       "      <center>0</center></th><th style='border:1px solid black;border-bottom-style: double;color:black;background-color:#BBBBBB'>\n",
       "      <center>1</center></th></tr>\n",
       "<tr><th style='border:1px solid black;color:black;background-color:#BBBBBB;' rowspan = '4'>\n",
       "            <center>0</center></th><th style='border:1px solid black;color:black;background-color:#BBBBBB;' rowspan = '2'>\n",
       "            <center>0</center></th><th style='border:1px solid black;color:black;background-color:#BBBBBB'><center>0</center></th><td style='color:black;background-color:#f88564;text-align:right;'>0.0537</td><td style='color:black;background-color:#85f864;text-align:right;'>0.9463</td></tr>\n",
       "<tr><th style='border:1px solid black;color:black;background-color:#BBBBBB'><center>1</center></th><td style='color:black;background-color:#b4c964;text-align:right;'>0.5785</td><td style='color:black;background-color:#c9b464;text-align:right;'>0.4215</td></tr>\n",
       "<tr><th style='border:1px solid black;color:black;background-color:#BBBBBB;' rowspan = '2'>\n",
       "            <center>1</center></th><th style='border:1px solid black;color:black;background-color:#BBBBBB'><center>0</center></th><td style='color:black;background-color:#aad364;text-align:right;'>0.6604</td><td style='color:black;background-color:#d3aa64;text-align:right;'>0.3396</td></tr>\n",
       "<tr><th style='border:1px solid black;color:black;background-color:#BBBBBB'><center>1</center></th><td style='color:black;background-color:#81fc64;text-align:right;'>0.9792</td><td style='color:black;background-color:#fc8164;text-align:right;'>0.0208</td></tr>\n",
       "<tr><th style='border:1px solid black;color:black;background-color:#BBBBBB;' rowspan = '4'>\n",
       "            <center>1</center></th><th style='border:1px solid black;color:black;background-color:#BBBBBB;' rowspan = '2'>\n",
       "            <center>0</center></th><th style='border:1px solid black;color:black;background-color:#BBBBBB'><center>0</center></th><td style='color:black;background-color:#dca164;text-align:right;'>0.2733</td><td style='color:black;background-color:#a1dc64;text-align:right;'>0.7267</td></tr>\n",
       "<tr><th style='border:1px solid black;color:black;background-color:#BBBBBB'><center>1</center></th><td style='color:black;background-color:#e39a64;text-align:right;'>0.2147</td><td style='color:black;background-color:#9ae364;text-align:right;'>0.7853</td></tr>\n",
       "<tr><th style='border:1px solid black;color:black;background-color:#BBBBBB;' rowspan = '2'>\n",
       "            <center>1</center></th><th style='border:1px solid black;color:black;background-color:#BBBBBB'><center>0</center></th><td style='color:black;background-color:#88f564;text-align:right;'>0.9280</td><td style='color:black;background-color:#f58864;text-align:right;'>0.0720</td></tr>\n",
       "<tr><th style='border:1px solid black;color:black;background-color:#BBBBBB'><center>1</center></th><td style='color:black;background-color:#8bf264;text-align:right;'>0.9035</td><td style='color:black;background-color:#f28b64;text-align:right;'>0.0965</td></tr>\n",
       "</table>"
      ],
      "text/plain": [
       "(pyAgrum.Potential<double>@000001EC9627A030) \n",
       "                    ||  E                |\n",
       "D     |A     |C     ||0        |1        |\n",
       "------|------|------||---------|---------|\n",
       "0     |0     |0     || 0.0537  | 0.9463  |\n",
       "1     |0     |0     || 0.5785  | 0.4215  |\n",
       "0     |1     |0     || 0.6604  | 0.3396  |\n",
       "1     |1     |0     || 0.9792  | 0.0208  |\n",
       "0     |0     |1     || 0.2733  | 0.7267  |\n",
       "1     |0     |1     || 0.2147  | 0.7853  |\n",
       "0     |1     |1     || 0.9280  | 0.0720  |\n",
       "1     |1     |1     || 0.9035  | 0.0965  |"
      ]
     },
     "execution_count": 5,
     "metadata": {},
     "output_type": "execute_result"
    }
   ],
   "source": [
    "ie.evidenceImpact(\"E\",[\"A\",\"B\",\"C\",\"D\",\"F\"]) # {A,C,D} d-separates E and {B,F}"
   ]
  },
  {
   "cell_type": "code",
   "execution_count": 6,
   "metadata": {
    "ExecuteTime": {
     "end_time": "2019-02-25T16:37:46.514303Z",
     "start_time": "2019-02-25T16:37:46.506505Z"
    },
    "execution": {
     "iopub.execute_input": "2021-09-19T21:46:29.607457Z",
     "iopub.status.busy": "2021-09-19T21:46:29.607457Z",
     "iopub.status.idle": "2021-09-19T21:46:29.621457Z",
     "shell.execute_reply": "2021-09-19T21:46:29.620458Z",
     "shell.execute_reply.started": "2021-09-19T21:46:29.607457Z"
    }
   },
   "outputs": [
    {
     "data": {
      "text/html": [
       "<table style=\"border:1px solid black;\">\n",
       "<tr><th colspan='3'></th>\n",
       "      <th colspan='2' style='border:1px solid black;color:black;background-color:#808080;'><center>A</center>\n",
       "      </th></tr>\n",
       "<tr><th style='border:1px solid black;color:black;background-color:#808080'><center>E</center></th><th style='border:1px solid black;color:black;background-color:#808080'><center>B</center></th><th style='border:1px solid black;color:black;background-color:#808080'><center>F</center></th><th style='border:1px solid black;border-bottom-style: double;color:black;background-color:#BBBBBB'>\n",
       "      <center>0</center></th><th style='border:1px solid black;border-bottom-style: double;color:black;background-color:#BBBBBB'>\n",
       "      <center>1</center></th></tr>\n",
       "<tr><th style='border:1px solid black;color:black;background-color:#BBBBBB;' rowspan = '4'>\n",
       "            <center>0</center></th><th style='border:1px solid black;color:black;background-color:#BBBBBB;' rowspan = '2'>\n",
       "            <center>0</center></th><th style='border:1px solid black;color:black;background-color:#BBBBBB'><center>0</center></th><td style='text-align:right;'>0.0359</td><td style='text-align:right;'>0.6627</td></tr>\n",
       "<tr><th style='border:1px solid black;color:black;background-color:#BBBBBB'><center>1</center></th><td style='text-align:right;'>0.0128</td><td style='text-align:right;'>0.2887</td></tr>\n",
       "<tr><th style='border:1px solid black;color:black;background-color:#BBBBBB;' rowspan = '2'>\n",
       "            <center>1</center></th><th style='border:1px solid black;color:black;background-color:#BBBBBB'><center>0</center></th><td style='text-align:right;'>0.1216</td><td style='text-align:right;'>0.6684</td></tr>\n",
       "<tr><th style='border:1px solid black;color:black;background-color:#BBBBBB'><center>1</center></th><td style='text-align:right;'>0.0347</td><td style='text-align:right;'>0.1753</td></tr>\n",
       "<tr><th style='border:1px solid black;color:black;background-color:#BBBBBB;' rowspan = '4'>\n",
       "            <center>1</center></th><th style='border:1px solid black;color:black;background-color:#BBBBBB;' rowspan = '2'>\n",
       "            <center>0</center></th><th style='border:1px solid black;color:black;background-color:#BBBBBB'><center>0</center></th><td style='text-align:right;'>0.4693</td><td style='text-align:right;'>0.2531</td></tr>\n",
       "<tr><th style='border:1px solid black;color:black;background-color:#BBBBBB'><center>1</center></th><td style='text-align:right;'>0.1673</td><td style='text-align:right;'>0.1103</td></tr>\n",
       "<tr><th style='border:1px solid black;color:black;background-color:#BBBBBB;' rowspan = '2'>\n",
       "            <center>1</center></th><th style='border:1px solid black;color:black;background-color:#BBBBBB'><center>0</center></th><td style='text-align:right;'>0.6718</td><td style='text-align:right;'>0.1078</td></tr>\n",
       "<tr><th style='border:1px solid black;color:black;background-color:#BBBBBB'><center>1</center></th><td style='text-align:right;'>0.1921</td><td style='text-align:right;'>0.0283</td></tr>\n",
       "</table>"
      ],
      "text/plain": [
       "(pyAgrum.Potential<double>@000001EC96279B90) \n",
       "                    ||  A                |\n",
       "F     |B     |E     ||0        |1        |\n",
       "------|------|------||---------|---------|\n",
       "0     |0     |0     || 0.0359  | 0.6627  |\n",
       "1     |0     |0     || 0.0128  | 0.2887  |\n",
       "0     |1     |0     || 0.1216  | 0.6684  |\n",
       "1     |1     |0     || 0.0347  | 0.1753  |\n",
       "0     |0     |1     || 0.4693  | 0.2531  |\n",
       "1     |0     |1     || 0.1673  | 0.1103  |\n",
       "0     |1     |1     || 0.6718  | 0.1078  |\n",
       "1     |1     |1     || 0.1921  | 0.0283  |"
      ]
     },
     "execution_count": 6,
     "metadata": {},
     "output_type": "execute_result"
    }
   ],
   "source": [
    "ie.evidenceJointImpact([\"A\",\"F\"],[\"B\",\"C\",\"D\",\"E\",\"H\"]) # {B,E} d-separates [A,F] and [C,D,H]"
   ]
  },
  {
   "cell_type": "code",
   "execution_count": null,
   "metadata": {},
   "outputs": [],
   "source": []
  }
 ],
 "metadata": {
  "hide_input": false,
  "kernelspec": {
   "display_name": "Python 3 (ipykernel)",
   "language": "python",
   "name": "python3"
  },
  "language_info": {
   "codemirror_mode": {
    "name": "ipython",
    "version": 3
   },
   "file_extension": ".py",
   "mimetype": "text/x-python",
   "name": "python",
   "nbconvert_exporter": "python",
   "pygments_lexer": "ipython3",
   "version": "3.9.7"
  }
 },
 "nbformat": 4,
 "nbformat_minor": 4
}
