{
 "cells": [
  {
   "cell_type": "markdown",
   "metadata": {},
   "source": [
    "<a href=\"http://agrum.org\" target=\"blank\"><img src=\"http://agrum.gitlab.io/theme/img/logoAgrum.png\" align=\"left\" style=\"height:100px\"/></a><a rel=\"license\" href=\"http://creativecommons.org/licenses/by-nc/4.0/\"><img alt=\"Creative Commons License\" style=\"border-width:0\" src=\"https://i.creativecommons.org/l/by-nc/4.0/88x31.png\" /></a><br />This pyAgrum's notebook is licensed under a <a rel=\"license\" href=\"http://creativecommons.org/licenses/by-nc/4.0/\">Creative Commons Attribution-NonCommercial 4.0 International License</a>."
   ]
  },
  {
   "cell_type": "markdown",
   "metadata": {},
   "source": [
    "# dynamic Bayesian networks with pyAgrum"
   ]
  },
  {
   "cell_type": "code",
   "execution_count": 1,
   "metadata": {
    "ExecuteTime": {
     "end_time": "2019-06-04T07:52:58.583821Z",
     "start_time": "2019-06-04T07:52:58.310539Z"
    },
    "tags": []
   },
   "outputs": [],
   "source": [
    "import pyAgrum as gum\n",
    "import pyAgrum.lib.notebook as gnb\n",
    "import pyAgrum.lib.dynamicBN as gdyn"
   ]
  },
  {
   "cell_type": "markdown",
   "metadata": {},
   "source": [
    "### Building a 2TBN"
   ]
  },
  {
   "cell_type": "markdown",
   "metadata": {},
   "source": [
    "Note the naming convention for a 2TBN : a variable with a name $A$ is present at t=0 with the name $A0$ and at time t as $At$."
   ]
  },
  {
   "cell_type": "code",
   "execution_count": 2,
   "metadata": {
    "ExecuteTime": {
     "end_time": "2019-06-04T07:53:00.384470Z",
     "start_time": "2019-06-04T07:52:58.586393Z"
    },
    "tags": []
   },
   "outputs": [
    {
     "data": {
      "image/svg+xml": [
       "<svg xmlns=\"http://www.w3.org/2000/svg\" xmlns:xlink=\"http://www.w3.org/1999/xlink\" width=\"284pt\" height=\"188pt\" viewBox=\"0.00 0.00 283.53 188.00\">\n",
       "<g id=\"graph0\" class=\"graph\" transform=\"scale(1 1) rotate(0) translate(4 184)\">\n",
       "<title>G</title>\n",
       "<!-- ct -->\n",
       "<g id=\"node1\" class=\"node\">\n",
       "<title>ct</title>\n",
       "<g id=\"a_node1\"><a xlink:title=\"(5) ct\">\n",
       "<ellipse fill=\"#404040\" stroke=\"black\" cx=\"39.53\" cy=\"-18\" rx=\"27\" ry=\"18\"/>\n",
       "<text text-anchor=\"middle\" x=\"39.53\" y=\"-14.3\" font-family=\"Times,serif\" font-size=\"14.00\" fill=\"white\">ct</text>\n",
       "</a>\n",
       "</g>\n",
       "</g>\n",
       "<!-- dt -->\n",
       "<g id=\"node2\" class=\"node\">\n",
       "<title>dt</title>\n",
       "<g id=\"a_node2\"><a xlink:title=\"(7) dt\">\n",
       "<ellipse fill=\"#404040\" stroke=\"black\" cx=\"138.53\" cy=\"-18\" rx=\"27\" ry=\"18\"/>\n",
       "<text text-anchor=\"middle\" x=\"138.53\" y=\"-14.3\" font-family=\"Times,serif\" font-size=\"14.00\" fill=\"white\">dt</text>\n",
       "</a>\n",
       "</g>\n",
       "</g>\n",
       "<!-- bt -->\n",
       "<g id=\"node3\" class=\"node\">\n",
       "<title>bt</title>\n",
       "<g id=\"a_node3\"><a xlink:title=\"(4) bt\">\n",
       "<ellipse fill=\"#404040\" stroke=\"black\" cx=\"248.53\" cy=\"-18\" rx=\"27\" ry=\"18\"/>\n",
       "<text text-anchor=\"middle\" x=\"248.53\" y=\"-14.3\" font-family=\"Times,serif\" font-size=\"14.00\" fill=\"white\">bt</text>\n",
       "</a>\n",
       "</g>\n",
       "</g>\n",
       "<!-- b0 -->\n",
       "<g id=\"node4\" class=\"node\">\n",
       "<title>b0</title>\n",
       "<g id=\"a_node4\"><a xlink:title=\"(1) b0\">\n",
       "<ellipse fill=\"#404040\" stroke=\"black\" cx=\"221.53\" cy=\"-90\" rx=\"27\" ry=\"18\"/>\n",
       "<text text-anchor=\"middle\" x=\"221.53\" y=\"-86.3\" font-family=\"Times,serif\" font-size=\"14.00\" fill=\"white\">b0</text>\n",
       "</a>\n",
       "</g>\n",
       "</g>\n",
       "<!-- b0&#45;&gt;bt -->\n",
       "<g id=\"edge6\" class=\"edge\">\n",
       "<title>b0-&gt;bt</title>\n",
       "<g id=\"a_edge6\"><a xlink:title=\"(1, 4) : \">\n",
       "<path fill=\"none\" stroke=\"#4a4a4a\" d=\"M227.93,-72.41C231.04,-64.34 234.86,-54.43 238.36,-45.35\"/>\n",
       "<polygon fill=\"#4a4a4a\" stroke=\"#4a4a4a\" points=\"241.65,-46.55 241.99,-35.96 235.12,-44.03 241.65,-46.55\"/>\n",
       "</a>\n",
       "</g>\n",
       "</g>\n",
       "<!-- at -->\n",
       "<g id=\"node5\" class=\"node\">\n",
       "<title>at</title>\n",
       "<g id=\"a_node5\"><a xlink:title=\"(3) at\">\n",
       "<ellipse fill=\"#404040\" stroke=\"black\" cx=\"111.53\" cy=\"-90\" rx=\"27\" ry=\"18\"/>\n",
       "<text text-anchor=\"middle\" x=\"111.53\" y=\"-86.3\" font-family=\"Times,serif\" font-size=\"14.00\" fill=\"white\">at</text>\n",
       "</a>\n",
       "</g>\n",
       "</g>\n",
       "<!-- at&#45;&gt;ct -->\n",
       "<g id=\"edge11\" class=\"edge\">\n",
       "<title>at-&gt;ct</title>\n",
       "<g id=\"a_edge11\"><a xlink:title=\"(3, 5) : \">\n",
       "<path fill=\"none\" stroke=\"#4a4a4a\" d=\"M96.96,-74.83C86.78,-64.94 73,-51.55 61.5,-40.36\"/>\n",
       "<polygon fill=\"#4a4a4a\" stroke=\"#4a4a4a\" points=\"63.93,-37.85 54.32,-33.38 59.05,-42.87 63.93,-37.85\"/>\n",
       "</a>\n",
       "</g>\n",
       "</g>\n",
       "<!-- d0 -->\n",
       "<g id=\"node6\" class=\"node\">\n",
       "<title>d0</title>\n",
       "<g id=\"a_node6\"><a xlink:title=\"(6) d0\">\n",
       "<ellipse fill=\"#404040\" stroke=\"black\" cx=\"39.53\" cy=\"-90\" rx=\"27\" ry=\"18\"/>\n",
       "<text text-anchor=\"middle\" x=\"39.53\" y=\"-86.3\" font-family=\"Times,serif\" font-size=\"14.00\" fill=\"white\">d0</text>\n",
       "</a>\n",
       "</g>\n",
       "</g>\n",
       "<!-- d0&#45;&gt;ct -->\n",
       "<g id=\"edge4\" class=\"edge\">\n",
       "<title>d0-&gt;ct</title>\n",
       "<g id=\"a_edge4\"><a xlink:title=\"(6, 5) : \">\n",
       "<path fill=\"none\" stroke=\"#4a4a4a\" d=\"M39.53,-71.7C39.53,-63.98 39.53,-54.71 39.53,-46.11\"/>\n",
       "<polygon fill=\"#4a4a4a\" stroke=\"#4a4a4a\" points=\"43.03,-46.1 39.53,-36.1 36.03,-46.1 43.03,-46.1\"/>\n",
       "</a>\n",
       "</g>\n",
       "</g>\n",
       "<!-- d0&#45;&gt;dt -->\n",
       "<g id=\"edge8\" class=\"edge\">\n",
       "<title>d0-&gt;dt</title>\n",
       "<g id=\"a_edge8\"><a xlink:title=\"(6, 7) : \">\n",
       "<path fill=\"none\" stroke=\"#4a4a4a\" d=\"M57.69,-76.16C72.9,-65.41 94.82,-49.91 111.99,-37.76\"/>\n",
       "<polygon fill=\"#4a4a4a\" stroke=\"#4a4a4a\" points=\"114.34,-40.39 120.48,-31.76 110.3,-34.67 114.34,-40.39\"/>\n",
       "</a>\n",
       "</g>\n",
       "</g>\n",
       "<!-- a0 -->\n",
       "<g id=\"node7\" class=\"node\">\n",
       "<title>a0</title>\n",
       "<g id=\"a_node7\"><a xlink:title=\"(0) a0\">\n",
       "<ellipse fill=\"#404040\" stroke=\"black\" cx=\"193.53\" cy=\"-162\" rx=\"27\" ry=\"18\"/>\n",
       "<text text-anchor=\"middle\" x=\"193.53\" y=\"-158.3\" font-family=\"Times,serif\" font-size=\"14.00\" fill=\"white\">a0</text>\n",
       "</a>\n",
       "</g>\n",
       "</g>\n",
       "<!-- a0&#45;&gt;dt -->\n",
       "<g id=\"edge2\" class=\"edge\">\n",
       "<title>a0-&gt;dt</title>\n",
       "<g id=\"a_edge2\"><a xlink:title=\"(0, 7) : \">\n",
       "<path fill=\"none\" stroke=\"#4a4a4a\" d=\"M187.11,-144.43C177.68,-120.09 159.99,-74.4 148.75,-45.4\"/>\n",
       "<polygon fill=\"#4a4a4a\" stroke=\"#4a4a4a\" points=\"151.95,-43.96 145.07,-35.9 145.42,-46.49 151.95,-43.96\"/>\n",
       "</a>\n",
       "</g>\n",
       "</g>\n",
       "<!-- a0&#45;&gt;bt -->\n",
       "<g id=\"edge3\" class=\"edge\">\n",
       "<title>a0-&gt;bt</title>\n",
       "<g id=\"a_edge3\"><a xlink:title=\"(0, 4) : \">\n",
       "<path fill=\"none\" stroke=\"#4a4a4a\" d=\"M214.48,-150.24C229.54,-141.22 248.69,-126.8 257.53,-108 266.74,-88.41 263.25,-63.76 258.16,-45.37\"/>\n",
       "<polygon fill=\"#4a4a4a\" stroke=\"#4a4a4a\" points=\"261.44,-44.14 255.15,-35.62 254.75,-46.2 261.44,-44.14\"/>\n",
       "</a>\n",
       "</g>\n",
       "</g>\n",
       "<!-- a0&#45;&gt;b0 -->\n",
       "<g id=\"edge1\" class=\"edge\">\n",
       "<title>a0-&gt;b0</title>\n",
       "<g id=\"a_edge1\"><a xlink:title=\"(0, 1) : \">\n",
       "<path fill=\"none\" stroke=\"#4a4a4a\" d=\"M200.16,-144.41C203.44,-136.22 207.47,-126.14 211.15,-116.95\"/>\n",
       "<polygon fill=\"#4a4a4a\" stroke=\"#4a4a4a\" points=\"214.47,-118.05 214.94,-107.47 207.98,-115.45 214.47,-118.05\"/>\n",
       "</a>\n",
       "</g>\n",
       "</g>\n",
       "<!-- a0&#45;&gt;at -->\n",
       "<g id=\"edge5\" class=\"edge\">\n",
       "<title>a0-&gt;at</title>\n",
       "<g id=\"a_edge5\"><a xlink:title=\"(0, 3) : \">\n",
       "<path fill=\"none\" stroke=\"#4a4a4a\" d=\"M177.33,-147.17C165.34,-136.94 148.84,-122.85 135.35,-111.34\"/>\n",
       "<polygon fill=\"#4a4a4a\" stroke=\"#4a4a4a\" points=\"137.29,-108.39 127.41,-104.56 132.75,-113.72 137.29,-108.39\"/>\n",
       "</a>\n",
       "</g>\n",
       "</g>\n",
       "<!-- c0 -->\n",
       "<g id=\"node8\" class=\"node\">\n",
       "<title>c0</title>\n",
       "<g id=\"a_node8\"><a xlink:title=\"(2) c0\">\n",
       "<ellipse fill=\"#404040\" stroke=\"black\" cx=\"39.53\" cy=\"-162\" rx=\"27\" ry=\"18\"/>\n",
       "<text text-anchor=\"middle\" x=\"39.53\" y=\"-158.3\" font-family=\"Times,serif\" font-size=\"14.00\" fill=\"white\">c0</text>\n",
       "</a>\n",
       "</g>\n",
       "</g>\n",
       "<!-- c0&#45;&gt;ct -->\n",
       "<g id=\"edge10\" class=\"edge\">\n",
       "<title>c0-&gt;ct</title>\n",
       "<g id=\"a_edge10\"><a xlink:title=\"(2, 5) : \">\n",
       "<path fill=\"none\" stroke=\"#4a4a4a\" d=\"M25.78,-146.07C17.57,-136.1 7.91,-122.25 3.53,-108 -1.18,-92.71 -1.18,-87.29 3.53,-72 6.81,-61.31 13.07,-50.85 19.45,-42.08\"/>\n",
       "<polygon fill=\"#4a4a4a\" stroke=\"#4a4a4a\" points=\"22.41,-43.98 25.78,-33.93 16.88,-39.69 22.41,-43.98\"/>\n",
       "</a>\n",
       "</g>\n",
       "</g>\n",
       "<!-- c0&#45;&gt;at -->\n",
       "<g id=\"edge7\" class=\"edge\">\n",
       "<title>c0-&gt;at</title>\n",
       "<g id=\"a_edge7\"><a xlink:title=\"(2, 3) : \">\n",
       "<path fill=\"none\" stroke=\"#4a4a4a\" d=\"M54.1,-146.83C64.28,-136.94 78.05,-123.55 89.56,-112.36\"/>\n",
       "<polygon fill=\"#4a4a4a\" stroke=\"#4a4a4a\" points=\"92,-114.87 96.73,-105.38 87.12,-109.85 92,-114.87\"/>\n",
       "</a>\n",
       "</g>\n",
       "</g>\n",
       "<!-- c0&#45;&gt;d0 -->\n",
       "<g id=\"edge9\" class=\"edge\">\n",
       "<title>c0-&gt;d0</title>\n",
       "<g id=\"a_edge9\"><a xlink:title=\"(2, 6) : \">\n",
       "<path fill=\"none\" stroke=\"#4a4a4a\" d=\"M39.53,-143.7C39.53,-135.98 39.53,-126.71 39.53,-118.11\"/>\n",
       "<polygon fill=\"#4a4a4a\" stroke=\"#4a4a4a\" points=\"43.03,-118.1 39.53,-108.1 36.03,-118.1 43.03,-118.1\"/>\n",
       "</a>\n",
       "</g>\n",
       "</g>\n",
       "</g>\n",
       "</svg>"
      ],
      "text/plain": [
       "<IPython.core.display.SVG object>"
      ]
     },
     "metadata": {},
     "output_type": "display_data"
    }
   ],
   "source": [
    "twodbn=gum.BayesNet()\n",
    "a0,b0,c0,at,bt,ct=[twodbn.add(gum.LabelizedVariable(s,s,6)) \n",
    "                   for s in [\"a0\",\"b0\",\"c0\",\"at\",\"bt\",\"ct\"]]\n",
    "d0,dt=[twodbn.add(gum.LabelizedVariable(s,s,3)) \n",
    "       for s in [\"d0\",\"dt\"]]\n",
    "\n",
    "twodbn.addArc(a0,b0)\n",
    "\n",
    "twodbn.addArc(c0,d0)\n",
    "twodbn.addArc(c0,at)\n",
    "\n",
    "twodbn.addArc(a0,at)\n",
    "twodbn.addArc(a0,bt)\n",
    "twodbn.addArc(a0,dt)\n",
    "twodbn.addArc(b0,bt)\n",
    "twodbn.addArc(c0,ct)\n",
    "twodbn.addArc(d0,ct)\n",
    "twodbn.addArc(d0,dt)\n",
    "\n",
    "twodbn.addArc(at,ct)\n",
    "twodbn.generateCPTs()\n",
    "\n",
    "gnb.showBN(twodbn)"
   ]
  },
  {
   "cell_type": "markdown",
   "metadata": {},
   "source": [
    "## 2TBN"
   ]
  },
  {
   "cell_type": "markdown",
   "metadata": {},
   "source": [
    "The dbn above actually is a 2TBN and is not correctly shown as a BN. Using the naming convention, it can be shown as a 2TBN."
   ]
  },
  {
   "cell_type": "code",
   "execution_count": 3,
   "metadata": {
    "ExecuteTime": {
     "end_time": "2019-06-04T07:53:02.297454Z",
     "start_time": "2019-06-04T07:53:00.388040Z"
    },
    "tags": []
   },
   "outputs": [
    {
     "data": {
      "image/svg+xml": [
       "<svg xmlns=\"http://www.w3.org/2000/svg\" xmlns:xlink=\"http://www.w3.org/1999/xlink\" width=\"233pt\" height=\"315pt\" viewBox=\"0.00 0.00 233.00 315.00\">\n",
       "<g id=\"graph0\" class=\"graph\" transform=\"scale(1 1) rotate(0) translate(4 311)\">\n",
       "<title>G</title>\n",
       "<polygon fill=\"white\" stroke=\"transparent\" points=\"-4,4 -4,-311 229,-311 229,4 -4,4\"/>\n",
       "<g id=\"clust1\" class=\"cluster\">\n",
       "<title>cluster_0</title>\n",
       "<polygon fill=\"#dddddd\" stroke=\"black\" points=\"8,-8 8,-299 110,-299 110,-8 8,-8\"/>\n",
       "<text text-anchor=\"middle\" x=\"59\" y=\"-283.8\" font-family=\"Times,serif\" font-size=\"14.00\">Time slice 0</text>\n",
       "</g>\n",
       "<g id=\"clust2\" class=\"cluster\">\n",
       "<title>cluster_t</title>\n",
       "<polygon fill=\"#dddddd\" stroke=\"black\" points=\"118,-8 118,-299 217,-299 217,-8 118,-8\"/>\n",
       "<text text-anchor=\"middle\" x=\"167.5\" y=\"-283.8\" font-family=\"Times,serif\" font-size=\"14.00\">Time slice t</text>\n",
       "</g>\n",
       "<!-- a0 -->\n",
       "<g id=\"node1\" class=\"node\">\n",
       "<title>a0</title>\n",
       "<ellipse fill=\"white\" stroke=\"#000000\" cx=\"59\" cy=\"-250\" rx=\"27\" ry=\"18\"/>\n",
       "<text text-anchor=\"middle\" x=\"59\" y=\"-246.3\" font-family=\"Times,serif\" font-size=\"14.00\">a</text>\n",
       "</g>\n",
       "<!-- b0 -->\n",
       "<g id=\"node2\" class=\"node\">\n",
       "<title>b0</title>\n",
       "<ellipse fill=\"white\" stroke=\"#000000\" cx=\"59\" cy=\"-178\" rx=\"27\" ry=\"18\"/>\n",
       "<text text-anchor=\"middle\" x=\"59\" y=\"-174.3\" font-family=\"Times,serif\" font-size=\"14.00\">b</text>\n",
       "</g>\n",
       "<!-- a0&#45;&gt;b0 -->\n",
       "<g id=\"edge1\" class=\"edge\">\n",
       "<title>a0-&gt;b0</title>\n",
       "<path fill=\"none\" stroke=\"blue\" d=\"M50,-232.94C50,-232.94 50,-205.44 50,-205.44\"/>\n",
       "<polygon fill=\"blue\" stroke=\"blue\" points=\"53.5,-205.44 50,-195.44 46.5,-205.44 53.5,-205.44\"/>\n",
       "</g>\n",
       "<!-- a0&#45;&gt;b0 -->\n",
       "<!-- at -->\n",
       "<g id=\"node5\" class=\"node\">\n",
       "<title>at</title>\n",
       "<ellipse fill=\"white\" stroke=\"#000000\" cx=\"155\" cy=\"-250\" rx=\"27\" ry=\"18\"/>\n",
       "<text text-anchor=\"middle\" x=\"155\" y=\"-246.3\" font-family=\"Times,serif\" font-size=\"14.00\">a</text>\n",
       "</g>\n",
       "<!-- a0&#45;&gt;at -->\n",
       "<g id=\"edge5\" class=\"edge\">\n",
       "<title>a0-&gt;at</title>\n",
       "<path fill=\"none\" stroke=\"blue\" d=\"M81.75,-260C81.75,-260 122.41,-260 122.41,-260\"/>\n",
       "<polygon fill=\"blue\" stroke=\"blue\" points=\"122.41,-263.5 132.41,-260 122.41,-256.5 122.41,-263.5\"/>\n",
       "</g>\n",
       "<!-- bt -->\n",
       "<g id=\"node6\" class=\"node\">\n",
       "<title>bt</title>\n",
       "<ellipse fill=\"white\" stroke=\"#000000\" cx=\"155\" cy=\"-178\" rx=\"27\" ry=\"18\"/>\n",
       "<text text-anchor=\"middle\" x=\"155\" y=\"-174.3\" font-family=\"Times,serif\" font-size=\"14.00\">b</text>\n",
       "</g>\n",
       "<!-- a0&#45;&gt;bt -->\n",
       "<g id=\"edge3\" class=\"edge\">\n",
       "<title>a0-&gt;bt</title>\n",
       "<path fill=\"none\" stroke=\"blue\" d=\"M85.4,-246C101.73,-246 119.6,-246 119.6,-246 119.6,-246 119.6,-184 119.6,-184 119.6,-184 120.57,-184 120.57,-184\"/>\n",
       "<polygon fill=\"blue\" stroke=\"blue\" points=\"119.27,-187.5 129.27,-184 119.27,-180.5 119.27,-187.5\"/>\n",
       "</g>\n",
       "<!-- dt -->\n",
       "<g id=\"node8\" class=\"node\">\n",
       "<title>dt</title>\n",
       "<ellipse fill=\"white\" stroke=\"#000000\" cx=\"155\" cy=\"-34\" rx=\"27\" ry=\"18\"/>\n",
       "<text text-anchor=\"middle\" x=\"155\" y=\"-30.3\" font-family=\"Times,serif\" font-size=\"14.00\">d</text>\n",
       "</g>\n",
       "<!-- a0&#45;&gt;dt -->\n",
       "<g id=\"edge2\" class=\"edge\">\n",
       "<title>a0-&gt;dt</title>\n",
       "<path fill=\"none\" stroke=\"blue\" d=\"M80.39,-239C91.51,-239 102.8,-239 102.8,-239 102.8,-239 102.8,-43 102.8,-43 102.8,-43 121.34,-43 121.34,-43\"/>\n",
       "<polygon fill=\"blue\" stroke=\"blue\" points=\"121.34,-46.5 131.34,-43 121.34,-39.5 121.34,-46.5\"/>\n",
       "</g>\n",
       "<!-- c0 -->\n",
       "<g id=\"node3\" class=\"node\">\n",
       "<title>c0</title>\n",
       "<ellipse fill=\"white\" stroke=\"#000000\" cx=\"59\" cy=\"-106\" rx=\"27\" ry=\"18\"/>\n",
       "<text text-anchor=\"middle\" x=\"59\" y=\"-102.3\" font-family=\"Times,serif\" font-size=\"14.00\">c</text>\n",
       "</g>\n",
       "<!-- b0&#45;&gt;c0 -->\n",
       "<!-- b0&#45;&gt;bt -->\n",
       "<g id=\"edge6\" class=\"edge\">\n",
       "<title>b0-&gt;bt</title>\n",
       "<path fill=\"none\" stroke=\"blue\" d=\"M84.47,-172C84.47,-172 119.41,-172 119.41,-172\"/>\n",
       "<polygon fill=\"blue\" stroke=\"blue\" points=\"119.41,-175.5 129.41,-172 119.41,-168.5 119.41,-175.5\"/>\n",
       "</g>\n",
       "<!-- d0 -->\n",
       "<g id=\"node4\" class=\"node\">\n",
       "<title>d0</title>\n",
       "<ellipse fill=\"white\" stroke=\"#000000\" cx=\"59\" cy=\"-34\" rx=\"27\" ry=\"18\"/>\n",
       "<text text-anchor=\"middle\" x=\"59\" y=\"-30.3\" font-family=\"Times,serif\" font-size=\"14.00\">d</text>\n",
       "</g>\n",
       "<!-- c0&#45;&gt;d0 -->\n",
       "<g id=\"edge9\" class=\"edge\">\n",
       "<title>c0-&gt;d0</title>\n",
       "<path fill=\"none\" stroke=\"blue\" d=\"M50,-88.94C50,-88.94 50,-61.44 50,-61.44\"/>\n",
       "<polygon fill=\"blue\" stroke=\"blue\" points=\"53.5,-61.44 50,-51.44 46.5,-61.44 53.5,-61.44\"/>\n",
       "</g>\n",
       "<!-- c0&#45;&gt;d0 -->\n",
       "<!-- c0&#45;&gt;at -->\n",
       "<g id=\"edge7\" class=\"edge\">\n",
       "<title>c0-&gt;at</title>\n",
       "<path fill=\"none\" stroke=\"blue\" d=\"M82.42,-115C89,-115 94.4,-115 94.4,-115 94.4,-115 94.4,-253 94.4,-253 94.4,-253 118.24,-253 118.24,-253\"/>\n",
       "<polygon fill=\"blue\" stroke=\"blue\" points=\"118.24,-256.5 128.24,-253 118.24,-249.5 118.24,-256.5\"/>\n",
       "</g>\n",
       "<!-- ct -->\n",
       "<g id=\"node7\" class=\"node\">\n",
       "<title>ct</title>\n",
       "<ellipse fill=\"white\" stroke=\"#000000\" cx=\"155\" cy=\"-106\" rx=\"27\" ry=\"18\"/>\n",
       "<text text-anchor=\"middle\" x=\"155\" y=\"-102.3\" font-family=\"Times,serif\" font-size=\"14.00\">c</text>\n",
       "</g>\n",
       "<!-- c0&#45;&gt;ct -->\n",
       "<g id=\"edge10\" class=\"edge\">\n",
       "<title>c0-&gt;ct</title>\n",
       "<path fill=\"none\" stroke=\"blue\" d=\"M86.25,-106C86.25,-106 117.68,-106 117.68,-106\"/>\n",
       "<polygon fill=\"blue\" stroke=\"blue\" points=\"117.68,-109.5 127.68,-106 117.68,-102.5 117.68,-109.5\"/>\n",
       "</g>\n",
       "<!-- d0&#45;&gt;ct -->\n",
       "<g id=\"edge4\" class=\"edge\">\n",
       "<title>d0-&gt;ct</title>\n",
       "<path fill=\"none\" stroke=\"blue\" d=\"M86.02,-34C98.75,-34 111.2,-34 111.2,-34 111.2,-34 111.2,-97 111.2,-97 111.2,-97 121.56,-97 121.56,-97\"/>\n",
       "<polygon fill=\"blue\" stroke=\"blue\" points=\"121.56,-100.5 131.56,-97 121.56,-93.5 121.56,-100.5\"/>\n",
       "</g>\n",
       "<!-- d0&#45;&gt;dt -->\n",
       "<g id=\"edge8\" class=\"edge\">\n",
       "<title>d0-&gt;dt</title>\n",
       "<path fill=\"none\" stroke=\"blue\" d=\"M82.73,-25C82.73,-25 121.54,-25 121.54,-25\"/>\n",
       "<polygon fill=\"blue\" stroke=\"blue\" points=\"121.54,-28.5 131.54,-25 121.54,-21.5 121.54,-28.5\"/>\n",
       "</g>\n",
       "<!-- at&#45;&gt;bt -->\n",
       "<!-- at&#45;&gt;ct -->\n",
       "<g id=\"edge11\" class=\"edge\">\n",
       "<title>at-&gt;ct</title>\n",
       "<path fill=\"none\" stroke=\"blue\" d=\"M182.21,-250C191.69,-250 200,-250 200,-250 200,-250 200,-106 200,-106 200,-106 192.21,-106 192.21,-106\"/>\n",
       "<polygon fill=\"blue\" stroke=\"blue\" points=\"192.21,-102.5 182.21,-106 192.21,-109.5 192.21,-102.5\"/>\n",
       "</g>\n",
       "<!-- bt&#45;&gt;ct -->\n",
       "<!-- ct&#45;&gt;dt -->\n",
       "</g>\n",
       "</svg>"
      ],
      "text/plain": [
       "<IPython.core.display.SVG object>"
      ]
     },
     "metadata": {},
     "output_type": "display_data"
    }
   ],
   "source": [
    "gdyn.showTimeSlices(twodbn)"
   ]
  },
  {
   "cell_type": "markdown",
   "metadata": {},
   "source": [
    "## unrolling 2TBN"
   ]
  },
  {
   "cell_type": "markdown",
   "metadata": {},
   "source": [
    "A dBN is 'unrolled' using the 2TBN and the time period size. For a couple $a_0$,$a_t$ in the 2TBN, the unrolled dBN will include $a_0, a_1, \\cdots, a_{T-1}$"
   ]
  },
  {
   "cell_type": "code",
   "execution_count": 4,
   "metadata": {
    "ExecuteTime": {
     "end_time": "2019-06-04T07:53:04.045188Z",
     "start_time": "2019-06-04T07:53:02.300649Z"
    },
    "tags": []
   },
   "outputs": [
    {
     "ename": "InvocationException",
     "evalue": "Program terminated with status: -6. stderr follows: dot: ortho.c:155: convertSPtoRoute: Assertion `sz >= 2' failed.\n",
     "output_type": "error",
     "traceback": [
      "\u001b[0;31m---------------------------------------------------------------------------\u001b[0m",
      "\u001b[0;31mInvocationException\u001b[0m                       Traceback (most recent call last)",
      "\u001b[0;32m<ipython-input-4-79946804b4f9>\u001b[0m in \u001b[0;36m<module>\u001b[0;34m\u001b[0m\n\u001b[1;32m      2\u001b[0m \u001b[0;34m\u001b[0m\u001b[0m\n\u001b[1;32m      3\u001b[0m \u001b[0mdbn\u001b[0m\u001b[0;34m=\u001b[0m\u001b[0mgdyn\u001b[0m\u001b[0;34m.\u001b[0m\u001b[0munroll2TBN\u001b[0m\u001b[0;34m(\u001b[0m\u001b[0mtwodbn\u001b[0m\u001b[0;34m,\u001b[0m\u001b[0mT\u001b[0m\u001b[0;34m)\u001b[0m\u001b[0;34m\u001b[0m\u001b[0;34m\u001b[0m\u001b[0m\n\u001b[0;32m----> 4\u001b[0;31m \u001b[0mgdyn\u001b[0m\u001b[0;34m.\u001b[0m\u001b[0mshowTimeSlices\u001b[0m\u001b[0;34m(\u001b[0m\u001b[0mdbn\u001b[0m\u001b[0;34m,\u001b[0m\u001b[0msize\u001b[0m\u001b[0;34m=\u001b[0m\u001b[0;34m\"10\"\u001b[0m\u001b[0;34m)\u001b[0m\u001b[0;34m\u001b[0m\u001b[0;34m\u001b[0m\u001b[0m\n\u001b[0m",
      "\u001b[0;32m~/.virtualenvs/devAgrum/lib/python3.9/site-packages/pyAgrum/lib/dynamicBN.py\u001b[0m in \u001b[0;36mshowTimeSlices\u001b[0;34m(dbn, size)\u001b[0m\n\u001b[1;32m    181\u001b[0m     \u001b[0msize\u001b[0m \u001b[0;34m=\u001b[0m \u001b[0mgum\u001b[0m\u001b[0;34m.\u001b[0m\u001b[0mconfig\u001b[0m\u001b[0;34m[\u001b[0m\u001b[0;34m\"dynamicBN\"\u001b[0m\u001b[0;34m,\u001b[0m \u001b[0;34m\"default_graph_size\"\u001b[0m\u001b[0;34m]\u001b[0m\u001b[0;34m\u001b[0m\u001b[0;34m\u001b[0m\u001b[0m\n\u001b[1;32m    182\u001b[0m \u001b[0;34m\u001b[0m\u001b[0m\n\u001b[0;32m--> 183\u001b[0;31m   \u001b[0mshowGraph\u001b[0m\u001b[0;34m(\u001b[0m\u001b[0m_TimeSlicesToDot\u001b[0m\u001b[0;34m(\u001b[0m\u001b[0mdbn\u001b[0m\u001b[0;34m)\u001b[0m\u001b[0;34m,\u001b[0m \u001b[0msize\u001b[0m\u001b[0;34m)\u001b[0m\u001b[0;34m\u001b[0m\u001b[0;34m\u001b[0m\u001b[0m\n\u001b[0m\u001b[1;32m    184\u001b[0m \u001b[0;34m\u001b[0m\u001b[0m\n\u001b[1;32m    185\u001b[0m \u001b[0;34m\u001b[0m\u001b[0m\n",
      "\u001b[0;32m~/.virtualenvs/devAgrum/lib/python3.9/site-packages/pyAgrum/lib/notebook.py\u001b[0m in \u001b[0;36mshowGraph\u001b[0;34m(gr, size)\u001b[0m\n\u001b[1;32m    259\u001b[0m     \u001b[0msize\u001b[0m \u001b[0;34m=\u001b[0m \u001b[0mgum\u001b[0m\u001b[0;34m.\u001b[0m\u001b[0mconfig\u001b[0m\u001b[0;34m[\u001b[0m\u001b[0;34m\"notebook\"\u001b[0m\u001b[0;34m,\u001b[0m \u001b[0;34m\"default_graph_size\"\u001b[0m\u001b[0;34m]\u001b[0m\u001b[0;34m\u001b[0m\u001b[0;34m\u001b[0m\u001b[0m\n\u001b[1;32m    260\u001b[0m \u001b[0;34m\u001b[0m\u001b[0m\n\u001b[0;32m--> 261\u001b[0;31m   \u001b[0;32mreturn\u001b[0m \u001b[0m_reprGraph\u001b[0m\u001b[0;34m(\u001b[0m\u001b[0mgr\u001b[0m\u001b[0;34m,\u001b[0m \u001b[0msize\u001b[0m\u001b[0;34m,\u001b[0m \u001b[0masString\u001b[0m\u001b[0;34m=\u001b[0m\u001b[0;32mFalse\u001b[0m\u001b[0;34m)\u001b[0m\u001b[0;34m\u001b[0m\u001b[0;34m\u001b[0m\u001b[0m\n\u001b[0m\u001b[1;32m    262\u001b[0m \u001b[0;34m\u001b[0m\u001b[0m\n\u001b[1;32m    263\u001b[0m \u001b[0;34m\u001b[0m\u001b[0m\n",
      "\u001b[0;32m~/.virtualenvs/devAgrum/lib/python3.9/site-packages/pyAgrum/lib/notebook.py\u001b[0m in \u001b[0;36m_reprGraph\u001b[0;34m(gr, size, asString, format)\u001b[0m\n\u001b[1;32m    235\u001b[0m \u001b[0;34m\u001b[0m\u001b[0m\n\u001b[1;32m    236\u001b[0m   \u001b[0;32mif\u001b[0m \u001b[0mformat\u001b[0m \u001b[0;34m==\u001b[0m \u001b[0;34m\"svg\"\u001b[0m\u001b[0;34m:\u001b[0m\u001b[0;34m\u001b[0m\u001b[0;34m\u001b[0m\u001b[0m\n\u001b[0;32m--> 237\u001b[0;31m     \u001b[0mgsvg\u001b[0m \u001b[0;34m=\u001b[0m \u001b[0mIPython\u001b[0m\u001b[0;34m.\u001b[0m\u001b[0mdisplay\u001b[0m\u001b[0;34m.\u001b[0m\u001b[0mSVG\u001b[0m\u001b[0;34m(\u001b[0m\u001b[0m__insertLinkedSVGs\u001b[0m\u001b[0;34m(\u001b[0m\u001b[0mgr\u001b[0m\u001b[0;34m.\u001b[0m\u001b[0mcreate_svg\u001b[0m\u001b[0;34m(\u001b[0m\u001b[0;34m)\u001b[0m\u001b[0;34m.\u001b[0m\u001b[0mdecode\u001b[0m\u001b[0;34m(\u001b[0m\u001b[0;34m'utf-8'\u001b[0m\u001b[0;34m)\u001b[0m\u001b[0;34m)\u001b[0m\u001b[0;34m)\u001b[0m\u001b[0;34m\u001b[0m\u001b[0;34m\u001b[0m\u001b[0m\n\u001b[0m\u001b[1;32m    238\u001b[0m     \u001b[0;32mif\u001b[0m \u001b[0masString\u001b[0m\u001b[0;34m:\u001b[0m\u001b[0;34m\u001b[0m\u001b[0;34m\u001b[0m\u001b[0m\n\u001b[1;32m    239\u001b[0m       \u001b[0;32mreturn\u001b[0m \u001b[0mgsvg\u001b[0m\u001b[0;34m.\u001b[0m\u001b[0mdata\u001b[0m\u001b[0;34m\u001b[0m\u001b[0;34m\u001b[0m\u001b[0m\n",
      "\u001b[0;32m~/.virtualenvs/devAgrum/lib/python3.9/site-packages/pydotplus/graphviz.py\u001b[0m in \u001b[0;36m<lambda>\u001b[0;34m(f, prog)\u001b[0m\n\u001b[1;32m   1795\u001b[0m             self.__setattr__(\n\u001b[1;32m   1796\u001b[0m                 \u001b[0;34m'create_'\u001b[0m \u001b[0;34m+\u001b[0m \u001b[0mfrmt\u001b[0m\u001b[0;34m,\u001b[0m\u001b[0;34m\u001b[0m\u001b[0;34m\u001b[0m\u001b[0m\n\u001b[0;32m-> 1797\u001b[0;31m                 \u001b[0;32mlambda\u001b[0m \u001b[0mf\u001b[0m\u001b[0;34m=\u001b[0m\u001b[0mfrmt\u001b[0m\u001b[0;34m,\u001b[0m \u001b[0mprog\u001b[0m\u001b[0;34m=\u001b[0m\u001b[0mself\u001b[0m\u001b[0;34m.\u001b[0m\u001b[0mprog\u001b[0m\u001b[0;34m:\u001b[0m \u001b[0mself\u001b[0m\u001b[0;34m.\u001b[0m\u001b[0mcreate\u001b[0m\u001b[0;34m(\u001b[0m\u001b[0mformat\u001b[0m\u001b[0;34m=\u001b[0m\u001b[0mf\u001b[0m\u001b[0;34m,\u001b[0m \u001b[0mprog\u001b[0m\u001b[0;34m=\u001b[0m\u001b[0mprog\u001b[0m\u001b[0;34m)\u001b[0m\u001b[0;34m\u001b[0m\u001b[0;34m\u001b[0m\u001b[0m\n\u001b[0m\u001b[1;32m   1798\u001b[0m             )\n\u001b[1;32m   1799\u001b[0m             \u001b[0mf\u001b[0m \u001b[0;34m=\u001b[0m \u001b[0mself\u001b[0m\u001b[0;34m.\u001b[0m\u001b[0m__dict__\u001b[0m\u001b[0;34m[\u001b[0m\u001b[0;34m'create_'\u001b[0m \u001b[0;34m+\u001b[0m \u001b[0mfrmt\u001b[0m\u001b[0;34m]\u001b[0m\u001b[0;34m\u001b[0m\u001b[0;34m\u001b[0m\u001b[0m\n",
      "\u001b[0;32m~/.virtualenvs/devAgrum/lib/python3.9/site-packages/pydotplus/graphviz.py\u001b[0m in \u001b[0;36mcreate\u001b[0;34m(self, prog, format)\u001b[0m\n\u001b[1;32m   2028\u001b[0m \u001b[0;34m\u001b[0m\u001b[0m\n\u001b[1;32m   2029\u001b[0m         \u001b[0;32mif\u001b[0m \u001b[0mstatus\u001b[0m \u001b[0;34m!=\u001b[0m \u001b[0;36m0\u001b[0m\u001b[0;34m:\u001b[0m\u001b[0;34m\u001b[0m\u001b[0;34m\u001b[0m\u001b[0m\n\u001b[0;32m-> 2030\u001b[0;31m             raise InvocationException(\n\u001b[0m\u001b[1;32m   2031\u001b[0m                 'Program terminated with status: %d. stderr follows: %s' % (\n\u001b[1;32m   2032\u001b[0m                     status, stderr_output))\n",
      "\u001b[0;31mInvocationException\u001b[0m: Program terminated with status: -6. stderr follows: dot: ortho.c:155: convertSPtoRoute: Assertion `sz >= 2' failed.\n"
     ]
    }
   ],
   "source": [
    "T=5\n",
    "\n",
    "dbn=gdyn.unroll2TBN(twodbn,T)\n",
    "gdyn.showTimeSlices(dbn,size=\"10\")"
   ]
  },
  {
   "cell_type": "markdown",
   "metadata": {},
   "source": [
    "We can infer on bn just as on a normal bn. Following the naming convention in 2TBN, the variables in a dbN are named using the convention $a_i$ where $i$ is the number of their time slice."
   ]
  },
  {
   "cell_type": "code",
   "execution_count": null,
   "metadata": {
    "ExecuteTime": {
     "end_time": "2019-06-04T07:53:04.599357Z",
     "start_time": "2019-06-04T07:53:04.048355Z"
    },
    "tags": []
   },
   "outputs": [],
   "source": [
    "gnb.flow.clear()\n",
    "for i in range(T):\n",
    "    gnb.flow.add_html(gnb.getPosterior(dbn,target=\"d{}\".format(i),evs={}),\"$P(d{})$\".format(i))\n",
    "gnb.flow.display()"
   ]
  },
  {
   "cell_type": "markdown",
   "metadata": {},
   "source": [
    "## dynamic inference : following variables"
   ]
  },
  {
   "cell_type": "markdown",
   "metadata": {},
   "source": [
    "`gdyn.plotFollow` directly ask for the 2TBN, unroll it and add evidence `evs`. Then it shows the dynamic of variable $a$ for instance by plotting $a_0,a_1,\\cdots,a_{T-1}$."
   ]
  },
  {
   "cell_type": "code",
   "execution_count": null,
   "metadata": {
    "ExecuteTime": {
     "end_time": "2019-06-04T07:53:05.646323Z",
     "start_time": "2019-06-04T07:53:04.603450Z"
    },
    "tags": []
   },
   "outputs": [],
   "source": [
    "import matplotlib.pyplot as plt\n",
    "\n",
    "plt.rcParams['figure.figsize'] = (10, 2)\n",
    "gdyn.plotFollow([\"a\",\"b\",\"c\",\"d\"],twodbn,T=51,evs={'a9':2,'a30':0,'c14':0,'b40':0,'c50':3})  "
   ]
  },
  {
   "cell_type": "markdown",
   "metadata": {},
   "source": [
    "# nsDBN (Non-Stationnary Dynamic Bayesian network)"
   ]
  },
  {
   "cell_type": "code",
   "execution_count": null,
   "metadata": {
    "ExecuteTime": {
     "end_time": "2019-06-04T07:53:07.723929Z",
     "start_time": "2019-06-04T07:53:05.648512Z"
    },
    "tags": []
   },
   "outputs": [],
   "source": [
    "T=15\n",
    "\n",
    "dbn=gdyn.unroll2TBN(twodbn,T)\n",
    "gdyn.showTimeSlices(dbn)"
   ]
  },
  {
   "cell_type": "markdown",
   "metadata": {},
   "source": [
    "Non-stationnaty DBN allows to express that the dBN do not follow the same 2TBN during all steps. A `unrolled dbn` is  a classical BayesNet and then can be changed as you want after unrolling."
   ]
  },
  {
   "cell_type": "code",
   "execution_count": null,
   "metadata": {
    "ExecuteTime": {
     "end_time": "2019-06-04T07:53:07.733456Z",
     "start_time": "2019-06-04T07:53:07.726702Z"
    },
    "tags": []
   },
   "outputs": [],
   "source": [
    "# new P(ct|c0) \n",
    "pot=gum.Potential().add(twodbn.variableFromName(\"ct\")).add(twodbn.variableFromName(\"c0\"))  \n",
    "pot.fillWith([1,0,0,0.1]*9).normalizeAsCPT() # 36 valeurs normalized as CPT"
   ]
  },
  {
   "cell_type": "code",
   "execution_count": null,
   "metadata": {
    "ExecuteTime": {
     "end_time": "2019-06-04T07:53:09.924041Z",
     "start_time": "2019-06-04T07:53:07.735556Z"
    },
    "tags": []
   },
   "outputs": [],
   "source": [
    "# from steps 5 to 10, $C_t$ only depends on $C_{t-1}$ and follows this new CPT\n",
    "for i in range(5,11):\n",
    "    dbn.eraseArc(f\"d{i-1}\",f\"c{i}\")\n",
    "    dbn.eraseArc(f\"a{i}\",f\"c{i}\")\n",
    "    dbn.cpt(f\"c{i}\").fillWith(pot,[\"ct\",\"c0\"]) # ct in pot <- first var of cpt, c0 in pot<-second var in cpt\n",
    "    \n",
    "gdyn.showTimeSlices(dbn,size=\"14\")"
   ]
  },
  {
   "cell_type": "code",
   "execution_count": null,
   "metadata": {
    "ExecuteTime": {
     "end_time": "2019-06-04T07:53:10.754947Z",
     "start_time": "2019-06-04T07:53:09.928402Z"
    },
    "tags": []
   },
   "outputs": [],
   "source": [
    "plt.rcParams['figure.figsize'] = (10, 2)\n",
    "gdyn.plotFollowUnrolled([\"a\",\"b\",\"c\",\"d\"],dbn,T=15,evs={'a9':2,'c14':0})  "
   ]
  },
  {
   "cell_type": "code",
   "execution_count": null,
   "metadata": {},
   "outputs": [],
   "source": []
  }
 ],
 "metadata": {
  "hide_input": false,
  "kernelspec": {
   "display_name": "Python 3",
   "language": "python",
   "name": "python3"
  },
  "language_info": {
   "codemirror_mode": {
    "name": "ipython",
    "version": 3
   },
   "file_extension": ".py",
   "mimetype": "text/x-python",
   "name": "python",
   "nbconvert_exporter": "python",
   "pygments_lexer": "ipython3",
   "version": "3.9.5"
  }
 },
 "nbformat": 4,
 "nbformat_minor": 4
}
