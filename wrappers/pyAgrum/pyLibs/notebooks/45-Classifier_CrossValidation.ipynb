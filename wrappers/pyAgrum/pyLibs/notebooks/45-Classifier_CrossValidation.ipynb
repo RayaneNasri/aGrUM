{
 "cells": [
  {
   "cell_type": "markdown",
   "id": "fa369328",
   "metadata": {},
   "source": [
    "<a href=\"http://agrum.org\" target=\"blank\"><img src=\"http://agrum.gitlab.io/theme/img/logoAgrum.png\" align=\"left\" style=\"height:100px\"/></a><a rel=\"license\" href=\"http://creativecommons.org/licenses/by-nc/4.0/\"><img alt=\"Creative Commons License\" style=\"border-width:0\" src=\"https://i.creativecommons.org/l/by-nc/4.0/88x31.png\" /></a><br />This pyAgrum's notebook is licensed under a <a rel=\"license\" href=\"http://creativecommons.org/licenses/by-nc/4.0/\">Creative Commons Attribution-NonCommercial 4.0 International License</a>."
   ]
  },
  {
   "cell_type": "code",
   "execution_count": 1,
   "id": "519bc139",
   "metadata": {
    "execution": {
     "iopub.execute_input": "2021-04-03T17:53:28.757210Z",
     "iopub.status.busy": "2021-04-03T17:53:28.757210Z",
     "iopub.status.idle": "2021-04-03T17:53:30.221181Z",
     "shell.execute_reply": "2021-04-03T17:53:30.219179Z",
     "shell.execute_reply.started": "2021-04-03T17:53:28.757210Z"
    },
    "tags": []
   },
   "outputs": [],
   "source": [
    "import pyAgrum as gum\n",
    "import pyAgrum.lib.notebook as gnb\n",
    "from pyAgrum.skbn import BNClassifier"
   ]
  },
  {
   "cell_type": "code",
   "execution_count": 2,
   "id": "01a5a21a",
   "metadata": {
    "execution": {
     "iopub.execute_input": "2021-04-03T17:53:30.222180Z",
     "iopub.status.busy": "2021-04-03T17:53:30.222180Z",
     "iopub.status.idle": "2021-04-03T17:53:30.314180Z",
     "shell.execute_reply": "2021-04-03T17:53:30.313179Z",
     "shell.execute_reply.started": "2021-04-03T17:53:30.222180Z"
    },
    "tags": []
   },
   "outputs": [],
   "source": [
    "from sklearn.model_selection import cross_validate\n",
    "from sklearn import datasets\n",
    "# get iris data\n",
    "iris = datasets.load_iris()\n",
    "X = iris.data\n",
    "y = iris.target"
   ]
  },
  {
   "cell_type": "markdown",
   "id": "fdbde784",
   "metadata": {},
   "source": [
    "# Using sklearn to cross-validate bayesian network classifier"
   ]
  },
  {
   "cell_type": "markdown",
   "id": "c9c61096",
   "metadata": {},
   "source": [
    "The purpose of this notebook is to show the possible integration of the pyAgrum's classifier in the scikit-learn's ecosystem. Thus, it is possible to use the tools provided by scikit-learn for crossfolding for pyAgrum's Bayesian network."
   ]
  },
  {
   "cell_type": "code",
   "execution_count": 15,
   "id": "4b86bb84",
   "metadata": {
    "execution": {
     "iopub.execute_input": "2021-04-03T17:59:48.594217Z",
     "iopub.status.busy": "2021-04-03T17:59:48.594217Z",
     "iopub.status.idle": "2021-04-03T17:59:48.603149Z",
     "shell.execute_reply": "2021-04-03T17:59:48.602144Z",
     "shell.execute_reply.started": "2021-04-03T17:59:48.594217Z"
    },
    "tags": []
   },
   "outputs": [],
   "source": [
    "model = BNClassifier(learningMethod='MIIC', aPriori='Laplace', aPrioriWeight=1, \n",
    "                     discretizationNbBins=3,discretizationStrategy=\"kmeans\",discretizationThreshold=10)"
   ]
  },
  {
   "cell_type": "code",
   "execution_count": 17,
   "id": "4b4dca83",
   "metadata": {
    "execution": {
     "iopub.execute_input": "2021-04-03T17:59:50.624542Z",
     "iopub.status.busy": "2021-04-03T17:59:50.623541Z",
     "iopub.status.idle": "2021-04-03T17:59:51.158364Z",
     "shell.execute_reply": "2021-04-03T17:59:51.156367Z",
     "shell.execute_reply.started": "2021-04-03T17:59:50.624542Z"
    },
    "tags": []
   },
   "outputs": [
    {
     "name": "stdout",
     "output_type": "stream",
     "text": [
      "scores with cross-folding : [1.  1.  1.  1.  1.  1.  0.8 1.  1.  1.  0.8 1.  1.  1.  0.8 1.  1.  0.8\n",
      " 1.  1.  1.  0.8 1.  1.  1.  1.  1.  1.  1.  1. ]\n",
      "\n",
      "mean score : 0.9666666666666667\n"
     ]
    }
   ],
   "source": [
    "cv = cross_validate(model, X, y, cv=30)\n",
    "print(f\"scores with cross-folding : {cv['test_score']}\")\n",
    "print()\n",
    "\n",
    "print(f\"mean score : {cv['test_score'].mean()}\")"
   ]
  },
  {
   "cell_type": "code",
   "execution_count": 16,
   "id": "cfc6c071",
   "metadata": {
    "execution": {
     "iopub.execute_input": "2021-04-03T17:59:49.726712Z",
     "iopub.status.busy": "2021-04-03T17:59:49.725716Z",
     "iopub.status.idle": "2021-04-03T17:59:50.622539Z",
     "shell.execute_reply": "2021-04-03T17:59:50.620542Z",
     "shell.execute_reply.started": "2021-04-03T17:59:49.726712Z"
    },
    "tags": []
   },
   "outputs": [
    {
     "name": "stdout",
     "output_type": "stream",
     "text": [
      "scores with cross-folding : [1.         1.         1.         1.         1.         1.\n",
      " 1.         1.         1.         1.         1.         1.\n",
      " 1.         1.         1.         1.         1.         1.\n",
      " 1.         1.         0.66666667 1.         1.         1.\n",
      " 1.         1.         1.         0.66666667 1.         1.\n",
      " 1.         1.         1.         0.66666667 1.         1.\n",
      " 1.         1.         1.         1.         1.         1.\n",
      " 1.         1.         1.         1.         1.         1.\n",
      " 1.         1.        ]\n",
      "\n",
      "mean score : 0.98\n"
     ]
    }
   ],
   "source": [
    "cv = cross_validate(model, X, y, cv=50)\n",
    "print(f\"scores with cross-folding : {cv['test_score']}\")\n",
    "print()\n",
    "\n",
    "print(f\"mean score : {cv['test_score'].mean()}\")"
   ]
  },
  {
   "cell_type": "code",
   "execution_count": null,
   "id": "8dd042b6",
   "metadata": {},
   "outputs": [],
   "source": []
  }
 ],
 "metadata": {
  "kernelspec": {
   "display_name": "Python 3",
   "language": "python",
   "name": "python3"
  },
  "language_info": {
   "codemirror_mode": {
    "name": "ipython",
    "version": 3
   },
   "file_extension": ".py",
   "mimetype": "text/x-python",
   "name": "python",
   "nbconvert_exporter": "python",
   "pygments_lexer": "ipython3",
   "version": "3.9.2"
  }
 },
 "nbformat": 4,
 "nbformat_minor": 5
}
