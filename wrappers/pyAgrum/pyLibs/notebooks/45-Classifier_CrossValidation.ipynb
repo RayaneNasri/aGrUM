{
 "cells": [
  {
   "cell_type": "markdown",
   "id": "diverse-buying",
   "metadata": {},
   "source": [
    "<a href=\"http://agrum.org\" target=\"blank\"><img src=\"http://agrum.gitlab.io/theme/img/logoAgrum.png\" align=\"left\" style=\"height:100px\"/></a><a rel=\"license\" href=\"http://creativecommons.org/licenses/by-nc/4.0/\"><img alt=\"Creative Commons License\" style=\"border-width:0\" src=\"https://i.creativecommons.org/l/by-nc/4.0/88x31.png\" /></a><br />This pyAgrum's notebook is licensed under a <a rel=\"license\" href=\"http://creativecommons.org/licenses/by-nc/4.0/\">Creative Commons Attribution-NonCommercial 4.0 International License</a>."
   ]
  },
  {
   "cell_type": "code",
   "execution_count": 1,
   "id": "governmental-brick",
   "metadata": {
    "execution": {
     "iopub.execute_input": "2021-03-30T23:59:55.319440Z",
     "iopub.status.busy": "2021-03-30T23:59:55.318438Z",
     "iopub.status.idle": "2021-03-30T23:59:56.709434Z",
     "shell.execute_reply": "2021-03-30T23:59:56.707434Z",
     "shell.execute_reply.started": "2021-03-30T23:59:55.318438Z"
    },
    "tags": []
   },
   "outputs": [],
   "source": [
    "import pyAgrum as gum\n",
    "import pyAgrum.lib.notebook as gnb\n",
    "from pyAgrum.skbn import BNClassifier"
   ]
  },
  {
   "cell_type": "markdown",
   "id": "fresh-postcard",
   "metadata": {},
   "source": [
    "# Using sklearn to cross-validate bayesian network classifier"
   ]
  },
  {
   "cell_type": "code",
   "execution_count": 2,
   "id": "funny-gamma",
   "metadata": {
    "execution": {
     "iopub.execute_input": "2021-03-30T23:59:56.710437Z",
     "iopub.status.busy": "2021-03-30T23:59:56.710437Z",
     "iopub.status.idle": "2021-03-30T23:59:56.803438Z",
     "shell.execute_reply": "2021-03-30T23:59:56.801434Z",
     "shell.execute_reply.started": "2021-03-30T23:59:56.710437Z"
    },
    "tags": []
   },
   "outputs": [],
   "source": [
    "from sklearn.model_selection import cross_validate\n",
    "from sklearn import datasets\n",
    "# get iris data\n",
    "iris = datasets.load_iris()\n",
    "X = iris.data\n",
    "y = iris.target"
   ]
  },
  {
   "cell_type": "code",
   "execution_count": 3,
   "id": "voluntary-stocks",
   "metadata": {
    "execution": {
     "iopub.execute_input": "2021-03-30T23:59:56.806439Z",
     "iopub.status.busy": "2021-03-30T23:59:56.805443Z",
     "iopub.status.idle": "2021-03-30T23:59:57.810437Z",
     "shell.execute_reply": "2021-03-30T23:59:57.809434Z",
     "shell.execute_reply.started": "2021-03-30T23:59:56.806439Z"
    },
    "tags": []
   },
   "outputs": [
    {
     "name": "stdout",
     "output_type": "stream",
     "text": [
      "[1.         1.         1.         1.         1.         1.\n",
      " 1.         1.         1.         1.         1.         1.\n",
      " 1.         1.         1.         1.         1.         1.\n",
      " 1.         1.         0.66666667 1.         1.         1.\n",
      " 1.         1.         1.         0.66666667 1.         1.\n",
      " 1.         1.         1.         0.66666667 1.         1.\n",
      " 1.         1.         1.         1.         1.         1.\n",
      " 1.         1.         1.         1.         1.         1.\n",
      " 1.         1.        ]\n",
      "0.98\n"
     ]
    }
   ],
   "source": [
    "model = BNClassifier(learningMethod='MIIC', aPriori='Laplace', aPrioriWeight=1, discretizationNbBins=3,discretizationStrategy=\"kmeans\",discretizationThreshold=10)\n",
    "cv = cross_validate(model, X, y, cv=50)\n",
    "print(cv['test_score'])\n",
    "print(cv['test_score'].mean())"
   ]
  }
 ],
 "metadata": {
  "kernelspec": {
   "display_name": "Python 3",
   "language": "python",
   "name": "python3"
  },
  "language_info": {
   "codemirror_mode": {
    "name": "ipython",
    "version": 3
   },
   "file_extension": ".py",
   "mimetype": "text/x-python",
   "name": "python",
   "nbconvert_exporter": "python",
   "pygments_lexer": "ipython3",
   "version": "3.9.2"
  }
 },
 "nbformat": 4,
 "nbformat_minor": 5
}
