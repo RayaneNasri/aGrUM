{
 "cells": [
  {
   "cell_type": "markdown",
   "id": "2d8c4feb",
   "metadata": {},
   "source": [
    "<a href=\"http://agrum.org\" target=\"blank\"><img src=\"http://agrum.gitlab.io/theme/img/logoAgrum.png\" align=\"left\" style=\"height:100px\"/></a><a rel=\"license\" href=\"http://creativecommons.org/licenses/by-nc/4.0/\"><img alt=\"Creative Commons License\" style=\"border-width:0\" src=\"https://i.creativecommons.org/l/by-nc/4.0/88x31.png\" /></a><br />This pyAgrum's notebook is licensed under a <a rel=\"license\" href=\"http://creativecommons.org/licenses/by-nc/4.0/\">Creative Commons Attribution-NonCommercial 4.0 International License</a>."
   ]
  },
  {
   "cell_type": "code",
   "execution_count": 1,
   "id": "2d3b24eb",
   "metadata": {
    "execution": {
     "iopub.execute_input": "2021-04-02T21:30:41.840111Z",
     "iopub.status.busy": "2021-04-02T21:30:41.840111Z",
     "iopub.status.idle": "2021-04-02T21:30:43.233110Z",
     "shell.execute_reply": "2021-04-02T21:30:43.233110Z",
     "shell.execute_reply.started": "2021-04-02T21:30:41.840111Z"
    },
    "tags": []
   },
   "outputs": [],
   "source": [
    "import pyAgrum as gum\n",
    "import pyAgrum.lib.notebook as gnb\n",
    "from pyAgrum.skbn import BNClassifier"
   ]
  },
  {
   "cell_type": "markdown",
   "id": "be06143f",
   "metadata": {},
   "source": [
    "# Using sklearn to cross-validate bayesian network classifier"
   ]
  },
  {
   "cell_type": "code",
   "execution_count": 2,
   "id": "281016e4",
   "metadata": {
    "execution": {
     "iopub.execute_input": "2021-04-02T21:30:43.235111Z",
     "iopub.status.busy": "2021-04-02T21:30:43.235111Z",
     "iopub.status.idle": "2021-04-02T21:30:43.296111Z",
     "shell.execute_reply": "2021-04-02T21:30:43.295111Z",
     "shell.execute_reply.started": "2021-04-02T21:30:43.235111Z"
    },
    "tags": []
   },
   "outputs": [],
   "source": [
    "from sklearn.model_selection import cross_validate\n",
    "from sklearn import datasets\n",
    "# get iris data\n",
    "iris = datasets.load_iris()\n",
    "X = iris.data\n",
    "y = iris.target"
   ]
  },
  {
   "cell_type": "code",
   "execution_count": 3,
   "id": "476262ff",
   "metadata": {
    "execution": {
     "iopub.execute_input": "2021-04-02T21:30:43.297111Z",
     "iopub.status.busy": "2021-04-02T21:30:43.297111Z",
     "iopub.status.idle": "2021-04-02T21:30:44.468111Z",
     "shell.execute_reply": "2021-04-02T21:30:44.467110Z",
     "shell.execute_reply.started": "2021-04-02T21:30:43.297111Z"
    },
    "tags": []
   },
   "outputs": [
    {
     "name": "stdout",
     "output_type": "stream",
     "text": [
      "[1.         1.         1.         1.         1.         1.\n",
      " 1.         1.         1.         1.         1.         1.\n",
      " 1.         1.         1.         1.         1.         1.\n",
      " 1.         1.         0.66666667 1.         1.         1.\n",
      " 1.         1.         1.         0.66666667 1.         1.\n",
      " 1.         1.         1.         0.66666667 1.         1.\n",
      " 1.         1.         1.         1.         1.         1.\n",
      " 1.         1.         1.         1.         1.         1.\n",
      " 1.         1.        ]\n",
      "0.98\n"
     ]
    }
   ],
   "source": [
    "model = BNClassifier(learningMethod='MIIC', aPriori='Laplace', aPrioriWeight=1, discretizationNbBins=3,discretizationStrategy=\"kmeans\",discretizationThreshold=10)\n",
    "cv = cross_validate(model, X, y, cv=50)\n",
    "print(cv['test_score'])\n",
    "print(cv['test_score'].mean())"
   ]
  }
 ],
 "metadata": {
  "kernelspec": {
   "display_name": "Python 3",
   "language": "python",
   "name": "python3"
  },
  "language_info": {
   "codemirror_mode": {
    "name": "ipython",
    "version": 3
   },
   "file_extension": ".py",
   "mimetype": "text/x-python",
   "name": "python",
   "nbconvert_exporter": "python",
   "pygments_lexer": "ipython3",
   "version": "3.9.2"
  }
 },
 "nbformat": 4,
 "nbformat_minor": 5
}
