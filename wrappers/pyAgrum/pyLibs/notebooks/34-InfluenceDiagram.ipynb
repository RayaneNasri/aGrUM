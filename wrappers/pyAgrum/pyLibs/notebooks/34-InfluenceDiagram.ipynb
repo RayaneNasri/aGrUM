{
 "cells": [
  {
   "cell_type": "markdown",
   "metadata": {},
   "source": [
    "<a href=\"http://agrum.org\" target=\"blank\"><img src=\"http://agrum.gitlab.io/theme/img/logoAgrum.png\" align=\"left\" style=\"height:100px\"/></a><a rel=\"license\" href=\"http://creativecommons.org/licenses/by-nc/4.0/\"><img alt=\"Creative Commons License\" style=\"border-width:0\" src=\"https://i.creativecommons.org/l/by-nc/4.0/88x31.png\" /></a><br />This pyAgrum's notebook is licensed under a <a rel=\"license\" href=\"http://creativecommons.org/licenses/by-nc/4.0/\">Creative Commons Attribution-NonCommercial 4.0 International License</a>."
   ]
  },
  {
   "cell_type": "code",
   "execution_count": 1,
   "metadata": {
    "ExecuteTime": {
     "end_time": "2019-02-25T17:33:50.568756Z",
     "start_time": "2019-02-25T17:33:50.344887Z"
    }
   },
   "outputs": [],
   "source": [
    "%load_ext autoreload\n",
    "%autoreload 2\n",
    "\n",
    "import os\n",
    "\n",
    "%matplotlib inline\n",
    "from pylab import *\n",
    "import matplotlib.pyplot as plt"
   ]
  },
  {
   "cell_type": "code",
   "execution_count": 2,
   "metadata": {
    "ExecuteTime": {
     "end_time": "2019-02-25T17:33:50.578808Z",
     "start_time": "2019-02-25T17:33:50.571592Z"
    }
   },
   "outputs": [],
   "source": [
    "import pyAgrum as gum\n",
    "import pyAgrum.lib.notebook as gnb\n"
   ]
  },
  {
   "cell_type": "code",
   "execution_count": 3,
   "metadata": {
    "ExecuteTime": {
     "end_time": "2019-02-25T17:33:52.797218Z",
     "start_time": "2019-02-25T17:33:50.581194Z"
    }
   },
   "outputs": [
    {
     "data": {
      "image/svg+xml": [
       "<svg xmlns=\"http://www.w3.org/2000/svg\" xmlns:xlink=\"http://www.w3.org/1999/xlink\" width=\"326pt\" height=\"360pt\" viewBox=\"0.00 0.00 326.36 360.00\">\n",
       "<g id=\"graph0\" class=\"graph\" transform=\"scale(0.76 0.76) rotate(0) translate(4 472)\">\n",
       "<title>G</title>\n",
       "<!-- chanceVar1 -->\n",
       "<g id=\"node1\" class=\"node\">\n",
       "<title>chanceVar1</title>\n",
       "<ellipse fill=\"#504a50\" stroke=\"#4a4a4a\" cx=\"271.5\" cy=\"-378\" rx=\"51.99\" ry=\"18\"/>\n",
       "<text text-anchor=\"middle\" x=\"271.5\" y=\"-374.3\" font-family=\"Times,serif\" font-size=\"14.00\" fill=\"white\">chanceVar1</text>\n",
       "</g>\n",
       "<!-- chanceVar2 -->\n",
       "<g id=\"node2\" class=\"node\">\n",
       "<title>chanceVar2</title>\n",
       "<ellipse fill=\"#504a50\" stroke=\"#4a4a4a\" cx=\"231.5\" cy=\"-306\" rx=\"51.99\" ry=\"18\"/>\n",
       "<text text-anchor=\"middle\" x=\"231.5\" y=\"-302.3\" font-family=\"Times,serif\" font-size=\"14.00\" fill=\"white\">chanceVar2</text>\n",
       "</g>\n",
       "<!-- chanceVar1&#45;&gt;chanceVar2 -->\n",
       "<g id=\"edge7\" class=\"edge\">\n",
       "<title>chanceVar1-&gt;chanceVar2</title>\n",
       "<path fill=\"none\" stroke=\"#4a4a4a\" d=\"M261.82,-360.05C257.1,-351.8 251.33,-341.7 246.09,-332.54\"/>\n",
       "<polygon fill=\"#4a4a4a\" stroke=\"#4a4a4a\" points=\"249.09,-330.73 241.09,-323.79 243.02,-334.21 249.09,-330.73\"/>\n",
       "</g>\n",
       "<!-- utilityVar1 -->\n",
       "<g id=\"node10\" class=\"node\">\n",
       "<title>utilityVar1</title>\n",
       "<polygon fill=\"#4a5050\" stroke=\"#4a4a4a\" points=\"355.5,-180 287.46,-162 355.5,-144 423.54,-162 355.5,-180\"/>\n",
       "<text text-anchor=\"middle\" x=\"355.5\" y=\"-158.3\" font-family=\"Times,serif\" font-size=\"14.00\" fill=\"white\">utilityVar1</text>\n",
       "</g>\n",
       "<!-- chanceVar1&#45;&gt;utilityVar1 -->\n",
       "<g id=\"edge6\" class=\"edge\">\n",
       "<title>chanceVar1-&gt;utilityVar1</title>\n",
       "<path fill=\"none\" stroke=\"#4a4a4a\" d=\"M278.33,-359.82C282.44,-349.45 287.79,-335.97 292.5,-324 311.45,-275.87 333.44,-219.57 345.79,-187.92\"/>\n",
       "<polygon fill=\"#4a4a4a\" stroke=\"#4a4a4a\" points=\"349.07,-189.14 349.44,-178.55 342.55,-186.6 349.07,-189.14\"/>\n",
       "</g>\n",
       "<!-- decisionVar2 -->\n",
       "<g id=\"node7\" class=\"node\">\n",
       "<title>decisionVar2</title>\n",
       "<polygon fill=\"#50504a\" stroke=\"#4a4a4a\" points=\"275,-252 188,-252 188,-216 275,-216 275,-252\"/>\n",
       "<text text-anchor=\"middle\" x=\"231.5\" y=\"-230.3\" font-family=\"Times,serif\" font-size=\"14.00\" fill=\"white\">decisionVar2</text>\n",
       "</g>\n",
       "<!-- chanceVar2&#45;&gt;decisionVar2 -->\n",
       "<g id=\"edge8\" class=\"edge\">\n",
       "<title>chanceVar2-&gt;decisionVar2</title>\n",
       "<path fill=\"none\" stroke=\"#4a4a4a\" d=\"M231.5,-287.7C231.5,-279.98 231.5,-270.71 231.5,-262.11\"/>\n",
       "<polygon fill=\"#4a4a4a\" stroke=\"#4a4a4a\" points=\"235,-262.1 231.5,-252.1 228,-262.1 235,-262.1\"/>\n",
       "</g>\n",
       "<!-- decisionVar3 -->\n",
       "<g id=\"node8\" class=\"node\">\n",
       "<title>decisionVar3</title>\n",
       "<polygon fill=\"#50504a\" stroke=\"#4a4a4a\" points=\"162,-252 75,-252 75,-216 162,-216 162,-252\"/>\n",
       "<text text-anchor=\"middle\" x=\"118.5\" y=\"-230.3\" font-family=\"Times,serif\" font-size=\"14.00\" fill=\"white\">decisionVar3</text>\n",
       "</g>\n",
       "<!-- chanceVar2&#45;&gt;decisionVar3 -->\n",
       "<g id=\"edge9\" class=\"edge\">\n",
       "<title>chanceVar2-&gt;decisionVar3</title>\n",
       "<path fill=\"none\" stroke=\"#4a4a4a\" d=\"M207.26,-289.98C192.02,-280.54 172.07,-268.18 154.94,-257.57\"/>\n",
       "<polygon fill=\"#4a4a4a\" stroke=\"#4a4a4a\" points=\"156.63,-254.5 146.28,-252.21 152.94,-260.45 156.63,-254.5\"/>\n",
       "</g>\n",
       "<!-- chanceVar3 -->\n",
       "<g id=\"node3\" class=\"node\">\n",
       "<title>chanceVar3</title>\n",
       "<ellipse fill=\"#504a50\" stroke=\"#4a4a4a\" cx=\"95.5\" cy=\"-162\" rx=\"51.99\" ry=\"18\"/>\n",
       "<text text-anchor=\"middle\" x=\"95.5\" y=\"-158.3\" font-family=\"Times,serif\" font-size=\"14.00\" fill=\"white\">chanceVar3</text>\n",
       "</g>\n",
       "<!-- chanceVar5 -->\n",
       "<g id=\"node5\" class=\"node\">\n",
       "<title>chanceVar5</title>\n",
       "<ellipse fill=\"#504a50\" stroke=\"#4a4a4a\" cx=\"156.5\" cy=\"-90\" rx=\"51.99\" ry=\"18\"/>\n",
       "<text text-anchor=\"middle\" x=\"156.5\" y=\"-86.3\" font-family=\"Times,serif\" font-size=\"14.00\" fill=\"white\">chanceVar5</text>\n",
       "</g>\n",
       "<!-- chanceVar3&#45;&gt;chanceVar5 -->\n",
       "<g id=\"edge10\" class=\"edge\">\n",
       "<title>chanceVar3-&gt;chanceVar5</title>\n",
       "<path fill=\"none\" stroke=\"#4a4a4a\" d=\"M109.96,-144.41C117.55,-135.69 127.01,-124.85 135.4,-115.21\"/>\n",
       "<polygon fill=\"#4a4a4a\" stroke=\"#4a4a4a\" points=\"138.22,-117.31 142.15,-107.47 132.94,-112.71 138.22,-117.31\"/>\n",
       "</g>\n",
       "<!-- chanceVar4 -->\n",
       "<g id=\"node4\" class=\"node\">\n",
       "<title>chanceVar4</title>\n",
       "<ellipse fill=\"#504a50\" stroke=\"#4a4a4a\" cx=\"217.5\" cy=\"-162\" rx=\"51.99\" ry=\"18\"/>\n",
       "<text text-anchor=\"middle\" x=\"217.5\" y=\"-158.3\" font-family=\"Times,serif\" font-size=\"14.00\" fill=\"white\">chanceVar4</text>\n",
       "</g>\n",
       "<!-- chanceVar4&#45;&gt;chanceVar5 -->\n",
       "<g id=\"edge11\" class=\"edge\">\n",
       "<title>chanceVar4-&gt;chanceVar5</title>\n",
       "<path fill=\"none\" stroke=\"#4a4a4a\" d=\"M203.04,-144.41C195.45,-135.69 185.99,-124.85 177.6,-115.21\"/>\n",
       "<polygon fill=\"#4a4a4a\" stroke=\"#4a4a4a\" points=\"180.06,-112.71 170.85,-107.47 174.78,-117.31 180.06,-112.71\"/>\n",
       "</g>\n",
       "<!-- utilityVar2 -->\n",
       "<g id=\"node11\" class=\"node\">\n",
       "<title>utilityVar2</title>\n",
       "<polygon fill=\"#4a5050\" stroke=\"#4a4a4a\" points=\"99.5,-36 31.46,-18 99.5,0 167.54,-18 99.5,-36\"/>\n",
       "<text text-anchor=\"middle\" x=\"99.5\" y=\"-14.3\" font-family=\"Times,serif\" font-size=\"14.00\" fill=\"white\">utilityVar2</text>\n",
       "</g>\n",
       "<!-- chanceVar5&#45;&gt;utilityVar2 -->\n",
       "<g id=\"edge12\" class=\"edge\">\n",
       "<title>chanceVar5-&gt;utilityVar2</title>\n",
       "<path fill=\"none\" stroke=\"#4a4a4a\" d=\"M142.99,-72.41C135.38,-63.06 125.77,-51.26 117.52,-41.13\"/>\n",
       "<polygon fill=\"#4a4a4a\" stroke=\"#4a4a4a\" points=\"120.02,-38.65 110.99,-33.11 114.59,-43.07 120.02,-38.65\"/>\n",
       "</g>\n",
       "<!-- decisionVar1 -->\n",
       "<g id=\"node6\" class=\"node\">\n",
       "<title>decisionVar1</title>\n",
       "<polygon fill=\"#50504a\" stroke=\"#4a4a4a\" points=\"315,-468 228,-468 228,-432 315,-432 315,-468\"/>\n",
       "<text text-anchor=\"middle\" x=\"271.5\" y=\"-446.3\" font-family=\"Times,serif\" font-size=\"14.00\" fill=\"white\">decisionVar1</text>\n",
       "</g>\n",
       "<!-- decisionVar1&#45;&gt;chanceVar1 -->\n",
       "<g id=\"edge1\" class=\"edge\">\n",
       "<title>decisionVar1-&gt;chanceVar1</title>\n",
       "<path fill=\"none\" stroke=\"#4a4a4a\" d=\"M271.5,-431.7C271.5,-423.98 271.5,-414.71 271.5,-406.11\"/>\n",
       "<polygon fill=\"#4a4a4a\" stroke=\"#4a4a4a\" points=\"275,-406.1 271.5,-396.1 268,-406.1 275,-406.1\"/>\n",
       "</g>\n",
       "<!-- decisionVar2&#45;&gt;chanceVar4 -->\n",
       "<g id=\"edge3\" class=\"edge\">\n",
       "<title>decisionVar2-&gt;chanceVar4</title>\n",
       "<path fill=\"none\" stroke=\"#4a4a4a\" d=\"M228.04,-215.7C226.5,-207.98 224.64,-198.71 222.92,-190.11\"/>\n",
       "<polygon fill=\"#4a4a4a\" stroke=\"#4a4a4a\" points=\"226.31,-189.22 220.92,-180.1 219.45,-190.6 226.31,-189.22\"/>\n",
       "</g>\n",
       "<!-- decisionVar2&#45;&gt;utilityVar1 -->\n",
       "<g id=\"edge2\" class=\"edge\">\n",
       "<title>decisionVar2-&gt;utilityVar1</title>\n",
       "<path fill=\"none\" stroke=\"#4a4a4a\" d=\"M261.83,-215.88C281.39,-204.83 306.7,-190.55 326.08,-179.61\"/>\n",
       "<polygon fill=\"#4a4a4a\" stroke=\"#4a4a4a\" points=\"327.8,-182.65 334.79,-174.69 324.36,-176.56 327.8,-182.65\"/>\n",
       "</g>\n",
       "<!-- decisionVar3&#45;&gt;chanceVar3 -->\n",
       "<g id=\"edge4\" class=\"edge\">\n",
       "<title>decisionVar3-&gt;chanceVar3</title>\n",
       "<path fill=\"none\" stroke=\"#4a4a4a\" d=\"M112.81,-215.7C110.25,-207.9 107.17,-198.51 104.32,-189.83\"/>\n",
       "<polygon fill=\"#4a4a4a\" stroke=\"#4a4a4a\" points=\"107.57,-188.51 101.12,-180.1 100.92,-190.7 107.57,-188.51\"/>\n",
       "</g>\n",
       "<!-- decisionVar4 -->\n",
       "<g id=\"node9\" class=\"node\">\n",
       "<title>decisionVar4</title>\n",
       "<polygon fill=\"#50504a\" stroke=\"#4a4a4a\" points=\"87,-108 0,-108 0,-72 87,-72 87,-108\"/>\n",
       "<text text-anchor=\"middle\" x=\"43.5\" y=\"-86.3\" font-family=\"Times,serif\" font-size=\"14.00\" fill=\"white\">decisionVar4</text>\n",
       "</g>\n",
       "<!-- decisionVar4&#45;&gt;utilityVar2 -->\n",
       "<g id=\"edge5\" class=\"edge\">\n",
       "<title>decisionVar4-&gt;utilityVar2</title>\n",
       "<path fill=\"none\" stroke=\"#4a4a4a\" d=\"M57.34,-71.7C64.73,-62.46 73.91,-50.99 81.81,-41.12\"/>\n",
       "<polygon fill=\"#4a4a4a\" stroke=\"#4a4a4a\" points=\"84.56,-43.27 88.08,-33.28 79.1,-38.9 84.56,-43.27\"/>\n",
       "</g>\n",
       "</g>\n",
       "</svg>"
      ],
      "text/plain": [
       "<IPython.core.display.SVG object>"
      ]
     },
     "metadata": {},
     "output_type": "display_data"
    }
   ],
   "source": [
    "diag=gum.loadID(os.path.join(\"res\",\"diag.bifxml\"))\n",
    "gnb.showInfluenceDiagram(diag)"
   ]
  },
  {
   "cell_type": "code",
   "execution_count": 4,
   "metadata": {
    "ExecuteTime": {
     "end_time": "2019-02-25T17:33:54.946587Z",
     "start_time": "2019-02-25T17:33:52.799259Z"
    }
   },
   "outputs": [
    {
     "data": {
      "image/svg+xml": [
       "<svg xmlns=\"http://www.w3.org/2000/svg\" xmlns:xlink=\"http://www.w3.org/1999/xlink\" width=\"348pt\" height=\"360pt\" viewBox=\"0.00 0.00 347.91 360.00\">\n",
       "<g id=\"graph0\" class=\"graph\" transform=\"scale(0.76 0.76) rotate(0) translate(4 472)\">\n",
       "<title>G</title>\n",
       "<!-- chanceVar1 -->\n",
       "<g id=\"node1\" class=\"node\">\n",
       "<title>chanceVar1</title>\n",
       "<ellipse fill=\"#504a50\" stroke=\"#4a4a4a\" cx=\"232.02\" cy=\"-378\" rx=\"51.99\" ry=\"18\"/>\n",
       "<text text-anchor=\"middle\" x=\"232.02\" y=\"-374.3\" font-family=\"Times,serif\" font-size=\"14.00\" fill=\"white\">chanceVar1</text>\n",
       "</g>\n",
       "<!-- chanceVar2 -->\n",
       "<g id=\"node2\" class=\"node\">\n",
       "<title>chanceVar2</title>\n",
       "<ellipse fill=\"#504a50\" stroke=\"#4a4a4a\" cx=\"232.02\" cy=\"-306\" rx=\"51.99\" ry=\"18\"/>\n",
       "<text text-anchor=\"middle\" x=\"232.02\" y=\"-302.3\" font-family=\"Times,serif\" font-size=\"14.00\" fill=\"white\">chanceVar2</text>\n",
       "</g>\n",
       "<!-- chanceVar1&#45;&gt;chanceVar2 -->\n",
       "<g id=\"edge9\" class=\"edge\">\n",
       "<title>chanceVar1-&gt;chanceVar2</title>\n",
       "<path fill=\"none\" stroke=\"#4a4a4a\" d=\"M232.02,-359.7C232.02,-351.98 232.02,-342.71 232.02,-334.11\"/>\n",
       "<polygon fill=\"#4a4a4a\" stroke=\"#4a4a4a\" points=\"235.52,-334.1 232.02,-324.1 228.52,-334.1 235.52,-334.1\"/>\n",
       "</g>\n",
       "<!-- utilityVar1 -->\n",
       "<g id=\"node11\" class=\"node\">\n",
       "<title>utilityVar1</title>\n",
       "<polygon fill=\"#4a5050\" stroke=\"#4a4a4a\" points=\"68.02,-180 -0.02,-162 68.02,-144 136.05,-162 68.02,-180\"/>\n",
       "<text text-anchor=\"middle\" x=\"68.02\" y=\"-158.3\" font-family=\"Times,serif\" font-size=\"14.00\" fill=\"white\">utilityVar1</text>\n",
       "</g>\n",
       "<!-- chanceVar1&#45;&gt;utilityVar1 -->\n",
       "<g id=\"edge8\" class=\"edge\">\n",
       "<title>chanceVar1-&gt;utilityVar1</title>\n",
       "<path fill=\"none\" stroke=\"#4a4a4a\" d=\"M211.18,-361.38C198.72,-351.46 183.03,-337.91 171.02,-324 132.73,-279.66 98.26,-219.89 80.55,-187.07\"/>\n",
       "<polygon fill=\"#4a4a4a\" stroke=\"#4a4a4a\" points=\"83.61,-185.36 75.81,-178.18 77.43,-188.65 83.61,-185.36\"/>\n",
       "</g>\n",
       "<!-- decisionVar2 -->\n",
       "<g id=\"node8\" class=\"node\">\n",
       "<title>decisionVar2</title>\n",
       "<polygon fill=\"#50504a\" stroke=\"#4a4a4a\" points=\"249.52,-252 162.52,-252 162.52,-216 249.52,-216 249.52,-252\"/>\n",
       "<text text-anchor=\"middle\" x=\"206.02\" y=\"-230.3\" font-family=\"Times,serif\" font-size=\"14.00\" fill=\"white\">decisionVar2</text>\n",
       "</g>\n",
       "<!-- chanceVar2&#45;&gt;decisionVar2 -->\n",
       "<g id=\"edge10\" class=\"edge\">\n",
       "<title>chanceVar2-&gt;decisionVar2</title>\n",
       "<path fill=\"none\" stroke=\"#4a4a4a\" d=\"M225.72,-288.05C222.8,-280.18 219.25,-270.62 215.97,-261.79\"/>\n",
       "<polygon fill=\"#4a4a4a\" stroke=\"#4a4a4a\" points=\"219.2,-260.43 212.43,-252.28 212.64,-262.87 219.2,-260.43\"/>\n",
       "</g>\n",
       "<!-- decisionVar3 -->\n",
       "<g id=\"node9\" class=\"node\">\n",
       "<title>decisionVar3</title>\n",
       "<polygon fill=\"#50504a\" stroke=\"#4a4a4a\" points=\"371.52,-252 284.52,-252 284.52,-216 371.52,-216 371.52,-252\"/>\n",
       "<text text-anchor=\"middle\" x=\"328.02\" y=\"-230.3\" font-family=\"Times,serif\" font-size=\"14.00\" fill=\"white\">decisionVar3</text>\n",
       "</g>\n",
       "<!-- chanceVar2&#45;&gt;decisionVar3 -->\n",
       "<g id=\"edge11\" class=\"edge\">\n",
       "<title>chanceVar2-&gt;decisionVar3</title>\n",
       "<path fill=\"none\" stroke=\"#4a4a4a\" d=\"M253.32,-289.46C265.86,-280.33 281.95,-268.59 295.99,-258.35\"/>\n",
       "<polygon fill=\"#4a4a4a\" stroke=\"#4a4a4a\" points=\"298.4,-260.93 304.41,-252.21 294.27,-255.27 298.4,-260.93\"/>\n",
       "</g>\n",
       "<!-- chanceVar3 -->\n",
       "<g id=\"node3\" class=\"node\">\n",
       "<title>chanceVar3</title>\n",
       "<ellipse fill=\"#504a50\" stroke=\"#4a4a4a\" cx=\"328.02\" cy=\"-162\" rx=\"51.99\" ry=\"18\"/>\n",
       "<text text-anchor=\"middle\" x=\"328.02\" y=\"-158.3\" font-family=\"Times,serif\" font-size=\"14.00\" fill=\"white\">chanceVar3</text>\n",
       "</g>\n",
       "<!-- chanceVar5 -->\n",
       "<g id=\"node5\" class=\"node\">\n",
       "<title>chanceVar5</title>\n",
       "<ellipse fill=\"#504a50\" stroke=\"#4a4a4a\" cx=\"267.02\" cy=\"-90\" rx=\"51.99\" ry=\"18\"/>\n",
       "<text text-anchor=\"middle\" x=\"267.02\" y=\"-86.3\" font-family=\"Times,serif\" font-size=\"14.00\" fill=\"white\">chanceVar5</text>\n",
       "</g>\n",
       "<!-- chanceVar3&#45;&gt;chanceVar5 -->\n",
       "<g id=\"edge12\" class=\"edge\">\n",
       "<title>chanceVar3-&gt;chanceVar5</title>\n",
       "<path fill=\"none\" stroke=\"#4a4a4a\" d=\"M313.56,-144.41C305.96,-135.69 296.51,-124.85 288.11,-115.21\"/>\n",
       "<polygon fill=\"#4a4a4a\" stroke=\"#4a4a4a\" points=\"290.58,-112.71 281.37,-107.47 285.3,-117.31 290.58,-112.71\"/>\n",
       "</g>\n",
       "<!-- chanceVar4 -->\n",
       "<g id=\"node4\" class=\"node\">\n",
       "<title>chanceVar4</title>\n",
       "<ellipse fill=\"#504a50\" stroke=\"#4a4a4a\" cx=\"206.02\" cy=\"-162\" rx=\"51.99\" ry=\"18\"/>\n",
       "<text text-anchor=\"middle\" x=\"206.02\" y=\"-158.3\" font-family=\"Times,serif\" font-size=\"14.00\" fill=\"white\">chanceVar4</text>\n",
       "</g>\n",
       "<!-- chanceVar4&#45;&gt;chanceVar5 -->\n",
       "<g id=\"edge13\" class=\"edge\">\n",
       "<title>chanceVar4-&gt;chanceVar5</title>\n",
       "<path fill=\"none\" stroke=\"#4a4a4a\" d=\"M220.47,-144.41C228.07,-135.69 237.52,-124.85 245.92,-115.21\"/>\n",
       "<polygon fill=\"#4a4a4a\" stroke=\"#4a4a4a\" points=\"248.73,-117.31 252.67,-107.47 243.46,-112.71 248.73,-117.31\"/>\n",
       "</g>\n",
       "<!-- utilityVar2 -->\n",
       "<g id=\"node12\" class=\"node\">\n",
       "<title>utilityVar2</title>\n",
       "<polygon fill=\"#4a5050\" stroke=\"#4a4a4a\" points=\"210.02,-36 141.98,-18 210.02,0 278.05,-18 210.02,-36\"/>\n",
       "<text text-anchor=\"middle\" x=\"210.02\" y=\"-14.3\" font-family=\"Times,serif\" font-size=\"14.00\" fill=\"white\">utilityVar2</text>\n",
       "</g>\n",
       "<!-- chanceVar5&#45;&gt;utilityVar2 -->\n",
       "<g id=\"edge14\" class=\"edge\">\n",
       "<title>chanceVar5-&gt;utilityVar2</title>\n",
       "<path fill=\"none\" stroke=\"#4a4a4a\" d=\"M253.51,-72.41C245.9,-63.06 236.29,-51.26 228.04,-41.13\"/>\n",
       "<polygon fill=\"#4a4a4a\" stroke=\"#4a4a4a\" points=\"230.53,-38.65 221.51,-33.11 225.11,-43.07 230.53,-38.65\"/>\n",
       "</g>\n",
       "<!-- F -->\n",
       "<g id=\"node6\" class=\"node\">\n",
       "<title>F</title>\n",
       "<ellipse fill=\"#504a50\" stroke=\"#4a4a4a\" cx=\"351.02\" cy=\"-306\" rx=\"27\" ry=\"18\"/>\n",
       "<text text-anchor=\"middle\" x=\"351.02\" y=\"-302.3\" font-family=\"Times,serif\" font-size=\"14.00\" fill=\"white\">F</text>\n",
       "</g>\n",
       "<!-- U -->\n",
       "<g id=\"node13\" class=\"node\">\n",
       "<title>U</title>\n",
       "<polygon fill=\"#4a5050\" stroke=\"#4a4a4a\" points=\"425.02,-180 398.02,-162 425.02,-144 452.02,-162 425.02,-180\"/>\n",
       "<text text-anchor=\"middle\" x=\"425.02\" y=\"-158.3\" font-family=\"Times,serif\" font-size=\"14.00\" fill=\"white\">U</text>\n",
       "</g>\n",
       "<!-- F&#45;&gt;U -->\n",
       "<g id=\"edge15\" class=\"edge\">\n",
       "<title>F-&gt;U</title>\n",
       "<path fill=\"none\" stroke=\"#4a4a4a\" d=\"M360.45,-288.89C366.48,-278.45 374.39,-264.52 381.02,-252 392.93,-229.51 405.74,-203.35 414.45,-185.25\"/>\n",
       "<polygon fill=\"#4a4a4a\" stroke=\"#4a4a4a\" points=\"417.67,-186.62 418.83,-176.09 411.36,-183.59 417.67,-186.62\"/>\n",
       "</g>\n",
       "<!-- decisionVar1 -->\n",
       "<g id=\"node7\" class=\"node\">\n",
       "<title>decisionVar1</title>\n",
       "<polygon fill=\"#50504a\" stroke=\"#4a4a4a\" points=\"315.52,-468 228.52,-468 228.52,-432 315.52,-432 315.52,-468\"/>\n",
       "<text text-anchor=\"middle\" x=\"272.02\" y=\"-446.3\" font-family=\"Times,serif\" font-size=\"14.00\" fill=\"white\">decisionVar1</text>\n",
       "</g>\n",
       "<!-- decisionVar1&#45;&gt;chanceVar1 -->\n",
       "<g id=\"edge2\" class=\"edge\">\n",
       "<title>decisionVar1-&gt;chanceVar1</title>\n",
       "<path fill=\"none\" stroke=\"#4a4a4a\" d=\"M262.13,-431.7C257.53,-423.64 251.96,-413.89 246.86,-404.98\"/>\n",
       "<polygon fill=\"#4a4a4a\" stroke=\"#4a4a4a\" points=\"249.79,-403.05 241.79,-396.1 243.71,-406.52 249.79,-403.05\"/>\n",
       "</g>\n",
       "<!-- decisionVar1&#45;&gt;F -->\n",
       "<g id=\"edge1\" class=\"edge\">\n",
       "<title>decisionVar1-&gt;F</title>\n",
       "<path fill=\"none\" stroke=\"#4a4a4a\" d=\"M281.55,-431.87C295.34,-407.09 320.95,-361.05 336.92,-332.33\"/>\n",
       "<polygon fill=\"#4a4a4a\" stroke=\"#4a4a4a\" points=\"340.14,-333.75 341.94,-323.31 334.02,-330.35 340.14,-333.75\"/>\n",
       "</g>\n",
       "<!-- decisionVar2&#45;&gt;chanceVar4 -->\n",
       "<g id=\"edge4\" class=\"edge\">\n",
       "<title>decisionVar2-&gt;chanceVar4</title>\n",
       "<path fill=\"none\" stroke=\"#4a4a4a\" d=\"M206.02,-215.7C206.02,-207.98 206.02,-198.71 206.02,-190.11\"/>\n",
       "<polygon fill=\"#4a4a4a\" stroke=\"#4a4a4a\" points=\"209.52,-190.1 206.02,-180.1 202.52,-190.1 209.52,-190.1\"/>\n",
       "</g>\n",
       "<!-- decisionVar2&#45;&gt;utilityVar1 -->\n",
       "<g id=\"edge3\" class=\"edge\">\n",
       "<title>decisionVar2-&gt;utilityVar1</title>\n",
       "<path fill=\"none\" stroke=\"#4a4a4a\" d=\"M172.26,-215.88C150.02,-204.59 121.1,-189.92 99.36,-178.9\"/>\n",
       "<polygon fill=\"#4a4a4a\" stroke=\"#4a4a4a\" points=\"100.73,-175.67 90.23,-174.27 97.56,-181.91 100.73,-175.67\"/>\n",
       "</g>\n",
       "<!-- decisionVar3&#45;&gt;chanceVar3 -->\n",
       "<g id=\"edge5\" class=\"edge\">\n",
       "<title>decisionVar3-&gt;chanceVar3</title>\n",
       "<path fill=\"none\" stroke=\"#4a4a4a\" d=\"M328.02,-215.7C328.02,-207.98 328.02,-198.71 328.02,-190.11\"/>\n",
       "<polygon fill=\"#4a4a4a\" stroke=\"#4a4a4a\" points=\"331.52,-190.1 328.02,-180.1 324.52,-190.1 331.52,-190.1\"/>\n",
       "</g>\n",
       "<!-- decisionVar3&#45;&gt;U -->\n",
       "<g id=\"edge6\" class=\"edge\">\n",
       "<title>decisionVar3-&gt;U</title>\n",
       "<path fill=\"none\" stroke=\"#4a4a4a\" d=\"M352,-215.7C368.03,-204.12 388.93,-189.04 404.26,-177.98\"/>\n",
       "<polygon fill=\"#4a4a4a\" stroke=\"#4a4a4a\" points=\"406.5,-180.68 412.56,-171.99 402.4,-175 406.5,-180.68\"/>\n",
       "</g>\n",
       "<!-- decisionVar4 -->\n",
       "<g id=\"node10\" class=\"node\">\n",
       "<title>decisionVar4</title>\n",
       "<polygon fill=\"#50504a\" stroke=\"#4a4a4a\" points=\"197.52,-108 110.52,-108 110.52,-72 197.52,-72 197.52,-108\"/>\n",
       "<text text-anchor=\"middle\" x=\"154.02\" y=\"-86.3\" font-family=\"Times,serif\" font-size=\"14.00\" fill=\"white\">decisionVar4</text>\n",
       "</g>\n",
       "<!-- decisionVar4&#45;&gt;utilityVar2 -->\n",
       "<g id=\"edge7\" class=\"edge\">\n",
       "<title>decisionVar4-&gt;utilityVar2</title>\n",
       "<path fill=\"none\" stroke=\"#4a4a4a\" d=\"M167.86,-71.7C175.25,-62.46 184.42,-50.99 192.32,-41.12\"/>\n",
       "<polygon fill=\"#4a4a4a\" stroke=\"#4a4a4a\" points=\"195.08,-43.27 198.59,-33.28 189.61,-38.9 195.08,-43.27\"/>\n",
       "</g>\n",
       "</g>\n",
       "</svg>"
      ],
      "text/plain": [
       "<IPython.core.display.SVG object>"
      ]
     },
     "metadata": {},
     "output_type": "display_data"
    }
   ],
   "source": [
    "F=diag.addChanceNode(gum.LabelizedVariable(\"F\",\"F\",2))\n",
    "diag.addArc(diag.idFromName(\"decisionVar1\"),F)\n",
    "\n",
    "U=diag.addUtilityNode(gum.LabelizedVariable(\"U\",\"U\",1))\n",
    "diag.addArc(diag.idFromName(\"decisionVar3\"),U)\n",
    "diag.addArc(diag.idFromName(\"F\"),U)\n",
    "gnb.showInfluenceDiagram(diag)"
   ]
  },
  {
   "cell_type": "code",
   "execution_count": 5,
   "metadata": {
    "ExecuteTime": {
     "end_time": "2019-02-25T17:33:54.955130Z",
     "start_time": "2019-02-25T17:33:54.948913Z"
    }
   },
   "outputs": [],
   "source": [
    "diag.cpt(F)[{'decisionVar1':0}]=[0.9,0.1]\n",
    "diag.cpt(F)[{'decisionVar1':1}]=[0.3,0.7]\n",
    "\n",
    "diag.utility(U)[{'F':0,'decisionVar3':0}]=2\n",
    "diag.utility(U)[{'F':0,'decisionVar3':1}]=4\n",
    "diag.utility(U)[{'F':1}]=[[0],[5]]"
   ]
  },
  {
   "cell_type": "code",
   "execution_count": 6,
   "metadata": {
    "ExecuteTime": {
     "end_time": "2019-02-25T17:33:57.089038Z",
     "start_time": "2019-02-25T17:33:54.956871Z"
    }
   },
   "outputs": [
    {
     "data": {
      "image/svg+xml": [
       "<svg xmlns=\"http://www.w3.org/2000/svg\" xmlns:xlink=\"http://www.w3.org/1999/xlink\" width=\"322pt\" height=\"260pt\" viewBox=\"0.00 0.00 322.00 260.00\">\n",
       "<g id=\"graph0\" class=\"graph\" transform=\"scale(1 1) rotate(0) translate(4 256)\">\n",
       "<title>G</title>\n",
       "<!-- S -->\n",
       "<g id=\"node1\" class=\"node\">\n",
       "<title>S</title>\n",
       "<ellipse fill=\"#504a50\" stroke=\"#4a4a4a\" cx=\"72\" cy=\"-234\" rx=\"27\" ry=\"18\"/>\n",
       "<text text-anchor=\"middle\" x=\"72\" y=\"-230.3\" font-family=\"Times,serif\" font-size=\"14.00\" fill=\"white\">S</text>\n",
       "</g>\n",
       "<!-- B -->\n",
       "<g id=\"node2\" class=\"node\">\n",
       "<title>B</title>\n",
       "<ellipse fill=\"#504a50\" stroke=\"#4a4a4a\" cx=\"27\" cy=\"-90\" rx=\"27\" ry=\"18\"/>\n",
       "<text text-anchor=\"middle\" x=\"27\" y=\"-86.3\" font-family=\"Times,serif\" font-size=\"14.00\" fill=\"white\">B</text>\n",
       "</g>\n",
       "<!-- S&#45;&gt;B -->\n",
       "<g id=\"edge5\" class=\"edge\">\n",
       "<title>S-&gt;B</title>\n",
       "<path fill=\"none\" stroke=\"#4a4a4a\" d=\"M66.66,-216.15C58.95,-191.81 44.61,-146.57 35.45,-117.67\"/>\n",
       "<polygon fill=\"#4a4a4a\" stroke=\"#4a4a4a\" points=\"38.69,-116.3 32.33,-107.82 32.02,-118.42 38.69,-116.3\"/>\n",
       "</g>\n",
       "<!-- L -->\n",
       "<g id=\"node3\" class=\"node\">\n",
       "<title>L</title>\n",
       "<ellipse fill=\"#504a50\" stroke=\"#4a4a4a\" cx=\"99\" cy=\"-162\" rx=\"27\" ry=\"18\"/>\n",
       "<text text-anchor=\"middle\" x=\"99\" y=\"-158.3\" font-family=\"Times,serif\" font-size=\"14.00\" fill=\"white\">L</text>\n",
       "</g>\n",
       "<!-- S&#45;&gt;L -->\n",
       "<g id=\"edge6\" class=\"edge\">\n",
       "<title>S-&gt;L</title>\n",
       "<path fill=\"none\" stroke=\"#4a4a4a\" d=\"M78.4,-216.41C81.51,-208.34 85.33,-198.43 88.83,-189.35\"/>\n",
       "<polygon fill=\"#4a4a4a\" stroke=\"#4a4a4a\" points=\"92.13,-190.55 92.46,-179.96 85.6,-188.03 92.13,-190.55\"/>\n",
       "</g>\n",
       "<!-- D -->\n",
       "<g id=\"node5\" class=\"node\">\n",
       "<title>D</title>\n",
       "<ellipse fill=\"#504a50\" stroke=\"#4a4a4a\" cx=\"69\" cy=\"-18\" rx=\"27\" ry=\"18\"/>\n",
       "<text text-anchor=\"middle\" x=\"69\" y=\"-14.3\" font-family=\"Times,serif\" font-size=\"14.00\" fill=\"white\">D</text>\n",
       "</g>\n",
       "<!-- B&#45;&gt;D -->\n",
       "<g id=\"edge7\" class=\"edge\">\n",
       "<title>B-&gt;D</title>\n",
       "<path fill=\"none\" stroke=\"#4a4a4a\" d=\"M36.53,-73.12C41.67,-64.56 48.12,-53.8 53.92,-44.13\"/>\n",
       "<polygon fill=\"#4a4a4a\" stroke=\"#4a4a4a\" points=\"57.07,-45.68 59.22,-35.31 51.07,-42.08 57.07,-45.68\"/>\n",
       "</g>\n",
       "<!-- E -->\n",
       "<g id=\"node4\" class=\"node\">\n",
       "<title>E</title>\n",
       "<ellipse fill=\"#504a50\" stroke=\"#4a4a4a\" cx=\"99\" cy=\"-90\" rx=\"27\" ry=\"18\"/>\n",
       "<text text-anchor=\"middle\" x=\"99\" y=\"-86.3\" font-family=\"Times,serif\" font-size=\"14.00\" fill=\"white\">E</text>\n",
       "</g>\n",
       "<!-- L&#45;&gt;E -->\n",
       "<g id=\"edge8\" class=\"edge\">\n",
       "<title>L-&gt;E</title>\n",
       "<path fill=\"none\" stroke=\"#4a4a4a\" d=\"M99,-143.7C99,-135.98 99,-126.71 99,-118.11\"/>\n",
       "<polygon fill=\"#4a4a4a\" stroke=\"#4a4a4a\" points=\"102.5,-118.1 99,-108.1 95.5,-118.1 102.5,-118.1\"/>\n",
       "</g>\n",
       "<!-- Uh -->\n",
       "<g id=\"node11\" class=\"node\">\n",
       "<title>Uh</title>\n",
       "<polygon fill=\"#4a5050\" stroke=\"#4a4a4a\" points=\"174,-108 143.83,-90 174,-72 204.17,-90 174,-108\"/>\n",
       "<text text-anchor=\"middle\" x=\"174\" y=\"-86.3\" font-family=\"Times,serif\" font-size=\"14.00\" fill=\"white\">Uh</text>\n",
       "</g>\n",
       "<!-- L&#45;&gt;Uh -->\n",
       "<g id=\"edge9\" class=\"edge\">\n",
       "<title>L-&gt;Uh</title>\n",
       "<path fill=\"none\" stroke=\"#4a4a4a\" d=\"M114.18,-146.83C126.09,-135.72 142.72,-120.19 155.43,-108.34\"/>\n",
       "<polygon fill=\"#4a4a4a\" stroke=\"#4a4a4a\" points=\"157.83,-110.88 162.75,-101.5 153.05,-105.76 157.83,-110.88\"/>\n",
       "</g>\n",
       "<!-- E&#45;&gt;D -->\n",
       "<g id=\"edge10\" class=\"edge\">\n",
       "<title>E-&gt;D</title>\n",
       "<path fill=\"none\" stroke=\"#4a4a4a\" d=\"M91.89,-72.41C88.34,-64.13 83.97,-53.92 80,-44.66\"/>\n",
       "<polygon fill=\"#4a4a4a\" stroke=\"#4a4a4a\" points=\"83.21,-43.28 76.06,-35.47 76.78,-46.04 83.21,-43.28\"/>\n",
       "</g>\n",
       "<!-- P -->\n",
       "<g id=\"node6\" class=\"node\">\n",
       "<title>P</title>\n",
       "<ellipse fill=\"#504a50\" stroke=\"#4a4a4a\" cx=\"171\" cy=\"-18\" rx=\"27\" ry=\"18\"/>\n",
       "<text text-anchor=\"middle\" x=\"171\" y=\"-14.3\" font-family=\"Times,serif\" font-size=\"14.00\" fill=\"white\">P</text>\n",
       "</g>\n",
       "<!-- E&#45;&gt;P -->\n",
       "<g id=\"edge11\" class=\"edge\">\n",
       "<title>E-&gt;P</title>\n",
       "<path fill=\"none\" stroke=\"#4a4a4a\" d=\"M113.57,-74.83C123.75,-64.94 137.52,-51.55 149.03,-40.36\"/>\n",
       "<polygon fill=\"#4a4a4a\" stroke=\"#4a4a4a\" points=\"151.47,-42.87 156.2,-33.38 146.59,-37.85 151.47,-42.87\"/>\n",
       "</g>\n",
       "<!-- Tu -->\n",
       "<g id=\"node7\" class=\"node\">\n",
       "<title>Tu</title>\n",
       "<ellipse fill=\"#504a50\" stroke=\"#4a4a4a\" cx=\"174\" cy=\"-162\" rx=\"27\" ry=\"18\"/>\n",
       "<text text-anchor=\"middle\" x=\"174\" y=\"-158.3\" font-family=\"Times,serif\" font-size=\"14.00\" fill=\"white\">Tu</text>\n",
       "</g>\n",
       "<!-- Tu&#45;&gt;E -->\n",
       "<g id=\"edge13\" class=\"edge\">\n",
       "<title>Tu-&gt;E</title>\n",
       "<path fill=\"none\" stroke=\"#4a4a4a\" d=\"M158.82,-146.83C148.15,-136.87 133.68,-123.37 121.65,-112.14\"/>\n",
       "<polygon fill=\"#4a4a4a\" stroke=\"#4a4a4a\" points=\"123.85,-109.41 114.15,-105.14 119.08,-114.53 123.85,-109.41\"/>\n",
       "</g>\n",
       "<!-- Tu&#45;&gt;Uh -->\n",
       "<g id=\"edge14\" class=\"edge\">\n",
       "<title>Tu-&gt;Uh</title>\n",
       "<path fill=\"none\" stroke=\"#4a4a4a\" d=\"M174,-143.7C174,-135.98 174,-126.71 174,-118.11\"/>\n",
       "<polygon fill=\"#4a4a4a\" stroke=\"#4a4a4a\" points=\"177.5,-118.1 174,-108.1 170.5,-118.1 177.5,-118.1\"/>\n",
       "</g>\n",
       "<!-- Ut -->\n",
       "<g id=\"node12\" class=\"node\">\n",
       "<title>Ut</title>\n",
       "<polygon fill=\"#4a5050\" stroke=\"#4a4a4a\" points=\"259,-36 231.35,-18 259,0 286.65,-18 259,-36\"/>\n",
       "<text text-anchor=\"middle\" x=\"259\" y=\"-14.3\" font-family=\"Times,serif\" font-size=\"14.00\" fill=\"white\">Ut</text>\n",
       "</g>\n",
       "<!-- Tu&#45;&gt;Ut -->\n",
       "<g id=\"edge12\" class=\"edge\">\n",
       "<title>Tu-&gt;Ut</title>\n",
       "<path fill=\"none\" stroke=\"#4a4a4a\" d=\"M186.27,-145.68C194.31,-135.33 204.8,-121.2 213,-108 226.55,-86.18 239.77,-59.92 248.54,-41.61\"/>\n",
       "<polygon fill=\"#4a4a4a\" stroke=\"#4a4a4a\" points=\"251.81,-42.86 252.92,-32.33 245.48,-39.87 251.81,-42.86\"/>\n",
       "</g>\n",
       "<!-- A -->\n",
       "<g id=\"node8\" class=\"node\">\n",
       "<title>A</title>\n",
       "<ellipse fill=\"#504a50\" stroke=\"#4a4a4a\" cx=\"174\" cy=\"-234\" rx=\"27\" ry=\"18\"/>\n",
       "<text text-anchor=\"middle\" x=\"174\" y=\"-230.3\" font-family=\"Times,serif\" font-size=\"14.00\" fill=\"white\">A</text>\n",
       "</g>\n",
       "<!-- A&#45;&gt;Tu -->\n",
       "<g id=\"edge15\" class=\"edge\">\n",
       "<title>A-&gt;Tu</title>\n",
       "<path fill=\"none\" stroke=\"#4a4a4a\" d=\"M174,-215.7C174,-207.98 174,-198.71 174,-190.11\"/>\n",
       "<polygon fill=\"#4a4a4a\" stroke=\"#4a4a4a\" points=\"177.5,-190.1 174,-180.1 170.5,-190.1 177.5,-190.1\"/>\n",
       "</g>\n",
       "<!-- H -->\n",
       "<g id=\"node9\" class=\"node\">\n",
       "<title>H</title>\n",
       "<polygon fill=\"#50504a\" stroke=\"#4a4a4a\" points=\"293,-180 239,-180 239,-144 293,-144 293,-180\"/>\n",
       "<text text-anchor=\"middle\" x=\"266\" y=\"-158.3\" font-family=\"Times,serif\" font-size=\"14.00\" fill=\"white\">H</text>\n",
       "</g>\n",
       "<!-- Ta -->\n",
       "<g id=\"node10\" class=\"node\">\n",
       "<title>Ta</title>\n",
       "<polygon fill=\"#50504a\" stroke=\"#4a4a4a\" points=\"314,-108 260,-108 260,-72 314,-72 314,-108\"/>\n",
       "<text text-anchor=\"middle\" x=\"287\" y=\"-86.3\" font-family=\"Times,serif\" font-size=\"14.00\" fill=\"white\">Ta</text>\n",
       "</g>\n",
       "<!-- H&#45;&gt;Ta -->\n",
       "<g id=\"edge1\" class=\"edge\">\n",
       "<title>H-&gt;Ta</title>\n",
       "<path fill=\"none\" stroke=\"#4a4a4a\" d=\"M271.19,-143.7C273.53,-135.9 276.35,-126.51 278.95,-117.83\"/>\n",
       "<polygon fill=\"#4a4a4a\" stroke=\"#4a4a4a\" points=\"282.35,-118.69 281.87,-108.1 275.64,-116.68 282.35,-118.69\"/>\n",
       "</g>\n",
       "<!-- H&#45;&gt;Uh -->\n",
       "<g id=\"edge2\" class=\"edge\">\n",
       "<title>H-&gt;Uh</title>\n",
       "<path fill=\"none\" stroke=\"#4a4a4a\" d=\"M243.26,-143.7C228.45,-132.43 209.28,-117.85 194.87,-106.88\"/>\n",
       "<polygon fill=\"#4a4a4a\" stroke=\"#4a4a4a\" points=\"196.66,-103.85 186.59,-100.58 192.43,-109.42 196.66,-103.85\"/>\n",
       "</g>\n",
       "<!-- Ta&#45;&gt;P -->\n",
       "<g id=\"edge4\" class=\"edge\">\n",
       "<title>Ta-&gt;P</title>\n",
       "<path fill=\"none\" stroke=\"#4a4a4a\" d=\"M259.8,-72.59C241.5,-61.54 217.44,-47.02 198.98,-35.88\"/>\n",
       "<polygon fill=\"#4a4a4a\" stroke=\"#4a4a4a\" points=\"200.79,-32.89 190.41,-30.72 197.17,-38.88 200.79,-32.89\"/>\n",
       "</g>\n",
       "<!-- Ta&#45;&gt;Ut -->\n",
       "<g id=\"edge3\" class=\"edge\">\n",
       "<title>Ta-&gt;Ut</title>\n",
       "<path fill=\"none\" stroke=\"#4a4a4a\" d=\"M280.08,-71.7C276.52,-62.8 272.14,-51.84 268.29,-42.22\"/>\n",
       "<polygon fill=\"#4a4a4a\" stroke=\"#4a4a4a\" points=\"271.49,-40.81 264.53,-32.82 264.99,-43.41 271.49,-40.81\"/>\n",
       "</g>\n",
       "</g>\n",
       "</svg>"
      ],
      "text/plain": [
       "<IPython.core.display.SVG object>"
      ]
     },
     "metadata": {},
     "output_type": "display_data"
    }
   ],
   "source": [
    "asia=gum.loadID(os.path.join(\"res\",\"DecAsia.bifxml\"))\n",
    "gnb.showInfluenceDiagram(asia)"
   ]
  },
  {
   "cell_type": "code",
   "execution_count": 7,
   "metadata": {
    "ExecuteTime": {
     "end_time": "2019-02-25T17:33:59.278856Z",
     "start_time": "2019-02-25T17:33:57.091511Z"
    }
   },
   "outputs": [
    {
     "data": {
      "image/svg+xml": [
       "<svg xmlns=\"http://www.w3.org/2000/svg\" xmlns:xlink=\"http://www.w3.org/1999/xlink\" width=\"210pt\" height=\"260pt\" viewBox=\"0.00 0.00 209.57 260.00\">\n",
       "<g id=\"graph0\" class=\"graph\" transform=\"scale(1 1) rotate(0) translate(4 256)\">\n",
       "<title>G</title>\n",
       "<!-- R -->\n",
       "<g id=\"node1\" class=\"node\">\n",
       "<title>R</title>\n",
       "<ellipse fill=\"#504a50\" stroke=\"#4a4a4a\" cx=\"63\" cy=\"-162\" rx=\"27\" ry=\"18\"/>\n",
       "<text text-anchor=\"middle\" x=\"63\" y=\"-158.3\" font-family=\"Times,serif\" font-size=\"14.00\" fill=\"white\">R</text>\n",
       "</g>\n",
       "<!-- D -->\n",
       "<g id=\"node4\" class=\"node\">\n",
       "<title>D</title>\n",
       "<polygon fill=\"#50504a\" stroke=\"#4a4a4a\" points=\"90,-108 36,-108 36,-72 90,-72 90,-108\"/>\n",
       "<text text-anchor=\"middle\" x=\"63\" y=\"-86.3\" font-family=\"Times,serif\" font-size=\"14.00\" fill=\"white\">D</text>\n",
       "</g>\n",
       "<!-- R&#45;&gt;D -->\n",
       "<g id=\"edge5\" class=\"edge\">\n",
       "<title>R-&gt;D</title>\n",
       "<path fill=\"none\" stroke=\"#4a4a4a\" d=\"M63,-143.7C63,-135.98 63,-126.71 63,-118.11\"/>\n",
       "<polygon fill=\"#4a4a4a\" stroke=\"#4a4a4a\" points=\"66.5,-118.1 63,-108.1 59.5,-118.1 66.5,-118.1\"/>\n",
       "</g>\n",
       "<!-- O -->\n",
       "<g id=\"node2\" class=\"node\">\n",
       "<title>O</title>\n",
       "<ellipse fill=\"#504a50\" stroke=\"#4a4a4a\" cx=\"27\" cy=\"-234\" rx=\"27\" ry=\"18\"/>\n",
       "<text text-anchor=\"middle\" x=\"27\" y=\"-230.3\" font-family=\"Times,serif\" font-size=\"14.00\" fill=\"white\">O</text>\n",
       "</g>\n",
       "<!-- O&#45;&gt;R -->\n",
       "<g id=\"edge6\" class=\"edge\">\n",
       "<title>O-&gt;R</title>\n",
       "<path fill=\"none\" stroke=\"#4a4a4a\" d=\"M35.35,-216.76C39.71,-208.28 45.15,-197.71 50.04,-188.2\"/>\n",
       "<polygon fill=\"#4a4a4a\" stroke=\"#4a4a4a\" points=\"53.23,-189.64 54.7,-179.15 47.01,-186.44 53.23,-189.64\"/>\n",
       "</g>\n",
       "<!-- Ud -->\n",
       "<g id=\"node6\" class=\"node\">\n",
       "<title>Ud</title>\n",
       "<polygon fill=\"#4a5050\" stroke=\"#4a4a4a\" points=\"35,-36 4.83,-18 35,0 65.17,-18 35,-36\"/>\n",
       "<text text-anchor=\"middle\" x=\"35\" y=\"-14.3\" font-family=\"Times,serif\" font-size=\"14.00\" fill=\"white\">Ud</text>\n",
       "</g>\n",
       "<!-- O&#45;&gt;Ud -->\n",
       "<g id=\"edge7\" class=\"edge\">\n",
       "<title>O-&gt;Ud</title>\n",
       "<path fill=\"none\" stroke=\"#4a4a4a\" d=\"M26.15,-215.58C24.89,-186 23.09,-124.12 27,-72 27.67,-63.03 28.98,-53.27 30.34,-44.61\"/>\n",
       "<polygon fill=\"#4a4a4a\" stroke=\"#4a4a4a\" points=\"33.8,-45.14 32,-34.7 26.9,-43.99 33.8,-45.14\"/>\n",
       "</g>\n",
       "<!-- T -->\n",
       "<g id=\"node3\" class=\"node\">\n",
       "<title>T</title>\n",
       "<polygon fill=\"#50504a\" stroke=\"#4a4a4a\" points=\"145,-252 91,-252 91,-216 145,-216 145,-252\"/>\n",
       "<text text-anchor=\"middle\" x=\"118\" y=\"-230.3\" font-family=\"Times,serif\" font-size=\"14.00\" fill=\"white\">T</text>\n",
       "</g>\n",
       "<!-- T&#45;&gt;R -->\n",
       "<g id=\"edge3\" class=\"edge\">\n",
       "<title>T-&gt;R</title>\n",
       "<path fill=\"none\" stroke=\"#4a4a4a\" d=\"M104.4,-215.7C97.42,-206.8 88.8,-195.84 81.25,-186.22\"/>\n",
       "<polygon fill=\"#4a4a4a\" stroke=\"#4a4a4a\" points=\"83.88,-183.9 74.94,-178.2 78.37,-188.23 83.88,-183.9\"/>\n",
       "</g>\n",
       "<!-- T&#45;&gt;D -->\n",
       "<g id=\"edge1\" class=\"edge\">\n",
       "<title>T-&gt;D</title>\n",
       "<path fill=\"none\" stroke=\"#4a4a4a\" d=\"M116.3,-215.67C114.05,-197.29 109.11,-167.69 99,-144 94.92,-134.43 89.01,-124.78 83.16,-116.39\"/>\n",
       "<polygon fill=\"#4a4a4a\" stroke=\"#4a4a4a\" points=\"85.88,-114.17 77.16,-108.15 80.22,-118.29 85.88,-114.17\"/>\n",
       "</g>\n",
       "<!-- Ut -->\n",
       "<g id=\"node5\" class=\"node\">\n",
       "<title>Ut</title>\n",
       "<polygon fill=\"#4a5050\" stroke=\"#4a4a4a\" points=\"174,-180 146.35,-162 174,-144 201.65,-162 174,-180\"/>\n",
       "<text text-anchor=\"middle\" x=\"174\" y=\"-158.3\" font-family=\"Times,serif\" font-size=\"14.00\" fill=\"white\">Ut</text>\n",
       "</g>\n",
       "<!-- T&#45;&gt;Ut -->\n",
       "<g id=\"edge2\" class=\"edge\">\n",
       "<title>T-&gt;Ut</title>\n",
       "<path fill=\"none\" stroke=\"#4a4a4a\" d=\"M131.84,-215.7C139.94,-205.58 150.18,-192.77 158.54,-182.32\"/>\n",
       "<polygon fill=\"#4a4a4a\" stroke=\"#4a4a4a\" points=\"161.52,-184.2 165.03,-174.21 156.05,-179.83 161.52,-184.2\"/>\n",
       "</g>\n",
       "<!-- D&#45;&gt;Ud -->\n",
       "<g id=\"edge4\" class=\"edge\">\n",
       "<title>D-&gt;Ud</title>\n",
       "<path fill=\"none\" stroke=\"#4a4a4a\" d=\"M56.08,-71.7C52.52,-62.8 48.14,-51.84 44.29,-42.22\"/>\n",
       "<polygon fill=\"#4a4a4a\" stroke=\"#4a4a4a\" points=\"47.49,-40.81 40.53,-32.82 40.99,-43.41 47.49,-40.81\"/>\n",
       "</g>\n",
       "</g>\n",
       "</svg>"
      ],
      "text/plain": [
       "<IPython.core.display.SVG object>"
      ]
     },
     "metadata": {},
     "output_type": "display_data"
    }
   ],
   "source": [
    "oil=gum.loadID(os.path.join(\"res\",\"OilWildcater.bifxml\"))\n",
    "gnb.showInfluenceDiagram(oil)"
   ]
  },
  {
   "cell_type": "code",
   "execution_count": 8,
   "metadata": {
    "ExecuteTime": {
     "end_time": "2019-02-25T17:33:59.287118Z",
     "start_time": "2019-02-25T17:33:59.283647Z"
    }
   },
   "outputs": [],
   "source": [
    "ie=gum.InfluenceDiagramInference(oil)"
   ]
  },
  {
   "cell_type": "code",
   "execution_count": 9,
   "metadata": {
    "ExecuteTime": {
     "end_time": "2019-02-25T17:33:59.299581Z",
     "start_time": "2019-02-25T17:33:59.289093Z"
    }
   },
   "outputs": [
    {
     "name": "stdout",
     "output_type": "stream",
     "text": [
      "Best decision for T : 1\n",
      "Best decision for D : 1\n",
      "For a maxEU : 60.0\n"
     ]
    }
   ],
   "source": [
    "ie.makeInference()\n",
    "print(\"Best decision for T : {0}\".format(ie.getBestDecisionChoice(oil.idFromName(\"T\"))))\n",
    "print(\"Best decision for D : {0}\".format(ie.getBestDecisionChoice(oil.idFromName(\"D\"))))\n",
    "print(\"For a maxEU : {0}\".format(ie.getMEU()))"
   ]
  },
  {
   "cell_type": "code",
   "execution_count": 10,
   "metadata": {
    "ExecuteTime": {
     "end_time": "2019-02-25T17:33:59.306228Z",
     "start_time": "2019-02-25T17:33:59.301343Z"
    }
   },
   "outputs": [
    {
     "name": "stdout",
     "output_type": "stream",
     "text": [
      "O<Dry,Wet,Soak>\n"
     ]
    }
   ],
   "source": [
    "print(oil.variable(3))"
   ]
  },
  {
   "cell_type": "code",
   "execution_count": 11,
   "metadata": {
    "ExecuteTime": {
     "end_time": "2019-02-25T17:33:59.315173Z",
     "start_time": "2019-02-25T17:33:59.308144Z"
    }
   },
   "outputs": [
    {
     "name": "stdout",
     "output_type": "stream",
     "text": [
      "Best decision for T : 1\n",
      "Best decision for D : 1\n",
      "For a maxEU : 0.0\n"
     ]
    }
   ],
   "source": [
    "ie.eraseAllEvidence()\n",
    "ie.setEvidence({3:0})\n",
    "ie.makeInference()\n",
    "print(\"Best decision for T : {0}\".format(ie.getBestDecisionChoice(oil.idFromName(\"T\"))))\n",
    "print(\"Best decision for D : {0}\".format(ie.getBestDecisionChoice(oil.idFromName(\"D\"))))\n",
    "print(\"For a maxEU : {0}\".format(ie.getMEU()))"
   ]
  },
  {
   "cell_type": "code",
   "execution_count": 12,
   "metadata": {
    "ExecuteTime": {
     "end_time": "2019-02-25T17:33:59.325676Z",
     "start_time": "2019-02-25T17:33:59.316942Z"
    }
   },
   "outputs": [
    {
     "name": "stdout",
     "output_type": "stream",
     "text": [
      "Best decision for T : 1\n",
      "Best decision for D : 0\n",
      "For a maxEU : 200.0\n"
     ]
    }
   ],
   "source": [
    "ie.eraseAllEvidence()\n",
    "ie.setEvidence({3:1})\n",
    "ie.makeInference()\n",
    "print(\"Best decision for T : {0}\".format(ie.getBestDecisionChoice(oil.idFromName(\"T\"))))\n",
    "print(\"Best decision for D : {0}\".format(ie.getBestDecisionChoice(oil.idFromName(\"D\"))))\n",
    "print(\"For a maxEU : {0}\".format(ie.getMEU()))"
   ]
  },
  {
   "cell_type": "code",
   "execution_count": 13,
   "metadata": {
    "ExecuteTime": {
     "end_time": "2019-02-25T17:33:59.336580Z",
     "start_time": "2019-02-25T17:33:59.327720Z"
    }
   },
   "outputs": [
    {
     "name": "stdout",
     "output_type": "stream",
     "text": [
      "Best decision for T : 1\n",
      "Best decision for D : 0\n",
      "For a maxEU : 50.0\n"
     ]
    }
   ],
   "source": [
    "ie.eraseAllEvidence()\n",
    "ie.setEvidence({3:2})\n",
    "ie.makeInference()\n",
    "print(\"Best decision for T : {0}\".format(ie.getBestDecisionChoice(oil.idFromName(\"T\"))))\n",
    "print(\"Best decision for D : {0}\".format(ie.getBestDecisionChoice(oil.idFromName(\"D\"))))\n",
    "print(\"For a maxEU : {0}\".format(ie.getMEU()))"
   ]
  },
  {
   "cell_type": "code",
   "execution_count": 14,
   "metadata": {
    "ExecuteTime": {
     "end_time": "2019-02-25T17:33:59.344389Z",
     "start_time": "2019-02-25T17:33:59.338423Z"
    }
   },
   "outputs": [
    {
     "name": "stdout",
     "output_type": "stream",
     "text": [
      "Best decision for T : 1\n",
      "Best decision for D : 1\n",
      "For a maxEU : 44.776119402985074\n"
     ]
    }
   ],
   "source": [
    "ie.eraseAllEvidence()\n",
    "ie.setEvidence({3:[1,0.5,0.1]})\n",
    "ie.makeInference()\n",
    "print(\"Best decision for T : {0}\".format(ie.getBestDecisionChoice(oil.idFromName(\"T\"))))\n",
    "print(\"Best decision for D : {0}\".format(ie.getBestDecisionChoice(oil.idFromName(\"D\"))))\n",
    "print(\"For a maxEU : {0}\".format(ie.getMEU()))"
   ]
  },
  {
   "cell_type": "code",
   "execution_count": null,
   "metadata": {},
   "outputs": [],
   "source": []
  }
 ],
 "metadata": {
  "hide_input": false,
  "kernelspec": {
   "display_name": "Python 3",
   "language": "python",
   "name": "python3"
  },
  "language_info": {
   "codemirror_mode": {
    "name": "ipython",
    "version": 3
   },
   "file_extension": ".py",
   "mimetype": "text/x-python",
   "name": "python",
   "nbconvert_exporter": "python",
   "pygments_lexer": "ipython3",
   "version": "3.8.3"
  }
 },
 "nbformat": 4,
 "nbformat_minor": 4
}
