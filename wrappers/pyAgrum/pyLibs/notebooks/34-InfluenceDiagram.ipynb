{
 "cells": [
  {
   "cell_type": "markdown",
   "metadata": {},
   "source": [
    "<a href=\"http://agrum.org\" target=\"blank\"><img src=\"http://agrum.gitlab.io/theme/img/logoAgrum.png\" align=\"left\" style=\"height:100px\"/></a><a rel=\"license\" href=\"http://creativecommons.org/licenses/by-nc/4.0/\"><img alt=\"Creative Commons License\" style=\"border-width:0\" src=\"https://i.creativecommons.org/l/by-nc/4.0/88x31.png\" /></a><br />This pyAgrum's notebook is licensed under a <a rel=\"license\" href=\"http://creativecommons.org/licenses/by-nc/4.0/\">Creative Commons Attribution-NonCommercial 4.0 International License</a>."
   ]
  },
  {
   "cell_type": "code",
   "execution_count": 1,
   "metadata": {
    "ExecuteTime": {
     "end_time": "2019-02-25T17:33:50.568756Z",
     "start_time": "2019-02-25T17:33:50.344887Z"
    }
   },
   "outputs": [],
   "source": [
    "import os\n",
    "\n",
    "%matplotlib inline\n",
    "from pylab import *\n",
    "import matplotlib.pyplot as plt"
   ]
  },
  {
   "cell_type": "code",
   "execution_count": 2,
   "metadata": {
    "ExecuteTime": {
     "end_time": "2019-02-25T17:33:50.578808Z",
     "start_time": "2019-02-25T17:33:50.571592Z"
    }
   },
   "outputs": [],
   "source": [
    "import pyAgrum as gum\n",
    "import pyAgrum.lib.notebook as gnb\n"
   ]
  },
  {
   "cell_type": "code",
   "execution_count": 3,
   "metadata": {
    "ExecuteTime": {
     "end_time": "2019-02-25T17:33:52.797218Z",
     "start_time": "2019-02-25T17:33:50.581194Z"
    }
   },
   "outputs": [
    {
     "data": {
      "image/svg+xml": [
       "<svg height=\"262pt\" viewBox=\"0.00 0.00 288.00 262.34\" width=\"288pt\" xmlns=\"http://www.w3.org/2000/svg\" xmlns:xlink=\"http://www.w3.org/1999/xlink\">\n",
       "<g class=\"graph\" id=\"graph0\" transform=\"scale(.5511 .5511) rotate(0) translate(4 472)\">\n",
       "<title>G</title>\n",
       "<!-- chanceVar1 -->\n",
       "<g class=\"node\" id=\"node1\">\n",
       "<title>chanceVar1</title>\n",
       "<ellipse cx=\"328\" cy=\"-378\" fill=\"#504a50\" rx=\"64.189\" ry=\"18\" stroke=\"#000000\"/>\n",
       "<text fill=\"#ffffff\" font-family=\"Times,serif\" font-size=\"14.00\" text-anchor=\"middle\" x=\"328\" y=\"-374.3\">chanceVar1</text>\n",
       "</g>\n",
       "<!-- chanceVar2 -->\n",
       "<g class=\"node\" id=\"node2\">\n",
       "<title>chanceVar2</title>\n",
       "<ellipse cx=\"282\" cy=\"-306\" fill=\"#504a50\" rx=\"64.189\" ry=\"18\" stroke=\"#000000\"/>\n",
       "<text fill=\"#ffffff\" font-family=\"Times,serif\" font-size=\"14.00\" text-anchor=\"middle\" x=\"282\" y=\"-302.3\">chanceVar2</text>\n",
       "</g>\n",
       "<!-- chanceVar1&#45;&gt;chanceVar2 -->\n",
       "<g class=\"edge\" id=\"edge7\">\n",
       "<title>chanceVar1-&gt;chanceVar2</title>\n",
       "<path d=\"M316.6292,-360.2022C311.2662,-351.8079 304.7583,-341.6218 298.8385,-332.3558\" fill=\"none\" stroke=\"#4a4a4a\"/>\n",
       "<polygon fill=\"#4a4a4a\" points=\"301.7328,-330.3851 293.3994,-323.8425 295.8339,-334.1539 301.7328,-330.3851\" stroke=\"#4a4a4a\"/>\n",
       "</g>\n",
       "<!-- utilityVar1 -->\n",
       "<g class=\"node\" id=\"node10\">\n",
       "<title>utilityVar1</title>\n",
       "<polygon fill=\"#4a5050\" points=\"430,-180 345.375,-162 430,-144 514.625,-162 430,-180\" stroke=\"#000000\"/>\n",
       "<text fill=\"#ffffff\" font-family=\"Times,serif\" font-size=\"14.00\" text-anchor=\"middle\" x=\"430\" y=\"-158.3\">utilityVar1</text>\n",
       "</g>\n",
       "<!-- chanceVar1&#45;&gt;utilityVar1 -->\n",
       "<g class=\"edge\" id=\"edge6\">\n",
       "<title>chanceVar1-&gt;utilityVar1</title>\n",
       "<path d=\"M337.1358,-360.0666C342.4311,-349.5888 349.1811,-336.0888 355,-324 378.0239,-276.1679 403.8125,-219.8221 418.3597,-187.7672\" fill=\"none\" stroke=\"#4a4a4a\"/>\n",
       "<polygon fill=\"#4a4a4a\" points=\"421.5582,-189.1884 422.4979,-178.6353 415.1823,-186.299 421.5582,-189.1884\" stroke=\"#4a4a4a\"/>\n",
       "</g>\n",
       "<!-- decisionVar2 -->\n",
       "<g class=\"node\" id=\"node7\">\n",
       "<title>decisionVar2</title>\n",
       "<polygon fill=\"#50504a\" points=\"336,-252 228,-252 228,-216 336,-216 336,-252\" stroke=\"#000000\"/>\n",
       "<text fill=\"#ffffff\" font-family=\"Times,serif\" font-size=\"14.00\" text-anchor=\"middle\" x=\"282\" y=\"-230.3\">decisionVar2</text>\n",
       "</g>\n",
       "<!-- chanceVar2&#45;&gt;decisionVar2 -->\n",
       "<g class=\"edge\" id=\"edge8\">\n",
       "<title>chanceVar2-&gt;decisionVar2</title>\n",
       "<path d=\"M282,-287.8314C282,-280.131 282,-270.9743 282,-262.4166\" fill=\"none\" stroke=\"#4a4a4a\"/>\n",
       "<polygon fill=\"#4a4a4a\" points=\"285.5001,-262.4132 282,-252.4133 278.5001,-262.4133 285.5001,-262.4132\" stroke=\"#4a4a4a\"/>\n",
       "</g>\n",
       "<!-- decisionVar3 -->\n",
       "<g class=\"node\" id=\"node8\">\n",
       "<title>decisionVar3</title>\n",
       "<polygon fill=\"#50504a\" points=\"200,-252 92,-252 92,-216 200,-216 200,-252\" stroke=\"#000000\"/>\n",
       "<text fill=\"#ffffff\" font-family=\"Times,serif\" font-size=\"14.00\" text-anchor=\"middle\" x=\"146\" y=\"-230.3\">decisionVar3</text>\n",
       "</g>\n",
       "<!-- chanceVar2&#45;&gt;decisionVar3 -->\n",
       "<g class=\"edge\" id=\"edge9\">\n",
       "<title>chanceVar2-&gt;decisionVar3</title>\n",
       "<path d=\"M251.8172,-290.0209C233.4945,-280.3206 209.8005,-267.7767 189.4797,-257.0187\" fill=\"none\" stroke=\"#4a4a4a\"/>\n",
       "<polygon fill=\"#4a4a4a\" points=\"190.8874,-253.8037 180.4119,-252.2181 187.6122,-259.9903 190.8874,-253.8037\" stroke=\"#4a4a4a\"/>\n",
       "</g>\n",
       "<!-- chanceVar3 -->\n",
       "<g class=\"node\" id=\"node3\">\n",
       "<title>chanceVar3</title>\n",
       "<ellipse cx=\"116\" cy=\"-162\" fill=\"#504a50\" rx=\"64.189\" ry=\"18\" stroke=\"#000000\"/>\n",
       "<text fill=\"#ffffff\" font-family=\"Times,serif\" font-size=\"14.00\" text-anchor=\"middle\" x=\"116\" y=\"-158.3\">chanceVar3</text>\n",
       "</g>\n",
       "<!-- chanceVar5 -->\n",
       "<g class=\"node\" id=\"node5\">\n",
       "<title>chanceVar5</title>\n",
       "<ellipse cx=\"190\" cy=\"-90\" fill=\"#504a50\" rx=\"64.189\" ry=\"18\" stroke=\"#000000\"/>\n",
       "<text fill=\"#ffffff\" font-family=\"Times,serif\" font-size=\"14.00\" text-anchor=\"middle\" x=\"190\" y=\"-86.3\">chanceVar5</text>\n",
       "</g>\n",
       "<!-- chanceVar3&#45;&gt;chanceVar5 -->\n",
       "<g class=\"edge\" id=\"edge10\">\n",
       "<title>chanceVar3-&gt;chanceVar5</title>\n",
       "<path d=\"M133.9133,-144.5708C143.1165,-135.6164 154.4892,-124.551 164.5829,-114.7302\" fill=\"none\" stroke=\"#4a4a4a\"/>\n",
       "<polygon fill=\"#4a4a4a\" points=\"167.2686,-117.0004 171.9951,-107.5182 162.3871,-111.9833 167.2686,-117.0004\" stroke=\"#4a4a4a\"/>\n",
       "</g>\n",
       "<!-- chanceVar4 -->\n",
       "<g class=\"node\" id=\"node4\">\n",
       "<title>chanceVar4</title>\n",
       "<ellipse cx=\"263\" cy=\"-162\" fill=\"#504a50\" rx=\"64.189\" ry=\"18\" stroke=\"#000000\"/>\n",
       "<text fill=\"#ffffff\" font-family=\"Times,serif\" font-size=\"14.00\" text-anchor=\"middle\" x=\"263\" y=\"-158.3\">chanceVar4</text>\n",
       "</g>\n",
       "<!-- chanceVar4&#45;&gt;chanceVar5 -->\n",
       "<g class=\"edge\" id=\"edge11\">\n",
       "<title>chanceVar4-&gt;chanceVar5</title>\n",
       "<path d=\"M245.3287,-144.5708C236.2499,-135.6164 225.0309,-124.551 215.0736,-114.7302\" fill=\"none\" stroke=\"#4a4a4a\"/>\n",
       "<polygon fill=\"#4a4a4a\" points=\"217.339,-112.0485 207.7615,-107.5182 212.4235,-117.0323 217.339,-112.0485\" stroke=\"#4a4a4a\"/>\n",
       "</g>\n",
       "<!-- utilityVar2 -->\n",
       "<g class=\"node\" id=\"node11\">\n",
       "<title>utilityVar2</title>\n",
       "<polygon fill=\"#4a5050\" points=\"122,-36 37.375,-18 122,0 206.625,-18 122,-36\" stroke=\"#000000\"/>\n",
       "<text fill=\"#ffffff\" font-family=\"Times,serif\" font-size=\"14.00\" text-anchor=\"middle\" x=\"122\" y=\"-14.3\">utilityVar2</text>\n",
       "</g>\n",
       "<!-- chanceVar5&#45;&gt;utilityVar2 -->\n",
       "<g class=\"edge\" id=\"edge12\">\n",
       "<title>chanceVar5-&gt;utilityVar2</title>\n",
       "<path d=\"M173.5391,-72.5708C164.5183,-63.0194 153.2292,-51.0662 143.5178,-40.7836\" fill=\"none\" stroke=\"#4a4a4a\"/>\n",
       "<polygon fill=\"#4a4a4a\" points=\"145.8735,-38.1804 136.4627,-33.3134 140.7844,-42.9868 145.8735,-38.1804\" stroke=\"#4a4a4a\"/>\n",
       "</g>\n",
       "<!-- decisionVar1 -->\n",
       "<g class=\"node\" id=\"node6\">\n",
       "<title>decisionVar1</title>\n",
       "<polygon fill=\"#50504a\" points=\"382,-468 274,-468 274,-432 382,-432 382,-468\" stroke=\"#000000\"/>\n",
       "<text fill=\"#ffffff\" font-family=\"Times,serif\" font-size=\"14.00\" text-anchor=\"middle\" x=\"328\" y=\"-446.3\">decisionVar1</text>\n",
       "</g>\n",
       "<!-- decisionVar1&#45;&gt;chanceVar1 -->\n",
       "<g class=\"edge\" id=\"edge1\">\n",
       "<title>decisionVar1-&gt;chanceVar1</title>\n",
       "<path d=\"M328,-431.8314C328,-424.131 328,-414.9743 328,-406.4166\" fill=\"none\" stroke=\"#4a4a4a\"/>\n",
       "<polygon fill=\"#4a4a4a\" points=\"331.5001,-406.4132 328,-396.4133 324.5001,-406.4133 331.5001,-406.4132\" stroke=\"#4a4a4a\"/>\n",
       "</g>\n",
       "<!-- decisionVar2&#45;&gt;chanceVar4 -->\n",
       "<g class=\"edge\" id=\"edge3\">\n",
       "<title>decisionVar2-&gt;chanceVar4</title>\n",
       "<path d=\"M277.2055,-215.8314C275.1511,-208.0463 272.704,-198.7729 270.4244,-190.1347\" fill=\"none\" stroke=\"#4a4a4a\"/>\n",
       "<polygon fill=\"#4a4a4a\" points=\"273.7948,-189.1892 267.8591,-180.4133 267.0265,-190.9753 273.7948,-189.1892\" stroke=\"#4a4a4a\"/>\n",
       "</g>\n",
       "<!-- decisionVar2&#45;&gt;utilityVar1 -->\n",
       "<g class=\"edge\" id=\"edge2\">\n",
       "<title>decisionVar2-&gt;utilityVar1</title>\n",
       "<path d=\"M319.3466,-215.8314C342.4246,-204.6043 371.8655,-190.2817 394.5768,-179.2329\" fill=\"none\" stroke=\"#4a4a4a\"/>\n",
       "<polygon fill=\"#4a4a4a\" points=\"396.3988,-182.2388 403.86,-174.7168 393.3365,-175.9441 396.3988,-182.2388\" stroke=\"#4a4a4a\"/>\n",
       "</g>\n",
       "<!-- decisionVar3&#45;&gt;chanceVar3 -->\n",
       "<g class=\"edge\" id=\"edge4\">\n",
       "<title>decisionVar3-&gt;chanceVar3</title>\n",
       "<path d=\"M138.4297,-215.8314C135.0645,-207.7547 131.0317,-198.0761 127.3195,-189.1668\" fill=\"none\" stroke=\"#4a4a4a\"/>\n",
       "<polygon fill=\"#4a4a4a\" points=\"130.5409,-187.798 123.4639,-179.9134 124.0794,-190.4904 130.5409,-187.798\" stroke=\"#4a4a4a\"/>\n",
       "</g>\n",
       "<!-- decisionVar4 -->\n",
       "<g class=\"node\" id=\"node9\">\n",
       "<title>decisionVar4</title>\n",
       "<polygon fill=\"#50504a\" points=\"108,-108 0,-108 0,-72 108,-72 108,-108\" stroke=\"#000000\"/>\n",
       "<text fill=\"#ffffff\" font-family=\"Times,serif\" font-size=\"14.00\" text-anchor=\"middle\" x=\"54\" y=\"-86.3\">decisionVar4</text>\n",
       "</g>\n",
       "<!-- decisionVar4&#45;&gt;utilityVar2 -->\n",
       "<g class=\"edge\" id=\"edge5\">\n",
       "<title>decisionVar4-&gt;utilityVar2</title>\n",
       "<path d=\"M71.1593,-71.8314C80.1889,-62.2706 91.3385,-50.4651 100.8934,-40.3481\" fill=\"none\" stroke=\"#4a4a4a\"/>\n",
       "<polygon fill=\"#4a4a4a\" points=\"103.506,-42.6793 107.8277,-33.0059 98.4169,-37.8729 103.506,-42.6793\" stroke=\"#4a4a4a\"/>\n",
       "</g>\n",
       "</g>\n",
       "</svg>"
      ],
      "text/plain": [
       "<IPython.core.display.SVG object>"
      ]
     },
     "metadata": {},
     "output_type": "display_data"
    }
   ],
   "source": [
    "diag=gum.loadID(os.path.join(\"res\",\"diag.bifxml\"))\n",
    "gnb.showInfluenceDiagram(diag)"
   ]
  },
  {
   "cell_type": "code",
   "execution_count": 4,
   "metadata": {
    "ExecuteTime": {
     "end_time": "2019-02-25T17:33:54.946587Z",
     "start_time": "2019-02-25T17:33:52.799259Z"
    }
   },
   "outputs": [
    {
     "data": {
      "image/svg+xml": [
       "<svg height=\"253pt\" viewBox=\"0.00 0.00 288.00 252.67\" width=\"288pt\" xmlns=\"http://www.w3.org/2000/svg\" xmlns:xlink=\"http://www.w3.org/1999/xlink\">\n",
       "<g class=\"graph\" id=\"graph0\" transform=\"scale(.5308 .5308) rotate(0) translate(4 472)\">\n",
       "<title>G</title>\n",
       "<!-- chanceVar1 -->\n",
       "<g class=\"node\" id=\"node1\">\n",
       "<title>chanceVar1</title>\n",
       "<ellipse cx=\"284.5625\" cy=\"-378\" fill=\"#504a50\" rx=\"64.189\" ry=\"18\" stroke=\"#000000\"/>\n",
       "<text fill=\"#ffffff\" font-family=\"Times,serif\" font-size=\"14.00\" text-anchor=\"middle\" x=\"284.5625\" y=\"-374.3\">chanceVar1</text>\n",
       "</g>\n",
       "<!-- chanceVar2 -->\n",
       "<g class=\"node\" id=\"node2\">\n",
       "<title>chanceVar2</title>\n",
       "<ellipse cx=\"284.5625\" cy=\"-306\" fill=\"#504a50\" rx=\"64.189\" ry=\"18\" stroke=\"#000000\"/>\n",
       "<text fill=\"#ffffff\" font-family=\"Times,serif\" font-size=\"14.00\" text-anchor=\"middle\" x=\"284.5625\" y=\"-302.3\">chanceVar2</text>\n",
       "</g>\n",
       "<!-- chanceVar1&#45;&gt;chanceVar2 -->\n",
       "<g class=\"edge\" id=\"edge9\">\n",
       "<title>chanceVar1-&gt;chanceVar2</title>\n",
       "<path d=\"M284.5625,-359.8314C284.5625,-352.131 284.5625,-342.9743 284.5625,-334.4166\" fill=\"none\" stroke=\"#4a4a4a\"/>\n",
       "<polygon fill=\"#4a4a4a\" points=\"288.0626,-334.4132 284.5625,-324.4133 281.0626,-334.4133 288.0626,-334.4132\" stroke=\"#4a4a4a\"/>\n",
       "</g>\n",
       "<!-- utilityVar1 -->\n",
       "<g class=\"node\" id=\"node11\">\n",
       "<title>utilityVar1</title>\n",
       "<polygon fill=\"#4a5050\" points=\"84.5625,-180 -.0625,-162 84.5625,-144 169.1874,-162 84.5625,-180\" stroke=\"#000000\"/>\n",
       "<text fill=\"#ffffff\" font-family=\"Times,serif\" font-size=\"14.00\" text-anchor=\"middle\" x=\"84.5625\" y=\"-158.3\">utilityVar1</text>\n",
       "</g>\n",
       "<!-- chanceVar1&#45;&gt;utilityVar1 -->\n",
       "<g class=\"edge\" id=\"edge8\">\n",
       "<title>chanceVar1-&gt;utilityVar1</title>\n",
       "<path d=\"M258.5686,-361.3157C243.9939,-351.3561 225.9158,-337.9572 211.5625,-324 166.363,-280.0481 123.1489,-219.7412 100.6483,-186.4924\" fill=\"none\" stroke=\"#4a4a4a\"/>\n",
       "<polygon fill=\"#4a4a4a\" points=\"103.3424,-184.2254 94.8668,-177.8681 97.528,-188.1233 103.3424,-184.2254\" stroke=\"#4a4a4a\"/>\n",
       "</g>\n",
       "<!-- decisionVar2 -->\n",
       "<g class=\"node\" id=\"node8\">\n",
       "<title>decisionVar2</title>\n",
       "<polygon fill=\"#50504a\" points=\"305.5625,-252 197.5625,-252 197.5625,-216 305.5625,-216 305.5625,-252\" stroke=\"#000000\"/>\n",
       "<text fill=\"#ffffff\" font-family=\"Times,serif\" font-size=\"14.00\" text-anchor=\"middle\" x=\"251.5625\" y=\"-230.3\">decisionVar2</text>\n",
       "</g>\n",
       "<!-- chanceVar2&#45;&gt;decisionVar2 -->\n",
       "<g class=\"edge\" id=\"edge10\">\n",
       "<title>chanceVar2-&gt;decisionVar2</title>\n",
       "<path d=\"M276.2352,-287.8314C272.5895,-279.8771 268.2316,-270.369 264.1998,-261.5723\" fill=\"none\" stroke=\"#4a4a4a\"/>\n",
       "<polygon fill=\"#4a4a4a\" points=\"267.3502,-260.0456 260.0019,-252.4133 260.9868,-262.9622 267.3502,-260.0456\" stroke=\"#4a4a4a\"/>\n",
       "</g>\n",
       "<!-- decisionVar3 -->\n",
       "<g class=\"node\" id=\"node9\">\n",
       "<title>decisionVar3</title>\n",
       "<polygon fill=\"#50504a\" points=\"452.5625,-252 344.5625,-252 344.5625,-216 452.5625,-216 452.5625,-252\" stroke=\"#000000\"/>\n",
       "<text fill=\"#ffffff\" font-family=\"Times,serif\" font-size=\"14.00\" text-anchor=\"middle\" x=\"398.5625\" y=\"-230.3\">decisionVar3</text>\n",
       "</g>\n",
       "<!-- chanceVar2&#45;&gt;decisionVar3 -->\n",
       "<g class=\"edge\" id=\"edge11\">\n",
       "<title>chanceVar2-&gt;decisionVar3</title>\n",
       "<path d=\"M310.7164,-289.4817C325.5809,-280.0936 344.4504,-268.1761 360.8879,-257.7945\" fill=\"none\" stroke=\"#4a4a4a\"/>\n",
       "<polygon fill=\"#4a4a4a\" points=\"363.1428,-260.51 369.7287,-252.2108 359.4048,-254.5916 363.1428,-260.51\" stroke=\"#4a4a4a\"/>\n",
       "</g>\n",
       "<!-- chanceVar3 -->\n",
       "<g class=\"node\" id=\"node3\">\n",
       "<title>chanceVar3</title>\n",
       "<ellipse cx=\"398.5625\" cy=\"-162\" fill=\"#504a50\" rx=\"64.189\" ry=\"18\" stroke=\"#000000\"/>\n",
       "<text fill=\"#ffffff\" font-family=\"Times,serif\" font-size=\"14.00\" text-anchor=\"middle\" x=\"398.5625\" y=\"-158.3\">chanceVar3</text>\n",
       "</g>\n",
       "<!-- chanceVar5 -->\n",
       "<g class=\"node\" id=\"node5\">\n",
       "<title>chanceVar5</title>\n",
       "<ellipse cx=\"324.5625\" cy=\"-90\" fill=\"#504a50\" rx=\"64.189\" ry=\"18\" stroke=\"#000000\"/>\n",
       "<text fill=\"#ffffff\" font-family=\"Times,serif\" font-size=\"14.00\" text-anchor=\"middle\" x=\"324.5625\" y=\"-86.3\">chanceVar5</text>\n",
       "</g>\n",
       "<!-- chanceVar3&#45;&gt;chanceVar5 -->\n",
       "<g class=\"edge\" id=\"edge12\">\n",
       "<title>chanceVar3-&gt;chanceVar5</title>\n",
       "<path d=\"M380.6491,-144.5708C371.4459,-135.6164 360.0732,-124.551 349.9796,-114.7302\" fill=\"none\" stroke=\"#4a4a4a\"/>\n",
       "<polygon fill=\"#4a4a4a\" points=\"352.1754,-111.9833 342.5673,-107.5182 347.2939,-117.0004 352.1754,-111.9833\" stroke=\"#4a4a4a\"/>\n",
       "</g>\n",
       "<!-- chanceVar4 -->\n",
       "<g class=\"node\" id=\"node4\">\n",
       "<title>chanceVar4</title>\n",
       "<ellipse cx=\"251.5625\" cy=\"-162\" fill=\"#504a50\" rx=\"64.189\" ry=\"18\" stroke=\"#000000\"/>\n",
       "<text fill=\"#ffffff\" font-family=\"Times,serif\" font-size=\"14.00\" text-anchor=\"middle\" x=\"251.5625\" y=\"-158.3\">chanceVar4</text>\n",
       "</g>\n",
       "<!-- chanceVar4&#45;&gt;chanceVar5 -->\n",
       "<g class=\"edge\" id=\"edge13\">\n",
       "<title>chanceVar4-&gt;chanceVar5</title>\n",
       "<path d=\"M269.2337,-144.5708C278.3125,-135.6164 289.5316,-124.551 299.4888,-114.7302\" fill=\"none\" stroke=\"#4a4a4a\"/>\n",
       "<polygon fill=\"#4a4a4a\" points=\"302.139,-117.0323 306.8009,-107.5182 297.2235,-112.0485 302.139,-117.0323\" stroke=\"#4a4a4a\"/>\n",
       "</g>\n",
       "<!-- utilityVar2 -->\n",
       "<g class=\"node\" id=\"node12\">\n",
       "<title>utilityVar2</title>\n",
       "<polygon fill=\"#4a5050\" points=\"256.5625,-36 171.9375,-18 256.5625,0 341.1874,-18 256.5625,-36\" stroke=\"#000000\"/>\n",
       "<text fill=\"#ffffff\" font-family=\"Times,serif\" font-size=\"14.00\" text-anchor=\"middle\" x=\"256.5625\" y=\"-14.3\">utilityVar2</text>\n",
       "</g>\n",
       "<!-- chanceVar5&#45;&gt;utilityVar2 -->\n",
       "<g class=\"edge\" id=\"edge14\">\n",
       "<title>chanceVar5-&gt;utilityVar2</title>\n",
       "<path d=\"M308.1016,-72.5708C299.0808,-63.0194 287.7917,-51.0662 278.0803,-40.7836\" fill=\"none\" stroke=\"#4a4a4a\"/>\n",
       "<polygon fill=\"#4a4a4a\" points=\"280.4359,-38.1804 271.0251,-33.3134 275.3468,-42.9868 280.4359,-38.1804\" stroke=\"#4a4a4a\"/>\n",
       "</g>\n",
       "<!-- F -->\n",
       "<g class=\"node\" id=\"node6\">\n",
       "<title>F</title>\n",
       "<ellipse cx=\"420.5625\" cy=\"-306\" fill=\"#504a50\" rx=\"27\" ry=\"18\" stroke=\"#000000\"/>\n",
       "<text fill=\"#ffffff\" font-family=\"Times,serif\" font-size=\"14.00\" text-anchor=\"middle\" x=\"420.5625\" y=\"-302.3\">F</text>\n",
       "</g>\n",
       "<!-- U -->\n",
       "<g class=\"node\" id=\"node13\">\n",
       "<title>U</title>\n",
       "<polygon fill=\"#4a5050\" points=\"507.5625,-180 480.5625,-162 507.5625,-144 534.5625,-162 507.5625,-180\" stroke=\"#000000\"/>\n",
       "<text fill=\"#ffffff\" font-family=\"Times,serif\" font-size=\"14.00\" text-anchor=\"middle\" x=\"507.5625\" y=\"-158.3\">U</text>\n",
       "</g>\n",
       "<!-- F&#45;&gt;U -->\n",
       "<g class=\"edge\" id=\"edge15\">\n",
       "<title>F-&gt;U</title>\n",
       "<path d=\"M433.9049,-289.9969C442.3312,-279.5252 453.1713,-265.356 461.5625,-252 475.252,-230.2109 488.3521,-203.8526 497.0461,-185.3096\" fill=\"none\" stroke=\"#4a4a4a\"/>\n",
       "<polygon fill=\"#4a4a4a\" points=\"500.2654,-186.6867 501.2846,-176.141 493.9114,-183.7494 500.2654,-186.6867\" stroke=\"#4a4a4a\"/>\n",
       "</g>\n",
       "<!-- decisionVar1 -->\n",
       "<g class=\"node\" id=\"node7\">\n",
       "<title>decisionVar1</title>\n",
       "<polygon fill=\"#50504a\" points=\"384.5625,-468 276.5625,-468 276.5625,-432 384.5625,-432 384.5625,-468\" stroke=\"#000000\"/>\n",
       "<text fill=\"#ffffff\" font-family=\"Times,serif\" font-size=\"14.00\" text-anchor=\"middle\" x=\"330.5625\" y=\"-446.3\">decisionVar1</text>\n",
       "</g>\n",
       "<!-- decisionVar1&#45;&gt;chanceVar1 -->\n",
       "<g class=\"edge\" id=\"edge2\">\n",
       "<title>decisionVar1-&gt;chanceVar1</title>\n",
       "<path d=\"M318.9547,-431.8314C313.6849,-423.5829 307.3475,-413.6635 301.5564,-404.5992\" fill=\"none\" stroke=\"#4a4a4a\"/>\n",
       "<polygon fill=\"#4a4a4a\" points=\"304.3405,-402.456 296.0071,-395.9134 298.4416,-406.2248 304.3405,-402.456\" stroke=\"#4a4a4a\"/>\n",
       "</g>\n",
       "<!-- decisionVar1&#45;&gt;F -->\n",
       "<g class=\"edge\" id=\"edge1\">\n",
       "<title>decisionVar1-&gt;F</title>\n",
       "<path d=\"M341.961,-431.7623C357.8384,-406.3585 386.6818,-360.2091 404.6655,-331.4352\" fill=\"none\" stroke=\"#4a4a4a\"/>\n",
       "<polygon fill=\"#4a4a4a\" points=\"407.7605,-333.0869 410.0925,-322.7519 401.8245,-329.3769 407.7605,-333.0869\" stroke=\"#4a4a4a\"/>\n",
       "</g>\n",
       "<!-- decisionVar2&#45;&gt;chanceVar4 -->\n",
       "<g class=\"edge\" id=\"edge4\">\n",
       "<title>decisionVar2-&gt;chanceVar4</title>\n",
       "<path d=\"M251.5625,-215.8314C251.5625,-208.131 251.5625,-198.9743 251.5625,-190.4166\" fill=\"none\" stroke=\"#4a4a4a\"/>\n",
       "<polygon fill=\"#4a4a4a\" points=\"255.0626,-190.4132 251.5625,-180.4133 248.0626,-190.4133 255.0626,-190.4132\" stroke=\"#4a4a4a\"/>\n",
       "</g>\n",
       "<!-- decisionVar2&#45;&gt;utilityVar1 -->\n",
       "<g class=\"edge\" id=\"edge3\">\n",
       "<title>decisionVar2-&gt;utilityVar1</title>\n",
       "<path d=\"M209.4213,-215.8314C182.5178,-204.2323 147.9509,-189.3291 122.0114,-178.1457\" fill=\"none\" stroke=\"#4a4a4a\"/>\n",
       "<polygon fill=\"#4a4a4a\" points=\"123.0949,-174.8014 112.5263,-174.0563 120.3235,-181.2294 123.0949,-174.8014\" stroke=\"#4a4a4a\"/>\n",
       "</g>\n",
       "<!-- decisionVar3&#45;&gt;chanceVar3 -->\n",
       "<g class=\"edge\" id=\"edge5\">\n",
       "<title>decisionVar3-&gt;chanceVar3</title>\n",
       "<path d=\"M398.5625,-215.8314C398.5625,-208.131 398.5625,-198.9743 398.5625,-190.4166\" fill=\"none\" stroke=\"#4a4a4a\"/>\n",
       "<polygon fill=\"#4a4a4a\" points=\"402.0626,-190.4132 398.5625,-180.4133 395.0626,-190.4133 402.0626,-190.4132\" stroke=\"#4a4a4a\"/>\n",
       "</g>\n",
       "<!-- decisionVar3&#45;&gt;U -->\n",
       "<g class=\"edge\" id=\"edge6\">\n",
       "<title>decisionVar3-&gt;U</title>\n",
       "<path d=\"M426.0678,-215.8314C444.2666,-203.8101 467.838,-188.24 484.9453,-176.9398\" fill=\"none\" stroke=\"#4a4a4a\"/>\n",
       "<polygon fill=\"#4a4a4a\" points=\"487.2942,-179.5829 493.7091,-171.1508 483.4361,-173.7421 487.2942,-179.5829\" stroke=\"#4a4a4a\"/>\n",
       "</g>\n",
       "<!-- decisionVar4 -->\n",
       "<g class=\"node\" id=\"node10\">\n",
       "<title>decisionVar4</title>\n",
       "<polygon fill=\"#50504a\" points=\"242.5625,-108 134.5625,-108 134.5625,-72 242.5625,-72 242.5625,-108\" stroke=\"#000000\"/>\n",
       "<text fill=\"#ffffff\" font-family=\"Times,serif\" font-size=\"14.00\" text-anchor=\"middle\" x=\"188.5625\" y=\"-86.3\">decisionVar4</text>\n",
       "</g>\n",
       "<!-- decisionVar4&#45;&gt;utilityVar2 -->\n",
       "<g class=\"edge\" id=\"edge7\">\n",
       "<title>decisionVar4-&gt;utilityVar2</title>\n",
       "<path d=\"M205.7217,-71.8314C214.7513,-62.2706 225.901,-50.4651 235.4559,-40.3481\" fill=\"none\" stroke=\"#4a4a4a\"/>\n",
       "<polygon fill=\"#4a4a4a\" points=\"238.0685,-42.6793 242.3902,-33.0059 232.9794,-37.8729 238.0685,-42.6793\" stroke=\"#4a4a4a\"/>\n",
       "</g>\n",
       "</g>\n",
       "</svg>"
      ],
      "text/plain": [
       "<IPython.core.display.SVG object>"
      ]
     },
     "metadata": {},
     "output_type": "display_data"
    }
   ],
   "source": [
    "F=diag.addChanceNode(gum.LabelizedVariable(\"F\",\"F\",2))\n",
    "diag.addArc(diag.idFromName(\"decisionVar1\"),F)\n",
    "\n",
    "U=diag.addUtilityNode(gum.LabelizedVariable(\"U\",\"U\",1))\n",
    "diag.addArc(diag.idFromName(\"decisionVar3\"),U)\n",
    "diag.addArc(diag.idFromName(\"F\"),U)\n",
    "\n",
    "gnb.showInfluenceDiagram(diag) \n",
    "# note the difference between png (above) and svg (here)rendering"
   ]
  },
  {
   "cell_type": "code",
   "execution_count": 5,
   "metadata": {
    "ExecuteTime": {
     "end_time": "2019-02-25T17:33:54.955130Z",
     "start_time": "2019-02-25T17:33:54.948913Z"
    }
   },
   "outputs": [],
   "source": [
    "diag.cpt(F)[{'decisionVar1':0}]=[0.9,0.1]\n",
    "diag.cpt(F)[{'decisionVar1':1}]=[0.3,0.7]\n",
    "\n",
    "diag.utility(U)[{'F':0,'decisionVar3':0}]=2\n",
    "diag.utility(U)[{'F':0,'decisionVar3':1}]=4\n",
    "diag.utility(U)[{'F':1}]=[[0],[5]]"
   ]
  },
  {
   "cell_type": "code",
   "execution_count": 6,
   "metadata": {
    "ExecuteTime": {
     "end_time": "2019-02-25T17:33:57.089038Z",
     "start_time": "2019-02-25T17:33:54.956871Z"
    }
   },
   "outputs": [
    {
     "data": {
      "image/svg+xml": [
       "<svg height=\"226pt\" viewBox=\"0.00 0.00 288.00 225.54\" width=\"288pt\" xmlns=\"http://www.w3.org/2000/svg\" xmlns:xlink=\"http://www.w3.org/1999/xlink\">\n",
       "<g class=\"graph\" id=\"graph0\" transform=\"scale(.8675 .8675) rotate(0) translate(4 256)\">\n",
       "<title>G</title>\n",
       "<!-- S -->\n",
       "<g class=\"node\" id=\"node1\">\n",
       "<title>S</title>\n",
       "<ellipse cx=\"72\" cy=\"-234\" fill=\"#504a50\" rx=\"27\" ry=\"18\" stroke=\"#000000\"/>\n",
       "<text fill=\"#ffffff\" font-family=\"Times,serif\" font-size=\"14.00\" text-anchor=\"middle\" x=\"72\" y=\"-230.3\">S</text>\n",
       "</g>\n",
       "<!-- B -->\n",
       "<g class=\"node\" id=\"node2\">\n",
       "<title>B</title>\n",
       "<ellipse cx=\"27\" cy=\"-90\" fill=\"#504a50\" rx=\"27\" ry=\"18\" stroke=\"#000000\"/>\n",
       "<text fill=\"#ffffff\" font-family=\"Times,serif\" font-size=\"14.00\" text-anchor=\"middle\" x=\"27\" y=\"-86.3\">B</text>\n",
       "</g>\n",
       "<!-- S&#45;&gt;B -->\n",
       "<g class=\"edge\" id=\"edge5\">\n",
       "<title>S-&gt;B</title>\n",
       "<path d=\"M66.4821,-216.3428C58.7563,-191.6202 44.644,-146.4608 35.5512,-117.3639\" fill=\"none\" stroke=\"#4a4a4a\"/>\n",
       "<polygon fill=\"#4a4a4a\" points=\"38.8865,-116.3025 32.563,-107.8017 32.2052,-118.3904 38.8865,-116.3025\" stroke=\"#4a4a4a\"/>\n",
       "</g>\n",
       "<!-- L -->\n",
       "<g class=\"node\" id=\"node3\">\n",
       "<title>L</title>\n",
       "<ellipse cx=\"99\" cy=\"-162\" fill=\"#504a50\" rx=\"27\" ry=\"18\" stroke=\"#000000\"/>\n",
       "<text fill=\"#ffffff\" font-family=\"Times,serif\" font-size=\"14.00\" text-anchor=\"middle\" x=\"99\" y=\"-158.3\">L</text>\n",
       "</g>\n",
       "<!-- S&#45;&gt;L -->\n",
       "<g class=\"edge\" id=\"edge6\">\n",
       "<title>S-&gt;L</title>\n",
       "<path d=\"M78.6742,-216.2022C81.7476,-208.0064 85.4616,-198.1024 88.8695,-189.0145\" fill=\"none\" stroke=\"#4a4a4a\"/>\n",
       "<polygon fill=\"#4a4a4a\" points=\"92.1685,-190.1853 92.4026,-179.593 85.6142,-187.7274 92.1685,-190.1853\" stroke=\"#4a4a4a\"/>\n",
       "</g>\n",
       "<!-- D -->\n",
       "<g class=\"node\" id=\"node5\">\n",
       "<title>D</title>\n",
       "<ellipse cx=\"71\" cy=\"-18\" fill=\"#504a50\" rx=\"27\" ry=\"18\" stroke=\"#000000\"/>\n",
       "<text fill=\"#ffffff\" font-family=\"Times,serif\" font-size=\"14.00\" text-anchor=\"middle\" x=\"71\" y=\"-14.3\">D</text>\n",
       "</g>\n",
       "<!-- B&#45;&gt;D -->\n",
       "<g class=\"edge\" id=\"edge7\">\n",
       "<title>B-&gt;D</title>\n",
       "<path d=\"M37.2051,-73.3008C42.5696,-64.5224 49.2626,-53.5703 55.2737,-43.7339\" fill=\"none\" stroke=\"#4a4a4a\"/>\n",
       "<polygon fill=\"#4a4a4a\" points=\"58.3167,-45.4666 60.5447,-35.1086 52.3437,-41.8164 58.3167,-45.4666\" stroke=\"#4a4a4a\"/>\n",
       "</g>\n",
       "<!-- E -->\n",
       "<g class=\"node\" id=\"node4\">\n",
       "<title>E</title>\n",
       "<ellipse cx=\"99\" cy=\"-90\" fill=\"#504a50\" rx=\"27\" ry=\"18\" stroke=\"#000000\"/>\n",
       "<text fill=\"#ffffff\" font-family=\"Times,serif\" font-size=\"14.00\" text-anchor=\"middle\" x=\"99\" y=\"-86.3\">E</text>\n",
       "</g>\n",
       "<!-- L&#45;&gt;E -->\n",
       "<g class=\"edge\" id=\"edge8\">\n",
       "<title>L-&gt;E</title>\n",
       "<path d=\"M99,-143.8314C99,-136.131 99,-126.9743 99,-118.4166\" fill=\"none\" stroke=\"#4a4a4a\"/>\n",
       "<polygon fill=\"#4a4a4a\" points=\"102.5001,-118.4132 99,-108.4133 95.5001,-118.4133 102.5001,-118.4132\" stroke=\"#4a4a4a\"/>\n",
       "</g>\n",
       "<!-- Uh -->\n",
       "<g class=\"node\" id=\"node11\">\n",
       "<title>Uh</title>\n",
       "<polygon fill=\"#4a5050\" points=\"179,-108 144.1439,-90 179,-72 213.8561,-90 179,-108\" stroke=\"#000000\"/>\n",
       "<text fill=\"#ffffff\" font-family=\"Times,serif\" font-size=\"14.00\" text-anchor=\"middle\" x=\"179\" y=\"-86.3\">Uh</text>\n",
       "</g>\n",
       "<!-- L&#45;&gt;Uh -->\n",
       "<g class=\"edge\" id=\"edge9\">\n",
       "<title>L-&gt;Uh</title>\n",
       "<path d=\"M115.1892,-147.4297C127.6663,-136.2003 145.0032,-120.5971 158.4574,-108.4883\" fill=\"none\" stroke=\"#4a4a4a\"/>\n",
       "<polygon fill=\"#4a4a4a\" points=\"161.1631,-110.762 166.2547,-101.4708 156.4803,-105.5589 161.1631,-110.762\" stroke=\"#4a4a4a\"/>\n",
       "</g>\n",
       "<!-- E&#45;&gt;D -->\n",
       "<g class=\"edge\" id=\"edge10\">\n",
       "<title>E-&gt;D</title>\n",
       "<path d=\"M92.222,-72.5708C89.0128,-64.3187 85.1065,-54.2738 81.5242,-45.0623\" fill=\"none\" stroke=\"#4a4a4a\"/>\n",
       "<polygon fill=\"#4a4a4a\" points=\"84.6992,-43.5697 77.8126,-35.5182 78.1752,-46.1069 84.6992,-43.5697\" stroke=\"#4a4a4a\"/>\n",
       "</g>\n",
       "<!-- P -->\n",
       "<g class=\"node\" id=\"node6\">\n",
       "<title>P</title>\n",
       "<ellipse cx=\"176\" cy=\"-18\" fill=\"#504a50\" rx=\"27\" ry=\"18\" stroke=\"#000000\"/>\n",
       "<text fill=\"#ffffff\" font-family=\"Times,serif\" font-size=\"14.00\" text-anchor=\"middle\" x=\"176\" y=\"-14.3\">P</text>\n",
       "</g>\n",
       "<!-- E&#45;&gt;P -->\n",
       "<g class=\"edge\" id=\"edge11\">\n",
       "<title>E-&gt;P</title>\n",
       "<path d=\"M114.9544,-75.0816C125.795,-64.945 140.3176,-51.3654 152.4782,-39.9944\" fill=\"none\" stroke=\"#4a4a4a\"/>\n",
       "<polygon fill=\"#4a4a4a\" points=\"155.1522,-42.2858 160.066,-32.8993 150.3712,-37.1728 155.1522,-42.2858\" stroke=\"#4a4a4a\"/>\n",
       "</g>\n",
       "<!-- Tu -->\n",
       "<g class=\"node\" id=\"node7\">\n",
       "<title>Tu</title>\n",
       "<ellipse cx=\"179\" cy=\"-162\" fill=\"#504a50\" rx=\"27\" ry=\"18\" stroke=\"#000000\"/>\n",
       "<text fill=\"#ffffff\" font-family=\"Times,serif\" font-size=\"14.00\" text-anchor=\"middle\" x=\"179\" y=\"-158.3\">Tu</text>\n",
       "</g>\n",
       "<!-- Tu&#45;&gt;E -->\n",
       "<g class=\"edge\" id=\"edge13\">\n",
       "<title>Tu-&gt;E</title>\n",
       "<path d=\"M162.8108,-147.4297C151.3167,-137.0851 135.6985,-123.0286 122.7907,-111.4116\" fill=\"none\" stroke=\"#4a4a4a\"/>\n",
       "<polygon fill=\"#4a4a4a\" points=\"124.9395,-108.6367 115.1651,-104.5486 120.2567,-113.8398 124.9395,-108.6367\" stroke=\"#4a4a4a\"/>\n",
       "</g>\n",
       "<!-- Tu&#45;&gt;Uh -->\n",
       "<g class=\"edge\" id=\"edge14\">\n",
       "<title>Tu-&gt;Uh</title>\n",
       "<path d=\"M179,-143.8314C179,-136.131 179,-126.9743 179,-118.4166\" fill=\"none\" stroke=\"#4a4a4a\"/>\n",
       "<polygon fill=\"#4a4a4a\" points=\"182.5001,-118.4132 179,-108.4133 175.5001,-118.4133 182.5001,-118.4132\" stroke=\"#4a4a4a\"/>\n",
       "</g>\n",
       "<!-- Ut -->\n",
       "<g class=\"node\" id=\"node12\">\n",
       "<title>Ut</title>\n",
       "<polygon fill=\"#4a5050\" points=\"269,-36 236.6581,-18 269,0 301.3419,-18 269,-36\" stroke=\"#000000\"/>\n",
       "<text fill=\"#ffffff\" font-family=\"Times,serif\" font-size=\"14.00\" text-anchor=\"middle\" x=\"269\" y=\"-14.3\">Ut</text>\n",
       "</g>\n",
       "<!-- Tu&#45;&gt;Ut -->\n",
       "<g class=\"edge\" id=\"edge12\">\n",
       "<title>Tu-&gt;Ut</title>\n",
       "<path d=\"M193.0161,-146.6075C202.1567,-136.1534 214.013,-121.7741 223,-108 236.98,-86.5735 249.9564,-60.3609 258.5379,-41.7635\" fill=\"none\" stroke=\"#4a4a4a\"/>\n",
       "<polygon fill=\"#4a4a4a\" points=\"261.7754,-43.099 262.7193,-32.5463 255.4006,-40.2071 261.7754,-43.099\" stroke=\"#4a4a4a\"/>\n",
       "</g>\n",
       "<!-- A -->\n",
       "<g class=\"node\" id=\"node8\">\n",
       "<title>A</title>\n",
       "<ellipse cx=\"179\" cy=\"-234\" fill=\"#504a50\" rx=\"27\" ry=\"18\" stroke=\"#000000\"/>\n",
       "<text fill=\"#ffffff\" font-family=\"Times,serif\" font-size=\"14.00\" text-anchor=\"middle\" x=\"179\" y=\"-230.3\">A</text>\n",
       "</g>\n",
       "<!-- A&#45;&gt;Tu -->\n",
       "<g class=\"edge\" id=\"edge15\">\n",
       "<title>A-&gt;Tu</title>\n",
       "<path d=\"M179,-215.8314C179,-208.131 179,-198.9743 179,-190.4166\" fill=\"none\" stroke=\"#4a4a4a\"/>\n",
       "<polygon fill=\"#4a4a4a\" points=\"182.5001,-190.4132 179,-180.4133 175.5001,-190.4133 182.5001,-190.4132\" stroke=\"#4a4a4a\"/>\n",
       "</g>\n",
       "<!-- H -->\n",
       "<g class=\"node\" id=\"node9\">\n",
       "<title>H</title>\n",
       "<polygon fill=\"#50504a\" points=\"301,-180 247,-180 247,-144 301,-144 301,-180\" stroke=\"#000000\"/>\n",
       "<text fill=\"#ffffff\" font-family=\"Times,serif\" font-size=\"14.00\" text-anchor=\"middle\" x=\"274\" y=\"-158.3\">H</text>\n",
       "</g>\n",
       "<!-- Ta -->\n",
       "<g class=\"node\" id=\"node10\">\n",
       "<title>Ta</title>\n",
       "<polygon fill=\"#50504a\" points=\"324,-108 270,-108 270,-72 324,-72 324,-108\" stroke=\"#000000\"/>\n",
       "<text fill=\"#ffffff\" font-family=\"Times,serif\" font-size=\"14.00\" text-anchor=\"middle\" x=\"297\" y=\"-86.3\">Ta</text>\n",
       "</g>\n",
       "<!-- H&#45;&gt;Ta -->\n",
       "<g class=\"edge\" id=\"edge1\">\n",
       "<title>H-&gt;Ta</title>\n",
       "<path d=\"M279.8039,-143.8314C282.2908,-136.0463 285.2531,-126.7729 288.0125,-118.1347\" fill=\"none\" stroke=\"#4a4a4a\"/>\n",
       "<polygon fill=\"#4a4a4a\" points=\"291.409,-119.0041 291.118,-108.4133 284.7409,-116.874 291.409,-119.0041\" stroke=\"#4a4a4a\"/>\n",
       "</g>\n",
       "<!-- H&#45;&gt;Uh -->\n",
       "<g class=\"edge\" id=\"edge2\">\n",
       "<title>H-&gt;Uh</title>\n",
       "<path d=\"M250.0275,-143.8314C235.0482,-132.4786 215.8927,-117.9607 201.2501,-106.8633\" fill=\"none\" stroke=\"#4a4a4a\"/>\n",
       "<polygon fill=\"#4a4a4a\" points=\"203.2998,-104.0251 193.216,-100.7743 199.0717,-109.6039 203.2998,-104.0251\" stroke=\"#4a4a4a\"/>\n",
       "</g>\n",
       "<!-- Ta&#45;&gt;P -->\n",
       "<g class=\"edge\" id=\"edge4\">\n",
       "<title>Ta-&gt;P</title>\n",
       "<path d=\"M269.8452,-73.8418C250.5969,-62.3882 224.7997,-47.0378 205.124,-35.33\" fill=\"none\" stroke=\"#4a4a4a\"/>\n",
       "<polygon fill=\"#4a4a4a\" points=\"206.6702,-32.1773 196.2868,-30.0715 203.0907,-38.1929 206.6702,-32.1773\" stroke=\"#4a4a4a\"/>\n",
       "</g>\n",
       "<!-- Ta&#45;&gt;Ut -->\n",
       "<g class=\"edge\" id=\"edge3\">\n",
       "<title>Ta-&gt;Ut</title>\n",
       "<path d=\"M289.9344,-71.8314C286.4715,-62.9267 282.2513,-52.0749 278.5097,-42.4536\" fill=\"none\" stroke=\"#4a4a4a\"/>\n",
       "<polygon fill=\"#4a4a4a\" points=\"281.7222,-41.0574 274.8356,-33.0059 275.1981,-43.5946 281.7222,-41.0574\" stroke=\"#4a4a4a\"/>\n",
       "</g>\n",
       "</g>\n",
       "</svg>"
      ],
      "text/plain": [
       "<IPython.core.display.SVG object>"
      ]
     },
     "metadata": {},
     "output_type": "display_data"
    }
   ],
   "source": [
    "asia=gum.loadID(os.path.join(\"res\",\"DecAsia.bifxml\"))\n",
    "gnb.showInfluenceDiagram(asia)"
   ]
  },
  {
   "cell_type": "code",
   "execution_count": 7,
   "metadata": {
    "ExecuteTime": {
     "end_time": "2019-02-25T17:33:59.278856Z",
     "start_time": "2019-02-25T17:33:57.091511Z"
    }
   },
   "outputs": [
    {
     "data": {
      "image/svg+xml": [
       "<svg height=\"260pt\" viewBox=\"0.00 0.00 218.17 260.00\" width=\"218pt\" xmlns=\"http://www.w3.org/2000/svg\" xmlns:xlink=\"http://www.w3.org/1999/xlink\">\n",
       "<g class=\"graph\" id=\"graph0\" transform=\"scale(1 1) rotate(0) translate(4 256)\">\n",
       "<title>G</title>\n",
       "<!-- R -->\n",
       "<g class=\"node\" id=\"node1\">\n",
       "<title>R</title>\n",
       "<ellipse cx=\"63\" cy=\"-162\" fill=\"#504a50\" rx=\"27\" ry=\"18\" stroke=\"#000000\"/>\n",
       "<text fill=\"#ffffff\" font-family=\"Times,serif\" font-size=\"14.00\" text-anchor=\"middle\" x=\"63\" y=\"-158.3\">R</text>\n",
       "</g>\n",
       "<!-- D -->\n",
       "<g class=\"node\" id=\"node4\">\n",
       "<title>D</title>\n",
       "<polygon fill=\"#50504a\" points=\"90,-108 36,-108 36,-72 90,-72 90,-108\" stroke=\"#000000\"/>\n",
       "<text fill=\"#ffffff\" font-family=\"Times,serif\" font-size=\"14.00\" text-anchor=\"middle\" x=\"63\" y=\"-86.3\">D</text>\n",
       "</g>\n",
       "<!-- R&#45;&gt;D -->\n",
       "<g class=\"edge\" id=\"edge5\">\n",
       "<title>R-&gt;D</title>\n",
       "<path d=\"M63,-143.8314C63,-136.131 63,-126.9743 63,-118.4166\" fill=\"none\" stroke=\"#4a4a4a\"/>\n",
       "<polygon fill=\"#4a4a4a\" points=\"66.5001,-118.4132 63,-108.4133 59.5001,-118.4133 66.5001,-118.4132\" stroke=\"#4a4a4a\"/>\n",
       "</g>\n",
       "<!-- O -->\n",
       "<g class=\"node\" id=\"node2\">\n",
       "<title>O</title>\n",
       "<ellipse cx=\"27\" cy=\"-234\" fill=\"#504a50\" rx=\"27\" ry=\"18\" stroke=\"#000000\"/>\n",
       "<text fill=\"#ffffff\" font-family=\"Times,serif\" font-size=\"14.00\" text-anchor=\"middle\" x=\"27\" y=\"-230.3\">O</text>\n",
       "</g>\n",
       "<!-- O&#45;&gt;R -->\n",
       "<g class=\"edge\" id=\"edge6\">\n",
       "<title>O-&gt;R</title>\n",
       "<path d=\"M35.7146,-216.5708C39.9597,-208.0807 45.1536,-197.6929 49.8663,-188.2674\" fill=\"none\" stroke=\"#4a4a4a\"/>\n",
       "<polygon fill=\"#4a4a4a\" points=\"53.024,-189.7782 54.3657,-179.2687 46.763,-186.6477 53.024,-189.7782\" stroke=\"#4a4a4a\"/>\n",
       "</g>\n",
       "<!-- Ud -->\n",
       "<g class=\"node\" id=\"node6\">\n",
       "<title>Ud</title>\n",
       "<polygon fill=\"#4a5050\" points=\"35,-36 .1439,-18 35,0 69.8561,-18 35,-36\" stroke=\"#000000\"/>\n",
       "<text fill=\"#ffffff\" font-family=\"Times,serif\" font-size=\"14.00\" text-anchor=\"middle\" x=\"35\" y=\"-14.3\">Ud</text>\n",
       "</g>\n",
       "<!-- O&#45;&gt;Ud -->\n",
       "<g class=\"edge\" id=\"edge7\">\n",
       "<title>O-&gt;Ud</title>\n",
       "<path d=\"M26.1379,-215.9889C24.8981,-186.0498 23.1564,-124.1711 27,-72 27.6634,-62.9958 28.9409,-53.215 30.2836,-44.4827\" fill=\"none\" stroke=\"#4a4a4a\"/>\n",
       "<polygon fill=\"#4a4a4a\" points=\"33.7606,-44.9068 31.9168,-34.4736 26.8519,-43.7794 33.7606,-44.9068\" stroke=\"#4a4a4a\"/>\n",
       "</g>\n",
       "<!-- T -->\n",
       "<g class=\"node\" id=\"node3\">\n",
       "<title>T</title>\n",
       "<polygon fill=\"#50504a\" points=\"145,-252 91,-252 91,-216 145,-216 145,-252\" stroke=\"#000000\"/>\n",
       "<text fill=\"#ffffff\" font-family=\"Times,serif\" font-size=\"14.00\" text-anchor=\"middle\" x=\"118\" y=\"-230.3\">T</text>\n",
       "</g>\n",
       "<!-- T&#45;&gt;R -->\n",
       "<g class=\"edge\" id=\"edge3\">\n",
       "<title>T-&gt;R</title>\n",
       "<path d=\"M104.1212,-215.8314C97.328,-206.9385 89.0512,-196.1034 81.7089,-186.4916\" fill=\"none\" stroke=\"#4a4a4a\"/>\n",
       "<polygon fill=\"#4a4a4a\" points=\"84.4096,-184.2614 75.5578,-178.4393 78.8469,-188.5107 84.4096,-184.2614\" stroke=\"#4a4a4a\"/>\n",
       "</g>\n",
       "<!-- T&#45;&gt;D -->\n",
       "<g class=\"edge\" id=\"edge1\">\n",
       "<title>T-&gt;D</title>\n",
       "<path d=\"M116.2095,-215.8083C113.9112,-197.1875 108.9655,-167.7008 99,-144 95.0456,-134.5953 89.3848,-125.0879 83.7195,-116.727\" fill=\"none\" stroke=\"#4a4a4a\"/>\n",
       "<polygon fill=\"#4a4a4a\" points=\"86.5184,-114.6231 77.8853,-108.4815 80.8041,-118.6664 86.5184,-114.6231\" stroke=\"#4a4a4a\"/>\n",
       "</g>\n",
       "<!-- Ut -->\n",
       "<g class=\"node\" id=\"node5\">\n",
       "<title>Ut</title>\n",
       "<polygon fill=\"#4a5050\" points=\"178,-180 145.6581,-162 178,-144 210.3419,-162 178,-180\" stroke=\"#000000\"/>\n",
       "<text fill=\"#ffffff\" font-family=\"Times,serif\" font-size=\"14.00\" text-anchor=\"middle\" x=\"178\" y=\"-158.3\">Ut</text>\n",
       "</g>\n",
       "<!-- T&#45;&gt;Ut -->\n",
       "<g class=\"edge\" id=\"edge2\">\n",
       "<title>T-&gt;Ut</title>\n",
       "<path d=\"M133.1405,-215.8314C141.5776,-205.7069 152.1124,-193.0652 160.8524,-182.5771\" fill=\"none\" stroke=\"#4a4a4a\"/>\n",
       "<polygon fill=\"#4a4a4a\" points=\"163.6896,-184.6396 167.4027,-174.7168 158.312,-180.1583 163.6896,-184.6396\" stroke=\"#4a4a4a\"/>\n",
       "</g>\n",
       "<!-- D&#45;&gt;Ud -->\n",
       "<g class=\"edge\" id=\"edge4\">\n",
       "<title>D-&gt;Ud</title>\n",
       "<path d=\"M55.9344,-71.8314C52.4715,-62.9267 48.2513,-52.0749 44.5097,-42.4536\" fill=\"none\" stroke=\"#4a4a4a\"/>\n",
       "<polygon fill=\"#4a4a4a\" points=\"47.7222,-41.0574 40.8356,-33.0059 41.1981,-43.5946 47.7222,-41.0574\" stroke=\"#4a4a4a\"/>\n",
       "</g>\n",
       "</g>\n",
       "</svg>"
      ],
      "text/plain": [
       "<IPython.core.display.SVG object>"
      ]
     },
     "metadata": {},
     "output_type": "display_data"
    }
   ],
   "source": [
    "oil=gum.loadID(os.path.join(\"res\",\"OilWildcater.bifxml\"))\n",
    "gnb.showInfluenceDiagram(oil)"
   ]
  },
  {
   "cell_type": "code",
   "execution_count": 8,
   "metadata": {
    "ExecuteTime": {
     "end_time": "2019-02-25T17:33:59.287118Z",
     "start_time": "2019-02-25T17:33:59.283647Z"
    }
   },
   "outputs": [],
   "source": [
    "ie=gum.InfluenceDiagramInference(oil)"
   ]
  },
  {
   "cell_type": "code",
   "execution_count": 9,
   "metadata": {
    "ExecuteTime": {
     "end_time": "2019-02-25T17:33:59.299581Z",
     "start_time": "2019-02-25T17:33:59.289093Z"
    }
   },
   "outputs": [
    {
     "name": "stdout",
     "output_type": "stream",
     "text": [
      "Best decision for T : 1\n",
      "Best decision for D : 1\n",
      "For a maxEU : 60.0\n"
     ]
    }
   ],
   "source": [
    "ie.makeInference()\n",
    "print(\"Best decision for T : {0}\".format(ie.getBestDecisionChoice(oil.idFromName(\"T\"))))\n",
    "print(\"Best decision for D : {0}\".format(ie.getBestDecisionChoice(oil.idFromName(\"D\"))))\n",
    "print(\"For a maxEU : {0}\".format(ie.getMEU()))"
   ]
  },
  {
   "cell_type": "code",
   "execution_count": 10,
   "metadata": {
    "ExecuteTime": {
     "end_time": "2019-02-25T17:33:59.306228Z",
     "start_time": "2019-02-25T17:33:59.301343Z"
    }
   },
   "outputs": [
    {
     "name": "stdout",
     "output_type": "stream",
     "text": [
      "O<Dry,Wet,Soak>\n"
     ]
    }
   ],
   "source": [
    "print(oil.variable(3))"
   ]
  },
  {
   "cell_type": "code",
   "execution_count": 11,
   "metadata": {
    "ExecuteTime": {
     "end_time": "2019-02-25T17:33:59.315173Z",
     "start_time": "2019-02-25T17:33:59.308144Z"
    }
   },
   "outputs": [
    {
     "name": "stdout",
     "output_type": "stream",
     "text": [
      "Best decision for T : 1\n",
      "Best decision for D : 1\n",
      "For a maxEU : 0.0\n"
     ]
    }
   ],
   "source": [
    "ie.eraseAllEvidence()\n",
    "ie.setEvidence({3:0})\n",
    "ie.makeInference()\n",
    "print(\"Best decision for T : {0}\".format(ie.getBestDecisionChoice(oil.idFromName(\"T\"))))\n",
    "print(\"Best decision for D : {0}\".format(ie.getBestDecisionChoice(oil.idFromName(\"D\"))))\n",
    "print(\"For a maxEU : {0}\".format(ie.getMEU()))"
   ]
  },
  {
   "cell_type": "code",
   "execution_count": 12,
   "metadata": {
    "ExecuteTime": {
     "end_time": "2019-02-25T17:33:59.325676Z",
     "start_time": "2019-02-25T17:33:59.316942Z"
    }
   },
   "outputs": [
    {
     "name": "stdout",
     "output_type": "stream",
     "text": [
      "Best decision for T : 1\n",
      "Best decision for D : 0\n",
      "For a maxEU : 60.0\n"
     ]
    }
   ],
   "source": [
    "ie.eraseAllEvidence()\n",
    "ie.setEvidence({3:1})\n",
    "ie.makeInference()\n",
    "print(\"Best decision for T : {0}\".format(ie.getBestDecisionChoice(oil.idFromName(\"T\"))))\n",
    "print(\"Best decision for D : {0}\".format(ie.getBestDecisionChoice(oil.idFromName(\"D\"))))\n",
    "print(\"For a maxEU : {0}\".format(ie.getMEU()))"
   ]
  },
  {
   "cell_type": "code",
   "execution_count": 13,
   "metadata": {
    "ExecuteTime": {
     "end_time": "2019-02-25T17:33:59.336580Z",
     "start_time": "2019-02-25T17:33:59.327720Z"
    }
   },
   "outputs": [
    {
     "name": "stdout",
     "output_type": "stream",
     "text": [
      "Best decision for T : 1\n",
      "Best decision for D : 0\n",
      "For a maxEU : 10.0\n"
     ]
    }
   ],
   "source": [
    "ie.eraseAllEvidence()\n",
    "ie.setEvidence({3:2})\n",
    "ie.makeInference()\n",
    "print(\"Best decision for T : {0}\".format(ie.getBestDecisionChoice(oil.idFromName(\"T\"))))\n",
    "print(\"Best decision for D : {0}\".format(ie.getBestDecisionChoice(oil.idFromName(\"D\"))))\n",
    "print(\"For a maxEU : {0}\".format(ie.getMEU()))"
   ]
  },
  {
   "cell_type": "code",
   "execution_count": 14,
   "metadata": {
    "ExecuteTime": {
     "end_time": "2019-02-25T17:33:59.344389Z",
     "start_time": "2019-02-25T17:33:59.338423Z"
    }
   },
   "outputs": [
    {
     "name": "stdout",
     "output_type": "stream",
     "text": [
      "Best decision for T : 1\n",
      "Best decision for D : 1\n",
      "For a maxEU : 30.0\n"
     ]
    }
   ],
   "source": [
    "ie.eraseAllEvidence()\n",
    "ie.setEvidence({3:[1,0.5,0.1]})\n",
    "ie.makeInference()\n",
    "print(\"Best decision for T : {0}\".format(ie.getBestDecisionChoice(oil.idFromName(\"T\"))))\n",
    "print(\"Best decision for D : {0}\".format(ie.getBestDecisionChoice(oil.idFromName(\"D\"))))\n",
    "print(\"For a maxEU : {0}\".format(ie.getMEU()))"
   ]
  },
  {
   "cell_type": "code",
   "execution_count": null,
   "metadata": {},
   "outputs": [],
   "source": []
  }
 ],
 "metadata": {
  "hide_input": false,
  "kernelspec": {
   "display_name": "Python 3",
   "language": "python",
   "name": "python3"
  },
  "language_info": {
   "codemirror_mode": {
    "name": "ipython",
    "version": 3
   },
   "file_extension": ".py",
   "mimetype": "text/x-python",
   "name": "python",
   "nbconvert_exporter": "python",
   "pygments_lexer": "ipython3",
   "version": "3.7.4"
  }
 },
 "nbformat": 4,
 "nbformat_minor": 4
}
