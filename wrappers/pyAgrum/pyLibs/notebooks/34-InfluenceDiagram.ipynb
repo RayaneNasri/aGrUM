{
 "cells": [
  {
   "cell_type": "markdown",
   "metadata": {},
   "source": [
    "<a href=\"http://agrum.org\" target=\"blank\"><img src=\"http://agrum.gitlab.io/theme/img/logoAgrum.png\" align=\"left\" style=\"height:100px\"/></a><a rel=\"license\" href=\"http://creativecommons.org/licenses/by-nc/4.0/\"><img alt=\"Creative Commons License\" style=\"border-width:0\" src=\"https://i.creativecommons.org/l/by-nc/4.0/88x31.png\" /></a><br />This pyAgrum's notebook is licensed under a <a rel=\"license\" href=\"http://creativecommons.org/licenses/by-nc/4.0/\">Creative Commons Attribution-NonCommercial 4.0 International License</a>."
   ]
  },
  {
   "cell_type": "code",
   "execution_count": 1,
   "metadata": {
    "ExecuteTime": {
     "end_time": "2019-02-25T17:33:50.568756Z",
     "start_time": "2019-02-25T17:33:50.344887Z"
    }
   },
   "outputs": [],
   "source": [
    "%load_ext autoreload\n",
    "%autoreload 2\n",
    "\n",
    "import os\n",
    "\n",
    "%matplotlib inline\n",
    "from pylab import *\n",
    "import matplotlib.pyplot as plt"
   ]
  },
  {
   "cell_type": "code",
   "execution_count": 2,
   "metadata": {
    "ExecuteTime": {
     "end_time": "2019-02-25T17:33:50.578808Z",
     "start_time": "2019-02-25T17:33:50.571592Z"
    }
   },
   "outputs": [],
   "source": [
    "import pyAgrum as gum\n",
    "import pyAgrum.lib.notebook as gnb\n"
   ]
  },
  {
   "cell_type": "code",
   "execution_count": 16,
   "metadata": {
    "ExecuteTime": {
     "end_time": "2019-02-25T17:33:52.797218Z",
     "start_time": "2019-02-25T17:33:50.581194Z"
    }
   },
   "outputs": [
    {
     "data": {
      "image/svg+xml": [
       "<svg height=\"335pt\" viewBox=\"0.00 0.00 360.00 334.76\" width=\"360pt\" xmlns=\"http://www.w3.org/2000/svg\" xmlns:xlink=\"http://www.w3.org/1999/xlink\">\n",
       "<g class=\"graph\" id=\"graph0\" transform=\"scale(.7033 .7033) rotate(0) translate(4 472)\">\n",
       "<title>G</title>\n",
       "<!-- chanceVar1 -->\n",
       "<g class=\"node\" id=\"node1\">\n",
       "<title>chanceVar1</title>\n",
       "<ellipse cx=\"324\" cy=\"-378\" fill=\"#504a50\" rx=\"63.8893\" ry=\"18\" stroke=\"#4a4a4a\"/>\n",
       "<text fill=\"#ffffff\" font-family=\"Helvetica,sans-Serif\" font-size=\"14.00\" text-anchor=\"middle\" x=\"324\" y=\"-374.3\">chanceVar1</text>\n",
       "</g>\n",
       "<!-- chanceVar2 -->\n",
       "<g class=\"node\" id=\"node2\">\n",
       "<title>chanceVar2</title>\n",
       "<ellipse cx=\"278\" cy=\"-306\" fill=\"#504a50\" rx=\"63.8893\" ry=\"18\" stroke=\"#4a4a4a\"/>\n",
       "<text fill=\"#ffffff\" font-family=\"Helvetica,sans-Serif\" font-size=\"14.00\" text-anchor=\"middle\" x=\"278\" y=\"-302.3\">chanceVar2</text>\n",
       "</g>\n",
       "<!-- chanceVar1&#45;&gt;chanceVar2 -->\n",
       "<g class=\"edge\" id=\"edge7\">\n",
       "<title>chanceVar1-&gt;chanceVar2</title>\n",
       "<path d=\"M312.6292,-360.2022C307.2662,-351.8079 300.7583,-341.6218 294.8385,-332.3558\" fill=\"none\" stroke=\"#4a4a4a\"/>\n",
       "<polygon fill=\"#4a4a4a\" points=\"297.7328,-330.3851 289.3994,-323.8425 291.8339,-334.1539 297.7328,-330.3851\" stroke=\"#4a4a4a\"/>\n",
       "</g>\n",
       "<!-- utilityVar1 -->\n",
       "<g class=\"node\" id=\"node10\">\n",
       "<title>utilityVar1</title>\n",
       "<polygon fill=\"#4a5050\" points=\"423,-180 342.2282,-162 423,-144 503.7718,-162 423,-180\" stroke=\"#4a4a4a\"/>\n",
       "<text fill=\"#ffffff\" font-family=\"Helvetica,sans-Serif\" font-size=\"14.00\" text-anchor=\"middle\" x=\"423\" y=\"-158.3\">utilityVar1</text>\n",
       "</g>\n",
       "<!-- chanceVar1&#45;&gt;utilityVar1 -->\n",
       "<g class=\"edge\" id=\"edge6\">\n",
       "<title>chanceVar1-&gt;utilityVar1</title>\n",
       "<path d=\"M333.2055,-360.0999C338.5241,-349.6332 345.2741,-336.1332 351,-324 373.4016,-276.5313 397.9097,-220.4126 411.7758,-188.2356\" fill=\"none\" stroke=\"#4a4a4a\"/>\n",
       "<polygon fill=\"#4a4a4a\" points=\"415.1535,-189.2404 415.8877,-178.6711 408.7226,-186.4757 415.1535,-189.2404\" stroke=\"#4a4a4a\"/>\n",
       "</g>\n",
       "<!-- decisionVar2 -->\n",
       "<g class=\"node\" id=\"node7\">\n",
       "<title>decisionVar2</title>\n",
       "<polygon fill=\"#50504a\" points=\"331,-252 225,-252 225,-216 331,-216 331,-252\" stroke=\"#4a4a4a\"/>\n",
       "<text fill=\"#ffffff\" font-family=\"Helvetica,sans-Serif\" font-size=\"14.00\" text-anchor=\"middle\" x=\"278\" y=\"-230.3\">decisionVar2</text>\n",
       "</g>\n",
       "<!-- chanceVar2&#45;&gt;decisionVar2 -->\n",
       "<g class=\"edge\" id=\"edge8\">\n",
       "<title>chanceVar2-&gt;decisionVar2</title>\n",
       "<path d=\"M278,-287.8314C278,-280.131 278,-270.9743 278,-262.4166\" fill=\"none\" stroke=\"#4a4a4a\"/>\n",
       "<polygon fill=\"#4a4a4a\" points=\"281.5001,-262.4132 278,-252.4133 274.5001,-262.4133 281.5001,-262.4132\" stroke=\"#4a4a4a\"/>\n",
       "</g>\n",
       "<!-- decisionVar3 -->\n",
       "<g class=\"node\" id=\"node8\">\n",
       "<title>decisionVar3</title>\n",
       "<polygon fill=\"#50504a\" points=\"197,-252 91,-252 91,-216 197,-216 197,-252\" stroke=\"#4a4a4a\"/>\n",
       "<text fill=\"#ffffff\" font-family=\"Helvetica,sans-Serif\" font-size=\"14.00\" text-anchor=\"middle\" x=\"144\" y=\"-230.3\">decisionVar3</text>\n",
       "</g>\n",
       "<!-- chanceVar2&#45;&gt;decisionVar3 -->\n",
       "<g class=\"edge\" id=\"edge9\">\n",
       "<title>chanceVar2-&gt;decisionVar3</title>\n",
       "<path d=\"M248.2611,-290.0209C230.2078,-280.3206 206.8623,-267.7767 186.8403,-257.0187\" fill=\"none\" stroke=\"#4a4a4a\"/>\n",
       "<polygon fill=\"#4a4a4a\" points=\"188.3714,-253.8681 177.9059,-252.2181 185.0582,-260.0344 188.3714,-253.8681\" stroke=\"#4a4a4a\"/>\n",
       "</g>\n",
       "<!-- chanceVar3 -->\n",
       "<g class=\"node\" id=\"node3\">\n",
       "<title>chanceVar3</title>\n",
       "<ellipse cx=\"115\" cy=\"-162\" fill=\"#504a50\" rx=\"63.8893\" ry=\"18\" stroke=\"#4a4a4a\"/>\n",
       "<text fill=\"#ffffff\" font-family=\"Helvetica,sans-Serif\" font-size=\"14.00\" text-anchor=\"middle\" x=\"115\" y=\"-158.3\">chanceVar3</text>\n",
       "</g>\n",
       "<!-- chanceVar5 -->\n",
       "<g class=\"node\" id=\"node5\">\n",
       "<title>chanceVar5</title>\n",
       "<ellipse cx=\"188\" cy=\"-90\" fill=\"#504a50\" rx=\"63.8893\" ry=\"18\" stroke=\"#4a4a4a\"/>\n",
       "<text fill=\"#ffffff\" font-family=\"Helvetica,sans-Serif\" font-size=\"14.00\" text-anchor=\"middle\" x=\"188\" y=\"-86.3\">chanceVar5</text>\n",
       "</g>\n",
       "<!-- chanceVar3&#45;&gt;chanceVar5 -->\n",
       "<g class=\"edge\" id=\"edge10\">\n",
       "<title>chanceVar3-&gt;chanceVar5</title>\n",
       "<path d=\"M132.6713,-144.5708C141.7501,-135.6164 152.9691,-124.551 162.9264,-114.7302\" fill=\"none\" stroke=\"#4a4a4a\"/>\n",
       "<polygon fill=\"#4a4a4a\" points=\"165.5765,-117.0323 170.2385,-107.5182 160.661,-112.0485 165.5765,-117.0323\" stroke=\"#4a4a4a\"/>\n",
       "</g>\n",
       "<!-- chanceVar4 -->\n",
       "<g class=\"node\" id=\"node4\">\n",
       "<title>chanceVar4</title>\n",
       "<ellipse cx=\"260\" cy=\"-162\" fill=\"#504a50\" rx=\"63.8893\" ry=\"18\" stroke=\"#4a4a4a\"/>\n",
       "<text fill=\"#ffffff\" font-family=\"Helvetica,sans-Serif\" font-size=\"14.00\" text-anchor=\"middle\" x=\"260\" y=\"-158.3\">chanceVar4</text>\n",
       "</g>\n",
       "<!-- chanceVar4&#45;&gt;chanceVar5 -->\n",
       "<g class=\"edge\" id=\"edge11\">\n",
       "<title>chanceVar4-&gt;chanceVar5</title>\n",
       "<path d=\"M242.5708,-144.5708C233.6164,-135.6164 222.551,-124.551 212.7302,-114.7302\" fill=\"none\" stroke=\"#4a4a4a\"/>\n",
       "<polygon fill=\"#4a4a4a\" points=\"215.0642,-112.1145 205.5182,-107.5182 210.1145,-117.0642 215.0642,-112.1145\" stroke=\"#4a4a4a\"/>\n",
       "</g>\n",
       "<!-- utilityVar2 -->\n",
       "<g class=\"node\" id=\"node11\">\n",
       "<title>utilityVar2</title>\n",
       "<polygon fill=\"#4a5050\" points=\"120,-36 39.2282,-18 120,0 200.7718,-18 120,-36\" stroke=\"#4a4a4a\"/>\n",
       "<text fill=\"#ffffff\" font-family=\"Helvetica,sans-Serif\" font-size=\"14.00\" text-anchor=\"middle\" x=\"120\" y=\"-14.3\">utilityVar2</text>\n",
       "</g>\n",
       "<!-- chanceVar5&#45;&gt;utilityVar2 -->\n",
       "<g class=\"edge\" id=\"edge12\">\n",
       "<title>chanceVar5-&gt;utilityVar2</title>\n",
       "<path d=\"M171.5391,-72.5708C162.5183,-63.0194 151.2292,-51.0662 141.5178,-40.7836\" fill=\"none\" stroke=\"#4a4a4a\"/>\n",
       "<polygon fill=\"#4a4a4a\" points=\"143.8735,-38.1804 134.4627,-33.3134 138.7844,-42.9868 143.8735,-38.1804\" stroke=\"#4a4a4a\"/>\n",
       "</g>\n",
       "<!-- decisionVar1 -->\n",
       "<g class=\"node\" id=\"node6\">\n",
       "<title>decisionVar1</title>\n",
       "<polygon fill=\"#50504a\" points=\"377,-468 271,-468 271,-432 377,-432 377,-468\" stroke=\"#4a4a4a\"/>\n",
       "<text fill=\"#ffffff\" font-family=\"Helvetica,sans-Serif\" font-size=\"14.00\" text-anchor=\"middle\" x=\"324\" y=\"-446.3\">decisionVar1</text>\n",
       "</g>\n",
       "<!-- decisionVar1&#45;&gt;chanceVar1 -->\n",
       "<g class=\"edge\" id=\"edge1\">\n",
       "<title>decisionVar1-&gt;chanceVar1</title>\n",
       "<path d=\"M324,-431.8314C324,-424.131 324,-414.9743 324,-406.4166\" fill=\"none\" stroke=\"#4a4a4a\"/>\n",
       "<polygon fill=\"#4a4a4a\" points=\"327.5001,-406.4132 324,-396.4133 320.5001,-406.4133 327.5001,-406.4132\" stroke=\"#4a4a4a\"/>\n",
       "</g>\n",
       "<!-- decisionVar2&#45;&gt;chanceVar4 -->\n",
       "<g class=\"edge\" id=\"edge3\">\n",
       "<title>decisionVar2-&gt;chanceVar4</title>\n",
       "<path d=\"M273.4578,-215.8314C271.5116,-208.0463 269.1932,-198.7729 267.0337,-190.1347\" fill=\"none\" stroke=\"#4a4a4a\"/>\n",
       "<polygon fill=\"#4a4a4a\" points=\"270.4242,-189.2658 264.6033,-180.4133 263.6332,-190.9636 270.4242,-189.2658\" stroke=\"#4a4a4a\"/>\n",
       "</g>\n",
       "<!-- decisionVar2&#45;&gt;utilityVar1 -->\n",
       "<g class=\"edge\" id=\"edge2\">\n",
       "<title>decisionVar2-&gt;utilityVar1</title>\n",
       "<path d=\"M314.5896,-215.8314C337.3466,-204.5314 366.4187,-190.0955 388.7274,-179.0181\" fill=\"none\" stroke=\"#4a4a4a\"/>\n",
       "<polygon fill=\"#4a4a4a\" points=\"390.4361,-182.0775 397.8361,-174.4952 387.3229,-175.8078 390.4361,-182.0775\" stroke=\"#4a4a4a\"/>\n",
       "</g>\n",
       "<!-- decisionVar3&#45;&gt;chanceVar3 -->\n",
       "<g class=\"edge\" id=\"edge4\">\n",
       "<title>decisionVar3-&gt;chanceVar3</title>\n",
       "<path d=\"M136.6821,-215.8314C133.4636,-207.8406 129.6135,-198.2819 126.0568,-189.4514\" fill=\"none\" stroke=\"#4a4a4a\"/>\n",
       "<polygon fill=\"#4a4a4a\" points=\"129.1978,-187.8816 122.2151,-179.9134 122.7047,-190.4969 129.1978,-187.8816\" stroke=\"#4a4a4a\"/>\n",
       "</g>\n",
       "<!-- decisionVar4 -->\n",
       "<g class=\"node\" id=\"node9\">\n",
       "<title>decisionVar4</title>\n",
       "<polygon fill=\"#50504a\" points=\"106,-108 0,-108 0,-72 106,-72 106,-108\" stroke=\"#4a4a4a\"/>\n",
       "<text fill=\"#ffffff\" font-family=\"Helvetica,sans-Serif\" font-size=\"14.00\" text-anchor=\"middle\" x=\"53\" y=\"-86.3\">decisionVar4</text>\n",
       "</g>\n",
       "<!-- decisionVar4&#45;&gt;utilityVar2 -->\n",
       "<g class=\"edge\" id=\"edge5\">\n",
       "<title>decisionVar4-&gt;utilityVar2</title>\n",
       "<path d=\"M69.9069,-71.8314C78.8037,-62.2706 89.7894,-50.4651 99.2038,-40.3481\" fill=\"none\" stroke=\"#4a4a4a\"/>\n",
       "<polygon fill=\"#4a4a4a\" points=\"101.7861,-42.711 106.0362,-33.0059 96.6616,-37.9423 101.7861,-42.711\" stroke=\"#4a4a4a\"/>\n",
       "</g>\n",
       "</g>\n",
       "</svg>"
      ],
      "text/plain": [
       "<IPython.core.display.SVG object>"
      ]
     },
     "metadata": {},
     "output_type": "display_data"
    }
   ],
   "source": [
    "diag=gum.loadID(os.path.join(\"res\",\"diag.bifxml\"))\n",
    "gnb.showInfluenceDiagram(diag)"
   ]
  },
  {
   "cell_type": "code",
   "execution_count": 17,
   "metadata": {
    "ExecuteTime": {
     "end_time": "2019-02-25T17:33:54.946587Z",
     "start_time": "2019-02-25T17:33:52.799259Z"
    }
   },
   "outputs": [
    {
     "data": {
      "image/svg+xml": [
       "<svg height=\"322pt\" viewBox=\"0.00 0.00 360.00 321.57\" width=\"360pt\" xmlns=\"http://www.w3.org/2000/svg\" xmlns:xlink=\"http://www.w3.org/1999/xlink\">\n",
       "<g class=\"graph\" id=\"graph0\" transform=\"scale(.6756 .6756) rotate(0) translate(4 472)\">\n",
       "<title>G</title>\n",
       "<!-- chanceVar1 -->\n",
       "<g class=\"node\" id=\"node1\">\n",
       "<title>chanceVar1</title>\n",
       "<ellipse cx=\"275.8858\" cy=\"-378\" fill=\"#504a50\" rx=\"63.8893\" ry=\"18\" stroke=\"#4a4a4a\"/>\n",
       "<text fill=\"#ffffff\" font-family=\"Helvetica,sans-Serif\" font-size=\"14.00\" text-anchor=\"middle\" x=\"275.8858\" y=\"-374.3\">chanceVar1</text>\n",
       "</g>\n",
       "<!-- chanceVar2 -->\n",
       "<g class=\"node\" id=\"node2\">\n",
       "<title>chanceVar2</title>\n",
       "<ellipse cx=\"275.8858\" cy=\"-306\" fill=\"#504a50\" rx=\"63.8893\" ry=\"18\" stroke=\"#4a4a4a\"/>\n",
       "<text fill=\"#ffffff\" font-family=\"Helvetica,sans-Serif\" font-size=\"14.00\" text-anchor=\"middle\" x=\"275.8858\" y=\"-302.3\">chanceVar2</text>\n",
       "</g>\n",
       "<!-- chanceVar1&#45;&gt;chanceVar2 -->\n",
       "<g class=\"edge\" id=\"edge9\">\n",
       "<title>chanceVar1-&gt;chanceVar2</title>\n",
       "<path d=\"M275.8858,-359.8314C275.8858,-352.131 275.8858,-342.9743 275.8858,-334.4166\" fill=\"none\" stroke=\"#4a4a4a\"/>\n",
       "<polygon fill=\"#4a4a4a\" points=\"279.3859,-334.4132 275.8858,-324.4133 272.3859,-334.4133 279.3859,-334.4132\" stroke=\"#4a4a4a\"/>\n",
       "</g>\n",
       "<!-- utilityVar1 -->\n",
       "<g class=\"node\" id=\"node11\">\n",
       "<title>utilityVar1</title>\n",
       "<polygon fill=\"#4a5050\" points=\"80.8858,-180 .114,-162 80.8858,-144 161.6577,-162 80.8858,-180\" stroke=\"#4a4a4a\"/>\n",
       "<text fill=\"#ffffff\" font-family=\"Helvetica,sans-Serif\" font-size=\"14.00\" text-anchor=\"middle\" x=\"80.8858\" y=\"-158.3\">utilityVar1</text>\n",
       "</g>\n",
       "<!-- chanceVar1&#45;&gt;utilityVar1 -->\n",
       "<g class=\"edge\" id=\"edge8\">\n",
       "<title>chanceVar1-&gt;utilityVar1</title>\n",
       "<path d=\"M249.7883,-361.4213C235.1802,-351.4958 217.1031,-338.0958 202.8858,-324 158.7776,-280.2686 117.5252,-219.8783 96.1388,-186.5563\" fill=\"none\" stroke=\"#4a4a4a\"/>\n",
       "<polygon fill=\"#4a4a4a\" points=\"98.964,-184.4762 90.6477,-177.9119 93.0553,-188.2296 98.964,-184.4762\" stroke=\"#4a4a4a\"/>\n",
       "</g>\n",
       "<!-- decisionVar2 -->\n",
       "<g class=\"node\" id=\"node8\">\n",
       "<title>decisionVar2</title>\n",
       "<polygon fill=\"#50504a\" points=\"296.8858,-252 190.8858,-252 190.8858,-216 296.8858,-216 296.8858,-252\" stroke=\"#4a4a4a\"/>\n",
       "<text fill=\"#ffffff\" font-family=\"Helvetica,sans-Serif\" font-size=\"14.00\" text-anchor=\"middle\" x=\"243.8858\" y=\"-230.3\">decisionVar2</text>\n",
       "</g>\n",
       "<!-- chanceVar2&#45;&gt;decisionVar2 -->\n",
       "<g class=\"edge\" id=\"edge10\">\n",
       "<title>chanceVar2-&gt;decisionVar2</title>\n",
       "<path d=\"M267.8109,-287.8314C264.2757,-279.8771 260.0499,-270.369 256.1402,-261.5723\" fill=\"none\" stroke=\"#4a4a4a\"/>\n",
       "<polygon fill=\"#4a4a4a\" points=\"259.3293,-260.1299 252.0695,-252.4133 252.9326,-262.9729 259.3293,-260.1299\" stroke=\"#4a4a4a\"/>\n",
       "</g>\n",
       "<!-- decisionVar3 -->\n",
       "<g class=\"node\" id=\"node9\">\n",
       "<title>decisionVar3</title>\n",
       "<polygon fill=\"#50504a\" points=\"441.8858,-252 335.8858,-252 335.8858,-216 441.8858,-216 441.8858,-252\" stroke=\"#4a4a4a\"/>\n",
       "<text fill=\"#ffffff\" font-family=\"Helvetica,sans-Serif\" font-size=\"14.00\" text-anchor=\"middle\" x=\"388.8858\" y=\"-230.3\">decisionVar3</text>\n",
       "</g>\n",
       "<!-- chanceVar2&#45;&gt;decisionVar3 -->\n",
       "<g class=\"edge\" id=\"edge11\">\n",
       "<title>chanceVar2-&gt;decisionVar3</title>\n",
       "<path d=\"M301.8103,-289.4817C316.5444,-280.0936 335.2484,-268.1761 351.5417,-257.7945\" fill=\"none\" stroke=\"#4a4a4a\"/>\n",
       "<polygon fill=\"#4a4a4a\" points=\"353.7522,-260.5362 360.305,-252.2108 349.9907,-254.6327 353.7522,-260.5362\" stroke=\"#4a4a4a\"/>\n",
       "</g>\n",
       "<!-- chanceVar3 -->\n",
       "<g class=\"node\" id=\"node3\">\n",
       "<title>chanceVar3</title>\n",
       "<ellipse cx=\"388.8858\" cy=\"-162\" fill=\"#504a50\" rx=\"63.8893\" ry=\"18\" stroke=\"#4a4a4a\"/>\n",
       "<text fill=\"#ffffff\" font-family=\"Helvetica,sans-Serif\" font-size=\"14.00\" text-anchor=\"middle\" x=\"388.8858\" y=\"-158.3\">chanceVar3</text>\n",
       "</g>\n",
       "<!-- chanceVar5 -->\n",
       "<g class=\"node\" id=\"node5\">\n",
       "<title>chanceVar5</title>\n",
       "<ellipse cx=\"315.8858\" cy=\"-90\" fill=\"#504a50\" rx=\"63.8893\" ry=\"18\" stroke=\"#4a4a4a\"/>\n",
       "<text fill=\"#ffffff\" font-family=\"Helvetica,sans-Serif\" font-size=\"14.00\" text-anchor=\"middle\" x=\"315.8858\" y=\"-86.3\">chanceVar5</text>\n",
       "</g>\n",
       "<!-- chanceVar3&#45;&gt;chanceVar5 -->\n",
       "<g class=\"edge\" id=\"edge12\">\n",
       "<title>chanceVar3-&gt;chanceVar5</title>\n",
       "<path d=\"M371.2146,-144.5708C362.1358,-135.6164 350.9167,-124.551 340.9595,-114.7302\" fill=\"none\" stroke=\"#4a4a4a\"/>\n",
       "<polygon fill=\"#4a4a4a\" points=\"343.2248,-112.0485 333.6474,-107.5182 338.3093,-117.0323 343.2248,-112.0485\" stroke=\"#4a4a4a\"/>\n",
       "</g>\n",
       "<!-- chanceVar4 -->\n",
       "<g class=\"node\" id=\"node4\">\n",
       "<title>chanceVar4</title>\n",
       "<ellipse cx=\"243.8858\" cy=\"-162\" fill=\"#504a50\" rx=\"63.8893\" ry=\"18\" stroke=\"#4a4a4a\"/>\n",
       "<text fill=\"#ffffff\" font-family=\"Helvetica,sans-Serif\" font-size=\"14.00\" text-anchor=\"middle\" x=\"243.8858\" y=\"-158.3\">chanceVar4</text>\n",
       "</g>\n",
       "<!-- chanceVar4&#45;&gt;chanceVar5 -->\n",
       "<g class=\"edge\" id=\"edge13\">\n",
       "<title>chanceVar4-&gt;chanceVar5</title>\n",
       "<path d=\"M261.315,-144.5708C270.2695,-135.6164 281.3348,-124.551 291.1557,-114.7302\" fill=\"none\" stroke=\"#4a4a4a\"/>\n",
       "<polygon fill=\"#4a4a4a\" points=\"293.7714,-117.0642 298.3676,-107.5182 288.8216,-112.1145 293.7714,-117.0642\" stroke=\"#4a4a4a\"/>\n",
       "</g>\n",
       "<!-- utilityVar2 -->\n",
       "<g class=\"node\" id=\"node12\">\n",
       "<title>utilityVar2</title>\n",
       "<polygon fill=\"#4a5050\" points=\"247.8858,-36 167.114,-18 247.8858,0 328.6577,-18 247.8858,-36\" stroke=\"#4a4a4a\"/>\n",
       "<text fill=\"#ffffff\" font-family=\"Helvetica,sans-Serif\" font-size=\"14.00\" text-anchor=\"middle\" x=\"247.8858\" y=\"-14.3\">utilityVar2</text>\n",
       "</g>\n",
       "<!-- chanceVar5&#45;&gt;utilityVar2 -->\n",
       "<g class=\"edge\" id=\"edge14\">\n",
       "<title>chanceVar5-&gt;utilityVar2</title>\n",
       "<path d=\"M299.4249,-72.5708C290.4042,-63.0194 279.1151,-51.0662 269.4037,-40.7836\" fill=\"none\" stroke=\"#4a4a4a\"/>\n",
       "<polygon fill=\"#4a4a4a\" points=\"271.7593,-38.1804 262.3485,-33.3134 266.6702,-42.9868 271.7593,-38.1804\" stroke=\"#4a4a4a\"/>\n",
       "</g>\n",
       "<!-- F -->\n",
       "<g class=\"node\" id=\"node6\">\n",
       "<title>F</title>\n",
       "<ellipse cx=\"410.8858\" cy=\"-306\" fill=\"#504a50\" rx=\"27\" ry=\"18\" stroke=\"#4a4a4a\"/>\n",
       "<text fill=\"#ffffff\" font-family=\"Helvetica,sans-Serif\" font-size=\"14.00\" text-anchor=\"middle\" x=\"410.8858\" y=\"-302.3\">F</text>\n",
       "</g>\n",
       "<!-- U -->\n",
       "<g class=\"node\" id=\"node13\">\n",
       "<title>U</title>\n",
       "<polygon fill=\"#4a5050\" points=\"497.8858,-180 470.8858,-162 497.8858,-144 524.8858,-162 497.8858,-180\" stroke=\"#4a4a4a\"/>\n",
       "<text fill=\"#ffffff\" font-family=\"Helvetica,sans-Serif\" font-size=\"14.00\" text-anchor=\"middle\" x=\"497.8858\" y=\"-158.3\">U</text>\n",
       "</g>\n",
       "<!-- F&#45;&gt;U -->\n",
       "<g class=\"edge\" id=\"edge15\">\n",
       "<title>F-&gt;U</title>\n",
       "<path d=\"M423.8279,-289.9251C432.0188,-279.4247 442.5893,-265.2506 450.8858,-252 464.683,-229.9641 478.1831,-203.4453 487.1486,-184.9237\" fill=\"none\" stroke=\"#4a4a4a\"/>\n",
       "<polygon fill=\"#4a4a4a\" points=\"490.3622,-186.3164 491.5185,-175.7848 484.047,-183.2967 490.3622,-186.3164\" stroke=\"#4a4a4a\"/>\n",
       "</g>\n",
       "<!-- decisionVar1 -->\n",
       "<g class=\"node\" id=\"node7\">\n",
       "<title>decisionVar1</title>\n",
       "<polygon fill=\"#50504a\" points=\"374.8858,-468 268.8858,-468 268.8858,-432 374.8858,-432 374.8858,-468\" stroke=\"#4a4a4a\"/>\n",
       "<text fill=\"#ffffff\" font-family=\"Helvetica,sans-Serif\" font-size=\"14.00\" text-anchor=\"middle\" x=\"321.8858\" y=\"-446.3\">decisionVar1</text>\n",
       "</g>\n",
       "<!-- decisionVar1&#45;&gt;chanceVar1 -->\n",
       "<g class=\"edge\" id=\"edge2\">\n",
       "<title>decisionVar1-&gt;chanceVar1</title>\n",
       "<path d=\"M310.2781,-431.8314C305.0082,-423.5829 298.6709,-413.6635 292.8798,-404.5992\" fill=\"none\" stroke=\"#4a4a4a\"/>\n",
       "<polygon fill=\"#4a4a4a\" points=\"295.6639,-402.456 287.3305,-395.9134 289.765,-406.2248 295.6639,-402.456\" stroke=\"#4a4a4a\"/>\n",
       "</g>\n",
       "<!-- decisionVar1&#45;&gt;F -->\n",
       "<g class=\"edge\" id=\"edge1\">\n",
       "<title>decisionVar1-&gt;F</title>\n",
       "<path d=\"M333.1578,-431.7623C348.8587,-406.3585 377.3816,-360.2091 395.1655,-331.4352\" fill=\"none\" stroke=\"#4a4a4a\"/>\n",
       "<polygon fill=\"#4a4a4a\" points=\"398.252,-333.0984 400.5322,-322.7519 392.2975,-329.4182 398.252,-333.0984\" stroke=\"#4a4a4a\"/>\n",
       "</g>\n",
       "<!-- decisionVar2&#45;&gt;chanceVar4 -->\n",
       "<g class=\"edge\" id=\"edge4\">\n",
       "<title>decisionVar2-&gt;chanceVar4</title>\n",
       "<path d=\"M243.8858,-215.8314C243.8858,-208.131 243.8858,-198.9743 243.8858,-190.4166\" fill=\"none\" stroke=\"#4a4a4a\"/>\n",
       "<polygon fill=\"#4a4a4a\" points=\"247.3859,-190.4132 243.8858,-180.4133 240.3859,-190.4133 247.3859,-190.4132\" stroke=\"#4a4a4a\"/>\n",
       "</g>\n",
       "<!-- decisionVar2&#45;&gt;utilityVar1 -->\n",
       "<g class=\"edge\" id=\"edge3\">\n",
       "<title>decisionVar2-&gt;utilityVar1</title>\n",
       "<path d=\"M202.7541,-215.8314C176.495,-204.2323 142.756,-189.3291 117.4378,-178.1457\" fill=\"none\" stroke=\"#4a4a4a\"/>\n",
       "<polygon fill=\"#4a4a4a\" points=\"118.7414,-174.8953 108.1799,-174.0563 115.913,-181.2984 118.7414,-174.8953\" stroke=\"#4a4a4a\"/>\n",
       "</g>\n",
       "<!-- decisionVar3&#45;&gt;chanceVar3 -->\n",
       "<g class=\"edge\" id=\"edge5\">\n",
       "<title>decisionVar3-&gt;chanceVar3</title>\n",
       "<path d=\"M388.8858,-215.8314C388.8858,-208.131 388.8858,-198.9743 388.8858,-190.4166\" fill=\"none\" stroke=\"#4a4a4a\"/>\n",
       "<polygon fill=\"#4a4a4a\" points=\"392.3859,-190.4132 388.8858,-180.4133 385.3859,-190.4133 392.3859,-190.4132\" stroke=\"#4a4a4a\"/>\n",
       "</g>\n",
       "<!-- decisionVar3&#45;&gt;U -->\n",
       "<g class=\"edge\" id=\"edge6\">\n",
       "<title>decisionVar3-&gt;U</title>\n",
       "<path d=\"M416.3911,-215.8314C434.5899,-203.8101 458.1614,-188.24 475.2687,-176.9398\" fill=\"none\" stroke=\"#4a4a4a\"/>\n",
       "<polygon fill=\"#4a4a4a\" points=\"477.6176,-179.5829 484.0325,-171.1508 473.7594,-173.7421 477.6176,-179.5829\" stroke=\"#4a4a4a\"/>\n",
       "</g>\n",
       "<!-- decisionVar4 -->\n",
       "<g class=\"node\" id=\"node10\">\n",
       "<title>decisionVar4</title>\n",
       "<polygon fill=\"#50504a\" points=\"233.8858,-108 127.8858,-108 127.8858,-72 233.8858,-72 233.8858,-108\" stroke=\"#4a4a4a\"/>\n",
       "<text fill=\"#ffffff\" font-family=\"Helvetica,sans-Serif\" font-size=\"14.00\" text-anchor=\"middle\" x=\"180.8858\" y=\"-86.3\">decisionVar4</text>\n",
       "</g>\n",
       "<!-- decisionVar4&#45;&gt;utilityVar2 -->\n",
       "<g class=\"edge\" id=\"edge7\">\n",
       "<title>decisionVar4-&gt;utilityVar2</title>\n",
       "<path d=\"M197.7928,-71.8314C206.6896,-62.2706 217.6753,-50.4651 227.0897,-40.3481\" fill=\"none\" stroke=\"#4a4a4a\"/>\n",
       "<polygon fill=\"#4a4a4a\" points=\"229.6719,-42.711 233.922,-33.0059 224.5474,-37.9423 229.6719,-42.711\" stroke=\"#4a4a4a\"/>\n",
       "</g>\n",
       "</g>\n",
       "</svg>"
      ],
      "text/plain": [
       "<IPython.core.display.SVG object>"
      ]
     },
     "metadata": {},
     "output_type": "display_data"
    }
   ],
   "source": [
    "F=diag.addChanceNode(gum.LabelizedVariable(\"F\",\"F\",2))\n",
    "diag.addArc(diag.idFromName(\"decisionVar1\"),F)\n",
    "\n",
    "U=diag.addUtilityNode(gum.LabelizedVariable(\"U\",\"U\",1))\n",
    "diag.addArc(diag.idFromName(\"decisionVar3\"),U)\n",
    "diag.addArc(diag.idFromName(\"F\"),U)\n",
    "gnb.showInfluenceDiagram(diag) 34-InfluenceDiagram.ipynb"
   ]
  },
  {
   "cell_type": "code",
   "execution_count": 15,
   "metadata": {
    "ExecuteTime": {
     "end_time": "2019-02-25T17:33:54.946587Z",
     "start_time": "2019-02-25T17:33:52.799259Z"
    }
   },
   "outputs": [
    {
     "data": {
      "image/svg+xml": [
       "<svg height=\"322pt\" viewBox=\"0.00 0.00 360.00 321.57\" width=\"360pt\" xmlns=\"http://www.w3.org/2000/svg\" xmlns:xlink=\"http://www.w3.org/1999/xlink\">\n",
       "<g class=\"graph\" id=\"graph0\" transform=\"scale(.6756 .6756) rotate(0) translate(4 472)\">\n",
       "<title>G</title>\n",
       "<!-- chanceVar1 -->\n",
       "<g class=\"node\" id=\"node1\">\n",
       "<title>chanceVar1</title>\n",
       "<ellipse cx=\"275.8858\" cy=\"-378\" fill=\"#504a50\" rx=\"63.8893\" ry=\"18\" stroke=\"#4a4a4a\"/>\n",
       "<text fill=\"#ffffff\" font-family=\"Helvetica,sans-Serif\" font-size=\"14.00\" text-anchor=\"middle\" x=\"275.8858\" y=\"-374.3\">chanceVar1</text>\n",
       "</g>\n",
       "<!-- chanceVar2 -->\n",
       "<g class=\"node\" id=\"node2\">\n",
       "<title>chanceVar2</title>\n",
       "<ellipse cx=\"275.8858\" cy=\"-306\" fill=\"#504a50\" rx=\"63.8893\" ry=\"18\" stroke=\"#4a4a4a\"/>\n",
       "<text fill=\"#ffffff\" font-family=\"Helvetica,sans-Serif\" font-size=\"14.00\" text-anchor=\"middle\" x=\"275.8858\" y=\"-302.3\">chanceVar2</text>\n",
       "</g>\n",
       "<!-- chanceVar1&#45;&gt;chanceVar2 -->\n",
       "<g class=\"edge\" id=\"edge9\">\n",
       "<title>chanceVar1-&gt;chanceVar2</title>\n",
       "<path d=\"M275.8858,-359.8314C275.8858,-352.131 275.8858,-342.9743 275.8858,-334.4166\" fill=\"none\" stroke=\"#4a4a4a\"/>\n",
       "<polygon fill=\"#4a4a4a\" points=\"279.3859,-334.4132 275.8858,-324.4133 272.3859,-334.4133 279.3859,-334.4132\" stroke=\"#4a4a4a\"/>\n",
       "</g>\n",
       "<!-- utilityVar1 -->\n",
       "<g class=\"node\" id=\"node11\">\n",
       "<title>utilityVar1</title>\n",
       "<polygon fill=\"#4a5050\" points=\"80.8858,-180 .114,-162 80.8858,-144 161.6577,-162 80.8858,-180\" stroke=\"#4a4a4a\"/>\n",
       "<text fill=\"#ffffff\" font-family=\"Helvetica,sans-Serif\" font-size=\"14.00\" text-anchor=\"middle\" x=\"80.8858\" y=\"-158.3\">utilityVar1</text>\n",
       "</g>\n",
       "<!-- chanceVar1&#45;&gt;utilityVar1 -->\n",
       "<g class=\"edge\" id=\"edge8\">\n",
       "<title>chanceVar1-&gt;utilityVar1</title>\n",
       "<path d=\"M249.7883,-361.4213C235.1802,-351.4958 217.1031,-338.0958 202.8858,-324 158.7776,-280.2686 117.5252,-219.8783 96.1388,-186.5563\" fill=\"none\" stroke=\"#4a4a4a\"/>\n",
       "<polygon fill=\"#4a4a4a\" points=\"98.964,-184.4762 90.6477,-177.9119 93.0553,-188.2296 98.964,-184.4762\" stroke=\"#4a4a4a\"/>\n",
       "</g>\n",
       "<!-- decisionVar2 -->\n",
       "<g class=\"node\" id=\"node8\">\n",
       "<title>decisionVar2</title>\n",
       "<polygon fill=\"#50504a\" points=\"296.8858,-252 190.8858,-252 190.8858,-216 296.8858,-216 296.8858,-252\" stroke=\"#4a4a4a\"/>\n",
       "<text fill=\"#ffffff\" font-family=\"Helvetica,sans-Serif\" font-size=\"14.00\" text-anchor=\"middle\" x=\"243.8858\" y=\"-230.3\">decisionVar2</text>\n",
       "</g>\n",
       "<!-- chanceVar2&#45;&gt;decisionVar2 -->\n",
       "<g class=\"edge\" id=\"edge10\">\n",
       "<title>chanceVar2-&gt;decisionVar2</title>\n",
       "<path d=\"M267.8109,-287.8314C264.2757,-279.8771 260.0499,-270.369 256.1402,-261.5723\" fill=\"none\" stroke=\"#4a4a4a\"/>\n",
       "<polygon fill=\"#4a4a4a\" points=\"259.3293,-260.1299 252.0695,-252.4133 252.9326,-262.9729 259.3293,-260.1299\" stroke=\"#4a4a4a\"/>\n",
       "</g>\n",
       "<!-- decisionVar3 -->\n",
       "<g class=\"node\" id=\"node9\">\n",
       "<title>decisionVar3</title>\n",
       "<polygon fill=\"#50504a\" points=\"441.8858,-252 335.8858,-252 335.8858,-216 441.8858,-216 441.8858,-252\" stroke=\"#4a4a4a\"/>\n",
       "<text fill=\"#ffffff\" font-family=\"Helvetica,sans-Serif\" font-size=\"14.00\" text-anchor=\"middle\" x=\"388.8858\" y=\"-230.3\">decisionVar3</text>\n",
       "</g>\n",
       "<!-- chanceVar2&#45;&gt;decisionVar3 -->\n",
       "<g class=\"edge\" id=\"edge11\">\n",
       "<title>chanceVar2-&gt;decisionVar3</title>\n",
       "<path d=\"M301.8103,-289.4817C316.5444,-280.0936 335.2484,-268.1761 351.5417,-257.7945\" fill=\"none\" stroke=\"#4a4a4a\"/>\n",
       "<polygon fill=\"#4a4a4a\" points=\"353.7522,-260.5362 360.305,-252.2108 349.9907,-254.6327 353.7522,-260.5362\" stroke=\"#4a4a4a\"/>\n",
       "</g>\n",
       "<!-- chanceVar3 -->\n",
       "<g class=\"node\" id=\"node3\">\n",
       "<title>chanceVar3</title>\n",
       "<ellipse cx=\"388.8858\" cy=\"-162\" fill=\"#504a50\" rx=\"63.8893\" ry=\"18\" stroke=\"#4a4a4a\"/>\n",
       "<text fill=\"#ffffff\" font-family=\"Helvetica,sans-Serif\" font-size=\"14.00\" text-anchor=\"middle\" x=\"388.8858\" y=\"-158.3\">chanceVar3</text>\n",
       "</g>\n",
       "<!-- chanceVar5 -->\n",
       "<g class=\"node\" id=\"node5\">\n",
       "<title>chanceVar5</title>\n",
       "<ellipse cx=\"315.8858\" cy=\"-90\" fill=\"#504a50\" rx=\"63.8893\" ry=\"18\" stroke=\"#4a4a4a\"/>\n",
       "<text fill=\"#ffffff\" font-family=\"Helvetica,sans-Serif\" font-size=\"14.00\" text-anchor=\"middle\" x=\"315.8858\" y=\"-86.3\">chanceVar5</text>\n",
       "</g>\n",
       "<!-- chanceVar3&#45;&gt;chanceVar5 -->\n",
       "<g class=\"edge\" id=\"edge12\">\n",
       "<title>chanceVar3-&gt;chanceVar5</title>\n",
       "<path d=\"M371.2146,-144.5708C362.1358,-135.6164 350.9167,-124.551 340.9595,-114.7302\" fill=\"none\" stroke=\"#4a4a4a\"/>\n",
       "<polygon fill=\"#4a4a4a\" points=\"343.2248,-112.0485 333.6474,-107.5182 338.3093,-117.0323 343.2248,-112.0485\" stroke=\"#4a4a4a\"/>\n",
       "</g>\n",
       "<!-- chanceVar4 -->\n",
       "<g class=\"node\" id=\"node4\">\n",
       "<title>chanceVar4</title>\n",
       "<ellipse cx=\"243.8858\" cy=\"-162\" fill=\"#504a50\" rx=\"63.8893\" ry=\"18\" stroke=\"#4a4a4a\"/>\n",
       "<text fill=\"#ffffff\" font-family=\"Helvetica,sans-Serif\" font-size=\"14.00\" text-anchor=\"middle\" x=\"243.8858\" y=\"-158.3\">chanceVar4</text>\n",
       "</g>\n",
       "<!-- chanceVar4&#45;&gt;chanceVar5 -->\n",
       "<g class=\"edge\" id=\"edge13\">\n",
       "<title>chanceVar4-&gt;chanceVar5</title>\n",
       "<path d=\"M261.315,-144.5708C270.2695,-135.6164 281.3348,-124.551 291.1557,-114.7302\" fill=\"none\" stroke=\"#4a4a4a\"/>\n",
       "<polygon fill=\"#4a4a4a\" points=\"293.7714,-117.0642 298.3676,-107.5182 288.8216,-112.1145 293.7714,-117.0642\" stroke=\"#4a4a4a\"/>\n",
       "</g>\n",
       "<!-- utilityVar2 -->\n",
       "<g class=\"node\" id=\"node12\">\n",
       "<title>utilityVar2</title>\n",
       "<polygon fill=\"#4a5050\" points=\"247.8858,-36 167.114,-18 247.8858,0 328.6577,-18 247.8858,-36\" stroke=\"#4a4a4a\"/>\n",
       "<text fill=\"#ffffff\" font-family=\"Helvetica,sans-Serif\" font-size=\"14.00\" text-anchor=\"middle\" x=\"247.8858\" y=\"-14.3\">utilityVar2</text>\n",
       "</g>\n",
       "<!-- chanceVar5&#45;&gt;utilityVar2 -->\n",
       "<g class=\"edge\" id=\"edge14\">\n",
       "<title>chanceVar5-&gt;utilityVar2</title>\n",
       "<path d=\"M299.4249,-72.5708C290.4042,-63.0194 279.1151,-51.0662 269.4037,-40.7836\" fill=\"none\" stroke=\"#4a4a4a\"/>\n",
       "<polygon fill=\"#4a4a4a\" points=\"271.7593,-38.1804 262.3485,-33.3134 266.6702,-42.9868 271.7593,-38.1804\" stroke=\"#4a4a4a\"/>\n",
       "</g>\n",
       "<!-- F -->\n",
       "<g class=\"node\" id=\"node6\">\n",
       "<title>F</title>\n",
       "<ellipse cx=\"410.8858\" cy=\"-306\" fill=\"#504a50\" rx=\"27\" ry=\"18\" stroke=\"#4a4a4a\"/>\n",
       "<text fill=\"#ffffff\" font-family=\"Helvetica,sans-Serif\" font-size=\"14.00\" text-anchor=\"middle\" x=\"410.8858\" y=\"-302.3\">F</text>\n",
       "</g>\n",
       "<!-- U -->\n",
       "<g class=\"node\" id=\"node13\">\n",
       "<title>U</title>\n",
       "<polygon fill=\"#4a5050\" points=\"497.8858,-180 470.8858,-162 497.8858,-144 524.8858,-162 497.8858,-180\" stroke=\"#4a4a4a\"/>\n",
       "<text fill=\"#ffffff\" font-family=\"Helvetica,sans-Serif\" font-size=\"14.00\" text-anchor=\"middle\" x=\"497.8858\" y=\"-158.3\">U</text>\n",
       "</g>\n",
       "<!-- F&#45;&gt;U -->\n",
       "<g class=\"edge\" id=\"edge15\">\n",
       "<title>F-&gt;U</title>\n",
       "<path d=\"M423.8279,-289.9251C432.0188,-279.4247 442.5893,-265.2506 450.8858,-252 464.683,-229.9641 478.1831,-203.4453 487.1486,-184.9237\" fill=\"none\" stroke=\"#4a4a4a\"/>\n",
       "<polygon fill=\"#4a4a4a\" points=\"490.3622,-186.3164 491.5185,-175.7848 484.047,-183.2967 490.3622,-186.3164\" stroke=\"#4a4a4a\"/>\n",
       "</g>\n",
       "<!-- decisionVar1 -->\n",
       "<g class=\"node\" id=\"node7\">\n",
       "<title>decisionVar1</title>\n",
       "<polygon fill=\"#50504a\" points=\"374.8858,-468 268.8858,-468 268.8858,-432 374.8858,-432 374.8858,-468\" stroke=\"#4a4a4a\"/>\n",
       "<text fill=\"#ffffff\" font-family=\"Helvetica,sans-Serif\" font-size=\"14.00\" text-anchor=\"middle\" x=\"321.8858\" y=\"-446.3\">decisionVar1</text>\n",
       "</g>\n",
       "<!-- decisionVar1&#45;&gt;chanceVar1 -->\n",
       "<g class=\"edge\" id=\"edge2\">\n",
       "<title>decisionVar1-&gt;chanceVar1</title>\n",
       "<path d=\"M310.2781,-431.8314C305.0082,-423.5829 298.6709,-413.6635 292.8798,-404.5992\" fill=\"none\" stroke=\"#4a4a4a\"/>\n",
       "<polygon fill=\"#4a4a4a\" points=\"295.6639,-402.456 287.3305,-395.9134 289.765,-406.2248 295.6639,-402.456\" stroke=\"#4a4a4a\"/>\n",
       "</g>\n",
       "<!-- decisionVar1&#45;&gt;F -->\n",
       "<g class=\"edge\" id=\"edge1\">\n",
       "<title>decisionVar1-&gt;F</title>\n",
       "<path d=\"M333.1578,-431.7623C348.8587,-406.3585 377.3816,-360.2091 395.1655,-331.4352\" fill=\"none\" stroke=\"#4a4a4a\"/>\n",
       "<polygon fill=\"#4a4a4a\" points=\"398.252,-333.0984 400.5322,-322.7519 392.2975,-329.4182 398.252,-333.0984\" stroke=\"#4a4a4a\"/>\n",
       "</g>\n",
       "<!-- decisionVar2&#45;&gt;chanceVar4 -->\n",
       "<g class=\"edge\" id=\"edge4\">\n",
       "<title>decisionVar2-&gt;chanceVar4</title>\n",
       "<path d=\"M243.8858,-215.8314C243.8858,-208.131 243.8858,-198.9743 243.8858,-190.4166\" fill=\"none\" stroke=\"#4a4a4a\"/>\n",
       "<polygon fill=\"#4a4a4a\" points=\"247.3859,-190.4132 243.8858,-180.4133 240.3859,-190.4133 247.3859,-190.4132\" stroke=\"#4a4a4a\"/>\n",
       "</g>\n",
       "<!-- decisionVar2&#45;&gt;utilityVar1 -->\n",
       "<g class=\"edge\" id=\"edge3\">\n",
       "<title>decisionVar2-&gt;utilityVar1</title>\n",
       "<path d=\"M202.7541,-215.8314C176.495,-204.2323 142.756,-189.3291 117.4378,-178.1457\" fill=\"none\" stroke=\"#4a4a4a\"/>\n",
       "<polygon fill=\"#4a4a4a\" points=\"118.7414,-174.8953 108.1799,-174.0563 115.913,-181.2984 118.7414,-174.8953\" stroke=\"#4a4a4a\"/>\n",
       "</g>\n",
       "<!-- decisionVar3&#45;&gt;chanceVar3 -->\n",
       "<g class=\"edge\" id=\"edge5\">\n",
       "<title>decisionVar3-&gt;chanceVar3</title>\n",
       "<path d=\"M388.8858,-215.8314C388.8858,-208.131 388.8858,-198.9743 388.8858,-190.4166\" fill=\"none\" stroke=\"#4a4a4a\"/>\n",
       "<polygon fill=\"#4a4a4a\" points=\"392.3859,-190.4132 388.8858,-180.4133 385.3859,-190.4133 392.3859,-190.4132\" stroke=\"#4a4a4a\"/>\n",
       "</g>\n",
       "<!-- decisionVar3&#45;&gt;U -->\n",
       "<g class=\"edge\" id=\"edge6\">\n",
       "<title>decisionVar3-&gt;U</title>\n",
       "<path d=\"M416.3911,-215.8314C434.5899,-203.8101 458.1614,-188.24 475.2687,-176.9398\" fill=\"none\" stroke=\"#4a4a4a\"/>\n",
       "<polygon fill=\"#4a4a4a\" points=\"477.6176,-179.5829 484.0325,-171.1508 473.7594,-173.7421 477.6176,-179.5829\" stroke=\"#4a4a4a\"/>\n",
       "</g>\n",
       "<!-- decisionVar4 -->\n",
       "<g class=\"node\" id=\"node10\">\n",
       "<title>decisionVar4</title>\n",
       "<polygon fill=\"#50504a\" points=\"233.8858,-108 127.8858,-108 127.8858,-72 233.8858,-72 233.8858,-108\" stroke=\"#4a4a4a\"/>\n",
       "<text fill=\"#ffffff\" font-family=\"Helvetica,sans-Serif\" font-size=\"14.00\" text-anchor=\"middle\" x=\"180.8858\" y=\"-86.3\">decisionVar4</text>\n",
       "</g>\n",
       "<!-- decisionVar4&#45;&gt;utilityVar2 -->\n",
       "<g class=\"edge\" id=\"edge7\">\n",
       "<title>decisionVar4-&gt;utilityVar2</title>\n",
       "<path d=\"M197.7928,-71.8314C206.6896,-62.2706 217.6753,-50.4651 227.0897,-40.3481\" fill=\"none\" stroke=\"#4a4a4a\"/>\n",
       "<polygon fill=\"#4a4a4a\" points=\"229.6719,-42.711 233.922,-33.0059 224.5474,-37.9423 229.6719,-42.711\" stroke=\"#4a4a4a\"/>\n",
       "</g>\n",
       "</g>\n",
       "</svg>"
      ],
      "text/plain": [
       "<IPython.core.display.SVG object>"
      ]
     },
     "metadata": {},
     "output_type": "display_data"
    }
   ],
   "source": []
  },
  {
   "cell_type": "code",
   "execution_count": null,
   "metadata": {
    "ExecuteTime": {
     "end_time": "2019-02-25T17:33:54.955130Z",
     "start_time": "2019-02-25T17:33:54.948913Z"
    }
   },
   "outputs": [],
   "source": [
    "diag.cpt(F)[{'decisionVar1':0}]=[0.9,0.1]\n",
    "diag.cpt(F)[{'decisionVar1':1}]=[0.3,0.7]\n",
    "\n",
    "diag.utility(U)[{'F':0,'decisionVar3':0}]=2\n",
    "diag.utility(U)[{'F':0,'decisionVar3':1}]=4\n",
    "diag.utility(U)[{'F':1}]=[[0],[5]]"
   ]
  },
  {
   "cell_type": "code",
   "execution_count": null,
   "metadata": {
    "ExecuteTime": {
     "end_time": "2019-02-25T17:33:57.089038Z",
     "start_time": "2019-02-25T17:33:54.956871Z"
    }
   },
   "outputs": [],
   "source": [
    "asia=gum.loadID(os.path.join(\"res\",\"DecAsia.bifxml\"))\n",
    "gnb.showInfluenceDiagram(asia)"
   ]
  },
  {
   "cell_type": "code",
   "execution_count": null,
   "metadata": {
    "ExecuteTime": {
     "end_time": "2019-02-25T17:33:59.278856Z",
     "start_time": "2019-02-25T17:33:57.091511Z"
    }
   },
   "outputs": [],
   "source": [
    "oil=gum.loadID(os.path.join(\"res\",\"OilWildcater.bifxml\"))\n",
    "gnb.showInfluenceDiagram(oil)"
   ]
  },
  {
   "cell_type": "code",
   "execution_count": null,
   "metadata": {
    "ExecuteTime": {
     "end_time": "2019-02-25T17:33:59.287118Z",
     "start_time": "2019-02-25T17:33:59.283647Z"
    }
   },
   "outputs": [],
   "source": [
    "ie=gum.InfluenceDiagramInference(oil)"
   ]
  },
  {
   "cell_type": "code",
   "execution_count": null,
   "metadata": {
    "ExecuteTime": {
     "end_time": "2019-02-25T17:33:59.299581Z",
     "start_time": "2019-02-25T17:33:59.289093Z"
    }
   },
   "outputs": [],
   "source": [
    "ie.makeInference()\n",
    "print(\"Best decision for T : {0}\".format(ie.getBestDecisionChoice(oil.idFromName(\"T\"))))\n",
    "print(\"Best decision for D : {0}\".format(ie.getBestDecisionChoice(oil.idFromName(\"D\"))))\n",
    "print(\"For a maxEU : {0}\".format(ie.getMEU()))"
   ]
  },
  {
   "cell_type": "code",
   "execution_count": null,
   "metadata": {
    "ExecuteTime": {
     "end_time": "2019-02-25T17:33:59.306228Z",
     "start_time": "2019-02-25T17:33:59.301343Z"
    }
   },
   "outputs": [],
   "source": [
    "print(oil.variable(3))"
   ]
  },
  {
   "cell_type": "code",
   "execution_count": null,
   "metadata": {
    "ExecuteTime": {
     "end_time": "2019-02-25T17:33:59.315173Z",
     "start_time": "2019-02-25T17:33:59.308144Z"
    }
   },
   "outputs": [],
   "source": [
    "ie.eraseAllEvidence()\n",
    "ie.setEvidence({3:0})\n",
    "ie.makeInference()\n",
    "print(\"Best decision for T : {0}\".format(ie.getBestDecisionChoice(oil.idFromName(\"T\"))))\n",
    "print(\"Best decision for D : {0}\".format(ie.getBestDecisionChoice(oil.idFromName(\"D\"))))\n",
    "print(\"For a maxEU : {0}\".format(ie.getMEU()))"
   ]
  },
  {
   "cell_type": "code",
   "execution_count": null,
   "metadata": {
    "ExecuteTime": {
     "end_time": "2019-02-25T17:33:59.325676Z",
     "start_time": "2019-02-25T17:33:59.316942Z"
    }
   },
   "outputs": [],
   "source": [
    "ie.eraseAllEvidence()\n",
    "ie.setEvidence({3:1})\n",
    "ie.makeInference()\n",
    "print(\"Best decision for T : {0}\".format(ie.getBestDecisionChoice(oil.idFromName(\"T\"))))\n",
    "print(\"Best decision for D : {0}\".format(ie.getBestDecisionChoice(oil.idFromName(\"D\"))))\n",
    "print(\"For a maxEU : {0}\".format(ie.getMEU()))"
   ]
  },
  {
   "cell_type": "code",
   "execution_count": null,
   "metadata": {
    "ExecuteTime": {
     "end_time": "2019-02-25T17:33:59.336580Z",
     "start_time": "2019-02-25T17:33:59.327720Z"
    }
   },
   "outputs": [],
   "source": [
    "ie.eraseAllEvidence()\n",
    "ie.setEvidence({3:2})\n",
    "ie.makeInference()\n",
    "print(\"Best decision for T : {0}\".format(ie.getBestDecisionChoice(oil.idFromName(\"T\"))))\n",
    "print(\"Best decision for D : {0}\".format(ie.getBestDecisionChoice(oil.idFromName(\"D\"))))\n",
    "print(\"For a maxEU : {0}\".format(ie.getMEU()))"
   ]
  },
  {
   "cell_type": "code",
   "execution_count": null,
   "metadata": {
    "ExecuteTime": {
     "end_time": "2019-02-25T17:33:59.344389Z",
     "start_time": "2019-02-25T17:33:59.338423Z"
    }
   },
   "outputs": [],
   "source": [
    "ie.eraseAllEvidence()\n",
    "ie.setEvidence({3:[1,0.5,0.1]})\n",
    "ie.makeInference()\n",
    "print(\"Best decision for T : {0}\".format(ie.getBestDecisionChoice(oil.idFromName(\"T\"))))\n",
    "print(\"Best decision for D : {0}\".format(ie.getBestDecisionChoice(oil.idFromName(\"D\"))))\n",
    "print(\"For a maxEU : {0}\".format(ie.getMEU()))"
   ]
  },
  {
   "cell_type": "code",
   "execution_count": null,
   "metadata": {},
   "outputs": [],
   "source": []
  }
 ],
 "metadata": {
  "hide_input": false,
  "kernelspec": {
   "display_name": "Python 3",
   "language": "python",
   "name": "python3"
  },
  "language_info": {
   "codemirror_mode": {
    "name": "ipython",
    "version": 3
   },
   "file_extension": ".py",
   "mimetype": "text/x-python",
   "name": "python",
   "nbconvert_exporter": "python",
   "pygments_lexer": "ipython3",
   "version": "3.7.4"
  }
 },
 "nbformat": 4,
 "nbformat_minor": 4
}
