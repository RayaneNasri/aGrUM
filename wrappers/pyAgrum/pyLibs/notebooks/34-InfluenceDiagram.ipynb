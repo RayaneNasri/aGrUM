{
 "cells": [
  {
   "cell_type": "markdown",
   "metadata": {},
   "source": [
    "<a href=\"http://agrum.org\" target=\"blank\"><img src=\"http://agrum.gitlab.io/theme/img/logoAgrum.png\" align=\"left\" style=\"height:100px\"/></a><a rel=\"license\" href=\"http://creativecommons.org/licenses/by-nc/4.0/\"><img alt=\"Creative Commons License\" style=\"border-width:0\" src=\"https://i.creativecommons.org/l/by-nc/4.0/88x31.png\" /></a><br />This pyAgrum's notebook is licensed under a <a rel=\"license\" href=\"http://creativecommons.org/licenses/by-nc/4.0/\">Creative Commons Attribution-NonCommercial 4.0 International License</a>."
   ]
  },
  {
   "cell_type": "code",
   "execution_count": 1,
   "metadata": {
    "ExecuteTime": {
     "end_time": "2019-02-25T17:33:50.568756Z",
     "start_time": "2019-02-25T17:33:50.344887Z"
    }
   },
   "outputs": [],
   "source": [
    "import os\n",
    "\n",
    "%matplotlib inline\n",
    "from pylab import *\n",
    "import matplotlib.pyplot as plt"
   ]
  },
  {
   "cell_type": "code",
   "execution_count": 2,
   "metadata": {
    "ExecuteTime": {
     "end_time": "2019-02-25T17:33:50.578808Z",
     "start_time": "2019-02-25T17:33:50.571592Z"
    }
   },
   "outputs": [],
   "source": [
    "import pyAgrum as gum\n",
    "import pyAgrum.lib.notebook as gnb\n"
   ]
  },
  {
   "cell_type": "code",
   "execution_count": 3,
   "metadata": {
    "ExecuteTime": {
     "end_time": "2019-02-25T17:33:52.797218Z",
     "start_time": "2019-02-25T17:33:50.581194Z"
    }
   },
   "outputs": [
    {
     "data": {
      "image/svg+xml": [
       "<svg height=\"360pt\" viewBox=\"0.00 0.00 326.22 360.00\" width=\"326pt\" xmlns=\"http://www.w3.org/2000/svg\" xmlns:xlink=\"http://www.w3.org/1999/xlink\">\n",
       "<g class=\"graph\" id=\"graph0\" transform=\"scale(.7563 .7563) rotate(0) translate(4 472)\">\n",
       "<title>G</title>\n",
       "<!-- chanceVar1 -->\n",
       "<g class=\"node\" id=\"node1\">\n",
       "<title>chanceVar1</title>\n",
       "<ellipse cx=\"271.5449\" cy=\"-378\" fill=\"#504a50\" rx=\"51.1984\" ry=\"18\" stroke=\"#4a4a4a\"/>\n",
       "<text fill=\"#ffffff\" font-family=\"Times,serif\" font-size=\"14.00\" text-anchor=\"middle\" x=\"271.5449\" y=\"-373.8\">chanceVar1</text>\n",
       "</g>\n",
       "<!-- chanceVar2 -->\n",
       "<g class=\"node\" id=\"node2\">\n",
       "<title>chanceVar2</title>\n",
       "<ellipse cx=\"232.5449\" cy=\"-306\" fill=\"#504a50\" rx=\"51.1984\" ry=\"18\" stroke=\"#4a4a4a\"/>\n",
       "<text fill=\"#ffffff\" font-family=\"Times,serif\" font-size=\"14.00\" text-anchor=\"middle\" x=\"232.5449\" y=\"-301.8\">chanceVar2</text>\n",
       "</g>\n",
       "<!-- chanceVar1&#45;&gt;chanceVar2 -->\n",
       "<g class=\"edge\" id=\"edge7\">\n",
       "<title>chanceVar1-&gt;chanceVar2</title>\n",
       "<path d=\"M261.9045,-360.2022C257.4044,-351.8944 251.9537,-341.8316 246.9764,-332.6427\" fill=\"none\" stroke=\"#4a4a4a\"/>\n",
       "<polygon fill=\"#4a4a4a\" points=\"250.05,-330.9685 242.2096,-323.8425 243.895,-334.3025 250.05,-330.9685\" stroke=\"#4a4a4a\"/>\n",
       "</g>\n",
       "<!-- utilityVar1 -->\n",
       "<g class=\"node\" id=\"node10\">\n",
       "<title>utilityVar1</title>\n",
       "<polygon fill=\"#4a5050\" points=\"355.5449,-180 287.9682,-162 355.5449,-144 423.1216,-162 355.5449,-180\" stroke=\"#4a4a4a\"/>\n",
       "<text fill=\"#ffffff\" font-family=\"Times,serif\" font-size=\"14.00\" text-anchor=\"middle\" x=\"355.5449\" y=\"-157.8\">utilityVar1</text>\n",
       "</g>\n",
       "<!-- chanceVar1&#45;&gt;utilityVar1 -->\n",
       "<g class=\"edge\" id=\"edge6\">\n",
       "<title>chanceVar1-&gt;utilityVar1</title>\n",
       "<path d=\"M278.5622,-359.9555C293.4508,-321.6706 328.2481,-232.1918 345.4923,-187.8497\" fill=\"none\" stroke=\"#4a4a4a\"/>\n",
       "<polygon fill=\"#4a4a4a\" points=\"348.8222,-188.9435 349.1847,-178.3548 342.2982,-186.4063 348.8222,-188.9435\" stroke=\"#4a4a4a\"/>\n",
       "</g>\n",
       "<!-- decisionVar2 -->\n",
       "<g class=\"node\" id=\"node7\">\n",
       "<title>decisionVar2</title>\n",
       "<polygon fill=\"#50504a\" points=\"277.1348,-252 187.955,-252 187.955,-216 277.1348,-216 277.1348,-252\" stroke=\"#4a4a4a\"/>\n",
       "<text fill=\"#ffffff\" font-family=\"Times,serif\" font-size=\"14.00\" text-anchor=\"middle\" x=\"232.5449\" y=\"-229.8\">decisionVar2</text>\n",
       "</g>\n",
       "<!-- chanceVar2&#45;&gt;decisionVar2 -->\n",
       "<g class=\"edge\" id=\"edge8\">\n",
       "<title>chanceVar2-&gt;decisionVar2</title>\n",
       "<path d=\"M232.5449,-287.8314C232.5449,-280.131 232.5449,-270.9743 232.5449,-262.4166\" fill=\"none\" stroke=\"#4a4a4a\"/>\n",
       "<polygon fill=\"#4a4a4a\" points=\"236.045,-262.4132 232.5449,-252.4133 229.045,-262.4133 236.045,-262.4132\" stroke=\"#4a4a4a\"/>\n",
       "</g>\n",
       "<!-- decisionVar3 -->\n",
       "<g class=\"node\" id=\"node8\">\n",
       "<title>decisionVar3</title>\n",
       "<polygon fill=\"#50504a\" points=\"163.1348,-252 73.955,-252 73.955,-216 163.1348,-216 163.1348,-252\" stroke=\"#4a4a4a\"/>\n",
       "<text fill=\"#ffffff\" font-family=\"Times,serif\" font-size=\"14.00\" text-anchor=\"middle\" x=\"118.5449\" y=\"-229.8\">decisionVar3</text>\n",
       "</g>\n",
       "<!-- chanceVar2&#45;&gt;decisionVar3 -->\n",
       "<g class=\"edge\" id=\"edge9\">\n",
       "<title>chanceVar2-&gt;decisionVar3</title>\n",
       "<path d=\"M207.5271,-290.1993C192.3459,-280.6111 172.6894,-268.1965 155.7137,-257.475\" fill=\"none\" stroke=\"#4a4a4a\"/>\n",
       "<polygon fill=\"#4a4a4a\" points=\"157.4427,-254.4275 147.1189,-252.0467 153.7048,-260.3459 157.4427,-254.4275\" stroke=\"#4a4a4a\"/>\n",
       "</g>\n",
       "<!-- chanceVar3 -->\n",
       "<g class=\"node\" id=\"node3\">\n",
       "<title>chanceVar3</title>\n",
       "<ellipse cx=\"97.5449\" cy=\"-162\" fill=\"#504a50\" rx=\"51.1984\" ry=\"18\" stroke=\"#4a4a4a\"/>\n",
       "<text fill=\"#ffffff\" font-family=\"Times,serif\" font-size=\"14.00\" text-anchor=\"middle\" x=\"97.5449\" y=\"-157.8\">chanceVar3</text>\n",
       "</g>\n",
       "<!-- chanceVar5 -->\n",
       "<g class=\"node\" id=\"node5\">\n",
       "<title>chanceVar5</title>\n",
       "<ellipse cx=\"158.5449\" cy=\"-90\" fill=\"#504a50\" rx=\"51.1984\" ry=\"18\" stroke=\"#4a4a4a\"/>\n",
       "<text fill=\"#ffffff\" font-family=\"Times,serif\" font-size=\"14.00\" text-anchor=\"middle\" x=\"158.5449\" y=\"-85.8\">chanceVar5</text>\n",
       "</g>\n",
       "<!-- chanceVar3&#45;&gt;chanceVar5 -->\n",
       "<g class=\"edge\" id=\"edge10\">\n",
       "<title>chanceVar3-&gt;chanceVar5</title>\n",
       "<path d=\"M112.3113,-144.5708C119.8041,-135.7269 129.0413,-124.8239 137.2843,-115.0945\" fill=\"none\" stroke=\"#4a4a4a\"/>\n",
       "<polygon fill=\"#4a4a4a\" points=\"140.1208,-117.161 143.9145,-107.2687 134.7798,-112.6361 140.1208,-117.161\" stroke=\"#4a4a4a\"/>\n",
       "</g>\n",
       "<!-- chanceVar4 -->\n",
       "<g class=\"node\" id=\"node4\">\n",
       "<title>chanceVar4</title>\n",
       "<ellipse cx=\"218.5449\" cy=\"-162\" fill=\"#504a50\" rx=\"51.1984\" ry=\"18\" stroke=\"#4a4a4a\"/>\n",
       "<text fill=\"#ffffff\" font-family=\"Times,serif\" font-size=\"14.00\" text-anchor=\"middle\" x=\"218.5449\" y=\"-157.8\">chanceVar4</text>\n",
       "</g>\n",
       "<!-- chanceVar4&#45;&gt;chanceVar5 -->\n",
       "<g class=\"edge\" id=\"edge11\">\n",
       "<title>chanceVar4-&gt;chanceVar5</title>\n",
       "<path d=\"M204.0206,-144.5708C196.7049,-135.7919 187.6984,-124.9841 179.636,-115.3093\" fill=\"none\" stroke=\"#4a4a4a\"/>\n",
       "<polygon fill=\"#4a4a4a\" points=\"182.2341,-112.9598 173.1435,-107.5182 176.8566,-117.4411 182.2341,-112.9598\" stroke=\"#4a4a4a\"/>\n",
       "</g>\n",
       "<!-- utilityVar2 -->\n",
       "<g class=\"node\" id=\"node11\">\n",
       "<title>utilityVar2</title>\n",
       "<polygon fill=\"#4a5050\" points=\"101.5449,-36 33.9682,-18 101.5449,0 169.1216,-18 101.5449,-36\" stroke=\"#4a4a4a\"/>\n",
       "<text fill=\"#ffffff\" font-family=\"Times,serif\" font-size=\"14.00\" text-anchor=\"middle\" x=\"101.5449\" y=\"-13.8\">utilityVar2</text>\n",
       "</g>\n",
       "<!-- chanceVar5&#45;&gt;utilityVar2 -->\n",
       "<g class=\"edge\" id=\"edge12\">\n",
       "<title>chanceVar5-&gt;utilityVar2</title>\n",
       "<path d=\"M144.7468,-72.5708C137.3335,-63.2067 128.0927,-51.5341 120.0623,-41.3903\" fill=\"none\" stroke=\"#4a4a4a\"/>\n",
       "<polygon fill=\"#4a4a4a\" points=\"122.6193,-38.9814 113.668,-33.3134 117.1309,-43.3264 122.6193,-38.9814\" stroke=\"#4a4a4a\"/>\n",
       "</g>\n",
       "<!-- decisionVar1 -->\n",
       "<g class=\"node\" id=\"node6\">\n",
       "<title>decisionVar1</title>\n",
       "<polygon fill=\"#50504a\" points=\"316.1348,-468 226.955,-468 226.955,-432 316.1348,-432 316.1348,-468\" stroke=\"#4a4a4a\"/>\n",
       "<text fill=\"#ffffff\" font-family=\"Times,serif\" font-size=\"14.00\" text-anchor=\"middle\" x=\"271.5449\" y=\"-445.8\">decisionVar1</text>\n",
       "</g>\n",
       "<!-- decisionVar1&#45;&gt;chanceVar1 -->\n",
       "<g class=\"edge\" id=\"edge1\">\n",
       "<title>decisionVar1-&gt;chanceVar1</title>\n",
       "<path d=\"M271.5449,-431.8314C271.5449,-424.131 271.5449,-414.9743 271.5449,-406.4166\" fill=\"none\" stroke=\"#4a4a4a\"/>\n",
       "<polygon fill=\"#4a4a4a\" points=\"275.045,-406.4132 271.5449,-396.4133 268.045,-406.4133 275.045,-406.4132\" stroke=\"#4a4a4a\"/>\n",
       "</g>\n",
       "<!-- decisionVar2&#45;&gt;chanceVar4 -->\n",
       "<g class=\"edge\" id=\"edge3\">\n",
       "<title>decisionVar2-&gt;chanceVar4</title>\n",
       "<path d=\"M229.0121,-215.8314C227.5148,-208.131 225.7344,-198.9743 224.0704,-190.4166\" fill=\"none\" stroke=\"#4a4a4a\"/>\n",
       "<polygon fill=\"#4a4a4a\" points=\"227.4697,-189.5614 222.1253,-180.4133 220.5984,-190.8975 227.4697,-189.5614\" stroke=\"#4a4a4a\"/>\n",
       "</g>\n",
       "<!-- decisionVar2&#45;&gt;utilityVar1 -->\n",
       "<g class=\"edge\" id=\"edge2\">\n",
       "<title>decisionVar2-&gt;utilityVar1</title>\n",
       "<path d=\"M263.583,-215.8314C282.5425,-204.7331 306.6693,-190.6101 325.4531,-179.6147\" fill=\"none\" stroke=\"#4a4a4a\"/>\n",
       "<polygon fill=\"#4a4a4a\" points=\"327.337,-182.5676 334.199,-174.4952 323.8007,-176.5265 327.337,-182.5676\" stroke=\"#4a4a4a\"/>\n",
       "</g>\n",
       "<!-- decisionVar3&#45;&gt;chanceVar3 -->\n",
       "<g class=\"edge\" id=\"edge4\">\n",
       "<title>decisionVar3-&gt;chanceVar3</title>\n",
       "<path d=\"M113.2457,-215.8314C110.9402,-207.9266 108.187,-198.4872 105.6347,-189.7365\" fill=\"none\" stroke=\"#4a4a4a\"/>\n",
       "<polygon fill=\"#4a4a4a\" points=\"108.9297,-188.5334 102.7697,-179.9134 102.2097,-190.4934 108.9297,-188.5334\" stroke=\"#4a4a4a\"/>\n",
       "</g>\n",
       "<!-- decisionVar4 -->\n",
       "<g class=\"node\" id=\"node9\">\n",
       "<title>decisionVar4</title>\n",
       "<polygon fill=\"#50504a\" points=\"89.1348,-108 -.045,-108 -.045,-72 89.1348,-72 89.1348,-108\" stroke=\"#4a4a4a\"/>\n",
       "<text fill=\"#ffffff\" font-family=\"Times,serif\" font-size=\"14.00\" text-anchor=\"middle\" x=\"44.5449\" y=\"-85.8\">decisionVar4</text>\n",
       "</g>\n",
       "<!-- decisionVar4&#45;&gt;utilityVar2 -->\n",
       "<g class=\"edge\" id=\"edge5\">\n",
       "<title>decisionVar4-&gt;utilityVar2</title>\n",
       "<path d=\"M58.9284,-71.8314C66.3489,-62.4581 75.4776,-50.9272 83.38,-40.9452\" fill=\"none\" stroke=\"#4a4a4a\"/>\n",
       "<polygon fill=\"#4a4a4a\" points=\"86.2023,-43.0189 89.6652,-33.0059 80.714,-38.6739 86.2023,-43.0189\" stroke=\"#4a4a4a\"/>\n",
       "</g>\n",
       "</g>\n",
       "</svg>"
      ],
      "text/plain": [
       "<IPython.core.display.SVG object>"
      ]
     },
     "metadata": {},
     "output_type": "display_data"
    }
   ],
   "source": [
    "diag=gum.loadID(os.path.join(\"res\",\"diag.bifxml\"))\n",
    "gnb.showInfluenceDiagram(diag)"
   ]
  },
  {
   "cell_type": "code",
   "execution_count": 4,
   "metadata": {
    "ExecuteTime": {
     "end_time": "2019-02-25T17:33:54.946587Z",
     "start_time": "2019-02-25T17:33:52.799259Z"
    }
   },
   "outputs": [
    {
     "data": {
      "image/svg+xml": [
       "<svg height=\"360pt\" viewBox=\"0.00 0.00 345.47 360.00\" width=\"345pt\" xmlns=\"http://www.w3.org/2000/svg\" xmlns:xlink=\"http://www.w3.org/1999/xlink\">\n",
       "<g class=\"graph\" id=\"graph0\" transform=\"scale(.7563 .7563) rotate(0) translate(4 472)\">\n",
       "<title>G</title>\n",
       "<!-- chanceVar1 -->\n",
       "<g class=\"node\" id=\"node1\">\n",
       "<title>chanceVar1</title>\n",
       "<ellipse cx=\"230.788\" cy=\"-378\" fill=\"#504a50\" rx=\"51.1984\" ry=\"18\" stroke=\"#4a4a4a\"/>\n",
       "<text fill=\"#ffffff\" font-family=\"Times,serif\" font-size=\"14.00\" text-anchor=\"middle\" x=\"230.788\" y=\"-373.8\">chanceVar1</text>\n",
       "</g>\n",
       "<!-- chanceVar2 -->\n",
       "<g class=\"node\" id=\"node2\">\n",
       "<title>chanceVar2</title>\n",
       "<ellipse cx=\"230.788\" cy=\"-306\" fill=\"#504a50\" rx=\"51.1984\" ry=\"18\" stroke=\"#4a4a4a\"/>\n",
       "<text fill=\"#ffffff\" font-family=\"Times,serif\" font-size=\"14.00\" text-anchor=\"middle\" x=\"230.788\" y=\"-301.8\">chanceVar2</text>\n",
       "</g>\n",
       "<!-- chanceVar1&#45;&gt;chanceVar2 -->\n",
       "<g class=\"edge\" id=\"edge9\">\n",
       "<title>chanceVar1-&gt;chanceVar2</title>\n",
       "<path d=\"M230.788,-359.8314C230.788,-352.131 230.788,-342.9743 230.788,-334.4166\" fill=\"none\" stroke=\"#4a4a4a\"/>\n",
       "<polygon fill=\"#4a4a4a\" points=\"234.2881,-334.4132 230.788,-324.4133 227.2881,-334.4133 234.2881,-334.4132\" stroke=\"#4a4a4a\"/>\n",
       "</g>\n",
       "<!-- utilityVar1 -->\n",
       "<g class=\"node\" id=\"node11\">\n",
       "<title>utilityVar1</title>\n",
       "<polygon fill=\"#4a5050\" points=\"67.788,-180 .2113,-162 67.788,-144 135.3647,-162 67.788,-180\" stroke=\"#4a4a4a\"/>\n",
       "<text fill=\"#ffffff\" font-family=\"Times,serif\" font-size=\"14.00\" text-anchor=\"middle\" x=\"67.788\" y=\"-157.8\">utilityVar1</text>\n",
       "</g>\n",
       "<!-- chanceVar1&#45;&gt;utilityVar1 -->\n",
       "<g class=\"edge\" id=\"edge8\">\n",
       "<title>chanceVar1-&gt;utilityVar1</title>\n",
       "<path d=\"M209.7604,-361.5067C197.6082,-351.4059 182.4642,-337.8019 170.788,-324 133.172,-279.5356 98.9161,-220.289 80.9608,-187.1603\" fill=\"none\" stroke=\"#4a4a4a\"/>\n",
       "<polygon fill=\"#4a4a4a\" points=\"83.9416,-185.3127 76.1325,-178.1524 77.772,-188.6197 83.9416,-185.3127\" stroke=\"#4a4a4a\"/>\n",
       "</g>\n",
       "<!-- decisionVar2 -->\n",
       "<g class=\"node\" id=\"node8\">\n",
       "<title>decisionVar2</title>\n",
       "<polygon fill=\"#50504a\" points=\"249.3779,-252 160.1981,-252 160.1981,-216 249.3779,-216 249.3779,-252\" stroke=\"#4a4a4a\"/>\n",
       "<text fill=\"#ffffff\" font-family=\"Times,serif\" font-size=\"14.00\" text-anchor=\"middle\" x=\"204.788\" y=\"-229.8\">decisionVar2</text>\n",
       "</g>\n",
       "<!-- chanceVar2&#45;&gt;decisionVar2 -->\n",
       "<g class=\"edge\" id=\"edge10\">\n",
       "<title>chanceVar2-&gt;decisionVar2</title>\n",
       "<path d=\"M224.2271,-287.8314C221.3853,-279.9617 217.9943,-270.5712 214.8461,-261.8533\" fill=\"none\" stroke=\"#4a4a4a\"/>\n",
       "<polygon fill=\"#4a4a4a\" points=\"218.1257,-260.63 211.4372,-252.4133 211.5418,-263.0076 218.1257,-260.63\" stroke=\"#4a4a4a\"/>\n",
       "</g>\n",
       "<!-- decisionVar3 -->\n",
       "<g class=\"node\" id=\"node9\">\n",
       "<title>decisionVar3</title>\n",
       "<polygon fill=\"#50504a\" points=\"370.3779,-252 281.1981,-252 281.1981,-216 370.3779,-216 370.3779,-252\" stroke=\"#4a4a4a\"/>\n",
       "<text fill=\"#ffffff\" font-family=\"Times,serif\" font-size=\"14.00\" text-anchor=\"middle\" x=\"325.788\" y=\"-229.8\">decisionVar3</text>\n",
       "</g>\n",
       "<!-- chanceVar2&#45;&gt;decisionVar3 -->\n",
       "<g class=\"edge\" id=\"edge11\">\n",
       "<title>chanceVar2-&gt;decisionVar3</title>\n",
       "<path d=\"M252.345,-289.6621C264.5854,-280.3851 280.1414,-268.5953 293.7827,-258.2567\" fill=\"none\" stroke=\"#4a4a4a\"/>\n",
       "<polygon fill=\"#4a4a4a\" points=\"296.1265,-260.872 301.9821,-252.0423 291.8983,-255.2932 296.1265,-260.872\" stroke=\"#4a4a4a\"/>\n",
       "</g>\n",
       "<!-- chanceVar3 -->\n",
       "<g class=\"node\" id=\"node3\">\n",
       "<title>chanceVar3</title>\n",
       "<ellipse cx=\"325.788\" cy=\"-162\" fill=\"#504a50\" rx=\"51.1984\" ry=\"18\" stroke=\"#4a4a4a\"/>\n",
       "<text fill=\"#ffffff\" font-family=\"Times,serif\" font-size=\"14.00\" text-anchor=\"middle\" x=\"325.788\" y=\"-157.8\">chanceVar3</text>\n",
       "</g>\n",
       "<!-- chanceVar5 -->\n",
       "<g class=\"node\" id=\"node5\">\n",
       "<title>chanceVar5</title>\n",
       "<ellipse cx=\"264.788\" cy=\"-90\" fill=\"#504a50\" rx=\"51.1984\" ry=\"18\" stroke=\"#4a4a4a\"/>\n",
       "<text fill=\"#ffffff\" font-family=\"Times,serif\" font-size=\"14.00\" text-anchor=\"middle\" x=\"264.788\" y=\"-85.8\">chanceVar5</text>\n",
       "</g>\n",
       "<!-- chanceVar3&#45;&gt;chanceVar5 -->\n",
       "<g class=\"edge\" id=\"edge12\">\n",
       "<title>chanceVar3-&gt;chanceVar5</title>\n",
       "<path d=\"M311.0216,-144.5708C303.5289,-135.7269 294.2916,-124.8239 286.0486,-115.0945\" fill=\"none\" stroke=\"#4a4a4a\"/>\n",
       "<polygon fill=\"#4a4a4a\" points=\"288.5531,-112.6361 279.4184,-107.2687 283.2122,-117.161 288.5531,-112.6361\" stroke=\"#4a4a4a\"/>\n",
       "</g>\n",
       "<!-- chanceVar4 -->\n",
       "<g class=\"node\" id=\"node4\">\n",
       "<title>chanceVar4</title>\n",
       "<ellipse cx=\"204.788\" cy=\"-162\" fill=\"#504a50\" rx=\"51.1984\" ry=\"18\" stroke=\"#4a4a4a\"/>\n",
       "<text fill=\"#ffffff\" font-family=\"Times,serif\" font-size=\"14.00\" text-anchor=\"middle\" x=\"204.788\" y=\"-157.8\">chanceVar4</text>\n",
       "</g>\n",
       "<!-- chanceVar4&#45;&gt;chanceVar5 -->\n",
       "<g class=\"edge\" id=\"edge13\">\n",
       "<title>chanceVar4-&gt;chanceVar5</title>\n",
       "<path d=\"M219.3123,-144.5708C226.6281,-135.7919 235.6346,-124.9841 243.697,-115.3093\" fill=\"none\" stroke=\"#4a4a4a\"/>\n",
       "<polygon fill=\"#4a4a4a\" points=\"246.4764,-117.4411 250.1895,-107.5182 241.0988,-112.9598 246.4764,-117.4411\" stroke=\"#4a4a4a\"/>\n",
       "</g>\n",
       "<!-- utilityVar2 -->\n",
       "<g class=\"node\" id=\"node12\">\n",
       "<title>utilityVar2</title>\n",
       "<polygon fill=\"#4a5050\" points=\"207.788,-36 140.2113,-18 207.788,0 275.3647,-18 207.788,-36\" stroke=\"#4a4a4a\"/>\n",
       "<text fill=\"#ffffff\" font-family=\"Times,serif\" font-size=\"14.00\" text-anchor=\"middle\" x=\"207.788\" y=\"-13.8\">utilityVar2</text>\n",
       "</g>\n",
       "<!-- chanceVar5&#45;&gt;utilityVar2 -->\n",
       "<g class=\"edge\" id=\"edge14\">\n",
       "<title>chanceVar5-&gt;utilityVar2</title>\n",
       "<path d=\"M250.9899,-72.5708C243.5766,-63.2067 234.3358,-51.5341 226.3054,-41.3903\" fill=\"none\" stroke=\"#4a4a4a\"/>\n",
       "<polygon fill=\"#4a4a4a\" points=\"228.8624,-38.9814 219.9111,-33.3134 223.374,-43.3264 228.8624,-38.9814\" stroke=\"#4a4a4a\"/>\n",
       "</g>\n",
       "<!-- F -->\n",
       "<g class=\"node\" id=\"node6\">\n",
       "<title>F</title>\n",
       "<ellipse cx=\"349.788\" cy=\"-306\" fill=\"#504a50\" rx=\"27\" ry=\"18\" stroke=\"#4a4a4a\"/>\n",
       "<text fill=\"#ffffff\" font-family=\"Times,serif\" font-size=\"14.00\" text-anchor=\"middle\" x=\"349.788\" y=\"-301.8\">F</text>\n",
       "</g>\n",
       "<!-- U -->\n",
       "<g class=\"node\" id=\"node13\">\n",
       "<title>U</title>\n",
       "<polygon fill=\"#4a5050\" points=\"421.788,-180 394.788,-162 421.788,-144 448.788,-162 421.788,-180\" stroke=\"#4a4a4a\"/>\n",
       "<text fill=\"#ffffff\" font-family=\"Times,serif\" font-size=\"14.00\" text-anchor=\"middle\" x=\"421.788\" y=\"-157.8\">U</text>\n",
       "</g>\n",
       "<!-- F&#45;&gt;U -->\n",
       "<g class=\"edge\" id=\"edge15\">\n",
       "<title>F-&gt;U</title>\n",
       "<path d=\"M359.5559,-289.1405C365.5782,-278.5724 373.3532,-264.6095 379.788,-252 391.1623,-229.7111 403.1381,-203.7698 411.378,-185.4802\" fill=\"none\" stroke=\"#4a4a4a\"/>\n",
       "<polygon fill=\"#4a4a4a\" points=\"414.6508,-186.7355 415.5439,-176.1783 408.2622,-183.8743 414.6508,-186.7355\" stroke=\"#4a4a4a\"/>\n",
       "</g>\n",
       "<!-- decisionVar1 -->\n",
       "<g class=\"node\" id=\"node7\">\n",
       "<title>decisionVar1</title>\n",
       "<polygon fill=\"#50504a\" points=\"314.3779,-468 225.1981,-468 225.1981,-432 314.3779,-432 314.3779,-468\" stroke=\"#4a4a4a\"/>\n",
       "<text fill=\"#ffffff\" font-family=\"Times,serif\" font-size=\"14.00\" text-anchor=\"middle\" x=\"269.788\" y=\"-445.8\">decisionVar1</text>\n",
       "</g>\n",
       "<!-- decisionVar1&#45;&gt;chanceVar1 -->\n",
       "<g class=\"edge\" id=\"edge2\">\n",
       "<title>decisionVar1-&gt;chanceVar1</title>\n",
       "<path d=\"M259.9467,-431.8314C255.5253,-423.6688 250.2176,-413.87 245.3495,-404.8827\" fill=\"none\" stroke=\"#4a4a4a\"/>\n",
       "<polygon fill=\"#4a4a4a\" points=\"248.3315,-403.0393 240.4911,-395.9134 242.1765,-406.3734 248.3315,-403.0393\" stroke=\"#4a4a4a\"/>\n",
       "</g>\n",
       "<!-- decisionVar1&#45;&gt;F -->\n",
       "<g class=\"edge\" id=\"edge1\">\n",
       "<title>decisionVar1-&gt;F</title>\n",
       "<path d=\"M279.9201,-431.7623C293.8966,-406.6045 319.1765,-361.1008 335.1903,-332.2758\" fill=\"none\" stroke=\"#4a4a4a\"/>\n",
       "<polygon fill=\"#4a4a4a\" points=\"338.4393,-333.6346 340.2362,-323.1933 332.3202,-330.2351 338.4393,-333.6346\" stroke=\"#4a4a4a\"/>\n",
       "</g>\n",
       "<!-- decisionVar2&#45;&gt;chanceVar4 -->\n",
       "<g class=\"edge\" id=\"edge4\">\n",
       "<title>decisionVar2-&gt;chanceVar4</title>\n",
       "<path d=\"M204.788,-215.8314C204.788,-208.131 204.788,-198.9743 204.788,-190.4166\" fill=\"none\" stroke=\"#4a4a4a\"/>\n",
       "<polygon fill=\"#4a4a4a\" points=\"208.2881,-190.4132 204.788,-180.4133 201.2881,-190.4133 208.2881,-190.4132\" stroke=\"#4a4a4a\"/>\n",
       "</g>\n",
       "<!-- decisionVar2&#45;&gt;utilityVar1 -->\n",
       "<g class=\"edge\" id=\"edge3\">\n",
       "<title>decisionVar2-&gt;utilityVar1</title>\n",
       "<path d=\"M170.2171,-215.8314C148.5355,-204.4366 120.7867,-189.8533 99.6411,-178.7403\" fill=\"none\" stroke=\"#4a4a4a\"/>\n",
       "<polygon fill=\"#4a4a4a\" points=\"101.2086,-175.6102 90.7284,-174.0563 97.9521,-181.8066 101.2086,-175.6102\" stroke=\"#4a4a4a\"/>\n",
       "</g>\n",
       "<!-- decisionVar3&#45;&gt;chanceVar3 -->\n",
       "<g class=\"edge\" id=\"edge5\">\n",
       "<title>decisionVar3-&gt;chanceVar3</title>\n",
       "<path d=\"M325.788,-215.8314C325.788,-208.131 325.788,-198.9743 325.788,-190.4166\" fill=\"none\" stroke=\"#4a4a4a\"/>\n",
       "<polygon fill=\"#4a4a4a\" points=\"329.2881,-190.4132 325.788,-180.4133 322.2881,-190.4133 329.2881,-190.4132\" stroke=\"#4a4a4a\"/>\n",
       "</g>\n",
       "<!-- decisionVar3&#45;&gt;U -->\n",
       "<g class=\"edge\" id=\"edge6\">\n",
       "<title>decisionVar3-&gt;U</title>\n",
       "<path d=\"M350.0129,-215.8314C365.707,-204.0607 385.9378,-188.8877 400.9187,-177.652\" fill=\"none\" stroke=\"#4a4a4a\"/>\n",
       "<polygon fill=\"#4a4a4a\" points=\"403.1585,-180.3471 409.0585,-171.5471 398.9585,-174.7471 403.1585,-180.3471\" stroke=\"#4a4a4a\"/>\n",
       "</g>\n",
       "<!-- decisionVar4 -->\n",
       "<g class=\"node\" id=\"node10\">\n",
       "<title>decisionVar4</title>\n",
       "<polygon fill=\"#50504a\" points=\"195.3779,-108 106.1981,-108 106.1981,-72 195.3779,-72 195.3779,-108\" stroke=\"#4a4a4a\"/>\n",
       "<text fill=\"#ffffff\" font-family=\"Times,serif\" font-size=\"14.00\" text-anchor=\"middle\" x=\"150.788\" y=\"-85.8\">decisionVar4</text>\n",
       "</g>\n",
       "<!-- decisionVar4&#45;&gt;utilityVar2 -->\n",
       "<g class=\"edge\" id=\"edge7\">\n",
       "<title>decisionVar4-&gt;utilityVar2</title>\n",
       "<path d=\"M165.1715,-71.8314C172.592,-62.4581 181.7207,-50.9272 189.6231,-40.9452\" fill=\"none\" stroke=\"#4a4a4a\"/>\n",
       "<polygon fill=\"#4a4a4a\" points=\"192.4454,-43.0189 195.9083,-33.0059 186.9571,-38.6739 192.4454,-43.0189\" stroke=\"#4a4a4a\"/>\n",
       "</g>\n",
       "</g>\n",
       "</svg>"
      ],
      "text/plain": [
       "<IPython.core.display.SVG object>"
      ]
     },
     "metadata": {},
     "output_type": "display_data"
    }
   ],
   "source": [
    "F=diag.addChanceNode(gum.LabelizedVariable(\"F\",\"F\",2))\n",
    "diag.addArc(diag.idFromName(\"decisionVar1\"),F)\n",
    "\n",
    "U=diag.addUtilityNode(gum.LabelizedVariable(\"U\",\"U\",1))\n",
    "diag.addArc(diag.idFromName(\"decisionVar3\"),U)\n",
    "diag.addArc(diag.idFromName(\"F\"),U)\n",
    "\n",
    "gnb.showInfluenceDiagram(diag) \n",
    "# note the difference between png (above) and svg (here)rendering"
   ]
  },
  {
   "cell_type": "code",
   "execution_count": 5,
   "metadata": {
    "ExecuteTime": {
     "end_time": "2019-02-25T17:33:54.955130Z",
     "start_time": "2019-02-25T17:33:54.948913Z"
    }
   },
   "outputs": [],
   "source": [
    "diag.cpt(F)[{'decisionVar1':0}]=[0.9,0.1]\n",
    "diag.cpt(F)[{'decisionVar1':1}]=[0.3,0.7]\n",
    "\n",
    "diag.utility(U)[{'F':0,'decisionVar3':0}]=2\n",
    "diag.utility(U)[{'F':0,'decisionVar3':1}]=4\n",
    "diag.utility(U)[{'F':1}]=[[0],[5]]"
   ]
  },
  {
   "cell_type": "code",
   "execution_count": 6,
   "metadata": {
    "ExecuteTime": {
     "end_time": "2019-02-25T17:33:57.089038Z",
     "start_time": "2019-02-25T17:33:54.956871Z"
    }
   },
   "outputs": [
    {
     "data": {
      "image/svg+xml": [
       "<svg height=\"260pt\" viewBox=\"0.00 0.00 322.00 260.00\" width=\"322pt\" xmlns=\"http://www.w3.org/2000/svg\" xmlns:xlink=\"http://www.w3.org/1999/xlink\">\n",
       "<g class=\"graph\" id=\"graph0\" transform=\"scale(1 1) rotate(0) translate(4 256)\">\n",
       "<title>G</title>\n",
       "<!-- S -->\n",
       "<g class=\"node\" id=\"node1\">\n",
       "<title>S</title>\n",
       "<ellipse cx=\"72\" cy=\"-234\" fill=\"#504a50\" rx=\"27\" ry=\"18\" stroke=\"#4a4a4a\"/>\n",
       "<text fill=\"#ffffff\" font-family=\"Times,serif\" font-size=\"14.00\" text-anchor=\"middle\" x=\"72\" y=\"-229.8\">S</text>\n",
       "</g>\n",
       "<!-- B -->\n",
       "<g class=\"node\" id=\"node2\">\n",
       "<title>B</title>\n",
       "<ellipse cx=\"27\" cy=\"-90\" fill=\"#504a50\" rx=\"27\" ry=\"18\" stroke=\"#4a4a4a\"/>\n",
       "<text fill=\"#ffffff\" font-family=\"Times,serif\" font-size=\"14.00\" text-anchor=\"middle\" x=\"27\" y=\"-85.8\">B</text>\n",
       "</g>\n",
       "<!-- S&#45;&gt;B -->\n",
       "<g class=\"edge\" id=\"edge5\">\n",
       "<title>S-&gt;B</title>\n",
       "<path d=\"M66.4821,-216.3428C58.7563,-191.6202 44.644,-146.4608 35.5512,-117.3639\" fill=\"none\" stroke=\"#4a4a4a\"/>\n",
       "<polygon fill=\"#4a4a4a\" points=\"38.8865,-116.3025 32.563,-107.8017 32.2052,-118.3904 38.8865,-116.3025\" stroke=\"#4a4a4a\"/>\n",
       "</g>\n",
       "<!-- L -->\n",
       "<g class=\"node\" id=\"node3\">\n",
       "<title>L</title>\n",
       "<ellipse cx=\"99\" cy=\"-162\" fill=\"#504a50\" rx=\"27\" ry=\"18\" stroke=\"#4a4a4a\"/>\n",
       "<text fill=\"#ffffff\" font-family=\"Times,serif\" font-size=\"14.00\" text-anchor=\"middle\" x=\"99\" y=\"-157.8\">L</text>\n",
       "</g>\n",
       "<!-- S&#45;&gt;L -->\n",
       "<g class=\"edge\" id=\"edge6\">\n",
       "<title>S-&gt;L</title>\n",
       "<path d=\"M78.6742,-216.2022C81.7476,-208.0064 85.4616,-198.1024 88.8695,-189.0145\" fill=\"none\" stroke=\"#4a4a4a\"/>\n",
       "<polygon fill=\"#4a4a4a\" points=\"92.1685,-190.1853 92.4026,-179.593 85.6142,-187.7274 92.1685,-190.1853\" stroke=\"#4a4a4a\"/>\n",
       "</g>\n",
       "<!-- D -->\n",
       "<g class=\"node\" id=\"node5\">\n",
       "<title>D</title>\n",
       "<ellipse cx=\"70\" cy=\"-18\" fill=\"#504a50\" rx=\"27\" ry=\"18\" stroke=\"#4a4a4a\"/>\n",
       "<text fill=\"#ffffff\" font-family=\"Times,serif\" font-size=\"14.00\" text-anchor=\"middle\" x=\"70\" y=\"-13.8\">D</text>\n",
       "</g>\n",
       "<!-- B&#45;&gt;D -->\n",
       "<g class=\"edge\" id=\"edge7\">\n",
       "<title>B-&gt;D</title>\n",
       "<path d=\"M37.1904,-72.937C42.3849,-64.2393 48.8106,-53.4799 54.5948,-43.7948\" fill=\"none\" stroke=\"#4a4a4a\"/>\n",
       "<polygon fill=\"#4a4a4a\" points=\"57.7602,-45.3206 59.8827,-34.9405 51.7504,-41.7314 57.7602,-45.3206\" stroke=\"#4a4a4a\"/>\n",
       "</g>\n",
       "<!-- E -->\n",
       "<g class=\"node\" id=\"node4\">\n",
       "<title>E</title>\n",
       "<ellipse cx=\"99\" cy=\"-90\" fill=\"#504a50\" rx=\"27\" ry=\"18\" stroke=\"#4a4a4a\"/>\n",
       "<text fill=\"#ffffff\" font-family=\"Times,serif\" font-size=\"14.00\" text-anchor=\"middle\" x=\"99\" y=\"-85.8\">E</text>\n",
       "</g>\n",
       "<!-- L&#45;&gt;E -->\n",
       "<g class=\"edge\" id=\"edge8\">\n",
       "<title>L-&gt;E</title>\n",
       "<path d=\"M99,-143.8314C99,-136.131 99,-126.9743 99,-118.4166\" fill=\"none\" stroke=\"#4a4a4a\"/>\n",
       "<polygon fill=\"#4a4a4a\" points=\"102.5001,-118.4132 99,-108.4133 95.5001,-118.4133 102.5001,-118.4132\" stroke=\"#4a4a4a\"/>\n",
       "</g>\n",
       "<!-- Uh -->\n",
       "<g class=\"node\" id=\"node11\">\n",
       "<title>Uh</title>\n",
       "<polygon fill=\"#4a5050\" points=\"174,-108 144.3432,-90 174,-72 203.6568,-90 174,-108\" stroke=\"#4a4a4a\"/>\n",
       "<text fill=\"#ffffff\" font-family=\"Times,serif\" font-size=\"14.00\" text-anchor=\"middle\" x=\"174\" y=\"-85.8\">Uh</text>\n",
       "</g>\n",
       "<!-- L&#45;&gt;Uh -->\n",
       "<g class=\"edge\" id=\"edge9\">\n",
       "<title>L-&gt;Uh</title>\n",
       "<path d=\"M114.54,-147.0816C126.3366,-135.7569 142.6095,-120.1349 155.1497,-108.0962\" fill=\"none\" stroke=\"#4a4a4a\"/>\n",
       "<polygon fill=\"#4a4a4a\" points=\"157.612,-110.5843 162.402,-101.134 152.7643,-105.5345 157.612,-110.5843\" stroke=\"#4a4a4a\"/>\n",
       "</g>\n",
       "<!-- E&#45;&gt;D -->\n",
       "<g class=\"edge\" id=\"edge10\">\n",
       "<title>E-&gt;D</title>\n",
       "<path d=\"M91.9799,-72.5708C88.6561,-64.3187 84.6103,-54.2738 80.9001,-45.0623\" fill=\"none\" stroke=\"#4a4a4a\"/>\n",
       "<polygon fill=\"#4a4a4a\" points=\"84.0387,-43.4864 77.056,-35.5182 77.5456,-46.1018 84.0387,-43.4864\" stroke=\"#4a4a4a\"/>\n",
       "</g>\n",
       "<!-- P -->\n",
       "<g class=\"node\" id=\"node6\">\n",
       "<title>P</title>\n",
       "<ellipse cx=\"172\" cy=\"-18\" fill=\"#504a50\" rx=\"27\" ry=\"18\" stroke=\"#4a4a4a\"/>\n",
       "<text fill=\"#ffffff\" font-family=\"Times,serif\" font-size=\"14.00\" text-anchor=\"middle\" x=\"172\" y=\"-13.8\">P</text>\n",
       "</g>\n",
       "<!-- E&#45;&gt;P -->\n",
       "<g class=\"edge\" id=\"edge11\">\n",
       "<title>E-&gt;P</title>\n",
       "<path d=\"M114.1256,-75.0816C124.3345,-65.0125 137.9878,-51.5463 149.4693,-40.2221\" fill=\"none\" stroke=\"#4a4a4a\"/>\n",
       "<polygon fill=\"#4a4a4a\" points=\"151.9806,-42.6611 156.6426,-33.147 147.0651,-37.6773 151.9806,-42.6611\" stroke=\"#4a4a4a\"/>\n",
       "</g>\n",
       "<!-- Tu -->\n",
       "<g class=\"node\" id=\"node7\">\n",
       "<title>Tu</title>\n",
       "<ellipse cx=\"174\" cy=\"-162\" fill=\"#504a50\" rx=\"27\" ry=\"18\" stroke=\"#4a4a4a\"/>\n",
       "<text fill=\"#ffffff\" font-family=\"Times,serif\" font-size=\"14.00\" text-anchor=\"middle\" x=\"174\" y=\"-157.8\">Tu</text>\n",
       "</g>\n",
       "<!-- Tu&#45;&gt;E -->\n",
       "<g class=\"edge\" id=\"edge13\">\n",
       "<title>Tu-&gt;E</title>\n",
       "<path d=\"M158.46,-147.0816C147.901,-136.945 133.7556,-123.3654 121.9108,-111.9944\" fill=\"none\" stroke=\"#4a4a4a\"/>\n",
       "<polygon fill=\"#4a4a4a\" points=\"124.1579,-109.2998 114.5201,-104.8993 119.3102,-114.3495 124.1579,-109.2998\" stroke=\"#4a4a4a\"/>\n",
       "</g>\n",
       "<!-- Tu&#45;&gt;Uh -->\n",
       "<g class=\"edge\" id=\"edge14\">\n",
       "<title>Tu-&gt;Uh</title>\n",
       "<path d=\"M174,-143.8314C174,-136.131 174,-126.9743 174,-118.4166\" fill=\"none\" stroke=\"#4a4a4a\"/>\n",
       "<polygon fill=\"#4a4a4a\" points=\"177.5001,-118.4132 174,-108.4133 170.5001,-118.4133 177.5001,-118.4132\" stroke=\"#4a4a4a\"/>\n",
       "</g>\n",
       "<!-- Ut -->\n",
       "<g class=\"node\" id=\"node12\">\n",
       "<title>Ut</title>\n",
       "<polygon fill=\"#4a5050\" points=\"259,-36 232,-18 259,0 286,-18 259,-36\" stroke=\"#4a4a4a\"/>\n",
       "<text fill=\"#ffffff\" font-family=\"Times,serif\" font-size=\"14.00\" text-anchor=\"middle\" x=\"259\" y=\"-13.8\">Ut</text>\n",
       "</g>\n",
       "<!-- Tu&#45;&gt;Ut -->\n",
       "<g class=\"edge\" id=\"edge12\">\n",
       "<title>Tu-&gt;Ut</title>\n",
       "<path d=\"M186.6204,-145.9037C194.6072,-135.3948 204.9136,-121.2191 213,-108 226.428,-86.0488 239.5662,-59.7141 248.3405,-41.2209\" fill=\"none\" stroke=\"#4a4a4a\"/>\n",
       "<polygon fill=\"#4a4a4a\" points=\"251.5497,-42.6208 252.6248,-32.0807 245.2114,-39.6498 251.5497,-42.6208\" stroke=\"#4a4a4a\"/>\n",
       "</g>\n",
       "<!-- A -->\n",
       "<g class=\"node\" id=\"node8\">\n",
       "<title>A</title>\n",
       "<ellipse cx=\"174\" cy=\"-234\" fill=\"#504a50\" rx=\"27\" ry=\"18\" stroke=\"#4a4a4a\"/>\n",
       "<text fill=\"#ffffff\" font-family=\"Times,serif\" font-size=\"14.00\" text-anchor=\"middle\" x=\"174\" y=\"-229.8\">A</text>\n",
       "</g>\n",
       "<!-- A&#45;&gt;Tu -->\n",
       "<g class=\"edge\" id=\"edge15\">\n",
       "<title>A-&gt;Tu</title>\n",
       "<path d=\"M174,-215.8314C174,-208.131 174,-198.9743 174,-190.4166\" fill=\"none\" stroke=\"#4a4a4a\"/>\n",
       "<polygon fill=\"#4a4a4a\" points=\"177.5001,-190.4132 174,-180.4133 170.5001,-190.4133 177.5001,-190.4132\" stroke=\"#4a4a4a\"/>\n",
       "</g>\n",
       "<!-- H -->\n",
       "<g class=\"node\" id=\"node9\">\n",
       "<title>H</title>\n",
       "<polygon fill=\"#50504a\" points=\"293,-180 239,-180 239,-144 293,-144 293,-180\" stroke=\"#4a4a4a\"/>\n",
       "<text fill=\"#ffffff\" font-family=\"Times,serif\" font-size=\"14.00\" text-anchor=\"middle\" x=\"266\" y=\"-157.8\">H</text>\n",
       "</g>\n",
       "<!-- Ta -->\n",
       "<g class=\"node\" id=\"node10\">\n",
       "<title>Ta</title>\n",
       "<polygon fill=\"#50504a\" points=\"314,-108 260,-108 260,-72 314,-72 314,-108\" stroke=\"#4a4a4a\"/>\n",
       "<text fill=\"#ffffff\" font-family=\"Times,serif\" font-size=\"14.00\" text-anchor=\"middle\" x=\"287\" y=\"-85.8\">Ta</text>\n",
       "</g>\n",
       "<!-- H&#45;&gt;Ta -->\n",
       "<g class=\"edge\" id=\"edge1\">\n",
       "<title>H-&gt;Ta</title>\n",
       "<path d=\"M271.2992,-143.8314C273.5698,-136.0463 276.2746,-126.7729 278.794,-118.1347\" fill=\"none\" stroke=\"#4a4a4a\"/>\n",
       "<polygon fill=\"#4a4a4a\" points=\"282.1894,-118.9933 281.6295,-108.4133 275.4694,-117.0332 282.1894,-118.9933\" stroke=\"#4a4a4a\"/>\n",
       "</g>\n",
       "<!-- H&#45;&gt;Uh -->\n",
       "<g class=\"edge\" id=\"edge2\">\n",
       "<title>H-&gt;Uh</title>\n",
       "<path d=\"M242.7845,-143.8314C228.1493,-132.3777 209.3976,-117.7025 195.1705,-106.5682\" fill=\"none\" stroke=\"#4a4a4a\"/>\n",
       "<polygon fill=\"#4a4a4a\" points=\"197.0062,-103.5605 186.9741,-100.1536 192.692,-109.073 197.0062,-103.5605\" stroke=\"#4a4a4a\"/>\n",
       "</g>\n",
       "<!-- Ta&#45;&gt;P -->\n",
       "<g class=\"edge\" id=\"edge4\">\n",
       "<title>Ta-&gt;P</title>\n",
       "<path d=\"M259.7466,-72.937C241.9865,-61.8176 218.8445,-47.3288 200.7859,-36.0225\" fill=\"none\" stroke=\"#4a4a4a\"/>\n",
       "<polygon fill=\"#4a4a4a\" points=\"202.1945,-32.775 191.8613,-30.4349 198.4798,-38.7081 202.1945,-32.775\" stroke=\"#4a4a4a\"/>\n",
       "</g>\n",
       "<!-- Ta&#45;&gt;Ut -->\n",
       "<g class=\"edge\" id=\"edge3\">\n",
       "<title>Ta-&gt;Ut</title>\n",
       "<path d=\"M279.9344,-71.8314C276.4234,-62.8031 272.134,-51.7731 268.3541,-42.0534\" fill=\"none\" stroke=\"#4a4a4a\"/>\n",
       "<polygon fill=\"#4a4a4a\" points=\"271.5401,-40.5892 264.6536,-32.5378 265.0161,-43.1264 271.5401,-40.5892\" stroke=\"#4a4a4a\"/>\n",
       "</g>\n",
       "</g>\n",
       "</svg>"
      ],
      "text/plain": [
       "<IPython.core.display.SVG object>"
      ]
     },
     "metadata": {},
     "output_type": "display_data"
    }
   ],
   "source": [
    "asia=gum.loadID(os.path.join(\"res\",\"DecAsia.bifxml\"))\n",
    "gnb.showInfluenceDiagram(asia)"
   ]
  },
  {
   "cell_type": "code",
   "execution_count": 7,
   "metadata": {
    "ExecuteTime": {
     "end_time": "2019-02-25T17:33:59.278856Z",
     "start_time": "2019-02-25T17:33:57.091511Z"
    }
   },
   "outputs": [
    {
     "data": {
      "image/svg+xml": [
       "<svg height=\"260pt\" viewBox=\"0.00 0.00 208.00 260.00\" width=\"208pt\" xmlns=\"http://www.w3.org/2000/svg\" xmlns:xlink=\"http://www.w3.org/1999/xlink\">\n",
       "<g class=\"graph\" id=\"graph0\" transform=\"scale(1 1) rotate(0) translate(4 256)\">\n",
       "<title>G</title>\n",
       "<!-- R -->\n",
       "<g class=\"node\" id=\"node1\">\n",
       "<title>R</title>\n",
       "<ellipse cx=\"63\" cy=\"-162\" fill=\"#504a50\" rx=\"27\" ry=\"18\" stroke=\"#4a4a4a\"/>\n",
       "<text fill=\"#ffffff\" font-family=\"Times,serif\" font-size=\"14.00\" text-anchor=\"middle\" x=\"63\" y=\"-157.8\">R</text>\n",
       "</g>\n",
       "<!-- D -->\n",
       "<g class=\"node\" id=\"node4\">\n",
       "<title>D</title>\n",
       "<polygon fill=\"#50504a\" points=\"90,-108 36,-108 36,-72 90,-72 90,-108\" stroke=\"#4a4a4a\"/>\n",
       "<text fill=\"#ffffff\" font-family=\"Times,serif\" font-size=\"14.00\" text-anchor=\"middle\" x=\"63\" y=\"-85.8\">D</text>\n",
       "</g>\n",
       "<!-- R&#45;&gt;D -->\n",
       "<g class=\"edge\" id=\"edge5\">\n",
       "<title>R-&gt;D</title>\n",
       "<path d=\"M63,-143.8314C63,-136.131 63,-126.9743 63,-118.4166\" fill=\"none\" stroke=\"#4a4a4a\"/>\n",
       "<polygon fill=\"#4a4a4a\" points=\"66.5001,-118.4132 63,-108.4133 59.5001,-118.4133 66.5001,-118.4132\" stroke=\"#4a4a4a\"/>\n",
       "</g>\n",
       "<!-- O -->\n",
       "<g class=\"node\" id=\"node2\">\n",
       "<title>O</title>\n",
       "<ellipse cx=\"27\" cy=\"-234\" fill=\"#504a50\" rx=\"27\" ry=\"18\" stroke=\"#4a4a4a\"/>\n",
       "<text fill=\"#ffffff\" font-family=\"Times,serif\" font-size=\"14.00\" text-anchor=\"middle\" x=\"27\" y=\"-229.8\">O</text>\n",
       "</g>\n",
       "<!-- O&#45;&gt;R -->\n",
       "<g class=\"edge\" id=\"edge6\">\n",
       "<title>O-&gt;R</title>\n",
       "<path d=\"M35.7146,-216.5708C39.9597,-208.0807 45.1536,-197.6929 49.8663,-188.2674\" fill=\"none\" stroke=\"#4a4a4a\"/>\n",
       "<polygon fill=\"#4a4a4a\" points=\"53.024,-189.7782 54.3657,-179.2687 46.763,-186.6477 53.024,-189.7782\" stroke=\"#4a4a4a\"/>\n",
       "</g>\n",
       "<!-- Ud -->\n",
       "<g class=\"node\" id=\"node6\">\n",
       "<title>Ud</title>\n",
       "<polygon fill=\"#4a5050\" points=\"35,-36 5.3432,-18 35,0 64.6568,-18 35,-36\" stroke=\"#4a4a4a\"/>\n",
       "<text fill=\"#ffffff\" font-family=\"Times,serif\" font-size=\"14.00\" text-anchor=\"middle\" x=\"35\" y=\"-13.8\">Ud</text>\n",
       "</g>\n",
       "<!-- O&#45;&gt;Ud -->\n",
       "<g class=\"edge\" id=\"edge7\">\n",
       "<title>O-&gt;Ud</title>\n",
       "<path d=\"M26.1379,-215.9889C24.8981,-186.0498 23.1564,-124.1711 27,-72 27.6634,-62.9958 28.9409,-53.215 30.2836,-44.4827\" fill=\"none\" stroke=\"#4a4a4a\"/>\n",
       "<polygon fill=\"#4a4a4a\" points=\"33.7606,-44.9068 31.9168,-34.4736 26.8519,-43.7794 33.7606,-44.9068\" stroke=\"#4a4a4a\"/>\n",
       "</g>\n",
       "<!-- T -->\n",
       "<g class=\"node\" id=\"node3\">\n",
       "<title>T</title>\n",
       "<polygon fill=\"#50504a\" points=\"145,-252 91,-252 91,-216 145,-216 145,-252\" stroke=\"#4a4a4a\"/>\n",
       "<text fill=\"#ffffff\" font-family=\"Times,serif\" font-size=\"14.00\" text-anchor=\"middle\" x=\"118\" y=\"-229.8\">T</text>\n",
       "</g>\n",
       "<!-- T&#45;&gt;R -->\n",
       "<g class=\"edge\" id=\"edge3\">\n",
       "<title>T-&gt;R</title>\n",
       "<path d=\"M104.1212,-215.8314C97.328,-206.9385 89.0512,-196.1034 81.7089,-186.4916\" fill=\"none\" stroke=\"#4a4a4a\"/>\n",
       "<polygon fill=\"#4a4a4a\" points=\"84.4096,-184.2614 75.5578,-178.4393 78.8469,-188.5107 84.4096,-184.2614\" stroke=\"#4a4a4a\"/>\n",
       "</g>\n",
       "<!-- T&#45;&gt;D -->\n",
       "<g class=\"edge\" id=\"edge1\">\n",
       "<title>T-&gt;D</title>\n",
       "<path d=\"M116.2095,-215.8083C113.9112,-197.1875 108.9655,-167.7008 99,-144 95.0456,-134.5953 89.3848,-125.0879 83.7195,-116.727\" fill=\"none\" stroke=\"#4a4a4a\"/>\n",
       "<polygon fill=\"#4a4a4a\" points=\"86.5184,-114.6231 77.8853,-108.4815 80.8041,-118.6664 86.5184,-114.6231\" stroke=\"#4a4a4a\"/>\n",
       "</g>\n",
       "<!-- Ut -->\n",
       "<g class=\"node\" id=\"node5\">\n",
       "<title>Ut</title>\n",
       "<polygon fill=\"#4a5050\" points=\"173,-180 146,-162 173,-144 200,-162 173,-180\" stroke=\"#4a4a4a\"/>\n",
       "<text fill=\"#ffffff\" font-family=\"Times,serif\" font-size=\"14.00\" text-anchor=\"middle\" x=\"173\" y=\"-157.8\">Ut</text>\n",
       "</g>\n",
       "<!-- T&#45;&gt;Ut -->\n",
       "<g class=\"edge\" id=\"edge2\">\n",
       "<title>T-&gt;Ut</title>\n",
       "<path d=\"M131.8788,-215.8314C139.6356,-205.677 149.3268,-192.9904 157.3525,-182.4841\" fill=\"none\" stroke=\"#4a4a4a\"/>\n",
       "<polygon fill=\"#4a4a4a\" points=\"160.3342,-184.3464 163.6233,-174.275 154.7715,-180.0971 160.3342,-184.3464\" stroke=\"#4a4a4a\"/>\n",
       "</g>\n",
       "<!-- D&#45;&gt;Ud -->\n",
       "<g class=\"edge\" id=\"edge4\">\n",
       "<title>D-&gt;Ud</title>\n",
       "<path d=\"M55.9344,-71.8314C52.4715,-62.9267 48.2513,-52.0749 44.5097,-42.4536\" fill=\"none\" stroke=\"#4a4a4a\"/>\n",
       "<polygon fill=\"#4a4a4a\" points=\"47.7222,-41.0574 40.8356,-33.0059 41.1981,-43.5946 47.7222,-41.0574\" stroke=\"#4a4a4a\"/>\n",
       "</g>\n",
       "</g>\n",
       "</svg>"
      ],
      "text/plain": [
       "<IPython.core.display.SVG object>"
      ]
     },
     "metadata": {},
     "output_type": "display_data"
    }
   ],
   "source": [
    "oil=gum.loadID(os.path.join(\"res\",\"OilWildcater.bifxml\"))\n",
    "gnb.showInfluenceDiagram(oil)"
   ]
  },
  {
   "cell_type": "code",
   "execution_count": 8,
   "metadata": {
    "ExecuteTime": {
     "end_time": "2019-02-25T17:33:59.287118Z",
     "start_time": "2019-02-25T17:33:59.283647Z"
    }
   },
   "outputs": [],
   "source": [
    "ie=gum.InfluenceDiagramInference(oil)"
   ]
  },
  {
   "cell_type": "code",
   "execution_count": 9,
   "metadata": {
    "ExecuteTime": {
     "end_time": "2019-02-25T17:33:59.299581Z",
     "start_time": "2019-02-25T17:33:59.289093Z"
    }
   },
   "outputs": [
    {
     "name": "stdout",
     "output_type": "stream",
     "text": [
      "Best decision for T : 1\n",
      "Best decision for D : 1\n",
      "For a maxEU : 60.0\n"
     ]
    }
   ],
   "source": [
    "ie.makeInference()\n",
    "print(\"Best decision for T : {0}\".format(ie.getBestDecisionChoice(oil.idFromName(\"T\"))))\n",
    "print(\"Best decision for D : {0}\".format(ie.getBestDecisionChoice(oil.idFromName(\"D\"))))\n",
    "print(\"For a maxEU : {0}\".format(ie.getMEU()))"
   ]
  },
  {
   "cell_type": "code",
   "execution_count": 10,
   "metadata": {
    "ExecuteTime": {
     "end_time": "2019-02-25T17:33:59.306228Z",
     "start_time": "2019-02-25T17:33:59.301343Z"
    }
   },
   "outputs": [
    {
     "name": "stdout",
     "output_type": "stream",
     "text": [
      "O<Dry,Wet,Soak>\n"
     ]
    }
   ],
   "source": [
    "print(oil.variable(3))"
   ]
  },
  {
   "cell_type": "code",
   "execution_count": 11,
   "metadata": {
    "ExecuteTime": {
     "end_time": "2019-02-25T17:33:59.315173Z",
     "start_time": "2019-02-25T17:33:59.308144Z"
    }
   },
   "outputs": [
    {
     "name": "stdout",
     "output_type": "stream",
     "text": [
      "Best decision for T : 1\n",
      "Best decision for D : 1\n",
      "For a maxEU : 0.0\n"
     ]
    }
   ],
   "source": [
    "ie.eraseAllEvidence()\n",
    "ie.setEvidence({3:0})\n",
    "ie.makeInference()\n",
    "print(\"Best decision for T : {0}\".format(ie.getBestDecisionChoice(oil.idFromName(\"T\"))))\n",
    "print(\"Best decision for D : {0}\".format(ie.getBestDecisionChoice(oil.idFromName(\"D\"))))\n",
    "print(\"For a maxEU : {0}\".format(ie.getMEU()))"
   ]
  },
  {
   "cell_type": "code",
   "execution_count": 12,
   "metadata": {
    "ExecuteTime": {
     "end_time": "2019-02-25T17:33:59.325676Z",
     "start_time": "2019-02-25T17:33:59.316942Z"
    }
   },
   "outputs": [
    {
     "name": "stdout",
     "output_type": "stream",
     "text": [
      "Best decision for T : 1\n",
      "Best decision for D : 0\n",
      "For a maxEU : 60.0\n"
     ]
    }
   ],
   "source": [
    "ie.eraseAllEvidence()\n",
    "ie.setEvidence({3:1})\n",
    "ie.makeInference()\n",
    "print(\"Best decision for T : {0}\".format(ie.getBestDecisionChoice(oil.idFromName(\"T\"))))\n",
    "print(\"Best decision for D : {0}\".format(ie.getBestDecisionChoice(oil.idFromName(\"D\"))))\n",
    "print(\"For a maxEU : {0}\".format(ie.getMEU()))"
   ]
  },
  {
   "cell_type": "code",
   "execution_count": 13,
   "metadata": {
    "ExecuteTime": {
     "end_time": "2019-02-25T17:33:59.336580Z",
     "start_time": "2019-02-25T17:33:59.327720Z"
    }
   },
   "outputs": [
    {
     "name": "stdout",
     "output_type": "stream",
     "text": [
      "Best decision for T : 1\n",
      "Best decision for D : 0\n",
      "For a maxEU : 10.0\n"
     ]
    }
   ],
   "source": [
    "ie.eraseAllEvidence()\n",
    "ie.setEvidence({3:2})\n",
    "ie.makeInference()\n",
    "print(\"Best decision for T : {0}\".format(ie.getBestDecisionChoice(oil.idFromName(\"T\"))))\n",
    "print(\"Best decision for D : {0}\".format(ie.getBestDecisionChoice(oil.idFromName(\"D\"))))\n",
    "print(\"For a maxEU : {0}\".format(ie.getMEU()))"
   ]
  },
  {
   "cell_type": "code",
   "execution_count": 14,
   "metadata": {
    "ExecuteTime": {
     "end_time": "2019-02-25T17:33:59.344389Z",
     "start_time": "2019-02-25T17:33:59.338423Z"
    }
   },
   "outputs": [
    {
     "name": "stdout",
     "output_type": "stream",
     "text": [
      "Best decision for T : 1\n",
      "Best decision for D : 1\n",
      "For a maxEU : 30.0\n"
     ]
    }
   ],
   "source": [
    "ie.eraseAllEvidence()\n",
    "ie.setEvidence({3:[1,0.5,0.1]})\n",
    "ie.makeInference()\n",
    "print(\"Best decision for T : {0}\".format(ie.getBestDecisionChoice(oil.idFromName(\"T\"))))\n",
    "print(\"Best decision for D : {0}\".format(ie.getBestDecisionChoice(oil.idFromName(\"D\"))))\n",
    "print(\"For a maxEU : {0}\".format(ie.getMEU()))"
   ]
  },
  {
   "cell_type": "code",
   "execution_count": null,
   "metadata": {},
   "outputs": [],
   "source": []
  }
 ],
 "metadata": {
  "hide_input": false,
  "kernelspec": {
   "display_name": "Python 3",
   "language": "python",
   "name": "python3"
  },
  "language_info": {
   "codemirror_mode": {
    "name": "ipython",
    "version": 3
   },
   "file_extension": ".py",
   "mimetype": "text/x-python",
   "name": "python",
   "nbconvert_exporter": "python",
   "pygments_lexer": "ipython3",
   "version": "3.7.3"
  }
 },
 "nbformat": 4,
 "nbformat_minor": 4
}
