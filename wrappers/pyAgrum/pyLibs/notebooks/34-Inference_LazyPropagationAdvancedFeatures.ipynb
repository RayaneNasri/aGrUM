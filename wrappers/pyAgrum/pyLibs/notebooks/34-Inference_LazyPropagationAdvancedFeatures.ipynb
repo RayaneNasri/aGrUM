{
 "cells": [
  {
   "cell_type": "markdown",
   "metadata": {},
   "source": [
    "<a href=\"http://agrum.org\" target=\"blank\"><img src=\"http://agrum.gitlab.io/theme/img/logoAgrum.png\" align=\"left\" style=\"height:100px\"/></a><a rel=\"license\" href=\"http://creativecommons.org/licenses/by-nc/4.0/\"><img alt=\"Creative Commons License\" style=\"border-width:0\" src=\"https://i.creativecommons.org/l/by-nc/4.0/88x31.png\" /></a><br />This pyAgrum's notebook is licensed under a <a rel=\"license\" href=\"http://creativecommons.org/licenses/by-nc/4.0/\">Creative Commons Attribution-NonCommercial 4.0 International License</a>."
   ]
  },
  {
   "cell_type": "code",
   "execution_count": 1,
   "metadata": {
    "ExecuteTime": {
     "end_time": "2019-02-25T16:37:44.110141Z",
     "start_time": "2019-02-25T16:37:43.874674Z"
    }
   },
   "outputs": [],
   "source": [
    "import pyAgrum as gum\n",
    "import pyAgrum.lib.notebook as gnb"
   ]
  },
  {
   "cell_type": "code",
   "execution_count": 2,
   "metadata": {
    "ExecuteTime": {
     "end_time": "2019-02-25T16:37:46.421089Z",
     "start_time": "2019-02-25T16:37:44.111996Z"
    }
   },
   "outputs": [
    {
     "data": {
      "text/html": [
       "<svg xmlns=\"http://www.w3.org/2000/svg\" xmlns:xlink=\"http://www.w3.org/1999/xlink\" width=\"134pt\" height=\"260pt\" viewBox=\"0.00 0.00 134.00 260.00\">\n",
       "<g id=\"graph0\" class=\"graph\" transform=\"scale(1 1) rotate(0) translate(4 256)\">\n",
       "<title>G</title>\n",
       "<!-- A -->\n",
       "<g id=\"node1\" class=\"node\">\n",
       "<title>A</title>\n",
       "<g id=\"a_node1\"><a xlink:title=\"(0) A\">\n",
       "<ellipse fill=\"#404040\" stroke=\"black\" cx=\"99\" cy=\"-234\" rx=\"27\" ry=\"18\"/>\n",
       "<text text-anchor=\"middle\" x=\"99\" y=\"-230.3\" font-family=\"Times New Roman,serif\" font-size=\"14.00\" fill=\"white\">A</text>\n",
       "</a>\n",
       "</g>\n",
       "</g>\n",
       "<!-- B -->\n",
       "<g id=\"node2\" class=\"node\">\n",
       "<title>B</title>\n",
       "<g id=\"a_node2\"><a xlink:title=\"(1) B\">\n",
       "<ellipse fill=\"#404040\" stroke=\"black\" cx=\"27\" cy=\"-162\" rx=\"27\" ry=\"18\"/>\n",
       "<text text-anchor=\"middle\" x=\"27\" y=\"-158.3\" font-family=\"Times New Roman,serif\" font-size=\"14.00\" fill=\"white\">B</text>\n",
       "</a>\n",
       "</g>\n",
       "</g>\n",
       "<!-- A&#45;&gt;B -->\n",
       "<g id=\"edge1\" class=\"edge\">\n",
       "<title>A-&gt;B</title>\n",
       "<g id=\"a_edge1\"><a xlink:title=\"(0, 1) : \">\n",
       "<path fill=\"none\" stroke=\"#4a4a4a\" d=\"M84.43,-218.83C74.25,-208.94 60.48,-195.55 48.97,-184.36\"/>\n",
       "<polygon fill=\"#4a4a4a\" stroke=\"#4a4a4a\" points=\"51.41,-181.85 41.8,-177.38 46.53,-186.87 51.41,-181.85\"/>\n",
       "</a>\n",
       "</g>\n",
       "</g>\n",
       "<!-- E -->\n",
       "<g id=\"node5\" class=\"node\">\n",
       "<title>E</title>\n",
       "<g id=\"a_node5\"><a xlink:title=\"(4) E\">\n",
       "<ellipse fill=\"#404040\" stroke=\"black\" cx=\"99\" cy=\"-90\" rx=\"27\" ry=\"18\"/>\n",
       "<text text-anchor=\"middle\" x=\"99\" y=\"-86.3\" font-family=\"Times New Roman,serif\" font-size=\"14.00\" fill=\"white\">E</text>\n",
       "</a>\n",
       "</g>\n",
       "</g>\n",
       "<!-- A&#45;&gt;E -->\n",
       "<g id=\"edge3\" class=\"edge\">\n",
       "<title>A-&gt;E</title>\n",
       "<g id=\"a_edge3\"><a xlink:title=\"(0, 4) : \">\n",
       "<path fill=\"none\" stroke=\"#4a4a4a\" d=\"M99,-215.87C99,-191.67 99,-147.21 99,-118.39\"/>\n",
       "<polygon fill=\"#4a4a4a\" stroke=\"#4a4a4a\" points=\"102.5,-118.19 99,-108.19 95.5,-118.19 102.5,-118.19\"/>\n",
       "</a>\n",
       "</g>\n",
       "</g>\n",
       "<!-- C -->\n",
       "<g id=\"node3\" class=\"node\">\n",
       "<title>C</title>\n",
       "<g id=\"a_node3\"><a xlink:title=\"(2) C\">\n",
       "<ellipse fill=\"#404040\" stroke=\"black\" cx=\"27\" cy=\"-90\" rx=\"27\" ry=\"18\"/>\n",
       "<text text-anchor=\"middle\" x=\"27\" y=\"-86.3\" font-family=\"Times New Roman,serif\" font-size=\"14.00\" fill=\"white\">C</text>\n",
       "</a>\n",
       "</g>\n",
       "</g>\n",
       "<!-- B&#45;&gt;C -->\n",
       "<g id=\"edge2\" class=\"edge\">\n",
       "<title>B-&gt;C</title>\n",
       "<g id=\"a_edge2\"><a xlink:title=\"(1, 2) : \">\n",
       "<path fill=\"none\" stroke=\"#4a4a4a\" d=\"M27,-143.7C27,-135.98 27,-126.71 27,-118.11\"/>\n",
       "<polygon fill=\"#4a4a4a\" stroke=\"#4a4a4a\" points=\"30.5,-118.1 27,-108.1 23.5,-118.1 30.5,-118.1\"/>\n",
       "</a>\n",
       "</g>\n",
       "</g>\n",
       "<!-- D -->\n",
       "<g id=\"node4\" class=\"node\">\n",
       "<title>D</title>\n",
       "<g id=\"a_node4\"><a xlink:title=\"(3) D\">\n",
       "<ellipse fill=\"#404040\" stroke=\"black\" cx=\"99\" cy=\"-18\" rx=\"27\" ry=\"18\"/>\n",
       "<text text-anchor=\"middle\" x=\"99\" y=\"-14.3\" font-family=\"Times New Roman,serif\" font-size=\"14.00\" fill=\"white\">D</text>\n",
       "</a>\n",
       "</g>\n",
       "</g>\n",
       "<!-- C&#45;&gt;D -->\n",
       "<g id=\"edge6\" class=\"edge\">\n",
       "<title>C-&gt;D</title>\n",
       "<g id=\"a_edge6\"><a xlink:title=\"(2, 3) : \">\n",
       "<path fill=\"none\" stroke=\"#4a4a4a\" d=\"M41.57,-74.83C51.75,-64.94 65.52,-51.55 77.03,-40.36\"/>\n",
       "<polygon fill=\"#4a4a4a\" stroke=\"#4a4a4a\" points=\"79.47,-42.87 84.2,-33.38 74.59,-37.85 79.47,-42.87\"/>\n",
       "</a>\n",
       "</g>\n",
       "</g>\n",
       "<!-- H -->\n",
       "<g id=\"node7\" class=\"node\">\n",
       "<title>H</title>\n",
       "<g id=\"a_node7\"><a xlink:title=\"(6) H\">\n",
       "<ellipse fill=\"#404040\" stroke=\"black\" cx=\"27\" cy=\"-18\" rx=\"27\" ry=\"18\"/>\n",
       "<text text-anchor=\"middle\" x=\"27\" y=\"-14.3\" font-family=\"Times New Roman,serif\" font-size=\"14.00\" fill=\"white\">H</text>\n",
       "</a>\n",
       "</g>\n",
       "</g>\n",
       "<!-- C&#45;&gt;H -->\n",
       "<g id=\"edge7\" class=\"edge\">\n",
       "<title>C-&gt;H</title>\n",
       "<g id=\"a_edge7\"><a xlink:title=\"(2, 6) : \">\n",
       "<path fill=\"none\" stroke=\"#4a4a4a\" d=\"M27,-71.7C27,-63.98 27,-54.71 27,-46.11\"/>\n",
       "<polygon fill=\"#4a4a4a\" stroke=\"#4a4a4a\" points=\"30.5,-46.1 27,-36.1 23.5,-46.1 30.5,-46.1\"/>\n",
       "</a>\n",
       "</g>\n",
       "</g>\n",
       "<!-- E&#45;&gt;D -->\n",
       "<g id=\"edge4\" class=\"edge\">\n",
       "<title>E-&gt;D</title>\n",
       "<g id=\"a_edge4\"><a xlink:title=\"(4, 3) : \">\n",
       "<path fill=\"none\" stroke=\"#4a4a4a\" d=\"M99,-71.7C99,-63.98 99,-54.71 99,-46.11\"/>\n",
       "<polygon fill=\"#4a4a4a\" stroke=\"#4a4a4a\" points=\"102.5,-46.1 99,-36.1 95.5,-46.1 102.5,-46.1\"/>\n",
       "</a>\n",
       "</g>\n",
       "</g>\n",
       "<!-- F -->\n",
       "<g id=\"node6\" class=\"node\">\n",
       "<title>F</title>\n",
       "<g id=\"a_node6\"><a xlink:title=\"(5) F\">\n",
       "<ellipse fill=\"#404040\" stroke=\"black\" cx=\"27\" cy=\"-234\" rx=\"27\" ry=\"18\"/>\n",
       "<text text-anchor=\"middle\" x=\"27\" y=\"-230.3\" font-family=\"Times New Roman,serif\" font-size=\"14.00\" fill=\"white\">F</text>\n",
       "</a>\n",
       "</g>\n",
       "</g>\n",
       "<!-- F&#45;&gt;B -->\n",
       "<g id=\"edge5\" class=\"edge\">\n",
       "<title>F-&gt;B</title>\n",
       "<g id=\"a_edge5\"><a xlink:title=\"(5, 1) : \">\n",
       "<path fill=\"none\" stroke=\"#4a4a4a\" d=\"M27,-215.7C27,-207.98 27,-198.71 27,-190.11\"/>\n",
       "<polygon fill=\"#4a4a4a\" stroke=\"#4a4a4a\" points=\"30.5,-190.1 27,-180.1 23.5,-190.1 30.5,-190.1\"/>\n",
       "</a>\n",
       "</g>\n",
       "</g>\n",
       "</g>\n",
       "</svg>"
      ],
      "text/plain": [
       "(gum::BayesNet<double>@00000126FEE75330) BN{nodes: 7, arcs: 7, domainSize: 128, dim: 32}"
      ]
     },
     "execution_count": 2,
     "metadata": {},
     "output_type": "execute_result"
    }
   ],
   "source": [
    "bn=gum.fastBN(\"A->B->C->D;A->E->D;F->B;C->H\")\n",
    "ie=gum.LazyPropagation(bn)\n",
    "bn              "
   ]
  },
  {
   "cell_type": "markdown",
   "metadata": {},
   "source": [
    "Evidence Impact allows the user to analyze the effect of any variables on any other variables"
   ]
  },
  {
   "cell_type": "code",
   "execution_count": 3,
   "metadata": {
    "ExecuteTime": {
     "end_time": "2019-02-25T16:37:46.432896Z",
     "start_time": "2019-02-25T16:37:46.425447Z"
    }
   },
   "outputs": [
    {
     "data": {
      "text/html": [
       "<table style=\"border:1px solid black;\">\n",
       "<tr><th colspan='2'></th><th colspan='2' style='border:1px solid black;color:black;background-color:#808080;'><center>B</center></th></tr>\n",
       "<tr><th style='border:1px solid black;color:black;background-color:#808080'><center>A</center></th><th style='border:1px solid black;color:black;background-color:#808080'><center>H</center></th><th style='border:1px solid black;border-bottom-style: double;color:black;background-color:#BBBBBB'><center>0</center></th><th style='border:1px solid black;border-bottom-style: double;color:black;background-color:#BBBBBB'><center>1</center></th></tr>\n",
       "<tr><th style='border:1px solid black;color:black;background-color:#BBBBBB;' rowspan = '2'><center>0</center></th><th style='border:1px solid black;color:black;background-color:#BBBBBB'><center>0</center></th><td style='color:black;background-color:#c0bd64;text-align:right;'>0.4917</td><td style='color:black;background-color:#bdc064;text-align:right;'>0.5083</td></tr>\n",
       "<tr><th style='border:1px solid black;color:black;background-color:#BBBBBB'><center>1</center></th><td style='color:black;background-color:#c6b764;text-align:right;'>0.4428</td><td style='color:black;background-color:#b7c664;text-align:right;'>0.5572</td></tr>\n",
       "<tr><th style='border:1px solid black;color:black;background-color:#BBBBBB;' rowspan = '2'><center>1</center></th><th style='border:1px solid black;color:black;background-color:#BBBBBB'><center>0</center></th><td style='color:black;background-color:#b9c464;text-align:right;'>0.5444</td><td style='color:black;background-color:#c4b964;text-align:right;'>0.4556</td></tr>\n",
       "<tr><th style='border:1px solid black;color:black;background-color:#BBBBBB'><center>1</center></th><td style='color:black;background-color:#bfbe64;text-align:right;'>0.4954</td><td style='color:black;background-color:#bebf64;text-align:right;'>0.5046</td></tr>\n",
       "</table>"
      ],
      "text/plain": [
       "(gum::Potential<double>@00000126FEB0F610) \n",
       "             ||  B                |\n",
       "H     |A     ||0        |1        |\n",
       "------|------||---------|---------|\n",
       "0     |0     || 0.4917  | 0.5083  |\n",
       "1     |0     || 0.4428  | 0.5572  |\n",
       "0     |1     || 0.5444  | 0.4556  |\n",
       "1     |1     || 0.4954  | 0.5046  |"
      ]
     },
     "execution_count": 3,
     "metadata": {},
     "output_type": "execute_result"
    }
   ],
   "source": [
    "ie.evidenceImpact(\"B\",[\"A\",\"H\"])"
   ]
  },
  {
   "cell_type": "markdown",
   "metadata": {
    "ExecuteTime": {
     "end_time": "2018-09-11T07:44:32.291529Z",
     "start_time": "2018-09-11T07:44:32.271183Z"
    }
   },
   "source": [
    "Evidence impact is able to find the minimum set of variables which effectively conditions the analyzed variable"
   ]
  },
  {
   "cell_type": "code",
   "execution_count": 4,
   "metadata": {
    "ExecuteTime": {
     "end_time": "2019-02-25T16:37:46.491139Z",
     "start_time": "2019-02-25T16:37:46.436149Z"
    }
   },
   "outputs": [
    {
     "data": {
      "text/html": [
       "<table style=\"border:1px solid black;\">\n",
       "<tr><th colspan='3'></th><th colspan='2' style='border:1px solid black;color:black;background-color:#808080;'><center>E</center></th></tr>\n",
       "<tr><th style='border:1px solid black;color:black;background-color:#808080'><center>A</center></th><th style='border:1px solid black;color:black;background-color:#808080'><center>B</center></th><th style='border:1px solid black;color:black;background-color:#808080'><center>D</center></th><th style='border:1px solid black;border-bottom-style: double;color:black;background-color:#BBBBBB'><center>0</center></th><th style='border:1px solid black;border-bottom-style: double;color:black;background-color:#BBBBBB'><center>1</center></th></tr>\n",
       "<tr><th style='border:1px solid black;color:black;background-color:#BBBBBB;' rowspan = '4'><center>0</center></th><th style='border:1px solid black;color:black;background-color:#BBBBBB;' rowspan = '2'><center>0</center></th><th style='border:1px solid black;color:black;background-color:#BBBBBB'><center>0</center></th><td style='color:black;background-color:#91ec64;text-align:right;'>0.8525</td><td style='color:black;background-color:#ec9164;text-align:right;'>0.1475</td></tr>\n",
       "<tr><th style='border:1px solid black;color:black;background-color:#BBBBBB'><center>1</center></th><td style='color:black;background-color:#ceaf64;text-align:right;'>0.3775</td><td style='color:black;background-color:#afce64;text-align:right;'>0.6225</td></tr>\n",
       "<tr><th style='border:1px solid black;color:black;background-color:#BBBBBB;' rowspan = '2'><center>1</center></th><th style='border:1px solid black;color:black;background-color:#BBBBBB'><center>0</center></th><td style='color:black;background-color:#97e664;text-align:right;'>0.8123</td><td style='color:black;background-color:#e69764;text-align:right;'>0.1877</td></tr>\n",
       "<tr><th style='border:1px solid black;color:black;background-color:#BBBBBB'><center>1</center></th><td style='color:black;background-color:#ceaf64;text-align:right;'>0.3801</td><td style='color:black;background-color:#afce64;text-align:right;'>0.6199</td></tr>\n",
       "<tr><th style='border:1px solid black;color:black;background-color:#BBBBBB;' rowspan = '4'><center>1</center></th><th style='border:1px solid black;color:black;background-color:#BBBBBB;' rowspan = '2'><center>0</center></th><th style='border:1px solid black;color:black;background-color:#BBBBBB'><center>0</center></th><td style='color:black;background-color:#a0dd64;text-align:right;'>0.7379</td><td style='color:black;background-color:#dda064;text-align:right;'>0.2621</td></tr>\n",
       "<tr><th style='border:1px solid black;color:black;background-color:#BBBBBB'><center>1</center></th><td style='color:black;background-color:#e19c64;text-align:right;'>0.2280</td><td style='color:black;background-color:#9ce164;text-align:right;'>0.7720</td></tr>\n",
       "<tr><th style='border:1px solid black;color:black;background-color:#BBBBBB;' rowspan = '2'><center>1</center></th><th style='border:1px solid black;color:black;background-color:#BBBBBB'><center>0</center></th><td style='color:black;background-color:#a8d564;text-align:right;'>0.6782</td><td style='color:black;background-color:#d5a864;text-align:right;'>0.3218</td></tr>\n",
       "<tr><th style='border:1px solid black;color:black;background-color:#BBBBBB'><center>1</center></th><td style='color:black;background-color:#e19c64;text-align:right;'>0.2299</td><td style='color:black;background-color:#9ce164;text-align:right;'>0.7701</td></tr>\n",
       "</table>"
      ],
      "text/plain": [
       "(gum::Potential<double>@00000126FEB0F4B0) \n",
       "                    ||  E                |\n",
       "D     |B     |A     ||0        |1        |\n",
       "------|------|------||---------|---------|\n",
       "0     |0     |0     || 0.8525  | 0.1475  |\n",
       "1     |0     |0     || 0.3775  | 0.6225  |\n",
       "0     |1     |0     || 0.8123  | 0.1877  |\n",
       "1     |1     |0     || 0.3801  | 0.6199  |\n",
       "0     |0     |1     || 0.7379  | 0.2621  |\n",
       "1     |0     |1     || 0.2280  | 0.7720  |\n",
       "0     |1     |1     || 0.6782  | 0.3218  |\n",
       "1     |1     |1     || 0.2299  | 0.7701  |"
      ]
     },
     "execution_count": 4,
     "metadata": {},
     "output_type": "execute_result"
    }
   ],
   "source": [
    "ie.evidenceImpact(\"E\",[\"A\",\"F\",\"B\",\"D\"]) # {A,D,B} d-separates E and F"
   ]
  },
  {
   "cell_type": "code",
   "execution_count": 5,
   "metadata": {
    "ExecuteTime": {
     "end_time": "2019-02-25T16:37:46.503831Z",
     "start_time": "2019-02-25T16:37:46.493996Z"
    }
   },
   "outputs": [
    {
     "data": {
      "text/html": [
       "<table style=\"border:1px solid black;\">\n",
       "<tr><th colspan='3'></th><th colspan='2' style='border:1px solid black;color:black;background-color:#808080;'><center>E</center></th></tr>\n",
       "<tr><th style='border:1px solid black;color:black;background-color:#808080'><center>C</center></th><th style='border:1px solid black;color:black;background-color:#808080'><center>A</center></th><th style='border:1px solid black;color:black;background-color:#808080'><center>D</center></th><th style='border:1px solid black;border-bottom-style: double;color:black;background-color:#BBBBBB'><center>0</center></th><th style='border:1px solid black;border-bottom-style: double;color:black;background-color:#BBBBBB'><center>1</center></th></tr>\n",
       "<tr><th style='border:1px solid black;color:black;background-color:#BBBBBB;' rowspan = '4'><center>0</center></th><th style='border:1px solid black;color:black;background-color:#BBBBBB;' rowspan = '2'><center>0</center></th><th style='border:1px solid black;color:black;background-color:#BBBBBB'><center>0</center></th><td style='color:black;background-color:#7ffe64;text-align:right;'>0.9976</td><td style='color:black;background-color:#fe7f64;text-align:right;'>0.0024</td></tr>\n",
       "<tr><th style='border:1px solid black;color:black;background-color:#BBBBBB'><center>1</center></th><td style='color:black;background-color:#cfae64;text-align:right;'>0.3727</td><td style='color:black;background-color:#aecf64;text-align:right;'>0.6273</td></tr>\n",
       "<tr><th style='border:1px solid black;color:black;background-color:#BBBBBB;' rowspan = '2'><center>1</center></th><th style='border:1px solid black;color:black;background-color:#BBBBBB'><center>0</center></th><td style='color:black;background-color:#7ffe64;text-align:right;'>0.9950</td><td style='color:black;background-color:#fe7f64;text-align:right;'>0.0050</td></tr>\n",
       "<tr><th style='border:1px solid black;color:black;background-color:#BBBBBB'><center>1</center></th><td style='color:black;background-color:#e29b64;text-align:right;'>0.2243</td><td style='color:black;background-color:#9be264;text-align:right;'>0.7757</td></tr>\n",
       "<tr><th style='border:1px solid black;color:black;background-color:#BBBBBB;' rowspan = '4'><center>1</center></th><th style='border:1px solid black;color:black;background-color:#BBBBBB;' rowspan = '2'><center>0</center></th><th style='border:1px solid black;color:black;background-color:#BBBBBB'><center>0</center></th><td style='color:black;background-color:#a7d664;text-align:right;'>0.6830</td><td style='color:black;background-color:#d6a764;text-align:right;'>0.3170</td></tr>\n",
       "<tr><th style='border:1px solid black;color:black;background-color:#BBBBBB'><center>1</center></th><td style='color:black;background-color:#cab364;text-align:right;'>0.4106</td><td style='color:black;background-color:#b3ca64;text-align:right;'>0.5894</td></tr>\n",
       "<tr><th style='border:1px solid black;color:black;background-color:#BBBBBB;' rowspan = '2'><center>1</center></th><th style='border:1px solid black;color:black;background-color:#BBBBBB'><center>0</center></th><td style='color:black;background-color:#bdc064;text-align:right;'>0.5120</td><td style='color:black;background-color:#c0bd64;text-align:right;'>0.4880</td></tr>\n",
       "<tr><th style='border:1px solid black;color:black;background-color:#BBBBBB'><center>1</center></th><td style='color:black;background-color:#de9f64;text-align:right;'>0.2533</td><td style='color:black;background-color:#9fde64;text-align:right;'>0.7467</td></tr>\n",
       "</table>"
      ],
      "text/plain": [
       "(gum::Potential<double>@00000126FEB0F930) \n",
       "                    ||  E                |\n",
       "D     |A     |C     ||0        |1        |\n",
       "------|------|------||---------|---------|\n",
       "0     |0     |0     || 0.9976  | 0.0024  |\n",
       "1     |0     |0     || 0.3727  | 0.6273  |\n",
       "0     |1     |0     || 0.9950  | 0.0050  |\n",
       "1     |1     |0     || 0.2243  | 0.7757  |\n",
       "0     |0     |1     || 0.6830  | 0.3170  |\n",
       "1     |0     |1     || 0.4106  | 0.5894  |\n",
       "0     |1     |1     || 0.5120  | 0.4880  |\n",
       "1     |1     |1     || 0.2533  | 0.7467  |"
      ]
     },
     "execution_count": 5,
     "metadata": {},
     "output_type": "execute_result"
    }
   ],
   "source": [
    "ie.evidenceImpact(\"E\",[\"A\",\"B\",\"C\",\"D\",\"F\"]) # {A,C,D} d-separates E and {B,F}"
   ]
  },
  {
   "cell_type": "code",
   "execution_count": 6,
   "metadata": {
    "ExecuteTime": {
     "end_time": "2019-02-25T16:37:46.514303Z",
     "start_time": "2019-02-25T16:37:46.506505Z"
    }
   },
   "outputs": [
    {
     "data": {
      "text/html": [
       "<table style=\"border:1px solid black;\">\n",
       "<tr><th colspan='3'></th><th colspan='2' style='border:1px solid black;color:black;background-color:#808080;'><center>A</center></th></tr>\n",
       "<tr><th style='border:1px solid black;color:black;background-color:#808080'><center>E</center></th><th style='border:1px solid black;color:black;background-color:#808080'><center>B</center></th><th style='border:1px solid black;color:black;background-color:#808080'><center>F</center></th><th style='border:1px solid black;border-bottom-style: double;color:black;background-color:#BBBBBB'><center>0</center></th><th style='border:1px solid black;border-bottom-style: double;color:black;background-color:#BBBBBB'><center>1</center></th></tr>\n",
       "<tr><th style='border:1px solid black;color:black;background-color:#BBBBBB;' rowspan = '4'><center>0</center></th><th style='border:1px solid black;color:black;background-color:#BBBBBB;' rowspan = '2'><center>0</center></th><th style='border:1px solid black;color:black;background-color:#BBBBBB'><center>0</center></th><td style='text-align:right;'>0.1857</td><td style='text-align:right;'>0.2494</td></tr>\n",
       "<tr><th style='border:1px solid black;color:black;background-color:#BBBBBB'><center>1</center></th><td style='text-align:right;'>0.3006</td><td style='text-align:right;'>0.2643</td></tr>\n",
       "<tr><th style='border:1px solid black;color:black;background-color:#BBBBBB;' rowspan = '2'><center>1</center></th><th style='border:1px solid black;color:black;background-color:#BBBBBB'><center>0</center></th><td style='text-align:right;'>0.2551</td><td style='text-align:right;'>0.1687</td></tr>\n",
       "<tr><th style='border:1px solid black;color:black;background-color:#BBBBBB'><center>1</center></th><td style='text-align:right;'>0.2839</td><td style='text-align:right;'>0.2923</td></tr>\n",
       "<tr><th style='border:1px solid black;color:black;background-color:#BBBBBB;' rowspan = '4'><center>1</center></th><th style='border:1px solid black;color:black;background-color:#BBBBBB;' rowspan = '2'><center>0</center></th><th style='border:1px solid black;color:black;background-color:#BBBBBB'><center>0</center></th><td style='text-align:right;'>0.1205</td><td style='text-align:right;'>0.3323</td></tr>\n",
       "<tr><th style='border:1px solid black;color:black;background-color:#BBBBBB'><center>1</center></th><td style='text-align:right;'>0.1950</td><td style='text-align:right;'>0.3522</td></tr>\n",
       "<tr><th style='border:1px solid black;color:black;background-color:#BBBBBB;' rowspan = '2'><center>1</center></th><th style='border:1px solid black;color:black;background-color:#BBBBBB'><center>0</center></th><td style='text-align:right;'>0.1717</td><td style='text-align:right;'>0.2332</td></tr>\n",
       "<tr><th style='border:1px solid black;color:black;background-color:#BBBBBB'><center>1</center></th><td style='text-align:right;'>0.1910</td><td style='text-align:right;'>0.4041</td></tr>\n",
       "</table>"
      ],
      "text/plain": [
       "(gum::Potential<double>@00000126FEB0FA10) \n",
       "                    ||  A                |\n",
       "F     |B     |E     ||0        |1        |\n",
       "------|------|------||---------|---------|\n",
       "0     |0     |0     || 0.1857  | 0.2494  |\n",
       "1     |0     |0     || 0.3006  | 0.2643  |\n",
       "0     |1     |0     || 0.2551  | 0.1687  |\n",
       "1     |1     |0     || 0.2839  | 0.2923  |\n",
       "0     |0     |1     || 0.1205  | 0.3323  |\n",
       "1     |0     |1     || 0.1950  | 0.3522  |\n",
       "0     |1     |1     || 0.1717  | 0.2332  |\n",
       "1     |1     |1     || 0.1910  | 0.4041  |"
      ]
     },
     "execution_count": 6,
     "metadata": {},
     "output_type": "execute_result"
    }
   ],
   "source": [
    "ie.evidenceJointImpact([\"A\",\"F\"],[\"B\",\"C\",\"D\",\"E\",\"H\"]) # {B,E} d-separates [A,F] and [C,D,H]"
   ]
  },
  {
   "cell_type": "code",
   "execution_count": null,
   "metadata": {},
   "outputs": [],
   "source": []
  }
 ],
 "metadata": {
  "hide_input": false,
  "kernelspec": {
   "display_name": "Python 3",
   "language": "python",
   "name": "python3"
  },
  "language_info": {
   "codemirror_mode": {
    "name": "ipython",
    "version": 3
   },
   "file_extension": ".py",
   "mimetype": "text/x-python",
   "name": "python",
   "nbconvert_exporter": "python",
   "pygments_lexer": "ipython3",
   "version": "3.9.1"
  }
 },
 "nbformat": 4,
 "nbformat_minor": 4
}
