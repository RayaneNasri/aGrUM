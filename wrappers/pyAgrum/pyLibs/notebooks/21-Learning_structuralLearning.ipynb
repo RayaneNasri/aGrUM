{
 "cells": [
  {
   "cell_type": "markdown",
   "metadata": {},
   "source": [
    "<a href=\"http://agrum.org\" target=\"blank\"><img src=\"http://agrum.gitlab.io/theme/img/logoAgrum.png\" align=\"left\" style=\"height:100px\"/></a><a rel=\"license\" href=\"http://creativecommons.org/licenses/by-nc/4.0/\"><img alt=\"Creative Commons License\" style=\"border-width:0\" src=\"https://i.creativecommons.org/l/by-nc/4.0/88x31.png\" /></a><br />This pyAgrum's notebook is licensed under a <a rel=\"license\" href=\"http://creativecommons.org/licenses/by-nc/4.0/\">Creative Commons Attribution-NonCommercial 4.0 International License</a>."
   ]
  },
  {
   "cell_type": "code",
   "execution_count": 1,
   "metadata": {
    "ExecuteTime": {
     "end_time": "2019-02-25T16:05:56.589447Z",
     "start_time": "2019-02-25T16:05:56.340025Z"
    },
    "tags": []
   },
   "outputs": [],
   "source": [
    "%matplotlib inline\n",
    "from pylab import *\n",
    "import matplotlib.pyplot as plt\n",
    "\n",
    "import os"
   ]
  },
  {
   "cell_type": "code",
   "execution_count": 2,
   "metadata": {
    "ExecuteTime": {
     "end_time": "2019-02-25T16:05:56.606581Z",
     "start_time": "2019-02-25T16:05:56.593129Z"
    },
    "tags": []
   },
   "outputs": [
    {
     "name": "stdout",
     "output_type": "stream",
     "text": [
      "pyAgrum version 0.20.3.9\n",
      "(c) 2015-2020 Pierre-Henri Wuillemin, Christophe Gonzales, Lionel Torti\n",
      "\n",
      "    This is free software; see the source code for copying conditions.\n",
      "    There is ABSOLUTELY NO WARRANTY; not even for MERCHANTABILITY or\n",
      "    FITNESS FOR A PARTICULAR PURPOSE.  For details, see 'pyAgrum.warranty'.\n",
      "    \n"
     ]
    },
    {
     "data": {
      "text/html": [
       "<table width='100%'><tr><th>Library</th><th>Version</th></tr><tr><td>OS</td><td>posix [darwin]</td></tr><tr><td>Python</td><td>3.9.6 (default, Jun 29 2021, 05:25:02) \n",
       "[Clang 12.0.5 (clang-1205.0.22.9)]</td></tr><tr><td>IPython</td><td>7.25.0</td></tr><tr><td>MatPlotLib</td><td>3.4.2</td></tr><tr><td>Numpy</td><td>1.21.1</td></tr><tr><td>pyAgrum</td><td>0.20.3.9</td></tr></table><div align='right'><small>Tue Jul 20 14:23:13 2021 CEST</small></div>"
      ],
      "text/plain": [
       "<IPython.core.display.HTML object>"
      ]
     },
     "metadata": {},
     "output_type": "display_data"
    }
   ],
   "source": [
    "import pyAgrum as gum\n",
    "import pyAgrum.lib.notebook as gnb\n",
    "import pyAgrum.lib.explain as explain\n",
    "\n",
    "gum.about()\n",
    "gnb.configuration()\n"
   ]
  },
  {
   "cell_type": "markdown",
   "metadata": {},
   "source": [
    "# Generating the database from a BN"
   ]
  },
  {
   "cell_type": "code",
   "execution_count": 3,
   "metadata": {
    "ExecuteTime": {
     "end_time": "2019-02-25T16:05:58.856678Z",
     "start_time": "2019-02-25T16:05:56.609095Z"
    },
    "tags": []
   },
   "outputs": [
    {
     "data": {
      "text/html": [
       "<svg xmlns=\"http://www.w3.org/2000/svg\" xmlns:xlink=\"http://www.w3.org/1999/xlink\" width=\"325pt\" height=\"260pt\" viewBox=\"0.00 0.00 324.94 260.00\">\n",
       "<g id=\"graph0\" class=\"graph\" transform=\"scale(1 1) rotate(0) translate(4 256)\">\n",
       "<title>G</title>\n",
       "<!-- visit_to_Asia -->\n",
       "<g id=\"node1\" class=\"node\">\n",
       "<title>visit_to_Asia</title>\n",
       "<g id=\"a_node1\"><a xlink:title=\"(0) visit_to_Asia\">\n",
       "<ellipse fill=\"#404040\" stroke=\"black\" cx=\"59.14\" cy=\"-234\" rx=\"59.29\" ry=\"18\"/>\n",
       "<text text-anchor=\"middle\" x=\"59.14\" y=\"-230.3\" font-family=\"Times,serif\" font-size=\"14.00\" fill=\"white\">visit_to_Asia</text>\n",
       "</a>\n",
       "</g>\n",
       "</g>\n",
       "<!-- tuberculosis -->\n",
       "<g id=\"node3\" class=\"node\">\n",
       "<title>tuberculosis</title>\n",
       "<g id=\"a_node3\"><a xlink:title=\"(1) tuberculosis\">\n",
       "<ellipse fill=\"#404040\" stroke=\"black\" cx=\"59.14\" cy=\"-162\" rx=\"54.69\" ry=\"18\"/>\n",
       "<text text-anchor=\"middle\" x=\"59.14\" y=\"-158.3\" font-family=\"Times,serif\" font-size=\"14.00\" fill=\"white\">tuberculosis</text>\n",
       "</a>\n",
       "</g>\n",
       "</g>\n",
       "<!-- visit_to_Asia&#45;&gt;tuberculosis -->\n",
       "<g id=\"edge1\" class=\"edge\">\n",
       "<title>visit_to_Asia-&gt;tuberculosis</title>\n",
       "<g id=\"a_edge1\"><a xlink:title=\"(0, 1) : \">\n",
       "<path fill=\"none\" stroke=\"#4a4a4a\" d=\"M59.14,-215.7C59.14,-207.98 59.14,-198.71 59.14,-190.11\"/>\n",
       "<polygon fill=\"#4a4a4a\" stroke=\"#4a4a4a\" points=\"62.64,-190.1 59.14,-180.1 55.64,-190.1 62.64,-190.1\"/>\n",
       "</a>\n",
       "</g>\n",
       "</g>\n",
       "<!-- positive_XraY -->\n",
       "<g id=\"node2\" class=\"node\">\n",
       "<title>positive_XraY</title>\n",
       "<g id=\"a_node2\"><a xlink:title=\"(3) positive_XraY\">\n",
       "<ellipse fill=\"#404040\" stroke=\"black\" cx=\"116.14\" cy=\"-18\" rx=\"64.19\" ry=\"18\"/>\n",
       "<text text-anchor=\"middle\" x=\"116.14\" y=\"-14.3\" font-family=\"Times,serif\" font-size=\"14.00\" fill=\"white\">positive_XraY</text>\n",
       "</a>\n",
       "</g>\n",
       "</g>\n",
       "<!-- tuberculos_or_cancer -->\n",
       "<g id=\"node6\" class=\"node\">\n",
       "<title>tuberculos_or_cancer</title>\n",
       "<g id=\"a_node6\"><a xlink:title=\"(2) tuberculos_or_cancer\">\n",
       "<ellipse fill=\"#404040\" stroke=\"black\" cx=\"116.14\" cy=\"-90\" rx=\"89.08\" ry=\"18\"/>\n",
       "<text text-anchor=\"middle\" x=\"116.14\" y=\"-86.3\" font-family=\"Times,serif\" font-size=\"14.00\" fill=\"white\">tuberculos_or_cancer</text>\n",
       "</a>\n",
       "</g>\n",
       "</g>\n",
       "<!-- tuberculosis&#45;&gt;tuberculos_or_cancer -->\n",
       "<g id=\"edge2\" class=\"edge\">\n",
       "<title>tuberculosis-&gt;tuberculos_or_cancer</title>\n",
       "<g id=\"a_edge2\"><a xlink:title=\"(1, 2) : \">\n",
       "<path fill=\"none\" stroke=\"#4a4a4a\" d=\"M72.65,-144.41C79.58,-135.91 88.16,-125.37 95.86,-115.91\"/>\n",
       "<polygon fill=\"#4a4a4a\" stroke=\"#4a4a4a\" points=\"98.74,-117.92 102.34,-107.96 93.31,-113.5 98.74,-117.92\"/>\n",
       "</a>\n",
       "</g>\n",
       "</g>\n",
       "<!-- lung_cancer -->\n",
       "<g id=\"node4\" class=\"node\">\n",
       "<title>lung_cancer</title>\n",
       "<g id=\"a_node4\"><a xlink:title=\"(4) lung_cancer\">\n",
       "<ellipse fill=\"#404040\" stroke=\"black\" cx=\"187.14\" cy=\"-162\" rx=\"55.49\" ry=\"18\"/>\n",
       "<text text-anchor=\"middle\" x=\"187.14\" y=\"-158.3\" font-family=\"Times,serif\" font-size=\"14.00\" fill=\"white\">lung_cancer</text>\n",
       "</a>\n",
       "</g>\n",
       "</g>\n",
       "<!-- lung_cancer&#45;&gt;tuberculos_or_cancer -->\n",
       "<g id=\"edge5\" class=\"edge\">\n",
       "<title>lung_cancer-&gt;tuberculos_or_cancer</title>\n",
       "<g id=\"a_edge5\"><a xlink:title=\"(4, 2) : \">\n",
       "<path fill=\"none\" stroke=\"#4a4a4a\" d=\"M170.68,-144.76C161.8,-136.01 150.66,-125.03 140.77,-115.28\"/>\n",
       "<polygon fill=\"#4a4a4a\" stroke=\"#4a4a4a\" points=\"143.09,-112.65 133.51,-108.12 138.18,-117.64 143.09,-112.65\"/>\n",
       "</a>\n",
       "</g>\n",
       "</g>\n",
       "<!-- smoking -->\n",
       "<g id=\"node5\" class=\"node\">\n",
       "<title>smoking</title>\n",
       "<g id=\"a_node5\"><a xlink:title=\"(5) smoking\">\n",
       "<ellipse fill=\"#404040\" stroke=\"black\" cx=\"228.14\" cy=\"-234\" rx=\"42.49\" ry=\"18\"/>\n",
       "<text text-anchor=\"middle\" x=\"228.14\" y=\"-230.3\" font-family=\"Times,serif\" font-size=\"14.00\" fill=\"white\">smoking</text>\n",
       "</a>\n",
       "</g>\n",
       "</g>\n",
       "<!-- smoking&#45;&gt;lung_cancer -->\n",
       "<g id=\"edge4\" class=\"edge\">\n",
       "<title>smoking-&gt;lung_cancer</title>\n",
       "<g id=\"a_edge4\"><a xlink:title=\"(5, 4) : \">\n",
       "<path fill=\"none\" stroke=\"#4a4a4a\" d=\"M218.43,-216.41C213.6,-208.16 207.65,-198.01 202.24,-188.78\"/>\n",
       "<polygon fill=\"#4a4a4a\" stroke=\"#4a4a4a\" points=\"205.15,-186.82 197.08,-179.96 199.11,-190.35 205.15,-186.82\"/>\n",
       "</a>\n",
       "</g>\n",
       "</g>\n",
       "<!-- bronchitis -->\n",
       "<g id=\"node8\" class=\"node\">\n",
       "<title>bronchitis</title>\n",
       "<g id=\"a_node8\"><a xlink:title=\"(6) bronchitis\">\n",
       "<ellipse fill=\"#404040\" stroke=\"black\" cx=\"270.14\" cy=\"-90\" rx=\"46.59\" ry=\"18\"/>\n",
       "<text text-anchor=\"middle\" x=\"270.14\" y=\"-86.3\" font-family=\"Times,serif\" font-size=\"14.00\" fill=\"white\">bronchitis</text>\n",
       "</a>\n",
       "</g>\n",
       "</g>\n",
       "<!-- smoking&#45;&gt;bronchitis -->\n",
       "<g id=\"edge8\" class=\"edge\">\n",
       "<title>smoking-&gt;bronchitis</title>\n",
       "<g id=\"a_edge8\"><a xlink:title=\"(5, 6) : \">\n",
       "<path fill=\"none\" stroke=\"#4a4a4a\" d=\"M236.49,-216.15C241.3,-205.89 247.17,-192.42 251.14,-180 257.68,-159.59 262.62,-135.83 265.83,-117.99\"/>\n",
       "<polygon fill=\"#4a4a4a\" stroke=\"#4a4a4a\" points=\"269.3,-118.44 267.55,-107.99 262.4,-117.25 269.3,-118.44\"/>\n",
       "</a>\n",
       "</g>\n",
       "</g>\n",
       "<!-- tuberculos_or_cancer&#45;&gt;positive_XraY -->\n",
       "<g id=\"edge6\" class=\"edge\">\n",
       "<title>tuberculos_or_cancer-&gt;positive_XraY</title>\n",
       "<g id=\"a_edge6\"><a xlink:title=\"(2, 3) : \">\n",
       "<path fill=\"none\" stroke=\"#4a4a4a\" d=\"M116.14,-71.7C116.14,-63.98 116.14,-54.71 116.14,-46.11\"/>\n",
       "<polygon fill=\"#4a4a4a\" stroke=\"#4a4a4a\" points=\"119.64,-46.1 116.14,-36.1 112.64,-46.1 119.64,-46.1\"/>\n",
       "</a>\n",
       "</g>\n",
       "</g>\n",
       "<!-- dyspnoea -->\n",
       "<g id=\"node7\" class=\"node\">\n",
       "<title>dyspnoea</title>\n",
       "<g id=\"a_node7\"><a xlink:title=\"(7) dyspnoea\">\n",
       "<ellipse fill=\"#404040\" stroke=\"black\" cx=\"256.14\" cy=\"-18\" rx=\"44.69\" ry=\"18\"/>\n",
       "<text text-anchor=\"middle\" x=\"256.14\" y=\"-14.3\" font-family=\"Times,serif\" font-size=\"14.00\" fill=\"white\">dyspnoea</text>\n",
       "</a>\n",
       "</g>\n",
       "</g>\n",
       "<!-- tuberculos_or_cancer&#45;&gt;dyspnoea -->\n",
       "<g id=\"edge3\" class=\"edge\">\n",
       "<title>tuberculos_or_cancer-&gt;dyspnoea</title>\n",
       "<g id=\"a_edge3\"><a xlink:title=\"(2, 7) : \">\n",
       "<path fill=\"none\" stroke=\"#4a4a4a\" d=\"M147.91,-73.12C169.37,-62.39 197.75,-48.2 220.06,-37.04\"/>\n",
       "<polygon fill=\"#4a4a4a\" stroke=\"#4a4a4a\" points=\"221.83,-40.07 229.21,-32.47 218.7,-33.81 221.83,-40.07\"/>\n",
       "</a>\n",
       "</g>\n",
       "</g>\n",
       "<!-- bronchitis&#45;&gt;dyspnoea -->\n",
       "<g id=\"edge7\" class=\"edge\">\n",
       "<title>bronchitis-&gt;dyspnoea</title>\n",
       "<g id=\"a_edge7\"><a xlink:title=\"(6, 7) : \">\n",
       "<path fill=\"none\" stroke=\"#4a4a4a\" d=\"M266.68,-71.7C265.14,-63.98 263.29,-54.71 261.57,-46.11\"/>\n",
       "<polygon fill=\"#4a4a4a\" stroke=\"#4a4a4a\" points=\"264.96,-45.22 259.57,-36.1 258.09,-46.6 264.96,-45.22\"/>\n",
       "</a>\n",
       "</g>\n",
       "</g>\n",
       "</g>\n",
       "</svg>"
      ],
      "text/plain": [
       "(gum::BayesNet<double>@0x7f89ba86c200) BN{nodes: 8, arcs: 8, domainSize: 256, dim: 36}"
      ]
     },
     "execution_count": 3,
     "metadata": {},
     "output_type": "execute_result"
    }
   ],
   "source": [
    "bn=gum.loadBN(\"res/asia.bif\")\n",
    "bn"
   ]
  },
  {
   "cell_type": "code",
   "execution_count": 4,
   "metadata": {
    "ExecuteTime": {
     "end_time": "2019-02-25T16:06:00.887409Z",
     "start_time": "2019-02-25T16:05:58.860747Z"
    },
    "tags": []
   },
   "outputs": [
    {
     "name": "stderr",
     "output_type": "stream",
     "text": [
      "out/sample_asia.csv: 100%|█████████████████████████████████|\n"
     ]
    },
    {
     "name": "stdout",
     "output_type": "stream",
     "text": [
      "Log2-Likelihood : -1612635.5358070491\n"
     ]
    },
    {
     "data": {
      "text/plain": [
       "-1612635.5358070491"
      ]
     },
     "execution_count": 4,
     "metadata": {},
     "output_type": "execute_result"
    }
   ],
   "source": [
    "gum.generateCSV(bn,\"out/sample_asia.csv\",500000,True)"
   ]
  },
  {
   "cell_type": "code",
   "execution_count": null,
   "metadata": {
    "ExecuteTime": {
     "end_time": "2019-02-25T16:06:00.909697Z",
     "start_time": "2019-02-25T16:06:00.892669Z"
    },
    "tags": []
   },
   "outputs": [],
   "source": [
    "with open(\"out/sample_asia.csv\",\"r\") as src:\n",
    "    for _ in range(10):\n",
    "        print(src.readline(),end=\"\")"
   ]
  },
  {
   "cell_type": "code",
   "execution_count": null,
   "metadata": {
    "ExecuteTime": {
     "end_time": "2019-02-25T16:06:01.280661Z",
     "start_time": "2019-02-25T16:06:00.911900Z"
    },
    "tags": []
   },
   "outputs": [],
   "source": [
    "learner=gum.BNLearner(\"out/sample_asia.csv\",bn) #using bn as template for variables\n",
    "print(learner)\n"
   ]
  },
  {
   "cell_type": "code",
   "execution_count": null,
   "metadata": {
    "ExecuteTime": {
     "end_time": "2019-02-25T16:06:01.288671Z",
     "start_time": "2019-02-25T16:06:01.282789Z"
    },
    "tags": []
   },
   "outputs": [],
   "source": [
    "print(f\"Row of visit_to_Asia : {learner.idFromName('visit_to_Asia')}\") # first row is 0"
   ]
  },
  {
   "cell_type": "code",
   "execution_count": null,
   "metadata": {
    "ExecuteTime": {
     "end_time": "2019-02-25T16:06:01.296402Z",
     "start_time": "2019-02-25T16:06:01.290350Z"
    },
    "tags": []
   },
   "outputs": [],
   "source": [
    "print(f\"Variable in row 4 : {learner.nameFromId(4)}\")"
   ]
  },
  {
   "cell_type": "markdown",
   "metadata": {},
   "source": [
    "The BNLearner is capable of recognizing missing values in databases. For this purpose, just indicate as a last argument the list of the strings that represent missing values. "
   ]
  },
  {
   "cell_type": "code",
   "execution_count": null,
   "metadata": {
    "ExecuteTime": {
     "end_time": "2019-02-25T16:06:01.689902Z",
     "start_time": "2019-02-25T16:06:01.298653Z"
    },
    "tags": []
   },
   "outputs": [],
   "source": [
    "# it is possible to add as a last argument a list of the symbols that represent missing values:\n",
    "# whenever a cell of the database is equal to one of these strings, it is considered as a \n",
    "# missing value\n",
    "learner=gum.BNLearner(\"res/asia_missing.csv\",bn, ['?', 'N/A'] )\n",
    "print(f\"Are there missing values in the database ? {learner.state()['Missing values'][0]}\")"
   ]
  },
  {
   "cell_type": "markdown",
   "metadata": {},
   "source": [
    "# Parameters learning from the database"
   ]
  },
  {
   "cell_type": "markdown",
   "metadata": {},
   "source": [
    "We give the $bn$ as a parameter for the learner in order to have the variables and the order of the labels for each variables. Please try to remove the argument $bn$ in the first line below to see the difference ..."
   ]
  },
  {
   "cell_type": "code",
   "execution_count": null,
   "metadata": {
    "ExecuteTime": {
     "end_time": "2019-02-25T16:06:04.562821Z",
     "start_time": "2019-02-25T16:06:01.721531Z"
    },
    "tags": []
   },
   "outputs": [],
   "source": [
    "learner=gum.BNLearner(\"out/sample_asia.csv\",bn) #using bn as template for variables and labels\n",
    "bn2=learner.learnParameters(bn.dag())\n",
    "gnb.showBN(bn2)"
   ]
  },
  {
   "cell_type": "code",
   "execution_count": null,
   "metadata": {
    "ExecuteTime": {
     "end_time": "2019-02-25T16:06:04.578859Z",
     "start_time": "2019-02-25T16:06:04.566656Z"
    },
    "tags": []
   },
   "outputs": [],
   "source": [
    "from IPython.display import HTML\n",
    "\n",
    "HTML('<table><tr><td style=\"text-align:center;\"><h3>original BN</h3></td>'+\n",
    "     '<td style=\"text-align:center;\"><h3>Learned BN</h3></td></tr>'+\n",
    "     '<tr><td><center>'+\n",
    "     gnb.getPotential(bn.cpt (bn.idFromName('visit_to_Asia')))\n",
    "     +'</center></td><td><center>'+\n",
    "     gnb.getPotential(bn2.cpt(bn2.idFromName('visit_to_Asia')))\n",
    "     +'</center></td></tr><tr><td><center>'+\n",
    "     gnb.getPotential(bn.cpt (bn.idFromName('tuberculosis')))\n",
    "     +'</center></td><td><center>'+\n",
    "     gnb.getPotential(bn2.cpt(bn2.idFromName('tuberculosis')))\n",
    "     +'</center></td></tr></table>')"
   ]
  },
  {
   "cell_type": "markdown",
   "metadata": {},
   "source": [
    "# Structural learning a BN from the database"
   ]
  },
  {
   "cell_type": "markdown",
   "metadata": {},
   "source": [
    "Note that, currently, the BNLearner is not yet able to learn in the presence of missing values. This is the reason why, when it discovers that there exist such values, it raises a gum.MissingValueInDatabase exception."
   ]
  },
  {
   "cell_type": "code",
   "execution_count": null,
   "metadata": {
    "ExecuteTime": {
     "end_time": "2019-02-25T16:06:01.713354Z",
     "start_time": "2019-02-25T16:06:01.697506Z"
    },
    "tags": []
   },
   "outputs": [],
   "source": [
    "with open(\"res/asia_missing.csv\",\"r\") as asiafile:\n",
    "    for _ in range(10):\n",
    "        print(asiafile.readline(),end=\"\")\n",
    "try:\n",
    "    learner=gum.BNLearner(\"res/asia_missing.csv\",bn, ['?', 'N/A'] )\n",
    "    bn2=learner.learnBN()\n",
    "except gum.MissingValueInDatabase:\n",
    "    print ( \"exception raised: there are missing values in the database\" )"
   ]
  },
  {
   "cell_type": "markdown",
   "metadata": {},
   "source": [
    "## Different learning algorithms"
   ]
  },
  {
   "cell_type": "markdown",
   "metadata": {},
   "source": [
    "For now, there are three algorithms that are wrapped in pyAgrum : LocalSearchWithTabuList,"
   ]
  },
  {
   "cell_type": "code",
   "execution_count": null,
   "metadata": {
    "ExecuteTime": {
     "end_time": "2019-02-25T16:06:10.743941Z",
     "start_time": "2019-02-25T16:06:04.580386Z"
    },
    "tags": []
   },
   "outputs": [],
   "source": [
    "learner=gum.BNLearner(\"out/sample_asia.csv\",bn) #using bn as template for variables\n",
    "learner.useLocalSearchWithTabuList()\n",
    "print(learner)\n",
    "bn2=learner.learnBN()\n",
    "print(\"Learned in {0}ms\".format(1000*learner.currentTime()))\n",
    "gnb.sideBySide(bn2,explain.getInformation(bn2))\n",
    "kl=gum.ExactBNdistance(bn,bn2)\n",
    "kl.compute()\n"
   ]
  },
  {
   "cell_type": "markdown",
   "metadata": {},
   "source": [
    "A greedy Hill Climbing algorithm (with insert, remove and change arc as atomic operations)."
   ]
  },
  {
   "cell_type": "code",
   "execution_count": null,
   "metadata": {
    "ExecuteTime": {
     "end_time": "2019-02-25T16:06:15.947605Z",
     "start_time": "2019-02-25T16:06:10.751629Z"
    },
    "tags": []
   },
   "outputs": [],
   "source": [
    "learner=gum.BNLearner(\"out/sample_asia.csv\",bn) #using bn as template for variables\n",
    "learner.useGreedyHillClimbing()\n",
    "print(learner)\n",
    "bn2=learner.learnBN()\n",
    "print(\"Learned in {0}ms\".format(1000*learner.currentTime()))\n",
    "gnb.sideBySide(bn2,explain.getInformation(bn2))"
   ]
  },
  {
   "cell_type": "markdown",
   "metadata": {},
   "source": [
    "And a K2 for those who likes it :)"
   ]
  },
  {
   "cell_type": "code",
   "execution_count": null,
   "metadata": {
    "ExecuteTime": {
     "end_time": "2019-02-25T16:06:18.824415Z",
     "start_time": "2019-02-25T16:06:15.950046Z"
    },
    "tags": []
   },
   "outputs": [],
   "source": [
    "learner=gum.BNLearner(\"out/sample_asia.csv\",bn) #using bn as template for variables\n",
    "learner.useK2([0,1,2,3,4,5,6,7])\n",
    "print(learner)\n",
    "bn2=learner.learnBN()\n",
    "print(\"Learned in {0}ms\".format(1000*learner.currentTime()))\n",
    "bn2"
   ]
  },
  {
   "cell_type": "markdown",
   "metadata": {},
   "source": [
    "K2 can be very good if the order is the good one (a topological order of nodes in the reference)\n"
   ]
  },
  {
   "cell_type": "code",
   "execution_count": null,
   "metadata": {
    "ExecuteTime": {
     "end_time": "2019-02-25T16:06:21.488862Z",
     "start_time": "2019-02-25T16:06:18.827078Z"
    },
    "tags": []
   },
   "outputs": [],
   "source": [
    "learner=gum.BNLearner(\"out/sample_asia.csv\",bn) #using bn as template for variables\n",
    "learner.useK2([7,6,5,4,3,2,1,0])\n",
    "print(learner)\n",
    "bn2=learner.learnBN()\n",
    "print(\"Learned in {0}s\".format(learner.currentTime()))\n",
    "bn2"
   ]
  },
  {
   "cell_type": "markdown",
   "metadata": {},
   "source": [
    "# Following the learning curve"
   ]
  },
  {
   "cell_type": "code",
   "execution_count": null,
   "metadata": {
    "ExecuteTime": {
     "end_time": "2019-02-25T16:06:25.496652Z",
     "start_time": "2019-02-25T16:06:21.491848Z"
    },
    "tags": []
   },
   "outputs": [],
   "source": [
    "import numpy as np\n",
    "%matplotlib inline\n",
    "\n",
    "learner=gum.BNLearner(\"out/sample_asia.csv\",bn) #using bn as template for variables\n",
    "learner.useLocalSearchWithTabuList()\n",
    "\n",
    "# we could prefere a log2likelihood score\n",
    "# learner.useScoreLog2Likelihood()\n",
    "learner.setMaxTime(10)\n",
    "\n",
    "# representation of the error as a pseudo log (negative values really represents negative epsilon\n",
    "@np.vectorize\n",
    "def pseudolog(x):\n",
    "    seuil=2.0\n",
    "    y=-x if x<0 else x\n",
    "        \n",
    "    if y<seuil:\n",
    "        res=y*np.log10(seuil)/seuil\n",
    "    else:\n",
    "        res=np.log10(y)\n",
    "        \n",
    "    return res if x>0 else -res\n",
    "\n",
    "# in order to control the complexity, we limit the number of parents\n",
    "learner.setMaxIndegree(3) # no more than 3 parent by node\n",
    "gnb.animApproximationScheme(learner,\n",
    "                            scale=pseudolog) # scale by default is np.log10\n",
    "\n",
    "bn2=learner.learnBN()\n"
   ]
  },
  {
   "cell_type": "markdown",
   "metadata": {},
   "source": [
    "# Customizing the learning algorithms"
   ]
  },
  {
   "cell_type": "markdown",
   "metadata": {},
   "source": [
    "## 1. Learn a tree ?"
   ]
  },
  {
   "cell_type": "code",
   "execution_count": null,
   "metadata": {
    "ExecuteTime": {
     "end_time": "2019-02-25T16:06:28.538432Z",
     "start_time": "2019-02-25T16:06:25.501857Z"
    },
    "tags": []
   },
   "outputs": [],
   "source": [
    "learner=gum.BNLearner(\"out/sample_asia.csv\",bn) #using bn as template for variables\n",
    "learner.useGreedyHillClimbing()\n",
    "\n",
    "learner.setMaxIndegree(1) # no more than 1 parent by node\n",
    "print(learner)\n",
    "bntree=learner.learnBN()\n",
    "bntree"
   ]
  },
  {
   "cell_type": "markdown",
   "metadata": {},
   "source": [
    "## 2. with prior structural knowledge"
   ]
  },
  {
   "cell_type": "code",
   "execution_count": null,
   "metadata": {
    "ExecuteTime": {
     "end_time": "2019-02-25T16:06:31.955846Z",
     "start_time": "2019-02-25T16:06:28.540905Z"
    },
    "tags": []
   },
   "outputs": [],
   "source": [
    "learner=gum.BNLearner(\"out/sample_asia.csv\",bn) #using bn as template for variables\n",
    "learner.useGreedyHillClimbing()\n",
    "\n",
    "# I know that smoking causes cancer\n",
    "learner.addMandatoryArc(\"smoking\",\"lung_cancer\") # smoking->lung_cancer\n",
    "# I know that visit to Asia may change the risk of tuberculosis\n",
    "learner.addMandatoryArc(\"visit_to_Asia\",\"tuberculosis\") # visit_to_Asia->tuberculosis\n",
    "print(learner)\n",
    "bn2=learner.learnBN()\n",
    "gnb.showBN(bn2,size=\"5\")"
   ]
  },
  {
   "cell_type": "markdown",
   "metadata": {},
   "source": [
    "## 3. comparing BNs"
   ]
  },
  {
   "cell_type": "code",
   "execution_count": null,
   "metadata": {
    "ExecuteTime": {
     "end_time": "2019-02-25T16:06:31.968071Z",
     "start_time": "2019-02-25T16:06:31.960359Z"
    },
    "tags": []
   },
   "outputs": [],
   "source": [
    "help(gnb.getBNDiff)"
   ]
  },
  {
   "cell_type": "code",
   "execution_count": null,
   "metadata": {
    "ExecuteTime": {
     "end_time": "2019-02-25T16:06:38.605516Z",
     "start_time": "2019-02-25T16:06:31.970207Z"
    },
    "tags": []
   },
   "outputs": [],
   "source": [
    "gnb.sideBySide(bn,bn2,gnb.getBNDiff(bn,bn2),\n",
    "              captions=['target','learned BN','graphical diffs between target and learned'])"
   ]
  },
  {
   "cell_type": "code",
   "execution_count": null,
   "metadata": {
    "ExecuteTime": {
     "end_time": "2019-02-25T16:06:38.614191Z",
     "start_time": "2019-02-25T16:06:38.607738Z"
    },
    "tags": []
   },
   "outputs": [],
   "source": [
    "kl=gum.ExactBNdistance (bn,bn2)\n",
    "kl.compute()"
   ]
  },
  {
   "cell_type": "markdown",
   "metadata": {},
   "source": [
    "## 3. changing the scores"
   ]
  },
  {
   "cell_type": "markdown",
   "metadata": {},
   "source": [
    "By default, a BDEU score is used. But it can be changed."
   ]
  },
  {
   "cell_type": "code",
   "execution_count": null,
   "metadata": {
    "ExecuteTime": {
     "end_time": "2019-02-25T16:06:41.657136Z",
     "start_time": "2019-02-25T16:06:38.616123Z"
    },
    "tags": []
   },
   "outputs": [],
   "source": [
    "learner=gum.BNLearner(\"out/sample_asia.csv\",bn) #using bn as template for variables\n",
    "learner.useGreedyHillClimbing()\n",
    "\n",
    "# I know that smoking causes cancer\n",
    "learner.addMandatoryArc(0,1)\n",
    "\n",
    "# we prefere a log2likelihood score\n",
    "learner.useScoreLog2Likelihood()\n",
    "\n",
    "# in order to control the complexity, we limit the number of parents\n",
    "learner.setMaxIndegree(1) # no more than 1 parent by node\n",
    "print(learner)\n",
    "bn2=learner.learnBN()\n",
    "kl=gum.ExactBNdistance(bn,bn2)\n",
    "gnb.sideBySide(bn2,\n",
    "               \"<br/>\".join([\"<b>\"+k+\"</b> :\"+str(v) for k,v in kl.compute().items()]),\n",
    "               captions=[\"learned BN\",\"distances\"])"
   ]
  },
  {
   "cell_type": "markdown",
   "metadata": {},
   "source": [
    "## 4. Mixing algorithms"
   ]
  },
  {
   "cell_type": "markdown",
   "metadata": {},
   "source": [
    "First we learn a structure with HillClimbing (faster ?)"
   ]
  },
  {
   "cell_type": "code",
   "execution_count": null,
   "metadata": {
    "ExecuteTime": {
     "end_time": "2019-02-25T16:06:44.884977Z",
     "start_time": "2019-02-25T16:06:41.659980Z"
    },
    "tags": []
   },
   "outputs": [],
   "source": [
    "learner=gum.BNLearner(\"out/sample_asia.csv\",bn) #using bn as template for variables\n",
    "learner.useGreedyHillClimbing()\n",
    "learner.addMandatoryArc(0,1)\n",
    "bn2=learner.learnBN()\n",
    "kl=gum.ExactBNdistance(bn,bn2)\n",
    "gnb.sideBySide(bn2,\n",
    "               \"<br/>\".join([\"<b>\"+k+\"</b> :\"+str(v) for k,v in kl.compute().items()]),\n",
    "               captions=[\"learned BN\",\"distances\"])"
   ]
  },
  {
   "cell_type": "markdown",
   "metadata": {},
   "source": [
    "And then we refine with tabuList"
   ]
  },
  {
   "cell_type": "code",
   "execution_count": null,
   "metadata": {
    "ExecuteTime": {
     "end_time": "2019-02-25T16:06:47.750090Z",
     "start_time": "2019-02-25T16:06:44.887415Z"
    },
    "tags": []
   },
   "outputs": [],
   "source": [
    "learner=gum.BNLearner(\"out/sample_asia.csv\",bn) #using bn as template for variables\n",
    "learner.useLocalSearchWithTabuList()\n",
    "\n",
    "learner.setInitialDAG(bn2.dag())\n",
    "print(learner)\n",
    "bn3=learner.learnBN()\n",
    "kl=gum.ExactBNdistance(bn,bn3)\n",
    "gnb.sideBySide(bn3,\n",
    "               \"<br/>\".join([\"<b>\"+k+\"</b> :\"+str(v) for k,v in kl.compute().items()]),\n",
    "               captions=[\"learned BN\",\"distances\"])"
   ]
  },
  {
   "cell_type": "markdown",
   "metadata": {},
   "source": [
    "# Impact of the size of the database for the learning"
   ]
  },
  {
   "cell_type": "code",
   "execution_count": null,
   "metadata": {
    "ExecuteTime": {
     "end_time": "2019-02-25T16:06:47.922726Z",
     "start_time": "2019-02-25T16:06:47.916598Z"
    },
    "tags": []
   },
   "outputs": [],
   "source": [
    "import IPython.display\n",
    "rows=3\n",
    "sizes=[400,500,700,1000,2000,5000,\n",
    "       10000,50000,75000,\n",
    "       100000,150000,175000,\n",
    "       200000,300000,500000]\n",
    "\n",
    "def extract_asia(n):\n",
    "    \"\"\"\n",
    "    extract n line from asia.csv to extract.csv\n",
    "    \"\"\"\n",
    "    with open(\"out/sample_asia.csv\",\"r\") as src:\n",
    "        with open(\"out/extract_asia.csv\",\"w\") as dst:\n",
    "            for _ in range(n+1):\n",
    "                print(src.readline(),end=\"\",file=dst)"
   ]
  },
  {
   "cell_type": "code",
   "execution_count": null,
   "metadata": {
    "ExecuteTime": {
     "end_time": "2019-02-25T16:08:08.698897Z",
     "start_time": "2019-02-25T16:07:32.576097Z"
    },
    "tags": []
   },
   "outputs": [],
   "source": [
    "res=\"<table>\"\n",
    "nbr=0\n",
    "l=[]\n",
    "for i in sizes:\n",
    "    extract_asia(i)\n",
    "    learner=gum.BNLearner(\"out/extract_asia.csv\",bn) # using bn as template for variables\n",
    "    learner.useGreedyHillClimbing()\n",
    "    print(learner.state()[\"Size\"][0])\n",
    "    bn2=learner.learnBN()\n",
    "    \n",
    "    kl=gum.ExactBNdistance(bn,bn2)\n",
    "    r=kl.compute()\n",
    "    l.append(r['klPQ'])\n",
    "    \n",
    "    if nbr % rows == 0:\n",
    "        res+=\"<tr>\"\n",
    "    res+=\"<td><center>size=\"+str(i)+\"</center>\"+gnb.getBN(bn2,size=\"3\")+\"</td>\"\n",
    "    nbr+=1\n",
    "    if nbr % rows == 0:\n",
    "        res+=\"</tr>\"\n",
    "if nbr % rows!=0:\n",
    "    res+=\"</tr>\"\n",
    "res+=\"</table>\"\n",
    "\n",
    "IPython.display.display(IPython.display.HTML(res))\n",
    "\n",
    "plot(sizes,l)\n",
    "print(l[-1])"
   ]
  },
  {
   "cell_type": "code",
   "execution_count": null,
   "metadata": {
    "ExecuteTime": {
     "end_time": "2019-02-25T16:08:44.011957Z",
     "start_time": "2019-02-25T16:08:08.701841Z"
    },
    "tags": []
   },
   "outputs": [],
   "source": [
    "res=\"<table>\"\n",
    "nbr=0\n",
    "l=[]\n",
    "for i in sizes:\n",
    "    extract_asia(i)\n",
    "    learner=gum.BNLearner(\"out/extract_asia.csv\",bn) #using bn as template for variables\n",
    "    learner.useLocalSearchWithTabuList()\n",
    "    print(learner.state()[\"Size\"][0])\n",
    "    bn2=learner.learnBN()\n",
    "    \n",
    "    kl=gum.ExactBNdistance(bn,bn2)\n",
    "    r=kl.compute()\n",
    "    l.append(r['klPQ'])\n",
    "    \n",
    "    bn2.setProperty(\"name\",\"BN(%{0})\".format(i))\n",
    "    if nbr % rows == 0:\n",
    "        res+=\"<tr>\"\n",
    "    res+=\"<td><center>size=\"+str(i)+\"</center>\"+gnb.getBN(bn2,size=\"3\")+\"</td>\"\n",
    "    nbr+=1\n",
    "    if nbr % rows == 0:\n",
    "        res+=\"</tr>\"\n",
    "if nbr % rows!=0:\n",
    "    res+=\"</tr>\"\n",
    "res+=\"</table>\"\n",
    "\n",
    "IPython.display.display(IPython.display.HTML(res))\n",
    "\n",
    "plot(sizes,l)\n",
    "print(l[-1])"
   ]
  },
  {
   "cell_type": "code",
   "execution_count": null,
   "metadata": {},
   "outputs": [],
   "source": []
  },
  {
   "cell_type": "code",
   "execution_count": null,
   "metadata": {},
   "outputs": [],
   "source": []
  }
 ],
 "metadata": {
  "hide_input": false,
  "kernelspec": {
   "display_name": "Python 3 (ipykernel)",
   "language": "python",
   "name": "python3"
  },
  "language_info": {
   "codemirror_mode": {
    "name": "ipython",
    "version": 3
   },
   "file_extension": ".py",
   "mimetype": "text/x-python",
   "name": "python",
   "nbconvert_exporter": "python",
   "pygments_lexer": "ipython3",
   "version": "3.9.6"
  }
 },
 "nbformat": 4,
 "nbformat_minor": 4
}
