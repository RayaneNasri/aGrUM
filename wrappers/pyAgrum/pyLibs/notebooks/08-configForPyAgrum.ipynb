{
 "cells": [
  {
   "cell_type": "markdown",
   "metadata": {},
   "source": [
    "# `gum.config` is the configuration object for pyAgrum"
   ]
  },
  {
   "cell_type": "code",
   "execution_count": null,
   "metadata": {},
   "outputs": [],
   "source": [
    "import pyAgrum as gum\n",
    "import pyAgrum.lib.notebook as gnb\n",
    "print(\"=\"*35)\n",
    "print(gum.config)\n",
    "print(\"=\"*35)"
   ]
  },
  {
   "cell_type": "markdown",
   "metadata": {},
   "source": [
    "### As far as it can be done with Python, `gum.config` is a singleton"
   ]
  },
  {
   "cell_type": "code",
   "execution_count": null,
   "metadata": {},
   "outputs": [],
   "source": [
    "cfg2=gum.PyAgrumConfiguration(\"\")\n",
    "print(id(cfg2))\n",
    "print(id(gum.config))"
   ]
  },
  {
   "cell_type": "markdown",
   "metadata": {},
   "source": [
    "### The configuration is a mix between the defaults (which exactly define the possible `section` and `property`) and a file `pyagrum.ini` (if present in the current folder) that contains only the changed properties. \n",
    "\n",
    "`section` and `key` are case insensitive."
   ]
  },
  {
   "cell_type": "code",
   "execution_count": null,
   "metadata": {},
   "outputs": [],
   "source": [
    "!cat pyagrum.ini"
   ]
  },
  {
   "cell_type": "markdown",
   "metadata": {},
   "source": [
    "### `config` constantly keeps track of the differences between defaults and actual values :"
   ]
  },
  {
   "cell_type": "code",
   "execution_count": null,
   "metadata": {},
   "outputs": [],
   "source": [
    "gum.config.diff()"
   ]
  },
  {
   "cell_type": "code",
   "execution_count": null,
   "metadata": {},
   "outputs": [],
   "source": [
    "gum.config"
   ]
  },
  {
   "cell_type": "markdown",
   "metadata": {},
   "source": [
    "## Accessors\n",
    "\n",
    "### Getter"
   ]
  },
  {
   "cell_type": "code",
   "execution_count": null,
   "metadata": {},
   "outputs": [],
   "source": [
    "print(gum.config) # __str__ shows all the properties (__repr__ shows only the diff)"
   ]
  },
  {
   "cell_type": "code",
   "execution_count": null,
   "metadata": {},
   "outputs": [],
   "source": [
    "gum.config[\"notebook\",\"evidence_bgcolor\"]"
   ]
  },
  {
   "cell_type": "markdown",
   "metadata": {},
   "source": [
    "### Setter"
   ]
  },
  {
   "cell_type": "code",
   "execution_count": null,
   "metadata": {},
   "outputs": [],
   "source": [
    "gum.config[\"notebook\",\"evidence_bgcolor\"]=\"papayawhip\"\n",
    "gum.config[\"causal\",\"default_graph_size\"]=1.9"
   ]
  },
  {
   "cell_type": "code",
   "execution_count": null,
   "metadata": {},
   "outputs": [],
   "source": [
    "gum.config # once again, only the diff with defaults"
   ]
  },
  {
   "cell_type": "markdown",
   "metadata": {},
   "source": [
    "### The structure `section.key` is fixed by default and readonly : one can only change the value of an existing property"
   ]
  },
  {
   "cell_type": "code",
   "execution_count": null,
   "metadata": {},
   "outputs": [],
   "source": [
    "try:\n",
    "    gum.config[\"AAA\",\"OOO\"]=1\n",
    "except SyntaxError as e:\n",
    "    print(f\"Syntax error : {e.msg}\")"
   ]
  },
  {
   "cell_type": "code",
   "execution_count": null,
   "metadata": {},
   "outputs": [],
   "source": [
    "try:\n",
    "    gum.config[\"causal\",\"OOO\"]=1\n",
    "except SyntaxError as e:\n",
    "    print(f\"Syntax error : {e.msg}\")"
   ]
  },
  {
   "cell_type": "markdown",
   "metadata": {},
   "source": [
    "### All the properties are stored as string !"
   ]
  },
  {
   "cell_type": "code",
   "execution_count": null,
   "metadata": {},
   "outputs": [],
   "source": [
    "gum.config[\"notebook\",\"default_graph_size\"]"
   ]
  },
  {
   "cell_type": "code",
   "execution_count": null,
   "metadata": {},
   "outputs": [],
   "source": [
    "gum.config[\"notebook\",\"default_graph_size\"]=10\n",
    "gum.config[\"notebook\",\"default_graph_size\"]"
   ]
  },
  {
   "cell_type": "markdown",
   "metadata": {},
   "source": [
    "### Reset the configuration and reload configuration"
   ]
  },
  {
   "cell_type": "code",
   "execution_count": null,
   "metadata": {},
   "outputs": [],
   "source": [
    "gum.config.reset() # back to defaults\n",
    "gum.config # no diff => shows all the properties"
   ]
  },
  {
   "cell_type": "code",
   "execution_count": null,
   "metadata": {},
   "outputs": [],
   "source": [
    "try:\n",
    "    gum.config.load() # reload pyagrum.ini\n",
    "except FileNotFoundError:\n",
    "    pass # no pyagrum.ini in the folder\n",
    "gum.config "
   ]
  },
  {
   "cell_type": "markdown",
   "metadata": {},
   "source": [
    "# Using configuration"
   ]
  },
  {
   "cell_type": "code",
   "execution_count": null,
   "metadata": {},
   "outputs": [],
   "source": [
    "bn=gum.fastBN(\"D->C<-A->B[4];A->E\")\n",
    "bn.cpt(\"B\")"
   ]
  },
  {
   "cell_type": "code",
   "execution_count": null,
   "metadata": {},
   "outputs": [],
   "source": [
    "gum.config[\"notebook\",\"digits_in_potential\"]=1\n",
    "bn.cpt(\"B\")"
   ]
  },
  {
   "cell_type": "code",
   "execution_count": null,
   "metadata": {},
   "outputs": [],
   "source": [
    "gnb.sideBySide(bn,gnb.getInference(bn,evs={\"A\":1},targets={\"B\"}))"
   ]
  },
  {
   "cell_type": "code",
   "execution_count": null,
   "metadata": {},
   "outputs": [],
   "source": [
    "gum.config[\"notebook\",\"evidence_bgcolor\"]=\"green\"\n",
    "gum.config[\"notebook\",\"default_node_bgcolor\"]=\"yellow\"\n",
    "gum.config[\"notebook\",\"default_node_fgcolor\"]=\"red\"\n",
    "gnb.sideBySide(bn,gnb.getInference(bn,evs={\"A\":1},targets={\"B\"}))"
   ]
  },
  {
   "cell_type": "code",
   "execution_count": null,
   "metadata": {},
   "outputs": [],
   "source": [
    "gum.config[\"notebook\",\"default_graph_size\"]=1\n",
    "gnb.sideBySide(bn,gnb.getInference(bn,evs={\"A\":1},targets={\"B\"}))"
   ]
  },
  {
   "cell_type": "markdown",
   "metadata": {},
   "source": [
    "# find a specific property"
   ]
  },
  {
   "cell_type": "code",
   "execution_count": null,
   "metadata": {},
   "outputs": [],
   "source": [
    "print(gum.config)"
   ]
  },
  {
   "cell_type": "code",
   "execution_count": null,
   "metadata": {},
   "outputs": [],
   "source": [
    "#find anything containing arc\n",
    "gum.config.grep(\"arc\")"
   ]
  },
  {
   "cell_type": "code",
   "execution_count": null,
   "metadata": {},
   "outputs": [],
   "source": [
    "#find anything containing default\n",
    "gum.config.grep(\"default\")"
   ]
  },
  {
   "cell_type": "code",
   "execution_count": null,
   "metadata": {},
   "outputs": [],
   "source": [
    "# find anything containing theme\n",
    "# if a section contains the search, all its properties are shown\n",
    "gum.config.grep(\"caus\")"
   ]
  },
  {
   "cell_type": "markdown",
   "metadata": {},
   "source": [
    "# Saving current configuration in `pyagrum.ini`"
   ]
  },
  {
   "cell_type": "code",
   "execution_count": null,
   "metadata": {},
   "outputs": [],
   "source": [
    "gum.config.reset()\n",
    "gum.config['notebook','default_arc_color'] = \"#AAAAAA\"\n",
    "gum.config['notebook','evidence_bgcolor'] = \"green\"\n",
    "gum.config.save()"
   ]
  },
  {
   "cell_type": "code",
   "execution_count": null,
   "metadata": {},
   "outputs": [],
   "source": []
  }
 ],
 "metadata": {
  "kernelspec": {
   "display_name": "Python 3",
   "language": "python",
   "name": "python3"
  },
  "language_info": {
   "codemirror_mode": {
    "name": "ipython",
    "version": 3
   },
   "file_extension": ".py",
   "mimetype": "text/x-python",
   "name": "python",
   "nbconvert_exporter": "python",
   "pygments_lexer": "ipython3",
   "version": "3.7.4"
  }
 },
 "nbformat": 4,
 "nbformat_minor": 4
}
