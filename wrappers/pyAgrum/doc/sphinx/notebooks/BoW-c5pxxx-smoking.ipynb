{
 "cells": [
  {
   "cell_type": "markdown",
   "metadata": {},
   "source": [
    "<a href=\"http://agrum.org\" target=\"blank\"><img src=\"http://agrum.gitlab.io/theme/img/logoAgrum.png\" align=\"left\" style=\"height:100px\"/></a><a href=\"https://agrum.gitlab.io/pages/pyagrum.html\" target=\"blank\"><img src=\"https://agrum.gitlab.io/images/pyAgrum.png\" align=\"right\" style=\"height:75px\"/></a><a rel=\"license\" href=\"http://creativecommons.org/licenses/by-nc/4.0/\"><img alt=\"Creative Commons License\" style=\"border-width:0\" src=\"https://i.creativecommons.org/l/by-nc/4.0/88x31.png\" /></a><br />This pyAgrum's notebook is licensed under a <a rel=\"license\" href=\"http://creativecommons.org/licenses/by-nc/4.0/\">Creative Commons Attribution-NonCommercial 4.0 International License</a><br/>\n",
    "Author: <b>Aymen Merrouche</b> and Pierre-Henri Wuillemin."
   ]
  },
  {
   "cell_type": "markdown",
   "metadata": {},
   "source": [
    "<font size=\"+3\" color=\"GREEN\">**Smoking**</font>\n",
    "\n",
    "#### This notebook follows the example from \"The Book Of Why\" (Pearl, 2018) chapter 5. "
   ]
  },
  {
   "cell_type": "code",
   "execution_count": 1,
   "metadata": {
    "execution": {
     "iopub.execute_input": "2023-08-16T08:17:15.648577Z",
     "iopub.status.busy": "2023-08-16T08:17:15.647983Z",
     "iopub.status.idle": "2023-08-16T08:17:15.981437Z",
     "shell.execute_reply": "2023-08-16T08:17:15.980443Z",
     "shell.execute_reply.started": "2023-08-16T08:17:15.648536Z"
    }
   },
   "outputs": [],
   "source": [
    "from IPython.display import display, Math, Latex,HTML\n",
    "\n",
    "import pyAgrum as gum\n",
    "import pyAgrum.lib.notebook as gnb\n",
    "import pyAgrum.causal as csl\n",
    "import pyAgrum.causal.notebook as cslnb\n",
    "import os"
   ]
  },
  {
   "cell_type": "markdown",
   "metadata": {},
   "source": [
    "> In the 1950s the strong association between smoking and lung cancer provoked a debate on the issue. Does smoking cause lung cancer?"
   ]
  },
  {
   "cell_type": "markdown",
   "metadata": {},
   "source": [
    "### We create the causal diagram:\n",
    "The corresponding causal diagram is the following:"
   ]
  },
  {
   "cell_type": "code",
   "execution_count": 2,
   "metadata": {
    "execution": {
     "iopub.execute_input": "2023-08-16T08:17:15.984870Z",
     "iopub.status.busy": "2023-08-16T08:17:15.984190Z",
     "iopub.status.idle": "2023-08-16T08:17:16.065830Z",
     "shell.execute_reply": "2023-08-16T08:17:16.064767Z",
     "shell.execute_reply.started": "2023-08-16T08:17:15.984819Z"
    }
   },
   "outputs": [
    {
     "data": {
      "text/html": [
       "<svg xmlns=\"http://www.w3.org/2000/svg\" xmlns:xlink=\"http://www.w3.org/1999/xlink\" width=\"158pt\" height=\"116pt\" viewBox=\"0.00 0.00 157.77 116.00\">\n",
       "<g id=\"graph0\" class=\"graph\" transform=\"scale(1 1) rotate(0) translate(4 112)\">\n",
       "<title>G</title>\n",
       "<!-- Smoking -->\n",
       "<g id=\"node1\" class=\"node\">\n",
       "<title>Smoking</title>\n",
       "<g id=\"a_node1\"><a xlink:title=\"(0) Smoking\">\n",
       "<ellipse fill=\"#404040\" stroke=\"black\" cx=\"74.88\" cy=\"-90\" rx=\"54.89\" ry=\"18\"/>\n",
       "<text text-anchor=\"middle\" x=\"74.88\" y=\"-85.33\" font-family=\"Times,serif\" font-size=\"14.00\" fill=\"white\">Smoking</text>\n",
       "</a>\n",
       "</g>\n",
       "</g>\n",
       "<!-- Lung Cancer -->\n",
       "<g id=\"node2\" class=\"node\">\n",
       "<title>Lung Cancer</title>\n",
       "<g id=\"a_node2\"><a xlink:title=\"(1) Lung Cancer\">\n",
       "<ellipse fill=\"#404040\" stroke=\"black\" cx=\"74.88\" cy=\"-18\" rx=\"74.88\" ry=\"18\"/>\n",
       "<text text-anchor=\"middle\" x=\"74.88\" y=\"-13.32\" font-family=\"Times,serif\" font-size=\"14.00\" fill=\"white\">Lung Cancer</text>\n",
       "</a>\n",
       "</g>\n",
       "</g>\n",
       "<!-- Smoking&#45;&gt;Lung Cancer -->\n",
       "<g id=\"edge1\" class=\"edge\">\n",
       "<title>Smoking-&gt;Lung Cancer</title>\n",
       "<g id=\"a_edge1\"><a xlink:title=\"0 → 1\">\n",
       "<path fill=\"none\" stroke=\"#4a4a4a\" d=\"M74.88,-71.7C74.88,-64.24 74.88,-55.32 74.88,-46.97\"/>\n",
       "<polygon fill=\"#4a4a4a\" stroke=\"#4a4a4a\" points=\"78.38,-47.1 74.88,-37.1 71.38,-47.1 78.38,-47.1\"/>\n",
       "</a>\n",
       "</g>\n",
       "</g>\n",
       "</g>\n",
       "</svg>"
      ],
      "text/plain": [
       "(pyAgrum.BayesNet<double>@0x555fcf452ed0) BN{nodes: 2, arcs: 1, domainSize: 4, dim: 3, mem: 48o}"
      ]
     },
     "execution_count": 2,
     "metadata": {},
     "output_type": "execute_result"
    }
   ],
   "source": [
    "sc = gum.fastBN(\"Smoking->Lung Cancer\")\n",
    "sc"
   ]
  },
  {
   "cell_type": "markdown",
   "metadata": {},
   "source": [
    "## Constitutional Hypothesis:\n",
    "> Smoking industry and some other skeptic statisticians advanced the theory that smokers are genetically different from nonsmokers. A smoking gene could be a confounder that would explain the observed association."
   ]
  },
  {
   "cell_type": "code",
   "execution_count": 3,
   "metadata": {
    "execution": {
     "iopub.execute_input": "2023-08-16T08:17:16.067707Z",
     "iopub.status.busy": "2023-08-16T08:17:16.067224Z",
     "iopub.status.idle": "2023-08-16T08:17:16.165810Z",
     "shell.execute_reply": "2023-08-16T08:17:16.164603Z",
     "shell.execute_reply.started": "2023-08-16T08:17:16.067667Z"
    }
   },
   "outputs": [
    {
     "data": {
      "text/html": [
       "\n",
       "      <style>\n",
       "      .floating-box {\n",
       "      display: inline-block;\n",
       "      margin: 7px;\n",
       "      padding : 3px;\n",
       "      border: 0px solid transparent;  \n",
       "      valign:middle;\n",
       "      background-color: transparent;\n",
       "      }\n",
       "      </style>\n",
       "      <div class=\"floating-box\"><svg xmlns=\"http://www.w3.org/2000/svg\" xmlns:xlink=\"http://www.w3.org/1999/xlink\" width=\"180pt\" height=\"53pt\" viewBox=\"0.00 0.00 180.00 52.66\">\n",
       "<g id=\"graph0\" class=\"graph\" transform=\"scale(0.629869 0.629869) rotate(0) translate(4 79.6)\">\n",
       "<title>G</title>\n",
       "<!-- Smoking Gene -->\n",
       "<g id=\"node1\" class=\"node\">\n",
       "<title>Smoking Gene</title>\n",
       "<ellipse fill=\"#404040\" stroke=\"#4a4a4a\" cx=\"128.89\" cy=\"-73.8\" rx=\"1.8\" ry=\"1.8\"/>\n",
       "</g>\n",
       "<!-- Smoking -->\n",
       "<g id=\"node2\" class=\"node\">\n",
       "<title>Smoking</title>\n",
       "<ellipse fill=\"#404040\" stroke=\"#4a4a4a\" cx=\"54.89\" cy=\"-18\" rx=\"54.89\" ry=\"18\"/>\n",
       "<text text-anchor=\"middle\" x=\"54.89\" y=\"-13.32\" font-family=\"Times,serif\" font-size=\"14.00\" fill=\"white\">Smoking</text>\n",
       "</g>\n",
       "<!-- Smoking Gene&#45;&gt;Smoking -->\n",
       "<g id=\"edge1\" class=\"edge\">\n",
       "<title>Smoking Gene-&gt;Smoking</title>\n",
       "<path fill=\"none\" stroke=\"#4a4a4a\" stroke-dasharray=\"5,2\" d=\"M127.84,-72.04C123.1,-68.59 103.1,-54.05 85.23,-41.06\"/>\n",
       "<polygon fill=\"#4a4a4a\" stroke=\"#4a4a4a\" points=\"87.86,-37.91 77.71,-34.86 83.74,-43.57 87.86,-37.91\"/>\n",
       "</g>\n",
       "<!-- Lung Cancer -->\n",
       "<g id=\"node3\" class=\"node\">\n",
       "<title>Lung Cancer</title>\n",
       "<ellipse fill=\"#404040\" stroke=\"#4a4a4a\" cx=\"202.89\" cy=\"-18\" rx=\"74.88\" ry=\"18\"/>\n",
       "<text text-anchor=\"middle\" x=\"202.89\" y=\"-13.32\" font-family=\"Times,serif\" font-size=\"14.00\" fill=\"white\">Lung Cancer</text>\n",
       "</g>\n",
       "<!-- Smoking Gene&#45;&gt;Lung Cancer -->\n",
       "<g id=\"edge2\" class=\"edge\">\n",
       "<title>Smoking Gene-&gt;Lung Cancer</title>\n",
       "<path fill=\"none\" stroke=\"#4a4a4a\" stroke-dasharray=\"5,2\" d=\"M129.94,-72.04C134.62,-68.64 154.18,-54.42 171.87,-41.56\"/>\n",
       "<polygon fill=\"#4a4a4a\" stroke=\"#4a4a4a\" points=\"173.3,-44.12 179.33,-35.4 169.18,-38.45 173.3,-44.12\"/>\n",
       "</g>\n",
       "</g>\n",
       "</svg><br><center><small><em>Causal Model</em></small></center></div><div class=\"floating-box\">$$\\begin{equation*}P( Lung Cancer \\mid \\text{do}(Smoking)) = P\\left(Lung Cancer\\right)\\end{equation*}$$<br><center><small><em>Explanation : No causal effect of X on Y, because they are d-separated (conditioning on the observed variables if any).</em></small></center></div><div class=\"floating-box\"><table style=\"border:1px solid black;\">\n",
       "<tr style='border:1px solid black;color:black;background-color:#808080'>\n",
       "      <th colspan='2'><center>Lung Cancer</center></th></tr>\n",
       "<tr><th style='border:1px solid black;border-bottom-style: double;color:black;background-color:#BBBBBB'>\n",
       "      <center>0</center></th><th style='border:1px solid black;border-bottom-style: double;color:black;background-color:#BBBBBB'>\n",
       "      <center>1</center></th></tr>\n",
       "<tr><td style='color:black;background-color:#dca164;text-align:right;'>0.2692</td><td style='color:black;background-color:#a1dc64;text-align:right;'>0.7308</td></tr>\n",
       "</table><br><center><small><em>Impact</em></small></center></div>"
      ],
      "text/plain": [
       "<IPython.core.display.HTML object>"
      ]
     },
     "metadata": {},
     "output_type": "display_data"
    }
   ],
   "source": [
    "msc = csl.CausalModel(sc, [(\"Smoking Gene\", [\"Smoking\",\"Lung Cancer\"])])\n",
    "cslnb.showCausalImpact(msc, \"Lung Cancer\", doing=\"Smoking\",values={})"
   ]
  },
  {
   "cell_type": "markdown",
   "metadata": {},
   "source": [
    "> This constitutional hypothesis was untestable, we couldn't sequence the human genome at the time. <br>\n",
    "However, this hypothesis wasn't plausible because the observed association was way too strong. <br>"
   ]
  },
  {
   "cell_type": "markdown",
   "metadata": {},
   "source": [
    "#### To explain this association, another hypothesis was that a smoking gene could be a confounder but there was still a direct causal effect between smoking on lung cancer:"
   ]
  },
  {
   "cell_type": "code",
   "execution_count": 4,
   "metadata": {
    "execution": {
     "iopub.execute_input": "2023-08-16T08:17:16.167638Z",
     "iopub.status.busy": "2023-08-16T08:17:16.167236Z",
     "iopub.status.idle": "2023-08-16T08:17:16.326379Z",
     "shell.execute_reply": "2023-08-16T08:17:16.325317Z",
     "shell.execute_reply.started": "2023-08-16T08:17:16.167599Z"
    }
   },
   "outputs": [
    {
     "data": {
      "text/html": [
       "\n",
       "      <style>\n",
       "      .floating-box {\n",
       "      display: inline-block;\n",
       "      margin: 7px;\n",
       "      padding : 3px;\n",
       "      border: 0px solid transparent;  \n",
       "      valign:middle;\n",
       "      background-color: transparent;\n",
       "      }\n",
       "      </style>\n",
       "      <div class=\"floating-box\"><svg xmlns=\"http://www.w3.org/2000/svg\" xmlns:xlink=\"http://www.w3.org/1999/xlink\" width=\"179pt\" height=\"156pt\" viewBox=\"0.00 0.00 178.77 155.60\">\n",
       "<g id=\"graph0\" class=\"graph\" transform=\"scale(1 1) rotate(0) translate(4 151.6)\">\n",
       "<title>G</title>\n",
       "<!-- Smoking Gene -->\n",
       "<g id=\"node1\" class=\"node\">\n",
       "<title>Smoking Gene</title>\n",
       "<ellipse fill=\"#404040\" stroke=\"#4a4a4a\" cx=\"95.89\" cy=\"-145.8\" rx=\"1.8\" ry=\"1.8\"/>\n",
       "</g>\n",
       "<!-- Smoking -->\n",
       "<g id=\"node2\" class=\"node\">\n",
       "<title>Smoking</title>\n",
       "<ellipse fill=\"#404040\" stroke=\"#4a4a4a\" cx=\"54.89\" cy=\"-90\" rx=\"54.89\" ry=\"18\"/>\n",
       "<text text-anchor=\"middle\" x=\"54.89\" y=\"-85.33\" font-family=\"Times,serif\" font-size=\"14.00\" fill=\"white\">Smoking</text>\n",
       "</g>\n",
       "<!-- Smoking Gene&#45;&gt;Smoking -->\n",
       "<g id=\"edge2\" class=\"edge\">\n",
       "<title>Smoking Gene-&gt;Smoking</title>\n",
       "<path fill=\"none\" stroke=\"#4a4a4a\" stroke-dasharray=\"5,2\" d=\"M95.18,-143.87C92.58,-140.45 83.27,-128.23 74.25,-116.4\"/>\n",
       "<polygon fill=\"#4a4a4a\" stroke=\"#4a4a4a\" points=\"76.68,-114.82 67.84,-108.99 71.11,-119.06 76.68,-114.82\"/>\n",
       "</g>\n",
       "<!-- Lung Cancer -->\n",
       "<g id=\"node3\" class=\"node\">\n",
       "<title>Lung Cancer</title>\n",
       "<ellipse fill=\"#404040\" stroke=\"#4a4a4a\" cx=\"95.89\" cy=\"-18\" rx=\"74.88\" ry=\"18\"/>\n",
       "<text text-anchor=\"middle\" x=\"95.89\" y=\"-13.32\" font-family=\"Times,serif\" font-size=\"14.00\" fill=\"white\">Lung Cancer</text>\n",
       "</g>\n",
       "<!-- Smoking Gene&#45;&gt;Lung Cancer -->\n",
       "<g id=\"edge3\" class=\"edge\">\n",
       "<title>Smoking Gene-&gt;Lung Cancer</title>\n",
       "<path fill=\"none\" stroke=\"#4a4a4a\" stroke-dasharray=\"5,2\" d=\"M96.86,-143.77C100.62,-139.66 114.32,-123.93 118.89,-108 124.85,-87.23 118.07,-63.53 110.36,-45.81\"/>\n",
       "<polygon fill=\"#4a4a4a\" stroke=\"#4a4a4a\" points=\"113.23,-44.69 105.8,-37.13 106.9,-47.67 113.23,-44.69\"/>\n",
       "</g>\n",
       "<!-- Smoking&#45;&gt;Lung Cancer -->\n",
       "<g id=\"edge1\" class=\"edge\">\n",
       "<title>Smoking-&gt;Lung Cancer</title>\n",
       "<path fill=\"none\" stroke=\"#4a4a4a\" d=\"M63.95,-71.55C68.62,-63.59 74.29,-53.91 79.5,-45\"/>\n",
       "<path fill=\"none\" stroke=\"#4a4a4a\" d=\"M65.68,-72.56C70.34,-64.6 76.01,-54.92 81.23,-46.02\"/>\n",
       "<polygon fill=\"#4a4a4a\" stroke=\"#4a4a4a\" points=\"83.74,-47.67 85.77,-37.28 77.7,-44.14 83.74,-47.67\"/>\n",
       "</g>\n",
       "</g>\n",
       "</svg><br><center><small><em>Causal Model</em></small></center></div><div class=\"floating-box\">Hedge Error: G={'Smoking', 'Lung Cancer'}, G[S]={'Lung Cancer'}<br><center><small><em>Impossible</em></small></center></div><div class=\"floating-box\">No result<br><center><small><em>Impact</em></small></center></div>"
      ],
      "text/plain": [
       "<IPython.core.display.HTML object>"
      ]
     },
     "metadata": {},
     "output_type": "display_data"
    }
   ],
   "source": [
    "msc = csl.CausalModel(sc, [(\"Smoking Gene\", [\"Smoking\",\"Lung Cancer\"])], True)\n",
    "cslnb.showCausalImpact(msc, \"Lung Cancer\", doing=\"Smoking\",values={})"
   ]
  },
  {
   "cell_type": "markdown",
   "metadata": {},
   "source": [
    "## Front door criterion:"
   ]
  },
  {
   "cell_type": "markdown",
   "metadata": {},
   "source": [
    "> Let's suppose now that smoking causes cancer only through tar deposits that are fully due to the physical action of cigarettes, the causal diagram becomes:"
   ]
  },
  {
   "cell_type": "code",
   "execution_count": 5,
   "metadata": {
    "execution": {
     "iopub.execute_input": "2023-08-16T08:17:16.328430Z",
     "iopub.status.busy": "2023-08-16T08:17:16.327725Z",
     "iopub.status.idle": "2023-08-16T08:17:16.391888Z",
     "shell.execute_reply": "2023-08-16T08:17:16.391248Z",
     "shell.execute_reply.started": "2023-08-16T08:17:16.328390Z"
    }
   },
   "outputs": [
    {
     "data": {
      "text/html": [
       "<svg xmlns=\"http://www.w3.org/2000/svg\" xmlns:xlink=\"http://www.w3.org/1999/xlink\" width=\"158pt\" height=\"188pt\" viewBox=\"0.00 0.00 157.77 188.00\">\n",
       "<g id=\"graph0\" class=\"graph\" transform=\"scale(1 1) rotate(0) translate(4 184)\">\n",
       "<title>G</title>\n",
       "<!-- Lung Cancer -->\n",
       "<g id=\"node1\" class=\"node\">\n",
       "<title>Lung Cancer</title>\n",
       "<g id=\"a_node1\"><a xlink:title=\"(2) Lung Cancer\">\n",
       "<ellipse fill=\"#404040\" stroke=\"black\" cx=\"74.88\" cy=\"-18\" rx=\"74.88\" ry=\"18\"/>\n",
       "<text text-anchor=\"middle\" x=\"74.88\" y=\"-13.32\" font-family=\"Times,serif\" font-size=\"14.00\" fill=\"white\">Lung Cancer</text>\n",
       "</a>\n",
       "</g>\n",
       "</g>\n",
       "<!-- Smoking -->\n",
       "<g id=\"node2\" class=\"node\">\n",
       "<title>Smoking</title>\n",
       "<g id=\"a_node2\"><a xlink:title=\"(0) Smoking\">\n",
       "<ellipse fill=\"#404040\" stroke=\"black\" cx=\"74.88\" cy=\"-162\" rx=\"54.89\" ry=\"18\"/>\n",
       "<text text-anchor=\"middle\" x=\"74.88\" y=\"-157.32\" font-family=\"Times,serif\" font-size=\"14.00\" fill=\"white\">Smoking</text>\n",
       "</a>\n",
       "</g>\n",
       "</g>\n",
       "<!-- Tar -->\n",
       "<g id=\"node3\" class=\"node\">\n",
       "<title>Tar</title>\n",
       "<g id=\"a_node3\"><a xlink:title=\"(1) Tar\">\n",
       "<ellipse fill=\"#404040\" stroke=\"black\" cx=\"74.88\" cy=\"-90\" rx=\"27.53\" ry=\"18\"/>\n",
       "<text text-anchor=\"middle\" x=\"74.88\" y=\"-85.33\" font-family=\"Times,serif\" font-size=\"14.00\" fill=\"white\">Tar</text>\n",
       "</a>\n",
       "</g>\n",
       "</g>\n",
       "<!-- Smoking&#45;&gt;Tar -->\n",
       "<g id=\"edge1\" class=\"edge\">\n",
       "<title>Smoking-&gt;Tar</title>\n",
       "<g id=\"a_edge1\"><a xlink:title=\"0 → 1\">\n",
       "<path fill=\"none\" stroke=\"#4a4a4a\" d=\"M74.88,-143.7C74.88,-136.24 74.88,-127.32 74.88,-118.97\"/>\n",
       "<polygon fill=\"#4a4a4a\" stroke=\"#4a4a4a\" points=\"78.38,-119.1 74.88,-109.1 71.38,-119.1 78.38,-119.1\"/>\n",
       "</a>\n",
       "</g>\n",
       "</g>\n",
       "<!-- Tar&#45;&gt;Lung Cancer -->\n",
       "<g id=\"edge2\" class=\"edge\">\n",
       "<title>Tar-&gt;Lung Cancer</title>\n",
       "<g id=\"a_edge2\"><a xlink:title=\"1 → 2\">\n",
       "<path fill=\"none\" stroke=\"#4a4a4a\" d=\"M74.88,-71.7C74.88,-64.24 74.88,-55.32 74.88,-46.97\"/>\n",
       "<polygon fill=\"#4a4a4a\" stroke=\"#4a4a4a\" points=\"78.38,-47.1 74.88,-37.1 71.38,-47.1 78.38,-47.1\"/>\n",
       "</a>\n",
       "</g>\n",
       "</g>\n",
       "</g>\n",
       "</svg>"
      ],
      "text/plain": [
       "(pyAgrum.BayesNet<double>@0x555fcf4613e0) BN{nodes: 3, arcs: 2, domainSize: 8, dim: 5, mem: 80o}"
      ]
     },
     "execution_count": 5,
     "metadata": {},
     "output_type": "execute_result"
    }
   ],
   "source": [
    "sct = gum.fastBN(\"Smoking->Tar->Lung Cancer\")\n",
    "sct"
   ]
  },
  {
   "cell_type": "code",
   "execution_count": 6,
   "metadata": {
    "execution": {
     "iopub.execute_input": "2023-08-16T08:17:16.392890Z",
     "iopub.status.busy": "2023-08-16T08:17:16.392687Z",
     "iopub.status.idle": "2023-08-16T08:17:16.476572Z",
     "shell.execute_reply": "2023-08-16T08:17:16.475954Z",
     "shell.execute_reply.started": "2023-08-16T08:17:16.392871Z"
    }
   },
   "outputs": [
    {
     "data": {
      "text/html": [
       "\n",
       "      <style>\n",
       "      .floating-box {\n",
       "      display: inline-block;\n",
       "      margin: 7px;\n",
       "      padding : 3px;\n",
       "      border: 0px solid transparent;  \n",
       "      valign:middle;\n",
       "      background-color: transparent;\n",
       "      }\n",
       "      </style>\n",
       "      <div class=\"floating-box\"><svg xmlns=\"http://www.w3.org/2000/svg\" xmlns:xlink=\"http://www.w3.org/1999/xlink\" width=\"142pt\" height=\"180pt\" viewBox=\"0.00 0.00 142.18 180.00\">\n",
       "<g id=\"graph0\" class=\"graph\" transform=\"scale(0.790861 0.790861) rotate(0) translate(4 223.6)\">\n",
       "<title>G</title>\n",
       "<!-- Smoking Gene -->\n",
       "<g id=\"node1\" class=\"node\">\n",
       "<title>Smoking Gene</title>\n",
       "<ellipse fill=\"#404040\" stroke=\"#4a4a4a\" cx=\"95.89\" cy=\"-217.8\" rx=\"1.8\" ry=\"1.8\"/>\n",
       "</g>\n",
       "<!-- Smoking -->\n",
       "<g id=\"node2\" class=\"node\">\n",
       "<title>Smoking</title>\n",
       "<ellipse fill=\"#404040\" stroke=\"#4a4a4a\" cx=\"54.89\" cy=\"-162\" rx=\"54.89\" ry=\"18\"/>\n",
       "<text text-anchor=\"middle\" x=\"54.89\" y=\"-157.32\" font-family=\"Times,serif\" font-size=\"14.00\" fill=\"white\">Smoking</text>\n",
       "</g>\n",
       "<!-- Smoking Gene&#45;&gt;Smoking -->\n",
       "<g id=\"edge4\" class=\"edge\">\n",
       "<title>Smoking Gene-&gt;Smoking</title>\n",
       "<path fill=\"none\" stroke=\"#4a4a4a\" stroke-dasharray=\"5,2\" d=\"M95.18,-215.87C92.58,-212.45 83.27,-200.23 74.25,-188.4\"/>\n",
       "<polygon fill=\"#4a4a4a\" stroke=\"#4a4a4a\" points=\"76.68,-186.82 67.84,-180.99 71.11,-191.06 76.68,-186.82\"/>\n",
       "</g>\n",
       "<!-- Lung Cancer -->\n",
       "<g id=\"node4\" class=\"node\">\n",
       "<title>Lung Cancer</title>\n",
       "<ellipse fill=\"#404040\" stroke=\"#4a4a4a\" cx=\"96.89\" cy=\"-18\" rx=\"74.88\" ry=\"18\"/>\n",
       "<text text-anchor=\"middle\" x=\"96.89\" y=\"-13.32\" font-family=\"Times,serif\" font-size=\"14.00\" fill=\"white\">Lung Cancer</text>\n",
       "</g>\n",
       "<!-- Smoking Gene&#45;&gt;Lung Cancer -->\n",
       "<g id=\"edge2\" class=\"edge\">\n",
       "<title>Smoking Gene-&gt;Lung Cancer</title>\n",
       "<path fill=\"none\" stroke=\"#4a4a4a\" stroke-dasharray=\"5,2\" d=\"M96.86,-215.77C100.62,-211.66 114.32,-195.93 118.89,-180 132.03,-134.2 118.25,-78.75 107.36,-46.32\"/>\n",
       "<polygon fill=\"#4a4a4a\" stroke=\"#4a4a4a\" points=\"110.44,-45.53 103.82,-37.25 103.83,-47.85 110.44,-45.53\"/>\n",
       "</g>\n",
       "<!-- Tar -->\n",
       "<g id=\"node3\" class=\"node\">\n",
       "<title>Tar</title>\n",
       "<ellipse fill=\"#404040\" stroke=\"#4a4a4a\" cx=\"68.89\" cy=\"-90\" rx=\"27.53\" ry=\"18\"/>\n",
       "<text text-anchor=\"middle\" x=\"68.89\" y=\"-85.33\" font-family=\"Times,serif\" font-size=\"14.00\" fill=\"white\">Tar</text>\n",
       "</g>\n",
       "<!-- Smoking&#45;&gt;Tar -->\n",
       "<g id=\"edge1\" class=\"edge\">\n",
       "<title>Smoking-&gt;Tar</title>\n",
       "<path fill=\"none\" stroke=\"#4a4a4a\" d=\"M57.37,-143.5C58.88,-135.96 60.69,-126.92 62.37,-118.48\"/>\n",
       "<path fill=\"none\" stroke=\"#4a4a4a\" d=\"M59.33,-143.89C60.84,-136.35 62.65,-127.32 64.34,-118.88\"/>\n",
       "<polygon fill=\"#4a4a4a\" stroke=\"#4a4a4a\" points=\"66.94,-119.6 65.47,-109.1 60.08,-118.22 66.94,-119.6\"/>\n",
       "</g>\n",
       "<!-- Tar&#45;&gt;Lung Cancer -->\n",
       "<g id=\"edge3\" class=\"edge\">\n",
       "<title>Tar-&gt;Lung Cancer</title>\n",
       "<path fill=\"none\" stroke=\"#4a4a4a\" d=\"M74.74,-71.68C77.82,-63.97 81.55,-54.66 85.02,-45.99\"/>\n",
       "<path fill=\"none\" stroke=\"#4a4a4a\" d=\"M76.6,-72.43C79.68,-64.72 83.41,-55.4 86.87,-46.74\"/>\n",
       "<polygon fill=\"#4a4a4a\" stroke=\"#4a4a4a\" points=\"89.52,-47.86 89.98,-37.28 83.02,-45.26 89.52,-47.86\"/>\n",
       "</g>\n",
       "</g>\n",
       "</svg><br><center><small><em>Causal Model</em></small></center></div><div class=\"floating-box\">$$\\begin{equation*}P( Lung Cancer \\mid \\text{do}(Smoking)) = \\sum_{Tar}{P\\left(Tar\\mid Smoking\\right) \\cdot \\left(\\sum_{Smoking'}{P\\left(Lung Cancer\\mid Smoking',Tar\\right) \\cdot P\\left(Smoking'\\right)}\\right)}\\end{equation*}$$<br><center><small><em>Explanation : frontdoor ['Tar'] found.</em></small></center></div><div class=\"floating-box\"><table style=\"border:1px solid black;\">\n",
       "<tr><th colspan='1'></th>\n",
       "      <th colspan='2' style='border:1px solid black;color:black;background-color:#808080;'><center>Lung Cancer</center>\n",
       "      </th></tr>\n",
       "<tr><th style='border:1px solid black;color:black;background-color:#808080'><center>Smoking</center></th><th style='border:1px solid black;border-bottom-style: double;color:black;background-color:#BBBBBB'>\n",
       "      <center>0</center></th><th style='border:1px solid black;border-bottom-style: double;color:black;background-color:#BBBBBB'>\n",
       "      <center>1</center></th></tr>\n",
       "<tr><th style='border:1px solid black;color:black;background-color:#BBBBBB'><center>0</center></th><td style='color:black;background-color:#94e964;text-align:right;'>0.8301</td><td style='color:black;background-color:#e99464;text-align:right;'>0.1699</td></tr>\n",
       "<tr><th style='border:1px solid black;color:black;background-color:#BBBBBB'><center>1</center></th><td style='color:black;background-color:#9ae364;text-align:right;'>0.7828</td><td style='color:black;background-color:#e39a64;text-align:right;'>0.2172</td></tr>\n",
       "</table><br><center><small><em>Impact</em></small></center></div>"
      ],
      "text/plain": [
       "<IPython.core.display.HTML object>"
      ]
     },
     "metadata": {},
     "output_type": "display_data"
    }
   ],
   "source": [
    "msct = csl.CausalModel(sct, [(\"Smoking Gene\", [\"Smoking\",\"Lung Cancer\"])], True)\n",
    "cslnb.showCausalImpact(msct, \"Lung Cancer\", doing=\"Smoking\",values={})"
   ]
  },
  {
   "cell_type": "markdown",
   "metadata": {},
   "source": [
    "> Even if the smoking gene is unobservable, we can assess the causal effect of Smoking on Lung Cancer using the front-door method. In this case, the front-door is: $$Smoking \\rightarrow \\color{red}{Tar} \\rightarrow LungCancer$$\n",
    "It consists of variables that we have observed:"
   ]
  },
  {
   "cell_type": "markdown",
   "metadata": {},
   "source": [
    "* We can measure the causal effect of $Smoking$ on $Tar$, there are no open back-doors between the two ($Tar \\leftarrow  Smoking \\rightarrow SmokingGene \\leftarrow LungCancer$ is blocked by the collider node $LungCancer$)\n",
    "$$P(Tar \\mid do(Smoking)) = P (Tar \\mid Smoking) $$"
   ]
  },
  {
   "cell_type": "code",
   "execution_count": 7,
   "metadata": {
    "execution": {
     "iopub.execute_input": "2023-08-16T08:17:16.478572Z",
     "iopub.status.busy": "2023-08-16T08:17:16.478335Z",
     "iopub.status.idle": "2023-08-16T08:17:16.484179Z",
     "shell.execute_reply": "2023-08-16T08:17:16.483578Z",
     "shell.execute_reply.started": "2023-08-16T08:17:16.478551Z"
    }
   },
   "outputs": [
    {
     "data": {
      "text/latex": [
       "$\\displaystyle P( Tar \\mid \\text{do}(Smoking)) = P\\left(Tar\\mid Smoking\\right)$"
      ],
      "text/plain": [
       "<IPython.core.display.Math object>"
      ]
     },
     "metadata": {},
     "output_type": "display_data"
    }
   ],
   "source": [
    "formula, adj, exp = csl.causalImpact(msct,on = \"Tar\",doing = \"Smoking\",values = {})\n",
    "display(Math(formula.toLatex()))"
   ]
  },
  {
   "cell_type": "markdown",
   "metadata": {},
   "source": [
    "* We can measure the causal effect of $Tar$ on $LungCancer$, we just need to adjust for the $Smoking$  to block the \"back-door path\" $ Tar \\leftarrow Smoking \\leftarrow SmokingGene \\rightarrow LungCancer$\n",
    "$$P(LungCancer \\mid do(Tar)) = \\sum_{Smoking}{P(LungCancer \\mid Tar, Smoking) \\times P(Smoking)}$$"
   ]
  },
  {
   "cell_type": "code",
   "execution_count": 8,
   "metadata": {
    "execution": {
     "iopub.execute_input": "2023-08-16T08:17:16.485638Z",
     "iopub.status.busy": "2023-08-16T08:17:16.485315Z",
     "iopub.status.idle": "2023-08-16T08:17:16.509379Z",
     "shell.execute_reply": "2023-08-16T08:17:16.508455Z",
     "shell.execute_reply.started": "2023-08-16T08:17:16.485607Z"
    }
   },
   "outputs": [
    {
     "data": {
      "text/latex": [
       "$\\displaystyle P( Lung Cancer \\mid \\text{do}(Tar)) = \\sum_{Smoking}{P\\left(Lung Cancer\\mid Smoking,Tar\\right) \\cdot P\\left(Smoking\\right)}$"
      ],
      "text/plain": [
       "<IPython.core.display.Math object>"
      ]
     },
     "metadata": {},
     "output_type": "display_data"
    }
   ],
   "source": [
    "formula, adj, exp = csl.causalImpact(msct,on = \"Lung Cancer\",doing = \"Tar\",values = {})\n",
    "display(Math(formula.toLatex()))"
   ]
  },
  {
   "cell_type": "markdown",
   "metadata": {},
   "source": [
    "We can now combine these two pieces of information to have the causal effect of $Smoking$ on $LungCancer$ and reduce the expression of $P(LungCancer \\mid do(Smoking))$ to elements that we observed:\n",
    "$$ P(LungCancer \\mid do(Smoking)) = \\sum_{Tar}{(P(Tar \\mid Smoking) \\times \\sum_{Smoking^{'}}{P(LungCancer \\mid Tar, Smoking^{'}) \\times P(Smoking^{'})})} $$"
   ]
  },
  {
   "cell_type": "markdown",
   "metadata": {},
   "source": [
    "## Birth-weight paradox:"
   ]
  },
  {
   "cell_type": "markdown",
   "metadata": {},
   "source": [
    "> Studies have shown that babies of smoking mothers tend to weigh less than average. Other studies have shown that low-birth-weight babies have a higher mortality rate than normal-birth-weight babies. The corresponding causal diagram is the following causal:"
   ]
  },
  {
   "cell_type": "code",
   "execution_count": 9,
   "metadata": {
    "execution": {
     "iopub.execute_input": "2023-08-16T08:17:16.511190Z",
     "iopub.status.busy": "2023-08-16T08:17:16.510723Z",
     "iopub.status.idle": "2023-08-16T08:17:16.594877Z",
     "shell.execute_reply": "2023-08-16T08:17:16.593799Z",
     "shell.execute_reply.started": "2023-08-16T08:17:16.511092Z"
    }
   },
   "outputs": [
    {
     "data": {
      "text/html": [
       "<svg xmlns=\"http://www.w3.org/2000/svg\" xmlns:xlink=\"http://www.w3.org/1999/xlink\" width=\"206pt\" height=\"188pt\" viewBox=\"0.00 0.00 206.17 188.00\">\n",
       "<g id=\"graph0\" class=\"graph\" transform=\"scale(1 1) rotate(0) translate(4 184)\">\n",
       "<title>G</title>\n",
       "<!-- Low Birth Weight -->\n",
       "<g id=\"node1\" class=\"node\">\n",
       "<title>Low Birth Weight</title>\n",
       "<g id=\"a_node1\"><a xlink:title=\"(1) Low Birth Weight\">\n",
       "<ellipse fill=\"#404040\" stroke=\"black\" cx=\"99.08\" cy=\"-90\" rx=\"99.08\" ry=\"18\"/>\n",
       "<text text-anchor=\"middle\" x=\"99.08\" y=\"-85.33\" font-family=\"Times,serif\" font-size=\"14.00\" fill=\"white\">Low Birth Weight</text>\n",
       "</a>\n",
       "</g>\n",
       "</g>\n",
       "<!-- Mortality -->\n",
       "<g id=\"node3\" class=\"node\">\n",
       "<title>Mortality</title>\n",
       "<g id=\"a_node3\"><a xlink:title=\"(2) Mortality\">\n",
       "<ellipse fill=\"#404040\" stroke=\"black\" cx=\"99.08\" cy=\"-18\" rx=\"58.05\" ry=\"18\"/>\n",
       "<text text-anchor=\"middle\" x=\"99.08\" y=\"-13.32\" font-family=\"Times,serif\" font-size=\"14.00\" fill=\"white\">Mortality</text>\n",
       "</a>\n",
       "</g>\n",
       "</g>\n",
       "<!-- Low Birth Weight&#45;&gt;Mortality -->\n",
       "<g id=\"edge2\" class=\"edge\">\n",
       "<title>Low Birth Weight-&gt;Mortality</title>\n",
       "<g id=\"a_edge2\"><a xlink:title=\"1 → 2\">\n",
       "<path fill=\"none\" stroke=\"#4a4a4a\" d=\"M99.08,-71.7C99.08,-64.24 99.08,-55.32 99.08,-46.97\"/>\n",
       "<polygon fill=\"#4a4a4a\" stroke=\"#4a4a4a\" points=\"102.58,-47.1 99.08,-37.1 95.58,-47.1 102.58,-47.1\"/>\n",
       "</a>\n",
       "</g>\n",
       "</g>\n",
       "<!-- Smoking -->\n",
       "<g id=\"node2\" class=\"node\">\n",
       "<title>Smoking</title>\n",
       "<g id=\"a_node2\"><a xlink:title=\"(0) Smoking\">\n",
       "<ellipse fill=\"#404040\" stroke=\"black\" cx=\"99.08\" cy=\"-162\" rx=\"54.89\" ry=\"18\"/>\n",
       "<text text-anchor=\"middle\" x=\"99.08\" y=\"-157.32\" font-family=\"Times,serif\" font-size=\"14.00\" fill=\"white\">Smoking</text>\n",
       "</a>\n",
       "</g>\n",
       "</g>\n",
       "<!-- Smoking&#45;&gt;Low Birth Weight -->\n",
       "<g id=\"edge1\" class=\"edge\">\n",
       "<title>Smoking-&gt;Low Birth Weight</title>\n",
       "<g id=\"a_edge1\"><a xlink:title=\"0 → 1\">\n",
       "<path fill=\"none\" stroke=\"#4a4a4a\" d=\"M99.08,-143.7C99.08,-136.24 99.08,-127.32 99.08,-118.97\"/>\n",
       "<polygon fill=\"#4a4a4a\" stroke=\"#4a4a4a\" points=\"102.58,-119.1 99.08,-109.1 95.58,-119.1 102.58,-119.1\"/>\n",
       "</a>\n",
       "</g>\n",
       "</g>\n",
       "</g>\n",
       "</svg>"
      ],
      "text/plain": [
       "(pyAgrum.BayesNet<double>@0x555fcf477910) BN{nodes: 3, arcs: 2, domainSize: 8, dim: 5, mem: 80o}"
      ]
     },
     "execution_count": 9,
     "metadata": {},
     "output_type": "execute_result"
    }
   ],
   "source": [
    "bwp = gum.fastBN(\"Smoking->Low Birth Weight->Mortality\")\n",
    "bwp"
   ]
  },
  {
   "cell_type": "code",
   "execution_count": 10,
   "metadata": {
    "execution": {
     "iopub.execute_input": "2023-08-16T08:17:16.597041Z",
     "iopub.status.busy": "2023-08-16T08:17:16.596301Z",
     "iopub.status.idle": "2023-08-16T08:17:16.706214Z",
     "shell.execute_reply": "2023-08-16T08:17:16.705294Z",
     "shell.execute_reply.started": "2023-08-16T08:17:16.597002Z"
    }
   },
   "outputs": [
    {
     "data": {
      "text/html": [
       "\n",
       "      <style>\n",
       "      .floating-box {\n",
       "      display: inline-block;\n",
       "      margin: 7px;\n",
       "      padding : 3px;\n",
       "      border: 0px solid transparent;  \n",
       "      valign:middle;\n",
       "      background-color: transparent;\n",
       "      }\n",
       "      </style>\n",
       "      <div class=\"floating-box\"><svg xmlns=\"http://www.w3.org/2000/svg\" xmlns:xlink=\"http://www.w3.org/1999/xlink\" width=\"180pt\" height=\"164pt\" viewBox=\"0.00 0.00 180.00 164.14\">\n",
       "<g id=\"graph0\" class=\"graph\" transform=\"scale(0.873074 0.873074) rotate(0) translate(4 184)\">\n",
       "<title>G</title>\n",
       "<!-- Smoking -->\n",
       "<g id=\"node1\" class=\"node\">\n",
       "<title>Smoking</title>\n",
       "<ellipse fill=\"#404040\" stroke=\"#4a4a4a\" cx=\"99.08\" cy=\"-162\" rx=\"54.89\" ry=\"18\"/>\n",
       "<text text-anchor=\"middle\" x=\"99.08\" y=\"-157.32\" font-family=\"Times,serif\" font-size=\"14.00\" fill=\"white\">Smoking</text>\n",
       "</g>\n",
       "<!-- Low Birth Weight -->\n",
       "<g id=\"node2\" class=\"node\">\n",
       "<title>Low Birth Weight</title>\n",
       "<ellipse fill=\"#404040\" stroke=\"#4a4a4a\" cx=\"99.08\" cy=\"-90\" rx=\"99.08\" ry=\"18\"/>\n",
       "<text text-anchor=\"middle\" x=\"99.08\" y=\"-85.33\" font-family=\"Times,serif\" font-size=\"14.00\" fill=\"white\">Low Birth Weight</text>\n",
       "</g>\n",
       "<!-- Smoking&#45;&gt;Low Birth Weight -->\n",
       "<g id=\"edge1\" class=\"edge\">\n",
       "<title>Smoking-&gt;Low Birth Weight</title>\n",
       "<path fill=\"none\" stroke=\"#4a4a4a\" d=\"M98.08,-143.7C98.08,-136.24 98.08,-127.32 98.08,-118.97\"/>\n",
       "<path fill=\"none\" stroke=\"#4a4a4a\" d=\"M100.08,-143.7C100.08,-136.24 100.08,-127.32 100.08,-118.97\"/>\n",
       "<polygon fill=\"#4a4a4a\" stroke=\"#4a4a4a\" points=\"102.58,-119.1 99.08,-109.1 95.58,-119.1 102.58,-119.1\"/>\n",
       "</g>\n",
       "<!-- Mortality -->\n",
       "<g id=\"node3\" class=\"node\">\n",
       "<title>Mortality</title>\n",
       "<ellipse fill=\"#404040\" stroke=\"#4a4a4a\" cx=\"99.08\" cy=\"-18\" rx=\"58.05\" ry=\"18\"/>\n",
       "<text text-anchor=\"middle\" x=\"99.08\" y=\"-13.32\" font-family=\"Times,serif\" font-size=\"14.00\" fill=\"white\">Mortality</text>\n",
       "</g>\n",
       "<!-- Low Birth Weight&#45;&gt;Mortality -->\n",
       "<g id=\"edge2\" class=\"edge\">\n",
       "<title>Low Birth Weight-&gt;Mortality</title>\n",
       "<path fill=\"none\" stroke=\"#4a4a4a\" d=\"M98.08,-71.7C98.08,-64.24 98.08,-55.32 98.08,-46.97\"/>\n",
       "<path fill=\"none\" stroke=\"#4a4a4a\" d=\"M100.08,-71.7C100.08,-64.24 100.08,-55.32 100.08,-46.97\"/>\n",
       "<polygon fill=\"#4a4a4a\" stroke=\"#4a4a4a\" points=\"102.58,-47.1 99.08,-37.1 95.58,-47.1 102.58,-47.1\"/>\n",
       "</g>\n",
       "</g>\n",
       "</svg><br><center><small><em>Causal Model</em></small></center></div><div class=\"floating-box\">$$\\begin{equation*}P( Mortality \\mid \\text{do}(Smoking)) = \\sum_{Low Birth Weight}{P\\left(Low Birth Weight\\mid Smoking\\right) \\cdot \\left(\\sum_{Smoking'}{P\\left(Mortality\\mid Low Birth Weight\\right) \\cdot P\\left(Smoking'\\right)}\\right)}\\end{equation*}$$<br><center><small><em>Explanation : frontdoor ['Low Birth Weight'] found.</em></small></center></div><div class=\"floating-box\"><table style=\"border:1px solid black;\">\n",
       "<tr><th colspan='1'></th>\n",
       "      <th colspan='2' style='border:1px solid black;color:black;background-color:#808080;'><center>Mortality</center>\n",
       "      </th></tr>\n",
       "<tr><th style='border:1px solid black;color:black;background-color:#808080'><center>Smoking</center></th><th style='border:1px solid black;border-bottom-style: double;color:black;background-color:#BBBBBB'>\n",
       "      <center>0</center></th><th style='border:1px solid black;border-bottom-style: double;color:black;background-color:#BBBBBB'>\n",
       "      <center>1</center></th></tr>\n",
       "<tr><th style='border:1px solid black;color:black;background-color:#BBBBBB'><center>0</center></th><td style='color:black;background-color:#93ea64;text-align:right;'>0.8408</td><td style='color:black;background-color:#ea9364;text-align:right;'>0.1592</td></tr>\n",
       "<tr><th style='border:1px solid black;color:black;background-color:#BBBBBB'><center>1</center></th><td style='color:black;background-color:#aad364;text-align:right;'>0.6636</td><td style='color:black;background-color:#d3aa64;text-align:right;'>0.3364</td></tr>\n",
       "</table><br><center><small><em>Impact</em></small></center></div>"
      ],
      "text/plain": [
       "<IPython.core.display.HTML object>"
      ]
     },
     "metadata": {},
     "output_type": "display_data"
    }
   ],
   "source": [
    "# Causal effect of Smoking on neo-natal mortality\n",
    "bwpModele = csl.CausalModel(bwp)\n",
    "cslnb.showCausalImpact(bwpModele, \"Mortality\", doing=\"Smoking\",values={})"
   ]
  },
  {
   "cell_type": "markdown",
   "metadata": {},
   "source": [
    "> However the data also showed that low-birth-weight babies of smoker mothers had lower mortality rates than low-birth-weight babies of non-smoker mothers. <br>\n",
    "An explanation for this paradoxical situation is that low-birth-weight is either due to a smoking mother or to another birth defect that is much more threatening to the baby's health. The causal diagram becomes:"
   ]
  },
  {
   "cell_type": "code",
   "execution_count": 11,
   "metadata": {
    "execution": {
     "iopub.execute_input": "2023-08-16T08:17:16.707383Z",
     "iopub.status.busy": "2023-08-16T08:17:16.707133Z",
     "iopub.status.idle": "2023-08-16T08:17:16.775413Z",
     "shell.execute_reply": "2023-08-16T08:17:16.774423Z",
     "shell.execute_reply.started": "2023-08-16T08:17:16.707362Z"
    }
   },
   "outputs": [
    {
     "data": {
      "text/html": [
       "<svg xmlns=\"http://www.w3.org/2000/svg\" xmlns:xlink=\"http://www.w3.org/1999/xlink\" width=\"333pt\" height=\"188pt\" viewBox=\"0.00 0.00 333.09 188.00\">\n",
       "<g id=\"graph0\" class=\"graph\" transform=\"scale(1 1) rotate(0) translate(4 184)\">\n",
       "<title>G</title>\n",
       "<!-- Birth defect -->\n",
       "<g id=\"node1\" class=\"node\">\n",
       "<title>Birth defect</title>\n",
       "<g id=\"a_node1\"><a xlink:title=\"(3) Birth defect\">\n",
       "<ellipse fill=\"#404040\" stroke=\"black\" cx=\"71.2\" cy=\"-162\" rx=\"71.2\" ry=\"18\"/>\n",
       "<text text-anchor=\"middle\" x=\"71.2\" y=\"-157.32\" font-family=\"Times,serif\" font-size=\"14.00\" fill=\"white\">Birth defect</text>\n",
       "</a>\n",
       "</g>\n",
       "</g>\n",
       "<!-- Low Birth Weight -->\n",
       "<g id=\"node2\" class=\"node\">\n",
       "<title>Low Birth Weight</title>\n",
       "<g id=\"a_node2\"><a xlink:title=\"(1) Low Birth Weight\">\n",
       "<ellipse fill=\"#404040\" stroke=\"black\" cx=\"171.2\" cy=\"-90\" rx=\"99.08\" ry=\"18\"/>\n",
       "<text text-anchor=\"middle\" x=\"171.2\" y=\"-85.33\" font-family=\"Times,serif\" font-size=\"14.00\" fill=\"white\">Low Birth Weight</text>\n",
       "</a>\n",
       "</g>\n",
       "</g>\n",
       "<!-- Birth defect&#45;&gt;Low Birth Weight -->\n",
       "<g id=\"edge3\" class=\"edge\">\n",
       "<title>Birth defect-&gt;Low Birth Weight</title>\n",
       "<g id=\"a_edge3\"><a xlink:title=\"3 → 1\">\n",
       "<path fill=\"none\" stroke=\"#4a4a4a\" d=\"M94.65,-144.59C107.62,-135.51 123.96,-124.07 138.2,-114.1\"/>\n",
       "<polygon fill=\"#4a4a4a\" stroke=\"#4a4a4a\" points=\"140.02,-116.4 146.21,-107.8 136.01,-110.66 140.02,-116.4\"/>\n",
       "</a>\n",
       "</g>\n",
       "</g>\n",
       "<!-- Mortality -->\n",
       "<g id=\"node4\" class=\"node\">\n",
       "<title>Mortality</title>\n",
       "<g id=\"a_node4\"><a xlink:title=\"(2) Mortality\">\n",
       "<ellipse fill=\"#404040\" stroke=\"black\" cx=\"171.2\" cy=\"-18\" rx=\"58.05\" ry=\"18\"/>\n",
       "<text text-anchor=\"middle\" x=\"171.2\" y=\"-13.32\" font-family=\"Times,serif\" font-size=\"14.00\" fill=\"white\">Mortality</text>\n",
       "</a>\n",
       "</g>\n",
       "</g>\n",
       "<!-- Birth defect&#45;&gt;Mortality -->\n",
       "<g id=\"edge5\" class=\"edge\">\n",
       "<title>Birth defect-&gt;Mortality</title>\n",
       "<g id=\"a_edge5\"><a xlink:title=\"3 → 2\">\n",
       "<path fill=\"none\" stroke=\"#4a4a4a\" d=\"M63.88,-143.84C56.99,-124.79 49.58,-93.86 63.2,-72 74.82,-53.36 95.12,-41.09 115,-33.1\"/>\n",
       "<polygon fill=\"#4a4a4a\" stroke=\"#4a4a4a\" points=\"116.14,-36.04 124.32,-29.3 113.72,-29.47 116.14,-36.04\"/>\n",
       "</a>\n",
       "</g>\n",
       "</g>\n",
       "<!-- Low Birth Weight&#45;&gt;Mortality -->\n",
       "<g id=\"edge2\" class=\"edge\">\n",
       "<title>Low Birth Weight-&gt;Mortality</title>\n",
       "<g id=\"a_edge2\"><a xlink:title=\"1 → 2\">\n",
       "<path fill=\"none\" stroke=\"#4a4a4a\" d=\"M171.2,-71.7C171.2,-64.24 171.2,-55.32 171.2,-46.97\"/>\n",
       "<polygon fill=\"#4a4a4a\" stroke=\"#4a4a4a\" points=\"174.7,-47.1 171.2,-37.1 167.7,-47.1 174.7,-47.1\"/>\n",
       "</a>\n",
       "</g>\n",
       "</g>\n",
       "<!-- Smoking -->\n",
       "<g id=\"node3\" class=\"node\">\n",
       "<title>Smoking</title>\n",
       "<g id=\"a_node3\"><a xlink:title=\"(0) Smoking\">\n",
       "<ellipse fill=\"#404040\" stroke=\"black\" cx=\"270.2\" cy=\"-162\" rx=\"54.89\" ry=\"18\"/>\n",
       "<text text-anchor=\"middle\" x=\"270.2\" y=\"-157.32\" font-family=\"Times,serif\" font-size=\"14.00\" fill=\"white\">Smoking</text>\n",
       "</a>\n",
       "</g>\n",
       "</g>\n",
       "<!-- Smoking&#45;&gt;Low Birth Weight -->\n",
       "<g id=\"edge1\" class=\"edge\">\n",
       "<title>Smoking-&gt;Low Birth Weight</title>\n",
       "<g id=\"a_edge1\"><a xlink:title=\"0 → 1\">\n",
       "<path fill=\"none\" stroke=\"#4a4a4a\" d=\"M247.74,-145.12C234.7,-135.9 218.05,-124.12 203.61,-113.91\"/>\n",
       "<polygon fill=\"#4a4a4a\" stroke=\"#4a4a4a\" points=\"206.14,-110.71 195.96,-107.8 202.1,-116.43 206.14,-110.71\"/>\n",
       "</a>\n",
       "</g>\n",
       "</g>\n",
       "<!-- Smoking&#45;&gt;Mortality -->\n",
       "<g id=\"edge4\" class=\"edge\">\n",
       "<title>Smoking-&gt;Mortality</title>\n",
       "<g id=\"a_edge4\"><a xlink:title=\"0 → 2\">\n",
       "<path fill=\"none\" stroke=\"#4a4a4a\" d=\"M277.81,-143.85C285,-124.81 292.84,-93.88 279.2,-72 267.58,-53.36 247.28,-41.09 227.4,-33.1\"/>\n",
       "<polygon fill=\"#4a4a4a\" stroke=\"#4a4a4a\" points=\"228.68,-29.47 218.08,-29.3 226.26,-36.04 228.68,-29.47\"/>\n",
       "</a>\n",
       "</g>\n",
       "</g>\n",
       "</g>\n",
       "</svg>"
      ],
      "text/plain": [
       "(pyAgrum.BayesNet<double>@0x555fcf474a00) BN{nodes: 4, arcs: 5, domainSize: 16, dim: 14, mem: 224o}"
      ]
     },
     "execution_count": 11,
     "metadata": {},
     "output_type": "execute_result"
    }
   ],
   "source": [
    "bwpe = gum.fastBN(\"Smoking->Low Birth Weight->Mortality<-Smoking;Birth defect->Low Birth Weight;Mortality<-Birth defect\")\n",
    "bwpe"
   ]
  },
  {
   "cell_type": "markdown",
   "metadata": {},
   "source": [
    "> Pinpointing the source of this paradoxical situation becomes easy thanks to this causal diagram: \"collider bias\".\"Low Birth Weight\" is a collider! \n",
    "The data only concerned low-birth-weight babies (it is as if we are adjusting for \"Low Birth Weight.\"). Knowing that the mother doesn't smoke increases our belief that a birth defect is the cause of the low-birth-weight, and a birth defect is more threatening for the baby's health. This opened the backdoor path formerly blocked and allowed non-causal information to flow from Smoking to Mortality ($Smoking \\rightarrow Low Birth Weight \\leftarrow Birth defect \\rightarrow Mortality $) introducing a bias."
   ]
  },
  {
   "cell_type": "code",
   "execution_count": 12,
   "metadata": {
    "execution": {
     "iopub.execute_input": "2023-08-16T08:17:16.777356Z",
     "iopub.status.busy": "2023-08-16T08:17:16.776848Z",
     "iopub.status.idle": "2023-08-16T08:17:16.883864Z",
     "shell.execute_reply": "2023-08-16T08:17:16.882917Z",
     "shell.execute_reply.started": "2023-08-16T08:17:16.777318Z"
    }
   },
   "outputs": [
    {
     "data": {
      "text/html": [
       "\n",
       "      <style>\n",
       "      .floating-box {\n",
       "      display: inline-block;\n",
       "      margin: 7px;\n",
       "      padding : 3px;\n",
       "      border: 0px solid transparent;  \n",
       "      valign:middle;\n",
       "      background-color: transparent;\n",
       "      }\n",
       "      </style>\n",
       "      <div class=\"floating-box\"><svg xmlns=\"http://www.w3.org/2000/svg\" xmlns:xlink=\"http://www.w3.org/1999/xlink\" width=\"180pt\" height=\"102pt\" viewBox=\"0.00 0.00 180.00 101.59\">\n",
       "<g id=\"graph0\" class=\"graph\" transform=\"scale(0.540393 0.540393) rotate(0) translate(4 184)\">\n",
       "<title>G</title>\n",
       "<!-- Smoking -->\n",
       "<g id=\"node1\" class=\"node\">\n",
       "<title>Smoking</title>\n",
       "<ellipse fill=\"#404040\" stroke=\"#4a4a4a\" cx=\"54.89\" cy=\"-162\" rx=\"54.89\" ry=\"18\"/>\n",
       "<text text-anchor=\"middle\" x=\"54.89\" y=\"-157.32\" font-family=\"Times,serif\" font-size=\"14.00\" fill=\"white\">Smoking</text>\n",
       "</g>\n",
       "<!-- Low Birth Weight -->\n",
       "<g id=\"node2\" class=\"node\">\n",
       "<title>Low Birth Weight</title>\n",
       "<ellipse fill=\"#404040\" stroke=\"#4a4a4a\" cx=\"154.89\" cy=\"-90\" rx=\"99.08\" ry=\"18\"/>\n",
       "<text text-anchor=\"middle\" x=\"154.89\" y=\"-85.33\" font-family=\"Times,serif\" font-size=\"14.00\" fill=\"white\">Low Birth Weight</text>\n",
       "</g>\n",
       "<!-- Smoking&#45;&gt;Low Birth Weight -->\n",
       "<g id=\"edge1\" class=\"edge\">\n",
       "<title>Smoking-&gt;Low Birth Weight</title>\n",
       "<path fill=\"none\" stroke=\"#4a4a4a\" d=\"M76.51,-144.65C89.76,-135.37 106.82,-123.43 121.59,-113.09\"/>\n",
       "<path fill=\"none\" stroke=\"#4a4a4a\" d=\"M77.66,-146.28C90.9,-137.01 107.97,-125.07 122.74,-114.73\"/>\n",
       "<polygon fill=\"#4a4a4a\" stroke=\"#4a4a4a\" points=\"123.83,-116.32 130.01,-107.71 119.81,-110.58 123.83,-116.32\"/>\n",
       "</g>\n",
       "<!-- Mortality -->\n",
       "<g id=\"node3\" class=\"node\">\n",
       "<title>Mortality</title>\n",
       "<ellipse fill=\"#404040\" stroke=\"#4a4a4a\" cx=\"154.89\" cy=\"-18\" rx=\"58.05\" ry=\"18\"/>\n",
       "<text text-anchor=\"middle\" x=\"154.89\" y=\"-13.32\" font-family=\"Times,serif\" font-size=\"14.00\" fill=\"white\">Mortality</text>\n",
       "</g>\n",
       "<!-- Smoking&#45;&gt;Mortality -->\n",
       "<g id=\"edge4\" class=\"edge\">\n",
       "<title>Smoking-&gt;Mortality</title>\n",
       "<path fill=\"none\" stroke=\"#4a4a4a\" d=\"M46.63,-144.18C39.71,-125.02 32.3,-94.09 46.04,-71.47 57.99,-52.5 78.29,-40.23 98.32,-32.17\"/>\n",
       "<path fill=\"none\" stroke=\"#4a4a4a\" d=\"M48.51,-143.5C41.65,-124.56 34.24,-93.62 47.74,-72.53 59.03,-54.21 79.32,-41.94 99.07,-34.03\"/>\n",
       "<polygon fill=\"#4a4a4a\" stroke=\"#4a4a4a\" points=\"99.83,-36.04 108.01,-29.3 97.41,-29.47 99.83,-36.04\"/>\n",
       "</g>\n",
       "<!-- Low Birth Weight&#45;&gt;Mortality -->\n",
       "<g id=\"edge2\" class=\"edge\">\n",
       "<title>Low Birth Weight-&gt;Mortality</title>\n",
       "<path fill=\"none\" stroke=\"#4a4a4a\" d=\"M153.89,-71.7C153.89,-64.24 153.89,-55.32 153.89,-46.97\"/>\n",
       "<path fill=\"none\" stroke=\"#4a4a4a\" d=\"M155.89,-71.7C155.89,-64.24 155.89,-55.32 155.89,-46.97\"/>\n",
       "<polygon fill=\"#4a4a4a\" stroke=\"#4a4a4a\" points=\"158.39,-47.1 154.89,-37.1 151.39,-47.1 158.39,-47.1\"/>\n",
       "</g>\n",
       "<!-- Birth defect -->\n",
       "<g id=\"node4\" class=\"node\">\n",
       "<title>Birth defect</title>\n",
       "<ellipse fill=\"#404040\" stroke=\"#4a4a4a\" cx=\"253.89\" cy=\"-162\" rx=\"71.2\" ry=\"18\"/>\n",
       "<text text-anchor=\"middle\" x=\"253.89\" y=\"-157.32\" font-family=\"Times,serif\" font-size=\"14.00\" fill=\"white\">Birth defect</text>\n",
       "</g>\n",
       "<!-- Birth defect&#45;&gt;Low Birth Weight -->\n",
       "<g id=\"edge3\" class=\"edge\">\n",
       "<title>Birth defect-&gt;Low Birth Weight</title>\n",
       "<path fill=\"none\" stroke=\"#4a4a4a\" d=\"M230.1,-145.4C217.26,-136.32 201.08,-124.89 186.98,-114.91\"/>\n",
       "<path fill=\"none\" stroke=\"#4a4a4a\" d=\"M231.26,-143.77C218.41,-134.69 202.24,-123.25 188.13,-113.28\"/>\n",
       "<polygon fill=\"#4a4a4a\" stroke=\"#4a4a4a\" points=\"189.83,-110.71 179.64,-107.8 185.79,-116.43 189.83,-110.71\"/>\n",
       "</g>\n",
       "<!-- Birth defect&#45;&gt;Mortality -->\n",
       "<g id=\"edge5\" class=\"edge\">\n",
       "<title>Birth defect-&gt;Mortality</title>\n",
       "<path fill=\"none\" stroke=\"#4a4a4a\" d=\"M260.57,-143.49C267.72,-124.56 275.56,-93.63 262.04,-72.53 250.76,-54.21 230.46,-41.94 210.71,-34.03\"/>\n",
       "<path fill=\"none\" stroke=\"#4a4a4a\" d=\"M262.44,-144.2C269.66,-125.05 277.5,-94.12 263.74,-71.47 251.79,-52.5 231.49,-40.23 211.46,-32.17\"/>\n",
       "<polygon fill=\"#4a4a4a\" stroke=\"#4a4a4a\" points=\"212.37,-29.47 201.77,-29.3 209.95,-36.04 212.37,-29.47\"/>\n",
       "</g>\n",
       "</g>\n",
       "</svg><br><center><small><em>Causal Model</em></small></center></div><div class=\"floating-box\">$$\\begin{equation*}P( Mortality \\mid \\text{do}(Smoking)) = \\sum_{Birth defect,Low Birth Weight}{P\\left(Birth defect\\right) \\cdot P\\left(Mortality\\mid Birth defect,Low Birth Weight,Smoking\\right) \\cdot P\\left(Low Birth Weight\\mid Birth defect,Smoking\\right)}\\end{equation*}$$<br><center><small><em>Explanation : Do-calculus computations</em></small></center></div><div class=\"floating-box\"><table style=\"border:1px solid black;\">\n",
       "<tr><th colspan='1'></th>\n",
       "      <th colspan='2' style='border:1px solid black;color:black;background-color:#808080;'><center>Mortality</center>\n",
       "      </th></tr>\n",
       "<tr><th style='border:1px solid black;color:black;background-color:#808080'><center>Smoking</center></th><th style='border:1px solid black;border-bottom-style: double;color:black;background-color:#BBBBBB'>\n",
       "      <center>0</center></th><th style='border:1px solid black;border-bottom-style: double;color:black;background-color:#BBBBBB'>\n",
       "      <center>1</center></th></tr>\n",
       "<tr><th style='border:1px solid black;color:black;background-color:#BBBBBB'><center>0</center></th><td style='color:black;background-color:#bbc264;text-align:right;'>0.5259</td><td style='color:black;background-color:#c2bb64;text-align:right;'>0.4741</td></tr>\n",
       "<tr><th style='border:1px solid black;color:black;background-color:#BBBBBB'><center>1</center></th><td style='color:black;background-color:#d1ac64;text-align:right;'>0.3531</td><td style='color:black;background-color:#acd164;text-align:right;'>0.6469</td></tr>\n",
       "</table><br><center><small><em>Impact</em></small></center></div>"
      ],
      "text/plain": [
       "<IPython.core.display.HTML object>"
      ]
     },
     "metadata": {},
     "output_type": "display_data"
    }
   ],
   "source": [
    "bwpeModele = csl.CausalModel(bwpe)\n",
    "cslnb.showCausalImpact(bwpeModele, \"Mortality\", doing=\"Smoking\",values={})"
   ]
  },
  {
   "cell_type": "code",
   "execution_count": null,
   "metadata": {},
   "outputs": [],
   "source": []
  }
 ],
 "metadata": {
  "kernelspec": {
   "display_name": "Python 3 (ipykernel)",
   "language": "python",
   "name": "python3"
  },
  "language_info": {
   "codemirror_mode": {
    "name": "ipython",
    "version": 3
   },
   "file_extension": ".py",
   "mimetype": "text/x-python",
   "name": "python",
   "nbconvert_exporter": "python",
   "pygments_lexer": "ipython3",
   "version": "3.11.3"
  }
 },
 "nbformat": 4,
 "nbformat_minor": 4
}
