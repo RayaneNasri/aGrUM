{
 "cells": [
  {
   "cell_type": "markdown",
   "metadata": {
    "editable": true,
    "slideshow": {
     "slide_type": ""
    },
    "tags": []
   },
   "source": [
    "# Smoking (chapter 5)\n",
    "\n",
    "| | | |\n",
    "|-|-|-|\n",
    "|[ ![Creative Commons License](images/cc4.png)](http://creativecommons.org/licenses/by-nc/4.0/) |[ ![aGrUM](images/logoAgrum.png)](https://agrum.org) |[ ![interactive online version](images/atbinder.svg)](https://agrum.gitlab.io/extra/agrum_at_binder.html)\n",
    "\n",
    "Authors: <b>Aymen Merrouche</b> and Pierre-Henri Wuillemin.\n",
    "\n",
    "**This notebook follows the example from \"The Book Of Why\" (Pearl, 2018) chapter 5**"
   ]
  },
  {
   "cell_type": "code",
   "execution_count": 1,
   "metadata": {
    "editable": true,
    "execution": {
     "iopub.execute_input": "2024-06-10T19:51:54.758740Z",
     "iopub.status.busy": "2024-06-10T19:51:54.758540Z",
     "iopub.status.idle": "2024-06-10T19:51:55.225807Z",
     "shell.execute_reply": "2024-06-10T19:51:55.224442Z",
     "shell.execute_reply.started": "2024-06-10T19:51:54.758719Z"
    },
    "slideshow": {
     "slide_type": ""
    },
    "tags": []
   },
   "outputs": [],
   "source": [
    "from IPython.display import display, Math, Latex,HTML\n",
    "\n",
    "import pyAgrum as gum\n",
    "import pyAgrum.lib.notebook as gnb\n",
    "import pyAgrum.causal as csl\n",
    "import pyAgrum.causal.notebook as cslnb\n",
    "import os"
   ]
  },
  {
   "cell_type": "markdown",
   "metadata": {},
   "source": [
    "> In the 1950s the strong association between smoking and lung cancer provoked a debate on the issue. Does smoking cause lung cancer?"
   ]
  },
  {
   "cell_type": "markdown",
   "metadata": {
    "editable": true,
    "slideshow": {
     "slide_type": ""
    },
    "tags": []
   },
   "source": [
    "### Corresponding causal diagram:\n",
    "The corresponding causal diagram is the following:"
   ]
  },
  {
   "cell_type": "code",
   "execution_count": 2,
   "metadata": {
    "editable": true,
    "execution": {
     "iopub.execute_input": "2024-06-10T19:51:55.226856Z",
     "iopub.status.busy": "2024-06-10T19:51:55.226599Z",
     "iopub.status.idle": "2024-06-10T19:51:55.313394Z",
     "shell.execute_reply": "2024-06-10T19:51:55.312180Z",
     "shell.execute_reply.started": "2024-06-10T19:51:55.226836Z"
    },
    "slideshow": {
     "slide_type": ""
    },
    "tags": []
   },
   "outputs": [
    {
     "data": {
      "text/html": [
       "<svg xmlns=\"http://www.w3.org/2000/svg\" xmlns:xlink=\"http://www.w3.org/1999/xlink\" width=\"158pt\" height=\"116pt\" viewBox=\"0.00 0.00 157.77 116.00\">\n",
       "<g id=\"graph0\" class=\"graph\" transform=\"scale(1 1) rotate(0) translate(4 112)\">\n",
       "<title>G</title>\n",
       "<!-- Smoking -->\n",
       "<g id=\"node1\" class=\"node\">\n",
       "<title>Smoking</title>\n",
       "<g id=\"a_node1\"><a xlink:title=\"(0) Smoking\">\n",
       "<ellipse fill=\"#404040\" stroke=\"#4a4a4a\" cx=\"74.88\" cy=\"-90\" rx=\"54.89\" ry=\"18\"/>\n",
       "<text text-anchor=\"middle\" x=\"74.88\" y=\"-85.33\" font-family=\"Times,serif\" font-size=\"14.00\" fill=\"white\">Smoking</text>\n",
       "</a>\n",
       "</g>\n",
       "</g>\n",
       "<!-- Lung Cancer -->\n",
       "<g id=\"node2\" class=\"node\">\n",
       "<title>Lung Cancer</title>\n",
       "<g id=\"a_node2\"><a xlink:title=\"(1) Lung Cancer\">\n",
       "<ellipse fill=\"#404040\" stroke=\"#4a4a4a\" cx=\"74.88\" cy=\"-18\" rx=\"74.88\" ry=\"18\"/>\n",
       "<text text-anchor=\"middle\" x=\"74.88\" y=\"-13.32\" font-family=\"Times,serif\" font-size=\"14.00\" fill=\"white\">Lung Cancer</text>\n",
       "</a>\n",
       "</g>\n",
       "</g>\n",
       "<!-- Smoking&#45;&gt;Lung Cancer -->\n",
       "<g id=\"edge1\" class=\"edge\">\n",
       "<title>Smoking-&gt;Lung Cancer</title>\n",
       "<g id=\"a_edge1\"><a xlink:title=\"0 → 1\">\n",
       "<path fill=\"none\" stroke=\"#4a4a4a\" d=\"M74.88,-71.7C74.88,-64.41 74.88,-55.73 74.88,-47.54\"/>\n",
       "<polygon fill=\"#4a4a4a\" stroke=\"#4a4a4a\" points=\"78.38,-47.62 74.88,-37.62 71.38,-47.62 78.38,-47.62\"/>\n",
       "</a>\n",
       "</g>\n",
       "</g>\n",
       "</g>\n",
       "</svg>"
      ],
      "text/plain": [
       "(pyAgrum.BayesNet<double>@0x559598a64680) BN{nodes: 2, arcs: 1, domainSize: 4, dim: 3, mem: 48o}"
      ]
     },
     "execution_count": 2,
     "metadata": {},
     "output_type": "execute_result"
    }
   ],
   "source": [
    "sc = gum.fastBN(\"Smoking->Lung Cancer\")\n",
    "sc"
   ]
  },
  {
   "cell_type": "markdown",
   "metadata": {
    "editable": true,
    "slideshow": {
     "slide_type": ""
    },
    "tags": []
   },
   "source": [
    "### Constitutional Hypothesis:\n",
    "> Smoking industry and some other skeptic statisticians advanced the theory that smokers are genetically different from nonsmokers. A smoking gene could be a confounder that would explain the observed association."
   ]
  },
  {
   "cell_type": "code",
   "execution_count": 3,
   "metadata": {
    "editable": true,
    "execution": {
     "iopub.execute_input": "2024-06-10T19:51:55.314889Z",
     "iopub.status.busy": "2024-06-10T19:51:55.314634Z",
     "iopub.status.idle": "2024-06-10T19:51:55.528914Z",
     "shell.execute_reply": "2024-06-10T19:51:55.528266Z",
     "shell.execute_reply.started": "2024-06-10T19:51:55.314862Z"
    },
    "slideshow": {
     "slide_type": ""
    },
    "tags": []
   },
   "outputs": [
    {
     "data": {
      "text/html": [
       "\n",
       "      <style>\n",
       "      .floating-box {\n",
       "      display: inline-block;\n",
       "      margin: 7px;\n",
       "      padding : 3px;\n",
       "      border: 0px solid transparent;  \n",
       "      valign:middle;\n",
       "      background-color: transparent;\n",
       "      }\n",
       "      </style>\n",
       "      <div class=\"floating-box\"><svg xmlns=\"http://www.w3.org/2000/svg\" xmlns:xlink=\"http://www.w3.org/1999/xlink\" width=\"180pt\" height=\"53pt\" viewBox=\"0.00 0.00 180.00 52.66\">\n",
       "<g id=\"graph0\" class=\"graph\" transform=\"scale(0.629869 0.629869) rotate(0) translate(4 79.6)\">\n",
       "<title>G</title>\n",
       "<!-- Smoking Gene -->\n",
       "<g id=\"node1\" class=\"node\">\n",
       "<title>Smoking Gene</title>\n",
       "<ellipse fill=\"#404040\" stroke=\"#4a4a4a\" cx=\"128.89\" cy=\"-73.8\" rx=\"1.8\" ry=\"1.8\"/>\n",
       "</g>\n",
       "<!-- Smoking -->\n",
       "<g id=\"node2\" class=\"node\">\n",
       "<title>Smoking</title>\n",
       "<ellipse fill=\"#404040\" stroke=\"#4a4a4a\" cx=\"54.89\" cy=\"-18\" rx=\"54.89\" ry=\"18\"/>\n",
       "<text text-anchor=\"middle\" x=\"54.89\" y=\"-13.32\" font-family=\"Times,serif\" font-size=\"14.00\" fill=\"white\">Smoking</text>\n",
       "</g>\n",
       "<!-- Smoking Gene&#45;&gt;Smoking -->\n",
       "<g id=\"edge1\" class=\"edge\">\n",
       "<title>Smoking Gene-&gt;Smoking</title>\n",
       "<path fill=\"none\" stroke=\"#4a4a4a\" stroke-dasharray=\"5,2\" d=\"M127.84,-72.04C123.15,-68.62 103.46,-54.31 85.72,-41.41\"/>\n",
       "<polygon fill=\"#4a4a4a\" stroke=\"#4a4a4a\" points=\"88.08,-38.8 77.93,-35.75 83.96,-44.46 88.08,-38.8\"/>\n",
       "</g>\n",
       "<!-- Lung Cancer -->\n",
       "<g id=\"node3\" class=\"node\">\n",
       "<title>Lung Cancer</title>\n",
       "<ellipse fill=\"#404040\" stroke=\"#4a4a4a\" cx=\"202.89\" cy=\"-18\" rx=\"74.88\" ry=\"18\"/>\n",
       "<text text-anchor=\"middle\" x=\"202.89\" y=\"-13.32\" font-family=\"Times,serif\" font-size=\"14.00\" fill=\"white\">Lung Cancer</text>\n",
       "</g>\n",
       "<!-- Smoking Gene&#45;&gt;Lung Cancer -->\n",
       "<g id=\"edge2\" class=\"edge\">\n",
       "<title>Smoking Gene-&gt;Lung Cancer</title>\n",
       "<path fill=\"none\" stroke=\"#4a4a4a\" stroke-dasharray=\"5,2\" d=\"M129.94,-72.04C134.57,-68.67 153.82,-54.67 171.38,-41.91\"/>\n",
       "<polygon fill=\"#4a4a4a\" stroke=\"#4a4a4a\" points=\"173.07,-45.01 179.1,-36.29 168.96,-39.34 173.07,-45.01\"/>\n",
       "</g>\n",
       "</g>\n",
       "</svg><br><center><small><em>Causal Model</em></small></center></div><div class=\"floating-box\">$$\\begin{equation*}P( Lung Cancer \\mid \\text{do}(Smoking)) = P\\left(Lung Cancer\\right)\\end{equation*}$$<br><center><small><em>Explanation : No causal effect of X on Y, because they are d-separated (conditioning on the observed variables if any).</em></small></center></div><div class=\"floating-box\"><table style=\"border:1px solid black;border-collapse: collapse;\">\n",
       "<tr style='border:1px solid black;color:black;background-color:#808080'>\n",
       "      <th colspan='2'><center>Lung Cancer</center></th></tr>\n",
       "<tr><th style='border:1px solid black;border-bottom-style: double;color:black;background-color:#BBBBBB'>\n",
       "      <center>0</center></th><th style='border:1px solid black;border-bottom-style: double;color:black;background-color:#BBBBBB'>\n",
       "      <center>1</center></th></tr>\n",
       "<tr><td style='color:black;background-color:#c1bc64;text-align:right;padding: 3px;'>0.4841</td><td style='color:black;background-color:#bcc164;text-align:right;padding: 3px;'>0.5159</td></tr>\n",
       "</table><br><center><small><em>Impact</em></small></center></div>"
      ],
      "text/plain": [
       "<IPython.core.display.HTML object>"
      ]
     },
     "metadata": {},
     "output_type": "display_data"
    }
   ],
   "source": [
    "msc = csl.CausalModel(sc, [(\"Smoking Gene\", [\"Smoking\",\"Lung Cancer\"])])\n",
    "cslnb.showCausalImpact(msc, \"Lung Cancer\", doing=\"Smoking\",values={})"
   ]
  },
  {
   "cell_type": "markdown",
   "metadata": {},
   "source": [
    "> This constitutional hypothesis was untestable, we couldn't sequence the human genome at the time. <br>\n",
    "However, this hypothesis wasn't plausible because the observed association was way too strong. <br>"
   ]
  },
  {
   "cell_type": "markdown",
   "metadata": {
    "editable": true,
    "slideshow": {
     "slide_type": ""
    },
    "tags": []
   },
   "source": [
    "### Another explanation \n",
    "To explain this association, another hypothesis was that a smoking gene could be a confounder but there was still a direct causal effect between smoking on lung cancer:"
   ]
  },
  {
   "cell_type": "code",
   "execution_count": 4,
   "metadata": {
    "editable": true,
    "execution": {
     "iopub.execute_input": "2024-06-10T19:51:55.529976Z",
     "iopub.status.busy": "2024-06-10T19:51:55.529791Z",
     "iopub.status.idle": "2024-06-10T19:51:55.629574Z",
     "shell.execute_reply": "2024-06-10T19:51:55.628875Z",
     "shell.execute_reply.started": "2024-06-10T19:51:55.529957Z"
    },
    "slideshow": {
     "slide_type": ""
    },
    "tags": []
   },
   "outputs": [
    {
     "data": {
      "text/html": [
       "\n",
       "      <style>\n",
       "      .floating-box {\n",
       "      display: inline-block;\n",
       "      margin: 7px;\n",
       "      padding : 3px;\n",
       "      border: 0px solid transparent;  \n",
       "      valign:middle;\n",
       "      background-color: transparent;\n",
       "      }\n",
       "      </style>\n",
       "      <div class=\"floating-box\"><svg xmlns=\"http://www.w3.org/2000/svg\" xmlns:xlink=\"http://www.w3.org/1999/xlink\" width=\"179pt\" height=\"156pt\" viewBox=\"0.00 0.00 178.77 155.60\">\n",
       "<g id=\"graph0\" class=\"graph\" transform=\"scale(1 1) rotate(0) translate(4 151.6)\">\n",
       "<title>G</title>\n",
       "<!-- Smoking Gene -->\n",
       "<g id=\"node1\" class=\"node\">\n",
       "<title>Smoking Gene</title>\n",
       "<ellipse fill=\"#404040\" stroke=\"#4a4a4a\" cx=\"95.89\" cy=\"-145.8\" rx=\"1.8\" ry=\"1.8\"/>\n",
       "</g>\n",
       "<!-- Smoking -->\n",
       "<g id=\"node2\" class=\"node\">\n",
       "<title>Smoking</title>\n",
       "<ellipse fill=\"#404040\" stroke=\"#4a4a4a\" cx=\"54.89\" cy=\"-90\" rx=\"54.89\" ry=\"18\"/>\n",
       "<text text-anchor=\"middle\" x=\"54.89\" y=\"-85.33\" font-family=\"Times,serif\" font-size=\"14.00\" fill=\"white\">Smoking</text>\n",
       "</g>\n",
       "<!-- Smoking Gene&#45;&gt;Smoking -->\n",
       "<g id=\"edge2\" class=\"edge\">\n",
       "<title>Smoking Gene-&gt;Smoking</title>\n",
       "<path fill=\"none\" stroke=\"#4a4a4a\" stroke-dasharray=\"5,2\" d=\"M95.18,-143.87C92.63,-140.52 83.62,-128.7 74.77,-117.09\"/>\n",
       "<polygon fill=\"#4a4a4a\" stroke=\"#4a4a4a\" points=\"77.6,-115.02 68.75,-109.19 72.03,-119.26 77.6,-115.02\"/>\n",
       "</g>\n",
       "<!-- Lung Cancer -->\n",
       "<g id=\"node3\" class=\"node\">\n",
       "<title>Lung Cancer</title>\n",
       "<ellipse fill=\"#404040\" stroke=\"#4a4a4a\" cx=\"95.89\" cy=\"-18\" rx=\"74.88\" ry=\"18\"/>\n",
       "<text text-anchor=\"middle\" x=\"95.89\" y=\"-13.32\" font-family=\"Times,serif\" font-size=\"14.00\" fill=\"white\">Lung Cancer</text>\n",
       "</g>\n",
       "<!-- Smoking Gene&#45;&gt;Lung Cancer -->\n",
       "<g id=\"edge3\" class=\"edge\">\n",
       "<title>Smoking Gene-&gt;Lung Cancer</title>\n",
       "<path fill=\"none\" stroke=\"#4a4a4a\" stroke-dasharray=\"5,2\" d=\"M96.86,-143.77C100.62,-139.66 114.32,-123.93 118.89,-108 124.77,-87.52 118.25,-64.19 110.68,-46.56\"/>\n",
       "<polygon fill=\"#4a4a4a\" stroke=\"#4a4a4a\" points=\"113.85,-45.08 106.44,-37.51 107.51,-48.05 113.85,-45.08\"/>\n",
       "</g>\n",
       "<!-- Smoking&#45;&gt;Lung Cancer -->\n",
       "<g id=\"edge1\" class=\"edge\">\n",
       "<title>Smoking-&gt;Lung Cancer</title>\n",
       "<path fill=\"none\" stroke=\"#4a4a4a\" d=\"M63.95,-71.55C68.52,-63.76 74.05,-54.32 79.17,-45.57\"/>\n",
       "<path fill=\"none\" stroke=\"#4a4a4a\" d=\"M65.68,-72.56C70.24,-64.77 75.77,-55.33 80.89,-46.58\"/>\n",
       "<polygon fill=\"#4a4a4a\" stroke=\"#4a4a4a\" points=\"82.97,-47.98 85.01,-37.58 76.93,-44.44 82.97,-47.98\"/>\n",
       "</g>\n",
       "</g>\n",
       "</svg><br><center><small><em>Causal Model</em></small></center></div><div class=\"floating-box\">Hedge Error: G={'Smoking', 'Lung Cancer'}, G[S]={'Lung Cancer'}<br><center><small><em>Impossible</em></small></center></div><div class=\"floating-box\">No result<br><center><small><em>Impact</em></small></center></div>"
      ],
      "text/plain": [
       "<IPython.core.display.HTML object>"
      ]
     },
     "metadata": {},
     "output_type": "display_data"
    }
   ],
   "source": [
    "msc = csl.CausalModel(sc, [(\"Smoking Gene\", [\"Smoking\",\"Lung Cancer\"])], True)\n",
    "cslnb.showCausalImpact(msc, \"Lung Cancer\", doing=\"Smoking\",values={})"
   ]
  },
  {
   "cell_type": "markdown",
   "metadata": {
    "editable": true,
    "slideshow": {
     "slide_type": ""
    },
    "tags": []
   },
   "source": [
    "### Front door criterion:"
   ]
  },
  {
   "cell_type": "markdown",
   "metadata": {
    "editable": true,
    "slideshow": {
     "slide_type": ""
    },
    "tags": []
   },
   "source": [
    "> Let's suppose now that smoking causes cancer only through tar deposits that are fully due to the physical action of cigarettes, the causal diagram becomes:"
   ]
  },
  {
   "cell_type": "code",
   "execution_count": 5,
   "metadata": {
    "execution": {
     "iopub.execute_input": "2024-06-10T19:51:55.630709Z",
     "iopub.status.busy": "2024-06-10T19:51:55.630478Z",
     "iopub.status.idle": "2024-06-10T19:51:55.714346Z",
     "shell.execute_reply": "2024-06-10T19:51:55.713547Z",
     "shell.execute_reply.started": "2024-06-10T19:51:55.630686Z"
    }
   },
   "outputs": [
    {
     "data": {
      "text/html": [
       "<svg xmlns=\"http://www.w3.org/2000/svg\" xmlns:xlink=\"http://www.w3.org/1999/xlink\" width=\"158pt\" height=\"188pt\" viewBox=\"0.00 0.00 157.77 188.00\">\n",
       "<g id=\"graph0\" class=\"graph\" transform=\"scale(1 1) rotate(0) translate(4 184)\">\n",
       "<title>G</title>\n",
       "<!-- Smoking -->\n",
       "<g id=\"node1\" class=\"node\">\n",
       "<title>Smoking</title>\n",
       "<g id=\"a_node1\"><a xlink:title=\"(0) Smoking\">\n",
       "<ellipse fill=\"#404040\" stroke=\"#4a4a4a\" cx=\"74.88\" cy=\"-162\" rx=\"54.89\" ry=\"18\"/>\n",
       "<text text-anchor=\"middle\" x=\"74.88\" y=\"-157.32\" font-family=\"Times,serif\" font-size=\"14.00\" fill=\"white\">Smoking</text>\n",
       "</a>\n",
       "</g>\n",
       "</g>\n",
       "<!-- Tar -->\n",
       "<g id=\"node2\" class=\"node\">\n",
       "<title>Tar</title>\n",
       "<g id=\"a_node2\"><a xlink:title=\"(1) Tar\">\n",
       "<ellipse fill=\"#404040\" stroke=\"#4a4a4a\" cx=\"74.88\" cy=\"-90\" rx=\"27.53\" ry=\"18\"/>\n",
       "<text text-anchor=\"middle\" x=\"74.88\" y=\"-85.33\" font-family=\"Times,serif\" font-size=\"14.00\" fill=\"white\">Tar</text>\n",
       "</a>\n",
       "</g>\n",
       "</g>\n",
       "<!-- Smoking&#45;&gt;Tar -->\n",
       "<g id=\"edge1\" class=\"edge\">\n",
       "<title>Smoking-&gt;Tar</title>\n",
       "<g id=\"a_edge1\"><a xlink:title=\"0 → 1\">\n",
       "<path fill=\"none\" stroke=\"#4a4a4a\" d=\"M74.88,-143.7C74.88,-136.41 74.88,-127.73 74.88,-119.54\"/>\n",
       "<polygon fill=\"#4a4a4a\" stroke=\"#4a4a4a\" points=\"78.38,-119.62 74.88,-109.62 71.38,-119.62 78.38,-119.62\"/>\n",
       "</a>\n",
       "</g>\n",
       "</g>\n",
       "<!-- Lung Cancer -->\n",
       "<g id=\"node3\" class=\"node\">\n",
       "<title>Lung Cancer</title>\n",
       "<g id=\"a_node3\"><a xlink:title=\"(2) Lung Cancer\">\n",
       "<ellipse fill=\"#404040\" stroke=\"#4a4a4a\" cx=\"74.88\" cy=\"-18\" rx=\"74.88\" ry=\"18\"/>\n",
       "<text text-anchor=\"middle\" x=\"74.88\" y=\"-13.32\" font-family=\"Times,serif\" font-size=\"14.00\" fill=\"white\">Lung Cancer</text>\n",
       "</a>\n",
       "</g>\n",
       "</g>\n",
       "<!-- Tar&#45;&gt;Lung Cancer -->\n",
       "<g id=\"edge2\" class=\"edge\">\n",
       "<title>Tar-&gt;Lung Cancer</title>\n",
       "<g id=\"a_edge2\"><a xlink:title=\"1 → 2\">\n",
       "<path fill=\"none\" stroke=\"#4a4a4a\" d=\"M74.88,-71.7C74.88,-64.41 74.88,-55.73 74.88,-47.54\"/>\n",
       "<polygon fill=\"#4a4a4a\" stroke=\"#4a4a4a\" points=\"78.38,-47.62 74.88,-37.62 71.38,-47.62 78.38,-47.62\"/>\n",
       "</a>\n",
       "</g>\n",
       "</g>\n",
       "</g>\n",
       "</svg>"
      ],
      "text/plain": [
       "(pyAgrum.BayesNet<double>@0x559599cbddc0) BN{nodes: 3, arcs: 2, domainSize: 8, dim: 5, mem: 80o}"
      ]
     },
     "execution_count": 5,
     "metadata": {},
     "output_type": "execute_result"
    }
   ],
   "source": [
    "sct = gum.fastBN(\"Smoking->Tar->Lung Cancer\")\n",
    "sct"
   ]
  },
  {
   "cell_type": "code",
   "execution_count": 6,
   "metadata": {
    "editable": true,
    "execution": {
     "iopub.execute_input": "2024-06-10T19:51:55.717387Z",
     "iopub.status.busy": "2024-06-10T19:51:55.717084Z",
     "iopub.status.idle": "2024-06-10T19:51:55.820766Z",
     "shell.execute_reply": "2024-06-10T19:51:55.820029Z",
     "shell.execute_reply.started": "2024-06-10T19:51:55.717359Z"
    },
    "slideshow": {
     "slide_type": ""
    },
    "tags": [
     "nbsphinx-thumbnail"
    ]
   },
   "outputs": [
    {
     "data": {
      "image/svg+xml": [
       "<svg xmlns=\"http://www.w3.org/2000/svg\" xmlns:xlink=\"http://www.w3.org/1999/xlink\" width=\"180pt\" height=\"228pt\" viewBox=\"0.00 0.00 179.77 227.60\">\n",
       "<g id=\"graph0\" class=\"graph\" transform=\"scale(1 1) rotate(0) translate(4 223.6)\">\n",
       "<title>G</title>\n",
       "<!-- Smoking Gene -->\n",
       "<g id=\"node1\" class=\"node\">\n",
       "<title>Smoking Gene</title>\n",
       "<ellipse fill=\"#404040\" stroke=\"#4a4a4a\" cx=\"95.89\" cy=\"-217.8\" rx=\"1.8\" ry=\"1.8\"/>\n",
       "</g>\n",
       "<!-- Smoking -->\n",
       "<g id=\"node2\" class=\"node\">\n",
       "<title>Smoking</title>\n",
       "<ellipse fill=\"#404040\" stroke=\"#4a4a4a\" cx=\"54.89\" cy=\"-162\" rx=\"54.89\" ry=\"18\"/>\n",
       "<text text-anchor=\"middle\" x=\"54.89\" y=\"-157.32\" font-family=\"Times,serif\" font-size=\"14.00\" fill=\"white\">Smoking</text>\n",
       "</g>\n",
       "<!-- Smoking Gene&#45;&gt;Smoking -->\n",
       "<g id=\"edge4\" class=\"edge\">\n",
       "<title>Smoking Gene-&gt;Smoking</title>\n",
       "<path fill=\"none\" stroke=\"#4a4a4a\" stroke-dasharray=\"5,2\" d=\"M95.18,-215.87C92.63,-212.52 83.62,-200.7 74.77,-189.09\"/>\n",
       "<polygon fill=\"#4a4a4a\" stroke=\"#4a4a4a\" points=\"77.6,-187.02 68.75,-181.19 72.03,-191.26 77.6,-187.02\"/>\n",
       "</g>\n",
       "<!-- Lung Cancer -->\n",
       "<g id=\"node4\" class=\"node\">\n",
       "<title>Lung Cancer</title>\n",
       "<ellipse fill=\"#404040\" stroke=\"#4a4a4a\" cx=\"96.89\" cy=\"-18\" rx=\"74.88\" ry=\"18\"/>\n",
       "<text text-anchor=\"middle\" x=\"96.89\" y=\"-13.32\" font-family=\"Times,serif\" font-size=\"14.00\" fill=\"white\">Lung Cancer</text>\n",
       "</g>\n",
       "<!-- Smoking Gene&#45;&gt;Lung Cancer -->\n",
       "<g id=\"edge2\" class=\"edge\">\n",
       "<title>Smoking Gene-&gt;Lung Cancer</title>\n",
       "<path fill=\"none\" stroke=\"#4a4a4a\" stroke-dasharray=\"5,2\" d=\"M96.86,-215.77C100.62,-211.66 114.32,-195.93 118.89,-180 131.97,-134.4 118.37,-79.23 107.5,-46.74\"/>\n",
       "<polygon fill=\"#4a4a4a\" stroke=\"#4a4a4a\" points=\"110.93,-45.96 104.32,-37.68 104.33,-48.28 110.93,-45.96\"/>\n",
       "</g>\n",
       "<!-- Tar -->\n",
       "<g id=\"node3\" class=\"node\">\n",
       "<title>Tar</title>\n",
       "<ellipse fill=\"#404040\" stroke=\"#4a4a4a\" cx=\"68.89\" cy=\"-90\" rx=\"27.53\" ry=\"18\"/>\n",
       "<text text-anchor=\"middle\" x=\"68.89\" y=\"-85.33\" font-family=\"Times,serif\" font-size=\"14.00\" fill=\"white\">Tar</text>\n",
       "</g>\n",
       "<!-- Smoking&#45;&gt;Tar -->\n",
       "<g id=\"edge1\" class=\"edge\">\n",
       "<title>Smoking-&gt;Tar</title>\n",
       "<path fill=\"none\" stroke=\"#4a4a4a\" d=\"M57.37,-143.5C58.85,-136.13 60.61,-127.33 62.26,-119.05\"/>\n",
       "<path fill=\"none\" stroke=\"#4a4a4a\" d=\"M59.33,-143.89C60.81,-136.52 62.57,-127.72 64.22,-119.45\"/>\n",
       "<polygon fill=\"#4a4a4a\" stroke=\"#4a4a4a\" points=\"66.64,-120.08 65.17,-109.59 59.78,-118.71 66.64,-120.08\"/>\n",
       "</g>\n",
       "<!-- Tar&#45;&gt;Lung Cancer -->\n",
       "<g id=\"edge3\" class=\"edge\">\n",
       "<title>Tar-&gt;Lung Cancer</title>\n",
       "<path fill=\"none\" stroke=\"#4a4a4a\" d=\"M74.74,-71.68C77.76,-64.14 81.39,-55.06 84.79,-46.56\"/>\n",
       "<path fill=\"none\" stroke=\"#4a4a4a\" d=\"M76.6,-72.43C79.61,-64.89 83.24,-55.81 86.64,-47.31\"/>\n",
       "<polygon fill=\"#4a4a4a\" stroke=\"#4a4a4a\" points=\"88.95,-48.27 89.42,-37.68 82.45,-45.67 88.95,-48.27\"/>\n",
       "</g>\n",
       "</g>\n",
       "</svg>"
      ],
      "text/plain": [
       "<IPython.core.display.SVG object>"
      ]
     },
     "metadata": {},
     "output_type": "display_data"
    }
   ],
   "source": [
    "msct = csl.CausalModel(sct, [(\"Smoking Gene\", [\"Smoking\",\"Lung Cancer\"])], True)\n",
    "gnb.show(msct)"
   ]
  },
  {
   "cell_type": "code",
   "execution_count": 7,
   "metadata": {
    "editable": true,
    "execution": {
     "iopub.execute_input": "2024-06-10T19:51:55.822104Z",
     "iopub.status.busy": "2024-06-10T19:51:55.821838Z",
     "iopub.status.idle": "2024-06-10T19:51:55.983308Z",
     "shell.execute_reply": "2024-06-10T19:51:55.982598Z",
     "shell.execute_reply.started": "2024-06-10T19:51:55.822077Z"
    },
    "slideshow": {
     "slide_type": ""
    },
    "tags": []
   },
   "outputs": [
    {
     "data": {
      "text/html": [
       "\n",
       "      <style>\n",
       "      .floating-box {\n",
       "      display: inline-block;\n",
       "      margin: 7px;\n",
       "      padding : 3px;\n",
       "      border: 0px solid transparent;  \n",
       "      valign:middle;\n",
       "      background-color: transparent;\n",
       "      }\n",
       "      </style>\n",
       "      <div class=\"floating-box\"><svg xmlns=\"http://www.w3.org/2000/svg\" xmlns:xlink=\"http://www.w3.org/1999/xlink\" width=\"142pt\" height=\"180pt\" viewBox=\"0.00 0.00 142.18 180.00\">\n",
       "<g id=\"graph0\" class=\"graph\" transform=\"scale(0.790861 0.790861) rotate(0) translate(4 223.6)\">\n",
       "<title>G</title>\n",
       "<!-- Smoking Gene -->\n",
       "<g id=\"node1\" class=\"node\">\n",
       "<title>Smoking Gene</title>\n",
       "<ellipse fill=\"#404040\" stroke=\"#4a4a4a\" cx=\"95.89\" cy=\"-217.8\" rx=\"1.8\" ry=\"1.8\"/>\n",
       "</g>\n",
       "<!-- Smoking -->\n",
       "<g id=\"node2\" class=\"node\">\n",
       "<title>Smoking</title>\n",
       "<ellipse fill=\"#404040\" stroke=\"#4a4a4a\" cx=\"54.89\" cy=\"-162\" rx=\"54.89\" ry=\"18\"/>\n",
       "<text text-anchor=\"middle\" x=\"54.89\" y=\"-157.32\" font-family=\"Times,serif\" font-size=\"14.00\" fill=\"white\">Smoking</text>\n",
       "</g>\n",
       "<!-- Smoking Gene&#45;&gt;Smoking -->\n",
       "<g id=\"edge4\" class=\"edge\">\n",
       "<title>Smoking Gene-&gt;Smoking</title>\n",
       "<path fill=\"none\" stroke=\"#4a4a4a\" stroke-dasharray=\"5,2\" d=\"M95.18,-215.87C92.63,-212.52 83.62,-200.7 74.77,-189.09\"/>\n",
       "<polygon fill=\"#4a4a4a\" stroke=\"#4a4a4a\" points=\"77.6,-187.02 68.75,-181.19 72.03,-191.26 77.6,-187.02\"/>\n",
       "</g>\n",
       "<!-- Lung Cancer -->\n",
       "<g id=\"node4\" class=\"node\">\n",
       "<title>Lung Cancer</title>\n",
       "<ellipse fill=\"#404040\" stroke=\"#4a4a4a\" cx=\"96.89\" cy=\"-18\" rx=\"74.88\" ry=\"18\"/>\n",
       "<text text-anchor=\"middle\" x=\"96.89\" y=\"-13.32\" font-family=\"Times,serif\" font-size=\"14.00\" fill=\"white\">Lung Cancer</text>\n",
       "</g>\n",
       "<!-- Smoking Gene&#45;&gt;Lung Cancer -->\n",
       "<g id=\"edge2\" class=\"edge\">\n",
       "<title>Smoking Gene-&gt;Lung Cancer</title>\n",
       "<path fill=\"none\" stroke=\"#4a4a4a\" stroke-dasharray=\"5,2\" d=\"M96.86,-215.77C100.62,-211.66 114.32,-195.93 118.89,-180 131.97,-134.4 118.37,-79.23 107.5,-46.74\"/>\n",
       "<polygon fill=\"#4a4a4a\" stroke=\"#4a4a4a\" points=\"110.93,-45.96 104.32,-37.68 104.33,-48.28 110.93,-45.96\"/>\n",
       "</g>\n",
       "<!-- Tar -->\n",
       "<g id=\"node3\" class=\"node\">\n",
       "<title>Tar</title>\n",
       "<ellipse fill=\"#404040\" stroke=\"#4a4a4a\" cx=\"68.89\" cy=\"-90\" rx=\"27.53\" ry=\"18\"/>\n",
       "<text text-anchor=\"middle\" x=\"68.89\" y=\"-85.33\" font-family=\"Times,serif\" font-size=\"14.00\" fill=\"white\">Tar</text>\n",
       "</g>\n",
       "<!-- Smoking&#45;&gt;Tar -->\n",
       "<g id=\"edge1\" class=\"edge\">\n",
       "<title>Smoking-&gt;Tar</title>\n",
       "<path fill=\"none\" stroke=\"#4a4a4a\" d=\"M57.37,-143.5C58.85,-136.13 60.61,-127.33 62.26,-119.05\"/>\n",
       "<path fill=\"none\" stroke=\"#4a4a4a\" d=\"M59.33,-143.89C60.81,-136.52 62.57,-127.72 64.22,-119.45\"/>\n",
       "<polygon fill=\"#4a4a4a\" stroke=\"#4a4a4a\" points=\"66.64,-120.08 65.17,-109.59 59.78,-118.71 66.64,-120.08\"/>\n",
       "</g>\n",
       "<!-- Tar&#45;&gt;Lung Cancer -->\n",
       "<g id=\"edge3\" class=\"edge\">\n",
       "<title>Tar-&gt;Lung Cancer</title>\n",
       "<path fill=\"none\" stroke=\"#4a4a4a\" d=\"M74.74,-71.68C77.76,-64.14 81.39,-55.06 84.79,-46.56\"/>\n",
       "<path fill=\"none\" stroke=\"#4a4a4a\" d=\"M76.6,-72.43C79.61,-64.89 83.24,-55.81 86.64,-47.31\"/>\n",
       "<polygon fill=\"#4a4a4a\" stroke=\"#4a4a4a\" points=\"88.95,-48.27 89.42,-37.68 82.45,-45.67 88.95,-48.27\"/>\n",
       "</g>\n",
       "</g>\n",
       "</svg><br><center><small><em>Causal Model</em></small></center></div><div class=\"floating-box\">$$\\begin{equation*}P( Lung Cancer \\mid \\text{do}(Smoking)) = \\sum_{Tar}{P\\left(Tar\\mid Smoking\\right) \\cdot \\left(\\sum_{Smoking'}{P\\left(Lung Cancer\\mid Smoking',Tar\\right) \\cdot P\\left(Smoking'\\right)}\\right)}\\end{equation*}$$<br><center><small><em>Explanation : frontdoor ['Tar'] found.</em></small></center></div><div class=\"floating-box\"><table style=\"border:1px solid black;border-collapse: collapse;\">\n",
       "<tr><th colspan='1'></th>\n",
       "      <th colspan='2' style='border:1px solid black;color:black;background-color:#808080;'><center>Lung Cancer</center>\n",
       "      </th></tr>\n",
       "<tr><th style='border:1px solid black;color:black;background-color:#808080'><center>Smoking</center></th><th style='border:1px solid black;border-bottom-style: double;color:black;background-color:#BBBBBB'>\n",
       "      <center>0</center></th><th style='border:1px solid black;border-bottom-style: double;color:black;background-color:#BBBBBB'>\n",
       "      <center>1</center></th></tr>\n",
       "<tr><th style='border:1px solid black;color:black;background-color:#BBBBBB'><center>0</center></th><td style='color:black;background-color:#e09d64;text-align:right;padding: 3px;'>0.2360</td><td style='color:black;background-color:#9de064;text-align:right;padding: 3px;'>0.7640</td></tr>\n",
       "<tr><th style='border:1px solid black;color:black;background-color:#BBBBBB'><center>1</center></th><td style='color:black;background-color:#cab364;text-align:right;padding: 3px;'>0.4123</td><td style='color:black;background-color:#b3ca64;text-align:right;padding: 3px;'>0.5877</td></tr>\n",
       "</table><br><center><small><em>Impact</em></small></center></div>"
      ],
      "text/plain": [
       "<IPython.core.display.HTML object>"
      ]
     },
     "metadata": {},
     "output_type": "display_data"
    }
   ],
   "source": [
    "cslnb.showCausalImpact(msct, \"Lung Cancer\", doing=\"Smoking\",values={})"
   ]
  },
  {
   "cell_type": "markdown",
   "metadata": {},
   "source": [
    "> Even if the smoking gene is unobservable, we can assess the causal effect of Smoking on Lung Cancer using the front-door method. In this case, the front-door is: $$Smoking \\rightarrow \\color{red}{Tar} \\rightarrow LungCancer$$\n",
    "It consists of variables that we have observed:"
   ]
  },
  {
   "cell_type": "markdown",
   "metadata": {},
   "source": [
    "* We can measure the causal effect of $Smoking$ on $Tar$, there are no open back-doors between the two ($Tar \\leftarrow  Smoking \\rightarrow SmokingGene \\leftarrow LungCancer$ is blocked by the collider node $LungCancer$)\n",
    "$$P(Tar \\mid do(Smoking)) = P (Tar \\mid Smoking) $$"
   ]
  },
  {
   "cell_type": "code",
   "execution_count": 8,
   "metadata": {
    "execution": {
     "iopub.execute_input": "2024-06-10T19:51:55.984559Z",
     "iopub.status.busy": "2024-06-10T19:51:55.984310Z",
     "iopub.status.idle": "2024-06-10T19:51:55.990557Z",
     "shell.execute_reply": "2024-06-10T19:51:55.990015Z",
     "shell.execute_reply.started": "2024-06-10T19:51:55.984535Z"
    }
   },
   "outputs": [
    {
     "data": {
      "text/latex": [
       "$\\displaystyle P( Tar \\mid \\text{do}(Smoking)) = P\\left(Tar\\mid Smoking\\right)$"
      ],
      "text/plain": [
       "<IPython.core.display.Math object>"
      ]
     },
     "metadata": {},
     "output_type": "display_data"
    }
   ],
   "source": [
    "formula, adj, exp = csl.causalImpact(msct,on = \"Tar\",doing = \"Smoking\",values = {})\n",
    "display(Math(formula.toLatex()))"
   ]
  },
  {
   "cell_type": "markdown",
   "metadata": {},
   "source": [
    "* We can measure the causal effect of $Tar$ on $LungCancer$, we just need to adjust for the $Smoking$  to block the \"back-door path\" $ Tar \\leftarrow Smoking \\leftarrow SmokingGene \\rightarrow LungCancer$\n",
    "$$P(LungCancer \\mid do(Tar)) = \\sum_{Smoking}{P(LungCancer \\mid Tar, Smoking) \\times P(Smoking)}$$"
   ]
  },
  {
   "cell_type": "code",
   "execution_count": 9,
   "metadata": {
    "execution": {
     "iopub.execute_input": "2024-06-10T19:51:55.991302Z",
     "iopub.status.busy": "2024-06-10T19:51:55.991152Z",
     "iopub.status.idle": "2024-06-10T19:51:55.996669Z",
     "shell.execute_reply": "2024-06-10T19:51:55.996015Z",
     "shell.execute_reply.started": "2024-06-10T19:51:55.991287Z"
    }
   },
   "outputs": [
    {
     "data": {
      "text/latex": [
       "$\\displaystyle P( Lung Cancer \\mid \\text{do}(Tar)) = \\sum_{Smoking}{P\\left(Lung Cancer\\mid Smoking,Tar\\right) \\cdot P\\left(Smoking\\right)}$"
      ],
      "text/plain": [
       "<IPython.core.display.Math object>"
      ]
     },
     "metadata": {},
     "output_type": "display_data"
    }
   ],
   "source": [
    "formula, adj, exp = csl.causalImpact(msct,on = \"Lung Cancer\",doing = \"Tar\",values = {})\n",
    "display(Math(formula.toLatex()))"
   ]
  },
  {
   "cell_type": "markdown",
   "metadata": {},
   "source": [
    "We can now combine these two pieces of information to have the causal effect of $Smoking$ on $LungCancer$ and reduce the expression of $P(LungCancer \\mid do(Smoking))$ to elements that we observed:\n",
    "$$ P(LungCancer \\mid do(Smoking)) = \\sum_{Tar}{(P(Tar \\mid Smoking) \\times \\sum_{Smoking^{'}}{P(LungCancer \\mid Tar, Smoking^{'}) \\times P(Smoking^{'})})} $$"
   ]
  },
  {
   "cell_type": "markdown",
   "metadata": {
    "editable": true,
    "slideshow": {
     "slide_type": ""
    },
    "tags": []
   },
   "source": [
    "## Birth-weight paradox:"
   ]
  },
  {
   "cell_type": "markdown",
   "metadata": {
    "editable": true,
    "slideshow": {
     "slide_type": ""
    },
    "tags": []
   },
   "source": [
    "> Studies have shown that babies of smoking mothers tend to weigh less than average. Other studies have shown that low-birth-weight babies have a higher mortality rate than normal-birth-weight babies. The corresponding causal diagram is the following causal:"
   ]
  },
  {
   "cell_type": "code",
   "execution_count": 10,
   "metadata": {
    "execution": {
     "iopub.execute_input": "2024-06-10T19:51:55.997391Z",
     "iopub.status.busy": "2024-06-10T19:51:55.997255Z",
     "iopub.status.idle": "2024-06-10T19:51:56.079828Z",
     "shell.execute_reply": "2024-06-10T19:51:56.079066Z",
     "shell.execute_reply.started": "2024-06-10T19:51:55.997377Z"
    }
   },
   "outputs": [
    {
     "data": {
      "text/html": [
       "<svg xmlns=\"http://www.w3.org/2000/svg\" xmlns:xlink=\"http://www.w3.org/1999/xlink\" width=\"206pt\" height=\"188pt\" viewBox=\"0.00 0.00 206.17 188.00\">\n",
       "<g id=\"graph0\" class=\"graph\" transform=\"scale(1 1) rotate(0) translate(4 184)\">\n",
       "<title>G</title>\n",
       "<!-- Smoking -->\n",
       "<g id=\"node1\" class=\"node\">\n",
       "<title>Smoking</title>\n",
       "<g id=\"a_node1\"><a xlink:title=\"(0) Smoking\">\n",
       "<ellipse fill=\"#404040\" stroke=\"#4a4a4a\" cx=\"99.08\" cy=\"-162\" rx=\"54.89\" ry=\"18\"/>\n",
       "<text text-anchor=\"middle\" x=\"99.08\" y=\"-157.32\" font-family=\"Times,serif\" font-size=\"14.00\" fill=\"white\">Smoking</text>\n",
       "</a>\n",
       "</g>\n",
       "</g>\n",
       "<!-- Low Birth Weight -->\n",
       "<g id=\"node3\" class=\"node\">\n",
       "<title>Low Birth Weight</title>\n",
       "<g id=\"a_node3\"><a xlink:title=\"(1) Low Birth Weight\">\n",
       "<ellipse fill=\"#404040\" stroke=\"#4a4a4a\" cx=\"99.08\" cy=\"-90\" rx=\"99.08\" ry=\"18\"/>\n",
       "<text text-anchor=\"middle\" x=\"99.08\" y=\"-85.33\" font-family=\"Times,serif\" font-size=\"14.00\" fill=\"white\">Low Birth Weight</text>\n",
       "</a>\n",
       "</g>\n",
       "</g>\n",
       "<!-- Smoking&#45;&gt;Low Birth Weight -->\n",
       "<g id=\"edge1\" class=\"edge\">\n",
       "<title>Smoking-&gt;Low Birth Weight</title>\n",
       "<g id=\"a_edge1\"><a xlink:title=\"0 → 1\">\n",
       "<path fill=\"none\" stroke=\"#4a4a4a\" d=\"M99.08,-143.7C99.08,-136.41 99.08,-127.73 99.08,-119.54\"/>\n",
       "<polygon fill=\"#4a4a4a\" stroke=\"#4a4a4a\" points=\"102.58,-119.62 99.08,-109.62 95.58,-119.62 102.58,-119.62\"/>\n",
       "</a>\n",
       "</g>\n",
       "</g>\n",
       "<!-- Mortality -->\n",
       "<g id=\"node2\" class=\"node\">\n",
       "<title>Mortality</title>\n",
       "<g id=\"a_node2\"><a xlink:title=\"(2) Mortality\">\n",
       "<ellipse fill=\"#404040\" stroke=\"#4a4a4a\" cx=\"99.08\" cy=\"-18\" rx=\"58.05\" ry=\"18\"/>\n",
       "<text text-anchor=\"middle\" x=\"99.08\" y=\"-13.32\" font-family=\"Times,serif\" font-size=\"14.00\" fill=\"white\">Mortality</text>\n",
       "</a>\n",
       "</g>\n",
       "</g>\n",
       "<!-- Low Birth Weight&#45;&gt;Mortality -->\n",
       "<g id=\"edge2\" class=\"edge\">\n",
       "<title>Low Birth Weight-&gt;Mortality</title>\n",
       "<g id=\"a_edge2\"><a xlink:title=\"1 → 2\">\n",
       "<path fill=\"none\" stroke=\"#4a4a4a\" d=\"M99.08,-71.7C99.08,-64.41 99.08,-55.73 99.08,-47.54\"/>\n",
       "<polygon fill=\"#4a4a4a\" stroke=\"#4a4a4a\" points=\"102.58,-47.62 99.08,-37.62 95.58,-47.62 102.58,-47.62\"/>\n",
       "</a>\n",
       "</g>\n",
       "</g>\n",
       "</g>\n",
       "</svg>"
      ],
      "text/plain": [
       "(pyAgrum.BayesNet<double>@0x559599bc2730) BN{nodes: 3, arcs: 2, domainSize: 8, dim: 5, mem: 80o}"
      ]
     },
     "execution_count": 10,
     "metadata": {},
     "output_type": "execute_result"
    }
   ],
   "source": [
    "bwp = gum.fastBN(\"Smoking->Low Birth Weight->Mortality\")\n",
    "bwp"
   ]
  },
  {
   "cell_type": "code",
   "execution_count": 11,
   "metadata": {
    "execution": {
     "iopub.execute_input": "2024-06-10T19:51:56.081260Z",
     "iopub.status.busy": "2024-06-10T19:51:56.080956Z",
     "iopub.status.idle": "2024-06-10T19:51:56.179191Z",
     "shell.execute_reply": "2024-06-10T19:51:56.178456Z",
     "shell.execute_reply.started": "2024-06-10T19:51:56.081230Z"
    }
   },
   "outputs": [
    {
     "data": {
      "text/html": [
       "\n",
       "      <style>\n",
       "      .floating-box {\n",
       "      display: inline-block;\n",
       "      margin: 7px;\n",
       "      padding : 3px;\n",
       "      border: 0px solid transparent;  \n",
       "      valign:middle;\n",
       "      background-color: transparent;\n",
       "      }\n",
       "      </style>\n",
       "      <div class=\"floating-box\"><svg xmlns=\"http://www.w3.org/2000/svg\" xmlns:xlink=\"http://www.w3.org/1999/xlink\" width=\"180pt\" height=\"164pt\" viewBox=\"0.00 0.00 180.00 164.14\">\n",
       "<g id=\"graph0\" class=\"graph\" transform=\"scale(0.873074 0.873074) rotate(0) translate(4 184)\">\n",
       "<title>G</title>\n",
       "<!-- Smoking -->\n",
       "<g id=\"node1\" class=\"node\">\n",
       "<title>Smoking</title>\n",
       "<ellipse fill=\"#404040\" stroke=\"#4a4a4a\" cx=\"99.08\" cy=\"-162\" rx=\"54.89\" ry=\"18\"/>\n",
       "<text text-anchor=\"middle\" x=\"99.08\" y=\"-157.32\" font-family=\"Times,serif\" font-size=\"14.00\" fill=\"white\">Smoking</text>\n",
       "</g>\n",
       "<!-- Low Birth Weight -->\n",
       "<g id=\"node2\" class=\"node\">\n",
       "<title>Low Birth Weight</title>\n",
       "<ellipse fill=\"#404040\" stroke=\"#4a4a4a\" cx=\"99.08\" cy=\"-90\" rx=\"99.08\" ry=\"18\"/>\n",
       "<text text-anchor=\"middle\" x=\"99.08\" y=\"-85.33\" font-family=\"Times,serif\" font-size=\"14.00\" fill=\"white\">Low Birth Weight</text>\n",
       "</g>\n",
       "<!-- Smoking&#45;&gt;Low Birth Weight -->\n",
       "<g id=\"edge1\" class=\"edge\">\n",
       "<title>Smoking-&gt;Low Birth Weight</title>\n",
       "<path fill=\"none\" stroke=\"#4a4a4a\" d=\"M98.08,-143.7C98.08,-136.41 98.08,-127.73 98.08,-119.54\"/>\n",
       "<path fill=\"none\" stroke=\"#4a4a4a\" d=\"M100.08,-143.7C100.08,-136.41 100.08,-127.73 100.08,-119.54\"/>\n",
       "<polygon fill=\"#4a4a4a\" stroke=\"#4a4a4a\" points=\"102.58,-119.62 99.08,-109.62 95.58,-119.62 102.58,-119.62\"/>\n",
       "</g>\n",
       "<!-- Mortality -->\n",
       "<g id=\"node3\" class=\"node\">\n",
       "<title>Mortality</title>\n",
       "<ellipse fill=\"#404040\" stroke=\"#4a4a4a\" cx=\"99.08\" cy=\"-18\" rx=\"58.05\" ry=\"18\"/>\n",
       "<text text-anchor=\"middle\" x=\"99.08\" y=\"-13.32\" font-family=\"Times,serif\" font-size=\"14.00\" fill=\"white\">Mortality</text>\n",
       "</g>\n",
       "<!-- Low Birth Weight&#45;&gt;Mortality -->\n",
       "<g id=\"edge2\" class=\"edge\">\n",
       "<title>Low Birth Weight-&gt;Mortality</title>\n",
       "<path fill=\"none\" stroke=\"#4a4a4a\" d=\"M98.08,-71.7C98.08,-64.41 98.08,-55.73 98.08,-47.54\"/>\n",
       "<path fill=\"none\" stroke=\"#4a4a4a\" d=\"M100.08,-71.7C100.08,-64.41 100.08,-55.73 100.08,-47.54\"/>\n",
       "<polygon fill=\"#4a4a4a\" stroke=\"#4a4a4a\" points=\"102.58,-47.62 99.08,-37.62 95.58,-47.62 102.58,-47.62\"/>\n",
       "</g>\n",
       "</g>\n",
       "</svg><br><center><small><em>Causal Model</em></small></center></div><div class=\"floating-box\">$$\\begin{equation*}P( Mortality \\mid \\text{do}(Smoking)) = \\sum_{Low Birth Weight}{P\\left(Low Birth Weight\\mid Smoking\\right) \\cdot \\left(\\sum_{Smoking'}{P\\left(Mortality\\mid Low Birth Weight\\right) \\cdot P\\left(Smoking'\\right)}\\right)}\\end{equation*}$$<br><center><small><em>Explanation : frontdoor ['Low Birth Weight'] found.</em></small></center></div><div class=\"floating-box\"><table style=\"border:1px solid black;border-collapse: collapse;\">\n",
       "<tr><th colspan='1'></th>\n",
       "      <th colspan='2' style='border:1px solid black;color:black;background-color:#808080;'><center>Mortality</center>\n",
       "      </th></tr>\n",
       "<tr><th style='border:1px solid black;color:black;background-color:#808080'><center>Smoking</center></th><th style='border:1px solid black;border-bottom-style: double;color:black;background-color:#BBBBBB'>\n",
       "      <center>0</center></th><th style='border:1px solid black;border-bottom-style: double;color:black;background-color:#BBBBBB'>\n",
       "      <center>1</center></th></tr>\n",
       "<tr><th style='border:1px solid black;color:black;background-color:#BBBBBB'><center>0</center></th><td style='color:black;background-color:#c9b464;text-align:right;padding: 3px;'>0.4207</td><td style='color:black;background-color:#b4c964;text-align:right;padding: 3px;'>0.5793</td></tr>\n",
       "<tr><th style='border:1px solid black;color:black;background-color:#BBBBBB'><center>1</center></th><td style='color:black;background-color:#d8a564;text-align:right;padding: 3px;'>0.3018</td><td style='color:black;background-color:#a5d864;text-align:right;padding: 3px;'>0.6982</td></tr>\n",
       "</table><br><center><small><em>Impact</em></small></center></div>"
      ],
      "text/plain": [
       "<IPython.core.display.HTML object>"
      ]
     },
     "metadata": {},
     "output_type": "display_data"
    }
   ],
   "source": [
    "# Causal effect of Smoking on neo-natal mortality\n",
    "bwpModele = csl.CausalModel(bwp)\n",
    "cslnb.showCausalImpact(bwpModele, \"Mortality\", doing=\"Smoking\",values={})"
   ]
  },
  {
   "cell_type": "markdown",
   "metadata": {},
   "source": [
    "> However the data also showed that low-birth-weight babies of smoker mothers had lower mortality rates than low-birth-weight babies of non-smoker mothers. <br>\n",
    "An explanation for this paradoxical situation is that low-birth-weight is either due to a smoking mother or to another birth defect that is much more threatening to the baby's health. The causal diagram becomes:"
   ]
  },
  {
   "cell_type": "code",
   "execution_count": 12,
   "metadata": {
    "execution": {
     "iopub.execute_input": "2024-06-10T19:51:56.180417Z",
     "iopub.status.busy": "2024-06-10T19:51:56.180193Z",
     "iopub.status.idle": "2024-06-10T19:51:56.265198Z",
     "shell.execute_reply": "2024-06-10T19:51:56.264464Z",
     "shell.execute_reply.started": "2024-06-10T19:51:56.180394Z"
    }
   },
   "outputs": [
    {
     "data": {
      "text/html": [
       "<svg xmlns=\"http://www.w3.org/2000/svg\" xmlns:xlink=\"http://www.w3.org/1999/xlink\" width=\"305pt\" height=\"188pt\" viewBox=\"0.00 0.00 305.09 188.00\">\n",
       "<g id=\"graph0\" class=\"graph\" transform=\"scale(1 1) rotate(0) translate(4 184)\">\n",
       "<title>G</title>\n",
       "<!-- Smoking -->\n",
       "<g id=\"node1\" class=\"node\">\n",
       "<title>Smoking</title>\n",
       "<g id=\"a_node1\"><a xlink:title=\"(0) Smoking\">\n",
       "<ellipse fill=\"#404040\" stroke=\"#4a4a4a\" cx=\"54.89\" cy=\"-162\" rx=\"54.89\" ry=\"18\"/>\n",
       "<text text-anchor=\"middle\" x=\"54.89\" y=\"-157.32\" font-family=\"Times,serif\" font-size=\"14.00\" fill=\"white\">Smoking</text>\n",
       "</a>\n",
       "</g>\n",
       "</g>\n",
       "<!-- Mortality -->\n",
       "<g id=\"node3\" class=\"node\">\n",
       "<title>Mortality</title>\n",
       "<g id=\"a_node3\"><a xlink:title=\"(2) Mortality\">\n",
       "<ellipse fill=\"#404040\" stroke=\"#4a4a4a\" cx=\"117.89\" cy=\"-18\" rx=\"58.05\" ry=\"18\"/>\n",
       "<text text-anchor=\"middle\" x=\"117.89\" y=\"-13.32\" font-family=\"Times,serif\" font-size=\"14.00\" fill=\"white\">Mortality</text>\n",
       "</a>\n",
       "</g>\n",
       "</g>\n",
       "<!-- Smoking&#45;&gt;Mortality -->\n",
       "<g id=\"edge4\" class=\"edge\">\n",
       "<title>Smoking-&gt;Mortality</title>\n",
       "<g id=\"a_edge4\"><a xlink:title=\"0 → 2\">\n",
       "<path fill=\"none\" stroke=\"#4a4a4a\" d=\"M36.81,-144.75C18.78,-126.52 -4.2,-96.31 10.89,-72 22.24,-53.72 41.97,-41.55 61.42,-33.54\"/>\n",
       "<polygon fill=\"#4a4a4a\" stroke=\"#4a4a4a\" points=\"62.6,-36.84 70.73,-30.04 60.14,-30.29 62.6,-36.84\"/>\n",
       "</a>\n",
       "</g>\n",
       "</g>\n",
       "<!-- Low Birth Weight -->\n",
       "<g id=\"node4\" class=\"node\">\n",
       "<title>Low Birth Weight</title>\n",
       "<g id=\"a_node4\"><a xlink:title=\"(1) Low Birth Weight\">\n",
       "<ellipse fill=\"#404040\" stroke=\"#4a4a4a\" cx=\"117.89\" cy=\"-90\" rx=\"99.08\" ry=\"18\"/>\n",
       "<text text-anchor=\"middle\" x=\"117.89\" y=\"-85.33\" font-family=\"Times,serif\" font-size=\"14.00\" fill=\"white\">Low Birth Weight</text>\n",
       "</a>\n",
       "</g>\n",
       "</g>\n",
       "<!-- Smoking&#45;&gt;Low Birth Weight -->\n",
       "<g id=\"edge1\" class=\"edge\">\n",
       "<title>Smoking-&gt;Low Birth Weight</title>\n",
       "<g id=\"a_edge1\"><a xlink:title=\"0 → 1\">\n",
       "<path fill=\"none\" stroke=\"#4a4a4a\" d=\"M69.82,-144.41C77.32,-136.08 86.57,-125.8 94.95,-116.49\"/>\n",
       "<polygon fill=\"#4a4a4a\" stroke=\"#4a4a4a\" points=\"97.53,-118.86 101.62,-109.08 92.33,-114.17 97.53,-118.86\"/>\n",
       "</a>\n",
       "</g>\n",
       "</g>\n",
       "<!-- Birth defect -->\n",
       "<g id=\"node2\" class=\"node\">\n",
       "<title>Birth defect</title>\n",
       "<g id=\"a_node2\"><a xlink:title=\"(3) Birth defect\">\n",
       "<ellipse fill=\"#404040\" stroke=\"#4a4a4a\" cx=\"225.89\" cy=\"-162\" rx=\"71.2\" ry=\"18\"/>\n",
       "<text text-anchor=\"middle\" x=\"225.89\" y=\"-157.32\" font-family=\"Times,serif\" font-size=\"14.00\" fill=\"white\">Birth defect</text>\n",
       "</a>\n",
       "</g>\n",
       "</g>\n",
       "<!-- Birth defect&#45;&gt;Mortality -->\n",
       "<g id=\"edge5\" class=\"edge\">\n",
       "<title>Birth defect-&gt;Mortality</title>\n",
       "<g id=\"a_edge5\"><a xlink:title=\"3 → 2\">\n",
       "<path fill=\"none\" stroke=\"#4a4a4a\" d=\"M230.92,-143.81C235.43,-124.73 239.46,-93.77 225.89,-72 214.33,-53.44 194.16,-41.2 174.36,-33.21\"/>\n",
       "<polygon fill=\"#4a4a4a\" stroke=\"#4a4a4a\" points=\"175.79,-30.01 165.19,-29.83 173.36,-36.57 175.79,-30.01\"/>\n",
       "</a>\n",
       "</g>\n",
       "</g>\n",
       "<!-- Birth defect&#45;&gt;Low Birth Weight -->\n",
       "<g id=\"edge3\" class=\"edge\">\n",
       "<title>Birth defect-&gt;Low Birth Weight</title>\n",
       "<g id=\"a_edge3\"><a xlink:title=\"3 → 1\">\n",
       "<path fill=\"none\" stroke=\"#4a4a4a\" d=\"M200.84,-144.76C186.6,-135.53 168.54,-123.83 152.91,-113.7\"/>\n",
       "<polygon fill=\"#4a4a4a\" stroke=\"#4a4a4a\" points=\"155.12,-110.96 144.82,-108.46 151.31,-116.83 155.12,-110.96\"/>\n",
       "</a>\n",
       "</g>\n",
       "</g>\n",
       "<!-- Low Birth Weight&#45;&gt;Mortality -->\n",
       "<g id=\"edge2\" class=\"edge\">\n",
       "<title>Low Birth Weight-&gt;Mortality</title>\n",
       "<g id=\"a_edge2\"><a xlink:title=\"1 → 2\">\n",
       "<path fill=\"none\" stroke=\"#4a4a4a\" d=\"M117.89,-71.7C117.89,-64.41 117.89,-55.73 117.89,-47.54\"/>\n",
       "<polygon fill=\"#4a4a4a\" stroke=\"#4a4a4a\" points=\"121.39,-47.62 117.89,-37.62 114.39,-47.62 121.39,-47.62\"/>\n",
       "</a>\n",
       "</g>\n",
       "</g>\n",
       "</g>\n",
       "</svg>"
      ],
      "text/plain": [
       "(pyAgrum.BayesNet<double>@0x559599be7610) BN{nodes: 4, arcs: 5, domainSize: 16, dim: 14, mem: 224o}"
      ]
     },
     "execution_count": 12,
     "metadata": {},
     "output_type": "execute_result"
    }
   ],
   "source": [
    "bwpe = gum.fastBN(\"Smoking->Low Birth Weight->Mortality<-Smoking;Birth defect->Low Birth Weight;Mortality<-Birth defect\")\n",
    "bwpe"
   ]
  },
  {
   "cell_type": "markdown",
   "metadata": {},
   "source": [
    "> Pinpointing the source of this paradoxical situation becomes easy thanks to this causal diagram: \"collider bias\".\"Low Birth Weight\" is a collider! \n",
    "The data only concerned low-birth-weight babies (it is as if we are adjusting for \"Low Birth Weight.\"). Knowing that the mother doesn't smoke increases our belief that a birth defect is the cause of the low-birth-weight, and a birth defect is more threatening for the baby's health. This opened the backdoor path formerly blocked and allowed non-causal information to flow from Smoking to Mortality ($Smoking \\rightarrow Low Birth Weight \\leftarrow Birth defect \\rightarrow Mortality $) introducing a bias."
   ]
  },
  {
   "cell_type": "code",
   "execution_count": 13,
   "metadata": {
    "execution": {
     "iopub.execute_input": "2024-06-10T19:51:56.266459Z",
     "iopub.status.busy": "2024-06-10T19:51:56.266203Z",
     "iopub.status.idle": "2024-06-10T19:51:56.373522Z",
     "shell.execute_reply": "2024-06-10T19:51:56.372930Z",
     "shell.execute_reply.started": "2024-06-10T19:51:56.266434Z"
    }
   },
   "outputs": [
    {
     "data": {
      "text/html": [
       "\n",
       "      <style>\n",
       "      .floating-box {\n",
       "      display: inline-block;\n",
       "      margin: 7px;\n",
       "      padding : 3px;\n",
       "      border: 0px solid transparent;  \n",
       "      valign:middle;\n",
       "      background-color: transparent;\n",
       "      }\n",
       "      </style>\n",
       "      <div class=\"floating-box\"><svg xmlns=\"http://www.w3.org/2000/svg\" xmlns:xlink=\"http://www.w3.org/1999/xlink\" width=\"180pt\" height=\"102pt\" viewBox=\"0.00 0.00 180.00 101.59\">\n",
       "<g id=\"graph0\" class=\"graph\" transform=\"scale(0.540393 0.540393) rotate(0) translate(4 184)\">\n",
       "<title>G</title>\n",
       "<!-- Smoking -->\n",
       "<g id=\"node1\" class=\"node\">\n",
       "<title>Smoking</title>\n",
       "<ellipse fill=\"#404040\" stroke=\"#4a4a4a\" cx=\"54.89\" cy=\"-162\" rx=\"54.89\" ry=\"18\"/>\n",
       "<text text-anchor=\"middle\" x=\"54.89\" y=\"-157.32\" font-family=\"Times,serif\" font-size=\"14.00\" fill=\"white\">Smoking</text>\n",
       "</g>\n",
       "<!-- Low Birth Weight -->\n",
       "<g id=\"node2\" class=\"node\">\n",
       "<title>Low Birth Weight</title>\n",
       "<ellipse fill=\"#404040\" stroke=\"#4a4a4a\" cx=\"154.89\" cy=\"-90\" rx=\"99.08\" ry=\"18\"/>\n",
       "<text text-anchor=\"middle\" x=\"154.89\" y=\"-85.33\" font-family=\"Times,serif\" font-size=\"14.00\" fill=\"white\">Low Birth Weight</text>\n",
       "</g>\n",
       "<!-- Smoking&#45;&gt;Low Birth Weight -->\n",
       "<g id=\"edge1\" class=\"edge\">\n",
       "<title>Smoking-&gt;Low Birth Weight</title>\n",
       "<path fill=\"none\" stroke=\"#4a4a4a\" d=\"M76.51,-144.65C89.63,-135.46 106.5,-123.65 121.18,-113.38\"/>\n",
       "<path fill=\"none\" stroke=\"#4a4a4a\" d=\"M77.66,-146.28C90.78,-137.1 107.65,-125.29 122.32,-115.02\"/>\n",
       "<polygon fill=\"#4a4a4a\" stroke=\"#4a4a4a\" points=\"123.59,-117.18 129.77,-108.58 119.57,-111.45 123.59,-117.18\"/>\n",
       "</g>\n",
       "<!-- Mortality -->\n",
       "<g id=\"node3\" class=\"node\">\n",
       "<title>Mortality</title>\n",
       "<ellipse fill=\"#404040\" stroke=\"#4a4a4a\" cx=\"154.89\" cy=\"-18\" rx=\"58.05\" ry=\"18\"/>\n",
       "<text text-anchor=\"middle\" x=\"154.89\" y=\"-13.32\" font-family=\"Times,serif\" font-size=\"14.00\" fill=\"white\">Mortality</text>\n",
       "</g>\n",
       "<!-- Smoking&#45;&gt;Mortality -->\n",
       "<g id=\"edge4\" class=\"edge\">\n",
       "<title>Smoking-&gt;Mortality</title>\n",
       "<path fill=\"none\" stroke=\"#4a4a4a\" d=\"M46.63,-144.18C39.71,-125.02 32.3,-94.09 46.04,-71.47 57.94,-52.59 78.1,-40.35 98.05,-32.28\"/>\n",
       "<path fill=\"none\" stroke=\"#4a4a4a\" d=\"M48.51,-143.5C41.65,-124.56 34.24,-93.62 47.74,-72.53 58.97,-54.3 79.14,-42.06 98.79,-34.14\"/>\n",
       "<polygon fill=\"#4a4a4a\" stroke=\"#4a4a4a\" points=\"99.42,-36.57 107.59,-29.83 96.99,-30.01 99.42,-36.57\"/>\n",
       "</g>\n",
       "<!-- Low Birth Weight&#45;&gt;Mortality -->\n",
       "<g id=\"edge2\" class=\"edge\">\n",
       "<title>Low Birth Weight-&gt;Mortality</title>\n",
       "<path fill=\"none\" stroke=\"#4a4a4a\" d=\"M153.89,-71.7C153.89,-64.41 153.89,-55.73 153.89,-47.54\"/>\n",
       "<path fill=\"none\" stroke=\"#4a4a4a\" d=\"M155.89,-71.7C155.89,-64.41 155.89,-55.73 155.89,-47.54\"/>\n",
       "<polygon fill=\"#4a4a4a\" stroke=\"#4a4a4a\" points=\"158.39,-47.62 154.89,-37.62 151.39,-47.62 158.39,-47.62\"/>\n",
       "</g>\n",
       "<!-- Birth defect -->\n",
       "<g id=\"node4\" class=\"node\">\n",
       "<title>Birth defect</title>\n",
       "<ellipse fill=\"#404040\" stroke=\"#4a4a4a\" cx=\"253.89\" cy=\"-162\" rx=\"71.2\" ry=\"18\"/>\n",
       "<text text-anchor=\"middle\" x=\"253.89\" y=\"-157.32\" font-family=\"Times,serif\" font-size=\"14.00\" fill=\"white\">Birth defect</text>\n",
       "</g>\n",
       "<!-- Birth defect&#45;&gt;Low Birth Weight -->\n",
       "<g id=\"edge3\" class=\"edge\">\n",
       "<title>Birth defect-&gt;Low Birth Weight</title>\n",
       "<path fill=\"none\" stroke=\"#4a4a4a\" d=\"M230.1,-145.4C217.38,-136.41 201.39,-125.1 187.38,-115.2\"/>\n",
       "<path fill=\"none\" stroke=\"#4a4a4a\" d=\"M231.26,-143.77C218.53,-134.78 202.55,-123.47 188.54,-113.57\"/>\n",
       "<polygon fill=\"#4a4a4a\" stroke=\"#4a4a4a\" points=\"190.07,-111.58 179.88,-108.67 186.02,-117.3 190.07,-111.58\"/>\n",
       "</g>\n",
       "<!-- Birth defect&#45;&gt;Mortality -->\n",
       "<g id=\"edge5\" class=\"edge\">\n",
       "<title>Birth defect-&gt;Mortality</title>\n",
       "<path fill=\"none\" stroke=\"#4a4a4a\" d=\"M260.57,-143.49C267.72,-124.56 275.56,-93.63 262.04,-72.53 250.81,-54.3 230.64,-42.06 210.99,-34.14\"/>\n",
       "<path fill=\"none\" stroke=\"#4a4a4a\" d=\"M262.44,-144.2C269.66,-125.05 277.5,-94.12 263.74,-71.47 251.85,-52.59 231.68,-40.35 211.74,-32.28\"/>\n",
       "<polygon fill=\"#4a4a4a\" stroke=\"#4a4a4a\" points=\"212.79,-30.01 202.19,-29.83 210.36,-36.57 212.79,-30.01\"/>\n",
       "</g>\n",
       "</g>\n",
       "</svg><br><center><small><em>Causal Model</em></small></center></div><div class=\"floating-box\">$$\\begin{equation*}P( Mortality \\mid \\text{do}(Smoking)) = \\sum_{Birth defect,Low Birth Weight}{P\\left(Birth defect\\right) \\cdot P\\left(Mortality\\mid Birth defect,Low Birth Weight,Smoking\\right) \\cdot P\\left(Low Birth Weight\\mid Birth defect,Smoking\\right)}\\end{equation*}$$<br><center><small><em>Explanation : Do-calculus computations</em></small></center></div><div class=\"floating-box\"><table style=\"border:1px solid black;border-collapse: collapse;\">\n",
       "<tr><th colspan='1'></th>\n",
       "      <th colspan='2' style='border:1px solid black;color:black;background-color:#808080;'><center>Mortality</center>\n",
       "      </th></tr>\n",
       "<tr><th style='border:1px solid black;color:black;background-color:#808080'><center>Smoking</center></th><th style='border:1px solid black;border-bottom-style: double;color:black;background-color:#BBBBBB'>\n",
       "      <center>0</center></th><th style='border:1px solid black;border-bottom-style: double;color:black;background-color:#BBBBBB'>\n",
       "      <center>1</center></th></tr>\n",
       "<tr><th style='border:1px solid black;color:black;background-color:#BBBBBB'><center>0</center></th><td style='color:black;background-color:#b7c664;text-align:right;padding: 3px;'>0.5579</td><td style='color:black;background-color:#c6b764;text-align:right;padding: 3px;'>0.4421</td></tr>\n",
       "<tr><th style='border:1px solid black;color:black;background-color:#BBBBBB'><center>1</center></th><td style='color:black;background-color:#a7d664;text-align:right;padding: 3px;'>0.6823</td><td style='color:black;background-color:#d6a764;text-align:right;padding: 3px;'>0.3177</td></tr>\n",
       "</table><br><center><small><em>Impact</em></small></center></div>"
      ],
      "text/plain": [
       "<IPython.core.display.HTML object>"
      ]
     },
     "metadata": {},
     "output_type": "display_data"
    }
   ],
   "source": [
    "bwpeModele = csl.CausalModel(bwpe)\n",
    "cslnb.showCausalImpact(bwpeModele, \"Mortality\", doing=\"Smoking\",values={})"
   ]
  },
  {
   "cell_type": "code",
   "execution_count": null,
   "metadata": {
    "editable": true,
    "slideshow": {
     "slide_type": ""
    },
    "tags": []
   },
   "outputs": [],
   "source": []
  }
 ],
 "metadata": {
  "kernelspec": {
   "display_name": "Python 3 (ipykernel)",
   "language": "python",
   "name": "python3"
  },
  "language_info": {
   "codemirror_mode": {
    "name": "ipython",
    "version": 3
   },
   "file_extension": ".py",
   "mimetype": "text/x-python",
   "name": "python",
   "nbconvert_exporter": "python",
   "pygments_lexer": "ipython3",
   "version": "3.12.3"
  }
 },
 "nbformat": 4,
 "nbformat_minor": 4
}
