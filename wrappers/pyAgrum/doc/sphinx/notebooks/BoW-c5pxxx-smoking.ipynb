{
 "cells": [
  {
   "cell_type": "markdown",
   "metadata": {
    "editable": true,
    "slideshow": {
     "slide_type": ""
    },
    "tags": []
   },
   "source": [
    "# Smoking (chapter 5)\n",
    "\n",
    "| | | |\n",
    "|-|-|-|\n",
    "|[ ![Creative Commons License](images/cc4.png)](http://creativecommons.org/licenses/by-nc/4.0/) |[ ![aGrUM](images/logoAgrum.png)](https://agrum.org) |[ ![interactive online version](images/atbinder.svg)](https://agrum.gitlab.io/extra/agrum_at_binder.html)\n",
    "\n",
    "Authors: <b>Aymen Merrouche</b> and Pierre-Henri Wuillemin.\n",
    "\n",
    "**This notebook follows the example from \"The Book Of Why\" (Pearl, 2018) chapter 5**"
   ]
  },
  {
   "cell_type": "code",
   "execution_count": 1,
   "metadata": {
    "editable": true,
    "execution": {
     "iopub.execute_input": "2024-07-27T15:58:02.543359Z",
     "iopub.status.busy": "2024-07-27T15:58:02.542813Z",
     "iopub.status.idle": "2024-07-27T15:58:02.802263Z",
     "shell.execute_reply": "2024-07-27T15:58:02.801948Z"
    },
    "slideshow": {
     "slide_type": ""
    },
    "tags": []
   },
   "outputs": [],
   "source": [
    "from IPython.display import display, Math, Latex,HTML\n",
    "\n",
    "import pyAgrum as gum\n",
    "import pyAgrum.lib.notebook as gnb\n",
    "import pyAgrum.causal as csl\n",
    "import pyAgrum.causal.notebook as cslnb\n",
    "import os"
   ]
  },
  {
   "cell_type": "markdown",
   "metadata": {},
   "source": [
    "> In the 1950s the strong association between smoking and lung cancer provoked a debate on the issue. Does smoking cause lung cancer?"
   ]
  },
  {
   "cell_type": "markdown",
   "metadata": {
    "editable": true,
    "slideshow": {
     "slide_type": ""
    },
    "tags": []
   },
   "source": [
    "### Corresponding causal diagram:\n",
    "The corresponding causal diagram is the following:"
   ]
  },
  {
   "cell_type": "code",
   "execution_count": 2,
   "metadata": {
    "editable": true,
    "execution": {
     "iopub.execute_input": "2024-07-27T15:58:02.804072Z",
     "iopub.status.busy": "2024-07-27T15:58:02.803925Z",
     "iopub.status.idle": "2024-07-27T15:58:02.964072Z",
     "shell.execute_reply": "2024-07-27T15:58:02.963726Z"
    },
    "slideshow": {
     "slide_type": ""
    },
    "tags": []
   },
   "outputs": [
    {
     "data": {
      "text/html": [
       "<svg xmlns=\"http://www.w3.org/2000/svg\" xmlns:xlink=\"http://www.w3.org/1999/xlink\" width=\"126pt\" height=\"116pt\" viewBox=\"0.00 0.00 126.06 116.00\">\n",
       "<g id=\"graph0\" class=\"graph\" transform=\"scale(1 1) rotate(0) translate(4 112)\">\n",
       "<title>G</title>\n",
       "<!-- Smoking -->\n",
       "<g id=\"node1\" class=\"node\">\n",
       "<title>Smoking</title>\n",
       "<g id=\"a_node1\"><a xlink:title=\"(0) Smoking\">\n",
       "<ellipse fill=\"#404040\" stroke=\"#4a4a4a\" cx=\"59.03\" cy=\"-90\" rx=\"44.7\" ry=\"18\"/>\n",
       "<text text-anchor=\"middle\" x=\"59.03\" y=\"-84.95\" font-family=\"Times,serif\" font-size=\"14.00\" fill=\"white\">Smoking</text>\n",
       "</a>\n",
       "</g>\n",
       "</g>\n",
       "<!-- Lung Cancer -->\n",
       "<g id=\"node2\" class=\"node\">\n",
       "<title>Lung Cancer</title>\n",
       "<g id=\"a_node2\"><a xlink:title=\"(1) Lung Cancer\">\n",
       "<ellipse fill=\"#404040\" stroke=\"#4a4a4a\" cx=\"59.03\" cy=\"-18\" rx=\"59.03\" ry=\"18\"/>\n",
       "<text text-anchor=\"middle\" x=\"59.03\" y=\"-12.95\" font-family=\"Times,serif\" font-size=\"14.00\" fill=\"white\">Lung Cancer</text>\n",
       "</a>\n",
       "</g>\n",
       "</g>\n",
       "<!-- Smoking&#45;&gt;Lung Cancer -->\n",
       "<g id=\"edge1\" class=\"edge\">\n",
       "<title>Smoking-&gt;Lung Cancer</title>\n",
       "<g id=\"a_edge1\"><a xlink:title=\"0 → 1\">\n",
       "<path fill=\"none\" stroke=\"#4a4a4a\" d=\"M59.03,-71.7C59.03,-64.41 59.03,-55.73 59.03,-47.54\"/>\n",
       "<polygon fill=\"#4a4a4a\" stroke=\"#4a4a4a\" points=\"62.53,-47.62 59.03,-37.62 55.53,-47.62 62.53,-47.62\"/>\n",
       "</a>\n",
       "</g>\n",
       "</g>\n",
       "</g>\n",
       "</svg>"
      ],
      "text/plain": [
       "(pyAgrum.BayesNet<double>@0x117921a00) BN{nodes: 2, arcs: 1, domainSize: 4, dim: 3, mem: 48o}"
      ]
     },
     "execution_count": 2,
     "metadata": {},
     "output_type": "execute_result"
    }
   ],
   "source": [
    "sc = gum.fastBN(\"Smoking->Lung Cancer\")\n",
    "sc"
   ]
  },
  {
   "cell_type": "markdown",
   "metadata": {
    "editable": true,
    "slideshow": {
     "slide_type": ""
    },
    "tags": []
   },
   "source": [
    "### Constitutional Hypothesis:\n",
    "> Smoking industry and some other skeptic statisticians advanced the theory that smokers are genetically different from nonsmokers. A smoking gene could be a confounder that would explain the observed association."
   ]
  },
  {
   "cell_type": "code",
   "execution_count": 3,
   "metadata": {
    "editable": true,
    "execution": {
     "iopub.execute_input": "2024-07-27T15:58:02.980383Z",
     "iopub.status.busy": "2024-07-27T15:58:02.980271Z",
     "iopub.status.idle": "2024-07-27T15:58:03.197576Z",
     "shell.execute_reply": "2024-07-27T15:58:03.197309Z"
    },
    "slideshow": {
     "slide_type": ""
    },
    "tags": []
   },
   "outputs": [
    {
     "data": {
      "text/html": [
       "\n",
       "      <style>\n",
       "      .floating-box {\n",
       "      display: inline-block;\n",
       "      margin: 7px;\n",
       "      padding : 3px;\n",
       "      border: 0px solid transparent;  \n",
       "      valign:middle;\n",
       "      background-color: transparent;\n",
       "      }\n",
       "      </style>\n",
       "      <div class=\"floating-box\"><svg xmlns=\"http://www.w3.org/2000/svg\" xmlns:xlink=\"http://www.w3.org/1999/xlink\" width=\"180pt\" height=\"56pt\" viewBox=\"0.00 0.00 180.00 56.02\">\n",
       "<g id=\"graph0\" class=\"graph\" transform=\"scale(0.482938 0.482938) rotate(0) translate(4 112)\">\n",
       "<title>G</title>\n",
       "<!-- Smoking -->\n",
       "<g id=\"node1\" class=\"node\">\n",
       "<title>Smoking</title>\n",
       "<ellipse fill=\"#404040\" stroke=\"#4a4a4a\" cx=\"44.7\" cy=\"-18\" rx=\"44.7\" ry=\"18\"/>\n",
       "<text text-anchor=\"middle\" x=\"44.7\" y=\"-12.95\" font-family=\"Times,serif\" font-size=\"14.00\" fill=\"white\">Smoking</text>\n",
       "</g>\n",
       "<!-- Gene -->\n",
       "<g id=\"node2\" class=\"node\">\n",
       "<title>Gene</title>\n",
       "<ellipse fill=\"#404040\" stroke=\"#4a4a4a\" cx=\"192.7\" cy=\"-90\" rx=\"1.8\" ry=\"1.8\"/>\n",
       "</g>\n",
       "<!-- Lung -->\n",
       "<g id=\"node3\" class=\"node\">\n",
       "<title>Lung</title>\n",
       "<ellipse fill=\"none\" stroke=\"#4a4a4a\" cx=\"242.7\" cy=\"-90\" rx=\"30.37\" ry=\"18\"/>\n",
       "<text text-anchor=\"middle\" x=\"242.7\" y=\"-84.95\" font-family=\"Times,serif\" font-size=\"14.00\" fill=\"#4a4a4a\">Lung</text>\n",
       "</g>\n",
       "<!-- Cancer -->\n",
       "<g id=\"node4\" class=\"node\">\n",
       "<title>Cancer</title>\n",
       "<ellipse fill=\"#404040\" stroke=\"#4a4a4a\" cx=\"327.7\" cy=\"-90\" rx=\"37.02\" ry=\"18\"/>\n",
       "<text text-anchor=\"middle\" x=\"327.7\" y=\"-84.95\" font-family=\"Times,serif\" font-size=\"14.00\" fill=\"white\">Cancer</text>\n",
       "</g>\n",
       "<!-- Smoking Gene -->\n",
       "<g id=\"node5\" class=\"node\">\n",
       "<title>Smoking Gene</title>\n",
       "<ellipse fill=\"none\" stroke=\"black\" cx=\"105.7\" cy=\"-90\" rx=\"66.71\" ry=\"18\"/>\n",
       "<text text-anchor=\"middle\" x=\"105.7\" y=\"-84.95\" font-family=\"Times,serif\" font-size=\"14.00\">Smoking Gene</text>\n",
       "</g>\n",
       "<!-- Smoking Gene&#45;&gt;Smoking -->\n",
       "<g id=\"edge1\" class=\"edge\">\n",
       "<title>Smoking Gene-&gt;Smoking</title>\n",
       "<path fill=\"none\" stroke=\"#4a4a4a\" stroke-dasharray=\"5,2\" d=\"M90.93,-72.05C83.56,-63.59 74.49,-53.19 66.35,-43.84\"/>\n",
       "<polygon fill=\"#4a4a4a\" stroke=\"#4a4a4a\" points=\"69.11,-41.69 59.9,-36.45 63.83,-46.29 69.11,-41.69\"/>\n",
       "</g>\n",
       "<!-- Lung Cancer -->\n",
       "<g id=\"node6\" class=\"node\">\n",
       "<title>Lung Cancer</title>\n",
       "<ellipse fill=\"none\" stroke=\"black\" cx=\"166.7\" cy=\"-18\" rx=\"59.03\" ry=\"18\"/>\n",
       "<text text-anchor=\"middle\" x=\"166.7\" y=\"-12.95\" font-family=\"Times,serif\" font-size=\"14.00\">Lung Cancer</text>\n",
       "</g>\n",
       "<!-- Smoking Gene&#45;&gt;Lung Cancer -->\n",
       "<g id=\"edge2\" class=\"edge\">\n",
       "<title>Smoking Gene-&gt;Lung Cancer</title>\n",
       "<path fill=\"none\" stroke=\"#4a4a4a\" stroke-dasharray=\"5,2\" d=\"M120.46,-72.05C127.73,-63.71 136.64,-53.49 144.69,-44.25\"/>\n",
       "<polygon fill=\"#4a4a4a\" stroke=\"#4a4a4a\" points=\"147.14,-46.77 151.07,-36.93 141.86,-42.17 147.14,-46.77\"/>\n",
       "</g>\n",
       "</g>\n",
       "</svg><br><center><small><em>Causal Model</em></small></center></div><div class=\"floating-box\">$$\\begin{equation*}P( Lung Cancer \\mid \\text{do}(Smoking)) = P\\left(Lung Cancer\\right)\\end{equation*}$$<br><center><small><em>Explanation : No causal effect of X on Y, because they are d-separated (conditioning on the observed variables if any).</em></small></center></div><div class=\"floating-box\"><table style=\"border:1px solid black;border-collapse: collapse;\">\n",
       "<tr style='border:1px solid black;color:black;background-color:#808080'>\n",
       "      <th colspan='2'><center>Lung Cancer</center></th></tr>\n",
       "<tr><th style='border:1px solid black;border-bottom-style: double;color:black;background-color:#BBBBBB'>\n",
       "      <center>0</center></th><th style='border:1px solid black;border-bottom-style: double;color:black;background-color:#BBBBBB'>\n",
       "      <center>1</center></th></tr>\n",
       "<tr><td style='color:black;background-color:#dba264;text-align:right;padding: 3px;'>0.2802</td><td style='color:black;background-color:#a2db64;text-align:right;padding: 3px;'>0.7198</td></tr>\n",
       "</table><br><center><small><em>Impact</em></small></center></div>"
      ],
      "text/plain": [
       "<IPython.core.display.HTML object>"
      ]
     },
     "metadata": {},
     "output_type": "display_data"
    }
   ],
   "source": [
    "msc = csl.CausalModel(sc, [(\"Smoking Gene\", [\"Smoking\",\"Lung Cancer\"])])\n",
    "cslnb.showCausalImpact(msc, \"Lung Cancer\", doing=\"Smoking\",values={})"
   ]
  },
  {
   "cell_type": "markdown",
   "metadata": {},
   "source": [
    "> This constitutional hypothesis was untestable, we couldn't sequence the human genome at the time. <br>\n",
    "However, this hypothesis wasn't plausible because the observed association was way too strong. <br>"
   ]
  },
  {
   "cell_type": "markdown",
   "metadata": {
    "editable": true,
    "slideshow": {
     "slide_type": ""
    },
    "tags": []
   },
   "source": [
    "### Another explanation \n",
    "To explain this association, another hypothesis was that a smoking gene could be a confounder but there was still a direct causal effect between smoking on lung cancer:"
   ]
  },
  {
   "cell_type": "code",
   "execution_count": 4,
   "metadata": {
    "editable": true,
    "execution": {
     "iopub.execute_input": "2024-07-27T15:58:03.199028Z",
     "iopub.status.busy": "2024-07-27T15:58:03.198931Z",
     "iopub.status.idle": "2024-07-27T15:58:03.358911Z",
     "shell.execute_reply": "2024-07-27T15:58:03.358647Z"
    },
    "slideshow": {
     "slide_type": ""
    },
    "tags": []
   },
   "outputs": [
    {
     "data": {
      "text/html": [
       "\n",
       "      <style>\n",
       "      .floating-box {\n",
       "      display: inline-block;\n",
       "      margin: 7px;\n",
       "      padding : 3px;\n",
       "      border: 0px solid transparent;  \n",
       "      valign:middle;\n",
       "      background-color: transparent;\n",
       "      }\n",
       "      </style>\n",
       "      <div class=\"floating-box\"><svg xmlns=\"http://www.w3.org/2000/svg\" xmlns:xlink=\"http://www.w3.org/1999/xlink\" width=\"180pt\" height=\"97pt\" viewBox=\"0.00 0.00 180.00 97.32\">\n",
       "<g id=\"graph0\" class=\"graph\" transform=\"scale(0.51766 0.51766) rotate(0) translate(4 184)\">\n",
       "<title>G</title>\n",
       "<!-- Smoking -->\n",
       "<g id=\"node1\" class=\"node\">\n",
       "<title>Smoking</title>\n",
       "<ellipse fill=\"#404040\" stroke=\"#4a4a4a\" cx=\"44.7\" cy=\"-90\" rx=\"44.7\" ry=\"18\"/>\n",
       "<text text-anchor=\"middle\" x=\"44.7\" y=\"-84.95\" font-family=\"Times,serif\" font-size=\"14.00\" fill=\"white\">Smoking</text>\n",
       "</g>\n",
       "<!-- Lung Cancer -->\n",
       "<g id=\"node5\" class=\"node\">\n",
       "<title>Lung Cancer</title>\n",
       "<ellipse fill=\"none\" stroke=\"black\" cx=\"80.7\" cy=\"-18\" rx=\"59.03\" ry=\"18\"/>\n",
       "<text text-anchor=\"middle\" x=\"80.7\" y=\"-12.95\" font-family=\"Times,serif\" font-size=\"14.00\">Lung Cancer</text>\n",
       "</g>\n",
       "<!-- Smoking&#45;&gt;Lung Cancer -->\n",
       "<g id=\"edge1\" class=\"edge\">\n",
       "<title>Smoking-&gt;Lung Cancer</title>\n",
       "<path fill=\"none\" stroke=\"#4a4a4a\" d=\"M52.52,-71.6C56.49,-63.89 61.28,-54.57 65.74,-45.91\"/>\n",
       "<path fill=\"none\" stroke=\"#4a4a4a\" d=\"M54.3,-72.51C58.27,-64.8 63.06,-55.48 67.51,-46.82\"/>\n",
       "<polygon fill=\"#4a4a4a\" stroke=\"#4a4a4a\" points=\"69.66,-48.11 71.12,-37.62 63.44,-44.91 69.66,-48.11\"/>\n",
       "</g>\n",
       "<!-- Gene -->\n",
       "<g id=\"node2\" class=\"node\">\n",
       "<title>Gene</title>\n",
       "<ellipse fill=\"#404040\" stroke=\"#4a4a4a\" cx=\"167.7\" cy=\"-162\" rx=\"1.8\" ry=\"1.8\"/>\n",
       "</g>\n",
       "<!-- Lung -->\n",
       "<g id=\"node3\" class=\"node\">\n",
       "<title>Lung</title>\n",
       "<ellipse fill=\"none\" stroke=\"#4a4a4a\" cx=\"217.7\" cy=\"-162\" rx=\"30.37\" ry=\"18\"/>\n",
       "<text text-anchor=\"middle\" x=\"217.7\" y=\"-156.95\" font-family=\"Times,serif\" font-size=\"14.00\" fill=\"#4a4a4a\">Lung</text>\n",
       "</g>\n",
       "<!-- Cancer -->\n",
       "<g id=\"node4\" class=\"node\">\n",
       "<title>Cancer</title>\n",
       "<ellipse fill=\"#404040\" stroke=\"#4a4a4a\" cx=\"302.7\" cy=\"-162\" rx=\"37.02\" ry=\"18\"/>\n",
       "<text text-anchor=\"middle\" x=\"302.7\" y=\"-156.95\" font-family=\"Times,serif\" font-size=\"14.00\" fill=\"white\">Cancer</text>\n",
       "</g>\n",
       "<!-- Smoking Gene -->\n",
       "<g id=\"node6\" class=\"node\">\n",
       "<title>Smoking Gene</title>\n",
       "<ellipse fill=\"none\" stroke=\"black\" cx=\"80.7\" cy=\"-162\" rx=\"66.71\" ry=\"18\"/>\n",
       "<text text-anchor=\"middle\" x=\"80.7\" y=\"-156.95\" font-family=\"Times,serif\" font-size=\"14.00\">Smoking Gene</text>\n",
       "</g>\n",
       "<!-- Smoking Gene&#45;&gt;Smoking -->\n",
       "<g id=\"edge2\" class=\"edge\">\n",
       "<title>Smoking Gene-&gt;Smoking</title>\n",
       "<path fill=\"none\" stroke=\"#4a4a4a\" stroke-dasharray=\"5,2\" d=\"M71.8,-143.7C67.83,-135.98 63.06,-126.71 58.64,-118.11\"/>\n",
       "<polygon fill=\"#4a4a4a\" stroke=\"#4a4a4a\" points=\"61.87,-116.74 54.19,-109.45 55.65,-119.94 61.87,-116.74\"/>\n",
       "</g>\n",
       "<!-- Smoking Gene&#45;&gt;Lung Cancer -->\n",
       "<g id=\"edge3\" class=\"edge\">\n",
       "<title>Smoking Gene-&gt;Lung Cancer</title>\n",
       "<path fill=\"none\" stroke=\"#4a4a4a\" stroke-dasharray=\"5,2\" d=\"M88.18,-143.7C92.17,-133.52 96.67,-120.27 98.7,-108 101.31,-92.21 101.31,-87.79 98.7,-72 97.32,-63.66 94.8,-54.87 92.07,-46.89\"/>\n",
       "<polygon fill=\"#4a4a4a\" stroke=\"#4a4a4a\" points=\"95.44,-45.89 88.7,-37.72 88.87,-48.31 95.44,-45.89\"/>\n",
       "</g>\n",
       "</g>\n",
       "</svg><br><center><small><em>Causal Model</em></small></center></div><div class=\"floating-box\">Hedge Error: G={'Smoking', 'Lung Cancer'}, G[S]={'Lung Cancer'}<br><center><small><em>Impossible</em></small></center></div><div class=\"floating-box\">No result<br><center><small><em>Impact</em></small></center></div>"
      ],
      "text/plain": [
       "<IPython.core.display.HTML object>"
      ]
     },
     "metadata": {},
     "output_type": "display_data"
    }
   ],
   "source": [
    "msc = csl.CausalModel(sc, [(\"Smoking Gene\", [\"Smoking\",\"Lung Cancer\"])], True)\n",
    "cslnb.showCausalImpact(msc, \"Lung Cancer\", doing=\"Smoking\",values={})"
   ]
  },
  {
   "cell_type": "markdown",
   "metadata": {
    "editable": true,
    "slideshow": {
     "slide_type": ""
    },
    "tags": []
   },
   "source": [
    "### Front door criterion:"
   ]
  },
  {
   "cell_type": "markdown",
   "metadata": {
    "editable": true,
    "slideshow": {
     "slide_type": ""
    },
    "tags": []
   },
   "source": [
    "> Let's suppose now that smoking causes cancer only through tar deposits that are fully due to the physical action of cigarettes, the causal diagram becomes:"
   ]
  },
  {
   "cell_type": "code",
   "execution_count": 5,
   "metadata": {
    "execution": {
     "iopub.execute_input": "2024-07-27T15:58:03.360355Z",
     "iopub.status.busy": "2024-07-27T15:58:03.360253Z",
     "iopub.status.idle": "2024-07-27T15:58:03.511010Z",
     "shell.execute_reply": "2024-07-27T15:58:03.510731Z"
    }
   },
   "outputs": [
    {
     "data": {
      "text/html": [
       "<svg xmlns=\"http://www.w3.org/2000/svg\" xmlns:xlink=\"http://www.w3.org/1999/xlink\" width=\"126pt\" height=\"188pt\" viewBox=\"0.00 0.00 126.06 188.00\">\n",
       "<g id=\"graph0\" class=\"graph\" transform=\"scale(1 1) rotate(0) translate(4 184)\">\n",
       "<title>G</title>\n",
       "<!-- Smoking -->\n",
       "<g id=\"node1\" class=\"node\">\n",
       "<title>Smoking</title>\n",
       "<g id=\"a_node1\"><a xlink:title=\"(0) Smoking\">\n",
       "<ellipse fill=\"#404040\" stroke=\"#4a4a4a\" cx=\"59.03\" cy=\"-162\" rx=\"44.7\" ry=\"18\"/>\n",
       "<text text-anchor=\"middle\" x=\"59.03\" y=\"-156.95\" font-family=\"Times,serif\" font-size=\"14.00\" fill=\"white\">Smoking</text>\n",
       "</a>\n",
       "</g>\n",
       "</g>\n",
       "<!-- Tar -->\n",
       "<g id=\"node2\" class=\"node\">\n",
       "<title>Tar</title>\n",
       "<g id=\"a_node2\"><a xlink:title=\"(1) Tar\">\n",
       "<ellipse fill=\"#404040\" stroke=\"#4a4a4a\" cx=\"59.03\" cy=\"-90\" rx=\"27\" ry=\"18\"/>\n",
       "<text text-anchor=\"middle\" x=\"59.03\" y=\"-84.95\" font-family=\"Times,serif\" font-size=\"14.00\" fill=\"white\">Tar</text>\n",
       "</a>\n",
       "</g>\n",
       "</g>\n",
       "<!-- Smoking&#45;&gt;Tar -->\n",
       "<g id=\"edge1\" class=\"edge\">\n",
       "<title>Smoking-&gt;Tar</title>\n",
       "<g id=\"a_edge1\"><a xlink:title=\"0 → 1\">\n",
       "<path fill=\"none\" stroke=\"#4a4a4a\" d=\"M59.03,-143.7C59.03,-136.41 59.03,-127.73 59.03,-119.54\"/>\n",
       "<polygon fill=\"#4a4a4a\" stroke=\"#4a4a4a\" points=\"62.53,-119.62 59.03,-109.62 55.53,-119.62 62.53,-119.62\"/>\n",
       "</a>\n",
       "</g>\n",
       "</g>\n",
       "<!-- Lung Cancer -->\n",
       "<g id=\"node3\" class=\"node\">\n",
       "<title>Lung Cancer</title>\n",
       "<g id=\"a_node3\"><a xlink:title=\"(2) Lung Cancer\">\n",
       "<ellipse fill=\"#404040\" stroke=\"#4a4a4a\" cx=\"59.03\" cy=\"-18\" rx=\"59.03\" ry=\"18\"/>\n",
       "<text text-anchor=\"middle\" x=\"59.03\" y=\"-12.95\" font-family=\"Times,serif\" font-size=\"14.00\" fill=\"white\">Lung Cancer</text>\n",
       "</a>\n",
       "</g>\n",
       "</g>\n",
       "<!-- Tar&#45;&gt;Lung Cancer -->\n",
       "<g id=\"edge2\" class=\"edge\">\n",
       "<title>Tar-&gt;Lung Cancer</title>\n",
       "<g id=\"a_edge2\"><a xlink:title=\"1 → 2\">\n",
       "<path fill=\"none\" stroke=\"#4a4a4a\" d=\"M59.03,-71.7C59.03,-64.41 59.03,-55.73 59.03,-47.54\"/>\n",
       "<polygon fill=\"#4a4a4a\" stroke=\"#4a4a4a\" points=\"62.53,-47.62 59.03,-37.62 55.53,-47.62 62.53,-47.62\"/>\n",
       "</a>\n",
       "</g>\n",
       "</g>\n",
       "</g>\n",
       "</svg>"
      ],
      "text/plain": [
       "(pyAgrum.BayesNet<double>@0x151836000) BN{nodes: 3, arcs: 2, domainSize: 8, dim: 5, mem: 80o}"
      ]
     },
     "execution_count": 5,
     "metadata": {},
     "output_type": "execute_result"
    }
   ],
   "source": [
    "sct = gum.fastBN(\"Smoking->Tar->Lung Cancer\")\n",
    "sct"
   ]
  },
  {
   "cell_type": "code",
   "execution_count": 6,
   "metadata": {
    "editable": true,
    "execution": {
     "iopub.execute_input": "2024-07-27T15:58:03.512356Z",
     "iopub.status.busy": "2024-07-27T15:58:03.512250Z",
     "iopub.status.idle": "2024-07-27T15:58:03.673858Z",
     "shell.execute_reply": "2024-07-27T15:58:03.673593Z"
    },
    "slideshow": {
     "slide_type": ""
    },
    "tags": [
     "nbsphinx-thumbnail"
    ]
   },
   "outputs": [
    {
     "data": {
      "image/svg+xml": [
       "<svg xmlns=\"http://www.w3.org/2000/svg\" xmlns:xlink=\"http://www.w3.org/1999/xlink\" width=\"348pt\" height=\"260pt\" viewBox=\"0.00 0.00 347.72 260.00\">\n",
       "<g id=\"graph0\" class=\"graph\" transform=\"scale(1 1) rotate(0) translate(4 256)\">\n",
       "<title>G</title>\n",
       "<!-- Smoking -->\n",
       "<g id=\"node1\" class=\"node\">\n",
       "<title>Smoking</title>\n",
       "<ellipse fill=\"#404040\" stroke=\"#4a4a4a\" cx=\"44.7\" cy=\"-162\" rx=\"44.7\" ry=\"18\"/>\n",
       "<text text-anchor=\"middle\" x=\"44.7\" y=\"-156.95\" font-family=\"Times,serif\" font-size=\"14.00\" fill=\"white\">Smoking</text>\n",
       "</g>\n",
       "<!-- Tar -->\n",
       "<g id=\"node3\" class=\"node\">\n",
       "<title>Tar</title>\n",
       "<ellipse fill=\"#404040\" stroke=\"#4a4a4a\" cx=\"53.7\" cy=\"-90\" rx=\"27\" ry=\"18\"/>\n",
       "<text text-anchor=\"middle\" x=\"53.7\" y=\"-84.95\" font-family=\"Times,serif\" font-size=\"14.00\" fill=\"white\">Tar</text>\n",
       "</g>\n",
       "<!-- Smoking&#45;&gt;Tar -->\n",
       "<g id=\"edge1\" class=\"edge\">\n",
       "<title>Smoking-&gt;Tar</title>\n",
       "<path fill=\"none\" stroke=\"#4a4a4a\" d=\"M45.93,-143.57C46.88,-136.19 48.01,-127.4 49.07,-119.12\"/>\n",
       "<path fill=\"none\" stroke=\"#4a4a4a\" d=\"M47.91,-143.82C48.86,-136.45 49.99,-127.65 51.06,-119.38\"/>\n",
       "<polygon fill=\"#4a4a4a\" stroke=\"#4a4a4a\" points=\"53.5,-119.97 51.31,-109.61 46.56,-119.08 53.5,-119.97\"/>\n",
       "</g>\n",
       "<!-- Gene -->\n",
       "<g id=\"node2\" class=\"node\">\n",
       "<title>Gene</title>\n",
       "<ellipse fill=\"#404040\" stroke=\"#4a4a4a\" cx=\"167.7\" cy=\"-234\" rx=\"1.8\" ry=\"1.8\"/>\n",
       "</g>\n",
       "<!-- Lung Cancer -->\n",
       "<g id=\"node7\" class=\"node\">\n",
       "<title>Lung Cancer</title>\n",
       "<ellipse fill=\"none\" stroke=\"black\" cx=\"80.7\" cy=\"-18\" rx=\"59.03\" ry=\"18\"/>\n",
       "<text text-anchor=\"middle\" x=\"80.7\" y=\"-12.95\" font-family=\"Times,serif\" font-size=\"14.00\">Lung Cancer</text>\n",
       "</g>\n",
       "<!-- Tar&#45;&gt;Lung Cancer -->\n",
       "<g id=\"edge3\" class=\"edge\">\n",
       "<title>Tar-&gt;Lung Cancer</title>\n",
       "<path fill=\"none\" stroke=\"#4a4a4a\" d=\"M59.3,-71.7C62.21,-64.16 65.71,-55.08 68.99,-46.58\"/>\n",
       "<path fill=\"none\" stroke=\"#4a4a4a\" d=\"M61.17,-72.41C64.08,-64.87 67.58,-55.8 70.86,-47.3\"/>\n",
       "<polygon fill=\"#4a4a4a\" stroke=\"#4a4a4a\" points=\"73.16,-48.28 73.49,-37.69 66.63,-45.76 73.16,-48.28\"/>\n",
       "</g>\n",
       "<!-- Lung -->\n",
       "<g id=\"node4\" class=\"node\">\n",
       "<title>Lung</title>\n",
       "<ellipse fill=\"none\" stroke=\"#4a4a4a\" cx=\"217.7\" cy=\"-234\" rx=\"30.37\" ry=\"18\"/>\n",
       "<text text-anchor=\"middle\" x=\"217.7\" y=\"-228.95\" font-family=\"Times,serif\" font-size=\"14.00\" fill=\"#4a4a4a\">Lung</text>\n",
       "</g>\n",
       "<!-- Cancer -->\n",
       "<g id=\"node5\" class=\"node\">\n",
       "<title>Cancer</title>\n",
       "<ellipse fill=\"#404040\" stroke=\"#4a4a4a\" cx=\"302.7\" cy=\"-234\" rx=\"37.02\" ry=\"18\"/>\n",
       "<text text-anchor=\"middle\" x=\"302.7\" y=\"-228.95\" font-family=\"Times,serif\" font-size=\"14.00\" fill=\"white\">Cancer</text>\n",
       "</g>\n",
       "<!-- Smoking Gene -->\n",
       "<g id=\"node6\" class=\"node\">\n",
       "<title>Smoking Gene</title>\n",
       "<ellipse fill=\"none\" stroke=\"black\" cx=\"80.7\" cy=\"-234\" rx=\"66.71\" ry=\"18\"/>\n",
       "<text text-anchor=\"middle\" x=\"80.7\" y=\"-228.95\" font-family=\"Times,serif\" font-size=\"14.00\">Smoking Gene</text>\n",
       "</g>\n",
       "<!-- Smoking Gene&#45;&gt;Smoking -->\n",
       "<g id=\"edge4\" class=\"edge\">\n",
       "<title>Smoking Gene-&gt;Smoking</title>\n",
       "<path fill=\"none\" stroke=\"#4a4a4a\" stroke-dasharray=\"5,2\" d=\"M71.8,-215.7C67.83,-207.98 63.06,-198.71 58.64,-190.11\"/>\n",
       "<polygon fill=\"#4a4a4a\" stroke=\"#4a4a4a\" points=\"61.87,-188.74 54.19,-181.45 55.65,-191.94 61.87,-188.74\"/>\n",
       "</g>\n",
       "<!-- Smoking Gene&#45;&gt;Lung Cancer -->\n",
       "<g id=\"edge2\" class=\"edge\">\n",
       "<title>Smoking Gene-&gt;Lung Cancer</title>\n",
       "<path fill=\"none\" stroke=\"#4a4a4a\" stroke-dasharray=\"5,2\" d=\"M88.18,-215.7C92.17,-205.52 96.67,-192.27 98.7,-180 106.37,-133.54 96.31,-78.98 88.43,-46.79\"/>\n",
       "<polygon fill=\"#4a4a4a\" stroke=\"#4a4a4a\" points=\"91.91,-46.28 86.03,-37.47 85.13,-48.02 91.91,-46.28\"/>\n",
       "</g>\n",
       "</g>\n",
       "</svg>"
      ],
      "text/plain": [
       "<IPython.core.display.SVG object>"
      ]
     },
     "metadata": {},
     "output_type": "display_data"
    }
   ],
   "source": [
    "msct = csl.CausalModel(sct, [(\"Smoking Gene\", [\"Smoking\",\"Lung Cancer\"])], True)\n",
    "gnb.show(msct)"
   ]
  },
  {
   "cell_type": "code",
   "execution_count": 7,
   "metadata": {
    "editable": true,
    "execution": {
     "iopub.execute_input": "2024-07-27T15:58:03.675322Z",
     "iopub.status.busy": "2024-07-27T15:58:03.675078Z",
     "iopub.status.idle": "2024-07-27T15:58:03.837755Z",
     "shell.execute_reply": "2024-07-27T15:58:03.837487Z"
    },
    "slideshow": {
     "slide_type": ""
    },
    "tags": []
   },
   "outputs": [
    {
     "data": {
      "text/html": [
       "\n",
       "      <style>\n",
       "      .floating-box {\n",
       "      display: inline-block;\n",
       "      margin: 7px;\n",
       "      padding : 3px;\n",
       "      border: 0px solid transparent;  \n",
       "      valign:middle;\n",
       "      background-color: transparent;\n",
       "      }\n",
       "      </style>\n",
       "      <div class=\"floating-box\"><svg xmlns=\"http://www.w3.org/2000/svg\" xmlns:xlink=\"http://www.w3.org/1999/xlink\" width=\"180pt\" height=\"135pt\" viewBox=\"0.00 0.00 180.00 134.59\">\n",
       "<g id=\"graph0\" class=\"graph\" transform=\"scale(0.51766 0.51766) rotate(0) translate(4 256)\">\n",
       "<title>G</title>\n",
       "<!-- Smoking -->\n",
       "<g id=\"node1\" class=\"node\">\n",
       "<title>Smoking</title>\n",
       "<ellipse fill=\"#404040\" stroke=\"#4a4a4a\" cx=\"44.7\" cy=\"-162\" rx=\"44.7\" ry=\"18\"/>\n",
       "<text text-anchor=\"middle\" x=\"44.7\" y=\"-156.95\" font-family=\"Times,serif\" font-size=\"14.00\" fill=\"white\">Smoking</text>\n",
       "</g>\n",
       "<!-- Tar -->\n",
       "<g id=\"node3\" class=\"node\">\n",
       "<title>Tar</title>\n",
       "<ellipse fill=\"#404040\" stroke=\"#4a4a4a\" cx=\"53.7\" cy=\"-90\" rx=\"27\" ry=\"18\"/>\n",
       "<text text-anchor=\"middle\" x=\"53.7\" y=\"-84.95\" font-family=\"Times,serif\" font-size=\"14.00\" fill=\"white\">Tar</text>\n",
       "</g>\n",
       "<!-- Smoking&#45;&gt;Tar -->\n",
       "<g id=\"edge1\" class=\"edge\">\n",
       "<title>Smoking-&gt;Tar</title>\n",
       "<path fill=\"none\" stroke=\"#4a4a4a\" d=\"M45.93,-143.57C46.88,-136.19 48.01,-127.4 49.07,-119.12\"/>\n",
       "<path fill=\"none\" stroke=\"#4a4a4a\" d=\"M47.91,-143.82C48.86,-136.45 49.99,-127.65 51.06,-119.38\"/>\n",
       "<polygon fill=\"#4a4a4a\" stroke=\"#4a4a4a\" points=\"53.5,-119.97 51.31,-109.61 46.56,-119.08 53.5,-119.97\"/>\n",
       "</g>\n",
       "<!-- Gene -->\n",
       "<g id=\"node2\" class=\"node\">\n",
       "<title>Gene</title>\n",
       "<ellipse fill=\"#404040\" stroke=\"#4a4a4a\" cx=\"167.7\" cy=\"-234\" rx=\"1.8\" ry=\"1.8\"/>\n",
       "</g>\n",
       "<!-- Lung Cancer -->\n",
       "<g id=\"node7\" class=\"node\">\n",
       "<title>Lung Cancer</title>\n",
       "<ellipse fill=\"none\" stroke=\"black\" cx=\"80.7\" cy=\"-18\" rx=\"59.03\" ry=\"18\"/>\n",
       "<text text-anchor=\"middle\" x=\"80.7\" y=\"-12.95\" font-family=\"Times,serif\" font-size=\"14.00\">Lung Cancer</text>\n",
       "</g>\n",
       "<!-- Tar&#45;&gt;Lung Cancer -->\n",
       "<g id=\"edge3\" class=\"edge\">\n",
       "<title>Tar-&gt;Lung Cancer</title>\n",
       "<path fill=\"none\" stroke=\"#4a4a4a\" d=\"M59.3,-71.7C62.21,-64.16 65.71,-55.08 68.99,-46.58\"/>\n",
       "<path fill=\"none\" stroke=\"#4a4a4a\" d=\"M61.17,-72.41C64.08,-64.87 67.58,-55.8 70.86,-47.3\"/>\n",
       "<polygon fill=\"#4a4a4a\" stroke=\"#4a4a4a\" points=\"73.16,-48.28 73.49,-37.69 66.63,-45.76 73.16,-48.28\"/>\n",
       "</g>\n",
       "<!-- Lung -->\n",
       "<g id=\"node4\" class=\"node\">\n",
       "<title>Lung</title>\n",
       "<ellipse fill=\"none\" stroke=\"#4a4a4a\" cx=\"217.7\" cy=\"-234\" rx=\"30.37\" ry=\"18\"/>\n",
       "<text text-anchor=\"middle\" x=\"217.7\" y=\"-228.95\" font-family=\"Times,serif\" font-size=\"14.00\" fill=\"#4a4a4a\">Lung</text>\n",
       "</g>\n",
       "<!-- Cancer -->\n",
       "<g id=\"node5\" class=\"node\">\n",
       "<title>Cancer</title>\n",
       "<ellipse fill=\"#404040\" stroke=\"#4a4a4a\" cx=\"302.7\" cy=\"-234\" rx=\"37.02\" ry=\"18\"/>\n",
       "<text text-anchor=\"middle\" x=\"302.7\" y=\"-228.95\" font-family=\"Times,serif\" font-size=\"14.00\" fill=\"white\">Cancer</text>\n",
       "</g>\n",
       "<!-- Smoking Gene -->\n",
       "<g id=\"node6\" class=\"node\">\n",
       "<title>Smoking Gene</title>\n",
       "<ellipse fill=\"none\" stroke=\"black\" cx=\"80.7\" cy=\"-234\" rx=\"66.71\" ry=\"18\"/>\n",
       "<text text-anchor=\"middle\" x=\"80.7\" y=\"-228.95\" font-family=\"Times,serif\" font-size=\"14.00\">Smoking Gene</text>\n",
       "</g>\n",
       "<!-- Smoking Gene&#45;&gt;Smoking -->\n",
       "<g id=\"edge4\" class=\"edge\">\n",
       "<title>Smoking Gene-&gt;Smoking</title>\n",
       "<path fill=\"none\" stroke=\"#4a4a4a\" stroke-dasharray=\"5,2\" d=\"M71.8,-215.7C67.83,-207.98 63.06,-198.71 58.64,-190.11\"/>\n",
       "<polygon fill=\"#4a4a4a\" stroke=\"#4a4a4a\" points=\"61.87,-188.74 54.19,-181.45 55.65,-191.94 61.87,-188.74\"/>\n",
       "</g>\n",
       "<!-- Smoking Gene&#45;&gt;Lung Cancer -->\n",
       "<g id=\"edge2\" class=\"edge\">\n",
       "<title>Smoking Gene-&gt;Lung Cancer</title>\n",
       "<path fill=\"none\" stroke=\"#4a4a4a\" stroke-dasharray=\"5,2\" d=\"M88.18,-215.7C92.17,-205.52 96.67,-192.27 98.7,-180 106.37,-133.54 96.31,-78.98 88.43,-46.79\"/>\n",
       "<polygon fill=\"#4a4a4a\" stroke=\"#4a4a4a\" points=\"91.91,-46.28 86.03,-37.47 85.13,-48.02 91.91,-46.28\"/>\n",
       "</g>\n",
       "</g>\n",
       "</svg><br><center><small><em>Causal Model</em></small></center></div><div class=\"floating-box\">$$\\begin{equation*}P( Lung Cancer \\mid \\text{do}(Smoking)) = \\sum_{Tar}{P\\left(Tar\\mid Smoking\\right) \\cdot \\left(\\sum_{Smoking'}{P\\left(Lung Cancer\\mid Smoking',Tar\\right) \\cdot P\\left(Smoking'\\right)}\\right)}\\end{equation*}$$<br><center><small><em>Explanation : frontdoor ['Tar'] found.</em></small></center></div><div class=\"floating-box\"><table style=\"border:1px solid black;border-collapse: collapse;\">\n",
       "<tr><th colspan='1'></th>\n",
       "      <th colspan='2' style='border:1px solid black;color:black;background-color:#808080;'><center>Lung Cancer</center>\n",
       "      </th></tr>\n",
       "<tr><th style='border:1px solid black;color:black;background-color:#808080'><center>Smoking</center></th><th style='border:1px solid black;border-bottom-style: double;color:black;background-color:#BBBBBB'>\n",
       "      <center>0</center></th><th style='border:1px solid black;border-bottom-style: double;color:black;background-color:#BBBBBB'>\n",
       "      <center>1</center></th></tr>\n",
       "<tr><th style='border:1px solid black;color:black;background-color:#BBBBBB'><center>0</center></th><td style='color:black;background-color:#c1bc64;text-align:right;padding: 3px;'>0.4817</td><td style='color:black;background-color:#bcc164;text-align:right;padding: 3px;'>0.5183</td></tr>\n",
       "<tr><th style='border:1px solid black;color:black;background-color:#BBBBBB'><center>1</center></th><td style='color:black;background-color:#c1bc64;text-align:right;padding: 3px;'>0.4835</td><td style='color:black;background-color:#bcc164;text-align:right;padding: 3px;'>0.5165</td></tr>\n",
       "</table><br><center><small><em>Impact</em></small></center></div>"
      ],
      "text/plain": [
       "<IPython.core.display.HTML object>"
      ]
     },
     "metadata": {},
     "output_type": "display_data"
    }
   ],
   "source": [
    "cslnb.showCausalImpact(msct, \"Lung Cancer\", doing=\"Smoking\",values={})"
   ]
  },
  {
   "cell_type": "markdown",
   "metadata": {},
   "source": [
    "> Even if the smoking gene is unobservable, we can assess the causal effect of Smoking on Lung Cancer using the front-door method. In this case, the front-door is: $$Smoking \\rightarrow \\color{red}{Tar} \\rightarrow LungCancer$$\n",
    "It consists of variables that we have observed:"
   ]
  },
  {
   "cell_type": "markdown",
   "metadata": {},
   "source": [
    "* We can measure the causal effect of $Smoking$ on $Tar$, there are no open back-doors between the two ($Tar \\leftarrow  Smoking \\rightarrow SmokingGene \\leftarrow LungCancer$ is blocked by the collider node $LungCancer$)\n",
    "$$P(Tar \\mid do(Smoking)) = P (Tar \\mid Smoking) $$"
   ]
  },
  {
   "cell_type": "code",
   "execution_count": 8,
   "metadata": {
    "execution": {
     "iopub.execute_input": "2024-07-27T15:58:03.839191Z",
     "iopub.status.busy": "2024-07-27T15:58:03.839084Z",
     "iopub.status.idle": "2024-07-27T15:58:03.841406Z",
     "shell.execute_reply": "2024-07-27T15:58:03.841187Z"
    }
   },
   "outputs": [
    {
     "data": {
      "text/latex": [
       "$\\displaystyle P( Tar \\mid \\text{do}(Smoking)) = P\\left(Tar\\mid Smoking\\right)$"
      ],
      "text/plain": [
       "<IPython.core.display.Math object>"
      ]
     },
     "metadata": {},
     "output_type": "display_data"
    }
   ],
   "source": [
    "formula, adj, exp = csl.causalImpact(msct,on = \"Tar\",doing = \"Smoking\",values = {})\n",
    "display(Math(formula.toLatex()))"
   ]
  },
  {
   "cell_type": "markdown",
   "metadata": {},
   "source": [
    "* We can measure the causal effect of $Tar$ on $LungCancer$, we just need to adjust for the $Smoking$  to block the \"back-door path\" $ Tar \\leftarrow Smoking \\leftarrow SmokingGene \\rightarrow LungCancer$\n",
    "$$P(LungCancer \\mid do(Tar)) = \\sum_{Smoking}{P(LungCancer \\mid Tar, Smoking) \\times P(Smoking)}$$"
   ]
  },
  {
   "cell_type": "code",
   "execution_count": 9,
   "metadata": {
    "execution": {
     "iopub.execute_input": "2024-07-27T15:58:03.842530Z",
     "iopub.status.busy": "2024-07-27T15:58:03.842447Z",
     "iopub.status.idle": "2024-07-27T15:58:03.845172Z",
     "shell.execute_reply": "2024-07-27T15:58:03.844975Z"
    }
   },
   "outputs": [
    {
     "data": {
      "text/latex": [
       "$\\displaystyle P( Lung Cancer \\mid \\text{do}(Tar)) = \\sum_{Smoking}{P\\left(Lung Cancer\\mid Smoking,Tar\\right) \\cdot P\\left(Smoking\\right)}$"
      ],
      "text/plain": [
       "<IPython.core.display.Math object>"
      ]
     },
     "metadata": {},
     "output_type": "display_data"
    }
   ],
   "source": [
    "formula, adj, exp = csl.causalImpact(msct,on = \"Lung Cancer\",doing = \"Tar\",values = {})\n",
    "display(Math(formula.toLatex()))"
   ]
  },
  {
   "cell_type": "markdown",
   "metadata": {},
   "source": [
    "We can now combine these two pieces of information to have the causal effect of $Smoking$ on $LungCancer$ and reduce the expression of $P(LungCancer \\mid do(Smoking))$ to elements that we observed:\n",
    "$$ P(LungCancer \\mid do(Smoking)) = \\sum_{Tar}{(P(Tar \\mid Smoking) \\times \\sum_{Smoking^{'}}{P(LungCancer \\mid Tar, Smoking^{'}) \\times P(Smoking^{'})})} $$"
   ]
  },
  {
   "cell_type": "markdown",
   "metadata": {
    "editable": true,
    "slideshow": {
     "slide_type": ""
    },
    "tags": []
   },
   "source": [
    "## Birth-weight paradox:"
   ]
  },
  {
   "cell_type": "markdown",
   "metadata": {
    "editable": true,
    "slideshow": {
     "slide_type": ""
    },
    "tags": []
   },
   "source": [
    "> Studies have shown that babies of smoking mothers tend to weigh less than average. Other studies have shown that low-birth-weight babies have a higher mortality rate than normal-birth-weight babies. The corresponding causal diagram is the following causal:"
   ]
  },
  {
   "cell_type": "code",
   "execution_count": 10,
   "metadata": {
    "execution": {
     "iopub.execute_input": "2024-07-27T15:58:03.846358Z",
     "iopub.status.busy": "2024-07-27T15:58:03.846278Z",
     "iopub.status.idle": "2024-07-27T15:58:03.997334Z",
     "shell.execute_reply": "2024-07-27T15:58:03.997053Z"
    }
   },
   "outputs": [
    {
     "data": {
      "text/html": [
       "<svg xmlns=\"http://www.w3.org/2000/svg\" xmlns:xlink=\"http://www.w3.org/1999/xlink\" width=\"165pt\" height=\"188pt\" viewBox=\"0.00 0.00 164.95 188.00\">\n",
       "<g id=\"graph0\" class=\"graph\" transform=\"scale(1 1) rotate(0) translate(4 184)\">\n",
       "<title>G</title>\n",
       "<!-- Smoking -->\n",
       "<g id=\"node1\" class=\"node\">\n",
       "<title>Smoking</title>\n",
       "<g id=\"a_node1\"><a xlink:title=\"(0) Smoking\">\n",
       "<ellipse fill=\"#404040\" stroke=\"#4a4a4a\" cx=\"78.48\" cy=\"-162\" rx=\"44.7\" ry=\"18\"/>\n",
       "<text text-anchor=\"middle\" x=\"78.48\" y=\"-156.95\" font-family=\"Times,serif\" font-size=\"14.00\" fill=\"white\">Smoking</text>\n",
       "</a>\n",
       "</g>\n",
       "</g>\n",
       "<!-- Low Birth Weight -->\n",
       "<g id=\"node2\" class=\"node\">\n",
       "<title>Low Birth Weight</title>\n",
       "<g id=\"a_node2\"><a xlink:title=\"(1) Low Birth Weight\">\n",
       "<ellipse fill=\"#404040\" stroke=\"#4a4a4a\" cx=\"78.48\" cy=\"-90\" rx=\"78.48\" ry=\"18\"/>\n",
       "<text text-anchor=\"middle\" x=\"78.48\" y=\"-84.95\" font-family=\"Times,serif\" font-size=\"14.00\" fill=\"white\">Low Birth Weight</text>\n",
       "</a>\n",
       "</g>\n",
       "</g>\n",
       "<!-- Smoking&#45;&gt;Low Birth Weight -->\n",
       "<g id=\"edge1\" class=\"edge\">\n",
       "<title>Smoking-&gt;Low Birth Weight</title>\n",
       "<g id=\"a_edge1\"><a xlink:title=\"0 → 1\">\n",
       "<path fill=\"none\" stroke=\"#4a4a4a\" d=\"M78.48,-143.7C78.48,-136.41 78.48,-127.73 78.48,-119.54\"/>\n",
       "<polygon fill=\"#4a4a4a\" stroke=\"#4a4a4a\" points=\"81.98,-119.62 78.48,-109.62 74.98,-119.62 81.98,-119.62\"/>\n",
       "</a>\n",
       "</g>\n",
       "</g>\n",
       "<!-- Mortality -->\n",
       "<g id=\"node3\" class=\"node\">\n",
       "<title>Mortality</title>\n",
       "<g id=\"a_node3\"><a xlink:title=\"(2) Mortality\">\n",
       "<ellipse fill=\"#404040\" stroke=\"#4a4a4a\" cx=\"78.48\" cy=\"-18\" rx=\"46.23\" ry=\"18\"/>\n",
       "<text text-anchor=\"middle\" x=\"78.48\" y=\"-12.95\" font-family=\"Times,serif\" font-size=\"14.00\" fill=\"white\">Mortality</text>\n",
       "</a>\n",
       "</g>\n",
       "</g>\n",
       "<!-- Low Birth Weight&#45;&gt;Mortality -->\n",
       "<g id=\"edge2\" class=\"edge\">\n",
       "<title>Low Birth Weight-&gt;Mortality</title>\n",
       "<g id=\"a_edge2\"><a xlink:title=\"1 → 2\">\n",
       "<path fill=\"none\" stroke=\"#4a4a4a\" d=\"M78.48,-71.7C78.48,-64.41 78.48,-55.73 78.48,-47.54\"/>\n",
       "<polygon fill=\"#4a4a4a\" stroke=\"#4a4a4a\" points=\"81.98,-47.62 78.48,-37.62 74.98,-47.62 81.98,-47.62\"/>\n",
       "</a>\n",
       "</g>\n",
       "</g>\n",
       "</g>\n",
       "</svg>"
      ],
      "text/plain": [
       "(pyAgrum.BayesNet<double>@0x151832e00) BN{nodes: 3, arcs: 2, domainSize: 8, dim: 5, mem: 80o}"
      ]
     },
     "execution_count": 10,
     "metadata": {},
     "output_type": "execute_result"
    }
   ],
   "source": [
    "bwp = gum.fastBN(\"Smoking->Low Birth Weight->Mortality\")\n",
    "bwp"
   ]
  },
  {
   "cell_type": "code",
   "execution_count": 11,
   "metadata": {
    "execution": {
     "iopub.execute_input": "2024-07-27T15:58:03.998672Z",
     "iopub.status.busy": "2024-07-27T15:58:03.998573Z",
     "iopub.status.idle": "2024-07-27T15:58:04.156977Z",
     "shell.execute_reply": "2024-07-27T15:58:04.156711Z"
    }
   },
   "outputs": [
    {
     "data": {
      "text/html": [
       "\n",
       "      <style>\n",
       "      .floating-box {\n",
       "      display: inline-block;\n",
       "      margin: 7px;\n",
       "      padding : 3px;\n",
       "      border: 0px solid transparent;  \n",
       "      valign:middle;\n",
       "      background-color: transparent;\n",
       "      }\n",
       "      </style>\n",
       "      <div class=\"floating-box\"><svg xmlns=\"http://www.w3.org/2000/svg\" xmlns:xlink=\"http://www.w3.org/1999/xlink\" width=\"180pt\" height=\"90pt\" viewBox=\"0.00 0.00 180.00 89.64\">\n",
       "<g id=\"graph0\" class=\"graph\" transform=\"scale(0.476794 0.476794) rotate(0) translate(4 184)\">\n",
       "<title>G</title>\n",
       "<!-- Smoking -->\n",
       "<g id=\"node1\" class=\"node\">\n",
       "<title>Smoking</title>\n",
       "<ellipse fill=\"#404040\" stroke=\"#4a4a4a\" cx=\"78.48\" cy=\"-162\" rx=\"44.7\" ry=\"18\"/>\n",
       "<text text-anchor=\"middle\" x=\"78.48\" y=\"-156.95\" font-family=\"Times,serif\" font-size=\"14.00\" fill=\"white\">Smoking</text>\n",
       "</g>\n",
       "<!-- Low Birth Weight -->\n",
       "<g id=\"node6\" class=\"node\">\n",
       "<title>Low Birth Weight</title>\n",
       "<ellipse fill=\"none\" stroke=\"black\" cx=\"78.48\" cy=\"-90\" rx=\"78.48\" ry=\"18\"/>\n",
       "<text text-anchor=\"middle\" x=\"78.48\" y=\"-84.95\" font-family=\"Times,serif\" font-size=\"14.00\">Low Birth Weight</text>\n",
       "</g>\n",
       "<!-- Smoking&#45;&gt;Low Birth Weight -->\n",
       "<g id=\"edge1\" class=\"edge\">\n",
       "<title>Smoking-&gt;Low Birth Weight</title>\n",
       "<path fill=\"none\" stroke=\"#4a4a4a\" d=\"M77.48,-143.7C77.48,-136.41 77.48,-127.73 77.48,-119.54\"/>\n",
       "<path fill=\"none\" stroke=\"#4a4a4a\" d=\"M79.48,-143.7C79.48,-136.41 79.48,-127.73 79.48,-119.54\"/>\n",
       "<polygon fill=\"#4a4a4a\" stroke=\"#4a4a4a\" points=\"81.98,-119.62 78.48,-109.62 74.98,-119.62 81.98,-119.62\"/>\n",
       "</g>\n",
       "<!-- Low -->\n",
       "<g id=\"node2\" class=\"node\">\n",
       "<title>Low</title>\n",
       "<ellipse fill=\"none\" stroke=\"#4a4a4a\" cx=\"169.48\" cy=\"-162\" rx=\"27.81\" ry=\"18\"/>\n",
       "<text text-anchor=\"middle\" x=\"169.48\" y=\"-156.95\" font-family=\"Times,serif\" font-size=\"14.00\" fill=\"#4a4a4a\">Low</text>\n",
       "</g>\n",
       "<!-- Birth -->\n",
       "<g id=\"node3\" class=\"node\">\n",
       "<title>Birth</title>\n",
       "<ellipse fill=\"none\" stroke=\"#4a4a4a\" cx=\"245.48\" cy=\"-162\" rx=\"29.86\" ry=\"18\"/>\n",
       "<text text-anchor=\"middle\" x=\"245.48\" y=\"-156.95\" font-family=\"Times,serif\" font-size=\"14.00\" fill=\"#4a4a4a\">Birth</text>\n",
       "</g>\n",
       "<!-- Weight -->\n",
       "<g id=\"node4\" class=\"node\">\n",
       "<title>Weight</title>\n",
       "<ellipse fill=\"#404040\" stroke=\"#4a4a4a\" cx=\"331.48\" cy=\"-162\" rx=\"38.04\" ry=\"18\"/>\n",
       "<text text-anchor=\"middle\" x=\"331.48\" y=\"-156.95\" font-family=\"Times,serif\" font-size=\"14.00\" fill=\"white\">Weight</text>\n",
       "</g>\n",
       "<!-- Mortality -->\n",
       "<g id=\"node5\" class=\"node\">\n",
       "<title>Mortality</title>\n",
       "<ellipse fill=\"#404040\" stroke=\"#4a4a4a\" cx=\"78.48\" cy=\"-18\" rx=\"46.23\" ry=\"18\"/>\n",
       "<text text-anchor=\"middle\" x=\"78.48\" y=\"-12.95\" font-family=\"Times,serif\" font-size=\"14.00\" fill=\"white\">Mortality</text>\n",
       "</g>\n",
       "<!-- Low Birth Weight&#45;&gt;Mortality -->\n",
       "<g id=\"edge2\" class=\"edge\">\n",
       "<title>Low Birth Weight-&gt;Mortality</title>\n",
       "<path fill=\"none\" stroke=\"#4a4a4a\" d=\"M77.48,-71.7C77.48,-64.41 77.48,-55.73 77.48,-47.54\"/>\n",
       "<path fill=\"none\" stroke=\"#4a4a4a\" d=\"M79.48,-71.7C79.48,-64.41 79.48,-55.73 79.48,-47.54\"/>\n",
       "<polygon fill=\"#4a4a4a\" stroke=\"#4a4a4a\" points=\"81.98,-47.62 78.48,-37.62 74.98,-47.62 81.98,-47.62\"/>\n",
       "</g>\n",
       "</g>\n",
       "</svg><br><center><small><em>Causal Model</em></small></center></div><div class=\"floating-box\">$$\\begin{equation*}P( Mortality \\mid \\text{do}(Smoking)) = \\sum_{Low Birth Weight}{P\\left(Low Birth Weight\\mid Smoking\\right) \\cdot \\left(\\sum_{Smoking'}{P\\left(Mortality\\mid Low Birth Weight\\right) \\cdot P\\left(Smoking'\\right)}\\right)}\\end{equation*}$$<br><center><small><em>Explanation : frontdoor ['Low Birth Weight'] found.</em></small></center></div><div class=\"floating-box\"><table style=\"border:1px solid black;border-collapse: collapse;\">\n",
       "<tr><th colspan='1'></th>\n",
       "      <th colspan='2' style='border:1px solid black;color:black;background-color:#808080;'><center>Mortality</center>\n",
       "      </th></tr>\n",
       "<tr><th style='border:1px solid black;color:black;background-color:#808080'><center>Smoking</center></th><th style='border:1px solid black;border-bottom-style: double;color:black;background-color:#BBBBBB'>\n",
       "      <center>0</center></th><th style='border:1px solid black;border-bottom-style: double;color:black;background-color:#BBBBBB'>\n",
       "      <center>1</center></th></tr>\n",
       "<tr><th style='border:1px solid black;color:black;background-color:#BBBBBB'><center>0</center></th><td style='color:black;background-color:#bebf64;text-align:right;padding: 3px;'>0.5004</td><td style='color:black;background-color:#bfbe64;text-align:right;padding: 3px;'>0.4996</td></tr>\n",
       "<tr><th style='border:1px solid black;color:black;background-color:#BBBBBB'><center>1</center></th><td style='color:black;background-color:#d6a764;text-align:right;padding: 3px;'>0.3131</td><td style='color:black;background-color:#a7d664;text-align:right;padding: 3px;'>0.6869</td></tr>\n",
       "</table><br><center><small><em>Impact</em></small></center></div>"
      ],
      "text/plain": [
       "<IPython.core.display.HTML object>"
      ]
     },
     "metadata": {},
     "output_type": "display_data"
    }
   ],
   "source": [
    "# Causal effect of Smoking on neo-natal mortality\n",
    "bwpModele = csl.CausalModel(bwp)\n",
    "cslnb.showCausalImpact(bwpModele, \"Mortality\", doing=\"Smoking\",values={})"
   ]
  },
  {
   "cell_type": "markdown",
   "metadata": {},
   "source": [
    "> However the data also showed that low-birth-weight babies of smoker mothers had lower mortality rates than low-birth-weight babies of non-smoker mothers. <br>\n",
    "An explanation for this paradoxical situation is that low-birth-weight is either due to a smoking mother or to another birth defect that is much more threatening to the baby's health. The causal diagram becomes:"
   ]
  },
  {
   "cell_type": "code",
   "execution_count": 12,
   "metadata": {
    "execution": {
     "iopub.execute_input": "2024-07-27T15:58:04.158390Z",
     "iopub.status.busy": "2024-07-27T15:58:04.158281Z",
     "iopub.status.idle": "2024-07-27T15:58:04.309465Z",
     "shell.execute_reply": "2024-07-27T15:58:04.309192Z"
    }
   },
   "outputs": [
    {
     "data": {
      "text/html": [
       "<svg xmlns=\"http://www.w3.org/2000/svg\" xmlns:xlink=\"http://www.w3.org/1999/xlink\" width=\"249pt\" height=\"188pt\" viewBox=\"0.00 0.00 248.63 188.00\">\n",
       "<g id=\"graph0\" class=\"graph\" transform=\"scale(1 1) rotate(0) translate(4 184)\">\n",
       "<title>G</title>\n",
       "<!-- Smoking -->\n",
       "<g id=\"node1\" class=\"node\">\n",
       "<title>Smoking</title>\n",
       "<g id=\"a_node1\"><a xlink:title=\"(0) Smoking\">\n",
       "<ellipse fill=\"#404040\" stroke=\"#4a4a4a\" cx=\"44.7\" cy=\"-162\" rx=\"44.7\" ry=\"18\"/>\n",
       "<text text-anchor=\"middle\" x=\"44.7\" y=\"-156.95\" font-family=\"Times,serif\" font-size=\"14.00\" fill=\"white\">Smoking</text>\n",
       "</a>\n",
       "</g>\n",
       "</g>\n",
       "<!-- Low Birth Weight -->\n",
       "<g id=\"node2\" class=\"node\">\n",
       "<title>Low Birth Weight</title>\n",
       "<g id=\"a_node2\"><a xlink:title=\"(1) Low Birth Weight\">\n",
       "<ellipse fill=\"#404040\" stroke=\"#4a4a4a\" cx=\"103.7\" cy=\"-90\" rx=\"78.48\" ry=\"18\"/>\n",
       "<text text-anchor=\"middle\" x=\"103.7\" y=\"-84.95\" font-family=\"Times,serif\" font-size=\"14.00\" fill=\"white\">Low Birth Weight</text>\n",
       "</a>\n",
       "</g>\n",
       "</g>\n",
       "<!-- Smoking&#45;&gt;Low Birth Weight -->\n",
       "<g id=\"edge1\" class=\"edge\">\n",
       "<title>Smoking-&gt;Low Birth Weight</title>\n",
       "<g id=\"a_edge1\"><a xlink:title=\"0 → 1\">\n",
       "<path fill=\"none\" stroke=\"#4a4a4a\" d=\"M58.68,-144.41C65.7,-136.08 74.37,-125.8 82.21,-116.49\"/>\n",
       "<polygon fill=\"#4a4a4a\" stroke=\"#4a4a4a\" points=\"84.66,-119.02 88.43,-109.11 79.31,-114.5 84.66,-119.02\"/>\n",
       "</a>\n",
       "</g>\n",
       "</g>\n",
       "<!-- Mortality -->\n",
       "<g id=\"node4\" class=\"node\">\n",
       "<title>Mortality</title>\n",
       "<g id=\"a_node4\"><a xlink:title=\"(2) Mortality\">\n",
       "<ellipse fill=\"#404040\" stroke=\"#4a4a4a\" cx=\"103.7\" cy=\"-18\" rx=\"46.23\" ry=\"18\"/>\n",
       "<text text-anchor=\"middle\" x=\"103.7\" y=\"-12.95\" font-family=\"Times,serif\" font-size=\"14.00\" fill=\"white\">Mortality</text>\n",
       "</a>\n",
       "</g>\n",
       "</g>\n",
       "<!-- Smoking&#45;&gt;Mortality -->\n",
       "<g id=\"edge4\" class=\"edge\">\n",
       "<title>Smoking-&gt;Mortality</title>\n",
       "<g id=\"a_edge4\"><a xlink:title=\"0 → 2\">\n",
       "<path fill=\"none\" stroke=\"#4a4a4a\" d=\"M31.87,-144.43C19.21,-125.91 3.53,-95.44 16.7,-72 26.02,-55.4 42.89,-43.39 59.31,-35.04\"/>\n",
       "<polygon fill=\"#4a4a4a\" stroke=\"#4a4a4a\" points=\"60.46,-38.37 68.03,-30.95 57.49,-32.03 60.46,-38.37\"/>\n",
       "</a>\n",
       "</g>\n",
       "</g>\n",
       "<!-- Low Birth Weight&#45;&gt;Mortality -->\n",
       "<g id=\"edge2\" class=\"edge\">\n",
       "<title>Low Birth Weight-&gt;Mortality</title>\n",
       "<g id=\"a_edge2\"><a xlink:title=\"1 → 2\">\n",
       "<path fill=\"none\" stroke=\"#4a4a4a\" d=\"M103.7,-71.7C103.7,-64.41 103.7,-55.73 103.7,-47.54\"/>\n",
       "<polygon fill=\"#4a4a4a\" stroke=\"#4a4a4a\" points=\"107.2,-47.62 103.7,-37.62 100.2,-47.62 107.2,-47.62\"/>\n",
       "</a>\n",
       "</g>\n",
       "</g>\n",
       "<!-- Birth defect -->\n",
       "<g id=\"node3\" class=\"node\">\n",
       "<title>Birth defect</title>\n",
       "<g id=\"a_node3\"><a xlink:title=\"(3) Birth defect\">\n",
       "<ellipse fill=\"#404040\" stroke=\"#4a4a4a\" cx=\"185.7\" cy=\"-162\" rx=\"54.93\" ry=\"18\"/>\n",
       "<text text-anchor=\"middle\" x=\"185.7\" y=\"-156.95\" font-family=\"Times,serif\" font-size=\"14.00\" fill=\"white\">Birth defect</text>\n",
       "</a>\n",
       "</g>\n",
       "</g>\n",
       "<!-- Birth defect&#45;&gt;Low Birth Weight -->\n",
       "<g id=\"edge3\" class=\"edge\">\n",
       "<title>Birth defect-&gt;Low Birth Weight</title>\n",
       "<g id=\"a_edge3\"><a xlink:title=\"3 → 1\">\n",
       "<path fill=\"none\" stroke=\"#4a4a4a\" d=\"M166.68,-144.76C156.35,-135.95 143.38,-124.87 131.89,-115.07\"/>\n",
       "<polygon fill=\"#4a4a4a\" stroke=\"#4a4a4a\" points=\"134.5,-112.69 124.62,-108.86 129.95,-118.02 134.5,-112.69\"/>\n",
       "</a>\n",
       "</g>\n",
       "</g>\n",
       "<!-- Birth defect&#45;&gt;Mortality -->\n",
       "<g id=\"edge5\" class=\"edge\">\n",
       "<title>Birth defect-&gt;Mortality</title>\n",
       "<g id=\"a_edge5\"><a xlink:title=\"3 → 2\">\n",
       "<path fill=\"none\" stroke=\"#4a4a4a\" d=\"M191.88,-143.7C197.51,-124.8 203.2,-94.26 190.7,-72 181.37,-55.4 164.5,-43.39 148.09,-35.04\"/>\n",
       "<polygon fill=\"#4a4a4a\" stroke=\"#4a4a4a\" points=\"149.91,-32.03 139.37,-30.95 146.93,-38.37 149.91,-32.03\"/>\n",
       "</a>\n",
       "</g>\n",
       "</g>\n",
       "</g>\n",
       "</svg>"
      ],
      "text/plain": [
       "(pyAgrum.BayesNet<double>@0x11180d400) BN{nodes: 4, arcs: 5, domainSize: 16, dim: 14, mem: 224o}"
      ]
     },
     "execution_count": 12,
     "metadata": {},
     "output_type": "execute_result"
    }
   ],
   "source": [
    "bwpe = gum.fastBN(\"Smoking->Low Birth Weight->Mortality<-Smoking;Birth defect->Low Birth Weight;Mortality<-Birth defect\")\n",
    "bwpe"
   ]
  },
  {
   "cell_type": "markdown",
   "metadata": {},
   "source": [
    "> Pinpointing the source of this paradoxical situation becomes easy thanks to this causal diagram: \"collider bias\".\"Low Birth Weight\" is a collider! \n",
    "The data only concerned low-birth-weight babies (it is as if we are adjusting for \"Low Birth Weight.\"). Knowing that the mother doesn't smoke increases our belief that a birth defect is the cause of the low-birth-weight, and a birth defect is more threatening for the baby's health. This opened the backdoor path formerly blocked and allowed non-causal information to flow from Smoking to Mortality ($Smoking \\rightarrow Low Birth Weight \\leftarrow Birth defect \\rightarrow Mortality $) introducing a bias."
   ]
  },
  {
   "cell_type": "code",
   "execution_count": 13,
   "metadata": {
    "execution": {
     "iopub.execute_input": "2024-07-27T15:58:04.310877Z",
     "iopub.status.busy": "2024-07-27T15:58:04.310775Z",
     "iopub.status.idle": "2024-07-27T15:58:04.478021Z",
     "shell.execute_reply": "2024-07-27T15:58:04.477723Z"
    }
   },
   "outputs": [
    {
     "data": {
      "text/html": [
       "\n",
       "      <style>\n",
       "      .floating-box {\n",
       "      display: inline-block;\n",
       "      margin: 7px;\n",
       "      padding : 3px;\n",
       "      border: 0px solid transparent;  \n",
       "      valign:middle;\n",
       "      background-color: transparent;\n",
       "      }\n",
       "      </style>\n",
       "      <div class=\"floating-box\"><svg xmlns=\"http://www.w3.org/2000/svg\" xmlns:xlink=\"http://www.w3.org/1999/xlink\" width=\"180pt\" height=\"58pt\" viewBox=\"0.00 0.00 180.00 58.43\">\n",
       "<g id=\"graph0\" class=\"graph\" transform=\"scale(0.310808 0.310808) rotate(0) translate(4 184)\">\n",
       "<title>G</title>\n",
       "<!-- Smoking -->\n",
       "<g id=\"node1\" class=\"node\">\n",
       "<title>Smoking</title>\n",
       "<ellipse fill=\"#404040\" stroke=\"#4a4a4a\" cx=\"44.7\" cy=\"-162\" rx=\"44.7\" ry=\"18\"/>\n",
       "<text text-anchor=\"middle\" x=\"44.7\" y=\"-156.95\" font-family=\"Times,serif\" font-size=\"14.00\" fill=\"white\">Smoking</text>\n",
       "</g>\n",
       "<!-- Mortality -->\n",
       "<g id=\"node5\" class=\"node\">\n",
       "<title>Mortality</title>\n",
       "<ellipse fill=\"#404040\" stroke=\"#4a4a4a\" cx=\"103.7\" cy=\"-18\" rx=\"46.23\" ry=\"18\"/>\n",
       "<text text-anchor=\"middle\" x=\"103.7\" y=\"-12.95\" font-family=\"Times,serif\" font-size=\"14.00\" fill=\"white\">Mortality</text>\n",
       "</g>\n",
       "<!-- Smoking&#45;&gt;Mortality -->\n",
       "<g id=\"edge4\" class=\"edge\">\n",
       "<title>Smoking-&gt;Mortality</title>\n",
       "<path fill=\"none\" stroke=\"#4a4a4a\" d=\"M31.04,-144.99C18.32,-126.36 2.64,-95.9 15.83,-71.51 25.44,-54.59 42.31,-42.57 58.86,-34.15\"/>\n",
       "<path fill=\"none\" stroke=\"#4a4a4a\" d=\"M32.69,-143.86C20.1,-125.45 4.42,-94.99 17.57,-72.49 26.6,-56.21 43.47,-44.2 59.76,-35.93\"/>\n",
       "<polygon fill=\"#4a4a4a\" stroke=\"#4a4a4a\" points=\"60.46,-38.37 68.03,-30.95 57.49,-32.03 60.46,-38.37\"/>\n",
       "</g>\n",
       "<!-- Low Birth Weight -->\n",
       "<g id=\"node7\" class=\"node\">\n",
       "<title>Low Birth Weight</title>\n",
       "<ellipse fill=\"none\" stroke=\"black\" cx=\"103.7\" cy=\"-90\" rx=\"78.48\" ry=\"18\"/>\n",
       "<text text-anchor=\"middle\" x=\"103.7\" y=\"-84.95\" font-family=\"Times,serif\" font-size=\"14.00\">Low Birth Weight</text>\n",
       "</g>\n",
       "<!-- Smoking&#45;&gt;Low Birth Weight -->\n",
       "<g id=\"edge1\" class=\"edge\">\n",
       "<title>Smoking-&gt;Low Birth Weight</title>\n",
       "<path fill=\"none\" stroke=\"#4a4a4a\" d=\"M57.92,-143.77C64.94,-135.43 73.6,-125.15 81.45,-115.84\"/>\n",
       "<path fill=\"none\" stroke=\"#4a4a4a\" d=\"M59.44,-145.06C66.47,-136.72 75.13,-126.44 82.98,-117.13\"/>\n",
       "<polygon fill=\"#4a4a4a\" stroke=\"#4a4a4a\" points=\"84.66,-119.02 88.43,-109.11 79.31,-114.5 84.66,-119.02\"/>\n",
       "</g>\n",
       "<!-- Low -->\n",
       "<g id=\"node2\" class=\"node\">\n",
       "<title>Low</title>\n",
       "<ellipse fill=\"none\" stroke=\"#4a4a4a\" cx=\"286.7\" cy=\"-162\" rx=\"27.81\" ry=\"18\"/>\n",
       "<text text-anchor=\"middle\" x=\"286.7\" y=\"-156.95\" font-family=\"Times,serif\" font-size=\"14.00\" fill=\"#4a4a4a\">Low</text>\n",
       "</g>\n",
       "<!-- Birth -->\n",
       "<g id=\"node3\" class=\"node\">\n",
       "<title>Birth</title>\n",
       "<ellipse fill=\"none\" stroke=\"#4a4a4a\" cx=\"362.7\" cy=\"-162\" rx=\"29.86\" ry=\"18\"/>\n",
       "<text text-anchor=\"middle\" x=\"362.7\" y=\"-156.95\" font-family=\"Times,serif\" font-size=\"14.00\" fill=\"#4a4a4a\">Birth</text>\n",
       "</g>\n",
       "<!-- Weight -->\n",
       "<g id=\"node4\" class=\"node\">\n",
       "<title>Weight</title>\n",
       "<ellipse fill=\"#404040\" stroke=\"#4a4a4a\" cx=\"448.7\" cy=\"-162\" rx=\"38.04\" ry=\"18\"/>\n",
       "<text text-anchor=\"middle\" x=\"448.7\" y=\"-156.95\" font-family=\"Times,serif\" font-size=\"14.00\" fill=\"white\">Weight</text>\n",
       "</g>\n",
       "<!-- defect -->\n",
       "<g id=\"node6\" class=\"node\">\n",
       "<title>defect</title>\n",
       "<ellipse fill=\"#404040\" stroke=\"#4a4a4a\" cx=\"537.7\" cy=\"-162\" rx=\"33.44\" ry=\"18\"/>\n",
       "<text text-anchor=\"middle\" x=\"537.7\" y=\"-156.95\" font-family=\"Times,serif\" font-size=\"14.00\" fill=\"white\">defect</text>\n",
       "</g>\n",
       "<!-- Low Birth Weight&#45;&gt;Mortality -->\n",
       "<g id=\"edge2\" class=\"edge\">\n",
       "<title>Low Birth Weight-&gt;Mortality</title>\n",
       "<path fill=\"none\" stroke=\"#4a4a4a\" d=\"M102.7,-71.7C102.7,-64.41 102.7,-55.73 102.7,-47.54\"/>\n",
       "<path fill=\"none\" stroke=\"#4a4a4a\" d=\"M104.7,-71.7C104.7,-64.41 104.7,-55.73 104.7,-47.54\"/>\n",
       "<polygon fill=\"#4a4a4a\" stroke=\"#4a4a4a\" points=\"107.2,-47.62 103.7,-37.62 100.2,-47.62 107.2,-47.62\"/>\n",
       "</g>\n",
       "<!-- Birth defect -->\n",
       "<g id=\"node8\" class=\"node\">\n",
       "<title>Birth defect</title>\n",
       "<ellipse fill=\"none\" stroke=\"black\" cx=\"185.7\" cy=\"-162\" rx=\"54.93\" ry=\"18\"/>\n",
       "<text text-anchor=\"middle\" x=\"185.7\" y=\"-156.95\" font-family=\"Times,serif\" font-size=\"14.00\">Birth defect</text>\n",
       "</g>\n",
       "<!-- Birth defect&#45;&gt;Mortality -->\n",
       "<g id=\"edge5\" class=\"edge\">\n",
       "<title>Birth defect-&gt;Mortality</title>\n",
       "<path fill=\"none\" stroke=\"#4a4a4a\" d=\"M190.93,-143.41C196.53,-124.62 202.22,-94.08 189.83,-72.49 180.79,-56.21 163.92,-44.2 147.63,-35.93\"/>\n",
       "<path fill=\"none\" stroke=\"#4a4a4a\" d=\"M192.84,-143.98C198.49,-124.98 204.19,-94.45 191.57,-71.51 181.95,-54.59 165.08,-42.57 148.54,-34.15\"/>\n",
       "<polygon fill=\"#4a4a4a\" stroke=\"#4a4a4a\" points=\"149.91,-32.03 139.37,-30.95 146.93,-38.37 149.91,-32.03\"/>\n",
       "</g>\n",
       "<!-- Birth defect&#45;&gt;Low Birth Weight -->\n",
       "<g id=\"edge3\" class=\"edge\">\n",
       "<title>Birth defect-&gt;Low Birth Weight</title>\n",
       "<path fill=\"none\" stroke=\"#4a4a4a\" d=\"M166.03,-145.53C155.7,-136.71 142.73,-125.63 131.24,-115.83\"/>\n",
       "<path fill=\"none\" stroke=\"#4a4a4a\" d=\"M167.33,-144C157,-135.19 144.02,-124.11 132.54,-114.31\"/>\n",
       "<polygon fill=\"#4a4a4a\" stroke=\"#4a4a4a\" points=\"134.5,-112.69 124.62,-108.86 129.95,-118.02 134.5,-112.69\"/>\n",
       "</g>\n",
       "</g>\n",
       "</svg><br><center><small><em>Causal Model</em></small></center></div><div class=\"floating-box\">$$\\begin{equation*}P( Mortality \\mid \\text{do}(Smoking)) = \\sum_{Birth defect,Low Birth Weight}{P\\left(Birth defect\\right) \\cdot P\\left(Mortality\\mid Birth defect,Low Birth Weight,Smoking\\right) \\cdot P\\left(Low Birth Weight\\mid Birth defect,Smoking\\right)}\\end{equation*}$$<br><center><small><em>Explanation : Do-calculus computations</em></small></center></div><div class=\"floating-box\"><table style=\"border:1px solid black;border-collapse: collapse;\">\n",
       "<tr><th colspan='1'></th>\n",
       "      <th colspan='2' style='border:1px solid black;color:black;background-color:#808080;'><center>Mortality</center>\n",
       "      </th></tr>\n",
       "<tr><th style='border:1px solid black;color:black;background-color:#808080'><center>Smoking</center></th><th style='border:1px solid black;border-bottom-style: double;color:black;background-color:#BBBBBB'>\n",
       "      <center>0</center></th><th style='border:1px solid black;border-bottom-style: double;color:black;background-color:#BBBBBB'>\n",
       "      <center>1</center></th></tr>\n",
       "<tr><th style='border:1px solid black;color:black;background-color:#BBBBBB'><center>0</center></th><td style='color:black;background-color:#9fde64;text-align:right;padding: 3px;'>0.7456</td><td style='color:black;background-color:#de9f64;text-align:right;padding: 3px;'>0.2544</td></tr>\n",
       "<tr><th style='border:1px solid black;color:black;background-color:#BBBBBB'><center>1</center></th><td style='color:black;background-color:#d2ab64;text-align:right;padding: 3px;'>0.3448</td><td style='color:black;background-color:#abd264;text-align:right;padding: 3px;'>0.6552</td></tr>\n",
       "</table><br><center><small><em>Impact</em></small></center></div>"
      ],
      "text/plain": [
       "<IPython.core.display.HTML object>"
      ]
     },
     "metadata": {},
     "output_type": "display_data"
    }
   ],
   "source": [
    "bwpeModele = csl.CausalModel(bwpe)\n",
    "cslnb.showCausalImpact(bwpeModele, \"Mortality\", doing=\"Smoking\",values={})"
   ]
  },
  {
   "cell_type": "code",
   "execution_count": null,
   "metadata": {
    "editable": true,
    "slideshow": {
     "slide_type": ""
    },
    "tags": []
   },
   "outputs": [],
   "source": []
  }
 ],
 "metadata": {
  "kernelspec": {
   "display_name": "Python 3 (ipykernel)",
   "language": "python",
   "name": "python3"
  },
  "language_info": {
   "codemirror_mode": {
    "name": "ipython",
    "version": 3
   },
   "file_extension": ".py",
   "mimetype": "text/x-python",
   "name": "python",
   "nbconvert_exporter": "python",
   "pygments_lexer": "ipython3",
   "version": "3.12.4"
  }
 },
 "nbformat": 4,
 "nbformat_minor": 4
}
