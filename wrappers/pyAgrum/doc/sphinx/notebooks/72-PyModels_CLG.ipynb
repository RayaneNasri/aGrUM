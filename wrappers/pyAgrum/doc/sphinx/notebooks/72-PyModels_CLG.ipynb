{
 "cells": [
  {
   "attachments": {},
   "cell_type": "markdown",
   "metadata": {
    "editable": true,
    "slideshow": {
     "slide_type": ""
    },
    "tags": []
   },
   "source": [
    "# Conditional Linear Gaussian models"
   ]
  },
  {
   "attachments": {},
   "cell_type": "markdown",
   "metadata": {},
   "source": [
    "| | | |\n",
    "|-|-|-|\n",
    "|[ ![Creative Commons License](images/cc4.png)](http://creativecommons.org/licenses/by-nc/4.0/) |[ ![aGrUM](images/logoAgrum.png)](https://agrum.org) |[ ![interactive online version](images/atbinder.svg)](https://agrum.gitlab.io/extra/agrum_at_binder.html)"
   ]
  },
  {
   "cell_type": "code",
   "execution_count": 1,
   "metadata": {
    "editable": true,
    "execution": {
     "iopub.execute_input": "2024-06-10T20:42:33.147309Z",
     "iopub.status.busy": "2024-06-10T20:42:33.145751Z",
     "iopub.status.idle": "2024-06-10T20:42:34.362547Z",
     "shell.execute_reply": "2024-06-10T20:42:34.361233Z",
     "shell.execute_reply.started": "2024-06-10T20:42:33.147222Z"
    },
    "slideshow": {
     "slide_type": ""
    },
    "tags": []
   },
   "outputs": [],
   "source": [
    "import pyAgrum as gum\n",
    "import pyAgrum.lib.notebook as gnb\n",
    "import pyAgrum.lib.bn_vs_bn as gcm\n",
    "\n",
    "import pyAgrum.clg as gclg\n",
    "import pyAgrum.clg.notebook as gclgnb\n"
   ]
  },
  {
   "attachments": {},
   "cell_type": "markdown",
   "metadata": {
    "editable": true,
    "slideshow": {
     "slide_type": ""
    },
    "tags": []
   },
   "source": [
    "## Build a CLG model \n",
    "\n",
    "### From scratch\n",
    "\n",
    "Suppose we want to build a CLG with these specifications $A={\\cal N}(5,1)$, $B={\\cal N}(4,3)$ and $C=2.A+3.B+{\\cal N}(3,2)$"
   ]
  },
  {
   "cell_type": "code",
   "execution_count": 2,
   "metadata": {
    "editable": true,
    "execution": {
     "iopub.execute_input": "2024-06-10T20:42:36.741920Z",
     "iopub.status.busy": "2024-06-10T20:42:36.741114Z",
     "iopub.status.idle": "2024-06-10T20:42:36.839871Z",
     "shell.execute_reply": "2024-06-10T20:42:36.838656Z",
     "shell.execute_reply.started": "2024-06-10T20:42:36.741865Z"
    },
    "slideshow": {
     "slide_type": ""
    },
    "tags": []
   },
   "outputs": [
    {
     "data": {
      "text/html": [
       "<svg xmlns=\"http://www.w3.org/2000/svg\" xmlns:xlink=\"http://www.w3.org/1999/xlink\" width=\"338pt\" height=\"165pt\" viewBox=\"0.00 0.00 337.75 165.00\">\n",
       "<g id=\"graph0\" class=\"graph\" transform=\"scale(1 1) rotate(0) translate(4 161)\">\n",
       "<title>G</title>\n",
       "<!-- A -->\n",
       "<g id=\"node1\" class=\"node\">\n",
       "<title>A</title>\n",
       "<g id=\"a_node1\"><a xlink:title=\"(0) A\">\n",
       "<path fill=\"#404040\" stroke=\"#4a4a4a\" d=\"M12,-106C12,-106 143.75,-106 143.75,-106 149.75,-106 155.75,-112 155.75,-118 155.75,-118 155.75,-144.5 155.75,-144.5 155.75,-150.5 149.75,-156.5 143.75,-156.5 143.75,-156.5 12,-156.5 12,-156.5 6,-156.5 0,-150.5 0,-144.5 0,-144.5 0,-118 0,-118 0,-112 6,-106 12,-106\"/>\n",
       "<text text-anchor=\"middle\" x=\"77.88\" y=\"-139.2\" font-family=\"Times,serif\" font-size=\"14.00\" fill=\"white\">A</text>\n",
       "<polyline fill=\"none\" stroke=\"#4a4a4a\" points=\"0,-131.25 155.75,-131.25\"/>\n",
       "<text text-anchor=\"middle\" x=\"38.75\" y=\"-113.95\" font-family=\"Times,serif\" font-size=\"14.00\" fill=\"white\">μ=5.000</text>\n",
       "<polyline fill=\"none\" stroke=\"#4a4a4a\" points=\"77.5,-106 77.5,-131.25\"/>\n",
       "<text text-anchor=\"middle\" x=\"116.62\" y=\"-113.95\" font-family=\"Times,serif\" font-size=\"14.00\" fill=\"white\">σ=1.000</text>\n",
       "</a>\n",
       "</g>\n",
       "</g>\n",
       "<!-- C -->\n",
       "<g id=\"node2\" class=\"node\">\n",
       "<title>C</title>\n",
       "<g id=\"a_node2\"><a xlink:title=\"(1) C\">\n",
       "<path fill=\"#404040\" stroke=\"#4a4a4a\" d=\"M99,-0.5C99,-0.5 230.75,-0.5 230.75,-0.5 236.75,-0.5 242.75,-6.5 242.75,-12.5 242.75,-12.5 242.75,-39 242.75,-39 242.75,-45 236.75,-51 230.75,-51 230.75,-51 99,-51 99,-51 93,-51 87,-45 87,-39 87,-39 87,-12.5 87,-12.5 87,-6.5 93,-0.5 99,-0.5\"/>\n",
       "<text text-anchor=\"middle\" x=\"164.88\" y=\"-33.7\" font-family=\"Times,serif\" font-size=\"14.00\" fill=\"white\">C</text>\n",
       "<polyline fill=\"none\" stroke=\"#4a4a4a\" points=\"87,-25.75 242.75,-25.75\"/>\n",
       "<text text-anchor=\"middle\" x=\"125.75\" y=\"-8.45\" font-family=\"Times,serif\" font-size=\"14.00\" fill=\"white\">μ=3.000</text>\n",
       "<polyline fill=\"none\" stroke=\"#4a4a4a\" points=\"164.5,-0.5 164.5,-25.75\"/>\n",
       "<text text-anchor=\"middle\" x=\"203.62\" y=\"-8.45\" font-family=\"Times,serif\" font-size=\"14.00\" fill=\"white\">σ=2.000</text>\n",
       "</a>\n",
       "</g>\n",
       "</g>\n",
       "<!-- A&#45;&gt;C -->\n",
       "<g id=\"edge1\" class=\"edge\">\n",
       "<title>A-&gt;C</title>\n",
       "<g id=\"a_edge1\"><a xlink:title=\"(0, 1) : \">\n",
       "<path fill=\"none\" stroke=\"#4a4a4a\" d=\"M98.49,-105.72C110,-92.03 124.5,-74.78 137.01,-59.9\"/>\n",
       "<polygon fill=\"#4a4a4a\" stroke=\"#4a4a4a\" points=\"139.37,-62.53 143.13,-52.62 134.02,-58.02 139.37,-62.53\"/>\n",
       "</a>\n",
       "</g>\n",
       "<text text-anchor=\"middle\" x=\"143.75\" y=\"-73.25\" font-family=\"Times,serif\" font-size=\"15.00\">2.00</text>\n",
       "</g>\n",
       "<!-- B -->\n",
       "<g id=\"node3\" class=\"node\">\n",
       "<title>B</title>\n",
       "<g id=\"a_node3\"><a xlink:title=\"(2) B\">\n",
       "<path fill=\"#404040\" stroke=\"#4a4a4a\" d=\"M186,-106C186,-106 317.75,-106 317.75,-106 323.75,-106 329.75,-112 329.75,-118 329.75,-118 329.75,-144.5 329.75,-144.5 329.75,-150.5 323.75,-156.5 317.75,-156.5 317.75,-156.5 186,-156.5 186,-156.5 180,-156.5 174,-150.5 174,-144.5 174,-144.5 174,-118 174,-118 174,-112 180,-106 186,-106\"/>\n",
       "<text text-anchor=\"middle\" x=\"251.88\" y=\"-139.2\" font-family=\"Times,serif\" font-size=\"14.00\" fill=\"white\">B</text>\n",
       "<polyline fill=\"none\" stroke=\"#4a4a4a\" points=\"174,-131.25 329.75,-131.25\"/>\n",
       "<text text-anchor=\"middle\" x=\"212.75\" y=\"-113.95\" font-family=\"Times,serif\" font-size=\"14.00\" fill=\"white\">μ=4.000</text>\n",
       "<polyline fill=\"none\" stroke=\"#4a4a4a\" points=\"251.5,-106 251.5,-131.25\"/>\n",
       "<text text-anchor=\"middle\" x=\"290.62\" y=\"-113.95\" font-family=\"Times,serif\" font-size=\"14.00\" fill=\"white\">σ=3.000</text>\n",
       "</a>\n",
       "</g>\n",
       "</g>\n",
       "<!-- B&#45;&gt;C -->\n",
       "<g id=\"edge2\" class=\"edge\">\n",
       "<title>B-&gt;C</title>\n",
       "<g id=\"a_edge2\"><a xlink:title=\"(2, 1) : \">\n",
       "<path fill=\"none\" stroke=\"#4a4a4a\" d=\"M231.26,-105.72C219.75,-92.03 205.25,-74.78 192.74,-59.9\"/>\n",
       "<polygon fill=\"#4a4a4a\" stroke=\"#4a4a4a\" points=\"195.73,-58.02 186.62,-52.62 190.38,-62.53 195.73,-58.02\"/>\n",
       "</a>\n",
       "</g>\n",
       "<text text-anchor=\"middle\" x=\"229.75\" y=\"-73.25\" font-family=\"Times,serif\" font-size=\"15.00\">3.00</text>\n",
       "</g>\n",
       "</g>\n",
       "</svg>"
      ],
      "text/plain": [
       "CLG{nodes: 3, arcs: 2, parameters: 8}"
      ]
     },
     "execution_count": 2,
     "metadata": {},
     "output_type": "execute_result"
    }
   ],
   "source": [
    "model=gclg.CLG()\n",
    "model.add(gclg.GaussianVariable(\"A\",5,1))\n",
    "model.add(gclg.GaussianVariable(\"C\",3,2))\n",
    "model.add(gclg.GaussianVariable(\"B\",4,3))\n",
    "model.addArc(\"A\",\"C\",2)\n",
    "model.addArc(\"B\",\"C\",3)\n",
    "model"
   ]
  },
  {
   "attachments": {},
   "cell_type": "markdown",
   "metadata": {
    "editable": true,
    "slideshow": {
     "slide_type": ""
    },
    "tags": []
   },
   "source": [
    "### From SEM (Structural Equation Model)\n",
    "\n",
    "We can create a Conditional Linear Gaussian Bayesian networ(CLG model) using a SEM-like syntax. \n",
    "\n",
    "`A = 4.5 [0.3]` means that the mean of the distribution for Gaussian random variable A is 4.5 and ist standard deviation is 0.3. \n",
    "\n",
    "`B = 3 + 0.8F [0.3]` means that the mean of the distribution for the Gaussian random variable B is 3 and the standard deviation is 0.3.  \n",
    "\n",
    "`pyAgrum.CLG.SEM` is a set of static methods to manipulate this kind of SEM.\n"
   ]
  },
  {
   "cell_type": "code",
   "execution_count": 3,
   "metadata": {
    "editable": true,
    "execution": {
     "iopub.execute_input": "2024-06-10T20:42:41.398286Z",
     "iopub.status.busy": "2024-06-10T20:42:41.397708Z",
     "iopub.status.idle": "2024-06-10T20:42:41.406153Z",
     "shell.execute_reply": "2024-06-10T20:42:41.404802Z",
     "shell.execute_reply.started": "2024-06-10T20:42:41.398237Z"
    },
    "slideshow": {
     "slide_type": ""
    },
    "tags": []
   },
   "outputs": [],
   "source": [
    "sem2=\"\"\"\n",
    "A=4.5 [0.3] # comments are allowed\n",
    "F=7 [0.5]\n",
    "B=3 + 1.2F [0.3]\n",
    "C=9 +  2A + 1.5B [0.6]\n",
    "D=9 + C + F[0.7]\n",
    "E=9 + D [0.9]\n",
    "\"\"\"\n",
    "\n",
    "model2 = gclg.SEM.toclg(sem2)"
   ]
  },
  {
   "cell_type": "code",
   "execution_count": 42,
   "metadata": {
    "editable": true,
    "execution": {
     "iopub.execute_input": "2024-06-10T20:47:18.467013Z",
     "iopub.status.busy": "2024-06-10T20:47:18.466385Z",
     "iopub.status.idle": "2024-06-10T20:47:18.568288Z",
     "shell.execute_reply": "2024-06-10T20:47:18.567137Z",
     "shell.execute_reply.started": "2024-06-10T20:47:18.466958Z"
    },
    "slideshow": {
     "slide_type": ""
    },
    "tags": [
     "nbsphinx-thumbnail"
    ]
   },
   "outputs": [
    {
     "data": {
      "text/html": [
       "<svg xmlns=\"http://www.w3.org/2000/svg\" xmlns:xlink=\"http://www.w3.org/1999/xlink\" width=\"292pt\" height=\"360pt\" viewBox=\"0.00 0.00 292.15 360.00\">\n",
       "<g id=\"graph0\" class=\"graph\" transform=\"scale(0.747664 0.747664) rotate(0) translate(4 477.5)\">\n",
       "<title>G</title>\n",
       "<!-- A -->\n",
       "<g id=\"node1\" class=\"node\">\n",
       "<title>A</title>\n",
       "<g id=\"a_node1\"><a xlink:title=\"(0) A\">\n",
       "<path fill=\"#404040\" stroke=\"#4a4a4a\" d=\"M12,-317C12,-317 143.75,-317 143.75,-317 149.75,-317 155.75,-323 155.75,-329 155.75,-329 155.75,-355.5 155.75,-355.5 155.75,-361.5 149.75,-367.5 143.75,-367.5 143.75,-367.5 12,-367.5 12,-367.5 6,-367.5 0,-361.5 0,-355.5 0,-355.5 0,-329 0,-329 0,-323 6,-317 12,-317\"/>\n",
       "<text text-anchor=\"middle\" x=\"77.88\" y=\"-350.2\" font-family=\"Times,serif\" font-size=\"14.00\" fill=\"white\">A</text>\n",
       "<polyline fill=\"none\" stroke=\"#4a4a4a\" points=\"0,-342.25 155.75,-342.25\"/>\n",
       "<text text-anchor=\"middle\" x=\"38.75\" y=\"-324.95\" font-family=\"Times,serif\" font-size=\"14.00\" fill=\"white\">μ=4.500</text>\n",
       "<polyline fill=\"none\" stroke=\"#4a4a4a\" points=\"77.5,-317 77.5,-342.25\"/>\n",
       "<text text-anchor=\"middle\" x=\"116.62\" y=\"-324.95\" font-family=\"Times,serif\" font-size=\"14.00\" fill=\"white\">σ=0.300</text>\n",
       "</a>\n",
       "</g>\n",
       "</g>\n",
       "<!-- C -->\n",
       "<g id=\"node4\" class=\"node\">\n",
       "<title>C</title>\n",
       "<g id=\"a_node4\"><a xlink:title=\"(3) C\">\n",
       "<path fill=\"#404040\" stroke=\"#4a4a4a\" d=\"M186,-211.5C186,-211.5 317.75,-211.5 317.75,-211.5 323.75,-211.5 329.75,-217.5 329.75,-223.5 329.75,-223.5 329.75,-250 329.75,-250 329.75,-256 323.75,-262 317.75,-262 317.75,-262 186,-262 186,-262 180,-262 174,-256 174,-250 174,-250 174,-223.5 174,-223.5 174,-217.5 180,-211.5 186,-211.5\"/>\n",
       "<text text-anchor=\"middle\" x=\"251.88\" y=\"-244.7\" font-family=\"Times,serif\" font-size=\"14.00\" fill=\"white\">C</text>\n",
       "<polyline fill=\"none\" stroke=\"#4a4a4a\" points=\"174,-236.75 329.75,-236.75\"/>\n",
       "<text text-anchor=\"middle\" x=\"212.75\" y=\"-219.45\" font-family=\"Times,serif\" font-size=\"14.00\" fill=\"white\">μ=9.000</text>\n",
       "<polyline fill=\"none\" stroke=\"#4a4a4a\" points=\"251.5,-211.5 251.5,-236.75\"/>\n",
       "<text text-anchor=\"middle\" x=\"290.62\" y=\"-219.45\" font-family=\"Times,serif\" font-size=\"14.00\" fill=\"white\">σ=0.600</text>\n",
       "</a>\n",
       "</g>\n",
       "</g>\n",
       "<!-- A&#45;&gt;C -->\n",
       "<g id=\"edge3\" class=\"edge\">\n",
       "<title>A-&gt;C</title>\n",
       "<g id=\"a_edge3\"><a xlink:title=\"(0, 3) : \">\n",
       "<path fill=\"none\" stroke=\"#4a4a4a\" d=\"M119.11,-316.72C143.53,-302.2 174.67,-283.68 200.65,-268.22\"/>\n",
       "<polygon fill=\"#4a4a4a\" stroke=\"#4a4a4a\" points=\"202.23,-271.35 209.03,-263.23 198.65,-265.34 202.23,-271.35\"/>\n",
       "</a>\n",
       "</g>\n",
       "<text text-anchor=\"middle\" x=\"192.75\" y=\"-284.25\" font-family=\"Times,serif\" font-size=\"15.00\">2.00</text>\n",
       "</g>\n",
       "<!-- F -->\n",
       "<g id=\"node2\" class=\"node\">\n",
       "<title>F</title>\n",
       "<g id=\"a_node2\"><a xlink:title=\"(1) F\">\n",
       "<path fill=\"#404040\" stroke=\"#4a4a4a\" d=\"M239,-422.5C239,-422.5 370.75,-422.5 370.75,-422.5 376.75,-422.5 382.75,-428.5 382.75,-434.5 382.75,-434.5 382.75,-461 382.75,-461 382.75,-467 376.75,-473 370.75,-473 370.75,-473 239,-473 239,-473 233,-473 227,-467 227,-461 227,-461 227,-434.5 227,-434.5 227,-428.5 233,-422.5 239,-422.5\"/>\n",
       "<text text-anchor=\"middle\" x=\"304.88\" y=\"-455.7\" font-family=\"Times,serif\" font-size=\"14.00\" fill=\"white\">F</text>\n",
       "<polyline fill=\"none\" stroke=\"#4a4a4a\" points=\"227,-447.75 382.75,-447.75\"/>\n",
       "<text text-anchor=\"middle\" x=\"265.75\" y=\"-430.45\" font-family=\"Times,serif\" font-size=\"14.00\" fill=\"white\">μ=7.000</text>\n",
       "<polyline fill=\"none\" stroke=\"#4a4a4a\" points=\"304.5,-422.5 304.5,-447.75\"/>\n",
       "<text text-anchor=\"middle\" x=\"343.62\" y=\"-430.45\" font-family=\"Times,serif\" font-size=\"14.00\" fill=\"white\">σ=0.500</text>\n",
       "</a>\n",
       "</g>\n",
       "</g>\n",
       "<!-- B -->\n",
       "<g id=\"node3\" class=\"node\">\n",
       "<title>B</title>\n",
       "<g id=\"a_node3\"><a xlink:title=\"(2) B\">\n",
       "<path fill=\"#404040\" stroke=\"#4a4a4a\" d=\"M186,-317C186,-317 317.75,-317 317.75,-317 323.75,-317 329.75,-323 329.75,-329 329.75,-329 329.75,-355.5 329.75,-355.5 329.75,-361.5 323.75,-367.5 317.75,-367.5 317.75,-367.5 186,-367.5 186,-367.5 180,-367.5 174,-361.5 174,-355.5 174,-355.5 174,-329 174,-329 174,-323 180,-317 186,-317\"/>\n",
       "<text text-anchor=\"middle\" x=\"251.88\" y=\"-350.2\" font-family=\"Times,serif\" font-size=\"14.00\" fill=\"white\">B</text>\n",
       "<polyline fill=\"none\" stroke=\"#4a4a4a\" points=\"174,-342.25 329.75,-342.25\"/>\n",
       "<text text-anchor=\"middle\" x=\"212.75\" y=\"-324.95\" font-family=\"Times,serif\" font-size=\"14.00\" fill=\"white\">μ=3.000</text>\n",
       "<polyline fill=\"none\" stroke=\"#4a4a4a\" points=\"251.5,-317 251.5,-342.25\"/>\n",
       "<text text-anchor=\"middle\" x=\"290.62\" y=\"-324.95\" font-family=\"Times,serif\" font-size=\"14.00\" fill=\"white\">σ=0.300</text>\n",
       "</a>\n",
       "</g>\n",
       "</g>\n",
       "<!-- F&#45;&gt;B -->\n",
       "<g id=\"edge1\" class=\"edge\">\n",
       "<title>F-&gt;B</title>\n",
       "<g id=\"a_edge1\"><a xlink:title=\"(1, 2) : \">\n",
       "<path fill=\"none\" stroke=\"#4a4a4a\" d=\"M292.31,-422.22C285.57,-409.04 277.13,-392.57 269.71,-378.08\"/>\n",
       "<polygon fill=\"#4a4a4a\" stroke=\"#4a4a4a\" points=\"272.89,-376.61 265.22,-369.31 266.66,-379.8 272.89,-376.61\"/>\n",
       "</a>\n",
       "</g>\n",
       "<text text-anchor=\"middle\" x=\"297.75\" y=\"-389.75\" font-family=\"Times,serif\" font-size=\"15.00\">1.20</text>\n",
       "</g>\n",
       "<!-- D -->\n",
       "<g id=\"node5\" class=\"node\">\n",
       "<title>D</title>\n",
       "<g id=\"a_node5\"><a xlink:title=\"(4) D\">\n",
       "<path fill=\"#404040\" stroke=\"#4a4a4a\" d=\"M239,-106C239,-106 370.75,-106 370.75,-106 376.75,-106 382.75,-112 382.75,-118 382.75,-118 382.75,-144.5 382.75,-144.5 382.75,-150.5 376.75,-156.5 370.75,-156.5 370.75,-156.5 239,-156.5 239,-156.5 233,-156.5 227,-150.5 227,-144.5 227,-144.5 227,-118 227,-118 227,-112 233,-106 239,-106\"/>\n",
       "<text text-anchor=\"middle\" x=\"304.88\" y=\"-139.2\" font-family=\"Times,serif\" font-size=\"14.00\" fill=\"white\">D</text>\n",
       "<polyline fill=\"none\" stroke=\"#4a4a4a\" points=\"227,-131.25 382.75,-131.25\"/>\n",
       "<text text-anchor=\"middle\" x=\"265.75\" y=\"-113.95\" font-family=\"Times,serif\" font-size=\"14.00\" fill=\"white\">μ=9.000</text>\n",
       "<polyline fill=\"none\" stroke=\"#4a4a4a\" points=\"304.5,-106 304.5,-131.25\"/>\n",
       "<text text-anchor=\"middle\" x=\"343.62\" y=\"-113.95\" font-family=\"Times,serif\" font-size=\"14.00\" fill=\"white\">σ=0.700</text>\n",
       "</a>\n",
       "</g>\n",
       "</g>\n",
       "<!-- F&#45;&gt;D -->\n",
       "<g id=\"edge4\" class=\"edge\">\n",
       "<title>F-&gt;D</title>\n",
       "<g id=\"a_edge4\"><a xlink:title=\"(1, 4) : \">\n",
       "<path fill=\"none\" stroke=\"#4a4a4a\" d=\"M318.63,-422.08C326.25,-406.97 334.96,-386.96 338.88,-368 353,-299.67 353,-279.33 338.88,-211 335.78,-196.04 329.71,-180.43 323.54,-167.08\"/>\n",
       "<polygon fill=\"#4a4a4a\" stroke=\"#4a4a4a\" points=\"326.79,-165.77 319.29,-158.29 320.49,-168.81 326.79,-165.77\"/>\n",
       "</a>\n",
       "</g>\n",
       "<text text-anchor=\"middle\" x=\"365.75\" y=\"-284.25\" font-family=\"Times,serif\" font-size=\"15.00\">1.00</text>\n",
       "</g>\n",
       "<!-- B&#45;&gt;C -->\n",
       "<g id=\"edge5\" class=\"edge\">\n",
       "<title>B-&gt;C</title>\n",
       "<g id=\"a_edge5\"><a xlink:title=\"(2, 3) : \">\n",
       "<path fill=\"none\" stroke=\"#4a4a4a\" d=\"M251.88,-316.72C251.88,-303.93 251.88,-288.03 251.88,-273.85\"/>\n",
       "<polygon fill=\"#4a4a4a\" stroke=\"#4a4a4a\" points=\"255.38,-273.97 251.88,-263.97 248.38,-273.97 255.38,-273.97\"/>\n",
       "</a>\n",
       "</g>\n",
       "<text text-anchor=\"middle\" x=\"268.75\" y=\"-284.25\" font-family=\"Times,serif\" font-size=\"15.00\">1.50</text>\n",
       "</g>\n",
       "<!-- C&#45;&gt;D -->\n",
       "<g id=\"edge2\" class=\"edge\">\n",
       "<title>C-&gt;D</title>\n",
       "<g id=\"a_edge2\"><a xlink:title=\"(3, 4) : \">\n",
       "<path fill=\"none\" stroke=\"#4a4a4a\" d=\"M264.44,-211.22C271.18,-198.04 279.62,-181.57 287.04,-167.08\"/>\n",
       "<polygon fill=\"#4a4a4a\" stroke=\"#4a4a4a\" points=\"290.09,-168.8 291.53,-158.31 283.86,-165.61 290.09,-168.8\"/>\n",
       "</a>\n",
       "</g>\n",
       "<text text-anchor=\"middle\" x=\"297.75\" y=\"-178.75\" font-family=\"Times,serif\" font-size=\"15.00\">1.00</text>\n",
       "</g>\n",
       "<!-- E -->\n",
       "<g id=\"node6\" class=\"node\">\n",
       "<title>E</title>\n",
       "<g id=\"a_node6\"><a xlink:title=\"(5) E\">\n",
       "<path fill=\"#404040\" stroke=\"#4a4a4a\" d=\"M239,-0.5C239,-0.5 370.75,-0.5 370.75,-0.5 376.75,-0.5 382.75,-6.5 382.75,-12.5 382.75,-12.5 382.75,-39 382.75,-39 382.75,-45 376.75,-51 370.75,-51 370.75,-51 239,-51 239,-51 233,-51 227,-45 227,-39 227,-39 227,-12.5 227,-12.5 227,-6.5 233,-0.5 239,-0.5\"/>\n",
       "<text text-anchor=\"middle\" x=\"304.88\" y=\"-33.7\" font-family=\"Times,serif\" font-size=\"14.00\" fill=\"white\">E</text>\n",
       "<polyline fill=\"none\" stroke=\"#4a4a4a\" points=\"227,-25.75 382.75,-25.75\"/>\n",
       "<text text-anchor=\"middle\" x=\"265.75\" y=\"-8.45\" font-family=\"Times,serif\" font-size=\"14.00\" fill=\"white\">μ=9.000</text>\n",
       "<polyline fill=\"none\" stroke=\"#4a4a4a\" points=\"304.5,-0.5 304.5,-25.75\"/>\n",
       "<text text-anchor=\"middle\" x=\"343.62\" y=\"-8.45\" font-family=\"Times,serif\" font-size=\"14.00\" fill=\"white\">σ=0.900</text>\n",
       "</a>\n",
       "</g>\n",
       "</g>\n",
       "<!-- D&#45;&gt;E -->\n",
       "<g id=\"edge6\" class=\"edge\">\n",
       "<title>D-&gt;E</title>\n",
       "<g id=\"a_edge6\"><a xlink:title=\"(4, 5) : \">\n",
       "<path fill=\"none\" stroke=\"#4a4a4a\" d=\"M304.88,-105.72C304.88,-92.93 304.88,-77.03 304.88,-62.85\"/>\n",
       "<polygon fill=\"#4a4a4a\" stroke=\"#4a4a4a\" points=\"308.38,-62.97 304.88,-52.97 301.38,-62.97 308.38,-62.97\"/>\n",
       "</a>\n",
       "</g>\n",
       "<text text-anchor=\"middle\" x=\"321.75\" y=\"-73.25\" font-family=\"Times,serif\" font-size=\"15.00\">1.00</text>\n",
       "</g>\n",
       "</g>\n",
       "</svg>"
      ],
      "text/plain": [
       "<pydot.core.Dot at 0x7f68d2e668d0>"
      ]
     },
     "execution_count": 42,
     "metadata": {},
     "output_type": "execute_result"
    }
   ],
   "source": [
    "gclgnb.CLG2dot(model2)"
   ]
  },
  {
   "cell_type": "markdown",
   "metadata": {
    "editable": true,
    "slideshow": {
     "slide_type": ""
    },
    "tags": []
   },
   "source": [
    "One can of course build the SEM from a CLG using `pyAgrum.CLG.SEM.tosem`  :"
   ]
  },
  {
   "cell_type": "code",
   "execution_count": 5,
   "metadata": {
    "editable": true,
    "execution": {
     "iopub.execute_input": "2024-06-10T20:42:44.657630Z",
     "iopub.status.busy": "2024-06-10T20:42:44.656986Z",
     "iopub.status.idle": "2024-06-10T20:42:44.751777Z",
     "shell.execute_reply": "2024-06-10T20:42:44.750011Z",
     "shell.execute_reply.started": "2024-06-10T20:42:44.657576Z"
    },
    "slideshow": {
     "slide_type": ""
    },
    "tags": []
   },
   "outputs": [
    {
     "data": {
      "text/html": [
       "\n",
       "      <style>\n",
       "      .floating-box {\n",
       "      display: inline-block;\n",
       "      margin: 7px;\n",
       "      padding : 3px;\n",
       "      border: 0px solid transparent;  \n",
       "      valign:middle;\n",
       "      background-color: transparent;\n",
       "      }\n",
       "      </style>\n",
       "      <div class=\"floating-box\"><svg xmlns=\"http://www.w3.org/2000/svg\" xmlns:xlink=\"http://www.w3.org/1999/xlink\" width=\"338pt\" height=\"165pt\" viewBox=\"0.00 0.00 337.75 165.00\">\n",
       "<g id=\"graph0\" class=\"graph\" transform=\"scale(1 1) rotate(0) translate(4 161)\">\n",
       "<title>G</title>\n",
       "<!-- A -->\n",
       "<g id=\"node1\" class=\"node\">\n",
       "<title>A</title>\n",
       "<g id=\"a_node1\"><a xlink:title=\"(0) A\">\n",
       "<path fill=\"#404040\" stroke=\"#4a4a4a\" d=\"M12,-106C12,-106 143.75,-106 143.75,-106 149.75,-106 155.75,-112 155.75,-118 155.75,-118 155.75,-144.5 155.75,-144.5 155.75,-150.5 149.75,-156.5 143.75,-156.5 143.75,-156.5 12,-156.5 12,-156.5 6,-156.5 0,-150.5 0,-144.5 0,-144.5 0,-118 0,-118 0,-112 6,-106 12,-106\"/>\n",
       "<text text-anchor=\"middle\" x=\"77.88\" y=\"-139.2\" font-family=\"Times,serif\" font-size=\"14.00\" fill=\"white\">A</text>\n",
       "<polyline fill=\"none\" stroke=\"#4a4a4a\" points=\"0,-131.25 155.75,-131.25\"/>\n",
       "<text text-anchor=\"middle\" x=\"38.75\" y=\"-113.95\" font-family=\"Times,serif\" font-size=\"14.00\" fill=\"white\">μ=5.000</text>\n",
       "<polyline fill=\"none\" stroke=\"#4a4a4a\" points=\"77.5,-106 77.5,-131.25\"/>\n",
       "<text text-anchor=\"middle\" x=\"116.62\" y=\"-113.95\" font-family=\"Times,serif\" font-size=\"14.00\" fill=\"white\">σ=1.000</text>\n",
       "</a>\n",
       "</g>\n",
       "</g>\n",
       "<!-- C -->\n",
       "<g id=\"node2\" class=\"node\">\n",
       "<title>C</title>\n",
       "<g id=\"a_node2\"><a xlink:title=\"(1) C\">\n",
       "<path fill=\"#404040\" stroke=\"#4a4a4a\" d=\"M99,-0.5C99,-0.5 230.75,-0.5 230.75,-0.5 236.75,-0.5 242.75,-6.5 242.75,-12.5 242.75,-12.5 242.75,-39 242.75,-39 242.75,-45 236.75,-51 230.75,-51 230.75,-51 99,-51 99,-51 93,-51 87,-45 87,-39 87,-39 87,-12.5 87,-12.5 87,-6.5 93,-0.5 99,-0.5\"/>\n",
       "<text text-anchor=\"middle\" x=\"164.88\" y=\"-33.7\" font-family=\"Times,serif\" font-size=\"14.00\" fill=\"white\">C</text>\n",
       "<polyline fill=\"none\" stroke=\"#4a4a4a\" points=\"87,-25.75 242.75,-25.75\"/>\n",
       "<text text-anchor=\"middle\" x=\"125.75\" y=\"-8.45\" font-family=\"Times,serif\" font-size=\"14.00\" fill=\"white\">μ=3.000</text>\n",
       "<polyline fill=\"none\" stroke=\"#4a4a4a\" points=\"164.5,-0.5 164.5,-25.75\"/>\n",
       "<text text-anchor=\"middle\" x=\"203.62\" y=\"-8.45\" font-family=\"Times,serif\" font-size=\"14.00\" fill=\"white\">σ=2.000</text>\n",
       "</a>\n",
       "</g>\n",
       "</g>\n",
       "<!-- A&#45;&gt;C -->\n",
       "<g id=\"edge1\" class=\"edge\">\n",
       "<title>A-&gt;C</title>\n",
       "<g id=\"a_edge1\"><a xlink:title=\"(0, 1) : \">\n",
       "<path fill=\"none\" stroke=\"#4a4a4a\" d=\"M98.49,-105.72C110,-92.03 124.5,-74.78 137.01,-59.9\"/>\n",
       "<polygon fill=\"#4a4a4a\" stroke=\"#4a4a4a\" points=\"139.37,-62.53 143.13,-52.62 134.02,-58.02 139.37,-62.53\"/>\n",
       "</a>\n",
       "</g>\n",
       "<text text-anchor=\"middle\" x=\"143.75\" y=\"-73.25\" font-family=\"Times,serif\" font-size=\"15.00\">2.00</text>\n",
       "</g>\n",
       "<!-- B -->\n",
       "<g id=\"node3\" class=\"node\">\n",
       "<title>B</title>\n",
       "<g id=\"a_node3\"><a xlink:title=\"(2) B\">\n",
       "<path fill=\"#404040\" stroke=\"#4a4a4a\" d=\"M186,-106C186,-106 317.75,-106 317.75,-106 323.75,-106 329.75,-112 329.75,-118 329.75,-118 329.75,-144.5 329.75,-144.5 329.75,-150.5 323.75,-156.5 317.75,-156.5 317.75,-156.5 186,-156.5 186,-156.5 180,-156.5 174,-150.5 174,-144.5 174,-144.5 174,-118 174,-118 174,-112 180,-106 186,-106\"/>\n",
       "<text text-anchor=\"middle\" x=\"251.88\" y=\"-139.2\" font-family=\"Times,serif\" font-size=\"14.00\" fill=\"white\">B</text>\n",
       "<polyline fill=\"none\" stroke=\"#4a4a4a\" points=\"174,-131.25 329.75,-131.25\"/>\n",
       "<text text-anchor=\"middle\" x=\"212.75\" y=\"-113.95\" font-family=\"Times,serif\" font-size=\"14.00\" fill=\"white\">μ=4.000</text>\n",
       "<polyline fill=\"none\" stroke=\"#4a4a4a\" points=\"251.5,-106 251.5,-131.25\"/>\n",
       "<text text-anchor=\"middle\" x=\"290.62\" y=\"-113.95\" font-family=\"Times,serif\" font-size=\"14.00\" fill=\"white\">σ=3.000</text>\n",
       "</a>\n",
       "</g>\n",
       "</g>\n",
       "<!-- B&#45;&gt;C -->\n",
       "<g id=\"edge2\" class=\"edge\">\n",
       "<title>B-&gt;C</title>\n",
       "<g id=\"a_edge2\"><a xlink:title=\"(2, 1) : \">\n",
       "<path fill=\"none\" stroke=\"#4a4a4a\" d=\"M231.26,-105.72C219.75,-92.03 205.25,-74.78 192.74,-59.9\"/>\n",
       "<polygon fill=\"#4a4a4a\" stroke=\"#4a4a4a\" points=\"195.73,-58.02 186.62,-52.62 190.38,-62.53 195.73,-58.02\"/>\n",
       "</a>\n",
       "</g>\n",
       "<text text-anchor=\"middle\" x=\"229.75\" y=\"-73.25\" font-family=\"Times,serif\" font-size=\"15.00\">3.00</text>\n",
       "</g>\n",
       "</g>\n",
       "</svg><br><center><small><em>the first CLG model</em></small></center></div><div class=\"floating-box\"><pre><div align='left'>B=4[3]\n",
       "A=5[1]\n",
       "C=3+2A+3B[2]\n",
       "</div></pre><br><center><small><em>the SEM from the CLG</em></small></center></div>"
      ],
      "text/plain": [
       "<IPython.core.display.HTML object>"
      ]
     },
     "metadata": {},
     "output_type": "display_data"
    }
   ],
   "source": [
    "gnb.flow.row(model,\"<pre><div align='left'>\"+gclg.SEM.tosem(model)+\"</div></pre>\",\n",
    "             captions=[\"the first CLG model\",\"the SEM from the CLG\"])"
   ]
  },
  {
   "cell_type": "markdown",
   "metadata": {
    "editable": true,
    "slideshow": {
     "slide_type": ""
    },
    "tags": []
   },
   "source": [
    "And this SEM allows of course input/output format for CLG"
   ]
  },
  {
   "cell_type": "code",
   "execution_count": 6,
   "metadata": {
    "editable": true,
    "execution": {
     "iopub.execute_input": "2024-06-10T20:42:46.341765Z",
     "iopub.status.busy": "2024-06-10T20:42:46.341198Z",
     "iopub.status.idle": "2024-06-10T20:42:46.351537Z",
     "shell.execute_reply": "2024-06-10T20:42:46.350297Z",
     "shell.execute_reply.started": "2024-06-10T20:42:46.341714Z"
    },
    "slideshow": {
     "slide_type": ""
    },
    "tags": []
   },
   "outputs": [
    {
     "name": "stdout",
     "output_type": "stream",
     "text": [
      "=== file content ===\n",
      "F=7.0[0.5]\n",
      "B=3.0+1.2F[0.3]\n",
      "A=4.5[0.3]\n",
      "C=9.0+2.0A+1.5B[0.6]\n",
      "D=9.0+F+C[0.7]\n",
      "E=9.0+D[0.9]\n",
      "====================\n"
     ]
    }
   ],
   "source": [
    "gclg.SEM.saveCLG(model2,\"out/model2.sem\")\n",
    "\n",
    "print(\"=== file content ===\")\n",
    "with open(\"out/model2.sem\",\"r\") as file:\n",
    "  for line in file.readlines():\n",
    "      print(line,end=\"\")\n",
    "print(\"====================\")"
   ]
  },
  {
   "cell_type": "code",
   "execution_count": 7,
   "metadata": {
    "editable": true,
    "execution": {
     "iopub.execute_input": "2024-06-10T20:42:47.214533Z",
     "iopub.status.busy": "2024-06-10T20:42:47.213832Z",
     "iopub.status.idle": "2024-06-10T20:42:47.405266Z",
     "shell.execute_reply": "2024-06-10T20:42:47.403735Z",
     "shell.execute_reply.started": "2024-06-10T20:42:47.214478Z"
    },
    "slideshow": {
     "slide_type": ""
    },
    "tags": []
   },
   "outputs": [
    {
     "data": {
      "text/html": [
       "<table style=\"border-style: hidden; border-collapse: collapse;\" width=\"100%\"><tr><td style=\"border-top:hidden;border-bottom:hidden;vertical-align:middle;\"><div align=\"center\" style=\"vertical-align:middle;\"><svg xmlns=\"http://www.w3.org/2000/svg\" xmlns:xlink=\"http://www.w3.org/1999/xlink\" width=\"292pt\" height=\"360pt\" viewBox=\"0.00 0.00 292.15 360.00\">\n",
       "<g id=\"graph0\" class=\"graph\" transform=\"scale(0.747664 0.747664) rotate(0) translate(4 477.5)\">\n",
       "<title>G</title>\n",
       "<!-- A -->\n",
       "<g id=\"node1\" class=\"node\">\n",
       "<title>A</title>\n",
       "<g id=\"a_node1\"><a xlink:title=\"(0) A\">\n",
       "<path fill=\"#404040\" stroke=\"#4a4a4a\" d=\"M12,-317C12,-317 143.75,-317 143.75,-317 149.75,-317 155.75,-323 155.75,-329 155.75,-329 155.75,-355.5 155.75,-355.5 155.75,-361.5 149.75,-367.5 143.75,-367.5 143.75,-367.5 12,-367.5 12,-367.5 6,-367.5 0,-361.5 0,-355.5 0,-355.5 0,-329 0,-329 0,-323 6,-317 12,-317\"/>\n",
       "<text text-anchor=\"middle\" x=\"77.88\" y=\"-350.2\" font-family=\"Times,serif\" font-size=\"14.00\" fill=\"white\">A</text>\n",
       "<polyline fill=\"none\" stroke=\"#4a4a4a\" points=\"0,-342.25 155.75,-342.25\"/>\n",
       "<text text-anchor=\"middle\" x=\"38.75\" y=\"-324.95\" font-family=\"Times,serif\" font-size=\"14.00\" fill=\"white\">μ=4.500</text>\n",
       "<polyline fill=\"none\" stroke=\"#4a4a4a\" points=\"77.5,-317 77.5,-342.25\"/>\n",
       "<text text-anchor=\"middle\" x=\"116.62\" y=\"-324.95\" font-family=\"Times,serif\" font-size=\"14.00\" fill=\"white\">σ=0.300</text>\n",
       "</a>\n",
       "</g>\n",
       "</g>\n",
       "<!-- C -->\n",
       "<g id=\"node4\" class=\"node\">\n",
       "<title>C</title>\n",
       "<g id=\"a_node4\"><a xlink:title=\"(3) C\">\n",
       "<path fill=\"#404040\" stroke=\"#4a4a4a\" d=\"M186,-211.5C186,-211.5 317.75,-211.5 317.75,-211.5 323.75,-211.5 329.75,-217.5 329.75,-223.5 329.75,-223.5 329.75,-250 329.75,-250 329.75,-256 323.75,-262 317.75,-262 317.75,-262 186,-262 186,-262 180,-262 174,-256 174,-250 174,-250 174,-223.5 174,-223.5 174,-217.5 180,-211.5 186,-211.5\"/>\n",
       "<text text-anchor=\"middle\" x=\"251.88\" y=\"-244.7\" font-family=\"Times,serif\" font-size=\"14.00\" fill=\"white\">C</text>\n",
       "<polyline fill=\"none\" stroke=\"#4a4a4a\" points=\"174,-236.75 329.75,-236.75\"/>\n",
       "<text text-anchor=\"middle\" x=\"212.75\" y=\"-219.45\" font-family=\"Times,serif\" font-size=\"14.00\" fill=\"white\">μ=9.000</text>\n",
       "<polyline fill=\"none\" stroke=\"#4a4a4a\" points=\"251.5,-211.5 251.5,-236.75\"/>\n",
       "<text text-anchor=\"middle\" x=\"290.62\" y=\"-219.45\" font-family=\"Times,serif\" font-size=\"14.00\" fill=\"white\">σ=0.600</text>\n",
       "</a>\n",
       "</g>\n",
       "</g>\n",
       "<!-- A&#45;&gt;C -->\n",
       "<g id=\"edge3\" class=\"edge\">\n",
       "<title>A-&gt;C</title>\n",
       "<g id=\"a_edge3\"><a xlink:title=\"(0, 3) : \">\n",
       "<path fill=\"none\" stroke=\"#4a4a4a\" d=\"M119.11,-316.72C143.53,-302.2 174.67,-283.68 200.65,-268.22\"/>\n",
       "<polygon fill=\"#4a4a4a\" stroke=\"#4a4a4a\" points=\"202.23,-271.35 209.03,-263.23 198.65,-265.34 202.23,-271.35\"/>\n",
       "</a>\n",
       "</g>\n",
       "<text text-anchor=\"middle\" x=\"192.75\" y=\"-284.25\" font-family=\"Times,serif\" font-size=\"15.00\">2.00</text>\n",
       "</g>\n",
       "<!-- F -->\n",
       "<g id=\"node2\" class=\"node\">\n",
       "<title>F</title>\n",
       "<g id=\"a_node2\"><a xlink:title=\"(1) F\">\n",
       "<path fill=\"#404040\" stroke=\"#4a4a4a\" d=\"M239,-422.5C239,-422.5 370.75,-422.5 370.75,-422.5 376.75,-422.5 382.75,-428.5 382.75,-434.5 382.75,-434.5 382.75,-461 382.75,-461 382.75,-467 376.75,-473 370.75,-473 370.75,-473 239,-473 239,-473 233,-473 227,-467 227,-461 227,-461 227,-434.5 227,-434.5 227,-428.5 233,-422.5 239,-422.5\"/>\n",
       "<text text-anchor=\"middle\" x=\"304.88\" y=\"-455.7\" font-family=\"Times,serif\" font-size=\"14.00\" fill=\"white\">F</text>\n",
       "<polyline fill=\"none\" stroke=\"#4a4a4a\" points=\"227,-447.75 382.75,-447.75\"/>\n",
       "<text text-anchor=\"middle\" x=\"265.75\" y=\"-430.45\" font-family=\"Times,serif\" font-size=\"14.00\" fill=\"white\">μ=7.000</text>\n",
       "<polyline fill=\"none\" stroke=\"#4a4a4a\" points=\"304.5,-422.5 304.5,-447.75\"/>\n",
       "<text text-anchor=\"middle\" x=\"343.62\" y=\"-430.45\" font-family=\"Times,serif\" font-size=\"14.00\" fill=\"white\">σ=0.500</text>\n",
       "</a>\n",
       "</g>\n",
       "</g>\n",
       "<!-- B -->\n",
       "<g id=\"node3\" class=\"node\">\n",
       "<title>B</title>\n",
       "<g id=\"a_node3\"><a xlink:title=\"(2) B\">\n",
       "<path fill=\"#404040\" stroke=\"#4a4a4a\" d=\"M186,-317C186,-317 317.75,-317 317.75,-317 323.75,-317 329.75,-323 329.75,-329 329.75,-329 329.75,-355.5 329.75,-355.5 329.75,-361.5 323.75,-367.5 317.75,-367.5 317.75,-367.5 186,-367.5 186,-367.5 180,-367.5 174,-361.5 174,-355.5 174,-355.5 174,-329 174,-329 174,-323 180,-317 186,-317\"/>\n",
       "<text text-anchor=\"middle\" x=\"251.88\" y=\"-350.2\" font-family=\"Times,serif\" font-size=\"14.00\" fill=\"white\">B</text>\n",
       "<polyline fill=\"none\" stroke=\"#4a4a4a\" points=\"174,-342.25 329.75,-342.25\"/>\n",
       "<text text-anchor=\"middle\" x=\"212.75\" y=\"-324.95\" font-family=\"Times,serif\" font-size=\"14.00\" fill=\"white\">μ=3.000</text>\n",
       "<polyline fill=\"none\" stroke=\"#4a4a4a\" points=\"251.5,-317 251.5,-342.25\"/>\n",
       "<text text-anchor=\"middle\" x=\"290.62\" y=\"-324.95\" font-family=\"Times,serif\" font-size=\"14.00\" fill=\"white\">σ=0.300</text>\n",
       "</a>\n",
       "</g>\n",
       "</g>\n",
       "<!-- F&#45;&gt;B -->\n",
       "<g id=\"edge1\" class=\"edge\">\n",
       "<title>F-&gt;B</title>\n",
       "<g id=\"a_edge1\"><a xlink:title=\"(1, 2) : \">\n",
       "<path fill=\"none\" stroke=\"#4a4a4a\" d=\"M292.31,-422.22C285.57,-409.04 277.13,-392.57 269.71,-378.08\"/>\n",
       "<polygon fill=\"#4a4a4a\" stroke=\"#4a4a4a\" points=\"272.89,-376.61 265.22,-369.31 266.66,-379.8 272.89,-376.61\"/>\n",
       "</a>\n",
       "</g>\n",
       "<text text-anchor=\"middle\" x=\"297.75\" y=\"-389.75\" font-family=\"Times,serif\" font-size=\"15.00\">1.20</text>\n",
       "</g>\n",
       "<!-- D -->\n",
       "<g id=\"node5\" class=\"node\">\n",
       "<title>D</title>\n",
       "<g id=\"a_node5\"><a xlink:title=\"(4) D\">\n",
       "<path fill=\"#404040\" stroke=\"#4a4a4a\" d=\"M239,-106C239,-106 370.75,-106 370.75,-106 376.75,-106 382.75,-112 382.75,-118 382.75,-118 382.75,-144.5 382.75,-144.5 382.75,-150.5 376.75,-156.5 370.75,-156.5 370.75,-156.5 239,-156.5 239,-156.5 233,-156.5 227,-150.5 227,-144.5 227,-144.5 227,-118 227,-118 227,-112 233,-106 239,-106\"/>\n",
       "<text text-anchor=\"middle\" x=\"304.88\" y=\"-139.2\" font-family=\"Times,serif\" font-size=\"14.00\" fill=\"white\">D</text>\n",
       "<polyline fill=\"none\" stroke=\"#4a4a4a\" points=\"227,-131.25 382.75,-131.25\"/>\n",
       "<text text-anchor=\"middle\" x=\"265.75\" y=\"-113.95\" font-family=\"Times,serif\" font-size=\"14.00\" fill=\"white\">μ=9.000</text>\n",
       "<polyline fill=\"none\" stroke=\"#4a4a4a\" points=\"304.5,-106 304.5,-131.25\"/>\n",
       "<text text-anchor=\"middle\" x=\"343.62\" y=\"-113.95\" font-family=\"Times,serif\" font-size=\"14.00\" fill=\"white\">σ=0.700</text>\n",
       "</a>\n",
       "</g>\n",
       "</g>\n",
       "<!-- F&#45;&gt;D -->\n",
       "<g id=\"edge4\" class=\"edge\">\n",
       "<title>F-&gt;D</title>\n",
       "<g id=\"a_edge4\"><a xlink:title=\"(1, 4) : \">\n",
       "<path fill=\"none\" stroke=\"#4a4a4a\" d=\"M318.63,-422.08C326.25,-406.97 334.96,-386.96 338.88,-368 353,-299.67 353,-279.33 338.88,-211 335.78,-196.04 329.71,-180.43 323.54,-167.08\"/>\n",
       "<polygon fill=\"#4a4a4a\" stroke=\"#4a4a4a\" points=\"326.79,-165.77 319.29,-158.29 320.49,-168.81 326.79,-165.77\"/>\n",
       "</a>\n",
       "</g>\n",
       "<text text-anchor=\"middle\" x=\"365.75\" y=\"-284.25\" font-family=\"Times,serif\" font-size=\"15.00\">1.00</text>\n",
       "</g>\n",
       "<!-- B&#45;&gt;C -->\n",
       "<g id=\"edge5\" class=\"edge\">\n",
       "<title>B-&gt;C</title>\n",
       "<g id=\"a_edge5\"><a xlink:title=\"(2, 3) : \">\n",
       "<path fill=\"none\" stroke=\"#4a4a4a\" d=\"M251.88,-316.72C251.88,-303.93 251.88,-288.03 251.88,-273.85\"/>\n",
       "<polygon fill=\"#4a4a4a\" stroke=\"#4a4a4a\" points=\"255.38,-273.97 251.88,-263.97 248.38,-273.97 255.38,-273.97\"/>\n",
       "</a>\n",
       "</g>\n",
       "<text text-anchor=\"middle\" x=\"268.75\" y=\"-284.25\" font-family=\"Times,serif\" font-size=\"15.00\">1.50</text>\n",
       "</g>\n",
       "<!-- C&#45;&gt;D -->\n",
       "<g id=\"edge2\" class=\"edge\">\n",
       "<title>C-&gt;D</title>\n",
       "<g id=\"a_edge2\"><a xlink:title=\"(3, 4) : \">\n",
       "<path fill=\"none\" stroke=\"#4a4a4a\" d=\"M264.44,-211.22C271.18,-198.04 279.62,-181.57 287.04,-167.08\"/>\n",
       "<polygon fill=\"#4a4a4a\" stroke=\"#4a4a4a\" points=\"290.09,-168.8 291.53,-158.31 283.86,-165.61 290.09,-168.8\"/>\n",
       "</a>\n",
       "</g>\n",
       "<text text-anchor=\"middle\" x=\"297.75\" y=\"-178.75\" font-family=\"Times,serif\" font-size=\"15.00\">1.00</text>\n",
       "</g>\n",
       "<!-- E -->\n",
       "<g id=\"node6\" class=\"node\">\n",
       "<title>E</title>\n",
       "<g id=\"a_node6\"><a xlink:title=\"(5) E\">\n",
       "<path fill=\"#404040\" stroke=\"#4a4a4a\" d=\"M239,-0.5C239,-0.5 370.75,-0.5 370.75,-0.5 376.75,-0.5 382.75,-6.5 382.75,-12.5 382.75,-12.5 382.75,-39 382.75,-39 382.75,-45 376.75,-51 370.75,-51 370.75,-51 239,-51 239,-51 233,-51 227,-45 227,-39 227,-39 227,-12.5 227,-12.5 227,-6.5 233,-0.5 239,-0.5\"/>\n",
       "<text text-anchor=\"middle\" x=\"304.88\" y=\"-33.7\" font-family=\"Times,serif\" font-size=\"14.00\" fill=\"white\">E</text>\n",
       "<polyline fill=\"none\" stroke=\"#4a4a4a\" points=\"227,-25.75 382.75,-25.75\"/>\n",
       "<text text-anchor=\"middle\" x=\"265.75\" y=\"-8.45\" font-family=\"Times,serif\" font-size=\"14.00\" fill=\"white\">μ=9.000</text>\n",
       "<polyline fill=\"none\" stroke=\"#4a4a4a\" points=\"304.5,-0.5 304.5,-25.75\"/>\n",
       "<text text-anchor=\"middle\" x=\"343.62\" y=\"-8.45\" font-family=\"Times,serif\" font-size=\"14.00\" fill=\"white\">σ=0.900</text>\n",
       "</a>\n",
       "</g>\n",
       "</g>\n",
       "<!-- D&#45;&gt;E -->\n",
       "<g id=\"edge6\" class=\"edge\">\n",
       "<title>D-&gt;E</title>\n",
       "<g id=\"a_edge6\"><a xlink:title=\"(4, 5) : \">\n",
       "<path fill=\"none\" stroke=\"#4a4a4a\" d=\"M304.88,-105.72C304.88,-92.93 304.88,-77.03 304.88,-62.85\"/>\n",
       "<polygon fill=\"#4a4a4a\" stroke=\"#4a4a4a\" points=\"308.38,-62.97 304.88,-52.97 301.38,-62.97 308.38,-62.97\"/>\n",
       "</a>\n",
       "</g>\n",
       "<text text-anchor=\"middle\" x=\"321.75\" y=\"-73.25\" font-family=\"Times,serif\" font-size=\"15.00\">1.00</text>\n",
       "</g>\n",
       "</g>\n",
       "</svg><br><small><i>saved model</i></small></div></td><td style=\"border-top:hidden;border-bottom:hidden;vertical-align:middle;\"><div align=\"center\" style=\"vertical-align:middle;\"><svg xmlns=\"http://www.w3.org/2000/svg\" xmlns:xlink=\"http://www.w3.org/1999/xlink\" width=\"297pt\" height=\"360pt\" viewBox=\"0.00 0.00 296.54 360.00\">\n",
       "<g id=\"graph0\" class=\"graph\" transform=\"scale(0.747664 0.747664) rotate(0) translate(4 477.5)\">\n",
       "<title>G</title>\n",
       "<!-- F -->\n",
       "<g id=\"node1\" class=\"node\">\n",
       "<title>F</title>\n",
       "<g id=\"a_node1\"><a xlink:title=\"(0) F\">\n",
       "<path fill=\"#404040\" stroke=\"#4a4a4a\" d=\"M152,-422.5C152,-422.5 283.75,-422.5 283.75,-422.5 289.75,-422.5 295.75,-428.5 295.75,-434.5 295.75,-434.5 295.75,-461 295.75,-461 295.75,-467 289.75,-473 283.75,-473 283.75,-473 152,-473 152,-473 146,-473 140,-467 140,-461 140,-461 140,-434.5 140,-434.5 140,-428.5 146,-422.5 152,-422.5\"/>\n",
       "<text text-anchor=\"middle\" x=\"217.88\" y=\"-455.7\" font-family=\"Times,serif\" font-size=\"14.00\" fill=\"white\">F</text>\n",
       "<polyline fill=\"none\" stroke=\"#4a4a4a\" points=\"140,-447.75 295.75,-447.75\"/>\n",
       "<text text-anchor=\"middle\" x=\"178.75\" y=\"-430.45\" font-family=\"Times,serif\" font-size=\"14.00\" fill=\"white\">μ=7.000</text>\n",
       "<polyline fill=\"none\" stroke=\"#4a4a4a\" points=\"217.5,-422.5 217.5,-447.75\"/>\n",
       "<text text-anchor=\"middle\" x=\"256.62\" y=\"-430.45\" font-family=\"Times,serif\" font-size=\"14.00\" fill=\"white\">σ=0.500</text>\n",
       "</a>\n",
       "</g>\n",
       "</g>\n",
       "<!-- B -->\n",
       "<g id=\"node2\" class=\"node\">\n",
       "<title>B</title>\n",
       "<g id=\"a_node2\"><a xlink:title=\"(1) B\">\n",
       "<path fill=\"#404040\" stroke=\"#4a4a4a\" d=\"M12,-317C12,-317 143.75,-317 143.75,-317 149.75,-317 155.75,-323 155.75,-329 155.75,-329 155.75,-355.5 155.75,-355.5 155.75,-361.5 149.75,-367.5 143.75,-367.5 143.75,-367.5 12,-367.5 12,-367.5 6,-367.5 0,-361.5 0,-355.5 0,-355.5 0,-329 0,-329 0,-323 6,-317 12,-317\"/>\n",
       "<text text-anchor=\"middle\" x=\"77.88\" y=\"-350.2\" font-family=\"Times,serif\" font-size=\"14.00\" fill=\"white\">B</text>\n",
       "<polyline fill=\"none\" stroke=\"#4a4a4a\" points=\"0,-342.25 155.75,-342.25\"/>\n",
       "<text text-anchor=\"middle\" x=\"38.75\" y=\"-324.95\" font-family=\"Times,serif\" font-size=\"14.00\" fill=\"white\">μ=3.000</text>\n",
       "<polyline fill=\"none\" stroke=\"#4a4a4a\" points=\"77.5,-317 77.5,-342.25\"/>\n",
       "<text text-anchor=\"middle\" x=\"116.62\" y=\"-324.95\" font-family=\"Times,serif\" font-size=\"14.00\" fill=\"white\">σ=0.300</text>\n",
       "</a>\n",
       "</g>\n",
       "</g>\n",
       "<!-- F&#45;&gt;B -->\n",
       "<g id=\"edge1\" class=\"edge\">\n",
       "<title>F-&gt;B</title>\n",
       "<g id=\"a_edge1\"><a xlink:title=\"(0, 1) : \">\n",
       "<path fill=\"none\" stroke=\"#4a4a4a\" d=\"M184.7,-422.22C165.48,-408.02 141.1,-389.99 120.48,-374.75\"/>\n",
       "<polygon fill=\"#4a4a4a\" stroke=\"#4a4a4a\" points=\"122.64,-371.99 112.52,-368.86 118.48,-377.62 122.64,-371.99\"/>\n",
       "</a>\n",
       "</g>\n",
       "<text text-anchor=\"middle\" x=\"173.75\" y=\"-389.75\" font-family=\"Times,serif\" font-size=\"15.00\">1.20</text>\n",
       "</g>\n",
       "<!-- D -->\n",
       "<g id=\"node5\" class=\"node\">\n",
       "<title>D</title>\n",
       "<g id=\"a_node5\"><a xlink:title=\"(4) D\">\n",
       "<path fill=\"#404040\" stroke=\"#4a4a4a\" d=\"M239,-106C239,-106 370.75,-106 370.75,-106 376.75,-106 382.75,-112 382.75,-118 382.75,-118 382.75,-144.5 382.75,-144.5 382.75,-150.5 376.75,-156.5 370.75,-156.5 370.75,-156.5 239,-156.5 239,-156.5 233,-156.5 227,-150.5 227,-144.5 227,-144.5 227,-118 227,-118 227,-112 233,-106 239,-106\"/>\n",
       "<text text-anchor=\"middle\" x=\"304.88\" y=\"-139.2\" font-family=\"Times,serif\" font-size=\"14.00\" fill=\"white\">D</text>\n",
       "<polyline fill=\"none\" stroke=\"#4a4a4a\" points=\"227,-131.25 382.75,-131.25\"/>\n",
       "<text text-anchor=\"middle\" x=\"265.75\" y=\"-113.95\" font-family=\"Times,serif\" font-size=\"14.00\" fill=\"white\">μ=9.000</text>\n",
       "<polyline fill=\"none\" stroke=\"#4a4a4a\" points=\"304.5,-106 304.5,-131.25\"/>\n",
       "<text text-anchor=\"middle\" x=\"343.62\" y=\"-113.95\" font-family=\"Times,serif\" font-size=\"14.00\" fill=\"white\">σ=0.700</text>\n",
       "</a>\n",
       "</g>\n",
       "</g>\n",
       "<!-- F&#45;&gt;D -->\n",
       "<g id=\"edge2\" class=\"edge\">\n",
       "<title>F-&gt;D</title>\n",
       "<g id=\"a_edge2\"><a xlink:title=\"(0, 4) : \">\n",
       "<path fill=\"none\" stroke=\"#4a4a4a\" d=\"M279.5,-422.08C302.42,-409.53 325.97,-391.8 338.88,-368 373.88,-303.45 343.97,-215.02 322.35,-166.9\"/>\n",
       "<polygon fill=\"#4a4a4a\" stroke=\"#4a4a4a\" points=\"325.64,-165.67 318.26,-158.07 319.29,-168.62 325.64,-165.67\"/>\n",
       "</a>\n",
       "</g>\n",
       "<text text-anchor=\"middle\" x=\"371.75\" y=\"-284.25\" font-family=\"Times,serif\" font-size=\"15.00\">1.00</text>\n",
       "</g>\n",
       "<!-- C -->\n",
       "<g id=\"node4\" class=\"node\">\n",
       "<title>C</title>\n",
       "<g id=\"a_node4\"><a xlink:title=\"(3) C\">\n",
       "<path fill=\"#404040\" stroke=\"#4a4a4a\" d=\"M186,-211.5C186,-211.5 317.75,-211.5 317.75,-211.5 323.75,-211.5 329.75,-217.5 329.75,-223.5 329.75,-223.5 329.75,-250 329.75,-250 329.75,-256 323.75,-262 317.75,-262 317.75,-262 186,-262 186,-262 180,-262 174,-256 174,-250 174,-250 174,-223.5 174,-223.5 174,-217.5 180,-211.5 186,-211.5\"/>\n",
       "<text text-anchor=\"middle\" x=\"251.88\" y=\"-244.7\" font-family=\"Times,serif\" font-size=\"14.00\" fill=\"white\">C</text>\n",
       "<polyline fill=\"none\" stroke=\"#4a4a4a\" points=\"174,-236.75 329.75,-236.75\"/>\n",
       "<text text-anchor=\"middle\" x=\"212.75\" y=\"-219.45\" font-family=\"Times,serif\" font-size=\"14.00\" fill=\"white\">μ=9.000</text>\n",
       "<polyline fill=\"none\" stroke=\"#4a4a4a\" points=\"251.5,-211.5 251.5,-236.75\"/>\n",
       "<text text-anchor=\"middle\" x=\"290.62\" y=\"-219.45\" font-family=\"Times,serif\" font-size=\"14.00\" fill=\"white\">σ=0.600</text>\n",
       "</a>\n",
       "</g>\n",
       "</g>\n",
       "<!-- B&#45;&gt;C -->\n",
       "<g id=\"edge6\" class=\"edge\">\n",
       "<title>B-&gt;C</title>\n",
       "<g id=\"a_edge6\"><a xlink:title=\"(1, 3) : \">\n",
       "<path fill=\"none\" stroke=\"#4a4a4a\" d=\"M119.11,-316.72C143.53,-302.2 174.67,-283.68 200.65,-268.22\"/>\n",
       "<polygon fill=\"#4a4a4a\" stroke=\"#4a4a4a\" points=\"202.23,-271.35 209.03,-263.23 198.65,-265.34 202.23,-271.35\"/>\n",
       "</a>\n",
       "</g>\n",
       "<text text-anchor=\"middle\" x=\"192.75\" y=\"-284.25\" font-family=\"Times,serif\" font-size=\"15.00\">1.50</text>\n",
       "</g>\n",
       "<!-- A -->\n",
       "<g id=\"node3\" class=\"node\">\n",
       "<title>A</title>\n",
       "<g id=\"a_node3\"><a xlink:title=\"(2) A\">\n",
       "<path fill=\"#404040\" stroke=\"#4a4a4a\" d=\"M186,-317C186,-317 317.75,-317 317.75,-317 323.75,-317 329.75,-323 329.75,-329 329.75,-329 329.75,-355.5 329.75,-355.5 329.75,-361.5 323.75,-367.5 317.75,-367.5 317.75,-367.5 186,-367.5 186,-367.5 180,-367.5 174,-361.5 174,-355.5 174,-355.5 174,-329 174,-329 174,-323 180,-317 186,-317\"/>\n",
       "<text text-anchor=\"middle\" x=\"251.88\" y=\"-350.2\" font-family=\"Times,serif\" font-size=\"14.00\" fill=\"white\">A</text>\n",
       "<polyline fill=\"none\" stroke=\"#4a4a4a\" points=\"174,-342.25 329.75,-342.25\"/>\n",
       "<text text-anchor=\"middle\" x=\"212.75\" y=\"-324.95\" font-family=\"Times,serif\" font-size=\"14.00\" fill=\"white\">μ=4.500</text>\n",
       "<polyline fill=\"none\" stroke=\"#4a4a4a\" points=\"251.5,-317 251.5,-342.25\"/>\n",
       "<text text-anchor=\"middle\" x=\"290.62\" y=\"-324.95\" font-family=\"Times,serif\" font-size=\"14.00\" fill=\"white\">σ=0.300</text>\n",
       "</a>\n",
       "</g>\n",
       "</g>\n",
       "<!-- A&#45;&gt;C -->\n",
       "<g id=\"edge4\" class=\"edge\">\n",
       "<title>A-&gt;C</title>\n",
       "<g id=\"a_edge4\"><a xlink:title=\"(2, 3) : \">\n",
       "<path fill=\"none\" stroke=\"#4a4a4a\" d=\"M251.88,-316.72C251.88,-303.93 251.88,-288.03 251.88,-273.85\"/>\n",
       "<polygon fill=\"#4a4a4a\" stroke=\"#4a4a4a\" points=\"255.38,-273.97 251.88,-263.97 248.38,-273.97 255.38,-273.97\"/>\n",
       "</a>\n",
       "</g>\n",
       "<text text-anchor=\"middle\" x=\"268.75\" y=\"-284.25\" font-family=\"Times,serif\" font-size=\"15.00\">2.00</text>\n",
       "</g>\n",
       "<!-- C&#45;&gt;D -->\n",
       "<g id=\"edge3\" class=\"edge\">\n",
       "<title>C-&gt;D</title>\n",
       "<g id=\"a_edge3\"><a xlink:title=\"(3, 4) : \">\n",
       "<path fill=\"none\" stroke=\"#4a4a4a\" d=\"M264.44,-211.22C271.18,-198.04 279.62,-181.57 287.04,-167.08\"/>\n",
       "<polygon fill=\"#4a4a4a\" stroke=\"#4a4a4a\" points=\"290.09,-168.8 291.53,-158.31 283.86,-165.61 290.09,-168.8\"/>\n",
       "</a>\n",
       "</g>\n",
       "<text text-anchor=\"middle\" x=\"297.75\" y=\"-178.75\" font-family=\"Times,serif\" font-size=\"15.00\">1.00</text>\n",
       "</g>\n",
       "<!-- E -->\n",
       "<g id=\"node6\" class=\"node\">\n",
       "<title>E</title>\n",
       "<g id=\"a_node6\"><a xlink:title=\"(5) E\">\n",
       "<path fill=\"#404040\" stroke=\"#4a4a4a\" d=\"M239,-0.5C239,-0.5 370.75,-0.5 370.75,-0.5 376.75,-0.5 382.75,-6.5 382.75,-12.5 382.75,-12.5 382.75,-39 382.75,-39 382.75,-45 376.75,-51 370.75,-51 370.75,-51 239,-51 239,-51 233,-51 227,-45 227,-39 227,-39 227,-12.5 227,-12.5 227,-6.5 233,-0.5 239,-0.5\"/>\n",
       "<text text-anchor=\"middle\" x=\"304.88\" y=\"-33.7\" font-family=\"Times,serif\" font-size=\"14.00\" fill=\"white\">E</text>\n",
       "<polyline fill=\"none\" stroke=\"#4a4a4a\" points=\"227,-25.75 382.75,-25.75\"/>\n",
       "<text text-anchor=\"middle\" x=\"265.75\" y=\"-8.45\" font-family=\"Times,serif\" font-size=\"14.00\" fill=\"white\">μ=9.000</text>\n",
       "<polyline fill=\"none\" stroke=\"#4a4a4a\" points=\"304.5,-0.5 304.5,-25.75\"/>\n",
       "<text text-anchor=\"middle\" x=\"343.62\" y=\"-8.45\" font-family=\"Times,serif\" font-size=\"14.00\" fill=\"white\">σ=0.900</text>\n",
       "</a>\n",
       "</g>\n",
       "</g>\n",
       "<!-- D&#45;&gt;E -->\n",
       "<g id=\"edge5\" class=\"edge\">\n",
       "<title>D-&gt;E</title>\n",
       "<g id=\"a_edge5\"><a xlink:title=\"(4, 5) : \">\n",
       "<path fill=\"none\" stroke=\"#4a4a4a\" d=\"M304.88,-105.72C304.88,-92.93 304.88,-77.03 304.88,-62.85\"/>\n",
       "<polygon fill=\"#4a4a4a\" stroke=\"#4a4a4a\" points=\"308.38,-62.97 304.88,-52.97 301.38,-62.97 308.38,-62.97\"/>\n",
       "</a>\n",
       "</g>\n",
       "<text text-anchor=\"middle\" x=\"321.75\" y=\"-73.25\" font-family=\"Times,serif\" font-size=\"15.00\">1.00</text>\n",
       "</g>\n",
       "</g>\n",
       "</svg><br><small><i>loaded model</i></small></div></td></tr></table>"
      ],
      "text/plain": [
       "<IPython.core.display.HTML object>"
      ]
     },
     "metadata": {},
     "output_type": "display_data"
    }
   ],
   "source": [
    "model3=gclg.SEM.loadCLG(\"out/model2.sem\")\n",
    "gnb.sideBySide(model2,model3,captions=[\"saved model\",\"loaded model\"])"
   ]
  },
  {
   "cell_type": "markdown",
   "metadata": {
    "editable": true,
    "slideshow": {
     "slide_type": ""
    },
    "tags": []
   },
   "source": [
    "## Exact or approximated Inference\n",
    "\n",
    "### Exact inference : Variable Elimination\n",
    "\n",
    "Compute some posterior using difference exact inference"
   ]
  },
  {
   "cell_type": "code",
   "execution_count": 8,
   "metadata": {
    "editable": true,
    "execution": {
     "iopub.execute_input": "2024-06-10T20:42:49.261697Z",
     "iopub.status.busy": "2024-06-10T20:42:49.261124Z",
     "iopub.status.idle": "2024-06-10T20:42:49.279016Z",
     "shell.execute_reply": "2024-06-10T20:42:49.277914Z",
     "shell.execute_reply.started": "2024-06-10T20:42:49.261648Z"
    },
    "slideshow": {
     "slide_type": ""
    },
    "tags": []
   },
   "outputs": [
    {
     "name": "stdout",
     "output_type": "stream",
     "text": [
      "A:1.9327650111193468[0.28353638852446156]\n",
      "B:-2.5058561897702[0.41002992170553515]\n",
      "C:3.9722757598220895[0.5657771474513671]\n",
      "D:3[0]\n",
      "E:12.0[0.9]\n",
      "F:-2.9836916234247597[0.32358490464094586]\n",
      "E:12.0[0.9]\n",
      "  - mean(E|D=3)=12.0\n",
      "  - stdev(E|D=3)=0.9\n"
     ]
    }
   ],
   "source": [
    "ie=gclg.CLGVariableElimination(model2)\n",
    "ie.updateEvidence({\"D\":3})\n",
    "\n",
    "print(ie.posterior(\"A\"))\n",
    "print(ie.posterior(\"B\"))\n",
    "print(ie.posterior(\"C\"))\n",
    "print(ie.posterior(\"D\"))\n",
    "print(ie.posterior(\"E\"))\n",
    "print(ie.posterior(\"F\"))\n",
    "\n",
    "\n",
    "v=ie.posterior(\"E\")\n",
    "print(v)\n",
    "print(f\"  - mean(E|D=3)={v.mu()}\")\n",
    "print(f\"  - stdev(E|D=3)={v.sigma()}\")"
   ]
  },
  {
   "cell_type": "code",
   "execution_count": 9,
   "metadata": {
    "editable": true,
    "execution": {
     "iopub.execute_input": "2024-06-10T20:42:50.550684Z",
     "iopub.status.busy": "2024-06-10T20:42:50.549902Z",
     "iopub.status.idle": "2024-06-10T20:42:50.828905Z",
     "shell.execute_reply": "2024-06-10T20:42:50.827400Z",
     "shell.execute_reply.started": "2024-06-10T20:42:50.550636Z"
    },
    "slideshow": {
     "slide_type": ""
    },
    "tags": []
   },
   "outputs": [
    {
     "data": {
      "text/html": [
       "<table style=\"border-style: hidden; border-collapse: collapse;\" width=\"100%\"><tr><td style=\"border-top:hidden;border-bottom:hidden;vertical-align:middle;\"><div align=\"center\" style=\"vertical-align:middle;\"><svg xmlns=\"http://www.w3.org/2000/svg\" xmlns:xlink=\"http://www.w3.org/1999/xlink\" width=\"292pt\" height=\"360pt\" viewBox=\"0.00 0.00 292.15 360.00\">\n",
       "<g id=\"graph0\" class=\"graph\" transform=\"scale(0.747664 0.747664) rotate(0) translate(4 477.5)\">\n",
       "<title>G</title>\n",
       "<!-- A -->\n",
       "<g id=\"node1\" class=\"node\">\n",
       "<title>A</title>\n",
       "<g id=\"a_node1\"><a xlink:title=\"(0) A\">\n",
       "<path fill=\"#404040\" stroke=\"#4a4a4a\" d=\"M12,-317C12,-317 143.75,-317 143.75,-317 149.75,-317 155.75,-323 155.75,-329 155.75,-329 155.75,-355.5 155.75,-355.5 155.75,-361.5 149.75,-367.5 143.75,-367.5 143.75,-367.5 12,-367.5 12,-367.5 6,-367.5 0,-361.5 0,-355.5 0,-355.5 0,-329 0,-329 0,-323 6,-317 12,-317\"/>\n",
       "<text text-anchor=\"middle\" x=\"77.88\" y=\"-350.2\" font-family=\"Times,serif\" font-size=\"14.00\" fill=\"white\">A</text>\n",
       "<polyline fill=\"none\" stroke=\"#4a4a4a\" points=\"0,-342.25 155.75,-342.25\"/>\n",
       "<text text-anchor=\"middle\" x=\"38.75\" y=\"-324.95\" font-family=\"Times,serif\" font-size=\"14.00\" fill=\"white\">μ=4.500</text>\n",
       "<polyline fill=\"none\" stroke=\"#4a4a4a\" points=\"77.5,-317 77.5,-342.25\"/>\n",
       "<text text-anchor=\"middle\" x=\"116.62\" y=\"-324.95\" font-family=\"Times,serif\" font-size=\"14.00\" fill=\"white\">σ=0.300</text>\n",
       "</a>\n",
       "</g>\n",
       "</g>\n",
       "<!-- C -->\n",
       "<g id=\"node4\" class=\"node\">\n",
       "<title>C</title>\n",
       "<g id=\"a_node4\"><a xlink:title=\"(3) C\">\n",
       "<path fill=\"#404040\" stroke=\"#4a4a4a\" d=\"M186,-211.5C186,-211.5 317.75,-211.5 317.75,-211.5 323.75,-211.5 329.75,-217.5 329.75,-223.5 329.75,-223.5 329.75,-250 329.75,-250 329.75,-256 323.75,-262 317.75,-262 317.75,-262 186,-262 186,-262 180,-262 174,-256 174,-250 174,-250 174,-223.5 174,-223.5 174,-217.5 180,-211.5 186,-211.5\"/>\n",
       "<text text-anchor=\"middle\" x=\"251.88\" y=\"-244.7\" font-family=\"Times,serif\" font-size=\"14.00\" fill=\"white\">C</text>\n",
       "<polyline fill=\"none\" stroke=\"#4a4a4a\" points=\"174,-236.75 329.75,-236.75\"/>\n",
       "<text text-anchor=\"middle\" x=\"212.75\" y=\"-219.45\" font-family=\"Times,serif\" font-size=\"14.00\" fill=\"white\">μ=9.000</text>\n",
       "<polyline fill=\"none\" stroke=\"#4a4a4a\" points=\"251.5,-211.5 251.5,-236.75\"/>\n",
       "<text text-anchor=\"middle\" x=\"290.62\" y=\"-219.45\" font-family=\"Times,serif\" font-size=\"14.00\" fill=\"white\">σ=0.600</text>\n",
       "</a>\n",
       "</g>\n",
       "</g>\n",
       "<!-- A&#45;&gt;C -->\n",
       "<g id=\"edge3\" class=\"edge\">\n",
       "<title>A-&gt;C</title>\n",
       "<g id=\"a_edge3\"><a xlink:title=\"(0, 3) : \">\n",
       "<path fill=\"none\" stroke=\"#4a4a4a\" d=\"M119.11,-316.72C143.53,-302.2 174.67,-283.68 200.65,-268.22\"/>\n",
       "<polygon fill=\"#4a4a4a\" stroke=\"#4a4a4a\" points=\"202.23,-271.35 209.03,-263.23 198.65,-265.34 202.23,-271.35\"/>\n",
       "</a>\n",
       "</g>\n",
       "<text text-anchor=\"middle\" x=\"192.75\" y=\"-284.25\" font-family=\"Times,serif\" font-size=\"15.00\">2.00</text>\n",
       "</g>\n",
       "<!-- F -->\n",
       "<g id=\"node2\" class=\"node\">\n",
       "<title>F</title>\n",
       "<g id=\"a_node2\"><a xlink:title=\"(1) F\">\n",
       "<path fill=\"#404040\" stroke=\"#4a4a4a\" d=\"M239,-422.5C239,-422.5 370.75,-422.5 370.75,-422.5 376.75,-422.5 382.75,-428.5 382.75,-434.5 382.75,-434.5 382.75,-461 382.75,-461 382.75,-467 376.75,-473 370.75,-473 370.75,-473 239,-473 239,-473 233,-473 227,-467 227,-461 227,-461 227,-434.5 227,-434.5 227,-428.5 233,-422.5 239,-422.5\"/>\n",
       "<text text-anchor=\"middle\" x=\"304.88\" y=\"-455.7\" font-family=\"Times,serif\" font-size=\"14.00\" fill=\"white\">F</text>\n",
       "<polyline fill=\"none\" stroke=\"#4a4a4a\" points=\"227,-447.75 382.75,-447.75\"/>\n",
       "<text text-anchor=\"middle\" x=\"265.75\" y=\"-430.45\" font-family=\"Times,serif\" font-size=\"14.00\" fill=\"white\">μ=7.000</text>\n",
       "<polyline fill=\"none\" stroke=\"#4a4a4a\" points=\"304.5,-422.5 304.5,-447.75\"/>\n",
       "<text text-anchor=\"middle\" x=\"343.62\" y=\"-430.45\" font-family=\"Times,serif\" font-size=\"14.00\" fill=\"white\">σ=0.500</text>\n",
       "</a>\n",
       "</g>\n",
       "</g>\n",
       "<!-- B -->\n",
       "<g id=\"node3\" class=\"node\">\n",
       "<title>B</title>\n",
       "<g id=\"a_node3\"><a xlink:title=\"(2) B\">\n",
       "<path fill=\"#404040\" stroke=\"#4a4a4a\" d=\"M186,-317C186,-317 317.75,-317 317.75,-317 323.75,-317 329.75,-323 329.75,-329 329.75,-329 329.75,-355.5 329.75,-355.5 329.75,-361.5 323.75,-367.5 317.75,-367.5 317.75,-367.5 186,-367.5 186,-367.5 180,-367.5 174,-361.5 174,-355.5 174,-355.5 174,-329 174,-329 174,-323 180,-317 186,-317\"/>\n",
       "<text text-anchor=\"middle\" x=\"251.88\" y=\"-350.2\" font-family=\"Times,serif\" font-size=\"14.00\" fill=\"white\">B</text>\n",
       "<polyline fill=\"none\" stroke=\"#4a4a4a\" points=\"174,-342.25 329.75,-342.25\"/>\n",
       "<text text-anchor=\"middle\" x=\"212.75\" y=\"-324.95\" font-family=\"Times,serif\" font-size=\"14.00\" fill=\"white\">μ=3.000</text>\n",
       "<polyline fill=\"none\" stroke=\"#4a4a4a\" points=\"251.5,-317 251.5,-342.25\"/>\n",
       "<text text-anchor=\"middle\" x=\"290.62\" y=\"-324.95\" font-family=\"Times,serif\" font-size=\"14.00\" fill=\"white\">σ=0.300</text>\n",
       "</a>\n",
       "</g>\n",
       "</g>\n",
       "<!-- F&#45;&gt;B -->\n",
       "<g id=\"edge1\" class=\"edge\">\n",
       "<title>F-&gt;B</title>\n",
       "<g id=\"a_edge1\"><a xlink:title=\"(1, 2) : \">\n",
       "<path fill=\"none\" stroke=\"#4a4a4a\" d=\"M292.31,-422.22C285.57,-409.04 277.13,-392.57 269.71,-378.08\"/>\n",
       "<polygon fill=\"#4a4a4a\" stroke=\"#4a4a4a\" points=\"272.89,-376.61 265.22,-369.31 266.66,-379.8 272.89,-376.61\"/>\n",
       "</a>\n",
       "</g>\n",
       "<text text-anchor=\"middle\" x=\"297.75\" y=\"-389.75\" font-family=\"Times,serif\" font-size=\"15.00\">1.20</text>\n",
       "</g>\n",
       "<!-- D -->\n",
       "<g id=\"node5\" class=\"node\">\n",
       "<title>D</title>\n",
       "<g id=\"a_node5\"><a xlink:title=\"(4) D\">\n",
       "<path fill=\"#404040\" stroke=\"#4a4a4a\" d=\"M239,-106C239,-106 370.75,-106 370.75,-106 376.75,-106 382.75,-112 382.75,-118 382.75,-118 382.75,-144.5 382.75,-144.5 382.75,-150.5 376.75,-156.5 370.75,-156.5 370.75,-156.5 239,-156.5 239,-156.5 233,-156.5 227,-150.5 227,-144.5 227,-144.5 227,-118 227,-118 227,-112 233,-106 239,-106\"/>\n",
       "<text text-anchor=\"middle\" x=\"304.88\" y=\"-139.2\" font-family=\"Times,serif\" font-size=\"14.00\" fill=\"white\">D</text>\n",
       "<polyline fill=\"none\" stroke=\"#4a4a4a\" points=\"227,-131.25 382.75,-131.25\"/>\n",
       "<text text-anchor=\"middle\" x=\"265.75\" y=\"-113.95\" font-family=\"Times,serif\" font-size=\"14.00\" fill=\"white\">μ=9.000</text>\n",
       "<polyline fill=\"none\" stroke=\"#4a4a4a\" points=\"304.5,-106 304.5,-131.25\"/>\n",
       "<text text-anchor=\"middle\" x=\"343.62\" y=\"-113.95\" font-family=\"Times,serif\" font-size=\"14.00\" fill=\"white\">σ=0.700</text>\n",
       "</a>\n",
       "</g>\n",
       "</g>\n",
       "<!-- F&#45;&gt;D -->\n",
       "<g id=\"edge4\" class=\"edge\">\n",
       "<title>F-&gt;D</title>\n",
       "<g id=\"a_edge4\"><a xlink:title=\"(1, 4) : \">\n",
       "<path fill=\"none\" stroke=\"#4a4a4a\" d=\"M318.63,-422.08C326.25,-406.97 334.96,-386.96 338.88,-368 353,-299.67 353,-279.33 338.88,-211 335.78,-196.04 329.71,-180.43 323.54,-167.08\"/>\n",
       "<polygon fill=\"#4a4a4a\" stroke=\"#4a4a4a\" points=\"326.79,-165.77 319.29,-158.29 320.49,-168.81 326.79,-165.77\"/>\n",
       "</a>\n",
       "</g>\n",
       "<text text-anchor=\"middle\" x=\"365.75\" y=\"-284.25\" font-family=\"Times,serif\" font-size=\"15.00\">1.00</text>\n",
       "</g>\n",
       "<!-- B&#45;&gt;C -->\n",
       "<g id=\"edge5\" class=\"edge\">\n",
       "<title>B-&gt;C</title>\n",
       "<g id=\"a_edge5\"><a xlink:title=\"(2, 3) : \">\n",
       "<path fill=\"none\" stroke=\"#4a4a4a\" d=\"M251.88,-316.72C251.88,-303.93 251.88,-288.03 251.88,-273.85\"/>\n",
       "<polygon fill=\"#4a4a4a\" stroke=\"#4a4a4a\" points=\"255.38,-273.97 251.88,-263.97 248.38,-273.97 255.38,-273.97\"/>\n",
       "</a>\n",
       "</g>\n",
       "<text text-anchor=\"middle\" x=\"268.75\" y=\"-284.25\" font-family=\"Times,serif\" font-size=\"15.00\">1.50</text>\n",
       "</g>\n",
       "<!-- C&#45;&gt;D -->\n",
       "<g id=\"edge2\" class=\"edge\">\n",
       "<title>C-&gt;D</title>\n",
       "<g id=\"a_edge2\"><a xlink:title=\"(3, 4) : \">\n",
       "<path fill=\"none\" stroke=\"#4a4a4a\" d=\"M264.44,-211.22C271.18,-198.04 279.62,-181.57 287.04,-167.08\"/>\n",
       "<polygon fill=\"#4a4a4a\" stroke=\"#4a4a4a\" points=\"290.09,-168.8 291.53,-158.31 283.86,-165.61 290.09,-168.8\"/>\n",
       "</a>\n",
       "</g>\n",
       "<text text-anchor=\"middle\" x=\"297.75\" y=\"-178.75\" font-family=\"Times,serif\" font-size=\"15.00\">1.00</text>\n",
       "</g>\n",
       "<!-- E -->\n",
       "<g id=\"node6\" class=\"node\">\n",
       "<title>E</title>\n",
       "<g id=\"a_node6\"><a xlink:title=\"(5) E\">\n",
       "<path fill=\"#404040\" stroke=\"#4a4a4a\" d=\"M239,-0.5C239,-0.5 370.75,-0.5 370.75,-0.5 376.75,-0.5 382.75,-6.5 382.75,-12.5 382.75,-12.5 382.75,-39 382.75,-39 382.75,-45 376.75,-51 370.75,-51 370.75,-51 239,-51 239,-51 233,-51 227,-45 227,-39 227,-39 227,-12.5 227,-12.5 227,-6.5 233,-0.5 239,-0.5\"/>\n",
       "<text text-anchor=\"middle\" x=\"304.88\" y=\"-33.7\" font-family=\"Times,serif\" font-size=\"14.00\" fill=\"white\">E</text>\n",
       "<polyline fill=\"none\" stroke=\"#4a4a4a\" points=\"227,-25.75 382.75,-25.75\"/>\n",
       "<text text-anchor=\"middle\" x=\"265.75\" y=\"-8.45\" font-family=\"Times,serif\" font-size=\"14.00\" fill=\"white\">μ=9.000</text>\n",
       "<polyline fill=\"none\" stroke=\"#4a4a4a\" points=\"304.5,-0.5 304.5,-25.75\"/>\n",
       "<text text-anchor=\"middle\" x=\"343.62\" y=\"-8.45\" font-family=\"Times,serif\" font-size=\"14.00\" fill=\"white\">σ=0.900</text>\n",
       "</a>\n",
       "</g>\n",
       "</g>\n",
       "<!-- D&#45;&gt;E -->\n",
       "<g id=\"edge6\" class=\"edge\">\n",
       "<title>D-&gt;E</title>\n",
       "<g id=\"a_edge6\"><a xlink:title=\"(4, 5) : \">\n",
       "<path fill=\"none\" stroke=\"#4a4a4a\" d=\"M304.88,-105.72C304.88,-92.93 304.88,-77.03 304.88,-62.85\"/>\n",
       "<polygon fill=\"#4a4a4a\" stroke=\"#4a4a4a\" points=\"308.38,-62.97 304.88,-52.97 301.38,-62.97 308.38,-62.97\"/>\n",
       "</a>\n",
       "</g>\n",
       "<text text-anchor=\"middle\" x=\"321.75\" y=\"-73.25\" font-family=\"Times,serif\" font-size=\"15.00\">1.00</text>\n",
       "</g>\n",
       "</g>\n",
       "</svg><br><small><i>The CLG</i></small></div></td><td style=\"border-top:hidden;border-bottom:hidden;vertical-align:middle;\"><div align=\"center\" style=\"vertical-align:middle;\"><svg xmlns=\"http://www.w3.org/2000/svg\" xmlns:xlink=\"http://www.w3.org/1999/xlink\" width=\"350pt\" height=\"360pt\" viewBox=\"0.00 0.00 350.11 360.00\">\n",
       "<g id=\"graph0\" class=\"graph\" transform=\"scale(0.879121 0.879121) rotate(0) translate(4 405.5)\">\n",
       "<title>G</title>\n",
       "<!-- A -->\n",
       "<g id=\"node1\" class=\"node\">\n",
       "<title>A</title>\n",
       "<g id=\"a_node1\"><a xlink:title=\"(0) A\">\n",
       "<path fill=\"darkseagreen\" stroke=\"#4a4a4a\" d=\"M12,-263C12,-263 143.75,-263 143.75,-263 149.75,-263 155.75,-269 155.75,-275 155.75,-275 155.75,-301.5 155.75,-301.5 155.75,-307.5 149.75,-313.5 143.75,-313.5 143.75,-313.5 12,-313.5 12,-313.5 6,-313.5 0,-307.5 0,-301.5 0,-301.5 0,-275 0,-275 0,-269 6,-263 12,-263\"/>\n",
       "<text text-anchor=\"middle\" x=\"77.88\" y=\"-296.2\" font-family=\"Times,serif\" font-size=\"14.00\">A</text>\n",
       "<polyline fill=\"none\" stroke=\"#4a4a4a\" points=\"0,-288.25 155.75,-288.25\"/>\n",
       "<text text-anchor=\"middle\" x=\"38.75\" y=\"-270.95\" font-family=\"Times,serif\" font-size=\"14.00\">μ=1.933</text>\n",
       "<polyline fill=\"none\" stroke=\"#4a4a4a\" points=\"77.5,-263 77.5,-288.25\"/>\n",
       "<text text-anchor=\"middle\" x=\"116.62\" y=\"-270.95\" font-family=\"Times,serif\" font-size=\"14.00\">σ=0.284</text>\n",
       "</a>\n",
       "</g>\n",
       "</g>\n",
       "<!-- C -->\n",
       "<g id=\"node4\" class=\"node\">\n",
       "<title>C</title>\n",
       "<g id=\"a_node4\"><a xlink:title=\"(3) C\">\n",
       "<path fill=\"darkseagreen\" stroke=\"#4a4a4a\" d=\"M188,-175.5C188,-175.5 319.75,-175.5 319.75,-175.5 325.75,-175.5 331.75,-181.5 331.75,-187.5 331.75,-187.5 331.75,-214 331.75,-214 331.75,-220 325.75,-226 319.75,-226 319.75,-226 188,-226 188,-226 182,-226 176,-220 176,-214 176,-214 176,-187.5 176,-187.5 176,-181.5 182,-175.5 188,-175.5\"/>\n",
       "<text text-anchor=\"middle\" x=\"253.88\" y=\"-208.7\" font-family=\"Times,serif\" font-size=\"14.00\">C</text>\n",
       "<polyline fill=\"none\" stroke=\"#4a4a4a\" points=\"176,-200.75 331.75,-200.75\"/>\n",
       "<text text-anchor=\"middle\" x=\"214.75\" y=\"-183.45\" font-family=\"Times,serif\" font-size=\"14.00\">μ=3.972</text>\n",
       "<polyline fill=\"none\" stroke=\"#4a4a4a\" points=\"253.5,-175.5 253.5,-200.75\"/>\n",
       "<text text-anchor=\"middle\" x=\"292.62\" y=\"-183.45\" font-family=\"Times,serif\" font-size=\"14.00\">σ=0.566</text>\n",
       "</a>\n",
       "</g>\n",
       "</g>\n",
       "<!-- A&#45;&gt;C -->\n",
       "<g id=\"edge3\" class=\"edge\">\n",
       "<title>A-&gt;C</title>\n",
       "<g id=\"a_edge3\"><a xlink:title=\"(0, 3) : \">\n",
       "<path fill=\"none\" stroke=\"#4a4a4a\" d=\"M128.78,-262.52C148.85,-252.77 172.06,-241.49 193.01,-231.32\"/>\n",
       "<polygon fill=\"#4a4a4a\" stroke=\"#4a4a4a\" points=\"194.26,-234.6 201.72,-227.09 191.2,-228.31 194.26,-234.6\"/>\n",
       "</a>\n",
       "</g>\n",
       "</g>\n",
       "<!-- F -->\n",
       "<g id=\"node2\" class=\"node\">\n",
       "<title>F</title>\n",
       "<g id=\"a_node2\"><a xlink:title=\"(1) F\">\n",
       "<path fill=\"darkseagreen\" stroke=\"#4a4a4a\" d=\"M239.75,-350.5C239.75,-350.5 376,-350.5 376,-350.5 382,-350.5 388,-356.5 388,-362.5 388,-362.5 388,-389 388,-389 388,-395 382,-401 376,-401 376,-401 239.75,-401 239.75,-401 233.75,-401 227.75,-395 227.75,-389 227.75,-389 227.75,-362.5 227.75,-362.5 227.75,-356.5 233.75,-350.5 239.75,-350.5\"/>\n",
       "<text text-anchor=\"middle\" x=\"307.88\" y=\"-383.7\" font-family=\"Times,serif\" font-size=\"14.00\">F</text>\n",
       "<polyline fill=\"none\" stroke=\"#4a4a4a\" points=\"227.75,-375.75 388,-375.75\"/>\n",
       "<text text-anchor=\"middle\" x=\"268.75\" y=\"-358.45\" font-family=\"Times,serif\" font-size=\"14.00\">μ=-2.984</text>\n",
       "<polyline fill=\"none\" stroke=\"#4a4a4a\" points=\"309.75,-350.5 309.75,-375.75\"/>\n",
       "<text text-anchor=\"middle\" x=\"348.88\" y=\"-358.45\" font-family=\"Times,serif\" font-size=\"14.00\">σ=0.324</text>\n",
       "</a>\n",
       "</g>\n",
       "</g>\n",
       "<!-- B -->\n",
       "<g id=\"node3\" class=\"node\">\n",
       "<title>B</title>\n",
       "<g id=\"a_node3\"><a xlink:title=\"(2) B\">\n",
       "<path fill=\"darkseagreen\" stroke=\"#4a4a4a\" d=\"M185.75,-263C185.75,-263 322,-263 322,-263 328,-263 334,-269 334,-275 334,-275 334,-301.5 334,-301.5 334,-307.5 328,-313.5 322,-313.5 322,-313.5 185.75,-313.5 185.75,-313.5 179.75,-313.5 173.75,-307.5 173.75,-301.5 173.75,-301.5 173.75,-275 173.75,-275 173.75,-269 179.75,-263 185.75,-263\"/>\n",
       "<text text-anchor=\"middle\" x=\"253.88\" y=\"-296.2\" font-family=\"Times,serif\" font-size=\"14.00\">B</text>\n",
       "<polyline fill=\"none\" stroke=\"#4a4a4a\" points=\"173.75,-288.25 334,-288.25\"/>\n",
       "<text text-anchor=\"middle\" x=\"214.75\" y=\"-270.95\" font-family=\"Times,serif\" font-size=\"14.00\">μ=-2.506</text>\n",
       "<polyline fill=\"none\" stroke=\"#4a4a4a\" points=\"255.75,-263 255.75,-288.25\"/>\n",
       "<text text-anchor=\"middle\" x=\"294.88\" y=\"-270.95\" font-family=\"Times,serif\" font-size=\"14.00\">σ=0.410</text>\n",
       "</a>\n",
       "</g>\n",
       "</g>\n",
       "<!-- F&#45;&gt;B -->\n",
       "<g id=\"edge1\" class=\"edge\">\n",
       "<title>F-&gt;B</title>\n",
       "<g id=\"a_edge1\"><a xlink:title=\"(1, 2) : \">\n",
       "<path fill=\"none\" stroke=\"#4a4a4a\" d=\"M292.26,-350.02C287.05,-341.78 281.15,-332.44 275.57,-323.61\"/>\n",
       "<polygon fill=\"#4a4a4a\" stroke=\"#4a4a4a\" points=\"278.57,-321.79 270.27,-315.2 272.65,-325.53 278.57,-321.79\"/>\n",
       "</a>\n",
       "</g>\n",
       "</g>\n",
       "<!-- D -->\n",
       "<g id=\"node5\" class=\"node\">\n",
       "<title>D</title>\n",
       "<g id=\"a_node5\"><a xlink:title=\"(4) D\">\n",
       "<path fill=\"sandybrown\" stroke=\"#4a4a4a\" d=\"M242,-88C242,-88 373.75,-88 373.75,-88 379.75,-88 385.75,-94 385.75,-100 385.75,-100 385.75,-126.5 385.75,-126.5 385.75,-132.5 379.75,-138.5 373.75,-138.5 373.75,-138.5 242,-138.5 242,-138.5 236,-138.5 230,-132.5 230,-126.5 230,-126.5 230,-100 230,-100 230,-94 236,-88 242,-88\"/>\n",
       "<text text-anchor=\"middle\" x=\"307.88\" y=\"-121.2\" font-family=\"Times,serif\" font-size=\"14.00\">D</text>\n",
       "<polyline fill=\"none\" stroke=\"#4a4a4a\" points=\"230,-113.25 385.75,-113.25\"/>\n",
       "<text text-anchor=\"middle\" x=\"268.75\" y=\"-95.95\" font-family=\"Times,serif\" font-size=\"14.00\">μ=3.000</text>\n",
       "<polyline fill=\"none\" stroke=\"#4a4a4a\" points=\"307.5,-88 307.5,-113.25\"/>\n",
       "<text text-anchor=\"middle\" x=\"346.62\" y=\"-95.95\" font-family=\"Times,serif\" font-size=\"14.00\">σ=0.000</text>\n",
       "</a>\n",
       "</g>\n",
       "</g>\n",
       "<!-- F&#45;&gt;D -->\n",
       "<g id=\"edge4\" class=\"edge\">\n",
       "<title>F-&gt;D</title>\n",
       "<g id=\"a_edge4\"><a xlink:title=\"(1, 4) : \">\n",
       "<path fill=\"none\" stroke=\"#4a4a4a\" d=\"M326.04,-350.05C332.72,-339.5 339.48,-326.7 342.88,-314 347.21,-297.79 345.06,-190.7 340.88,-175 338.51,-166.11 334.6,-157.1 330.29,-148.84\"/>\n",
       "<polygon fill=\"#4a4a4a\" stroke=\"#4a4a4a\" points=\"333.37,-147.17 325.43,-140.15 327.26,-150.59 333.37,-147.17\"/>\n",
       "</a>\n",
       "</g>\n",
       "</g>\n",
       "<!-- B&#45;&gt;C -->\n",
       "<g id=\"edge5\" class=\"edge\">\n",
       "<title>B-&gt;C</title>\n",
       "<g id=\"a_edge5\"><a xlink:title=\"(2, 3) : \">\n",
       "<path fill=\"none\" stroke=\"#4a4a4a\" d=\"M253.88,-262.52C253.88,-254.81 253.88,-246.14 253.88,-237.82\"/>\n",
       "<polygon fill=\"#4a4a4a\" stroke=\"#4a4a4a\" points=\"257.38,-237.94 253.88,-227.94 250.38,-237.94 257.38,-237.94\"/>\n",
       "</a>\n",
       "</g>\n",
       "</g>\n",
       "<!-- C&#45;&gt;D -->\n",
       "<g id=\"edge2\" class=\"edge\">\n",
       "<title>C-&gt;D</title>\n",
       "<g id=\"a_edge2\"><a xlink:title=\"(3, 4) : \">\n",
       "<path fill=\"none\" stroke=\"#4a4a4a\" d=\"M269.49,-175.02C274.7,-166.78 280.6,-157.44 286.18,-148.61\"/>\n",
       "<polygon fill=\"#4a4a4a\" stroke=\"#4a4a4a\" points=\"289.1,-150.53 291.48,-140.2 283.18,-146.79 289.1,-150.53\"/>\n",
       "</a>\n",
       "</g>\n",
       "</g>\n",
       "<!-- E -->\n",
       "<g id=\"node6\" class=\"node\">\n",
       "<title>E</title>\n",
       "<g id=\"a_node6\"><a xlink:title=\"(5) E\">\n",
       "<path fill=\"darkseagreen\" stroke=\"#4a4a4a\" d=\"M237.5,-0.5C237.5,-0.5 378.25,-0.5 378.25,-0.5 384.25,-0.5 390.25,-6.5 390.25,-12.5 390.25,-12.5 390.25,-39 390.25,-39 390.25,-45 384.25,-51 378.25,-51 378.25,-51 237.5,-51 237.5,-51 231.5,-51 225.5,-45 225.5,-39 225.5,-39 225.5,-12.5 225.5,-12.5 225.5,-6.5 231.5,-0.5 237.5,-0.5\"/>\n",
       "<text text-anchor=\"middle\" x=\"307.88\" y=\"-33.7\" font-family=\"Times,serif\" font-size=\"14.00\">E</text>\n",
       "<polyline fill=\"none\" stroke=\"#4a4a4a\" points=\"225.5,-25.75 390.25,-25.75\"/>\n",
       "<text text-anchor=\"middle\" x=\"268.75\" y=\"-8.45\" font-family=\"Times,serif\" font-size=\"14.00\">μ=12.000</text>\n",
       "<polyline fill=\"none\" stroke=\"#4a4a4a\" points=\"312,-0.5 312,-25.75\"/>\n",
       "<text text-anchor=\"middle\" x=\"351.12\" y=\"-8.45\" font-family=\"Times,serif\" font-size=\"14.00\">σ=0.900</text>\n",
       "</a>\n",
       "</g>\n",
       "</g>\n",
       "<!-- D&#45;&gt;E -->\n",
       "<g id=\"edge6\" class=\"edge\">\n",
       "<title>D-&gt;E</title>\n",
       "<g id=\"a_edge6\"><a xlink:title=\"(4, 5) : \">\n",
       "<path fill=\"none\" stroke=\"#4a4a4a\" d=\"M307.88,-87.52C307.88,-79.81 307.88,-71.14 307.88,-62.82\"/>\n",
       "<polygon fill=\"#4a4a4a\" stroke=\"#4a4a4a\" points=\"311.38,-62.94 307.88,-52.94 304.38,-62.94 311.38,-62.94\"/>\n",
       "</a>\n",
       "</g>\n",
       "</g>\n",
       "</g>\n",
       "</svg><br><small><i>First inference</i></small></div></td><td style=\"border-top:hidden;border-bottom:hidden;vertical-align:middle;\"><div align=\"center\" style=\"vertical-align:middle;\"><svg xmlns=\"http://www.w3.org/2000/svg\" xmlns:xlink=\"http://www.w3.org/1999/xlink\" width=\"347pt\" height=\"360pt\" viewBox=\"0.00 0.00 347.47 360.00\">\n",
       "<g id=\"graph0\" class=\"graph\" transform=\"scale(0.879121 0.879121) rotate(0) translate(4 405.5)\">\n",
       "<title>G</title>\n",
       "<!-- A -->\n",
       "<g id=\"node1\" class=\"node\">\n",
       "<title>A</title>\n",
       "<g id=\"a_node1\"><a xlink:title=\"(0) A\">\n",
       "<path fill=\"darkseagreen\" stroke=\"#4a4a4a\" d=\"M12,-263C12,-263 143.75,-263 143.75,-263 149.75,-263 155.75,-269 155.75,-275 155.75,-275 155.75,-301.5 155.75,-301.5 155.75,-307.5 149.75,-313.5 143.75,-313.5 143.75,-313.5 12,-313.5 12,-313.5 6,-313.5 0,-307.5 0,-301.5 0,-301.5 0,-275 0,-275 0,-269 6,-263 12,-263\"/>\n",
       "<text text-anchor=\"middle\" x=\"77.88\" y=\"-296.2\" font-family=\"Times,serif\" font-size=\"14.00\">A</text>\n",
       "<polyline fill=\"none\" stroke=\"#4a4a4a\" points=\"0,-288.25 155.75,-288.25\"/>\n",
       "<text text-anchor=\"middle\" x=\"38.75\" y=\"-270.95\" font-family=\"Times,serif\" font-size=\"14.00\">μ=0.511</text>\n",
       "<polyline fill=\"none\" stroke=\"#4a4a4a\" points=\"77.5,-263 77.5,-288.25\"/>\n",
       "<text text-anchor=\"middle\" x=\"116.62\" y=\"-270.95\" font-family=\"Times,serif\" font-size=\"14.00\">σ=0.259</text>\n",
       "</a>\n",
       "</g>\n",
       "</g>\n",
       "<!-- C -->\n",
       "<g id=\"node4\" class=\"node\">\n",
       "<title>C</title>\n",
       "<g id=\"a_node4\"><a xlink:title=\"(3) C\">\n",
       "<path fill=\"darkseagreen\" stroke=\"#4a4a4a\" d=\"M186,-175.5C186,-175.5 317.75,-175.5 317.75,-175.5 323.75,-175.5 329.75,-181.5 329.75,-187.5 329.75,-187.5 329.75,-214 329.75,-214 329.75,-220 323.75,-226 317.75,-226 317.75,-226 186,-226 186,-226 180,-226 174,-220 174,-214 174,-214 174,-187.5 174,-187.5 174,-181.5 180,-175.5 186,-175.5\"/>\n",
       "<text text-anchor=\"middle\" x=\"251.88\" y=\"-208.7\" font-family=\"Times,serif\" font-size=\"14.00\">C</text>\n",
       "<polyline fill=\"none\" stroke=\"#4a4a4a\" points=\"174,-200.75 329.75,-200.75\"/>\n",
       "<text text-anchor=\"middle\" x=\"212.75\" y=\"-183.45\" font-family=\"Times,serif\" font-size=\"14.00\">μ=3.858</text>\n",
       "<polyline fill=\"none\" stroke=\"#4a4a4a\" points=\"251.5,-175.5 251.5,-200.75\"/>\n",
       "<text text-anchor=\"middle\" x=\"290.62\" y=\"-183.45\" font-family=\"Times,serif\" font-size=\"14.00\">σ=0.566</text>\n",
       "</a>\n",
       "</g>\n",
       "</g>\n",
       "<!-- A&#45;&gt;C -->\n",
       "<g id=\"edge3\" class=\"edge\">\n",
       "<title>A-&gt;C</title>\n",
       "<g id=\"a_edge3\"><a xlink:title=\"(0, 3) : \">\n",
       "<path fill=\"none\" stroke=\"#4a4a4a\" d=\"M128.2,-262.52C147.95,-252.82 170.79,-241.6 191.42,-231.46\"/>\n",
       "<polygon fill=\"#4a4a4a\" stroke=\"#4a4a4a\" points=\"192.87,-234.64 200.3,-227.09 189.78,-228.36 192.87,-234.64\"/>\n",
       "</a>\n",
       "</g>\n",
       "</g>\n",
       "<!-- F -->\n",
       "<g id=\"node2\" class=\"node\">\n",
       "<title>F</title>\n",
       "<g id=\"a_node2\"><a xlink:title=\"(1) F\">\n",
       "<path fill=\"sandybrown\" stroke=\"#4a4a4a\" d=\"M239,-350.5C239,-350.5 370.75,-350.5 370.75,-350.5 376.75,-350.5 382.75,-356.5 382.75,-362.5 382.75,-362.5 382.75,-389 382.75,-389 382.75,-395 376.75,-401 370.75,-401 370.75,-401 239,-401 239,-401 233,-401 227,-395 227,-389 227,-389 227,-362.5 227,-362.5 227,-356.5 233,-350.5 239,-350.5\"/>\n",
       "<text text-anchor=\"middle\" x=\"304.88\" y=\"-383.7\" font-family=\"Times,serif\" font-size=\"14.00\">F</text>\n",
       "<polyline fill=\"none\" stroke=\"#4a4a4a\" points=\"227,-375.75 382.75,-375.75\"/>\n",
       "<text text-anchor=\"middle\" x=\"265.75\" y=\"-358.45\" font-family=\"Times,serif\" font-size=\"14.00\">μ=1.000</text>\n",
       "<polyline fill=\"none\" stroke=\"#4a4a4a\" points=\"304.5,-350.5 304.5,-375.75\"/>\n",
       "<text text-anchor=\"middle\" x=\"343.62\" y=\"-358.45\" font-family=\"Times,serif\" font-size=\"14.00\">σ=0.000</text>\n",
       "</a>\n",
       "</g>\n",
       "</g>\n",
       "<!-- B -->\n",
       "<g id=\"node3\" class=\"node\">\n",
       "<title>B</title>\n",
       "<g id=\"a_node3\"><a xlink:title=\"(2) B\">\n",
       "<path fill=\"darkseagreen\" stroke=\"#4a4a4a\" d=\"M186,-263C186,-263 317.75,-263 317.75,-263 323.75,-263 329.75,-269 329.75,-275 329.75,-275 329.75,-301.5 329.75,-301.5 329.75,-307.5 323.75,-313.5 317.75,-313.5 317.75,-313.5 186,-313.5 186,-313.5 180,-313.5 174,-307.5 174,-301.5 174,-301.5 174,-275 174,-275 174,-269 180,-263 186,-263\"/>\n",
       "<text text-anchor=\"middle\" x=\"251.88\" y=\"-296.2\" font-family=\"Times,serif\" font-size=\"14.00\">B</text>\n",
       "<polyline fill=\"none\" stroke=\"#4a4a4a\" points=\"174,-288.25 329.75,-288.25\"/>\n",
       "<text text-anchor=\"middle\" x=\"212.75\" y=\"-270.95\" font-family=\"Times,serif\" font-size=\"14.00\">μ=1.208</text>\n",
       "<polyline fill=\"none\" stroke=\"#4a4a4a\" points=\"251.5,-263 251.5,-288.25\"/>\n",
       "<text text-anchor=\"middle\" x=\"290.62\" y=\"-270.95\" font-family=\"Times,serif\" font-size=\"14.00\">σ=0.278</text>\n",
       "</a>\n",
       "</g>\n",
       "</g>\n",
       "<!-- F&#45;&gt;B -->\n",
       "<g id=\"edge1\" class=\"edge\">\n",
       "<title>F-&gt;B</title>\n",
       "<g id=\"a_edge1\"><a xlink:title=\"(1, 2) : \">\n",
       "<path fill=\"none\" stroke=\"#4a4a4a\" d=\"M289.55,-350.02C284.44,-341.78 278.65,-332.44 273.17,-323.61\"/>\n",
       "<polygon fill=\"#4a4a4a\" stroke=\"#4a4a4a\" points=\"276.21,-321.87 267.97,-315.21 270.26,-325.55 276.21,-321.87\"/>\n",
       "</a>\n",
       "</g>\n",
       "</g>\n",
       "<!-- D -->\n",
       "<g id=\"node5\" class=\"node\">\n",
       "<title>D</title>\n",
       "<g id=\"a_node5\"><a xlink:title=\"(4) D\">\n",
       "<path fill=\"sandybrown\" stroke=\"#4a4a4a\" d=\"M239,-88C239,-88 370.75,-88 370.75,-88 376.75,-88 382.75,-94 382.75,-100 382.75,-100 382.75,-126.5 382.75,-126.5 382.75,-132.5 376.75,-138.5 370.75,-138.5 370.75,-138.5 239,-138.5 239,-138.5 233,-138.5 227,-132.5 227,-126.5 227,-126.5 227,-100 227,-100 227,-94 233,-88 239,-88\"/>\n",
       "<text text-anchor=\"middle\" x=\"304.88\" y=\"-121.2\" font-family=\"Times,serif\" font-size=\"14.00\">D</text>\n",
       "<polyline fill=\"none\" stroke=\"#4a4a4a\" points=\"227,-113.25 382.75,-113.25\"/>\n",
       "<text text-anchor=\"middle\" x=\"265.75\" y=\"-95.95\" font-family=\"Times,serif\" font-size=\"14.00\">μ=3.000</text>\n",
       "<polyline fill=\"none\" stroke=\"#4a4a4a\" points=\"304.5,-88 304.5,-113.25\"/>\n",
       "<text text-anchor=\"middle\" x=\"343.62\" y=\"-95.95\" font-family=\"Times,serif\" font-size=\"14.00\">σ=0.000</text>\n",
       "</a>\n",
       "</g>\n",
       "</g>\n",
       "<!-- F&#45;&gt;D -->\n",
       "<g id=\"edge4\" class=\"edge\">\n",
       "<title>F-&gt;D</title>\n",
       "<g id=\"a_edge4\"><a xlink:title=\"(1, 4) : \">\n",
       "<path fill=\"none\" stroke=\"#4a4a4a\" d=\"M322.34,-350.27C328.89,-339.65 335.55,-326.75 338.88,-314 354.47,-254.22 354.47,-234.78 338.88,-175 336.51,-165.94 332.46,-156.79 327.97,-148.45\"/>\n",
       "<polygon fill=\"#4a4a4a\" stroke=\"#4a4a4a\" points=\"331.14,-146.94 323.1,-140.04 325.08,-150.45 331.14,-146.94\"/>\n",
       "</a>\n",
       "</g>\n",
       "</g>\n",
       "<!-- B&#45;&gt;C -->\n",
       "<g id=\"edge5\" class=\"edge\">\n",
       "<title>B-&gt;C</title>\n",
       "<g id=\"a_edge5\"><a xlink:title=\"(2, 3) : \">\n",
       "<path fill=\"none\" stroke=\"#4a4a4a\" d=\"M251.88,-262.52C251.88,-254.81 251.88,-246.14 251.88,-237.82\"/>\n",
       "<polygon fill=\"#4a4a4a\" stroke=\"#4a4a4a\" points=\"255.38,-237.94 251.88,-227.94 248.38,-237.94 255.38,-237.94\"/>\n",
       "</a>\n",
       "</g>\n",
       "</g>\n",
       "<!-- C&#45;&gt;D -->\n",
       "<g id=\"edge2\" class=\"edge\">\n",
       "<title>C-&gt;D</title>\n",
       "<g id=\"a_edge2\"><a xlink:title=\"(3, 4) : \">\n",
       "<path fill=\"none\" stroke=\"#4a4a4a\" d=\"M267.2,-175.02C272.31,-166.78 278.1,-157.44 283.58,-148.61\"/>\n",
       "<polygon fill=\"#4a4a4a\" stroke=\"#4a4a4a\" points=\"286.49,-150.55 288.78,-140.21 280.54,-146.87 286.49,-150.55\"/>\n",
       "</a>\n",
       "</g>\n",
       "</g>\n",
       "<!-- E -->\n",
       "<g id=\"node6\" class=\"node\">\n",
       "<title>E</title>\n",
       "<g id=\"a_node6\"><a xlink:title=\"(5) E\">\n",
       "<path fill=\"darkseagreen\" stroke=\"#4a4a4a\" d=\"M234.5,-0.5C234.5,-0.5 375.25,-0.5 375.25,-0.5 381.25,-0.5 387.25,-6.5 387.25,-12.5 387.25,-12.5 387.25,-39 387.25,-39 387.25,-45 381.25,-51 375.25,-51 375.25,-51 234.5,-51 234.5,-51 228.5,-51 222.5,-45 222.5,-39 222.5,-39 222.5,-12.5 222.5,-12.5 222.5,-6.5 228.5,-0.5 234.5,-0.5\"/>\n",
       "<text text-anchor=\"middle\" x=\"304.88\" y=\"-33.7\" font-family=\"Times,serif\" font-size=\"14.00\">E</text>\n",
       "<polyline fill=\"none\" stroke=\"#4a4a4a\" points=\"222.5,-25.75 387.25,-25.75\"/>\n",
       "<text text-anchor=\"middle\" x=\"265.75\" y=\"-8.45\" font-family=\"Times,serif\" font-size=\"14.00\">μ=12.000</text>\n",
       "<polyline fill=\"none\" stroke=\"#4a4a4a\" points=\"309,-0.5 309,-25.75\"/>\n",
       "<text text-anchor=\"middle\" x=\"348.12\" y=\"-8.45\" font-family=\"Times,serif\" font-size=\"14.00\">σ=0.900</text>\n",
       "</a>\n",
       "</g>\n",
       "</g>\n",
       "<!-- D&#45;&gt;E -->\n",
       "<g id=\"edge6\" class=\"edge\">\n",
       "<title>D-&gt;E</title>\n",
       "<g id=\"a_edge6\"><a xlink:title=\"(4, 5) : \">\n",
       "<path fill=\"none\" stroke=\"#4a4a4a\" d=\"M304.88,-87.52C304.88,-79.81 304.88,-71.14 304.88,-62.82\"/>\n",
       "<polygon fill=\"#4a4a4a\" stroke=\"#4a4a4a\" points=\"308.38,-62.94 304.88,-52.94 301.38,-62.94 308.38,-62.94\"/>\n",
       "</a>\n",
       "</g>\n",
       "</g>\n",
       "</g>\n",
       "</svg><br><small><i>Second inference</i></small></div></td></tr></table>"
      ],
      "text/plain": [
       "<IPython.core.display.HTML object>"
      ]
     },
     "metadata": {},
     "output_type": "display_data"
    }
   ],
   "source": [
    "gnb.sideBySide(model2,gclgnb.getInference(model2,evs={\"D\":3},size=\"3!\"),gclgnb.getInference(model2,evs={\"D\":3,\"F\":1}),\n",
    "              captions=[\"The CLG\",\"First inference\",\"Second inference\"])"
   ]
  },
  {
   "cell_type": "markdown",
   "metadata": {
    "editable": true,
    "slideshow": {
     "slide_type": ""
    },
    "tags": []
   },
   "source": [
    "### Approximated inference : MonteCarlo Sampling\n",
    "\n",
    "When the model is too complex for exact infernece, we can use forward sampling to generate 5000 samples from the original CLG model. "
   ]
  },
  {
   "cell_type": "code",
   "execution_count": 10,
   "metadata": {
    "editable": true,
    "execution": {
     "iopub.execute_input": "2024-06-10T20:42:53.105880Z",
     "iopub.status.busy": "2024-06-10T20:42:53.105310Z",
     "iopub.status.idle": "2024-06-10T20:42:53.227827Z",
     "shell.execute_reply": "2024-06-10T20:42:53.226619Z",
     "shell.execute_reply.started": "2024-06-10T20:42:53.105835Z"
    },
    "slideshow": {
     "slide_type": ""
    },
    "tags": []
   },
   "outputs": [],
   "source": [
    "fs = gclg.ForwardSampling(model2)\n",
    "fs.makeSample(5000).tocsv(\"./out/model2.csv\")"
   ]
  },
  {
   "cell_type": "markdown",
   "metadata": {
    "editable": true,
    "slideshow": {
     "slide_type": ""
    },
    "tags": []
   },
   "source": [
    "We will use the generated database to do learning. But before, we can also compute posterior but without evidence :"
   ]
  },
  {
   "cell_type": "code",
   "execution_count": 11,
   "metadata": {
    "editable": true,
    "execution": {
     "iopub.execute_input": "2024-06-10T20:42:55.797581Z",
     "iopub.status.busy": "2024-06-10T20:42:55.796969Z",
     "iopub.status.idle": "2024-06-10T20:42:55.819194Z",
     "shell.execute_reply": "2024-06-10T20:42:55.817508Z",
     "shell.execute_reply.started": "2024-06-10T20:42:55.797535Z"
    },
    "slideshow": {
     "slide_type": ""
    },
    "tags": []
   },
   "outputs": [
    {
     "name": "stdout",
     "output_type": "stream",
     "text": [
      "| 'Exact' inference                        | Results from sampling                    |\n",
      "|------------------------------------------|------------------------------------------|\n",
      "| A:4.499999999999998[0.3]                 | A:4.493815240501512[0.29962178345714485] |\n",
      "| F:7.000000000000008[0.5000000000000002]  | F:6.993269126625397[0.497871734609186]   |\n",
      "| B:11.399999999999999[0.6708203932499367] | B:11.39920430082838[0.6714764261820806]  |\n",
      "| C:35.099999999999994[1.3162446581088183] | C:35.096353488584434[1.3040305382220443] |\n",
      "| D:51.10000000000002[1.8364367672206963]  | D:51.08961959831048[1.8193016154513408]  |\n",
      "| E:60.100000000000016[2.0451161336217565] | E:60.0895086075922[2.0186192381921075]   |\n"
     ]
    }
   ],
   "source": [
    "ie=gclg.CLGVariableElimination(model2)\n",
    "print(\"| 'Exact' inference                        | Results from sampling                    |\")\n",
    "print(\"|------------------------------------------|------------------------------------------|\")\n",
    "for i in model2.names():\n",
    "    print(f\"| {str(ie.posterior(i)):40} | {str(gclg.GaussianVariable(i,fs.mean_sample(i),fs.stddev_sample(i))):40} |\")"
   ]
  },
  {
   "attachments": {},
   "cell_type": "markdown",
   "metadata": {
    "editable": true,
    "slideshow": {
     "slide_type": ""
    },
    "tags": []
   },
   "source": [
    "Now with the generated database and the original model, we can calculate the log-likelihood of the model."
   ]
  },
  {
   "cell_type": "code",
   "execution_count": 12,
   "metadata": {
    "editable": true,
    "execution": {
     "iopub.execute_input": "2024-06-10T20:42:58.433918Z",
     "iopub.status.busy": "2024-06-10T20:42:58.433135Z",
     "iopub.status.idle": "2024-06-10T20:43:08.958898Z",
     "shell.execute_reply": "2024-06-10T20:43:08.958272Z",
     "shell.execute_reply.started": "2024-06-10T20:42:58.433818Z"
    },
    "slideshow": {
     "slide_type": ""
    },
    "tags": []
   },
   "outputs": [
    {
     "name": "stdout",
     "output_type": "stream",
     "text": [
      "log-likelihood w.r.t orignal model :  -22088.16845826671\n"
     ]
    }
   ],
   "source": [
    "print(\"log-likelihood w.r.t orignal model : \", model2.logLikelihood(\"./out/model2.csv\"))"
   ]
  },
  {
   "cell_type": "markdown",
   "metadata": {
    "editable": true,
    "execution": {
     "iopub.execute_input": "2023-09-01T08:55:32.632682Z",
     "iopub.status.busy": "2023-09-01T08:55:32.632177Z",
     "iopub.status.idle": "2023-09-01T08:55:32.637971Z",
     "shell.execute_reply": "2023-09-01T08:55:32.636782Z",
     "shell.execute_reply.started": "2023-09-01T08:55:32.632641Z"
    },
    "slideshow": {
     "slide_type": ""
    },
    "tags": []
   },
   "source": [
    "## Learning a CLG from data"
   ]
  },
  {
   "attachments": {},
   "cell_type": "markdown",
   "metadata": {
    "editable": true,
    "slideshow": {
     "slide_type": ""
    },
    "tags": []
   },
   "source": [
    "Use the generated database to do our RAvel Learning. This part needs some time to run."
   ]
  },
  {
   "cell_type": "code",
   "execution_count": 13,
   "metadata": {
    "editable": true,
    "execution": {
     "iopub.execute_input": "2024-06-10T20:43:08.959913Z",
     "iopub.status.busy": "2024-06-10T20:43:08.959801Z",
     "iopub.status.idle": "2024-06-10T20:43:08.967784Z",
     "shell.execute_reply": "2024-06-10T20:43:08.967266Z",
     "shell.execute_reply.started": "2024-06-10T20:43:08.959903Z"
    },
    "slideshow": {
     "slide_type": ""
    },
    "tags": []
   },
   "outputs": [],
   "source": [
    "# RAveL learning\n",
    "learner = gclg.CLGLearner(\"./out/model2.csv\")"
   ]
  },
  {
   "attachments": {},
   "cell_type": "markdown",
   "metadata": {
    "editable": true,
    "slideshow": {
     "slide_type": ""
    },
    "tags": []
   },
   "source": [
    "We can get the learned_clg model with function learn_clg() which contains structure learning and parameter estimation."
   ]
  },
  {
   "cell_type": "code",
   "execution_count": 14,
   "metadata": {
    "editable": true,
    "execution": {
     "iopub.execute_input": "2024-06-10T20:43:08.968339Z",
     "iopub.status.busy": "2024-06-10T20:43:08.968243Z",
     "iopub.status.idle": "2024-06-10T20:43:19.344841Z",
     "shell.execute_reply": "2024-06-10T20:43:19.344103Z",
     "shell.execute_reply.started": "2024-06-10T20:43:08.968329Z"
    },
    "slideshow": {
     "slide_type": ""
    },
    "tags": []
   },
   "outputs": [
    {
     "data": {
      "text/html": [
       "<table style=\"border-style: hidden; border-collapse: collapse;\" width=\"100%\"><tr><td style=\"border-top:hidden;border-bottom:hidden;vertical-align:middle;\"><div align=\"center\" style=\"vertical-align:middle;\"><svg xmlns=\"http://www.w3.org/2000/svg\" xmlns:xlink=\"http://www.w3.org/1999/xlink\" width=\"292pt\" height=\"360pt\" viewBox=\"0.00 0.00 292.15 360.00\">\n",
       "<g id=\"graph0\" class=\"graph\" transform=\"scale(0.747664 0.747664) rotate(0) translate(4 477.5)\">\n",
       "<title>G</title>\n",
       "<!-- A -->\n",
       "<g id=\"node1\" class=\"node\">\n",
       "<title>A</title>\n",
       "<g id=\"a_node1\"><a xlink:title=\"(0) A\">\n",
       "<path fill=\"#404040\" stroke=\"#4a4a4a\" d=\"M12,-317C12,-317 143.75,-317 143.75,-317 149.75,-317 155.75,-323 155.75,-329 155.75,-329 155.75,-355.5 155.75,-355.5 155.75,-361.5 149.75,-367.5 143.75,-367.5 143.75,-367.5 12,-367.5 12,-367.5 6,-367.5 0,-361.5 0,-355.5 0,-355.5 0,-329 0,-329 0,-323 6,-317 12,-317\"/>\n",
       "<text text-anchor=\"middle\" x=\"77.88\" y=\"-350.2\" font-family=\"Times,serif\" font-size=\"14.00\" fill=\"white\">A</text>\n",
       "<polyline fill=\"none\" stroke=\"#4a4a4a\" points=\"0,-342.25 155.75,-342.25\"/>\n",
       "<text text-anchor=\"middle\" x=\"38.75\" y=\"-324.95\" font-family=\"Times,serif\" font-size=\"14.00\" fill=\"white\">μ=4.500</text>\n",
       "<polyline fill=\"none\" stroke=\"#4a4a4a\" points=\"77.5,-317 77.5,-342.25\"/>\n",
       "<text text-anchor=\"middle\" x=\"116.62\" y=\"-324.95\" font-family=\"Times,serif\" font-size=\"14.00\" fill=\"white\">σ=0.300</text>\n",
       "</a>\n",
       "</g>\n",
       "</g>\n",
       "<!-- C -->\n",
       "<g id=\"node4\" class=\"node\">\n",
       "<title>C</title>\n",
       "<g id=\"a_node4\"><a xlink:title=\"(3) C\">\n",
       "<path fill=\"#404040\" stroke=\"#4a4a4a\" d=\"M186,-211.5C186,-211.5 317.75,-211.5 317.75,-211.5 323.75,-211.5 329.75,-217.5 329.75,-223.5 329.75,-223.5 329.75,-250 329.75,-250 329.75,-256 323.75,-262 317.75,-262 317.75,-262 186,-262 186,-262 180,-262 174,-256 174,-250 174,-250 174,-223.5 174,-223.5 174,-217.5 180,-211.5 186,-211.5\"/>\n",
       "<text text-anchor=\"middle\" x=\"251.88\" y=\"-244.7\" font-family=\"Times,serif\" font-size=\"14.00\" fill=\"white\">C</text>\n",
       "<polyline fill=\"none\" stroke=\"#4a4a4a\" points=\"174,-236.75 329.75,-236.75\"/>\n",
       "<text text-anchor=\"middle\" x=\"212.75\" y=\"-219.45\" font-family=\"Times,serif\" font-size=\"14.00\" fill=\"white\">μ=9.000</text>\n",
       "<polyline fill=\"none\" stroke=\"#4a4a4a\" points=\"251.5,-211.5 251.5,-236.75\"/>\n",
       "<text text-anchor=\"middle\" x=\"290.62\" y=\"-219.45\" font-family=\"Times,serif\" font-size=\"14.00\" fill=\"white\">σ=0.600</text>\n",
       "</a>\n",
       "</g>\n",
       "</g>\n",
       "<!-- A&#45;&gt;C -->\n",
       "<g id=\"edge3\" class=\"edge\">\n",
       "<title>A-&gt;C</title>\n",
       "<g id=\"a_edge3\"><a xlink:title=\"(0, 3) : \">\n",
       "<path fill=\"none\" stroke=\"#4a4a4a\" d=\"M119.11,-316.72C143.53,-302.2 174.67,-283.68 200.65,-268.22\"/>\n",
       "<polygon fill=\"#4a4a4a\" stroke=\"#4a4a4a\" points=\"202.23,-271.35 209.03,-263.23 198.65,-265.34 202.23,-271.35\"/>\n",
       "</a>\n",
       "</g>\n",
       "<text text-anchor=\"middle\" x=\"192.75\" y=\"-284.25\" font-family=\"Times,serif\" font-size=\"15.00\">2.00</text>\n",
       "</g>\n",
       "<!-- F -->\n",
       "<g id=\"node2\" class=\"node\">\n",
       "<title>F</title>\n",
       "<g id=\"a_node2\"><a xlink:title=\"(1) F\">\n",
       "<path fill=\"#404040\" stroke=\"#4a4a4a\" d=\"M239,-422.5C239,-422.5 370.75,-422.5 370.75,-422.5 376.75,-422.5 382.75,-428.5 382.75,-434.5 382.75,-434.5 382.75,-461 382.75,-461 382.75,-467 376.75,-473 370.75,-473 370.75,-473 239,-473 239,-473 233,-473 227,-467 227,-461 227,-461 227,-434.5 227,-434.5 227,-428.5 233,-422.5 239,-422.5\"/>\n",
       "<text text-anchor=\"middle\" x=\"304.88\" y=\"-455.7\" font-family=\"Times,serif\" font-size=\"14.00\" fill=\"white\">F</text>\n",
       "<polyline fill=\"none\" stroke=\"#4a4a4a\" points=\"227,-447.75 382.75,-447.75\"/>\n",
       "<text text-anchor=\"middle\" x=\"265.75\" y=\"-430.45\" font-family=\"Times,serif\" font-size=\"14.00\" fill=\"white\">μ=7.000</text>\n",
       "<polyline fill=\"none\" stroke=\"#4a4a4a\" points=\"304.5,-422.5 304.5,-447.75\"/>\n",
       "<text text-anchor=\"middle\" x=\"343.62\" y=\"-430.45\" font-family=\"Times,serif\" font-size=\"14.00\" fill=\"white\">σ=0.500</text>\n",
       "</a>\n",
       "</g>\n",
       "</g>\n",
       "<!-- B -->\n",
       "<g id=\"node3\" class=\"node\">\n",
       "<title>B</title>\n",
       "<g id=\"a_node3\"><a xlink:title=\"(2) B\">\n",
       "<path fill=\"#404040\" stroke=\"#4a4a4a\" d=\"M186,-317C186,-317 317.75,-317 317.75,-317 323.75,-317 329.75,-323 329.75,-329 329.75,-329 329.75,-355.5 329.75,-355.5 329.75,-361.5 323.75,-367.5 317.75,-367.5 317.75,-367.5 186,-367.5 186,-367.5 180,-367.5 174,-361.5 174,-355.5 174,-355.5 174,-329 174,-329 174,-323 180,-317 186,-317\"/>\n",
       "<text text-anchor=\"middle\" x=\"251.88\" y=\"-350.2\" font-family=\"Times,serif\" font-size=\"14.00\" fill=\"white\">B</text>\n",
       "<polyline fill=\"none\" stroke=\"#4a4a4a\" points=\"174,-342.25 329.75,-342.25\"/>\n",
       "<text text-anchor=\"middle\" x=\"212.75\" y=\"-324.95\" font-family=\"Times,serif\" font-size=\"14.00\" fill=\"white\">μ=3.000</text>\n",
       "<polyline fill=\"none\" stroke=\"#4a4a4a\" points=\"251.5,-317 251.5,-342.25\"/>\n",
       "<text text-anchor=\"middle\" x=\"290.62\" y=\"-324.95\" font-family=\"Times,serif\" font-size=\"14.00\" fill=\"white\">σ=0.300</text>\n",
       "</a>\n",
       "</g>\n",
       "</g>\n",
       "<!-- F&#45;&gt;B -->\n",
       "<g id=\"edge1\" class=\"edge\">\n",
       "<title>F-&gt;B</title>\n",
       "<g id=\"a_edge1\"><a xlink:title=\"(1, 2) : \">\n",
       "<path fill=\"none\" stroke=\"#4a4a4a\" d=\"M292.31,-422.22C285.57,-409.04 277.13,-392.57 269.71,-378.08\"/>\n",
       "<polygon fill=\"#4a4a4a\" stroke=\"#4a4a4a\" points=\"272.89,-376.61 265.22,-369.31 266.66,-379.8 272.89,-376.61\"/>\n",
       "</a>\n",
       "</g>\n",
       "<text text-anchor=\"middle\" x=\"297.75\" y=\"-389.75\" font-family=\"Times,serif\" font-size=\"15.00\">1.20</text>\n",
       "</g>\n",
       "<!-- D -->\n",
       "<g id=\"node5\" class=\"node\">\n",
       "<title>D</title>\n",
       "<g id=\"a_node5\"><a xlink:title=\"(4) D\">\n",
       "<path fill=\"#404040\" stroke=\"#4a4a4a\" d=\"M239,-106C239,-106 370.75,-106 370.75,-106 376.75,-106 382.75,-112 382.75,-118 382.75,-118 382.75,-144.5 382.75,-144.5 382.75,-150.5 376.75,-156.5 370.75,-156.5 370.75,-156.5 239,-156.5 239,-156.5 233,-156.5 227,-150.5 227,-144.5 227,-144.5 227,-118 227,-118 227,-112 233,-106 239,-106\"/>\n",
       "<text text-anchor=\"middle\" x=\"304.88\" y=\"-139.2\" font-family=\"Times,serif\" font-size=\"14.00\" fill=\"white\">D</text>\n",
       "<polyline fill=\"none\" stroke=\"#4a4a4a\" points=\"227,-131.25 382.75,-131.25\"/>\n",
       "<text text-anchor=\"middle\" x=\"265.75\" y=\"-113.95\" font-family=\"Times,serif\" font-size=\"14.00\" fill=\"white\">μ=9.000</text>\n",
       "<polyline fill=\"none\" stroke=\"#4a4a4a\" points=\"304.5,-106 304.5,-131.25\"/>\n",
       "<text text-anchor=\"middle\" x=\"343.62\" y=\"-113.95\" font-family=\"Times,serif\" font-size=\"14.00\" fill=\"white\">σ=0.700</text>\n",
       "</a>\n",
       "</g>\n",
       "</g>\n",
       "<!-- F&#45;&gt;D -->\n",
       "<g id=\"edge4\" class=\"edge\">\n",
       "<title>F-&gt;D</title>\n",
       "<g id=\"a_edge4\"><a xlink:title=\"(1, 4) : \">\n",
       "<path fill=\"none\" stroke=\"#4a4a4a\" d=\"M318.63,-422.08C326.25,-406.97 334.96,-386.96 338.88,-368 353,-299.67 353,-279.33 338.88,-211 335.78,-196.04 329.71,-180.43 323.54,-167.08\"/>\n",
       "<polygon fill=\"#4a4a4a\" stroke=\"#4a4a4a\" points=\"326.79,-165.77 319.29,-158.29 320.49,-168.81 326.79,-165.77\"/>\n",
       "</a>\n",
       "</g>\n",
       "<text text-anchor=\"middle\" x=\"365.75\" y=\"-284.25\" font-family=\"Times,serif\" font-size=\"15.00\">1.00</text>\n",
       "</g>\n",
       "<!-- B&#45;&gt;C -->\n",
       "<g id=\"edge5\" class=\"edge\">\n",
       "<title>B-&gt;C</title>\n",
       "<g id=\"a_edge5\"><a xlink:title=\"(2, 3) : \">\n",
       "<path fill=\"none\" stroke=\"#4a4a4a\" d=\"M251.88,-316.72C251.88,-303.93 251.88,-288.03 251.88,-273.85\"/>\n",
       "<polygon fill=\"#4a4a4a\" stroke=\"#4a4a4a\" points=\"255.38,-273.97 251.88,-263.97 248.38,-273.97 255.38,-273.97\"/>\n",
       "</a>\n",
       "</g>\n",
       "<text text-anchor=\"middle\" x=\"268.75\" y=\"-284.25\" font-family=\"Times,serif\" font-size=\"15.00\">1.50</text>\n",
       "</g>\n",
       "<!-- C&#45;&gt;D -->\n",
       "<g id=\"edge2\" class=\"edge\">\n",
       "<title>C-&gt;D</title>\n",
       "<g id=\"a_edge2\"><a xlink:title=\"(3, 4) : \">\n",
       "<path fill=\"none\" stroke=\"#4a4a4a\" d=\"M264.44,-211.22C271.18,-198.04 279.62,-181.57 287.04,-167.08\"/>\n",
       "<polygon fill=\"#4a4a4a\" stroke=\"#4a4a4a\" points=\"290.09,-168.8 291.53,-158.31 283.86,-165.61 290.09,-168.8\"/>\n",
       "</a>\n",
       "</g>\n",
       "<text text-anchor=\"middle\" x=\"297.75\" y=\"-178.75\" font-family=\"Times,serif\" font-size=\"15.00\">1.00</text>\n",
       "</g>\n",
       "<!-- E -->\n",
       "<g id=\"node6\" class=\"node\">\n",
       "<title>E</title>\n",
       "<g id=\"a_node6\"><a xlink:title=\"(5) E\">\n",
       "<path fill=\"#404040\" stroke=\"#4a4a4a\" d=\"M239,-0.5C239,-0.5 370.75,-0.5 370.75,-0.5 376.75,-0.5 382.75,-6.5 382.75,-12.5 382.75,-12.5 382.75,-39 382.75,-39 382.75,-45 376.75,-51 370.75,-51 370.75,-51 239,-51 239,-51 233,-51 227,-45 227,-39 227,-39 227,-12.5 227,-12.5 227,-6.5 233,-0.5 239,-0.5\"/>\n",
       "<text text-anchor=\"middle\" x=\"304.88\" y=\"-33.7\" font-family=\"Times,serif\" font-size=\"14.00\" fill=\"white\">E</text>\n",
       "<polyline fill=\"none\" stroke=\"#4a4a4a\" points=\"227,-25.75 382.75,-25.75\"/>\n",
       "<text text-anchor=\"middle\" x=\"265.75\" y=\"-8.45\" font-family=\"Times,serif\" font-size=\"14.00\" fill=\"white\">μ=9.000</text>\n",
       "<polyline fill=\"none\" stroke=\"#4a4a4a\" points=\"304.5,-0.5 304.5,-25.75\"/>\n",
       "<text text-anchor=\"middle\" x=\"343.62\" y=\"-8.45\" font-family=\"Times,serif\" font-size=\"14.00\" fill=\"white\">σ=0.900</text>\n",
       "</a>\n",
       "</g>\n",
       "</g>\n",
       "<!-- D&#45;&gt;E -->\n",
       "<g id=\"edge6\" class=\"edge\">\n",
       "<title>D-&gt;E</title>\n",
       "<g id=\"a_edge6\"><a xlink:title=\"(4, 5) : \">\n",
       "<path fill=\"none\" stroke=\"#4a4a4a\" d=\"M304.88,-105.72C304.88,-92.93 304.88,-77.03 304.88,-62.85\"/>\n",
       "<polygon fill=\"#4a4a4a\" stroke=\"#4a4a4a\" points=\"308.38,-62.97 304.88,-52.97 301.38,-62.97 308.38,-62.97\"/>\n",
       "</a>\n",
       "</g>\n",
       "<text text-anchor=\"middle\" x=\"321.75\" y=\"-73.25\" font-family=\"Times,serif\" font-size=\"15.00\">1.00</text>\n",
       "</g>\n",
       "</g>\n",
       "</svg><br><small><i>original CLG</i></small></div></td><td style=\"border-top:hidden;border-bottom:hidden;vertical-align:middle;\"><div align=\"center\" style=\"vertical-align:middle;\"><svg xmlns=\"http://www.w3.org/2000/svg\" xmlns:xlink=\"http://www.w3.org/1999/xlink\" width=\"360pt\" height=\"187pt\" viewBox=\"0.00 0.00 360.00 187.18\">\n",
       "<g id=\"graph0\" class=\"graph\" transform=\"scale(0.691975 0.691975) rotate(0) translate(4 266.5)\">\n",
       "<title>G</title>\n",
       "<!-- A -->\n",
       "<g id=\"node1\" class=\"node\">\n",
       "<title>A</title>\n",
       "<g id=\"a_node1\"><a xlink:title=\"(0) A\">\n",
       "<path fill=\"#404040\" stroke=\"#4a4a4a\" d=\"M12,-106C12,-106 143.75,-106 143.75,-106 149.75,-106 155.75,-112 155.75,-118 155.75,-118 155.75,-144.5 155.75,-144.5 155.75,-150.5 149.75,-156.5 143.75,-156.5 143.75,-156.5 12,-156.5 12,-156.5 6,-156.5 0,-150.5 0,-144.5 0,-144.5 0,-118 0,-118 0,-112 6,-106 12,-106\"/>\n",
       "<text text-anchor=\"middle\" x=\"77.88\" y=\"-139.2\" font-family=\"Times,serif\" font-size=\"14.00\" fill=\"white\">A</text>\n",
       "<polyline fill=\"none\" stroke=\"#4a4a4a\" points=\"0,-131.25 155.75,-131.25\"/>\n",
       "<text text-anchor=\"middle\" x=\"38.75\" y=\"-113.95\" font-family=\"Times,serif\" font-size=\"14.00\" fill=\"white\">μ=4.494</text>\n",
       "<polyline fill=\"none\" stroke=\"#4a4a4a\" points=\"77.5,-106 77.5,-131.25\"/>\n",
       "<text text-anchor=\"middle\" x=\"116.62\" y=\"-113.95\" font-family=\"Times,serif\" font-size=\"14.00\" fill=\"white\">σ=0.300</text>\n",
       "</a>\n",
       "</g>\n",
       "</g>\n",
       "<!-- C -->\n",
       "<g id=\"node4\" class=\"node\">\n",
       "<title>C</title>\n",
       "<g id=\"a_node4\"><a xlink:title=\"(3) C\">\n",
       "<path fill=\"#404040\" stroke=\"#4a4a4a\" d=\"M186,-0.5C186,-0.5 317.75,-0.5 317.75,-0.5 323.75,-0.5 329.75,-6.5 329.75,-12.5 329.75,-12.5 329.75,-39 329.75,-39 329.75,-45 323.75,-51 317.75,-51 317.75,-51 186,-51 186,-51 180,-51 174,-45 174,-39 174,-39 174,-12.5 174,-12.5 174,-6.5 180,-0.5 186,-0.5\"/>\n",
       "<text text-anchor=\"middle\" x=\"251.88\" y=\"-33.7\" font-family=\"Times,serif\" font-size=\"14.00\" fill=\"white\">C</text>\n",
       "<polyline fill=\"none\" stroke=\"#4a4a4a\" points=\"174,-25.75 329.75,-25.75\"/>\n",
       "<text text-anchor=\"middle\" x=\"212.75\" y=\"-8.45\" font-family=\"Times,serif\" font-size=\"14.00\" fill=\"white\">μ=2.078</text>\n",
       "<polyline fill=\"none\" stroke=\"#4a4a4a\" points=\"251.5,-0.5 251.5,-25.75\"/>\n",
       "<text text-anchor=\"middle\" x=\"290.62\" y=\"-8.45\" font-family=\"Times,serif\" font-size=\"14.00\" fill=\"white\">σ=0.466</text>\n",
       "</a>\n",
       "</g>\n",
       "</g>\n",
       "<!-- A&#45;&gt;C -->\n",
       "<g id=\"edge4\" class=\"edge\">\n",
       "<title>A-&gt;C</title>\n",
       "<g id=\"a_edge4\"><a xlink:title=\"(0, 3) : \">\n",
       "<path fill=\"none\" stroke=\"#4a4a4a\" d=\"M119.11,-105.72C143.53,-91.2 174.67,-72.68 200.65,-57.22\"/>\n",
       "<polygon fill=\"#4a4a4a\" stroke=\"#4a4a4a\" points=\"202.23,-60.35 209.03,-52.23 198.65,-54.34 202.23,-60.35\"/>\n",
       "</a>\n",
       "</g>\n",
       "<text text-anchor=\"middle\" x=\"191.75\" y=\"-73.25\" font-family=\"Times,serif\" font-size=\"15.00\">1.23</text>\n",
       "</g>\n",
       "<!-- F -->\n",
       "<g id=\"node2\" class=\"node\">\n",
       "<title>F</title>\n",
       "<g id=\"a_node2\"><a xlink:title=\"(1) F\">\n",
       "<path fill=\"#404040\" stroke=\"#4a4a4a\" d=\"M186,-211.5C186,-211.5 317.75,-211.5 317.75,-211.5 323.75,-211.5 329.75,-217.5 329.75,-223.5 329.75,-223.5 329.75,-250 329.75,-250 329.75,-256 323.75,-262 317.75,-262 317.75,-262 186,-262 186,-262 180,-262 174,-256 174,-250 174,-250 174,-223.5 174,-223.5 174,-217.5 180,-211.5 186,-211.5\"/>\n",
       "<text text-anchor=\"middle\" x=\"251.88\" y=\"-244.7\" font-family=\"Times,serif\" font-size=\"14.00\" fill=\"white\">F</text>\n",
       "<polyline fill=\"none\" stroke=\"#4a4a4a\" points=\"174,-236.75 329.75,-236.75\"/>\n",
       "<text text-anchor=\"middle\" x=\"212.75\" y=\"-219.45\" font-family=\"Times,serif\" font-size=\"14.00\" fill=\"white\">μ=6.993</text>\n",
       "<polyline fill=\"none\" stroke=\"#4a4a4a\" points=\"251.5,-211.5 251.5,-236.75\"/>\n",
       "<text text-anchor=\"middle\" x=\"290.62\" y=\"-219.45\" font-family=\"Times,serif\" font-size=\"14.00\" fill=\"white\">σ=0.498</text>\n",
       "</a>\n",
       "</g>\n",
       "</g>\n",
       "<!-- B -->\n",
       "<g id=\"node3\" class=\"node\">\n",
       "<title>B</title>\n",
       "<g id=\"a_node3\"><a xlink:title=\"(2) B\">\n",
       "<path fill=\"#404040\" stroke=\"#4a4a4a\" d=\"M186,-106C186,-106 317.75,-106 317.75,-106 323.75,-106 329.75,-112 329.75,-118 329.75,-118 329.75,-144.5 329.75,-144.5 329.75,-150.5 323.75,-156.5 317.75,-156.5 317.75,-156.5 186,-156.5 186,-156.5 180,-156.5 174,-150.5 174,-144.5 174,-144.5 174,-118 174,-118 174,-112 180,-106 186,-106\"/>\n",
       "<text text-anchor=\"middle\" x=\"251.88\" y=\"-139.2\" font-family=\"Times,serif\" font-size=\"14.00\" fill=\"white\">B</text>\n",
       "<polyline fill=\"none\" stroke=\"#4a4a4a\" points=\"174,-131.25 329.75,-131.25\"/>\n",
       "<text text-anchor=\"middle\" x=\"212.75\" y=\"-113.95\" font-family=\"Times,serif\" font-size=\"14.00\" fill=\"white\">μ=2.974</text>\n",
       "<polyline fill=\"none\" stroke=\"#4a4a4a\" points=\"251.5,-106 251.5,-131.25\"/>\n",
       "<text text-anchor=\"middle\" x=\"290.62\" y=\"-113.95\" font-family=\"Times,serif\" font-size=\"14.00\" fill=\"white\">σ=0.302</text>\n",
       "</a>\n",
       "</g>\n",
       "</g>\n",
       "<!-- F&#45;&gt;B -->\n",
       "<g id=\"edge1\" class=\"edge\">\n",
       "<title>F-&gt;B</title>\n",
       "<g id=\"a_edge1\"><a xlink:title=\"(1, 2) : \">\n",
       "<path fill=\"none\" stroke=\"#4a4a4a\" d=\"M251.88,-211.22C251.88,-198.43 251.88,-182.53 251.88,-168.35\"/>\n",
       "<polygon fill=\"#4a4a4a\" stroke=\"#4a4a4a\" points=\"255.38,-168.47 251.88,-158.47 248.38,-168.47 255.38,-168.47\"/>\n",
       "</a>\n",
       "</g>\n",
       "<text text-anchor=\"middle\" x=\"268.75\" y=\"-178.75\" font-family=\"Times,serif\" font-size=\"15.00\">1.20</text>\n",
       "</g>\n",
       "<!-- D -->\n",
       "<g id=\"node5\" class=\"node\">\n",
       "<title>D</title>\n",
       "<g id=\"a_node5\"><a xlink:title=\"(4) D\">\n",
       "<path fill=\"#404040\" stroke=\"#4a4a4a\" d=\"M360,-106C360,-106 491.75,-106 491.75,-106 497.75,-106 503.75,-112 503.75,-118 503.75,-118 503.75,-144.5 503.75,-144.5 503.75,-150.5 497.75,-156.5 491.75,-156.5 491.75,-156.5 360,-156.5 360,-156.5 354,-156.5 348,-150.5 348,-144.5 348,-144.5 348,-118 348,-118 348,-112 354,-106 360,-106\"/>\n",
       "<text text-anchor=\"middle\" x=\"425.88\" y=\"-139.2\" font-family=\"Times,serif\" font-size=\"14.00\" fill=\"white\">D</text>\n",
       "<polyline fill=\"none\" stroke=\"#4a4a4a\" points=\"348,-131.25 503.75,-131.25\"/>\n",
       "<text text-anchor=\"middle\" x=\"386.75\" y=\"-113.95\" font-family=\"Times,serif\" font-size=\"14.00\" fill=\"white\">μ=5.639</text>\n",
       "<polyline fill=\"none\" stroke=\"#4a4a4a\" points=\"425.5,-106 425.5,-131.25\"/>\n",
       "<text text-anchor=\"middle\" x=\"464.62\" y=\"-113.95\" font-family=\"Times,serif\" font-size=\"14.00\" fill=\"white\">σ=0.712</text>\n",
       "</a>\n",
       "</g>\n",
       "</g>\n",
       "<!-- F&#45;&gt;D -->\n",
       "<g id=\"edge5\" class=\"edge\">\n",
       "<title>F-&gt;D</title>\n",
       "<g id=\"a_edge5\"><a xlink:title=\"(1, 4) : \">\n",
       "<path fill=\"none\" stroke=\"#4a4a4a\" d=\"M293.11,-211.22C317.53,-196.7 348.67,-178.18 374.65,-162.72\"/>\n",
       "<polygon fill=\"#4a4a4a\" stroke=\"#4a4a4a\" points=\"376.23,-165.85 383.03,-157.73 372.65,-159.84 376.23,-165.85\"/>\n",
       "</a>\n",
       "</g>\n",
       "<text text-anchor=\"middle\" x=\"365.75\" y=\"-178.75\" font-family=\"Times,serif\" font-size=\"15.00\">1.01</text>\n",
       "</g>\n",
       "<!-- B&#45;&gt;C -->\n",
       "<g id=\"edge6\" class=\"edge\">\n",
       "<title>B-&gt;C</title>\n",
       "<g id=\"a_edge6\"><a xlink:title=\"(2, 3) : \">\n",
       "<path fill=\"none\" stroke=\"#4a4a4a\" d=\"M251.88,-105.72C251.88,-92.93 251.88,-77.03 251.88,-62.85\"/>\n",
       "<polygon fill=\"#4a4a4a\" stroke=\"#4a4a4a\" points=\"255.38,-62.97 251.88,-52.97 248.38,-62.97 255.38,-62.97\"/>\n",
       "</a>\n",
       "</g>\n",
       "<text text-anchor=\"middle\" x=\"268.75\" y=\"-73.25\" font-family=\"Times,serif\" font-size=\"15.00\">0.62</text>\n",
       "</g>\n",
       "<!-- D&#45;&gt;C -->\n",
       "<g id=\"edge2\" class=\"edge\">\n",
       "<title>D-&gt;C</title>\n",
       "<g id=\"a_edge2\"><a xlink:title=\"(4, 3) : \">\n",
       "<path fill=\"none\" stroke=\"#4a4a4a\" d=\"M384.64,-105.72C360.22,-91.2 329.08,-72.68 303.1,-57.22\"/>\n",
       "<polygon fill=\"#4a4a4a\" stroke=\"#4a4a4a\" points=\"305.1,-54.34 294.72,-52.23 301.52,-60.35 305.1,-54.34\"/>\n",
       "</a>\n",
       "</g>\n",
       "<text text-anchor=\"middle\" x=\"365.75\" y=\"-73.25\" font-family=\"Times,serif\" font-size=\"15.00\">0.40</text>\n",
       "</g>\n",
       "<!-- E -->\n",
       "<g id=\"node6\" class=\"node\">\n",
       "<title>E</title>\n",
       "<g id=\"a_node6\"><a xlink:title=\"(5) E\">\n",
       "<path fill=\"#404040\" stroke=\"#4a4a4a\" d=\"M359.5,-211.5C359.5,-211.5 500.25,-211.5 500.25,-211.5 506.25,-211.5 512.25,-217.5 512.25,-223.5 512.25,-223.5 512.25,-250 512.25,-250 512.25,-256 506.25,-262 500.25,-262 500.25,-262 359.5,-262 359.5,-262 353.5,-262 347.5,-256 347.5,-250 347.5,-250 347.5,-223.5 347.5,-223.5 347.5,-217.5 353.5,-211.5 359.5,-211.5\"/>\n",
       "<text text-anchor=\"middle\" x=\"429.88\" y=\"-244.7\" font-family=\"Times,serif\" font-size=\"14.00\" fill=\"white\">E</text>\n",
       "<polyline fill=\"none\" stroke=\"#4a4a4a\" points=\"347.5,-236.75 512.25,-236.75\"/>\n",
       "<text text-anchor=\"middle\" x=\"390.75\" y=\"-219.45\" font-family=\"Times,serif\" font-size=\"14.00\" fill=\"white\">μ=60.090</text>\n",
       "<polyline fill=\"none\" stroke=\"#4a4a4a\" points=\"434,-211.5 434,-236.75\"/>\n",
       "<text text-anchor=\"middle\" x=\"473.12\" y=\"-219.45\" font-family=\"Times,serif\" font-size=\"14.00\" fill=\"white\">σ=2.019</text>\n",
       "</a>\n",
       "</g>\n",
       "</g>\n",
       "<!-- E&#45;&gt;D -->\n",
       "<g id=\"edge3\" class=\"edge\">\n",
       "<title>E-&gt;D</title>\n",
       "<g id=\"a_edge3\"><a xlink:title=\"(5, 4) : \">\n",
       "<path fill=\"none\" stroke=\"#4a4a4a\" d=\"M428.93,-211.22C428.43,-198.43 427.82,-182.53 427.27,-168.35\"/>\n",
       "<polygon fill=\"#4a4a4a\" stroke=\"#4a4a4a\" points=\"430.77,-168.33 426.89,-158.47 423.78,-168.6 430.77,-168.33\"/>\n",
       "</a>\n",
       "</g>\n",
       "<text text-anchor=\"middle\" x=\"444.75\" y=\"-178.75\" font-family=\"Times,serif\" font-size=\"15.00\">0.64</text>\n",
       "</g>\n",
       "</g>\n",
       "</svg><br><small><i>learned CLG</i></small></div></td></tr></table>"
      ],
      "text/plain": [
       "<IPython.core.display.HTML object>"
      ]
     },
     "metadata": {},
     "output_type": "display_data"
    }
   ],
   "source": [
    "learned_clg = learner.learnCLG()\n",
    "gnb.sideBySide(model2,learned_clg,\n",
    "              captions=['original CLG','learned CLG'])"
   ]
  },
  {
   "attachments": {},
   "cell_type": "markdown",
   "metadata": {
    "editable": true,
    "slideshow": {
     "slide_type": ""
    },
    "tags": []
   },
   "source": [
    "Compare the learned model's structure with that of the original model'."
   ]
  },
  {
   "cell_type": "code",
   "execution_count": 15,
   "metadata": {
    "editable": true,
    "execution": {
     "iopub.execute_input": "2024-06-10T20:43:19.346562Z",
     "iopub.status.busy": "2024-06-10T20:43:19.346376Z",
     "iopub.status.idle": "2024-06-10T20:43:19.351152Z",
     "shell.execute_reply": "2024-06-10T20:43:19.350619Z",
     "shell.execute_reply.started": "2024-06-10T20:43:19.346545Z"
    },
    "slideshow": {
     "slide_type": ""
    },
    "tags": []
   },
   "outputs": [
    {
     "name": "stdout",
     "output_type": "stream",
     "text": [
      "F-score(original_clg,learned_clg) : 0.6666666666666666\n"
     ]
    }
   ],
   "source": [
    "cmp=gcm.GraphicalBNComparator(model2,learned_clg)\n",
    "print(f\"F-score(original_clg,learned_clg) : {cmp.scores()['fscore']}\")"
   ]
  },
  {
   "attachments": {},
   "cell_type": "markdown",
   "metadata": {
    "editable": true,
    "slideshow": {
     "slide_type": ""
    },
    "tags": []
   },
   "source": [
    "Get the learned model's parameters and compare them with the original model's parameters using the SEM syntax."
   ]
  },
  {
   "cell_type": "code",
   "execution_count": 16,
   "metadata": {
    "editable": true,
    "execution": {
     "iopub.execute_input": "2024-06-10T20:43:19.351894Z",
     "iopub.status.busy": "2024-06-10T20:43:19.351762Z",
     "iopub.status.idle": "2024-06-10T20:43:19.360126Z",
     "shell.execute_reply": "2024-06-10T20:43:19.359454Z",
     "shell.execute_reply.started": "2024-06-10T20:43:19.351881Z"
    },
    "slideshow": {
     "slide_type": ""
    },
    "tags": []
   },
   "outputs": [
    {
     "data": {
      "text/html": [
       "\n",
       "      <style>\n",
       "      .floating-box {\n",
       "      display: inline-block;\n",
       "      margin: 7px;\n",
       "      padding : 3px;\n",
       "      border: 0px solid transparent;  \n",
       "      valign:middle;\n",
       "      background-color: transparent;\n",
       "      }\n",
       "      </style>\n",
       "      <div class=\"floating-box\"><pre><div align='left'>F=7.0[0.5]\n",
       "B=3.0+1.2F[0.3]\n",
       "A=4.5[0.3]\n",
       "C=9.0+2.0A+1.5B[0.6]\n",
       "D=9.0+F+C[0.7]\n",
       "E=9.0+D[0.9]\n",
       "</div></pre><br><center><small><em>original sem</em></small></center></div><div class=\"floating-box\"><pre><div align='left'>E=60.09[2.019]\n",
       "F=6.993[0.498]\n",
       "B=2.974+1.2F[0.302]\n",
       "D=5.639+1.01F+0.64E[0.712]\n",
       "A=4.494[0.3]\n",
       "C=2.078+1.23A+0.62B+0.4D[0.466]\n",
       "</div></pre><br><center><small><em>learned sem</em></small></center></div>"
      ],
      "text/plain": [
       "<IPython.core.display.HTML object>"
      ]
     },
     "metadata": {},
     "output_type": "display_data"
    }
   ],
   "source": [
    "gnb.flow.row(\"<pre><div align='left'>\"+gclg.SEM.tosem(model2)+\"</div></pre>\",\n",
    "             \"<pre><div align='left'>\"+gclg.SEM.tosem(learned_clg)+\"</div></pre>\",\n",
    "             captions=[\"original sem\",\"learned sem\"])"
   ]
  },
  {
   "attachments": {},
   "cell_type": "markdown",
   "metadata": {
    "editable": true,
    "slideshow": {
     "slide_type": ""
    },
    "tags": []
   },
   "source": [
    "We can algo do parameter estimation only with function fitParameters() if we already have the structure of the model."
   ]
  },
  {
   "cell_type": "code",
   "execution_count": 17,
   "metadata": {
    "editable": true,
    "execution": {
     "iopub.execute_input": "2024-06-10T20:43:19.361253Z",
     "iopub.status.busy": "2024-06-10T20:43:19.360885Z",
     "iopub.status.idle": "2024-06-10T20:43:19.518224Z",
     "shell.execute_reply": "2024-06-10T20:43:19.517966Z",
     "shell.execute_reply.started": "2024-06-10T20:43:19.361235Z"
    },
    "slideshow": {
     "slide_type": ""
    },
    "tags": []
   },
   "outputs": [
    {
     "data": {
      "text/html": [
       "<svg xmlns=\"http://www.w3.org/2000/svg\" xmlns:xlink=\"http://www.w3.org/1999/xlink\" width=\"292pt\" height=\"360pt\" viewBox=\"0.00 0.00 292.15 360.00\">\n",
       "<g id=\"graph0\" class=\"graph\" transform=\"scale(0.747664 0.747664) rotate(0) translate(4 477.5)\">\n",
       "<title>G</title>\n",
       "<!-- A -->\n",
       "<g id=\"node1\" class=\"node\">\n",
       "<title>A</title>\n",
       "<g id=\"a_node1\"><a xlink:title=\"(0) A\">\n",
       "<path fill=\"#404040\" stroke=\"#4a4a4a\" d=\"M12,-317C12,-317 143.75,-317 143.75,-317 149.75,-317 155.75,-323 155.75,-329 155.75,-329 155.75,-355.5 155.75,-355.5 155.75,-361.5 149.75,-367.5 143.75,-367.5 143.75,-367.5 12,-367.5 12,-367.5 6,-367.5 0,-361.5 0,-355.5 0,-355.5 0,-329 0,-329 0,-323 6,-317 12,-317\"/>\n",
       "<text text-anchor=\"middle\" x=\"77.88\" y=\"-350.2\" font-family=\"Times,serif\" font-size=\"14.00\" fill=\"white\">A</text>\n",
       "<polyline fill=\"none\" stroke=\"#4a4a4a\" points=\"0,-342.25 155.75,-342.25\"/>\n",
       "<text text-anchor=\"middle\" x=\"38.75\" y=\"-324.95\" font-family=\"Times,serif\" font-size=\"14.00\" fill=\"white\">μ=4.494</text>\n",
       "<polyline fill=\"none\" stroke=\"#4a4a4a\" points=\"77.5,-317 77.5,-342.25\"/>\n",
       "<text text-anchor=\"middle\" x=\"116.62\" y=\"-324.95\" font-family=\"Times,serif\" font-size=\"14.00\" fill=\"white\">σ=0.300</text>\n",
       "</a>\n",
       "</g>\n",
       "</g>\n",
       "<!-- C -->\n",
       "<g id=\"node4\" class=\"node\">\n",
       "<title>C</title>\n",
       "<g id=\"a_node4\"><a xlink:title=\"(3) C\">\n",
       "<path fill=\"#404040\" stroke=\"#4a4a4a\" d=\"M186,-211.5C186,-211.5 317.75,-211.5 317.75,-211.5 323.75,-211.5 329.75,-217.5 329.75,-223.5 329.75,-223.5 329.75,-250 329.75,-250 329.75,-256 323.75,-262 317.75,-262 317.75,-262 186,-262 186,-262 180,-262 174,-256 174,-250 174,-250 174,-223.5 174,-223.5 174,-217.5 180,-211.5 186,-211.5\"/>\n",
       "<text text-anchor=\"middle\" x=\"251.88\" y=\"-244.7\" font-family=\"Times,serif\" font-size=\"14.00\" fill=\"white\">C</text>\n",
       "<polyline fill=\"none\" stroke=\"#4a4a4a\" points=\"174,-236.75 329.75,-236.75\"/>\n",
       "<text text-anchor=\"middle\" x=\"212.75\" y=\"-219.45\" font-family=\"Times,serif\" font-size=\"14.00\" fill=\"white\">μ=9.158</text>\n",
       "<polyline fill=\"none\" stroke=\"#4a4a4a\" points=\"251.5,-211.5 251.5,-236.75\"/>\n",
       "<text text-anchor=\"middle\" x=\"290.62\" y=\"-219.45\" font-family=\"Times,serif\" font-size=\"14.00\" fill=\"white\">σ=0.597</text>\n",
       "</a>\n",
       "</g>\n",
       "</g>\n",
       "<!-- A&#45;&gt;C -->\n",
       "<g id=\"edge3\" class=\"edge\">\n",
       "<title>A-&gt;C</title>\n",
       "<g id=\"a_edge3\"><a xlink:title=\"(0, 3) : \">\n",
       "<path fill=\"none\" stroke=\"#4a4a4a\" d=\"M119.11,-316.72C143.53,-302.2 174.67,-283.68 200.65,-268.22\"/>\n",
       "<polygon fill=\"#4a4a4a\" stroke=\"#4a4a4a\" points=\"202.23,-271.35 209.03,-263.23 198.65,-265.34 202.23,-271.35\"/>\n",
       "</a>\n",
       "</g>\n",
       "<text text-anchor=\"middle\" x=\"192.75\" y=\"-284.25\" font-family=\"Times,serif\" font-size=\"15.00\">2.00</text>\n",
       "</g>\n",
       "<!-- F -->\n",
       "<g id=\"node2\" class=\"node\">\n",
       "<title>F</title>\n",
       "<g id=\"a_node2\"><a xlink:title=\"(1) F\">\n",
       "<path fill=\"#404040\" stroke=\"#4a4a4a\" d=\"M239,-422.5C239,-422.5 370.75,-422.5 370.75,-422.5 376.75,-422.5 382.75,-428.5 382.75,-434.5 382.75,-434.5 382.75,-461 382.75,-461 382.75,-467 376.75,-473 370.75,-473 370.75,-473 239,-473 239,-473 233,-473 227,-467 227,-461 227,-461 227,-434.5 227,-434.5 227,-428.5 233,-422.5 239,-422.5\"/>\n",
       "<text text-anchor=\"middle\" x=\"304.88\" y=\"-455.7\" font-family=\"Times,serif\" font-size=\"14.00\" fill=\"white\">F</text>\n",
       "<polyline fill=\"none\" stroke=\"#4a4a4a\" points=\"227,-447.75 382.75,-447.75\"/>\n",
       "<text text-anchor=\"middle\" x=\"265.75\" y=\"-430.45\" font-family=\"Times,serif\" font-size=\"14.00\" fill=\"white\">μ=6.993</text>\n",
       "<polyline fill=\"none\" stroke=\"#4a4a4a\" points=\"304.5,-422.5 304.5,-447.75\"/>\n",
       "<text text-anchor=\"middle\" x=\"343.62\" y=\"-430.45\" font-family=\"Times,serif\" font-size=\"14.00\" fill=\"white\">σ=0.498</text>\n",
       "</a>\n",
       "</g>\n",
       "</g>\n",
       "<!-- B -->\n",
       "<g id=\"node3\" class=\"node\">\n",
       "<title>B</title>\n",
       "<g id=\"a_node3\"><a xlink:title=\"(2) B\">\n",
       "<path fill=\"#404040\" stroke=\"#4a4a4a\" d=\"M186,-317C186,-317 317.75,-317 317.75,-317 323.75,-317 329.75,-323 329.75,-329 329.75,-329 329.75,-355.5 329.75,-355.5 329.75,-361.5 323.75,-367.5 317.75,-367.5 317.75,-367.5 186,-367.5 186,-367.5 180,-367.5 174,-361.5 174,-355.5 174,-355.5 174,-329 174,-329 174,-323 180,-317 186,-317\"/>\n",
       "<text text-anchor=\"middle\" x=\"251.88\" y=\"-350.2\" font-family=\"Times,serif\" font-size=\"14.00\" fill=\"white\">B</text>\n",
       "<polyline fill=\"none\" stroke=\"#4a4a4a\" points=\"174,-342.25 329.75,-342.25\"/>\n",
       "<text text-anchor=\"middle\" x=\"212.75\" y=\"-324.95\" font-family=\"Times,serif\" font-size=\"14.00\" fill=\"white\">μ=2.974</text>\n",
       "<polyline fill=\"none\" stroke=\"#4a4a4a\" points=\"251.5,-317 251.5,-342.25\"/>\n",
       "<text text-anchor=\"middle\" x=\"290.62\" y=\"-324.95\" font-family=\"Times,serif\" font-size=\"14.00\" fill=\"white\">σ=0.302</text>\n",
       "</a>\n",
       "</g>\n",
       "</g>\n",
       "<!-- F&#45;&gt;B -->\n",
       "<g id=\"edge1\" class=\"edge\">\n",
       "<title>F-&gt;B</title>\n",
       "<g id=\"a_edge1\"><a xlink:title=\"(1, 2) : \">\n",
       "<path fill=\"none\" stroke=\"#4a4a4a\" d=\"M292.31,-422.22C285.57,-409.04 277.13,-392.57 269.71,-378.08\"/>\n",
       "<polygon fill=\"#4a4a4a\" stroke=\"#4a4a4a\" points=\"272.89,-376.61 265.22,-369.31 266.66,-379.8 272.89,-376.61\"/>\n",
       "</a>\n",
       "</g>\n",
       "<text text-anchor=\"middle\" x=\"297.75\" y=\"-389.75\" font-family=\"Times,serif\" font-size=\"15.00\">1.20</text>\n",
       "</g>\n",
       "<!-- D -->\n",
       "<g id=\"node5\" class=\"node\">\n",
       "<title>D</title>\n",
       "<g id=\"a_node5\"><a xlink:title=\"(4) D\">\n",
       "<path fill=\"#404040\" stroke=\"#4a4a4a\" d=\"M239,-106C239,-106 370.75,-106 370.75,-106 376.75,-106 382.75,-112 382.75,-118 382.75,-118 382.75,-144.5 382.75,-144.5 382.75,-150.5 376.75,-156.5 370.75,-156.5 370.75,-156.5 239,-156.5 239,-156.5 233,-156.5 227,-150.5 227,-144.5 227,-144.5 227,-118 227,-118 227,-112 233,-106 239,-106\"/>\n",
       "<text text-anchor=\"middle\" x=\"304.88\" y=\"-139.2\" font-family=\"Times,serif\" font-size=\"14.00\" fill=\"white\">D</text>\n",
       "<polyline fill=\"none\" stroke=\"#4a4a4a\" points=\"227,-131.25 382.75,-131.25\"/>\n",
       "<text text-anchor=\"middle\" x=\"265.75\" y=\"-113.95\" font-family=\"Times,serif\" font-size=\"14.00\" fill=\"white\">μ=9.150</text>\n",
       "<polyline fill=\"none\" stroke=\"#4a4a4a\" points=\"304.5,-106 304.5,-131.25\"/>\n",
       "<text text-anchor=\"middle\" x=\"343.62\" y=\"-113.95\" font-family=\"Times,serif\" font-size=\"14.00\" fill=\"white\">σ=0.695</text>\n",
       "</a>\n",
       "</g>\n",
       "</g>\n",
       "<!-- F&#45;&gt;D -->\n",
       "<g id=\"edge4\" class=\"edge\">\n",
       "<title>F-&gt;D</title>\n",
       "<g id=\"a_edge4\"><a xlink:title=\"(1, 4) : \">\n",
       "<path fill=\"none\" stroke=\"#4a4a4a\" d=\"M318.63,-422.08C326.25,-406.97 334.96,-386.96 338.88,-368 353,-299.67 353,-279.33 338.88,-211 335.78,-196.04 329.71,-180.43 323.54,-167.08\"/>\n",
       "<polygon fill=\"#4a4a4a\" stroke=\"#4a4a4a\" points=\"326.79,-165.77 319.29,-158.29 320.49,-168.81 326.79,-165.77\"/>\n",
       "</a>\n",
       "</g>\n",
       "<text text-anchor=\"middle\" x=\"365.75\" y=\"-284.25\" font-family=\"Times,serif\" font-size=\"15.00\">1.05</text>\n",
       "</g>\n",
       "<!-- B&#45;&gt;C -->\n",
       "<g id=\"edge5\" class=\"edge\">\n",
       "<title>B-&gt;C</title>\n",
       "<g id=\"a_edge5\"><a xlink:title=\"(2, 3) : \">\n",
       "<path fill=\"none\" stroke=\"#4a4a4a\" d=\"M251.88,-316.72C251.88,-303.93 251.88,-288.03 251.88,-273.85\"/>\n",
       "<polygon fill=\"#4a4a4a\" stroke=\"#4a4a4a\" points=\"255.38,-273.97 251.88,-263.97 248.38,-273.97 255.38,-273.97\"/>\n",
       "</a>\n",
       "</g>\n",
       "<text text-anchor=\"middle\" x=\"268.75\" y=\"-284.25\" font-family=\"Times,serif\" font-size=\"15.00\">1.49</text>\n",
       "</g>\n",
       "<!-- C&#45;&gt;D -->\n",
       "<g id=\"edge2\" class=\"edge\">\n",
       "<title>C-&gt;D</title>\n",
       "<g id=\"a_edge2\"><a xlink:title=\"(3, 4) : \">\n",
       "<path fill=\"none\" stroke=\"#4a4a4a\" d=\"M264.44,-211.22C271.18,-198.04 279.62,-181.57 287.04,-167.08\"/>\n",
       "<polygon fill=\"#4a4a4a\" stroke=\"#4a4a4a\" points=\"290.09,-168.8 291.53,-158.31 283.86,-165.61 290.09,-168.8\"/>\n",
       "</a>\n",
       "</g>\n",
       "<text text-anchor=\"middle\" x=\"297.75\" y=\"-178.75\" font-family=\"Times,serif\" font-size=\"15.00\">0.99</text>\n",
       "</g>\n",
       "<!-- E -->\n",
       "<g id=\"node6\" class=\"node\">\n",
       "<title>E</title>\n",
       "<g id=\"a_node6\"><a xlink:title=\"(5) E\">\n",
       "<path fill=\"#404040\" stroke=\"#4a4a4a\" d=\"M239,-0.5C239,-0.5 370.75,-0.5 370.75,-0.5 376.75,-0.5 382.75,-6.5 382.75,-12.5 382.75,-12.5 382.75,-39 382.75,-39 382.75,-45 376.75,-51 370.75,-51 370.75,-51 239,-51 239,-51 233,-51 227,-45 227,-39 227,-39 227,-12.5 227,-12.5 227,-6.5 233,-0.5 239,-0.5\"/>\n",
       "<text text-anchor=\"middle\" x=\"304.88\" y=\"-33.7\" font-family=\"Times,serif\" font-size=\"14.00\" fill=\"white\">E</text>\n",
       "<polyline fill=\"none\" stroke=\"#4a4a4a\" points=\"227,-25.75 382.75,-25.75\"/>\n",
       "<text text-anchor=\"middle\" x=\"265.75\" y=\"-8.45\" font-family=\"Times,serif\" font-size=\"14.00\" fill=\"white\">μ=9.196</text>\n",
       "<polyline fill=\"none\" stroke=\"#4a4a4a\" points=\"304.5,-0.5 304.5,-25.75\"/>\n",
       "<text text-anchor=\"middle\" x=\"343.62\" y=\"-8.45\" font-family=\"Times,serif\" font-size=\"14.00\" fill=\"white\">σ=0.889</text>\n",
       "</a>\n",
       "</g>\n",
       "</g>\n",
       "<!-- D&#45;&gt;E -->\n",
       "<g id=\"edge6\" class=\"edge\">\n",
       "<title>D-&gt;E</title>\n",
       "<g id=\"a_edge6\"><a xlink:title=\"(4, 5) : \">\n",
       "<path fill=\"none\" stroke=\"#4a4a4a\" d=\"M304.88,-105.72C304.88,-92.93 304.88,-77.03 304.88,-62.85\"/>\n",
       "<polygon fill=\"#4a4a4a\" stroke=\"#4a4a4a\" points=\"308.38,-62.97 304.88,-52.97 301.38,-62.97 308.38,-62.97\"/>\n",
       "</a>\n",
       "</g>\n",
       "<text text-anchor=\"middle\" x=\"321.75\" y=\"-73.25\" font-family=\"Times,serif\" font-size=\"15.00\">1.00</text>\n",
       "</g>\n",
       "</g>\n",
       "</svg>"
      ],
      "text/plain": [
       "CLG{nodes: 6, arcs: 6, parameters: 18}"
      ]
     },
     "execution_count": 17,
     "metadata": {},
     "output_type": "execute_result"
    }
   ],
   "source": [
    "# We can copy the original CLG\n",
    "copy_original = gclg.CLG(model2)\n",
    "\n",
    "# RAveL learning again\n",
    "RAveL_l = gclg.CLGLearner(\"./out/model2.csv\")\n",
    "\n",
    "# Fit the parameters of the copy clg\n",
    "RAveL_l.fitParameters(copy_original)\n",
    "\n",
    "copy_original"
   ]
  },
  {
   "attachments": {},
   "cell_type": "markdown",
   "metadata": {
    "editable": true,
    "slideshow": {
     "slide_type": ""
    },
    "tags": []
   },
   "source": [
    "## Compare two CLG models"
   ]
  },
  {
   "attachments": {},
   "cell_type": "markdown",
   "metadata": {
    "editable": true,
    "slideshow": {
     "slide_type": ""
    },
    "tags": []
   },
   "source": [
    "We first create two CLG from two SEMs."
   ]
  },
  {
   "cell_type": "code",
   "execution_count": 18,
   "metadata": {
    "editable": true,
    "execution": {
     "iopub.execute_input": "2024-06-10T20:43:19.518704Z",
     "iopub.status.busy": "2024-06-10T20:43:19.518609Z",
     "iopub.status.idle": "2024-06-10T20:43:19.520672Z",
     "shell.execute_reply": "2024-06-10T20:43:19.520402Z",
     "shell.execute_reply.started": "2024-06-10T20:43:19.518694Z"
    },
    "slideshow": {
     "slide_type": ""
    },
    "tags": []
   },
   "outputs": [],
   "source": [
    "# TWO DIFFERENT CLGs\n",
    "\n",
    "# FIRST CLG\n",
    "clg1=gclg.SEM.toclg(\"\"\"\n",
    "# hyper parameters\n",
    "A=4[1]\n",
    "B=3[5]\n",
    "C=-2[5]\n",
    "\n",
    "#equations\n",
    "D=A[.2] # D is a noisy version of A\n",
    "E=1+D+2B [2]\n",
    "F=E+C+B+E [0.001]\n",
    "\"\"\")\n",
    "\n",
    "# SECOND CLG\n",
    "clg2=gclg.SEM.toclg(\"\"\"\n",
    "# hyper parameters\n",
    "A=4[1]\n",
    "B=3+A[5]\n",
    "C=-2+2B+A[5]\n",
    "\n",
    "#equations\n",
    "D=A[.2] # D is a noisy version of A\n",
    "E=1+D+2B [2]\n",
    "F=E+C [0.001]\n",
    "\"\"\")"
   ]
  },
  {
   "attachments": {},
   "cell_type": "markdown",
   "metadata": {
    "editable": true,
    "slideshow": {
     "slide_type": ""
    },
    "tags": []
   },
   "source": [
    "This cell shows how to have a quick view of the differences "
   ]
  },
  {
   "cell_type": "code",
   "execution_count": 19,
   "metadata": {
    "editable": true,
    "execution": {
     "iopub.execute_input": "2024-06-10T20:43:19.521290Z",
     "iopub.status.busy": "2024-06-10T20:43:19.521198Z",
     "iopub.status.idle": "2024-06-10T20:43:19.984466Z",
     "shell.execute_reply": "2024-06-10T20:43:19.983766Z",
     "shell.execute_reply.started": "2024-06-10T20:43:19.521282Z"
    },
    "slideshow": {
     "slide_type": ""
    },
    "tags": []
   },
   "outputs": [
    {
     "data": {
      "text/html": [
       "\n",
       "      <style>\n",
       "      .floating-box {\n",
       "      display: inline-block;\n",
       "      margin: 7px;\n",
       "      padding : 3px;\n",
       "      border: 0px solid transparent;  \n",
       "      valign:middle;\n",
       "      background-color: transparent;\n",
       "      }\n",
       "      </style>\n",
       "      <div class=\"floating-box\"><svg xmlns=\"http://www.w3.org/2000/svg\" xmlns:xlink=\"http://www.w3.org/1999/xlink\" width=\"360pt\" height=\"287pt\" viewBox=\"0.00 0.00 360.00 286.78\">\n",
       "<g id=\"graph0\" class=\"graph\" transform=\"scale(0.762712 0.762712) rotate(0) translate(4 372)\">\n",
       "<title>G</title>\n",
       "<!-- A -->\n",
       "<g id=\"node1\" class=\"node\">\n",
       "<title>A</title>\n",
       "<g id=\"a_node1\"><a xlink:title=\"(0) A\">\n",
       "<path fill=\"#404040\" stroke=\"#4a4a4a\" d=\"M12,-317C12,-317 143.75,-317 143.75,-317 149.75,-317 155.75,-323 155.75,-329 155.75,-329 155.75,-355.5 155.75,-355.5 155.75,-361.5 149.75,-367.5 143.75,-367.5 143.75,-367.5 12,-367.5 12,-367.5 6,-367.5 0,-361.5 0,-355.5 0,-355.5 0,-329 0,-329 0,-323 6,-317 12,-317\"/>\n",
       "<text text-anchor=\"middle\" x=\"77.88\" y=\"-350.2\" font-family=\"Times,serif\" font-size=\"14.00\" fill=\"white\">A</text>\n",
       "<polyline fill=\"none\" stroke=\"#4a4a4a\" points=\"0,-342.25 155.75,-342.25\"/>\n",
       "<text text-anchor=\"middle\" x=\"38.75\" y=\"-324.95\" font-family=\"Times,serif\" font-size=\"14.00\" fill=\"white\">μ=4.000</text>\n",
       "<polyline fill=\"none\" stroke=\"#4a4a4a\" points=\"77.5,-317 77.5,-342.25\"/>\n",
       "<text text-anchor=\"middle\" x=\"116.62\" y=\"-324.95\" font-family=\"Times,serif\" font-size=\"14.00\" fill=\"white\">σ=1.000</text>\n",
       "</a>\n",
       "</g>\n",
       "</g>\n",
       "<!-- D -->\n",
       "<g id=\"node4\" class=\"node\">\n",
       "<title>D</title>\n",
       "<g id=\"a_node4\"><a xlink:title=\"(3) D\">\n",
       "<path fill=\"#404040\" stroke=\"#4a4a4a\" d=\"M12,-211.5C12,-211.5 143.75,-211.5 143.75,-211.5 149.75,-211.5 155.75,-217.5 155.75,-223.5 155.75,-223.5 155.75,-250 155.75,-250 155.75,-256 149.75,-262 143.75,-262 143.75,-262 12,-262 12,-262 6,-262 0,-256 0,-250 0,-250 0,-223.5 0,-223.5 0,-217.5 6,-211.5 12,-211.5\"/>\n",
       "<text text-anchor=\"middle\" x=\"77.88\" y=\"-244.7\" font-family=\"Times,serif\" font-size=\"14.00\" fill=\"white\">D</text>\n",
       "<polyline fill=\"none\" stroke=\"#4a4a4a\" points=\"0,-236.75 155.75,-236.75\"/>\n",
       "<text text-anchor=\"middle\" x=\"38.75\" y=\"-219.45\" font-family=\"Times,serif\" font-size=\"14.00\" fill=\"white\">μ=0.000</text>\n",
       "<polyline fill=\"none\" stroke=\"#4a4a4a\" points=\"77.5,-211.5 77.5,-236.75\"/>\n",
       "<text text-anchor=\"middle\" x=\"116.62\" y=\"-219.45\" font-family=\"Times,serif\" font-size=\"14.00\" fill=\"white\">σ=0.200</text>\n",
       "</a>\n",
       "</g>\n",
       "</g>\n",
       "<!-- A&#45;&gt;D -->\n",
       "<g id=\"edge3\" class=\"edge\">\n",
       "<title>A-&gt;D</title>\n",
       "<g id=\"a_edge3\"><a xlink:title=\"(0, 3) : \">\n",
       "<path fill=\"none\" stroke=\"#4a4a4a\" d=\"M77.88,-316.72C77.88,-303.93 77.88,-288.03 77.88,-273.85\"/>\n",
       "<polygon fill=\"#4a4a4a\" stroke=\"#4a4a4a\" points=\"81.38,-273.97 77.88,-263.97 74.38,-273.97 81.38,-273.97\"/>\n",
       "</a>\n",
       "</g>\n",
       "<text text-anchor=\"middle\" x=\"94.75\" y=\"-284.25\" font-family=\"Times,serif\" font-size=\"15.00\">1.00</text>\n",
       "</g>\n",
       "<!-- B -->\n",
       "<g id=\"node2\" class=\"node\">\n",
       "<title>B</title>\n",
       "<g id=\"a_node2\"><a xlink:title=\"(1) B\">\n",
       "<path fill=\"#404040\" stroke=\"#4a4a4a\" d=\"M186,-211.5C186,-211.5 317.75,-211.5 317.75,-211.5 323.75,-211.5 329.75,-217.5 329.75,-223.5 329.75,-223.5 329.75,-250 329.75,-250 329.75,-256 323.75,-262 317.75,-262 317.75,-262 186,-262 186,-262 180,-262 174,-256 174,-250 174,-250 174,-223.5 174,-223.5 174,-217.5 180,-211.5 186,-211.5\"/>\n",
       "<text text-anchor=\"middle\" x=\"251.88\" y=\"-244.7\" font-family=\"Times,serif\" font-size=\"14.00\" fill=\"white\">B</text>\n",
       "<polyline fill=\"none\" stroke=\"#4a4a4a\" points=\"174,-236.75 329.75,-236.75\"/>\n",
       "<text text-anchor=\"middle\" x=\"212.75\" y=\"-219.45\" font-family=\"Times,serif\" font-size=\"14.00\" fill=\"white\">μ=3.000</text>\n",
       "<polyline fill=\"none\" stroke=\"#4a4a4a\" points=\"251.5,-211.5 251.5,-236.75\"/>\n",
       "<text text-anchor=\"middle\" x=\"290.62\" y=\"-219.45\" font-family=\"Times,serif\" font-size=\"14.00\" fill=\"white\">σ=5.000</text>\n",
       "</a>\n",
       "</g>\n",
       "</g>\n",
       "<!-- E -->\n",
       "<g id=\"node5\" class=\"node\">\n",
       "<title>E</title>\n",
       "<g id=\"a_node5\"><a xlink:title=\"(4) E\">\n",
       "<path fill=\"#404040\" stroke=\"#4a4a4a\" d=\"M72,-106C72,-106 203.75,-106 203.75,-106 209.75,-106 215.75,-112 215.75,-118 215.75,-118 215.75,-144.5 215.75,-144.5 215.75,-150.5 209.75,-156.5 203.75,-156.5 203.75,-156.5 72,-156.5 72,-156.5 66,-156.5 60,-150.5 60,-144.5 60,-144.5 60,-118 60,-118 60,-112 66,-106 72,-106\"/>\n",
       "<text text-anchor=\"middle\" x=\"137.88\" y=\"-139.2\" font-family=\"Times,serif\" font-size=\"14.00\" fill=\"white\">E</text>\n",
       "<polyline fill=\"none\" stroke=\"#4a4a4a\" points=\"60,-131.25 215.75,-131.25\"/>\n",
       "<text text-anchor=\"middle\" x=\"98.75\" y=\"-113.95\" font-family=\"Times,serif\" font-size=\"14.00\" fill=\"white\">μ=1.000</text>\n",
       "<polyline fill=\"none\" stroke=\"#4a4a4a\" points=\"137.5,-106 137.5,-131.25\"/>\n",
       "<text text-anchor=\"middle\" x=\"176.62\" y=\"-113.95\" font-family=\"Times,serif\" font-size=\"14.00\" fill=\"white\">σ=2.000</text>\n",
       "</a>\n",
       "</g>\n",
       "</g>\n",
       "<!-- B&#45;&gt;E -->\n",
       "<g id=\"edge4\" class=\"edge\">\n",
       "<title>B-&gt;E</title>\n",
       "<g id=\"a_edge4\"><a xlink:title=\"(1, 4) : \">\n",
       "<path fill=\"none\" stroke=\"#4a4a4a\" d=\"M224.3,-211.17C217.68,-205.23 210.64,-198.9 204.12,-193 193.92,-183.75 182.87,-173.65 172.78,-164.4\"/>\n",
       "<polygon fill=\"#4a4a4a\" stroke=\"#4a4a4a\" points=\"175.41,-162.07 165.68,-157.88 170.68,-167.22 175.41,-162.07\"/>\n",
       "</a>\n",
       "</g>\n",
       "<text text-anchor=\"middle\" x=\"221.75\" y=\"-178.75\" font-family=\"Times,serif\" font-size=\"15.00\">2.00</text>\n",
       "</g>\n",
       "<!-- F -->\n",
       "<g id=\"node6\" class=\"node\">\n",
       "<title>F</title>\n",
       "<g id=\"a_node6\"><a xlink:title=\"(5) F\">\n",
       "<path fill=\"#404040\" stroke=\"#4a4a4a\" d=\"M186,-0.5C186,-0.5 317.75,-0.5 317.75,-0.5 323.75,-0.5 329.75,-6.5 329.75,-12.5 329.75,-12.5 329.75,-39 329.75,-39 329.75,-45 323.75,-51 317.75,-51 317.75,-51 186,-51 186,-51 180,-51 174,-45 174,-39 174,-39 174,-12.5 174,-12.5 174,-6.5 180,-0.5 186,-0.5\"/>\n",
       "<text text-anchor=\"middle\" x=\"251.88\" y=\"-33.7\" font-family=\"Times,serif\" font-size=\"14.00\" fill=\"white\">F</text>\n",
       "<polyline fill=\"none\" stroke=\"#4a4a4a\" points=\"174,-25.75 329.75,-25.75\"/>\n",
       "<text text-anchor=\"middle\" x=\"212.75\" y=\"-8.45\" font-family=\"Times,serif\" font-size=\"14.00\" fill=\"white\">μ=0.000</text>\n",
       "<polyline fill=\"none\" stroke=\"#4a4a4a\" points=\"251.5,-0.5 251.5,-25.75\"/>\n",
       "<text text-anchor=\"middle\" x=\"290.62\" y=\"-8.45\" font-family=\"Times,serif\" font-size=\"14.00\" fill=\"white\">σ=0.001</text>\n",
       "</a>\n",
       "</g>\n",
       "</g>\n",
       "<!-- B&#45;&gt;F -->\n",
       "<g id=\"edge2\" class=\"edge\">\n",
       "<title>B-&gt;F</title>\n",
       "<g id=\"a_edge2\"><a xlink:title=\"(1, 5) : \">\n",
       "<path fill=\"none\" stroke=\"#4a4a4a\" d=\"M251.88,-211.37C251.88,-174.73 251.88,-105.27 251.88,-62.78\"/>\n",
       "<polygon fill=\"#4a4a4a\" stroke=\"#4a4a4a\" points=\"255.38,-62.82 251.88,-52.82 248.38,-62.82 255.38,-62.82\"/>\n",
       "</a>\n",
       "</g>\n",
       "<text text-anchor=\"middle\" x=\"268.75\" y=\"-126\" font-family=\"Times,serif\" font-size=\"15.00\">1.00</text>\n",
       "</g>\n",
       "<!-- C -->\n",
       "<g id=\"node3\" class=\"node\">\n",
       "<title>C</title>\n",
       "<g id=\"a_node3\"><a xlink:title=\"(2) C\">\n",
       "<path fill=\"#404040\" stroke=\"#4a4a4a\" d=\"M315.75,-106C315.75,-106 452,-106 452,-106 458,-106 464,-112 464,-118 464,-118 464,-144.5 464,-144.5 464,-150.5 458,-156.5 452,-156.5 452,-156.5 315.75,-156.5 315.75,-156.5 309.75,-156.5 303.75,-150.5 303.75,-144.5 303.75,-144.5 303.75,-118 303.75,-118 303.75,-112 309.75,-106 315.75,-106\"/>\n",
       "<text text-anchor=\"middle\" x=\"383.88\" y=\"-139.2\" font-family=\"Times,serif\" font-size=\"14.00\" fill=\"white\">C</text>\n",
       "<polyline fill=\"none\" stroke=\"#4a4a4a\" points=\"303.75,-131.25 464,-131.25\"/>\n",
       "<text text-anchor=\"middle\" x=\"344.75\" y=\"-113.95\" font-family=\"Times,serif\" font-size=\"14.00\" fill=\"white\">μ=-2.000</text>\n",
       "<polyline fill=\"none\" stroke=\"#4a4a4a\" points=\"385.75,-106 385.75,-131.25\"/>\n",
       "<text text-anchor=\"middle\" x=\"424.88\" y=\"-113.95\" font-family=\"Times,serif\" font-size=\"14.00\" fill=\"white\">σ=5.000</text>\n",
       "</a>\n",
       "</g>\n",
       "</g>\n",
       "<!-- C&#45;&gt;F -->\n",
       "<g id=\"edge6\" class=\"edge\">\n",
       "<title>C-&gt;F</title>\n",
       "<g id=\"a_edge6\"><a xlink:title=\"(2, 5) : \">\n",
       "<path fill=\"none\" stroke=\"#4a4a4a\" d=\"M352.59,-105.72C334.56,-91.58 311.69,-73.65 292.31,-58.45\"/>\n",
       "<polygon fill=\"#4a4a4a\" stroke=\"#4a4a4a\" points=\"294.61,-55.81 284.58,-52.39 290.29,-61.32 294.61,-55.81\"/>\n",
       "</a>\n",
       "</g>\n",
       "<text text-anchor=\"middle\" x=\"341.75\" y=\"-73.25\" font-family=\"Times,serif\" font-size=\"15.00\">1.00</text>\n",
       "</g>\n",
       "<!-- D&#45;&gt;E -->\n",
       "<g id=\"edge1\" class=\"edge\">\n",
       "<title>D-&gt;E</title>\n",
       "<g id=\"a_edge1\"><a xlink:title=\"(3, 4) : \">\n",
       "<path fill=\"none\" stroke=\"#4a4a4a\" d=\"M92.09,-211.22C99.81,-197.91 109.47,-181.25 117.93,-166.66\"/>\n",
       "<polygon fill=\"#4a4a4a\" stroke=\"#4a4a4a\" points=\"120.8,-168.68 122.79,-158.27 114.75,-165.17 120.8,-168.68\"/>\n",
       "</a>\n",
       "</g>\n",
       "<text text-anchor=\"middle\" x=\"128.75\" y=\"-178.75\" font-family=\"Times,serif\" font-size=\"15.00\">1.00</text>\n",
       "</g>\n",
       "<!-- E&#45;&gt;F -->\n",
       "<g id=\"edge5\" class=\"edge\">\n",
       "<title>E-&gt;F</title>\n",
       "<g id=\"a_edge5\"><a xlink:title=\"(4, 5) : \">\n",
       "<path fill=\"none\" stroke=\"#4a4a4a\" d=\"M164.56,-105.64C176.62,-94.56 191.06,-81.34 204.12,-69.5 207.89,-66.09 211.83,-62.53 215.77,-58.99\"/>\n",
       "<polygon fill=\"#4a4a4a\" stroke=\"#4a4a4a\" points=\"218.07,-61.63 223.18,-52.35 213.4,-56.42 218.07,-61.63\"/>\n",
       "</a>\n",
       "</g>\n",
       "<text text-anchor=\"middle\" x=\"221.75\" y=\"-73.25\" font-family=\"Times,serif\" font-size=\"15.00\">2.00</text>\n",
       "</g>\n",
       "</g>\n",
       "</svg></div><div class=\"floating-box\"><svg xmlns=\"http://www.w3.org/2000/svg\" xmlns:xlink=\"http://www.w3.org/1999/xlink\" width=\"360pt\" height=\"325pt\" viewBox=\"0.00 0.00 360.00 325.38\">\n",
       "<g id=\"graph0\" class=\"graph\" transform=\"scale(0.865385 0.865385) rotate(0) translate(4 372)\">\n",
       "<title>G</title>\n",
       "<!-- A -->\n",
       "<g id=\"node1\" class=\"node\">\n",
       "<title>A</title>\n",
       "<g id=\"a_node1\"><a xlink:title=\"(0) A\">\n",
       "<path fill=\"#404040\" stroke=\"#4a4a4a\" d=\"M90.25,-317C90.25,-317 222,-317 222,-317 228,-317 234,-323 234,-329 234,-329 234,-355.5 234,-355.5 234,-361.5 228,-367.5 222,-367.5 222,-367.5 90.25,-367.5 90.25,-367.5 84.25,-367.5 78.25,-361.5 78.25,-355.5 78.25,-355.5 78.25,-329 78.25,-329 78.25,-323 84.25,-317 90.25,-317\"/>\n",
       "<text text-anchor=\"middle\" x=\"156.12\" y=\"-350.2\" font-family=\"Times,serif\" font-size=\"14.00\" fill=\"white\">A</text>\n",
       "<polyline fill=\"none\" stroke=\"#4a4a4a\" points=\"78.25,-342.25 234,-342.25\"/>\n",
       "<text text-anchor=\"middle\" x=\"117\" y=\"-324.95\" font-family=\"Times,serif\" font-size=\"14.00\" fill=\"white\">μ=4.000</text>\n",
       "<polyline fill=\"none\" stroke=\"#4a4a4a\" points=\"155.75,-317 155.75,-342.25\"/>\n",
       "<text text-anchor=\"middle\" x=\"194.88\" y=\"-324.95\" font-family=\"Times,serif\" font-size=\"14.00\" fill=\"white\">σ=1.000</text>\n",
       "</a>\n",
       "</g>\n",
       "</g>\n",
       "<!-- B -->\n",
       "<g id=\"node2\" class=\"node\">\n",
       "<title>B</title>\n",
       "<g id=\"a_node2\"><a xlink:title=\"(1) B\">\n",
       "<path fill=\"#404040\" stroke=\"#4a4a4a\" d=\"M90.25,-211.5C90.25,-211.5 222,-211.5 222,-211.5 228,-211.5 234,-217.5 234,-223.5 234,-223.5 234,-250 234,-250 234,-256 228,-262 222,-262 222,-262 90.25,-262 90.25,-262 84.25,-262 78.25,-256 78.25,-250 78.25,-250 78.25,-223.5 78.25,-223.5 78.25,-217.5 84.25,-211.5 90.25,-211.5\"/>\n",
       "<text text-anchor=\"middle\" x=\"156.12\" y=\"-244.7\" font-family=\"Times,serif\" font-size=\"14.00\" fill=\"white\">B</text>\n",
       "<polyline fill=\"none\" stroke=\"#4a4a4a\" points=\"78.25,-236.75 234,-236.75\"/>\n",
       "<text text-anchor=\"middle\" x=\"117\" y=\"-219.45\" font-family=\"Times,serif\" font-size=\"14.00\" fill=\"white\">μ=3.000</text>\n",
       "<polyline fill=\"none\" stroke=\"#4a4a4a\" points=\"155.75,-211.5 155.75,-236.75\"/>\n",
       "<text text-anchor=\"middle\" x=\"194.88\" y=\"-219.45\" font-family=\"Times,serif\" font-size=\"14.00\" fill=\"white\">σ=5.000</text>\n",
       "</a>\n",
       "</g>\n",
       "</g>\n",
       "<!-- A&#45;&gt;B -->\n",
       "<g id=\"edge1\" class=\"edge\">\n",
       "<title>A-&gt;B</title>\n",
       "<g id=\"a_edge1\"><a xlink:title=\"(0, 1) : \">\n",
       "<path fill=\"none\" stroke=\"#4a4a4a\" d=\"M156.12,-316.72C156.12,-303.93 156.12,-288.03 156.12,-273.85\"/>\n",
       "<polygon fill=\"#4a4a4a\" stroke=\"#4a4a4a\" points=\"159.63,-273.97 156.13,-263.97 152.63,-273.97 159.63,-273.97\"/>\n",
       "</a>\n",
       "</g>\n",
       "<text text-anchor=\"middle\" x=\"173\" y=\"-284.25\" font-family=\"Times,serif\" font-size=\"15.00\">1.00</text>\n",
       "</g>\n",
       "<!-- C -->\n",
       "<g id=\"node3\" class=\"node\">\n",
       "<title>C</title>\n",
       "<g id=\"a_node3\"><a xlink:title=\"(2) C\">\n",
       "<path fill=\"#404040\" stroke=\"#4a4a4a\" d=\"M12,-106C12,-106 148.25,-106 148.25,-106 154.25,-106 160.25,-112 160.25,-118 160.25,-118 160.25,-144.5 160.25,-144.5 160.25,-150.5 154.25,-156.5 148.25,-156.5 148.25,-156.5 12,-156.5 12,-156.5 6,-156.5 0,-150.5 0,-144.5 0,-144.5 0,-118 0,-118 0,-112 6,-106 12,-106\"/>\n",
       "<text text-anchor=\"middle\" x=\"80.12\" y=\"-139.2\" font-family=\"Times,serif\" font-size=\"14.00\" fill=\"white\">C</text>\n",
       "<polyline fill=\"none\" stroke=\"#4a4a4a\" points=\"0,-131.25 160.25,-131.25\"/>\n",
       "<text text-anchor=\"middle\" x=\"41\" y=\"-113.95\" font-family=\"Times,serif\" font-size=\"14.00\" fill=\"white\">μ=-2.000</text>\n",
       "<polyline fill=\"none\" stroke=\"#4a4a4a\" points=\"82,-106 82,-131.25\"/>\n",
       "<text text-anchor=\"middle\" x=\"121.12\" y=\"-113.95\" font-family=\"Times,serif\" font-size=\"14.00\" fill=\"white\">σ=5.000</text>\n",
       "</a>\n",
       "</g>\n",
       "</g>\n",
       "<!-- A&#45;&gt;C -->\n",
       "<g id=\"edge7\" class=\"edge\">\n",
       "<title>A-&gt;C</title>\n",
       "<g id=\"a_edge7\"><a xlink:title=\"(0, 2) : \">\n",
       "<path fill=\"none\" stroke=\"#4a4a4a\" d=\"M94.62,-316.55C71.75,-304 48.25,-286.27 35.38,-262.5 18.64,-231.6 35.86,-193.26 53.57,-166.2\"/>\n",
       "<polygon fill=\"#4a4a4a\" stroke=\"#4a4a4a\" points=\"56.42,-168.24 59.2,-158.02 50.65,-164.28 56.42,-168.24\"/>\n",
       "</a>\n",
       "</g>\n",
       "<text text-anchor=\"middle\" x=\"52\" y=\"-231.5\" font-family=\"Times,serif\" font-size=\"15.00\">1.00</text>\n",
       "</g>\n",
       "<!-- D -->\n",
       "<g id=\"node4\" class=\"node\">\n",
       "<title>D</title>\n",
       "<g id=\"a_node4\"><a xlink:title=\"(3) D\">\n",
       "<path fill=\"#404040\" stroke=\"#4a4a4a\" d=\"M264.25,-211.5C264.25,-211.5 396,-211.5 396,-211.5 402,-211.5 408,-217.5 408,-223.5 408,-223.5 408,-250 408,-250 408,-256 402,-262 396,-262 396,-262 264.25,-262 264.25,-262 258.25,-262 252.25,-256 252.25,-250 252.25,-250 252.25,-223.5 252.25,-223.5 252.25,-217.5 258.25,-211.5 264.25,-211.5\"/>\n",
       "<text text-anchor=\"middle\" x=\"330.12\" y=\"-244.7\" font-family=\"Times,serif\" font-size=\"14.00\" fill=\"white\">D</text>\n",
       "<polyline fill=\"none\" stroke=\"#4a4a4a\" points=\"252.25,-236.75 408,-236.75\"/>\n",
       "<text text-anchor=\"middle\" x=\"291\" y=\"-219.45\" font-family=\"Times,serif\" font-size=\"14.00\" fill=\"white\">μ=0.000</text>\n",
       "<polyline fill=\"none\" stroke=\"#4a4a4a\" points=\"329.75,-211.5 329.75,-236.75\"/>\n",
       "<text text-anchor=\"middle\" x=\"368.88\" y=\"-219.45\" font-family=\"Times,serif\" font-size=\"14.00\" fill=\"white\">σ=0.200</text>\n",
       "</a>\n",
       "</g>\n",
       "</g>\n",
       "<!-- A&#45;&gt;D -->\n",
       "<g id=\"edge4\" class=\"edge\">\n",
       "<title>A-&gt;D</title>\n",
       "<g id=\"a_edge4\"><a xlink:title=\"(0, 3) : \">\n",
       "<path fill=\"none\" stroke=\"#4a4a4a\" d=\"M197.36,-316.72C221.78,-302.2 252.92,-283.68 278.9,-268.22\"/>\n",
       "<polygon fill=\"#4a4a4a\" stroke=\"#4a4a4a\" points=\"280.48,-271.35 287.28,-263.23 276.9,-265.34 280.48,-271.35\"/>\n",
       "</a>\n",
       "</g>\n",
       "<text text-anchor=\"middle\" x=\"270\" y=\"-284.25\" font-family=\"Times,serif\" font-size=\"15.00\">1.00</text>\n",
       "</g>\n",
       "<!-- B&#45;&gt;C -->\n",
       "<g id=\"edge2\" class=\"edge\">\n",
       "<title>B-&gt;C</title>\n",
       "<g id=\"a_edge2\"><a xlink:title=\"(1, 2) : \">\n",
       "<path fill=\"none\" stroke=\"#4a4a4a\" d=\"M138.11,-211.22C128.25,-197.79 115.87,-180.93 105.08,-166.24\"/>\n",
       "<polygon fill=\"#4a4a4a\" stroke=\"#4a4a4a\" points=\"107.91,-164.17 99.17,-158.18 102.26,-168.31 107.91,-164.17\"/>\n",
       "</a>\n",
       "</g>\n",
       "<text text-anchor=\"middle\" x=\"139\" y=\"-178.75\" font-family=\"Times,serif\" font-size=\"15.00\">2.00</text>\n",
       "</g>\n",
       "<!-- E -->\n",
       "<g id=\"node5\" class=\"node\">\n",
       "<title>E</title>\n",
       "<g id=\"a_node5\"><a xlink:title=\"(4) E\">\n",
       "<path fill=\"#404040\" stroke=\"#4a4a4a\" d=\"M190.25,-106C190.25,-106 322,-106 322,-106 328,-106 334,-112 334,-118 334,-118 334,-144.5 334,-144.5 334,-150.5 328,-156.5 322,-156.5 322,-156.5 190.25,-156.5 190.25,-156.5 184.25,-156.5 178.25,-150.5 178.25,-144.5 178.25,-144.5 178.25,-118 178.25,-118 178.25,-112 184.25,-106 190.25,-106\"/>\n",
       "<text text-anchor=\"middle\" x=\"256.12\" y=\"-139.2\" font-family=\"Times,serif\" font-size=\"14.00\" fill=\"white\">E</text>\n",
       "<polyline fill=\"none\" stroke=\"#4a4a4a\" points=\"178.25,-131.25 334,-131.25\"/>\n",
       "<text text-anchor=\"middle\" x=\"217\" y=\"-113.95\" font-family=\"Times,serif\" font-size=\"14.00\" fill=\"white\">μ=1.000</text>\n",
       "<polyline fill=\"none\" stroke=\"#4a4a4a\" points=\"255.75,-106 255.75,-131.25\"/>\n",
       "<text text-anchor=\"middle\" x=\"294.88\" y=\"-113.95\" font-family=\"Times,serif\" font-size=\"14.00\" fill=\"white\">σ=2.000</text>\n",
       "</a>\n",
       "</g>\n",
       "</g>\n",
       "<!-- B&#45;&gt;E -->\n",
       "<g id=\"edge5\" class=\"edge\">\n",
       "<title>B-&gt;E</title>\n",
       "<g id=\"a_edge5\"><a xlink:title=\"(1, 4) : \">\n",
       "<path fill=\"none\" stroke=\"#4a4a4a\" d=\"M179.82,-211.22C193.18,-197.4 210.03,-179.96 224.49,-164.99\"/>\n",
       "<polygon fill=\"#4a4a4a\" stroke=\"#4a4a4a\" points=\"226.77,-167.67 231.2,-158.05 221.73,-162.81 226.77,-167.67\"/>\n",
       "</a>\n",
       "</g>\n",
       "<text text-anchor=\"middle\" x=\"228\" y=\"-178.75\" font-family=\"Times,serif\" font-size=\"15.00\">2.00</text>\n",
       "</g>\n",
       "<!-- F -->\n",
       "<g id=\"node6\" class=\"node\">\n",
       "<title>F</title>\n",
       "<g id=\"a_node6\"><a xlink:title=\"(5) F\">\n",
       "<path fill=\"#404040\" stroke=\"#4a4a4a\" d=\"M101.25,-0.5C101.25,-0.5 233,-0.5 233,-0.5 239,-0.5 245,-6.5 245,-12.5 245,-12.5 245,-39 245,-39 245,-45 239,-51 233,-51 233,-51 101.25,-51 101.25,-51 95.25,-51 89.25,-45 89.25,-39 89.25,-39 89.25,-12.5 89.25,-12.5 89.25,-6.5 95.25,-0.5 101.25,-0.5\"/>\n",
       "<text text-anchor=\"middle\" x=\"167.12\" y=\"-33.7\" font-family=\"Times,serif\" font-size=\"14.00\" fill=\"white\">F</text>\n",
       "<polyline fill=\"none\" stroke=\"#4a4a4a\" points=\"89.25,-25.75 245,-25.75\"/>\n",
       "<text text-anchor=\"middle\" x=\"128\" y=\"-8.45\" font-family=\"Times,serif\" font-size=\"14.00\" fill=\"white\">μ=0.000</text>\n",
       "<polyline fill=\"none\" stroke=\"#4a4a4a\" points=\"166.75,-0.5 166.75,-25.75\"/>\n",
       "<text text-anchor=\"middle\" x=\"205.88\" y=\"-8.45\" font-family=\"Times,serif\" font-size=\"14.00\" fill=\"white\">σ=0.001</text>\n",
       "</a>\n",
       "</g>\n",
       "</g>\n",
       "<!-- C&#45;&gt;F -->\n",
       "<g id=\"edge8\" class=\"edge\">\n",
       "<title>C-&gt;F</title>\n",
       "<g id=\"a_edge8\"><a xlink:title=\"(2, 5) : \">\n",
       "<path fill=\"none\" stroke=\"#4a4a4a\" d=\"M100.74,-105.72C112.25,-92.03 126.75,-74.78 139.26,-59.9\"/>\n",
       "<polygon fill=\"#4a4a4a\" stroke=\"#4a4a4a\" points=\"141.62,-62.53 145.38,-52.62 136.27,-58.02 141.62,-62.53\"/>\n",
       "</a>\n",
       "</g>\n",
       "<text text-anchor=\"middle\" x=\"145\" y=\"-73.25\" font-family=\"Times,serif\" font-size=\"15.00\">1.00</text>\n",
       "</g>\n",
       "<!-- D&#45;&gt;E -->\n",
       "<g id=\"edge3\" class=\"edge\">\n",
       "<title>D-&gt;E</title>\n",
       "<g id=\"a_edge3\"><a xlink:title=\"(3, 4) : \">\n",
       "<path fill=\"none\" stroke=\"#4a4a4a\" d=\"M312.59,-211.22C302.98,-197.79 290.93,-180.93 280.43,-166.24\"/>\n",
       "<polygon fill=\"#4a4a4a\" stroke=\"#4a4a4a\" points=\"283.34,-164.29 274.67,-158.19 277.64,-168.36 283.34,-164.29\"/>\n",
       "</a>\n",
       "</g>\n",
       "<text text-anchor=\"middle\" x=\"314\" y=\"-178.75\" font-family=\"Times,serif\" font-size=\"15.00\">1.00</text>\n",
       "</g>\n",
       "<!-- E&#45;&gt;F -->\n",
       "<g id=\"edge6\" class=\"edge\">\n",
       "<title>E-&gt;F</title>\n",
       "<g id=\"a_edge6\"><a xlink:title=\"(4, 5) : \">\n",
       "<path fill=\"none\" stroke=\"#4a4a4a\" d=\"M235.03,-105.72C223.26,-92.03 208.43,-74.78 195.63,-59.9\"/>\n",
       "<polygon fill=\"#4a4a4a\" stroke=\"#4a4a4a\" points=\"198.53,-57.91 189.36,-52.61 193.23,-62.47 198.53,-57.91\"/>\n",
       "</a>\n",
       "</g>\n",
       "<text text-anchor=\"middle\" x=\"233\" y=\"-73.25\" font-family=\"Times,serif\" font-size=\"15.00\">1.00</text>\n",
       "</g>\n",
       "</g>\n",
       "</svg></div><div class=\"floating-box\"><svg xmlns=\"http://www.w3.org/2000/svg\" xmlns:xlink=\"http://www.w3.org/1999/xlink\" width=\"179pt\" height=\"260pt\" viewBox=\"0.00 0.00 179.00 260.00\">\n",
       "<g id=\"graph0\" class=\"graph\" transform=\"scale(1 1) rotate(0) translate(4 256)\">\n",
       "<title>G</title>\n",
       "<!-- A -->\n",
       "<g id=\"node1\" class=\"node\">\n",
       "<title>A</title>\n",
       "<ellipse fill=\"grey\" stroke=\"#4a4a4a\" cx=\"27.36\" cy=\"-234\" rx=\"27\" ry=\"18\"/>\n",
       "<text text-anchor=\"middle\" x=\"27.36\" y=\"-229.32\" font-family=\"Times,serif\" font-size=\"14.00\" fill=\"#4a4a4a\">A</text>\n",
       "</g>\n",
       "<!-- B -->\n",
       "<g id=\"node2\" class=\"node\">\n",
       "<title>B</title>\n",
       "<ellipse fill=\"grey\" stroke=\"#4a4a4a\" cx=\"99.36\" cy=\"-162\" rx=\"27\" ry=\"18\"/>\n",
       "<text text-anchor=\"middle\" x=\"99.36\" y=\"-157.32\" font-family=\"Times,serif\" font-size=\"14.00\" fill=\"#4a4a4a\">B</text>\n",
       "</g>\n",
       "<!-- A&#45;&gt;B -->\n",
       "<g id=\"edge7\" class=\"edge\">\n",
       "<title>A-&gt;B</title>\n",
       "<path fill=\"none\" stroke=\"purple\" stroke-dasharray=\"5,2\" d=\"M42.63,-218.73C52.37,-208.99 65.17,-196.19 76.15,-185.21\"/>\n",
       "<polygon fill=\"purple\" stroke=\"purple\" points=\"78.45,-187.86 83.04,-178.32 73.5,-182.91 78.45,-187.86\"/>\n",
       "</g>\n",
       "<!-- C -->\n",
       "<g id=\"node3\" class=\"node\">\n",
       "<title>C</title>\n",
       "<ellipse fill=\"grey\" stroke=\"#4a4a4a\" cx=\"144\" cy=\"-90\" rx=\"27\" ry=\"18\"/>\n",
       "<text text-anchor=\"middle\" x=\"144\" y=\"-85.33\" font-family=\"Times,serif\" font-size=\"14.00\" fill=\"#4a4a4a\">C</text>\n",
       "</g>\n",
       "<!-- A&#45;&gt;C -->\n",
       "<g id=\"edge9\" class=\"edge\">\n",
       "<title>A-&gt;C</title>\n",
       "<path fill=\"none\" stroke=\"purple\" stroke-dasharray=\"5,2\" d=\"M34.99,-216.37C43.54,-197.8 58.66,-168.3 77.09,-146.62 88.59,-133.09 103.5,-120.13 116.33,-110.03\"/>\n",
       "<polygon fill=\"purple\" stroke=\"purple\" points=\"118.22,-113 124.03,-104.14 113.96,-107.44 118.22,-113\"/>\n",
       "</g>\n",
       "<!-- D -->\n",
       "<g id=\"node4\" class=\"node\">\n",
       "<title>D</title>\n",
       "<ellipse fill=\"grey\" stroke=\"#4a4a4a\" cx=\"27.36\" cy=\"-162\" rx=\"27\" ry=\"18\"/>\n",
       "<text text-anchor=\"middle\" x=\"27.36\" y=\"-157.32\" font-family=\"Times,serif\" font-size=\"14.00\" fill=\"#4a4a4a\">D</text>\n",
       "</g>\n",
       "<!-- A&#45;&gt;D -->\n",
       "<g id=\"edge3\" class=\"edge\">\n",
       "<title>A-&gt;D</title>\n",
       "<path fill=\"none\" stroke=\"grey\" d=\"M27.36,-215.83C27.36,-208.55 27.36,-199.98 27.36,-191.83\"/>\n",
       "<polygon fill=\"grey\" stroke=\"grey\" points=\"30.86,-191.93 27.36,-181.93 23.86,-191.93 30.86,-191.93\"/>\n",
       "</g>\n",
       "<!-- B&#45;&gt;C -->\n",
       "<g id=\"edge8\" class=\"edge\">\n",
       "<title>B-&gt;C</title>\n",
       "<path fill=\"none\" stroke=\"purple\" stroke-dasharray=\"5,2\" d=\"M109.94,-144.94C115.16,-136.51 121.59,-126.14 127.45,-116.7\"/>\n",
       "<polygon fill=\"purple\" stroke=\"purple\" points=\"130.4,-118.57 132.7,-108.23 124.46,-114.88 130.4,-118.57\"/>\n",
       "</g>\n",
       "<!-- E -->\n",
       "<g id=\"node5\" class=\"node\">\n",
       "<title>E</title>\n",
       "<ellipse fill=\"grey\" stroke=\"#4a4a4a\" cx=\"36\" cy=\"-90\" rx=\"27\" ry=\"18\"/>\n",
       "<text text-anchor=\"middle\" x=\"36\" y=\"-85.33\" font-family=\"Times,serif\" font-size=\"14.00\" fill=\"#4a4a4a\">E</text>\n",
       "</g>\n",
       "<!-- B&#45;&gt;E -->\n",
       "<g id=\"edge4\" class=\"edge\">\n",
       "<title>B-&gt;E</title>\n",
       "<path fill=\"none\" stroke=\"grey\" d=\"M85.61,-146.38C77.31,-136.94 66.56,-124.72 57.18,-114.07\"/>\n",
       "<polygon fill=\"grey\" stroke=\"grey\" points=\"59.96,-111.92 50.72,-106.73 54.7,-116.55 59.96,-111.92\"/>\n",
       "</g>\n",
       "<!-- F -->\n",
       "<g id=\"node6\" class=\"node\">\n",
       "<title>F</title>\n",
       "<ellipse fill=\"grey\" stroke=\"#4a4a4a\" cx=\"99.36\" cy=\"-18\" rx=\"27\" ry=\"18\"/>\n",
       "<text text-anchor=\"middle\" x=\"99.36\" y=\"-13.32\" font-family=\"Times,serif\" font-size=\"14.00\" fill=\"#4a4a4a\">F</text>\n",
       "</g>\n",
       "<!-- B&#45;&gt;F -->\n",
       "<g id=\"edge2\" class=\"edge\">\n",
       "<title>B-&gt;F</title>\n",
       "<path fill=\"none\" stroke=\"red\" stroke-dasharray=\"5,2\" d=\"M99.36,-143.76C99.36,-119.53 99.36,-76.41 99.36,-47.51\"/>\n",
       "<polygon fill=\"red\" stroke=\"red\" points=\"102.86,-47.6 99.36,-37.6 95.86,-47.6 102.86,-47.6\"/>\n",
       "</g>\n",
       "<!-- C&#45;&gt;F -->\n",
       "<g id=\"edge6\" class=\"edge\">\n",
       "<title>C-&gt;F</title>\n",
       "<path fill=\"none\" stroke=\"grey\" d=\"M133.42,-72.94C128.2,-64.51 121.77,-54.14 115.91,-44.7\"/>\n",
       "<polygon fill=\"grey\" stroke=\"grey\" points=\"118.9,-42.88 110.66,-36.23 112.96,-46.57 118.9,-42.88\"/>\n",
       "</g>\n",
       "<!-- D&#45;&gt;E -->\n",
       "<g id=\"edge1\" class=\"edge\">\n",
       "<title>D-&gt;E</title>\n",
       "<path fill=\"none\" stroke=\"grey\" d=\"M29.54,-143.83C30.41,-136.55 31.44,-127.98 32.42,-119.83\"/>\n",
       "<polygon fill=\"grey\" stroke=\"grey\" points=\"35.89,-120.26 33.61,-109.92 28.94,-119.43 35.89,-120.26\"/>\n",
       "</g>\n",
       "<!-- E&#45;&gt;F -->\n",
       "<g id=\"edge5\" class=\"edge\">\n",
       "<title>E-&gt;F</title>\n",
       "<path fill=\"none\" stroke=\"grey\" d=\"M49.75,-74.38C58.05,-64.94 68.8,-52.72 78.18,-42.07\"/>\n",
       "<polygon fill=\"grey\" stroke=\"grey\" points=\"80.66,-44.55 84.64,-34.73 75.4,-39.92 80.66,-44.55\"/>\n",
       "</g>\n",
       "</g>\n",
       "</svg></div><div class=\"floating-box\"><svg xmlns=\"http://www.w3.org/2000/svg\" xmlns:xlink=\"http://www.w3.org/1999/xlink\" width=\"215pt\" height=\"206pt\" viewBox=\"0.00 0.00 215.00 206.00\">\n",
       "<g id=\"graph0\" class=\"graph\" transform=\"scale(1 1) rotate(0) translate(4 202)\">\n",
       "<title>G</title>\n",
       "<!-- a -->\n",
       "<!-- b -->\n",
       "<!-- a&#45;&gt;b -->\n",
       "<g id=\"edge1\" class=\"edge\">\n",
       "<title>a-&gt;b</title>\n",
       "<path fill=\"none\" stroke=\"purple\" stroke-dasharray=\"5,2\" d=\"M54.3,-18C78.37,-18 114.25,-18 141.36,-18\"/>\n",
       "<polygon fill=\"purple\" stroke=\"purple\" points=\"141.23,-21.5 151.23,-18 141.23,-14.5 141.23,-21.5\"/>\n",
       "<text text-anchor=\"middle\" x=\"103.5\" y=\"-21.95\" font-family=\"Times,serif\" font-size=\"14.00\">overflow</text>\n",
       "</g>\n",
       "<!-- c -->\n",
       "<!-- d -->\n",
       "<!-- c&#45;&gt;d -->\n",
       "<g id=\"edge2\" class=\"edge\">\n",
       "<title>c-&gt;d</title>\n",
       "<path fill=\"none\" stroke=\"red\" stroke-dasharray=\"5,2\" d=\"M54.3,-72C78.37,-72 114.25,-72 141.36,-72\"/>\n",
       "<polygon fill=\"red\" stroke=\"red\" points=\"141.23,-75.5 151.23,-72 141.23,-68.5 141.23,-75.5\"/>\n",
       "<text text-anchor=\"middle\" x=\"103.5\" y=\"-75.95\" font-family=\"Times,serif\" font-size=\"14.00\">Missing</text>\n",
       "</g>\n",
       "<!-- e -->\n",
       "<!-- f -->\n",
       "<!-- e&#45;&gt;f -->\n",
       "<g id=\"edge3\" class=\"edge\">\n",
       "<title>e-&gt;f</title>\n",
       "<path fill=\"none\" stroke=\"purple\" d=\"M54.3,-126C78.37,-126 114.25,-126 141.36,-126\"/>\n",
       "<polygon fill=\"purple\" stroke=\"purple\" points=\"141.23,-129.5 151.23,-126 141.23,-122.5 141.23,-129.5\"/>\n",
       "<text text-anchor=\"middle\" x=\"103.5\" y=\"-129.95\" font-family=\"Times,serif\" font-size=\"14.00\">reversed</text>\n",
       "</g>\n",
       "<!-- g -->\n",
       "<!-- h -->\n",
       "<!-- g&#45;&gt;h -->\n",
       "<g id=\"edge4\" class=\"edge\">\n",
       "<title>g-&gt;h</title>\n",
       "<path fill=\"none\" stroke=\"grey\" d=\"M54.3,-180C78.37,-180 114.25,-180 141.36,-180\"/>\n",
       "<polygon fill=\"grey\" stroke=\"grey\" points=\"141.23,-183.5 151.23,-180 141.23,-176.5 141.23,-183.5\"/>\n",
       "<text text-anchor=\"middle\" x=\"103.5\" y=\"-183.95\" font-family=\"Times,serif\" font-size=\"14.00\">Correct</text>\n",
       "</g>\n",
       "</g>\n",
       "</svg></div><div class=\"floating-box\"><svg xmlns=\"http://www.w3.org/2000/svg\" xmlns:xlink=\"http://www.w3.org/1999/xlink\" width=\"157pt\" height=\"260pt\" viewBox=\"0.00 0.00 156.68 260.00\">\n",
       "<g id=\"graph0\" class=\"graph\" transform=\"scale(1 1) rotate(0) translate(4 256)\">\n",
       "<title>G</title>\n",
       "<!-- A -->\n",
       "<g id=\"node1\" class=\"node\">\n",
       "<title>A</title>\n",
       "<ellipse fill=\"grey\" stroke=\"#4a4a4a\" cx=\"49.68\" cy=\"-234\" rx=\"27\" ry=\"18\"/>\n",
       "<text text-anchor=\"middle\" x=\"49.68\" y=\"-229.32\" font-family=\"Times,serif\" font-size=\"14.00\" fill=\"#4a4a4a\">A</text>\n",
       "</g>\n",
       "<!-- B -->\n",
       "<g id=\"node2\" class=\"node\">\n",
       "<title>B</title>\n",
       "<ellipse fill=\"grey\" stroke=\"#4a4a4a\" cx=\"49.68\" cy=\"-162\" rx=\"27\" ry=\"18\"/>\n",
       "<text text-anchor=\"middle\" x=\"49.68\" y=\"-157.32\" font-family=\"Times,serif\" font-size=\"14.00\" fill=\"#4a4a4a\">B</text>\n",
       "</g>\n",
       "<!-- A&#45;&gt;B -->\n",
       "<g id=\"edge1\" class=\"edge\">\n",
       "<title>A-&gt;B</title>\n",
       "<path fill=\"none\" stroke=\"red\" stroke-dasharray=\"5,2\" d=\"M49.68,-215.83C49.68,-208.55 49.68,-199.98 49.68,-191.83\"/>\n",
       "<polygon fill=\"red\" stroke=\"red\" points=\"53.18,-191.93 49.68,-181.93 46.18,-191.93 53.18,-191.93\"/>\n",
       "</g>\n",
       "<!-- C -->\n",
       "<g id=\"node3\" class=\"node\">\n",
       "<title>C</title>\n",
       "<ellipse fill=\"grey\" stroke=\"#4a4a4a\" cx=\"27.36\" cy=\"-90\" rx=\"27\" ry=\"18\"/>\n",
       "<text text-anchor=\"middle\" x=\"27.36\" y=\"-85.33\" font-family=\"Times,serif\" font-size=\"14.00\" fill=\"#4a4a4a\">C</text>\n",
       "</g>\n",
       "<!-- A&#45;&gt;C -->\n",
       "<g id=\"edge7\" class=\"edge\">\n",
       "<title>A-&gt;C</title>\n",
       "<path fill=\"none\" stroke=\"red\" stroke-dasharray=\"5,2\" d=\"M39.13,-217.04C31.13,-202.93 21.06,-181.99 18.18,-162 16.16,-147.96 17.69,-132.35 20.04,-119.26\"/>\n",
       "<polygon fill=\"red\" stroke=\"red\" points=\"23.45,-120.05 22.05,-109.55 16.6,-118.64 23.45,-120.05\"/>\n",
       "</g>\n",
       "<!-- D -->\n",
       "<g id=\"node4\" class=\"node\">\n",
       "<title>D</title>\n",
       "<ellipse fill=\"grey\" stroke=\"#4a4a4a\" cx=\"121.68\" cy=\"-162\" rx=\"27\" ry=\"18\"/>\n",
       "<text text-anchor=\"middle\" x=\"121.68\" y=\"-157.32\" font-family=\"Times,serif\" font-size=\"14.00\" fill=\"#4a4a4a\">D</text>\n",
       "</g>\n",
       "<!-- A&#45;&gt;D -->\n",
       "<g id=\"edge4\" class=\"edge\">\n",
       "<title>A-&gt;D</title>\n",
       "<path fill=\"none\" stroke=\"grey\" d=\"M64.95,-218.73C74.69,-208.99 87.49,-196.19 98.47,-185.21\"/>\n",
       "<polygon fill=\"grey\" stroke=\"grey\" points=\"100.77,-187.86 105.36,-178.32 95.82,-182.91 100.77,-187.86\"/>\n",
       "</g>\n",
       "<!-- B&#45;&gt;C -->\n",
       "<g id=\"edge2\" class=\"edge\">\n",
       "<title>B-&gt;C</title>\n",
       "<path fill=\"none\" stroke=\"red\" stroke-dasharray=\"5,2\" d=\"M44.16,-144.2C41.79,-136.56 38.96,-127.43 36.31,-118.86\"/>\n",
       "<polygon fill=\"red\" stroke=\"red\" points=\"39.72,-118.05 33.42,-109.54 33.04,-120.13 39.72,-118.05\"/>\n",
       "</g>\n",
       "<!-- E -->\n",
       "<g id=\"node5\" class=\"node\">\n",
       "<title>E</title>\n",
       "<ellipse fill=\"grey\" stroke=\"#4a4a4a\" cx=\"99.36\" cy=\"-90\" rx=\"27\" ry=\"18\"/>\n",
       "<text text-anchor=\"middle\" x=\"99.36\" y=\"-85.33\" font-family=\"Times,serif\" font-size=\"14.00\" fill=\"#4a4a4a\">E</text>\n",
       "</g>\n",
       "<!-- B&#45;&gt;E -->\n",
       "<g id=\"edge5\" class=\"edge\">\n",
       "<title>B-&gt;E</title>\n",
       "<path fill=\"none\" stroke=\"grey\" d=\"M61.2,-145.3C67.22,-136.58 74.72,-125.71 81.48,-115.92\"/>\n",
       "<polygon fill=\"grey\" stroke=\"grey\" points=\"84.24,-118.07 87.04,-107.85 78.48,-114.1 84.24,-118.07\"/>\n",
       "</g>\n",
       "<!-- F -->\n",
       "<g id=\"node6\" class=\"node\">\n",
       "<title>F</title>\n",
       "<ellipse fill=\"grey\" stroke=\"#4a4a4a\" cx=\"63.36\" cy=\"-18\" rx=\"27\" ry=\"18\"/>\n",
       "<text text-anchor=\"middle\" x=\"63.36\" y=\"-13.32\" font-family=\"Times,serif\" font-size=\"14.00\" fill=\"#4a4a4a\">F</text>\n",
       "</g>\n",
       "<!-- B&#45;&gt;F -->\n",
       "<g id=\"edge9\" class=\"edge\">\n",
       "<title>B-&gt;F</title>\n",
       "<path fill=\"none\" stroke=\"purple\" stroke-dasharray=\"5,2\" d=\"M52.34,-143.69C54.38,-129.16 57.12,-108.32 58.86,-90 60.18,-76.06 61.21,-60.57 61.94,-47.54\"/>\n",
       "<polygon fill=\"purple\" stroke=\"purple\" points=\"65.42,-48.06 62.46,-37.88 58.43,-47.68 65.42,-48.06\"/>\n",
       "</g>\n",
       "<!-- C&#45;&gt;F -->\n",
       "<g id=\"edge8\" class=\"edge\">\n",
       "<title>C-&gt;F</title>\n",
       "<path fill=\"none\" stroke=\"grey\" d=\"M36.07,-72.57C40.11,-64.49 45.01,-54.7 49.53,-45.65\"/>\n",
       "<polygon fill=\"grey\" stroke=\"grey\" points=\"52.58,-47.38 53.92,-36.87 46.32,-44.25 52.58,-47.38\"/>\n",
       "</g>\n",
       "<!-- D&#45;&gt;E -->\n",
       "<g id=\"edge3\" class=\"edge\">\n",
       "<title>D-&gt;E</title>\n",
       "<path fill=\"none\" stroke=\"grey\" d=\"M116.16,-144.2C113.79,-136.56 110.96,-127.43 108.31,-118.86\"/>\n",
       "<polygon fill=\"grey\" stroke=\"grey\" points=\"111.72,-118.05 105.42,-109.54 105.04,-120.13 111.72,-118.05\"/>\n",
       "</g>\n",
       "<!-- E&#45;&gt;F -->\n",
       "<g id=\"edge6\" class=\"edge\">\n",
       "<title>E-&gt;F</title>\n",
       "<path fill=\"none\" stroke=\"grey\" d=\"M90.65,-72.57C86.61,-64.49 81.71,-54.7 77.19,-45.65\"/>\n",
       "<polygon fill=\"grey\" stroke=\"grey\" points=\"80.4,-44.25 72.8,-36.87 74.14,-47.38 80.4,-44.25\"/>\n",
       "</g>\n",
       "</g>\n",
       "</svg></div>"
      ],
      "text/plain": [
       "<IPython.core.display.HTML object>"
      ]
     },
     "metadata": {},
     "output_type": "display_data"
    }
   ],
   "source": [
    "gnb.flow.row(clg1,clg2,gcm.graphDiff(clg1,clg2),\n",
    "             gcm.graphDiffLegend(),\n",
    "             gcm.graphDiff(clg2,clg1))"
   ]
  },
  {
   "attachments": {},
   "cell_type": "markdown",
   "metadata": {
    "editable": true,
    "slideshow": {
     "slide_type": ""
    },
    "tags": []
   },
   "source": [
    "We compare the CLG models."
   ]
  },
  {
   "cell_type": "code",
   "execution_count": 20,
   "metadata": {
    "editable": true,
    "execution": {
     "iopub.execute_input": "2024-06-10T20:43:19.985536Z",
     "iopub.status.busy": "2024-06-10T20:43:19.985344Z",
     "iopub.status.idle": "2024-06-10T20:43:19.990442Z",
     "shell.execute_reply": "2024-06-10T20:43:19.989869Z",
     "shell.execute_reply.started": "2024-06-10T20:43:19.985517Z"
    },
    "slideshow": {
     "slide_type": ""
    },
    "tags": []
   },
   "outputs": [
    {
     "name": "stdout",
     "output_type": "stream",
     "text": [
      "F-score(clg1,clg1) : 1.0\n",
      "F-score(clg1,clg2) : 0.7142857142857143\n"
     ]
    }
   ],
   "source": [
    "# We use the F-score to compare the two CLGs\n",
    "cmp=gcm.GraphicalBNComparator(clg1,clg1)\n",
    "print(f\"F-score(clg1,clg1) : {cmp.scores()['fscore']}\")\n",
    "\n",
    "cmp=gcm.GraphicalBNComparator(clg1,clg2)\n",
    "print(f\"F-score(clg1,clg2) : {cmp.scores()['fscore']}\")\n"
   ]
  },
  {
   "cell_type": "code",
   "execution_count": 21,
   "metadata": {
    "editable": true,
    "execution": {
     "iopub.execute_input": "2024-06-10T20:43:19.991876Z",
     "iopub.status.busy": "2024-06-10T20:43:19.991720Z",
     "iopub.status.idle": "2024-06-10T20:43:19.997646Z",
     "shell.execute_reply": "2024-06-10T20:43:19.997077Z",
     "shell.execute_reply.started": "2024-06-10T20:43:19.991861Z"
    },
    "slideshow": {
     "slide_type": ""
    },
    "tags": []
   },
   "outputs": [
    {
     "name": "stdout",
     "output_type": "stream",
     "text": [
      "score(clg1,clg2) :\n",
      "  - count : {'tp': 5, 'tn': 21, 'fp': 3, 'fn': 1}\n",
      "  - recall : 0.8333333333333334\n",
      "  - precision : 0.625\n",
      "  - fscore : 0.7142857142857143\n",
      "  - dist2opt : 0.41036907507483766\n"
     ]
    }
   ],
   "source": [
    "# The complete list of structural scores is :\n",
    "print(\"score(clg1,clg2) :\")\n",
    "for score,val in cmp.scores().items():\n",
    "  print(f\"  - {score} : {val}\")"
   ]
  },
  {
   "attachments": {},
   "cell_type": "markdown",
   "metadata": {
    "editable": true,
    "slideshow": {
     "slide_type": ""
    },
    "tags": []
   },
   "source": [
    "## Forward Sampling"
   ]
  },
  {
   "cell_type": "code",
   "execution_count": 22,
   "metadata": {
    "editable": true,
    "execution": {
     "iopub.execute_input": "2024-06-10T20:43:19.998525Z",
     "iopub.status.busy": "2024-06-10T20:43:19.998374Z",
     "iopub.status.idle": "2024-06-10T20:43:20.065013Z",
     "shell.execute_reply": "2024-06-10T20:43:20.064276Z",
     "shell.execute_reply.started": "2024-06-10T20:43:19.998507Z"
    },
    "slideshow": {
     "slide_type": ""
    },
    "tags": []
   },
   "outputs": [
    {
     "data": {
      "text/html": [
       "<svg xmlns=\"http://www.w3.org/2000/svg\" xmlns:xlink=\"http://www.w3.org/1999/xlink\" width=\"164pt\" height=\"271pt\" viewBox=\"0.00 0.00 163.75 270.50\">\n",
       "<g id=\"graph0\" class=\"graph\" transform=\"scale(1 1) rotate(0) translate(4 266.5)\">\n",
       "<title>G</title>\n",
       "<!-- A -->\n",
       "<g id=\"node1\" class=\"node\">\n",
       "<title>A</title>\n",
       "<g id=\"a_node1\"><a xlink:title=\"(0) A\">\n",
       "<path fill=\"#404040\" stroke=\"#4a4a4a\" d=\"M12,-211.5C12,-211.5 143.75,-211.5 143.75,-211.5 149.75,-211.5 155.75,-217.5 155.75,-223.5 155.75,-223.5 155.75,-250 155.75,-250 155.75,-256 149.75,-262 143.75,-262 143.75,-262 12,-262 12,-262 6,-262 0,-256 0,-250 0,-250 0,-223.5 0,-223.5 0,-217.5 6,-211.5 12,-211.5\"/>\n",
       "<text text-anchor=\"middle\" x=\"77.88\" y=\"-244.7\" font-family=\"Times,serif\" font-size=\"14.00\" fill=\"white\">A</text>\n",
       "<polyline fill=\"none\" stroke=\"#4a4a4a\" points=\"0,-236.75 155.75,-236.75\"/>\n",
       "<text text-anchor=\"middle\" x=\"38.75\" y=\"-219.45\" font-family=\"Times,serif\" font-size=\"14.00\" fill=\"white\">μ=2.000</text>\n",
       "<polyline fill=\"none\" stroke=\"#4a4a4a\" points=\"77.5,-211.5 77.5,-236.75\"/>\n",
       "<text text-anchor=\"middle\" x=\"116.62\" y=\"-219.45\" font-family=\"Times,serif\" font-size=\"14.00\" fill=\"white\">σ=1.000</text>\n",
       "</a>\n",
       "</g>\n",
       "</g>\n",
       "<!-- B -->\n",
       "<g id=\"node2\" class=\"node\">\n",
       "<title>B</title>\n",
       "<g id=\"a_node2\"><a xlink:title=\"(1) B\">\n",
       "<path fill=\"#404040\" stroke=\"#4a4a4a\" d=\"M12,-106C12,-106 143.75,-106 143.75,-106 149.75,-106 155.75,-112 155.75,-118 155.75,-118 155.75,-144.5 155.75,-144.5 155.75,-150.5 149.75,-156.5 143.75,-156.5 143.75,-156.5 12,-156.5 12,-156.5 6,-156.5 0,-150.5 0,-144.5 0,-144.5 0,-118 0,-118 0,-112 6,-106 12,-106\"/>\n",
       "<text text-anchor=\"middle\" x=\"77.88\" y=\"-139.2\" font-family=\"Times,serif\" font-size=\"14.00\" fill=\"white\">B</text>\n",
       "<polyline fill=\"none\" stroke=\"#4a4a4a\" points=\"0,-131.25 155.75,-131.25\"/>\n",
       "<text text-anchor=\"middle\" x=\"38.75\" y=\"-113.95\" font-family=\"Times,serif\" font-size=\"14.00\" fill=\"white\">μ=1.000</text>\n",
       "<polyline fill=\"none\" stroke=\"#4a4a4a\" points=\"77.5,-106 77.5,-131.25\"/>\n",
       "<text text-anchor=\"middle\" x=\"116.62\" y=\"-113.95\" font-family=\"Times,serif\" font-size=\"14.00\" fill=\"white\">σ=2.000</text>\n",
       "</a>\n",
       "</g>\n",
       "</g>\n",
       "<!-- A&#45;&gt;B -->\n",
       "<g id=\"edge1\" class=\"edge\">\n",
       "<title>A-&gt;B</title>\n",
       "<g id=\"a_edge1\"><a xlink:title=\"(0, 1) : \">\n",
       "<path fill=\"none\" stroke=\"#4a4a4a\" d=\"M77.88,-211.22C77.88,-198.43 77.88,-182.53 77.88,-168.35\"/>\n",
       "<polygon fill=\"#4a4a4a\" stroke=\"#4a4a4a\" points=\"81.38,-168.47 77.88,-158.47 74.38,-168.47 81.38,-168.47\"/>\n",
       "</a>\n",
       "</g>\n",
       "<text text-anchor=\"middle\" x=\"94.75\" y=\"-178.75\" font-family=\"Times,serif\" font-size=\"15.00\">1.50</text>\n",
       "</g>\n",
       "<!-- C -->\n",
       "<g id=\"node3\" class=\"node\">\n",
       "<title>C</title>\n",
       "<g id=\"a_node3\"><a xlink:title=\"(2) C\">\n",
       "<path fill=\"#404040\" stroke=\"#4a4a4a\" d=\"M12,-0.5C12,-0.5 143.75,-0.5 143.75,-0.5 149.75,-0.5 155.75,-6.5 155.75,-12.5 155.75,-12.5 155.75,-39 155.75,-39 155.75,-45 149.75,-51 143.75,-51 143.75,-51 12,-51 12,-51 6,-51 0,-45 0,-39 0,-39 0,-12.5 0,-12.5 0,-6.5 6,-0.5 12,-0.5\"/>\n",
       "<text text-anchor=\"middle\" x=\"77.88\" y=\"-33.7\" font-family=\"Times,serif\" font-size=\"14.00\" fill=\"white\">C</text>\n",
       "<polyline fill=\"none\" stroke=\"#4a4a4a\" points=\"0,-25.75 155.75,-25.75\"/>\n",
       "<text text-anchor=\"middle\" x=\"38.75\" y=\"-8.45\" font-family=\"Times,serif\" font-size=\"14.00\" fill=\"white\">μ=2.000</text>\n",
       "<polyline fill=\"none\" stroke=\"#4a4a4a\" points=\"77.5,-0.5 77.5,-25.75\"/>\n",
       "<text text-anchor=\"middle\" x=\"116.62\" y=\"-8.45\" font-family=\"Times,serif\" font-size=\"14.00\" fill=\"white\">σ=3.000</text>\n",
       "</a>\n",
       "</g>\n",
       "</g>\n",
       "<!-- B&#45;&gt;C -->\n",
       "<g id=\"edge2\" class=\"edge\">\n",
       "<title>B-&gt;C</title>\n",
       "<g id=\"a_edge2\"><a xlink:title=\"(1, 2) : \">\n",
       "<path fill=\"none\" stroke=\"#4a4a4a\" d=\"M77.88,-105.72C77.88,-92.93 77.88,-77.03 77.88,-62.85\"/>\n",
       "<polygon fill=\"#4a4a4a\" stroke=\"#4a4a4a\" points=\"81.38,-62.97 77.88,-52.97 74.38,-62.97 81.38,-62.97\"/>\n",
       "</a>\n",
       "</g>\n",
       "<text text-anchor=\"middle\" x=\"94.75\" y=\"-73.25\" font-family=\"Times,serif\" font-size=\"15.00\">0.75</text>\n",
       "</g>\n",
       "</g>\n",
       "</svg>"
      ],
      "text/plain": [
       "<pydot.core.Dot at 0x7f68d86f9190>"
      ]
     },
     "execution_count": 22,
     "metadata": {},
     "output_type": "execute_result"
    }
   ],
   "source": [
    "# We create a simple CLG with 3 variables\n",
    "clg = gclg.CLG()\n",
    "# prog=« sigma=2;X=N(5);Y=N(3);Z=X+Y »\n",
    "A = gclg.GaussianVariable(mu=2, sigma=1, name='A')\n",
    "B = gclg.GaussianVariable(mu=1, sigma=2, name='B')\n",
    "C = gclg.GaussianVariable(mu=2, sigma=3, name='C')\n",
    "  \n",
    "idA = clg.add(A)\n",
    "idB = clg.add(B)\n",
    "idC = clg.add(C)\n",
    "\n",
    "clg.addArc(idA, idB, 1.5)\n",
    "clg.addArc(idB, idC, 0.75)\n",
    "\n",
    "# We can show it as a graph\n",
    "original_clg = gclgnb.CLG2dot(clg)\n",
    "original_clg"
   ]
  },
  {
   "cell_type": "code",
   "execution_count": 23,
   "metadata": {
    "editable": true,
    "execution": {
     "iopub.execute_input": "2024-06-10T20:43:20.066309Z",
     "iopub.status.busy": "2024-06-10T20:43:20.066034Z",
     "iopub.status.idle": "2024-06-10T20:43:20.071962Z",
     "shell.execute_reply": "2024-06-10T20:43:20.071398Z",
     "shell.execute_reply.started": "2024-06-10T20:43:20.066281Z"
    },
    "slideshow": {
     "slide_type": ""
    },
    "tags": []
   },
   "outputs": [
    {
     "data": {
      "text/plain": [
       "<pyAgrum.clg.ForwardSampling.ForwardSampling at 0x7f68d8750470>"
      ]
     },
     "execution_count": 23,
     "metadata": {},
     "output_type": "execute_result"
    }
   ],
   "source": [
    "fs = gclg.ForwardSampling(clg)\n",
    "fs.makeSample(10)"
   ]
  },
  {
   "cell_type": "code",
   "execution_count": 24,
   "metadata": {
    "editable": true,
    "execution": {
     "iopub.execute_input": "2024-06-10T20:43:20.072736Z",
     "iopub.status.busy": "2024-06-10T20:43:20.072572Z",
     "iopub.status.idle": "2024-06-10T20:43:20.076817Z",
     "shell.execute_reply": "2024-06-10T20:43:20.076259Z",
     "shell.execute_reply.started": "2024-06-10T20:43:20.072721Z"
    },
    "jupyter": {
     "source_hidden": true
    },
    "slideshow": {
     "slide_type": ""
    },
    "tags": []
   },
   "outputs": [
    {
     "name": "stdout",
     "output_type": "stream",
     "text": [
      "A's sample_variance:  0.7795087610871779\n",
      "B's sample_variance:  5.140620601206796\n",
      "C's sample_variance:  13.642131481701032\n"
     ]
    }
   ],
   "source": [
    "print(\"A's sample_variance: \", fs.variance_sample(0))\n",
    "print(\"B's sample_variance: \", fs.variance_sample('B'))\n",
    "print(\"C's sample_variance: \", fs.variance_sample(2))"
   ]
  },
  {
   "cell_type": "code",
   "execution_count": 25,
   "metadata": {
    "editable": true,
    "execution": {
     "iopub.execute_input": "2024-06-10T20:43:20.077442Z",
     "iopub.status.busy": "2024-06-10T20:43:20.077330Z",
     "iopub.status.idle": "2024-06-10T20:43:20.080676Z",
     "shell.execute_reply": "2024-06-10T20:43:20.080169Z",
     "shell.execute_reply.started": "2024-06-10T20:43:20.077430Z"
    },
    "slideshow": {
     "slide_type": ""
    },
    "tags": []
   },
   "outputs": [
    {
     "name": "stdout",
     "output_type": "stream",
     "text": [
      "A's sample_mean:  1.539819188823477\n",
      "B's sample_mean:  3.4024487175443965\n",
      "C's sample_mean:  4.927921600105927\n"
     ]
    }
   ],
   "source": [
    "print(\"A's sample_mean: \", fs.mean_sample('A'))\n",
    "print(\"B's sample_mean: \", fs.mean_sample('B'))\n",
    "print(\"C's sample_mean: \", fs.mean_sample('C'))"
   ]
  },
  {
   "cell_type": "code",
   "execution_count": 26,
   "metadata": {
    "editable": true,
    "execution": {
     "iopub.execute_input": "2024-06-10T20:43:20.081533Z",
     "iopub.status.busy": "2024-06-10T20:43:20.081401Z",
     "iopub.status.idle": "2024-06-10T20:43:20.085026Z",
     "shell.execute_reply": "2024-06-10T20:43:20.084586Z",
     "shell.execute_reply.started": "2024-06-10T20:43:20.081520Z"
    },
    "slideshow": {
     "slide_type": ""
    },
    "tags": []
   },
   "outputs": [
    {
     "data": {
      "text/plain": [
       "array([[ 1.94037353,  4.03820811,  4.89803413],\n",
       "       [ 0.93687625,  3.20734717,  3.6778948 ],\n",
       "       [ 0.5791177 ,  3.82921703,  6.73422513],\n",
       "       [ 2.2394681 ,  1.90299031,  1.47897397],\n",
       "       [ 3.17768148,  6.25186032, 12.49536449],\n",
       "       [ 0.9071907 ,  4.84493527,  2.67220237],\n",
       "       [ 0.71315526,  0.08311609,  2.09331904],\n",
       "       [ 1.5078842 ,  1.84666655,  9.34250295],\n",
       "       [ 2.70848462,  7.4854644 ,  6.25581604],\n",
       "       [ 0.68796006,  0.53468192, -0.36911694]])"
      ]
     },
     "execution_count": 26,
     "metadata": {},
     "output_type": "execute_result"
    }
   ],
   "source": [
    "fs.toarray()"
   ]
  },
  {
   "cell_type": "code",
   "execution_count": 27,
   "metadata": {
    "editable": true,
    "execution": {
     "iopub.execute_input": "2024-06-10T20:43:20.797686Z",
     "iopub.status.busy": "2024-06-10T20:43:20.796938Z",
     "iopub.status.idle": "2024-06-10T20:43:20.809494Z",
     "shell.execute_reply": "2024-06-10T20:43:20.808944Z",
     "shell.execute_reply.started": "2024-06-10T20:43:20.797633Z"
    },
    "slideshow": {
     "slide_type": ""
    },
    "tags": []
   },
   "outputs": [
    {
     "data": {
      "text/html": [
       "<div>\n",
       "<style scoped>\n",
       "    .dataframe tbody tr th:only-of-type {\n",
       "        vertical-align: middle;\n",
       "    }\n",
       "\n",
       "    .dataframe tbody tr th {\n",
       "        vertical-align: top;\n",
       "    }\n",
       "\n",
       "    .dataframe thead th {\n",
       "        text-align: right;\n",
       "    }\n",
       "</style>\n",
       "<table border=\"1\" class=\"dataframe\">\n",
       "  <thead>\n",
       "    <tr style=\"text-align: right;\">\n",
       "      <th></th>\n",
       "      <th>A</th>\n",
       "      <th>B</th>\n",
       "      <th>C</th>\n",
       "    </tr>\n",
       "  </thead>\n",
       "  <tbody>\n",
       "    <tr>\n",
       "      <th>0</th>\n",
       "      <td>1.940374</td>\n",
       "      <td>4.038208</td>\n",
       "      <td>4.898034</td>\n",
       "    </tr>\n",
       "    <tr>\n",
       "      <th>1</th>\n",
       "      <td>0.936876</td>\n",
       "      <td>3.207347</td>\n",
       "      <td>3.677895</td>\n",
       "    </tr>\n",
       "    <tr>\n",
       "      <th>2</th>\n",
       "      <td>0.579118</td>\n",
       "      <td>3.829217</td>\n",
       "      <td>6.734225</td>\n",
       "    </tr>\n",
       "    <tr>\n",
       "      <th>3</th>\n",
       "      <td>2.239468</td>\n",
       "      <td>1.902990</td>\n",
       "      <td>1.478974</td>\n",
       "    </tr>\n",
       "    <tr>\n",
       "      <th>4</th>\n",
       "      <td>3.177681</td>\n",
       "      <td>6.251860</td>\n",
       "      <td>12.495364</td>\n",
       "    </tr>\n",
       "    <tr>\n",
       "      <th>5</th>\n",
       "      <td>0.907191</td>\n",
       "      <td>4.844935</td>\n",
       "      <td>2.672202</td>\n",
       "    </tr>\n",
       "    <tr>\n",
       "      <th>6</th>\n",
       "      <td>0.713155</td>\n",
       "      <td>0.083116</td>\n",
       "      <td>2.093319</td>\n",
       "    </tr>\n",
       "    <tr>\n",
       "      <th>7</th>\n",
       "      <td>1.507884</td>\n",
       "      <td>1.846667</td>\n",
       "      <td>9.342503</td>\n",
       "    </tr>\n",
       "    <tr>\n",
       "      <th>8</th>\n",
       "      <td>2.708485</td>\n",
       "      <td>7.485464</td>\n",
       "      <td>6.255816</td>\n",
       "    </tr>\n",
       "    <tr>\n",
       "      <th>9</th>\n",
       "      <td>0.687960</td>\n",
       "      <td>0.534682</td>\n",
       "      <td>-0.369117</td>\n",
       "    </tr>\n",
       "  </tbody>\n",
       "</table>\n",
       "</div>"
      ],
      "text/plain": [
       "          A         B          C\n",
       "0  1.940374  4.038208   4.898034\n",
       "1  0.936876  3.207347   3.677895\n",
       "2  0.579118  3.829217   6.734225\n",
       "3  2.239468  1.902990   1.478974\n",
       "4  3.177681  6.251860  12.495364\n",
       "5  0.907191  4.844935   2.672202\n",
       "6  0.713155  0.083116   2.093319\n",
       "7  1.507884  1.846667   9.342503\n",
       "8  2.708485  7.485464   6.255816\n",
       "9  0.687960  0.534682  -0.369117"
      ]
     },
     "execution_count": 27,
     "metadata": {},
     "output_type": "execute_result"
    }
   ],
   "source": [
    "# export to dataframe\n",
    "fs.topandas()"
   ]
  },
  {
   "cell_type": "code",
   "execution_count": 28,
   "metadata": {
    "editable": true,
    "execution": {
     "iopub.execute_input": "2024-06-10T20:43:21.745680Z",
     "iopub.status.busy": "2024-06-10T20:43:21.744981Z",
     "iopub.status.idle": "2024-06-10T20:43:21.823364Z",
     "shell.execute_reply": "2024-06-10T20:43:21.822769Z",
     "shell.execute_reply.started": "2024-06-10T20:43:21.745632Z"
    },
    "slideshow": {
     "slide_type": ""
    },
    "tags": []
   },
   "outputs": [],
   "source": [
    "# export to csv\n",
    "fs.makeSample(10000)\n",
    "fs.tocsv('./out/samples.csv')"
   ]
  },
  {
   "attachments": {},
   "cell_type": "markdown",
   "metadata": {
    "editable": true,
    "slideshow": {
     "slide_type": ""
    },
    "tags": []
   },
   "source": [
    "## PC-algorithm & Parameter Estimation"
   ]
  },
  {
   "attachments": {},
   "cell_type": "markdown",
   "metadata": {
    "editable": true,
    "slideshow": {
     "slide_type": ""
    },
    "tags": []
   },
   "source": [
    "The module allows to investigale more deeply into the learning algorithm.\n",
    "\n",
    "We first create a random CLG model with 5 variables."
   ]
  },
  {
   "cell_type": "code",
   "execution_count": 29,
   "metadata": {
    "editable": true,
    "execution": {
     "iopub.execute_input": "2024-06-10T20:43:23.701885Z",
     "iopub.status.busy": "2024-06-10T20:43:23.701178Z",
     "iopub.status.idle": "2024-06-10T20:43:23.728908Z",
     "shell.execute_reply": "2024-06-10T20:43:23.728326Z",
     "shell.execute_reply.started": "2024-06-10T20:43:23.701835Z"
    },
    "slideshow": {
     "slide_type": ""
    },
    "tags": []
   },
   "outputs": [
    {
     "name": "stdout",
     "output_type": "stream",
     "text": [
      "CLG{nodes: 5, arcs: 5, parameters: 15}\n"
     ]
    }
   ],
   "source": [
    "# Create a new random CLG\n",
    "clg = gclg.randomCLG(nb_variables=5, names=\"ABCDE\")\n",
    "\n",
    "# Display the CLG\n",
    "print(clg)"
   ]
  },
  {
   "attachments": {},
   "cell_type": "markdown",
   "metadata": {
    "editable": true,
    "slideshow": {
     "slide_type": ""
    },
    "tags": []
   },
   "source": [
    "We then do the Forward Sampling and CLGLearner."
   ]
  },
  {
   "cell_type": "code",
   "execution_count": 30,
   "metadata": {
    "editable": true,
    "execution": {
     "iopub.execute_input": "2024-06-10T20:43:25.273822Z",
     "iopub.status.busy": "2024-06-10T20:43:25.273121Z",
     "iopub.status.idle": "2024-06-10T20:43:25.403717Z",
     "shell.execute_reply": "2024-06-10T20:43:25.403140Z",
     "shell.execute_reply.started": "2024-06-10T20:43:25.273774Z"
    },
    "slideshow": {
     "slide_type": ""
    },
    "tags": []
   },
   "outputs": [],
   "source": [
    "n = 20 # n is the selected values of MC number n in n-MCERA\n",
    "K = 10000 # K is the list of selected values of number of samples\n",
    "Delta = 0.05 # Delta is the FWER we want to control\n",
    "\n",
    "# Sample generation\n",
    "fs = gclg.ForwardSampling(clg)\n",
    "fs.makeSample(K).tocsv('./out/clg.csv')\n",
    "\n",
    "# Learning\n",
    "RAveL_l = gclg.CLGLearner('./out/clg.csv',n_sample=n,fwer_delta=Delta)"
   ]
  },
  {
   "attachments": {},
   "cell_type": "markdown",
   "metadata": {
    "editable": true,
    "slideshow": {
     "slide_type": ""
    },
    "tags": []
   },
   "source": [
    "We use the PC algorithme to learn the structure of the model."
   ]
  },
  {
   "cell_type": "code",
   "execution_count": 31,
   "metadata": {
    "editable": true,
    "execution": {
     "iopub.execute_input": "2024-06-10T20:43:26.837784Z",
     "iopub.status.busy": "2024-06-10T20:43:26.837002Z",
     "iopub.status.idle": "2024-06-10T20:43:33.541818Z",
     "shell.execute_reply": "2024-06-10T20:43:33.541066Z",
     "shell.execute_reply.started": "2024-06-10T20:43:26.837735Z"
    },
    "slideshow": {
     "slide_type": ""
    },
    "tags": []
   },
   "outputs": [
    {
     "name": "stdout",
     "output_type": "stream",
     "text": [
      "The final skeleton is:\n",
      " {0: {1, 4}, 1: set(), 2: {3}, 3: set(), 4: set()}\n"
     ]
    }
   ],
   "source": [
    "# Use the PC algorithm to get the skeleton\n",
    "C = RAveL_l.PC_algorithm(order=clg.nodes(), verbose=False)\n",
    "print(\"The final skeleton is:\\n\", C)"
   ]
  },
  {
   "cell_type": "code",
   "execution_count": 32,
   "metadata": {
    "editable": true,
    "execution": {
     "iopub.execute_input": "2024-06-10T20:43:33.542889Z",
     "iopub.status.busy": "2024-06-10T20:43:33.542773Z",
     "iopub.status.idle": "2024-06-10T20:43:33.700819Z",
     "shell.execute_reply": "2024-06-10T20:43:33.700218Z",
     "shell.execute_reply.started": "2024-06-10T20:43:33.542879Z"
    },
    "slideshow": {
     "slide_type": ""
    },
    "tags": []
   },
   "outputs": [
    {
     "data": {
      "text/html": [
       "<svg xmlns=\"http://www.w3.org/2000/svg\" xmlns:xlink=\"http://www.w3.org/1999/xlink\" width=\"206pt\" height=\"116pt\" viewBox=\"0.00 0.00 206.00 116.00\">\n",
       "<g id=\"graph0\" class=\"graph\" transform=\"scale(1 1) rotate(0) translate(4 112)\">\n",
       "<title>no_name</title>\n",
       "<!-- 0 -->\n",
       "<g id=\"node1\" class=\"node\">\n",
       "<title>0</title>\n",
       "<ellipse fill=\"none\" stroke=\"#4a4a4a\" cx=\"63\" cy=\"-90\" rx=\"27\" ry=\"18\"/>\n",
       "<text text-anchor=\"middle\" x=\"63\" y=\"-85.33\" font-family=\"Times,serif\" font-size=\"14.00\" fill=\"#4a4a4a\">0</text>\n",
       "</g>\n",
       "<!-- 1 -->\n",
       "<g id=\"node2\" class=\"node\">\n",
       "<title>1</title>\n",
       "<ellipse fill=\"none\" stroke=\"#4a4a4a\" cx=\"27\" cy=\"-18\" rx=\"27\" ry=\"18\"/>\n",
       "<text text-anchor=\"middle\" x=\"27\" y=\"-13.32\" font-family=\"Times,serif\" font-size=\"14.00\" fill=\"#4a4a4a\">1</text>\n",
       "</g>\n",
       "<!-- 0&#45;&gt;1 -->\n",
       "<g id=\"edge1\" class=\"edge\">\n",
       "<title>0-&gt;1</title>\n",
       "<path fill=\"none\" stroke=\"#4a4a4a\" d=\"M54.65,-72.76C50.42,-64.55 45.19,-54.37 40.42,-45.09\"/>\n",
       "<polygon fill=\"#4a4a4a\" stroke=\"#4a4a4a\" points=\"43.68,-43.79 36,-36.49 37.46,-46.99 43.68,-43.79\"/>\n",
       "</g>\n",
       "<!-- 4 -->\n",
       "<g id=\"node5\" class=\"node\">\n",
       "<title>4</title>\n",
       "<ellipse fill=\"none\" stroke=\"#4a4a4a\" cx=\"99\" cy=\"-18\" rx=\"27\" ry=\"18\"/>\n",
       "<text text-anchor=\"middle\" x=\"99\" y=\"-13.32\" font-family=\"Times,serif\" font-size=\"14.00\" fill=\"#4a4a4a\">4</text>\n",
       "</g>\n",
       "<!-- 0&#45;&gt;4 -->\n",
       "<g id=\"edge2\" class=\"edge\">\n",
       "<title>0-&gt;4</title>\n",
       "<path fill=\"none\" stroke=\"#4a4a4a\" d=\"M71.35,-72.76C75.58,-64.55 80.81,-54.37 85.58,-45.09\"/>\n",
       "<polygon fill=\"#4a4a4a\" stroke=\"#4a4a4a\" points=\"88.54,-46.99 90,-36.49 82.32,-43.79 88.54,-46.99\"/>\n",
       "</g>\n",
       "<!-- 2 -->\n",
       "<g id=\"node3\" class=\"node\">\n",
       "<title>2</title>\n",
       "<ellipse fill=\"none\" stroke=\"#4a4a4a\" cx=\"171\" cy=\"-90\" rx=\"27\" ry=\"18\"/>\n",
       "<text text-anchor=\"middle\" x=\"171\" y=\"-85.33\" font-family=\"Times,serif\" font-size=\"14.00\" fill=\"#4a4a4a\">2</text>\n",
       "</g>\n",
       "<!-- 3 -->\n",
       "<g id=\"node4\" class=\"node\">\n",
       "<title>3</title>\n",
       "<ellipse fill=\"none\" stroke=\"#4a4a4a\" cx=\"171\" cy=\"-18\" rx=\"27\" ry=\"18\"/>\n",
       "<text text-anchor=\"middle\" x=\"171\" y=\"-13.32\" font-family=\"Times,serif\" font-size=\"14.00\" fill=\"#4a4a4a\">3</text>\n",
       "</g>\n",
       "<!-- 2&#45;&gt;3 -->\n",
       "<g id=\"edge3\" class=\"edge\">\n",
       "<title>2-&gt;3</title>\n",
       "<path fill=\"none\" stroke=\"#4a4a4a\" d=\"M171,-71.7C171,-64.41 171,-55.73 171,-47.54\"/>\n",
       "<polygon fill=\"#4a4a4a\" stroke=\"#4a4a4a\" points=\"174.5,-47.62 171,-37.62 167.5,-47.62 174.5,-47.62\"/>\n",
       "</g>\n",
       "</g>\n",
       "</svg>"
      ],
      "text/plain": [
       "(pyAgrum.MixedGraph@0x55aaa7d7a5b0) {0,1,2,3,4} , {0->1,2->3,0->4} , {}"
      ]
     },
     "execution_count": 32,
     "metadata": {},
     "output_type": "execute_result"
    }
   ],
   "source": [
    "# Create a Mixedgraph to display the skeleton\n",
    "RAveL_MixGraph = gum.MixedGraph()\n",
    "\n",
    "# Add variables\n",
    "for i in range(len(clg.names())):\n",
    "  RAveL_MixGraph.addNodeWithId(i)\n",
    "\n",
    "# Add arcs and edges\n",
    "for father, kids in C.items():\n",
    "  for kid in kids:\n",
    "    if father in C[kid]:\n",
    "      RAveL_MixGraph.addEdge(father, kid)\n",
    "    else:\n",
    "      RAveL_MixGraph.addArc(father, kid)\n",
    "\n",
    "RAveL_MixGraph"
   ]
  },
  {
   "cell_type": "code",
   "execution_count": 33,
   "metadata": {
    "editable": true,
    "execution": {
     "iopub.execute_input": "2024-06-10T20:43:33.701474Z",
     "iopub.status.busy": "2024-06-10T20:43:33.701376Z",
     "iopub.status.idle": "2024-06-10T20:43:33.798667Z",
     "shell.execute_reply": "2024-06-10T20:43:33.797875Z",
     "shell.execute_reply.started": "2024-06-10T20:43:33.701464Z"
    },
    "slideshow": {
     "slide_type": ""
    },
    "tags": []
   },
   "outputs": [
    {
     "data": {
      "text/html": [
       "<svg xmlns=\"http://www.w3.org/2000/svg\" xmlns:xlink=\"http://www.w3.org/1999/xlink\" width=\"206pt\" height=\"116pt\" viewBox=\"0.00 0.00 206.00 116.00\">\n",
       "<g id=\"graph0\" class=\"graph\" transform=\"scale(1 1) rotate(0) translate(4 112)\">\n",
       "<title>no_name</title>\n",
       "<!-- 0 -->\n",
       "<g id=\"node1\" class=\"node\">\n",
       "<title>0</title>\n",
       "<ellipse fill=\"none\" stroke=\"#4a4a4a\" cx=\"99\" cy=\"-90\" rx=\"27\" ry=\"18\"/>\n",
       "<text text-anchor=\"middle\" x=\"99\" y=\"-85.33\" font-family=\"Times,serif\" font-size=\"14.00\" fill=\"#4a4a4a\">C</text>\n",
       "</g>\n",
       "<!-- 1 -->\n",
       "<g id=\"node2\" class=\"node\">\n",
       "<title>1</title>\n",
       "<ellipse fill=\"none\" stroke=\"#4a4a4a\" cx=\"27\" cy=\"-18\" rx=\"27\" ry=\"18\"/>\n",
       "<text text-anchor=\"middle\" x=\"27\" y=\"-13.32\" font-family=\"Times,serif\" font-size=\"14.00\" fill=\"#4a4a4a\">E</text>\n",
       "</g>\n",
       "<!-- 0&#45;&gt;1 -->\n",
       "<g id=\"edge2\" class=\"edge\">\n",
       "<title>0-&gt;1</title>\n",
       "<path fill=\"none\" stroke=\"#4a4a4a\" d=\"M84.08,-74.5C71.72,-62.48 54.25,-45.49 41.9,-33.49\"/>\n",
       "</g>\n",
       "<!-- 3 -->\n",
       "<g id=\"node4\" class=\"node\">\n",
       "<title>3</title>\n",
       "<ellipse fill=\"none\" stroke=\"#4a4a4a\" cx=\"171\" cy=\"-18\" rx=\"27\" ry=\"18\"/>\n",
       "<text text-anchor=\"middle\" x=\"171\" y=\"-13.32\" font-family=\"Times,serif\" font-size=\"14.00\" fill=\"#4a4a4a\">B</text>\n",
       "</g>\n",
       "<!-- 0&#45;&gt;3 -->\n",
       "<g id=\"edge1\" class=\"edge\">\n",
       "<title>0-&gt;3</title>\n",
       "<path fill=\"none\" stroke=\"#4a4a4a\" d=\"M113.92,-74.5C126.28,-62.48 143.75,-45.49 156.1,-33.49\"/>\n",
       "</g>\n",
       "<!-- 4 -->\n",
       "<g id=\"node5\" class=\"node\">\n",
       "<title>4</title>\n",
       "<ellipse fill=\"none\" stroke=\"#4a4a4a\" cx=\"99\" cy=\"-18\" rx=\"27\" ry=\"18\"/>\n",
       "<text text-anchor=\"middle\" x=\"99\" y=\"-13.32\" font-family=\"Times,serif\" font-size=\"14.00\" fill=\"#4a4a4a\">D</text>\n",
       "</g>\n",
       "<!-- 0&#45;&gt;4 -->\n",
       "<g id=\"edge3\" class=\"edge\">\n",
       "<title>0-&gt;4</title>\n",
       "<path fill=\"none\" stroke=\"red\" d=\"M99,-71.7C99,-64.41 99,-55.73 99,-47.54\"/>\n",
       "<polygon fill=\"red\" stroke=\"red\" points=\"102.5,-47.62 99,-37.62 95.5,-47.62 102.5,-47.62\"/>\n",
       "</g>\n",
       "<!-- 2 -->\n",
       "<g id=\"node3\" class=\"node\">\n",
       "<title>2</title>\n",
       "<ellipse fill=\"none\" stroke=\"#4a4a4a\" cx=\"171\" cy=\"-90\" rx=\"27\" ry=\"18\"/>\n",
       "<text text-anchor=\"middle\" x=\"171\" y=\"-85.33\" font-family=\"Times,serif\" font-size=\"14.00\" fill=\"#4a4a4a\">A</text>\n",
       "</g>\n",
       "<!-- 2&#45;&gt;3 -->\n",
       "<g id=\"edge4\" class=\"edge\">\n",
       "<title>2-&gt;3</title>\n",
       "<path fill=\"none\" stroke=\"#4a4a4a\" d=\"M171,-71.7C171,-60.85 171,-46.92 171,-36.1\"/>\n",
       "</g>\n",
       "<!-- 2&#45;&gt;4 -->\n",
       "<g id=\"edge5\" class=\"edge\">\n",
       "<title>2-&gt;4</title>\n",
       "<path fill=\"none\" stroke=\"red\" d=\"M156.08,-74.5C146.23,-64.92 133.14,-52.19 121.97,-41.34\"/>\n",
       "<polygon fill=\"red\" stroke=\"red\" points=\"124.59,-39 114.98,-34.54 119.71,-44.02 124.59,-39\"/>\n",
       "</g>\n",
       "</g>\n",
       "</svg>"
      ],
      "text/plain": [
       "<pyAgrum.pyAgrum.EssentialGraph; proxy of <Swig Object of type 'gum::EssentialGraph *' at 0x7f68d38642d0> >"
      ]
     },
     "execution_count": 33,
     "metadata": {},
     "output_type": "execute_result"
    }
   ],
   "source": [
    "# Create a BN with the same structure as the CLG\n",
    "bn = gum.BayesNet()\n",
    "# add variables\n",
    "for name in clg.names():\n",
    "  new_variable = gum.LabelizedVariable(name,'a labelized variable',2)\n",
    "  bn.add(new_variable)\n",
    "# add arcs\n",
    "for arc in clg.arcs():\n",
    "  bn.addArc(arc[0], arc[1])\n",
    "\n",
    "# Compare the result above with the EssentialGraph\n",
    "Real_EssentialGraph = gum.EssentialGraph(bn)\n",
    "\n",
    "Real_EssentialGraph"
   ]
  },
  {
   "cell_type": "code",
   "execution_count": 34,
   "metadata": {
    "editable": true,
    "execution": {
     "iopub.execute_input": "2024-06-10T20:43:33.800715Z",
     "iopub.status.busy": "2024-06-10T20:43:33.800381Z",
     "iopub.status.idle": "2024-06-10T20:43:33.806493Z",
     "shell.execute_reply": "2024-06-10T20:43:33.805919Z",
     "shell.execute_reply.started": "2024-06-10T20:43:33.800685Z"
    },
    "slideshow": {
     "slide_type": ""
    },
    "tags": []
   },
   "outputs": [
    {
     "name": "stdout",
     "output_type": "stream",
     "text": [
      "F-score : 0.7499999999999999\n"
     ]
    }
   ],
   "source": [
    "# create a CLG from the skeleton of PC algorithm\n",
    "clg_PC = gclg.CLG()\n",
    "for node in clg.nodes():\n",
    "  clg_PC.add(clg.variable(node))\n",
    "for father,kids in C.items():\n",
    "  for kid in kids:\n",
    "    clg_PC.addArc(father, kid)\n",
    "\n",
    "# Compare the structure of the created CLG and the original CLG\n",
    "print(f\"F-score : {clg.CompareStructure(clg_PC)}\")"
   ]
  },
  {
   "attachments": {},
   "cell_type": "markdown",
   "metadata": {
    "editable": true,
    "slideshow": {
     "slide_type": ""
    },
    "tags": []
   },
   "source": [
    "We can also do the parameter learning."
   ]
  },
  {
   "cell_type": "code",
   "execution_count": 35,
   "metadata": {
    "editable": true,
    "execution": {
     "iopub.execute_input": "2024-06-10T20:43:33.807281Z",
     "iopub.status.busy": "2024-06-10T20:43:33.807112Z",
     "iopub.status.idle": "2024-06-10T20:43:33.823492Z",
     "shell.execute_reply": "2024-06-10T20:43:33.822946Z",
     "shell.execute_reply.started": "2024-06-10T20:43:33.807265Z"
    },
    "slideshow": {
     "slide_type": ""
    },
    "tags": []
   },
   "outputs": [
    {
     "name": "stdout",
     "output_type": "stream",
     "text": [
      "Real Value: node 0 : mu = 1.868873915355243, sigma = 9.4176556949139\n",
      "Estimation: node 0 : mu = 131.28117398003664, sigma = 183.36663444679704\n",
      "Real Value: node 1 : mu = -0.9184205766479252, sigma = 9.856033761382122\n",
      "Estimation: node 1 : mu = -1.08439599618805, sigma = 9.82217696865506\n",
      "Real Value: node 2 : mu = -2.0338831324635964, sigma = 3.4888778829629086\n",
      "Estimation: node 2 : mu = -2.0472745233107683, sigma = 3.4714489670565754\n",
      "Real Value: node 3 : mu = 2.3593572124660085, sigma = 3.25351068402839\n",
      "Estimation: node 3 : mu = 2.3120298471042897, sigma = 3.2268681647876285\n",
      "Real Value: node 4 : mu = 4.722801958404508, sigma = 9.736732255905435\n",
      "Estimation: node 4 : mu = 2.589357007664262, sigma = 10.330573587206436\n",
      "Real Value: arc (0, 1) : coef = -5.251096168263149\n",
      "Estimation: arc (0, 1) : coef = -5.250718623773765\n",
      "Real Value: arc (2, 4) : coef = -5.188003736986728\n",
      "Estimation: arc (2, 4) : coef = -\n",
      "Real Value: arc (0, 4) : coef = 5.281790469516915\n",
      "Estimation: arc (0, 4) : coef = 5.378500838261615\n",
      "Real Value: arc (3, 0) : coef = 9.945592399674473\n",
      "Estimation: arc (3, 0) : coef = -\n",
      "Real Value: arc (2, 3) : coef = -5.213396374276787\n",
      "Estimation: arc (2, 3) : coef = -5.223516385188446\n"
     ]
    }
   ],
   "source": [
    "id2mu, id2sigma, arc2coef = RAveL_l.estimate_parameters(C)\n",
    "\n",
    "for node in clg.nodes():\n",
    "  print(f\"Real Value: node {node} : mu = {clg.variable(node)._mu}, sigma = {clg.variable(node)._sigma}\")\n",
    "  print(f\"Estimation: node {node} : mu = {id2mu[node]}, sigma = {id2sigma[node]}\")\n",
    "\n",
    "\n",
    "for arc in clg.arcs():\n",
    "  print(f\"Real Value: arc {arc} : coef = {clg.coefArc(*arc)}\")\n",
    "  print(f\"Estimation: arc {arc} : coef = {(arc2coef[arc] if arc in arc2coef else '-')}\")"
   ]
  },
  {
   "cell_type": "code",
   "execution_count": null,
   "metadata": {
    "editable": true,
    "slideshow": {
     "slide_type": ""
    },
    "tags": []
   },
   "outputs": [],
   "source": []
  }
 ],
 "metadata": {
  "kernelspec": {
   "display_name": "Python 3 (ipykernel)",
   "language": "python",
   "name": "python3"
  },
  "language_info": {
   "codemirror_mode": {
    "name": "ipython",
    "version": 3
   },
   "file_extension": ".py",
   "mimetype": "text/x-python",
   "name": "python",
   "nbconvert_exporter": "python",
   "pygments_lexer": "ipython3",
   "version": "3.12.3"
  }
 },
 "nbformat": 4,
 "nbformat_minor": 4
}
