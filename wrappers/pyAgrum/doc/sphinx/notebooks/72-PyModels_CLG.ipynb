{
 "cells": [
  {
   "attachments": {},
   "cell_type": "markdown",
   "metadata": {
    "editable": true,
    "slideshow": {
     "slide_type": ""
    },
    "tags": []
   },
   "source": [
    "# Conditional Linear Gaussian models"
   ]
  },
  {
   "attachments": {},
   "cell_type": "markdown",
   "metadata": {},
   "source": [
    "| | | |\n",
    "|-|-|-|\n",
    "|[ ![Creative Commons License](images/cc4.png)](http://creativecommons.org/licenses/by-nc/4.0/) |[ ![aGrUM](images/logoAgrum.png)](https://agrum.org) |[ ![interactive online version](images/atbinder.svg)](https://agrum.gitlab.io/extra/agrum_at_binder.html)"
   ]
  },
  {
   "cell_type": "code",
   "execution_count": 1,
   "metadata": {
    "editable": true,
    "slideshow": {
     "slide_type": ""
    },
    "tags": []
   },
   "outputs": [],
   "source": [
    "import pyAgrum as gum\n",
    "import pyAgrum.lib.notebook as gnb\n",
    "import pyAgrum.lib.bn_vs_bn as gcm\n",
    "\n",
    "import pyAgrum.clg as gclg\n",
    "import pyAgrum.clg.notebook as gclgnb\n"
   ]
  },
  {
   "attachments": {},
   "cell_type": "markdown",
   "metadata": {
    "editable": true,
    "slideshow": {
     "slide_type": ""
    },
    "tags": []
   },
   "source": [
    "## Build a CLG model \n",
    "\n",
    "### From scratch\n",
    "\n",
    "Suppose we want to build a CLG with these specifications $A={\\cal N}(5,1)$, $B={\\cal N}(4,3)$ and $C=2.A+3.B+{\\cal N}(3,2)$"
   ]
  },
  {
   "cell_type": "code",
   "execution_count": 2,
   "metadata": {
    "editable": true,
    "slideshow": {
     "slide_type": ""
    },
    "tags": []
   },
   "outputs": [
    {
     "data": {
      "text/html": [
       "<svg xmlns=\"http://www.w3.org/2000/svg\" xmlns:xlink=\"http://www.w3.org/1999/xlink\" width=\"276pt\" height=\"161pt\" viewBox=\"0.00 0.00 276.00 161.25\">\n",
       "<g id=\"graph0\" class=\"graph\" transform=\"scale(1 1) rotate(0) translate(4 157.25)\">\n",
       "<title>G</title>\n",
       "<!-- A -->\n",
       "<g id=\"node1\" class=\"node\">\n",
       "<title>A</title>\n",
       "<g id=\"a_node1\"><a xlink:title=\"(0) A\">\n",
       "<path fill=\"#404040\" stroke=\"#4a4a4a\" d=\"M12,-103.75C12,-103.75 113,-103.75 113,-103.75 119,-103.75 125,-109.75 125,-115.75 125,-115.75 125,-140.75 125,-140.75 125,-146.75 119,-152.75 113,-152.75 113,-152.75 12,-152.75 12,-152.75 6,-152.75 0,-146.75 0,-140.75 0,-140.75 0,-115.75 0,-115.75 0,-109.75 6,-103.75 12,-103.75\"/>\n",
       "<text text-anchor=\"middle\" x=\"62.5\" y=\"-135.45\" font-family=\"Times,serif\" font-size=\"14.00\" fill=\"white\">A</text>\n",
       "<polyline fill=\"none\" stroke=\"#4a4a4a\" points=\"0,-128.25 125,-128.25\"/>\n",
       "<text text-anchor=\"middle\" x=\"31.25\" y=\"-110.95\" font-family=\"Times,serif\" font-size=\"14.00\" fill=\"white\">μ=5.000</text>\n",
       "<polyline fill=\"none\" stroke=\"#4a4a4a\" points=\"62.5,-103.75 62.5,-128.25\"/>\n",
       "<text text-anchor=\"middle\" x=\"93.75\" y=\"-110.95\" font-family=\"Times,serif\" font-size=\"14.00\" fill=\"white\">σ=1.000</text>\n",
       "</a>\n",
       "</g>\n",
       "</g>\n",
       "<!-- C -->\n",
       "<g id=\"node2\" class=\"node\">\n",
       "<title>C</title>\n",
       "<g id=\"a_node2\"><a xlink:title=\"(1) C\">\n",
       "<path fill=\"#404040\" stroke=\"#4a4a4a\" d=\"M83,-0.5C83,-0.5 184,-0.5 184,-0.5 190,-0.5 196,-6.5 196,-12.5 196,-12.5 196,-37.5 196,-37.5 196,-43.5 190,-49.5 184,-49.5 184,-49.5 83,-49.5 83,-49.5 77,-49.5 71,-43.5 71,-37.5 71,-37.5 71,-12.5 71,-12.5 71,-6.5 77,-0.5 83,-0.5\"/>\n",
       "<text text-anchor=\"middle\" x=\"133.5\" y=\"-32.2\" font-family=\"Times,serif\" font-size=\"14.00\" fill=\"white\">C</text>\n",
       "<polyline fill=\"none\" stroke=\"#4a4a4a\" points=\"71,-25 196,-25\"/>\n",
       "<text text-anchor=\"middle\" x=\"102.25\" y=\"-7.7\" font-family=\"Times,serif\" font-size=\"14.00\" fill=\"white\">μ=3.000</text>\n",
       "<polyline fill=\"none\" stroke=\"#4a4a4a\" points=\"133.5,-0.5 133.5,-25\"/>\n",
       "<text text-anchor=\"middle\" x=\"164.75\" y=\"-7.7\" font-family=\"Times,serif\" font-size=\"14.00\" fill=\"white\">σ=2.000</text>\n",
       "</a>\n",
       "</g>\n",
       "</g>\n",
       "<!-- A&#45;&gt;C -->\n",
       "<g id=\"edge1\" class=\"edge\">\n",
       "<title>A-&gt;C</title>\n",
       "<g id=\"a_edge1\"><a xlink:title=\"(0, 1) : \">\n",
       "<path fill=\"none\" stroke=\"#4a4a4a\" d=\"M79.33,-103.26C88.61,-90.02 100.28,-73.38 110.4,-58.94\"/>\n",
       "<polygon fill=\"#4a4a4a\" stroke=\"#4a4a4a\" points=\"113.05,-61.26 115.93,-51.06 107.32,-57.24 113.05,-61.26\"/>\n",
       "</a>\n",
       "</g>\n",
       "<text text-anchor=\"middle\" x=\"115.62\" y=\"-71\" font-family=\"Times,serif\" font-size=\"15.00\">2.00</text>\n",
       "</g>\n",
       "<!-- B -->\n",
       "<g id=\"node3\" class=\"node\">\n",
       "<title>B</title>\n",
       "<g id=\"a_node3\"><a xlink:title=\"(2) B\">\n",
       "<path fill=\"#404040\" stroke=\"#4a4a4a\" d=\"M155,-103.75C155,-103.75 256,-103.75 256,-103.75 262,-103.75 268,-109.75 268,-115.75 268,-115.75 268,-140.75 268,-140.75 268,-146.75 262,-152.75 256,-152.75 256,-152.75 155,-152.75 155,-152.75 149,-152.75 143,-146.75 143,-140.75 143,-140.75 143,-115.75 143,-115.75 143,-109.75 149,-103.75 155,-103.75\"/>\n",
       "<text text-anchor=\"middle\" x=\"205.5\" y=\"-135.45\" font-family=\"Times,serif\" font-size=\"14.00\" fill=\"white\">B</text>\n",
       "<polyline fill=\"none\" stroke=\"#4a4a4a\" points=\"143,-128.25 268,-128.25\"/>\n",
       "<text text-anchor=\"middle\" x=\"174.25\" y=\"-110.95\" font-family=\"Times,serif\" font-size=\"14.00\" fill=\"white\">μ=4.000</text>\n",
       "<polyline fill=\"none\" stroke=\"#4a4a4a\" points=\"205.5,-103.75 205.5,-128.25\"/>\n",
       "<text text-anchor=\"middle\" x=\"236.75\" y=\"-110.95\" font-family=\"Times,serif\" font-size=\"14.00\" fill=\"white\">σ=3.000</text>\n",
       "</a>\n",
       "</g>\n",
       "</g>\n",
       "<!-- B&#45;&gt;C -->\n",
       "<g id=\"edge2\" class=\"edge\">\n",
       "<title>B-&gt;C</title>\n",
       "<g id=\"a_edge2\"><a xlink:title=\"(2, 1) : \">\n",
       "<path fill=\"none\" stroke=\"#4a4a4a\" d=\"M188.44,-103.26C179.02,-90.02 167.19,-73.38 156.92,-58.94\"/>\n",
       "<polygon fill=\"#4a4a4a\" stroke=\"#4a4a4a\" points=\"159.97,-57.18 151.32,-51.06 154.26,-61.23 159.97,-57.18\"/>\n",
       "</a>\n",
       "</g>\n",
       "<text text-anchor=\"middle\" x=\"186.62\" y=\"-71\" font-family=\"Times,serif\" font-size=\"15.00\">3.00</text>\n",
       "</g>\n",
       "</g>\n",
       "</svg>"
      ],
      "text/plain": [
       "CLG{nodes: 3, arcs: 2, parameters: 8}"
      ]
     },
     "execution_count": 2,
     "metadata": {},
     "output_type": "execute_result"
    }
   ],
   "source": [
    "model=gclg.CLG()\n",
    "model.add(gclg.GaussianVariable(\"A\",5,1))\n",
    "model.add(gclg.GaussianVariable(\"C\",3,2))\n",
    "model.add(gclg.GaussianVariable(\"B\",4,3))\n",
    "model.addArc(\"A\",\"C\",2)\n",
    "model.addArc(\"B\",\"C\",3)\n",
    "model"
   ]
  },
  {
   "attachments": {},
   "cell_type": "markdown",
   "metadata": {
    "editable": true,
    "slideshow": {
     "slide_type": ""
    },
    "tags": []
   },
   "source": [
    "### From SEM (Structural Equation Model)\n",
    "\n",
    "We can create a Conditional Linear Gaussian Bayesian networ(CLG model) using a SEM-like syntax. \n",
    "\n",
    "`A = 4.5 [0.3]` means that the mean of the distribution for Gaussian random variable A is 4.5 and ist standard deviation is 0.3. \n",
    "\n",
    "`B = 3 + 0.8F [0.3]` means that the mean of the distribution for the Gaussian random variable B is 3 and the standard deviation is 0.3.  \n",
    "\n",
    "`pyAgrum.CLG.SEM` is a set of static methods to manipulate this kind of SEM.\n"
   ]
  },
  {
   "cell_type": "code",
   "execution_count": 3,
   "metadata": {
    "editable": true,
    "slideshow": {
     "slide_type": ""
    },
    "tags": []
   },
   "outputs": [],
   "source": [
    "sem2=\"\"\"\n",
    "A=4.5 [0.3] # comments are allowed\n",
    "F=7 [0.5]\n",
    "B=3 + 1.2F [0.3]\n",
    "C=9 +  2A + 1.5B [0.6]\n",
    "D=9 + C + F[0.7]\n",
    "E=9 + D [0.9]\n",
    "\"\"\"\n",
    "\n",
    "model2 = gclg.SEM.toclg(sem2)"
   ]
  },
  {
   "cell_type": "code",
   "execution_count": 4,
   "metadata": {
    "editable": true,
    "slideshow": {
     "slide_type": ""
    },
    "tags": [
     "nbsphinx-thumbnail"
    ]
   },
   "outputs": [
    {
     "data": {
      "text/html": [
       "<svg xmlns=\"http://www.w3.org/2000/svg\" xmlns:xlink=\"http://www.w3.org/1999/xlink\" width=\"245pt\" height=\"360pt\" viewBox=\"0.00 0.00 245.35 360.00\">\n",
       "<g id=\"graph0\" class=\"graph\" transform=\"scale(0.764331 0.764331) rotate(0) translate(4 467)\">\n",
       "<title>G</title>\n",
       "<!-- A -->\n",
       "<g id=\"node1\" class=\"node\">\n",
       "<title>A</title>\n",
       "<g id=\"a_node1\"><a xlink:title=\"(0) A\">\n",
       "<path fill=\"#404040\" stroke=\"#4a4a4a\" d=\"M12,-310.25C12,-310.25 113,-310.25 113,-310.25 119,-310.25 125,-316.25 125,-322.25 125,-322.25 125,-347.25 125,-347.25 125,-353.25 119,-359.25 113,-359.25 113,-359.25 12,-359.25 12,-359.25 6,-359.25 0,-353.25 0,-347.25 0,-347.25 0,-322.25 0,-322.25 0,-316.25 6,-310.25 12,-310.25\"/>\n",
       "<text text-anchor=\"middle\" x=\"62.5\" y=\"-341.95\" font-family=\"Times,serif\" font-size=\"14.00\" fill=\"white\">A</text>\n",
       "<polyline fill=\"none\" stroke=\"#4a4a4a\" points=\"0,-334.75 125,-334.75\"/>\n",
       "<text text-anchor=\"middle\" x=\"31.25\" y=\"-317.45\" font-family=\"Times,serif\" font-size=\"14.00\" fill=\"white\">μ=4.500</text>\n",
       "<polyline fill=\"none\" stroke=\"#4a4a4a\" points=\"62.5,-310.25 62.5,-334.75\"/>\n",
       "<text text-anchor=\"middle\" x=\"93.75\" y=\"-317.45\" font-family=\"Times,serif\" font-size=\"14.00\" fill=\"white\">σ=0.300</text>\n",
       "</a>\n",
       "</g>\n",
       "</g>\n",
       "<!-- C -->\n",
       "<g id=\"node4\" class=\"node\">\n",
       "<title>C</title>\n",
       "<g id=\"a_node4\"><a xlink:title=\"(3) C\">\n",
       "<path fill=\"#404040\" stroke=\"#4a4a4a\" d=\"M155,-207C155,-207 256,-207 256,-207 262,-207 268,-213 268,-219 268,-219 268,-244 268,-244 268,-250 262,-256 256,-256 256,-256 155,-256 155,-256 149,-256 143,-250 143,-244 143,-244 143,-219 143,-219 143,-213 149,-207 155,-207\"/>\n",
       "<text text-anchor=\"middle\" x=\"205.5\" y=\"-238.7\" font-family=\"Times,serif\" font-size=\"14.00\" fill=\"white\">C</text>\n",
       "<polyline fill=\"none\" stroke=\"#4a4a4a\" points=\"143,-231.5 268,-231.5\"/>\n",
       "<text text-anchor=\"middle\" x=\"174.25\" y=\"-214.2\" font-family=\"Times,serif\" font-size=\"14.00\" fill=\"white\">μ=9.000</text>\n",
       "<polyline fill=\"none\" stroke=\"#4a4a4a\" points=\"205.5,-207 205.5,-231.5\"/>\n",
       "<text text-anchor=\"middle\" x=\"236.75\" y=\"-214.2\" font-family=\"Times,serif\" font-size=\"14.00\" fill=\"white\">σ=0.600</text>\n",
       "</a>\n",
       "</g>\n",
       "</g>\n",
       "<!-- A&#45;&gt;C -->\n",
       "<g id=\"edge3\" class=\"edge\">\n",
       "<title>A-&gt;C</title>\n",
       "<g id=\"a_edge3\"><a xlink:title=\"(0, 3) : \">\n",
       "<path fill=\"none\" stroke=\"#4a4a4a\" d=\"M96.39,-309.76C116.25,-295.7 141.51,-277.81 162.73,-262.78\"/>\n",
       "<polygon fill=\"#4a4a4a\" stroke=\"#4a4a4a\" points=\"164.48,-265.83 170.62,-257.2 160.44,-260.12 164.48,-265.83\"/>\n",
       "</a>\n",
       "</g>\n",
       "<text text-anchor=\"middle\" x=\"156.62\" y=\"-277.5\" font-family=\"Times,serif\" font-size=\"15.00\">2.00</text>\n",
       "</g>\n",
       "<!-- F -->\n",
       "<g id=\"node2\" class=\"node\">\n",
       "<title>F</title>\n",
       "<g id=\"a_node2\"><a xlink:title=\"(1) F\">\n",
       "<path fill=\"#404040\" stroke=\"#4a4a4a\" d=\"M200,-413.5C200,-413.5 301,-413.5 301,-413.5 307,-413.5 313,-419.5 313,-425.5 313,-425.5 313,-450.5 313,-450.5 313,-456.5 307,-462.5 301,-462.5 301,-462.5 200,-462.5 200,-462.5 194,-462.5 188,-456.5 188,-450.5 188,-450.5 188,-425.5 188,-425.5 188,-419.5 194,-413.5 200,-413.5\"/>\n",
       "<text text-anchor=\"middle\" x=\"250.5\" y=\"-445.2\" font-family=\"Times,serif\" font-size=\"14.00\" fill=\"white\">F</text>\n",
       "<polyline fill=\"none\" stroke=\"#4a4a4a\" points=\"188,-438 313,-438\"/>\n",
       "<text text-anchor=\"middle\" x=\"219.25\" y=\"-420.7\" font-family=\"Times,serif\" font-size=\"14.00\" fill=\"white\">μ=7.000</text>\n",
       "<polyline fill=\"none\" stroke=\"#4a4a4a\" points=\"250.5,-413.5 250.5,-438\"/>\n",
       "<text text-anchor=\"middle\" x=\"281.75\" y=\"-420.7\" font-family=\"Times,serif\" font-size=\"14.00\" fill=\"white\">σ=0.500</text>\n",
       "</a>\n",
       "</g>\n",
       "</g>\n",
       "<!-- B -->\n",
       "<g id=\"node3\" class=\"node\">\n",
       "<title>B</title>\n",
       "<g id=\"a_node3\"><a xlink:title=\"(2) B\">\n",
       "<path fill=\"#404040\" stroke=\"#4a4a4a\" d=\"M155,-310.25C155,-310.25 256,-310.25 256,-310.25 262,-310.25 268,-316.25 268,-322.25 268,-322.25 268,-347.25 268,-347.25 268,-353.25 262,-359.25 256,-359.25 256,-359.25 155,-359.25 155,-359.25 149,-359.25 143,-353.25 143,-347.25 143,-347.25 143,-322.25 143,-322.25 143,-316.25 149,-310.25 155,-310.25\"/>\n",
       "<text text-anchor=\"middle\" x=\"205.5\" y=\"-341.95\" font-family=\"Times,serif\" font-size=\"14.00\" fill=\"white\">B</text>\n",
       "<polyline fill=\"none\" stroke=\"#4a4a4a\" points=\"143,-334.75 268,-334.75\"/>\n",
       "<text text-anchor=\"middle\" x=\"174.25\" y=\"-317.45\" font-family=\"Times,serif\" font-size=\"14.00\" fill=\"white\">μ=3.000</text>\n",
       "<polyline fill=\"none\" stroke=\"#4a4a4a\" points=\"205.5,-310.25 205.5,-334.75\"/>\n",
       "<text text-anchor=\"middle\" x=\"236.75\" y=\"-317.45\" font-family=\"Times,serif\" font-size=\"14.00\" fill=\"white\">σ=0.300</text>\n",
       "</a>\n",
       "</g>\n",
       "</g>\n",
       "<!-- F&#45;&gt;B -->\n",
       "<g id=\"edge1\" class=\"edge\">\n",
       "<title>F-&gt;B</title>\n",
       "<g id=\"a_edge1\"><a xlink:title=\"(1, 2) : \">\n",
       "<path fill=\"none\" stroke=\"#4a4a4a\" d=\"M239.84,-413.01C234.12,-400.14 226.98,-384.08 220.69,-369.93\"/>\n",
       "<polygon fill=\"#4a4a4a\" stroke=\"#4a4a4a\" points=\"223.96,-368.67 216.7,-360.96 217.57,-371.52 223.96,-368.67\"/>\n",
       "</a>\n",
       "</g>\n",
       "<text text-anchor=\"middle\" x=\"243.62\" y=\"-380.75\" font-family=\"Times,serif\" font-size=\"15.00\">1.20</text>\n",
       "</g>\n",
       "<!-- D -->\n",
       "<g id=\"node5\" class=\"node\">\n",
       "<title>D</title>\n",
       "<g id=\"a_node5\"><a xlink:title=\"(4) D\">\n",
       "<path fill=\"#404040\" stroke=\"#4a4a4a\" d=\"M200,-103.75C200,-103.75 301,-103.75 301,-103.75 307,-103.75 313,-109.75 313,-115.75 313,-115.75 313,-140.75 313,-140.75 313,-146.75 307,-152.75 301,-152.75 301,-152.75 200,-152.75 200,-152.75 194,-152.75 188,-146.75 188,-140.75 188,-140.75 188,-115.75 188,-115.75 188,-109.75 194,-103.75 200,-103.75\"/>\n",
       "<text text-anchor=\"middle\" x=\"250.5\" y=\"-135.45\" font-family=\"Times,serif\" font-size=\"14.00\" fill=\"white\">D</text>\n",
       "<polyline fill=\"none\" stroke=\"#4a4a4a\" points=\"188,-128.25 313,-128.25\"/>\n",
       "<text text-anchor=\"middle\" x=\"219.25\" y=\"-110.95\" font-family=\"Times,serif\" font-size=\"14.00\" fill=\"white\">μ=9.000</text>\n",
       "<polyline fill=\"none\" stroke=\"#4a4a4a\" points=\"250.5,-103.75 250.5,-128.25\"/>\n",
       "<text text-anchor=\"middle\" x=\"281.75\" y=\"-110.95\" font-family=\"Times,serif\" font-size=\"14.00\" fill=\"white\">σ=0.700</text>\n",
       "</a>\n",
       "</g>\n",
       "</g>\n",
       "<!-- F&#45;&gt;D -->\n",
       "<g id=\"edge4\" class=\"edge\">\n",
       "<title>F-&gt;D</title>\n",
       "<g id=\"a_edge4\"><a xlink:title=\"(1, 4) : \">\n",
       "<path fill=\"none\" stroke=\"#4a4a4a\" d=\"M261.16,-413.2C267.28,-398.2 274.36,-378.24 277.5,-359.75 288.9,-292.6 288.9,-273.65 277.5,-206.5 275.05,-192.06 270.19,-176.71 265.26,-163.54\"/>\n",
       "<polygon fill=\"#4a4a4a\" stroke=\"#4a4a4a\" points=\"268.61,-162.5 261.71,-154.46 262.1,-165.05 268.61,-162.5\"/>\n",
       "</a>\n",
       "</g>\n",
       "<text text-anchor=\"middle\" x=\"298.62\" y=\"-277.5\" font-family=\"Times,serif\" font-size=\"15.00\">1.00</text>\n",
       "</g>\n",
       "<!-- B&#45;&gt;C -->\n",
       "<g id=\"edge5\" class=\"edge\">\n",
       "<title>B-&gt;C</title>\n",
       "<g id=\"a_edge5\"><a xlink:title=\"(2, 3) : \">\n",
       "<path fill=\"none\" stroke=\"#4a4a4a\" d=\"M205.5,-309.76C205.5,-297.15 205.5,-281.45 205.5,-267.51\"/>\n",
       "<polygon fill=\"#4a4a4a\" stroke=\"#4a4a4a\" points=\"209,-267.84 205.5,-257.84 202,-267.84 209,-267.84\"/>\n",
       "</a>\n",
       "</g>\n",
       "<text text-anchor=\"middle\" x=\"218.62\" y=\"-277.5\" font-family=\"Times,serif\" font-size=\"15.00\">1.50</text>\n",
       "</g>\n",
       "<!-- C&#45;&gt;D -->\n",
       "<g id=\"edge2\" class=\"edge\">\n",
       "<title>C-&gt;D</title>\n",
       "<g id=\"a_edge2\"><a xlink:title=\"(3, 4) : \">\n",
       "<path fill=\"none\" stroke=\"#4a4a4a\" d=\"M216.16,-206.51C221.88,-193.64 229.02,-177.58 235.31,-163.43\"/>\n",
       "<polygon fill=\"#4a4a4a\" stroke=\"#4a4a4a\" points=\"238.43,-165.02 239.3,-154.46 232.04,-162.17 238.43,-165.02\"/>\n",
       "</a>\n",
       "</g>\n",
       "<text text-anchor=\"middle\" x=\"243.62\" y=\"-174.25\" font-family=\"Times,serif\" font-size=\"15.00\">1.00</text>\n",
       "</g>\n",
       "<!-- E -->\n",
       "<g id=\"node6\" class=\"node\">\n",
       "<title>E</title>\n",
       "<g id=\"a_node6\"><a xlink:title=\"(5) E\">\n",
       "<path fill=\"#404040\" stroke=\"#4a4a4a\" d=\"M200,-0.5C200,-0.5 301,-0.5 301,-0.5 307,-0.5 313,-6.5 313,-12.5 313,-12.5 313,-37.5 313,-37.5 313,-43.5 307,-49.5 301,-49.5 301,-49.5 200,-49.5 200,-49.5 194,-49.5 188,-43.5 188,-37.5 188,-37.5 188,-12.5 188,-12.5 188,-6.5 194,-0.5 200,-0.5\"/>\n",
       "<text text-anchor=\"middle\" x=\"250.5\" y=\"-32.2\" font-family=\"Times,serif\" font-size=\"14.00\" fill=\"white\">E</text>\n",
       "<polyline fill=\"none\" stroke=\"#4a4a4a\" points=\"188,-25 313,-25\"/>\n",
       "<text text-anchor=\"middle\" x=\"219.25\" y=\"-7.7\" font-family=\"Times,serif\" font-size=\"14.00\" fill=\"white\">μ=9.000</text>\n",
       "<polyline fill=\"none\" stroke=\"#4a4a4a\" points=\"250.5,-0.5 250.5,-25\"/>\n",
       "<text text-anchor=\"middle\" x=\"281.75\" y=\"-7.7\" font-family=\"Times,serif\" font-size=\"14.00\" fill=\"white\">σ=0.900</text>\n",
       "</a>\n",
       "</g>\n",
       "</g>\n",
       "<!-- D&#45;&gt;E -->\n",
       "<g id=\"edge6\" class=\"edge\">\n",
       "<title>D-&gt;E</title>\n",
       "<g id=\"a_edge6\"><a xlink:title=\"(4, 5) : \">\n",
       "<path fill=\"none\" stroke=\"#4a4a4a\" d=\"M250.5,-103.26C250.5,-90.65 250.5,-74.95 250.5,-61.01\"/>\n",
       "<polygon fill=\"#4a4a4a\" stroke=\"#4a4a4a\" points=\"254,-61.34 250.5,-51.34 247,-61.34 254,-61.34\"/>\n",
       "</a>\n",
       "</g>\n",
       "<text text-anchor=\"middle\" x=\"263.62\" y=\"-71\" font-family=\"Times,serif\" font-size=\"15.00\">1.00</text>\n",
       "</g>\n",
       "</g>\n",
       "</svg>"
      ],
      "text/plain": [
       "<pydot.core.Dot at 0x390318680>"
      ]
     },
     "execution_count": 4,
     "metadata": {},
     "output_type": "execute_result"
    }
   ],
   "source": [
    "gclgnb.CLG2dot(model2)"
   ]
  },
  {
   "cell_type": "markdown",
   "metadata": {
    "editable": true,
    "slideshow": {
     "slide_type": ""
    },
    "tags": []
   },
   "source": [
    "One can of course build the SEM from a CLG using `pyAgrum.CLG.SEM.tosem`  :"
   ]
  },
  {
   "cell_type": "code",
   "execution_count": 5,
   "metadata": {
    "editable": true,
    "slideshow": {
     "slide_type": ""
    },
    "tags": []
   },
   "outputs": [
    {
     "data": {
      "text/html": [
       "\n",
       "      <style>\n",
       "      .floating-box {\n",
       "      display: inline-block;\n",
       "      margin: 7px;\n",
       "      padding : 3px;\n",
       "      border: 0px solid transparent;  \n",
       "      valign:middle;\n",
       "      background-color: transparent;\n",
       "      }\n",
       "      </style>\n",
       "      <div class=\"floating-box\"><svg xmlns=\"http://www.w3.org/2000/svg\" xmlns:xlink=\"http://www.w3.org/1999/xlink\" width=\"276pt\" height=\"161pt\" viewBox=\"0.00 0.00 276.00 161.25\">\n",
       "<g id=\"graph0\" class=\"graph\" transform=\"scale(1 1) rotate(0) translate(4 157.25)\">\n",
       "<title>G</title>\n",
       "<!-- A -->\n",
       "<g id=\"node1\" class=\"node\">\n",
       "<title>A</title>\n",
       "<g id=\"a_node1\"><a xlink:title=\"(0) A\">\n",
       "<path fill=\"#404040\" stroke=\"#4a4a4a\" d=\"M12,-103.75C12,-103.75 113,-103.75 113,-103.75 119,-103.75 125,-109.75 125,-115.75 125,-115.75 125,-140.75 125,-140.75 125,-146.75 119,-152.75 113,-152.75 113,-152.75 12,-152.75 12,-152.75 6,-152.75 0,-146.75 0,-140.75 0,-140.75 0,-115.75 0,-115.75 0,-109.75 6,-103.75 12,-103.75\"/>\n",
       "<text text-anchor=\"middle\" x=\"62.5\" y=\"-135.45\" font-family=\"Times,serif\" font-size=\"14.00\" fill=\"white\">A</text>\n",
       "<polyline fill=\"none\" stroke=\"#4a4a4a\" points=\"0,-128.25 125,-128.25\"/>\n",
       "<text text-anchor=\"middle\" x=\"31.25\" y=\"-110.95\" font-family=\"Times,serif\" font-size=\"14.00\" fill=\"white\">μ=5.000</text>\n",
       "<polyline fill=\"none\" stroke=\"#4a4a4a\" points=\"62.5,-103.75 62.5,-128.25\"/>\n",
       "<text text-anchor=\"middle\" x=\"93.75\" y=\"-110.95\" font-family=\"Times,serif\" font-size=\"14.00\" fill=\"white\">σ=1.000</text>\n",
       "</a>\n",
       "</g>\n",
       "</g>\n",
       "<!-- C -->\n",
       "<g id=\"node2\" class=\"node\">\n",
       "<title>C</title>\n",
       "<g id=\"a_node2\"><a xlink:title=\"(1) C\">\n",
       "<path fill=\"#404040\" stroke=\"#4a4a4a\" d=\"M83,-0.5C83,-0.5 184,-0.5 184,-0.5 190,-0.5 196,-6.5 196,-12.5 196,-12.5 196,-37.5 196,-37.5 196,-43.5 190,-49.5 184,-49.5 184,-49.5 83,-49.5 83,-49.5 77,-49.5 71,-43.5 71,-37.5 71,-37.5 71,-12.5 71,-12.5 71,-6.5 77,-0.5 83,-0.5\"/>\n",
       "<text text-anchor=\"middle\" x=\"133.5\" y=\"-32.2\" font-family=\"Times,serif\" font-size=\"14.00\" fill=\"white\">C</text>\n",
       "<polyline fill=\"none\" stroke=\"#4a4a4a\" points=\"71,-25 196,-25\"/>\n",
       "<text text-anchor=\"middle\" x=\"102.25\" y=\"-7.7\" font-family=\"Times,serif\" font-size=\"14.00\" fill=\"white\">μ=3.000</text>\n",
       "<polyline fill=\"none\" stroke=\"#4a4a4a\" points=\"133.5,-0.5 133.5,-25\"/>\n",
       "<text text-anchor=\"middle\" x=\"164.75\" y=\"-7.7\" font-family=\"Times,serif\" font-size=\"14.00\" fill=\"white\">σ=2.000</text>\n",
       "</a>\n",
       "</g>\n",
       "</g>\n",
       "<!-- A&#45;&gt;C -->\n",
       "<g id=\"edge1\" class=\"edge\">\n",
       "<title>A-&gt;C</title>\n",
       "<g id=\"a_edge1\"><a xlink:title=\"(0, 1) : \">\n",
       "<path fill=\"none\" stroke=\"#4a4a4a\" d=\"M79.33,-103.26C88.61,-90.02 100.28,-73.38 110.4,-58.94\"/>\n",
       "<polygon fill=\"#4a4a4a\" stroke=\"#4a4a4a\" points=\"113.05,-61.26 115.93,-51.06 107.32,-57.24 113.05,-61.26\"/>\n",
       "</a>\n",
       "</g>\n",
       "<text text-anchor=\"middle\" x=\"115.62\" y=\"-71\" font-family=\"Times,serif\" font-size=\"15.00\">2.00</text>\n",
       "</g>\n",
       "<!-- B -->\n",
       "<g id=\"node3\" class=\"node\">\n",
       "<title>B</title>\n",
       "<g id=\"a_node3\"><a xlink:title=\"(2) B\">\n",
       "<path fill=\"#404040\" stroke=\"#4a4a4a\" d=\"M155,-103.75C155,-103.75 256,-103.75 256,-103.75 262,-103.75 268,-109.75 268,-115.75 268,-115.75 268,-140.75 268,-140.75 268,-146.75 262,-152.75 256,-152.75 256,-152.75 155,-152.75 155,-152.75 149,-152.75 143,-146.75 143,-140.75 143,-140.75 143,-115.75 143,-115.75 143,-109.75 149,-103.75 155,-103.75\"/>\n",
       "<text text-anchor=\"middle\" x=\"205.5\" y=\"-135.45\" font-family=\"Times,serif\" font-size=\"14.00\" fill=\"white\">B</text>\n",
       "<polyline fill=\"none\" stroke=\"#4a4a4a\" points=\"143,-128.25 268,-128.25\"/>\n",
       "<text text-anchor=\"middle\" x=\"174.25\" y=\"-110.95\" font-family=\"Times,serif\" font-size=\"14.00\" fill=\"white\">μ=4.000</text>\n",
       "<polyline fill=\"none\" stroke=\"#4a4a4a\" points=\"205.5,-103.75 205.5,-128.25\"/>\n",
       "<text text-anchor=\"middle\" x=\"236.75\" y=\"-110.95\" font-family=\"Times,serif\" font-size=\"14.00\" fill=\"white\">σ=3.000</text>\n",
       "</a>\n",
       "</g>\n",
       "</g>\n",
       "<!-- B&#45;&gt;C -->\n",
       "<g id=\"edge2\" class=\"edge\">\n",
       "<title>B-&gt;C</title>\n",
       "<g id=\"a_edge2\"><a xlink:title=\"(2, 1) : \">\n",
       "<path fill=\"none\" stroke=\"#4a4a4a\" d=\"M188.44,-103.26C179.02,-90.02 167.19,-73.38 156.92,-58.94\"/>\n",
       "<polygon fill=\"#4a4a4a\" stroke=\"#4a4a4a\" points=\"159.97,-57.18 151.32,-51.06 154.26,-61.23 159.97,-57.18\"/>\n",
       "</a>\n",
       "</g>\n",
       "<text text-anchor=\"middle\" x=\"186.62\" y=\"-71\" font-family=\"Times,serif\" font-size=\"15.00\">3.00</text>\n",
       "</g>\n",
       "</g>\n",
       "</svg><br><center><small><em>the first CLG model</em></small></center></div><div class=\"floating-box\"><pre><div align='left'>B=4[3]\n",
       "A=5[1]\n",
       "C=3+2A+3B[2]\n",
       "</div></pre><br><center><small><em>the SEM from the CLG</em></small></center></div>"
      ],
      "text/plain": [
       "<IPython.core.display.HTML object>"
      ]
     },
     "metadata": {},
     "output_type": "display_data"
    }
   ],
   "source": [
    "gnb.flow.row(model,\"<pre><div align='left'>\"+gclg.SEM.tosem(model)+\"</div></pre>\",\n",
    "             captions=[\"the first CLG model\",\"the SEM from the CLG\"])"
   ]
  },
  {
   "cell_type": "markdown",
   "metadata": {
    "editable": true,
    "slideshow": {
     "slide_type": ""
    },
    "tags": []
   },
   "source": [
    "And this SEM allows of course input/output format for CLG"
   ]
  },
  {
   "cell_type": "code",
   "execution_count": 6,
   "metadata": {
    "editable": true,
    "slideshow": {
     "slide_type": ""
    },
    "tags": []
   },
   "outputs": [
    {
     "name": "stdout",
     "output_type": "stream",
     "text": [
      "=== file content ===\n",
      "F=7.0[0.5]\n",
      "B=3.0+1.2F[0.3]\n",
      "A=4.5[0.3]\n",
      "C=9.0+2.0A+1.5B[0.6]\n",
      "D=9.0+F+C[0.7]\n",
      "E=9.0+D[0.9]\n",
      "====================\n"
     ]
    }
   ],
   "source": [
    "gclg.SEM.saveCLG(model2,\"out/model2.sem\")\n",
    "\n",
    "print(\"=== file content ===\")\n",
    "with open(\"out/model2.sem\",\"r\") as file:\n",
    "  for line in file.readlines():\n",
    "      print(line,end=\"\")\n",
    "print(\"====================\")"
   ]
  },
  {
   "cell_type": "code",
   "execution_count": 7,
   "metadata": {
    "editable": true,
    "slideshow": {
     "slide_type": ""
    },
    "tags": []
   },
   "outputs": [
    {
     "data": {
      "text/html": [
       "<table style=\"border-style: hidden; border-collapse: collapse;\" width=\"100%\"><tr><td style=\"border-top:hidden;border-bottom:hidden;vertical-align:middle;\"><div align=\"center\" style=\"vertical-align:middle;\"><svg xmlns=\"http://www.w3.org/2000/svg\" xmlns:xlink=\"http://www.w3.org/1999/xlink\" width=\"245pt\" height=\"360pt\" viewBox=\"0.00 0.00 245.35 360.00\">\n",
       "<g id=\"graph0\" class=\"graph\" transform=\"scale(0.764331 0.764331) rotate(0) translate(4 467)\">\n",
       "<title>G</title>\n",
       "<!-- A -->\n",
       "<g id=\"node1\" class=\"node\">\n",
       "<title>A</title>\n",
       "<g id=\"a_node1\"><a xlink:title=\"(0) A\">\n",
       "<path fill=\"#404040\" stroke=\"#4a4a4a\" d=\"M12,-310.25C12,-310.25 113,-310.25 113,-310.25 119,-310.25 125,-316.25 125,-322.25 125,-322.25 125,-347.25 125,-347.25 125,-353.25 119,-359.25 113,-359.25 113,-359.25 12,-359.25 12,-359.25 6,-359.25 0,-353.25 0,-347.25 0,-347.25 0,-322.25 0,-322.25 0,-316.25 6,-310.25 12,-310.25\"/>\n",
       "<text text-anchor=\"middle\" x=\"62.5\" y=\"-341.95\" font-family=\"Times,serif\" font-size=\"14.00\" fill=\"white\">A</text>\n",
       "<polyline fill=\"none\" stroke=\"#4a4a4a\" points=\"0,-334.75 125,-334.75\"/>\n",
       "<text text-anchor=\"middle\" x=\"31.25\" y=\"-317.45\" font-family=\"Times,serif\" font-size=\"14.00\" fill=\"white\">μ=4.500</text>\n",
       "<polyline fill=\"none\" stroke=\"#4a4a4a\" points=\"62.5,-310.25 62.5,-334.75\"/>\n",
       "<text text-anchor=\"middle\" x=\"93.75\" y=\"-317.45\" font-family=\"Times,serif\" font-size=\"14.00\" fill=\"white\">σ=0.300</text>\n",
       "</a>\n",
       "</g>\n",
       "</g>\n",
       "<!-- C -->\n",
       "<g id=\"node4\" class=\"node\">\n",
       "<title>C</title>\n",
       "<g id=\"a_node4\"><a xlink:title=\"(3) C\">\n",
       "<path fill=\"#404040\" stroke=\"#4a4a4a\" d=\"M155,-207C155,-207 256,-207 256,-207 262,-207 268,-213 268,-219 268,-219 268,-244 268,-244 268,-250 262,-256 256,-256 256,-256 155,-256 155,-256 149,-256 143,-250 143,-244 143,-244 143,-219 143,-219 143,-213 149,-207 155,-207\"/>\n",
       "<text text-anchor=\"middle\" x=\"205.5\" y=\"-238.7\" font-family=\"Times,serif\" font-size=\"14.00\" fill=\"white\">C</text>\n",
       "<polyline fill=\"none\" stroke=\"#4a4a4a\" points=\"143,-231.5 268,-231.5\"/>\n",
       "<text text-anchor=\"middle\" x=\"174.25\" y=\"-214.2\" font-family=\"Times,serif\" font-size=\"14.00\" fill=\"white\">μ=9.000</text>\n",
       "<polyline fill=\"none\" stroke=\"#4a4a4a\" points=\"205.5,-207 205.5,-231.5\"/>\n",
       "<text text-anchor=\"middle\" x=\"236.75\" y=\"-214.2\" font-family=\"Times,serif\" font-size=\"14.00\" fill=\"white\">σ=0.600</text>\n",
       "</a>\n",
       "</g>\n",
       "</g>\n",
       "<!-- A&#45;&gt;C -->\n",
       "<g id=\"edge3\" class=\"edge\">\n",
       "<title>A-&gt;C</title>\n",
       "<g id=\"a_edge3\"><a xlink:title=\"(0, 3) : \">\n",
       "<path fill=\"none\" stroke=\"#4a4a4a\" d=\"M96.39,-309.76C116.25,-295.7 141.51,-277.81 162.73,-262.78\"/>\n",
       "<polygon fill=\"#4a4a4a\" stroke=\"#4a4a4a\" points=\"164.48,-265.83 170.62,-257.2 160.44,-260.12 164.48,-265.83\"/>\n",
       "</a>\n",
       "</g>\n",
       "<text text-anchor=\"middle\" x=\"156.62\" y=\"-277.5\" font-family=\"Times,serif\" font-size=\"15.00\">2.00</text>\n",
       "</g>\n",
       "<!-- F -->\n",
       "<g id=\"node2\" class=\"node\">\n",
       "<title>F</title>\n",
       "<g id=\"a_node2\"><a xlink:title=\"(1) F\">\n",
       "<path fill=\"#404040\" stroke=\"#4a4a4a\" d=\"M200,-413.5C200,-413.5 301,-413.5 301,-413.5 307,-413.5 313,-419.5 313,-425.5 313,-425.5 313,-450.5 313,-450.5 313,-456.5 307,-462.5 301,-462.5 301,-462.5 200,-462.5 200,-462.5 194,-462.5 188,-456.5 188,-450.5 188,-450.5 188,-425.5 188,-425.5 188,-419.5 194,-413.5 200,-413.5\"/>\n",
       "<text text-anchor=\"middle\" x=\"250.5\" y=\"-445.2\" font-family=\"Times,serif\" font-size=\"14.00\" fill=\"white\">F</text>\n",
       "<polyline fill=\"none\" stroke=\"#4a4a4a\" points=\"188,-438 313,-438\"/>\n",
       "<text text-anchor=\"middle\" x=\"219.25\" y=\"-420.7\" font-family=\"Times,serif\" font-size=\"14.00\" fill=\"white\">μ=7.000</text>\n",
       "<polyline fill=\"none\" stroke=\"#4a4a4a\" points=\"250.5,-413.5 250.5,-438\"/>\n",
       "<text text-anchor=\"middle\" x=\"281.75\" y=\"-420.7\" font-family=\"Times,serif\" font-size=\"14.00\" fill=\"white\">σ=0.500</text>\n",
       "</a>\n",
       "</g>\n",
       "</g>\n",
       "<!-- B -->\n",
       "<g id=\"node3\" class=\"node\">\n",
       "<title>B</title>\n",
       "<g id=\"a_node3\"><a xlink:title=\"(2) B\">\n",
       "<path fill=\"#404040\" stroke=\"#4a4a4a\" d=\"M155,-310.25C155,-310.25 256,-310.25 256,-310.25 262,-310.25 268,-316.25 268,-322.25 268,-322.25 268,-347.25 268,-347.25 268,-353.25 262,-359.25 256,-359.25 256,-359.25 155,-359.25 155,-359.25 149,-359.25 143,-353.25 143,-347.25 143,-347.25 143,-322.25 143,-322.25 143,-316.25 149,-310.25 155,-310.25\"/>\n",
       "<text text-anchor=\"middle\" x=\"205.5\" y=\"-341.95\" font-family=\"Times,serif\" font-size=\"14.00\" fill=\"white\">B</text>\n",
       "<polyline fill=\"none\" stroke=\"#4a4a4a\" points=\"143,-334.75 268,-334.75\"/>\n",
       "<text text-anchor=\"middle\" x=\"174.25\" y=\"-317.45\" font-family=\"Times,serif\" font-size=\"14.00\" fill=\"white\">μ=3.000</text>\n",
       "<polyline fill=\"none\" stroke=\"#4a4a4a\" points=\"205.5,-310.25 205.5,-334.75\"/>\n",
       "<text text-anchor=\"middle\" x=\"236.75\" y=\"-317.45\" font-family=\"Times,serif\" font-size=\"14.00\" fill=\"white\">σ=0.300</text>\n",
       "</a>\n",
       "</g>\n",
       "</g>\n",
       "<!-- F&#45;&gt;B -->\n",
       "<g id=\"edge1\" class=\"edge\">\n",
       "<title>F-&gt;B</title>\n",
       "<g id=\"a_edge1\"><a xlink:title=\"(1, 2) : \">\n",
       "<path fill=\"none\" stroke=\"#4a4a4a\" d=\"M239.84,-413.01C234.12,-400.14 226.98,-384.08 220.69,-369.93\"/>\n",
       "<polygon fill=\"#4a4a4a\" stroke=\"#4a4a4a\" points=\"223.96,-368.67 216.7,-360.96 217.57,-371.52 223.96,-368.67\"/>\n",
       "</a>\n",
       "</g>\n",
       "<text text-anchor=\"middle\" x=\"243.62\" y=\"-380.75\" font-family=\"Times,serif\" font-size=\"15.00\">1.20</text>\n",
       "</g>\n",
       "<!-- D -->\n",
       "<g id=\"node5\" class=\"node\">\n",
       "<title>D</title>\n",
       "<g id=\"a_node5\"><a xlink:title=\"(4) D\">\n",
       "<path fill=\"#404040\" stroke=\"#4a4a4a\" d=\"M200,-103.75C200,-103.75 301,-103.75 301,-103.75 307,-103.75 313,-109.75 313,-115.75 313,-115.75 313,-140.75 313,-140.75 313,-146.75 307,-152.75 301,-152.75 301,-152.75 200,-152.75 200,-152.75 194,-152.75 188,-146.75 188,-140.75 188,-140.75 188,-115.75 188,-115.75 188,-109.75 194,-103.75 200,-103.75\"/>\n",
       "<text text-anchor=\"middle\" x=\"250.5\" y=\"-135.45\" font-family=\"Times,serif\" font-size=\"14.00\" fill=\"white\">D</text>\n",
       "<polyline fill=\"none\" stroke=\"#4a4a4a\" points=\"188,-128.25 313,-128.25\"/>\n",
       "<text text-anchor=\"middle\" x=\"219.25\" y=\"-110.95\" font-family=\"Times,serif\" font-size=\"14.00\" fill=\"white\">μ=9.000</text>\n",
       "<polyline fill=\"none\" stroke=\"#4a4a4a\" points=\"250.5,-103.75 250.5,-128.25\"/>\n",
       "<text text-anchor=\"middle\" x=\"281.75\" y=\"-110.95\" font-family=\"Times,serif\" font-size=\"14.00\" fill=\"white\">σ=0.700</text>\n",
       "</a>\n",
       "</g>\n",
       "</g>\n",
       "<!-- F&#45;&gt;D -->\n",
       "<g id=\"edge4\" class=\"edge\">\n",
       "<title>F-&gt;D</title>\n",
       "<g id=\"a_edge4\"><a xlink:title=\"(1, 4) : \">\n",
       "<path fill=\"none\" stroke=\"#4a4a4a\" d=\"M261.16,-413.2C267.28,-398.2 274.36,-378.24 277.5,-359.75 288.9,-292.6 288.9,-273.65 277.5,-206.5 275.05,-192.06 270.19,-176.71 265.26,-163.54\"/>\n",
       "<polygon fill=\"#4a4a4a\" stroke=\"#4a4a4a\" points=\"268.61,-162.5 261.71,-154.46 262.1,-165.05 268.61,-162.5\"/>\n",
       "</a>\n",
       "</g>\n",
       "<text text-anchor=\"middle\" x=\"298.62\" y=\"-277.5\" font-family=\"Times,serif\" font-size=\"15.00\">1.00</text>\n",
       "</g>\n",
       "<!-- B&#45;&gt;C -->\n",
       "<g id=\"edge5\" class=\"edge\">\n",
       "<title>B-&gt;C</title>\n",
       "<g id=\"a_edge5\"><a xlink:title=\"(2, 3) : \">\n",
       "<path fill=\"none\" stroke=\"#4a4a4a\" d=\"M205.5,-309.76C205.5,-297.15 205.5,-281.45 205.5,-267.51\"/>\n",
       "<polygon fill=\"#4a4a4a\" stroke=\"#4a4a4a\" points=\"209,-267.84 205.5,-257.84 202,-267.84 209,-267.84\"/>\n",
       "</a>\n",
       "</g>\n",
       "<text text-anchor=\"middle\" x=\"218.62\" y=\"-277.5\" font-family=\"Times,serif\" font-size=\"15.00\">1.50</text>\n",
       "</g>\n",
       "<!-- C&#45;&gt;D -->\n",
       "<g id=\"edge2\" class=\"edge\">\n",
       "<title>C-&gt;D</title>\n",
       "<g id=\"a_edge2\"><a xlink:title=\"(3, 4) : \">\n",
       "<path fill=\"none\" stroke=\"#4a4a4a\" d=\"M216.16,-206.51C221.88,-193.64 229.02,-177.58 235.31,-163.43\"/>\n",
       "<polygon fill=\"#4a4a4a\" stroke=\"#4a4a4a\" points=\"238.43,-165.02 239.3,-154.46 232.04,-162.17 238.43,-165.02\"/>\n",
       "</a>\n",
       "</g>\n",
       "<text text-anchor=\"middle\" x=\"243.62\" y=\"-174.25\" font-family=\"Times,serif\" font-size=\"15.00\">1.00</text>\n",
       "</g>\n",
       "<!-- E -->\n",
       "<g id=\"node6\" class=\"node\">\n",
       "<title>E</title>\n",
       "<g id=\"a_node6\"><a xlink:title=\"(5) E\">\n",
       "<path fill=\"#404040\" stroke=\"#4a4a4a\" d=\"M200,-0.5C200,-0.5 301,-0.5 301,-0.5 307,-0.5 313,-6.5 313,-12.5 313,-12.5 313,-37.5 313,-37.5 313,-43.5 307,-49.5 301,-49.5 301,-49.5 200,-49.5 200,-49.5 194,-49.5 188,-43.5 188,-37.5 188,-37.5 188,-12.5 188,-12.5 188,-6.5 194,-0.5 200,-0.5\"/>\n",
       "<text text-anchor=\"middle\" x=\"250.5\" y=\"-32.2\" font-family=\"Times,serif\" font-size=\"14.00\" fill=\"white\">E</text>\n",
       "<polyline fill=\"none\" stroke=\"#4a4a4a\" points=\"188,-25 313,-25\"/>\n",
       "<text text-anchor=\"middle\" x=\"219.25\" y=\"-7.7\" font-family=\"Times,serif\" font-size=\"14.00\" fill=\"white\">μ=9.000</text>\n",
       "<polyline fill=\"none\" stroke=\"#4a4a4a\" points=\"250.5,-0.5 250.5,-25\"/>\n",
       "<text text-anchor=\"middle\" x=\"281.75\" y=\"-7.7\" font-family=\"Times,serif\" font-size=\"14.00\" fill=\"white\">σ=0.900</text>\n",
       "</a>\n",
       "</g>\n",
       "</g>\n",
       "<!-- D&#45;&gt;E -->\n",
       "<g id=\"edge6\" class=\"edge\">\n",
       "<title>D-&gt;E</title>\n",
       "<g id=\"a_edge6\"><a xlink:title=\"(4, 5) : \">\n",
       "<path fill=\"none\" stroke=\"#4a4a4a\" d=\"M250.5,-103.26C250.5,-90.65 250.5,-74.95 250.5,-61.01\"/>\n",
       "<polygon fill=\"#4a4a4a\" stroke=\"#4a4a4a\" points=\"254,-61.34 250.5,-51.34 247,-61.34 254,-61.34\"/>\n",
       "</a>\n",
       "</g>\n",
       "<text text-anchor=\"middle\" x=\"263.62\" y=\"-71\" font-family=\"Times,serif\" font-size=\"15.00\">1.00</text>\n",
       "</g>\n",
       "</g>\n",
       "</svg><br><small><i>saved model</i></small></div></td><td style=\"border-top:hidden;border-bottom:hidden;vertical-align:middle;\"><div align=\"center\" style=\"vertical-align:middle;\"><svg xmlns=\"http://www.w3.org/2000/svg\" xmlns:xlink=\"http://www.w3.org/1999/xlink\" width=\"249pt\" height=\"360pt\" viewBox=\"0.00 0.00 248.98 360.00\">\n",
       "<g id=\"graph0\" class=\"graph\" transform=\"scale(0.764331 0.764331) rotate(0) translate(4 467)\">\n",
       "<title>G</title>\n",
       "<!-- F -->\n",
       "<g id=\"node1\" class=\"node\">\n",
       "<title>F</title>\n",
       "<g id=\"a_node1\"><a xlink:title=\"(0) F\">\n",
       "<path fill=\"#404040\" stroke=\"#4a4a4a\" d=\"M129,-413.5C129,-413.5 230,-413.5 230,-413.5 236,-413.5 242,-419.5 242,-425.5 242,-425.5 242,-450.5 242,-450.5 242,-456.5 236,-462.5 230,-462.5 230,-462.5 129,-462.5 129,-462.5 123,-462.5 117,-456.5 117,-450.5 117,-450.5 117,-425.5 117,-425.5 117,-419.5 123,-413.5 129,-413.5\"/>\n",
       "<text text-anchor=\"middle\" x=\"179.5\" y=\"-445.2\" font-family=\"Times,serif\" font-size=\"14.00\" fill=\"white\">F</text>\n",
       "<polyline fill=\"none\" stroke=\"#4a4a4a\" points=\"117,-438 242,-438\"/>\n",
       "<text text-anchor=\"middle\" x=\"148.25\" y=\"-420.7\" font-family=\"Times,serif\" font-size=\"14.00\" fill=\"white\">μ=7.000</text>\n",
       "<polyline fill=\"none\" stroke=\"#4a4a4a\" points=\"179.5,-413.5 179.5,-438\"/>\n",
       "<text text-anchor=\"middle\" x=\"210.75\" y=\"-420.7\" font-family=\"Times,serif\" font-size=\"14.00\" fill=\"white\">σ=0.500</text>\n",
       "</a>\n",
       "</g>\n",
       "</g>\n",
       "<!-- B -->\n",
       "<g id=\"node2\" class=\"node\">\n",
       "<title>B</title>\n",
       "<g id=\"a_node2\"><a xlink:title=\"(1) B\">\n",
       "<path fill=\"#404040\" stroke=\"#4a4a4a\" d=\"M12,-310.25C12,-310.25 113,-310.25 113,-310.25 119,-310.25 125,-316.25 125,-322.25 125,-322.25 125,-347.25 125,-347.25 125,-353.25 119,-359.25 113,-359.25 113,-359.25 12,-359.25 12,-359.25 6,-359.25 0,-353.25 0,-347.25 0,-347.25 0,-322.25 0,-322.25 0,-316.25 6,-310.25 12,-310.25\"/>\n",
       "<text text-anchor=\"middle\" x=\"62.5\" y=\"-341.95\" font-family=\"Times,serif\" font-size=\"14.00\" fill=\"white\">B</text>\n",
       "<polyline fill=\"none\" stroke=\"#4a4a4a\" points=\"0,-334.75 125,-334.75\"/>\n",
       "<text text-anchor=\"middle\" x=\"31.25\" y=\"-317.45\" font-family=\"Times,serif\" font-size=\"14.00\" fill=\"white\">μ=3.000</text>\n",
       "<polyline fill=\"none\" stroke=\"#4a4a4a\" points=\"62.5,-310.25 62.5,-334.75\"/>\n",
       "<text text-anchor=\"middle\" x=\"93.75\" y=\"-317.45\" font-family=\"Times,serif\" font-size=\"14.00\" fill=\"white\">σ=0.300</text>\n",
       "</a>\n",
       "</g>\n",
       "</g>\n",
       "<!-- F&#45;&gt;B -->\n",
       "<g id=\"edge1\" class=\"edge\">\n",
       "<title>F-&gt;B</title>\n",
       "<g id=\"a_edge1\"><a xlink:title=\"(0, 1) : \">\n",
       "<path fill=\"none\" stroke=\"#4a4a4a\" d=\"M151.77,-413.01C135.89,-399.26 115.78,-381.86 98.67,-367.05\"/>\n",
       "<polygon fill=\"#4a4a4a\" stroke=\"#4a4a4a\" points=\"101.02,-364.46 91.17,-360.56 96.44,-369.75 101.02,-364.46\"/>\n",
       "</a>\n",
       "</g>\n",
       "<text text-anchor=\"middle\" x=\"141.62\" y=\"-380.75\" font-family=\"Times,serif\" font-size=\"15.00\">1.20</text>\n",
       "</g>\n",
       "<!-- D -->\n",
       "<g id=\"node5\" class=\"node\">\n",
       "<title>D</title>\n",
       "<g id=\"a_node5\"><a xlink:title=\"(4) D\">\n",
       "<path fill=\"#404040\" stroke=\"#4a4a4a\" d=\"M200,-103.75C200,-103.75 301,-103.75 301,-103.75 307,-103.75 313,-109.75 313,-115.75 313,-115.75 313,-140.75 313,-140.75 313,-146.75 307,-152.75 301,-152.75 301,-152.75 200,-152.75 200,-152.75 194,-152.75 188,-146.75 188,-140.75 188,-140.75 188,-115.75 188,-115.75 188,-109.75 194,-103.75 200,-103.75\"/>\n",
       "<text text-anchor=\"middle\" x=\"250.5\" y=\"-135.45\" font-family=\"Times,serif\" font-size=\"14.00\" fill=\"white\">D</text>\n",
       "<polyline fill=\"none\" stroke=\"#4a4a4a\" points=\"188,-128.25 313,-128.25\"/>\n",
       "<text text-anchor=\"middle\" x=\"219.25\" y=\"-110.95\" font-family=\"Times,serif\" font-size=\"14.00\" fill=\"white\">μ=9.000</text>\n",
       "<polyline fill=\"none\" stroke=\"#4a4a4a\" points=\"250.5,-103.75 250.5,-128.25\"/>\n",
       "<text text-anchor=\"middle\" x=\"281.75\" y=\"-110.95\" font-family=\"Times,serif\" font-size=\"14.00\" fill=\"white\">σ=0.700</text>\n",
       "</a>\n",
       "</g>\n",
       "</g>\n",
       "<!-- F&#45;&gt;D -->\n",
       "<g id=\"edge2\" class=\"edge\">\n",
       "<title>F-&gt;D</title>\n",
       "<g id=\"a_edge2\"><a xlink:title=\"(0, 4) : \">\n",
       "<path fill=\"none\" stroke=\"#4a4a4a\" d=\"M225.79,-413.08C245.56,-400.19 266.58,-382.26 277.5,-359.75 308.51,-295.82 283.98,-210.58 265.72,-163.73\"/>\n",
       "<polygon fill=\"#4a4a4a\" stroke=\"#4a4a4a\" points=\"269.03,-162.6 262.04,-154.64 262.54,-165.22 269.03,-162.6\"/>\n",
       "</a>\n",
       "</g>\n",
       "<text text-anchor=\"middle\" x=\"304.62\" y=\"-277.5\" font-family=\"Times,serif\" font-size=\"15.00\">1.00</text>\n",
       "</g>\n",
       "<!-- C -->\n",
       "<g id=\"node4\" class=\"node\">\n",
       "<title>C</title>\n",
       "<g id=\"a_node4\"><a xlink:title=\"(3) C\">\n",
       "<path fill=\"#404040\" stroke=\"#4a4a4a\" d=\"M155,-207C155,-207 256,-207 256,-207 262,-207 268,-213 268,-219 268,-219 268,-244 268,-244 268,-250 262,-256 256,-256 256,-256 155,-256 155,-256 149,-256 143,-250 143,-244 143,-244 143,-219 143,-219 143,-213 149,-207 155,-207\"/>\n",
       "<text text-anchor=\"middle\" x=\"205.5\" y=\"-238.7\" font-family=\"Times,serif\" font-size=\"14.00\" fill=\"white\">C</text>\n",
       "<polyline fill=\"none\" stroke=\"#4a4a4a\" points=\"143,-231.5 268,-231.5\"/>\n",
       "<text text-anchor=\"middle\" x=\"174.25\" y=\"-214.2\" font-family=\"Times,serif\" font-size=\"14.00\" fill=\"white\">μ=9.000</text>\n",
       "<polyline fill=\"none\" stroke=\"#4a4a4a\" points=\"205.5,-207 205.5,-231.5\"/>\n",
       "<text text-anchor=\"middle\" x=\"236.75\" y=\"-214.2\" font-family=\"Times,serif\" font-size=\"14.00\" fill=\"white\">σ=0.600</text>\n",
       "</a>\n",
       "</g>\n",
       "</g>\n",
       "<!-- B&#45;&gt;C -->\n",
       "<g id=\"edge6\" class=\"edge\">\n",
       "<title>B-&gt;C</title>\n",
       "<g id=\"a_edge6\"><a xlink:title=\"(1, 3) : \">\n",
       "<path fill=\"none\" stroke=\"#4a4a4a\" d=\"M96.39,-309.76C116.25,-295.7 141.51,-277.81 162.73,-262.78\"/>\n",
       "<polygon fill=\"#4a4a4a\" stroke=\"#4a4a4a\" points=\"164.48,-265.83 170.62,-257.2 160.44,-260.12 164.48,-265.83\"/>\n",
       "</a>\n",
       "</g>\n",
       "<text text-anchor=\"middle\" x=\"156.62\" y=\"-277.5\" font-family=\"Times,serif\" font-size=\"15.00\">1.50</text>\n",
       "</g>\n",
       "<!-- A -->\n",
       "<g id=\"node3\" class=\"node\">\n",
       "<title>A</title>\n",
       "<g id=\"a_node3\"><a xlink:title=\"(2) A\">\n",
       "<path fill=\"#404040\" stroke=\"#4a4a4a\" d=\"M155,-310.25C155,-310.25 256,-310.25 256,-310.25 262,-310.25 268,-316.25 268,-322.25 268,-322.25 268,-347.25 268,-347.25 268,-353.25 262,-359.25 256,-359.25 256,-359.25 155,-359.25 155,-359.25 149,-359.25 143,-353.25 143,-347.25 143,-347.25 143,-322.25 143,-322.25 143,-316.25 149,-310.25 155,-310.25\"/>\n",
       "<text text-anchor=\"middle\" x=\"205.5\" y=\"-341.95\" font-family=\"Times,serif\" font-size=\"14.00\" fill=\"white\">A</text>\n",
       "<polyline fill=\"none\" stroke=\"#4a4a4a\" points=\"143,-334.75 268,-334.75\"/>\n",
       "<text text-anchor=\"middle\" x=\"174.25\" y=\"-317.45\" font-family=\"Times,serif\" font-size=\"14.00\" fill=\"white\">μ=4.500</text>\n",
       "<polyline fill=\"none\" stroke=\"#4a4a4a\" points=\"205.5,-310.25 205.5,-334.75\"/>\n",
       "<text text-anchor=\"middle\" x=\"236.75\" y=\"-317.45\" font-family=\"Times,serif\" font-size=\"14.00\" fill=\"white\">σ=0.300</text>\n",
       "</a>\n",
       "</g>\n",
       "</g>\n",
       "<!-- A&#45;&gt;C -->\n",
       "<g id=\"edge4\" class=\"edge\">\n",
       "<title>A-&gt;C</title>\n",
       "<g id=\"a_edge4\"><a xlink:title=\"(2, 3) : \">\n",
       "<path fill=\"none\" stroke=\"#4a4a4a\" d=\"M205.5,-309.76C205.5,-297.15 205.5,-281.45 205.5,-267.51\"/>\n",
       "<polygon fill=\"#4a4a4a\" stroke=\"#4a4a4a\" points=\"209,-267.84 205.5,-257.84 202,-267.84 209,-267.84\"/>\n",
       "</a>\n",
       "</g>\n",
       "<text text-anchor=\"middle\" x=\"218.62\" y=\"-277.5\" font-family=\"Times,serif\" font-size=\"15.00\">2.00</text>\n",
       "</g>\n",
       "<!-- C&#45;&gt;D -->\n",
       "<g id=\"edge3\" class=\"edge\">\n",
       "<title>C-&gt;D</title>\n",
       "<g id=\"a_edge3\"><a xlink:title=\"(3, 4) : \">\n",
       "<path fill=\"none\" stroke=\"#4a4a4a\" d=\"M216.16,-206.51C221.88,-193.64 229.02,-177.58 235.31,-163.43\"/>\n",
       "<polygon fill=\"#4a4a4a\" stroke=\"#4a4a4a\" points=\"238.43,-165.02 239.3,-154.46 232.04,-162.17 238.43,-165.02\"/>\n",
       "</a>\n",
       "</g>\n",
       "<text text-anchor=\"middle\" x=\"243.62\" y=\"-174.25\" font-family=\"Times,serif\" font-size=\"15.00\">1.00</text>\n",
       "</g>\n",
       "<!-- E -->\n",
       "<g id=\"node6\" class=\"node\">\n",
       "<title>E</title>\n",
       "<g id=\"a_node6\"><a xlink:title=\"(5) E\">\n",
       "<path fill=\"#404040\" stroke=\"#4a4a4a\" d=\"M200,-0.5C200,-0.5 301,-0.5 301,-0.5 307,-0.5 313,-6.5 313,-12.5 313,-12.5 313,-37.5 313,-37.5 313,-43.5 307,-49.5 301,-49.5 301,-49.5 200,-49.5 200,-49.5 194,-49.5 188,-43.5 188,-37.5 188,-37.5 188,-12.5 188,-12.5 188,-6.5 194,-0.5 200,-0.5\"/>\n",
       "<text text-anchor=\"middle\" x=\"250.5\" y=\"-32.2\" font-family=\"Times,serif\" font-size=\"14.00\" fill=\"white\">E</text>\n",
       "<polyline fill=\"none\" stroke=\"#4a4a4a\" points=\"188,-25 313,-25\"/>\n",
       "<text text-anchor=\"middle\" x=\"219.25\" y=\"-7.7\" font-family=\"Times,serif\" font-size=\"14.00\" fill=\"white\">μ=9.000</text>\n",
       "<polyline fill=\"none\" stroke=\"#4a4a4a\" points=\"250.5,-0.5 250.5,-25\"/>\n",
       "<text text-anchor=\"middle\" x=\"281.75\" y=\"-7.7\" font-family=\"Times,serif\" font-size=\"14.00\" fill=\"white\">σ=0.900</text>\n",
       "</a>\n",
       "</g>\n",
       "</g>\n",
       "<!-- D&#45;&gt;E -->\n",
       "<g id=\"edge5\" class=\"edge\">\n",
       "<title>D-&gt;E</title>\n",
       "<g id=\"a_edge5\"><a xlink:title=\"(4, 5) : \">\n",
       "<path fill=\"none\" stroke=\"#4a4a4a\" d=\"M250.5,-103.26C250.5,-90.65 250.5,-74.95 250.5,-61.01\"/>\n",
       "<polygon fill=\"#4a4a4a\" stroke=\"#4a4a4a\" points=\"254,-61.34 250.5,-51.34 247,-61.34 254,-61.34\"/>\n",
       "</a>\n",
       "</g>\n",
       "<text text-anchor=\"middle\" x=\"263.62\" y=\"-71\" font-family=\"Times,serif\" font-size=\"15.00\">1.00</text>\n",
       "</g>\n",
       "</g>\n",
       "</svg><br><small><i>loaded model</i></small></div></td></tr></table>"
      ],
      "text/plain": [
       "<IPython.core.display.HTML object>"
      ]
     },
     "metadata": {},
     "output_type": "display_data"
    }
   ],
   "source": [
    "model3=gclg.SEM.loadCLG(\"out/model2.sem\")\n",
    "gnb.sideBySide(model2,model3,captions=[\"saved model\",\"loaded model\"])"
   ]
  },
  {
   "cell_type": "markdown",
   "metadata": {
    "editable": true,
    "slideshow": {
     "slide_type": ""
    },
    "tags": []
   },
   "source": [
    "## Exact or approximated Inference\n",
    "\n",
    "### Exact inference : Variable Elimination\n",
    "\n",
    "Compute some posterior using difference exact inference"
   ]
  },
  {
   "cell_type": "code",
   "execution_count": 8,
   "metadata": {
    "editable": true,
    "slideshow": {
     "slide_type": ""
    },
    "tags": []
   },
   "outputs": [
    {
     "name": "stdout",
     "output_type": "stream",
     "text": [
      "A:1.9327650111193468[0.28353638852446156]\n",
      "B:-2.5058561897702[0.41002992170553515]\n",
      "C:3.9722757598220895[0.5657771474513671]\n",
      "D:3[0]\n",
      "E:12.0[0.9]\n",
      "F:-2.9836916234247597[0.32358490464094586]\n",
      "E:12.0[0.9]\n",
      "  - mean(E|D=3)=12.0\n",
      "  - stdev(E|D=3)=0.9\n"
     ]
    }
   ],
   "source": [
    "ie=gclg.CLGVariableElimination(model2)\n",
    "ie.updateEvidence({\"D\":3})\n",
    "\n",
    "print(ie.posterior(\"A\"))\n",
    "print(ie.posterior(\"B\"))\n",
    "print(ie.posterior(\"C\"))\n",
    "print(ie.posterior(\"D\"))\n",
    "print(ie.posterior(\"E\"))\n",
    "print(ie.posterior(\"F\"))\n",
    "\n",
    "\n",
    "v=ie.posterior(\"E\")\n",
    "print(v)\n",
    "print(f\"  - mean(E|D=3)={v.mu()}\")\n",
    "print(f\"  - stdev(E|D=3)={v.sigma()}\")"
   ]
  },
  {
   "cell_type": "code",
   "execution_count": 9,
   "metadata": {
    "editable": true,
    "slideshow": {
     "slide_type": ""
    },
    "tags": []
   },
   "outputs": [
    {
     "data": {
      "text/html": [
       "<table style=\"border-style: hidden; border-collapse: collapse;\" width=\"100%\"><tr><td style=\"border-top:hidden;border-bottom:hidden;vertical-align:middle;\"><div align=\"center\" style=\"vertical-align:middle;\"><svg xmlns=\"http://www.w3.org/2000/svg\" xmlns:xlink=\"http://www.w3.org/1999/xlink\" width=\"245pt\" height=\"360pt\" viewBox=\"0.00 0.00 245.35 360.00\">\n",
       "<g id=\"graph0\" class=\"graph\" transform=\"scale(0.764331 0.764331) rotate(0) translate(4 467)\">\n",
       "<title>G</title>\n",
       "<!-- A -->\n",
       "<g id=\"node1\" class=\"node\">\n",
       "<title>A</title>\n",
       "<g id=\"a_node1\"><a xlink:title=\"(0) A\">\n",
       "<path fill=\"#404040\" stroke=\"#4a4a4a\" d=\"M12,-310.25C12,-310.25 113,-310.25 113,-310.25 119,-310.25 125,-316.25 125,-322.25 125,-322.25 125,-347.25 125,-347.25 125,-353.25 119,-359.25 113,-359.25 113,-359.25 12,-359.25 12,-359.25 6,-359.25 0,-353.25 0,-347.25 0,-347.25 0,-322.25 0,-322.25 0,-316.25 6,-310.25 12,-310.25\"/>\n",
       "<text text-anchor=\"middle\" x=\"62.5\" y=\"-341.95\" font-family=\"Times,serif\" font-size=\"14.00\" fill=\"white\">A</text>\n",
       "<polyline fill=\"none\" stroke=\"#4a4a4a\" points=\"0,-334.75 125,-334.75\"/>\n",
       "<text text-anchor=\"middle\" x=\"31.25\" y=\"-317.45\" font-family=\"Times,serif\" font-size=\"14.00\" fill=\"white\">μ=4.500</text>\n",
       "<polyline fill=\"none\" stroke=\"#4a4a4a\" points=\"62.5,-310.25 62.5,-334.75\"/>\n",
       "<text text-anchor=\"middle\" x=\"93.75\" y=\"-317.45\" font-family=\"Times,serif\" font-size=\"14.00\" fill=\"white\">σ=0.300</text>\n",
       "</a>\n",
       "</g>\n",
       "</g>\n",
       "<!-- C -->\n",
       "<g id=\"node4\" class=\"node\">\n",
       "<title>C</title>\n",
       "<g id=\"a_node4\"><a xlink:title=\"(3) C\">\n",
       "<path fill=\"#404040\" stroke=\"#4a4a4a\" d=\"M155,-207C155,-207 256,-207 256,-207 262,-207 268,-213 268,-219 268,-219 268,-244 268,-244 268,-250 262,-256 256,-256 256,-256 155,-256 155,-256 149,-256 143,-250 143,-244 143,-244 143,-219 143,-219 143,-213 149,-207 155,-207\"/>\n",
       "<text text-anchor=\"middle\" x=\"205.5\" y=\"-238.7\" font-family=\"Times,serif\" font-size=\"14.00\" fill=\"white\">C</text>\n",
       "<polyline fill=\"none\" stroke=\"#4a4a4a\" points=\"143,-231.5 268,-231.5\"/>\n",
       "<text text-anchor=\"middle\" x=\"174.25\" y=\"-214.2\" font-family=\"Times,serif\" font-size=\"14.00\" fill=\"white\">μ=9.000</text>\n",
       "<polyline fill=\"none\" stroke=\"#4a4a4a\" points=\"205.5,-207 205.5,-231.5\"/>\n",
       "<text text-anchor=\"middle\" x=\"236.75\" y=\"-214.2\" font-family=\"Times,serif\" font-size=\"14.00\" fill=\"white\">σ=0.600</text>\n",
       "</a>\n",
       "</g>\n",
       "</g>\n",
       "<!-- A&#45;&gt;C -->\n",
       "<g id=\"edge3\" class=\"edge\">\n",
       "<title>A-&gt;C</title>\n",
       "<g id=\"a_edge3\"><a xlink:title=\"(0, 3) : \">\n",
       "<path fill=\"none\" stroke=\"#4a4a4a\" d=\"M96.39,-309.76C116.25,-295.7 141.51,-277.81 162.73,-262.78\"/>\n",
       "<polygon fill=\"#4a4a4a\" stroke=\"#4a4a4a\" points=\"164.48,-265.83 170.62,-257.2 160.44,-260.12 164.48,-265.83\"/>\n",
       "</a>\n",
       "</g>\n",
       "<text text-anchor=\"middle\" x=\"156.62\" y=\"-277.5\" font-family=\"Times,serif\" font-size=\"15.00\">2.00</text>\n",
       "</g>\n",
       "<!-- F -->\n",
       "<g id=\"node2\" class=\"node\">\n",
       "<title>F</title>\n",
       "<g id=\"a_node2\"><a xlink:title=\"(1) F\">\n",
       "<path fill=\"#404040\" stroke=\"#4a4a4a\" d=\"M200,-413.5C200,-413.5 301,-413.5 301,-413.5 307,-413.5 313,-419.5 313,-425.5 313,-425.5 313,-450.5 313,-450.5 313,-456.5 307,-462.5 301,-462.5 301,-462.5 200,-462.5 200,-462.5 194,-462.5 188,-456.5 188,-450.5 188,-450.5 188,-425.5 188,-425.5 188,-419.5 194,-413.5 200,-413.5\"/>\n",
       "<text text-anchor=\"middle\" x=\"250.5\" y=\"-445.2\" font-family=\"Times,serif\" font-size=\"14.00\" fill=\"white\">F</text>\n",
       "<polyline fill=\"none\" stroke=\"#4a4a4a\" points=\"188,-438 313,-438\"/>\n",
       "<text text-anchor=\"middle\" x=\"219.25\" y=\"-420.7\" font-family=\"Times,serif\" font-size=\"14.00\" fill=\"white\">μ=7.000</text>\n",
       "<polyline fill=\"none\" stroke=\"#4a4a4a\" points=\"250.5,-413.5 250.5,-438\"/>\n",
       "<text text-anchor=\"middle\" x=\"281.75\" y=\"-420.7\" font-family=\"Times,serif\" font-size=\"14.00\" fill=\"white\">σ=0.500</text>\n",
       "</a>\n",
       "</g>\n",
       "</g>\n",
       "<!-- B -->\n",
       "<g id=\"node3\" class=\"node\">\n",
       "<title>B</title>\n",
       "<g id=\"a_node3\"><a xlink:title=\"(2) B\">\n",
       "<path fill=\"#404040\" stroke=\"#4a4a4a\" d=\"M155,-310.25C155,-310.25 256,-310.25 256,-310.25 262,-310.25 268,-316.25 268,-322.25 268,-322.25 268,-347.25 268,-347.25 268,-353.25 262,-359.25 256,-359.25 256,-359.25 155,-359.25 155,-359.25 149,-359.25 143,-353.25 143,-347.25 143,-347.25 143,-322.25 143,-322.25 143,-316.25 149,-310.25 155,-310.25\"/>\n",
       "<text text-anchor=\"middle\" x=\"205.5\" y=\"-341.95\" font-family=\"Times,serif\" font-size=\"14.00\" fill=\"white\">B</text>\n",
       "<polyline fill=\"none\" stroke=\"#4a4a4a\" points=\"143,-334.75 268,-334.75\"/>\n",
       "<text text-anchor=\"middle\" x=\"174.25\" y=\"-317.45\" font-family=\"Times,serif\" font-size=\"14.00\" fill=\"white\">μ=3.000</text>\n",
       "<polyline fill=\"none\" stroke=\"#4a4a4a\" points=\"205.5,-310.25 205.5,-334.75\"/>\n",
       "<text text-anchor=\"middle\" x=\"236.75\" y=\"-317.45\" font-family=\"Times,serif\" font-size=\"14.00\" fill=\"white\">σ=0.300</text>\n",
       "</a>\n",
       "</g>\n",
       "</g>\n",
       "<!-- F&#45;&gt;B -->\n",
       "<g id=\"edge1\" class=\"edge\">\n",
       "<title>F-&gt;B</title>\n",
       "<g id=\"a_edge1\"><a xlink:title=\"(1, 2) : \">\n",
       "<path fill=\"none\" stroke=\"#4a4a4a\" d=\"M239.84,-413.01C234.12,-400.14 226.98,-384.08 220.69,-369.93\"/>\n",
       "<polygon fill=\"#4a4a4a\" stroke=\"#4a4a4a\" points=\"223.96,-368.67 216.7,-360.96 217.57,-371.52 223.96,-368.67\"/>\n",
       "</a>\n",
       "</g>\n",
       "<text text-anchor=\"middle\" x=\"243.62\" y=\"-380.75\" font-family=\"Times,serif\" font-size=\"15.00\">1.20</text>\n",
       "</g>\n",
       "<!-- D -->\n",
       "<g id=\"node5\" class=\"node\">\n",
       "<title>D</title>\n",
       "<g id=\"a_node5\"><a xlink:title=\"(4) D\">\n",
       "<path fill=\"#404040\" stroke=\"#4a4a4a\" d=\"M200,-103.75C200,-103.75 301,-103.75 301,-103.75 307,-103.75 313,-109.75 313,-115.75 313,-115.75 313,-140.75 313,-140.75 313,-146.75 307,-152.75 301,-152.75 301,-152.75 200,-152.75 200,-152.75 194,-152.75 188,-146.75 188,-140.75 188,-140.75 188,-115.75 188,-115.75 188,-109.75 194,-103.75 200,-103.75\"/>\n",
       "<text text-anchor=\"middle\" x=\"250.5\" y=\"-135.45\" font-family=\"Times,serif\" font-size=\"14.00\" fill=\"white\">D</text>\n",
       "<polyline fill=\"none\" stroke=\"#4a4a4a\" points=\"188,-128.25 313,-128.25\"/>\n",
       "<text text-anchor=\"middle\" x=\"219.25\" y=\"-110.95\" font-family=\"Times,serif\" font-size=\"14.00\" fill=\"white\">μ=9.000</text>\n",
       "<polyline fill=\"none\" stroke=\"#4a4a4a\" points=\"250.5,-103.75 250.5,-128.25\"/>\n",
       "<text text-anchor=\"middle\" x=\"281.75\" y=\"-110.95\" font-family=\"Times,serif\" font-size=\"14.00\" fill=\"white\">σ=0.700</text>\n",
       "</a>\n",
       "</g>\n",
       "</g>\n",
       "<!-- F&#45;&gt;D -->\n",
       "<g id=\"edge4\" class=\"edge\">\n",
       "<title>F-&gt;D</title>\n",
       "<g id=\"a_edge4\"><a xlink:title=\"(1, 4) : \">\n",
       "<path fill=\"none\" stroke=\"#4a4a4a\" d=\"M261.16,-413.2C267.28,-398.2 274.36,-378.24 277.5,-359.75 288.9,-292.6 288.9,-273.65 277.5,-206.5 275.05,-192.06 270.19,-176.71 265.26,-163.54\"/>\n",
       "<polygon fill=\"#4a4a4a\" stroke=\"#4a4a4a\" points=\"268.61,-162.5 261.71,-154.46 262.1,-165.05 268.61,-162.5\"/>\n",
       "</a>\n",
       "</g>\n",
       "<text text-anchor=\"middle\" x=\"298.62\" y=\"-277.5\" font-family=\"Times,serif\" font-size=\"15.00\">1.00</text>\n",
       "</g>\n",
       "<!-- B&#45;&gt;C -->\n",
       "<g id=\"edge5\" class=\"edge\">\n",
       "<title>B-&gt;C</title>\n",
       "<g id=\"a_edge5\"><a xlink:title=\"(2, 3) : \">\n",
       "<path fill=\"none\" stroke=\"#4a4a4a\" d=\"M205.5,-309.76C205.5,-297.15 205.5,-281.45 205.5,-267.51\"/>\n",
       "<polygon fill=\"#4a4a4a\" stroke=\"#4a4a4a\" points=\"209,-267.84 205.5,-257.84 202,-267.84 209,-267.84\"/>\n",
       "</a>\n",
       "</g>\n",
       "<text text-anchor=\"middle\" x=\"218.62\" y=\"-277.5\" font-family=\"Times,serif\" font-size=\"15.00\">1.50</text>\n",
       "</g>\n",
       "<!-- C&#45;&gt;D -->\n",
       "<g id=\"edge2\" class=\"edge\">\n",
       "<title>C-&gt;D</title>\n",
       "<g id=\"a_edge2\"><a xlink:title=\"(3, 4) : \">\n",
       "<path fill=\"none\" stroke=\"#4a4a4a\" d=\"M216.16,-206.51C221.88,-193.64 229.02,-177.58 235.31,-163.43\"/>\n",
       "<polygon fill=\"#4a4a4a\" stroke=\"#4a4a4a\" points=\"238.43,-165.02 239.3,-154.46 232.04,-162.17 238.43,-165.02\"/>\n",
       "</a>\n",
       "</g>\n",
       "<text text-anchor=\"middle\" x=\"243.62\" y=\"-174.25\" font-family=\"Times,serif\" font-size=\"15.00\">1.00</text>\n",
       "</g>\n",
       "<!-- E -->\n",
       "<g id=\"node6\" class=\"node\">\n",
       "<title>E</title>\n",
       "<g id=\"a_node6\"><a xlink:title=\"(5) E\">\n",
       "<path fill=\"#404040\" stroke=\"#4a4a4a\" d=\"M200,-0.5C200,-0.5 301,-0.5 301,-0.5 307,-0.5 313,-6.5 313,-12.5 313,-12.5 313,-37.5 313,-37.5 313,-43.5 307,-49.5 301,-49.5 301,-49.5 200,-49.5 200,-49.5 194,-49.5 188,-43.5 188,-37.5 188,-37.5 188,-12.5 188,-12.5 188,-6.5 194,-0.5 200,-0.5\"/>\n",
       "<text text-anchor=\"middle\" x=\"250.5\" y=\"-32.2\" font-family=\"Times,serif\" font-size=\"14.00\" fill=\"white\">E</text>\n",
       "<polyline fill=\"none\" stroke=\"#4a4a4a\" points=\"188,-25 313,-25\"/>\n",
       "<text text-anchor=\"middle\" x=\"219.25\" y=\"-7.7\" font-family=\"Times,serif\" font-size=\"14.00\" fill=\"white\">μ=9.000</text>\n",
       "<polyline fill=\"none\" stroke=\"#4a4a4a\" points=\"250.5,-0.5 250.5,-25\"/>\n",
       "<text text-anchor=\"middle\" x=\"281.75\" y=\"-7.7\" font-family=\"Times,serif\" font-size=\"14.00\" fill=\"white\">σ=0.900</text>\n",
       "</a>\n",
       "</g>\n",
       "</g>\n",
       "<!-- D&#45;&gt;E -->\n",
       "<g id=\"edge6\" class=\"edge\">\n",
       "<title>D-&gt;E</title>\n",
       "<g id=\"a_edge6\"><a xlink:title=\"(4, 5) : \">\n",
       "<path fill=\"none\" stroke=\"#4a4a4a\" d=\"M250.5,-103.26C250.5,-90.65 250.5,-74.95 250.5,-61.01\"/>\n",
       "<polygon fill=\"#4a4a4a\" stroke=\"#4a4a4a\" points=\"254,-61.34 250.5,-51.34 247,-61.34 254,-61.34\"/>\n",
       "</a>\n",
       "</g>\n",
       "<text text-anchor=\"middle\" x=\"263.62\" y=\"-71\" font-family=\"Times,serif\" font-size=\"15.00\">1.00</text>\n",
       "</g>\n",
       "</g>\n",
       "</svg><br><small><i>The CLG</i></small></div></td><td style=\"border-top:hidden;border-bottom:hidden;vertical-align:middle;\"><div align=\"center\" style=\"vertical-align:middle;\"><svg xmlns=\"http://www.w3.org/2000/svg\" xmlns:xlink=\"http://www.w3.org/1999/xlink\" width=\"293pt\" height=\"360pt\" viewBox=\"0.00 0.00 293.17 360.00\">\n",
       "<g id=\"graph0\" class=\"graph\" transform=\"scale(0.895522 0.895522) rotate(0) translate(4 398)\">\n",
       "<title>G</title>\n",
       "<!-- A -->\n",
       "<g id=\"node1\" class=\"node\">\n",
       "<title>A</title>\n",
       "<g id=\"a_node1\"><a xlink:title=\"(0) A\">\n",
       "<path fill=\"darkseagreen\" stroke=\"#4a4a4a\" d=\"M12,-258.5C12,-258.5 113,-258.5 113,-258.5 119,-258.5 125,-264.5 125,-270.5 125,-270.5 125,-295.5 125,-295.5 125,-301.5 119,-307.5 113,-307.5 113,-307.5 12,-307.5 12,-307.5 6,-307.5 0,-301.5 0,-295.5 0,-295.5 0,-270.5 0,-270.5 0,-264.5 6,-258.5 12,-258.5\"/>\n",
       "<text text-anchor=\"middle\" x=\"62.5\" y=\"-290.2\" font-family=\"Times,serif\" font-size=\"14.00\">A</text>\n",
       "<polyline fill=\"none\" stroke=\"#4a4a4a\" points=\"0,-283 125,-283\"/>\n",
       "<text text-anchor=\"middle\" x=\"31.25\" y=\"-265.7\" font-family=\"Times,serif\" font-size=\"14.00\">μ=1.933</text>\n",
       "<polyline fill=\"none\" stroke=\"#4a4a4a\" points=\"62.5,-258.5 62.5,-283\"/>\n",
       "<text text-anchor=\"middle\" x=\"93.75\" y=\"-265.7\" font-family=\"Times,serif\" font-size=\"14.00\">σ=0.284</text>\n",
       "</a>\n",
       "</g>\n",
       "</g>\n",
       "<!-- C -->\n",
       "<g id=\"node4\" class=\"node\">\n",
       "<title>C</title>\n",
       "<g id=\"a_node4\"><a xlink:title=\"(3) C\">\n",
       "<path fill=\"darkseagreen\" stroke=\"#4a4a4a\" d=\"M157,-172.5C157,-172.5 258,-172.5 258,-172.5 264,-172.5 270,-178.5 270,-184.5 270,-184.5 270,-209.5 270,-209.5 270,-215.5 264,-221.5 258,-221.5 258,-221.5 157,-221.5 157,-221.5 151,-221.5 145,-215.5 145,-209.5 145,-209.5 145,-184.5 145,-184.5 145,-178.5 151,-172.5 157,-172.5\"/>\n",
       "<text text-anchor=\"middle\" x=\"207.5\" y=\"-204.2\" font-family=\"Times,serif\" font-size=\"14.00\">C</text>\n",
       "<polyline fill=\"none\" stroke=\"#4a4a4a\" points=\"145,-197 270,-197\"/>\n",
       "<text text-anchor=\"middle\" x=\"176.25\" y=\"-179.7\" font-family=\"Times,serif\" font-size=\"14.00\">μ=3.972</text>\n",
       "<polyline fill=\"none\" stroke=\"#4a4a4a\" points=\"207.5,-172.5 207.5,-197\"/>\n",
       "<text text-anchor=\"middle\" x=\"238.75\" y=\"-179.7\" font-family=\"Times,serif\" font-size=\"14.00\">σ=0.566</text>\n",
       "</a>\n",
       "</g>\n",
       "</g>\n",
       "<!-- A&#45;&gt;C -->\n",
       "<g id=\"edge3\" class=\"edge\">\n",
       "<title>A-&gt;C</title>\n",
       "<g id=\"a_edge3\"><a xlink:title=\"(0, 3) : \">\n",
       "<path fill=\"none\" stroke=\"#4a4a4a\" d=\"M103.66,-258.15C120.04,-248.67 139.06,-237.65 156.31,-227.65\"/>\n",
       "<polygon fill=\"#4a4a4a\" stroke=\"#4a4a4a\" points=\"158.03,-230.71 164.92,-222.66 154.52,-224.65 158.03,-230.71\"/>\n",
       "</a>\n",
       "</g>\n",
       "</g>\n",
       "<!-- F -->\n",
       "<g id=\"node2\" class=\"node\">\n",
       "<title>F</title>\n",
       "<g id=\"a_node2\"><a xlink:title=\"(1) F\">\n",
       "<path fill=\"darkseagreen\" stroke=\"#4a4a4a\" d=\"M200.75,-344.5C200.75,-344.5 306.25,-344.5 306.25,-344.5 312.25,-344.5 318.25,-350.5 318.25,-356.5 318.25,-356.5 318.25,-381.5 318.25,-381.5 318.25,-387.5 312.25,-393.5 306.25,-393.5 306.25,-393.5 200.75,-393.5 200.75,-393.5 194.75,-393.5 188.75,-387.5 188.75,-381.5 188.75,-381.5 188.75,-356.5 188.75,-356.5 188.75,-350.5 194.75,-344.5 200.75,-344.5\"/>\n",
       "<text text-anchor=\"middle\" x=\"253.5\" y=\"-376.2\" font-family=\"Times,serif\" font-size=\"14.00\">F</text>\n",
       "<polyline fill=\"none\" stroke=\"#4a4a4a\" points=\"188.75,-369 318.25,-369\"/>\n",
       "<text text-anchor=\"middle\" x=\"222.25\" y=\"-351.7\" font-family=\"Times,serif\" font-size=\"14.00\">μ=-2.984</text>\n",
       "<polyline fill=\"none\" stroke=\"#4a4a4a\" points=\"255.75,-344.5 255.75,-369\"/>\n",
       "<text text-anchor=\"middle\" x=\"287\" y=\"-351.7\" font-family=\"Times,serif\" font-size=\"14.00\">σ=0.324</text>\n",
       "</a>\n",
       "</g>\n",
       "</g>\n",
       "<!-- B -->\n",
       "<g id=\"node3\" class=\"node\">\n",
       "<title>B</title>\n",
       "<g id=\"a_node3\"><a xlink:title=\"(2) B\">\n",
       "<path fill=\"darkseagreen\" stroke=\"#4a4a4a\" d=\"M154.75,-258.5C154.75,-258.5 260.25,-258.5 260.25,-258.5 266.25,-258.5 272.25,-264.5 272.25,-270.5 272.25,-270.5 272.25,-295.5 272.25,-295.5 272.25,-301.5 266.25,-307.5 260.25,-307.5 260.25,-307.5 154.75,-307.5 154.75,-307.5 148.75,-307.5 142.75,-301.5 142.75,-295.5 142.75,-295.5 142.75,-270.5 142.75,-270.5 142.75,-264.5 148.75,-258.5 154.75,-258.5\"/>\n",
       "<text text-anchor=\"middle\" x=\"207.5\" y=\"-290.2\" font-family=\"Times,serif\" font-size=\"14.00\">B</text>\n",
       "<polyline fill=\"none\" stroke=\"#4a4a4a\" points=\"142.75,-283 272.25,-283\"/>\n",
       "<text text-anchor=\"middle\" x=\"176.25\" y=\"-265.7\" font-family=\"Times,serif\" font-size=\"14.00\">μ=-2.506</text>\n",
       "<polyline fill=\"none\" stroke=\"#4a4a4a\" points=\"209.75,-258.5 209.75,-283\"/>\n",
       "<text text-anchor=\"middle\" x=\"241\" y=\"-265.7\" font-family=\"Times,serif\" font-size=\"14.00\">σ=0.410</text>\n",
       "</a>\n",
       "</g>\n",
       "</g>\n",
       "<!-- F&#45;&gt;B -->\n",
       "<g id=\"edge1\" class=\"edge\">\n",
       "<title>F-&gt;B</title>\n",
       "<g id=\"a_edge1\"><a xlink:title=\"(1, 2) : \">\n",
       "<path fill=\"none\" stroke=\"#4a4a4a\" d=\"M240.44,-344.15C235.97,-336 230.89,-326.71 226.07,-317.91\"/>\n",
       "<polygon fill=\"#4a4a4a\" stroke=\"#4a4a4a\" points=\"229.19,-316.32 221.32,-309.23 223.05,-319.69 229.19,-316.32\"/>\n",
       "</a>\n",
       "</g>\n",
       "</g>\n",
       "<!-- D -->\n",
       "<g id=\"node5\" class=\"node\">\n",
       "<title>D</title>\n",
       "<g id=\"a_node5\"><a xlink:title=\"(4) D\">\n",
       "<path fill=\"sandybrown\" stroke=\"#4a4a4a\" d=\"M203,-86.5C203,-86.5 304,-86.5 304,-86.5 310,-86.5 316,-92.5 316,-98.5 316,-98.5 316,-123.5 316,-123.5 316,-129.5 310,-135.5 304,-135.5 304,-135.5 203,-135.5 203,-135.5 197,-135.5 191,-129.5 191,-123.5 191,-123.5 191,-98.5 191,-98.5 191,-92.5 197,-86.5 203,-86.5\"/>\n",
       "<text text-anchor=\"middle\" x=\"253.5\" y=\"-118.2\" font-family=\"Times,serif\" font-size=\"14.00\">D</text>\n",
       "<polyline fill=\"none\" stroke=\"#4a4a4a\" points=\"191,-111 316,-111\"/>\n",
       "<text text-anchor=\"middle\" x=\"222.25\" y=\"-93.7\" font-family=\"Times,serif\" font-size=\"14.00\">μ=3.000</text>\n",
       "<polyline fill=\"none\" stroke=\"#4a4a4a\" points=\"253.5,-86.5 253.5,-111\"/>\n",
       "<text text-anchor=\"middle\" x=\"284.75\" y=\"-93.7\" font-family=\"Times,serif\" font-size=\"14.00\">σ=0.000</text>\n",
       "</a>\n",
       "</g>\n",
       "</g>\n",
       "<!-- F&#45;&gt;D -->\n",
       "<g id=\"edge4\" class=\"edge\">\n",
       "<title>F-&gt;D</title>\n",
       "<g id=\"a_edge4\"><a xlink:title=\"(1, 4) : \">\n",
       "<path fill=\"none\" stroke=\"#4a4a4a\" d=\"M267.61,-344.05C273.11,-333.39 278.74,-320.46 281.5,-308 285.23,-291.21 282.73,-186.7 279.5,-172 277.6,-163.36 274.46,-154.43 270.99,-146.18\"/>\n",
       "<polygon fill=\"#4a4a4a\" stroke=\"#4a4a4a\" points=\"274.25,-144.88 266.96,-137.19 267.86,-147.74 274.25,-144.88\"/>\n",
       "</a>\n",
       "</g>\n",
       "</g>\n",
       "<!-- B&#45;&gt;C -->\n",
       "<g id=\"edge5\" class=\"edge\">\n",
       "<title>B-&gt;C</title>\n",
       "<g id=\"a_edge5\"><a xlink:title=\"(2, 3) : \">\n",
       "<path fill=\"none\" stroke=\"#4a4a4a\" d=\"M207.5,-258.15C207.5,-250.44 207.5,-241.71 207.5,-233.35\"/>\n",
       "<polygon fill=\"#4a4a4a\" stroke=\"#4a4a4a\" points=\"211,-233.42 207.5,-223.42 204,-233.42 211,-233.42\"/>\n",
       "</a>\n",
       "</g>\n",
       "</g>\n",
       "<!-- C&#45;&gt;D -->\n",
       "<g id=\"edge2\" class=\"edge\">\n",
       "<title>C-&gt;D</title>\n",
       "<g id=\"a_edge2\"><a xlink:title=\"(3, 4) : \">\n",
       "<path fill=\"none\" stroke=\"#4a4a4a\" d=\"M220.56,-172.15C225.03,-164 230.11,-154.71 234.93,-145.91\"/>\n",
       "<polygon fill=\"#4a4a4a\" stroke=\"#4a4a4a\" points=\"237.95,-147.69 239.68,-137.23 231.81,-144.32 237.95,-147.69\"/>\n",
       "</a>\n",
       "</g>\n",
       "</g>\n",
       "<!-- E -->\n",
       "<g id=\"node6\" class=\"node\">\n",
       "<title>E</title>\n",
       "<g id=\"a_node6\"><a xlink:title=\"(5) E\">\n",
       "<path fill=\"darkseagreen\" stroke=\"#4a4a4a\" d=\"M199.62,-0.5C199.62,-0.5 307.38,-0.5 307.38,-0.5 313.38,-0.5 319.38,-6.5 319.38,-12.5 319.38,-12.5 319.38,-37.5 319.38,-37.5 319.38,-43.5 313.38,-49.5 307.38,-49.5 307.38,-49.5 199.62,-49.5 199.62,-49.5 193.62,-49.5 187.62,-43.5 187.62,-37.5 187.62,-37.5 187.62,-12.5 187.62,-12.5 187.62,-6.5 193.62,-0.5 199.62,-0.5\"/>\n",
       "<text text-anchor=\"middle\" x=\"253.5\" y=\"-32.2\" font-family=\"Times,serif\" font-size=\"14.00\">E</text>\n",
       "<polyline fill=\"none\" stroke=\"#4a4a4a\" points=\"187.62,-25 319.38,-25\"/>\n",
       "<text text-anchor=\"middle\" x=\"222.25\" y=\"-7.7\" font-family=\"Times,serif\" font-size=\"14.00\">μ=12.000</text>\n",
       "<polyline fill=\"none\" stroke=\"#4a4a4a\" points=\"256.88,-0.5 256.88,-25\"/>\n",
       "<text text-anchor=\"middle\" x=\"288.12\" y=\"-7.7\" font-family=\"Times,serif\" font-size=\"14.00\">σ=0.900</text>\n",
       "</a>\n",
       "</g>\n",
       "</g>\n",
       "<!-- D&#45;&gt;E -->\n",
       "<g id=\"edge6\" class=\"edge\">\n",
       "<title>D-&gt;E</title>\n",
       "<g id=\"a_edge6\"><a xlink:title=\"(4, 5) : \">\n",
       "<path fill=\"none\" stroke=\"#4a4a4a\" d=\"M253.5,-86.15C253.5,-78.44 253.5,-69.71 253.5,-61.35\"/>\n",
       "<polygon fill=\"#4a4a4a\" stroke=\"#4a4a4a\" points=\"257,-61.42 253.5,-51.42 250,-61.42 257,-61.42\"/>\n",
       "</a>\n",
       "</g>\n",
       "</g>\n",
       "</g>\n",
       "</svg><br><small><i>First inference</i></small></div></td><td style=\"border-top:hidden;border-bottom:hidden;vertical-align:middle;\"><div align=\"center\" style=\"vertical-align:middle;\"><svg xmlns=\"http://www.w3.org/2000/svg\" xmlns:xlink=\"http://www.w3.org/1999/xlink\" width=\"290pt\" height=\"360pt\" viewBox=\"0.00 0.00 290.49 360.00\">\n",
       "<g id=\"graph0\" class=\"graph\" transform=\"scale(0.895522 0.895522) rotate(0) translate(4 398)\">\n",
       "<title>G</title>\n",
       "<!-- A -->\n",
       "<g id=\"node1\" class=\"node\">\n",
       "<title>A</title>\n",
       "<g id=\"a_node1\"><a xlink:title=\"(0) A\">\n",
       "<path fill=\"darkseagreen\" stroke=\"#4a4a4a\" d=\"M12,-258.5C12,-258.5 113,-258.5 113,-258.5 119,-258.5 125,-264.5 125,-270.5 125,-270.5 125,-295.5 125,-295.5 125,-301.5 119,-307.5 113,-307.5 113,-307.5 12,-307.5 12,-307.5 6,-307.5 0,-301.5 0,-295.5 0,-295.5 0,-270.5 0,-270.5 0,-264.5 6,-258.5 12,-258.5\"/>\n",
       "<text text-anchor=\"middle\" x=\"62.5\" y=\"-290.2\" font-family=\"Times,serif\" font-size=\"14.00\">A</text>\n",
       "<polyline fill=\"none\" stroke=\"#4a4a4a\" points=\"0,-283 125,-283\"/>\n",
       "<text text-anchor=\"middle\" x=\"31.25\" y=\"-265.7\" font-family=\"Times,serif\" font-size=\"14.00\">μ=0.511</text>\n",
       "<polyline fill=\"none\" stroke=\"#4a4a4a\" points=\"62.5,-258.5 62.5,-283\"/>\n",
       "<text text-anchor=\"middle\" x=\"93.75\" y=\"-265.7\" font-family=\"Times,serif\" font-size=\"14.00\">σ=0.259</text>\n",
       "</a>\n",
       "</g>\n",
       "</g>\n",
       "<!-- C -->\n",
       "<g id=\"node4\" class=\"node\">\n",
       "<title>C</title>\n",
       "<g id=\"a_node4\"><a xlink:title=\"(3) C\">\n",
       "<path fill=\"darkseagreen\" stroke=\"#4a4a4a\" d=\"M155,-172.5C155,-172.5 256,-172.5 256,-172.5 262,-172.5 268,-178.5 268,-184.5 268,-184.5 268,-209.5 268,-209.5 268,-215.5 262,-221.5 256,-221.5 256,-221.5 155,-221.5 155,-221.5 149,-221.5 143,-215.5 143,-209.5 143,-209.5 143,-184.5 143,-184.5 143,-178.5 149,-172.5 155,-172.5\"/>\n",
       "<text text-anchor=\"middle\" x=\"205.5\" y=\"-204.2\" font-family=\"Times,serif\" font-size=\"14.00\">C</text>\n",
       "<polyline fill=\"none\" stroke=\"#4a4a4a\" points=\"143,-197 268,-197\"/>\n",
       "<text text-anchor=\"middle\" x=\"174.25\" y=\"-179.7\" font-family=\"Times,serif\" font-size=\"14.00\">μ=3.858</text>\n",
       "<polyline fill=\"none\" stroke=\"#4a4a4a\" points=\"205.5,-172.5 205.5,-197\"/>\n",
       "<text text-anchor=\"middle\" x=\"236.75\" y=\"-179.7\" font-family=\"Times,serif\" font-size=\"14.00\">σ=0.566</text>\n",
       "</a>\n",
       "</g>\n",
       "</g>\n",
       "<!-- A&#45;&gt;C -->\n",
       "<g id=\"edge3\" class=\"edge\">\n",
       "<title>A-&gt;C</title>\n",
       "<g id=\"a_edge3\"><a xlink:title=\"(0, 3) : \">\n",
       "<path fill=\"none\" stroke=\"#4a4a4a\" d=\"M103.1,-258.15C119.25,-248.67 138,-237.65 155.02,-227.65\"/>\n",
       "<polygon fill=\"#4a4a4a\" stroke=\"#4a4a4a\" points=\"156.65,-230.76 163.5,-222.67 153.1,-224.72 156.65,-230.76\"/>\n",
       "</a>\n",
       "</g>\n",
       "</g>\n",
       "<!-- F -->\n",
       "<g id=\"node2\" class=\"node\">\n",
       "<title>F</title>\n",
       "<g id=\"a_node2\"><a xlink:title=\"(1) F\">\n",
       "<path fill=\"sandybrown\" stroke=\"#4a4a4a\" d=\"M200,-344.5C200,-344.5 301,-344.5 301,-344.5 307,-344.5 313,-350.5 313,-356.5 313,-356.5 313,-381.5 313,-381.5 313,-387.5 307,-393.5 301,-393.5 301,-393.5 200,-393.5 200,-393.5 194,-393.5 188,-387.5 188,-381.5 188,-381.5 188,-356.5 188,-356.5 188,-350.5 194,-344.5 200,-344.5\"/>\n",
       "<text text-anchor=\"middle\" x=\"250.5\" y=\"-376.2\" font-family=\"Times,serif\" font-size=\"14.00\">F</text>\n",
       "<polyline fill=\"none\" stroke=\"#4a4a4a\" points=\"188,-369 313,-369\"/>\n",
       "<text text-anchor=\"middle\" x=\"219.25\" y=\"-351.7\" font-family=\"Times,serif\" font-size=\"14.00\">μ=1.000</text>\n",
       "<polyline fill=\"none\" stroke=\"#4a4a4a\" points=\"250.5,-344.5 250.5,-369\"/>\n",
       "<text text-anchor=\"middle\" x=\"281.75\" y=\"-351.7\" font-family=\"Times,serif\" font-size=\"14.00\">σ=0.000</text>\n",
       "</a>\n",
       "</g>\n",
       "</g>\n",
       "<!-- B -->\n",
       "<g id=\"node3\" class=\"node\">\n",
       "<title>B</title>\n",
       "<g id=\"a_node3\"><a xlink:title=\"(2) B\">\n",
       "<path fill=\"darkseagreen\" stroke=\"#4a4a4a\" d=\"M155,-258.5C155,-258.5 256,-258.5 256,-258.5 262,-258.5 268,-264.5 268,-270.5 268,-270.5 268,-295.5 268,-295.5 268,-301.5 262,-307.5 256,-307.5 256,-307.5 155,-307.5 155,-307.5 149,-307.5 143,-301.5 143,-295.5 143,-295.5 143,-270.5 143,-270.5 143,-264.5 149,-258.5 155,-258.5\"/>\n",
       "<text text-anchor=\"middle\" x=\"205.5\" y=\"-290.2\" font-family=\"Times,serif\" font-size=\"14.00\">B</text>\n",
       "<polyline fill=\"none\" stroke=\"#4a4a4a\" points=\"143,-283 268,-283\"/>\n",
       "<text text-anchor=\"middle\" x=\"174.25\" y=\"-265.7\" font-family=\"Times,serif\" font-size=\"14.00\">μ=1.208</text>\n",
       "<polyline fill=\"none\" stroke=\"#4a4a4a\" points=\"205.5,-258.5 205.5,-283\"/>\n",
       "<text text-anchor=\"middle\" x=\"236.75\" y=\"-265.7\" font-family=\"Times,serif\" font-size=\"14.00\">σ=0.278</text>\n",
       "</a>\n",
       "</g>\n",
       "</g>\n",
       "<!-- F&#45;&gt;B -->\n",
       "<g id=\"edge1\" class=\"edge\">\n",
       "<title>F-&gt;B</title>\n",
       "<g id=\"a_edge1\"><a xlink:title=\"(1, 2) : \">\n",
       "<path fill=\"none\" stroke=\"#4a4a4a\" d=\"M237.73,-344.15C233.35,-336 228.38,-326.71 223.67,-317.91\"/>\n",
       "<polygon fill=\"#4a4a4a\" stroke=\"#4a4a4a\" points=\"226.83,-316.4 219.02,-309.24 220.66,-319.71 226.83,-316.4\"/>\n",
       "</a>\n",
       "</g>\n",
       "</g>\n",
       "<!-- D -->\n",
       "<g id=\"node5\" class=\"node\">\n",
       "<title>D</title>\n",
       "<g id=\"a_node5\"><a xlink:title=\"(4) D\">\n",
       "<path fill=\"sandybrown\" stroke=\"#4a4a4a\" d=\"M200,-86.5C200,-86.5 301,-86.5 301,-86.5 307,-86.5 313,-92.5 313,-98.5 313,-98.5 313,-123.5 313,-123.5 313,-129.5 307,-135.5 301,-135.5 301,-135.5 200,-135.5 200,-135.5 194,-135.5 188,-129.5 188,-123.5 188,-123.5 188,-98.5 188,-98.5 188,-92.5 194,-86.5 200,-86.5\"/>\n",
       "<text text-anchor=\"middle\" x=\"250.5\" y=\"-118.2\" font-family=\"Times,serif\" font-size=\"14.00\">D</text>\n",
       "<polyline fill=\"none\" stroke=\"#4a4a4a\" points=\"188,-111 313,-111\"/>\n",
       "<text text-anchor=\"middle\" x=\"219.25\" y=\"-93.7\" font-family=\"Times,serif\" font-size=\"14.00\">μ=3.000</text>\n",
       "<polyline fill=\"none\" stroke=\"#4a4a4a\" points=\"250.5,-86.5 250.5,-111\"/>\n",
       "<text text-anchor=\"middle\" x=\"281.75\" y=\"-93.7\" font-family=\"Times,serif\" font-size=\"14.00\">σ=0.000</text>\n",
       "</a>\n",
       "</g>\n",
       "</g>\n",
       "<!-- F&#45;&gt;D -->\n",
       "<g id=\"edge4\" class=\"edge\">\n",
       "<title>F-&gt;D</title>\n",
       "<g id=\"a_edge4\"><a xlink:title=\"(1, 4) : \">\n",
       "<path fill=\"none\" stroke=\"#4a4a4a\" d=\"M263.97,-344.28C269.31,-333.56 274.82,-320.51 277.5,-308 290.18,-248.9 290.18,-231.1 277.5,-172 275.63,-163.3 272.4,-154.34 268.81,-146.09\"/>\n",
       "<polygon fill=\"#4a4a4a\" stroke=\"#4a4a4a\" points=\"272.01,-144.67 264.61,-137.09 265.67,-147.64 272.01,-144.67\"/>\n",
       "</a>\n",
       "</g>\n",
       "</g>\n",
       "<!-- B&#45;&gt;C -->\n",
       "<g id=\"edge5\" class=\"edge\">\n",
       "<title>B-&gt;C</title>\n",
       "<g id=\"a_edge5\"><a xlink:title=\"(2, 3) : \">\n",
       "<path fill=\"none\" stroke=\"#4a4a4a\" d=\"M205.5,-258.15C205.5,-250.44 205.5,-241.71 205.5,-233.35\"/>\n",
       "<polygon fill=\"#4a4a4a\" stroke=\"#4a4a4a\" points=\"209,-233.42 205.5,-223.42 202,-233.42 209,-233.42\"/>\n",
       "</a>\n",
       "</g>\n",
       "</g>\n",
       "<!-- C&#45;&gt;D -->\n",
       "<g id=\"edge2\" class=\"edge\">\n",
       "<title>C-&gt;D</title>\n",
       "<g id=\"a_edge2\"><a xlink:title=\"(3, 4) : \">\n",
       "<path fill=\"none\" stroke=\"#4a4a4a\" d=\"M218.27,-172.15C222.65,-164 227.62,-154.71 232.33,-145.91\"/>\n",
       "<polygon fill=\"#4a4a4a\" stroke=\"#4a4a4a\" points=\"235.34,-147.71 236.98,-137.24 229.17,-144.4 235.34,-147.71\"/>\n",
       "</a>\n",
       "</g>\n",
       "</g>\n",
       "<!-- E -->\n",
       "<g id=\"node6\" class=\"node\">\n",
       "<title>E</title>\n",
       "<g id=\"a_node6\"><a xlink:title=\"(5) E\">\n",
       "<path fill=\"darkseagreen\" stroke=\"#4a4a4a\" d=\"M196.62,-0.5C196.62,-0.5 304.38,-0.5 304.38,-0.5 310.38,-0.5 316.38,-6.5 316.38,-12.5 316.38,-12.5 316.38,-37.5 316.38,-37.5 316.38,-43.5 310.38,-49.5 304.38,-49.5 304.38,-49.5 196.62,-49.5 196.62,-49.5 190.62,-49.5 184.62,-43.5 184.62,-37.5 184.62,-37.5 184.62,-12.5 184.62,-12.5 184.62,-6.5 190.62,-0.5 196.62,-0.5\"/>\n",
       "<text text-anchor=\"middle\" x=\"250.5\" y=\"-32.2\" font-family=\"Times,serif\" font-size=\"14.00\">E</text>\n",
       "<polyline fill=\"none\" stroke=\"#4a4a4a\" points=\"184.62,-25 316.38,-25\"/>\n",
       "<text text-anchor=\"middle\" x=\"219.25\" y=\"-7.7\" font-family=\"Times,serif\" font-size=\"14.00\">μ=12.000</text>\n",
       "<polyline fill=\"none\" stroke=\"#4a4a4a\" points=\"253.88,-0.5 253.88,-25\"/>\n",
       "<text text-anchor=\"middle\" x=\"285.12\" y=\"-7.7\" font-family=\"Times,serif\" font-size=\"14.00\">σ=0.900</text>\n",
       "</a>\n",
       "</g>\n",
       "</g>\n",
       "<!-- D&#45;&gt;E -->\n",
       "<g id=\"edge6\" class=\"edge\">\n",
       "<title>D-&gt;E</title>\n",
       "<g id=\"a_edge6\"><a xlink:title=\"(4, 5) : \">\n",
       "<path fill=\"none\" stroke=\"#4a4a4a\" d=\"M250.5,-86.15C250.5,-78.44 250.5,-69.71 250.5,-61.35\"/>\n",
       "<polygon fill=\"#4a4a4a\" stroke=\"#4a4a4a\" points=\"254,-61.42 250.5,-51.42 247,-61.42 254,-61.42\"/>\n",
       "</a>\n",
       "</g>\n",
       "</g>\n",
       "</g>\n",
       "</svg><br><small><i>Second inference</i></small></div></td></tr></table>"
      ],
      "text/plain": [
       "<IPython.core.display.HTML object>"
      ]
     },
     "metadata": {},
     "output_type": "display_data"
    }
   ],
   "source": [
    "gnb.sideBySide(model2,gclgnb.getInference(model2,evs={\"D\":3},size=\"3!\"),gclgnb.getInference(model2,evs={\"D\":3,\"F\":1}),\n",
    "              captions=[\"The CLG\",\"First inference\",\"Second inference\"])"
   ]
  },
  {
   "cell_type": "markdown",
   "metadata": {
    "editable": true,
    "slideshow": {
     "slide_type": ""
    },
    "tags": []
   },
   "source": [
    "### Approximated inference : MonteCarlo Sampling\n",
    "\n",
    "When the model is too complex for exact infernece, we can use forward sampling to generate 5000 samples from the original CLG model. "
   ]
  },
  {
   "cell_type": "code",
   "execution_count": 10,
   "metadata": {
    "editable": true,
    "slideshow": {
     "slide_type": ""
    },
    "tags": []
   },
   "outputs": [],
   "source": [
    "fs = gclg.ForwardSampling(model2)\n",
    "fs.makeSample(5000).tocsv(\"./out/model2.csv\")"
   ]
  },
  {
   "cell_type": "markdown",
   "metadata": {
    "editable": true,
    "slideshow": {
     "slide_type": ""
    },
    "tags": []
   },
   "source": [
    "We will use the generated database to do learning. But before, we can also compute posterior but without evidence :"
   ]
  },
  {
   "cell_type": "code",
   "execution_count": 11,
   "metadata": {
    "editable": true,
    "slideshow": {
     "slide_type": ""
    },
    "tags": []
   },
   "outputs": [
    {
     "name": "stdout",
     "output_type": "stream",
     "text": [
      "| 'Exact' inference                        | Results from sampling                    |\n",
      "|------------------------------------------|------------------------------------------|\n",
      "| A:4.499999999999998[0.3]                 | A:4.502912690590584[0.29690850299589044] |\n",
      "| F:7.000000000000008[0.5000000000000002]  | F:6.995348262480796[0.4992722093231427]  |\n",
      "| B:11.399999999999999[0.6708203932499367] | B:11.389152267894058[0.6721949959707001] |\n",
      "| C:35.099999999999994[1.3162446581088183] | C:35.10036040930001[1.3152487221948548]  |\n",
      "| D:51.10000000000002[1.8364367672206963]  | D:51.084225097654105[1.8409629354235357] |\n",
      "| E:60.100000000000016[2.0451161336217565] | E:60.107303296393596[2.014093755903867]  |\n"
     ]
    }
   ],
   "source": [
    "ie=gclg.CLGVariableElimination(model2)\n",
    "print(\"| 'Exact' inference                        | Results from sampling                    |\")\n",
    "print(\"|------------------------------------------|------------------------------------------|\")\n",
    "for i in model2.names():\n",
    "    print(f\"| {str(ie.posterior(i)):40} | {str(gclg.GaussianVariable(i,fs.mean_sample(i),fs.stddev_sample(i))):40} |\")"
   ]
  },
  {
   "attachments": {},
   "cell_type": "markdown",
   "metadata": {
    "editable": true,
    "slideshow": {
     "slide_type": ""
    },
    "tags": []
   },
   "source": [
    "Now with the generated database and the original model, we can calculate the log-likelihood of the model."
   ]
  },
  {
   "cell_type": "code",
   "execution_count": 12,
   "metadata": {
    "editable": true,
    "slideshow": {
     "slide_type": ""
    },
    "tags": []
   },
   "outputs": [
    {
     "name": "stdout",
     "output_type": "stream",
     "text": [
      "log-likelihood w.r.t orignal model :  -22193.35833379687\n"
     ]
    }
   ],
   "source": [
    "print(\"log-likelihood w.r.t orignal model : \", model2.logLikelihood(\"./out/model2.csv\"))"
   ]
  },
  {
   "cell_type": "markdown",
   "metadata": {
    "editable": true,
    "execution": {
     "iopub.execute_input": "2023-09-01T08:55:32.632682Z",
     "iopub.status.busy": "2023-09-01T08:55:32.632177Z",
     "iopub.status.idle": "2023-09-01T08:55:32.637971Z",
     "shell.execute_reply": "2023-09-01T08:55:32.636782Z",
     "shell.execute_reply.started": "2023-09-01T08:55:32.632641Z"
    },
    "slideshow": {
     "slide_type": ""
    },
    "tags": []
   },
   "source": [
    "## Learning a CLG from data"
   ]
  },
  {
   "attachments": {},
   "cell_type": "markdown",
   "metadata": {
    "editable": true,
    "slideshow": {
     "slide_type": ""
    },
    "tags": []
   },
   "source": [
    "Use the generated database to do our RAvel Learning. This part needs some time to run."
   ]
  },
  {
   "cell_type": "code",
   "execution_count": 13,
   "metadata": {
    "editable": true,
    "slideshow": {
     "slide_type": ""
    },
    "tags": []
   },
   "outputs": [],
   "source": [
    "# RAveL learning\n",
    "learner = gclg.CLGLearner(\"./out/model2.csv\")"
   ]
  },
  {
   "attachments": {},
   "cell_type": "markdown",
   "metadata": {
    "editable": true,
    "slideshow": {
     "slide_type": ""
    },
    "tags": []
   },
   "source": [
    "We can get the learned_clg model with function learn_clg() which contains structure learning and parameter estimation."
   ]
  },
  {
   "cell_type": "code",
   "execution_count": 14,
   "metadata": {
    "editable": true,
    "slideshow": {
     "slide_type": ""
    },
    "tags": []
   },
   "outputs": [
    {
     "data": {
      "text/html": [
       "<table style=\"border-style: hidden; border-collapse: collapse;\" width=\"100%\"><tr><td style=\"border-top:hidden;border-bottom:hidden;vertical-align:middle;\"><div align=\"center\" style=\"vertical-align:middle;\"><svg xmlns=\"http://www.w3.org/2000/svg\" xmlns:xlink=\"http://www.w3.org/1999/xlink\" width=\"245pt\" height=\"360pt\" viewBox=\"0.00 0.00 245.35 360.00\">\n",
       "<g id=\"graph0\" class=\"graph\" transform=\"scale(0.764331 0.764331) rotate(0) translate(4 467)\">\n",
       "<title>G</title>\n",
       "<!-- A -->\n",
       "<g id=\"node1\" class=\"node\">\n",
       "<title>A</title>\n",
       "<g id=\"a_node1\"><a xlink:title=\"(0) A\">\n",
       "<path fill=\"#404040\" stroke=\"#4a4a4a\" d=\"M12,-310.25C12,-310.25 113,-310.25 113,-310.25 119,-310.25 125,-316.25 125,-322.25 125,-322.25 125,-347.25 125,-347.25 125,-353.25 119,-359.25 113,-359.25 113,-359.25 12,-359.25 12,-359.25 6,-359.25 0,-353.25 0,-347.25 0,-347.25 0,-322.25 0,-322.25 0,-316.25 6,-310.25 12,-310.25\"/>\n",
       "<text text-anchor=\"middle\" x=\"62.5\" y=\"-341.95\" font-family=\"Times,serif\" font-size=\"14.00\" fill=\"white\">A</text>\n",
       "<polyline fill=\"none\" stroke=\"#4a4a4a\" points=\"0,-334.75 125,-334.75\"/>\n",
       "<text text-anchor=\"middle\" x=\"31.25\" y=\"-317.45\" font-family=\"Times,serif\" font-size=\"14.00\" fill=\"white\">μ=4.500</text>\n",
       "<polyline fill=\"none\" stroke=\"#4a4a4a\" points=\"62.5,-310.25 62.5,-334.75\"/>\n",
       "<text text-anchor=\"middle\" x=\"93.75\" y=\"-317.45\" font-family=\"Times,serif\" font-size=\"14.00\" fill=\"white\">σ=0.300</text>\n",
       "</a>\n",
       "</g>\n",
       "</g>\n",
       "<!-- C -->\n",
       "<g id=\"node4\" class=\"node\">\n",
       "<title>C</title>\n",
       "<g id=\"a_node4\"><a xlink:title=\"(3) C\">\n",
       "<path fill=\"#404040\" stroke=\"#4a4a4a\" d=\"M155,-207C155,-207 256,-207 256,-207 262,-207 268,-213 268,-219 268,-219 268,-244 268,-244 268,-250 262,-256 256,-256 256,-256 155,-256 155,-256 149,-256 143,-250 143,-244 143,-244 143,-219 143,-219 143,-213 149,-207 155,-207\"/>\n",
       "<text text-anchor=\"middle\" x=\"205.5\" y=\"-238.7\" font-family=\"Times,serif\" font-size=\"14.00\" fill=\"white\">C</text>\n",
       "<polyline fill=\"none\" stroke=\"#4a4a4a\" points=\"143,-231.5 268,-231.5\"/>\n",
       "<text text-anchor=\"middle\" x=\"174.25\" y=\"-214.2\" font-family=\"Times,serif\" font-size=\"14.00\" fill=\"white\">μ=9.000</text>\n",
       "<polyline fill=\"none\" stroke=\"#4a4a4a\" points=\"205.5,-207 205.5,-231.5\"/>\n",
       "<text text-anchor=\"middle\" x=\"236.75\" y=\"-214.2\" font-family=\"Times,serif\" font-size=\"14.00\" fill=\"white\">σ=0.600</text>\n",
       "</a>\n",
       "</g>\n",
       "</g>\n",
       "<!-- A&#45;&gt;C -->\n",
       "<g id=\"edge3\" class=\"edge\">\n",
       "<title>A-&gt;C</title>\n",
       "<g id=\"a_edge3\"><a xlink:title=\"(0, 3) : \">\n",
       "<path fill=\"none\" stroke=\"#4a4a4a\" d=\"M96.39,-309.76C116.25,-295.7 141.51,-277.81 162.73,-262.78\"/>\n",
       "<polygon fill=\"#4a4a4a\" stroke=\"#4a4a4a\" points=\"164.48,-265.83 170.62,-257.2 160.44,-260.12 164.48,-265.83\"/>\n",
       "</a>\n",
       "</g>\n",
       "<text text-anchor=\"middle\" x=\"156.62\" y=\"-277.5\" font-family=\"Times,serif\" font-size=\"15.00\">2.00</text>\n",
       "</g>\n",
       "<!-- F -->\n",
       "<g id=\"node2\" class=\"node\">\n",
       "<title>F</title>\n",
       "<g id=\"a_node2\"><a xlink:title=\"(1) F\">\n",
       "<path fill=\"#404040\" stroke=\"#4a4a4a\" d=\"M200,-413.5C200,-413.5 301,-413.5 301,-413.5 307,-413.5 313,-419.5 313,-425.5 313,-425.5 313,-450.5 313,-450.5 313,-456.5 307,-462.5 301,-462.5 301,-462.5 200,-462.5 200,-462.5 194,-462.5 188,-456.5 188,-450.5 188,-450.5 188,-425.5 188,-425.5 188,-419.5 194,-413.5 200,-413.5\"/>\n",
       "<text text-anchor=\"middle\" x=\"250.5\" y=\"-445.2\" font-family=\"Times,serif\" font-size=\"14.00\" fill=\"white\">F</text>\n",
       "<polyline fill=\"none\" stroke=\"#4a4a4a\" points=\"188,-438 313,-438\"/>\n",
       "<text text-anchor=\"middle\" x=\"219.25\" y=\"-420.7\" font-family=\"Times,serif\" font-size=\"14.00\" fill=\"white\">μ=7.000</text>\n",
       "<polyline fill=\"none\" stroke=\"#4a4a4a\" points=\"250.5,-413.5 250.5,-438\"/>\n",
       "<text text-anchor=\"middle\" x=\"281.75\" y=\"-420.7\" font-family=\"Times,serif\" font-size=\"14.00\" fill=\"white\">σ=0.500</text>\n",
       "</a>\n",
       "</g>\n",
       "</g>\n",
       "<!-- B -->\n",
       "<g id=\"node3\" class=\"node\">\n",
       "<title>B</title>\n",
       "<g id=\"a_node3\"><a xlink:title=\"(2) B\">\n",
       "<path fill=\"#404040\" stroke=\"#4a4a4a\" d=\"M155,-310.25C155,-310.25 256,-310.25 256,-310.25 262,-310.25 268,-316.25 268,-322.25 268,-322.25 268,-347.25 268,-347.25 268,-353.25 262,-359.25 256,-359.25 256,-359.25 155,-359.25 155,-359.25 149,-359.25 143,-353.25 143,-347.25 143,-347.25 143,-322.25 143,-322.25 143,-316.25 149,-310.25 155,-310.25\"/>\n",
       "<text text-anchor=\"middle\" x=\"205.5\" y=\"-341.95\" font-family=\"Times,serif\" font-size=\"14.00\" fill=\"white\">B</text>\n",
       "<polyline fill=\"none\" stroke=\"#4a4a4a\" points=\"143,-334.75 268,-334.75\"/>\n",
       "<text text-anchor=\"middle\" x=\"174.25\" y=\"-317.45\" font-family=\"Times,serif\" font-size=\"14.00\" fill=\"white\">μ=3.000</text>\n",
       "<polyline fill=\"none\" stroke=\"#4a4a4a\" points=\"205.5,-310.25 205.5,-334.75\"/>\n",
       "<text text-anchor=\"middle\" x=\"236.75\" y=\"-317.45\" font-family=\"Times,serif\" font-size=\"14.00\" fill=\"white\">σ=0.300</text>\n",
       "</a>\n",
       "</g>\n",
       "</g>\n",
       "<!-- F&#45;&gt;B -->\n",
       "<g id=\"edge1\" class=\"edge\">\n",
       "<title>F-&gt;B</title>\n",
       "<g id=\"a_edge1\"><a xlink:title=\"(1, 2) : \">\n",
       "<path fill=\"none\" stroke=\"#4a4a4a\" d=\"M239.84,-413.01C234.12,-400.14 226.98,-384.08 220.69,-369.93\"/>\n",
       "<polygon fill=\"#4a4a4a\" stroke=\"#4a4a4a\" points=\"223.96,-368.67 216.7,-360.96 217.57,-371.52 223.96,-368.67\"/>\n",
       "</a>\n",
       "</g>\n",
       "<text text-anchor=\"middle\" x=\"243.62\" y=\"-380.75\" font-family=\"Times,serif\" font-size=\"15.00\">1.20</text>\n",
       "</g>\n",
       "<!-- D -->\n",
       "<g id=\"node5\" class=\"node\">\n",
       "<title>D</title>\n",
       "<g id=\"a_node5\"><a xlink:title=\"(4) D\">\n",
       "<path fill=\"#404040\" stroke=\"#4a4a4a\" d=\"M200,-103.75C200,-103.75 301,-103.75 301,-103.75 307,-103.75 313,-109.75 313,-115.75 313,-115.75 313,-140.75 313,-140.75 313,-146.75 307,-152.75 301,-152.75 301,-152.75 200,-152.75 200,-152.75 194,-152.75 188,-146.75 188,-140.75 188,-140.75 188,-115.75 188,-115.75 188,-109.75 194,-103.75 200,-103.75\"/>\n",
       "<text text-anchor=\"middle\" x=\"250.5\" y=\"-135.45\" font-family=\"Times,serif\" font-size=\"14.00\" fill=\"white\">D</text>\n",
       "<polyline fill=\"none\" stroke=\"#4a4a4a\" points=\"188,-128.25 313,-128.25\"/>\n",
       "<text text-anchor=\"middle\" x=\"219.25\" y=\"-110.95\" font-family=\"Times,serif\" font-size=\"14.00\" fill=\"white\">μ=9.000</text>\n",
       "<polyline fill=\"none\" stroke=\"#4a4a4a\" points=\"250.5,-103.75 250.5,-128.25\"/>\n",
       "<text text-anchor=\"middle\" x=\"281.75\" y=\"-110.95\" font-family=\"Times,serif\" font-size=\"14.00\" fill=\"white\">σ=0.700</text>\n",
       "</a>\n",
       "</g>\n",
       "</g>\n",
       "<!-- F&#45;&gt;D -->\n",
       "<g id=\"edge4\" class=\"edge\">\n",
       "<title>F-&gt;D</title>\n",
       "<g id=\"a_edge4\"><a xlink:title=\"(1, 4) : \">\n",
       "<path fill=\"none\" stroke=\"#4a4a4a\" d=\"M261.16,-413.2C267.28,-398.2 274.36,-378.24 277.5,-359.75 288.9,-292.6 288.9,-273.65 277.5,-206.5 275.05,-192.06 270.19,-176.71 265.26,-163.54\"/>\n",
       "<polygon fill=\"#4a4a4a\" stroke=\"#4a4a4a\" points=\"268.61,-162.5 261.71,-154.46 262.1,-165.05 268.61,-162.5\"/>\n",
       "</a>\n",
       "</g>\n",
       "<text text-anchor=\"middle\" x=\"298.62\" y=\"-277.5\" font-family=\"Times,serif\" font-size=\"15.00\">1.00</text>\n",
       "</g>\n",
       "<!-- B&#45;&gt;C -->\n",
       "<g id=\"edge5\" class=\"edge\">\n",
       "<title>B-&gt;C</title>\n",
       "<g id=\"a_edge5\"><a xlink:title=\"(2, 3) : \">\n",
       "<path fill=\"none\" stroke=\"#4a4a4a\" d=\"M205.5,-309.76C205.5,-297.15 205.5,-281.45 205.5,-267.51\"/>\n",
       "<polygon fill=\"#4a4a4a\" stroke=\"#4a4a4a\" points=\"209,-267.84 205.5,-257.84 202,-267.84 209,-267.84\"/>\n",
       "</a>\n",
       "</g>\n",
       "<text text-anchor=\"middle\" x=\"218.62\" y=\"-277.5\" font-family=\"Times,serif\" font-size=\"15.00\">1.50</text>\n",
       "</g>\n",
       "<!-- C&#45;&gt;D -->\n",
       "<g id=\"edge2\" class=\"edge\">\n",
       "<title>C-&gt;D</title>\n",
       "<g id=\"a_edge2\"><a xlink:title=\"(3, 4) : \">\n",
       "<path fill=\"none\" stroke=\"#4a4a4a\" d=\"M216.16,-206.51C221.88,-193.64 229.02,-177.58 235.31,-163.43\"/>\n",
       "<polygon fill=\"#4a4a4a\" stroke=\"#4a4a4a\" points=\"238.43,-165.02 239.3,-154.46 232.04,-162.17 238.43,-165.02\"/>\n",
       "</a>\n",
       "</g>\n",
       "<text text-anchor=\"middle\" x=\"243.62\" y=\"-174.25\" font-family=\"Times,serif\" font-size=\"15.00\">1.00</text>\n",
       "</g>\n",
       "<!-- E -->\n",
       "<g id=\"node6\" class=\"node\">\n",
       "<title>E</title>\n",
       "<g id=\"a_node6\"><a xlink:title=\"(5) E\">\n",
       "<path fill=\"#404040\" stroke=\"#4a4a4a\" d=\"M200,-0.5C200,-0.5 301,-0.5 301,-0.5 307,-0.5 313,-6.5 313,-12.5 313,-12.5 313,-37.5 313,-37.5 313,-43.5 307,-49.5 301,-49.5 301,-49.5 200,-49.5 200,-49.5 194,-49.5 188,-43.5 188,-37.5 188,-37.5 188,-12.5 188,-12.5 188,-6.5 194,-0.5 200,-0.5\"/>\n",
       "<text text-anchor=\"middle\" x=\"250.5\" y=\"-32.2\" font-family=\"Times,serif\" font-size=\"14.00\" fill=\"white\">E</text>\n",
       "<polyline fill=\"none\" stroke=\"#4a4a4a\" points=\"188,-25 313,-25\"/>\n",
       "<text text-anchor=\"middle\" x=\"219.25\" y=\"-7.7\" font-family=\"Times,serif\" font-size=\"14.00\" fill=\"white\">μ=9.000</text>\n",
       "<polyline fill=\"none\" stroke=\"#4a4a4a\" points=\"250.5,-0.5 250.5,-25\"/>\n",
       "<text text-anchor=\"middle\" x=\"281.75\" y=\"-7.7\" font-family=\"Times,serif\" font-size=\"14.00\" fill=\"white\">σ=0.900</text>\n",
       "</a>\n",
       "</g>\n",
       "</g>\n",
       "<!-- D&#45;&gt;E -->\n",
       "<g id=\"edge6\" class=\"edge\">\n",
       "<title>D-&gt;E</title>\n",
       "<g id=\"a_edge6\"><a xlink:title=\"(4, 5) : \">\n",
       "<path fill=\"none\" stroke=\"#4a4a4a\" d=\"M250.5,-103.26C250.5,-90.65 250.5,-74.95 250.5,-61.01\"/>\n",
       "<polygon fill=\"#4a4a4a\" stroke=\"#4a4a4a\" points=\"254,-61.34 250.5,-51.34 247,-61.34 254,-61.34\"/>\n",
       "</a>\n",
       "</g>\n",
       "<text text-anchor=\"middle\" x=\"263.62\" y=\"-71\" font-family=\"Times,serif\" font-size=\"15.00\">1.00</text>\n",
       "</g>\n",
       "</g>\n",
       "</svg><br><small><i>original CLG</i></small></div></td><td style=\"border-top:hidden;border-bottom:hidden;vertical-align:middle;\"><div align=\"center\" style=\"vertical-align:middle;\"><svg xmlns=\"http://www.w3.org/2000/svg\" xmlns:xlink=\"http://www.w3.org/1999/xlink\" width=\"360pt\" height=\"224pt\" viewBox=\"0.00 0.00 360.00 223.85\">\n",
       "<g id=\"graph0\" class=\"graph\" transform=\"scale(0.846312 0.846312) rotate(0) translate(4 260.5)\">\n",
       "<title>G</title>\n",
       "<!-- A -->\n",
       "<g id=\"node1\" class=\"node\">\n",
       "<title>A</title>\n",
       "<g id=\"a_node1\"><a xlink:title=\"(0) A\">\n",
       "<path fill=\"#404040\" stroke=\"#4a4a4a\" d=\"M12,-103.75C12,-103.75 113,-103.75 113,-103.75 119,-103.75 125,-109.75 125,-115.75 125,-115.75 125,-140.75 125,-140.75 125,-146.75 119,-152.75 113,-152.75 113,-152.75 12,-152.75 12,-152.75 6,-152.75 0,-146.75 0,-140.75 0,-140.75 0,-115.75 0,-115.75 0,-109.75 6,-103.75 12,-103.75\"/>\n",
       "<text text-anchor=\"middle\" x=\"62.5\" y=\"-135.45\" font-family=\"Times,serif\" font-size=\"14.00\" fill=\"white\">A</text>\n",
       "<polyline fill=\"none\" stroke=\"#4a4a4a\" points=\"0,-128.25 125,-128.25\"/>\n",
       "<text text-anchor=\"middle\" x=\"31.25\" y=\"-110.95\" font-family=\"Times,serif\" font-size=\"14.00\" fill=\"white\">μ=4.503</text>\n",
       "<polyline fill=\"none\" stroke=\"#4a4a4a\" points=\"62.5,-103.75 62.5,-128.25\"/>\n",
       "<text text-anchor=\"middle\" x=\"93.75\" y=\"-110.95\" font-family=\"Times,serif\" font-size=\"14.00\" fill=\"white\">σ=0.297</text>\n",
       "</a>\n",
       "</g>\n",
       "</g>\n",
       "<!-- C -->\n",
       "<g id=\"node4\" class=\"node\">\n",
       "<title>C</title>\n",
       "<g id=\"a_node4\"><a xlink:title=\"(3) C\">\n",
       "<path fill=\"#404040\" stroke=\"#4a4a4a\" d=\"M155,-0.5C155,-0.5 256,-0.5 256,-0.5 262,-0.5 268,-6.5 268,-12.5 268,-12.5 268,-37.5 268,-37.5 268,-43.5 262,-49.5 256,-49.5 256,-49.5 155,-49.5 155,-49.5 149,-49.5 143,-43.5 143,-37.5 143,-37.5 143,-12.5 143,-12.5 143,-6.5 149,-0.5 155,-0.5\"/>\n",
       "<text text-anchor=\"middle\" x=\"205.5\" y=\"-32.2\" font-family=\"Times,serif\" font-size=\"14.00\" fill=\"white\">C</text>\n",
       "<polyline fill=\"none\" stroke=\"#4a4a4a\" points=\"143,-25 268,-25\"/>\n",
       "<text text-anchor=\"middle\" x=\"174.25\" y=\"-7.7\" font-family=\"Times,serif\" font-size=\"14.00\" fill=\"white\">μ=2.027</text>\n",
       "<polyline fill=\"none\" stroke=\"#4a4a4a\" points=\"205.5,-0.5 205.5,-25\"/>\n",
       "<text text-anchor=\"middle\" x=\"236.75\" y=\"-7.7\" font-family=\"Times,serif\" font-size=\"14.00\" fill=\"white\">σ=0.455</text>\n",
       "</a>\n",
       "</g>\n",
       "</g>\n",
       "<!-- A&#45;&gt;C -->\n",
       "<g id=\"edge4\" class=\"edge\">\n",
       "<title>A-&gt;C</title>\n",
       "<g id=\"a_edge4\"><a xlink:title=\"(0, 3) : \">\n",
       "<path fill=\"none\" stroke=\"#4a4a4a\" d=\"M96.39,-103.26C116.25,-89.2 141.51,-71.31 162.73,-56.28\"/>\n",
       "<polygon fill=\"#4a4a4a\" stroke=\"#4a4a4a\" points=\"164.48,-59.33 170.62,-50.7 160.44,-53.62 164.48,-59.33\"/>\n",
       "</a>\n",
       "</g>\n",
       "<text text-anchor=\"middle\" x=\"155.62\" y=\"-71\" font-family=\"Times,serif\" font-size=\"15.00\">1.19</text>\n",
       "</g>\n",
       "<!-- F -->\n",
       "<g id=\"node2\" class=\"node\">\n",
       "<title>F</title>\n",
       "<g id=\"a_node2\"><a xlink:title=\"(1) F\">\n",
       "<path fill=\"#404040\" stroke=\"#4a4a4a\" d=\"M155,-207C155,-207 256,-207 256,-207 262,-207 268,-213 268,-219 268,-219 268,-244 268,-244 268,-250 262,-256 256,-256 256,-256 155,-256 155,-256 149,-256 143,-250 143,-244 143,-244 143,-219 143,-219 143,-213 149,-207 155,-207\"/>\n",
       "<text text-anchor=\"middle\" x=\"205.5\" y=\"-238.7\" font-family=\"Times,serif\" font-size=\"14.00\" fill=\"white\">F</text>\n",
       "<polyline fill=\"none\" stroke=\"#4a4a4a\" points=\"143,-231.5 268,-231.5\"/>\n",
       "<text text-anchor=\"middle\" x=\"174.25\" y=\"-214.2\" font-family=\"Times,serif\" font-size=\"14.00\" fill=\"white\">μ=6.995</text>\n",
       "<polyline fill=\"none\" stroke=\"#4a4a4a\" points=\"205.5,-207 205.5,-231.5\"/>\n",
       "<text text-anchor=\"middle\" x=\"236.75\" y=\"-214.2\" font-family=\"Times,serif\" font-size=\"14.00\" fill=\"white\">σ=0.499</text>\n",
       "</a>\n",
       "</g>\n",
       "</g>\n",
       "<!-- B -->\n",
       "<g id=\"node3\" class=\"node\">\n",
       "<title>B</title>\n",
       "<g id=\"a_node3\"><a xlink:title=\"(2) B\">\n",
       "<path fill=\"#404040\" stroke=\"#4a4a4a\" d=\"M155,-103.75C155,-103.75 256,-103.75 256,-103.75 262,-103.75 268,-109.75 268,-115.75 268,-115.75 268,-140.75 268,-140.75 268,-146.75 262,-152.75 256,-152.75 256,-152.75 155,-152.75 155,-152.75 149,-152.75 143,-146.75 143,-140.75 143,-140.75 143,-115.75 143,-115.75 143,-109.75 149,-103.75 155,-103.75\"/>\n",
       "<text text-anchor=\"middle\" x=\"205.5\" y=\"-135.45\" font-family=\"Times,serif\" font-size=\"14.00\" fill=\"white\">B</text>\n",
       "<polyline fill=\"none\" stroke=\"#4a4a4a\" points=\"143,-128.25 268,-128.25\"/>\n",
       "<text text-anchor=\"middle\" x=\"174.25\" y=\"-110.95\" font-family=\"Times,serif\" font-size=\"14.00\" fill=\"white\">μ=3.002</text>\n",
       "<polyline fill=\"none\" stroke=\"#4a4a4a\" points=\"205.5,-103.75 205.5,-128.25\"/>\n",
       "<text text-anchor=\"middle\" x=\"236.75\" y=\"-110.95\" font-family=\"Times,serif\" font-size=\"14.00\" fill=\"white\">σ=0.306</text>\n",
       "</a>\n",
       "</g>\n",
       "</g>\n",
       "<!-- F&#45;&gt;B -->\n",
       "<g id=\"edge1\" class=\"edge\">\n",
       "<title>F-&gt;B</title>\n",
       "<g id=\"a_edge1\"><a xlink:title=\"(1, 2) : \">\n",
       "<path fill=\"none\" stroke=\"#4a4a4a\" d=\"M205.5,-206.51C205.5,-193.9 205.5,-178.2 205.5,-164.26\"/>\n",
       "<polygon fill=\"#4a4a4a\" stroke=\"#4a4a4a\" points=\"209,-164.59 205.5,-154.59 202,-164.59 209,-164.59\"/>\n",
       "</a>\n",
       "</g>\n",
       "<text text-anchor=\"middle\" x=\"218.62\" y=\"-174.25\" font-family=\"Times,serif\" font-size=\"15.00\">1.20</text>\n",
       "</g>\n",
       "<!-- D -->\n",
       "<g id=\"node5\" class=\"node\">\n",
       "<title>D</title>\n",
       "<g id=\"a_node5\"><a xlink:title=\"(4) D\">\n",
       "<path fill=\"#404040\" stroke=\"#4a4a4a\" d=\"M298,-103.75C298,-103.75 399,-103.75 399,-103.75 405,-103.75 411,-109.75 411,-115.75 411,-115.75 411,-140.75 411,-140.75 411,-146.75 405,-152.75 399,-152.75 399,-152.75 298,-152.75 298,-152.75 292,-152.75 286,-146.75 286,-140.75 286,-140.75 286,-115.75 286,-115.75 286,-109.75 292,-103.75 298,-103.75\"/>\n",
       "<text text-anchor=\"middle\" x=\"348.5\" y=\"-135.45\" font-family=\"Times,serif\" font-size=\"14.00\" fill=\"white\">D</text>\n",
       "<polyline fill=\"none\" stroke=\"#4a4a4a\" points=\"286,-128.25 411,-128.25\"/>\n",
       "<text text-anchor=\"middle\" x=\"317.25\" y=\"-110.95\" font-family=\"Times,serif\" font-size=\"14.00\" fill=\"white\">μ=5.234</text>\n",
       "<polyline fill=\"none\" stroke=\"#4a4a4a\" points=\"348.5,-103.75 348.5,-128.25\"/>\n",
       "<text text-anchor=\"middle\" x=\"379.75\" y=\"-110.95\" font-family=\"Times,serif\" font-size=\"14.00\" fill=\"white\">σ=0.725</text>\n",
       "</a>\n",
       "</g>\n",
       "</g>\n",
       "<!-- F&#45;&gt;D -->\n",
       "<g id=\"edge5\" class=\"edge\">\n",
       "<title>F-&gt;D</title>\n",
       "<g id=\"a_edge5\"><a xlink:title=\"(1, 4) : \">\n",
       "<path fill=\"none\" stroke=\"#4a4a4a\" d=\"M239.39,-206.51C259.25,-192.45 284.51,-174.56 305.73,-159.53\"/>\n",
       "<polygon fill=\"#4a4a4a\" stroke=\"#4a4a4a\" points=\"307.48,-162.58 313.62,-153.95 303.44,-156.87 307.48,-162.58\"/>\n",
       "</a>\n",
       "</g>\n",
       "<text text-anchor=\"middle\" x=\"298.62\" y=\"-174.25\" font-family=\"Times,serif\" font-size=\"15.00\">1.05</text>\n",
       "</g>\n",
       "<!-- B&#45;&gt;C -->\n",
       "<g id=\"edge6\" class=\"edge\">\n",
       "<title>B-&gt;C</title>\n",
       "<g id=\"a_edge6\"><a xlink:title=\"(2, 3) : \">\n",
       "<path fill=\"none\" stroke=\"#4a4a4a\" d=\"M205.5,-103.26C205.5,-90.65 205.5,-74.95 205.5,-61.01\"/>\n",
       "<polygon fill=\"#4a4a4a\" stroke=\"#4a4a4a\" points=\"209,-61.34 205.5,-51.34 202,-61.34 209,-61.34\"/>\n",
       "</a>\n",
       "</g>\n",
       "<text text-anchor=\"middle\" x=\"218.62\" y=\"-71\" font-family=\"Times,serif\" font-size=\"15.00\">0.65</text>\n",
       "</g>\n",
       "<!-- D&#45;&gt;C -->\n",
       "<g id=\"edge2\" class=\"edge\">\n",
       "<title>D-&gt;C</title>\n",
       "<g id=\"a_edge2\"><a xlink:title=\"(4, 3) : \">\n",
       "<path fill=\"none\" stroke=\"#4a4a4a\" d=\"M314.61,-103.26C294.75,-89.2 269.49,-71.31 248.27,-56.28\"/>\n",
       "<polygon fill=\"#4a4a4a\" stroke=\"#4a4a4a\" points=\"250.56,-53.62 240.38,-50.7 246.52,-59.33 250.56,-53.62\"/>\n",
       "</a>\n",
       "</g>\n",
       "<text text-anchor=\"middle\" x=\"298.62\" y=\"-71\" font-family=\"Times,serif\" font-size=\"15.00\">0.40</text>\n",
       "</g>\n",
       "<!-- E -->\n",
       "<g id=\"node6\" class=\"node\">\n",
       "<title>E</title>\n",
       "<g id=\"a_node6\"><a xlink:title=\"(5) E\">\n",
       "<path fill=\"#404040\" stroke=\"#4a4a4a\" d=\"M297.62,-207C297.62,-207 405.38,-207 405.38,-207 411.38,-207 417.38,-213 417.38,-219 417.38,-219 417.38,-244 417.38,-244 417.38,-250 411.38,-256 405.38,-256 405.38,-256 297.62,-256 297.62,-256 291.62,-256 285.62,-250 285.62,-244 285.62,-244 285.62,-219 285.62,-219 285.62,-213 291.62,-207 297.62,-207\"/>\n",
       "<text text-anchor=\"middle\" x=\"351.5\" y=\"-238.7\" font-family=\"Times,serif\" font-size=\"14.00\" fill=\"white\">E</text>\n",
       "<polyline fill=\"none\" stroke=\"#4a4a4a\" points=\"285.62,-231.5 417.38,-231.5\"/>\n",
       "<text text-anchor=\"middle\" x=\"320.25\" y=\"-214.2\" font-family=\"Times,serif\" font-size=\"14.00\" fill=\"white\">μ=60.107</text>\n",
       "<polyline fill=\"none\" stroke=\"#4a4a4a\" points=\"354.88,-207 354.88,-231.5\"/>\n",
       "<text text-anchor=\"middle\" x=\"386.12\" y=\"-214.2\" font-family=\"Times,serif\" font-size=\"14.00\" fill=\"white\">σ=2.014</text>\n",
       "</a>\n",
       "</g>\n",
       "</g>\n",
       "<!-- E&#45;&gt;D -->\n",
       "<g id=\"edge3\" class=\"edge\">\n",
       "<title>E-&gt;D</title>\n",
       "<g id=\"a_edge3\"><a xlink:title=\"(5, 4) : \">\n",
       "<path fill=\"none\" stroke=\"#4a4a4a\" d=\"M350.79,-206.51C350.42,-193.9 349.95,-178.2 349.54,-164.26\"/>\n",
       "<polygon fill=\"#4a4a4a\" stroke=\"#4a4a4a\" points=\"353.05,-164.48 349.25,-154.59 346.05,-164.68 353.05,-164.48\"/>\n",
       "</a>\n",
       "</g>\n",
       "<text text-anchor=\"middle\" x=\"362.62\" y=\"-174.25\" font-family=\"Times,serif\" font-size=\"15.00\">0.64</text>\n",
       "</g>\n",
       "</g>\n",
       "</svg><br><small><i>learned CLG</i></small></div></td></tr></table>"
      ],
      "text/plain": [
       "<IPython.core.display.HTML object>"
      ]
     },
     "metadata": {},
     "output_type": "display_data"
    }
   ],
   "source": [
    "learned_clg = learner.learnCLG()\n",
    "gnb.sideBySide(model2,learned_clg,\n",
    "              captions=['original CLG','learned CLG'])"
   ]
  },
  {
   "attachments": {},
   "cell_type": "markdown",
   "metadata": {
    "editable": true,
    "slideshow": {
     "slide_type": ""
    },
    "tags": []
   },
   "source": [
    "Compare the learned model's structure with that of the original model'."
   ]
  },
  {
   "cell_type": "code",
   "execution_count": 15,
   "metadata": {
    "editable": true,
    "slideshow": {
     "slide_type": ""
    },
    "tags": []
   },
   "outputs": [
    {
     "name": "stdout",
     "output_type": "stream",
     "text": [
      "F-score(original_clg,learned_clg) : 0.6666666666666666\n"
     ]
    }
   ],
   "source": [
    "cmp=gcm.GraphicalBNComparator(model2,learned_clg)\n",
    "print(f\"F-score(original_clg,learned_clg) : {cmp.scores()['fscore']}\")"
   ]
  },
  {
   "attachments": {},
   "cell_type": "markdown",
   "metadata": {
    "editable": true,
    "slideshow": {
     "slide_type": ""
    },
    "tags": []
   },
   "source": [
    "Get the learned model's parameters and compare them with the original model's parameters using the SEM syntax."
   ]
  },
  {
   "cell_type": "code",
   "execution_count": 16,
   "metadata": {
    "editable": true,
    "slideshow": {
     "slide_type": ""
    },
    "tags": []
   },
   "outputs": [
    {
     "data": {
      "text/html": [
       "\n",
       "      <style>\n",
       "      .floating-box {\n",
       "      display: inline-block;\n",
       "      margin: 7px;\n",
       "      padding : 3px;\n",
       "      border: 0px solid transparent;  \n",
       "      valign:middle;\n",
       "      background-color: transparent;\n",
       "      }\n",
       "      </style>\n",
       "      <div class=\"floating-box\"><pre><div align='left'>F=7.0[0.5]\n",
       "B=3.0+1.2F[0.3]\n",
       "A=4.5[0.3]\n",
       "C=9.0+2.0A+1.5B[0.6]\n",
       "D=9.0+F+C[0.7]\n",
       "E=9.0+D[0.9]\n",
       "</div></pre><br><center><small><em>original sem</em></small></center></div><div class=\"floating-box\"><pre><div align='left'>E=60.107[2.014]\n",
       "F=6.995[0.499]\n",
       "B=3.002+1.2F[0.306]\n",
       "D=5.234+1.05F+0.64E[0.725]\n",
       "A=4.503[0.297]\n",
       "C=2.027+1.19A+0.65B+0.4D[0.455]\n",
       "</div></pre><br><center><small><em>learned sem</em></small></center></div>"
      ],
      "text/plain": [
       "<IPython.core.display.HTML object>"
      ]
     },
     "metadata": {},
     "output_type": "display_data"
    }
   ],
   "source": [
    "gnb.flow.row(\"<pre><div align='left'>\"+gclg.SEM.tosem(model2)+\"</div></pre>\",\n",
    "             \"<pre><div align='left'>\"+gclg.SEM.tosem(learned_clg)+\"</div></pre>\",\n",
    "             captions=[\"original sem\",\"learned sem\"])"
   ]
  },
  {
   "attachments": {},
   "cell_type": "markdown",
   "metadata": {
    "editable": true,
    "slideshow": {
     "slide_type": ""
    },
    "tags": []
   },
   "source": [
    "We can algo do parameter estimation only with function fitParameters() if we already have the structure of the model."
   ]
  },
  {
   "cell_type": "code",
   "execution_count": 17,
   "metadata": {
    "editable": true,
    "slideshow": {
     "slide_type": ""
    },
    "tags": []
   },
   "outputs": [
    {
     "data": {
      "text/html": [
       "<svg xmlns=\"http://www.w3.org/2000/svg\" xmlns:xlink=\"http://www.w3.org/1999/xlink\" width=\"248pt\" height=\"360pt\" viewBox=\"0.00 0.00 247.93 360.00\">\n",
       "<g id=\"graph0\" class=\"graph\" transform=\"scale(0.764331 0.764331) rotate(0) translate(4 467)\">\n",
       "<title>G</title>\n",
       "<!-- A -->\n",
       "<g id=\"node1\" class=\"node\">\n",
       "<title>A</title>\n",
       "<g id=\"a_node1\"><a xlink:title=\"(0) A\">\n",
       "<path fill=\"#404040\" stroke=\"#4a4a4a\" d=\"M12,-310.25C12,-310.25 113,-310.25 113,-310.25 119,-310.25 125,-316.25 125,-322.25 125,-322.25 125,-347.25 125,-347.25 125,-353.25 119,-359.25 113,-359.25 113,-359.25 12,-359.25 12,-359.25 6,-359.25 0,-353.25 0,-347.25 0,-347.25 0,-322.25 0,-322.25 0,-316.25 6,-310.25 12,-310.25\"/>\n",
       "<text text-anchor=\"middle\" x=\"62.5\" y=\"-341.95\" font-family=\"Times,serif\" font-size=\"14.00\" fill=\"white\">A</text>\n",
       "<polyline fill=\"none\" stroke=\"#4a4a4a\" points=\"0,-334.75 125,-334.75\"/>\n",
       "<text text-anchor=\"middle\" x=\"31.25\" y=\"-317.45\" font-family=\"Times,serif\" font-size=\"14.00\" fill=\"white\">μ=4.503</text>\n",
       "<polyline fill=\"none\" stroke=\"#4a4a4a\" points=\"62.5,-310.25 62.5,-334.75\"/>\n",
       "<text text-anchor=\"middle\" x=\"93.75\" y=\"-317.45\" font-family=\"Times,serif\" font-size=\"14.00\" fill=\"white\">σ=0.297</text>\n",
       "</a>\n",
       "</g>\n",
       "</g>\n",
       "<!-- C -->\n",
       "<g id=\"node4\" class=\"node\">\n",
       "<title>C</title>\n",
       "<g id=\"a_node4\"><a xlink:title=\"(3) C\">\n",
       "<path fill=\"#404040\" stroke=\"#4a4a4a\" d=\"M155,-207C155,-207 256,-207 256,-207 262,-207 268,-213 268,-219 268,-219 268,-244 268,-244 268,-250 262,-256 256,-256 256,-256 155,-256 155,-256 149,-256 143,-250 143,-244 143,-244 143,-219 143,-219 143,-213 149,-207 155,-207\"/>\n",
       "<text text-anchor=\"middle\" x=\"205.5\" y=\"-238.7\" font-family=\"Times,serif\" font-size=\"14.00\" fill=\"white\">C</text>\n",
       "<polyline fill=\"none\" stroke=\"#4a4a4a\" points=\"143,-231.5 268,-231.5\"/>\n",
       "<text text-anchor=\"middle\" x=\"174.25\" y=\"-214.2\" font-family=\"Times,serif\" font-size=\"14.00\" fill=\"white\">μ=8.981</text>\n",
       "<polyline fill=\"none\" stroke=\"#4a4a4a\" points=\"205.5,-207 205.5,-231.5\"/>\n",
       "<text text-anchor=\"middle\" x=\"236.75\" y=\"-214.2\" font-family=\"Times,serif\" font-size=\"14.00\" fill=\"white\">σ=0.594</text>\n",
       "</a>\n",
       "</g>\n",
       "</g>\n",
       "<!-- A&#45;&gt;C -->\n",
       "<g id=\"edge3\" class=\"edge\">\n",
       "<title>A-&gt;C</title>\n",
       "<g id=\"a_edge3\"><a xlink:title=\"(0, 3) : \">\n",
       "<path fill=\"none\" stroke=\"#4a4a4a\" d=\"M96.39,-309.76C116.25,-295.7 141.51,-277.81 162.73,-262.78\"/>\n",
       "<polygon fill=\"#4a4a4a\" stroke=\"#4a4a4a\" points=\"164.48,-265.83 170.62,-257.2 160.44,-260.12 164.48,-265.83\"/>\n",
       "</a>\n",
       "</g>\n",
       "<text text-anchor=\"middle\" x=\"156.62\" y=\"-277.5\" font-family=\"Times,serif\" font-size=\"15.00\">1.98</text>\n",
       "</g>\n",
       "<!-- F -->\n",
       "<g id=\"node2\" class=\"node\">\n",
       "<title>F</title>\n",
       "<g id=\"a_node2\"><a xlink:title=\"(1) F\">\n",
       "<path fill=\"#404040\" stroke=\"#4a4a4a\" d=\"M200,-413.5C200,-413.5 301,-413.5 301,-413.5 307,-413.5 313,-419.5 313,-425.5 313,-425.5 313,-450.5 313,-450.5 313,-456.5 307,-462.5 301,-462.5 301,-462.5 200,-462.5 200,-462.5 194,-462.5 188,-456.5 188,-450.5 188,-450.5 188,-425.5 188,-425.5 188,-419.5 194,-413.5 200,-413.5\"/>\n",
       "<text text-anchor=\"middle\" x=\"250.5\" y=\"-445.2\" font-family=\"Times,serif\" font-size=\"14.00\" fill=\"white\">F</text>\n",
       "<polyline fill=\"none\" stroke=\"#4a4a4a\" points=\"188,-438 313,-438\"/>\n",
       "<text text-anchor=\"middle\" x=\"219.25\" y=\"-420.7\" font-family=\"Times,serif\" font-size=\"14.00\" fill=\"white\">μ=6.995</text>\n",
       "<polyline fill=\"none\" stroke=\"#4a4a4a\" points=\"250.5,-413.5 250.5,-438\"/>\n",
       "<text text-anchor=\"middle\" x=\"281.75\" y=\"-420.7\" font-family=\"Times,serif\" font-size=\"14.00\" fill=\"white\">σ=0.499</text>\n",
       "</a>\n",
       "</g>\n",
       "</g>\n",
       "<!-- B -->\n",
       "<g id=\"node3\" class=\"node\">\n",
       "<title>B</title>\n",
       "<g id=\"a_node3\"><a xlink:title=\"(2) B\">\n",
       "<path fill=\"#404040\" stroke=\"#4a4a4a\" d=\"M155,-310.25C155,-310.25 256,-310.25 256,-310.25 262,-310.25 268,-316.25 268,-322.25 268,-322.25 268,-347.25 268,-347.25 268,-353.25 262,-359.25 256,-359.25 256,-359.25 155,-359.25 155,-359.25 149,-359.25 143,-353.25 143,-347.25 143,-347.25 143,-322.25 143,-322.25 143,-316.25 149,-310.25 155,-310.25\"/>\n",
       "<text text-anchor=\"middle\" x=\"205.5\" y=\"-341.95\" font-family=\"Times,serif\" font-size=\"14.00\" fill=\"white\">B</text>\n",
       "<polyline fill=\"none\" stroke=\"#4a4a4a\" points=\"143,-334.75 268,-334.75\"/>\n",
       "<text text-anchor=\"middle\" x=\"174.25\" y=\"-317.45\" font-family=\"Times,serif\" font-size=\"14.00\" fill=\"white\">μ=3.002</text>\n",
       "<polyline fill=\"none\" stroke=\"#4a4a4a\" points=\"205.5,-310.25 205.5,-334.75\"/>\n",
       "<text text-anchor=\"middle\" x=\"236.75\" y=\"-317.45\" font-family=\"Times,serif\" font-size=\"14.00\" fill=\"white\">σ=0.306</text>\n",
       "</a>\n",
       "</g>\n",
       "</g>\n",
       "<!-- F&#45;&gt;B -->\n",
       "<g id=\"edge1\" class=\"edge\">\n",
       "<title>F-&gt;B</title>\n",
       "<g id=\"a_edge1\"><a xlink:title=\"(1, 2) : \">\n",
       "<path fill=\"none\" stroke=\"#4a4a4a\" d=\"M239.84,-413.01C234.12,-400.14 226.98,-384.08 220.69,-369.93\"/>\n",
       "<polygon fill=\"#4a4a4a\" stroke=\"#4a4a4a\" points=\"223.96,-368.67 216.7,-360.96 217.57,-371.52 223.96,-368.67\"/>\n",
       "</a>\n",
       "</g>\n",
       "<text text-anchor=\"middle\" x=\"243.62\" y=\"-380.75\" font-family=\"Times,serif\" font-size=\"15.00\">1.20</text>\n",
       "</g>\n",
       "<!-- D -->\n",
       "<g id=\"node5\" class=\"node\">\n",
       "<title>D</title>\n",
       "<g id=\"a_node5\"><a xlink:title=\"(4) D\">\n",
       "<path fill=\"#404040\" stroke=\"#4a4a4a\" d=\"M200,-103.75C200,-103.75 301,-103.75 301,-103.75 307,-103.75 313,-109.75 313,-115.75 313,-115.75 313,-140.75 313,-140.75 313,-146.75 307,-152.75 301,-152.75 301,-152.75 200,-152.75 200,-152.75 194,-152.75 188,-146.75 188,-140.75 188,-140.75 188,-115.75 188,-115.75 188,-109.75 194,-103.75 200,-103.75\"/>\n",
       "<text text-anchor=\"middle\" x=\"250.5\" y=\"-135.45\" font-family=\"Times,serif\" font-size=\"14.00\" fill=\"white\">D</text>\n",
       "<polyline fill=\"none\" stroke=\"#4a4a4a\" points=\"188,-128.25 313,-128.25\"/>\n",
       "<text text-anchor=\"middle\" x=\"219.25\" y=\"-110.95\" font-family=\"Times,serif\" font-size=\"14.00\" fill=\"white\">μ=8.777</text>\n",
       "<polyline fill=\"none\" stroke=\"#4a4a4a\" points=\"250.5,-103.75 250.5,-128.25\"/>\n",
       "<text text-anchor=\"middle\" x=\"281.75\" y=\"-110.95\" font-family=\"Times,serif\" font-size=\"14.00\" fill=\"white\">σ=0.702</text>\n",
       "</a>\n",
       "</g>\n",
       "</g>\n",
       "<!-- F&#45;&gt;D -->\n",
       "<g id=\"edge4\" class=\"edge\">\n",
       "<title>F-&gt;D</title>\n",
       "<g id=\"a_edge4\"><a xlink:title=\"(1, 4) : \">\n",
       "<path fill=\"none\" stroke=\"#4a4a4a\" d=\"M261.16,-413.2C267.28,-398.2 274.36,-378.24 277.5,-359.75 288.9,-292.6 288.9,-273.65 277.5,-206.5 275.05,-192.06 270.19,-176.71 265.26,-163.54\"/>\n",
       "<polygon fill=\"#4a4a4a\" stroke=\"#4a4a4a\" points=\"268.61,-162.5 261.71,-154.46 262.1,-165.05 268.61,-162.5\"/>\n",
       "</a>\n",
       "</g>\n",
       "<text text-anchor=\"middle\" x=\"298.62\" y=\"-277.5\" font-family=\"Times,serif\" font-size=\"15.00\">0.96</text>\n",
       "</g>\n",
       "<!-- B&#45;&gt;C -->\n",
       "<g id=\"edge5\" class=\"edge\">\n",
       "<title>B-&gt;C</title>\n",
       "<g id=\"a_edge5\"><a xlink:title=\"(2, 3) : \">\n",
       "<path fill=\"none\" stroke=\"#4a4a4a\" d=\"M205.5,-309.76C205.5,-297.15 205.5,-281.45 205.5,-267.51\"/>\n",
       "<polygon fill=\"#4a4a4a\" stroke=\"#4a4a4a\" points=\"209,-267.84 205.5,-257.84 202,-267.84 209,-267.84\"/>\n",
       "</a>\n",
       "</g>\n",
       "<text text-anchor=\"middle\" x=\"218.62\" y=\"-277.5\" font-family=\"Times,serif\" font-size=\"15.00\">1.51</text>\n",
       "</g>\n",
       "<!-- C&#45;&gt;D -->\n",
       "<g id=\"edge2\" class=\"edge\">\n",
       "<title>C-&gt;D</title>\n",
       "<g id=\"a_edge2\"><a xlink:title=\"(3, 4) : \">\n",
       "<path fill=\"none\" stroke=\"#4a4a4a\" d=\"M216.16,-206.51C221.88,-193.64 229.02,-177.58 235.31,-163.43\"/>\n",
       "<polygon fill=\"#4a4a4a\" stroke=\"#4a4a4a\" points=\"238.43,-165.02 239.3,-154.46 232.04,-162.17 238.43,-165.02\"/>\n",
       "</a>\n",
       "</g>\n",
       "<text text-anchor=\"middle\" x=\"243.62\" y=\"-174.25\" font-family=\"Times,serif\" font-size=\"15.00\">1.01</text>\n",
       "</g>\n",
       "<!-- E -->\n",
       "<g id=\"node6\" class=\"node\">\n",
       "<title>E</title>\n",
       "<g id=\"a_node6\"><a xlink:title=\"(5) E\">\n",
       "<path fill=\"#404040\" stroke=\"#4a4a4a\" d=\"M196.62,-0.5C196.62,-0.5 304.38,-0.5 304.38,-0.5 310.38,-0.5 316.38,-6.5 316.38,-12.5 316.38,-12.5 316.38,-37.5 316.38,-37.5 316.38,-43.5 310.38,-49.5 304.38,-49.5 304.38,-49.5 196.62,-49.5 196.62,-49.5 190.62,-49.5 184.62,-43.5 184.62,-37.5 184.62,-37.5 184.62,-12.5 184.62,-12.5 184.62,-6.5 190.62,-0.5 196.62,-0.5\"/>\n",
       "<text text-anchor=\"middle\" x=\"250.5\" y=\"-32.2\" font-family=\"Times,serif\" font-size=\"14.00\" fill=\"white\">E</text>\n",
       "<polyline fill=\"none\" stroke=\"#4a4a4a\" points=\"184.62,-25 316.38,-25\"/>\n",
       "<text text-anchor=\"middle\" x=\"219.25\" y=\"-7.7\" font-family=\"Times,serif\" font-size=\"14.00\" fill=\"white\">μ=10.053</text>\n",
       "<polyline fill=\"none\" stroke=\"#4a4a4a\" points=\"253.88,-0.5 253.88,-25\"/>\n",
       "<text text-anchor=\"middle\" x=\"285.12\" y=\"-7.7\" font-family=\"Times,serif\" font-size=\"14.00\" fill=\"white\">σ=0.896</text>\n",
       "</a>\n",
       "</g>\n",
       "</g>\n",
       "<!-- D&#45;&gt;E -->\n",
       "<g id=\"edge6\" class=\"edge\">\n",
       "<title>D-&gt;E</title>\n",
       "<g id=\"a_edge6\"><a xlink:title=\"(4, 5) : \">\n",
       "<path fill=\"none\" stroke=\"#4a4a4a\" d=\"M250.5,-103.26C250.5,-90.65 250.5,-74.95 250.5,-61.01\"/>\n",
       "<polygon fill=\"#4a4a4a\" stroke=\"#4a4a4a\" points=\"254,-61.34 250.5,-51.34 247,-61.34 254,-61.34\"/>\n",
       "</a>\n",
       "</g>\n",
       "<text text-anchor=\"middle\" x=\"263.62\" y=\"-71\" font-family=\"Times,serif\" font-size=\"15.00\">0.98</text>\n",
       "</g>\n",
       "</g>\n",
       "</svg>"
      ],
      "text/plain": [
       "CLG{nodes: 6, arcs: 6, parameters: 18}"
      ]
     },
     "execution_count": 17,
     "metadata": {},
     "output_type": "execute_result"
    }
   ],
   "source": [
    "# We can copy the original CLG\n",
    "copy_original = gclg.CLG(model2)\n",
    "\n",
    "# RAveL learning again\n",
    "RAveL_l = gclg.CLGLearner(\"./out/model2.csv\")\n",
    "\n",
    "# Fit the parameters of the copy clg\n",
    "RAveL_l.fitParameters(copy_original)\n",
    "\n",
    "copy_original"
   ]
  },
  {
   "attachments": {},
   "cell_type": "markdown",
   "metadata": {
    "editable": true,
    "slideshow": {
     "slide_type": ""
    },
    "tags": []
   },
   "source": [
    "## Compare two CLG models"
   ]
  },
  {
   "attachments": {},
   "cell_type": "markdown",
   "metadata": {
    "editable": true,
    "slideshow": {
     "slide_type": ""
    },
    "tags": []
   },
   "source": [
    "We first create two CLG from two SEMs."
   ]
  },
  {
   "cell_type": "code",
   "execution_count": 18,
   "metadata": {
    "editable": true,
    "slideshow": {
     "slide_type": ""
    },
    "tags": []
   },
   "outputs": [],
   "source": [
    "# TWO DIFFERENT CLGs\n",
    "\n",
    "# FIRST CLG\n",
    "clg1=gclg.SEM.toclg(\"\"\"\n",
    "# hyper parameters\n",
    "A=4[1]\n",
    "B=3[5]\n",
    "C=-2[5]\n",
    "\n",
    "#equations\n",
    "D=A[.2] # D is a noisy version of A\n",
    "E=1+D+2B [2]\n",
    "F=E+C+B+E [0.001]\n",
    "\"\"\")\n",
    "\n",
    "# SECOND CLG\n",
    "clg2=gclg.SEM.toclg(\"\"\"\n",
    "# hyper parameters\n",
    "A=4[1]\n",
    "B=3+A[5]\n",
    "C=-2+2B+A[5]\n",
    "\n",
    "#equations\n",
    "D=A[.2] # D is a noisy version of A\n",
    "E=1+D+2B [2]\n",
    "F=E+C [0.001]\n",
    "\"\"\")"
   ]
  },
  {
   "attachments": {},
   "cell_type": "markdown",
   "metadata": {
    "editable": true,
    "slideshow": {
     "slide_type": ""
    },
    "tags": []
   },
   "source": [
    "This cell shows how to have a quick view of the differences "
   ]
  },
  {
   "cell_type": "code",
   "execution_count": 19,
   "metadata": {
    "editable": true,
    "slideshow": {
     "slide_type": ""
    },
    "tags": []
   },
   "outputs": [
    {
     "ename": "NoOptionError",
     "evalue": "No option 'graphdiff_correct_color' in section: 'notebook'",
     "output_type": "error",
     "traceback": [
      "\u001b[0;31m---------------------------------------------------------------------------\u001b[0m",
      "\u001b[0;31mKeyError\u001b[0m                                  Traceback (most recent call last)",
      "File \u001b[0;32m/opt/homebrew/Cellar/python@3.12/3.12.3/Frameworks/Python.framework/Versions/3.12/lib/python3.12/configparser.py:767\u001b[0m, in \u001b[0;36mRawConfigParser.get\u001b[0;34m(self, section, option, raw, vars, fallback)\u001b[0m\n\u001b[1;32m    766\u001b[0m \u001b[38;5;28;01mtry\u001b[39;00m:\n\u001b[0;32m--> 767\u001b[0m     value \u001b[38;5;241m=\u001b[39m \u001b[43md\u001b[49m\u001b[43m[\u001b[49m\u001b[43moption\u001b[49m\u001b[43m]\u001b[49m\n\u001b[1;32m    768\u001b[0m \u001b[38;5;28;01mexcept\u001b[39;00m \u001b[38;5;167;01mKeyError\u001b[39;00m:\n",
      "File \u001b[0;32m/opt/homebrew/Cellar/python@3.12/3.12.3/Frameworks/Python.framework/Versions/3.12/lib/python3.12/collections/__init__.py:1015\u001b[0m, in \u001b[0;36mChainMap.__getitem__\u001b[0;34m(self, key)\u001b[0m\n\u001b[1;32m   1014\u001b[0m         \u001b[38;5;28;01mpass\u001b[39;00m\n\u001b[0;32m-> 1015\u001b[0m \u001b[38;5;28;01mreturn\u001b[39;00m \u001b[38;5;28;43mself\u001b[39;49m\u001b[38;5;241;43m.\u001b[39;49m\u001b[38;5;21;43m__missing__\u001b[39;49m\u001b[43m(\u001b[49m\u001b[43mkey\u001b[49m\u001b[43m)\u001b[49m\n",
      "File \u001b[0;32m/opt/homebrew/Cellar/python@3.12/3.12.3/Frameworks/Python.framework/Versions/3.12/lib/python3.12/collections/__init__.py:1007\u001b[0m, in \u001b[0;36mChainMap.__missing__\u001b[0;34m(self, key)\u001b[0m\n\u001b[1;32m   1006\u001b[0m \u001b[38;5;28;01mdef\u001b[39;00m \u001b[38;5;21m__missing__\u001b[39m(\u001b[38;5;28mself\u001b[39m, key):\n\u001b[0;32m-> 1007\u001b[0m     \u001b[38;5;28;01mraise\u001b[39;00m \u001b[38;5;167;01mKeyError\u001b[39;00m(key)\n",
      "\u001b[0;31mKeyError\u001b[0m: 'graphdiff_correct_color'",
      "\nDuring handling of the above exception, another exception occurred:\n",
      "\u001b[0;31mNoOptionError\u001b[0m                             Traceback (most recent call last)",
      "Cell \u001b[0;32mIn[19], line 1\u001b[0m\n\u001b[0;32m----> 1\u001b[0m gnb\u001b[38;5;241m.\u001b[39mflow\u001b[38;5;241m.\u001b[39mrow(clg1,clg2,\u001b[43mgcm\u001b[49m\u001b[38;5;241;43m.\u001b[39;49m\u001b[43mgraphDiff\u001b[49m\u001b[43m(\u001b[49m\u001b[43mclg1\u001b[49m\u001b[43m,\u001b[49m\u001b[43mclg2\u001b[49m\u001b[43m)\u001b[49m,\n\u001b[1;32m      2\u001b[0m              gcm\u001b[38;5;241m.\u001b[39mgraphDiffLegend(),\n\u001b[1;32m      3\u001b[0m              gcm\u001b[38;5;241m.\u001b[39mgraphDiff(clg2,clg1))\n",
      "File \u001b[0;32m~/.virtualenvs/devAgrum/lib/python3.12/site-packages/pyAgrum/lib/bn_vs_bn.py:435\u001b[0m, in \u001b[0;36mgraphDiff\u001b[0;34m(bnref, bncmp, noStyle)\u001b[0m\n\u001b[1;32m    431\u001b[0m pos\u001b[38;5;241m=\u001b[39mpositions[bnref\u001b[38;5;241m.\u001b[39mvariable(i1)\u001b[38;5;241m.\u001b[39mname()]\n\u001b[1;32m    432\u001b[0m \u001b[38;5;28;01mif\u001b[39;00m bnref\u001b[38;5;241m.\u001b[39mvariable(i1)\u001b[38;5;241m.\u001b[39mname() \u001b[38;5;129;01min\u001b[39;00m bncmp\u001b[38;5;241m.\u001b[39mnames():\n\u001b[1;32m    433\u001b[0m   res\u001b[38;5;241m.\u001b[39madd_node(dot\u001b[38;5;241m.\u001b[39mNode(\u001b[38;5;124mf\u001b[39m\u001b[38;5;124m'\u001b[39m\u001b[38;5;124m\"\u001b[39m\u001b[38;5;132;01m{\u001b[39;00mbnref\u001b[38;5;241m.\u001b[39mvariable(i1)\u001b[38;5;241m.\u001b[39mname()\u001b[38;5;132;01m}\u001b[39;00m\u001b[38;5;124m\"\u001b[39m\u001b[38;5;124m'\u001b[39m,\n\u001b[1;32m    434\u001b[0m                         style\u001b[38;5;241m=\u001b[39m\u001b[38;5;124m\"\u001b[39m\u001b[38;5;124mfilled\u001b[39m\u001b[38;5;124m\"\u001b[39m,\n\u001b[0;32m--> 435\u001b[0m                         fillcolor\u001b[38;5;241m=\u001b[39m\u001b[43mgum\u001b[49m\u001b[38;5;241;43m.\u001b[39;49m\u001b[43mconfig\u001b[49m\u001b[43m[\u001b[49m\u001b[38;5;124;43m\"\u001b[39;49m\u001b[38;5;124;43mnotebook\u001b[39;49m\u001b[38;5;124;43m\"\u001b[39;49m\u001b[43m,\u001b[49m\u001b[43m \u001b[49m\u001b[38;5;124;43m\"\u001b[39;49m\u001b[38;5;124;43mgraphdiff_correct_color\u001b[39;49m\u001b[38;5;124;43m\"\u001b[39;49m\u001b[43m]\u001b[49m,\n\u001b[1;32m    436\u001b[0m                         color\u001b[38;5;241m=\u001b[39mgutils\u001b[38;5;241m.\u001b[39mgetBlackInTheme()\n\u001b[1;32m    437\u001b[0m                         )\n\u001b[1;32m    438\u001b[0m                )\n\u001b[1;32m    439\u001b[0m \u001b[38;5;28;01melse\u001b[39;00m:\n\u001b[1;32m    440\u001b[0m   \u001b[38;5;28;01mif\u001b[39;00m \u001b[38;5;129;01mnot\u001b[39;00m noStyle:\n",
      "File \u001b[0;32m~/.virtualenvs/devAgrum/lib/python3.12/site-packages/pyAgrum/config.py:261\u001b[0m, in \u001b[0;36mPyAgrumConfiguration.__getitem__\u001b[0;34m(self, key)\u001b[0m\n\u001b[1;32m    260\u001b[0m \u001b[38;5;28;01mdef\u001b[39;00m \u001b[38;5;21m__getitem__\u001b[39m(\u001b[38;5;28mself\u001b[39m, key):\n\u001b[0;32m--> 261\u001b[0m   \u001b[38;5;28;01mreturn\u001b[39;00m \u001b[38;5;28;43mself\u001b[39;49m\u001b[38;5;241;43m.\u001b[39;49m\u001b[43mget\u001b[49m\u001b[43m(\u001b[49m\u001b[43mkey\u001b[49m\u001b[43m[\u001b[49m\u001b[38;5;241;43m0\u001b[39;49m\u001b[43m]\u001b[49m\u001b[43m,\u001b[49m\u001b[43m \u001b[49m\u001b[43mkey\u001b[49m\u001b[43m[\u001b[49m\u001b[38;5;241;43m1\u001b[39;49m\u001b[43m]\u001b[49m\u001b[43m)\u001b[49m\n",
      "File \u001b[0;32m~/.virtualenvs/devAgrum/lib/python3.12/site-packages/pyAgrum/config.py:173\u001b[0m, in \u001b[0;36mPyAgrumConfiguration.get\u001b[0;34m(self, section, option)\u001b[0m\n\u001b[1;32m    157\u001b[0m \u001b[38;5;28;01mdef\u001b[39;00m \u001b[38;5;21mget\u001b[39m(\u001b[38;5;28mself\u001b[39m, section, option):\n\u001b[1;32m    158\u001b[0m \u001b[38;5;250m  \u001b[39m\u001b[38;5;124;03m\"\"\" Give the value associated to section.option. Preferably use ``__getitem__`` and ``__setitem__``.\u001b[39;00m\n\u001b[1;32m    159\u001b[0m \n\u001b[1;32m    160\u001b[0m \u001b[38;5;124;03m  Examples\u001b[39;00m\n\u001b[0;32m   (...)\u001b[0m\n\u001b[1;32m    171\u001b[0m \u001b[38;5;124;03m      str -- the value (as string)\u001b[39;00m\n\u001b[1;32m    172\u001b[0m \u001b[38;5;124;03m  \"\"\"\u001b[39;00m\n\u001b[0;32m--> 173\u001b[0m   \u001b[38;5;28;01mreturn\u001b[39;00m \u001b[38;5;28;43mself\u001b[39;49m\u001b[38;5;241;43m.\u001b[39;49m\u001b[43m__parser\u001b[49m\u001b[38;5;241;43m.\u001b[39;49m\u001b[43mget\u001b[49m\u001b[43m(\u001b[49m\u001b[43msection\u001b[49m\u001b[43m,\u001b[49m\u001b[43m \u001b[49m\u001b[43moption\u001b[49m\u001b[43m)\u001b[49m\n",
      "File \u001b[0;32m/opt/homebrew/Cellar/python@3.12/3.12.3/Frameworks/Python.framework/Versions/3.12/lib/python3.12/configparser.py:770\u001b[0m, in \u001b[0;36mRawConfigParser.get\u001b[0;34m(self, section, option, raw, vars, fallback)\u001b[0m\n\u001b[1;32m    768\u001b[0m \u001b[38;5;28;01mexcept\u001b[39;00m \u001b[38;5;167;01mKeyError\u001b[39;00m:\n\u001b[1;32m    769\u001b[0m     \u001b[38;5;28;01mif\u001b[39;00m fallback \u001b[38;5;129;01mis\u001b[39;00m _UNSET:\n\u001b[0;32m--> 770\u001b[0m         \u001b[38;5;28;01mraise\u001b[39;00m NoOptionError(option, section)\n\u001b[1;32m    771\u001b[0m     \u001b[38;5;28;01melse\u001b[39;00m:\n\u001b[1;32m    772\u001b[0m         \u001b[38;5;28;01mreturn\u001b[39;00m fallback\n",
      "\u001b[0;31mNoOptionError\u001b[0m: No option 'graphdiff_correct_color' in section: 'notebook'"
     ]
    }
   ],
   "source": [
    "gnb.flow.row(clg1,clg2,gcm.graphDiff(clg1,clg2),\n",
    "             gcm.graphDiffLegend(),\n",
    "             gcm.graphDiff(clg2,clg1))"
   ]
  },
  {
   "attachments": {},
   "cell_type": "markdown",
   "metadata": {
    "editable": true,
    "slideshow": {
     "slide_type": ""
    },
    "tags": []
   },
   "source": [
    "We compare the CLG models."
   ]
  },
  {
   "cell_type": "code",
   "execution_count": null,
   "metadata": {
    "editable": true,
    "slideshow": {
     "slide_type": ""
    },
    "tags": []
   },
   "outputs": [],
   "source": [
    "# We use the F-score to compare the two CLGs\n",
    "cmp=gcm.GraphicalBNComparator(clg1,clg1)\n",
    "print(f\"F-score(clg1,clg1) : {cmp.scores()['fscore']}\")\n",
    "\n",
    "cmp=gcm.GraphicalBNComparator(clg1,clg2)\n",
    "print(f\"F-score(clg1,clg2) : {cmp.scores()['fscore']}\")\n"
   ]
  },
  {
   "cell_type": "code",
   "execution_count": null,
   "metadata": {
    "editable": true,
    "slideshow": {
     "slide_type": ""
    },
    "tags": []
   },
   "outputs": [],
   "source": [
    "# The complete list of structural scores is :\n",
    "print(\"score(clg1,clg2) :\")\n",
    "for score,val in cmp.scores().items():\n",
    "  print(f\"  - {score} : {val}\")"
   ]
  },
  {
   "attachments": {},
   "cell_type": "markdown",
   "metadata": {
    "editable": true,
    "slideshow": {
     "slide_type": ""
    },
    "tags": []
   },
   "source": [
    "## Forward Sampling"
   ]
  },
  {
   "cell_type": "code",
   "execution_count": null,
   "metadata": {
    "editable": true,
    "slideshow": {
     "slide_type": ""
    },
    "tags": []
   },
   "outputs": [],
   "source": [
    "# We create a simple CLG with 3 variables\n",
    "clg = gclg.CLG()\n",
    "# prog=« sigma=2;X=N(5);Y=N(3);Z=X+Y »\n",
    "A = gclg.GaussianVariable(mu=2, sigma=1, name='A')\n",
    "B = gclg.GaussianVariable(mu=1, sigma=2, name='B')\n",
    "C = gclg.GaussianVariable(mu=2, sigma=3, name='C')\n",
    "  \n",
    "idA = clg.add(A)\n",
    "idB = clg.add(B)\n",
    "idC = clg.add(C)\n",
    "\n",
    "clg.addArc(idA, idB, 1.5)\n",
    "clg.addArc(idB, idC, 0.75)\n",
    "\n",
    "# We can show it as a graph\n",
    "original_clg = gclgnb.CLG2dot(clg)\n",
    "original_clg"
   ]
  },
  {
   "cell_type": "code",
   "execution_count": null,
   "metadata": {
    "editable": true,
    "slideshow": {
     "slide_type": ""
    },
    "tags": []
   },
   "outputs": [],
   "source": [
    "fs = gclg.ForwardSampling(clg)\n",
    "fs.makeSample(10)"
   ]
  },
  {
   "cell_type": "code",
   "execution_count": null,
   "metadata": {
    "editable": true,
    "jupyter": {
     "source_hidden": true
    },
    "slideshow": {
     "slide_type": ""
    },
    "tags": []
   },
   "outputs": [],
   "source": [
    "print(\"A's sample_variance: \", fs.variance_sample(0))\n",
    "print(\"B's sample_variance: \", fs.variance_sample('B'))\n",
    "print(\"C's sample_variance: \", fs.variance_sample(2))"
   ]
  },
  {
   "cell_type": "code",
   "execution_count": null,
   "metadata": {
    "editable": true,
    "slideshow": {
     "slide_type": ""
    },
    "tags": []
   },
   "outputs": [],
   "source": [
    "print(\"A's sample_mean: \", fs.mean_sample('A'))\n",
    "print(\"B's sample_mean: \", fs.mean_sample('B'))\n",
    "print(\"C's sample_mean: \", fs.mean_sample('C'))"
   ]
  },
  {
   "cell_type": "code",
   "execution_count": null,
   "metadata": {
    "editable": true,
    "slideshow": {
     "slide_type": ""
    },
    "tags": []
   },
   "outputs": [],
   "source": [
    "fs.toarray()"
   ]
  },
  {
   "cell_type": "code",
   "execution_count": null,
   "metadata": {
    "editable": true,
    "slideshow": {
     "slide_type": ""
    },
    "tags": []
   },
   "outputs": [],
   "source": [
    "# export to dataframe\n",
    "fs.topandas()"
   ]
  },
  {
   "cell_type": "code",
   "execution_count": null,
   "metadata": {
    "editable": true,
    "slideshow": {
     "slide_type": ""
    },
    "tags": []
   },
   "outputs": [],
   "source": [
    "# export to csv\n",
    "fs.makeSample(10000)\n",
    "fs.tocsv('./out/samples.csv')"
   ]
  },
  {
   "attachments": {},
   "cell_type": "markdown",
   "metadata": {
    "editable": true,
    "slideshow": {
     "slide_type": ""
    },
    "tags": []
   },
   "source": [
    "## PC-algorithm & Parameter Estimation"
   ]
  },
  {
   "attachments": {},
   "cell_type": "markdown",
   "metadata": {
    "editable": true,
    "slideshow": {
     "slide_type": ""
    },
    "tags": []
   },
   "source": [
    "The module allows to investigale more deeply into the learning algorithm.\n",
    "\n",
    "We first create a random CLG model with 5 variables."
   ]
  },
  {
   "cell_type": "code",
   "execution_count": null,
   "metadata": {
    "editable": true,
    "slideshow": {
     "slide_type": ""
    },
    "tags": []
   },
   "outputs": [],
   "source": [
    "# Create a new random CLG\n",
    "clg = gclg.randomCLG(nb_variables=5, names=\"ABCDE\")\n",
    "\n",
    "# Display the CLG\n",
    "print(clg)"
   ]
  },
  {
   "attachments": {},
   "cell_type": "markdown",
   "metadata": {
    "editable": true,
    "slideshow": {
     "slide_type": ""
    },
    "tags": []
   },
   "source": [
    "We then do the Forward Sampling and CLGLearner."
   ]
  },
  {
   "cell_type": "code",
   "execution_count": null,
   "metadata": {
    "editable": true,
    "slideshow": {
     "slide_type": ""
    },
    "tags": []
   },
   "outputs": [],
   "source": [
    "n = 20 # n is the selected values of MC number n in n-MCERA\n",
    "K = 10000 # K is the list of selected values of number of samples\n",
    "Delta = 0.05 # Delta is the FWER we want to control\n",
    "\n",
    "# Sample generation\n",
    "fs = gclg.ForwardSampling(clg)\n",
    "fs.makeSample(K).tocsv('./out/clg.csv')\n",
    "\n",
    "# Learning\n",
    "RAveL_l = gclg.CLGLearner('./out/clg.csv',n_sample=n,fwer_delta=Delta)"
   ]
  },
  {
   "attachments": {},
   "cell_type": "markdown",
   "metadata": {
    "editable": true,
    "slideshow": {
     "slide_type": ""
    },
    "tags": []
   },
   "source": [
    "We use the PC algorithme to learn the structure of the model."
   ]
  },
  {
   "cell_type": "code",
   "execution_count": null,
   "metadata": {
    "editable": true,
    "slideshow": {
     "slide_type": ""
    },
    "tags": []
   },
   "outputs": [],
   "source": [
    "# Use the PC algorithm to get the skeleton\n",
    "C = RAveL_l.PC_algorithm(order=clg.nodes(), verbose=False)\n",
    "print(\"The final skeleton is:\\n\", C)"
   ]
  },
  {
   "cell_type": "code",
   "execution_count": null,
   "metadata": {
    "editable": true,
    "slideshow": {
     "slide_type": ""
    },
    "tags": []
   },
   "outputs": [],
   "source": [
    "# Create a Mixedgraph to display the skeleton\n",
    "RAveL_MixGraph = gum.MixedGraph()\n",
    "\n",
    "# Add variables\n",
    "for i in range(len(clg.names())):\n",
    "  RAveL_MixGraph.addNodeWithId(i)\n",
    "\n",
    "# Add arcs and edges\n",
    "for father, kids in C.items():\n",
    "  for kid in kids:\n",
    "    if father in C[kid]:\n",
    "      RAveL_MixGraph.addEdge(father, kid)\n",
    "    else:\n",
    "      RAveL_MixGraph.addArc(father, kid)\n",
    "\n",
    "RAveL_MixGraph"
   ]
  },
  {
   "cell_type": "code",
   "execution_count": null,
   "metadata": {
    "editable": true,
    "slideshow": {
     "slide_type": ""
    },
    "tags": []
   },
   "outputs": [],
   "source": [
    "# Create a BN with the same structure as the CLG\n",
    "bn = gum.BayesNet()\n",
    "# add variables\n",
    "for name in clg.names():\n",
    "  new_variable = gum.LabelizedVariable(name,'a labelized variable',2)\n",
    "  bn.add(new_variable)\n",
    "# add arcs\n",
    "for arc in clg.arcs():\n",
    "  bn.addArc(arc[0], arc[1])\n",
    "\n",
    "# Compare the result above with the EssentialGraph\n",
    "Real_EssentialGraph = gum.EssentialGraph(bn)\n",
    "\n",
    "Real_EssentialGraph"
   ]
  },
  {
   "cell_type": "code",
   "execution_count": null,
   "metadata": {
    "editable": true,
    "slideshow": {
     "slide_type": ""
    },
    "tags": []
   },
   "outputs": [],
   "source": [
    "# create a CLG from the skeleton of PC algorithm\n",
    "clg_PC = gclg.CLG()\n",
    "for node in clg.nodes():\n",
    "  clg_PC.add(clg.variable(node))\n",
    "for father,kids in C.items():\n",
    "  for kid in kids:\n",
    "    clg_PC.addArc(father, kid)\n",
    "\n",
    "# Compare the structure of the created CLG and the original CLG\n",
    "print(f\"F-score : {clg.CompareStructure(clg_PC)}\")"
   ]
  },
  {
   "attachments": {},
   "cell_type": "markdown",
   "metadata": {
    "editable": true,
    "slideshow": {
     "slide_type": ""
    },
    "tags": []
   },
   "source": [
    "We can also do the parameter learning."
   ]
  },
  {
   "cell_type": "code",
   "execution_count": null,
   "metadata": {
    "editable": true,
    "slideshow": {
     "slide_type": ""
    },
    "tags": []
   },
   "outputs": [],
   "source": [
    "id2mu, id2sigma, arc2coef = RAveL_l.estimate_parameters(C)\n",
    "\n",
    "for node in clg.nodes():\n",
    "  print(f\"Real Value: node {node} : mu = {clg.variable(node)._mu}, sigma = {clg.variable(node)._sigma}\")\n",
    "  print(f\"Estimation: node {node} : mu = {id2mu[node]}, sigma = {id2sigma[node]}\")\n",
    "\n",
    "\n",
    "for arc in clg.arcs():\n",
    "  print(f\"Real Value: arc {arc} : coef = {clg.coefArc(*arc)}\")\n",
    "  print(f\"Estimation: arc {arc} : coef = {(arc2coef[arc] if arc in arc2coef else '-')}\")"
   ]
  },
  {
   "cell_type": "code",
   "execution_count": null,
   "metadata": {
    "editable": true,
    "slideshow": {
     "slide_type": ""
    },
    "tags": []
   },
   "outputs": [],
   "source": []
  }
 ],
 "metadata": {
  "kernelspec": {
   "display_name": "Python 3 (ipykernel)",
   "language": "python",
   "name": "python3"
  },
  "language_info": {
   "codemirror_mode": {
    "name": "ipython",
    "version": 3
   },
   "file_extension": ".py",
   "mimetype": "text/x-python",
   "name": "python",
   "nbconvert_exporter": "python",
   "pygments_lexer": "ipython3",
   "version": "3.12.3"
  }
 },
 "nbformat": 4,
 "nbformat_minor": 4
}
