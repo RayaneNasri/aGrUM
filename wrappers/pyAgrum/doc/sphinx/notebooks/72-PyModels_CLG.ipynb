{
 "cells": [
  {
   "attachments": {},
   "cell_type": "markdown",
   "metadata": {
    "editable": true,
    "slideshow": {
     "slide_type": ""
    },
    "tags": []
   },
   "source": [
    "# Conditional Linear Gaussian models"
   ]
  },
  {
   "attachments": {},
   "cell_type": "markdown",
   "metadata": {},
   "source": [
    "| | | |\n",
    "|-|-|-|\n",
    "|[ ![Creative Commons License](images/cc4.png)](http://creativecommons.org/licenses/by-nc/4.0/) |[ ![aGrUM](images/logoAgrum.png)](https://agrum.org) |[ ![interactive online version](images/atbinder.svg)](https://agrum.gitlab.io/extra/agrum_at_binder.html)"
   ]
  },
  {
   "cell_type": "code",
   "execution_count": 1,
   "metadata": {
    "editable": true,
    "execution": {
     "iopub.execute_input": "2024-10-17T13:40:42.249137Z",
     "iopub.status.busy": "2024-10-17T13:40:42.249062Z",
     "iopub.status.idle": "2024-10-17T13:40:43.045520Z",
     "shell.execute_reply": "2024-10-17T13:40:43.043119Z",
     "shell.execute_reply.started": "2024-10-17T13:40:42.249128Z"
    },
    "slideshow": {
     "slide_type": ""
    },
    "tags": []
   },
   "outputs": [
    {
     "ename": "ModuleNotFoundError",
     "evalue": "No module named 'pyAgrum.clg.inference'",
     "output_type": "error",
     "traceback": [
      "\u001b[0;31m---------------------------------------------------------------------------\u001b[0m",
      "\u001b[0;31mModuleNotFoundError\u001b[0m                       Traceback (most recent call last)",
      "Cell \u001b[0;32mIn[1], line 6\u001b[0m\n\u001b[1;32m      3\u001b[0m \u001b[38;5;28;01mimport\u001b[39;00m \u001b[38;5;21;01mpyAgrum\u001b[39;00m\u001b[38;5;21;01m.\u001b[39;00m\u001b[38;5;21;01mlib\u001b[39;00m\u001b[38;5;21;01m.\u001b[39;00m\u001b[38;5;21;01mbn_vs_bn\u001b[39;00m \u001b[38;5;28;01mas\u001b[39;00m \u001b[38;5;21;01mgcm\u001b[39;00m\n\u001b[1;32m      5\u001b[0m \u001b[38;5;28;01mimport\u001b[39;00m \u001b[38;5;21;01mpyAgrum\u001b[39;00m\u001b[38;5;21;01m.\u001b[39;00m\u001b[38;5;21;01mclg\u001b[39;00m \u001b[38;5;28;01mas\u001b[39;00m \u001b[38;5;21;01mgclg\u001b[39;00m\n\u001b[0;32m----> 6\u001b[0m \u001b[38;5;28;01mimport\u001b[39;00m \u001b[38;5;21;01mpyAgrum\u001b[39;00m\u001b[38;5;21;01m.\u001b[39;00m\u001b[38;5;21;01mclg\u001b[39;00m\u001b[38;5;21;01m.\u001b[39;00m\u001b[38;5;21;01mnotebook\u001b[39;00m \u001b[38;5;28;01mas\u001b[39;00m \u001b[38;5;21;01mgclgnb\u001b[39;00m\n",
      "File \u001b[0;32m~/.virtualenvs/devAgrum/lib/python3.13/site-packages/pyAgrum/clg/notebook.py:32\u001b[0m\n\u001b[1;32m     29\u001b[0m \u001b[38;5;28;01mimport\u001b[39;00m \u001b[38;5;21;01mpyAgrum\u001b[39;00m\u001b[38;5;21;01m.\u001b[39;00m\u001b[38;5;21;01mlib\u001b[39;00m\u001b[38;5;21;01m.\u001b[39;00m\u001b[38;5;21;01mimage\u001b[39;00m \u001b[38;5;28;01mas\u001b[39;00m \u001b[38;5;21;01mgimg\u001b[39;00m\n\u001b[1;32m     31\u001b[0m \u001b[38;5;28;01mimport\u001b[39;00m \u001b[38;5;21;01mpyAgrum\u001b[39;00m\u001b[38;5;21;01m.\u001b[39;00m\u001b[38;5;21;01mclg\u001b[39;00m\u001b[38;5;21;01m.\u001b[39;00m\u001b[38;5;21;01mCLG\u001b[39;00m \u001b[38;5;28;01mas\u001b[39;00m \u001b[38;5;21;01mCLG\u001b[39;00m\n\u001b[0;32m---> 32\u001b[0m \u001b[38;5;28;01mimport\u001b[39;00m \u001b[38;5;21;01mpyAgrum\u001b[39;00m\u001b[38;5;21;01m.\u001b[39;00m\u001b[38;5;21;01mclg\u001b[39;00m\u001b[38;5;21;01m.\u001b[39;00m\u001b[38;5;21;01minference\u001b[39;00m \u001b[38;5;28;01mas\u001b[39;00m \u001b[38;5;21;01mclginference\u001b[39;00m\n\u001b[1;32m     33\u001b[0m \u001b[38;5;28;01mimport\u001b[39;00m \u001b[38;5;21;01mpyAgrum\u001b[39;00m\u001b[38;5;21;01m.\u001b[39;00m\u001b[38;5;21;01mlib\u001b[39;00m\u001b[38;5;21;01m.\u001b[39;00m\u001b[38;5;21;01mnotebook\u001b[39;00m \u001b[38;5;28;01mas\u001b[39;00m \u001b[38;5;21;01mgnb\u001b[39;00m\n\u001b[1;32m     36\u001b[0m \u001b[38;5;28;01mdef\u001b[39;00m \u001b[38;5;21mCLG2dot\u001b[39m(clg, \u001b[38;5;241m*\u001b[39m, size\u001b[38;5;241m=\u001b[39m\u001b[38;5;28;01mNone\u001b[39;00m, nodeColor\u001b[38;5;241m=\u001b[39m\u001b[38;5;28;01mNone\u001b[39;00m, arcWidth\u001b[38;5;241m=\u001b[39m\u001b[38;5;28;01mNone\u001b[39;00m, arcColor\u001b[38;5;241m=\u001b[39m\u001b[38;5;28;01mNone\u001b[39;00m, cmapNode\u001b[38;5;241m=\u001b[39m\u001b[38;5;28;01mNone\u001b[39;00m, cmapArc\u001b[38;5;241m=\u001b[39m\u001b[38;5;28;01mNone\u001b[39;00m, showMsg\u001b[38;5;241m=\u001b[39m\u001b[38;5;28;01mNone\u001b[39;00m):\n",
      "\u001b[0;31mModuleNotFoundError\u001b[0m: No module named 'pyAgrum.clg.inference'"
     ]
    }
   ],
   "source": [
    "import pyAgrum as gum\n",
    "import pyAgrum.lib.notebook as gnb\n",
    "import pyAgrum.lib.bn_vs_bn as gcm\n",
    "\n",
    "import pyAgrum.clg as gclg\n",
    "import pyAgrum.clg.notebook as gclgnb\n"
   ]
  },
  {
   "attachments": {},
   "cell_type": "markdown",
   "metadata": {
    "editable": true,
    "slideshow": {
     "slide_type": ""
    },
    "tags": []
   },
   "source": [
    "## Build a CLG model \n",
    "\n",
    "### From scratch\n",
    "\n",
    "Suppose we want to build a CLG with these specifications $A={\\cal N}(5,1)$, $B={\\cal N}(4,3)$ and $C=2.A+3.B+{\\cal N}(3,2)$"
   ]
  },
  {
   "cell_type": "code",
   "execution_count": null,
   "metadata": {
    "editable": true,
    "execution": {
     "iopub.status.busy": "2024-10-17T13:40:43.045758Z",
     "iopub.status.idle": "2024-10-17T13:40:43.045872Z",
     "shell.execute_reply": "2024-10-17T13:40:43.045812Z",
     "shell.execute_reply.started": "2024-10-17T13:40:43.045807Z"
    },
    "slideshow": {
     "slide_type": ""
    },
    "tags": []
   },
   "outputs": [],
   "source": [
    "model=gclg.CLG()\n",
    "model.add(gclg.GaussianVariable(\"A\",5,1))\n",
    "model.add(gclg.GaussianVariable(\"C\",3,2))\n",
    "model.add(gclg.GaussianVariable(\"B\",4,3))\n",
    "model.addArc(\"A\",\"C\",2)\n",
    "model.addArc(\"B\",\"C\",3)\n",
    "model"
   ]
  },
  {
   "attachments": {},
   "cell_type": "markdown",
   "metadata": {
    "editable": true,
    "slideshow": {
     "slide_type": ""
    },
    "tags": []
   },
   "source": [
    "### From SEM (Structural Equation Model)\n",
    "\n",
    "We can create a Conditional Linear Gaussian Bayesian networ(CLG model) using a SEM-like syntax. \n",
    "\n",
    "`A = 4.5 [0.3]` means that the mean of the distribution for Gaussian random variable A is 4.5 and ist standard deviation is 0.3. \n",
    "\n",
    "`B = 3 + 0.8F [0.3]` means that the mean of the distribution for the Gaussian random variable B is 3 and the standard deviation is 0.3.  \n",
    "\n",
    "`pyAgrum.CLG.SEM` is a set of static methods to manipulate this kind of SEM.\n"
   ]
  },
  {
   "cell_type": "code",
   "execution_count": null,
   "metadata": {
    "editable": true,
    "execution": {
     "iopub.status.busy": "2024-10-17T13:40:43.046343Z",
     "iopub.status.idle": "2024-10-17T13:40:43.046450Z",
     "shell.execute_reply": "2024-10-17T13:40:43.046396Z",
     "shell.execute_reply.started": "2024-10-17T13:40:43.046391Z"
    },
    "slideshow": {
     "slide_type": ""
    },
    "tags": []
   },
   "outputs": [],
   "source": [
    "sem2=\"\"\"\n",
    "A=4.5 [0.3] # comments are allowed\n",
    "F=7 [0.5]\n",
    "B=3 + 1.2F [0.3]\n",
    "C=9 +  2A + 1.5B [0.6]\n",
    "D=9 + C + F[0.7]\n",
    "E=9 + D [0.9]\n",
    "\"\"\"\n",
    "\n",
    "model2 = gclg.SEM.toclg(sem2)"
   ]
  },
  {
   "cell_type": "code",
   "execution_count": null,
   "metadata": {
    "editable": true,
    "execution": {
     "iopub.status.busy": "2024-10-17T13:40:43.046838Z",
     "iopub.status.idle": "2024-10-17T13:40:43.046961Z",
     "shell.execute_reply": "2024-10-17T13:40:43.046879Z",
     "shell.execute_reply.started": "2024-10-17T13:40:43.046876Z"
    },
    "slideshow": {
     "slide_type": ""
    },
    "tags": [
     "nbsphinx-thumbnail"
    ]
   },
   "outputs": [],
   "source": [
    "gnb.show(model2)"
   ]
  },
  {
   "cell_type": "markdown",
   "metadata": {
    "editable": true,
    "slideshow": {
     "slide_type": ""
    },
    "tags": []
   },
   "source": [
    "One can of course build the SEM from a CLG using `pyAgrum.CLG.SEM.tosem`  :"
   ]
  },
  {
   "cell_type": "code",
   "execution_count": null,
   "metadata": {
    "editable": true,
    "execution": {
     "iopub.status.busy": "2024-10-17T13:40:43.047484Z",
     "iopub.status.idle": "2024-10-17T13:40:43.047599Z",
     "shell.execute_reply": "2024-10-17T13:40:43.047541Z",
     "shell.execute_reply.started": "2024-10-17T13:40:43.047537Z"
    },
    "slideshow": {
     "slide_type": ""
    },
    "tags": []
   },
   "outputs": [],
   "source": [
    "gnb.flow.row(model,\"<pre><div align='left'>\"+gclg.SEM.tosem(model)+\"</div></pre>\",\n",
    "             captions=[\"the first CLG model\",\"the SEM from the CLG\"])"
   ]
  },
  {
   "cell_type": "markdown",
   "metadata": {
    "editable": true,
    "slideshow": {
     "slide_type": ""
    },
    "tags": []
   },
   "source": [
    "And this SEM allows of course input/output format for CLG"
   ]
  },
  {
   "cell_type": "code",
   "execution_count": null,
   "metadata": {
    "editable": true,
    "execution": {
     "iopub.status.busy": "2024-10-17T13:40:43.048118Z",
     "iopub.status.idle": "2024-10-17T13:40:43.048215Z",
     "shell.execute_reply": "2024-10-17T13:40:43.048162Z",
     "shell.execute_reply.started": "2024-10-17T13:40:43.048158Z"
    },
    "slideshow": {
     "slide_type": ""
    },
    "tags": []
   },
   "outputs": [],
   "source": [
    "gclg.SEM.saveCLG(model2,\"out/model2.sem\")\n",
    "\n",
    "print(\"=== file content ===\")\n",
    "with open(\"out/model2.sem\",\"r\") as file:\n",
    "  for line in file.readlines():\n",
    "      print(line,end=\"\")\n",
    "print(\"====================\")"
   ]
  },
  {
   "cell_type": "code",
   "execution_count": null,
   "metadata": {
    "editable": true,
    "execution": {
     "iopub.status.busy": "2024-10-17T13:40:43.048778Z",
     "iopub.status.idle": "2024-10-17T13:40:43.048974Z",
     "shell.execute_reply": "2024-10-17T13:40:43.048880Z",
     "shell.execute_reply.started": "2024-10-17T13:40:43.048873Z"
    },
    "slideshow": {
     "slide_type": ""
    },
    "tags": []
   },
   "outputs": [],
   "source": [
    "model3=gclg.SEM.loadCLG(\"out/model2.sem\")\n",
    "gnb.sideBySide(model2,model3,captions=[\"saved model\",\"loaded model\"])"
   ]
  },
  {
   "cell_type": "markdown",
   "metadata": {},
   "source": [
    "## input/output with pickle"
   ]
  },
  {
   "cell_type": "code",
   "execution_count": null,
   "metadata": {
    "execution": {
     "iopub.status.busy": "2024-10-17T13:40:43.049390Z",
     "iopub.status.idle": "2024-10-17T13:40:43.049491Z",
     "shell.execute_reply": "2024-10-17T13:40:43.049440Z",
     "shell.execute_reply.started": "2024-10-17T13:40:43.049436Z"
    }
   },
   "outputs": [],
   "source": [
    "import pickle\n",
    "with open(\"test.pkl\",\"bw\") as f:\n",
    "  pickle.dump(model3,f)\n",
    "model3"
   ]
  },
  {
   "cell_type": "code",
   "execution_count": null,
   "metadata": {
    "execution": {
     "iopub.status.busy": "2024-10-17T13:40:43.050038Z",
     "iopub.status.idle": "2024-10-17T13:40:43.050142Z",
     "shell.execute_reply": "2024-10-17T13:40:43.050083Z",
     "shell.execute_reply.started": "2024-10-17T13:40:43.050080Z"
    }
   },
   "outputs": [],
   "source": [
    "with open(\"test.pkl\",\"br\") as f:\n",
    "  copyModel3=pickle.load(f)\n",
    "copyModel3"
   ]
  },
  {
   "cell_type": "markdown",
   "metadata": {
    "editable": true,
    "slideshow": {
     "slide_type": ""
    },
    "tags": []
   },
   "source": [
    "## Exact or approximated Inference\n",
    "\n",
    "### Exact inference : Variable Elimination\n",
    "\n",
    "Compute some posterior using difference exact inference"
   ]
  },
  {
   "cell_type": "code",
   "execution_count": null,
   "metadata": {
    "editable": true,
    "execution": {
     "iopub.status.busy": "2024-10-17T13:40:43.050612Z",
     "iopub.status.idle": "2024-10-17T13:40:43.050704Z",
     "shell.execute_reply": "2024-10-17T13:40:43.050653Z",
     "shell.execute_reply.started": "2024-10-17T13:40:43.050649Z"
    },
    "slideshow": {
     "slide_type": ""
    },
    "tags": []
   },
   "outputs": [],
   "source": [
    "ie=gclg.CLGVariableElimination(model2)\n",
    "ie.updateEvidence({\"D\":3})\n",
    "\n",
    "print(ie.posterior(\"A\"))\n",
    "print(ie.posterior(\"B\"))\n",
    "print(ie.posterior(\"C\"))\n",
    "print(ie.posterior(\"D\"))\n",
    "print(ie.posterior(\"E\"))\n",
    "print(ie.posterior(\"F\"))\n",
    "\n",
    "\n",
    "v=ie.posterior(\"E\")\n",
    "print(v)\n",
    "print(f\"  - mean(E|D=3)={v.mu()}\")\n",
    "print(f\"  - stdev(E|D=3)={v.sigma()}\")"
   ]
  },
  {
   "cell_type": "code",
   "execution_count": null,
   "metadata": {
    "editable": true,
    "execution": {
     "iopub.status.busy": "2024-10-17T13:40:43.051098Z",
     "iopub.status.idle": "2024-10-17T13:40:43.051216Z",
     "shell.execute_reply": "2024-10-17T13:40:43.051155Z",
     "shell.execute_reply.started": "2024-10-17T13:40:43.051151Z"
    },
    "slideshow": {
     "slide_type": ""
    },
    "tags": []
   },
   "outputs": [],
   "source": [
    "gnb.sideBySide(model2,gclgnb.getInference(model2,evs={\"D\":3},size=\"3!\"),gclgnb.getInference(model2,evs={\"D\":3,\"F\":1}),\n",
    "              captions=[\"The CLG\",\"First inference\",\"Second inference\"])"
   ]
  },
  {
   "cell_type": "markdown",
   "metadata": {
    "editable": true,
    "slideshow": {
     "slide_type": ""
    },
    "tags": []
   },
   "source": [
    "### Approximated inference : MonteCarlo Sampling\n",
    "\n",
    "When the model is too complex for exact infernece, we can use forward sampling to generate 5000 samples from the original CLG model. "
   ]
  },
  {
   "cell_type": "code",
   "execution_count": null,
   "metadata": {
    "editable": true,
    "execution": {
     "iopub.status.busy": "2024-10-17T13:40:43.051688Z",
     "iopub.status.idle": "2024-10-17T13:40:43.051784Z",
     "shell.execute_reply": "2024-10-17T13:40:43.051733Z",
     "shell.execute_reply.started": "2024-10-17T13:40:43.051729Z"
    },
    "slideshow": {
     "slide_type": ""
    },
    "tags": []
   },
   "outputs": [],
   "source": [
    "fs = gclg.ForwardSampling(model2)\n",
    "fs.makeSample(5000).tocsv(\"./out/model2.csv\")"
   ]
  },
  {
   "cell_type": "markdown",
   "metadata": {
    "editable": true,
    "slideshow": {
     "slide_type": ""
    },
    "tags": []
   },
   "source": [
    "We will use the generated database to do learning. But before, we can also compute posterior but without evidence :"
   ]
  },
  {
   "cell_type": "code",
   "execution_count": null,
   "metadata": {
    "editable": true,
    "execution": {
     "iopub.status.busy": "2024-10-17T13:40:43.052213Z",
     "iopub.status.idle": "2024-10-17T13:40:43.052432Z",
     "shell.execute_reply": "2024-10-17T13:40:43.052343Z",
     "shell.execute_reply.started": "2024-10-17T13:40:43.052334Z"
    },
    "slideshow": {
     "slide_type": ""
    },
    "tags": []
   },
   "outputs": [],
   "source": [
    "ie=gclg.CLGVariableElimination(model2)\n",
    "print(\"| 'Exact' inference                        | Results from sampling                    |\")\n",
    "print(\"|------------------------------------------|------------------------------------------|\")\n",
    "for i in model2.names():\n",
    "    print(f\"| {str(ie.posterior(i)):40} | {str(gclg.GaussianVariable(i,fs.mean_sample(i),fs.stddev_sample(i))):40} |\")"
   ]
  },
  {
   "attachments": {},
   "cell_type": "markdown",
   "metadata": {
    "editable": true,
    "slideshow": {
     "slide_type": ""
    },
    "tags": []
   },
   "source": [
    "Now with the generated database and the original model, we can calculate the log-likelihood of the model."
   ]
  },
  {
   "cell_type": "code",
   "execution_count": null,
   "metadata": {
    "editable": true,
    "execution": {
     "iopub.status.busy": "2024-10-17T13:40:43.052848Z",
     "iopub.status.idle": "2024-10-17T13:40:43.052957Z",
     "shell.execute_reply": "2024-10-17T13:40:43.052902Z",
     "shell.execute_reply.started": "2024-10-17T13:40:43.052899Z"
    },
    "slideshow": {
     "slide_type": ""
    },
    "tags": []
   },
   "outputs": [],
   "source": [
    "print(\"log-likelihood w.r.t orignal model : \", model2.logLikelihood(\"./out/model2.csv\"))"
   ]
  },
  {
   "cell_type": "markdown",
   "metadata": {
    "editable": true,
    "execution": {
     "iopub.execute_input": "2023-09-01T08:55:32.632682Z",
     "iopub.status.busy": "2023-09-01T08:55:32.632177Z",
     "iopub.status.idle": "2023-09-01T08:55:32.637971Z",
     "shell.execute_reply": "2023-09-01T08:55:32.636782Z",
     "shell.execute_reply.started": "2023-09-01T08:55:32.632641Z"
    },
    "slideshow": {
     "slide_type": ""
    },
    "tags": []
   },
   "source": [
    "## Learning a CLG from data"
   ]
  },
  {
   "attachments": {},
   "cell_type": "markdown",
   "metadata": {
    "editable": true,
    "slideshow": {
     "slide_type": ""
    },
    "tags": []
   },
   "source": [
    "Use the generated database to do our RAvel Learning. This part needs some time to run."
   ]
  },
  {
   "cell_type": "code",
   "execution_count": null,
   "metadata": {
    "editable": true,
    "execution": {
     "iopub.status.busy": "2024-10-17T13:40:43.053474Z",
     "iopub.status.idle": "2024-10-17T13:40:43.053577Z",
     "shell.execute_reply": "2024-10-17T13:40:43.053522Z",
     "shell.execute_reply.started": "2024-10-17T13:40:43.053518Z"
    },
    "slideshow": {
     "slide_type": ""
    },
    "tags": []
   },
   "outputs": [],
   "source": [
    "# RAveL learning\n",
    "learner = gclg.CLGLearner(\"./out/model2.csv\")"
   ]
  },
  {
   "attachments": {},
   "cell_type": "markdown",
   "metadata": {
    "editable": true,
    "slideshow": {
     "slide_type": ""
    },
    "tags": []
   },
   "source": [
    "We can get the learned_clg model with function learn_clg() which contains structure learning and parameter estimation."
   ]
  },
  {
   "cell_type": "code",
   "execution_count": null,
   "metadata": {
    "editable": true,
    "execution": {
     "iopub.status.busy": "2024-10-17T13:40:43.054002Z",
     "iopub.status.idle": "2024-10-17T13:40:43.054150Z",
     "shell.execute_reply": "2024-10-17T13:40:43.054078Z",
     "shell.execute_reply.started": "2024-10-17T13:40:43.054073Z"
    },
    "slideshow": {
     "slide_type": ""
    },
    "tags": []
   },
   "outputs": [],
   "source": [
    "learned_clg = learner.learnCLG()\n",
    "gnb.sideBySide(model2,learned_clg,\n",
    "              captions=['original CLG','learned CLG'])"
   ]
  },
  {
   "attachments": {},
   "cell_type": "markdown",
   "metadata": {
    "editable": true,
    "slideshow": {
     "slide_type": ""
    },
    "tags": []
   },
   "source": [
    "Compare the learned model's structure with that of the original model'."
   ]
  },
  {
   "cell_type": "code",
   "execution_count": null,
   "metadata": {
    "editable": true,
    "execution": {
     "iopub.status.busy": "2024-10-17T13:40:43.054712Z",
     "iopub.status.idle": "2024-10-17T13:40:43.054828Z",
     "shell.execute_reply": "2024-10-17T13:40:43.054767Z",
     "shell.execute_reply.started": "2024-10-17T13:40:43.054761Z"
    },
    "slideshow": {
     "slide_type": ""
    },
    "tags": []
   },
   "outputs": [],
   "source": [
    "cmp=gcm.GraphicalBNComparator(model2,learned_clg)\n",
    "print(f\"F-score(original_clg,learned_clg) : {cmp.scores()['fscore']}\")"
   ]
  },
  {
   "attachments": {},
   "cell_type": "markdown",
   "metadata": {
    "editable": true,
    "slideshow": {
     "slide_type": ""
    },
    "tags": []
   },
   "source": [
    "Get the learned model's parameters and compare them with the original model's parameters using the SEM syntax."
   ]
  },
  {
   "cell_type": "code",
   "execution_count": null,
   "metadata": {
    "editable": true,
    "execution": {
     "iopub.status.busy": "2024-10-17T13:40:43.055208Z",
     "iopub.status.idle": "2024-10-17T13:40:43.055480Z",
     "shell.execute_reply": "2024-10-17T13:40:43.055371Z",
     "shell.execute_reply.started": "2024-10-17T13:40:43.055360Z"
    },
    "slideshow": {
     "slide_type": ""
    },
    "tags": []
   },
   "outputs": [],
   "source": [
    "gnb.flow.row(\"<pre><div align='left'>\"+gclg.SEM.tosem(model2)+\"</div></pre>\",\n",
    "             \"<pre><div align='left'>\"+gclg.SEM.tosem(learned_clg)+\"</div></pre>\",\n",
    "             captions=[\"original sem\",\"learned sem\"])"
   ]
  },
  {
   "attachments": {},
   "cell_type": "markdown",
   "metadata": {
    "editable": true,
    "slideshow": {
     "slide_type": ""
    },
    "tags": []
   },
   "source": [
    "We can algo do parameter estimation only with function fitParameters() if we already have the structure of the model."
   ]
  },
  {
   "cell_type": "code",
   "execution_count": null,
   "metadata": {
    "editable": true,
    "execution": {
     "iopub.status.busy": "2024-10-17T13:40:43.056162Z",
     "iopub.status.idle": "2024-10-17T13:40:43.056275Z",
     "shell.execute_reply": "2024-10-17T13:40:43.056219Z",
     "shell.execute_reply.started": "2024-10-17T13:40:43.056215Z"
    },
    "slideshow": {
     "slide_type": ""
    },
    "tags": []
   },
   "outputs": [],
   "source": [
    "# We can copy the original CLG\n",
    "copy_original = gclg.CLG(model2)\n",
    "\n",
    "# RAveL learning again\n",
    "RAveL_l = gclg.CLGLearner(\"./out/model2.csv\")\n",
    "\n",
    "# Fit the parameters of the copy clg\n",
    "RAveL_l.fitParameters(copy_original)\n",
    "\n",
    "copy_original"
   ]
  },
  {
   "attachments": {},
   "cell_type": "markdown",
   "metadata": {
    "editable": true,
    "slideshow": {
     "slide_type": ""
    },
    "tags": []
   },
   "source": [
    "## Compare two CLG models"
   ]
  },
  {
   "attachments": {},
   "cell_type": "markdown",
   "metadata": {
    "editable": true,
    "slideshow": {
     "slide_type": ""
    },
    "tags": []
   },
   "source": [
    "We first create two CLG from two SEMs."
   ]
  },
  {
   "cell_type": "code",
   "execution_count": null,
   "metadata": {
    "editable": true,
    "execution": {
     "iopub.status.busy": "2024-10-17T13:40:43.056976Z",
     "iopub.status.idle": "2024-10-17T13:40:43.057115Z",
     "shell.execute_reply": "2024-10-17T13:40:43.057038Z",
     "shell.execute_reply.started": "2024-10-17T13:40:43.057033Z"
    },
    "slideshow": {
     "slide_type": ""
    },
    "tags": []
   },
   "outputs": [],
   "source": [
    "# TWO DIFFERENT CLGs\n",
    "\n",
    "# FIRST CLG\n",
    "clg1=gclg.SEM.toclg(\"\"\"\n",
    "# hyper parameters\n",
    "A=4[1]\n",
    "B=3[5]\n",
    "C=-2[5]\n",
    "\n",
    "#equations\n",
    "D=A[.2] # D is a noisy version of A\n",
    "E=1+D+2B [2]\n",
    "F=E+C+B+E [0.001]\n",
    "\"\"\")\n",
    "\n",
    "# SECOND CLG\n",
    "clg2=gclg.SEM.toclg(\"\"\"\n",
    "# hyper parameters\n",
    "A=4[1]\n",
    "B=3+A[5]\n",
    "C=-2+2B+A[5]\n",
    "\n",
    "#equations\n",
    "D=A[.2] # D is a noisy version of A\n",
    "E=1+D+2B [2]\n",
    "F=E+C [0.001]\n",
    "\"\"\")"
   ]
  },
  {
   "attachments": {},
   "cell_type": "markdown",
   "metadata": {
    "editable": true,
    "slideshow": {
     "slide_type": ""
    },
    "tags": []
   },
   "source": [
    "This cell shows how to have a quick view of the differences "
   ]
  },
  {
   "cell_type": "code",
   "execution_count": null,
   "metadata": {
    "editable": true,
    "execution": {
     "iopub.status.busy": "2024-10-17T13:40:43.057759Z",
     "iopub.status.idle": "2024-10-17T13:40:43.057865Z",
     "shell.execute_reply": "2024-10-17T13:40:43.057808Z",
     "shell.execute_reply.started": "2024-10-17T13:40:43.057804Z"
    },
    "slideshow": {
     "slide_type": ""
    },
    "tags": []
   },
   "outputs": [],
   "source": [
    "print(gum.config)"
   ]
  },
  {
   "cell_type": "code",
   "execution_count": null,
   "metadata": {
    "editable": true,
    "execution": {
     "iopub.status.busy": "2024-10-17T13:40:43.058295Z",
     "iopub.status.idle": "2024-10-17T13:40:43.058505Z",
     "shell.execute_reply": "2024-10-17T13:40:43.058425Z",
     "shell.execute_reply.started": "2024-10-17T13:40:43.058417Z"
    },
    "slideshow": {
     "slide_type": ""
    },
    "tags": []
   },
   "outputs": [],
   "source": [
    "gnb.flow.row(clg1,clg2,gcm.graphDiff(clg1,clg2),\n",
    "             gcm.graphDiffLegend(),\n",
    "             gcm.graphDiff(clg2,clg1))"
   ]
  },
  {
   "attachments": {},
   "cell_type": "markdown",
   "metadata": {
    "editable": true,
    "slideshow": {
     "slide_type": ""
    },
    "tags": []
   },
   "source": [
    "We compare the CLG models."
   ]
  },
  {
   "cell_type": "code",
   "execution_count": null,
   "metadata": {
    "editable": true,
    "execution": {
     "iopub.status.busy": "2024-10-17T13:40:43.059094Z",
     "iopub.status.idle": "2024-10-17T13:40:43.059211Z",
     "shell.execute_reply": "2024-10-17T13:40:43.059142Z",
     "shell.execute_reply.started": "2024-10-17T13:40:43.059138Z"
    },
    "slideshow": {
     "slide_type": ""
    },
    "tags": []
   },
   "outputs": [],
   "source": [
    "# We use the F-score to compare the two CLGs\n",
    "cmp=gcm.GraphicalBNComparator(clg1,clg1)\n",
    "print(f\"F-score(clg1,clg1) : {cmp.scores()['fscore']}\")\n",
    "\n",
    "cmp=gcm.GraphicalBNComparator(clg1,clg2)\n",
    "print(f\"F-score(clg1,clg2) : {cmp.scores()['fscore']}\")\n"
   ]
  },
  {
   "cell_type": "code",
   "execution_count": null,
   "metadata": {
    "editable": true,
    "execution": {
     "iopub.status.busy": "2024-10-17T13:40:43.059580Z",
     "iopub.status.idle": "2024-10-17T13:40:43.059709Z",
     "shell.execute_reply": "2024-10-17T13:40:43.059646Z",
     "shell.execute_reply.started": "2024-10-17T13:40:43.059641Z"
    },
    "slideshow": {
     "slide_type": ""
    },
    "tags": []
   },
   "outputs": [],
   "source": [
    "# The complete list of structural scores is :\n",
    "print(\"score(clg1,clg2) :\")\n",
    "for score,val in cmp.scores().items():\n",
    "  print(f\"  - {score} : {val}\")"
   ]
  },
  {
   "attachments": {},
   "cell_type": "markdown",
   "metadata": {
    "editable": true,
    "slideshow": {
     "slide_type": ""
    },
    "tags": []
   },
   "source": [
    "## Forward Sampling"
   ]
  },
  {
   "cell_type": "code",
   "execution_count": null,
   "metadata": {
    "editable": true,
    "execution": {
     "iopub.status.busy": "2024-10-17T13:40:43.060357Z",
     "iopub.status.idle": "2024-10-17T13:40:43.060468Z",
     "shell.execute_reply": "2024-10-17T13:40:43.060414Z",
     "shell.execute_reply.started": "2024-10-17T13:40:43.060409Z"
    },
    "slideshow": {
     "slide_type": ""
    },
    "tags": []
   },
   "outputs": [],
   "source": [
    "# We create a simple CLG with 3 variables\n",
    "clg = gclg.CLG()\n",
    "# prog=« sigma=2;X=N(5);Y=N(3);Z=X+Y »\n",
    "A = gclg.GaussianVariable(mu=2, sigma=1, name='A')\n",
    "B = gclg.GaussianVariable(mu=1, sigma=2, name='B')\n",
    "C = gclg.GaussianVariable(mu=2, sigma=3, name='C')\n",
    "  \n",
    "idA = clg.add(A)\n",
    "idB = clg.add(B)\n",
    "idC = clg.add(C)\n",
    "\n",
    "clg.addArc(idA, idB, 1.5)\n",
    "clg.addArc(idB, idC, 0.75)\n",
    "\n",
    "# We can show it as a graph\n",
    "original_clg = gclgnb.CLG2dot(clg)\n",
    "original_clg"
   ]
  },
  {
   "cell_type": "code",
   "execution_count": null,
   "metadata": {
    "editable": true,
    "execution": {
     "iopub.status.busy": "2024-10-17T13:40:43.060982Z",
     "iopub.status.idle": "2024-10-17T13:40:43.061109Z",
     "shell.execute_reply": "2024-10-17T13:40:43.061033Z",
     "shell.execute_reply.started": "2024-10-17T13:40:43.061028Z"
    },
    "slideshow": {
     "slide_type": ""
    },
    "tags": []
   },
   "outputs": [],
   "source": [
    "fs = gclg.ForwardSampling(clg)\n",
    "fs.makeSample(10)"
   ]
  },
  {
   "cell_type": "code",
   "execution_count": null,
   "metadata": {
    "editable": true,
    "execution": {
     "iopub.status.busy": "2024-10-17T13:40:43.061376Z",
     "iopub.status.idle": "2024-10-17T13:40:43.061553Z",
     "shell.execute_reply": "2024-10-17T13:40:43.061469Z",
     "shell.execute_reply.started": "2024-10-17T13:40:43.061462Z"
    },
    "jupyter": {
     "source_hidden": true
    },
    "slideshow": {
     "slide_type": ""
    },
    "tags": []
   },
   "outputs": [],
   "source": [
    "print(\"A's sample_variance: \", fs.variance_sample(0))\n",
    "print(\"B's sample_variance: \", fs.variance_sample('B'))\n",
    "print(\"C's sample_variance: \", fs.variance_sample(2))"
   ]
  },
  {
   "cell_type": "code",
   "execution_count": null,
   "metadata": {
    "editable": true,
    "execution": {
     "iopub.status.busy": "2024-10-17T13:40:43.062178Z",
     "iopub.status.idle": "2024-10-17T13:40:43.062336Z",
     "shell.execute_reply": "2024-10-17T13:40:43.062250Z",
     "shell.execute_reply.started": "2024-10-17T13:40:43.062245Z"
    },
    "slideshow": {
     "slide_type": ""
    },
    "tags": []
   },
   "outputs": [],
   "source": [
    "print(\"A's sample_mean: \", fs.mean_sample('A'))\n",
    "print(\"B's sample_mean: \", fs.mean_sample('B'))\n",
    "print(\"C's sample_mean: \", fs.mean_sample('C'))"
   ]
  },
  {
   "cell_type": "code",
   "execution_count": null,
   "metadata": {
    "editable": true,
    "execution": {
     "iopub.status.busy": "2024-10-17T13:40:43.063060Z",
     "iopub.status.idle": "2024-10-17T13:40:43.063182Z",
     "shell.execute_reply": "2024-10-17T13:40:43.063114Z",
     "shell.execute_reply.started": "2024-10-17T13:40:43.063109Z"
    },
    "slideshow": {
     "slide_type": ""
    },
    "tags": []
   },
   "outputs": [],
   "source": [
    "fs.toarray()"
   ]
  },
  {
   "cell_type": "code",
   "execution_count": null,
   "metadata": {
    "editable": true,
    "execution": {
     "iopub.status.busy": "2024-10-17T13:40:43.063857Z",
     "iopub.status.idle": "2024-10-17T13:40:43.063953Z",
     "shell.execute_reply": "2024-10-17T13:40:43.063902Z",
     "shell.execute_reply.started": "2024-10-17T13:40:43.063898Z"
    },
    "slideshow": {
     "slide_type": ""
    },
    "tags": []
   },
   "outputs": [],
   "source": [
    "# export to dataframe\n",
    "fs.topandas()"
   ]
  },
  {
   "cell_type": "code",
   "execution_count": null,
   "metadata": {
    "editable": true,
    "execution": {
     "iopub.status.busy": "2024-10-17T13:40:43.064625Z",
     "iopub.status.idle": "2024-10-17T13:40:43.064855Z",
     "shell.execute_reply": "2024-10-17T13:40:43.064774Z",
     "shell.execute_reply.started": "2024-10-17T13:40:43.064769Z"
    },
    "slideshow": {
     "slide_type": ""
    },
    "tags": []
   },
   "outputs": [],
   "source": [
    "# export to csv\n",
    "fs.makeSample(10000)\n",
    "fs.tocsv('./out/samples.csv')"
   ]
  },
  {
   "attachments": {},
   "cell_type": "markdown",
   "metadata": {
    "editable": true,
    "slideshow": {
     "slide_type": ""
    },
    "tags": []
   },
   "source": [
    "## PC-algorithm & Parameter Estimation"
   ]
  },
  {
   "attachments": {},
   "cell_type": "markdown",
   "metadata": {
    "editable": true,
    "slideshow": {
     "slide_type": ""
    },
    "tags": []
   },
   "source": [
    "The module allows to investigale more deeply into the learning algorithm.\n",
    "\n",
    "We first create a random CLG model with 5 variables."
   ]
  },
  {
   "cell_type": "code",
   "execution_count": null,
   "metadata": {
    "editable": true,
    "execution": {
     "iopub.status.busy": "2024-10-17T13:40:43.065261Z",
     "iopub.status.idle": "2024-10-17T13:40:43.065381Z",
     "shell.execute_reply": "2024-10-17T13:40:43.065309Z",
     "shell.execute_reply.started": "2024-10-17T13:40:43.065306Z"
    },
    "slideshow": {
     "slide_type": ""
    },
    "tags": []
   },
   "outputs": [],
   "source": [
    "# Create a new random CLG\n",
    "clg = gclg.randomCLG(nb_variables=5, names=\"ABCDE\")\n",
    "\n",
    "# Display the CLG\n",
    "print(clg)"
   ]
  },
  {
   "attachments": {},
   "cell_type": "markdown",
   "metadata": {
    "editable": true,
    "slideshow": {
     "slide_type": ""
    },
    "tags": []
   },
   "source": [
    "We then do the Forward Sampling and CLGLearner."
   ]
  },
  {
   "cell_type": "code",
   "execution_count": null,
   "metadata": {
    "editable": true,
    "execution": {
     "iopub.status.busy": "2024-10-17T13:40:43.065819Z",
     "iopub.status.idle": "2024-10-17T13:40:43.065916Z",
     "shell.execute_reply": "2024-10-17T13:40:43.065870Z",
     "shell.execute_reply.started": "2024-10-17T13:40:43.065866Z"
    },
    "slideshow": {
     "slide_type": ""
    },
    "tags": []
   },
   "outputs": [],
   "source": [
    "n = 20 # n is the selected values of MC number n in n-MCERA\n",
    "K = 10000 # K is the list of selected values of number of samples\n",
    "Delta = 0.05 # Delta is the FWER we want to control\n",
    "\n",
    "# Sample generation\n",
    "fs = gclg.ForwardSampling(clg)\n",
    "fs.makeSample(K).tocsv('./out/clg.csv')\n",
    "\n",
    "# Learning\n",
    "RAveL_l = gclg.CLGLearner('./out/clg.csv',n_sample=n,fwer_delta=Delta)"
   ]
  },
  {
   "attachments": {},
   "cell_type": "markdown",
   "metadata": {
    "editable": true,
    "slideshow": {
     "slide_type": ""
    },
    "tags": []
   },
   "source": [
    "We use the PC algorithme to learn the structure of the model."
   ]
  },
  {
   "cell_type": "code",
   "execution_count": null,
   "metadata": {
    "editable": true,
    "execution": {
     "iopub.status.busy": "2024-10-17T13:40:43.066635Z",
     "iopub.status.idle": "2024-10-17T13:40:43.066778Z",
     "shell.execute_reply": "2024-10-17T13:40:43.066699Z",
     "shell.execute_reply.started": "2024-10-17T13:40:43.066688Z"
    },
    "slideshow": {
     "slide_type": ""
    },
    "tags": []
   },
   "outputs": [],
   "source": [
    "# Use the PC algorithm to get the skeleton\n",
    "C = RAveL_l.PC_algorithm(order=clg.nodes(), verbose=False)\n",
    "print(\"The final skeleton is:\\n\", C)"
   ]
  },
  {
   "cell_type": "code",
   "execution_count": null,
   "metadata": {
    "editable": true,
    "execution": {
     "iopub.status.busy": "2024-10-17T13:40:43.067433Z",
     "iopub.status.idle": "2024-10-17T13:40:43.067579Z",
     "shell.execute_reply": "2024-10-17T13:40:43.067501Z",
     "shell.execute_reply.started": "2024-10-17T13:40:43.067496Z"
    },
    "slideshow": {
     "slide_type": ""
    },
    "tags": []
   },
   "outputs": [],
   "source": [
    "# Create a Mixedgraph to display the skeleton\n",
    "RAveL_MixGraph = gum.MixedGraph()\n",
    "\n",
    "# Add variables\n",
    "for i in range(len(clg.names())):\n",
    "  RAveL_MixGraph.addNodeWithId(i)\n",
    "\n",
    "# Add arcs and edges\n",
    "for father, kids in C.items():\n",
    "  for kid in kids:\n",
    "    if father in C[kid]:\n",
    "      RAveL_MixGraph.addEdge(father, kid)\n",
    "    else:\n",
    "      RAveL_MixGraph.addArc(father, kid)\n",
    "\n",
    "RAveL_MixGraph"
   ]
  },
  {
   "cell_type": "code",
   "execution_count": null,
   "metadata": {
    "editable": true,
    "execution": {
     "iopub.status.busy": "2024-10-17T13:40:43.068010Z",
     "iopub.status.idle": "2024-10-17T13:40:43.068194Z",
     "shell.execute_reply": "2024-10-17T13:40:43.068129Z",
     "shell.execute_reply.started": "2024-10-17T13:40:43.068123Z"
    },
    "slideshow": {
     "slide_type": ""
    },
    "tags": []
   },
   "outputs": [],
   "source": [
    "# Create a BN with the same structure as the CLG\n",
    "bn = gum.BayesNet()\n",
    "# add variables\n",
    "for name in clg.names():\n",
    "  new_variable = gum.LabelizedVariable(name,'a labelized variable',2)\n",
    "  bn.add(new_variable)\n",
    "# add arcs\n",
    "for arc in clg.arcs():\n",
    "  bn.addArc(arc[0], arc[1])\n",
    "\n",
    "# Compare the result above with the EssentialGraph\n",
    "Real_EssentialGraph = gum.EssentialGraph(bn)\n",
    "\n",
    "Real_EssentialGraph"
   ]
  },
  {
   "cell_type": "code",
   "execution_count": null,
   "metadata": {
    "editable": true,
    "execution": {
     "iopub.status.busy": "2024-10-17T13:40:43.068439Z",
     "iopub.status.idle": "2024-10-17T13:40:43.068544Z",
     "shell.execute_reply": "2024-10-17T13:40:43.068482Z",
     "shell.execute_reply.started": "2024-10-17T13:40:43.068478Z"
    },
    "slideshow": {
     "slide_type": ""
    },
    "tags": []
   },
   "outputs": [],
   "source": [
    "# create a CLG from the skeleton of PC algorithm\n",
    "clg_PC = gclg.CLG()\n",
    "for node in clg.nodes():\n",
    "  clg_PC.add(clg.variable(node))\n",
    "for father,kids in C.items():\n",
    "  for kid in kids:\n",
    "    clg_PC.addArc(father, kid)\n",
    "\n",
    "# Compare the structure of the created CLG and the original CLG\n",
    "print(f\"F-score : {clg.CompareStructure(clg_PC)}\")"
   ]
  },
  {
   "attachments": {},
   "cell_type": "markdown",
   "metadata": {
    "editable": true,
    "slideshow": {
     "slide_type": ""
    },
    "tags": []
   },
   "source": [
    "We can also do the parameter learning."
   ]
  },
  {
   "cell_type": "code",
   "execution_count": null,
   "metadata": {
    "editable": true,
    "execution": {
     "iopub.status.busy": "2024-10-17T13:40:43.068870Z",
     "iopub.status.idle": "2024-10-17T13:40:43.068960Z",
     "shell.execute_reply": "2024-10-17T13:40:43.068911Z",
     "shell.execute_reply.started": "2024-10-17T13:40:43.068907Z"
    },
    "slideshow": {
     "slide_type": ""
    },
    "tags": []
   },
   "outputs": [],
   "source": [
    "id2mu, id2sigma, arc2coef = RAveL_l.estimate_parameters(C)\n",
    "\n",
    "for node in clg.nodes():\n",
    "  print(f\"Real Value: node {node} : mu = {clg.variable(node)._mu}, sigma = {clg.variable(node)._sigma}\")\n",
    "  print(f\"Estimation: node {node} : mu = {id2mu[node]}, sigma = {id2sigma[node]}\")\n",
    "\n",
    "\n",
    "for arc in clg.arcs():\n",
    "  print(f\"Real Value: arc {arc} : coef = {clg.coefArc(*arc)}\")\n",
    "  print(f\"Estimation: arc {arc} : coef = {(arc2coef[arc] if arc in arc2coef else '-')}\")"
   ]
  },
  {
   "cell_type": "code",
   "execution_count": null,
   "metadata": {
    "editable": true,
    "slideshow": {
     "slide_type": ""
    },
    "tags": []
   },
   "outputs": [],
   "source": []
  }
 ],
 "metadata": {
  "kernelspec": {
   "display_name": "Python 3 (ipykernel)",
   "language": "python",
   "name": "python3"
  },
  "language_info": {
   "codemirror_mode": {
    "name": "ipython",
    "version": 3
   },
   "file_extension": ".py",
   "mimetype": "text/x-python",
   "name": "python",
   "nbconvert_exporter": "python",
   "pygments_lexer": "ipython3",
   "version": "3.13.0"
  }
 },
 "nbformat": 4,
 "nbformat_minor": 4
}
