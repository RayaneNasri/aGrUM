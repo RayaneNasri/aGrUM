{
 "cells": [
  {
   "cell_type": "markdown",
   "metadata": {},
   "source": [
    "# Learning and causality"
   ]
  },
  {
   "cell_type": "markdown",
   "metadata": {},
   "source": [
    "| | | |\n",
    "|-|-|-|\n",
    "|[ ![Creative Commons License](images/cc4.png)](http://creativecommons.org/licenses/by-nc/4.0/) |[ ![aGrUM](images/logoAgrum.png)](https://agrum.org) |[ ![interactive online version](images/atbinder.svg)](https://agrum.gitlab.io/extra/agrum_at_binder.html)"
   ]
  },
  {
   "cell_type": "code",
   "execution_count": 1,
   "metadata": {
    "ExecuteTime": {
     "end_time": "2019-04-20T13:55:28.004432Z",
     "start_time": "2019-04-20T13:55:27.768067Z"
    }
   },
   "outputs": [],
   "source": [
    "import pyAgrum as gum\n",
    "import pyAgrum.lib.notebook as gnb"
   ]
  },
  {
   "cell_type": "markdown",
   "metadata": {},
   "source": [
    "## Model"
   ]
  },
  {
   "cell_type": "markdown",
   "metadata": {},
   "source": [
    "Let's assume a process $X_1\\rightarrow Y_1$ with a control on $X_1$ by $C_a$ and a parameter $P_b$ on $Y_1$."
   ]
  },
  {
   "cell_type": "code",
   "execution_count": 2,
   "metadata": {
    "ExecuteTime": {
     "end_time": "2019-04-20T13:55:29.719565Z",
     "start_time": "2019-04-20T13:55:28.006817Z"
    },
    "tags": []
   },
   "outputs": [
    {
     "data": {
      "text/html": [
       "\n",
       "      <style>\n",
       "      .floating-box {\n",
       "      display: inline-block;\n",
       "      margin: 7px;\n",
       "      padding : 3px;\n",
       "      border: 2px solid #FFFFFF;  \n",
       "      valign:middle;\n",
       "      background-color: #FDFDFD;\n",
       "      }\n",
       "      </style>\n",
       "      <div class=\"floating-box\"><svg xmlns=\"http://www.w3.org/2000/svg\" xmlns:xlink=\"http://www.w3.org/1999/xlink\" width=\"134pt\" height=\"188pt\" viewBox=\"0.00 0.00 134.00 188.00\">\n",
       "<g id=\"graph0\" class=\"graph\" transform=\"scale(1 1) rotate(0) translate(4 184)\">\n",
       "<title>G</title>\n",
       "<!-- X1 -->\n",
       "<g id=\"node1\" class=\"node\">\n",
       "<title>X1</title>\n",
       "<g id=\"a_node1\"><a xlink:title=\"(1) X1\">\n",
       "<ellipse fill=\"#404040\" stroke=\"black\" cx=\"99\" cy=\"-90\" rx=\"27\" ry=\"18\"/>\n",
       "<text text-anchor=\"middle\" x=\"99\" y=\"-86.3\" font-family=\"Times,serif\" font-size=\"14.00\" fill=\"white\">X1</text>\n",
       "</a>\n",
       "</g>\n",
       "</g>\n",
       "<!-- Y1 -->\n",
       "<g id=\"node4\" class=\"node\">\n",
       "<title>Y1</title>\n",
       "<g id=\"a_node4\"><a xlink:title=\"(2) Y1\">\n",
       "<ellipse fill=\"#404040\" stroke=\"black\" cx=\"63\" cy=\"-18\" rx=\"27\" ry=\"18\"/>\n",
       "<text text-anchor=\"middle\" x=\"63\" y=\"-14.3\" font-family=\"Times,serif\" font-size=\"14.00\" fill=\"white\">Y1</text>\n",
       "</a>\n",
       "</g>\n",
       "</g>\n",
       "<!-- X1&#45;&gt;Y1 -->\n",
       "<g id=\"edge3\" class=\"edge\">\n",
       "<title>X1-&gt;Y1</title>\n",
       "<g id=\"a_edge3\"><a xlink:title=\"(1, 2) : \">\n",
       "<path fill=\"none\" stroke=\"#4a4a4a\" d=\"M90.65,-72.76C86.29,-64.28 80.85,-53.71 75.96,-44.2\"/>\n",
       "<polygon fill=\"#4a4a4a\" stroke=\"#4a4a4a\" points=\"78.99,-42.44 71.3,-35.15 72.77,-45.64 78.99,-42.44\"/>\n",
       "</a>\n",
       "</g>\n",
       "</g>\n",
       "<!-- Ca -->\n",
       "<g id=\"node2\" class=\"node\">\n",
       "<title>Ca</title>\n",
       "<g id=\"a_node2\"><a xlink:title=\"(0) Ca\">\n",
       "<ellipse fill=\"#404040\" stroke=\"black\" cx=\"99\" cy=\"-162\" rx=\"27\" ry=\"18\"/>\n",
       "<text text-anchor=\"middle\" x=\"99\" y=\"-158.3\" font-family=\"Times,serif\" font-size=\"14.00\" fill=\"white\">Ca</text>\n",
       "</a>\n",
       "</g>\n",
       "</g>\n",
       "<!-- Ca&#45;&gt;X1 -->\n",
       "<g id=\"edge1\" class=\"edge\">\n",
       "<title>Ca-&gt;X1</title>\n",
       "<g id=\"a_edge1\"><a xlink:title=\"(0, 1) : \">\n",
       "<path fill=\"none\" stroke=\"#4a4a4a\" d=\"M99,-143.7C99,-135.98 99,-126.71 99,-118.11\"/>\n",
       "<polygon fill=\"#4a4a4a\" stroke=\"#4a4a4a\" points=\"102.5,-118.1 99,-108.1 95.5,-118.1 102.5,-118.1\"/>\n",
       "</a>\n",
       "</g>\n",
       "</g>\n",
       "<!-- Pb -->\n",
       "<g id=\"node3\" class=\"node\">\n",
       "<title>Pb</title>\n",
       "<g id=\"a_node3\"><a xlink:title=\"(3) Pb\">\n",
       "<ellipse fill=\"#404040\" stroke=\"black\" cx=\"27\" cy=\"-90\" rx=\"27\" ry=\"18\"/>\n",
       "<text text-anchor=\"middle\" x=\"27\" y=\"-86.3\" font-family=\"Times,serif\" font-size=\"14.00\" fill=\"white\">Pb</text>\n",
       "</a>\n",
       "</g>\n",
       "</g>\n",
       "<!-- Pb&#45;&gt;Y1 -->\n",
       "<g id=\"edge2\" class=\"edge\">\n",
       "<title>Pb-&gt;Y1</title>\n",
       "<g id=\"a_edge2\"><a xlink:title=\"(3, 2) : \">\n",
       "<path fill=\"none\" stroke=\"#4a4a4a\" d=\"M35.35,-72.76C39.71,-64.28 45.15,-53.71 50.04,-44.2\"/>\n",
       "<polygon fill=\"#4a4a4a\" stroke=\"#4a4a4a\" points=\"53.23,-45.64 54.7,-35.15 47.01,-42.44 53.23,-45.64\"/>\n",
       "</a>\n",
       "</g>\n",
       "</g>\n",
       "</g>\n",
       "</svg></div><div class=\"floating-box\"><table style=\"border:1px solid black;\">\n",
       "<tr style='border:1px solid black;color:black;background-color:#808080'>\n",
       "      <th colspan='2'><center>Ca</center></th></tr>\n",
       "<tr><th style='border:1px solid black;border-bottom-style: double;color:black;background-color:#BBBBBB'>\n",
       "      <center>0</center></th><th style='border:1px solid black;border-bottom-style: double;color:black;background-color:#BBBBBB'>\n",
       "      <center>1</center></th></tr>\n",
       "<tr><td style='color:black;background-color:#98e564;text-align:right;'>0.8000</td><td style='color:black;background-color:#e59864;text-align:right;'>0.2000</td></tr>\n",
       "</table></div><div class=\"floating-box\"><table style=\"border:1px solid black;\">\n",
       "<tr><th colspan='1'></th>\n",
       "      <th colspan='2' style='border:1px solid black;color:black;background-color:#808080;'><center>X1</center>\n",
       "      </th></tr>\n",
       "<tr><th style='border:1px solid black;color:black;background-color:#808080'><center>Ca</center></th><th style='border:1px solid black;border-bottom-style: double;color:black;background-color:#BBBBBB'>\n",
       "      <center>0</center></th><th style='border:1px solid black;border-bottom-style: double;color:black;background-color:#BBBBBB'>\n",
       "      <center>1</center></th></tr>\n",
       "<tr><th style='border:1px solid black;color:black;background-color:#BBBBBB'><center>0</center></th><td style='color:black;background-color:#8bf264;text-align:right;'>0.9000</td><td style='color:black;background-color:#f28b64;text-align:right;'>0.1000</td></tr>\n",
       "<tr><th style='border:1px solid black;color:black;background-color:#BBBBBB'><center>1</center></th><td style='color:black;background-color:#f28b64;text-align:right;'>0.1000</td><td style='color:black;background-color:#8bf264;text-align:right;'>0.9000</td></tr>\n",
       "</table></div><div class=\"floating-box\"><table style=\"border:1px solid black;\">\n",
       "<tr><th colspan='2'></th>\n",
       "      <th colspan='2' style='border:1px solid black;color:black;background-color:#808080;'><center>Y1</center>\n",
       "      </th></tr>\n",
       "<tr><th style='border:1px solid black;color:black;background-color:#808080'><center>Pb</center></th><th style='border:1px solid black;color:black;background-color:#808080'><center>X1</center></th><th style='border:1px solid black;border-bottom-style: double;color:black;background-color:#BBBBBB'>\n",
       "      <center>0</center></th><th style='border:1px solid black;border-bottom-style: double;color:black;background-color:#BBBBBB'>\n",
       "      <center>1</center></th></tr>\n",
       "<tr><th style='border:1px solid black;color:black;background-color:#BBBBBB;' rowspan = '2'>\n",
       "            <center>0</center></th><th style='border:1px solid black;color:black;background-color:#BBBBBB'><center>0</center></th><td style='color:black;background-color:#98e564;text-align:right;'>0.8000</td><td style='color:black;background-color:#e59864;text-align:right;'>0.2000</td></tr>\n",
       "<tr><th style='border:1px solid black;color:black;background-color:#BBBBBB'><center>1</center></th><td style='color:black;background-color:#e59864;text-align:right;'>0.2000</td><td style='color:black;background-color:#98e564;text-align:right;'>0.8000</td></tr>\n",
       "<tr><th style='border:1px solid black;color:black;background-color:#BBBBBB;' rowspan = '2'>\n",
       "            <center>1</center></th><th style='border:1px solid black;color:black;background-color:#BBBBBB'><center>0</center></th><td style='color:black;background-color:#b2cb64;text-align:right;'>0.6000</td><td style='color:black;background-color:#cbb264;text-align:right;'>0.4000</td></tr>\n",
       "<tr><th style='border:1px solid black;color:black;background-color:#BBBBBB'><center>1</center></th><td style='color:black;background-color:#cbb264;text-align:right;'>0.4000</td><td style='color:black;background-color:#b2cb64;text-align:right;'>0.6000</td></tr>\n",
       "</table></div><div class=\"floating-box\"><table style=\"border:1px solid black;\">\n",
       "<tr style='border:1px solid black;color:black;background-color:#808080'>\n",
       "      <th colspan='2'><center>Pb</center></th></tr>\n",
       "<tr><th style='border:1px solid black;border-bottom-style: double;color:black;background-color:#BBBBBB'>\n",
       "      <center>0</center></th><th style='border:1px solid black;border-bottom-style: double;color:black;background-color:#BBBBBB'>\n",
       "      <center>1</center></th></tr>\n",
       "<tr><td style='color:black;background-color:#d8a564;text-align:right;'>0.3000</td><td style='color:black;background-color:#a5d864;text-align:right;'>0.7000</td></tr>\n",
       "</table></div>"
      ],
      "text/plain": [
       "<IPython.core.display.HTML object>"
      ]
     },
     "metadata": {},
     "output_type": "display_data"
    }
   ],
   "source": [
    "bn=gum.fastBN(\"Ca->X1->Y1<-Pb\")\n",
    "bn.cpt(\"Ca\").fillWith([0.8,0.2])\n",
    "bn.cpt(\"Pb\").fillWith([0.3,0.7])\n",
    "\n",
    "bn.cpt(\"X1\")[:]=[[0.9,0.1],[0.1,0.9]]\n",
    "\n",
    "bn.cpt(\"Y1\")[{\"X1\":0,\"Pb\":0}]=[0.8,0.2]\n",
    "bn.cpt(\"Y1\")[{\"X1\":1,\"Pb\":0}]=[0.2,0.8]\n",
    "bn.cpt(\"Y1\")[{\"X1\":0,\"Pb\":1}]=[0.6,0.4]\n",
    "bn.cpt(\"Y1\")[{\"X1\":1,\"Pb\":1}]=[0.4,0.6]\n",
    "\n",
    "gnb.flow.row(bn,*[bn.cpt(x) for x in bn.nodes()])"
   ]
  },
  {
   "cell_type": "markdown",
   "metadata": {},
   "source": [
    "Actually the process is duplicated in the system but the control $C_a$ and the parameter $P_b$ are shared."
   ]
  },
  {
   "cell_type": "code",
   "execution_count": 3,
   "metadata": {
    "ExecuteTime": {
     "end_time": "2019-04-20T13:55:31.587630Z",
     "start_time": "2019-04-20T13:55:29.722118Z"
    },
    "tags": []
   },
   "outputs": [
    {
     "data": {
      "text/html": [
       "\n",
       "      <style>\n",
       "      .floating-box {\n",
       "      display: inline-block;\n",
       "      margin: 7px;\n",
       "      padding : 3px;\n",
       "      border: 2px solid #FFFFFF;  \n",
       "      valign:middle;\n",
       "      background-color: #FDFDFD;\n",
       "      }\n",
       "      </style>\n",
       "      <div class=\"floating-box\"><svg xmlns=\"http://www.w3.org/2000/svg\" xmlns:xlink=\"http://www.w3.org/1999/xlink\" width=\"206pt\" height=\"188pt\" viewBox=\"0.00 0.00 206.00 188.00\">\n",
       "<g id=\"graph0\" class=\"graph\" transform=\"scale(1 1) rotate(0) translate(4 184)\">\n",
       "<title>G</title>\n",
       "<!-- Y2 -->\n",
       "<g id=\"node1\" class=\"node\">\n",
       "<title>Y2</title>\n",
       "<g id=\"a_node1\"><a xlink:title=\"(5) Y2\">\n",
       "<ellipse fill=\"#404040\" stroke=\"black\" cx=\"135\" cy=\"-18\" rx=\"27\" ry=\"18\"/>\n",
       "<text text-anchor=\"middle\" x=\"135\" y=\"-14.3\" font-family=\"Times,serif\" font-size=\"14.00\" fill=\"white\">Y2</text>\n",
       "</a>\n",
       "</g>\n",
       "</g>\n",
       "<!-- X1 -->\n",
       "<g id=\"node2\" class=\"node\">\n",
       "<title>X1</title>\n",
       "<g id=\"a_node2\"><a xlink:title=\"(1) X1\">\n",
       "<ellipse fill=\"#404040\" stroke=\"black\" cx=\"27\" cy=\"-90\" rx=\"27\" ry=\"18\"/>\n",
       "<text text-anchor=\"middle\" x=\"27\" y=\"-86.3\" font-family=\"Times,serif\" font-size=\"14.00\" fill=\"white\">X1</text>\n",
       "</a>\n",
       "</g>\n",
       "</g>\n",
       "<!-- Y1 -->\n",
       "<g id=\"node4\" class=\"node\">\n",
       "<title>Y1</title>\n",
       "<g id=\"a_node4\"><a xlink:title=\"(2) Y1\">\n",
       "<ellipse fill=\"#404040\" stroke=\"black\" cx=\"27\" cy=\"-18\" rx=\"27\" ry=\"18\"/>\n",
       "<text text-anchor=\"middle\" x=\"27\" y=\"-14.3\" font-family=\"Times,serif\" font-size=\"14.00\" fill=\"white\">Y1</text>\n",
       "</a>\n",
       "</g>\n",
       "</g>\n",
       "<!-- X1&#45;&gt;Y1 -->\n",
       "<g id=\"edge2\" class=\"edge\">\n",
       "<title>X1-&gt;Y1</title>\n",
       "<g id=\"a_edge2\"><a xlink:title=\"(1, 2) : \">\n",
       "<path fill=\"none\" stroke=\"#4a4a4a\" d=\"M27,-71.7C27,-63.98 27,-54.71 27,-46.11\"/>\n",
       "<polygon fill=\"#4a4a4a\" stroke=\"#4a4a4a\" points=\"30.5,-46.1 27,-36.1 23.5,-46.1 30.5,-46.1\"/>\n",
       "</a>\n",
       "</g>\n",
       "</g>\n",
       "<!-- X2 -->\n",
       "<g id=\"node3\" class=\"node\">\n",
       "<title>X2</title>\n",
       "<g id=\"a_node3\"><a xlink:title=\"(4) X2\">\n",
       "<ellipse fill=\"#404040\" stroke=\"black\" cx=\"171\" cy=\"-90\" rx=\"27\" ry=\"18\"/>\n",
       "<text text-anchor=\"middle\" x=\"171\" y=\"-86.3\" font-family=\"Times,serif\" font-size=\"14.00\" fill=\"white\">X2</text>\n",
       "</a>\n",
       "</g>\n",
       "</g>\n",
       "<!-- X2&#45;&gt;Y2 -->\n",
       "<g id=\"edge4\" class=\"edge\">\n",
       "<title>X2-&gt;Y2</title>\n",
       "<g id=\"a_edge4\"><a xlink:title=\"(4, 5) : \">\n",
       "<path fill=\"none\" stroke=\"#4a4a4a\" d=\"M162.65,-72.76C158.29,-64.28 152.85,-53.71 147.96,-44.2\"/>\n",
       "<polygon fill=\"#4a4a4a\" stroke=\"#4a4a4a\" points=\"150.99,-42.44 143.3,-35.15 144.77,-45.64 150.99,-42.44\"/>\n",
       "</a>\n",
       "</g>\n",
       "</g>\n",
       "<!-- Ca -->\n",
       "<g id=\"node5\" class=\"node\">\n",
       "<title>Ca</title>\n",
       "<g id=\"a_node5\"><a xlink:title=\"(0) Ca\">\n",
       "<ellipse fill=\"#404040\" stroke=\"black\" cx=\"99\" cy=\"-162\" rx=\"27\" ry=\"18\"/>\n",
       "<text text-anchor=\"middle\" x=\"99\" y=\"-158.3\" font-family=\"Times,serif\" font-size=\"14.00\" fill=\"white\">Ca</text>\n",
       "</a>\n",
       "</g>\n",
       "</g>\n",
       "<!-- Ca&#45;&gt;X1 -->\n",
       "<g id=\"edge1\" class=\"edge\">\n",
       "<title>Ca-&gt;X1</title>\n",
       "<g id=\"a_edge1\"><a xlink:title=\"(0, 1) : \">\n",
       "<path fill=\"none\" stroke=\"#4a4a4a\" d=\"M84.43,-146.83C74.25,-136.94 60.48,-123.55 48.97,-112.36\"/>\n",
       "<polygon fill=\"#4a4a4a\" stroke=\"#4a4a4a\" points=\"51.41,-109.85 41.8,-105.38 46.53,-114.87 51.41,-109.85\"/>\n",
       "</a>\n",
       "</g>\n",
       "</g>\n",
       "<!-- Ca&#45;&gt;X2 -->\n",
       "<g id=\"edge3\" class=\"edge\">\n",
       "<title>Ca-&gt;X2</title>\n",
       "<g id=\"a_edge3\"><a xlink:title=\"(0, 4) : \">\n",
       "<path fill=\"none\" stroke=\"#4a4a4a\" d=\"M113.57,-146.83C123.75,-136.94 137.52,-123.55 149.03,-112.36\"/>\n",
       "<polygon fill=\"#4a4a4a\" stroke=\"#4a4a4a\" points=\"151.47,-114.87 156.2,-105.38 146.59,-109.85 151.47,-114.87\"/>\n",
       "</a>\n",
       "</g>\n",
       "</g>\n",
       "<!-- Pb -->\n",
       "<g id=\"node6\" class=\"node\">\n",
       "<title>Pb</title>\n",
       "<g id=\"a_node6\"><a xlink:title=\"(3) Pb\">\n",
       "<ellipse fill=\"#404040\" stroke=\"black\" cx=\"99\" cy=\"-90\" rx=\"27\" ry=\"18\"/>\n",
       "<text text-anchor=\"middle\" x=\"99\" y=\"-86.3\" font-family=\"Times,serif\" font-size=\"14.00\" fill=\"white\">Pb</text>\n",
       "</a>\n",
       "</g>\n",
       "</g>\n",
       "<!-- Pb&#45;&gt;Y2 -->\n",
       "<g id=\"edge6\" class=\"edge\">\n",
       "<title>Pb-&gt;Y2</title>\n",
       "<g id=\"a_edge6\"><a xlink:title=\"(3, 5) : \">\n",
       "<path fill=\"none\" stroke=\"#4a4a4a\" d=\"M107.35,-72.76C111.71,-64.28 117.15,-53.71 122.04,-44.2\"/>\n",
       "<polygon fill=\"#4a4a4a\" stroke=\"#4a4a4a\" points=\"125.23,-45.64 126.7,-35.15 119.01,-42.44 125.23,-45.64\"/>\n",
       "</a>\n",
       "</g>\n",
       "</g>\n",
       "<!-- Pb&#45;&gt;Y1 -->\n",
       "<g id=\"edge5\" class=\"edge\">\n",
       "<title>Pb-&gt;Y1</title>\n",
       "<g id=\"a_edge5\"><a xlink:title=\"(3, 2) : \">\n",
       "<path fill=\"none\" stroke=\"#4a4a4a\" d=\"M84.43,-74.83C74.25,-64.94 60.48,-51.55 48.97,-40.36\"/>\n",
       "<polygon fill=\"#4a4a4a\" stroke=\"#4a4a4a\" points=\"51.41,-37.85 41.8,-33.38 46.53,-42.87 51.41,-37.85\"/>\n",
       "</a>\n",
       "</g>\n",
       "</g>\n",
       "</g>\n",
       "</svg></div><div class=\"floating-box\"><table style=\"border:1px solid black;\">\n",
       "<tr><th colspan='1'></th>\n",
       "      <th colspan='2' style='border:1px solid black;color:black;background-color:#808080;'><center>X2</center>\n",
       "      </th></tr>\n",
       "<tr><th style='border:1px solid black;color:black;background-color:#808080'><center>Ca</center></th><th style='border:1px solid black;border-bottom-style: double;color:black;background-color:#BBBBBB'>\n",
       "      <center>0</center></th><th style='border:1px solid black;border-bottom-style: double;color:black;background-color:#BBBBBB'>\n",
       "      <center>1</center></th></tr>\n",
       "<tr><th style='border:1px solid black;color:black;background-color:#BBBBBB'><center>0</center></th><td style='color:black;background-color:#8bf264;text-align:right;'>0.9000</td><td style='color:black;background-color:#f28b64;text-align:right;'>0.1000</td></tr>\n",
       "<tr><th style='border:1px solid black;color:black;background-color:#BBBBBB'><center>1</center></th><td style='color:black;background-color:#f28b64;text-align:right;'>0.1000</td><td style='color:black;background-color:#8bf264;text-align:right;'>0.9000</td></tr>\n",
       "</table></div><div class=\"floating-box\"><table style=\"border:1px solid black;\">\n",
       "<tr><th colspan='2'></th>\n",
       "      <th colspan='2' style='border:1px solid black;color:black;background-color:#808080;'><center>Y2</center>\n",
       "      </th></tr>\n",
       "<tr><th style='border:1px solid black;color:black;background-color:#808080'><center>Pb</center></th><th style='border:1px solid black;color:black;background-color:#808080'><center>X2</center></th><th style='border:1px solid black;border-bottom-style: double;color:black;background-color:#BBBBBB'>\n",
       "      <center>0</center></th><th style='border:1px solid black;border-bottom-style: double;color:black;background-color:#BBBBBB'>\n",
       "      <center>1</center></th></tr>\n",
       "<tr><th style='border:1px solid black;color:black;background-color:#BBBBBB;' rowspan = '2'>\n",
       "            <center>0</center></th><th style='border:1px solid black;color:black;background-color:#BBBBBB'><center>0</center></th><td style='color:black;background-color:#98e564;text-align:right;'>0.8000</td><td style='color:black;background-color:#e59864;text-align:right;'>0.2000</td></tr>\n",
       "<tr><th style='border:1px solid black;color:black;background-color:#BBBBBB'><center>1</center></th><td style='color:black;background-color:#e59864;text-align:right;'>0.2000</td><td style='color:black;background-color:#98e564;text-align:right;'>0.8000</td></tr>\n",
       "<tr><th style='border:1px solid black;color:black;background-color:#BBBBBB;' rowspan = '2'>\n",
       "            <center>1</center></th><th style='border:1px solid black;color:black;background-color:#BBBBBB'><center>0</center></th><td style='color:black;background-color:#b2cb64;text-align:right;'>0.6000</td><td style='color:black;background-color:#cbb264;text-align:right;'>0.4000</td></tr>\n",
       "<tr><th style='border:1px solid black;color:black;background-color:#BBBBBB'><center>1</center></th><td style='color:black;background-color:#cbb264;text-align:right;'>0.4000</td><td style='color:black;background-color:#b2cb64;text-align:right;'>0.6000</td></tr>\n",
       "</table></div>"
      ],
      "text/plain": [
       "<IPython.core.display.HTML object>"
      ]
     },
     "metadata": {},
     "output_type": "display_data"
    }
   ],
   "source": [
    "bn.add(\"X2\",2)\n",
    "bn.add(\"Y2\",2)\n",
    "bn.addArc(\"X2\",\"Y2\")\n",
    "bn.addArc(\"Ca\",\"X2\")\n",
    "bn.addArc(\"Pb\",\"Y2\")\n",
    "\n",
    "bn.cpt(\"X2\").fillWith(bn.cpt(\"X1\"),[\"X1\",\"Ca\"]) # copy cpt(X1) with the translation X2<-X1,Ca<-Ca\n",
    "bn.cpt(\"Y2\").fillWith(bn.cpt(\"Y1\"),[\"Y1\",\"X1\",\"Pb\"]) # copy cpt(Y1) with translation Y2<-Y1,X2<-X1,Pb<-Pb\n",
    "\n",
    "gnb.flow.row(bn,bn.cpt(\"X2\"),bn.cpt(\"Y2\"))"
   ]
  },
  {
   "cell_type": "markdown",
   "metadata": {},
   "source": [
    "## Simulation of the data"
   ]
  },
  {
   "cell_type": "markdown",
   "metadata": {},
   "source": [
    "The process is partially observed : the control has been taken into account. However the parameter has not been identified and therefore is not collected."
   ]
  },
  {
   "cell_type": "code",
   "execution_count": 4,
   "metadata": {
    "ExecuteTime": {
     "end_time": "2019-04-20T13:56:02.196696Z",
     "start_time": "2019-04-20T13:56:02.029209Z"
    },
    "tags": []
   },
   "outputs": [],
   "source": [
    "#the base will be saved in completeData=\"out/complete_data.csv\", observedData=\"out/observed_data.csv\"\n",
    "import os\n",
    "completeData=\"out/complete_data.csv\"\n",
    "observedData=\"out/observed_data.csv\"\n",
    "fixedObsData=\"res/fixed_observed_data.csv\"\n",
    "\n",
    "# generating complete date with pyAgrum\n",
    "size=35000\n",
    "#gum.generateSample(bn,5000,\"data.csv\",random_order=True)\n",
    "generator=gum.BNDatabaseGenerator(bn)\n",
    "generator.setRandomVarOrder()\n",
    "generator.drawSamples(size)\n",
    "generator.toCSV(completeData)"
   ]
  },
  {
   "cell_type": "code",
   "execution_count": 5,
   "metadata": {
    "ExecuteTime": {
     "end_time": "2019-04-20T13:56:02.983558Z",
     "start_time": "2019-04-20T13:56:02.724915Z"
    },
    "tags": []
   },
   "outputs": [],
   "source": [
    "# selecting some variables using pandas\n",
    "import pandas as pd\n",
    "f=pd.read_csv(completeData)\n",
    "keep_col = [\"X1\",\"Y1\",\"X2\",\"Y2\",\"Ca\"] # Pb is removed\n",
    "new_f = f[keep_col]\n",
    "new_f.to_csv(observedData, index=False)"
   ]
  },
  {
   "cell_type": "markdown",
   "metadata": {},
   "source": [
    "In order to have fixed results, we will use now a database <tt>fixed_observed_data.csv</tt> generated with the process above."
   ]
  },
  {
   "cell_type": "markdown",
   "metadata": {},
   "source": [
    "## statistical learning\n",
    "\n",
    "Using a classical statistical learning method, one can approximate a model from the observed data."
   ]
  },
  {
   "cell_type": "code",
   "execution_count": 6,
   "metadata": {
    "ExecuteTime": {
     "end_time": "2019-04-20T13:56:03.831239Z",
     "start_time": "2019-04-20T13:56:03.756837Z"
    },
    "tags": []
   },
   "outputs": [],
   "source": [
    "learner=gum.BNLearner(fixedObsData)\n",
    "learner.useGreedyHillClimbing()\n",
    "bn2=learner.learnBN()"
   ]
  },
  {
   "cell_type": "markdown",
   "metadata": {},
   "source": [
    "## Evaluating the impact of $X2$ on $Y1$\n",
    "\n",
    "Using the database, a question for the user is to evaluate the impact of the value of $X2$ on $Y1$."
   ]
  },
  {
   "cell_type": "code",
   "execution_count": 7,
   "metadata": {
    "ExecuteTime": {
     "end_time": "2019-04-20T13:56:08.229619Z",
     "start_time": "2019-04-20T13:56:08.219921Z"
    },
    "scrolled": true,
    "tags": []
   },
   "outputs": [
    {
     "data": {
      "text/html": [
       "\n",
       "      <style>\n",
       "      .floating-box {\n",
       "      display: inline-block;\n",
       "      margin: 7px;\n",
       "      padding : 3px;\n",
       "      border: 2px solid #FFFFFF;  \n",
       "      valign:middle;\n",
       "      background-color: #FDFDFD;\n",
       "      }\n",
       "      </style>\n",
       "      <div class=\"floating-box\"><table style=\"border:1px solid black;\">\n",
       "<tr><th colspan='1'></th>\n",
       "      <th colspan='2' style='border:1px solid black;color:black;background-color:#808080;'><center>Y1</center>\n",
       "      </th></tr>\n",
       "<tr><th style='border:1px solid black;color:black;background-color:#808080'><center>X2</center></th><th style='border:1px solid black;border-bottom-style: double;color:black;background-color:#BBBBBB'>\n",
       "      <center>0</center></th><th style='border:1px solid black;border-bottom-style: double;color:black;background-color:#BBBBBB'>\n",
       "      <center>1</center></th></tr>\n",
       "<tr><th style='border:1px solid black;color:black;background-color:#BBBBBB'><center>0</center></th><td style='color:black;background-color:#afce64;text-align:right;'>0.6211</td><td style='color:black;background-color:#ceaf64;text-align:right;'>0.3789</td></tr>\n",
       "<tr><th style='border:1px solid black;color:black;background-color:#BBBBBB'><center>1</center></th><td style='color:black;background-color:#c5b864;text-align:right;'>0.4508</td><td style='color:black;background-color:#b8c564;text-align:right;'>0.5492</td></tr>\n",
       "</table><br><center><small><em>in original model</em></small></center></div><div class=\"floating-box\"><table style=\"border:1px solid black;\">\n",
       "<tr><th colspan='1'></th>\n",
       "      <th colspan='2' style='border:1px solid black;color:black;background-color:#808080;'><center>Y1</center>\n",
       "      </th></tr>\n",
       "<tr><th style='border:1px solid black;color:black;background-color:#808080'><center>X2</center></th><th style='border:1px solid black;border-bottom-style: double;color:black;background-color:#BBBBBB'>\n",
       "      <center>0</center></th><th style='border:1px solid black;border-bottom-style: double;color:black;background-color:#BBBBBB'>\n",
       "      <center>1</center></th></tr>\n",
       "<tr><th style='border:1px solid black;color:black;background-color:#BBBBBB'><center>0</center></th><td style='color:black;background-color:#afce64;text-align:right;'>0.6183</td><td style='color:black;background-color:#ceaf64;text-align:right;'>0.3817</td></tr>\n",
       "<tr><th style='border:1px solid black;color:black;background-color:#BBBBBB'><center>1</center></th><td style='color:black;background-color:#c6b764;text-align:right;'>0.4415</td><td style='color:black;background-color:#b7c664;text-align:right;'>0.5585</td></tr>\n",
       "</table><br><center><small><em>in learned model</em></small></center></div><div class=\"floating-box\"><table style=\"border:1px solid black;\">\n",
       "<tr><th colspan='1'></th>\n",
       "      <th colspan='2' style='border:1px solid black;color:black;background-color:#808080;'><center>Y1</center>\n",
       "      </th></tr>\n",
       "<tr><th style='border:1px solid black;color:black;background-color:#808080'><center>X2</center></th><th style='border:1px solid black;border-bottom-style: double;color:black;background-color:#BBBBBB'>\n",
       "      <center>0</center></th><th style='border:1px solid black;border-bottom-style: double;color:black;background-color:#BBBBBB'>\n",
       "      <center>1</center></th></tr>\n",
       "<tr><th style='border:1px solid black;color:black;background-color:#BBBBBB'><center>0</center></th><td style='color:black;background-color:#c6b764;text-align:right;'>0.4422</td><td style='text-align:right;'>-0.7249</td></tr>\n",
       "<tr><th style='border:1px solid black;color:black;background-color:#BBBBBB'><center>1</center></th><td style='text-align:right;'>2.0453</td><td style='text-align:right;'>-1.6787</td></tr>\n",
       "</table><br><center><small><em>relative errors</em></small></center></div><div class=\"floating-box\">$$7.72226$$<br><center><small><em>quadratic error</em></small></center></div>"
      ],
      "text/plain": [
       "<IPython.core.display.HTML object>"
      ]
     },
     "metadata": {},
     "output_type": "display_data"
    }
   ],
   "source": [
    "target=\"Y1\"\n",
    "evs=\"X2\"\n",
    "ie=gum.LazyPropagation(bn)\n",
    "ie2=gum.LazyPropagation(bn2)\n",
    "p1=ie.evidenceImpact(target,[evs])\n",
    "p2=gum.Potential(p1).fillWith(ie2.evidenceImpact(target,[evs]),[target,evs])\n",
    "errs=((p1-p2)/p1).scale(100)\n",
    "quaderr=(errs*errs).sum()\n",
    "gnb.flow.row(p1,p2,errs,f\"$${quaderr:3.5f}$$\",\n",
    "              captions=['in original model','in learned model','relative errors','quadratic error'])\n"
   ]
  },
  {
   "cell_type": "markdown",
   "metadata": {},
   "source": [
    "## Evaluating the causal impact of $X2$ on $Y1$ with the learned model\n",
    "\n",
    "The statistician notes that the change wanted by the user to apply on $X_2$ is not an observation but rather an intervention."
   ]
  },
  {
   "cell_type": "code",
   "execution_count": 8,
   "metadata": {
    "ExecuteTime": {
     "end_time": "2019-04-20T13:56:12.043753Z",
     "start_time": "2019-04-20T13:56:08.231799Z"
    },
    "tags": []
   },
   "outputs": [],
   "source": [
    "import pyAgrum.causal as csl\n",
    "import pyAgrum.causal.notebook as cslnb\n",
    "\n",
    "model=csl.CausalModel(bn)\n",
    "model2=csl.CausalModel(bn2)"
   ]
  },
  {
   "cell_type": "code",
   "execution_count": 9,
   "metadata": {
    "ExecuteTime": {
     "end_time": "2019-04-20T13:56:12.043753Z",
     "start_time": "2019-04-20T13:56:08.231799Z"
    },
    "tags": [
     "nbsphinx-thumbnail"
    ]
   },
   "outputs": [
    {
     "data": {
      "image/svg+xml": [
       "<svg xmlns=\"http://www.w3.org/2000/svg\" xmlns:xlink=\"http://www.w3.org/1999/xlink\" width=\"180pt\" height=\"164pt\" viewBox=\"0.00 0.00 180.00 164.27\">\n",
       "<g id=\"graph0\" class=\"graph\" transform=\"scale(0.873786 0.873786) rotate(0) translate(4 184)\">\n",
       "<title>G</title>\n",
       "<!-- Ca -->\n",
       "<g id=\"node1\" class=\"node\">\n",
       "<title>Ca</title>\n",
       "<ellipse fill=\"#404040\" stroke=\"#4a4a4a\" cx=\"99\" cy=\"-162\" rx=\"27\" ry=\"18\"/>\n",
       "<text text-anchor=\"middle\" x=\"99\" y=\"-158.3\" font-family=\"Times,serif\" font-size=\"14.00\" fill=\"white\">Ca</text>\n",
       "</g>\n",
       "<!-- X1 -->\n",
       "<g id=\"node2\" class=\"node\">\n",
       "<title>X1</title>\n",
       "<ellipse fill=\"#404040\" stroke=\"#4a4a4a\" cx=\"27\" cy=\"-90\" rx=\"27\" ry=\"18\"/>\n",
       "<text text-anchor=\"middle\" x=\"27\" y=\"-86.3\" font-family=\"Times,serif\" font-size=\"14.00\" fill=\"white\">X1</text>\n",
       "</g>\n",
       "<!-- Ca&#45;&gt;X1 -->\n",
       "<g id=\"edge1\" class=\"edge\">\n",
       "<title>Ca-&gt;X1</title>\n",
       "<path fill=\"none\" stroke=\"#4a4a4a\" d=\"M83.73,-147.55C73.55,-137.65 59.78,-124.26 48.27,-113.08\"/>\n",
       "<path fill=\"none\" stroke=\"#4a4a4a\" d=\"M85.13,-146.12C74.95,-136.22 61.17,-122.83 49.67,-111.64\"/>\n",
       "<polygon fill=\"#4a4a4a\" stroke=\"#4a4a4a\" points=\"51.41,-109.85 41.8,-105.38 46.53,-114.87 51.41,-109.85\"/>\n",
       "</g>\n",
       "<!-- X2 -->\n",
       "<g id=\"node5\" class=\"node\">\n",
       "<title>X2</title>\n",
       "<ellipse fill=\"#404040\" stroke=\"#4a4a4a\" cx=\"171\" cy=\"-90\" rx=\"27\" ry=\"18\"/>\n",
       "<text text-anchor=\"middle\" x=\"171\" y=\"-86.3\" font-family=\"Times,serif\" font-size=\"14.00\" fill=\"white\">X2</text>\n",
       "</g>\n",
       "<!-- Ca&#45;&gt;X2 -->\n",
       "<g id=\"edge3\" class=\"edge\">\n",
       "<title>Ca-&gt;X2</title>\n",
       "<path fill=\"none\" stroke=\"#4a4a4a\" d=\"M112.87,-146.12C123.05,-136.22 136.83,-122.83 148.33,-111.64\"/>\n",
       "<path fill=\"none\" stroke=\"#4a4a4a\" d=\"M114.27,-147.55C124.45,-137.65 138.22,-124.26 149.73,-113.08\"/>\n",
       "<polygon fill=\"#4a4a4a\" stroke=\"#4a4a4a\" points=\"151.47,-114.87 156.2,-105.38 146.59,-109.85 151.47,-114.87\"/>\n",
       "</g>\n",
       "<!-- Y1 -->\n",
       "<g id=\"node3\" class=\"node\">\n",
       "<title>Y1</title>\n",
       "<ellipse fill=\"#404040\" stroke=\"#4a4a4a\" cx=\"45\" cy=\"-18\" rx=\"27\" ry=\"18\"/>\n",
       "<text text-anchor=\"middle\" x=\"45\" y=\"-14.3\" font-family=\"Times,serif\" font-size=\"14.00\" fill=\"white\">Y1</text>\n",
       "</g>\n",
       "<!-- X1&#45;&gt;Y1 -->\n",
       "<g id=\"edge2\" class=\"edge\">\n",
       "<title>X1-&gt;Y1</title>\n",
       "<path fill=\"none\" stroke=\"#4a4a4a\" d=\"M30.39,-71.81C32.42,-63.9 34.89,-54.29 37.17,-45.44\"/>\n",
       "<path fill=\"none\" stroke=\"#4a4a4a\" d=\"M32.33,-72.3C34.36,-64.39 36.83,-54.79 39.11,-45.94\"/>\n",
       "<polygon fill=\"#4a4a4a\" stroke=\"#4a4a4a\" points=\"41.58,-46.35 40.68,-35.79 34.8,-44.6 41.58,-46.35\"/>\n",
       "</g>\n",
       "<!-- Pb -->\n",
       "<g id=\"node4\" class=\"node\">\n",
       "<title>Pb</title>\n",
       "<ellipse fill=\"#404040\" stroke=\"#4a4a4a\" cx=\"99\" cy=\"-90\" rx=\"27\" ry=\"18\"/>\n",
       "<text text-anchor=\"middle\" x=\"99\" y=\"-86.3\" font-family=\"Times,serif\" font-size=\"14.00\" fill=\"white\">Pb</text>\n",
       "</g>\n",
       "<!-- Pb&#45;&gt;Y1 -->\n",
       "<g id=\"edge5\" class=\"edge\">\n",
       "<title>Pb-&gt;Y1</title>\n",
       "<path fill=\"none\" stroke=\"#4a4a4a\" d=\"M86.22,-74.08C79.23,-65.01 70.27,-53.4 62.42,-43.22\"/>\n",
       "<path fill=\"none\" stroke=\"#4a4a4a\" d=\"M87.81,-72.85C80.82,-63.79 71.86,-52.18 64.01,-42\"/>\n",
       "<polygon fill=\"#4a4a4a\" stroke=\"#4a4a4a\" points=\"65.83,-40.27 56.95,-34.49 60.29,-44.55 65.83,-40.27\"/>\n",
       "</g>\n",
       "<!-- Y2 -->\n",
       "<g id=\"node6\" class=\"node\">\n",
       "<title>Y2</title>\n",
       "<ellipse fill=\"#404040\" stroke=\"#4a4a4a\" cx=\"153\" cy=\"-18\" rx=\"27\" ry=\"18\"/>\n",
       "<text text-anchor=\"middle\" x=\"153\" y=\"-14.3\" font-family=\"Times,serif\" font-size=\"14.00\" fill=\"white\">Y2</text>\n",
       "</g>\n",
       "<!-- Pb&#45;&gt;Y2 -->\n",
       "<g id=\"edge6\" class=\"edge\">\n",
       "<title>Pb-&gt;Y2</title>\n",
       "<path fill=\"none\" stroke=\"#4a4a4a\" d=\"M110.19,-72.85C117.18,-63.79 126.14,-52.18 133.99,-42\"/>\n",
       "<path fill=\"none\" stroke=\"#4a4a4a\" d=\"M111.78,-74.08C118.77,-65.01 127.73,-53.4 135.58,-43.22\"/>\n",
       "<polygon fill=\"#4a4a4a\" stroke=\"#4a4a4a\" points=\"137.71,-44.55 141.05,-34.49 132.17,-40.27 137.71,-44.55\"/>\n",
       "</g>\n",
       "<!-- X2&#45;&gt;Y2 -->\n",
       "<g id=\"edge4\" class=\"edge\">\n",
       "<title>X2-&gt;Y2</title>\n",
       "<path fill=\"none\" stroke=\"#4a4a4a\" d=\"M165.67,-72.3C163.64,-64.39 161.17,-54.79 158.89,-45.94\"/>\n",
       "<path fill=\"none\" stroke=\"#4a4a4a\" d=\"M167.61,-71.81C165.58,-63.9 163.11,-54.29 160.83,-45.44\"/>\n",
       "<polygon fill=\"#4a4a4a\" stroke=\"#4a4a4a\" points=\"163.2,-44.6 157.32,-35.79 156.42,-46.35 163.2,-44.6\"/>\n",
       "</g>\n",
       "</g>\n",
       "</svg>"
      ],
      "text/plain": [
       "<IPython.core.display.SVG object>"
      ]
     },
     "metadata": {},
     "output_type": "display_data"
    }
   ],
   "source": [
    "cslnb.showCausalModel(model)"
   ]
  },
  {
   "cell_type": "code",
   "execution_count": 10,
   "metadata": {
    "ExecuteTime": {
     "end_time": "2019-04-20T13:56:12.043753Z",
     "start_time": "2019-04-20T13:56:08.231799Z"
    },
    "tags": []
   },
   "outputs": [
    {
     "name": "stdout",
     "output_type": "stream",
     "text": [
      "sum on Ca for\n",
      "| *\n",
      "| | P(Y1|Ca)\n",
      "| | joint P(Ca)\n"
     ]
    },
    {
     "ename": "TypeError",
     "evalue": "'NoneType' object is not iterable",
     "output_type": "error",
     "traceback": [
      "\u001b[0;31m---------------------------------------------------------------------------\u001b[0m",
      "\u001b[0;31mTypeError\u001b[0m                                 Traceback (most recent call last)",
      "Cell \u001b[0;32mIn [10], line 2\u001b[0m\n\u001b[1;32m      1\u001b[0m gum\u001b[38;5;241m.\u001b[39mconfig[\u001b[38;5;124m'\u001b[39m\u001b[38;5;124mnotebook\u001b[39m\u001b[38;5;124m'\u001b[39m,\u001b[38;5;124m'\u001b[39m\u001b[38;5;124mgraph_format\u001b[39m\u001b[38;5;124m'\u001b[39m]\u001b[38;5;241m=\u001b[39m\u001b[38;5;124m'\u001b[39m\u001b[38;5;124msvg\u001b[39m\u001b[38;5;124m'\u001b[39m\n\u001b[0;32m----> 2\u001b[0m \u001b[43mcslnb\u001b[49m\u001b[38;5;241;43m.\u001b[39;49m\u001b[43mshowCausalImpact\u001b[49m\u001b[43m(\u001b[49m\u001b[43mmodel\u001b[49m\u001b[43m,\u001b[49m\u001b[43mon\u001b[49m\u001b[38;5;241;43m=\u001b[39;49m\u001b[43mtarget\u001b[49m\u001b[43m,\u001b[49m\u001b[43m \u001b[49m\u001b[43mdoing\u001b[49m\u001b[38;5;241;43m=\u001b[39;49m\u001b[43m{\u001b[49m\u001b[43mevs\u001b[49m\u001b[43m}\u001b[49m\u001b[43m)\u001b[49m\n\u001b[1;32m      3\u001b[0m cslnb\u001b[38;5;241m.\u001b[39mshowCausalImpact(model2,on\u001b[38;5;241m=\u001b[39mtarget, doing\u001b[38;5;241m=\u001b[39m{evs})\n",
      "File \u001b[0;32m~/.virtualenvs/devAgrum/lib/python3.10/site-packages/pyAgrum/causal/notebook.py:129\u001b[0m, in \u001b[0;36mshowCausalImpact\u001b[0;34m(model, on, doing, knowing, values)\u001b[0m\n\u001b[1;32m    111\u001b[0m \u001b[38;5;28;01mdef\u001b[39;00m \u001b[38;5;21mshowCausalImpact\u001b[39m(model: csl\u001b[38;5;241m.\u001b[39mCausalModel, on: Union[\u001b[38;5;28mstr\u001b[39m, NameSet], doing: Union[\u001b[38;5;28mstr\u001b[39m, NameSet],\n\u001b[1;32m    112\u001b[0m                      knowing: Optional[NameSet] \u001b[38;5;241m=\u001b[39m \u001b[38;5;28;01mNone\u001b[39;00m, values: Optional[Dict[\u001b[38;5;28mstr\u001b[39m, \u001b[38;5;28mint\u001b[39m]] \u001b[38;5;241m=\u001b[39m \u001b[38;5;28;01mNone\u001b[39;00m):\n\u001b[1;32m    113\u001b[0m   \u001b[38;5;124;03m\"\"\"\u001b[39;00m\n\u001b[1;32m    114\u001b[0m \u001b[38;5;124;03m  display a HTML representing of the three values defining a causal impact :  formula, value, explanation\u001b[39;00m\n\u001b[1;32m    115\u001b[0m \n\u001b[0;32m   (...)\u001b[0m\n\u001b[1;32m    127\u001b[0m \u001b[38;5;124;03m    value for certain variables\u001b[39;00m\n\u001b[1;32m    128\u001b[0m \u001b[38;5;124;03m  \"\"\"\u001b[39;00m\n\u001b[0;32m--> 129\u001b[0m   html \u001b[38;5;241m=\u001b[39m \u001b[43mgetCausalImpact\u001b[49m\u001b[43m(\u001b[49m\u001b[43mmodel\u001b[49m\u001b[43m,\u001b[49m\u001b[43m \u001b[49m\u001b[43mon\u001b[49m\u001b[43m,\u001b[49m\u001b[43m \u001b[49m\u001b[43mdoing\u001b[49m\u001b[43m,\u001b[49m\u001b[43m \u001b[49m\u001b[43mknowing\u001b[49m\u001b[43m,\u001b[49m\u001b[43m \u001b[49m\u001b[43mvalues\u001b[49m\u001b[43m)\u001b[49m\n\u001b[1;32m    130\u001b[0m   IPython\u001b[38;5;241m.\u001b[39mdisplay\u001b[38;5;241m.\u001b[39mdisplay(html)\n",
      "File \u001b[0;32m~/.virtualenvs/devAgrum/lib/python3.10/site-packages/pyAgrum/causal/notebook.py:104\u001b[0m, in \u001b[0;36mgetCausalImpact\u001b[0;34m(model, on, doing, knowing, values)\u001b[0m\n\u001b[1;32m    102\u001b[0m   gnb\u001b[38;5;241m.\u001b[39mflow\u001b[38;5;241m.\u001b[39madd(explanation,caption\u001b[38;5;241m=\u001b[39m\u001b[38;5;124m\"\u001b[39m\u001b[38;5;124mImpossible\u001b[39m\u001b[38;5;124m\"\u001b[39m)\n\u001b[1;32m    103\u001b[0m \u001b[38;5;28;01melse\u001b[39;00m:\n\u001b[0;32m--> 104\u001b[0m   gnb\u001b[38;5;241m.\u001b[39mflow\u001b[38;5;241m.\u001b[39madd(\u001b[38;5;124m'\u001b[39m\u001b[38;5;124m$$\u001b[39m\u001b[38;5;130;01m\\\\\u001b[39;00m\u001b[38;5;124mbegin\u001b[39m\u001b[38;5;124m{\u001b[39m\u001b[38;5;124mequation*}\u001b[39m\u001b[38;5;124m'\u001b[39m \u001b[38;5;241m+\u001b[39m \u001b[43mformula\u001b[49m\u001b[38;5;241;43m.\u001b[39;49m\u001b[43mtoLatex\u001b[49m\u001b[43m(\u001b[49m\u001b[43m)\u001b[49m \u001b[38;5;241m+\u001b[39m \u001b[38;5;124m'\u001b[39m\u001b[38;5;130;01m\\\\\u001b[39;00m\u001b[38;5;124mend\u001b[39m\u001b[38;5;124m{\u001b[39m\u001b[38;5;124mequation*}$$\u001b[39m\u001b[38;5;124m'\u001b[39m,caption\u001b[38;5;241m=\u001b[39m\u001b[38;5;124m\"\u001b[39m\u001b[38;5;124mExplanation : \u001b[39m\u001b[38;5;124m\"\u001b[39m\u001b[38;5;241m+\u001b[39mexplanation )\n\u001b[1;32m    106\u001b[0m gnb\u001b[38;5;241m.\u001b[39mflow\u001b[38;5;241m.\u001b[39madd(\u001b[38;5;124m\"\u001b[39m\u001b[38;5;124mNo result\u001b[39m\u001b[38;5;124m\"\u001b[39m \u001b[38;5;28;01mif\u001b[39;00m formula \u001b[38;5;129;01mis\u001b[39;00m \u001b[38;5;28;01mNone\u001b[39;00m \u001b[38;5;28;01melse\u001b[39;00m impact,caption\u001b[38;5;241m=\u001b[39m\u001b[38;5;124m\"\u001b[39m\u001b[38;5;124mImpact\u001b[39m\u001b[38;5;124m\"\u001b[39m) \u001b[38;5;66;03m# : $\" + (\"?\" if formula is None else formula.latexQuery(values)) + \"$\")\u001b[39;00m\n\u001b[1;32m    108\u001b[0m \u001b[38;5;28;01mreturn\u001b[39;00m gnb\u001b[38;5;241m.\u001b[39mflow\u001b[38;5;241m.\u001b[39mhtml()\n",
      "File \u001b[0;32m~/.virtualenvs/devAgrum/lib/python3.10/site-packages/pyAgrum/causal/_CausalFormula.py:182\u001b[0m, in \u001b[0;36mCausalFormula.toLatex\u001b[0;34m(self)\u001b[0m\n\u001b[1;32m    180\u001b[0m \u001b[38;5;28;01mfor\u001b[39;00m n \u001b[38;5;129;01min\u001b[39;00m \u001b[38;5;28mself\u001b[39m\u001b[38;5;241m.\u001b[39m_doing:\n\u001b[1;32m    181\u001b[0m   occur[n] \u001b[38;5;241m=\u001b[39m \u001b[38;5;241m1\u001b[39m\n\u001b[0;32m--> 182\u001b[0m \u001b[38;5;28;01mfor\u001b[39;00m n \u001b[38;5;129;01min\u001b[39;00m \u001b[38;5;28mself\u001b[39m\u001b[38;5;241m.\u001b[39m_knowing:\n\u001b[1;32m    183\u001b[0m   occur[n] \u001b[38;5;241m=\u001b[39m \u001b[38;5;241m1\u001b[39m\n\u001b[1;32m    184\u001b[0m \u001b[38;5;28;01mfor\u001b[39;00m n \u001b[38;5;129;01min\u001b[39;00m \u001b[38;5;28mself\u001b[39m\u001b[38;5;241m.\u001b[39m_on:\n",
      "\u001b[0;31mTypeError\u001b[0m: 'NoneType' object is not iterable"
     ]
    }
   ],
   "source": [
    "gum.config['notebook','graph_format']='svg'\n",
    "cslnb.showCausalImpact(model,on=target, doing={evs})\n",
    "cslnb.showCausalImpact(model2,on=target, doing={evs})"
   ]
  },
  {
   "cell_type": "markdown",
   "metadata": {},
   "source": [
    "Unfortunately, due to the fact that $P_a$ is not learned, the computation of the causal impact still is imprecise."
   ]
  },
  {
   "cell_type": "code",
   "execution_count": null,
   "metadata": {
    "ExecuteTime": {
     "end_time": "2019-04-20T13:56:12.058484Z",
     "start_time": "2019-04-20T13:56:12.047315Z"
    },
    "tags": []
   },
   "outputs": [],
   "source": [
    "_, impact1, _ = csl.causalImpact(model, on=target, doing={evs})\n",
    "_, impact2orig, _ = csl.causalImpact(model2, on=target, doing={evs})\n",
    "\n",
    "impact2=gum.Potential(p2).fillWith(impact2orig,['Y1','X2'])\n",
    "errs=((impact1-impact2)/impact1).scale(100)\n",
    "quaderr=(errs*errs).sum()\n",
    "gnb.flow.row(impact1,impact2,errs,f\"$${quaderr:3.5f}$$\",\n",
    "              captions=['$P( Y_1 \\mid \\hookrightarrow X_2)$ <br/>in original model',\n",
    "                        '$P( Y_1 \\mid \\hookrightarrow X_2)$  <br/>in learned model',' <br/>relative errors',' <br/>quadratic error'])"
   ]
  },
  {
   "cell_type": "markdown",
   "metadata": {},
   "source": [
    "Just to be certain, we can verify that in the original model, $P( Y_1 \\mid \\hookrightarrow X_2)=P(Y_1)$"
   ]
  },
  {
   "cell_type": "code",
   "execution_count": null,
   "metadata": {
    "ExecuteTime": {
     "end_time": "2019-04-20T13:56:12.073793Z",
     "start_time": "2019-04-20T13:56:12.060398Z"
    },
    "tags": []
   },
   "outputs": [],
   "source": [
    "gnb.flow.row(impact1,ie.evidenceImpact(target,[]),\n",
    "               captions=[\"$P( Y_1 \\mid \\hookrightarrow X_2)$ <br/>in the original model\",\"$P(Y_1)$ <br/>in the original model\"])"
   ]
  },
  {
   "cell_type": "markdown",
   "metadata": {},
   "source": [
    "## Causal learning and causal impact\n",
    "\n",
    "Some learning algorthims such as MIIC (Verny et al., 2017) aim to find the trace of latent variables in the data"
   ]
  },
  {
   "cell_type": "code",
   "execution_count": null,
   "metadata": {
    "ExecuteTime": {
     "end_time": "2019-04-20T13:56:12.178497Z",
     "start_time": "2019-04-20T13:56:12.075850Z"
    },
    "tags": []
   },
   "outputs": [],
   "source": [
    "learner=gum.BNLearner(fixedObsData)\n",
    "learner.useMIIC()\n",
    "bn3=learner.learnBN()"
   ]
  },
  {
   "cell_type": "code",
   "execution_count": null,
   "metadata": {
    "ExecuteTime": {
     "end_time": "2019-04-20T13:56:16.260504Z",
     "start_time": "2019-04-20T13:56:12.180391Z"
    },
    "tags": []
   },
   "outputs": [],
   "source": [
    "gnb.flow.row(bn,bn3,f\"$${[(bn3.variable(i).name(),bn3.variable(j).name()) for (i,j) in learner.latentVariables()]}$$\",\n",
    "              captions=['original model','learned model','Latent variables found'])"
   ]
  },
  {
   "cell_type": "markdown",
   "metadata": {},
   "source": [
    "Then we can build a causal model taking into account this latent variable found by MIIC."
   ]
  },
  {
   "cell_type": "code",
   "execution_count": null,
   "metadata": {
    "ExecuteTime": {
     "end_time": "2019-04-20T13:56:18.445928Z",
     "start_time": "2019-04-20T13:56:16.265708Z"
    },
    "tags": []
   },
   "outputs": [],
   "source": [
    "model3=csl.CausalModel(bn2,[(\"L1\",(\"Y1\",\"Y2\"))])\n",
    "cslnb.showCausalImpact(model3,target, {evs})"
   ]
  },
  {
   "cell_type": "markdown",
   "metadata": {},
   "source": [
    "Then at least, the statistician can say that $X_2$ has no impact on $Y_1$ from the data. The error is just due to the approximation of the parameters in the database."
   ]
  },
  {
   "cell_type": "code",
   "execution_count": null,
   "metadata": {
    "ExecuteTime": {
     "end_time": "2019-04-20T13:56:18.460053Z",
     "start_time": "2019-04-20T13:56:18.448486Z"
    },
    "tags": []
   },
   "outputs": [],
   "source": [
    "_, impact1, _ = csl.causalImpact(model, on=target, doing={evs})\n",
    "_, impact3orig, _ = csl.causalImpact(model3, on=target, doing={evs})\n",
    "\n",
    "impact3=gum.Potential(impact1).fillWith(impact3orig,['Y1'])\n",
    "errs=((impact1-impact3)/impact1).scale(100)\n",
    "quaderr=(errs*errs).sum()\n",
    "gnb.flow.row(impact1,impact3,errs,f\"$${quaderr:3.5f}$$\",\n",
    "              captions=['in original model','in learned model','relative errors','quadratic error'])"
   ]
  },
  {
   "cell_type": "code",
   "execution_count": null,
   "metadata": {},
   "outputs": [],
   "source": []
  }
 ],
 "metadata": {
  "hide_input": false,
  "kernelspec": {
   "display_name": "Python 3 (ipykernel)",
   "language": "python",
   "name": "python3"
  },
  "language_info": {
   "codemirror_mode": {
    "name": "ipython",
    "version": 3
   },
   "file_extension": ".py",
   "mimetype": "text/x-python",
   "name": "python",
   "nbconvert_exporter": "python",
   "pygments_lexer": "ipython3",
   "version": "3.10.8"
  },
  "toc": {
   "colors": {
    "hover_highlight": "#DAA520",
    "running_highlight": "#FF0000",
    "selected_highlight": "#FFD700"
   },
   "moveMenuLeft": true,
   "nav_menu": {
    "height": "12px",
    "width": "252px"
   },
   "navigate_menu": true,
   "number_sections": true,
   "sideBar": true,
   "threshold": 4,
   "toc_cell": false,
   "toc_section_display": "block",
   "toc_window_display": true,
   "widenNotebook": false
  }
 },
 "nbformat": 4,
 "nbformat_minor": 4
}
