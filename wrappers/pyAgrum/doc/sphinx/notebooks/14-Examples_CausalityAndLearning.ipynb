{
 "cells": [
  {
   "cell_type": "markdown",
   "metadata": {},
   "source": [
    "# Learning and causality"
   ]
  },
  {
   "cell_type": "markdown",
   "metadata": {},
   "source": [
    "| | | |\n",
    "|-|-|-|\n",
    "|[ ![Creative Commons License](images/cc4.png)](http://creativecommons.org/licenses/by-nc/4.0/) |[ ![aGrUM](images/logoAgrum.png)](https://agrum.org) |[ ![interactive online version](images/atbinder.svg)](https://agrum.gitlab.io/extra/agrum_at_binder.html)"
   ]
  },
  {
   "cell_type": "code",
   "execution_count": 1,
   "metadata": {
    "ExecuteTime": {
     "end_time": "2019-04-20T13:55:28.004432Z",
     "start_time": "2019-04-20T13:55:27.768067Z"
    },
    "execution": {
     "iopub.execute_input": "2023-07-25T07:19:35.561793Z",
     "iopub.status.busy": "2023-07-25T07:19:35.561413Z",
     "iopub.status.idle": "2023-07-25T07:19:35.931374Z",
     "shell.execute_reply": "2023-07-25T07:19:35.930508Z",
     "shell.execute_reply.started": "2023-07-25T07:19:35.561755Z"
    }
   },
   "outputs": [],
   "source": [
    "import pyAgrum as gum\n",
    "import pyAgrum.lib.notebook as gnb"
   ]
  },
  {
   "cell_type": "markdown",
   "metadata": {},
   "source": [
    "## Model"
   ]
  },
  {
   "cell_type": "markdown",
   "metadata": {},
   "source": [
    "Let's assume a process $X_1\\rightarrow Y_1$ with a control on $X_1$ by $C_a$ and a parameter $P_b$ on $Y_1$."
   ]
  },
  {
   "cell_type": "code",
   "execution_count": 2,
   "metadata": {
    "ExecuteTime": {
     "end_time": "2019-04-20T13:55:29.719565Z",
     "start_time": "2019-04-20T13:55:28.006817Z"
    },
    "execution": {
     "iopub.execute_input": "2023-07-25T07:19:35.935522Z",
     "iopub.status.busy": "2023-07-25T07:19:35.934549Z",
     "iopub.status.idle": "2023-07-25T07:19:36.024451Z",
     "shell.execute_reply": "2023-07-25T07:19:36.023231Z",
     "shell.execute_reply.started": "2023-07-25T07:19:35.935483Z"
    },
    "tags": []
   },
   "outputs": [
    {
     "data": {
      "text/html": [
       "\n",
       "      <style>\n",
       "      .floating-box {\n",
       "      display: inline-block;\n",
       "      margin: 7px;\n",
       "      padding : 3px;\n",
       "      border: 0px solid transparent;  \n",
       "      valign:middle;\n",
       "      background-color: transparent;\n",
       "      }\n",
       "      </style>\n",
       "      <div class=\"floating-box\"><svg xmlns=\"http://www.w3.org/2000/svg\" xmlns:xlink=\"http://www.w3.org/1999/xlink\" width=\"134pt\" height=\"188pt\" viewBox=\"0.00 0.00 134.00 188.00\">\n",
       "<g id=\"graph0\" class=\"graph\" transform=\"scale(1 1) rotate(0) translate(4 184)\">\n",
       "<title>G</title>\n",
       "<!-- Y1 -->\n",
       "<g id=\"node1\" class=\"node\">\n",
       "<title>Y1</title>\n",
       "<g id=\"a_node1\"><a xlink:title=\"(2) Y1\">\n",
       "<ellipse fill=\"#404040\" stroke=\"black\" cx=\"63\" cy=\"-18\" rx=\"27\" ry=\"18\"/>\n",
       "<text text-anchor=\"middle\" x=\"63\" y=\"-13.32\" font-family=\"Times,serif\" font-size=\"14.00\" fill=\"white\">Y1</text>\n",
       "</a>\n",
       "</g>\n",
       "</g>\n",
       "<!-- X1 -->\n",
       "<g id=\"node2\" class=\"node\">\n",
       "<title>X1</title>\n",
       "<g id=\"a_node2\"><a xlink:title=\"(1) X1\">\n",
       "<ellipse fill=\"#404040\" stroke=\"black\" cx=\"27\" cy=\"-90\" rx=\"27\" ry=\"18\"/>\n",
       "<text text-anchor=\"middle\" x=\"27\" y=\"-85.33\" font-family=\"Times,serif\" font-size=\"14.00\" fill=\"white\">X1</text>\n",
       "</a>\n",
       "</g>\n",
       "</g>\n",
       "<!-- X1&#45;&gt;Y1 -->\n",
       "<g id=\"edge3\" class=\"edge\">\n",
       "<title>X1-&gt;Y1</title>\n",
       "<g id=\"a_edge3\"><a xlink:title=\"1 → 2\">\n",
       "<path fill=\"none\" stroke=\"#4a4a4a\" d=\"M35.35,-72.76C39.62,-64.46 44.92,-54.15 49.73,-44.79\"/>\n",
       "<polygon fill=\"#4a4a4a\" stroke=\"#4a4a4a\" points=\"53.23,-46.64 54.7,-36.15 47.01,-43.44 53.23,-46.64\"/>\n",
       "</a>\n",
       "</g>\n",
       "</g>\n",
       "<!-- Pb -->\n",
       "<g id=\"node3\" class=\"node\">\n",
       "<title>Pb</title>\n",
       "<g id=\"a_node3\"><a xlink:title=\"(3) Pb\">\n",
       "<ellipse fill=\"#404040\" stroke=\"black\" cx=\"99\" cy=\"-90\" rx=\"27\" ry=\"18\"/>\n",
       "<text text-anchor=\"middle\" x=\"99\" y=\"-85.33\" font-family=\"Times,serif\" font-size=\"14.00\" fill=\"white\">Pb</text>\n",
       "</a>\n",
       "</g>\n",
       "</g>\n",
       "<!-- Pb&#45;&gt;Y1 -->\n",
       "<g id=\"edge2\" class=\"edge\">\n",
       "<title>Pb-&gt;Y1</title>\n",
       "<g id=\"a_edge2\"><a xlink:title=\"3 → 2\">\n",
       "<path fill=\"none\" stroke=\"#4a4a4a\" d=\"M90.65,-72.76C86.38,-64.46 81.08,-54.15 76.27,-44.79\"/>\n",
       "<polygon fill=\"#4a4a4a\" stroke=\"#4a4a4a\" points=\"78.99,-43.44 71.3,-36.15 72.77,-46.64 78.99,-43.44\"/>\n",
       "</a>\n",
       "</g>\n",
       "</g>\n",
       "<!-- Ca -->\n",
       "<g id=\"node4\" class=\"node\">\n",
       "<title>Ca</title>\n",
       "<g id=\"a_node4\"><a xlink:title=\"(0) Ca\">\n",
       "<ellipse fill=\"#404040\" stroke=\"black\" cx=\"27\" cy=\"-162\" rx=\"27\" ry=\"18\"/>\n",
       "<text text-anchor=\"middle\" x=\"27\" y=\"-157.32\" font-family=\"Times,serif\" font-size=\"14.00\" fill=\"white\">Ca</text>\n",
       "</a>\n",
       "</g>\n",
       "</g>\n",
       "<!-- Ca&#45;&gt;X1 -->\n",
       "<g id=\"edge1\" class=\"edge\">\n",
       "<title>Ca-&gt;X1</title>\n",
       "<g id=\"a_edge1\"><a xlink:title=\"0 → 1\">\n",
       "<path fill=\"none\" stroke=\"#4a4a4a\" d=\"M27,-143.7C27,-136.24 27,-127.32 27,-118.97\"/>\n",
       "<polygon fill=\"#4a4a4a\" stroke=\"#4a4a4a\" points=\"30.5,-119.1 27,-109.1 23.5,-119.1 30.5,-119.1\"/>\n",
       "</a>\n",
       "</g>\n",
       "</g>\n",
       "</g>\n",
       "</svg></div><div class=\"floating-box\"><table style=\"border:1px solid black;\">\n",
       "<tr style='border:1px solid black;color:black;background-color:#808080'>\n",
       "      <th colspan='2'><center>Ca</center></th></tr>\n",
       "<tr><th style='border:1px solid black;border-bottom-style: double;color:black;background-color:#BBBBBB'>\n",
       "      <center>0</center></th><th style='border:1px solid black;border-bottom-style: double;color:black;background-color:#BBBBBB'>\n",
       "      <center>1</center></th></tr>\n",
       "<tr><td style='color:black;background-color:#98e564;text-align:right;'>0.8000</td><td style='color:black;background-color:#e59864;text-align:right;'>0.2000</td></tr>\n",
       "</table></div><div class=\"floating-box\"><table style=\"border:1px solid black;\">\n",
       "<tr><th colspan='1'></th>\n",
       "      <th colspan='2' style='border:1px solid black;color:black;background-color:#808080;'><center>X1</center>\n",
       "      </th></tr>\n",
       "<tr><th style='border:1px solid black;color:black;background-color:#808080'><center>Ca</center></th><th style='border:1px solid black;border-bottom-style: double;color:black;background-color:#BBBBBB'>\n",
       "      <center>0</center></th><th style='border:1px solid black;border-bottom-style: double;color:black;background-color:#BBBBBB'>\n",
       "      <center>1</center></th></tr>\n",
       "<tr><th style='border:1px solid black;color:black;background-color:#BBBBBB'><center>0</center></th><td style='color:black;background-color:#8bf264;text-align:right;'>0.9000</td><td style='color:black;background-color:#f28b64;text-align:right;'>0.1000</td></tr>\n",
       "<tr><th style='border:1px solid black;color:black;background-color:#BBBBBB'><center>1</center></th><td style='color:black;background-color:#f28b64;text-align:right;'>0.1000</td><td style='color:black;background-color:#8bf264;text-align:right;'>0.9000</td></tr>\n",
       "</table></div><div class=\"floating-box\"><table style=\"border:1px solid black;\">\n",
       "<tr><th colspan='2'></th>\n",
       "      <th colspan='2' style='border:1px solid black;color:black;background-color:#808080;'><center>Y1</center>\n",
       "      </th></tr>\n",
       "<tr><th style='border:1px solid black;color:black;background-color:#808080'><center>Pb</center></th><th style='border:1px solid black;color:black;background-color:#808080'><center>X1</center></th><th style='border:1px solid black;border-bottom-style: double;color:black;background-color:#BBBBBB'>\n",
       "      <center>0</center></th><th style='border:1px solid black;border-bottom-style: double;color:black;background-color:#BBBBBB'>\n",
       "      <center>1</center></th></tr>\n",
       "<tr><th style='border:1px solid black;color:black;background-color:#BBBBBB;' rowspan = '2'>\n",
       "            <center>0</center></th><th style='border:1px solid black;color:black;background-color:#BBBBBB'><center>0</center></th><td style='color:black;background-color:#98e564;text-align:right;'>0.8000</td><td style='color:black;background-color:#e59864;text-align:right;'>0.2000</td></tr>\n",
       "<tr><th style='border:1px solid black;color:black;background-color:#BBBBBB'><center>1</center></th><td style='color:black;background-color:#e59864;text-align:right;'>0.2000</td><td style='color:black;background-color:#98e564;text-align:right;'>0.8000</td></tr>\n",
       "<tr><th style='border:1px solid black;color:black;background-color:#BBBBBB;' rowspan = '2'>\n",
       "            <center>1</center></th><th style='border:1px solid black;color:black;background-color:#BBBBBB'><center>0</center></th><td style='color:black;background-color:#b2cb64;text-align:right;'>0.6000</td><td style='color:black;background-color:#cbb264;text-align:right;'>0.4000</td></tr>\n",
       "<tr><th style='border:1px solid black;color:black;background-color:#BBBBBB'><center>1</center></th><td style='color:black;background-color:#cbb264;text-align:right;'>0.4000</td><td style='color:black;background-color:#b2cb64;text-align:right;'>0.6000</td></tr>\n",
       "</table></div><div class=\"floating-box\"><table style=\"border:1px solid black;\">\n",
       "<tr style='border:1px solid black;color:black;background-color:#808080'>\n",
       "      <th colspan='2'><center>Pb</center></th></tr>\n",
       "<tr><th style='border:1px solid black;border-bottom-style: double;color:black;background-color:#BBBBBB'>\n",
       "      <center>0</center></th><th style='border:1px solid black;border-bottom-style: double;color:black;background-color:#BBBBBB'>\n",
       "      <center>1</center></th></tr>\n",
       "<tr><td style='color:black;background-color:#d8a564;text-align:right;'>0.3000</td><td style='color:black;background-color:#a5d864;text-align:right;'>0.7000</td></tr>\n",
       "</table></div>"
      ],
      "text/plain": [
       "<IPython.core.display.HTML object>"
      ]
     },
     "metadata": {},
     "output_type": "display_data"
    }
   ],
   "source": [
    "bn=gum.fastBN(\"Ca->X1->Y1<-Pb\")\n",
    "bn.cpt(\"Ca\").fillWith([0.8,0.2])\n",
    "bn.cpt(\"Pb\").fillWith([0.3,0.7])\n",
    "\n",
    "bn.cpt(\"X1\")[:]=[[0.9,0.1],[0.1,0.9]]\n",
    "\n",
    "bn.cpt(\"Y1\")[{\"X1\":0,\"Pb\":0}]=[0.8,0.2]\n",
    "bn.cpt(\"Y1\")[{\"X1\":1,\"Pb\":0}]=[0.2,0.8]\n",
    "bn.cpt(\"Y1\")[{\"X1\":0,\"Pb\":1}]=[0.6,0.4]\n",
    "bn.cpt(\"Y1\")[{\"X1\":1,\"Pb\":1}]=[0.4,0.6]\n",
    "\n",
    "gnb.flow.row(bn,*[bn.cpt(x) for x in bn.nodes()])"
   ]
  },
  {
   "cell_type": "markdown",
   "metadata": {},
   "source": [
    "Actually the process is duplicated in the system but the control $C_a$ and the parameter $P_b$ are shared."
   ]
  },
  {
   "cell_type": "code",
   "execution_count": 3,
   "metadata": {
    "ExecuteTime": {
     "end_time": "2019-04-20T13:55:31.587630Z",
     "start_time": "2019-04-20T13:55:29.722118Z"
    },
    "execution": {
     "iopub.execute_input": "2023-07-25T07:19:36.026793Z",
     "iopub.status.busy": "2023-07-25T07:19:36.025853Z",
     "iopub.status.idle": "2023-07-25T07:19:36.108956Z",
     "shell.execute_reply": "2023-07-25T07:19:36.107967Z",
     "shell.execute_reply.started": "2023-07-25T07:19:36.026754Z"
    },
    "tags": []
   },
   "outputs": [
    {
     "data": {
      "text/html": [
       "\n",
       "      <style>\n",
       "      .floating-box {\n",
       "      display: inline-block;\n",
       "      margin: 7px;\n",
       "      padding : 3px;\n",
       "      border: 0px solid transparent;  \n",
       "      valign:middle;\n",
       "      background-color: transparent;\n",
       "      }\n",
       "      </style>\n",
       "      <div class=\"floating-box\"><svg xmlns=\"http://www.w3.org/2000/svg\" xmlns:xlink=\"http://www.w3.org/1999/xlink\" width=\"206pt\" height=\"188pt\" viewBox=\"0.00 0.00 206.00 188.00\">\n",
       "<g id=\"graph0\" class=\"graph\" transform=\"scale(1 1) rotate(0) translate(4 184)\">\n",
       "<title>G</title>\n",
       "<!-- Y1 -->\n",
       "<g id=\"node1\" class=\"node\">\n",
       "<title>Y1</title>\n",
       "<g id=\"a_node1\"><a xlink:title=\"(2) Y1\">\n",
       "<ellipse fill=\"#404040\" stroke=\"black\" cx=\"135\" cy=\"-18\" rx=\"27\" ry=\"18\"/>\n",
       "<text text-anchor=\"middle\" x=\"135\" y=\"-13.32\" font-family=\"Times,serif\" font-size=\"14.00\" fill=\"white\">Y1</text>\n",
       "</a>\n",
       "</g>\n",
       "</g>\n",
       "<!-- X2 -->\n",
       "<g id=\"node2\" class=\"node\">\n",
       "<title>X2</title>\n",
       "<g id=\"a_node2\"><a xlink:title=\"(4) X2\">\n",
       "<ellipse fill=\"#404040\" stroke=\"black\" cx=\"27\" cy=\"-90\" rx=\"27\" ry=\"18\"/>\n",
       "<text text-anchor=\"middle\" x=\"27\" y=\"-85.33\" font-family=\"Times,serif\" font-size=\"14.00\" fill=\"white\">X2</text>\n",
       "</a>\n",
       "</g>\n",
       "</g>\n",
       "<!-- Y2 -->\n",
       "<g id=\"node3\" class=\"node\">\n",
       "<title>Y2</title>\n",
       "<g id=\"a_node3\"><a xlink:title=\"(5) Y2\">\n",
       "<ellipse fill=\"#404040\" stroke=\"black\" cx=\"27\" cy=\"-18\" rx=\"27\" ry=\"18\"/>\n",
       "<text text-anchor=\"middle\" x=\"27\" y=\"-13.32\" font-family=\"Times,serif\" font-size=\"14.00\" fill=\"white\">Y2</text>\n",
       "</a>\n",
       "</g>\n",
       "</g>\n",
       "<!-- X2&#45;&gt;Y2 -->\n",
       "<g id=\"edge4\" class=\"edge\">\n",
       "<title>X2-&gt;Y2</title>\n",
       "<g id=\"a_edge4\"><a xlink:title=\"4 → 5\">\n",
       "<path fill=\"none\" stroke=\"#4a4a4a\" d=\"M27,-71.7C27,-64.24 27,-55.32 27,-46.97\"/>\n",
       "<polygon fill=\"#4a4a4a\" stroke=\"#4a4a4a\" points=\"30.5,-47.1 27,-37.1 23.5,-47.1 30.5,-47.1\"/>\n",
       "</a>\n",
       "</g>\n",
       "</g>\n",
       "<!-- X1 -->\n",
       "<g id=\"node4\" class=\"node\">\n",
       "<title>X1</title>\n",
       "<g id=\"a_node4\"><a xlink:title=\"(1) X1\">\n",
       "<ellipse fill=\"#404040\" stroke=\"black\" cx=\"171\" cy=\"-90\" rx=\"27\" ry=\"18\"/>\n",
       "<text text-anchor=\"middle\" x=\"171\" y=\"-85.33\" font-family=\"Times,serif\" font-size=\"14.00\" fill=\"white\">X1</text>\n",
       "</a>\n",
       "</g>\n",
       "</g>\n",
       "<!-- X1&#45;&gt;Y1 -->\n",
       "<g id=\"edge2\" class=\"edge\">\n",
       "<title>X1-&gt;Y1</title>\n",
       "<g id=\"a_edge2\"><a xlink:title=\"1 → 2\">\n",
       "<path fill=\"none\" stroke=\"#4a4a4a\" d=\"M162.65,-72.76C158.38,-64.46 153.08,-54.15 148.27,-44.79\"/>\n",
       "<polygon fill=\"#4a4a4a\" stroke=\"#4a4a4a\" points=\"150.99,-43.44 143.3,-36.15 144.77,-46.64 150.99,-43.44\"/>\n",
       "</a>\n",
       "</g>\n",
       "</g>\n",
       "<!-- Pb -->\n",
       "<g id=\"node5\" class=\"node\">\n",
       "<title>Pb</title>\n",
       "<g id=\"a_node5\"><a xlink:title=\"(3) Pb\">\n",
       "<ellipse fill=\"#404040\" stroke=\"black\" cx=\"99\" cy=\"-90\" rx=\"27\" ry=\"18\"/>\n",
       "<text text-anchor=\"middle\" x=\"99\" y=\"-85.33\" font-family=\"Times,serif\" font-size=\"14.00\" fill=\"white\">Pb</text>\n",
       "</a>\n",
       "</g>\n",
       "</g>\n",
       "<!-- Pb&#45;&gt;Y1 -->\n",
       "<g id=\"edge5\" class=\"edge\">\n",
       "<title>Pb-&gt;Y1</title>\n",
       "<g id=\"a_edge5\"><a xlink:title=\"3 → 2\">\n",
       "<path fill=\"none\" stroke=\"#4a4a4a\" d=\"M107.35,-72.76C111.62,-64.46 116.92,-54.15 121.73,-44.79\"/>\n",
       "<polygon fill=\"#4a4a4a\" stroke=\"#4a4a4a\" points=\"125.23,-46.64 126.7,-36.15 119.01,-43.44 125.23,-46.64\"/>\n",
       "</a>\n",
       "</g>\n",
       "</g>\n",
       "<!-- Pb&#45;&gt;Y2 -->\n",
       "<g id=\"edge6\" class=\"edge\">\n",
       "<title>Pb-&gt;Y2</title>\n",
       "<g id=\"a_edge6\"><a xlink:title=\"3 → 5\">\n",
       "<path fill=\"none\" stroke=\"#4a4a4a\" d=\"M84.08,-74.5C74.14,-64.83 60.88,-51.94 49.65,-41.02\"/>\n",
       "<polygon fill=\"#4a4a4a\" stroke=\"#4a4a4a\" points=\"52.51,-38.95 42.9,-34.49 47.63,-43.97 52.51,-38.95\"/>\n",
       "</a>\n",
       "</g>\n",
       "</g>\n",
       "<!-- Ca -->\n",
       "<g id=\"node6\" class=\"node\">\n",
       "<title>Ca</title>\n",
       "<g id=\"a_node6\"><a xlink:title=\"(0) Ca\">\n",
       "<ellipse fill=\"#404040\" stroke=\"black\" cx=\"99\" cy=\"-162\" rx=\"27\" ry=\"18\"/>\n",
       "<text text-anchor=\"middle\" x=\"99\" y=\"-157.32\" font-family=\"Times,serif\" font-size=\"14.00\" fill=\"white\">Ca</text>\n",
       "</a>\n",
       "</g>\n",
       "</g>\n",
       "<!-- Ca&#45;&gt;X2 -->\n",
       "<g id=\"edge3\" class=\"edge\">\n",
       "<title>Ca-&gt;X2</title>\n",
       "<g id=\"a_edge3\"><a xlink:title=\"0 → 4\">\n",
       "<path fill=\"none\" stroke=\"#4a4a4a\" d=\"M84.08,-146.5C74.14,-136.83 60.88,-123.94 49.65,-113.02\"/>\n",
       "<polygon fill=\"#4a4a4a\" stroke=\"#4a4a4a\" points=\"52.51,-110.95 42.9,-106.49 47.63,-115.97 52.51,-110.95\"/>\n",
       "</a>\n",
       "</g>\n",
       "</g>\n",
       "<!-- Ca&#45;&gt;X1 -->\n",
       "<g id=\"edge1\" class=\"edge\">\n",
       "<title>Ca-&gt;X1</title>\n",
       "<g id=\"a_edge1\"><a xlink:title=\"0 → 1\">\n",
       "<path fill=\"none\" stroke=\"#4a4a4a\" d=\"M113.92,-146.5C123.86,-136.83 137.12,-123.94 148.35,-113.02\"/>\n",
       "<polygon fill=\"#4a4a4a\" stroke=\"#4a4a4a\" points=\"150.37,-115.97 155.1,-106.49 145.49,-110.95 150.37,-115.97\"/>\n",
       "</a>\n",
       "</g>\n",
       "</g>\n",
       "</g>\n",
       "</svg></div><div class=\"floating-box\"><table style=\"border:1px solid black;\">\n",
       "<tr><th colspan='1'></th>\n",
       "      <th colspan='2' style='border:1px solid black;color:black;background-color:#808080;'><center>X2</center>\n",
       "      </th></tr>\n",
       "<tr><th style='border:1px solid black;color:black;background-color:#808080'><center>Ca</center></th><th style='border:1px solid black;border-bottom-style: double;color:black;background-color:#BBBBBB'>\n",
       "      <center>0</center></th><th style='border:1px solid black;border-bottom-style: double;color:black;background-color:#BBBBBB'>\n",
       "      <center>1</center></th></tr>\n",
       "<tr><th style='border:1px solid black;color:black;background-color:#BBBBBB'><center>0</center></th><td style='color:black;background-color:#8bf264;text-align:right;'>0.9000</td><td style='color:black;background-color:#f28b64;text-align:right;'>0.1000</td></tr>\n",
       "<tr><th style='border:1px solid black;color:black;background-color:#BBBBBB'><center>1</center></th><td style='color:black;background-color:#f28b64;text-align:right;'>0.1000</td><td style='color:black;background-color:#8bf264;text-align:right;'>0.9000</td></tr>\n",
       "</table></div><div class=\"floating-box\"><table style=\"border:1px solid black;\">\n",
       "<tr><th colspan='2'></th>\n",
       "      <th colspan='2' style='border:1px solid black;color:black;background-color:#808080;'><center>Y2</center>\n",
       "      </th></tr>\n",
       "<tr><th style='border:1px solid black;color:black;background-color:#808080'><center>Pb</center></th><th style='border:1px solid black;color:black;background-color:#808080'><center>X2</center></th><th style='border:1px solid black;border-bottom-style: double;color:black;background-color:#BBBBBB'>\n",
       "      <center>0</center></th><th style='border:1px solid black;border-bottom-style: double;color:black;background-color:#BBBBBB'>\n",
       "      <center>1</center></th></tr>\n",
       "<tr><th style='border:1px solid black;color:black;background-color:#BBBBBB;' rowspan = '2'>\n",
       "            <center>0</center></th><th style='border:1px solid black;color:black;background-color:#BBBBBB'><center>0</center></th><td style='color:black;background-color:#98e564;text-align:right;'>0.8000</td><td style='color:black;background-color:#e59864;text-align:right;'>0.2000</td></tr>\n",
       "<tr><th style='border:1px solid black;color:black;background-color:#BBBBBB'><center>1</center></th><td style='color:black;background-color:#e59864;text-align:right;'>0.2000</td><td style='color:black;background-color:#98e564;text-align:right;'>0.8000</td></tr>\n",
       "<tr><th style='border:1px solid black;color:black;background-color:#BBBBBB;' rowspan = '2'>\n",
       "            <center>1</center></th><th style='border:1px solid black;color:black;background-color:#BBBBBB'><center>0</center></th><td style='color:black;background-color:#b2cb64;text-align:right;'>0.6000</td><td style='color:black;background-color:#cbb264;text-align:right;'>0.4000</td></tr>\n",
       "<tr><th style='border:1px solid black;color:black;background-color:#BBBBBB'><center>1</center></th><td style='color:black;background-color:#cbb264;text-align:right;'>0.4000</td><td style='color:black;background-color:#b2cb64;text-align:right;'>0.6000</td></tr>\n",
       "</table></div>"
      ],
      "text/plain": [
       "<IPython.core.display.HTML object>"
      ]
     },
     "metadata": {},
     "output_type": "display_data"
    }
   ],
   "source": [
    "bn.add(\"X2\",2)\n",
    "bn.add(\"Y2\",2)\n",
    "bn.addArc(\"X2\",\"Y2\")\n",
    "bn.addArc(\"Ca\",\"X2\")\n",
    "bn.addArc(\"Pb\",\"Y2\")\n",
    "\n",
    "bn.cpt(\"X2\").fillWith(bn.cpt(\"X1\"),[\"X1\",\"Ca\"]) # copy cpt(X1) with the translation X2<-X1,Ca<-Ca\n",
    "bn.cpt(\"Y2\").fillWith(bn.cpt(\"Y1\"),[\"Y1\",\"X1\",\"Pb\"]) # copy cpt(Y1) with translation Y2<-Y1,X2<-X1,Pb<-Pb\n",
    "\n",
    "gnb.flow.row(bn,bn.cpt(\"X2\"),bn.cpt(\"Y2\"))"
   ]
  },
  {
   "cell_type": "markdown",
   "metadata": {},
   "source": [
    "## Simulation of the data"
   ]
  },
  {
   "cell_type": "markdown",
   "metadata": {},
   "source": [
    "The process is partially observed : the control has been taken into account. However the parameter has not been identified and therefore is not collected."
   ]
  },
  {
   "cell_type": "code",
   "execution_count": 4,
   "metadata": {
    "ExecuteTime": {
     "end_time": "2019-04-20T13:56:02.196696Z",
     "start_time": "2019-04-20T13:56:02.029209Z"
    },
    "execution": {
     "iopub.execute_input": "2023-07-25T07:19:36.110594Z",
     "iopub.status.busy": "2023-07-25T07:19:36.110258Z",
     "iopub.status.idle": "2023-07-25T07:19:36.218905Z",
     "shell.execute_reply": "2023-07-25T07:19:36.218217Z",
     "shell.execute_reply.started": "2023-07-25T07:19:36.110563Z"
    },
    "tags": []
   },
   "outputs": [],
   "source": [
    "#the base will be saved in completeData=\"out/complete_data.csv\", observedData=\"out/observed_data.csv\"\n",
    "import os\n",
    "completeData=\"out/complete_data.csv\"\n",
    "observedData=\"out/observed_data.csv\"\n",
    "fixedObsData=\"res/fixed_observed_data.csv\"\n",
    "\n",
    "# generating complete date with pyAgrum\n",
    "size=35000\n",
    "#gum.generateSample(bn,5000,\"data.csv\",random_order=True)\n",
    "generator=gum.BNDatabaseGenerator(bn)\n",
    "generator.setRandomVarOrder()\n",
    "generator.drawSamples(size)\n",
    "generator.toCSV(completeData)"
   ]
  },
  {
   "cell_type": "code",
   "execution_count": 5,
   "metadata": {
    "ExecuteTime": {
     "end_time": "2019-04-20T13:56:02.983558Z",
     "start_time": "2019-04-20T13:56:02.724915Z"
    },
    "execution": {
     "iopub.execute_input": "2023-07-25T07:19:36.219797Z",
     "iopub.status.busy": "2023-07-25T07:19:36.219637Z",
     "iopub.status.idle": "2023-07-25T07:19:36.517872Z",
     "shell.execute_reply": "2023-07-25T07:19:36.517118Z",
     "shell.execute_reply.started": "2023-07-25T07:19:36.219782Z"
    },
    "tags": []
   },
   "outputs": [],
   "source": [
    "# selecting some variables using pandas\n",
    "import pandas as pd\n",
    "f=pd.read_csv(completeData)\n",
    "keep_col = [\"X1\",\"Y1\",\"X2\",\"Y2\",\"Ca\"] # Pb is removed\n",
    "new_f = f[keep_col]\n",
    "new_f.to_csv(observedData, index=False)"
   ]
  },
  {
   "cell_type": "markdown",
   "metadata": {},
   "source": [
    "In order to have fixed results, we will use now a database <tt>fixed_observed_data.csv</tt> generated with the process above."
   ]
  },
  {
   "cell_type": "markdown",
   "metadata": {},
   "source": [
    "## statistical learning\n",
    "\n",
    "Using a classical statistical learning method, one can approximate a model from the observed data."
   ]
  },
  {
   "cell_type": "code",
   "execution_count": 6,
   "metadata": {
    "ExecuteTime": {
     "end_time": "2019-04-20T13:56:03.831239Z",
     "start_time": "2019-04-20T13:56:03.756837Z"
    },
    "execution": {
     "iopub.execute_input": "2023-07-25T07:19:36.519819Z",
     "iopub.status.busy": "2023-07-25T07:19:36.519161Z",
     "iopub.status.idle": "2023-07-25T07:19:36.600349Z",
     "shell.execute_reply": "2023-07-25T07:19:36.599538Z",
     "shell.execute_reply.started": "2023-07-25T07:19:36.519779Z"
    },
    "tags": []
   },
   "outputs": [],
   "source": [
    "learner=gum.BNLearner(fixedObsData)\n",
    "learner.useGreedyHillClimbing()\n",
    "bn2=learner.learnBN()"
   ]
  },
  {
   "cell_type": "markdown",
   "metadata": {},
   "source": [
    "## Evaluating the impact of $X2$ on $Y1$\n",
    "\n",
    "Using the database, a question for the user is to evaluate the impact of the value of $X2$ on $Y1$."
   ]
  },
  {
   "cell_type": "code",
   "execution_count": 7,
   "metadata": {
    "ExecuteTime": {
     "end_time": "2019-04-20T13:56:08.229619Z",
     "start_time": "2019-04-20T13:56:08.219921Z"
    },
    "execution": {
     "iopub.execute_input": "2023-07-25T07:19:36.602208Z",
     "iopub.status.busy": "2023-07-25T07:19:36.602053Z",
     "iopub.status.idle": "2023-07-25T07:19:36.617334Z",
     "shell.execute_reply": "2023-07-25T07:19:36.616839Z",
     "shell.execute_reply.started": "2023-07-25T07:19:36.602195Z"
    },
    "scrolled": true,
    "tags": []
   },
   "outputs": [
    {
     "data": {
      "text/html": [
       "\n",
       "      <style>\n",
       "      .floating-box {\n",
       "      display: inline-block;\n",
       "      margin: 7px;\n",
       "      padding : 3px;\n",
       "      border: 0px solid transparent;  \n",
       "      valign:middle;\n",
       "      background-color: transparent;\n",
       "      }\n",
       "      </style>\n",
       "      <div class=\"floating-box\"><table style=\"border:1px solid black;\">\n",
       "<tr><th colspan='1'></th>\n",
       "      <th colspan='2' style='border:1px solid black;color:black;background-color:#808080;'><center>Y1</center>\n",
       "      </th></tr>\n",
       "<tr><th style='border:1px solid black;color:black;background-color:#808080'><center>X2</center></th><th style='border:1px solid black;border-bottom-style: double;color:black;background-color:#BBBBBB'>\n",
       "      <center>0</center></th><th style='border:1px solid black;border-bottom-style: double;color:black;background-color:#BBBBBB'>\n",
       "      <center>1</center></th></tr>\n",
       "<tr><th style='border:1px solid black;color:black;background-color:#BBBBBB'><center>0</center></th><td style='color:black;background-color:#afce64;text-align:right;'>0.6211</td><td style='color:black;background-color:#ceaf64;text-align:right;'>0.3789</td></tr>\n",
       "<tr><th style='border:1px solid black;color:black;background-color:#BBBBBB'><center>1</center></th><td style='color:black;background-color:#c5b864;text-align:right;'>0.4508</td><td style='color:black;background-color:#b8c564;text-align:right;'>0.5492</td></tr>\n",
       "</table><br><center><small><em>in original model</em></small></center></div><div class=\"floating-box\"><table style=\"border:1px solid black;\">\n",
       "<tr><th colspan='1'></th>\n",
       "      <th colspan='2' style='border:1px solid black;color:black;background-color:#808080;'><center>Y1</center>\n",
       "      </th></tr>\n",
       "<tr><th style='border:1px solid black;color:black;background-color:#808080'><center>X2</center></th><th style='border:1px solid black;border-bottom-style: double;color:black;background-color:#BBBBBB'>\n",
       "      <center>0</center></th><th style='border:1px solid black;border-bottom-style: double;color:black;background-color:#BBBBBB'>\n",
       "      <center>1</center></th></tr>\n",
       "<tr><th style='border:1px solid black;color:black;background-color:#BBBBBB'><center>0</center></th><td style='color:black;background-color:#afce64;text-align:right;'>0.6183</td><td style='color:black;background-color:#ceaf64;text-align:right;'>0.3817</td></tr>\n",
       "<tr><th style='border:1px solid black;color:black;background-color:#BBBBBB'><center>1</center></th><td style='color:black;background-color:#c6b764;text-align:right;'>0.4415</td><td style='color:black;background-color:#b7c664;text-align:right;'>0.5585</td></tr>\n",
       "</table><br><center><small><em>in learned model</em></small></center></div><div class=\"floating-box\"><table style=\"border:1px solid black;\">\n",
       "<tr><th colspan='1'></th>\n",
       "      <th colspan='2' style='border:1px solid black;color:black;background-color:#808080;'><center>Y1</center>\n",
       "      </th></tr>\n",
       "<tr><th style='border:1px solid black;color:black;background-color:#808080'><center>X2</center></th><th style='border:1px solid black;border-bottom-style: double;color:black;background-color:#BBBBBB'>\n",
       "      <center>0</center></th><th style='border:1px solid black;border-bottom-style: double;color:black;background-color:#BBBBBB'>\n",
       "      <center>1</center></th></tr>\n",
       "<tr><th style='border:1px solid black;color:black;background-color:#BBBBBB'><center>0</center></th><td style='text-align:right;'>0.4422</td><td style='text-align:right;'>-0.7249</td></tr>\n",
       "<tr><th style='border:1px solid black;color:black;background-color:#BBBBBB'><center>1</center></th><td style='text-align:right;'>2.0453</td><td style='text-align:right;'>-1.6787</td></tr>\n",
       "</table><br><center><small><em>relative errors</em></small></center></div><div class=\"floating-box\">$$7.72226$$<br><center><small><em>quadratic error</em></small></center></div>"
      ],
      "text/plain": [
       "<IPython.core.display.HTML object>"
      ]
     },
     "metadata": {},
     "output_type": "display_data"
    }
   ],
   "source": [
    "target=\"Y1\"\n",
    "evs=\"X2\"\n",
    "ie=gum.LazyPropagation(bn)\n",
    "ie2=gum.LazyPropagation(bn2)\n",
    "p1=ie.evidenceImpact(target,[evs])\n",
    "p2=gum.Potential(p1).fillWith(ie2.evidenceImpact(target,[evs]),[target,evs])\n",
    "errs=((p1-p2)/p1).scale(100)\n",
    "quaderr=(errs*errs).sum()\n",
    "gnb.flow.row(p1,p2,errs,f\"$${quaderr:3.5f}$$\",\n",
    "              captions=['in original model','in learned model','relative errors','quadratic error'])\n"
   ]
  },
  {
   "cell_type": "markdown",
   "metadata": {},
   "source": [
    "## Evaluating the causal impact of $X2$ on $Y1$ with the learned model\n",
    "\n",
    "The statistician notes that the change wanted by the user to apply on $X_2$ is not an observation but rather an intervention."
   ]
  },
  {
   "cell_type": "code",
   "execution_count": 8,
   "metadata": {
    "ExecuteTime": {
     "end_time": "2019-04-20T13:56:12.043753Z",
     "start_time": "2019-04-20T13:56:08.231799Z"
    },
    "execution": {
     "iopub.execute_input": "2023-07-25T07:19:36.618342Z",
     "iopub.status.busy": "2023-07-25T07:19:36.618118Z",
     "iopub.status.idle": "2023-07-25T07:19:36.635146Z",
     "shell.execute_reply": "2023-07-25T07:19:36.634419Z",
     "shell.execute_reply.started": "2023-07-25T07:19:36.618326Z"
    },
    "tags": []
   },
   "outputs": [],
   "source": [
    "import pyAgrum.causal as csl\n",
    "import pyAgrum.causal.notebook as cslnb\n",
    "\n",
    "model=csl.CausalModel(bn)\n",
    "model2=csl.CausalModel(bn2)"
   ]
  },
  {
   "cell_type": "code",
   "execution_count": 9,
   "metadata": {
    "ExecuteTime": {
     "end_time": "2019-04-20T13:56:12.043753Z",
     "start_time": "2019-04-20T13:56:08.231799Z"
    },
    "execution": {
     "iopub.execute_input": "2023-07-25T07:19:36.636085Z",
     "iopub.status.busy": "2023-07-25T07:19:36.635898Z",
     "iopub.status.idle": "2023-07-25T07:19:36.738728Z",
     "shell.execute_reply": "2023-07-25T07:19:36.737713Z",
     "shell.execute_reply.started": "2023-07-25T07:19:36.636068Z"
    },
    "tags": [
     "nbsphinx-thumbnail"
    ]
   },
   "outputs": [
    {
     "data": {
      "image/svg+xml": [
       "<svg xmlns=\"http://www.w3.org/2000/svg\" xmlns:xlink=\"http://www.w3.org/1999/xlink\" width=\"180pt\" height=\"164pt\" viewBox=\"0.00 0.00 180.00 164.27\">\n",
       "<g id=\"graph0\" class=\"graph\" transform=\"scale(0.873786 0.873786) rotate(0) translate(4 184)\">\n",
       "<title>G</title>\n",
       "<!-- Ca -->\n",
       "<g id=\"node1\" class=\"node\">\n",
       "<title>Ca</title>\n",
       "<ellipse fill=\"#404040\" stroke=\"#4a4a4a\" cx=\"99\" cy=\"-162\" rx=\"27\" ry=\"18\"/>\n",
       "<text text-anchor=\"middle\" x=\"99\" y=\"-157.32\" font-family=\"Times,serif\" font-size=\"14.00\" fill=\"white\">Ca</text>\n",
       "</g>\n",
       "<!-- X1 -->\n",
       "<g id=\"node2\" class=\"node\">\n",
       "<title>X1</title>\n",
       "<ellipse fill=\"#404040\" stroke=\"#4a4a4a\" cx=\"27\" cy=\"-90\" rx=\"27\" ry=\"18\"/>\n",
       "<text text-anchor=\"middle\" x=\"27\" y=\"-85.33\" font-family=\"Times,serif\" font-size=\"14.00\" fill=\"white\">X1</text>\n",
       "</g>\n",
       "<!-- Ca&#45;&gt;X1 -->\n",
       "<g id=\"edge1\" class=\"edge\">\n",
       "<title>Ca-&gt;X1</title>\n",
       "<path fill=\"none\" stroke=\"#4a4a4a\" d=\"M83.38,-147.21C73.44,-137.55 60.18,-124.66 48.95,-113.73\"/>\n",
       "<path fill=\"none\" stroke=\"#4a4a4a\" d=\"M84.78,-145.78C74.84,-136.11 61.58,-123.22 50.34,-112.3\"/>\n",
       "<polygon fill=\"#4a4a4a\" stroke=\"#4a4a4a\" points=\"52.51,-110.95 42.9,-106.49 47.63,-115.97 52.51,-110.95\"/>\n",
       "</g>\n",
       "<!-- X2 -->\n",
       "<g id=\"node5\" class=\"node\">\n",
       "<title>X2</title>\n",
       "<ellipse fill=\"#404040\" stroke=\"#4a4a4a\" cx=\"171\" cy=\"-90\" rx=\"27\" ry=\"18\"/>\n",
       "<text text-anchor=\"middle\" x=\"171\" y=\"-85.33\" font-family=\"Times,serif\" font-size=\"14.00\" fill=\"white\">X2</text>\n",
       "</g>\n",
       "<!-- Ca&#45;&gt;X2 -->\n",
       "<g id=\"edge3\" class=\"edge\">\n",
       "<title>Ca-&gt;X2</title>\n",
       "<path fill=\"none\" stroke=\"#4a4a4a\" d=\"M113.22,-145.78C123.16,-136.11 136.42,-123.22 147.66,-112.3\"/>\n",
       "<path fill=\"none\" stroke=\"#4a4a4a\" d=\"M114.62,-147.21C124.56,-137.55 137.82,-124.66 149.05,-113.73\"/>\n",
       "<polygon fill=\"#4a4a4a\" stroke=\"#4a4a4a\" points=\"150.37,-115.97 155.1,-106.49 145.49,-110.95 150.37,-115.97\"/>\n",
       "</g>\n",
       "<!-- Y1 -->\n",
       "<g id=\"node3\" class=\"node\">\n",
       "<title>Y1</title>\n",
       "<ellipse fill=\"#404040\" stroke=\"#4a4a4a\" cx=\"45\" cy=\"-18\" rx=\"27\" ry=\"18\"/>\n",
       "<text text-anchor=\"middle\" x=\"45\" y=\"-13.32\" font-family=\"Times,serif\" font-size=\"14.00\" fill=\"white\">Y1</text>\n",
       "</g>\n",
       "<!-- X1&#45;&gt;Y1 -->\n",
       "<g id=\"edge2\" class=\"edge\">\n",
       "<title>X1-&gt;Y1</title>\n",
       "<path fill=\"none\" stroke=\"#4a4a4a\" d=\"M30.39,-71.81C32.38,-64.07 34.79,-54.71 37.02,-46.02\"/>\n",
       "<path fill=\"none\" stroke=\"#4a4a4a\" d=\"M32.33,-72.3C34.32,-64.57 36.72,-55.21 38.96,-46.52\"/>\n",
       "<polygon fill=\"#4a4a4a\" stroke=\"#4a4a4a\" points=\"41.58,-47.35 40.68,-36.79 34.8,-45.6 41.58,-47.35\"/>\n",
       "</g>\n",
       "<!-- Pb -->\n",
       "<g id=\"node4\" class=\"node\">\n",
       "<title>Pb</title>\n",
       "<ellipse fill=\"#404040\" stroke=\"#4a4a4a\" cx=\"99\" cy=\"-90\" rx=\"27\" ry=\"18\"/>\n",
       "<text text-anchor=\"middle\" x=\"99\" y=\"-85.33\" font-family=\"Times,serif\" font-size=\"14.00\" fill=\"white\">Pb</text>\n",
       "</g>\n",
       "<!-- Pb&#45;&gt;Y1 -->\n",
       "<g id=\"edge5\" class=\"edge\">\n",
       "<title>Pb-&gt;Y1</title>\n",
       "<path fill=\"none\" stroke=\"#4a4a4a\" d=\"M86.22,-74.08C79.3,-65.1 70.45,-53.63 62.66,-43.53\"/>\n",
       "<path fill=\"none\" stroke=\"#4a4a4a\" d=\"M87.81,-72.85C80.89,-63.88 72.03,-52.41 64.24,-42.31\"/>\n",
       "<polygon fill=\"#4a4a4a\" stroke=\"#4a4a4a\" points=\"65.83,-41.27 56.95,-35.49 60.29,-45.55 65.83,-41.27\"/>\n",
       "</g>\n",
       "<!-- Y2 -->\n",
       "<g id=\"node6\" class=\"node\">\n",
       "<title>Y2</title>\n",
       "<ellipse fill=\"#404040\" stroke=\"#4a4a4a\" cx=\"153\" cy=\"-18\" rx=\"27\" ry=\"18\"/>\n",
       "<text text-anchor=\"middle\" x=\"153\" y=\"-13.32\" font-family=\"Times,serif\" font-size=\"14.00\" fill=\"white\">Y2</text>\n",
       "</g>\n",
       "<!-- Pb&#45;&gt;Y2 -->\n",
       "<g id=\"edge6\" class=\"edge\">\n",
       "<title>Pb-&gt;Y2</title>\n",
       "<path fill=\"none\" stroke=\"#4a4a4a\" d=\"M110.19,-72.85C117.11,-63.88 125.97,-52.41 133.76,-42.31\"/>\n",
       "<path fill=\"none\" stroke=\"#4a4a4a\" d=\"M111.78,-74.08C118.7,-65.1 127.55,-53.63 135.34,-43.53\"/>\n",
       "<polygon fill=\"#4a4a4a\" stroke=\"#4a4a4a\" points=\"137.71,-45.55 141.05,-35.49 132.17,-41.27 137.71,-45.55\"/>\n",
       "</g>\n",
       "<!-- X2&#45;&gt;Y2 -->\n",
       "<g id=\"edge4\" class=\"edge\">\n",
       "<title>X2-&gt;Y2</title>\n",
       "<path fill=\"none\" stroke=\"#4a4a4a\" d=\"M165.67,-72.3C163.68,-64.57 161.28,-55.21 159.04,-46.52\"/>\n",
       "<path fill=\"none\" stroke=\"#4a4a4a\" d=\"M167.61,-71.81C165.62,-64.07 163.21,-54.71 160.98,-46.02\"/>\n",
       "<polygon fill=\"#4a4a4a\" stroke=\"#4a4a4a\" points=\"163.2,-45.6 157.32,-36.79 156.42,-47.35 163.2,-45.6\"/>\n",
       "</g>\n",
       "</g>\n",
       "</svg>"
      ],
      "text/plain": [
       "<IPython.core.display.SVG object>"
      ]
     },
     "metadata": {},
     "output_type": "display_data"
    }
   ],
   "source": [
    "cslnb.showCausalModel(model)"
   ]
  },
  {
   "cell_type": "code",
   "execution_count": 10,
   "metadata": {
    "ExecuteTime": {
     "end_time": "2019-04-20T13:56:12.043753Z",
     "start_time": "2019-04-20T13:56:08.231799Z"
    },
    "execution": {
     "iopub.execute_input": "2023-07-25T07:19:36.739941Z",
     "iopub.status.busy": "2023-07-25T07:19:36.739704Z",
     "iopub.status.idle": "2023-07-25T07:19:37.012880Z",
     "shell.execute_reply": "2023-07-25T07:19:37.011943Z",
     "shell.execute_reply.started": "2023-07-25T07:19:36.739921Z"
    },
    "tags": []
   },
   "outputs": [
    {
     "data": {
      "text/html": [
       "\n",
       "      <style>\n",
       "      .floating-box {\n",
       "      display: inline-block;\n",
       "      margin: 7px;\n",
       "      padding : 3px;\n",
       "      border: 0px solid transparent;  \n",
       "      valign:middle;\n",
       "      background-color: transparent;\n",
       "      }\n",
       "      </style>\n",
       "      <div class=\"floating-box\"><svg xmlns=\"http://www.w3.org/2000/svg\" xmlns:xlink=\"http://www.w3.org/1999/xlink\" width=\"180pt\" height=\"164pt\" viewBox=\"0.00 0.00 180.00 164.27\">\n",
       "<g id=\"graph0\" class=\"graph\" transform=\"scale(0.873786 0.873786) rotate(0) translate(4 184)\">\n",
       "<title>G</title>\n",
       "<!-- Ca -->\n",
       "<g id=\"node1\" class=\"node\">\n",
       "<title>Ca</title>\n",
       "<ellipse fill=\"#404040\" stroke=\"#4a4a4a\" cx=\"99\" cy=\"-162\" rx=\"27\" ry=\"18\"/>\n",
       "<text text-anchor=\"middle\" x=\"99\" y=\"-157.32\" font-family=\"Times,serif\" font-size=\"14.00\" fill=\"white\">Ca</text>\n",
       "</g>\n",
       "<!-- X1 -->\n",
       "<g id=\"node2\" class=\"node\">\n",
       "<title>X1</title>\n",
       "<ellipse fill=\"#404040\" stroke=\"#4a4a4a\" cx=\"27\" cy=\"-90\" rx=\"27\" ry=\"18\"/>\n",
       "<text text-anchor=\"middle\" x=\"27\" y=\"-85.33\" font-family=\"Times,serif\" font-size=\"14.00\" fill=\"white\">X1</text>\n",
       "</g>\n",
       "<!-- Ca&#45;&gt;X1 -->\n",
       "<g id=\"edge1\" class=\"edge\">\n",
       "<title>Ca-&gt;X1</title>\n",
       "<path fill=\"none\" stroke=\"#4a4a4a\" d=\"M83.38,-147.21C73.44,-137.55 60.18,-124.66 48.95,-113.73\"/>\n",
       "<path fill=\"none\" stroke=\"#4a4a4a\" d=\"M84.78,-145.78C74.84,-136.11 61.58,-123.22 50.34,-112.3\"/>\n",
       "<polygon fill=\"#4a4a4a\" stroke=\"#4a4a4a\" points=\"52.51,-110.95 42.9,-106.49 47.63,-115.97 52.51,-110.95\"/>\n",
       "</g>\n",
       "<!-- X2 -->\n",
       "<g id=\"node5\" class=\"node\">\n",
       "<title>X2</title>\n",
       "<ellipse fill=\"#404040\" stroke=\"#4a4a4a\" cx=\"171\" cy=\"-90\" rx=\"27\" ry=\"18\"/>\n",
       "<text text-anchor=\"middle\" x=\"171\" y=\"-85.33\" font-family=\"Times,serif\" font-size=\"14.00\" fill=\"white\">X2</text>\n",
       "</g>\n",
       "<!-- Ca&#45;&gt;X2 -->\n",
       "<g id=\"edge3\" class=\"edge\">\n",
       "<title>Ca-&gt;X2</title>\n",
       "<path fill=\"none\" stroke=\"#4a4a4a\" d=\"M113.22,-145.78C123.16,-136.11 136.42,-123.22 147.66,-112.3\"/>\n",
       "<path fill=\"none\" stroke=\"#4a4a4a\" d=\"M114.62,-147.21C124.56,-137.55 137.82,-124.66 149.05,-113.73\"/>\n",
       "<polygon fill=\"#4a4a4a\" stroke=\"#4a4a4a\" points=\"150.37,-115.97 155.1,-106.49 145.49,-110.95 150.37,-115.97\"/>\n",
       "</g>\n",
       "<!-- Y1 -->\n",
       "<g id=\"node3\" class=\"node\">\n",
       "<title>Y1</title>\n",
       "<ellipse fill=\"#404040\" stroke=\"#4a4a4a\" cx=\"45\" cy=\"-18\" rx=\"27\" ry=\"18\"/>\n",
       "<text text-anchor=\"middle\" x=\"45\" y=\"-13.32\" font-family=\"Times,serif\" font-size=\"14.00\" fill=\"white\">Y1</text>\n",
       "</g>\n",
       "<!-- X1&#45;&gt;Y1 -->\n",
       "<g id=\"edge2\" class=\"edge\">\n",
       "<title>X1-&gt;Y1</title>\n",
       "<path fill=\"none\" stroke=\"#4a4a4a\" d=\"M30.39,-71.81C32.38,-64.07 34.79,-54.71 37.02,-46.02\"/>\n",
       "<path fill=\"none\" stroke=\"#4a4a4a\" d=\"M32.33,-72.3C34.32,-64.57 36.72,-55.21 38.96,-46.52\"/>\n",
       "<polygon fill=\"#4a4a4a\" stroke=\"#4a4a4a\" points=\"41.58,-47.35 40.68,-36.79 34.8,-45.6 41.58,-47.35\"/>\n",
       "</g>\n",
       "<!-- Pb -->\n",
       "<g id=\"node4\" class=\"node\">\n",
       "<title>Pb</title>\n",
       "<ellipse fill=\"#404040\" stroke=\"#4a4a4a\" cx=\"99\" cy=\"-90\" rx=\"27\" ry=\"18\"/>\n",
       "<text text-anchor=\"middle\" x=\"99\" y=\"-85.33\" font-family=\"Times,serif\" font-size=\"14.00\" fill=\"white\">Pb</text>\n",
       "</g>\n",
       "<!-- Pb&#45;&gt;Y1 -->\n",
       "<g id=\"edge5\" class=\"edge\">\n",
       "<title>Pb-&gt;Y1</title>\n",
       "<path fill=\"none\" stroke=\"#4a4a4a\" d=\"M86.22,-74.08C79.3,-65.1 70.45,-53.63 62.66,-43.53\"/>\n",
       "<path fill=\"none\" stroke=\"#4a4a4a\" d=\"M87.81,-72.85C80.89,-63.88 72.03,-52.41 64.24,-42.31\"/>\n",
       "<polygon fill=\"#4a4a4a\" stroke=\"#4a4a4a\" points=\"65.83,-41.27 56.95,-35.49 60.29,-45.55 65.83,-41.27\"/>\n",
       "</g>\n",
       "<!-- Y2 -->\n",
       "<g id=\"node6\" class=\"node\">\n",
       "<title>Y2</title>\n",
       "<ellipse fill=\"#404040\" stroke=\"#4a4a4a\" cx=\"153\" cy=\"-18\" rx=\"27\" ry=\"18\"/>\n",
       "<text text-anchor=\"middle\" x=\"153\" y=\"-13.32\" font-family=\"Times,serif\" font-size=\"14.00\" fill=\"white\">Y2</text>\n",
       "</g>\n",
       "<!-- Pb&#45;&gt;Y2 -->\n",
       "<g id=\"edge6\" class=\"edge\">\n",
       "<title>Pb-&gt;Y2</title>\n",
       "<path fill=\"none\" stroke=\"#4a4a4a\" d=\"M110.19,-72.85C117.11,-63.88 125.97,-52.41 133.76,-42.31\"/>\n",
       "<path fill=\"none\" stroke=\"#4a4a4a\" d=\"M111.78,-74.08C118.7,-65.1 127.55,-53.63 135.34,-43.53\"/>\n",
       "<polygon fill=\"#4a4a4a\" stroke=\"#4a4a4a\" points=\"137.71,-45.55 141.05,-35.49 132.17,-41.27 137.71,-45.55\"/>\n",
       "</g>\n",
       "<!-- X2&#45;&gt;Y2 -->\n",
       "<g id=\"edge4\" class=\"edge\">\n",
       "<title>X2-&gt;Y2</title>\n",
       "<path fill=\"none\" stroke=\"#4a4a4a\" d=\"M165.67,-72.3C163.68,-64.57 161.28,-55.21 159.04,-46.52\"/>\n",
       "<path fill=\"none\" stroke=\"#4a4a4a\" d=\"M167.61,-71.81C165.62,-64.07 163.21,-54.71 160.98,-46.02\"/>\n",
       "<polygon fill=\"#4a4a4a\" stroke=\"#4a4a4a\" points=\"163.2,-45.6 157.32,-36.79 156.42,-47.35 163.2,-45.6\"/>\n",
       "</g>\n",
       "</g>\n",
       "</svg><br><center><small><em>Causal Model</em></small></center></div><div class=\"floating-box\">$$\\begin{equation*}P( Y1 \\mid \\hookrightarrow\\mkern-6.5muX2) = \\sum_{Ca}{P\\left(Y1\\mid Ca\\right) \\cdot P\\left(Ca\\right)}\\end{equation*}$$<br><center><small><em>Explanation : backdoor ['Ca'] found.</em></small></center></div><div class=\"floating-box\"><table style=\"border:1px solid black;\">\n",
       "<tr style='border:1px solid black;color:black;background-color:#808080'>\n",
       "      <th colspan='2'><center>Y1</center></th></tr>\n",
       "<tr><th style='border:1px solid black;border-bottom-style: double;color:black;background-color:#BBBBBB'>\n",
       "      <center>0</center></th><th style='border:1px solid black;border-bottom-style: double;color:black;background-color:#BBBBBB'>\n",
       "      <center>1</center></th></tr>\n",
       "<tr><td style='color:black;background-color:#b5c864;text-align:right;'>0.5768</td><td style='color:black;background-color:#c8b564;text-align:right;'>0.4232</td></tr>\n",
       "</table><br><center><small><em>Impact</em></small></center></div>"
      ],
      "text/plain": [
       "<IPython.core.display.HTML object>"
      ]
     },
     "metadata": {},
     "output_type": "display_data"
    },
    {
     "data": {
      "text/html": [
       "\n",
       "      <style>\n",
       "      .floating-box {\n",
       "      display: inline-block;\n",
       "      margin: 7px;\n",
       "      padding : 3px;\n",
       "      border: 0px solid transparent;  \n",
       "      valign:middle;\n",
       "      background-color: transparent;\n",
       "      }\n",
       "      </style>\n",
       "      <div class=\"floating-box\"><svg xmlns=\"http://www.w3.org/2000/svg\" xmlns:xlink=\"http://www.w3.org/1999/xlink\" width=\"93pt\" height=\"180pt\" viewBox=\"0.00 0.00 92.77 180.00\">\n",
       "<g id=\"graph0\" class=\"graph\" transform=\"scale(0.692308 0.692308) rotate(0) translate(4 256)\">\n",
       "<title>G</title>\n",
       "<!-- X1 -->\n",
       "<g id=\"node1\" class=\"node\">\n",
       "<title>X1</title>\n",
       "<ellipse fill=\"#404040\" stroke=\"#4a4a4a\" cx=\"27\" cy=\"-90\" rx=\"27\" ry=\"18\"/>\n",
       "<text text-anchor=\"middle\" x=\"27\" y=\"-85.33\" font-family=\"Times,serif\" font-size=\"14.00\" fill=\"white\">X1</text>\n",
       "</g>\n",
       "<!-- Y1 -->\n",
       "<g id=\"node2\" class=\"node\">\n",
       "<title>Y1</title>\n",
       "<ellipse fill=\"#404040\" stroke=\"#4a4a4a\" cx=\"63\" cy=\"-18\" rx=\"27\" ry=\"18\"/>\n",
       "<text text-anchor=\"middle\" x=\"63\" y=\"-13.32\" font-family=\"Times,serif\" font-size=\"14.00\" fill=\"white\">Y1</text>\n",
       "</g>\n",
       "<!-- X1&#45;&gt;Y1 -->\n",
       "<g id=\"edge1\" class=\"edge\">\n",
       "<title>X1-&gt;Y1</title>\n",
       "<path fill=\"none\" stroke=\"#4a4a4a\" d=\"M34.46,-72.31C38.73,-64 44.03,-53.7 48.85,-44.34\"/>\n",
       "<path fill=\"none\" stroke=\"#4a4a4a\" d=\"M36.24,-73.22C40.51,-64.92 45.81,-54.61 50.62,-45.25\"/>\n",
       "<polygon fill=\"#4a4a4a\" stroke=\"#4a4a4a\" points=\"53.23,-46.64 54.7,-36.15 47.01,-43.44 53.23,-46.64\"/>\n",
       "</g>\n",
       "<!-- X2 -->\n",
       "<g id=\"node3\" class=\"node\">\n",
       "<title>X2</title>\n",
       "<ellipse fill=\"#404040\" stroke=\"#4a4a4a\" cx=\"94\" cy=\"-162\" rx=\"27\" ry=\"18\"/>\n",
       "<text text-anchor=\"middle\" x=\"94\" y=\"-157.32\" font-family=\"Times,serif\" font-size=\"14.00\" fill=\"white\">X2</text>\n",
       "</g>\n",
       "<!-- Y2 -->\n",
       "<g id=\"node4\" class=\"node\">\n",
       "<title>Y2</title>\n",
       "<ellipse fill=\"#404040\" stroke=\"#4a4a4a\" cx=\"99\" cy=\"-90\" rx=\"27\" ry=\"18\"/>\n",
       "<text text-anchor=\"middle\" x=\"99\" y=\"-85.33\" font-family=\"Times,serif\" font-size=\"14.00\" fill=\"white\">Y2</text>\n",
       "</g>\n",
       "<!-- X2&#45;&gt;Y2 -->\n",
       "<g id=\"edge5\" class=\"edge\">\n",
       "<title>X2-&gt;Y2</title>\n",
       "<path fill=\"none\" stroke=\"#4a4a4a\" d=\"M94.24,-143.63C94.77,-136.17 95.41,-127.25 96.01,-118.89\"/>\n",
       "<path fill=\"none\" stroke=\"#4a4a4a\" d=\"M96.23,-143.77C96.77,-136.31 97.4,-127.39 98,-119.04\"/>\n",
       "<polygon fill=\"#4a4a4a\" stroke=\"#4a4a4a\" points=\"100.56,-119.33 97.78,-109.1 93.57,-118.83 100.56,-119.33\"/>\n",
       "</g>\n",
       "<!-- Y2&#45;&gt;Y1 -->\n",
       "<g id=\"edge3\" class=\"edge\">\n",
       "<title>Y2-&gt;Y1</title>\n",
       "<path fill=\"none\" stroke=\"#4a4a4a\" d=\"M89.76,-73.22C85.49,-64.92 80.19,-54.61 75.38,-45.25\"/>\n",
       "<path fill=\"none\" stroke=\"#4a4a4a\" d=\"M91.54,-72.31C87.27,-64 81.97,-53.7 77.15,-44.34\"/>\n",
       "<polygon fill=\"#4a4a4a\" stroke=\"#4a4a4a\" points=\"78.99,-43.44 71.3,-36.15 72.77,-46.64 78.99,-43.44\"/>\n",
       "</g>\n",
       "<!-- Ca -->\n",
       "<g id=\"node5\" class=\"node\">\n",
       "<title>Ca</title>\n",
       "<ellipse fill=\"#404040\" stroke=\"#4a4a4a\" cx=\"62\" cy=\"-234\" rx=\"27\" ry=\"18\"/>\n",
       "<text text-anchor=\"middle\" x=\"62\" y=\"-229.32\" font-family=\"Times,serif\" font-size=\"14.00\" fill=\"white\">Ca</text>\n",
       "</g>\n",
       "<!-- Ca&#45;&gt;X1 -->\n",
       "<g id=\"edge2\" class=\"edge\">\n",
       "<title>Ca-&gt;X1</title>\n",
       "<path fill=\"none\" stroke=\"#4a4a4a\" d=\"M56.81,-216.11C50.87,-192.02 39.98,-147.84 32.87,-119.01\"/>\n",
       "<path fill=\"none\" stroke=\"#4a4a4a\" d=\"M58.75,-215.63C52.81,-191.54 41.92,-147.36 34.82,-118.54\"/>\n",
       "<polygon fill=\"#4a4a4a\" stroke=\"#4a4a4a\" points=\"37.03,-118.06 31.24,-109.19 30.23,-119.74 37.03,-118.06\"/>\n",
       "</g>\n",
       "<!-- Ca&#45;&gt;X2 -->\n",
       "<g id=\"edge4\" class=\"edge\">\n",
       "<title>Ca-&gt;X2</title>\n",
       "<path fill=\"none\" stroke=\"#4a4a4a\" d=\"M68.67,-216C72.38,-207.89 76.93,-197.94 81.09,-188.83\"/>\n",
       "<path fill=\"none\" stroke=\"#4a4a4a\" d=\"M70.49,-216.83C74.2,-208.72 78.75,-198.77 82.91,-189.66\"/>\n",
       "<polygon fill=\"#4a4a4a\" stroke=\"#4a4a4a\" points=\"85.5,-191.02 86.47,-180.47 79.13,-188.11 85.5,-191.02\"/>\n",
       "</g>\n",
       "</g>\n",
       "</svg><br><center><small><em>Causal Model</em></small></center></div><div class=\"floating-box\">$$\\begin{equation*}P( Y1 \\mid \\hookrightarrow\\mkern-6.5muX2) = \\sum_{X1}{P\\left(Y1\\mid X1,X2\\right) \\cdot P\\left(X1\\right)}\\end{equation*}$$<br><center><small><em>Explanation : backdoor ['X1'] found.</em></small></center></div><div class=\"floating-box\"><table style=\"border:1px solid black;\">\n",
       "<tr><th colspan='1'></th>\n",
       "      <th colspan='2' style='border:1px solid black;color:black;background-color:#808080;'><center>Y1</center>\n",
       "      </th></tr>\n",
       "<tr><th style='border:1px solid black;color:black;background-color:#808080'><center>X2</center></th><th style='border:1px solid black;border-bottom-style: double;color:black;background-color:#BBBBBB'>\n",
       "      <center>0</center></th><th style='border:1px solid black;border-bottom-style: double;color:black;background-color:#BBBBBB'>\n",
       "      <center>1</center></th></tr>\n",
       "<tr><th style='border:1px solid black;color:black;background-color:#BBBBBB'><center>0</center></th><td style='color:black;background-color:#b5c864;text-align:right;'>0.5743</td><td style='color:black;background-color:#c8b564;text-align:right;'>0.4257</td></tr>\n",
       "<tr><th style='border:1px solid black;color:black;background-color:#BBBBBB'><center>1</center></th><td style='color:black;background-color:#b6c764;text-align:right;'>0.5628</td><td style='color:black;background-color:#c7b664;text-align:right;'>0.4372</td></tr>\n",
       "</table><br><center><small><em>Impact</em></small></center></div>"
      ],
      "text/plain": [
       "<IPython.core.display.HTML object>"
      ]
     },
     "metadata": {},
     "output_type": "display_data"
    }
   ],
   "source": [
    "gum.config['notebook','graph_format']='svg'\n",
    "cslnb.showCausalImpact(model,on=target, doing={evs})\n",
    "cslnb.showCausalImpact(model2,on=target, doing={evs})"
   ]
  },
  {
   "cell_type": "markdown",
   "metadata": {},
   "source": [
    "Unfortunately, due to the fact that $P_a$ is not learned, the computation of the causal impact still is imprecise."
   ]
  },
  {
   "cell_type": "code",
   "execution_count": 11,
   "metadata": {
    "ExecuteTime": {
     "end_time": "2019-04-20T13:56:12.058484Z",
     "start_time": "2019-04-20T13:56:12.047315Z"
    },
    "execution": {
     "iopub.execute_input": "2023-07-25T07:19:37.014954Z",
     "iopub.status.busy": "2023-07-25T07:19:37.014550Z",
     "iopub.status.idle": "2023-07-25T07:19:37.031646Z",
     "shell.execute_reply": "2023-07-25T07:19:37.030547Z",
     "shell.execute_reply.started": "2023-07-25T07:19:37.014919Z"
    },
    "tags": []
   },
   "outputs": [
    {
     "data": {
      "text/html": [
       "\n",
       "      <style>\n",
       "      .floating-box {\n",
       "      display: inline-block;\n",
       "      margin: 7px;\n",
       "      padding : 3px;\n",
       "      border: 0px solid transparent;  \n",
       "      valign:middle;\n",
       "      background-color: transparent;\n",
       "      }\n",
       "      </style>\n",
       "      <div class=\"floating-box\"><table style=\"border:1px solid black;\">\n",
       "<tr style='border:1px solid black;color:black;background-color:#808080'>\n",
       "      <th colspan='2'><center>Y1</center></th></tr>\n",
       "<tr><th style='border:1px solid black;border-bottom-style: double;color:black;background-color:#BBBBBB'>\n",
       "      <center>0</center></th><th style='border:1px solid black;border-bottom-style: double;color:black;background-color:#BBBBBB'>\n",
       "      <center>1</center></th></tr>\n",
       "<tr><td style='color:black;background-color:#b5c864;text-align:right;'>0.5768</td><td style='color:black;background-color:#c8b564;text-align:right;'>0.4232</td></tr>\n",
       "</table><br><center><small><em>$P( Y_1 \\mid \\hookrightarrow X_2)$ <br/>in original model</em></small></center></div><div class=\"floating-box\"><table style=\"border:1px solid black;\">\n",
       "<tr><th colspan='1'></th>\n",
       "      <th colspan='2' style='border:1px solid black;color:black;background-color:#808080;'><center>Y1</center>\n",
       "      </th></tr>\n",
       "<tr><th style='border:1px solid black;color:black;background-color:#808080'><center>X2</center></th><th style='border:1px solid black;border-bottom-style: double;color:black;background-color:#BBBBBB'>\n",
       "      <center>0</center></th><th style='border:1px solid black;border-bottom-style: double;color:black;background-color:#BBBBBB'>\n",
       "      <center>1</center></th></tr>\n",
       "<tr><th style='border:1px solid black;color:black;background-color:#BBBBBB'><center>0</center></th><td style='color:black;background-color:#b5c864;text-align:right;'>0.5743</td><td style='color:black;background-color:#c8b564;text-align:right;'>0.4257</td></tr>\n",
       "<tr><th style='border:1px solid black;color:black;background-color:#BBBBBB'><center>1</center></th><td style='color:black;background-color:#b6c764;text-align:right;'>0.5628</td><td style='color:black;background-color:#c7b664;text-align:right;'>0.4372</td></tr>\n",
       "</table><br><center><small><em>$P( Y_1 \\mid \\hookrightarrow X_2)$  <br/>in learned model</em></small></center></div><div class=\"floating-box\"><table style=\"border:1px solid black;\">\n",
       "<tr><th colspan='1'></th>\n",
       "      <th colspan='2' style='border:1px solid black;color:black;background-color:#808080;'><center>Y1</center>\n",
       "      </th></tr>\n",
       "<tr><th style='border:1px solid black;color:black;background-color:#808080'><center>X2</center></th><th style='border:1px solid black;border-bottom-style: double;color:black;background-color:#BBBBBB'>\n",
       "      <center>0</center></th><th style='border:1px solid black;border-bottom-style: double;color:black;background-color:#BBBBBB'>\n",
       "      <center>1</center></th></tr>\n",
       "<tr><th style='border:1px solid black;color:black;background-color:#BBBBBB'><center>0</center></th><td style='text-align:right;'>0.4414</td><td style='text-align:right;'>-0.6015</td></tr>\n",
       "<tr><th style='border:1px solid black;color:black;background-color:#BBBBBB'><center>1</center></th><td style='text-align:right;'>2.4251</td><td style='text-align:right;'>-3.3052</td></tr>\n",
       "</table><br><center><small><em> <br/>relative errors</em></small></center></div><div class=\"floating-box\">$$17.36225$$<br><center><small><em> <br/>quadratic error</em></small></center></div>"
      ],
      "text/plain": [
       "<IPython.core.display.HTML object>"
      ]
     },
     "metadata": {},
     "output_type": "display_data"
    }
   ],
   "source": [
    "_, impact1, _ = csl.causalImpact(model, on=target, doing={evs})\n",
    "_, impact2orig, _ = csl.causalImpact(model2, on=target, doing={evs})\n",
    "\n",
    "impact2=gum.Potential(p2).fillWith(impact2orig,['Y1','X2'])\n",
    "errs=((impact1-impact2)/impact1).scale(100)\n",
    "quaderr=(errs*errs).sum()\n",
    "gnb.flow.row(impact1,impact2,errs,f\"$${quaderr:3.5f}$$\",\n",
    "              captions=['$P( Y_1 \\mid \\hookrightarrow X_2)$ <br/>in original model',\n",
    "                        '$P( Y_1 \\mid \\hookrightarrow X_2)$  <br/>in learned model',' <br/>relative errors',' <br/>quadratic error'])"
   ]
  },
  {
   "cell_type": "markdown",
   "metadata": {},
   "source": [
    "Just to be certain, we can verify that in the original model, $P( Y_1 \\mid \\hookrightarrow X_2)=P(Y_1)$"
   ]
  },
  {
   "cell_type": "code",
   "execution_count": 12,
   "metadata": {
    "ExecuteTime": {
     "end_time": "2019-04-20T13:56:12.073793Z",
     "start_time": "2019-04-20T13:56:12.060398Z"
    },
    "execution": {
     "iopub.execute_input": "2023-07-25T07:19:37.033726Z",
     "iopub.status.busy": "2023-07-25T07:19:37.033020Z",
     "iopub.status.idle": "2023-07-25T07:19:37.061648Z",
     "shell.execute_reply": "2023-07-25T07:19:37.060671Z",
     "shell.execute_reply.started": "2023-07-25T07:19:37.033690Z"
    },
    "tags": []
   },
   "outputs": [
    {
     "data": {
      "text/html": [
       "\n",
       "      <style>\n",
       "      .floating-box {\n",
       "      display: inline-block;\n",
       "      margin: 7px;\n",
       "      padding : 3px;\n",
       "      border: 0px solid transparent;  \n",
       "      valign:middle;\n",
       "      background-color: transparent;\n",
       "      }\n",
       "      </style>\n",
       "      <div class=\"floating-box\"><table style=\"border:1px solid black;\">\n",
       "<tr style='border:1px solid black;color:black;background-color:#808080'>\n",
       "      <th colspan='2'><center>Y1</center></th></tr>\n",
       "<tr><th style='border:1px solid black;border-bottom-style: double;color:black;background-color:#BBBBBB'>\n",
       "      <center>0</center></th><th style='border:1px solid black;border-bottom-style: double;color:black;background-color:#BBBBBB'>\n",
       "      <center>1</center></th></tr>\n",
       "<tr><td style='color:black;background-color:#b5c864;text-align:right;'>0.5768</td><td style='color:black;background-color:#c8b564;text-align:right;'>0.4232</td></tr>\n",
       "</table><br><center><small><em>$P( Y_1 \\mid \\hookrightarrow X_2)$ <br/>in the original model</em></small></center></div><div class=\"floating-box\"><table style=\"border:1px solid black;\">\n",
       "<tr style='border:1px solid black;color:black;background-color:#808080'>\n",
       "      <th colspan='2'><center>Y1</center></th></tr>\n",
       "<tr><th style='border:1px solid black;border-bottom-style: double;color:black;background-color:#BBBBBB'>\n",
       "      <center>0</center></th><th style='border:1px solid black;border-bottom-style: double;color:black;background-color:#BBBBBB'>\n",
       "      <center>1</center></th></tr>\n",
       "<tr><td style='color:black;background-color:#b5c864;text-align:right;'>0.5768</td><td style='color:black;background-color:#c8b564;text-align:right;'>0.4232</td></tr>\n",
       "</table><br><center><small><em>$P(Y_1)$ <br/>in the original model</em></small></center></div>"
      ],
      "text/plain": [
       "<IPython.core.display.HTML object>"
      ]
     },
     "metadata": {},
     "output_type": "display_data"
    }
   ],
   "source": [
    "gnb.flow.row(impact1,ie.evidenceImpact(target,[]),\n",
    "               captions=[\"$P( Y_1 \\mid \\hookrightarrow X_2)$ <br/>in the original model\",\"$P(Y_1)$ <br/>in the original model\"])"
   ]
  },
  {
   "cell_type": "markdown",
   "metadata": {},
   "source": [
    "## Causal learning and causal impact\n",
    "\n",
    "Some learning algorthims such as MIIC (Verny et al., 2017) aim to find the trace of latent variables in the data"
   ]
  },
  {
   "cell_type": "code",
   "execution_count": 13,
   "metadata": {
    "ExecuteTime": {
     "end_time": "2019-04-20T13:56:12.178497Z",
     "start_time": "2019-04-20T13:56:12.075850Z"
    },
    "execution": {
     "iopub.execute_input": "2023-07-25T07:19:37.063955Z",
     "iopub.status.busy": "2023-07-25T07:19:37.063111Z",
     "iopub.status.idle": "2023-07-25T07:19:37.151058Z",
     "shell.execute_reply": "2023-07-25T07:19:37.150202Z",
     "shell.execute_reply.started": "2023-07-25T07:19:37.063907Z"
    },
    "tags": []
   },
   "outputs": [],
   "source": [
    "learner=gum.BNLearner(fixedObsData)\n",
    "learner.useMIIC()\n",
    "bn3=learner.learnBN()"
   ]
  },
  {
   "cell_type": "code",
   "execution_count": 14,
   "metadata": {
    "ExecuteTime": {
     "end_time": "2019-04-20T13:56:16.260504Z",
     "start_time": "2019-04-20T13:56:12.180391Z"
    },
    "execution": {
     "iopub.execute_input": "2023-07-25T07:19:37.152771Z",
     "iopub.status.busy": "2023-07-25T07:19:37.152331Z",
     "iopub.status.idle": "2023-07-25T07:19:37.317106Z",
     "shell.execute_reply": "2023-07-25T07:19:37.316036Z",
     "shell.execute_reply.started": "2023-07-25T07:19:37.152733Z"
    },
    "tags": []
   },
   "outputs": [
    {
     "data": {
      "text/html": [
       "\n",
       "      <style>\n",
       "      .floating-box {\n",
       "      display: inline-block;\n",
       "      margin: 7px;\n",
       "      padding : 3px;\n",
       "      border: 0px solid transparent;  \n",
       "      valign:middle;\n",
       "      background-color: transparent;\n",
       "      }\n",
       "      </style>\n",
       "      <div class=\"floating-box\"><svg xmlns=\"http://www.w3.org/2000/svg\" xmlns:xlink=\"http://www.w3.org/1999/xlink\" width=\"206pt\" height=\"188pt\" viewBox=\"0.00 0.00 206.00 188.00\">\n",
       "<g id=\"graph0\" class=\"graph\" transform=\"scale(1 1) rotate(0) translate(4 184)\">\n",
       "<title>G</title>\n",
       "<!-- Y1 -->\n",
       "<g id=\"node1\" class=\"node\">\n",
       "<title>Y1</title>\n",
       "<g id=\"a_node1\"><a xlink:title=\"(2) Y1\">\n",
       "<ellipse fill=\"#404040\" stroke=\"black\" cx=\"135\" cy=\"-18\" rx=\"27\" ry=\"18\"/>\n",
       "<text text-anchor=\"middle\" x=\"135\" y=\"-13.32\" font-family=\"Times,serif\" font-size=\"14.00\" fill=\"white\">Y1</text>\n",
       "</a>\n",
       "</g>\n",
       "</g>\n",
       "<!-- X2 -->\n",
       "<g id=\"node2\" class=\"node\">\n",
       "<title>X2</title>\n",
       "<g id=\"a_node2\"><a xlink:title=\"(4) X2\">\n",
       "<ellipse fill=\"#404040\" stroke=\"black\" cx=\"27\" cy=\"-90\" rx=\"27\" ry=\"18\"/>\n",
       "<text text-anchor=\"middle\" x=\"27\" y=\"-85.33\" font-family=\"Times,serif\" font-size=\"14.00\" fill=\"white\">X2</text>\n",
       "</a>\n",
       "</g>\n",
       "</g>\n",
       "<!-- Y2 -->\n",
       "<g id=\"node3\" class=\"node\">\n",
       "<title>Y2</title>\n",
       "<g id=\"a_node3\"><a xlink:title=\"(5) Y2\">\n",
       "<ellipse fill=\"#404040\" stroke=\"black\" cx=\"27\" cy=\"-18\" rx=\"27\" ry=\"18\"/>\n",
       "<text text-anchor=\"middle\" x=\"27\" y=\"-13.32\" font-family=\"Times,serif\" font-size=\"14.00\" fill=\"white\">Y2</text>\n",
       "</a>\n",
       "</g>\n",
       "</g>\n",
       "<!-- X2&#45;&gt;Y2 -->\n",
       "<g id=\"edge4\" class=\"edge\">\n",
       "<title>X2-&gt;Y2</title>\n",
       "<g id=\"a_edge4\"><a xlink:title=\"4 → 5\">\n",
       "<path fill=\"none\" stroke=\"#4a4a4a\" d=\"M27,-71.7C27,-64.24 27,-55.32 27,-46.97\"/>\n",
       "<polygon fill=\"#4a4a4a\" stroke=\"#4a4a4a\" points=\"30.5,-47.1 27,-37.1 23.5,-47.1 30.5,-47.1\"/>\n",
       "</a>\n",
       "</g>\n",
       "</g>\n",
       "<!-- X1 -->\n",
       "<g id=\"node4\" class=\"node\">\n",
       "<title>X1</title>\n",
       "<g id=\"a_node4\"><a xlink:title=\"(1) X1\">\n",
       "<ellipse fill=\"#404040\" stroke=\"black\" cx=\"171\" cy=\"-90\" rx=\"27\" ry=\"18\"/>\n",
       "<text text-anchor=\"middle\" x=\"171\" y=\"-85.33\" font-family=\"Times,serif\" font-size=\"14.00\" fill=\"white\">X1</text>\n",
       "</a>\n",
       "</g>\n",
       "</g>\n",
       "<!-- X1&#45;&gt;Y1 -->\n",
       "<g id=\"edge2\" class=\"edge\">\n",
       "<title>X1-&gt;Y1</title>\n",
       "<g id=\"a_edge2\"><a xlink:title=\"1 → 2\">\n",
       "<path fill=\"none\" stroke=\"#4a4a4a\" d=\"M162.65,-72.76C158.38,-64.46 153.08,-54.15 148.27,-44.79\"/>\n",
       "<polygon fill=\"#4a4a4a\" stroke=\"#4a4a4a\" points=\"150.99,-43.44 143.3,-36.15 144.77,-46.64 150.99,-43.44\"/>\n",
       "</a>\n",
       "</g>\n",
       "</g>\n",
       "<!-- Pb -->\n",
       "<g id=\"node5\" class=\"node\">\n",
       "<title>Pb</title>\n",
       "<g id=\"a_node5\"><a xlink:title=\"(3) Pb\">\n",
       "<ellipse fill=\"#404040\" stroke=\"black\" cx=\"99\" cy=\"-90\" rx=\"27\" ry=\"18\"/>\n",
       "<text text-anchor=\"middle\" x=\"99\" y=\"-85.33\" font-family=\"Times,serif\" font-size=\"14.00\" fill=\"white\">Pb</text>\n",
       "</a>\n",
       "</g>\n",
       "</g>\n",
       "<!-- Pb&#45;&gt;Y1 -->\n",
       "<g id=\"edge5\" class=\"edge\">\n",
       "<title>Pb-&gt;Y1</title>\n",
       "<g id=\"a_edge5\"><a xlink:title=\"3 → 2\">\n",
       "<path fill=\"none\" stroke=\"#4a4a4a\" d=\"M107.35,-72.76C111.62,-64.46 116.92,-54.15 121.73,-44.79\"/>\n",
       "<polygon fill=\"#4a4a4a\" stroke=\"#4a4a4a\" points=\"125.23,-46.64 126.7,-36.15 119.01,-43.44 125.23,-46.64\"/>\n",
       "</a>\n",
       "</g>\n",
       "</g>\n",
       "<!-- Pb&#45;&gt;Y2 -->\n",
       "<g id=\"edge6\" class=\"edge\">\n",
       "<title>Pb-&gt;Y2</title>\n",
       "<g id=\"a_edge6\"><a xlink:title=\"3 → 5\">\n",
       "<path fill=\"none\" stroke=\"#4a4a4a\" d=\"M84.08,-74.5C74.14,-64.83 60.88,-51.94 49.65,-41.02\"/>\n",
       "<polygon fill=\"#4a4a4a\" stroke=\"#4a4a4a\" points=\"52.51,-38.95 42.9,-34.49 47.63,-43.97 52.51,-38.95\"/>\n",
       "</a>\n",
       "</g>\n",
       "</g>\n",
       "<!-- Ca -->\n",
       "<g id=\"node6\" class=\"node\">\n",
       "<title>Ca</title>\n",
       "<g id=\"a_node6\"><a xlink:title=\"(0) Ca\">\n",
       "<ellipse fill=\"#404040\" stroke=\"black\" cx=\"99\" cy=\"-162\" rx=\"27\" ry=\"18\"/>\n",
       "<text text-anchor=\"middle\" x=\"99\" y=\"-157.32\" font-family=\"Times,serif\" font-size=\"14.00\" fill=\"white\">Ca</text>\n",
       "</a>\n",
       "</g>\n",
       "</g>\n",
       "<!-- Ca&#45;&gt;X2 -->\n",
       "<g id=\"edge3\" class=\"edge\">\n",
       "<title>Ca-&gt;X2</title>\n",
       "<g id=\"a_edge3\"><a xlink:title=\"0 → 4\">\n",
       "<path fill=\"none\" stroke=\"#4a4a4a\" d=\"M84.08,-146.5C74.14,-136.83 60.88,-123.94 49.65,-113.02\"/>\n",
       "<polygon fill=\"#4a4a4a\" stroke=\"#4a4a4a\" points=\"52.51,-110.95 42.9,-106.49 47.63,-115.97 52.51,-110.95\"/>\n",
       "</a>\n",
       "</g>\n",
       "</g>\n",
       "<!-- Ca&#45;&gt;X1 -->\n",
       "<g id=\"edge1\" class=\"edge\">\n",
       "<title>Ca-&gt;X1</title>\n",
       "<g id=\"a_edge1\"><a xlink:title=\"0 → 1\">\n",
       "<path fill=\"none\" stroke=\"#4a4a4a\" d=\"M113.92,-146.5C123.86,-136.83 137.12,-123.94 148.35,-113.02\"/>\n",
       "<polygon fill=\"#4a4a4a\" stroke=\"#4a4a4a\" points=\"150.37,-115.97 155.1,-106.49 145.49,-110.95 150.37,-115.97\"/>\n",
       "</a>\n",
       "</g>\n",
       "</g>\n",
       "</g>\n",
       "</svg><br><center><small><em>original model</em></small></center></div><div class=\"floating-box\"><svg xmlns=\"http://www.w3.org/2000/svg\" xmlns:xlink=\"http://www.w3.org/1999/xlink\" width=\"134pt\" height=\"260pt\" viewBox=\"0.00 0.00 134.00 260.00\">\n",
       "<g id=\"graph0\" class=\"graph\" transform=\"scale(1 1) rotate(0) translate(4 256)\">\n",
       "<title>G</title>\n",
       "<!-- Y1 -->\n",
       "<g id=\"node1\" class=\"node\">\n",
       "<title>Y1</title>\n",
       "<g id=\"a_node1\"><a xlink:title=\"(1) Y1\">\n",
       "<ellipse fill=\"#404040\" stroke=\"black\" cx=\"63\" cy=\"-18\" rx=\"27\" ry=\"18\"/>\n",
       "<text text-anchor=\"middle\" x=\"63\" y=\"-13.32\" font-family=\"Times,serif\" font-size=\"14.00\" fill=\"white\">Y1</text>\n",
       "</a>\n",
       "</g>\n",
       "</g>\n",
       "<!-- X2 -->\n",
       "<g id=\"node2\" class=\"node\">\n",
       "<title>X2</title>\n",
       "<g id=\"a_node2\"><a xlink:title=\"(2) X2\">\n",
       "<ellipse fill=\"#404040\" stroke=\"black\" cx=\"62\" cy=\"-234\" rx=\"27\" ry=\"18\"/>\n",
       "<text text-anchor=\"middle\" x=\"62\" y=\"-229.32\" font-family=\"Times,serif\" font-size=\"14.00\" fill=\"white\">X2</text>\n",
       "</a>\n",
       "</g>\n",
       "</g>\n",
       "<!-- Y2 -->\n",
       "<g id=\"node3\" class=\"node\">\n",
       "<title>Y2</title>\n",
       "<g id=\"a_node3\"><a xlink:title=\"(3) Y2\">\n",
       "<ellipse fill=\"#404040\" stroke=\"black\" cx=\"27\" cy=\"-90\" rx=\"27\" ry=\"18\"/>\n",
       "<text text-anchor=\"middle\" x=\"27\" y=\"-85.33\" font-family=\"Times,serif\" font-size=\"14.00\" fill=\"white\">Y2</text>\n",
       "</a>\n",
       "</g>\n",
       "</g>\n",
       "<!-- X2&#45;&gt;Y2 -->\n",
       "<g id=\"edge5\" class=\"edge\">\n",
       "<title>X2-&gt;Y2</title>\n",
       "<g id=\"a_edge5\"><a xlink:title=\"2 → 3\">\n",
       "<path fill=\"none\" stroke=\"#4a4a4a\" d=\"M57.78,-215.87C51.84,-191.78 40.95,-147.6 33.85,-118.77\"/>\n",
       "<polygon fill=\"#4a4a4a\" stroke=\"#4a4a4a\" points=\"37.03,-118.06 31.24,-109.19 30.23,-119.74 37.03,-118.06\"/>\n",
       "</a>\n",
       "</g>\n",
       "</g>\n",
       "<!-- Ca -->\n",
       "<g id=\"node5\" class=\"node\">\n",
       "<title>Ca</title>\n",
       "<g id=\"a_node5\"><a xlink:title=\"(4) Ca\">\n",
       "<ellipse fill=\"#404040\" stroke=\"black\" cx=\"94\" cy=\"-162\" rx=\"27\" ry=\"18\"/>\n",
       "<text text-anchor=\"middle\" x=\"94\" y=\"-157.32\" font-family=\"Times,serif\" font-size=\"14.00\" fill=\"white\">Ca</text>\n",
       "</a>\n",
       "</g>\n",
       "</g>\n",
       "<!-- X2&#45;&gt;Ca -->\n",
       "<g id=\"edge2\" class=\"edge\">\n",
       "<title>X2-&gt;Ca</title>\n",
       "<g id=\"a_edge2\"><a xlink:title=\"2 → 4\">\n",
       "<path fill=\"none\" stroke=\"#4a4a4a\" d=\"M69.58,-216.41C73.29,-208.3 77.84,-198.35 82,-189.25\"/>\n",
       "<polygon fill=\"#4a4a4a\" stroke=\"#4a4a4a\" points=\"85.5,-191.02 86.47,-180.47 79.13,-188.11 85.5,-191.02\"/>\n",
       "</a>\n",
       "</g>\n",
       "</g>\n",
       "<!-- Y2&#45;&gt;Y1 -->\n",
       "<g id=\"edge4\" class=\"edge\">\n",
       "<title>Y2-&gt;Y1</title>\n",
       "<g id=\"a_edge4\"><a xlink:title=\"3 → 1\">\n",
       "<path fill=\"none\" stroke=\"#4a4a4a\" d=\"M35.35,-72.76C39.62,-64.46 44.92,-54.15 49.73,-44.79\"/>\n",
       "<polygon fill=\"#4a4a4a\" stroke=\"#4a4a4a\" points=\"53.23,-46.64 54.7,-36.15 47.01,-43.44 53.23,-46.64\"/>\n",
       "</a>\n",
       "</g>\n",
       "</g>\n",
       "<!-- X1 -->\n",
       "<g id=\"node4\" class=\"node\">\n",
       "<title>X1</title>\n",
       "<g id=\"a_node4\"><a xlink:title=\"(0) X1\">\n",
       "<ellipse fill=\"#404040\" stroke=\"black\" cx=\"99\" cy=\"-90\" rx=\"27\" ry=\"18\"/>\n",
       "<text text-anchor=\"middle\" x=\"99\" y=\"-85.33\" font-family=\"Times,serif\" font-size=\"14.00\" fill=\"white\">X1</text>\n",
       "</a>\n",
       "</g>\n",
       "</g>\n",
       "<!-- X1&#45;&gt;Y1 -->\n",
       "<g id=\"edge1\" class=\"edge\">\n",
       "<title>X1-&gt;Y1</title>\n",
       "<g id=\"a_edge1\"><a xlink:title=\"0 → 1\">\n",
       "<path fill=\"none\" stroke=\"#4a4a4a\" d=\"M90.65,-72.76C86.38,-64.46 81.08,-54.15 76.27,-44.79\"/>\n",
       "<polygon fill=\"#4a4a4a\" stroke=\"#4a4a4a\" points=\"78.99,-43.44 71.3,-36.15 72.77,-46.64 78.99,-43.44\"/>\n",
       "</a>\n",
       "</g>\n",
       "</g>\n",
       "<!-- Ca&#45;&gt;X1 -->\n",
       "<g id=\"edge3\" class=\"edge\">\n",
       "<title>Ca-&gt;X1</title>\n",
       "<g id=\"a_edge3\"><a xlink:title=\"4 → 0\">\n",
       "<path fill=\"none\" stroke=\"#4a4a4a\" d=\"M95.24,-143.7C95.77,-136.24 96.41,-127.32 97,-118.97\"/>\n",
       "<polygon fill=\"#4a4a4a\" stroke=\"#4a4a4a\" points=\"100.56,-119.33 97.78,-109.1 93.57,-118.83 100.56,-119.33\"/>\n",
       "</a>\n",
       "</g>\n",
       "</g>\n",
       "</g>\n",
       "</svg><br><center><small><em>learned model</em></small></center></div><div class=\"floating-box\">$$[('Y2', 'Y1')]$$<br><center><small><em>Latent variables found</em></small></center></div>"
      ],
      "text/plain": [
       "<IPython.core.display.HTML object>"
      ]
     },
     "metadata": {},
     "output_type": "display_data"
    }
   ],
   "source": [
    "gnb.flow.row(bn,bn3,f\"$${[(bn3.variable(i).name(),bn3.variable(j).name()) for (i,j) in learner.latentVariables()]}$$\",\n",
    "              captions=['original model','learned model','Latent variables found'])"
   ]
  },
  {
   "cell_type": "markdown",
   "metadata": {},
   "source": [
    "Then we can build a causal model taking into account this latent variable found by MIIC."
   ]
  },
  {
   "cell_type": "code",
   "execution_count": 15,
   "metadata": {
    "ExecuteTime": {
     "end_time": "2019-04-20T13:56:18.445928Z",
     "start_time": "2019-04-20T13:56:16.265708Z"
    },
    "execution": {
     "iopub.execute_input": "2023-07-25T07:19:37.319031Z",
     "iopub.status.busy": "2023-07-25T07:19:37.318521Z",
     "iopub.status.idle": "2023-07-25T07:19:37.438222Z",
     "shell.execute_reply": "2023-07-25T07:19:37.437118Z",
     "shell.execute_reply.started": "2023-07-25T07:19:37.318979Z"
    },
    "tags": []
   },
   "outputs": [
    {
     "data": {
      "text/html": [
       "\n",
       "      <style>\n",
       "      .floating-box {\n",
       "      display: inline-block;\n",
       "      margin: 7px;\n",
       "      padding : 3px;\n",
       "      border: 0px solid transparent;  \n",
       "      valign:middle;\n",
       "      background-color: transparent;\n",
       "      }\n",
       "      </style>\n",
       "      <div class=\"floating-box\"><svg xmlns=\"http://www.w3.org/2000/svg\" xmlns:xlink=\"http://www.w3.org/1999/xlink\" width=\"149pt\" height=\"180pt\" viewBox=\"0.00 0.00 149.36 180.00\">\n",
       "<g id=\"graph0\" class=\"graph\" transform=\"scale(0.957447 0.957447) rotate(0) translate(4 184)\">\n",
       "<title>G</title>\n",
       "<!-- L1 -->\n",
       "<g id=\"node1\" class=\"node\">\n",
       "<title>L1</title>\n",
       "<ellipse fill=\"#404040\" stroke=\"#4a4a4a\" cx=\"74\" cy=\"-90\" rx=\"1.8\" ry=\"1.8\"/>\n",
       "</g>\n",
       "<!-- Y1 -->\n",
       "<g id=\"node3\" class=\"node\">\n",
       "<title>Y1</title>\n",
       "<ellipse fill=\"#404040\" stroke=\"#4a4a4a\" cx=\"38\" cy=\"-18\" rx=\"27\" ry=\"18\"/>\n",
       "<text text-anchor=\"middle\" x=\"38\" y=\"-13.32\" font-family=\"Times,serif\" font-size=\"14.00\" fill=\"white\">Y1</text>\n",
       "</g>\n",
       "<!-- L1&#45;&gt;Y1 -->\n",
       "<g id=\"edge3\" class=\"edge\">\n",
       "<title>L1-&gt;Y1</title>\n",
       "<path fill=\"none\" stroke=\"#4a4a4a\" stroke-dasharray=\"5,2\" d=\"M73.49,-88.01C71.08,-83.32 60.52,-62.79 51.54,-45.33\"/>\n",
       "<polygon fill=\"#4a4a4a\" stroke=\"#4a4a4a\" points=\"54.2,-43.84 46.51,-36.55 47.97,-47.04 54.2,-43.84\"/>\n",
       "</g>\n",
       "<!-- Y2 -->\n",
       "<g id=\"node5\" class=\"node\">\n",
       "<title>Y2</title>\n",
       "<ellipse fill=\"#404040\" stroke=\"#4a4a4a\" cx=\"115\" cy=\"-18\" rx=\"27\" ry=\"18\"/>\n",
       "<text text-anchor=\"middle\" x=\"115\" y=\"-13.32\" font-family=\"Times,serif\" font-size=\"14.00\" fill=\"white\">Y2</text>\n",
       "</g>\n",
       "<!-- L1&#45;&gt;Y2 -->\n",
       "<g id=\"edge6\" class=\"edge\">\n",
       "<title>L1-&gt;Y2</title>\n",
       "<path fill=\"none\" stroke=\"#4a4a4a\" stroke-dasharray=\"5,2\" d=\"M74.58,-88.01C77.37,-83.24 89.72,-62.15 100.05,-44.53\"/>\n",
       "<polygon fill=\"#4a4a4a\" stroke=\"#4a4a4a\" points=\"103.47,-46.62 105.5,-36.22 97.43,-43.08 103.47,-46.62\"/>\n",
       "</g>\n",
       "<!-- X1 -->\n",
       "<g id=\"node2\" class=\"node\">\n",
       "<title>X1</title>\n",
       "<ellipse fill=\"#404040\" stroke=\"#4a4a4a\" cx=\"27\" cy=\"-90\" rx=\"27\" ry=\"18\"/>\n",
       "<text text-anchor=\"middle\" x=\"27\" y=\"-85.33\" font-family=\"Times,serif\" font-size=\"14.00\" fill=\"white\">X1</text>\n",
       "</g>\n",
       "<!-- X1&#45;&gt;Y1 -->\n",
       "<g id=\"edge1\" class=\"edge\">\n",
       "<title>X1-&gt;Y1</title>\n",
       "<path fill=\"none\" stroke=\"#4a4a4a\" d=\"M28.73,-71.54C29.9,-64.08 31.3,-55.17 32.62,-46.81\"/>\n",
       "<path fill=\"none\" stroke=\"#4a4a4a\" d=\"M30.71,-71.85C31.88,-64.39 33.28,-55.48 34.59,-47.12\"/>\n",
       "<polygon fill=\"#4a4a4a\" stroke=\"#4a4a4a\" points=\"37.22,-47.53 35.31,-37.1 30.3,-46.44 37.22,-47.53\"/>\n",
       "</g>\n",
       "<!-- X2 -->\n",
       "<g id=\"node4\" class=\"node\">\n",
       "<title>X2</title>\n",
       "<ellipse fill=\"#404040\" stroke=\"#4a4a4a\" cx=\"121\" cy=\"-90\" rx=\"27\" ry=\"18\"/>\n",
       "<text text-anchor=\"middle\" x=\"121\" y=\"-85.33\" font-family=\"Times,serif\" font-size=\"14.00\" fill=\"white\">X2</text>\n",
       "</g>\n",
       "<!-- X2&#45;&gt;Y2 -->\n",
       "<g id=\"edge5\" class=\"edge\">\n",
       "<title>X2-&gt;Y2</title>\n",
       "<path fill=\"none\" stroke=\"#4a4a4a\" d=\"M118.52,-71.78C117.88,-64.32 117.12,-55.41 116.4,-47.05\"/>\n",
       "<path fill=\"none\" stroke=\"#4a4a4a\" d=\"M120.51,-71.61C119.87,-64.15 119.11,-55.24 118.39,-46.88\"/>\n",
       "<polygon fill=\"#4a4a4a\" stroke=\"#4a4a4a\" points=\"120.81,-46.77 116.47,-37.1 113.83,-47.37 120.81,-46.77\"/>\n",
       "</g>\n",
       "<!-- Ca -->\n",
       "<g id=\"node6\" class=\"node\">\n",
       "<title>Ca</title>\n",
       "<ellipse fill=\"#404040\" stroke=\"#4a4a4a\" cx=\"74\" cy=\"-162\" rx=\"27\" ry=\"18\"/>\n",
       "<text text-anchor=\"middle\" x=\"74\" y=\"-157.32\" font-family=\"Times,serif\" font-size=\"14.00\" fill=\"white\">Ca</text>\n",
       "</g>\n",
       "<!-- Ca&#45;&gt;X1 -->\n",
       "<g id=\"edge2\" class=\"edge\">\n",
       "<title>Ca-&gt;X1</title>\n",
       "<path fill=\"none\" stroke=\"#4a4a4a\" d=\"M62.5,-145.67C56.68,-136.99 49.33,-126.05 42.77,-116.28\"/>\n",
       "<path fill=\"none\" stroke=\"#4a4a4a\" d=\"M64.17,-144.56C58.34,-135.88 50.99,-124.93 44.43,-115.16\"/>\n",
       "<polygon fill=\"#4a4a4a\" stroke=\"#4a4a4a\" points=\"46.1,-114.17 37.62,-107.82 40.29,-118.07 46.1,-114.17\"/>\n",
       "</g>\n",
       "<!-- Ca&#45;&gt;X2 -->\n",
       "<g id=\"edge4\" class=\"edge\">\n",
       "<title>Ca-&gt;X2</title>\n",
       "<path fill=\"none\" stroke=\"#4a4a4a\" d=\"M83.83,-144.56C89.66,-135.88 97.01,-124.93 103.57,-115.16\"/>\n",
       "<path fill=\"none\" stroke=\"#4a4a4a\" d=\"M85.5,-145.67C91.32,-136.99 98.67,-126.05 105.23,-116.28\"/>\n",
       "<polygon fill=\"#4a4a4a\" stroke=\"#4a4a4a\" points=\"107.71,-118.07 110.38,-107.82 101.9,-114.17 107.71,-118.07\"/>\n",
       "</g>\n",
       "</g>\n",
       "</svg><br><center><small><em>Causal Model</em></small></center></div><div class=\"floating-box\">$$\\begin{equation*}P( Y1 \\mid \\hookrightarrow\\mkern-6.5muX2) = \\sum_{X1}{P\\left(Y1\\mid X1\\right) \\cdot P\\left(X1\\right)}\\end{equation*}$$<br><center><small><em>Explanation : backdoor ['X1'] found.</em></small></center></div><div class=\"floating-box\"><table style=\"border:1px solid black;\">\n",
       "<tr style='border:1px solid black;color:black;background-color:#808080'>\n",
       "      <th colspan='2'><center>Y1</center></th></tr>\n",
       "<tr><th style='border:1px solid black;border-bottom-style: double;color:black;background-color:#BBBBBB'>\n",
       "      <center>0</center></th><th style='border:1px solid black;border-bottom-style: double;color:black;background-color:#BBBBBB'>\n",
       "      <center>1</center></th></tr>\n",
       "<tr><td style='color:black;background-color:#b5c864;text-align:right;'>0.5725</td><td style='color:black;background-color:#c8b564;text-align:right;'>0.4275</td></tr>\n",
       "</table><br><center><small><em>Impact</em></small></center></div>"
      ],
      "text/plain": [
       "<IPython.core.display.HTML object>"
      ]
     },
     "metadata": {},
     "output_type": "display_data"
    }
   ],
   "source": [
    "model3=csl.CausalModel(bn2,[(\"L1\",(\"Y1\",\"Y2\"))])\n",
    "cslnb.showCausalImpact(model3,target, {evs})"
   ]
  },
  {
   "cell_type": "markdown",
   "metadata": {},
   "source": [
    "Then at least, the statistician can say that $X_2$ has no impact on $Y_1$ from the data. The error is just due to the approximation of the parameters in the database."
   ]
  },
  {
   "cell_type": "code",
   "execution_count": 16,
   "metadata": {
    "ExecuteTime": {
     "end_time": "2019-04-20T13:56:18.460053Z",
     "start_time": "2019-04-20T13:56:18.448486Z"
    },
    "execution": {
     "iopub.execute_input": "2023-07-25T07:19:37.440115Z",
     "iopub.status.busy": "2023-07-25T07:19:37.439700Z",
     "iopub.status.idle": "2023-07-25T07:19:37.453615Z",
     "shell.execute_reply": "2023-07-25T07:19:37.452665Z",
     "shell.execute_reply.started": "2023-07-25T07:19:37.440073Z"
    },
    "tags": []
   },
   "outputs": [
    {
     "data": {
      "text/html": [
       "\n",
       "      <style>\n",
       "      .floating-box {\n",
       "      display: inline-block;\n",
       "      margin: 7px;\n",
       "      padding : 3px;\n",
       "      border: 0px solid transparent;  \n",
       "      valign:middle;\n",
       "      background-color: transparent;\n",
       "      }\n",
       "      </style>\n",
       "      <div class=\"floating-box\"><table style=\"border:1px solid black;\">\n",
       "<tr style='border:1px solid black;color:black;background-color:#808080'>\n",
       "      <th colspan='2'><center>Y1</center></th></tr>\n",
       "<tr><th style='border:1px solid black;border-bottom-style: double;color:black;background-color:#BBBBBB'>\n",
       "      <center>0</center></th><th style='border:1px solid black;border-bottom-style: double;color:black;background-color:#BBBBBB'>\n",
       "      <center>1</center></th></tr>\n",
       "<tr><td style='color:black;background-color:#b5c864;text-align:right;'>0.5768</td><td style='color:black;background-color:#c8b564;text-align:right;'>0.4232</td></tr>\n",
       "</table><br><center><small><em>in original model</em></small></center></div><div class=\"floating-box\"><table style=\"border:1px solid black;\">\n",
       "<tr style='border:1px solid black;color:black;background-color:#808080'>\n",
       "      <th colspan='2'><center>Y1</center></th></tr>\n",
       "<tr><th style='border:1px solid black;border-bottom-style: double;color:black;background-color:#BBBBBB'>\n",
       "      <center>0</center></th><th style='border:1px solid black;border-bottom-style: double;color:black;background-color:#BBBBBB'>\n",
       "      <center>1</center></th></tr>\n",
       "<tr><td style='color:black;background-color:#b5c864;text-align:right;'>0.5725</td><td style='color:black;background-color:#c8b564;text-align:right;'>0.4275</td></tr>\n",
       "</table><br><center><small><em>in learned model</em></small></center></div><div class=\"floating-box\"><table style=\"border:1px solid black;\">\n",
       "<tr style='border:1px solid black;color:black;background-color:#808080'>\n",
       "      <th colspan='2'><center>Y1</center></th></tr>\n",
       "<tr><th style='border:1px solid black;border-bottom-style: double;color:black;background-color:#BBBBBB'>\n",
       "      <center>0</center></th><th style='border:1px solid black;border-bottom-style: double;color:black;background-color:#BBBBBB'>\n",
       "      <center>1</center></th></tr>\n",
       "<tr><td style='text-align:right;'>0.7454</td><td style='text-align:right;'>-1.0160</td></tr>\n",
       "</table><br><center><small><em>relative errors</em></small></center></div><div class=\"floating-box\">$$1.58783$$<br><center><small><em>quadratic error</em></small></center></div>"
      ],
      "text/plain": [
       "<IPython.core.display.HTML object>"
      ]
     },
     "metadata": {},
     "output_type": "display_data"
    }
   ],
   "source": [
    "_, impact1, _ = csl.causalImpact(model, on=target, doing={evs})\n",
    "_, impact3orig, _ = csl.causalImpact(model3, on=target, doing={evs})\n",
    "\n",
    "impact3=gum.Potential(impact1).fillWith(impact3orig,['Y1'])\n",
    "errs=((impact1-impact3)/impact1).scale(100)\n",
    "quaderr=(errs*errs).sum()\n",
    "gnb.flow.row(impact1,impact3,errs,f\"$${quaderr:3.5f}$$\",\n",
    "              captions=['in original model','in learned model','relative errors','quadratic error'])"
   ]
  }
 ],
 "metadata": {
  "hide_input": false,
  "kernelspec": {
   "display_name": "Python 3 (ipykernel)",
   "language": "python",
   "name": "python3"
  },
  "language_info": {
   "codemirror_mode": {
    "name": "ipython",
    "version": 3
   },
   "file_extension": ".py",
   "mimetype": "text/x-python",
   "name": "python",
   "nbconvert_exporter": "python",
   "pygments_lexer": "ipython3",
   "version": "3.11.3"
  },
  "toc": {
   "colors": {
    "hover_highlight": "#DAA520",
    "running_highlight": "#FF0000",
    "selected_highlight": "#FFD700"
   },
   "moveMenuLeft": true,
   "nav_menu": {
    "height": "12px",
    "width": "252px"
   },
   "navigate_menu": true,
   "number_sections": true,
   "sideBar": true,
   "threshold": 4,
   "toc_cell": false,
   "toc_section_display": "block",
   "toc_window_display": true,
   "widenNotebook": false
  }
 },
 "nbformat": 4,
 "nbformat_minor": 4
}
