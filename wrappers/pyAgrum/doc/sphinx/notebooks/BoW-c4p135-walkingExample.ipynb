{
 "cells": [
  {
   "cell_type": "markdown",
   "metadata": {
    "editable": true,
    "slideshow": {
     "slide_type": ""
    },
    "tags": []
   },
   "source": [
    "# Walking Example (p135)"
   ]
  },
  {
   "cell_type": "markdown",
   "metadata": {
    "editable": true,
    "slideshow": {
     "slide_type": ""
    },
    "tags": []
   },
   "source": [
    "| | | |\n",
    "|-|-|-|\n",
    "|[ ![Creative Commons License](images/cc4.png)](http://creativecommons.org/licenses/by-nc/4.0/) |[ ![aGrUM](images/logoAgrum.png)](https://agrum.org) |[ ![interactive online version](images/atbinder.svg)](https://agrum.gitlab.io/extra/agrum_at_binder.html)\n",
    "\n",
    "Authors: <b>Aymen Merrouche</b> and Pierre-Henri Wuillemin.\n",
    "\n",
    "**This notebook follows the example from \"The Book Of Why\" (Pearl, 2018) chapter 4 page135**"
   ]
  },
  {
   "cell_type": "markdown",
   "metadata": {
    "editable": true,
    "slideshow": {
     "slide_type": ""
    },
    "tags": []
   },
   "source": [
    "## Confounding"
   ]
  },
  {
   "cell_type": "code",
   "execution_count": 1,
   "metadata": {
    "editable": true,
    "execution": {
     "iopub.execute_input": "2024-06-10T19:50:55.127714Z",
     "iopub.status.busy": "2024-06-10T19:50:55.127537Z",
     "iopub.status.idle": "2024-06-10T19:50:55.655119Z",
     "shell.execute_reply": "2024-06-10T19:50:55.653636Z",
     "shell.execute_reply.started": "2024-06-10T19:50:55.127693Z"
    },
    "slideshow": {
     "slide_type": ""
    },
    "tags": []
   },
   "outputs": [],
   "source": [
    "from IPython.display import display, Math, Latex,HTML\n",
    "\n",
    "import pyAgrum as gum\n",
    "import pyAgrum.lib.notebook as gnb\n",
    "import pyAgrum.causal as csl\n",
    "import pyAgrum.causal.notebook as cslnb\n",
    "import os"
   ]
  },
  {
   "cell_type": "markdown",
   "metadata": {},
   "source": [
    "> In 1998 a study unveiled a correlation between physical exercise and longevity among nonsmoking retired men. Of course what we want to know is whether men who exercise more live longer, suggesting a causal relationship. Study measurements are to be found at the end of this notebook."
   ]
  },
  {
   "cell_type": "markdown",
   "metadata": {},
   "source": [
    "### corresponding causal diagram\n",
    "The corresponding causal diagram is the following:"
   ]
  },
  {
   "cell_type": "code",
   "execution_count": 2,
   "metadata": {
    "execution": {
     "iopub.execute_input": "2024-06-10T19:50:55.656284Z",
     "iopub.status.busy": "2024-06-10T19:50:55.656004Z",
     "iopub.status.idle": "2024-06-10T19:50:55.748216Z",
     "shell.execute_reply": "2024-06-10T19:50:55.746872Z",
     "shell.execute_reply.started": "2024-06-10T19:50:55.656261Z"
    }
   },
   "outputs": [
    {
     "data": {
      "text/html": [
       "<table style=\"border-style: hidden; border-collapse: collapse;\" width=\"100%\"><tr><td style=\"border-top:hidden;border-bottom:hidden;vertical-align:middle;\"><div align=\"center\" style=\"vertical-align:middle;\"><svg xmlns=\"http://www.w3.org/2000/svg\" xmlns:xlink=\"http://www.w3.org/1999/xlink\" width=\"124pt\" height=\"116pt\" viewBox=\"0.00 0.00 124.09 116.00\">\n",
       "<g id=\"graph0\" class=\"graph\" transform=\"scale(1 1) rotate(0) translate(4 112)\">\n",
       "<title>G</title>\n",
       "<!-- Mortality -->\n",
       "<g id=\"node1\" class=\"node\">\n",
       "<title>Mortality</title>\n",
       "<g id=\"a_node1\"><a xlink:title=\"(1) Mortality\">\n",
       "<ellipse fill=\"#404040\" stroke=\"#4a4a4a\" cx=\"58.05\" cy=\"-18\" rx=\"58.05\" ry=\"18\"/>\n",
       "<text text-anchor=\"middle\" x=\"58.05\" y=\"-13.32\" font-family=\"Times,serif\" font-size=\"14.00\" fill=\"white\">Mortality</text>\n",
       "</a>\n",
       "</g>\n",
       "</g>\n",
       "<!-- Walking -->\n",
       "<g id=\"node2\" class=\"node\">\n",
       "<title>Walking</title>\n",
       "<g id=\"a_node2\"><a xlink:title=\"(0) Walking\">\n",
       "<ellipse fill=\"#404040\" stroke=\"#4a4a4a\" cx=\"58.05\" cy=\"-90\" rx=\"51.21\" ry=\"18\"/>\n",
       "<text text-anchor=\"middle\" x=\"58.05\" y=\"-85.33\" font-family=\"Times,serif\" font-size=\"14.00\" fill=\"white\">Walking</text>\n",
       "</a>\n",
       "</g>\n",
       "</g>\n",
       "<!-- Walking&#45;&gt;Mortality -->\n",
       "<g id=\"edge1\" class=\"edge\">\n",
       "<title>Walking-&gt;Mortality</title>\n",
       "<g id=\"a_edge1\"><a xlink:title=\"0 → 1\">\n",
       "<path fill=\"none\" stroke=\"#4a4a4a\" d=\"M58.05,-71.7C58.05,-64.41 58.05,-55.73 58.05,-47.54\"/>\n",
       "<polygon fill=\"#4a4a4a\" stroke=\"#4a4a4a\" points=\"61.55,-47.62 58.05,-37.62 54.55,-47.62 61.55,-47.62\"/>\n",
       "</a>\n",
       "</g>\n",
       "</g>\n",
       "</g>\n",
       "</svg><br><small><i>the BN</i></small></div></td><td style=\"border-top:hidden;border-bottom:hidden;vertical-align:middle;\"><div align=\"center\" style=\"vertical-align:middle;\"><table style=\"border:1px solid black;border-collapse: collapse;\">\n",
       "<tr><th colspan='1'></th>\n",
       "      <th colspan='3' style='border:1px solid black;color:black;background-color:#808080;'><center>Walking</center>\n",
       "      </th></tr>\n",
       "<tr><th style='border:1px solid black;color:black;background-color:#808080'><center>Mortality</center></th><th style='border:1px solid black;border-bottom-style: double;color:black;background-color:#BBBBBB'>\n",
       "      <center>casual</center></th><th style='border:1px solid black;border-bottom-style: double;color:black;background-color:#BBBBBB'>\n",
       "      <center>normal</center></th><th style='border:1px solid black;border-bottom-style: double;color:black;background-color:#BBBBBB'>\n",
       "      <center>intense</center></th></tr>\n",
       "<tr><th style='border:1px solid black;color:black;background-color:#BBBBBB'><center>dead</center></th><td style='color:black;background-color:#f38a64;text-align:right;padding: 3px;'>0.0918</td><td style='color:black;background-color:#eb9264;text-align:right;padding: 3px;'>0.1485</td><td style='color:black;background-color:#f88564;text-align:right;padding: 3px;'>0.0538</td></tr>\n",
       "<tr><th style='border:1px solid black;color:black;background-color:#BBBBBB'><center>alive</center></th><td style='color:black;background-color:#ef8e64;text-align:right;padding: 3px;'>0.1217</td><td style='color:black;background-color:#cdb064;text-align:right;padding: 3px;'>0.3876</td><td style='color:black;background-color:#e59864;text-align:right;padding: 3px;'>0.1965</td></tr>\n",
       "</table><br><small><i>the joint distribution</i></small></div></td><td style=\"border-top:hidden;border-bottom:hidden;vertical-align:middle;\"><div align=\"center\" style=\"vertical-align:middle;\"><table style=\"border:1px solid black;border-collapse: collapse;\">\n",
       "<tr style='border:1px solid black;color:black;background-color:#808080'>\n",
       "      <th colspan='3'><center>Walking</center></th></tr>\n",
       "<tr><th style='border:1px solid black;border-bottom-style: double;color:black;background-color:#BBBBBB'>\n",
       "      <center>casual</center></th><th style='border:1px solid black;border-bottom-style: double;color:black;background-color:#BBBBBB'>\n",
       "      <center>normal</center></th><th style='border:1px solid black;border-bottom-style: double;color:black;background-color:#BBBBBB'>\n",
       "      <center>intense</center></th></tr>\n",
       "<tr><td style='color:black;background-color:#e39a64;text-align:right;padding: 3px;'>0.2136</td><td style='color:black;background-color:#bac364;text-align:right;padding: 3px;'>0.5361</td><td style='color:black;background-color:#de9f64;text-align:right;padding: 3px;'>0.2504</td></tr>\n",
       "</table><br><small><i>the marginal for $Walking$</i></small></div></td><td style=\"border-top:hidden;border-bottom:hidden;vertical-align:middle;\"><div align=\"center\" style=\"vertical-align:middle;\"><table style=\"border:1px solid black;border-collapse: collapse;\">\n",
       "<tr><th colspan='1'></th>\n",
       "      <th colspan='2' style='border:1px solid black;color:black;background-color:#808080;'><center>Mortality</center>\n",
       "      </th></tr>\n",
       "<tr><th style='border:1px solid black;color:black;background-color:#808080'><center>Walking</center></th><th style='border:1px solid black;border-bottom-style: double;color:black;background-color:#BBBBBB'>\n",
       "      <center>dead</center></th><th style='border:1px solid black;border-bottom-style: double;color:black;background-color:#BBBBBB'>\n",
       "      <center>alive</center></th></tr>\n",
       "<tr><th style='border:1px solid black;color:black;background-color:#BBBBBB'><center>casual</center></th><td style='color:black;background-color:#c7b664;text-align:right;padding: 3px;'>0.4300</td><td style='color:black;background-color:#b6c764;text-align:right;padding: 3px;'>0.5700</td></tr>\n",
       "<tr><th style='border:1px solid black;color:black;background-color:#BBBBBB'><center>normal</center></th><td style='color:black;background-color:#dba264;text-align:right;padding: 3px;'>0.2770</td><td style='color:black;background-color:#a2db64;text-align:right;padding: 3px;'>0.7230</td></tr>\n",
       "<tr><th style='border:1px solid black;color:black;background-color:#BBBBBB'><center>intense</center></th><td style='color:black;background-color:#e39a64;text-align:right;padding: 3px;'>0.2150</td><td style='color:black;background-color:#9ae364;text-align:right;padding: 3px;'>0.7850</td></tr>\n",
       "</table><br><small><i>the CPT for $Mortality$</i></small></div></td></tr></table>"
      ],
      "text/plain": [
       "<IPython.core.display.HTML object>"
      ]
     },
     "metadata": {},
     "output_type": "display_data"
    }
   ],
   "source": [
    "# We create the causal diagram\n",
    "we = gum.fastBN(\"Walking{casual|normal|intense}->Mortality{dead|alive}\")\n",
    "\n",
    "# We fill the CPTs\n",
    "we.cpt(\"Walking\")[:]=[151/707,379/707,177/707]\n",
    "we.cpt(\"Mortality\")[{\"Walking\":\"casual\"}]=[0.43,0.57]\n",
    "we.cpt(\"Mortality\")[{\"Walking\":\"intense\"}]=[0.215,0.785]\n",
    "we.cpt(\"Mortality\")[{\"Walking\":\"normal\"}]=[0.277,0.723]\n",
    "                  \n",
    "gnb.sideBySide(we,we.cpt(\"Walking\")*we.cpt(\"Mortality\"),we.cpt(\"Walking\"),we.cpt(\"Mortality\"),\n",
    "               captions=[\"the BN\",\"the joint distribution\",\"the marginal for $Walking$\",\"the CPT for $Mortality$\"])"
   ]
  },
  {
   "cell_type": "markdown",
   "metadata": {},
   "source": [
    "> The study showed that after 12 years, 43% of casual walkers died while only 21,5% of intense walkers died."
   ]
  },
  {
   "cell_type": "markdown",
   "metadata": {},
   "source": [
    "## Causal effect of walking on mortality in this model:"
   ]
  },
  {
   "cell_type": "code",
   "execution_count": 3,
   "metadata": {
    "execution": {
     "iopub.execute_input": "2024-06-10T19:50:55.749124Z",
     "iopub.status.busy": "2024-06-10T19:50:55.748928Z",
     "iopub.status.idle": "2024-06-10T19:50:55.989241Z",
     "shell.execute_reply": "2024-06-10T19:50:55.987501Z",
     "shell.execute_reply.started": "2024-06-10T19:50:55.749105Z"
    }
   },
   "outputs": [
    {
     "data": {
      "text/html": [
       "\n",
       "      <style>\n",
       "      .floating-box {\n",
       "      display: inline-block;\n",
       "      margin: 7px;\n",
       "      padding : 3px;\n",
       "      border: 0px solid transparent;  \n",
       "      valign:middle;\n",
       "      background-color: transparent;\n",
       "      }\n",
       "      </style>\n",
       "      <div class=\"floating-box\"><svg xmlns=\"http://www.w3.org/2000/svg\" xmlns:xlink=\"http://www.w3.org/1999/xlink\" width=\"124pt\" height=\"116pt\" viewBox=\"0.00 0.00 124.09 116.00\">\n",
       "<g id=\"graph0\" class=\"graph\" transform=\"scale(1 1) rotate(0) translate(4 112)\">\n",
       "<title>G</title>\n",
       "<!-- Walking -->\n",
       "<g id=\"node1\" class=\"node\">\n",
       "<title>Walking</title>\n",
       "<ellipse fill=\"#404040\" stroke=\"#4a4a4a\" cx=\"58.05\" cy=\"-90\" rx=\"51.21\" ry=\"18\"/>\n",
       "<text text-anchor=\"middle\" x=\"58.05\" y=\"-85.33\" font-family=\"Times,serif\" font-size=\"14.00\" fill=\"white\">Walking</text>\n",
       "</g>\n",
       "<!-- Mortality -->\n",
       "<g id=\"node2\" class=\"node\">\n",
       "<title>Mortality</title>\n",
       "<ellipse fill=\"#404040\" stroke=\"#4a4a4a\" cx=\"58.05\" cy=\"-18\" rx=\"58.05\" ry=\"18\"/>\n",
       "<text text-anchor=\"middle\" x=\"58.05\" y=\"-13.32\" font-family=\"Times,serif\" font-size=\"14.00\" fill=\"white\">Mortality</text>\n",
       "</g>\n",
       "<!-- Walking&#45;&gt;Mortality -->\n",
       "<g id=\"edge1\" class=\"edge\">\n",
       "<title>Walking-&gt;Mortality</title>\n",
       "<path fill=\"none\" stroke=\"#4a4a4a\" d=\"M57.05,-71.7C57.05,-64.41 57.05,-55.73 57.05,-47.54\"/>\n",
       "<path fill=\"none\" stroke=\"#4a4a4a\" d=\"M59.05,-71.7C59.05,-64.41 59.05,-55.73 59.05,-47.54\"/>\n",
       "<polygon fill=\"#4a4a4a\" stroke=\"#4a4a4a\" points=\"61.55,-47.62 58.05,-37.62 54.55,-47.62 61.55,-47.62\"/>\n",
       "</g>\n",
       "</g>\n",
       "</svg><br><center><small><em>Causal Model</em></small></center></div><div class=\"floating-box\">$$\\begin{equation*}P( Mortality \\mid \\text{do}(Walking)) = P\\left(Mortality\\mid Walking\\right)\\end{equation*}$$<br><center><small><em>Explanation : Do-calculus computations</em></small></center></div><div class=\"floating-box\"><table style=\"border:1px solid black;border-collapse: collapse;\">\n",
       "<tr><th colspan='1'></th>\n",
       "      <th colspan='2' style='border:1px solid black;color:black;background-color:#808080;'><center>Mortality</center>\n",
       "      </th></tr>\n",
       "<tr><th style='border:1px solid black;color:black;background-color:#808080'><center>Walking</center></th><th style='border:1px solid black;border-bottom-style: double;color:black;background-color:#BBBBBB'>\n",
       "      <center>dead</center></th><th style='border:1px solid black;border-bottom-style: double;color:black;background-color:#BBBBBB'>\n",
       "      <center>alive</center></th></tr>\n",
       "<tr><th style='border:1px solid black;color:black;background-color:#BBBBBB'><center>casual</center></th><td style='color:black;background-color:#c7b664;text-align:right;padding: 3px;'>0.4300</td><td style='color:black;background-color:#b6c764;text-align:right;padding: 3px;'>0.5700</td></tr>\n",
       "<tr><th style='border:1px solid black;color:black;background-color:#BBBBBB'><center>normal</center></th><td style='color:black;background-color:#dba264;text-align:right;padding: 3px;'>0.2770</td><td style='color:black;background-color:#a2db64;text-align:right;padding: 3px;'>0.7230</td></tr>\n",
       "<tr><th style='border:1px solid black;color:black;background-color:#BBBBBB'><center>intense</center></th><td style='color:black;background-color:#e39a64;text-align:right;padding: 3px;'>0.2150</td><td style='color:black;background-color:#9ae364;text-align:right;padding: 3px;'>0.7850</td></tr>\n",
       "</table><br><center><small><em>Impact</em></small></center></div>"
      ],
      "text/plain": [
       "<IPython.core.display.HTML object>"
      ]
     },
     "metadata": {},
     "output_type": "display_data"
    }
   ],
   "source": [
    "weModele = csl.CausalModel(we)\n",
    "cslnb.showCausalImpact(weModele,\"Mortality\",doing=\"Walking\",values={})"
   ]
  },
  {
   "cell_type": "markdown",
   "metadata": {},
   "source": [
    "> Before jumping to any conclusions, we should consider the presence of possible confounders. We need to ask the following question: <b>what characterizes intense walkers from casual walkers? </b><br>\n",
    "Without abandoning the idea of a possible cause-and-effect relationship between walking and mortality, we introduce a third variable, a \"confounder\", a common cause of the two variables that could explain the correlation that exists between them. Our aim is to distinguish between the causal effect of walking on mortality (if there is a cause and effect relationship) the bias induced by this third variable. For this purpose, we need to adjust for it. "
   ]
  },
  {
   "cell_type": "code",
   "execution_count": 4,
   "metadata": {
    "editable": true,
    "execution": {
     "iopub.execute_input": "2024-06-10T19:50:55.990916Z",
     "iopub.status.busy": "2024-06-10T19:50:55.990609Z",
     "iopub.status.idle": "2024-06-10T19:50:56.101051Z",
     "shell.execute_reply": "2024-06-10T19:50:56.099795Z",
     "shell.execute_reply.started": "2024-06-10T19:50:55.990889Z"
    },
    "slideshow": {
     "slide_type": ""
    },
    "tags": [
     "nbsphinx-thumbnail"
    ]
   },
   "outputs": [
    {
     "data": {
      "image/svg+xml": [
       "<svg xmlns=\"http://www.w3.org/2000/svg\" xmlns:xlink=\"http://www.w3.org/1999/xlink\" width=\"156pt\" height=\"156pt\" viewBox=\"0.00 0.00 156.26 155.60\">\n",
       "<g id=\"graph0\" class=\"graph\" transform=\"scale(1 1) rotate(0) translate(4 151.6)\">\n",
       "<title>G</title>\n",
       "<!-- confounder -->\n",
       "<g id=\"node1\" class=\"node\">\n",
       "<title>confounder</title>\n",
       "<ellipse fill=\"#404040\" stroke=\"#4a4a4a\" cx=\"90.21\" cy=\"-145.8\" rx=\"1.8\" ry=\"1.8\"/>\n",
       "</g>\n",
       "<!-- Walking -->\n",
       "<g id=\"node2\" class=\"node\">\n",
       "<title>Walking</title>\n",
       "<ellipse fill=\"#404040\" stroke=\"#4a4a4a\" cx=\"51.21\" cy=\"-90\" rx=\"51.21\" ry=\"18\"/>\n",
       "<text text-anchor=\"middle\" x=\"51.21\" y=\"-85.33\" font-family=\"Times,serif\" font-size=\"14.00\" fill=\"white\">Walking</text>\n",
       "</g>\n",
       "<!-- confounder&#45;&gt;Walking -->\n",
       "<g id=\"edge2\" class=\"edge\">\n",
       "<title>confounder-&gt;Walking</title>\n",
       "<path fill=\"none\" stroke=\"#4a4a4a\" stroke-dasharray=\"5,2\" d=\"M89.53,-143.87C87.09,-140.5 78.43,-128.55 69.96,-116.86\"/>\n",
       "<polygon fill=\"#4a4a4a\" stroke=\"#4a4a4a\" points=\"72.92,-114.98 64.21,-108.94 67.25,-119.09 72.92,-114.98\"/>\n",
       "</g>\n",
       "<!-- Mortality -->\n",
       "<g id=\"node3\" class=\"node\">\n",
       "<title>Mortality</title>\n",
       "<ellipse fill=\"#404040\" stroke=\"#4a4a4a\" cx=\"90.21\" cy=\"-18\" rx=\"58.05\" ry=\"18\"/>\n",
       "<text text-anchor=\"middle\" x=\"90.21\" y=\"-13.32\" font-family=\"Times,serif\" font-size=\"14.00\" fill=\"white\">Mortality</text>\n",
       "</g>\n",
       "<!-- confounder&#45;&gt;Mortality -->\n",
       "<g id=\"edge3\" class=\"edge\">\n",
       "<title>confounder-&gt;Mortality</title>\n",
       "<path fill=\"none\" stroke=\"#4a4a4a\" stroke-dasharray=\"5,2\" d=\"M91.09,-143.75C94.53,-139.58 107.06,-123.64 111.21,-108 116.64,-87.51 110.7,-64.18 103.76,-46.55\"/>\n",
       "<polygon fill=\"#4a4a4a\" stroke=\"#4a4a4a\" points=\"107.05,-45.33 99.89,-37.52 100.61,-48.09 107.05,-45.33\"/>\n",
       "</g>\n",
       "<!-- Walking&#45;&gt;Mortality -->\n",
       "<g id=\"edge1\" class=\"edge\">\n",
       "<title>Walking-&gt;Mortality</title>\n",
       "<path fill=\"none\" stroke=\"#4a4a4a\" d=\"M59.78,-71.57C64.18,-63.66 69.53,-54.05 74.47,-45.2\"/>\n",
       "<path fill=\"none\" stroke=\"#4a4a4a\" d=\"M61.52,-72.54C65.93,-64.63 71.28,-55.03 76.21,-46.17\"/>\n",
       "<polygon fill=\"#4a4a4a\" stroke=\"#4a4a4a\" points=\"78.31,-47.55 80.12,-37.11 72.19,-44.14 78.31,-47.55\"/>\n",
       "</g>\n",
       "</g>\n",
       "</svg>"
      ],
      "text/plain": [
       "<IPython.core.display.SVG object>"
      ]
     },
     "metadata": {},
     "output_type": "display_data"
    }
   ],
   "source": [
    "weModele1 = csl.CausalModel(we, [(\"confounder\", [\"Walking\",\"Mortality\"])], True)\n",
    "gnb.show(weModele1)"
   ]
  },
  {
   "cell_type": "code",
   "execution_count": 5,
   "metadata": {
    "editable": true,
    "execution": {
     "iopub.execute_input": "2024-06-10T19:50:56.102595Z",
     "iopub.status.busy": "2024-06-10T19:50:56.102320Z",
     "iopub.status.idle": "2024-06-10T19:50:56.207449Z",
     "shell.execute_reply": "2024-06-10T19:50:56.206232Z",
     "shell.execute_reply.started": "2024-06-10T19:50:56.102567Z"
    },
    "slideshow": {
     "slide_type": ""
    },
    "tags": []
   },
   "outputs": [
    {
     "data": {
      "text/html": [
       "\n",
       "      <style>\n",
       "      .floating-box {\n",
       "      display: inline-block;\n",
       "      margin: 7px;\n",
       "      padding : 3px;\n",
       "      border: 0px solid transparent;  \n",
       "      valign:middle;\n",
       "      background-color: transparent;\n",
       "      }\n",
       "      </style>\n",
       "      <div class=\"floating-box\"><svg xmlns=\"http://www.w3.org/2000/svg\" xmlns:xlink=\"http://www.w3.org/1999/xlink\" width=\"156pt\" height=\"156pt\" viewBox=\"0.00 0.00 156.26 155.60\">\n",
       "<g id=\"graph0\" class=\"graph\" transform=\"scale(1 1) rotate(0) translate(4 151.6)\">\n",
       "<title>G</title>\n",
       "<!-- confounder -->\n",
       "<g id=\"node1\" class=\"node\">\n",
       "<title>confounder</title>\n",
       "<ellipse fill=\"#404040\" stroke=\"#4a4a4a\" cx=\"90.21\" cy=\"-145.8\" rx=\"1.8\" ry=\"1.8\"/>\n",
       "</g>\n",
       "<!-- Walking -->\n",
       "<g id=\"node2\" class=\"node\">\n",
       "<title>Walking</title>\n",
       "<ellipse fill=\"#404040\" stroke=\"#4a4a4a\" cx=\"51.21\" cy=\"-90\" rx=\"51.21\" ry=\"18\"/>\n",
       "<text text-anchor=\"middle\" x=\"51.21\" y=\"-85.33\" font-family=\"Times,serif\" font-size=\"14.00\" fill=\"white\">Walking</text>\n",
       "</g>\n",
       "<!-- confounder&#45;&gt;Walking -->\n",
       "<g id=\"edge2\" class=\"edge\">\n",
       "<title>confounder-&gt;Walking</title>\n",
       "<path fill=\"none\" stroke=\"#4a4a4a\" stroke-dasharray=\"5,2\" d=\"M89.53,-143.87C87.09,-140.5 78.43,-128.55 69.96,-116.86\"/>\n",
       "<polygon fill=\"#4a4a4a\" stroke=\"#4a4a4a\" points=\"72.92,-114.98 64.21,-108.94 67.25,-119.09 72.92,-114.98\"/>\n",
       "</g>\n",
       "<!-- Mortality -->\n",
       "<g id=\"node3\" class=\"node\">\n",
       "<title>Mortality</title>\n",
       "<ellipse fill=\"#404040\" stroke=\"#4a4a4a\" cx=\"90.21\" cy=\"-18\" rx=\"58.05\" ry=\"18\"/>\n",
       "<text text-anchor=\"middle\" x=\"90.21\" y=\"-13.32\" font-family=\"Times,serif\" font-size=\"14.00\" fill=\"white\">Mortality</text>\n",
       "</g>\n",
       "<!-- confounder&#45;&gt;Mortality -->\n",
       "<g id=\"edge3\" class=\"edge\">\n",
       "<title>confounder-&gt;Mortality</title>\n",
       "<path fill=\"none\" stroke=\"#4a4a4a\" stroke-dasharray=\"5,2\" d=\"M91.09,-143.75C94.53,-139.58 107.06,-123.64 111.21,-108 116.64,-87.51 110.7,-64.18 103.76,-46.55\"/>\n",
       "<polygon fill=\"#4a4a4a\" stroke=\"#4a4a4a\" points=\"107.05,-45.33 99.89,-37.52 100.61,-48.09 107.05,-45.33\"/>\n",
       "</g>\n",
       "<!-- Walking&#45;&gt;Mortality -->\n",
       "<g id=\"edge1\" class=\"edge\">\n",
       "<title>Walking-&gt;Mortality</title>\n",
       "<path fill=\"none\" stroke=\"#4a4a4a\" d=\"M59.78,-71.57C64.18,-63.66 69.53,-54.05 74.47,-45.2\"/>\n",
       "<path fill=\"none\" stroke=\"#4a4a4a\" d=\"M61.52,-72.54C65.93,-64.63 71.28,-55.03 76.21,-46.17\"/>\n",
       "<polygon fill=\"#4a4a4a\" stroke=\"#4a4a4a\" points=\"78.31,-47.55 80.12,-37.11 72.19,-44.14 78.31,-47.55\"/>\n",
       "</g>\n",
       "</g>\n",
       "</svg><br><center><small><em>Causal Model</em></small></center></div><div class=\"floating-box\">Hedge Error: G={'Mortality', 'Walking'}, G[S]={'Mortality'}<br><center><small><em>Impossible</em></small></center></div><div class=\"floating-box\">No result<br><center><small><em>Impact</em></small></center></div>"
      ],
      "text/plain": [
       "<IPython.core.display.HTML object>"
      ]
     },
     "metadata": {},
     "output_type": "display_data"
    }
   ],
   "source": [
    "cslnb.showCausalImpact(weModele1, \"Mortality\", \"Walking\",values={\"Walking\":\"intense\"})"
   ]
  },
  {
   "cell_type": "markdown",
   "metadata": {},
   "source": [
    "## Introducing age as a confounder:"
   ]
  },
  {
   "cell_type": "markdown",
   "metadata": {},
   "source": [
    "> We want to measure the causal effect of walking on mortality, the introduction of a confounding bias occurs when a third variable called \"confounding variable\" influences both walking and mortality. <br>\n",
    "An obvious confounder is <b>age</b>, younger subjects exercise more and have more time to live! (there are other confounders)"
   ]
  },
  {
   "cell_type": "markdown",
   "metadata": {},
   "source": [
    "### Let's use fictitious data:"
   ]
  },
  {
   "cell_type": "code",
   "execution_count": 6,
   "metadata": {
    "execution": {
     "iopub.execute_input": "2024-06-10T19:50:56.210243Z",
     "iopub.status.busy": "2024-06-10T19:50:56.209931Z",
     "iopub.status.idle": "2024-06-10T19:50:56.298702Z",
     "shell.execute_reply": "2024-06-10T19:50:56.297154Z",
     "shell.execute_reply.started": "2024-06-10T19:50:56.210213Z"
    }
   },
   "outputs": [
    {
     "data": {
      "text/html": [
       "<table style=\"border-style: hidden; border-collapse: collapse;\" width=\"100%\"><tr><td style=\"border-top:hidden;border-bottom:hidden;vertical-align:middle;\"><div align=\"center\" style=\"vertical-align:middle;\"><svg xmlns=\"http://www.w3.org/2000/svg\" xmlns:xlink=\"http://www.w3.org/1999/xlink\" width=\"152pt\" height=\"188pt\" viewBox=\"0.00 0.00 152.26 188.00\">\n",
       "<g id=\"graph0\" class=\"graph\" transform=\"scale(1 1) rotate(0) translate(4 184)\">\n",
       "<title>G</title>\n",
       "<!-- Mortality -->\n",
       "<g id=\"node1\" class=\"node\">\n",
       "<title>Mortality</title>\n",
       "<g id=\"a_node1\"><a xlink:title=\"(2) Mortality\">\n",
       "<ellipse fill=\"#404040\" stroke=\"#4a4a4a\" cx=\"58.05\" cy=\"-18\" rx=\"58.05\" ry=\"18\"/>\n",
       "<text text-anchor=\"middle\" x=\"58.05\" y=\"-13.32\" font-family=\"Times,serif\" font-size=\"14.00\" fill=\"white\">Mortality</text>\n",
       "</a>\n",
       "</g>\n",
       "</g>\n",
       "<!-- Walking -->\n",
       "<g id=\"node2\" class=\"node\">\n",
       "<title>Walking</title>\n",
       "<g id=\"a_node2\"><a xlink:title=\"(1) Walking\">\n",
       "<ellipse fill=\"#404040\" stroke=\"#4a4a4a\" cx=\"93.05\" cy=\"-90\" rx=\"51.21\" ry=\"18\"/>\n",
       "<text text-anchor=\"middle\" x=\"93.05\" y=\"-85.33\" font-family=\"Times,serif\" font-size=\"14.00\" fill=\"white\">Walking</text>\n",
       "</a>\n",
       "</g>\n",
       "</g>\n",
       "<!-- Walking&#45;&gt;Mortality -->\n",
       "<g id=\"edge3\" class=\"edge\">\n",
       "<title>Walking-&gt;Mortality</title>\n",
       "<g id=\"a_edge3\"><a xlink:title=\"1 → 2\">\n",
       "<path fill=\"none\" stroke=\"#4a4a4a\" d=\"M84.57,-72.05C80.72,-64.35 76.06,-55.03 71.73,-46.36\"/>\n",
       "<polygon fill=\"#4a4a4a\" stroke=\"#4a4a4a\" points=\"74.96,-45.01 67.36,-37.63 68.7,-48.14 74.96,-45.01\"/>\n",
       "</a>\n",
       "</g>\n",
       "</g>\n",
       "<!-- Age -->\n",
       "<g id=\"node3\" class=\"node\">\n",
       "<title>Age</title>\n",
       "<g id=\"a_node3\"><a xlink:title=\"(0) Age\">\n",
       "<ellipse fill=\"#404040\" stroke=\"#4a4a4a\" cx=\"58.05\" cy=\"-162\" rx=\"30.16\" ry=\"18\"/>\n",
       "<text text-anchor=\"middle\" x=\"58.05\" y=\"-157.32\" font-family=\"Times,serif\" font-size=\"14.00\" fill=\"white\">Age</text>\n",
       "</a>\n",
       "</g>\n",
       "</g>\n",
       "<!-- Age&#45;&gt;Mortality -->\n",
       "<g id=\"edge2\" class=\"edge\">\n",
       "<title>Age-&gt;Mortality</title>\n",
       "<g id=\"a_edge2\"><a xlink:title=\"0 → 2\">\n",
       "<path fill=\"none\" stroke=\"#4a4a4a\" d=\"M48.59,-144.92C43.15,-134.72 36.86,-121.03 34.05,-108 30.67,-92.36 30.67,-87.64 34.05,-72 35.92,-63.31 39.35,-54.33 43.03,-46.29\"/>\n",
       "<polygon fill=\"#4a4a4a\" stroke=\"#4a4a4a\" points=\"46.14,-47.9 47.42,-37.38 39.86,-44.8 46.14,-47.9\"/>\n",
       "</a>\n",
       "</g>\n",
       "</g>\n",
       "<!-- Age&#45;&gt;Walking -->\n",
       "<g id=\"edge1\" class=\"edge\">\n",
       "<title>Age-&gt;Walking</title>\n",
       "<g id=\"a_edge1\"><a xlink:title=\"0 → 1\">\n",
       "<path fill=\"none\" stroke=\"#4a4a4a\" d=\"M66.34,-144.41C70.25,-136.59 75.02,-127.06 79.43,-118.23\"/>\n",
       "<polygon fill=\"#4a4a4a\" stroke=\"#4a4a4a\" points=\"82.55,-119.82 83.89,-109.31 76.29,-116.69 82.55,-119.82\"/>\n",
       "</a>\n",
       "</g>\n",
       "</g>\n",
       "</g>\n",
       "</svg><br><small><i>the BN</i></small></div></td><td style=\"border-top:hidden;border-bottom:hidden;vertical-align:middle;\"><div align=\"center\" style=\"vertical-align:middle;\"><table style=\"border:1px solid black;border-collapse: collapse;\">\n",
       "<tr style='border:1px solid black;color:black;background-color:#808080'>\n",
       "      <th colspan='3'><center>Age</center></th></tr>\n",
       "<tr><th style='border:1px solid black;border-bottom-style: double;color:black;background-color:#BBBBBB'>\n",
       "      <center>cat1</center></th><th style='border:1px solid black;border-bottom-style: double;color:black;background-color:#BBBBBB'>\n",
       "      <center>cat2</center></th><th style='border:1px solid black;border-bottom-style: double;color:black;background-color:#BBBBBB'>\n",
       "      <center>cat3</center></th></tr>\n",
       "<tr><td style='color:black;background-color:#e29b64;text-align:right;padding: 3px;'>0.2203</td><td style='color:black;background-color:#d2ab64;text-align:right;padding: 3px;'>0.3511</td><td style='color:black;background-color:#c8b564;text-align:right;padding: 3px;'>0.4286</td></tr>\n",
       "</table><br><small><i>the marginal for $Age$</i></small></div></td><td style=\"border-top:hidden;border-bottom:hidden;vertical-align:middle;\"><div align=\"center\" style=\"vertical-align:middle;\"><table style=\"border:1px solid black;border-collapse: collapse;\">\n",
       "<tr><th colspan='1'></th>\n",
       "      <th colspan='3' style='border:1px solid black;color:black;background-color:#808080;'><center>Walking</center>\n",
       "      </th></tr>\n",
       "<tr><th style='border:1px solid black;color:black;background-color:#808080'><center>Age</center></th><th style='border:1px solid black;border-bottom-style: double;color:black;background-color:#BBBBBB'>\n",
       "      <center>casual</center></th><th style='border:1px solid black;border-bottom-style: double;color:black;background-color:#BBBBBB'>\n",
       "      <center>normal</center></th><th style='border:1px solid black;border-bottom-style: double;color:black;background-color:#BBBBBB'>\n",
       "      <center>intense</center></th></tr>\n",
       "<tr><th style='border:1px solid black;color:black;background-color:#BBBBBB'><center>cat1</center></th><td style='color:black;background-color:#dda064;text-align:right;padding: 3px;'>0.2651</td><td style='color:black;background-color:#ccb164;text-align:right;padding: 3px;'>0.3963</td><td style='color:black;background-color:#d3aa64;text-align:right;padding: 3px;'>0.3386</td></tr>\n",
       "<tr><th style='border:1px solid black;color:black;background-color:#BBBBBB'><center>cat2</center></th><td style='color:black;background-color:#f08d64;text-align:right;padding: 3px;'>0.1098</td><td style='color:black;background-color:#e69764;text-align:right;padding: 3px;'>0.1932</td><td style='color:black;background-color:#a5d864;text-align:right;padding: 3px;'>0.6970</td></tr>\n",
       "<tr><th style='border:1px solid black;color:black;background-color:#BBBBBB'><center>cat3</center></th><td style='color:black;background-color:#c9b464;text-align:right;padding: 3px;'>0.4178</td><td style='color:black;background-color:#d0ad64;text-align:right;padding: 3px;'>0.3656</td><td style='color:black;background-color:#e39a64;text-align:right;padding: 3px;'>0.2166</td></tr>\n",
       "</table><br><small><i>the CPT for $Walking$</i></small></div></td><td style=\"border-top:hidden;border-bottom:hidden;vertical-align:middle;\"><div align=\"center\" style=\"vertical-align:middle;\"><table style=\"border:1px solid black;border-collapse: collapse;\">\n",
       "<tr><th colspan='2'></th>\n",
       "      <th colspan='2' style='border:1px solid black;color:black;background-color:#808080;'><center>Mortality</center>\n",
       "      </th></tr>\n",
       "<tr><th style='border:1px solid black;color:black;background-color:#808080'><center>Age</center></th><th style='border:1px solid black;color:black;background-color:#808080'><center>Walking</center></th><th style='border:1px solid black;border-bottom-style: double;color:black;background-color:#BBBBBB'>\n",
       "      <center>dead</center></th><th style='border:1px solid black;border-bottom-style: double;color:black;background-color:#BBBBBB'>\n",
       "      <center>alive</center></th></tr>\n",
       "<tr><th style='border:1px solid black;color:black;background-color:#BBBBBB;' rowspan = '3'>\n",
       "            <center>cat1</center></th><th style='border:1px solid black;color:black;background-color:#BBBBBB'><center>casual</center></th><td style='color:black;background-color:#c0bd64;text-align:right;padding: 3px;'>0.4879</td><td style='color:black;background-color:#bdc064;text-align:right;padding: 3px;'>0.5121</td></tr>\n",
       "<tr><th style='border:1px solid black;color:black;background-color:#BBBBBB'><center>normal</center></th><td style='color:black;background-color:#cab364;text-align:right;padding: 3px;'>0.4129</td><td style='color:black;background-color:#b3ca64;text-align:right;padding: 3px;'>0.5871</td></tr>\n",
       "<tr><th style='border:1px solid black;color:black;background-color:#BBBBBB'><center>intense</center></th><td style='color:black;background-color:#ccb164;text-align:right;padding: 3px;'>0.3912</td><td style='color:black;background-color:#b1cc64;text-align:right;padding: 3px;'>0.6088</td></tr>\n",
       "<tr><th style='border:1px solid black;color:black;background-color:#BBBBBB;' rowspan = '3'>\n",
       "            <center>cat2</center></th><th style='border:1px solid black;color:black;background-color:#BBBBBB'><center>casual</center></th><td style='color:black;background-color:#8af364;text-align:right;padding: 3px;'>0.9129</td><td style='color:black;background-color:#f38a64;text-align:right;padding: 3px;'>0.0871</td></tr>\n",
       "<tr><th style='border:1px solid black;color:black;background-color:#BBBBBB'><center>normal</center></th><td style='color:black;background-color:#b3ca64;text-align:right;padding: 3px;'>0.5904</td><td style='color:black;background-color:#cab364;text-align:right;padding: 3px;'>0.4096</td></tr>\n",
       "<tr><th style='border:1px solid black;color:black;background-color:#BBBBBB'><center>intense</center></th><td style='color:black;background-color:#e49964;text-align:right;padding: 3px;'>0.2061</td><td style='color:black;background-color:#99e464;text-align:right;padding: 3px;'>0.7939</td></tr>\n",
       "<tr><th style='border:1px solid black;color:black;background-color:#BBBBBB;' rowspan = '3'>\n",
       "            <center>cat3</center></th><th style='border:1px solid black;color:black;background-color:#BBBBBB'><center>casual</center></th><td style='color:black;background-color:#f58864;text-align:right;padding: 3px;'>0.0771</td><td style='color:black;background-color:#88f564;text-align:right;padding: 3px;'>0.9229</td></tr>\n",
       "<tr><th style='border:1px solid black;color:black;background-color:#BBBBBB'><center>normal</center></th><td style='color:black;background-color:#ef8e64;text-align:right;padding: 3px;'>0.1184</td><td style='color:black;background-color:#8eef64;text-align:right;padding: 3px;'>0.8816</td></tr>\n",
       "<tr><th style='border:1px solid black;color:black;background-color:#BBBBBB'><center>intense</center></th><td style='color:black;background-color:#b1cc64;text-align:right;padding: 3px;'>0.6025</td><td style='color:black;background-color:#ccb164;text-align:right;padding: 3px;'>0.3975</td></tr>\n",
       "</table><br><small><i>the CPT for $Mortality$</i></small></div></td></tr></table>"
      ],
      "text/plain": [
       "<IPython.core.display.HTML object>"
      ]
     },
     "metadata": {},
     "output_type": "display_data"
    }
   ],
   "source": [
    "wea = gum.fastBN(\"Age{cat1|cat2|cat3}->Walking{casual|normal|intense}->Mortality{dead|alive}<-Age{cat1|cat2|cat3}\")\n",
    "                 \n",
    "gnb.sideBySide(wea,wea.cpt(\"Age\"),wea.cpt(\"Walking\"),wea.cpt(\"Mortality\"),\n",
    "               captions=[\"the BN\",\"the marginal for $Age$\",\"the CPT for $Walking$\",\"the CPT for $Mortality$\"])"
   ]
  },
  {
   "cell_type": "markdown",
   "metadata": {},
   "source": [
    "## Causal effect of walking on mortality with age as a confounder:"
   ]
  },
  {
   "cell_type": "code",
   "execution_count": 7,
   "metadata": {
    "execution": {
     "iopub.execute_input": "2024-06-10T19:50:56.300134Z",
     "iopub.status.busy": "2024-06-10T19:50:56.299889Z",
     "iopub.status.idle": "2024-06-10T19:50:56.489547Z",
     "shell.execute_reply": "2024-06-10T19:50:56.488273Z",
     "shell.execute_reply.started": "2024-06-10T19:50:56.300113Z"
    }
   },
   "outputs": [
    {
     "data": {
      "text/html": [
       "\n",
       "      <style>\n",
       "      .floating-box {\n",
       "      display: inline-block;\n",
       "      margin: 7px;\n",
       "      padding : 3px;\n",
       "      border: 0px solid transparent;  \n",
       "      valign:middle;\n",
       "      background-color: transparent;\n",
       "      }\n",
       "      </style>\n",
       "      <div class=\"floating-box\"><svg xmlns=\"http://www.w3.org/2000/svg\" xmlns:xlink=\"http://www.w3.org/1999/xlink\" width=\"150pt\" height=\"180pt\" viewBox=\"0.00 0.00 149.61 180.00\">\n",
       "<g id=\"graph0\" class=\"graph\" transform=\"scale(0.957447 0.957447) rotate(0) translate(4 184)\">\n",
       "<title>G</title>\n",
       "<!-- Age -->\n",
       "<g id=\"node1\" class=\"node\">\n",
       "<title>Age</title>\n",
       "<ellipse fill=\"#404040\" stroke=\"#4a4a4a\" cx=\"90.21\" cy=\"-162\" rx=\"30.16\" ry=\"18\"/>\n",
       "<text text-anchor=\"middle\" x=\"90.21\" y=\"-157.32\" font-family=\"Times,serif\" font-size=\"14.00\" fill=\"white\">Age</text>\n",
       "</g>\n",
       "<!-- Walking -->\n",
       "<g id=\"node2\" class=\"node\">\n",
       "<title>Walking</title>\n",
       "<ellipse fill=\"#404040\" stroke=\"#4a4a4a\" cx=\"51.21\" cy=\"-90\" rx=\"51.21\" ry=\"18\"/>\n",
       "<text text-anchor=\"middle\" x=\"51.21\" y=\"-85.33\" font-family=\"Times,serif\" font-size=\"14.00\" fill=\"white\">Walking</text>\n",
       "</g>\n",
       "<!-- Age&#45;&gt;Walking -->\n",
       "<g id=\"edge1\" class=\"edge\">\n",
       "<title>Age-&gt;Walking</title>\n",
       "<path fill=\"none\" stroke=\"#4a4a4a\" d=\"M80.09,-144.9C75.69,-136.99 70.31,-127.34 65.34,-118.42\"/>\n",
       "<path fill=\"none\" stroke=\"#4a4a4a\" d=\"M81.84,-143.92C77.44,-136.02 72.06,-126.37 67.09,-117.45\"/>\n",
       "<polygon fill=\"#4a4a4a\" stroke=\"#4a4a4a\" points=\"69.32,-116.31 61.39,-109.28 63.2,-119.72 69.32,-116.31\"/>\n",
       "</g>\n",
       "<!-- Mortality -->\n",
       "<g id=\"node3\" class=\"node\">\n",
       "<title>Mortality</title>\n",
       "<ellipse fill=\"#404040\" stroke=\"#4a4a4a\" cx=\"90.21\" cy=\"-18\" rx=\"58.05\" ry=\"18\"/>\n",
       "<text text-anchor=\"middle\" x=\"90.21\" y=\"-13.32\" font-family=\"Times,serif\" font-size=\"14.00\" fill=\"white\">Mortality</text>\n",
       "</g>\n",
       "<!-- Age&#45;&gt;Mortality -->\n",
       "<g id=\"edge2\" class=\"edge\">\n",
       "<title>Age-&gt;Mortality</title>\n",
       "<path fill=\"none\" stroke=\"#4a4a4a\" d=\"M97.8,-143.89C102.49,-133.74 107.87,-120.27 110.23,-107.81 113.21,-92.28 113.21,-87.72 110.23,-72.19 108.64,-63.86 105.7,-55.03 102.54,-47.11\"/>\n",
       "<path fill=\"none\" stroke=\"#4a4a4a\" d=\"M99.62,-144.73C104.35,-134.48 109.72,-121.01 112.19,-108.19 115.21,-92.28 115.21,-87.72 112.19,-71.81 110.54,-63.23 107.6,-54.4 104.4,-46.37\"/>\n",
       "<polygon fill=\"#4a4a4a\" stroke=\"#4a4a4a\" points=\"106.69,-45.36 99.52,-37.56 100.26,-48.13 106.69,-45.36\"/>\n",
       "</g>\n",
       "<!-- Walking&#45;&gt;Mortality -->\n",
       "<g id=\"edge3\" class=\"edge\">\n",
       "<title>Walking-&gt;Mortality</title>\n",
       "<path fill=\"none\" stroke=\"#4a4a4a\" d=\"M59.78,-71.57C64.18,-63.66 69.53,-54.05 74.47,-45.2\"/>\n",
       "<path fill=\"none\" stroke=\"#4a4a4a\" d=\"M61.52,-72.54C65.93,-64.63 71.28,-55.03 76.21,-46.17\"/>\n",
       "<polygon fill=\"#4a4a4a\" stroke=\"#4a4a4a\" points=\"78.31,-47.55 80.12,-37.11 72.19,-44.14 78.31,-47.55\"/>\n",
       "</g>\n",
       "</g>\n",
       "</svg><br><center><small><em>Causal Model</em></small></center></div><div class=\"floating-box\">$$\\begin{equation*}P( Mortality \\mid \\text{do}(Walking)) = \\sum_{Age}{P\\left(Mortality\\mid Age,Walking\\right) \\cdot P\\left(Age\\right)}\\end{equation*}$$<br><center><small><em>Explanation : backdoor ['Age'] found.</em></small></center></div><div class=\"floating-box\"><table style=\"border:1px solid black;border-collapse: collapse;\">\n",
       "<tr><th colspan='1'></th>\n",
       "      <th colspan='2' style='border:1px solid black;color:black;background-color:#808080;'><center>Mortality</center>\n",
       "      </th></tr>\n",
       "<tr><th style='border:1px solid black;color:black;background-color:#808080'><center>Walking</center></th><th style='border:1px solid black;border-bottom-style: double;color:black;background-color:#BBBBBB'>\n",
       "      <center>dead</center></th><th style='border:1px solid black;border-bottom-style: double;color:black;background-color:#BBBBBB'>\n",
       "      <center>alive</center></th></tr>\n",
       "<tr><th style='border:1px solid black;color:black;background-color:#BBBBBB'><center>casual</center></th><td style='color:black;background-color:#c3ba64;text-align:right;padding: 3px;'>0.4611</td><td style='color:black;background-color:#bac364;text-align:right;padding: 3px;'>0.5389</td></tr>\n",
       "<tr><th style='border:1px solid black;color:black;background-color:#BBBBBB'><center>normal</center></th><td style='color:black;background-color:#d2ab64;text-align:right;padding: 3px;'>0.3490</td><td style='color:black;background-color:#abd264;text-align:right;padding: 3px;'>0.6510</td></tr>\n",
       "<tr><th style='border:1px solid black;color:black;background-color:#BBBBBB'><center>intense</center></th><td style='color:black;background-color:#c9b464;text-align:right;padding: 3px;'>0.4168</td><td style='color:black;background-color:#b4c964;text-align:right;padding: 3px;'>0.5832</td></tr>\n",
       "</table><br><center><small><em>Impact</em></small></center></div>"
      ],
      "text/plain": [
       "<IPython.core.display.HTML object>"
      ]
     },
     "metadata": {},
     "output_type": "display_data"
    }
   ],
   "source": [
    "weModele2 = csl.CausalModel(wea)\n",
    "cslnb.showCausalImpact(weModele2, \"Mortality\", \"Walking\",values={})"
   ]
  },
  {
   "cell_type": "markdown",
   "metadata": {},
   "source": [
    "> We adjusted for Age using the back-door criterion (Age blocks all back-door paths from Walking to Mortality, setting Walking=\n",
    "\"intense\" or conditioning on Walking=\"intense\" has the same effect on Mortality)"
   ]
  },
  {
   "cell_type": "markdown",
   "metadata": {},
   "source": [
    "## Conclusion:"
   ]
  },
  {
   "cell_type": "markdown",
   "metadata": {},
   "source": [
    "> After adjusting for age, we obtain that 40.5% (43% unadjusted) of casual walkers died, whereas only 23.8% (21,5% unadjusted) of intense walkers died. The correlation induced by Age between the two variables is negligible. <br>\n",
    "Even after adjusting for all plausible confounders, after getting rid of all confounding bias, Walking is still associated to Mortality. Unless we missed any other confounders, <b> in which case the remaining uncertainty is proportional to the correlation induced by these hidden variables, </b>we can say that intentional walking prolongs life among the studied population.\n",
    "\n",
    "> <b>In an observational study, adjusting for confounding factors is systematic in order to measure the causal effect of a treatment on an outcome.</b>"
   ]
  },
  {
   "cell_type": "markdown",
   "metadata": {},
   "source": [
    "## Study measurements both unadjusted and age-adjusted: "
   ]
  },
  {
   "cell_type": "markdown",
   "metadata": {},
   "source": [
    "![title](images/WalkingExampleInfo.jpeg)"
   ]
  },
  {
   "cell_type": "code",
   "execution_count": null,
   "metadata": {
    "editable": true,
    "slideshow": {
     "slide_type": ""
    },
    "tags": []
   },
   "outputs": [],
   "source": []
  }
 ],
 "metadata": {
  "kernelspec": {
   "display_name": "Python 3 (ipykernel)",
   "language": "python",
   "name": "python3"
  },
  "language_info": {
   "codemirror_mode": {
    "name": "ipython",
    "version": 3
   },
   "file_extension": ".py",
   "mimetype": "text/x-python",
   "name": "python",
   "nbconvert_exporter": "python",
   "pygments_lexer": "ipython3",
   "version": "3.12.3"
  }
 },
 "nbformat": 4,
 "nbformat_minor": 4
}
