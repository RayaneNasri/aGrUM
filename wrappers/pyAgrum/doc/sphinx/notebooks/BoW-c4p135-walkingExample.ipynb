{
 "cells": [
  {
   "cell_type": "markdown",
   "metadata": {
    "editable": true,
    "slideshow": {
     "slide_type": ""
    },
    "tags": []
   },
   "source": [
    "# Walking Example (p135)"
   ]
  },
  {
   "cell_type": "markdown",
   "metadata": {
    "editable": true,
    "slideshow": {
     "slide_type": ""
    },
    "tags": []
   },
   "source": [
    "| | | |\n",
    "|-|-|-|\n",
    "|[ ![Creative Commons License](images/cc4.png)](http://creativecommons.org/licenses/by-nc/4.0/) |[ ![aGrUM](images/logoAgrum.png)](https://agrum.org) |[ ![interactive online version](images/atbinder.svg)](https://agrum.gitlab.io/extra/agrum_at_binder.html)\n",
    "\n",
    "Authors: <b>Aymen Merrouche</b> and Pierre-Henri Wuillemin.\n",
    "\n",
    "**This notebook follows the example from \"The Book Of Why\" (Pearl, 2018) chapter 4 page135**"
   ]
  },
  {
   "cell_type": "markdown",
   "metadata": {
    "editable": true,
    "slideshow": {
     "slide_type": ""
    },
    "tags": []
   },
   "source": [
    "## Confounding"
   ]
  },
  {
   "cell_type": "code",
   "execution_count": 1,
   "metadata": {
    "editable": true,
    "execution": {
     "iopub.execute_input": "2025-02-18T10:25:26.407078Z",
     "iopub.status.busy": "2025-02-18T10:25:26.406931Z",
     "iopub.status.idle": "2025-02-18T10:25:27.147674Z",
     "shell.execute_reply": "2025-02-18T10:25:27.147383Z",
     "shell.execute_reply.started": "2025-02-18T10:25:26.407061Z"
    },
    "slideshow": {
     "slide_type": ""
    },
    "tags": []
   },
   "outputs": [],
   "source": [
    "from IPython.display import display, Math, Latex,HTML\n",
    "\n",
    "import pyAgrum as gum\n",
    "import pyAgrum.lib.notebook as gnb\n",
    "import pyAgrum.causal as csl\n",
    "import pyAgrum.causal.notebook as cslnb\n",
    "import os"
   ]
  },
  {
   "cell_type": "markdown",
   "metadata": {},
   "source": [
    "> In 1998 a study unveiled a correlation between physical exercise and longevity among nonsmoking retired men. Of course what we want to know is whether men who exercise more live longer, suggesting a causal relationship. Study measurements are to be found at the end of this notebook."
   ]
  },
  {
   "cell_type": "markdown",
   "metadata": {},
   "source": [
    "### corresponding causal diagram\n",
    "The corresponding causal diagram is the following:"
   ]
  },
  {
   "cell_type": "code",
   "execution_count": 2,
   "metadata": {
    "execution": {
     "iopub.execute_input": "2025-02-18T10:25:27.148152Z",
     "iopub.status.busy": "2025-02-18T10:25:27.148018Z",
     "iopub.status.idle": "2025-02-18T10:25:27.239359Z",
     "shell.execute_reply": "2025-02-18T10:25:27.239056Z",
     "shell.execute_reply.started": "2025-02-18T10:25:27.148143Z"
    }
   },
   "outputs": [
    {
     "data": {
      "text/html": [
       "<table style=\"border-style: hidden; border-collapse: collapse;\" width=\"100%\"><tr><td style=\"border-top:hidden;border-bottom:hidden;vertical-align:middle;\"><div align=\"center\" style=\"vertical-align:middle;\"><svg xmlns=\"http://www.w3.org/2000/svg\" xmlns:xlink=\"http://www.w3.org/1999/xlink\" width=\"100pt\" height=\"116pt\" viewBox=\"0.00 0.00 100.47 116.00\">\n",
       "<g id=\"graph0\" class=\"graph\" transform=\"scale(1 1) rotate(0) translate(4 112)\">\n",
       "<title>G</title>\n",
       "<!-- Walking -->\n",
       "<g id=\"node1\" class=\"node\">\n",
       "<title>Walking</title>\n",
       "<g id=\"a_node1\"><a xlink:title=\"(0) Walking\">\n",
       "<ellipse fill=\"#404040\" stroke=\"#4a4a4a\" cx=\"46.23\" cy=\"-90\" rx=\"42.65\" ry=\"18\"/>\n",
       "<text text-anchor=\"middle\" x=\"46.23\" y=\"-84.95\" font-family=\"Times,serif\" font-size=\"14.00\" fill=\"white\">Walking</text>\n",
       "</a>\n",
       "</g>\n",
       "</g>\n",
       "<!-- Mortality -->\n",
       "<g id=\"node2\" class=\"node\">\n",
       "<title>Mortality</title>\n",
       "<g id=\"a_node2\"><a xlink:title=\"(1) Mortality\">\n",
       "<ellipse fill=\"#404040\" stroke=\"#4a4a4a\" cx=\"46.23\" cy=\"-18\" rx=\"46.23\" ry=\"18\"/>\n",
       "<text text-anchor=\"middle\" x=\"46.23\" y=\"-12.95\" font-family=\"Times,serif\" font-size=\"14.00\" fill=\"white\">Mortality</text>\n",
       "</a>\n",
       "</g>\n",
       "</g>\n",
       "<!-- Walking&#45;&gt;Mortality -->\n",
       "<g id=\"edge1\" class=\"edge\">\n",
       "<title>Walking-&gt;Mortality</title>\n",
       "<g id=\"a_edge1\"><a xlink:title=\"0 → 1\">\n",
       "<path fill=\"none\" stroke=\"#4a4a4a\" d=\"M46.23,-71.7C46.23,-64.41 46.23,-55.73 46.23,-47.54\"/>\n",
       "<polygon fill=\"#4a4a4a\" stroke=\"#4a4a4a\" points=\"49.73,-47.62 46.23,-37.62 42.73,-47.62 49.73,-47.62\"/>\n",
       "</a>\n",
       "</g>\n",
       "</g>\n",
       "</g>\n",
       "</svg><br><small><i>the BN</i></small></div></td><td style=\"border-top:hidden;border-bottom:hidden;vertical-align:middle;\"><div align=\"center\" style=\"vertical-align:middle;\"><table style=\"border:1px solid black;border-collapse: collapse;\">\n",
       "<tr><th colspan='1'></th>\n",
       "      <th colspan='3' style='border:1px solid black;color:black;background-color:#808080;'><center>Walking</center>\n",
       "      </th></tr>\n",
       "<tr><th style='border:1px solid black;color:black;background-color:#808080'><center>Mortality</center></th><th style='border:1px solid black;border-bottom-style: double;color:black;background-color:#BBBBBB'>\n",
       "      <center>casual</center></th><th style='border:1px solid black;border-bottom-style: double;color:black;background-color:#BBBBBB'>\n",
       "      <center>normal</center></th><th style='border:1px solid black;border-bottom-style: double;color:black;background-color:#BBBBBB'>\n",
       "      <center>intense</center></th></tr>\n",
       "<tr><th style='border:1px solid black;color:black;background-color:#BBBBBB'><center>dead</center></th><td style='color:black;background-color:#f38a64;text-align:right;padding: 3px;'>0.0918</td><td style='color:black;background-color:#eb9264;text-align:right;padding: 3px;'>0.1485</td><td style='color:black;background-color:#f88564;text-align:right;padding: 3px;'>0.0538</td></tr>\n",
       "<tr><th style='border:1px solid black;color:black;background-color:#BBBBBB'><center>alive</center></th><td style='color:black;background-color:#ef8e64;text-align:right;padding: 3px;'>0.1217</td><td style='color:black;background-color:#cdb064;text-align:right;padding: 3px;'>0.3876</td><td style='color:black;background-color:#e59864;text-align:right;padding: 3px;'>0.1965</td></tr>\n",
       "</table><br><small><i>the joint distribution</i></small></div></td><td style=\"border-top:hidden;border-bottom:hidden;vertical-align:middle;\"><div align=\"center\" style=\"vertical-align:middle;\"><table style=\"border:1px solid black;border-collapse: collapse;\">\n",
       "<tr style='border:1px solid black;color:black;background-color:#808080'>\n",
       "      <th colspan='3'><center>Walking</center></th></tr>\n",
       "<tr><th style='border:1px solid black;border-bottom-style: double;color:black;background-color:#BBBBBB'>\n",
       "      <center>casual</center></th><th style='border:1px solid black;border-bottom-style: double;color:black;background-color:#BBBBBB'>\n",
       "      <center>normal</center></th><th style='border:1px solid black;border-bottom-style: double;color:black;background-color:#BBBBBB'>\n",
       "      <center>intense</center></th></tr>\n",
       "<tr><td style='color:black;background-color:#e39a64;text-align:right;padding: 3px;'>0.2136</td><td style='color:black;background-color:#bac364;text-align:right;padding: 3px;'>0.5361</td><td style='color:black;background-color:#de9f64;text-align:right;padding: 3px;'>0.2504</td></tr>\n",
       "</table><br><small><i>the marginal for $Walking$</i></small></div></td><td style=\"border-top:hidden;border-bottom:hidden;vertical-align:middle;\"><div align=\"center\" style=\"vertical-align:middle;\"><table style=\"border:1px solid black;border-collapse: collapse;\">\n",
       "<tr><th colspan='1'></th>\n",
       "      <th colspan='2' style='border:1px solid black;color:black;background-color:#808080;'><center>Mortality</center>\n",
       "      </th></tr>\n",
       "<tr><th style='border:1px solid black;color:black;background-color:#808080'><center>Walking</center></th><th style='border:1px solid black;border-bottom-style: double;color:black;background-color:#BBBBBB'>\n",
       "      <center>dead</center></th><th style='border:1px solid black;border-bottom-style: double;color:black;background-color:#BBBBBB'>\n",
       "      <center>alive</center></th></tr>\n",
       "<tr><th style='border:1px solid black;color:black;background-color:#BBBBBB'><center>casual</center></th><td style='color:black;background-color:#c7b664;text-align:right;padding: 3px;'>0.4300</td><td style='color:black;background-color:#b6c764;text-align:right;padding: 3px;'>0.5700</td></tr>\n",
       "<tr><th style='border:1px solid black;color:black;background-color:#BBBBBB'><center>normal</center></th><td style='color:black;background-color:#dba264;text-align:right;padding: 3px;'>0.2770</td><td style='color:black;background-color:#a2db64;text-align:right;padding: 3px;'>0.7230</td></tr>\n",
       "<tr><th style='border:1px solid black;color:black;background-color:#BBBBBB'><center>intense</center></th><td style='color:black;background-color:#e39a64;text-align:right;padding: 3px;'>0.2150</td><td style='color:black;background-color:#9ae364;text-align:right;padding: 3px;'>0.7850</td></tr>\n",
       "</table><br><small><i>the CPT for $Mortality$</i></small></div></td></tr></table>"
      ],
      "text/plain": [
       "<IPython.core.display.HTML object>"
      ]
     },
     "metadata": {},
     "output_type": "display_data"
    }
   ],
   "source": [
    "# We create the causal diagram\n",
    "we = gum.fastBN(\"Walking{casual|normal|intense}->Mortality{dead|alive}\")\n",
    "\n",
    "# We fill the CPTs\n",
    "we.cpt(\"Walking\")[:]=[151/707,379/707,177/707]\n",
    "we.cpt(\"Mortality\")[{\"Walking\":\"casual\"}]=[0.43,0.57]\n",
    "we.cpt(\"Mortality\")[{\"Walking\":\"intense\"}]=[0.215,0.785]\n",
    "we.cpt(\"Mortality\")[{\"Walking\":\"normal\"}]=[0.277,0.723]\n",
    "                  \n",
    "gnb.sideBySide(we,we.cpt(\"Walking\")*we.cpt(\"Mortality\"),we.cpt(\"Walking\"),we.cpt(\"Mortality\"),\n",
    "               captions=[\"the BN\",\"the joint distribution\",\"the marginal for $Walking$\",\"the CPT for $Mortality$\"])"
   ]
  },
  {
   "cell_type": "markdown",
   "metadata": {},
   "source": [
    "> The study showed that after 12 years, 43% of casual walkers died while only 21,5% of intense walkers died."
   ]
  },
  {
   "cell_type": "markdown",
   "metadata": {},
   "source": [
    "## Causal effect of walking on mortality in this model:"
   ]
  },
  {
   "cell_type": "code",
   "execution_count": 3,
   "metadata": {
    "execution": {
     "iopub.execute_input": "2025-02-18T10:25:27.239979Z",
     "iopub.status.busy": "2025-02-18T10:25:27.239881Z",
     "iopub.status.idle": "2025-02-18T10:25:27.382150Z",
     "shell.execute_reply": "2025-02-18T10:25:27.381838Z",
     "shell.execute_reply.started": "2025-02-18T10:25:27.239970Z"
    }
   },
   "outputs": [
    {
     "data": {
      "text/html": [
       "\n",
       "      <style>\n",
       "      .floating-box {\n",
       "      display: inline-block;\n",
       "      margin: 7px;\n",
       "      padding : 3px;\n",
       "      border: 0px solid transparent;  \n",
       "      valign:middle;\n",
       "      background-color: transparent;\n",
       "      }\n",
       "      </style>\n",
       "      <div class=\"floating-box\"><svg xmlns=\"http://www.w3.org/2000/svg\" xmlns:xlink=\"http://www.w3.org/1999/xlink\" width=\"100pt\" height=\"116pt\" viewBox=\"0.00 0.00 100.47 116.00\">\n",
       "<g id=\"graph0\" class=\"graph\" transform=\"scale(1 1) rotate(0) translate(4 112)\">\n",
       "<title>G</title>\n",
       "<!-- Walking -->\n",
       "<g id=\"node1\" class=\"node\">\n",
       "<title>Walking</title>\n",
       "<ellipse fill=\"#404040\" stroke=\"#4a4a4a\" cx=\"46.23\" cy=\"-90\" rx=\"42.65\" ry=\"18\"/>\n",
       "<text text-anchor=\"middle\" x=\"46.23\" y=\"-84.95\" font-family=\"Times,serif\" font-size=\"14.00\" fill=\"white\">Walking</text>\n",
       "</g>\n",
       "<!-- Mortality -->\n",
       "<g id=\"node2\" class=\"node\">\n",
       "<title>Mortality</title>\n",
       "<ellipse fill=\"#404040\" stroke=\"#4a4a4a\" cx=\"46.23\" cy=\"-18\" rx=\"46.23\" ry=\"18\"/>\n",
       "<text text-anchor=\"middle\" x=\"46.23\" y=\"-12.95\" font-family=\"Times,serif\" font-size=\"14.00\" fill=\"white\">Mortality</text>\n",
       "</g>\n",
       "<!-- Walking&#45;&gt;Mortality -->\n",
       "<g id=\"edge1\" class=\"edge\">\n",
       "<title>Walking-&gt;Mortality</title>\n",
       "<path fill=\"none\" stroke=\"#4a4a4a\" d=\"M45.23,-71.7C45.23,-64.41 45.23,-55.73 45.23,-47.54\"/>\n",
       "<path fill=\"none\" stroke=\"#4a4a4a\" d=\"M47.23,-71.7C47.23,-64.41 47.23,-55.73 47.23,-47.54\"/>\n",
       "<polygon fill=\"#4a4a4a\" stroke=\"#4a4a4a\" points=\"49.73,-47.62 46.23,-37.62 42.73,-47.62 49.73,-47.62\"/>\n",
       "</g>\n",
       "</g>\n",
       "</svg><br><center><small><em>Causal Model</em></small></center></div><div class=\"floating-box\">$$\\begin{equation*}P( Mortality \\mid \\text{do}(Walking)) = P\\left(Mortality\\mid Walking\\right)\\end{equation*}$$<br><center><small><em>Explanation : Do-calculus computations</em></small></center></div><div class=\"floating-box\"><table style=\"border:1px solid black;border-collapse: collapse;\">\n",
       "<tr><th colspan='1'></th>\n",
       "      <th colspan='2' style='border:1px solid black;color:black;background-color:#808080;'><center>Mortality</center>\n",
       "      </th></tr>\n",
       "<tr><th style='border:1px solid black;color:black;background-color:#808080'><center>Walking</center></th><th style='border:1px solid black;border-bottom-style: double;color:black;background-color:#BBBBBB'>\n",
       "      <center>dead</center></th><th style='border:1px solid black;border-bottom-style: double;color:black;background-color:#BBBBBB'>\n",
       "      <center>alive</center></th></tr>\n",
       "<tr><th style='border:1px solid black;color:black;background-color:#BBBBBB'><center>casual</center></th><td style='color:black;background-color:#c7b664;text-align:right;padding: 3px;'>0.4300</td><td style='color:black;background-color:#b6c764;text-align:right;padding: 3px;'>0.5700</td></tr>\n",
       "<tr><th style='border:1px solid black;color:black;background-color:#BBBBBB'><center>normal</center></th><td style='color:black;background-color:#dba264;text-align:right;padding: 3px;'>0.2770</td><td style='color:black;background-color:#a2db64;text-align:right;padding: 3px;'>0.7230</td></tr>\n",
       "<tr><th style='border:1px solid black;color:black;background-color:#BBBBBB'><center>intense</center></th><td style='color:black;background-color:#e39a64;text-align:right;padding: 3px;'>0.2150</td><td style='color:black;background-color:#9ae364;text-align:right;padding: 3px;'>0.7850</td></tr>\n",
       "</table><br><center><small><em>Impact</em></small></center></div>"
      ],
      "text/plain": [
       "<IPython.core.display.HTML object>"
      ]
     },
     "metadata": {},
     "output_type": "display_data"
    }
   ],
   "source": [
    "weModele = csl.CausalModel(we)\n",
    "cslnb.showCausalImpact(weModele,\"Mortality\",doing=\"Walking\",values={})"
   ]
  },
  {
   "cell_type": "markdown",
   "metadata": {},
   "source": [
    "> Before jumping to any conclusions, we should consider the presence of possible confounders. We need to ask the following question: <b>what characterizes intense walkers from casual walkers? </b><br>\n",
    "Without abandoning the idea of a possible cause-and-effect relationship between walking and mortality, we introduce a third variable, a \"confounder\", a common cause of the two variables that could explain the correlation that exists between them. Our aim is to distinguish between the causal effect of walking on mortality (if there is a cause and effect relationship) the bias induced by this third variable. For this purpose, we need to adjust for it. "
   ]
  },
  {
   "cell_type": "code",
   "execution_count": 4,
   "metadata": {
    "editable": true,
    "execution": {
     "iopub.execute_input": "2025-02-18T10:25:27.382688Z",
     "iopub.status.busy": "2025-02-18T10:25:27.382606Z",
     "iopub.status.idle": "2025-02-18T10:25:27.482156Z",
     "shell.execute_reply": "2025-02-18T10:25:27.481754Z",
     "shell.execute_reply.started": "2025-02-18T10:25:27.382679Z"
    },
    "slideshow": {
     "slide_type": ""
    },
    "tags": [
     "nbsphinx-thumbnail"
    ]
   },
   "outputs": [
    {
     "data": {
      "image/svg+xml": [
       "<svg xmlns=\"http://www.w3.org/2000/svg\" xmlns:xlink=\"http://www.w3.org/1999/xlink\" width=\"132pt\" height=\"156pt\" viewBox=\"0.00 0.00 131.88 155.60\">\n",
       "<g id=\"graph0\" class=\"graph\" transform=\"scale(1 1) rotate(0) translate(4 151.6)\">\n",
       "<title>G</title>\n",
       "<!-- confounder -->\n",
       "<g id=\"node1\" class=\"node\">\n",
       "<title>confounder</title>\n",
       "<ellipse fill=\"#404040\" stroke=\"#4a4a4a\" cx=\"77.65\" cy=\"-145.8\" rx=\"1.8\" ry=\"1.8\"/>\n",
       "</g>\n",
       "<!-- Walking -->\n",
       "<g id=\"node2\" class=\"node\">\n",
       "<title>Walking</title>\n",
       "<ellipse fill=\"#404040\" stroke=\"#4a4a4a\" cx=\"42.65\" cy=\"-90\" rx=\"42.65\" ry=\"18\"/>\n",
       "<text text-anchor=\"middle\" x=\"42.65\" y=\"-84.95\" font-family=\"Times,serif\" font-size=\"14.00\" fill=\"white\">Walking</text>\n",
       "</g>\n",
       "<!-- confounder&#45;&gt;Walking -->\n",
       "<g id=\"edge2\" class=\"edge\">\n",
       "<title>confounder-&gt;Walking</title>\n",
       "<path fill=\"none\" stroke=\"#4a4a4a\" stroke-dasharray=\"5,2\" d=\"M77.04,-143.87C74.87,-140.53 67.23,-128.78 59.7,-117.21\"/>\n",
       "<polygon fill=\"#4a4a4a\" stroke=\"#4a4a4a\" points=\"62.74,-115.46 54.35,-108.98 56.87,-119.27 62.74,-115.46\"/>\n",
       "</g>\n",
       "<!-- Mortality -->\n",
       "<g id=\"node3\" class=\"node\">\n",
       "<title>Mortality</title>\n",
       "<ellipse fill=\"#404040\" stroke=\"#4a4a4a\" cx=\"77.65\" cy=\"-18\" rx=\"46.23\" ry=\"18\"/>\n",
       "<text text-anchor=\"middle\" x=\"77.65\" y=\"-12.95\" font-family=\"Times,serif\" font-size=\"14.00\" fill=\"white\">Mortality</text>\n",
       "</g>\n",
       "<!-- confounder&#45;&gt;Mortality -->\n",
       "<g id=\"edge3\" class=\"edge\">\n",
       "<title>confounder-&gt;Mortality</title>\n",
       "<path fill=\"none\" stroke=\"#4a4a4a\" stroke-dasharray=\"5,2\" d=\"M78.37,-143.72C81.16,-139.43 91.33,-123.12 94.65,-108 99.14,-87.58 94.39,-64.38 88.78,-46.79\"/>\n",
       "<polygon fill=\"#4a4a4a\" stroke=\"#4a4a4a\" points=\"92.15,-45.84 85.56,-37.55 85.54,-48.14 92.15,-45.84\"/>\n",
       "</g>\n",
       "<!-- Walking&#45;&gt;Mortality -->\n",
       "<g id=\"edge1\" class=\"edge\">\n",
       "<title>Walking-&gt;Mortality</title>\n",
       "<path fill=\"none\" stroke=\"#4a4a4a\" d=\"M50.23,-71.61C54.14,-63.78 58.88,-54.3 63.27,-45.53\"/>\n",
       "<path fill=\"none\" stroke=\"#4a4a4a\" d=\"M52.02,-72.5C55.93,-64.68 60.67,-55.2 65.06,-46.42\"/>\n",
       "<polygon fill=\"#4a4a4a\" stroke=\"#4a4a4a\" points=\"67.24,-47.65 68.58,-37.14 60.98,-44.52 67.24,-47.65\"/>\n",
       "</g>\n",
       "</g>\n",
       "</svg>"
      ],
      "text/plain": [
       "<IPython.core.display.SVG object>"
      ]
     },
     "metadata": {},
     "output_type": "display_data"
    }
   ],
   "source": [
    "weModele1 = csl.CausalModel(we, [(\"confounder\", [\"Walking\",\"Mortality\"])], True)\n",
    "gnb.show(weModele1)"
   ]
  },
  {
   "cell_type": "code",
   "execution_count": 5,
   "metadata": {
    "editable": true,
    "execution": {
     "iopub.execute_input": "2025-02-18T10:25:27.482842Z",
     "iopub.status.busy": "2025-02-18T10:25:27.482738Z",
     "iopub.status.idle": "2025-02-18T10:25:27.585721Z",
     "shell.execute_reply": "2025-02-18T10:25:27.585397Z",
     "shell.execute_reply.started": "2025-02-18T10:25:27.482831Z"
    },
    "slideshow": {
     "slide_type": ""
    },
    "tags": []
   },
   "outputs": [
    {
     "data": {
      "text/html": [
       "\n",
       "      <style>\n",
       "      .floating-box {\n",
       "      display: inline-block;\n",
       "      margin: 7px;\n",
       "      padding : 3px;\n",
       "      border: 0px solid transparent;  \n",
       "      valign:middle;\n",
       "      background-color: transparent;\n",
       "      }\n",
       "      </style>\n",
       "      <div class=\"floating-box\"><svg xmlns=\"http://www.w3.org/2000/svg\" xmlns:xlink=\"http://www.w3.org/1999/xlink\" width=\"132pt\" height=\"156pt\" viewBox=\"0.00 0.00 131.88 155.60\">\n",
       "<g id=\"graph0\" class=\"graph\" transform=\"scale(1 1) rotate(0) translate(4 151.6)\">\n",
       "<title>G</title>\n",
       "<!-- confounder -->\n",
       "<g id=\"node1\" class=\"node\">\n",
       "<title>confounder</title>\n",
       "<ellipse fill=\"#404040\" stroke=\"#4a4a4a\" cx=\"77.65\" cy=\"-145.8\" rx=\"1.8\" ry=\"1.8\"/>\n",
       "</g>\n",
       "<!-- Walking -->\n",
       "<g id=\"node2\" class=\"node\">\n",
       "<title>Walking</title>\n",
       "<ellipse fill=\"#404040\" stroke=\"#4a4a4a\" cx=\"42.65\" cy=\"-90\" rx=\"42.65\" ry=\"18\"/>\n",
       "<text text-anchor=\"middle\" x=\"42.65\" y=\"-84.95\" font-family=\"Times,serif\" font-size=\"14.00\" fill=\"white\">Walking</text>\n",
       "</g>\n",
       "<!-- confounder&#45;&gt;Walking -->\n",
       "<g id=\"edge2\" class=\"edge\">\n",
       "<title>confounder-&gt;Walking</title>\n",
       "<path fill=\"none\" stroke=\"#4a4a4a\" stroke-dasharray=\"5,2\" d=\"M77.04,-143.87C74.87,-140.53 67.23,-128.78 59.7,-117.21\"/>\n",
       "<polygon fill=\"#4a4a4a\" stroke=\"#4a4a4a\" points=\"62.74,-115.46 54.35,-108.98 56.87,-119.27 62.74,-115.46\"/>\n",
       "</g>\n",
       "<!-- Mortality -->\n",
       "<g id=\"node3\" class=\"node\">\n",
       "<title>Mortality</title>\n",
       "<ellipse fill=\"#404040\" stroke=\"#4a4a4a\" cx=\"77.65\" cy=\"-18\" rx=\"46.23\" ry=\"18\"/>\n",
       "<text text-anchor=\"middle\" x=\"77.65\" y=\"-12.95\" font-family=\"Times,serif\" font-size=\"14.00\" fill=\"white\">Mortality</text>\n",
       "</g>\n",
       "<!-- confounder&#45;&gt;Mortality -->\n",
       "<g id=\"edge3\" class=\"edge\">\n",
       "<title>confounder-&gt;Mortality</title>\n",
       "<path fill=\"none\" stroke=\"#4a4a4a\" stroke-dasharray=\"5,2\" d=\"M78.37,-143.72C81.16,-139.43 91.33,-123.12 94.65,-108 99.14,-87.58 94.39,-64.38 88.78,-46.79\"/>\n",
       "<polygon fill=\"#4a4a4a\" stroke=\"#4a4a4a\" points=\"92.15,-45.84 85.56,-37.55 85.54,-48.14 92.15,-45.84\"/>\n",
       "</g>\n",
       "<!-- Walking&#45;&gt;Mortality -->\n",
       "<g id=\"edge1\" class=\"edge\">\n",
       "<title>Walking-&gt;Mortality</title>\n",
       "<path fill=\"none\" stroke=\"#4a4a4a\" d=\"M50.23,-71.61C54.14,-63.78 58.88,-54.3 63.27,-45.53\"/>\n",
       "<path fill=\"none\" stroke=\"#4a4a4a\" d=\"M52.02,-72.5C55.93,-64.68 60.67,-55.2 65.06,-46.42\"/>\n",
       "<polygon fill=\"#4a4a4a\" stroke=\"#4a4a4a\" points=\"67.24,-47.65 68.58,-37.14 60.98,-44.52 67.24,-47.65\"/>\n",
       "</g>\n",
       "</g>\n",
       "</svg><br><center><small><em>Causal Model</em></small></center></div><div class=\"floating-box\">Hedge Error: G={'Walking', 'Mortality'}, G[S]={'Mortality'}<br><center><small><em>Impossible</em></small></center></div><div class=\"floating-box\">No result<br><center><small><em>Impact</em></small></center></div>"
      ],
      "text/plain": [
       "<IPython.core.display.HTML object>"
      ]
     },
     "metadata": {},
     "output_type": "display_data"
    }
   ],
   "source": [
    "cslnb.showCausalImpact(weModele1, \"Mortality\", \"Walking\",values={\"Walking\":\"intense\"})"
   ]
  },
  {
   "cell_type": "markdown",
   "metadata": {},
   "source": [
    "## Introducing age as a confounder:"
   ]
  },
  {
   "cell_type": "markdown",
   "metadata": {},
   "source": [
    "> We want to measure the causal effect of walking on mortality, the introduction of a confounding bias occurs when a third variable called \"confounding variable\" influences both walking and mortality. <br>\n",
    "An obvious confounder is <b>age</b>, younger subjects exercise more and have more time to live! (there are other confounders)"
   ]
  },
  {
   "cell_type": "markdown",
   "metadata": {},
   "source": [
    "### Let's use fictitious data:"
   ]
  },
  {
   "cell_type": "code",
   "execution_count": 6,
   "metadata": {
    "execution": {
     "iopub.execute_input": "2025-02-18T10:25:27.587313Z",
     "iopub.status.busy": "2025-02-18T10:25:27.587200Z",
     "iopub.status.idle": "2025-02-18T10:25:27.679529Z",
     "shell.execute_reply": "2025-02-18T10:25:27.679221Z",
     "shell.execute_reply.started": "2025-02-18T10:25:27.587304Z"
    }
   },
   "outputs": [
    {
     "data": {
      "text/html": [
       "<table style=\"border-style: hidden; border-collapse: collapse;\" width=\"100%\"><tr><td style=\"border-top:hidden;border-bottom:hidden;vertical-align:middle;\"><div align=\"center\" style=\"vertical-align:middle;\"><svg xmlns=\"http://www.w3.org/2000/svg\" xmlns:xlink=\"http://www.w3.org/1999/xlink\" width=\"132pt\" height=\"188pt\" viewBox=\"0.00 0.00 131.88 188.00\">\n",
       "<g id=\"graph0\" class=\"graph\" transform=\"scale(1 1) rotate(0) translate(4 184)\">\n",
       "<title>G</title>\n",
       "<!-- Walking -->\n",
       "<g id=\"node1\" class=\"node\">\n",
       "<title>Walking</title>\n",
       "<g id=\"a_node1\"><a xlink:title=\"(1) Walking\">\n",
       "<ellipse fill=\"#404040\" stroke=\"#4a4a4a\" cx=\"42.65\" cy=\"-90\" rx=\"42.65\" ry=\"18\"/>\n",
       "<text text-anchor=\"middle\" x=\"42.65\" y=\"-84.95\" font-family=\"Times,serif\" font-size=\"14.00\" fill=\"white\">Walking</text>\n",
       "</a>\n",
       "</g>\n",
       "</g>\n",
       "<!-- Mortality -->\n",
       "<g id=\"node2\" class=\"node\">\n",
       "<title>Mortality</title>\n",
       "<g id=\"a_node2\"><a xlink:title=\"(2) Mortality\">\n",
       "<ellipse fill=\"#404040\" stroke=\"#4a4a4a\" cx=\"77.65\" cy=\"-18\" rx=\"46.23\" ry=\"18\"/>\n",
       "<text text-anchor=\"middle\" x=\"77.65\" y=\"-12.95\" font-family=\"Times,serif\" font-size=\"14.00\" fill=\"white\">Mortality</text>\n",
       "</a>\n",
       "</g>\n",
       "</g>\n",
       "<!-- Walking&#45;&gt;Mortality -->\n",
       "<g id=\"edge3\" class=\"edge\">\n",
       "<title>Walking-&gt;Mortality</title>\n",
       "<g id=\"a_edge3\"><a xlink:title=\"1 → 2\">\n",
       "<path fill=\"none\" stroke=\"#4a4a4a\" d=\"M51.12,-72.05C55.04,-64.23 59.78,-54.75 64.16,-45.98\"/>\n",
       "<polygon fill=\"#4a4a4a\" stroke=\"#4a4a4a\" points=\"67.24,-47.65 68.58,-37.14 60.98,-44.52 67.24,-47.65\"/>\n",
       "</a>\n",
       "</g>\n",
       "</g>\n",
       "<!-- Age -->\n",
       "<g id=\"node3\" class=\"node\">\n",
       "<title>Age</title>\n",
       "<g id=\"a_node3\"><a xlink:title=\"(0) Age\">\n",
       "<ellipse fill=\"#404040\" stroke=\"#4a4a4a\" cx=\"77.65\" cy=\"-162\" rx=\"27\" ry=\"18\"/>\n",
       "<text text-anchor=\"middle\" x=\"77.65\" y=\"-156.95\" font-family=\"Times,serif\" font-size=\"14.00\" fill=\"white\">Age</text>\n",
       "</a>\n",
       "</g>\n",
       "</g>\n",
       "<!-- Age&#45;&gt;Walking -->\n",
       "<g id=\"edge1\" class=\"edge\">\n",
       "<title>Age-&gt;Walking</title>\n",
       "<g id=\"a_edge1\"><a xlink:title=\"0 → 1\">\n",
       "<path fill=\"none\" stroke=\"#4a4a4a\" d=\"M69.36,-144.41C65.45,-136.59 60.68,-127.06 56.26,-118.23\"/>\n",
       "<polygon fill=\"#4a4a4a\" stroke=\"#4a4a4a\" points=\"59.41,-116.69 51.81,-109.31 53.15,-119.82 59.41,-116.69\"/>\n",
       "</a>\n",
       "</g>\n",
       "</g>\n",
       "<!-- Age&#45;&gt;Mortality -->\n",
       "<g id=\"edge2\" class=\"edge\">\n",
       "<title>Age-&gt;Mortality</title>\n",
       "<g id=\"a_edge2\"><a xlink:title=\"0 → 2\">\n",
       "<path fill=\"none\" stroke=\"#4a4a4a\" d=\"M84.54,-144.14C88.36,-133.88 92.71,-120.41 94.65,-108 97.12,-92.19 97.12,-87.81 94.65,-72 93.33,-63.56 90.9,-54.64 88.28,-46.56\"/>\n",
       "<polygon fill=\"#4a4a4a\" stroke=\"#4a4a4a\" points=\"91.64,-45.58 85.04,-37.29 85.03,-47.88 91.64,-45.58\"/>\n",
       "</a>\n",
       "</g>\n",
       "</g>\n",
       "</g>\n",
       "</svg><br><small><i>the BN</i></small></div></td><td style=\"border-top:hidden;border-bottom:hidden;vertical-align:middle;\"><div align=\"center\" style=\"vertical-align:middle;\"><table style=\"border:1px solid black;border-collapse: collapse;\">\n",
       "<tr style='border:1px solid black;color:black;background-color:#808080'>\n",
       "      <th colspan='3'><center>Age</center></th></tr>\n",
       "<tr><th style='border:1px solid black;border-bottom-style: double;color:black;background-color:#BBBBBB'>\n",
       "      <center>cat1</center></th><th style='border:1px solid black;border-bottom-style: double;color:black;background-color:#BBBBBB'>\n",
       "      <center>cat2</center></th><th style='border:1px solid black;border-bottom-style: double;color:black;background-color:#BBBBBB'>\n",
       "      <center>cat3</center></th></tr>\n",
       "<tr><td style='color:black;background-color:#acd164;text-align:right;padding: 3px;'>0.6472</td><td style='color:black;background-color:#f08d64;text-align:right;padding: 3px;'>0.1168</td><td style='color:black;background-color:#e09d64;text-align:right;padding: 3px;'>0.2360</td></tr>\n",
       "</table><br><small><i>the marginal for $Age$</i></small></div></td><td style=\"border-top:hidden;border-bottom:hidden;vertical-align:middle;\"><div align=\"center\" style=\"vertical-align:middle;\"><table style=\"border:1px solid black;border-collapse: collapse;\">\n",
       "<tr><th colspan='1'></th>\n",
       "      <th colspan='3' style='border:1px solid black;color:black;background-color:#808080;'><center>Walking</center>\n",
       "      </th></tr>\n",
       "<tr><th style='border:1px solid black;color:black;background-color:#808080'><center>Age</center></th><th style='border:1px solid black;border-bottom-style: double;color:black;background-color:#BBBBBB'>\n",
       "      <center>casual</center></th><th style='border:1px solid black;border-bottom-style: double;color:black;background-color:#BBBBBB'>\n",
       "      <center>normal</center></th><th style='border:1px solid black;border-bottom-style: double;color:black;background-color:#BBBBBB'>\n",
       "      <center>intense</center></th></tr>\n",
       "<tr><th style='border:1px solid black;color:black;background-color:#BBBBBB'><center>cat1</center></th><td style='color:black;background-color:#cab364;text-align:right;padding: 3px;'>0.4077</td><td style='color:black;background-color:#f58864;text-align:right;padding: 3px;'>0.0754</td><td style='color:black;background-color:#bcc164;text-align:right;padding: 3px;'>0.5169</td></tr>\n",
       "<tr><th style='border:1px solid black;color:black;background-color:#BBBBBB'><center>cat2</center></th><td style='color:black;background-color:#ccb164;text-align:right;padding: 3px;'>0.3934</td><td style='color:black;background-color:#d7a664;text-align:right;padding: 3px;'>0.3077</td><td style='color:black;background-color:#d8a564;text-align:right;padding: 3px;'>0.2989</td></tr>\n",
       "<tr><th style='border:1px solid black;color:black;background-color:#BBBBBB'><center>cat3</center></th><td style='color:black;background-color:#c2bb64;text-align:right;padding: 3px;'>0.4721</td><td style='color:black;background-color:#f28b64;text-align:right;padding: 3px;'>0.0974</td><td style='color:black;background-color:#c7b664;text-align:right;padding: 3px;'>0.4305</td></tr>\n",
       "</table><br><small><i>the CPT for $Walking$</i></small></div></td><td style=\"border-top:hidden;border-bottom:hidden;vertical-align:middle;\"><div align=\"center\" style=\"vertical-align:middle;\"><table style=\"border:1px solid black;border-collapse: collapse;\">\n",
       "<tr><th colspan='2'></th>\n",
       "      <th colspan='2' style='border:1px solid black;color:black;background-color:#808080;'><center>Mortality</center>\n",
       "      </th></tr>\n",
       "<tr><th style='border:1px solid black;color:black;background-color:#808080'><center>Age</center></th><th style='border:1px solid black;color:black;background-color:#808080'><center>Walking</center></th><th style='border:1px solid black;border-bottom-style: double;color:black;background-color:#BBBBBB'>\n",
       "      <center>dead</center></th><th style='border:1px solid black;border-bottom-style: double;color:black;background-color:#BBBBBB'>\n",
       "      <center>alive</center></th></tr>\n",
       "<tr><th style='border:1px solid black;color:black;background-color:#BBBBBB;' rowspan = '3'>\n",
       "            <center>cat1</center></th><th style='border:1px solid black;color:black;background-color:#BBBBBB'><center>casual</center></th><td style='color:black;background-color:#90ed64;text-align:right;padding: 3px;'>0.8624</td><td style='color:black;background-color:#ed9064;text-align:right;padding: 3px;'>0.1376</td></tr>\n",
       "<tr><th style='border:1px solid black;color:black;background-color:#BBBBBB'><center>normal</center></th><td style='color:black;background-color:#a2db64;text-align:right;padding: 3px;'>0.7259</td><td style='color:black;background-color:#dba264;text-align:right;padding: 3px;'>0.2741</td></tr>\n",
       "<tr><th style='border:1px solid black;color:black;background-color:#BBBBBB'><center>intense</center></th><td style='color:black;background-color:#c8b564;text-align:right;padding: 3px;'>0.4273</td><td style='color:black;background-color:#b5c864;text-align:right;padding: 3px;'>0.5727</td></tr>\n",
       "<tr><th style='border:1px solid black;color:black;background-color:#BBBBBB;' rowspan = '3'>\n",
       "            <center>cat2</center></th><th style='border:1px solid black;color:black;background-color:#BBBBBB'><center>casual</center></th><td style='color:black;background-color:#a2db64;text-align:right;padding: 3px;'>0.7256</td><td style='color:black;background-color:#dba264;text-align:right;padding: 3px;'>0.2744</td></tr>\n",
       "<tr><th style='border:1px solid black;color:black;background-color:#BBBBBB'><center>normal</center></th><td style='color:black;background-color:#d6a764;text-align:right;padding: 3px;'>0.3148</td><td style='color:black;background-color:#a7d664;text-align:right;padding: 3px;'>0.6852</td></tr>\n",
       "<tr><th style='border:1px solid black;color:black;background-color:#BBBBBB'><center>intense</center></th><td style='color:black;background-color:#f48964;text-align:right;padding: 3px;'>0.0799</td><td style='color:black;background-color:#89f464;text-align:right;padding: 3px;'>0.9201</td></tr>\n",
       "<tr><th style='border:1px solid black;color:black;background-color:#BBBBBB;' rowspan = '3'>\n",
       "            <center>cat3</center></th><th style='border:1px solid black;color:black;background-color:#BBBBBB'><center>casual</center></th><td style='color:black;background-color:#7ffe64;text-align:right;padding: 3px;'>0.9996</td><td style='color:black;background-color:#fe7f64;text-align:right;padding: 3px;'>0.0004</td></tr>\n",
       "<tr><th style='border:1px solid black;color:black;background-color:#BBBBBB'><center>normal</center></th><td style='color:black;background-color:#dca164;text-align:right;padding: 3px;'>0.2662</td><td style='color:black;background-color:#a1dc64;text-align:right;padding: 3px;'>0.7338</td></tr>\n",
       "<tr><th style='border:1px solid black;color:black;background-color:#BBBBBB'><center>intense</center></th><td style='color:black;background-color:#a1dc64;text-align:right;padding: 3px;'>0.7266</td><td style='color:black;background-color:#dca164;text-align:right;padding: 3px;'>0.2734</td></tr>\n",
       "</table><br><small><i>the CPT for $Mortality$</i></small></div></td></tr></table>"
      ],
      "text/plain": [
       "<IPython.core.display.HTML object>"
      ]
     },
     "metadata": {},
     "output_type": "display_data"
    }
   ],
   "source": [
    "wea = gum.fastBN(\"Age{cat1|cat2|cat3}->Walking{casual|normal|intense}->Mortality{dead|alive}<-Age{cat1|cat2|cat3}\")\n",
    "                 \n",
    "gnb.sideBySide(wea,wea.cpt(\"Age\"),wea.cpt(\"Walking\"),wea.cpt(\"Mortality\"),\n",
    "               captions=[\"the BN\",\"the marginal for $Age$\",\"the CPT for $Walking$\",\"the CPT for $Mortality$\"])"
   ]
  },
  {
   "cell_type": "markdown",
   "metadata": {},
   "source": [
    "## Causal effect of walking on mortality with age as a confounder:"
   ]
  },
  {
   "cell_type": "code",
   "execution_count": 7,
   "metadata": {
    "execution": {
     "iopub.execute_input": "2025-02-18T10:25:27.680154Z",
     "iopub.status.busy": "2025-02-18T10:25:27.680037Z",
     "iopub.status.idle": "2025-02-18T10:25:27.784858Z",
     "shell.execute_reply": "2025-02-18T10:25:27.784522Z",
     "shell.execute_reply.started": "2025-02-18T10:25:27.680133Z"
    }
   },
   "outputs": [
    {
     "data": {
      "text/html": [
       "\n",
       "      <style>\n",
       "      .floating-box {\n",
       "      display: inline-block;\n",
       "      margin: 7px;\n",
       "      padding : 3px;\n",
       "      border: 0px solid transparent;  \n",
       "      valign:middle;\n",
       "      background-color: transparent;\n",
       "      }\n",
       "      </style>\n",
       "      <div class=\"floating-box\"><svg xmlns=\"http://www.w3.org/2000/svg\" xmlns:xlink=\"http://www.w3.org/1999/xlink\" width=\"126pt\" height=\"180pt\" viewBox=\"0.00 0.00 126.27 180.00\">\n",
       "<g id=\"graph0\" class=\"graph\" transform=\"scale(0.957447 0.957447) rotate(0) translate(4 184)\">\n",
       "<title>G</title>\n",
       "<!-- Age -->\n",
       "<g id=\"node1\" class=\"node\">\n",
       "<title>Age</title>\n",
       "<ellipse fill=\"#404040\" stroke=\"#4a4a4a\" cx=\"77.65\" cy=\"-162\" rx=\"27\" ry=\"18\"/>\n",
       "<text text-anchor=\"middle\" x=\"77.65\" y=\"-156.95\" font-family=\"Times,serif\" font-size=\"14.00\" fill=\"white\">Age</text>\n",
       "</g>\n",
       "<!-- Walking -->\n",
       "<g id=\"node2\" class=\"node\">\n",
       "<title>Walking</title>\n",
       "<ellipse fill=\"#404040\" stroke=\"#4a4a4a\" cx=\"42.65\" cy=\"-90\" rx=\"42.65\" ry=\"18\"/>\n",
       "<text text-anchor=\"middle\" x=\"42.65\" y=\"-84.95\" font-family=\"Times,serif\" font-size=\"14.00\" fill=\"white\">Walking</text>\n",
       "</g>\n",
       "<!-- Age&#45;&gt;Walking -->\n",
       "<g id=\"edge1\" class=\"edge\">\n",
       "<title>Age-&gt;Walking</title>\n",
       "<path fill=\"none\" stroke=\"#4a4a4a\" d=\"M68.46,-144.86C64.55,-137.04 59.79,-127.51 55.37,-118.67\"/>\n",
       "<path fill=\"none\" stroke=\"#4a4a4a\" d=\"M70.25,-143.96C66.34,-136.15 61.58,-126.61 57.16,-117.78\"/>\n",
       "<polygon fill=\"#4a4a4a\" stroke=\"#4a4a4a\" points=\"59.41,-116.69 51.81,-109.31 53.15,-119.82 59.41,-116.69\"/>\n",
       "</g>\n",
       "<!-- Mortality -->\n",
       "<g id=\"node3\" class=\"node\">\n",
       "<title>Mortality</title>\n",
       "<ellipse fill=\"#404040\" stroke=\"#4a4a4a\" cx=\"77.65\" cy=\"-18\" rx=\"46.23\" ry=\"18\"/>\n",
       "<text text-anchor=\"middle\" x=\"77.65\" y=\"-12.95\" font-family=\"Times,serif\" font-size=\"14.00\" fill=\"white\">Mortality</text>\n",
       "</g>\n",
       "<!-- Age&#45;&gt;Mortality -->\n",
       "<g id=\"edge2\" class=\"edge\">\n",
       "<title>Age-&gt;Mortality</title>\n",
       "<path fill=\"none\" stroke=\"#4a4a4a\" d=\"M83.6,-143.79C87.4,-133.58 91.76,-120.1 93.66,-107.85 96.12,-92.19 96.12,-87.81 93.66,-72.15 92.37,-63.83 89.93,-54.9 87.32,-46.87\"/>\n",
       "<path fill=\"none\" stroke=\"#4a4a4a\" d=\"M85.48,-144.49C89.31,-134.19 93.66,-120.72 95.64,-108.15 98.12,-92.19 98.12,-87.81 95.64,-71.85 94.3,-63.3 91.86,-54.37 89.23,-46.26\"/>\n",
       "<polygon fill=\"#4a4a4a\" stroke=\"#4a4a4a\" points=\"91.64,-45.58 85.04,-37.29 85.03,-47.88 91.64,-45.58\"/>\n",
       "</g>\n",
       "<!-- Walking&#45;&gt;Mortality -->\n",
       "<g id=\"edge3\" class=\"edge\">\n",
       "<title>Walking-&gt;Mortality</title>\n",
       "<path fill=\"none\" stroke=\"#4a4a4a\" d=\"M50.23,-71.61C54.14,-63.78 58.88,-54.3 63.27,-45.53\"/>\n",
       "<path fill=\"none\" stroke=\"#4a4a4a\" d=\"M52.02,-72.5C55.93,-64.68 60.67,-55.2 65.06,-46.42\"/>\n",
       "<polygon fill=\"#4a4a4a\" stroke=\"#4a4a4a\" points=\"67.24,-47.65 68.58,-37.14 60.98,-44.52 67.24,-47.65\"/>\n",
       "</g>\n",
       "</g>\n",
       "</svg><br><center><small><em>Causal Model</em></small></center></div><div class=\"floating-box\">$$\\begin{equation*}P( Mortality \\mid \\text{do}(Walking)) = \\sum_{Age}{P\\left(Mortality\\mid Age,Walking\\right) \\cdot P\\left(Age\\right)}\\end{equation*}$$<br><center><small><em>Explanation : backdoor ['Age'] found.</em></small></center></div><div class=\"floating-box\"><table style=\"border:1px solid black;border-collapse: collapse;\">\n",
       "<tr><th colspan='1'></th>\n",
       "      <th colspan='2' style='border:1px solid black;color:black;background-color:#808080;'><center>Mortality</center>\n",
       "      </th></tr>\n",
       "<tr><th style='border:1px solid black;color:black;background-color:#808080'><center>Walking</center></th><th style='border:1px solid black;border-bottom-style: double;color:black;background-color:#BBBBBB'>\n",
       "      <center>dead</center></th><th style='border:1px solid black;border-bottom-style: double;color:black;background-color:#BBBBBB'>\n",
       "      <center>alive</center></th></tr>\n",
       "<tr><th style='border:1px solid black;color:black;background-color:#BBBBBB'><center>casual</center></th><td style='color:black;background-color:#8eef64;text-align:right;padding: 3px;'>0.8788</td><td style='color:black;background-color:#ef8e64;text-align:right;padding: 3px;'>0.1212</td></tr>\n",
       "<tr><th style='border:1px solid black;color:black;background-color:#BBBBBB'><center>normal</center></th><td style='color:black;background-color:#b6c764;text-align:right;padding: 3px;'>0.5694</td><td style='color:black;background-color:#c7b664;text-align:right;padding: 3px;'>0.4306</td></tr>\n",
       "<tr><th style='border:1px solid black;color:black;background-color:#BBBBBB'><center>intense</center></th><td style='color:black;background-color:#c4b964;text-align:right;padding: 3px;'>0.4574</td><td style='color:black;background-color:#b9c464;text-align:right;padding: 3px;'>0.5426</td></tr>\n",
       "</table><br><center><small><em>Impact</em></small></center></div>"
      ],
      "text/plain": [
       "<IPython.core.display.HTML object>"
      ]
     },
     "metadata": {},
     "output_type": "display_data"
    }
   ],
   "source": [
    "weModele2 = csl.CausalModel(wea)\n",
    "cslnb.showCausalImpact(weModele2, \"Mortality\", \"Walking\",values={})"
   ]
  },
  {
   "cell_type": "markdown",
   "metadata": {},
   "source": [
    "> We adjusted for Age using the back-door criterion (Age blocks all back-door paths from Walking to Mortality, setting Walking=\n",
    "\"intense\" or conditioning on Walking=\"intense\" has the same effect on Mortality)"
   ]
  },
  {
   "cell_type": "markdown",
   "metadata": {},
   "source": [
    "## Conclusion:"
   ]
  },
  {
   "cell_type": "markdown",
   "metadata": {},
   "source": [
    "> After adjusting for age, we obtain that 40.5% (43% unadjusted) of casual walkers died, whereas only 23.8% (21,5% unadjusted) of intense walkers died. The correlation induced by Age between the two variables is negligible. <br>\n",
    "Even after adjusting for all plausible confounders, after getting rid of all confounding bias, Walking is still associated to Mortality. Unless we missed any other confounders, <b> in which case the remaining uncertainty is proportional to the correlation induced by these hidden variables, </b>we can say that intentional walking prolongs life among the studied population.\n",
    "\n",
    "> <b>In an observational study, adjusting for confounding factors is systematic in order to measure the causal effect of a treatment on an outcome.</b>"
   ]
  },
  {
   "cell_type": "markdown",
   "metadata": {},
   "source": [
    "## Study measurements both unadjusted and age-adjusted: "
   ]
  },
  {
   "cell_type": "markdown",
   "metadata": {},
   "source": [
    "![title](images/WalkingExampleInfo.jpeg)"
   ]
  },
  {
   "cell_type": "code",
   "execution_count": null,
   "metadata": {
    "editable": true,
    "slideshow": {
     "slide_type": ""
    },
    "tags": []
   },
   "outputs": [],
   "source": []
  }
 ],
 "metadata": {
  "kernelspec": {
   "display_name": "Python 3 (ipykernel)",
   "language": "python",
   "name": "python3"
  },
  "language_info": {
   "codemirror_mode": {
    "name": "ipython",
    "version": 3
   },
   "file_extension": ".py",
   "mimetype": "text/x-python",
   "name": "python",
   "nbconvert_exporter": "python",
   "pygments_lexer": "ipython3",
   "version": "3.13.2"
  }
 },
 "nbformat": 4,
 "nbformat_minor": 4
}
