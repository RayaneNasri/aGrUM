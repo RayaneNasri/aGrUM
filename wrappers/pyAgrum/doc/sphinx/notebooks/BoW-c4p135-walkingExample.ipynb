{
 "cells": [
  {
   "cell_type": "markdown",
   "metadata": {},
   "source": [
    "<a href=\"http://agrum.org\" target=\"blank\"><img src=\"http://agrum.gitlab.io/theme/img/logoAgrum.png\" align=\"left\" style=\"height:100px\"/></a><a href=\"https://agrum.gitlab.io/pages/pyagrum.html\" target=\"blank\"><img src=\"https://agrum.gitlab.io/images/pyAgrum.png\" align=\"right\" style=\"height:75px\"/></a><a rel=\"license\" href=\"http://creativecommons.org/licenses/by-nc/4.0/\"><img alt=\"Creative Commons License\" style=\"border-width:0\" src=\"https://i.creativecommons.org/l/by-nc/4.0/88x31.png\" /></a><br />This pyAgrum's notebook is licensed under a <a rel=\"license\" href=\"http://creativecommons.org/licenses/by-nc/4.0/\">Creative Commons Attribution-NonCommercial 4.0 International License</a><br/>\n",
    "Author: <b>Aymen Merrouche</b> and Pierre-Henri Wuillemin."
   ]
  },
  {
   "cell_type": "markdown",
   "metadata": {},
   "source": [
    "<font size=\"+3\" color=\"GREEN\">**Walking Example**</font>\n",
    "#### This notebook follows the example from \"The Book Of Why\" (Pearl, 2018) chapter 4 page 135. \n",
    "\n",
    "## Confounding"
   ]
  },
  {
   "cell_type": "code",
   "execution_count": 1,
   "metadata": {
    "execution": {
     "iopub.execute_input": "2024-01-05T17:49:02.160976Z",
     "iopub.status.busy": "2024-01-05T17:49:02.160625Z",
     "iopub.status.idle": "2024-01-05T17:49:02.469264Z",
     "shell.execute_reply": "2024-01-05T17:49:02.468527Z",
     "shell.execute_reply.started": "2024-01-05T17:49:02.160939Z"
    }
   },
   "outputs": [],
   "source": [
    "from IPython.display import display, Math, Latex,HTML\n",
    "\n",
    "import pyAgrum as gum\n",
    "import pyAgrum.lib.notebook as gnb\n",
    "import pyAgrum.causal as csl\n",
    "import pyAgrum.causal.notebook as cslnb\n",
    "import os"
   ]
  },
  {
   "cell_type": "markdown",
   "metadata": {},
   "source": [
    "> In 1998 a study unveiled a correlation between physical exercise and longevity among nonsmoking retired men. Of course what we want to know is whether men who exercise more live longer, suggesting a causal relationship. Study measurements are to be found at the end of this notebook."
   ]
  },
  {
   "cell_type": "markdown",
   "metadata": {},
   "source": [
    "### We create the causal diagram:\n",
    "The corresponding causal diagram is the following:"
   ]
  },
  {
   "cell_type": "code",
   "execution_count": 2,
   "metadata": {
    "execution": {
     "iopub.execute_input": "2024-01-05T17:49:02.470781Z",
     "iopub.status.busy": "2024-01-05T17:49:02.470550Z",
     "iopub.status.idle": "2024-01-05T17:49:02.545205Z",
     "shell.execute_reply": "2024-01-05T17:49:02.544288Z",
     "shell.execute_reply.started": "2024-01-05T17:49:02.470764Z"
    }
   },
   "outputs": [
    {
     "data": {
      "text/html": [
       "<table style=\"border-style: hidden; border-collapse: collapse;\" width=\"100%\"><tr><td style=\"border-top:hidden;border-bottom:hidden;vertical-align:middle;\"><div align=\"center\" style=\"vertical-align:middle;\"><svg xmlns=\"http://www.w3.org/2000/svg\" xmlns:xlink=\"http://www.w3.org/1999/xlink\" width=\"124pt\" height=\"116pt\" viewBox=\"0.00 0.00 124.09 116.00\">\n",
       "<g id=\"graph0\" class=\"graph\" transform=\"scale(1 1) rotate(0) translate(4 112)\">\n",
       "<title>G</title>\n",
       "<!-- Mortality -->\n",
       "<g id=\"node1\" class=\"node\">\n",
       "<title>Mortality</title>\n",
       "<g id=\"a_node1\"><a xlink:title=\"(1) Mortality\">\n",
       "<ellipse fill=\"#404040\" stroke=\"black\" cx=\"58.05\" cy=\"-18\" rx=\"58.05\" ry=\"18\"/>\n",
       "<text text-anchor=\"middle\" x=\"58.05\" y=\"-13.32\" font-family=\"Times,serif\" font-size=\"14.00\" fill=\"white\">Mortality</text>\n",
       "</a>\n",
       "</g>\n",
       "</g>\n",
       "<!-- Walking -->\n",
       "<g id=\"node2\" class=\"node\">\n",
       "<title>Walking</title>\n",
       "<g id=\"a_node2\"><a xlink:title=\"(0) Walking\">\n",
       "<ellipse fill=\"#404040\" stroke=\"black\" cx=\"58.05\" cy=\"-90\" rx=\"51.21\" ry=\"18\"/>\n",
       "<text text-anchor=\"middle\" x=\"58.05\" y=\"-85.33\" font-family=\"Times,serif\" font-size=\"14.00\" fill=\"white\">Walking</text>\n",
       "</a>\n",
       "</g>\n",
       "</g>\n",
       "<!-- Walking&#45;&gt;Mortality -->\n",
       "<g id=\"edge1\" class=\"edge\">\n",
       "<title>Walking-&gt;Mortality</title>\n",
       "<g id=\"a_edge1\"><a xlink:title=\"0 → 1\">\n",
       "<path fill=\"none\" stroke=\"#4a4a4a\" d=\"M58.05,-71.7C58.05,-64.41 58.05,-55.73 58.05,-47.54\"/>\n",
       "<polygon fill=\"#4a4a4a\" stroke=\"#4a4a4a\" points=\"61.55,-47.62 58.05,-37.62 54.55,-47.62 61.55,-47.62\"/>\n",
       "</a>\n",
       "</g>\n",
       "</g>\n",
       "</g>\n",
       "</svg><br><small><i>the BN</i></small></div></td><td style=\"border-top:hidden;border-bottom:hidden;vertical-align:middle;\"><div align=\"center\" style=\"vertical-align:middle;\"><table style=\"border:1px solid black;\">\n",
       "<tr><th colspan='1'></th>\n",
       "      <th colspan='3' style='border:1px solid black;color:black;background-color:#808080;'><center>Walking</center>\n",
       "      </th></tr>\n",
       "<tr><th style='border:1px solid black;color:black;background-color:#808080'><center>Mortality</center></th><th style='border:1px solid black;border-bottom-style: double;color:black;background-color:#BBBBBB'>\n",
       "      <center>casual</center></th><th style='border:1px solid black;border-bottom-style: double;color:black;background-color:#BBBBBB'>\n",
       "      <center>normal</center></th><th style='border:1px solid black;border-bottom-style: double;color:black;background-color:#BBBBBB'>\n",
       "      <center>intense</center></th></tr>\n",
       "<tr><th style='border:1px solid black;color:black;background-color:#BBBBBB'><center>dead</center></th><td style='color:black;background-color:#f38a64;text-align:right;'>0.0918</td><td style='color:black;background-color:#eb9264;text-align:right;'>0.1485</td><td style='color:black;background-color:#f88564;text-align:right;'>0.0538</td></tr>\n",
       "<tr><th style='border:1px solid black;color:black;background-color:#BBBBBB'><center>alive</center></th><td style='color:black;background-color:#ef8e64;text-align:right;'>0.1217</td><td style='color:black;background-color:#cdb064;text-align:right;'>0.3876</td><td style='color:black;background-color:#e59864;text-align:right;'>0.1965</td></tr>\n",
       "</table><br><small><i>the joint distribution</i></small></div></td><td style=\"border-top:hidden;border-bottom:hidden;vertical-align:middle;\"><div align=\"center\" style=\"vertical-align:middle;\"><table style=\"border:1px solid black;\">\n",
       "<tr style='border:1px solid black;color:black;background-color:#808080'>\n",
       "      <th colspan='3'><center>Walking</center></th></tr>\n",
       "<tr><th style='border:1px solid black;border-bottom-style: double;color:black;background-color:#BBBBBB'>\n",
       "      <center>casual</center></th><th style='border:1px solid black;border-bottom-style: double;color:black;background-color:#BBBBBB'>\n",
       "      <center>normal</center></th><th style='border:1px solid black;border-bottom-style: double;color:black;background-color:#BBBBBB'>\n",
       "      <center>intense</center></th></tr>\n",
       "<tr><td style='color:black;background-color:#e39a64;text-align:right;'>0.2136</td><td style='color:black;background-color:#bac364;text-align:right;'>0.5361</td><td style='color:black;background-color:#de9f64;text-align:right;'>0.2504</td></tr>\n",
       "</table><br><small><i>the marginal for $Walking$</i></small></div></td><td style=\"border-top:hidden;border-bottom:hidden;vertical-align:middle;\"><div align=\"center\" style=\"vertical-align:middle;\"><table style=\"border:1px solid black;\">\n",
       "<tr><th colspan='1'></th>\n",
       "      <th colspan='2' style='border:1px solid black;color:black;background-color:#808080;'><center>Mortality</center>\n",
       "      </th></tr>\n",
       "<tr><th style='border:1px solid black;color:black;background-color:#808080'><center>Walking</center></th><th style='border:1px solid black;border-bottom-style: double;color:black;background-color:#BBBBBB'>\n",
       "      <center>dead</center></th><th style='border:1px solid black;border-bottom-style: double;color:black;background-color:#BBBBBB'>\n",
       "      <center>alive</center></th></tr>\n",
       "<tr><th style='border:1px solid black;color:black;background-color:#BBBBBB'><center>casual</center></th><td style='color:black;background-color:#c7b664;text-align:right;'>0.4300</td><td style='color:black;background-color:#b6c764;text-align:right;'>0.5700</td></tr>\n",
       "<tr><th style='border:1px solid black;color:black;background-color:#BBBBBB'><center>normal</center></th><td style='color:black;background-color:#dba264;text-align:right;'>0.2770</td><td style='color:black;background-color:#a2db64;text-align:right;'>0.7230</td></tr>\n",
       "<tr><th style='border:1px solid black;color:black;background-color:#BBBBBB'><center>intense</center></th><td style='color:black;background-color:#e39a64;text-align:right;'>0.2150</td><td style='color:black;background-color:#9ae364;text-align:right;'>0.7850</td></tr>\n",
       "</table><br><small><i>the CPT for $Mortality$</i></small></div></td></tr></table>"
      ],
      "text/plain": [
       "<IPython.core.display.HTML object>"
      ]
     },
     "metadata": {},
     "output_type": "display_data"
    }
   ],
   "source": [
    "# We create the causal diagram\n",
    "we = gum.fastBN(\"Walking{casual|normal|intense}->Mortality{dead|alive}\")\n",
    "\n",
    "# We fill the CPTs\n",
    "we.cpt(\"Walking\")[:]=[151/707,379/707,177/707]\n",
    "we.cpt(\"Mortality\")[{\"Walking\":\"casual\"}]=[0.43,0.57]\n",
    "we.cpt(\"Mortality\")[{\"Walking\":\"intense\"}]=[0.215,0.785]\n",
    "we.cpt(\"Mortality\")[{\"Walking\":\"normal\"}]=[0.277,0.723]\n",
    "                  \n",
    "gnb.sideBySide(we,we.cpt(\"Walking\")*we.cpt(\"Mortality\"),we.cpt(\"Walking\"),we.cpt(\"Mortality\"),\n",
    "               captions=[\"the BN\",\"the joint distribution\",\"the marginal for $Walking$\",\"the CPT for $Mortality$\"])"
   ]
  },
  {
   "cell_type": "markdown",
   "metadata": {},
   "source": [
    "> The study showed that after 12 years, 43% of casual walkers died while only 21,5% of intense walkers died."
   ]
  },
  {
   "cell_type": "markdown",
   "metadata": {},
   "source": [
    "## Causal effect of walking on mortality in this model:"
   ]
  },
  {
   "cell_type": "code",
   "execution_count": 3,
   "metadata": {
    "execution": {
     "iopub.execute_input": "2024-01-05T17:49:02.546656Z",
     "iopub.status.busy": "2024-01-05T17:49:02.546338Z",
     "iopub.status.idle": "2024-01-05T17:49:02.788241Z",
     "shell.execute_reply": "2024-01-05T17:49:02.787302Z",
     "shell.execute_reply.started": "2024-01-05T17:49:02.546627Z"
    }
   },
   "outputs": [
    {
     "data": {
      "text/html": [
       "\n",
       "      <style>\n",
       "      .floating-box {\n",
       "      display: inline-block;\n",
       "      margin: 7px;\n",
       "      padding : 3px;\n",
       "      border: 0px solid transparent;  \n",
       "      valign:middle;\n",
       "      background-color: transparent;\n",
       "      }\n",
       "      </style>\n",
       "      <div class=\"floating-box\"><svg xmlns=\"http://www.w3.org/2000/svg\" xmlns:xlink=\"http://www.w3.org/1999/xlink\" width=\"124pt\" height=\"116pt\" viewBox=\"0.00 0.00 124.09 116.00\">\n",
       "<g id=\"graph0\" class=\"graph\" transform=\"scale(1 1) rotate(0) translate(4 112)\">\n",
       "<title>G</title>\n",
       "<!-- Walking -->\n",
       "<g id=\"node1\" class=\"node\">\n",
       "<title>Walking</title>\n",
       "<ellipse fill=\"#404040\" stroke=\"#4a4a4a\" cx=\"58.05\" cy=\"-90\" rx=\"51.21\" ry=\"18\"/>\n",
       "<text text-anchor=\"middle\" x=\"58.05\" y=\"-85.33\" font-family=\"Times,serif\" font-size=\"14.00\" fill=\"white\">Walking</text>\n",
       "</g>\n",
       "<!-- Mortality -->\n",
       "<g id=\"node2\" class=\"node\">\n",
       "<title>Mortality</title>\n",
       "<ellipse fill=\"#404040\" stroke=\"#4a4a4a\" cx=\"58.05\" cy=\"-18\" rx=\"58.05\" ry=\"18\"/>\n",
       "<text text-anchor=\"middle\" x=\"58.05\" y=\"-13.32\" font-family=\"Times,serif\" font-size=\"14.00\" fill=\"white\">Mortality</text>\n",
       "</g>\n",
       "<!-- Walking&#45;&gt;Mortality -->\n",
       "<g id=\"edge1\" class=\"edge\">\n",
       "<title>Walking-&gt;Mortality</title>\n",
       "<path fill=\"none\" stroke=\"#4a4a4a\" d=\"M57.05,-71.7C57.05,-64.41 57.05,-55.73 57.05,-47.54\"/>\n",
       "<path fill=\"none\" stroke=\"#4a4a4a\" d=\"M59.05,-71.7C59.05,-64.41 59.05,-55.73 59.05,-47.54\"/>\n",
       "<polygon fill=\"#4a4a4a\" stroke=\"#4a4a4a\" points=\"61.55,-47.62 58.05,-37.62 54.55,-47.62 61.55,-47.62\"/>\n",
       "</g>\n",
       "</g>\n",
       "</svg><br><center><small><em>Causal Model</em></small></center></div><div class=\"floating-box\">$$\\begin{equation*}P( Mortality \\mid \\text{do}(Walking)) = P\\left(Mortality\\mid Walking\\right)\\end{equation*}$$<br><center><small><em>Explanation : Do-calculus computations</em></small></center></div><div class=\"floating-box\"><table style=\"border:1px solid black;\">\n",
       "<tr><th colspan='1'></th>\n",
       "      <th colspan='2' style='border:1px solid black;color:black;background-color:#808080;'><center>Mortality</center>\n",
       "      </th></tr>\n",
       "<tr><th style='border:1px solid black;color:black;background-color:#808080'><center>Walking</center></th><th style='border:1px solid black;border-bottom-style: double;color:black;background-color:#BBBBBB'>\n",
       "      <center>dead</center></th><th style='border:1px solid black;border-bottom-style: double;color:black;background-color:#BBBBBB'>\n",
       "      <center>alive</center></th></tr>\n",
       "<tr><th style='border:1px solid black;color:black;background-color:#BBBBBB'><center>casual</center></th><td style='color:black;background-color:#c7b664;text-align:right;'>0.4300</td><td style='color:black;background-color:#b6c764;text-align:right;'>0.5700</td></tr>\n",
       "<tr><th style='border:1px solid black;color:black;background-color:#BBBBBB'><center>normal</center></th><td style='color:black;background-color:#dba264;text-align:right;'>0.2770</td><td style='color:black;background-color:#a2db64;text-align:right;'>0.7230</td></tr>\n",
       "<tr><th style='border:1px solid black;color:black;background-color:#BBBBBB'><center>intense</center></th><td style='color:black;background-color:#e39a64;text-align:right;'>0.2150</td><td style='color:black;background-color:#9ae364;text-align:right;'>0.7850</td></tr>\n",
       "</table><br><center><small><em>Impact</em></small></center></div>"
      ],
      "text/plain": [
       "<IPython.core.display.HTML object>"
      ]
     },
     "metadata": {},
     "output_type": "display_data"
    }
   ],
   "source": [
    "weModele = csl.CausalModel(we)\n",
    "cslnb.showCausalImpact(weModele,\"Mortality\",doing=\"Walking\",values={})"
   ]
  },
  {
   "cell_type": "markdown",
   "metadata": {},
   "source": [
    "> Before jumping to any conclusions, we should consider the presence of possible confounders. We need to ask the following question: <b>what characterizes intense walkers from casual walkers? </b><br>\n",
    "Without abandoning the idea of a possible cause-and-effect relationship between walking and mortality, we introduce a third variable, a \"confounder\", a common cause of the two variables that could explain the correlation that exists between them. Our aim is to distinguish between the causal effect of walking on mortality (if there is a cause and effect relationship) the bias induced by this third variable. For this purpose, we need to adjust for it. "
   ]
  },
  {
   "cell_type": "code",
   "execution_count": 4,
   "metadata": {
    "execution": {
     "iopub.execute_input": "2024-01-05T17:49:02.790156Z",
     "iopub.status.busy": "2024-01-05T17:49:02.789666Z",
     "iopub.status.idle": "2024-01-05T17:49:02.869157Z",
     "shell.execute_reply": "2024-01-05T17:49:02.868131Z",
     "shell.execute_reply.started": "2024-01-05T17:49:02.790119Z"
    }
   },
   "outputs": [
    {
     "data": {
      "text/html": [
       "\n",
       "      <style>\n",
       "      .floating-box {\n",
       "      display: inline-block;\n",
       "      margin: 7px;\n",
       "      padding : 3px;\n",
       "      border: 0px solid transparent;  \n",
       "      valign:middle;\n",
       "      background-color: transparent;\n",
       "      }\n",
       "      </style>\n",
       "      <div class=\"floating-box\"><svg xmlns=\"http://www.w3.org/2000/svg\" xmlns:xlink=\"http://www.w3.org/1999/xlink\" width=\"156pt\" height=\"156pt\" viewBox=\"0.00 0.00 156.26 155.60\">\n",
       "<g id=\"graph0\" class=\"graph\" transform=\"scale(1 1) rotate(0) translate(4 151.6)\">\n",
       "<title>G</title>\n",
       "<!-- confounder -->\n",
       "<g id=\"node1\" class=\"node\">\n",
       "<title>confounder</title>\n",
       "<ellipse fill=\"#404040\" stroke=\"#4a4a4a\" cx=\"90.21\" cy=\"-145.8\" rx=\"1.8\" ry=\"1.8\"/>\n",
       "</g>\n",
       "<!-- Walking -->\n",
       "<g id=\"node2\" class=\"node\">\n",
       "<title>Walking</title>\n",
       "<ellipse fill=\"#404040\" stroke=\"#4a4a4a\" cx=\"51.21\" cy=\"-90\" rx=\"51.21\" ry=\"18\"/>\n",
       "<text text-anchor=\"middle\" x=\"51.21\" y=\"-85.33\" font-family=\"Times,serif\" font-size=\"14.00\" fill=\"white\">Walking</text>\n",
       "</g>\n",
       "<!-- confounder&#45;&gt;Walking -->\n",
       "<g id=\"edge2\" class=\"edge\">\n",
       "<title>confounder-&gt;Walking</title>\n",
       "<path fill=\"none\" stroke=\"#4a4a4a\" stroke-dasharray=\"5,2\" d=\"M89.53,-143.87C87.09,-140.5 78.43,-128.55 69.96,-116.86\"/>\n",
       "<polygon fill=\"#4a4a4a\" stroke=\"#4a4a4a\" points=\"72.92,-114.98 64.21,-108.94 67.25,-119.09 72.92,-114.98\"/>\n",
       "</g>\n",
       "<!-- Mortality -->\n",
       "<g id=\"node3\" class=\"node\">\n",
       "<title>Mortality</title>\n",
       "<ellipse fill=\"#404040\" stroke=\"#4a4a4a\" cx=\"90.21\" cy=\"-18\" rx=\"58.05\" ry=\"18\"/>\n",
       "<text text-anchor=\"middle\" x=\"90.21\" y=\"-13.32\" font-family=\"Times,serif\" font-size=\"14.00\" fill=\"white\">Mortality</text>\n",
       "</g>\n",
       "<!-- confounder&#45;&gt;Mortality -->\n",
       "<g id=\"edge3\" class=\"edge\">\n",
       "<title>confounder-&gt;Mortality</title>\n",
       "<path fill=\"none\" stroke=\"#4a4a4a\" stroke-dasharray=\"5,2\" d=\"M91.09,-143.75C94.53,-139.58 107.06,-123.64 111.21,-108 116.64,-87.51 110.7,-64.18 103.76,-46.55\"/>\n",
       "<polygon fill=\"#4a4a4a\" stroke=\"#4a4a4a\" points=\"107.05,-45.33 99.89,-37.52 100.61,-48.09 107.05,-45.33\"/>\n",
       "</g>\n",
       "<!-- Walking&#45;&gt;Mortality -->\n",
       "<g id=\"edge1\" class=\"edge\">\n",
       "<title>Walking-&gt;Mortality</title>\n",
       "<path fill=\"none\" stroke=\"#4a4a4a\" d=\"M59.78,-71.57C64.18,-63.66 69.53,-54.05 74.47,-45.2\"/>\n",
       "<path fill=\"none\" stroke=\"#4a4a4a\" d=\"M61.52,-72.54C65.93,-64.63 71.28,-55.03 76.21,-46.17\"/>\n",
       "<polygon fill=\"#4a4a4a\" stroke=\"#4a4a4a\" points=\"78.31,-47.55 80.12,-37.11 72.19,-44.14 78.31,-47.55\"/>\n",
       "</g>\n",
       "</g>\n",
       "</svg><br><center><small><em>Causal Model</em></small></center></div><div class=\"floating-box\">Hedge Error: G={'Mortality', 'Walking'}, G[S]={'Mortality'}<br><center><small><em>Impossible</em></small></center></div><div class=\"floating-box\">No result<br><center><small><em>Impact</em></small></center></div>"
      ],
      "text/plain": [
       "<IPython.core.display.HTML object>"
      ]
     },
     "metadata": {},
     "output_type": "display_data"
    }
   ],
   "source": [
    "weModele1 = csl.CausalModel(we, [(\"confounder\", [\"Walking\",\"Mortality\"])], True)\n",
    "cslnb.showCausalImpact(weModele1, \"Mortality\", \"Walking\",values={\"Walking\":\"intense\"})"
   ]
  },
  {
   "cell_type": "markdown",
   "metadata": {},
   "source": [
    "## Introducing age as a confounder:"
   ]
  },
  {
   "cell_type": "markdown",
   "metadata": {},
   "source": [
    "> We want to measure the causal effect of walking on mortality, the introduction of a confounding bias occurs when a third variable called \"confounding variable\" influences both walking and mortality. <br>\n",
    "An obvious confounder is <b>age</b>, younger subjects exercise more and have more time to live! (there are other confounders)"
   ]
  },
  {
   "cell_type": "markdown",
   "metadata": {},
   "source": [
    "### Let's use fictitious data:"
   ]
  },
  {
   "cell_type": "code",
   "execution_count": 5,
   "metadata": {
    "execution": {
     "iopub.execute_input": "2024-01-05T17:49:02.871165Z",
     "iopub.status.busy": "2024-01-05T17:49:02.870526Z",
     "iopub.status.idle": "2024-01-05T17:49:02.966845Z",
     "shell.execute_reply": "2024-01-05T17:49:02.966167Z",
     "shell.execute_reply.started": "2024-01-05T17:49:02.871126Z"
    }
   },
   "outputs": [
    {
     "data": {
      "text/html": [
       "<table style=\"border-style: hidden; border-collapse: collapse;\" width=\"100%\"><tr><td style=\"border-top:hidden;border-bottom:hidden;vertical-align:middle;\"><div align=\"center\" style=\"vertical-align:middle;\"><svg xmlns=\"http://www.w3.org/2000/svg\" xmlns:xlink=\"http://www.w3.org/1999/xlink\" width=\"157pt\" height=\"188pt\" viewBox=\"0.00 0.00 157.26 188.00\">\n",
       "<g id=\"graph0\" class=\"graph\" transform=\"scale(1 1) rotate(0) translate(4 184)\">\n",
       "<title>G</title>\n",
       "<!-- Mortality -->\n",
       "<g id=\"node1\" class=\"node\">\n",
       "<title>Mortality</title>\n",
       "<g id=\"a_node1\"><a xlink:title=\"(2) Mortality\">\n",
       "<ellipse fill=\"#404040\" stroke=\"black\" cx=\"58.05\" cy=\"-18\" rx=\"58.05\" ry=\"18\"/>\n",
       "<text text-anchor=\"middle\" x=\"58.05\" y=\"-13.32\" font-family=\"Times,serif\" font-size=\"14.00\" fill=\"white\">Mortality</text>\n",
       "</a>\n",
       "</g>\n",
       "</g>\n",
       "<!-- Walking -->\n",
       "<g id=\"node2\" class=\"node\">\n",
       "<title>Walking</title>\n",
       "<g id=\"a_node2\"><a xlink:title=\"(1) Walking\">\n",
       "<ellipse fill=\"#404040\" stroke=\"black\" cx=\"98.05\" cy=\"-90\" rx=\"51.21\" ry=\"18\"/>\n",
       "<text text-anchor=\"middle\" x=\"98.05\" y=\"-85.33\" font-family=\"Times,serif\" font-size=\"14.00\" fill=\"white\">Walking</text>\n",
       "</a>\n",
       "</g>\n",
       "</g>\n",
       "<!-- Walking&#45;&gt;Mortality -->\n",
       "<g id=\"edge3\" class=\"edge\">\n",
       "<title>Walking-&gt;Mortality</title>\n",
       "<g id=\"a_edge3\"><a xlink:title=\"1 → 2\">\n",
       "<path fill=\"none\" stroke=\"#4a4a4a\" d=\"M88.36,-72.05C83.84,-64.14 78.36,-54.54 73.3,-45.69\"/>\n",
       "<polygon fill=\"#4a4a4a\" stroke=\"#4a4a4a\" points=\"76.39,-44.05 68.39,-37.1 70.31,-47.52 76.39,-44.05\"/>\n",
       "</a>\n",
       "</g>\n",
       "</g>\n",
       "<!-- Age -->\n",
       "<g id=\"node3\" class=\"node\">\n",
       "<title>Age</title>\n",
       "<g id=\"a_node3\"><a xlink:title=\"(0) Age\">\n",
       "<ellipse fill=\"#404040\" stroke=\"black\" cx=\"58.05\" cy=\"-162\" rx=\"30.16\" ry=\"18\"/>\n",
       "<text text-anchor=\"middle\" x=\"58.05\" y=\"-157.32\" font-family=\"Times,serif\" font-size=\"14.00\" fill=\"white\">Age</text>\n",
       "</a>\n",
       "</g>\n",
       "</g>\n",
       "<!-- Age&#45;&gt;Mortality -->\n",
       "<g id=\"edge2\" class=\"edge\">\n",
       "<title>Age-&gt;Mortality</title>\n",
       "<g id=\"a_edge2\"><a xlink:title=\"0 → 2\">\n",
       "<path fill=\"none\" stroke=\"#4a4a4a\" d=\"M49.95,-144.26C45.46,-134.05 40.34,-120.58 38.05,-108 35.18,-92.26 35.18,-87.74 38.05,-72 39.58,-63.58 42.38,-54.77 45.41,-46.79\"/>\n",
       "<polygon fill=\"#4a4a4a\" stroke=\"#4a4a4a\" points=\"48.62,-48.19 49.17,-37.61 42.14,-45.54 48.62,-48.19\"/>\n",
       "</a>\n",
       "</g>\n",
       "</g>\n",
       "<!-- Age&#45;&gt;Walking -->\n",
       "<g id=\"edge1\" class=\"edge\">\n",
       "<title>Age-&gt;Walking</title>\n",
       "<g id=\"a_edge1\"><a xlink:title=\"0 → 1\">\n",
       "<path fill=\"none\" stroke=\"#4a4a4a\" d=\"M67.53,-144.41C72.04,-136.51 77.56,-126.85 82.66,-117.94\"/>\n",
       "<polygon fill=\"#4a4a4a\" stroke=\"#4a4a4a\" points=\"85.68,-119.69 87.61,-109.27 79.61,-116.22 85.68,-119.69\"/>\n",
       "</a>\n",
       "</g>\n",
       "</g>\n",
       "</g>\n",
       "</svg><br><small><i>the BN</i></small></div></td><td style=\"border-top:hidden;border-bottom:hidden;vertical-align:middle;\"><div align=\"center\" style=\"vertical-align:middle;\"><table style=\"border:1px solid black;\">\n",
       "<tr style='border:1px solid black;color:black;background-color:#808080'>\n",
       "      <th colspan='3'><center>Age</center></th></tr>\n",
       "<tr><th style='border:1px solid black;border-bottom-style: double;color:black;background-color:#BBBBBB'>\n",
       "      <center>cat1</center></th><th style='border:1px solid black;border-bottom-style: double;color:black;background-color:#BBBBBB'>\n",
       "      <center>cat2</center></th><th style='border:1px solid black;border-bottom-style: double;color:black;background-color:#BBBBBB'>\n",
       "      <center>cat3</center></th></tr>\n",
       "<tr><td style='color:black;background-color:#fe7f64;text-align:right;'>0.0036</td><td style='color:black;background-color:#a3da64;text-align:right;'>0.7146</td><td style='color:black;background-color:#daa364;text-align:right;'>0.2818</td></tr>\n",
       "</table><br><small><i>the marginal for $Age$</i></small></div></td><td style=\"border-top:hidden;border-bottom:hidden;vertical-align:middle;\"><div align=\"center\" style=\"vertical-align:middle;\"><table style=\"border:1px solid black;\">\n",
       "<tr><th colspan='1'></th>\n",
       "      <th colspan='3' style='border:1px solid black;color:black;background-color:#808080;'><center>Walking</center>\n",
       "      </th></tr>\n",
       "<tr><th style='border:1px solid black;color:black;background-color:#808080'><center>Age</center></th><th style='border:1px solid black;border-bottom-style: double;color:black;background-color:#BBBBBB'>\n",
       "      <center>casual</center></th><th style='border:1px solid black;border-bottom-style: double;color:black;background-color:#BBBBBB'>\n",
       "      <center>normal</center></th><th style='border:1px solid black;border-bottom-style: double;color:black;background-color:#BBBBBB'>\n",
       "      <center>intense</center></th></tr>\n",
       "<tr><th style='border:1px solid black;color:black;background-color:#BBBBBB'><center>cat1</center></th><td style='color:black;background-color:#d6a764;text-align:right;'>0.3185</td><td style='color:black;background-color:#ccb164;text-align:right;'>0.3951</td><td style='color:black;background-color:#daa364;text-align:right;'>0.2864</td></tr>\n",
       "<tr><th style='border:1px solid black;color:black;background-color:#BBBBBB'><center>cat2</center></th><td style='color:black;background-color:#f38a64;text-align:right;'>0.0873</td><td style='color:black;background-color:#bebf64;text-align:right;'>0.5029</td><td style='color:black;background-color:#cab364;text-align:right;'>0.4097</td></tr>\n",
       "<tr><th style='border:1px solid black;color:black;background-color:#BBBBBB'><center>cat3</center></th><td style='color:black;background-color:#c5b864;text-align:right;'>0.4485</td><td style='color:black;background-color:#fa8364;text-align:right;'>0.0341</td><td style='color:black;background-color:#bcc164;text-align:right;'>0.5174</td></tr>\n",
       "</table><br><small><i>the CPT for $Walking$</i></small></div></td><td style=\"border-top:hidden;border-bottom:hidden;vertical-align:middle;\"><div align=\"center\" style=\"vertical-align:middle;\"><table style=\"border:1px solid black;\">\n",
       "<tr><th colspan='2'></th>\n",
       "      <th colspan='2' style='border:1px solid black;color:black;background-color:#808080;'><center>Mortality</center>\n",
       "      </th></tr>\n",
       "<tr><th style='border:1px solid black;color:black;background-color:#808080'><center>Age</center></th><th style='border:1px solid black;color:black;background-color:#808080'><center>Walking</center></th><th style='border:1px solid black;border-bottom-style: double;color:black;background-color:#BBBBBB'>\n",
       "      <center>dead</center></th><th style='border:1px solid black;border-bottom-style: double;color:black;background-color:#BBBBBB'>\n",
       "      <center>alive</center></th></tr>\n",
       "<tr><th style='border:1px solid black;color:black;background-color:#BBBBBB;' rowspan = '3'>\n",
       "            <center>cat1</center></th><th style='border:1px solid black;color:black;background-color:#BBBBBB'><center>casual</center></th><td style='color:black;background-color:#a8d564;text-align:right;'>0.6780</td><td style='color:black;background-color:#d5a864;text-align:right;'>0.3220</td></tr>\n",
       "<tr><th style='border:1px solid black;color:black;background-color:#BBBBBB'><center>normal</center></th><td style='color:black;background-color:#f38a64;text-align:right;'>0.0875</td><td style='color:black;background-color:#8af364;text-align:right;'>0.9125</td></tr>\n",
       "<tr><th style='border:1px solid black;color:black;background-color:#BBBBBB'><center>intense</center></th><td style='color:black;background-color:#8df064;text-align:right;'>0.8834</td><td style='color:black;background-color:#f08d64;text-align:right;'>0.1166</td></tr>\n",
       "<tr><th style='border:1px solid black;color:black;background-color:#BBBBBB;' rowspan = '3'>\n",
       "            <center>cat2</center></th><th style='border:1px solid black;color:black;background-color:#BBBBBB'><center>casual</center></th><td style='color:black;background-color:#a0dd64;text-align:right;'>0.7385</td><td style='color:black;background-color:#dda064;text-align:right;'>0.2615</td></tr>\n",
       "<tr><th style='border:1px solid black;color:black;background-color:#BBBBBB'><center>normal</center></th><td style='color:black;background-color:#9ce164;text-align:right;'>0.7692</td><td style='color:black;background-color:#e19c64;text-align:right;'>0.2308</td></tr>\n",
       "<tr><th style='border:1px solid black;color:black;background-color:#BBBBBB'><center>intense</center></th><td style='color:black;background-color:#e59864;text-align:right;'>0.2017</td><td style='color:black;background-color:#98e564;text-align:right;'>0.7983</td></tr>\n",
       "<tr><th style='border:1px solid black;color:black;background-color:#BBBBBB;' rowspan = '3'>\n",
       "            <center>cat3</center></th><th style='border:1px solid black;color:black;background-color:#BBBBBB'><center>casual</center></th><td style='color:black;background-color:#b0cd64;text-align:right;'>0.6138</td><td style='color:black;background-color:#cdb064;text-align:right;'>0.3862</td></tr>\n",
       "<tr><th style='border:1px solid black;color:black;background-color:#BBBBBB'><center>normal</center></th><td style='color:black;background-color:#d2ab64;text-align:right;'>0.3442</td><td style='color:black;background-color:#abd264;text-align:right;'>0.6558</td></tr>\n",
       "<tr><th style='border:1px solid black;color:black;background-color:#BBBBBB'><center>intense</center></th><td style='color:black;background-color:#95e864;text-align:right;'>0.8243</td><td style='color:black;background-color:#e89564;text-align:right;'>0.1757</td></tr>\n",
       "</table><br><small><i>the CPT for $Mortality$</i></small></div></td></tr></table>"
      ],
      "text/plain": [
       "<IPython.core.display.HTML object>"
      ]
     },
     "metadata": {},
     "output_type": "display_data"
    }
   ],
   "source": [
    "wea = gum.fastBN(\"Age{cat1|cat2|cat3}->Walking{casual|normal|intense}->Mortality{dead|alive}<-Age{cat1|cat2|cat3}\")\n",
    "                 \n",
    "gnb.sideBySide(wea,wea.cpt(\"Age\"),wea.cpt(\"Walking\"),wea.cpt(\"Mortality\"),\n",
    "               captions=[\"the BN\",\"the marginal for $Age$\",\"the CPT for $Walking$\",\"the CPT for $Mortality$\"])"
   ]
  },
  {
   "cell_type": "markdown",
   "metadata": {},
   "source": [
    "## Causal effect of walking on mortality with age as a confounder:"
   ]
  },
  {
   "cell_type": "code",
   "execution_count": 6,
   "metadata": {
    "execution": {
     "iopub.execute_input": "2024-01-05T17:49:02.967879Z",
     "iopub.status.busy": "2024-01-05T17:49:02.967673Z",
     "iopub.status.idle": "2024-01-05T17:49:03.067755Z",
     "shell.execute_reply": "2024-01-05T17:49:03.067150Z",
     "shell.execute_reply.started": "2024-01-05T17:49:02.967860Z"
    }
   },
   "outputs": [
    {
     "data": {
      "text/html": [
       "\n",
       "      <style>\n",
       "      .floating-box {\n",
       "      display: inline-block;\n",
       "      margin: 7px;\n",
       "      padding : 3px;\n",
       "      border: 0px solid transparent;  \n",
       "      valign:middle;\n",
       "      background-color: transparent;\n",
       "      }\n",
       "      </style>\n",
       "      <div class=\"floating-box\"><svg xmlns=\"http://www.w3.org/2000/svg\" xmlns:xlink=\"http://www.w3.org/1999/xlink\" width=\"150pt\" height=\"180pt\" viewBox=\"0.00 0.00 149.61 180.00\">\n",
       "<g id=\"graph0\" class=\"graph\" transform=\"scale(0.957447 0.957447) rotate(0) translate(4 184)\">\n",
       "<title>G</title>\n",
       "<!-- Age -->\n",
       "<g id=\"node1\" class=\"node\">\n",
       "<title>Age</title>\n",
       "<ellipse fill=\"#404040\" stroke=\"#4a4a4a\" cx=\"90.21\" cy=\"-162\" rx=\"30.16\" ry=\"18\"/>\n",
       "<text text-anchor=\"middle\" x=\"90.21\" y=\"-157.32\" font-family=\"Times,serif\" font-size=\"14.00\" fill=\"white\">Age</text>\n",
       "</g>\n",
       "<!-- Walking -->\n",
       "<g id=\"node2\" class=\"node\">\n",
       "<title>Walking</title>\n",
       "<ellipse fill=\"#404040\" stroke=\"#4a4a4a\" cx=\"51.21\" cy=\"-90\" rx=\"51.21\" ry=\"18\"/>\n",
       "<text text-anchor=\"middle\" x=\"51.21\" y=\"-85.33\" font-family=\"Times,serif\" font-size=\"14.00\" fill=\"white\">Walking</text>\n",
       "</g>\n",
       "<!-- Age&#45;&gt;Walking -->\n",
       "<g id=\"edge1\" class=\"edge\">\n",
       "<title>Age-&gt;Walking</title>\n",
       "<path fill=\"none\" stroke=\"#4a4a4a\" d=\"M80.09,-144.9C75.69,-136.99 70.31,-127.34 65.34,-118.42\"/>\n",
       "<path fill=\"none\" stroke=\"#4a4a4a\" d=\"M81.84,-143.92C77.44,-136.02 72.06,-126.37 67.09,-117.45\"/>\n",
       "<polygon fill=\"#4a4a4a\" stroke=\"#4a4a4a\" points=\"69.32,-116.31 61.39,-109.28 63.2,-119.72 69.32,-116.31\"/>\n",
       "</g>\n",
       "<!-- Mortality -->\n",
       "<g id=\"node3\" class=\"node\">\n",
       "<title>Mortality</title>\n",
       "<ellipse fill=\"#404040\" stroke=\"#4a4a4a\" cx=\"90.21\" cy=\"-18\" rx=\"58.05\" ry=\"18\"/>\n",
       "<text text-anchor=\"middle\" x=\"90.21\" y=\"-13.32\" font-family=\"Times,serif\" font-size=\"14.00\" fill=\"white\">Mortality</text>\n",
       "</g>\n",
       "<!-- Age&#45;&gt;Mortality -->\n",
       "<g id=\"edge2\" class=\"edge\">\n",
       "<title>Age-&gt;Mortality</title>\n",
       "<path fill=\"none\" stroke=\"#4a4a4a\" d=\"M97.8,-143.89C102.49,-133.74 107.87,-120.27 110.23,-107.81 113.21,-92.28 113.21,-87.72 110.23,-72.19 108.64,-63.86 105.7,-55.03 102.54,-47.11\"/>\n",
       "<path fill=\"none\" stroke=\"#4a4a4a\" d=\"M99.62,-144.73C104.35,-134.48 109.72,-121.01 112.19,-108.19 115.21,-92.28 115.21,-87.72 112.19,-71.81 110.54,-63.23 107.6,-54.4 104.4,-46.37\"/>\n",
       "<polygon fill=\"#4a4a4a\" stroke=\"#4a4a4a\" points=\"106.69,-45.36 99.52,-37.56 100.26,-48.13 106.69,-45.36\"/>\n",
       "</g>\n",
       "<!-- Walking&#45;&gt;Mortality -->\n",
       "<g id=\"edge3\" class=\"edge\">\n",
       "<title>Walking-&gt;Mortality</title>\n",
       "<path fill=\"none\" stroke=\"#4a4a4a\" d=\"M59.78,-71.57C64.18,-63.66 69.53,-54.05 74.47,-45.2\"/>\n",
       "<path fill=\"none\" stroke=\"#4a4a4a\" d=\"M61.52,-72.54C65.93,-64.63 71.28,-55.03 76.21,-46.17\"/>\n",
       "<polygon fill=\"#4a4a4a\" stroke=\"#4a4a4a\" points=\"78.31,-47.55 80.12,-37.11 72.19,-44.14 78.31,-47.55\"/>\n",
       "</g>\n",
       "</g>\n",
       "</svg><br><center><small><em>Causal Model</em></small></center></div><div class=\"floating-box\">$$\\begin{equation*}P( Mortality \\mid \\text{do}(Walking)) = \\sum_{Age}{P\\left(Mortality\\mid Age,Walking\\right) \\cdot P\\left(Age\\right)}\\end{equation*}$$<br><center><small><em>Explanation : backdoor ['Age'] found.</em></small></center></div><div class=\"floating-box\"><table style=\"border:1px solid black;\">\n",
       "<tr><th colspan='1'></th>\n",
       "      <th colspan='2' style='border:1px solid black;color:black;background-color:#808080;'><center>Mortality</center>\n",
       "      </th></tr>\n",
       "<tr><th style='border:1px solid black;color:black;background-color:#808080'><center>Walking</center></th><th style='border:1px solid black;border-bottom-style: double;color:black;background-color:#BBBBBB'>\n",
       "      <center>dead</center></th><th style='border:1px solid black;border-bottom-style: double;color:black;background-color:#BBBBBB'>\n",
       "      <center>alive</center></th></tr>\n",
       "<tr><th style='border:1px solid black;color:black;background-color:#BBBBBB'><center>casual</center></th><td style='color:black;background-color:#a4d964;text-align:right;'>0.7032</td><td style='color:black;background-color:#d9a464;text-align:right;'>0.2968</td></tr>\n",
       "<tr><th style='border:1px solid black;color:black;background-color:#BBBBBB'><center>normal</center></th><td style='color:black;background-color:#acd164;text-align:right;'>0.6470</td><td style='color:black;background-color:#d1ac64;text-align:right;'>0.3530</td></tr>\n",
       "<tr><th style='border:1px solid black;color:black;background-color:#BBBBBB'><center>intense</center></th><td style='color:black;background-color:#ceaf64;text-align:right;'>0.3797</td><td style='color:black;background-color:#afce64;text-align:right;'>0.6203</td></tr>\n",
       "</table><br><center><small><em>Impact</em></small></center></div>"
      ],
      "text/plain": [
       "<IPython.core.display.HTML object>"
      ]
     },
     "metadata": {},
     "output_type": "display_data"
    }
   ],
   "source": [
    "weModele2 = csl.CausalModel(wea)\n",
    "cslnb.showCausalImpact(weModele2, \"Mortality\", \"Walking\",values={})"
   ]
  },
  {
   "cell_type": "markdown",
   "metadata": {},
   "source": [
    "> We adjusted for Age using the back-door criterion (Age blocks all back-door paths from Walking to Mortality, setting Walking=\n",
    "\"intense\" or conditioning on Walking=\"intense\" has the same effect on Mortality)"
   ]
  },
  {
   "cell_type": "markdown",
   "metadata": {},
   "source": [
    "## Conclusion:"
   ]
  },
  {
   "cell_type": "markdown",
   "metadata": {},
   "source": [
    "> After adjusting for age, we obtain that 40.5% (43% unadjusted) of casual walkers died, whereas only 23.8% (21,5% unadjusted) of intense walkers died. The correlation induced by Age between the two variables is negligible. <br>\n",
    "Even after adjusting for all plausible confounders, after getting rid of all confounding bias, Walking is still associated to Mortality. Unless we missed any other confounders, <b> in which case the remaining uncertainty is proportional to the correlation induced by these hidden variables, </b>we can say that intentional walking prolongs life among the studied population.\n",
    "\n",
    "> <b>In an observational study, adjusting for confounding factors is systematic in order to measure the causal effect of a treatment on an outcome.</b>"
   ]
  },
  {
   "cell_type": "markdown",
   "metadata": {},
   "source": [
    "## Study measurements both unadjusted and age-adjusted: "
   ]
  },
  {
   "cell_type": "markdown",
   "metadata": {},
   "source": [
    "![title](images/WalkingExampleInfo.jpeg)"
   ]
  },
  {
   "cell_type": "code",
   "execution_count": null,
   "metadata": {},
   "outputs": [],
   "source": []
  }
 ],
 "metadata": {
  "kernelspec": {
   "display_name": "Python 3 (ipykernel)",
   "language": "python",
   "name": "python3"
  },
  "language_info": {
   "codemirror_mode": {
    "name": "ipython",
    "version": 3
   },
   "file_extension": ".py",
   "mimetype": "text/x-python",
   "name": "python",
   "nbconvert_exporter": "python",
   "pygments_lexer": "ipython3",
   "version": "3.11.6"
  }
 },
 "nbformat": 4,
 "nbformat_minor": 4
}
