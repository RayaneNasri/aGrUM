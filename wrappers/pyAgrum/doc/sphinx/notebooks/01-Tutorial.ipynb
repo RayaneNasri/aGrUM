{
 "cells": [
  {
   "cell_type": "markdown",
   "metadata": {
    "editable": true,
    "slideshow": {
     "slide_type": ""
    },
    "tags": []
   },
   "source": [
    "# Tutorial pyAgrum"
   ]
  },
  {
   "cell_type": "markdown",
   "metadata": {},
   "source": [
    "| | | |\n",
    "|-|-|-|\n",
    "|[ ![Creative Commons License](images/cc4.png)](http://creativecommons.org/licenses/by-nc/4.0/) |[ ![aGrUM](images/logoAgrum.png)](https://agrum.org) |[ ![interactive online version](images/atbinder.svg)](https://agrum.gitlab.io/extra/agrum_at_binder.html)\n"
   ]
  },
  {
   "cell_type": "code",
   "execution_count": 1,
   "metadata": {
    "ExecuteTime": {
     "end_time": "2019-04-10T13:54:09.784707Z",
     "start_time": "2019-04-10T13:54:09.554056Z"
    },
    "tags": []
   },
   "outputs": [],
   "source": [
    "from pylab import *\n",
    "import matplotlib.pyplot as plt\n",
    "import os"
   ]
  },
  {
   "cell_type": "markdown",
   "metadata": {},
   "source": [
    "## Creating your first Bayesian network with pyAgrum"
   ]
  },
  {
   "cell_type": "markdown",
   "metadata": {},
   "source": [
    "(This example is based on an OpenBayes [closed] website tutorial)"
   ]
  },
  {
   "cell_type": "markdown",
   "metadata": {
    "editable": true,
    "slideshow": {
     "slide_type": ""
    },
    "tags": []
   },
   "source": [
    "<p>A <b>Bayesian network</b> (BN) is composed of <b>random variables</b> (nodes) and their conditional dependencies (arcs) which, together, form a directed acyclic graph (DAG). A <b>conditional probability table</b> (CPT) is associated with each node. It contains the conditional probability distribution of the node given its parents in the DAG:</p>"
   ]
  },
  {
   "cell_type": "markdown",
   "metadata": {
    "editable": true,
    "slideshow": {
     "slide_type": ""
    },
    "tags": []
   },
   "source": [
    "<img src=\"images/waterprinkler.png\" align=\"left\">"
   ]
  },
  {
   "cell_type": "markdown",
   "metadata": {
    "editable": true,
    "slideshow": {
     "slide_type": ""
    },
    "tags": []
   },
   "source": [
    "Such a BN allows to manipulate the joint probability $P(C,S,R,W)$&nbsp;&nbsp;&nbsp;using this decomposition :\n",
    "\n",
    "$$P(C,S,R,W)=\\prod_X P(X | Parents_X) = P(C) \\cdot P(S | C) \\cdot P(R | C) \\cdot P(W | S,R)$$\n",
    "\n",
    "Imagine you want to create your first Bayesian network, say for example the 'Water Sprinkler' network. This is an easy example. All the nodes are Boolean (only 2 possible values). You can proceed as follows.\n"
   ]
  },
  {
   "cell_type": "markdown",
   "metadata": {},
   "source": [
    "### Import the pyAgrum package"
   ]
  },
  {
   "cell_type": "code",
   "execution_count": 2,
   "metadata": {
    "ExecuteTime": {
     "end_time": "2019-04-10T13:54:09.789689Z",
     "start_time": "2019-04-10T13:54:09.787037Z"
    },
    "tags": []
   },
   "outputs": [],
   "source": [
    "import pyAgrum as gum"
   ]
  },
  {
   "cell_type": "markdown",
   "metadata": {},
   "source": [
    "### Create the network topology"
   ]
  },
  {
   "cell_type": "markdown",
   "metadata": {},
   "source": [
    "#### Create the BN"
   ]
  },
  {
   "cell_type": "markdown",
   "metadata": {},
   "source": [
    "The next line creates an empty BN network with a 'name' property."
   ]
  },
  {
   "cell_type": "code",
   "execution_count": 3,
   "metadata": {
    "ExecuteTime": {
     "end_time": "2019-04-10T13:54:09.797641Z",
     "start_time": "2019-04-10T13:54:09.791917Z"
    },
    "tags": []
   },
   "outputs": [
    {
     "name": "stdout",
     "output_type": "stream",
     "text": [
      "BN{nodes: 0, arcs: 0, domainSize: 1, dim: 0, mem: 0o}\n"
     ]
    }
   ],
   "source": [
    "bn=gum.BayesNet('WaterSprinkler')\n",
    "print(bn)"
   ]
  },
  {
   "cell_type": "markdown",
   "metadata": {},
   "source": [
    "#### Create the variables"
   ]
  },
  {
   "cell_type": "markdown",
   "metadata": {},
   "source": [
    "pyAgrum(aGrUM) provides 4 types of variables :\n",
    "\n",
    "- LabelizedVariable\n",
    "- RangeVariable\n",
    "- IntegerVariable\n",
    "- DiscretizedVariable\n",
    "\n",
    "In this tutorial, we will use LabelizedVariable, which is a variable whose domain is a finite set of labels. The next line will create a variable named 'c', with 2 values and described as 'cloudy?', and it will add it to the BN. The value returned is the id of the node in the graphical structure (the DAG). pyAgrum actually distinguishes the random variable (here the labelizedVariable) from its node in the DAG: the latter is identified through a numeric id. Of course, pyAgrum provides functions to get the id of a node given the corresponding variable and conversely."
   ]
  },
  {
   "cell_type": "code",
   "execution_count": 4,
   "metadata": {
    "ExecuteTime": {
     "end_time": "2019-04-10T13:54:09.803808Z",
     "start_time": "2019-04-10T13:54:09.799944Z"
    },
    "tags": []
   },
   "outputs": [
    {
     "name": "stdout",
     "output_type": "stream",
     "text": [
      "0\n"
     ]
    }
   ],
   "source": [
    "id_c=bn.add(gum.LabelizedVariable('c','cloudy ?',2))\n",
    "print(id_c)"
   ]
  },
  {
   "cell_type": "markdown",
   "metadata": {},
   "source": [
    "You can go on adding nodes in the network this way. Let us use python to compact a little bit the code:"
   ]
  },
  {
   "cell_type": "code",
   "execution_count": 5,
   "metadata": {
    "ExecuteTime": {
     "end_time": "2019-04-10T13:54:09.810264Z",
     "start_time": "2019-04-10T13:54:09.805724Z"
    },
    "tags": []
   },
   "outputs": [
    {
     "name": "stdout",
     "output_type": "stream",
     "text": [
      "1 2 3\n",
      "BN{nodes: 4, arcs: 0, domainSize: 16, dim: 4, mem: 64o}\n"
     ]
    }
   ],
   "source": [
    "id_s, id_r, id_w = [ bn.add(name, 2) for name in \"srw\" ] #bn.add(name, 2) === bn.add(gum.LabelizedVariable(name, name, 2))\n",
    "print (id_s,id_r,id_w)\n",
    "print (bn)"
   ]
  },
  {
   "cell_type": "markdown",
   "metadata": {},
   "source": [
    "When you add a variable to a graphical model, this variable is \"owned\" by the model but you still have (read*only) accessors between the 3 related objects : the variable itself, its name and its id in the BN :"
   ]
  },
  {
   "cell_type": "code",
   "execution_count": 6,
   "metadata": {},
   "outputs": [
    {
     "name": "stdout",
     "output_type": "stream",
     "text": [
      "bn.variable(id_s)=(pyAgrum.DiscreteVariable@0x600000e7cc80) s:Range([0,1])\n",
      "bn['s']=(pyAgrum.DiscreteVariable@0x600000e7cc80) s:Range([0,1])\n",
      "id_s=1\n",
      "bn.idFromName('s')=1\n",
      "bn.variable(id_s).name()='s'\n"
     ]
    }
   ],
   "source": [
    "print(f\"{bn.variable(id_s)=}\")\n",
    "print(f\"{bn['s']=}\")\n",
    "print(f\"{id_s=}\")\n",
    "print(f\"{bn.idFromName('s')=}\")\n",
    "print(f\"{bn.variable(id_s).name()=}\")"
   ]
  },
  {
   "cell_type": "markdown",
   "metadata": {},
   "source": [
    "#### Create the arcs"
   ]
  },
  {
   "cell_type": "markdown",
   "metadata": {},
   "source": [
    "Now we have to connect nodes, i.e., to add arcs linking the nodes. Remember that <tt>c</tt> and <tt>s</tt> are ids for nodes:"
   ]
  },
  {
   "cell_type": "code",
   "execution_count": 7,
   "metadata": {
    "ExecuteTime": {
     "end_time": "2019-04-10T13:54:09.814958Z",
     "start_time": "2019-04-10T13:54:09.812186Z"
    },
    "tags": []
   },
   "outputs": [],
   "source": [
    "bn.addArc(\"c\",\"s\")"
   ]
  },
  {
   "cell_type": "markdown",
   "metadata": {},
   "source": [
    "Once again, python can help us :"
   ]
  },
  {
   "cell_type": "code",
   "execution_count": 8,
   "metadata": {
    "ExecuteTime": {
     "end_time": "2019-04-10T13:54:09.820651Z",
     "start_time": "2019-04-10T13:54:09.816864Z"
    },
    "tags": []
   },
   "outputs": [
    {
     "name": "stdout",
     "output_type": "stream",
     "text": [
      "BN{nodes: 4, arcs: 4, domainSize: 16, dim: 9, mem: 144o}\n"
     ]
    }
   ],
   "source": [
    "for link in [(id_c,id_r),(id_s,id_w),(id_r,id_w)]:\n",
    "    bn.addArc(*link)\n",
    "print(bn)"
   ]
  },
  {
   "cell_type": "markdown",
   "metadata": {},
   "source": [
    "pyAgrum provides tools to display <tt>bn</tt> in more user-frendly fashions. <br/>Notably, <tt>pyAgrum.lib</tt> is a set of tools written in pyAgrum to help using aGrUM in python. <tt>pyAgrum.lib.notebook</tt> adds dedicated functions for iPython notebook."
   ]
  },
  {
   "cell_type": "code",
   "execution_count": 9,
   "metadata": {
    "ExecuteTime": {
     "end_time": "2019-04-10T13:54:11.742780Z",
     "start_time": "2019-04-10T13:54:09.823113Z"
    },
    "tags": []
   },
   "outputs": [
    {
     "ename": "NameError",
     "evalue": "name 'getBlackInTheme' is not defined",
     "output_type": "error",
     "traceback": [
      "\u001b[0;31m---------------------------------------------------------------------------\u001b[0m",
      "\u001b[0;31mNameError\u001b[0m                                 Traceback (most recent call last)",
      "File \u001b[0;32m~/.virtualenvs/devAgrum/lib/python3.12/site-packages/IPython/core/formatters.py:347\u001b[0m, in \u001b[0;36mBaseFormatter.__call__\u001b[0;34m(self, obj)\u001b[0m\n\u001b[1;32m    345\u001b[0m     method \u001b[38;5;241m=\u001b[39m get_real_method(obj, \u001b[38;5;28mself\u001b[39m\u001b[38;5;241m.\u001b[39mprint_method)\n\u001b[1;32m    346\u001b[0m     \u001b[38;5;28;01mif\u001b[39;00m method \u001b[38;5;129;01mis\u001b[39;00m \u001b[38;5;129;01mnot\u001b[39;00m \u001b[38;5;28;01mNone\u001b[39;00m:\n\u001b[0;32m--> 347\u001b[0m         \u001b[38;5;28;01mreturn\u001b[39;00m \u001b[43mmethod\u001b[49m\u001b[43m(\u001b[49m\u001b[43m)\u001b[49m\n\u001b[1;32m    348\u001b[0m     \u001b[38;5;28;01mreturn\u001b[39;00m \u001b[38;5;28;01mNone\u001b[39;00m\n\u001b[1;32m    349\u001b[0m \u001b[38;5;28;01melse\u001b[39;00m:\n",
      "File \u001b[0;32m~/.virtualenvs/devAgrum/lib/python3.12/site-packages/pyAgrum/lib/notebook.py:1760\u001b[0m, in \u001b[0;36m<lambda>\u001b[0;34m(self)\u001b[0m\n\u001b[1;32m   1757\u001b[0m gum\u001b[38;5;241m.\u001b[39mconfig\u001b[38;5;241m.\u001b[39mrun_hooks()\n\u001b[1;32m   1759\u001b[0m \u001b[38;5;66;03m# adding _repr_html_ to some pyAgrum classes !\u001b[39;00m\n\u001b[0;32m-> 1760\u001b[0m gum\u001b[38;5;241m.\u001b[39mBayesNet\u001b[38;5;241m.\u001b[39m_repr_html_ \u001b[38;5;241m=\u001b[39m \u001b[38;5;28;01mlambda\u001b[39;00m \u001b[38;5;28mself\u001b[39m: \u001b[43mgetBN\u001b[49m\u001b[43m(\u001b[49m\u001b[38;5;28;43mself\u001b[39;49m\u001b[43m)\u001b[49m\n\u001b[1;32m   1761\u001b[0m gum\u001b[38;5;241m.\u001b[39mBayesNetFragment\u001b[38;5;241m.\u001b[39m_repr_html_ \u001b[38;5;241m=\u001b[39m \u001b[38;5;28;01mlambda\u001b[39;00m \u001b[38;5;28mself\u001b[39m: getBN(\u001b[38;5;28mself\u001b[39m)\n\u001b[1;32m   1762\u001b[0m gum\u001b[38;5;241m.\u001b[39mMarkovRandomField\u001b[38;5;241m.\u001b[39m_repr_html_ \u001b[38;5;241m=\u001b[39m \u001b[38;5;28;01mlambda\u001b[39;00m \u001b[38;5;28mself\u001b[39m: getMRF(\u001b[38;5;28mself\u001b[39m)\n",
      "File \u001b[0;32m~/.virtualenvs/devAgrum/lib/python3.12/site-packages/pyAgrum/deprecated.py:50\u001b[0m, in \u001b[0;36mdeprecated_arg.<locals>.deco.<locals>.wrapper\u001b[0;34m(*args, **kwargs)\u001b[0m\n\u001b[1;32m     45\u001b[0m           warnings\u001b[38;5;241m.\u001b[39mwarn(\n\u001b[1;32m     46\u001b[0m             \u001b[38;5;124mf\u001b[39m\u001b[38;5;124m\"\"\"\u001b[39m\n\u001b[1;32m     47\u001b[0m \u001b[38;5;124m** pyAgrum : argument \u001b[39m\u001b[38;5;124m'\u001b[39m\u001b[38;5;132;01m{\u001b[39;00moldA\u001b[38;5;132;01m}\u001b[39;00m\u001b[38;5;124m'\u001b[39m\u001b[38;5;124m is deprecated since \u001b[39m\u001b[38;5;124m'\u001b[39m\u001b[38;5;132;01m{\u001b[39;00mversion\u001b[38;5;132;01m}\u001b[39;00m\u001b[38;5;124m'\u001b[39m\u001b[38;5;124m, please use \u001b[39m\u001b[38;5;124m'\u001b[39m\u001b[38;5;132;01m{\u001b[39;00mnewA\u001b[38;5;132;01m}\u001b[39;00m\u001b[38;5;124m'\u001b[39m\u001b[38;5;124m is instead.\u001b[39m\n\u001b[1;32m     48\u001b[0m \u001b[38;5;124m\"\"\"\u001b[39m, \u001b[38;5;167;01mDeprecationWarning\u001b[39;00m, stacklevel\u001b[38;5;241m=\u001b[39m\u001b[38;5;241m2\u001b[39m)\n\u001b[1;32m     49\u001b[0m           kwargs[newA] \u001b[38;5;241m=\u001b[39m kwargs\u001b[38;5;241m.\u001b[39mpop(oldA)\n\u001b[0;32m---> 50\u001b[0m       \u001b[38;5;28;01mreturn\u001b[39;00m \u001b[43mf\u001b[49m\u001b[43m(\u001b[49m\u001b[38;5;241;43m*\u001b[39;49m\u001b[43margs\u001b[49m\u001b[43m,\u001b[49m\u001b[43m \u001b[49m\u001b[38;5;241;43m*\u001b[39;49m\u001b[38;5;241;43m*\u001b[39;49m\u001b[43mkwargs\u001b[49m\u001b[43m)\u001b[49m\n",
      "File \u001b[0;32m~/.virtualenvs/devAgrum/lib/python3.12/site-packages/pyAgrum/lib/notebook.py:1006\u001b[0m, in \u001b[0;36mgetBN\u001b[0;34m(bn, size, nodeColor, arcWidth, arcLabel, arcColor, cmapNode, cmapArc)\u001b[0m\n\u001b[1;32m   1003\u001b[0m \u001b[38;5;28;01mif\u001b[39;00m cmapArc \u001b[38;5;129;01mis\u001b[39;00m \u001b[38;5;28;01mNone\u001b[39;00m:\n\u001b[1;32m   1004\u001b[0m   cmapArc \u001b[38;5;241m=\u001b[39m cmapNode\n\u001b[0;32m-> 1006\u001b[0m \u001b[38;5;28;01mreturn\u001b[39;00m \u001b[43mgetGraph\u001b[49m\u001b[43m(\u001b[49m\n\u001b[1;32m   1007\u001b[0m \u001b[43m  \u001b[49m\u001b[43mBN2dot\u001b[49m\u001b[43m(\u001b[49m\u001b[43mbn\u001b[49m\u001b[43m,\u001b[49m\u001b[43m \u001b[49m\u001b[43msize\u001b[49m\u001b[38;5;241;43m=\u001b[39;49m\u001b[43msize\u001b[49m\u001b[43m,\u001b[49m\u001b[43m \u001b[49m\u001b[43mnodeColor\u001b[49m\u001b[38;5;241;43m=\u001b[39;49m\u001b[43mnodeColor\u001b[49m\u001b[43m,\u001b[49m\u001b[43m \u001b[49m\u001b[43marcWidth\u001b[49m\u001b[38;5;241;43m=\u001b[39;49m\u001b[43marcWidth\u001b[49m\u001b[43m,\u001b[49m\u001b[43m \u001b[49m\u001b[43marcLabel\u001b[49m\u001b[38;5;241;43m=\u001b[39;49m\u001b[43marcLabel\u001b[49m\u001b[43m,\u001b[49m\u001b[43m \u001b[49m\u001b[43marcColor\u001b[49m\u001b[38;5;241;43m=\u001b[39;49m\u001b[43marcColor\u001b[49m\u001b[43m,\u001b[49m\n\u001b[1;32m   1008\u001b[0m \u001b[43m         \u001b[49m\u001b[43mcmapNode\u001b[49m\u001b[38;5;241;43m=\u001b[39;49m\u001b[43mcmapNode\u001b[49m\u001b[43m,\u001b[49m\n\u001b[1;32m   1009\u001b[0m \u001b[43m         \u001b[49m\u001b[43mcmapArc\u001b[49m\u001b[38;5;241;43m=\u001b[39;49m\u001b[43mcmapArc\u001b[49m\u001b[43m)\u001b[49m\u001b[43m,\u001b[49m\u001b[43m \u001b[49m\u001b[43msize\u001b[49m\u001b[43m)\u001b[49m\n",
      "File \u001b[0;32m~/.virtualenvs/devAgrum/lib/python3.12/site-packages/pyAgrum/lib/notebook.py:320\u001b[0m, in \u001b[0;36mgetGraph\u001b[0;34m(gr, size)\u001b[0m\n\u001b[1;32m    317\u001b[0m \u001b[38;5;28;01mif\u001b[39;00m size \u001b[38;5;129;01mis\u001b[39;00m \u001b[38;5;28;01mNone\u001b[39;00m:\n\u001b[1;32m    318\u001b[0m   size \u001b[38;5;241m=\u001b[39m gum\u001b[38;5;241m.\u001b[39mconfig[\u001b[38;5;124m\"\u001b[39m\u001b[38;5;124mnotebook\u001b[39m\u001b[38;5;124m\"\u001b[39m, \u001b[38;5;124m\"\u001b[39m\u001b[38;5;124mdefault_graph_size\u001b[39m\u001b[38;5;124m\"\u001b[39m]\n\u001b[0;32m--> 320\u001b[0m \u001b[38;5;28;01mreturn\u001b[39;00m \u001b[43m_reprGraph\u001b[49m\u001b[43m(\u001b[49m\u001b[43mgr\u001b[49m\u001b[43m,\u001b[49m\u001b[43m \u001b[49m\u001b[43msize\u001b[49m\u001b[43m,\u001b[49m\u001b[43m \u001b[49m\u001b[43masString\u001b[49m\u001b[38;5;241;43m=\u001b[39;49m\u001b[38;5;28;43;01mTrue\u001b[39;49;00m\u001b[43m)\u001b[49m\n",
      "File \u001b[0;32m~/.virtualenvs/devAgrum/lib/python3.12/site-packages/pyAgrum/lib/notebook.py:264\u001b[0m, in \u001b[0;36m_reprGraph\u001b[0;34m(gr, size, asString, graph_format)\u001b[0m\n\u001b[1;32m    244\u001b[0m \u001b[38;5;28;01mdef\u001b[39;00m \u001b[38;5;21m_reprGraph\u001b[39m(gr, size, asString, graph_format\u001b[38;5;241m=\u001b[39m\u001b[38;5;28;01mNone\u001b[39;00m):\n\u001b[1;32m    245\u001b[0m \u001b[38;5;250m  \u001b[39m\u001b[38;5;124;03m\"\"\"\u001b[39;00m\n\u001b[1;32m    246\u001b[0m \u001b[38;5;124;03m  repr a pydot graph in a notebook\u001b[39;00m\n\u001b[1;32m    247\u001b[0m \n\u001b[0;32m   (...)\u001b[0m\n\u001b[1;32m    262\u001b[0m \u001b[38;5;124;03m    return the HTML representation as a str or display the graph\u001b[39;00m\n\u001b[1;32m    263\u001b[0m \u001b[38;5;124;03m  \"\"\"\u001b[39;00m\n\u001b[0;32m--> 264\u001b[0m   \u001b[43mgumcols\u001b[49m\u001b[38;5;241;43m.\u001b[39;49m\u001b[43mprepareDot\u001b[49m\u001b[43m(\u001b[49m\u001b[43mgr\u001b[49m\u001b[43m,\u001b[49m\u001b[43m \u001b[49m\u001b[43msize\u001b[49m\u001b[38;5;241;43m=\u001b[39;49m\u001b[43msize\u001b[49m\u001b[43m)\u001b[49m\n\u001b[1;32m    266\u001b[0m   \u001b[38;5;28;01mif\u001b[39;00m graph_format \u001b[38;5;129;01mis\u001b[39;00m \u001b[38;5;28;01mNone\u001b[39;00m:\n\u001b[1;32m    267\u001b[0m     graph_format \u001b[38;5;241m=\u001b[39m gum\u001b[38;5;241m.\u001b[39mconfig[\u001b[38;5;124m\"\u001b[39m\u001b[38;5;124mnotebook\u001b[39m\u001b[38;5;124m\"\u001b[39m, \u001b[38;5;124m\"\u001b[39m\u001b[38;5;124mgraph_format\u001b[39m\u001b[38;5;124m\"\u001b[39m]\n",
      "File \u001b[0;32m~/.virtualenvs/devAgrum/lib/python3.12/site-packages/pyAgrum/lib/_colors.py:205\u001b[0m, in \u001b[0;36mprepareDot\u001b[0;34m(dotgraph, **kwargs)\u001b[0m\n\u001b[1;32m    203\u001b[0m \u001b[38;5;28;01mfor\u001b[39;00m n \u001b[38;5;129;01min\u001b[39;00m dotgraph\u001b[38;5;241m.\u001b[39mget_nodes():\n\u001b[1;32m    204\u001b[0m   \u001b[38;5;28;01mif\u001b[39;00m n\u001b[38;5;241m.\u001b[39mget_color() \u001b[38;5;129;01mis\u001b[39;00m \u001b[38;5;28;01mNone\u001b[39;00m:\n\u001b[0;32m--> 205\u001b[0m     n\u001b[38;5;241m.\u001b[39mset_color(\u001b[43mgetBlackInTheme\u001b[49m())\n\u001b[1;32m    206\u001b[0m   \u001b[38;5;28;01mif\u001b[39;00m n\u001b[38;5;241m.\u001b[39mget_fontcolor() \u001b[38;5;129;01mis\u001b[39;00m \u001b[38;5;28;01mNone\u001b[39;00m:\n\u001b[1;32m    207\u001b[0m     n\u001b[38;5;241m.\u001b[39mset_fontcolor(getBlackInTheme())\n",
      "\u001b[0;31mNameError\u001b[0m: name 'getBlackInTheme' is not defined"
     ]
    },
    {
     "data": {
      "text/plain": [
       "(pyAgrum.BayesNet<double>@0x104012200) BN{nodes: 4, arcs: 4, domainSize: 16, dim: 9, mem: 144o}"
      ]
     },
     "execution_count": 9,
     "metadata": {},
     "output_type": "execute_result"
    }
   ],
   "source": [
    "import pyAgrum.lib.notebook as gnb\n",
    "bn"
   ]
  },
  {
   "cell_type": "markdown",
   "metadata": {},
   "source": [
    "#### Shorcuts with fastBN\n",
    "\n",
    "The functions `fast[model]` encode the structure of the graphical model and the type of the variables in a concise language somehow derived from the `dot` language for graphs (see the doc for the underlying method : [fastPrototype](https://pyagrum.readthedocs.io/en/latest/BNModel.html?highlight=fastPrototype#pyAgrum.BayesNet.fastPrototype))."
   ]
  },
  {
   "cell_type": "code",
   "execution_count": 10,
   "metadata": {
    "tags": []
   },
   "outputs": [
    {
     "ename": "NameError",
     "evalue": "name 'getBlackInTheme' is not defined",
     "output_type": "error",
     "traceback": [
      "\u001b[0;31m---------------------------------------------------------------------------\u001b[0m",
      "\u001b[0;31mNameError\u001b[0m                                 Traceback (most recent call last)",
      "File \u001b[0;32m~/.virtualenvs/devAgrum/lib/python3.12/site-packages/IPython/core/formatters.py:347\u001b[0m, in \u001b[0;36mBaseFormatter.__call__\u001b[0;34m(self, obj)\u001b[0m\n\u001b[1;32m    345\u001b[0m     method \u001b[38;5;241m=\u001b[39m get_real_method(obj, \u001b[38;5;28mself\u001b[39m\u001b[38;5;241m.\u001b[39mprint_method)\n\u001b[1;32m    346\u001b[0m     \u001b[38;5;28;01mif\u001b[39;00m method \u001b[38;5;129;01mis\u001b[39;00m \u001b[38;5;129;01mnot\u001b[39;00m \u001b[38;5;28;01mNone\u001b[39;00m:\n\u001b[0;32m--> 347\u001b[0m         \u001b[38;5;28;01mreturn\u001b[39;00m \u001b[43mmethod\u001b[49m\u001b[43m(\u001b[49m\u001b[43m)\u001b[49m\n\u001b[1;32m    348\u001b[0m     \u001b[38;5;28;01mreturn\u001b[39;00m \u001b[38;5;28;01mNone\u001b[39;00m\n\u001b[1;32m    349\u001b[0m \u001b[38;5;28;01melse\u001b[39;00m:\n",
      "File \u001b[0;32m~/.virtualenvs/devAgrum/lib/python3.12/site-packages/pyAgrum/lib/notebook.py:1760\u001b[0m, in \u001b[0;36m<lambda>\u001b[0;34m(self)\u001b[0m\n\u001b[1;32m   1757\u001b[0m gum\u001b[38;5;241m.\u001b[39mconfig\u001b[38;5;241m.\u001b[39mrun_hooks()\n\u001b[1;32m   1759\u001b[0m \u001b[38;5;66;03m# adding _repr_html_ to some pyAgrum classes !\u001b[39;00m\n\u001b[0;32m-> 1760\u001b[0m gum\u001b[38;5;241m.\u001b[39mBayesNet\u001b[38;5;241m.\u001b[39m_repr_html_ \u001b[38;5;241m=\u001b[39m \u001b[38;5;28;01mlambda\u001b[39;00m \u001b[38;5;28mself\u001b[39m: \u001b[43mgetBN\u001b[49m\u001b[43m(\u001b[49m\u001b[38;5;28;43mself\u001b[39;49m\u001b[43m)\u001b[49m\n\u001b[1;32m   1761\u001b[0m gum\u001b[38;5;241m.\u001b[39mBayesNetFragment\u001b[38;5;241m.\u001b[39m_repr_html_ \u001b[38;5;241m=\u001b[39m \u001b[38;5;28;01mlambda\u001b[39;00m \u001b[38;5;28mself\u001b[39m: getBN(\u001b[38;5;28mself\u001b[39m)\n\u001b[1;32m   1762\u001b[0m gum\u001b[38;5;241m.\u001b[39mMarkovRandomField\u001b[38;5;241m.\u001b[39m_repr_html_ \u001b[38;5;241m=\u001b[39m \u001b[38;5;28;01mlambda\u001b[39;00m \u001b[38;5;28mself\u001b[39m: getMRF(\u001b[38;5;28mself\u001b[39m)\n",
      "File \u001b[0;32m~/.virtualenvs/devAgrum/lib/python3.12/site-packages/pyAgrum/deprecated.py:50\u001b[0m, in \u001b[0;36mdeprecated_arg.<locals>.deco.<locals>.wrapper\u001b[0;34m(*args, **kwargs)\u001b[0m\n\u001b[1;32m     45\u001b[0m           warnings\u001b[38;5;241m.\u001b[39mwarn(\n\u001b[1;32m     46\u001b[0m             \u001b[38;5;124mf\u001b[39m\u001b[38;5;124m\"\"\"\u001b[39m\n\u001b[1;32m     47\u001b[0m \u001b[38;5;124m** pyAgrum : argument \u001b[39m\u001b[38;5;124m'\u001b[39m\u001b[38;5;132;01m{\u001b[39;00moldA\u001b[38;5;132;01m}\u001b[39;00m\u001b[38;5;124m'\u001b[39m\u001b[38;5;124m is deprecated since \u001b[39m\u001b[38;5;124m'\u001b[39m\u001b[38;5;132;01m{\u001b[39;00mversion\u001b[38;5;132;01m}\u001b[39;00m\u001b[38;5;124m'\u001b[39m\u001b[38;5;124m, please use \u001b[39m\u001b[38;5;124m'\u001b[39m\u001b[38;5;132;01m{\u001b[39;00mnewA\u001b[38;5;132;01m}\u001b[39;00m\u001b[38;5;124m'\u001b[39m\u001b[38;5;124m is instead.\u001b[39m\n\u001b[1;32m     48\u001b[0m \u001b[38;5;124m\"\"\"\u001b[39m, \u001b[38;5;167;01mDeprecationWarning\u001b[39;00m, stacklevel\u001b[38;5;241m=\u001b[39m\u001b[38;5;241m2\u001b[39m)\n\u001b[1;32m     49\u001b[0m           kwargs[newA] \u001b[38;5;241m=\u001b[39m kwargs\u001b[38;5;241m.\u001b[39mpop(oldA)\n\u001b[0;32m---> 50\u001b[0m       \u001b[38;5;28;01mreturn\u001b[39;00m \u001b[43mf\u001b[49m\u001b[43m(\u001b[49m\u001b[38;5;241;43m*\u001b[39;49m\u001b[43margs\u001b[49m\u001b[43m,\u001b[49m\u001b[43m \u001b[49m\u001b[38;5;241;43m*\u001b[39;49m\u001b[38;5;241;43m*\u001b[39;49m\u001b[43mkwargs\u001b[49m\u001b[43m)\u001b[49m\n",
      "File \u001b[0;32m~/.virtualenvs/devAgrum/lib/python3.12/site-packages/pyAgrum/lib/notebook.py:1006\u001b[0m, in \u001b[0;36mgetBN\u001b[0;34m(bn, size, nodeColor, arcWidth, arcLabel, arcColor, cmapNode, cmapArc)\u001b[0m\n\u001b[1;32m   1003\u001b[0m \u001b[38;5;28;01mif\u001b[39;00m cmapArc \u001b[38;5;129;01mis\u001b[39;00m \u001b[38;5;28;01mNone\u001b[39;00m:\n\u001b[1;32m   1004\u001b[0m   cmapArc \u001b[38;5;241m=\u001b[39m cmapNode\n\u001b[0;32m-> 1006\u001b[0m \u001b[38;5;28;01mreturn\u001b[39;00m \u001b[43mgetGraph\u001b[49m\u001b[43m(\u001b[49m\n\u001b[1;32m   1007\u001b[0m \u001b[43m  \u001b[49m\u001b[43mBN2dot\u001b[49m\u001b[43m(\u001b[49m\u001b[43mbn\u001b[49m\u001b[43m,\u001b[49m\u001b[43m \u001b[49m\u001b[43msize\u001b[49m\u001b[38;5;241;43m=\u001b[39;49m\u001b[43msize\u001b[49m\u001b[43m,\u001b[49m\u001b[43m \u001b[49m\u001b[43mnodeColor\u001b[49m\u001b[38;5;241;43m=\u001b[39;49m\u001b[43mnodeColor\u001b[49m\u001b[43m,\u001b[49m\u001b[43m \u001b[49m\u001b[43marcWidth\u001b[49m\u001b[38;5;241;43m=\u001b[39;49m\u001b[43marcWidth\u001b[49m\u001b[43m,\u001b[49m\u001b[43m \u001b[49m\u001b[43marcLabel\u001b[49m\u001b[38;5;241;43m=\u001b[39;49m\u001b[43marcLabel\u001b[49m\u001b[43m,\u001b[49m\u001b[43m \u001b[49m\u001b[43marcColor\u001b[49m\u001b[38;5;241;43m=\u001b[39;49m\u001b[43marcColor\u001b[49m\u001b[43m,\u001b[49m\n\u001b[1;32m   1008\u001b[0m \u001b[43m         \u001b[49m\u001b[43mcmapNode\u001b[49m\u001b[38;5;241;43m=\u001b[39;49m\u001b[43mcmapNode\u001b[49m\u001b[43m,\u001b[49m\n\u001b[1;32m   1009\u001b[0m \u001b[43m         \u001b[49m\u001b[43mcmapArc\u001b[49m\u001b[38;5;241;43m=\u001b[39;49m\u001b[43mcmapArc\u001b[49m\u001b[43m)\u001b[49m\u001b[43m,\u001b[49m\u001b[43m \u001b[49m\u001b[43msize\u001b[49m\u001b[43m)\u001b[49m\n",
      "File \u001b[0;32m~/.virtualenvs/devAgrum/lib/python3.12/site-packages/pyAgrum/lib/notebook.py:320\u001b[0m, in \u001b[0;36mgetGraph\u001b[0;34m(gr, size)\u001b[0m\n\u001b[1;32m    317\u001b[0m \u001b[38;5;28;01mif\u001b[39;00m size \u001b[38;5;129;01mis\u001b[39;00m \u001b[38;5;28;01mNone\u001b[39;00m:\n\u001b[1;32m    318\u001b[0m   size \u001b[38;5;241m=\u001b[39m gum\u001b[38;5;241m.\u001b[39mconfig[\u001b[38;5;124m\"\u001b[39m\u001b[38;5;124mnotebook\u001b[39m\u001b[38;5;124m\"\u001b[39m, \u001b[38;5;124m\"\u001b[39m\u001b[38;5;124mdefault_graph_size\u001b[39m\u001b[38;5;124m\"\u001b[39m]\n\u001b[0;32m--> 320\u001b[0m \u001b[38;5;28;01mreturn\u001b[39;00m \u001b[43m_reprGraph\u001b[49m\u001b[43m(\u001b[49m\u001b[43mgr\u001b[49m\u001b[43m,\u001b[49m\u001b[43m \u001b[49m\u001b[43msize\u001b[49m\u001b[43m,\u001b[49m\u001b[43m \u001b[49m\u001b[43masString\u001b[49m\u001b[38;5;241;43m=\u001b[39;49m\u001b[38;5;28;43;01mTrue\u001b[39;49;00m\u001b[43m)\u001b[49m\n",
      "File \u001b[0;32m~/.virtualenvs/devAgrum/lib/python3.12/site-packages/pyAgrum/lib/notebook.py:264\u001b[0m, in \u001b[0;36m_reprGraph\u001b[0;34m(gr, size, asString, graph_format)\u001b[0m\n\u001b[1;32m    244\u001b[0m \u001b[38;5;28;01mdef\u001b[39;00m \u001b[38;5;21m_reprGraph\u001b[39m(gr, size, asString, graph_format\u001b[38;5;241m=\u001b[39m\u001b[38;5;28;01mNone\u001b[39;00m):\n\u001b[1;32m    245\u001b[0m \u001b[38;5;250m  \u001b[39m\u001b[38;5;124;03m\"\"\"\u001b[39;00m\n\u001b[1;32m    246\u001b[0m \u001b[38;5;124;03m  repr a pydot graph in a notebook\u001b[39;00m\n\u001b[1;32m    247\u001b[0m \n\u001b[0;32m   (...)\u001b[0m\n\u001b[1;32m    262\u001b[0m \u001b[38;5;124;03m    return the HTML representation as a str or display the graph\u001b[39;00m\n\u001b[1;32m    263\u001b[0m \u001b[38;5;124;03m  \"\"\"\u001b[39;00m\n\u001b[0;32m--> 264\u001b[0m   \u001b[43mgumcols\u001b[49m\u001b[38;5;241;43m.\u001b[39;49m\u001b[43mprepareDot\u001b[49m\u001b[43m(\u001b[49m\u001b[43mgr\u001b[49m\u001b[43m,\u001b[49m\u001b[43m \u001b[49m\u001b[43msize\u001b[49m\u001b[38;5;241;43m=\u001b[39;49m\u001b[43msize\u001b[49m\u001b[43m)\u001b[49m\n\u001b[1;32m    266\u001b[0m   \u001b[38;5;28;01mif\u001b[39;00m graph_format \u001b[38;5;129;01mis\u001b[39;00m \u001b[38;5;28;01mNone\u001b[39;00m:\n\u001b[1;32m    267\u001b[0m     graph_format \u001b[38;5;241m=\u001b[39m gum\u001b[38;5;241m.\u001b[39mconfig[\u001b[38;5;124m\"\u001b[39m\u001b[38;5;124mnotebook\u001b[39m\u001b[38;5;124m\"\u001b[39m, \u001b[38;5;124m\"\u001b[39m\u001b[38;5;124mgraph_format\u001b[39m\u001b[38;5;124m\"\u001b[39m]\n",
      "File \u001b[0;32m~/.virtualenvs/devAgrum/lib/python3.12/site-packages/pyAgrum/lib/_colors.py:205\u001b[0m, in \u001b[0;36mprepareDot\u001b[0;34m(dotgraph, **kwargs)\u001b[0m\n\u001b[1;32m    203\u001b[0m \u001b[38;5;28;01mfor\u001b[39;00m n \u001b[38;5;129;01min\u001b[39;00m dotgraph\u001b[38;5;241m.\u001b[39mget_nodes():\n\u001b[1;32m    204\u001b[0m   \u001b[38;5;28;01mif\u001b[39;00m n\u001b[38;5;241m.\u001b[39mget_color() \u001b[38;5;129;01mis\u001b[39;00m \u001b[38;5;28;01mNone\u001b[39;00m:\n\u001b[0;32m--> 205\u001b[0m     n\u001b[38;5;241m.\u001b[39mset_color(\u001b[43mgetBlackInTheme\u001b[49m())\n\u001b[1;32m    206\u001b[0m   \u001b[38;5;28;01mif\u001b[39;00m n\u001b[38;5;241m.\u001b[39mget_fontcolor() \u001b[38;5;129;01mis\u001b[39;00m \u001b[38;5;28;01mNone\u001b[39;00m:\n\u001b[1;32m    207\u001b[0m     n\u001b[38;5;241m.\u001b[39mset_fontcolor(getBlackInTheme())\n",
      "\u001b[0;31mNameError\u001b[0m: name 'getBlackInTheme' is not defined"
     ]
    },
    {
     "data": {
      "text/plain": [
       "(pyAgrum.BayesNet<double>@0x1239ea400) BN{nodes: 4, arcs: 4, domainSize: 16, dim: 9, mem: 144o}"
      ]
     },
     "execution_count": 10,
     "metadata": {},
     "output_type": "execute_result"
    }
   ],
   "source": [
    "bn=gum.fastBN(\"c->r->w<-s<-c\")\n",
    "bn"
   ]
  },
  {
   "cell_type": "markdown",
   "metadata": {},
   "source": [
    "### Create the probability tables"
   ]
  },
  {
   "cell_type": "markdown",
   "metadata": {},
   "source": [
    "Once the network topology is constructed, we must initialize the conditional probability tables (CPT) distributions.\n",
    "Each CPT is considered as a Potential object in pyAgrum. There are several ways to fill such an object.<br/>\n",
    "\n",
    "To get the CPT of a variable, use the cpt method of your BayesNet instance with the variable's id as parameter.<br/>\n",
    "\n",
    "Now we are ready to fill in the parameters of each node in our network. There are several ways to add these parameters.<br/>"
   ]
  },
  {
   "cell_type": "markdown",
   "metadata": {},
   "source": [
    "#### Low-level way"
   ]
  },
  {
   "cell_type": "code",
   "execution_count": 11,
   "metadata": {
    "ExecuteTime": {
     "end_time": "2019-04-10T13:54:11.764909Z",
     "start_time": "2019-04-10T13:54:11.752521Z"
    },
    "tags": []
   },
   "outputs": [
    {
     "data": {
      "text/html": [
       "<table style=\"border:1px solid black;\">\n",
       "<tr style='border:1px solid black;color:black;background-color:#808080'>\n",
       "      <th colspan='2'><center>c</center></th></tr>\n",
       "<tr><th style='border:1px solid black;border-bottom-style: double;color:black;background-color:#BBBBBB'>\n",
       "      <center>0</center></th><th style='border:1px solid black;border-bottom-style: double;color:black;background-color:#BBBBBB'>\n",
       "      <center>1</center></th></tr>\n",
       "<tr><td style='color:black;background-color:#cbb264;text-align:right;'>0.4000</td><td style='color:black;background-color:#b2cb64;text-align:right;'>0.6000</td></tr>\n",
       "</table>"
      ],
      "text/plain": [
       "(pyAgrum.Potential<double>@0x600002d40a80) \n",
       "  c                |\n",
       "0        |1        |\n",
       "---------|---------|\n",
       " 0.4000  | 0.6000  |"
      ]
     },
     "execution_count": 11,
     "metadata": {},
     "output_type": "execute_result"
    }
   ],
   "source": [
    "bn.cpt(id_c).fillWith([0.4,0.6]) # remember : c=  0"
   ]
  },
  {
   "cell_type": "markdown",
   "metadata": {},
   "source": [
    "Most of the methods using a node id will also work with name of the random variable."
   ]
  },
  {
   "cell_type": "code",
   "execution_count": 12,
   "metadata": {
    "ExecuteTime": {
     "end_time": "2019-04-10T13:54:11.750426Z",
     "start_time": "2019-04-10T13:54:11.745613Z"
    },
    "tags": []
   },
   "outputs": [
    {
     "data": {
      "text/html": [
       "<table style=\"border:1px solid black;\">\n",
       "<tr style='border:1px solid black;color:black;background-color:#808080'>\n",
       "      <th colspan='2'><center>c</center></th></tr>\n",
       "<tr><th style='border:1px solid black;border-bottom-style: double;color:black;background-color:#BBBBBB'>\n",
       "      <center>0</center></th><th style='border:1px solid black;border-bottom-style: double;color:black;background-color:#BBBBBB'>\n",
       "      <center>1</center></th></tr>\n",
       "<tr><td style='color:black;background-color:#bfbf64;text-align:right;'>0.5000</td><td style='color:black;background-color:#bfbf64;text-align:right;'>0.5000</td></tr>\n",
       "</table>"
      ],
      "text/plain": [
       "(pyAgrum.Potential<double>@0x600002d40a80) \n",
       "  c                |\n",
       "0        |1        |\n",
       "---------|---------|\n",
       " 0.5000  | 0.5000  |"
      ]
     },
     "execution_count": 12,
     "metadata": {},
     "output_type": "execute_result"
    }
   ],
   "source": [
    "bn.cpt(\"c\").fillWith([0.5,0.5])"
   ]
  },
  {
   "cell_type": "markdown",
   "metadata": {},
   "source": [
    "#### Using the order of variables"
   ]
  },
  {
   "cell_type": "code",
   "execution_count": 13,
   "metadata": {
    "ExecuteTime": {
     "end_time": "2019-04-10T13:54:11.771959Z",
     "start_time": "2019-04-10T13:54:11.767130Z"
    },
    "tags": []
   },
   "outputs": [
    {
     "data": {
      "text/plain": [
       "('s', 'c')"
      ]
     },
     "execution_count": 13,
     "metadata": {},
     "output_type": "execute_result"
    }
   ],
   "source": [
    "bn.cpt(\"s\").names"
   ]
  },
  {
   "cell_type": "code",
   "execution_count": 14,
   "metadata": {
    "ExecuteTime": {
     "end_time": "2019-04-10T13:54:11.777338Z",
     "start_time": "2019-04-10T13:54:11.774249Z"
    },
    "tags": []
   },
   "outputs": [],
   "source": [
    "bn.cpt(\"s\")[:]=[ [0.5,0.5],[0.9,0.1]]"
   ]
  },
  {
   "cell_type": "markdown",
   "metadata": {},
   "source": [
    "Then $P(S | C=0)=[0.5,0.5]$ <br/>and $P(S | C=1)=[0.9,0.1]$."
   ]
  },
  {
   "cell_type": "code",
   "execution_count": 15,
   "metadata": {
    "ExecuteTime": {
     "end_time": "2019-04-10T13:54:11.784045Z",
     "start_time": "2019-04-10T13:54:11.779040Z"
    },
    "tags": []
   },
   "outputs": [
    {
     "name": "stdout",
     "output_type": "stream",
     "text": [
      "[0.9 0.1]\n"
     ]
    }
   ],
   "source": [
    "print(bn.cpt(\"s\")[1])"
   ]
  },
  {
   "cell_type": "markdown",
   "metadata": {},
   "source": [
    "The same process can be performed in several steps:"
   ]
  },
  {
   "cell_type": "code",
   "execution_count": 16,
   "metadata": {
    "ExecuteTime": {
     "end_time": "2019-04-10T13:54:11.791399Z",
     "start_time": "2019-04-10T13:54:11.785993Z"
    },
    "tags": []
   },
   "outputs": [],
   "source": [
    "bn.cpt(\"s\")[0,:]=0.5 # equivalent to [0.5,0.5]\n",
    "bn.cpt(\"s\")[1,:]=[0.9,0.1]"
   ]
  },
  {
   "cell_type": "code",
   "execution_count": 17,
   "metadata": {
    "ExecuteTime": {
     "end_time": "2019-04-10T13:54:11.797669Z",
     "start_time": "2019-04-10T13:54:11.793371Z"
    },
    "tags": []
   },
   "outputs": [
    {
     "name": "stdout",
     "output_type": "stream",
     "text": [
      "('w', 'r', 's')\n"
     ]
    },
    {
     "data": {
      "text/html": [
       "<table style=\"border:1px solid black;\">\n",
       "<tr><th colspan='2'></th>\n",
       "      <th colspan='2' style='border:1px solid black;color:black;background-color:#808080;'><center>w</center>\n",
       "      </th></tr>\n",
       "<tr><th style='border:1px solid black;color:black;background-color:#808080'><center>s</center></th><th style='border:1px solid black;color:black;background-color:#808080'><center>r</center></th><th style='border:1px solid black;border-bottom-style: double;color:black;background-color:#BBBBBB'>\n",
       "      <center>0</center></th><th style='border:1px solid black;border-bottom-style: double;color:black;background-color:#BBBBBB'>\n",
       "      <center>1</center></th></tr>\n",
       "<tr><th style='border:1px solid black;color:black;background-color:#BBBBBB;' rowspan = '2'>\n",
       "            <center>0</center></th><th style='border:1px solid black;color:black;background-color:#BBBBBB'><center>0</center></th><td style='color:black;background-color:#dca164;text-align:right;'>0.2695</td><td style='color:black;background-color:#a1dc64;text-align:right;'>0.7305</td></tr>\n",
       "<tr><th style='border:1px solid black;color:black;background-color:#BBBBBB'><center>1</center></th><td style='color:black;background-color:#afce64;text-align:right;'>0.6204</td><td style='color:black;background-color:#ceaf64;text-align:right;'>0.3796</td></tr>\n",
       "<tr><th style='border:1px solid black;color:black;background-color:#BBBBBB;' rowspan = '2'>\n",
       "            <center>1</center></th><th style='border:1px solid black;color:black;background-color:#BBBBBB'><center>0</center></th><td style='color:black;background-color:#c7b664;text-align:right;'>0.4320</td><td style='color:black;background-color:#b6c764;text-align:right;'>0.5680</td></tr>\n",
       "<tr><th style='border:1px solid black;color:black;background-color:#BBBBBB'><center>1</center></th><td style='color:black;background-color:#d0ad64;text-align:right;'>0.3635</td><td style='color:black;background-color:#add064;text-align:right;'>0.6365</td></tr>\n",
       "</table>"
      ],
      "text/plain": [
       "(pyAgrum.Potential<double>@0x600002d40c40) \n",
       "             ||  w                |\n",
       "r     |s     ||0        |1        |\n",
       "------|------||---------|---------|\n",
       "0     |0     || 0.2695  | 0.7305  |\n",
       "1     |0     || 0.6204  | 0.3796  |\n",
       "0     |1     || 0.4320  | 0.5680  |\n",
       "1     |1     || 0.3635  | 0.6365  |"
      ]
     },
     "execution_count": 17,
     "metadata": {},
     "output_type": "execute_result"
    }
   ],
   "source": [
    "print(bn.cpt(\"w\").names)\n",
    "bn.cpt(\"w\")"
   ]
  },
  {
   "cell_type": "code",
   "execution_count": 18,
   "metadata": {
    "ExecuteTime": {
     "end_time": "2019-04-10T13:54:11.808436Z",
     "start_time": "2019-04-10T13:54:11.799444Z"
    },
    "tags": []
   },
   "outputs": [],
   "source": [
    "bn.cpt(\"w\")[0,0,:] = [1, 0] # r=0,s=0\n",
    "bn.cpt(\"w\")[0,1,:] = [0.1, 0.9] # r=0,s=1\n",
    "bn.cpt(\"w\")[1,0,:] = [0.1, 0.9] # r=1,s=0\n",
    "bn.cpt(\"w\")[1,1,:] = [0.01, 0.99] # r=1,s=1"
   ]
  },
  {
   "cell_type": "markdown",
   "metadata": {},
   "source": [
    "#### Using a dictionary"
   ]
  },
  {
   "cell_type": "markdown",
   "metadata": {},
   "source": [
    "This is probably the most convenient way:"
   ]
  },
  {
   "cell_type": "code",
   "execution_count": 19,
   "metadata": {
    "ExecuteTime": {
     "end_time": "2019-04-10T13:54:11.819578Z",
     "start_time": "2019-04-10T13:54:11.810834Z"
    },
    "tags": []
   },
   "outputs": [
    {
     "data": {
      "text/html": [
       "<table style=\"border:1px solid black;\">\n",
       "<tr><th colspan='2'></th>\n",
       "      <th colspan='2' style='border:1px solid black;color:black;background-color:#808080;'><center>w</center>\n",
       "      </th></tr>\n",
       "<tr><th style='border:1px solid black;color:black;background-color:#808080'><center>s</center></th><th style='border:1px solid black;color:black;background-color:#808080'><center>r</center></th><th style='border:1px solid black;border-bottom-style: double;color:black;background-color:#BBBBBB'>\n",
       "      <center>0</center></th><th style='border:1px solid black;border-bottom-style: double;color:black;background-color:#BBBBBB'>\n",
       "      <center>1</center></th></tr>\n",
       "<tr><th style='border:1px solid black;color:black;background-color:#BBBBBB;' rowspan = '2'>\n",
       "            <center>0</center></th><th style='border:1px solid black;color:black;background-color:#BBBBBB'><center>0</center></th><td style='color:black;background-color:#7fff64;text-align:right;'>1.0000</td><td style='color:black;background-color:#ff7f64;text-align:right;'>0.0000</td></tr>\n",
       "<tr><th style='border:1px solid black;color:black;background-color:#BBBBBB'><center>1</center></th><td style='color:black;background-color:#f28b64;text-align:right;'>0.1000</td><td style='color:black;background-color:#8bf264;text-align:right;'>0.9000</td></tr>\n",
       "<tr><th style='border:1px solid black;color:black;background-color:#BBBBBB;' rowspan = '2'>\n",
       "            <center>1</center></th><th style='border:1px solid black;color:black;background-color:#BBBBBB'><center>0</center></th><td style='color:black;background-color:#f28b64;text-align:right;'>0.1000</td><td style='color:black;background-color:#8bf264;text-align:right;'>0.9000</td></tr>\n",
       "<tr><th style='border:1px solid black;color:black;background-color:#BBBBBB'><center>1</center></th><td style='color:black;background-color:#fd8064;text-align:right;'>0.0100</td><td style='color:black;background-color:#80fd64;text-align:right;'>0.9900</td></tr>\n",
       "</table>"
      ],
      "text/plain": [
       "(pyAgrum.Potential<double>@0x600002d40c40) \n",
       "             ||  w                |\n",
       "r     |s     ||0        |1        |\n",
       "------|------||---------|---------|\n",
       "0     |0     || 1.0000  | 0.0000  |\n",
       "1     |0     || 0.1000  | 0.9000  |\n",
       "0     |1     || 0.1000  | 0.9000  |\n",
       "1     |1     || 0.0100  | 0.9900  |"
      ]
     },
     "execution_count": 19,
     "metadata": {},
     "output_type": "execute_result"
    }
   ],
   "source": [
    "bn.cpt(\"w\")[{'r': 0, 's': 0}] = [1, 0]\n",
    "bn.cpt(\"w\")[{'r': 0, 's': 1}] = [0.1, 0.9]\n",
    "bn.cpt(\"w\")[{'r': 1, 's': 0}] = [0.1, 0.9]\n",
    "bn.cpt(\"w\")[{'r': 1, 's': 1}] = [0.01, 0.99]\n",
    "bn.cpt(\"w\")"
   ]
  },
  {
   "cell_type": "markdown",
   "metadata": {},
   "source": [
    "Subscripting with dictionaries is a feature borrowed from OpenBayes. It makes it easier to use and avoids common mistakes that happen when introducing data into the wrong places."
   ]
  },
  {
   "cell_type": "code",
   "execution_count": 20,
   "metadata": {
    "ExecuteTime": {
     "end_time": "2019-04-10T13:54:11.828267Z",
     "start_time": "2019-04-10T13:54:11.821565Z"
    },
    "tags": []
   },
   "outputs": [],
   "source": [
    "bn.cpt(\"r\")[{'c':0}]=[0.8,0.2]\n",
    "bn.cpt(\"r\")[{'c':1}]=[0.2,0.8]"
   ]
  },
  {
   "cell_type": "markdown",
   "metadata": {},
   "source": [
    "### Input/output"
   ]
  },
  {
   "cell_type": "markdown",
   "metadata": {},
   "source": [
    "Now our BN is complete. It can be saved in different format :"
   ]
  },
  {
   "cell_type": "code",
   "execution_count": 21,
   "metadata": {
    "ExecuteTime": {
     "end_time": "2019-04-10T13:54:11.834376Z",
     "start_time": "2019-04-10T13:54:11.830374Z"
    },
    "tags": []
   },
   "outputs": [
    {
     "name": "stdout",
     "output_type": "stream",
     "text": [
      "bif|dsl|net|bifxml|o3prm|uai|xdsl|pkl\n"
     ]
    }
   ],
   "source": [
    "print(gum.availableBNExts())"
   ]
  },
  {
   "cell_type": "markdown",
   "metadata": {},
   "source": [
    "We can save a BN using BIF format"
   ]
  },
  {
   "cell_type": "code",
   "execution_count": 22,
   "metadata": {
    "ExecuteTime": {
     "end_time": "2019-04-10T13:54:11.840993Z",
     "start_time": "2019-04-10T13:54:11.836666Z"
    },
    "tags": []
   },
   "outputs": [],
   "source": [
    "gum.saveBN(bn,\"out/WaterSprinkler.bif\")"
   ]
  },
  {
   "cell_type": "code",
   "execution_count": 23,
   "metadata": {
    "ExecuteTime": {
     "end_time": "2019-04-10T13:54:11.848906Z",
     "start_time": "2019-04-10T13:54:11.843559Z"
    },
    "tags": []
   },
   "outputs": [
    {
     "name": "stdout",
     "output_type": "stream",
     "text": [
      "network \"unnamedBN\" {\n",
      "// written by aGrUM 1.12.1.9\n",
      "}\n",
      "\n",
      "variable c {\n",
      "   type discrete[2] {0, 1};\n",
      "}\n",
      "\n",
      "variable r {\n",
      "   type discrete[2] {0, 1};\n",
      "}\n",
      "\n",
      "variable w {\n",
      "   type discrete[2] {0, 1};\n",
      "}\n",
      "\n",
      "variable s {\n",
      "   type discrete[2] {0, 1};\n",
      "}\n",
      "\n",
      "probability (c) {\n",
      "   table 0.5 0.5;\n",
      "}\n",
      "probability (r | c) {\n",
      "   (0) 0.8 0.2;\n",
      "   (1) 0.2 0.8;\n",
      "}\n",
      "probability (w | r, s) {\n",
      "   (0, 0) 1 0;\n",
      "   (1, 0) 0.1 0.9;\n",
      "   (0, 1) 0.1 0.9;\n",
      "   (1, 1) 0.01 0.99;\n",
      "}\n",
      "probability (s | c) {\n",
      "   (0) 0.5 0.5;\n",
      "   (1) 0.9 0.1;\n",
      "}\n",
      "\n",
      "\n"
     ]
    }
   ],
   "source": [
    "with open(\"out/WaterSprinkler.bif\",\"r\") as out:\n",
    "    print(out.read())"
   ]
  },
  {
   "cell_type": "code",
   "execution_count": 24,
   "metadata": {
    "ExecuteTime": {
     "end_time": "2019-04-10T13:54:11.856015Z",
     "start_time": "2019-04-10T13:54:11.851617Z"
    },
    "tags": []
   },
   "outputs": [],
   "source": [
    "bn2=gum.loadBN(\"out/WaterSprinkler.bif\")"
   ]
  },
  {
   "cell_type": "markdown",
   "metadata": {},
   "source": [
    "We can also save and load it in other formats"
   ]
  },
  {
   "cell_type": "code",
   "execution_count": 25,
   "metadata": {
    "ExecuteTime": {
     "end_time": "2019-04-10T13:54:11.865408Z",
     "start_time": "2019-04-10T13:54:11.860408Z"
    },
    "tags": []
   },
   "outputs": [
    {
     "name": "stdout",
     "output_type": "stream",
     "text": [
      "\n",
      "net {\n",
      "  name = unnamedBN;\n",
      "  software = \"aGrUM 1.12.1.9\";\n",
      "  node_size = (50 50);\n",
      "}\n",
      "\n",
      "node c {\n",
      "   states = (0 1 );\n",
      "   label = \"c\";\n",
      "   ID = \"c\";\n",
      "}\n",
      "\n",
      "node r {\n",
      "   states = (0 1 );\n",
      "   label = \"r\";\n",
      "   ID = \"r\";\n",
      "}\n",
      "\n",
      "node w {\n",
      "   states = (0 1 );\n",
      "   label = \"w\";\n",
      "   ID = \"w\";\n",
      "}\n",
      "\n",
      "node s {\n",
      "   states = (0 1 );\n",
      "   label = \"s\";\n",
      "   ID = \"s\";\n",
      "}\n",
      "\n",
      "potential (c) {\n",
      "   data = (  0.5 0.5);\n",
      "}\n",
      "\n",
      "potential ( r | c   ) {\n",
      "   data = \n",
      "   ((   0.8   0.2)   % c=0   \n",
      "   (   0.2   0.8));   % c=1   \n",
      "}\n",
      "\n",
      "potential ( w | r   s   ) {\n",
      "   data = \n",
      "   (((   1   0)   % s=0   r=0   \n",
      "   (   0.1   0.9))   % s=1   r=0   \n",
      "   ((   0.1   0.9)   % s=0   r=1   \n",
      "   (   0.01   0.99)));   % s=1   r=1   \n",
      "}\n",
      "\n",
      "potential ( s | c   ) {\n",
      "   data = \n",
      "   ((   0.5   0.5)   % c=0   \n",
      "   (   0.9   0.1));   % c=1   \n",
      "}\n",
      "\n",
      "\n",
      "\n"
     ]
    }
   ],
   "source": [
    "gum.saveBN(bn,\"out/WaterSprinkler.net\")\n",
    "with open(\"out/WaterSprinkler.net\",\"r\") as out:\n",
    "    print(out.read())\n",
    "bn3=gum.loadBN(\"out/WaterSprinkler.net\")"
   ]
  },
  {
   "cell_type": "markdown",
   "metadata": {},
   "source": [
    "## Inference in Bayesian networks"
   ]
  },
  {
   "cell_type": "markdown",
   "metadata": {},
   "source": [
    "We have to choose an inference engine to perform calculations for us. Many inference engines are currently available in pyAgrum:\n",
    "\n",
    "- **Exact inference**, particularly :\n",
    "    - `gum.LazyPropagation` : an exact inference method that transforms the Bayesian network into a hypergraph called a join tree or a junction tree. This tree is constructed in order to optimize inference computations.\n",
    "    - others: `gum.VariableElimination`, `gum.ShaferShenoy`, ...\n",
    "        \n",
    "- **Samplig Inference** : approximate inference engine using sampling algorithms to generate a sequence of samples from the joint probability distribution (`gum.GibbSSampling`, etc.)\n",
    "- **Loopy Belief Propagation** : approximate inference engine using inference algorithm exact for trees but not for DAG"
   ]
  },
  {
   "cell_type": "code",
   "execution_count": 26,
   "metadata": {
    "ExecuteTime": {
     "end_time": "2019-04-10T13:54:11.870402Z",
     "start_time": "2019-04-10T13:54:11.867488Z"
    },
    "tags": []
   },
   "outputs": [],
   "source": [
    "ie=gum.LazyPropagation(bn)"
   ]
  },
  {
   "cell_type": "markdown",
   "metadata": {},
   "source": [
    "### Inference without evidence"
   ]
  },
  {
   "cell_type": "code",
   "execution_count": 27,
   "metadata": {
    "ExecuteTime": {
     "end_time": "2019-04-10T13:54:11.879135Z",
     "start_time": "2019-04-10T13:54:11.872172Z"
    },
    "tags": []
   },
   "outputs": [
    {
     "name": "stdout",
     "output_type": "stream",
     "text": [
      "\n",
      "  w                |\n",
      "0        |1        |\n",
      "---------|---------|\n",
      " 0.3529  | 0.6471  |\n",
      "\n"
     ]
    }
   ],
   "source": [
    "ie.makeInference()\n",
    "print (ie.posterior(\"w\"))"
   ]
  },
  {
   "cell_type": "code",
   "execution_count": 28,
   "metadata": {
    "ExecuteTime": {
     "end_time": "2019-04-10T13:54:11.879135Z",
     "start_time": "2019-04-10T13:54:11.872172Z"
    },
    "tags": []
   },
   "outputs": [
    {
     "data": {
      "text/html": [
       "In our BN, $P(W)=$[0.3529 0.6471]"
      ],
      "text/plain": [
       "<IPython.core.display.HTML object>"
      ]
     },
     "execution_count": 28,
     "metadata": {},
     "output_type": "execute_result"
    }
   ],
   "source": [
    "from IPython.core.display import HTML\n",
    "HTML(f\"In our BN, $P(W)=${ie.posterior('w')[:]}\")"
   ]
  },
  {
   "cell_type": "markdown",
   "metadata": {},
   "source": [
    "With notebooks, it can be viewed as an HTML table"
   ]
  },
  {
   "cell_type": "code",
   "execution_count": 29,
   "metadata": {
    "ExecuteTime": {
     "end_time": "2019-04-10T13:54:11.885076Z",
     "start_time": "2019-04-10T13:54:11.880963Z"
    },
    "tags": []
   },
   "outputs": [
    {
     "data": {
      "text/plain": [
       "array([0.3529, 0.6471])"
      ]
     },
     "execution_count": 29,
     "metadata": {},
     "output_type": "execute_result"
    }
   ],
   "source": [
    "ie.posterior(\"w\")[:]"
   ]
  },
  {
   "cell_type": "markdown",
   "metadata": {},
   "source": [
    "### Inference with evidence"
   ]
  },
  {
   "cell_type": "markdown",
   "metadata": {},
   "source": [
    "Suppose now that you know that the sprinkler is on and that it is not cloudy, and you wonder what Is the probability of the grass being wet, i.e., you are interested in distribution $P(W|S=1,C=0)$. <br/>The new knowledge you have (sprinkler is on and it is not cloudy) is called evidence. Evidence is entered using a dictionary. When you know precisely the value taken by a random variable, the evidence is called a hard evidence. This is the case, for instance, when I know for sure that the sprinkler is on. In this case, the knowledge is entered in the dictionary as 'variable name':label"
   ]
  },
  {
   "cell_type": "code",
   "execution_count": 30,
   "metadata": {
    "ExecuteTime": {
     "end_time": "2019-04-10T13:54:11.891817Z",
     "start_time": "2019-04-10T13:54:11.886930Z"
    },
    "tags": []
   },
   "outputs": [
    {
     "data": {
      "text/html": [
       "<table style=\"border:1px solid black;\">\n",
       "<tr style='border:1px solid black;color:black;background-color:#808080'>\n",
       "      <th colspan='2'><center>w</center></th></tr>\n",
       "<tr><th style='border:1px solid black;border-bottom-style: double;color:black;background-color:#BBBBBB'>\n",
       "      <center>0</center></th><th style='border:1px solid black;border-bottom-style: double;color:black;background-color:#BBBBBB'>\n",
       "      <center>1</center></th></tr>\n",
       "<tr><td style='color:black;background-color:#96e764;text-align:right;'>0.8200</td><td style='color:black;background-color:#e79664;text-align:right;'>0.1800</td></tr>\n",
       "</table>"
      ],
      "text/plain": [
       "(pyAgrum.Potential<double>@0x600002d42060) \n",
       "  w                |\n",
       "0        |1        |\n",
       "---------|---------|\n",
       " 0.8200  | 0.1800  |"
      ]
     },
     "execution_count": 30,
     "metadata": {},
     "output_type": "execute_result"
    }
   ],
   "source": [
    "ie.setEvidence({'s':0, 'c': 0})\n",
    "ie.makeInference()\n",
    "ie.posterior(\"w\")"
   ]
  },
  {
   "cell_type": "markdown",
   "metadata": {},
   "source": [
    "When you have incomplete knowledge about the value of a random variable, this is called a soft evidence. In this case, this evidence is entered as the belief you have over the possible values that the random variable can take, in other words, as <em>P(evidence|true value of the variable)</em>. Imagine for instance that you think that if the sprinkler is off, you have only 50% chances of knowing it, but if it is on, you are sure to know it. Then, your belief about the state of the sprinkler is [0.5, 1] and you should enter this knowledge as shown below. Of course, hard evidence are special cases of soft evidence in which the beliefs over all the values of the random variable but one are equal to 0."
   ]
  },
  {
   "cell_type": "code",
   "execution_count": 31,
   "metadata": {
    "ExecuteTime": {
     "end_time": "2019-04-10T13:54:11.898387Z",
     "start_time": "2019-04-10T13:54:11.893498Z"
    },
    "tags": []
   },
   "outputs": [
    {
     "data": {
      "text/html": [
       "<table style=\"border:1px solid black;\">\n",
       "<tr style='border:1px solid black;color:black;background-color:#808080'>\n",
       "      <th colspan='2'><center>w</center></th></tr>\n",
       "<tr><th style='border:1px solid black;border-bottom-style: double;color:black;background-color:#BBBBBB'>\n",
       "      <center>0</center></th><th style='border:1px solid black;border-bottom-style: double;color:black;background-color:#BBBBBB'>\n",
       "      <center>1</center></th></tr>\n",
       "<tr><td style='color:black;background-color:#d5a864;text-align:right;'>0.3280</td><td style='color:black;background-color:#a8d564;text-align:right;'>0.6720</td></tr>\n",
       "</table>"
      ],
      "text/plain": [
       "(pyAgrum.Potential<double>@0x600002d29480) \n",
       "  w                |\n",
       "0        |1        |\n",
       "---------|---------|\n",
       " 0.3280  | 0.6720  |"
      ]
     },
     "execution_count": 31,
     "metadata": {},
     "output_type": "execute_result"
    }
   ],
   "source": [
    "ie.setEvidence({'s': [0.5, 1], 'c': [1, 0]})\n",
    "ie.makeInference()\n",
    "ie.posterior(\"w\") # using gnb's feature"
   ]
  },
  {
   "cell_type": "markdown",
   "metadata": {},
   "source": [
    "the pyAgrum.lib.notebook utility proposes certain functions to graphically show distributions."
   ]
  },
  {
   "cell_type": "code",
   "execution_count": 32,
   "metadata": {
    "ExecuteTime": {
     "end_time": "2019-04-10T13:54:12.118088Z",
     "start_time": "2019-04-10T13:54:11.900106Z"
    },
    "tags": []
   },
   "outputs": [
    {
     "data": {
      "image/svg+xml": [
       "<?xml version=\"1.0\" encoding=\"utf-8\" standalone=\"no\"?>\n",
       "<!DOCTYPE svg PUBLIC \"-//W3C//DTD SVG 1.1//EN\"\n",
       "  \"http://www.w3.org/Graphics/SVG/1.1/DTD/svg11.dtd\">\n",
       "<svg xmlns:xlink=\"http://www.w3.org/1999/xlink\" width=\"139.3625pt\" height=\"74.1755pt\" viewBox=\"0 0 139.3625 74.1755\" xmlns=\"http://www.w3.org/2000/svg\" version=\"1.1\">\n",
       " <metadata>\n",
       "  <rdf:RDF xmlns:dc=\"http://purl.org/dc/elements/1.1/\" xmlns:cc=\"http://creativecommons.org/ns#\" xmlns:rdf=\"http://www.w3.org/1999/02/22-rdf-syntax-ns#\">\n",
       "   <cc:Work>\n",
       "    <dc:type rdf:resource=\"http://purl.org/dc/dcmitype/StillImage\"/>\n",
       "    <dc:date>2024-03-06T16:48:07.792811</dc:date>\n",
       "    <dc:format>image/svg+xml</dc:format>\n",
       "    <dc:creator>\n",
       "     <cc:Agent>\n",
       "      <dc:title>Matplotlib v3.8.3, https://matplotlib.org/</dc:title>\n",
       "     </cc:Agent>\n",
       "    </dc:creator>\n",
       "   </cc:Work>\n",
       "  </rdf:RDF>\n",
       " </metadata>\n",
       " <defs>\n",
       "  <style type=\"text/css\">*{stroke-linejoin: round; stroke-linecap: butt}</style>\n",
       " </defs>\n",
       " <g id=\"figure_1\">\n",
       "  <g id=\"patch_1\">\n",
       "   <path d=\"M 0 74.1755 \n",
       "L 139.3625 74.1755 \n",
       "L 139.3625 0 \n",
       "L 0 0 \n",
       "z\n",
       "\" style=\"fill: #e0e0e0\"/>\n",
       "  </g>\n",
       "  <g id=\"axes_1\">\n",
       "   <g id=\"patch_2\">\n",
       "    <path d=\"M 20.5625 63.4755 \n",
       "L 132.1625 63.4755 \n",
       "L 132.1625 35.7555 \n",
       "L 20.5625 35.7555 \n",
       "z\n",
       "\" style=\"fill: #ffffff\"/>\n",
       "   </g>\n",
       "   <g id=\"patch_3\">\n",
       "    <path d=\"M 20.5625 63.4755 \n",
       "L 95.5577 63.4755 \n",
       "L 95.5577 51.1555 \n",
       "L 20.5625 51.1555 \n",
       "z\n",
       "\" clip-path=\"url(#pbdeb110bb9)\" style=\"fill: #8fbc8f\"/>\n",
       "   </g>\n",
       "   <g id=\"patch_4\">\n",
       "    <path d=\"M 20.5625 48.0755 \n",
       "L 57.1673 48.0755 \n",
       "L 57.1673 35.7555 \n",
       "L 20.5625 35.7555 \n",
       "z\n",
       "\" clip-path=\"url(#pbdeb110bb9)\" style=\"fill: #8fbc8f\"/>\n",
       "   </g>\n",
       "   <g id=\"matplotlib.axis_1\">\n",
       "    <g id=\"xtick_1\">\n",
       "     <g id=\"line2d_1\">\n",
       "      <path d=\"M 20.5625 63.4755 \n",
       "L 20.5625 35.7555 \n",
       "\" clip-path=\"url(#pbdeb110bb9)\" style=\"fill: none; stroke: #b0b0b0; stroke-width: 0.8; stroke-linecap: square\"/>\n",
       "     </g>\n",
       "     <g id=\"line2d_2\">\n",
       "      <defs>\n",
       "       <path id=\"md920468710\" d=\"M 0 0 \n",
       "L 0 3.5 \n",
       "\" style=\"stroke: #000000; stroke-width: 0.8\"/>\n",
       "      </defs>\n",
       "      <g>\n",
       "       <use xlink:href=\"#md920468710\" x=\"20.5625\" y=\"63.4755\" style=\"stroke: #000000; stroke-width: 0.8\"/>\n",
       "      </g>\n",
       "     </g>\n",
       "    </g>\n",
       "    <g id=\"xtick_2\">\n",
       "     <g id=\"line2d_3\">\n",
       "      <path d=\"M 76.3625 63.4755 \n",
       "L 76.3625 35.7555 \n",
       "\" clip-path=\"url(#pbdeb110bb9)\" style=\"fill: none; stroke: #b0b0b0; stroke-width: 0.8; stroke-linecap: square\"/>\n",
       "     </g>\n",
       "     <g id=\"line2d_4\">\n",
       "      <g>\n",
       "       <use xlink:href=\"#md920468710\" x=\"76.3625\" y=\"63.4755\" style=\"stroke: #000000; stroke-width: 0.8\"/>\n",
       "      </g>\n",
       "     </g>\n",
       "    </g>\n",
       "    <g id=\"xtick_3\">\n",
       "     <g id=\"line2d_5\">\n",
       "      <path d=\"M 132.1625 63.4755 \n",
       "L 132.1625 35.7555 \n",
       "\" clip-path=\"url(#pbdeb110bb9)\" style=\"fill: none; stroke: #b0b0b0; stroke-width: 0.8; stroke-linecap: square\"/>\n",
       "     </g>\n",
       "     <g id=\"line2d_6\">\n",
       "      <g>\n",
       "       <use xlink:href=\"#md920468710\" x=\"132.1625\" y=\"63.4755\" style=\"stroke: #000000; stroke-width: 0.8\"/>\n",
       "      </g>\n",
       "     </g>\n",
       "    </g>\n",
       "   </g>\n",
       "   <g id=\"matplotlib.axis_2\">\n",
       "    <g id=\"ytick_1\">\n",
       "     <g id=\"line2d_7\">\n",
       "      <defs>\n",
       "       <path id=\"mb2af69641a\" d=\"M 0 0 \n",
       "L -3.5 0 \n",
       "\" style=\"stroke: #000000; stroke-width: 0.8\"/>\n",
       "      </defs>\n",
       "      <g>\n",
       "       <use xlink:href=\"#mb2af69641a\" x=\"20.5625\" y=\"57.3155\" style=\"stroke: #000000; stroke-width: 0.8\"/>\n",
       "      </g>\n",
       "     </g>\n",
       "     <g id=\"text_1\">\n",
       "      <!-- 1 -->\n",
       "      <g transform=\"translate(7.2 61.114719) scale(0.1 -0.1)\">\n",
       "       <defs>\n",
       "        <path id=\"DejaVuSans-31\" d=\"M 794 531 \n",
       "L 1825 531 \n",
       "L 1825 4091 \n",
       "L 703 3866 \n",
       "L 703 4441 \n",
       "L 1819 4666 \n",
       "L 2450 4666 \n",
       "L 2450 531 \n",
       "L 3481 531 \n",
       "L 3481 0 \n",
       "L 794 0 \n",
       "L 794 531 \n",
       "z\n",
       "\" transform=\"scale(0.015625)\"/>\n",
       "       </defs>\n",
       "       <use xlink:href=\"#DejaVuSans-31\"/>\n",
       "      </g>\n",
       "     </g>\n",
       "    </g>\n",
       "    <g id=\"ytick_2\">\n",
       "     <g id=\"line2d_8\">\n",
       "      <g>\n",
       "       <use xlink:href=\"#mb2af69641a\" x=\"20.5625\" y=\"41.9155\" style=\"stroke: #000000; stroke-width: 0.8\"/>\n",
       "      </g>\n",
       "     </g>\n",
       "     <g id=\"text_2\">\n",
       "      <!-- 0 -->\n",
       "      <g transform=\"translate(7.2 45.714719) scale(0.1 -0.1)\">\n",
       "       <defs>\n",
       "        <path id=\"DejaVuSans-30\" d=\"M 2034 4250 \n",
       "Q 1547 4250 1301 3770 \n",
       "Q 1056 3291 1056 2328 \n",
       "Q 1056 1369 1301 889 \n",
       "Q 1547 409 2034 409 \n",
       "Q 2525 409 2770 889 \n",
       "Q 3016 1369 3016 2328 \n",
       "Q 3016 3291 2770 3770 \n",
       "Q 2525 4250 2034 4250 \n",
       "z\n",
       "M 2034 4750 \n",
       "Q 2819 4750 3233 4129 \n",
       "Q 3647 3509 3647 2328 \n",
       "Q 3647 1150 3233 529 \n",
       "Q 2819 -91 2034 -91 \n",
       "Q 1250 -91 836 529 \n",
       "Q 422 1150 422 2328 \n",
       "Q 422 3509 836 4129 \n",
       "Q 1250 4750 2034 4750 \n",
       "z\n",
       "\" transform=\"scale(0.015625)\"/>\n",
       "       </defs>\n",
       "       <use xlink:href=\"#DejaVuSans-30\"/>\n",
       "      </g>\n",
       "     </g>\n",
       "    </g>\n",
       "   </g>\n",
       "   <g id=\"patch_5\">\n",
       "    <path d=\"M 20.5625 63.4755 \n",
       "L 20.5625 35.7555 \n",
       "\" style=\"fill: none; stroke: #000000; stroke-width: 0.8; stroke-linejoin: miter; stroke-linecap: square\"/>\n",
       "   </g>\n",
       "   <g id=\"patch_6\">\n",
       "    <path d=\"M 132.1625 63.4755 \n",
       "L 132.1625 35.7555 \n",
       "\" style=\"fill: none; stroke: #000000; stroke-width: 0.8; stroke-linejoin: miter; stroke-linecap: square\"/>\n",
       "   </g>\n",
       "   <g id=\"patch_7\">\n",
       "    <path d=\"M 20.5625 63.4755 \n",
       "L 132.1625 63.4755 \n",
       "\" style=\"fill: none; stroke: #000000; stroke-width: 0.8; stroke-linejoin: miter; stroke-linecap: square\"/>\n",
       "   </g>\n",
       "   <g id=\"patch_8\">\n",
       "    <path d=\"M 20.5625 35.7555 \n",
       "L 132.1625 35.7555 \n",
       "\" style=\"fill: none; stroke: #000000; stroke-width: 0.8; stroke-linejoin: miter; stroke-linecap: square\"/>\n",
       "   </g>\n",
       "   <g id=\"text_3\">\n",
       "    <!-- 67.20% -->\n",
       "    <g transform=\"translate(94.032812 61.395812) scale(0.1 -0.1)\">\n",
       "     <defs>\n",
       "      <path id=\"DejaVuSans-36\" d=\"M 2113 2584 \n",
       "Q 1688 2584 1439 2293 \n",
       "Q 1191 2003 1191 1497 \n",
       "Q 1191 994 1439 701 \n",
       "Q 1688 409 2113 409 \n",
       "Q 2538 409 2786 701 \n",
       "Q 3034 994 3034 1497 \n",
       "Q 3034 2003 2786 2293 \n",
       "Q 2538 2584 2113 2584 \n",
       "z\n",
       "M 3366 4563 \n",
       "L 3366 3988 \n",
       "Q 3128 4100 2886 4159 \n",
       "Q 2644 4219 2406 4219 \n",
       "Q 1781 4219 1451 3797 \n",
       "Q 1122 3375 1075 2522 \n",
       "Q 1259 2794 1537 2939 \n",
       "Q 1816 3084 2150 3084 \n",
       "Q 2853 3084 3261 2657 \n",
       "Q 3669 2231 3669 1497 \n",
       "Q 3669 778 3244 343 \n",
       "Q 2819 -91 2113 -91 \n",
       "Q 1303 -91 875 529 \n",
       "Q 447 1150 447 2328 \n",
       "Q 447 3434 972 4092 \n",
       "Q 1497 4750 2381 4750 \n",
       "Q 2619 4750 2861 4703 \n",
       "Q 3103 4656 3366 4563 \n",
       "z\n",
       "\" transform=\"scale(0.015625)\"/>\n",
       "      <path id=\"DejaVuSans-37\" d=\"M 525 4666 \n",
       "L 3525 4666 \n",
       "L 3525 4397 \n",
       "L 1831 0 \n",
       "L 1172 0 \n",
       "L 2766 4134 \n",
       "L 525 4134 \n",
       "L 525 4666 \n",
       "z\n",
       "\" transform=\"scale(0.015625)\"/>\n",
       "      <path id=\"DejaVuSans-2e\" d=\"M 684 794 \n",
       "L 1344 794 \n",
       "L 1344 0 \n",
       "L 684 0 \n",
       "L 684 794 \n",
       "z\n",
       "\" transform=\"scale(0.015625)\"/>\n",
       "      <path id=\"DejaVuSans-32\" d=\"M 1228 531 \n",
       "L 3431 531 \n",
       "L 3431 0 \n",
       "L 469 0 \n",
       "L 469 531 \n",
       "Q 828 903 1448 1529 \n",
       "Q 2069 2156 2228 2338 \n",
       "Q 2531 2678 2651 2914 \n",
       "Q 2772 3150 2772 3378 \n",
       "Q 2772 3750 2511 3984 \n",
       "Q 2250 4219 1831 4219 \n",
       "Q 1534 4219 1204 4116 \n",
       "Q 875 4013 500 3803 \n",
       "L 500 4441 \n",
       "Q 881 4594 1212 4672 \n",
       "Q 1544 4750 1819 4750 \n",
       "Q 2544 4750 2975 4387 \n",
       "Q 3406 4025 3406 3419 \n",
       "Q 3406 3131 3298 2873 \n",
       "Q 3191 2616 2906 2266 \n",
       "Q 2828 2175 2409 1742 \n",
       "Q 1991 1309 1228 531 \n",
       "z\n",
       "\" transform=\"scale(0.015625)\"/>\n",
       "      <path id=\"DejaVuSans-25\" d=\"M 4653 2053 \n",
       "Q 4381 2053 4226 1822 \n",
       "Q 4072 1591 4072 1178 \n",
       "Q 4072 772 4226 539 \n",
       "Q 4381 306 4653 306 \n",
       "Q 4919 306 5073 539 \n",
       "Q 5228 772 5228 1178 \n",
       "Q 5228 1588 5073 1820 \n",
       "Q 4919 2053 4653 2053 \n",
       "z\n",
       "M 4653 2450 \n",
       "Q 5147 2450 5437 2106 \n",
       "Q 5728 1763 5728 1178 \n",
       "Q 5728 594 5436 251 \n",
       "Q 5144 -91 4653 -91 \n",
       "Q 4153 -91 3862 251 \n",
       "Q 3572 594 3572 1178 \n",
       "Q 3572 1766 3864 2108 \n",
       "Q 4156 2450 4653 2450 \n",
       "z\n",
       "M 1428 4353 \n",
       "Q 1159 4353 1004 4120 \n",
       "Q 850 3888 850 3481 \n",
       "Q 850 3069 1003 2837 \n",
       "Q 1156 2606 1428 2606 \n",
       "Q 1700 2606 1854 2837 \n",
       "Q 2009 3069 2009 3481 \n",
       "Q 2009 3884 1853 4118 \n",
       "Q 1697 4353 1428 4353 \n",
       "z\n",
       "M 4250 4750 \n",
       "L 4750 4750 \n",
       "L 1831 -91 \n",
       "L 1331 -91 \n",
       "L 4250 4750 \n",
       "z\n",
       "M 1428 4750 \n",
       "Q 1922 4750 2215 4408 \n",
       "Q 2509 4066 2509 3481 \n",
       "Q 2509 2891 2217 2550 \n",
       "Q 1925 2209 1428 2209 \n",
       "Q 931 2209 642 2551 \n",
       "Q 353 2894 353 3481 \n",
       "Q 353 4063 643 4406 \n",
       "Q 934 4750 1428 4750 \n",
       "z\n",
       "\" transform=\"scale(0.015625)\"/>\n",
       "     </defs>\n",
       "     <use xlink:href=\"#DejaVuSans-36\"/>\n",
       "     <use xlink:href=\"#DejaVuSans-37\" x=\"63.623047\"/>\n",
       "     <use xlink:href=\"#DejaVuSans-2e\" x=\"127.246094\"/>\n",
       "     <use xlink:href=\"#DejaVuSans-32\" x=\"159.033203\"/>\n",
       "     <use xlink:href=\"#DejaVuSans-30\" x=\"222.65625\"/>\n",
       "     <use xlink:href=\"#DejaVuSans-25\" x=\"286.279297\"/>\n",
       "    </g>\n",
       "   </g>\n",
       "   <g id=\"text_4\">\n",
       "    <!-- 32.80% -->\n",
       "    <g transform=\"translate(94.032812 45.995812) scale(0.1 -0.1)\">\n",
       "     <defs>\n",
       "      <path id=\"DejaVuSans-33\" d=\"M 2597 2516 \n",
       "Q 3050 2419 3304 2112 \n",
       "Q 3559 1806 3559 1356 \n",
       "Q 3559 666 3084 287 \n",
       "Q 2609 -91 1734 -91 \n",
       "Q 1441 -91 1130 -33 \n",
       "Q 819 25 488 141 \n",
       "L 488 750 \n",
       "Q 750 597 1062 519 \n",
       "Q 1375 441 1716 441 \n",
       "Q 2309 441 2620 675 \n",
       "Q 2931 909 2931 1356 \n",
       "Q 2931 1769 2642 2001 \n",
       "Q 2353 2234 1838 2234 \n",
       "L 1294 2234 \n",
       "L 1294 2753 \n",
       "L 1863 2753 \n",
       "Q 2328 2753 2575 2939 \n",
       "Q 2822 3125 2822 3475 \n",
       "Q 2822 3834 2567 4026 \n",
       "Q 2313 4219 1838 4219 \n",
       "Q 1578 4219 1281 4162 \n",
       "Q 984 4106 628 3988 \n",
       "L 628 4550 \n",
       "Q 988 4650 1302 4700 \n",
       "Q 1616 4750 1894 4750 \n",
       "Q 2613 4750 3031 4423 \n",
       "Q 3450 4097 3450 3541 \n",
       "Q 3450 3153 3228 2886 \n",
       "Q 3006 2619 2597 2516 \n",
       "z\n",
       "\" transform=\"scale(0.015625)\"/>\n",
       "      <path id=\"DejaVuSans-38\" d=\"M 2034 2216 \n",
       "Q 1584 2216 1326 1975 \n",
       "Q 1069 1734 1069 1313 \n",
       "Q 1069 891 1326 650 \n",
       "Q 1584 409 2034 409 \n",
       "Q 2484 409 2743 651 \n",
       "Q 3003 894 3003 1313 \n",
       "Q 3003 1734 2745 1975 \n",
       "Q 2488 2216 2034 2216 \n",
       "z\n",
       "M 1403 2484 \n",
       "Q 997 2584 770 2862 \n",
       "Q 544 3141 544 3541 \n",
       "Q 544 4100 942 4425 \n",
       "Q 1341 4750 2034 4750 \n",
       "Q 2731 4750 3128 4425 \n",
       "Q 3525 4100 3525 3541 \n",
       "Q 3525 3141 3298 2862 \n",
       "Q 3072 2584 2669 2484 \n",
       "Q 3125 2378 3379 2068 \n",
       "Q 3634 1759 3634 1313 \n",
       "Q 3634 634 3220 271 \n",
       "Q 2806 -91 2034 -91 \n",
       "Q 1263 -91 848 271 \n",
       "Q 434 634 434 1313 \n",
       "Q 434 1759 690 2068 \n",
       "Q 947 2378 1403 2484 \n",
       "z\n",
       "M 1172 3481 \n",
       "Q 1172 3119 1398 2916 \n",
       "Q 1625 2713 2034 2713 \n",
       "Q 2441 2713 2670 2916 \n",
       "Q 2900 3119 2900 3481 \n",
       "Q 2900 3844 2670 4047 \n",
       "Q 2441 4250 2034 4250 \n",
       "Q 1625 4250 1398 4047 \n",
       "Q 1172 3844 1172 3481 \n",
       "z\n",
       "\" transform=\"scale(0.015625)\"/>\n",
       "     </defs>\n",
       "     <use xlink:href=\"#DejaVuSans-33\"/>\n",
       "     <use xlink:href=\"#DejaVuSans-32\" x=\"63.623047\"/>\n",
       "     <use xlink:href=\"#DejaVuSans-2e\" x=\"127.246094\"/>\n",
       "     <use xlink:href=\"#DejaVuSans-38\" x=\"159.033203\"/>\n",
       "     <use xlink:href=\"#DejaVuSans-30\" x=\"222.65625\"/>\n",
       "     <use xlink:href=\"#DejaVuSans-25\" x=\"286.279297\"/>\n",
       "    </g>\n",
       "   </g>\n",
       "   <g id=\"text_5\">\n",
       "    <!-- w -->\n",
       "    <g transform=\"translate(71.455625 16.318125) scale(0.12 -0.12)\">\n",
       "     <defs>\n",
       "      <path id=\"DejaVuSans-77\" d=\"M 269 3500 \n",
       "L 844 3500 \n",
       "L 1563 769 \n",
       "L 2278 3500 \n",
       "L 2956 3500 \n",
       "L 3675 769 \n",
       "L 4391 3500 \n",
       "L 4966 3500 \n",
       "L 4050 0 \n",
       "L 3372 0 \n",
       "L 2619 2869 \n",
       "L 1863 0 \n",
       "L 1184 0 \n",
       "L 269 3500 \n",
       "z\n",
       "\" transform=\"scale(0.015625)\"/>\n",
       "     </defs>\n",
       "     <use xlink:href=\"#DejaVuSans-77\"/>\n",
       "    </g>\n",
       "    <!-- $\\mu=0.67$; $\\sigma=0.47$ -->\n",
       "    <g transform=\"translate(23.3225 29.7555) scale(0.12 -0.12)\">\n",
       "     <defs>\n",
       "      <path id=\"DejaVuSans-Oblique-3bc\" d=\"M -84 -1331 \n",
       "L 856 3500 \n",
       "L 1434 3500 \n",
       "L 1009 1322 \n",
       "Q 997 1256 987 1175 \n",
       "Q 978 1094 978 1013 \n",
       "Q 978 722 1161 565 \n",
       "Q 1344 409 1684 409 \n",
       "Q 2147 409 2431 671 \n",
       "Q 2716 934 2816 1459 \n",
       "L 3213 3500 \n",
       "L 3788 3500 \n",
       "L 3266 809 \n",
       "Q 3253 750 3248 706 \n",
       "Q 3244 663 3244 628 \n",
       "Q 3244 531 3283 486 \n",
       "Q 3322 441 3406 441 \n",
       "Q 3438 441 3492 456 \n",
       "Q 3547 472 3647 513 \n",
       "L 3559 50 \n",
       "Q 3422 -19 3297 -55 \n",
       "Q 3172 -91 3053 -91 \n",
       "Q 2847 -91 2730 40 \n",
       "Q 2613 172 2613 403 \n",
       "Q 2438 153 2195 31 \n",
       "Q 1953 -91 1625 -91 \n",
       "Q 1334 -91 1117 43 \n",
       "Q 900 178 831 397 \n",
       "L 494 -1331 \n",
       "L -84 -1331 \n",
       "z\n",
       "\" transform=\"scale(0.015625)\"/>\n",
       "      <path id=\"DejaVuSans-3d\" d=\"M 678 2906 \n",
       "L 4684 2906 \n",
       "L 4684 2381 \n",
       "L 678 2381 \n",
       "L 678 2906 \n",
       "z\n",
       "M 678 1631 \n",
       "L 4684 1631 \n",
       "L 4684 1100 \n",
       "L 678 1100 \n",
       "L 678 1631 \n",
       "z\n",
       "\" transform=\"scale(0.015625)\"/>\n",
       "      <path id=\"DejaVuSans-3b\" d=\"M 750 3309 \n",
       "L 1409 3309 \n",
       "L 1409 2516 \n",
       "L 750 2516 \n",
       "L 750 3309 \n",
       "z\n",
       "M 750 794 \n",
       "L 1409 794 \n",
       "L 1409 256 \n",
       "L 897 -744 \n",
       "L 494 -744 \n",
       "L 750 256 \n",
       "L 750 794 \n",
       "z\n",
       "\" transform=\"scale(0.015625)\"/>\n",
       "      <path id=\"DejaVuSans-20\" transform=\"scale(0.015625)\"/>\n",
       "      <path id=\"DejaVuSans-Oblique-3c3\" d=\"M 2219 3044 \n",
       "Q 1744 3044 1422 2700 \n",
       "Q 1081 2341 969 1747 \n",
       "Q 844 1119 1044 756 \n",
       "Q 1241 397 1706 397 \n",
       "Q 2166 397 2503 759 \n",
       "Q 2844 1122 2966 1747 \n",
       "Q 3075 2319 2881 2700 \n",
       "Q 2700 3044 2219 3044 \n",
       "z\n",
       "M 2309 3503 \n",
       "L 4219 3500 \n",
       "L 4106 2925 \n",
       "L 3463 2925 \n",
       "Q 3706 2438 3575 1747 \n",
       "Q 3406 888 2884 400 \n",
       "Q 2359 -91 1609 -91 \n",
       "Q 856 -91 525 400 \n",
       "Q 194 888 363 1747 \n",
       "Q 528 2609 1050 3097 \n",
       "Q 1484 3503 2309 3503 \n",
       "z\n",
       "\" transform=\"scale(0.015625)\"/>\n",
       "      <path id=\"DejaVuSans-34\" d=\"M 2419 4116 \n",
       "L 825 1625 \n",
       "L 2419 1625 \n",
       "L 2419 4116 \n",
       "z\n",
       "M 2253 4666 \n",
       "L 3047 4666 \n",
       "L 3047 1625 \n",
       "L 3713 1625 \n",
       "L 3713 1100 \n",
       "L 3047 1100 \n",
       "L 3047 0 \n",
       "L 2419 0 \n",
       "L 2419 1100 \n",
       "L 313 1100 \n",
       "L 313 1709 \n",
       "L 2253 4666 \n",
       "z\n",
       "\" transform=\"scale(0.015625)\"/>\n",
       "     </defs>\n",
       "     <use xlink:href=\"#DejaVuSans-Oblique-3bc\" transform=\"translate(0 0.78125)\"/>\n",
       "     <use xlink:href=\"#DejaVuSans-3d\" transform=\"translate(83.105469 0.78125)\"/>\n",
       "     <use xlink:href=\"#DejaVuSans-30\" transform=\"translate(186.376953 0.78125)\"/>\n",
       "     <use xlink:href=\"#DejaVuSans-2e\" transform=\"translate(250 0.78125)\"/>\n",
       "     <use xlink:href=\"#DejaVuSans-36\" transform=\"translate(281.787109 0.78125)\"/>\n",
       "     <use xlink:href=\"#DejaVuSans-37\" transform=\"translate(345.410156 0.78125)\"/>\n",
       "     <use xlink:href=\"#DejaVuSans-3b\" transform=\"translate(409.033203 0.78125)\"/>\n",
       "     <use xlink:href=\"#DejaVuSans-20\" transform=\"translate(442.724609 0.78125)\"/>\n",
       "     <use xlink:href=\"#DejaVuSans-Oblique-3c3\" transform=\"translate(474.511719 0.78125)\"/>\n",
       "     <use xlink:href=\"#DejaVuSans-3d\" transform=\"translate(557.373047 0.78125)\"/>\n",
       "     <use xlink:href=\"#DejaVuSans-30\" transform=\"translate(660.644531 0.78125)\"/>\n",
       "     <use xlink:href=\"#DejaVuSans-2e\" transform=\"translate(724.267578 0.78125)\"/>\n",
       "     <use xlink:href=\"#DejaVuSans-34\" transform=\"translate(756.054688 0.78125)\"/>\n",
       "     <use xlink:href=\"#DejaVuSans-37\" transform=\"translate(819.677734 0.78125)\"/>\n",
       "    </g>\n",
       "   </g>\n",
       "  </g>\n",
       " </g>\n",
       " <defs>\n",
       "  <clipPath id=\"pbdeb110bb9\">\n",
       "   <rect x=\"20.5625\" y=\"35.7555\" width=\"111.6\" height=\"27.72\"/>\n",
       "  </clipPath>\n",
       " </defs>\n",
       "</svg>\n"
      ],
      "text/plain": [
       "<Figure size 200x50 with 1 Axes>"
      ]
     },
     "metadata": {},
     "output_type": "display_data"
    }
   ],
   "source": [
    "gnb.showProba(ie.posterior(\"w\"))"
   ]
  },
  {
   "cell_type": "code",
   "execution_count": 33,
   "metadata": {
    "ExecuteTime": {
     "end_time": "2019-04-10T13:54:12.215387Z",
     "start_time": "2019-04-10T13:54:12.120348Z"
    },
    "tags": []
   },
   "outputs": [
    {
     "data": {
      "image/svg+xml": [
       "<?xml version=\"1.0\" encoding=\"utf-8\" standalone=\"no\"?>\n",
       "<!DOCTYPE svg PUBLIC \"-//W3C//DTD SVG 1.1//EN\"\n",
       "  \"http://www.w3.org/Graphics/SVG/1.1/DTD/svg11.dtd\">\n",
       "<svg xmlns:xlink=\"http://www.w3.org/1999/xlink\" width=\"139.3625pt\" height=\"74.1755pt\" viewBox=\"0 0 139.3625 74.1755\" xmlns=\"http://www.w3.org/2000/svg\" version=\"1.1\">\n",
       " <metadata>\n",
       "  <rdf:RDF xmlns:dc=\"http://purl.org/dc/elements/1.1/\" xmlns:cc=\"http://creativecommons.org/ns#\" xmlns:rdf=\"http://www.w3.org/1999/02/22-rdf-syntax-ns#\">\n",
       "   <cc:Work>\n",
       "    <dc:type rdf:resource=\"http://purl.org/dc/dcmitype/StillImage\"/>\n",
       "    <dc:date>2024-03-06T16:48:07.876783</dc:date>\n",
       "    <dc:format>image/svg+xml</dc:format>\n",
       "    <dc:creator>\n",
       "     <cc:Agent>\n",
       "      <dc:title>Matplotlib v3.8.3, https://matplotlib.org/</dc:title>\n",
       "     </cc:Agent>\n",
       "    </dc:creator>\n",
       "   </cc:Work>\n",
       "  </rdf:RDF>\n",
       " </metadata>\n",
       " <defs>\n",
       "  <style type=\"text/css\">*{stroke-linejoin: round; stroke-linecap: butt}</style>\n",
       " </defs>\n",
       " <g id=\"figure_1\">\n",
       "  <g id=\"patch_1\">\n",
       "   <path d=\"M 0 74.1755 \n",
       "L 139.3625 74.1755 \n",
       "L 139.3625 0 \n",
       "L 0 0 \n",
       "z\n",
       "\" style=\"fill: #e0e0e0\"/>\n",
       "  </g>\n",
       "  <g id=\"axes_1\">\n",
       "   <g id=\"patch_2\">\n",
       "    <path d=\"M 20.5625 63.4755 \n",
       "L 132.1625 63.4755 \n",
       "L 132.1625 35.7555 \n",
       "L 20.5625 35.7555 \n",
       "z\n",
       "\" style=\"fill: #ffffff\"/>\n",
       "   </g>\n",
       "   <g id=\"patch_3\">\n",
       "    <path d=\"M 20.5625 63.4755 \n",
       "L 123.0113 63.4755 \n",
       "L 123.0113 51.1555 \n",
       "L 20.5625 51.1555 \n",
       "z\n",
       "\" clip-path=\"url(#p5f44172fc0)\" style=\"fill: #8fbc8f\"/>\n",
       "   </g>\n",
       "   <g id=\"patch_4\">\n",
       "    <path d=\"M 20.5625 48.0755 \n",
       "L 29.7137 48.0755 \n",
       "L 29.7137 35.7555 \n",
       "L 20.5625 35.7555 \n",
       "z\n",
       "\" clip-path=\"url(#p5f44172fc0)\" style=\"fill: #8fbc8f\"/>\n",
       "   </g>\n",
       "   <g id=\"matplotlib.axis_1\">\n",
       "    <g id=\"xtick_1\">\n",
       "     <g id=\"line2d_1\">\n",
       "      <path d=\"M 20.5625 63.4755 \n",
       "L 20.5625 35.7555 \n",
       "\" clip-path=\"url(#p5f44172fc0)\" style=\"fill: none; stroke: #b0b0b0; stroke-width: 0.8; stroke-linecap: square\"/>\n",
       "     </g>\n",
       "     <g id=\"line2d_2\">\n",
       "      <defs>\n",
       "       <path id=\"m6e6693a213\" d=\"M 0 0 \n",
       "L 0 3.5 \n",
       "\" style=\"stroke: #000000; stroke-width: 0.8\"/>\n",
       "      </defs>\n",
       "      <g>\n",
       "       <use xlink:href=\"#m6e6693a213\" x=\"20.5625\" y=\"63.4755\" style=\"stroke: #000000; stroke-width: 0.8\"/>\n",
       "      </g>\n",
       "     </g>\n",
       "    </g>\n",
       "    <g id=\"xtick_2\">\n",
       "     <g id=\"line2d_3\">\n",
       "      <path d=\"M 76.3625 63.4755 \n",
       "L 76.3625 35.7555 \n",
       "\" clip-path=\"url(#p5f44172fc0)\" style=\"fill: none; stroke: #b0b0b0; stroke-width: 0.8; stroke-linecap: square\"/>\n",
       "     </g>\n",
       "     <g id=\"line2d_4\">\n",
       "      <g>\n",
       "       <use xlink:href=\"#m6e6693a213\" x=\"76.3625\" y=\"63.4755\" style=\"stroke: #000000; stroke-width: 0.8\"/>\n",
       "      </g>\n",
       "     </g>\n",
       "    </g>\n",
       "    <g id=\"xtick_3\">\n",
       "     <g id=\"line2d_5\">\n",
       "      <path d=\"M 132.1625 63.4755 \n",
       "L 132.1625 35.7555 \n",
       "\" clip-path=\"url(#p5f44172fc0)\" style=\"fill: none; stroke: #b0b0b0; stroke-width: 0.8; stroke-linecap: square\"/>\n",
       "     </g>\n",
       "     <g id=\"line2d_6\">\n",
       "      <g>\n",
       "       <use xlink:href=\"#m6e6693a213\" x=\"132.1625\" y=\"63.4755\" style=\"stroke: #000000; stroke-width: 0.8\"/>\n",
       "      </g>\n",
       "     </g>\n",
       "    </g>\n",
       "   </g>\n",
       "   <g id=\"matplotlib.axis_2\">\n",
       "    <g id=\"ytick_1\">\n",
       "     <g id=\"line2d_7\">\n",
       "      <defs>\n",
       "       <path id=\"mafbfa4620b\" d=\"M 0 0 \n",
       "L -3.5 0 \n",
       "\" style=\"stroke: #000000; stroke-width: 0.8\"/>\n",
       "      </defs>\n",
       "      <g>\n",
       "       <use xlink:href=\"#mafbfa4620b\" x=\"20.5625\" y=\"57.3155\" style=\"stroke: #000000; stroke-width: 0.8\"/>\n",
       "      </g>\n",
       "     </g>\n",
       "     <g id=\"text_1\">\n",
       "      <!-- 1 -->\n",
       "      <g transform=\"translate(7.2 61.114719) scale(0.1 -0.1)\">\n",
       "       <defs>\n",
       "        <path id=\"DejaVuSans-31\" d=\"M 794 531 \n",
       "L 1825 531 \n",
       "L 1825 4091 \n",
       "L 703 3866 \n",
       "L 703 4441 \n",
       "L 1819 4666 \n",
       "L 2450 4666 \n",
       "L 2450 531 \n",
       "L 3481 531 \n",
       "L 3481 0 \n",
       "L 794 0 \n",
       "L 794 531 \n",
       "z\n",
       "\" transform=\"scale(0.015625)\"/>\n",
       "       </defs>\n",
       "       <use xlink:href=\"#DejaVuSans-31\"/>\n",
       "      </g>\n",
       "     </g>\n",
       "    </g>\n",
       "    <g id=\"ytick_2\">\n",
       "     <g id=\"line2d_8\">\n",
       "      <g>\n",
       "       <use xlink:href=\"#mafbfa4620b\" x=\"20.5625\" y=\"41.9155\" style=\"stroke: #000000; stroke-width: 0.8\"/>\n",
       "      </g>\n",
       "     </g>\n",
       "     <g id=\"text_2\">\n",
       "      <!-- 0 -->\n",
       "      <g transform=\"translate(7.2 45.714719) scale(0.1 -0.1)\">\n",
       "       <defs>\n",
       "        <path id=\"DejaVuSans-30\" d=\"M 2034 4250 \n",
       "Q 1547 4250 1301 3770 \n",
       "Q 1056 3291 1056 2328 \n",
       "Q 1056 1369 1301 889 \n",
       "Q 1547 409 2034 409 \n",
       "Q 2525 409 2770 889 \n",
       "Q 3016 1369 3016 2328 \n",
       "Q 3016 3291 2770 3770 \n",
       "Q 2525 4250 2034 4250 \n",
       "z\n",
       "M 2034 4750 \n",
       "Q 2819 4750 3233 4129 \n",
       "Q 3647 3509 3647 2328 \n",
       "Q 3647 1150 3233 529 \n",
       "Q 2819 -91 2034 -91 \n",
       "Q 1250 -91 836 529 \n",
       "Q 422 1150 422 2328 \n",
       "Q 422 3509 836 4129 \n",
       "Q 1250 4750 2034 4750 \n",
       "z\n",
       "\" transform=\"scale(0.015625)\"/>\n",
       "       </defs>\n",
       "       <use xlink:href=\"#DejaVuSans-30\"/>\n",
       "      </g>\n",
       "     </g>\n",
       "    </g>\n",
       "   </g>\n",
       "   <g id=\"patch_5\">\n",
       "    <path d=\"M 20.5625 63.4755 \n",
       "L 20.5625 35.7555 \n",
       "\" style=\"fill: none; stroke: #000000; stroke-width: 0.8; stroke-linejoin: miter; stroke-linecap: square\"/>\n",
       "   </g>\n",
       "   <g id=\"patch_6\">\n",
       "    <path d=\"M 132.1625 63.4755 \n",
       "L 132.1625 35.7555 \n",
       "\" style=\"fill: none; stroke: #000000; stroke-width: 0.8; stroke-linejoin: miter; stroke-linecap: square\"/>\n",
       "   </g>\n",
       "   <g id=\"patch_7\">\n",
       "    <path d=\"M 20.5625 63.4755 \n",
       "L 132.1625 63.4755 \n",
       "\" style=\"fill: none; stroke: #000000; stroke-width: 0.8; stroke-linejoin: miter; stroke-linecap: square\"/>\n",
       "   </g>\n",
       "   <g id=\"patch_8\">\n",
       "    <path d=\"M 20.5625 35.7555 \n",
       "L 132.1625 35.7555 \n",
       "\" style=\"fill: none; stroke: #000000; stroke-width: 0.8; stroke-linejoin: miter; stroke-linecap: square\"/>\n",
       "   </g>\n",
       "   <g id=\"text_3\">\n",
       "    <!-- 91.80% -->\n",
       "    <g transform=\"translate(94.032812 61.395812) scale(0.1 -0.1)\">\n",
       "     <defs>\n",
       "      <path id=\"DejaVuSans-39\" d=\"M 703 97 \n",
       "L 703 672 \n",
       "Q 941 559 1184 500 \n",
       "Q 1428 441 1663 441 \n",
       "Q 2288 441 2617 861 \n",
       "Q 2947 1281 2994 2138 \n",
       "Q 2813 1869 2534 1725 \n",
       "Q 2256 1581 1919 1581 \n",
       "Q 1219 1581 811 2004 \n",
       "Q 403 2428 403 3163 \n",
       "Q 403 3881 828 4315 \n",
       "Q 1253 4750 1959 4750 \n",
       "Q 2769 4750 3195 4129 \n",
       "Q 3622 3509 3622 2328 \n",
       "Q 3622 1225 3098 567 \n",
       "Q 2575 -91 1691 -91 \n",
       "Q 1453 -91 1209 -44 \n",
       "Q 966 3 703 97 \n",
       "z\n",
       "M 1959 2075 \n",
       "Q 2384 2075 2632 2365 \n",
       "Q 2881 2656 2881 3163 \n",
       "Q 2881 3666 2632 3958 \n",
       "Q 2384 4250 1959 4250 \n",
       "Q 1534 4250 1286 3958 \n",
       "Q 1038 3666 1038 3163 \n",
       "Q 1038 2656 1286 2365 \n",
       "Q 1534 2075 1959 2075 \n",
       "z\n",
       "\" transform=\"scale(0.015625)\"/>\n",
       "      <path id=\"DejaVuSans-2e\" d=\"M 684 794 \n",
       "L 1344 794 \n",
       "L 1344 0 \n",
       "L 684 0 \n",
       "L 684 794 \n",
       "z\n",
       "\" transform=\"scale(0.015625)\"/>\n",
       "      <path id=\"DejaVuSans-38\" d=\"M 2034 2216 \n",
       "Q 1584 2216 1326 1975 \n",
       "Q 1069 1734 1069 1313 \n",
       "Q 1069 891 1326 650 \n",
       "Q 1584 409 2034 409 \n",
       "Q 2484 409 2743 651 \n",
       "Q 3003 894 3003 1313 \n",
       "Q 3003 1734 2745 1975 \n",
       "Q 2488 2216 2034 2216 \n",
       "z\n",
       "M 1403 2484 \n",
       "Q 997 2584 770 2862 \n",
       "Q 544 3141 544 3541 \n",
       "Q 544 4100 942 4425 \n",
       "Q 1341 4750 2034 4750 \n",
       "Q 2731 4750 3128 4425 \n",
       "Q 3525 4100 3525 3541 \n",
       "Q 3525 3141 3298 2862 \n",
       "Q 3072 2584 2669 2484 \n",
       "Q 3125 2378 3379 2068 \n",
       "Q 3634 1759 3634 1313 \n",
       "Q 3634 634 3220 271 \n",
       "Q 2806 -91 2034 -91 \n",
       "Q 1263 -91 848 271 \n",
       "Q 434 634 434 1313 \n",
       "Q 434 1759 690 2068 \n",
       "Q 947 2378 1403 2484 \n",
       "z\n",
       "M 1172 3481 \n",
       "Q 1172 3119 1398 2916 \n",
       "Q 1625 2713 2034 2713 \n",
       "Q 2441 2713 2670 2916 \n",
       "Q 2900 3119 2900 3481 \n",
       "Q 2900 3844 2670 4047 \n",
       "Q 2441 4250 2034 4250 \n",
       "Q 1625 4250 1398 4047 \n",
       "Q 1172 3844 1172 3481 \n",
       "z\n",
       "\" transform=\"scale(0.015625)\"/>\n",
       "      <path id=\"DejaVuSans-25\" d=\"M 4653 2053 \n",
       "Q 4381 2053 4226 1822 \n",
       "Q 4072 1591 4072 1178 \n",
       "Q 4072 772 4226 539 \n",
       "Q 4381 306 4653 306 \n",
       "Q 4919 306 5073 539 \n",
       "Q 5228 772 5228 1178 \n",
       "Q 5228 1588 5073 1820 \n",
       "Q 4919 2053 4653 2053 \n",
       "z\n",
       "M 4653 2450 \n",
       "Q 5147 2450 5437 2106 \n",
       "Q 5728 1763 5728 1178 \n",
       "Q 5728 594 5436 251 \n",
       "Q 5144 -91 4653 -91 \n",
       "Q 4153 -91 3862 251 \n",
       "Q 3572 594 3572 1178 \n",
       "Q 3572 1766 3864 2108 \n",
       "Q 4156 2450 4653 2450 \n",
       "z\n",
       "M 1428 4353 \n",
       "Q 1159 4353 1004 4120 \n",
       "Q 850 3888 850 3481 \n",
       "Q 850 3069 1003 2837 \n",
       "Q 1156 2606 1428 2606 \n",
       "Q 1700 2606 1854 2837 \n",
       "Q 2009 3069 2009 3481 \n",
       "Q 2009 3884 1853 4118 \n",
       "Q 1697 4353 1428 4353 \n",
       "z\n",
       "M 4250 4750 \n",
       "L 4750 4750 \n",
       "L 1831 -91 \n",
       "L 1331 -91 \n",
       "L 4250 4750 \n",
       "z\n",
       "M 1428 4750 \n",
       "Q 1922 4750 2215 4408 \n",
       "Q 2509 4066 2509 3481 \n",
       "Q 2509 2891 2217 2550 \n",
       "Q 1925 2209 1428 2209 \n",
       "Q 931 2209 642 2551 \n",
       "Q 353 2894 353 3481 \n",
       "Q 353 4063 643 4406 \n",
       "Q 934 4750 1428 4750 \n",
       "z\n",
       "\" transform=\"scale(0.015625)\"/>\n",
       "     </defs>\n",
       "     <use xlink:href=\"#DejaVuSans-39\"/>\n",
       "     <use xlink:href=\"#DejaVuSans-31\" x=\"63.623047\"/>\n",
       "     <use xlink:href=\"#DejaVuSans-2e\" x=\"127.246094\"/>\n",
       "     <use xlink:href=\"#DejaVuSans-38\" x=\"159.033203\"/>\n",
       "     <use xlink:href=\"#DejaVuSans-30\" x=\"222.65625\"/>\n",
       "     <use xlink:href=\"#DejaVuSans-25\" x=\"286.279297\"/>\n",
       "    </g>\n",
       "   </g>\n",
       "   <g id=\"text_4\">\n",
       "    <!-- 8.20% -->\n",
       "    <g transform=\"translate(100.395312 45.995812) scale(0.1 -0.1)\">\n",
       "     <defs>\n",
       "      <path id=\"DejaVuSans-32\" d=\"M 1228 531 \n",
       "L 3431 531 \n",
       "L 3431 0 \n",
       "L 469 0 \n",
       "L 469 531 \n",
       "Q 828 903 1448 1529 \n",
       "Q 2069 2156 2228 2338 \n",
       "Q 2531 2678 2651 2914 \n",
       "Q 2772 3150 2772 3378 \n",
       "Q 2772 3750 2511 3984 \n",
       "Q 2250 4219 1831 4219 \n",
       "Q 1534 4219 1204 4116 \n",
       "Q 875 4013 500 3803 \n",
       "L 500 4441 \n",
       "Q 881 4594 1212 4672 \n",
       "Q 1544 4750 1819 4750 \n",
       "Q 2544 4750 2975 4387 \n",
       "Q 3406 4025 3406 3419 \n",
       "Q 3406 3131 3298 2873 \n",
       "Q 3191 2616 2906 2266 \n",
       "Q 2828 2175 2409 1742 \n",
       "Q 1991 1309 1228 531 \n",
       "z\n",
       "\" transform=\"scale(0.015625)\"/>\n",
       "     </defs>\n",
       "     <use xlink:href=\"#DejaVuSans-38\"/>\n",
       "     <use xlink:href=\"#DejaVuSans-2e\" x=\"63.623047\"/>\n",
       "     <use xlink:href=\"#DejaVuSans-32\" x=\"95.410156\"/>\n",
       "     <use xlink:href=\"#DejaVuSans-30\" x=\"159.033203\"/>\n",
       "     <use xlink:href=\"#DejaVuSans-25\" x=\"222.65625\"/>\n",
       "    </g>\n",
       "   </g>\n",
       "   <g id=\"text_5\">\n",
       "    <!-- w -->\n",
       "    <g transform=\"translate(71.455625 16.318125) scale(0.12 -0.12)\">\n",
       "     <defs>\n",
       "      <path id=\"DejaVuSans-77\" d=\"M 269 3500 \n",
       "L 844 3500 \n",
       "L 1563 769 \n",
       "L 2278 3500 \n",
       "L 2956 3500 \n",
       "L 3675 769 \n",
       "L 4391 3500 \n",
       "L 4966 3500 \n",
       "L 4050 0 \n",
       "L 3372 0 \n",
       "L 2619 2869 \n",
       "L 1863 0 \n",
       "L 1184 0 \n",
       "L 269 3500 \n",
       "z\n",
       "\" transform=\"scale(0.015625)\"/>\n",
       "     </defs>\n",
       "     <use xlink:href=\"#DejaVuSans-77\"/>\n",
       "    </g>\n",
       "    <!-- $\\mu=0.92$; $\\sigma=0.27$ -->\n",
       "    <g transform=\"translate(23.7425 29.7555) scale(0.12 -0.12)\">\n",
       "     <defs>\n",
       "      <path id=\"DejaVuSans-Oblique-3bc\" d=\"M -84 -1331 \n",
       "L 856 3500 \n",
       "L 1434 3500 \n",
       "L 1009 1322 \n",
       "Q 997 1256 987 1175 \n",
       "Q 978 1094 978 1013 \n",
       "Q 978 722 1161 565 \n",
       "Q 1344 409 1684 409 \n",
       "Q 2147 409 2431 671 \n",
       "Q 2716 934 2816 1459 \n",
       "L 3213 3500 \n",
       "L 3788 3500 \n",
       "L 3266 809 \n",
       "Q 3253 750 3248 706 \n",
       "Q 3244 663 3244 628 \n",
       "Q 3244 531 3283 486 \n",
       "Q 3322 441 3406 441 \n",
       "Q 3438 441 3492 456 \n",
       "Q 3547 472 3647 513 \n",
       "L 3559 50 \n",
       "Q 3422 -19 3297 -55 \n",
       "Q 3172 -91 3053 -91 \n",
       "Q 2847 -91 2730 40 \n",
       "Q 2613 172 2613 403 \n",
       "Q 2438 153 2195 31 \n",
       "Q 1953 -91 1625 -91 \n",
       "Q 1334 -91 1117 43 \n",
       "Q 900 178 831 397 \n",
       "L 494 -1331 \n",
       "L -84 -1331 \n",
       "z\n",
       "\" transform=\"scale(0.015625)\"/>\n",
       "      <path id=\"DejaVuSans-3d\" d=\"M 678 2906 \n",
       "L 4684 2906 \n",
       "L 4684 2381 \n",
       "L 678 2381 \n",
       "L 678 2906 \n",
       "z\n",
       "M 678 1631 \n",
       "L 4684 1631 \n",
       "L 4684 1100 \n",
       "L 678 1100 \n",
       "L 678 1631 \n",
       "z\n",
       "\" transform=\"scale(0.015625)\"/>\n",
       "      <path id=\"DejaVuSans-3b\" d=\"M 750 3309 \n",
       "L 1409 3309 \n",
       "L 1409 2516 \n",
       "L 750 2516 \n",
       "L 750 3309 \n",
       "z\n",
       "M 750 794 \n",
       "L 1409 794 \n",
       "L 1409 256 \n",
       "L 897 -744 \n",
       "L 494 -744 \n",
       "L 750 256 \n",
       "L 750 794 \n",
       "z\n",
       "\" transform=\"scale(0.015625)\"/>\n",
       "      <path id=\"DejaVuSans-20\" transform=\"scale(0.015625)\"/>\n",
       "      <path id=\"DejaVuSans-Oblique-3c3\" d=\"M 2219 3044 \n",
       "Q 1744 3044 1422 2700 \n",
       "Q 1081 2341 969 1747 \n",
       "Q 844 1119 1044 756 \n",
       "Q 1241 397 1706 397 \n",
       "Q 2166 397 2503 759 \n",
       "Q 2844 1122 2966 1747 \n",
       "Q 3075 2319 2881 2700 \n",
       "Q 2700 3044 2219 3044 \n",
       "z\n",
       "M 2309 3503 \n",
       "L 4219 3500 \n",
       "L 4106 2925 \n",
       "L 3463 2925 \n",
       "Q 3706 2438 3575 1747 \n",
       "Q 3406 888 2884 400 \n",
       "Q 2359 -91 1609 -91 \n",
       "Q 856 -91 525 400 \n",
       "Q 194 888 363 1747 \n",
       "Q 528 2609 1050 3097 \n",
       "Q 1484 3503 2309 3503 \n",
       "z\n",
       "\" transform=\"scale(0.015625)\"/>\n",
       "      <path id=\"DejaVuSans-37\" d=\"M 525 4666 \n",
       "L 3525 4666 \n",
       "L 3525 4397 \n",
       "L 1831 0 \n",
       "L 1172 0 \n",
       "L 2766 4134 \n",
       "L 525 4134 \n",
       "L 525 4666 \n",
       "z\n",
       "\" transform=\"scale(0.015625)\"/>\n",
       "     </defs>\n",
       "     <use xlink:href=\"#DejaVuSans-Oblique-3bc\" transform=\"translate(0 0.78125)\"/>\n",
       "     <use xlink:href=\"#DejaVuSans-3d\" transform=\"translate(83.105469 0.78125)\"/>\n",
       "     <use xlink:href=\"#DejaVuSans-30\" transform=\"translate(186.376953 0.78125)\"/>\n",
       "     <use xlink:href=\"#DejaVuSans-2e\" transform=\"translate(250 0.78125)\"/>\n",
       "     <use xlink:href=\"#DejaVuSans-39\" transform=\"translate(281.787109 0.78125)\"/>\n",
       "     <use xlink:href=\"#DejaVuSans-32\" transform=\"translate(343.660156 0.78125)\"/>\n",
       "     <use xlink:href=\"#DejaVuSans-3b\" transform=\"translate(407.283203 0.78125)\"/>\n",
       "     <use xlink:href=\"#DejaVuSans-20\" transform=\"translate(440.974609 0.78125)\"/>\n",
       "     <use xlink:href=\"#DejaVuSans-Oblique-3c3\" transform=\"translate(472.761719 0.78125)\"/>\n",
       "     <use xlink:href=\"#DejaVuSans-3d\" transform=\"translate(555.623047 0.78125)\"/>\n",
       "     <use xlink:href=\"#DejaVuSans-30\" transform=\"translate(658.894531 0.78125)\"/>\n",
       "     <use xlink:href=\"#DejaVuSans-2e\" transform=\"translate(722.517578 0.78125)\"/>\n",
       "     <use xlink:href=\"#DejaVuSans-32\" transform=\"translate(748.804688 0.78125)\"/>\n",
       "     <use xlink:href=\"#DejaVuSans-37\" transform=\"translate(812.427734 0.78125)\"/>\n",
       "    </g>\n",
       "   </g>\n",
       "  </g>\n",
       " </g>\n",
       " <defs>\n",
       "  <clipPath id=\"p5f44172fc0\">\n",
       "   <rect x=\"20.5625\" y=\"35.7555\" width=\"111.6\" height=\"27.72\"/>\n",
       "  </clipPath>\n",
       " </defs>\n",
       "</svg>\n"
      ],
      "text/plain": [
       "<Figure size 200x50 with 1 Axes>"
      ]
     },
     "metadata": {},
     "output_type": "display_data"
    }
   ],
   "source": [
    "gnb.showPosterior(bn,{'s':1,'c':0},'w')"
   ]
  },
  {
   "cell_type": "markdown",
   "metadata": {},
   "source": [
    "### inference in the whole Bayes net"
   ]
  },
  {
   "cell_type": "code",
   "execution_count": 34,
   "metadata": {
    "ExecuteTime": {
     "end_time": "2019-04-10T13:54:14.678249Z",
     "start_time": "2019-04-10T13:54:12.217783Z"
    },
    "tags": []
   },
   "outputs": [
    {
     "ename": "NameError",
     "evalue": "name 'getBlackInTheme' is not defined",
     "output_type": "error",
     "traceback": [
      "\u001b[0;31m---------------------------------------------------------------------------\u001b[0m",
      "\u001b[0;31mNameError\u001b[0m                                 Traceback (most recent call last)",
      "Cell \u001b[0;32mIn[34], line 1\u001b[0m\n\u001b[0;32m----> 1\u001b[0m \u001b[43mgnb\u001b[49m\u001b[38;5;241;43m.\u001b[39;49m\u001b[43mshowInference\u001b[49m\u001b[43m(\u001b[49m\u001b[43mbn\u001b[49m\u001b[43m,\u001b[49m\u001b[43mevs\u001b[49m\u001b[38;5;241;43m=\u001b[39;49m\u001b[43m{\u001b[49m\u001b[43m}\u001b[49m\u001b[43m)\u001b[49m\n",
      "File \u001b[0;32m~/.virtualenvs/devAgrum/lib/python3.12/site-packages/pyAgrum/deprecated.py:50\u001b[0m, in \u001b[0;36mdeprecated_arg.<locals>.deco.<locals>.wrapper\u001b[0;34m(*args, **kwargs)\u001b[0m\n\u001b[1;32m     45\u001b[0m           warnings\u001b[38;5;241m.\u001b[39mwarn(\n\u001b[1;32m     46\u001b[0m             \u001b[38;5;124mf\u001b[39m\u001b[38;5;124m\"\"\"\u001b[39m\n\u001b[1;32m     47\u001b[0m \u001b[38;5;124m** pyAgrum : argument \u001b[39m\u001b[38;5;124m'\u001b[39m\u001b[38;5;132;01m{\u001b[39;00moldA\u001b[38;5;132;01m}\u001b[39;00m\u001b[38;5;124m'\u001b[39m\u001b[38;5;124m is deprecated since \u001b[39m\u001b[38;5;124m'\u001b[39m\u001b[38;5;132;01m{\u001b[39;00mversion\u001b[38;5;132;01m}\u001b[39;00m\u001b[38;5;124m'\u001b[39m\u001b[38;5;124m, please use \u001b[39m\u001b[38;5;124m'\u001b[39m\u001b[38;5;132;01m{\u001b[39;00mnewA\u001b[38;5;132;01m}\u001b[39;00m\u001b[38;5;124m'\u001b[39m\u001b[38;5;124m is instead.\u001b[39m\n\u001b[1;32m     48\u001b[0m \u001b[38;5;124m\"\"\"\u001b[39m, \u001b[38;5;167;01mDeprecationWarning\u001b[39;00m, stacklevel\u001b[38;5;241m=\u001b[39m\u001b[38;5;241m2\u001b[39m)\n\u001b[1;32m     49\u001b[0m           kwargs[newA] \u001b[38;5;241m=\u001b[39m kwargs\u001b[38;5;241m.\u001b[39mpop(oldA)\n\u001b[0;32m---> 50\u001b[0m       \u001b[38;5;28;01mreturn\u001b[39;00m \u001b[43mf\u001b[49m\u001b[43m(\u001b[49m\u001b[38;5;241;43m*\u001b[39;49m\u001b[43margs\u001b[49m\u001b[43m,\u001b[49m\u001b[43m \u001b[49m\u001b[38;5;241;43m*\u001b[39;49m\u001b[38;5;241;43m*\u001b[39;49m\u001b[43mkwargs\u001b[49m\u001b[43m)\u001b[49m\n",
      "File \u001b[0;32m~/.virtualenvs/devAgrum/lib/python3.12/site-packages/pyAgrum/lib/notebook.py:1098\u001b[0m, in \u001b[0;36mshowInference\u001b[0;34m(model, **kwargs)\u001b[0m\n\u001b[1;32m   1095\u001b[0m \u001b[38;5;28;01melse\u001b[39;00m:\n\u001b[1;32m   1096\u001b[0m   size \u001b[38;5;241m=\u001b[39m gum\u001b[38;5;241m.\u001b[39mconfig[\u001b[38;5;124m\"\u001b[39m\u001b[38;5;124mnotebook\u001b[39m\u001b[38;5;124m\"\u001b[39m, \u001b[38;5;124m\"\u001b[39m\u001b[38;5;124mdefault_graph_inference_size\u001b[39m\u001b[38;5;124m\"\u001b[39m]\n\u001b[0;32m-> 1098\u001b[0m \u001b[43mshowGraph\u001b[49m\u001b[43m(\u001b[49m\u001b[43mprepareShowInference\u001b[49m\u001b[43m(\u001b[49m\u001b[43mmodel\u001b[49m\u001b[43m,\u001b[49m\u001b[43m \u001b[49m\u001b[38;5;241;43m*\u001b[39;49m\u001b[38;5;241;43m*\u001b[39;49m\u001b[43mkwargs\u001b[49m\u001b[43m)\u001b[49m\u001b[43m,\u001b[49m\u001b[43m \u001b[49m\u001b[43msize\u001b[49m\u001b[43m)\u001b[49m\n",
      "File \u001b[0;32m~/.virtualenvs/devAgrum/lib/python3.12/site-packages/pyAgrum/lib/notebook.py:298\u001b[0m, in \u001b[0;36mshowGraph\u001b[0;34m(gr, size)\u001b[0m\n\u001b[1;32m    295\u001b[0m \u001b[38;5;28;01mif\u001b[39;00m size \u001b[38;5;129;01mis\u001b[39;00m \u001b[38;5;28;01mNone\u001b[39;00m:\n\u001b[1;32m    296\u001b[0m   size \u001b[38;5;241m=\u001b[39m gum\u001b[38;5;241m.\u001b[39mconfig[\u001b[38;5;124m\"\u001b[39m\u001b[38;5;124mnotebook\u001b[39m\u001b[38;5;124m\"\u001b[39m, \u001b[38;5;124m\"\u001b[39m\u001b[38;5;124mdefault_graph_size\u001b[39m\u001b[38;5;124m\"\u001b[39m]\n\u001b[0;32m--> 298\u001b[0m \u001b[38;5;28;01mreturn\u001b[39;00m \u001b[43m_reprGraph\u001b[49m\u001b[43m(\u001b[49m\u001b[43mgr\u001b[49m\u001b[43m,\u001b[49m\u001b[43m \u001b[49m\u001b[43msize\u001b[49m\u001b[43m,\u001b[49m\u001b[43m \u001b[49m\u001b[43masString\u001b[49m\u001b[38;5;241;43m=\u001b[39;49m\u001b[38;5;28;43;01mFalse\u001b[39;49;00m\u001b[43m)\u001b[49m\n",
      "File \u001b[0;32m~/.virtualenvs/devAgrum/lib/python3.12/site-packages/pyAgrum/lib/notebook.py:264\u001b[0m, in \u001b[0;36m_reprGraph\u001b[0;34m(gr, size, asString, graph_format)\u001b[0m\n\u001b[1;32m    244\u001b[0m \u001b[38;5;28;01mdef\u001b[39;00m \u001b[38;5;21m_reprGraph\u001b[39m(gr, size, asString, graph_format\u001b[38;5;241m=\u001b[39m\u001b[38;5;28;01mNone\u001b[39;00m):\n\u001b[1;32m    245\u001b[0m \u001b[38;5;250m  \u001b[39m\u001b[38;5;124;03m\"\"\"\u001b[39;00m\n\u001b[1;32m    246\u001b[0m \u001b[38;5;124;03m  repr a pydot graph in a notebook\u001b[39;00m\n\u001b[1;32m    247\u001b[0m \n\u001b[0;32m   (...)\u001b[0m\n\u001b[1;32m    262\u001b[0m \u001b[38;5;124;03m    return the HTML representation as a str or display the graph\u001b[39;00m\n\u001b[1;32m    263\u001b[0m \u001b[38;5;124;03m  \"\"\"\u001b[39;00m\n\u001b[0;32m--> 264\u001b[0m   \u001b[43mgumcols\u001b[49m\u001b[38;5;241;43m.\u001b[39;49m\u001b[43mprepareDot\u001b[49m\u001b[43m(\u001b[49m\u001b[43mgr\u001b[49m\u001b[43m,\u001b[49m\u001b[43m \u001b[49m\u001b[43msize\u001b[49m\u001b[38;5;241;43m=\u001b[39;49m\u001b[43msize\u001b[49m\u001b[43m)\u001b[49m\n\u001b[1;32m    266\u001b[0m   \u001b[38;5;28;01mif\u001b[39;00m graph_format \u001b[38;5;129;01mis\u001b[39;00m \u001b[38;5;28;01mNone\u001b[39;00m:\n\u001b[1;32m    267\u001b[0m     graph_format \u001b[38;5;241m=\u001b[39m gum\u001b[38;5;241m.\u001b[39mconfig[\u001b[38;5;124m\"\u001b[39m\u001b[38;5;124mnotebook\u001b[39m\u001b[38;5;124m\"\u001b[39m, \u001b[38;5;124m\"\u001b[39m\u001b[38;5;124mgraph_format\u001b[39m\u001b[38;5;124m\"\u001b[39m]\n",
      "File \u001b[0;32m~/.virtualenvs/devAgrum/lib/python3.12/site-packages/pyAgrum/lib/_colors.py:207\u001b[0m, in \u001b[0;36mprepareDot\u001b[0;34m(dotgraph, **kwargs)\u001b[0m\n\u001b[1;32m    205\u001b[0m     n\u001b[38;5;241m.\u001b[39mset_color(getBlackInTheme())\n\u001b[1;32m    206\u001b[0m   \u001b[38;5;28;01mif\u001b[39;00m n\u001b[38;5;241m.\u001b[39mget_fontcolor() \u001b[38;5;129;01mis\u001b[39;00m \u001b[38;5;28;01mNone\u001b[39;00m:\n\u001b[0;32m--> 207\u001b[0m     n\u001b[38;5;241m.\u001b[39mset_fontcolor(\u001b[43mgetBlackInTheme\u001b[49m())\n\u001b[1;32m    209\u001b[0m \u001b[38;5;28;01mreturn\u001b[39;00m dotgraph\n",
      "\u001b[0;31mNameError\u001b[0m: name 'getBlackInTheme' is not defined"
     ]
    }
   ],
   "source": [
    "gnb.showInference(bn,evs={})"
   ]
  },
  {
   "cell_type": "markdown",
   "metadata": {},
   "source": [
    "#### inference with hard evidence"
   ]
  },
  {
   "cell_type": "code",
   "execution_count": null,
   "metadata": {
    "ExecuteTime": {
     "end_time": "2019-04-10T13:54:16.866133Z",
     "start_time": "2019-04-10T13:54:14.680463Z"
    },
    "tags": []
   },
   "outputs": [],
   "source": [
    "gnb.showInference(bn,evs={'s':1,'c':0})"
   ]
  },
  {
   "cell_type": "markdown",
   "metadata": {},
   "source": [
    "#### inference with soft and hard evidence"
   ]
  },
  {
   "cell_type": "code",
   "execution_count": null,
   "metadata": {
    "ExecuteTime": {
     "end_time": "2019-04-10T13:54:19.306711Z",
     "start_time": "2019-04-10T13:54:16.868478Z"
    },
    "tags": []
   },
   "outputs": [],
   "source": [
    "gnb.showInference(bn,evs={'s':1,'c':[0.3,0.9]})"
   ]
  },
  {
   "cell_type": "markdown",
   "metadata": {},
   "source": [
    "#### inference with partial targets"
   ]
  },
  {
   "cell_type": "code",
   "execution_count": null,
   "metadata": {
    "ExecuteTime": {
     "end_time": "2019-04-10T13:54:21.720327Z",
     "start_time": "2019-04-10T13:54:19.308866Z"
    },
    "tags": []
   },
   "outputs": [],
   "source": [
    "gnb.showInference(bn,evs={'c':[0.3,0.9]},targets={'c','w'})"
   ]
  },
  {
   "cell_type": "markdown",
   "metadata": {},
   "source": [
    "## Testing independence in Bayesian networks\n",
    "\n",
    "One of the strength of the Bayesian networks is to form a model that allows to read qualitative knwoledge directly from the grap : the conditional independence. aGrUM/pyAgrum comes with a set of tools to query this qualitative knowledge."
   ]
  },
  {
   "cell_type": "code",
   "execution_count": null,
   "metadata": {
    "tags": []
   },
   "outputs": [],
   "source": [
    "# fast create a BN (random paramaters are chosen for the CPTs)\n",
    "bn=gum.fastBN(\"A->B<-C->D->E<-F<-A;C->G<-H<-I->J\")\n",
    "bn"
   ]
  },
  {
   "cell_type": "markdown",
   "metadata": {},
   "source": [
    "## Conditional Independence\n",
    "\n",
    "### Directly\n",
    "First, one can directly test independence"
   ]
  },
  {
   "cell_type": "code",
   "execution_count": null,
   "metadata": {
    "tags": []
   },
   "outputs": [],
   "source": [
    "def testIndep(bn,x,y,knowing):\n",
    "    res=\"\" if bn.isIndependent(x,y,knowing) else \" NOT\"\n",
    "    giv=\".\" if len(knowing)==0 else f\" given {knowing}.\"\n",
    "    print(f\"{x} and {y} are{res} independent{giv}\")\n",
    "\n",
    "testIndep(bn,\"A\",\"C\",[])\n",
    "testIndep(bn,\"A\",\"C\",[\"E\"])\n",
    "print()\n",
    "testIndep(bn,\"E\",\"C\",[])\n",
    "testIndep(bn,\"E\",\"C\",[\"D\"])\n",
    "print()\n",
    "testIndep(bn,\"A\",\"I\",[])\n",
    "testIndep(bn,\"A\",\"I\",[\"E\"])\n",
    "testIndep(bn,\"A\",\"I\",[\"G\"])\n",
    "testIndep(bn,\"A\",\"I\",[\"E\",\"G\"])"
   ]
  },
  {
   "cell_type": "markdown",
   "metadata": {},
   "source": [
    "### Markov Blanket\n",
    "\n",
    "Second, one can investigate the Markov Blanket of a node. The Markov blanket of a node $X$ is the set of nodes $M\\!B(X)$ such that $X$ is independent from the rest of the nodes given $M\\!B(X)$."
   ]
  },
  {
   "cell_type": "code",
   "execution_count": null,
   "metadata": {
    "tags": []
   },
   "outputs": [],
   "source": [
    "print(gum.MarkovBlanket(bn,\"C\").toDot())\n",
    "gum.MarkovBlanket(bn,\"C\")"
   ]
  },
  {
   "cell_type": "code",
   "execution_count": null,
   "metadata": {
    "tags": []
   },
   "outputs": [],
   "source": [
    "gum.MarkovBlanket(bn,\"J\")"
   ]
  },
  {
   "cell_type": "markdown",
   "metadata": {},
   "source": [
    "### Minimal conditioning set and evidence Impact using probabilistic inference\n",
    "\n",
    "For a variable and a list of variables, one can find the sublist that effectively impacts the variable if the list of variables was observed."
   ]
  },
  {
   "cell_type": "code",
   "execution_count": null,
   "metadata": {
    "tags": []
   },
   "outputs": [],
   "source": [
    "[bn.variable(i).name() for i in bn.minimalCondSet(\"B\",[\"A\",\"H\",\"J\"])]"
   ]
  },
  {
   "cell_type": "code",
   "execution_count": null,
   "metadata": {
    "tags": []
   },
   "outputs": [],
   "source": [
    "[bn.variable(i).name() for i in bn.minimalCondSet(\"B\",[\"A\",\"G\",\"H\",\"J\"])]"
   ]
  },
  {
   "cell_type": "markdown",
   "metadata": {},
   "source": [
    "This can be also viewed when using `gum.LazyPropagation.evidenceImpact(target,evidence)` which computes $P(target|evidence)$ but reduces as much as possible the set of needed evidence for the result :"
   ]
  },
  {
   "cell_type": "code",
   "execution_count": null,
   "metadata": {
    "tags": []
   },
   "outputs": [],
   "source": [
    "ie=gum.LazyPropagation(bn)\n",
    "ie.evidenceImpact(\"B\",[\"A\",\"C\",\"H\",\"G\"]) # H,G will be removed w.r.t the minimalCondSet above"
   ]
  },
  {
   "cell_type": "code",
   "execution_count": null,
   "metadata": {
    "tags": []
   },
   "outputs": [],
   "source": [
    "ie.evidenceImpact(\"B\",[\"A\",\"G\",\"H\",\"J\"]) # \"J\" is not necessary to compute the impact of the evidence"
   ]
  },
  {
   "cell_type": "markdown",
   "metadata": {},
   "source": [
    "### PS- the complete code to create the first image"
   ]
  },
  {
   "cell_type": "code",
   "execution_count": null,
   "metadata": {
    "tags": []
   },
   "outputs": [],
   "source": [
    "bn=gum.fastBN(\"Cloudy?->Sprinkler?->Wet Grass?<-Rain?<-Cloudy?\")\n",
    "\n",
    "bn.cpt(\"Cloudy?\").fillWith([0.5,0.5])\n",
    "\n",
    "bn.cpt(\"Sprinkler?\")[:]=[[0.5,0.5],\n",
    "                         [0.9,0.1]]\n",
    "\n",
    "bn.cpt(\"Rain?\")[{'Cloudy?':0}]=[0.8,0.2]\n",
    "bn.cpt(\"Rain?\")[{'Cloudy?':1}]=[0.2,0.8]\n",
    "\n",
    "bn.cpt(\"Wet Grass?\")[{'Rain?': 0, 'Sprinkler?': 0}] = [1, 0]\n",
    "bn.cpt(\"Wet Grass?\")[{'Rain?': 0, 'Sprinkler?': 1}] = [0.1, 0.9]\n",
    "bn.cpt(\"Wet Grass?\")[{'Rain?': 1, 'Sprinkler?': 0}] = [0.1, 0.9]\n",
    "bn.cpt(\"Wet Grass?\")[{'Rain?': 1, 'Sprinkler?': 1}] = [0.01, 0.99]\n",
    "\n",
    "# the next line control the number of visible digits\n",
    "gum.config['notebook','potential_visible_digits']=2\n",
    "gnb.sideBySide(bn.cpt(\"Cloudy?\"),captions=['$P(Cloudy)$'])\n",
    "gnb.sideBySide(bn.cpt(\"Sprinkler?\"),gnb.getBN(bn,size=\"3!\"),bn.cpt(\"Rain?\"),\n",
    "              captions=['$P(Sprinkler|Cloudy)$',\"\",'$P(WetGrass|Sprinkler,Rain)$'])\n",
    "gnb.sideBySide(bn.cpt(\"Wet Grass?\"),captions=['$P(WetGrass|Sprinkler,Rain)$'])"
   ]
  },
  {
   "cell_type": "markdown",
   "metadata": {},
   "source": [
    "### PS2- a second glimpse of `gum.config`\n",
    "\n",
    "(for more, see the notebook : config for pyAgrum)"
   ]
  },
  {
   "cell_type": "code",
   "execution_count": null,
   "metadata": {
    "editable": true,
    "slideshow": {
     "slide_type": ""
    },
    "tags": []
   },
   "outputs": [],
   "source": [
    "bn=gum.fastBN(\"Cloudy?->Sprinkler?->Wet Grass?<-Rain?<-Cloudy?\")\n",
    "\n",
    "bn.cpt(\"Cloudy?\").fillWith([0.5,0.5])\n",
    "\n",
    "bn.cpt(\"Sprinkler?\")[:]=[[0.5,0.5],\n",
    "                         [0.9,0.1]]\n",
    "\n",
    "bn.cpt(\"Rain?\")[{'Cloudy?':0}]=[0.8,0.2]\n",
    "bn.cpt(\"Rain?\")[{'Cloudy?':1}]=[0.2,0.8]\n",
    "\n",
    "bn.cpt(\"Wet Grass?\")[{'Rain?': 0, 'Sprinkler?': 0}] = [1, 0]\n",
    "bn.cpt(\"Wet Grass?\")[{'Rain?': 0, 'Sprinkler?': 1}] = [0.1, 0.9]\n",
    "bn.cpt(\"Wet Grass?\")[{'Rain?': 1, 'Sprinkler?': 0}] = [0.1, 0.9]\n",
    "bn.cpt(\"Wet Grass?\")[{'Rain?': 1, 'Sprinkler?': 1}] = [0.01, 0.99]\n",
    "\n",
    "# the next lines control the visualisation of proba as fraction\n",
    "gum.config['notebook','potential_with_fraction']=True\n",
    "gum.config['notebook', 'potential_fraction_with_latex']=True\n",
    "gum.config['notebook', 'potential_fraction_limit']=100\n",
    "\n",
    "gnb.sideBySide(bn.cpt(\"Cloudy?\"),captions=['$P(Cloudy)$'])\n",
    "gnb.sideBySide(bn.cpt(\"Sprinkler?\"),gnb.getBN(bn,size=\"3!\"),bn.cpt(\"Rain?\"),\n",
    "              captions=['$P(Sprinkler|Cloudy)$',\"\",'$P(WetGrass|Sprinkler,Rain)$'])\n",
    "gnb.sideBySide(bn.cpt(\"Wet Grass?\"),captions=['$P(WetGrass|Sprinkler,Rain)$'])"
   ]
  }
 ],
 "metadata": {
  "anaconda-cloud": {},
  "hide_input": false,
  "kernelspec": {
   "display_name": "Python 3 (ipykernel)",
   "language": "python",
   "name": "python3"
  },
  "language_info": {
   "codemirror_mode": {
    "name": "ipython",
    "version": 3
   },
   "file_extension": ".py",
   "mimetype": "text/x-python",
   "name": "python",
   "nbconvert_exporter": "python",
   "pygments_lexer": "ipython3",
   "version": "3.12.2"
  }
 },
 "nbformat": 4,
 "nbformat_minor": 4
}
