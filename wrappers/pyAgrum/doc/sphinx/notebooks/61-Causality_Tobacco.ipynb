{
 "cells": [
  {
   "cell_type": "markdown",
   "metadata": {},
   "source": [
    "# Smoking, Cancer and causality"
   ]
  },
  {
   "cell_type": "markdown",
   "metadata": {},
   "source": [
    "| | | |\n",
    "|-|-|-|\n",
    "|[ ![Creative Commons License](images/cc4.png)](http://creativecommons.org/licenses/by-nc/4.0/) |[ ![aGrUM](images/logoAgrum.png)](https://agrum.org) |[ ![interactive online version](images/atbinder.svg)](https://agrum.gitlab.io/extra/agrum_at_binder.html)"
   ]
  },
  {
   "cell_type": "markdown",
   "metadata": {},
   "source": [
    "This notebook follows the famous example from *Causality* (Pearl, 2009).\n",
    "\n",
    "A correlation has been observed between Smoking and Cancer, represented by this Bayesian network :"
   ]
  },
  {
   "cell_type": "code",
   "execution_count": 1,
   "metadata": {
    "ExecuteTime": {
     "end_time": "2019-02-25T17:35:57.071601Z",
     "start_time": "2019-02-25T17:35:54.803120Z"
    },
    "execution": {
     "iopub.execute_input": "2023-07-25T08:46:35.913895Z",
     "iopub.status.busy": "2023-07-25T08:46:35.913777Z",
     "iopub.status.idle": "2023-07-25T08:46:36.293730Z",
     "shell.execute_reply": "2023-07-25T08:46:36.292874Z",
     "shell.execute_reply.started": "2023-07-25T08:46:35.913883Z"
    },
    "tags": []
   },
   "outputs": [
    {
     "data": {
      "text/html": [
       "\n",
       "      <style>\n",
       "      .floating-box {\n",
       "      display: inline-block;\n",
       "      margin: 7px;\n",
       "      padding : 3px;\n",
       "      border: 0px solid transparent;  \n",
       "      valign:middle;\n",
       "      background-color: transparent;\n",
       "      }\n",
       "      </style>\n",
       "      <div class=\"floating-box\"><svg xmlns=\"http://www.w3.org/2000/svg\" xmlns:xlink=\"http://www.w3.org/1999/xlink\" width=\"118pt\" height=\"116pt\" viewBox=\"0.00 0.00 117.78 116.00\">\n",
       "<g id=\"graph0\" class=\"graph\" transform=\"scale(1 1) rotate(0) translate(4 112)\">\n",
       "<title>G</title>\n",
       "<!-- Smoking -->\n",
       "<g id=\"node1\" class=\"node\">\n",
       "<title>Smoking</title>\n",
       "<g id=\"a_node1\"><a xlink:title=\"(0) Smoking\">\n",
       "<ellipse fill=\"#404040\" stroke=\"black\" cx=\"54.89\" cy=\"-90\" rx=\"54.89\" ry=\"18\"/>\n",
       "<text text-anchor=\"middle\" x=\"54.89\" y=\"-85.33\" font-family=\"Times,serif\" font-size=\"14.00\" fill=\"white\">Smoking</text>\n",
       "</a>\n",
       "</g>\n",
       "</g>\n",
       "<!-- Cancer -->\n",
       "<g id=\"node2\" class=\"node\">\n",
       "<title>Cancer</title>\n",
       "<g id=\"a_node2\"><a xlink:title=\"(1) Cancer\">\n",
       "<ellipse fill=\"#404040\" stroke=\"black\" cx=\"54.89\" cy=\"-18\" rx=\"46.47\" ry=\"18\"/>\n",
       "<text text-anchor=\"middle\" x=\"54.89\" y=\"-13.32\" font-family=\"Times,serif\" font-size=\"14.00\" fill=\"white\">Cancer</text>\n",
       "</a>\n",
       "</g>\n",
       "</g>\n",
       "<!-- Smoking&#45;&gt;Cancer -->\n",
       "<g id=\"edge1\" class=\"edge\">\n",
       "<title>Smoking-&gt;Cancer</title>\n",
       "<g id=\"a_edge1\"><a xlink:title=\"0 → 1\">\n",
       "<path fill=\"none\" stroke=\"#4a4a4a\" d=\"M54.89,-71.7C54.89,-64.24 54.89,-55.32 54.89,-46.97\"/>\n",
       "<polygon fill=\"#4a4a4a\" stroke=\"#4a4a4a\" points=\"58.39,-47.1 54.89,-37.1 51.39,-47.1 58.39,-47.1\"/>\n",
       "</a>\n",
       "</g>\n",
       "</g>\n",
       "</g>\n",
       "</svg><br><center><small><em>the BN</em></small></center></div><div class=\"floating-box\"><table style=\"border:1px solid black;\">\n",
       "<tr><th colspan='1'></th>\n",
       "      <th colspan='2' style='border:1px solid black;color:black;background-color:#808080;'><center>Smoking</center>\n",
       "      </th></tr>\n",
       "<tr><th style='border:1px solid black;color:black;background-color:#808080'><center>Cancer</center></th><th style='border:1px solid black;border-bottom-style: double;color:black;background-color:#BBBBBB'>\n",
       "      <center>0</center></th><th style='border:1px solid black;border-bottom-style: double;color:black;background-color:#BBBBBB'>\n",
       "      <center>1</center></th></tr>\n",
       "<tr><th style='border:1px solid black;color:black;background-color:#BBBBBB'><center>0</center></th><td style='color:black;background-color:#b9c464;text-align:right;'>0.5400</td><td style='color:black;background-color:#dba264;text-align:right;'>0.2800</td></tr>\n",
       "<tr><th style='border:1px solid black;color:black;background-color:#BBBBBB'><center>1</center></th><td style='color:black;background-color:#f78664;text-align:right;'>0.0600</td><td style='color:black;background-color:#ef8e64;text-align:right;'>0.1200</td></tr>\n",
       "</table><br><center><small><em>the joint distribution</em></small></center></div><div class=\"floating-box\"><table style=\"border:1px solid black;\">\n",
       "<tr style='border:1px solid black;color:black;background-color:#808080'>\n",
       "      <th colspan='2'><center>Smoking</center></th></tr>\n",
       "<tr><th style='border:1px solid black;border-bottom-style: double;color:black;background-color:#BBBBBB'>\n",
       "      <center>0</center></th><th style='border:1px solid black;border-bottom-style: double;color:black;background-color:#BBBBBB'>\n",
       "      <center>1</center></th></tr>\n",
       "<tr><td style='color:black;background-color:#b2cb64;text-align:right;'>0.6000</td><td style='color:black;background-color:#cbb264;text-align:right;'>0.4000</td></tr>\n",
       "</table><br><center><small><em>the marginal for $smoking$</em></small></center></div><div class=\"floating-box\"><table style=\"border:1px solid black;\">\n",
       "<tr><th colspan='1'></th>\n",
       "      <th colspan='2' style='border:1px solid black;color:black;background-color:#808080;'><center>Cancer</center>\n",
       "      </th></tr>\n",
       "<tr><th style='border:1px solid black;color:black;background-color:#808080'><center>Smoking</center></th><th style='border:1px solid black;border-bottom-style: double;color:black;background-color:#BBBBBB'>\n",
       "      <center>0</center></th><th style='border:1px solid black;border-bottom-style: double;color:black;background-color:#BBBBBB'>\n",
       "      <center>1</center></th></tr>\n",
       "<tr><th style='border:1px solid black;color:black;background-color:#BBBBBB'><center>0</center></th><td style='color:black;background-color:#8bf264;text-align:right;'>0.9000</td><td style='color:black;background-color:#f28b64;text-align:right;'>0.1000</td></tr>\n",
       "<tr><th style='border:1px solid black;color:black;background-color:#BBBBBB'><center>1</center></th><td style='color:black;background-color:#a5d864;text-align:right;'>0.7000</td><td style='color:black;background-color:#d8a564;text-align:right;'>0.3000</td></tr>\n",
       "</table><br><center><small><em>the CPT for $cancer$</em></small></center></div>"
      ],
      "text/plain": [
       "<IPython.core.display.HTML object>"
      ]
     },
     "metadata": {},
     "output_type": "display_data"
    }
   ],
   "source": [
    "from IPython.display import display, Math, Latex,HTML\n",
    "\n",
    "import pyAgrum as gum\n",
    "import pyAgrum.lib.notebook as gnb\n",
    "import pyAgrum.causal as csl\n",
    "import pyAgrum.causal.notebook as cslnb\n",
    "\n",
    "\n",
    "\n",
    "obs1 = gum.fastBN(\"Smoking->Cancer\")\n",
    "\n",
    "obs1.cpt(\"Smoking\")[:]=[0.6,0.4]\n",
    "obs1.cpt(\"Cancer\")[{\"Smoking\":0}]=[0.9,0.1]\n",
    "obs1.cpt(\"Cancer\")[{\"Smoking\":1}]=[0.7,0.3]\n",
    "                  \n",
    "gnb.flow.row(obs1,obs1.cpt(\"Smoking\")*obs1.cpt(\"Cancer\"),obs1.cpt(\"Smoking\"),obs1.cpt(\"Cancer\"),\n",
    "               captions=[\"the BN\",\"the joint distribution\",\"the marginal for $smoking$\",\"the CPT for $cancer$\"])\n"
   ]
  },
  {
   "cell_type": "markdown",
   "metadata": {},
   "source": [
    "## Direct causality between Smoking and Cancer"
   ]
  },
  {
   "cell_type": "markdown",
   "metadata": {},
   "source": [
    "The very strong observed correlation between smoking and lung cancer suggests a causal relationship as the Surgeon General asserts in 1964, then, the proposed model is as follows :"
   ]
  },
  {
   "cell_type": "code",
   "execution_count": 2,
   "metadata": {
    "ExecuteTime": {
     "end_time": "2019-02-25T17:35:59.137526Z",
     "start_time": "2019-02-25T17:35:57.074634Z"
    },
    "execution": {
     "iopub.execute_input": "2023-07-25T08:46:36.296354Z",
     "iopub.status.busy": "2023-07-25T08:46:36.295919Z",
     "iopub.status.idle": "2023-07-25T08:46:36.382506Z",
     "shell.execute_reply": "2023-07-25T08:46:36.381156Z",
     "shell.execute_reply.started": "2023-07-25T08:46:36.296320Z"
    }
   },
   "outputs": [
    {
     "data": {
      "text/html": [
       "\n",
       "      <style>\n",
       "      .floating-box {\n",
       "      display: inline-block;\n",
       "      margin: 7px;\n",
       "      padding : 3px;\n",
       "      border: 0px solid transparent;  \n",
       "      valign:middle;\n",
       "      background-color: transparent;\n",
       "      }\n",
       "      </style>\n",
       "      <div class=\"floating-box\"><svg xmlns=\"http://www.w3.org/2000/svg\" xmlns:xlink=\"http://www.w3.org/1999/xlink\" width=\"118pt\" height=\"116pt\" viewBox=\"0.00 0.00 117.78 116.00\">\n",
       "<g id=\"graph0\" class=\"graph\" transform=\"scale(1 1) rotate(0) translate(4 112)\">\n",
       "<title>G</title>\n",
       "<!-- Smoking -->\n",
       "<g id=\"node1\" class=\"node\">\n",
       "<title>Smoking</title>\n",
       "<ellipse fill=\"#404040\" stroke=\"#4a4a4a\" cx=\"54.89\" cy=\"-90\" rx=\"54.89\" ry=\"18\"/>\n",
       "<text text-anchor=\"middle\" x=\"54.89\" y=\"-85.33\" font-family=\"Times,serif\" font-size=\"14.00\" fill=\"white\">Smoking</text>\n",
       "</g>\n",
       "<!-- Cancer -->\n",
       "<g id=\"node2\" class=\"node\">\n",
       "<title>Cancer</title>\n",
       "<ellipse fill=\"#404040\" stroke=\"#4a4a4a\" cx=\"54.89\" cy=\"-18\" rx=\"46.47\" ry=\"18\"/>\n",
       "<text text-anchor=\"middle\" x=\"54.89\" y=\"-13.32\" font-family=\"Times,serif\" font-size=\"14.00\" fill=\"white\">Cancer</text>\n",
       "</g>\n",
       "<!-- Smoking&#45;&gt;Cancer -->\n",
       "<g id=\"edge1\" class=\"edge\">\n",
       "<title>Smoking-&gt;Cancer</title>\n",
       "<path fill=\"none\" stroke=\"#4a4a4a\" d=\"M53.89,-71.7C53.89,-64.24 53.89,-55.32 53.89,-46.97\"/>\n",
       "<path fill=\"none\" stroke=\"#4a4a4a\" d=\"M55.89,-71.7C55.89,-64.24 55.89,-55.32 55.89,-46.97\"/>\n",
       "<polygon fill=\"#4a4a4a\" stroke=\"#4a4a4a\" points=\"58.39,-47.1 54.89,-37.1 51.39,-47.1 58.39,-47.1\"/>\n",
       "</g>\n",
       "</g>\n",
       "</svg><br><center><small><em>Causal Model</em></small></center></div><div class=\"floating-box\">$$\\begin{equation*}P( Cancer \\mid \\hookrightarrow\\mkern-6.5muSmoking) = P\\left(Cancer\\mid Smoking\\right)\\end{equation*}$$<br><center><small><em>Explanation : Do-calculus computations</em></small></center></div><div class=\"floating-box\"><table style=\"border:1px solid black;\">\n",
       "<tr style='border:1px solid black;color:black;background-color:#808080'>\n",
       "      <th colspan='2'><center>Cancer</center></th></tr>\n",
       "<tr><th style='border:1px solid black;border-bottom-style: double;color:black;background-color:#BBBBBB'>\n",
       "      <center>0</center></th><th style='border:1px solid black;border-bottom-style: double;color:black;background-color:#BBBBBB'>\n",
       "      <center>1</center></th></tr>\n",
       "<tr><td style='color:black;background-color:#a5d864;text-align:right;'>0.7000</td><td style='color:black;background-color:#d8a564;text-align:right;'>0.3000</td></tr>\n",
       "</table><br><center><small><em>Impact</em></small></center></div>"
      ],
      "text/plain": [
       "<IPython.core.display.HTML object>"
      ]
     },
     "metadata": {},
     "output_type": "display_data"
    }
   ],
   "source": [
    "# the Bayesian network is causal\n",
    "modele1=csl.CausalModel(obs1)\n",
    "\n",
    "cslnb.showCausalImpact(modele1,\"Cancer\", \"Smoking\", values={\"Smoking\":1})\n"
   ]
  },
  {
   "cell_type": "markdown",
   "metadata": {},
   "source": [
    "## Latent confounder between Smoking and Cancer"
   ]
  },
  {
   "cell_type": "markdown",
   "metadata": {},
   "source": [
    "This model is highly contested by the tobacco industry which answers by proposing a different model in which Smoking and Cancer are simultaneously provoked by a common factor, the Genotype (or other latent variable) :"
   ]
  },
  {
   "cell_type": "code",
   "execution_count": 3,
   "metadata": {
    "ExecuteTime": {
     "end_time": "2019-02-25T17:36:01.212760Z",
     "start_time": "2019-02-25T17:35:59.140887Z"
    },
    "execution": {
     "iopub.execute_input": "2023-07-25T08:46:36.384553Z",
     "iopub.status.busy": "2023-07-25T08:46:36.384138Z",
     "iopub.status.idle": "2023-07-25T08:46:36.467172Z",
     "shell.execute_reply": "2023-07-25T08:46:36.466001Z",
     "shell.execute_reply.started": "2023-07-25T08:46:36.384515Z"
    }
   },
   "outputs": [
    {
     "data": {
      "text/html": [
       "\n",
       "      <style>\n",
       "      .floating-box {\n",
       "      display: inline-block;\n",
       "      margin: 7px;\n",
       "      padding : 3px;\n",
       "      border: 0px solid transparent;  \n",
       "      valign:middle;\n",
       "      background-color: transparent;\n",
       "      }\n",
       "      </style>\n",
       "      <div class=\"floating-box\"><svg xmlns=\"http://www.w3.org/2000/svg\" xmlns:xlink=\"http://www.w3.org/1999/xlink\" width=\"180pt\" height=\"66pt\" viewBox=\"0.00 0.00 180.00 65.89\">\n",
       "<g id=\"graph0\" class=\"graph\" transform=\"scale(0.788216 0.788216) rotate(0) translate(4 79.6)\">\n",
       "<title>G</title>\n",
       "<!-- Genotype -->\n",
       "<g id=\"node1\" class=\"node\">\n",
       "<title>Genotype</title>\n",
       "<ellipse fill=\"#404040\" stroke=\"#4a4a4a\" cx=\"113.89\" cy=\"-73.8\" rx=\"1.8\" ry=\"1.8\"/>\n",
       "</g>\n",
       "<!-- Smoking -->\n",
       "<g id=\"node2\" class=\"node\">\n",
       "<title>Smoking</title>\n",
       "<ellipse fill=\"#404040\" stroke=\"#4a4a4a\" cx=\"54.89\" cy=\"-18\" rx=\"54.89\" ry=\"18\"/>\n",
       "<text text-anchor=\"middle\" x=\"54.89\" y=\"-13.32\" font-family=\"Times,serif\" font-size=\"14.00\" fill=\"white\">Smoking</text>\n",
       "</g>\n",
       "<!-- Genotype&#45;&gt;Smoking -->\n",
       "<g id=\"edge1\" class=\"edge\">\n",
       "<title>Genotype-&gt;Smoking</title>\n",
       "<path fill=\"none\" stroke=\"#4a4a4a\" stroke-dasharray=\"5,2\" d=\"M112.87,-71.87C108.93,-68.27 94.29,-54.93 80.71,-42.54\"/>\n",
       "<polygon fill=\"#4a4a4a\" stroke=\"#4a4a4a\" points=\"83.67,-40.6 73.92,-36.44 78.95,-45.77 83.67,-40.6\"/>\n",
       "</g>\n",
       "<!-- Cancer -->\n",
       "<g id=\"node3\" class=\"node\">\n",
       "<title>Cancer</title>\n",
       "<ellipse fill=\"#404040\" stroke=\"#4a4a4a\" cx=\"173.89\" cy=\"-18\" rx=\"46.47\" ry=\"18\"/>\n",
       "<text text-anchor=\"middle\" x=\"173.89\" y=\"-13.32\" font-family=\"Times,serif\" font-size=\"14.00\" fill=\"white\">Cancer</text>\n",
       "</g>\n",
       "<!-- Genotype&#45;&gt;Cancer -->\n",
       "<g id=\"edge2\" class=\"edge\">\n",
       "<title>Genotype-&gt;Cancer</title>\n",
       "<path fill=\"none\" stroke=\"#4a4a4a\" stroke-dasharray=\"5,2\" d=\"M114.93,-71.87C118.99,-68.23 134.21,-54.58 148.17,-42.06\"/>\n",
       "<polygon fill=\"#4a4a4a\" stroke=\"#4a4a4a\" points=\"150.04,-45.19 155.15,-35.91 145.37,-39.98 150.04,-45.19\"/>\n",
       "</g>\n",
       "</g>\n",
       "</svg><br><center><small><em>Causal Model</em></small></center></div><div class=\"floating-box\">$$\\begin{equation*}P( Cancer \\mid \\hookrightarrow\\mkern-6.5muSmoking) = P\\left(Cancer\\right)\\end{equation*}$$<br><center><small><em>Explanation : No causal effect of X on Y, because they are d-separated (conditioning on the observed variables if any).</em></small></center></div><div class=\"floating-box\"><table style=\"border:1px solid black;\">\n",
       "<tr style='border:1px solid black;color:black;background-color:#808080'>\n",
       "      <th colspan='2'><center>Cancer</center></th></tr>\n",
       "<tr><th style='border:1px solid black;border-bottom-style: double;color:black;background-color:#BBBBBB'>\n",
       "      <center>0</center></th><th style='border:1px solid black;border-bottom-style: double;color:black;background-color:#BBBBBB'>\n",
       "      <center>1</center></th></tr>\n",
       "<tr><td style='color:black;background-color:#96e764;text-align:right;'>0.8200</td><td style='color:black;background-color:#e79664;text-align:right;'>0.1800</td></tr>\n",
       "</table><br><center><small><em>Impact</em></small></center></div>"
      ],
      "text/plain": [
       "<IPython.core.display.HTML object>"
      ]
     },
     "metadata": {},
     "output_type": "display_data"
    }
   ],
   "source": [
    "# a latent varible exists between Smoking and Cancer in the causal model\n",
    "modele2 = csl.CausalModel(obs1, [(\"Genotype\", [\"Smoking\",\"Cancer\"])])\n",
    "\n",
    "cslnb.showCausalImpact(modele2, \"Cancer\", \"Smoking\",values={\"Smoking\":1})\n"
   ]
  },
  {
   "cell_type": "code",
   "execution_count": 4,
   "metadata": {
    "ExecuteTime": {
     "end_time": "2019-02-25T17:36:01.223809Z",
     "start_time": "2019-02-25T17:36:01.218241Z"
    },
    "execution": {
     "iopub.execute_input": "2023-07-25T08:46:36.469135Z",
     "iopub.status.busy": "2023-07-25T08:46:36.468698Z",
     "iopub.status.idle": "2023-07-25T08:46:36.476511Z",
     "shell.execute_reply": "2023-07-25T08:46:36.475460Z",
     "shell.execute_reply.started": "2023-07-25T08:46:36.469096Z"
    }
   },
   "outputs": [
    {
     "data": {
      "text/html": [
       "<table style=\"border:1px solid black;\">\n",
       "<tr style='border:1px solid black;color:black;background-color:#808080'>\n",
       "      <th colspan='2'><center>Cancer</center></th></tr>\n",
       "<tr><th style='border:1px solid black;border-bottom-style: double;color:black;background-color:#BBBBBB'>\n",
       "      <center>0</center></th><th style='border:1px solid black;border-bottom-style: double;color:black;background-color:#BBBBBB'>\n",
       "      <center>1</center></th></tr>\n",
       "<tr><td style='color:black;background-color:#96e764;text-align:right;'>0.8200</td><td style='color:black;background-color:#e79664;text-align:right;'>0.1800</td></tr>\n",
       "</table>"
      ],
      "text/plain": [
       "(pyAgrum.Potential<double>@0x5642b49a10d0) \n",
       "  Cancer           |\n",
       "0        |1        |\n",
       "---------|---------|\n",
       " 0.8200  | 0.1800  |"
      ]
     },
     "execution_count": 4,
     "metadata": {},
     "output_type": "execute_result"
    }
   ],
   "source": [
    "# just check P(Cancer) in the bn `obs1`\n",
    "(obs1.cpt(\"Smoking\")*obs1.cpt(\"Cancer\")).margSumIn([\"Cancer\"])\n"
   ]
  },
  {
   "cell_type": "markdown",
   "metadata": {},
   "source": [
    "## Confounder and direct causality"
   ]
  },
  {
   "cell_type": "markdown",
   "metadata": {},
   "source": [
    "In a diplomatic effort, both parts agree that there must be some truth in both models :"
   ]
  },
  {
   "cell_type": "code",
   "execution_count": 5,
   "metadata": {
    "ExecuteTime": {
     "end_time": "2019-02-25T17:36:03.359411Z",
     "start_time": "2019-02-25T17:36:01.226839Z"
    },
    "execution": {
     "iopub.execute_input": "2023-07-25T08:46:36.478294Z",
     "iopub.status.busy": "2023-07-25T08:46:36.477761Z",
     "iopub.status.idle": "2023-07-25T08:46:36.627886Z",
     "shell.execute_reply": "2023-07-25T08:46:36.626893Z",
     "shell.execute_reply.started": "2023-07-25T08:46:36.478258Z"
    }
   },
   "outputs": [
    {
     "data": {
      "text/html": [
       "\n",
       "      <style>\n",
       "      .floating-box {\n",
       "      display: inline-block;\n",
       "      margin: 7px;\n",
       "      padding : 3px;\n",
       "      border: 0px solid transparent;  \n",
       "      valign:middle;\n",
       "      background-color: transparent;\n",
       "      }\n",
       "      </style>\n",
       "      <div class=\"floating-box\"><svg xmlns=\"http://www.w3.org/2000/svg\" xmlns:xlink=\"http://www.w3.org/1999/xlink\" width=\"150pt\" height=\"156pt\" viewBox=\"0.00 0.00 150.36 155.60\">\n",
       "<g id=\"graph0\" class=\"graph\" transform=\"scale(1 1) rotate(0) translate(4 151.6)\">\n",
       "<title>G</title>\n",
       "<!-- Genotype -->\n",
       "<g id=\"node1\" class=\"node\">\n",
       "<title>Genotype</title>\n",
       "<ellipse fill=\"#404040\" stroke=\"#4a4a4a\" cx=\"95.89\" cy=\"-145.8\" rx=\"1.8\" ry=\"1.8\"/>\n",
       "</g>\n",
       "<!-- Smoking -->\n",
       "<g id=\"node2\" class=\"node\">\n",
       "<title>Smoking</title>\n",
       "<ellipse fill=\"#404040\" stroke=\"#4a4a4a\" cx=\"54.89\" cy=\"-90\" rx=\"54.89\" ry=\"18\"/>\n",
       "<text text-anchor=\"middle\" x=\"54.89\" y=\"-85.33\" font-family=\"Times,serif\" font-size=\"14.00\" fill=\"white\">Smoking</text>\n",
       "</g>\n",
       "<!-- Genotype&#45;&gt;Smoking -->\n",
       "<g id=\"edge2\" class=\"edge\">\n",
       "<title>Genotype-&gt;Smoking</title>\n",
       "<path fill=\"none\" stroke=\"#4a4a4a\" stroke-dasharray=\"5,2\" d=\"M95.18,-143.87C92.58,-140.45 83.27,-128.23 74.25,-116.4\"/>\n",
       "<polygon fill=\"#4a4a4a\" stroke=\"#4a4a4a\" points=\"76.68,-114.82 67.84,-108.99 71.11,-119.06 76.68,-114.82\"/>\n",
       "</g>\n",
       "<!-- Cancer -->\n",
       "<g id=\"node3\" class=\"node\">\n",
       "<title>Cancer</title>\n",
       "<ellipse fill=\"#404040\" stroke=\"#4a4a4a\" cx=\"95.89\" cy=\"-18\" rx=\"46.47\" ry=\"18\"/>\n",
       "<text text-anchor=\"middle\" x=\"95.89\" y=\"-13.32\" font-family=\"Times,serif\" font-size=\"14.00\" fill=\"white\">Cancer</text>\n",
       "</g>\n",
       "<!-- Genotype&#45;&gt;Cancer -->\n",
       "<g id=\"edge3\" class=\"edge\">\n",
       "<title>Genotype-&gt;Cancer</title>\n",
       "<path fill=\"none\" stroke=\"#4a4a4a\" stroke-dasharray=\"5,2\" d=\"M96.86,-143.77C100.62,-139.66 114.32,-123.93 118.89,-108 124.89,-87.1 117.98,-63.23 110.21,-45.48\"/>\n",
       "<polygon fill=\"#4a4a4a\" stroke=\"#4a4a4a\" points=\"113.07,-44.34 105.63,-36.8 106.75,-47.34 113.07,-44.34\"/>\n",
       "</g>\n",
       "<!-- Smoking&#45;&gt;Cancer -->\n",
       "<g id=\"edge1\" class=\"edge\">\n",
       "<title>Smoking-&gt;Cancer</title>\n",
       "<path fill=\"none\" stroke=\"#4a4a4a\" d=\"M63.95,-71.55C68.69,-63.47 74.46,-53.62 79.73,-44.61\"/>\n",
       "<path fill=\"none\" stroke=\"#4a4a4a\" d=\"M65.68,-72.56C70.41,-64.48 76.18,-54.63 81.46,-45.62\"/>\n",
       "<polygon fill=\"#4a4a4a\" stroke=\"#4a4a4a\" points=\"84.02,-47.19 86.06,-36.79 77.98,-43.65 84.02,-47.19\"/>\n",
       "</g>\n",
       "</g>\n",
       "</svg><br><center><small><em>Causal Model</em></small></center></div><div class=\"floating-box\">Hedge Error: G={'Smoking', 'Cancer'}, G[S]={'Cancer'}<br><center><small><em>Impossible</em></small></center></div><div class=\"floating-box\">No result<br><center><small><em>Impact</em></small></center></div>"
      ],
      "text/plain": [
       "<IPython.core.display.HTML object>"
      ]
     },
     "metadata": {},
     "output_type": "display_data"
    }
   ],
   "source": [
    "# a latent variable exists between Smoking and Cancer but the direct causal relation exists also\n",
    "modele3 = csl.CausalModel(obs1, [(\"Genotype\", [\"Smoking\",\"Cancer\"])], True)\n",
    "\n",
    "cslnb.showCausalImpact(modele3, \"Cancer\", \"Smoking\",values={\"Smoking\":1})\n"
   ]
  },
  {
   "cell_type": "markdown",
   "metadata": {},
   "source": [
    "Smoking's causal effect on Cancer becomes uncomputable in such a model because we can't distinguish both causes' impact from the observations."
   ]
  },
  {
   "cell_type": "markdown",
   "metadata": {},
   "source": [
    "## A intermediary observed variable\n",
    "We introduce an auxilary factor between Smoking and Cancer, tobacco causes cancer because of the tar deposits in the lungs."
   ]
  },
  {
   "cell_type": "code",
   "execution_count": 6,
   "metadata": {
    "ExecuteTime": {
     "end_time": "2019-02-25T17:36:05.529750Z",
     "start_time": "2019-02-25T17:36:03.361730Z"
    },
    "execution": {
     "iopub.execute_input": "2023-07-25T08:46:36.629704Z",
     "iopub.status.busy": "2023-07-25T08:46:36.629308Z",
     "iopub.status.idle": "2023-07-25T08:46:36.713639Z",
     "shell.execute_reply": "2023-07-25T08:46:36.712470Z",
     "shell.execute_reply.started": "2023-07-25T08:46:36.629665Z"
    }
   },
   "outputs": [
    {
     "data": {
      "text/html": [
       "\n",
       "      <style>\n",
       "      .floating-box {\n",
       "      display: inline-block;\n",
       "      margin: 7px;\n",
       "      padding : 3px;\n",
       "      border: 0px solid transparent;  \n",
       "      valign:middle;\n",
       "      background-color: transparent;\n",
       "      }\n",
       "      </style>\n",
       "      <div class=\"floating-box\"><svg xmlns=\"http://www.w3.org/2000/svg\" xmlns:xlink=\"http://www.w3.org/1999/xlink\" width=\"118pt\" height=\"188pt\" viewBox=\"0.00 0.00 118.42 188.00\">\n",
       "<g id=\"graph0\" class=\"graph\" transform=\"scale(1 1) rotate(0) translate(4 184)\">\n",
       "<title>G</title>\n",
       "<!-- Smoking -->\n",
       "<g id=\"node1\" class=\"node\">\n",
       "<title>Smoking</title>\n",
       "<g id=\"a_node1\"><a xlink:title=\"(0) Smoking\">\n",
       "<ellipse fill=\"#404040\" stroke=\"black\" cx=\"55.53\" cy=\"-162\" rx=\"54.89\" ry=\"18\"/>\n",
       "<text text-anchor=\"middle\" x=\"55.53\" y=\"-157.32\" font-family=\"Times,serif\" font-size=\"14.00\" fill=\"white\">Smoking</text>\n",
       "</a>\n",
       "</g>\n",
       "</g>\n",
       "<!-- Tar -->\n",
       "<g id=\"node2\" class=\"node\">\n",
       "<title>Tar</title>\n",
       "<g id=\"a_node2\"><a xlink:title=\"(1) Tar\">\n",
       "<ellipse fill=\"#404040\" stroke=\"black\" cx=\"27.53\" cy=\"-90\" rx=\"27.53\" ry=\"18\"/>\n",
       "<text text-anchor=\"middle\" x=\"27.53\" y=\"-85.33\" font-family=\"Times,serif\" font-size=\"14.00\" fill=\"white\">Tar</text>\n",
       "</a>\n",
       "</g>\n",
       "</g>\n",
       "<!-- Smoking&#45;&gt;Tar -->\n",
       "<g id=\"edge1\" class=\"edge\">\n",
       "<title>Smoking-&gt;Tar</title>\n",
       "<g id=\"a_edge1\"><a xlink:title=\"0 → 1\">\n",
       "<path fill=\"none\" stroke=\"#4a4a4a\" d=\"M48.61,-143.7C45.48,-135.87 41.71,-126.44 38.22,-117.73\"/>\n",
       "<polygon fill=\"#4a4a4a\" stroke=\"#4a4a4a\" points=\"41.15,-116.61 34.18,-108.62 34.65,-119.21 41.15,-116.61\"/>\n",
       "</a>\n",
       "</g>\n",
       "</g>\n",
       "<!-- Cancer -->\n",
       "<g id=\"node3\" class=\"node\">\n",
       "<title>Cancer</title>\n",
       "<g id=\"a_node3\"><a xlink:title=\"(2) Cancer\">\n",
       "<ellipse fill=\"#404040\" stroke=\"black\" cx=\"55.53\" cy=\"-18\" rx=\"46.47\" ry=\"18\"/>\n",
       "<text text-anchor=\"middle\" x=\"55.53\" y=\"-13.32\" font-family=\"Times,serif\" font-size=\"14.00\" fill=\"white\">Cancer</text>\n",
       "</a>\n",
       "</g>\n",
       "</g>\n",
       "<!-- Smoking&#45;&gt;Cancer -->\n",
       "<g id=\"edge2\" class=\"edge\">\n",
       "<title>Smoking-&gt;Cancer</title>\n",
       "<g id=\"a_edge2\"><a xlink:title=\"0 → 2\">\n",
       "<path fill=\"none\" stroke=\"#4a4a4a\" d=\"M59.19,-143.91C61.21,-133.57 63.51,-120.09 64.53,-108 65.88,-92.06 65.88,-87.94 64.53,-72 63.84,-63.78 62.55,-54.92 61.17,-46.85\"/>\n",
       "<polygon fill=\"#4a4a4a\" stroke=\"#4a4a4a\" points=\"64.44,-46.29 59.19,-37.09 57.55,-47.56 64.44,-46.29\"/>\n",
       "</a>\n",
       "</g>\n",
       "</g>\n",
       "<!-- Tar&#45;&gt;Cancer -->\n",
       "<g id=\"edge3\" class=\"edge\">\n",
       "<title>Tar-&gt;Cancer</title>\n",
       "<g id=\"a_edge3\"><a xlink:title=\"1 → 2\">\n",
       "<path fill=\"none\" stroke=\"#4a4a4a\" d=\"M34.31,-72.05C37.39,-64.35 41.12,-55.03 44.59,-46.36\"/>\n",
       "<polygon fill=\"#4a4a4a\" stroke=\"#4a4a4a\" points=\"48.16,-47.86 48.62,-37.28 41.66,-45.26 48.16,-47.86\"/>\n",
       "</a>\n",
       "</g>\n",
       "</g>\n",
       "</g>\n",
       "</svg></div><div class=\"floating-box\"><table style=\"border:1px solid black;\">\n",
       "<tr style='border:1px solid black;color:black;background-color:#808080'>\n",
       "      <th colspan='2'><center>Smoking</center></th></tr>\n",
       "<tr><th style='border:1px solid black;border-bottom-style: double;color:black;background-color:#BBBBBB'>\n",
       "      <center>0</center></th><th style='border:1px solid black;border-bottom-style: double;color:black;background-color:#BBBBBB'>\n",
       "      <center>1</center></th></tr>\n",
       "<tr><td style='color:black;background-color:#b2cb64;text-align:right;'>0.6000</td><td style='color:black;background-color:#cbb264;text-align:right;'>0.4000</td></tr>\n",
       "</table><br><center><small><em>$P(Smoking)$</em></small></center></div><div class=\"floating-box\"><table style=\"border:1px solid black;\">\n",
       "<tr><th colspan='1'></th>\n",
       "      <th colspan='2' style='border:1px solid black;color:black;background-color:#808080;'><center>Tar</center>\n",
       "      </th></tr>\n",
       "<tr><th style='border:1px solid black;color:black;background-color:#808080'><center>Smoking</center></th><th style='border:1px solid black;border-bottom-style: double;color:black;background-color:#BBBBBB'>\n",
       "      <center>0</center></th><th style='border:1px solid black;border-bottom-style: double;color:black;background-color:#BBBBBB'>\n",
       "      <center>1</center></th></tr>\n",
       "<tr><th style='border:1px solid black;color:black;background-color:#BBBBBB'><center>0</center></th><td style='color:black;background-color:#8bf264;text-align:right;'>0.9000</td><td style='color:black;background-color:#f28b64;text-align:right;'>0.1000</td></tr>\n",
       "<tr><th style='border:1px solid black;color:black;background-color:#BBBBBB'><center>1</center></th><td style='color:black;background-color:#a5d864;text-align:right;'>0.7000</td><td style='color:black;background-color:#d8a564;text-align:right;'>0.3000</td></tr>\n",
       "</table><br><center><small><em>$P(Tar|Smoking)$</em></small></center></div><div class=\"floating-box\"><table style=\"border:1px solid black;\">\n",
       "<tr><th colspan='2'></th>\n",
       "      <th colspan='2' style='border:1px solid black;color:black;background-color:#808080;'><center>Cancer</center>\n",
       "      </th></tr>\n",
       "<tr><th style='border:1px solid black;color:black;background-color:#808080'><center>Smoking</center></th><th style='border:1px solid black;color:black;background-color:#808080'><center>Tar</center></th><th style='border:1px solid black;border-bottom-style: double;color:black;background-color:#BBBBBB'>\n",
       "      <center>0</center></th><th style='border:1px solid black;border-bottom-style: double;color:black;background-color:#BBBBBB'>\n",
       "      <center>1</center></th></tr>\n",
       "<tr><th style='border:1px solid black;color:black;background-color:#BBBBBB;' rowspan = '2'>\n",
       "            <center>0</center></th><th style='border:1px solid black;color:black;background-color:#BBBBBB'><center>0</center></th><td style='color:black;background-color:#8bf264;text-align:right;'>0.9000</td><td style='color:black;background-color:#f28b64;text-align:right;'>0.1000</td></tr>\n",
       "<tr><th style='border:1px solid black;color:black;background-color:#BBBBBB'><center>1</center></th><td style='color:black;background-color:#98e564;text-align:right;'>0.8000</td><td style='color:black;background-color:#e59864;text-align:right;'>0.2000</td></tr>\n",
       "<tr><th style='border:1px solid black;color:black;background-color:#BBBBBB;' rowspan = '2'>\n",
       "            <center>1</center></th><th style='border:1px solid black;color:black;background-color:#BBBBBB'><center>0</center></th><td style='color:black;background-color:#a5d864;text-align:right;'>0.7000</td><td style='color:black;background-color:#d8a564;text-align:right;'>0.3000</td></tr>\n",
       "<tr><th style='border:1px solid black;color:black;background-color:#BBBBBB'><center>1</center></th><td style='color:black;background-color:#b2cb64;text-align:right;'>0.6000</td><td style='color:black;background-color:#cbb264;text-align:right;'>0.4000</td></tr>\n",
       "</table><br><center><small><em>$P(Cancer|Tar,Smoking)$</em></small></center></div>"
      ],
      "text/plain": [
       "<IPython.core.display.HTML object>"
      ]
     },
     "metadata": {},
     "output_type": "display_data"
    }
   ],
   "source": [
    "obs2 = gum.fastBN(\"Smoking->Tar->Cancer;Smoking->Cancer\")\n",
    "\n",
    "obs2.cpt(\"Smoking\")[:] = [0.6, 0.4]\n",
    "obs2.cpt(\"Tar\")[{\"Smoking\": 0}] = [0.9, 0.1]\n",
    "obs2.cpt(\"Tar\")[{\"Smoking\": 1}] = [0.7, 0.3]\n",
    "obs2.cpt(\"Cancer\")[{\"Tar\": 0, \"Smoking\": 0}] = [0.9, 0.1]\n",
    "obs2.cpt(\"Cancer\")[{\"Tar\": 1, \"Smoking\": 0}] = [0.8, 0.2]\n",
    "obs2.cpt(\"Cancer\")[{\"Tar\": 0, \"Smoking\": 1}] = [0.7, 0.3]\n",
    "obs2.cpt(\"Cancer\")[{\"Tar\": 1, \"Smoking\": 1}] = [0.6, 0.4]\n",
    "\n",
    "gnb.flow.row(obs2,obs2.cpt(\"Smoking\"),obs2.cpt(\"Tar\"),obs2.cpt(\"Cancer\"),\n",
    "               captions=[\"\",\"$P(Smoking)$\",\"$P(Tar|Smoking)$\",\"$P(Cancer|Tar,Smoking)$\"])\n"
   ]
  },
  {
   "cell_type": "code",
   "execution_count": 7,
   "metadata": {
    "ExecuteTime": {
     "end_time": "2019-02-25T17:36:07.761131Z",
     "start_time": "2019-02-25T17:36:05.531917Z"
    },
    "execution": {
     "iopub.execute_input": "2023-07-25T08:46:36.717651Z",
     "iopub.status.busy": "2023-07-25T08:46:36.717251Z",
     "iopub.status.idle": "2023-07-25T08:46:36.722710Z",
     "shell.execute_reply": "2023-07-25T08:46:36.721853Z",
     "shell.execute_reply.started": "2023-07-25T08:46:36.717614Z"
    },
    "tags": []
   },
   "outputs": [],
   "source": [
    "modele4 = csl.CausalModel(obs2, [(\"Genotype\", [\"Smoking\",\"Cancer\"])])"
   ]
  },
  {
   "cell_type": "code",
   "execution_count": 8,
   "metadata": {
    "ExecuteTime": {
     "end_time": "2019-02-25T17:36:07.761131Z",
     "start_time": "2019-02-25T17:36:05.531917Z"
    },
    "execution": {
     "iopub.execute_input": "2023-07-25T08:46:36.724203Z",
     "iopub.status.busy": "2023-07-25T08:46:36.723868Z",
     "iopub.status.idle": "2023-07-25T08:46:36.865974Z",
     "shell.execute_reply": "2023-07-25T08:46:36.864865Z",
     "shell.execute_reply.started": "2023-07-25T08:46:36.724171Z"
    },
    "tags": [
     "nbsphinx-thumbnail"
    ]
   },
   "outputs": [
    {
     "data": {
      "image/svg+xml": [
       "<svg xmlns=\"http://www.w3.org/2000/svg\" xmlns:xlink=\"http://www.w3.org/1999/xlink\" width=\"120pt\" height=\"180pt\" viewBox=\"0.00 0.00 119.71 180.00\">\n",
       "<g id=\"graph0\" class=\"graph\" transform=\"scale(0.790861 0.790861) rotate(0) translate(4 223.6)\">\n",
       "<title>G</title>\n",
       "<!-- Genotype -->\n",
       "<g id=\"node1\" class=\"node\">\n",
       "<title>Genotype</title>\n",
       "<ellipse fill=\"#404040\" stroke=\"#4a4a4a\" cx=\"95.89\" cy=\"-217.8\" rx=\"1.8\" ry=\"1.8\"/>\n",
       "</g>\n",
       "<!-- Smoking -->\n",
       "<g id=\"node2\" class=\"node\">\n",
       "<title>Smoking</title>\n",
       "<ellipse fill=\"#404040\" stroke=\"#4a4a4a\" cx=\"54.89\" cy=\"-162\" rx=\"54.89\" ry=\"18\"/>\n",
       "<text text-anchor=\"middle\" x=\"54.89\" y=\"-157.32\" font-family=\"Times,serif\" font-size=\"14.00\" fill=\"white\">Smoking</text>\n",
       "</g>\n",
       "<!-- Genotype&#45;&gt;Smoking -->\n",
       "<g id=\"edge4\" class=\"edge\">\n",
       "<title>Genotype-&gt;Smoking</title>\n",
       "<path fill=\"none\" stroke=\"#4a4a4a\" stroke-dasharray=\"5,2\" d=\"M95.18,-215.87C92.58,-212.45 83.27,-200.23 74.25,-188.4\"/>\n",
       "<polygon fill=\"#4a4a4a\" stroke=\"#4a4a4a\" points=\"76.68,-186.82 67.84,-180.99 71.11,-191.06 76.68,-186.82\"/>\n",
       "</g>\n",
       "<!-- Cancer -->\n",
       "<g id=\"node4\" class=\"node\">\n",
       "<title>Cancer</title>\n",
       "<ellipse fill=\"#404040\" stroke=\"#4a4a4a\" cx=\"96.89\" cy=\"-18\" rx=\"46.47\" ry=\"18\"/>\n",
       "<text text-anchor=\"middle\" x=\"96.89\" y=\"-13.32\" font-family=\"Times,serif\" font-size=\"14.00\" fill=\"white\">Cancer</text>\n",
       "</g>\n",
       "<!-- Genotype&#45;&gt;Cancer -->\n",
       "<g id=\"edge2\" class=\"edge\">\n",
       "<title>Genotype-&gt;Cancer</title>\n",
       "<path fill=\"none\" stroke=\"#4a4a4a\" stroke-dasharray=\"5,2\" d=\"M96.86,-215.77C100.62,-211.66 114.32,-195.93 118.89,-180 132.03,-134.2 118.25,-78.75 107.36,-46.32\"/>\n",
       "<polygon fill=\"#4a4a4a\" stroke=\"#4a4a4a\" points=\"110.44,-45.53 103.82,-37.25 103.83,-47.85 110.44,-45.53\"/>\n",
       "</g>\n",
       "<!-- Tar -->\n",
       "<g id=\"node3\" class=\"node\">\n",
       "<title>Tar</title>\n",
       "<ellipse fill=\"#404040\" stroke=\"#4a4a4a\" cx=\"68.89\" cy=\"-90\" rx=\"27.53\" ry=\"18\"/>\n",
       "<text text-anchor=\"middle\" x=\"68.89\" y=\"-85.33\" font-family=\"Times,serif\" font-size=\"14.00\" fill=\"white\">Tar</text>\n",
       "</g>\n",
       "<!-- Smoking&#45;&gt;Tar -->\n",
       "<g id=\"edge1\" class=\"edge\">\n",
       "<title>Smoking-&gt;Tar</title>\n",
       "<path fill=\"none\" stroke=\"#4a4a4a\" d=\"M57.37,-143.5C58.88,-135.96 60.69,-126.92 62.37,-118.48\"/>\n",
       "<path fill=\"none\" stroke=\"#4a4a4a\" d=\"M59.33,-143.89C60.84,-136.35 62.65,-127.32 64.34,-118.88\"/>\n",
       "<polygon fill=\"#4a4a4a\" stroke=\"#4a4a4a\" points=\"66.94,-119.6 65.47,-109.1 60.08,-118.22 66.94,-119.6\"/>\n",
       "</g>\n",
       "<!-- Tar&#45;&gt;Cancer -->\n",
       "<g id=\"edge3\" class=\"edge\">\n",
       "<title>Tar-&gt;Cancer</title>\n",
       "<path fill=\"none\" stroke=\"#4a4a4a\" d=\"M74.74,-71.68C77.82,-63.97 81.55,-54.66 85.02,-45.99\"/>\n",
       "<path fill=\"none\" stroke=\"#4a4a4a\" d=\"M76.6,-72.43C79.68,-64.72 83.41,-55.4 86.87,-46.74\"/>\n",
       "<polygon fill=\"#4a4a4a\" stroke=\"#4a4a4a\" points=\"89.52,-47.86 89.98,-37.28 83.02,-45.26 89.52,-47.86\"/>\n",
       "</g>\n",
       "</g>\n",
       "</svg>"
      ],
      "text/plain": [
       "<IPython.core.display.SVG object>"
      ]
     },
     "metadata": {},
     "output_type": "display_data"
    }
   ],
   "source": [
    "cslnb.showCausalModel(modele4)"
   ]
  },
  {
   "cell_type": "code",
   "execution_count": 9,
   "metadata": {
    "ExecuteTime": {
     "end_time": "2019-02-25T17:36:07.761131Z",
     "start_time": "2019-02-25T17:36:05.531917Z"
    },
    "execution": {
     "iopub.execute_input": "2023-07-25T08:46:36.867165Z",
     "iopub.status.busy": "2023-07-25T08:46:36.866933Z",
     "iopub.status.idle": "2023-07-25T08:46:36.986794Z",
     "shell.execute_reply": "2023-07-25T08:46:36.985839Z",
     "shell.execute_reply.started": "2023-07-25T08:46:36.867144Z"
    },
    "tags": []
   },
   "outputs": [
    {
     "data": {
      "text/html": [
       "\n",
       "      <style>\n",
       "      .floating-box {\n",
       "      display: inline-block;\n",
       "      margin: 7px;\n",
       "      padding : 3px;\n",
       "      border: 0px solid transparent;  \n",
       "      valign:middle;\n",
       "      background-color: transparent;\n",
       "      }\n",
       "      </style>\n",
       "      <div class=\"floating-box\"><svg xmlns=\"http://www.w3.org/2000/svg\" xmlns:xlink=\"http://www.w3.org/1999/xlink\" width=\"120pt\" height=\"180pt\" viewBox=\"0.00 0.00 119.71 180.00\">\n",
       "<g id=\"graph0\" class=\"graph\" transform=\"scale(0.790861 0.790861) rotate(0) translate(4 223.6)\">\n",
       "<title>G</title>\n",
       "<!-- Genotype -->\n",
       "<g id=\"node1\" class=\"node\">\n",
       "<title>Genotype</title>\n",
       "<ellipse fill=\"#404040\" stroke=\"#4a4a4a\" cx=\"95.89\" cy=\"-217.8\" rx=\"1.8\" ry=\"1.8\"/>\n",
       "</g>\n",
       "<!-- Smoking -->\n",
       "<g id=\"node2\" class=\"node\">\n",
       "<title>Smoking</title>\n",
       "<ellipse fill=\"#404040\" stroke=\"#4a4a4a\" cx=\"54.89\" cy=\"-162\" rx=\"54.89\" ry=\"18\"/>\n",
       "<text text-anchor=\"middle\" x=\"54.89\" y=\"-157.32\" font-family=\"Times,serif\" font-size=\"14.00\" fill=\"white\">Smoking</text>\n",
       "</g>\n",
       "<!-- Genotype&#45;&gt;Smoking -->\n",
       "<g id=\"edge4\" class=\"edge\">\n",
       "<title>Genotype-&gt;Smoking</title>\n",
       "<path fill=\"none\" stroke=\"#4a4a4a\" stroke-dasharray=\"5,2\" d=\"M95.18,-215.87C92.58,-212.45 83.27,-200.23 74.25,-188.4\"/>\n",
       "<polygon fill=\"#4a4a4a\" stroke=\"#4a4a4a\" points=\"76.68,-186.82 67.84,-180.99 71.11,-191.06 76.68,-186.82\"/>\n",
       "</g>\n",
       "<!-- Cancer -->\n",
       "<g id=\"node4\" class=\"node\">\n",
       "<title>Cancer</title>\n",
       "<ellipse fill=\"#404040\" stroke=\"#4a4a4a\" cx=\"96.89\" cy=\"-18\" rx=\"46.47\" ry=\"18\"/>\n",
       "<text text-anchor=\"middle\" x=\"96.89\" y=\"-13.32\" font-family=\"Times,serif\" font-size=\"14.00\" fill=\"white\">Cancer</text>\n",
       "</g>\n",
       "<!-- Genotype&#45;&gt;Cancer -->\n",
       "<g id=\"edge2\" class=\"edge\">\n",
       "<title>Genotype-&gt;Cancer</title>\n",
       "<path fill=\"none\" stroke=\"#4a4a4a\" stroke-dasharray=\"5,2\" d=\"M96.86,-215.77C100.62,-211.66 114.32,-195.93 118.89,-180 132.03,-134.2 118.25,-78.75 107.36,-46.32\"/>\n",
       "<polygon fill=\"#4a4a4a\" stroke=\"#4a4a4a\" points=\"110.44,-45.53 103.82,-37.25 103.83,-47.85 110.44,-45.53\"/>\n",
       "</g>\n",
       "<!-- Tar -->\n",
       "<g id=\"node3\" class=\"node\">\n",
       "<title>Tar</title>\n",
       "<ellipse fill=\"#404040\" stroke=\"#4a4a4a\" cx=\"68.89\" cy=\"-90\" rx=\"27.53\" ry=\"18\"/>\n",
       "<text text-anchor=\"middle\" x=\"68.89\" y=\"-85.33\" font-family=\"Times,serif\" font-size=\"14.00\" fill=\"white\">Tar</text>\n",
       "</g>\n",
       "<!-- Smoking&#45;&gt;Tar -->\n",
       "<g id=\"edge1\" class=\"edge\">\n",
       "<title>Smoking-&gt;Tar</title>\n",
       "<path fill=\"none\" stroke=\"#4a4a4a\" d=\"M57.37,-143.5C58.88,-135.96 60.69,-126.92 62.37,-118.48\"/>\n",
       "<path fill=\"none\" stroke=\"#4a4a4a\" d=\"M59.33,-143.89C60.84,-136.35 62.65,-127.32 64.34,-118.88\"/>\n",
       "<polygon fill=\"#4a4a4a\" stroke=\"#4a4a4a\" points=\"66.94,-119.6 65.47,-109.1 60.08,-118.22 66.94,-119.6\"/>\n",
       "</g>\n",
       "<!-- Tar&#45;&gt;Cancer -->\n",
       "<g id=\"edge3\" class=\"edge\">\n",
       "<title>Tar-&gt;Cancer</title>\n",
       "<path fill=\"none\" stroke=\"#4a4a4a\" d=\"M74.74,-71.68C77.82,-63.97 81.55,-54.66 85.02,-45.99\"/>\n",
       "<path fill=\"none\" stroke=\"#4a4a4a\" d=\"M76.6,-72.43C79.68,-64.72 83.41,-55.4 86.87,-46.74\"/>\n",
       "<polygon fill=\"#4a4a4a\" stroke=\"#4a4a4a\" points=\"89.52,-47.86 89.98,-37.28 83.02,-45.26 89.52,-47.86\"/>\n",
       "</g>\n",
       "</g>\n",
       "</svg><br><center><small><em>Causal Model</em></small></center></div><div class=\"floating-box\">$$\\begin{equation*}P( Cancer \\mid \\hookrightarrow\\mkern-6.5muSmoking) = \\sum_{Tar}{P\\left(Tar\\mid Smoking\\right) \\cdot \\left(\\sum_{Smoking'}{P\\left(Cancer\\mid Smoking',Tar\\right) \\cdot P\\left(Smoking'\\right)}\\right)}\\end{equation*}$$<br><center><small><em>Explanation : frontdoor ['Tar'] found.</em></small></center></div><div class=\"floating-box\"><table style=\"border:1px solid black;\">\n",
       "<tr style='border:1px solid black;color:black;background-color:#808080'>\n",
       "      <th colspan='2'><center>Cancer</center></th></tr>\n",
       "<tr><th style='border:1px solid black;border-bottom-style: double;color:black;background-color:#BBBBBB'>\n",
       "      <center>0</center></th><th style='border:1px solid black;border-bottom-style: double;color:black;background-color:#BBBBBB'>\n",
       "      <center>1</center></th></tr>\n",
       "<tr><td style='color:black;background-color:#99e464;text-align:right;'>0.7900</td><td style='color:black;background-color:#e49964;text-align:right;'>0.2100</td></tr>\n",
       "</table><br><center><small><em>Impact</em></small></center></div>"
      ],
      "text/plain": [
       "<IPython.core.display.HTML object>"
      ]
     },
     "metadata": {},
     "output_type": "display_data"
    }
   ],
   "source": [
    "cslnb.showCausalImpact(modele4, \"Cancer\", \"Smoking\",values={\"Smoking\":1})"
   ]
  },
  {
   "cell_type": "markdown",
   "metadata": {},
   "source": [
    "In this model, we are, again, able to calculate the causal impact of Smoking on Cancer thanks to the verification of the Frontdoor criterion by the Tar relatively to the couple (Smoking, Cancer)"
   ]
  },
  {
   "cell_type": "code",
   "execution_count": 10,
   "metadata": {
    "ExecuteTime": {
     "end_time": "2019-02-25T17:36:07.771770Z",
     "start_time": "2019-02-25T17:36:07.763602Z"
    },
    "execution": {
     "iopub.execute_input": "2023-07-25T08:46:36.989006Z",
     "iopub.status.busy": "2023-07-25T08:46:36.988216Z",
     "iopub.status.idle": "2023-07-25T08:46:36.997788Z",
     "shell.execute_reply": "2023-07-25T08:46:36.996857Z",
     "shell.execute_reply.started": "2023-07-25T08:46:36.988956Z"
    }
   },
   "outputs": [
    {
     "data": {
      "text/html": [
       "<table style=\"border:1px solid black;\">\n",
       "<tr><th colspan='1'></th>\n",
       "      <th colspan='2' style='border:1px solid black;color:black;background-color:#808080;'><center>Cancer</center>\n",
       "      </th></tr>\n",
       "<tr><th style='border:1px solid black;color:black;background-color:#808080'><center>Smoking</center></th><th style='border:1px solid black;border-bottom-style: double;color:black;background-color:#BBBBBB'>\n",
       "      <center>0</center></th><th style='border:1px solid black;border-bottom-style: double;color:black;background-color:#BBBBBB'>\n",
       "      <center>1</center></th></tr>\n",
       "<tr><th style='border:1px solid black;color:black;background-color:#BBBBBB'><center>0</center></th><td style='color:black;background-color:#97e664;text-align:right;'>0.8100</td><td style='color:black;background-color:#e69764;text-align:right;'>0.1900</td></tr>\n",
       "<tr><th style='border:1px solid black;color:black;background-color:#BBBBBB'><center>1</center></th><td style='color:black;background-color:#99e464;text-align:right;'>0.7900</td><td style='color:black;background-color:#e49964;text-align:right;'>0.2100</td></tr>\n",
       "</table>"
      ],
      "text/plain": [
       "(pyAgrum.Potential<double>@0x5642b4ce32d0) \n",
       "      ||  Cancer           |\n",
       "Smokin||0        |1        |\n",
       "------||---------|---------|\n",
       "0     || 0.8100  | 0.1900  |\n",
       "1     || 0.7900  | 0.2100  |"
      ]
     },
     "execution_count": 10,
     "metadata": {},
     "output_type": "execute_result"
    }
   ],
   "source": [
    "# just check P(Cancer|do(smoking)) in the bn `obs2`\n",
    "((obs2.cpt(\"Cancer\")*obs2.cpt(\"Smoking\")).margSumOut([\"Smoking\"])*obs2.cpt(\"Tar\")).margSumOut(['Tar']).putFirst(\"Cancer\")\n"
   ]
  },
  {
   "cell_type": "markdown",
   "metadata": {},
   "source": [
    "## Other causal impacts for this last model "
   ]
  },
  {
   "cell_type": "code",
   "execution_count": 11,
   "metadata": {
    "ExecuteTime": {
     "end_time": "2019-02-25T17:36:10.043807Z",
     "start_time": "2019-02-25T17:36:07.775199Z"
    },
    "execution": {
     "iopub.execute_input": "2023-07-25T08:46:36.999916Z",
     "iopub.status.busy": "2023-07-25T08:46:36.999180Z",
     "iopub.status.idle": "2023-07-25T08:46:37.112733Z",
     "shell.execute_reply": "2023-07-25T08:46:37.111668Z",
     "shell.execute_reply.started": "2023-07-25T08:46:36.999877Z"
    }
   },
   "outputs": [
    {
     "data": {
      "text/html": [
       "\n",
       "      <style>\n",
       "      .floating-box {\n",
       "      display: inline-block;\n",
       "      margin: 7px;\n",
       "      padding : 3px;\n",
       "      border: 0px solid transparent;  \n",
       "      valign:middle;\n",
       "      background-color: transparent;\n",
       "      }\n",
       "      </style>\n",
       "      <div class=\"floating-box\"><svg xmlns=\"http://www.w3.org/2000/svg\" xmlns:xlink=\"http://www.w3.org/1999/xlink\" width=\"120pt\" height=\"180pt\" viewBox=\"0.00 0.00 119.71 180.00\">\n",
       "<g id=\"graph0\" class=\"graph\" transform=\"scale(0.790861 0.790861) rotate(0) translate(4 223.6)\">\n",
       "<title>G</title>\n",
       "<!-- Genotype -->\n",
       "<g id=\"node1\" class=\"node\">\n",
       "<title>Genotype</title>\n",
       "<ellipse fill=\"#404040\" stroke=\"#4a4a4a\" cx=\"95.89\" cy=\"-217.8\" rx=\"1.8\" ry=\"1.8\"/>\n",
       "</g>\n",
       "<!-- Smoking -->\n",
       "<g id=\"node2\" class=\"node\">\n",
       "<title>Smoking</title>\n",
       "<ellipse fill=\"#404040\" stroke=\"#4a4a4a\" cx=\"54.89\" cy=\"-162\" rx=\"54.89\" ry=\"18\"/>\n",
       "<text text-anchor=\"middle\" x=\"54.89\" y=\"-157.32\" font-family=\"Times,serif\" font-size=\"14.00\" fill=\"white\">Smoking</text>\n",
       "</g>\n",
       "<!-- Genotype&#45;&gt;Smoking -->\n",
       "<g id=\"edge4\" class=\"edge\">\n",
       "<title>Genotype-&gt;Smoking</title>\n",
       "<path fill=\"none\" stroke=\"#4a4a4a\" stroke-dasharray=\"5,2\" d=\"M95.18,-215.87C92.58,-212.45 83.27,-200.23 74.25,-188.4\"/>\n",
       "<polygon fill=\"#4a4a4a\" stroke=\"#4a4a4a\" points=\"76.68,-186.82 67.84,-180.99 71.11,-191.06 76.68,-186.82\"/>\n",
       "</g>\n",
       "<!-- Cancer -->\n",
       "<g id=\"node4\" class=\"node\">\n",
       "<title>Cancer</title>\n",
       "<ellipse fill=\"#404040\" stroke=\"#4a4a4a\" cx=\"96.89\" cy=\"-18\" rx=\"46.47\" ry=\"18\"/>\n",
       "<text text-anchor=\"middle\" x=\"96.89\" y=\"-13.32\" font-family=\"Times,serif\" font-size=\"14.00\" fill=\"white\">Cancer</text>\n",
       "</g>\n",
       "<!-- Genotype&#45;&gt;Cancer -->\n",
       "<g id=\"edge2\" class=\"edge\">\n",
       "<title>Genotype-&gt;Cancer</title>\n",
       "<path fill=\"none\" stroke=\"#4a4a4a\" stroke-dasharray=\"5,2\" d=\"M96.86,-215.77C100.62,-211.66 114.32,-195.93 118.89,-180 132.03,-134.2 118.25,-78.75 107.36,-46.32\"/>\n",
       "<polygon fill=\"#4a4a4a\" stroke=\"#4a4a4a\" points=\"110.44,-45.53 103.82,-37.25 103.83,-47.85 110.44,-45.53\"/>\n",
       "</g>\n",
       "<!-- Tar -->\n",
       "<g id=\"node3\" class=\"node\">\n",
       "<title>Tar</title>\n",
       "<ellipse fill=\"#404040\" stroke=\"#4a4a4a\" cx=\"68.89\" cy=\"-90\" rx=\"27.53\" ry=\"18\"/>\n",
       "<text text-anchor=\"middle\" x=\"68.89\" y=\"-85.33\" font-family=\"Times,serif\" font-size=\"14.00\" fill=\"white\">Tar</text>\n",
       "</g>\n",
       "<!-- Smoking&#45;&gt;Tar -->\n",
       "<g id=\"edge1\" class=\"edge\">\n",
       "<title>Smoking-&gt;Tar</title>\n",
       "<path fill=\"none\" stroke=\"#4a4a4a\" d=\"M57.37,-143.5C58.88,-135.96 60.69,-126.92 62.37,-118.48\"/>\n",
       "<path fill=\"none\" stroke=\"#4a4a4a\" d=\"M59.33,-143.89C60.84,-136.35 62.65,-127.32 64.34,-118.88\"/>\n",
       "<polygon fill=\"#4a4a4a\" stroke=\"#4a4a4a\" points=\"66.94,-119.6 65.47,-109.1 60.08,-118.22 66.94,-119.6\"/>\n",
       "</g>\n",
       "<!-- Tar&#45;&gt;Cancer -->\n",
       "<g id=\"edge3\" class=\"edge\">\n",
       "<title>Tar-&gt;Cancer</title>\n",
       "<path fill=\"none\" stroke=\"#4a4a4a\" d=\"M74.74,-71.68C77.82,-63.97 81.55,-54.66 85.02,-45.99\"/>\n",
       "<path fill=\"none\" stroke=\"#4a4a4a\" d=\"M76.6,-72.43C79.68,-64.72 83.41,-55.4 86.87,-46.74\"/>\n",
       "<polygon fill=\"#4a4a4a\" stroke=\"#4a4a4a\" points=\"89.52,-47.86 89.98,-37.28 83.02,-45.26 89.52,-47.86\"/>\n",
       "</g>\n",
       "</g>\n",
       "</svg><br><center><small><em>Causal Model</em></small></center></div><div class=\"floating-box\">$$\\begin{equation*}P( Smoking \\mid \\hookrightarrow\\mkern-6.5muCancer, Tar) = P\\left(Smoking\\mid Tar\\right)\\end{equation*}$$<br><center><small><em>Explanation : No causal effect of X on Y, because they are d-separated (conditioning on the observed variables if any).</em></small></center></div><div class=\"floating-box\"><table style=\"border:1px solid black;\">\n",
       "<tr style='border:1px solid black;color:black;background-color:#808080'>\n",
       "      <th colspan='2'><center>Smoking</center></th></tr>\n",
       "<tr><th style='border:1px solid black;border-bottom-style: double;color:black;background-color:#BBBBBB'>\n",
       "      <center>0</center></th><th style='border:1px solid black;border-bottom-style: double;color:black;background-color:#BBBBBB'>\n",
       "      <center>1</center></th></tr>\n",
       "<tr><td style='color:black;background-color:#d4a964;text-align:right;'>0.3333</td><td style='color:black;background-color:#a9d464;text-align:right;'>0.6667</td></tr>\n",
       "</table><br><center><small><em>Impact</em></small></center></div>"
      ],
      "text/plain": [
       "<IPython.core.display.HTML object>"
      ]
     },
     "metadata": {},
     "output_type": "display_data"
    }
   ],
   "source": [
    "cslnb.showCausalImpact(modele4, \"Smoking\", doing=\"Cancer\",knowing={\"Tar\"}, values={\"Cancer\":1,\"Tar\":1})\n"
   ]
  },
  {
   "cell_type": "code",
   "execution_count": 12,
   "metadata": {
    "ExecuteTime": {
     "end_time": "2019-02-25T17:36:12.688348Z",
     "start_time": "2019-02-25T17:36:10.047070Z"
    },
    "execution": {
     "iopub.execute_input": "2023-07-25T08:46:37.113872Z",
     "iopub.status.busy": "2023-07-25T08:46:37.113658Z",
     "iopub.status.idle": "2023-07-25T08:46:37.235021Z",
     "shell.execute_reply": "2023-07-25T08:46:37.234014Z",
     "shell.execute_reply.started": "2023-07-25T08:46:37.113852Z"
    }
   },
   "outputs": [
    {
     "data": {
      "text/html": [
       "\n",
       "      <style>\n",
       "      .floating-box {\n",
       "      display: inline-block;\n",
       "      margin: 7px;\n",
       "      padding : 3px;\n",
       "      border: 0px solid transparent;  \n",
       "      valign:middle;\n",
       "      background-color: transparent;\n",
       "      }\n",
       "      </style>\n",
       "      <div class=\"floating-box\"><svg xmlns=\"http://www.w3.org/2000/svg\" xmlns:xlink=\"http://www.w3.org/1999/xlink\" width=\"120pt\" height=\"180pt\" viewBox=\"0.00 0.00 119.71 180.00\">\n",
       "<g id=\"graph0\" class=\"graph\" transform=\"scale(0.790861 0.790861) rotate(0) translate(4 223.6)\">\n",
       "<title>G</title>\n",
       "<!-- Genotype -->\n",
       "<g id=\"node1\" class=\"node\">\n",
       "<title>Genotype</title>\n",
       "<ellipse fill=\"#404040\" stroke=\"#4a4a4a\" cx=\"95.89\" cy=\"-217.8\" rx=\"1.8\" ry=\"1.8\"/>\n",
       "</g>\n",
       "<!-- Smoking -->\n",
       "<g id=\"node2\" class=\"node\">\n",
       "<title>Smoking</title>\n",
       "<ellipse fill=\"#404040\" stroke=\"#4a4a4a\" cx=\"54.89\" cy=\"-162\" rx=\"54.89\" ry=\"18\"/>\n",
       "<text text-anchor=\"middle\" x=\"54.89\" y=\"-157.32\" font-family=\"Times,serif\" font-size=\"14.00\" fill=\"white\">Smoking</text>\n",
       "</g>\n",
       "<!-- Genotype&#45;&gt;Smoking -->\n",
       "<g id=\"edge4\" class=\"edge\">\n",
       "<title>Genotype-&gt;Smoking</title>\n",
       "<path fill=\"none\" stroke=\"#4a4a4a\" stroke-dasharray=\"5,2\" d=\"M95.18,-215.87C92.58,-212.45 83.27,-200.23 74.25,-188.4\"/>\n",
       "<polygon fill=\"#4a4a4a\" stroke=\"#4a4a4a\" points=\"76.68,-186.82 67.84,-180.99 71.11,-191.06 76.68,-186.82\"/>\n",
       "</g>\n",
       "<!-- Cancer -->\n",
       "<g id=\"node4\" class=\"node\">\n",
       "<title>Cancer</title>\n",
       "<ellipse fill=\"#404040\" stroke=\"#4a4a4a\" cx=\"96.89\" cy=\"-18\" rx=\"46.47\" ry=\"18\"/>\n",
       "<text text-anchor=\"middle\" x=\"96.89\" y=\"-13.32\" font-family=\"Times,serif\" font-size=\"14.00\" fill=\"white\">Cancer</text>\n",
       "</g>\n",
       "<!-- Genotype&#45;&gt;Cancer -->\n",
       "<g id=\"edge2\" class=\"edge\">\n",
       "<title>Genotype-&gt;Cancer</title>\n",
       "<path fill=\"none\" stroke=\"#4a4a4a\" stroke-dasharray=\"5,2\" d=\"M96.86,-215.77C100.62,-211.66 114.32,-195.93 118.89,-180 132.03,-134.2 118.25,-78.75 107.36,-46.32\"/>\n",
       "<polygon fill=\"#4a4a4a\" stroke=\"#4a4a4a\" points=\"110.44,-45.53 103.82,-37.25 103.83,-47.85 110.44,-45.53\"/>\n",
       "</g>\n",
       "<!-- Tar -->\n",
       "<g id=\"node3\" class=\"node\">\n",
       "<title>Tar</title>\n",
       "<ellipse fill=\"#404040\" stroke=\"#4a4a4a\" cx=\"68.89\" cy=\"-90\" rx=\"27.53\" ry=\"18\"/>\n",
       "<text text-anchor=\"middle\" x=\"68.89\" y=\"-85.33\" font-family=\"Times,serif\" font-size=\"14.00\" fill=\"white\">Tar</text>\n",
       "</g>\n",
       "<!-- Smoking&#45;&gt;Tar -->\n",
       "<g id=\"edge1\" class=\"edge\">\n",
       "<title>Smoking-&gt;Tar</title>\n",
       "<path fill=\"none\" stroke=\"#4a4a4a\" d=\"M57.37,-143.5C58.88,-135.96 60.69,-126.92 62.37,-118.48\"/>\n",
       "<path fill=\"none\" stroke=\"#4a4a4a\" d=\"M59.33,-143.89C60.84,-136.35 62.65,-127.32 64.34,-118.88\"/>\n",
       "<polygon fill=\"#4a4a4a\" stroke=\"#4a4a4a\" points=\"66.94,-119.6 65.47,-109.1 60.08,-118.22 66.94,-119.6\"/>\n",
       "</g>\n",
       "<!-- Tar&#45;&gt;Cancer -->\n",
       "<g id=\"edge3\" class=\"edge\">\n",
       "<title>Tar-&gt;Cancer</title>\n",
       "<path fill=\"none\" stroke=\"#4a4a4a\" d=\"M74.74,-71.68C77.82,-63.97 81.55,-54.66 85.02,-45.99\"/>\n",
       "<path fill=\"none\" stroke=\"#4a4a4a\" d=\"M76.6,-72.43C79.68,-64.72 83.41,-55.4 86.87,-46.74\"/>\n",
       "<polygon fill=\"#4a4a4a\" stroke=\"#4a4a4a\" points=\"89.52,-47.86 89.98,-37.28 83.02,-45.26 89.52,-47.86\"/>\n",
       "</g>\n",
       "</g>\n",
       "</svg><br><center><small><em>Causal Model</em></small></center></div><div class=\"floating-box\">$$\\begin{equation*}P( Smoking \\mid \\hookrightarrow\\mkern-6.5muCancer) = P\\left(Smoking\\right)\\end{equation*}$$<br><center><small><em>Explanation : Do-calculus computations</em></small></center></div><div class=\"floating-box\"><table style=\"border:1px solid black;\">\n",
       "<tr style='border:1px solid black;color:black;background-color:#808080'>\n",
       "      <th colspan='2'><center>Smoking</center></th></tr>\n",
       "<tr><th style='border:1px solid black;border-bottom-style: double;color:black;background-color:#BBBBBB'>\n",
       "      <center>0</center></th><th style='border:1px solid black;border-bottom-style: double;color:black;background-color:#BBBBBB'>\n",
       "      <center>1</center></th></tr>\n",
       "<tr><td style='color:black;background-color:#b2cb64;text-align:right;'>0.6000</td><td style='color:black;background-color:#cbb264;text-align:right;'>0.4000</td></tr>\n",
       "</table><br><center><small><em>Impact</em></small></center></div>"
      ],
      "text/plain": [
       "<IPython.core.display.HTML object>"
      ]
     },
     "metadata": {},
     "output_type": "display_data"
    }
   ],
   "source": [
    "cslnb.showCausalImpact(modele4, \"Smoking\", doing=\"Cancer\",values={\"Cancer\":1})\n"
   ]
  },
  {
   "cell_type": "code",
   "execution_count": 13,
   "metadata": {
    "ExecuteTime": {
     "end_time": "2019-02-25T17:36:15.333792Z",
     "start_time": "2019-02-25T17:36:12.690860Z"
    },
    "execution": {
     "iopub.execute_input": "2023-07-25T08:46:37.236962Z",
     "iopub.status.busy": "2023-07-25T08:46:37.236568Z",
     "iopub.status.idle": "2023-07-25T08:46:37.399668Z",
     "shell.execute_reply": "2023-07-25T08:46:37.398533Z",
     "shell.execute_reply.started": "2023-07-25T08:46:37.236927Z"
    }
   },
   "outputs": [
    {
     "data": {
      "text/html": [
       "\n",
       "      <style>\n",
       "      .floating-box {\n",
       "      display: inline-block;\n",
       "      margin: 7px;\n",
       "      padding : 3px;\n",
       "      border: 0px solid transparent;  \n",
       "      valign:middle;\n",
       "      background-color: transparent;\n",
       "      }\n",
       "      </style>\n",
       "      <div class=\"floating-box\"><svg xmlns=\"http://www.w3.org/2000/svg\" xmlns:xlink=\"http://www.w3.org/1999/xlink\" width=\"120pt\" height=\"180pt\" viewBox=\"0.00 0.00 119.71 180.00\">\n",
       "<g id=\"graph0\" class=\"graph\" transform=\"scale(0.790861 0.790861) rotate(0) translate(4 223.6)\">\n",
       "<title>G</title>\n",
       "<!-- Genotype -->\n",
       "<g id=\"node1\" class=\"node\">\n",
       "<title>Genotype</title>\n",
       "<ellipse fill=\"#404040\" stroke=\"#4a4a4a\" cx=\"95.89\" cy=\"-217.8\" rx=\"1.8\" ry=\"1.8\"/>\n",
       "</g>\n",
       "<!-- Smoking -->\n",
       "<g id=\"node2\" class=\"node\">\n",
       "<title>Smoking</title>\n",
       "<ellipse fill=\"#404040\" stroke=\"#4a4a4a\" cx=\"54.89\" cy=\"-162\" rx=\"54.89\" ry=\"18\"/>\n",
       "<text text-anchor=\"middle\" x=\"54.89\" y=\"-157.32\" font-family=\"Times,serif\" font-size=\"14.00\" fill=\"white\">Smoking</text>\n",
       "</g>\n",
       "<!-- Genotype&#45;&gt;Smoking -->\n",
       "<g id=\"edge4\" class=\"edge\">\n",
       "<title>Genotype-&gt;Smoking</title>\n",
       "<path fill=\"none\" stroke=\"#4a4a4a\" stroke-dasharray=\"5,2\" d=\"M95.18,-215.87C92.58,-212.45 83.27,-200.23 74.25,-188.4\"/>\n",
       "<polygon fill=\"#4a4a4a\" stroke=\"#4a4a4a\" points=\"76.68,-186.82 67.84,-180.99 71.11,-191.06 76.68,-186.82\"/>\n",
       "</g>\n",
       "<!-- Cancer -->\n",
       "<g id=\"node4\" class=\"node\">\n",
       "<title>Cancer</title>\n",
       "<ellipse fill=\"#404040\" stroke=\"#4a4a4a\" cx=\"96.89\" cy=\"-18\" rx=\"46.47\" ry=\"18\"/>\n",
       "<text text-anchor=\"middle\" x=\"96.89\" y=\"-13.32\" font-family=\"Times,serif\" font-size=\"14.00\" fill=\"white\">Cancer</text>\n",
       "</g>\n",
       "<!-- Genotype&#45;&gt;Cancer -->\n",
       "<g id=\"edge2\" class=\"edge\">\n",
       "<title>Genotype-&gt;Cancer</title>\n",
       "<path fill=\"none\" stroke=\"#4a4a4a\" stroke-dasharray=\"5,2\" d=\"M96.86,-215.77C100.62,-211.66 114.32,-195.93 118.89,-180 132.03,-134.2 118.25,-78.75 107.36,-46.32\"/>\n",
       "<polygon fill=\"#4a4a4a\" stroke=\"#4a4a4a\" points=\"110.44,-45.53 103.82,-37.25 103.83,-47.85 110.44,-45.53\"/>\n",
       "</g>\n",
       "<!-- Tar -->\n",
       "<g id=\"node3\" class=\"node\">\n",
       "<title>Tar</title>\n",
       "<ellipse fill=\"#404040\" stroke=\"#4a4a4a\" cx=\"68.89\" cy=\"-90\" rx=\"27.53\" ry=\"18\"/>\n",
       "<text text-anchor=\"middle\" x=\"68.89\" y=\"-85.33\" font-family=\"Times,serif\" font-size=\"14.00\" fill=\"white\">Tar</text>\n",
       "</g>\n",
       "<!-- Smoking&#45;&gt;Tar -->\n",
       "<g id=\"edge1\" class=\"edge\">\n",
       "<title>Smoking-&gt;Tar</title>\n",
       "<path fill=\"none\" stroke=\"#4a4a4a\" d=\"M57.37,-143.5C58.88,-135.96 60.69,-126.92 62.37,-118.48\"/>\n",
       "<path fill=\"none\" stroke=\"#4a4a4a\" d=\"M59.33,-143.89C60.84,-136.35 62.65,-127.32 64.34,-118.88\"/>\n",
       "<polygon fill=\"#4a4a4a\" stroke=\"#4a4a4a\" points=\"66.94,-119.6 65.47,-109.1 60.08,-118.22 66.94,-119.6\"/>\n",
       "</g>\n",
       "<!-- Tar&#45;&gt;Cancer -->\n",
       "<g id=\"edge3\" class=\"edge\">\n",
       "<title>Tar-&gt;Cancer</title>\n",
       "<path fill=\"none\" stroke=\"#4a4a4a\" d=\"M74.74,-71.68C77.82,-63.97 81.55,-54.66 85.02,-45.99\"/>\n",
       "<path fill=\"none\" stroke=\"#4a4a4a\" d=\"M76.6,-72.43C79.68,-64.72 83.41,-55.4 86.87,-46.74\"/>\n",
       "<polygon fill=\"#4a4a4a\" stroke=\"#4a4a4a\" points=\"89.52,-47.86 89.98,-37.28 83.02,-45.26 89.52,-47.86\"/>\n",
       "</g>\n",
       "</g>\n",
       "</svg><br><center><small><em>Causal Model</em></small></center></div><div class=\"floating-box\">$$\\begin{equation*}P( Smoking \\mid \\hookrightarrow\\mkern-6.5muTar,\\hookrightarrow\\mkern-6.5muCancer) = P\\left(Smoking\\right)\\end{equation*}$$<br><center><small><em>Explanation : Do-calculus computations</em></small></center></div><div class=\"floating-box\"><table style=\"border:1px solid black;\">\n",
       "<tr style='border:1px solid black;color:black;background-color:#808080'>\n",
       "      <th colspan='2'><center>Smoking</center></th></tr>\n",
       "<tr><th style='border:1px solid black;border-bottom-style: double;color:black;background-color:#BBBBBB'>\n",
       "      <center>0</center></th><th style='border:1px solid black;border-bottom-style: double;color:black;background-color:#BBBBBB'>\n",
       "      <center>1</center></th></tr>\n",
       "<tr><td style='color:black;background-color:#b2cb64;text-align:right;'>0.6000</td><td style='color:black;background-color:#cbb264;text-align:right;'>0.4000</td></tr>\n",
       "</table><br><center><small><em>Impact</em></small></center></div>"
      ],
      "text/plain": [
       "<IPython.core.display.HTML object>"
      ]
     },
     "metadata": {},
     "output_type": "display_data"
    }
   ],
   "source": [
    "cslnb.showCausalImpact(modele4, \"Smoking\", doing={\"Cancer\",\"Tar\"},values={\"Cancer\":1,\"Tar\":1})\n"
   ]
  },
  {
   "cell_type": "code",
   "execution_count": 14,
   "metadata": {
    "ExecuteTime": {
     "end_time": "2019-02-25T17:36:17.761223Z",
     "start_time": "2019-02-25T17:36:15.337006Z"
    },
    "execution": {
     "iopub.execute_input": "2023-07-25T08:46:37.401227Z",
     "iopub.status.busy": "2023-07-25T08:46:37.400915Z",
     "iopub.status.idle": "2023-07-25T08:46:37.493129Z",
     "shell.execute_reply": "2023-07-25T08:46:37.492000Z",
     "shell.execute_reply.started": "2023-07-25T08:46:37.401197Z"
    },
    "tags": []
   },
   "outputs": [
    {
     "data": {
      "text/html": [
       "\n",
       "      <style>\n",
       "      .floating-box {\n",
       "      display: inline-block;\n",
       "      margin: 7px;\n",
       "      padding : 3px;\n",
       "      border: 0px solid transparent;  \n",
       "      valign:middle;\n",
       "      background-color: transparent;\n",
       "      }\n",
       "      </style>\n",
       "      <div class=\"floating-box\"><svg xmlns=\"http://www.w3.org/2000/svg\" xmlns:xlink=\"http://www.w3.org/1999/xlink\" width=\"120pt\" height=\"180pt\" viewBox=\"0.00 0.00 119.71 180.00\">\n",
       "<g id=\"graph0\" class=\"graph\" transform=\"scale(0.790861 0.790861) rotate(0) translate(4 223.6)\">\n",
       "<title>G</title>\n",
       "<!-- Genotype -->\n",
       "<g id=\"node1\" class=\"node\">\n",
       "<title>Genotype</title>\n",
       "<ellipse fill=\"#404040\" stroke=\"#4a4a4a\" cx=\"95.89\" cy=\"-217.8\" rx=\"1.8\" ry=\"1.8\"/>\n",
       "</g>\n",
       "<!-- Smoking -->\n",
       "<g id=\"node2\" class=\"node\">\n",
       "<title>Smoking</title>\n",
       "<ellipse fill=\"#404040\" stroke=\"#4a4a4a\" cx=\"54.89\" cy=\"-162\" rx=\"54.89\" ry=\"18\"/>\n",
       "<text text-anchor=\"middle\" x=\"54.89\" y=\"-157.32\" font-family=\"Times,serif\" font-size=\"14.00\" fill=\"white\">Smoking</text>\n",
       "</g>\n",
       "<!-- Genotype&#45;&gt;Smoking -->\n",
       "<g id=\"edge4\" class=\"edge\">\n",
       "<title>Genotype-&gt;Smoking</title>\n",
       "<path fill=\"none\" stroke=\"#4a4a4a\" stroke-dasharray=\"5,2\" d=\"M95.18,-215.87C92.58,-212.45 83.27,-200.23 74.25,-188.4\"/>\n",
       "<polygon fill=\"#4a4a4a\" stroke=\"#4a4a4a\" points=\"76.68,-186.82 67.84,-180.99 71.11,-191.06 76.68,-186.82\"/>\n",
       "</g>\n",
       "<!-- Cancer -->\n",
       "<g id=\"node4\" class=\"node\">\n",
       "<title>Cancer</title>\n",
       "<ellipse fill=\"#404040\" stroke=\"#4a4a4a\" cx=\"96.89\" cy=\"-18\" rx=\"46.47\" ry=\"18\"/>\n",
       "<text text-anchor=\"middle\" x=\"96.89\" y=\"-13.32\" font-family=\"Times,serif\" font-size=\"14.00\" fill=\"white\">Cancer</text>\n",
       "</g>\n",
       "<!-- Genotype&#45;&gt;Cancer -->\n",
       "<g id=\"edge2\" class=\"edge\">\n",
       "<title>Genotype-&gt;Cancer</title>\n",
       "<path fill=\"none\" stroke=\"#4a4a4a\" stroke-dasharray=\"5,2\" d=\"M96.86,-215.77C100.62,-211.66 114.32,-195.93 118.89,-180 132.03,-134.2 118.25,-78.75 107.36,-46.32\"/>\n",
       "<polygon fill=\"#4a4a4a\" stroke=\"#4a4a4a\" points=\"110.44,-45.53 103.82,-37.25 103.83,-47.85 110.44,-45.53\"/>\n",
       "</g>\n",
       "<!-- Tar -->\n",
       "<g id=\"node3\" class=\"node\">\n",
       "<title>Tar</title>\n",
       "<ellipse fill=\"#404040\" stroke=\"#4a4a4a\" cx=\"68.89\" cy=\"-90\" rx=\"27.53\" ry=\"18\"/>\n",
       "<text text-anchor=\"middle\" x=\"68.89\" y=\"-85.33\" font-family=\"Times,serif\" font-size=\"14.00\" fill=\"white\">Tar</text>\n",
       "</g>\n",
       "<!-- Smoking&#45;&gt;Tar -->\n",
       "<g id=\"edge1\" class=\"edge\">\n",
       "<title>Smoking-&gt;Tar</title>\n",
       "<path fill=\"none\" stroke=\"#4a4a4a\" d=\"M57.37,-143.5C58.88,-135.96 60.69,-126.92 62.37,-118.48\"/>\n",
       "<path fill=\"none\" stroke=\"#4a4a4a\" d=\"M59.33,-143.89C60.84,-136.35 62.65,-127.32 64.34,-118.88\"/>\n",
       "<polygon fill=\"#4a4a4a\" stroke=\"#4a4a4a\" points=\"66.94,-119.6 65.47,-109.1 60.08,-118.22 66.94,-119.6\"/>\n",
       "</g>\n",
       "<!-- Tar&#45;&gt;Cancer -->\n",
       "<g id=\"edge3\" class=\"edge\">\n",
       "<title>Tar-&gt;Cancer</title>\n",
       "<path fill=\"none\" stroke=\"#4a4a4a\" d=\"M74.74,-71.68C77.82,-63.97 81.55,-54.66 85.02,-45.99\"/>\n",
       "<path fill=\"none\" stroke=\"#4a4a4a\" d=\"M76.6,-72.43C79.68,-64.72 83.41,-55.4 86.87,-46.74\"/>\n",
       "<polygon fill=\"#4a4a4a\" stroke=\"#4a4a4a\" points=\"89.52,-47.86 89.98,-37.28 83.02,-45.26 89.52,-47.86\"/>\n",
       "</g>\n",
       "</g>\n",
       "</svg><br><center><small><em>Causal Model</em></small></center></div><div class=\"floating-box\">$$\\begin{equation*}P( Tar \\mid \\hookrightarrow\\mkern-6.5muSmoking,\\hookrightarrow\\mkern-6.5muCancer) = P\\left(Tar\\mid Smoking\\right)\\end{equation*}$$<br><center><small><em>Explanation : Do-calculus computations</em></small></center></div><div class=\"floating-box\"><table style=\"border:1px solid black;\">\n",
       "<tr style='border:1px solid black;color:black;background-color:#808080'>\n",
       "      <th colspan='2'><center>Tar</center></th></tr>\n",
       "<tr><th style='border:1px solid black;border-bottom-style: double;color:black;background-color:#BBBBBB'>\n",
       "      <center>0</center></th><th style='border:1px solid black;border-bottom-style: double;color:black;background-color:#BBBBBB'>\n",
       "      <center>1</center></th></tr>\n",
       "<tr><td style='color:black;background-color:#a5d864;text-align:right;'>0.7000</td><td style='color:black;background-color:#d8a564;text-align:right;'>0.3000</td></tr>\n",
       "</table><br><center><small><em>Impact</em></small></center></div>"
      ],
      "text/plain": [
       "<IPython.core.display.HTML object>"
      ]
     },
     "metadata": {},
     "output_type": "display_data"
    }
   ],
   "source": [
    "cslnb.showCausalImpact(modele4, \"Tar\", doing={\"Cancer\",\"Smoking\"},values={\"Cancer\":1,\"Smoking\":1})\n"
   ]
  },
  {
   "cell_type": "markdown",
   "metadata": {},
   "source": [
    "## Four causal models for the same observational data"
   ]
  },
  {
   "cell_type": "code",
   "execution_count": 15,
   "metadata": {
    "execution": {
     "iopub.execute_input": "2023-07-25T08:46:37.494811Z",
     "iopub.status.busy": "2023-07-25T08:46:37.494436Z",
     "iopub.status.idle": "2023-07-25T08:46:37.879753Z",
     "shell.execute_reply": "2023-07-25T08:46:37.878485Z",
     "shell.execute_reply.started": "2023-07-25T08:46:37.494774Z"
    },
    "tags": []
   },
   "outputs": [
    {
     "data": {
      "text/html": [
       "\n",
       "      <style>\n",
       "      .floating-box {\n",
       "      display: inline-block;\n",
       "      margin: 7px;\n",
       "      padding : 3px;\n",
       "      border: 0px solid transparent;  \n",
       "      valign:middle;\n",
       "      background-color: transparent;\n",
       "      }\n",
       "      </style>\n",
       "      <div class=\"floating-box\"><svg xmlns=\"http://www.w3.org/2000/svg\" xmlns:xlink=\"http://www.w3.org/1999/xlink\" width=\"118pt\" height=\"116pt\" viewBox=\"0.00 0.00 117.78 116.00\">\n",
       "<g id=\"graph0\" class=\"graph\" transform=\"scale(1 1) rotate(0) translate(4 112)\">\n",
       "<title>G</title>\n",
       "<!-- Smoking -->\n",
       "<g id=\"node1\" class=\"node\">\n",
       "<title>Smoking</title>\n",
       "<ellipse fill=\"#404040\" stroke=\"#4a4a4a\" cx=\"54.89\" cy=\"-90\" rx=\"54.89\" ry=\"18\"/>\n",
       "<text text-anchor=\"middle\" x=\"54.89\" y=\"-85.33\" font-family=\"Times,serif\" font-size=\"14.00\" fill=\"white\">Smoking</text>\n",
       "</g>\n",
       "<!-- Cancer -->\n",
       "<g id=\"node2\" class=\"node\">\n",
       "<title>Cancer</title>\n",
       "<ellipse fill=\"#404040\" stroke=\"#4a4a4a\" cx=\"54.89\" cy=\"-18\" rx=\"46.47\" ry=\"18\"/>\n",
       "<text text-anchor=\"middle\" x=\"54.89\" y=\"-13.32\" font-family=\"Times,serif\" font-size=\"14.00\" fill=\"white\">Cancer</text>\n",
       "</g>\n",
       "<!-- Smoking&#45;&gt;Cancer -->\n",
       "<g id=\"edge1\" class=\"edge\">\n",
       "<title>Smoking-&gt;Cancer</title>\n",
       "<path fill=\"none\" stroke=\"#4a4a4a\" d=\"M53.89,-71.7C53.89,-64.24 53.89,-55.32 53.89,-46.97\"/>\n",
       "<path fill=\"none\" stroke=\"#4a4a4a\" d=\"M55.89,-71.7C55.89,-64.24 55.89,-55.32 55.89,-46.97\"/>\n",
       "<polygon fill=\"#4a4a4a\" stroke=\"#4a4a4a\" points=\"58.39,-47.1 54.89,-37.1 51.39,-47.1 58.39,-47.1\"/>\n",
       "</g>\n",
       "</g>\n",
       "</svg></div><div class=\"floating-box\"><svg xmlns=\"http://www.w3.org/2000/svg\" xmlns:xlink=\"http://www.w3.org/1999/xlink\" width=\"180pt\" height=\"66pt\" viewBox=\"0.00 0.00 180.00 65.89\">\n",
       "<g id=\"graph0\" class=\"graph\" transform=\"scale(0.788216 0.788216) rotate(0) translate(4 79.6)\">\n",
       "<title>G</title>\n",
       "<!-- Genotype -->\n",
       "<g id=\"node1\" class=\"node\">\n",
       "<title>Genotype</title>\n",
       "<ellipse fill=\"#404040\" stroke=\"#4a4a4a\" cx=\"113.89\" cy=\"-73.8\" rx=\"1.8\" ry=\"1.8\"/>\n",
       "</g>\n",
       "<!-- Smoking -->\n",
       "<g id=\"node2\" class=\"node\">\n",
       "<title>Smoking</title>\n",
       "<ellipse fill=\"#404040\" stroke=\"#4a4a4a\" cx=\"54.89\" cy=\"-18\" rx=\"54.89\" ry=\"18\"/>\n",
       "<text text-anchor=\"middle\" x=\"54.89\" y=\"-13.32\" font-family=\"Times,serif\" font-size=\"14.00\" fill=\"white\">Smoking</text>\n",
       "</g>\n",
       "<!-- Genotype&#45;&gt;Smoking -->\n",
       "<g id=\"edge1\" class=\"edge\">\n",
       "<title>Genotype-&gt;Smoking</title>\n",
       "<path fill=\"none\" stroke=\"#4a4a4a\" stroke-dasharray=\"5,2\" d=\"M112.87,-71.87C108.93,-68.27 94.29,-54.93 80.71,-42.54\"/>\n",
       "<polygon fill=\"#4a4a4a\" stroke=\"#4a4a4a\" points=\"83.67,-40.6 73.92,-36.44 78.95,-45.77 83.67,-40.6\"/>\n",
       "</g>\n",
       "<!-- Cancer -->\n",
       "<g id=\"node3\" class=\"node\">\n",
       "<title>Cancer</title>\n",
       "<ellipse fill=\"#404040\" stroke=\"#4a4a4a\" cx=\"173.89\" cy=\"-18\" rx=\"46.47\" ry=\"18\"/>\n",
       "<text text-anchor=\"middle\" x=\"173.89\" y=\"-13.32\" font-family=\"Times,serif\" font-size=\"14.00\" fill=\"white\">Cancer</text>\n",
       "</g>\n",
       "<!-- Genotype&#45;&gt;Cancer -->\n",
       "<g id=\"edge2\" class=\"edge\">\n",
       "<title>Genotype-&gt;Cancer</title>\n",
       "<path fill=\"none\" stroke=\"#4a4a4a\" stroke-dasharray=\"5,2\" d=\"M114.93,-71.87C118.99,-68.23 134.21,-54.58 148.17,-42.06\"/>\n",
       "<polygon fill=\"#4a4a4a\" stroke=\"#4a4a4a\" points=\"150.04,-45.19 155.15,-35.91 145.37,-39.98 150.04,-45.19\"/>\n",
       "</g>\n",
       "</g>\n",
       "</svg></div><div class=\"floating-box\"><svg xmlns=\"http://www.w3.org/2000/svg\" xmlns:xlink=\"http://www.w3.org/1999/xlink\" width=\"150pt\" height=\"156pt\" viewBox=\"0.00 0.00 150.36 155.60\">\n",
       "<g id=\"graph0\" class=\"graph\" transform=\"scale(1 1) rotate(0) translate(4 151.6)\">\n",
       "<title>G</title>\n",
       "<!-- Genotype -->\n",
       "<g id=\"node1\" class=\"node\">\n",
       "<title>Genotype</title>\n",
       "<ellipse fill=\"#404040\" stroke=\"#4a4a4a\" cx=\"95.89\" cy=\"-145.8\" rx=\"1.8\" ry=\"1.8\"/>\n",
       "</g>\n",
       "<!-- Smoking -->\n",
       "<g id=\"node2\" class=\"node\">\n",
       "<title>Smoking</title>\n",
       "<ellipse fill=\"#404040\" stroke=\"#4a4a4a\" cx=\"54.89\" cy=\"-90\" rx=\"54.89\" ry=\"18\"/>\n",
       "<text text-anchor=\"middle\" x=\"54.89\" y=\"-85.33\" font-family=\"Times,serif\" font-size=\"14.00\" fill=\"white\">Smoking</text>\n",
       "</g>\n",
       "<!-- Genotype&#45;&gt;Smoking -->\n",
       "<g id=\"edge2\" class=\"edge\">\n",
       "<title>Genotype-&gt;Smoking</title>\n",
       "<path fill=\"none\" stroke=\"#4a4a4a\" stroke-dasharray=\"5,2\" d=\"M95.18,-143.87C92.58,-140.45 83.27,-128.23 74.25,-116.4\"/>\n",
       "<polygon fill=\"#4a4a4a\" stroke=\"#4a4a4a\" points=\"76.68,-114.82 67.84,-108.99 71.11,-119.06 76.68,-114.82\"/>\n",
       "</g>\n",
       "<!-- Cancer -->\n",
       "<g id=\"node3\" class=\"node\">\n",
       "<title>Cancer</title>\n",
       "<ellipse fill=\"#404040\" stroke=\"#4a4a4a\" cx=\"95.89\" cy=\"-18\" rx=\"46.47\" ry=\"18\"/>\n",
       "<text text-anchor=\"middle\" x=\"95.89\" y=\"-13.32\" font-family=\"Times,serif\" font-size=\"14.00\" fill=\"white\">Cancer</text>\n",
       "</g>\n",
       "<!-- Genotype&#45;&gt;Cancer -->\n",
       "<g id=\"edge3\" class=\"edge\">\n",
       "<title>Genotype-&gt;Cancer</title>\n",
       "<path fill=\"none\" stroke=\"#4a4a4a\" stroke-dasharray=\"5,2\" d=\"M96.86,-143.77C100.62,-139.66 114.32,-123.93 118.89,-108 124.89,-87.1 117.98,-63.23 110.21,-45.48\"/>\n",
       "<polygon fill=\"#4a4a4a\" stroke=\"#4a4a4a\" points=\"113.07,-44.34 105.63,-36.8 106.75,-47.34 113.07,-44.34\"/>\n",
       "</g>\n",
       "<!-- Smoking&#45;&gt;Cancer -->\n",
       "<g id=\"edge1\" class=\"edge\">\n",
       "<title>Smoking-&gt;Cancer</title>\n",
       "<path fill=\"none\" stroke=\"#4a4a4a\" d=\"M63.95,-71.55C68.69,-63.47 74.46,-53.62 79.73,-44.61\"/>\n",
       "<path fill=\"none\" stroke=\"#4a4a4a\" d=\"M65.68,-72.56C70.41,-64.48 76.18,-54.63 81.46,-45.62\"/>\n",
       "<polygon fill=\"#4a4a4a\" stroke=\"#4a4a4a\" points=\"84.02,-47.19 86.06,-36.79 77.98,-43.65 84.02,-47.19\"/>\n",
       "</g>\n",
       "</g>\n",
       "</svg></div><div class=\"floating-box\"><svg xmlns=\"http://www.w3.org/2000/svg\" xmlns:xlink=\"http://www.w3.org/1999/xlink\" width=\"120pt\" height=\"180pt\" viewBox=\"0.00 0.00 119.71 180.00\">\n",
       "<g id=\"graph0\" class=\"graph\" transform=\"scale(0.790861 0.790861) rotate(0) translate(4 223.6)\">\n",
       "<title>G</title>\n",
       "<!-- Genotype -->\n",
       "<g id=\"node1\" class=\"node\">\n",
       "<title>Genotype</title>\n",
       "<ellipse fill=\"#404040\" stroke=\"#4a4a4a\" cx=\"95.89\" cy=\"-217.8\" rx=\"1.8\" ry=\"1.8\"/>\n",
       "</g>\n",
       "<!-- Smoking -->\n",
       "<g id=\"node2\" class=\"node\">\n",
       "<title>Smoking</title>\n",
       "<ellipse fill=\"#404040\" stroke=\"#4a4a4a\" cx=\"54.89\" cy=\"-162\" rx=\"54.89\" ry=\"18\"/>\n",
       "<text text-anchor=\"middle\" x=\"54.89\" y=\"-157.32\" font-family=\"Times,serif\" font-size=\"14.00\" fill=\"white\">Smoking</text>\n",
       "</g>\n",
       "<!-- Genotype&#45;&gt;Smoking -->\n",
       "<g id=\"edge4\" class=\"edge\">\n",
       "<title>Genotype-&gt;Smoking</title>\n",
       "<path fill=\"none\" stroke=\"#4a4a4a\" stroke-dasharray=\"5,2\" d=\"M95.18,-215.87C92.58,-212.45 83.27,-200.23 74.25,-188.4\"/>\n",
       "<polygon fill=\"#4a4a4a\" stroke=\"#4a4a4a\" points=\"76.68,-186.82 67.84,-180.99 71.11,-191.06 76.68,-186.82\"/>\n",
       "</g>\n",
       "<!-- Cancer -->\n",
       "<g id=\"node4\" class=\"node\">\n",
       "<title>Cancer</title>\n",
       "<ellipse fill=\"#404040\" stroke=\"#4a4a4a\" cx=\"96.89\" cy=\"-18\" rx=\"46.47\" ry=\"18\"/>\n",
       "<text text-anchor=\"middle\" x=\"96.89\" y=\"-13.32\" font-family=\"Times,serif\" font-size=\"14.00\" fill=\"white\">Cancer</text>\n",
       "</g>\n",
       "<!-- Genotype&#45;&gt;Cancer -->\n",
       "<g id=\"edge2\" class=\"edge\">\n",
       "<title>Genotype-&gt;Cancer</title>\n",
       "<path fill=\"none\" stroke=\"#4a4a4a\" stroke-dasharray=\"5,2\" d=\"M96.86,-215.77C100.62,-211.66 114.32,-195.93 118.89,-180 132.03,-134.2 118.25,-78.75 107.36,-46.32\"/>\n",
       "<polygon fill=\"#4a4a4a\" stroke=\"#4a4a4a\" points=\"110.44,-45.53 103.82,-37.25 103.83,-47.85 110.44,-45.53\"/>\n",
       "</g>\n",
       "<!-- Tar -->\n",
       "<g id=\"node3\" class=\"node\">\n",
       "<title>Tar</title>\n",
       "<ellipse fill=\"#404040\" stroke=\"#4a4a4a\" cx=\"68.89\" cy=\"-90\" rx=\"27.53\" ry=\"18\"/>\n",
       "<text text-anchor=\"middle\" x=\"68.89\" y=\"-85.33\" font-family=\"Times,serif\" font-size=\"14.00\" fill=\"white\">Tar</text>\n",
       "</g>\n",
       "<!-- Smoking&#45;&gt;Tar -->\n",
       "<g id=\"edge1\" class=\"edge\">\n",
       "<title>Smoking-&gt;Tar</title>\n",
       "<path fill=\"none\" stroke=\"#4a4a4a\" d=\"M57.37,-143.5C58.88,-135.96 60.69,-126.92 62.37,-118.48\"/>\n",
       "<path fill=\"none\" stroke=\"#4a4a4a\" d=\"M59.33,-143.89C60.84,-136.35 62.65,-127.32 64.34,-118.88\"/>\n",
       "<polygon fill=\"#4a4a4a\" stroke=\"#4a4a4a\" points=\"66.94,-119.6 65.47,-109.1 60.08,-118.22 66.94,-119.6\"/>\n",
       "</g>\n",
       "<!-- Tar&#45;&gt;Cancer -->\n",
       "<g id=\"edge3\" class=\"edge\">\n",
       "<title>Tar-&gt;Cancer</title>\n",
       "<path fill=\"none\" stroke=\"#4a4a4a\" d=\"M74.74,-71.68C77.82,-63.97 81.55,-54.66 85.02,-45.99\"/>\n",
       "<path fill=\"none\" stroke=\"#4a4a4a\" d=\"M76.6,-72.43C79.68,-64.72 83.41,-55.4 86.87,-46.74\"/>\n",
       "<polygon fill=\"#4a4a4a\" stroke=\"#4a4a4a\" points=\"89.52,-47.86 89.98,-37.28 83.02,-45.26 89.52,-47.86\"/>\n",
       "</g>\n",
       "</g>\n",
       "</svg></div>"
      ],
      "text/plain": [
       "<IPython.core.display.HTML object>"
      ]
     },
     "metadata": {},
     "output_type": "display_data"
    }
   ],
   "source": [
    "gnb.flow.row(modele1,modele2,modele3,modele4)\n"
   ]
  }
 ],
 "metadata": {
  "anaconda-cloud": {},
  "hide_input": false,
  "kernelspec": {
   "display_name": "Python 3 (ipykernel)",
   "language": "python",
   "name": "python3"
  },
  "language_info": {
   "codemirror_mode": {
    "name": "ipython",
    "version": 3
   },
   "file_extension": ".py",
   "mimetype": "text/x-python",
   "name": "python",
   "nbconvert_exporter": "python",
   "pygments_lexer": "ipython3",
   "version": "3.11.3"
  },
  "toc": {
   "colors": {
    "hover_highlight": "#DAA520",
    "running_highlight": "#FF0000",
    "selected_highlight": "#FFD700"
   },
   "moveMenuLeft": true,
   "nav_menu": {
    "height": "31px",
    "width": "252px"
   },
   "navigate_menu": true,
   "number_sections": true,
   "sideBar": true,
   "threshold": 4,
   "toc_cell": true,
   "toc_section_display": "block",
   "toc_window_display": true,
   "widenNotebook": false
  }
 },
 "nbformat": 4,
 "nbformat_minor": 4
}
