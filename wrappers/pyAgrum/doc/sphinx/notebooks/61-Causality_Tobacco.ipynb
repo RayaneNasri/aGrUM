{
 "cells": [
  {
   "cell_type": "markdown",
   "metadata": {
    "editable": true,
    "slideshow": {
     "slide_type": ""
    },
    "tags": []
   },
   "source": [
    "# Smoking, Cancer and causality"
   ]
  },
  {
   "cell_type": "markdown",
   "metadata": {},
   "source": [
    "| | | |\n",
    "|-|-|-|\n",
    "|[ ![Creative Commons License](images/cc4.png)](http://creativecommons.org/licenses/by-nc/4.0/) |[ ![aGrUM](images/logoAgrum.png)](https://agrum.org) |[ ![interactive online version](images/atbinder.svg)](https://agrum.gitlab.io/extra/agrum_at_binder.html)"
   ]
  },
  {
   "cell_type": "markdown",
   "metadata": {},
   "source": [
    "This notebook follows the famous example from *Causality* (Pearl, 2009).\n",
    "\n",
    "A correlation has been observed between Smoking and Cancer, represented by this Bayesian network :"
   ]
  },
  {
   "cell_type": "code",
   "execution_count": 1,
   "metadata": {
    "ExecuteTime": {
     "end_time": "2019-02-25T17:35:57.071601Z",
     "start_time": "2019-02-25T17:35:54.803120Z"
    },
    "tags": []
   },
   "outputs": [
    {
     "data": {
      "text/html": [
       "\n",
       "      <style>\n",
       "      .floating-box {\n",
       "      display: inline-block;\n",
       "      margin: 7px;\n",
       "      padding : 3px;\n",
       "      border: 0px solid transparent;  \n",
       "      valign:middle;\n",
       "      background-color: transparent;\n",
       "      }\n",
       "      </style>\n",
       "      <div class=\"floating-box\"><svg xmlns=\"http://www.w3.org/2000/svg\" xmlns:xlink=\"http://www.w3.org/1999/xlink\" width=\"97pt\" height=\"116pt\" viewBox=\"0.00 0.00 97.40 116.00\">\n",
       "<g id=\"graph0\" class=\"graph\" transform=\"scale(1 1) rotate(0) translate(4 112)\">\n",
       "<title>G</title>\n",
       "<!-- Smoking -->\n",
       "<g id=\"node1\" class=\"node\">\n",
       "<title>Smoking</title>\n",
       "<g id=\"a_node1\"><a xlink:title=\"(0) Smoking\">\n",
       "<ellipse fill=\"#404040\" stroke=\"#4a4a4a\" cx=\"44.7\" cy=\"-90\" rx=\"44.7\" ry=\"18\"/>\n",
       "<text text-anchor=\"middle\" x=\"44.7\" y=\"-84.95\" font-family=\"Times,serif\" font-size=\"14.00\" fill=\"white\">Smoking</text>\n",
       "</a>\n",
       "</g>\n",
       "</g>\n",
       "<!-- Cancer -->\n",
       "<g id=\"node2\" class=\"node\">\n",
       "<title>Cancer</title>\n",
       "<g id=\"a_node2\"><a xlink:title=\"(1) Cancer\">\n",
       "<ellipse fill=\"#404040\" stroke=\"#4a4a4a\" cx=\"44.7\" cy=\"-18\" rx=\"37.02\" ry=\"18\"/>\n",
       "<text text-anchor=\"middle\" x=\"44.7\" y=\"-12.95\" font-family=\"Times,serif\" font-size=\"14.00\" fill=\"white\">Cancer</text>\n",
       "</a>\n",
       "</g>\n",
       "</g>\n",
       "<!-- Smoking&#45;&gt;Cancer -->\n",
       "<g id=\"edge1\" class=\"edge\">\n",
       "<title>Smoking-&gt;Cancer</title>\n",
       "<g id=\"a_edge1\"><a xlink:title=\"0 → 1\">\n",
       "<path fill=\"none\" stroke=\"#4a4a4a\" d=\"M44.7,-71.7C44.7,-64.41 44.7,-55.73 44.7,-47.54\"/>\n",
       "<polygon fill=\"#4a4a4a\" stroke=\"#4a4a4a\" points=\"48.2,-47.62 44.7,-37.62 41.2,-47.62 48.2,-47.62\"/>\n",
       "</a>\n",
       "</g>\n",
       "</g>\n",
       "</g>\n",
       "</svg><br><center><small><em>the BN</em></small></center></div><div class=\"floating-box\"><table style=\"border:1px solid black;border-collapse: collapse;\">\n",
       "<tr><th colspan='1'></th>\n",
       "      <th colspan='2' style='border:1px solid black;color:black;background-color:#808080;'><center>Smoking</center>\n",
       "      </th></tr>\n",
       "<tr><th style='border:1px solid black;color:black;background-color:#808080'><center>Cancer</center></th><th style='border:1px solid black;border-bottom-style: double;color:black;background-color:#BBBBBB'>\n",
       "      <center>0</center></th><th style='border:1px solid black;border-bottom-style: double;color:black;background-color:#BBBBBB'>\n",
       "      <center>1</center></th></tr>\n",
       "<tr><th style='border:1px solid black;color:black;background-color:#BBBBBB'><center>0</center></th><td style='color:black;background-color:#b9c464;text-align:right;padding: 3px;'>0.5400</td><td style='color:black;background-color:#dba264;text-align:right;padding: 3px;'>0.2800</td></tr>\n",
       "<tr><th style='border:1px solid black;color:black;background-color:#BBBBBB'><center>1</center></th><td style='color:black;background-color:#f78664;text-align:right;padding: 3px;'>0.0600</td><td style='color:black;background-color:#ef8e64;text-align:right;padding: 3px;'>0.1200</td></tr>\n",
       "</table><br><center><small><em>the joint distribution</em></small></center></div><div class=\"floating-box\"><table style=\"border:1px solid black;border-collapse: collapse;\">\n",
       "<tr style='border:1px solid black;color:black;background-color:#808080'>\n",
       "      <th colspan='2'><center>Smoking</center></th></tr>\n",
       "<tr><th style='border:1px solid black;border-bottom-style: double;color:black;background-color:#BBBBBB'>\n",
       "      <center>0</center></th><th style='border:1px solid black;border-bottom-style: double;color:black;background-color:#BBBBBB'>\n",
       "      <center>1</center></th></tr>\n",
       "<tr><td style='color:black;background-color:#b2cb64;text-align:right;padding: 3px;'>0.6000</td><td style='color:black;background-color:#cbb264;text-align:right;padding: 3px;'>0.4000</td></tr>\n",
       "</table><br><center><small><em>the marginal for $smoking$</em></small></center></div><div class=\"floating-box\"><table style=\"border:1px solid black;border-collapse: collapse;\">\n",
       "<tr><th colspan='1'></th>\n",
       "      <th colspan='2' style='border:1px solid black;color:black;background-color:#808080;'><center>Cancer</center>\n",
       "      </th></tr>\n",
       "<tr><th style='border:1px solid black;color:black;background-color:#808080'><center>Smoking</center></th><th style='border:1px solid black;border-bottom-style: double;color:black;background-color:#BBBBBB'>\n",
       "      <center>0</center></th><th style='border:1px solid black;border-bottom-style: double;color:black;background-color:#BBBBBB'>\n",
       "      <center>1</center></th></tr>\n",
       "<tr><th style='border:1px solid black;color:black;background-color:#BBBBBB'><center>0</center></th><td style='color:black;background-color:#8bf264;text-align:right;padding: 3px;'>0.9000</td><td style='color:black;background-color:#f28b64;text-align:right;padding: 3px;'>0.1000</td></tr>\n",
       "<tr><th style='border:1px solid black;color:black;background-color:#BBBBBB'><center>1</center></th><td style='color:black;background-color:#a5d864;text-align:right;padding: 3px;'>0.7000</td><td style='color:black;background-color:#d8a564;text-align:right;padding: 3px;'>0.3000</td></tr>\n",
       "</table><br><center><small><em>the CPT for $cancer$</em></small></center></div>"
      ],
      "text/plain": [
       "<IPython.core.display.HTML object>"
      ]
     },
     "metadata": {},
     "output_type": "display_data"
    }
   ],
   "source": [
    "from IPython.display import display, Math, Latex,HTML\n",
    "\n",
    "import pyAgrum as gum\n",
    "import pyAgrum.lib.notebook as gnb\n",
    "import pyAgrum.causal as csl\n",
    "import pyAgrum.causal.notebook as cslnb\n",
    "\n",
    "\n",
    "\n",
    "obs1 = gum.fastBN(\"Smoking->Cancer\")\n",
    "\n",
    "obs1.cpt(\"Smoking\")[:]=[0.6,0.4]\n",
    "obs1.cpt(\"Cancer\")[{\"Smoking\":0}]=[0.9,0.1]\n",
    "obs1.cpt(\"Cancer\")[{\"Smoking\":1}]=[0.7,0.3]\n",
    "                  \n",
    "gnb.flow.row(obs1,obs1.cpt(\"Smoking\")*obs1.cpt(\"Cancer\"),obs1.cpt(\"Smoking\"),obs1.cpt(\"Cancer\"),\n",
    "               captions=[\"the BN\",\"the joint distribution\",\"the marginal for $smoking$\",\"the CPT for $cancer$\"])\n"
   ]
  },
  {
   "cell_type": "markdown",
   "metadata": {},
   "source": [
    "## Direct causality between Smoking and Cancer"
   ]
  },
  {
   "cell_type": "markdown",
   "metadata": {},
   "source": [
    "The very strong observed correlation between smoking and lung cancer suggests a causal relationship as the Surgeon General asserts in 1964, then, the proposed model is as follows :"
   ]
  },
  {
   "cell_type": "code",
   "execution_count": 2,
   "metadata": {
    "ExecuteTime": {
     "end_time": "2019-02-25T17:35:59.137526Z",
     "start_time": "2019-02-25T17:35:57.074634Z"
    }
   },
   "outputs": [
    {
     "data": {
      "text/html": [
       "\n",
       "      <style>\n",
       "      .floating-box {\n",
       "      display: inline-block;\n",
       "      margin: 7px;\n",
       "      padding : 3px;\n",
       "      border: 0px solid transparent;  \n",
       "      valign:middle;\n",
       "      background-color: transparent;\n",
       "      }\n",
       "      </style>\n",
       "      <div class=\"floating-box\"><svg xmlns=\"http://www.w3.org/2000/svg\" xmlns:xlink=\"http://www.w3.org/1999/xlink\" width=\"97pt\" height=\"116pt\" viewBox=\"0.00 0.00 97.40 116.00\">\n",
       "<g id=\"graph0\" class=\"graph\" transform=\"scale(1 1) rotate(0) translate(4 112)\">\n",
       "<title>G</title>\n",
       "<!-- Smoking -->\n",
       "<g id=\"node1\" class=\"node\">\n",
       "<title>Smoking</title>\n",
       "<ellipse fill=\"#404040\" stroke=\"#4a4a4a\" cx=\"44.7\" cy=\"-90\" rx=\"44.7\" ry=\"18\"/>\n",
       "<text text-anchor=\"middle\" x=\"44.7\" y=\"-84.95\" font-family=\"Times,serif\" font-size=\"14.00\" fill=\"white\">Smoking</text>\n",
       "</g>\n",
       "<!-- Cancer -->\n",
       "<g id=\"node2\" class=\"node\">\n",
       "<title>Cancer</title>\n",
       "<ellipse fill=\"#404040\" stroke=\"#4a4a4a\" cx=\"44.7\" cy=\"-18\" rx=\"37.02\" ry=\"18\"/>\n",
       "<text text-anchor=\"middle\" x=\"44.7\" y=\"-12.95\" font-family=\"Times,serif\" font-size=\"14.00\" fill=\"white\">Cancer</text>\n",
       "</g>\n",
       "<!-- Smoking&#45;&gt;Cancer -->\n",
       "<g id=\"edge1\" class=\"edge\">\n",
       "<title>Smoking-&gt;Cancer</title>\n",
       "<path fill=\"none\" stroke=\"#4a4a4a\" d=\"M43.7,-71.7C43.7,-64.41 43.7,-55.73 43.7,-47.54\"/>\n",
       "<path fill=\"none\" stroke=\"#4a4a4a\" d=\"M45.7,-71.7C45.7,-64.41 45.7,-55.73 45.7,-47.54\"/>\n",
       "<polygon fill=\"#4a4a4a\" stroke=\"#4a4a4a\" points=\"48.2,-47.62 44.7,-37.62 41.2,-47.62 48.2,-47.62\"/>\n",
       "</g>\n",
       "</g>\n",
       "</svg><br><center><small><em>Causal Model</em></small></center></div><div class=\"floating-box\">$$\\begin{equation*}P( Cancer \\mid \\text{do}(Smoking)) = P\\left(Cancer\\mid Smoking\\right)\\end{equation*}$$<br><center><small><em>Explanation : Do-calculus computations</em></small></center></div><div class=\"floating-box\"><table style=\"border:1px solid black;border-collapse: collapse;\">\n",
       "<tr style='border:1px solid black;color:black;background-color:#808080'>\n",
       "      <th colspan='2'><center>Cancer</center></th></tr>\n",
       "<tr><th style='border:1px solid black;border-bottom-style: double;color:black;background-color:#BBBBBB'>\n",
       "      <center>0</center></th><th style='border:1px solid black;border-bottom-style: double;color:black;background-color:#BBBBBB'>\n",
       "      <center>1</center></th></tr>\n",
       "<tr><td style='color:black;background-color:#a5d864;text-align:right;padding: 3px;'>0.7000</td><td style='color:black;background-color:#d8a564;text-align:right;padding: 3px;'>0.3000</td></tr>\n",
       "</table><br><center><small><em>Impact</em></small></center></div>"
      ],
      "text/plain": [
       "<IPython.core.display.HTML object>"
      ]
     },
     "metadata": {},
     "output_type": "display_data"
    }
   ],
   "source": [
    "# the Bayesian network is causal\n",
    "modele1=csl.CausalModel(obs1)\n",
    "\n",
    "cslnb.showCausalImpact(modele1,\"Cancer\", \"Smoking\", values={\"Smoking\":1})\n"
   ]
  },
  {
   "cell_type": "markdown",
   "metadata": {},
   "source": [
    "## Latent confounder between Smoking and Cancer"
   ]
  },
  {
   "cell_type": "markdown",
   "metadata": {},
   "source": [
    "This model is highly contested by the tobacco industry which answers by proposing a different model in which Smoking and Cancer are simultaneously provoked by a common factor, the Genotype (or other latent variable) :"
   ]
  },
  {
   "cell_type": "code",
   "execution_count": 3,
   "metadata": {
    "ExecuteTime": {
     "end_time": "2019-02-25T17:36:01.212760Z",
     "start_time": "2019-02-25T17:35:59.140887Z"
    }
   },
   "outputs": [
    {
     "data": {
      "text/html": [
       "\n",
       "      <style>\n",
       "      .floating-box {\n",
       "      display: inline-block;\n",
       "      margin: 7px;\n",
       "      padding : 3px;\n",
       "      border: 0px solid transparent;  \n",
       "      valign:middle;\n",
       "      background-color: transparent;\n",
       "      }\n",
       "      </style>\n",
       "      <div class=\"floating-box\"><svg xmlns=\"http://www.w3.org/2000/svg\" xmlns:xlink=\"http://www.w3.org/1999/xlink\" width=\"180pt\" height=\"79pt\" viewBox=\"0.00 0.00 180.00 79.32\">\n",
       "<g id=\"graph0\" class=\"graph\" transform=\"scale(0.948773 0.948773) rotate(0) translate(4 79.6)\">\n",
       "<title>G</title>\n",
       "<!-- Genotype -->\n",
       "<g id=\"node1\" class=\"node\">\n",
       "<title>Genotype</title>\n",
       "<ellipse fill=\"#404040\" stroke=\"#4a4a4a\" cx=\"94.7\" cy=\"-73.8\" rx=\"1.8\" ry=\"1.8\"/>\n",
       "</g>\n",
       "<!-- Smoking -->\n",
       "<g id=\"node2\" class=\"node\">\n",
       "<title>Smoking</title>\n",
       "<ellipse fill=\"#404040\" stroke=\"#4a4a4a\" cx=\"44.7\" cy=\"-18\" rx=\"44.7\" ry=\"18\"/>\n",
       "<text text-anchor=\"middle\" x=\"44.7\" y=\"-12.95\" font-family=\"Times,serif\" font-size=\"14.00\" fill=\"white\">Smoking</text>\n",
       "</g>\n",
       "<!-- Genotype&#45;&gt;Smoking -->\n",
       "<g id=\"edge1\" class=\"edge\">\n",
       "<title>Genotype-&gt;Smoking</title>\n",
       "<path fill=\"none\" stroke=\"#4a4a4a\" stroke-dasharray=\"5,2\" d=\"M93.83,-71.87C90.56,-68.35 78.62,-55.5 67.33,-43.35\"/>\n",
       "<polygon fill=\"#4a4a4a\" stroke=\"#4a4a4a\" points=\"70.13,-41.22 60.76,-36.28 65,-45.99 70.13,-41.22\"/>\n",
       "</g>\n",
       "<!-- Cancer -->\n",
       "<g id=\"node3\" class=\"node\">\n",
       "<title>Cancer</title>\n",
       "<ellipse fill=\"#404040\" stroke=\"#4a4a4a\" cx=\"144.7\" cy=\"-18\" rx=\"37.02\" ry=\"18\"/>\n",
       "<text text-anchor=\"middle\" x=\"144.7\" y=\"-12.95\" font-family=\"Times,serif\" font-size=\"14.00\" fill=\"white\">Cancer</text>\n",
       "</g>\n",
       "<!-- Genotype&#45;&gt;Cancer -->\n",
       "<g id=\"edge2\" class=\"edge\">\n",
       "<title>Genotype-&gt;Cancer</title>\n",
       "<path fill=\"none\" stroke=\"#4a4a4a\" stroke-dasharray=\"5,2\" d=\"M95.57,-71.87C98.85,-68.33 110.93,-55.33 122.29,-43.12\"/>\n",
       "<polygon fill=\"#4a4a4a\" stroke=\"#4a4a4a\" points=\"124.64,-45.72 128.89,-36.01 119.51,-40.96 124.64,-45.72\"/>\n",
       "</g>\n",
       "</g>\n",
       "</svg><br><center><small><em>Causal Model</em></small></center></div><div class=\"floating-box\">$$\\begin{equation*}P( Cancer \\mid \\text{do}(Smoking)) = P\\left(Cancer\\right)\\end{equation*}$$<br><center><small><em>Explanation : No causal effect of X on Y, because they are d-separated (conditioning on the observed variables if any).</em></small></center></div><div class=\"floating-box\"><table style=\"border:1px solid black;border-collapse: collapse;\">\n",
       "<tr style='border:1px solid black;color:black;background-color:#808080'>\n",
       "      <th colspan='2'><center>Cancer</center></th></tr>\n",
       "<tr><th style='border:1px solid black;border-bottom-style: double;color:black;background-color:#BBBBBB'>\n",
       "      <center>0</center></th><th style='border:1px solid black;border-bottom-style: double;color:black;background-color:#BBBBBB'>\n",
       "      <center>1</center></th></tr>\n",
       "<tr><td style='color:black;background-color:#96e764;text-align:right;padding: 3px;'>0.8200</td><td style='color:black;background-color:#e79664;text-align:right;padding: 3px;'>0.1800</td></tr>\n",
       "</table><br><center><small><em>Impact</em></small></center></div>"
      ],
      "text/plain": [
       "<IPython.core.display.HTML object>"
      ]
     },
     "metadata": {},
     "output_type": "display_data"
    }
   ],
   "source": [
    "# a latent varible exists between Smoking and Cancer in the causal model\n",
    "modele2 = csl.CausalModel(obs1, [(\"Genotype\", [\"Smoking\",\"Cancer\"])])\n",
    "\n",
    "cslnb.showCausalImpact(modele2, \"Cancer\", \"Smoking\",values={\"Smoking\":1})\n"
   ]
  },
  {
   "cell_type": "code",
   "execution_count": 4,
   "metadata": {
    "ExecuteTime": {
     "end_time": "2019-02-25T17:36:01.223809Z",
     "start_time": "2019-02-25T17:36:01.218241Z"
    }
   },
   "outputs": [
    {
     "data": {
      "text/html": [
       "<table style=\"border:1px solid black;border-collapse: collapse;\">\n",
       "<tr style='border:1px solid black;color:black;background-color:#808080'>\n",
       "      <th colspan='2'><center>Cancer</center></th></tr>\n",
       "<tr><th style='border:1px solid black;border-bottom-style: double;color:black;background-color:#BBBBBB'>\n",
       "      <center>0</center></th><th style='border:1px solid black;border-bottom-style: double;color:black;background-color:#BBBBBB'>\n",
       "      <center>1</center></th></tr>\n",
       "<tr><td style='color:black;background-color:#96e764;text-align:right;padding: 3px;'>0.8200</td><td style='color:black;background-color:#e79664;text-align:right;padding: 3px;'>0.1800</td></tr>\n",
       "</table>"
      ],
      "text/plain": [
       "(pyAgrum.Potential<double>@0x600001189260) \n",
       "  Cancer           |\n",
       "0        |1        |\n",
       "---------|---------|\n",
       " 0.8200  | 0.1800  |"
      ]
     },
     "execution_count": 4,
     "metadata": {},
     "output_type": "execute_result"
    }
   ],
   "source": [
    "# just check P(Cancer) in the bn `obs1`\n",
    "(obs1.cpt(\"Smoking\")*obs1.cpt(\"Cancer\")).margSumIn([\"Cancer\"])\n"
   ]
  },
  {
   "cell_type": "markdown",
   "metadata": {},
   "source": [
    "## Confounder and direct causality"
   ]
  },
  {
   "cell_type": "markdown",
   "metadata": {},
   "source": [
    "In a diplomatic effort, both parts agree that there must be some truth in both models :"
   ]
  },
  {
   "cell_type": "code",
   "execution_count": 5,
   "metadata": {
    "ExecuteTime": {
     "end_time": "2019-02-25T17:36:03.359411Z",
     "start_time": "2019-02-25T17:36:01.226839Z"
    }
   },
   "outputs": [
    {
     "data": {
      "text/html": [
       "\n",
       "      <style>\n",
       "      .floating-box {\n",
       "      display: inline-block;\n",
       "      margin: 7px;\n",
       "      padding : 3px;\n",
       "      border: 0px solid transparent;  \n",
       "      valign:middle;\n",
       "      background-color: transparent;\n",
       "      }\n",
       "      </style>\n",
       "      <div class=\"floating-box\"><svg xmlns=\"http://www.w3.org/2000/svg\" xmlns:xlink=\"http://www.w3.org/1999/xlink\" width=\"126pt\" height=\"156pt\" viewBox=\"0.00 0.00 125.72 155.60\">\n",
       "<g id=\"graph0\" class=\"graph\" transform=\"scale(1 1) rotate(0) translate(4 151.6)\">\n",
       "<title>G</title>\n",
       "<!-- Genotype -->\n",
       "<g id=\"node1\" class=\"node\">\n",
       "<title>Genotype</title>\n",
       "<ellipse fill=\"#404040\" stroke=\"#4a4a4a\" cx=\"80.7\" cy=\"-145.8\" rx=\"1.8\" ry=\"1.8\"/>\n",
       "</g>\n",
       "<!-- Smoking -->\n",
       "<g id=\"node2\" class=\"node\">\n",
       "<title>Smoking</title>\n",
       "<ellipse fill=\"#404040\" stroke=\"#4a4a4a\" cx=\"44.7\" cy=\"-90\" rx=\"44.7\" ry=\"18\"/>\n",
       "<text text-anchor=\"middle\" x=\"44.7\" y=\"-84.95\" font-family=\"Times,serif\" font-size=\"14.00\" fill=\"white\">Smoking</text>\n",
       "</g>\n",
       "<!-- Genotype&#45;&gt;Smoking -->\n",
       "<g id=\"edge2\" class=\"edge\">\n",
       "<title>Genotype-&gt;Smoking</title>\n",
       "<path fill=\"none\" stroke=\"#4a4a4a\" stroke-dasharray=\"5,2\" d=\"M80.07,-143.87C77.84,-140.53 69.98,-128.78 62.24,-117.21\"/>\n",
       "<polygon fill=\"#4a4a4a\" stroke=\"#4a4a4a\" points=\"65.19,-115.34 56.72,-108.97 59.38,-119.23 65.19,-115.34\"/>\n",
       "</g>\n",
       "<!-- Cancer -->\n",
       "<g id=\"node3\" class=\"node\">\n",
       "<title>Cancer</title>\n",
       "<ellipse fill=\"#404040\" stroke=\"#4a4a4a\" cx=\"80.7\" cy=\"-18\" rx=\"37.02\" ry=\"18\"/>\n",
       "<text text-anchor=\"middle\" x=\"80.7\" y=\"-12.95\" font-family=\"Times,serif\" font-size=\"14.00\" fill=\"white\">Cancer</text>\n",
       "</g>\n",
       "<!-- Genotype&#45;&gt;Cancer -->\n",
       "<g id=\"edge3\" class=\"edge\">\n",
       "<title>Genotype-&gt;Cancer</title>\n",
       "<path fill=\"none\" stroke=\"#4a4a4a\" stroke-dasharray=\"5,2\" d=\"M81.46,-143.73C84.41,-139.47 95.17,-123.24 98.7,-108 103.45,-87.46 98.33,-64.1 92.35,-46.47\"/>\n",
       "<polygon fill=\"#4a4a4a\" stroke=\"#4a4a4a\" points=\"95.68,-45.37 88.92,-37.21 89.11,-47.8 95.68,-45.37\"/>\n",
       "</g>\n",
       "<!-- Smoking&#45;&gt;Cancer -->\n",
       "<g id=\"edge1\" class=\"edge\">\n",
       "<title>Smoking-&gt;Cancer</title>\n",
       "<path fill=\"none\" stroke=\"#4a4a4a\" d=\"M52.52,-71.6C56.55,-63.77 61.42,-54.29 65.93,-45.52\"/>\n",
       "<path fill=\"none\" stroke=\"#4a4a4a\" d=\"M54.3,-72.51C58.33,-64.69 63.2,-55.21 67.71,-46.43\"/>\n",
       "<polygon fill=\"#4a4a4a\" stroke=\"#4a4a4a\" points=\"69.91,-47.63 71.37,-37.13 63.69,-44.43 69.91,-47.63\"/>\n",
       "</g>\n",
       "</g>\n",
       "</svg><br><center><small><em>Causal Model</em></small></center></div><div class=\"floating-box\">Hedge Error: G={'Smoking', 'Cancer'}, G[S]={'Cancer'}<br><center><small><em>Impossible</em></small></center></div><div class=\"floating-box\">No result<br><center><small><em>Impact</em></small></center></div>"
      ],
      "text/plain": [
       "<IPython.core.display.HTML object>"
      ]
     },
     "metadata": {},
     "output_type": "display_data"
    }
   ],
   "source": [
    "# a latent variable exists between Smoking and Cancer but the direct causal relation exists also\n",
    "modele3 = csl.CausalModel(obs1, [(\"Genotype\", [\"Smoking\",\"Cancer\"])], True)\n",
    "\n",
    "cslnb.showCausalImpact(modele3, \"Cancer\", \"Smoking\",values={\"Smoking\":1})\n"
   ]
  },
  {
   "cell_type": "markdown",
   "metadata": {},
   "source": [
    "Smoking's causal effect on Cancer becomes uncomputable in such a model because we can't distinguish both causes' impact from the observations."
   ]
  },
  {
   "cell_type": "markdown",
   "metadata": {},
   "source": [
    "## A intermediary observed variable\n",
    "We introduce an auxilary factor between Smoking and Cancer, tobacco causes cancer because of the tar deposits in the lungs."
   ]
  },
  {
   "cell_type": "code",
   "execution_count": 6,
   "metadata": {
    "ExecuteTime": {
     "end_time": "2019-02-25T17:36:05.529750Z",
     "start_time": "2019-02-25T17:36:03.361730Z"
    }
   },
   "outputs": [
    {
     "data": {
      "text/html": [
       "\n",
       "      <style>\n",
       "      .floating-box {\n",
       "      display: inline-block;\n",
       "      margin: 7px;\n",
       "      padding : 3px;\n",
       "      border: 0px solid transparent;  \n",
       "      valign:middle;\n",
       "      background-color: transparent;\n",
       "      }\n",
       "      </style>\n",
       "      <div class=\"floating-box\"><svg xmlns=\"http://www.w3.org/2000/svg\" xmlns:xlink=\"http://www.w3.org/1999/xlink\" width=\"107pt\" height=\"188pt\" viewBox=\"0.00 0.00 106.70 188.00\">\n",
       "<g id=\"graph0\" class=\"graph\" transform=\"scale(1 1) rotate(0) translate(4 184)\">\n",
       "<title>G</title>\n",
       "<!-- Smoking -->\n",
       "<g id=\"node1\" class=\"node\">\n",
       "<title>Smoking</title>\n",
       "<g id=\"a_node1\"><a xlink:title=\"(0) Smoking\">\n",
       "<ellipse fill=\"#404040\" stroke=\"#4a4a4a\" cx=\"54\" cy=\"-162\" rx=\"44.7\" ry=\"18\"/>\n",
       "<text text-anchor=\"middle\" x=\"54\" y=\"-156.95\" font-family=\"Times,serif\" font-size=\"14.00\" fill=\"white\">Smoking</text>\n",
       "</a>\n",
       "</g>\n",
       "</g>\n",
       "<!-- Tar -->\n",
       "<g id=\"node2\" class=\"node\">\n",
       "<title>Tar</title>\n",
       "<g id=\"a_node2\"><a xlink:title=\"(1) Tar\">\n",
       "<ellipse fill=\"#404040\" stroke=\"#4a4a4a\" cx=\"27\" cy=\"-90\" rx=\"27\" ry=\"18\"/>\n",
       "<text text-anchor=\"middle\" x=\"27\" y=\"-84.95\" font-family=\"Times,serif\" font-size=\"14.00\" fill=\"white\">Tar</text>\n",
       "</a>\n",
       "</g>\n",
       "</g>\n",
       "<!-- Smoking&#45;&gt;Tar -->\n",
       "<g id=\"edge1\" class=\"edge\">\n",
       "<title>Smoking-&gt;Tar</title>\n",
       "<g id=\"a_edge1\"><a xlink:title=\"0 → 1\">\n",
       "<path fill=\"none\" stroke=\"#4a4a4a\" d=\"M47.46,-144.05C44.48,-136.32 40.87,-126.96 37.52,-118.27\"/>\n",
       "<polygon fill=\"#4a4a4a\" stroke=\"#4a4a4a\" points=\"40.88,-117.27 34.02,-109.2 34.35,-119.79 40.88,-117.27\"/>\n",
       "</a>\n",
       "</g>\n",
       "</g>\n",
       "<!-- Cancer -->\n",
       "<g id=\"node3\" class=\"node\">\n",
       "<title>Cancer</title>\n",
       "<g id=\"a_node3\"><a xlink:title=\"(2) Cancer\">\n",
       "<ellipse fill=\"#404040\" stroke=\"#4a4a4a\" cx=\"54\" cy=\"-18\" rx=\"37.02\" ry=\"18\"/>\n",
       "<text text-anchor=\"middle\" x=\"54\" y=\"-12.95\" font-family=\"Times,serif\" font-size=\"14.00\" fill=\"white\">Cancer</text>\n",
       "</a>\n",
       "</g>\n",
       "</g>\n",
       "<!-- Smoking&#45;&gt;Cancer -->\n",
       "<g id=\"edge2\" class=\"edge\">\n",
       "<title>Smoking-&gt;Cancer</title>\n",
       "<g id=\"a_edge2\"><a xlink:title=\"0 → 2\">\n",
       "<path fill=\"none\" stroke=\"#4a4a4a\" d=\"M57.65,-143.91C59.68,-133.57 61.98,-120.09 63,-108 64.34,-92.06 64.34,-87.94 63,-72 62.32,-63.97 61.08,-55.33 59.73,-47.4\"/>\n",
       "<polygon fill=\"#4a4a4a\" stroke=\"#4a4a4a\" points=\"63.17,-46.79 57.93,-37.58 56.29,-48.05 63.17,-46.79\"/>\n",
       "</a>\n",
       "</g>\n",
       "</g>\n",
       "<!-- Tar&#45;&gt;Cancer -->\n",
       "<g id=\"edge3\" class=\"edge\">\n",
       "<title>Tar-&gt;Cancer</title>\n",
       "<g id=\"a_edge3\"><a xlink:title=\"1 → 2\">\n",
       "<path fill=\"none\" stroke=\"#4a4a4a\" d=\"M33.54,-72.05C36.52,-64.32 40.13,-54.96 43.48,-46.27\"/>\n",
       "<polygon fill=\"#4a4a4a\" stroke=\"#4a4a4a\" points=\"46.65,-47.79 46.98,-37.2 40.12,-45.27 46.65,-47.79\"/>\n",
       "</a>\n",
       "</g>\n",
       "</g>\n",
       "</g>\n",
       "</svg></div><div class=\"floating-box\"><table style=\"border:1px solid black;border-collapse: collapse;\">\n",
       "<tr style='border:1px solid black;color:black;background-color:#808080'>\n",
       "      <th colspan='2'><center>Smoking</center></th></tr>\n",
       "<tr><th style='border:1px solid black;border-bottom-style: double;color:black;background-color:#BBBBBB'>\n",
       "      <center>0</center></th><th style='border:1px solid black;border-bottom-style: double;color:black;background-color:#BBBBBB'>\n",
       "      <center>1</center></th></tr>\n",
       "<tr><td style='color:black;background-color:#b2cb64;text-align:right;padding: 3px;'>0.6000</td><td style='color:black;background-color:#cbb264;text-align:right;padding: 3px;'>0.4000</td></tr>\n",
       "</table><br><center><small><em>$P(Smoking)$</em></small></center></div><div class=\"floating-box\"><table style=\"border:1px solid black;border-collapse: collapse;\">\n",
       "<tr><th colspan='1'></th>\n",
       "      <th colspan='2' style='border:1px solid black;color:black;background-color:#808080;'><center>Tar</center>\n",
       "      </th></tr>\n",
       "<tr><th style='border:1px solid black;color:black;background-color:#808080'><center>Smoking</center></th><th style='border:1px solid black;border-bottom-style: double;color:black;background-color:#BBBBBB'>\n",
       "      <center>0</center></th><th style='border:1px solid black;border-bottom-style: double;color:black;background-color:#BBBBBB'>\n",
       "      <center>1</center></th></tr>\n",
       "<tr><th style='border:1px solid black;color:black;background-color:#BBBBBB'><center>0</center></th><td style='color:black;background-color:#8bf264;text-align:right;padding: 3px;'>0.9000</td><td style='color:black;background-color:#f28b64;text-align:right;padding: 3px;'>0.1000</td></tr>\n",
       "<tr><th style='border:1px solid black;color:black;background-color:#BBBBBB'><center>1</center></th><td style='color:black;background-color:#a5d864;text-align:right;padding: 3px;'>0.7000</td><td style='color:black;background-color:#d8a564;text-align:right;padding: 3px;'>0.3000</td></tr>\n",
       "</table><br><center><small><em>$P(Tar|Smoking)$</em></small></center></div><div class=\"floating-box\"><table style=\"border:1px solid black;border-collapse: collapse;\">\n",
       "<tr><th colspan='2'></th>\n",
       "      <th colspan='2' style='border:1px solid black;color:black;background-color:#808080;'><center>Cancer</center>\n",
       "      </th></tr>\n",
       "<tr><th style='border:1px solid black;color:black;background-color:#808080'><center>Smoking</center></th><th style='border:1px solid black;color:black;background-color:#808080'><center>Tar</center></th><th style='border:1px solid black;border-bottom-style: double;color:black;background-color:#BBBBBB'>\n",
       "      <center>0</center></th><th style='border:1px solid black;border-bottom-style: double;color:black;background-color:#BBBBBB'>\n",
       "      <center>1</center></th></tr>\n",
       "<tr><th style='border:1px solid black;color:black;background-color:#BBBBBB;' rowspan = '2'>\n",
       "            <center>0</center></th><th style='border:1px solid black;color:black;background-color:#BBBBBB'><center>0</center></th><td style='color:black;background-color:#8bf264;text-align:right;padding: 3px;'>0.9000</td><td style='color:black;background-color:#f28b64;text-align:right;padding: 3px;'>0.1000</td></tr>\n",
       "<tr><th style='border:1px solid black;color:black;background-color:#BBBBBB'><center>1</center></th><td style='color:black;background-color:#98e564;text-align:right;padding: 3px;'>0.8000</td><td style='color:black;background-color:#e59864;text-align:right;padding: 3px;'>0.2000</td></tr>\n",
       "<tr><th style='border:1px solid black;color:black;background-color:#BBBBBB;' rowspan = '2'>\n",
       "            <center>1</center></th><th style='border:1px solid black;color:black;background-color:#BBBBBB'><center>0</center></th><td style='color:black;background-color:#a5d864;text-align:right;padding: 3px;'>0.7000</td><td style='color:black;background-color:#d8a564;text-align:right;padding: 3px;'>0.3000</td></tr>\n",
       "<tr><th style='border:1px solid black;color:black;background-color:#BBBBBB'><center>1</center></th><td style='color:black;background-color:#b2cb64;text-align:right;padding: 3px;'>0.6000</td><td style='color:black;background-color:#cbb264;text-align:right;padding: 3px;'>0.4000</td></tr>\n",
       "</table><br><center><small><em>$P(Cancer|Tar,Smoking)$</em></small></center></div>"
      ],
      "text/plain": [
       "<IPython.core.display.HTML object>"
      ]
     },
     "metadata": {},
     "output_type": "display_data"
    }
   ],
   "source": [
    "obs2 = gum.fastBN(\"Smoking->Tar->Cancer;Smoking->Cancer\")\n",
    "\n",
    "obs2.cpt(\"Smoking\")[:] = [0.6, 0.4]\n",
    "obs2.cpt(\"Tar\")[{\"Smoking\": 0}] = [0.9, 0.1]\n",
    "obs2.cpt(\"Tar\")[{\"Smoking\": 1}] = [0.7, 0.3]\n",
    "obs2.cpt(\"Cancer\")[{\"Tar\": 0, \"Smoking\": 0}] = [0.9, 0.1]\n",
    "obs2.cpt(\"Cancer\")[{\"Tar\": 1, \"Smoking\": 0}] = [0.8, 0.2]\n",
    "obs2.cpt(\"Cancer\")[{\"Tar\": 0, \"Smoking\": 1}] = [0.7, 0.3]\n",
    "obs2.cpt(\"Cancer\")[{\"Tar\": 1, \"Smoking\": 1}] = [0.6, 0.4]\n",
    "\n",
    "gnb.flow.row(obs2,obs2.cpt(\"Smoking\"),obs2.cpt(\"Tar\"),obs2.cpt(\"Cancer\"),\n",
    "               captions=[\"\",\"$P(Smoking)$\",\"$P(Tar|Smoking)$\",\"$P(Cancer|Tar,Smoking)$\"])\n"
   ]
  },
  {
   "cell_type": "code",
   "execution_count": 7,
   "metadata": {
    "ExecuteTime": {
     "end_time": "2019-02-25T17:36:07.761131Z",
     "start_time": "2019-02-25T17:36:05.531917Z"
    },
    "tags": []
   },
   "outputs": [],
   "source": [
    "modele4 = csl.CausalModel(obs2, [(\"Genotype\", [\"Smoking\",\"Cancer\"])])"
   ]
  },
  {
   "cell_type": "code",
   "execution_count": 8,
   "metadata": {
    "ExecuteTime": {
     "end_time": "2019-02-25T17:36:07.761131Z",
     "start_time": "2019-02-25T17:36:05.531917Z"
    },
    "tags": [
     "nbsphinx-thumbnail"
    ]
   },
   "outputs": [
    {
     "data": {
      "image/svg+xml": [
       "<svg xmlns=\"http://www.w3.org/2000/svg\" xmlns:xlink=\"http://www.w3.org/1999/xlink\" width=\"99pt\" height=\"180pt\" viewBox=\"0.00 0.00 99.43 180.00\">\n",
       "<g id=\"graph0\" class=\"graph\" transform=\"scale(0.790861 0.790861) rotate(0) translate(4 223.6)\">\n",
       "<title>G</title>\n",
       "<!-- Genotype -->\n",
       "<g id=\"node1\" class=\"node\">\n",
       "<title>Genotype</title>\n",
       "<ellipse fill=\"#404040\" stroke=\"#4a4a4a\" cx=\"80.7\" cy=\"-217.8\" rx=\"1.8\" ry=\"1.8\"/>\n",
       "</g>\n",
       "<!-- Smoking -->\n",
       "<g id=\"node2\" class=\"node\">\n",
       "<title>Smoking</title>\n",
       "<ellipse fill=\"#404040\" stroke=\"#4a4a4a\" cx=\"44.7\" cy=\"-162\" rx=\"44.7\" ry=\"18\"/>\n",
       "<text text-anchor=\"middle\" x=\"44.7\" y=\"-156.95\" font-family=\"Times,serif\" font-size=\"14.00\" fill=\"white\">Smoking</text>\n",
       "</g>\n",
       "<!-- Genotype&#45;&gt;Smoking -->\n",
       "<g id=\"edge4\" class=\"edge\">\n",
       "<title>Genotype-&gt;Smoking</title>\n",
       "<path fill=\"none\" stroke=\"#4a4a4a\" stroke-dasharray=\"5,2\" d=\"M80.07,-215.87C77.84,-212.53 69.98,-200.78 62.24,-189.21\"/>\n",
       "<polygon fill=\"#4a4a4a\" stroke=\"#4a4a4a\" points=\"65.19,-187.34 56.72,-180.97 59.38,-191.23 65.19,-187.34\"/>\n",
       "</g>\n",
       "<!-- Cancer -->\n",
       "<g id=\"node4\" class=\"node\">\n",
       "<title>Cancer</title>\n",
       "<ellipse fill=\"#404040\" stroke=\"#4a4a4a\" cx=\"80.7\" cy=\"-18\" rx=\"37.02\" ry=\"18\"/>\n",
       "<text text-anchor=\"middle\" x=\"80.7\" y=\"-12.95\" font-family=\"Times,serif\" font-size=\"14.00\" fill=\"white\">Cancer</text>\n",
       "</g>\n",
       "<!-- Genotype&#45;&gt;Cancer -->\n",
       "<g id=\"edge2\" class=\"edge\">\n",
       "<title>Genotype-&gt;Cancer</title>\n",
       "<path fill=\"none\" stroke=\"#4a4a4a\" stroke-dasharray=\"5,2\" d=\"M81.46,-215.73C84.41,-211.47 95.17,-195.24 98.7,-180 109.32,-134.12 98.35,-79.38 89.48,-47\"/>\n",
       "<polygon fill=\"#4a4a4a\" stroke=\"#4a4a4a\" points=\"92.91,-46.24 86.78,-37.59 86.18,-48.17 92.91,-46.24\"/>\n",
       "</g>\n",
       "<!-- Tar -->\n",
       "<g id=\"node3\" class=\"node\">\n",
       "<title>Tar</title>\n",
       "<ellipse fill=\"#404040\" stroke=\"#4a4a4a\" cx=\"53.7\" cy=\"-90\" rx=\"27\" ry=\"18\"/>\n",
       "<text text-anchor=\"middle\" x=\"53.7\" y=\"-84.95\" font-family=\"Times,serif\" font-size=\"14.00\" fill=\"white\">Tar</text>\n",
       "</g>\n",
       "<!-- Smoking&#45;&gt;Tar -->\n",
       "<g id=\"edge1\" class=\"edge\">\n",
       "<title>Smoking-&gt;Tar</title>\n",
       "<path fill=\"none\" stroke=\"#4a4a4a\" d=\"M45.93,-143.57C46.88,-136.19 48.01,-127.4 49.07,-119.12\"/>\n",
       "<path fill=\"none\" stroke=\"#4a4a4a\" d=\"M47.91,-143.82C48.86,-136.45 49.99,-127.65 51.06,-119.38\"/>\n",
       "<polygon fill=\"#4a4a4a\" stroke=\"#4a4a4a\" points=\"53.5,-119.97 51.31,-109.61 46.56,-119.08 53.5,-119.97\"/>\n",
       "</g>\n",
       "<!-- Tar&#45;&gt;Cancer -->\n",
       "<g id=\"edge3\" class=\"edge\">\n",
       "<title>Tar-&gt;Cancer</title>\n",
       "<path fill=\"none\" stroke=\"#4a4a4a\" d=\"M59.3,-71.7C62.29,-63.96 65.9,-54.6 69.25,-45.91\"/>\n",
       "<path fill=\"none\" stroke=\"#4a4a4a\" d=\"M61.17,-72.41C64.15,-64.68 67.76,-55.32 71.11,-46.63\"/>\n",
       "<polygon fill=\"#4a4a4a\" stroke=\"#4a4a4a\" points=\"73.34,-47.79 73.68,-37.2 66.81,-45.27 73.34,-47.79\"/>\n",
       "</g>\n",
       "</g>\n",
       "</svg>"
      ],
      "text/plain": [
       "<IPython.core.display.SVG object>"
      ]
     },
     "metadata": {},
     "output_type": "display_data"
    }
   ],
   "source": [
    "cslnb.showCausalModel(modele4)"
   ]
  },
  {
   "cell_type": "code",
   "execution_count": 9,
   "metadata": {
    "ExecuteTime": {
     "end_time": "2019-02-25T17:36:07.761131Z",
     "start_time": "2019-02-25T17:36:05.531917Z"
    },
    "tags": []
   },
   "outputs": [
    {
     "data": {
      "text/html": [
       "\n",
       "      <style>\n",
       "      .floating-box {\n",
       "      display: inline-block;\n",
       "      margin: 7px;\n",
       "      padding : 3px;\n",
       "      border: 0px solid transparent;  \n",
       "      valign:middle;\n",
       "      background-color: transparent;\n",
       "      }\n",
       "      </style>\n",
       "      <div class=\"floating-box\"><svg xmlns=\"http://www.w3.org/2000/svg\" xmlns:xlink=\"http://www.w3.org/1999/xlink\" width=\"99pt\" height=\"180pt\" viewBox=\"0.00 0.00 99.43 180.00\">\n",
       "<g id=\"graph0\" class=\"graph\" transform=\"scale(0.790861 0.790861) rotate(0) translate(4 223.6)\">\n",
       "<title>G</title>\n",
       "<!-- Genotype -->\n",
       "<g id=\"node1\" class=\"node\">\n",
       "<title>Genotype</title>\n",
       "<ellipse fill=\"#404040\" stroke=\"#4a4a4a\" cx=\"80.7\" cy=\"-217.8\" rx=\"1.8\" ry=\"1.8\"/>\n",
       "</g>\n",
       "<!-- Smoking -->\n",
       "<g id=\"node2\" class=\"node\">\n",
       "<title>Smoking</title>\n",
       "<ellipse fill=\"#404040\" stroke=\"#4a4a4a\" cx=\"44.7\" cy=\"-162\" rx=\"44.7\" ry=\"18\"/>\n",
       "<text text-anchor=\"middle\" x=\"44.7\" y=\"-156.95\" font-family=\"Times,serif\" font-size=\"14.00\" fill=\"white\">Smoking</text>\n",
       "</g>\n",
       "<!-- Genotype&#45;&gt;Smoking -->\n",
       "<g id=\"edge4\" class=\"edge\">\n",
       "<title>Genotype-&gt;Smoking</title>\n",
       "<path fill=\"none\" stroke=\"#4a4a4a\" stroke-dasharray=\"5,2\" d=\"M80.07,-215.87C77.84,-212.53 69.98,-200.78 62.24,-189.21\"/>\n",
       "<polygon fill=\"#4a4a4a\" stroke=\"#4a4a4a\" points=\"65.19,-187.34 56.72,-180.97 59.38,-191.23 65.19,-187.34\"/>\n",
       "</g>\n",
       "<!-- Cancer -->\n",
       "<g id=\"node4\" class=\"node\">\n",
       "<title>Cancer</title>\n",
       "<ellipse fill=\"#404040\" stroke=\"#4a4a4a\" cx=\"80.7\" cy=\"-18\" rx=\"37.02\" ry=\"18\"/>\n",
       "<text text-anchor=\"middle\" x=\"80.7\" y=\"-12.95\" font-family=\"Times,serif\" font-size=\"14.00\" fill=\"white\">Cancer</text>\n",
       "</g>\n",
       "<!-- Genotype&#45;&gt;Cancer -->\n",
       "<g id=\"edge2\" class=\"edge\">\n",
       "<title>Genotype-&gt;Cancer</title>\n",
       "<path fill=\"none\" stroke=\"#4a4a4a\" stroke-dasharray=\"5,2\" d=\"M81.46,-215.73C84.41,-211.47 95.17,-195.24 98.7,-180 109.32,-134.12 98.35,-79.38 89.48,-47\"/>\n",
       "<polygon fill=\"#4a4a4a\" stroke=\"#4a4a4a\" points=\"92.91,-46.24 86.78,-37.59 86.18,-48.17 92.91,-46.24\"/>\n",
       "</g>\n",
       "<!-- Tar -->\n",
       "<g id=\"node3\" class=\"node\">\n",
       "<title>Tar</title>\n",
       "<ellipse fill=\"#404040\" stroke=\"#4a4a4a\" cx=\"53.7\" cy=\"-90\" rx=\"27\" ry=\"18\"/>\n",
       "<text text-anchor=\"middle\" x=\"53.7\" y=\"-84.95\" font-family=\"Times,serif\" font-size=\"14.00\" fill=\"white\">Tar</text>\n",
       "</g>\n",
       "<!-- Smoking&#45;&gt;Tar -->\n",
       "<g id=\"edge1\" class=\"edge\">\n",
       "<title>Smoking-&gt;Tar</title>\n",
       "<path fill=\"none\" stroke=\"#4a4a4a\" d=\"M45.93,-143.57C46.88,-136.19 48.01,-127.4 49.07,-119.12\"/>\n",
       "<path fill=\"none\" stroke=\"#4a4a4a\" d=\"M47.91,-143.82C48.86,-136.45 49.99,-127.65 51.06,-119.38\"/>\n",
       "<polygon fill=\"#4a4a4a\" stroke=\"#4a4a4a\" points=\"53.5,-119.97 51.31,-109.61 46.56,-119.08 53.5,-119.97\"/>\n",
       "</g>\n",
       "<!-- Tar&#45;&gt;Cancer -->\n",
       "<g id=\"edge3\" class=\"edge\">\n",
       "<title>Tar-&gt;Cancer</title>\n",
       "<path fill=\"none\" stroke=\"#4a4a4a\" d=\"M59.3,-71.7C62.29,-63.96 65.9,-54.6 69.25,-45.91\"/>\n",
       "<path fill=\"none\" stroke=\"#4a4a4a\" d=\"M61.17,-72.41C64.15,-64.68 67.76,-55.32 71.11,-46.63\"/>\n",
       "<polygon fill=\"#4a4a4a\" stroke=\"#4a4a4a\" points=\"73.34,-47.79 73.68,-37.2 66.81,-45.27 73.34,-47.79\"/>\n",
       "</g>\n",
       "</g>\n",
       "</svg><br><center><small><em>Causal Model</em></small></center></div><div class=\"floating-box\">$$\\begin{equation*}P( Cancer \\mid \\text{do}(Smoking)) = \\sum_{Tar}{P\\left(Tar\\mid Smoking\\right) \\cdot \\left(\\sum_{Smoking'}{P\\left(Cancer\\mid Smoking',Tar\\right) \\cdot P\\left(Smoking'\\right)}\\right)}\\end{equation*}$$<br><center><small><em>Explanation : frontdoor ['Tar'] found.</em></small></center></div><div class=\"floating-box\"><table style=\"border:1px solid black;border-collapse: collapse;\">\n",
       "<tr style='border:1px solid black;color:black;background-color:#808080'>\n",
       "      <th colspan='2'><center>Cancer</center></th></tr>\n",
       "<tr><th style='border:1px solid black;border-bottom-style: double;color:black;background-color:#BBBBBB'>\n",
       "      <center>0</center></th><th style='border:1px solid black;border-bottom-style: double;color:black;background-color:#BBBBBB'>\n",
       "      <center>1</center></th></tr>\n",
       "<tr><td style='color:black;background-color:#99e464;text-align:right;padding: 3px;'>0.7900</td><td style='color:black;background-color:#e49964;text-align:right;padding: 3px;'>0.2100</td></tr>\n",
       "</table><br><center><small><em>Impact</em></small></center></div>"
      ],
      "text/plain": [
       "<IPython.core.display.HTML object>"
      ]
     },
     "metadata": {},
     "output_type": "display_data"
    }
   ],
   "source": [
    "cslnb.showCausalImpact(modele4, \"Cancer\", \"Smoking\",values={\"Smoking\":1})"
   ]
  },
  {
   "cell_type": "markdown",
   "metadata": {},
   "source": [
    "In this model, we are, again, able to calculate the causal impact of Smoking on Cancer thanks to the verification of the Frontdoor criterion by the Tar relatively to the couple (Smoking, Cancer)"
   ]
  },
  {
   "cell_type": "code",
   "execution_count": 10,
   "metadata": {
    "ExecuteTime": {
     "end_time": "2019-02-25T17:36:07.771770Z",
     "start_time": "2019-02-25T17:36:07.763602Z"
    }
   },
   "outputs": [
    {
     "data": {
      "text/html": [
       "<table style=\"border:1px solid black;border-collapse: collapse;\">\n",
       "<tr><th colspan='1'></th>\n",
       "      <th colspan='2' style='border:1px solid black;color:black;background-color:#808080;'><center>Cancer</center>\n",
       "      </th></tr>\n",
       "<tr><th style='border:1px solid black;color:black;background-color:#808080'><center>Smoking</center></th><th style='border:1px solid black;border-bottom-style: double;color:black;background-color:#BBBBBB'>\n",
       "      <center>0</center></th><th style='border:1px solid black;border-bottom-style: double;color:black;background-color:#BBBBBB'>\n",
       "      <center>1</center></th></tr>\n",
       "<tr><th style='border:1px solid black;color:black;background-color:#BBBBBB'><center>0</center></th><td style='color:black;background-color:#97e664;text-align:right;padding: 3px;'>0.8100</td><td style='color:black;background-color:#e69764;text-align:right;padding: 3px;'>0.1900</td></tr>\n",
       "<tr><th style='border:1px solid black;color:black;background-color:#BBBBBB'><center>1</center></th><td style='color:black;background-color:#99e464;text-align:right;padding: 3px;'>0.7900</td><td style='color:black;background-color:#e49964;text-align:right;padding: 3px;'>0.2100</td></tr>\n",
       "</table>"
      ],
      "text/plain": [
       "(pyAgrum.Potential<double>@0x600001188400) \n",
       "      ||  Cancer           |\n",
       "Smokin||0        |1        |\n",
       "------||---------|---------|\n",
       "0     || 0.8100  | 0.1900  |\n",
       "1     || 0.7900  | 0.2100  |"
      ]
     },
     "execution_count": 10,
     "metadata": {},
     "output_type": "execute_result"
    }
   ],
   "source": [
    "# just check P(Cancer|do(smoking)) in the bn `obs2`\n",
    "((obs2.cpt(\"Cancer\")*obs2.cpt(\"Smoking\")).margSumOut([\"Smoking\"])*obs2.cpt(\"Tar\")).margSumOut(['Tar']).putFirst(\"Cancer\")\n"
   ]
  },
  {
   "cell_type": "markdown",
   "metadata": {},
   "source": [
    "## Other causal impacts for this last model "
   ]
  },
  {
   "cell_type": "code",
   "execution_count": 11,
   "metadata": {
    "ExecuteTime": {
     "end_time": "2019-02-25T17:36:10.043807Z",
     "start_time": "2019-02-25T17:36:07.775199Z"
    }
   },
   "outputs": [
    {
     "data": {
      "text/html": [
       "\n",
       "      <style>\n",
       "      .floating-box {\n",
       "      display: inline-block;\n",
       "      margin: 7px;\n",
       "      padding : 3px;\n",
       "      border: 0px solid transparent;  \n",
       "      valign:middle;\n",
       "      background-color: transparent;\n",
       "      }\n",
       "      </style>\n",
       "      <div class=\"floating-box\"><svg xmlns=\"http://www.w3.org/2000/svg\" xmlns:xlink=\"http://www.w3.org/1999/xlink\" width=\"99pt\" height=\"180pt\" viewBox=\"0.00 0.00 99.43 180.00\">\n",
       "<g id=\"graph0\" class=\"graph\" transform=\"scale(0.790861 0.790861) rotate(0) translate(4 223.6)\">\n",
       "<title>G</title>\n",
       "<!-- Genotype -->\n",
       "<g id=\"node1\" class=\"node\">\n",
       "<title>Genotype</title>\n",
       "<ellipse fill=\"#404040\" stroke=\"#4a4a4a\" cx=\"80.7\" cy=\"-217.8\" rx=\"1.8\" ry=\"1.8\"/>\n",
       "</g>\n",
       "<!-- Smoking -->\n",
       "<g id=\"node2\" class=\"node\">\n",
       "<title>Smoking</title>\n",
       "<ellipse fill=\"#404040\" stroke=\"#4a4a4a\" cx=\"44.7\" cy=\"-162\" rx=\"44.7\" ry=\"18\"/>\n",
       "<text text-anchor=\"middle\" x=\"44.7\" y=\"-156.95\" font-family=\"Times,serif\" font-size=\"14.00\" fill=\"white\">Smoking</text>\n",
       "</g>\n",
       "<!-- Genotype&#45;&gt;Smoking -->\n",
       "<g id=\"edge4\" class=\"edge\">\n",
       "<title>Genotype-&gt;Smoking</title>\n",
       "<path fill=\"none\" stroke=\"#4a4a4a\" stroke-dasharray=\"5,2\" d=\"M80.07,-215.87C77.84,-212.53 69.98,-200.78 62.24,-189.21\"/>\n",
       "<polygon fill=\"#4a4a4a\" stroke=\"#4a4a4a\" points=\"65.19,-187.34 56.72,-180.97 59.38,-191.23 65.19,-187.34\"/>\n",
       "</g>\n",
       "<!-- Cancer -->\n",
       "<g id=\"node4\" class=\"node\">\n",
       "<title>Cancer</title>\n",
       "<ellipse fill=\"#404040\" stroke=\"#4a4a4a\" cx=\"80.7\" cy=\"-18\" rx=\"37.02\" ry=\"18\"/>\n",
       "<text text-anchor=\"middle\" x=\"80.7\" y=\"-12.95\" font-family=\"Times,serif\" font-size=\"14.00\" fill=\"white\">Cancer</text>\n",
       "</g>\n",
       "<!-- Genotype&#45;&gt;Cancer -->\n",
       "<g id=\"edge2\" class=\"edge\">\n",
       "<title>Genotype-&gt;Cancer</title>\n",
       "<path fill=\"none\" stroke=\"#4a4a4a\" stroke-dasharray=\"5,2\" d=\"M81.46,-215.73C84.41,-211.47 95.17,-195.24 98.7,-180 109.32,-134.12 98.35,-79.38 89.48,-47\"/>\n",
       "<polygon fill=\"#4a4a4a\" stroke=\"#4a4a4a\" points=\"92.91,-46.24 86.78,-37.59 86.18,-48.17 92.91,-46.24\"/>\n",
       "</g>\n",
       "<!-- Tar -->\n",
       "<g id=\"node3\" class=\"node\">\n",
       "<title>Tar</title>\n",
       "<ellipse fill=\"#404040\" stroke=\"#4a4a4a\" cx=\"53.7\" cy=\"-90\" rx=\"27\" ry=\"18\"/>\n",
       "<text text-anchor=\"middle\" x=\"53.7\" y=\"-84.95\" font-family=\"Times,serif\" font-size=\"14.00\" fill=\"white\">Tar</text>\n",
       "</g>\n",
       "<!-- Smoking&#45;&gt;Tar -->\n",
       "<g id=\"edge1\" class=\"edge\">\n",
       "<title>Smoking-&gt;Tar</title>\n",
       "<path fill=\"none\" stroke=\"#4a4a4a\" d=\"M45.93,-143.57C46.88,-136.19 48.01,-127.4 49.07,-119.12\"/>\n",
       "<path fill=\"none\" stroke=\"#4a4a4a\" d=\"M47.91,-143.82C48.86,-136.45 49.99,-127.65 51.06,-119.38\"/>\n",
       "<polygon fill=\"#4a4a4a\" stroke=\"#4a4a4a\" points=\"53.5,-119.97 51.31,-109.61 46.56,-119.08 53.5,-119.97\"/>\n",
       "</g>\n",
       "<!-- Tar&#45;&gt;Cancer -->\n",
       "<g id=\"edge3\" class=\"edge\">\n",
       "<title>Tar-&gt;Cancer</title>\n",
       "<path fill=\"none\" stroke=\"#4a4a4a\" d=\"M59.3,-71.7C62.29,-63.96 65.9,-54.6 69.25,-45.91\"/>\n",
       "<path fill=\"none\" stroke=\"#4a4a4a\" d=\"M61.17,-72.41C64.15,-64.68 67.76,-55.32 71.11,-46.63\"/>\n",
       "<polygon fill=\"#4a4a4a\" stroke=\"#4a4a4a\" points=\"73.34,-47.79 73.68,-37.2 66.81,-45.27 73.34,-47.79\"/>\n",
       "</g>\n",
       "</g>\n",
       "</svg><br><center><small><em>Causal Model</em></small></center></div><div class=\"floating-box\">$$\\begin{equation*}P( Smoking \\mid \\text{do}(Cancer), Tar) = P\\left(Smoking\\mid Tar\\right)\\end{equation*}$$<br><center><small><em>Explanation : No causal effect of X on Y, because they are d-separated (conditioning on the observed variables if any).</em></small></center></div><div class=\"floating-box\"><table style=\"border:1px solid black;border-collapse: collapse;\">\n",
       "<tr style='border:1px solid black;color:black;background-color:#808080'>\n",
       "      <th colspan='2'><center>Smoking</center></th></tr>\n",
       "<tr><th style='border:1px solid black;border-bottom-style: double;color:black;background-color:#BBBBBB'>\n",
       "      <center>0</center></th><th style='border:1px solid black;border-bottom-style: double;color:black;background-color:#BBBBBB'>\n",
       "      <center>1</center></th></tr>\n",
       "<tr><td style='color:black;background-color:#d4a964;text-align:right;padding: 3px;'>0.3333</td><td style='color:black;background-color:#a9d464;text-align:right;padding: 3px;'>0.6667</td></tr>\n",
       "</table><br><center><small><em>Impact</em></small></center></div>"
      ],
      "text/plain": [
       "<IPython.core.display.HTML object>"
      ]
     },
     "metadata": {},
     "output_type": "display_data"
    }
   ],
   "source": [
    "cslnb.showCausalImpact(modele4, \"Smoking\", doing=\"Cancer\",knowing={\"Tar\"}, values={\"Cancer\":1,\"Tar\":1})\n"
   ]
  },
  {
   "cell_type": "code",
   "execution_count": 12,
   "metadata": {
    "ExecuteTime": {
     "end_time": "2019-02-25T17:36:12.688348Z",
     "start_time": "2019-02-25T17:36:10.047070Z"
    }
   },
   "outputs": [
    {
     "data": {
      "text/html": [
       "\n",
       "      <style>\n",
       "      .floating-box {\n",
       "      display: inline-block;\n",
       "      margin: 7px;\n",
       "      padding : 3px;\n",
       "      border: 0px solid transparent;  \n",
       "      valign:middle;\n",
       "      background-color: transparent;\n",
       "      }\n",
       "      </style>\n",
       "      <div class=\"floating-box\"><svg xmlns=\"http://www.w3.org/2000/svg\" xmlns:xlink=\"http://www.w3.org/1999/xlink\" width=\"99pt\" height=\"180pt\" viewBox=\"0.00 0.00 99.43 180.00\">\n",
       "<g id=\"graph0\" class=\"graph\" transform=\"scale(0.790861 0.790861) rotate(0) translate(4 223.6)\">\n",
       "<title>G</title>\n",
       "<!-- Genotype -->\n",
       "<g id=\"node1\" class=\"node\">\n",
       "<title>Genotype</title>\n",
       "<ellipse fill=\"#404040\" stroke=\"#4a4a4a\" cx=\"80.7\" cy=\"-217.8\" rx=\"1.8\" ry=\"1.8\"/>\n",
       "</g>\n",
       "<!-- Smoking -->\n",
       "<g id=\"node2\" class=\"node\">\n",
       "<title>Smoking</title>\n",
       "<ellipse fill=\"#404040\" stroke=\"#4a4a4a\" cx=\"44.7\" cy=\"-162\" rx=\"44.7\" ry=\"18\"/>\n",
       "<text text-anchor=\"middle\" x=\"44.7\" y=\"-156.95\" font-family=\"Times,serif\" font-size=\"14.00\" fill=\"white\">Smoking</text>\n",
       "</g>\n",
       "<!-- Genotype&#45;&gt;Smoking -->\n",
       "<g id=\"edge4\" class=\"edge\">\n",
       "<title>Genotype-&gt;Smoking</title>\n",
       "<path fill=\"none\" stroke=\"#4a4a4a\" stroke-dasharray=\"5,2\" d=\"M80.07,-215.87C77.84,-212.53 69.98,-200.78 62.24,-189.21\"/>\n",
       "<polygon fill=\"#4a4a4a\" stroke=\"#4a4a4a\" points=\"65.19,-187.34 56.72,-180.97 59.38,-191.23 65.19,-187.34\"/>\n",
       "</g>\n",
       "<!-- Cancer -->\n",
       "<g id=\"node4\" class=\"node\">\n",
       "<title>Cancer</title>\n",
       "<ellipse fill=\"#404040\" stroke=\"#4a4a4a\" cx=\"80.7\" cy=\"-18\" rx=\"37.02\" ry=\"18\"/>\n",
       "<text text-anchor=\"middle\" x=\"80.7\" y=\"-12.95\" font-family=\"Times,serif\" font-size=\"14.00\" fill=\"white\">Cancer</text>\n",
       "</g>\n",
       "<!-- Genotype&#45;&gt;Cancer -->\n",
       "<g id=\"edge2\" class=\"edge\">\n",
       "<title>Genotype-&gt;Cancer</title>\n",
       "<path fill=\"none\" stroke=\"#4a4a4a\" stroke-dasharray=\"5,2\" d=\"M81.46,-215.73C84.41,-211.47 95.17,-195.24 98.7,-180 109.32,-134.12 98.35,-79.38 89.48,-47\"/>\n",
       "<polygon fill=\"#4a4a4a\" stroke=\"#4a4a4a\" points=\"92.91,-46.24 86.78,-37.59 86.18,-48.17 92.91,-46.24\"/>\n",
       "</g>\n",
       "<!-- Tar -->\n",
       "<g id=\"node3\" class=\"node\">\n",
       "<title>Tar</title>\n",
       "<ellipse fill=\"#404040\" stroke=\"#4a4a4a\" cx=\"53.7\" cy=\"-90\" rx=\"27\" ry=\"18\"/>\n",
       "<text text-anchor=\"middle\" x=\"53.7\" y=\"-84.95\" font-family=\"Times,serif\" font-size=\"14.00\" fill=\"white\">Tar</text>\n",
       "</g>\n",
       "<!-- Smoking&#45;&gt;Tar -->\n",
       "<g id=\"edge1\" class=\"edge\">\n",
       "<title>Smoking-&gt;Tar</title>\n",
       "<path fill=\"none\" stroke=\"#4a4a4a\" d=\"M45.93,-143.57C46.88,-136.19 48.01,-127.4 49.07,-119.12\"/>\n",
       "<path fill=\"none\" stroke=\"#4a4a4a\" d=\"M47.91,-143.82C48.86,-136.45 49.99,-127.65 51.06,-119.38\"/>\n",
       "<polygon fill=\"#4a4a4a\" stroke=\"#4a4a4a\" points=\"53.5,-119.97 51.31,-109.61 46.56,-119.08 53.5,-119.97\"/>\n",
       "</g>\n",
       "<!-- Tar&#45;&gt;Cancer -->\n",
       "<g id=\"edge3\" class=\"edge\">\n",
       "<title>Tar-&gt;Cancer</title>\n",
       "<path fill=\"none\" stroke=\"#4a4a4a\" d=\"M59.3,-71.7C62.29,-63.96 65.9,-54.6 69.25,-45.91\"/>\n",
       "<path fill=\"none\" stroke=\"#4a4a4a\" d=\"M61.17,-72.41C64.15,-64.68 67.76,-55.32 71.11,-46.63\"/>\n",
       "<polygon fill=\"#4a4a4a\" stroke=\"#4a4a4a\" points=\"73.34,-47.79 73.68,-37.2 66.81,-45.27 73.34,-47.79\"/>\n",
       "</g>\n",
       "</g>\n",
       "</svg><br><center><small><em>Causal Model</em></small></center></div><div class=\"floating-box\">$$\\begin{equation*}P( Smoking \\mid \\text{do}(Cancer)) = P\\left(Smoking\\right)\\end{equation*}$$<br><center><small><em>Explanation : Do-calculus computations</em></small></center></div><div class=\"floating-box\"><table style=\"border:1px solid black;border-collapse: collapse;\">\n",
       "<tr style='border:1px solid black;color:black;background-color:#808080'>\n",
       "      <th colspan='2'><center>Smoking</center></th></tr>\n",
       "<tr><th style='border:1px solid black;border-bottom-style: double;color:black;background-color:#BBBBBB'>\n",
       "      <center>0</center></th><th style='border:1px solid black;border-bottom-style: double;color:black;background-color:#BBBBBB'>\n",
       "      <center>1</center></th></tr>\n",
       "<tr><td style='color:black;background-color:#b2cb64;text-align:right;padding: 3px;'>0.6000</td><td style='color:black;background-color:#cbb264;text-align:right;padding: 3px;'>0.4000</td></tr>\n",
       "</table><br><center><small><em>Impact</em></small></center></div>"
      ],
      "text/plain": [
       "<IPython.core.display.HTML object>"
      ]
     },
     "metadata": {},
     "output_type": "display_data"
    }
   ],
   "source": [
    "cslnb.showCausalImpact(modele4, \"Smoking\", doing=\"Cancer\",values={\"Cancer\":1})\n"
   ]
  },
  {
   "cell_type": "code",
   "execution_count": 13,
   "metadata": {
    "ExecuteTime": {
     "end_time": "2019-02-25T17:36:15.333792Z",
     "start_time": "2019-02-25T17:36:12.690860Z"
    }
   },
   "outputs": [
    {
     "data": {
      "text/html": [
       "\n",
       "      <style>\n",
       "      .floating-box {\n",
       "      display: inline-block;\n",
       "      margin: 7px;\n",
       "      padding : 3px;\n",
       "      border: 0px solid transparent;  \n",
       "      valign:middle;\n",
       "      background-color: transparent;\n",
       "      }\n",
       "      </style>\n",
       "      <div class=\"floating-box\"><svg xmlns=\"http://www.w3.org/2000/svg\" xmlns:xlink=\"http://www.w3.org/1999/xlink\" width=\"99pt\" height=\"180pt\" viewBox=\"0.00 0.00 99.43 180.00\">\n",
       "<g id=\"graph0\" class=\"graph\" transform=\"scale(0.790861 0.790861) rotate(0) translate(4 223.6)\">\n",
       "<title>G</title>\n",
       "<!-- Genotype -->\n",
       "<g id=\"node1\" class=\"node\">\n",
       "<title>Genotype</title>\n",
       "<ellipse fill=\"#404040\" stroke=\"#4a4a4a\" cx=\"80.7\" cy=\"-217.8\" rx=\"1.8\" ry=\"1.8\"/>\n",
       "</g>\n",
       "<!-- Smoking -->\n",
       "<g id=\"node2\" class=\"node\">\n",
       "<title>Smoking</title>\n",
       "<ellipse fill=\"#404040\" stroke=\"#4a4a4a\" cx=\"44.7\" cy=\"-162\" rx=\"44.7\" ry=\"18\"/>\n",
       "<text text-anchor=\"middle\" x=\"44.7\" y=\"-156.95\" font-family=\"Times,serif\" font-size=\"14.00\" fill=\"white\">Smoking</text>\n",
       "</g>\n",
       "<!-- Genotype&#45;&gt;Smoking -->\n",
       "<g id=\"edge4\" class=\"edge\">\n",
       "<title>Genotype-&gt;Smoking</title>\n",
       "<path fill=\"none\" stroke=\"#4a4a4a\" stroke-dasharray=\"5,2\" d=\"M80.07,-215.87C77.84,-212.53 69.98,-200.78 62.24,-189.21\"/>\n",
       "<polygon fill=\"#4a4a4a\" stroke=\"#4a4a4a\" points=\"65.19,-187.34 56.72,-180.97 59.38,-191.23 65.19,-187.34\"/>\n",
       "</g>\n",
       "<!-- Cancer -->\n",
       "<g id=\"node4\" class=\"node\">\n",
       "<title>Cancer</title>\n",
       "<ellipse fill=\"#404040\" stroke=\"#4a4a4a\" cx=\"80.7\" cy=\"-18\" rx=\"37.02\" ry=\"18\"/>\n",
       "<text text-anchor=\"middle\" x=\"80.7\" y=\"-12.95\" font-family=\"Times,serif\" font-size=\"14.00\" fill=\"white\">Cancer</text>\n",
       "</g>\n",
       "<!-- Genotype&#45;&gt;Cancer -->\n",
       "<g id=\"edge2\" class=\"edge\">\n",
       "<title>Genotype-&gt;Cancer</title>\n",
       "<path fill=\"none\" stroke=\"#4a4a4a\" stroke-dasharray=\"5,2\" d=\"M81.46,-215.73C84.41,-211.47 95.17,-195.24 98.7,-180 109.32,-134.12 98.35,-79.38 89.48,-47\"/>\n",
       "<polygon fill=\"#4a4a4a\" stroke=\"#4a4a4a\" points=\"92.91,-46.24 86.78,-37.59 86.18,-48.17 92.91,-46.24\"/>\n",
       "</g>\n",
       "<!-- Tar -->\n",
       "<g id=\"node3\" class=\"node\">\n",
       "<title>Tar</title>\n",
       "<ellipse fill=\"#404040\" stroke=\"#4a4a4a\" cx=\"53.7\" cy=\"-90\" rx=\"27\" ry=\"18\"/>\n",
       "<text text-anchor=\"middle\" x=\"53.7\" y=\"-84.95\" font-family=\"Times,serif\" font-size=\"14.00\" fill=\"white\">Tar</text>\n",
       "</g>\n",
       "<!-- Smoking&#45;&gt;Tar -->\n",
       "<g id=\"edge1\" class=\"edge\">\n",
       "<title>Smoking-&gt;Tar</title>\n",
       "<path fill=\"none\" stroke=\"#4a4a4a\" d=\"M45.93,-143.57C46.88,-136.19 48.01,-127.4 49.07,-119.12\"/>\n",
       "<path fill=\"none\" stroke=\"#4a4a4a\" d=\"M47.91,-143.82C48.86,-136.45 49.99,-127.65 51.06,-119.38\"/>\n",
       "<polygon fill=\"#4a4a4a\" stroke=\"#4a4a4a\" points=\"53.5,-119.97 51.31,-109.61 46.56,-119.08 53.5,-119.97\"/>\n",
       "</g>\n",
       "<!-- Tar&#45;&gt;Cancer -->\n",
       "<g id=\"edge3\" class=\"edge\">\n",
       "<title>Tar-&gt;Cancer</title>\n",
       "<path fill=\"none\" stroke=\"#4a4a4a\" d=\"M59.3,-71.7C62.29,-63.96 65.9,-54.6 69.25,-45.91\"/>\n",
       "<path fill=\"none\" stroke=\"#4a4a4a\" d=\"M61.17,-72.41C64.15,-64.68 67.76,-55.32 71.11,-46.63\"/>\n",
       "<polygon fill=\"#4a4a4a\" stroke=\"#4a4a4a\" points=\"73.34,-47.79 73.68,-37.2 66.81,-45.27 73.34,-47.79\"/>\n",
       "</g>\n",
       "</g>\n",
       "</svg><br><center><small><em>Causal Model</em></small></center></div><div class=\"floating-box\">$$\\begin{equation*}P( Smoking \\mid \\text{do}(Tar),\\text{do}(Cancer)) = P\\left(Smoking\\right)\\end{equation*}$$<br><center><small><em>Explanation : Do-calculus computations</em></small></center></div><div class=\"floating-box\"><table style=\"border:1px solid black;border-collapse: collapse;\">\n",
       "<tr style='border:1px solid black;color:black;background-color:#808080'>\n",
       "      <th colspan='2'><center>Smoking</center></th></tr>\n",
       "<tr><th style='border:1px solid black;border-bottom-style: double;color:black;background-color:#BBBBBB'>\n",
       "      <center>0</center></th><th style='border:1px solid black;border-bottom-style: double;color:black;background-color:#BBBBBB'>\n",
       "      <center>1</center></th></tr>\n",
       "<tr><td style='color:black;background-color:#b2cb64;text-align:right;padding: 3px;'>0.6000</td><td style='color:black;background-color:#cbb264;text-align:right;padding: 3px;'>0.4000</td></tr>\n",
       "</table><br><center><small><em>Impact</em></small></center></div>"
      ],
      "text/plain": [
       "<IPython.core.display.HTML object>"
      ]
     },
     "metadata": {},
     "output_type": "display_data"
    }
   ],
   "source": [
    "cslnb.showCausalImpact(modele4, \"Smoking\", doing={\"Cancer\",\"Tar\"},values={\"Cancer\":1,\"Tar\":1})\n"
   ]
  },
  {
   "cell_type": "code",
   "execution_count": 14,
   "metadata": {
    "ExecuteTime": {
     "end_time": "2019-02-25T17:36:17.761223Z",
     "start_time": "2019-02-25T17:36:15.337006Z"
    },
    "tags": []
   },
   "outputs": [
    {
     "data": {
      "text/html": [
       "\n",
       "      <style>\n",
       "      .floating-box {\n",
       "      display: inline-block;\n",
       "      margin: 7px;\n",
       "      padding : 3px;\n",
       "      border: 0px solid transparent;  \n",
       "      valign:middle;\n",
       "      background-color: transparent;\n",
       "      }\n",
       "      </style>\n",
       "      <div class=\"floating-box\"><svg xmlns=\"http://www.w3.org/2000/svg\" xmlns:xlink=\"http://www.w3.org/1999/xlink\" width=\"99pt\" height=\"180pt\" viewBox=\"0.00 0.00 99.43 180.00\">\n",
       "<g id=\"graph0\" class=\"graph\" transform=\"scale(0.790861 0.790861) rotate(0) translate(4 223.6)\">\n",
       "<title>G</title>\n",
       "<!-- Genotype -->\n",
       "<g id=\"node1\" class=\"node\">\n",
       "<title>Genotype</title>\n",
       "<ellipse fill=\"#404040\" stroke=\"#4a4a4a\" cx=\"80.7\" cy=\"-217.8\" rx=\"1.8\" ry=\"1.8\"/>\n",
       "</g>\n",
       "<!-- Smoking -->\n",
       "<g id=\"node2\" class=\"node\">\n",
       "<title>Smoking</title>\n",
       "<ellipse fill=\"#404040\" stroke=\"#4a4a4a\" cx=\"44.7\" cy=\"-162\" rx=\"44.7\" ry=\"18\"/>\n",
       "<text text-anchor=\"middle\" x=\"44.7\" y=\"-156.95\" font-family=\"Times,serif\" font-size=\"14.00\" fill=\"white\">Smoking</text>\n",
       "</g>\n",
       "<!-- Genotype&#45;&gt;Smoking -->\n",
       "<g id=\"edge4\" class=\"edge\">\n",
       "<title>Genotype-&gt;Smoking</title>\n",
       "<path fill=\"none\" stroke=\"#4a4a4a\" stroke-dasharray=\"5,2\" d=\"M80.07,-215.87C77.84,-212.53 69.98,-200.78 62.24,-189.21\"/>\n",
       "<polygon fill=\"#4a4a4a\" stroke=\"#4a4a4a\" points=\"65.19,-187.34 56.72,-180.97 59.38,-191.23 65.19,-187.34\"/>\n",
       "</g>\n",
       "<!-- Cancer -->\n",
       "<g id=\"node4\" class=\"node\">\n",
       "<title>Cancer</title>\n",
       "<ellipse fill=\"#404040\" stroke=\"#4a4a4a\" cx=\"80.7\" cy=\"-18\" rx=\"37.02\" ry=\"18\"/>\n",
       "<text text-anchor=\"middle\" x=\"80.7\" y=\"-12.95\" font-family=\"Times,serif\" font-size=\"14.00\" fill=\"white\">Cancer</text>\n",
       "</g>\n",
       "<!-- Genotype&#45;&gt;Cancer -->\n",
       "<g id=\"edge2\" class=\"edge\">\n",
       "<title>Genotype-&gt;Cancer</title>\n",
       "<path fill=\"none\" stroke=\"#4a4a4a\" stroke-dasharray=\"5,2\" d=\"M81.46,-215.73C84.41,-211.47 95.17,-195.24 98.7,-180 109.32,-134.12 98.35,-79.38 89.48,-47\"/>\n",
       "<polygon fill=\"#4a4a4a\" stroke=\"#4a4a4a\" points=\"92.91,-46.24 86.78,-37.59 86.18,-48.17 92.91,-46.24\"/>\n",
       "</g>\n",
       "<!-- Tar -->\n",
       "<g id=\"node3\" class=\"node\">\n",
       "<title>Tar</title>\n",
       "<ellipse fill=\"#404040\" stroke=\"#4a4a4a\" cx=\"53.7\" cy=\"-90\" rx=\"27\" ry=\"18\"/>\n",
       "<text text-anchor=\"middle\" x=\"53.7\" y=\"-84.95\" font-family=\"Times,serif\" font-size=\"14.00\" fill=\"white\">Tar</text>\n",
       "</g>\n",
       "<!-- Smoking&#45;&gt;Tar -->\n",
       "<g id=\"edge1\" class=\"edge\">\n",
       "<title>Smoking-&gt;Tar</title>\n",
       "<path fill=\"none\" stroke=\"#4a4a4a\" d=\"M45.93,-143.57C46.88,-136.19 48.01,-127.4 49.07,-119.12\"/>\n",
       "<path fill=\"none\" stroke=\"#4a4a4a\" d=\"M47.91,-143.82C48.86,-136.45 49.99,-127.65 51.06,-119.38\"/>\n",
       "<polygon fill=\"#4a4a4a\" stroke=\"#4a4a4a\" points=\"53.5,-119.97 51.31,-109.61 46.56,-119.08 53.5,-119.97\"/>\n",
       "</g>\n",
       "<!-- Tar&#45;&gt;Cancer -->\n",
       "<g id=\"edge3\" class=\"edge\">\n",
       "<title>Tar-&gt;Cancer</title>\n",
       "<path fill=\"none\" stroke=\"#4a4a4a\" d=\"M59.3,-71.7C62.29,-63.96 65.9,-54.6 69.25,-45.91\"/>\n",
       "<path fill=\"none\" stroke=\"#4a4a4a\" d=\"M61.17,-72.41C64.15,-64.68 67.76,-55.32 71.11,-46.63\"/>\n",
       "<polygon fill=\"#4a4a4a\" stroke=\"#4a4a4a\" points=\"73.34,-47.79 73.68,-37.2 66.81,-45.27 73.34,-47.79\"/>\n",
       "</g>\n",
       "</g>\n",
       "</svg><br><center><small><em>Causal Model</em></small></center></div><div class=\"floating-box\">$$\\begin{equation*}P( Tar \\mid \\text{do}(Smoking),\\text{do}(Cancer)) = P\\left(Tar\\mid Smoking\\right)\\end{equation*}$$<br><center><small><em>Explanation : Do-calculus computations</em></small></center></div><div class=\"floating-box\"><table style=\"border:1px solid black;border-collapse: collapse;\">\n",
       "<tr style='border:1px solid black;color:black;background-color:#808080'>\n",
       "      <th colspan='2'><center>Tar</center></th></tr>\n",
       "<tr><th style='border:1px solid black;border-bottom-style: double;color:black;background-color:#BBBBBB'>\n",
       "      <center>0</center></th><th style='border:1px solid black;border-bottom-style: double;color:black;background-color:#BBBBBB'>\n",
       "      <center>1</center></th></tr>\n",
       "<tr><td style='color:black;background-color:#a5d864;text-align:right;padding: 3px;'>0.7000</td><td style='color:black;background-color:#d8a564;text-align:right;padding: 3px;'>0.3000</td></tr>\n",
       "</table><br><center><small><em>Impact</em></small></center></div>"
      ],
      "text/plain": [
       "<IPython.core.display.HTML object>"
      ]
     },
     "metadata": {},
     "output_type": "display_data"
    }
   ],
   "source": [
    "cslnb.showCausalImpact(modele4, \"Tar\", doing={\"Cancer\",\"Smoking\"},values={\"Cancer\":1,\"Smoking\":1})\n"
   ]
  },
  {
   "cell_type": "markdown",
   "metadata": {},
   "source": [
    "## Four causal models for the same observational data"
   ]
  },
  {
   "cell_type": "code",
   "execution_count": 15,
   "metadata": {
    "editable": true,
    "slideshow": {
     "slide_type": ""
    },
    "tags": []
   },
   "outputs": [
    {
     "data": {
      "text/html": [
       "<table style=\"border-style: hidden; border-collapse: collapse;\" width=\"100%\"><tr><td style=\"border-top:hidden;border-bottom:hidden;vertical-align:middle;\"><div align=\"center\" style=\"vertical-align:middle;\"><svg xmlns=\"http://www.w3.org/2000/svg\" xmlns:xlink=\"http://www.w3.org/1999/xlink\" width=\"97pt\" height=\"116pt\" viewBox=\"0.00 0.00 97.40 116.00\">\n",
       "<g id=\"graph0\" class=\"graph\" transform=\"scale(1 1) rotate(0) translate(4 112)\">\n",
       "<title>G</title>\n",
       "<!-- Smoking -->\n",
       "<g id=\"node1\" class=\"node\">\n",
       "<title>Smoking</title>\n",
       "<ellipse fill=\"#404040\" stroke=\"#4a4a4a\" cx=\"44.7\" cy=\"-90\" rx=\"44.7\" ry=\"18\"/>\n",
       "<text text-anchor=\"middle\" x=\"44.7\" y=\"-84.95\" font-family=\"Times,serif\" font-size=\"14.00\" fill=\"white\">Smoking</text>\n",
       "</g>\n",
       "<!-- Cancer -->\n",
       "<g id=\"node2\" class=\"node\">\n",
       "<title>Cancer</title>\n",
       "<ellipse fill=\"#404040\" stroke=\"#4a4a4a\" cx=\"44.7\" cy=\"-18\" rx=\"37.02\" ry=\"18\"/>\n",
       "<text text-anchor=\"middle\" x=\"44.7\" y=\"-12.95\" font-family=\"Times,serif\" font-size=\"14.00\" fill=\"white\">Cancer</text>\n",
       "</g>\n",
       "<!-- Smoking&#45;&gt;Cancer -->\n",
       "<g id=\"edge1\" class=\"edge\">\n",
       "<title>Smoking-&gt;Cancer</title>\n",
       "<path fill=\"none\" stroke=\"#4a4a4a\" d=\"M43.7,-71.7C43.7,-64.41 43.7,-55.73 43.7,-47.54\"/>\n",
       "<path fill=\"none\" stroke=\"#4a4a4a\" d=\"M45.7,-71.7C45.7,-64.41 45.7,-55.73 45.7,-47.54\"/>\n",
       "<polygon fill=\"#4a4a4a\" stroke=\"#4a4a4a\" points=\"48.2,-47.62 44.7,-37.62 41.2,-47.62 48.2,-47.62\"/>\n",
       "</g>\n",
       "</g>\n",
       "</svg></div></td><td style=\"border-top:hidden;border-bottom:hidden;vertical-align:middle;\"><div align=\"center\" style=\"vertical-align:middle;\">$$P( Cancer \\mid \\text{do}(Smoking)) = P\\left(Cancer\\mid Smoking\\right)$$</div></td></tr><tr><td style=\"border-top:hidden;border-bottom:hidden;vertical-align:middle;\"><div align=\"center\" style=\"vertical-align:middle;\"><svg xmlns=\"http://www.w3.org/2000/svg\" xmlns:xlink=\"http://www.w3.org/1999/xlink\" width=\"180pt\" height=\"79pt\" viewBox=\"0.00 0.00 180.00 79.32\">\n",
       "<g id=\"graph0\" class=\"graph\" transform=\"scale(0.948773 0.948773) rotate(0) translate(4 79.6)\">\n",
       "<title>G</title>\n",
       "<!-- Genotype -->\n",
       "<g id=\"node1\" class=\"node\">\n",
       "<title>Genotype</title>\n",
       "<ellipse fill=\"#404040\" stroke=\"#4a4a4a\" cx=\"94.7\" cy=\"-73.8\" rx=\"1.8\" ry=\"1.8\"/>\n",
       "</g>\n",
       "<!-- Smoking -->\n",
       "<g id=\"node2\" class=\"node\">\n",
       "<title>Smoking</title>\n",
       "<ellipse fill=\"#404040\" stroke=\"#4a4a4a\" cx=\"44.7\" cy=\"-18\" rx=\"44.7\" ry=\"18\"/>\n",
       "<text text-anchor=\"middle\" x=\"44.7\" y=\"-12.95\" font-family=\"Times,serif\" font-size=\"14.00\" fill=\"white\">Smoking</text>\n",
       "</g>\n",
       "<!-- Genotype&#45;&gt;Smoking -->\n",
       "<g id=\"edge1\" class=\"edge\">\n",
       "<title>Genotype-&gt;Smoking</title>\n",
       "<path fill=\"none\" stroke=\"#4a4a4a\" stroke-dasharray=\"5,2\" d=\"M93.83,-71.87C90.56,-68.35 78.62,-55.5 67.33,-43.35\"/>\n",
       "<polygon fill=\"#4a4a4a\" stroke=\"#4a4a4a\" points=\"70.13,-41.22 60.76,-36.28 65,-45.99 70.13,-41.22\"/>\n",
       "</g>\n",
       "<!-- Cancer -->\n",
       "<g id=\"node3\" class=\"node\">\n",
       "<title>Cancer</title>\n",
       "<ellipse fill=\"#404040\" stroke=\"#4a4a4a\" cx=\"144.7\" cy=\"-18\" rx=\"37.02\" ry=\"18\"/>\n",
       "<text text-anchor=\"middle\" x=\"144.7\" y=\"-12.95\" font-family=\"Times,serif\" font-size=\"14.00\" fill=\"white\">Cancer</text>\n",
       "</g>\n",
       "<!-- Genotype&#45;&gt;Cancer -->\n",
       "<g id=\"edge2\" class=\"edge\">\n",
       "<title>Genotype-&gt;Cancer</title>\n",
       "<path fill=\"none\" stroke=\"#4a4a4a\" stroke-dasharray=\"5,2\" d=\"M95.57,-71.87C98.85,-68.33 110.93,-55.33 122.29,-43.12\"/>\n",
       "<polygon fill=\"#4a4a4a\" stroke=\"#4a4a4a\" points=\"124.64,-45.72 128.89,-36.01 119.51,-40.96 124.64,-45.72\"/>\n",
       "</g>\n",
       "</g>\n",
       "</svg></div></td><td style=\"border-top:hidden;border-bottom:hidden;vertical-align:middle;\"><div align=\"center\" style=\"vertical-align:middle;\">$$P( Cancer \\mid \\text{do}(Smoking)) = P\\left(Cancer\\right)$$</div></td></tr><tr><td style=\"border-top:hidden;border-bottom:hidden;vertical-align:middle;\"><div align=\"center\" style=\"vertical-align:middle;\"><svg xmlns=\"http://www.w3.org/2000/svg\" xmlns:xlink=\"http://www.w3.org/1999/xlink\" width=\"126pt\" height=\"156pt\" viewBox=\"0.00 0.00 125.72 155.60\">\n",
       "<g id=\"graph0\" class=\"graph\" transform=\"scale(1 1) rotate(0) translate(4 151.6)\">\n",
       "<title>G</title>\n",
       "<!-- Genotype -->\n",
       "<g id=\"node1\" class=\"node\">\n",
       "<title>Genotype</title>\n",
       "<ellipse fill=\"#404040\" stroke=\"#4a4a4a\" cx=\"80.7\" cy=\"-145.8\" rx=\"1.8\" ry=\"1.8\"/>\n",
       "</g>\n",
       "<!-- Smoking -->\n",
       "<g id=\"node2\" class=\"node\">\n",
       "<title>Smoking</title>\n",
       "<ellipse fill=\"#404040\" stroke=\"#4a4a4a\" cx=\"44.7\" cy=\"-90\" rx=\"44.7\" ry=\"18\"/>\n",
       "<text text-anchor=\"middle\" x=\"44.7\" y=\"-84.95\" font-family=\"Times,serif\" font-size=\"14.00\" fill=\"white\">Smoking</text>\n",
       "</g>\n",
       "<!-- Genotype&#45;&gt;Smoking -->\n",
       "<g id=\"edge2\" class=\"edge\">\n",
       "<title>Genotype-&gt;Smoking</title>\n",
       "<path fill=\"none\" stroke=\"#4a4a4a\" stroke-dasharray=\"5,2\" d=\"M80.07,-143.87C77.84,-140.53 69.98,-128.78 62.24,-117.21\"/>\n",
       "<polygon fill=\"#4a4a4a\" stroke=\"#4a4a4a\" points=\"65.19,-115.34 56.72,-108.97 59.38,-119.23 65.19,-115.34\"/>\n",
       "</g>\n",
       "<!-- Cancer -->\n",
       "<g id=\"node3\" class=\"node\">\n",
       "<title>Cancer</title>\n",
       "<ellipse fill=\"#404040\" stroke=\"#4a4a4a\" cx=\"80.7\" cy=\"-18\" rx=\"37.02\" ry=\"18\"/>\n",
       "<text text-anchor=\"middle\" x=\"80.7\" y=\"-12.95\" font-family=\"Times,serif\" font-size=\"14.00\" fill=\"white\">Cancer</text>\n",
       "</g>\n",
       "<!-- Genotype&#45;&gt;Cancer -->\n",
       "<g id=\"edge3\" class=\"edge\">\n",
       "<title>Genotype-&gt;Cancer</title>\n",
       "<path fill=\"none\" stroke=\"#4a4a4a\" stroke-dasharray=\"5,2\" d=\"M81.46,-143.73C84.41,-139.47 95.17,-123.24 98.7,-108 103.45,-87.46 98.33,-64.1 92.35,-46.47\"/>\n",
       "<polygon fill=\"#4a4a4a\" stroke=\"#4a4a4a\" points=\"95.68,-45.37 88.92,-37.21 89.11,-47.8 95.68,-45.37\"/>\n",
       "</g>\n",
       "<!-- Smoking&#45;&gt;Cancer -->\n",
       "<g id=\"edge1\" class=\"edge\">\n",
       "<title>Smoking-&gt;Cancer</title>\n",
       "<path fill=\"none\" stroke=\"#4a4a4a\" d=\"M52.52,-71.6C56.55,-63.77 61.42,-54.29 65.93,-45.52\"/>\n",
       "<path fill=\"none\" stroke=\"#4a4a4a\" d=\"M54.3,-72.51C58.33,-64.69 63.2,-55.21 67.71,-46.43\"/>\n",
       "<polygon fill=\"#4a4a4a\" stroke=\"#4a4a4a\" points=\"69.91,-47.63 71.37,-37.13 63.69,-44.43 69.91,-47.63\"/>\n",
       "</g>\n",
       "</g>\n",
       "</svg></div></td><td style=\"border-top:hidden;border-bottom:hidden;vertical-align:middle;\"><div align=\"center\" style=\"vertical-align:middle;\">None</div></td></tr><tr><td style=\"border-top:hidden;border-bottom:hidden;vertical-align:middle;\"><div align=\"center\" style=\"vertical-align:middle;\"><svg xmlns=\"http://www.w3.org/2000/svg\" xmlns:xlink=\"http://www.w3.org/1999/xlink\" width=\"99pt\" height=\"180pt\" viewBox=\"0.00 0.00 99.43 180.00\">\n",
       "<g id=\"graph0\" class=\"graph\" transform=\"scale(0.790861 0.790861) rotate(0) translate(4 223.6)\">\n",
       "<title>G</title>\n",
       "<!-- Genotype -->\n",
       "<g id=\"node1\" class=\"node\">\n",
       "<title>Genotype</title>\n",
       "<ellipse fill=\"#404040\" stroke=\"#4a4a4a\" cx=\"80.7\" cy=\"-217.8\" rx=\"1.8\" ry=\"1.8\"/>\n",
       "</g>\n",
       "<!-- Smoking -->\n",
       "<g id=\"node2\" class=\"node\">\n",
       "<title>Smoking</title>\n",
       "<ellipse fill=\"#404040\" stroke=\"#4a4a4a\" cx=\"44.7\" cy=\"-162\" rx=\"44.7\" ry=\"18\"/>\n",
       "<text text-anchor=\"middle\" x=\"44.7\" y=\"-156.95\" font-family=\"Times,serif\" font-size=\"14.00\" fill=\"white\">Smoking</text>\n",
       "</g>\n",
       "<!-- Genotype&#45;&gt;Smoking -->\n",
       "<g id=\"edge4\" class=\"edge\">\n",
       "<title>Genotype-&gt;Smoking</title>\n",
       "<path fill=\"none\" stroke=\"#4a4a4a\" stroke-dasharray=\"5,2\" d=\"M80.07,-215.87C77.84,-212.53 69.98,-200.78 62.24,-189.21\"/>\n",
       "<polygon fill=\"#4a4a4a\" stroke=\"#4a4a4a\" points=\"65.19,-187.34 56.72,-180.97 59.38,-191.23 65.19,-187.34\"/>\n",
       "</g>\n",
       "<!-- Cancer -->\n",
       "<g id=\"node4\" class=\"node\">\n",
       "<title>Cancer</title>\n",
       "<ellipse fill=\"#404040\" stroke=\"#4a4a4a\" cx=\"80.7\" cy=\"-18\" rx=\"37.02\" ry=\"18\"/>\n",
       "<text text-anchor=\"middle\" x=\"80.7\" y=\"-12.95\" font-family=\"Times,serif\" font-size=\"14.00\" fill=\"white\">Cancer</text>\n",
       "</g>\n",
       "<!-- Genotype&#45;&gt;Cancer -->\n",
       "<g id=\"edge2\" class=\"edge\">\n",
       "<title>Genotype-&gt;Cancer</title>\n",
       "<path fill=\"none\" stroke=\"#4a4a4a\" stroke-dasharray=\"5,2\" d=\"M81.46,-215.73C84.41,-211.47 95.17,-195.24 98.7,-180 109.32,-134.12 98.35,-79.38 89.48,-47\"/>\n",
       "<polygon fill=\"#4a4a4a\" stroke=\"#4a4a4a\" points=\"92.91,-46.24 86.78,-37.59 86.18,-48.17 92.91,-46.24\"/>\n",
       "</g>\n",
       "<!-- Tar -->\n",
       "<g id=\"node3\" class=\"node\">\n",
       "<title>Tar</title>\n",
       "<ellipse fill=\"#404040\" stroke=\"#4a4a4a\" cx=\"53.7\" cy=\"-90\" rx=\"27\" ry=\"18\"/>\n",
       "<text text-anchor=\"middle\" x=\"53.7\" y=\"-84.95\" font-family=\"Times,serif\" font-size=\"14.00\" fill=\"white\">Tar</text>\n",
       "</g>\n",
       "<!-- Smoking&#45;&gt;Tar -->\n",
       "<g id=\"edge1\" class=\"edge\">\n",
       "<title>Smoking-&gt;Tar</title>\n",
       "<path fill=\"none\" stroke=\"#4a4a4a\" d=\"M45.93,-143.57C46.88,-136.19 48.01,-127.4 49.07,-119.12\"/>\n",
       "<path fill=\"none\" stroke=\"#4a4a4a\" d=\"M47.91,-143.82C48.86,-136.45 49.99,-127.65 51.06,-119.38\"/>\n",
       "<polygon fill=\"#4a4a4a\" stroke=\"#4a4a4a\" points=\"53.5,-119.97 51.31,-109.61 46.56,-119.08 53.5,-119.97\"/>\n",
       "</g>\n",
       "<!-- Tar&#45;&gt;Cancer -->\n",
       "<g id=\"edge3\" class=\"edge\">\n",
       "<title>Tar-&gt;Cancer</title>\n",
       "<path fill=\"none\" stroke=\"#4a4a4a\" d=\"M59.3,-71.7C62.29,-63.96 65.9,-54.6 69.25,-45.91\"/>\n",
       "<path fill=\"none\" stroke=\"#4a4a4a\" d=\"M61.17,-72.41C64.15,-64.68 67.76,-55.32 71.11,-46.63\"/>\n",
       "<polygon fill=\"#4a4a4a\" stroke=\"#4a4a4a\" points=\"73.34,-47.79 73.68,-37.2 66.81,-45.27 73.34,-47.79\"/>\n",
       "</g>\n",
       "</g>\n",
       "</svg></div></td><td style=\"border-top:hidden;border-bottom:hidden;vertical-align:middle;\"><div align=\"center\" style=\"vertical-align:middle;\">$$P( Cancer \\mid \\text{do}(Smoking)) = \\sum_{Tar}{P\\left(Tar\\mid Smoking\\right) \\cdot \\left(\\sum_{Smoking'}{P\\left(Cancer\\mid Smoking',Tar\\right) \\cdot P\\left(Smoking'\\right)}\\right)}$$</div></td></tr><tr></tr></table>"
      ],
      "text/plain": [
       "<IPython.core.display.HTML object>"
      ]
     },
     "metadata": {},
     "output_type": "display_data"
    }
   ],
   "source": [
    "gnb.sideBySide(modele1,\n",
    "               csl.causalImpact(modele1,on=\"Cancer\",doing=\"Smoking\")[0],\n",
    "               modele2,\n",
    "               csl.causalImpact(modele2,on=\"Cancer\",doing=\"Smoking\")[0],\n",
    "               modele3,\n",
    "               csl.causalImpact(modele3,on=\"Cancer\",doing=\"Smoking\")[0],\n",
    "               modele4,\n",
    "               csl.causalImpact(modele4,on=\"Cancer\",doing=\"Smoking\")[0],ncols=2)\n"
   ]
  },
  {
   "cell_type": "code",
   "execution_count": null,
   "metadata": {},
   "outputs": [],
   "source": []
  }
 ],
 "metadata": {
  "anaconda-cloud": {},
  "hide_input": false,
  "kernelspec": {
   "display_name": "Python 3 (ipykernel)",
   "language": "python",
   "name": "python3"
  },
  "language_info": {
   "codemirror_mode": {
    "name": "ipython",
    "version": 3
   },
   "file_extension": ".py",
   "mimetype": "text/x-python",
   "name": "python",
   "nbconvert_exporter": "python",
   "pygments_lexer": "ipython3",
   "version": "3.12.2"
  },
  "toc": {
   "colors": {
    "hover_highlight": "#DAA520",
    "running_highlight": "#FF0000",
    "selected_highlight": "#FFD700"
   },
   "moveMenuLeft": true,
   "nav_menu": {
    "height": "31px",
    "width": "252px"
   },
   "navigate_menu": true,
   "number_sections": true,
   "sideBar": true,
   "threshold": 4,
   "toc_cell": true,
   "toc_section_display": "block",
   "toc_window_display": true,
   "widenNotebook": false
  }
 },
 "nbformat": 4,
 "nbformat_minor": 4
}
