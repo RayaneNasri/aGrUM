{
 "cells": [
  {
   "cell_type": "markdown",
   "metadata": {},
   "source": [
    "<a href=\"http://agrum.org\" target=\"blank\"><img src=\"http://agrum.gitlab.io/theme/img/logoAgrum.png\" align=\"left\" style=\"height:100px\"/></a><a href=\"https://agrum.gitlab.io/pages/pyagrum.html\" target=\"blank\"><img src=\"https://agrum.gitlab.io/images/pyAgrum.png\" align=\"right\" style=\"height:75px\"/></a><a rel=\"license\" href=\"http://creativecommons.org/licenses/by-nc/4.0/\"><img alt=\"Creative Commons License\" style=\"border-width:0\" src=\"https://i.creativecommons.org/l/by-nc/4.0/88x31.png\" /></a><br />This pyAgrum's notebook is licensed under a <a rel=\"license\" href=\"http://creativecommons.org/licenses/by-nc/4.0/\">Creative Commons Attribution-NonCommercial 4.0 International License</a><br/>\n",
    "Author: <b>Aymen Merrouche</b> and Pierre-Henri Wuillemin."
   ]
  },
  {
   "cell_type": "markdown",
   "metadata": {},
   "source": [
    "<font size=\"+3\" color=\"GREEN\">**The Curious Case(s) For Dr. Snow**</font>\n",
    "#### This notebook follows the examples from \"The Book Of Why\" (Pearl, 2018) chapter 7 page 224. \n",
    "\n",
    "## Instrumental Variables"
   ]
  },
  {
   "cell_type": "code",
   "execution_count": 1,
   "metadata": {
    "execution": {
     "iopub.execute_input": "2024-01-05T17:51:35.422574Z",
     "iopub.status.busy": "2024-01-05T17:51:35.422353Z",
     "iopub.status.idle": "2024-01-05T17:51:35.750172Z",
     "shell.execute_reply": "2024-01-05T17:51:35.749630Z",
     "shell.execute_reply.started": "2024-01-05T17:51:35.422551Z"
    }
   },
   "outputs": [],
   "source": [
    "from IPython.display import display, Math, Latex,HTML\n",
    "\n",
    "import pyAgrum as gum\n",
    "import pyAgrum.lib.notebook as gnb\n",
    "import pyAgrum.causal as csl\n",
    "import pyAgrum.causal.notebook as cslnb\n",
    "import os"
   ]
  },
  {
   "cell_type": "markdown",
   "metadata": {},
   "source": [
    "> England was struck in 1853 and in 1854 by an epidemic of cholera, the miasma theory was advanced. But Dr. Jhon Snow, who took care of cholera victims did not believe it. His investigations led him to believe that cholera was due to the consumption of contaminated water. The Londoners, at the time, got their water from two companies, one of which was delivering water contaminated by excrements of the cholera victims."
   ]
  },
  {
   "cell_type": "markdown",
   "metadata": {},
   "source": [
    "## Causal diagram for cholera (before the introduction of an instrumental variable):"
   ]
  },
  {
   "cell_type": "markdown",
   "metadata": {},
   "source": [
    "> Statistics have comforted snow in its hypothesis, indeed the inhabitants of districts served by the company with contaminated water were much more affected by the epidemic. However, it is not sufficient to invalidate the miasma theory. Miasma concentration could be, for instance, stronger in those particular districts. The corresponding causal is the following:"
   ]
  },
  {
   "cell_type": "code",
   "execution_count": 2,
   "metadata": {
    "execution": {
     "iopub.execute_input": "2024-01-05T17:51:35.751476Z",
     "iopub.status.busy": "2024-01-05T17:51:35.751240Z",
     "iopub.status.idle": "2024-01-05T17:51:35.819701Z",
     "shell.execute_reply": "2024-01-05T17:51:35.818919Z",
     "shell.execute_reply.started": "2024-01-05T17:51:35.751459Z"
    }
   },
   "outputs": [
    {
     "data": {
      "text/html": [
       "<svg xmlns=\"http://www.w3.org/2000/svg\" xmlns:xlink=\"http://www.w3.org/1999/xlink\" width=\"159pt\" height=\"116pt\" viewBox=\"0.00 0.00 158.82 116.00\">\n",
       "<g id=\"graph0\" class=\"graph\" transform=\"scale(1 1) rotate(0) translate(4 112)\">\n",
       "<title>G</title>\n",
       "<!-- Cholera -->\n",
       "<g id=\"node1\" class=\"node\">\n",
       "<title>Cholera</title>\n",
       "<g id=\"a_node1\"><a xlink:title=\"(1) Cholera\">\n",
       "<ellipse fill=\"#404040\" stroke=\"black\" cx=\"75.41\" cy=\"-18\" rx=\"50.16\" ry=\"18\"/>\n",
       "<text text-anchor=\"middle\" x=\"75.41\" y=\"-13.32\" font-family=\"Times,serif\" font-size=\"14.00\" fill=\"white\">Cholera</text>\n",
       "</a>\n",
       "</g>\n",
       "</g>\n",
       "<!-- Water Purity -->\n",
       "<g id=\"node2\" class=\"node\">\n",
       "<title>Water Purity</title>\n",
       "<g id=\"a_node2\"><a xlink:title=\"(0) Water Purity\">\n",
       "<ellipse fill=\"#404040\" stroke=\"black\" cx=\"75.41\" cy=\"-90\" rx=\"75.41\" ry=\"18\"/>\n",
       "<text text-anchor=\"middle\" x=\"75.41\" y=\"-85.33\" font-family=\"Times,serif\" font-size=\"14.00\" fill=\"white\">Water Purity</text>\n",
       "</a>\n",
       "</g>\n",
       "</g>\n",
       "<!-- Water Purity&#45;&gt;Cholera -->\n",
       "<g id=\"edge1\" class=\"edge\">\n",
       "<title>Water Purity-&gt;Cholera</title>\n",
       "<g id=\"a_edge1\"><a xlink:title=\"0 → 1\">\n",
       "<path fill=\"none\" stroke=\"#4a4a4a\" d=\"M75.41,-71.7C75.41,-64.41 75.41,-55.73 75.41,-47.54\"/>\n",
       "<polygon fill=\"#4a4a4a\" stroke=\"#4a4a4a\" points=\"78.91,-47.62 75.41,-37.62 71.91,-47.62 78.91,-47.62\"/>\n",
       "</a>\n",
       "</g>\n",
       "</g>\n",
       "</g>\n",
       "</svg>"
      ],
      "text/plain": [
       "(pyAgrum.BayesNet<double>@0x5566a719dcb0) BN{nodes: 2, arcs: 1, domainSize: 4, dim: 3, mem: 48o}"
      ]
     },
     "execution_count": 2,
     "metadata": {},
     "output_type": "execute_result"
    }
   ],
   "source": [
    "c1 = gum.fastBN(\"Water Purity->Cholera\")\n",
    "c1"
   ]
  },
  {
   "cell_type": "markdown",
   "metadata": {},
   "source": [
    "> Miasma, poverty and other confounders are to be considered:"
   ]
  },
  {
   "cell_type": "code",
   "execution_count": 3,
   "metadata": {
    "execution": {
     "iopub.execute_input": "2024-01-05T17:51:35.821375Z",
     "iopub.status.busy": "2024-01-05T17:51:35.820985Z",
     "iopub.status.idle": "2024-01-05T17:51:36.000682Z",
     "shell.execute_reply": "2024-01-05T17:51:35.999554Z",
     "shell.execute_reply.started": "2024-01-05T17:51:35.821339Z"
    }
   },
   "outputs": [
    {
     "data": {
      "text/html": [
       "\n",
       "      <style>\n",
       "      .floating-box {\n",
       "      display: inline-block;\n",
       "      margin: 7px;\n",
       "      padding : 3px;\n",
       "      border: 0px solid transparent;  \n",
       "      valign:middle;\n",
       "      background-color: transparent;\n",
       "      }\n",
       "      </style>\n",
       "      <div class=\"floating-box\"><svg xmlns=\"http://www.w3.org/2000/svg\" xmlns:xlink=\"http://www.w3.org/1999/xlink\" width=\"180pt\" height=\"152pt\" viewBox=\"0.00 0.00 180.00 151.75\">\n",
       "<g id=\"graph0\" class=\"graph\" transform=\"scale(0.975267 0.975267) rotate(0) translate(4 151.6)\">\n",
       "<title>G</title>\n",
       "<!-- Miasma, Poverty, etc -->\n",
       "<g id=\"node1\" class=\"node\">\n",
       "<title>Miasma, Poverty, etc</title>\n",
       "<ellipse fill=\"#404040\" stroke=\"#4a4a4a\" cx=\"126.41\" cy=\"-145.8\" rx=\"1.8\" ry=\"1.8\"/>\n",
       "</g>\n",
       "<!-- Water Purity -->\n",
       "<g id=\"node2\" class=\"node\">\n",
       "<title>Water Purity</title>\n",
       "<ellipse fill=\"#404040\" stroke=\"#4a4a4a\" cx=\"75.41\" cy=\"-90\" rx=\"75.41\" ry=\"18\"/>\n",
       "<text text-anchor=\"middle\" x=\"75.41\" y=\"-85.33\" font-family=\"Times,serif\" font-size=\"14.00\" fill=\"white\">Water Purity</text>\n",
       "</g>\n",
       "<!-- Miasma, Poverty, etc&#45;&gt;Water Purity -->\n",
       "<g id=\"edge2\" class=\"edge\">\n",
       "<title>Miasma, Poverty, etc-&gt;Water Purity</title>\n",
       "<path fill=\"none\" stroke=\"#4a4a4a\" stroke-dasharray=\"5,2\" d=\"M125.52,-143.87C122.26,-140.42 110.48,-127.99 99.16,-116.06\"/>\n",
       "<polygon fill=\"#4a4a4a\" stroke=\"#4a4a4a\" points=\"101.97,-113.93 92.55,-109.08 96.89,-118.75 101.97,-113.93\"/>\n",
       "</g>\n",
       "<!-- Cholera -->\n",
       "<g id=\"node3\" class=\"node\">\n",
       "<title>Cholera</title>\n",
       "<ellipse fill=\"#404040\" stroke=\"#4a4a4a\" cx=\"126.41\" cy=\"-18\" rx=\"50.16\" ry=\"18\"/>\n",
       "<text text-anchor=\"middle\" x=\"126.41\" y=\"-13.32\" font-family=\"Times,serif\" font-size=\"14.00\" fill=\"white\">Cholera</text>\n",
       "</g>\n",
       "<!-- Miasma, Poverty, etc&#45;&gt;Cholera -->\n",
       "<g id=\"edge3\" class=\"edge\">\n",
       "<title>Miasma, Poverty, etc-&gt;Cholera</title>\n",
       "<path fill=\"none\" stroke=\"#4a4a4a\" stroke-dasharray=\"5,2\" d=\"M127.51,-144.06C132.43,-140.66 152.54,-125.95 159.41,-108 165.13,-93.06 163.81,-87.38 159.41,-72 156.7,-62.52 151.74,-53.08 146.49,-44.85\"/>\n",
       "<polygon fill=\"#4a4a4a\" stroke=\"#4a4a4a\" points=\"149.46,-43 140.91,-36.74 143.69,-46.96 149.46,-43\"/>\n",
       "</g>\n",
       "<!-- Water Purity&#45;&gt;Cholera -->\n",
       "<g id=\"edge1\" class=\"edge\">\n",
       "<title>Water Purity-&gt;Cholera</title>\n",
       "<path fill=\"none\" stroke=\"#4a4a4a\" d=\"M86.95,-71.47C92.9,-63.3 100.17,-53.32 106.79,-44.24\"/>\n",
       "<path fill=\"none\" stroke=\"#4a4a4a\" d=\"M88.56,-72.64C94.51,-64.48 101.78,-54.5 108.4,-45.41\"/>\n",
       "<polygon fill=\"#4a4a4a\" stroke=\"#4a4a4a\" points=\"110.23,-47.16 113.29,-37.01 104.57,-43.03 110.23,-47.16\"/>\n",
       "</g>\n",
       "</g>\n",
       "</svg><br><center><small><em>Causal Model</em></small></center></div><div class=\"floating-box\">Hedge Error: G={'Cholera', 'Water Purity'}, G[S]={'Cholera'}<br><center><small><em>Impossible</em></small></center></div><div class=\"floating-box\">No result<br><center><small><em>Impact</em></small></center></div>"
      ],
      "text/plain": [
       "<IPython.core.display.HTML object>"
      ]
     },
     "metadata": {},
     "output_type": "display_data"
    }
   ],
   "source": [
    "c1Modele = csl.CausalModel(c1, [(\"Miasma, Poverty, etc\", [\"Water Purity\",\"Cholera\"])],True)\n",
    "cslnb.showCausalImpact(c1Modele,\"Cholera\",doing=\"Water Purity\",values={\"Water Purity\":1})"
   ]
  },
  {
   "cell_type": "markdown",
   "metadata": {},
   "source": [
    "> We cannot observe any of these confounders (miasma, poverty, etc.), so we can't control for it using back-door adjustment. Therefore, there is no way to discredit the miasma theory."
   ]
  },
  {
   "cell_type": "markdown",
   "metadata": {},
   "source": [
    "## Causal diagram for cholera (after the introduction of an instrumental variable):"
   ]
  },
  {
   "cell_type": "markdown",
   "metadata": {},
   "source": [
    "> Dr. Snow then turned to the districts that were served by the two water companies at the same time, these districts' households did not differ in terms of miasma or poverty, and yet the statistics remained on his side, the mortality was much higher in households that received contaminated water. The corresponding causal diagram is the following:"
   ]
  },
  {
   "cell_type": "code",
   "execution_count": 4,
   "metadata": {
    "execution": {
     "iopub.execute_input": "2024-01-05T17:51:36.002568Z",
     "iopub.status.busy": "2024-01-05T17:51:36.002161Z",
     "iopub.status.idle": "2024-01-05T17:51:36.084064Z",
     "shell.execute_reply": "2024-01-05T17:51:36.083132Z",
     "shell.execute_reply.started": "2024-01-05T17:51:36.002528Z"
    }
   },
   "outputs": [
    {
     "data": {
      "text/html": [
       "<svg xmlns=\"http://www.w3.org/2000/svg\" xmlns:xlink=\"http://www.w3.org/1999/xlink\" width=\"360pt\" height=\"154pt\" viewBox=\"0.00 0.00 360.00 153.96\">\n",
       "<g id=\"graph0\" class=\"graph\" transform=\"scale(0.818953 0.818953) rotate(0) translate(4 184)\">\n",
       "<title>G</title>\n",
       "<!-- Miasma, Poverty, etc -->\n",
       "<g id=\"node1\" class=\"node\">\n",
       "<title>Miasma, Poverty, etc</title>\n",
       "<g id=\"a_node1\"><a xlink:title=\"(1) Miasma, Poverty, etc\">\n",
       "<ellipse fill=\"#404040\" stroke=\"black\" cx=\"115.39\" cy=\"-162\" rx=\"115.39\" ry=\"18\"/>\n",
       "<text text-anchor=\"middle\" x=\"115.39\" y=\"-157.32\" font-family=\"Times,serif\" font-size=\"14.00\" fill=\"white\">Miasma, Poverty, etc</text>\n",
       "</a>\n",
       "</g>\n",
       "</g>\n",
       "<!-- Cholera -->\n",
       "<g id=\"node2\" class=\"node\">\n",
       "<title>Cholera</title>\n",
       "<g id=\"a_node2\"><a xlink:title=\"(0) Cholera\">\n",
       "<ellipse fill=\"#404040\" stroke=\"black\" cx=\"166.39\" cy=\"-18\" rx=\"50.16\" ry=\"18\"/>\n",
       "<text text-anchor=\"middle\" x=\"166.39\" y=\"-13.32\" font-family=\"Times,serif\" font-size=\"14.00\" fill=\"white\">Cholera</text>\n",
       "</a>\n",
       "</g>\n",
       "</g>\n",
       "<!-- Miasma, Poverty, etc&#45;&gt;Cholera -->\n",
       "<g id=\"edge1\" class=\"edge\">\n",
       "<title>Miasma, Poverty, etc-&gt;Cholera</title>\n",
       "<g id=\"a_edge1\"><a xlink:title=\"1 → 0\">\n",
       "<path fill=\"none\" stroke=\"#4a4a4a\" d=\"M117.34,-143.78C119.81,-125.48 124.92,-95.95 134.39,-72 137.99,-62.9 143.08,-53.58 148.13,-45.34\"/>\n",
       "<polygon fill=\"#4a4a4a\" stroke=\"#4a4a4a\" points=\"150.91,-47.48 153.37,-37.18 145.02,-43.7 150.91,-47.48\"/>\n",
       "</a>\n",
       "</g>\n",
       "</g>\n",
       "<!-- Water Purity -->\n",
       "<g id=\"node3\" class=\"node\">\n",
       "<title>Water Purity</title>\n",
       "<g id=\"a_node3\"><a xlink:title=\"(2) Water Purity\">\n",
       "<ellipse fill=\"#404040\" stroke=\"black\" cx=\"218.39\" cy=\"-90\" rx=\"75.41\" ry=\"18\"/>\n",
       "<text text-anchor=\"middle\" x=\"218.39\" y=\"-85.33\" font-family=\"Times,serif\" font-size=\"14.00\" fill=\"white\">Water Purity</text>\n",
       "</a>\n",
       "</g>\n",
       "</g>\n",
       "<!-- Miasma, Poverty, etc&#45;&gt;Water Purity -->\n",
       "<g id=\"edge3\" class=\"edge\">\n",
       "<title>Miasma, Poverty, etc-&gt;Water Purity</title>\n",
       "<g id=\"a_edge3\"><a xlink:title=\"1 → 2\">\n",
       "<path fill=\"none\" stroke=\"#4a4a4a\" d=\"M140.33,-144.05C153.81,-134.89 170.63,-123.46 185.2,-113.56\"/>\n",
       "<polygon fill=\"#4a4a4a\" stroke=\"#4a4a4a\" points=\"186.84,-116.67 193.15,-108.16 182.91,-110.88 186.84,-116.67\"/>\n",
       "</a>\n",
       "</g>\n",
       "</g>\n",
       "<!-- Water Purity&#45;&gt;Cholera -->\n",
       "<g id=\"edge4\" class=\"edge\">\n",
       "<title>Water Purity-&gt;Cholera</title>\n",
       "<g id=\"a_edge4\"><a xlink:title=\"2 → 0\">\n",
       "<path fill=\"none\" stroke=\"#4a4a4a\" d=\"M205.81,-72.05C199.74,-63.89 192.33,-53.91 185.58,-44.82\"/>\n",
       "<polygon fill=\"#4a4a4a\" stroke=\"#4a4a4a\" points=\"188.54,-42.94 179.77,-37 182.92,-47.12 188.54,-42.94\"/>\n",
       "</a>\n",
       "</g>\n",
       "</g>\n",
       "<!-- Water Company -->\n",
       "<g id=\"node4\" class=\"node\">\n",
       "<title>Water Company</title>\n",
       "<g id=\"a_node4\"><a xlink:title=\"(3) Water Company\">\n",
       "<ellipse fill=\"#404040\" stroke=\"black\" cx=\"340.39\" cy=\"-162\" rx=\"91.19\" ry=\"18\"/>\n",
       "<text text-anchor=\"middle\" x=\"340.39\" y=\"-157.32\" font-family=\"Times,serif\" font-size=\"14.00\" fill=\"white\">Water Company</text>\n",
       "</a>\n",
       "</g>\n",
       "</g>\n",
       "<!-- Water Company&#45;&gt;Water Purity -->\n",
       "<g id=\"edge2\" class=\"edge\">\n",
       "<title>Water Company-&gt;Water Purity</title>\n",
       "<g id=\"a_edge2\"><a xlink:title=\"3 → 2\">\n",
       "<path fill=\"none\" stroke=\"#4a4a4a\" d=\"M311.79,-144.59C295.23,-135.09 274.18,-123.01 256.26,-112.72\"/>\n",
       "<polygon fill=\"#4a4a4a\" stroke=\"#4a4a4a\" points=\"258.13,-109.76 247.71,-107.82 254.64,-115.83 258.13,-109.76\"/>\n",
       "</a>\n",
       "</g>\n",
       "</g>\n",
       "</g>\n",
       "</svg>"
      ],
      "text/plain": [
       "(pyAgrum.BayesNet<double>@0x5566a72a9ac0) BN{nodes: 4, arcs: 4, domainSize: 16, dim: 10, mem: 160o}"
      ]
     },
     "execution_count": 4,
     "metadata": {},
     "output_type": "execute_result"
    }
   ],
   "source": [
    "c2 = gum.fastBN(\"Cholera<-Miasma, Poverty, etc->Water Purity->Cholera;Water Purity<-Water Company\")\n",
    "c2"
   ]
  },
  {
   "cell_type": "markdown",
   "metadata": {},
   "source": [
    "> \"Water Company\" is an \"<b>instrumental variable</b>\" :\n",
    "+ The variable \"Water Company\" is highly correlated with the outcome \"Cholera\" (according to statistics that Dr. snow gathered), mortality (victims of cholera) is much higher in households served by the contaminated water company.\n",
    "+ The variable \"Water Company\" has not a causal effect on the outcome: \"Cholera\", water companies do not inoculate cholera to their customers, the correlation between the instrument and the outcome mentioned above, is due to the effect of some intermediate variable (no arrow between Water Company and Cholera in the causal diagram).\n",
    "+ The instrument has a causal effect on the treatment \"Water Purity\" , we saw that one of the two companies was distributing water contaminated by the excrements of cholera victims (presence of an arrow between Water Company and Water Purity in the causal diagram).\n",
    "+ The variable \"Water Company\" is as if it was randomly assigned. (no incoming arrows in the causal diagram)\n",
    "+ The correlation between \"Water Company\" and \"Water Purity\" that is observed in the data, is the causal effect of the instrument over treatment.\n",
    "+ Since the instrument is as if it was randomly assigned (no incoming arrows), it can't be correlated with any other confounders of the relationship between it and the outcome. <br>\n",
    "<b>So we have unsuccessfully explored all possible explanations for the correlation between the instrument \"Water Company\" and the outcome \"Cholera\" but one, it is that the treatment \"water purity\" did have a causal effect over the outcome.</b><br>\n",
    "So Dr. Snow used the instrumental variable \"Water Company\" to adjust for unobserved confounding factors."
   ]
  },
  {
   "cell_type": "markdown",
   "metadata": {},
   "source": [
    "Using the method of path coefficients, we can find the effect of treatment over the outcome using rung one information: correlations $c_{ZY}$ and $c_{ZX}$, without having any data on confounders."
   ]
  },
  {
   "cell_type": "markdown",
   "metadata": {},
   "source": [
    "![title](images/figure.7.9.png)"
   ]
  },
  {
   "cell_type": "markdown",
   "metadata": {},
   "source": [
    "Z and X are unconfounded.\n",
    "$$\\implies c_{ZX} = a ... (1)$$ \n",
    "Z and Y are unconfounded, $Z \\rightarrow X \\leftarrow U \\rightarrow Y$ is not an open path, it is blocked by the collider node X, we don't need to account for U to assess the causal effect of Z on Y \n",
    "$$\\implies c_{ZY} = a \\times b ... (2)$$\n",
    "$$(1) and (2) \\implies b = \\frac{c_{ZY}}{c_{ZX}} $$"
   ]
  },
  {
   "cell_type": "code",
   "execution_count": null,
   "metadata": {},
   "outputs": [],
   "source": []
  }
 ],
 "metadata": {
  "kernelspec": {
   "display_name": "Python 3 (ipykernel)",
   "language": "python",
   "name": "python3"
  },
  "language_info": {
   "codemirror_mode": {
    "name": "ipython",
    "version": 3
   },
   "file_extension": ".py",
   "mimetype": "text/x-python",
   "name": "python",
   "nbconvert_exporter": "python",
   "pygments_lexer": "ipython3",
   "version": "3.11.6"
  }
 },
 "nbformat": 4,
 "nbformat_minor": 4
}
