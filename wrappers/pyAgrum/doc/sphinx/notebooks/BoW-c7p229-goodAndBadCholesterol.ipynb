{
 "cells": [
  {
   "cell_type": "markdown",
   "metadata": {},
   "source": [
    "<a href=\"http://agrum.org\" target=\"blank\"><img src=\"http://agrum.gitlab.io/theme/img/logoAgrum.png\" align=\"left\" style=\"height:100px\"/></a><a href=\"https://agrum.gitlab.io/pages/pyagrum.html\" target=\"blank\"><img src=\"https://agrum.gitlab.io/images/pyAgrum.png\" align=\"right\" style=\"height:75px\"/></a><a rel=\"license\" href=\"http://creativecommons.org/licenses/by-nc/4.0/\"><img alt=\"Creative Commons License\" style=\"border-width:0\" src=\"https://i.creativecommons.org/l/by-nc/4.0/88x31.png\" /></a><br />This pyAgrum's notebook is licensed under a <a rel=\"license\" href=\"http://creativecommons.org/licenses/by-nc/4.0/\">Creative Commons Attribution-NonCommercial 4.0 International License</a><br/>\n",
    "Author: <b>Aymen Merrouche</b> and Pierre-Henri Wuillemin."
   ]
  },
  {
   "cell_type": "markdown",
   "metadata": {},
   "source": [
    "<font size=\"+3\" color=\"GREEN\">**Good And Bad Cholesterol**</font>\n",
    "#### This notebook follows the examples from \"The Book Of Why\" (Pearl, 2018) chapter 7 page 229. \n",
    "\n",
    "## Randomised Controlled Trials with noncompliance"
   ]
  },
  {
   "cell_type": "code",
   "execution_count": 1,
   "metadata": {
    "execution": {
     "iopub.execute_input": "2024-01-05T17:52:44.151868Z",
     "iopub.status.busy": "2024-01-05T17:52:44.151472Z",
     "iopub.status.idle": "2024-01-05T17:52:44.489965Z",
     "shell.execute_reply": "2024-01-05T17:52:44.489058Z",
     "shell.execute_reply.started": "2024-01-05T17:52:44.151830Z"
    }
   },
   "outputs": [],
   "source": [
    "from IPython.display import display, Math, Latex,HTML\n",
    "\n",
    "import pyAgrum as gum\n",
    "import pyAgrum.lib.notebook as gnb\n",
    "import pyAgrum.causal as csl\n",
    "import pyAgrum.causal.notebook as cslnb\n",
    "import os"
   ]
  },
  {
   "cell_type": "markdown",
   "metadata": {},
   "source": [
    "> Noncompliance is an important issue in the conduct of randomized controlled trials (RCTs). Taking account for noncompliers is necessary because they will bias the impact of the treatment on the outcome. "
   ]
  },
  {
   "cell_type": "markdown",
   "metadata": {},
   "source": [
    "### We create the causal diagram:\n",
    "From 1973 to 1984 a randomized controlled trial was conducted to measure the effect of cholestyramine on cholesterol. The researchers in charge of this trial faced the noncompliance problem. (when patients who participate in the trial don't take their treatment). The corresponding causal diagram is the following:"
   ]
  },
  {
   "cell_type": "code",
   "execution_count": 2,
   "metadata": {
    "execution": {
     "iopub.execute_input": "2024-01-05T17:52:44.491502Z",
     "iopub.status.busy": "2024-01-05T17:52:44.491227Z",
     "iopub.status.idle": "2024-01-05T17:52:44.559660Z",
     "shell.execute_reply": "2024-01-05T17:52:44.558739Z",
     "shell.execute_reply.started": "2024-01-05T17:52:44.491480Z"
    }
   },
   "outputs": [
    {
     "data": {
      "text/html": [
       "<svg xmlns=\"http://www.w3.org/2000/svg\" xmlns:xlink=\"http://www.w3.org/1999/xlink\" width=\"145pt\" height=\"188pt\" viewBox=\"0.00 0.00 145.14 188.00\">\n",
       "<g id=\"graph0\" class=\"graph\" transform=\"scale(1 1) rotate(0) translate(4 184)\">\n",
       "<title>G</title>\n",
       "<!-- Assigned -->\n",
       "<g id=\"node1\" class=\"node\">\n",
       "<title>Assigned</title>\n",
       "<g id=\"a_node1\"><a xlink:title=\"(0) Assigned\">\n",
       "<ellipse fill=\"#404040\" stroke=\"black\" cx=\"68.57\" cy=\"-162\" rx=\"56.47\" ry=\"18\"/>\n",
       "<text text-anchor=\"middle\" x=\"68.57\" y=\"-157.32\" font-family=\"Times,serif\" font-size=\"14.00\" fill=\"white\">Assigned</text>\n",
       "</a>\n",
       "</g>\n",
       "</g>\n",
       "<!-- Received -->\n",
       "<g id=\"node3\" class=\"node\">\n",
       "<title>Received</title>\n",
       "<g id=\"a_node3\"><a xlink:title=\"(1) Received\">\n",
       "<ellipse fill=\"#404040\" stroke=\"black\" cx=\"68.57\" cy=\"-90\" rx=\"56.47\" ry=\"18\"/>\n",
       "<text text-anchor=\"middle\" x=\"68.57\" y=\"-85.33\" font-family=\"Times,serif\" font-size=\"14.00\" fill=\"white\">Received</text>\n",
       "</a>\n",
       "</g>\n",
       "</g>\n",
       "<!-- Assigned&#45;&gt;Received -->\n",
       "<g id=\"edge1\" class=\"edge\">\n",
       "<title>Assigned-&gt;Received</title>\n",
       "<g id=\"a_edge1\"><a xlink:title=\"0 → 1\">\n",
       "<path fill=\"none\" stroke=\"#4a4a4a\" d=\"M68.57,-143.7C68.57,-136.41 68.57,-127.73 68.57,-119.54\"/>\n",
       "<polygon fill=\"#4a4a4a\" stroke=\"#4a4a4a\" points=\"72.07,-119.62 68.57,-109.62 65.07,-119.62 72.07,-119.62\"/>\n",
       "</a>\n",
       "</g>\n",
       "</g>\n",
       "<!-- Cholesterol -->\n",
       "<g id=\"node2\" class=\"node\">\n",
       "<title>Cholesterol</title>\n",
       "<g id=\"a_node2\"><a xlink:title=\"(2) Cholesterol\">\n",
       "<ellipse fill=\"#404040\" stroke=\"black\" cx=\"68.57\" cy=\"-18\" rx=\"68.57\" ry=\"18\"/>\n",
       "<text text-anchor=\"middle\" x=\"68.57\" y=\"-13.32\" font-family=\"Times,serif\" font-size=\"14.00\" fill=\"white\">Cholesterol</text>\n",
       "</a>\n",
       "</g>\n",
       "</g>\n",
       "<!-- Received&#45;&gt;Cholesterol -->\n",
       "<g id=\"edge2\" class=\"edge\">\n",
       "<title>Received-&gt;Cholesterol</title>\n",
       "<g id=\"a_edge2\"><a xlink:title=\"1 → 2\">\n",
       "<path fill=\"none\" stroke=\"#4a4a4a\" d=\"M68.57,-71.7C68.57,-64.41 68.57,-55.73 68.57,-47.54\"/>\n",
       "<polygon fill=\"#4a4a4a\" stroke=\"#4a4a4a\" points=\"72.07,-47.62 68.57,-37.62 65.07,-47.62 72.07,-47.62\"/>\n",
       "</a>\n",
       "</g>\n",
       "</g>\n",
       "</g>\n",
       "</svg>"
      ],
      "text/plain": [
       "(pyAgrum.BayesNet<double>@0x55835ab17b70) BN{nodes: 3, arcs: 2, domainSize: 8, dim: 5, mem: 80o}"
      ]
     },
     "execution_count": 2,
     "metadata": {},
     "output_type": "execute_result"
    }
   ],
   "source": [
    "bw = gum.fastBN(\"Assigned->Received->Cholesterol\")\n",
    "bw"
   ]
  },
  {
   "cell_type": "markdown",
   "metadata": {},
   "source": [
    "All our variables are binary, not numerical."
   ]
  },
  {
   "cell_type": "markdown",
   "metadata": {},
   "source": [
    "## What is the effect of the treatment on the outcome?"
   ]
  },
  {
   "cell_type": "markdown",
   "metadata": {},
   "source": [
    "> This question raises another one: <b> What if noncompliers followed the instructions they were given, how would they have responded to the treatment? </b>.We can't suppose that they would respond the same way compliers did. Not complying is maybe due to the risk of interacting with other drugs which can be a sign of a disease, and therefore these noncompliers may react differently: confounding."
   ]
  },
  {
   "cell_type": "code",
   "execution_count": 3,
   "metadata": {
    "execution": {
     "iopub.execute_input": "2024-01-05T17:52:44.561432Z",
     "iopub.status.busy": "2024-01-05T17:52:44.561033Z",
     "iopub.status.idle": "2024-01-05T17:52:44.771453Z",
     "shell.execute_reply": "2024-01-05T17:52:44.770557Z",
     "shell.execute_reply.started": "2024-01-05T17:52:44.561396Z"
    }
   },
   "outputs": [
    {
     "data": {
      "text/html": [
       "\n",
       "      <style>\n",
       "      .floating-box {\n",
       "      display: inline-block;\n",
       "      margin: 7px;\n",
       "      padding : 3px;\n",
       "      border: 0px solid transparent;  \n",
       "      valign:middle;\n",
       "      background-color: transparent;\n",
       "      }\n",
       "      </style>\n",
       "      <div class=\"floating-box\"><svg xmlns=\"http://www.w3.org/2000/svg\" xmlns:xlink=\"http://www.w3.org/1999/xlink\" width=\"168pt\" height=\"180pt\" viewBox=\"0.00 0.00 167.59 180.00\">\n",
       "<g id=\"graph0\" class=\"graph\" transform=\"scale(0.957447 0.957447) rotate(0) translate(4 184)\">\n",
       "<title>G</title>\n",
       "<!-- confounder -->\n",
       "<g id=\"node1\" class=\"node\">\n",
       "<title>confounder</title>\n",
       "<ellipse fill=\"#404040\" stroke=\"#4a4a4a\" cx=\"136.47\" cy=\"-162\" rx=\"1.8\" ry=\"1.8\"/>\n",
       "</g>\n",
       "<!-- Received -->\n",
       "<g id=\"node3\" class=\"node\">\n",
       "<title>Received</title>\n",
       "<ellipse fill=\"#404040\" stroke=\"#4a4a4a\" cx=\"56.47\" cy=\"-90\" rx=\"56.47\" ry=\"18\"/>\n",
       "<text text-anchor=\"middle\" x=\"56.47\" y=\"-85.33\" font-family=\"Times,serif\" font-size=\"14.00\" fill=\"white\">Received</text>\n",
       "</g>\n",
       "<!-- confounder&#45;&gt;Received -->\n",
       "<g id=\"edge4\" class=\"edge\">\n",
       "<title>confounder-&gt;Received</title>\n",
       "<path fill=\"none\" stroke=\"#4a4a4a\" stroke-dasharray=\"5,2\" d=\"M135.71,-160.03C133.58,-157.35 127.37,-149.68 121.47,-144 110.73,-133.67 98.19,-123.13 87,-114.2\"/>\n",
       "<polygon fill=\"#4a4a4a\" stroke=\"#4a4a4a\" points=\"89.21,-111.48 79.18,-108.05 84.88,-116.98 89.21,-111.48\"/>\n",
       "</g>\n",
       "<!-- Cholesterol -->\n",
       "<g id=\"node4\" class=\"node\">\n",
       "<title>Cholesterol</title>\n",
       "<ellipse fill=\"#404040\" stroke=\"#4a4a4a\" cx=\"98.47\" cy=\"-18\" rx=\"68.57\" ry=\"18\"/>\n",
       "<text text-anchor=\"middle\" x=\"98.47\" y=\"-13.32\" font-family=\"Times,serif\" font-size=\"14.00\" fill=\"white\">Cholesterol</text>\n",
       "</g>\n",
       "<!-- confounder&#45;&gt;Cholesterol -->\n",
       "<g id=\"edge2\" class=\"edge\">\n",
       "<title>confounder-&gt;Cholesterol</title>\n",
       "<path fill=\"none\" stroke=\"#4a4a4a\" stroke-dasharray=\"5,2\" d=\"M136.37,-159.72C135.73,-151.63 131.8,-106.85 121.47,-72 118.96,-63.54 115.46,-54.63 111.94,-46.58\"/>\n",
       "<polygon fill=\"#4a4a4a\" stroke=\"#4a4a4a\" points=\"115.2,-45.29 107.86,-37.64 108.83,-48.2 115.2,-45.29\"/>\n",
       "</g>\n",
       "<!-- Assigned -->\n",
       "<g id=\"node2\" class=\"node\">\n",
       "<title>Assigned</title>\n",
       "<ellipse fill=\"#404040\" stroke=\"#4a4a4a\" cx=\"56.47\" cy=\"-162\" rx=\"56.47\" ry=\"18\"/>\n",
       "<text text-anchor=\"middle\" x=\"56.47\" y=\"-157.32\" font-family=\"Times,serif\" font-size=\"14.00\" fill=\"white\">Assigned</text>\n",
       "</g>\n",
       "<!-- Assigned&#45;&gt;Received -->\n",
       "<g id=\"edge1\" class=\"edge\">\n",
       "<title>Assigned-&gt;Received</title>\n",
       "<path fill=\"none\" stroke=\"#4a4a4a\" d=\"M55.47,-143.7C55.47,-136.41 55.47,-127.73 55.47,-119.54\"/>\n",
       "<path fill=\"none\" stroke=\"#4a4a4a\" d=\"M57.47,-143.7C57.47,-136.41 57.47,-127.73 57.47,-119.54\"/>\n",
       "<polygon fill=\"#4a4a4a\" stroke=\"#4a4a4a\" points=\"59.97,-119.62 56.47,-109.62 52.97,-119.62 59.97,-119.62\"/>\n",
       "</g>\n",
       "<!-- Received&#45;&gt;Cholesterol -->\n",
       "<g id=\"edge3\" class=\"edge\">\n",
       "<title>Received-&gt;Cholesterol</title>\n",
       "<path fill=\"none\" stroke=\"#4a4a4a\" d=\"M65.78,-71.54C70.46,-63.75 76.12,-54.31 81.36,-45.56\"/>\n",
       "<path fill=\"none\" stroke=\"#4a4a4a\" d=\"M67.49,-72.57C72.17,-64.78 77.83,-55.34 83.08,-46.59\"/>\n",
       "<polygon fill=\"#4a4a4a\" stroke=\"#4a4a4a\" points=\"85.18,-47.95 87.33,-37.57 79.18,-44.35 85.18,-47.95\"/>\n",
       "</g>\n",
       "</g>\n",
       "</svg><br><center><small><em>Causal Model</em></small></center></div><div class=\"floating-box\">Hedge Error: G={'Cholesterol', 'Received'}, G[S]={'Cholesterol'}<br><center><small><em>Impossible</em></small></center></div><div class=\"floating-box\">No result<br><center><small><em>Impact</em></small></center></div>"
      ],
      "text/plain": [
       "<IPython.core.display.HTML object>"
      ]
     },
     "metadata": {},
     "output_type": "display_data"
    }
   ],
   "source": [
    "bwModele = csl.CausalModel(bw,[(\"confounder\",[\"Received\",\"Cholesterol\"])], True)\n",
    "cslnb.showCausalImpact(bwModele,on = \"Cholesterol\",doing=\"Received\")"
   ]
  },
  {
   "cell_type": "markdown",
   "metadata": {},
   "source": [
    "> We cannot observe any of these confounders, so we can't control for it using back-door adjustment.<br>\n",
    "\"Assigned\" is an \"instrumental variable\" :\n",
    "+ According to data the variable \"Assigned\" is correlated with the outcome \"Cholesterol\"\n",
    "+ The variable \"Assigned\" has not a causal effect on the outcome: Assigning a number doesn't cause cholesterol.\n",
    "+ The instrument has a causal effect on the treatment \"Received\"\n",
    "+ The variable \"Assigned\" is as if it was randomly assigned. (no incoming arrows in the causal diagram)\n",
    "+ The correlation between \"Assigned\" and \"Received\" that is observed in the data, is the causal effect of the instrument over the treatment.\n",
    "+ Since the instrument is as if it was randomly assigned (no incoming arrows), it can't be correlated with any other confounders of the relationship between it and the outcome."
   ]
  },
  {
   "cell_type": "markdown",
   "metadata": {},
   "source": [
    "> One of the methods of taking account for noncompliers is to take the worst-case scenario where none of the noncompliers would have improved if they followed the instructions (we get that 39.2% improved.), and the best-case scenario where all noncompliers would have improved if they had complied (we get that 78.0% improved.), we can say that the treatment is efficient because even in the worst-case scenario 39.2% of the population improved. "
   ]
  },
  {
   "cell_type": "code",
   "execution_count": null,
   "metadata": {},
   "outputs": [],
   "source": []
  }
 ],
 "metadata": {
  "kernelspec": {
   "display_name": "Python 3 (ipykernel)",
   "language": "python",
   "name": "python3"
  },
  "language_info": {
   "codemirror_mode": {
    "name": "ipython",
    "version": 3
   },
   "file_extension": ".py",
   "mimetype": "text/x-python",
   "name": "python",
   "nbconvert_exporter": "python",
   "pygments_lexer": "ipython3",
   "version": "3.11.6"
  }
 },
 "nbformat": 4,
 "nbformat_minor": 4
}
