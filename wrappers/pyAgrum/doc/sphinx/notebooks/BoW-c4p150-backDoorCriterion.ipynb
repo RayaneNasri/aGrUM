{
 "cells": [
  {
   "cell_type": "markdown",
   "metadata": {
    "editable": true,
    "slideshow": {
     "slide_type": ""
    },
    "tags": []
   },
   "source": [
    "# Back-Door Criterion (p150)\n",
    "\n",
    "| | | |\n",
    "|-|-|-|\n",
    "|[ ![Creative Commons License](images/cc4.png)](http://creativecommons.org/licenses/by-nc/4.0/) |[ ![aGrUM](images/logoAgrum.png)](https://agrum.org) |[ ![interactive online version](images/atbinder.svg)](https://agrum.gitlab.io/extra/agrum_at_binder.html)\n",
    "\n",
    "Authors: <b>Aymen Merrouche</b> and Pierre-Henri Wuillemin.\n",
    "\n",
    "**This notebook follows the example from \"The Book Of Why\" (Pearl, 2018) chapter 4 page 150**"
   ]
  },
  {
   "cell_type": "markdown",
   "metadata": {
    "editable": true,
    "slideshow": {
     "slide_type": ""
    },
    "tags": []
   },
   "source": [
    "## Back-Door Criterion"
   ]
  },
  {
   "cell_type": "code",
   "execution_count": 1,
   "metadata": {
    "editable": true,
    "execution": {
     "iopub.execute_input": "2024-07-27T15:57:58.525243Z",
     "iopub.status.busy": "2024-07-27T15:57:58.524686Z",
     "iopub.status.idle": "2024-07-27T15:57:58.783413Z",
     "shell.execute_reply": "2024-07-27T15:57:58.783111Z"
    },
    "slideshow": {
     "slide_type": ""
    },
    "tags": []
   },
   "outputs": [],
   "source": [
    "from IPython.display import display, Math, Latex,HTML\n",
    "\n",
    "import pyAgrum as gum\n",
    "import pyAgrum.lib.notebook as gnb\n",
    "import pyAgrum.causal as csl\n",
    "import pyAgrum.causal.notebook as cslnb\n",
    "import os"
   ]
  },
  {
   "cell_type": "markdown",
   "metadata": {},
   "source": [
    "> In a causal diagram, confounding bias is due to the flow of non-causal information between treatment $X$ and outcome $Y$ through back-door paths. To neutralize this bias, we need to block these paths. <br>\n",
    "To block a non-causal path, we must perform an adjustment operation for a variable or a set of variables that would block the flow of information on that path. Such a set of variables satisfies what we call the \"back-door\" criterion.\n",
    "> A set of variables $Z$ satisfies the back-door criterion for $(X, Y)$ if and only if:\n",
    "* $Z$ blocks all back-door paths between $X$ and $Y$. A \"back-door path\" is any path in the causal diagram between $X$ and $Y$ starting with an arrow pointing towards $X$.\n",
    "* No variable in $Z$ is a descendant of $X$ on a causal path, if we adjust for such a variable we would block a path that carries causal information hence the causal effect of $X$ on $Y$ would be biased.\n",
    "\n",
    "<b>If a set of $ Z $ variable satisfies the back-door criterion for $(X,Y)$, the causal effect of $X$ on $Y$ is given by the formula: \n",
    "$$P(y \\mid do(x)) = \\sum_{z}{P(y \\mid x,z) \\times P(z)}$$</b>"
   ]
  },
  {
   "cell_type": "markdown",
   "metadata": {
    "editable": true,
    "slideshow": {
     "slide_type": ""
    },
    "tags": []
   },
   "source": [
    "### Example 1: "
   ]
  },
  {
   "cell_type": "code",
   "execution_count": 2,
   "metadata": {
    "editable": true,
    "execution": {
     "iopub.execute_input": "2024-07-27T15:57:58.785195Z",
     "iopub.status.busy": "2024-07-27T15:57:58.785042Z",
     "iopub.status.idle": "2024-07-27T15:57:58.942005Z",
     "shell.execute_reply": "2024-07-27T15:57:58.941717Z"
    },
    "slideshow": {
     "slide_type": ""
    },
    "tags": []
   },
   "outputs": [
    {
     "data": {
      "text/html": [
       "<svg xmlns=\"http://www.w3.org/2000/svg\" xmlns:xlink=\"http://www.w3.org/1999/xlink\" width=\"134pt\" height=\"188pt\" viewBox=\"0.00 0.00 134.00 188.00\">\n",
       "<g id=\"graph0\" class=\"graph\" transform=\"scale(1 1) rotate(0) translate(4 184)\">\n",
       "<title>G</title>\n",
       "<!-- Y -->\n",
       "<g id=\"node1\" class=\"node\">\n",
       "<title>Y</title>\n",
       "<g id=\"a_node1\"><a xlink:title=\"(2) Y\">\n",
       "<ellipse fill=\"#404040\" stroke=\"#4a4a4a\" cx=\"27\" cy=\"-18\" rx=\"27\" ry=\"18\"/>\n",
       "<text text-anchor=\"middle\" x=\"27\" y=\"-12.95\" font-family=\"Times,serif\" font-size=\"14.00\" fill=\"white\">Y</text>\n",
       "</a>\n",
       "</g>\n",
       "</g>\n",
       "<!-- A -->\n",
       "<g id=\"node2\" class=\"node\">\n",
       "<title>A</title>\n",
       "<g id=\"a_node2\"><a xlink:title=\"(1) A\">\n",
       "<ellipse fill=\"#404040\" stroke=\"#4a4a4a\" cx=\"63\" cy=\"-90\" rx=\"27\" ry=\"18\"/>\n",
       "<text text-anchor=\"middle\" x=\"63\" y=\"-84.95\" font-family=\"Times,serif\" font-size=\"14.00\" fill=\"white\">A</text>\n",
       "</a>\n",
       "</g>\n",
       "</g>\n",
       "<!-- A&#45;&gt;Y -->\n",
       "<g id=\"edge2\" class=\"edge\">\n",
       "<title>A-&gt;Y</title>\n",
       "<g id=\"a_edge2\"><a xlink:title=\"1 → 2\">\n",
       "<path fill=\"none\" stroke=\"#4a4a4a\" d=\"M54.65,-72.76C50.42,-64.55 45.19,-54.37 40.42,-45.09\"/>\n",
       "<polygon fill=\"#4a4a4a\" stroke=\"#4a4a4a\" points=\"43.68,-43.79 36,-36.49 37.46,-46.99 43.68,-43.79\"/>\n",
       "</a>\n",
       "</g>\n",
       "</g>\n",
       "<!-- B -->\n",
       "<g id=\"node4\" class=\"node\">\n",
       "<title>B</title>\n",
       "<g id=\"a_node4\"><a xlink:title=\"(3) B\">\n",
       "<ellipse fill=\"#404040\" stroke=\"#4a4a4a\" cx=\"99\" cy=\"-18\" rx=\"27\" ry=\"18\"/>\n",
       "<text text-anchor=\"middle\" x=\"99\" y=\"-12.95\" font-family=\"Times,serif\" font-size=\"14.00\" fill=\"white\">B</text>\n",
       "</a>\n",
       "</g>\n",
       "</g>\n",
       "<!-- A&#45;&gt;B -->\n",
       "<g id=\"edge3\" class=\"edge\">\n",
       "<title>A-&gt;B</title>\n",
       "<g id=\"a_edge3\"><a xlink:title=\"1 → 3\">\n",
       "<path fill=\"none\" stroke=\"#4a4a4a\" d=\"M71.35,-72.76C75.58,-64.55 80.81,-54.37 85.58,-45.09\"/>\n",
       "<polygon fill=\"#4a4a4a\" stroke=\"#4a4a4a\" points=\"88.54,-46.99 90,-36.49 82.32,-43.79 88.54,-46.99\"/>\n",
       "</a>\n",
       "</g>\n",
       "</g>\n",
       "<!-- X -->\n",
       "<g id=\"node3\" class=\"node\">\n",
       "<title>X</title>\n",
       "<g id=\"a_node3\"><a xlink:title=\"(0) X\">\n",
       "<ellipse fill=\"#404040\" stroke=\"#4a4a4a\" cx=\"63\" cy=\"-162\" rx=\"27\" ry=\"18\"/>\n",
       "<text text-anchor=\"middle\" x=\"63\" y=\"-156.95\" font-family=\"Times,serif\" font-size=\"14.00\" fill=\"white\">X</text>\n",
       "</a>\n",
       "</g>\n",
       "</g>\n",
       "<!-- X&#45;&gt;A -->\n",
       "<g id=\"edge1\" class=\"edge\">\n",
       "<title>X-&gt;A</title>\n",
       "<g id=\"a_edge1\"><a xlink:title=\"0 → 1\">\n",
       "<path fill=\"none\" stroke=\"#4a4a4a\" d=\"M63,-143.7C63,-136.41 63,-127.73 63,-119.54\"/>\n",
       "<polygon fill=\"#4a4a4a\" stroke=\"#4a4a4a\" points=\"66.5,-119.62 63,-109.62 59.5,-119.62 66.5,-119.62\"/>\n",
       "</a>\n",
       "</g>\n",
       "</g>\n",
       "</g>\n",
       "</svg>"
      ],
      "text/plain": [
       "(pyAgrum.BayesNet<double>@0x116b0e000) BN{nodes: 4, arcs: 3, domainSize: 16, dim: 7, mem: 112o}"
      ]
     },
     "execution_count": 2,
     "metadata": {},
     "output_type": "execute_result"
    }
   ],
   "source": [
    "e1 = gum.fastBN(\"X->A->Y;A->B\")\n",
    "e1"
   ]
  },
  {
   "cell_type": "code",
   "execution_count": 3,
   "metadata": {
    "execution": {
     "iopub.execute_input": "2024-07-27T15:57:58.958517Z",
     "iopub.status.busy": "2024-07-27T15:57:58.958405Z",
     "iopub.status.idle": "2024-07-27T15:57:59.176740Z",
     "shell.execute_reply": "2024-07-27T15:57:59.176466Z"
    }
   },
   "outputs": [
    {
     "data": {
      "text/html": [
       "\n",
       "      <style>\n",
       "      .floating-box {\n",
       "      display: inline-block;\n",
       "      margin: 7px;\n",
       "      padding : 3px;\n",
       "      border: 0px solid transparent;  \n",
       "      valign:middle;\n",
       "      background-color: transparent;\n",
       "      }\n",
       "      </style>\n",
       "      <div class=\"floating-box\"><svg xmlns=\"http://www.w3.org/2000/svg\" xmlns:xlink=\"http://www.w3.org/1999/xlink\" width=\"128pt\" height=\"180pt\" viewBox=\"0.00 0.00 128.30 180.00\">\n",
       "<g id=\"graph0\" class=\"graph\" transform=\"scale(0.957447 0.957447) rotate(0) translate(4 184)\">\n",
       "<title>G</title>\n",
       "<!-- X -->\n",
       "<g id=\"node1\" class=\"node\">\n",
       "<title>X</title>\n",
       "<ellipse fill=\"#404040\" stroke=\"#4a4a4a\" cx=\"63\" cy=\"-162\" rx=\"27\" ry=\"18\"/>\n",
       "<text text-anchor=\"middle\" x=\"63\" y=\"-156.95\" font-family=\"Times,serif\" font-size=\"14.00\" fill=\"white\">X</text>\n",
       "</g>\n",
       "<!-- A -->\n",
       "<g id=\"node2\" class=\"node\">\n",
       "<title>A</title>\n",
       "<ellipse fill=\"#404040\" stroke=\"#4a4a4a\" cx=\"63\" cy=\"-90\" rx=\"27\" ry=\"18\"/>\n",
       "<text text-anchor=\"middle\" x=\"63\" y=\"-84.95\" font-family=\"Times,serif\" font-size=\"14.00\" fill=\"white\">A</text>\n",
       "</g>\n",
       "<!-- X&#45;&gt;A -->\n",
       "<g id=\"edge1\" class=\"edge\">\n",
       "<title>X-&gt;A</title>\n",
       "<path fill=\"none\" stroke=\"#4a4a4a\" d=\"M62,-143.7C62,-136.41 62,-127.73 62,-119.54\"/>\n",
       "<path fill=\"none\" stroke=\"#4a4a4a\" d=\"M64,-143.7C64,-136.41 64,-127.73 64,-119.54\"/>\n",
       "<polygon fill=\"#4a4a4a\" stroke=\"#4a4a4a\" points=\"66.5,-119.62 63,-109.62 59.5,-119.62 66.5,-119.62\"/>\n",
       "</g>\n",
       "<!-- Y -->\n",
       "<g id=\"node3\" class=\"node\">\n",
       "<title>Y</title>\n",
       "<ellipse fill=\"#404040\" stroke=\"#4a4a4a\" cx=\"27\" cy=\"-18\" rx=\"27\" ry=\"18\"/>\n",
       "<text text-anchor=\"middle\" x=\"27\" y=\"-12.95\" font-family=\"Times,serif\" font-size=\"14.00\" fill=\"white\">Y</text>\n",
       "</g>\n",
       "<!-- A&#45;&gt;Y -->\n",
       "<g id=\"edge2\" class=\"edge\">\n",
       "<title>A-&gt;Y</title>\n",
       "<path fill=\"none\" stroke=\"#4a4a4a\" d=\"M53.76,-73.22C49.54,-65.01 44.3,-54.83 39.53,-45.55\"/>\n",
       "<path fill=\"none\" stroke=\"#4a4a4a\" d=\"M55.54,-72.31C51.31,-64.09 46.08,-53.92 41.31,-44.64\"/>\n",
       "<polygon fill=\"#4a4a4a\" stroke=\"#4a4a4a\" points=\"43.68,-43.79 36,-36.49 37.46,-46.99 43.68,-43.79\"/>\n",
       "</g>\n",
       "<!-- B -->\n",
       "<g id=\"node4\" class=\"node\">\n",
       "<title>B</title>\n",
       "<ellipse fill=\"#404040\" stroke=\"#4a4a4a\" cx=\"99\" cy=\"-18\" rx=\"27\" ry=\"18\"/>\n",
       "<text text-anchor=\"middle\" x=\"99\" y=\"-12.95\" font-family=\"Times,serif\" font-size=\"14.00\" fill=\"white\">B</text>\n",
       "</g>\n",
       "<!-- A&#45;&gt;B -->\n",
       "<g id=\"edge3\" class=\"edge\">\n",
       "<title>A-&gt;B</title>\n",
       "<path fill=\"none\" stroke=\"#4a4a4a\" d=\"M70.46,-72.31C74.69,-64.09 79.92,-53.92 84.69,-44.64\"/>\n",
       "<path fill=\"none\" stroke=\"#4a4a4a\" d=\"M72.24,-73.22C76.46,-65.01 81.7,-54.83 86.47,-45.55\"/>\n",
       "<polygon fill=\"#4a4a4a\" stroke=\"#4a4a4a\" points=\"88.54,-46.99 90,-36.49 82.32,-43.79 88.54,-46.99\"/>\n",
       "</g>\n",
       "</g>\n",
       "</svg><br><center><small><em>Causal Model</em></small></center></div><div class=\"floating-box\">$$\\begin{equation*}P( Y \\mid \\text{do}(X)) = \\sum_{A}{P\\left(A\\mid X\\right) \\cdot \\left(\\sum_{X'}{P\\left(Y\\mid A\\right) \\cdot P\\left(X'\\right)}\\right)}\\end{equation*}$$<br><center><small><em>Explanation : frontdoor ['A'] found.</em></small></center></div><div class=\"floating-box\"><table style=\"border:1px solid black;border-collapse: collapse;\">\n",
       "<tr><th colspan='1'></th>\n",
       "      <th colspan='2' style='border:1px solid black;color:black;background-color:#808080;'><center>Y</center>\n",
       "      </th></tr>\n",
       "<tr><th style='border:1px solid black;color:black;background-color:#808080'><center>X</center></th><th style='border:1px solid black;border-bottom-style: double;color:black;background-color:#BBBBBB'>\n",
       "      <center>0</center></th><th style='border:1px solid black;border-bottom-style: double;color:black;background-color:#BBBBBB'>\n",
       "      <center>1</center></th></tr>\n",
       "<tr><th style='border:1px solid black;color:black;background-color:#BBBBBB'><center>0</center></th><td style='color:black;background-color:#ceaf64;text-align:right;padding: 3px;'>0.3753</td><td style='color:black;background-color:#afce64;text-align:right;padding: 3px;'>0.6247</td></tr>\n",
       "<tr><th style='border:1px solid black;color:black;background-color:#BBBBBB'><center>1</center></th><td style='color:black;background-color:#d6a764;text-align:right;padding: 3px;'>0.3149</td><td style='color:black;background-color:#a7d664;text-align:right;padding: 3px;'>0.6851</td></tr>\n",
       "</table><br><center><small><em>Impact</em></small></center></div>"
      ],
      "text/plain": [
       "<IPython.core.display.HTML object>"
      ]
     },
     "metadata": {},
     "output_type": "display_data"
    }
   ],
   "source": [
    "m1 = csl.CausalModel(e1)\n",
    "cslnb.showCausalImpact(m1, \"Y\", doing=\"X\",values={})"
   ]
  },
  {
   "cell_type": "code",
   "execution_count": 4,
   "metadata": {
    "execution": {
     "iopub.execute_input": "2024-07-27T15:57:59.178148Z",
     "iopub.status.busy": "2024-07-27T15:57:59.178044Z",
     "iopub.status.idle": "2024-07-27T15:57:59.180034Z",
     "shell.execute_reply": "2024-07-27T15:57:59.179817Z"
    }
   },
   "outputs": [
    {
     "name": "stdout",
     "output_type": "stream",
     "text": [
      "The set of variables which satisfies the back-door criterion for (X, Y) is : None\n"
     ]
    }
   ],
   "source": [
    "# This function returns the set of variables which satisfies the back-door criterion for (X, Y) \n",
    "# None if there are no back-door paths.\n",
    "setOfVars = m1.backDoor(\"X\",\"Y\")\n",
    "print(\"The set of variables which satisfies the back-door criterion for (X, Y) is :\", setOfVars)"
   ]
  },
  {
   "cell_type": "markdown",
   "metadata": {},
   "source": [
    "> No incoming arrows into X, therefore there are no back-door paths between $X$ and $Y$ (as if we did a graph surgery according to the do operator), direct causal path $X \\rightarrow A \\rightarrow Y$."
   ]
  },
  {
   "cell_type": "markdown",
   "metadata": {
    "editable": true,
    "slideshow": {
     "slide_type": ""
    },
    "tags": []
   },
   "source": [
    "### Example 2:"
   ]
  },
  {
   "cell_type": "code",
   "execution_count": 5,
   "metadata": {
    "editable": true,
    "execution": {
     "iopub.execute_input": "2024-07-27T15:57:59.181322Z",
     "iopub.status.busy": "2024-07-27T15:57:59.181235Z",
     "iopub.status.idle": "2024-07-27T15:57:59.333693Z",
     "shell.execute_reply": "2024-07-27T15:57:59.333409Z"
    },
    "slideshow": {
     "slide_type": ""
    },
    "tags": []
   },
   "outputs": [
    {
     "data": {
      "text/html": [
       "<svg xmlns=\"http://www.w3.org/2000/svg\" xmlns:xlink=\"http://www.w3.org/1999/xlink\" width=\"189pt\" height=\"260pt\" viewBox=\"0.00 0.00 189.00 260.00\">\n",
       "<g id=\"graph0\" class=\"graph\" transform=\"scale(1 1) rotate(0) translate(4 256)\">\n",
       "<title>G</title>\n",
       "<!-- D -->\n",
       "<g id=\"node1\" class=\"node\">\n",
       "<title>D</title>\n",
       "<g id=\"a_node1\"><a xlink:title=\"(6) D\">\n",
       "<ellipse fill=\"#404040\" stroke=\"#4a4a4a\" cx=\"54\" cy=\"-234\" rx=\"27\" ry=\"18\"/>\n",
       "<text text-anchor=\"middle\" x=\"54\" y=\"-228.95\" font-family=\"Times,serif\" font-size=\"14.00\" fill=\"white\">D</text>\n",
       "</a>\n",
       "</g>\n",
       "</g>\n",
       "<!-- B -->\n",
       "<g id=\"node4\" class=\"node\">\n",
       "<title>B</title>\n",
       "<g id=\"a_node4\"><a xlink:title=\"(1) B\">\n",
       "<ellipse fill=\"#404040\" stroke=\"#4a4a4a\" cx=\"82\" cy=\"-162\" rx=\"27\" ry=\"18\"/>\n",
       "<text text-anchor=\"middle\" x=\"82\" y=\"-156.95\" font-family=\"Times,serif\" font-size=\"14.00\" fill=\"white\">B</text>\n",
       "</a>\n",
       "</g>\n",
       "</g>\n",
       "<!-- D&#45;&gt;B -->\n",
       "<g id=\"edge4\" class=\"edge\">\n",
       "<title>D-&gt;B</title>\n",
       "<g id=\"a_edge4\"><a xlink:title=\"6 → 1\">\n",
       "<path fill=\"none\" stroke=\"#4a4a4a\" d=\"M60.64,-216.41C63.77,-208.57 67.6,-198.99 71.15,-190.13\"/>\n",
       "<polygon fill=\"#4a4a4a\" stroke=\"#4a4a4a\" points=\"74.39,-191.46 74.85,-180.88 67.89,-188.86 74.39,-191.46\"/>\n",
       "</a>\n",
       "</g>\n",
       "</g>\n",
       "<!-- E -->\n",
       "<g id=\"node5\" class=\"node\">\n",
       "<title>E</title>\n",
       "<g id=\"a_node5\"><a xlink:title=\"(4) E\">\n",
       "<ellipse fill=\"#404040\" stroke=\"#4a4a4a\" cx=\"27\" cy=\"-90\" rx=\"27\" ry=\"18\"/>\n",
       "<text text-anchor=\"middle\" x=\"27\" y=\"-84.95\" font-family=\"Times,serif\" font-size=\"14.00\" fill=\"white\">E</text>\n",
       "</a>\n",
       "</g>\n",
       "</g>\n",
       "<!-- D&#45;&gt;E -->\n",
       "<g id=\"edge6\" class=\"edge\">\n",
       "<title>D-&gt;E</title>\n",
       "<g id=\"a_edge6\"><a xlink:title=\"6 → 4\">\n",
       "<path fill=\"none\" stroke=\"#4a4a4a\" d=\"M50.74,-215.87C46.18,-191.88 37.84,-147.99 32.35,-119.16\"/>\n",
       "<polygon fill=\"#4a4a4a\" stroke=\"#4a4a4a\" points=\"35.86,-118.85 30.55,-109.68 28.98,-120.15 35.86,-118.85\"/>\n",
       "</a>\n",
       "</g>\n",
       "</g>\n",
       "<!-- X -->\n",
       "<g id=\"node2\" class=\"node\">\n",
       "<title>X</title>\n",
       "<g id=\"a_node2\"><a xlink:title=\"(3) X\">\n",
       "<ellipse fill=\"#404040\" stroke=\"#4a4a4a\" cx=\"154\" cy=\"-162\" rx=\"27\" ry=\"18\"/>\n",
       "<text text-anchor=\"middle\" x=\"154\" y=\"-156.95\" font-family=\"Times,serif\" font-size=\"14.00\" fill=\"white\">X</text>\n",
       "</a>\n",
       "</g>\n",
       "</g>\n",
       "<!-- X&#45;&gt;E -->\n",
       "<g id=\"edge3\" class=\"edge\">\n",
       "<title>X-&gt;E</title>\n",
       "<g id=\"a_edge3\"><a xlink:title=\"3 → 4\">\n",
       "<path fill=\"none\" stroke=\"#4a4a4a\" d=\"M133.6,-149.75C112.95,-138.37 80.8,-120.65 57.2,-107.65\"/>\n",
       "<polygon fill=\"#4a4a4a\" stroke=\"#4a4a4a\" points=\"59.13,-104.71 48.68,-102.95 55.75,-110.84 59.13,-104.71\"/>\n",
       "</a>\n",
       "</g>\n",
       "</g>\n",
       "<!-- Y -->\n",
       "<g id=\"node3\" class=\"node\">\n",
       "<title>Y</title>\n",
       "<g id=\"a_node3\"><a xlink:title=\"(5) Y\">\n",
       "<ellipse fill=\"#404040\" stroke=\"#4a4a4a\" cx=\"27\" cy=\"-18\" rx=\"27\" ry=\"18\"/>\n",
       "<text text-anchor=\"middle\" x=\"27\" y=\"-12.95\" font-family=\"Times,serif\" font-size=\"14.00\" fill=\"white\">Y</text>\n",
       "</a>\n",
       "</g>\n",
       "</g>\n",
       "<!-- C -->\n",
       "<g id=\"node6\" class=\"node\">\n",
       "<title>C</title>\n",
       "<g id=\"a_node6\"><a xlink:title=\"(2) C\">\n",
       "<ellipse fill=\"#404040\" stroke=\"#4a4a4a\" cx=\"99\" cy=\"-90\" rx=\"27\" ry=\"18\"/>\n",
       "<text text-anchor=\"middle\" x=\"99\" y=\"-84.95\" font-family=\"Times,serif\" font-size=\"14.00\" fill=\"white\">C</text>\n",
       "</a>\n",
       "</g>\n",
       "</g>\n",
       "<!-- B&#45;&gt;C -->\n",
       "<g id=\"edge2\" class=\"edge\">\n",
       "<title>B-&gt;C</title>\n",
       "<g id=\"a_edge2\"><a xlink:title=\"1 → 2\">\n",
       "<path fill=\"none\" stroke=\"#4a4a4a\" d=\"M86.12,-144.05C87.93,-136.6 90.1,-127.64 92.15,-119.22\"/>\n",
       "<polygon fill=\"#4a4a4a\" stroke=\"#4a4a4a\" points=\"95.49,-120.29 94.45,-109.75 88.69,-118.64 95.49,-120.29\"/>\n",
       "</a>\n",
       "</g>\n",
       "</g>\n",
       "<!-- E&#45;&gt;Y -->\n",
       "<g id=\"edge7\" class=\"edge\">\n",
       "<title>E-&gt;Y</title>\n",
       "<g id=\"a_edge7\"><a xlink:title=\"4 → 5\">\n",
       "<path fill=\"none\" stroke=\"#4a4a4a\" d=\"M27,-71.7C27,-64.41 27,-55.73 27,-47.54\"/>\n",
       "<polygon fill=\"#4a4a4a\" stroke=\"#4a4a4a\" points=\"30.5,-47.62 27,-37.62 23.5,-47.62 30.5,-47.62\"/>\n",
       "</a>\n",
       "</g>\n",
       "</g>\n",
       "<!-- A -->\n",
       "<g id=\"node7\" class=\"node\">\n",
       "<title>A</title>\n",
       "<g id=\"a_node7\"><a xlink:title=\"(0) A\">\n",
       "<ellipse fill=\"#404040\" stroke=\"#4a4a4a\" cx=\"140\" cy=\"-234\" rx=\"27\" ry=\"18\"/>\n",
       "<text text-anchor=\"middle\" x=\"140\" y=\"-228.95\" font-family=\"Times,serif\" font-size=\"14.00\" fill=\"white\">A</text>\n",
       "</a>\n",
       "</g>\n",
       "</g>\n",
       "<!-- A&#45;&gt;X -->\n",
       "<g id=\"edge5\" class=\"edge\">\n",
       "<title>A-&gt;X</title>\n",
       "<g id=\"a_edge5\"><a xlink:title=\"0 → 3\">\n",
       "<path fill=\"none\" stroke=\"#4a4a4a\" d=\"M143.46,-215.7C144.94,-208.32 146.7,-199.52 148.35,-191.25\"/>\n",
       "<polygon fill=\"#4a4a4a\" stroke=\"#4a4a4a\" points=\"151.75,-192.08 150.28,-181.59 144.89,-190.71 151.75,-192.08\"/>\n",
       "</a>\n",
       "</g>\n",
       "</g>\n",
       "<!-- A&#45;&gt;B -->\n",
       "<g id=\"edge1\" class=\"edge\">\n",
       "<title>A-&gt;B</title>\n",
       "<g id=\"a_edge1\"><a xlink:title=\"0 → 1\">\n",
       "<path fill=\"none\" stroke=\"#4a4a4a\" d=\"M127.41,-217.81C119.89,-208.73 110.17,-197 101.65,-186.72\"/>\n",
       "<polygon fill=\"#4a4a4a\" stroke=\"#4a4a4a\" points=\"104.6,-184.79 95.53,-179.32 99.21,-189.26 104.6,-184.79\"/>\n",
       "</a>\n",
       "</g>\n",
       "</g>\n",
       "</g>\n",
       "</svg>"
      ],
      "text/plain": [
       "(pyAgrum.BayesNet<double>@0x116b41400) BN{nodes: 7, arcs: 7, domainSize: 128, dim: 16, mem: 256o}"
      ]
     },
     "execution_count": 5,
     "metadata": {},
     "output_type": "execute_result"
    }
   ],
   "source": [
    "e2 = gum.fastBN(\"A->B->C;A->X->E->Y;B<-D->E\")\n",
    "e2"
   ]
  },
  {
   "cell_type": "code",
   "execution_count": 6,
   "metadata": {
    "editable": true,
    "execution": {
     "iopub.execute_input": "2024-07-27T15:57:59.335038Z",
     "iopub.status.busy": "2024-07-27T15:57:59.334941Z",
     "iopub.status.idle": "2024-07-27T15:57:59.504145Z",
     "shell.execute_reply": "2024-07-27T15:57:59.503874Z"
    },
    "slideshow": {
     "slide_type": ""
    },
    "tags": [
     "nbsphinx-thumbnail"
    ]
   },
   "outputs": [
    {
     "data": {
      "image/svg+xml": [
       "<svg xmlns=\"http://www.w3.org/2000/svg\" xmlns:xlink=\"http://www.w3.org/1999/xlink\" width=\"175pt\" height=\"260pt\" viewBox=\"0.00 0.00 175.00 260.00\">\n",
       "<g id=\"graph0\" class=\"graph\" transform=\"scale(1 1) rotate(0) translate(4 256)\">\n",
       "<title>G</title>\n",
       "<!-- A -->\n",
       "<g id=\"node1\" class=\"node\">\n",
       "<title>A</title>\n",
       "<ellipse fill=\"#404040\" stroke=\"#4a4a4a\" cx=\"54\" cy=\"-234\" rx=\"27\" ry=\"18\"/>\n",
       "<text text-anchor=\"middle\" x=\"54\" y=\"-228.95\" font-family=\"Times,serif\" font-size=\"14.00\" fill=\"white\">A</text>\n",
       "</g>\n",
       "<!-- B -->\n",
       "<g id=\"node2\" class=\"node\">\n",
       "<title>B</title>\n",
       "<ellipse fill=\"#404040\" stroke=\"#4a4a4a\" cx=\"99\" cy=\"-162\" rx=\"27\" ry=\"18\"/>\n",
       "<text text-anchor=\"middle\" x=\"99\" y=\"-156.95\" font-family=\"Times,serif\" font-size=\"14.00\" fill=\"white\">B</text>\n",
       "</g>\n",
       "<!-- A&#45;&gt;B -->\n",
       "<g id=\"edge1\" class=\"edge\">\n",
       "<title>A-&gt;B</title>\n",
       "<path fill=\"none\" stroke=\"#4a4a4a\" d=\"M63.37,-216.58C68.84,-208.07 75.7,-197.4 81.88,-187.78\"/>\n",
       "<path fill=\"none\" stroke=\"#4a4a4a\" d=\"M65.05,-217.66C70.52,-209.15 77.38,-198.48 83.56,-188.86\"/>\n",
       "<polygon fill=\"#4a4a4a\" stroke=\"#4a4a4a\" points=\"85.55,-190.4 88.01,-180.09 79.66,-186.61 85.55,-190.4\"/>\n",
       "</g>\n",
       "<!-- X -->\n",
       "<g id=\"node4\" class=\"node\">\n",
       "<title>X</title>\n",
       "<ellipse fill=\"#404040\" stroke=\"#4a4a4a\" cx=\"27\" cy=\"-162\" rx=\"27\" ry=\"18\"/>\n",
       "<text text-anchor=\"middle\" x=\"27\" y=\"-156.95\" font-family=\"Times,serif\" font-size=\"14.00\" fill=\"white\">X</text>\n",
       "</g>\n",
       "<!-- A&#45;&gt;X -->\n",
       "<g id=\"edge5\" class=\"edge\">\n",
       "<title>A-&gt;X</title>\n",
       "<path fill=\"none\" stroke=\"#4a4a4a\" d=\"M46.53,-216.41C43.55,-208.68 39.94,-199.32 36.58,-190.63\"/>\n",
       "<path fill=\"none\" stroke=\"#4a4a4a\" d=\"M48.4,-215.7C45.41,-207.96 41.8,-198.6 38.45,-189.91\"/>\n",
       "<polygon fill=\"#4a4a4a\" stroke=\"#4a4a4a\" points=\"40.88,-189.27 34.02,-181.2 34.35,-191.79 40.88,-189.27\"/>\n",
       "</g>\n",
       "<!-- C -->\n",
       "<g id=\"node3\" class=\"node\">\n",
       "<title>C</title>\n",
       "<ellipse fill=\"#404040\" stroke=\"#4a4a4a\" cx=\"99\" cy=\"-90\" rx=\"27\" ry=\"18\"/>\n",
       "<text text-anchor=\"middle\" x=\"99\" y=\"-84.95\" font-family=\"Times,serif\" font-size=\"14.00\" fill=\"white\">C</text>\n",
       "</g>\n",
       "<!-- B&#45;&gt;C -->\n",
       "<g id=\"edge2\" class=\"edge\">\n",
       "<title>B-&gt;C</title>\n",
       "<path fill=\"none\" stroke=\"#4a4a4a\" d=\"M98,-143.7C98,-136.41 98,-127.73 98,-119.54\"/>\n",
       "<path fill=\"none\" stroke=\"#4a4a4a\" d=\"M100,-143.7C100,-136.41 100,-127.73 100,-119.54\"/>\n",
       "<polygon fill=\"#4a4a4a\" stroke=\"#4a4a4a\" points=\"102.5,-119.62 99,-109.62 95.5,-119.62 102.5,-119.62\"/>\n",
       "</g>\n",
       "<!-- E -->\n",
       "<g id=\"node5\" class=\"node\">\n",
       "<title>E</title>\n",
       "<ellipse fill=\"#404040\" stroke=\"#4a4a4a\" cx=\"27\" cy=\"-90\" rx=\"27\" ry=\"18\"/>\n",
       "<text text-anchor=\"middle\" x=\"27\" y=\"-84.95\" font-family=\"Times,serif\" font-size=\"14.00\" fill=\"white\">E</text>\n",
       "</g>\n",
       "<!-- X&#45;&gt;E -->\n",
       "<g id=\"edge3\" class=\"edge\">\n",
       "<title>X-&gt;E</title>\n",
       "<path fill=\"none\" stroke=\"#4a4a4a\" d=\"M26,-143.7C26,-136.41 26,-127.73 26,-119.54\"/>\n",
       "<path fill=\"none\" stroke=\"#4a4a4a\" d=\"M28,-143.7C28,-136.41 28,-127.73 28,-119.54\"/>\n",
       "<polygon fill=\"#4a4a4a\" stroke=\"#4a4a4a\" points=\"30.5,-119.62 27,-109.62 23.5,-119.62 30.5,-119.62\"/>\n",
       "</g>\n",
       "<!-- Y -->\n",
       "<g id=\"node6\" class=\"node\">\n",
       "<title>Y</title>\n",
       "<ellipse fill=\"#404040\" stroke=\"#4a4a4a\" cx=\"27\" cy=\"-18\" rx=\"27\" ry=\"18\"/>\n",
       "<text text-anchor=\"middle\" x=\"27\" y=\"-12.95\" font-family=\"Times,serif\" font-size=\"14.00\" fill=\"white\">Y</text>\n",
       "</g>\n",
       "<!-- E&#45;&gt;Y -->\n",
       "<g id=\"edge7\" class=\"edge\">\n",
       "<title>E-&gt;Y</title>\n",
       "<path fill=\"none\" stroke=\"#4a4a4a\" d=\"M26,-71.7C26,-64.41 26,-55.73 26,-47.54\"/>\n",
       "<path fill=\"none\" stroke=\"#4a4a4a\" d=\"M28,-71.7C28,-64.41 28,-55.73 28,-47.54\"/>\n",
       "<polygon fill=\"#4a4a4a\" stroke=\"#4a4a4a\" points=\"30.5,-47.62 27,-37.62 23.5,-47.62 30.5,-47.62\"/>\n",
       "</g>\n",
       "<!-- D -->\n",
       "<g id=\"node7\" class=\"node\">\n",
       "<title>D</title>\n",
       "<ellipse fill=\"#404040\" stroke=\"#4a4a4a\" cx=\"140\" cy=\"-234\" rx=\"27\" ry=\"18\"/>\n",
       "<text text-anchor=\"middle\" x=\"140\" y=\"-228.95\" font-family=\"Times,serif\" font-size=\"14.00\" fill=\"white\">D</text>\n",
       "</g>\n",
       "<!-- D&#45;&gt;B -->\n",
       "<g id=\"edge4\" class=\"edge\">\n",
       "<title>D-&gt;B</title>\n",
       "<path fill=\"none\" stroke=\"#4a4a4a\" d=\"M129.63,-217.27C124.76,-208.97 118.73,-198.66 113.24,-189.3\"/>\n",
       "<path fill=\"none\" stroke=\"#4a4a4a\" d=\"M131.35,-216.26C126.49,-207.95 120.45,-197.65 114.97,-188.29\"/>\n",
       "<polygon fill=\"#4a4a4a\" stroke=\"#4a4a4a\" points=\"117.3,-187.31 109.22,-180.45 111.26,-190.85 117.3,-187.31\"/>\n",
       "</g>\n",
       "<!-- D&#45;&gt;E -->\n",
       "<g id=\"edge6\" class=\"edge\">\n",
       "<title>D-&gt;E</title>\n",
       "<path fill=\"none\" stroke=\"#4a4a4a\" d=\"M142.8,-215.85C146.06,-196.78 148.28,-165.47 134.17,-144.55 133.39,-143.12 89.65,-121.99 58.21,-106.96\"/>\n",
       "<path fill=\"none\" stroke=\"#4a4a4a\" d=\"M144.77,-216.19C148.05,-196.92 150.28,-165.61 135.83,-143.45 134.26,-141.32 90.52,-120.19 59.07,-105.15\"/>\n",
       "<polygon fill=\"#4a4a4a\" stroke=\"#4a4a4a\" points=\"60.42,-103.03 49.89,-101.88 57.41,-109.35 60.42,-103.03\"/>\n",
       "</g>\n",
       "</g>\n",
       "</svg>"
      ],
      "text/plain": [
       "<IPython.core.display.SVG object>"
      ]
     },
     "metadata": {},
     "output_type": "display_data"
    }
   ],
   "source": [
    "m2 = csl.CausalModel(e2)\n",
    "gnb.show(m2)"
   ]
  },
  {
   "cell_type": "code",
   "execution_count": 7,
   "metadata": {
    "editable": true,
    "execution": {
     "iopub.execute_input": "2024-07-27T15:57:59.505436Z",
     "iopub.status.busy": "2024-07-27T15:57:59.505315Z",
     "iopub.status.idle": "2024-07-27T15:57:59.676929Z",
     "shell.execute_reply": "2024-07-27T15:57:59.676679Z"
    },
    "slideshow": {
     "slide_type": ""
    },
    "tags": []
   },
   "outputs": [
    {
     "data": {
      "text/html": [
       "\n",
       "      <style>\n",
       "      .floating-box {\n",
       "      display: inline-block;\n",
       "      margin: 7px;\n",
       "      padding : 3px;\n",
       "      border: 0px solid transparent;  \n",
       "      valign:middle;\n",
       "      background-color: transparent;\n",
       "      }\n",
       "      </style>\n",
       "      <div class=\"floating-box\"><svg xmlns=\"http://www.w3.org/2000/svg\" xmlns:xlink=\"http://www.w3.org/1999/xlink\" width=\"121pt\" height=\"180pt\" viewBox=\"0.00 0.00 121.15 180.00\">\n",
       "<g id=\"graph0\" class=\"graph\" transform=\"scale(0.692308 0.692308) rotate(0) translate(4 256)\">\n",
       "<title>G</title>\n",
       "<!-- A -->\n",
       "<g id=\"node1\" class=\"node\">\n",
       "<title>A</title>\n",
       "<ellipse fill=\"#404040\" stroke=\"#4a4a4a\" cx=\"54\" cy=\"-234\" rx=\"27\" ry=\"18\"/>\n",
       "<text text-anchor=\"middle\" x=\"54\" y=\"-228.95\" font-family=\"Times,serif\" font-size=\"14.00\" fill=\"white\">A</text>\n",
       "</g>\n",
       "<!-- B -->\n",
       "<g id=\"node2\" class=\"node\">\n",
       "<title>B</title>\n",
       "<ellipse fill=\"#404040\" stroke=\"#4a4a4a\" cx=\"99\" cy=\"-162\" rx=\"27\" ry=\"18\"/>\n",
       "<text text-anchor=\"middle\" x=\"99\" y=\"-156.95\" font-family=\"Times,serif\" font-size=\"14.00\" fill=\"white\">B</text>\n",
       "</g>\n",
       "<!-- A&#45;&gt;B -->\n",
       "<g id=\"edge1\" class=\"edge\">\n",
       "<title>A-&gt;B</title>\n",
       "<path fill=\"none\" stroke=\"#4a4a4a\" d=\"M63.37,-216.58C68.84,-208.07 75.7,-197.4 81.88,-187.78\"/>\n",
       "<path fill=\"none\" stroke=\"#4a4a4a\" d=\"M65.05,-217.66C70.52,-209.15 77.38,-198.48 83.56,-188.86\"/>\n",
       "<polygon fill=\"#4a4a4a\" stroke=\"#4a4a4a\" points=\"85.55,-190.4 88.01,-180.09 79.66,-186.61 85.55,-190.4\"/>\n",
       "</g>\n",
       "<!-- X -->\n",
       "<g id=\"node4\" class=\"node\">\n",
       "<title>X</title>\n",
       "<ellipse fill=\"#404040\" stroke=\"#4a4a4a\" cx=\"27\" cy=\"-162\" rx=\"27\" ry=\"18\"/>\n",
       "<text text-anchor=\"middle\" x=\"27\" y=\"-156.95\" font-family=\"Times,serif\" font-size=\"14.00\" fill=\"white\">X</text>\n",
       "</g>\n",
       "<!-- A&#45;&gt;X -->\n",
       "<g id=\"edge5\" class=\"edge\">\n",
       "<title>A-&gt;X</title>\n",
       "<path fill=\"none\" stroke=\"#4a4a4a\" d=\"M46.53,-216.41C43.55,-208.68 39.94,-199.32 36.58,-190.63\"/>\n",
       "<path fill=\"none\" stroke=\"#4a4a4a\" d=\"M48.4,-215.7C45.41,-207.96 41.8,-198.6 38.45,-189.91\"/>\n",
       "<polygon fill=\"#4a4a4a\" stroke=\"#4a4a4a\" points=\"40.88,-189.27 34.02,-181.2 34.35,-191.79 40.88,-189.27\"/>\n",
       "</g>\n",
       "<!-- C -->\n",
       "<g id=\"node3\" class=\"node\">\n",
       "<title>C</title>\n",
       "<ellipse fill=\"#404040\" stroke=\"#4a4a4a\" cx=\"99\" cy=\"-90\" rx=\"27\" ry=\"18\"/>\n",
       "<text text-anchor=\"middle\" x=\"99\" y=\"-84.95\" font-family=\"Times,serif\" font-size=\"14.00\" fill=\"white\">C</text>\n",
       "</g>\n",
       "<!-- B&#45;&gt;C -->\n",
       "<g id=\"edge2\" class=\"edge\">\n",
       "<title>B-&gt;C</title>\n",
       "<path fill=\"none\" stroke=\"#4a4a4a\" d=\"M98,-143.7C98,-136.41 98,-127.73 98,-119.54\"/>\n",
       "<path fill=\"none\" stroke=\"#4a4a4a\" d=\"M100,-143.7C100,-136.41 100,-127.73 100,-119.54\"/>\n",
       "<polygon fill=\"#4a4a4a\" stroke=\"#4a4a4a\" points=\"102.5,-119.62 99,-109.62 95.5,-119.62 102.5,-119.62\"/>\n",
       "</g>\n",
       "<!-- E -->\n",
       "<g id=\"node5\" class=\"node\">\n",
       "<title>E</title>\n",
       "<ellipse fill=\"#404040\" stroke=\"#4a4a4a\" cx=\"27\" cy=\"-90\" rx=\"27\" ry=\"18\"/>\n",
       "<text text-anchor=\"middle\" x=\"27\" y=\"-84.95\" font-family=\"Times,serif\" font-size=\"14.00\" fill=\"white\">E</text>\n",
       "</g>\n",
       "<!-- X&#45;&gt;E -->\n",
       "<g id=\"edge3\" class=\"edge\">\n",
       "<title>X-&gt;E</title>\n",
       "<path fill=\"none\" stroke=\"#4a4a4a\" d=\"M26,-143.7C26,-136.41 26,-127.73 26,-119.54\"/>\n",
       "<path fill=\"none\" stroke=\"#4a4a4a\" d=\"M28,-143.7C28,-136.41 28,-127.73 28,-119.54\"/>\n",
       "<polygon fill=\"#4a4a4a\" stroke=\"#4a4a4a\" points=\"30.5,-119.62 27,-109.62 23.5,-119.62 30.5,-119.62\"/>\n",
       "</g>\n",
       "<!-- Y -->\n",
       "<g id=\"node6\" class=\"node\">\n",
       "<title>Y</title>\n",
       "<ellipse fill=\"#404040\" stroke=\"#4a4a4a\" cx=\"27\" cy=\"-18\" rx=\"27\" ry=\"18\"/>\n",
       "<text text-anchor=\"middle\" x=\"27\" y=\"-12.95\" font-family=\"Times,serif\" font-size=\"14.00\" fill=\"white\">Y</text>\n",
       "</g>\n",
       "<!-- E&#45;&gt;Y -->\n",
       "<g id=\"edge7\" class=\"edge\">\n",
       "<title>E-&gt;Y</title>\n",
       "<path fill=\"none\" stroke=\"#4a4a4a\" d=\"M26,-71.7C26,-64.41 26,-55.73 26,-47.54\"/>\n",
       "<path fill=\"none\" stroke=\"#4a4a4a\" d=\"M28,-71.7C28,-64.41 28,-55.73 28,-47.54\"/>\n",
       "<polygon fill=\"#4a4a4a\" stroke=\"#4a4a4a\" points=\"30.5,-47.62 27,-37.62 23.5,-47.62 30.5,-47.62\"/>\n",
       "</g>\n",
       "<!-- D -->\n",
       "<g id=\"node7\" class=\"node\">\n",
       "<title>D</title>\n",
       "<ellipse fill=\"#404040\" stroke=\"#4a4a4a\" cx=\"140\" cy=\"-234\" rx=\"27\" ry=\"18\"/>\n",
       "<text text-anchor=\"middle\" x=\"140\" y=\"-228.95\" font-family=\"Times,serif\" font-size=\"14.00\" fill=\"white\">D</text>\n",
       "</g>\n",
       "<!-- D&#45;&gt;B -->\n",
       "<g id=\"edge4\" class=\"edge\">\n",
       "<title>D-&gt;B</title>\n",
       "<path fill=\"none\" stroke=\"#4a4a4a\" d=\"M129.63,-217.27C124.76,-208.97 118.73,-198.66 113.24,-189.3\"/>\n",
       "<path fill=\"none\" stroke=\"#4a4a4a\" d=\"M131.35,-216.26C126.49,-207.95 120.45,-197.65 114.97,-188.29\"/>\n",
       "<polygon fill=\"#4a4a4a\" stroke=\"#4a4a4a\" points=\"117.3,-187.31 109.22,-180.45 111.26,-190.85 117.3,-187.31\"/>\n",
       "</g>\n",
       "<!-- D&#45;&gt;E -->\n",
       "<g id=\"edge6\" class=\"edge\">\n",
       "<title>D-&gt;E</title>\n",
       "<path fill=\"none\" stroke=\"#4a4a4a\" d=\"M142.8,-215.85C146.06,-196.78 148.28,-165.47 134.17,-144.55 133.39,-143.12 89.65,-121.99 58.21,-106.96\"/>\n",
       "<path fill=\"none\" stroke=\"#4a4a4a\" d=\"M144.77,-216.19C148.05,-196.92 150.28,-165.61 135.83,-143.45 134.26,-141.32 90.52,-120.19 59.07,-105.15\"/>\n",
       "<polygon fill=\"#4a4a4a\" stroke=\"#4a4a4a\" points=\"60.42,-103.03 49.89,-101.88 57.41,-109.35 60.42,-103.03\"/>\n",
       "</g>\n",
       "</g>\n",
       "</svg><br><center><small><em>Causal Model</em></small></center></div><div class=\"floating-box\">$$\\begin{equation*}P( Y \\mid \\text{do}(X)) = \\sum_{E}{P\\left(E\\mid X\\right) \\cdot \\left(\\sum_{X'}{P\\left(Y\\mid E\\right) \\cdot P\\left(X'\\right)}\\right)}\\end{equation*}$$<br><center><small><em>Explanation : frontdoor ['E'] found.</em></small></center></div><div class=\"floating-box\"><table style=\"border:1px solid black;border-collapse: collapse;\">\n",
       "<tr><th colspan='1'></th>\n",
       "      <th colspan='2' style='border:1px solid black;color:black;background-color:#808080;'><center>Y</center>\n",
       "      </th></tr>\n",
       "<tr><th style='border:1px solid black;color:black;background-color:#808080'><center>X</center></th><th style='border:1px solid black;border-bottom-style: double;color:black;background-color:#BBBBBB'>\n",
       "      <center>0</center></th><th style='border:1px solid black;border-bottom-style: double;color:black;background-color:#BBBBBB'>\n",
       "      <center>1</center></th></tr>\n",
       "<tr><th style='border:1px solid black;color:black;background-color:#BBBBBB'><center>0</center></th><td style='color:black;background-color:#c0bd64;text-align:right;padding: 3px;'>0.4867</td><td style='color:black;background-color:#bdc064;text-align:right;padding: 3px;'>0.5133</td></tr>\n",
       "<tr><th style='border:1px solid black;color:black;background-color:#BBBBBB'><center>1</center></th><td style='color:black;background-color:#b2cb64;text-align:right;padding: 3px;'>0.5983</td><td style='color:black;background-color:#cbb264;text-align:right;padding: 3px;'>0.4017</td></tr>\n",
       "</table><br><center><small><em>Impact</em></small></center></div>"
      ],
      "text/plain": [
       "<IPython.core.display.HTML object>"
      ]
     },
     "metadata": {},
     "output_type": "display_data"
    }
   ],
   "source": [
    "cslnb.showCausalImpact(m2, \"Y\", doing=\"X\",values={})"
   ]
  },
  {
   "cell_type": "code",
   "execution_count": 8,
   "metadata": {
    "execution": {
     "iopub.execute_input": "2024-07-27T15:57:59.678273Z",
     "iopub.status.busy": "2024-07-27T15:57:59.678165Z",
     "iopub.status.idle": "2024-07-27T15:57:59.680133Z",
     "shell.execute_reply": "2024-07-27T15:57:59.679929Z"
    }
   },
   "outputs": [
    {
     "name": "stdout",
     "output_type": "stream",
     "text": [
      "The set of variables which satisfies the back-door criterion for (X, Y) is : None\n"
     ]
    }
   ],
   "source": [
    "# This function returns the set of variables which satisfies the back-door criterion for (X, Y) \n",
    "# None if there are no back-door paths.\n",
    "setOfVars = m2.backDoor(\"X\",\"Y\")\n",
    "print(\"The set of variables which satisfies the back-door criterion for (X, Y) is :\", setOfVars)"
   ]
  },
  {
   "cell_type": "markdown",
   "metadata": {},
   "source": [
    "> There is one back-door path from $X$ to $Y$ :\n",
    "$$X \\leftarrow A \\rightarrow B \\leftarrow D \\rightarrow E \\rightarrow Y$$\n",
    "We don't need to control for any set of variables; this back-door path is blocked by collider node $B$ (two incoming arrows)\n",
    "$$A \\rightarrow B \\leftarrow D$$\n",
    "Controlling for collider node $B$ would open this causal path (controlling for colliders increases bias), direct causal path $X \\rightarrow E \\rightarrow Y$."
   ]
  },
  {
   "cell_type": "markdown",
   "metadata": {
    "editable": true,
    "slideshow": {
     "slide_type": ""
    },
    "tags": []
   },
   "source": [
    "### Example 3:"
   ]
  },
  {
   "cell_type": "code",
   "execution_count": 9,
   "metadata": {
    "editable": true,
    "execution": {
     "iopub.execute_input": "2024-07-27T15:57:59.681339Z",
     "iopub.status.busy": "2024-07-27T15:57:59.681248Z",
     "iopub.status.idle": "2024-07-27T15:57:59.833447Z",
     "shell.execute_reply": "2024-07-27T15:57:59.833170Z"
    },
    "slideshow": {
     "slide_type": ""
    },
    "tags": []
   },
   "outputs": [
    {
     "data": {
      "text/html": [
       "<svg xmlns=\"http://www.w3.org/2000/svg\" xmlns:xlink=\"http://www.w3.org/1999/xlink\" width=\"153pt\" height=\"188pt\" viewBox=\"0.00 0.00 153.00 188.00\">\n",
       "<g id=\"graph0\" class=\"graph\" transform=\"scale(1 1) rotate(0) translate(4 184)\">\n",
       "<title>G</title>\n",
       "<!-- B -->\n",
       "<g id=\"node1\" class=\"node\">\n",
       "<title>B</title>\n",
       "<g id=\"a_node1\"><a xlink:title=\"(0) B\">\n",
       "<ellipse fill=\"#404040\" stroke=\"#4a4a4a\" cx=\"73\" cy=\"-162\" rx=\"27\" ry=\"18\"/>\n",
       "<text text-anchor=\"middle\" x=\"73\" y=\"-156.95\" font-family=\"Times,serif\" font-size=\"14.00\" fill=\"white\">B</text>\n",
       "</a>\n",
       "</g>\n",
       "</g>\n",
       "<!-- Y -->\n",
       "<g id=\"node2\" class=\"node\">\n",
       "<title>Y</title>\n",
       "<g id=\"a_node2\"><a xlink:title=\"(2) Y\">\n",
       "<ellipse fill=\"#404040\" stroke=\"#4a4a4a\" cx=\"27\" cy=\"-18\" rx=\"27\" ry=\"18\"/>\n",
       "<text text-anchor=\"middle\" x=\"27\" y=\"-12.95\" font-family=\"Times,serif\" font-size=\"14.00\" fill=\"white\">Y</text>\n",
       "</a>\n",
       "</g>\n",
       "</g>\n",
       "<!-- B&#45;&gt;Y -->\n",
       "<g id=\"edge4\" class=\"edge\">\n",
       "<title>B-&gt;Y</title>\n",
       "<g id=\"a_edge4\"><a xlink:title=\"0 → 2\">\n",
       "<path fill=\"none\" stroke=\"#4a4a4a\" d=\"M59.79,-145.89C51.79,-135.85 42.17,-121.98 37,-108 29.86,-88.69 27.43,-65.54 26.75,-47.69\"/>\n",
       "<polygon fill=\"#4a4a4a\" stroke=\"#4a4a4a\" points=\"30.25,-47.73 26.55,-37.81 23.25,-47.87 30.25,-47.73\"/>\n",
       "</a>\n",
       "</g>\n",
       "</g>\n",
       "<!-- A -->\n",
       "<g id=\"node3\" class=\"node\">\n",
       "<title>A</title>\n",
       "<g id=\"a_node3\"><a xlink:title=\"(3) A\">\n",
       "<ellipse fill=\"#404040\" stroke=\"#4a4a4a\" cx=\"118\" cy=\"-18\" rx=\"27\" ry=\"18\"/>\n",
       "<text text-anchor=\"middle\" x=\"118\" y=\"-12.95\" font-family=\"Times,serif\" font-size=\"14.00\" fill=\"white\">A</text>\n",
       "</a>\n",
       "</g>\n",
       "</g>\n",
       "<!-- B&#45;&gt;A -->\n",
       "<g id=\"edge3\" class=\"edge\">\n",
       "<title>B-&gt;A</title>\n",
       "<g id=\"a_edge3\"><a xlink:title=\"0 → 3\">\n",
       "<path fill=\"none\" stroke=\"#4a4a4a\" d=\"M86.27,-145.91C94.28,-135.87 103.91,-122.01 109,-108 116.03,-88.67 118.19,-65.52 118.65,-47.68\"/>\n",
       "<polygon fill=\"#4a4a4a\" stroke=\"#4a4a4a\" points=\"122.14,-47.82 118.71,-37.8 115.14,-47.77 122.14,-47.82\"/>\n",
       "</a>\n",
       "</g>\n",
       "</g>\n",
       "<!-- X -->\n",
       "<g id=\"node4\" class=\"node\">\n",
       "<title>X</title>\n",
       "<g id=\"a_node4\"><a xlink:title=\"(1) X\">\n",
       "<ellipse fill=\"#404040\" stroke=\"#4a4a4a\" cx=\"73\" cy=\"-90\" rx=\"27\" ry=\"18\"/>\n",
       "<text text-anchor=\"middle\" x=\"73\" y=\"-84.95\" font-family=\"Times,serif\" font-size=\"14.00\" fill=\"white\">X</text>\n",
       "</a>\n",
       "</g>\n",
       "</g>\n",
       "<!-- B&#45;&gt;X -->\n",
       "<g id=\"edge1\" class=\"edge\">\n",
       "<title>B-&gt;X</title>\n",
       "<g id=\"a_edge1\"><a xlink:title=\"0 → 1\">\n",
       "<path fill=\"none\" stroke=\"#4a4a4a\" d=\"M73,-143.7C73,-136.41 73,-127.73 73,-119.54\"/>\n",
       "<polygon fill=\"#4a4a4a\" stroke=\"#4a4a4a\" points=\"76.5,-119.62 73,-109.62 69.5,-119.62 76.5,-119.62\"/>\n",
       "</a>\n",
       "</g>\n",
       "</g>\n",
       "<!-- X&#45;&gt;Y -->\n",
       "<g id=\"edge2\" class=\"edge\">\n",
       "<title>X-&gt;Y</title>\n",
       "<g id=\"a_edge2\"><a xlink:title=\"1 → 2\">\n",
       "<path fill=\"none\" stroke=\"#4a4a4a\" d=\"M62.56,-73.12C56.97,-64.61 49.96,-53.94 43.64,-44.32\"/>\n",
       "<polygon fill=\"#4a4a4a\" stroke=\"#4a4a4a\" points=\"46.64,-42.52 38.23,-36.09 40.79,-46.37 46.64,-42.52\"/>\n",
       "</a>\n",
       "</g>\n",
       "</g>\n",
       "<!-- X&#45;&gt;A -->\n",
       "<g id=\"edge5\" class=\"edge\">\n",
       "<title>X-&gt;A</title>\n",
       "<g id=\"a_edge5\"><a xlink:title=\"1 → 3\">\n",
       "<path fill=\"none\" stroke=\"#4a4a4a\" d=\"M83.21,-73.12C88.68,-64.61 95.54,-53.94 101.72,-44.32\"/>\n",
       "<polygon fill=\"#4a4a4a\" stroke=\"#4a4a4a\" points=\"104.55,-46.4 107.01,-36.09 98.66,-42.61 104.55,-46.4\"/>\n",
       "</a>\n",
       "</g>\n",
       "</g>\n",
       "</g>\n",
       "</svg>"
      ],
      "text/plain": [
       "(pyAgrum.BayesNet<double>@0x136936200) BN{nodes: 4, arcs: 5, domainSize: 16, dim: 11, mem: 176o}"
      ]
     },
     "execution_count": 9,
     "metadata": {},
     "output_type": "execute_result"
    }
   ],
   "source": [
    "e3 = gum.fastBN(\"B->X->Y;X->A<-B->Y\")\n",
    "e3"
   ]
  },
  {
   "cell_type": "code",
   "execution_count": 10,
   "metadata": {
    "execution": {
     "iopub.execute_input": "2024-07-27T15:57:59.834798Z",
     "iopub.status.busy": "2024-07-27T15:57:59.834699Z",
     "iopub.status.idle": "2024-07-27T15:57:59.998032Z",
     "shell.execute_reply": "2024-07-27T15:57:59.997754Z"
    }
   },
   "outputs": [
    {
     "data": {
      "text/html": [
       "\n",
       "      <style>\n",
       "      .floating-box {\n",
       "      display: inline-block;\n",
       "      margin: 7px;\n",
       "      padding : 3px;\n",
       "      border: 0px solid transparent;  \n",
       "      valign:middle;\n",
       "      background-color: transparent;\n",
       "      }\n",
       "      </style>\n",
       "      <div class=\"floating-box\"><svg xmlns=\"http://www.w3.org/2000/svg\" xmlns:xlink=\"http://www.w3.org/1999/xlink\" width=\"146pt\" height=\"180pt\" viewBox=\"0.00 0.00 146.49 180.00\">\n",
       "<g id=\"graph0\" class=\"graph\" transform=\"scale(0.957447 0.957447) rotate(0) translate(4 184)\">\n",
       "<title>G</title>\n",
       "<!-- B -->\n",
       "<g id=\"node1\" class=\"node\">\n",
       "<title>B</title>\n",
       "<ellipse fill=\"#404040\" stroke=\"#4a4a4a\" cx=\"73\" cy=\"-162\" rx=\"27\" ry=\"18\"/>\n",
       "<text text-anchor=\"middle\" x=\"73\" y=\"-156.95\" font-family=\"Times,serif\" font-size=\"14.00\" fill=\"white\">B</text>\n",
       "</g>\n",
       "<!-- X -->\n",
       "<g id=\"node2\" class=\"node\">\n",
       "<title>X</title>\n",
       "<ellipse fill=\"#404040\" stroke=\"#4a4a4a\" cx=\"73\" cy=\"-90\" rx=\"27\" ry=\"18\"/>\n",
       "<text text-anchor=\"middle\" x=\"73\" y=\"-84.95\" font-family=\"Times,serif\" font-size=\"14.00\" fill=\"white\">X</text>\n",
       "</g>\n",
       "<!-- B&#45;&gt;X -->\n",
       "<g id=\"edge1\" class=\"edge\">\n",
       "<title>B-&gt;X</title>\n",
       "<path fill=\"none\" stroke=\"#4a4a4a\" d=\"M72,-143.7C72,-136.41 72,-127.73 72,-119.54\"/>\n",
       "<path fill=\"none\" stroke=\"#4a4a4a\" d=\"M74,-143.7C74,-136.41 74,-127.73 74,-119.54\"/>\n",
       "<polygon fill=\"#4a4a4a\" stroke=\"#4a4a4a\" points=\"76.5,-119.62 73,-109.62 69.5,-119.62 76.5,-119.62\"/>\n",
       "</g>\n",
       "<!-- Y -->\n",
       "<g id=\"node3\" class=\"node\">\n",
       "<title>Y</title>\n",
       "<ellipse fill=\"#404040\" stroke=\"#4a4a4a\" cx=\"27\" cy=\"-18\" rx=\"27\" ry=\"18\"/>\n",
       "<text text-anchor=\"middle\" x=\"27\" y=\"-12.95\" font-family=\"Times,serif\" font-size=\"14.00\" fill=\"white\">Y</text>\n",
       "</g>\n",
       "<!-- B&#45;&gt;Y -->\n",
       "<g id=\"edge4\" class=\"edge\">\n",
       "<title>B-&gt;Y</title>\n",
       "<path fill=\"none\" stroke=\"#4a4a4a\" d=\"M59.01,-146.51C50.97,-136.42 41.35,-122.55 36.06,-108.35 28.86,-88.79 26.43,-65.64 25.75,-47.73\"/>\n",
       "<path fill=\"none\" stroke=\"#4a4a4a\" d=\"M60.57,-145.26C52.61,-135.28 42.99,-121.41 37.94,-107.65 30.85,-88.58 28.42,-65.43 27.75,-47.65\"/>\n",
       "<polygon fill=\"#4a4a4a\" stroke=\"#4a4a4a\" points=\"30.25,-47.73 26.55,-37.81 23.25,-47.87 30.25,-47.73\"/>\n",
       "</g>\n",
       "<!-- A -->\n",
       "<g id=\"node4\" class=\"node\">\n",
       "<title>A</title>\n",
       "<ellipse fill=\"#404040\" stroke=\"#4a4a4a\" cx=\"118\" cy=\"-18\" rx=\"27\" ry=\"18\"/>\n",
       "<text text-anchor=\"middle\" x=\"118\" y=\"-12.95\" font-family=\"Times,serif\" font-size=\"14.00\" fill=\"white\">A</text>\n",
       "</g>\n",
       "<!-- B&#45;&gt;A -->\n",
       "<g id=\"edge3\" class=\"edge\">\n",
       "<title>B-&gt;A</title>\n",
       "<path fill=\"none\" stroke=\"#4a4a4a\" d=\"M85.48,-145.28C93.46,-135.3 103.09,-121.44 108.06,-107.66 115.03,-88.58 117.2,-65.43 117.65,-47.65\"/>\n",
       "<path fill=\"none\" stroke=\"#4a4a4a\" d=\"M87.05,-146.53C95.1,-136.44 104.73,-122.58 109.94,-108.34 117.02,-88.76 119.19,-65.61 119.65,-47.7\"/>\n",
       "<polygon fill=\"#4a4a4a\" stroke=\"#4a4a4a\" points=\"122.14,-47.82 118.71,-37.8 115.14,-47.77 122.14,-47.82\"/>\n",
       "</g>\n",
       "<!-- X&#45;&gt;Y -->\n",
       "<g id=\"edge2\" class=\"edge\">\n",
       "<title>X-&gt;Y</title>\n",
       "<path fill=\"none\" stroke=\"#4a4a4a\" d=\"M61.73,-73.67C56.14,-65.16 49.12,-54.49 42.81,-44.87\"/>\n",
       "<path fill=\"none\" stroke=\"#4a4a4a\" d=\"M63.4,-72.57C57.81,-64.06 50.8,-53.39 44.48,-43.77\"/>\n",
       "<polygon fill=\"#4a4a4a\" stroke=\"#4a4a4a\" points=\"46.64,-42.52 38.23,-36.09 40.79,-46.37 46.64,-42.52\"/>\n",
       "</g>\n",
       "<!-- X&#45;&gt;A -->\n",
       "<g id=\"edge5\" class=\"edge\">\n",
       "<title>X-&gt;A</title>\n",
       "<path fill=\"none\" stroke=\"#4a4a4a\" d=\"M82.37,-72.58C87.84,-64.07 94.7,-53.4 100.88,-43.78\"/>\n",
       "<path fill=\"none\" stroke=\"#4a4a4a\" d=\"M84.05,-73.66C89.52,-65.15 96.38,-54.48 102.56,-44.86\"/>\n",
       "<polygon fill=\"#4a4a4a\" stroke=\"#4a4a4a\" points=\"104.55,-46.4 107.01,-36.09 98.66,-42.61 104.55,-46.4\"/>\n",
       "</g>\n",
       "</g>\n",
       "</svg><br><center><small><em>Causal Model</em></small></center></div><div class=\"floating-box\">$$\\begin{equation*}P( Y \\mid \\text{do}(X)) = \\sum_{B}{P\\left(Y\\mid B,X\\right) \\cdot P\\left(B\\right)}\\end{equation*}$$<br><center><small><em>Explanation : backdoor ['B'] found.</em></small></center></div><div class=\"floating-box\"><table style=\"border:1px solid black;border-collapse: collapse;\">\n",
       "<tr><th colspan='1'></th>\n",
       "      <th colspan='2' style='border:1px solid black;color:black;background-color:#808080;'><center>Y</center>\n",
       "      </th></tr>\n",
       "<tr><th style='border:1px solid black;color:black;background-color:#808080'><center>X</center></th><th style='border:1px solid black;border-bottom-style: double;color:black;background-color:#BBBBBB'>\n",
       "      <center>0</center></th><th style='border:1px solid black;border-bottom-style: double;color:black;background-color:#BBBBBB'>\n",
       "      <center>1</center></th></tr>\n",
       "<tr><th style='border:1px solid black;color:black;background-color:#BBBBBB'><center>0</center></th><td style='color:black;background-color:#9be264;text-align:right;padding: 3px;'>0.7753</td><td style='color:black;background-color:#e29b64;text-align:right;padding: 3px;'>0.2247</td></tr>\n",
       "<tr><th style='border:1px solid black;color:black;background-color:#BBBBBB'><center>1</center></th><td style='color:black;background-color:#c7b664;text-align:right;padding: 3px;'>0.4314</td><td style='color:black;background-color:#b6c764;text-align:right;padding: 3px;'>0.5686</td></tr>\n",
       "</table><br><center><small><em>Impact</em></small></center></div>"
      ],
      "text/plain": [
       "<IPython.core.display.HTML object>"
      ]
     },
     "metadata": {},
     "output_type": "display_data"
    }
   ],
   "source": [
    "m3 = csl.CausalModel(e3)\n",
    "cslnb.showCausalImpact(m3, \"Y\", doing=\"X\",values={})"
   ]
  },
  {
   "cell_type": "code",
   "execution_count": 11,
   "metadata": {
    "execution": {
     "iopub.execute_input": "2024-07-27T15:57:59.999300Z",
     "iopub.status.busy": "2024-07-27T15:57:59.999200Z",
     "iopub.status.idle": "2024-07-27T15:58:00.001240Z",
     "shell.execute_reply": "2024-07-27T15:58:00.000996Z"
    }
   },
   "outputs": [
    {
     "name": "stdout",
     "output_type": "stream",
     "text": [
      "The set of variables which satisfies the back-door criterion for (X, Y) is : {'B'}\n"
     ]
    }
   ],
   "source": [
    "# This function returns the set of variables which satisfies the back-door criterion for (X, Y) \n",
    "# None if there are no back-door paths.\n",
    "setOfVars = m3.backDoor(\"X\",\"Y\")\n",
    "print(\"The set of variables which satisfies the back-door criterion for (X, Y) is :\", setOfVars)"
   ]
  },
  {
   "cell_type": "markdown",
   "metadata": {},
   "source": [
    "> There is one back-door path from $X$ to $Y$ :\n",
    "$$Y \\leftarrow B \\rightarrow X $$\n",
    "We need to block it by controlling for $B$ wich satisfies the back-door criterion."
   ]
  },
  {
   "cell_type": "markdown",
   "metadata": {
    "editable": true,
    "slideshow": {
     "slide_type": ""
    },
    "tags": []
   },
   "source": [
    "### Example 4 (M-bias):"
   ]
  },
  {
   "cell_type": "code",
   "execution_count": 12,
   "metadata": {
    "execution": {
     "iopub.execute_input": "2024-07-27T15:58:00.002464Z",
     "iopub.status.busy": "2024-07-27T15:58:00.002376Z",
     "iopub.status.idle": "2024-07-27T15:58:00.154981Z",
     "shell.execute_reply": "2024-07-27T15:58:00.154683Z"
    }
   },
   "outputs": [
    {
     "data": {
      "text/html": [
       "<svg xmlns=\"http://www.w3.org/2000/svg\" xmlns:xlink=\"http://www.w3.org/1999/xlink\" width=\"206pt\" height=\"116pt\" viewBox=\"0.00 0.00 206.00 116.00\">\n",
       "<g id=\"graph0\" class=\"graph\" transform=\"scale(1 1) rotate(0) translate(4 112)\">\n",
       "<title>G</title>\n",
       "<!-- X -->\n",
       "<g id=\"node1\" class=\"node\">\n",
       "<title>X</title>\n",
       "<g id=\"a_node1\"><a xlink:title=\"(0) X\">\n",
       "<ellipse fill=\"#404040\" stroke=\"#4a4a4a\" cx=\"27\" cy=\"-18\" rx=\"27\" ry=\"18\"/>\n",
       "<text text-anchor=\"middle\" x=\"27\" y=\"-12.95\" font-family=\"Times,serif\" font-size=\"14.00\" fill=\"white\">X</text>\n",
       "</a>\n",
       "</g>\n",
       "</g>\n",
       "<!-- Y -->\n",
       "<g id=\"node2\" class=\"node\">\n",
       "<title>Y</title>\n",
       "<g id=\"a_node2\"><a xlink:title=\"(4) Y\">\n",
       "<ellipse fill=\"#404040\" stroke=\"#4a4a4a\" cx=\"171\" cy=\"-18\" rx=\"27\" ry=\"18\"/>\n",
       "<text text-anchor=\"middle\" x=\"171\" y=\"-12.95\" font-family=\"Times,serif\" font-size=\"14.00\" fill=\"white\">Y</text>\n",
       "</a>\n",
       "</g>\n",
       "</g>\n",
       "<!-- B -->\n",
       "<g id=\"node3\" class=\"node\">\n",
       "<title>B</title>\n",
       "<g id=\"a_node3\"><a xlink:title=\"(2) B\">\n",
       "<ellipse fill=\"#404040\" stroke=\"#4a4a4a\" cx=\"99\" cy=\"-18\" rx=\"27\" ry=\"18\"/>\n",
       "<text text-anchor=\"middle\" x=\"99\" y=\"-12.95\" font-family=\"Times,serif\" font-size=\"14.00\" fill=\"white\">B</text>\n",
       "</a>\n",
       "</g>\n",
       "</g>\n",
       "<!-- C -->\n",
       "<g id=\"node4\" class=\"node\">\n",
       "<title>C</title>\n",
       "<g id=\"a_node4\"><a xlink:title=\"(3) C\">\n",
       "<ellipse fill=\"#404040\" stroke=\"#4a4a4a\" cx=\"135\" cy=\"-90\" rx=\"27\" ry=\"18\"/>\n",
       "<text text-anchor=\"middle\" x=\"135\" y=\"-84.95\" font-family=\"Times,serif\" font-size=\"14.00\" fill=\"white\">C</text>\n",
       "</a>\n",
       "</g>\n",
       "</g>\n",
       "<!-- C&#45;&gt;Y -->\n",
       "<g id=\"edge4\" class=\"edge\">\n",
       "<title>C-&gt;Y</title>\n",
       "<g id=\"a_edge4\"><a xlink:title=\"3 → 4\">\n",
       "<path fill=\"none\" stroke=\"#4a4a4a\" d=\"M143.35,-72.76C147.58,-64.55 152.81,-54.37 157.58,-45.09\"/>\n",
       "<polygon fill=\"#4a4a4a\" stroke=\"#4a4a4a\" points=\"160.54,-46.99 162,-36.49 154.32,-43.79 160.54,-46.99\"/>\n",
       "</a>\n",
       "</g>\n",
       "</g>\n",
       "<!-- C&#45;&gt;B -->\n",
       "<g id=\"edge2\" class=\"edge\">\n",
       "<title>C-&gt;B</title>\n",
       "<g id=\"a_edge2\"><a xlink:title=\"3 → 2\">\n",
       "<path fill=\"none\" stroke=\"#4a4a4a\" d=\"M126.65,-72.76C122.42,-64.55 117.19,-54.37 112.42,-45.09\"/>\n",
       "<polygon fill=\"#4a4a4a\" stroke=\"#4a4a4a\" points=\"115.68,-43.79 108,-36.49 109.46,-46.99 115.68,-43.79\"/>\n",
       "</a>\n",
       "</g>\n",
       "</g>\n",
       "<!-- A -->\n",
       "<g id=\"node5\" class=\"node\">\n",
       "<title>A</title>\n",
       "<g id=\"a_node5\"><a xlink:title=\"(1) A\">\n",
       "<ellipse fill=\"#404040\" stroke=\"#4a4a4a\" cx=\"45\" cy=\"-90\" rx=\"27\" ry=\"18\"/>\n",
       "<text text-anchor=\"middle\" x=\"45\" y=\"-84.95\" font-family=\"Times,serif\" font-size=\"14.00\" fill=\"white\">A</text>\n",
       "</a>\n",
       "</g>\n",
       "</g>\n",
       "<!-- A&#45;&gt;X -->\n",
       "<g id=\"edge1\" class=\"edge\">\n",
       "<title>A-&gt;X</title>\n",
       "<g id=\"a_edge1\"><a xlink:title=\"1 → 0\">\n",
       "<path fill=\"none\" stroke=\"#4a4a4a\" d=\"M40.64,-72.05C38.7,-64.49 36.35,-55.37 34.16,-46.85\"/>\n",
       "<polygon fill=\"#4a4a4a\" stroke=\"#4a4a4a\" points=\"37.57,-46.07 31.69,-37.25 30.79,-47.81 37.57,-46.07\"/>\n",
       "</a>\n",
       "</g>\n",
       "</g>\n",
       "<!-- A&#45;&gt;B -->\n",
       "<g id=\"edge3\" class=\"edge\">\n",
       "<title>A-&gt;B</title>\n",
       "<g id=\"a_edge3\"><a xlink:title=\"1 → 2\">\n",
       "<path fill=\"none\" stroke=\"#4a4a4a\" d=\"M56.98,-73.46C63.77,-64.67 72.4,-53.48 80.08,-43.53\"/>\n",
       "<polygon fill=\"#4a4a4a\" stroke=\"#4a4a4a\" points=\"82.79,-45.75 86.12,-35.69 77.25,-41.47 82.79,-45.75\"/>\n",
       "</a>\n",
       "</g>\n",
       "</g>\n",
       "</g>\n",
       "</svg>"
      ],
      "text/plain": [
       "(pyAgrum.BayesNet<double>@0x137018a00) BN{nodes: 5, arcs: 4, domainSize: 32, dim: 10, mem: 160o}"
      ]
     },
     "execution_count": 12,
     "metadata": {},
     "output_type": "execute_result"
    }
   ],
   "source": [
    "e4 = gum.fastBN(\"X<-A->B<-C->Y\")\n",
    "e4"
   ]
  },
  {
   "cell_type": "code",
   "execution_count": 13,
   "metadata": {
    "editable": true,
    "execution": {
     "iopub.execute_input": "2024-07-27T15:58:00.156382Z",
     "iopub.status.busy": "2024-07-27T15:58:00.156268Z",
     "iopub.status.idle": "2024-07-27T15:58:00.319656Z",
     "shell.execute_reply": "2024-07-27T15:58:00.319383Z"
    },
    "slideshow": {
     "slide_type": ""
    },
    "tags": []
   },
   "outputs": [
    {
     "data": {
      "text/html": [
       "\n",
       "      <style>\n",
       "      .floating-box {\n",
       "      display: inline-block;\n",
       "      margin: 7px;\n",
       "      padding : 3px;\n",
       "      border: 0px solid transparent;  \n",
       "      valign:middle;\n",
       "      background-color: transparent;\n",
       "      }\n",
       "      </style>\n",
       "      <div class=\"floating-box\"><svg xmlns=\"http://www.w3.org/2000/svg\" xmlns:xlink=\"http://www.w3.org/1999/xlink\" width=\"180pt\" height=\"101pt\" viewBox=\"0.00 0.00 180.00 101.36\">\n",
       "<g id=\"graph0\" class=\"graph\" transform=\"scale(0.873786 0.873786) rotate(0) translate(4 112)\">\n",
       "<title>G</title>\n",
       "<!-- X -->\n",
       "<g id=\"node1\" class=\"node\">\n",
       "<title>X</title>\n",
       "<ellipse fill=\"#404040\" stroke=\"#4a4a4a\" cx=\"27\" cy=\"-18\" rx=\"27\" ry=\"18\"/>\n",
       "<text text-anchor=\"middle\" x=\"27\" y=\"-12.95\" font-family=\"Times,serif\" font-size=\"14.00\" fill=\"white\">X</text>\n",
       "</g>\n",
       "<!-- A -->\n",
       "<g id=\"node2\" class=\"node\">\n",
       "<title>A</title>\n",
       "<ellipse fill=\"#404040\" stroke=\"#4a4a4a\" cx=\"45\" cy=\"-90\" rx=\"27\" ry=\"18\"/>\n",
       "<text text-anchor=\"middle\" x=\"45\" y=\"-84.95\" font-family=\"Times,serif\" font-size=\"14.00\" fill=\"white\">A</text>\n",
       "</g>\n",
       "<!-- A&#45;&gt;X -->\n",
       "<g id=\"edge1\" class=\"edge\">\n",
       "<title>A-&gt;X</title>\n",
       "<path fill=\"none\" stroke=\"#4a4a4a\" d=\"M39.67,-72.3C37.73,-64.74 35.38,-55.62 33.19,-47.1\"/>\n",
       "<path fill=\"none\" stroke=\"#4a4a4a\" d=\"M41.61,-71.81C39.67,-64.24 37.32,-55.12 35.13,-46.6\"/>\n",
       "<polygon fill=\"#4a4a4a\" stroke=\"#4a4a4a\" points=\"37.57,-46.07 31.69,-37.25 30.79,-47.81 37.57,-46.07\"/>\n",
       "</g>\n",
       "<!-- B -->\n",
       "<g id=\"node3\" class=\"node\">\n",
       "<title>B</title>\n",
       "<ellipse fill=\"#404040\" stroke=\"#4a4a4a\" cx=\"99\" cy=\"-18\" rx=\"27\" ry=\"18\"/>\n",
       "<text text-anchor=\"middle\" x=\"99\" y=\"-12.95\" font-family=\"Times,serif\" font-size=\"14.00\" fill=\"white\">B</text>\n",
       "</g>\n",
       "<!-- A&#45;&gt;B -->\n",
       "<g id=\"edge3\" class=\"edge\">\n",
       "<title>A-&gt;B</title>\n",
       "<path fill=\"none\" stroke=\"#4a4a4a\" d=\"M56.19,-72.85C62.97,-64.06 71.61,-52.87 79.28,-42.92\"/>\n",
       "<path fill=\"none\" stroke=\"#4a4a4a\" d=\"M57.78,-74.08C64.56,-65.28 73.19,-54.09 80.87,-44.14\"/>\n",
       "<polygon fill=\"#4a4a4a\" stroke=\"#4a4a4a\" points=\"82.79,-45.75 86.12,-35.69 77.25,-41.47 82.79,-45.75\"/>\n",
       "</g>\n",
       "<!-- C -->\n",
       "<g id=\"node4\" class=\"node\">\n",
       "<title>C</title>\n",
       "<ellipse fill=\"#404040\" stroke=\"#4a4a4a\" cx=\"153\" cy=\"-90\" rx=\"27\" ry=\"18\"/>\n",
       "<text text-anchor=\"middle\" x=\"153\" y=\"-84.95\" font-family=\"Times,serif\" font-size=\"14.00\" fill=\"white\">C</text>\n",
       "</g>\n",
       "<!-- C&#45;&gt;B -->\n",
       "<g id=\"edge2\" class=\"edge\">\n",
       "<title>C-&gt;B</title>\n",
       "<path fill=\"none\" stroke=\"#4a4a4a\" d=\"M140.22,-74.08C133.44,-65.28 124.81,-54.09 117.13,-44.14\"/>\n",
       "<path fill=\"none\" stroke=\"#4a4a4a\" d=\"M141.81,-72.85C135.03,-64.06 126.39,-52.87 118.72,-42.92\"/>\n",
       "<polygon fill=\"#4a4a4a\" stroke=\"#4a4a4a\" points=\"120.75,-41.47 111.88,-35.69 115.21,-45.75 120.75,-41.47\"/>\n",
       "</g>\n",
       "<!-- Y -->\n",
       "<g id=\"node5\" class=\"node\">\n",
       "<title>Y</title>\n",
       "<ellipse fill=\"#404040\" stroke=\"#4a4a4a\" cx=\"171\" cy=\"-18\" rx=\"27\" ry=\"18\"/>\n",
       "<text text-anchor=\"middle\" x=\"171\" y=\"-12.95\" font-family=\"Times,serif\" font-size=\"14.00\" fill=\"white\">Y</text>\n",
       "</g>\n",
       "<!-- C&#45;&gt;Y -->\n",
       "<g id=\"edge4\" class=\"edge\">\n",
       "<title>C-&gt;Y</title>\n",
       "<path fill=\"none\" stroke=\"#4a4a4a\" d=\"M156.39,-71.81C158.33,-64.24 160.68,-55.12 162.87,-46.6\"/>\n",
       "<path fill=\"none\" stroke=\"#4a4a4a\" d=\"M158.33,-72.3C160.27,-64.74 162.62,-55.62 164.81,-47.1\"/>\n",
       "<polygon fill=\"#4a4a4a\" stroke=\"#4a4a4a\" points=\"167.21,-47.81 166.31,-37.25 160.43,-46.07 167.21,-47.81\"/>\n",
       "</g>\n",
       "</g>\n",
       "</svg><br><center><small><em>Causal Model</em></small></center></div><div class=\"floating-box\">$$\\begin{equation*}P( Y \\mid \\text{do}(X)) = P\\left(Y\\right)\\end{equation*}$$<br><center><small><em>Explanation : No causal effect of X on Y, because they are d-separated (conditioning on the observed variables if any).</em></small></center></div><div class=\"floating-box\"><table style=\"border:1px solid black;border-collapse: collapse;\">\n",
       "<tr style='border:1px solid black;color:black;background-color:#808080'>\n",
       "      <th colspan='2'><center>Y</center></th></tr>\n",
       "<tr><th style='border:1px solid black;border-bottom-style: double;color:black;background-color:#BBBBBB'>\n",
       "      <center>0</center></th><th style='border:1px solid black;border-bottom-style: double;color:black;background-color:#BBBBBB'>\n",
       "      <center>1</center></th></tr>\n",
       "<tr><td style='color:black;background-color:#d0ad64;text-align:right;padding: 3px;'>0.3612</td><td style='color:black;background-color:#add064;text-align:right;padding: 3px;'>0.6388</td></tr>\n",
       "</table><br><center><small><em>Impact</em></small></center></div>"
      ],
      "text/plain": [
       "<IPython.core.display.HTML object>"
      ]
     },
     "metadata": {},
     "output_type": "display_data"
    }
   ],
   "source": [
    "m4 = csl.CausalModel(e4)\n",
    "cslnb.showCausalImpact(m4, \"Y\", doing=\"X\",values={})"
   ]
  },
  {
   "cell_type": "code",
   "execution_count": 14,
   "metadata": {
    "execution": {
     "iopub.execute_input": "2024-07-27T15:58:00.320932Z",
     "iopub.status.busy": "2024-07-27T15:58:00.320833Z",
     "iopub.status.idle": "2024-07-27T15:58:00.322783Z",
     "shell.execute_reply": "2024-07-27T15:58:00.322570Z"
    }
   },
   "outputs": [
    {
     "name": "stdout",
     "output_type": "stream",
     "text": [
      "The set of variables which satisfies the back-door criterion for (X, Y) is : None\n"
     ]
    }
   ],
   "source": [
    "# This function returns the set of variables which satisfies the back-door criterion for (X, Y) \n",
    "# None if there are no back-door paths.\n",
    "setOfVars = m4.backDoor(\"X\",\"Y\")\n",
    "print(\"The set of variables which satisfies the back-door criterion for (X, Y) is :\", setOfVars)"
   ]
  },
  {
   "cell_type": "markdown",
   "metadata": {},
   "source": [
    "> There is one back-door path from $X$ to $Y$ :\n",
    "$$X \\leftarrow A \\rightarrow B \\leftarrow C \\rightarrow Y$$\n",
    "We don't need to control for any set of variables, this back-door path is blocked by collider node $B$, the two variables are d-separated, deconfounded, independent.  Controlling for collider node $B$ would make them dependant (introducing the M-bias)."
   ]
  },
  {
   "cell_type": "markdown",
   "metadata": {
    "editable": true,
    "slideshow": {
     "slide_type": ""
    },
    "tags": []
   },
   "source": [
    "### Example 5:"
   ]
  },
  {
   "cell_type": "code",
   "execution_count": 15,
   "metadata": {
    "editable": true,
    "execution": {
     "iopub.execute_input": "2024-07-27T15:58:00.323888Z",
     "iopub.status.busy": "2024-07-27T15:58:00.323820Z",
     "iopub.status.idle": "2024-07-27T15:58:00.476500Z",
     "shell.execute_reply": "2024-07-27T15:58:00.476220Z"
    },
    "slideshow": {
     "slide_type": ""
    },
    "tags": []
   },
   "outputs": [
    {
     "data": {
      "text/html": [
       "<svg xmlns=\"http://www.w3.org/2000/svg\" xmlns:xlink=\"http://www.w3.org/1999/xlink\" width=\"143pt\" height=\"260pt\" viewBox=\"0.00 0.00 143.00 260.00\">\n",
       "<g id=\"graph0\" class=\"graph\" transform=\"scale(1 1) rotate(0) translate(4 256)\">\n",
       "<title>G</title>\n",
       "<!-- X -->\n",
       "<g id=\"node1\" class=\"node\">\n",
       "<title>X</title>\n",
       "<g id=\"a_node1\"><a xlink:title=\"(0) X\">\n",
       "<ellipse fill=\"#404040\" stroke=\"#4a4a4a\" cx=\"63\" cy=\"-90\" rx=\"27\" ry=\"18\"/>\n",
       "<text text-anchor=\"middle\" x=\"63\" y=\"-84.95\" font-family=\"Times,serif\" font-size=\"14.00\" fill=\"white\">X</text>\n",
       "</a>\n",
       "</g>\n",
       "</g>\n",
       "<!-- Y -->\n",
       "<g id=\"node2\" class=\"node\">\n",
       "<title>Y</title>\n",
       "<g id=\"a_node2\"><a xlink:title=\"(3) Y\">\n",
       "<ellipse fill=\"#404040\" stroke=\"#4a4a4a\" cx=\"35\" cy=\"-18\" rx=\"27\" ry=\"18\"/>\n",
       "<text text-anchor=\"middle\" x=\"35\" y=\"-12.95\" font-family=\"Times,serif\" font-size=\"14.00\" fill=\"white\">Y</text>\n",
       "</a>\n",
       "</g>\n",
       "</g>\n",
       "<!-- X&#45;&gt;Y -->\n",
       "<g id=\"edge3\" class=\"edge\">\n",
       "<title>X-&gt;Y</title>\n",
       "<g id=\"a_edge3\"><a xlink:title=\"0 → 3\">\n",
       "<path fill=\"none\" stroke=\"#4a4a4a\" d=\"M56.36,-72.41C53.23,-64.57 49.4,-54.99 45.85,-46.13\"/>\n",
       "<polygon fill=\"#4a4a4a\" stroke=\"#4a4a4a\" points=\"49.11,-44.86 42.15,-36.88 42.61,-47.46 49.11,-44.86\"/>\n",
       "</a>\n",
       "</g>\n",
       "</g>\n",
       "<!-- B -->\n",
       "<g id=\"node3\" class=\"node\">\n",
       "<title>B</title>\n",
       "<g id=\"a_node3\"><a xlink:title=\"(1) B\">\n",
       "<ellipse fill=\"#404040\" stroke=\"#4a4a4a\" cx=\"63\" cy=\"-162\" rx=\"27\" ry=\"18\"/>\n",
       "<text text-anchor=\"middle\" x=\"63\" y=\"-156.95\" font-family=\"Times,serif\" font-size=\"14.00\" fill=\"white\">B</text>\n",
       "</a>\n",
       "</g>\n",
       "</g>\n",
       "<!-- B&#45;&gt;X -->\n",
       "<g id=\"edge5\" class=\"edge\">\n",
       "<title>B-&gt;X</title>\n",
       "<g id=\"a_edge5\"><a xlink:title=\"1 → 0\">\n",
       "<path fill=\"none\" stroke=\"#4a4a4a\" d=\"M63,-143.7C63,-136.41 63,-127.73 63,-119.54\"/>\n",
       "<polygon fill=\"#4a4a4a\" stroke=\"#4a4a4a\" points=\"66.5,-119.62 63,-109.62 59.5,-119.62 66.5,-119.62\"/>\n",
       "</a>\n",
       "</g>\n",
       "</g>\n",
       "<!-- C -->\n",
       "<g id=\"node4\" class=\"node\">\n",
       "<title>C</title>\n",
       "<g id=\"a_node4\"><a xlink:title=\"(4) C\">\n",
       "<ellipse fill=\"#404040\" stroke=\"#4a4a4a\" cx=\"27\" cy=\"-234\" rx=\"27\" ry=\"18\"/>\n",
       "<text text-anchor=\"middle\" x=\"27\" y=\"-228.95\" font-family=\"Times,serif\" font-size=\"14.00\" fill=\"white\">C</text>\n",
       "</a>\n",
       "</g>\n",
       "</g>\n",
       "<!-- C&#45;&gt;Y -->\n",
       "<g id=\"edge2\" class=\"edge\">\n",
       "<title>C-&gt;Y</title>\n",
       "<g id=\"a_edge2\"><a xlink:title=\"4 → 3\">\n",
       "<path fill=\"none\" stroke=\"#4a4a4a\" d=\"M26.15,-215.58C24.89,-186 23.09,-124.12 27,-72 27.6,-63.99 28.71,-55.35 29.91,-47.43\"/>\n",
       "<polygon fill=\"#4a4a4a\" stroke=\"#4a4a4a\" points=\"33.35,-48.04 31.51,-37.61 26.45,-46.91 33.35,-48.04\"/>\n",
       "</a>\n",
       "</g>\n",
       "</g>\n",
       "<!-- C&#45;&gt;B -->\n",
       "<g id=\"edge6\" class=\"edge\">\n",
       "<title>C-&gt;B</title>\n",
       "<g id=\"a_edge6\"><a xlink:title=\"4 → 1\">\n",
       "<path fill=\"none\" stroke=\"#4a4a4a\" d=\"M35.35,-216.76C39.58,-208.55 44.81,-198.37 49.58,-189.09\"/>\n",
       "<polygon fill=\"#4a4a4a\" stroke=\"#4a4a4a\" points=\"52.54,-190.99 54,-180.49 46.32,-187.79 52.54,-190.99\"/>\n",
       "</a>\n",
       "</g>\n",
       "</g>\n",
       "<!-- A -->\n",
       "<g id=\"node5\" class=\"node\">\n",
       "<title>A</title>\n",
       "<g id=\"a_node5\"><a xlink:title=\"(2) A\">\n",
       "<ellipse fill=\"#404040\" stroke=\"#4a4a4a\" cx=\"108\" cy=\"-234\" rx=\"27\" ry=\"18\"/>\n",
       "<text text-anchor=\"middle\" x=\"108\" y=\"-228.95\" font-family=\"Times,serif\" font-size=\"14.00\" fill=\"white\">A</text>\n",
       "</a>\n",
       "</g>\n",
       "</g>\n",
       "<!-- A&#45;&gt;X -->\n",
       "<g id=\"edge4\" class=\"edge\">\n",
       "<title>A-&gt;X</title>\n",
       "<g id=\"a_edge4\"><a xlink:title=\"2 → 0\">\n",
       "<path fill=\"none\" stroke=\"#4a4a4a\" d=\"M108.72,-215.72C108.93,-197.37 107.65,-167.79 99,-144 95.3,-133.82 89.21,-123.72 83.08,-115.11\"/>\n",
       "<polygon fill=\"#4a4a4a\" stroke=\"#4a4a4a\" points=\"86,-113.17 77.18,-107.3 80.41,-117.39 86,-113.17\"/>\n",
       "</a>\n",
       "</g>\n",
       "</g>\n",
       "<!-- A&#45;&gt;B -->\n",
       "<g id=\"edge1\" class=\"edge\">\n",
       "<title>A-&gt;B</title>\n",
       "<g id=\"a_edge1\"><a xlink:title=\"2 → 1\">\n",
       "<path fill=\"none\" stroke=\"#4a4a4a\" d=\"M97.79,-217.12C92.32,-208.61 85.46,-197.94 79.28,-188.32\"/>\n",
       "<polygon fill=\"#4a4a4a\" stroke=\"#4a4a4a\" points=\"82.34,-186.61 73.99,-180.09 76.45,-190.4 82.34,-186.61\"/>\n",
       "</a>\n",
       "</g>\n",
       "</g>\n",
       "</g>\n",
       "</svg>"
      ],
      "text/plain": [
       "(pyAgrum.BayesNet<double>@0x116b4a000) BN{nodes: 5, arcs: 6, domainSize: 32, dim: 14, mem: 224o}"
      ]
     },
     "execution_count": 15,
     "metadata": {},
     "output_type": "execute_result"
    }
   ],
   "source": [
    "e5 = gum.fastBN(\"X<-B<-A->X->Y<-C->B\")\n",
    "e5"
   ]
  },
  {
   "cell_type": "code",
   "execution_count": 16,
   "metadata": {
    "execution": {
     "iopub.execute_input": "2024-07-27T15:58:00.477843Z",
     "iopub.status.busy": "2024-07-27T15:58:00.477745Z",
     "iopub.status.idle": "2024-07-27T15:58:00.666279Z",
     "shell.execute_reply": "2024-07-27T15:58:00.666011Z"
    }
   },
   "outputs": [
    {
     "data": {
      "text/html": [
       "\n",
       "      <style>\n",
       "      .floating-box {\n",
       "      display: inline-block;\n",
       "      margin: 7px;\n",
       "      padding : 3px;\n",
       "      border: 0px solid transparent;  \n",
       "      valign:middle;\n",
       "      background-color: transparent;\n",
       "      }\n",
       "      </style>\n",
       "      <div class=\"floating-box\"><svg xmlns=\"http://www.w3.org/2000/svg\" xmlns:xlink=\"http://www.w3.org/1999/xlink\" width=\"99pt\" height=\"180pt\" viewBox=\"0.00 0.00 99.00 180.00\">\n",
       "<g id=\"graph0\" class=\"graph\" transform=\"scale(0.692308 0.692308) rotate(0) translate(4 256)\">\n",
       "<title>G</title>\n",
       "<!-- X -->\n",
       "<g id=\"node1\" class=\"node\">\n",
       "<title>X</title>\n",
       "<ellipse fill=\"#404040\" stroke=\"#4a4a4a\" cx=\"63\" cy=\"-90\" rx=\"27\" ry=\"18\"/>\n",
       "<text text-anchor=\"middle\" x=\"63\" y=\"-84.95\" font-family=\"Times,serif\" font-size=\"14.00\" fill=\"white\">X</text>\n",
       "</g>\n",
       "<!-- Y -->\n",
       "<g id=\"node4\" class=\"node\">\n",
       "<title>Y</title>\n",
       "<ellipse fill=\"#404040\" stroke=\"#4a4a4a\" cx=\"35\" cy=\"-18\" rx=\"27\" ry=\"18\"/>\n",
       "<text text-anchor=\"middle\" x=\"35\" y=\"-12.95\" font-family=\"Times,serif\" font-size=\"14.00\" fill=\"white\">Y</text>\n",
       "</g>\n",
       "<!-- X&#45;&gt;Y -->\n",
       "<g id=\"edge3\" class=\"edge\">\n",
       "<title>X-&gt;Y</title>\n",
       "<path fill=\"none\" stroke=\"#4a4a4a\" d=\"M55.44,-72.78C52.3,-64.94 48.47,-55.37 44.92,-46.5\"/>\n",
       "<path fill=\"none\" stroke=\"#4a4a4a\" d=\"M57.29,-72.04C54.15,-64.19 50.33,-54.62 46.78,-45.76\"/>\n",
       "<polygon fill=\"#4a4a4a\" stroke=\"#4a4a4a\" points=\"49.11,-44.86 42.15,-36.88 42.61,-47.46 49.11,-44.86\"/>\n",
       "</g>\n",
       "<!-- B -->\n",
       "<g id=\"node2\" class=\"node\">\n",
       "<title>B</title>\n",
       "<ellipse fill=\"#404040\" stroke=\"#4a4a4a\" cx=\"63\" cy=\"-162\" rx=\"27\" ry=\"18\"/>\n",
       "<text text-anchor=\"middle\" x=\"63\" y=\"-156.95\" font-family=\"Times,serif\" font-size=\"14.00\" fill=\"white\">B</text>\n",
       "</g>\n",
       "<!-- B&#45;&gt;X -->\n",
       "<g id=\"edge5\" class=\"edge\">\n",
       "<title>B-&gt;X</title>\n",
       "<path fill=\"none\" stroke=\"#4a4a4a\" d=\"M62,-143.7C62,-136.41 62,-127.73 62,-119.54\"/>\n",
       "<path fill=\"none\" stroke=\"#4a4a4a\" d=\"M64,-143.7C64,-136.41 64,-127.73 64,-119.54\"/>\n",
       "<polygon fill=\"#4a4a4a\" stroke=\"#4a4a4a\" points=\"66.5,-119.62 63,-109.62 59.5,-119.62 66.5,-119.62\"/>\n",
       "</g>\n",
       "<!-- A -->\n",
       "<g id=\"node3\" class=\"node\">\n",
       "<title>A</title>\n",
       "<ellipse fill=\"#404040\" stroke=\"#4a4a4a\" cx=\"108\" cy=\"-234\" rx=\"27\" ry=\"18\"/>\n",
       "<text text-anchor=\"middle\" x=\"108\" y=\"-228.95\" font-family=\"Times,serif\" font-size=\"14.00\" fill=\"white\">A</text>\n",
       "</g>\n",
       "<!-- A&#45;&gt;X -->\n",
       "<g id=\"edge4\" class=\"edge\">\n",
       "<title>A-&gt;X</title>\n",
       "<path fill=\"none\" stroke=\"#4a4a4a\" d=\"M107.72,-215.7C107.93,-197.41 106.65,-167.83 98.06,-144.34 94.44,-134.34 88.35,-124.24 82.26,-115.69\"/>\n",
       "<path fill=\"none\" stroke=\"#4a4a4a\" d=\"M109.72,-215.73C109.93,-197.32 108.65,-167.75 99.94,-143.66 96.16,-133.31 90.06,-123.2 83.89,-114.53\"/>\n",
       "<polygon fill=\"#4a4a4a\" stroke=\"#4a4a4a\" points=\"86,-113.17 77.18,-107.3 80.41,-117.39 86,-113.17\"/>\n",
       "</g>\n",
       "<!-- A&#45;&gt;B -->\n",
       "<g id=\"edge1\" class=\"edge\">\n",
       "<title>A-&gt;B</title>\n",
       "<path fill=\"none\" stroke=\"#4a4a4a\" d=\"M96.95,-217.66C91.48,-209.15 84.62,-198.48 78.44,-188.86\"/>\n",
       "<path fill=\"none\" stroke=\"#4a4a4a\" d=\"M98.63,-216.58C93.16,-208.07 86.3,-197.4 80.12,-187.78\"/>\n",
       "<polygon fill=\"#4a4a4a\" stroke=\"#4a4a4a\" points=\"82.34,-186.61 73.99,-180.09 76.45,-190.4 82.34,-186.61\"/>\n",
       "</g>\n",
       "<!-- C -->\n",
       "<g id=\"node5\" class=\"node\">\n",
       "<title>C</title>\n",
       "<ellipse fill=\"#404040\" stroke=\"#4a4a4a\" cx=\"27\" cy=\"-234\" rx=\"27\" ry=\"18\"/>\n",
       "<text text-anchor=\"middle\" x=\"27\" y=\"-228.95\" font-family=\"Times,serif\" font-size=\"14.00\" fill=\"white\">C</text>\n",
       "</g>\n",
       "<!-- C&#45;&gt;B -->\n",
       "<g id=\"edge6\" class=\"edge\">\n",
       "<title>C-&gt;B</title>\n",
       "<path fill=\"none\" stroke=\"#4a4a4a\" d=\"M34.46,-216.31C38.69,-208.09 43.92,-197.92 48.69,-188.64\"/>\n",
       "<path fill=\"none\" stroke=\"#4a4a4a\" d=\"M36.24,-217.22C40.46,-209.01 45.7,-198.83 50.47,-189.55\"/>\n",
       "<polygon fill=\"#4a4a4a\" stroke=\"#4a4a4a\" points=\"52.54,-190.99 54,-180.49 46.32,-187.79 52.54,-190.99\"/>\n",
       "</g>\n",
       "<!-- C&#45;&gt;Y -->\n",
       "<g id=\"edge2\" class=\"edge\">\n",
       "<title>C-&gt;Y</title>\n",
       "<path fill=\"none\" stroke=\"#4a4a4a\" d=\"M25.15,-215.62C23.89,-186.03 22.09,-124.15 26,-71.93 26.61,-63.86 27.71,-55.23 28.92,-47.28\"/>\n",
       "<path fill=\"none\" stroke=\"#4a4a4a\" d=\"M27.15,-215.53C25.89,-185.98 24.09,-124.09 28,-72.07 28.59,-64.12 29.7,-55.48 30.9,-47.58\"/>\n",
       "<polygon fill=\"#4a4a4a\" stroke=\"#4a4a4a\" points=\"33.35,-48.04 31.51,-37.61 26.45,-46.91 33.35,-48.04\"/>\n",
       "</g>\n",
       "</g>\n",
       "</svg><br><center><small><em>Causal Model</em></small></center></div><div class=\"floating-box\">$$\\begin{equation*}P( Y \\mid \\text{do}(X)) = \\sum_{C}{P\\left(Y\\mid C,X\\right) \\cdot P\\left(C\\right)}\\end{equation*}$$<br><center><small><em>Explanation : backdoor ['C'] found.</em></small></center></div><div class=\"floating-box\"><table style=\"border:1px solid black;border-collapse: collapse;\">\n",
       "<tr><th colspan='1'></th>\n",
       "      <th colspan='2' style='border:1px solid black;color:black;background-color:#808080;'><center>Y</center>\n",
       "      </th></tr>\n",
       "<tr><th style='border:1px solid black;color:black;background-color:#808080'><center>X</center></th><th style='border:1px solid black;border-bottom-style: double;color:black;background-color:#BBBBBB'>\n",
       "      <center>0</center></th><th style='border:1px solid black;border-bottom-style: double;color:black;background-color:#BBBBBB'>\n",
       "      <center>1</center></th></tr>\n",
       "<tr><th style='border:1px solid black;color:black;background-color:#BBBBBB'><center>0</center></th><td style='color:black;background-color:#cbb264;text-align:right;padding: 3px;'>0.4043</td><td style='color:black;background-color:#b2cb64;text-align:right;padding: 3px;'>0.5957</td></tr>\n",
       "<tr><th style='border:1px solid black;color:black;background-color:#BBBBBB'><center>1</center></th><td style='color:black;background-color:#b5c864;text-align:right;padding: 3px;'>0.5770</td><td style='color:black;background-color:#c8b564;text-align:right;padding: 3px;'>0.4230</td></tr>\n",
       "</table><br><center><small><em>Impact</em></small></center></div>"
      ],
      "text/plain": [
       "<IPython.core.display.HTML object>"
      ]
     },
     "metadata": {},
     "output_type": "display_data"
    }
   ],
   "source": [
    "m5 = csl.CausalModel(e5)\n",
    "cslnb.showCausalImpact(m5, \"Y\", doing=\"X\",values={})"
   ]
  },
  {
   "cell_type": "markdown",
   "metadata": {
    "editable": true,
    "slideshow": {
     "slide_type": ""
    },
    "tags": []
   },
   "source": [
    "![Game 4 and 5](images/game4.game5.png)"
   ]
  },
  {
   "cell_type": "code",
   "execution_count": 17,
   "metadata": {
    "editable": true,
    "execution": {
     "iopub.execute_input": "2024-07-27T15:58:00.667765Z",
     "iopub.status.busy": "2024-07-27T15:58:00.667541Z",
     "iopub.status.idle": "2024-07-27T15:58:00.669689Z",
     "shell.execute_reply": "2024-07-27T15:58:00.669478Z"
    },
    "slideshow": {
     "slide_type": ""
    },
    "tags": []
   },
   "outputs": [
    {
     "name": "stdout",
     "output_type": "stream",
     "text": [
      "The set of variables which satisfies the back-door criterion for (X, Y) is : {'C'}\n"
     ]
    }
   ],
   "source": [
    "# This function returns the set of variables which satisfies the back-door criterion for (X, Y) \n",
    "# None if there are no back-door paths.\n",
    "setOfVars = m5.backDoor(\"X\",\"Y\")\n",
    "print(\"The set of variables which satisfies the back-door criterion for (X, Y) is :\", setOfVars)"
   ]
  },
  {
   "cell_type": "markdown",
   "metadata": {},
   "source": [
    "> The difference between this example and the previous one is that we added an arrow between $B$ and $X$ ( $B \\rightarrow X$ ), this opens a new back-door path between $X$ and $Y$ that isn't blocked by any colliders $$X \\leftarrow B \\leftarrow C \\rightarrow Y$$\n",
    "We need to block the non-causal information that flows through it, controlling for $B$ closes this backdoor path (it prevents information from getting from $X$ to $C$). However, this action will open the back-door path that was formerly blocked by collider node $B$ that we are adjusting for now:\n",
    "$$X \\leftarrow A \\rightarrow B \\leftarrow C \\rightarrow Y$$\n",
    "And, in this case, in addition to $B$ we would also control for $C$ or for $A$ to reblock the path we opened and to block the new path. <br> <br>\n",
    "Another solution is to control for $C$ (it prevents information from getting from $B$ to $Y$) which satisfies the back-door criterion, it blocks the new path without reopening the one that is blocked by $B$."
   ]
  },
  {
   "cell_type": "markdown",
   "metadata": {
    "editable": true,
    "slideshow": {
     "slide_type": ""
    },
    "tags": []
   },
   "source": [
    "### Example 6:"
   ]
  },
  {
   "cell_type": "code",
   "execution_count": 18,
   "metadata": {
    "execution": {
     "iopub.execute_input": "2024-07-27T15:58:00.670916Z",
     "iopub.status.busy": "2024-07-27T15:58:00.670825Z",
     "iopub.status.idle": "2024-07-27T15:58:00.824729Z",
     "shell.execute_reply": "2024-07-27T15:58:00.824465Z"
    }
   },
   "outputs": [
    {
     "data": {
      "text/html": [
       "<svg xmlns=\"http://www.w3.org/2000/svg\" xmlns:xlink=\"http://www.w3.org/1999/xlink\" width=\"337pt\" height=\"332pt\" viewBox=\"0.00 0.00 337.00 332.00\">\n",
       "<g id=\"graph0\" class=\"graph\" transform=\"scale(1 1) rotate(0) translate(4 328)\">\n",
       "<title>G</title>\n",
       "<!-- F -->\n",
       "<g id=\"node1\" class=\"node\">\n",
       "<title>F</title>\n",
       "<g id=\"a_node1\"><a xlink:title=\"(7) F\">\n",
       "<ellipse fill=\"#404040\" stroke=\"#4a4a4a\" cx=\"27\" cy=\"-306\" rx=\"27\" ry=\"18\"/>\n",
       "<text text-anchor=\"middle\" x=\"27\" y=\"-300.95\" font-family=\"Times,serif\" font-size=\"14.00\" fill=\"white\">F</text>\n",
       "</a>\n",
       "</g>\n",
       "</g>\n",
       "<!-- X -->\n",
       "<g id=\"node2\" class=\"node\">\n",
       "<title>X</title>\n",
       "<g id=\"a_node2\"><a xlink:title=\"(1) X\">\n",
       "<ellipse fill=\"#404040\" stroke=\"#4a4a4a\" cx=\"183\" cy=\"-90\" rx=\"27\" ry=\"18\"/>\n",
       "<text text-anchor=\"middle\" x=\"183\" y=\"-84.95\" font-family=\"Times,serif\" font-size=\"14.00\" fill=\"white\">X</text>\n",
       "</a>\n",
       "</g>\n",
       "</g>\n",
       "<!-- F&#45;&gt;X -->\n",
       "<g id=\"edge3\" class=\"edge\">\n",
       "<title>F-&gt;X</title>\n",
       "<g id=\"a_edge3\"><a xlink:title=\"7 → 1\">\n",
       "<path fill=\"none\" stroke=\"#4a4a4a\" d=\"M28.98,-287.69C33.46,-255.79 47,-187.07 84,-144 100.88,-124.36 126.9,-110.83 148.03,-102.36\"/>\n",
       "<polygon fill=\"#4a4a4a\" stroke=\"#4a4a4a\" points=\"149.02,-105.72 157.14,-98.92 146.55,-99.17 149.02,-105.72\"/>\n",
       "</a>\n",
       "</g>\n",
       "</g>\n",
       "<!-- Y -->\n",
       "<g id=\"node5\" class=\"node\">\n",
       "<title>Y</title>\n",
       "<g id=\"a_node5\"><a xlink:title=\"(6) Y\">\n",
       "<ellipse fill=\"#404040\" stroke=\"#4a4a4a\" cx=\"120\" cy=\"-18\" rx=\"27\" ry=\"18\"/>\n",
       "<text text-anchor=\"middle\" x=\"120\" y=\"-12.95\" font-family=\"Times,serif\" font-size=\"14.00\" fill=\"white\">Y</text>\n",
       "</a>\n",
       "</g>\n",
       "</g>\n",
       "<!-- F&#45;&gt;Y -->\n",
       "<g id=\"edge13\" class=\"edge\">\n",
       "<title>F-&gt;Y</title>\n",
       "<g id=\"a_edge13\"><a xlink:title=\"7 → 6\">\n",
       "<path fill=\"none\" stroke=\"#4a4a4a\" d=\"M26.62,-287.77C26.54,-269.72 27.29,-240.62 32,-216 44.67,-149.74 48.6,-131.71 80,-72 85.36,-61.81 92.62,-51.5 99.49,-42.72\"/>\n",
       "<polygon fill=\"#4a4a4a\" stroke=\"#4a4a4a\" points=\"102.14,-45.02 105.73,-35.05 96.71,-40.6 102.14,-45.02\"/>\n",
       "</a>\n",
       "</g>\n",
       "</g>\n",
       "<!-- C -->\n",
       "<g id=\"node8\" class=\"node\">\n",
       "<title>C</title>\n",
       "<g id=\"a_node8\"><a xlink:title=\"(4) C\">\n",
       "<ellipse fill=\"#404040\" stroke=\"#4a4a4a\" cx=\"120\" cy=\"-234\" rx=\"27\" ry=\"18\"/>\n",
       "<text text-anchor=\"middle\" x=\"120\" y=\"-228.95\" font-family=\"Times,serif\" font-size=\"14.00\" fill=\"white\">C</text>\n",
       "</a>\n",
       "</g>\n",
       "</g>\n",
       "<!-- F&#45;&gt;C -->\n",
       "<g id=\"edge2\" class=\"edge\">\n",
       "<title>F-&gt;C</title>\n",
       "<g id=\"a_edge2\"><a xlink:title=\"7 → 4\">\n",
       "<path fill=\"none\" stroke=\"#4a4a4a\" d=\"M44.49,-291.83C58.39,-281.37 78.05,-266.58 93.82,-254.7\"/>\n",
       "<polygon fill=\"#4a4a4a\" stroke=\"#4a4a4a\" points=\"95.49,-257.83 101.38,-249.02 91.28,-252.24 95.49,-257.83\"/>\n",
       "</a>\n",
       "</g>\n",
       "</g>\n",
       "<!-- X&#45;&gt;Y -->\n",
       "<g id=\"edge16\" class=\"edge\">\n",
       "<title>X-&gt;Y</title>\n",
       "<g id=\"a_edge16\"><a xlink:title=\"1 → 6\">\n",
       "<path fill=\"none\" stroke=\"#4a4a4a\" d=\"M169.64,-74.15C161.29,-64.87 150.35,-52.73 140.87,-42.19\"/>\n",
       "<polygon fill=\"#4a4a4a\" stroke=\"#4a4a4a\" points=\"143.65,-40.04 134.35,-34.95 138.44,-44.72 143.65,-40.04\"/>\n",
       "</a>\n",
       "</g>\n",
       "</g>\n",
       "<!-- G -->\n",
       "<g id=\"node3\" class=\"node\">\n",
       "<title>G</title>\n",
       "<g id=\"a_node3\"><a xlink:title=\"(8) G\">\n",
       "<ellipse fill=\"#404040\" stroke=\"#4a4a4a\" cx=\"302\" cy=\"-162\" rx=\"27\" ry=\"18\"/>\n",
       "<text text-anchor=\"middle\" x=\"302\" y=\"-156.95\" font-family=\"Times,serif\" font-size=\"14.00\" fill=\"white\">G</text>\n",
       "</a>\n",
       "</g>\n",
       "</g>\n",
       "<!-- G&#45;&gt;X -->\n",
       "<g id=\"edge6\" class=\"edge\">\n",
       "<title>G-&gt;X</title>\n",
       "<g id=\"a_edge6\"><a xlink:title=\"8 → 1\">\n",
       "<path fill=\"none\" stroke=\"#4a4a4a\" d=\"M282.08,-149.28C263,-138.06 233.99,-120.99 212.28,-108.23\"/>\n",
       "<polygon fill=\"#4a4a4a\" stroke=\"#4a4a4a\" points=\"214.29,-105.34 203.89,-103.29 210.74,-111.38 214.29,-105.34\"/>\n",
       "</a>\n",
       "</g>\n",
       "</g>\n",
       "<!-- G&#45;&gt;Y -->\n",
       "<g id=\"edge15\" class=\"edge\">\n",
       "<title>G-&gt;Y</title>\n",
       "<g id=\"a_edge15\"><a xlink:title=\"8 → 6\">\n",
       "<path fill=\"none\" stroke=\"#4a4a4a\" d=\"M290.09,-145.37C275.05,-126.34 247.63,-94.03 219,-72 198.57,-56.28 172.83,-42.66 152.72,-33.16\"/>\n",
       "<polygon fill=\"#4a4a4a\" stroke=\"#4a4a4a\" points=\"154.41,-30.08 143.86,-29.09 151.48,-36.44 154.41,-30.08\"/>\n",
       "</a>\n",
       "</g>\n",
       "</g>\n",
       "<!-- E -->\n",
       "<g id=\"node4\" class=\"node\">\n",
       "<title>E</title>\n",
       "<g id=\"a_node4\"><a xlink:title=\"(5) E\">\n",
       "<ellipse fill=\"#404040\" stroke=\"#4a4a4a\" cx=\"120\" cy=\"-162\" rx=\"27\" ry=\"18\"/>\n",
       "<text text-anchor=\"middle\" x=\"120\" y=\"-156.95\" font-family=\"Times,serif\" font-size=\"14.00\" fill=\"white\">E</text>\n",
       "</a>\n",
       "</g>\n",
       "</g>\n",
       "<!-- E&#45;&gt;X -->\n",
       "<g id=\"edge8\" class=\"edge\">\n",
       "<title>E-&gt;X</title>\n",
       "<g id=\"a_edge8\"><a xlink:title=\"5 → 1\">\n",
       "<path fill=\"none\" stroke=\"#4a4a4a\" d=\"M133.36,-146.15C141.71,-136.87 152.65,-124.73 162.13,-114.19\"/>\n",
       "<polygon fill=\"#4a4a4a\" stroke=\"#4a4a4a\" points=\"164.56,-116.72 168.65,-106.95 159.35,-112.04 164.56,-116.72\"/>\n",
       "</a>\n",
       "</g>\n",
       "</g>\n",
       "<!-- E&#45;&gt;Y -->\n",
       "<g id=\"edge14\" class=\"edge\">\n",
       "<title>E-&gt;Y</title>\n",
       "<g id=\"a_edge14\"><a xlink:title=\"5 → 6\">\n",
       "<path fill=\"none\" stroke=\"#4a4a4a\" d=\"M120,-143.59C120,-119.61 120,-76.14 120,-47.42\"/>\n",
       "<polygon fill=\"#4a4a4a\" stroke=\"#4a4a4a\" points=\"123.5,-47.62 120,-37.62 116.5,-47.62 123.5,-47.62\"/>\n",
       "</a>\n",
       "</g>\n",
       "</g>\n",
       "<!-- B -->\n",
       "<g id=\"node6\" class=\"node\">\n",
       "<title>B</title>\n",
       "<g id=\"a_node6\"><a xlink:title=\"(2) B\">\n",
       "<ellipse fill=\"#404040\" stroke=\"#4a4a4a\" cx=\"192\" cy=\"-162\" rx=\"27\" ry=\"18\"/>\n",
       "<text text-anchor=\"middle\" x=\"192\" y=\"-156.95\" font-family=\"Times,serif\" font-size=\"14.00\" fill=\"white\">B</text>\n",
       "</a>\n",
       "</g>\n",
       "</g>\n",
       "<!-- B&#45;&gt;X -->\n",
       "<g id=\"edge4\" class=\"edge\">\n",
       "<title>B-&gt;X</title>\n",
       "<g id=\"a_edge4\"><a xlink:title=\"2 → 1\">\n",
       "<path fill=\"none\" stroke=\"#4a4a4a\" d=\"M189.78,-143.7C188.83,-136.32 187.7,-127.52 186.63,-119.25\"/>\n",
       "<polygon fill=\"#4a4a4a\" stroke=\"#4a4a4a\" points=\"190.14,-119.08 185.39,-109.61 183.2,-119.97 190.14,-119.08\"/>\n",
       "</a>\n",
       "</g>\n",
       "</g>\n",
       "<!-- D -->\n",
       "<g id=\"node7\" class=\"node\">\n",
       "<title>D</title>\n",
       "<g id=\"a_node7\"><a xlink:title=\"(3) D\">\n",
       "<ellipse fill=\"#404040\" stroke=\"#4a4a4a\" cx=\"156\" cy=\"-306\" rx=\"27\" ry=\"18\"/>\n",
       "<text text-anchor=\"middle\" x=\"156\" y=\"-300.95\" font-family=\"Times,serif\" font-size=\"14.00\" fill=\"white\">D</text>\n",
       "</a>\n",
       "</g>\n",
       "</g>\n",
       "<!-- D&#45;&gt;C -->\n",
       "<g id=\"edge5\" class=\"edge\">\n",
       "<title>D-&gt;C</title>\n",
       "<g id=\"a_edge5\"><a xlink:title=\"3 → 4\">\n",
       "<path fill=\"none\" stroke=\"#4a4a4a\" d=\"M147.65,-288.76C143.42,-280.55 138.19,-270.37 133.42,-261.09\"/>\n",
       "<polygon fill=\"#4a4a4a\" stroke=\"#4a4a4a\" points=\"136.68,-259.79 129,-252.49 130.46,-262.99 136.68,-259.79\"/>\n",
       "</a>\n",
       "</g>\n",
       "</g>\n",
       "<!-- A -->\n",
       "<g id=\"node9\" class=\"node\">\n",
       "<title>A</title>\n",
       "<g id=\"a_node9\"><a xlink:title=\"(0) A\">\n",
       "<ellipse fill=\"#404040\" stroke=\"#4a4a4a\" cx=\"192\" cy=\"-234\" rx=\"27\" ry=\"18\"/>\n",
       "<text text-anchor=\"middle\" x=\"192\" y=\"-228.95\" font-family=\"Times,serif\" font-size=\"14.00\" fill=\"white\">A</text>\n",
       "</a>\n",
       "</g>\n",
       "</g>\n",
       "<!-- D&#45;&gt;A -->\n",
       "<g id=\"edge10\" class=\"edge\">\n",
       "<title>D-&gt;A</title>\n",
       "<g id=\"a_edge10\"><a xlink:title=\"3 → 0\">\n",
       "<path fill=\"none\" stroke=\"#4a4a4a\" d=\"M164.35,-288.76C168.58,-280.55 173.81,-270.37 178.58,-261.09\"/>\n",
       "<polygon fill=\"#4a4a4a\" stroke=\"#4a4a4a\" points=\"181.54,-262.99 183,-252.49 175.32,-259.79 181.54,-262.99\"/>\n",
       "</a>\n",
       "</g>\n",
       "</g>\n",
       "<!-- C&#45;&gt;E -->\n",
       "<g id=\"edge11\" class=\"edge\">\n",
       "<title>C-&gt;E</title>\n",
       "<g id=\"a_edge11\"><a xlink:title=\"4 → 5\">\n",
       "<path fill=\"none\" stroke=\"#4a4a4a\" d=\"M120,-215.7C120,-208.41 120,-199.73 120,-191.54\"/>\n",
       "<polygon fill=\"#4a4a4a\" stroke=\"#4a4a4a\" points=\"123.5,-191.62 120,-181.62 116.5,-191.62 123.5,-191.62\"/>\n",
       "</a>\n",
       "</g>\n",
       "</g>\n",
       "<!-- C&#45;&gt;Y -->\n",
       "<g id=\"edge7\" class=\"edge\">\n",
       "<title>C-&gt;Y</title>\n",
       "<g id=\"a_edge7\"><a xlink:title=\"4 → 6\">\n",
       "<path fill=\"none\" stroke=\"#4a4a4a\" d=\"M106.25,-218.07C98.04,-208.1 88.38,-194.25 84,-180 69.63,-133.27 90.43,-77.27 105.89,-45.15\"/>\n",
       "<polygon fill=\"#4a4a4a\" stroke=\"#4a4a4a\" points=\"108.84,-47.08 110.19,-36.57 102.58,-43.94 108.84,-47.08\"/>\n",
       "</a>\n",
       "</g>\n",
       "</g>\n",
       "<!-- C&#45;&gt;B -->\n",
       "<g id=\"edge9\" class=\"edge\">\n",
       "<title>C-&gt;B</title>\n",
       "<g id=\"a_edge9\"><a xlink:title=\"4 → 2\">\n",
       "<path fill=\"none\" stroke=\"#4a4a4a\" d=\"M134.92,-218.5C144.77,-208.92 157.86,-196.19 169.03,-185.34\"/>\n",
       "<polygon fill=\"#4a4a4a\" stroke=\"#4a4a4a\" points=\"171.29,-188.02 176.02,-178.54 166.41,-183 171.29,-188.02\"/>\n",
       "</a>\n",
       "</g>\n",
       "</g>\n",
       "<!-- A&#45;&gt;X -->\n",
       "<g id=\"edge1\" class=\"edge\">\n",
       "<title>A-&gt;X</title>\n",
       "<g id=\"a_edge1\"><a xlink:title=\"0 → 1\">\n",
       "<path fill=\"none\" stroke=\"#4a4a4a\" d=\"M205.75,-218.07C213.96,-208.1 223.62,-194.25 228,-180 232.7,-164.71 233.52,-159.02 228,-144 223.69,-132.27 215.51,-121.36 207.3,-112.53\"/>\n",
       "<polygon fill=\"#4a4a4a\" stroke=\"#4a4a4a\" points=\"209.82,-110.11 200.28,-105.51 204.87,-115.05 209.82,-110.11\"/>\n",
       "</a>\n",
       "</g>\n",
       "</g>\n",
       "<!-- A&#45;&gt;B -->\n",
       "<g id=\"edge12\" class=\"edge\">\n",
       "<title>A-&gt;B</title>\n",
       "<g id=\"a_edge12\"><a xlink:title=\"0 → 2\">\n",
       "<path fill=\"none\" stroke=\"#4a4a4a\" d=\"M192,-215.7C192,-208.41 192,-199.73 192,-191.54\"/>\n",
       "<polygon fill=\"#4a4a4a\" stroke=\"#4a4a4a\" points=\"195.5,-191.62 192,-181.62 188.5,-191.62 195.5,-191.62\"/>\n",
       "</a>\n",
       "</g>\n",
       "</g>\n",
       "</g>\n",
       "</svg>"
      ],
      "text/plain": [
       "(pyAgrum.BayesNet<double>@0x13692e200) BN{nodes: 9, arcs: 16, domainSize: 512, dim: 79, mem: 1Ko 240o}"
      ]
     },
     "execution_count": 18,
     "metadata": {},
     "output_type": "execute_result"
    }
   ],
   "source": [
    "e6 = gum.fastBN(\"A->X;A->B;D->A;B->X;C->B;C->E;C->Y;D->C;E->Y;E->X;F->C;F->X;F->Y;G->X;G->Y;X->Y\")\n",
    "e6"
   ]
  },
  {
   "cell_type": "code",
   "execution_count": 19,
   "metadata": {
    "execution": {
     "iopub.execute_input": "2024-07-27T15:58:00.826051Z",
     "iopub.status.busy": "2024-07-27T15:58:00.825952Z",
     "iopub.status.idle": "2024-07-27T15:58:01.009145Z",
     "shell.execute_reply": "2024-07-27T15:58:01.008871Z"
    }
   },
   "outputs": [
    {
     "data": {
      "text/html": [
       "\n",
       "      <style>\n",
       "      .floating-box {\n",
       "      display: inline-block;\n",
       "      margin: 7px;\n",
       "      padding : 3px;\n",
       "      border: 0px solid transparent;  \n",
       "      valign:middle;\n",
       "      background-color: transparent;\n",
       "      }\n",
       "      </style>\n",
       "      <div class=\"floating-box\"><svg xmlns=\"http://www.w3.org/2000/svg\" xmlns:xlink=\"http://www.w3.org/1999/xlink\" width=\"168pt\" height=\"180pt\" viewBox=\"0.00 0.00 168.07 180.00\">\n",
       "<g id=\"graph0\" class=\"graph\" transform=\"scale(0.542169 0.542169) rotate(0) translate(4 328)\">\n",
       "<title>G</title>\n",
       "<!-- A -->\n",
       "<g id=\"node1\" class=\"node\">\n",
       "<title>A</title>\n",
       "<ellipse fill=\"#404040\" stroke=\"#4a4a4a\" cx=\"131.84\" cy=\"-234\" rx=\"27\" ry=\"18\"/>\n",
       "<text text-anchor=\"middle\" x=\"131.84\" y=\"-228.95\" font-family=\"Times,serif\" font-size=\"14.00\" fill=\"white\">A</text>\n",
       "</g>\n",
       "<!-- X -->\n",
       "<g id=\"node2\" class=\"node\">\n",
       "<title>X</title>\n",
       "<ellipse fill=\"#404040\" stroke=\"#4a4a4a\" cx=\"167.84\" cy=\"-90\" rx=\"27\" ry=\"18\"/>\n",
       "<text text-anchor=\"middle\" x=\"167.84\" y=\"-84.95\" font-family=\"Times,serif\" font-size=\"14.00\" fill=\"white\">X</text>\n",
       "</g>\n",
       "<!-- A&#45;&gt;X -->\n",
       "<g id=\"edge1\" class=\"edge\">\n",
       "<title>A-&gt;X</title>\n",
       "<path fill=\"none\" stroke=\"#4a4a4a\" d=\"M136.85,-215.62C140.32,-205.31 144.66,-191.83 147.88,-179.74 153.22,-159.7 158.09,-136.74 161.56,-119.19\"/>\n",
       "<path fill=\"none\" stroke=\"#4a4a4a\" d=\"M138.74,-216.26C142.23,-205.92 146.56,-192.44 149.81,-180.26 155.17,-160.11 160.05,-137.15 163.52,-119.57\"/>\n",
       "<polygon fill=\"#4a4a4a\" stroke=\"#4a4a4a\" points=\"165.95,-120.15 164.42,-109.67 159.08,-118.82 165.95,-120.15\"/>\n",
       "</g>\n",
       "<!-- B -->\n",
       "<g id=\"node3\" class=\"node\">\n",
       "<title>B</title>\n",
       "<ellipse fill=\"#404040\" stroke=\"#4a4a4a\" cx=\"112.84\" cy=\"-162\" rx=\"27\" ry=\"18\"/>\n",
       "<text text-anchor=\"middle\" x=\"112.84\" y=\"-156.95\" font-family=\"Times,serif\" font-size=\"14.00\" fill=\"white\">B</text>\n",
       "</g>\n",
       "<!-- A&#45;&gt;B -->\n",
       "<g id=\"edge11\" class=\"edge\">\n",
       "<title>A-&gt;B</title>\n",
       "<path fill=\"none\" stroke=\"#4a4a4a\" d=\"M126.28,-216.32C124.22,-208.75 121.75,-199.63 119.44,-191.11\"/>\n",
       "<path fill=\"none\" stroke=\"#4a4a4a\" d=\"M128.21,-215.79C126.15,-208.23 123.68,-199.11 121.37,-190.58\"/>\n",
       "<polygon fill=\"#4a4a4a\" stroke=\"#4a4a4a\" points=\"123.79,-189.98 117.8,-181.25 117.04,-191.82 123.79,-189.98\"/>\n",
       "</g>\n",
       "<!-- Y -->\n",
       "<g id=\"node7\" class=\"node\">\n",
       "<title>Y</title>\n",
       "<ellipse fill=\"#404040\" stroke=\"#4a4a4a\" cx=\"167.84\" cy=\"-18\" rx=\"27\" ry=\"18\"/>\n",
       "<text text-anchor=\"middle\" x=\"167.84\" y=\"-12.95\" font-family=\"Times,serif\" font-size=\"14.00\" fill=\"white\">Y</text>\n",
       "</g>\n",
       "<!-- X&#45;&gt;Y -->\n",
       "<g id=\"edge16\" class=\"edge\">\n",
       "<title>X-&gt;Y</title>\n",
       "<path fill=\"none\" stroke=\"#4a4a4a\" d=\"M166.84,-71.7C166.84,-64.41 166.84,-55.73 166.84,-47.54\"/>\n",
       "<path fill=\"none\" stroke=\"#4a4a4a\" d=\"M168.84,-71.7C168.84,-64.41 168.84,-55.73 168.84,-47.54\"/>\n",
       "<polygon fill=\"#4a4a4a\" stroke=\"#4a4a4a\" points=\"171.34,-47.62 167.84,-37.62 164.34,-47.62 171.34,-47.62\"/>\n",
       "</g>\n",
       "<!-- B&#45;&gt;X -->\n",
       "<g id=\"edge4\" class=\"edge\">\n",
       "<title>B-&gt;X</title>\n",
       "<path fill=\"none\" stroke=\"#4a4a4a\" d=\"M124.26,-144.85C131.17,-136.06 139.96,-124.86 147.78,-114.91\"/>\n",
       "<path fill=\"none\" stroke=\"#4a4a4a\" d=\"M125.83,-146.08C132.74,-137.29 141.54,-126.1 149.35,-116.15\"/>\n",
       "<polygon fill=\"#4a4a4a\" stroke=\"#4a4a4a\" points=\"151.31,-117.71 154.73,-107.68 145.8,-113.38 151.31,-117.71\"/>\n",
       "</g>\n",
       "<!-- D -->\n",
       "<g id=\"node4\" class=\"node\">\n",
       "<title>D</title>\n",
       "<ellipse fill=\"#404040\" stroke=\"#4a4a4a\" cx=\"106.84\" cy=\"-306\" rx=\"27\" ry=\"18\"/>\n",
       "<text text-anchor=\"middle\" x=\"106.84\" y=\"-300.95\" font-family=\"Times,serif\" font-size=\"14.00\" fill=\"white\">D</text>\n",
       "</g>\n",
       "<!-- D&#45;&gt;A -->\n",
       "<g id=\"edge10\" class=\"edge\">\n",
       "<title>D-&gt;A</title>\n",
       "<path fill=\"none\" stroke=\"#4a4a4a\" d=\"M111.95,-287.72C114.69,-280.07 117.98,-270.83 121.06,-262.22\"/>\n",
       "<path fill=\"none\" stroke=\"#4a4a4a\" d=\"M113.84,-288.39C116.57,-280.74 119.87,-271.5 122.94,-262.89\"/>\n",
       "<polygon fill=\"#4a4a4a\" stroke=\"#4a4a4a\" points=\"125.27,-263.81 125.34,-253.21 118.68,-261.45 125.27,-263.81\"/>\n",
       "</g>\n",
       "<!-- C -->\n",
       "<g id=\"node5\" class=\"node\">\n",
       "<title>C</title>\n",
       "<ellipse fill=\"#404040\" stroke=\"#4a4a4a\" cx=\"59.84\" cy=\"-234\" rx=\"27\" ry=\"18\"/>\n",
       "<text text-anchor=\"middle\" x=\"59.84\" y=\"-228.95\" font-family=\"Times,serif\" font-size=\"14.00\" fill=\"white\">C</text>\n",
       "</g>\n",
       "<!-- D&#45;&gt;C -->\n",
       "<g id=\"edge5\" class=\"edge\">\n",
       "<title>D-&gt;C</title>\n",
       "<path fill=\"none\" stroke=\"#4a4a4a\" d=\"M95.35,-289.67C89.64,-281.17 82.47,-270.5 76.02,-260.88\"/>\n",
       "<path fill=\"none\" stroke=\"#4a4a4a\" d=\"M97.01,-288.56C91.3,-280.06 84.13,-269.38 77.68,-259.77\"/>\n",
       "<polygon fill=\"#4a4a4a\" stroke=\"#4a4a4a\" points=\"79.79,-258.43 71.31,-252.08 73.98,-262.33 79.79,-258.43\"/>\n",
       "</g>\n",
       "<!-- C&#45;&gt;B -->\n",
       "<g id=\"edge9\" class=\"edge\">\n",
       "<title>C-&gt;B</title>\n",
       "<path fill=\"none\" stroke=\"#4a4a4a\" d=\"M70.81,-216.86C77.46,-208.07 85.94,-196.88 93.47,-186.93\"/>\n",
       "<path fill=\"none\" stroke=\"#4a4a4a\" d=\"M72.4,-218.07C79.06,-209.28 87.53,-198.08 95.07,-188.14\"/>\n",
       "<polygon fill=\"#4a4a4a\" stroke=\"#4a4a4a\" points=\"96.95,-189.78 100.2,-179.7 91.37,-185.56 96.95,-189.78\"/>\n",
       "</g>\n",
       "<!-- E -->\n",
       "<g id=\"node6\" class=\"node\">\n",
       "<title>E</title>\n",
       "<ellipse fill=\"#404040\" stroke=\"#4a4a4a\" cx=\"40.84\" cy=\"-162\" rx=\"27\" ry=\"18\"/>\n",
       "<text text-anchor=\"middle\" x=\"40.84\" y=\"-156.95\" font-family=\"Times,serif\" font-size=\"14.00\" fill=\"white\">E</text>\n",
       "</g>\n",
       "<!-- C&#45;&gt;E -->\n",
       "<g id=\"edge12\" class=\"edge\">\n",
       "<title>C-&gt;E</title>\n",
       "<path fill=\"none\" stroke=\"#4a4a4a\" d=\"M54.28,-216.32C52.22,-208.75 49.75,-199.63 47.44,-191.11\"/>\n",
       "<path fill=\"none\" stroke=\"#4a4a4a\" d=\"M56.21,-215.79C54.15,-208.23 51.68,-199.11 49.37,-190.58\"/>\n",
       "<polygon fill=\"#4a4a4a\" stroke=\"#4a4a4a\" points=\"51.79,-189.98 45.8,-181.25 45.04,-191.82 51.79,-189.98\"/>\n",
       "</g>\n",
       "<!-- C&#45;&gt;Y -->\n",
       "<g id=\"edge7\" class=\"edge\">\n",
       "<title>C-&gt;Y</title>\n",
       "<path fill=\"none\" stroke=\"#4a4a4a\" d=\"M40.08,-221.55C27.2,-212.08 11.43,-197.83 3.92,-180.39 -2.42,-165.32 -2.71,-158.64 3.93,-143.59 29.44,-87.26 94.23,-50.09 134.24,-31.64\"/>\n",
       "<path fill=\"none\" stroke=\"#4a4a4a\" d=\"M41.26,-219.93C28.54,-210.59 12.78,-196.34 5.76,-179.61 -0.42,-165.23 -0.71,-158.55 5.75,-144.41 30.43,-88.99 95.22,-51.83 135.07,-33.46\"/>\n",
       "<polygon fill=\"#4a4a4a\" stroke=\"#4a4a4a\" points=\"135.87,-35.84 143.58,-28.57 133.02,-29.45 135.87,-35.84\"/>\n",
       "</g>\n",
       "<!-- E&#45;&gt;X -->\n",
       "<g id=\"edge8\" class=\"edge\">\n",
       "<title>E-&gt;X</title>\n",
       "<path fill=\"none\" stroke=\"#4a4a4a\" d=\"M60.76,-148.88C81.41,-137.5 113.56,-119.78 137.16,-106.77\"/>\n",
       "<path fill=\"none\" stroke=\"#4a4a4a\" d=\"M61.73,-150.63C82.37,-139.25 114.53,-121.53 138.12,-108.52\"/>\n",
       "<polygon fill=\"#4a4a4a\" stroke=\"#4a4a4a\" points=\"139.09,-110.84 146.16,-102.95 135.72,-104.71 139.09,-110.84\"/>\n",
       "</g>\n",
       "<!-- E&#45;&gt;Y -->\n",
       "<g id=\"edge14\" class=\"edge\">\n",
       "<title>E-&gt;Y</title>\n",
       "<path fill=\"none\" stroke=\"#4a4a4a\" d=\"M53.45,-145.41C75.61,-120.63 120.15,-70.83 146.41,-41.47\"/>\n",
       "<path fill=\"none\" stroke=\"#4a4a4a\" d=\"M54.94,-146.74C77.1,-121.96 121.64,-72.16 147.9,-42.8\"/>\n",
       "<polygon fill=\"#4a4a4a\" stroke=\"#4a4a4a\" points=\"149.6,-44.64 153.66,-34.86 144.39,-39.98 149.6,-44.64\"/>\n",
       "</g>\n",
       "<!-- F -->\n",
       "<g id=\"node8\" class=\"node\">\n",
       "<title>F</title>\n",
       "<ellipse fill=\"#404040\" stroke=\"#4a4a4a\" cx=\"205.84\" cy=\"-306\" rx=\"27\" ry=\"18\"/>\n",
       "<text text-anchor=\"middle\" x=\"205.84\" y=\"-300.95\" font-family=\"Times,serif\" font-size=\"14.00\" fill=\"white\">F</text>\n",
       "</g>\n",
       "<!-- F&#45;&gt;X -->\n",
       "<g id=\"edge3\" class=\"edge\">\n",
       "<title>F-&gt;X</title>\n",
       "<path fill=\"none\" stroke=\"#4a4a4a\" d=\"M201.81,-288.02C195.29,-251.32 179.94,-164.83 171.92,-119.71\"/>\n",
       "<path fill=\"none\" stroke=\"#4a4a4a\" d=\"M203.78,-287.67C197.26,-250.97 181.91,-164.48 173.89,-119.36\"/>\n",
       "<polygon fill=\"#4a4a4a\" stroke=\"#4a4a4a\" points=\"176.36,-118.96 171.17,-109.72 169.47,-120.18 176.36,-118.96\"/>\n",
       "</g>\n",
       "<!-- F&#45;&gt;C -->\n",
       "<g id=\"edge2\" class=\"edge\">\n",
       "<title>F-&gt;C</title>\n",
       "<path fill=\"none\" stroke=\"#4a4a4a\" d=\"M183.87,-295.57C159.39,-283.84 119.21,-264.57 91.15,-251.12\"/>\n",
       "<path fill=\"none\" stroke=\"#4a4a4a\" d=\"M184.73,-293.77C160.25,-282.03 120.07,-262.77 92.01,-249.31\"/>\n",
       "<polygon fill=\"#4a4a4a\" stroke=\"#4a4a4a\" points=\"93.37,-247.19 82.84,-246.03 90.34,-253.5 93.37,-247.19\"/>\n",
       "</g>\n",
       "<!-- F&#45;&gt;Y -->\n",
       "<g id=\"edge13\" class=\"edge\">\n",
       "<title>F-&gt;Y</title>\n",
       "<path fill=\"none\" stroke=\"#4a4a4a\" d=\"M222.18,-291.07C254.37,-264.42 319.28,-201.46 295.91,-144.37 277.15,-96.8 228.78,-58.6 197.06,-37.64\"/>\n",
       "<path fill=\"none\" stroke=\"#4a4a4a\" d=\"M223.46,-292.61C255.76,-265.86 320.67,-202.9 297.77,-143.63 278.38,-95.23 230.02,-57.03 198.16,-35.97\"/>\n",
       "<polygon fill=\"#4a4a4a\" stroke=\"#4a4a4a\" points=\"199.52,-33.87 189.21,-31.42 195.74,-39.76 199.52,-33.87\"/>\n",
       "</g>\n",
       "<!-- G -->\n",
       "<g id=\"node9\" class=\"node\">\n",
       "<title>G</title>\n",
       "<ellipse fill=\"#404040\" stroke=\"#4a4a4a\" cx=\"260.84\" cy=\"-162\" rx=\"27\" ry=\"18\"/>\n",
       "<text text-anchor=\"middle\" x=\"260.84\" y=\"-156.95\" font-family=\"Times,serif\" font-size=\"14.00\" fill=\"white\">G</text>\n",
       "</g>\n",
       "<!-- G&#45;&gt;X -->\n",
       "<g id=\"edge6\" class=\"edge\">\n",
       "<title>G-&gt;X</title>\n",
       "<path fill=\"none\" stroke=\"#4a4a4a\" d=\"M242.75,-148.63C228.85,-138.17 209.19,-123.38 193.42,-111.5\"/>\n",
       "<path fill=\"none\" stroke=\"#4a4a4a\" d=\"M243.95,-147.03C230.05,-136.57 210.4,-121.78 194.62,-109.91\"/>\n",
       "<polygon fill=\"#4a4a4a\" stroke=\"#4a4a4a\" points=\"196.56,-108.24 186.47,-105.02 192.35,-113.83 196.56,-108.24\"/>\n",
       "</g>\n",
       "<!-- G&#45;&gt;Y -->\n",
       "<g id=\"edge15\" class=\"edge\">\n",
       "<title>G-&gt;Y</title>\n",
       "<path fill=\"none\" stroke=\"#4a4a4a\" d=\"M249.83,-145.37C238.53,-127.48 219.67,-97.81 203.01,-72.55 196.96,-63.38 190.22,-53.4 184.22,-44.59\"/>\n",
       "<path fill=\"none\" stroke=\"#4a4a4a\" d=\"M251.52,-144.3C240.22,-126.4 221.36,-96.74 204.68,-71.45 198.62,-62.27 191.87,-52.28 185.87,-43.47\"/>\n",
       "<polygon fill=\"#4a4a4a\" stroke=\"#4a4a4a\" points=\"188.05,-42.23 179.52,-35.94 182.27,-46.18 188.05,-42.23\"/>\n",
       "</g>\n",
       "</g>\n",
       "</svg><br><center><small><em>Causal Model</em></small></center></div><div class=\"floating-box\">$$\\begin{equation*}P( Y \\mid \\text{do}(X)) = \\sum_{C,E,F,G}{P\\left(Y\\mid C,E,F,G,X\\right) \\cdot P\\left(C,E,F,G\\right)}\\end{equation*}$$<br><center><small><em>Explanation : backdoor ['C', 'E', 'F', 'G'] found.</em></small></center></div><div class=\"floating-box\"><table style=\"border:1px solid black;border-collapse: collapse;\">\n",
       "<tr><th colspan='1'></th>\n",
       "      <th colspan='2' style='border:1px solid black;color:black;background-color:#808080;'><center>Y</center>\n",
       "      </th></tr>\n",
       "<tr><th style='border:1px solid black;color:black;background-color:#808080'><center>X</center></th><th style='border:1px solid black;border-bottom-style: double;color:black;background-color:#BBBBBB'>\n",
       "      <center>0</center></th><th style='border:1px solid black;border-bottom-style: double;color:black;background-color:#BBBBBB'>\n",
       "      <center>1</center></th></tr>\n",
       "<tr><th style='border:1px solid black;color:black;background-color:#BBBBBB'><center>0</center></th><td style='color:black;background-color:#b4c964;text-align:right;padding: 3px;'>0.5787</td><td style='color:black;background-color:#c9b464;text-align:right;padding: 3px;'>0.4213</td></tr>\n",
       "<tr><th style='border:1px solid black;color:black;background-color:#BBBBBB'><center>1</center></th><td style='color:black;background-color:#c2bb64;text-align:right;padding: 3px;'>0.4705</td><td style='color:black;background-color:#bbc264;text-align:right;padding: 3px;'>0.5295</td></tr>\n",
       "</table><br><center><small><em>Impact</em></small></center></div>"
      ],
      "text/plain": [
       "<IPython.core.display.HTML object>"
      ]
     },
     "metadata": {},
     "output_type": "display_data"
    }
   ],
   "source": [
    "m6 = csl.CausalModel(e6)\n",
    "cslnb.showCausalImpact(m6, \"Y\", doing=\"X\",values={})"
   ]
  },
  {
   "cell_type": "code",
   "execution_count": 20,
   "metadata": {
    "execution": {
     "iopub.execute_input": "2024-07-27T15:58:01.010438Z",
     "iopub.status.busy": "2024-07-27T15:58:01.010332Z",
     "iopub.status.idle": "2024-07-27T15:58:01.014907Z",
     "shell.execute_reply": "2024-07-27T15:58:01.014691Z"
    }
   },
   "outputs": [
    {
     "name": "stdout",
     "output_type": "stream",
     "text": [
      "The set of variables which satisfies the back-door criterion for (X, Y) is : {'F', 'E', 'C', 'G'}\n"
     ]
    }
   ],
   "source": [
    "# This function returns the set of variables which satisfies the back-door criterion for (X, Y) \n",
    "# None if there are no back-door paths.\n",
    "setOfVars = m6.backDoor(\"X\",\"Y\")\n",
    "print(\"The set of variables which satisfies the back-door criterion for (X, Y) is :\", setOfVars)"
   ]
  },
  {
   "cell_type": "markdown",
   "metadata": {},
   "source": [
    "> Back-door paths are: <br>\n",
    "1) - $X \\leftarrow G \\rightarrow Y$ <br>\n",
    "2) - $X \\leftarrow E \\rightarrow Y$ and any other back-door paths that go through $E$ <br>\n",
    "3) - $X \\leftarrow F \\rightarrow Y$ and any other back-door paths that go through $F$ <br>\n",
    "4) - Blocked by collider $B$ :  $X \\leftarrow A \\rightarrow B \\leftarrow C \\rightarrow Y$ and any other back-door paths that go through $ A$ will go through $C$ <br>\n",
    "5) - $X \\leftarrow B \\leftarrow C \\rightarrow Y$ and any other back-door paths that go through $B$ will go through $C$<br><br>\n",
    "Two sets of variables that satisfy the back-door criterion are:\n",
    "* {$C$,$E$,$F$,$G$} blocking (1), (2), (3) and (5)\n",
    "* {$A$,$B$,$E$,$F$,$G$} blocking (1), (2), (3), (5), opening (4) and reblocking it.\n"
   ]
  },
  {
   "cell_type": "code",
   "execution_count": null,
   "metadata": {
    "editable": true,
    "slideshow": {
     "slide_type": ""
    },
    "tags": []
   },
   "outputs": [],
   "source": []
  }
 ],
 "metadata": {
  "kernelspec": {
   "display_name": "Python 3 (ipykernel)",
   "language": "python",
   "name": "python3"
  },
  "language_info": {
   "codemirror_mode": {
    "name": "ipython",
    "version": 3
   },
   "file_extension": ".py",
   "mimetype": "text/x-python",
   "name": "python",
   "nbconvert_exporter": "python",
   "pygments_lexer": "ipython3",
   "version": "3.12.4"
  }
 },
 "nbformat": 4,
 "nbformat_minor": 4
}
