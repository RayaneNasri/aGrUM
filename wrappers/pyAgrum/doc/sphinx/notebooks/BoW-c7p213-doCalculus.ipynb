{
 "cells": [
  {
   "cell_type": "markdown",
   "metadata": {},
   "source": [
    "<a href=\"http://agrum.org\" target=\"blank\"><img src=\"http://agrum.gitlab.io/theme/img/logoAgrum.png\" align=\"left\" style=\"height:100px\"/></a><a href=\"https://agrum.gitlab.io/pages/pyagrum.html\" target=\"blank\"><img src=\"https://agrum.gitlab.io/images/pyAgrum.png\" align=\"right\" style=\"height:75px\"/></a><a rel=\"license\" href=\"http://creativecommons.org/licenses/by-nc/4.0/\"><img alt=\"Creative Commons License\" style=\"border-width:0\" src=\"https://i.creativecommons.org/l/by-nc/4.0/88x31.png\" /></a><br />This pyAgrum's notebook is licensed under a <a rel=\"license\" href=\"http://creativecommons.org/licenses/by-nc/4.0/\">Creative Commons Attribution-NonCommercial 4.0 International License</a><br/>\n",
    "Author: <b>Aymen Merrouche</b> and Pierre-Henri Wuillemin."
   ]
  },
  {
   "cell_type": "markdown",
   "metadata": {},
   "source": [
    "<font size=\"+3\" color=\"GREEN\">**Do-caclculus**</font>\n",
    "#### This notebook follows the examples from \"The Book Of Why\" (Pearl, 2018) chapter 7 page 213. "
   ]
  },
  {
   "cell_type": "code",
   "execution_count": 1,
   "metadata": {
    "execution": {
     "iopub.execute_input": "2023-08-16T08:20:46.056012Z",
     "iopub.status.busy": "2023-08-16T08:20:46.055479Z",
     "iopub.status.idle": "2023-08-16T08:20:46.402724Z",
     "shell.execute_reply": "2023-08-16T08:20:46.401603Z",
     "shell.execute_reply.started": "2023-08-16T08:20:46.055973Z"
    }
   },
   "outputs": [],
   "source": [
    "from IPython.display import display, Math, Latex,HTML\n",
    "\n",
    "import pyAgrum as gum\n",
    "import pyAgrum.lib.notebook as gnb\n",
    "\n",
    "import pyAgrum.causal as csl\n",
    "import pyAgrum.causal.notebook as cslnb\n",
    "\n",
    "import os"
   ]
  },
  {
   "cell_type": "markdown",
   "metadata": {},
   "source": [
    "### We create the causal diagram:\n",
    "The corresponding causal diagram is the following:<br>\n",
    "> We're facing the following situation and we want to measure the causal effect of $X$ on $Y$:"
   ]
  },
  {
   "cell_type": "code",
   "execution_count": 2,
   "metadata": {
    "execution": {
     "iopub.execute_input": "2023-08-16T08:20:46.406037Z",
     "iopub.status.busy": "2023-08-16T08:20:46.405081Z",
     "iopub.status.idle": "2023-08-16T08:20:46.482340Z",
     "shell.execute_reply": "2023-08-16T08:20:46.480571Z",
     "shell.execute_reply.started": "2023-08-16T08:20:46.405999Z"
    }
   },
   "outputs": [
    {
     "data": {
      "text/html": [
       "<svg xmlns=\"http://www.w3.org/2000/svg\" xmlns:xlink=\"http://www.w3.org/1999/xlink\" width=\"102pt\" height=\"260pt\" viewBox=\"0.00 0.00 101.53 260.00\">\n",
       "<g id=\"graph0\" class=\"graph\" transform=\"scale(1 1) rotate(0) translate(4 256)\">\n",
       "<title>G</title>\n",
       "<!-- x -->\n",
       "<g id=\"node1\" class=\"node\">\n",
       "<title>x</title>\n",
       "<g id=\"a_node1\"><a xlink:title=\"(2) x\">\n",
       "<ellipse fill=\"#404040\" stroke=\"black\" cx=\"39.53\" cy=\"-90\" rx=\"27\" ry=\"18\"/>\n",
       "<text text-anchor=\"middle\" x=\"39.53\" y=\"-85.33\" font-family=\"Times,serif\" font-size=\"14.00\" fill=\"white\">x</text>\n",
       "</a>\n",
       "</g>\n",
       "</g>\n",
       "<!-- y -->\n",
       "<g id=\"node2\" class=\"node\">\n",
       "<title>y</title>\n",
       "<g id=\"a_node2\"><a xlink:title=\"(3) y\">\n",
       "<ellipse fill=\"#404040\" stroke=\"black\" cx=\"66.53\" cy=\"-18\" rx=\"27\" ry=\"18\"/>\n",
       "<text text-anchor=\"middle\" x=\"66.53\" y=\"-13.32\" font-family=\"Times,serif\" font-size=\"14.00\" fill=\"white\">y</text>\n",
       "</a>\n",
       "</g>\n",
       "</g>\n",
       "<!-- x&#45;&gt;y -->\n",
       "<g id=\"edge4\" class=\"edge\">\n",
       "<title>x-&gt;y</title>\n",
       "<g id=\"a_edge4\"><a xlink:title=\"2 → 3\">\n",
       "<path fill=\"none\" stroke=\"#4a4a4a\" d=\"M46.06,-72.05C49.08,-64.23 52.74,-54.75 56.12,-45.98\"/>\n",
       "<polygon fill=\"#4a4a4a\" stroke=\"#4a4a4a\" points=\"59.72,-47.38 60.05,-36.79 53.19,-44.86 59.72,-47.38\"/>\n",
       "</a>\n",
       "</g>\n",
       "</g>\n",
       "<!-- w -->\n",
       "<g id=\"node3\" class=\"node\">\n",
       "<title>w</title>\n",
       "<g id=\"a_node3\"><a xlink:title=\"(0) w\">\n",
       "<ellipse fill=\"#404040\" stroke=\"black\" cx=\"39.53\" cy=\"-234\" rx=\"27\" ry=\"18\"/>\n",
       "<text text-anchor=\"middle\" x=\"39.53\" y=\"-229.32\" font-family=\"Times,serif\" font-size=\"14.00\" fill=\"white\">w</text>\n",
       "</a>\n",
       "</g>\n",
       "</g>\n",
       "<!-- w&#45;&gt;x -->\n",
       "<g id=\"edge5\" class=\"edge\">\n",
       "<title>w-&gt;x</title>\n",
       "<g id=\"a_edge5\"><a xlink:title=\"0 → 2\">\n",
       "<path fill=\"none\" stroke=\"#4a4a4a\" d=\"M25.78,-218.07C17.57,-208.1 7.91,-194.25 3.53,-180 -1.18,-164.71 -1.18,-159.29 3.53,-144 6.74,-133.54 12.81,-123.29 19.05,-114.63\"/>\n",
       "<polygon fill=\"#4a4a4a\" stroke=\"#4a4a4a\" points=\"22.43,-116.98 25.78,-106.93 16.89,-112.7 22.43,-116.98\"/>\n",
       "</a>\n",
       "</g>\n",
       "</g>\n",
       "<!-- w&#45;&gt;y -->\n",
       "<g id=\"edge3\" class=\"edge\">\n",
       "<title>w-&gt;y</title>\n",
       "<g id=\"a_edge3\"><a xlink:title=\"0 → 3\">\n",
       "<path fill=\"none\" stroke=\"#4a4a4a\" d=\"M53.28,-218.07C61.49,-208.1 71.15,-194.25 75.53,-180 89.44,-134.76 81.05,-79.05 73.75,-46.44\"/>\n",
       "<polygon fill=\"#4a4a4a\" stroke=\"#4a4a4a\" points=\"76.97,-45.84 71.25,-36.92 70.16,-47.46 76.97,-45.84\"/>\n",
       "</a>\n",
       "</g>\n",
       "</g>\n",
       "<!-- z -->\n",
       "<g id=\"node4\" class=\"node\">\n",
       "<title>z</title>\n",
       "<g id=\"a_node4\"><a xlink:title=\"(1) z\">\n",
       "<ellipse fill=\"#404040\" stroke=\"black\" cx=\"39.53\" cy=\"-162\" rx=\"27\" ry=\"18\"/>\n",
       "<text text-anchor=\"middle\" x=\"39.53\" y=\"-157.32\" font-family=\"Times,serif\" font-size=\"14.00\" fill=\"white\">z</text>\n",
       "</a>\n",
       "</g>\n",
       "</g>\n",
       "<!-- w&#45;&gt;z -->\n",
       "<g id=\"edge1\" class=\"edge\">\n",
       "<title>w-&gt;z</title>\n",
       "<g id=\"a_edge1\"><a xlink:title=\"0 → 1\">\n",
       "<path fill=\"none\" stroke=\"#4a4a4a\" d=\"M39.53,-215.7C39.53,-208.24 39.53,-199.32 39.53,-190.97\"/>\n",
       "<polygon fill=\"#4a4a4a\" stroke=\"#4a4a4a\" points=\"43.03,-191.1 39.53,-181.1 36.03,-191.1 43.03,-191.1\"/>\n",
       "</a>\n",
       "</g>\n",
       "</g>\n",
       "<!-- z&#45;&gt;x -->\n",
       "<g id=\"edge2\" class=\"edge\">\n",
       "<title>z-&gt;x</title>\n",
       "<g id=\"a_edge2\"><a xlink:title=\"1 → 2\">\n",
       "<path fill=\"none\" stroke=\"#4a4a4a\" d=\"M39.53,-143.7C39.53,-136.24 39.53,-127.32 39.53,-118.97\"/>\n",
       "<polygon fill=\"#4a4a4a\" stroke=\"#4a4a4a\" points=\"43.03,-119.1 39.53,-109.1 36.03,-119.1 43.03,-119.1\"/>\n",
       "</a>\n",
       "</g>\n",
       "</g>\n",
       "</g>\n",
       "</svg>"
      ],
      "text/plain": [
       "(pyAgrum.BayesNet<double>@0x559f1e55ec20) BN{nodes: 4, arcs: 5, domainSize: 16, dim: 11, mem: 176o}"
      ]
     },
     "execution_count": 2,
     "metadata": {},
     "output_type": "execute_result"
    }
   ],
   "source": [
    "fd = gum.fastBN(\"w->z->x->y;w->x;w->y\")\n",
    "fd"
   ]
  },
  {
   "cell_type": "markdown",
   "metadata": {},
   "source": [
    "> We suspect the presence of some <b>unmeasured</b> confounders, that could explain the correlation between $W$ and $X$ and between $W$ and $Y$:"
   ]
  },
  {
   "cell_type": "code",
   "execution_count": 3,
   "metadata": {
    "execution": {
     "iopub.execute_input": "2023-08-16T08:20:46.484324Z",
     "iopub.status.busy": "2023-08-16T08:20:46.483901Z",
     "iopub.status.idle": "2023-08-16T08:20:46.643943Z",
     "shell.execute_reply": "2023-08-16T08:20:46.642587Z",
     "shell.execute_reply.started": "2023-08-16T08:20:46.484284Z"
    }
   },
   "outputs": [
    {
     "data": {
      "text/html": [
       "<svg xmlns=\"http://www.w3.org/2000/svg\" xmlns:xlink=\"http://www.w3.org/1999/xlink\" width=\"65pt\" height=\"180pt\" viewBox=\"0.00 0.00 64.52 180.00\">\n",
       "<g id=\"graph0\" class=\"graph\" transform=\"scale(0.600801 0.600801) rotate(0) translate(4 295.6)\">\n",
       "<title>G</title>\n",
       "<!-- u1 -->\n",
       "<g id=\"node1\" class=\"node\">\n",
       "<title>u1</title>\n",
       "<ellipse fill=\"#404040\" stroke=\"#4a4a4a\" cx=\"26.39\" cy=\"-289.8\" rx=\"1.8\" ry=\"1.8\"/>\n",
       "</g>\n",
       "<!-- w -->\n",
       "<g id=\"node3\" class=\"node\">\n",
       "<title>w</title>\n",
       "<ellipse fill=\"#404040\" stroke=\"#4a4a4a\" cx=\"45.39\" cy=\"-234\" rx=\"27\" ry=\"18\"/>\n",
       "<text text-anchor=\"middle\" x=\"45.39\" y=\"-229.32\" font-family=\"Times,serif\" font-size=\"14.00\" fill=\"white\">w</text>\n",
       "</g>\n",
       "<!-- u1&#45;&gt;w -->\n",
       "<g id=\"edge3\" class=\"edge\">\n",
       "<title>u1-&gt;w</title>\n",
       "<path fill=\"none\" stroke=\"#4a4a4a\" stroke-dasharray=\"5,2\" d=\"M26.72,-287.87C27.87,-284.62 31.83,-273.4 35.81,-262.13\"/>\n",
       "<polygon fill=\"#4a4a4a\" stroke=\"#4a4a4a\" points=\"39.36,-263.58 39.39,-252.99 32.76,-261.25 39.36,-263.58\"/>\n",
       "</g>\n",
       "<!-- x -->\n",
       "<g id=\"node5\" class=\"node\">\n",
       "<title>x</title>\n",
       "<ellipse fill=\"#404040\" stroke=\"#4a4a4a\" cx=\"45.39\" cy=\"-90\" rx=\"27\" ry=\"18\"/>\n",
       "<text text-anchor=\"middle\" x=\"45.39\" y=\"-85.33\" font-family=\"Times,serif\" font-size=\"14.00\" fill=\"white\">x</text>\n",
       "</g>\n",
       "<!-- u1&#45;&gt;x -->\n",
       "<g id=\"edge4\" class=\"edge\">\n",
       "<title>u1-&gt;x</title>\n",
       "<path fill=\"none\" stroke=\"#4a4a4a\" stroke-dasharray=\"5,2\" d=\"M25.68,-287.72C22.88,-283.43 12.72,-267.12 9.39,-252 -0.91,-205.12 -4.72,-189.88 9.39,-144 12.61,-133.54 18.67,-123.29 24.92,-114.63\"/>\n",
       "<polygon fill=\"#4a4a4a\" stroke=\"#4a4a4a\" points=\"28.3,-116.98 31.64,-106.93 22.76,-112.7 28.3,-116.98\"/>\n",
       "</g>\n",
       "<!-- u2 -->\n",
       "<g id=\"node2\" class=\"node\">\n",
       "<title>u2</title>\n",
       "<ellipse fill=\"#404040\" stroke=\"#4a4a4a\" cx=\"64.39\" cy=\"-289.8\" rx=\"1.8\" ry=\"1.8\"/>\n",
       "</g>\n",
       "<!-- u2&#45;&gt;w -->\n",
       "<g id=\"edge6\" class=\"edge\">\n",
       "<title>u2-&gt;w</title>\n",
       "<path fill=\"none\" stroke=\"#4a4a4a\" stroke-dasharray=\"5,2\" d=\"M64.06,-287.87C62.92,-284.62 58.95,-273.4 54.97,-262.13\"/>\n",
       "<polygon fill=\"#4a4a4a\" stroke=\"#4a4a4a\" points=\"58.02,-261.25 51.39,-252.99 51.42,-263.58 58.02,-261.25\"/>\n",
       "</g>\n",
       "<!-- y -->\n",
       "<g id=\"node6\" class=\"node\">\n",
       "<title>y</title>\n",
       "<ellipse fill=\"#404040\" stroke=\"#4a4a4a\" cx=\"72.39\" cy=\"-18\" rx=\"27\" ry=\"18\"/>\n",
       "<text text-anchor=\"middle\" x=\"72.39\" y=\"-13.32\" font-family=\"Times,serif\" font-size=\"14.00\" fill=\"white\">y</text>\n",
       "</g>\n",
       "<!-- u2&#45;&gt;y -->\n",
       "<g id=\"edge7\" class=\"edge\">\n",
       "<title>u2-&gt;y</title>\n",
       "<path fill=\"none\" stroke=\"#4a4a4a\" stroke-dasharray=\"5,2\" d=\"M65.11,-287.72C67.9,-283.43 78.07,-267.12 81.39,-252 98.57,-173.87 88.11,-151.72 81.39,-72 80.7,-63.78 79.41,-54.92 78.03,-46.85\"/>\n",
       "<polygon fill=\"#4a4a4a\" stroke=\"#4a4a4a\" points=\"81.3,-46.29 76.05,-37.09 74.41,-47.56 81.3,-46.29\"/>\n",
       "</g>\n",
       "<!-- z -->\n",
       "<g id=\"node4\" class=\"node\">\n",
       "<title>z</title>\n",
       "<ellipse fill=\"#404040\" stroke=\"#4a4a4a\" cx=\"45.39\" cy=\"-162\" rx=\"27\" ry=\"18\"/>\n",
       "<text text-anchor=\"middle\" x=\"45.39\" y=\"-157.32\" font-family=\"Times,serif\" font-size=\"14.00\" fill=\"white\">z</text>\n",
       "</g>\n",
       "<!-- w&#45;&gt;z -->\n",
       "<g id=\"edge1\" class=\"edge\">\n",
       "<title>w-&gt;z</title>\n",
       "<path fill=\"none\" stroke=\"#4a4a4a\" d=\"M44.39,-215.7C44.39,-208.24 44.39,-199.32 44.39,-190.97\"/>\n",
       "<path fill=\"none\" stroke=\"#4a4a4a\" d=\"M46.39,-215.7C46.39,-208.24 46.39,-199.32 46.39,-190.97\"/>\n",
       "<polygon fill=\"#4a4a4a\" stroke=\"#4a4a4a\" points=\"48.89,-191.1 45.39,-181.1 41.89,-191.1 48.89,-191.1\"/>\n",
       "</g>\n",
       "<!-- z&#45;&gt;x -->\n",
       "<g id=\"edge2\" class=\"edge\">\n",
       "<title>z-&gt;x</title>\n",
       "<path fill=\"none\" stroke=\"#4a4a4a\" d=\"M44.39,-143.7C44.39,-136.24 44.39,-127.32 44.39,-118.97\"/>\n",
       "<path fill=\"none\" stroke=\"#4a4a4a\" d=\"M46.39,-143.7C46.39,-136.24 46.39,-127.32 46.39,-118.97\"/>\n",
       "<polygon fill=\"#4a4a4a\" stroke=\"#4a4a4a\" points=\"48.89,-119.1 45.39,-109.1 41.89,-119.1 48.89,-119.1\"/>\n",
       "</g>\n",
       "<!-- x&#45;&gt;y -->\n",
       "<g id=\"edge5\" class=\"edge\">\n",
       "<title>x-&gt;y</title>\n",
       "<path fill=\"none\" stroke=\"#4a4a4a\" d=\"M51,-71.7C54.01,-63.87 57.67,-54.39 61.05,-45.62\"/>\n",
       "<path fill=\"none\" stroke=\"#4a4a4a\" d=\"M52.86,-72.41C55.88,-64.59 59.54,-55.11 62.92,-46.34\"/>\n",
       "<polygon fill=\"#4a4a4a\" stroke=\"#4a4a4a\" points=\"65.58,-47.38 65.92,-36.79 59.05,-44.86 65.58,-47.38\"/>\n",
       "</g>\n",
       "</g>\n",
       "</svg>"
      ],
      "text/plain": [
       "<pyAgrum.causal._CausalModel.CausalModel at 0x7f1708d84790>"
      ]
     },
     "execution_count": 3,
     "metadata": {},
     "output_type": "execute_result"
    }
   ],
   "source": [
    "fdModele = csl.CausalModel(fd, [(\"u1\", [\"w\",\"x\"]),(\"u2\", [\"w\",\"y\"])],False) #(<latent variable name>, <list of affected variables’ ids>).\n",
    "fdModele"
   ]
  },
  {
   "cell_type": "markdown",
   "metadata": {},
   "source": [
    "### Even with two umeausred confounders :"
   ]
  },
  {
   "cell_type": "markdown",
   "metadata": {},
   "source": [
    "> * We can measure the causal effect of $Z$ on $Y$ using the back-door adjustment:"
   ]
  },
  {
   "cell_type": "code",
   "execution_count": 4,
   "metadata": {
    "execution": {
     "iopub.execute_input": "2023-08-16T08:20:46.645250Z",
     "iopub.status.busy": "2023-08-16T08:20:46.645015Z",
     "iopub.status.idle": "2023-08-16T08:20:46.650007Z",
     "shell.execute_reply": "2023-08-16T08:20:46.649312Z",
     "shell.execute_reply.started": "2023-08-16T08:20:46.645227Z"
    }
   },
   "outputs": [
    {
     "name": "stdout",
     "output_type": "stream",
     "text": [
      " + Back-door doing Z on Y :{'w'}\n"
     ]
    }
   ],
   "source": [
    "print(\" + Back-door doing Z on Y :\"+str(fdModele.backDoor(\"z\",\"y\")))"
   ]
  },
  {
   "cell_type": "markdown",
   "metadata": {},
   "source": [
    "> * We can measure the causal effect of $W$ on $X$ using the front-door formula:"
   ]
  },
  {
   "cell_type": "code",
   "execution_count": 5,
   "metadata": {
    "execution": {
     "iopub.execute_input": "2023-08-16T08:20:46.650952Z",
     "iopub.status.busy": "2023-08-16T08:20:46.650749Z",
     "iopub.status.idle": "2023-08-16T08:20:46.675295Z",
     "shell.execute_reply": "2023-08-16T08:20:46.674188Z",
     "shell.execute_reply.started": "2023-08-16T08:20:46.650931Z"
    }
   },
   "outputs": [
    {
     "name": "stdout",
     "output_type": "stream",
     "text": [
      " + Front-door doing W on X :{'z'}\n"
     ]
    }
   ],
   "source": [
    "print(\" + Front-door doing W on X :\"+str(fdModele.frontDoor(\"w\",\"x\")))"
   ]
  },
  {
   "cell_type": "markdown",
   "metadata": {},
   "source": [
    "> * In order to measure the causal effect of $X$ on $Y$, we can use neither the back-door adjustment nor the front-door formula:"
   ]
  },
  {
   "cell_type": "code",
   "execution_count": 6,
   "metadata": {
    "execution": {
     "iopub.execute_input": "2023-08-16T08:20:46.676955Z",
     "iopub.status.busy": "2023-08-16T08:20:46.676591Z",
     "iopub.status.idle": "2023-08-16T08:20:46.691736Z",
     "shell.execute_reply": "2023-08-16T08:20:46.690615Z",
     "shell.execute_reply.started": "2023-08-16T08:20:46.676920Z"
    }
   },
   "outputs": [
    {
     "name": "stdout",
     "output_type": "stream",
     "text": [
      " + Backdoor doing X on Y :None\n",
      " + Frontdoor doing X on Y :None\n"
     ]
    }
   ],
   "source": [
    "print(\" + Backdoor doing X on Y :\"+str(fdModele.backDoor(\"x\",\"y\")))\n",
    "print(\" + Frontdoor doing X on Y :\"+str(fdModele.frontDoor(\"x\",\"y\")))"
   ]
  },
  {
   "cell_type": "markdown",
   "metadata": {},
   "source": [
    "> * In this case, the only way to measure the causal effect of $X$ on $Y$ is to use the do-calculus:"
   ]
  },
  {
   "cell_type": "code",
   "execution_count": 7,
   "metadata": {
    "execution": {
     "iopub.execute_input": "2023-08-16T08:20:46.695126Z",
     "iopub.status.busy": "2023-08-16T08:20:46.694416Z",
     "iopub.status.idle": "2023-08-16T08:20:46.828884Z",
     "shell.execute_reply": "2023-08-16T08:20:46.827944Z",
     "shell.execute_reply.started": "2023-08-16T08:20:46.695086Z"
    }
   },
   "outputs": [
    {
     "data": {
      "text/html": [
       "\n",
       "      <style>\n",
       "      .floating-box {\n",
       "      display: inline-block;\n",
       "      margin: 7px;\n",
       "      padding : 3px;\n",
       "      border: 0px solid transparent;  \n",
       "      valign:middle;\n",
       "      background-color: transparent;\n",
       "      }\n",
       "      </style>\n",
       "      <div class=\"floating-box\"><svg xmlns=\"http://www.w3.org/2000/svg\" xmlns:xlink=\"http://www.w3.org/1999/xlink\" width=\"65pt\" height=\"180pt\" viewBox=\"0.00 0.00 64.52 180.00\">\n",
       "<g id=\"graph0\" class=\"graph\" transform=\"scale(0.600801 0.600801) rotate(0) translate(4 295.6)\">\n",
       "<title>G</title>\n",
       "<!-- u1 -->\n",
       "<g id=\"node1\" class=\"node\">\n",
       "<title>u1</title>\n",
       "<ellipse fill=\"#404040\" stroke=\"#4a4a4a\" cx=\"26.39\" cy=\"-289.8\" rx=\"1.8\" ry=\"1.8\"/>\n",
       "</g>\n",
       "<!-- w -->\n",
       "<g id=\"node3\" class=\"node\">\n",
       "<title>w</title>\n",
       "<ellipse fill=\"#404040\" stroke=\"#4a4a4a\" cx=\"45.39\" cy=\"-234\" rx=\"27\" ry=\"18\"/>\n",
       "<text text-anchor=\"middle\" x=\"45.39\" y=\"-229.32\" font-family=\"Times,serif\" font-size=\"14.00\" fill=\"white\">w</text>\n",
       "</g>\n",
       "<!-- u1&#45;&gt;w -->\n",
       "<g id=\"edge3\" class=\"edge\">\n",
       "<title>u1-&gt;w</title>\n",
       "<path fill=\"none\" stroke=\"#4a4a4a\" stroke-dasharray=\"5,2\" d=\"M26.72,-287.87C27.87,-284.62 31.83,-273.4 35.81,-262.13\"/>\n",
       "<polygon fill=\"#4a4a4a\" stroke=\"#4a4a4a\" points=\"39.36,-263.58 39.39,-252.99 32.76,-261.25 39.36,-263.58\"/>\n",
       "</g>\n",
       "<!-- x -->\n",
       "<g id=\"node5\" class=\"node\">\n",
       "<title>x</title>\n",
       "<ellipse fill=\"#404040\" stroke=\"#4a4a4a\" cx=\"45.39\" cy=\"-90\" rx=\"27\" ry=\"18\"/>\n",
       "<text text-anchor=\"middle\" x=\"45.39\" y=\"-85.33\" font-family=\"Times,serif\" font-size=\"14.00\" fill=\"white\">x</text>\n",
       "</g>\n",
       "<!-- u1&#45;&gt;x -->\n",
       "<g id=\"edge4\" class=\"edge\">\n",
       "<title>u1-&gt;x</title>\n",
       "<path fill=\"none\" stroke=\"#4a4a4a\" stroke-dasharray=\"5,2\" d=\"M25.68,-287.72C22.88,-283.43 12.72,-267.12 9.39,-252 -0.91,-205.12 -4.72,-189.88 9.39,-144 12.61,-133.54 18.67,-123.29 24.92,-114.63\"/>\n",
       "<polygon fill=\"#4a4a4a\" stroke=\"#4a4a4a\" points=\"28.3,-116.98 31.64,-106.93 22.76,-112.7 28.3,-116.98\"/>\n",
       "</g>\n",
       "<!-- u2 -->\n",
       "<g id=\"node2\" class=\"node\">\n",
       "<title>u2</title>\n",
       "<ellipse fill=\"#404040\" stroke=\"#4a4a4a\" cx=\"64.39\" cy=\"-289.8\" rx=\"1.8\" ry=\"1.8\"/>\n",
       "</g>\n",
       "<!-- u2&#45;&gt;w -->\n",
       "<g id=\"edge6\" class=\"edge\">\n",
       "<title>u2-&gt;w</title>\n",
       "<path fill=\"none\" stroke=\"#4a4a4a\" stroke-dasharray=\"5,2\" d=\"M64.06,-287.87C62.92,-284.62 58.95,-273.4 54.97,-262.13\"/>\n",
       "<polygon fill=\"#4a4a4a\" stroke=\"#4a4a4a\" points=\"58.02,-261.25 51.39,-252.99 51.42,-263.58 58.02,-261.25\"/>\n",
       "</g>\n",
       "<!-- y -->\n",
       "<g id=\"node6\" class=\"node\">\n",
       "<title>y</title>\n",
       "<ellipse fill=\"#404040\" stroke=\"#4a4a4a\" cx=\"72.39\" cy=\"-18\" rx=\"27\" ry=\"18\"/>\n",
       "<text text-anchor=\"middle\" x=\"72.39\" y=\"-13.32\" font-family=\"Times,serif\" font-size=\"14.00\" fill=\"white\">y</text>\n",
       "</g>\n",
       "<!-- u2&#45;&gt;y -->\n",
       "<g id=\"edge7\" class=\"edge\">\n",
       "<title>u2-&gt;y</title>\n",
       "<path fill=\"none\" stroke=\"#4a4a4a\" stroke-dasharray=\"5,2\" d=\"M65.11,-287.72C67.9,-283.43 78.07,-267.12 81.39,-252 98.57,-173.87 88.11,-151.72 81.39,-72 80.7,-63.78 79.41,-54.92 78.03,-46.85\"/>\n",
       "<polygon fill=\"#4a4a4a\" stroke=\"#4a4a4a\" points=\"81.3,-46.29 76.05,-37.09 74.41,-47.56 81.3,-46.29\"/>\n",
       "</g>\n",
       "<!-- z -->\n",
       "<g id=\"node4\" class=\"node\">\n",
       "<title>z</title>\n",
       "<ellipse fill=\"#404040\" stroke=\"#4a4a4a\" cx=\"45.39\" cy=\"-162\" rx=\"27\" ry=\"18\"/>\n",
       "<text text-anchor=\"middle\" x=\"45.39\" y=\"-157.32\" font-family=\"Times,serif\" font-size=\"14.00\" fill=\"white\">z</text>\n",
       "</g>\n",
       "<!-- w&#45;&gt;z -->\n",
       "<g id=\"edge1\" class=\"edge\">\n",
       "<title>w-&gt;z</title>\n",
       "<path fill=\"none\" stroke=\"#4a4a4a\" d=\"M44.39,-215.7C44.39,-208.24 44.39,-199.32 44.39,-190.97\"/>\n",
       "<path fill=\"none\" stroke=\"#4a4a4a\" d=\"M46.39,-215.7C46.39,-208.24 46.39,-199.32 46.39,-190.97\"/>\n",
       "<polygon fill=\"#4a4a4a\" stroke=\"#4a4a4a\" points=\"48.89,-191.1 45.39,-181.1 41.89,-191.1 48.89,-191.1\"/>\n",
       "</g>\n",
       "<!-- z&#45;&gt;x -->\n",
       "<g id=\"edge2\" class=\"edge\">\n",
       "<title>z-&gt;x</title>\n",
       "<path fill=\"none\" stroke=\"#4a4a4a\" d=\"M44.39,-143.7C44.39,-136.24 44.39,-127.32 44.39,-118.97\"/>\n",
       "<path fill=\"none\" stroke=\"#4a4a4a\" d=\"M46.39,-143.7C46.39,-136.24 46.39,-127.32 46.39,-118.97\"/>\n",
       "<polygon fill=\"#4a4a4a\" stroke=\"#4a4a4a\" points=\"48.89,-119.1 45.39,-109.1 41.89,-119.1 48.89,-119.1\"/>\n",
       "</g>\n",
       "<!-- x&#45;&gt;y -->\n",
       "<g id=\"edge5\" class=\"edge\">\n",
       "<title>x-&gt;y</title>\n",
       "<path fill=\"none\" stroke=\"#4a4a4a\" d=\"M51,-71.7C54.01,-63.87 57.67,-54.39 61.05,-45.62\"/>\n",
       "<path fill=\"none\" stroke=\"#4a4a4a\" d=\"M52.86,-72.41C55.88,-64.59 59.54,-55.11 62.92,-46.34\"/>\n",
       "<polygon fill=\"#4a4a4a\" stroke=\"#4a4a4a\" points=\"65.58,-47.38 65.92,-36.79 59.05,-44.86 65.58,-47.38\"/>\n",
       "</g>\n",
       "</g>\n",
       "</svg><br><center><small><em>Causal Model</em></small></center></div><div class=\"floating-box\">$$\\begin{equation*}P( y \\mid \\text{do}(x)) =  \\frac {\\sum_{w}{P\\left(y\\mid w,x,z\\right) \\cdot P\\left(w\\right) \\cdot P\\left(x\\mid w,z\\right)}}{\\sum_{w,y'}{P\\left(y'\\mid w,x,z\\right) \\cdot P\\left(w\\right) \\cdot P\\left(x\\mid w,z\\right)}}\\end{equation*}$$<br><center><small><em>Explanation : Do-calculus computations</em></small></center></div><div class=\"floating-box\"><table style=\"border:1px solid black;\">\n",
       "<tr><th colspan='2'></th>\n",
       "      <th colspan='2' style='border:1px solid black;color:black;background-color:#808080;'><center>y</center>\n",
       "      </th></tr>\n",
       "<tr><th style='border:1px solid black;color:black;background-color:#808080'><center>z</center></th><th style='border:1px solid black;color:black;background-color:#808080'><center>x</center></th><th style='border:1px solid black;border-bottom-style: double;color:black;background-color:#BBBBBB'>\n",
       "      <center>0</center></th><th style='border:1px solid black;border-bottom-style: double;color:black;background-color:#BBBBBB'>\n",
       "      <center>1</center></th></tr>\n",
       "<tr><th style='border:1px solid black;color:black;background-color:#BBBBBB;' rowspan = '2'>\n",
       "            <center>0</center></th><th style='border:1px solid black;color:black;background-color:#BBBBBB'><center>0</center></th><td style='color:black;background-color:#89f464;text-align:right;'>0.9212</td><td style='color:black;background-color:#f48964;text-align:right;'>0.0788</td></tr>\n",
       "<tr><th style='border:1px solid black;color:black;background-color:#BBBBBB'><center>1</center></th><td style='color:black;background-color:#abd264;text-align:right;'>0.6547</td><td style='color:black;background-color:#d2ab64;text-align:right;'>0.3453</td></tr>\n",
       "<tr><th style='border:1px solid black;color:black;background-color:#BBBBBB;' rowspan = '2'>\n",
       "            <center>1</center></th><th style='border:1px solid black;color:black;background-color:#BBBBBB'><center>0</center></th><td style='color:black;background-color:#a1dc64;text-align:right;'>0.7340</td><td style='color:black;background-color:#dca164;text-align:right;'>0.2660</td></tr>\n",
       "<tr><th style='border:1px solid black;color:black;background-color:#BBBBBB'><center>1</center></th><td style='color:black;background-color:#bcc164;text-align:right;'>0.5213</td><td style='color:black;background-color:#c1bc64;text-align:right;'>0.4787</td></tr>\n",
       "</table><br><center><small><em>Impact</em></small></center></div>"
      ],
      "text/plain": [
       "<IPython.core.display.HTML object>"
      ]
     },
     "metadata": {},
     "output_type": "display_data"
    }
   ],
   "source": [
    "cslnb.showCausalImpact(fdModele,on=\"y\",doing=\"x\")"
   ]
  },
  {
   "cell_type": "code",
   "execution_count": null,
   "metadata": {},
   "outputs": [],
   "source": []
  }
 ],
 "metadata": {
  "kernelspec": {
   "display_name": "Python 3 (ipykernel)",
   "language": "python",
   "name": "python3"
  },
  "language_info": {
   "codemirror_mode": {
    "name": "ipython",
    "version": 3
   },
   "file_extension": ".py",
   "mimetype": "text/x-python",
   "name": "python",
   "nbconvert_exporter": "python",
   "pygments_lexer": "ipython3",
   "version": "3.11.3"
  }
 },
 "nbformat": 4,
 "nbformat_minor": 4
}
