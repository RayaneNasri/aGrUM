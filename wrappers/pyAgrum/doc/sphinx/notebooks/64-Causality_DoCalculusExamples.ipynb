{
 "cells": [
  {
   "cell_type": "markdown",
   "metadata": {},
   "source": [
    "# Some examples of do-calculus"
   ]
  },
  {
   "cell_type": "markdown",
   "metadata": {},
   "source": [
    "| | | |\n",
    "|-|-|-|\n",
    "|[ ![Creative Commons License](images/cc4.png)](http://creativecommons.org/licenses/by-nc/4.0/) |[ ![aGrUM](images/logoAgrum.png)](https://agrum.org) |[ ![interactive online version](images/atbinder.svg)](https://agrum.gitlab.io/extra/agrum_at_binder.html)"
   ]
  },
  {
   "cell_type": "code",
   "execution_count": 1,
   "metadata": {
    "ExecuteTime": {
     "end_time": "2019-03-30T09:47:26.455586Z",
     "start_time": "2019-03-30T09:47:26.223653Z"
    },
    "execution": {
     "iopub.execute_input": "2023-07-25T08:47:45.179407Z",
     "iopub.status.busy": "2023-07-25T08:47:45.179060Z",
     "iopub.status.idle": "2023-07-25T08:47:45.512950Z",
     "shell.execute_reply": "2023-07-25T08:47:45.512085Z",
     "shell.execute_reply.started": "2023-07-25T08:47:45.179370Z"
    }
   },
   "outputs": [],
   "source": [
    "from IPython.display import display, Math, Latex, HTML\n",
    "\n",
    "import pyAgrum as gum\n",
    "import pyAgrum.lib.notebook as gnb\n",
    "import pyAgrum.causal as csl\n",
    "import pyAgrum.causal.notebook as cslnb"
   ]
  },
  {
   "cell_type": "markdown",
   "metadata": {},
   "source": [
    "## S. Tikka and J. Karvanen, 2016 [CRAN]"
   ]
  },
  {
   "cell_type": "code",
   "execution_count": 2,
   "metadata": {
    "ExecuteTime": {
     "end_time": "2019-03-30T09:47:30.296100Z",
     "start_time": "2019-03-30T09:47:26.457764Z"
    },
    "execution": {
     "iopub.execute_input": "2023-07-25T08:47:45.516078Z",
     "iopub.status.busy": "2023-07-25T08:47:45.515187Z",
     "iopub.status.idle": "2023-07-25T08:47:45.824044Z",
     "shell.execute_reply": "2023-07-25T08:47:45.823358Z",
     "shell.execute_reply.started": "2023-07-25T08:47:45.516030Z"
    }
   },
   "outputs": [
    {
     "data": {
      "text/html": [
       "\n",
       "      <style>\n",
       "      .floating-box {\n",
       "      display: inline-block;\n",
       "      margin: 7px;\n",
       "      padding : 3px;\n",
       "      border: 0px solid transparent;  \n",
       "      valign:middle;\n",
       "      background-color: transparent;\n",
       "      }\n",
       "      </style>\n",
       "      <div class=\"floating-box\"><svg xmlns=\"http://www.w3.org/2000/svg\" xmlns:xlink=\"http://www.w3.org/1999/xlink\" width=\"80pt\" height=\"180pt\" viewBox=\"0.00 0.00 79.62 180.00\">\n",
       "<g id=\"graph0\" class=\"graph\" transform=\"scale(0.692308 0.692308) rotate(0) translate(4 256)\">\n",
       "<title>G</title>\n",
       "<!-- lat1 -->\n",
       "<g id=\"node1\" class=\"node\">\n",
       "<title>lat1</title>\n",
       "<ellipse fill=\"#404040\" stroke=\"#4a4a4a\" cx=\"29\" cy=\"-234\" rx=\"1.8\" ry=\"1.8\"/>\n",
       "</g>\n",
       "<!-- x -->\n",
       "<g id=\"node3\" class=\"node\">\n",
       "<title>x</title>\n",
       "<ellipse fill=\"#404040\" stroke=\"#4a4a4a\" cx=\"55\" cy=\"-162\" rx=\"27\" ry=\"18\"/>\n",
       "<text text-anchor=\"middle\" x=\"55\" y=\"-157.32\" font-family=\"Times,serif\" font-size=\"14.00\" fill=\"white\">x</text>\n",
       "</g>\n",
       "<!-- lat1&#45;&gt;x -->\n",
       "<g id=\"edge6\" class=\"edge\">\n",
       "<title>lat1-&gt;x</title>\n",
       "<path fill=\"none\" stroke=\"#4a4a4a\" stroke-dasharray=\"5,2\" d=\"M29.45,-231.79C31.32,-226.76 38.62,-207.09 44.95,-190.07\"/>\n",
       "<polygon fill=\"#4a4a4a\" stroke=\"#4a4a4a\" points=\"48.5,-191.55 48.7,-180.96 41.94,-189.12 48.5,-191.55\"/>\n",
       "</g>\n",
       "<!-- y -->\n",
       "<g id=\"node5\" class=\"node\">\n",
       "<title>y</title>\n",
       "<ellipse fill=\"#404040\" stroke=\"#4a4a4a\" cx=\"27\" cy=\"-18\" rx=\"27\" ry=\"18\"/>\n",
       "<text text-anchor=\"middle\" x=\"27\" y=\"-13.32\" font-family=\"Times,serif\" font-size=\"14.00\" fill=\"white\">y</text>\n",
       "</g>\n",
       "<!-- lat1&#45;&gt;y -->\n",
       "<g id=\"edge3\" class=\"edge\">\n",
       "<title>lat1-&gt;y</title>\n",
       "<path fill=\"none\" stroke=\"#4a4a4a\" stroke-dasharray=\"5,2\" d=\"M28.81,-232.26C27.59,-227.58 21.02,-201.63 19,-180 14.53,-132.21 15.41,-119.87 19,-72 19.62,-63.8 20.76,-54.95 21.99,-46.87\"/>\n",
       "<polygon fill=\"#4a4a4a\" stroke=\"#4a4a4a\" points=\"25.59,-47.55 23.75,-37.11 18.68,-46.42 25.59,-47.55\"/>\n",
       "</g>\n",
       "<!-- w -->\n",
       "<g id=\"node2\" class=\"node\">\n",
       "<title>w</title>\n",
       "<ellipse fill=\"#404040\" stroke=\"#4a4a4a\" cx=\"80\" cy=\"-234\" rx=\"27\" ry=\"18\"/>\n",
       "<text text-anchor=\"middle\" x=\"80\" y=\"-229.32\" font-family=\"Times,serif\" font-size=\"14.00\" fill=\"white\">w</text>\n",
       "</g>\n",
       "<!-- w&#45;&gt;x -->\n",
       "<g id=\"edge1\" class=\"edge\">\n",
       "<title>w-&gt;x</title>\n",
       "<path fill=\"none\" stroke=\"#4a4a4a\" d=\"M73.01,-216.39C70.21,-208.57 66.83,-199.08 63.69,-190.31\"/>\n",
       "<path fill=\"none\" stroke=\"#4a4a4a\" d=\"M74.89,-215.72C72.1,-207.89 68.71,-198.41 65.58,-189.64\"/>\n",
       "<polygon fill=\"#4a4a4a\" stroke=\"#4a4a4a\" points=\"67.66,-189.03 61,-180.79 61.06,-191.38 67.66,-189.03\"/>\n",
       "</g>\n",
       "<!-- z -->\n",
       "<g id=\"node4\" class=\"node\">\n",
       "<title>z</title>\n",
       "<ellipse fill=\"#404040\" stroke=\"#4a4a4a\" cx=\"55\" cy=\"-90\" rx=\"27\" ry=\"18\"/>\n",
       "<text text-anchor=\"middle\" x=\"55\" y=\"-85.33\" font-family=\"Times,serif\" font-size=\"14.00\" fill=\"white\">z</text>\n",
       "</g>\n",
       "<!-- w&#45;&gt;z -->\n",
       "<g id=\"edge5\" class=\"edge\">\n",
       "<title>w-&gt;z</title>\n",
       "<path fill=\"none\" stroke=\"#4a4a4a\" d=\"M85.19,-215.93C90.9,-197.85 97.53,-168.19 90.04,-144.29 86.92,-134.05 80.86,-123.8 74.66,-115.22\"/>\n",
       "<path fill=\"none\" stroke=\"#4a4a4a\" d=\"M87.1,-216.54C92.86,-198.28 99.48,-168.62 91.96,-143.71 88.64,-133.03 82.58,-122.78 76.28,-114.05\"/>\n",
       "<polygon fill=\"#4a4a4a\" stroke=\"#4a4a4a\" points=\"77.63,-112.7 68.75,-106.93 72.1,-116.98 77.63,-112.7\"/>\n",
       "</g>\n",
       "<!-- x&#45;&gt;z -->\n",
       "<g id=\"edge2\" class=\"edge\">\n",
       "<title>x-&gt;z</title>\n",
       "<path fill=\"none\" stroke=\"#4a4a4a\" d=\"M54,-143.7C54,-136.24 54,-127.32 54,-118.97\"/>\n",
       "<path fill=\"none\" stroke=\"#4a4a4a\" d=\"M56,-143.7C56,-136.24 56,-127.32 56,-118.97\"/>\n",
       "<polygon fill=\"#4a4a4a\" stroke=\"#4a4a4a\" points=\"58.5,-119.1 55,-109.1 51.5,-119.1 58.5,-119.1\"/>\n",
       "</g>\n",
       "<!-- z&#45;&gt;y -->\n",
       "<g id=\"edge4\" class=\"edge\">\n",
       "<title>z-&gt;y</title>\n",
       "<path fill=\"none\" stroke=\"#4a4a4a\" d=\"M47.44,-72.78C44.23,-64.76 40.3,-54.94 36.69,-45.91\"/>\n",
       "<path fill=\"none\" stroke=\"#4a4a4a\" d=\"M49.29,-72.04C46.08,-64.02 42.16,-54.2 38.55,-45.17\"/>\n",
       "<polygon fill=\"#4a4a4a\" stroke=\"#4a4a4a\" points=\"40.55,-44.45 33.59,-36.47 34.05,-47.05 40.55,-44.45\"/>\n",
       "</g>\n",
       "</g>\n",
       "</svg><br><center><small><em>Causal Model</em></small></center></div><div class=\"floating-box\">$$\\begin{equation*}P( y \\mid \\hookrightarrow\\mkern-6.5mux) = \\sum_{w,z}{\\left(\\sum_{x'}{P\\left(x'\\mid w\\right) \\cdot P\\left(y\\mid w,x',z\\right)}\\right) \\cdot P\\left(z\\mid w,x\\right) \\cdot P\\left(w\\right)}\\end{equation*}$$<br><center><small><em>Explanation : Do-calculus computations</em></small></center></div><div class=\"floating-box\"><table style=\"border:1px solid black;\">\n",
       "<tr style='border:1px solid black;color:black;background-color:#808080'>\n",
       "      <th colspan='2'><center>y</center></th></tr>\n",
       "<tr><th style='border:1px solid black;border-bottom-style: double;color:black;background-color:#BBBBBB'>\n",
       "      <center>0</center></th><th style='border:1px solid black;border-bottom-style: double;color:black;background-color:#BBBBBB'>\n",
       "      <center>1</center></th></tr>\n",
       "<tr><td style='color:black;background-color:#bdc064;text-align:right;'>0.5130</td><td style='color:black;background-color:#c0bd64;text-align:right;'>0.4870</td></tr>\n",
       "</table><br><center><small><em>Impact</em></small></center></div>"
      ],
      "text/plain": [
       "<IPython.core.display.HTML object>"
      ]
     },
     "metadata": {},
     "output_type": "display_data"
    },
    {
     "data": {
      "text/html": [
       "\n",
       "      <style>\n",
       "      .floating-box {\n",
       "      display: inline-block;\n",
       "      margin: 7px;\n",
       "      padding : 3px;\n",
       "      border: 0px solid transparent;  \n",
       "      valign:middle;\n",
       "      background-color: transparent;\n",
       "      }\n",
       "      </style>\n",
       "      <div class=\"floating-box\"><svg xmlns=\"http://www.w3.org/2000/svg\" xmlns:xlink=\"http://www.w3.org/1999/xlink\" width=\"80pt\" height=\"180pt\" viewBox=\"0.00 0.00 79.62 180.00\">\n",
       "<g id=\"graph0\" class=\"graph\" transform=\"scale(0.692308 0.692308) rotate(0) translate(4 256)\">\n",
       "<title>G</title>\n",
       "<!-- lat1 -->\n",
       "<g id=\"node1\" class=\"node\">\n",
       "<title>lat1</title>\n",
       "<ellipse fill=\"#404040\" stroke=\"#4a4a4a\" cx=\"29\" cy=\"-234\" rx=\"1.8\" ry=\"1.8\"/>\n",
       "</g>\n",
       "<!-- x -->\n",
       "<g id=\"node3\" class=\"node\">\n",
       "<title>x</title>\n",
       "<ellipse fill=\"#404040\" stroke=\"#4a4a4a\" cx=\"55\" cy=\"-162\" rx=\"27\" ry=\"18\"/>\n",
       "<text text-anchor=\"middle\" x=\"55\" y=\"-157.32\" font-family=\"Times,serif\" font-size=\"14.00\" fill=\"white\">x</text>\n",
       "</g>\n",
       "<!-- lat1&#45;&gt;x -->\n",
       "<g id=\"edge6\" class=\"edge\">\n",
       "<title>lat1-&gt;x</title>\n",
       "<path fill=\"none\" stroke=\"#4a4a4a\" stroke-dasharray=\"5,2\" d=\"M29.45,-231.79C31.32,-226.76 38.62,-207.09 44.95,-190.07\"/>\n",
       "<polygon fill=\"#4a4a4a\" stroke=\"#4a4a4a\" points=\"48.5,-191.55 48.7,-180.96 41.94,-189.12 48.5,-191.55\"/>\n",
       "</g>\n",
       "<!-- y -->\n",
       "<g id=\"node5\" class=\"node\">\n",
       "<title>y</title>\n",
       "<ellipse fill=\"#404040\" stroke=\"#4a4a4a\" cx=\"27\" cy=\"-18\" rx=\"27\" ry=\"18\"/>\n",
       "<text text-anchor=\"middle\" x=\"27\" y=\"-13.32\" font-family=\"Times,serif\" font-size=\"14.00\" fill=\"white\">y</text>\n",
       "</g>\n",
       "<!-- lat1&#45;&gt;y -->\n",
       "<g id=\"edge3\" class=\"edge\">\n",
       "<title>lat1-&gt;y</title>\n",
       "<path fill=\"none\" stroke=\"#4a4a4a\" stroke-dasharray=\"5,2\" d=\"M28.81,-232.26C27.59,-227.58 21.02,-201.63 19,-180 14.53,-132.21 15.41,-119.87 19,-72 19.62,-63.8 20.76,-54.95 21.99,-46.87\"/>\n",
       "<polygon fill=\"#4a4a4a\" stroke=\"#4a4a4a\" points=\"25.59,-47.55 23.75,-37.11 18.68,-46.42 25.59,-47.55\"/>\n",
       "</g>\n",
       "<!-- w -->\n",
       "<g id=\"node2\" class=\"node\">\n",
       "<title>w</title>\n",
       "<ellipse fill=\"#404040\" stroke=\"#4a4a4a\" cx=\"80\" cy=\"-234\" rx=\"27\" ry=\"18\"/>\n",
       "<text text-anchor=\"middle\" x=\"80\" y=\"-229.32\" font-family=\"Times,serif\" font-size=\"14.00\" fill=\"white\">w</text>\n",
       "</g>\n",
       "<!-- w&#45;&gt;x -->\n",
       "<g id=\"edge1\" class=\"edge\">\n",
       "<title>w-&gt;x</title>\n",
       "<path fill=\"none\" stroke=\"#4a4a4a\" d=\"M73.01,-216.39C70.21,-208.57 66.83,-199.08 63.69,-190.31\"/>\n",
       "<path fill=\"none\" stroke=\"#4a4a4a\" d=\"M74.89,-215.72C72.1,-207.89 68.71,-198.41 65.58,-189.64\"/>\n",
       "<polygon fill=\"#4a4a4a\" stroke=\"#4a4a4a\" points=\"67.66,-189.03 61,-180.79 61.06,-191.38 67.66,-189.03\"/>\n",
       "</g>\n",
       "<!-- z -->\n",
       "<g id=\"node4\" class=\"node\">\n",
       "<title>z</title>\n",
       "<ellipse fill=\"#404040\" stroke=\"#4a4a4a\" cx=\"55\" cy=\"-90\" rx=\"27\" ry=\"18\"/>\n",
       "<text text-anchor=\"middle\" x=\"55\" y=\"-85.33\" font-family=\"Times,serif\" font-size=\"14.00\" fill=\"white\">z</text>\n",
       "</g>\n",
       "<!-- w&#45;&gt;z -->\n",
       "<g id=\"edge5\" class=\"edge\">\n",
       "<title>w-&gt;z</title>\n",
       "<path fill=\"none\" stroke=\"#4a4a4a\" d=\"M85.19,-215.93C90.9,-197.85 97.53,-168.19 90.04,-144.29 86.92,-134.05 80.86,-123.8 74.66,-115.22\"/>\n",
       "<path fill=\"none\" stroke=\"#4a4a4a\" d=\"M87.1,-216.54C92.86,-198.28 99.48,-168.62 91.96,-143.71 88.64,-133.03 82.58,-122.78 76.28,-114.05\"/>\n",
       "<polygon fill=\"#4a4a4a\" stroke=\"#4a4a4a\" points=\"77.63,-112.7 68.75,-106.93 72.1,-116.98 77.63,-112.7\"/>\n",
       "</g>\n",
       "<!-- x&#45;&gt;z -->\n",
       "<g id=\"edge2\" class=\"edge\">\n",
       "<title>x-&gt;z</title>\n",
       "<path fill=\"none\" stroke=\"#4a4a4a\" d=\"M54,-143.7C54,-136.24 54,-127.32 54,-118.97\"/>\n",
       "<path fill=\"none\" stroke=\"#4a4a4a\" d=\"M56,-143.7C56,-136.24 56,-127.32 56,-118.97\"/>\n",
       "<polygon fill=\"#4a4a4a\" stroke=\"#4a4a4a\" points=\"58.5,-119.1 55,-109.1 51.5,-119.1 58.5,-119.1\"/>\n",
       "</g>\n",
       "<!-- z&#45;&gt;y -->\n",
       "<g id=\"edge4\" class=\"edge\">\n",
       "<title>z-&gt;y</title>\n",
       "<path fill=\"none\" stroke=\"#4a4a4a\" d=\"M47.44,-72.78C44.23,-64.76 40.3,-54.94 36.69,-45.91\"/>\n",
       "<path fill=\"none\" stroke=\"#4a4a4a\" d=\"M49.29,-72.04C46.08,-64.02 42.16,-54.2 38.55,-45.17\"/>\n",
       "<polygon fill=\"#4a4a4a\" stroke=\"#4a4a4a\" points=\"40.55,-44.45 33.59,-36.47 34.05,-47.05 40.55,-44.45\"/>\n",
       "</g>\n",
       "</g>\n",
       "</svg><br><center><small><em>Causal Model</em></small></center></div><div class=\"floating-box\">$$\\begin{equation*}P( y \\mid \\hookrightarrow\\mkern-6.5mux) = \\sum_{w,z}{\\left(\\sum_{x'}{P\\left(x'\\mid w\\right) \\cdot P\\left(y\\mid w,x',z\\right)}\\right) \\cdot P\\left(z\\mid w,x\\right) \\cdot P\\left(w\\right)}\\end{equation*}$$<br><center><small><em>Explanation : Do-calculus computations</em></small></center></div><div class=\"floating-box\"><table style=\"border:1px solid black;\">\n",
       "<tr style='border:1px solid black;color:black;background-color:#808080'>\n",
       "      <th colspan='2'><center>y</center></th></tr>\n",
       "<tr><th style='border:1px solid black;border-bottom-style: double;color:black;background-color:#BBBBBB'>\n",
       "      <center>0</center></th><th style='border:1px solid black;border-bottom-style: double;color:black;background-color:#BBBBBB'>\n",
       "      <center>1</center></th></tr>\n",
       "<tr><td style='color:black;background-color:#acd164;text-align:right;'>0.6460</td><td style='color:black;background-color:#d1ac64;text-align:right;'>0.3540</td></tr>\n",
       "</table><br><center><small><em>Impact</em></small></center></div>"
      ],
      "text/plain": [
       "<IPython.core.display.HTML object>"
      ]
     },
     "metadata": {},
     "output_type": "display_data"
    }
   ],
   "source": [
    "bn = gum.fastBN(\"w->x->z->y;w->z\")\n",
    "\n",
    "bn.cpt(\"w\")[:] = [0.7,0.3]\n",
    "\n",
    "bn.cpt(\"x\")[:] = [[0.4,0.6],[0.3,0.7]]\n",
    "\n",
    "bn.cpt(\"z\")[{'w':0,'x':0}]=[0.2,0.8]\n",
    "bn.cpt(\"z\")[{'w':0,'x':1}]=[0.1,0.9]\n",
    "bn.cpt(\"z\")[{'w':1,'x':0}]=[0.9,0.1]\n",
    "bn.cpt(\"z\")[{'w':1,'x':1}]=[0.5,0.5]\n",
    "\n",
    "bn.cpt(\"y\")[:] = [[0.1,0.9],[0.8,0.2]]\n",
    "\n",
    "\n",
    "d = csl.CausalModel(bn, [(\"lat1\", [\"x\",\"y\"])])\n",
    "#csl.causalImpact(d,\"y\",{\"x\":0})\n",
    "cslnb.showCausalImpact(d,\"y\",\"x\",values={\"x\":0})\n",
    "cslnb.showCausalImpact(d,\"y\",\"x\",values={\"x\":1})\n",
    "\n"
   ]
  },
  {
   "cell_type": "markdown",
   "metadata": {},
   "source": [
    "Since we have the formula, let us compute by hand this intervention :"
   ]
  },
  {
   "cell_type": "code",
   "execution_count": 3,
   "metadata": {
    "ExecuteTime": {
     "end_time": "2019-03-30T09:47:30.305181Z",
     "start_time": "2019-03-30T09:47:30.298891Z"
    },
    "execution": {
     "iopub.execute_input": "2023-07-25T08:47:45.825083Z",
     "iopub.status.busy": "2023-07-25T08:47:45.824877Z",
     "iopub.status.idle": "2023-07-25T08:47:45.831126Z",
     "shell.execute_reply": "2023-07-25T08:47:45.830536Z",
     "shell.execute_reply.started": "2023-07-25T08:47:45.825061Z"
    }
   },
   "outputs": [
    {
     "data": {
      "text/html": [
       "<table style=\"border:1px solid black;\">\n",
       "<tr><th colspan='1'></th>\n",
       "      <th colspan='2' style='border:1px solid black;color:black;background-color:#808080;'><center>y</center>\n",
       "      </th></tr>\n",
       "<tr><th style='border:1px solid black;color:black;background-color:#808080'><center>x</center></th><th style='border:1px solid black;border-bottom-style: double;color:black;background-color:#BBBBBB'>\n",
       "      <center>0</center></th><th style='border:1px solid black;border-bottom-style: double;color:black;background-color:#BBBBBB'>\n",
       "      <center>1</center></th></tr>\n",
       "<tr><th style='border:1px solid black;color:black;background-color:#BBBBBB'><center>0</center></th><td style='color:black;background-color:#bdc064;text-align:right;'>0.5130</td><td style='color:black;background-color:#c0bd64;text-align:right;'>0.4870</td></tr>\n",
       "<tr><th style='border:1px solid black;color:black;background-color:#BBBBBB'><center>1</center></th><td style='color:black;background-color:#acd164;text-align:right;'>0.6460</td><td style='color:black;background-color:#d1ac64;text-align:right;'>0.3540</td></tr>\n",
       "</table>"
      ],
      "text/plain": [
       "(pyAgrum.Potential<double>@0x5596b7fae430) \n",
       "      ||  y                |\n",
       "x     ||0        |1        |\n",
       "------||---------|---------|\n",
       "0     || 0.5130  | 0.4870  |\n",
       "1     || 0.6460  | 0.3540  |"
      ]
     },
     "execution_count": 3,
     "metadata": {},
     "output_type": "execute_result"
    }
   ],
   "source": [
    "(((bn.cpt(\"x\") * bn.cpt(\"y\")).margSumOut([\"x\"]) * bn.cpt(\"w\") * bn.cpt(\"z\")).margSumOut([\"z\", \"w\"])).putFirst(\"y\")"
   ]
  },
  {
   "cell_type": "code",
   "execution_count": 4,
   "metadata": {
    "ExecuteTime": {
     "end_time": "2019-03-30T09:47:32.332589Z",
     "start_time": "2019-03-30T09:47:30.307406Z"
    },
    "execution": {
     "iopub.execute_input": "2023-07-25T08:47:45.832083Z",
     "iopub.status.busy": "2023-07-25T08:47:45.831881Z",
     "iopub.status.idle": "2023-07-25T08:47:45.972798Z",
     "shell.execute_reply": "2023-07-25T08:47:45.971867Z",
     "shell.execute_reply.started": "2023-07-25T08:47:45.832063Z"
    }
   },
   "outputs": [
    {
     "data": {
      "text/html": [
       "\n",
       "      <style>\n",
       "      .floating-box {\n",
       "      display: inline-block;\n",
       "      margin: 7px;\n",
       "      padding : 3px;\n",
       "      border: 0px solid transparent;  \n",
       "      valign:middle;\n",
       "      background-color: transparent;\n",
       "      }\n",
       "      </style>\n",
       "      <div class=\"floating-box\"><svg xmlns=\"http://www.w3.org/2000/svg\" xmlns:xlink=\"http://www.w3.org/1999/xlink\" width=\"93pt\" height=\"180pt\" viewBox=\"0.00 0.00 93.00 180.00\">\n",
       "<g id=\"graph0\" class=\"graph\" transform=\"scale(0.600801 0.600801) rotate(0) translate(4 295.6)\">\n",
       "<title>G</title>\n",
       "<!-- L1 -->\n",
       "<g id=\"node1\" class=\"node\">\n",
       "<title>L1</title>\n",
       "<ellipse fill=\"#404040\" stroke=\"#4a4a4a\" cx=\"88\" cy=\"-289.8\" rx=\"1.8\" ry=\"1.8\"/>\n",
       "</g>\n",
       "<!-- Z1 -->\n",
       "<g id=\"node5\" class=\"node\">\n",
       "<title>Z1</title>\n",
       "<ellipse fill=\"#404040\" stroke=\"#4a4a4a\" cx=\"70\" cy=\"-234\" rx=\"27\" ry=\"18\"/>\n",
       "<text text-anchor=\"middle\" x=\"70\" y=\"-229.32\" font-family=\"Times,serif\" font-size=\"14.00\" fill=\"white\">Z1</text>\n",
       "</g>\n",
       "<!-- L1&#45;&gt;Z1 -->\n",
       "<g id=\"edge4\" class=\"edge\">\n",
       "<title>L1-&gt;Z1</title>\n",
       "<path fill=\"none\" stroke=\"#4a4a4a\" stroke-dasharray=\"5,2\" d=\"M87.69,-287.87C86.6,-284.62 82.85,-273.4 79.08,-262.13\"/>\n",
       "<polygon fill=\"#4a4a4a\" stroke=\"#4a4a4a\" points=\"82.18,-261.36 75.68,-252.99 75.54,-263.58 82.18,-261.36\"/>\n",
       "</g>\n",
       "<!-- X -->\n",
       "<g id=\"node6\" class=\"node\">\n",
       "<title>X</title>\n",
       "<ellipse fill=\"#404040\" stroke=\"#4a4a4a\" cx=\"82\" cy=\"-162\" rx=\"27\" ry=\"18\"/>\n",
       "<text text-anchor=\"middle\" x=\"82\" y=\"-157.32\" font-family=\"Times,serif\" font-size=\"14.00\" fill=\"white\">X</text>\n",
       "</g>\n",
       "<!-- L1&#45;&gt;X -->\n",
       "<g id=\"edge10\" class=\"edge\">\n",
       "<title>L1-&gt;X</title>\n",
       "<path fill=\"none\" stroke=\"#4a4a4a\" stroke-dasharray=\"5,2\" d=\"M88.76,-287.73C91.71,-283.47 102.47,-267.24 106,-252 109.61,-236.41 109.38,-231.64 106,-216 104,-206.73 100.24,-197.14 96.28,-188.7\"/>\n",
       "<polygon fill=\"#4a4a4a\" stroke=\"#4a4a4a\" points=\"99.07,-187.45 91.46,-180.08 92.81,-190.59 99.07,-187.45\"/>\n",
       "</g>\n",
       "<!-- L2 -->\n",
       "<g id=\"node2\" class=\"node\">\n",
       "<title>L2</title>\n",
       "<ellipse fill=\"#404040\" stroke=\"#4a4a4a\" cx=\"145\" cy=\"-289.8\" rx=\"1.8\" ry=\"1.8\"/>\n",
       "</g>\n",
       "<!-- L2&#45;&gt;Z1 -->\n",
       "<g id=\"edge7\" class=\"edge\">\n",
       "<title>L2-&gt;Z1</title>\n",
       "<path fill=\"none\" stroke=\"#4a4a4a\" stroke-dasharray=\"5,2\" d=\"M143.94,-288.04C138.77,-284.33 115.67,-267.76 96.64,-254.11\"/>\n",
       "<polygon fill=\"#4a4a4a\" stroke=\"#4a4a4a\" points=\"98.9,-250.7 88.73,-247.72 94.81,-256.39 98.9,-250.7\"/>\n",
       "</g>\n",
       "<!-- Z2 -->\n",
       "<g id=\"node7\" class=\"node\">\n",
       "<title>Z2</title>\n",
       "<ellipse fill=\"#404040\" stroke=\"#4a4a4a\" cx=\"82\" cy=\"-90\" rx=\"27\" ry=\"18\"/>\n",
       "<text text-anchor=\"middle\" x=\"82\" y=\"-85.33\" font-family=\"Times,serif\" font-size=\"14.00\" fill=\"white\">Z2</text>\n",
       "</g>\n",
       "<!-- L2&#45;&gt;Z2 -->\n",
       "<g id=\"edge11\" class=\"edge\">\n",
       "<title>L2-&gt;Z2</title>\n",
       "<path fill=\"none\" stroke=\"#4a4a4a\" stroke-dasharray=\"5,2\" d=\"M144.96,-287.59C144.59,-277.07 141.17,-200.28 118,-144 113.83,-133.88 107.55,-123.71 101.39,-115.02\"/>\n",
       "<polygon fill=\"#4a4a4a\" stroke=\"#4a4a4a\" points=\"103.65,-113.18 94.87,-107.25 98.03,-117.36 103.65,-113.18\"/>\n",
       "</g>\n",
       "<!-- L3 -->\n",
       "<g id=\"node3\" class=\"node\">\n",
       "<title>L3</title>\n",
       "<ellipse fill=\"#404040\" stroke=\"#4a4a4a\" cx=\"39\" cy=\"-289.8\" rx=\"1.8\" ry=\"1.8\"/>\n",
       "</g>\n",
       "<!-- L3&#45;&gt;Z1 -->\n",
       "<g id=\"edge8\" class=\"edge\">\n",
       "<title>L3-&gt;Z1</title>\n",
       "<path fill=\"none\" stroke=\"#4a4a4a\" stroke-dasharray=\"5,2\" d=\"M39.54,-287.87C41.5,-284.45 48.55,-272.23 55.36,-260.4\"/>\n",
       "<polygon fill=\"#4a4a4a\" stroke=\"#4a4a4a\" points=\"58.72,-262.59 60.68,-252.17 52.66,-259.09 58.72,-262.59\"/>\n",
       "</g>\n",
       "<!-- Y -->\n",
       "<g id=\"node8\" class=\"node\">\n",
       "<title>Y</title>\n",
       "<ellipse fill=\"#404040\" stroke=\"#4a4a4a\" cx=\"27\" cy=\"-18\" rx=\"27\" ry=\"18\"/>\n",
       "<text text-anchor=\"middle\" x=\"27\" y=\"-13.32\" font-family=\"Times,serif\" font-size=\"14.00\" fill=\"white\">Y</text>\n",
       "</g>\n",
       "<!-- L3&#45;&gt;Y -->\n",
       "<g id=\"edge9\" class=\"edge\">\n",
       "<title>L3-&gt;Y</title>\n",
       "<path fill=\"none\" stroke=\"#4a4a4a\" stroke-dasharray=\"5,2\" d=\"M37.87,-287.8C33.47,-283.84 17.43,-268.57 12,-252 -11.33,-180.77 6.87,-90.88 18.77,-46.45\"/>\n",
       "<polygon fill=\"#4a4a4a\" stroke=\"#4a4a4a\" points=\"22.4,-47.49 21.71,-36.92 15.65,-45.61 22.4,-47.49\"/>\n",
       "</g>\n",
       "<!-- L4 -->\n",
       "<g id=\"node4\" class=\"node\">\n",
       "<title>L4</title>\n",
       "<ellipse fill=\"#404040\" stroke=\"#4a4a4a\" cx=\"23\" cy=\"-234\" rx=\"1.8\" ry=\"1.8\"/>\n",
       "</g>\n",
       "<!-- L4&#45;&gt;X -->\n",
       "<g id=\"edge3\" class=\"edge\">\n",
       "<title>L4-&gt;X</title>\n",
       "<path fill=\"none\" stroke=\"#4a4a4a\" stroke-dasharray=\"5,2\" d=\"M23.55,-232.04C25.07,-229.4 29.55,-221.8 34,-216 42.11,-205.45 51.84,-194.44 60.42,-185.21\"/>\n",
       "<polygon fill=\"#4a4a4a\" stroke=\"#4a4a4a\" points=\"62.57,-187.97 66.89,-178.3 57.48,-183.16 62.57,-187.97\"/>\n",
       "</g>\n",
       "<!-- L4&#45;&gt;Y -->\n",
       "<g id=\"edge5\" class=\"edge\">\n",
       "<title>L4-&gt;Y</title>\n",
       "<path fill=\"none\" stroke=\"#4a4a4a\" stroke-dasharray=\"5,2\" d=\"M23.02,-232.05C23.24,-220.25 25.45,-102.12 26.48,-47.02\"/>\n",
       "<polygon fill=\"#4a4a4a\" stroke=\"#4a4a4a\" points=\"29.99,-47.35 26.68,-37.28 22.99,-47.22 29.99,-47.35\"/>\n",
       "</g>\n",
       "<!-- Z1&#45;&gt;X -->\n",
       "<g id=\"edge1\" class=\"edge\">\n",
       "<title>Z1-&gt;X</title>\n",
       "<path fill=\"none\" stroke=\"#4a4a4a\" d=\"M71.98,-215.53C73.27,-207.98 74.82,-198.95 76.27,-190.51\"/>\n",
       "<path fill=\"none\" stroke=\"#4a4a4a\" d=\"M73.95,-215.87C75.25,-208.32 76.79,-199.29 78.24,-190.85\"/>\n",
       "<polygon fill=\"#4a4a4a\" stroke=\"#4a4a4a\" points=\"80.83,-191.55 79.07,-181.1 73.93,-190.37 80.83,-191.55\"/>\n",
       "</g>\n",
       "<!-- X&#45;&gt;Z2 -->\n",
       "<g id=\"edge2\" class=\"edge\">\n",
       "<title>X-&gt;Z2</title>\n",
       "<path fill=\"none\" stroke=\"#4a4a4a\" d=\"M81,-143.7C81,-136.24 81,-127.32 81,-118.97\"/>\n",
       "<path fill=\"none\" stroke=\"#4a4a4a\" d=\"M83,-143.7C83,-136.24 83,-127.32 83,-118.97\"/>\n",
       "<polygon fill=\"#4a4a4a\" stroke=\"#4a4a4a\" points=\"85.5,-119.1 82,-109.1 78.5,-119.1 85.5,-119.1\"/>\n",
       "</g>\n",
       "<!-- Z2&#45;&gt;Y -->\n",
       "<g id=\"edge6\" class=\"edge\">\n",
       "<title>Z2-&gt;Y</title>\n",
       "<path fill=\"none\" stroke=\"#4a4a4a\" d=\"M69.01,-74.08C61.96,-65.11 52.94,-53.64 45.01,-43.54\"/>\n",
       "<path fill=\"none\" stroke=\"#4a4a4a\" d=\"M70.58,-72.85C63.53,-63.87 54.52,-52.4 46.58,-42.3\"/>\n",
       "<polygon fill=\"#4a4a4a\" stroke=\"#4a4a4a\" points=\"48.1,-41.19 39.17,-35.49 42.6,-45.52 48.1,-41.19\"/>\n",
       "</g>\n",
       "</g>\n",
       "</svg><br><center><small><em>Causal Model</em></small></center></div><div class=\"floating-box\">Hedge Error: G={'Z1', 'X', 'Z2'}, G[S]={'Z2'}<br><center><small><em>Impossible</em></small></center></div><div class=\"floating-box\">No result<br><center><small><em>Impact</em></small></center></div>"
      ],
      "text/plain": [
       "<IPython.core.display.HTML object>"
      ]
     },
     "metadata": {},
     "output_type": "display_data"
    }
   ],
   "source": [
    "bn = gum.fastBN(\"Z1->X->Z2->Y\")\n",
    "d=csl.CausalModel(bn,[(\"L1\",[\"Z1\",\"X\"]),\n",
    "                      (\"L2\",[\"Z1\",\"Z2\"]),\n",
    "                      (\"L3\",[\"Z1\",\"Y\"]),\n",
    "                      (\"L4\",[\"Y\",\"X\"])],\n",
    "                  True)\n",
    "cslnb.showCausalImpact(d,\"Y\",\"X\",values={\"X\":1})"
   ]
  },
  {
   "cell_type": "markdown",
   "metadata": {},
   "source": [
    "## Front door"
   ]
  },
  {
   "cell_type": "code",
   "execution_count": 5,
   "metadata": {
    "ExecuteTime": {
     "end_time": "2019-03-30T09:47:34.259441Z",
     "start_time": "2019-03-30T09:47:32.335346Z"
    },
    "execution": {
     "iopub.execute_input": "2023-07-25T08:47:45.974568Z",
     "iopub.status.busy": "2023-07-25T08:47:45.974186Z",
     "iopub.status.idle": "2023-07-25T08:47:46.088315Z",
     "shell.execute_reply": "2023-07-25T08:47:46.087214Z",
     "shell.execute_reply.started": "2023-07-25T08:47:45.974532Z"
    }
   },
   "outputs": [
    {
     "data": {
      "image/svg+xml": [
       "<svg xmlns=\"http://www.w3.org/2000/svg\" xmlns:xlink=\"http://www.w3.org/1999/xlink\" width=\"120pt\" height=\"180pt\" viewBox=\"0.00 0.00 119.71 180.00\">\n",
       "<g id=\"graph0\" class=\"graph\" transform=\"scale(0.790861 0.790861) rotate(0) translate(4 223.6)\">\n",
       "<title>G</title>\n",
       "<!-- Genotype -->\n",
       "<g id=\"node1\" class=\"node\">\n",
       "<title>Genotype</title>\n",
       "<ellipse fill=\"#404040\" stroke=\"#4a4a4a\" cx=\"95.89\" cy=\"-217.8\" rx=\"1.8\" ry=\"1.8\"/>\n",
       "</g>\n",
       "<!-- Smoking -->\n",
       "<g id=\"node2\" class=\"node\">\n",
       "<title>Smoking</title>\n",
       "<ellipse fill=\"#404040\" stroke=\"#4a4a4a\" cx=\"54.89\" cy=\"-162\" rx=\"54.89\" ry=\"18\"/>\n",
       "<text text-anchor=\"middle\" x=\"54.89\" y=\"-157.32\" font-family=\"Times,serif\" font-size=\"14.00\" fill=\"white\">Smoking</text>\n",
       "</g>\n",
       "<!-- Genotype&#45;&gt;Smoking -->\n",
       "<g id=\"edge4\" class=\"edge\">\n",
       "<title>Genotype-&gt;Smoking</title>\n",
       "<path fill=\"none\" stroke=\"#4a4a4a\" stroke-dasharray=\"5,2\" d=\"M95.18,-215.87C92.58,-212.45 83.27,-200.23 74.25,-188.4\"/>\n",
       "<polygon fill=\"#4a4a4a\" stroke=\"#4a4a4a\" points=\"76.68,-186.82 67.84,-180.99 71.11,-191.06 76.68,-186.82\"/>\n",
       "</g>\n",
       "<!-- Cancer -->\n",
       "<g id=\"node3\" class=\"node\">\n",
       "<title>Cancer</title>\n",
       "<ellipse fill=\"#404040\" stroke=\"#4a4a4a\" cx=\"96.89\" cy=\"-18\" rx=\"46.47\" ry=\"18\"/>\n",
       "<text text-anchor=\"middle\" x=\"96.89\" y=\"-13.32\" font-family=\"Times,serif\" font-size=\"14.00\" fill=\"white\">Cancer</text>\n",
       "</g>\n",
       "<!-- Genotype&#45;&gt;Cancer -->\n",
       "<g id=\"edge1\" class=\"edge\">\n",
       "<title>Genotype-&gt;Cancer</title>\n",
       "<path fill=\"none\" stroke=\"#4a4a4a\" stroke-dasharray=\"5,2\" d=\"M96.86,-215.77C100.62,-211.66 114.32,-195.93 118.89,-180 132.03,-134.2 118.25,-78.75 107.36,-46.32\"/>\n",
       "<polygon fill=\"#4a4a4a\" stroke=\"#4a4a4a\" points=\"110.44,-45.53 103.82,-37.25 103.83,-47.85 110.44,-45.53\"/>\n",
       "</g>\n",
       "<!-- Tar -->\n",
       "<g id=\"node4\" class=\"node\">\n",
       "<title>Tar</title>\n",
       "<ellipse fill=\"#404040\" stroke=\"#4a4a4a\" cx=\"68.89\" cy=\"-90\" rx=\"27.53\" ry=\"18\"/>\n",
       "<text text-anchor=\"middle\" x=\"68.89\" y=\"-85.33\" font-family=\"Times,serif\" font-size=\"14.00\" fill=\"white\">Tar</text>\n",
       "</g>\n",
       "<!-- Smoking&#45;&gt;Tar -->\n",
       "<g id=\"edge2\" class=\"edge\">\n",
       "<title>Smoking-&gt;Tar</title>\n",
       "<path fill=\"none\" stroke=\"#4a4a4a\" d=\"M57.37,-143.5C58.88,-135.96 60.69,-126.92 62.37,-118.48\"/>\n",
       "<path fill=\"none\" stroke=\"#4a4a4a\" d=\"M59.33,-143.89C60.84,-136.35 62.65,-127.32 64.34,-118.88\"/>\n",
       "<polygon fill=\"#4a4a4a\" stroke=\"#4a4a4a\" points=\"66.94,-119.6 65.47,-109.1 60.08,-118.22 66.94,-119.6\"/>\n",
       "</g>\n",
       "<!-- Tar&#45;&gt;Cancer -->\n",
       "<g id=\"edge3\" class=\"edge\">\n",
       "<title>Tar-&gt;Cancer</title>\n",
       "<path fill=\"none\" stroke=\"#4a4a4a\" d=\"M74.74,-71.68C77.82,-63.97 81.55,-54.66 85.02,-45.99\"/>\n",
       "<path fill=\"none\" stroke=\"#4a4a4a\" d=\"M76.6,-72.43C79.68,-64.72 83.41,-55.4 86.87,-46.74\"/>\n",
       "<polygon fill=\"#4a4a4a\" stroke=\"#4a4a4a\" points=\"89.52,-47.86 89.98,-37.28 83.02,-45.26 89.52,-47.86\"/>\n",
       "</g>\n",
       "</g>\n",
       "</svg>"
      ],
      "text/plain": [
       "<IPython.core.display.SVG object>"
      ]
     },
     "metadata": {},
     "output_type": "display_data"
    }
   ],
   "source": [
    "modele4 = gum.BayesNet()\n",
    "modele4.add(gum.LabelizedVariable(\"Smoking\"))\n",
    "modele4.add(gum.LabelizedVariable(\"Cancer\"))\n",
    "modele4.add(gum.LabelizedVariable(\"Tar\"))\n",
    "\n",
    "modele4.addArc(0,2)\n",
    "modele4.addArc(2,1)\n",
    "modele4.addArc(0,1)\n",
    "\n",
    "#Smoking\n",
    "modele4.cpt(0)[:]=[0.5, 0.5]\n",
    "\n",
    "#Tar\n",
    "modele4.cpt(2)[{\"Smoking\":0}] = [0.4, 0.6]\n",
    "modele4.cpt(2)[{\"Smoking\":1}] = [0.3, 0.6]\n",
    "\n",
    "#Cancer\n",
    "modele4.cpt(1)[{'Smoking':0,'Tar':0}]=[0.1,0.9]   #No Drug, Male -> healed in 0.8 of cases\n",
    "modele4.cpt(1)[{'Smoking':0,'Tar':1}]=[0.15,0.85] #No Drug, Female -> healed in 0.4 of cases\n",
    "modele4.cpt(1)[{'Smoking':1,'Tar':0}]=[0.2,0.8]   #Drug, Male -> healed 0.7 of cases \n",
    "modele4.cpt(1)[{'Smoking':1,'Tar':1}]=[0.25,0.75]\n",
    "\n",
    "d4 = csl.CausalModel(modele4, [(\"Genotype\", [\"Smoking\",\"Cancer\"])],False)\n",
    "cslnb.showCausalModel(d4)"
   ]
  },
  {
   "cell_type": "code",
   "execution_count": 6,
   "metadata": {
    "ExecuteTime": {
     "end_time": "2019-03-30T09:47:34.266672Z",
     "start_time": "2019-03-30T09:47:34.261668Z"
    },
    "execution": {
     "iopub.execute_input": "2023-07-25T08:47:46.090135Z",
     "iopub.status.busy": "2023-07-25T08:47:46.089748Z",
     "iopub.status.idle": "2023-07-25T08:47:46.097605Z",
     "shell.execute_reply": "2023-07-25T08:47:46.096535Z",
     "shell.execute_reply.started": "2023-07-25T08:47:46.090098Z"
    }
   },
   "outputs": [],
   "source": [
    "try: \n",
    "    a = csl.doCalculusWithObservation (d4,\"Cancer\", {\"Smoking\"})\n",
    "except csl.HedgeException as h: \n",
    "    print (h.message)"
   ]
  },
  {
   "cell_type": "code",
   "execution_count": 7,
   "metadata": {
    "ExecuteTime": {
     "end_time": "2019-03-30T09:47:34.278604Z",
     "start_time": "2019-03-30T09:47:34.269804Z"
    },
    "execution": {
     "iopub.execute_input": "2023-07-25T08:47:46.101774Z",
     "iopub.status.busy": "2023-07-25T08:47:46.101449Z",
     "iopub.status.idle": "2023-07-25T08:47:46.113996Z",
     "shell.execute_reply": "2023-07-25T08:47:46.113138Z",
     "shell.execute_reply.started": "2023-07-25T08:47:46.101744Z"
    }
   },
   "outputs": [
    {
     "data": {
      "text/latex": [
       "$\\displaystyle P( Cancer \\mid \\hookrightarrow\\mkern-6.5muSmoking) = \\sum_{Tar}{P\\left(Tar\\mid Smoking\\right) \\cdot \\left(\\sum_{Smoking'}{P\\left(Cancer\\mid Smoking',Tar\\right) \\cdot P\\left(Smoking'\\right)}\\right)}$"
      ],
      "text/plain": [
       "<IPython.core.display.Math object>"
      ]
     },
     "metadata": {},
     "output_type": "display_data"
    }
   ],
   "source": [
    "display(Math(a.toLatex()))"
   ]
  },
  {
   "cell_type": "code",
   "execution_count": 8,
   "metadata": {
    "ExecuteTime": {
     "end_time": "2019-03-30T09:47:34.286144Z",
     "start_time": "2019-03-30T09:47:34.281296Z"
    },
    "execution": {
     "iopub.execute_input": "2023-07-25T08:47:46.116093Z",
     "iopub.status.busy": "2023-07-25T08:47:46.115286Z",
     "iopub.status.idle": "2023-07-25T08:47:46.129343Z",
     "shell.execute_reply": "2023-07-25T08:47:46.128461Z",
     "shell.execute_reply.started": "2023-07-25T08:47:46.116044Z"
    }
   },
   "outputs": [
    {
     "name": "stdout",
     "output_type": "stream",
     "text": [
      "\n",
      "      ||  Cancer           |\n",
      "Smokin||0        |1        |\n",
      "------||---------|---------|\n",
      "0     || 0.1774  | 0.8226  |\n",
      "1     || 0.1626  | 0.7374  |\n",
      "\n"
     ]
    }
   ],
   "source": [
    "try: \n",
    "    adjj = a.eval()\n",
    "except csl.UnidentifiableException as u: \n",
    "    print (u.message)\n",
    "    \n",
    "print (adjj)\n"
   ]
  },
  {
   "cell_type": "code",
   "execution_count": 9,
   "metadata": {
    "ExecuteTime": {
     "end_time": "2019-03-30T09:47:34.295089Z",
     "start_time": "2019-03-30T09:47:34.288571Z"
    },
    "execution": {
     "iopub.execute_input": "2023-07-25T08:47:46.130930Z",
     "iopub.status.busy": "2023-07-25T08:47:46.130561Z",
     "iopub.status.idle": "2023-07-25T08:47:46.144901Z",
     "shell.execute_reply": "2023-07-25T08:47:46.144525Z",
     "shell.execute_reply.started": "2023-07-25T08:47:46.130896Z"
    }
   },
   "outputs": [],
   "source": [
    "formula, adj, exp = csl.causalImpact(d4, \"Cancer\", \"Smoking\",values={\"Smoking\":0})"
   ]
  },
  {
   "cell_type": "code",
   "execution_count": 10,
   "metadata": {
    "ExecuteTime": {
     "end_time": "2019-03-30T09:47:34.305804Z",
     "start_time": "2019-03-30T09:47:34.297727Z"
    },
    "execution": {
     "iopub.execute_input": "2023-07-25T08:47:46.145620Z",
     "iopub.status.busy": "2023-07-25T08:47:46.145478Z",
     "iopub.status.idle": "2023-07-25T08:47:46.164663Z",
     "shell.execute_reply": "2023-07-25T08:47:46.163939Z",
     "shell.execute_reply.started": "2023-07-25T08:47:46.145609Z"
    }
   },
   "outputs": [
    {
     "data": {
      "text/latex": [
       "$\\displaystyle P( Cancer \\mid \\hookrightarrow\\mkern-6.5muSmoking) = \\sum_{Tar}{P\\left(Tar\\mid Smoking\\right) \\cdot \\left(\\sum_{Smoking'}{P\\left(Cancer\\mid Smoking',Tar\\right) \\cdot P\\left(Smoking'\\right)}\\right)}$"
      ],
      "text/plain": [
       "<IPython.core.display.Math object>"
      ]
     },
     "metadata": {},
     "output_type": "display_data"
    },
    {
     "data": {
      "text/html": [
       "<table style=\"border:1px solid black;\">\n",
       "<tr style='border:1px solid black;color:black;background-color:#808080'>\n",
       "      <th colspan='2'><center>Cancer</center></th></tr>\n",
       "<tr><th style='border:1px solid black;border-bottom-style: double;color:black;background-color:#BBBBBB'>\n",
       "      <center>0</center></th><th style='border:1px solid black;border-bottom-style: double;color:black;background-color:#BBBBBB'>\n",
       "      <center>1</center></th></tr>\n",
       "<tr><td style='color:black;background-color:#e89564;text-align:right;'>0.1774</td><td style='color:black;background-color:#95e864;text-align:right;'>0.8226</td></tr>\n",
       "</table>"
      ],
      "text/plain": [
       "(pyAgrum.Potential<double>@0x5596b6b3eff0) \n",
       "  Cancer           |\n",
       "0        |1        |\n",
       "---------|---------|\n",
       " 0.1774  | 0.8226  |"
      ]
     },
     "execution_count": 10,
     "metadata": {},
     "output_type": "execute_result"
    }
   ],
   "source": [
    "display(Math(formula.toLatex()))\n",
    "adj"
   ]
  },
  {
   "cell_type": "markdown",
   "metadata": {},
   "source": [
    "  ## Last example from R "
   ]
  },
  {
   "cell_type": "code",
   "execution_count": 11,
   "metadata": {
    "ExecuteTime": {
     "end_time": "2019-03-30T09:47:36.642701Z",
     "start_time": "2019-03-30T09:47:34.308047Z"
    },
    "execution": {
     "iopub.execute_input": "2023-07-25T08:47:46.166194Z",
     "iopub.status.busy": "2023-07-25T08:47:46.165927Z",
     "iopub.status.idle": "2023-07-25T08:47:46.375917Z",
     "shell.execute_reply": "2023-07-25T08:47:46.375135Z",
     "shell.execute_reply.started": "2023-07-25T08:47:46.166163Z"
    }
   },
   "outputs": [
    {
     "data": {
      "image/svg+xml": [
       "<svg xmlns=\"http://www.w3.org/2000/svg\" xmlns:xlink=\"http://www.w3.org/1999/xlink\" width=\"129pt\" height=\"180pt\" viewBox=\"0.00 0.00 128.60 180.00\">\n",
       "<g id=\"graph0\" class=\"graph\" transform=\"scale(0.600801 0.600801) rotate(0) translate(4 295.6)\">\n",
       "<title>G</title>\n",
       "<!-- X&#45;Z2 -->\n",
       "<g id=\"node1\" class=\"node\">\n",
       "<title>X-Z2</title>\n",
       "<ellipse fill=\"#404040\" stroke=\"#4a4a4a\" cx=\"87.05\" cy=\"-289.8\" rx=\"1.8\" ry=\"1.8\"/>\n",
       "</g>\n",
       "<!-- z2 -->\n",
       "<g id=\"node5\" class=\"node\">\n",
       "<title>z2</title>\n",
       "<ellipse fill=\"#404040\" stroke=\"#4a4a4a\" cx=\"61.05\" cy=\"-234\" rx=\"27\" ry=\"18\"/>\n",
       "<text text-anchor=\"middle\" x=\"61.05\" y=\"-229.32\" font-family=\"Times,serif\" font-size=\"14.00\" fill=\"white\">z2</text>\n",
       "</g>\n",
       "<!-- X&#45;Z2&#45;&gt;z2 -->\n",
       "<g id=\"edge14\" class=\"edge\">\n",
       "<title>X-Z2-&gt;z2</title>\n",
       "<path fill=\"none\" stroke=\"#4a4a4a\" stroke-dasharray=\"5,2\" d=\"M86.6,-287.87C84.99,-284.54 79.35,-272.87 73.77,-261.33\"/>\n",
       "<polygon fill=\"#4a4a4a\" stroke=\"#4a4a4a\" points=\"76.5,-259.92 68.99,-252.44 70.19,-262.97 76.5,-259.92\"/>\n",
       "</g>\n",
       "<!-- x -->\n",
       "<g id=\"node6\" class=\"node\">\n",
       "<title>x</title>\n",
       "<ellipse fill=\"#404040\" stroke=\"#4a4a4a\" cx=\"107.05\" cy=\"-162\" rx=\"27\" ry=\"18\"/>\n",
       "<text text-anchor=\"middle\" x=\"107.05\" y=\"-157.32\" font-family=\"Times,serif\" font-size=\"14.00\" fill=\"white\">x</text>\n",
       "</g>\n",
       "<!-- X&#45;Z2&#45;&gt;x -->\n",
       "<g id=\"edge7\" class=\"edge\">\n",
       "<title>X-Z2-&gt;x</title>\n",
       "<path fill=\"none\" stroke=\"#4a4a4a\" stroke-dasharray=\"5,2\" d=\"M87.42,-287.67C88.89,-283.2 94.32,-266.31 97.05,-252 100.9,-231.8 103.44,-208.72 105,-191.12\"/>\n",
       "<polygon fill=\"#4a4a4a\" stroke=\"#4a4a4a\" points=\"108.57,-191.43 105.9,-181.18 101.59,-190.86 108.57,-191.43\"/>\n",
       "</g>\n",
       "<!-- X&#45;Z3 -->\n",
       "<g id=\"node2\" class=\"node\">\n",
       "<title>X-Z3</title>\n",
       "<ellipse fill=\"#404040\" stroke=\"#4a4a4a\" cx=\"162.05\" cy=\"-234\" rx=\"1.8\" ry=\"1.8\"/>\n",
       "</g>\n",
       "<!-- X&#45;Z3&#45;&gt;x -->\n",
       "<g id=\"edge6\" class=\"edge\">\n",
       "<title>X-Z3-&gt;x</title>\n",
       "<path fill=\"none\" stroke=\"#4a4a4a\" stroke-dasharray=\"5,2\" d=\"M161.27,-232.01C157.41,-227.1 139.93,-204.85 125.85,-186.93\"/>\n",
       "<polygon fill=\"#4a4a4a\" stroke=\"#4a4a4a\" points=\"128.21,-185.27 119.28,-179.57 122.7,-189.59 128.21,-185.27\"/>\n",
       "</g>\n",
       "<!-- z3 -->\n",
       "<g id=\"node9\" class=\"node\">\n",
       "<title>z3</title>\n",
       "<ellipse fill=\"#404040\" stroke=\"#4a4a4a\" cx=\"179.05\" cy=\"-162\" rx=\"27\" ry=\"18\"/>\n",
       "<text text-anchor=\"middle\" x=\"179.05\" y=\"-157.32\" font-family=\"Times,serif\" font-size=\"14.00\" fill=\"white\">z3</text>\n",
       "</g>\n",
       "<!-- X&#45;Z3&#45;&gt;z3 -->\n",
       "<g id=\"edge8\" class=\"edge\">\n",
       "<title>X-Z3-&gt;z3</title>\n",
       "<path fill=\"none\" stroke=\"#4a4a4a\" stroke-dasharray=\"5,2\" d=\"M162.34,-231.79C163.55,-226.81 168.25,-207.46 172.36,-190.55\"/>\n",
       "<polygon fill=\"#4a4a4a\" stroke=\"#4a4a4a\" points=\"175.97,-191.51 174.93,-180.96 169.17,-189.85 175.97,-191.51\"/>\n",
       "</g>\n",
       "<!-- X&#45;Y -->\n",
       "<g id=\"node3\" class=\"node\">\n",
       "<title>X-Y</title>\n",
       "<ellipse fill=\"#404040\" stroke=\"#4a4a4a\" cx=\"14.05\" cy=\"-234\" rx=\"1.8\" ry=\"1.8\"/>\n",
       "</g>\n",
       "<!-- X&#45;Y&#45;&gt;x -->\n",
       "<g id=\"edge3\" class=\"edge\">\n",
       "<title>X-Y-&gt;x</title>\n",
       "<path fill=\"none\" stroke=\"#4a4a4a\" stroke-dasharray=\"5,2\" d=\"M14.52,-231.98C15.85,-229.16 19.87,-221.17 25.05,-216 40.08,-200.97 60.06,-187.95 76.53,-178.58\"/>\n",
       "<polygon fill=\"#4a4a4a\" stroke=\"#4a4a4a\" points=\"77.69,-181.38 84.76,-173.49 74.31,-175.25 77.69,-181.38\"/>\n",
       "</g>\n",
       "<!-- y -->\n",
       "<g id=\"node8\" class=\"node\">\n",
       "<title>y</title>\n",
       "<ellipse fill=\"#404040\" stroke=\"#4a4a4a\" cx=\"41.05\" cy=\"-18\" rx=\"27\" ry=\"18\"/>\n",
       "<text text-anchor=\"middle\" x=\"41.05\" y=\"-13.32\" font-family=\"Times,serif\" font-size=\"14.00\" fill=\"white\">y</text>\n",
       "</g>\n",
       "<!-- X&#45;Y&#45;&gt;y -->\n",
       "<g id=\"edge9\" class=\"edge\">\n",
       "<title>X-Y-&gt;y</title>\n",
       "<path fill=\"none\" stroke=\"#4a4a4a\" stroke-dasharray=\"5,2\" d=\"M14.18,-231.71C15.37,-220.49 24.12,-138.39 33.05,-72 34.14,-63.85 35.43,-55.01 36.66,-46.93\"/>\n",
       "<polygon fill=\"#4a4a4a\" stroke=\"#4a4a4a\" points=\"40.25,-47.58 38.31,-37.17 33.33,-46.52 40.25,-47.58\"/>\n",
       "</g>\n",
       "<!-- Y&#45;Z2 -->\n",
       "<g id=\"node4\" class=\"node\">\n",
       "<title>Y-Z2</title>\n",
       "<ellipse fill=\"#404040\" stroke=\"#4a4a4a\" cx=\"34.05\" cy=\"-289.8\" rx=\"1.8\" ry=\"1.8\"/>\n",
       "</g>\n",
       "<!-- Y&#45;Z2&#45;&gt;z2 -->\n",
       "<g id=\"edge11\" class=\"edge\">\n",
       "<title>Y-Z2-&gt;z2</title>\n",
       "<path fill=\"none\" stroke=\"#4a4a4a\" stroke-dasharray=\"5,2\" d=\"M34.51,-287.87C36.2,-284.51 42.16,-272.63 48.01,-260.98\"/>\n",
       "<polygon fill=\"#4a4a4a\" stroke=\"#4a4a4a\" points=\"51.44,-262.95 52.79,-252.44 45.18,-259.81 51.44,-262.95\"/>\n",
       "</g>\n",
       "<!-- Y&#45;Z2&#45;&gt;y -->\n",
       "<g id=\"edge13\" class=\"edge\">\n",
       "<title>Y-Z2-&gt;y</title>\n",
       "<path fill=\"none\" stroke=\"#4a4a4a\" stroke-dasharray=\"5,2\" d=\"M33.02,-288.04C28.38,-284.57 9.46,-269.58 3.05,-252 -2.44,-236.97 1.83,-231.95 3.05,-216 7.95,-151.44 10.77,-135.15 25.05,-72 26.94,-63.62 29.46,-54.63 31.94,-46.48\"/>\n",
       "<polygon fill=\"#4a4a4a\" stroke=\"#4a4a4a\" points=\"35.57,-47.61 35.24,-37.02 28.89,-45.51 35.57,-47.61\"/>\n",
       "</g>\n",
       "<!-- z2&#45;&gt;x -->\n",
       "<g id=\"edge1\" class=\"edge\">\n",
       "<title>z2-&gt;x</title>\n",
       "<path fill=\"none\" stroke=\"#4a4a4a\" d=\"M70.65,-216.57C76.35,-207.89 83.55,-196.94 89.97,-187.17\"/>\n",
       "<path fill=\"none\" stroke=\"#4a4a4a\" d=\"M72.32,-217.67C78.03,-208.98 85.22,-198.04 91.64,-188.27\"/>\n",
       "<polygon fill=\"#4a4a4a\" stroke=\"#4a4a4a\" points=\"94.08,-190.1 96.65,-179.82 88.23,-186.26 94.08,-190.1\"/>\n",
       "</g>\n",
       "<!-- z1 -->\n",
       "<g id=\"node7\" class=\"node\">\n",
       "<title>z1</title>\n",
       "<ellipse fill=\"#404040\" stroke=\"#4a4a4a\" cx=\"69.05\" cy=\"-90\" rx=\"27\" ry=\"18\"/>\n",
       "<text text-anchor=\"middle\" x=\"69.05\" y=\"-85.33\" font-family=\"Times,serif\" font-size=\"14.00\" fill=\"white\">z1</text>\n",
       "</g>\n",
       "<!-- z2&#45;&gt;z1 -->\n",
       "<g id=\"edge12\" class=\"edge\">\n",
       "<title>z2-&gt;z1</title>\n",
       "<path fill=\"none\" stroke=\"#4a4a4a\" d=\"M61.03,-215.53C62.39,-191.45 64.85,-147.7 66.47,-118.98\"/>\n",
       "<path fill=\"none\" stroke=\"#4a4a4a\" d=\"M63.03,-215.64C64.38,-191.56 66.85,-147.81 68.47,-119.09\"/>\n",
       "<polygon fill=\"#4a4a4a\" stroke=\"#4a4a4a\" points=\"71.01,-119.29 68.08,-109.11 64.03,-118.9 71.01,-119.29\"/>\n",
       "</g>\n",
       "<!-- z2&#45;&gt;z3 -->\n",
       "<g id=\"edge4\" class=\"edge\">\n",
       "<title>z2-&gt;z3</title>\n",
       "<path fill=\"none\" stroke=\"#4a4a4a\" d=\"M80.29,-220.42C99.18,-209.22 127.89,-192.19 149.4,-179.42\"/>\n",
       "<path fill=\"none\" stroke=\"#4a4a4a\" d=\"M81.31,-222.14C100.2,-210.94 128.91,-193.91 150.42,-181.14\"/>\n",
       "<polygon fill=\"#4a4a4a\" stroke=\"#4a4a4a\" points=\"151.42,-182.87 158.23,-174.75 147.85,-176.85 151.42,-182.87\"/>\n",
       "</g>\n",
       "<!-- x&#45;&gt;z1 -->\n",
       "<g id=\"edge2\" class=\"edge\">\n",
       "<title>x-&gt;z1</title>\n",
       "<path fill=\"none\" stroke=\"#4a4a4a\" d=\"M97.35,-145.24C92.85,-136.94 87.25,-126.63 82.17,-117.27\"/>\n",
       "<path fill=\"none\" stroke=\"#4a4a4a\" d=\"M99.11,-144.29C94.6,-135.98 89.01,-125.68 83.93,-116.32\"/>\n",
       "<polygon fill=\"#4a4a4a\" stroke=\"#4a4a4a\" points=\"85.66,-115.27 77.81,-108.15 79.51,-118.61 85.66,-115.27\"/>\n",
       "</g>\n",
       "<!-- z1&#45;&gt;y -->\n",
       "<g id=\"edge10\" class=\"edge\">\n",
       "<title>z1-&gt;y</title>\n",
       "<path fill=\"none\" stroke=\"#4a4a4a\" d=\"M61.48,-72.78C58.27,-64.76 54.34,-54.94 50.73,-45.91\"/>\n",
       "<path fill=\"none\" stroke=\"#4a4a4a\" d=\"M63.34,-72.04C60.13,-64.02 56.2,-54.2 52.59,-45.17\"/>\n",
       "<polygon fill=\"#4a4a4a\" stroke=\"#4a4a4a\" points=\"54.6,-44.45 47.63,-36.47 48.1,-47.05 54.6,-44.45\"/>\n",
       "</g>\n",
       "<!-- z3&#45;&gt;y -->\n",
       "<g id=\"edge5\" class=\"edge\">\n",
       "<title>z3-&gt;y</title>\n",
       "<path fill=\"none\" stroke=\"#4a4a4a\" d=\"M166.75,-146.07C152.85,-127.71 128.3,-96.61 104.34,-72.71 92.57,-60.96 78.34,-48.98 66.32,-39.42\"/>\n",
       "<path fill=\"none\" stroke=\"#4a4a4a\" d=\"M168.34,-144.86C154.42,-126.47 129.87,-95.37 105.75,-71.29 93.86,-59.43 79.62,-47.45 67.57,-37.86\"/>\n",
       "<polygon fill=\"#4a4a4a\" stroke=\"#4a4a4a\" points=\"69.66,-35.54 59.63,-32.13 65.35,-41.05 69.66,-35.54\"/>\n",
       "</g>\n",
       "</g>\n",
       "</svg>"
      ],
      "text/plain": [
       "<IPython.core.display.SVG object>"
      ]
     },
     "metadata": {},
     "output_type": "display_data"
    }
   ],
   "source": [
    "m = gum.fastBN(\"z2->x->z1->y;z2->z1;z2->z3->y\")\n",
    "\n",
    "m.cpt(\"z2\") [:] = [0.5, 0.5]\n",
    "m.cpt(\"x\") [:] = [[0.4,0.6], #z2=0\n",
    "                  [0.4,0.6]] #z2=1\n",
    "m.cpt(\"z3\") [:] = [[0.3,0.7], #z2=0\n",
    "                   [0.3,0.7]] #z2=1\n",
    "m.cpt(\"z1\")[{\"z2\":0, \"x\":0}]= [0.2, 0.8]\n",
    "m.cpt(\"z1\")[{\"z2\":0, \"x\":1}]= [0.25, 0.75]\n",
    "m.cpt(\"z1\")[{\"z2\":1, \"x\":0}]= [0.1, 0.9]\n",
    "m.cpt(\"z1\")[{\"z2\":1, \"x\":1}]= [0.15, 0.85]\n",
    "\n",
    "m.cpt(\"y\")[{\"z1\":0,\"z3\":0}]= [0.5,0.5]\n",
    "m.cpt(\"y\")[{\"z1\":0,\"z3\":1}]= [0.45,0.55]\n",
    "m.cpt(\"y\")[{\"z1\":1,\"z3\":0}]= [0.4,0.6]\n",
    "m.cpt(\"y\")[{\"z1\":1,\"z3\":1}]= [0.35,0.65]\n",
    "\n",
    "\n",
    "d = csl.CausalModel(m, [(\"X-Z2\",[\"x\",\"z2\"]), \n",
    "                        (\"X-Z3\",[\"x\",\"z3\"]), \n",
    "                        (\"X-Y\",[\"x\",\"y\"]), \n",
    "                        (\"Y-Z2\",[\"y\",\"z2\"])],\n",
    "                    True)\n",
    "\n",
    "cslnb.showCausalModel(d)"
   ]
  },
  {
   "cell_type": "code",
   "execution_count": 12,
   "metadata": {
    "ExecuteTime": {
     "end_time": "2019-03-30T09:47:36.674695Z",
     "start_time": "2019-03-30T09:47:36.647288Z"
    },
    "execution": {
     "iopub.execute_input": "2023-07-25T08:47:46.377532Z",
     "iopub.status.busy": "2023-07-25T08:47:46.377177Z",
     "iopub.status.idle": "2023-07-25T08:47:46.395430Z",
     "shell.execute_reply": "2023-07-25T08:47:46.394547Z",
     "shell.execute_reply.started": "2023-07-25T08:47:46.377499Z"
    }
   },
   "outputs": [
    {
     "name": "stdout",
     "output_type": "stream",
     "text": [
      "Do-calculus computations\n"
     ]
    },
    {
     "data": {
      "text/latex": [
       "$\\displaystyle P( z2,y,z3,z1 \\mid \\hookrightarrow\\mkern-6.5mux) = P\\left(z3\\mid z2\\right) \\cdot P\\left(z1\\mid x,z2\\right) \\cdot  \\frac {\\sum_{x'}{P\\left(y\\mid x',z1,z2,z3\\right) \\cdot P\\left(x'\\mid z2\\right) \\cdot P\\left(z2\\right) \\cdot P\\left(z3\\mid x',z2\\right)}}{\\sum_{x',y'}{P\\left(y'\\mid x',z1,z2,z3\\right) \\cdot P\\left(x'\\mid z2\\right) \\cdot P\\left(z2\\right) \\cdot P\\left(z3\\mid x',z2\\right)}} \\cdot P\\left(z2\\right)$"
      ],
      "text/plain": [
       "<IPython.core.display.Math object>"
      ]
     },
     "metadata": {},
     "output_type": "display_data"
    }
   ],
   "source": [
    "try:\n",
    "    formula,result,msg = csl.causalImpact(d,on={\"y\",\"z2\",\"z1\",\"z3\"},doing={\"x\"})\n",
    "except csl.HedgeException as h:\n",
    "    print (h.message)\n",
    "    \n",
    "print(msg)\n",
    "display(Math(formula.toLatex()))"
   ]
  },
  {
   "cell_type": "code",
   "execution_count": 13,
   "metadata": {
    "ExecuteTime": {
     "end_time": "2019-03-30T09:47:36.683790Z",
     "start_time": "2019-03-30T09:47:36.676831Z"
    },
    "execution": {
     "iopub.execute_input": "2023-07-25T08:47:46.397113Z",
     "iopub.status.busy": "2023-07-25T08:47:46.396750Z",
     "iopub.status.idle": "2023-07-25T08:47:46.418454Z",
     "shell.execute_reply": "2023-07-25T08:47:46.417498Z",
     "shell.execute_reply.started": "2023-07-25T08:47:46.397082Z"
    }
   },
   "outputs": [],
   "source": [
    "# computation for this formula directly in pyAgrum\n",
    "f1=m.cpt(\"x\")*m.cpt(\"z2\")*m.cpt(\"z3\")*m.cpt(\"y\")\n",
    "f2=f1.margSumOut([\"x\"])\n",
    "f3=f1.margSumOut([\"x\",\"y\"])\n",
    "f4=f2/f3\n",
    "pyResult=m.cpt(\"z3\")*m.cpt(\"z1\")*m.cpt(\"z2\")*f4"
   ]
  },
  {
   "cell_type": "code",
   "execution_count": 14,
   "metadata": {
    "ExecuteTime": {
     "end_time": "2019-03-30T09:47:36.694555Z",
     "start_time": "2019-03-30T09:47:36.685828Z"
    },
    "execution": {
     "iopub.execute_input": "2023-07-25T08:47:46.420625Z",
     "iopub.status.busy": "2023-07-25T08:47:46.419832Z",
     "iopub.status.idle": "2023-07-25T08:47:46.437029Z",
     "shell.execute_reply": "2023-07-25T08:47:46.436098Z",
     "shell.execute_reply.started": "2023-07-25T08:47:46.420590Z"
    }
   },
   "outputs": [
    {
     "name": "stdout",
     "output_type": "stream",
     "text": [
      "According to [ref], the result should be :\n"
     ]
    },
    {
     "data": {
      "text/latex": [
       "$\\displaystyle P\\left(z1\\mid x,z2\\right) \\cdot \\left(\\sum_{x}{P\\left(y,z3\\mid z1,z2\\right) \\cdot P\\left(x,z2\\right)}\\right)$"
      ],
      "text/plain": [
       "<IPython.core.display.Math object>"
      ]
     },
     "metadata": {},
     "output_type": "display_data"
    }
   ],
   "source": [
    "# computation for this formula directly by creating the causal AST\n",
    "a = csl.ASTposteriorProba(m,{\"z1\"},{\"x\",\"z2\"})\n",
    "b= csl.ASTposteriorProba(m,{\"y\",\"z3\"},{\"x\",\"z1\",\"z2\"})\n",
    "c = csl.ASTjointProba([\"x\",\"z2\"])\n",
    "correct = csl.ASTmult(a,csl.ASTsum([\"x\"],csl.ASTmult(b,c)))\n",
    "\n",
    "print(\"According to [ref], the result should be :\")\n",
    "display(Math(correct.toLatex()))"
   ]
  },
  {
   "cell_type": "code",
   "execution_count": 15,
   "metadata": {
    "ExecuteTime": {
     "end_time": "2019-03-30T09:47:36.704823Z",
     "start_time": "2019-03-30T09:47:36.697245Z"
    },
    "execution": {
     "iopub.execute_input": "2023-07-25T08:47:46.439176Z",
     "iopub.status.busy": "2023-07-25T08:47:46.438368Z",
     "iopub.status.idle": "2023-07-25T08:47:46.451535Z",
     "shell.execute_reply": "2023-07-25T08:47:46.450599Z",
     "shell.execute_reply.started": "2023-07-25T08:47:46.439138Z"
    }
   },
   "outputs": [],
   "source": [
    "# computation for that formula\n",
    "ie=gum.LazyPropagation(m)\n",
    "refResult=(ie.evidenceJointImpact([\"y\",\"z3\"],[\"x\",\"z1\",\"z2\"])*\n",
    "     ie.evidenceJointImpact([\"x\",\"z2\"],[])\n",
    "    ).margSumOut([\"x\"])* m.cpt(\"z1\")\n"
   ]
  },
  {
   "cell_type": "code",
   "execution_count": 16,
   "metadata": {
    "ExecuteTime": {
     "end_time": "2019-03-30T09:47:36.712720Z",
     "start_time": "2019-03-30T09:47:36.707153Z"
    },
    "execution": {
     "iopub.execute_input": "2023-07-25T08:47:46.453811Z",
     "iopub.status.busy": "2023-07-25T08:47:46.453063Z",
     "iopub.status.idle": "2023-07-25T08:47:46.475687Z",
     "shell.execute_reply": "2023-07-25T08:47:46.474726Z",
     "shell.execute_reply.started": "2023-07-25T08:47:46.453774Z"
    }
   },
   "outputs": [
    {
     "name": "stdout",
     "output_type": "stream",
     "text": [
      "Maximum error between these 3 versions : 5.551115123125783e-17\n"
     ]
    }
   ],
   "source": [
    "print(\"Maximum error between these 3 versions : {}\".format(max((refResult-pyResult).abs().max(),\n",
    "                                                               (refResult-result).abs().max(),\n",
    "                                                               (pyResult-result).new_abs().max())))"
   ]
  },
  {
   "cell_type": "markdown",
   "metadata": {},
   "source": [
    "## Unidentifiabilty\n"
   ]
  },
  {
   "cell_type": "code",
   "execution_count": 17,
   "metadata": {
    "ExecuteTime": {
     "end_time": "2019-03-30T09:47:38.846042Z",
     "start_time": "2019-03-30T09:47:36.715078Z"
    },
    "execution": {
     "iopub.execute_input": "2023-07-25T08:47:46.477861Z",
     "iopub.status.busy": "2023-07-25T08:47:46.477026Z",
     "iopub.status.idle": "2023-07-25T08:47:46.606076Z",
     "shell.execute_reply": "2023-07-25T08:47:46.605385Z",
     "shell.execute_reply.started": "2023-07-25T08:47:46.477825Z"
    }
   },
   "outputs": [
    {
     "data": {
      "image/svg+xml": [
       "<svg xmlns=\"http://www.w3.org/2000/svg\" xmlns:xlink=\"http://www.w3.org/1999/xlink\" width=\"93pt\" height=\"180pt\" viewBox=\"0.00 0.00 93.00 180.00\">\n",
       "<g id=\"graph0\" class=\"graph\" transform=\"scale(0.600801 0.600801) rotate(0) translate(4 295.6)\">\n",
       "<title>G</title>\n",
       "<!-- Z1−X -->\n",
       "<g id=\"node1\" class=\"node\">\n",
       "<title>Z1−X</title>\n",
       "<ellipse fill=\"#404040\" stroke=\"#4a4a4a\" cx=\"88\" cy=\"-289.8\" rx=\"1.8\" ry=\"1.8\"/>\n",
       "</g>\n",
       "<!-- z1 -->\n",
       "<g id=\"node5\" class=\"node\">\n",
       "<title>z1</title>\n",
       "<ellipse fill=\"#404040\" stroke=\"#4a4a4a\" cx=\"70\" cy=\"-234\" rx=\"27\" ry=\"18\"/>\n",
       "<text text-anchor=\"middle\" x=\"70\" y=\"-229.32\" font-family=\"Times,serif\" font-size=\"14.00\" fill=\"white\">z1</text>\n",
       "</g>\n",
       "<!-- Z1−X&#45;&gt;z1 -->\n",
       "<g id=\"edge5\" class=\"edge\">\n",
       "<title>Z1−X-&gt;z1</title>\n",
       "<path fill=\"none\" stroke=\"#4a4a4a\" stroke-dasharray=\"5,2\" d=\"M87.69,-287.87C86.6,-284.62 82.85,-273.4 79.08,-262.13\"/>\n",
       "<polygon fill=\"#4a4a4a\" stroke=\"#4a4a4a\" points=\"82.18,-261.36 75.68,-252.99 75.54,-263.58 82.18,-261.36\"/>\n",
       "</g>\n",
       "<!-- x -->\n",
       "<g id=\"node6\" class=\"node\">\n",
       "<title>x</title>\n",
       "<ellipse fill=\"#404040\" stroke=\"#4a4a4a\" cx=\"82\" cy=\"-162\" rx=\"27\" ry=\"18\"/>\n",
       "<text text-anchor=\"middle\" x=\"82\" y=\"-157.32\" font-family=\"Times,serif\" font-size=\"14.00\" fill=\"white\">x</text>\n",
       "</g>\n",
       "<!-- Z1−X&#45;&gt;x -->\n",
       "<g id=\"edge11\" class=\"edge\">\n",
       "<title>Z1−X-&gt;x</title>\n",
       "<path fill=\"none\" stroke=\"#4a4a4a\" stroke-dasharray=\"5,2\" d=\"M88.76,-287.73C91.71,-283.47 102.47,-267.24 106,-252 109.61,-236.41 109.38,-231.64 106,-216 104,-206.73 100.24,-197.14 96.28,-188.7\"/>\n",
       "<polygon fill=\"#4a4a4a\" stroke=\"#4a4a4a\" points=\"99.07,-187.45 91.46,-180.08 92.81,-190.59 99.07,-187.45\"/>\n",
       "</g>\n",
       "<!-- Z1&#45;Y -->\n",
       "<g id=\"node2\" class=\"node\">\n",
       "<title>Z1-Y</title>\n",
       "<ellipse fill=\"#404040\" stroke=\"#4a4a4a\" cx=\"39\" cy=\"-289.8\" rx=\"1.8\" ry=\"1.8\"/>\n",
       "</g>\n",
       "<!-- Z1&#45;Y&#45;&gt;z1 -->\n",
       "<g id=\"edge8\" class=\"edge\">\n",
       "<title>Z1-Y-&gt;z1</title>\n",
       "<path fill=\"none\" stroke=\"#4a4a4a\" stroke-dasharray=\"5,2\" d=\"M39.54,-287.87C41.5,-284.45 48.55,-272.23 55.36,-260.4\"/>\n",
       "<polygon fill=\"#4a4a4a\" stroke=\"#4a4a4a\" points=\"58.72,-262.59 60.68,-252.17 52.66,-259.09 58.72,-262.59\"/>\n",
       "</g>\n",
       "<!-- y -->\n",
       "<g id=\"node8\" class=\"node\">\n",
       "<title>y</title>\n",
       "<ellipse fill=\"#404040\" stroke=\"#4a4a4a\" cx=\"27\" cy=\"-18\" rx=\"27\" ry=\"18\"/>\n",
       "<text text-anchor=\"middle\" x=\"27\" y=\"-13.32\" font-family=\"Times,serif\" font-size=\"14.00\" fill=\"white\">y</text>\n",
       "</g>\n",
       "<!-- Z1&#45;Y&#45;&gt;y -->\n",
       "<g id=\"edge10\" class=\"edge\">\n",
       "<title>Z1-Y-&gt;y</title>\n",
       "<path fill=\"none\" stroke=\"#4a4a4a\" stroke-dasharray=\"5,2\" d=\"M37.87,-287.8C33.47,-283.84 17.43,-268.57 12,-252 -11.33,-180.77 6.87,-90.88 18.77,-46.45\"/>\n",
       "<polygon fill=\"#4a4a4a\" stroke=\"#4a4a4a\" points=\"22.4,-47.49 21.71,-36.92 15.65,-45.61 22.4,-47.49\"/>\n",
       "</g>\n",
       "<!-- Z1&#45;Z1 -->\n",
       "<g id=\"node3\" class=\"node\">\n",
       "<title>Z1-Z1</title>\n",
       "<ellipse fill=\"#404040\" stroke=\"#4a4a4a\" cx=\"145\" cy=\"-289.8\" rx=\"1.8\" ry=\"1.8\"/>\n",
       "</g>\n",
       "<!-- Z1&#45;Z1&#45;&gt;z1 -->\n",
       "<g id=\"edge9\" class=\"edge\">\n",
       "<title>Z1-Z1-&gt;z1</title>\n",
       "<path fill=\"none\" stroke=\"#4a4a4a\" stroke-dasharray=\"5,2\" d=\"M143.94,-288.04C138.77,-284.33 115.67,-267.76 96.64,-254.11\"/>\n",
       "<polygon fill=\"#4a4a4a\" stroke=\"#4a4a4a\" points=\"98.9,-250.7 88.73,-247.72 94.81,-256.39 98.9,-250.7\"/>\n",
       "</g>\n",
       "<!-- z2 -->\n",
       "<g id=\"node7\" class=\"node\">\n",
       "<title>z2</title>\n",
       "<ellipse fill=\"#404040\" stroke=\"#4a4a4a\" cx=\"82\" cy=\"-90\" rx=\"27\" ry=\"18\"/>\n",
       "<text text-anchor=\"middle\" x=\"82\" y=\"-85.33\" font-family=\"Times,serif\" font-size=\"14.00\" fill=\"white\">z2</text>\n",
       "</g>\n",
       "<!-- Z1&#45;Z1&#45;&gt;z2 -->\n",
       "<g id=\"edge2\" class=\"edge\">\n",
       "<title>Z1-Z1-&gt;z2</title>\n",
       "<path fill=\"none\" stroke=\"#4a4a4a\" stroke-dasharray=\"5,2\" d=\"M144.96,-287.59C144.59,-277.07 141.17,-200.28 118,-144 113.83,-133.88 107.55,-123.71 101.39,-115.02\"/>\n",
       "<polygon fill=\"#4a4a4a\" stroke=\"#4a4a4a\" points=\"103.65,-113.18 94.87,-107.25 98.03,-117.36 103.65,-113.18\"/>\n",
       "</g>\n",
       "<!-- X−Y -->\n",
       "<g id=\"node4\" class=\"node\">\n",
       "<title>X−Y</title>\n",
       "<ellipse fill=\"#404040\" stroke=\"#4a4a4a\" cx=\"23\" cy=\"-234\" rx=\"1.8\" ry=\"1.8\"/>\n",
       "</g>\n",
       "<!-- X−Y&#45;&gt;x -->\n",
       "<g id=\"edge4\" class=\"edge\">\n",
       "<title>X−Y-&gt;x</title>\n",
       "<path fill=\"none\" stroke=\"#4a4a4a\" stroke-dasharray=\"5,2\" d=\"M23.55,-232.04C25.07,-229.4 29.55,-221.8 34,-216 42.11,-205.45 51.84,-194.44 60.42,-185.21\"/>\n",
       "<polygon fill=\"#4a4a4a\" stroke=\"#4a4a4a\" points=\"62.57,-187.97 66.89,-178.3 57.48,-183.16 62.57,-187.97\"/>\n",
       "</g>\n",
       "<!-- X−Y&#45;&gt;y -->\n",
       "<g id=\"edge6\" class=\"edge\">\n",
       "<title>X−Y-&gt;y</title>\n",
       "<path fill=\"none\" stroke=\"#4a4a4a\" stroke-dasharray=\"5,2\" d=\"M23.02,-232.05C23.24,-220.25 25.45,-102.12 26.48,-47.02\"/>\n",
       "<polygon fill=\"#4a4a4a\" stroke=\"#4a4a4a\" points=\"29.99,-47.35 26.68,-37.28 22.99,-47.22 29.99,-47.35\"/>\n",
       "</g>\n",
       "<!-- z1&#45;&gt;x -->\n",
       "<g id=\"edge1\" class=\"edge\">\n",
       "<title>z1-&gt;x</title>\n",
       "<path fill=\"none\" stroke=\"#4a4a4a\" d=\"M71.98,-215.53C73.27,-207.98 74.82,-198.95 76.27,-190.51\"/>\n",
       "<path fill=\"none\" stroke=\"#4a4a4a\" d=\"M73.95,-215.87C75.25,-208.32 76.79,-199.29 78.24,-190.85\"/>\n",
       "<polygon fill=\"#4a4a4a\" stroke=\"#4a4a4a\" points=\"80.83,-191.55 79.07,-181.1 73.93,-190.37 80.83,-191.55\"/>\n",
       "</g>\n",
       "<!-- x&#45;&gt;z2 -->\n",
       "<g id=\"edge3\" class=\"edge\">\n",
       "<title>x-&gt;z2</title>\n",
       "<path fill=\"none\" stroke=\"#4a4a4a\" d=\"M81,-143.7C81,-136.24 81,-127.32 81,-118.97\"/>\n",
       "<path fill=\"none\" stroke=\"#4a4a4a\" d=\"M83,-143.7C83,-136.24 83,-127.32 83,-118.97\"/>\n",
       "<polygon fill=\"#4a4a4a\" stroke=\"#4a4a4a\" points=\"85.5,-119.1 82,-109.1 78.5,-119.1 85.5,-119.1\"/>\n",
       "</g>\n",
       "<!-- z2&#45;&gt;y -->\n",
       "<g id=\"edge7\" class=\"edge\">\n",
       "<title>z2-&gt;y</title>\n",
       "<path fill=\"none\" stroke=\"#4a4a4a\" d=\"M69.01,-74.08C61.96,-65.11 52.94,-53.64 45.01,-43.54\"/>\n",
       "<path fill=\"none\" stroke=\"#4a4a4a\" d=\"M70.58,-72.85C63.53,-63.87 54.52,-52.4 46.58,-42.3\"/>\n",
       "<polygon fill=\"#4a4a4a\" stroke=\"#4a4a4a\" points=\"48.1,-41.19 39.17,-35.49 42.6,-45.52 48.1,-41.19\"/>\n",
       "</g>\n",
       "</g>\n",
       "</svg>"
      ],
      "text/plain": [
       "<IPython.core.display.SVG object>"
      ]
     },
     "metadata": {},
     "output_type": "display_data"
    }
   ],
   "source": [
    "m1 = gum.fastBN(\"z1->x->z2->y\")\n",
    "\n",
    "cdg = csl.CausalModel(m1, [(\"Z1−X\",[\"z1\",\"x\"]),\n",
    "                           (\"Z1-Y\",[\"z1\",\"y\"]),\n",
    "                           (\"Z1-Z1\",[\"z1\",\"z2\"]), \n",
    "                           (\"X−Y\",[\"x\",\"y\"])\n",
    "                          ], True )\n",
    "cslnb.showCausalModel(cdg)"
   ]
  },
  {
   "cell_type": "code",
   "execution_count": 18,
   "metadata": {
    "ExecuteTime": {
     "end_time": "2019-03-30T09:47:40.741542Z",
     "start_time": "2019-03-30T09:47:38.848489Z"
    },
    "execution": {
     "iopub.execute_input": "2023-07-25T08:47:46.607176Z",
     "iopub.status.busy": "2023-07-25T08:47:46.606970Z",
     "iopub.status.idle": "2023-07-25T08:47:46.783804Z",
     "shell.execute_reply": "2023-07-25T08:47:46.782704Z",
     "shell.execute_reply.started": "2023-07-25T08:47:46.607157Z"
    }
   },
   "outputs": [
    {
     "data": {
      "text/html": [
       "\n",
       "      <style>\n",
       "      .floating-box {\n",
       "      display: inline-block;\n",
       "      margin: 7px;\n",
       "      padding : 3px;\n",
       "      border: 0px solid transparent;  \n",
       "      valign:middle;\n",
       "      background-color: transparent;\n",
       "      }\n",
       "      </style>\n",
       "      <div class=\"floating-box\"><svg xmlns=\"http://www.w3.org/2000/svg\" xmlns:xlink=\"http://www.w3.org/1999/xlink\" width=\"93pt\" height=\"180pt\" viewBox=\"0.00 0.00 93.00 180.00\">\n",
       "<g id=\"graph0\" class=\"graph\" transform=\"scale(0.600801 0.600801) rotate(0) translate(4 295.6)\">\n",
       "<title>G</title>\n",
       "<!-- Z1−X -->\n",
       "<g id=\"node1\" class=\"node\">\n",
       "<title>Z1−X</title>\n",
       "<ellipse fill=\"#404040\" stroke=\"#4a4a4a\" cx=\"88\" cy=\"-289.8\" rx=\"1.8\" ry=\"1.8\"/>\n",
       "</g>\n",
       "<!-- z1 -->\n",
       "<g id=\"node5\" class=\"node\">\n",
       "<title>z1</title>\n",
       "<ellipse fill=\"#404040\" stroke=\"#4a4a4a\" cx=\"70\" cy=\"-234\" rx=\"27\" ry=\"18\"/>\n",
       "<text text-anchor=\"middle\" x=\"70\" y=\"-229.32\" font-family=\"Times,serif\" font-size=\"14.00\" fill=\"white\">z1</text>\n",
       "</g>\n",
       "<!-- Z1−X&#45;&gt;z1 -->\n",
       "<g id=\"edge5\" class=\"edge\">\n",
       "<title>Z1−X-&gt;z1</title>\n",
       "<path fill=\"none\" stroke=\"#4a4a4a\" stroke-dasharray=\"5,2\" d=\"M87.69,-287.87C86.6,-284.62 82.85,-273.4 79.08,-262.13\"/>\n",
       "<polygon fill=\"#4a4a4a\" stroke=\"#4a4a4a\" points=\"82.18,-261.36 75.68,-252.99 75.54,-263.58 82.18,-261.36\"/>\n",
       "</g>\n",
       "<!-- x -->\n",
       "<g id=\"node6\" class=\"node\">\n",
       "<title>x</title>\n",
       "<ellipse fill=\"#404040\" stroke=\"#4a4a4a\" cx=\"82\" cy=\"-162\" rx=\"27\" ry=\"18\"/>\n",
       "<text text-anchor=\"middle\" x=\"82\" y=\"-157.32\" font-family=\"Times,serif\" font-size=\"14.00\" fill=\"white\">x</text>\n",
       "</g>\n",
       "<!-- Z1−X&#45;&gt;x -->\n",
       "<g id=\"edge11\" class=\"edge\">\n",
       "<title>Z1−X-&gt;x</title>\n",
       "<path fill=\"none\" stroke=\"#4a4a4a\" stroke-dasharray=\"5,2\" d=\"M88.76,-287.73C91.71,-283.47 102.47,-267.24 106,-252 109.61,-236.41 109.38,-231.64 106,-216 104,-206.73 100.24,-197.14 96.28,-188.7\"/>\n",
       "<polygon fill=\"#4a4a4a\" stroke=\"#4a4a4a\" points=\"99.07,-187.45 91.46,-180.08 92.81,-190.59 99.07,-187.45\"/>\n",
       "</g>\n",
       "<!-- Z1&#45;Y -->\n",
       "<g id=\"node2\" class=\"node\">\n",
       "<title>Z1-Y</title>\n",
       "<ellipse fill=\"#404040\" stroke=\"#4a4a4a\" cx=\"39\" cy=\"-289.8\" rx=\"1.8\" ry=\"1.8\"/>\n",
       "</g>\n",
       "<!-- Z1&#45;Y&#45;&gt;z1 -->\n",
       "<g id=\"edge8\" class=\"edge\">\n",
       "<title>Z1-Y-&gt;z1</title>\n",
       "<path fill=\"none\" stroke=\"#4a4a4a\" stroke-dasharray=\"5,2\" d=\"M39.54,-287.87C41.5,-284.45 48.55,-272.23 55.36,-260.4\"/>\n",
       "<polygon fill=\"#4a4a4a\" stroke=\"#4a4a4a\" points=\"58.72,-262.59 60.68,-252.17 52.66,-259.09 58.72,-262.59\"/>\n",
       "</g>\n",
       "<!-- y -->\n",
       "<g id=\"node8\" class=\"node\">\n",
       "<title>y</title>\n",
       "<ellipse fill=\"#404040\" stroke=\"#4a4a4a\" cx=\"27\" cy=\"-18\" rx=\"27\" ry=\"18\"/>\n",
       "<text text-anchor=\"middle\" x=\"27\" y=\"-13.32\" font-family=\"Times,serif\" font-size=\"14.00\" fill=\"white\">y</text>\n",
       "</g>\n",
       "<!-- Z1&#45;Y&#45;&gt;y -->\n",
       "<g id=\"edge10\" class=\"edge\">\n",
       "<title>Z1-Y-&gt;y</title>\n",
       "<path fill=\"none\" stroke=\"#4a4a4a\" stroke-dasharray=\"5,2\" d=\"M37.87,-287.8C33.47,-283.84 17.43,-268.57 12,-252 -11.33,-180.77 6.87,-90.88 18.77,-46.45\"/>\n",
       "<polygon fill=\"#4a4a4a\" stroke=\"#4a4a4a\" points=\"22.4,-47.49 21.71,-36.92 15.65,-45.61 22.4,-47.49\"/>\n",
       "</g>\n",
       "<!-- Z1&#45;Z1 -->\n",
       "<g id=\"node3\" class=\"node\">\n",
       "<title>Z1-Z1</title>\n",
       "<ellipse fill=\"#404040\" stroke=\"#4a4a4a\" cx=\"145\" cy=\"-289.8\" rx=\"1.8\" ry=\"1.8\"/>\n",
       "</g>\n",
       "<!-- Z1&#45;Z1&#45;&gt;z1 -->\n",
       "<g id=\"edge9\" class=\"edge\">\n",
       "<title>Z1-Z1-&gt;z1</title>\n",
       "<path fill=\"none\" stroke=\"#4a4a4a\" stroke-dasharray=\"5,2\" d=\"M143.94,-288.04C138.77,-284.33 115.67,-267.76 96.64,-254.11\"/>\n",
       "<polygon fill=\"#4a4a4a\" stroke=\"#4a4a4a\" points=\"98.9,-250.7 88.73,-247.72 94.81,-256.39 98.9,-250.7\"/>\n",
       "</g>\n",
       "<!-- z2 -->\n",
       "<g id=\"node7\" class=\"node\">\n",
       "<title>z2</title>\n",
       "<ellipse fill=\"#404040\" stroke=\"#4a4a4a\" cx=\"82\" cy=\"-90\" rx=\"27\" ry=\"18\"/>\n",
       "<text text-anchor=\"middle\" x=\"82\" y=\"-85.33\" font-family=\"Times,serif\" font-size=\"14.00\" fill=\"white\">z2</text>\n",
       "</g>\n",
       "<!-- Z1&#45;Z1&#45;&gt;z2 -->\n",
       "<g id=\"edge2\" class=\"edge\">\n",
       "<title>Z1-Z1-&gt;z2</title>\n",
       "<path fill=\"none\" stroke=\"#4a4a4a\" stroke-dasharray=\"5,2\" d=\"M144.96,-287.59C144.59,-277.07 141.17,-200.28 118,-144 113.83,-133.88 107.55,-123.71 101.39,-115.02\"/>\n",
       "<polygon fill=\"#4a4a4a\" stroke=\"#4a4a4a\" points=\"103.65,-113.18 94.87,-107.25 98.03,-117.36 103.65,-113.18\"/>\n",
       "</g>\n",
       "<!-- X−Y -->\n",
       "<g id=\"node4\" class=\"node\">\n",
       "<title>X−Y</title>\n",
       "<ellipse fill=\"#404040\" stroke=\"#4a4a4a\" cx=\"23\" cy=\"-234\" rx=\"1.8\" ry=\"1.8\"/>\n",
       "</g>\n",
       "<!-- X−Y&#45;&gt;x -->\n",
       "<g id=\"edge4\" class=\"edge\">\n",
       "<title>X−Y-&gt;x</title>\n",
       "<path fill=\"none\" stroke=\"#4a4a4a\" stroke-dasharray=\"5,2\" d=\"M23.55,-232.04C25.07,-229.4 29.55,-221.8 34,-216 42.11,-205.45 51.84,-194.44 60.42,-185.21\"/>\n",
       "<polygon fill=\"#4a4a4a\" stroke=\"#4a4a4a\" points=\"62.57,-187.97 66.89,-178.3 57.48,-183.16 62.57,-187.97\"/>\n",
       "</g>\n",
       "<!-- X−Y&#45;&gt;y -->\n",
       "<g id=\"edge6\" class=\"edge\">\n",
       "<title>X−Y-&gt;y</title>\n",
       "<path fill=\"none\" stroke=\"#4a4a4a\" stroke-dasharray=\"5,2\" d=\"M23.02,-232.05C23.24,-220.25 25.45,-102.12 26.48,-47.02\"/>\n",
       "<polygon fill=\"#4a4a4a\" stroke=\"#4a4a4a\" points=\"29.99,-47.35 26.68,-37.28 22.99,-47.22 29.99,-47.35\"/>\n",
       "</g>\n",
       "<!-- z1&#45;&gt;x -->\n",
       "<g id=\"edge1\" class=\"edge\">\n",
       "<title>z1-&gt;x</title>\n",
       "<path fill=\"none\" stroke=\"#4a4a4a\" d=\"M71.98,-215.53C73.27,-207.98 74.82,-198.95 76.27,-190.51\"/>\n",
       "<path fill=\"none\" stroke=\"#4a4a4a\" d=\"M73.95,-215.87C75.25,-208.32 76.79,-199.29 78.24,-190.85\"/>\n",
       "<polygon fill=\"#4a4a4a\" stroke=\"#4a4a4a\" points=\"80.83,-191.55 79.07,-181.1 73.93,-190.37 80.83,-191.55\"/>\n",
       "</g>\n",
       "<!-- x&#45;&gt;z2 -->\n",
       "<g id=\"edge3\" class=\"edge\">\n",
       "<title>x-&gt;z2</title>\n",
       "<path fill=\"none\" stroke=\"#4a4a4a\" d=\"M81,-143.7C81,-136.24 81,-127.32 81,-118.97\"/>\n",
       "<path fill=\"none\" stroke=\"#4a4a4a\" d=\"M83,-143.7C83,-136.24 83,-127.32 83,-118.97\"/>\n",
       "<polygon fill=\"#4a4a4a\" stroke=\"#4a4a4a\" points=\"85.5,-119.1 82,-109.1 78.5,-119.1 85.5,-119.1\"/>\n",
       "</g>\n",
       "<!-- z2&#45;&gt;y -->\n",
       "<g id=\"edge7\" class=\"edge\">\n",
       "<title>z2-&gt;y</title>\n",
       "<path fill=\"none\" stroke=\"#4a4a4a\" d=\"M69.01,-74.08C61.96,-65.11 52.94,-53.64 45.01,-43.54\"/>\n",
       "<path fill=\"none\" stroke=\"#4a4a4a\" d=\"M70.58,-72.85C63.53,-63.87 54.52,-52.4 46.58,-42.3\"/>\n",
       "<polygon fill=\"#4a4a4a\" stroke=\"#4a4a4a\" points=\"48.1,-41.19 39.17,-35.49 42.6,-45.52 48.1,-41.19\"/>\n",
       "</g>\n",
       "</g>\n",
       "</svg><br><center><small><em>Causal Model</em></small></center></div><div class=\"floating-box\">Hedge Error: G={'x', 'z2', 'z1'}, G[S]={'z2'}<br><center><small><em>Impossible</em></small></center></div><div class=\"floating-box\">No result<br><center><small><em>Impact</em></small></center></div>"
      ],
      "text/plain": [
       "<IPython.core.display.HTML object>"
      ]
     },
     "metadata": {},
     "output_type": "display_data"
    }
   ],
   "source": [
    "err = cslnb.showCausalImpact(cdg,\"y\",\"x\",values={\"x\":0})\n"
   ]
  },
  {
   "cell_type": "markdown",
   "metadata": {},
   "source": [
    "## another one"
   ]
  },
  {
   "cell_type": "code",
   "execution_count": 19,
   "metadata": {
    "ExecuteTime": {
     "end_time": "2019-03-30T09:47:43.001646Z",
     "start_time": "2019-03-30T09:47:40.743915Z"
    },
    "execution": {
     "iopub.execute_input": "2023-07-25T08:47:46.785510Z",
     "iopub.status.busy": "2023-07-25T08:47:46.785151Z",
     "iopub.status.idle": "2023-07-25T08:47:46.872545Z",
     "shell.execute_reply": "2023-07-25T08:47:46.871724Z",
     "shell.execute_reply.started": "2023-07-25T08:47:46.785477Z"
    }
   },
   "outputs": [
    {
     "data": {
      "image/svg+xml": [
       "<svg xmlns=\"http://www.w3.org/2000/svg\" xmlns:xlink=\"http://www.w3.org/1999/xlink\" width=\"144pt\" height=\"260pt\" viewBox=\"0.00 0.00 144.00 260.00\">\n",
       "<g id=\"graph0\" class=\"graph\" transform=\"scale(1 1) rotate(0) translate(4 256)\">\n",
       "<title>G</title>\n",
       "<!-- x -->\n",
       "<g id=\"node1\" class=\"node\">\n",
       "<title>x</title>\n",
       "<g id=\"a_node1\"><a xlink:title=\"(0) x\">\n",
       "<ellipse fill=\"#404040\" stroke=\"black\" cx=\"109\" cy=\"-90\" rx=\"27\" ry=\"18\"/>\n",
       "<text text-anchor=\"middle\" x=\"109\" y=\"-85.33\" font-family=\"Times,serif\" font-size=\"14.00\" fill=\"white\">x</text>\n",
       "</a>\n",
       "</g>\n",
       "</g>\n",
       "<!-- y -->\n",
       "<g id=\"node4\" class=\"node\">\n",
       "<title>y</title>\n",
       "<g id=\"a_node4\"><a xlink:title=\"(1) y\">\n",
       "<ellipse fill=\"#404040\" stroke=\"black\" cx=\"54\" cy=\"-18\" rx=\"27\" ry=\"18\"/>\n",
       "<text text-anchor=\"middle\" x=\"54\" y=\"-13.32\" font-family=\"Times,serif\" font-size=\"14.00\" fill=\"white\">y</text>\n",
       "</a>\n",
       "</g>\n",
       "</g>\n",
       "<!-- x&#45;&gt;y -->\n",
       "<g id=\"edge1\" class=\"edge\">\n",
       "<title>x-&gt;y</title>\n",
       "<g id=\"a_edge1\"><a xlink:title=\"0 → 1\">\n",
       "<path fill=\"none\" stroke=\"#4a4a4a\" d=\"M96.79,-73.46C89.74,-64.49 80.73,-53.02 72.79,-42.92\"/>\n",
       "<polygon fill=\"#4a4a4a\" stroke=\"#4a4a4a\" points=\"75.1,-41.19 66.17,-35.49 69.6,-45.52 75.1,-41.19\"/>\n",
       "</a>\n",
       "</g>\n",
       "</g>\n",
       "<!-- z3 -->\n",
       "<g id=\"node2\" class=\"node\">\n",
       "<title>z3</title>\n",
       "<g id=\"a_node2\"><a xlink:title=\"(4) z3\">\n",
       "<ellipse fill=\"#404040\" stroke=\"black\" cx=\"63\" cy=\"-162\" rx=\"27\" ry=\"18\"/>\n",
       "<text text-anchor=\"middle\" x=\"63\" y=\"-157.32\" font-family=\"Times,serif\" font-size=\"14.00\" fill=\"white\">z3</text>\n",
       "</a>\n",
       "</g>\n",
       "</g>\n",
       "<!-- z3&#45;&gt;x -->\n",
       "<g id=\"edge3\" class=\"edge\">\n",
       "<title>z3-&gt;x</title>\n",
       "<g id=\"a_edge3\"><a xlink:title=\"4 → 0\">\n",
       "<path fill=\"none\" stroke=\"#4a4a4a\" d=\"M73.44,-145.12C79.14,-136.43 86.34,-125.49 92.76,-115.72\"/>\n",
       "<polygon fill=\"#4a4a4a\" stroke=\"#4a4a4a\" points=\"96.04,-118.1 98.6,-107.82 90.19,-114.26 96.04,-118.1\"/>\n",
       "</a>\n",
       "</g>\n",
       "</g>\n",
       "<!-- z3&#45;&gt;y -->\n",
       "<g id=\"edge7\" class=\"edge\">\n",
       "<title>z3-&gt;y</title>\n",
       "<g id=\"a_edge7\"><a xlink:title=\"4 → 1\">\n",
       "<path fill=\"none\" stroke=\"#4a4a4a\" d=\"M61.9,-143.59C60.37,-119.5 57.6,-75.75 55.78,-47.03\"/>\n",
       "<polygon fill=\"#4a4a4a\" stroke=\"#4a4a4a\" points=\"59.21,-46.87 55.08,-37.11 52.22,-47.31 59.21,-46.87\"/>\n",
       "</a>\n",
       "</g>\n",
       "</g>\n",
       "<!-- z2 -->\n",
       "<g id=\"node3\" class=\"node\">\n",
       "<title>z2</title>\n",
       "<g id=\"a_node3\"><a xlink:title=\"(3) z2\">\n",
       "<ellipse fill=\"#404040\" stroke=\"black\" cx=\"27\" cy=\"-234\" rx=\"27\" ry=\"18\"/>\n",
       "<text text-anchor=\"middle\" x=\"27\" y=\"-229.32\" font-family=\"Times,serif\" font-size=\"14.00\" fill=\"white\">z2</text>\n",
       "</a>\n",
       "</g>\n",
       "</g>\n",
       "<!-- z2&#45;&gt;z3 -->\n",
       "<g id=\"edge4\" class=\"edge\">\n",
       "<title>z2-&gt;z3</title>\n",
       "<g id=\"a_edge4\"><a xlink:title=\"3 → 4\">\n",
       "<path fill=\"none\" stroke=\"#4a4a4a\" d=\"M35.35,-216.76C39.62,-208.46 44.92,-198.15 49.73,-188.79\"/>\n",
       "<polygon fill=\"#4a4a4a\" stroke=\"#4a4a4a\" points=\"53.23,-190.64 54.7,-180.15 47.01,-187.44 53.23,-190.64\"/>\n",
       "</a>\n",
       "</g>\n",
       "</g>\n",
       "<!-- z2&#45;&gt;y -->\n",
       "<g id=\"edge5\" class=\"edge\">\n",
       "<title>z2-&gt;y</title>\n",
       "<g id=\"a_edge5\"><a xlink:title=\"3 → 1\">\n",
       "<path fill=\"none\" stroke=\"#4a4a4a\" d=\"M25.91,-215.55C25.04,-197.56 24.36,-168.74 27,-144 30.64,-109.92 39.71,-71.49 46.33,-46.35\"/>\n",
       "<polygon fill=\"#4a4a4a\" stroke=\"#4a4a4a\" points=\"49.95,-47.36 49.18,-36.8 43.19,-45.54 49.95,-47.36\"/>\n",
       "</a>\n",
       "</g>\n",
       "</g>\n",
       "<!-- z1 -->\n",
       "<g id=\"node5\" class=\"node\">\n",
       "<title>z1</title>\n",
       "<g id=\"a_node5\"><a xlink:title=\"(2) z1\">\n",
       "<ellipse fill=\"#404040\" stroke=\"black\" cx=\"108\" cy=\"-234\" rx=\"27\" ry=\"18\"/>\n",
       "<text text-anchor=\"middle\" x=\"108\" y=\"-229.32\" font-family=\"Times,serif\" font-size=\"14.00\" fill=\"white\">z1</text>\n",
       "</a>\n",
       "</g>\n",
       "</g>\n",
       "<!-- z1&#45;&gt;x -->\n",
       "<g id=\"edge6\" class=\"edge\">\n",
       "<title>z1-&gt;x</title>\n",
       "<g id=\"a_edge6\"><a xlink:title=\"2 → 0\">\n",
       "<path fill=\"none\" stroke=\"#4a4a4a\" d=\"M108.12,-215.59C108.29,-191.5 108.6,-147.75 108.8,-119.03\"/>\n",
       "<polygon fill=\"#4a4a4a\" stroke=\"#4a4a4a\" points=\"112.31,-119.14 108.88,-109.11 105.31,-119.09 112.31,-119.14\"/>\n",
       "</a>\n",
       "</g>\n",
       "</g>\n",
       "<!-- z1&#45;&gt;z3 -->\n",
       "<g id=\"edge2\" class=\"edge\">\n",
       "<title>z1-&gt;z3</title>\n",
       "<g id=\"a_edge2\"><a xlink:title=\"2 → 4\">\n",
       "<path fill=\"none\" stroke=\"#4a4a4a\" d=\"M97.79,-217.12C92.27,-208.52 85.32,-197.72 79.08,-188.02\"/>\n",
       "<polygon fill=\"#4a4a4a\" stroke=\"#4a4a4a\" points=\"81.52,-186.34 73.17,-179.82 75.63,-190.13 81.52,-186.34\"/>\n",
       "</a>\n",
       "</g>\n",
       "</g>\n",
       "</g>\n",
       "</svg>"
      ],
      "text/plain": [
       "<IPython.core.display.SVG object>"
      ]
     },
     "metadata": {},
     "output_type": "display_data"
    }
   ],
   "source": [
    "# EXEMPLE PAGE 17 : http://ftp.cs.ucla.edu/pub/stat_ser/r350.pdf\n",
    "\n",
    "\n",
    "m1 = gum.BayesNet()\n",
    "m1.add(gum.LabelizedVariable(\"x\"))\n",
    "m1.add(gum.LabelizedVariable(\"y\"))\n",
    "m1.add(gum.LabelizedVariable(\"z1\"))\n",
    "m1.add(gum.LabelizedVariable(\"z2\"))\n",
    "m1.add(gum.LabelizedVariable(\"z3\"))\n",
    "\n",
    "m1.addArc(2,4)\n",
    "m1.addArc(2,0)\n",
    "m1.addArc(3,4)\n",
    "m1.addArc(3,1)\n",
    "m1.addArc(4,1)\n",
    "m1.addArc(4,0)\n",
    "m1.addArc(0,1)\n",
    "\n",
    "gnb.showBN(m1)\n",
    "d = csl.CausalModel(m1)"
   ]
  },
  {
   "cell_type": "code",
   "execution_count": 20,
   "metadata": {
    "ExecuteTime": {
     "end_time": "2019-03-30T09:47:43.010201Z",
     "start_time": "2019-03-30T09:47:43.004428Z"
    },
    "execution": {
     "iopub.execute_input": "2023-07-25T08:47:46.873869Z",
     "iopub.status.busy": "2023-07-25T08:47:46.873611Z",
     "iopub.status.idle": "2023-07-25T08:47:46.881205Z",
     "shell.execute_reply": "2023-07-25T08:47:46.880258Z",
     "shell.execute_reply.started": "2023-07-25T08:47:46.873845Z"
    }
   },
   "outputs": [
    {
     "data": {
      "text/latex": [
       "$\\displaystyle P\\left(z3\\mid z1,z2\\right) \\cdot P\\left(z2\\right) \\cdot P\\left(z1\\right) \\cdot P\\left(y\\mid x,z2,z3\\right)$"
      ],
      "text/plain": [
       "<IPython.core.display.Math object>"
      ]
     },
     "metadata": {},
     "output_type": "display_data"
    }
   ],
   "source": [
    "display(Math(csl.identifyingIntervention (d,{\"z1\",\"z2\",\"z3\",\"y\"}, {\"x\"}).toLatex()))"
   ]
  },
  {
   "cell_type": "code",
   "execution_count": 21,
   "metadata": {
    "ExecuteTime": {
     "end_time": "2019-03-30T09:47:43.018992Z",
     "start_time": "2019-03-30T09:47:43.011836Z"
    },
    "execution": {
     "iopub.execute_input": "2023-07-25T08:47:46.883498Z",
     "iopub.status.busy": "2023-07-25T08:47:46.882597Z",
     "iopub.status.idle": "2023-07-25T08:47:46.898163Z",
     "shell.execute_reply": "2023-07-25T08:47:46.897391Z",
     "shell.execute_reply.started": "2023-07-25T08:47:46.883460Z"
    }
   },
   "outputs": [
    {
     "data": {
      "text/latex": [
       "$\\displaystyle \\sum_{z1,z2,z3}{P\\left(z3\\mid z1,z2\\right) \\cdot P\\left(z2\\right) \\cdot P\\left(z1\\right) \\cdot P\\left(y\\mid x,z2,z3\\right)}$"
      ],
      "text/plain": [
       "<IPython.core.display.Math object>"
      ]
     },
     "metadata": {},
     "output_type": "display_data"
    }
   ],
   "source": [
    "display(Math(csl.identifyingIntervention(d,{\"y\"}, {\"x\"}).toLatex()))"
   ]
  },
  {
   "cell_type": "code",
   "execution_count": 22,
   "metadata": {
    "ExecuteTime": {
     "end_time": "2019-03-30T09:47:43.025483Z",
     "start_time": "2019-03-30T09:47:43.020669Z"
    },
    "execution": {
     "iopub.execute_input": "2023-07-25T08:47:46.903653Z",
     "iopub.status.busy": "2023-07-25T08:47:46.903243Z",
     "iopub.status.idle": "2023-07-25T08:47:46.915314Z",
     "shell.execute_reply": "2023-07-25T08:47:46.914532Z",
     "shell.execute_reply.started": "2023-07-25T08:47:46.903616Z"
    }
   },
   "outputs": [
    {
     "data": {
      "text/latex": [
       "$\\displaystyle P\\left(z3\\mid z1,z2\\right) \\cdot P\\left(z1\\right) \\cdot P\\left(y\\mid x,z2,z3\\right)$"
      ],
      "text/plain": [
       "<IPython.core.display.Math object>"
      ]
     },
     "metadata": {},
     "output_type": "display_data"
    }
   ],
   "source": [
    "display(Math(csl.identifyingIntervention(d,{\"z1\",\"z3\",\"y\"}, {\"x\",\"z2\"}).toLatex()))"
   ]
  },
  {
   "cell_type": "code",
   "execution_count": 23,
   "metadata": {
    "ExecuteTime": {
     "end_time": "2019-03-30T09:47:43.033600Z",
     "start_time": "2019-03-30T09:47:43.028772Z"
    },
    "execution": {
     "iopub.execute_input": "2023-07-25T08:47:46.917308Z",
     "iopub.status.busy": "2023-07-25T08:47:46.916622Z",
     "iopub.status.idle": "2023-07-25T08:47:46.932865Z",
     "shell.execute_reply": "2023-07-25T08:47:46.932213Z",
     "shell.execute_reply.started": "2023-07-25T08:47:46.917272Z"
    }
   },
   "outputs": [
    {
     "data": {
      "text/latex": [
       "$\\displaystyle \\sum_{z1,z3}{P\\left(z3\\mid z1,z2\\right) \\cdot P\\left(z1\\right) \\cdot P\\left(y\\mid x,z2,z3\\right)}$"
      ],
      "text/plain": [
       "<IPython.core.display.Math object>"
      ]
     },
     "metadata": {},
     "output_type": "display_data"
    }
   ],
   "source": [
    "display(Math(csl.identifyingIntervention(d,{\"y\"}, {\"x\",\"z2\"}).toLatex()))"
   ]
  },
  {
   "cell_type": "markdown",
   "metadata": {},
   "source": [
    "## Other example"
   ]
  },
  {
   "cell_type": "code",
   "execution_count": 24,
   "metadata": {
    "ExecuteTime": {
     "end_time": "2019-03-30T09:47:45.111304Z",
     "start_time": "2019-03-30T09:47:43.035453Z"
    },
    "execution": {
     "iopub.execute_input": "2023-07-25T08:47:46.935153Z",
     "iopub.status.busy": "2023-07-25T08:47:46.934429Z",
     "iopub.status.idle": "2023-07-25T08:47:46.998826Z",
     "shell.execute_reply": "2023-07-25T08:47:46.998084Z",
     "shell.execute_reply.started": "2023-07-25T08:47:46.935117Z"
    }
   },
   "outputs": [
    {
     "data": {
      "image/svg+xml": [
       "<svg xmlns=\"http://www.w3.org/2000/svg\" xmlns:xlink=\"http://www.w3.org/1999/xlink\" width=\"102pt\" height=\"260pt\" viewBox=\"0.00 0.00 101.53 260.00\">\n",
       "<g id=\"graph0\" class=\"graph\" transform=\"scale(1 1) rotate(0) translate(4 256)\">\n",
       "<title>G</title>\n",
       "<!-- p -->\n",
       "<g id=\"node1\" class=\"node\">\n",
       "<title>p</title>\n",
       "<g id=\"a_node1\"><a xlink:title=\"(1) p\">\n",
       "<ellipse fill=\"#404040\" stroke=\"black\" cx=\"39.53\" cy=\"-162\" rx=\"27\" ry=\"18\"/>\n",
       "<text text-anchor=\"middle\" x=\"39.53\" y=\"-157.32\" font-family=\"Times,serif\" font-size=\"14.00\" fill=\"white\">p</text>\n",
       "</a>\n",
       "</g>\n",
       "</g>\n",
       "<!-- y -->\n",
       "<g id=\"node2\" class=\"node\">\n",
       "<title>y</title>\n",
       "<g id=\"a_node2\"><a xlink:title=\"(3) y\">\n",
       "<ellipse fill=\"#404040\" stroke=\"black\" cx=\"39.53\" cy=\"-18\" rx=\"27\" ry=\"18\"/>\n",
       "<text text-anchor=\"middle\" x=\"39.53\" y=\"-13.32\" font-family=\"Times,serif\" font-size=\"14.00\" fill=\"white\">y</text>\n",
       "</a>\n",
       "</g>\n",
       "</g>\n",
       "<!-- p&#45;&gt;y -->\n",
       "<g id=\"edge5\" class=\"edge\">\n",
       "<title>p-&gt;y</title>\n",
       "<g id=\"a_edge5\"><a xlink:title=\"1 → 3\">\n",
       "<path fill=\"none\" stroke=\"#4a4a4a\" d=\"M25.78,-146.07C17.57,-136.1 7.91,-122.25 3.53,-108 -1.18,-92.71 -1.18,-87.29 3.53,-72 6.74,-61.54 12.81,-51.29 19.05,-42.63\"/>\n",
       "<polygon fill=\"#4a4a4a\" stroke=\"#4a4a4a\" points=\"22.43,-44.98 25.78,-34.93 16.89,-40.7 22.43,-44.98\"/>\n",
       "</a>\n",
       "</g>\n",
       "</g>\n",
       "<!-- b -->\n",
       "<g id=\"node3\" class=\"node\">\n",
       "<title>b</title>\n",
       "<g id=\"a_node3\"><a xlink:title=\"(2) b\">\n",
       "<ellipse fill=\"#404040\" stroke=\"black\" cx=\"39.53\" cy=\"-90\" rx=\"27\" ry=\"18\"/>\n",
       "<text text-anchor=\"middle\" x=\"39.53\" y=\"-85.33\" font-family=\"Times,serif\" font-size=\"14.00\" fill=\"white\">b</text>\n",
       "</a>\n",
       "</g>\n",
       "</g>\n",
       "<!-- p&#45;&gt;b -->\n",
       "<g id=\"edge2\" class=\"edge\">\n",
       "<title>p-&gt;b</title>\n",
       "<g id=\"a_edge2\"><a xlink:title=\"1 → 2\">\n",
       "<path fill=\"none\" stroke=\"#4a4a4a\" d=\"M39.53,-143.7C39.53,-136.24 39.53,-127.32 39.53,-118.97\"/>\n",
       "<polygon fill=\"#4a4a4a\" stroke=\"#4a4a4a\" points=\"43.03,-119.1 39.53,-109.1 36.03,-119.1 43.03,-119.1\"/>\n",
       "</a>\n",
       "</g>\n",
       "</g>\n",
       "<!-- b&#45;&gt;y -->\n",
       "<g id=\"edge4\" class=\"edge\">\n",
       "<title>b-&gt;y</title>\n",
       "<g id=\"a_edge4\"><a xlink:title=\"2 → 3\">\n",
       "<path fill=\"none\" stroke=\"#4a4a4a\" d=\"M39.53,-71.7C39.53,-64.24 39.53,-55.32 39.53,-46.97\"/>\n",
       "<polygon fill=\"#4a4a4a\" stroke=\"#4a4a4a\" points=\"43.03,-47.1 39.53,-37.1 36.03,-47.1 43.03,-47.1\"/>\n",
       "</a>\n",
       "</g>\n",
       "</g>\n",
       "<!-- a -->\n",
       "<g id=\"node4\" class=\"node\">\n",
       "<title>a</title>\n",
       "<g id=\"a_node4\"><a xlink:title=\"(0) a\">\n",
       "<ellipse fill=\"#404040\" stroke=\"black\" cx=\"66.53\" cy=\"-234\" rx=\"27\" ry=\"18\"/>\n",
       "<text text-anchor=\"middle\" x=\"66.53\" y=\"-229.32\" font-family=\"Times,serif\" font-size=\"14.00\" fill=\"white\">a</text>\n",
       "</a>\n",
       "</g>\n",
       "</g>\n",
       "<!-- a&#45;&gt;p -->\n",
       "<g id=\"edge1\" class=\"edge\">\n",
       "<title>a-&gt;p</title>\n",
       "<g id=\"a_edge1\"><a xlink:title=\"0 → 1\">\n",
       "<path fill=\"none\" stroke=\"#4a4a4a\" d=\"M59.99,-216.05C56.97,-208.23 53.32,-198.75 49.93,-189.98\"/>\n",
       "<polygon fill=\"#4a4a4a\" stroke=\"#4a4a4a\" points=\"52.87,-188.86 46,-180.79 46.34,-191.38 52.87,-188.86\"/>\n",
       "</a>\n",
       "</g>\n",
       "</g>\n",
       "<!-- a&#45;&gt;y -->\n",
       "<g id=\"edge3\" class=\"edge\">\n",
       "<title>a-&gt;y</title>\n",
       "<g id=\"a_edge3\"><a xlink:title=\"0 → 3\">\n",
       "<path fill=\"none\" stroke=\"#4a4a4a\" d=\"M71.25,-216.08C78.76,-186.23 91.08,-122.57 75.53,-72 72.31,-61.54 66.25,-51.29 60,-42.63\"/>\n",
       "<polygon fill=\"#4a4a4a\" stroke=\"#4a4a4a\" points=\"62.16,-40.7 53.28,-34.93 56.62,-44.98 62.16,-40.7\"/>\n",
       "</a>\n",
       "</g>\n",
       "</g>\n",
       "</g>\n",
       "</svg>"
      ],
      "text/plain": [
       "<IPython.core.display.SVG object>"
      ]
     },
     "metadata": {},
     "output_type": "display_data"
    }
   ],
   "source": [
    "#http://www.stats.ox.ac.uk/~lienart/gml15_causalinference.html\n",
    "\n",
    "m1 = gum.BayesNet()\n",
    "m1.add(gum.LabelizedVariable(\"a\"))\n",
    "m1.add(gum.LabelizedVariable(\"p\"))\n",
    "m1.add(gum.LabelizedVariable(\"b\"))\n",
    "m1.add(gum.LabelizedVariable(\"y\"))\n",
    "\n",
    "m1.addArc(0,1)\n",
    "m1.addArc(1,2)\n",
    "m1.addArc(0,3)\n",
    "m1.addArc(1,3)\n",
    "m1.addArc(2,3)\n",
    "gnb.showBN(m1)\n",
    "d = csl.CausalModel(m1)"
   ]
  },
  {
   "cell_type": "code",
   "execution_count": 25,
   "metadata": {
    "ExecuteTime": {
     "end_time": "2019-03-30T09:47:45.120857Z",
     "start_time": "2019-03-30T09:47:45.114350Z"
    },
    "execution": {
     "iopub.execute_input": "2023-07-25T08:47:47.000775Z",
     "iopub.status.busy": "2023-07-25T08:47:47.000104Z",
     "iopub.status.idle": "2023-07-25T08:47:47.007850Z",
     "shell.execute_reply": "2023-07-25T08:47:47.007023Z",
     "shell.execute_reply.started": "2023-07-25T08:47:47.000735Z"
    }
   },
   "outputs": [
    {
     "data": {
      "text/latex": [
       "$\\displaystyle \\sum_{p}{P\\left(y\\mid a,b,p\\right) \\cdot P\\left(p\\mid a\\right)}$"
      ],
      "text/plain": [
       "<IPython.core.display.Math object>"
      ]
     },
     "metadata": {},
     "output_type": "display_data"
    }
   ],
   "source": [
    "display(Math(csl.identifyingIntervention(d,{\"y\"}, {\"a\",\"b\"}).toLatex()))"
   ]
  },
  {
   "cell_type": "markdown",
   "metadata": {},
   "source": [
    "## example f"
   ]
  },
  {
   "cell_type": "code",
   "execution_count": 26,
   "metadata": {
    "ExecuteTime": {
     "end_time": "2019-03-30T09:47:47.074252Z",
     "start_time": "2019-03-30T09:47:45.123670Z"
    },
    "execution": {
     "iopub.execute_input": "2023-07-25T08:47:47.009913Z",
     "iopub.status.busy": "2023-07-25T08:47:47.009394Z",
     "iopub.status.idle": "2023-07-25T08:47:47.124485Z",
     "shell.execute_reply": "2023-07-25T08:47:47.123558Z",
     "shell.execute_reply.started": "2023-07-25T08:47:47.009870Z"
    }
   },
   "outputs": [
    {
     "data": {
      "image/svg+xml": [
       "<svg xmlns=\"http://www.w3.org/2000/svg\" xmlns:xlink=\"http://www.w3.org/1999/xlink\" width=\"98pt\" height=\"180pt\" viewBox=\"0.00 0.00 98.01 180.00\">\n",
       "<g id=\"graph0\" class=\"graph\" transform=\"scale(0.600801 0.600801) rotate(0) translate(4 295.6)\">\n",
       "<title>G</title>\n",
       "<!-- l1 -->\n",
       "<g id=\"node1\" class=\"node\">\n",
       "<title>l1</title>\n",
       "<ellipse fill=\"#404040\" stroke=\"#4a4a4a\" cx=\"54\" cy=\"-289.8\" rx=\"1.8\" ry=\"1.8\"/>\n",
       "</g>\n",
       "<!-- X -->\n",
       "<g id=\"node3\" class=\"node\">\n",
       "<title>X</title>\n",
       "<ellipse fill=\"#404040\" stroke=\"#4a4a4a\" cx=\"27\" cy=\"-234\" rx=\"27\" ry=\"18\"/>\n",
       "<text text-anchor=\"middle\" x=\"27\" y=\"-229.32\" font-family=\"Times,serif\" font-size=\"14.00\" fill=\"white\">X</text>\n",
       "</g>\n",
       "<!-- l1&#45;&gt;X -->\n",
       "<g id=\"edge2\" class=\"edge\">\n",
       "<title>l1-&gt;X</title>\n",
       "<path fill=\"none\" stroke=\"#4a4a4a\" stroke-dasharray=\"5,2\" d=\"M53.53,-287.87C51.85,-284.51 45.89,-272.63 40.04,-260.98\"/>\n",
       "<polygon fill=\"#4a4a4a\" stroke=\"#4a4a4a\" points=\"42.87,-259.81 35.25,-252.44 36.61,-262.95 42.87,-259.81\"/>\n",
       "</g>\n",
       "<!-- Z1 -->\n",
       "<g id=\"node5\" class=\"node\">\n",
       "<title>Z1</title>\n",
       "<ellipse fill=\"#404040\" stroke=\"#4a4a4a\" cx=\"82\" cy=\"-162\" rx=\"27\" ry=\"18\"/>\n",
       "<text text-anchor=\"middle\" x=\"82\" y=\"-157.32\" font-family=\"Times,serif\" font-size=\"14.00\" fill=\"white\">Z1</text>\n",
       "</g>\n",
       "<!-- l1&#45;&gt;Z1 -->\n",
       "<g id=\"edge6\" class=\"edge\">\n",
       "<title>l1-&gt;Z1</title>\n",
       "<path fill=\"none\" stroke=\"#4a4a4a\" stroke-dasharray=\"5,2\" d=\"M54.29,-287.66C55.44,-283.14 59.77,-266.1 63,-252 67.69,-231.53 72.63,-208.33 76.3,-190.75\"/>\n",
       "<polygon fill=\"#4a4a4a\" stroke=\"#4a4a4a\" points=\"79.9,-191.6 78.51,-181.09 73.05,-190.18 79.9,-191.6\"/>\n",
       "</g>\n",
       "<!-- l2 -->\n",
       "<g id=\"node2\" class=\"node\">\n",
       "<title>l2</title>\n",
       "<ellipse fill=\"#404040\" stroke=\"#4a4a4a\" cx=\"143\" cy=\"-234\" rx=\"1.8\" ry=\"1.8\"/>\n",
       "</g>\n",
       "<!-- Y -->\n",
       "<g id=\"node4\" class=\"node\">\n",
       "<title>Y</title>\n",
       "<ellipse fill=\"#404040\" stroke=\"#4a4a4a\" cx=\"76\" cy=\"-18\" rx=\"27\" ry=\"18\"/>\n",
       "<text text-anchor=\"middle\" x=\"76\" y=\"-13.32\" font-family=\"Times,serif\" font-size=\"14.00\" fill=\"white\">Y</text>\n",
       "</g>\n",
       "<!-- l2&#45;&gt;Y -->\n",
       "<g id=\"edge5\" class=\"edge\">\n",
       "<title>l2-&gt;Y</title>\n",
       "<path fill=\"none\" stroke=\"#4a4a4a\" stroke-dasharray=\"5,2\" d=\"M143.31,-231.9C146.28,-221.06 169.12,-132.45 140,-72 132.75,-56.94 118.95,-44.65 106.01,-35.72\"/>\n",
       "<polygon fill=\"#4a4a4a\" stroke=\"#4a4a4a\" points=\"108.16,-32.29 97.85,-29.81 104.36,-38.17 108.16,-32.29\"/>\n",
       "</g>\n",
       "<!-- l2&#45;&gt;Z1 -->\n",
       "<g id=\"edge9\" class=\"edge\">\n",
       "<title>l2-&gt;Z1</title>\n",
       "<path fill=\"none\" stroke=\"#4a4a4a\" stroke-dasharray=\"5,2\" d=\"M142.14,-232.01C137.77,-227 117.66,-203.92 101.88,-185.81\"/>\n",
       "<polygon fill=\"#4a4a4a\" stroke=\"#4a4a4a\" points=\"104.22,-184.17 95.01,-178.93 98.94,-188.76 104.22,-184.17\"/>\n",
       "</g>\n",
       "<!-- X&#45;&gt;Y -->\n",
       "<g id=\"edge1\" class=\"edge\">\n",
       "<title>X-&gt;Y</title>\n",
       "<path fill=\"none\" stroke=\"#4a4a4a\" d=\"M29.43,-215.82C35.4,-186.39 48.32,-124.05 61.03,-71.76 63.04,-63.48 65.35,-54.53 67.51,-46.37\"/>\n",
       "<path fill=\"none\" stroke=\"#4a4a4a\" d=\"M31.39,-216.22C37.36,-186.79 50.28,-124.46 62.97,-72.24 64.98,-63.98 67.29,-55.03 69.45,-46.88\"/>\n",
       "<polygon fill=\"#4a4a4a\" stroke=\"#4a4a4a\" points=\"72.08,-47.71 71.29,-37.14 65.32,-45.9 72.08,-47.71\"/>\n",
       "</g>\n",
       "<!-- X&#45;&gt;Z1 -->\n",
       "<g id=\"edge8\" class=\"edge\">\n",
       "<title>X-&gt;Z1</title>\n",
       "<path fill=\"none\" stroke=\"#4a4a4a\" d=\"M38.42,-216.85C45.47,-207.87 54.48,-196.4 62.42,-186.3\"/>\n",
       "<path fill=\"none\" stroke=\"#4a4a4a\" d=\"M39.99,-218.08C47.04,-209.11 56.06,-197.64 63.99,-187.54\"/>\n",
       "<polygon fill=\"#4a4a4a\" stroke=\"#4a4a4a\" points=\"66.4,-189.52 69.83,-179.49 60.9,-185.19 66.4,-189.52\"/>\n",
       "</g>\n",
       "<!-- Z1&#45;&gt;Y -->\n",
       "<g id=\"edge3\" class=\"edge\">\n",
       "<title>Z1-&gt;Y</title>\n",
       "<path fill=\"none\" stroke=\"#4a4a4a\" d=\"M75.37,-144.33C72.21,-134 68.63,-120.53 67.01,-108.13 64.35,-87.46 66.61,-64.26 69.4,-46.61\"/>\n",
       "<path fill=\"none\" stroke=\"#4a4a4a\" d=\"M77.28,-143.75C74.14,-133.49 70.56,-120.01 68.99,-107.87 66.34,-87.65 68.6,-64.45 71.38,-46.92\"/>\n",
       "<polygon fill=\"#4a4a4a\" stroke=\"#4a4a4a\" points=\"73.98,-47.56 72.25,-37.11 67.08,-46.36 73.98,-47.56\"/>\n",
       "</g>\n",
       "<!-- Z2 -->\n",
       "<g id=\"node6\" class=\"node\">\n",
       "<title>Z2</title>\n",
       "<ellipse fill=\"#404040\" stroke=\"#4a4a4a\" cx=\"104\" cy=\"-90\" rx=\"27\" ry=\"18\"/>\n",
       "<text text-anchor=\"middle\" x=\"104\" y=\"-85.33\" font-family=\"Times,serif\" font-size=\"14.00\" fill=\"white\">Z2</text>\n",
       "</g>\n",
       "<!-- Z1&#45;&gt;Z2 -->\n",
       "<g id=\"edge7\" class=\"edge\">\n",
       "<title>Z1-&gt;Z2</title>\n",
       "<path fill=\"none\" stroke=\"#4a4a4a\" d=\"M86.37,-143.76C88.8,-136.02 91.75,-126.66 94.48,-117.97\"/>\n",
       "<path fill=\"none\" stroke=\"#4a4a4a\" d=\"M88.28,-144.35C90.71,-136.62 93.65,-127.26 96.38,-118.57\"/>\n",
       "<polygon fill=\"#4a4a4a\" stroke=\"#4a4a4a\" points=\"99.06,-119.38 98.72,-108.79 92.39,-117.28 99.06,-119.38\"/>\n",
       "</g>\n",
       "<!-- Z2&#45;&gt;Y -->\n",
       "<g id=\"edge4\" class=\"edge\">\n",
       "<title>Z2-&gt;Y</title>\n",
       "<path fill=\"none\" stroke=\"#4a4a4a\" d=\"M96.44,-72.78C93.23,-64.76 89.3,-54.94 85.69,-45.91\"/>\n",
       "<path fill=\"none\" stroke=\"#4a4a4a\" d=\"M98.29,-72.04C95.08,-64.02 91.16,-54.2 87.55,-45.17\"/>\n",
       "<polygon fill=\"#4a4a4a\" stroke=\"#4a4a4a\" points=\"89.55,-44.45 82.59,-36.47 83.05,-47.05 89.55,-44.45\"/>\n",
       "</g>\n",
       "</g>\n",
       "</svg>"
      ],
      "text/plain": [
       "<IPython.core.display.SVG object>"
      ]
     },
     "metadata": {},
     "output_type": "display_data"
    }
   ],
   "source": [
    "#https://cse.sc.edu/~mgv/talks/AIM2010.ppt , example (f)\n",
    "\n",
    "m1 = gum.BayesNet()\n",
    "m1.add(gum.LabelizedVariable(\"X\"))\n",
    "m1.add(gum.LabelizedVariable(\"Y\"))\n",
    "m1.add(gum.LabelizedVariable(\"Z1\"))\n",
    "m1.add(gum.LabelizedVariable(\"Z2\"))\n",
    "\n",
    "m1.addArc(0,1)\n",
    "m1.addArc(0,2)\n",
    "m1.addArc(2,3)\n",
    "m1.addArc(3,1)\n",
    "m1.addArc(2,1)\n",
    "d = csl.CausalModel(m1, [(\"l1\",[\"X\",\"Z1\"]) ,(\"l2\",[\"Y\",\"Z1\"])],True)\n",
    "cslnb.showCausalModel(d)"
   ]
  },
  {
   "cell_type": "code",
   "execution_count": 27,
   "metadata": {
    "ExecuteTime": {
     "end_time": "2019-03-30T09:47:47.084796Z",
     "start_time": "2019-03-30T09:47:47.078258Z"
    },
    "execution": {
     "iopub.execute_input": "2023-07-25T08:47:47.125623Z",
     "iopub.status.busy": "2023-07-25T08:47:47.125400Z",
     "iopub.status.idle": "2023-07-25T08:47:47.131602Z",
     "shell.execute_reply": "2023-07-25T08:47:47.130923Z",
     "shell.execute_reply.started": "2023-07-25T08:47:47.125603Z"
    }
   },
   "outputs": [
    {
     "name": "stdout",
     "output_type": "stream",
     "text": [
      "Hedge exception : Hedge Error: G={'Z1', 'X', 'Y'}, G[S]={'Z1', 'Y'}\n"
     ]
    }
   ],
   "source": [
    "try:\n",
    "    display(Math(csl.identifyingIntervention (d,{\"Y\"}, {\"X\"}).toLatex()))\n",
    "except csl.HedgeException as e:\n",
    "    print(\"Hedge exception : {}\".format(e))"
   ]
  },
  {
   "cell_type": "markdown",
   "metadata": {},
   "source": [
    "## Example [Pearl,2009] Causality, p66"
   ]
  },
  {
   "cell_type": "code",
   "execution_count": 28,
   "metadata": {
    "ExecuteTime": {
     "end_time": "2019-03-30T09:48:38.071599Z",
     "start_time": "2019-03-30T09:48:34.411764Z"
    },
    "execution": {
     "iopub.execute_input": "2023-07-25T08:47:47.132611Z",
     "iopub.status.busy": "2023-07-25T08:47:47.132424Z",
     "iopub.status.idle": "2023-07-25T08:47:47.209365Z",
     "shell.execute_reply": "2023-07-25T08:47:47.208266Z",
     "shell.execute_reply.started": "2023-07-25T08:47:47.132594Z"
    }
   },
   "outputs": [
    {
     "data": {
      "image/svg+xml": [
       "<svg xmlns=\"http://www.w3.org/2000/svg\" xmlns:xlink=\"http://www.w3.org/1999/xlink\" width=\"172pt\" height=\"332pt\" viewBox=\"0.00 0.00 172.00 332.00\">\n",
       "<g id=\"graph0\" class=\"graph\" transform=\"scale(1 1) rotate(0) translate(4 328)\">\n",
       "<title>G</title>\n",
       "<!-- Y -->\n",
       "<g id=\"node1\" class=\"node\">\n",
       "<title>Y</title>\n",
       "<g id=\"a_node1\"><a xlink:title=\"(3) Y\">\n",
       "<ellipse fill=\"#404040\" stroke=\"black\" cx=\"82\" cy=\"-18\" rx=\"27\" ry=\"18\"/>\n",
       "<text text-anchor=\"middle\" x=\"82\" y=\"-13.32\" font-family=\"Times,serif\" font-size=\"14.00\" fill=\"white\">Y</text>\n",
       "</a>\n",
       "</g>\n",
       "</g>\n",
       "<!-- Z2 -->\n",
       "<g id=\"node2\" class=\"node\">\n",
       "<title>Z2</title>\n",
       "<g id=\"a_node2\"><a xlink:title=\"(1) Z2\">\n",
       "<ellipse fill=\"#404040\" stroke=\"black\" cx=\"27\" cy=\"-162\" rx=\"27\" ry=\"18\"/>\n",
       "<text text-anchor=\"middle\" x=\"27\" y=\"-157.32\" font-family=\"Times,serif\" font-size=\"14.00\" fill=\"white\">Z2</text>\n",
       "</a>\n",
       "</g>\n",
       "</g>\n",
       "<!-- Z2&#45;&gt;Y -->\n",
       "<g id=\"edge9\" class=\"edge\">\n",
       "<title>Z2-&gt;Y</title>\n",
       "<g id=\"a_edge9\"><a xlink:title=\"1 → 3\">\n",
       "<path fill=\"none\" stroke=\"#4a4a4a\" d=\"M33.53,-144.15C42.91,-119.92 60.32,-74.96 71.52,-46.05\"/>\n",
       "<polygon fill=\"#4a4a4a\" stroke=\"#4a4a4a\" points=\"75.14,-47.41 75.48,-36.82 68.61,-44.89 75.14,-47.41\"/>\n",
       "</a>\n",
       "</g>\n",
       "</g>\n",
       "<!-- Z3 -->\n",
       "<g id=\"node5\" class=\"node\">\n",
       "<title>Z3</title>\n",
       "<g id=\"a_node5\"><a xlink:title=\"(2) Z3\">\n",
       "<ellipse fill=\"#404040\" stroke=\"black\" cx=\"137\" cy=\"-90\" rx=\"27\" ry=\"18\"/>\n",
       "<text text-anchor=\"middle\" x=\"137\" y=\"-85.33\" font-family=\"Times,serif\" font-size=\"14.00\" fill=\"white\">Z3</text>\n",
       "</a>\n",
       "</g>\n",
       "</g>\n",
       "<!-- Z2&#45;&gt;Z3 -->\n",
       "<g id=\"edge2\" class=\"edge\">\n",
       "<title>Z2-&gt;Z3</title>\n",
       "<g id=\"a_edge2\"><a xlink:title=\"1 → 2\">\n",
       "<path fill=\"none\" stroke=\"#4a4a4a\" d=\"M46.16,-148.81C63.51,-137.77 89.29,-121.36 108.96,-108.84\"/>\n",
       "<polygon fill=\"#4a4a4a\" stroke=\"#4a4a4a\" points=\"110.5,-111.37 117.06,-103.05 106.74,-105.47 110.5,-111.37\"/>\n",
       "</a>\n",
       "</g>\n",
       "</g>\n",
       "<!-- Z1 -->\n",
       "<g id=\"node3\" class=\"node\">\n",
       "<title>Z1</title>\n",
       "<g id=\"a_node3\"><a xlink:title=\"(0) Z1\">\n",
       "<ellipse fill=\"#404040\" stroke=\"black\" cx=\"82\" cy=\"-306\" rx=\"27\" ry=\"18\"/>\n",
       "<text text-anchor=\"middle\" x=\"82\" y=\"-301.32\" font-family=\"Times,serif\" font-size=\"14.00\" fill=\"white\">Z1</text>\n",
       "</a>\n",
       "</g>\n",
       "</g>\n",
       "<!-- Z1&#45;&gt;Z2 -->\n",
       "<g id=\"edge1\" class=\"edge\">\n",
       "<title>Z1-&gt;Z2</title>\n",
       "<g id=\"a_edge1\"><a xlink:title=\"0 → 1\">\n",
       "<path fill=\"none\" stroke=\"#4a4a4a\" d=\"M69.25,-289.7C61.44,-279.59 51.85,-265.71 46,-252 37.71,-232.57 32.89,-209.16 30.19,-191.22\"/>\n",
       "<polygon fill=\"#4a4a4a\" stroke=\"#4a4a4a\" points=\"33.52,-190.76 28.7,-181.33 26.58,-191.71 33.52,-190.76\"/>\n",
       "</a>\n",
       "</g>\n",
       "</g>\n",
       "<!-- X -->\n",
       "<g id=\"node4\" class=\"node\">\n",
       "<title>X</title>\n",
       "<g id=\"a_node4\"><a xlink:title=\"(4) X\">\n",
       "<ellipse fill=\"#404040\" stroke=\"black\" cx=\"82\" cy=\"-234\" rx=\"27\" ry=\"18\"/>\n",
       "<text text-anchor=\"middle\" x=\"82\" y=\"-229.32\" font-family=\"Times,serif\" font-size=\"14.00\" fill=\"white\">X</text>\n",
       "</a>\n",
       "</g>\n",
       "</g>\n",
       "<!-- Z1&#45;&gt;X -->\n",
       "<g id=\"edge3\" class=\"edge\">\n",
       "<title>Z1-&gt;X</title>\n",
       "<g id=\"a_edge3\"><a xlink:title=\"0 → 4\">\n",
       "<path fill=\"none\" stroke=\"#4a4a4a\" d=\"M82,-287.7C82,-280.24 82,-271.32 82,-262.97\"/>\n",
       "<polygon fill=\"#4a4a4a\" stroke=\"#4a4a4a\" points=\"85.5,-263.1 82,-253.1 78.5,-263.1 85.5,-263.1\"/>\n",
       "</a>\n",
       "</g>\n",
       "</g>\n",
       "<!-- Z1&#45;&gt;Z3 -->\n",
       "<g id=\"edge8\" class=\"edge\">\n",
       "<title>Z1-&gt;Z3</title>\n",
       "<g id=\"a_edge8\"><a xlink:title=\"0 → 2\">\n",
       "<path fill=\"none\" stroke=\"#4a4a4a\" d=\"M95.19,-289.88C103.17,-279.83 112.79,-265.97 118,-252 134.63,-207.42 137.58,-151.5 137.67,-118.67\"/>\n",
       "<polygon fill=\"#4a4a4a\" stroke=\"#4a4a4a\" points=\"141.16,-119.05 137.6,-109.07 134.17,-119.09 141.16,-119.05\"/>\n",
       "</a>\n",
       "</g>\n",
       "</g>\n",
       "<!-- X&#45;&gt;Y -->\n",
       "<g id=\"edge5\" class=\"edge\">\n",
       "<title>X-&gt;Y</title>\n",
       "<g id=\"a_edge5\"><a xlink:title=\"4 → 3\">\n",
       "<path fill=\"none\" stroke=\"#4a4a4a\" d=\"M82,-215.85C82,-178.99 82,-91.92 82,-46.96\"/>\n",
       "<polygon fill=\"#4a4a4a\" stroke=\"#4a4a4a\" points=\"85.5,-47.23 82,-37.23 78.5,-47.23 85.5,-47.23\"/>\n",
       "</a>\n",
       "</g>\n",
       "</g>\n",
       "<!-- X&#45;&gt;Z2 -->\n",
       "<g id=\"edge4\" class=\"edge\">\n",
       "<title>X-&gt;Z2</title>\n",
       "<g id=\"a_edge4\"><a xlink:title=\"4 → 1\">\n",
       "<path fill=\"none\" stroke=\"#4a4a4a\" d=\"M69.79,-217.46C62.74,-208.49 53.73,-197.02 45.79,-186.92\"/>\n",
       "<polygon fill=\"#4a4a4a\" stroke=\"#4a4a4a\" points=\"48.1,-185.19 39.17,-179.49 42.6,-189.52 48.1,-185.19\"/>\n",
       "</a>\n",
       "</g>\n",
       "</g>\n",
       "<!-- X&#45;&gt;Z3 -->\n",
       "<g id=\"edge6\" class=\"edge\">\n",
       "<title>X-&gt;Z3</title>\n",
       "<g id=\"a_edge6\"><a xlink:title=\"4 → 2\">\n",
       "<path fill=\"none\" stroke=\"#4a4a4a\" d=\"M88.53,-216.15C97.91,-191.92 115.32,-146.96 126.52,-118.05\"/>\n",
       "<polygon fill=\"#4a4a4a\" stroke=\"#4a4a4a\" points=\"130.14,-119.41 130.48,-108.82 123.61,-116.89 130.14,-119.41\"/>\n",
       "</a>\n",
       "</g>\n",
       "</g>\n",
       "<!-- Z3&#45;&gt;Y -->\n",
       "<g id=\"edge7\" class=\"edge\">\n",
       "<title>Z3-&gt;Y</title>\n",
       "<g id=\"a_edge7\"><a xlink:title=\"2 → 3\">\n",
       "<path fill=\"none\" stroke=\"#4a4a4a\" d=\"M124.79,-73.46C117.74,-64.49 108.73,-53.02 100.79,-42.92\"/>\n",
       "<polygon fill=\"#4a4a4a\" stroke=\"#4a4a4a\" points=\"103.1,-41.19 94.17,-35.49 97.6,-45.52 103.1,-41.19\"/>\n",
       "</a>\n",
       "</g>\n",
       "</g>\n",
       "</g>\n",
       "</svg>"
      ],
      "text/plain": [
       "<IPython.core.display.SVG object>"
      ]
     },
     "metadata": {},
     "output_type": "display_data"
    }
   ],
   "source": [
    "bn = gum.fastBN(\"Z1->Z2->Z3->Y<-X->Z2;Z2->Y;Z1->X->Z3<-Z1\")\n",
    "gnb.showBN(bn)"
   ]
  },
  {
   "cell_type": "code",
   "execution_count": 29,
   "metadata": {
    "ExecuteTime": {
     "end_time": "2019-03-30T09:48:38.071599Z",
     "start_time": "2019-03-30T09:48:34.411764Z"
    },
    "execution": {
     "iopub.execute_input": "2023-07-25T08:47:47.211117Z",
     "iopub.status.busy": "2023-07-25T08:47:47.210744Z",
     "iopub.status.idle": "2023-07-25T08:47:47.318349Z",
     "shell.execute_reply": "2023-07-25T08:47:47.317673Z",
     "shell.execute_reply.started": "2023-07-25T08:47:47.211080Z"
    },
    "tags": [
     "nbsphinx-thumbnail"
    ]
   },
   "outputs": [
    {
     "data": {
      "image/svg+xml": [
       "<svg xmlns=\"http://www.w3.org/2000/svg\" xmlns:xlink=\"http://www.w3.org/1999/xlink\" width=\"101pt\" height=\"180pt\" viewBox=\"0.00 0.00 100.93 180.00\">\n",
       "<g id=\"graph0\" class=\"graph\" transform=\"scale(0.600801 0.600801) rotate(0) translate(4 295.6)\">\n",
       "<title>G</title>\n",
       "<!-- Z0 -->\n",
       "<g id=\"node1\" class=\"node\">\n",
       "<title>Z0</title>\n",
       "<ellipse fill=\"#404040\" stroke=\"#4a4a4a\" cx=\"61\" cy=\"-289.8\" rx=\"1.8\" ry=\"1.8\"/>\n",
       "</g>\n",
       "<!-- Z1 -->\n",
       "<g id=\"node2\" class=\"node\">\n",
       "<title>Z1</title>\n",
       "<ellipse fill=\"#404040\" stroke=\"#4a4a4a\" cx=\"61\" cy=\"-234\" rx=\"27\" ry=\"18\"/>\n",
       "<text text-anchor=\"middle\" x=\"61\" y=\"-229.32\" font-family=\"Times,serif\" font-size=\"14.00\" fill=\"white\">Z1</text>\n",
       "</g>\n",
       "<!-- Z0&#45;&gt;Z1 -->\n",
       "<g id=\"edge7\" class=\"edge\">\n",
       "<title>Z0-&gt;Z1</title>\n",
       "<path fill=\"none\" stroke=\"#4a4a4a\" stroke-dasharray=\"5,2\" d=\"M61,-287.87C61,-284.71 61,-274 61,-263.03\"/>\n",
       "<polygon fill=\"#4a4a4a\" stroke=\"#4a4a4a\" points=\"64.5,-263.26 61,-253.26 57.5,-263.26 64.5,-263.26\"/>\n",
       "</g>\n",
       "<!-- Z3 -->\n",
       "<g id=\"node4\" class=\"node\">\n",
       "<title>Z3</title>\n",
       "<ellipse fill=\"#404040\" stroke=\"#4a4a4a\" cx=\"27\" cy=\"-90\" rx=\"27\" ry=\"18\"/>\n",
       "<text text-anchor=\"middle\" x=\"27\" y=\"-85.33\" font-family=\"Times,serif\" font-size=\"14.00\" fill=\"white\">Z3</text>\n",
       "</g>\n",
       "<!-- Z0&#45;&gt;Z3 -->\n",
       "<g id=\"edge9\" class=\"edge\">\n",
       "<title>Z0-&gt;Z3</title>\n",
       "<path fill=\"none\" stroke=\"#4a4a4a\" stroke-dasharray=\"5,2\" d=\"M59.81,-288.09C54.45,-284.81 32.56,-270.54 25,-252 7.06,-208.01 13.82,-151.46 20.39,-118.43\"/>\n",
       "<polygon fill=\"#4a4a4a\" stroke=\"#4a4a4a\" points=\"24,-119.29 22.67,-108.78 17.16,-117.83 24,-119.29\"/>\n",
       "</g>\n",
       "<!-- X -->\n",
       "<g id=\"node6\" class=\"node\">\n",
       "<title>X</title>\n",
       "<ellipse fill=\"#404040\" stroke=\"#4a4a4a\" cx=\"133\" cy=\"-234\" rx=\"27\" ry=\"18\"/>\n",
       "<text text-anchor=\"middle\" x=\"133\" y=\"-229.32\" font-family=\"Times,serif\" font-size=\"14.00\" fill=\"white\">X</text>\n",
       "</g>\n",
       "<!-- Z0&#45;&gt;X -->\n",
       "<g id=\"edge5\" class=\"edge\">\n",
       "<title>Z0-&gt;X</title>\n",
       "<path fill=\"none\" stroke=\"#4a4a4a\" stroke-dasharray=\"5,2\" d=\"M62.02,-288.04C66.95,-284.35 88.9,-267.95 107.1,-254.36\"/>\n",
       "<polygon fill=\"#4a4a4a\" stroke=\"#4a4a4a\" points=\"108.72,-256.76 114.64,-247.97 104.53,-251.15 108.72,-256.76\"/>\n",
       "</g>\n",
       "<!-- Z2 -->\n",
       "<g id=\"node3\" class=\"node\">\n",
       "<title>Z2</title>\n",
       "<ellipse fill=\"#404040\" stroke=\"#4a4a4a\" cx=\"69\" cy=\"-162\" rx=\"27\" ry=\"18\"/>\n",
       "<text text-anchor=\"middle\" x=\"69\" y=\"-157.32\" font-family=\"Times,serif\" font-size=\"14.00\" fill=\"white\">Z2</text>\n",
       "</g>\n",
       "<!-- Z1&#45;&gt;Z2 -->\n",
       "<g id=\"edge1\" class=\"edge\">\n",
       "<title>Z1-&gt;Z2</title>\n",
       "<path fill=\"none\" stroke=\"#4a4a4a\" d=\"M61.98,-215.58C62.84,-208.12 63.86,-199.21 64.81,-190.85\"/>\n",
       "<path fill=\"none\" stroke=\"#4a4a4a\" d=\"M63.97,-215.81C64.82,-208.35 65.84,-199.44 66.8,-191.08\"/>\n",
       "<polygon fill=\"#4a4a4a\" stroke=\"#4a4a4a\" points=\"69.39,-191.44 67.05,-181.1 62.43,-190.64 69.39,-191.44\"/>\n",
       "</g>\n",
       "<!-- Z2&#45;&gt;Z3 -->\n",
       "<g id=\"edge2\" class=\"edge\">\n",
       "<title>Z2-&gt;Z3</title>\n",
       "<path fill=\"none\" stroke=\"#4a4a4a\" d=\"M58.4,-145.28C53.37,-136.89 47.1,-126.45 41.44,-117.01\"/>\n",
       "<path fill=\"none\" stroke=\"#4a4a4a\" d=\"M60.12,-144.25C55.08,-135.86 48.82,-125.42 43.15,-115.98\"/>\n",
       "<polygon fill=\"#4a4a4a\" stroke=\"#4a4a4a\" points=\"44.83,-114.92 36.69,-108.15 38.83,-118.52 44.83,-114.92\"/>\n",
       "</g>\n",
       "<!-- Y -->\n",
       "<g id=\"node5\" class=\"node\">\n",
       "<title>Y</title>\n",
       "<ellipse fill=\"#404040\" stroke=\"#4a4a4a\" cx=\"82\" cy=\"-18\" rx=\"27\" ry=\"18\"/>\n",
       "<text text-anchor=\"middle\" x=\"82\" y=\"-13.32\" font-family=\"Times,serif\" font-size=\"14.00\" fill=\"white\">Y</text>\n",
       "</g>\n",
       "<!-- Z2&#45;&gt;Y -->\n",
       "<g id=\"edge8\" class=\"edge\">\n",
       "<title>Z2-&gt;Y</title>\n",
       "<path fill=\"none\" stroke=\"#4a4a4a\" d=\"M69.6,-143.5C71.8,-119.41 75.81,-75.66 78.44,-46.94\"/>\n",
       "<path fill=\"none\" stroke=\"#4a4a4a\" d=\"M71.59,-143.68C73.79,-119.6 77.8,-75.84 80.43,-47.13\"/>\n",
       "<polygon fill=\"#4a4a4a\" stroke=\"#4a4a4a\" points=\"83.01,-47.39 80.43,-37.11 76.04,-46.75 83.01,-47.39\"/>\n",
       "</g>\n",
       "<!-- Z3&#45;&gt;Y -->\n",
       "<g id=\"edge6\" class=\"edge\">\n",
       "<title>Z3-&gt;Y</title>\n",
       "<path fill=\"none\" stroke=\"#4a4a4a\" d=\"M38.42,-72.85C45.47,-63.87 54.48,-52.4 62.42,-42.3\"/>\n",
       "<path fill=\"none\" stroke=\"#4a4a4a\" d=\"M39.99,-74.08C47.04,-65.11 56.06,-53.64 63.99,-43.54\"/>\n",
       "<polygon fill=\"#4a4a4a\" stroke=\"#4a4a4a\" points=\"66.4,-45.52 69.83,-35.49 60.9,-41.19 66.4,-45.52\"/>\n",
       "</g>\n",
       "<!-- X&#45;&gt;Z2 -->\n",
       "<g id=\"edge3\" class=\"edge\">\n",
       "<title>X-&gt;Z2</title>\n",
       "<path fill=\"none\" stroke=\"#4a4a4a\" d=\"M118.69,-218.83C110.12,-209.46 98.87,-197.16 89.18,-186.55\"/>\n",
       "<path fill=\"none\" stroke=\"#4a4a4a\" d=\"M120.17,-217.48C111.6,-208.11 100.35,-195.81 90.65,-185.2\"/>\n",
       "<polygon fill=\"#4a4a4a\" stroke=\"#4a4a4a\" points=\"92.88,-183.84 83.55,-178.82 87.72,-188.57 92.88,-183.84\"/>\n",
       "</g>\n",
       "<!-- X&#45;&gt;Y -->\n",
       "<g id=\"edge4\" class=\"edge\">\n",
       "<title>X-&gt;Y</title>\n",
       "<path fill=\"none\" stroke=\"#4a4a4a\" d=\"M127.94,-216.08C119.14,-179.14 98.32,-91.78 87.62,-46.9\"/>\n",
       "<path fill=\"none\" stroke=\"#4a4a4a\" d=\"M129.89,-215.62C121.08,-178.68 100.26,-91.32 89.57,-46.44\"/>\n",
       "<polygon fill=\"#4a4a4a\" stroke=\"#4a4a4a\" points=\"91.83,-46.15 86.11,-37.23 85.02,-47.77 91.83,-46.15\"/>\n",
       "</g>\n",
       "</g>\n",
       "</svg>"
      ],
      "text/plain": [
       "<IPython.core.display.SVG object>"
      ]
     },
     "metadata": {},
     "output_type": "display_data"
    }
   ],
   "source": [
    "c = csl.CausalModel(bn, [(\"Z0\", (\"X\", \"Z1\", \"Z3\"))], False)\n",
    "cslnb.showCausalModel(c)"
   ]
  },
  {
   "cell_type": "code",
   "execution_count": 30,
   "metadata": {
    "ExecuteTime": {
     "end_time": "2019-03-30T09:48:38.071599Z",
     "start_time": "2019-03-30T09:48:34.411764Z"
    },
    "execution": {
     "iopub.execute_input": "2023-07-25T08:47:47.319617Z",
     "iopub.status.busy": "2023-07-25T08:47:47.319354Z",
     "iopub.status.idle": "2023-07-25T08:47:47.449646Z",
     "shell.execute_reply": "2023-07-25T08:47:47.448727Z",
     "shell.execute_reply.started": "2023-07-25T08:47:47.319594Z"
    },
    "tags": []
   },
   "outputs": [
    {
     "data": {
      "text/html": [
       "\n",
       "      <style>\n",
       "      .floating-box {\n",
       "      display: inline-block;\n",
       "      margin: 7px;\n",
       "      padding : 3px;\n",
       "      border: 0px solid transparent;  \n",
       "      valign:middle;\n",
       "      background-color: transparent;\n",
       "      }\n",
       "      </style>\n",
       "      <div class=\"floating-box\"><svg xmlns=\"http://www.w3.org/2000/svg\" xmlns:xlink=\"http://www.w3.org/1999/xlink\" width=\"101pt\" height=\"180pt\" viewBox=\"0.00 0.00 100.93 180.00\">\n",
       "<g id=\"graph0\" class=\"graph\" transform=\"scale(0.600801 0.600801) rotate(0) translate(4 295.6)\">\n",
       "<title>G</title>\n",
       "<!-- Z0 -->\n",
       "<g id=\"node1\" class=\"node\">\n",
       "<title>Z0</title>\n",
       "<ellipse fill=\"#404040\" stroke=\"#4a4a4a\" cx=\"61\" cy=\"-289.8\" rx=\"1.8\" ry=\"1.8\"/>\n",
       "</g>\n",
       "<!-- Z1 -->\n",
       "<g id=\"node2\" class=\"node\">\n",
       "<title>Z1</title>\n",
       "<ellipse fill=\"#404040\" stroke=\"#4a4a4a\" cx=\"61\" cy=\"-234\" rx=\"27\" ry=\"18\"/>\n",
       "<text text-anchor=\"middle\" x=\"61\" y=\"-229.32\" font-family=\"Times,serif\" font-size=\"14.00\" fill=\"white\">Z1</text>\n",
       "</g>\n",
       "<!-- Z0&#45;&gt;Z1 -->\n",
       "<g id=\"edge7\" class=\"edge\">\n",
       "<title>Z0-&gt;Z1</title>\n",
       "<path fill=\"none\" stroke=\"#4a4a4a\" stroke-dasharray=\"5,2\" d=\"M61,-287.87C61,-284.71 61,-274 61,-263.03\"/>\n",
       "<polygon fill=\"#4a4a4a\" stroke=\"#4a4a4a\" points=\"64.5,-263.26 61,-253.26 57.5,-263.26 64.5,-263.26\"/>\n",
       "</g>\n",
       "<!-- Z3 -->\n",
       "<g id=\"node4\" class=\"node\">\n",
       "<title>Z3</title>\n",
       "<ellipse fill=\"#404040\" stroke=\"#4a4a4a\" cx=\"27\" cy=\"-90\" rx=\"27\" ry=\"18\"/>\n",
       "<text text-anchor=\"middle\" x=\"27\" y=\"-85.33\" font-family=\"Times,serif\" font-size=\"14.00\" fill=\"white\">Z3</text>\n",
       "</g>\n",
       "<!-- Z0&#45;&gt;Z3 -->\n",
       "<g id=\"edge9\" class=\"edge\">\n",
       "<title>Z0-&gt;Z3</title>\n",
       "<path fill=\"none\" stroke=\"#4a4a4a\" stroke-dasharray=\"5,2\" d=\"M59.81,-288.09C54.45,-284.81 32.56,-270.54 25,-252 7.06,-208.01 13.82,-151.46 20.39,-118.43\"/>\n",
       "<polygon fill=\"#4a4a4a\" stroke=\"#4a4a4a\" points=\"24,-119.29 22.67,-108.78 17.16,-117.83 24,-119.29\"/>\n",
       "</g>\n",
       "<!-- X -->\n",
       "<g id=\"node6\" class=\"node\">\n",
       "<title>X</title>\n",
       "<ellipse fill=\"#404040\" stroke=\"#4a4a4a\" cx=\"133\" cy=\"-234\" rx=\"27\" ry=\"18\"/>\n",
       "<text text-anchor=\"middle\" x=\"133\" y=\"-229.32\" font-family=\"Times,serif\" font-size=\"14.00\" fill=\"white\">X</text>\n",
       "</g>\n",
       "<!-- Z0&#45;&gt;X -->\n",
       "<g id=\"edge5\" class=\"edge\">\n",
       "<title>Z0-&gt;X</title>\n",
       "<path fill=\"none\" stroke=\"#4a4a4a\" stroke-dasharray=\"5,2\" d=\"M62.02,-288.04C66.95,-284.35 88.9,-267.95 107.1,-254.36\"/>\n",
       "<polygon fill=\"#4a4a4a\" stroke=\"#4a4a4a\" points=\"108.72,-256.76 114.64,-247.97 104.53,-251.15 108.72,-256.76\"/>\n",
       "</g>\n",
       "<!-- Z2 -->\n",
       "<g id=\"node3\" class=\"node\">\n",
       "<title>Z2</title>\n",
       "<ellipse fill=\"#404040\" stroke=\"#4a4a4a\" cx=\"69\" cy=\"-162\" rx=\"27\" ry=\"18\"/>\n",
       "<text text-anchor=\"middle\" x=\"69\" y=\"-157.32\" font-family=\"Times,serif\" font-size=\"14.00\" fill=\"white\">Z2</text>\n",
       "</g>\n",
       "<!-- Z1&#45;&gt;Z2 -->\n",
       "<g id=\"edge1\" class=\"edge\">\n",
       "<title>Z1-&gt;Z2</title>\n",
       "<path fill=\"none\" stroke=\"#4a4a4a\" d=\"M61.98,-215.58C62.84,-208.12 63.86,-199.21 64.81,-190.85\"/>\n",
       "<path fill=\"none\" stroke=\"#4a4a4a\" d=\"M63.97,-215.81C64.82,-208.35 65.84,-199.44 66.8,-191.08\"/>\n",
       "<polygon fill=\"#4a4a4a\" stroke=\"#4a4a4a\" points=\"69.39,-191.44 67.05,-181.1 62.43,-190.64 69.39,-191.44\"/>\n",
       "</g>\n",
       "<!-- Z2&#45;&gt;Z3 -->\n",
       "<g id=\"edge2\" class=\"edge\">\n",
       "<title>Z2-&gt;Z3</title>\n",
       "<path fill=\"none\" stroke=\"#4a4a4a\" d=\"M58.4,-145.28C53.37,-136.89 47.1,-126.45 41.44,-117.01\"/>\n",
       "<path fill=\"none\" stroke=\"#4a4a4a\" d=\"M60.12,-144.25C55.08,-135.86 48.82,-125.42 43.15,-115.98\"/>\n",
       "<polygon fill=\"#4a4a4a\" stroke=\"#4a4a4a\" points=\"44.83,-114.92 36.69,-108.15 38.83,-118.52 44.83,-114.92\"/>\n",
       "</g>\n",
       "<!-- Y -->\n",
       "<g id=\"node5\" class=\"node\">\n",
       "<title>Y</title>\n",
       "<ellipse fill=\"#404040\" stroke=\"#4a4a4a\" cx=\"82\" cy=\"-18\" rx=\"27\" ry=\"18\"/>\n",
       "<text text-anchor=\"middle\" x=\"82\" y=\"-13.32\" font-family=\"Times,serif\" font-size=\"14.00\" fill=\"white\">Y</text>\n",
       "</g>\n",
       "<!-- Z2&#45;&gt;Y -->\n",
       "<g id=\"edge8\" class=\"edge\">\n",
       "<title>Z2-&gt;Y</title>\n",
       "<path fill=\"none\" stroke=\"#4a4a4a\" d=\"M69.6,-143.5C71.8,-119.41 75.81,-75.66 78.44,-46.94\"/>\n",
       "<path fill=\"none\" stroke=\"#4a4a4a\" d=\"M71.59,-143.68C73.79,-119.6 77.8,-75.84 80.43,-47.13\"/>\n",
       "<polygon fill=\"#4a4a4a\" stroke=\"#4a4a4a\" points=\"83.01,-47.39 80.43,-37.11 76.04,-46.75 83.01,-47.39\"/>\n",
       "</g>\n",
       "<!-- Z3&#45;&gt;Y -->\n",
       "<g id=\"edge6\" class=\"edge\">\n",
       "<title>Z3-&gt;Y</title>\n",
       "<path fill=\"none\" stroke=\"#4a4a4a\" d=\"M38.42,-72.85C45.47,-63.87 54.48,-52.4 62.42,-42.3\"/>\n",
       "<path fill=\"none\" stroke=\"#4a4a4a\" d=\"M39.99,-74.08C47.04,-65.11 56.06,-53.64 63.99,-43.54\"/>\n",
       "<polygon fill=\"#4a4a4a\" stroke=\"#4a4a4a\" points=\"66.4,-45.52 69.83,-35.49 60.9,-41.19 66.4,-45.52\"/>\n",
       "</g>\n",
       "<!-- X&#45;&gt;Z2 -->\n",
       "<g id=\"edge3\" class=\"edge\">\n",
       "<title>X-&gt;Z2</title>\n",
       "<path fill=\"none\" stroke=\"#4a4a4a\" d=\"M118.69,-218.83C110.12,-209.46 98.87,-197.16 89.18,-186.55\"/>\n",
       "<path fill=\"none\" stroke=\"#4a4a4a\" d=\"M120.17,-217.48C111.6,-208.11 100.35,-195.81 90.65,-185.2\"/>\n",
       "<polygon fill=\"#4a4a4a\" stroke=\"#4a4a4a\" points=\"92.88,-183.84 83.55,-178.82 87.72,-188.57 92.88,-183.84\"/>\n",
       "</g>\n",
       "<!-- X&#45;&gt;Y -->\n",
       "<g id=\"edge4\" class=\"edge\">\n",
       "<title>X-&gt;Y</title>\n",
       "<path fill=\"none\" stroke=\"#4a4a4a\" d=\"M127.94,-216.08C119.14,-179.14 98.32,-91.78 87.62,-46.9\"/>\n",
       "<path fill=\"none\" stroke=\"#4a4a4a\" d=\"M129.89,-215.62C121.08,-178.68 100.26,-91.32 89.57,-46.44\"/>\n",
       "<polygon fill=\"#4a4a4a\" stroke=\"#4a4a4a\" points=\"91.83,-46.15 86.11,-37.23 85.02,-47.77 91.83,-46.15\"/>\n",
       "</g>\n",
       "</g>\n",
       "</svg><br><center><small><em>Causal Model</em></small></center></div><div class=\"floating-box\">$$\\begin{equation*}P( Y \\mid \\hookrightarrow\\mkern-6.5muX) = \\sum_{Z1,Z2,Z3}{P\\left(Y\\mid X,Z2,Z3\\right) \\cdot P\\left(Z2\\mid X,Z1\\right) \\cdot \\left(\\sum_{X'}{P\\left(Z3\\mid X',Z1,Z2\\right) \\cdot P\\left(Z1\\right) \\cdot P\\left(X'\\mid Z1\\right)}\\right)}\\end{equation*}$$<br><center><small><em>Explanation : Do-calculus computations</em></small></center></div><div class=\"floating-box\"><table style=\"border:1px solid black;\">\n",
       "<tr><th colspan='1'></th>\n",
       "      <th colspan='2' style='border:1px solid black;color:black;background-color:#808080;'><center>Y</center>\n",
       "      </th></tr>\n",
       "<tr><th style='border:1px solid black;color:black;background-color:#808080'><center>X</center></th><th style='border:1px solid black;border-bottom-style: double;color:black;background-color:#BBBBBB'>\n",
       "      <center>0</center></th><th style='border:1px solid black;border-bottom-style: double;color:black;background-color:#BBBBBB'>\n",
       "      <center>1</center></th></tr>\n",
       "<tr><th style='border:1px solid black;color:black;background-color:#BBBBBB'><center>0</center></th><td style='color:black;background-color:#aecf64;text-align:right;'>0.6317</td><td style='color:black;background-color:#cfae64;text-align:right;'>0.3683</td></tr>\n",
       "<tr><th style='border:1px solid black;color:black;background-color:#BBBBBB'><center>1</center></th><td style='color:black;background-color:#b0cd64;text-align:right;'>0.6111</td><td style='color:black;background-color:#cdb064;text-align:right;'>0.3889</td></tr>\n",
       "</table><br><center><small><em>Impact</em></small></center></div>"
      ],
      "text/plain": [
       "<IPython.core.display.HTML object>"
      ]
     },
     "metadata": {},
     "output_type": "display_data"
    }
   ],
   "source": [
    "formula, impact, explanation = csl.causalImpact(c, \"Y\", \"X\")\n",
    "cslnb.showCausalImpact(c,\"Y\",\"X\")"
   ]
  }
 ],
 "metadata": {
  "anaconda-cloud": {},
  "hide_input": false,
  "kernelspec": {
   "display_name": "Python 3 (ipykernel)",
   "language": "python",
   "name": "python3"
  },
  "language_info": {
   "codemirror_mode": {
    "name": "ipython",
    "version": 3
   },
   "file_extension": ".py",
   "mimetype": "text/x-python",
   "name": "python",
   "nbconvert_exporter": "python",
   "pygments_lexer": "ipython3",
   "version": "3.11.3"
  },
  "toc": {
   "colors": {
    "hover_highlight": "#DAA520",
    "running_highlight": "#FF0000",
    "selected_highlight": "#FFD700"
   },
   "moveMenuLeft": true,
   "nav_menu": {
    "height": "193px",
    "width": "252px"
   },
   "navigate_menu": true,
   "number_sections": true,
   "sideBar": true,
   "threshold": 4,
   "toc_cell": false,
   "toc_section_display": "block",
   "toc_window_display": true,
   "widenNotebook": false
  }
 },
 "nbformat": 4,
 "nbformat_minor": 4
}
