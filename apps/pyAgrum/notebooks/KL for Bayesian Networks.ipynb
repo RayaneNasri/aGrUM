{
 "metadata": {
  "name": "KL for Bayesian Networks"
 },
 "nbformat": 3,
 "nbformat_minor": 0,
 "worksheets": [
  {
   "cells": [
    {
     "cell_type": "markdown",
     "metadata": {},
     "source": [
      "Initialisation\n",
      "==============\n",
      "\n",
      "* importing pyAgrum\n",
      "* importing gumLib tools\n",
      "* loading a BN"
     ]
    },
    {
     "cell_type": "code",
     "collapsed": true,
     "input": [
      "import pyAgrum as gum\n",
      "import gumLib.notebook as gumnb\n",
      "from gumLib.pretty_print import pretty_cpt"
     ],
     "language": "python",
     "metadata": {},
     "outputs": []
    },
    {
     "cell_type": "heading",
     "level": 2,
     "metadata": {},
     "source": [
      "Create a first BN : bn"
     ]
    },
    {
     "cell_type": "code",
     "collapsed": false,
     "input": [
      "bn=gum.loadBN(\"../resources/asia.bif\")\n",
      "bn.generateCPTs()\n",
      "gumnb.showBN(bn,size=\"3\")"
     ],
     "language": "python",
     "metadata": {},
     "outputs": []
    },
    {
     "cell_type": "code",
     "collapsed": false,
     "input": [
      "pretty_cpt(bn.cpt(3))"
     ],
     "language": "python",
     "metadata": {},
     "outputs": []
    },
    {
     "cell_type": "heading",
     "level": 2,
     "metadata": {},
     "source": [
      "Create a second BN : bn2"
     ]
    },
    {
     "cell_type": "code",
     "collapsed": false,
     "input": [
      "bn2=gum.loadBN(\"../resources/asia.bif\")\n",
      "bn2.generateCPTs()\n",
      "gumnb.showBN(bn,size=\"3\")"
     ],
     "language": "python",
     "metadata": {},
     "outputs": []
    },
    {
     "cell_type": "code",
     "collapsed": false,
     "input": [
      "pretty_cpt(bn2.cpt(3))"
     ],
     "language": "python",
     "metadata": {},
     "outputs": []
    },
    {
     "cell_type": "heading",
     "level": 2,
     "metadata": {},
     "source": [
      "Exact and (Gibbs) approximated KL-divergence "
     ]
    },
    {
     "cell_type": "markdown",
     "metadata": {},
     "source": [
      "<h3>Exact KL</h3>\n"
     ]
    },
    {
     "cell_type": "code",
     "collapsed": false,
     "input": [
      "g1=gum.BruteForceKL(bn,bn2)\n",
      "print(g1.compute())"
     ],
     "language": "python",
     "metadata": {},
     "outputs": []
    },
    {
     "cell_type": "markdown",
     "metadata": {},
     "source": [
      "<h3>Gibbs-approximated KL</h3>\n",
      "\n",
      "There is something wrong with <em>Bhattacharya</em> computations...\n"
     ]
    },
    {
     "cell_type": "code",
     "collapsed": false,
     "input": [
      "g=gum.GibbsKL(bn,bn2)\n",
      "g.setVerbosity(True)\n",
      "g.setMaxTime(120)\n",
      "g.setBurnIn(5000)\n",
      "g.setEpsilon(1e-10)\n",
      "g.setPeriodSize(500)"
     ],
     "language": "python",
     "metadata": {},
     "outputs": []
    },
    {
     "cell_type": "code",
     "collapsed": false,
     "input": [
      "g.compute()"
     ],
     "language": "python",
     "metadata": {},
     "outputs": []
    },
    {
     "cell_type": "code",
     "collapsed": true,
     "input": [
      "print(\"--\")\n",
      "print(g.messageApproximationScheme())\n",
      "print(\"--\")\n",
      "\n",
      "print(\"Temps de calcul : {0}\".format(g.currentTime()))\n",
      "print(\"Nombre d'it\u00e9rations : {0}\".format(g.nbrIterations()))\n",
      "\n",
      "import matplotlib.pyplot as plt\n",
      "import math\n",
      "\n",
      "h1=g.history()\n",
      "\n",
      "plt.figure(1)\n",
      "p=plt.plot(log10(h1), 'g')"
     ],
     "language": "python",
     "metadata": {},
     "outputs": []
    },
    {
     "cell_type": "code",
     "collapsed": false,
     "input": [
      "g=gum.GibbsKL(bn,bn2)\n",
      "g.setMaxTime(60)\n",
      "g.setBurnIn(500)\n",
      "g.setEpsilon(1e-10)\n",
      "g.setPeriodSize(5000)"
     ],
     "language": "python",
     "metadata": {},
     "outputs": []
    },
    {
     "cell_type": "code",
     "collapsed": false,
     "input": [
      "gumnb.animApproximationScheme(g)\n",
      "g.compute()"
     ],
     "language": "python",
     "metadata": {},
     "outputs": []
    },
    {
     "cell_type": "code",
     "collapsed": false,
     "input": [],
     "language": "python",
     "metadata": {},
     "outputs": []
    }
   ],
   "metadata": {}
  }
 ]
}