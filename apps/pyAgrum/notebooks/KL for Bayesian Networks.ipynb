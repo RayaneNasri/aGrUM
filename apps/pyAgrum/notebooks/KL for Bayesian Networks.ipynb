{
 "metadata": {
  "name": ""
 },
 "nbformat": 3,
 "nbformat_minor": 0,
 "worksheets": [
  {
   "cells": [
    {
     "cell_type": "markdown",
     "metadata": {},
     "source": [
      "Initialisation\n",
      "==============\n",
      "\n",
      "* importing pyAgrum\n",
      "* importing gumLib tools\n",
      "* loading a BN"
     ]
    },
    {
     "cell_type": "code",
     "collapsed": true,
     "input": [
      "import pyAgrum as gum\n",
      "import gumLib.notebook as gumnb\n",
      "from gumLib.pretty_print import pretty_cpt"
     ],
     "language": "python",
     "metadata": {},
     "outputs": [],
     "prompt_number": 2
    },
    {
     "cell_type": "heading",
     "level": 2,
     "metadata": {},
     "source": [
      "Create a first BN : bn"
     ]
    },
    {
     "cell_type": "code",
     "collapsed": false,
     "input": [
      "bn=gum.loadBN(\"../resources/asia.bif\")\n",
      "bn.generateCPTs()\n",
      "gumnb.showBN(bn,size=\"3\")"
     ],
     "language": "python",
     "metadata": {},
     "outputs": [
      {
       "html": [
        "<div align='center'><svg height=\"138pt\" viewBox=\"0.00 0.00 216.00 137.50\" width=\"216pt\" xmlns=\"http://www.w3.org/2000/svg\" xmlns:xlink=\"http://www.w3.org/1999/xlink\">\n",
        "<g class=\"graph\" id=\"graph1\" transform=\"scale(0.513064 0.513064) rotate(0) translate(4 264)\">\n",
        "<title>G</title>\n",
        "<polygon fill=\"white\" points=\"-4,5 -4,-264 418,-264 418,5 -4,5\" stroke=\"white\"/>\n",
        "<!-- visit_to_Asia? -->\n",
        "<g class=\"node\" id=\"node1\"><title>visit_to_Asia?</title>\n",
        "<ellipse cx=\"78\" cy=\"-241\" fill=\"#666666\" rx=\"77.7817\" ry=\"18.3848\" stroke=\"black\"/>\n",
        "<text fill=\"#ffffff\" font-family=\"Times Roman,serif\" font-size=\"14.00\" text-anchor=\"middle\" x=\"78\" y=\"-237.4\">visit_to_Asia?</text>\n",
        "</g>\n",
        "<!-- tuberculosis? -->\n",
        "<g class=\"node\" id=\"node2\"><title>tuberculosis?</title>\n",
        "<ellipse cx=\"78\" cy=\"-167\" fill=\"#666666\" rx=\"74.9533\" ry=\"18.3848\" stroke=\"black\"/>\n",
        "<text fill=\"#ffffff\" font-family=\"Times Roman,serif\" font-size=\"14.00\" text-anchor=\"middle\" x=\"78\" y=\"-163.4\">tuberculosis?</text>\n",
        "</g>\n",
        "<!-- visit_to_Asia?&#45;&gt;tuberculosis? -->\n",
        "<g class=\"edge\" id=\"edge2\"><title>visit_to_Asia?-&gt;tuberculosis?</title>\n",
        "<path d=\"M78,-222.327C78,-214.264 78,-204.648 78,-195.711\" fill=\"none\" stroke=\"black\"/>\n",
        "<polygon fill=\"black\" points=\"81.5001,-195.667 78,-185.667 74.5001,-195.667 81.5001,-195.667\" stroke=\"black\"/>\n",
        "</g>\n",
        "<!-- tuberculos_or_cancer? -->\n",
        "<g class=\"node\" id=\"node3\"><title>tuberculos_or_cancer?</title>\n",
        "<ellipse cx=\"147\" cy=\"-93\" fill=\"#666666\" rx=\"120.208\" ry=\"18.3848\" stroke=\"black\"/>\n",
        "<text fill=\"#ffffff\" font-family=\"Times Roman,serif\" font-size=\"14.00\" text-anchor=\"middle\" x=\"147\" y=\"-89.4\">tuberculos_or_cancer?</text>\n",
        "</g>\n",
        "<!-- tuberculosis?&#45;&gt;tuberculos_or_cancer? -->\n",
        "<g class=\"edge\" id=\"edge12\"><title>tuberculosis?-&gt;tuberculos_or_cancer?</title>\n",
        "<path d=\"M95.0562,-148.708C103.432,-139.725 113.67,-128.745 122.836,-118.915\" fill=\"none\" stroke=\"black\"/>\n",
        "<polygon fill=\"black\" points=\"125.641,-121.039 129.901,-111.338 120.521,-116.265 125.641,-121.039\" stroke=\"black\"/>\n",
        "</g>\n",
        "<!-- positive_XraY? -->\n",
        "<g class=\"node\" id=\"node4\"><title>positive_XraY?</title>\n",
        "<ellipse cx=\"147\" cy=\"-19\" fill=\"#666666\" rx=\"84.1457\" ry=\"18.3848\" stroke=\"black\"/>\n",
        "<text fill=\"#ffffff\" font-family=\"Times Roman,serif\" font-size=\"14.00\" text-anchor=\"middle\" x=\"147\" y=\"-15.4\">positive_XraY?</text>\n",
        "</g>\n",
        "<!-- tuberculos_or_cancer?&#45;&gt;positive_XraY? -->\n",
        "<g class=\"edge\" id=\"edge6\"><title>tuberculos_or_cancer?-&gt;positive_XraY?</title>\n",
        "<path d=\"M147,-74.3267C147,-66.2639 147,-56.6477 147,-47.7115\" fill=\"none\" stroke=\"black\"/>\n",
        "<polygon fill=\"black\" points=\"150.5,-47.6673 147,-37.6674 143.5,-47.6674 150.5,-47.6673\" stroke=\"black\"/>\n",
        "</g>\n",
        "<!-- dyspnoea? -->\n",
        "<g class=\"node\" id=\"node8\"><title>dyspnoea?</title>\n",
        "<ellipse cx=\"330\" cy=\"-19\" fill=\"#666666\" rx=\"62.9325\" ry=\"18.3848\" stroke=\"black\"/>\n",
        "<text fill=\"#ffffff\" font-family=\"Times Roman,serif\" font-size=\"14.00\" text-anchor=\"middle\" x=\"330\" y=\"-15.4\">dyspnoea?</text>\n",
        "</g>\n",
        "<!-- tuberculos_or_cancer?&#45;&gt;dyspnoea? -->\n",
        "<g class=\"edge\" id=\"edge8\"><title>tuberculos_or_cancer?-&gt;dyspnoea?</title>\n",
        "<path d=\"M189.905,-75.6503C218,-64.2897 254.705,-49.4472 283.496,-37.8049\" fill=\"none\" stroke=\"black\"/>\n",
        "<polygon fill=\"black\" points=\"284.974,-40.9826 292.933,-33.9889 282.35,-34.4931 284.974,-40.9826\" stroke=\"black\"/>\n",
        "</g>\n",
        "<!-- lung_cancer? -->\n",
        "<g class=\"node\" id=\"node5\"><title>lung_cancer?</title>\n",
        "<ellipse cx=\"246\" cy=\"-167\" fill=\"#666666\" rx=\"75.1594\" ry=\"18.3848\" stroke=\"black\"/>\n",
        "<text fill=\"#ffffff\" font-family=\"Times Roman,serif\" font-size=\"14.00\" text-anchor=\"middle\" x=\"246\" y=\"-163.4\">lung_cancer?</text>\n",
        "</g>\n",
        "<!-- lung_cancer?&#45;&gt;tuberculos_or_cancer? -->\n",
        "<g class=\"edge\" id=\"edge10\"><title>lung_cancer?-&gt;tuberculos_or_cancer?</title>\n",
        "<path d=\"M222.287,-149.275C209.591,-139.785 193.756,-127.949 179.888,-117.583\" fill=\"none\" stroke=\"black\"/>\n",
        "<polygon fill=\"black\" points=\"181.659,-114.537 171.553,-111.353 177.468,-120.144 181.659,-114.537\" stroke=\"black\"/>\n",
        "</g>\n",
        "<!-- smoking? -->\n",
        "<g class=\"node\" id=\"node6\"><title>smoking?</title>\n",
        "<ellipse cx=\"297\" cy=\"-241\" fill=\"#666666\" rx=\"56.7776\" ry=\"18.3848\" stroke=\"black\"/>\n",
        "<text fill=\"#ffffff\" font-family=\"Times Roman,serif\" font-size=\"14.00\" text-anchor=\"middle\" x=\"297\" y=\"-237.4\">smoking?</text>\n",
        "</g>\n",
        "<!-- smoking?&#45;&gt;lung_cancer? -->\n",
        "<g class=\"edge\" id=\"edge14\"><title>smoking?-&gt;lung_cancer?</title>\n",
        "<path d=\"M284.393,-222.708C278.386,-213.991 271.083,-203.395 264.466,-193.794\" fill=\"none\" stroke=\"black\"/>\n",
        "<polygon fill=\"black\" points=\"267.195,-191.586 258.638,-185.338 261.431,-195.558 267.195,-191.586\" stroke=\"black\"/>\n",
        "</g>\n",
        "<!-- bronchitis? -->\n",
        "<g class=\"node\" id=\"node7\"><title>bronchitis?</title>\n",
        "<ellipse cx=\"349\" cy=\"-93\" fill=\"#666666\" rx=\"63.8479\" ry=\"18.3848\" stroke=\"black\"/>\n",
        "<text fill=\"#ffffff\" font-family=\"Times Roman,serif\" font-size=\"14.00\" text-anchor=\"middle\" x=\"349\" y=\"-89.4\">bronchitis?</text>\n",
        "</g>\n",
        "<!-- smoking?&#45;&gt;bronchitis? -->\n",
        "<g class=\"edge\" id=\"edge4\"><title>smoking?-&gt;bronchitis?</title>\n",
        "<path d=\"M309.952,-222.972C316.84,-212.604 324.914,-199.076 330,-186 338.078,-165.233 342.923,-140.459 345.697,-121.704\" fill=\"none\" stroke=\"black\"/>\n",
        "<polygon fill=\"black\" points=\"349.178,-122.083 347.066,-111.701 342.242,-121.134 349.178,-122.083\" stroke=\"black\"/>\n",
        "</g>\n",
        "<!-- bronchitis?&#45;&gt;dyspnoea? -->\n",
        "<g class=\"edge\" id=\"edge16\"><title>bronchitis?-&gt;dyspnoea?</title>\n",
        "<path d=\"M344.205,-74.3267C342.113,-66.1762 339.613,-56.4384 337.297,-47.4203\" fill=\"none\" stroke=\"black\"/>\n",
        "<polygon fill=\"black\" points=\"340.67,-46.4827 334.793,-37.6674 333.89,-48.2236 340.67,-46.4827\" stroke=\"black\"/>\n",
        "</g>\n",
        "</g>\n",
        "</svg></div>"
       ],
       "metadata": {},
       "output_type": "display_data",
       "text": [
        "<IPython.core.display.HTML at 0x3faba50>"
       ]
      }
     ],
     "prompt_number": 3
    },
    {
     "cell_type": "code",
     "collapsed": false,
     "input": [
      "pretty_cpt(bn.cpt(3))"
     ],
     "language": "python",
     "metadata": {},
     "outputs": [
      {
       "output_type": "stream",
       "stream": "stdout",
       "text": [
        "                       |---------------|\n",
        "-----------------------|positive_XraY? |\n",
        " tuberculos_or_cancer? |   d1     d2   |\n",
        "-----------------------|---------------|\n",
        "          c1           | 0.0163 0.9837 |\n",
        "          c2           | 0.4001 0.5999 |\n",
        "-----------------------|---------------|\n"
       ]
      }
     ],
     "prompt_number": 4
    },
    {
     "cell_type": "heading",
     "level": 2,
     "metadata": {},
     "source": [
      "Create a second BN : bn2"
     ]
    },
    {
     "cell_type": "code",
     "collapsed": false,
     "input": [
      "bn2=gum.loadBN(\"../resources/asia.bif\")\n",
      "bn2.generateCPTs()\n",
      "gumnb.showBN(bn,size=\"3\")"
     ],
     "language": "python",
     "metadata": {},
     "outputs": [
      {
       "html": [
        "<div align='center'><svg height=\"138pt\" viewBox=\"0.00 0.00 216.00 137.50\" width=\"216pt\" xmlns=\"http://www.w3.org/2000/svg\" xmlns:xlink=\"http://www.w3.org/1999/xlink\">\n",
        "<g class=\"graph\" id=\"graph1\" transform=\"scale(0.513064 0.513064) rotate(0) translate(4 264)\">\n",
        "<title>G</title>\n",
        "<polygon fill=\"white\" points=\"-4,5 -4,-264 418,-264 418,5 -4,5\" stroke=\"white\"/>\n",
        "<!-- visit_to_Asia? -->\n",
        "<g class=\"node\" id=\"node1\"><title>visit_to_Asia?</title>\n",
        "<ellipse cx=\"78\" cy=\"-241\" fill=\"#666666\" rx=\"77.7817\" ry=\"18.3848\" stroke=\"black\"/>\n",
        "<text fill=\"#ffffff\" font-family=\"Times Roman,serif\" font-size=\"14.00\" text-anchor=\"middle\" x=\"78\" y=\"-237.4\">visit_to_Asia?</text>\n",
        "</g>\n",
        "<!-- tuberculosis? -->\n",
        "<g class=\"node\" id=\"node2\"><title>tuberculosis?</title>\n",
        "<ellipse cx=\"78\" cy=\"-167\" fill=\"#666666\" rx=\"74.9533\" ry=\"18.3848\" stroke=\"black\"/>\n",
        "<text fill=\"#ffffff\" font-family=\"Times Roman,serif\" font-size=\"14.00\" text-anchor=\"middle\" x=\"78\" y=\"-163.4\">tuberculosis?</text>\n",
        "</g>\n",
        "<!-- visit_to_Asia?&#45;&gt;tuberculosis? -->\n",
        "<g class=\"edge\" id=\"edge2\"><title>visit_to_Asia?-&gt;tuberculosis?</title>\n",
        "<path d=\"M78,-222.327C78,-214.264 78,-204.648 78,-195.711\" fill=\"none\" stroke=\"black\"/>\n",
        "<polygon fill=\"black\" points=\"81.5001,-195.667 78,-185.667 74.5001,-195.667 81.5001,-195.667\" stroke=\"black\"/>\n",
        "</g>\n",
        "<!-- tuberculos_or_cancer? -->\n",
        "<g class=\"node\" id=\"node3\"><title>tuberculos_or_cancer?</title>\n",
        "<ellipse cx=\"147\" cy=\"-93\" fill=\"#666666\" rx=\"120.208\" ry=\"18.3848\" stroke=\"black\"/>\n",
        "<text fill=\"#ffffff\" font-family=\"Times Roman,serif\" font-size=\"14.00\" text-anchor=\"middle\" x=\"147\" y=\"-89.4\">tuberculos_or_cancer?</text>\n",
        "</g>\n",
        "<!-- tuberculosis?&#45;&gt;tuberculos_or_cancer? -->\n",
        "<g class=\"edge\" id=\"edge12\"><title>tuberculosis?-&gt;tuberculos_or_cancer?</title>\n",
        "<path d=\"M95.0562,-148.708C103.432,-139.725 113.67,-128.745 122.836,-118.915\" fill=\"none\" stroke=\"black\"/>\n",
        "<polygon fill=\"black\" points=\"125.641,-121.039 129.901,-111.338 120.521,-116.265 125.641,-121.039\" stroke=\"black\"/>\n",
        "</g>\n",
        "<!-- positive_XraY? -->\n",
        "<g class=\"node\" id=\"node4\"><title>positive_XraY?</title>\n",
        "<ellipse cx=\"147\" cy=\"-19\" fill=\"#666666\" rx=\"84.1457\" ry=\"18.3848\" stroke=\"black\"/>\n",
        "<text fill=\"#ffffff\" font-family=\"Times Roman,serif\" font-size=\"14.00\" text-anchor=\"middle\" x=\"147\" y=\"-15.4\">positive_XraY?</text>\n",
        "</g>\n",
        "<!-- tuberculos_or_cancer?&#45;&gt;positive_XraY? -->\n",
        "<g class=\"edge\" id=\"edge6\"><title>tuberculos_or_cancer?-&gt;positive_XraY?</title>\n",
        "<path d=\"M147,-74.3267C147,-66.2639 147,-56.6477 147,-47.7115\" fill=\"none\" stroke=\"black\"/>\n",
        "<polygon fill=\"black\" points=\"150.5,-47.6673 147,-37.6674 143.5,-47.6674 150.5,-47.6673\" stroke=\"black\"/>\n",
        "</g>\n",
        "<!-- dyspnoea? -->\n",
        "<g class=\"node\" id=\"node8\"><title>dyspnoea?</title>\n",
        "<ellipse cx=\"330\" cy=\"-19\" fill=\"#666666\" rx=\"62.9325\" ry=\"18.3848\" stroke=\"black\"/>\n",
        "<text fill=\"#ffffff\" font-family=\"Times Roman,serif\" font-size=\"14.00\" text-anchor=\"middle\" x=\"330\" y=\"-15.4\">dyspnoea?</text>\n",
        "</g>\n",
        "<!-- tuberculos_or_cancer?&#45;&gt;dyspnoea? -->\n",
        "<g class=\"edge\" id=\"edge8\"><title>tuberculos_or_cancer?-&gt;dyspnoea?</title>\n",
        "<path d=\"M189.905,-75.6503C218,-64.2897 254.705,-49.4472 283.496,-37.8049\" fill=\"none\" stroke=\"black\"/>\n",
        "<polygon fill=\"black\" points=\"284.974,-40.9826 292.933,-33.9889 282.35,-34.4931 284.974,-40.9826\" stroke=\"black\"/>\n",
        "</g>\n",
        "<!-- lung_cancer? -->\n",
        "<g class=\"node\" id=\"node5\"><title>lung_cancer?</title>\n",
        "<ellipse cx=\"246\" cy=\"-167\" fill=\"#666666\" rx=\"75.1594\" ry=\"18.3848\" stroke=\"black\"/>\n",
        "<text fill=\"#ffffff\" font-family=\"Times Roman,serif\" font-size=\"14.00\" text-anchor=\"middle\" x=\"246\" y=\"-163.4\">lung_cancer?</text>\n",
        "</g>\n",
        "<!-- lung_cancer?&#45;&gt;tuberculos_or_cancer? -->\n",
        "<g class=\"edge\" id=\"edge10\"><title>lung_cancer?-&gt;tuberculos_or_cancer?</title>\n",
        "<path d=\"M222.287,-149.275C209.591,-139.785 193.756,-127.949 179.888,-117.583\" fill=\"none\" stroke=\"black\"/>\n",
        "<polygon fill=\"black\" points=\"181.659,-114.537 171.553,-111.353 177.468,-120.144 181.659,-114.537\" stroke=\"black\"/>\n",
        "</g>\n",
        "<!-- smoking? -->\n",
        "<g class=\"node\" id=\"node6\"><title>smoking?</title>\n",
        "<ellipse cx=\"297\" cy=\"-241\" fill=\"#666666\" rx=\"56.7776\" ry=\"18.3848\" stroke=\"black\"/>\n",
        "<text fill=\"#ffffff\" font-family=\"Times Roman,serif\" font-size=\"14.00\" text-anchor=\"middle\" x=\"297\" y=\"-237.4\">smoking?</text>\n",
        "</g>\n",
        "<!-- smoking?&#45;&gt;lung_cancer? -->\n",
        "<g class=\"edge\" id=\"edge14\"><title>smoking?-&gt;lung_cancer?</title>\n",
        "<path d=\"M284.393,-222.708C278.386,-213.991 271.083,-203.395 264.466,-193.794\" fill=\"none\" stroke=\"black\"/>\n",
        "<polygon fill=\"black\" points=\"267.195,-191.586 258.638,-185.338 261.431,-195.558 267.195,-191.586\" stroke=\"black\"/>\n",
        "</g>\n",
        "<!-- bronchitis? -->\n",
        "<g class=\"node\" id=\"node7\"><title>bronchitis?</title>\n",
        "<ellipse cx=\"349\" cy=\"-93\" fill=\"#666666\" rx=\"63.8479\" ry=\"18.3848\" stroke=\"black\"/>\n",
        "<text fill=\"#ffffff\" font-family=\"Times Roman,serif\" font-size=\"14.00\" text-anchor=\"middle\" x=\"349\" y=\"-89.4\">bronchitis?</text>\n",
        "</g>\n",
        "<!-- smoking?&#45;&gt;bronchitis? -->\n",
        "<g class=\"edge\" id=\"edge4\"><title>smoking?-&gt;bronchitis?</title>\n",
        "<path d=\"M309.952,-222.972C316.84,-212.604 324.914,-199.076 330,-186 338.078,-165.233 342.923,-140.459 345.697,-121.704\" fill=\"none\" stroke=\"black\"/>\n",
        "<polygon fill=\"black\" points=\"349.178,-122.083 347.066,-111.701 342.242,-121.134 349.178,-122.083\" stroke=\"black\"/>\n",
        "</g>\n",
        "<!-- bronchitis?&#45;&gt;dyspnoea? -->\n",
        "<g class=\"edge\" id=\"edge16\"><title>bronchitis?-&gt;dyspnoea?</title>\n",
        "<path d=\"M344.205,-74.3267C342.113,-66.1762 339.613,-56.4384 337.297,-47.4203\" fill=\"none\" stroke=\"black\"/>\n",
        "<polygon fill=\"black\" points=\"340.67,-46.4827 334.793,-37.6674 333.89,-48.2236 340.67,-46.4827\" stroke=\"black\"/>\n",
        "</g>\n",
        "</g>\n",
        "</svg></div>"
       ],
       "metadata": {},
       "output_type": "display_data",
       "text": [
        "<IPython.core.display.HTML at 0x3f971d0>"
       ]
      }
     ],
     "prompt_number": 5
    },
    {
     "cell_type": "code",
     "collapsed": false,
     "input": [
      "pretty_cpt(bn2.cpt(3))"
     ],
     "language": "python",
     "metadata": {},
     "outputs": [
      {
       "output_type": "stream",
       "stream": "stdout",
       "text": [
        "                       |---------------|\n",
        "-----------------------|positive_XraY? |\n",
        " tuberculos_or_cancer? |   d1     d2   |\n",
        "-----------------------|---------------|\n",
        "          c1           | 0.9472 0.0528 |\n",
        "          c2           | 0.7385 0.2615 |\n",
        "-----------------------|---------------|\n"
       ]
      }
     ],
     "prompt_number": 6
    },
    {
     "cell_type": "heading",
     "level": 2,
     "metadata": {},
     "source": [
      "Exact and (Gibbs) approximated KL-divergence "
     ]
    },
    {
     "cell_type": "markdown",
     "metadata": {},
     "source": [
      "<h3>Exact KL</h3>\n"
     ]
    },
    {
     "cell_type": "code",
     "collapsed": false,
     "input": [
      "g1=gum.BruteForceKL(bn,bn2)\n",
      "print(g1.compute())"
     ],
     "language": "python",
     "metadata": {},
     "outputs": [
      {
       "output_type": "stream",
       "stream": "stdout",
       "text": [
        "{'errorQP': 0, 'errorPQ': 0, 'hellinger': 1.0588026540372284, 'bhattacharya': 0.8221893052680341, 'klPQ': 4.589390724896617, 'klQP': 5.332175823211333}\n"
       ]
      }
     ],
     "prompt_number": 7
    },
    {
     "cell_type": "markdown",
     "metadata": {},
     "source": [
      "<h3>Gibbs-approximated KL</h3>\n",
      "\n",
      "There is something wrong with <em>Bhattacharya</em> computations...\n"
     ]
    },
    {
     "cell_type": "code",
     "collapsed": false,
     "input": [
      "g=gum.GibbsKL(bn,bn2)\n",
      "g.setVerbosity(True)\n",
      "g.setMaxTime(120)\n",
      "g.setBurnIn(5000)\n",
      "g.setEpsilon(1e-7)\n",
      "g.setPeriodSize(500)"
     ],
     "language": "python",
     "metadata": {},
     "outputs": [],
     "prompt_number": 8
    },
    {
     "cell_type": "code",
     "collapsed": false,
     "input": [
      "g.compute()"
     ],
     "language": "python",
     "metadata": {},
     "outputs": [
      {
       "metadata": {},
       "output_type": "pyout",
       "prompt_number": 9,
       "text": [
        "{'bhattacharya': -12.225915780737964,\n",
        " 'errorPQ': 0,\n",
        " 'errorQP': 0,\n",
        " 'hellinger': 1.0706485509582202,\n",
        " 'klPQ': 4.604287820172252,\n",
        " 'klQP': 5.584581911066643}"
       ]
      }
     ],
     "prompt_number": 9
    },
    {
     "cell_type": "code",
     "collapsed": true,
     "input": [
      "print(\"--\")\n",
      "print(g.messageApproximationScheme())\n",
      "print(\"--\")\n",
      "\n",
      "print(\"Temps de calcul : {0}\".format(g.currentTime()))\n",
      "print(\"Nombre d'it\u00e9rations : {0}\".format(g.nbrIterations()))\n",
      "\n",
      "import matplotlib.pyplot as plt\n",
      "import math\n",
      "\n",
      "h1=g.history()\n",
      "\n",
      "plt.figure(1)\n",
      "p=plt.plot(log10(h1), 'g')"
     ],
     "language": "python",
     "metadata": {},
     "outputs": [
      {
       "output_type": "stream",
       "stream": "stdout",
       "text": [
        "--\n",
        "stopped with epsilon=1e-07\n",
        "--\n",
        "Temps de calcul : 3.41481\n",
        "Nombre d'it\u00e9rations : 464500\n"
       ]
      },
      {
       "metadata": {},
       "output_type": "display_data",
       "png": "[encoded data removed]",
       "text": [
        "<matplotlib.figure.Figure at 0x3f97910>"
       ]
      }
     ],
     "prompt_number": 10
    },
    {
     "cell_type": "heading",
     "level": 3,
     "metadata": {},
     "source": [
      "Animation of Gibbs KL"
     ]
    },
    {
     "cell_type": "markdown",
     "metadata": {},
     "source": [
      "Since it may be difficult to know what happens during approximation algorithm, pyAgrum allow to follow the iteration using animated matplotlib figure"
     ]
    },
    {
     "cell_type": "code",
     "collapsed": false,
     "input": [
      "g=gum.GibbsKL(bn,bn2)\n",
      "g.setMaxTime(60)\n",
      "g.setBurnIn(500)\n",
      "g.setEpsilon(1e-7)\n",
      "g.setPeriodSize(5000)"
     ],
     "language": "python",
     "metadata": {},
     "outputs": [],
     "prompt_number": 11
    },
    {
     "cell_type": "code",
     "collapsed": false,
     "input": [
      "gumnb.animApproximationScheme(g)\n",
      "g.compute()"
     ],
     "language": "python",
     "metadata": {},
     "outputs": [
      {
       "output_type": "stream",
       "stream": "stdout",
       "text": [
        "Solutions : stopped with epsilon=1e-07\n",
        "Time : 35.339702 s\n",
        "Iterations : 1160500\n"
       ]
      },
      {
       "metadata": {},
       "output_type": "pyout",
       "prompt_number": 12,
       "text": [
        "{'bhattacharya': -13.140860961895656,\n",
        " 'errorPQ': 0,\n",
        " 'errorQP': 0,\n",
        " 'hellinger': 1.0553089882254996,\n",
        " 'klPQ': 4.590135927250924,\n",
        " 'klQP': 5.257544049977378}"
       ]
      },
      {
       "metadata": {},
       "output_type": "display_data",
       "png": "[encoded data removed]",
       "text": [
        "<matplotlib.figure.Figure at 0x4323110>"
       ]
      }
     ],
     "prompt_number": 12
    },
    {
     "cell_type": "code",
     "collapsed": false,
     "input": [],
     "language": "python",
     "metadata": {},
     "outputs": []
    }
   ],
   "metadata": {}
  }
 ]
}