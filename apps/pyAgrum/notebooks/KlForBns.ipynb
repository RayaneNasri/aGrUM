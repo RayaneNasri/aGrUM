{
 "metadata": {
  "name": ""
 },
 "nbformat": 3,
 "nbformat_minor": 0,
 "worksheets": [
  {
   "cells": [
    {
     "cell_type": "markdown",
     "metadata": {},
     "source": [
      "Initialisation\n",
      "==============\n",
      "\n",
      "* importing pyAgrum\n",
      "* importing gumLib tools\n",
      "* loading a BN"
     ]
    },
    {
     "cell_type": "code",
     "collapsed": true,
     "input": [
      "import pyAgrum as gum\n",
      "import gumLib.notebook as gumnb\n",
      "from gumLib.pretty_print import pretty_cpt"
     ],
     "language": "python",
     "metadata": {},
     "outputs": [],
     "prompt_number": 1
    },
    {
     "cell_type": "heading",
     "level": 2,
     "metadata": {},
     "source": [
      "Create a first BN : bn"
     ]
    },
    {
     "cell_type": "code",
     "collapsed": false,
     "input": [
      "bn=gum.loadBN(\"../resources/asia.bif\")\n",
      "bn.generateCPTs()\n",
      "gumnb.showBN(bn,size=\"3\")"
     ],
     "language": "python",
     "metadata": {},
     "outputs": [
      {
       "html": [
        "<div align='center'><svg height=\"166pt\" viewBox=\"0.00 0.00 216.00 166.15\" width=\"216pt\" xmlns=\"http://www.w3.org/2000/svg\" xmlns:xlink=\"http://www.w3.org/1999/xlink\">\n",
        "<g class=\"graph\" id=\"graph0\" transform=\"scale(0.639053 0.639053) rotate(0) translate(4 256)\">\n",
        "<title>G</title>\n",
        "<polygon fill=\"white\" points=\"-4,4 -4,-256 334,-256 334,4 -4,4\" stroke=\"none\"/>\n",
        "<!-- visit_to_Asia? -->\n",
        "<g class=\"node\" id=\"node1\"><title>visit_to_Asia?</title>\n",
        "<ellipse cx=\"61\" cy=\"-234\" fill=\"#666666\" rx=\"61.6163\" ry=\"18\" stroke=\"black\"/>\n",
        "<text fill=\"#ffffff\" font-family=\"Times,serif\" font-size=\"14.00\" text-anchor=\"middle\" x=\"61\" y=\"-230.3\">visit_to_Asia?</text>\n",
        "</g>\n",
        "<!-- tuberculosis? -->\n",
        "<g class=\"node\" id=\"node2\"><title>tuberculosis?</title>\n",
        "<ellipse cx=\"61\" cy=\"-162\" fill=\"#666666\" rx=\"57.2927\" ry=\"18\" stroke=\"black\"/>\n",
        "<text fill=\"#ffffff\" font-family=\"Times,serif\" font-size=\"14.00\" text-anchor=\"middle\" x=\"61\" y=\"-158.3\">tuberculosis?</text>\n",
        "</g>\n",
        "<!-- visit_to_Asia?&#45;&gt;tuberculosis? -->\n",
        "<g class=\"edge\" id=\"edge1\"><title>visit_to_Asia?-&gt;tuberculosis?</title>\n",
        "<path d=\"M61,-215.697C61,-207.983 61,-198.712 61,-190.112\" fill=\"none\" stroke=\"black\"/>\n",
        "<polygon fill=\"black\" points=\"64.5001,-190.104 61,-180.104 57.5001,-190.104 64.5001,-190.104\" stroke=\"black\"/>\n",
        "</g>\n",
        "<!-- tuberculos_or_cancer? -->\n",
        "<g class=\"node\" id=\"node3\"><title>tuberculos_or_cancer?</title>\n",
        "<ellipse cx=\"122\" cy=\"-90\" fill=\"#666666\" rx=\"90.0136\" ry=\"18\" stroke=\"black\"/>\n",
        "<text fill=\"#ffffff\" font-family=\"Times,serif\" font-size=\"14.00\" text-anchor=\"middle\" x=\"122\" y=\"-86.3\">tuberculos_or_cancer?</text>\n",
        "</g>\n",
        "<!-- tuberculosis?&#45;&gt;tuberculos_or_cancer? -->\n",
        "<g class=\"edge\" id=\"edge6\"><title>tuberculosis?-&gt;tuberculos_or_cancer?</title>\n",
        "<path d=\"M75.4561,-144.411C82.9428,-135.82 92.2325,-125.159 100.539,-115.627\" fill=\"none\" stroke=\"black\"/>\n",
        "<polygon fill=\"black\" points=\"103.293,-117.795 107.224,-107.956 98.0154,-113.196 103.293,-117.795\" stroke=\"black\"/>\n",
        "</g>\n",
        "<!-- positive_XraY? -->\n",
        "<g class=\"node\" id=\"node4\"><title>positive_XraY?</title>\n",
        "<ellipse cx=\"122\" cy=\"-18\" fill=\"#666666\" rx=\"65.9423\" ry=\"18\" stroke=\"black\"/>\n",
        "<text fill=\"#ffffff\" font-family=\"Times,serif\" font-size=\"14.00\" text-anchor=\"middle\" x=\"122\" y=\"-14.3\">positive_XraY?</text>\n",
        "</g>\n",
        "<!-- tuberculos_or_cancer?&#45;&gt;positive_XraY? -->\n",
        "<g class=\"edge\" id=\"edge3\"><title>tuberculos_or_cancer?-&gt;positive_XraY?</title>\n",
        "<path d=\"M122,-71.6966C122,-63.9827 122,-54.7125 122,-46.1124\" fill=\"none\" stroke=\"black\"/>\n",
        "<polygon fill=\"black\" points=\"125.5,-46.1043 122,-36.1043 118.5,-46.1044 125.5,-46.1043\" stroke=\"black\"/>\n",
        "</g>\n",
        "<!-- dyspnoea? -->\n",
        "<g class=\"node\" id=\"node8\"><title>dyspnoea?</title>\n",
        "<ellipse cx=\"267\" cy=\"-18\" fill=\"#666666\" rx=\"48.1437\" ry=\"18\" stroke=\"black\"/>\n",
        "<text fill=\"#ffffff\" font-family=\"Times,serif\" font-size=\"14.00\" text-anchor=\"middle\" x=\"267\" y=\"-14.3\">dyspnoea?</text>\n",
        "</g>\n",
        "<!-- tuberculos_or_cancer?&#45;&gt;dyspnoea? -->\n",
        "<g class=\"edge\" id=\"edge4\"><title>tuberculos_or_cancer?-&gt;dyspnoea?</title>\n",
        "<path d=\"M154.903,-73.1159C177.081,-62.4091 206.391,-48.2595 229.478,-37.1142\" fill=\"none\" stroke=\"black\"/>\n",
        "<polygon fill=\"black\" points=\"231.147,-40.1949 238.631,-32.6954 228.104,-33.891 231.147,-40.1949\" stroke=\"black\"/>\n",
        "</g>\n",
        "<!-- lung_cancer? -->\n",
        "<g class=\"node\" id=\"node5\"><title>lung_cancer?</title>\n",
        "<ellipse cx=\"194\" cy=\"-162\" fill=\"#666666\" rx=\"57.2688\" ry=\"18\" stroke=\"black\"/>\n",
        "<text fill=\"#ffffff\" font-family=\"Times,serif\" font-size=\"14.00\" text-anchor=\"middle\" x=\"194\" y=\"-158.3\">lung_cancer?</text>\n",
        "</g>\n",
        "<!-- lung_cancer?&#45;&gt;tuberculos_or_cancer? -->\n",
        "<g class=\"edge\" id=\"edge5\"><title>lung_cancer?-&gt;tuberculos_or_cancer?</title>\n",
        "<path d=\"M177.301,-144.765C168.297,-136.011 157.005,-125.033 146.977,-115.283\" fill=\"none\" stroke=\"black\"/>\n",
        "<polygon fill=\"black\" points=\"149.223,-112.585 139.613,-108.124 144.343,-117.604 149.223,-112.585\" stroke=\"black\"/>\n",
        "</g>\n",
        "<!-- smoking? -->\n",
        "<g class=\"node\" id=\"node6\"><title>smoking?</title>\n",
        "<ellipse cx=\"237\" cy=\"-234\" fill=\"#666666\" rx=\"45.244\" ry=\"18\" stroke=\"black\"/>\n",
        "<text fill=\"#ffffff\" font-family=\"Times,serif\" font-size=\"14.00\" text-anchor=\"middle\" x=\"237\" y=\"-230.3\">smoking?</text>\n",
        "</g>\n",
        "<!-- smoking?&#45;&gt;lung_cancer? -->\n",
        "<g class=\"edge\" id=\"edge7\"><title>smoking?-&gt;lung_cancer?</title>\n",
        "<path d=\"M226.81,-216.411C221.69,-208.077 215.375,-197.797 209.657,-188.488\" fill=\"none\" stroke=\"black\"/>\n",
        "<polygon fill=\"black\" points=\"212.632,-186.645 204.416,-179.956 206.668,-190.309 212.632,-186.645\" stroke=\"black\"/>\n",
        "</g>\n",
        "<!-- bronchitis? -->\n",
        "<g class=\"node\" id=\"node7\"><title>bronchitis?</title>\n",
        "<ellipse cx=\"280\" cy=\"-90\" fill=\"#666666\" rx=\"50.0684\" ry=\"18\" stroke=\"black\"/>\n",
        "<text fill=\"#ffffff\" font-family=\"Times,serif\" font-size=\"14.00\" text-anchor=\"middle\" x=\"280\" y=\"-86.3\">bronchitis?</text>\n",
        "</g>\n",
        "<!-- smoking?&#45;&gt;bronchitis? -->\n",
        "<g class=\"edge\" id=\"edge2\"><title>smoking?-&gt;bronchitis?</title>\n",
        "<path d=\"M245.292,-216.131C250.089,-205.871 255.957,-192.397 260,-180 266.659,-159.58 271.876,-135.818 275.309,-117.985\" fill=\"none\" stroke=\"black\"/>\n",
        "<polygon fill=\"black\" points=\"278.781,-118.458 277.168,-107.986 271.899,-117.178 278.781,-118.458\" stroke=\"black\"/>\n",
        "</g>\n",
        "<!-- bronchitis?&#45;&gt;dyspnoea? -->\n",
        "<g class=\"edge\" id=\"edge8\"><title>bronchitis?-&gt;dyspnoea?</title>\n",
        "<path d=\"M276.787,-71.6966C275.354,-63.9827 273.632,-54.7125 272.035,-46.1124\" fill=\"none\" stroke=\"black\"/>\n",
        "<polygon fill=\"black\" points=\"275.444,-45.2971 270.177,-36.1043 268.561,-46.5753 275.444,-45.2971\" stroke=\"black\"/>\n",
        "</g>\n",
        "</g>\n",
        "</svg></div>"
       ],
       "metadata": {},
       "output_type": "display_data",
       "text": [
        "<IPython.core.display.HTML at 0x7f27aa44f110>"
       ]
      }
     ],
     "prompt_number": 2
    },
    {
     "cell_type": "code",
     "collapsed": false,
     "input": [
      "pretty_cpt(bn.cpt(3))"
     ],
     "language": "python",
     "metadata": {},
     "outputs": [
      {
       "output_type": "stream",
       "stream": "stdout",
       "text": [
        "                       |---------------|\n",
        "-----------------------|positive_XraY? |\n",
        " tuberculos_or_cancer? |   d1     d2   |\n",
        "-----------------------|---------------|\n",
        "          c1           | 0.7785 0.2215 |\n",
        "          c2           | 0.6284 0.3716 |\n",
        "-----------------------|---------------|\n"
       ]
      }
     ],
     "prompt_number": 3
    },
    {
     "cell_type": "heading",
     "level": 2,
     "metadata": {},
     "source": [
      "Create a second BN : bn2"
     ]
    },
    {
     "cell_type": "code",
     "collapsed": false,
     "input": [
      "bn2=gum.loadBN(\"../resources/asia.bif\")\n",
      "bn2.generateCPTs()\n",
      "gumnb.showBN(bn,size=\"3\")"
     ],
     "language": "python",
     "metadata": {},
     "outputs": [
      {
       "html": [
        "<div align='center'><svg height=\"166pt\" viewBox=\"0.00 0.00 216.00 166.15\" width=\"216pt\" xmlns=\"http://www.w3.org/2000/svg\" xmlns:xlink=\"http://www.w3.org/1999/xlink\">\n",
        "<g class=\"graph\" id=\"graph0\" transform=\"scale(0.639053 0.639053) rotate(0) translate(4 256)\">\n",
        "<title>G</title>\n",
        "<polygon fill=\"white\" points=\"-4,4 -4,-256 334,-256 334,4 -4,4\" stroke=\"none\"/>\n",
        "<!-- visit_to_Asia? -->\n",
        "<g class=\"node\" id=\"node1\"><title>visit_to_Asia?</title>\n",
        "<ellipse cx=\"61\" cy=\"-234\" fill=\"#666666\" rx=\"61.6163\" ry=\"18\" stroke=\"black\"/>\n",
        "<text fill=\"#ffffff\" font-family=\"Times,serif\" font-size=\"14.00\" text-anchor=\"middle\" x=\"61\" y=\"-230.3\">visit_to_Asia?</text>\n",
        "</g>\n",
        "<!-- tuberculosis? -->\n",
        "<g class=\"node\" id=\"node2\"><title>tuberculosis?</title>\n",
        "<ellipse cx=\"61\" cy=\"-162\" fill=\"#666666\" rx=\"57.2927\" ry=\"18\" stroke=\"black\"/>\n",
        "<text fill=\"#ffffff\" font-family=\"Times,serif\" font-size=\"14.00\" text-anchor=\"middle\" x=\"61\" y=\"-158.3\">tuberculosis?</text>\n",
        "</g>\n",
        "<!-- visit_to_Asia?&#45;&gt;tuberculosis? -->\n",
        "<g class=\"edge\" id=\"edge1\"><title>visit_to_Asia?-&gt;tuberculosis?</title>\n",
        "<path d=\"M61,-215.697C61,-207.983 61,-198.712 61,-190.112\" fill=\"none\" stroke=\"black\"/>\n",
        "<polygon fill=\"black\" points=\"64.5001,-190.104 61,-180.104 57.5001,-190.104 64.5001,-190.104\" stroke=\"black\"/>\n",
        "</g>\n",
        "<!-- tuberculos_or_cancer? -->\n",
        "<g class=\"node\" id=\"node3\"><title>tuberculos_or_cancer?</title>\n",
        "<ellipse cx=\"122\" cy=\"-90\" fill=\"#666666\" rx=\"90.0136\" ry=\"18\" stroke=\"black\"/>\n",
        "<text fill=\"#ffffff\" font-family=\"Times,serif\" font-size=\"14.00\" text-anchor=\"middle\" x=\"122\" y=\"-86.3\">tuberculos_or_cancer?</text>\n",
        "</g>\n",
        "<!-- tuberculosis?&#45;&gt;tuberculos_or_cancer? -->\n",
        "<g class=\"edge\" id=\"edge6\"><title>tuberculosis?-&gt;tuberculos_or_cancer?</title>\n",
        "<path d=\"M75.4561,-144.411C82.9428,-135.82 92.2325,-125.159 100.539,-115.627\" fill=\"none\" stroke=\"black\"/>\n",
        "<polygon fill=\"black\" points=\"103.293,-117.795 107.224,-107.956 98.0154,-113.196 103.293,-117.795\" stroke=\"black\"/>\n",
        "</g>\n",
        "<!-- positive_XraY? -->\n",
        "<g class=\"node\" id=\"node4\"><title>positive_XraY?</title>\n",
        "<ellipse cx=\"122\" cy=\"-18\" fill=\"#666666\" rx=\"65.9423\" ry=\"18\" stroke=\"black\"/>\n",
        "<text fill=\"#ffffff\" font-family=\"Times,serif\" font-size=\"14.00\" text-anchor=\"middle\" x=\"122\" y=\"-14.3\">positive_XraY?</text>\n",
        "</g>\n",
        "<!-- tuberculos_or_cancer?&#45;&gt;positive_XraY? -->\n",
        "<g class=\"edge\" id=\"edge3\"><title>tuberculos_or_cancer?-&gt;positive_XraY?</title>\n",
        "<path d=\"M122,-71.6966C122,-63.9827 122,-54.7125 122,-46.1124\" fill=\"none\" stroke=\"black\"/>\n",
        "<polygon fill=\"black\" points=\"125.5,-46.1043 122,-36.1043 118.5,-46.1044 125.5,-46.1043\" stroke=\"black\"/>\n",
        "</g>\n",
        "<!-- dyspnoea? -->\n",
        "<g class=\"node\" id=\"node8\"><title>dyspnoea?</title>\n",
        "<ellipse cx=\"267\" cy=\"-18\" fill=\"#666666\" rx=\"48.1437\" ry=\"18\" stroke=\"black\"/>\n",
        "<text fill=\"#ffffff\" font-family=\"Times,serif\" font-size=\"14.00\" text-anchor=\"middle\" x=\"267\" y=\"-14.3\">dyspnoea?</text>\n",
        "</g>\n",
        "<!-- tuberculos_or_cancer?&#45;&gt;dyspnoea? -->\n",
        "<g class=\"edge\" id=\"edge4\"><title>tuberculos_or_cancer?-&gt;dyspnoea?</title>\n",
        "<path d=\"M154.903,-73.1159C177.081,-62.4091 206.391,-48.2595 229.478,-37.1142\" fill=\"none\" stroke=\"black\"/>\n",
        "<polygon fill=\"black\" points=\"231.147,-40.1949 238.631,-32.6954 228.104,-33.891 231.147,-40.1949\" stroke=\"black\"/>\n",
        "</g>\n",
        "<!-- lung_cancer? -->\n",
        "<g class=\"node\" id=\"node5\"><title>lung_cancer?</title>\n",
        "<ellipse cx=\"194\" cy=\"-162\" fill=\"#666666\" rx=\"57.2688\" ry=\"18\" stroke=\"black\"/>\n",
        "<text fill=\"#ffffff\" font-family=\"Times,serif\" font-size=\"14.00\" text-anchor=\"middle\" x=\"194\" y=\"-158.3\">lung_cancer?</text>\n",
        "</g>\n",
        "<!-- lung_cancer?&#45;&gt;tuberculos_or_cancer? -->\n",
        "<g class=\"edge\" id=\"edge5\"><title>lung_cancer?-&gt;tuberculos_or_cancer?</title>\n",
        "<path d=\"M177.301,-144.765C168.297,-136.011 157.005,-125.033 146.977,-115.283\" fill=\"none\" stroke=\"black\"/>\n",
        "<polygon fill=\"black\" points=\"149.223,-112.585 139.613,-108.124 144.343,-117.604 149.223,-112.585\" stroke=\"black\"/>\n",
        "</g>\n",
        "<!-- smoking? -->\n",
        "<g class=\"node\" id=\"node6\"><title>smoking?</title>\n",
        "<ellipse cx=\"237\" cy=\"-234\" fill=\"#666666\" rx=\"45.244\" ry=\"18\" stroke=\"black\"/>\n",
        "<text fill=\"#ffffff\" font-family=\"Times,serif\" font-size=\"14.00\" text-anchor=\"middle\" x=\"237\" y=\"-230.3\">smoking?</text>\n",
        "</g>\n",
        "<!-- smoking?&#45;&gt;lung_cancer? -->\n",
        "<g class=\"edge\" id=\"edge7\"><title>smoking?-&gt;lung_cancer?</title>\n",
        "<path d=\"M226.81,-216.411C221.69,-208.077 215.375,-197.797 209.657,-188.488\" fill=\"none\" stroke=\"black\"/>\n",
        "<polygon fill=\"black\" points=\"212.632,-186.645 204.416,-179.956 206.668,-190.309 212.632,-186.645\" stroke=\"black\"/>\n",
        "</g>\n",
        "<!-- bronchitis? -->\n",
        "<g class=\"node\" id=\"node7\"><title>bronchitis?</title>\n",
        "<ellipse cx=\"280\" cy=\"-90\" fill=\"#666666\" rx=\"50.0684\" ry=\"18\" stroke=\"black\"/>\n",
        "<text fill=\"#ffffff\" font-family=\"Times,serif\" font-size=\"14.00\" text-anchor=\"middle\" x=\"280\" y=\"-86.3\">bronchitis?</text>\n",
        "</g>\n",
        "<!-- smoking?&#45;&gt;bronchitis? -->\n",
        "<g class=\"edge\" id=\"edge2\"><title>smoking?-&gt;bronchitis?</title>\n",
        "<path d=\"M245.292,-216.131C250.089,-205.871 255.957,-192.397 260,-180 266.659,-159.58 271.876,-135.818 275.309,-117.985\" fill=\"none\" stroke=\"black\"/>\n",
        "<polygon fill=\"black\" points=\"278.781,-118.458 277.168,-107.986 271.899,-117.178 278.781,-118.458\" stroke=\"black\"/>\n",
        "</g>\n",
        "<!-- bronchitis?&#45;&gt;dyspnoea? -->\n",
        "<g class=\"edge\" id=\"edge8\"><title>bronchitis?-&gt;dyspnoea?</title>\n",
        "<path d=\"M276.787,-71.6966C275.354,-63.9827 273.632,-54.7125 272.035,-46.1124\" fill=\"none\" stroke=\"black\"/>\n",
        "<polygon fill=\"black\" points=\"275.444,-45.2971 270.177,-36.1043 268.561,-46.5753 275.444,-45.2971\" stroke=\"black\"/>\n",
        "</g>\n",
        "</g>\n",
        "</svg></div>"
       ],
       "metadata": {},
       "output_type": "display_data",
       "text": [
        "<IPython.core.display.HTML at 0x7f27a9ecbed0>"
       ]
      }
     ],
     "prompt_number": 4
    },
    {
     "cell_type": "code",
     "collapsed": false,
     "input": [
      "pretty_cpt(bn2.cpt(3))"
     ],
     "language": "python",
     "metadata": {},
     "outputs": [
      {
       "output_type": "stream",
       "stream": "stdout",
       "text": [
        "                       |---------------|\n",
        "-----------------------|positive_XraY? |\n",
        " tuberculos_or_cancer? |   d1     d2   |\n",
        "-----------------------|---------------|\n",
        "          c1           | 0.1537 0.8463 |\n",
        "          c2           | 0.5558 0.4442 |\n",
        "-----------------------|---------------|\n"
       ]
      }
     ],
     "prompt_number": 5
    },
    {
     "cell_type": "heading",
     "level": 2,
     "metadata": {},
     "source": [
      "Exact and (Gibbs) approximated KL-divergence "
     ]
    },
    {
     "cell_type": "markdown",
     "metadata": {},
     "source": [
      "<h3>Exact KL</h3>\n"
     ]
    },
    {
     "cell_type": "code",
     "collapsed": false,
     "input": [
      "g1=gum.BruteForceKL(bn,bn2)\n",
      "print(g1.compute())"
     ],
     "language": "python",
     "metadata": {},
     "outputs": [
      {
       "output_type": "stream",
       "stream": "stdout",
       "text": [
        "{'errorQP': 0, 'errorPQ': 0, 'hellinger': 1.0051927522364792, 'bhattacharya': 0.7036142387339192, 'klPQ': 3.747542483858282, 'klQP': 4.09288463976518}\n"
       ]
      }
     ],
     "prompt_number": 6
    },
    {
     "cell_type": "markdown",
     "metadata": {},
     "source": [
      "<h3>Gibbs-approximated KL</h3>\n",
      "\n",
      "There is something wrong with <em>Bhattacharya</em> computations...\n"
     ]
    },
    {
     "cell_type": "code",
     "collapsed": false,
     "input": [
      "g=gum.GibbsKL(bn,bn2)\n",
      "g.setVerbosity(True)\n",
      "g.setMaxTime(120)\n",
      "g.setBurnIn(5000)\n",
      "g.setEpsilon(1e-7)\n",
      "g.setPeriodSize(500)"
     ],
     "language": "python",
     "metadata": {},
     "outputs": [],
     "prompt_number": 7
    },
    {
     "cell_type": "code",
     "collapsed": false,
     "input": [
      "g.compute()"
     ],
     "language": "python",
     "metadata": {},
     "outputs": [
      {
       "metadata": {},
       "output_type": "pyout",
       "prompt_number": 8,
       "text": [
        "{'bhattacharya': -12.683625598730076,\n",
        " 'errorPQ': 0,\n",
        " 'errorQP': 0,\n",
        " 'hellinger': 1.0089637914473115,\n",
        " 'klPQ': 3.7500638028174493,\n",
        " 'klQP': 4.187783845830876}"
       ]
      }
     ],
     "prompt_number": 8
    },
    {
     "cell_type": "code",
     "collapsed": true,
     "input": [
      "print(\"--\")\n",
      "print(g.messageApproximationScheme())\n",
      "print(\"--\")\n",
      "\n",
      "print(\"Temps de calcul : {0}\".format(g.currentTime()))\n",
      "print(\"Nombre d'it\u00e9rations : {0}\".format(g.nbrIterations()))\n",
      "\n",
      "import matplotlib.pyplot as plt\n",
      "import math\n",
      "\n",
      "h1=g.history()\n",
      "\n",
      "plt.figure(1)\n",
      "p=plt.plot(log10(h1), 'g')"
     ],
     "language": "python",
     "metadata": {},
     "outputs": [
      {
       "output_type": "stream",
       "stream": "stdout",
       "text": [
        "--\n",
        "stopped with epsilon=1e-07\n",
        "--\n",
        "Temps de calcul : 4.462658\n",
        "Nombre d'it\u00e9rations : 653500\n"
       ]
      },
      {
       "metadata": {},
       "output_type": "display_data",
       "png": "[encoded data removed]",
       "text": [
        "<matplotlib.figure.Figure at 0x7f27a9ecbb10>"
       ]
      }
     ],
     "prompt_number": 9
    },
    {
     "cell_type": "heading",
     "level": 3,
     "metadata": {},
     "source": [
      "Animation of Gibbs KL"
     ]
    },
    {
     "cell_type": "markdown",
     "metadata": {},
     "source": [
      "Since it may be difficult to know what happens during approximation algorithm, pyAgrum allow to follow the iteration using animated matplotlib figure"
     ]
    },
    {
     "cell_type": "code",
     "collapsed": false,
     "input": [
      "g=gum.GibbsKL(bn,bn2)\n",
      "g.setMaxTime(60)\n",
      "g.setBurnIn(500)\n",
      "g.setEpsilon(1e-7)\n",
      "g.setPeriodSize(5000)"
     ],
     "language": "python",
     "metadata": {},
     "outputs": [],
     "prompt_number": 10
    },
    {
     "cell_type": "code",
     "collapsed": false,
     "input": [
      "gumnb.animApproximationScheme(g)\n",
      "g.compute()"
     ],
     "language": "python",
     "metadata": {},
     "outputs": [
      {
       "output_type": "stream",
       "stream": "stdout",
       "text": [
        "Solutions : stopped with epsilon=1e-07\n",
        "Time : 43.850535 s\n",
        "Iterations : 1155500\n"
       ]
      },
      {
       "metadata": {},
       "output_type": "pyout",
       "prompt_number": 11,
       "text": [
        "{'bhattacharya': -13.251506409662522,\n",
        " 'errorPQ': 0,\n",
        " 'errorQP': 0,\n",
        " 'hellinger': 1.0000318041211933,\n",
        " 'klPQ': 3.7576215490839378,\n",
        " 'klQP': 3.985526495374407}"
       ]
      },
      {
       "metadata": {},
       "output_type": "display_data",
       "png": "[encoded data removed]",
       "text": [
        "<matplotlib.figure.Figure at 0x7f27aa4ee7d0>"
       ]
      }
     ],
     "prompt_number": 11
    },
    {
     "cell_type": "code",
     "collapsed": false,
     "input": [],
     "language": "python",
     "metadata": {},
     "outputs": []
    }
   ],
   "metadata": {}
  }
 ]
}