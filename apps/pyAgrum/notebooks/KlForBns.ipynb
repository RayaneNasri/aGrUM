{
 "metadata": {
  "name": "",
  "signature": "sha256:90f09f2ce428eed64f286eb96df93348314a5b52dd9405bc7ae74b1c286ef258"
 },
 "nbformat": 3,
 "nbformat_minor": 0,
 "worksheets": [
  {
   "cells": [
    {
     "cell_type": "code",
     "collapsed": false,
     "input": [
      "%matplotlib inline\n",
      "\n",
      "from pylab import *\n",
      "import matplotlib.pyplot as plt\n"
     ],
     "language": "python",
     "metadata": {},
     "outputs": [],
     "prompt_number": 14
    },
    {
     "cell_type": "markdown",
     "metadata": {},
     "source": [
      "Initialisation\n",
      "==============\n",
      "\n",
      "* importing pyAgrum\n",
      "* importing gumLib tools\n",
      "* loading a BN"
     ]
    },
    {
     "cell_type": "code",
     "collapsed": true,
     "input": [
      "import pyAgrum as gum\n",
      "import gumLib.notebook as gnb\n",
      "from gumLib.pretty_print import pretty_cpt"
     ],
     "language": "python",
     "metadata": {},
     "outputs": [],
     "prompt_number": 15
    },
    {
     "cell_type": "heading",
     "level": 2,
     "metadata": {},
     "source": [
      "Create a first BN : bn"
     ]
    },
    {
     "cell_type": "code",
     "collapsed": false,
     "input": [
      "bn=gum.loadBN(\"../resources/asia.bif\")\n",
      "# randomly re-generate parameters for every Conditional Probability Table\n",
      "bn.generateCPTs() \n",
      "gnb.showBN(bn,size=\"3\")"
     ],
     "language": "python",
     "metadata": {},
     "outputs": [
      {
       "html": [
        "<div align='center'><svg height=\"166pt\" viewBox=\"0.00 0.00 216.00 165.77\" width=\"216pt\" xmlns=\"http://www.w3.org/2000/svg\" xmlns:xlink=\"http://www.w3.org/1999/xlink\">\n",
        "<g class=\"graph\" id=\"graph0\" transform=\"scale(0.637563 0.637563) rotate(0) translate(4 256)\">\n",
        "<title>G</title>\n",
        "<polygon fill=\"white\" points=\"-4,4 -4,-256 334.79,-256 334.79,4 -4,4\" stroke=\"none\"/>\n",
        "<!-- visit_to_Asia? -->\n",
        "<g class=\"node\" id=\"node1\"><title>visit_to_Asia?</title>\n",
        "<g id=\"a_node1\"><a xlink:title=\"(0) visit_to_Asia?\">\n",
        "<ellipse cx=\"61.7445\" cy=\"-234\" fill=\"#444444\" rx=\"61.99\" ry=\"18\" stroke=\"black\"/>\n",
        "<text fill=\"#ffffff\" font-family=\"Times,serif\" font-size=\"14.00\" text-anchor=\"middle\" x=\"61.7445\" y=\"-230.3\">visit_to_Asia?</text>\n",
        "</a>\n",
        "</g>\n",
        "</g>\n",
        "<!-- tuberculosis? -->\n",
        "<g class=\"node\" id=\"node2\"><title>tuberculosis?</title>\n",
        "<g id=\"a_node2\"><a xlink:title=\"(1) tuberculosis?\">\n",
        "<ellipse cx=\"61.7445\" cy=\"-162\" fill=\"#444444\" rx=\"57.3905\" ry=\"18\" stroke=\"black\"/>\n",
        "<text fill=\"#ffffff\" font-family=\"Times,serif\" font-size=\"14.00\" text-anchor=\"middle\" x=\"61.7445\" y=\"-158.3\">tuberculosis?</text>\n",
        "</a>\n",
        "</g>\n",
        "</g>\n",
        "<!-- visit_to_Asia?&#45;&gt;tuberculosis? -->\n",
        "<g class=\"edge\" id=\"edge1\"><title>visit_to_Asia?-&gt;tuberculosis?</title>\n",
        "<path d=\"M61.7445,-215.697C61.7445,-207.983 61.7445,-198.712 61.7445,-190.112\" fill=\"none\" stroke=\"black\"/>\n",
        "<polygon fill=\"black\" points=\"65.2446,-190.104 61.7445,-180.104 58.2446,-190.104 65.2446,-190.104\" stroke=\"black\"/>\n",
        "</g>\n",
        "<!-- tuberculos_or_cancer? -->\n",
        "<g class=\"node\" id=\"node3\"><title>tuberculos_or_cancer?</title>\n",
        "<g id=\"a_node3\"><a xlink:title=\"(2) tuberculos_or_cancer?\">\n",
        "<ellipse cx=\"122.745\" cy=\"-90\" fill=\"#444444\" rx=\"90.1842\" ry=\"18\" stroke=\"black\"/>\n",
        "<text fill=\"#ffffff\" font-family=\"Times,serif\" font-size=\"14.00\" text-anchor=\"middle\" x=\"122.745\" y=\"-86.3\">tuberculos_or_cancer?</text>\n",
        "</a>\n",
        "</g>\n",
        "</g>\n",
        "<!-- tuberculosis?&#45;&gt;tuberculos_or_cancer? -->\n",
        "<g class=\"edge\" id=\"edge6\"><title>tuberculosis?-&gt;tuberculos_or_cancer?</title>\n",
        "<path d=\"M76.2007,-144.411C83.6874,-135.82 92.977,-125.159 101.283,-115.627\" fill=\"none\" stroke=\"black\"/>\n",
        "<polygon fill=\"black\" points=\"104.037,-117.795 107.968,-107.956 98.7599,-113.196 104.037,-117.795\" stroke=\"black\"/>\n",
        "</g>\n",
        "<!-- positive_XraY? -->\n",
        "<g class=\"node\" id=\"node4\"><title>positive_XraY?</title>\n",
        "<g id=\"a_node4\"><a xlink:title=\"(3) positive_XraY?\">\n",
        "<ellipse cx=\"122.745\" cy=\"-18\" fill=\"#444444\" rx=\"66.0889\" ry=\"18\" stroke=\"black\"/>\n",
        "<text fill=\"#ffffff\" font-family=\"Times,serif\" font-size=\"14.00\" text-anchor=\"middle\" x=\"122.745\" y=\"-14.3\">positive_XraY?</text>\n",
        "</a>\n",
        "</g>\n",
        "</g>\n",
        "<!-- tuberculos_or_cancer?&#45;&gt;positive_XraY? -->\n",
        "<g class=\"edge\" id=\"edge3\"><title>tuberculos_or_cancer?-&gt;positive_XraY?</title>\n",
        "<path d=\"M122.745,-71.6966C122.745,-63.9827 122.745,-54.7125 122.745,-46.1124\" fill=\"none\" stroke=\"black\"/>\n",
        "<polygon fill=\"black\" points=\"126.245,-46.1043 122.745,-36.1043 119.245,-46.1044 126.245,-46.1043\" stroke=\"black\"/>\n",
        "</g>\n",
        "<!-- dyspnoea? -->\n",
        "<g class=\"node\" id=\"node8\"><title>dyspnoea?</title>\n",
        "<g id=\"a_node8\"><a xlink:title=\"(7) dyspnoea?\">\n",
        "<ellipse cx=\"267.745\" cy=\"-18\" fill=\"#444444\" rx=\"48.1917\" ry=\"18\" stroke=\"black\"/>\n",
        "<text fill=\"#ffffff\" font-family=\"Times,serif\" font-size=\"14.00\" text-anchor=\"middle\" x=\"267.745\" y=\"-14.3\">dyspnoea?</text>\n",
        "</a>\n",
        "</g>\n",
        "</g>\n",
        "<!-- tuberculos_or_cancer?&#45;&gt;dyspnoea? -->\n",
        "<g class=\"edge\" id=\"edge4\"><title>tuberculos_or_cancer?-&gt;dyspnoea?</title>\n",
        "<path d=\"M155.647,-73.1159C177.826,-62.4091 207.136,-48.2595 230.222,-37.1142\" fill=\"none\" stroke=\"black\"/>\n",
        "<polygon fill=\"black\" points=\"231.892,-40.1949 239.375,-32.6954 228.848,-33.891 231.892,-40.1949\" stroke=\"black\"/>\n",
        "</g>\n",
        "<!-- lung_cancer? -->\n",
        "<g class=\"node\" id=\"node5\"><title>lung_cancer?</title>\n",
        "<g id=\"a_node5\"><a xlink:title=\"(4) lung_cancer?\">\n",
        "<ellipse cx=\"194.745\" cy=\"-162\" fill=\"#444444\" rx=\"57.6901\" ry=\"18\" stroke=\"black\"/>\n",
        "<text fill=\"#ffffff\" font-family=\"Times,serif\" font-size=\"14.00\" text-anchor=\"middle\" x=\"194.745\" y=\"-158.3\">lung_cancer?</text>\n",
        "</a>\n",
        "</g>\n",
        "</g>\n",
        "<!-- lung_cancer?&#45;&gt;tuberculos_or_cancer? -->\n",
        "<g class=\"edge\" id=\"edge5\"><title>lung_cancer?-&gt;tuberculos_or_cancer?</title>\n",
        "<path d=\"M178.045,-144.765C169.041,-136.011 157.75,-125.033 147.721,-115.283\" fill=\"none\" stroke=\"black\"/>\n",
        "<polygon fill=\"black\" points=\"149.967,-112.585 140.358,-108.124 145.088,-117.604 149.967,-112.585\" stroke=\"black\"/>\n",
        "</g>\n",
        "<!-- smoking? -->\n",
        "<g class=\"node\" id=\"node6\"><title>smoking?</title>\n",
        "<g id=\"a_node6\"><a xlink:title=\"(5) smoking?\">\n",
        "<ellipse cx=\"237.745\" cy=\"-234\" fill=\"#444444\" rx=\"45.4919\" ry=\"18\" stroke=\"black\"/>\n",
        "<text fill=\"#ffffff\" font-family=\"Times,serif\" font-size=\"14.00\" text-anchor=\"middle\" x=\"237.745\" y=\"-230.3\">smoking?</text>\n",
        "</a>\n",
        "</g>\n",
        "</g>\n",
        "<!-- smoking?&#45;&gt;lung_cancer? -->\n",
        "<g class=\"edge\" id=\"edge7\"><title>smoking?-&gt;lung_cancer?</title>\n",
        "<path d=\"M227.554,-216.411C222.435,-208.077 216.12,-197.797 210.402,-188.488\" fill=\"none\" stroke=\"black\"/>\n",
        "<polygon fill=\"black\" points=\"213.377,-186.645 205.16,-179.956 207.412,-190.309 213.377,-186.645\" stroke=\"black\"/>\n",
        "</g>\n",
        "<!-- bronchitis? -->\n",
        "<g class=\"node\" id=\"node7\"><title>bronchitis?</title>\n",
        "<g id=\"a_node7\"><a xlink:title=\"(6) bronchitis?\">\n",
        "<ellipse cx=\"280.745\" cy=\"-90\" fill=\"#444444\" rx=\"50.0912\" ry=\"18\" stroke=\"black\"/>\n",
        "<text fill=\"#ffffff\" font-family=\"Times,serif\" font-size=\"14.00\" text-anchor=\"middle\" x=\"280.745\" y=\"-86.3\">bronchitis?</text>\n",
        "</a>\n",
        "</g>\n",
        "</g>\n",
        "<!-- smoking?&#45;&gt;bronchitis? -->\n",
        "<g class=\"edge\" id=\"edge2\"><title>smoking?-&gt;bronchitis?</title>\n",
        "<path d=\"M246.482,-216.186C251.517,-205.946 257.642,-192.474 261.745,-180 268.439,-159.645 273.373,-135.879 276.533,-118.028\" fill=\"none\" stroke=\"black\"/>\n",
        "<polygon fill=\"black\" points=\"280.009,-118.461 278.23,-108.017 273.108,-117.292 280.009,-118.461\" stroke=\"black\"/>\n",
        "</g>\n",
        "<!-- bronchitis?&#45;&gt;dyspnoea? -->\n",
        "<g class=\"edge\" id=\"edge8\"><title>bronchitis?-&gt;dyspnoea?</title>\n",
        "<path d=\"M277.531,-71.6966C276.098,-63.9827 274.377,-54.7125 272.78,-46.1124\" fill=\"none\" stroke=\"black\"/>\n",
        "<polygon fill=\"black\" points=\"276.188,-45.2971 270.921,-36.1043 269.306,-46.5753 276.188,-45.2971\" stroke=\"black\"/>\n",
        "</g>\n",
        "</g>\n",
        "</svg></div>"
       ],
       "metadata": {},
       "output_type": "display_data",
       "text": [
        "<IPython.core.display.HTML at 0x7f6ac00c3350>"
       ]
      }
     ],
     "prompt_number": 16
    },
    {
     "cell_type": "code",
     "collapsed": false,
     "input": [
      "pretty_cpt(bn.cpt(3))"
     ],
     "language": "python",
     "metadata": {},
     "outputs": [
      {
       "output_type": "stream",
       "stream": "stdout",
       "text": [
        "                       |---------------|\n",
        "-----------------------|positive_XraY? |\n",
        " tuberculos_or_cancer? |   0      1    |\n",
        "-----------------------|---------------|\n",
        "           0           | 0.2650 0.7350 |\n",
        "           1           | 0.3230 0.6770 |\n",
        "-----------------------|---------------|\n"
       ]
      }
     ],
     "prompt_number": 17
    },
    {
     "cell_type": "heading",
     "level": 2,
     "metadata": {},
     "source": [
      "Create a second BN : bn2"
     ]
    },
    {
     "cell_type": "code",
     "collapsed": false,
     "input": [
      "bn2=gum.loadBN(\"../resources/asia.bif\")\n",
      "bn2.generateCPTs()\n",
      "gnb.showBN(bn,size=\"3\")"
     ],
     "language": "python",
     "metadata": {},
     "outputs": [
      {
       "html": [
        "<div align='center'><svg height=\"166pt\" viewBox=\"0.00 0.00 216.00 165.77\" width=\"216pt\" xmlns=\"http://www.w3.org/2000/svg\" xmlns:xlink=\"http://www.w3.org/1999/xlink\">\n",
        "<g class=\"graph\" id=\"graph0\" transform=\"scale(0.637563 0.637563) rotate(0) translate(4 256)\">\n",
        "<title>G</title>\n",
        "<polygon fill=\"white\" points=\"-4,4 -4,-256 334.79,-256 334.79,4 -4,4\" stroke=\"none\"/>\n",
        "<!-- visit_to_Asia? -->\n",
        "<g class=\"node\" id=\"node1\"><title>visit_to_Asia?</title>\n",
        "<g id=\"a_node1\"><a xlink:title=\"(0) visit_to_Asia?\">\n",
        "<ellipse cx=\"61.7445\" cy=\"-234\" fill=\"#444444\" rx=\"61.99\" ry=\"18\" stroke=\"black\"/>\n",
        "<text fill=\"#ffffff\" font-family=\"Times,serif\" font-size=\"14.00\" text-anchor=\"middle\" x=\"61.7445\" y=\"-230.3\">visit_to_Asia?</text>\n",
        "</a>\n",
        "</g>\n",
        "</g>\n",
        "<!-- tuberculosis? -->\n",
        "<g class=\"node\" id=\"node2\"><title>tuberculosis?</title>\n",
        "<g id=\"a_node2\"><a xlink:title=\"(1) tuberculosis?\">\n",
        "<ellipse cx=\"61.7445\" cy=\"-162\" fill=\"#444444\" rx=\"57.3905\" ry=\"18\" stroke=\"black\"/>\n",
        "<text fill=\"#ffffff\" font-family=\"Times,serif\" font-size=\"14.00\" text-anchor=\"middle\" x=\"61.7445\" y=\"-158.3\">tuberculosis?</text>\n",
        "</a>\n",
        "</g>\n",
        "</g>\n",
        "<!-- visit_to_Asia?&#45;&gt;tuberculosis? -->\n",
        "<g class=\"edge\" id=\"edge1\"><title>visit_to_Asia?-&gt;tuberculosis?</title>\n",
        "<path d=\"M61.7445,-215.697C61.7445,-207.983 61.7445,-198.712 61.7445,-190.112\" fill=\"none\" stroke=\"black\"/>\n",
        "<polygon fill=\"black\" points=\"65.2446,-190.104 61.7445,-180.104 58.2446,-190.104 65.2446,-190.104\" stroke=\"black\"/>\n",
        "</g>\n",
        "<!-- tuberculos_or_cancer? -->\n",
        "<g class=\"node\" id=\"node3\"><title>tuberculos_or_cancer?</title>\n",
        "<g id=\"a_node3\"><a xlink:title=\"(2) tuberculos_or_cancer?\">\n",
        "<ellipse cx=\"122.745\" cy=\"-90\" fill=\"#444444\" rx=\"90.1842\" ry=\"18\" stroke=\"black\"/>\n",
        "<text fill=\"#ffffff\" font-family=\"Times,serif\" font-size=\"14.00\" text-anchor=\"middle\" x=\"122.745\" y=\"-86.3\">tuberculos_or_cancer?</text>\n",
        "</a>\n",
        "</g>\n",
        "</g>\n",
        "<!-- tuberculosis?&#45;&gt;tuberculos_or_cancer? -->\n",
        "<g class=\"edge\" id=\"edge6\"><title>tuberculosis?-&gt;tuberculos_or_cancer?</title>\n",
        "<path d=\"M76.2007,-144.411C83.6874,-135.82 92.977,-125.159 101.283,-115.627\" fill=\"none\" stroke=\"black\"/>\n",
        "<polygon fill=\"black\" points=\"104.037,-117.795 107.968,-107.956 98.7599,-113.196 104.037,-117.795\" stroke=\"black\"/>\n",
        "</g>\n",
        "<!-- positive_XraY? -->\n",
        "<g class=\"node\" id=\"node4\"><title>positive_XraY?</title>\n",
        "<g id=\"a_node4\"><a xlink:title=\"(3) positive_XraY?\">\n",
        "<ellipse cx=\"122.745\" cy=\"-18\" fill=\"#444444\" rx=\"66.0889\" ry=\"18\" stroke=\"black\"/>\n",
        "<text fill=\"#ffffff\" font-family=\"Times,serif\" font-size=\"14.00\" text-anchor=\"middle\" x=\"122.745\" y=\"-14.3\">positive_XraY?</text>\n",
        "</a>\n",
        "</g>\n",
        "</g>\n",
        "<!-- tuberculos_or_cancer?&#45;&gt;positive_XraY? -->\n",
        "<g class=\"edge\" id=\"edge3\"><title>tuberculos_or_cancer?-&gt;positive_XraY?</title>\n",
        "<path d=\"M122.745,-71.6966C122.745,-63.9827 122.745,-54.7125 122.745,-46.1124\" fill=\"none\" stroke=\"black\"/>\n",
        "<polygon fill=\"black\" points=\"126.245,-46.1043 122.745,-36.1043 119.245,-46.1044 126.245,-46.1043\" stroke=\"black\"/>\n",
        "</g>\n",
        "<!-- dyspnoea? -->\n",
        "<g class=\"node\" id=\"node8\"><title>dyspnoea?</title>\n",
        "<g id=\"a_node8\"><a xlink:title=\"(7) dyspnoea?\">\n",
        "<ellipse cx=\"267.745\" cy=\"-18\" fill=\"#444444\" rx=\"48.1917\" ry=\"18\" stroke=\"black\"/>\n",
        "<text fill=\"#ffffff\" font-family=\"Times,serif\" font-size=\"14.00\" text-anchor=\"middle\" x=\"267.745\" y=\"-14.3\">dyspnoea?</text>\n",
        "</a>\n",
        "</g>\n",
        "</g>\n",
        "<!-- tuberculos_or_cancer?&#45;&gt;dyspnoea? -->\n",
        "<g class=\"edge\" id=\"edge4\"><title>tuberculos_or_cancer?-&gt;dyspnoea?</title>\n",
        "<path d=\"M155.647,-73.1159C177.826,-62.4091 207.136,-48.2595 230.222,-37.1142\" fill=\"none\" stroke=\"black\"/>\n",
        "<polygon fill=\"black\" points=\"231.892,-40.1949 239.375,-32.6954 228.848,-33.891 231.892,-40.1949\" stroke=\"black\"/>\n",
        "</g>\n",
        "<!-- lung_cancer? -->\n",
        "<g class=\"node\" id=\"node5\"><title>lung_cancer?</title>\n",
        "<g id=\"a_node5\"><a xlink:title=\"(4) lung_cancer?\">\n",
        "<ellipse cx=\"194.745\" cy=\"-162\" fill=\"#444444\" rx=\"57.6901\" ry=\"18\" stroke=\"black\"/>\n",
        "<text fill=\"#ffffff\" font-family=\"Times,serif\" font-size=\"14.00\" text-anchor=\"middle\" x=\"194.745\" y=\"-158.3\">lung_cancer?</text>\n",
        "</a>\n",
        "</g>\n",
        "</g>\n",
        "<!-- lung_cancer?&#45;&gt;tuberculos_or_cancer? -->\n",
        "<g class=\"edge\" id=\"edge5\"><title>lung_cancer?-&gt;tuberculos_or_cancer?</title>\n",
        "<path d=\"M178.045,-144.765C169.041,-136.011 157.75,-125.033 147.721,-115.283\" fill=\"none\" stroke=\"black\"/>\n",
        "<polygon fill=\"black\" points=\"149.967,-112.585 140.358,-108.124 145.088,-117.604 149.967,-112.585\" stroke=\"black\"/>\n",
        "</g>\n",
        "<!-- smoking? -->\n",
        "<g class=\"node\" id=\"node6\"><title>smoking?</title>\n",
        "<g id=\"a_node6\"><a xlink:title=\"(5) smoking?\">\n",
        "<ellipse cx=\"237.745\" cy=\"-234\" fill=\"#444444\" rx=\"45.4919\" ry=\"18\" stroke=\"black\"/>\n",
        "<text fill=\"#ffffff\" font-family=\"Times,serif\" font-size=\"14.00\" text-anchor=\"middle\" x=\"237.745\" y=\"-230.3\">smoking?</text>\n",
        "</a>\n",
        "</g>\n",
        "</g>\n",
        "<!-- smoking?&#45;&gt;lung_cancer? -->\n",
        "<g class=\"edge\" id=\"edge7\"><title>smoking?-&gt;lung_cancer?</title>\n",
        "<path d=\"M227.554,-216.411C222.435,-208.077 216.12,-197.797 210.402,-188.488\" fill=\"none\" stroke=\"black\"/>\n",
        "<polygon fill=\"black\" points=\"213.377,-186.645 205.16,-179.956 207.412,-190.309 213.377,-186.645\" stroke=\"black\"/>\n",
        "</g>\n",
        "<!-- bronchitis? -->\n",
        "<g class=\"node\" id=\"node7\"><title>bronchitis?</title>\n",
        "<g id=\"a_node7\"><a xlink:title=\"(6) bronchitis?\">\n",
        "<ellipse cx=\"280.745\" cy=\"-90\" fill=\"#444444\" rx=\"50.0912\" ry=\"18\" stroke=\"black\"/>\n",
        "<text fill=\"#ffffff\" font-family=\"Times,serif\" font-size=\"14.00\" text-anchor=\"middle\" x=\"280.745\" y=\"-86.3\">bronchitis?</text>\n",
        "</a>\n",
        "</g>\n",
        "</g>\n",
        "<!-- smoking?&#45;&gt;bronchitis? -->\n",
        "<g class=\"edge\" id=\"edge2\"><title>smoking?-&gt;bronchitis?</title>\n",
        "<path d=\"M246.482,-216.186C251.517,-205.946 257.642,-192.474 261.745,-180 268.439,-159.645 273.373,-135.879 276.533,-118.028\" fill=\"none\" stroke=\"black\"/>\n",
        "<polygon fill=\"black\" points=\"280.009,-118.461 278.23,-108.017 273.108,-117.292 280.009,-118.461\" stroke=\"black\"/>\n",
        "</g>\n",
        "<!-- bronchitis?&#45;&gt;dyspnoea? -->\n",
        "<g class=\"edge\" id=\"edge8\"><title>bronchitis?-&gt;dyspnoea?</title>\n",
        "<path d=\"M277.531,-71.6966C276.098,-63.9827 274.377,-54.7125 272.78,-46.1124\" fill=\"none\" stroke=\"black\"/>\n",
        "<polygon fill=\"black\" points=\"276.188,-45.2971 270.921,-36.1043 269.306,-46.5753 276.188,-45.2971\" stroke=\"black\"/>\n",
        "</g>\n",
        "</g>\n",
        "</svg></div>"
       ],
       "metadata": {},
       "output_type": "display_data",
       "text": [
        "<IPython.core.display.HTML at 0x7f6aa577dd90>"
       ]
      }
     ],
     "prompt_number": 18
    },
    {
     "cell_type": "code",
     "collapsed": false,
     "input": [
      "pretty_cpt(bn2.cpt(3))"
     ],
     "language": "python",
     "metadata": {},
     "outputs": [
      {
       "output_type": "stream",
       "stream": "stdout",
       "text": [
        "                       |---------------|\n",
        "-----------------------|positive_XraY? |\n",
        " tuberculos_or_cancer? |   0      1    |\n",
        "-----------------------|---------------|\n",
        "           0           | 0.3316 0.6684 |\n",
        "           1           | 0.2047 0.7953 |\n",
        "-----------------------|---------------|\n"
       ]
      }
     ],
     "prompt_number": 19
    },
    {
     "cell_type": "heading",
     "level": 2,
     "metadata": {},
     "source": [
      "Exact and (Gibbs) approximated KL-divergence "
     ]
    },
    {
     "cell_type": "markdown",
     "metadata": {},
     "source": [
      "In order to compute KL-divergence, we just need to be sure that the 2 distributions are defined on the same domain (same variables, etc.)"
     ]
    },
    {
     "cell_type": "markdown",
     "metadata": {},
     "source": [
      "<h3>Exact KL</h3>\n"
     ]
    },
    {
     "cell_type": "code",
     "collapsed": false,
     "input": [
      "g1=gum.BruteForceKL(bn,bn2)\n",
      "print(g1.compute())"
     ],
     "language": "python",
     "metadata": {},
     "outputs": [
      {
       "output_type": "stream",
       "stream": "stdout",
       "text": [
        "{'errorQP': 0, 'errorPQ': 0, 'hellinger': 0.9958328940332313, 'bhattacharya': 0.6848647278014911, 'klPQ': 6.286946152074129, 'klQP': 2.700623886661406}\n"
       ]
      }
     ],
     "prompt_number": 20
    },
    {
     "cell_type": "markdown",
     "metadata": {},
     "source": [
      "If the models are not on the same domain :"
     ]
    },
    {
     "cell_type": "code",
     "collapsed": false,
     "input": [
      "bn_different_domain=gum.loadBN(\"../resources/alarm.dsl\")\n",
      "\n",
      "# g=gum.BruteForceKL(bn,bn_different_domain) # a KL-divergence between asia and alarm ... :(\n",
      "#\n",
      "# would cause\n",
      "#---------------------------------------------------------------------------\n",
      "#OperationNotAllowed                       Traceback (most recent call last)\n",
      "#\n",
      "#OperationNotAllowed: this operation is not allowed : KL : the 2 BNs are not compatible (not the same vars : visit_to_Asia?)"
     ],
     "language": "python",
     "metadata": {},
     "outputs": [],
     "prompt_number": 21
    },
    {
     "cell_type": "markdown",
     "metadata": {},
     "source": [
      "<h3>Gibbs-approximated KL</h3>\n",
      "\n",
      "There is something wrong with <em>Bhattacharya</em> computations...\n"
     ]
    },
    {
     "cell_type": "code",
     "collapsed": false,
     "input": [
      "g=gum.GibbsKL(bn,bn2)\n",
      "g.setVerbosity(True)\n",
      "g.setMaxTime(120)\n",
      "g.setBurnIn(5000)\n",
      "g.setEpsilon(1e-7)\n",
      "g.setPeriodSize(500)"
     ],
     "language": "python",
     "metadata": {},
     "outputs": [],
     "prompt_number": 22
    },
    {
     "cell_type": "code",
     "collapsed": false,
     "input": [
      "print(g.compute())\n",
      "print(\"Computed in {0} s\".format(g.currentTime()))"
     ],
     "language": "python",
     "metadata": {},
     "outputs": [
      {
       "output_type": "stream",
       "stream": "stdout",
       "text": [
        "{'errorQP': 0, 'errorPQ': 0, 'hellinger': 0.9966463453096522, 'bhattacharya': -10.682810952547063, 'klPQ': 6.275700857490008, 'klQP': 2.7196575026606014}\n",
        "Computed in 0.774878 s\n"
       ]
      }
     ],
     "prompt_number": 23
    },
    {
     "cell_type": "code",
     "collapsed": true,
     "input": [
      "print(\"--\")\n",
      "\n",
      "print(g.messageApproximationScheme())\n",
      "print(\"--\")\n",
      "\n",
      "print(\"Temps de calcul : {0}\".format(g.currentTime()))\n",
      "print(\"Nombre d'it\u00e9rations : {0}\".format(g.nbrIterations()))\n",
      "\n",
      "plot(g.history(), 'g')"
     ],
     "language": "python",
     "metadata": {},
     "outputs": [
      {
       "output_type": "stream",
       "stream": "stdout",
       "text": [
        "--\n",
        "stopped with epsilon=1e-07\n",
        "--\n",
        "Temps de calcul : 0.774878\n",
        "Nombre d'it\u00e9rations : 86000\n"
       ]
      },
      {
       "metadata": {},
       "output_type": "pyout",
       "prompt_number": 24,
       "text": [
        "[<matplotlib.lines.Line2D at 0x7f6aa562ab10>]"
       ]
      },
      {
       "metadata": {},
       "output_type": "display_data",
       "png": "[encoded data removed]",
       "text": [
        "<matplotlib.figure.Figure at 0x7f6aa56d8f10>"
       ]
      }
     ],
     "prompt_number": 24
    },
    {
     "cell_type": "heading",
     "level": 3,
     "metadata": {},
     "source": [
      "Animation of Gibbs KL"
     ]
    },
    {
     "cell_type": "markdown",
     "metadata": {},
     "source": [
      "Since it may be difficult to know what happens during approximation algorithm, pyAgrum allow to follow the iteration using animated matplotlib figure"
     ]
    },
    {
     "cell_type": "code",
     "collapsed": false,
     "input": [
      "g=gum.GibbsKL(bn,bn2)\n",
      "g.setMaxTime(60)\n",
      "g.setBurnIn(500)\n",
      "g.setEpsilon(1e-7)\n",
      "g.setPeriodSize(5000)"
     ],
     "language": "python",
     "metadata": {},
     "outputs": [],
     "prompt_number": 25
    },
    {
     "cell_type": "code",
     "collapsed": false,
     "input": [
      "gnb.animApproximationScheme(g) # logarithmique scale for Y\n",
      "g.compute()"
     ],
     "language": "python",
     "metadata": {},
     "outputs": [
      {
       "metadata": {},
       "output_type": "pyout",
       "prompt_number": 26,
       "text": [
        "{'bhattacharya': -12.161135066143174,\n",
        " 'errorPQ': 0,\n",
        " 'errorQP': 0,\n",
        " 'hellinger': 0.9973327199351573,\n",
        " 'klPQ': 6.245623570260726,\n",
        " 'klQP': 2.743137439048151}"
       ]
      },
      {
       "metadata": {},
       "output_type": "display_data",
       "png": "[encoded data removed]",
       "text": [
        "<matplotlib.figure.Figure at 0x7f6aa5759510>"
       ]
      }
     ],
     "prompt_number": 26
    },
    {
     "cell_type": "code",
     "collapsed": false,
     "input": [],
     "language": "python",
     "metadata": {},
     "outputs": [],
     "prompt_number": 26
    }
   ],
   "metadata": {}
  }
 ]
}