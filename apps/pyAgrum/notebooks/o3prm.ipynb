{
 "cells": [
  {
   "cell_type": "code",
   "execution_count": 1,
   "metadata": {
    "collapsed": false
   },
   "outputs": [
    {
     "name": "stdout",
     "output_type": "stream",
     "text": [
      "Changing local\n",
      "('en_US', 'UTF-8')\n",
      "(None, None)\n"
     ]
    }
   ],
   "source": [
    "print(\"Changing local\")\n",
    "import locale\n",
    "print( locale.getlocale() )\n",
    "locale.setlocale(locale.LC_ALL,\"C\")\n",
    "print( locale.getlocale() )"
   ]
  },
  {
   "cell_type": "code",
   "execution_count": 2,
   "metadata": {
    "collapsed": false
   },
   "outputs": [],
   "source": [
    "import pyAgrum as gum\n",
    "import pyAgrum.lib.notebook as gnb\n",
    "\n"
   ]
  },
  {
   "cell_type": "markdown",
   "metadata": {},
   "source": [
    "# Using o3prm syntax for creating BayesNet"
   ]
  },
  {
   "cell_type": "code",
   "execution_count": null,
   "metadata": {
    "collapsed": false
   },
   "outputs": [],
   "source": [
    "bn=gum.loadBN(\"./Asia.o3prm\",verbose=False)\n",
    "gnb.showBN(bn,size=\"3\")"
   ]
  },
  {
   "cell_type": "code",
   "execution_count": null,
   "metadata": {
    "collapsed": false
   },
   "outputs": [],
   "source": [
    "bn=gum.loadBN(\"./aSys.o3prm\")\n",
    "gnb.showBN(bn,size=\"3\")"
   ]
  },
  {
   "cell_type": "code",
   "execution_count": null,
   "metadata": {
    "collapsed": false
   },
   "outputs": [],
   "source": [
    "classpath=\"./ComplexPrinters\"\n",
    "filename=classpath+\"/fr/lip6/printers/system.o3prm\"\n",
    "system=\"Work\"\n",
    "bn=gum.loadBN(filename,system=system,classpath=classpath)\n",
    "#gnb.showBN(bn,size='10',format=\"svg\")\n",
    "gnb.showInference(bn,size=\"150\",format='png')\n"
   ]
  },
  {
   "cell_type": "code",
   "execution_count": null,
   "metadata": {
    "collapsed": false
   },
   "outputs": [],
   "source": [
    "locale.setlocale(locale.LC_ALL,\"C\")\n",
    "bn=gum.loadBN(\"./aSys.o3prm\")\n",
    "gnb.showBN(bn,size='5')\n",
    "gnb.showInference(bn,size='5')\n"
   ]
  },
  {
   "cell_type": "markdown",
   "metadata": {
    "collapsed": true
   },
   "source": [
    "# Exploring Probabilistic Relational Model"
   ]
  },
  {
   "cell_type": "code",
   "execution_count": 3,
   "metadata": {
    "collapsed": false
   },
   "outputs": [],
   "source": [
    "classpath=\"./ComplexPrinters\"\n",
    "filename=classpath+\"/fr/lip6/printers/system.o3prm\"\n",
    "system=\"Work\"\n",
    "explor=gum.PRMexplorer(filename,classpath)"
   ]
  },
  {
   "cell_type": "code",
   "execution_count": 8,
   "metadata": {
    "collapsed": false
   },
   "outputs": [
    {
     "name": "stdout",
     "output_type": "stream",
     "text": [
      "Class : fr.lip6.printers.base.PowerSupply\n",
      "  - state\n",
      "\n",
      "Class : fr.lip6.printers.base.Room\n",
      "  + (fr.lip6.printers.base.PowerSupply)power\n",
      "\n",
      "Class : fr.lip6.printers.printers.ColorPrinter\n",
      "  - magenta\n",
      "  - black\n",
      "  - equipState\n",
      "  - yellow\n",
      "  - cyan\n",
      "  - hasPaper\n",
      "  + (fr.lip6.printers.base.Room)room\n",
      "\n",
      "Class : fr.lip6.printers.printers.BWPrinter\n",
      "  - hasInk\n",
      "  - hasPaper\n",
      "  - equipState\n",
      "  + (fr.lip6.printers.base.Room)room\n",
      "\n",
      "Class : fr.lip6.printers.computer.Computer\n",
      "  - equipState\n",
      "  - can_print\n",
      "  + (fr.lip6.printers.base.Room)room\n",
      "  + (fr.lip6.printers.base.Printer)printers\n",
      "\n"
     ]
    }
   ],
   "source": [
    "for cl in explor.classes():\n",
    "    print(\"Class : \"+cl)\n",
    "    for attr in explor.attributes(cl):\n",
    "        print(\"  - \"+attr)\n",
    "    for ref in explor.references(cl, True):\n",
    "        print(\"  + \"+ref)\n",
    "    print()"
   ]
  },
  {
   "cell_type": "code",
   "execution_count": null,
   "metadata": {
    "collapsed": false
   },
   "outputs": [],
   "source": [
    "for attr in explor.attributes('fr.lip6.printers.computer.Computer',allAttributes=True):\n",
    "    print(attr)"
   ]
  },
  {
   "cell_type": "code",
   "execution_count": null,
   "metadata": {
    "collapsed": false
   },
   "outputs": [],
   "source": [
    "from pyAgrum.lib.pretty_print import pretty_cpt\n",
    "\n",
    "print(pretty_cpt(explor.cpf('fr.lip6.printers.computer.Computer','equipState')))\n"
   ]
  },
  {
   "cell_type": "code",
   "execution_count": null,
   "metadata": {
    "collapsed": true
   },
   "outputs": [],
   "source": []
  }
 ],
 "metadata": {
  "kernelspec": {
   "display_name": "Python 3",
   "language": "python",
   "name": "python3"
  },
  "language_info": {
   "codemirror_mode": {
    "name": "ipython",
    "version": 3
   },
   "file_extension": ".py",
   "mimetype": "text/x-python",
   "name": "python",
   "nbconvert_exporter": "python",
   "pygments_lexer": "ipython3",
   "version": "3.5.1"
  }
 },
 "nbformat": 4,
 "nbformat_minor": 0
}
