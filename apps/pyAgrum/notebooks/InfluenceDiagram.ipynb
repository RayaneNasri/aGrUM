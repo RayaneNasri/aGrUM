{
 "metadata": {
  "name": "",
  "signature": "sha256:6248e358c0c88307efb5a31dec90b51fb36395d5ec63f6892c6a3639ad669f6b"
 },
 "nbformat": 3,
 "nbformat_minor": 0,
 "worksheets": [
  {
   "cells": [
    {
     "cell_type": "code",
     "collapsed": false,
     "input": [
      "%matplotlib inline\n",
      "from pylab import *\n",
      "import matplotlib.pyplot as plt"
     ],
     "language": "python",
     "metadata": {},
     "outputs": [],
     "prompt_number": 1
    },
    {
     "cell_type": "code",
     "collapsed": false,
     "input": [
      "import pyAgrum as gum\n",
      "import gumLib.notebook as gnb\n"
     ],
     "language": "python",
     "metadata": {},
     "outputs": [],
     "prompt_number": 2
    },
    {
     "cell_type": "code",
     "collapsed": false,
     "input": [
      "diag=gum.loadID(\"../resources/diag.bifxml\")"
     ],
     "language": "python",
     "metadata": {},
     "outputs": [],
     "prompt_number": 3
    },
    {
     "cell_type": "code",
     "collapsed": false,
     "input": [
      "gnb.showInfluenceDiagram(diag)"
     ],
     "language": "python",
     "metadata": {},
     "outputs": [
      {
       "html": [
        "<div align='center'><svg height=\"288pt\" viewBox=\"0.00 0.00 265.01 288.00\" width=\"265pt\" xmlns=\"http://www.w3.org/2000/svg\" xmlns:xlink=\"http://www.w3.org/1999/xlink\">\n",
        "<g class=\"graph\" id=\"graph0\" transform=\"scale(0.605042 0.605042) rotate(0) translate(4 472)\">\n",
        "<title>../resources/diag.bifxml</title>\n",
        "<polygon fill=\"white\" points=\"-4,4 -4,-472 434,-472 434,4 -4,4\" stroke=\"none\"/>\n",
        "<!-- decisionVar1 -->\n",
        "<g class=\"node\" id=\"node1\"><title>decisionVar1</title>\n",
        "<polygon fill=\"none\" points=\"179.25,-468 90.75,-468 90.75,-432 179.25,-432 179.25,-468\" stroke=\"black\"/>\n",
        "<text font-family=\"Times,serif\" font-size=\"14.00\" text-anchor=\"middle\" x=\"135\" y=\"-446.3\">decisionVar1</text>\n",
        "</g>\n",
        "<!-- chanceVar1 -->\n",
        "<g class=\"node\" id=\"node7\"><title>chanceVar1</title>\n",
        "<ellipse cx=\"135\" cy=\"-378\" fill=\"none\" rx=\"52.4675\" ry=\"18\" stroke=\"black\"/>\n",
        "<text font-family=\"Times,serif\" font-size=\"14.00\" text-anchor=\"middle\" x=\"135\" y=\"-374.3\">chanceVar1</text>\n",
        "</g>\n",
        "<!-- decisionVar1&#45;&gt;chanceVar1 -->\n",
        "<g class=\"edge\" id=\"edge1\"><title>decisionVar1-&gt;chanceVar1</title>\n",
        "<path d=\"M135,-431.697C135,-423.983 135,-414.712 135,-406.112\" fill=\"none\" stroke=\"black\"/>\n",
        "<polygon fill=\"black\" points=\"138.5,-406.104 135,-396.104 131.5,-406.104 138.5,-406.104\" stroke=\"black\"/>\n",
        "</g>\n",
        "<!-- decisionVar2 -->\n",
        "<g class=\"node\" id=\"node2\"><title>decisionVar2</title>\n",
        "<polygon fill=\"none\" points=\"235.25,-252 146.75,-252 146.75,-216 235.25,-216 235.25,-252\" stroke=\"black\"/>\n",
        "<text font-family=\"Times,serif\" font-size=\"14.00\" text-anchor=\"middle\" x=\"191\" y=\"-230.3\">decisionVar2</text>\n",
        "</g>\n",
        "<!-- utilityVar1 -->\n",
        "<g class=\"node\" id=\"node5\"><title>utilityVar1</title>\n",
        "<polygon fill=\"none\" points=\"69,-180 -0.285105,-162 69,-144 138.285,-162 69,-180\" stroke=\"black\"/>\n",
        "<text font-family=\"Times,serif\" font-size=\"14.00\" text-anchor=\"middle\" x=\"69\" y=\"-158.3\">utilityVar1</text>\n",
        "</g>\n",
        "<!-- decisionVar2&#45;&gt;utilityVar1 -->\n",
        "<g class=\"edge\" id=\"edge2\"><title>decisionVar2-&gt;utilityVar1</title>\n",
        "<path d=\"M161.155,-215.876C142.12,-204.954 117.551,-190.857 98.5694,-179.966\" fill=\"none\" stroke=\"black\"/>\n",
        "<polygon fill=\"black\" points=\"100.164,-176.846 89.7485,-174.905 96.6804,-182.917 100.164,-176.846\" stroke=\"black\"/>\n",
        "</g>\n",
        "<!-- chanceVar4 -->\n",
        "<g class=\"node\" id=\"node10\"><title>chanceVar4</title>\n",
        "<ellipse cx=\"210\" cy=\"-162\" fill=\"none\" rx=\"52.4675\" ry=\"18\" stroke=\"black\"/>\n",
        "<text font-family=\"Times,serif\" font-size=\"14.00\" text-anchor=\"middle\" x=\"210\" y=\"-158.3\">chanceVar4</text>\n",
        "</g>\n",
        "<!-- decisionVar2&#45;&gt;chanceVar4 -->\n",
        "<g class=\"edge\" id=\"edge3\"><title>decisionVar2-&gt;chanceVar4</title>\n",
        "<path d=\"M195.697,-215.697C197.813,-207.898 200.362,-198.509 202.718,-189.829\" fill=\"none\" stroke=\"black\"/>\n",
        "<polygon fill=\"black\" points=\"206.116,-190.672 205.357,-180.104 199.36,-188.838 206.116,-190.672\" stroke=\"black\"/>\n",
        "</g>\n",
        "<!-- decisionVar3 -->\n",
        "<g class=\"node\" id=\"node3\"><title>decisionVar3</title>\n",
        "<polygon fill=\"none\" points=\"365.25,-252 276.75,-252 276.75,-216 365.25,-216 365.25,-252\" stroke=\"black\"/>\n",
        "<text font-family=\"Times,serif\" font-size=\"14.00\" text-anchor=\"middle\" x=\"321\" y=\"-230.3\">decisionVar3</text>\n",
        "</g>\n",
        "<!-- chanceVar3 -->\n",
        "<g class=\"node\" id=\"node9\"><title>chanceVar3</title>\n",
        "<ellipse cx=\"333\" cy=\"-162\" fill=\"none\" rx=\"52.4675\" ry=\"18\" stroke=\"black\"/>\n",
        "<text font-family=\"Times,serif\" font-size=\"14.00\" text-anchor=\"middle\" x=\"333\" y=\"-158.3\">chanceVar3</text>\n",
        "</g>\n",
        "<!-- decisionVar3&#45;&gt;chanceVar3 -->\n",
        "<g class=\"edge\" id=\"edge4\"><title>decisionVar3-&gt;chanceVar3</title>\n",
        "<path d=\"M323.966,-215.697C325.289,-207.983 326.878,-198.712 328.352,-190.112\" fill=\"none\" stroke=\"black\"/>\n",
        "<polygon fill=\"black\" points=\"331.828,-190.552 330.068,-180.104 324.928,-189.369 331.828,-190.552\" stroke=\"black\"/>\n",
        "</g>\n",
        "<!-- decisionVar4 -->\n",
        "<g class=\"node\" id=\"node4\"><title>decisionVar4</title>\n",
        "<polygon fill=\"none\" points=\"430.25,-108 341.75,-108 341.75,-72 430.25,-72 430.25,-108\" stroke=\"black\"/>\n",
        "<text font-family=\"Times,serif\" font-size=\"14.00\" text-anchor=\"middle\" x=\"386\" y=\"-86.3\">decisionVar4</text>\n",
        "</g>\n",
        "<!-- utilityVar2 -->\n",
        "<g class=\"node\" id=\"node6\"><title>utilityVar2</title>\n",
        "<polygon fill=\"none\" points=\"328,-36 258.715,-18 328,-3.55271e-15 397.285,-18 328,-36\" stroke=\"black\"/>\n",
        "<text font-family=\"Times,serif\" font-size=\"14.00\" text-anchor=\"middle\" x=\"328\" y=\"-14.3\">utilityVar2</text>\n",
        "</g>\n",
        "<!-- decisionVar4&#45;&gt;utilityVar2 -->\n",
        "<g class=\"edge\" id=\"edge5\"><title>decisionVar4-&gt;utilityVar2</title>\n",
        "<path d=\"M371.663,-71.6966C364.01,-62.4607 354.509,-50.9936 346.326,-41.1172\" fill=\"none\" stroke=\"black\"/>\n",
        "<polygon fill=\"black\" points=\"348.906,-38.7461 339.831,-33.279 343.516,-43.2123 348.906,-38.7461\" stroke=\"black\"/>\n",
        "</g>\n",
        "<!-- chanceVar1&#45;&gt;utilityVar1 -->\n",
        "<g class=\"edge\" id=\"edge6\"><title>chanceVar1-&gt;utilityVar1</title>\n",
        "<path d=\"M129.711,-359.849C118.128,-322.294 90.4733,-232.625 76.853,-188.463\" fill=\"none\" stroke=\"black\"/>\n",
        "<polygon fill=\"black\" points=\"80.1551,-187.294 73.8634,-178.769 73.466,-189.357 80.1551,-187.294\" stroke=\"black\"/>\n",
        "</g>\n",
        "<!-- chanceVar2 -->\n",
        "<g class=\"node\" id=\"node8\"><title>chanceVar2</title>\n",
        "<ellipse cx=\"191\" cy=\"-306\" fill=\"none\" rx=\"52.4675\" ry=\"18\" stroke=\"black\"/>\n",
        "<text font-family=\"Times,serif\" font-size=\"14.00\" text-anchor=\"middle\" x=\"191\" y=\"-302.3\">chanceVar2</text>\n",
        "</g>\n",
        "<!-- chanceVar1&#45;&gt;chanceVar2 -->\n",
        "<g class=\"edge\" id=\"edge7\"><title>chanceVar1-&gt;chanceVar2</title>\n",
        "<path d=\"M148.271,-360.411C155.176,-351.781 163.75,-341.062 171.402,-331.497\" fill=\"none\" stroke=\"black\"/>\n",
        "<polygon fill=\"black\" points=\"174.31,-333.465 177.824,-323.47 168.844,-329.092 174.31,-333.465\" stroke=\"black\"/>\n",
        "</g>\n",
        "<!-- chanceVar2&#45;&gt;decisionVar2 -->\n",
        "<g class=\"edge\" id=\"edge8\"><title>chanceVar2-&gt;decisionVar2</title>\n",
        "<path d=\"M191,-287.697C191,-279.983 191,-270.712 191,-262.112\" fill=\"none\" stroke=\"black\"/>\n",
        "<polygon fill=\"black\" points=\"194.5,-262.104 191,-252.104 187.5,-262.104 194.5,-262.104\" stroke=\"black\"/>\n",
        "</g>\n",
        "<!-- chanceVar2&#45;&gt;decisionVar3 -->\n",
        "<g class=\"edge\" id=\"edge9\"><title>chanceVar2-&gt;decisionVar3</title>\n",
        "<path d=\"M217.936,-290.496C235.865,-280.842 259.76,-267.975 280.028,-257.062\" fill=\"none\" stroke=\"black\"/>\n",
        "<polygon fill=\"black\" points=\"281.905,-260.026 289.05,-252.204 278.586,-253.863 281.905,-260.026\" stroke=\"black\"/>\n",
        "</g>\n",
        "<!-- chanceVar5 -->\n",
        "<g class=\"node\" id=\"node11\"><title>chanceVar5</title>\n",
        "<ellipse cx=\"271\" cy=\"-90\" fill=\"none\" rx=\"52.4675\" ry=\"18\" stroke=\"black\"/>\n",
        "<text font-family=\"Times,serif\" font-size=\"14.00\" text-anchor=\"middle\" x=\"271\" y=\"-86.3\">chanceVar5</text>\n",
        "</g>\n",
        "<!-- chanceVar3&#45;&gt;chanceVar5 -->\n",
        "<g class=\"edge\" id=\"edge10\"><title>chanceVar3-&gt;chanceVar5</title>\n",
        "<path d=\"M318.307,-144.411C310.586,-135.693 300.977,-124.845 292.441,-115.208\" fill=\"none\" stroke=\"black\"/>\n",
        "<polygon fill=\"black\" points=\"294.838,-112.635 285.588,-107.47 289.598,-117.276 294.838,-112.635\" stroke=\"black\"/>\n",
        "</g>\n",
        "<!-- chanceVar4&#45;&gt;chanceVar5 -->\n",
        "<g class=\"edge\" id=\"edge11\"><title>chanceVar4-&gt;chanceVar5</title>\n",
        "<path d=\"M224.456,-144.411C232.053,-135.693 241.506,-124.845 249.905,-115.208\" fill=\"none\" stroke=\"black\"/>\n",
        "<polygon fill=\"black\" points=\"252.716,-117.309 256.648,-107.47 247.439,-112.71 252.716,-117.309\" stroke=\"black\"/>\n",
        "</g>\n",
        "<!-- chanceVar5&#45;&gt;utilityVar2 -->\n",
        "<g class=\"edge\" id=\"edge12\"><title>chanceVar5-&gt;utilityVar2</title>\n",
        "<path d=\"M284.508,-72.411C292.121,-63.0616 301.729,-51.2621 309.978,-41.1329\" fill=\"none\" stroke=\"black\"/>\n",
        "<polygon fill=\"black\" points=\"312.912,-43.072 316.512,-33.1076 307.484,-38.652 312.912,-43.072\" stroke=\"black\"/>\n",
        "</g>\n",
        "</g>\n",
        "</svg></div>"
       ],
       "metadata": {},
       "output_type": "display_data",
       "text": [
        "<IPython.core.display.HTML at 0x7f44a4d867d0>"
       ]
      }
     ],
     "prompt_number": 4
    },
    {
     "cell_type": "code",
     "collapsed": false,
     "input": [
      "ie=gum.InfluenceDiagramInference(diag)"
     ],
     "language": "python",
     "metadata": {},
     "outputs": [
      {
       "ename": "IndexError",
       "evalue": "could not find this object : No decision path exists",
       "output_type": "pyerr",
       "traceback": [
        "\u001b[1;31m---------------------------------------------------------------------------\u001b[0m\n\u001b[1;31mIndexError\u001b[0m                                Traceback (most recent call last)",
        "\u001b[1;32m<ipython-input-5-8bcf5b2e07e7>\u001b[0m in \u001b[0;36m<module>\u001b[1;34m()\u001b[0m\n\u001b[1;32m----> 1\u001b[1;33m \u001b[0mie\u001b[0m\u001b[1;33m=\u001b[0m\u001b[0mgum\u001b[0m\u001b[1;33m.\u001b[0m\u001b[0mInfluenceDiagramInference\u001b[0m\u001b[1;33m(\u001b[0m\u001b[0mdiag\u001b[0m\u001b[1;33m)\u001b[0m\u001b[1;33m\u001b[0m\u001b[0m\n\u001b[0m",
        "\u001b[1;32m/home/phw/usr/lib/python2.7/site-packages/pyAgrum/pyAgrum.py\u001b[0m in \u001b[0;36m__init__\u001b[1;34m(self, *args)\u001b[0m\n\u001b[0;32m   6149\u001b[0m     \u001b[1;32mdef\u001b[0m \u001b[0m__init__\u001b[0m\u001b[1;33m(\u001b[0m\u001b[0mself\u001b[0m\u001b[1;33m,\u001b[0m \u001b[1;33m*\u001b[0m\u001b[0margs\u001b[0m\u001b[1;33m)\u001b[0m\u001b[1;33m:\u001b[0m\u001b[1;33m\u001b[0m\u001b[0m\n\u001b[0;32m   6150\u001b[0m         \u001b[1;34m\"\"\"__init__(gum::DefaultInfluenceDiagramInference<(double)> self, InfluenceDiagram_double infDiag) -> InfluenceDiagramInference_double\"\"\"\u001b[0m\u001b[1;33m\u001b[0m\u001b[0m\n\u001b[1;32m-> 6151\u001b[1;33m         \u001b[0mthis\u001b[0m \u001b[1;33m=\u001b[0m \u001b[0m_pyAgrum\u001b[0m\u001b[1;33m.\u001b[0m\u001b[0mnew_InfluenceDiagramInference_double\u001b[0m\u001b[1;33m(\u001b[0m\u001b[1;33m*\u001b[0m\u001b[0margs\u001b[0m\u001b[1;33m)\u001b[0m\u001b[1;33m\u001b[0m\u001b[0m\n\u001b[0m\u001b[0;32m   6152\u001b[0m         \u001b[1;32mtry\u001b[0m\u001b[1;33m:\u001b[0m\u001b[1;33m\u001b[0m\u001b[0m\n\u001b[0;32m   6153\u001b[0m             \u001b[0mself\u001b[0m\u001b[1;33m.\u001b[0m\u001b[0mthis\u001b[0m\u001b[1;33m.\u001b[0m\u001b[0mappend\u001b[0m\u001b[1;33m(\u001b[0m\u001b[0mthis\u001b[0m\u001b[1;33m)\u001b[0m\u001b[1;33m\u001b[0m\u001b[0m\n",
        "\u001b[1;31mIndexError\u001b[0m: could not find this object : No decision path exists"
       ]
      }
     ],
     "prompt_number": 5
    },
    {
     "cell_type": "code",
     "collapsed": false,
     "input": [
      "for i in range(11):\n",
      "    if diag.isChanceNode(i):\n",
      "        print diag.cpt(i)\n",
      "    elif diag.isUtilityNode(i):\n",
      "        print diag.utility(i)\n",
      "    "
     ],
     "language": "python",
     "metadata": {},
     "outputs": [
      {
       "output_type": "stream",
       "stream": "stdout",
       "text": [
        "<chanceVar1:0|decisionVar1:0> :: 0.2 /<chanceVar1:1|decisionVar1:0> :: 0.8 /<chanceVar1:0|decisionVar1:1> :: 0.5 /<chanceVar1:1|decisionVar1:1> :: 0.5\n",
        "<chanceVar2:0|chanceVar1:0> :: 0.1 /<chanceVar2:1|chanceVar1:0> :: 0.9 /<chanceVar2:0|chanceVar1:1> :: 0.9 /<chanceVar2:1|chanceVar1:1> :: 0.1\n",
        "<chanceVar3:0|decisionVar3:0> :: 0.35 /<chanceVar3:1|decisionVar3:0> :: 0.65 /<chanceVar3:0|decisionVar3:1> :: 0.19 /<chanceVar3:1|decisionVar3:1> :: 0.81\n",
        "<chanceVar4:0|decisionVar2:0> :: 0.4 /<chanceVar4:1|decisionVar2:0> :: 0.6 /<chanceVar4:0|decisionVar2:1> :: 0.5 /<chanceVar4:1|decisionVar2:1> :: 0.5\n",
        "<chanceVar5:0|chanceVar3:0|chanceVar4:0> :: 0.4 /<chanceVar5:1|chanceVar3:0|chanceVar4:0> :: 0.6 /<chanceVar5:0|chanceVar3:1|chanceVar4:0> :: 0.8 /<chanceVar5:1|chanceVar3:1|chanceVar4:0> :: 0.2 /<chanceVar5:0|chanceVar3:0|chanceVar4:1> :: 0.4 /<chanceVar5:1|chanceVar3:0|chanceVar4:1> :: 0.6 /<chanceVar5:0|chanceVar3:1|chanceVar4:1> :: 0.3 /<chanceVar5:1|chanceVar3:1|chanceVar4:1> :: 0.7\n"
       ]
      },
      {
       "ename": "TypeError",
       "evalue": "__str__ returned non-string (type NoneType)",
       "output_type": "pyerr",
       "traceback": [
        "\u001b[1;31m---------------------------------------------------------------------------\u001b[0m\n\u001b[1;31mTypeError\u001b[0m                                 Traceback (most recent call last)",
        "\u001b[1;32m<ipython-input-6-b325f416c8c7>\u001b[0m in \u001b[0;36m<module>\u001b[1;34m()\u001b[0m\n\u001b[0;32m      3\u001b[0m         \u001b[1;32mprint\u001b[0m \u001b[0mdiag\u001b[0m\u001b[1;33m.\u001b[0m\u001b[0mcpt\u001b[0m\u001b[1;33m(\u001b[0m\u001b[0mi\u001b[0m\u001b[1;33m)\u001b[0m\u001b[1;33m\u001b[0m\u001b[0m\n\u001b[0;32m      4\u001b[0m     \u001b[1;32melif\u001b[0m \u001b[0mdiag\u001b[0m\u001b[1;33m.\u001b[0m\u001b[0misUtilityNode\u001b[0m\u001b[1;33m(\u001b[0m\u001b[0mi\u001b[0m\u001b[1;33m)\u001b[0m\u001b[1;33m:\u001b[0m\u001b[1;33m\u001b[0m\u001b[0m\n\u001b[1;32m----> 5\u001b[1;33m         \u001b[1;32mprint\u001b[0m \u001b[0mdiag\u001b[0m\u001b[1;33m.\u001b[0m\u001b[0mutility\u001b[0m\u001b[1;33m(\u001b[0m\u001b[0mi\u001b[0m\u001b[1;33m)\u001b[0m\u001b[1;33m\u001b[0m\u001b[0m\n\u001b[0m\u001b[0;32m      6\u001b[0m \u001b[1;33m\u001b[0m\u001b[0m\n",
        "\u001b[1;31mTypeError\u001b[0m: __str__ returned non-string (type NoneType)"
       ]
      }
     ],
     "prompt_number": 6
    },
    {
     "cell_type": "code",
     "collapsed": false,
     "input": [
      "u=gum.UtilityTable()"
     ],
     "language": "python",
     "metadata": {},
     "outputs": [],
     "prompt_number": 7
    },
    {
     "cell_type": "code",
     "collapsed": false,
     "input": [
      "print(u)"
     ],
     "language": "python",
     "metadata": {},
     "outputs": [
      {
       "ename": "TypeError",
       "evalue": "__str__ returned non-string (type NoneType)",
       "output_type": "pyerr",
       "traceback": [
        "\u001b[1;31m---------------------------------------------------------------------------\u001b[0m\n\u001b[1;31mTypeError\u001b[0m                                 Traceback (most recent call last)",
        "\u001b[1;32m<ipython-input-8-b7da53fda433>\u001b[0m in \u001b[0;36m<module>\u001b[1;34m()\u001b[0m\n\u001b[1;32m----> 1\u001b[1;33m \u001b[1;32mprint\u001b[0m\u001b[1;33m(\u001b[0m\u001b[0mu\u001b[0m\u001b[1;33m)\u001b[0m\u001b[1;33m\u001b[0m\u001b[0m\n\u001b[0m",
        "\u001b[1;31mTypeError\u001b[0m: __str__ returned non-string (type NoneType)"
       ]
      }
     ],
     "prompt_number": 8
    },
    {
     "cell_type": "code",
     "collapsed": false,
     "input": [],
     "language": "python",
     "metadata": {},
     "outputs": []
    }
   ],
   "metadata": {}
  }
 ]
}