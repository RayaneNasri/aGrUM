{
 "cells": [
  {
   "cell_type": "code",
   "execution_count": 1,
   "metadata": {
    "collapsed": false
   },
   "outputs": [],
   "source": [
    "%matplotlib inline\n",
    "from pylab import *\n",
    "import matplotlib.pyplot as plt"
   ]
  },
  {
   "cell_type": "code",
   "execution_count": 2,
   "metadata": {
    "collapsed": false
   },
   "outputs": [],
   "source": [
    "import pyAgrum as gum\n",
    "import pyAgrum.lib.notebook as gnb\n"
   ]
  },
  {
   "cell_type": "code",
   "execution_count": 4,
   "metadata": {
    "collapsed": false
   },
   "outputs": [
    {
     "data": {
      "text/html": [
       "<svg height=\"432pt\" viewBox=\"0.00 0.00 391.46 432.00\" width=\"391pt\" xmlns=\"http://www.w3.org/2000/svg\" xmlns:xlink=\"http://www.w3.org/1999/xlink\">\n",
       "<g class=\"graph\" id=\"graph0\" transform=\"scale(.9076 .9076) rotate(0) translate(4 472)\">\n",
       "<title>../resources/diag.bifxml</title>\n",
       "<polygon fill=\"#ffffff\" points=\"-4,4 -4,-472 427.3329,-472 427.3329,4 -4,4\" stroke=\"transparent\"/>\n",
       "<!-- decisionVar1 -->\n",
       "<g class=\"node\" id=\"node1\">\n",
       "<title>decisionVar1</title>\n",
       "<polygon fill=\"#d3d3d3\" points=\"180.3779,-468 91.1981,-468 91.1981,-432 180.3779,-432 180.3779,-468\" stroke=\"#000000\"/>\n",
       "<text fill=\"#000000\" font-family=\"Times,serif\" font-size=\"14.00\" text-anchor=\"middle\" x=\"135.788\" y=\"-445.8\">decisionVar1</text>\n",
       "</g>\n",
       "<!-- chanceVar1 -->\n",
       "<g class=\"node\" id=\"node7\">\n",
       "<title>chanceVar1</title>\n",
       "<ellipse cx=\"135.788\" cy=\"-378\" fill=\"#d3d3d3\" rx=\"51.1984\" ry=\"18\" stroke=\"#000000\"/>\n",
       "<text fill=\"#000000\" font-family=\"Times,serif\" font-size=\"14.00\" text-anchor=\"middle\" x=\"135.788\" y=\"-373.8\">chanceVar1</text>\n",
       "</g>\n",
       "<!-- decisionVar1&#45;&gt;chanceVar1 -->\n",
       "<g class=\"edge\" id=\"edge1\">\n",
       "<title>decisionVar1-&gt;chanceVar1</title>\n",
       "<path d=\"M135.788,-431.8314C135.788,-424.131 135.788,-414.9743 135.788,-406.4166\" fill=\"none\" stroke=\"#000000\"/>\n",
       "<polygon fill=\"#000000\" points=\"139.2881,-406.4132 135.788,-396.4133 132.2881,-406.4133 139.2881,-406.4132\" stroke=\"#000000\"/>\n",
       "</g>\n",
       "<!-- decisionVar2 -->\n",
       "<g class=\"node\" id=\"node2\">\n",
       "<title>decisionVar2</title>\n",
       "<polygon fill=\"#d3d3d3\" points=\"234.3779,-252 145.1981,-252 145.1981,-216 234.3779,-216 234.3779,-252\" stroke=\"#000000\"/>\n",
       "<text fill=\"#000000\" font-family=\"Times,serif\" font-size=\"14.00\" text-anchor=\"middle\" x=\"189.788\" y=\"-229.8\">decisionVar2</text>\n",
       "</g>\n",
       "<!-- utilityVar1 -->\n",
       "<g class=\"node\" id=\"node5\">\n",
       "<title>utilityVar1</title>\n",
       "<polygon fill=\"#d3d3d3\" points=\"67.788,-180 .2113,-162 67.788,-144 135.3647,-162 67.788,-180\" stroke=\"#000000\"/>\n",
       "<text fill=\"#000000\" font-family=\"Times,serif\" font-size=\"14.00\" text-anchor=\"middle\" x=\"67.788\" y=\"-157.8\">utilityVar1</text>\n",
       "</g>\n",
       "<!-- decisionVar2&#45;&gt;utilityVar1 -->\n",
       "<g class=\"edge\" id=\"edge2\">\n",
       "<title>decisionVar2-&gt;utilityVar1</title>\n",
       "<path d=\"M159.0023,-215.8314C140.1969,-204.7331 116.2662,-190.6101 97.6352,-179.6147\" fill=\"none\" stroke=\"#000000\"/>\n",
       "<polygon fill=\"#000000\" points=\"99.3514,-176.5635 88.9604,-174.4952 95.7936,-182.592 99.3514,-176.5635\" stroke=\"#000000\"/>\n",
       "</g>\n",
       "<!-- chanceVar4 -->\n",
       "<g class=\"node\" id=\"node10\">\n",
       "<title>chanceVar4</title>\n",
       "<ellipse cx=\"204.788\" cy=\"-162\" fill=\"#d3d3d3\" rx=\"51.1984\" ry=\"18\" stroke=\"#000000\"/>\n",
       "<text fill=\"#000000\" font-family=\"Times,serif\" font-size=\"14.00\" text-anchor=\"middle\" x=\"204.788\" y=\"-157.8\">chanceVar4</text>\n",
       "</g>\n",
       "<!-- decisionVar2&#45;&gt;chanceVar4 -->\n",
       "<g class=\"edge\" id=\"edge3\">\n",
       "<title>decisionVar2-&gt;chanceVar4</title>\n",
       "<path d=\"M193.5731,-215.8314C195.1774,-208.131 197.085,-198.9743 198.8679,-190.4166\" fill=\"none\" stroke=\"#000000\"/>\n",
       "<polygon fill=\"#000000\" points=\"202.3387,-190.9169 200.9519,-180.4133 195.4859,-189.4892 202.3387,-190.9169\" stroke=\"#000000\"/>\n",
       "</g>\n",
       "<!-- decisionVar3 -->\n",
       "<g class=\"node\" id=\"node3\">\n",
       "<title>decisionVar3</title>\n",
       "<polygon fill=\"#d3d3d3\" points=\"355.3779,-252 266.1981,-252 266.1981,-216 355.3779,-216 355.3779,-252\" stroke=\"#000000\"/>\n",
       "<text fill=\"#000000\" font-family=\"Times,serif\" font-size=\"14.00\" text-anchor=\"middle\" x=\"310.788\" y=\"-229.8\">decisionVar3</text>\n",
       "</g>\n",
       "<!-- chanceVar3 -->\n",
       "<g class=\"node\" id=\"node9\">\n",
       "<title>chanceVar3</title>\n",
       "<ellipse cx=\"325.788\" cy=\"-162\" fill=\"#d3d3d3\" rx=\"51.1984\" ry=\"18\" stroke=\"#000000\"/>\n",
       "<text fill=\"#000000\" font-family=\"Times,serif\" font-size=\"14.00\" text-anchor=\"middle\" x=\"325.788\" y=\"-157.8\">chanceVar3</text>\n",
       "</g>\n",
       "<!-- decisionVar3&#45;&gt;chanceVar3 -->\n",
       "<g class=\"edge\" id=\"edge4\">\n",
       "<title>decisionVar3-&gt;chanceVar3</title>\n",
       "<path d=\"M314.5731,-215.8314C316.1774,-208.131 318.085,-198.9743 319.8679,-190.4166\" fill=\"none\" stroke=\"#000000\"/>\n",
       "<polygon fill=\"#000000\" points=\"323.3387,-190.9169 321.9519,-180.4133 316.4859,-189.4892 323.3387,-190.9169\" stroke=\"#000000\"/>\n",
       "</g>\n",
       "<!-- decisionVar4 -->\n",
       "<g class=\"node\" id=\"node4\">\n",
       "<title>decisionVar4</title>\n",
       "<polygon fill=\"#d3d3d3\" points=\"423.3779,-108 334.1981,-108 334.1981,-72 423.3779,-72 423.3779,-108\" stroke=\"#000000\"/>\n",
       "<text fill=\"#000000\" font-family=\"Times,serif\" font-size=\"14.00\" text-anchor=\"middle\" x=\"378.788\" y=\"-85.8\">decisionVar4</text>\n",
       "</g>\n",
       "<!-- utilityVar2 -->\n",
       "<g class=\"node\" id=\"node6\">\n",
       "<title>utilityVar2</title>\n",
       "<polygon fill=\"#d3d3d3\" points=\"321.788,-36 254.2113,-18 321.788,0 389.3647,-18 321.788,-36\" stroke=\"#000000\"/>\n",
       "<text fill=\"#000000\" font-family=\"Times,serif\" font-size=\"14.00\" text-anchor=\"middle\" x=\"321.788\" y=\"-13.8\">utilityVar2</text>\n",
       "</g>\n",
       "<!-- decisionVar4&#45;&gt;utilityVar2 -->\n",
       "<g class=\"edge\" id=\"edge5\">\n",
       "<title>decisionVar4-&gt;utilityVar2</title>\n",
       "<path d=\"M364.4045,-71.8314C356.984,-62.4581 347.8554,-50.9272 339.9529,-40.9452\" fill=\"none\" stroke=\"#000000\"/>\n",
       "<polygon fill=\"#000000\" points=\"342.6189,-38.6739 333.6677,-33.0059 337.1306,-43.0189 342.6189,-38.6739\" stroke=\"#000000\"/>\n",
       "</g>\n",
       "<!-- chanceVar1&#45;&gt;utilityVar1 -->\n",
       "<g class=\"edge\" id=\"edge6\">\n",
       "<title>chanceVar1-&gt;utilityVar1</title>\n",
       "<path d=\"M130.1073,-359.9555C118.1096,-321.845 90.1418,-233.0062 76.1176,-188.4587\" fill=\"none\" stroke=\"#000000\"/>\n",
       "<polygon fill=\"#000000\" points=\"79.3704,-187.1352 73.029,-178.6477 72.6934,-189.2372 79.3704,-187.1352\" stroke=\"#000000\"/>\n",
       "</g>\n",
       "<!-- chanceVar2 -->\n",
       "<g class=\"node\" id=\"node8\">\n",
       "<title>chanceVar2</title>\n",
       "<ellipse cx=\"189.788\" cy=\"-306\" fill=\"#d3d3d3\" rx=\"51.1984\" ry=\"18\" stroke=\"#000000\"/>\n",
       "<text fill=\"#000000\" font-family=\"Times,serif\" font-size=\"14.00\" text-anchor=\"middle\" x=\"189.788\" y=\"-301.8\">chanceVar2</text>\n",
       "</g>\n",
       "<!-- chanceVar1&#45;&gt;chanceVar2 -->\n",
       "<g class=\"edge\" id=\"edge7\">\n",
       "<title>chanceVar1-&gt;chanceVar2</title>\n",
       "<path d=\"M148.8599,-360.5708C155.3782,-351.8797 163.3879,-341.2001 170.5881,-331.5998\" fill=\"none\" stroke=\"#000000\"/>\n",
       "<polygon fill=\"#000000\" points=\"173.4493,-333.6183 176.6493,-323.5182 167.8493,-329.4182 173.4493,-333.6183\" stroke=\"#000000\"/>\n",
       "</g>\n",
       "<!-- chanceVar2&#45;&gt;decisionVar2 -->\n",
       "<g class=\"edge\" id=\"edge8\">\n",
       "<title>chanceVar2-&gt;decisionVar2</title>\n",
       "<path d=\"M189.788,-287.8314C189.788,-280.131 189.788,-270.9743 189.788,-262.4166\" fill=\"none\" stroke=\"#000000\"/>\n",
       "<polygon fill=\"#000000\" points=\"193.2881,-262.4132 189.788,-252.4133 186.2881,-262.4133 193.2881,-262.4132\" stroke=\"#000000\"/>\n",
       "</g>\n",
       "<!-- chanceVar2&#45;&gt;decisionVar3 -->\n",
       "<g class=\"edge\" id=\"edge9\">\n",
       "<title>chanceVar2-&gt;decisionVar3</title>\n",
       "<path d=\"M216.0432,-290.3771C232.2902,-280.7094 253.4501,-268.1184 271.6506,-257.2884\" fill=\"none\" stroke=\"#000000\"/>\n",
       "<polygon fill=\"#000000\" points=\"273.5093,-260.2552 280.3132,-252.1338 269.9297,-254.2396 273.5093,-260.2552\" stroke=\"#000000\"/>\n",
       "</g>\n",
       "<!-- chanceVar5 -->\n",
       "<g class=\"node\" id=\"node11\">\n",
       "<title>chanceVar5</title>\n",
       "<ellipse cx=\"264.788\" cy=\"-90\" fill=\"#d3d3d3\" rx=\"51.1984\" ry=\"18\" stroke=\"#000000\"/>\n",
       "<text fill=\"#000000\" font-family=\"Times,serif\" font-size=\"14.00\" text-anchor=\"middle\" x=\"264.788\" y=\"-85.8\">chanceVar5</text>\n",
       "</g>\n",
       "<!-- chanceVar3&#45;&gt;chanceVar5 -->\n",
       "<g class=\"edge\" id=\"edge10\">\n",
       "<title>chanceVar3-&gt;chanceVar5</title>\n",
       "<path d=\"M311.0216,-144.5708C303.5289,-135.7269 294.2916,-124.8239 286.0486,-115.0945\" fill=\"none\" stroke=\"#000000\"/>\n",
       "<polygon fill=\"#000000\" points=\"288.5531,-112.6361 279.4184,-107.2687 283.2122,-117.161 288.5531,-112.6361\" stroke=\"#000000\"/>\n",
       "</g>\n",
       "<!-- chanceVar4&#45;&gt;chanceVar5 -->\n",
       "<g class=\"edge\" id=\"edge11\">\n",
       "<title>chanceVar4-&gt;chanceVar5</title>\n",
       "<path d=\"M219.3123,-144.5708C226.6281,-135.7919 235.6346,-124.9841 243.697,-115.3093\" fill=\"none\" stroke=\"#000000\"/>\n",
       "<polygon fill=\"#000000\" points=\"246.4764,-117.4411 250.1895,-107.5182 241.0988,-112.9598 246.4764,-117.4411\" stroke=\"#000000\"/>\n",
       "</g>\n",
       "<!-- chanceVar5&#45;&gt;utilityVar2 -->\n",
       "<g class=\"edge\" id=\"edge12\">\n",
       "<title>chanceVar5-&gt;utilityVar2</title>\n",
       "<path d=\"M278.5861,-72.5708C285.9994,-63.2067 295.2402,-51.5341 303.2707,-41.3903\" fill=\"none\" stroke=\"#000000\"/>\n",
       "<polygon fill=\"#000000\" points=\"306.202,-43.3264 309.6649,-33.3134 300.7137,-38.9814 306.202,-43.3264\" stroke=\"#000000\"/>\n",
       "</g>\n",
       "</g>\n",
       "</svg>"
      ],
      "text/plain": [
       "<IPython.core.display.HTML object>"
      ]
     },
     "metadata": {},
     "output_type": "display_data"
    }
   ],
   "source": [
    "diag=gum.loadID(\"../resources/diag.bifxml\")\n",
    "gnb.showInfluenceDiagram(diag,size=\"6\",format='svg')"
   ]
  },
  {
   "cell_type": "code",
   "execution_count": 5,
   "metadata": {
    "collapsed": false
   },
   "outputs": [
    {
     "data": {
      "text/html": [
       "<svg height=\"432pt\" viewBox=\"0.00 0.00 414.56 432.00\" width=\"415pt\" xmlns=\"http://www.w3.org/2000/svg\" xmlns:xlink=\"http://www.w3.org/1999/xlink\">\n",
       "<g class=\"graph\" id=\"graph0\" transform=\"scale(.9076 .9076) rotate(0) translate(4 472)\">\n",
       "<title>../resources/diag.bifxml</title>\n",
       "<polygon fill=\"#ffffff\" points=\"-4,4 -4,-472 452.788,-472 452.788,4 -4,4\" stroke=\"transparent\"/>\n",
       "<!-- decisionVar1 -->\n",
       "<g class=\"node\" id=\"node1\">\n",
       "<title>decisionVar1</title>\n",
       "<polygon fill=\"#d3d3d3\" points=\"314.3779,-468 225.1981,-468 225.1981,-432 314.3779,-432 314.3779,-468\" stroke=\"#000000\"/>\n",
       "<text fill=\"#000000\" font-family=\"Times,serif\" font-size=\"14.00\" text-anchor=\"middle\" x=\"269.788\" y=\"-445.8\">decisionVar1</text>\n",
       "</g>\n",
       "<!-- chanceVar1 -->\n",
       "<g class=\"node\" id=\"node8\">\n",
       "<title>chanceVar1</title>\n",
       "<ellipse cx=\"230.788\" cy=\"-378\" fill=\"#d3d3d3\" rx=\"51.1984\" ry=\"18\" stroke=\"#000000\"/>\n",
       "<text fill=\"#000000\" font-family=\"Times,serif\" font-size=\"14.00\" text-anchor=\"middle\" x=\"230.788\" y=\"-373.8\">chanceVar1</text>\n",
       "</g>\n",
       "<!-- decisionVar1&#45;&gt;chanceVar1 -->\n",
       "<g class=\"edge\" id=\"edge2\">\n",
       "<title>decisionVar1-&gt;chanceVar1</title>\n",
       "<path d=\"M259.9467,-431.8314C255.5253,-423.6688 250.2176,-413.87 245.3495,-404.8827\" fill=\"none\" stroke=\"#000000\"/>\n",
       "<polygon fill=\"#000000\" points=\"248.3315,-403.0393 240.4911,-395.9134 242.1765,-406.3734 248.3315,-403.0393\" stroke=\"#000000\"/>\n",
       "</g>\n",
       "<!-- F -->\n",
       "<g class=\"node\" id=\"node13\">\n",
       "<title>F</title>\n",
       "<ellipse cx=\"349.788\" cy=\"-306\" fill=\"#d3d3d3\" rx=\"27\" ry=\"18\" stroke=\"#000000\"/>\n",
       "<text fill=\"#000000\" font-family=\"Times,serif\" font-size=\"14.00\" text-anchor=\"middle\" x=\"349.788\" y=\"-301.8\">F</text>\n",
       "</g>\n",
       "<!-- decisionVar1&#45;&gt;F -->\n",
       "<g class=\"edge\" id=\"edge1\">\n",
       "<title>decisionVar1-&gt;F</title>\n",
       "<path d=\"M279.9201,-431.7623C293.8966,-406.6045 319.1765,-361.1008 335.1903,-332.2758\" fill=\"none\" stroke=\"#000000\"/>\n",
       "<polygon fill=\"#000000\" points=\"338.4393,-333.6346 340.2362,-323.1933 332.3202,-330.2351 338.4393,-333.6346\" stroke=\"#000000\"/>\n",
       "</g>\n",
       "<!-- decisionVar2 -->\n",
       "<g class=\"node\" id=\"node2\">\n",
       "<title>decisionVar2</title>\n",
       "<polygon fill=\"#d3d3d3\" points=\"249.3779,-252 160.1981,-252 160.1981,-216 249.3779,-216 249.3779,-252\" stroke=\"#000000\"/>\n",
       "<text fill=\"#000000\" font-family=\"Times,serif\" font-size=\"14.00\" text-anchor=\"middle\" x=\"204.788\" y=\"-229.8\">decisionVar2</text>\n",
       "</g>\n",
       "<!-- utilityVar1 -->\n",
       "<g class=\"node\" id=\"node5\">\n",
       "<title>utilityVar1</title>\n",
       "<polygon fill=\"#d3d3d3\" points=\"67.788,-180 .2113,-162 67.788,-144 135.3647,-162 67.788,-180\" stroke=\"#000000\"/>\n",
       "<text fill=\"#000000\" font-family=\"Times,serif\" font-size=\"14.00\" text-anchor=\"middle\" x=\"67.788\" y=\"-157.8\">utilityVar1</text>\n",
       "</g>\n",
       "<!-- decisionVar2&#45;&gt;utilityVar1 -->\n",
       "<g class=\"edge\" id=\"edge3\">\n",
       "<title>decisionVar2-&gt;utilityVar1</title>\n",
       "<path d=\"M170.2171,-215.8314C148.5355,-204.4366 120.7867,-189.8533 99.6411,-178.7403\" fill=\"none\" stroke=\"#000000\"/>\n",
       "<polygon fill=\"#000000\" points=\"101.2086,-175.6102 90.7284,-174.0563 97.9521,-181.8066 101.2086,-175.6102\" stroke=\"#000000\"/>\n",
       "</g>\n",
       "<!-- chanceVar4 -->\n",
       "<g class=\"node\" id=\"node11\">\n",
       "<title>chanceVar4</title>\n",
       "<ellipse cx=\"204.788\" cy=\"-162\" fill=\"#d3d3d3\" rx=\"51.1984\" ry=\"18\" stroke=\"#000000\"/>\n",
       "<text fill=\"#000000\" font-family=\"Times,serif\" font-size=\"14.00\" text-anchor=\"middle\" x=\"204.788\" y=\"-157.8\">chanceVar4</text>\n",
       "</g>\n",
       "<!-- decisionVar2&#45;&gt;chanceVar4 -->\n",
       "<g class=\"edge\" id=\"edge4\">\n",
       "<title>decisionVar2-&gt;chanceVar4</title>\n",
       "<path d=\"M204.788,-215.8314C204.788,-208.131 204.788,-198.9743 204.788,-190.4166\" fill=\"none\" stroke=\"#000000\"/>\n",
       "<polygon fill=\"#000000\" points=\"208.2881,-190.4132 204.788,-180.4133 201.2881,-190.4133 208.2881,-190.4132\" stroke=\"#000000\"/>\n",
       "</g>\n",
       "<!-- decisionVar3 -->\n",
       "<g class=\"node\" id=\"node3\">\n",
       "<title>decisionVar3</title>\n",
       "<polygon fill=\"#d3d3d3\" points=\"370.3779,-252 281.1981,-252 281.1981,-216 370.3779,-216 370.3779,-252\" stroke=\"#000000\"/>\n",
       "<text fill=\"#000000\" font-family=\"Times,serif\" font-size=\"14.00\" text-anchor=\"middle\" x=\"325.788\" y=\"-229.8\">decisionVar3</text>\n",
       "</g>\n",
       "<!-- U -->\n",
       "<g class=\"node\" id=\"node7\">\n",
       "<title>U</title>\n",
       "<polygon fill=\"#d3d3d3\" points=\"421.788,-180 394.788,-162 421.788,-144 448.788,-162 421.788,-180\" stroke=\"#000000\"/>\n",
       "<text fill=\"#000000\" font-family=\"Times,serif\" font-size=\"14.00\" text-anchor=\"middle\" x=\"421.788\" y=\"-157.8\">U</text>\n",
       "</g>\n",
       "<!-- decisionVar3&#45;&gt;U -->\n",
       "<g class=\"edge\" id=\"edge6\">\n",
       "<title>decisionVar3-&gt;U</title>\n",
       "<path d=\"M350.0129,-215.8314C365.707,-204.0607 385.9378,-188.8877 400.9187,-177.652\" fill=\"none\" stroke=\"#000000\"/>\n",
       "<polygon fill=\"#000000\" points=\"403.1585,-180.3471 409.0585,-171.5471 398.9585,-174.7471 403.1585,-180.3471\" stroke=\"#000000\"/>\n",
       "</g>\n",
       "<!-- chanceVar3 -->\n",
       "<g class=\"node\" id=\"node10\">\n",
       "<title>chanceVar3</title>\n",
       "<ellipse cx=\"325.788\" cy=\"-162\" fill=\"#d3d3d3\" rx=\"51.1984\" ry=\"18\" stroke=\"#000000\"/>\n",
       "<text fill=\"#000000\" font-family=\"Times,serif\" font-size=\"14.00\" text-anchor=\"middle\" x=\"325.788\" y=\"-157.8\">chanceVar3</text>\n",
       "</g>\n",
       "<!-- decisionVar3&#45;&gt;chanceVar3 -->\n",
       "<g class=\"edge\" id=\"edge5\">\n",
       "<title>decisionVar3-&gt;chanceVar3</title>\n",
       "<path d=\"M325.788,-215.8314C325.788,-208.131 325.788,-198.9743 325.788,-190.4166\" fill=\"none\" stroke=\"#000000\"/>\n",
       "<polygon fill=\"#000000\" points=\"329.2881,-190.4132 325.788,-180.4133 322.2881,-190.4133 329.2881,-190.4132\" stroke=\"#000000\"/>\n",
       "</g>\n",
       "<!-- decisionVar4 -->\n",
       "<g class=\"node\" id=\"node4\">\n",
       "<title>decisionVar4</title>\n",
       "<polygon fill=\"#d3d3d3\" points=\"423.3779,-108 334.1981,-108 334.1981,-72 423.3779,-72 423.3779,-108\" stroke=\"#000000\"/>\n",
       "<text fill=\"#000000\" font-family=\"Times,serif\" font-size=\"14.00\" text-anchor=\"middle\" x=\"378.788\" y=\"-85.8\">decisionVar4</text>\n",
       "</g>\n",
       "<!-- utilityVar2 -->\n",
       "<g class=\"node\" id=\"node6\">\n",
       "<title>utilityVar2</title>\n",
       "<polygon fill=\"#d3d3d3\" points=\"321.788,-36 254.2113,-18 321.788,0 389.3647,-18 321.788,-36\" stroke=\"#000000\"/>\n",
       "<text fill=\"#000000\" font-family=\"Times,serif\" font-size=\"14.00\" text-anchor=\"middle\" x=\"321.788\" y=\"-13.8\">utilityVar2</text>\n",
       "</g>\n",
       "<!-- decisionVar4&#45;&gt;utilityVar2 -->\n",
       "<g class=\"edge\" id=\"edge7\">\n",
       "<title>decisionVar4-&gt;utilityVar2</title>\n",
       "<path d=\"M364.4045,-71.8314C356.984,-62.4581 347.8554,-50.9272 339.9529,-40.9452\" fill=\"none\" stroke=\"#000000\"/>\n",
       "<polygon fill=\"#000000\" points=\"342.6189,-38.6739 333.6677,-33.0059 337.1306,-43.0189 342.6189,-38.6739\" stroke=\"#000000\"/>\n",
       "</g>\n",
       "<!-- chanceVar1&#45;&gt;utilityVar1 -->\n",
       "<g class=\"edge\" id=\"edge8\">\n",
       "<title>chanceVar1-&gt;utilityVar1</title>\n",
       "<path d=\"M209.7604,-361.5067C197.6082,-351.4059 182.4642,-337.8019 170.788,-324 133.172,-279.5356 98.9161,-220.289 80.9608,-187.1603\" fill=\"none\" stroke=\"#000000\"/>\n",
       "<polygon fill=\"#000000\" points=\"83.9416,-185.3127 76.1325,-178.1524 77.772,-188.6197 83.9416,-185.3127\" stroke=\"#000000\"/>\n",
       "</g>\n",
       "<!-- chanceVar2 -->\n",
       "<g class=\"node\" id=\"node9\">\n",
       "<title>chanceVar2</title>\n",
       "<ellipse cx=\"230.788\" cy=\"-306\" fill=\"#d3d3d3\" rx=\"51.1984\" ry=\"18\" stroke=\"#000000\"/>\n",
       "<text fill=\"#000000\" font-family=\"Times,serif\" font-size=\"14.00\" text-anchor=\"middle\" x=\"230.788\" y=\"-301.8\">chanceVar2</text>\n",
       "</g>\n",
       "<!-- chanceVar1&#45;&gt;chanceVar2 -->\n",
       "<g class=\"edge\" id=\"edge9\">\n",
       "<title>chanceVar1-&gt;chanceVar2</title>\n",
       "<path d=\"M230.788,-359.8314C230.788,-352.131 230.788,-342.9743 230.788,-334.4166\" fill=\"none\" stroke=\"#000000\"/>\n",
       "<polygon fill=\"#000000\" points=\"234.2881,-334.4132 230.788,-324.4133 227.2881,-334.4133 234.2881,-334.4132\" stroke=\"#000000\"/>\n",
       "</g>\n",
       "<!-- chanceVar2&#45;&gt;decisionVar2 -->\n",
       "<g class=\"edge\" id=\"edge10\">\n",
       "<title>chanceVar2-&gt;decisionVar2</title>\n",
       "<path d=\"M224.2271,-287.8314C221.3853,-279.9617 217.9943,-270.5712 214.8461,-261.8533\" fill=\"none\" stroke=\"#000000\"/>\n",
       "<polygon fill=\"#000000\" points=\"218.1257,-260.63 211.4372,-252.4133 211.5418,-263.0076 218.1257,-260.63\" stroke=\"#000000\"/>\n",
       "</g>\n",
       "<!-- chanceVar2&#45;&gt;decisionVar3 -->\n",
       "<g class=\"edge\" id=\"edge11\">\n",
       "<title>chanceVar2-&gt;decisionVar3</title>\n",
       "<path d=\"M252.345,-289.6621C264.5854,-280.3851 280.1414,-268.5953 293.7827,-258.2567\" fill=\"none\" stroke=\"#000000\"/>\n",
       "<polygon fill=\"#000000\" points=\"296.1265,-260.872 301.9821,-252.0423 291.8983,-255.2932 296.1265,-260.872\" stroke=\"#000000\"/>\n",
       "</g>\n",
       "<!-- chanceVar5 -->\n",
       "<g class=\"node\" id=\"node12\">\n",
       "<title>chanceVar5</title>\n",
       "<ellipse cx=\"264.788\" cy=\"-90\" fill=\"#d3d3d3\" rx=\"51.1984\" ry=\"18\" stroke=\"#000000\"/>\n",
       "<text fill=\"#000000\" font-family=\"Times,serif\" font-size=\"14.00\" text-anchor=\"middle\" x=\"264.788\" y=\"-85.8\">chanceVar5</text>\n",
       "</g>\n",
       "<!-- chanceVar3&#45;&gt;chanceVar5 -->\n",
       "<g class=\"edge\" id=\"edge12\">\n",
       "<title>chanceVar3-&gt;chanceVar5</title>\n",
       "<path d=\"M311.0216,-144.5708C303.5289,-135.7269 294.2916,-124.8239 286.0486,-115.0945\" fill=\"none\" stroke=\"#000000\"/>\n",
       "<polygon fill=\"#000000\" points=\"288.5531,-112.6361 279.4184,-107.2687 283.2122,-117.161 288.5531,-112.6361\" stroke=\"#000000\"/>\n",
       "</g>\n",
       "<!-- chanceVar4&#45;&gt;chanceVar5 -->\n",
       "<g class=\"edge\" id=\"edge13\">\n",
       "<title>chanceVar4-&gt;chanceVar5</title>\n",
       "<path d=\"M219.3123,-144.5708C226.6281,-135.7919 235.6346,-124.9841 243.697,-115.3093\" fill=\"none\" stroke=\"#000000\"/>\n",
       "<polygon fill=\"#000000\" points=\"246.4764,-117.4411 250.1895,-107.5182 241.0988,-112.9598 246.4764,-117.4411\" stroke=\"#000000\"/>\n",
       "</g>\n",
       "<!-- chanceVar5&#45;&gt;utilityVar2 -->\n",
       "<g class=\"edge\" id=\"edge14\">\n",
       "<title>chanceVar5-&gt;utilityVar2</title>\n",
       "<path d=\"M278.5861,-72.5708C285.9994,-63.2067 295.2402,-51.5341 303.2707,-41.3903\" fill=\"none\" stroke=\"#000000\"/>\n",
       "<polygon fill=\"#000000\" points=\"306.202,-43.3264 309.6649,-33.3134 300.7137,-38.9814 306.202,-43.3264\" stroke=\"#000000\"/>\n",
       "</g>\n",
       "<!-- F&#45;&gt;U -->\n",
       "<g class=\"edge\" id=\"edge15\">\n",
       "<title>F-&gt;U</title>\n",
       "<path d=\"M359.5559,-289.1405C365.5782,-278.5724 373.3532,-264.6095 379.788,-252 391.1623,-229.7111 403.1381,-203.7698 411.378,-185.4802\" fill=\"none\" stroke=\"#000000\"/>\n",
       "<polygon fill=\"#000000\" points=\"414.6508,-186.7355 415.5439,-176.1783 408.2622,-183.8743 414.6508,-186.7355\" stroke=\"#000000\"/>\n",
       "</g>\n",
       "</g>\n",
       "</svg>"
      ],
      "text/plain": [
       "<IPython.core.display.HTML object>"
      ]
     },
     "metadata": {},
     "output_type": "display_data"
    }
   ],
   "source": [
    "F=diag.addChanceNode(gum.LabelizedVariable(\"F\",\"F\",2))\n",
    "diag.addArc(diag.idFromName(\"decisionVar1\"),F)\n",
    "\n",
    "U=diag.addUtilityNode(gum.LabelizedVariable(\"U\",\"U\",1))\n",
    "diag.addArc(diag.idFromName(\"decisionVar3\"),U)\n",
    "diag.addArc(diag.idFromName(\"F\"),U)\n",
    "\n",
    "gnb.showInfluenceDiagram(diag,size=\"6\",format=\"svg\") \n",
    "# note the difference between png (above) and svg (here)rendering"
   ]
  },
  {
   "cell_type": "code",
   "execution_count": 6,
   "metadata": {
    "collapsed": false
   },
   "outputs": [],
   "source": [
    "diag.cpt(F)[{'decisionVar1':0}]=[0.9,0.1]\n",
    "diag.cpt(F)[{'decisionVar1':1}]=[0.3,0.7]\n",
    "\n",
    "diag.utility(U)[{'F':0,'decisionVar3':0}]=2\n",
    "diag.utility(U)[{'F':0,'decisionVar3':1}]=4\n",
    "diag.utility(U)[{'F':1}]=[[0],[5]]"
   ]
  },
  {
   "cell_type": "code",
   "execution_count": 7,
   "metadata": {
    "collapsed": false
   },
   "outputs": [
    {
     "data": {
      "image/png": "[encoded data removed]"
     },
     "metadata": {},
     "output_type": "display_data"
    }
   ],
   "source": [
    "asia=gum.loadID(\"../resources/DecAsia.bifxml\")\n",
    "gnb.showInfluenceDiagram(asia)"
   ]
  },
  {
   "cell_type": "code",
   "execution_count": 8,
   "metadata": {
    "collapsed": false
   },
   "outputs": [
    {
     "data": {
      "image/png": "[encoded data removed]"
     },
     "metadata": {},
     "output_type": "display_data"
    }
   ],
   "source": [
    "oil=gum.loadID(\"../resources/OilWildcater.bifxml\")\n",
    "gnb.showInfluenceDiagram(oil)"
   ]
  },
  {
   "cell_type": "code",
   "execution_count": 9,
   "metadata": {
    "collapsed": false
   },
   "outputs": [],
   "source": [
    "ie=gum.InfluenceDiagramInference(oil)"
   ]
  },
  {
   "cell_type": "code",
   "execution_count": 10,
   "metadata": {
    "collapsed": false
   },
   "outputs": [
    {
     "name": "stdout",
     "output_type": "stream",
     "text": [
      "Best decision for T : 1\n",
      "Best decision for D : 1\n",
      "For a maxEU : 60.0\n"
     ]
    }
   ],
   "source": [
    "ie.makeInference()\n",
    "print(\"Best decision for T : {0}\".format(ie.getBestDecisionChoice(oil.idFromName(\"T\"))))\n",
    "print(\"Best decision for D : {0}\".format(ie.getBestDecisionChoice(oil.idFromName(\"D\"))))\n",
    "print(\"For a maxEU : {0}\".format(ie.getMEU()))"
   ]
  },
  {
   "cell_type": "code",
   "execution_count": 11,
   "metadata": {
    "collapsed": false
   },
   "outputs": [
    {
     "name": "stdout",
     "output_type": "stream",
     "text": [
      "O<Dry,Wet,Soak>\n"
     ]
    }
   ],
   "source": [
    "print(oil.variable(3))"
   ]
  },
  {
   "cell_type": "code",
   "execution_count": 12,
   "metadata": {
    "collapsed": false
   },
   "outputs": [
    {
     "name": "stdout",
     "output_type": "stream",
     "text": [
      "Best decision for T : 1\n",
      "Best decision for D : 1\n",
      "For a maxEU : 0.0\n"
     ]
    }
   ],
   "source": [
    "ie.eraseAllEvidence()\n",
    "ie.setEvidence({3:0})\n",
    "ie.makeInference()\n",
    "print(\"Best decision for T : {0}\".format(ie.getBestDecisionChoice(oil.idFromName(\"T\"))))\n",
    "print(\"Best decision for D : {0}\".format(ie.getBestDecisionChoice(oil.idFromName(\"D\"))))\n",
    "print(\"For a maxEU : {0}\".format(ie.getMEU()))"
   ]
  },
  {
   "cell_type": "code",
   "execution_count": 13,
   "metadata": {
    "collapsed": false
   },
   "outputs": [
    {
     "name": "stdout",
     "output_type": "stream",
     "text": [
      "Best decision for T : 1\n",
      "Best decision for D : 0\n",
      "For a maxEU : 60.0\n"
     ]
    }
   ],
   "source": [
    "ie.eraseAllEvidence()\n",
    "ie.setEvidence({3:1})\n",
    "ie.makeInference()\n",
    "print(\"Best decision for T : {0}\".format(ie.getBestDecisionChoice(oil.idFromName(\"T\"))))\n",
    "print(\"Best decision for D : {0}\".format(ie.getBestDecisionChoice(oil.idFromName(\"D\"))))\n",
    "print(\"For a maxEU : {0}\".format(ie.getMEU()))"
   ]
  },
  {
   "cell_type": "code",
   "execution_count": 14,
   "metadata": {
    "collapsed": false
   },
   "outputs": [
    {
     "name": "stdout",
     "output_type": "stream",
     "text": [
      "Best decision for T : 1\n",
      "Best decision for D : 0\n",
      "For a maxEU : 10.0\n"
     ]
    }
   ],
   "source": [
    "ie.eraseAllEvidence()\n",
    "ie.setEvidence({3:2})\n",
    "ie.makeInference()\n",
    "print(\"Best decision for T : {0}\".format(ie.getBestDecisionChoice(oil.idFromName(\"T\"))))\n",
    "print(\"Best decision for D : {0}\".format(ie.getBestDecisionChoice(oil.idFromName(\"D\"))))\n",
    "print(\"For a maxEU : {0}\".format(ie.getMEU()))"
   ]
  },
  {
   "cell_type": "code",
   "execution_count": 15,
   "metadata": {
    "collapsed": false
   },
   "outputs": [
    {
     "name": "stdout",
     "output_type": "stream",
     "text": [
      "Best decision for T : 1\n",
      "Best decision for D : 1\n",
      "For a maxEU : 30.0\n"
     ]
    }
   ],
   "source": [
    "ie.eraseAllEvidence()\n",
    "ie.setEvidence({3:[1,0.5,0.1]})\n",
    "ie.makeInference()\n",
    "print(\"Best decision for T : {0}\".format(ie.getBestDecisionChoice(oil.idFromName(\"T\"))))\n",
    "print(\"Best decision for D : {0}\".format(ie.getBestDecisionChoice(oil.idFromName(\"D\"))))\n",
    "print(\"For a maxEU : {0}\".format(ie.getMEU()))"
   ]
  },
  {
   "cell_type": "code",
   "execution_count": 15,
   "metadata": {
    "collapsed": true
   },
   "outputs": [],
   "source": []
  }
 ],
 "metadata": {
  "kernelspec": {
   "display_name": "Python [default]",
   "language": "python",
   "name": "python3"
  },
  "language_info": {
   "codemirror_mode": {
    "name": "ipython",
    "version": 3
   },
   "file_extension": ".py",
   "mimetype": "text/x-python",
   "name": "python",
   "nbconvert_exporter": "python",
   "pygments_lexer": "ipython3",
   "version": "3.5.2"
  }
 },
 "nbformat": 4,
 "nbformat_minor": 0
}
