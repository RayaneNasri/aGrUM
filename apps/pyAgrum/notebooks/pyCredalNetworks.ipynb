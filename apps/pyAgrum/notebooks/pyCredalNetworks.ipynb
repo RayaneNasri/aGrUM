{
 "metadata": {
  "name": ""
 },
 "nbformat": 3,
 "nbformat_minor": 0,
 "worksheets": [
  {
   "cells": [
    {
     "cell_type": "code",
     "collapsed": false,
     "input": [
      "import pyAgrum as gum\n",
      "import gumLib.notebook as gumnb"
     ],
     "language": "python",
     "metadata": {},
     "outputs": [],
     "prompt_number": 1
    },
    {
     "cell_type": "heading",
     "level": 2,
     "metadata": {},
     "source": [
      "Static Credal Net"
     ]
    },
    {
     "cell_type": "code",
     "collapsed": false,
     "input": [
      "cn=gum.CredalNet(\"../resources/cn/2Umin.bif\",\"../resources/cn/2Umax.bif\")\n",
      "cn.intervalToCredal()"
     ],
     "language": "python",
     "metadata": {},
     "outputs": [],
     "prompt_number": 2
    },
    {
     "cell_type": "code",
     "collapsed": false,
     "input": [
      "gumnb.showBN(cn.current_bn(),\"3\")"
     ],
     "language": "python",
     "metadata": {},
     "outputs": [
      {
       "metadata": {},
       "output_type": "display_data",
       "svg": [
        "<svg height=\"216pt\" viewBox=\"0.00 0.00 210.84 216.00\" width=\"211pt\" xmlns=\"http://www.w3.org/2000/svg\" xmlns:xlink=\"http://www.w3.org/1999/xlink\">\n",
        "<g class=\"graph\" id=\"graph0\" transform=\"scale(0.758427 0.758427) rotate(0) translate(4 280.8)\">\n",
        "<title>aGrUM_BN</title>\n",
        "<text font-family=\"Times,serif\" font-size=\"14.00\" text-anchor=\"middle\" x=\"135\" y=\"-6.8\">aGrUM_BN</text>\n",
        "<!-- A -->\n",
        "<!-- 0:A&lt;0,1&gt; -->\n",
        "<g class=\"node\" id=\"node1\"><title>A</title>\n",
        "<ellipse cx=\"27\" cy=\"-258.8\" fill=\"#ffffaa\" rx=\"27\" ry=\"18\" stroke=\"black\"/>\n",
        "<text font-family=\"Times,serif\" font-size=\"14.00\" text-anchor=\"middle\" x=\"27\" y=\"-253.2\">A</text>\n",
        "</g>\n",
        "<!-- E -->\n",
        "<!-- 4:E&lt;0,1&gt; -->\n",
        "<g class=\"node\" id=\"node5\"><title>E</title>\n",
        "<ellipse cx=\"99\" cy=\"-186.8\" fill=\"#ffffaa\" rx=\"27\" ry=\"18\" stroke=\"black\"/>\n",
        "<text font-family=\"Times,serif\" font-size=\"14.00\" text-anchor=\"middle\" x=\"99\" y=\"-181.2\">E</text>\n",
        "</g>\n",
        "<!-- A&#45;&gt;E -->\n",
        "<g class=\"edge\" id=\"edge1\"><title>A-&gt;E</title>\n",
        "<path d=\"M41.5703,-243.634C51.7499,-233.738 65.5239,-220.346 77.0306,-209.159\" fill=\"none\" stroke=\"black\"/>\n",
        "<polygon fill=\"black\" points=\"79.4741,-211.665 84.2043,-202.185 74.5945,-206.646 79.4741,-211.665\" stroke=\"black\"/>\n",
        "</g>\n",
        "<!-- B -->\n",
        "<!-- 1:B&lt;0,1&gt; -->\n",
        "<g class=\"node\" id=\"node2\"><title>B</title>\n",
        "<ellipse cx=\"99\" cy=\"-258.8\" fill=\"#ffffaa\" rx=\"27\" ry=\"18\" stroke=\"black\"/>\n",
        "<text font-family=\"Times,serif\" font-size=\"14.00\" text-anchor=\"middle\" x=\"99\" y=\"-253.2\">B</text>\n",
        "</g>\n",
        "<!-- B&#45;&gt;E -->\n",
        "<g class=\"edge\" id=\"edge2\"><title>B-&gt;E</title>\n",
        "<path d=\"M99,-240.497C99,-232.783 99,-223.512 99,-214.912\" fill=\"none\" stroke=\"black\"/>\n",
        "<polygon fill=\"black\" points=\"102.5,-214.904 99,-204.904 95.5001,-214.904 102.5,-214.904\" stroke=\"black\"/>\n",
        "</g>\n",
        "<!-- C -->\n",
        "<!-- 2:C&lt;0,1&gt; -->\n",
        "<g class=\"node\" id=\"node3\"><title>C</title>\n",
        "<ellipse cx=\"171\" cy=\"-258.8\" fill=\"#ffffaa\" rx=\"27\" ry=\"18\" stroke=\"black\"/>\n",
        "<text font-family=\"Times,serif\" font-size=\"14.00\" text-anchor=\"middle\" x=\"171\" y=\"-253.2\">C</text>\n",
        "</g>\n",
        "<!-- F -->\n",
        "<!-- 5:F&lt;0,1&gt; -->\n",
        "<g class=\"node\" id=\"node6\"><title>F</title>\n",
        "<ellipse cx=\"171\" cy=\"-186.8\" fill=\"#ffffaa\" rx=\"27\" ry=\"18\" stroke=\"black\"/>\n",
        "<text font-family=\"Times,serif\" font-size=\"14.00\" text-anchor=\"middle\" x=\"171\" y=\"-181.2\">F</text>\n",
        "</g>\n",
        "<!-- C&#45;&gt;F -->\n",
        "<g class=\"edge\" id=\"edge3\"><title>C-&gt;F</title>\n",
        "<path d=\"M171,-240.497C171,-232.783 171,-223.512 171,-214.912\" fill=\"none\" stroke=\"black\"/>\n",
        "<polygon fill=\"black\" points=\"174.5,-214.904 171,-204.904 167.5,-214.904 174.5,-214.904\" stroke=\"black\"/>\n",
        "</g>\n",
        "<!-- D -->\n",
        "<!-- 3:D&lt;0,1&gt; -->\n",
        "<g class=\"node\" id=\"node4\"><title>D</title>\n",
        "<ellipse cx=\"243\" cy=\"-258.8\" fill=\"#ffffaa\" rx=\"27\" ry=\"18\" stroke=\"black\"/>\n",
        "<text font-family=\"Times,serif\" font-size=\"14.00\" text-anchor=\"middle\" x=\"243\" y=\"-253.2\">D</text>\n",
        "</g>\n",
        "<!-- D&#45;&gt;F -->\n",
        "<g class=\"edge\" id=\"edge5\"><title>D-&gt;F</title>\n",
        "<path d=\"M228.43,-243.634C218.25,-233.738 204.476,-220.346 192.969,-209.159\" fill=\"none\" stroke=\"black\"/>\n",
        "<polygon fill=\"black\" points=\"195.405,-206.646 185.796,-202.185 190.526,-211.665 195.405,-206.646\" stroke=\"black\"/>\n",
        "</g>\n",
        "<!-- G -->\n",
        "<!-- 6:G&lt;0,1&gt; -->\n",
        "<g class=\"node\" id=\"node7\"><title>G</title>\n",
        "<ellipse cx=\"243\" cy=\"-186.8\" fill=\"#ffffaa\" rx=\"27\" ry=\"18\" stroke=\"black\"/>\n",
        "<text font-family=\"Times,serif\" font-size=\"14.00\" text-anchor=\"middle\" x=\"243\" y=\"-181.2\">G</text>\n",
        "</g>\n",
        "<!-- D&#45;&gt;G -->\n",
        "<g class=\"edge\" id=\"edge4\"><title>D-&gt;G</title>\n",
        "<path d=\"M243,-240.497C243,-232.783 243,-223.512 243,-214.912\" fill=\"none\" stroke=\"black\"/>\n",
        "<polygon fill=\"black\" points=\"246.5,-214.904 243,-204.904 239.5,-214.904 246.5,-214.904\" stroke=\"black\"/>\n",
        "</g>\n",
        "<!-- H -->\n",
        "<!-- 7:H&lt;0,1&gt; -->\n",
        "<g class=\"node\" id=\"node8\"><title>H</title>\n",
        "<ellipse cx=\"135\" cy=\"-114.8\" fill=\"#ffffaa\" rx=\"27\" ry=\"18\" stroke=\"black\"/>\n",
        "<text font-family=\"Times,serif\" font-size=\"14.00\" text-anchor=\"middle\" x=\"135\" y=\"-109.2\">H</text>\n",
        "</g>\n",
        "<!-- E&#45;&gt;H -->\n",
        "<g class=\"edge\" id=\"edge6\"><title>E-&gt;H</title>\n",
        "<path d=\"M107.35,-169.565C111.712,-161.083 117.147,-150.514 122.041,-140.997\" fill=\"none\" stroke=\"black\"/>\n",
        "<polygon fill=\"black\" points=\"125.235,-142.441 126.696,-131.947 119.01,-139.239 125.235,-142.441\" stroke=\"black\"/>\n",
        "</g>\n",
        "<!-- F&#45;&gt;H -->\n",
        "<g class=\"edge\" id=\"edge7\"><title>F-&gt;H</title>\n",
        "<path d=\"M162.65,-169.565C158.288,-161.083 152.853,-150.514 147.959,-140.997\" fill=\"none\" stroke=\"black\"/>\n",
        "<polygon fill=\"black\" points=\"150.99,-139.239 143.304,-131.947 144.765,-142.441 150.99,-139.239\" stroke=\"black\"/>\n",
        "</g>\n",
        "<!-- L -->\n",
        "<!-- 8:L&lt;0,1&gt; -->\n",
        "<g class=\"node\" id=\"node9\"><title>L</title>\n",
        "<ellipse cx=\"135\" cy=\"-42.8\" fill=\"#ffffaa\" rx=\"27\" ry=\"18\" stroke=\"black\"/>\n",
        "<text font-family=\"Times,serif\" font-size=\"14.00\" text-anchor=\"middle\" x=\"135\" y=\"-37.2\">L</text>\n",
        "</g>\n",
        "<!-- H&#45;&gt;L -->\n",
        "<g class=\"edge\" id=\"edge8\"><title>H-&gt;L</title>\n",
        "<path d=\"M135,-96.4966C135,-88.7827 135,-79.5125 135,-70.9124\" fill=\"none\" stroke=\"black\"/>\n",
        "<polygon fill=\"black\" points=\"138.5,-70.9043 135,-60.9043 131.5,-70.9044 138.5,-70.9043\" stroke=\"black\"/>\n",
        "</g>\n",
        "</g>\n",
        "</svg>"
       ],
       "text": [
        "<IPython.core.display.SVG at 0x10f5c4210>"
       ]
      }
     ],
     "prompt_number": 3
    },
    {
     "cell_type": "code",
     "collapsed": false,
     "input": [
      "ie=gum.CNMonteCarloSampling(cn)\n",
      "ie.insertEvidenceFile(\"../resources/cn/L2U.evi\")\n",
      "\n",
      "ie.setRepetitiveInd(False)\n",
      "ie.setMaxTime(1)\n",
      "ie.setMaxIter(1000)\n",
      "\n",
      "ie.makeInference()"
     ],
     "language": "python",
     "metadata": {},
     "outputs": [],
     "prompt_number": 4
    },
    {
     "cell_type": "code",
     "collapsed": false,
     "input": [
      "print ie.marginalMax(0)\n",
      "print ie.marginalMin(0)\n",
      "#gumnb.showMinMaxProbas(ie.marginalMin(0),ie.marginalMax(0))"
     ],
     "language": "python",
     "metadata": {},
     "outputs": [
      {
       "output_type": "stream",
       "stream": "stdout",
       "text": [
        "(0.6946122095469729, 0.5603935873828432)\n",
        "(0.4396064126171569, 0.30538779045302705)\n"
       ]
      }
     ],
     "prompt_number": 5
    },
    {
     "cell_type": "heading",
     "level": 2,
     "metadata": {},
     "source": [
      "Dynamical Credal Net"
     ]
    },
    {
     "cell_type": "code",
     "collapsed": false,
     "input": [
      "cn=gum.CredalNet(\"../resources/cn/bn_c_8.bif\",\"../resources/cn/den_c_8.bif\")\n",
      "cn.bnToCredal(0.8,False)"
     ],
     "language": "python",
     "metadata": {},
     "outputs": [],
     "prompt_number": 6
    },
    {
     "cell_type": "code",
     "collapsed": false,
     "input": [
      "ie=gum.CNMonteCarloSampling(cn)\n",
      "ie.insertModalsFile(\"../resources/cn/modalities.modal\")\n",
      "\n",
      "ie.setRepetitiveInd(True)\n",
      "ie.setMaxTime(30)\n",
      "ie.setMaxIter(1000)\n",
      "\n",
      "ie.makeInference()"
     ],
     "language": "python",
     "metadata": {},
     "outputs": [],
     "prompt_number": 7
    },
    {
     "cell_type": "code",
     "collapsed": false,
     "input": [
      "print ie.dynamicExpMax(\"temp\")"
     ],
     "language": "python",
     "metadata": {},
     "outputs": [
      {
       "output_type": "stream",
       "stream": "stdout",
       "text": [
        "(14.20340464862347, 11.911090684366485, 12.190483075680442, 12.031555584857191, 12.004198572496797, 12.008870898650432, 12.007860641421736, 12.007688078235907, 12.007727248106775)\n"
       ]
      }
     ],
     "prompt_number": 8
    },
    {
     "cell_type": "code",
     "collapsed": false,
     "input": [
      "fig=figure()\n",
      "ax=fig.add_subplot(111)\n",
      "ax.fill_between(range(9),ie.dynamicExpMax(\"temp\"),ie.dynamicExpMin(\"temp\"))"
     ],
     "language": "python",
     "metadata": {},
     "outputs": [
      {
       "metadata": {},
       "output_type": "pyout",
       "prompt_number": 9,
       "text": [
        "<matplotlib.collections.PolyCollection at 0x10f5d6550>"
       ]
      },
      {
       "metadata": {},
       "output_type": "display_data",
       "png": "[encoded data removed]",
       "text": [
        "<matplotlib.figure.Figure at 0x1104705d0>"
       ]
      }
     ],
     "prompt_number": 9
    },
    {
     "cell_type": "code",
     "collapsed": false,
     "input": [
      "ie=gum.CNMonteCarloSampling(cn)\n",
      "ie.insertModalsFile(\"../resources/cn/modalities.modal\")\n",
      "\n",
      "ie.setRepetitiveInd(False)\n",
      "ie.setMaxTime(30)\n",
      "ie.setMaxIter(1000)\n",
      "\n",
      "ie.makeInference()\n"
     ],
     "language": "python",
     "metadata": {},
     "outputs": []
    },
    {
     "cell_type": "code",
     "collapsed": false,
     "input": [
      "fig=figure()\n",
      "ax=fig.add_subplot(111)\n",
      "ax.fill_between(range(9),ie.dynamicExpMax(\"temp\"),ie.dynamicExpMin(\"temp\"))"
     ],
     "language": "python",
     "metadata": {},
     "outputs": []
    },
    {
     "cell_type": "code",
     "collapsed": false,
     "input": [
      "ie=gum.CNMonteCarloSampling(cn)\n",
      "ie.insertModalsFile(\"../resources/cn/modalities.modal\")\n",
      "\n",
      "ie.setRepetitiveInd(False)\n",
      "ie.setMaxTime(30)\n",
      "ie.setMaxIter(1000)\n",
      "\n",
      "gumnb.animApproximationScheme(ie)\n",
      "ie.makeInference()\n",
      "\n",
      "fig=figure()\n",
      "ax=fig.add_subplot(111)\n",
      "ax.fill_between(range(9),ie.dynamicExpMax(\"temp\"),ie.dynamicExpMin(\"temp\"))\n",
      "\n",
      "ie.getApproximationSchemeMsg()"
     ],
     "language": "python",
     "metadata": {},
     "outputs": []
    }
   ],
   "metadata": {}
  }
 ]
}