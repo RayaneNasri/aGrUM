{
 "metadata": {
  "name": "quasi-continuous"
 },
 "nbformat": 3,
 "nbformat_minor": 0,
 "worksheets": [
  {
   "cells": [
    {
     "cell_type": "heading",
     "level": 1,
     "metadata": {},
     "source": [
      "Quasi-continuous BN"
     ]
    },
    {
     "cell_type": "markdown",
     "metadata": {},
     "source": [
      "aGrUM can not (for now) deal with continuous variables. However, a discrete variable with a large enough domain size is an approximation of such variables."
     ]
    },
    {
     "cell_type": "code",
     "collapsed": false,
     "input": [
      "import pyAgrum as gum\n",
      "import gumLib.notebook as gnb\n",
      "\n",
      "NB=50 # nbr of states for quasi continuous variables. You can change the value but be carefull of the quadratic behaviour of both memory and time complexity in this example."
     ],
     "language": "python",
     "metadata": {},
     "outputs": []
    },
    {
     "cell_type": "code",
     "collapsed": false,
     "input": [
      "bn=gum.BayesNet(\"Quasi-Continuous\")\n",
      "a=bn.add(gum.LabelizedVar(\"A\",\"A binary variable\",2))\n",
      "b=bn.add(gum.RangeVar(\"B\",\"A range variable\",0,NB-1))\n",
      "bn.addArc(a,b)\n",
      "print(bn)\n",
      "gnb.showBN(bn)"
     ],
     "language": "python",
     "metadata": {},
     "outputs": []
    },
    {
     "cell_type": "code",
     "collapsed": false,
     "input": [
      "bn.cpt(a)[:]=[0.4, 0.6]\n",
      "gnb.showProba(bn.cpt(a))"
     ],
     "language": "python",
     "metadata": {},
     "outputs": []
    },
    {
     "cell_type": "heading",
     "level": 2,
     "metadata": {},
     "source": [
      "CPT for quasi-continuous variables (with parents)"
     ]
    },
    {
     "cell_type": "markdown",
     "metadata": {},
     "source": [
      "Using python (and scipy), it is easy to find pdf for continuous variable"
     ]
    },
    {
     "cell_type": "code",
     "collapsed": false,
     "input": [
      "# we truncate a pdf, so we need to normalize \n",
      "def normalize(rv,vmin,vmax,size):\n",
      "    pdf=rv.pdf(linspace(vmin,vmax,size))\n",
      "    return pdf/sum(pdf)\n",
      "\n",
      "from scipy.stats import norm,maxwell\n",
      "\n",
      "plot(normalize(norm(),-4,1,NB)) # P(B|A=0) is a Gaussian distribution\n",
      "plot(normalize(maxwell(),0,6,NB))  # P(B|A=1) is a Maxwell-Boltzmann distribution\n",
      "title(\"P(B | A)\")\n",
      "legend([\"P(B|A=0)\",\"P(B|A=1)\"],loc='best')\n",
      "\n",
      "bn.cpt(b)[{'A':0}]=normalize(norm(),-4,1,NB)\n",
      "bn.cpt(b)[{'A':1}]=normalize(norm(),-1,4,NB)"
     ],
     "language": "python",
     "metadata": {},
     "outputs": []
    },
    {
     "cell_type": "heading",
     "level": 2,
     "metadata": {},
     "source": [
      "Inference"
     ]
    },
    {
     "cell_type": "code",
     "collapsed": false,
     "input": [
      "ie=gum.LazyPropagation(bn)\n",
      "ie.makeInference()\n",
      "plot(ie.marginal(b)[:]) # the posterior for B\n",
      "t=title(\"P(B)\")"
     ],
     "language": "python",
     "metadata": {},
     "outputs": []
    },
    {
     "cell_type": "heading",
     "level": 2,
     "metadata": {},
     "source": [
      "Quasi-continuous variable with quasi-continuous parent"
     ]
    },
    {
     "cell_type": "code",
     "collapsed": false,
     "input": [
      "c=bn.add(gum.RangeVar(\"C\",\"Another quasi continuous variable\",0,NB-1))\n",
      "bn.addArc(b,c)\n",
      "gnb.showBN(bn) # B and C are quasi-continouous"
     ],
     "language": "python",
     "metadata": {},
     "outputs": []
    },
    {
     "cell_type": "code",
     "collapsed": false,
     "input": [
      "from scipy.stats import gamma\n",
      "# cpt(c) is NB x NB matrix !\n",
      "for i in range(NB):\n",
      "    bn.cpt(c)[{'B':i}]=normalize(gamma(i+1),4,5+i,NB) # the size and the parameter of gamma depends on the parent value\n",
      "\n",
      "#for instance \n",
      "plot(bn.cpt(c)[{'B':10}])\n",
      "plot(bn.cpt(c)[{'B':25}])\n",
      "plot(bn.cpt(c)[{'B':40}])\n",
      "title(\"gamma distributions for variable P(C | B=i)\")\n",
      "legend([\"i=10\",\"i=25\",\"i=40\"],loc='best');"
     ],
     "language": "python",
     "metadata": {},
     "outputs": []
    },
    {
     "cell_type": "heading",
     "level": 1,
     "metadata": {},
     "source": [
      "Inference in quasi-continuous BN"
     ]
    },
    {
     "cell_type": "code",
     "collapsed": false,
     "input": [
      "ie=gum.LazyPropagation(bn)\n",
      "ie.makeInference()\n",
      "plot(ie.marginal(c)[:])\n",
      "t=title(\"P(C)\")"
     ],
     "language": "python",
     "metadata": {},
     "outputs": []
    },
    {
     "cell_type": "heading",
     "level": 2,
     "metadata": {},
     "source": [
      "Changing prior"
     ]
    },
    {
     "cell_type": "code",
     "collapsed": false,
     "input": [
      "bn.cpt(a)[:]=[0.1,0.9]\n",
      "ie=gum.LazyPropagation(bn)\n",
      "ie.makeInference()\n",
      "plot(ie.marginal(c)[:])\n",
      "t=title(\"P(C) with prior p(A)=[0.1,0.9]\")"
     ],
     "language": "python",
     "metadata": {},
     "outputs": []
    },
    {
     "cell_type": "heading",
     "level": 1,
     "metadata": {},
     "source": [
      "inference with evidence"
     ]
    },
    {
     "cell_type": "markdown",
     "metadata": {},
     "source": [
      "We want to compute \n",
      "<ul><li>\n",
      "$P(A | C=35)$ \n",
      "</li><li>\n",
      "$P(B | C=35)$\n",
      "</li></ul>"
     ]
    },
    {
     "cell_type": "code",
     "collapsed": false,
     "input": [
      "ie=gum.LazyPropagation(bn)\n",
      "ie.setEvidence({'C':35})\n",
      "ie.makeInference()\n",
      "plot(ie.marginal(b)[:])\n",
      "title(\"P( B | C=35)\")\n",
      "gnb.showProba(ie.marginal(a))"
     ],
     "language": "python",
     "metadata": {},
     "outputs": []
    },
    {
     "cell_type": "heading",
     "level": 2,
     "metadata": {},
     "source": [
      "Multiple inference"
     ]
    },
    {
     "cell_type": "markdown",
     "metadata": {},
     "source": [
      "What is the behaviour of $P(A | B=i)$&nbsp;&nbsp; when $i$ varies ? I.e. we perform a MAP decision between the two models ($A=0$&nbsp; is for the Gaussian distribution and $A=1$&nbsp; for the Maxwell-Boltzman distribution)."
     ]
    },
    {
     "cell_type": "code",
     "collapsed": false,
     "input": [
      "ie=gum.LazyPropagation(bn)\n",
      "p0=[]\n",
      "p1=[]\n",
      "for i in range(50):\n",
      "    ie.setEvidence({'B':i})\n",
      "    ie.makeInference()    \n",
      "    p0.append(ie.marginal(a)[0])    \n",
      "    p1.append(ie.marginal(a)[1])\n",
      "plot(p0)\n",
      "plot(p1)\n",
      "title(\"P( A | B=i)\")\n",
      "legend([\"A=0\",\"A=1\"],loc='best')\n",
      "inters=(transpose(p0)<transpose(p1)).argmin()\n",
      "text(inters-2,p0[inters],str((inters,p0[inters])),bbox=dict(facecolor='red', alpha=0.1),ha='right');"
     ],
     "language": "python",
     "metadata": {},
     "outputs": []
    },
    {
     "cell_type": "markdown",
     "metadata": {},
     "source": [
      "Changing the prior $P(A)$"
     ]
    },
    {
     "cell_type": "code",
     "collapsed": false,
     "input": [
      "bn.cpt(a)[:]=[0.4, 0.6]\n",
      "ie=gum.LazyPropagation(bn)\n",
      "p0=[]\n",
      "p1=[]\n",
      "for i in range(50):\n",
      "    ie.setEvidence({'B':i})\n",
      "    ie.makeInference()    \n",
      "    p0.append(ie.marginal(a)[0])    \n",
      "    p1.append(ie.marginal(a)[1])\n",
      "plot(p0)\n",
      "plot(p1)\n",
      "title(\"P( A | B=i) with prior p(A)=[0.4,0.6]\")\n",
      "legend([\"A=0\",\"A=1\"],loc='best')\n",
      "inters=(transpose(p0)<transpose(p1)).argmin()\n",
      "text(inters+1.5,p0[inters],str((inters,p0[inters])),bbox=dict(facecolor='red', alpha=0.1));"
     ],
     "language": "python",
     "metadata": {},
     "outputs": []
    },
    {
     "cell_type": "code",
     "collapsed": false,
     "input": [],
     "language": "python",
     "metadata": {},
     "outputs": []
    }
   ],
   "metadata": {}
  }
 ]
}