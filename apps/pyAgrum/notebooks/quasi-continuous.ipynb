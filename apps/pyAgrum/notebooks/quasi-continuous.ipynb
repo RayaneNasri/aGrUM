{
 "metadata": {
  "name": "quasi-continuous"
 },
 "nbformat": 3,
 "nbformat_minor": 0,
 "worksheets": [
  {
   "cells": [
    {
     "cell_type": "code",
     "collapsed": false,
     "input": [
      "import pyAgrum as gum\n",
      "import gumLib.notebook as gnb\n",
      "\n",
      "NB=50"
     ],
     "language": "python",
     "metadata": {},
     "outputs": []
    },
    {
     "cell_type": "code",
     "collapsed": false,
     "input": [
      "bn=gum.BayesNet()\n",
      "a=bn.add(gum.LabelizedVar(\"A\",\"A binary variable\",2))\n",
      "b=bn.add(gum.LabelizedVar(\"B\",\"A range variable\",NB))\n",
      "bn.insertArc(a,b)\n",
      "print(bn)"
     ],
     "language": "python",
     "metadata": {},
     "outputs": []
    },
    {
     "cell_type": "code",
     "collapsed": false,
     "input": [
      "bn.cpt(a)[:]=[0.4, 0.6]"
     ],
     "language": "python",
     "metadata": {},
     "outputs": []
    },
    {
     "cell_type": "markdown",
     "metadata": {},
     "source": [
      "Using python (and scipy), it is easy to find pdf for continuous variable"
     ]
    },
    {
     "cell_type": "code",
     "collapsed": false,
     "input": [
      "def normalize(rv,vmin,vmax,size):\n",
      "    pdf=rv.pdf(linspace(vmin,vmax,size))\n",
      "    return pdf/sum(pdf)\n",
      "\n",
      "from scipy.stats import norm,maxwell\n",
      "plot(normalize(norm(),-4,1,NB)) # Gaussian distributio,\n",
      "bn.cpt(b)[{'A':0}]=normalize(norm(),-4,1,NB)\n",
      "plot(normalize(maxwell(),0,6,NB))  # Maxwell-Boltzmann distribution\n",
      "bn.cpt(b)[{'A':1}]=normalize(norm(),-1,4,NB)"
     ],
     "language": "python",
     "metadata": {},
     "outputs": []
    },
    {
     "cell_type": "code",
     "collapsed": false,
     "input": [
      "ie=gum.LazyPropagation(bn)\n",
      "ie.makeInference()\n",
      "plot(ie.marginal(b)[:])"
     ],
     "language": "python",
     "metadata": {},
     "outputs": []
    },
    {
     "cell_type": "code",
     "collapsed": false,
     "input": [
      "c=bn.add(gum.LabelizedVar(\"C\",\"Another quasi continuous variable\",NB))\n",
      "bn.insertArc(b,c)\n",
      "print(bn)"
     ],
     "language": "python",
     "metadata": {},
     "outputs": []
    },
    {
     "cell_type": "code",
     "collapsed": false,
     "input": [
      "from scipy.stats import gamma\n",
      "# cpt(c) is NB x NB matrix !\n",
      "for i in range(NB):\n",
      "    bn.cpt(c)[{'B':i}]=normalize(gamma(i+1),4,5+i,NB)"
     ],
     "language": "python",
     "metadata": {},
     "outputs": []
    },
    {
     "cell_type": "code",
     "collapsed": false,
     "input": [
      "ie=gum.LazyPropagation(bn)\n",
      "ie.makeInference()\n",
      "plot(ie.marginal(c)[:])"
     ],
     "language": "python",
     "metadata": {},
     "outputs": []
    },
    {
     "cell_type": "code",
     "collapsed": false,
     "input": [],
     "language": "python",
     "metadata": {},
     "outputs": []
    }
   ],
   "metadata": {}
  }
 ]
}