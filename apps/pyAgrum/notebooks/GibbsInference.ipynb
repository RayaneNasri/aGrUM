{
 "metadata": {
  "name": ""
 },
 "nbformat": 3,
 "nbformat_minor": 0,
 "worksheets": [
  {
   "cells": [
    {
     "cell_type": "code",
     "collapsed": false,
     "input": [
      "import pyAgrum as gum\n",
      "import gumLib.notebook as gnb\n",
      "bn=gum.loadBN(\"../resources/alarm.dsl\")\n",
      "gnb.showBN(bn,size='8')"
     ],
     "language": "python",
     "metadata": {},
     "outputs": []
    },
    {
     "cell_type": "code",
     "collapsed": false,
     "input": [
      "ie=gum.LazyPropagation(bn)\n",
      "ie.makeInference()\n",
      "print(bn.variable(2))\n",
      "print(ie.marginal(2))"
     ],
     "language": "python",
     "metadata": {},
     "outputs": []
    },
    {
     "cell_type": "code",
     "collapsed": false,
     "input": [
      "ie2=gum.GibbsInference(bn)\n",
      "\n",
      "ie2.makeInference()\n",
      "\n",
      "print(bn.variable(2))\n",
      "print(ie2.marginal(2))\n",
      "print(ie2.messageApproximationScheme())"
     ],
     "language": "python",
     "metadata": {},
     "outputs": []
    },
    {
     "cell_type": "code",
     "collapsed": false,
     "input": [
      "ie2=gum.GibbsInference(bn)\n",
      "\n",
      "ie2.setMaxIter(30000)\n",
      "ie2.makeInference()\n",
      "\n",
      "print(bn.variable(2))\n",
      "print(ie2.marginal(2))\n",
      "print(ie2.messageApproximationScheme())"
     ],
     "language": "python",
     "metadata": {},
     "outputs": []
    },
    {
     "cell_type": "code",
     "collapsed": false,
     "input": [
      "ie2=gum.GibbsInference(bn)\n",
      "\n",
      "ie2.setMaxTime(5)\n",
      "ie2.makeInference()\n",
      "\n",
      "print(bn.variable(2))\n",
      "print(ie2.marginal(2))\n",
      "print(ie2.messageApproximationScheme())"
     ],
     "language": "python",
     "metadata": {},
     "outputs": []
    },
    {
     "cell_type": "code",
     "collapsed": false,
     "input": [
      "ie2=gum.GibbsInference(bn)\n",
      "\n",
      "ie2.setMaxTime(5)\n",
      "ie2.makeInference()\n",
      "\n",
      "print(bn.variable(2))\n",
      "print(ie2.marginal(2))\n",
      "print(ie2.messageApproximationScheme())"
     ],
     "language": "python",
     "metadata": {},
     "outputs": []
    },
    {
     "cell_type": "code",
     "collapsed": false,
     "input": [
      "ie2=gum.GibbsInference(bn)\n",
      "\n",
      "ie2.setEpsilon(1e-3)\n",
      "gnb.animApproximationScheme(ie2)\n",
      "ie2.makeInference()\n",
      "\n",
      "print(bn.variable(2))\n",
      "print(ie2.marginal(2))"
     ],
     "language": "python",
     "metadata": {},
     "outputs": []
    },
    {
     "cell_type": "code",
     "collapsed": false,
     "input": [],
     "language": "python",
     "metadata": {},
     "outputs": []
    }
   ],
   "metadata": {}
  }
 ]
}