{
 "metadata": {
  "name": "demoPyAgrum"
 },
 "nbformat": 3,
 "nbformat_minor": 0,
 "worksheets": [
  {
   "cells": [
    {
     "cell_type": "markdown",
     "metadata": {},
     "source": [
      "Initialisation\n",
      "==============\n",
      "\n",
      "* importing pyAgrum\n",
      "* importing gumLib tools\n",
      "* loading a BN"
     ]
    },
    {
     "cell_type": "code",
     "collapsed": true,
     "input": [
      "import pyAgrum as gum\n",
      "import gumLib.notebook as gumnb\n",
      "bn=gum.loadBN(\"../resources/alarm.dsl\")"
     ],
     "language": "python",
     "metadata": {},
     "outputs": []
    },
    {
     "cell_type": "markdown",
     "metadata": {},
     "source": [
      "Visualisation and inspection\n",
      "============================"
     ]
    },
    {
     "cell_type": "code",
     "collapsed": false,
     "input": [
      "print bn.variableFromName('SHUNT')"
     ],
     "language": "python",
     "metadata": {},
     "outputs": []
    },
    {
     "cell_type": "code",
     "collapsed": false,
     "input": [
      "print bn.cpt(bn.idFromName('SHUNT'))"
     ],
     "language": "python",
     "metadata": {},
     "outputs": []
    },
    {
     "cell_type": "code",
     "collapsed": false,
     "input": [
      "from gumLib.pretty_cpt import pretty_cpt\n",
      "pretty_cpt(bn.cpt(bn.idFromName('SHUNT')))"
     ],
     "language": "python",
     "metadata": {},
     "outputs": []
    },
    {
     "cell_type": "code",
     "collapsed": false,
     "input": [
      "gumnb.showBN(bn)"
     ],
     "language": "python",
     "metadata": {},
     "outputs": []
    },
    {
     "cell_type": "markdown",
     "metadata": {},
     "source": [
      "Results of inference\n",
      "====================\n",
      "\n",
      "It is easy to look at result of inference"
     ]
    },
    {
     "cell_type": "code",
     "collapsed": false,
     "input": [
      "gumnb.showPosterior(bn,{'SHUNT':'HIGH'},'PRESS')"
     ],
     "language": "python",
     "metadata": {},
     "outputs": []
    },
    {
     "cell_type": "code",
     "collapsed": false,
     "input": [
      "gumnb.showPosterior(bn,{'MINVOLSET':'NORMAL'},'VENTALV')"
     ],
     "language": "python",
     "metadata": {},
     "outputs": []
    },
    {
     "cell_type": "markdown",
     "metadata": {},
     "source": [
      "Result of inferences\n",
      "====================\n",
      "\n",
      "It is also easy to use inference as a routine in more complex procedure."
     ]
    },
    {
     "cell_type": "code",
     "collapsed": false,
     "input": [
      "r=range(0,100,2)\n",
      "xs=[x/100.0 for x in r]\n",
      "ys=[gumnb.getPosterior(bn,{'MINVOLSET':[0,x/100.0,0.5]},'VENTALV').tolist() \n",
      "        for x in r]\n",
      "p=plot(xs,ys)\n",
      "legend(p,[bn.variableFromName('VENTALV').label(i) \n",
      "          for i in range(len(bn.variableFromName('VENTALV')))],loc=7);\n",
      "title('VENTALV');\n",
      "ylabel('posterior Probability');\n",
      "xlabel('Evidence on MINVOLSET : [0,x,0.5]');"
     ],
     "language": "python",
     "metadata": {},
     "outputs": []
    },
    {
     "cell_type": "markdown",
     "metadata": {},
     "source": [
      "BN as classifier\n",
      "================"
     ]
    },
    {
     "cell_type": "markdown",
     "metadata": {},
     "source": [
      "Generation of databases\n",
      "-----------------------\n",
      "\n",
      "Using CSV format for database,"
     ]
    },
    {
     "cell_type": "code",
     "collapsed": true,
     "input": [
      "from gumLib.bn2csv import generateCSV\n",
      "from IPython.display import clear_output\n",
      "from IPython.display import HTML, Javascript, display\n",
      "generateCSV(bn,\"test.csv\",1000,True)"
     ],
     "language": "python",
     "metadata": {},
     "outputs": []
    },
    {
     "cell_type": "markdown",
     "metadata": {},
     "source": [
      "BN as a classifier\n",
      "------------------\n",
      "\n",
      "(because of the use of from-bn-generated csv files, quite good ROC curves are expected)"
     ]
    },
    {
     "cell_type": "code",
     "collapsed": false,
     "input": [
      "from gumLib.BN_roc import showROC\n",
      "showROC(bn,\"test.csv\",'VENTALV','LOW',True,True)"
     ],
     "language": "python",
     "metadata": {},
     "outputs": []
    },
    {
     "cell_type": "code",
     "collapsed": false,
     "input": [
      "showROC(bn,\"test.csv\",'MINVOLSET','NORMAL',True,True)"
     ],
     "language": "python",
     "metadata": {},
     "outputs": []
    },
    {
     "cell_type": "code",
     "collapsed": true,
     "input": [],
     "language": "python",
     "metadata": {},
     "outputs": []
    }
   ],
   "metadata": {}
  }
 ]
}