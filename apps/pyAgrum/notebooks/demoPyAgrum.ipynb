{
 "cells": [
  {
   "cell_type": "code",
   "execution_count": 1,
   "metadata": {
    "collapsed": false
   },
   "outputs": [],
   "source": [
    "%matplotlib inline\n",
    "from pylab import *\n",
    "import matplotlib.pyplot as plt"
   ]
  },
  {
   "cell_type": "markdown",
   "metadata": {},
   "source": [
    "Initialisation\n",
    "==============\n",
    "\n",
    "* importing pyAgrum\n",
    "* importing pyAgrum.lib tools\n",
    "* loading a BN"
   ]
  },
  {
   "cell_type": "code",
   "execution_count": 2,
   "metadata": {
    "collapsed": false
   },
   "outputs": [
    {
     "data": {
      "text/html": [
       "<table width='100%'><tr><th>Library</th><th>Version</th></tr><tr><td>OS</td><td>posix [linux]</td></tr><tr><td>Python</td><td>3.5.0+ (default, Oct 11 2015, 09:05:38) \n",
       "[GCC 5.2.1 20151010]</td></tr><tr><td>IPython</td><td>4.0.0</td></tr><tr><td>MatPlotLib</td><td>1.5.0</td></tr><tr><td>Numpy</td><td>1.10.1</td></tr><tr><td>pyAgrum</td><td>0.9.2.9</td></tr></table><div align='right'><small>Wed Nov 04 19:24:13 2015 CET</small></div>"
      ],
      "text/plain": [
       "<IPython.core.display.HTML object>"
      ]
     },
     "execution_count": 2,
     "metadata": {},
     "output_type": "execute_result"
    }
   ],
   "source": [
    "import pyAgrum as gum\n",
    "import pyAgrum.lib.notebook as gnb\n",
    "gnb.configuration()\n"
   ]
  },
  {
   "cell_type": "code",
   "execution_count": 3,
   "metadata": {
    "collapsed": false
   },
   "outputs": [],
   "source": [
    "bn=gum.loadBN(\"../resources/alarm.dsl\")"
   ]
  },
  {
   "cell_type": "markdown",
   "metadata": {},
   "source": [
    "Visualisation and inspection\n",
    "============================"
   ]
  },
  {
   "cell_type": "code",
   "execution_count": 4,
   "metadata": {
    "collapsed": false
   },
   "outputs": [
    {
     "name": "stdout",
     "output_type": "stream",
     "text": [
      "SHUNT<NORMAL,HIGH>\n"
     ]
    }
   ],
   "source": [
    "print(bn.variableFromName('SHUNT'))"
   ]
  },
  {
   "cell_type": "code",
   "execution_count": 5,
   "metadata": {
    "collapsed": false
   },
   "outputs": [
    {
     "name": "stdout",
     "output_type": "stream",
     "text": [
      "<SHUNT:NORMAL|PULMEMBOLUS:TRUE|INTUBATION:NORMAL> :: 0.1 /<SHUNT:HIGH|PULMEMBOLUS:TRUE|INTUBATION:NORMAL> :: 0.9 /<SHUNT:NORMAL|PULMEMBOLUS:FALSE|INTUBATION:NORMAL> :: 0.95 /<SHUNT:HIGH|PULMEMBOLUS:FALSE|INTUBATION:NORMAL> :: 0.05 /<SHUNT:NORMAL|PULMEMBOLUS:TRUE|INTUBATION:ESOPHAGEAL> :: 0.1 /<SHUNT:HIGH|PULMEMBOLUS:TRUE|INTUBATION:ESOPHAGEAL> :: 0.9 /<SHUNT:NORMAL|PULMEMBOLUS:FALSE|INTUBATION:ESOPHAGEAL> :: 0.95 /<SHUNT:HIGH|PULMEMBOLUS:FALSE|INTUBATION:ESOPHAGEAL> :: 0.05 /<SHUNT:NORMAL|PULMEMBOLUS:TRUE|INTUBATION:ONESIDED> :: 0.01 /<SHUNT:HIGH|PULMEMBOLUS:TRUE|INTUBATION:ONESIDED> :: 0.99 /<SHUNT:NORMAL|PULMEMBOLUS:FALSE|INTUBATION:ONESIDED> :: 0.05 /<SHUNT:HIGH|PULMEMBOLUS:FALSE|INTUBATION:ONESIDED> :: 0.95\n"
     ]
    }
   ],
   "source": [
    "print(bn.cpt(bn.idFromName('SHUNT')))"
   ]
  },
  {
   "cell_type": "code",
   "execution_count": 8,
   "metadata": {
    "collapsed": false
   },
   "outputs": [
    {
     "name": "stdout",
     "output_type": "stream",
     "text": [
      "                          |---------------|\n",
      "--------------------------|     SHUNT     |\n",
      " PULMEMBOLUS | INTUBATION | NORMAL  HIGH  |\n",
      "--------------------------|---------------|\n",
      "    TRUE     |   NORMAL   | 0.1000 0.9000 |\n",
      "    FALSE    |   NORMAL   | 0.9500 0.0500 |\n",
      "    TRUE     | ESOPHAGEAL | 0.1000 0.9000 |\n",
      "    FALSE    | ESOPHAGEAL | 0.9500 0.0500 |\n",
      "    TRUE     |  ONESIDED  | 0.0100 0.9900 |\n",
      "    FALSE    |  ONESIDED  | 0.0500 0.9500 |\n",
      "--------------------------|---------------|\n"
     ]
    }
   ],
   "source": [
    "from pyAgrum.lib.pretty_print import pretty_cpt\n",
    "print(pretty_cpt(bn.cpt(bn.idFromName('SHUNT'))))"
   ]
  },
  {
   "cell_type": "code",
   "execution_count": 9,
   "metadata": {
    "collapsed": false
   },
   "outputs": [
    {
     "data": {
      "text/html": [
       "<div align='center'><svg height=\"310pt\" viewBox=\"0.00 0.00 504.00 309.52\" width=\"504pt\" xmlns=\"http://www.w3.org/2000/svg\" xmlns:xlink=\"http://www.w3.org/1999/xlink\">\n",
       "<g class=\"graph\" id=\"graph0\" transform=\"scale(0.405132 0.405132) rotate(0) translate(4 760)\">\n",
       "<title>G</title>\n",
       "<polygon fill=\"white\" points=\"-4,4 -4,-760 1240.04,-760 1240.04,4 -4,4\" stroke=\"none\"/>\n",
       "<!-- KINKEDTUBE -->\n",
       "<g class=\"node\" id=\"node1\"><title>KINKEDTUBE</title>\n",
       "<g id=\"a_node1\"><a xlink:title=\"(0) KINKEDTUBE\">\n",
       "<ellipse cx=\"281.294\" cy=\"-594\" fill=\"#444444\" rx=\"67.6881\" ry=\"18\" stroke=\"black\"/>\n",
       "<text fill=\"#ffffff\" font-family=\"Times,serif\" font-size=\"14.00\" text-anchor=\"middle\" x=\"281.294\" y=\"-590.3\">KINKEDTUBE</text>\n",
       "</a>\n",
       "</g>\n",
       "</g>\n",
       "<!-- VENTLUNG -->\n",
       "<g class=\"node\" id=\"node23\"><title>VENTLUNG</title>\n",
       "<g id=\"a_node23\"><a xlink:title=\"(22) VENTLUNG\">\n",
       "<ellipse cx=\"308.294\" cy=\"-522\" fill=\"#444444\" rx=\"58.4896\" ry=\"18\" stroke=\"black\"/>\n",
       "<text fill=\"#ffffff\" font-family=\"Times,serif\" font-size=\"14.00\" text-anchor=\"middle\" x=\"308.294\" y=\"-518.3\">VENTLUNG</text>\n",
       "</a>\n",
       "</g>\n",
       "</g>\n",
       "<!-- KINKEDTUBE&#45;&gt;VENTLUNG -->\n",
       "<g class=\"edge\" id=\"edge36\"><title>KINKEDTUBE-&gt;VENTLUNG</title>\n",
       "<path d=\"M287.83,-576.055C290.869,-568.176 294.556,-558.617 297.959,-549.794\" fill=\"none\" stroke=\"black\"/>\n",
       "<polygon fill=\"black\" points=\"301.298,-550.865 301.631,-540.275 294.766,-548.346 301.298,-550.865\" stroke=\"black\"/>\n",
       "</g>\n",
       "<!-- PRESS -->\n",
       "<g class=\"node\" id=\"node25\"><title>PRESS</title>\n",
       "<g id=\"a_node25\"><a xlink:title=\"(24) PRESS\">\n",
       "<ellipse cx=\"195.294\" cy=\"-522\" fill=\"#444444\" rx=\"36.2938\" ry=\"18\" stroke=\"black\"/>\n",
       "<text fill=\"#ffffff\" font-family=\"Times,serif\" font-size=\"14.00\" text-anchor=\"middle\" x=\"195.294\" y=\"-518.3\">PRESS</text>\n",
       "</a>\n",
       "</g>\n",
       "</g>\n",
       "<!-- KINKEDTUBE&#45;&gt;PRESS -->\n",
       "<g class=\"edge\" id=\"edge6\"><title>KINKEDTUBE-&gt;PRESS</title>\n",
       "<path d=\"M261.348,-576.765C249.462,-567.09 234.241,-554.701 221.406,-544.254\" fill=\"none\" stroke=\"black\"/>\n",
       "<polygon fill=\"black\" points=\"223.34,-541.315 213.375,-537.717 218.921,-546.744 223.34,-541.315\" stroke=\"black\"/>\n",
       "</g>\n",
       "<!-- HYPOVOLEMIA -->\n",
       "<g class=\"node\" id=\"node2\"><title>HYPOVOLEMIA</title>\n",
       "<g id=\"a_node2\"><a xlink:title=\"(1) HYPOVOLEMIA\">\n",
       "<ellipse cx=\"885.294\" cy=\"-234\" fill=\"#444444\" rx=\"75.2868\" ry=\"18\" stroke=\"black\"/>\n",
       "<text fill=\"#ffffff\" font-family=\"Times,serif\" font-size=\"14.00\" text-anchor=\"middle\" x=\"885.294\" y=\"-230.3\">HYPOVOLEMIA</text>\n",
       "</a>\n",
       "</g>\n",
       "</g>\n",
       "<!-- STROKEVOLUME -->\n",
       "<g class=\"node\" id=\"node14\"><title>STROKEVOLUME</title>\n",
       "<g id=\"a_node14\"><a xlink:title=\"(13) STROKEVOLUME\">\n",
       "<ellipse cx=\"875.294\" cy=\"-162\" fill=\"#444444\" rx=\"83.3857\" ry=\"18\" stroke=\"black\"/>\n",
       "<text fill=\"#ffffff\" font-family=\"Times,serif\" font-size=\"14.00\" text-anchor=\"middle\" x=\"875.294\" y=\"-158.3\">STROKEVOLUME</text>\n",
       "</a>\n",
       "</g>\n",
       "</g>\n",
       "<!-- HYPOVOLEMIA&#45;&gt;STROKEVOLUME -->\n",
       "<g class=\"edge\" id=\"edge7\"><title>HYPOVOLEMIA-&gt;STROKEVOLUME</title>\n",
       "<path d=\"M882.822,-215.697C881.72,-207.983 880.396,-198.712 879.167,-190.112\" fill=\"none\" stroke=\"black\"/>\n",
       "<polygon fill=\"black\" points=\"882.617,-189.509 877.738,-180.104 875.687,-190.499 882.617,-189.509\" stroke=\"black\"/>\n",
       "</g>\n",
       "<!-- LVEDVOLUME -->\n",
       "<g class=\"node\" id=\"node16\"><title>LVEDVOLUME</title>\n",
       "<g id=\"a_node16\"><a xlink:title=\"(15) LVEDVOLUME\">\n",
       "<ellipse cx=\"1048.29\" cy=\"-162\" fill=\"#444444\" rx=\"72.2875\" ry=\"18\" stroke=\"black\"/>\n",
       "<text fill=\"#ffffff\" font-family=\"Times,serif\" font-size=\"14.00\" text-anchor=\"middle\" x=\"1048.29\" y=\"-158.3\">LVEDVOLUME</text>\n",
       "</a>\n",
       "</g>\n",
       "</g>\n",
       "<!-- HYPOVOLEMIA&#45;&gt;LVEDVOLUME -->\n",
       "<g class=\"edge\" id=\"edge30\"><title>HYPOVOLEMIA-&gt;LVEDVOLUME</title>\n",
       "<path d=\"M920.262,-217.983C944.839,-207.429 977.907,-193.228 1004.28,-181.902\" fill=\"none\" stroke=\"black\"/>\n",
       "<polygon fill=\"black\" points=\"1005.86,-185.034 1013.66,-177.872 1003.09,-178.602 1005.86,-185.034\" stroke=\"black\"/>\n",
       "</g>\n",
       "<!-- INTUBATION -->\n",
       "<g class=\"node\" id=\"node3\"><title>INTUBATION</title>\n",
       "<g id=\"a_node3\"><a xlink:title=\"(2) INTUBATION\">\n",
       "<ellipse cx=\"432.294\" cy=\"-594\" fill=\"#444444\" rx=\"64.9885\" ry=\"18\" stroke=\"black\"/>\n",
       "<text fill=\"#ffffff\" font-family=\"Times,serif\" font-size=\"14.00\" text-anchor=\"middle\" x=\"432.294\" y=\"-590.3\">INTUBATION</text>\n",
       "</a>\n",
       "</g>\n",
       "</g>\n",
       "<!-- SHUNT -->\n",
       "<g class=\"node\" id=\"node19\"><title>SHUNT</title>\n",
       "<g id=\"a_node19\"><a xlink:title=\"(18) SHUNT\">\n",
       "<ellipse cx=\"568.294\" cy=\"-522\" fill=\"#444444\" rx=\"40.0939\" ry=\"18\" stroke=\"black\"/>\n",
       "<text fill=\"#ffffff\" font-family=\"Times,serif\" font-size=\"14.00\" text-anchor=\"middle\" x=\"568.294\" y=\"-518.3\">SHUNT</text>\n",
       "</a>\n",
       "</g>\n",
       "</g>\n",
       "<!-- INTUBATION&#45;&gt;SHUNT -->\n",
       "<g class=\"edge\" id=\"edge33\"><title>INTUBATION-&gt;SHUNT</title>\n",
       "<path d=\"M461.804,-577.811C482.995,-566.904 511.621,-552.17 533.857,-540.725\" fill=\"none\" stroke=\"black\"/>\n",
       "<polygon fill=\"black\" points=\"535.666,-543.731 542.955,-536.042 532.462,-537.507 535.666,-543.731\" stroke=\"black\"/>\n",
       "</g>\n",
       "<!-- INTUBATION&#45;&gt;VENTLUNG -->\n",
       "<g class=\"edge\" id=\"edge28\"><title>INTUBATION-&gt;VENTLUNG</title>\n",
       "<path d=\"M405.082,-577.638C387.111,-567.493 363.374,-554.094 343.905,-543.103\" fill=\"none\" stroke=\"black\"/>\n",
       "<polygon fill=\"black\" points=\"345.445,-539.953 335.017,-538.085 342.004,-546.049 345.445,-539.953\" stroke=\"black\"/>\n",
       "</g>\n",
       "<!-- MINVOL -->\n",
       "<g class=\"node\" id=\"node24\"><title>MINVOL</title>\n",
       "<g id=\"a_node24\"><a xlink:title=\"(23) MINVOL\">\n",
       "<ellipse cx=\"312.294\" cy=\"-450\" fill=\"#444444\" rx=\"46.2923\" ry=\"18\" stroke=\"black\"/>\n",
       "<text fill=\"#ffffff\" font-family=\"Times,serif\" font-size=\"14.00\" text-anchor=\"middle\" x=\"312.294\" y=\"-446.3\">MINVOL</text>\n",
       "</a>\n",
       "</g>\n",
       "</g>\n",
       "<!-- INTUBATION&#45;&gt;MINVOL -->\n",
       "<g class=\"edge\" id=\"edge35\"><title>INTUBATION-&gt;MINVOL</title>\n",
       "<path d=\"M423.379,-575.882C413.174,-557.147 395.269,-526.751 375.294,-504 365.202,-492.505 352.537,-481.358 341.214,-472.277\" fill=\"none\" stroke=\"black\"/>\n",
       "<polygon fill=\"black\" points=\"343.296,-469.461 333.263,-466.055 338.981,-474.974 343.296,-469.461\" stroke=\"black\"/>\n",
       "</g>\n",
       "<!-- INTUBATION&#45;&gt;PRESS -->\n",
       "<g class=\"edge\" id=\"edge44\"><title>INTUBATION-&gt;PRESS</title>\n",
       "<path d=\"M386.049,-581.322C347.167,-571.228 290.252,-555.809 241.294,-540 238.56,-539.117 235.747,-538.171 232.923,-537.195\" fill=\"none\" stroke=\"black\"/>\n",
       "<polygon fill=\"black\" points=\"233.979,-533.856 223.384,-533.803 231.633,-540.451 233.979,-533.856\" stroke=\"black\"/>\n",
       "</g>\n",
       "<!-- VENTALV -->\n",
       "<g class=\"node\" id=\"node26\"><title>VENTALV</title>\n",
       "<g id=\"a_node26\"><a xlink:title=\"(25) VENTALV\">\n",
       "<ellipse cx=\"428.294\" cy=\"-450\" fill=\"#444444\" rx=\"51.9908\" ry=\"18\" stroke=\"black\"/>\n",
       "<text fill=\"#ffffff\" font-family=\"Times,serif\" font-size=\"14.00\" text-anchor=\"middle\" x=\"428.294\" y=\"-446.3\">VENTALV</text>\n",
       "</a>\n",
       "</g>\n",
       "</g>\n",
       "<!-- INTUBATION&#45;&gt;VENTALV -->\n",
       "<g class=\"edge\" id=\"edge5\"><title>INTUBATION-&gt;VENTALV</title>\n",
       "<path d=\"M431.812,-575.871C431.13,-551.67 429.878,-507.211 429.066,-478.393\" fill=\"none\" stroke=\"black\"/>\n",
       "<polygon fill=\"black\" points=\"432.559,-478.087 428.778,-468.189 425.561,-478.284 432.559,-478.087\" stroke=\"black\"/>\n",
       "</g>\n",
       "<!-- MINVOLSET -->\n",
       "<g class=\"node\" id=\"node4\"><title>MINVOLSET</title>\n",
       "<g id=\"a_node4\"><a xlink:title=\"(3) MINVOLSET\">\n",
       "<ellipse cx=\"211.294\" cy=\"-738\" fill=\"#444444\" rx=\"61.99\" ry=\"18\" stroke=\"black\"/>\n",
       "<text fill=\"#ffffff\" font-family=\"Times,serif\" font-size=\"14.00\" text-anchor=\"middle\" x=\"211.294\" y=\"-734.3\">MINVOLSET</text>\n",
       "</a>\n",
       "</g>\n",
       "</g>\n",
       "<!-- VENTMACH -->\n",
       "<g class=\"node\" id=\"node17\"><title>VENTMACH</title>\n",
       "<g id=\"a_node17\"><a xlink:title=\"(16) VENTMACH\">\n",
       "<ellipse cx=\"211.294\" cy=\"-666\" fill=\"#444444\" rx=\"61.1893\" ry=\"18\" stroke=\"black\"/>\n",
       "<text fill=\"#ffffff\" font-family=\"Times,serif\" font-size=\"14.00\" text-anchor=\"middle\" x=\"211.294\" y=\"-662.3\">VENTMACH</text>\n",
       "</a>\n",
       "</g>\n",
       "</g>\n",
       "<!-- MINVOLSET&#45;&gt;VENTMACH -->\n",
       "<g class=\"edge\" id=\"edge31\"><title>MINVOLSET-&gt;VENTMACH</title>\n",
       "<path d=\"M211.294,-719.697C211.294,-711.983 211.294,-702.712 211.294,-694.112\" fill=\"none\" stroke=\"black\"/>\n",
       "<polygon fill=\"black\" points=\"214.794,-694.104 211.294,-684.104 207.794,-694.104 214.794,-694.104\" stroke=\"black\"/>\n",
       "</g>\n",
       "<!-- PULMEMBOLUS -->\n",
       "<g class=\"node\" id=\"node5\"><title>PULMEMBOLUS</title>\n",
       "<g id=\"a_node5\"><a xlink:title=\"(4) PULMEMBOLUS\">\n",
       "<ellipse cx=\"633.294\" cy=\"-594\" fill=\"#444444\" rx=\"77.9862\" ry=\"18\" stroke=\"black\"/>\n",
       "<text fill=\"#ffffff\" font-family=\"Times,serif\" font-size=\"14.00\" text-anchor=\"middle\" x=\"633.294\" y=\"-590.3\">PULMEMBOLUS</text>\n",
       "</a>\n",
       "</g>\n",
       "</g>\n",
       "<!-- PAP -->\n",
       "<g class=\"node\" id=\"node13\"><title>PAP</title>\n",
       "<g id=\"a_node13\"><a xlink:title=\"(12) PAP\">\n",
       "<ellipse cx=\"653.294\" cy=\"-522\" fill=\"#444444\" rx=\"27\" ry=\"18\" stroke=\"black\"/>\n",
       "<text fill=\"#ffffff\" font-family=\"Times,serif\" font-size=\"14.00\" text-anchor=\"middle\" x=\"653.294\" y=\"-518.3\">PAP</text>\n",
       "</a>\n",
       "</g>\n",
       "</g>\n",
       "<!-- PULMEMBOLUS&#45;&gt;PAP -->\n",
       "<g class=\"edge\" id=\"edge2\"><title>PULMEMBOLUS-&gt;PAP</title>\n",
       "<path d=\"M638.238,-575.697C640.466,-567.898 643.149,-558.509 645.629,-549.829\" fill=\"none\" stroke=\"black\"/>\n",
       "<polygon fill=\"black\" points=\"649.025,-550.681 648.407,-540.104 642.295,-548.758 649.025,-550.681\" stroke=\"black\"/>\n",
       "</g>\n",
       "<!-- PULMEMBOLUS&#45;&gt;SHUNT -->\n",
       "<g class=\"edge\" id=\"edge26\"><title>PULMEMBOLUS-&gt;SHUNT</title>\n",
       "<path d=\"M617.559,-576.055C609.258,-567.115 598.948,-556.012 589.908,-546.276\" fill=\"none\" stroke=\"black\"/>\n",
       "<polygon fill=\"black\" points=\"592.362,-543.776 582.993,-538.829 587.233,-548.539 592.362,-543.776\" stroke=\"black\"/>\n",
       "</g>\n",
       "<!-- INSUFFANESTH -->\n",
       "<g class=\"node\" id=\"node6\"><title>INSUFFANESTH</title>\n",
       "<g id=\"a_node6\"><a xlink:title=\"(5) INSUFFANESTH\">\n",
       "<ellipse cx=\"644.294\" cy=\"-306\" fill=\"#444444\" rx=\"75.2868\" ry=\"18\" stroke=\"black\"/>\n",
       "<text fill=\"#ffffff\" font-family=\"Times,serif\" font-size=\"14.00\" text-anchor=\"middle\" x=\"644.294\" y=\"-302.3\">INSUFFANESTH</text>\n",
       "</a>\n",
       "</g>\n",
       "</g>\n",
       "<!-- CATECHOL -->\n",
       "<g class=\"node\" id=\"node31\"><title>CATECHOL</title>\n",
       "<g id=\"a_node31\"><a xlink:title=\"(30) CATECHOL\">\n",
       "<ellipse cx=\"632.294\" cy=\"-234\" fill=\"#444444\" rx=\"57.6901\" ry=\"18\" stroke=\"black\"/>\n",
       "<text fill=\"#ffffff\" font-family=\"Times,serif\" font-size=\"14.00\" text-anchor=\"middle\" x=\"632.294\" y=\"-230.3\">CATECHOL</text>\n",
       "</a>\n",
       "</g>\n",
       "</g>\n",
       "<!-- INSUFFANESTH&#45;&gt;CATECHOL -->\n",
       "<g class=\"edge\" id=\"edge22\"><title>INSUFFANESTH-&gt;CATECHOL</title>\n",
       "<path d=\"M641.328,-287.697C640.005,-279.983 638.416,-270.712 636.942,-262.112\" fill=\"none\" stroke=\"black\"/>\n",
       "<polygon fill=\"black\" points=\"640.366,-261.369 635.226,-252.104 633.466,-262.552 640.366,-261.369\" stroke=\"black\"/>\n",
       "</g>\n",
       "<!-- ERRLOWOUTPUT -->\n",
       "<g class=\"node\" id=\"node7\"><title>ERRLOWOUTPUT</title>\n",
       "<g id=\"a_node7\"><a xlink:title=\"(6) ERRLOWOUTPUT\">\n",
       "<ellipse cx=\"360.294\" cy=\"-162\" fill=\"#444444\" rx=\"83.3857\" ry=\"18\" stroke=\"black\"/>\n",
       "<text fill=\"#ffffff\" font-family=\"Times,serif\" font-size=\"14.00\" text-anchor=\"middle\" x=\"360.294\" y=\"-158.3\">ERRLOWOUTPUT</text>\n",
       "</a>\n",
       "</g>\n",
       "</g>\n",
       "<!-- HRBP -->\n",
       "<g class=\"node\" id=\"node33\"><title>HRBP</title>\n",
       "<g id=\"a_node33\"><a xlink:title=\"(32) HRBP\">\n",
       "<ellipse cx=\"397.294\" cy=\"-90\" fill=\"#444444\" rx=\"33.5952\" ry=\"18\" stroke=\"black\"/>\n",
       "<text fill=\"#ffffff\" font-family=\"Times,serif\" font-size=\"14.00\" text-anchor=\"middle\" x=\"397.294\" y=\"-86.3\">HRBP</text>\n",
       "</a>\n",
       "</g>\n",
       "</g>\n",
       "<!-- ERRLOWOUTPUT&#45;&gt;HRBP -->\n",
       "<g class=\"edge\" id=\"edge11\"><title>ERRLOWOUTPUT-&gt;HRBP</title>\n",
       "<path d=\"M369.251,-144.055C373.568,-135.887 378.841,-125.912 383.644,-116.824\" fill=\"none\" stroke=\"black\"/>\n",
       "<polygon fill=\"black\" points=\"386.841,-118.266 388.42,-107.789 380.652,-114.994 386.841,-118.266\" stroke=\"black\"/>\n",
       "</g>\n",
       "<!-- ERRCAUTER -->\n",
       "<g class=\"node\" id=\"node8\"><title>ERRCAUTER</title>\n",
       "<g id=\"a_node8\"><a xlink:title=\"(7) ERRCAUTER\">\n",
       "<ellipse cx=\"524.294\" cy=\"-162\" fill=\"#444444\" rx=\"63.0888\" ry=\"18\" stroke=\"black\"/>\n",
       "<text fill=\"#ffffff\" font-family=\"Times,serif\" font-size=\"14.00\" text-anchor=\"middle\" x=\"524.294\" y=\"-158.3\">ERRCAUTER</text>\n",
       "</a>\n",
       "</g>\n",
       "</g>\n",
       "<!-- HRSAT -->\n",
       "<g class=\"node\" id=\"node34\"><title>HRSAT</title>\n",
       "<g id=\"a_node34\"><a xlink:title=\"(33) HRSAT\">\n",
       "<ellipse cx=\"524.294\" cy=\"-90\" fill=\"#444444\" rx=\"39.7935\" ry=\"18\" stroke=\"black\"/>\n",
       "<text fill=\"#ffffff\" font-family=\"Times,serif\" font-size=\"14.00\" text-anchor=\"middle\" x=\"524.294\" y=\"-86.3\">HRSAT</text>\n",
       "</a>\n",
       "</g>\n",
       "</g>\n",
       "<!-- ERRCAUTER&#45;&gt;HRSAT -->\n",
       "<g class=\"edge\" id=\"edge42\"><title>ERRCAUTER-&gt;HRSAT</title>\n",
       "<path d=\"M524.294,-143.697C524.294,-135.983 524.294,-126.712 524.294,-118.112\" fill=\"none\" stroke=\"black\"/>\n",
       "<polygon fill=\"black\" points=\"527.794,-118.104 524.294,-108.104 520.794,-118.104 527.794,-118.104\" stroke=\"black\"/>\n",
       "</g>\n",
       "<!-- HREKG -->\n",
       "<g class=\"node\" id=\"node36\"><title>HREKG</title>\n",
       "<g id=\"a_node36\"><a xlink:title=\"(35) HREKG\">\n",
       "<ellipse cx=\"623.294\" cy=\"-90\" fill=\"#444444\" rx=\"40.8928\" ry=\"18\" stroke=\"black\"/>\n",
       "<text fill=\"#ffffff\" font-family=\"Times,serif\" font-size=\"14.00\" text-anchor=\"middle\" x=\"623.294\" y=\"-86.3\">HREKG</text>\n",
       "</a>\n",
       "</g>\n",
       "</g>\n",
       "<!-- ERRCAUTER&#45;&gt;HREKG -->\n",
       "<g class=\"edge\" id=\"edge13\"><title>ERRCAUTER-&gt;HREKG</title>\n",
       "<path d=\"M546.759,-145.116C560.779,-135.202 578.975,-122.337 594.106,-111.638\" fill=\"none\" stroke=\"black\"/>\n",
       "<polygon fill=\"black\" points=\"596.462,-114.259 602.606,-105.628 592.421,-108.543 596.462,-114.259\" stroke=\"black\"/>\n",
       "</g>\n",
       "<!-- FIO2 -->\n",
       "<g class=\"node\" id=\"node9\"><title>FIO2</title>\n",
       "<g id=\"a_node9\"><a xlink:title=\"(8) FIO2\">\n",
       "<ellipse cx=\"527.294\" cy=\"-450\" fill=\"#444444\" rx=\"29.4969\" ry=\"18\" stroke=\"black\"/>\n",
       "<text fill=\"#ffffff\" font-family=\"Times,serif\" font-size=\"14.00\" text-anchor=\"middle\" x=\"527.294\" y=\"-446.3\">FIO2</text>\n",
       "</a>\n",
       "</g>\n",
       "</g>\n",
       "<!-- PVSAT -->\n",
       "<g class=\"node\" id=\"node28\"><title>PVSAT</title>\n",
       "<g id=\"a_node28\"><a xlink:title=\"(27) PVSAT\">\n",
       "<ellipse cx=\"518.294\" cy=\"-378\" fill=\"#444444\" rx=\"38.1938\" ry=\"18\" stroke=\"black\"/>\n",
       "<text fill=\"#ffffff\" font-family=\"Times,serif\" font-size=\"14.00\" text-anchor=\"middle\" x=\"518.294\" y=\"-374.3\">PVSAT</text>\n",
       "</a>\n",
       "</g>\n",
       "</g>\n",
       "<!-- FIO2&#45;&gt;PVSAT -->\n",
       "<g class=\"edge\" id=\"edge43\"><title>FIO2-&gt;PVSAT</title>\n",
       "<path d=\"M525.069,-431.697C524.078,-423.983 522.886,-414.712 521.78,-406.112\" fill=\"none\" stroke=\"black\"/>\n",
       "<polygon fill=\"black\" points=\"525.24,-405.576 520.493,-396.104 518.297,-406.469 525.24,-405.576\" stroke=\"black\"/>\n",
       "</g>\n",
       "<!-- LVFAILURE -->\n",
       "<g class=\"node\" id=\"node10\"><title>LVFAILURE</title>\n",
       "<g id=\"a_node10\"><a xlink:title=\"(9) LVFAILURE\">\n",
       "<ellipse cx=\"1048.29\" cy=\"-234\" fill=\"#444444\" rx=\"59.5901\" ry=\"18\" stroke=\"black\"/>\n",
       "<text fill=\"#ffffff\" font-family=\"Times,serif\" font-size=\"14.00\" text-anchor=\"middle\" x=\"1048.29\" y=\"-230.3\">LVFAILURE</text>\n",
       "</a>\n",
       "</g>\n",
       "</g>\n",
       "<!-- LVFAILURE&#45;&gt;STROKEVOLUME -->\n",
       "<g class=\"edge\" id=\"edge15\"><title>LVFAILURE-&gt;STROKEVOLUME</title>\n",
       "<path d=\"M1014.11,-219.17C987.839,-208.538 951.246,-193.732 922.226,-181.99\" fill=\"none\" stroke=\"black\"/>\n",
       "<polygon fill=\"black\" points=\"923.284,-178.642 912.701,-178.136 920.658,-185.131 923.284,-178.642\" stroke=\"black\"/>\n",
       "</g>\n",
       "<!-- LVFAILURE&#45;&gt;LVEDVOLUME -->\n",
       "<g class=\"edge\" id=\"edge32\"><title>LVFAILURE-&gt;LVEDVOLUME</title>\n",
       "<path d=\"M1048.29,-215.697C1048.29,-207.983 1048.29,-198.712 1048.29,-190.112\" fill=\"none\" stroke=\"black\"/>\n",
       "<polygon fill=\"black\" points=\"1051.79,-190.104 1048.29,-180.104 1044.79,-190.104 1051.79,-190.104\" stroke=\"black\"/>\n",
       "</g>\n",
       "<!-- HISTORY -->\n",
       "<g class=\"node\" id=\"node20\"><title>HISTORY</title>\n",
       "<g id=\"a_node20\"><a xlink:title=\"(19) HISTORY\">\n",
       "<ellipse cx=\"1187.29\" cy=\"-162\" fill=\"#444444\" rx=\"48.9926\" ry=\"18\" stroke=\"black\"/>\n",
       "<text fill=\"#ffffff\" font-family=\"Times,serif\" font-size=\"14.00\" text-anchor=\"middle\" x=\"1187.29\" y=\"-158.3\">HISTORY</text>\n",
       "</a>\n",
       "</g>\n",
       "</g>\n",
       "<!-- LVFAILURE&#45;&gt;HISTORY -->\n",
       "<g class=\"edge\" id=\"edge29\"><title>LVFAILURE-&gt;HISTORY</title>\n",
       "<path d=\"M1077.77,-218.155C1099.07,-207.432 1127.96,-192.88 1150.72,-181.416\" fill=\"none\" stroke=\"black\"/>\n",
       "<polygon fill=\"black\" points=\"1152.39,-184.495 1159.75,-176.872 1149.24,-178.243 1152.39,-184.495\" stroke=\"black\"/>\n",
       "</g>\n",
       "<!-- DISCONNECT -->\n",
       "<g class=\"node\" id=\"node11\"><title>DISCONNECT</title>\n",
       "<g id=\"a_node11\"><a xlink:title=\"(10) DISCONNECT\">\n",
       "<ellipse cx=\"66.2941\" cy=\"-666\" fill=\"#444444\" rx=\"66.0889\" ry=\"18\" stroke=\"black\"/>\n",
       "<text fill=\"#ffffff\" font-family=\"Times,serif\" font-size=\"14.00\" text-anchor=\"middle\" x=\"66.2941\" y=\"-662.3\">DISCONNECT</text>\n",
       "</a>\n",
       "</g>\n",
       "</g>\n",
       "<!-- VENTTUBE -->\n",
       "<g class=\"node\" id=\"node21\"><title>VENTTUBE</title>\n",
       "<g id=\"a_node21\"><a xlink:title=\"(20) VENTTUBE\">\n",
       "<ellipse cx=\"138.294\" cy=\"-594\" fill=\"#444444\" rx=\"57.3905\" ry=\"18\" stroke=\"black\"/>\n",
       "<text fill=\"#ffffff\" font-family=\"Times,serif\" font-size=\"14.00\" text-anchor=\"middle\" x=\"138.294\" y=\"-590.3\">VENTTUBE</text>\n",
       "</a>\n",
       "</g>\n",
       "</g>\n",
       "<!-- DISCONNECT&#45;&gt;VENTTUBE -->\n",
       "<g class=\"edge\" id=\"edge1\"><title>DISCONNECT-&gt;VENTTUBE</title>\n",
       "<path d=\"M83.3571,-648.411C92.5032,-639.519 103.929,-628.411 113.988,-618.631\" fill=\"none\" stroke=\"black\"/>\n",
       "<polygon fill=\"black\" points=\"116.623,-620.95 121.354,-611.47 111.744,-615.931 116.623,-620.95\" stroke=\"black\"/>\n",
       "</g>\n",
       "<!-- ANAPHYLAXIS -->\n",
       "<g class=\"node\" id=\"node12\"><title>ANAPHYLAXIS</title>\n",
       "<g id=\"a_node12\"><a xlink:title=\"(11) ANAPHYLAXIS\">\n",
       "<ellipse cx=\"764.294\" cy=\"-378\" fill=\"#444444\" rx=\"73.387\" ry=\"18\" stroke=\"black\"/>\n",
       "<text fill=\"#ffffff\" font-family=\"Times,serif\" font-size=\"14.00\" text-anchor=\"middle\" x=\"764.294\" y=\"-374.3\">ANAPHYLAXIS</text>\n",
       "</a>\n",
       "</g>\n",
       "</g>\n",
       "<!-- TPR -->\n",
       "<g class=\"node\" id=\"node15\"><title>TPR</title>\n",
       "<g id=\"a_node15\"><a xlink:title=\"(14) TPR\">\n",
       "<ellipse cx=\"764.294\" cy=\"-306\" fill=\"#444444\" rx=\"27\" ry=\"18\" stroke=\"black\"/>\n",
       "<text fill=\"#ffffff\" font-family=\"Times,serif\" font-size=\"14.00\" text-anchor=\"middle\" x=\"764.294\" y=\"-302.3\">TPR</text>\n",
       "</a>\n",
       "</g>\n",
       "</g>\n",
       "<!-- ANAPHYLAXIS&#45;&gt;TPR -->\n",
       "<g class=\"edge\" id=\"edge16\"><title>ANAPHYLAXIS-&gt;TPR</title>\n",
       "<path d=\"M764.294,-359.697C764.294,-351.983 764.294,-342.712 764.294,-334.112\" fill=\"none\" stroke=\"black\"/>\n",
       "<polygon fill=\"black\" points=\"767.794,-334.104 764.294,-324.104 760.794,-334.104 767.794,-334.104\" stroke=\"black\"/>\n",
       "</g>\n",
       "<!-- CO -->\n",
       "<g class=\"node\" id=\"node35\"><title>CO</title>\n",
       "<g id=\"a_node35\"><a xlink:title=\"(34) CO\">\n",
       "<ellipse cx=\"709.294\" cy=\"-90\" fill=\"#444444\" rx=\"27\" ry=\"18\" stroke=\"black\"/>\n",
       "<text fill=\"#ffffff\" font-family=\"Times,serif\" font-size=\"14.00\" text-anchor=\"middle\" x=\"709.294\" y=\"-86.3\">CO</text>\n",
       "</a>\n",
       "</g>\n",
       "</g>\n",
       "<!-- STROKEVOLUME&#45;&gt;CO -->\n",
       "<g class=\"edge\" id=\"edge17\"><title>STROKEVOLUME-&gt;CO</title>\n",
       "<path d=\"M838.865,-145.638C809.667,-133.326 769.101,-116.22 741.177,-104.445\" fill=\"none\" stroke=\"black\"/>\n",
       "<polygon fill=\"black\" points=\"742.441,-101.179 731.867,-100.518 739.721,-107.629 742.441,-101.179\" stroke=\"black\"/>\n",
       "</g>\n",
       "<!-- TPR&#45;&gt;CATECHOL -->\n",
       "<g class=\"edge\" id=\"edge41\"><title>TPR-&gt;CATECHOL</title>\n",
       "<path d=\"M743.669,-294.062C723.866,-283.561 693.5,-267.457 669.474,-254.717\" fill=\"none\" stroke=\"black\"/>\n",
       "<polygon fill=\"black\" points=\"671.086,-251.61 660.611,-250.017 667.806,-257.794 671.086,-251.61\" stroke=\"black\"/>\n",
       "</g>\n",
       "<!-- BP -->\n",
       "<g class=\"node\" id=\"node37\"><title>BP</title>\n",
       "<g id=\"a_node37\"><a xlink:title=\"(36) BP\">\n",
       "<ellipse cx=\"736.294\" cy=\"-18\" fill=\"#444444\" rx=\"27\" ry=\"18\" stroke=\"black\"/>\n",
       "<text fill=\"#ffffff\" font-family=\"Times,serif\" font-size=\"14.00\" text-anchor=\"middle\" x=\"736.294\" y=\"-14.3\">BP</text>\n",
       "</a>\n",
       "</g>\n",
       "</g>\n",
       "<!-- TPR&#45;&gt;BP -->\n",
       "<g class=\"edge\" id=\"edge4\"><title>TPR-&gt;BP</title>\n",
       "<path d=\"M763.415,-287.992C761.311,-249.448 755.397,-152.54 745.294,-72 744.232,-63.5353 742.781,-54.3584 741.355,-46.0571\" fill=\"none\" stroke=\"black\"/>\n",
       "<polygon fill=\"black\" points=\"744.786,-45.3636 739.591,-36.1299 737.894,-46.5879 744.786,-45.3636\" stroke=\"black\"/>\n",
       "</g>\n",
       "<!-- PCWP -->\n",
       "<g class=\"node\" id=\"node18\"><title>PCWP</title>\n",
       "<g id=\"a_node18\"><a xlink:title=\"(17) PCWP\">\n",
       "<ellipse cx=\"1088.29\" cy=\"-90\" fill=\"#444444\" rx=\"35.194\" ry=\"18\" stroke=\"black\"/>\n",
       "<text fill=\"#ffffff\" font-family=\"Times,serif\" font-size=\"14.00\" text-anchor=\"middle\" x=\"1088.29\" y=\"-86.3\">PCWP</text>\n",
       "</a>\n",
       "</g>\n",
       "</g>\n",
       "<!-- LVEDVOLUME&#45;&gt;PCWP -->\n",
       "<g class=\"edge\" id=\"edge25\"><title>LVEDVOLUME-&gt;PCWP</title>\n",
       "<path d=\"M1057.98,-144.055C1062.69,-135.801 1068.46,-125.701 1073.7,-116.538\" fill=\"none\" stroke=\"black\"/>\n",
       "<polygon fill=\"black\" points=\"1076.78,-118.208 1078.7,-107.789 1070.7,-114.735 1076.78,-118.208\" stroke=\"black\"/>\n",
       "</g>\n",
       "<!-- CVP -->\n",
       "<g class=\"node\" id=\"node22\"><title>CVP</title>\n",
       "<g id=\"a_node22\"><a xlink:title=\"(21) CVP\">\n",
       "<ellipse cx=\"1007.29\" cy=\"-90\" fill=\"#444444\" rx=\"27.8951\" ry=\"18\" stroke=\"black\"/>\n",
       "<text fill=\"#ffffff\" font-family=\"Times,serif\" font-size=\"14.00\" text-anchor=\"middle\" x=\"1007.29\" y=\"-86.3\">CVP</text>\n",
       "</a>\n",
       "</g>\n",
       "</g>\n",
       "<!-- LVEDVOLUME&#45;&gt;CVP -->\n",
       "<g class=\"edge\" id=\"edge14\"><title>LVEDVOLUME-&gt;CVP</title>\n",
       "<path d=\"M1038.37,-144.055C1033.46,-135.679 1027.45,-125.404 1022.02,-116.134\" fill=\"none\" stroke=\"black\"/>\n",
       "<polygon fill=\"black\" points=\"1024.92,-114.167 1016.85,-107.307 1018.88,-117.705 1024.92,-114.167\" stroke=\"black\"/>\n",
       "</g>\n",
       "<!-- VENTMACH&#45;&gt;VENTTUBE -->\n",
       "<g class=\"edge\" id=\"edge27\"><title>VENTMACH-&gt;VENTTUBE</title>\n",
       "<path d=\"M193.994,-648.411C184.654,-639.455 172.969,-628.25 162.716,-618.419\" fill=\"none\" stroke=\"black\"/>\n",
       "<polygon fill=\"black\" points=\"164.858,-615.623 155.218,-611.228 160.014,-620.676 164.858,-615.623\" stroke=\"black\"/>\n",
       "</g>\n",
       "<!-- SAO2 -->\n",
       "<g class=\"node\" id=\"node29\"><title>SAO2</title>\n",
       "<g id=\"a_node29\"><a xlink:title=\"(28) SAO2\">\n",
       "<ellipse cx=\"518.294\" cy=\"-306\" fill=\"#444444\" rx=\"32.4942\" ry=\"18\" stroke=\"black\"/>\n",
       "<text fill=\"#ffffff\" font-family=\"Times,serif\" font-size=\"14.00\" text-anchor=\"middle\" x=\"518.294\" y=\"-302.3\">SAO2</text>\n",
       "</a>\n",
       "</g>\n",
       "</g>\n",
       "<!-- SHUNT&#45;&gt;SAO2 -->\n",
       "<g class=\"edge\" id=\"edge45\"><title>SHUNT-&gt;SAO2</title>\n",
       "<path d=\"M571.732,-503.803C576.983,-473.519 584.502,-409.222 565.294,-360 560.661,-348.126 552.076,-337.18 543.498,-328.356\" fill=\"none\" stroke=\"black\"/>\n",
       "<polygon fill=\"black\" points=\"545.687,-325.605 536.061,-321.178 540.826,-330.641 545.687,-325.605\" stroke=\"black\"/>\n",
       "</g>\n",
       "<!-- VENTTUBE&#45;&gt;VENTLUNG -->\n",
       "<g class=\"edge\" id=\"edge19\"><title>VENTTUBE-&gt;VENTLUNG</title>\n",
       "<path d=\"M171.475,-579.337C198.214,-568.327 236.015,-552.762 265.111,-540.781\" fill=\"none\" stroke=\"black\"/>\n",
       "<polygon fill=\"black\" points=\"266.701,-543.912 274.616,-536.868 264.036,-537.439 266.701,-543.912\" stroke=\"black\"/>\n",
       "</g>\n",
       "<!-- VENTTUBE&#45;&gt;PRESS -->\n",
       "<g class=\"edge\" id=\"edge40\"><title>VENTTUBE-&gt;PRESS</title>\n",
       "<path d=\"M151.802,-576.411C159.004,-567.567 167.991,-556.531 175.923,-546.789\" fill=\"none\" stroke=\"black\"/>\n",
       "<polygon fill=\"black\" points=\"178.675,-548.952 182.275,-538.988 173.247,-544.532 178.675,-548.952\" stroke=\"black\"/>\n",
       "</g>\n",
       "<!-- VENTLUNG&#45;&gt;MINVOL -->\n",
       "<g class=\"edge\" id=\"edge18\"><title>VENTLUNG-&gt;MINVOL</title>\n",
       "<path d=\"M309.283,-503.697C309.724,-495.983 310.253,-486.712 310.745,-478.112\" fill=\"none\" stroke=\"black\"/>\n",
       "<polygon fill=\"black\" points=\"314.24,-478.288 311.317,-468.104 307.252,-477.888 314.24,-478.288\" stroke=\"black\"/>\n",
       "</g>\n",
       "<!-- VENTLUNG&#45;&gt;VENTALV -->\n",
       "<g class=\"edge\" id=\"edge39\"><title>VENTLUNG-&gt;VENTALV</title>\n",
       "<path d=\"M334.332,-505.811C351.827,-495.606 375.067,-482.049 394.056,-470.972\" fill=\"none\" stroke=\"black\"/>\n",
       "<polygon fill=\"black\" points=\"395.845,-473.981 402.719,-465.919 392.318,-467.934 395.845,-473.981\" stroke=\"black\"/>\n",
       "</g>\n",
       "<!-- EXPCO2 -->\n",
       "<g class=\"node\" id=\"node30\"><title>EXPCO2</title>\n",
       "<g id=\"a_node30\"><a xlink:title=\"(29) EXPCO2\">\n",
       "<ellipse cx=\"312.294\" cy=\"-306\" fill=\"#444444\" rx=\"44.393\" ry=\"18\" stroke=\"black\"/>\n",
       "<text fill=\"#ffffff\" font-family=\"Times,serif\" font-size=\"14.00\" text-anchor=\"middle\" x=\"312.294\" y=\"-302.3\">EXPCO2</text>\n",
       "</a>\n",
       "</g>\n",
       "</g>\n",
       "<!-- VENTLUNG&#45;&gt;EXPCO2 -->\n",
       "<g class=\"edge\" id=\"edge34\"><title>VENTLUNG-&gt;EXPCO2</title>\n",
       "<path d=\"M286.585,-505.199C275.56,-495.788 263.26,-482.805 257.294,-468 251.314,-453.16 254.002,-447.658 257.294,-432 264.917,-395.745 283.726,-357.178 297.224,-332.629\" fill=\"none\" stroke=\"black\"/>\n",
       "<polygon fill=\"black\" points=\"300.433,-334.064 302.281,-323.632 294.33,-330.635 300.433,-334.064\" stroke=\"black\"/>\n",
       "</g>\n",
       "<!-- ARTCO2 -->\n",
       "<g class=\"node\" id=\"node27\"><title>ARTCO2</title>\n",
       "<g id=\"a_node27\"><a xlink:title=\"(26) ARTCO2\">\n",
       "<ellipse cx=\"417.294\" cy=\"-378\" fill=\"#444444\" rx=\"44.6926\" ry=\"18\" stroke=\"black\"/>\n",
       "<text fill=\"#ffffff\" font-family=\"Times,serif\" font-size=\"14.00\" text-anchor=\"middle\" x=\"417.294\" y=\"-374.3\">ARTCO2</text>\n",
       "</a>\n",
       "</g>\n",
       "</g>\n",
       "<!-- VENTALV&#45;&gt;ARTCO2 -->\n",
       "<g class=\"edge\" id=\"edge8\"><title>VENTALV-&gt;ARTCO2</title>\n",
       "<path d=\"M425.575,-431.697C424.363,-423.983 422.906,-414.712 421.555,-406.112\" fill=\"none\" stroke=\"black\"/>\n",
       "<polygon fill=\"black\" points=\"424.992,-405.44 419.982,-396.104 418.077,-406.526 424.992,-405.44\" stroke=\"black\"/>\n",
       "</g>\n",
       "<!-- VENTALV&#45;&gt;PVSAT -->\n",
       "<g class=\"edge\" id=\"edge20\"><title>VENTALV-&gt;PVSAT</title>\n",
       "<path d=\"M448.717,-433.116C461.258,-423.362 477.472,-410.75 491.094,-400.156\" fill=\"none\" stroke=\"black\"/>\n",
       "<polygon fill=\"black\" points=\"493.439,-402.766 499.183,-393.864 489.141,-397.241 493.439,-402.766\" stroke=\"black\"/>\n",
       "</g>\n",
       "<!-- ARTCO2&#45;&gt;EXPCO2 -->\n",
       "<g class=\"edge\" id=\"edge9\"><title>ARTCO2-&gt;EXPCO2</title>\n",
       "<path d=\"M395.026,-362.155C379.852,-352.039 359.567,-338.515 342.881,-327.391\" fill=\"none\" stroke=\"black\"/>\n",
       "<polygon fill=\"black\" points=\"344.792,-324.459 334.53,-321.824 340.909,-330.283 344.792,-324.459\" stroke=\"black\"/>\n",
       "</g>\n",
       "<!-- ARTCO2&#45;&gt;CATECHOL -->\n",
       "<g class=\"edge\" id=\"edge23\"><title>ARTCO2-&gt;CATECHOL</title>\n",
       "<path d=\"M424.543,-360.137C433.937,-340.188 452.143,-307.261 477.294,-288 505.105,-266.702 542.035,-253.63 572.871,-245.798\" fill=\"none\" stroke=\"black\"/>\n",
       "<polygon fill=\"black\" points=\"573.751,-249.186 582.65,-243.435 572.107,-242.382 573.751,-249.186\" stroke=\"black\"/>\n",
       "</g>\n",
       "<!-- PVSAT&#45;&gt;SAO2 -->\n",
       "<g class=\"edge\" id=\"edge21\"><title>PVSAT-&gt;SAO2</title>\n",
       "<path d=\"M518.294,-359.697C518.294,-351.983 518.294,-342.712 518.294,-334.112\" fill=\"none\" stroke=\"black\"/>\n",
       "<polygon fill=\"black\" points=\"521.794,-334.104 518.294,-324.104 514.794,-334.104 521.794,-334.104\" stroke=\"black\"/>\n",
       "</g>\n",
       "<!-- SAO2&#45;&gt;CATECHOL -->\n",
       "<g class=\"edge\" id=\"edge10\"><title>SAO2-&gt;CATECHOL</title>\n",
       "<path d=\"M539.203,-292.161C555.74,-282.007 579.16,-267.626 598.372,-255.829\" fill=\"none\" stroke=\"black\"/>\n",
       "<polygon fill=\"black\" points=\"600.449,-258.661 607.14,-250.446 596.786,-252.696 600.449,-258.661\" stroke=\"black\"/>\n",
       "</g>\n",
       "<!-- HR -->\n",
       "<g class=\"node\" id=\"node32\"><title>HR</title>\n",
       "<g id=\"a_node32\"><a xlink:title=\"(31) HR\">\n",
       "<ellipse cx=\"632.294\" cy=\"-162\" fill=\"#444444\" rx=\"27\" ry=\"18\" stroke=\"black\"/>\n",
       "<text fill=\"#ffffff\" font-family=\"Times,serif\" font-size=\"14.00\" text-anchor=\"middle\" x=\"632.294\" y=\"-158.3\">HR</text>\n",
       "</a>\n",
       "</g>\n",
       "</g>\n",
       "<!-- CATECHOL&#45;&gt;HR -->\n",
       "<g class=\"edge\" id=\"edge3\"><title>CATECHOL-&gt;HR</title>\n",
       "<path d=\"M632.294,-215.697C632.294,-207.983 632.294,-198.712 632.294,-190.112\" fill=\"none\" stroke=\"black\"/>\n",
       "<polygon fill=\"black\" points=\"635.794,-190.104 632.294,-180.104 628.794,-190.104 635.794,-190.104\" stroke=\"black\"/>\n",
       "</g>\n",
       "<!-- HR&#45;&gt;HRBP -->\n",
       "<g class=\"edge\" id=\"edge37\"><title>HR-&gt;HRBP</title>\n",
       "<path d=\"M611.245,-150.282C606.404,-148.036 601.227,-145.805 596.294,-144 542.745,-124.409 478.683,-108.658 437.989,-99.5656\" fill=\"none\" stroke=\"black\"/>\n",
       "<polygon fill=\"black\" points=\"438.686,-96.1354 428.167,-97.3993 437.179,-102.971 438.686,-96.1354\" stroke=\"black\"/>\n",
       "</g>\n",
       "<!-- HR&#45;&gt;HRSAT -->\n",
       "<g class=\"edge\" id=\"edge46\"><title>HR-&gt;HRSAT</title>\n",
       "<path d=\"M613.482,-148.807C597.309,-138.324 573.676,-123.007 554.8,-110.773\" fill=\"none\" stroke=\"black\"/>\n",
       "<polygon fill=\"black\" points=\"556.534,-107.725 546.239,-105.224 552.727,-113.6 556.534,-107.725\" stroke=\"black\"/>\n",
       "</g>\n",
       "<!-- HR&#45;&gt;CO -->\n",
       "<g class=\"edge\" id=\"edge12\"><title>HR-&gt;CO</title>\n",
       "<path d=\"M647.876,-146.834C658.907,-136.806 673.884,-123.191 686.287,-111.916\" fill=\"none\" stroke=\"black\"/>\n",
       "<polygon fill=\"black\" points=\"688.953,-114.222 693.998,-104.906 684.244,-109.043 688.953,-114.222\" stroke=\"black\"/>\n",
       "</g>\n",
       "<!-- HR&#45;&gt;HREKG -->\n",
       "<g class=\"edge\" id=\"edge24\"><title>HR-&gt;HREKG</title>\n",
       "<path d=\"M630.115,-144.055C629.124,-136.346 627.926,-127.027 626.812,-118.364\" fill=\"none\" stroke=\"black\"/>\n",
       "<polygon fill=\"black\" points=\"630.262,-117.747 625.515,-108.275 623.319,-118.64 630.262,-117.747\" stroke=\"black\"/>\n",
       "</g>\n",
       "<!-- CO&#45;&gt;BP -->\n",
       "<g class=\"edge\" id=\"edge38\"><title>CO-&gt;BP</title>\n",
       "<path d=\"M715.693,-72.411C718.808,-64.3352 722.628,-54.4312 726.129,-45.3547\" fill=\"none\" stroke=\"black\"/>\n",
       "<polygon fill=\"black\" points=\"729.421,-46.5458 729.754,-35.9562 722.89,-44.0267 729.421,-46.5458\" stroke=\"black\"/>\n",
       "</g>\n",
       "</g>\n",
       "</svg></div>"
      ],
      "text/plain": [
       "<IPython.core.display.HTML object>"
      ]
     },
     "metadata": {},
     "output_type": "display_data"
    }
   ],
   "source": [
    "gnb.showBN(bn,size=\"7\")"
   ]
  },
  {
   "cell_type": "markdown",
   "metadata": {},
   "source": [
    "Results of inference\n",
    "====================\n",
    "\n",
    "It is easy to look at result of inference"
   ]
  },
  {
   "cell_type": "code",
   "execution_count": 10,
   "metadata": {
    "collapsed": false
   },
   "outputs": [
    {
     "data": {
      "image/png": "[encoded data removed]",
      "text/plain": [
       "<matplotlib.figure.Figure at 0x7fc309a78550>"
      ]
     },
     "metadata": {},
     "output_type": "display_data"
    }
   ],
   "source": [
    "gnb.showPosterior(bn,{'SHUNT':'HIGH'},'PRESS')"
   ]
  },
  {
   "cell_type": "code",
   "execution_count": 11,
   "metadata": {
    "collapsed": false
   },
   "outputs": [
    {
     "data": {
      "image/png": "[encoded data removed]",
      "text/plain": [
       "<matplotlib.figure.Figure at 0x7fc309b22470>"
      ]
     },
     "metadata": {},
     "output_type": "display_data"
    }
   ],
   "source": [
    "gnb.showPosterior(bn,{'MINVOLSET':'NORMAL'},'VENTALV')"
   ]
  },
  {
   "cell_type": "markdown",
   "metadata": {},
   "source": [
    "Result of inferences\n",
    "====================\n",
    "\n",
    "It is also easy to use inference as a routine in more complex procedure."
   ]
  },
  {
   "cell_type": "code",
   "execution_count": 12,
   "metadata": {
    "collapsed": false
   },
   "outputs": [
    {
     "data": {
      "image/png": "[encoded data removed]",
      "text/plain": [
       "<matplotlib.figure.Figure at 0x7fc309adac18>"
      ]
     },
     "metadata": {},
     "output_type": "display_data"
    }
   ],
   "source": [
    "r=range(0,100,2)\n",
    "xs=[x/100.0 for x in r]\n",
    "ys=[gnb.getPosterior(bn,{'MINVOLSET':[0,x/100.0,0.5]},'VENTALV').tolist() \n",
    "        for x in r]\n",
    "p=plot(xs,ys)\n",
    "legend(p,[bn.variableFromName('VENTALV').label(i) \n",
    "          for i in range(bn.variableFromName('VENTALV').domainSize())],loc=7);\n",
    "title('VENTALV');\n",
    "ylabel('posterior Probability');\n",
    "xlabel('Evidence on MINVOLSET : [0,x,0.5]');"
   ]
  },
  {
   "cell_type": "markdown",
   "metadata": {},
   "source": [
    "Another example : python gives access to a large set of tools. Here the value for the equality of two probabilities of a posterior is easely computed."
   ]
  },
  {
   "cell_type": "code",
   "execution_count": 13,
   "metadata": {
    "collapsed": false
   },
   "outputs": [
    {
     "data": {
      "image/png": "[encoded data removed]",
      "text/plain": [
       "<matplotlib.figure.Figure at 0x7fc309a3d0b8>"
      ]
     },
     "metadata": {},
     "output_type": "display_data"
    }
   ],
   "source": [
    "x=[p/100.0 for p in range(0,100)]\n",
    "y=[gnb.getPosterior(bn,{'HRBP':[1.0-p/100.0,1.0-p/100.0,p/100.0]},'TPR').tolist() \n",
    "   for p in range(0,100)]\n",
    "p=plot(x,y)\n",
    "title(bn.property('name'));\n",
    "v=bn.variableFromName('TPR');\n",
    "legend([v.label(i) for i in range(v.domainSize())],loc='best');\n",
    "np1=(transpose(y)[0]>transpose(y)[2]).argmin()\n",
    "text(x[np1]-0.05,y[np1][0]+0.005,str(x[np1]),bbox=dict(facecolor='red', alpha=0.1));"
   ]
  },
  {
   "cell_type": "markdown",
   "metadata": {},
   "source": [
    "BN as classifier\n",
    "================"
   ]
  },
  {
   "cell_type": "markdown",
   "metadata": {},
   "source": [
    "Generation of databases\n",
    "-----------------------\n",
    "\n",
    "Using CSV format for database,"
   ]
  },
  {
   "cell_type": "code",
   "execution_count": 14,
   "metadata": {
    "collapsed": false
   },
   "outputs": [
    {
     "name": "stdout",
     "output_type": "stream",
     "text": [
      " test.csv : [ ################################################################ ] 100%\n",
      "Log2-Likelihood : -15303.431183955387\n",
      "\n"
     ]
    },
    {
     "data": {
      "text/plain": [
       "-15303.431183955387"
      ]
     },
     "execution_count": 14,
     "metadata": {},
     "output_type": "execute_result"
    }
   ],
   "source": [
    "from pyAgrum.lib.bn2csv import generateCSV\n",
    "\n",
    "generateCSV(bn,\"test.csv\",1000,True)"
   ]
  },
  {
   "cell_type": "code",
   "execution_count": 15,
   "metadata": {
    "collapsed": false
   },
   "outputs": [
    {
     "name": "stdout",
     "output_type": "stream",
     "text": [
      "ANAPHYLAXIS,TPR,DISCONNECT,LVFAILURE,HISTORY,FIO2,ERRCAUTER,ERRLOWOUTPUT,INSUFFANESTH,PULMEMBOLUS,PAP,MINVOLSET,VENTMACH,VENTTUBE,INTUBATION,SHUNT,HYPOVOLEMIA,STROKEVOLUME,LVEDVOLUME,PCWP,CVP,KINKEDTUBE,VENTLUNG,MINVOL,VENTALV,ARTCO2,EXPCO2,PVSAT,SAO2,CATECHOL,HR,CO,BP,HRSAT,HREKG,HRBP,PRESS\n",
      "1,1,1,1,1,1,1,1,1,1,1,1,2,1,0,0,1,1,1,1,1,1,0,0,0,2,1,0,0,1,2,2,1,2,2,2,2\n",
      "1,2,1,1,1,1,1,1,1,1,1,2,3,3,0,0,1,1,1,1,1,1,1,1,1,2,2,1,0,1,2,2,2,2,2,2,3\n",
      "1,0,1,1,1,1,1,0,1,1,1,1,2,1,0,0,1,1,1,1,1,1,3,0,1,2,3,1,0,1,2,2,0,2,2,1,3\n",
      "1,1,1,1,1,1,1,1,1,1,2,1,2,1,2,1,1,1,1,1,1,1,0,1,2,1,1,0,0,1,2,1,0,2,2,2,1\n",
      "1,0,1,1,1,1,0,1,1,1,1,1,2,1,1,0,1,1,1,1,0,1,1,1,1,2,2,1,0,1,2,2,2,1,0,2,1\n",
      "1,1,1,1,1,0,1,1,1,1,0,1,2,1,0,1,0,0,2,2,1,1,0,0,0,2,1,0,0,1,2,0,0,2,2,2,3\n",
      "1,0,1,1,1,1,1,1,1,1,1,1,2,1,0,0,1,1,1,1,1,1,0,0,0,2,1,0,0,1,1,1,0,0,2,2,3\n",
      "1,2,1,1,1,1,1,1,1,1,1,1,2,1,0,0,1,1,1,1,1,1,0,0,0,2,1,0,0,1,2,2,2,2,2,2,3\n",
      "1,2,1,1,1,1,1,1,1,1,1,0,1,0,0,0,1,1,1,1,1,1,0,0,0,2,1,0,0,1,1,1,2,0,2,0,0\n",
      "\n"
     ]
    }
   ],
   "source": [
    "from pyAgrum.lib.utils import oslike\n",
    "oslike.head('test.csv')"
   ]
  },
  {
   "cell_type": "markdown",
   "metadata": {},
   "source": [
    "BN as a classifier\n",
    "------------------\n",
    "\n",
    "(because of the use of from-bn-generated csv files, quite good ROC curves are expected)"
   ]
  },
  {
   "cell_type": "code",
   "execution_count": 16,
   "metadata": {
    "collapsed": false
   },
   "outputs": [
    {
     "name": "stdout",
     "output_type": "stream",
     "text": [
      " test.csv : [ ################################################################ ] 100%\n",
      " result in roc_alarm.dsl-test.csv-CATECHOL-HIGH.png\n"
     ]
    },
    {
     "data": {
      "image/png": "[encoded data removed]",
      "text/plain": [
       "<matplotlib.figure.Figure at 0x7fc309aa8c88>"
      ]
     },
     "metadata": {},
     "output_type": "display_data"
    }
   ],
   "source": [
    "from pyAgrum.lib.bn2roc import showROC\n",
    "showROC(bn,\"test.csv\",\n",
    "        variable='CATECHOL',label='HIGH',  # class and label \n",
    "        visible=True,show_fig=True)        "
   ]
  },
  {
   "cell_type": "markdown",
   "metadata": {},
   "source": [
    "Using another class variable"
   ]
  },
  {
   "cell_type": "code",
   "execution_count": 17,
   "metadata": {
    "collapsed": false
   },
   "outputs": [
    {
     "name": "stdout",
     "output_type": "stream",
     "text": [
      " test.csv : [ ################################################################ ] 100%\n",
      " result in roc_alarm.dsl-test.csv-SAO2-HIGH.png\n"
     ]
    },
    {
     "data": {
      "image/png": "[encoded data removed]",
      "text/plain": [
       "<matplotlib.figure.Figure at 0x7fc309753cf8>"
      ]
     },
     "metadata": {},
     "output_type": "display_data"
    }
   ],
   "source": [
    "showROC(bn,\"test.csv\",'SAO2','HIGH',True,True)"
   ]
  },
  {
   "cell_type": "code",
   "execution_count": null,
   "metadata": {
    "collapsed": true
   },
   "outputs": [],
   "source": []
  }
 ],
 "metadata": {
  "kernelspec": {
   "display_name": "Python 3",
   "language": "python",
   "name": "python3"
  },
  "language_info": {
   "codemirror_mode": {
    "name": "ipython",
    "version": 3
   },
   "file_extension": ".py",
   "mimetype": "text/x-python",
   "name": "python",
   "nbconvert_exporter": "python",
   "pygments_lexer": "ipython3",
   "version": "3.5.0+"
  }
 },
 "nbformat": 4,
 "nbformat_minor": 0
}
