{
 "metadata": {
  "name": "",
  "signature": "sha256:1907daf72a5d0ba5a3e56099054a73be788c4dcb88f731c8c429ceb0d783a592"
 },
 "nbformat": 3,
 "nbformat_minor": 0,
 "worksheets": [
  {
   "cells": [
    {
     "cell_type": "markdown",
     "metadata": {},
     "source": [
      "Initialisation\n",
      "==============\n",
      "\n",
      "* importing pyAgrum\n",
      "* importing gumLib tools\n",
      "* loading a BN"
     ]
    },
    {
     "cell_type": "code",
     "collapsed": true,
     "input": [
      "%matplotlib inline"
     ],
     "language": "python",
     "metadata": {},
     "outputs": [],
     "prompt_number": 1
    },
    {
     "cell_type": "code",
     "collapsed": true,
     "input": [
      "import pyAgrum as gum\n",
      "import gumLib.notebook as gumnb\n",
      "bn=gum.loadBN(\"../resources/alarm.dsl\")"
     ],
     "language": "python",
     "metadata": {},
     "outputs": [
      {
       "output_type": "stream",
       "stream": "stdout",
       "text": [
        "Couldn't import dot_parser, loading of dot files will not be possible.\n"
       ]
      }
     ],
     "prompt_number": 2
    },
    {
     "cell_type": "markdown",
     "metadata": {},
     "source": [
      "Visualisation and inspection\n",
      "============================"
     ]
    },
    {
     "cell_type": "code",
     "collapsed": false,
     "input": [
      "print bn.variableFromName('SHUNT')"
     ],
     "language": "python",
     "metadata": {},
     "outputs": [
      {
       "output_type": "stream",
       "stream": "stdout",
       "text": [
        "SHUNT<NORMAL,HIGH>\n"
       ]
      }
     ],
     "prompt_number": 3
    },
    {
     "cell_type": "code",
     "collapsed": false,
     "input": [
      "print bn.cpt(bn.idFromName('SHUNT'))"
     ],
     "language": "python",
     "metadata": {},
     "outputs": [
      {
       "ename": "TypeError",
       "evalue": "__str__ returned non-string (type NoneType)",
       "output_type": "pyerr",
       "traceback": [
        "\u001b[0;31m---------------------------------------------------------------------------\u001b[0m\n\u001b[0;31mTypeError\u001b[0m                                 Traceback (most recent call last)",
        "\u001b[0;32m<ipython-input-4-dfb48555e9a1>\u001b[0m in \u001b[0;36m<module>\u001b[0;34m()\u001b[0m\n\u001b[0;32m----> 1\u001b[0;31m \u001b[0;32mprint\u001b[0m \u001b[0mbn\u001b[0m\u001b[0;34m.\u001b[0m\u001b[0mcpt\u001b[0m\u001b[0;34m(\u001b[0m\u001b[0mbn\u001b[0m\u001b[0;34m.\u001b[0m\u001b[0midFromName\u001b[0m\u001b[0;34m(\u001b[0m\u001b[0;34m'SHUNT'\u001b[0m\u001b[0;34m)\u001b[0m\u001b[0;34m)\u001b[0m\u001b[0;34m\u001b[0m\u001b[0m\n\u001b[0m",
        "\u001b[0;31mTypeError\u001b[0m: __str__ returned non-string (type NoneType)"
       ]
      }
     ],
     "prompt_number": 4
    },
    {
     "cell_type": "code",
     "collapsed": false,
     "input": [
      "from gumLib.pretty_print import pretty_cpt\n",
      "pretty_cpt(bn.cpt(bn.idFromName('SHUNT')))"
     ],
     "language": "python",
     "metadata": {},
     "outputs": [
      {
       "output_type": "stream",
       "stream": "stdout",
       "text": [
        "                          |---------------|\n",
        "--------------------------|     SHUNT     |\n",
        " PULMEMBOLUS | INTUBATION | NORMAL  HIGH  |\n",
        "--------------------------|---------------|\n",
        "    TRUE     |   NORMAL   | 0.1000 0.9000 |\n",
        "    FALSE    |   NORMAL   | 0.9500 0.0500 |\n",
        "    TRUE     | ESOPHAGEAL | 0.1000 0.9000 |\n",
        "    FALSE    | ESOPHAGEAL | 0.9500 0.0500 |\n",
        "    TRUE     |  ONESIDED  | 0.0100 0.9900 |\n",
        "    FALSE    |  ONESIDED  | 0.0500 0.9500 |\n",
        "--------------------------|---------------|\n"
       ]
      }
     ],
     "prompt_number": 5
    },
    {
     "cell_type": "code",
     "collapsed": false,
     "input": [
      "gumnb.showBN(bn,size=\"7\")"
     ],
     "language": "python",
     "metadata": {},
     "outputs": [
      {
       "html": [
        "<div align='center'><svg height=\"313pt\" viewBox=\"0.00 0.00 504.00 312.82\" width=\"504pt\" xmlns=\"http://www.w3.org/2000/svg\" xmlns:xlink=\"http://www.w3.org/1999/xlink\">\n",
        "<g class=\"graph\" id=\"graph0\" transform=\"scale(0.409454 0.409454) rotate(0) translate(4 760)\">\n",
        "<title>G</title>\n",
        "<polygon fill=\"white\" points=\"-4,4 -4,-760 1226.91,-760 1226.91,4 -4,4\" stroke=\"none\"/>\n",
        "<!-- KINKEDTUBE -->\n",
        "<g class=\"node\" id=\"node1\"><title>KINKEDTUBE</title>\n",
        "<ellipse cx=\"280.117\" cy=\"-594\" fill=\"#666666\" rx=\"67.177\" ry=\"18\" stroke=\"black\"/>\n",
        "<text fill=\"#ffffff\" font-family=\"Times,serif\" font-size=\"14.00\" text-anchor=\"middle\" x=\"280.117\" y=\"-589.8\">KINKEDTUBE</text>\n",
        "</g>\n",
        "<!-- VENTLUNG -->\n",
        "<g class=\"node\" id=\"node23\"><title>VENTLUNG</title>\n",
        "<ellipse cx=\"305.117\" cy=\"-522\" fill=\"#666666\" rx=\"58.491\" ry=\"18\" stroke=\"black\"/>\n",
        "<text fill=\"#ffffff\" font-family=\"Times,serif\" font-size=\"14.00\" text-anchor=\"middle\" x=\"305.117\" y=\"-517.8\">VENTLUNG</text>\n",
        "</g>\n",
        "<!-- KINKEDTUBE&#45;&gt;VENTLUNG -->\n",
        "<g class=\"edge\" id=\"edge36\"><title>KINKEDTUBE-&gt;VENTLUNG</title>\n",
        "<path d=\"M286.169,-576.055C288.983,-568.176 292.397,-558.617 295.548,-549.794\" fill=\"none\" stroke=\"black\"/>\n",
        "<polygon fill=\"black\" points=\"298.88,-550.87 298.947,-540.275 292.288,-548.516 298.88,-550.87\" stroke=\"black\"/>\n",
        "</g>\n",
        "<!-- PRESS -->\n",
        "<g class=\"node\" id=\"node25\"><title>PRESS</title>\n",
        "<ellipse cx=\"193.117\" cy=\"-522\" fill=\"#666666\" rx=\"36.3252\" ry=\"18\" stroke=\"black\"/>\n",
        "<text fill=\"#ffffff\" font-family=\"Times,serif\" font-size=\"14.00\" text-anchor=\"middle\" x=\"193.117\" y=\"-517.8\">PRESS</text>\n",
        "</g>\n",
        "<!-- KINKEDTUBE&#45;&gt;PRESS -->\n",
        "<g class=\"edge\" id=\"edge6\"><title>KINKEDTUBE-&gt;PRESS</title>\n",
        "<path d=\"M259.939,-576.765C247.915,-567.09 232.516,-554.701 219.532,-544.254\" fill=\"none\" stroke=\"black\"/>\n",
        "<polygon fill=\"black\" points=\"221.393,-541.259 211.408,-537.717 217.005,-546.713 221.393,-541.259\" stroke=\"black\"/>\n",
        "</g>\n",
        "<!-- HYPOVOLEMIA -->\n",
        "<g class=\"node\" id=\"node2\"><title>HYPOVOLEMIA</title>\n",
        "<ellipse cx=\"878.117\" cy=\"-234\" fill=\"#666666\" rx=\"74.9121\" ry=\"18\" stroke=\"black\"/>\n",
        "<text fill=\"#ffffff\" font-family=\"Times,serif\" font-size=\"14.00\" text-anchor=\"middle\" x=\"878.117\" y=\"-229.8\">HYPOVOLEMIA</text>\n",
        "</g>\n",
        "<!-- STROKEVOLUME -->\n",
        "<g class=\"node\" id=\"node14\"><title>STROKEVOLUME</title>\n",
        "<ellipse cx=\"868.117\" cy=\"-162\" fill=\"#666666\" rx=\"82.1544\" ry=\"18\" stroke=\"black\"/>\n",
        "<text fill=\"#ffffff\" font-family=\"Times,serif\" font-size=\"14.00\" text-anchor=\"middle\" x=\"868.117\" y=\"-157.8\">STROKEVOLUME</text>\n",
        "</g>\n",
        "<!-- HYPOVOLEMIA&#45;&gt;STROKEVOLUME -->\n",
        "<g class=\"edge\" id=\"edge7\"><title>HYPOVOLEMIA-&gt;STROKEVOLUME</title>\n",
        "<path d=\"M875.645,-215.697C874.543,-207.983 873.219,-198.712 871.99,-190.112\" fill=\"none\" stroke=\"black\"/>\n",
        "<polygon fill=\"black\" points=\"875.439,-189.509 870.56,-180.104 868.51,-190.499 875.439,-189.509\" stroke=\"black\"/>\n",
        "</g>\n",
        "<!-- LVEDVOLUME -->\n",
        "<g class=\"node\" id=\"node16\"><title>LVEDVOLUME</title>\n",
        "<ellipse cx=\"1039.12\" cy=\"-162\" fill=\"#666666\" rx=\"70.8973\" ry=\"18\" stroke=\"black\"/>\n",
        "<text fill=\"#ffffff\" font-family=\"Times,serif\" font-size=\"14.00\" text-anchor=\"middle\" x=\"1039.12\" y=\"-157.8\">LVEDVOLUME</text>\n",
        "</g>\n",
        "<!-- HYPOVOLEMIA&#45;&gt;LVEDVOLUME -->\n",
        "<g class=\"edge\" id=\"edge30\"><title>HYPOVOLEMIA-&gt;LVEDVOLUME</title>\n",
        "<path d=\"M912.655,-217.983C936.931,-207.429 969.593,-193.228 995.642,-181.902\" fill=\"none\" stroke=\"black\"/>\n",
        "<polygon fill=\"black\" points=\"997.137,-185.069 1004.91,-177.872 994.346,-178.649 997.137,-185.069\" stroke=\"black\"/>\n",
        "</g>\n",
        "<!-- INTUBATION -->\n",
        "<g class=\"node\" id=\"node3\"><title>INTUBATION</title>\n",
        "<ellipse cx=\"429.117\" cy=\"-594\" fill=\"#666666\" rx=\"63.8028\" ry=\"18\" stroke=\"black\"/>\n",
        "<text fill=\"#ffffff\" font-family=\"Times,serif\" font-size=\"14.00\" text-anchor=\"middle\" x=\"429.117\" y=\"-589.8\">INTUBATION</text>\n",
        "</g>\n",
        "<!-- SHUNT -->\n",
        "<g class=\"node\" id=\"node19\"><title>SHUNT</title>\n",
        "<ellipse cx=\"563.117\" cy=\"-522\" fill=\"#666666\" rx=\"39.6731\" ry=\"18\" stroke=\"black\"/>\n",
        "<text fill=\"#ffffff\" font-family=\"Times,serif\" font-size=\"14.00\" text-anchor=\"middle\" x=\"563.117\" y=\"-517.8\">SHUNT</text>\n",
        "</g>\n",
        "<!-- INTUBATION&#45;&gt;SHUNT -->\n",
        "<g class=\"edge\" id=\"edge33\"><title>INTUBATION-&gt;SHUNT</title>\n",
        "<path d=\"M458.193,-577.811C479.072,-566.904 507.277,-552.17 529.186,-540.725\" fill=\"none\" stroke=\"black\"/>\n",
        "<polygon fill=\"black\" points=\"530.908,-543.775 538.151,-536.042 527.667,-537.57 530.908,-543.775\" stroke=\"black\"/>\n",
        "</g>\n",
        "<!-- INTUBATION&#45;&gt;VENTLUNG -->\n",
        "<g class=\"edge\" id=\"edge28\"><title>INTUBATION-&gt;VENTLUNG</title>\n",
        "<path d=\"M401.905,-577.638C383.933,-567.493 360.197,-554.094 340.728,-543.103\" fill=\"none\" stroke=\"black\"/>\n",
        "<polygon fill=\"black\" points=\"342.268,-539.953 331.839,-538.085 338.827,-546.049 342.268,-539.953\" stroke=\"black\"/>\n",
        "</g>\n",
        "<!-- MINVOL -->\n",
        "<g class=\"node\" id=\"node24\"><title>MINVOL</title>\n",
        "<ellipse cx=\"310.117\" cy=\"-450\" fill=\"#666666\" rx=\"45.4527\" ry=\"18\" stroke=\"black\"/>\n",
        "<text fill=\"#ffffff\" font-family=\"Times,serif\" font-size=\"14.00\" text-anchor=\"middle\" x=\"310.117\" y=\"-445.8\">MINVOL</text>\n",
        "</g>\n",
        "<!-- INTUBATION&#45;&gt;MINVOL -->\n",
        "<g class=\"edge\" id=\"edge35\"><title>INTUBATION-&gt;MINVOL</title>\n",
        "<path d=\"M420.168,-575.912C409.933,-557.203 392.002,-526.83 372.117,-504 362.163,-492.572 349.696,-481.436 338.556,-472.345\" fill=\"none\" stroke=\"black\"/>\n",
        "<polygon fill=\"black\" points=\"340.736,-469.607 330.735,-466.113 336.374,-475.082 340.736,-469.607\" stroke=\"black\"/>\n",
        "</g>\n",
        "<!-- INTUBATION&#45;&gt;PRESS -->\n",
        "<g class=\"edge\" id=\"edge44\"><title>INTUBATION-&gt;PRESS</title>\n",
        "<path d=\"M383.231,-581.514C344.323,-571.478 287.181,-556.039 238.117,-540 235.527,-539.153 232.867,-538.247 230.195,-537.308\" fill=\"none\" stroke=\"black\"/>\n",
        "<polygon fill=\"black\" points=\"231.177,-533.942 220.583,-533.827 228.793,-540.523 231.177,-533.942\" stroke=\"black\"/>\n",
        "</g>\n",
        "<!-- VENTALV -->\n",
        "<g class=\"node\" id=\"node26\"><title>VENTALV</title>\n",
        "<ellipse cx=\"424.117\" cy=\"-450\" fill=\"#666666\" rx=\"50.1862\" ry=\"18\" stroke=\"black\"/>\n",
        "<text fill=\"#ffffff\" font-family=\"Times,serif\" font-size=\"14.00\" text-anchor=\"middle\" x=\"424.117\" y=\"-445.8\">VENTALV</text>\n",
        "</g>\n",
        "<!-- INTUBATION&#45;&gt;VENTALV -->\n",
        "<g class=\"edge\" id=\"edge5\"><title>INTUBATION-&gt;VENTALV</title>\n",
        "<path d=\"M428.514,-575.871C427.662,-551.67 426.096,-507.211 425.081,-478.393\" fill=\"none\" stroke=\"black\"/>\n",
        "<polygon fill=\"black\" points=\"428.572,-478.06 424.722,-468.189 421.576,-478.306 428.572,-478.06\" stroke=\"black\"/>\n",
        "</g>\n",
        "<!-- MINVOLSET -->\n",
        "<g class=\"node\" id=\"node4\"><title>MINVOLSET</title>\n",
        "<ellipse cx=\"210.117\" cy=\"-738\" fill=\"#666666\" rx=\"61.3978\" ry=\"18\" stroke=\"black\"/>\n",
        "<text fill=\"#ffffff\" font-family=\"Times,serif\" font-size=\"14.00\" text-anchor=\"middle\" x=\"210.117\" y=\"-733.8\">MINVOLSET</text>\n",
        "</g>\n",
        "<!-- VENTMACH -->\n",
        "<g class=\"node\" id=\"node17\"><title>VENTMACH</title>\n",
        "<ellipse cx=\"210.117\" cy=\"-666\" fill=\"#666666\" rx=\"60.4375\" ry=\"18\" stroke=\"black\"/>\n",
        "<text fill=\"#ffffff\" font-family=\"Times,serif\" font-size=\"14.00\" text-anchor=\"middle\" x=\"210.117\" y=\"-661.8\">VENTMACH</text>\n",
        "</g>\n",
        "<!-- MINVOLSET&#45;&gt;VENTMACH -->\n",
        "<g class=\"edge\" id=\"edge31\"><title>MINVOLSET-&gt;VENTMACH</title>\n",
        "<path d=\"M210.117,-719.697C210.117,-711.983 210.117,-702.712 210.117,-694.112\" fill=\"none\" stroke=\"black\"/>\n",
        "<polygon fill=\"black\" points=\"213.617,-694.104 210.117,-684.104 206.617,-694.104 213.617,-694.104\" stroke=\"black\"/>\n",
        "</g>\n",
        "<!-- PULMEMBOLUS -->\n",
        "<g class=\"node\" id=\"node5\"><title>PULMEMBOLUS</title>\n",
        "<ellipse cx=\"628.117\" cy=\"-594\" fill=\"#666666\" rx=\"76.8675\" ry=\"18\" stroke=\"black\"/>\n",
        "<text fill=\"#ffffff\" font-family=\"Times,serif\" font-size=\"14.00\" text-anchor=\"middle\" x=\"628.117\" y=\"-589.8\">PULMEMBOLUS</text>\n",
        "</g>\n",
        "<!-- PAP -->\n",
        "<g class=\"node\" id=\"node13\"><title>PAP</title>\n",
        "<ellipse cx=\"648.117\" cy=\"-522\" fill=\"#666666\" rx=\"27\" ry=\"18\" stroke=\"black\"/>\n",
        "<text fill=\"#ffffff\" font-family=\"Times,serif\" font-size=\"14.00\" text-anchor=\"middle\" x=\"648.117\" y=\"-517.8\">PAP</text>\n",
        "</g>\n",
        "<!-- PULMEMBOLUS&#45;&gt;PAP -->\n",
        "<g class=\"edge\" id=\"edge2\"><title>PULMEMBOLUS-&gt;PAP</title>\n",
        "<path d=\"M633.061,-575.697C635.289,-567.898 637.972,-558.509 640.451,-549.829\" fill=\"none\" stroke=\"black\"/>\n",
        "<polygon fill=\"black\" points=\"643.848,-550.681 643.23,-540.104 637.117,-548.758 643.848,-550.681\" stroke=\"black\"/>\n",
        "</g>\n",
        "<!-- PULMEMBOLUS&#45;&gt;SHUNT -->\n",
        "<g class=\"edge\" id=\"edge26\"><title>PULMEMBOLUS-&gt;SHUNT</title>\n",
        "<path d=\"M612.382,-576.055C604.081,-567.115 593.771,-556.012 584.731,-546.276\" fill=\"none\" stroke=\"black\"/>\n",
        "<polygon fill=\"black\" points=\"587.185,-543.776 577.816,-538.829 582.055,-548.539 587.185,-543.776\" stroke=\"black\"/>\n",
        "</g>\n",
        "<!-- INSUFFANESTH -->\n",
        "<g class=\"node\" id=\"node6\"><title>INSUFFANESTH</title>\n",
        "<ellipse cx=\"638.117\" cy=\"-306\" fill=\"#666666\" rx=\"74.6189\" ry=\"18\" stroke=\"black\"/>\n",
        "<text fill=\"#ffffff\" font-family=\"Times,serif\" font-size=\"14.00\" text-anchor=\"middle\" x=\"638.117\" y=\"-301.8\">INSUFFANESTH</text>\n",
        "</g>\n",
        "<!-- CATECHOL -->\n",
        "<g class=\"node\" id=\"node31\"><title>CATECHOL</title>\n",
        "<ellipse cx=\"628.117\" cy=\"-234\" fill=\"#666666\" rx=\"56.0786\" ry=\"18\" stroke=\"black\"/>\n",
        "<text fill=\"#ffffff\" font-family=\"Times,serif\" font-size=\"14.00\" text-anchor=\"middle\" x=\"628.117\" y=\"-229.8\">CATECHOL</text>\n",
        "</g>\n",
        "<!-- INSUFFANESTH&#45;&gt;CATECHOL -->\n",
        "<g class=\"edge\" id=\"edge22\"><title>INSUFFANESTH-&gt;CATECHOL</title>\n",
        "<path d=\"M635.645,-287.697C634.543,-279.983 633.219,-270.712 631.99,-262.112\" fill=\"none\" stroke=\"black\"/>\n",
        "<polygon fill=\"black\" points=\"635.439,-261.509 630.56,-252.104 628.51,-262.499 635.439,-261.509\" stroke=\"black\"/>\n",
        "</g>\n",
        "<!-- ERRLOWOUTPUT -->\n",
        "<g class=\"node\" id=\"node7\"><title>ERRLOWOUTPUT</title>\n",
        "<ellipse cx=\"357.117\" cy=\"-162\" fill=\"#666666\" rx=\"82.1458\" ry=\"18\" stroke=\"black\"/>\n",
        "<text fill=\"#ffffff\" font-family=\"Times,serif\" font-size=\"14.00\" text-anchor=\"middle\" x=\"357.117\" y=\"-157.8\">ERRLOWOUTPUT</text>\n",
        "</g>\n",
        "<!-- HRBP -->\n",
        "<g class=\"node\" id=\"node33\"><title>HRBP</title>\n",
        "<ellipse cx=\"394.117\" cy=\"-90\" fill=\"#666666\" rx=\"33.4186\" ry=\"18\" stroke=\"black\"/>\n",
        "<text fill=\"#ffffff\" font-family=\"Times,serif\" font-size=\"14.00\" text-anchor=\"middle\" x=\"394.117\" y=\"-85.8\">HRBP</text>\n",
        "</g>\n",
        "<!-- ERRLOWOUTPUT&#45;&gt;HRBP -->\n",
        "<g class=\"edge\" id=\"edge11\"><title>ERRLOWOUTPUT-&gt;HRBP</title>\n",
        "<path d=\"M366.074,-144.055C370.391,-135.887 375.664,-125.912 380.467,-116.824\" fill=\"none\" stroke=\"black\"/>\n",
        "<polygon fill=\"black\" points=\"383.664,-118.266 385.243,-107.789 377.475,-114.994 383.664,-118.266\" stroke=\"black\"/>\n",
        "</g>\n",
        "<!-- ERRCAUTER -->\n",
        "<g class=\"node\" id=\"node8\"><title>ERRCAUTER</title>\n",
        "<ellipse cx=\"520.117\" cy=\"-162\" fill=\"#666666\" rx=\"62.8599\" ry=\"18\" stroke=\"black\"/>\n",
        "<text fill=\"#ffffff\" font-family=\"Times,serif\" font-size=\"14.00\" text-anchor=\"middle\" x=\"520.117\" y=\"-157.8\">ERRCAUTER</text>\n",
        "</g>\n",
        "<!-- HRSAT -->\n",
        "<g class=\"node\" id=\"node34\"><title>HRSAT</title>\n",
        "<ellipse cx=\"520.117\" cy=\"-90\" fill=\"#666666\" rx=\"38.237\" ry=\"18\" stroke=\"black\"/>\n",
        "<text fill=\"#ffffff\" font-family=\"Times,serif\" font-size=\"14.00\" text-anchor=\"middle\" x=\"520.117\" y=\"-85.8\">HRSAT</text>\n",
        "</g>\n",
        "<!-- ERRCAUTER&#45;&gt;HRSAT -->\n",
        "<g class=\"edge\" id=\"edge42\"><title>ERRCAUTER-&gt;HRSAT</title>\n",
        "<path d=\"M520.117,-143.697C520.117,-135.983 520.117,-126.712 520.117,-118.112\" fill=\"none\" stroke=\"black\"/>\n",
        "<polygon fill=\"black\" points=\"523.617,-118.104 520.117,-108.104 516.617,-118.104 523.617,-118.104\" stroke=\"black\"/>\n",
        "</g>\n",
        "<!-- HREKG -->\n",
        "<g class=\"node\" id=\"node36\"><title>HREKG</title>\n",
        "<ellipse cx=\"617.117\" cy=\"-90\" fill=\"#666666\" rx=\"40.6335\" ry=\"18\" stroke=\"black\"/>\n",
        "<text fill=\"#ffffff\" font-family=\"Times,serif\" font-size=\"14.00\" text-anchor=\"middle\" x=\"617.117\" y=\"-85.8\">HREKG</text>\n",
        "</g>\n",
        "<!-- ERRCAUTER&#45;&gt;HREKG -->\n",
        "<g class=\"edge\" id=\"edge13\"><title>ERRCAUTER-&gt;HREKG</title>\n",
        "<path d=\"M542.128,-145.116C555.865,-135.202 573.693,-122.337 588.518,-111.638\" fill=\"none\" stroke=\"black\"/>\n",
        "<polygon fill=\"black\" points=\"590.786,-114.318 596.847,-105.628 586.69,-108.641 590.786,-114.318\" stroke=\"black\"/>\n",
        "</g>\n",
        "<!-- FIO2 -->\n",
        "<g class=\"node\" id=\"node9\"><title>FIO2</title>\n",
        "<ellipse cx=\"521.117\" cy=\"-450\" fill=\"#666666\" rx=\"28.5583\" ry=\"18\" stroke=\"black\"/>\n",
        "<text fill=\"#ffffff\" font-family=\"Times,serif\" font-size=\"14.00\" text-anchor=\"middle\" x=\"521.117\" y=\"-445.8\">FIO2</text>\n",
        "</g>\n",
        "<!-- PVSAT -->\n",
        "<g class=\"node\" id=\"node28\"><title>PVSAT</title>\n",
        "<ellipse cx=\"513.117\" cy=\"-378\" fill=\"#666666\" rx=\"37.2767\" ry=\"18\" stroke=\"black\"/>\n",
        "<text fill=\"#ffffff\" font-family=\"Times,serif\" font-size=\"14.00\" text-anchor=\"middle\" x=\"513.117\" y=\"-373.8\">PVSAT</text>\n",
        "</g>\n",
        "<!-- FIO2&#45;&gt;PVSAT -->\n",
        "<g class=\"edge\" id=\"edge43\"><title>FIO2-&gt;PVSAT</title>\n",
        "<path d=\"M519.139,-431.697C518.258,-423.983 517.198,-414.712 516.215,-406.112\" fill=\"none\" stroke=\"black\"/>\n",
        "<polygon fill=\"black\" points=\"519.685,-405.642 515.072,-396.104 512.73,-406.437 519.685,-405.642\" stroke=\"black\"/>\n",
        "</g>\n",
        "<!-- LVFAILURE -->\n",
        "<g class=\"node\" id=\"node10\"><title>LVFAILURE</title>\n",
        "<ellipse cx=\"1039.12\" cy=\"-234\" fill=\"#666666\" rx=\"57.5409\" ry=\"18\" stroke=\"black\"/>\n",
        "<text fill=\"#ffffff\" font-family=\"Times,serif\" font-size=\"14.00\" text-anchor=\"middle\" x=\"1039.12\" y=\"-229.8\">LVFAILURE</text>\n",
        "</g>\n",
        "<!-- LVFAILURE&#45;&gt;STROKEVOLUME -->\n",
        "<g class=\"edge\" id=\"edge15\"><title>LVFAILURE-&gt;STROKEVOLUME</title>\n",
        "<path d=\"M1005.33,-219.17C979.361,-208.538 943.191,-193.732 914.506,-181.99\" fill=\"none\" stroke=\"black\"/>\n",
        "<polygon fill=\"black\" points=\"915.672,-178.685 905.091,-178.136 913.02,-185.163 915.672,-178.685\" stroke=\"black\"/>\n",
        "</g>\n",
        "<!-- LVFAILURE&#45;&gt;LVEDVOLUME -->\n",
        "<g class=\"edge\" id=\"edge32\"><title>LVFAILURE-&gt;LVEDVOLUME</title>\n",
        "<path d=\"M1039.12,-215.697C1039.12,-207.983 1039.12,-198.712 1039.12,-190.112\" fill=\"none\" stroke=\"black\"/>\n",
        "<polygon fill=\"black\" points=\"1042.62,-190.104 1039.12,-180.104 1035.62,-190.104 1042.62,-190.104\" stroke=\"black\"/>\n",
        "</g>\n",
        "<!-- HISTORY -->\n",
        "<g class=\"node\" id=\"node20\"><title>HISTORY</title>\n",
        "<ellipse cx=\"1175.12\" cy=\"-162\" fill=\"#666666\" rx=\"47.5826\" ry=\"18\" stroke=\"black\"/>\n",
        "<text fill=\"#ffffff\" font-family=\"Times,serif\" font-size=\"14.00\" text-anchor=\"middle\" x=\"1175.12\" y=\"-157.8\">HISTORY</text>\n",
        "</g>\n",
        "<!-- LVFAILURE&#45;&gt;HISTORY -->\n",
        "<g class=\"edge\" id=\"edge29\"><title>LVFAILURE-&gt;HISTORY</title>\n",
        "<path d=\"M1067.63,-218.326C1088.35,-207.662 1116.55,-193.145 1138.87,-181.657\" fill=\"none\" stroke=\"black\"/>\n",
        "<polygon fill=\"black\" points=\"1140.74,-184.628 1148.03,-176.94 1137.54,-178.404 1140.74,-184.628\" stroke=\"black\"/>\n",
        "</g>\n",
        "<!-- DISCONNECT -->\n",
        "<g class=\"node\" id=\"node11\"><title>DISCONNECT</title>\n",
        "<ellipse cx=\"66.1169\" cy=\"-666\" fill=\"#666666\" rx=\"66.234\" ry=\"18\" stroke=\"black\"/>\n",
        "<text fill=\"#ffffff\" font-family=\"Times,serif\" font-size=\"14.00\" text-anchor=\"middle\" x=\"66.1169\" y=\"-661.8\">DISCONNECT</text>\n",
        "</g>\n",
        "<!-- VENTTUBE -->\n",
        "<g class=\"node\" id=\"node21\"><title>VENTTUBE</title>\n",
        "<ellipse cx=\"138.117\" cy=\"-594\" fill=\"#666666\" rx=\"56.5459\" ry=\"18\" stroke=\"black\"/>\n",
        "<text fill=\"#ffffff\" font-family=\"Times,serif\" font-size=\"14.00\" text-anchor=\"middle\" x=\"138.117\" y=\"-589.8\">VENTTUBE</text>\n",
        "</g>\n",
        "<!-- DISCONNECT&#45;&gt;VENTTUBE -->\n",
        "<g class=\"edge\" id=\"edge1\"><title>DISCONNECT-&gt;VENTTUBE</title>\n",
        "<path d=\"M83.1799,-648.411C92.3259,-639.519 103.752,-628.411 113.811,-618.631\" fill=\"none\" stroke=\"black\"/>\n",
        "<polygon fill=\"black\" points=\"116.446,-620.95 121.176,-611.47 111.567,-615.931 116.446,-620.95\" stroke=\"black\"/>\n",
        "</g>\n",
        "<!-- ANAPHYLAXIS -->\n",
        "<g class=\"node\" id=\"node12\"><title>ANAPHYLAXIS</title>\n",
        "<ellipse cx=\"758.117\" cy=\"-378\" fill=\"#666666\" rx=\"72.9912\" ry=\"18\" stroke=\"black\"/>\n",
        "<text fill=\"#ffffff\" font-family=\"Times,serif\" font-size=\"14.00\" text-anchor=\"middle\" x=\"758.117\" y=\"-373.8\">ANAPHYLAXIS</text>\n",
        "</g>\n",
        "<!-- TPR -->\n",
        "<g class=\"node\" id=\"node15\"><title>TPR</title>\n",
        "<ellipse cx=\"758.117\" cy=\"-306\" fill=\"#666666\" rx=\"27\" ry=\"18\" stroke=\"black\"/>\n",
        "<text fill=\"#ffffff\" font-family=\"Times,serif\" font-size=\"14.00\" text-anchor=\"middle\" x=\"758.117\" y=\"-301.8\">TPR</text>\n",
        "</g>\n",
        "<!-- ANAPHYLAXIS&#45;&gt;TPR -->\n",
        "<g class=\"edge\" id=\"edge16\"><title>ANAPHYLAXIS-&gt;TPR</title>\n",
        "<path d=\"M758.117,-359.697C758.117,-351.983 758.117,-342.712 758.117,-334.112\" fill=\"none\" stroke=\"black\"/>\n",
        "<polygon fill=\"black\" points=\"761.617,-334.104 758.117,-324.104 754.617,-334.104 761.617,-334.104\" stroke=\"black\"/>\n",
        "</g>\n",
        "<!-- CO -->\n",
        "<g class=\"node\" id=\"node35\"><title>CO</title>\n",
        "<ellipse cx=\"703.117\" cy=\"-90\" fill=\"#666666\" rx=\"27\" ry=\"18\" stroke=\"black\"/>\n",
        "<text fill=\"#ffffff\" font-family=\"Times,serif\" font-size=\"14.00\" text-anchor=\"middle\" x=\"703.117\" y=\"-85.8\">CO</text>\n",
        "</g>\n",
        "<!-- STROKEVOLUME&#45;&gt;CO -->\n",
        "<g class=\"edge\" id=\"edge17\"><title>STROKEVOLUME-&gt;CO</title>\n",
        "<path d=\"M831.907,-145.638C802.885,-133.326 762.564,-116.22 734.808,-104.445\" fill=\"none\" stroke=\"black\"/>\n",
        "<polygon fill=\"black\" points=\"736.126,-101.202 725.553,-100.518 733.392,-107.646 736.126,-101.202\" stroke=\"black\"/>\n",
        "</g>\n",
        "<!-- TPR&#45;&gt;CATECHOL -->\n",
        "<g class=\"edge\" id=\"edge41\"><title>TPR-&gt;CATECHOL</title>\n",
        "<path d=\"M737.804,-294.062C718.261,-283.539 688.272,-267.391 664.587,-254.638\" fill=\"none\" stroke=\"black\"/>\n",
        "<polygon fill=\"black\" points=\"665.992,-251.419 655.528,-249.76 662.673,-257.582 665.992,-251.419\" stroke=\"black\"/>\n",
        "</g>\n",
        "<!-- BP -->\n",
        "<g class=\"node\" id=\"node37\"><title>BP</title>\n",
        "<ellipse cx=\"730.117\" cy=\"-18\" fill=\"#666666\" rx=\"27\" ry=\"18\" stroke=\"black\"/>\n",
        "<text fill=\"#ffffff\" font-family=\"Times,serif\" font-size=\"14.00\" text-anchor=\"middle\" x=\"730.117\" y=\"-13.8\">BP</text>\n",
        "</g>\n",
        "<!-- TPR&#45;&gt;BP -->\n",
        "<g class=\"edge\" id=\"edge4\"><title>TPR-&gt;BP</title>\n",
        "<path d=\"M757.237,-287.992C755.134,-249.448 749.22,-152.54 739.117,-72 738.055,-63.5353 736.604,-54.3584 735.177,-46.0571\" fill=\"none\" stroke=\"black\"/>\n",
        "<polygon fill=\"black\" points=\"738.609,-45.3636 733.414,-36.1299 731.717,-46.5879 738.609,-45.3636\" stroke=\"black\"/>\n",
        "</g>\n",
        "<!-- PCWP -->\n",
        "<g class=\"node\" id=\"node18\"><title>PCWP</title>\n",
        "<ellipse cx=\"1078.12\" cy=\"-90\" fill=\"#666666\" rx=\"34.3788\" ry=\"18\" stroke=\"black\"/>\n",
        "<text fill=\"#ffffff\" font-family=\"Times,serif\" font-size=\"14.00\" text-anchor=\"middle\" x=\"1078.12\" y=\"-85.8\">PCWP</text>\n",
        "</g>\n",
        "<!-- LVEDVOLUME&#45;&gt;PCWP -->\n",
        "<g class=\"edge\" id=\"edge25\"><title>LVEDVOLUME-&gt;PCWP</title>\n",
        "<path d=\"M1048.56,-144.055C1053.16,-135.801 1058.78,-125.701 1063.89,-116.538\" fill=\"none\" stroke=\"black\"/>\n",
        "<polygon fill=\"black\" points=\"1066.95,-118.228 1068.76,-107.789 1060.84,-114.821 1066.95,-118.228\" stroke=\"black\"/>\n",
        "</g>\n",
        "<!-- CVP -->\n",
        "<g class=\"node\" id=\"node22\"><title>CVP</title>\n",
        "<ellipse cx=\"999.117\" cy=\"-90\" fill=\"#666666\" rx=\"27.1216\" ry=\"18\" stroke=\"black\"/>\n",
        "<text fill=\"#ffffff\" font-family=\"Times,serif\" font-size=\"14.00\" text-anchor=\"middle\" x=\"999.117\" y=\"-85.8\">CVP</text>\n",
        "</g>\n",
        "<!-- LVEDVOLUME&#45;&gt;CVP -->\n",
        "<g class=\"edge\" id=\"edge14\"><title>LVEDVOLUME-&gt;CVP</title>\n",
        "<path d=\"M1029.43,-144.055C1024.65,-135.679 1018.78,-125.404 1013.48,-116.134\" fill=\"none\" stroke=\"black\"/>\n",
        "<polygon fill=\"black\" points=\"1016.44,-114.253 1008.44,-107.307 1010.36,-117.726 1016.44,-114.253\" stroke=\"black\"/>\n",
        "</g>\n",
        "<!-- VENTMACH&#45;&gt;VENTTUBE -->\n",
        "<g class=\"edge\" id=\"edge27\"><title>VENTMACH-&gt;VENTTUBE</title>\n",
        "<path d=\"M193.054,-648.411C183.908,-639.519 172.482,-628.411 162.423,-618.631\" fill=\"none\" stroke=\"black\"/>\n",
        "<polygon fill=\"black\" points=\"164.667,-615.931 155.057,-611.47 159.788,-620.95 164.667,-615.931\" stroke=\"black\"/>\n",
        "</g>\n",
        "<!-- SAO2 -->\n",
        "<g class=\"node\" id=\"node29\"><title>SAO2</title>\n",
        "<ellipse cx=\"513.117\" cy=\"-306\" fill=\"#666666\" rx=\"32.4411\" ry=\"18\" stroke=\"black\"/>\n",
        "<text fill=\"#ffffff\" font-family=\"Times,serif\" font-size=\"14.00\" text-anchor=\"middle\" x=\"513.117\" y=\"-301.8\">SAO2</text>\n",
        "</g>\n",
        "<!-- SHUNT&#45;&gt;SAO2 -->\n",
        "<g class=\"edge\" id=\"edge45\"><title>SHUNT-&gt;SAO2</title>\n",
        "<path d=\"M566.363,-503.813C571.295,-473.545 578.218,-409.272 559.117,-360 554.553,-348.226 546.145,-337.299 537.753,-328.463\" fill=\"none\" stroke=\"black\"/>\n",
        "<polygon fill=\"black\" points=\"540.051,-325.812 530.48,-321.267 535.127,-330.788 540.051,-325.812\" stroke=\"black\"/>\n",
        "</g>\n",
        "<!-- VENTTUBE&#45;&gt;VENTLUNG -->\n",
        "<g class=\"edge\" id=\"edge19\"><title>VENTTUBE-&gt;VENTLUNG</title>\n",
        "<path d=\"M171.111,-579.17C197.329,-568.18 234.189,-552.73 262.616,-540.815\" fill=\"none\" stroke=\"black\"/>\n",
        "<polygon fill=\"black\" points=\"264.037,-544.014 271.906,-536.921 261.331,-537.559 264.037,-544.014\" stroke=\"black\"/>\n",
        "</g>\n",
        "<!-- VENTTUBE&#45;&gt;PRESS -->\n",
        "<g class=\"edge\" id=\"edge40\"><title>VENTTUBE-&gt;PRESS</title>\n",
        "<path d=\"M151.151,-576.411C158.03,-567.655 166.598,-556.751 174.195,-547.082\" fill=\"none\" stroke=\"black\"/>\n",
        "<polygon fill=\"black\" points=\"177.129,-549.014 180.555,-538.988 171.624,-544.689 177.129,-549.014\" stroke=\"black\"/>\n",
        "</g>\n",
        "<!-- VENTLUNG&#45;&gt;MINVOL -->\n",
        "<g class=\"edge\" id=\"edge18\"><title>VENTLUNG-&gt;MINVOL</title>\n",
        "<path d=\"M306.353,-503.697C306.904,-495.983 307.566,-486.712 308.18,-478.112\" fill=\"none\" stroke=\"black\"/>\n",
        "<polygon fill=\"black\" points=\"311.674,-478.328 308.895,-468.104 304.691,-477.83 311.674,-478.328\" stroke=\"black\"/>\n",
        "</g>\n",
        "<!-- VENTLUNG&#45;&gt;VENTALV -->\n",
        "<g class=\"edge\" id=\"edge39\"><title>VENTLUNG-&gt;VENTALV</title>\n",
        "<path d=\"M330.938,-505.811C348.326,-495.583 371.437,-481.988 390.291,-470.897\" fill=\"none\" stroke=\"black\"/>\n",
        "<polygon fill=\"black\" points=\"392.317,-473.767 399.162,-465.68 388.768,-467.733 392.317,-473.767\" stroke=\"black\"/>\n",
        "</g>\n",
        "<!-- EXPCO2 -->\n",
        "<g class=\"node\" id=\"node30\"><title>EXPCO2</title>\n",
        "<ellipse cx=\"299.117\" cy=\"-306\" fill=\"#666666\" rx=\"43.5405\" ry=\"18\" stroke=\"black\"/>\n",
        "<text fill=\"#ffffff\" font-family=\"Times,serif\" font-size=\"14.00\" text-anchor=\"middle\" x=\"299.117\" y=\"-301.8\">EXPCO2</text>\n",
        "</g>\n",
        "<!-- VENTLUNG&#45;&gt;EXPCO2 -->\n",
        "<g class=\"edge\" id=\"edge34\"><title>VENTLUNG-&gt;EXPCO2</title>\n",
        "<path d=\"M284.241,-505.027C273.643,-495.565 261.827,-482.586 256.117,-468 237.976,-421.657 263.63,-364.9 282.414,-332.649\" fill=\"none\" stroke=\"black\"/>\n",
        "<polygon fill=\"black\" points=\"285.555,-334.218 287.727,-323.848 279.562,-330.6 285.555,-334.218\" stroke=\"black\"/>\n",
        "</g>\n",
        "<!-- ARTCO2 -->\n",
        "<g class=\"node\" id=\"node27\"><title>ARTCO2</title>\n",
        "<ellipse cx=\"414.117\" cy=\"-378\" fill=\"#666666\" rx=\"43.9474\" ry=\"18\" stroke=\"black\"/>\n",
        "<text fill=\"#ffffff\" font-family=\"Times,serif\" font-size=\"14.00\" text-anchor=\"middle\" x=\"414.117\" y=\"-373.8\">ARTCO2</text>\n",
        "</g>\n",
        "<!-- VENTALV&#45;&gt;ARTCO2 -->\n",
        "<g class=\"edge\" id=\"edge8\"><title>VENTALV-&gt;ARTCO2</title>\n",
        "<path d=\"M421.645,-431.697C420.543,-423.983 419.219,-414.712 417.99,-406.112\" fill=\"none\" stroke=\"black\"/>\n",
        "<polygon fill=\"black\" points=\"421.439,-405.509 416.56,-396.104 414.51,-406.499 421.439,-405.509\" stroke=\"black\"/>\n",
        "</g>\n",
        "<!-- VENTALV&#45;&gt;PVSAT -->\n",
        "<g class=\"edge\" id=\"edge20\"><title>VENTALV-&gt;PVSAT</title>\n",
        "<path d=\"M444.312,-433.116C456.799,-423.295 472.969,-410.577 486.495,-399.939\" fill=\"none\" stroke=\"black\"/>\n",
        "<polygon fill=\"black\" points=\"488.822,-402.561 494.519,-393.628 484.495,-397.059 488.822,-402.561\" stroke=\"black\"/>\n",
        "</g>\n",
        "<!-- ARTCO2&#45;&gt;EXPCO2 -->\n",
        "<g class=\"edge\" id=\"edge9\"><title>ARTCO2-&gt;EXPCO2</title>\n",
        "<path d=\"M390.567,-362.666C373.435,-352.237 350.039,-337.996 331.2,-326.529\" fill=\"none\" stroke=\"black\"/>\n",
        "<polygon fill=\"black\" points=\"332.997,-323.525 322.635,-321.315 329.357,-329.505 332.997,-323.525\" stroke=\"black\"/>\n",
        "</g>\n",
        "<!-- ARTCO2&#45;&gt;CATECHOL -->\n",
        "<g class=\"edge\" id=\"edge23\"><title>ARTCO2-&gt;CATECHOL</title>\n",
        "<path d=\"M420.972,-360.128C429.904,-340.169 447.356,-307.232 472.117,-288 500.247,-266.151 537.921,-253.018 569.199,-245.291\" fill=\"none\" stroke=\"black\"/>\n",
        "<polygon fill=\"black\" points=\"570.172,-248.658 579.109,-242.968 568.574,-241.842 570.172,-248.658\" stroke=\"black\"/>\n",
        "</g>\n",
        "<!-- PVSAT&#45;&gt;SAO2 -->\n",
        "<g class=\"edge\" id=\"edge21\"><title>PVSAT-&gt;SAO2</title>\n",
        "<path d=\"M513.117,-359.697C513.117,-351.983 513.117,-342.712 513.117,-334.112\" fill=\"none\" stroke=\"black\"/>\n",
        "<polygon fill=\"black\" points=\"516.617,-334.104 513.117,-324.104 509.617,-334.104 516.617,-334.104\" stroke=\"black\"/>\n",
        "</g>\n",
        "<!-- SAO2&#45;&gt;CATECHOL -->\n",
        "<g class=\"edge\" id=\"edge10\"><title>SAO2-&gt;CATECHOL</title>\n",
        "<path d=\"M534.21,-292.161C551.079,-281.893 575.05,-267.301 594.551,-255.431\" fill=\"none\" stroke=\"black\"/>\n",
        "<polygon fill=\"black\" points=\"596.433,-258.384 603.155,-250.194 592.793,-252.404 596.433,-258.384\" stroke=\"black\"/>\n",
        "</g>\n",
        "<!-- HR -->\n",
        "<g class=\"node\" id=\"node32\"><title>HR</title>\n",
        "<ellipse cx=\"628.117\" cy=\"-162\" fill=\"#666666\" rx=\"27\" ry=\"18\" stroke=\"black\"/>\n",
        "<text fill=\"#ffffff\" font-family=\"Times,serif\" font-size=\"14.00\" text-anchor=\"middle\" x=\"628.117\" y=\"-157.8\">HR</text>\n",
        "</g>\n",
        "<!-- CATECHOL&#45;&gt;HR -->\n",
        "<g class=\"edge\" id=\"edge3\"><title>CATECHOL-&gt;HR</title>\n",
        "<path d=\"M628.117,-215.697C628.117,-207.983 628.117,-198.712 628.117,-190.112\" fill=\"none\" stroke=\"black\"/>\n",
        "<polygon fill=\"black\" points=\"631.617,-190.104 628.117,-180.104 624.617,-190.104 631.617,-190.104\" stroke=\"black\"/>\n",
        "</g>\n",
        "<!-- HR&#45;&gt;HRBP -->\n",
        "<g class=\"edge\" id=\"edge37\"><title>HR-&gt;HRBP</title>\n",
        "<path d=\"M607.067,-150.287C602.225,-148.041 597.049,-145.808 592.117,-144 538.791,-124.452 474.994,-108.678 434.512,-99.5696\" fill=\"none\" stroke=\"black\"/>\n",
        "<polygon fill=\"black\" points=\"435.013,-96.0958 424.492,-97.3446 433.496,-102.929 435.013,-96.0958\" stroke=\"black\"/>\n",
        "</g>\n",
        "<!-- HR&#45;&gt;HRSAT -->\n",
        "<g class=\"edge\" id=\"edge46\"><title>HR-&gt;HRSAT</title>\n",
        "<path d=\"M609.305,-148.807C593.027,-138.257 569.193,-122.809 550.259,-110.536\" fill=\"none\" stroke=\"black\"/>\n",
        "<polygon fill=\"black\" points=\"551.976,-107.478 541.68,-104.976 548.168,-113.352 551.976,-107.478\" stroke=\"black\"/>\n",
        "</g>\n",
        "<!-- HR&#45;&gt;CO -->\n",
        "<g class=\"edge\" id=\"edge12\"><title>HR-&gt;CO</title>\n",
        "<path d=\"M643.294,-146.834C653.968,-136.872 668.436,-123.369 680.47,-112.137\" fill=\"none\" stroke=\"black\"/>\n",
        "<polygon fill=\"black\" points=\"683.04,-114.526 687.962,-105.144 678.263,-109.409 683.04,-114.526\" stroke=\"black\"/>\n",
        "</g>\n",
        "<!-- HR&#45;&gt;HREKG -->\n",
        "<g class=\"edge\" id=\"edge24\"><title>HR-&gt;HREKG</title>\n",
        "<path d=\"M625.454,-144.055C624.243,-136.346 622.778,-127.027 621.417,-118.364\" fill=\"none\" stroke=\"black\"/>\n",
        "<polygon fill=\"black\" points=\"624.842,-117.611 619.832,-108.275 617.926,-118.697 624.842,-117.611\" stroke=\"black\"/>\n",
        "</g>\n",
        "<!-- CO&#45;&gt;BP -->\n",
        "<g class=\"edge\" id=\"edge38\"><title>CO-&gt;BP</title>\n",
        "<path d=\"M709.516,-72.411C712.63,-64.3352 716.451,-54.4312 719.951,-45.3547\" fill=\"none\" stroke=\"black\"/>\n",
        "<polygon fill=\"black\" points=\"723.243,-46.5458 723.577,-35.9562 716.712,-44.0267 723.243,-46.5458\" stroke=\"black\"/>\n",
        "</g>\n",
        "</g>\n",
        "</svg></div>"
       ],
       "metadata": {},
       "output_type": "display_data",
       "text": [
        "<IPython.core.display.HTML at 0x10e93fad0>"
       ]
      }
     ],
     "prompt_number": 6
    },
    {
     "cell_type": "markdown",
     "metadata": {},
     "source": [
      "Results of inference\n",
      "====================\n",
      "\n",
      "It is easy to look at result of inference"
     ]
    },
    {
     "cell_type": "code",
     "collapsed": false,
     "input": [
      "gumnb.showPosterior(bn,{'SHUNT':'HIGH'},'PRESS')"
     ],
     "language": "python",
     "metadata": {},
     "outputs": [
      {
       "metadata": {},
       "output_type": "display_data",
       "png": "[encoded data removed]",
       "text": [
        "<matplotlib.figure.Figure at 0x10e93d3d0>"
       ]
      }
     ],
     "prompt_number": 7
    },
    {
     "cell_type": "code",
     "collapsed": false,
     "input": [
      "gumnb.showPosterior(bn,{'MINVOLSET':'NORMAL'},'VENTALV')"
     ],
     "language": "python",
     "metadata": {},
     "outputs": [
      {
       "metadata": {},
       "output_type": "display_data",
       "png": "[encoded data removed]",
       "text": [
        "<matplotlib.figure.Figure at 0x10e9fe210>"
       ]
      }
     ],
     "prompt_number": 8
    },
    {
     "cell_type": "markdown",
     "metadata": {},
     "source": [
      "Result of inferences\n",
      "====================\n",
      "\n",
      "It is also easy to use inference as a routine in more complex procedure."
     ]
    },
    {
     "cell_type": "code",
     "collapsed": false,
     "input": [
      "r=range(0,100,2)\n",
      "xs=[x/100.0 for x in r]\n",
      "ys=[gumnb.getPosterior(bn,{'MINVOLSET':[0,x/100.0,0.5]},'VENTALV').tolist() \n",
      "        for x in r]\n",
      "p=plot(xs,ys)\n",
      "legend(p,[bn.variableFromName('VENTALV').label(i) \n",
      "          for i in range(len(bn.variableFromName('VENTALV')))],loc=7);\n",
      "title('VENTALV');\n",
      "ylabel('posterior Probability');\n",
      "xlabel('Evidence on MINVOLSET : [0,x,0.5]');"
     ],
     "language": "python",
     "metadata": {},
     "outputs": [
      {
       "metadata": {},
       "output_type": "display_data",
       "png": "[encoded data removed]",
       "text": [
        "<matplotlib.figure.Figure at 0x10e92aa10>"
       ]
      }
     ],
     "prompt_number": 9
    },
    {
     "cell_type": "markdown",
     "metadata": {},
     "source": [
      "Another example : python gives access to a large set of tools. Here the value for the intersection of 2 is automatically computed."
     ]
    },
    {
     "cell_type": "code",
     "collapsed": false,
     "input": [
      "x=[p/100.0 for p in xrange(0,100)]\n",
      "y=[gumnb.getPosterior(bn,{'HRBP':[1.0-p/100.0,1.0-p/100.0,p/100.0]},'TPR').tolist() for p in xrange(0,100)]\n",
      "p=plot(x,y)\n",
      "title(bn.property('name'));\n",
      "v=bn.variableFromName('TPR');\n",
      "legend([v.label(i) for i in range(len(v))],loc='best');\n",
      "np1=(transpose(y)[0]>transpose(y)[2]).argmin()\n",
      "text(x[np1]-0.05,y[np1][0]+0.005,str(x[np1]),bbox=dict(facecolor='red', alpha=0.1));"
     ],
     "language": "python",
     "metadata": {},
     "outputs": [
      {
       "metadata": {},
       "output_type": "display_data",
       "png": "[encoded data removed]",
       "text": [
        "<matplotlib.figure.Figure at 0x10df053d0>"
       ]
      }
     ],
     "prompt_number": 10
    },
    {
     "cell_type": "markdown",
     "metadata": {},
     "source": [
      "BN as classifier\n",
      "================"
     ]
    },
    {
     "cell_type": "markdown",
     "metadata": {},
     "source": [
      "Generation of databases\n",
      "-----------------------\n",
      "\n",
      "Using CSV format for database,"
     ]
    },
    {
     "cell_type": "code",
     "collapsed": true,
     "input": [
      "from gumLib.bn2csv import generateCSV\n",
      "\n",
      "generateCSV(bn,\"test.csv\",1000,True)"
     ],
     "language": "python",
     "metadata": {},
     "outputs": [
      {
       "output_type": "stream",
       "stream": "stdout",
       "text": [
        "test.csv \r"
       ]
      },
      {
       "output_type": "stream",
       "stream": "stdout",
       "text": [
        "\r",
        "test.csv : [                                                                  ] 1%"
       ]
      },
      {
       "output_type": "stream",
       "stream": "stdout",
       "text": [
        " \r",
        "test.csv : [ #                                                                ] 2%"
       ]
      },
      {
       "output_type": "stream",
       "stream": "stdout",
       "text": [
        " \r",
        "test.csv : [ #                                                                ] 3%"
       ]
      },
      {
       "output_type": "stream",
       "stream": "stdout",
       "text": [
        " \r",
        "test.csv : [ ##                                                               ] 4%"
       ]
      },
      {
       "output_type": "stream",
       "stream": "stdout",
       "text": [
        " \r",
        "test.csv : [ ###                                                              ] 5%"
       ]
      },
      {
       "output_type": "stream",
       "stream": "stdout",
       "text": [
        " \r",
        "test.csv : [ ###                                                              ] 6%"
       ]
      },
      {
       "output_type": "stream",
       "stream": "stdout",
       "text": [
        " \r",
        "test.csv : [ ####                                                             ] 7%"
       ]
      },
      {
       "output_type": "stream",
       "stream": "stdout",
       "text": [
        " \r",
        "test.csv : [ #####                                                            ] 8%"
       ]
      },
      {
       "output_type": "stream",
       "stream": "stdout",
       "text": [
        " \r",
        "test.csv : [ #####                                                            ] 9%"
       ]
      },
      {
       "output_type": "stream",
       "stream": "stdout",
       "text": [
        " \r",
        "test.csv : [ ######                                                           ] 10%"
       ]
      },
      {
       "output_type": "stream",
       "stream": "stdout",
       "text": [
        " \r",
        "test.csv : [ #######                                                          ] 11%"
       ]
      },
      {
       "output_type": "stream",
       "stream": "stdout",
       "text": [
        " \r",
        "test.csv : [ #######                                                          ] 12%"
       ]
      },
      {
       "output_type": "stream",
       "stream": "stdout",
       "text": [
        " \r",
        "test.csv : [ ########                                                         ] 13%"
       ]
      },
      {
       "output_type": "stream",
       "stream": "stdout",
       "text": [
        " \r",
        "test.csv : [ ########                                                         ] 14%"
       ]
      },
      {
       "output_type": "stream",
       "stream": "stdout",
       "text": [
        " \r",
        "test.csv : [ #########                                                        ] 15%"
       ]
      },
      {
       "output_type": "stream",
       "stream": "stdout",
       "text": [
        " \r",
        "test.csv : [ ##########                                                       ] 16%"
       ]
      },
      {
       "output_type": "stream",
       "stream": "stdout",
       "text": [
        " \r",
        "test.csv : [ ##########                                                       ] 17%"
       ]
      },
      {
       "output_type": "stream",
       "stream": "stdout",
       "text": [
        " \r",
        "test.csv : [ ###########                                                      ] 18%"
       ]
      },
      {
       "output_type": "stream",
       "stream": "stdout",
       "text": [
        " \r",
        "test.csv : [ ############                                                     ] 19%"
       ]
      },
      {
       "output_type": "stream",
       "stream": "stdout",
       "text": [
        " \r",
        "test.csv : [ ############                                                     ] 20%"
       ]
      },
      {
       "output_type": "stream",
       "stream": "stdout",
       "text": [
        " \r",
        "test.csv : [ #############                                                    ] 21%"
       ]
      },
      {
       "output_type": "stream",
       "stream": "stdout",
       "text": [
        " \r",
        "test.csv : [ ##############                                                   ] 22%"
       ]
      },
      {
       "output_type": "stream",
       "stream": "stdout",
       "text": [
        " \r",
        "test.csv : [ ##############                                                   ] 23%"
       ]
      },
      {
       "output_type": "stream",
       "stream": "stdout",
       "text": [
        " \r",
        "test.csv : [ ###############                                                  ] 24%"
       ]
      },
      {
       "output_type": "stream",
       "stream": "stdout",
       "text": [
        " \r",
        "test.csv : [ ################                                                 ] 25%"
       ]
      },
      {
       "output_type": "stream",
       "stream": "stdout",
       "text": [
        " \r",
        "test.csv : [ ################                                                 ] 26%"
       ]
      },
      {
       "output_type": "stream",
       "stream": "stdout",
       "text": [
        " \r",
        "test.csv : [ #################                                                ] 27%"
       ]
      },
      {
       "output_type": "stream",
       "stream": "stdout",
       "text": [
        " \r",
        "test.csv : [ #################                                                ] 28%"
       ]
      },
      {
       "output_type": "stream",
       "stream": "stdout",
       "text": [
        " \r",
        "test.csv : [ ##################                                               ] 29%"
       ]
      },
      {
       "output_type": "stream",
       "stream": "stdout",
       "text": [
        " \r",
        "test.csv : [ ###################                                              ] 30%"
       ]
      },
      {
       "output_type": "stream",
       "stream": "stdout",
       "text": [
        " \r",
        "test.csv : [ ###################                                              ] 31%"
       ]
      },
      {
       "output_type": "stream",
       "stream": "stdout",
       "text": [
        " \r",
        "test.csv : [ ####################                                             ] 32%"
       ]
      },
      {
       "output_type": "stream",
       "stream": "stdout",
       "text": [
        " \r",
        "test.csv : [ #####################                                            ] 33%"
       ]
      },
      {
       "output_type": "stream",
       "stream": "stdout",
       "text": [
        " \r",
        "test.csv : [ #####################                                            ] 34%"
       ]
      },
      {
       "output_type": "stream",
       "stream": "stdout",
       "text": [
        " \r",
        "test.csv : [ ######################                                           ] 35%"
       ]
      },
      {
       "output_type": "stream",
       "stream": "stdout",
       "text": [
        " \r",
        "test.csv : [ #######################                                          ] 36%"
       ]
      },
      {
       "output_type": "stream",
       "stream": "stdout",
       "text": [
        " \r",
        "test.csv : [ #######################                                          ] 37%"
       ]
      },
      {
       "output_type": "stream",
       "stream": "stdout",
       "text": [
        " \r",
        "test.csv : [ ########################                                         ] 38%"
       ]
      },
      {
       "output_type": "stream",
       "stream": "stdout",
       "text": [
        " \r",
        "test.csv : [ ########################                                         ] 39%"
       ]
      },
      {
       "output_type": "stream",
       "stream": "stdout",
       "text": [
        " \r",
        "test.csv : [ #########################                                        ] 40%"
       ]
      },
      {
       "output_type": "stream",
       "stream": "stdout",
       "text": [
        " \r",
        "test.csv : [ ##########################                                       ] 41%"
       ]
      },
      {
       "output_type": "stream",
       "stream": "stdout",
       "text": [
        " \r",
        "test.csv : [ ##########################                                       ] 42%"
       ]
      },
      {
       "output_type": "stream",
       "stream": "stdout",
       "text": [
        " \r",
        "test.csv : [ ###########################                                      ] 43%"
       ]
      },
      {
       "output_type": "stream",
       "stream": "stdout",
       "text": [
        " \r",
        "test.csv : [ ############################                                     ] 44%"
       ]
      },
      {
       "output_type": "stream",
       "stream": "stdout",
       "text": [
        " \r",
        "test.csv : [ ############################                                     ] 45%"
       ]
      },
      {
       "output_type": "stream",
       "stream": "stdout",
       "text": [
        " \r",
        "test.csv : [ #############################                                    ] 46%"
       ]
      },
      {
       "output_type": "stream",
       "stream": "stdout",
       "text": [
        " \r",
        "test.csv : [ ##############################                                   ] 47%"
       ]
      },
      {
       "output_type": "stream",
       "stream": "stdout",
       "text": [
        " \r",
        "test.csv : [ ##############################                                   ] 48%"
       ]
      },
      {
       "output_type": "stream",
       "stream": "stdout",
       "text": [
        " \r",
        "test.csv : [ ###############################                                  ] 49%"
       ]
      },
      {
       "output_type": "stream",
       "stream": "stdout",
       "text": [
        " \r",
        "test.csv : [ ################################                                 ] 50%"
       ]
      },
      {
       "output_type": "stream",
       "stream": "stdout",
       "text": [
        " \r",
        "test.csv : [ ################################                                 ] 51%"
       ]
      },
      {
       "output_type": "stream",
       "stream": "stdout",
       "text": [
        " \r",
        "test.csv : [ #################################                                ] 52%"
       ]
      },
      {
       "output_type": "stream",
       "stream": "stdout",
       "text": [
        " \r",
        "test.csv : [ #################################                                ] 53%"
       ]
      },
      {
       "output_type": "stream",
       "stream": "stdout",
       "text": [
        " \r",
        "test.csv : [ ##################################                               ] 54%"
       ]
      },
      {
       "output_type": "stream",
       "stream": "stdout",
       "text": [
        " \r",
        "test.csv : [ ###################################                              ] 55%"
       ]
      },
      {
       "output_type": "stream",
       "stream": "stdout",
       "text": [
        " \r",
        "test.csv : [ ###################################                              ] 56%"
       ]
      },
      {
       "output_type": "stream",
       "stream": "stdout",
       "text": [
        " \r",
        "test.csv : [ ####################################                             ] 57%"
       ]
      },
      {
       "output_type": "stream",
       "stream": "stdout",
       "text": [
        " \r",
        "test.csv : [ #####################################                            ] 58%"
       ]
      },
      {
       "output_type": "stream",
       "stream": "stdout",
       "text": [
        " \r",
        "test.csv : [ #####################################                            ] 59%"
       ]
      },
      {
       "output_type": "stream",
       "stream": "stdout",
       "text": [
        " \r",
        "test.csv : [ ######################################                           ] 60%"
       ]
      },
      {
       "output_type": "stream",
       "stream": "stdout",
       "text": [
        " \r",
        "test.csv : [ #######################################                          ] 61%"
       ]
      },
      {
       "output_type": "stream",
       "stream": "stdout",
       "text": [
        " \r",
        "test.csv : [ #######################################                          ] 62%"
       ]
      },
      {
       "output_type": "stream",
       "stream": "stdout",
       "text": [
        " \r",
        "test.csv : [ ########################################                         ] 63%"
       ]
      },
      {
       "output_type": "stream",
       "stream": "stdout",
       "text": [
        " \r",
        "test.csv : [ ########################################                         ] 64%"
       ]
      },
      {
       "output_type": "stream",
       "stream": "stdout",
       "text": [
        " \r",
        "test.csv : [ #########################################                        ] 65%"
       ]
      },
      {
       "output_type": "stream",
       "stream": "stdout",
       "text": [
        " \r",
        "test.csv : [ ##########################################                       ] 66%"
       ]
      },
      {
       "output_type": "stream",
       "stream": "stdout",
       "text": [
        " \r",
        "test.csv : [ ##########################################                       ] 67%"
       ]
      },
      {
       "output_type": "stream",
       "stream": "stdout",
       "text": [
        " \r",
        "test.csv : [ ###########################################                      ] 68%"
       ]
      },
      {
       "output_type": "stream",
       "stream": "stdout",
       "text": [
        " \r",
        "test.csv : [ ############################################                     ] 69%"
       ]
      },
      {
       "output_type": "stream",
       "stream": "stdout",
       "text": [
        " \r",
        "test.csv : [ ############################################                     ] 70%"
       ]
      },
      {
       "output_type": "stream",
       "stream": "stdout",
       "text": [
        " \r",
        "test.csv : [ #############################################                    ] 71%"
       ]
      },
      {
       "output_type": "stream",
       "stream": "stdout",
       "text": [
        " \r",
        "test.csv : [ ##############################################                   ] 72%"
       ]
      },
      {
       "output_type": "stream",
       "stream": "stdout",
       "text": [
        " \r",
        "test.csv : [ ##############################################                   ] 73%"
       ]
      },
      {
       "output_type": "stream",
       "stream": "stdout",
       "text": [
        " \r",
        "test.csv : [ ###############################################                  ] 74%"
       ]
      },
      {
       "output_type": "stream",
       "stream": "stdout",
       "text": [
        " \r",
        "test.csv : [ ################################################                 ] 75%"
       ]
      },
      {
       "output_type": "stream",
       "stream": "stdout",
       "text": [
        " \r",
        "test.csv : [ ################################################                 ] 76%"
       ]
      },
      {
       "output_type": "stream",
       "stream": "stdout",
       "text": [
        " \r",
        "test.csv : [ #################################################                ] 77%"
       ]
      },
      {
       "output_type": "stream",
       "stream": "stdout",
       "text": [
        " \r",
        "test.csv : [ #################################################                ] 78%"
       ]
      },
      {
       "output_type": "stream",
       "stream": "stdout",
       "text": [
        " \r",
        "test.csv : [ ##################################################               ] 79%"
       ]
      },
      {
       "output_type": "stream",
       "stream": "stdout",
       "text": [
        " \r",
        "test.csv : [ ###################################################              ] 80%"
       ]
      },
      {
       "output_type": "stream",
       "stream": "stdout",
       "text": [
        " \r",
        "test.csv : [ ###################################################              ] 81%"
       ]
      },
      {
       "output_type": "stream",
       "stream": "stdout",
       "text": [
        " \r",
        "test.csv : [ ####################################################             ] 82%"
       ]
      },
      {
       "output_type": "stream",
       "stream": "stdout",
       "text": [
        " \r",
        "test.csv : [ #####################################################            ] 83%"
       ]
      },
      {
       "output_type": "stream",
       "stream": "stdout",
       "text": [
        " \r",
        "test.csv : [ #####################################################            ] 84%"
       ]
      },
      {
       "output_type": "stream",
       "stream": "stdout",
       "text": [
        " \r",
        "test.csv : [ ######################################################           ] 85%"
       ]
      },
      {
       "output_type": "stream",
       "stream": "stdout",
       "text": [
        " \r",
        "test.csv : [ #######################################################          ] 86%"
       ]
      },
      {
       "output_type": "stream",
       "stream": "stdout",
       "text": [
        " \r",
        "test.csv : [ #######################################################          ] 87%"
       ]
      },
      {
       "output_type": "stream",
       "stream": "stdout",
       "text": [
        " \r",
        "test.csv : [ ########################################################         ] 88%"
       ]
      },
      {
       "output_type": "stream",
       "stream": "stdout",
       "text": [
        " \r",
        "test.csv : [ ########################################################         ] 89%"
       ]
      },
      {
       "output_type": "stream",
       "stream": "stdout",
       "text": [
        " \r",
        "test.csv : [ #########################################################        ] 90%"
       ]
      },
      {
       "output_type": "stream",
       "stream": "stdout",
       "text": [
        " \r",
        "test.csv : [ ##########################################################       ] 91%"
       ]
      },
      {
       "output_type": "stream",
       "stream": "stdout",
       "text": [
        " \r",
        "test.csv : [ ##########################################################       ] 92%"
       ]
      },
      {
       "output_type": "stream",
       "stream": "stdout",
       "text": [
        " \r",
        "test.csv : [ ###########################################################      ] 93%"
       ]
      },
      {
       "output_type": "stream",
       "stream": "stdout",
       "text": [
        " \r",
        "test.csv : [ ############################################################     ] 94%"
       ]
      },
      {
       "output_type": "stream",
       "stream": "stdout",
       "text": [
        " \r",
        "test.csv : [ ############################################################     ] 95%"
       ]
      },
      {
       "output_type": "stream",
       "stream": "stdout",
       "text": [
        " \r",
        "test.csv : [ #############################################################    ] 96%"
       ]
      },
      {
       "output_type": "stream",
       "stream": "stdout",
       "text": [
        " \r",
        "test.csv : [ ##############################################################   ] 97%"
       ]
      },
      {
       "output_type": "stream",
       "stream": "stdout",
       "text": [
        " \r",
        "test.csv : [ ##############################################################   ] 98%"
       ]
      },
      {
       "output_type": "stream",
       "stream": "stdout",
       "text": [
        " \r",
        "test.csv : [ ###############################################################  ] 99%"
       ]
      },
      {
       "output_type": "stream",
       "stream": "stdout",
       "text": [
        " \r",
        "test.csv : [ ################################################################ ] 100%"
       ]
      },
      {
       "output_type": "stream",
       "stream": "stdout",
       "text": [
        "\n",
        "Log2-Likelihood : -15340.4983573\n",
        "\n"
       ]
      },
      {
       "metadata": {},
       "output_type": "pyout",
       "prompt_number": 11,
       "text": [
        "-15340.498357291694"
       ]
      }
     ],
     "prompt_number": 11
    },
    {
     "cell_type": "markdown",
     "metadata": {},
     "source": [
      "BN as a classifier\n",
      "------------------\n",
      "\n",
      "(because of the use of from-bn-generated csv files, quite good ROC curves are expected)"
     ]
    },
    {
     "cell_type": "code",
     "collapsed": false,
     "input": [
      "from gumLib.bn2roc import showROC\n",
      "showROC(bn,\"test.csv\",'CATECHOL','HIGH',True,True)"
     ],
     "language": "python",
     "metadata": {},
     "outputs": [
      {
       "output_type": "stream",
       "stream": "stdout",
       "text": [
        "\r",
        "test.csv : [                                                                  ] 1%"
       ]
      },
      {
       "output_type": "stream",
       "stream": "stdout",
       "text": [
        " \r",
        "test.csv : [ #                                                                ] 2%"
       ]
      },
      {
       "output_type": "stream",
       "stream": "stdout",
       "text": [
        " \r",
        "test.csv : [ #                                                                ] 3%"
       ]
      },
      {
       "output_type": "stream",
       "stream": "stdout",
       "text": [
        " \r",
        "test.csv : [ ##                                                               ] 4%"
       ]
      },
      {
       "output_type": "stream",
       "stream": "stdout",
       "text": [
        " \r",
        "test.csv : [ ###                                                              ] 5%"
       ]
      },
      {
       "output_type": "stream",
       "stream": "stdout",
       "text": [
        " \r",
        "test.csv : [ ###                                                              ] 6%"
       ]
      },
      {
       "output_type": "stream",
       "stream": "stdout",
       "text": [
        " \r",
        "test.csv : [ ####                                                             ] 7%"
       ]
      },
      {
       "output_type": "stream",
       "stream": "stdout",
       "text": [
        " \r",
        "test.csv : [ #####                                                            ] 8%"
       ]
      },
      {
       "output_type": "stream",
       "stream": "stdout",
       "text": [
        " \r",
        "test.csv : [ #####                                                            ] 9%"
       ]
      },
      {
       "output_type": "stream",
       "stream": "stdout",
       "text": [
        " \r",
        "test.csv : [ ######                                                           ] 10%"
       ]
      },
      {
       "output_type": "stream",
       "stream": "stdout",
       "text": [
        " \r",
        "test.csv : [ #######                                                          ] 11%"
       ]
      },
      {
       "output_type": "stream",
       "stream": "stdout",
       "text": [
        " \r",
        "test.csv : [ #######                                                          ] 12%"
       ]
      },
      {
       "output_type": "stream",
       "stream": "stdout",
       "text": [
        " \r",
        "test.csv : [ ########                                                         ] 13%"
       ]
      },
      {
       "output_type": "stream",
       "stream": "stdout",
       "text": [
        " \r",
        "test.csv : [ ########                                                         ] 14%"
       ]
      },
      {
       "output_type": "stream",
       "stream": "stdout",
       "text": [
        " \r",
        "test.csv : [ #########                                                        ] 15%"
       ]
      },
      {
       "output_type": "stream",
       "stream": "stdout",
       "text": [
        " \r",
        "test.csv : [ ##########                                                       ] 16%"
       ]
      },
      {
       "output_type": "stream",
       "stream": "stdout",
       "text": [
        " \r",
        "test.csv : [ ##########                                                       ] 17%"
       ]
      },
      {
       "output_type": "stream",
       "stream": "stdout",
       "text": [
        " \r",
        "test.csv : [ ###########                                                      ] 18%"
       ]
      },
      {
       "output_type": "stream",
       "stream": "stdout",
       "text": [
        " \r",
        "test.csv : [ ############                                                     ] 19%"
       ]
      },
      {
       "output_type": "stream",
       "stream": "stdout",
       "text": [
        " \r",
        "test.csv : [ ############                                                     ] 20%"
       ]
      },
      {
       "output_type": "stream",
       "stream": "stdout",
       "text": [
        " \r",
        "test.csv : [ #############                                                    ] 21%"
       ]
      },
      {
       "output_type": "stream",
       "stream": "stdout",
       "text": [
        " \r",
        "test.csv : [ ##############                                                   ] 22%"
       ]
      },
      {
       "output_type": "stream",
       "stream": "stdout",
       "text": [
        " \r",
        "test.csv : [ ##############                                                   ] 23%"
       ]
      },
      {
       "output_type": "stream",
       "stream": "stdout",
       "text": [
        " \r",
        "test.csv : [ ###############                                                  ] 24%"
       ]
      },
      {
       "output_type": "stream",
       "stream": "stdout",
       "text": [
        " \r",
        "test.csv : [ ################                                                 ] 25%"
       ]
      },
      {
       "output_type": "stream",
       "stream": "stdout",
       "text": [
        " \r",
        "test.csv : [ ################                                                 ] 26%"
       ]
      },
      {
       "output_type": "stream",
       "stream": "stdout",
       "text": [
        " \r",
        "test.csv : [ #################                                                ] 27%"
       ]
      },
      {
       "output_type": "stream",
       "stream": "stdout",
       "text": [
        " \r",
        "test.csv : [ #################                                                ] 28%"
       ]
      },
      {
       "output_type": "stream",
       "stream": "stdout",
       "text": [
        " \r",
        "test.csv : [ ##################                                               ] 29%"
       ]
      },
      {
       "output_type": "stream",
       "stream": "stdout",
       "text": [
        " \r",
        "test.csv : [ ###################                                              ] 30%"
       ]
      },
      {
       "output_type": "stream",
       "stream": "stdout",
       "text": [
        " \r",
        "test.csv : [ ###################                                              ] 31%"
       ]
      },
      {
       "output_type": "stream",
       "stream": "stdout",
       "text": [
        " \r",
        "test.csv : [ ####################                                             ] 32%"
       ]
      },
      {
       "output_type": "stream",
       "stream": "stdout",
       "text": [
        " \r",
        "test.csv : [ #####################                                            ] 33%"
       ]
      },
      {
       "output_type": "stream",
       "stream": "stdout",
       "text": [
        " \r",
        "test.csv : [ #####################                                            ] 34%"
       ]
      },
      {
       "output_type": "stream",
       "stream": "stdout",
       "text": [
        " \r",
        "test.csv : [ ######################                                           ] 35%"
       ]
      },
      {
       "output_type": "stream",
       "stream": "stdout",
       "text": [
        " \r",
        "test.csv : [ #######################                                          ] 36%"
       ]
      },
      {
       "output_type": "stream",
       "stream": "stdout",
       "text": [
        " \r",
        "test.csv : [ #######################                                          ] 37%"
       ]
      },
      {
       "output_type": "stream",
       "stream": "stdout",
       "text": [
        " \r",
        "test.csv : [ ########################                                         ] 38%"
       ]
      },
      {
       "output_type": "stream",
       "stream": "stdout",
       "text": [
        " \r",
        "test.csv : [ ########################                                         ] 39%"
       ]
      },
      {
       "output_type": "stream",
       "stream": "stdout",
       "text": [
        " \r",
        "test.csv : [ #########################                                        ] 40%"
       ]
      },
      {
       "output_type": "stream",
       "stream": "stdout",
       "text": [
        " \r",
        "test.csv : [ ##########################                                       ] 41%"
       ]
      },
      {
       "output_type": "stream",
       "stream": "stdout",
       "text": [
        " \r",
        "test.csv : [ ##########################                                       ] 42%"
       ]
      },
      {
       "output_type": "stream",
       "stream": "stdout",
       "text": [
        " \r",
        "test.csv : [ ###########################                                      ] 43%"
       ]
      },
      {
       "output_type": "stream",
       "stream": "stdout",
       "text": [
        " \r",
        "test.csv : [ ############################                                     ] 44%"
       ]
      },
      {
       "output_type": "stream",
       "stream": "stdout",
       "text": [
        " \r",
        "test.csv : [ ############################                                     ] 45%"
       ]
      },
      {
       "output_type": "stream",
       "stream": "stdout",
       "text": [
        " \r",
        "test.csv : [ #############################                                    ] 46%"
       ]
      },
      {
       "output_type": "stream",
       "stream": "stdout",
       "text": [
        " \r",
        "test.csv : [ ##############################                                   ] 47%"
       ]
      },
      {
       "output_type": "stream",
       "stream": "stdout",
       "text": [
        " \r",
        "test.csv : [ ##############################                                   ] 48%"
       ]
      },
      {
       "output_type": "stream",
       "stream": "stdout",
       "text": [
        " \r",
        "test.csv : [ ###############################                                  ] 49%"
       ]
      },
      {
       "output_type": "stream",
       "stream": "stdout",
       "text": [
        " \r",
        "test.csv : [ ################################                                 ] 50%"
       ]
      },
      {
       "output_type": "stream",
       "stream": "stdout",
       "text": [
        " \r",
        "test.csv : [ ################################                                 ] 51%"
       ]
      },
      {
       "output_type": "stream",
       "stream": "stdout",
       "text": [
        " \r",
        "test.csv : [ #################################                                ] 52%"
       ]
      },
      {
       "output_type": "stream",
       "stream": "stdout",
       "text": [
        " \r",
        "test.csv : [ #################################                                ] 53%"
       ]
      },
      {
       "output_type": "stream",
       "stream": "stdout",
       "text": [
        " \r",
        "test.csv : [ ##################################                               ] 54%"
       ]
      },
      {
       "output_type": "stream",
       "stream": "stdout",
       "text": [
        " \r",
        "test.csv : [ ###################################                              ] 55%"
       ]
      },
      {
       "output_type": "stream",
       "stream": "stdout",
       "text": [
        " \r",
        "test.csv : [ ###################################                              ] 56%"
       ]
      },
      {
       "output_type": "stream",
       "stream": "stdout",
       "text": [
        " \r",
        "test.csv : [ ####################################                             ] 57%"
       ]
      },
      {
       "output_type": "stream",
       "stream": "stdout",
       "text": [
        " \r",
        "test.csv : [ #####################################                            ] 58%"
       ]
      },
      {
       "output_type": "stream",
       "stream": "stdout",
       "text": [
        " \r",
        "test.csv : [ #####################################                            ] 59%"
       ]
      },
      {
       "output_type": "stream",
       "stream": "stdout",
       "text": [
        " \r",
        "test.csv : [ ######################################                           ] 60%"
       ]
      },
      {
       "output_type": "stream",
       "stream": "stdout",
       "text": [
        " \r",
        "test.csv : [ #######################################                          ] 61%"
       ]
      },
      {
       "output_type": "stream",
       "stream": "stdout",
       "text": [
        " \r",
        "test.csv : [ #######################################                          ] 62%"
       ]
      },
      {
       "output_type": "stream",
       "stream": "stdout",
       "text": [
        " \r",
        "test.csv : [ ########################################                         ] 63%"
       ]
      },
      {
       "output_type": "stream",
       "stream": "stdout",
       "text": [
        " \r",
        "test.csv : [ ########################################                         ] 64%"
       ]
      },
      {
       "output_type": "stream",
       "stream": "stdout",
       "text": [
        " \r",
        "test.csv : [ #########################################                        ] 65%"
       ]
      },
      {
       "output_type": "stream",
       "stream": "stdout",
       "text": [
        " \r",
        "test.csv : [ ##########################################                       ] 66%"
       ]
      },
      {
       "output_type": "stream",
       "stream": "stdout",
       "text": [
        " \r",
        "test.csv : [ ##########################################                       ] 67%"
       ]
      },
      {
       "output_type": "stream",
       "stream": "stdout",
       "text": [
        " \r",
        "test.csv : [ ###########################################                      ] 68%"
       ]
      },
      {
       "output_type": "stream",
       "stream": "stdout",
       "text": [
        " \r",
        "test.csv : [ ############################################                     ] 69%"
       ]
      },
      {
       "output_type": "stream",
       "stream": "stdout",
       "text": [
        " \r",
        "test.csv : [ ############################################                     ] 70%"
       ]
      },
      {
       "output_type": "stream",
       "stream": "stdout",
       "text": [
        " \r",
        "test.csv : [ #############################################                    ] 71%"
       ]
      },
      {
       "output_type": "stream",
       "stream": "stdout",
       "text": [
        " \r",
        "test.csv : [ ##############################################                   ] 72%"
       ]
      },
      {
       "output_type": "stream",
       "stream": "stdout",
       "text": [
        " \r",
        "test.csv : [ ##############################################                   ] 73%"
       ]
      },
      {
       "output_type": "stream",
       "stream": "stdout",
       "text": [
        " \r",
        "test.csv : [ ###############################################                  ] 74%"
       ]
      },
      {
       "output_type": "stream",
       "stream": "stdout",
       "text": [
        " \r",
        "test.csv : [ ################################################                 ] 75%"
       ]
      },
      {
       "output_type": "stream",
       "stream": "stdout",
       "text": [
        " \r",
        "test.csv : [ ################################################                 ] 76%"
       ]
      },
      {
       "output_type": "stream",
       "stream": "stdout",
       "text": [
        " \r",
        "test.csv : [ #################################################                ] 77%"
       ]
      },
      {
       "output_type": "stream",
       "stream": "stdout",
       "text": [
        " \r",
        "test.csv : [ #################################################                ] 78%"
       ]
      },
      {
       "output_type": "stream",
       "stream": "stdout",
       "text": [
        " \r",
        "test.csv : [ ##################################################               ] 79%"
       ]
      },
      {
       "output_type": "stream",
       "stream": "stdout",
       "text": [
        " \r",
        "test.csv : [ ###################################################              ] 80%"
       ]
      },
      {
       "output_type": "stream",
       "stream": "stdout",
       "text": [
        " \r",
        "test.csv : [ ###################################################              ] 81%"
       ]
      },
      {
       "output_type": "stream",
       "stream": "stdout",
       "text": [
        " \r",
        "test.csv : [ ####################################################             ] 82%"
       ]
      },
      {
       "output_type": "stream",
       "stream": "stdout",
       "text": [
        " \r",
        "test.csv : [ #####################################################            ] 83%"
       ]
      },
      {
       "output_type": "stream",
       "stream": "stdout",
       "text": [
        " \r",
        "test.csv : [ #####################################################            ] 84%"
       ]
      },
      {
       "output_type": "stream",
       "stream": "stdout",
       "text": [
        " \r",
        "test.csv : [ ######################################################           ] 85%"
       ]
      },
      {
       "output_type": "stream",
       "stream": "stdout",
       "text": [
        " \r",
        "test.csv : [ #######################################################          ] 86%"
       ]
      },
      {
       "output_type": "stream",
       "stream": "stdout",
       "text": [
        " \r",
        "test.csv : [ #######################################################          ] 87%"
       ]
      },
      {
       "output_type": "stream",
       "stream": "stdout",
       "text": [
        " \r",
        "test.csv : [ ########################################################         ] 88%"
       ]
      },
      {
       "output_type": "stream",
       "stream": "stdout",
       "text": [
        " \r",
        "test.csv : [ ########################################################         ] 89%"
       ]
      },
      {
       "output_type": "stream",
       "stream": "stdout",
       "text": [
        " \r",
        "test.csv : [ #########################################################        ] 90%"
       ]
      },
      {
       "output_type": "stream",
       "stream": "stdout",
       "text": [
        " \r",
        "test.csv : [ ##########################################################       ] 91%"
       ]
      },
      {
       "output_type": "stream",
       "stream": "stdout",
       "text": [
        " \r",
        "test.csv : [ ##########################################################       ] 92%"
       ]
      },
      {
       "output_type": "stream",
       "stream": "stdout",
       "text": [
        " \r",
        "test.csv : [ ###########################################################      ] 93%"
       ]
      },
      {
       "output_type": "stream",
       "stream": "stdout",
       "text": [
        " \r",
        "test.csv : [ ############################################################     ] 94%"
       ]
      },
      {
       "output_type": "stream",
       "stream": "stdout",
       "text": [
        " \r",
        "test.csv : [ ############################################################     ] 95%"
       ]
      },
      {
       "output_type": "stream",
       "stream": "stdout",
       "text": [
        " \r",
        "test.csv : [ #############################################################    ] 96%"
       ]
      },
      {
       "output_type": "stream",
       "stream": "stdout",
       "text": [
        " \r",
        "test.csv : [ ##############################################################   ] 97%"
       ]
      },
      {
       "output_type": "stream",
       "stream": "stdout",
       "text": [
        " \r",
        "test.csv : [ ##############################################################   ] 98%"
       ]
      },
      {
       "output_type": "stream",
       "stream": "stdout",
       "text": [
        " \r",
        "test.csv : [ ###############################################################  ] 99%"
       ]
      },
      {
       "output_type": "stream",
       "stream": "stdout",
       "text": [
        " \r",
        "test.csv : [ ################################################################ ] 100%"
       ]
      },
      {
       "output_type": "stream",
       "stream": "stdout",
       "text": [
        "\n",
        "result in roc_alarm.dsl-test.csv-CATECHOL-HIGH.png"
       ]
      },
      {
       "output_type": "stream",
       "stream": "stdout",
       "text": [
        "\n"
       ]
      },
      {
       "metadata": {},
       "output_type": "display_data",
       "png": "[encoded data removed]",
       "text": [
        "<matplotlib.figure.Figure at 0x10e9534d0>"
       ]
      }
     ],
     "prompt_number": 12
    },
    {
     "cell_type": "code",
     "collapsed": false,
     "input": [
      "showROC(bn,\"test.csv\",'SAO2','HIGH',True,True)"
     ],
     "language": "python",
     "metadata": {},
     "outputs": [
      {
       "output_type": "stream",
       "stream": "stdout",
       "text": [
        "\r",
        "test.csv : [                                                                  ] 1%"
       ]
      },
      {
       "output_type": "stream",
       "stream": "stdout",
       "text": [
        " \r",
        "test.csv : [ #                                                                ] 2%"
       ]
      },
      {
       "output_type": "stream",
       "stream": "stdout",
       "text": [
        " \r",
        "test.csv : [ #                                                                ] 3%"
       ]
      },
      {
       "output_type": "stream",
       "stream": "stdout",
       "text": [
        " \r",
        "test.csv : [ ##                                                               ] 4%"
       ]
      },
      {
       "output_type": "stream",
       "stream": "stdout",
       "text": [
        " \r",
        "test.csv : [ ###                                                              ] 5%"
       ]
      },
      {
       "output_type": "stream",
       "stream": "stdout",
       "text": [
        " \r",
        "test.csv : [ ###                                                              ] 6%"
       ]
      },
      {
       "output_type": "stream",
       "stream": "stdout",
       "text": [
        " \r",
        "test.csv : [ ####                                                             ] 7%"
       ]
      },
      {
       "output_type": "stream",
       "stream": "stdout",
       "text": [
        " \r",
        "test.csv : [ #####                                                            ] 8%"
       ]
      },
      {
       "output_type": "stream",
       "stream": "stdout",
       "text": [
        " \r",
        "test.csv : [ #####                                                            ] 9%"
       ]
      },
      {
       "output_type": "stream",
       "stream": "stdout",
       "text": [
        " \r",
        "test.csv : [ ######                                                           ] 10%"
       ]
      },
      {
       "output_type": "stream",
       "stream": "stdout",
       "text": [
        " \r",
        "test.csv : [ #######                                                          ] 11%"
       ]
      },
      {
       "output_type": "stream",
       "stream": "stdout",
       "text": [
        " \r",
        "test.csv : [ #######                                                          ] 12%"
       ]
      },
      {
       "output_type": "stream",
       "stream": "stdout",
       "text": [
        " \r",
        "test.csv : [ ########                                                         ] 13%"
       ]
      },
      {
       "output_type": "stream",
       "stream": "stdout",
       "text": [
        " \r",
        "test.csv : [ ########                                                         ] 14%"
       ]
      },
      {
       "output_type": "stream",
       "stream": "stdout",
       "text": [
        " \r",
        "test.csv : [ #########                                                        ] 15%"
       ]
      },
      {
       "output_type": "stream",
       "stream": "stdout",
       "text": [
        " \r",
        "test.csv : [ ##########                                                       ] 16%"
       ]
      },
      {
       "output_type": "stream",
       "stream": "stdout",
       "text": [
        " \r",
        "test.csv : [ ##########                                                       ] 17%"
       ]
      },
      {
       "output_type": "stream",
       "stream": "stdout",
       "text": [
        " \r",
        "test.csv : [ ###########                                                      ] 18%"
       ]
      },
      {
       "output_type": "stream",
       "stream": "stdout",
       "text": [
        " \r",
        "test.csv : [ ############                                                     ] 19%"
       ]
      },
      {
       "output_type": "stream",
       "stream": "stdout",
       "text": [
        " \r",
        "test.csv : [ ############                                                     ] 20%"
       ]
      },
      {
       "output_type": "stream",
       "stream": "stdout",
       "text": [
        " \r",
        "test.csv : [ #############                                                    ] 21%"
       ]
      },
      {
       "output_type": "stream",
       "stream": "stdout",
       "text": [
        " \r",
        "test.csv : [ ##############                                                   ] 22%"
       ]
      },
      {
       "output_type": "stream",
       "stream": "stdout",
       "text": [
        " \r",
        "test.csv : [ ##############                                                   ] 23%"
       ]
      },
      {
       "output_type": "stream",
       "stream": "stdout",
       "text": [
        " \r",
        "test.csv : [ ###############                                                  ] 24%"
       ]
      },
      {
       "output_type": "stream",
       "stream": "stdout",
       "text": [
        " \r",
        "test.csv : [ ################                                                 ] 25%"
       ]
      },
      {
       "output_type": "stream",
       "stream": "stdout",
       "text": [
        " \r",
        "test.csv : [ ################                                                 ] 26%"
       ]
      },
      {
       "output_type": "stream",
       "stream": "stdout",
       "text": [
        " \r",
        "test.csv : [ #################                                                ] 27%"
       ]
      },
      {
       "output_type": "stream",
       "stream": "stdout",
       "text": [
        " \r",
        "test.csv : [ #################                                                ] 28%"
       ]
      },
      {
       "output_type": "stream",
       "stream": "stdout",
       "text": [
        " \r",
        "test.csv : [ ##################                                               ] 29%"
       ]
      },
      {
       "output_type": "stream",
       "stream": "stdout",
       "text": [
        " \r",
        "test.csv : [ ###################                                              ] 30%"
       ]
      },
      {
       "output_type": "stream",
       "stream": "stdout",
       "text": [
        " \r",
        "test.csv : [ ###################                                              ] 31%"
       ]
      },
      {
       "output_type": "stream",
       "stream": "stdout",
       "text": [
        " \r",
        "test.csv : [ ####################                                             ] 32%"
       ]
      },
      {
       "output_type": "stream",
       "stream": "stdout",
       "text": [
        " \r",
        "test.csv : [ #####################                                            ] 33%"
       ]
      },
      {
       "output_type": "stream",
       "stream": "stdout",
       "text": [
        " \r",
        "test.csv : [ #####################                                            ] 34%"
       ]
      },
      {
       "output_type": "stream",
       "stream": "stdout",
       "text": [
        " \r",
        "test.csv : [ ######################                                           ] 35%"
       ]
      },
      {
       "output_type": "stream",
       "stream": "stdout",
       "text": [
        " \r",
        "test.csv : [ #######################                                          ] 36%"
       ]
      },
      {
       "output_type": "stream",
       "stream": "stdout",
       "text": [
        " \r",
        "test.csv : [ #######################                                          ] 37%"
       ]
      },
      {
       "output_type": "stream",
       "stream": "stdout",
       "text": [
        " \r",
        "test.csv : [ ########################                                         ] 38%"
       ]
      },
      {
       "output_type": "stream",
       "stream": "stdout",
       "text": [
        " \r",
        "test.csv : [ ########################                                         ] 39%"
       ]
      },
      {
       "output_type": "stream",
       "stream": "stdout",
       "text": [
        " \r",
        "test.csv : [ #########################                                        ] 40%"
       ]
      },
      {
       "output_type": "stream",
       "stream": "stdout",
       "text": [
        " \r",
        "test.csv : [ ##########################                                       ] 41%"
       ]
      },
      {
       "output_type": "stream",
       "stream": "stdout",
       "text": [
        " \r",
        "test.csv : [ ##########################                                       ] 42%"
       ]
      },
      {
       "output_type": "stream",
       "stream": "stdout",
       "text": [
        " \r",
        "test.csv : [ ###########################                                      ] 43%"
       ]
      },
      {
       "output_type": "stream",
       "stream": "stdout",
       "text": [
        " \r",
        "test.csv : [ ############################                                     ] 44%"
       ]
      },
      {
       "output_type": "stream",
       "stream": "stdout",
       "text": [
        " \r",
        "test.csv : [ ############################                                     ] 45%"
       ]
      },
      {
       "output_type": "stream",
       "stream": "stdout",
       "text": [
        " \r",
        "test.csv : [ #############################                                    ] 46%"
       ]
      },
      {
       "output_type": "stream",
       "stream": "stdout",
       "text": [
        " \r",
        "test.csv : [ ##############################                                   ] 47%"
       ]
      },
      {
       "output_type": "stream",
       "stream": "stdout",
       "text": [
        " \r",
        "test.csv : [ ##############################                                   ] 48%"
       ]
      },
      {
       "output_type": "stream",
       "stream": "stdout",
       "text": [
        " \r",
        "test.csv : [ ###############################                                  ] 49%"
       ]
      },
      {
       "output_type": "stream",
       "stream": "stdout",
       "text": [
        " \r",
        "test.csv : [ ################################                                 ] 50%"
       ]
      },
      {
       "output_type": "stream",
       "stream": "stdout",
       "text": [
        " \r",
        "test.csv : [ ################################                                 ] 51%"
       ]
      },
      {
       "output_type": "stream",
       "stream": "stdout",
       "text": [
        " \r",
        "test.csv : [ #################################                                ] 52%"
       ]
      },
      {
       "output_type": "stream",
       "stream": "stdout",
       "text": [
        " \r",
        "test.csv : [ #################################                                ] 53%"
       ]
      },
      {
       "output_type": "stream",
       "stream": "stdout",
       "text": [
        " \r",
        "test.csv : [ ##################################                               ] 54%"
       ]
      },
      {
       "output_type": "stream",
       "stream": "stdout",
       "text": [
        " \r",
        "test.csv : [ ###################################                              ] 55%"
       ]
      },
      {
       "output_type": "stream",
       "stream": "stdout",
       "text": [
        " \r",
        "test.csv : [ ###################################                              ] 56%"
       ]
      },
      {
       "output_type": "stream",
       "stream": "stdout",
       "text": [
        " \r",
        "test.csv : [ ####################################                             ] 57%"
       ]
      },
      {
       "output_type": "stream",
       "stream": "stdout",
       "text": [
        " \r",
        "test.csv : [ #####################################                            ] 58%"
       ]
      },
      {
       "output_type": "stream",
       "stream": "stdout",
       "text": [
        " \r",
        "test.csv : [ #####################################                            ] 59%"
       ]
      },
      {
       "output_type": "stream",
       "stream": "stdout",
       "text": [
        " \r",
        "test.csv : [ ######################################                           ] 60%"
       ]
      },
      {
       "output_type": "stream",
       "stream": "stdout",
       "text": [
        " \r",
        "test.csv : [ #######################################                          ] 61%"
       ]
      },
      {
       "output_type": "stream",
       "stream": "stdout",
       "text": [
        " \r",
        "test.csv : [ #######################################                          ] 62%"
       ]
      },
      {
       "output_type": "stream",
       "stream": "stdout",
       "text": [
        " \r",
        "test.csv : [ ########################################                         ] 63%"
       ]
      },
      {
       "output_type": "stream",
       "stream": "stdout",
       "text": [
        " \r",
        "test.csv : [ ########################################                         ] 64%"
       ]
      },
      {
       "output_type": "stream",
       "stream": "stdout",
       "text": [
        " \r",
        "test.csv : [ #########################################                        ] 65%"
       ]
      },
      {
       "output_type": "stream",
       "stream": "stdout",
       "text": [
        " \r",
        "test.csv : [ ##########################################                       ] 66%"
       ]
      },
      {
       "output_type": "stream",
       "stream": "stdout",
       "text": [
        " \r",
        "test.csv : [ ##########################################                       ] 67%"
       ]
      },
      {
       "output_type": "stream",
       "stream": "stdout",
       "text": [
        " \r",
        "test.csv : [ ###########################################                      ] 68%"
       ]
      },
      {
       "output_type": "stream",
       "stream": "stdout",
       "text": [
        " \r",
        "test.csv : [ ############################################                     ] 69%"
       ]
      },
      {
       "output_type": "stream",
       "stream": "stdout",
       "text": [
        " \r",
        "test.csv : [ ############################################                     ] 70%"
       ]
      },
      {
       "output_type": "stream",
       "stream": "stdout",
       "text": [
        " \r",
        "test.csv : [ #############################################                    ] 71%"
       ]
      },
      {
       "output_type": "stream",
       "stream": "stdout",
       "text": [
        " \r",
        "test.csv : [ ##############################################                   ] 72%"
       ]
      },
      {
       "output_type": "stream",
       "stream": "stdout",
       "text": [
        " \r",
        "test.csv : [ ##############################################                   ] 73%"
       ]
      },
      {
       "output_type": "stream",
       "stream": "stdout",
       "text": [
        " \r",
        "test.csv : [ ###############################################                  ] 74%"
       ]
      },
      {
       "output_type": "stream",
       "stream": "stdout",
       "text": [
        " \r",
        "test.csv : [ ################################################                 ] 75%"
       ]
      },
      {
       "output_type": "stream",
       "stream": "stdout",
       "text": [
        " \r",
        "test.csv : [ ################################################                 ] 76%"
       ]
      },
      {
       "output_type": "stream",
       "stream": "stdout",
       "text": [
        " \r",
        "test.csv : [ #################################################                ] 77%"
       ]
      },
      {
       "output_type": "stream",
       "stream": "stdout",
       "text": [
        " \r",
        "test.csv : [ #################################################                ] 78%"
       ]
      },
      {
       "output_type": "stream",
       "stream": "stdout",
       "text": [
        " \r",
        "test.csv : [ ##################################################               ] 79%"
       ]
      },
      {
       "output_type": "stream",
       "stream": "stdout",
       "text": [
        " \r",
        "test.csv : [ ###################################################              ] 80%"
       ]
      },
      {
       "output_type": "stream",
       "stream": "stdout",
       "text": [
        " \r",
        "test.csv : [ ###################################################              ] 81%"
       ]
      },
      {
       "output_type": "stream",
       "stream": "stdout",
       "text": [
        " \r",
        "test.csv : [ ####################################################             ] 82%"
       ]
      },
      {
       "output_type": "stream",
       "stream": "stdout",
       "text": [
        " \r",
        "test.csv : [ #####################################################            ] 83%"
       ]
      },
      {
       "output_type": "stream",
       "stream": "stdout",
       "text": [
        " \r",
        "test.csv : [ #####################################################            ] 84%"
       ]
      },
      {
       "output_type": "stream",
       "stream": "stdout",
       "text": [
        " \r",
        "test.csv : [ ######################################################           ] 85%"
       ]
      },
      {
       "output_type": "stream",
       "stream": "stdout",
       "text": [
        " \r",
        "test.csv : [ #######################################################          ] 86%"
       ]
      },
      {
       "output_type": "stream",
       "stream": "stdout",
       "text": [
        " \r",
        "test.csv : [ #######################################################          ] 87%"
       ]
      },
      {
       "output_type": "stream",
       "stream": "stdout",
       "text": [
        " \r",
        "test.csv : [ ########################################################         ] 88%"
       ]
      },
      {
       "output_type": "stream",
       "stream": "stdout",
       "text": [
        " \r",
        "test.csv : [ ########################################################         ] 89%"
       ]
      },
      {
       "output_type": "stream",
       "stream": "stdout",
       "text": [
        " \r",
        "test.csv : [ #########################################################        ] 90%"
       ]
      },
      {
       "output_type": "stream",
       "stream": "stdout",
       "text": [
        " \r",
        "test.csv : [ ##########################################################       ] 91%"
       ]
      },
      {
       "output_type": "stream",
       "stream": "stdout",
       "text": [
        " \r",
        "test.csv : [ ##########################################################       ] 92%"
       ]
      },
      {
       "output_type": "stream",
       "stream": "stdout",
       "text": [
        " \r",
        "test.csv : [ ###########################################################      ] 93%"
       ]
      },
      {
       "output_type": "stream",
       "stream": "stdout",
       "text": [
        " \r",
        "test.csv : [ ############################################################     ] 94%"
       ]
      },
      {
       "output_type": "stream",
       "stream": "stdout",
       "text": [
        " \r",
        "test.csv : [ ############################################################     ] 95%"
       ]
      },
      {
       "output_type": "stream",
       "stream": "stdout",
       "text": [
        " \r",
        "test.csv : [ #############################################################    ] 96%"
       ]
      },
      {
       "output_type": "stream",
       "stream": "stdout",
       "text": [
        " \r",
        "test.csv : [ ##############################################################   ] 97%"
       ]
      },
      {
       "output_type": "stream",
       "stream": "stdout",
       "text": [
        " \r",
        "test.csv : [ ##############################################################   ] 98%"
       ]
      },
      {
       "output_type": "stream",
       "stream": "stdout",
       "text": [
        " \r",
        "test.csv : [ ###############################################################  ] 99%"
       ]
      },
      {
       "output_type": "stream",
       "stream": "stdout",
       "text": [
        " \r",
        "test.csv : [ ################################################################ ] 100%"
       ]
      },
      {
       "output_type": "stream",
       "stream": "stdout",
       "text": [
        "\n",
        "result in roc_alarm.dsl-test.csv-SAO2-HIGH.png"
       ]
      },
      {
       "output_type": "stream",
       "stream": "stdout",
       "text": [
        "\n"
       ]
      },
      {
       "metadata": {},
       "output_type": "display_data",
       "png": "[encoded data removed]",
       "text": [
        "<matplotlib.figure.Figure at 0x10e8e4bd0>"
       ]
      }
     ],
     "prompt_number": 13
    },
    {
     "cell_type": "code",
     "collapsed": false,
     "input": [],
     "language": "python",
     "metadata": {},
     "outputs": []
    }
   ],
   "metadata": {}
  }
 ]
}