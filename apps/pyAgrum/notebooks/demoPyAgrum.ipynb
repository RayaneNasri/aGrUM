{
 "metadata": {
  "name": "",
  "signature": "sha256:79666dc2eebbc23f24d5cbcd3c749da3917a4e1521b8ed68b7ed50f7b9cd829e"
 },
 "nbformat": 3,
 "nbformat_minor": 0,
 "worksheets": [
  {
   "cells": [
    {
     "cell_type": "code",
     "collapsed": false,
     "input": [
      "%matplotlib inline\n",
      "from pylab import *\n",
      "import matplotlib.pyplot as plt"
     ],
     "language": "python",
     "metadata": {},
     "outputs": [],
     "prompt_number": 1
    },
    {
     "cell_type": "markdown",
     "metadata": {},
     "source": [
      "Initialisation\n",
      "==============\n",
      "\n",
      "* importing pyAgrum\n",
      "* importing gumLib tools\n",
      "* loading a BN"
     ]
    },
    {
     "cell_type": "code",
     "collapsed": true,
     "input": [
      "import pyAgrum as gum\n",
      "import gumLib.notebook as gnb\n",
      "gnb.configuration()\n"
     ],
     "language": "python",
     "metadata": {},
     "outputs": [
      {
       "html": [
        "<table width='100%'><tr><th>Library</th><th>Version</th></tr><tr><td>OS</td><td>posix [linux2]</td></tr><tr><td>Python</td><td>2.7.6 (default, Mar 22 2014, 22:59:56) \n",
        "[GCC 4.8.2]</td></tr><tr><td>IPython</td><td>2.0.0</td></tr><tr><td>MatPlotLib</td><td>1.3.1</td></tr><tr><td>Numpy</td><td>1.8.1</td></tr><tr><td>SciPy</td><td>0.13.3</td></tr><tr><td>pyAgrum</td><td>0.9.0</td></tr></table><div align='right'><small>Sat Sep 06 10:54:55 2014 CEST</small></div>"
       ],
       "metadata": {},
       "output_type": "pyout",
       "prompt_number": 2,
       "text": [
        "<IPython.core.display.HTML at 0x7f1237744890>"
       ]
      }
     ],
     "prompt_number": 2
    },
    {
     "cell_type": "code",
     "collapsed": false,
     "input": [
      "bn=gum.loadBN(\"../resources/alarm.dsl\")"
     ],
     "language": "python",
     "metadata": {},
     "outputs": [],
     "prompt_number": 3
    },
    {
     "cell_type": "markdown",
     "metadata": {},
     "source": [
      "Visualisation and inspection\n",
      "============================"
     ]
    },
    {
     "cell_type": "code",
     "collapsed": false,
     "input": [
      "print bn.variableFromName('SHUNT')"
     ],
     "language": "python",
     "metadata": {},
     "outputs": [
      {
       "output_type": "stream",
       "stream": "stdout",
       "text": [
        "SHUNT<NORMAL,HIGH>\n"
       ]
      }
     ],
     "prompt_number": 4
    },
    {
     "cell_type": "code",
     "collapsed": false,
     "input": [
      "print bn.cpt(bn.idFromName('SHUNT'))"
     ],
     "language": "python",
     "metadata": {},
     "outputs": [
      {
       "output_type": "stream",
       "stream": "stdout",
       "text": [
        "<SHUNT:NORMAL|PULMEMBOLUS:TRUE|INTUBATION:NORMAL> :: 0.1 /<SHUNT:HIGH|PULMEMBOLUS:TRUE|INTUBATION:NORMAL> :: 0.9 /<SHUNT:NORMAL|PULMEMBOLUS:FALSE|INTUBATION:NORMAL> :: 0.95 /<SHUNT:HIGH|PULMEMBOLUS:FALSE|INTUBATION:NORMAL> :: 0.05 /<SHUNT:NORMAL|PULMEMBOLUS:TRUE|INTUBATION:ESOPHAGEAL> :: 0.1 /<SHUNT:HIGH|PULMEMBOLUS:TRUE|INTUBATION:ESOPHAGEAL> :: 0.9 /<SHUNT:NORMAL|PULMEMBOLUS:FALSE|INTUBATION:ESOPHAGEAL> :: 0.95 /<SHUNT:HIGH|PULMEMBOLUS:FALSE|INTUBATION:ESOPHAGEAL> :: 0.05 /<SHUNT:NORMAL|PULMEMBOLUS:TRUE|INTUBATION:ONESIDED> :: 0.01 /<SHUNT:HIGH|PULMEMBOLUS:TRUE|INTUBATION:ONESIDED> :: 0.99 /<SHUNT:NORMAL|PULMEMBOLUS:FALSE|INTUBATION:ONESIDED> :: 0.05 /<SHUNT:HIGH|PULMEMBOLUS:FALSE|INTUBATION:ONESIDED> :: 0.95\n"
       ]
      }
     ],
     "prompt_number": 5
    },
    {
     "cell_type": "code",
     "collapsed": false,
     "input": [
      "from gumLib.pretty_print import pretty_cpt\n",
      "pretty_cpt(bn.cpt(bn.idFromName('SHUNT')))"
     ],
     "language": "python",
     "metadata": {},
     "outputs": [
      {
       "output_type": "stream",
       "stream": "stdout",
       "text": [
        "                          |---------------|\n",
        "--------------------------|     SHUNT     |\n",
        " PULMEMBOLUS | INTUBATION | NORMAL  HIGH  |\n",
        "--------------------------|---------------|\n",
        "    TRUE     |   NORMAL   | 0.1000 0.9000 |\n",
        "    FALSE    |   NORMAL   | 0.9500 0.0500 |\n",
        "    TRUE     | ESOPHAGEAL | 0.1000 0.9000 |\n",
        "    FALSE    | ESOPHAGEAL | 0.9500 0.0500 |\n",
        "    TRUE     |  ONESIDED  | 0.0100 0.9900 |\n",
        "    FALSE    |  ONESIDED  | 0.0500 0.9500 |\n",
        "--------------------------|---------------|\n"
       ]
      }
     ],
     "prompt_number": 6
    },
    {
     "cell_type": "code",
     "collapsed": false,
     "input": [
      "gnb.showBN(bn,size=\"7\")"
     ],
     "language": "python",
     "metadata": {},
     "outputs": [
      {
       "html": [
        "<div align='center'><svg height=\"310pt\" viewBox=\"0.00 0.00 504.00 309.78\" width=\"504pt\" xmlns=\"http://www.w3.org/2000/svg\" xmlns:xlink=\"http://www.w3.org/1999/xlink\">\n",
        "<g class=\"graph\" id=\"graph0\" transform=\"scale(0.405471 0.405471) rotate(0) translate(4 760)\">\n",
        "<title>G</title>\n",
        "<polygon fill=\"white\" points=\"-4,4 -4,-760 1239,-760 1239,4 -4,4\" stroke=\"none\"/>\n",
        "<!-- KINKEDTUBE -->\n",
        "<g class=\"node\" id=\"node1\"><title>KINKEDTUBE</title>\n",
        "<g id=\"a_node1\"><a xlink:title=\"(0) KINKEDTUBE\">\n",
        "<ellipse cx=\"281\" cy=\"-594\" fill=\"#444444\" rx=\"67.3907\" ry=\"18\" stroke=\"black\"/>\n",
        "<text fill=\"#ffffff\" font-family=\"Times,serif\" font-size=\"14.00\" text-anchor=\"middle\" x=\"281\" y=\"-590.3\">KINKEDTUBE</text>\n",
        "</a>\n",
        "</g>\n",
        "</g>\n",
        "<!-- VENTLUNG -->\n",
        "<g class=\"node\" id=\"node23\"><title>VENTLUNG</title>\n",
        "<g id=\"a_node23\"><a xlink:title=\"(22) VENTLUNG\">\n",
        "<ellipse cx=\"308\" cy=\"-522\" fill=\"#444444\" rx=\"58.2422\" ry=\"18\" stroke=\"black\"/>\n",
        "<text fill=\"#ffffff\" font-family=\"Times,serif\" font-size=\"14.00\" text-anchor=\"middle\" x=\"308\" y=\"-518.3\">VENTLUNG</text>\n",
        "</a>\n",
        "</g>\n",
        "</g>\n",
        "<!-- KINKEDTUBE&#45;&gt;VENTLUNG -->\n",
        "<g class=\"edge\" id=\"edge36\"><title>KINKEDTUBE-&gt;VENTLUNG</title>\n",
        "<path d=\"M287.536,-576.055C290.575,-568.176 294.262,-558.617 297.665,-549.794\" fill=\"none\" stroke=\"black\"/>\n",
        "<polygon fill=\"black\" points=\"301.003,-550.865 301.337,-540.275 294.472,-548.346 301.003,-550.865\" stroke=\"black\"/>\n",
        "</g>\n",
        "<!-- PRESS -->\n",
        "<g class=\"node\" id=\"node25\"><title>PRESS</title>\n",
        "<g id=\"a_node25\"><a xlink:title=\"(24) PRESS\">\n",
        "<ellipse cx=\"195\" cy=\"-522\" fill=\"#444444\" rx=\"36.096\" ry=\"18\" stroke=\"black\"/>\n",
        "<text fill=\"#ffffff\" font-family=\"Times,serif\" font-size=\"14.00\" text-anchor=\"middle\" x=\"195\" y=\"-518.3\">PRESS</text>\n",
        "</a>\n",
        "</g>\n",
        "</g>\n",
        "<!-- KINKEDTUBE&#45;&gt;PRESS -->\n",
        "<g class=\"edge\" id=\"edge6\"><title>KINKEDTUBE-&gt;PRESS</title>\n",
        "<path d=\"M261.054,-576.765C249.168,-567.09 233.947,-554.701 221.112,-544.254\" fill=\"none\" stroke=\"black\"/>\n",
        "<polygon fill=\"black\" points=\"223.046,-541.315 213.081,-537.717 218.627,-546.744 223.046,-541.315\" stroke=\"black\"/>\n",
        "</g>\n",
        "<!-- HYPOVOLEMIA -->\n",
        "<g class=\"node\" id=\"node2\"><title>HYPOVOLEMIA</title>\n",
        "<g id=\"a_node2\"><a xlink:title=\"(1) HYPOVOLEMIA\">\n",
        "<ellipse cx=\"885\" cy=\"-234\" fill=\"#444444\" rx=\"75.0904\" ry=\"18\" stroke=\"black\"/>\n",
        "<text fill=\"#ffffff\" font-family=\"Times,serif\" font-size=\"14.00\" text-anchor=\"middle\" x=\"885\" y=\"-230.3\">HYPOVOLEMIA</text>\n",
        "</a>\n",
        "</g>\n",
        "</g>\n",
        "<!-- STROKEVOLUME -->\n",
        "<g class=\"node\" id=\"node14\"><title>STROKEVOLUME</title>\n",
        "<g id=\"a_node14\"><a xlink:title=\"(13) STROKEVOLUME\">\n",
        "<ellipse cx=\"875\" cy=\"-162\" fill=\"#444444\" rx=\"83.2892\" ry=\"18\" stroke=\"black\"/>\n",
        "<text fill=\"#ffffff\" font-family=\"Times,serif\" font-size=\"14.00\" text-anchor=\"middle\" x=\"875\" y=\"-158.3\">STROKEVOLUME</text>\n",
        "</a>\n",
        "</g>\n",
        "</g>\n",
        "<!-- HYPOVOLEMIA&#45;&gt;STROKEVOLUME -->\n",
        "<g class=\"edge\" id=\"edge7\"><title>HYPOVOLEMIA-&gt;STROKEVOLUME</title>\n",
        "<path d=\"M882.528,-215.697C881.426,-207.983 880.102,-198.712 878.873,-190.112\" fill=\"none\" stroke=\"black\"/>\n",
        "<polygon fill=\"black\" points=\"882.323,-189.509 877.443,-180.104 875.393,-190.499 882.323,-189.509\" stroke=\"black\"/>\n",
        "</g>\n",
        "<!-- LVEDVOLUME -->\n",
        "<g class=\"node\" id=\"node16\"><title>LVEDVOLUME</title>\n",
        "<g id=\"a_node16\"><a xlink:title=\"(15) LVEDVOLUME\">\n",
        "<ellipse cx=\"1048\" cy=\"-162\" fill=\"#444444\" rx=\"72.2155\" ry=\"18\" stroke=\"black\"/>\n",
        "<text fill=\"#ffffff\" font-family=\"Times,serif\" font-size=\"14.00\" text-anchor=\"middle\" x=\"1048\" y=\"-158.3\">LVEDVOLUME</text>\n",
        "</a>\n",
        "</g>\n",
        "</g>\n",
        "<!-- HYPOVOLEMIA&#45;&gt;LVEDVOLUME -->\n",
        "<g class=\"edge\" id=\"edge30\"><title>HYPOVOLEMIA-&gt;LVEDVOLUME</title>\n",
        "<path d=\"M919.968,-217.983C944.545,-207.429 977.613,-193.228 1003.99,-181.902\" fill=\"none\" stroke=\"black\"/>\n",
        "<polygon fill=\"black\" points=\"1005.56,-185.034 1013.37,-177.872 1002.8,-178.602 1005.56,-185.034\" stroke=\"black\"/>\n",
        "</g>\n",
        "<!-- INTUBATION -->\n",
        "<g class=\"node\" id=\"node3\"><title>INTUBATION</title>\n",
        "<g id=\"a_node3\"><a xlink:title=\"(2) INTUBATION\">\n",
        "<ellipse cx=\"432\" cy=\"-594\" fill=\"#444444\" rx=\"64.4914\" ry=\"18\" stroke=\"black\"/>\n",
        "<text fill=\"#ffffff\" font-family=\"Times,serif\" font-size=\"14.00\" text-anchor=\"middle\" x=\"432\" y=\"-590.3\">INTUBATION</text>\n",
        "</a>\n",
        "</g>\n",
        "</g>\n",
        "<!-- SHUNT -->\n",
        "<g class=\"node\" id=\"node19\"><title>SHUNT</title>\n",
        "<g id=\"a_node19\"><a xlink:title=\"(18) SHUNT\">\n",
        "<ellipse cx=\"568\" cy=\"-522\" fill=\"#444444\" rx=\"39.9464\" ry=\"18\" stroke=\"black\"/>\n",
        "<text fill=\"#ffffff\" font-family=\"Times,serif\" font-size=\"14.00\" text-anchor=\"middle\" x=\"568\" y=\"-518.3\">SHUNT</text>\n",
        "</a>\n",
        "</g>\n",
        "</g>\n",
        "<!-- INTUBATION&#45;&gt;SHUNT -->\n",
        "<g class=\"edge\" id=\"edge33\"><title>INTUBATION-&gt;SHUNT</title>\n",
        "<path d=\"M461.51,-577.811C482.701,-566.904 511.327,-552.17 533.563,-540.725\" fill=\"none\" stroke=\"black\"/>\n",
        "<polygon fill=\"black\" points=\"535.372,-543.731 542.661,-536.042 532.168,-537.507 535.372,-543.731\" stroke=\"black\"/>\n",
        "</g>\n",
        "<!-- INTUBATION&#45;&gt;VENTLUNG -->\n",
        "<g class=\"edge\" id=\"edge28\"><title>INTUBATION-&gt;VENTLUNG</title>\n",
        "<path d=\"M404.788,-577.638C386.817,-567.493 363.08,-554.094 343.611,-543.103\" fill=\"none\" stroke=\"black\"/>\n",
        "<polygon fill=\"black\" points=\"345.151,-539.953 334.723,-538.085 341.71,-546.049 345.151,-539.953\" stroke=\"black\"/>\n",
        "</g>\n",
        "<!-- MINVOL -->\n",
        "<g class=\"node\" id=\"node24\"><title>MINVOL</title>\n",
        "<g id=\"a_node24\"><a xlink:title=\"(23) MINVOL\">\n",
        "<ellipse cx=\"312\" cy=\"-450\" fill=\"#444444\" rx=\"46.2191\" ry=\"18\" stroke=\"black\"/>\n",
        "<text fill=\"#ffffff\" font-family=\"Times,serif\" font-size=\"14.00\" text-anchor=\"middle\" x=\"312\" y=\"-446.3\">MINVOL</text>\n",
        "</a>\n",
        "</g>\n",
        "</g>\n",
        "<!-- INTUBATION&#45;&gt;MINVOL -->\n",
        "<g class=\"edge\" id=\"edge35\"><title>INTUBATION-&gt;MINVOL</title>\n",
        "<path d=\"M423.085,-575.882C412.88,-557.147 394.975,-526.751 375,-504 364.907,-492.505 352.243,-481.358 340.92,-472.277\" fill=\"none\" stroke=\"black\"/>\n",
        "<polygon fill=\"black\" points=\"343.001,-469.461 332.969,-466.055 338.687,-474.974 343.001,-469.461\" stroke=\"black\"/>\n",
        "</g>\n",
        "<!-- INTUBATION&#45;&gt;PRESS -->\n",
        "<g class=\"edge\" id=\"edge44\"><title>INTUBATION-&gt;PRESS</title>\n",
        "<path d=\"M385.754,-581.322C346.873,-571.228 289.958,-555.809 241,-540 238.266,-539.117 235.453,-538.171 232.629,-537.195\" fill=\"none\" stroke=\"black\"/>\n",
        "<polygon fill=\"black\" points=\"233.685,-533.856 223.09,-533.803 231.339,-540.451 233.685,-533.856\" stroke=\"black\"/>\n",
        "</g>\n",
        "<!-- VENTALV -->\n",
        "<g class=\"node\" id=\"node26\"><title>VENTALV</title>\n",
        "<g id=\"a_node26\"><a xlink:title=\"(25) VENTALV\">\n",
        "<ellipse cx=\"428\" cy=\"-450\" fill=\"#444444\" rx=\"51.4931\" ry=\"18\" stroke=\"black\"/>\n",
        "<text fill=\"#ffffff\" font-family=\"Times,serif\" font-size=\"14.00\" text-anchor=\"middle\" x=\"428\" y=\"-446.3\">VENTALV</text>\n",
        "</a>\n",
        "</g>\n",
        "</g>\n",
        "<!-- INTUBATION&#45;&gt;VENTALV -->\n",
        "<g class=\"edge\" id=\"edge5\"><title>INTUBATION-&gt;VENTALV</title>\n",
        "<path d=\"M431.518,-575.871C430.836,-551.67 429.583,-507.211 428.772,-478.393\" fill=\"none\" stroke=\"black\"/>\n",
        "<polygon fill=\"black\" points=\"432.264,-478.087 428.484,-468.189 425.267,-478.284 432.264,-478.087\" stroke=\"black\"/>\n",
        "</g>\n",
        "<!-- MINVOLSET -->\n",
        "<g class=\"node\" id=\"node4\"><title>MINVOLSET</title>\n",
        "<g id=\"a_node4\"><a xlink:title=\"(3) MINVOLSET\">\n",
        "<ellipse cx=\"211\" cy=\"-738\" fill=\"#444444\" rx=\"61.6163\" ry=\"18\" stroke=\"black\"/>\n",
        "<text fill=\"#ffffff\" font-family=\"Times,serif\" font-size=\"14.00\" text-anchor=\"middle\" x=\"211\" y=\"-734.3\">MINVOLSET</text>\n",
        "</a>\n",
        "</g>\n",
        "</g>\n",
        "<!-- VENTMACH -->\n",
        "<g class=\"node\" id=\"node17\"><title>VENTMACH</title>\n",
        "<g id=\"a_node17\"><a xlink:title=\"(16) VENTMACH\">\n",
        "<ellipse cx=\"211\" cy=\"-666\" fill=\"#444444\" rx=\"61.1419\" ry=\"18\" stroke=\"black\"/>\n",
        "<text fill=\"#ffffff\" font-family=\"Times,serif\" font-size=\"14.00\" text-anchor=\"middle\" x=\"211\" y=\"-662.3\">VENTMACH</text>\n",
        "</a>\n",
        "</g>\n",
        "</g>\n",
        "<!-- MINVOLSET&#45;&gt;VENTMACH -->\n",
        "<g class=\"edge\" id=\"edge31\"><title>MINVOLSET-&gt;VENTMACH</title>\n",
        "<path d=\"M211,-719.697C211,-711.983 211,-702.712 211,-694.112\" fill=\"none\" stroke=\"black\"/>\n",
        "<polygon fill=\"black\" points=\"214.5,-694.104 211,-684.104 207.5,-694.104 214.5,-694.104\" stroke=\"black\"/>\n",
        "</g>\n",
        "<!-- PULMEMBOLUS -->\n",
        "<g class=\"node\" id=\"node5\"><title>PULMEMBOLUS</title>\n",
        "<g id=\"a_node5\"><a xlink:title=\"(4) PULMEMBOLUS\">\n",
        "<ellipse cx=\"633\" cy=\"-594\" fill=\"#444444\" rx=\"77.4897\" ry=\"18\" stroke=\"black\"/>\n",
        "<text fill=\"#ffffff\" font-family=\"Times,serif\" font-size=\"14.00\" text-anchor=\"middle\" x=\"633\" y=\"-590.3\">PULMEMBOLUS</text>\n",
        "</a>\n",
        "</g>\n",
        "</g>\n",
        "<!-- PAP -->\n",
        "<g class=\"node\" id=\"node13\"><title>PAP</title>\n",
        "<g id=\"a_node13\"><a xlink:title=\"(12) PAP\">\n",
        "<ellipse cx=\"653\" cy=\"-522\" fill=\"#444444\" rx=\"27\" ry=\"18\" stroke=\"black\"/>\n",
        "<text fill=\"#ffffff\" font-family=\"Times,serif\" font-size=\"14.00\" text-anchor=\"middle\" x=\"653\" y=\"-518.3\">PAP</text>\n",
        "</a>\n",
        "</g>\n",
        "</g>\n",
        "<!-- PULMEMBOLUS&#45;&gt;PAP -->\n",
        "<g class=\"edge\" id=\"edge2\"><title>PULMEMBOLUS-&gt;PAP</title>\n",
        "<path d=\"M637.944,-575.697C640.172,-567.898 642.855,-558.509 645.335,-549.829\" fill=\"none\" stroke=\"black\"/>\n",
        "<polygon fill=\"black\" points=\"648.731,-550.681 648.113,-540.104 642,-548.758 648.731,-550.681\" stroke=\"black\"/>\n",
        "</g>\n",
        "<!-- PULMEMBOLUS&#45;&gt;SHUNT -->\n",
        "<g class=\"edge\" id=\"edge26\"><title>PULMEMBOLUS-&gt;SHUNT</title>\n",
        "<path d=\"M617.265,-576.055C608.964,-567.115 598.654,-556.012 589.614,-546.276\" fill=\"none\" stroke=\"black\"/>\n",
        "<polygon fill=\"black\" points=\"592.068,-543.776 582.699,-538.829 586.939,-548.539 592.068,-543.776\" stroke=\"black\"/>\n",
        "</g>\n",
        "<!-- INSUFFANESTH -->\n",
        "<g class=\"node\" id=\"node6\"><title>INSUFFANESTH</title>\n",
        "<g id=\"a_node6\"><a xlink:title=\"(5) INSUFFANESTH\">\n",
        "<ellipse cx=\"644\" cy=\"-306\" fill=\"#444444\" rx=\"75.0904\" ry=\"18\" stroke=\"black\"/>\n",
        "<text fill=\"#ffffff\" font-family=\"Times,serif\" font-size=\"14.00\" text-anchor=\"middle\" x=\"644\" y=\"-302.3\">INSUFFANESTH</text>\n",
        "</a>\n",
        "</g>\n",
        "</g>\n",
        "<!-- CATECHOL -->\n",
        "<g class=\"node\" id=\"node31\"><title>CATECHOL</title>\n",
        "<g id=\"a_node31\"><a xlink:title=\"(30) CATECHOL\">\n",
        "<ellipse cx=\"632\" cy=\"-234\" fill=\"#444444\" rx=\"57.2688\" ry=\"18\" stroke=\"black\"/>\n",
        "<text fill=\"#ffffff\" font-family=\"Times,serif\" font-size=\"14.00\" text-anchor=\"middle\" x=\"632\" y=\"-230.3\">CATECHOL</text>\n",
        "</a>\n",
        "</g>\n",
        "</g>\n",
        "<!-- INSUFFANESTH&#45;&gt;CATECHOL -->\n",
        "<g class=\"edge\" id=\"edge22\"><title>INSUFFANESTH-&gt;CATECHOL</title>\n",
        "<path d=\"M641.034,-287.697C639.711,-279.983 638.122,-270.712 636.648,-262.112\" fill=\"none\" stroke=\"black\"/>\n",
        "<polygon fill=\"black\" points=\"640.072,-261.369 634.932,-252.104 633.172,-262.552 640.072,-261.369\" stroke=\"black\"/>\n",
        "</g>\n",
        "<!-- ERRLOWOUTPUT -->\n",
        "<g class=\"node\" id=\"node7\"><title>ERRLOWOUTPUT</title>\n",
        "<g id=\"a_node7\"><a xlink:title=\"(6) ERRLOWOUTPUT\">\n",
        "<ellipse cx=\"360\" cy=\"-162\" fill=\"#444444\" rx=\"83.2892\" ry=\"18\" stroke=\"black\"/>\n",
        "<text fill=\"#ffffff\" font-family=\"Times,serif\" font-size=\"14.00\" text-anchor=\"middle\" x=\"360\" y=\"-158.3\">ERRLOWOUTPUT</text>\n",
        "</a>\n",
        "</g>\n",
        "</g>\n",
        "<!-- HRBP -->\n",
        "<g class=\"node\" id=\"node33\"><title>HRBP</title>\n",
        "<g id=\"a_node33\"><a xlink:title=\"(32) HRBP\">\n",
        "<ellipse cx=\"397\" cy=\"-90\" fill=\"#444444\" rx=\"33.1991\" ry=\"18\" stroke=\"black\"/>\n",
        "<text fill=\"#ffffff\" font-family=\"Times,serif\" font-size=\"14.00\" text-anchor=\"middle\" x=\"397\" y=\"-86.3\">HRBP</text>\n",
        "</a>\n",
        "</g>\n",
        "</g>\n",
        "<!-- ERRLOWOUTPUT&#45;&gt;HRBP -->\n",
        "<g class=\"edge\" id=\"edge11\"><title>ERRLOWOUTPUT-&gt;HRBP</title>\n",
        "<path d=\"M368.957,-144.055C373.274,-135.887 378.547,-125.912 383.35,-116.824\" fill=\"none\" stroke=\"black\"/>\n",
        "<polygon fill=\"black\" points=\"386.547,-118.266 388.126,-107.789 380.358,-114.994 386.547,-118.266\" stroke=\"black\"/>\n",
        "</g>\n",
        "<!-- ERRCAUTER -->\n",
        "<g class=\"node\" id=\"node8\"><title>ERRCAUTER</title>\n",
        "<g id=\"a_node8\"><a xlink:title=\"(7) ERRCAUTER\">\n",
        "<ellipse cx=\"524\" cy=\"-162\" fill=\"#444444\" rx=\"63.0666\" ry=\"18\" stroke=\"black\"/>\n",
        "<text fill=\"#ffffff\" font-family=\"Times,serif\" font-size=\"14.00\" text-anchor=\"middle\" x=\"524\" y=\"-158.3\">ERRCAUTER</text>\n",
        "</a>\n",
        "</g>\n",
        "</g>\n",
        "<!-- HRSAT -->\n",
        "<g class=\"node\" id=\"node34\"><title>HRSAT</title>\n",
        "<g id=\"a_node34\"><a xlink:title=\"(33) HRSAT\">\n",
        "<ellipse cx=\"524\" cy=\"-90\" fill=\"#444444\" rx=\"39.4691\" ry=\"18\" stroke=\"black\"/>\n",
        "<text fill=\"#ffffff\" font-family=\"Times,serif\" font-size=\"14.00\" text-anchor=\"middle\" x=\"524\" y=\"-86.3\">HRSAT</text>\n",
        "</a>\n",
        "</g>\n",
        "</g>\n",
        "<!-- ERRCAUTER&#45;&gt;HRSAT -->\n",
        "<g class=\"edge\" id=\"edge42\"><title>ERRCAUTER-&gt;HRSAT</title>\n",
        "<path d=\"M524,-143.697C524,-135.983 524,-126.712 524,-118.112\" fill=\"none\" stroke=\"black\"/>\n",
        "<polygon fill=\"black\" points=\"527.5,-118.104 524,-108.104 520.5,-118.104 527.5,-118.104\" stroke=\"black\"/>\n",
        "</g>\n",
        "<!-- HREKG -->\n",
        "<g class=\"node\" id=\"node36\"><title>HREKG</title>\n",
        "<g id=\"a_node36\"><a xlink:title=\"(35) HREKG\">\n",
        "<ellipse cx=\"623\" cy=\"-90\" fill=\"#444444\" rx=\"40.4202\" ry=\"18\" stroke=\"black\"/>\n",
        "<text fill=\"#ffffff\" font-family=\"Times,serif\" font-size=\"14.00\" text-anchor=\"middle\" x=\"623\" y=\"-86.3\">HREKG</text>\n",
        "</a>\n",
        "</g>\n",
        "</g>\n",
        "<!-- ERRCAUTER&#45;&gt;HREKG -->\n",
        "<g class=\"edge\" id=\"edge13\"><title>ERRCAUTER-&gt;HREKG</title>\n",
        "<path d=\"M546.465,-145.116C560.485,-135.202 578.68,-122.337 593.812,-111.638\" fill=\"none\" stroke=\"black\"/>\n",
        "<polygon fill=\"black\" points=\"596.168,-114.259 602.312,-105.628 592.126,-108.543 596.168,-114.259\" stroke=\"black\"/>\n",
        "</g>\n",
        "<!-- FIO2 -->\n",
        "<g class=\"node\" id=\"node9\"><title>FIO2</title>\n",
        "<g id=\"a_node9\"><a xlink:title=\"(8) FIO2\">\n",
        "<ellipse cx=\"527\" cy=\"-450\" fill=\"#444444\" rx=\"29.3722\" ry=\"18\" stroke=\"black\"/>\n",
        "<text fill=\"#ffffff\" font-family=\"Times,serif\" font-size=\"14.00\" text-anchor=\"middle\" x=\"527\" y=\"-446.3\">FIO2</text>\n",
        "</a>\n",
        "</g>\n",
        "</g>\n",
        "<!-- PVSAT -->\n",
        "<g class=\"node\" id=\"node28\"><title>PVSAT</title>\n",
        "<g id=\"a_node28\"><a xlink:title=\"(27) PVSAT\">\n",
        "<ellipse cx=\"518\" cy=\"-378\" fill=\"#444444\" rx=\"38.0212\" ry=\"18\" stroke=\"black\"/>\n",
        "<text fill=\"#ffffff\" font-family=\"Times,serif\" font-size=\"14.00\" text-anchor=\"middle\" x=\"518\" y=\"-374.3\">PVSAT</text>\n",
        "</a>\n",
        "</g>\n",
        "</g>\n",
        "<!-- FIO2&#45;&gt;PVSAT -->\n",
        "<g class=\"edge\" id=\"edge43\"><title>FIO2-&gt;PVSAT</title>\n",
        "<path d=\"M524.775,-431.697C523.783,-423.983 522.592,-414.712 521.486,-406.112\" fill=\"none\" stroke=\"black\"/>\n",
        "<polygon fill=\"black\" points=\"524.946,-405.576 520.199,-396.104 518.003,-406.469 524.946,-405.576\" stroke=\"black\"/>\n",
        "</g>\n",
        "<!-- LVFAILURE -->\n",
        "<g class=\"node\" id=\"node10\"><title>LVFAILURE</title>\n",
        "<g id=\"a_node10\"><a xlink:title=\"(9) LVFAILURE\">\n",
        "<ellipse cx=\"1048\" cy=\"-234\" fill=\"#444444\" rx=\"59.1941\" ry=\"18\" stroke=\"black\"/>\n",
        "<text fill=\"#ffffff\" font-family=\"Times,serif\" font-size=\"14.00\" text-anchor=\"middle\" x=\"1048\" y=\"-230.3\">LVFAILURE</text>\n",
        "</a>\n",
        "</g>\n",
        "</g>\n",
        "<!-- LVFAILURE&#45;&gt;STROKEVOLUME -->\n",
        "<g class=\"edge\" id=\"edge15\"><title>LVFAILURE-&gt;STROKEVOLUME</title>\n",
        "<path d=\"M1013.82,-219.17C987.545,-208.538 950.952,-193.732 921.932,-181.99\" fill=\"none\" stroke=\"black\"/>\n",
        "<polygon fill=\"black\" points=\"922.99,-178.642 912.407,-178.136 920.364,-185.131 922.99,-178.642\" stroke=\"black\"/>\n",
        "</g>\n",
        "<!-- LVFAILURE&#45;&gt;LVEDVOLUME -->\n",
        "<g class=\"edge\" id=\"edge32\"><title>LVFAILURE-&gt;LVEDVOLUME</title>\n",
        "<path d=\"M1048,-215.697C1048,-207.983 1048,-198.712 1048,-190.112\" fill=\"none\" stroke=\"black\"/>\n",
        "<polygon fill=\"black\" points=\"1051.5,-190.104 1048,-180.104 1044.5,-190.104 1051.5,-190.104\" stroke=\"black\"/>\n",
        "</g>\n",
        "<!-- HISTORY -->\n",
        "<g class=\"node\" id=\"node20\"><title>HISTORY</title>\n",
        "<g id=\"a_node20\"><a xlink:title=\"(19) HISTORY\">\n",
        "<ellipse cx=\"1187\" cy=\"-162\" fill=\"#444444\" rx=\"48.6179\" ry=\"18\" stroke=\"black\"/>\n",
        "<text fill=\"#ffffff\" font-family=\"Times,serif\" font-size=\"14.00\" text-anchor=\"middle\" x=\"1187\" y=\"-158.3\">HISTORY</text>\n",
        "</a>\n",
        "</g>\n",
        "</g>\n",
        "<!-- LVFAILURE&#45;&gt;HISTORY -->\n",
        "<g class=\"edge\" id=\"edge29\"><title>LVFAILURE-&gt;HISTORY</title>\n",
        "<path d=\"M1077.48,-218.155C1098.77,-207.432 1127.67,-192.88 1150.43,-181.416\" fill=\"none\" stroke=\"black\"/>\n",
        "<polygon fill=\"black\" points=\"1152.1,-184.495 1159.46,-176.872 1148.95,-178.243 1152.1,-184.495\" stroke=\"black\"/>\n",
        "</g>\n",
        "<!-- DISCONNECT -->\n",
        "<g class=\"node\" id=\"node11\"><title>DISCONNECT</title>\n",
        "<g id=\"a_node11\"><a xlink:title=\"(10) DISCONNECT\">\n",
        "<ellipse cx=\"66\" cy=\"-666\" fill=\"#444444\" rx=\"65.9423\" ry=\"18\" stroke=\"black\"/>\n",
        "<text fill=\"#ffffff\" font-family=\"Times,serif\" font-size=\"14.00\" text-anchor=\"middle\" x=\"66\" y=\"-662.3\">DISCONNECT</text>\n",
        "</a>\n",
        "</g>\n",
        "</g>\n",
        "<!-- VENTTUBE -->\n",
        "<g class=\"node\" id=\"node21\"><title>VENTTUBE</title>\n",
        "<g id=\"a_node21\"><a xlink:title=\"(20) VENTTUBE\">\n",
        "<ellipse cx=\"138\" cy=\"-594\" fill=\"#444444\" rx=\"57.2927\" ry=\"18\" stroke=\"black\"/>\n",
        "<text fill=\"#ffffff\" font-family=\"Times,serif\" font-size=\"14.00\" text-anchor=\"middle\" x=\"138\" y=\"-590.3\">VENTTUBE</text>\n",
        "</a>\n",
        "</g>\n",
        "</g>\n",
        "<!-- DISCONNECT&#45;&gt;VENTTUBE -->\n",
        "<g class=\"edge\" id=\"edge1\"><title>DISCONNECT-&gt;VENTTUBE</title>\n",
        "<path d=\"M83.063,-648.411C92.209,-639.519 103.635,-628.411 113.694,-618.631\" fill=\"none\" stroke=\"black\"/>\n",
        "<polygon fill=\"black\" points=\"116.329,-620.95 121.059,-611.47 111.45,-615.931 116.329,-620.95\" stroke=\"black\"/>\n",
        "</g>\n",
        "<!-- ANAPHYLAXIS -->\n",
        "<g class=\"node\" id=\"node12\"><title>ANAPHYLAXIS</title>\n",
        "<g id=\"a_node12\"><a xlink:title=\"(11) ANAPHYLAXIS\">\n",
        "<ellipse cx=\"764\" cy=\"-378\" fill=\"#444444\" rx=\"73.1654\" ry=\"18\" stroke=\"black\"/>\n",
        "<text fill=\"#ffffff\" font-family=\"Times,serif\" font-size=\"14.00\" text-anchor=\"middle\" x=\"764\" y=\"-374.3\">ANAPHYLAXIS</text>\n",
        "</a>\n",
        "</g>\n",
        "</g>\n",
        "<!-- TPR -->\n",
        "<g class=\"node\" id=\"node15\"><title>TPR</title>\n",
        "<g id=\"a_node15\"><a xlink:title=\"(14) TPR\">\n",
        "<ellipse cx=\"764\" cy=\"-306\" fill=\"#444444\" rx=\"27\" ry=\"18\" stroke=\"black\"/>\n",
        "<text fill=\"#ffffff\" font-family=\"Times,serif\" font-size=\"14.00\" text-anchor=\"middle\" x=\"764\" y=\"-302.3\">TPR</text>\n",
        "</a>\n",
        "</g>\n",
        "</g>\n",
        "<!-- ANAPHYLAXIS&#45;&gt;TPR -->\n",
        "<g class=\"edge\" id=\"edge16\"><title>ANAPHYLAXIS-&gt;TPR</title>\n",
        "<path d=\"M764,-359.697C764,-351.983 764,-342.712 764,-334.112\" fill=\"none\" stroke=\"black\"/>\n",
        "<polygon fill=\"black\" points=\"767.5,-334.104 764,-324.104 760.5,-334.104 767.5,-334.104\" stroke=\"black\"/>\n",
        "</g>\n",
        "<!-- CO -->\n",
        "<g class=\"node\" id=\"node35\"><title>CO</title>\n",
        "<g id=\"a_node35\"><a xlink:title=\"(34) CO\">\n",
        "<ellipse cx=\"709\" cy=\"-90\" fill=\"#444444\" rx=\"27\" ry=\"18\" stroke=\"black\"/>\n",
        "<text fill=\"#ffffff\" font-family=\"Times,serif\" font-size=\"14.00\" text-anchor=\"middle\" x=\"709\" y=\"-86.3\">CO</text>\n",
        "</a>\n",
        "</g>\n",
        "</g>\n",
        "<!-- STROKEVOLUME&#45;&gt;CO -->\n",
        "<g class=\"edge\" id=\"edge17\"><title>STROKEVOLUME-&gt;CO</title>\n",
        "<path d=\"M838.571,-145.638C809.373,-133.326 768.807,-116.22 740.883,-104.445\" fill=\"none\" stroke=\"black\"/>\n",
        "<polygon fill=\"black\" points=\"742.147,-101.179 731.572,-100.518 739.427,-107.629 742.147,-101.179\" stroke=\"black\"/>\n",
        "</g>\n",
        "<!-- TPR&#45;&gt;CATECHOL -->\n",
        "<g class=\"edge\" id=\"edge41\"><title>TPR-&gt;CATECHOL</title>\n",
        "<path d=\"M743.375,-294.062C723.443,-283.493 692.811,-267.248 668.713,-254.469\" fill=\"none\" stroke=\"black\"/>\n",
        "<polygon fill=\"black\" points=\"670.307,-251.353 659.833,-249.76 667.027,-257.537 670.307,-251.353\" stroke=\"black\"/>\n",
        "</g>\n",
        "<!-- BP -->\n",
        "<g class=\"node\" id=\"node37\"><title>BP</title>\n",
        "<g id=\"a_node37\"><a xlink:title=\"(36) BP\">\n",
        "<ellipse cx=\"736\" cy=\"-18\" fill=\"#444444\" rx=\"27\" ry=\"18\" stroke=\"black\"/>\n",
        "<text fill=\"#ffffff\" font-family=\"Times,serif\" font-size=\"14.00\" text-anchor=\"middle\" x=\"736\" y=\"-14.3\">BP</text>\n",
        "</a>\n",
        "</g>\n",
        "</g>\n",
        "<!-- TPR&#45;&gt;BP -->\n",
        "<g class=\"edge\" id=\"edge4\"><title>TPR-&gt;BP</title>\n",
        "<path d=\"M763.121,-287.992C761.017,-249.448 755.103,-152.54 745,-72 743.938,-63.5353 742.487,-54.3584 741.06,-46.0571\" fill=\"none\" stroke=\"black\"/>\n",
        "<polygon fill=\"black\" points=\"744.492,-45.3636 739.297,-36.1299 737.6,-46.5879 744.492,-45.3636\" stroke=\"black\"/>\n",
        "</g>\n",
        "<!-- PCWP -->\n",
        "<g class=\"node\" id=\"node18\"><title>PCWP</title>\n",
        "<g id=\"a_node18\"><a xlink:title=\"(17) PCWP\">\n",
        "<ellipse cx=\"1088\" cy=\"-90\" fill=\"#444444\" rx=\"35.1455\" ry=\"18\" stroke=\"black\"/>\n",
        "<text fill=\"#ffffff\" font-family=\"Times,serif\" font-size=\"14.00\" text-anchor=\"middle\" x=\"1088\" y=\"-86.3\">PCWP</text>\n",
        "</a>\n",
        "</g>\n",
        "</g>\n",
        "<!-- LVEDVOLUME&#45;&gt;PCWP -->\n",
        "<g class=\"edge\" id=\"edge25\"><title>LVEDVOLUME-&gt;PCWP</title>\n",
        "<path d=\"M1057.68,-144.055C1062.4,-135.801 1068.17,-125.701 1073.41,-116.538\" fill=\"none\" stroke=\"black\"/>\n",
        "<polygon fill=\"black\" points=\"1076.48,-118.208 1078.41,-107.789 1070.41,-114.735 1076.48,-118.208\" stroke=\"black\"/>\n",
        "</g>\n",
        "<!-- CVP -->\n",
        "<g class=\"node\" id=\"node22\"><title>CVP</title>\n",
        "<g id=\"a_node22\"><a xlink:title=\"(21) CVP\">\n",
        "<ellipse cx=\"1007\" cy=\"-90\" fill=\"#444444\" rx=\"27.4223\" ry=\"18\" stroke=\"black\"/>\n",
        "<text fill=\"#ffffff\" font-family=\"Times,serif\" font-size=\"14.00\" text-anchor=\"middle\" x=\"1007\" y=\"-86.3\">CVP</text>\n",
        "</a>\n",
        "</g>\n",
        "</g>\n",
        "<!-- LVEDVOLUME&#45;&gt;CVP -->\n",
        "<g class=\"edge\" id=\"edge14\"><title>LVEDVOLUME-&gt;CVP</title>\n",
        "<path d=\"M1038.08,-144.055C1033.17,-135.679 1027.15,-125.404 1021.72,-116.134\" fill=\"none\" stroke=\"black\"/>\n",
        "<polygon fill=\"black\" points=\"1024.63,-114.167 1016.55,-107.307 1018.59,-117.705 1024.63,-114.167\" stroke=\"black\"/>\n",
        "</g>\n",
        "<!-- VENTMACH&#45;&gt;VENTTUBE -->\n",
        "<g class=\"edge\" id=\"edge27\"><title>VENTMACH-&gt;VENTTUBE</title>\n",
        "<path d=\"M193.7,-648.411C184.36,-639.455 172.675,-628.25 162.422,-618.419\" fill=\"none\" stroke=\"black\"/>\n",
        "<polygon fill=\"black\" points=\"164.564,-615.623 154.924,-611.228 159.719,-620.676 164.564,-615.623\" stroke=\"black\"/>\n",
        "</g>\n",
        "<!-- SAO2 -->\n",
        "<g class=\"node\" id=\"node29\"><title>SAO2</title>\n",
        "<g id=\"a_node29\"><a xlink:title=\"(28) SAO2\">\n",
        "<ellipse cx=\"518\" cy=\"-306\" fill=\"#444444\" rx=\"32.2457\" ry=\"18\" stroke=\"black\"/>\n",
        "<text fill=\"#ffffff\" font-family=\"Times,serif\" font-size=\"14.00\" text-anchor=\"middle\" x=\"518\" y=\"-302.3\">SAO2</text>\n",
        "</a>\n",
        "</g>\n",
        "</g>\n",
        "<!-- SHUNT&#45;&gt;SAO2 -->\n",
        "<g class=\"edge\" id=\"edge45\"><title>SHUNT-&gt;SAO2</title>\n",
        "<path d=\"M571.438,-503.803C576.689,-473.519 584.208,-409.222 565,-360 560.367,-348.126 551.781,-337.18 543.204,-328.356\" fill=\"none\" stroke=\"black\"/>\n",
        "<polygon fill=\"black\" points=\"545.393,-325.605 535.767,-321.178 540.532,-330.641 545.393,-325.605\" stroke=\"black\"/>\n",
        "</g>\n",
        "<!-- VENTTUBE&#45;&gt;VENTLUNG -->\n",
        "<g class=\"edge\" id=\"edge19\"><title>VENTTUBE-&gt;VENTLUNG</title>\n",
        "<path d=\"M171.181,-579.337C197.92,-568.327 235.721,-552.762 264.817,-540.781\" fill=\"none\" stroke=\"black\"/>\n",
        "<polygon fill=\"black\" points=\"266.407,-543.912 274.321,-536.868 263.742,-537.439 266.407,-543.912\" stroke=\"black\"/>\n",
        "</g>\n",
        "<!-- VENTTUBE&#45;&gt;PRESS -->\n",
        "<g class=\"edge\" id=\"edge40\"><title>VENTTUBE-&gt;PRESS</title>\n",
        "<path d=\"M151.508,-576.411C158.71,-567.567 167.697,-556.531 175.629,-546.789\" fill=\"none\" stroke=\"black\"/>\n",
        "<polygon fill=\"black\" points=\"178.381,-548.952 181.981,-538.988 172.953,-544.532 178.381,-548.952\" stroke=\"black\"/>\n",
        "</g>\n",
        "<!-- VENTLUNG&#45;&gt;MINVOL -->\n",
        "<g class=\"edge\" id=\"edge18\"><title>VENTLUNG-&gt;MINVOL</title>\n",
        "<path d=\"M308.989,-503.697C309.43,-495.983 309.959,-486.712 310.451,-478.112\" fill=\"none\" stroke=\"black\"/>\n",
        "<polygon fill=\"black\" points=\"313.946,-478.288 311.023,-468.104 306.958,-477.888 313.946,-478.288\" stroke=\"black\"/>\n",
        "</g>\n",
        "<!-- VENTLUNG&#45;&gt;VENTALV -->\n",
        "<g class=\"edge\" id=\"edge39\"><title>VENTLUNG-&gt;VENTALV</title>\n",
        "<path d=\"M334.038,-505.811C351.533,-495.606 374.773,-482.049 393.762,-470.972\" fill=\"none\" stroke=\"black\"/>\n",
        "<polygon fill=\"black\" points=\"395.551,-473.981 402.425,-465.919 392.023,-467.934 395.551,-473.981\" stroke=\"black\"/>\n",
        "</g>\n",
        "<!-- EXPCO2 -->\n",
        "<g class=\"node\" id=\"node30\"><title>EXPCO2</title>\n",
        "<g id=\"a_node30\"><a xlink:title=\"(29) EXPCO2\">\n",
        "<ellipse cx=\"312\" cy=\"-306\" fill=\"#444444\" rx=\"44.2946\" ry=\"18\" stroke=\"black\"/>\n",
        "<text fill=\"#ffffff\" font-family=\"Times,serif\" font-size=\"14.00\" text-anchor=\"middle\" x=\"312\" y=\"-302.3\">EXPCO2</text>\n",
        "</a>\n",
        "</g>\n",
        "</g>\n",
        "<!-- VENTLUNG&#45;&gt;EXPCO2 -->\n",
        "<g class=\"edge\" id=\"edge34\"><title>VENTLUNG-&gt;EXPCO2</title>\n",
        "<path d=\"M286.291,-505.199C275.265,-495.788 262.966,-482.805 257,-468 251.019,-453.16 253.708,-447.658 257,-432 264.623,-395.745 283.432,-357.178 296.93,-332.629\" fill=\"none\" stroke=\"black\"/>\n",
        "<polygon fill=\"black\" points=\"300.138,-334.064 301.987,-323.632 294.036,-330.635 300.138,-334.064\" stroke=\"black\"/>\n",
        "</g>\n",
        "<!-- ARTCO2 -->\n",
        "<g class=\"node\" id=\"node27\"><title>ARTCO2</title>\n",
        "<g id=\"a_node27\"><a xlink:title=\"(26) ARTCO2\">\n",
        "<ellipse cx=\"417\" cy=\"-378\" fill=\"#444444\" rx=\"44.271\" ry=\"18\" stroke=\"black\"/>\n",
        "<text fill=\"#ffffff\" font-family=\"Times,serif\" font-size=\"14.00\" text-anchor=\"middle\" x=\"417\" y=\"-374.3\">ARTCO2</text>\n",
        "</a>\n",
        "</g>\n",
        "</g>\n",
        "<!-- VENTALV&#45;&gt;ARTCO2 -->\n",
        "<g class=\"edge\" id=\"edge8\"><title>VENTALV-&gt;ARTCO2</title>\n",
        "<path d=\"M425.281,-431.697C424.069,-423.983 422.612,-414.712 421.261,-406.112\" fill=\"none\" stroke=\"black\"/>\n",
        "<polygon fill=\"black\" points=\"424.698,-405.44 419.688,-396.104 417.783,-406.526 424.698,-405.44\" stroke=\"black\"/>\n",
        "</g>\n",
        "<!-- VENTALV&#45;&gt;PVSAT -->\n",
        "<g class=\"edge\" id=\"edge20\"><title>VENTALV-&gt;PVSAT</title>\n",
        "<path d=\"M448.422,-433.116C460.963,-423.362 477.178,-410.75 490.799,-400.156\" fill=\"none\" stroke=\"black\"/>\n",
        "<polygon fill=\"black\" points=\"493.144,-402.766 498.889,-393.864 488.847,-397.241 493.144,-402.766\" stroke=\"black\"/>\n",
        "</g>\n",
        "<!-- ARTCO2&#45;&gt;EXPCO2 -->\n",
        "<g class=\"edge\" id=\"edge9\"><title>ARTCO2-&gt;EXPCO2</title>\n",
        "<path d=\"M394.989,-362.326C379.728,-352.152 359.208,-338.472 342.392,-327.261\" fill=\"none\" stroke=\"black\"/>\n",
        "<polygon fill=\"black\" points=\"344.244,-324.29 333.982,-321.655 340.362,-330.114 344.244,-324.29\" stroke=\"black\"/>\n",
        "</g>\n",
        "<!-- ARTCO2&#45;&gt;CATECHOL -->\n",
        "<g class=\"edge\" id=\"edge23\"><title>ARTCO2-&gt;CATECHOL</title>\n",
        "<path d=\"M424.249,-360.137C433.643,-340.188 451.849,-307.261 477,-288 504.912,-266.624 542.011,-253.534 572.916,-245.712\" fill=\"none\" stroke=\"black\"/>\n",
        "<polygon fill=\"black\" points=\"573.809,-249.097 582.712,-243.353 572.171,-242.291 573.809,-249.097\" stroke=\"black\"/>\n",
        "</g>\n",
        "<!-- PVSAT&#45;&gt;SAO2 -->\n",
        "<g class=\"edge\" id=\"edge21\"><title>PVSAT-&gt;SAO2</title>\n",
        "<path d=\"M518,-359.697C518,-351.983 518,-342.712 518,-334.112\" fill=\"none\" stroke=\"black\"/>\n",
        "<polygon fill=\"black\" points=\"521.5,-334.104 518,-324.104 514.5,-334.104 521.5,-334.104\" stroke=\"black\"/>\n",
        "</g>\n",
        "<!-- SAO2&#45;&gt;CATECHOL -->\n",
        "<g class=\"edge\" id=\"edge10\"><title>SAO2-&gt;CATECHOL</title>\n",
        "<path d=\"M538.909,-292.161C555.446,-282.007 578.866,-267.626 598.078,-255.829\" fill=\"none\" stroke=\"black\"/>\n",
        "<polygon fill=\"black\" points=\"600.155,-258.661 606.846,-250.446 596.492,-252.696 600.155,-258.661\" stroke=\"black\"/>\n",
        "</g>\n",
        "<!-- HR -->\n",
        "<g class=\"node\" id=\"node32\"><title>HR</title>\n",
        "<g id=\"a_node32\"><a xlink:title=\"(31) HR\">\n",
        "<ellipse cx=\"632\" cy=\"-162\" fill=\"#444444\" rx=\"27\" ry=\"18\" stroke=\"black\"/>\n",
        "<text fill=\"#ffffff\" font-family=\"Times,serif\" font-size=\"14.00\" text-anchor=\"middle\" x=\"632\" y=\"-158.3\">HR</text>\n",
        "</a>\n",
        "</g>\n",
        "</g>\n",
        "<!-- CATECHOL&#45;&gt;HR -->\n",
        "<g class=\"edge\" id=\"edge3\"><title>CATECHOL-&gt;HR</title>\n",
        "<path d=\"M632,-215.697C632,-207.983 632,-198.712 632,-190.112\" fill=\"none\" stroke=\"black\"/>\n",
        "<polygon fill=\"black\" points=\"635.5,-190.104 632,-180.104 628.5,-190.104 635.5,-190.104\" stroke=\"black\"/>\n",
        "</g>\n",
        "<!-- HR&#45;&gt;HRBP -->\n",
        "<g class=\"edge\" id=\"edge37\"><title>HR-&gt;HRBP</title>\n",
        "<path d=\"M610.951,-150.282C606.11,-148.036 600.933,-145.805 596,-144 542.296,-124.352 478.018,-108.567 437.343,-99.487\" fill=\"none\" stroke=\"black\"/>\n",
        "<polygon fill=\"black\" points=\"438.05,-96.0589 427.531,-97.3248 436.543,-102.895 438.05,-96.0589\" stroke=\"black\"/>\n",
        "</g>\n",
        "<!-- HR&#45;&gt;HRSAT -->\n",
        "<g class=\"edge\" id=\"edge46\"><title>HR-&gt;HRSAT</title>\n",
        "<path d=\"M613.188,-148.807C597.014,-138.324 573.382,-123.007 554.506,-110.773\" fill=\"none\" stroke=\"black\"/>\n",
        "<polygon fill=\"black\" points=\"556.24,-107.725 545.945,-105.224 552.433,-113.6 556.24,-107.725\" stroke=\"black\"/>\n",
        "</g>\n",
        "<!-- HR&#45;&gt;CO -->\n",
        "<g class=\"edge\" id=\"edge12\"><title>HR-&gt;CO</title>\n",
        "<path d=\"M647.582,-146.834C658.613,-136.806 673.59,-123.191 685.993,-111.916\" fill=\"none\" stroke=\"black\"/>\n",
        "<polygon fill=\"black\" points=\"688.659,-114.222 693.704,-104.906 683.95,-109.043 688.659,-114.222\" stroke=\"black\"/>\n",
        "</g>\n",
        "<!-- HR&#45;&gt;HREKG -->\n",
        "<g class=\"edge\" id=\"edge24\"><title>HR-&gt;HREKG</title>\n",
        "<path d=\"M629.821,-144.055C628.83,-136.346 627.632,-127.027 626.518,-118.364\" fill=\"none\" stroke=\"black\"/>\n",
        "<polygon fill=\"black\" points=\"629.968,-117.747 625.221,-108.275 623.025,-118.64 629.968,-117.747\" stroke=\"black\"/>\n",
        "</g>\n",
        "<!-- CO&#45;&gt;BP -->\n",
        "<g class=\"edge\" id=\"edge38\"><title>CO-&gt;BP</title>\n",
        "<path d=\"M715.399,-72.411C718.514,-64.3352 722.334,-54.4312 725.835,-45.3547\" fill=\"none\" stroke=\"black\"/>\n",
        "<polygon fill=\"black\" points=\"729.126,-46.5458 729.46,-35.9562 722.595,-44.0267 729.126,-46.5458\" stroke=\"black\"/>\n",
        "</g>\n",
        "</g>\n",
        "</svg></div>"
       ],
       "metadata": {},
       "output_type": "display_data",
       "text": [
        "<IPython.core.display.HTML at 0x7f1214e75fd0>"
       ]
      }
     ],
     "prompt_number": 7
    },
    {
     "cell_type": "markdown",
     "metadata": {},
     "source": [
      "Results of inference\n",
      "====================\n",
      "\n",
      "It is easy to look at result of inference"
     ]
    },
    {
     "cell_type": "code",
     "collapsed": false,
     "input": [
      "gnb.showPosterior(bn,{'SHUNT':'HIGH'},'PRESS')"
     ],
     "language": "python",
     "metadata": {},
     "outputs": [
      {
       "metadata": {},
       "output_type": "display_data",
       "png": "[encoded data removed]",
       "text": [
        "<matplotlib.figure.Figure at 0x7f12162e0c10>"
       ]
      }
     ],
     "prompt_number": 8
    },
    {
     "cell_type": "code",
     "collapsed": false,
     "input": [
      "gnb.showPosterior(bn,{'MINVOLSET':'NORMAL'},'VENTALV')"
     ],
     "language": "python",
     "metadata": {},
     "outputs": [
      {
       "metadata": {},
       "output_type": "display_data",
       "png": "[encoded data removed]",
       "text": [
        "<matplotlib.figure.Figure at 0x7f1214cdd150>"
       ]
      }
     ],
     "prompt_number": 9
    },
    {
     "cell_type": "markdown",
     "metadata": {},
     "source": [
      "Result of inferences\n",
      "====================\n",
      "\n",
      "It is also easy to use inference as a routine in more complex procedure."
     ]
    },
    {
     "cell_type": "code",
     "collapsed": false,
     "input": [
      "r=range(0,100,2)\n",
      "xs=[x/100.0 for x in r]\n",
      "ys=[gnb.getPosterior(bn,{'MINVOLSET':[0,x/100.0,0.5]},'VENTALV').tolist() \n",
      "        for x in r]\n",
      "p=plot(xs,ys)\n",
      "legend(p,[bn.variableFromName('VENTALV').label(i) \n",
      "          for i in range(len(bn.variableFromName('VENTALV')))],loc=7);\n",
      "title('VENTALV');\n",
      "ylabel('posterior Probability');\n",
      "xlabel('Evidence on MINVOLSET : [0,x,0.5]');"
     ],
     "language": "python",
     "metadata": {},
     "outputs": [
      {
       "metadata": {},
       "output_type": "display_data",
       "png": "[encoded data removed]",
       "text": [
        "<matplotlib.figure.Figure at 0x7f1214cbb150>"
       ]
      }
     ],
     "prompt_number": 11
    },
    {
     "cell_type": "markdown",
     "metadata": {},
     "source": [
      "Another example : python gives access to a large set of tools. Here the value for the equality of two probabilities of a posterior is easely computed."
     ]
    },
    {
     "cell_type": "code",
     "collapsed": false,
     "input": [
      "x=[p/100.0 for p in xrange(0,100)]\n",
      "y=[gnb.getPosterior(bn,{'HRBP':[1.0-p/100.0,1.0-p/100.0,p/100.0]},'TPR').tolist() \n",
      "   for p in xrange(0,100)]\n",
      "p=plot(x,y)\n",
      "title(bn.property('name'));\n",
      "v=bn.variableFromName('TPR');\n",
      "legend([v.label(i) for i in range(len(v))],loc='best');\n",
      "np1=(transpose(y)[0]>transpose(y)[2]).argmin()\n",
      "text(x[np1]-0.05,y[np1][0]+0.005,str(x[np1]),bbox=dict(facecolor='red', alpha=0.1));"
     ],
     "language": "python",
     "metadata": {},
     "outputs": [
      {
       "metadata": {},
       "output_type": "display_data",
       "png": "[encoded data removed]",
       "text": [
        "<matplotlib.figure.Figure at 0x7f1214ca9650>"
       ]
      }
     ],
     "prompt_number": 12
    },
    {
     "cell_type": "markdown",
     "metadata": {},
     "source": [
      "BN as classifier\n",
      "================"
     ]
    },
    {
     "cell_type": "markdown",
     "metadata": {},
     "source": [
      "Generation of databases\n",
      "-----------------------\n",
      "\n",
      "Using CSV format for database,"
     ]
    },
    {
     "cell_type": "code",
     "collapsed": true,
     "input": [
      "from gumLib.bn2csv import generateCSV\n",
      "\n",
      "generateCSV(bn,\"test.csv\",1000,True)"
     ],
     "language": "python",
     "metadata": {},
     "outputs": [
      {
       "output_type": "stream",
       "stream": "stdout",
       "text": [
        "test.csv \r"
       ]
      },
      {
       "output_type": "stream",
       "stream": "stdout",
       "text": [
        "\r",
        "test.csv : [                                                                  ] 1%"
       ]
      },
      {
       "output_type": "stream",
       "stream": "stdout",
       "text": [
        " \r",
        "test.csv : [ #                                                                ] 2%"
       ]
      },
      {
       "output_type": "stream",
       "stream": "stdout",
       "text": [
        " \r",
        "test.csv : [ #                                                                ] 3%"
       ]
      },
      {
       "output_type": "stream",
       "stream": "stdout",
       "text": [
        " \r",
        "test.csv : [ ##                                                               ] 4%"
       ]
      },
      {
       "output_type": "stream",
       "stream": "stdout",
       "text": [
        " \r",
        "test.csv : [ ###                                                              ] 5%"
       ]
      },
      {
       "output_type": "stream",
       "stream": "stdout",
       "text": [
        " \r",
        "test.csv : [ ###                                                              ] 6%"
       ]
      },
      {
       "output_type": "stream",
       "stream": "stdout",
       "text": [
        " \r",
        "test.csv : [ ####                                                             ] 7%"
       ]
      },
      {
       "output_type": "stream",
       "stream": "stdout",
       "text": [
        " \r",
        "test.csv : [ #####                                                            ] 8%"
       ]
      },
      {
       "output_type": "stream",
       "stream": "stdout",
       "text": [
        " \r",
        "test.csv : [ #####                                                            ] 9%"
       ]
      },
      {
       "output_type": "stream",
       "stream": "stdout",
       "text": [
        " \r",
        "test.csv : [ ######                                                           ] 10%"
       ]
      },
      {
       "output_type": "stream",
       "stream": "stdout",
       "text": [
        " \r",
        "test.csv : [ #######                                                          ] 11%"
       ]
      },
      {
       "output_type": "stream",
       "stream": "stdout",
       "text": [
        " \r",
        "test.csv : [ #######                                                          ] 12%"
       ]
      },
      {
       "output_type": "stream",
       "stream": "stdout",
       "text": [
        " \r",
        "test.csv : [ ########                                                         ] 13%"
       ]
      },
      {
       "output_type": "stream",
       "stream": "stdout",
       "text": [
        " \r",
        "test.csv : [ ########                                                         ] 14%"
       ]
      },
      {
       "output_type": "stream",
       "stream": "stdout",
       "text": [
        " \r",
        "test.csv : [ #########                                                        ] 15%"
       ]
      },
      {
       "output_type": "stream",
       "stream": "stdout",
       "text": [
        " \r",
        "test.csv : [ ##########                                                       ] 16%"
       ]
      },
      {
       "output_type": "stream",
       "stream": "stdout",
       "text": [
        " \r",
        "test.csv : [ ##########                                                       ] 17%"
       ]
      },
      {
       "output_type": "stream",
       "stream": "stdout",
       "text": [
        " \r",
        "test.csv : [ ###########                                                      ] 18%"
       ]
      },
      {
       "output_type": "stream",
       "stream": "stdout",
       "text": [
        " \r",
        "test.csv : [ ############                                                     ] 19%"
       ]
      },
      {
       "output_type": "stream",
       "stream": "stdout",
       "text": [
        " \r",
        "test.csv : [ ############                                                     ] 20%"
       ]
      },
      {
       "output_type": "stream",
       "stream": "stdout",
       "text": [
        " \r",
        "test.csv : [ #############                                                    ] 21%"
       ]
      },
      {
       "output_type": "stream",
       "stream": "stdout",
       "text": [
        " \r",
        "test.csv : [ ##############                                                   ] 22%"
       ]
      },
      {
       "output_type": "stream",
       "stream": "stdout",
       "text": [
        " \r",
        "test.csv : [ ##############                                                   ] 23%"
       ]
      },
      {
       "output_type": "stream",
       "stream": "stdout",
       "text": [
        " \r",
        "test.csv : [ ###############                                                  ] 24%"
       ]
      },
      {
       "output_type": "stream",
       "stream": "stdout",
       "text": [
        " \r",
        "test.csv : [ ################                                                 ] 25%"
       ]
      },
      {
       "output_type": "stream",
       "stream": "stdout",
       "text": [
        " \r",
        "test.csv : [ ################                                                 ] 26%"
       ]
      },
      {
       "output_type": "stream",
       "stream": "stdout",
       "text": [
        " \r",
        "test.csv : [ #################                                                ] 27%"
       ]
      },
      {
       "output_type": "stream",
       "stream": "stdout",
       "text": [
        " \r",
        "test.csv : [ #################                                                ] 28%"
       ]
      },
      {
       "output_type": "stream",
       "stream": "stdout",
       "text": [
        " \r",
        "test.csv : [ ##################                                               ] 29%"
       ]
      },
      {
       "output_type": "stream",
       "stream": "stdout",
       "text": [
        " \r",
        "test.csv : [ ###################                                              ] 30%"
       ]
      },
      {
       "output_type": "stream",
       "stream": "stdout",
       "text": [
        " \r",
        "test.csv : [ ###################                                              ] 31%"
       ]
      },
      {
       "output_type": "stream",
       "stream": "stdout",
       "text": [
        " \r",
        "test.csv : [ ####################                                             ] 32%"
       ]
      },
      {
       "output_type": "stream",
       "stream": "stdout",
       "text": [
        " \r",
        "test.csv : [ #####################                                            ] 33%"
       ]
      },
      {
       "output_type": "stream",
       "stream": "stdout",
       "text": [
        " \r",
        "test.csv : [ #####################                                            ] 34%"
       ]
      },
      {
       "output_type": "stream",
       "stream": "stdout",
       "text": [
        " \r",
        "test.csv : [ ######################                                           ] 35%"
       ]
      },
      {
       "output_type": "stream",
       "stream": "stdout",
       "text": [
        " \r",
        "test.csv : [ #######################                                          ] 36%"
       ]
      },
      {
       "output_type": "stream",
       "stream": "stdout",
       "text": [
        " \r",
        "test.csv : [ #######################                                          ] 37%"
       ]
      },
      {
       "output_type": "stream",
       "stream": "stdout",
       "text": [
        " \r",
        "test.csv : [ ########################                                         ] 38%"
       ]
      },
      {
       "output_type": "stream",
       "stream": "stdout",
       "text": [
        " \r",
        "test.csv : [ ########################                                         ] 39%"
       ]
      },
      {
       "output_type": "stream",
       "stream": "stdout",
       "text": [
        " \r",
        "test.csv : [ #########################                                        ] 40%"
       ]
      },
      {
       "output_type": "stream",
       "stream": "stdout",
       "text": [
        " \r",
        "test.csv : [ ##########################                                       ] 41%"
       ]
      },
      {
       "output_type": "stream",
       "stream": "stdout",
       "text": [
        " \r",
        "test.csv : [ ##########################                                       ] 42%"
       ]
      },
      {
       "output_type": "stream",
       "stream": "stdout",
       "text": [
        " \r",
        "test.csv : [ ###########################                                      ] 43%"
       ]
      },
      {
       "output_type": "stream",
       "stream": "stdout",
       "text": [
        " \r",
        "test.csv : [ ############################                                     ] 44%"
       ]
      },
      {
       "output_type": "stream",
       "stream": "stdout",
       "text": [
        " \r",
        "test.csv : [ ############################                                     ] 45%"
       ]
      },
      {
       "output_type": "stream",
       "stream": "stdout",
       "text": [
        " \r",
        "test.csv : [ #############################                                    ] 46%"
       ]
      },
      {
       "output_type": "stream",
       "stream": "stdout",
       "text": [
        " \r",
        "test.csv : [ ##############################                                   ] 47%"
       ]
      },
      {
       "output_type": "stream",
       "stream": "stdout",
       "text": [
        " \r",
        "test.csv : [ ##############################                                   ] 48%"
       ]
      },
      {
       "output_type": "stream",
       "stream": "stdout",
       "text": [
        " \r",
        "test.csv : [ ###############################                                  ] 49%"
       ]
      },
      {
       "output_type": "stream",
       "stream": "stdout",
       "text": [
        " \r",
        "test.csv : [ ################################                                 ] 50%"
       ]
      },
      {
       "output_type": "stream",
       "stream": "stdout",
       "text": [
        " \r",
        "test.csv : [ ################################                                 ] 51%"
       ]
      },
      {
       "output_type": "stream",
       "stream": "stdout",
       "text": [
        " \r",
        "test.csv : [ #################################                                ] 52%"
       ]
      },
      {
       "output_type": "stream",
       "stream": "stdout",
       "text": [
        " \r",
        "test.csv : [ #################################                                ] 53%"
       ]
      },
      {
       "output_type": "stream",
       "stream": "stdout",
       "text": [
        " \r",
        "test.csv : [ ##################################                               ] 54%"
       ]
      },
      {
       "output_type": "stream",
       "stream": "stdout",
       "text": [
        " \r",
        "test.csv : [ ###################################                              ] 55%"
       ]
      },
      {
       "output_type": "stream",
       "stream": "stdout",
       "text": [
        " \r",
        "test.csv : [ ###################################                              ] 56%"
       ]
      },
      {
       "output_type": "stream",
       "stream": "stdout",
       "text": [
        " \r",
        "test.csv : [ ####################################                             ] 57%"
       ]
      },
      {
       "output_type": "stream",
       "stream": "stdout",
       "text": [
        " \r",
        "test.csv : [ #####################################                            ] 58%"
       ]
      },
      {
       "output_type": "stream",
       "stream": "stdout",
       "text": [
        " \r",
        "test.csv : [ #####################################                            ] 59%"
       ]
      },
      {
       "output_type": "stream",
       "stream": "stdout",
       "text": [
        " \r",
        "test.csv : [ ######################################                           ] 60%"
       ]
      },
      {
       "output_type": "stream",
       "stream": "stdout",
       "text": [
        " \r",
        "test.csv : [ #######################################                          ] 61%"
       ]
      },
      {
       "output_type": "stream",
       "stream": "stdout",
       "text": [
        " \r",
        "test.csv : [ #######################################                          ] 62%"
       ]
      },
      {
       "output_type": "stream",
       "stream": "stdout",
       "text": [
        " \r",
        "test.csv : [ ########################################                         ] 63%"
       ]
      },
      {
       "output_type": "stream",
       "stream": "stdout",
       "text": [
        " \r",
        "test.csv : [ ########################################                         ] 64%"
       ]
      },
      {
       "output_type": "stream",
       "stream": "stdout",
       "text": [
        " \r",
        "test.csv : [ #########################################                        ] 65%"
       ]
      },
      {
       "output_type": "stream",
       "stream": "stdout",
       "text": [
        " \r",
        "test.csv : [ ##########################################                       ] 66%"
       ]
      },
      {
       "output_type": "stream",
       "stream": "stdout",
       "text": [
        " \r",
        "test.csv : [ ##########################################                       ] 67%"
       ]
      },
      {
       "output_type": "stream",
       "stream": "stdout",
       "text": [
        " \r",
        "test.csv : [ ###########################################                      ] 68%"
       ]
      },
      {
       "output_type": "stream",
       "stream": "stdout",
       "text": [
        " \r",
        "test.csv : [ ############################################                     ] 69%"
       ]
      },
      {
       "output_type": "stream",
       "stream": "stdout",
       "text": [
        " \r",
        "test.csv : [ ############################################                     ] 70%"
       ]
      },
      {
       "output_type": "stream",
       "stream": "stdout",
       "text": [
        " \r",
        "test.csv : [ #############################################                    ] 71%"
       ]
      },
      {
       "output_type": "stream",
       "stream": "stdout",
       "text": [
        " \r",
        "test.csv : [ ##############################################                   ] 72%"
       ]
      },
      {
       "output_type": "stream",
       "stream": "stdout",
       "text": [
        " \r",
        "test.csv : [ ##############################################                   ] 73%"
       ]
      },
      {
       "output_type": "stream",
       "stream": "stdout",
       "text": [
        " \r",
        "test.csv : [ ###############################################                  ] 74%"
       ]
      },
      {
       "output_type": "stream",
       "stream": "stdout",
       "text": [
        " \r",
        "test.csv : [ ################################################                 ] 75%"
       ]
      },
      {
       "output_type": "stream",
       "stream": "stdout",
       "text": [
        " \r",
        "test.csv : [ ################################################                 ] 76%"
       ]
      },
      {
       "output_type": "stream",
       "stream": "stdout",
       "text": [
        " \r",
        "test.csv : [ #################################################                ] 77%"
       ]
      },
      {
       "output_type": "stream",
       "stream": "stdout",
       "text": [
        " \r",
        "test.csv : [ #################################################                ] 78%"
       ]
      },
      {
       "output_type": "stream",
       "stream": "stdout",
       "text": [
        " \r",
        "test.csv : [ ##################################################               ] 79%"
       ]
      },
      {
       "output_type": "stream",
       "stream": "stdout",
       "text": [
        " \r",
        "test.csv : [ ###################################################              ] 80%"
       ]
      },
      {
       "output_type": "stream",
       "stream": "stdout",
       "text": [
        " \r",
        "test.csv : [ ###################################################              ] 81%"
       ]
      },
      {
       "output_type": "stream",
       "stream": "stdout",
       "text": [
        " \r",
        "test.csv : [ ####################################################             ] 82%"
       ]
      },
      {
       "output_type": "stream",
       "stream": "stdout",
       "text": [
        " \r",
        "test.csv : [ #####################################################            ] 83%"
       ]
      },
      {
       "output_type": "stream",
       "stream": "stdout",
       "text": [
        " \r",
        "test.csv : [ #####################################################            ] 84%"
       ]
      },
      {
       "output_type": "stream",
       "stream": "stdout",
       "text": [
        " \r",
        "test.csv : [ ######################################################           ] 85%"
       ]
      },
      {
       "output_type": "stream",
       "stream": "stdout",
       "text": [
        " \r",
        "test.csv : [ #######################################################          ] 86%"
       ]
      },
      {
       "output_type": "stream",
       "stream": "stdout",
       "text": [
        " \r",
        "test.csv : [ #######################################################          ] 87%"
       ]
      },
      {
       "output_type": "stream",
       "stream": "stdout",
       "text": [
        " \r",
        "test.csv : [ ########################################################         ] 88%"
       ]
      },
      {
       "output_type": "stream",
       "stream": "stdout",
       "text": [
        " \r",
        "test.csv : [ ########################################################         ] 89%"
       ]
      },
      {
       "output_type": "stream",
       "stream": "stdout",
       "text": [
        " \r",
        "test.csv : [ #########################################################        ] 90%"
       ]
      },
      {
       "output_type": "stream",
       "stream": "stdout",
       "text": [
        " \r",
        "test.csv : [ ##########################################################       ] 91%"
       ]
      },
      {
       "output_type": "stream",
       "stream": "stdout",
       "text": [
        " \r",
        "test.csv : [ ##########################################################       ] 92%"
       ]
      },
      {
       "output_type": "stream",
       "stream": "stdout",
       "text": [
        " \r",
        "test.csv : [ ###########################################################      ] 93%"
       ]
      },
      {
       "output_type": "stream",
       "stream": "stdout",
       "text": [
        " \r",
        "test.csv : [ ############################################################     ] 94%"
       ]
      },
      {
       "output_type": "stream",
       "stream": "stdout",
       "text": [
        " \r",
        "test.csv : [ ############################################################     ] 95%"
       ]
      },
      {
       "output_type": "stream",
       "stream": "stdout",
       "text": [
        " \r",
        "test.csv : [ #############################################################    ] 96%"
       ]
      },
      {
       "output_type": "stream",
       "stream": "stdout",
       "text": [
        " \r",
        "test.csv : [ ##############################################################   ] 97%"
       ]
      },
      {
       "output_type": "stream",
       "stream": "stdout",
       "text": [
        " \r",
        "test.csv : [ ##############################################################   ] 98%"
       ]
      },
      {
       "output_type": "stream",
       "stream": "stdout",
       "text": [
        " \r",
        "test.csv : [ ###############################################################  ] 99%"
       ]
      },
      {
       "output_type": "stream",
       "stream": "stdout",
       "text": [
        " \r",
        "test.csv : [ ################################################################ ] 100%"
       ]
      },
      {
       "output_type": "stream",
       "stream": "stdout",
       "text": [
        "\n",
        "Log2-Likelihood : -15146.5547757\n",
        "\n"
       ]
      },
      {
       "metadata": {},
       "output_type": "pyout",
       "prompt_number": 13,
       "text": [
        "-15146.554775659453"
       ]
      }
     ],
     "prompt_number": 13
    },
    {
     "cell_type": "code",
     "collapsed": false,
     "input": [
      "!head test.csv"
     ],
     "language": "python",
     "metadata": {},
     "outputs": [
      {
       "output_type": "stream",
       "stream": "stdout",
       "text": [
        "ANAPHYLAXIS,TPR,DISCONNECT,LVFAILURE,HISTORY,FIO2,ERRCAUTER,ERRLOWOUTPUT,INSUFFANESTH,PULMEMBOLUS,PAP,MINVOLSET,VENTMACH,VENTTUBE,INTUBATION,SHUNT,HYPOVOLEMIA,STROKEVOLUME,LVEDVOLUME,PCWP,CVP,KINKEDTUBE,VENTLUNG,MINVOL,VENTALV,ARTCO2,EXPCO2,PVSAT,SAO2,CATECHOL,HR,CO,BP,HRSAT,HREKG,HRBP,PRESS\r",
        "\r\n",
        "1,2,1,1,1,1,1,1,1,1,0,1,2,1,0,0,1,1,1,1,1,1,0,0,0,2,1,0,0,1,2,2,1,2,2,2,2\r",
        "\r\n",
        "1,1,1,1,1,1,1,1,0,1,1,2,3,3,1,0,1,1,1,1,1,1,0,3,3,0,0,2,1,1,2,2,2,2,2,2,1\r",
        "\r\n",
        "1,1,1,1,1,1,1,0,1,1,1,1,2,1,0,0,1,1,1,0,1,1,0,0,0,2,1,0,0,1,2,2,2,2,2,1,3\r",
        "\r\n",
        "1,2,1,1,1,1,1,1,1,1,1,1,2,1,0,0,0,1,2,2,2,1,0,0,0,2,1,0,0,1,2,2,2,2,2,2,2\r",
        "\r\n",
        "1,2,0,1,1,1,0,0,1,1,1,1,2,0,0,0,1,1,1,1,1,1,1,1,1,2,2,0,0,1,2,1,2,1,0,1,0\r",
        "\r\n",
        "1,1,0,1,1,1,1,1,0,1,2,1,2,1,0,0,1,1,1,2,1,1,0,0,0,2,1,0,0,1,2,2,0,1,2,1,2\r",
        "\r\n",
        "1,2,1,1,1,1,0,1,1,1,1,1,2,1,0,0,0,0,2,1,2,1,0,0,0,2,1,0,0,1,2,1,2,1,0,2,3\r",
        "\r\n",
        "1,0,1,1,1,1,1,1,1,1,1,1,2,1,0,0,0,0,2,2,1,1,0,0,0,0,0,0,0,1,2,0,0,2,0,2,3\r",
        "\r\n",
        "1,2,1,1,1,1,1,1,1,1,1,1,2,1,0,0,1,1,1,1,1,1,0,0,0,2,1,0,0,1,2,2,2,2,2,2,3\r",
        "\r\n"
       ]
      }
     ],
     "prompt_number": 14
    },
    {
     "cell_type": "markdown",
     "metadata": {},
     "source": [
      "BN as a classifier\n",
      "------------------\n",
      "\n",
      "(because of the use of from-bn-generated csv files, quite good ROC curves are expected)"
     ]
    },
    {
     "cell_type": "code",
     "collapsed": false,
     "input": [
      "from gumLib.bn2roc import showROC\n",
      "showROC(bn,\"test.csv\",\n",
      "        variable='CATECHOL',label='HIGH',  # class and label \n",
      "        visible=True,show_fig=True)        "
     ],
     "language": "python",
     "metadata": {},
     "outputs": [
      {
       "output_type": "stream",
       "stream": "stdout",
       "text": [
        "\r",
        "test.csv : [                                                                  ] 1%"
       ]
      },
      {
       "output_type": "stream",
       "stream": "stdout",
       "text": [
        " \r",
        "test.csv : [ #                                                                ] 2%"
       ]
      },
      {
       "output_type": "stream",
       "stream": "stdout",
       "text": [
        " \r",
        "test.csv : [ #                                                                ] 3%"
       ]
      },
      {
       "output_type": "stream",
       "stream": "stdout",
       "text": [
        " \r",
        "test.csv : [ ##                                                               ] 4%"
       ]
      },
      {
       "output_type": "stream",
       "stream": "stdout",
       "text": [
        " \r",
        "test.csv : [ ###                                                              ] 5%"
       ]
      },
      {
       "output_type": "stream",
       "stream": "stdout",
       "text": [
        " \r",
        "test.csv : [ ###                                                              ] 6%"
       ]
      },
      {
       "output_type": "stream",
       "stream": "stdout",
       "text": [
        " \r",
        "test.csv : [ ####                                                             ] 7%"
       ]
      },
      {
       "output_type": "stream",
       "stream": "stdout",
       "text": [
        " \r",
        "test.csv : [ #####                                                            ] 8%"
       ]
      },
      {
       "output_type": "stream",
       "stream": "stdout",
       "text": [
        " \r",
        "test.csv : [ #####                                                            ] 9%"
       ]
      },
      {
       "output_type": "stream",
       "stream": "stdout",
       "text": [
        " \r",
        "test.csv : [ ######                                                           ] 10%"
       ]
      },
      {
       "output_type": "stream",
       "stream": "stdout",
       "text": [
        " \r",
        "test.csv : [ #######                                                          ] 11%"
       ]
      },
      {
       "output_type": "stream",
       "stream": "stdout",
       "text": [
        " \r",
        "test.csv : [ #######                                                          ] 12%"
       ]
      },
      {
       "output_type": "stream",
       "stream": "stdout",
       "text": [
        " \r",
        "test.csv : [ ########                                                         ] 13%"
       ]
      },
      {
       "output_type": "stream",
       "stream": "stdout",
       "text": [
        " \r",
        "test.csv : [ ########                                                         ] 14%"
       ]
      },
      {
       "output_type": "stream",
       "stream": "stdout",
       "text": [
        " \r",
        "test.csv : [ #########                                                        ] 15%"
       ]
      },
      {
       "output_type": "stream",
       "stream": "stdout",
       "text": [
        " \r",
        "test.csv : [ ##########                                                       ] 16%"
       ]
      },
      {
       "output_type": "stream",
       "stream": "stdout",
       "text": [
        " \r",
        "test.csv : [ ##########                                                       ] 17%"
       ]
      },
      {
       "output_type": "stream",
       "stream": "stdout",
       "text": [
        " \r",
        "test.csv : [ ###########                                                      ] 18%"
       ]
      },
      {
       "output_type": "stream",
       "stream": "stdout",
       "text": [
        " \r",
        "test.csv : [ ############                                                     ] 19%"
       ]
      },
      {
       "output_type": "stream",
       "stream": "stdout",
       "text": [
        " \r",
        "test.csv : [ ############                                                     ] 20%"
       ]
      },
      {
       "output_type": "stream",
       "stream": "stdout",
       "text": [
        " \r",
        "test.csv : [ #############                                                    ] 21%"
       ]
      },
      {
       "output_type": "stream",
       "stream": "stdout",
       "text": [
        " \r",
        "test.csv : [ ##############                                                   ] 22%"
       ]
      },
      {
       "output_type": "stream",
       "stream": "stdout",
       "text": [
        " \r",
        "test.csv : [ ##############                                                   ] 23%"
       ]
      },
      {
       "output_type": "stream",
       "stream": "stdout",
       "text": [
        " \r",
        "test.csv : [ ###############                                                  ] 24%"
       ]
      },
      {
       "output_type": "stream",
       "stream": "stdout",
       "text": [
        " \r",
        "test.csv : [ ################                                                 ] 25%"
       ]
      },
      {
       "output_type": "stream",
       "stream": "stdout",
       "text": [
        " \r",
        "test.csv : [ ################                                                 ] 26%"
       ]
      },
      {
       "output_type": "stream",
       "stream": "stdout",
       "text": [
        " \r",
        "test.csv : [ #################                                                ] 27%"
       ]
      },
      {
       "output_type": "stream",
       "stream": "stdout",
       "text": [
        " \r",
        "test.csv : [ #################                                                ] 28%"
       ]
      },
      {
       "output_type": "stream",
       "stream": "stdout",
       "text": [
        " \r",
        "test.csv : [ ##################                                               ] 29%"
       ]
      },
      {
       "output_type": "stream",
       "stream": "stdout",
       "text": [
        " \r",
        "test.csv : [ ###################                                              ] 30%"
       ]
      },
      {
       "output_type": "stream",
       "stream": "stdout",
       "text": [
        " \r",
        "test.csv : [ ###################                                              ] 31%"
       ]
      },
      {
       "output_type": "stream",
       "stream": "stdout",
       "text": [
        " \r",
        "test.csv : [ ####################                                             ] 32%"
       ]
      },
      {
       "output_type": "stream",
       "stream": "stdout",
       "text": [
        " \r",
        "test.csv : [ #####################                                            ] 33%"
       ]
      },
      {
       "output_type": "stream",
       "stream": "stdout",
       "text": [
        " \r",
        "test.csv : [ #####################                                            ] 34%"
       ]
      },
      {
       "output_type": "stream",
       "stream": "stdout",
       "text": [
        " \r",
        "test.csv : [ ######################                                           ] 35%"
       ]
      },
      {
       "output_type": "stream",
       "stream": "stdout",
       "text": [
        " \r",
        "test.csv : [ #######################                                          ] 36%"
       ]
      },
      {
       "output_type": "stream",
       "stream": "stdout",
       "text": [
        " \r",
        "test.csv : [ #######################                                          ] 37%"
       ]
      },
      {
       "output_type": "stream",
       "stream": "stdout",
       "text": [
        " \r",
        "test.csv : [ ########################                                         ] 38%"
       ]
      },
      {
       "output_type": "stream",
       "stream": "stdout",
       "text": [
        " \r",
        "test.csv : [ ########################                                         ] 39%"
       ]
      },
      {
       "output_type": "stream",
       "stream": "stdout",
       "text": [
        " \r",
        "test.csv : [ #########################                                        ] 40%"
       ]
      },
      {
       "output_type": "stream",
       "stream": "stdout",
       "text": [
        " \r",
        "test.csv : [ ##########################                                       ] 41%"
       ]
      },
      {
       "output_type": "stream",
       "stream": "stdout",
       "text": [
        " \r",
        "test.csv : [ ##########################                                       ] 42%"
       ]
      },
      {
       "output_type": "stream",
       "stream": "stdout",
       "text": [
        " \r",
        "test.csv : [ ###########################                                      ] 43%"
       ]
      },
      {
       "output_type": "stream",
       "stream": "stdout",
       "text": [
        " \r",
        "test.csv : [ ############################                                     ] 44%"
       ]
      },
      {
       "output_type": "stream",
       "stream": "stdout",
       "text": [
        " \r",
        "test.csv : [ ############################                                     ] 45%"
       ]
      },
      {
       "output_type": "stream",
       "stream": "stdout",
       "text": [
        " \r",
        "test.csv : [ #############################                                    ] 46%"
       ]
      },
      {
       "output_type": "stream",
       "stream": "stdout",
       "text": [
        " \r",
        "test.csv : [ ##############################                                   ] 47%"
       ]
      },
      {
       "output_type": "stream",
       "stream": "stdout",
       "text": [
        " \r",
        "test.csv : [ ##############################                                   ] 48%"
       ]
      },
      {
       "output_type": "stream",
       "stream": "stdout",
       "text": [
        " \r",
        "test.csv : [ ###############################                                  ] 49%"
       ]
      },
      {
       "output_type": "stream",
       "stream": "stdout",
       "text": [
        " \r",
        "test.csv : [ ################################                                 ] 50%"
       ]
      },
      {
       "output_type": "stream",
       "stream": "stdout",
       "text": [
        " \r",
        "test.csv : [ ################################                                 ] 51%"
       ]
      },
      {
       "output_type": "stream",
       "stream": "stdout",
       "text": [
        " \r",
        "test.csv : [ #################################                                ] 52%"
       ]
      },
      {
       "output_type": "stream",
       "stream": "stdout",
       "text": [
        " \r",
        "test.csv : [ #################################                                ] 53%"
       ]
      },
      {
       "output_type": "stream",
       "stream": "stdout",
       "text": [
        " \r",
        "test.csv : [ ##################################                               ] 54%"
       ]
      },
      {
       "output_type": "stream",
       "stream": "stdout",
       "text": [
        " \r",
        "test.csv : [ ###################################                              ] 55%"
       ]
      },
      {
       "output_type": "stream",
       "stream": "stdout",
       "text": [
        " \r",
        "test.csv : [ ###################################                              ] 56%"
       ]
      },
      {
       "output_type": "stream",
       "stream": "stdout",
       "text": [
        " \r",
        "test.csv : [ ####################################                             ] 57%"
       ]
      },
      {
       "output_type": "stream",
       "stream": "stdout",
       "text": [
        " \r",
        "test.csv : [ #####################################                            ] 58%"
       ]
      },
      {
       "output_type": "stream",
       "stream": "stdout",
       "text": [
        " \r",
        "test.csv : [ #####################################                            ] 59%"
       ]
      },
      {
       "output_type": "stream",
       "stream": "stdout",
       "text": [
        " \r",
        "test.csv : [ ######################################                           ] 60%"
       ]
      },
      {
       "output_type": "stream",
       "stream": "stdout",
       "text": [
        " \r",
        "test.csv : [ #######################################                          ] 61%"
       ]
      },
      {
       "output_type": "stream",
       "stream": "stdout",
       "text": [
        " \r",
        "test.csv : [ #######################################                          ] 62%"
       ]
      },
      {
       "output_type": "stream",
       "stream": "stdout",
       "text": [
        " \r",
        "test.csv : [ ########################################                         ] 63%"
       ]
      },
      {
       "output_type": "stream",
       "stream": "stdout",
       "text": [
        " \r",
        "test.csv : [ ########################################                         ] 64%"
       ]
      },
      {
       "output_type": "stream",
       "stream": "stdout",
       "text": [
        " \r",
        "test.csv : [ #########################################                        ] 65%"
       ]
      },
      {
       "output_type": "stream",
       "stream": "stdout",
       "text": [
        " \r",
        "test.csv : [ ##########################################                       ] 66%"
       ]
      },
      {
       "output_type": "stream",
       "stream": "stdout",
       "text": [
        " \r",
        "test.csv : [ ##########################################                       ] 67%"
       ]
      },
      {
       "output_type": "stream",
       "stream": "stdout",
       "text": [
        " \r",
        "test.csv : [ ###########################################                      ] 68%"
       ]
      },
      {
       "output_type": "stream",
       "stream": "stdout",
       "text": [
        " \r",
        "test.csv : [ ############################################                     ] 69%"
       ]
      },
      {
       "output_type": "stream",
       "stream": "stdout",
       "text": [
        " \r",
        "test.csv : [ ############################################                     ] 70%"
       ]
      },
      {
       "output_type": "stream",
       "stream": "stdout",
       "text": [
        " \r",
        "test.csv : [ #############################################                    ] 71%"
       ]
      },
      {
       "output_type": "stream",
       "stream": "stdout",
       "text": [
        " \r",
        "test.csv : [ ##############################################                   ] 72%"
       ]
      },
      {
       "output_type": "stream",
       "stream": "stdout",
       "text": [
        " \r",
        "test.csv : [ ##############################################                   ] 73%"
       ]
      },
      {
       "output_type": "stream",
       "stream": "stdout",
       "text": [
        " \r",
        "test.csv : [ ###############################################                  ] 74%"
       ]
      },
      {
       "output_type": "stream",
       "stream": "stdout",
       "text": [
        " \r",
        "test.csv : [ ################################################                 ] 75%"
       ]
      },
      {
       "output_type": "stream",
       "stream": "stdout",
       "text": [
        " \r",
        "test.csv : [ ################################################                 ] 76%"
       ]
      },
      {
       "output_type": "stream",
       "stream": "stdout",
       "text": [
        " \r",
        "test.csv : [ #################################################                ] 77%"
       ]
      },
      {
       "output_type": "stream",
       "stream": "stdout",
       "text": [
        " \r",
        "test.csv : [ #################################################                ] 78%"
       ]
      },
      {
       "output_type": "stream",
       "stream": "stdout",
       "text": [
        " \r",
        "test.csv : [ ##################################################               ] 79%"
       ]
      },
      {
       "output_type": "stream",
       "stream": "stdout",
       "text": [
        " \r",
        "test.csv : [ ###################################################              ] 80%"
       ]
      },
      {
       "output_type": "stream",
       "stream": "stdout",
       "text": [
        " \r",
        "test.csv : [ ###################################################              ] 81%"
       ]
      },
      {
       "output_type": "stream",
       "stream": "stdout",
       "text": [
        " \r",
        "test.csv : [ ####################################################             ] 82%"
       ]
      },
      {
       "output_type": "stream",
       "stream": "stdout",
       "text": [
        " \r",
        "test.csv : [ #####################################################            ] 83%"
       ]
      },
      {
       "output_type": "stream",
       "stream": "stdout",
       "text": [
        " \r",
        "test.csv : [ #####################################################            ] 84%"
       ]
      },
      {
       "output_type": "stream",
       "stream": "stdout",
       "text": [
        " \r",
        "test.csv : [ ######################################################           ] 85%"
       ]
      },
      {
       "output_type": "stream",
       "stream": "stdout",
       "text": [
        " \r",
        "test.csv : [ #######################################################          ] 86%"
       ]
      },
      {
       "output_type": "stream",
       "stream": "stdout",
       "text": [
        " \r",
        "test.csv : [ #######################################################          ] 87%"
       ]
      },
      {
       "output_type": "stream",
       "stream": "stdout",
       "text": [
        " \r",
        "test.csv : [ ########################################################         ] 88%"
       ]
      },
      {
       "output_type": "stream",
       "stream": "stdout",
       "text": [
        " \r",
        "test.csv : [ ########################################################         ] 89%"
       ]
      },
      {
       "output_type": "stream",
       "stream": "stdout",
       "text": [
        " \r",
        "test.csv : [ #########################################################        ] 90%"
       ]
      },
      {
       "output_type": "stream",
       "stream": "stdout",
       "text": [
        " \r",
        "test.csv : [ ##########################################################       ] 91%"
       ]
      },
      {
       "output_type": "stream",
       "stream": "stdout",
       "text": [
        " \r",
        "test.csv : [ ##########################################################       ] 92%"
       ]
      },
      {
       "output_type": "stream",
       "stream": "stdout",
       "text": [
        " \r",
        "test.csv : [ ###########################################################      ] 93%"
       ]
      },
      {
       "output_type": "stream",
       "stream": "stdout",
       "text": [
        " \r",
        "test.csv : [ ############################################################     ] 94%"
       ]
      },
      {
       "output_type": "stream",
       "stream": "stdout",
       "text": [
        " \r",
        "test.csv : [ ############################################################     ] 95%"
       ]
      },
      {
       "output_type": "stream",
       "stream": "stdout",
       "text": [
        " \r",
        "test.csv : [ #############################################################    ] 96%"
       ]
      },
      {
       "output_type": "stream",
       "stream": "stdout",
       "text": [
        " \r",
        "test.csv : [ ##############################################################   ] 97%"
       ]
      },
      {
       "output_type": "stream",
       "stream": "stdout",
       "text": [
        " \r",
        "test.csv : [ ##############################################################   ] 98%"
       ]
      },
      {
       "output_type": "stream",
       "stream": "stdout",
       "text": [
        " \r",
        "test.csv : [ ###############################################################  ] 99%"
       ]
      },
      {
       "output_type": "stream",
       "stream": "stdout",
       "text": [
        " \r",
        "test.csv : [ ################################################################ ] 100%"
       ]
      },
      {
       "output_type": "stream",
       "stream": "stdout",
       "text": [
        "\n",
        "result in roc_alarm.dsl-test.csv-CATECHOL-HIGH.png"
       ]
      },
      {
       "output_type": "stream",
       "stream": "stdout",
       "text": [
        "\n"
       ]
      },
      {
       "metadata": {},
       "output_type": "display_data",
       "png": "[encoded data removed]",
       "text": [
        "<matplotlib.figure.Figure at 0x7f1214e6d7d0>"
       ]
      }
     ],
     "prompt_number": 15
    },
    {
     "cell_type": "markdown",
     "metadata": {},
     "source": [
      "Using another class variable"
     ]
    },
    {
     "cell_type": "code",
     "collapsed": false,
     "input": [
      "showROC(bn,\"test.csv\",'SAO2','HIGH',True,True)"
     ],
     "language": "python",
     "metadata": {},
     "outputs": [
      {
       "output_type": "stream",
       "stream": "stdout",
       "text": [
        "\r",
        "test.csv : [                                                                  ] 1%"
       ]
      },
      {
       "output_type": "stream",
       "stream": "stdout",
       "text": [
        " \r",
        "test.csv : [ #                                                                ] 2%"
       ]
      },
      {
       "output_type": "stream",
       "stream": "stdout",
       "text": [
        " \r",
        "test.csv : [ #                                                                ] 3%"
       ]
      },
      {
       "output_type": "stream",
       "stream": "stdout",
       "text": [
        " \r",
        "test.csv : [ ##                                                               ] 4%"
       ]
      },
      {
       "output_type": "stream",
       "stream": "stdout",
       "text": [
        " \r",
        "test.csv : [ ###                                                              ] 5%"
       ]
      },
      {
       "output_type": "stream",
       "stream": "stdout",
       "text": [
        " \r",
        "test.csv : [ ###                                                              ] 6%"
       ]
      },
      {
       "output_type": "stream",
       "stream": "stdout",
       "text": [
        " \r",
        "test.csv : [ ####                                                             ] 7%"
       ]
      },
      {
       "output_type": "stream",
       "stream": "stdout",
       "text": [
        " \r",
        "test.csv : [ #####                                                            ] 8%"
       ]
      },
      {
       "output_type": "stream",
       "stream": "stdout",
       "text": [
        " \r",
        "test.csv : [ #####                                                            ] 9%"
       ]
      },
      {
       "output_type": "stream",
       "stream": "stdout",
       "text": [
        " \r",
        "test.csv : [ ######                                                           ] 10%"
       ]
      },
      {
       "output_type": "stream",
       "stream": "stdout",
       "text": [
        " \r",
        "test.csv : [ #######                                                          ] 11%"
       ]
      },
      {
       "output_type": "stream",
       "stream": "stdout",
       "text": [
        " \r",
        "test.csv : [ #######                                                          ] 12%"
       ]
      },
      {
       "output_type": "stream",
       "stream": "stdout",
       "text": [
        " \r",
        "test.csv : [ ########                                                         ] 13%"
       ]
      },
      {
       "output_type": "stream",
       "stream": "stdout",
       "text": [
        " \r",
        "test.csv : [ ########                                                         ] 14%"
       ]
      },
      {
       "output_type": "stream",
       "stream": "stdout",
       "text": [
        " \r",
        "test.csv : [ #########                                                        ] 15%"
       ]
      },
      {
       "output_type": "stream",
       "stream": "stdout",
       "text": [
        " \r",
        "test.csv : [ ##########                                                       ] 16%"
       ]
      },
      {
       "output_type": "stream",
       "stream": "stdout",
       "text": [
        " \r",
        "test.csv : [ ##########                                                       ] 17%"
       ]
      },
      {
       "output_type": "stream",
       "stream": "stdout",
       "text": [
        " \r",
        "test.csv : [ ###########                                                      ] 18%"
       ]
      },
      {
       "output_type": "stream",
       "stream": "stdout",
       "text": [
        " \r",
        "test.csv : [ ############                                                     ] 19%"
       ]
      },
      {
       "output_type": "stream",
       "stream": "stdout",
       "text": [
        " \r",
        "test.csv : [ ############                                                     ] 20%"
       ]
      },
      {
       "output_type": "stream",
       "stream": "stdout",
       "text": [
        " \r",
        "test.csv : [ #############                                                    ] 21%"
       ]
      },
      {
       "output_type": "stream",
       "stream": "stdout",
       "text": [
        " \r",
        "test.csv : [ ##############                                                   ] 22%"
       ]
      },
      {
       "output_type": "stream",
       "stream": "stdout",
       "text": [
        " \r",
        "test.csv : [ ##############                                                   ] 23%"
       ]
      },
      {
       "output_type": "stream",
       "stream": "stdout",
       "text": [
        " \r",
        "test.csv : [ ###############                                                  ] 24%"
       ]
      },
      {
       "output_type": "stream",
       "stream": "stdout",
       "text": [
        " \r",
        "test.csv : [ ################                                                 ] 25%"
       ]
      },
      {
       "output_type": "stream",
       "stream": "stdout",
       "text": [
        " \r",
        "test.csv : [ ################                                                 ] 26%"
       ]
      },
      {
       "output_type": "stream",
       "stream": "stdout",
       "text": [
        " \r",
        "test.csv : [ #################                                                ] 27%"
       ]
      },
      {
       "output_type": "stream",
       "stream": "stdout",
       "text": [
        " \r",
        "test.csv : [ #################                                                ] 28%"
       ]
      },
      {
       "output_type": "stream",
       "stream": "stdout",
       "text": [
        " \r",
        "test.csv : [ ##################                                               ] 29%"
       ]
      },
      {
       "output_type": "stream",
       "stream": "stdout",
       "text": [
        " \r",
        "test.csv : [ ###################                                              ] 30%"
       ]
      },
      {
       "output_type": "stream",
       "stream": "stdout",
       "text": [
        " \r",
        "test.csv : [ ###################                                              ] 31%"
       ]
      },
      {
       "output_type": "stream",
       "stream": "stdout",
       "text": [
        " \r",
        "test.csv : [ ####################                                             ] 32%"
       ]
      },
      {
       "output_type": "stream",
       "stream": "stdout",
       "text": [
        " \r",
        "test.csv : [ #####################                                            ] 33%"
       ]
      },
      {
       "output_type": "stream",
       "stream": "stdout",
       "text": [
        " \r",
        "test.csv : [ #####################                                            ] 34%"
       ]
      },
      {
       "output_type": "stream",
       "stream": "stdout",
       "text": [
        " \r",
        "test.csv : [ ######################                                           ] 35%"
       ]
      },
      {
       "output_type": "stream",
       "stream": "stdout",
       "text": [
        " \r",
        "test.csv : [ #######################                                          ] 36%"
       ]
      },
      {
       "output_type": "stream",
       "stream": "stdout",
       "text": [
        " \r",
        "test.csv : [ #######################                                          ] 37%"
       ]
      },
      {
       "output_type": "stream",
       "stream": "stdout",
       "text": [
        " \r",
        "test.csv : [ ########################                                         ] 38%"
       ]
      },
      {
       "output_type": "stream",
       "stream": "stdout",
       "text": [
        " \r",
        "test.csv : [ ########################                                         ] 39%"
       ]
      },
      {
       "output_type": "stream",
       "stream": "stdout",
       "text": [
        " \r",
        "test.csv : [ #########################                                        ] 40%"
       ]
      },
      {
       "output_type": "stream",
       "stream": "stdout",
       "text": [
        " \r",
        "test.csv : [ ##########################                                       ] 41%"
       ]
      },
      {
       "output_type": "stream",
       "stream": "stdout",
       "text": [
        " \r",
        "test.csv : [ ##########################                                       ] 42%"
       ]
      },
      {
       "output_type": "stream",
       "stream": "stdout",
       "text": [
        " \r",
        "test.csv : [ ###########################                                      ] 43%"
       ]
      },
      {
       "output_type": "stream",
       "stream": "stdout",
       "text": [
        " \r",
        "test.csv : [ ############################                                     ] 44%"
       ]
      },
      {
       "output_type": "stream",
       "stream": "stdout",
       "text": [
        " \r",
        "test.csv : [ ############################                                     ] 45%"
       ]
      },
      {
       "output_type": "stream",
       "stream": "stdout",
       "text": [
        " \r",
        "test.csv : [ #############################                                    ] 46%"
       ]
      },
      {
       "output_type": "stream",
       "stream": "stdout",
       "text": [
        " \r",
        "test.csv : [ ##############################                                   ] 47%"
       ]
      },
      {
       "output_type": "stream",
       "stream": "stdout",
       "text": [
        " \r",
        "test.csv : [ ##############################                                   ] 48%"
       ]
      },
      {
       "output_type": "stream",
       "stream": "stdout",
       "text": [
        " \r",
        "test.csv : [ ###############################                                  ] 49%"
       ]
      },
      {
       "output_type": "stream",
       "stream": "stdout",
       "text": [
        " \r",
        "test.csv : [ ################################                                 ] 50%"
       ]
      },
      {
       "output_type": "stream",
       "stream": "stdout",
       "text": [
        " \r",
        "test.csv : [ ################################                                 ] 51%"
       ]
      },
      {
       "output_type": "stream",
       "stream": "stdout",
       "text": [
        " \r",
        "test.csv : [ #################################                                ] 52%"
       ]
      },
      {
       "output_type": "stream",
       "stream": "stdout",
       "text": [
        " \r",
        "test.csv : [ #################################                                ] 53%"
       ]
      },
      {
       "output_type": "stream",
       "stream": "stdout",
       "text": [
        " \r",
        "test.csv : [ ##################################                               ] 54%"
       ]
      },
      {
       "output_type": "stream",
       "stream": "stdout",
       "text": [
        " \r",
        "test.csv : [ ###################################                              ] 55%"
       ]
      },
      {
       "output_type": "stream",
       "stream": "stdout",
       "text": [
        " \r",
        "test.csv : [ ###################################                              ] 56%"
       ]
      },
      {
       "output_type": "stream",
       "stream": "stdout",
       "text": [
        " \r",
        "test.csv : [ ####################################                             ] 57%"
       ]
      },
      {
       "output_type": "stream",
       "stream": "stdout",
       "text": [
        " \r",
        "test.csv : [ #####################################                            ] 58%"
       ]
      },
      {
       "output_type": "stream",
       "stream": "stdout",
       "text": [
        " \r",
        "test.csv : [ #####################################                            ] 59%"
       ]
      },
      {
       "output_type": "stream",
       "stream": "stdout",
       "text": [
        " \r",
        "test.csv : [ ######################################                           ] 60%"
       ]
      },
      {
       "output_type": "stream",
       "stream": "stdout",
       "text": [
        " \r",
        "test.csv : [ #######################################                          ] 61%"
       ]
      },
      {
       "output_type": "stream",
       "stream": "stdout",
       "text": [
        " \r",
        "test.csv : [ #######################################                          ] 62%"
       ]
      },
      {
       "output_type": "stream",
       "stream": "stdout",
       "text": [
        " \r",
        "test.csv : [ ########################################                         ] 63%"
       ]
      },
      {
       "output_type": "stream",
       "stream": "stdout",
       "text": [
        " \r",
        "test.csv : [ ########################################                         ] 64%"
       ]
      },
      {
       "output_type": "stream",
       "stream": "stdout",
       "text": [
        " \r",
        "test.csv : [ #########################################                        ] 65%"
       ]
      },
      {
       "output_type": "stream",
       "stream": "stdout",
       "text": [
        " \r",
        "test.csv : [ ##########################################                       ] 66%"
       ]
      },
      {
       "output_type": "stream",
       "stream": "stdout",
       "text": [
        " \r",
        "test.csv : [ ##########################################                       ] 67%"
       ]
      },
      {
       "output_type": "stream",
       "stream": "stdout",
       "text": [
        " \r",
        "test.csv : [ ###########################################                      ] 68%"
       ]
      },
      {
       "output_type": "stream",
       "stream": "stdout",
       "text": [
        " \r",
        "test.csv : [ ############################################                     ] 69%"
       ]
      },
      {
       "output_type": "stream",
       "stream": "stdout",
       "text": [
        " \r",
        "test.csv : [ ############################################                     ] 70%"
       ]
      },
      {
       "output_type": "stream",
       "stream": "stdout",
       "text": [
        " \r",
        "test.csv : [ #############################################                    ] 71%"
       ]
      },
      {
       "output_type": "stream",
       "stream": "stdout",
       "text": [
        " \r",
        "test.csv : [ ##############################################                   ] 72%"
       ]
      },
      {
       "output_type": "stream",
       "stream": "stdout",
       "text": [
        " \r",
        "test.csv : [ ##############################################                   ] 73%"
       ]
      },
      {
       "output_type": "stream",
       "stream": "stdout",
       "text": [
        " \r",
        "test.csv : [ ###############################################                  ] 74%"
       ]
      },
      {
       "output_type": "stream",
       "stream": "stdout",
       "text": [
        " \r",
        "test.csv : [ ################################################                 ] 75%"
       ]
      },
      {
       "output_type": "stream",
       "stream": "stdout",
       "text": [
        " \r",
        "test.csv : [ ################################################                 ] 76%"
       ]
      },
      {
       "output_type": "stream",
       "stream": "stdout",
       "text": [
        " \r",
        "test.csv : [ #################################################                ] 77%"
       ]
      },
      {
       "output_type": "stream",
       "stream": "stdout",
       "text": [
        " \r",
        "test.csv : [ #################################################                ] 78%"
       ]
      },
      {
       "output_type": "stream",
       "stream": "stdout",
       "text": [
        " \r",
        "test.csv : [ ##################################################               ] 79%"
       ]
      },
      {
       "output_type": "stream",
       "stream": "stdout",
       "text": [
        " \r",
        "test.csv : [ ###################################################              ] 80%"
       ]
      },
      {
       "output_type": "stream",
       "stream": "stdout",
       "text": [
        " \r",
        "test.csv : [ ###################################################              ] 81%"
       ]
      },
      {
       "output_type": "stream",
       "stream": "stdout",
       "text": [
        " \r",
        "test.csv : [ ####################################################             ] 82%"
       ]
      },
      {
       "output_type": "stream",
       "stream": "stdout",
       "text": [
        " \r",
        "test.csv : [ #####################################################            ] 83%"
       ]
      },
      {
       "output_type": "stream",
       "stream": "stdout",
       "text": [
        " \r",
        "test.csv : [ #####################################################            ] 84%"
       ]
      },
      {
       "output_type": "stream",
       "stream": "stdout",
       "text": [
        " \r",
        "test.csv : [ ######################################################           ] 85%"
       ]
      },
      {
       "output_type": "stream",
       "stream": "stdout",
       "text": [
        " \r",
        "test.csv : [ #######################################################          ] 86%"
       ]
      },
      {
       "output_type": "stream",
       "stream": "stdout",
       "text": [
        " \r",
        "test.csv : [ #######################################################          ] 87%"
       ]
      },
      {
       "output_type": "stream",
       "stream": "stdout",
       "text": [
        " \r",
        "test.csv : [ ########################################################         ] 88%"
       ]
      },
      {
       "output_type": "stream",
       "stream": "stdout",
       "text": [
        " \r",
        "test.csv : [ ########################################################         ] 89%"
       ]
      },
      {
       "output_type": "stream",
       "stream": "stdout",
       "text": [
        " \r",
        "test.csv : [ #########################################################        ] 90%"
       ]
      },
      {
       "output_type": "stream",
       "stream": "stdout",
       "text": [
        " \r",
        "test.csv : [ ##########################################################       ] 91%"
       ]
      },
      {
       "output_type": "stream",
       "stream": "stdout",
       "text": [
        " \r",
        "test.csv : [ ##########################################################       ] 92%"
       ]
      },
      {
       "output_type": "stream",
       "stream": "stdout",
       "text": [
        " \r",
        "test.csv : [ ###########################################################      ] 93%"
       ]
      },
      {
       "output_type": "stream",
       "stream": "stdout",
       "text": [
        " \r",
        "test.csv : [ ############################################################     ] 94%"
       ]
      },
      {
       "output_type": "stream",
       "stream": "stdout",
       "text": [
        " \r",
        "test.csv : [ ############################################################     ] 95%"
       ]
      },
      {
       "output_type": "stream",
       "stream": "stdout",
       "text": [
        " \r",
        "test.csv : [ #############################################################    ] 96%"
       ]
      },
      {
       "output_type": "stream",
       "stream": "stdout",
       "text": [
        " \r",
        "test.csv : [ ##############################################################   ] 97%"
       ]
      },
      {
       "output_type": "stream",
       "stream": "stdout",
       "text": [
        " \r",
        "test.csv : [ ##############################################################   ] 98%"
       ]
      },
      {
       "output_type": "stream",
       "stream": "stdout",
       "text": [
        " \r",
        "test.csv : [ ###############################################################  ] 99%"
       ]
      },
      {
       "output_type": "stream",
       "stream": "stdout",
       "text": [
        " \r",
        "test.csv : [ ################################################################ ] 100%"
       ]
      },
      {
       "output_type": "stream",
       "stream": "stdout",
       "text": [
        "\n",
        "result in roc_alarm.dsl-test.csv-SAO2-HIGH.png"
       ]
      },
      {
       "output_type": "stream",
       "stream": "stdout",
       "text": [
        "\n"
       ]
      },
      {
       "metadata": {},
       "output_type": "display_data",
       "png": "[encoded data removed]",
       "text": [
        "<matplotlib.figure.Figure at 0x7f1214cc5210>"
       ]
      }
     ],
     "prompt_number": 16
    },
    {
     "cell_type": "code",
     "collapsed": false,
     "input": [],
     "language": "python",
     "metadata": {},
     "outputs": []
    }
   ],
   "metadata": {}
  }
 ]
}