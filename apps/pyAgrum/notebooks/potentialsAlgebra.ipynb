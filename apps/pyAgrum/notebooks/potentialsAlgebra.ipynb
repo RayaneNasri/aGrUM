{
 "cells": [
  {
   "cell_type": "code",
   "execution_count": 1,
   "metadata": {
    "collapsed": true
   },
   "outputs": [],
   "source": [
    "import pyAgrum as gum\n",
    "from pyAgrum.lib.pretty_print import pretty_cpt\n",
    "\n",
    "a,b,c=[gum.LabelizedVariable(s,s,2) for s in \"abc\"]"
   ]
  },
  {
   "cell_type": "code",
   "execution_count": 11,
   "metadata": {
    "collapsed": false
   },
   "outputs": [
    {
     "name": "stdout",
     "output_type": "stream",
     "text": [
      "   |---------------|\n",
      "---|       a       |\n",
      " b |   0      1    |\n",
      "---|---------------|\n",
      " 0 | 0.1000 0.2000 |\n",
      " 1 | 0.3000 0.4000 |\n",
      "---|---------------|\n"
     ]
    }
   ],
   "source": [
    "p1=gum.Potential().add(a).add(b).fillWith([1,2,3,4]).normalize()\n",
    "print(pretty_cpt(p1))"
   ]
  },
  {
   "cell_type": "code",
   "execution_count": 19,
   "metadata": {
    "collapsed": false
   },
   "outputs": [
    {
     "name": "stdout",
     "output_type": "stream",
     "text": [
      "   |---------------|\n",
      "---|       b       |\n",
      " c |   0      1    |\n",
      "---|---------------|\n",
      " 0 | 0.2857 0.3571 |\n",
      " 1 | 0.1429 0.2143 |\n",
      "---|---------------|\n"
     ]
    }
   ],
   "source": [
    "p2=gum.Potential().add(b).add(c).fillWith([4,5,2,3]).normalize()\n",
    "print(pretty_cpt(p2))"
   ]
  },
  {
   "cell_type": "code",
   "execution_count": 20,
   "metadata": {
    "collapsed": false
   },
   "outputs": [
    {
     "name": "stdout",
     "output_type": "stream",
     "text": [
      "       |---------------|\n",
      "-------|       b       |\n",
      " c | a |   0      1    |\n",
      "-------|---------------|\n",
      " 0 | 0 | 0.3857 0.6571 |\n",
      " 1 | 0 | 0.2429 0.5143 |\n",
      " 0 | 1 | 0.4857 0.7571 |\n",
      " 1 | 1 | 0.3429 0.6143 |\n",
      "-------|---------------|\n"
     ]
    }
   ],
   "source": [
    "print(pretty_cpt(p1+p2))"
   ]
  },
  {
   "cell_type": "code",
   "execution_count": 21,
   "metadata": {
    "collapsed": false
   },
   "outputs": [
    {
     "name": "stdout",
     "output_type": "stream",
     "text": [
      "       |---------------|\n",
      "-------|       c       |\n",
      " a | b |   0      1    |\n",
      "-------|---------------|\n",
      " 0 | 0 | 0.3699 0.3208 |\n",
      " 1 | 0 | 0.3908 0.3582 |\n",
      " 0 | 1 | 0.6301 0.6792 |\n",
      " 1 | 1 | 0.6092 0.6418 |\n",
      "-------|---------------|\n"
     ]
    }
   ],
   "source": [
    "p3=p1+p2\n",
    "print(pretty_cpt(p3/p3.margSumOut([p3.variable(0).name()])))"
   ]
  },
  {
   "cell_type": "code",
   "execution_count": null,
   "metadata": {
    "collapsed": true
   },
   "outputs": [],
   "source": []
  }
 ],
 "metadata": {
  "kernelspec": {
   "display_name": "Python 3",
   "language": "python",
   "name": "python3"
  },
  "language_info": {
   "codemirror_mode": {
    "name": "ipython",
    "version": 3
   },
   "file_extension": ".py",
   "mimetype": "text/x-python",
   "name": "python",
   "nbconvert_exporter": "python",
   "pygments_lexer": "ipython3",
   "version": "3.5.0+"
  }
 },
 "nbformat": 4,
 "nbformat_minor": 0
}
