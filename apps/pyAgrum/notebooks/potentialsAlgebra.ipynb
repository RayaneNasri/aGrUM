{
 "cells": [
  {
   "cell_type": "code",
   "execution_count": 7,
   "metadata": {
    "collapsed": true
   },
   "outputs": [],
   "source": [
    "import pyAgrum as gum\n",
    "from pyAgrum.lib.pretty_print import pretty_cpt\n",
    "\n",
    "a,b,c=[gum.LabelizedVariable(s,s,2) for s in \"abc\"]"
   ]
  },
  {
   "cell_type": "code",
   "execution_count": 12,
   "metadata": {
    "collapsed": false
   },
   "outputs": [
    {
     "name": "stdout",
     "output_type": "stream",
     "text": [
      "   |---------------|\n",
      "---|       a       |\n",
      " b |   0      1    |\n",
      "---|---------------|\n",
      " 0 | 1.0000 2.0000 |\n",
      " 1 | 3.0000 4.0000 |\n",
      "---|---------------|\n"
     ]
    }
   ],
   "source": [
    "p1=gum.Potential()\n",
    "p1.add(a).add(b)\n",
    "p1.fillWith([1,2,3,4])\n",
    "print(pretty_cpt(p1))"
   ]
  },
  {
   "cell_type": "code",
   "execution_count": 18,
   "metadata": {
    "collapsed": false
   },
   "outputs": [
    {
     "name": "stdout",
     "output_type": "stream",
     "text": [
      "   |---------------|\n",
      "---|       b       |\n",
      " c |   0      1    |\n",
      "---|---------------|\n",
      " 0 | 10.0000 20.0000 |\n",
      " 1 | 30.0000 40.0000 |\n",
      "---|---------------|\n"
     ]
    }
   ],
   "source": [
    "p2=gum.Potential()\n",
    "p2.add(b).add(c)\n",
    "p2.fillWith([10,20,30,40])\n",
    "print(pretty_cpt(p2))"
   ]
  },
  {
   "cell_type": "code",
   "execution_count": 19,
   "metadata": {
    "collapsed": false
   },
   "outputs": [
    {
     "name": "stdout",
     "output_type": "stream",
     "text": [
      "       |---------------|\n",
      "-------|       b       |\n",
      " c | a |   0      1    |\n",
      "-------|---------------|\n",
      " 0 | 0 | 11.0000 23.0000 |\n",
      " 1 | 0 | 31.0000 43.0000 |\n",
      " 0 | 1 | 12.0000 24.0000 |\n",
      " 1 | 1 | 32.0000 44.0000 |\n",
      "-------|---------------|\n"
     ]
    }
   ],
   "source": [
    "print(pretty_cpt(p1+p2))"
   ]
  },
  {
   "cell_type": "code",
   "execution_count": null,
   "metadata": {
    "collapsed": true
   },
   "outputs": [],
   "source": []
  }
 ],
 "metadata": {
  "kernelspec": {
   "display_name": "Python 3",
   "language": "python",
   "name": "python3"
  },
  "language_info": {
   "codemirror_mode": {
    "name": "ipython",
    "version": 3
   },
   "file_extension": ".py",
   "mimetype": "text/x-python",
   "name": "python",
   "nbconvert_exporter": "python",
   "pygments_lexer": "ipython3",
   "version": "3.5.0+"
  }
 },
 "nbformat": 4,
 "nbformat_minor": 0
}
