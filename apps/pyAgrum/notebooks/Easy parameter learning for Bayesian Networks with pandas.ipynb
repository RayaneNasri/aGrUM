{
 "metadata": {
  "name": ""
 },
 "nbformat": 3,
 "nbformat_minor": 0,
 "worksheets": [
  {
   "cells": [
    {
     "cell_type": "markdown",
     "metadata": {},
     "source": [
      "Initialisation\n",
      "==============\n",
      "\n",
      "* importing pyAgrum\n",
      "* importing gumLib tools\n",
      "* loading a BN"
     ]
    },
    {
     "cell_type": "code",
     "collapsed": true,
     "input": [
      "import pyAgrum as gum\n",
      "import gumLib.notebook as gumnb"
     ],
     "language": "python",
     "metadata": {},
     "outputs": [],
     "prompt_number": 2
    },
    {
     "cell_type": "heading",
     "level": 2,
     "metadata": {},
     "source": [
      "Loading two BNs"
     ]
    },
    {
     "cell_type": "code",
     "collapsed": false,
     "input": [
      "bn=gum.loadBN(\"../resources/asia.bif\")\n",
      "bn2=gum.loadBN(\"../resources/asia.bif\")\n",
      "\n",
      "gumnb.showBN(bn,size=\"3\")\n",
      "gumnb.showBN(bn2,size=\"3\")"
     ],
     "language": "python",
     "metadata": {},
     "outputs": [
      {
       "html": [
        "<svg height=\"138pt\" viewBox=\"0.00 0.00 216.00 137.50\" width=\"216pt\" xmlns=\"http://www.w3.org/2000/svg\" xmlns:xlink=\"http://www.w3.org/1999/xlink\">\n",
        "<g class=\"graph\" id=\"graph1\" transform=\"scale(0.513064 0.513064) rotate(0) translate(4 264)\">\n",
        "<title>G</title>\n",
        "<polygon fill=\"white\" points=\"-4,5 -4,-264 418,-264 418,5 -4,5\" stroke=\"white\"/>\n",
        "<!-- visit_to_Asia? -->\n",
        "<g class=\"node\" id=\"node1\"><title>visit_to_Asia?</title>\n",
        "<ellipse cx=\"78\" cy=\"-241\" fill=\"#666666\" rx=\"77.7817\" ry=\"18.3848\" stroke=\"black\"/>\n",
        "<text fill=\"#ffffff\" font-family=\"Times Roman,serif\" font-size=\"14.00\" text-anchor=\"middle\" x=\"78\" y=\"-237.4\">visit_to_Asia?</text>\n",
        "</g>\n",
        "<!-- tuberculosis? -->\n",
        "<g class=\"node\" id=\"node2\"><title>tuberculosis?</title>\n",
        "<ellipse cx=\"78\" cy=\"-167\" fill=\"#666666\" rx=\"74.9533\" ry=\"18.3848\" stroke=\"black\"/>\n",
        "<text fill=\"#ffffff\" font-family=\"Times Roman,serif\" font-size=\"14.00\" text-anchor=\"middle\" x=\"78\" y=\"-163.4\">tuberculosis?</text>\n",
        "</g>\n",
        "<!-- visit_to_Asia?&#45;&gt;tuberculosis? -->\n",
        "<g class=\"edge\" id=\"edge2\"><title>visit_to_Asia?-&gt;tuberculosis?</title>\n",
        "<path d=\"M78,-222.327C78,-214.264 78,-204.648 78,-195.711\" fill=\"none\" stroke=\"black\"/>\n",
        "<polygon fill=\"black\" points=\"81.5001,-195.667 78,-185.667 74.5001,-195.667 81.5001,-195.667\" stroke=\"black\"/>\n",
        "</g>\n",
        "<!-- tuberculos_or_cancer? -->\n",
        "<g class=\"node\" id=\"node3\"><title>tuberculos_or_cancer?</title>\n",
        "<ellipse cx=\"147\" cy=\"-93\" fill=\"#666666\" rx=\"120.208\" ry=\"18.3848\" stroke=\"black\"/>\n",
        "<text fill=\"#ffffff\" font-family=\"Times Roman,serif\" font-size=\"14.00\" text-anchor=\"middle\" x=\"147\" y=\"-89.4\">tuberculos_or_cancer?</text>\n",
        "</g>\n",
        "<!-- tuberculosis?&#45;&gt;tuberculos_or_cancer? -->\n",
        "<g class=\"edge\" id=\"edge12\"><title>tuberculosis?-&gt;tuberculos_or_cancer?</title>\n",
        "<path d=\"M95.0562,-148.708C103.432,-139.725 113.67,-128.745 122.836,-118.915\" fill=\"none\" stroke=\"black\"/>\n",
        "<polygon fill=\"black\" points=\"125.641,-121.039 129.901,-111.338 120.521,-116.265 125.641,-121.039\" stroke=\"black\"/>\n",
        "</g>\n",
        "<!-- positive_XraY? -->\n",
        "<g class=\"node\" id=\"node4\"><title>positive_XraY?</title>\n",
        "<ellipse cx=\"147\" cy=\"-19\" fill=\"#666666\" rx=\"84.1457\" ry=\"18.3848\" stroke=\"black\"/>\n",
        "<text fill=\"#ffffff\" font-family=\"Times Roman,serif\" font-size=\"14.00\" text-anchor=\"middle\" x=\"147\" y=\"-15.4\">positive_XraY?</text>\n",
        "</g>\n",
        "<!-- tuberculos_or_cancer?&#45;&gt;positive_XraY? -->\n",
        "<g class=\"edge\" id=\"edge6\"><title>tuberculos_or_cancer?-&gt;positive_XraY?</title>\n",
        "<path d=\"M147,-74.3267C147,-66.2639 147,-56.6477 147,-47.7115\" fill=\"none\" stroke=\"black\"/>\n",
        "<polygon fill=\"black\" points=\"150.5,-47.6673 147,-37.6674 143.5,-47.6674 150.5,-47.6673\" stroke=\"black\"/>\n",
        "</g>\n",
        "<!-- dyspnoea? -->\n",
        "<g class=\"node\" id=\"node8\"><title>dyspnoea?</title>\n",
        "<ellipse cx=\"330\" cy=\"-19\" fill=\"#666666\" rx=\"62.9325\" ry=\"18.3848\" stroke=\"black\"/>\n",
        "<text fill=\"#ffffff\" font-family=\"Times Roman,serif\" font-size=\"14.00\" text-anchor=\"middle\" x=\"330\" y=\"-15.4\">dyspnoea?</text>\n",
        "</g>\n",
        "<!-- tuberculos_or_cancer?&#45;&gt;dyspnoea? -->\n",
        "<g class=\"edge\" id=\"edge8\"><title>tuberculos_or_cancer?-&gt;dyspnoea?</title>\n",
        "<path d=\"M189.905,-75.6503C218,-64.2897 254.705,-49.4472 283.496,-37.8049\" fill=\"none\" stroke=\"black\"/>\n",
        "<polygon fill=\"black\" points=\"284.974,-40.9826 292.933,-33.9889 282.35,-34.4931 284.974,-40.9826\" stroke=\"black\"/>\n",
        "</g>\n",
        "<!-- lung_cancer? -->\n",
        "<g class=\"node\" id=\"node5\"><title>lung_cancer?</title>\n",
        "<ellipse cx=\"246\" cy=\"-167\" fill=\"#666666\" rx=\"75.1594\" ry=\"18.3848\" stroke=\"black\"/>\n",
        "<text fill=\"#ffffff\" font-family=\"Times Roman,serif\" font-size=\"14.00\" text-anchor=\"middle\" x=\"246\" y=\"-163.4\">lung_cancer?</text>\n",
        "</g>\n",
        "<!-- lung_cancer?&#45;&gt;tuberculos_or_cancer? -->\n",
        "<g class=\"edge\" id=\"edge10\"><title>lung_cancer?-&gt;tuberculos_or_cancer?</title>\n",
        "<path d=\"M222.287,-149.275C209.591,-139.785 193.756,-127.949 179.888,-117.583\" fill=\"none\" stroke=\"black\"/>\n",
        "<polygon fill=\"black\" points=\"181.659,-114.537 171.553,-111.353 177.468,-120.144 181.659,-114.537\" stroke=\"black\"/>\n",
        "</g>\n",
        "<!-- smoking? -->\n",
        "<g class=\"node\" id=\"node6\"><title>smoking?</title>\n",
        "<ellipse cx=\"297\" cy=\"-241\" fill=\"#666666\" rx=\"56.7776\" ry=\"18.3848\" stroke=\"black\"/>\n",
        "<text fill=\"#ffffff\" font-family=\"Times Roman,serif\" font-size=\"14.00\" text-anchor=\"middle\" x=\"297\" y=\"-237.4\">smoking?</text>\n",
        "</g>\n",
        "<!-- smoking?&#45;&gt;lung_cancer? -->\n",
        "<g class=\"edge\" id=\"edge14\"><title>smoking?-&gt;lung_cancer?</title>\n",
        "<path d=\"M284.393,-222.708C278.386,-213.991 271.083,-203.395 264.466,-193.794\" fill=\"none\" stroke=\"black\"/>\n",
        "<polygon fill=\"black\" points=\"267.195,-191.586 258.638,-185.338 261.431,-195.558 267.195,-191.586\" stroke=\"black\"/>\n",
        "</g>\n",
        "<!-- bronchitis? -->\n",
        "<g class=\"node\" id=\"node7\"><title>bronchitis?</title>\n",
        "<ellipse cx=\"349\" cy=\"-93\" fill=\"#666666\" rx=\"63.8479\" ry=\"18.3848\" stroke=\"black\"/>\n",
        "<text fill=\"#ffffff\" font-family=\"Times Roman,serif\" font-size=\"14.00\" text-anchor=\"middle\" x=\"349\" y=\"-89.4\">bronchitis?</text>\n",
        "</g>\n",
        "<!-- smoking?&#45;&gt;bronchitis? -->\n",
        "<g class=\"edge\" id=\"edge4\"><title>smoking?-&gt;bronchitis?</title>\n",
        "<path d=\"M309.952,-222.972C316.84,-212.604 324.914,-199.076 330,-186 338.078,-165.233 342.923,-140.459 345.697,-121.704\" fill=\"none\" stroke=\"black\"/>\n",
        "<polygon fill=\"black\" points=\"349.178,-122.083 347.066,-111.701 342.242,-121.134 349.178,-122.083\" stroke=\"black\"/>\n",
        "</g>\n",
        "<!-- bronchitis?&#45;&gt;dyspnoea? -->\n",
        "<g class=\"edge\" id=\"edge16\"><title>bronchitis?-&gt;dyspnoea?</title>\n",
        "<path d=\"M344.205,-74.3267C342.113,-66.1762 339.613,-56.4384 337.297,-47.4203\" fill=\"none\" stroke=\"black\"/>\n",
        "<polygon fill=\"black\" points=\"340.67,-46.4827 334.793,-37.6674 333.89,-48.2236 340.67,-46.4827\" stroke=\"black\"/>\n",
        "</g>\n",
        "</g>\n",
        "</svg>"
       ],
       "metadata": {},
       "output_type": "display_data",
       "text": [
        "<IPython.core.display.HTML at 0x397ce90>"
       ]
      },
      {
       "html": [
        "<svg height=\"138pt\" viewBox=\"0.00 0.00 216.00 137.50\" width=\"216pt\" xmlns=\"http://www.w3.org/2000/svg\" xmlns:xlink=\"http://www.w3.org/1999/xlink\">\n",
        "<g class=\"graph\" id=\"graph1\" transform=\"scale(0.513064 0.513064) rotate(0) translate(4 264)\">\n",
        "<title>G</title>\n",
        "<polygon fill=\"white\" points=\"-4,5 -4,-264 418,-264 418,5 -4,5\" stroke=\"white\"/>\n",
        "<!-- visit_to_Asia? -->\n",
        "<g class=\"node\" id=\"node1\"><title>visit_to_Asia?</title>\n",
        "<ellipse cx=\"78\" cy=\"-241\" fill=\"#666666\" rx=\"77.7817\" ry=\"18.3848\" stroke=\"black\"/>\n",
        "<text fill=\"#ffffff\" font-family=\"Times Roman,serif\" font-size=\"14.00\" text-anchor=\"middle\" x=\"78\" y=\"-237.4\">visit_to_Asia?</text>\n",
        "</g>\n",
        "<!-- tuberculosis? -->\n",
        "<g class=\"node\" id=\"node2\"><title>tuberculosis?</title>\n",
        "<ellipse cx=\"78\" cy=\"-167\" fill=\"#666666\" rx=\"74.9533\" ry=\"18.3848\" stroke=\"black\"/>\n",
        "<text fill=\"#ffffff\" font-family=\"Times Roman,serif\" font-size=\"14.00\" text-anchor=\"middle\" x=\"78\" y=\"-163.4\">tuberculosis?</text>\n",
        "</g>\n",
        "<!-- visit_to_Asia?&#45;&gt;tuberculosis? -->\n",
        "<g class=\"edge\" id=\"edge2\"><title>visit_to_Asia?-&gt;tuberculosis?</title>\n",
        "<path d=\"M78,-222.327C78,-214.264 78,-204.648 78,-195.711\" fill=\"none\" stroke=\"black\"/>\n",
        "<polygon fill=\"black\" points=\"81.5001,-195.667 78,-185.667 74.5001,-195.667 81.5001,-195.667\" stroke=\"black\"/>\n",
        "</g>\n",
        "<!-- tuberculos_or_cancer? -->\n",
        "<g class=\"node\" id=\"node3\"><title>tuberculos_or_cancer?</title>\n",
        "<ellipse cx=\"147\" cy=\"-93\" fill=\"#666666\" rx=\"120.208\" ry=\"18.3848\" stroke=\"black\"/>\n",
        "<text fill=\"#ffffff\" font-family=\"Times Roman,serif\" font-size=\"14.00\" text-anchor=\"middle\" x=\"147\" y=\"-89.4\">tuberculos_or_cancer?</text>\n",
        "</g>\n",
        "<!-- tuberculosis?&#45;&gt;tuberculos_or_cancer? -->\n",
        "<g class=\"edge\" id=\"edge12\"><title>tuberculosis?-&gt;tuberculos_or_cancer?</title>\n",
        "<path d=\"M95.0562,-148.708C103.432,-139.725 113.67,-128.745 122.836,-118.915\" fill=\"none\" stroke=\"black\"/>\n",
        "<polygon fill=\"black\" points=\"125.641,-121.039 129.901,-111.338 120.521,-116.265 125.641,-121.039\" stroke=\"black\"/>\n",
        "</g>\n",
        "<!-- positive_XraY? -->\n",
        "<g class=\"node\" id=\"node4\"><title>positive_XraY?</title>\n",
        "<ellipse cx=\"147\" cy=\"-19\" fill=\"#666666\" rx=\"84.1457\" ry=\"18.3848\" stroke=\"black\"/>\n",
        "<text fill=\"#ffffff\" font-family=\"Times Roman,serif\" font-size=\"14.00\" text-anchor=\"middle\" x=\"147\" y=\"-15.4\">positive_XraY?</text>\n",
        "</g>\n",
        "<!-- tuberculos_or_cancer?&#45;&gt;positive_XraY? -->\n",
        "<g class=\"edge\" id=\"edge6\"><title>tuberculos_or_cancer?-&gt;positive_XraY?</title>\n",
        "<path d=\"M147,-74.3267C147,-66.2639 147,-56.6477 147,-47.7115\" fill=\"none\" stroke=\"black\"/>\n",
        "<polygon fill=\"black\" points=\"150.5,-47.6673 147,-37.6674 143.5,-47.6674 150.5,-47.6673\" stroke=\"black\"/>\n",
        "</g>\n",
        "<!-- dyspnoea? -->\n",
        "<g class=\"node\" id=\"node8\"><title>dyspnoea?</title>\n",
        "<ellipse cx=\"330\" cy=\"-19\" fill=\"#666666\" rx=\"62.9325\" ry=\"18.3848\" stroke=\"black\"/>\n",
        "<text fill=\"#ffffff\" font-family=\"Times Roman,serif\" font-size=\"14.00\" text-anchor=\"middle\" x=\"330\" y=\"-15.4\">dyspnoea?</text>\n",
        "</g>\n",
        "<!-- tuberculos_or_cancer?&#45;&gt;dyspnoea? -->\n",
        "<g class=\"edge\" id=\"edge8\"><title>tuberculos_or_cancer?-&gt;dyspnoea?</title>\n",
        "<path d=\"M189.905,-75.6503C218,-64.2897 254.705,-49.4472 283.496,-37.8049\" fill=\"none\" stroke=\"black\"/>\n",
        "<polygon fill=\"black\" points=\"284.974,-40.9826 292.933,-33.9889 282.35,-34.4931 284.974,-40.9826\" stroke=\"black\"/>\n",
        "</g>\n",
        "<!-- lung_cancer? -->\n",
        "<g class=\"node\" id=\"node5\"><title>lung_cancer?</title>\n",
        "<ellipse cx=\"246\" cy=\"-167\" fill=\"#666666\" rx=\"75.1594\" ry=\"18.3848\" stroke=\"black\"/>\n",
        "<text fill=\"#ffffff\" font-family=\"Times Roman,serif\" font-size=\"14.00\" text-anchor=\"middle\" x=\"246\" y=\"-163.4\">lung_cancer?</text>\n",
        "</g>\n",
        "<!-- lung_cancer?&#45;&gt;tuberculos_or_cancer? -->\n",
        "<g class=\"edge\" id=\"edge10\"><title>lung_cancer?-&gt;tuberculos_or_cancer?</title>\n",
        "<path d=\"M222.287,-149.275C209.591,-139.785 193.756,-127.949 179.888,-117.583\" fill=\"none\" stroke=\"black\"/>\n",
        "<polygon fill=\"black\" points=\"181.659,-114.537 171.553,-111.353 177.468,-120.144 181.659,-114.537\" stroke=\"black\"/>\n",
        "</g>\n",
        "<!-- smoking? -->\n",
        "<g class=\"node\" id=\"node6\"><title>smoking?</title>\n",
        "<ellipse cx=\"297\" cy=\"-241\" fill=\"#666666\" rx=\"56.7776\" ry=\"18.3848\" stroke=\"black\"/>\n",
        "<text fill=\"#ffffff\" font-family=\"Times Roman,serif\" font-size=\"14.00\" text-anchor=\"middle\" x=\"297\" y=\"-237.4\">smoking?</text>\n",
        "</g>\n",
        "<!-- smoking?&#45;&gt;lung_cancer? -->\n",
        "<g class=\"edge\" id=\"edge14\"><title>smoking?-&gt;lung_cancer?</title>\n",
        "<path d=\"M284.393,-222.708C278.386,-213.991 271.083,-203.395 264.466,-193.794\" fill=\"none\" stroke=\"black\"/>\n",
        "<polygon fill=\"black\" points=\"267.195,-191.586 258.638,-185.338 261.431,-195.558 267.195,-191.586\" stroke=\"black\"/>\n",
        "</g>\n",
        "<!-- bronchitis? -->\n",
        "<g class=\"node\" id=\"node7\"><title>bronchitis?</title>\n",
        "<ellipse cx=\"349\" cy=\"-93\" fill=\"#666666\" rx=\"63.8479\" ry=\"18.3848\" stroke=\"black\"/>\n",
        "<text fill=\"#ffffff\" font-family=\"Times Roman,serif\" font-size=\"14.00\" text-anchor=\"middle\" x=\"349\" y=\"-89.4\">bronchitis?</text>\n",
        "</g>\n",
        "<!-- smoking?&#45;&gt;bronchitis? -->\n",
        "<g class=\"edge\" id=\"edge4\"><title>smoking?-&gt;bronchitis?</title>\n",
        "<path d=\"M309.952,-222.972C316.84,-212.604 324.914,-199.076 330,-186 338.078,-165.233 342.923,-140.459 345.697,-121.704\" fill=\"none\" stroke=\"black\"/>\n",
        "<polygon fill=\"black\" points=\"349.178,-122.083 347.066,-111.701 342.242,-121.134 349.178,-122.083\" stroke=\"black\"/>\n",
        "</g>\n",
        "<!-- bronchitis?&#45;&gt;dyspnoea? -->\n",
        "<g class=\"edge\" id=\"edge16\"><title>bronchitis?-&gt;dyspnoea?</title>\n",
        "<path d=\"M344.205,-74.3267C342.113,-66.1762 339.613,-56.4384 337.297,-47.4203\" fill=\"none\" stroke=\"black\"/>\n",
        "<polygon fill=\"black\" points=\"340.67,-46.4827 334.793,-37.6674 333.89,-48.2236 340.67,-46.4827\" stroke=\"black\"/>\n",
        "</g>\n",
        "</g>\n",
        "</svg>"
       ],
       "metadata": {},
       "output_type": "display_data",
       "text": [
        "<IPython.core.display.HTML at 0x397c9d0>"
       ]
      }
     ],
     "prompt_number": 5
    },
    {
     "cell_type": "heading",
     "level": 2,
     "metadata": {},
     "source": [
      "Randomizing the parameters"
     ]
    },
    {
     "cell_type": "code",
     "collapsed": false,
     "input": [
      "bn.generateCPTs()\n",
      "bn2.generateCPTs()"
     ],
     "language": "python",
     "metadata": {},
     "outputs": [],
     "prompt_number": 6
    },
    {
     "cell_type": "heading",
     "level": 2,
     "metadata": {},
     "source": [
      "Direct comparison of parameters"
     ]
    },
    {
     "cell_type": "code",
     "collapsed": false,
     "input": [
      "from gumLib.pretty_print import pretty_cpt\n",
      "print(\"ORIGINAL BN\")\n",
      "pretty_cpt(bn.cpt(3))\n",
      "print(\"SCRAMBLED BN\")\n",
      "pretty_cpt(bn2.cpt(3))"
     ],
     "language": "python",
     "metadata": {},
     "outputs": [
      {
       "output_type": "stream",
       "stream": "stdout",
       "text": [
        "ORIGINAL BN\n",
        "                       |---------------|\n",
        "-----------------------|positive_XraY? |\n",
        " tuberculos_or_cancer? |   d1     d2   |\n",
        "-----------------------|---------------|\n",
        "          c1           | 0.2989 0.7011 |\n",
        "          c2           | 0.3596 0.6404 |\n",
        "-----------------------|---------------|\n",
        "SCRAMBLED BN\n",
        "                       |---------------|\n",
        "-----------------------|positive_XraY? |\n",
        " tuberculos_or_cancer? |   d1     d2   |\n",
        "-----------------------|---------------|\n",
        "          c1           | 0.8830 0.1170 |\n",
        "          c2           | 0.1766 0.8234 |\n",
        "-----------------------|---------------|\n"
       ]
      }
     ],
     "prompt_number": 7
    },
    {
     "cell_type": "heading",
     "level": 2,
     "metadata": {},
     "source": [
      "Exact KL-divergence "
     ]
    },
    {
     "cell_type": "markdown",
     "metadata": {},
     "source": [
      "Since the BN is not too big, BruteForceKL can be computed ..."
     ]
    },
    {
     "cell_type": "code",
     "collapsed": false,
     "input": [
      "g1=gum.BruteForceKL(bn,bn2)\n",
      "before_learning=g1.compute()\n",
      "print(before_learning['klPQ'])"
     ],
     "language": "python",
     "metadata": {},
     "outputs": [
      {
       "output_type": "stream",
       "stream": "stdout",
       "text": [
        "4.01101759019\n"
       ]
      }
     ],
     "prompt_number": 10
    },
    {
     "cell_type": "markdown",
     "metadata": {},
     "source": [
      "Just to be sure that the distance between a BN and itself is 0 :"
     ]
    },
    {
     "cell_type": "code",
     "collapsed": false,
     "input": [
      "g0=gum.BruteForceKL(bn,bn)\n",
      "print(g0.compute()['klPQ'])"
     ],
     "language": "python",
     "metadata": {},
     "outputs": [
      {
       "output_type": "stream",
       "stream": "stdout",
       "text": [
        "0.0\n"
       ]
      }
     ],
     "prompt_number": 11
    },
    {
     "cell_type": "heading",
     "level": 2,
     "metadata": {},
     "source": [
      "Generate a database from the original BN"
     ]
    },
    {
     "cell_type": "code",
     "collapsed": false,
     "input": [
      "from gumLib.bn2csv import generateCSV\n",
      "generateCSV(bn,\"test.csv\",10000,True)"
     ],
     "language": "python",
     "metadata": {},
     "outputs": [
      {
       "output_type": "stream",
       "stream": "stdout",
       "text": [
        "BN{nodes: 8, arcs: 8, domainSize: 256, parameters: 36, compression ratio: 85% }  ready\r"
       ]
      },
      {
       "output_type": "stream",
       "stream": "stdout",
       "text": [
        "\r",
        "test.csv : [                                                                  ] 1%"
       ]
      },
      {
       "output_type": "stream",
       "stream": "stdout",
       "text": [
        " \r",
        "test.csv : [ #                                                                ] 2%"
       ]
      },
      {
       "output_type": "stream",
       "stream": "stdout",
       "text": [
        " \r",
        "test.csv : [ #                                                                ] 3%"
       ]
      },
      {
       "output_type": "stream",
       "stream": "stdout",
       "text": [
        " \r",
        "test.csv : [ ##                                                               ] 4%"
       ]
      },
      {
       "output_type": "stream",
       "stream": "stdout",
       "text": [
        " \r",
        "test.csv : [ ###                                                              ] 5%"
       ]
      },
      {
       "output_type": "stream",
       "stream": "stdout",
       "text": [
        " \r",
        "test.csv : [ ###                                                              ] 6%"
       ]
      },
      {
       "output_type": "stream",
       "stream": "stdout",
       "text": [
        " \r",
        "test.csv : [ ####                                                             ] 7%"
       ]
      },
      {
       "output_type": "stream",
       "stream": "stdout",
       "text": [
        " \r",
        "test.csv : [ #####                                                            ] 8%"
       ]
      },
      {
       "output_type": "stream",
       "stream": "stdout",
       "text": [
        " \r",
        "test.csv : [ #####                                                            ] 9%"
       ]
      },
      {
       "output_type": "stream",
       "stream": "stdout",
       "text": [
        " \r",
        "test.csv : [ ######                                                           ] 10%"
       ]
      },
      {
       "output_type": "stream",
       "stream": "stdout",
       "text": [
        " \r",
        "test.csv : [ #######                                                          ] 11%"
       ]
      },
      {
       "output_type": "stream",
       "stream": "stdout",
       "text": [
        " \r",
        "test.csv : [ #######                                                          ] 12%"
       ]
      },
      {
       "output_type": "stream",
       "stream": "stdout",
       "text": [
        " \r",
        "test.csv : [ ########                                                         ] 13%"
       ]
      },
      {
       "output_type": "stream",
       "stream": "stdout",
       "text": [
        " \r",
        "test.csv : [ ########                                                         ] 14%"
       ]
      },
      {
       "output_type": "stream",
       "stream": "stdout",
       "text": [
        " \r",
        "test.csv : [ #########                                                        ] 15%"
       ]
      },
      {
       "output_type": "stream",
       "stream": "stdout",
       "text": [
        " \r",
        "test.csv : [ ##########                                                       ] 16%"
       ]
      },
      {
       "output_type": "stream",
       "stream": "stdout",
       "text": [
        " \r",
        "test.csv : [ ##########                                                       ] 17%"
       ]
      },
      {
       "output_type": "stream",
       "stream": "stdout",
       "text": [
        " \r",
        "test.csv : [ ###########                                                      ] 18%"
       ]
      },
      {
       "output_type": "stream",
       "stream": "stdout",
       "text": [
        " \r",
        "test.csv : [ ############                                                     ] 19%"
       ]
      },
      {
       "output_type": "stream",
       "stream": "stdout",
       "text": [
        " \r",
        "test.csv : [ ############                                                     ] 20%"
       ]
      },
      {
       "output_type": "stream",
       "stream": "stdout",
       "text": [
        " \r",
        "test.csv : [ #############                                                    ] 21%"
       ]
      },
      {
       "output_type": "stream",
       "stream": "stdout",
       "text": [
        " \r",
        "test.csv : [ ##############                                                   ] 22%"
       ]
      },
      {
       "output_type": "stream",
       "stream": "stdout",
       "text": [
        " \r",
        "test.csv : [ ##############                                                   ] 23%"
       ]
      },
      {
       "output_type": "stream",
       "stream": "stdout",
       "text": [
        " \r",
        "test.csv : [ ###############                                                  ] 24%"
       ]
      },
      {
       "output_type": "stream",
       "stream": "stdout",
       "text": [
        " \r",
        "test.csv : [ ################                                                 ] 25%"
       ]
      },
      {
       "output_type": "stream",
       "stream": "stdout",
       "text": [
        " \r",
        "test.csv : [ ################                                                 ] 26%"
       ]
      },
      {
       "output_type": "stream",
       "stream": "stdout",
       "text": [
        " \r",
        "test.csv : [ #################                                                ] 27%"
       ]
      },
      {
       "output_type": "stream",
       "stream": "stdout",
       "text": [
        " \r",
        "test.csv : [ #################                                                ] 28%"
       ]
      },
      {
       "output_type": "stream",
       "stream": "stdout",
       "text": [
        " \r",
        "test.csv : [ ##################                                               ] 29%"
       ]
      },
      {
       "output_type": "stream",
       "stream": "stdout",
       "text": [
        " \r",
        "test.csv : [ ###################                                              ] 30%"
       ]
      },
      {
       "output_type": "stream",
       "stream": "stdout",
       "text": [
        " \r",
        "test.csv : [ ###################                                              ] 31%"
       ]
      },
      {
       "output_type": "stream",
       "stream": "stdout",
       "text": [
        " \r",
        "test.csv : [ ####################                                             ] 32%"
       ]
      },
      {
       "output_type": "stream",
       "stream": "stdout",
       "text": [
        " \r",
        "test.csv : [ #####################                                            ] 33%"
       ]
      },
      {
       "output_type": "stream",
       "stream": "stdout",
       "text": [
        " \r",
        "test.csv : [ #####################                                            ] 34%"
       ]
      },
      {
       "output_type": "stream",
       "stream": "stdout",
       "text": [
        " \r",
        "test.csv : [ ######################                                           ] 35%"
       ]
      },
      {
       "output_type": "stream",
       "stream": "stdout",
       "text": [
        " \r",
        "test.csv : [ #######################                                          ] 36%"
       ]
      },
      {
       "output_type": "stream",
       "stream": "stdout",
       "text": [
        " \r",
        "test.csv : [ #######################                                          ] 37%"
       ]
      },
      {
       "output_type": "stream",
       "stream": "stdout",
       "text": [
        " \r",
        "test.csv : [ ########################                                         ] 38%"
       ]
      },
      {
       "output_type": "stream",
       "stream": "stdout",
       "text": [
        " \r",
        "test.csv : [ ########################                                         ] 39%"
       ]
      },
      {
       "output_type": "stream",
       "stream": "stdout",
       "text": [
        " \r",
        "test.csv : [ #########################                                        ] 40%"
       ]
      },
      {
       "output_type": "stream",
       "stream": "stdout",
       "text": [
        " \r",
        "test.csv : [ ##########################                                       ] 41%"
       ]
      },
      {
       "output_type": "stream",
       "stream": "stdout",
       "text": [
        " \r",
        "test.csv : [ ##########################                                       ] 42%"
       ]
      },
      {
       "output_type": "stream",
       "stream": "stdout",
       "text": [
        " \r",
        "test.csv : [ ###########################                                      ] 43%"
       ]
      },
      {
       "output_type": "stream",
       "stream": "stdout",
       "text": [
        " \r",
        "test.csv : [ ############################                                     ] 44%"
       ]
      },
      {
       "output_type": "stream",
       "stream": "stdout",
       "text": [
        " \r",
        "test.csv : [ ############################                                     ] 45%"
       ]
      },
      {
       "output_type": "stream",
       "stream": "stdout",
       "text": [
        " \r",
        "test.csv : [ #############################                                    ] 46%"
       ]
      },
      {
       "output_type": "stream",
       "stream": "stdout",
       "text": [
        " \r",
        "test.csv : [ ##############################                                   ] 47%"
       ]
      },
      {
       "output_type": "stream",
       "stream": "stdout",
       "text": [
        " \r",
        "test.csv : [ ##############################                                   ] 48%"
       ]
      },
      {
       "output_type": "stream",
       "stream": "stdout",
       "text": [
        " \r",
        "test.csv : [ ###############################                                  ] 49%"
       ]
      },
      {
       "output_type": "stream",
       "stream": "stdout",
       "text": [
        " \r",
        "test.csv : [ ################################                                 ] 50%"
       ]
      },
      {
       "output_type": "stream",
       "stream": "stdout",
       "text": [
        " \r",
        "test.csv : [ ################################                                 ] 51%"
       ]
      },
      {
       "output_type": "stream",
       "stream": "stdout",
       "text": [
        " \r",
        "test.csv : [ #################################                                ] 52%"
       ]
      },
      {
       "output_type": "stream",
       "stream": "stdout",
       "text": [
        " \r",
        "test.csv : [ #################################                                ] 53%"
       ]
      },
      {
       "output_type": "stream",
       "stream": "stdout",
       "text": [
        " \r",
        "test.csv : [ ##################################                               ] 54%"
       ]
      },
      {
       "output_type": "stream",
       "stream": "stdout",
       "text": [
        " \r",
        "test.csv : [ ###################################                              ] 55%"
       ]
      },
      {
       "output_type": "stream",
       "stream": "stdout",
       "text": [
        " \r",
        "test.csv : [ ###################################                              ] 56%"
       ]
      },
      {
       "output_type": "stream",
       "stream": "stdout",
       "text": [
        " \r",
        "test.csv : [ ####################################                             ] 57%"
       ]
      },
      {
       "output_type": "stream",
       "stream": "stdout",
       "text": [
        " \r",
        "test.csv : [ #####################################                            ] 58%"
       ]
      },
      {
       "output_type": "stream",
       "stream": "stdout",
       "text": [
        " \r",
        "test.csv : [ #####################################                            ] 59%"
       ]
      },
      {
       "output_type": "stream",
       "stream": "stdout",
       "text": [
        " \r",
        "test.csv : [ ######################################                           ] 60%"
       ]
      },
      {
       "output_type": "stream",
       "stream": "stdout",
       "text": [
        " \r",
        "test.csv : [ #######################################                          ] 61%"
       ]
      },
      {
       "output_type": "stream",
       "stream": "stdout",
       "text": [
        " \r",
        "test.csv : [ #######################################                          ] 62%"
       ]
      },
      {
       "output_type": "stream",
       "stream": "stdout",
       "text": [
        " \r",
        "test.csv : [ ########################################                         ] 63%"
       ]
      },
      {
       "output_type": "stream",
       "stream": "stdout",
       "text": [
        " \r",
        "test.csv : [ ########################################                         ] 64%"
       ]
      },
      {
       "output_type": "stream",
       "stream": "stdout",
       "text": [
        " \r",
        "test.csv : [ #########################################                        ] 65%"
       ]
      },
      {
       "output_type": "stream",
       "stream": "stdout",
       "text": [
        " \r",
        "test.csv : [ ##########################################                       ] 66%"
       ]
      },
      {
       "output_type": "stream",
       "stream": "stdout",
       "text": [
        " \r",
        "test.csv : [ ##########################################                       ] 67%"
       ]
      },
      {
       "output_type": "stream",
       "stream": "stdout",
       "text": [
        " \r",
        "test.csv : [ ###########################################                      ] 68%"
       ]
      },
      {
       "output_type": "stream",
       "stream": "stdout",
       "text": [
        " \r",
        "test.csv : [ ############################################                     ] 69%"
       ]
      },
      {
       "output_type": "stream",
       "stream": "stdout",
       "text": [
        " \r",
        "test.csv : [ ############################################                     ] 70%"
       ]
      },
      {
       "output_type": "stream",
       "stream": "stdout",
       "text": [
        " \r",
        "test.csv : [ #############################################                    ] 71%"
       ]
      },
      {
       "output_type": "stream",
       "stream": "stdout",
       "text": [
        " \r",
        "test.csv : [ ##############################################                   ] 72%"
       ]
      },
      {
       "output_type": "stream",
       "stream": "stdout",
       "text": [
        " \r",
        "test.csv : [ ##############################################                   ] 73%"
       ]
      },
      {
       "output_type": "stream",
       "stream": "stdout",
       "text": [
        " \r",
        "test.csv : [ ###############################################                  ] 74%"
       ]
      },
      {
       "output_type": "stream",
       "stream": "stdout",
       "text": [
        " \r",
        "test.csv : [ ################################################                 ] 75%"
       ]
      },
      {
       "output_type": "stream",
       "stream": "stdout",
       "text": [
        " \r",
        "test.csv : [ ################################################                 ] 76%"
       ]
      },
      {
       "output_type": "stream",
       "stream": "stdout",
       "text": [
        " \r",
        "test.csv : [ #################################################                ] 77%"
       ]
      },
      {
       "output_type": "stream",
       "stream": "stdout",
       "text": [
        " \r",
        "test.csv : [ #################################################                ] 78%"
       ]
      },
      {
       "output_type": "stream",
       "stream": "stdout",
       "text": [
        " \r",
        "test.csv : [ ##################################################               ] 79%"
       ]
      },
      {
       "output_type": "stream",
       "stream": "stdout",
       "text": [
        " \r",
        "test.csv : [ ###################################################              ] 80%"
       ]
      },
      {
       "output_type": "stream",
       "stream": "stdout",
       "text": [
        " \r",
        "test.csv : [ ###################################################              ] 81%"
       ]
      },
      {
       "output_type": "stream",
       "stream": "stdout",
       "text": [
        " \r",
        "test.csv : [ ####################################################             ] 82%"
       ]
      },
      {
       "output_type": "stream",
       "stream": "stdout",
       "text": [
        " \r",
        "test.csv : [ #####################################################            ] 83%"
       ]
      },
      {
       "output_type": "stream",
       "stream": "stdout",
       "text": [
        " \r",
        "test.csv : [ #####################################################            ] 84%"
       ]
      },
      {
       "output_type": "stream",
       "stream": "stdout",
       "text": [
        " \r",
        "test.csv : [ ######################################################           ] 85%"
       ]
      },
      {
       "output_type": "stream",
       "stream": "stdout",
       "text": [
        " \r",
        "test.csv : [ #######################################################          ] 86%"
       ]
      },
      {
       "output_type": "stream",
       "stream": "stdout",
       "text": [
        " \r",
        "test.csv : [ #######################################################          ] 87%"
       ]
      },
      {
       "output_type": "stream",
       "stream": "stdout",
       "text": [
        " \r",
        "test.csv : [ ########################################################         ] 88%"
       ]
      },
      {
       "output_type": "stream",
       "stream": "stdout",
       "text": [
        " \r",
        "test.csv : [ ########################################################         ] 89%"
       ]
      },
      {
       "output_type": "stream",
       "stream": "stdout",
       "text": [
        " \r",
        "test.csv : [ #########################################################        ] 90%"
       ]
      },
      {
       "output_type": "stream",
       "stream": "stdout",
       "text": [
        " \r",
        "test.csv : [ ##########################################################       ] 91%"
       ]
      },
      {
       "output_type": "stream",
       "stream": "stdout",
       "text": [
        " \r",
        "test.csv : [ ##########################################################       ] 92%"
       ]
      },
      {
       "output_type": "stream",
       "stream": "stdout",
       "text": [
        " \r",
        "test.csv : [ ###########################################################      ] 93%"
       ]
      },
      {
       "output_type": "stream",
       "stream": "stdout",
       "text": [
        " \r",
        "test.csv : [ ############################################################     ] 94%"
       ]
      },
      {
       "output_type": "stream",
       "stream": "stdout",
       "text": [
        " \r",
        "test.csv : [ ############################################################     ] 95%"
       ]
      },
      {
       "output_type": "stream",
       "stream": "stdout",
       "text": [
        " \r",
        "test.csv : [ #############################################################    ] 96%"
       ]
      },
      {
       "output_type": "stream",
       "stream": "stdout",
       "text": [
        " \r",
        "test.csv : [ ##############################################################   ] 97%"
       ]
      },
      {
       "output_type": "stream",
       "stream": "stdout",
       "text": [
        " \r",
        "test.csv : [ ##############################################################   ] 98%"
       ]
      },
      {
       "output_type": "stream",
       "stream": "stdout",
       "text": [
        " \r",
        "test.csv : [ ###############################################################  ] 99%"
       ]
      },
      {
       "output_type": "stream",
       "stream": "stdout",
       "text": [
        " \r",
        "test.csv : [ ################################################################ ] 100%"
       ]
      },
      {
       "output_type": "stream",
       "stream": "stdout",
       "text": [
        "\n",
        "Log2-Likelihood : -67687.7055682\n",
        "\n"
       ]
      }
     ],
     "prompt_number": 23
    },
    {
     "cell_type": "heading",
     "level": 2,
     "metadata": {},
     "source": [
      "Using pandas for counting"
     ]
    },
    {
     "cell_type": "code",
     "collapsed": false,
     "input": [
      "import pandas\n",
      "df=pandas.read_csv('test.csv')\n",
      "df"
     ],
     "language": "python",
     "metadata": {},
     "outputs": [
      {
       "html": [
        "<pre>\n",
        "&lt;class 'pandas.core.frame.DataFrame'&gt;\n",
        "Int64Index: 10000 entries, 0 to 9999\n",
        "Data columns (total 8 columns):\n",
        "smoking?                 10000  non-null values\n",
        "lung_cancer?             10000  non-null values\n",
        "bronchitis?              10000  non-null values\n",
        "visit_to_Asia?           10000  non-null values\n",
        "tuberculosis?            10000  non-null values\n",
        "tuberculos_or_cancer?    10000  non-null values\n",
        "dyspnoea?                10000  non-null values\n",
        "positive_XraY?           10000  non-null values\n",
        "dtypes: int64(8)\n",
        "</pre>"
       ],
       "metadata": {},
       "output_type": "pyout",
       "prompt_number": 13,
       "text": [
        "<class 'pandas.core.frame.DataFrame'>\n",
        "Int64Index: 10000 entries, 0 to 9999\n",
        "Data columns (total 8 columns):\n",
        "smoking?                 10000  non-null values\n",
        "lung_cancer?             10000  non-null values\n",
        "bronchitis?              10000  non-null values\n",
        "visit_to_Asia?           10000  non-null values\n",
        "tuberculosis?            10000  non-null values\n",
        "tuberculos_or_cancer?    10000  non-null values\n",
        "dyspnoea?                10000  non-null values\n",
        "positive_XraY?           10000  non-null values\n",
        "dtypes: int64(8)"
       ]
      }
     ],
     "prompt_number": 13
    },
    {
     "cell_type": "markdown",
     "metadata": {},
     "source": [
      "We use the crosstab function in pandas"
     ]
    },
    {
     "cell_type": "code",
     "collapsed": false,
     "input": [
      "c=pandas.crosstab(df['dyspnoea?'],[df['bronchitis?'],df['tuberculos_or_cancer?']])\n",
      "c"
     ],
     "language": "python",
     "metadata": {},
     "outputs": [
      {
       "html": [
        "<div style=\"max-height:1000px;max-width:1500px;overflow:auto;\">\n",
        "<table border=\"1\" class=\"dataframe\">\n",
        "  <thead>\n",
        "    <tr>\n",
        "      <th>bronchitis?</th>\n",
        "      <th colspan=\"2\" halign=\"left\">0</th>\n",
        "      <th colspan=\"2\" halign=\"left\">1</th>\n",
        "    </tr>\n",
        "    <tr>\n",
        "      <th>tuberculos_or_cancer?</th>\n",
        "      <th>0</th>\n",
        "      <th>1</th>\n",
        "      <th>0</th>\n",
        "      <th>1</th>\n",
        "    </tr>\n",
        "    <tr>\n",
        "      <th>dyspnoea?</th>\n",
        "      <th></th>\n",
        "      <th></th>\n",
        "      <th></th>\n",
        "      <th></th>\n",
        "    </tr>\n",
        "  </thead>\n",
        "  <tbody>\n",
        "    <tr>\n",
        "      <th>0</th>\n",
        "      <td> 1716</td>\n",
        "      <td>  769</td>\n",
        "      <td> 1330</td>\n",
        "      <td> 1575</td>\n",
        "    </tr>\n",
        "    <tr>\n",
        "      <th>1</th>\n",
        "      <td>  658</td>\n",
        "      <td> 1373</td>\n",
        "      <td> 1602</td>\n",
        "      <td>  977</td>\n",
        "    </tr>\n",
        "  </tbody>\n",
        "</table>\n",
        "</div>"
       ],
       "metadata": {},
       "output_type": "pyout",
       "prompt_number": 14,
       "text": [
        "bronchitis?               0           1      \n",
        "tuberculos_or_cancer?     0     1     0     1\n",
        "dyspnoea?                                    \n",
        "0                      1716   769  1330  1575\n",
        "1                       658  1373  1602   977"
       ]
      }
     ],
     "prompt_number": 14
    },
    {
     "cell_type": "markdown",
     "metadata": {},
     "source": [
      "Playing with numpy reshaping, we retrieve the good form for the CPT from the pandas cross-table"
     ]
    },
    {
     "cell_type": "code",
     "collapsed": false,
     "input": [
      "print(\"LEARNED PARAMETERS IN crosstab\")\n",
      "print(np.array((c/c.sum().apply(np.float32)).transpose()).reshape(2,2,2))\n",
      "print\n",
      "print(\"ORIGINAL PARAMETERS IN bn\")\n",
      "print bn.cpt(bn.idFromName('dyspnoea?'))[:]"
     ],
     "language": "python",
     "metadata": {},
     "outputs": [
      {
       "output_type": "stream",
       "stream": "stdout",
       "text": [
        "LEARNED PARAMETERS IN crosstab\n",
        "[[[ 0.72283067  0.27716933]\n",
        "  [ 0.35901027  0.64098973]]\n",
        "\n",
        " [[ 0.45361528  0.54638472]\n",
        "  [ 0.61716301  0.38283699]]]\n",
        "\n",
        "ORIGINAL PARAMETERS IN bn\n",
        "[[[ 0.71255387  0.28744613]\n",
        "  [ 0.46123903  0.53876097]]\n",
        "\n",
        " [[ 0.35750026  0.64249974]\n",
        "  [ 0.59725295  0.40274705]]]\n"
       ]
      }
     ],
     "prompt_number": 15
    },
    {
     "cell_type": "heading",
     "level": 2,
     "metadata": {},
     "source": [
      "A global method for estimating Bayesian Network parameters from CSV file using PANDAS"
     ]
    },
    {
     "cell_type": "code",
     "collapsed": false,
     "input": [
      "def computeCPTfromDF(bn,df,name):\n",
      "    \"\"\"\n",
      "    Compute the CPT of variable \"name\" in the BN bn from the database df\n",
      "    \"\"\"\n",
      "    id=bn.idFromName(name)\n",
      "    domains=[len(bn.variableFromName(name)) for name in bn.cpt(id).var_names]\n",
      "\n",
      "    parents=list(bn.cpt(id).var_names)\n",
      "    parents.pop()\n",
      "\n",
      "    c=pandas.crosstab(df[name],[df[parent] for parent in parents])\n",
      "\n",
      "    s=c.sum()\n",
      "    \n",
      "    # if c is monodimensionnal then s will be a float and not a Series \n",
      "    if type(s)==pandas.core.series.Series:\n",
      "        s=s.apply(np.float32)\n",
      "    else:\n",
      "        s=float(s)\n",
      "    \n",
      "    bn.cpt(id)[:]=np.array((c/s).transpose()).reshape(*domains)\n",
      "    \n",
      "def ParametersLearning(bn,df):\n",
      "    \"\"\"\n",
      "    Compute the CPTs of every varaible in the BN bn from the database df\n",
      "    \"\"\"\n",
      "    for name in bn.names():\n",
      "        computeCPTfromDF(bn,df,name)"
     ],
     "language": "python",
     "metadata": {},
     "outputs": [],
     "prompt_number": 16
    },
    {
     "cell_type": "code",
     "collapsed": false,
     "input": [
      "ParametersLearning(bn2,df)"
     ],
     "language": "python",
     "metadata": {},
     "outputs": [],
     "prompt_number": 17
    },
    {
     "cell_type": "markdown",
     "metadata": {},
     "source": [
      "KL has decreased a lot (if everything's OK)"
     ]
    },
    {
     "cell_type": "code",
     "collapsed": false,
     "input": [
      "g1=gum.BruteForceKL(bn,bn2)\n",
      "print(\"BEFORE LEARNING\")\n",
      "print(before_learning['klPQ'])\n",
      "print\n",
      "print(\"AFTER LEARNING\")\n",
      "print(g1.compute()['klPQ'])"
     ],
     "language": "python",
     "metadata": {},
     "outputs": [
      {
       "output_type": "stream",
       "stream": "stdout",
       "text": [
        "BEFORE LEARNING\n",
        "4.01101759019\n",
        "\n",
        "AFTER LEARNING\n",
        "0.00131125502581\n"
       ]
      }
     ],
     "prompt_number": 20
    },
    {
     "cell_type": "markdown",
     "metadata": {},
     "source": [
      "And CPTs should be close"
     ]
    },
    {
     "cell_type": "code",
     "collapsed": false,
     "input": [
      "print(\"ORIGINAL PARAMETERS\")\n",
      "pretty_cpt(bn.cpt(3))\n",
      "print\n",
      "print(\"LEARNED PARAMETERS\")\n",
      "pretty_cpt(bn2.cpt(3))"
     ],
     "language": "python",
     "metadata": {},
     "outputs": [
      {
       "output_type": "stream",
       "stream": "stdout",
       "text": [
        "ORIGINAL PARAMETERS\n",
        "                       |---------------|\n",
        "-----------------------|positive_XraY? |\n",
        " tuberculos_or_cancer? |   d1     d2   |\n",
        "-----------------------|---------------|\n",
        "          c1           | 0.2989 0.7011 |\n",
        "          c2           | 0.3596 0.6404 |\n",
        "-----------------------|---------------|\n",
        "\n",
        "LEARNED PARAMETERS\n",
        "                       |---------------|\n",
        "-----------------------|positive_XraY? |\n",
        " tuberculos_or_cancer? |   d1     d2   |\n",
        "-----------------------|---------------|\n",
        "          c1           | 0.2966 0.7034 |\n",
        "          c2           | 0.3715 0.6285 |\n",
        "-----------------------|---------------|\n"
       ]
      }
     ],
     "prompt_number": 21
    },
    {
     "cell_type": "heading",
     "level": 2,
     "metadata": {},
     "source": [
      "Influence of the size of the database on the quality of learned parameters"
     ]
    },
    {
     "cell_type": "markdown",
     "metadata": {},
     "source": [
      "What is the effect of increasing the size of the database on the KL ? We expect that the KL decreases to 0."
     ]
    },
    {
     "cell_type": "code",
     "collapsed": false,
     "input": [
      "res=[]\n",
      "for i in xrange(200,10001,50):\n",
      "    ParametersLearning(bn2,df[:i])\n",
      "    g1=gum.BruteForceKL(bn,bn2)\n",
      "    res.append(g1.compute()['klPQ'])\n",
      "plot(xrange(200,10001,50),res)\n",
      "t=title(\"klPQ(bn,learnedBN(x)) \\n where x is the size of the database\")"
     ],
     "language": "python",
     "metadata": {},
     "outputs": [
      {
       "metadata": {},
       "output_type": "display_data",
       "png": "[encoded data removed]",
       "text": [
        "<matplotlib.figure.Figure at 0x4162bd0>"
       ]
      }
     ],
     "prompt_number": 25
    },
    {
     "cell_type": "code",
     "collapsed": false,
     "input": [],
     "language": "python",
     "metadata": {},
     "outputs": []
    }
   ],
   "metadata": {}
  }
 ]
}