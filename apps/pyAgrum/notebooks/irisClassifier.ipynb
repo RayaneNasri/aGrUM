{
 "cells": [
  {
   "cell_type": "markdown",
   "metadata": {},
   "source": [
    "# Pretreatment with Pandas"
   ]
  },
  {
   "cell_type": "code",
   "execution_count": 1,
   "metadata": {
    "collapsed": false
   },
   "outputs": [
    {
     "data": {
      "text/html": [
       "<div>\n",
       "<table border=\"1\" class=\"dataframe\">\n",
       "  <thead>\n",
       "    <tr style=\"text-align: right;\">\n",
       "      <th></th>\n",
       "      <th>sepal length in cm</th>\n",
       "      <th>sepal width in cm</th>\n",
       "      <th>petal length in cm</th>\n",
       "      <th>petal width in cm</th>\n",
       "    </tr>\n",
       "  </thead>\n",
       "  <tbody>\n",
       "    <tr>\n",
       "      <th>count</th>\n",
       "      <td>150.000000</td>\n",
       "      <td>150.000000</td>\n",
       "      <td>150.000000</td>\n",
       "      <td>150.000000</td>\n",
       "    </tr>\n",
       "    <tr>\n",
       "      <th>mean</th>\n",
       "      <td>5.843333</td>\n",
       "      <td>3.054000</td>\n",
       "      <td>3.758667</td>\n",
       "      <td>1.198667</td>\n",
       "    </tr>\n",
       "    <tr>\n",
       "      <th>std</th>\n",
       "      <td>0.828066</td>\n",
       "      <td>0.433594</td>\n",
       "      <td>1.764420</td>\n",
       "      <td>0.763161</td>\n",
       "    </tr>\n",
       "    <tr>\n",
       "      <th>min</th>\n",
       "      <td>4.300000</td>\n",
       "      <td>2.000000</td>\n",
       "      <td>1.000000</td>\n",
       "      <td>0.100000</td>\n",
       "    </tr>\n",
       "    <tr>\n",
       "      <th>25%</th>\n",
       "      <td>5.100000</td>\n",
       "      <td>2.800000</td>\n",
       "      <td>1.600000</td>\n",
       "      <td>0.300000</td>\n",
       "    </tr>\n",
       "    <tr>\n",
       "      <th>50%</th>\n",
       "      <td>5.800000</td>\n",
       "      <td>3.000000</td>\n",
       "      <td>4.350000</td>\n",
       "      <td>1.300000</td>\n",
       "    </tr>\n",
       "    <tr>\n",
       "      <th>75%</th>\n",
       "      <td>6.400000</td>\n",
       "      <td>3.300000</td>\n",
       "      <td>5.100000</td>\n",
       "      <td>1.800000</td>\n",
       "    </tr>\n",
       "    <tr>\n",
       "      <th>max</th>\n",
       "      <td>7.900000</td>\n",
       "      <td>4.400000</td>\n",
       "      <td>6.900000</td>\n",
       "      <td>2.500000</td>\n",
       "    </tr>\n",
       "  </tbody>\n",
       "</table>\n",
       "</div>"
      ],
      "text/plain": [
       "       sepal length in cm  sepal width in cm  petal length in cm  \\\n",
       "count          150.000000         150.000000          150.000000   \n",
       "mean             5.843333           3.054000            3.758667   \n",
       "std              0.828066           0.433594            1.764420   \n",
       "min              4.300000           2.000000            1.000000   \n",
       "25%              5.100000           2.800000            1.600000   \n",
       "50%              5.800000           3.000000            4.350000   \n",
       "75%              6.400000           3.300000            5.100000   \n",
       "max              7.900000           4.400000            6.900000   \n",
       "\n",
       "       petal width in cm  \n",
       "count         150.000000  \n",
       "mean            1.198667  \n",
       "std             0.763161  \n",
       "min             0.100000  \n",
       "25%             0.300000  \n",
       "50%             1.300000  \n",
       "75%             1.800000  \n",
       "max             2.500000  "
      ]
     },
     "execution_count": 1,
     "metadata": {},
     "output_type": "execute_result"
    }
   ],
   "source": [
    "import pandas\n",
    "\n",
    "# data file is in the ../resources folder\n",
    "datas=pandas.read_csv(\"../resources/irisData.csv\")\n",
    "\n",
    "datas.describe()"
   ]
  },
  {
   "cell_type": "code",
   "execution_count": 2,
   "metadata": {
    "collapsed": false
   },
   "outputs": [
    {
     "data": {
      "text/html": [
       "<div>\n",
       "<table border=\"1\" class=\"dataframe\">\n",
       "  <thead>\n",
       "    <tr style=\"text-align: right;\">\n",
       "      <th></th>\n",
       "      <th>sepal length in cm</th>\n",
       "      <th>sepal width in cm</th>\n",
       "      <th>petal length in cm</th>\n",
       "      <th>petal width in cm</th>\n",
       "      <th>class of iris</th>\n",
       "    </tr>\n",
       "  </thead>\n",
       "  <tbody>\n",
       "    <tr>\n",
       "      <th>0</th>\n",
       "      <td>5.1</td>\n",
       "      <td>3.5</td>\n",
       "      <td>1.4</td>\n",
       "      <td>0.2</td>\n",
       "      <td>Iris-setosa</td>\n",
       "    </tr>\n",
       "    <tr>\n",
       "      <th>1</th>\n",
       "      <td>4.9</td>\n",
       "      <td>3.0</td>\n",
       "      <td>1.4</td>\n",
       "      <td>0.2</td>\n",
       "      <td>Iris-setosa</td>\n",
       "    </tr>\n",
       "    <tr>\n",
       "      <th>2</th>\n",
       "      <td>4.7</td>\n",
       "      <td>3.2</td>\n",
       "      <td>1.3</td>\n",
       "      <td>0.2</td>\n",
       "      <td>Iris-setosa</td>\n",
       "    </tr>\n",
       "    <tr>\n",
       "      <th>3</th>\n",
       "      <td>4.6</td>\n",
       "      <td>3.1</td>\n",
       "      <td>1.5</td>\n",
       "      <td>0.2</td>\n",
       "      <td>Iris-setosa</td>\n",
       "    </tr>\n",
       "    <tr>\n",
       "      <th>4</th>\n",
       "      <td>5.0</td>\n",
       "      <td>3.6</td>\n",
       "      <td>1.4</td>\n",
       "      <td>0.2</td>\n",
       "      <td>Iris-setosa</td>\n",
       "    </tr>\n",
       "  </tbody>\n",
       "</table>\n",
       "</div>"
      ],
      "text/plain": [
       "   sepal length in cm  sepal width in cm  petal length in cm  \\\n",
       "0                 5.1                3.5                 1.4   \n",
       "1                 4.9                3.0                 1.4   \n",
       "2                 4.7                3.2                 1.3   \n",
       "3                 4.6                3.1                 1.5   \n",
       "4                 5.0                3.6                 1.4   \n",
       "\n",
       "   petal width in cm class of iris  \n",
       "0                0.2   Iris-setosa  \n",
       "1                0.2   Iris-setosa  \n",
       "2                0.2   Iris-setosa  \n",
       "3                0.2   Iris-setosa  \n",
       "4                0.2   Iris-setosa  "
      ]
     },
     "execution_count": 2,
     "metadata": {},
     "output_type": "execute_result"
    }
   ],
   "source": [
    "datas.head()"
   ]
  },
  {
   "cell_type": "markdown",
   "metadata": {},
   "source": [
    "## Discretization"
   ]
  },
  {
   "cell_type": "code",
   "execution_count": 3,
   "metadata": {
    "collapsed": false
   },
   "outputs": [
    {
     "data": {
      "text/html": [
       "<div>\n",
       "<table border=\"1\" class=\"dataframe\">\n",
       "  <thead>\n",
       "    <tr style=\"text-align: right;\">\n",
       "      <th></th>\n",
       "      <th>sepal length in cm</th>\n",
       "      <th>sepal width in cm</th>\n",
       "      <th>petal length in cm</th>\n",
       "      <th>petal width in cm</th>\n",
       "      <th>class of iris</th>\n",
       "    </tr>\n",
       "  </thead>\n",
       "  <tbody>\n",
       "    <tr>\n",
       "      <th>0</th>\n",
       "      <td>(5, 5.4]</td>\n",
       "      <td>(3.4, 4.4]</td>\n",
       "      <td>[1, 1.5]</td>\n",
       "      <td>[0.1, 0.2]</td>\n",
       "      <td>Iris-setosa</td>\n",
       "    </tr>\n",
       "    <tr>\n",
       "      <th>1</th>\n",
       "      <td>[4.3, 5]</td>\n",
       "      <td>(2.9, 3]</td>\n",
       "      <td>[1, 1.5]</td>\n",
       "      <td>[0.1, 0.2]</td>\n",
       "      <td>Iris-setosa</td>\n",
       "    </tr>\n",
       "    <tr>\n",
       "      <th>2</th>\n",
       "      <td>[4.3, 5]</td>\n",
       "      <td>(3, 3.2]</td>\n",
       "      <td>[1, 1.5]</td>\n",
       "      <td>[0.1, 0.2]</td>\n",
       "      <td>Iris-setosa</td>\n",
       "    </tr>\n",
       "    <tr>\n",
       "      <th>3</th>\n",
       "      <td>[4.3, 5]</td>\n",
       "      <td>(3, 3.2]</td>\n",
       "      <td>[1, 1.5]</td>\n",
       "      <td>[0.1, 0.2]</td>\n",
       "      <td>Iris-setosa</td>\n",
       "    </tr>\n",
       "    <tr>\n",
       "      <th>4</th>\n",
       "      <td>[4.3, 5]</td>\n",
       "      <td>(3.4, 4.4]</td>\n",
       "      <td>[1, 1.5]</td>\n",
       "      <td>[0.1, 0.2]</td>\n",
       "      <td>Iris-setosa</td>\n",
       "    </tr>\n",
       "  </tbody>\n",
       "</table>\n",
       "</div>"
      ],
      "text/plain": [
       "  sepal length in cm sepal width in cm petal length in cm petal width in cm  \\\n",
       "0           (5, 5.4]        (3.4, 4.4]           [1, 1.5]        [0.1, 0.2]   \n",
       "1           [4.3, 5]          (2.9, 3]           [1, 1.5]        [0.1, 0.2]   \n",
       "2           [4.3, 5]          (3, 3.2]           [1, 1.5]        [0.1, 0.2]   \n",
       "3           [4.3, 5]          (3, 3.2]           [1, 1.5]        [0.1, 0.2]   \n",
       "4           [4.3, 5]        (3.4, 4.4]           [1, 1.5]        [0.1, 0.2]   \n",
       "\n",
       "  class of iris  \n",
       "0   Iris-setosa  \n",
       "1   Iris-setosa  \n",
       "2   Iris-setosa  \n",
       "3   Iris-setosa  \n",
       "4   Iris-setosa  "
      ]
     },
     "execution_count": 3,
     "metadata": {},
     "output_type": "execute_result"
    }
   ],
   "source": [
    "import numpy\n",
    "disc=6 # Disc(retization) may be between 2 and 9\n",
    "r=numpy.array(range(disc+1))/(1.0*disc)\n",
    "\n",
    "# quantiles are building using pandas.qcut\n",
    "# The \"class\" column is just copied.\n",
    "l=[]\n",
    "for col in datas.columns.values:\n",
    "    if col!=\"class of iris\":\n",
    "        l.append(pandas.DataFrame(pandas.qcut(datas[col],r),columns=[col]))\n",
    "    else:\n",
    "        l.append(pandas.DataFrame(datas[col],columns=[col]))\n",
    "treated=pandas.concat(l, join='outer', axis=1)\n",
    "\n",
    "treated.head()"
   ]
  },
  {
   "cell_type": "code",
   "execution_count": 4,
   "metadata": {
    "collapsed": false
   },
   "outputs": [
    {
     "name": "stdout",
     "output_type": "stream",
     "text": [
      "=================================\n",
      "  Size of the generated database\n",
      "=================================\n",
      "151\n",
      "\n",
      "=================================\n",
      "  First lines\n",
      "=================================\n",
      "sepal length in cm,sepal width in cm,petal length in cm,petal width in cm,class of iris\n",
      "\"(5, 5.4]\",\"(3.4, 4.4]\",\"[1, 1.5]\",\"[0.1, 0.2]\",Iris-setosa\n",
      "\"[4.3, 5]\",\"(2.9, 3]\",\"[1, 1.5]\",\"[0.1, 0.2]\",Iris-setosa\n",
      "\"[4.3, 5]\",\"(3, 3.2]\",\"[1, 1.5]\",\"[0.1, 0.2]\",Iris-setosa\n",
      "\"[4.3, 5]\",\"(3, 3.2]\",\"[1, 1.5]\",\"[0.1, 0.2]\",Iris-setosa\n",
      "\"[4.3, 5]\",\"(3.4, 4.4]\",\"[1, 1.5]\",\"[0.1, 0.2]\",Iris-setosa\n",
      "\"(5, 5.4]\",\"(3.4, 4.4]\",\"(1.5, 2.633]\",\"(0.2, 0.867]\",Iris-setosa\n",
      "\"[4.3, 5]\",\"(3.2, 3.4]\",\"[1, 1.5]\",\"(0.2, 0.867]\",Iris-setosa\n",
      "\"[4.3, 5]\",\"(3.2, 3.4]\",\"[1, 1.5]\",\"[0.1, 0.2]\",Iris-setosa\n",
      "\"[4.3, 5]\",\"(2.7, 2.9]\",\"[1, 1.5]\",\"[0.1, 0.2]\",Iris-setosa\n",
      "\n"
     ]
    }
   ],
   "source": [
    "#we put the discretized values in a csv file in order to be learned by pyAgrum\n",
    "treated.to_csv(\"irisTreated.csv\",index=False)\n",
    "\n",
    "from pyAgrum.lib._utils.oslike import wc_l,head\n",
    "print(\"=================================\\n  Size of the generated database\\n=================================\")\n",
    "wc_l(\"irisTreated.csv\")\n",
    "print(\"\\n=================================\\n  First lines\\n=================================\")\n",
    "head(\"irisTreated.csv\")"
   ]
  },
  {
   "cell_type": "markdown",
   "metadata": {},
   "source": [
    "# Learning with pyAgrum"
   ]
  },
  {
   "cell_type": "code",
   "execution_count": 5,
   "metadata": {
    "collapsed": false
   },
   "outputs": [
    {
     "name": "stdout",
     "output_type": "stream",
     "text": [
      "pyAgrum version 0.10.3.9\n",
      "(c) Pierre-Henri Wuillemin, Christophe Gonzales, Lionel Torti\n",
      "    UPMC 2015\n",
      "\n",
      "    This is free software; see the source code for copying conditions.\n",
      "    There is ABSOLUTELY NO WARRANTY; not even for MERCHANTABILITY or\n",
      "    FITNESS FOR A PARTICULAR PURPOSE.  For details, see 'pyAgrum.warranty'.\n",
      "    \n"
     ]
    }
   ],
   "source": [
    "%matplotlib inline\n",
    "from pylab import *\n",
    "import matplotlib.pyplot as plt\n",
    "\n",
    "import pyAgrum as gum\n",
    "import pyAgrum.lib.notebook as gnb\n",
    "gum.about()\n"
   ]
  },
  {
   "cell_type": "code",
   "execution_count": 6,
   "metadata": {
    "collapsed": false
   },
   "outputs": [
    {
     "name": "stdout",
     "output_type": "stream",
     "text": [
      "Learned in 17.141ms\n"
     ]
    },
    {
     "data": {
      "text/html": [
       "<svg height=\"144pt\" viewBox=\"0.00 0.00 288.00 143.83\" width=\"288pt\" xmlns=\"http://www.w3.org/2000/svg\" xmlns:xlink=\"http://www.w3.org/1999/xlink\">\n",
       "<g class=\"graph\" id=\"graph0\" transform=\"scale(.765 .765) rotate(0) translate(4 184)\">\n",
       "<title>G</title>\n",
       "<polygon fill=\"#ffffff\" points=\"-4,4 -4,-184 372.4489,-184 372.4489,4 -4,4\" stroke=\"transparent\"/>\n",
       "<!-- sepal length in cm -->\n",
       "<g class=\"node\" id=\"node1\">\n",
       "<title>sepal length in cm</title>\n",
       "<g id=\"a_node1\"><a xlink:title=\"(0) sepal length in cm\">\n",
       "<ellipse cx=\"175.7124\" cy=\"-162\" fill=\"#444444\" rx=\"74.8944\" ry=\"18\" stroke=\"#000000\"/>\n",
       "<text fill=\"#ffffff\" font-family=\"Times,serif\" font-size=\"14.00\" text-anchor=\"middle\" x=\"175.7124\" y=\"-157.8\">sepal length in cm</text>\n",
       "</a>\n",
       "</g>\n",
       "</g>\n",
       "<!-- petal length in cm -->\n",
       "<g class=\"node\" id=\"node3\">\n",
       "<title>petal length in cm</title>\n",
       "<g id=\"a_node3\"><a xlink:title=\"(2) petal length in cm\">\n",
       "<ellipse cx=\"73.7124\" cy=\"-90\" fill=\"#444444\" rx=\"73.9254\" ry=\"18\" stroke=\"#000000\"/>\n",
       "<text fill=\"#ffffff\" font-family=\"Times,serif\" font-size=\"14.00\" text-anchor=\"middle\" x=\"73.7124\" y=\"-85.8\">petal length in cm</text>\n",
       "</a>\n",
       "</g>\n",
       "</g>\n",
       "<!-- sepal length in cm&#45;&gt;petal length in cm -->\n",
       "<g class=\"edge\" id=\"edge3\">\n",
       "<title>sepal length in cm-&gt;petal length in cm</title>\n",
       "<g id=\"a_edge3\"><a xlink:title=\"(0, 2) : \">\n",
       "<path d=\"M151.5398,-144.937C138.0463,-135.4122 121.0501,-123.4149 106.3857,-113.0635\" fill=\"none\" stroke=\"#000000\"/>\n",
       "<polygon fill=\"#000000\" points=\"108.2531,-110.0975 98.065,-107.19 104.2163,-115.8163 108.2531,-110.0975\" stroke=\"#000000\"/>\n",
       "</a>\n",
       "</g>\n",
       "</g>\n",
       "<!-- petal width in cm -->\n",
       "<g class=\"node\" id=\"node4\">\n",
       "<title>petal width in cm</title>\n",
       "<g id=\"a_node4\"><a xlink:title=\"(3) petal width in cm\">\n",
       "<ellipse cx=\"275.7124\" cy=\"-90\" fill=\"#444444\" rx=\"71.5048\" ry=\"18\" stroke=\"#000000\"/>\n",
       "<text fill=\"#ffffff\" font-family=\"Times,serif\" font-size=\"14.00\" text-anchor=\"middle\" x=\"275.7124\" y=\"-85.8\">petal width in cm</text>\n",
       "</a>\n",
       "</g>\n",
       "</g>\n",
       "<!-- sepal length in cm&#45;&gt;petal width in cm -->\n",
       "<g class=\"edge\" id=\"edge5\">\n",
       "<title>sepal length in cm-&gt;petal width in cm</title>\n",
       "<g id=\"a_edge5\"><a xlink:title=\"(0, 3) : \">\n",
       "<path d=\"M199.6649,-144.7542C212.8996,-135.2252 229.5123,-123.2641 243.832,-112.9539\" fill=\"none\" stroke=\"#000000\"/>\n",
       "<polygon fill=\"#000000\" points=\"245.8851,-115.7885 251.9554,-107.1051 241.7949,-110.1078 245.8851,-115.7885\" stroke=\"#000000\"/>\n",
       "</a>\n",
       "</g>\n",
       "</g>\n",
       "<!-- class of iris -->\n",
       "<g class=\"node\" id=\"node5\">\n",
       "<title>class of iris</title>\n",
       "<g id=\"a_node5\"><a xlink:title=\"(4) class of iris\">\n",
       "<ellipse cx=\"154.7124\" cy=\"-18\" fill=\"#444444\" rx=\"50.2723\" ry=\"18\" stroke=\"#000000\"/>\n",
       "<text fill=\"#ffffff\" font-family=\"Times,serif\" font-size=\"14.00\" text-anchor=\"middle\" x=\"154.7124\" y=\"-13.8\">class of iris</text>\n",
       "</a>\n",
       "</g>\n",
       "</g>\n",
       "<!-- sepal length in cm&#45;&gt;class of iris -->\n",
       "<g class=\"edge\" id=\"edge6\">\n",
       "<title>sepal length in cm-&gt;class of iris</title>\n",
       "<g id=\"a_edge6\"><a xlink:title=\"(0, 4) : \">\n",
       "<path d=\"M173.0527,-143.7623C169.4709,-119.201 163.061,-75.2474 158.8474,-46.3541\" fill=\"none\" stroke=\"#000000\"/>\n",
       "<polygon fill=\"#000000\" points=\"162.257,-45.4798 157.3505,-36.0896 155.3303,-46.4901 162.257,-45.4798\" stroke=\"#000000\"/>\n",
       "</a>\n",
       "</g>\n",
       "</g>\n",
       "<!-- sepal width in cm -->\n",
       "<g class=\"node\" id=\"node2\">\n",
       "<title>sepal width in cm</title>\n",
       "<g id=\"a_node2\"><a xlink:title=\"(1) sepal width in cm\">\n",
       "<ellipse cx=\"295.7124\" cy=\"-18\" fill=\"#444444\" rx=\"72.9738\" ry=\"18\" stroke=\"#000000\"/>\n",
       "<text fill=\"#ffffff\" font-family=\"Times,serif\" font-size=\"14.00\" text-anchor=\"middle\" x=\"295.7124\" y=\"-13.8\">sepal width in cm</text>\n",
       "</a>\n",
       "</g>\n",
       "</g>\n",
       "<!-- petal length in cm&#45;&gt;class of iris -->\n",
       "<g class=\"edge\" id=\"edge4\">\n",
       "<title>petal length in cm-&gt;class of iris</title>\n",
       "<g id=\"a_edge4\"><a xlink:title=\"(2, 4) : \">\n",
       "<path d=\"M93.3203,-72.5708C103.8198,-63.2379 116.8991,-51.6119 128.2841,-41.4918\" fill=\"none\" stroke=\"#000000\"/>\n",
       "<polygon fill=\"#000000\" points=\"130.6941,-44.0325 135.8429,-34.7729 126.0435,-38.8006 130.6941,-44.0325\" stroke=\"#000000\"/>\n",
       "</a>\n",
       "</g>\n",
       "</g>\n",
       "<!-- petal width in cm&#45;&gt;sepal width in cm -->\n",
       "<g class=\"edge\" id=\"edge2\">\n",
       "<title>petal width in cm-&gt;sepal width in cm</title>\n",
       "<g id=\"a_edge2\"><a xlink:title=\"(3, 1) : \">\n",
       "<path d=\"M280.7593,-71.8314C282.9218,-64.0463 285.4977,-54.7729 287.8972,-46.1347\" fill=\"none\" stroke=\"#000000\"/>\n",
       "<polygon fill=\"#000000\" points=\"291.2934,-46.9852 290.5976,-36.4133 284.5488,-45.1117 291.2934,-46.9852\" stroke=\"#000000\"/>\n",
       "</a>\n",
       "</g>\n",
       "</g>\n",
       "<!-- petal width in cm&#45;&gt;class of iris -->\n",
       "<g class=\"edge\" id=\"edge1\">\n",
       "<title>petal width in cm-&gt;class of iris</title>\n",
       "<g id=\"a_edge1\"><a xlink:title=\"(3, 4) : \">\n",
       "<path d=\"M247.6484,-73.3008C230.3696,-63.0191 208.0791,-49.7554 189.6599,-38.7952\" fill=\"none\" stroke=\"#000000\"/>\n",
       "<polygon fill=\"#000000\" points=\"191.3511,-35.7288 180.9676,-33.6229 187.7715,-41.7444 191.3511,-35.7288\" stroke=\"#000000\"/>\n",
       "</a>\n",
       "</g>\n",
       "</g>\n",
       "</g>\n",
       "</svg>"
      ],
      "text/plain": [
       "<IPython.core.display.HTML object>"
      ]
     },
     "metadata": {},
     "output_type": "display_data"
    }
   ],
   "source": [
    "learner=gum.BNLearner(\"irisTreated.csv\")\n",
    "learner.useLocalSearchWithTabuList()\n",
    "bn_iris=learner.learnBN()\n",
    "print(\"Learned in {0}ms\".format(1000*learner.currentTime()))\n",
    "gnb.showBN(bn_iris)"
   ]
  },
  {
   "cell_type": "code",
   "execution_count": 7,
   "metadata": {
    "collapsed": false
   },
   "outputs": [
    {
     "name": "stdout",
     "output_type": "stream",
     "text": [
      "Learned in 2.17ms\n"
     ]
    },
    {
     "data": {
      "text/html": [
       "<svg height=\"112pt\" viewBox=\"0.00 0.00 288.00 112.00\" width=\"288pt\" xmlns=\"http://www.w3.org/2000/svg\" xmlns:xlink=\"http://www.w3.org/1999/xlink\">\n",
       "<g class=\"graph\" id=\"graph0\" transform=\"scale(.5957 .5957) rotate(0) translate(4 184)\">\n",
       "<title>G</title>\n",
       "<polygon fill=\"#ffffff\" points=\"-4,4 -4,-184 479.4489,-184 479.4489,4 -4,4\" stroke=\"transparent\"/>\n",
       "<!-- sepal length in cm -->\n",
       "<g class=\"node\" id=\"node1\">\n",
       "<title>sepal length in cm</title>\n",
       "<g id=\"a_node1\"><a xlink:title=\"(0) sepal length in cm\">\n",
       "<ellipse cx=\"74.6969\" cy=\"-18\" fill=\"#444444\" rx=\"74.8944\" ry=\"18\" stroke=\"#000000\"/>\n",
       "<text fill=\"#ffffff\" font-family=\"Times,serif\" font-size=\"14.00\" text-anchor=\"middle\" x=\"74.6969\" y=\"-13.8\">sepal length in cm</text>\n",
       "</a>\n",
       "</g>\n",
       "</g>\n",
       "<!-- sepal width in cm -->\n",
       "<g class=\"node\" id=\"node2\">\n",
       "<title>sepal width in cm</title>\n",
       "<g id=\"a_node2\"><a xlink:title=\"(1) sepal width in cm\">\n",
       "<ellipse cx=\"240.6969\" cy=\"-162\" fill=\"#444444\" rx=\"72.9738\" ry=\"18\" stroke=\"#000000\"/>\n",
       "<text fill=\"#ffffff\" font-family=\"Times,serif\" font-size=\"14.00\" text-anchor=\"middle\" x=\"240.6969\" y=\"-157.8\">sepal width in cm</text>\n",
       "</a>\n",
       "</g>\n",
       "</g>\n",
       "<!-- class of iris -->\n",
       "<g class=\"node\" id=\"node5\">\n",
       "<title>class of iris</title>\n",
       "<g id=\"a_node5\"><a xlink:title=\"(4) class of iris\">\n",
       "<ellipse cx=\"240.6969\" cy=\"-90\" fill=\"#444444\" rx=\"50.2723\" ry=\"18\" stroke=\"#000000\"/>\n",
       "<text fill=\"#ffffff\" font-family=\"Times,serif\" font-size=\"14.00\" text-anchor=\"middle\" x=\"240.6969\" y=\"-85.8\">class of iris</text>\n",
       "</a>\n",
       "</g>\n",
       "</g>\n",
       "<!-- sepal width in cm&#45;&gt;class of iris -->\n",
       "<g class=\"edge\" id=\"edge2\">\n",
       "<title>sepal width in cm-&gt;class of iris</title>\n",
       "<g id=\"a_edge2\"><a xlink:title=\"(1, 4) : \">\n",
       "<path d=\"M240.6969,-143.8314C240.6969,-136.131 240.6969,-126.9743 240.6969,-118.4166\" fill=\"none\" stroke=\"#000000\"/>\n",
       "<polygon fill=\"#000000\" points=\"244.197,-118.4132 240.6969,-108.4133 237.197,-118.4133 244.197,-118.4132\" stroke=\"#000000\"/>\n",
       "</a>\n",
       "</g>\n",
       "</g>\n",
       "<!-- petal length in cm -->\n",
       "<g class=\"node\" id=\"node3\">\n",
       "<title>petal length in cm</title>\n",
       "<g id=\"a_node3\"><a xlink:title=\"(2) petal length in cm\">\n",
       "<ellipse cx=\"240.6969\" cy=\"-18\" fill=\"#444444\" rx=\"73.9254\" ry=\"18\" stroke=\"#000000\"/>\n",
       "<text fill=\"#ffffff\" font-family=\"Times,serif\" font-size=\"14.00\" text-anchor=\"middle\" x=\"240.6969\" y=\"-13.8\">petal length in cm</text>\n",
       "</a>\n",
       "</g>\n",
       "</g>\n",
       "<!-- petal width in cm -->\n",
       "<g class=\"node\" id=\"node4\">\n",
       "<title>petal width in cm</title>\n",
       "<g id=\"a_node4\"><a xlink:title=\"(3) petal width in cm\">\n",
       "<ellipse cx=\"403.6969\" cy=\"-18\" fill=\"#444444\" rx=\"71.5048\" ry=\"18\" stroke=\"#000000\"/>\n",
       "<text fill=\"#ffffff\" font-family=\"Times,serif\" font-size=\"14.00\" text-anchor=\"middle\" x=\"403.6969\" y=\"-13.8\">petal width in cm</text>\n",
       "</a>\n",
       "</g>\n",
       "</g>\n",
       "<!-- class of iris&#45;&gt;sepal length in cm -->\n",
       "<g class=\"edge\" id=\"edge3\">\n",
       "<title>class of iris-&gt;sepal length in cm</title>\n",
       "<g id=\"a_edge3\"><a xlink:title=\"(4, 0) : \">\n",
       "<path d=\"M208.2964,-75.9468C183.3133,-65.1107 148.4398,-49.9849 120.5871,-37.9042\" fill=\"none\" stroke=\"#000000\"/>\n",
       "<polygon fill=\"#000000\" points=\"121.6227,-34.5384 111.0558,-33.7701 118.8373,-40.9603 121.6227,-34.5384\" stroke=\"#000000\"/>\n",
       "</a>\n",
       "</g>\n",
       "</g>\n",
       "<!-- class of iris&#45;&gt;petal length in cm -->\n",
       "<g class=\"edge\" id=\"edge4\">\n",
       "<title>class of iris-&gt;petal length in cm</title>\n",
       "<g id=\"a_edge4\"><a xlink:title=\"(4, 2) : \">\n",
       "<path d=\"M240.6969,-71.8314C240.6969,-64.131 240.6969,-54.9743 240.6969,-46.4166\" fill=\"none\" stroke=\"#000000\"/>\n",
       "<polygon fill=\"#000000\" points=\"244.197,-46.4132 240.6969,-36.4133 237.197,-46.4133 244.197,-46.4132\" stroke=\"#000000\"/>\n",
       "</a>\n",
       "</g>\n",
       "</g>\n",
       "<!-- class of iris&#45;&gt;petal width in cm -->\n",
       "<g class=\"edge\" id=\"edge1\">\n",
       "<title>class of iris-&gt;petal width in cm</title>\n",
       "<g id=\"a_edge1\"><a xlink:title=\"(4, 3) : \">\n",
       "<path d=\"M272.5119,-75.9468C297.0435,-65.1107 331.2868,-49.9849 358.6361,-37.9042\" fill=\"none\" stroke=\"#000000\"/>\n",
       "<polygon fill=\"#000000\" points=\"360.262,-41.0123 367.9952,-33.7701 357.4336,-34.6091 360.262,-41.0123\" stroke=\"#000000\"/>\n",
       "</a>\n",
       "</g>\n",
       "</g>\n",
       "</g>\n",
       "</svg>"
      ],
      "text/plain": [
       "<IPython.core.display.HTML object>"
      ]
     },
     "metadata": {},
     "output_type": "display_data"
    }
   ],
   "source": [
    "learner=gum.BNLearner(\"irisTreated.csv\")\n",
    "learner.useGreedyHillClimbing()\n",
    "bn_iris2=learner.learnBN()\n",
    "print(\"Learned in {0}ms\".format(1000*learner.currentTime()))\n",
    "gnb.showBN(bn_iris2)"
   ]
  },
  {
   "cell_type": "code",
   "execution_count": 8,
   "metadata": {
    "collapsed": false
   },
   "outputs": [
    {
     "data": {
      "text/plain": [
       "('sepal length in cm',\n",
       " 'sepal width in cm',\n",
       " 'petal length in cm',\n",
       " 'petal width in cm',\n",
       " 'class of iris')"
      ]
     },
     "execution_count": 8,
     "metadata": {},
     "output_type": "execute_result"
    }
   ],
   "source": [
    "learner.names()"
   ]
  },
  {
   "cell_type": "code",
   "execution_count": 9,
   "metadata": {
    "collapsed": false
   },
   "outputs": [
    {
     "name": "stdout",
     "output_type": "stream",
     "text": [
      "sepal length in cm<\"(5, 5.4]\",\"[4.3, 5]\",\"(5.4, 5.8]\",\"(6.7, 7.9]\",\"(6.3, 6.7]\",\"(5.8, 6.3]\">\n"
     ]
    }
   ],
   "source": [
    "print(bn_iris.variableFromName('sepal length in cm'))"
   ]
  },
  {
   "cell_type": "code",
   "execution_count": 10,
   "metadata": {
    "collapsed": true
   },
   "outputs": [],
   "source": []
  }
 ],
 "metadata": {
  "kernelspec": {
   "display_name": "Python [default]",
   "language": "python",
   "name": "python3"
  },
  "language_info": {
   "codemirror_mode": {
    "name": "ipython",
    "version": 3
   },
   "file_extension": ".py",
   "mimetype": "text/x-python",
   "name": "python",
   "nbconvert_exporter": "python",
   "pygments_lexer": "ipython3",
   "version": "3.5.2"
  }
 },
 "nbformat": 4,
 "nbformat_minor": 0
}
