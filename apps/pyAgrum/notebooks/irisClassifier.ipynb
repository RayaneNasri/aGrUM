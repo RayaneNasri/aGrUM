{
 "cells": [
  {
   "cell_type": "markdown",
   "metadata": {},
   "source": [
    "# Pretreatment with Pandas"
   ]
  },
  {
   "cell_type": "code",
   "execution_count": 1,
   "metadata": {
    "collapsed": false
   },
   "outputs": [
    {
     "data": {
      "text/html": [
       "<div>\n",
       "<table border=\"1\" class=\"dataframe\">\n",
       "  <thead>\n",
       "    <tr style=\"text-align: right;\">\n",
       "      <th></th>\n",
       "      <th>sepal length in cm</th>\n",
       "      <th>sepal width in cm</th>\n",
       "      <th>petal length in cm</th>\n",
       "      <th>petal width in cm</th>\n",
       "    </tr>\n",
       "  </thead>\n",
       "  <tbody>\n",
       "    <tr>\n",
       "      <th>count</th>\n",
       "      <td>150.000000</td>\n",
       "      <td>150.000000</td>\n",
       "      <td>150.000000</td>\n",
       "      <td>150.000000</td>\n",
       "    </tr>\n",
       "    <tr>\n",
       "      <th>mean</th>\n",
       "      <td>5.843333</td>\n",
       "      <td>3.054000</td>\n",
       "      <td>3.758667</td>\n",
       "      <td>1.198667</td>\n",
       "    </tr>\n",
       "    <tr>\n",
       "      <th>std</th>\n",
       "      <td>0.828066</td>\n",
       "      <td>0.433594</td>\n",
       "      <td>1.764420</td>\n",
       "      <td>0.763161</td>\n",
       "    </tr>\n",
       "    <tr>\n",
       "      <th>min</th>\n",
       "      <td>4.300000</td>\n",
       "      <td>2.000000</td>\n",
       "      <td>1.000000</td>\n",
       "      <td>0.100000</td>\n",
       "    </tr>\n",
       "    <tr>\n",
       "      <th>25%</th>\n",
       "      <td>5.100000</td>\n",
       "      <td>2.800000</td>\n",
       "      <td>1.600000</td>\n",
       "      <td>0.300000</td>\n",
       "    </tr>\n",
       "    <tr>\n",
       "      <th>50%</th>\n",
       "      <td>5.800000</td>\n",
       "      <td>3.000000</td>\n",
       "      <td>4.350000</td>\n",
       "      <td>1.300000</td>\n",
       "    </tr>\n",
       "    <tr>\n",
       "      <th>75%</th>\n",
       "      <td>6.400000</td>\n",
       "      <td>3.300000</td>\n",
       "      <td>5.100000</td>\n",
       "      <td>1.800000</td>\n",
       "    </tr>\n",
       "    <tr>\n",
       "      <th>max</th>\n",
       "      <td>7.900000</td>\n",
       "      <td>4.400000</td>\n",
       "      <td>6.900000</td>\n",
       "      <td>2.500000</td>\n",
       "    </tr>\n",
       "  </tbody>\n",
       "</table>\n",
       "</div>"
      ],
      "text/plain": [
       "       sepal length in cm  sepal width in cm  petal length in cm  \\\n",
       "count          150.000000         150.000000          150.000000   \n",
       "mean             5.843333           3.054000            3.758667   \n",
       "std              0.828066           0.433594            1.764420   \n",
       "min              4.300000           2.000000            1.000000   \n",
       "25%              5.100000           2.800000            1.600000   \n",
       "50%              5.800000           3.000000            4.350000   \n",
       "75%              6.400000           3.300000            5.100000   \n",
       "max              7.900000           4.400000            6.900000   \n",
       "\n",
       "       petal width in cm  \n",
       "count         150.000000  \n",
       "mean            1.198667  \n",
       "std             0.763161  \n",
       "min             0.100000  \n",
       "25%             0.300000  \n",
       "50%             1.300000  \n",
       "75%             1.800000  \n",
       "max             2.500000  "
      ]
     },
     "execution_count": 1,
     "metadata": {},
     "output_type": "execute_result"
    }
   ],
   "source": [
    "import pandas\n",
    "\n",
    "# data file is in the ../resources folder\n",
    "datas=pandas.read_csv(\"../resources/irisData.csv\")\n",
    "\n",
    "datas.describe()"
   ]
  },
  {
   "cell_type": "code",
   "execution_count": 2,
   "metadata": {
    "collapsed": false
   },
   "outputs": [
    {
     "data": {
      "text/html": [
       "<div>\n",
       "<table border=\"1\" class=\"dataframe\">\n",
       "  <thead>\n",
       "    <tr style=\"text-align: right;\">\n",
       "      <th></th>\n",
       "      <th>sepal length in cm</th>\n",
       "      <th>sepal width in cm</th>\n",
       "      <th>petal length in cm</th>\n",
       "      <th>petal width in cm</th>\n",
       "      <th>class of iris</th>\n",
       "    </tr>\n",
       "  </thead>\n",
       "  <tbody>\n",
       "    <tr>\n",
       "      <th>0</th>\n",
       "      <td>5.1</td>\n",
       "      <td>3.5</td>\n",
       "      <td>1.4</td>\n",
       "      <td>0.2</td>\n",
       "      <td>Iris-setosa</td>\n",
       "    </tr>\n",
       "    <tr>\n",
       "      <th>1</th>\n",
       "      <td>4.9</td>\n",
       "      <td>3.0</td>\n",
       "      <td>1.4</td>\n",
       "      <td>0.2</td>\n",
       "      <td>Iris-setosa</td>\n",
       "    </tr>\n",
       "    <tr>\n",
       "      <th>2</th>\n",
       "      <td>4.7</td>\n",
       "      <td>3.2</td>\n",
       "      <td>1.3</td>\n",
       "      <td>0.2</td>\n",
       "      <td>Iris-setosa</td>\n",
       "    </tr>\n",
       "    <tr>\n",
       "      <th>3</th>\n",
       "      <td>4.6</td>\n",
       "      <td>3.1</td>\n",
       "      <td>1.5</td>\n",
       "      <td>0.2</td>\n",
       "      <td>Iris-setosa</td>\n",
       "    </tr>\n",
       "    <tr>\n",
       "      <th>4</th>\n",
       "      <td>5.0</td>\n",
       "      <td>3.6</td>\n",
       "      <td>1.4</td>\n",
       "      <td>0.2</td>\n",
       "      <td>Iris-setosa</td>\n",
       "    </tr>\n",
       "  </tbody>\n",
       "</table>\n",
       "</div>"
      ],
      "text/plain": [
       "   sepal length in cm  sepal width in cm  petal length in cm  \\\n",
       "0                 5.1                3.5                 1.4   \n",
       "1                 4.9                3.0                 1.4   \n",
       "2                 4.7                3.2                 1.3   \n",
       "3                 4.6                3.1                 1.5   \n",
       "4                 5.0                3.6                 1.4   \n",
       "\n",
       "   petal width in cm class of iris  \n",
       "0                0.2   Iris-setosa  \n",
       "1                0.2   Iris-setosa  \n",
       "2                0.2   Iris-setosa  \n",
       "3                0.2   Iris-setosa  \n",
       "4                0.2   Iris-setosa  "
      ]
     },
     "execution_count": 2,
     "metadata": {},
     "output_type": "execute_result"
    }
   ],
   "source": [
    "datas.head()"
   ]
  },
  {
   "cell_type": "markdown",
   "metadata": {},
   "source": [
    "## Discretization"
   ]
  },
  {
   "cell_type": "code",
   "execution_count": 3,
   "metadata": {
    "collapsed": false
   },
   "outputs": [
    {
     "data": {
      "text/html": [
       "<div>\n",
       "<table border=\"1\" class=\"dataframe\">\n",
       "  <thead>\n",
       "    <tr style=\"text-align: right;\">\n",
       "      <th></th>\n",
       "      <th>sepal length in cm</th>\n",
       "      <th>sepal width in cm</th>\n",
       "      <th>petal length in cm</th>\n",
       "      <th>petal width in cm</th>\n",
       "      <th>class of iris</th>\n",
       "    </tr>\n",
       "  </thead>\n",
       "  <tbody>\n",
       "    <tr>\n",
       "      <th>0</th>\n",
       "      <td>(5, 5.4]</td>\n",
       "      <td>(3.4, 4.4]</td>\n",
       "      <td>[1, 1.5]</td>\n",
       "      <td>[0.1, 0.2]</td>\n",
       "      <td>Iris-setosa</td>\n",
       "    </tr>\n",
       "    <tr>\n",
       "      <th>1</th>\n",
       "      <td>[4.3, 5]</td>\n",
       "      <td>(2.9, 3]</td>\n",
       "      <td>[1, 1.5]</td>\n",
       "      <td>[0.1, 0.2]</td>\n",
       "      <td>Iris-setosa</td>\n",
       "    </tr>\n",
       "    <tr>\n",
       "      <th>2</th>\n",
       "      <td>[4.3, 5]</td>\n",
       "      <td>(3, 3.2]</td>\n",
       "      <td>[1, 1.5]</td>\n",
       "      <td>[0.1, 0.2]</td>\n",
       "      <td>Iris-setosa</td>\n",
       "    </tr>\n",
       "    <tr>\n",
       "      <th>3</th>\n",
       "      <td>[4.3, 5]</td>\n",
       "      <td>(3, 3.2]</td>\n",
       "      <td>[1, 1.5]</td>\n",
       "      <td>[0.1, 0.2]</td>\n",
       "      <td>Iris-setosa</td>\n",
       "    </tr>\n",
       "    <tr>\n",
       "      <th>4</th>\n",
       "      <td>[4.3, 5]</td>\n",
       "      <td>(3.4, 4.4]</td>\n",
       "      <td>[1, 1.5]</td>\n",
       "      <td>[0.1, 0.2]</td>\n",
       "      <td>Iris-setosa</td>\n",
       "    </tr>\n",
       "  </tbody>\n",
       "</table>\n",
       "</div>"
      ],
      "text/plain": [
       "  sepal length in cm sepal width in cm petal length in cm petal width in cm  \\\n",
       "0           (5, 5.4]        (3.4, 4.4]           [1, 1.5]        [0.1, 0.2]   \n",
       "1           [4.3, 5]          (2.9, 3]           [1, 1.5]        [0.1, 0.2]   \n",
       "2           [4.3, 5]          (3, 3.2]           [1, 1.5]        [0.1, 0.2]   \n",
       "3           [4.3, 5]          (3, 3.2]           [1, 1.5]        [0.1, 0.2]   \n",
       "4           [4.3, 5]        (3.4, 4.4]           [1, 1.5]        [0.1, 0.2]   \n",
       "\n",
       "  class of iris  \n",
       "0   Iris-setosa  \n",
       "1   Iris-setosa  \n",
       "2   Iris-setosa  \n",
       "3   Iris-setosa  \n",
       "4   Iris-setosa  "
      ]
     },
     "execution_count": 3,
     "metadata": {},
     "output_type": "execute_result"
    }
   ],
   "source": [
    "import numpy\n",
    "disc=6 # Disc(retization) may be between 2 and 9\n",
    "r=numpy.array(range(disc+1))/(1.0*disc)\n",
    "\n",
    "# quantiles are building using pandas.qcut\n",
    "# The \"class\" column is just copied.\n",
    "l=[]\n",
    "for col in datas.columns.values:\n",
    "    if col!=\"class of iris\":\n",
    "        l.append(pandas.DataFrame(pandas.qcut(datas[col],r),columns=[col]))\n",
    "    else:\n",
    "        l.append(pandas.DataFrame(datas[col],columns=[col]))\n",
    "treated=pandas.concat(l, join='outer', axis=1)\n",
    "\n",
    "treated.head()"
   ]
  },
  {
   "cell_type": "code",
   "execution_count": 4,
   "metadata": {
    "collapsed": false
   },
   "outputs": [
    {
     "name": "stdout",
     "output_type": "stream",
     "text": [
      "=================================\n",
      "  Size of the generated database\n",
      "=================================\n",
      "151\n",
      "\n",
      "=================================\n",
      "  First lines\n",
      "=================================\n",
      "sepal length in cm,sepal width in cm,petal length in cm,petal width in cm,class of iris\n",
      "\"(5, 5.4]\",\"(3.4, 4.4]\",\"[1, 1.5]\",\"[0.1, 0.2]\",Iris-setosa\n",
      "\"[4.3, 5]\",\"(2.9, 3]\",\"[1, 1.5]\",\"[0.1, 0.2]\",Iris-setosa\n",
      "\"[4.3, 5]\",\"(3, 3.2]\",\"[1, 1.5]\",\"[0.1, 0.2]\",Iris-setosa\n",
      "\"[4.3, 5]\",\"(3, 3.2]\",\"[1, 1.5]\",\"[0.1, 0.2]\",Iris-setosa\n",
      "\"[4.3, 5]\",\"(3.4, 4.4]\",\"[1, 1.5]\",\"[0.1, 0.2]\",Iris-setosa\n",
      "\"(5, 5.4]\",\"(3.4, 4.4]\",\"(1.5, 2.633]\",\"(0.2, 0.867]\",Iris-setosa\n",
      "\"[4.3, 5]\",\"(3.2, 3.4]\",\"[1, 1.5]\",\"(0.2, 0.867]\",Iris-setosa\n",
      "\"[4.3, 5]\",\"(3.2, 3.4]\",\"[1, 1.5]\",\"[0.1, 0.2]\",Iris-setosa\n",
      "\"[4.3, 5]\",\"(2.7, 2.9]\",\"[1, 1.5]\",\"[0.1, 0.2]\",Iris-setosa\n",
      "\n"
     ]
    }
   ],
   "source": [
    "#we put the discretized values in a csv file in order to be learned by pyAgrum\n",
    "treated.to_csv(\"irisTreated.csv\",index=False)\n",
    "\n",
    "from pyAgrum.lib._utils.oslike import wc_l,head\n",
    "print(\"=================================\\n  Size of the generated database\\n=================================\")\n",
    "wc_l(\"irisTreated.csv\")\n",
    "print(\"\\n=================================\\n  First lines\\n=================================\")\n",
    "head(\"irisTreated.csv\")"
   ]
  },
  {
   "cell_type": "markdown",
   "metadata": {},
   "source": [
    "# Learning with pyAgrum"
   ]
  },
  {
   "cell_type": "code",
   "execution_count": 5,
   "metadata": {
    "collapsed": false
   },
   "outputs": [
    {
     "name": "stdout",
     "output_type": "stream",
     "text": [
      "pyAgrum version 0.10.1.9\n",
      "(c) Pierre-Henri Wuillemin, Christophe Gonzales, Lionel Torti\n",
      "    UPMC 2015\n",
      "\n",
      "    This is free software; see the source code for copying conditions.\n",
      "    There is ABSOLUTELY NO WARRANTY; not even for MERCHANTABILITY or\n",
      "    FITNESS FOR A PARTICULAR PURPOSE.  For details, see 'pyAgrum.warranty'.\n",
      "    \n"
     ]
    }
   ],
   "source": [
    "%matplotlib inline\n",
    "from pylab import *\n",
    "import matplotlib.pyplot as plt\n",
    "\n",
    "import pyAgrum as gum\n",
    "import pyAgrum.lib.notebook as gnb\n",
    "gum.about()\n"
   ]
  },
  {
   "cell_type": "code",
   "execution_count": 6,
   "metadata": {
    "collapsed": false
   },
   "outputs": [
    {
     "name": "stdout",
     "output_type": "stream",
     "text": [
      "Learned in 11.347203ms\n"
     ]
    },
    {
     "data": {
      "text/html": [
       "<svg height=\"142pt\" viewBox=\"0.00 0.00 288.00 141.56\" width=\"288pt\" xmlns=\"http://www.w3.org/2000/svg\" xmlns:xlink=\"http://www.w3.org/1999/xlink\">\n",
       "<g class=\"graph\" id=\"graph0\" transform=\"scale(0.752967 0.752967) rotate(0) translate(4 184)\">\n",
       "<title>G</title>\n",
       "<polygon fill=\"white\" points=\"-4,4 -4,-184 378.487,-184 378.487,4 -4,4\" stroke=\"none\"/>\n",
       "<!-- sepal length in cm -->\n",
       "<g class=\"node\" id=\"node1\"><title>sepal length in cm</title>\n",
       "<g id=\"a_node1\"><a xlink:title=\"(0) sepal length in cm\">\n",
       "<ellipse cx=\"178.393\" cy=\"-162\" fill=\"#444444\" rx=\"76.0865\" ry=\"18\" stroke=\"black\"/>\n",
       "<text fill=\"#ffffff\" font-family=\"Times,serif\" font-size=\"14.00\" text-anchor=\"middle\" x=\"178.393\" y=\"-158.3\">sepal length in cm</text>\n",
       "</a>\n",
       "</g>\n",
       "</g>\n",
       "<!-- petal length in cm -->\n",
       "<g class=\"node\" id=\"node3\"><title>petal length in cm</title>\n",
       "<g id=\"a_node3\"><a xlink:title=\"(2) petal length in cm\">\n",
       "<ellipse cx=\"75.3933\" cy=\"-90\" fill=\"#444444\" rx=\"75.2868\" ry=\"18\" stroke=\"black\"/>\n",
       "<text fill=\"#ffffff\" font-family=\"Times,serif\" font-size=\"14.00\" text-anchor=\"middle\" x=\"75.3933\" y=\"-86.3\">petal length in cm</text>\n",
       "</a>\n",
       "</g>\n",
       "</g>\n",
       "<!-- sepal length in cm&#45;&gt;petal length in cm -->\n",
       "<g class=\"edge\" id=\"edge3\"><title>sepal length in cm-&gt;petal length in cm</title>\n",
       "<path d=\"M154.504,-144.765C140.594,-135.311 122.869,-123.265 107.724,-112.972\" fill=\"none\" stroke=\"black\"/>\n",
       "<polygon fill=\"black\" points=\"109.391,-109.873 99.1529,-107.147 105.456,-115.663 109.391,-109.873\" stroke=\"black\"/>\n",
       "</g>\n",
       "<!-- petal width in cm -->\n",
       "<g class=\"node\" id=\"node4\"><title>petal width in cm</title>\n",
       "<g id=\"a_node4\"><a xlink:title=\"(3) petal width in cm\">\n",
       "<ellipse cx=\"279.393\" cy=\"-90\" fill=\"#444444\" rx=\"73.387\" ry=\"18\" stroke=\"black\"/>\n",
       "<text fill=\"#ffffff\" font-family=\"Times,serif\" font-size=\"14.00\" text-anchor=\"middle\" x=\"279.393\" y=\"-86.3\">petal width in cm</text>\n",
       "</a>\n",
       "</g>\n",
       "</g>\n",
       "<!-- sepal length in cm&#45;&gt;petal width in cm -->\n",
       "<g class=\"edge\" id=\"edge5\"><title>sepal length in cm-&gt;petal width in cm</title>\n",
       "<path d=\"M201.819,-144.765C215.458,-135.311 232.84,-123.265 247.691,-112.972\" fill=\"none\" stroke=\"black\"/>\n",
       "<polygon fill=\"black\" points=\"249.87,-115.72 256.095,-107.147 245.882,-109.967 249.87,-115.72\" stroke=\"black\"/>\n",
       "</g>\n",
       "<!-- class of iris -->\n",
       "<g class=\"node\" id=\"node5\"><title>class of iris</title>\n",
       "<g id=\"a_node5\"><a xlink:title=\"(4) class of iris\">\n",
       "<ellipse cx=\"157.393\" cy=\"-18\" fill=\"#444444\" rx=\"51.1914\" ry=\"18\" stroke=\"black\"/>\n",
       "<text fill=\"#ffffff\" font-family=\"Times,serif\" font-size=\"14.00\" text-anchor=\"middle\" x=\"157.393\" y=\"-14.3\">class of iris</text>\n",
       "</a>\n",
       "</g>\n",
       "</g>\n",
       "<!-- sepal length in cm&#45;&gt;class of iris -->\n",
       "<g class=\"edge\" id=\"edge6\"><title>sepal length in cm-&gt;class of iris</title>\n",
       "<path d=\"M175.86,-143.871C172.281,-119.67 165.706,-75.2108 161.444,-46.3932\" fill=\"none\" stroke=\"black\"/>\n",
       "<polygon fill=\"black\" points=\"164.861,-45.5696 159.935,-36.1893 157.936,-46.5937 164.861,-45.5696\" stroke=\"black\"/>\n",
       "</g>\n",
       "<!-- sepal width in cm -->\n",
       "<g class=\"node\" id=\"node2\"><title>sepal width in cm</title>\n",
       "<g id=\"a_node2\"><a xlink:title=\"(1) sepal width in cm\">\n",
       "<ellipse cx=\"300.393\" cy=\"-18\" fill=\"#444444\" rx=\"74.187\" ry=\"18\" stroke=\"black\"/>\n",
       "<text fill=\"#ffffff\" font-family=\"Times,serif\" font-size=\"14.00\" text-anchor=\"middle\" x=\"300.393\" y=\"-14.3\">sepal width in cm</text>\n",
       "</a>\n",
       "</g>\n",
       "</g>\n",
       "<!-- petal length in cm&#45;&gt;class of iris -->\n",
       "<g class=\"edge\" id=\"edge4\"><title>petal length in cm-&gt;class of iris</title>\n",
       "<path d=\"M94.8262,-72.411C105.601,-63.2132 119.153,-51.6441 130.887,-41.6269\" fill=\"none\" stroke=\"black\"/>\n",
       "<polygon fill=\"black\" points=\"133.331,-44.1428 138.664,-34.9881 128.786,-38.8188 133.331,-44.1428\" stroke=\"black\"/>\n",
       "</g>\n",
       "<!-- petal width in cm&#45;&gt;sepal width in cm -->\n",
       "<g class=\"edge\" id=\"edge2\"><title>petal width in cm-&gt;sepal width in cm</title>\n",
       "<path d=\"M284.584,-71.6966C286.924,-63.8979 289.741,-54.5085 292.345,-45.8292\" fill=\"none\" stroke=\"black\"/>\n",
       "<polygon fill=\"black\" points=\"295.741,-46.6883 295.262,-36.1043 289.036,-44.6769 295.741,-46.6883\" stroke=\"black\"/>\n",
       "</g>\n",
       "<!-- petal width in cm&#45;&gt;class of iris -->\n",
       "<g class=\"edge\" id=\"edge1\"><title>petal width in cm-&gt;class of iris</title>\n",
       "<path d=\"M252.014,-73.2906C234.184,-63.06 210.779,-49.6314 191.709,-38.6893\" fill=\"none\" stroke=\"black\"/>\n",
       "<polygon fill=\"black\" points=\"193.429,-35.6412 183.014,-33.7003 189.946,-41.7128 193.429,-35.6412\" stroke=\"black\"/>\n",
       "</g>\n",
       "</g>\n",
       "</svg>"
      ],
      "text/plain": [
       "<IPython.core.display.HTML object>"
      ]
     },
     "metadata": {},
     "output_type": "display_data"
    }
   ],
   "source": [
    "learner=gum.BNLearner(\"irisTreated.csv\")\n",
    "learner.useLocalSearchWithTabuList()\n",
    "bn_iris=learner.learnBN()\n",
    "print(\"Learned in {0}ms\".format(1000*learner.currentTime()))\n",
    "gnb.showBN(bn_iris)"
   ]
  },
  {
   "cell_type": "code",
   "execution_count": 7,
   "metadata": {
    "collapsed": false
   },
   "outputs": [
    {
     "name": "stdout",
     "output_type": "stream",
     "text": [
      "Learned in 3.636733ms\n"
     ]
    },
    {
     "data": {
      "text/html": [
       "<svg height=\"110pt\" viewBox=\"0.00 0.00 288.00 109.72\" width=\"288pt\" xmlns=\"http://www.w3.org/2000/svg\" xmlns:xlink=\"http://www.w3.org/1999/xlink\">\n",
       "<g class=\"graph\" id=\"graph0\" transform=\"scale(0.583602 0.583602) rotate(0) translate(4 184)\">\n",
       "<title>G</title>\n",
       "<polygon fill=\"white\" points=\"-4,4 -4,-184 489.487,-184 489.487,4 -4,4\" stroke=\"none\"/>\n",
       "<!-- sepal length in cm -->\n",
       "<g class=\"node\" id=\"node1\"><title>sepal length in cm</title>\n",
       "<g id=\"a_node1\"><a xlink:title=\"(0) sepal length in cm\">\n",
       "<ellipse cx=\"76.0433\" cy=\"-18\" fill=\"#444444\" rx=\"76.0865\" ry=\"18\" stroke=\"black\"/>\n",
       "<text fill=\"#ffffff\" font-family=\"Times,serif\" font-size=\"14.00\" text-anchor=\"middle\" x=\"76.0433\" y=\"-14.3\">sepal length in cm</text>\n",
       "</a>\n",
       "</g>\n",
       "</g>\n",
       "<!-- sepal width in cm -->\n",
       "<g class=\"node\" id=\"node2\"><title>sepal width in cm</title>\n",
       "<g id=\"a_node2\"><a xlink:title=\"(1) sepal width in cm\">\n",
       "<ellipse cx=\"245.043\" cy=\"-162\" fill=\"#444444\" rx=\"74.187\" ry=\"18\" stroke=\"black\"/>\n",
       "<text fill=\"#ffffff\" font-family=\"Times,serif\" font-size=\"14.00\" text-anchor=\"middle\" x=\"245.043\" y=\"-158.3\">sepal width in cm</text>\n",
       "</a>\n",
       "</g>\n",
       "</g>\n",
       "<!-- class of iris -->\n",
       "<g class=\"node\" id=\"node5\"><title>class of iris</title>\n",
       "<g id=\"a_node5\"><a xlink:title=\"(4) class of iris\">\n",
       "<ellipse cx=\"245.043\" cy=\"-90\" fill=\"#444444\" rx=\"51.1914\" ry=\"18\" stroke=\"black\"/>\n",
       "<text fill=\"#ffffff\" font-family=\"Times,serif\" font-size=\"14.00\" text-anchor=\"middle\" x=\"245.043\" y=\"-86.3\">class of iris</text>\n",
       "</a>\n",
       "</g>\n",
       "</g>\n",
       "<!-- sepal width in cm&#45;&gt;class of iris -->\n",
       "<g class=\"edge\" id=\"edge2\"><title>sepal width in cm-&gt;class of iris</title>\n",
       "<path d=\"M245.043,-143.697C245.043,-135.983 245.043,-126.712 245.043,-118.112\" fill=\"none\" stroke=\"black\"/>\n",
       "<polygon fill=\"black\" points=\"248.543,-118.104 245.043,-108.104 241.543,-118.104 248.543,-118.104\" stroke=\"black\"/>\n",
       "</g>\n",
       "<!-- petal length in cm -->\n",
       "<g class=\"node\" id=\"node3\"><title>petal length in cm</title>\n",
       "<g id=\"a_node3\"><a xlink:title=\"(2) petal length in cm\">\n",
       "<ellipse cx=\"245.043\" cy=\"-18\" fill=\"#444444\" rx=\"75.2868\" ry=\"18\" stroke=\"black\"/>\n",
       "<text fill=\"#ffffff\" font-family=\"Times,serif\" font-size=\"14.00\" text-anchor=\"middle\" x=\"245.043\" y=\"-14.3\">petal length in cm</text>\n",
       "</a>\n",
       "</g>\n",
       "</g>\n",
       "<!-- petal width in cm -->\n",
       "<g class=\"node\" id=\"node4\"><title>petal width in cm</title>\n",
       "<g id=\"a_node4\"><a xlink:title=\"(3) petal width in cm\">\n",
       "<ellipse cx=\"412.043\" cy=\"-18\" fill=\"#444444\" rx=\"73.387\" ry=\"18\" stroke=\"black\"/>\n",
       "<text fill=\"#ffffff\" font-family=\"Times,serif\" font-size=\"14.00\" text-anchor=\"middle\" x=\"412.043\" y=\"-14.3\">petal width in cm</text>\n",
       "</a>\n",
       "</g>\n",
       "</g>\n",
       "<!-- class of iris&#45;&gt;sepal length in cm -->\n",
       "<g class=\"edge\" id=\"edge3\"><title>class of iris-&gt;sepal length in cm</title>\n",
       "<path d=\"M213.256,-75.8335C187.398,-65.1234 150.577,-49.8718 121.587,-37.8641\" fill=\"none\" stroke=\"black\"/>\n",
       "<polygon fill=\"black\" points=\"122.661,-34.5207 112.083,-33.9275 119.982,-40.9879 122.661,-34.5207\" stroke=\"black\"/>\n",
       "</g>\n",
       "<!-- class of iris&#45;&gt;petal length in cm -->\n",
       "<g class=\"edge\" id=\"edge4\"><title>class of iris-&gt;petal length in cm</title>\n",
       "<path d=\"M245.043,-71.6966C245.043,-63.9827 245.043,-54.7125 245.043,-46.1124\" fill=\"none\" stroke=\"black\"/>\n",
       "<polygon fill=\"black\" points=\"248.543,-46.1043 245.043,-36.1043 241.543,-46.1044 248.543,-46.1043\" stroke=\"black\"/>\n",
       "</g>\n",
       "<!-- class of iris&#45;&gt;petal width in cm -->\n",
       "<g class=\"edge\" id=\"edge1\"><title>class of iris-&gt;petal width in cm</title>\n",
       "<path d=\"M276.848,-75.6688C302.44,-64.9414 338.714,-49.7368 367.246,-37.7772\" fill=\"none\" stroke=\"black\"/>\n",
       "<polygon fill=\"black\" points=\"368.729,-40.9506 376.599,-33.8569 366.023,-34.4948 368.729,-40.9506\" stroke=\"black\"/>\n",
       "</g>\n",
       "</g>\n",
       "</svg>"
      ],
      "text/plain": [
       "<IPython.core.display.HTML object>"
      ]
     },
     "metadata": {},
     "output_type": "display_data"
    }
   ],
   "source": [
    "learner=gum.BNLearner(\"irisTreated.csv\")\n",
    "learner.useGreedyHillClimbing()\n",
    "bn_iris2=learner.learnBN()\n",
    "print(\"Learned in {0}ms\".format(1000*learner.currentTime()))\n",
    "gnb.showBN(bn_iris2)"
   ]
  },
  {
   "cell_type": "code",
   "execution_count": 8,
   "metadata": {
    "collapsed": false
   },
   "outputs": [
    {
     "data": {
      "text/plain": [
       "('sepal length in cm',\n",
       " 'sepal width in cm',\n",
       " 'petal length in cm',\n",
       " 'petal width in cm',\n",
       " 'class of iris')"
      ]
     },
     "execution_count": 8,
     "metadata": {},
     "output_type": "execute_result"
    }
   ],
   "source": [
    "learner.names()"
   ]
  },
  {
   "cell_type": "code",
   "execution_count": 9,
   "metadata": {
    "collapsed": false
   },
   "outputs": [
    {
     "name": "stdout",
     "output_type": "stream",
     "text": [
      "sepal length in cm<\"(5, 5.4]\",\"[4.3, 5]\",\"(5.4, 5.8]\",\"(6.7, 7.9]\",\"(6.3, 6.7]\",\"(5.8, 6.3]\">\n"
     ]
    }
   ],
   "source": [
    "print(bn_iris.variableFromName('sepal length in cm'))"
   ]
  },
  {
   "cell_type": "code",
   "execution_count": 10,
   "metadata": {
    "collapsed": true
   },
   "outputs": [],
   "source": []
  }
 ],
 "metadata": {
  "kernelspec": {
   "display_name": "Python 3",
   "language": "python",
   "name": "python3"
  },
  "language_info": {
   "codemirror_mode": {
    "name": "ipython",
    "version": 3
   },
   "file_extension": ".py",
   "mimetype": "text/x-python",
   "name": "python",
   "nbconvert_exporter": "python",
   "pygments_lexer": "ipython3",
   "version": "3.5.2+"
  }
 },
 "nbformat": 4,
 "nbformat_minor": 0
}
