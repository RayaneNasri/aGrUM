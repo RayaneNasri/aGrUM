{
 "cells": [
  {
   "cell_type": "markdown",
   "metadata": {},
   "source": [
    "# Pretreatment with Pandas"
   ]
  },
  {
   "cell_type": "code",
   "execution_count": 1,
   "metadata": {
    "collapsed": false
   },
   "outputs": [
    {
     "data": {
      "text/html": [
       "<div>\n",
       "<table border=\"1\" class=\"dataframe\">\n",
       "  <thead>\n",
       "    <tr style=\"text-align: right;\">\n",
       "      <th></th>\n",
       "      <th>sepal length in cm</th>\n",
       "      <th>sepal width in cm</th>\n",
       "      <th>petal length in cm</th>\n",
       "      <th>petal width in cm</th>\n",
       "    </tr>\n",
       "  </thead>\n",
       "  <tbody>\n",
       "    <tr>\n",
       "      <th>count</th>\n",
       "      <td>150.000000</td>\n",
       "      <td>150.000000</td>\n",
       "      <td>150.000000</td>\n",
       "      <td>150.000000</td>\n",
       "    </tr>\n",
       "    <tr>\n",
       "      <th>mean</th>\n",
       "      <td>5.843333</td>\n",
       "      <td>3.054000</td>\n",
       "      <td>3.758667</td>\n",
       "      <td>1.198667</td>\n",
       "    </tr>\n",
       "    <tr>\n",
       "      <th>std</th>\n",
       "      <td>0.828066</td>\n",
       "      <td>0.433594</td>\n",
       "      <td>1.764420</td>\n",
       "      <td>0.763161</td>\n",
       "    </tr>\n",
       "    <tr>\n",
       "      <th>min</th>\n",
       "      <td>4.300000</td>\n",
       "      <td>2.000000</td>\n",
       "      <td>1.000000</td>\n",
       "      <td>0.100000</td>\n",
       "    </tr>\n",
       "    <tr>\n",
       "      <th>25%</th>\n",
       "      <td>5.100000</td>\n",
       "      <td>2.800000</td>\n",
       "      <td>1.600000</td>\n",
       "      <td>0.300000</td>\n",
       "    </tr>\n",
       "    <tr>\n",
       "      <th>50%</th>\n",
       "      <td>5.800000</td>\n",
       "      <td>3.000000</td>\n",
       "      <td>4.350000</td>\n",
       "      <td>1.300000</td>\n",
       "    </tr>\n",
       "    <tr>\n",
       "      <th>75%</th>\n",
       "      <td>6.400000</td>\n",
       "      <td>3.300000</td>\n",
       "      <td>5.100000</td>\n",
       "      <td>1.800000</td>\n",
       "    </tr>\n",
       "    <tr>\n",
       "      <th>max</th>\n",
       "      <td>7.900000</td>\n",
       "      <td>4.400000</td>\n",
       "      <td>6.900000</td>\n",
       "      <td>2.500000</td>\n",
       "    </tr>\n",
       "  </tbody>\n",
       "</table>\n",
       "</div>"
      ],
      "text/plain": [
       "       sepal length in cm  sepal width in cm  petal length in cm  \\\n",
       "count          150.000000         150.000000          150.000000   \n",
       "mean             5.843333           3.054000            3.758667   \n",
       "std              0.828066           0.433594            1.764420   \n",
       "min              4.300000           2.000000            1.000000   \n",
       "25%              5.100000           2.800000            1.600000   \n",
       "50%              5.800000           3.000000            4.350000   \n",
       "75%              6.400000           3.300000            5.100000   \n",
       "max              7.900000           4.400000            6.900000   \n",
       "\n",
       "       petal width in cm  \n",
       "count         150.000000  \n",
       "mean            1.198667  \n",
       "std             0.763161  \n",
       "min             0.100000  \n",
       "25%             0.300000  \n",
       "50%             1.300000  \n",
       "75%             1.800000  \n",
       "max             2.500000  "
      ]
     },
     "execution_count": 1,
     "metadata": {},
     "output_type": "execute_result"
    }
   ],
   "source": [
    "import pandas\n",
    "\n",
    "# data file is in the ../resources folder\n",
    "datas=pandas.read_csv(\"../resources/irisData.csv\")\n",
    "\n",
    "datas.describe()"
   ]
  },
  {
   "cell_type": "code",
   "execution_count": 2,
   "metadata": {
    "collapsed": false
   },
   "outputs": [
    {
     "data": {
      "text/html": [
       "<div>\n",
       "<table border=\"1\" class=\"dataframe\">\n",
       "  <thead>\n",
       "    <tr style=\"text-align: right;\">\n",
       "      <th></th>\n",
       "      <th>sepal length in cm</th>\n",
       "      <th>sepal width in cm</th>\n",
       "      <th>petal length in cm</th>\n",
       "      <th>petal width in cm</th>\n",
       "      <th>class of iris</th>\n",
       "    </tr>\n",
       "  </thead>\n",
       "  <tbody>\n",
       "    <tr>\n",
       "      <th>0</th>\n",
       "      <td>5.1</td>\n",
       "      <td>3.5</td>\n",
       "      <td>1.4</td>\n",
       "      <td>0.2</td>\n",
       "      <td>Iris-setosa</td>\n",
       "    </tr>\n",
       "    <tr>\n",
       "      <th>1</th>\n",
       "      <td>4.9</td>\n",
       "      <td>3.0</td>\n",
       "      <td>1.4</td>\n",
       "      <td>0.2</td>\n",
       "      <td>Iris-setosa</td>\n",
       "    </tr>\n",
       "    <tr>\n",
       "      <th>2</th>\n",
       "      <td>4.7</td>\n",
       "      <td>3.2</td>\n",
       "      <td>1.3</td>\n",
       "      <td>0.2</td>\n",
       "      <td>Iris-setosa</td>\n",
       "    </tr>\n",
       "    <tr>\n",
       "      <th>3</th>\n",
       "      <td>4.6</td>\n",
       "      <td>3.1</td>\n",
       "      <td>1.5</td>\n",
       "      <td>0.2</td>\n",
       "      <td>Iris-setosa</td>\n",
       "    </tr>\n",
       "    <tr>\n",
       "      <th>4</th>\n",
       "      <td>5.0</td>\n",
       "      <td>3.6</td>\n",
       "      <td>1.4</td>\n",
       "      <td>0.2</td>\n",
       "      <td>Iris-setosa</td>\n",
       "    </tr>\n",
       "  </tbody>\n",
       "</table>\n",
       "</div>"
      ],
      "text/plain": [
       "   sepal length in cm  sepal width in cm  petal length in cm  \\\n",
       "0                 5.1                3.5                 1.4   \n",
       "1                 4.9                3.0                 1.4   \n",
       "2                 4.7                3.2                 1.3   \n",
       "3                 4.6                3.1                 1.5   \n",
       "4                 5.0                3.6                 1.4   \n",
       "\n",
       "   petal width in cm class of iris  \n",
       "0                0.2   Iris-setosa  \n",
       "1                0.2   Iris-setosa  \n",
       "2                0.2   Iris-setosa  \n",
       "3                0.2   Iris-setosa  \n",
       "4                0.2   Iris-setosa  "
      ]
     },
     "execution_count": 2,
     "metadata": {},
     "output_type": "execute_result"
    }
   ],
   "source": [
    "datas.head()"
   ]
  },
  {
   "cell_type": "markdown",
   "metadata": {},
   "source": [
    "## Discretization"
   ]
  },
  {
   "cell_type": "code",
   "execution_count": 3,
   "metadata": {
    "collapsed": false
   },
   "outputs": [
    {
     "data": {
      "text/html": [
       "<div>\n",
       "<table border=\"1\" class=\"dataframe\">\n",
       "  <thead>\n",
       "    <tr style=\"text-align: right;\">\n",
       "      <th></th>\n",
       "      <th>sepal length in cm</th>\n",
       "      <th>sepal width in cm</th>\n",
       "      <th>petal length in cm</th>\n",
       "      <th>petal width in cm</th>\n",
       "      <th>class of iris</th>\n",
       "    </tr>\n",
       "  </thead>\n",
       "  <tbody>\n",
       "    <tr>\n",
       "      <th>0</th>\n",
       "      <td>(5, 5.4]</td>\n",
       "      <td>(3.4, 4.4]</td>\n",
       "      <td>[1, 1.5]</td>\n",
       "      <td>[0.1, 0.2]</td>\n",
       "      <td>Iris-setosa</td>\n",
       "    </tr>\n",
       "    <tr>\n",
       "      <th>1</th>\n",
       "      <td>[4.3, 5]</td>\n",
       "      <td>(2.9, 3]</td>\n",
       "      <td>[1, 1.5]</td>\n",
       "      <td>[0.1, 0.2]</td>\n",
       "      <td>Iris-setosa</td>\n",
       "    </tr>\n",
       "    <tr>\n",
       "      <th>2</th>\n",
       "      <td>[4.3, 5]</td>\n",
       "      <td>(3, 3.2]</td>\n",
       "      <td>[1, 1.5]</td>\n",
       "      <td>[0.1, 0.2]</td>\n",
       "      <td>Iris-setosa</td>\n",
       "    </tr>\n",
       "    <tr>\n",
       "      <th>3</th>\n",
       "      <td>[4.3, 5]</td>\n",
       "      <td>(3, 3.2]</td>\n",
       "      <td>[1, 1.5]</td>\n",
       "      <td>[0.1, 0.2]</td>\n",
       "      <td>Iris-setosa</td>\n",
       "    </tr>\n",
       "    <tr>\n",
       "      <th>4</th>\n",
       "      <td>[4.3, 5]</td>\n",
       "      <td>(3.4, 4.4]</td>\n",
       "      <td>[1, 1.5]</td>\n",
       "      <td>[0.1, 0.2]</td>\n",
       "      <td>Iris-setosa</td>\n",
       "    </tr>\n",
       "  </tbody>\n",
       "</table>\n",
       "</div>"
      ],
      "text/plain": [
       "  sepal length in cm sepal width in cm petal length in cm petal width in cm  \\\n",
       "0           (5, 5.4]        (3.4, 4.4]           [1, 1.5]        [0.1, 0.2]   \n",
       "1           [4.3, 5]          (2.9, 3]           [1, 1.5]        [0.1, 0.2]   \n",
       "2           [4.3, 5]          (3, 3.2]           [1, 1.5]        [0.1, 0.2]   \n",
       "3           [4.3, 5]          (3, 3.2]           [1, 1.5]        [0.1, 0.2]   \n",
       "4           [4.3, 5]        (3.4, 4.4]           [1, 1.5]        [0.1, 0.2]   \n",
       "\n",
       "  class of iris  \n",
       "0   Iris-setosa  \n",
       "1   Iris-setosa  \n",
       "2   Iris-setosa  \n",
       "3   Iris-setosa  \n",
       "4   Iris-setosa  "
      ]
     },
     "execution_count": 3,
     "metadata": {},
     "output_type": "execute_result"
    }
   ],
   "source": [
    "import numpy\n",
    "disc=6 # Disc(retization) may be between 2 and 9\n",
    "r=numpy.array(range(disc+1))/(1.0*disc)\n",
    "\n",
    "# quantiles are building using pandas.qcut\n",
    "# The \"class\" column is just copied.\n",
    "l=[]\n",
    "for col in datas.columns.values:\n",
    "    if col!=\"class of iris\":\n",
    "        l.append(pandas.DataFrame(pandas.qcut(datas[col],r),columns=[col]))\n",
    "    else:\n",
    "        l.append(pandas.DataFrame(datas[col],columns=[col]))\n",
    "treated=pandas.concat(l, join='outer', axis=1)\n",
    "\n",
    "treated.head()"
   ]
  },
  {
   "cell_type": "code",
   "execution_count": 4,
   "metadata": {
    "collapsed": false
   },
   "outputs": [
    {
     "name": "stdout",
     "output_type": "stream",
     "text": [
      "=================================\n",
      "  Size of the generated database\n",
      "=================================\n",
      "151\n",
      "\n",
      "=================================\n",
      "  First lines\n",
      "=================================\n",
      "sepal length in cm,sepal width in cm,petal length in cm,petal width in cm,class of iris\n",
      "\"(5, 5.4]\",\"(3.4, 4.4]\",\"[1, 1.5]\",\"[0.1, 0.2]\",Iris-setosa\n",
      "\"[4.3, 5]\",\"(2.9, 3]\",\"[1, 1.5]\",\"[0.1, 0.2]\",Iris-setosa\n",
      "\"[4.3, 5]\",\"(3, 3.2]\",\"[1, 1.5]\",\"[0.1, 0.2]\",Iris-setosa\n",
      "\"[4.3, 5]\",\"(3, 3.2]\",\"[1, 1.5]\",\"[0.1, 0.2]\",Iris-setosa\n",
      "\"[4.3, 5]\",\"(3.4, 4.4]\",\"[1, 1.5]\",\"[0.1, 0.2]\",Iris-setosa\n",
      "\"(5, 5.4]\",\"(3.4, 4.4]\",\"(1.5, 2.633]\",\"(0.2, 0.867]\",Iris-setosa\n",
      "\"[4.3, 5]\",\"(3.2, 3.4]\",\"[1, 1.5]\",\"(0.2, 0.867]\",Iris-setosa\n",
      "\"[4.3, 5]\",\"(3.2, 3.4]\",\"[1, 1.5]\",\"[0.1, 0.2]\",Iris-setosa\n",
      "\"[4.3, 5]\",\"(2.7, 2.9]\",\"[1, 1.5]\",\"[0.1, 0.2]\",Iris-setosa\n",
      "\n"
     ]
    }
   ],
   "source": [
    "#we put the discretized values in a csv file in order to be learned by pyAgrum\n",
    "treated.to_csv(\"irisTreated.csv\",index=False)\n",
    "\n",
    "from pyAgrum.lib._utils.oslike import wc_l,head\n",
    "print(\"=================================\\n  Size of the generated database\\n=================================\")\n",
    "wc_l(\"irisTreated.csv\")\n",
    "print(\"\\n=================================\\n  First lines\\n=================================\")\n",
    "head(\"irisTreated.csv\")"
   ]
  },
  {
   "cell_type": "markdown",
   "metadata": {},
   "source": [
    "# Learning with pyAgrum"
   ]
  },
  {
   "cell_type": "code",
   "execution_count": 5,
   "metadata": {
    "collapsed": false
   },
   "outputs": [
    {
     "name": "stdout",
     "output_type": "stream",
     "text": [
      "pyAgrum version 0.9.2.9\n",
      "(c) Pierre-Henri Wuillemin, Christophe Gonzales, Lionel Torti\n",
      "    UPMC 2015\n",
      "\n",
      "    This is free software; see the source code for copying conditions.\n",
      "    There is ABSOLUTELY NO WARRANTY; not even for MERCHANTABILITY or\n",
      "    FITNESS FOR A PARTICULAR PURPOSE.  For details, see 'pyAgrum.warranty'.\n",
      "    \n"
     ]
    }
   ],
   "source": [
    "%matplotlib inline\n",
    "from pylab import *\n",
    "import matplotlib.pyplot as plt\n",
    "\n",
    "import pyAgrum as gum\n",
    "import pyAgrum.lib.notebook as gnb\n",
    "gum.about()\n"
   ]
  },
  {
   "cell_type": "code",
   "execution_count": 6,
   "metadata": {
    "collapsed": false
   },
   "outputs": [
    {
     "name": "stdout",
     "output_type": "stream",
     "text": [
      "Learned in 0.01759s\n"
     ]
    },
    {
     "data": {
      "text/html": [
       "<div align='center'><svg height=\"288pt\" viewBox=\"0.00 0.00 225.66 288.00\" width=\"226pt\" xmlns=\"http://www.w3.org/2000/svg\" xmlns:xlink=\"http://www.w3.org/1999/xlink\">\n",
       "<g class=\"graph\" id=\"graph0\" transform=\"scale(0.86747 0.86747) rotate(0) translate(4 328)\">\n",
       "<title>G</title>\n",
       "<polygon fill=\"white\" points=\"-4,4 -4,-328 256.137,-328 256.137,4 -4,4\" stroke=\"none\"/>\n",
       "<!-- sepal length in cm -->\n",
       "<g class=\"node\" id=\"node1\"><title>sepal length in cm</title>\n",
       "<g id=\"a_node1\"><a xlink:title=\"(0) sepal length in cm\">\n",
       "<ellipse cx=\"176.093\" cy=\"-18\" fill=\"#444444\" rx=\"76.0865\" ry=\"18\" stroke=\"black\"/>\n",
       "<text fill=\"#ffffff\" font-family=\"Times,serif\" font-size=\"14.00\" text-anchor=\"middle\" x=\"176.093\" y=\"-14.3\">sepal length in cm</text>\n",
       "</a>\n",
       "</g>\n",
       "</g>\n",
       "<!-- sepal width in cm -->\n",
       "<g class=\"node\" id=\"node2\"><title>sepal width in cm</title>\n",
       "<g id=\"a_node2\"><a xlink:title=\"(1) sepal width in cm\">\n",
       "<ellipse cx=\"74.0934\" cy=\"-162\" fill=\"#444444\" rx=\"74.187\" ry=\"18\" stroke=\"black\"/>\n",
       "<text fill=\"#ffffff\" font-family=\"Times,serif\" font-size=\"14.00\" text-anchor=\"middle\" x=\"74.0934\" y=\"-158.3\">sepal width in cm</text>\n",
       "</a>\n",
       "</g>\n",
       "</g>\n",
       "<!-- class of iris -->\n",
       "<g class=\"node\" id=\"node5\"><title>class of iris</title>\n",
       "<g id=\"a_node5\"><a xlink:title=\"(4) class of iris\">\n",
       "<ellipse cx=\"176.093\" cy=\"-90\" fill=\"#444444\" rx=\"51.1914\" ry=\"18\" stroke=\"black\"/>\n",
       "<text fill=\"#ffffff\" font-family=\"Times,serif\" font-size=\"14.00\" text-anchor=\"middle\" x=\"176.093\" y=\"-86.3\">class of iris</text>\n",
       "</a>\n",
       "</g>\n",
       "</g>\n",
       "<!-- sepal width in cm&#45;&gt;class of iris -->\n",
       "<g class=\"edge\" id=\"edge2\"><title>sepal width in cm-&gt;class of iris</title>\n",
       "<path d=\"M97.7507,-144.765C111.821,-135.109 129.833,-122.748 145.037,-112.313\" fill=\"none\" stroke=\"black\"/>\n",
       "<polygon fill=\"black\" points=\"147.35,-114.971 153.614,-106.427 143.389,-109.199 147.35,-114.971\" stroke=\"black\"/>\n",
       "</g>\n",
       "<!-- petal length in cm -->\n",
       "<g class=\"node\" id=\"node3\"><title>petal length in cm</title>\n",
       "<g id=\"a_node3\"><a xlink:title=\"(2) petal length in cm\">\n",
       "<ellipse cx=\"163.093\" cy=\"-306\" fill=\"#444444\" rx=\"75.2868\" ry=\"18\" stroke=\"black\"/>\n",
       "<text fill=\"#ffffff\" font-family=\"Times,serif\" font-size=\"14.00\" text-anchor=\"middle\" x=\"163.093\" y=\"-302.3\">petal length in cm</text>\n",
       "</a>\n",
       "</g>\n",
       "</g>\n",
       "<!-- petal width in cm -->\n",
       "<g class=\"node\" id=\"node4\"><title>petal width in cm</title>\n",
       "<g id=\"a_node4\"><a xlink:title=\"(3) petal width in cm\">\n",
       "<ellipse cx=\"113.093\" cy=\"-234\" fill=\"#444444\" rx=\"73.387\" ry=\"18\" stroke=\"black\"/>\n",
       "<text fill=\"#ffffff\" font-family=\"Times,serif\" font-size=\"14.00\" text-anchor=\"middle\" x=\"113.093\" y=\"-230.3\">petal width in cm</text>\n",
       "</a>\n",
       "</g>\n",
       "</g>\n",
       "<!-- petal length in cm&#45;&gt;petal width in cm -->\n",
       "<g class=\"edge\" id=\"edge3\"><title>petal length in cm-&gt;petal width in cm</title>\n",
       "<path d=\"M150.99,-288.055C144.971,-279.629 137.579,-269.28 130.926,-259.966\" fill=\"none\" stroke=\"black\"/>\n",
       "<polygon fill=\"black\" points=\"133.746,-257.892 125.086,-251.789 128.05,-261.961 133.746,-257.892\" stroke=\"black\"/>\n",
       "</g>\n",
       "<!-- petal length in cm&#45;&gt;class of iris -->\n",
       "<g class=\"edge\" id=\"edge6\"><title>petal length in cm-&gt;class of iris</title>\n",
       "<path d=\"M176.658,-287.972C183.652,-278.09 191.46,-265.047 195.093,-252 207.902,-206.004 195.392,-150.27 185.494,-117.901\" fill=\"none\" stroke=\"black\"/>\n",
       "<polygon fill=\"black\" points=\"188.789,-116.712 182.408,-108.254 182.122,-118.845 188.789,-116.712\" stroke=\"black\"/>\n",
       "</g>\n",
       "<!-- petal width in cm&#45;&gt;sepal width in cm -->\n",
       "<g class=\"edge\" id=\"edge4\"><title>petal width in cm-&gt;sepal width in cm</title>\n",
       "<path d=\"M103.653,-216.055C99.1686,-208.007 93.7074,-198.205 88.705,-189.226\" fill=\"none\" stroke=\"black\"/>\n",
       "<polygon fill=\"black\" points=\"91.6428,-187.308 83.7182,-180.275 85.5278,-190.714 91.6428,-187.308\" stroke=\"black\"/>\n",
       "</g>\n",
       "<!-- petal width in cm&#45;&gt;class of iris -->\n",
       "<g class=\"edge\" id=\"edge1\"><title>petal width in cm-&gt;class of iris</title>\n",
       "<path d=\"M130.522,-216.368C139.756,-206.609 150.517,-193.558 157.093,-180 166.546,-160.511 171.323,-136.372 173.722,-118.152\" fill=\"none\" stroke=\"black\"/>\n",
       "<polygon fill=\"black\" points=\"177.202,-118.525 174.877,-108.189 170.249,-117.719 177.202,-118.525\" stroke=\"black\"/>\n",
       "</g>\n",
       "<!-- class of iris&#45;&gt;sepal length in cm -->\n",
       "<g class=\"edge\" id=\"edge5\"><title>class of iris-&gt;sepal length in cm</title>\n",
       "<path d=\"M176.093,-71.6966C176.093,-63.9827 176.093,-54.7125 176.093,-46.1124\" fill=\"none\" stroke=\"black\"/>\n",
       "<polygon fill=\"black\" points=\"179.594,-46.1043 176.093,-36.1043 172.594,-46.1044 179.594,-46.1043\" stroke=\"black\"/>\n",
       "</g>\n",
       "</g>\n",
       "</svg></div>"
      ],
      "text/plain": [
       "<IPython.core.display.HTML object>"
      ]
     },
     "metadata": {},
     "output_type": "display_data"
    }
   ],
   "source": [
    "learner=gum.BNLearner(\"irisTreated.csv\")\n",
    "learner.useLocalSearchWithTabuList()\n",
    "bn_iris=learner.learnBN()\n",
    "print(\"Learned in {0}s\".format(learner.currentTime()))\n",
    "gnb.showBN(bn_iris)"
   ]
  },
  {
   "cell_type": "code",
   "execution_count": 7,
   "metadata": {
    "collapsed": false
   },
   "outputs": [
    {
     "name": "stdout",
     "output_type": "stream",
     "text": [
      "Learned in 0.002925s\n"
     ]
    },
    {
     "data": {
      "text/html": [
       "<div align='center'><svg height=\"51pt\" viewBox=\"0.00 0.00 288.00 50.66\" width=\"288pt\" xmlns=\"http://www.w3.org/2000/svg\" xmlns:xlink=\"http://www.w3.org/1999/xlink\">\n",
       "<g class=\"graph\" id=\"graph0\" transform=\"scale(0.436703 0.436703) rotate(0) translate(4 112)\">\n",
       "<title>G</title>\n",
       "<polygon fill=\"white\" points=\"-4,4 -4,-112 655.487,-112 655.487,4 -4,4\" stroke=\"none\"/>\n",
       "<!-- sepal length in cm -->\n",
       "<g class=\"node\" id=\"node1\"><title>sepal length in cm</title>\n",
       "<g id=\"a_node1\"><a xlink:title=\"(0) sepal length in cm\">\n",
       "<ellipse cx=\"76.0433\" cy=\"-18\" fill=\"#444444\" rx=\"76.0865\" ry=\"18\" stroke=\"black\"/>\n",
       "<text fill=\"#ffffff\" font-family=\"Times,serif\" font-size=\"14.00\" text-anchor=\"middle\" x=\"76.0433\" y=\"-14.3\">sepal length in cm</text>\n",
       "</a>\n",
       "</g>\n",
       "</g>\n",
       "<!-- sepal width in cm -->\n",
       "<g class=\"node\" id=\"node2\"><title>sepal width in cm</title>\n",
       "<g id=\"a_node2\"><a xlink:title=\"(1) sepal width in cm\">\n",
       "<ellipse cx=\"244.043\" cy=\"-18\" fill=\"#444444\" rx=\"74.187\" ry=\"18\" stroke=\"black\"/>\n",
       "<text fill=\"#ffffff\" font-family=\"Times,serif\" font-size=\"14.00\" text-anchor=\"middle\" x=\"244.043\" y=\"-14.3\">sepal width in cm</text>\n",
       "</a>\n",
       "</g>\n",
       "</g>\n",
       "<!-- petal length in cm -->\n",
       "<g class=\"node\" id=\"node3\"><title>petal length in cm</title>\n",
       "<g id=\"a_node3\"><a xlink:title=\"(2) petal length in cm\">\n",
       "<ellipse cx=\"411.043\" cy=\"-18\" fill=\"#444444\" rx=\"75.2868\" ry=\"18\" stroke=\"black\"/>\n",
       "<text fill=\"#ffffff\" font-family=\"Times,serif\" font-size=\"14.00\" text-anchor=\"middle\" x=\"411.043\" y=\"-14.3\">petal length in cm</text>\n",
       "</a>\n",
       "</g>\n",
       "</g>\n",
       "<!-- petal width in cm -->\n",
       "<g class=\"node\" id=\"node4\"><title>petal width in cm</title>\n",
       "<g id=\"a_node4\"><a xlink:title=\"(3) petal width in cm\">\n",
       "<ellipse cx=\"578.043\" cy=\"-18\" fill=\"#444444\" rx=\"73.387\" ry=\"18\" stroke=\"black\"/>\n",
       "<text fill=\"#ffffff\" font-family=\"Times,serif\" font-size=\"14.00\" text-anchor=\"middle\" x=\"578.043\" y=\"-14.3\">petal width in cm</text>\n",
       "</a>\n",
       "</g>\n",
       "</g>\n",
       "<!-- class of iris -->\n",
       "<g class=\"node\" id=\"node5\"><title>class of iris</title>\n",
       "<g id=\"a_node5\"><a xlink:title=\"(4) class of iris\">\n",
       "<ellipse cx=\"327.043\" cy=\"-90\" fill=\"#444444\" rx=\"51.1914\" ry=\"18\" stroke=\"black\"/>\n",
       "<text fill=\"#ffffff\" font-family=\"Times,serif\" font-size=\"14.00\" text-anchor=\"middle\" x=\"327.043\" y=\"-86.3\">class of iris</text>\n",
       "</a>\n",
       "</g>\n",
       "</g>\n",
       "<!-- class of iris&#45;&gt;sepal length in cm -->\n",
       "<g class=\"edge\" id=\"edge2\"><title>class of iris-&gt;sepal length in cm</title>\n",
       "<path d=\"M288.1,-78.1393C246.577,-66.5592 180.407,-48.1054 133.026,-34.8915\" fill=\"none\" stroke=\"black\"/>\n",
       "<polygon fill=\"black\" points=\"133.789,-31.4708 123.216,-32.1557 131.908,-38.2135 133.789,-31.4708\" stroke=\"black\"/>\n",
       "</g>\n",
       "<!-- class of iris&#45;&gt;sepal width in cm -->\n",
       "<g class=\"edge\" id=\"edge3\"><title>class of iris-&gt;sepal width in cm</title>\n",
       "<path d=\"M308.209,-73.1159C297.406,-64.0046 283.646,-52.4002 271.642,-42.2756\" fill=\"none\" stroke=\"black\"/>\n",
       "<polygon fill=\"black\" points=\"273.57,-39.3231 263.669,-35.5516 269.057,-44.6742 273.57,-39.3231\" stroke=\"black\"/>\n",
       "</g>\n",
       "<!-- class of iris&#45;&gt;petal length in cm -->\n",
       "<g class=\"edge\" id=\"edge4\"><title>class of iris-&gt;petal length in cm</title>\n",
       "<path d=\"M346.104,-73.1159C357.143,-63.917 371.231,-52.1768 383.462,-41.984\" fill=\"none\" stroke=\"black\"/>\n",
       "<polygon fill=\"black\" points=\"385.74,-44.6423 391.181,-35.5516 381.258,-39.2647 385.74,-44.6423\" stroke=\"black\"/>\n",
       "</g>\n",
       "<!-- class of iris&#45;&gt;petal width in cm -->\n",
       "<g class=\"edge\" id=\"edge1\"><title>class of iris-&gt;petal width in cm</title>\n",
       "<path d=\"M365.987,-78.1393C407.638,-66.5234 474.09,-47.991 521.5,-34.7689\" fill=\"none\" stroke=\"black\"/>\n",
       "<polygon fill=\"black\" points=\"522.62,-38.0902 531.313,-32.0325 520.74,-31.3475 522.62,-38.0902\" stroke=\"black\"/>\n",
       "</g>\n",
       "</g>\n",
       "</svg></div>"
      ],
      "text/plain": [
       "<IPython.core.display.HTML object>"
      ]
     },
     "metadata": {},
     "output_type": "display_data"
    }
   ],
   "source": [
    "learner=gum.BNLearner(\"irisTreated.csv\")\n",
    "learner.useGreedyHillClimbing()\n",
    "bn_iris2=learner.learnBN()\n",
    "print(\"Learned in {0}s\".format(learner.currentTime()))\n",
    "gnb.showBN(bn_iris2)"
   ]
  },
  {
   "cell_type": "code",
   "execution_count": 8,
   "metadata": {
    "collapsed": false
   },
   "outputs": [
    {
     "data": {
      "text/plain": [
       "('sepal length in cm',\n",
       " 'sepal width in cm',\n",
       " 'petal length in cm',\n",
       " 'petal width in cm',\n",
       " 'class of iris')"
      ]
     },
     "execution_count": 8,
     "metadata": {},
     "output_type": "execute_result"
    }
   ],
   "source": [
    "learner.names()"
   ]
  },
  {
   "cell_type": "code",
   "execution_count": 9,
   "metadata": {
    "collapsed": false
   },
   "outputs": [
    {
     "name": "stdout",
     "output_type": "stream",
     "text": [
      "sepal length in cm<\"(5, 5.4]\",\"[4.3, 5]\",\"(5.4, 5.8]\",\"(6.7, 7.9]\",\"(6.3, 6.7]\",\"(5.8, 6.3]\">\n"
     ]
    }
   ],
   "source": [
    "print(bn_iris.variableFromName('sepal length in cm'))"
   ]
  },
  {
   "cell_type": "code",
   "execution_count": 10,
   "metadata": {
    "collapsed": true
   },
   "outputs": [],
   "source": []
  }
 ],
 "metadata": {
  "kernelspec": {
   "display_name": "Python 3",
   "language": "python",
   "name": "python3"
  },
  "language_info": {
   "codemirror_mode": {
    "name": "ipython",
    "version": 3
   },
   "file_extension": ".py",
   "mimetype": "text/x-python",
   "name": "python",
   "nbconvert_exporter": "python",
   "pygments_lexer": "ipython3",
   "version": "3.5.1+"
  }
 },
 "nbformat": 4,
 "nbformat_minor": 0
}
