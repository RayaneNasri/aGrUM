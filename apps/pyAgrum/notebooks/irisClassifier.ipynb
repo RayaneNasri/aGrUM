{
 "cells": [
  {
   "cell_type": "markdown",
   "metadata": {},
   "source": [
    "# Pretreatment with Pandas"
   ]
  },
  {
   "cell_type": "code",
   "execution_count": 1,
   "metadata": {
    "collapsed": false
   },
   "outputs": [
    {
     "data": {
      "text/html": [
       "<div>\n",
       "<table border=\"1\" class=\"dataframe\">\n",
       "  <thead>\n",
       "    <tr style=\"text-align: right;\">\n",
       "      <th></th>\n",
       "      <th>sepal length in cm</th>\n",
       "      <th>sepal width in cm</th>\n",
       "      <th>petal length in cm</th>\n",
       "      <th>petal width in cm</th>\n",
       "    </tr>\n",
       "  </thead>\n",
       "  <tbody>\n",
       "    <tr>\n",
       "      <th>count</th>\n",
       "      <td>150.000000</td>\n",
       "      <td>150.000000</td>\n",
       "      <td>150.000000</td>\n",
       "      <td>150.000000</td>\n",
       "    </tr>\n",
       "    <tr>\n",
       "      <th>mean</th>\n",
       "      <td>5.843333</td>\n",
       "      <td>3.054000</td>\n",
       "      <td>3.758667</td>\n",
       "      <td>1.198667</td>\n",
       "    </tr>\n",
       "    <tr>\n",
       "      <th>std</th>\n",
       "      <td>0.828066</td>\n",
       "      <td>0.433594</td>\n",
       "      <td>1.764420</td>\n",
       "      <td>0.763161</td>\n",
       "    </tr>\n",
       "    <tr>\n",
       "      <th>min</th>\n",
       "      <td>4.300000</td>\n",
       "      <td>2.000000</td>\n",
       "      <td>1.000000</td>\n",
       "      <td>0.100000</td>\n",
       "    </tr>\n",
       "    <tr>\n",
       "      <th>25%</th>\n",
       "      <td>5.100000</td>\n",
       "      <td>2.800000</td>\n",
       "      <td>1.600000</td>\n",
       "      <td>0.300000</td>\n",
       "    </tr>\n",
       "    <tr>\n",
       "      <th>50%</th>\n",
       "      <td>5.800000</td>\n",
       "      <td>3.000000</td>\n",
       "      <td>4.350000</td>\n",
       "      <td>1.300000</td>\n",
       "    </tr>\n",
       "    <tr>\n",
       "      <th>75%</th>\n",
       "      <td>6.400000</td>\n",
       "      <td>3.300000</td>\n",
       "      <td>5.100000</td>\n",
       "      <td>1.800000</td>\n",
       "    </tr>\n",
       "    <tr>\n",
       "      <th>max</th>\n",
       "      <td>7.900000</td>\n",
       "      <td>4.400000</td>\n",
       "      <td>6.900000</td>\n",
       "      <td>2.500000</td>\n",
       "    </tr>\n",
       "  </tbody>\n",
       "</table>\n",
       "</div>"
      ],
      "text/plain": [
       "       sepal length in cm  sepal width in cm  petal length in cm  \\\n",
       "count          150.000000         150.000000          150.000000   \n",
       "mean             5.843333           3.054000            3.758667   \n",
       "std              0.828066           0.433594            1.764420   \n",
       "min              4.300000           2.000000            1.000000   \n",
       "25%              5.100000           2.800000            1.600000   \n",
       "50%              5.800000           3.000000            4.350000   \n",
       "75%              6.400000           3.300000            5.100000   \n",
       "max              7.900000           4.400000            6.900000   \n",
       "\n",
       "       petal width in cm  \n",
       "count         150.000000  \n",
       "mean            1.198667  \n",
       "std             0.763161  \n",
       "min             0.100000  \n",
       "25%             0.300000  \n",
       "50%             1.300000  \n",
       "75%             1.800000  \n",
       "max             2.500000  "
      ]
     },
     "execution_count": 1,
     "metadata": {},
     "output_type": "execute_result"
    }
   ],
   "source": [
    "import pandas\n",
    "\n",
    "# data file is in the ../resources folder\n",
    "datas=pandas.read_csv(\"../resources/irisData.csv\")\n",
    "\n",
    "datas.describe()"
   ]
  },
  {
   "cell_type": "code",
   "execution_count": 2,
   "metadata": {
    "collapsed": false
   },
   "outputs": [
    {
     "data": {
      "text/html": [
       "<div>\n",
       "<table border=\"1\" class=\"dataframe\">\n",
       "  <thead>\n",
       "    <tr style=\"text-align: right;\">\n",
       "      <th></th>\n",
       "      <th>sepal length in cm</th>\n",
       "      <th>sepal width in cm</th>\n",
       "      <th>petal length in cm</th>\n",
       "      <th>petal width in cm</th>\n",
       "      <th>class of iris</th>\n",
       "    </tr>\n",
       "  </thead>\n",
       "  <tbody>\n",
       "    <tr>\n",
       "      <th>0</th>\n",
       "      <td>5.1</td>\n",
       "      <td>3.5</td>\n",
       "      <td>1.4</td>\n",
       "      <td>0.2</td>\n",
       "      <td>Iris-setosa</td>\n",
       "    </tr>\n",
       "    <tr>\n",
       "      <th>1</th>\n",
       "      <td>4.9</td>\n",
       "      <td>3.0</td>\n",
       "      <td>1.4</td>\n",
       "      <td>0.2</td>\n",
       "      <td>Iris-setosa</td>\n",
       "    </tr>\n",
       "    <tr>\n",
       "      <th>2</th>\n",
       "      <td>4.7</td>\n",
       "      <td>3.2</td>\n",
       "      <td>1.3</td>\n",
       "      <td>0.2</td>\n",
       "      <td>Iris-setosa</td>\n",
       "    </tr>\n",
       "    <tr>\n",
       "      <th>3</th>\n",
       "      <td>4.6</td>\n",
       "      <td>3.1</td>\n",
       "      <td>1.5</td>\n",
       "      <td>0.2</td>\n",
       "      <td>Iris-setosa</td>\n",
       "    </tr>\n",
       "    <tr>\n",
       "      <th>4</th>\n",
       "      <td>5.0</td>\n",
       "      <td>3.6</td>\n",
       "      <td>1.4</td>\n",
       "      <td>0.2</td>\n",
       "      <td>Iris-setosa</td>\n",
       "    </tr>\n",
       "  </tbody>\n",
       "</table>\n",
       "</div>"
      ],
      "text/plain": [
       "   sepal length in cm  sepal width in cm  petal length in cm  \\\n",
       "0                 5.1                3.5                 1.4   \n",
       "1                 4.9                3.0                 1.4   \n",
       "2                 4.7                3.2                 1.3   \n",
       "3                 4.6                3.1                 1.5   \n",
       "4                 5.0                3.6                 1.4   \n",
       "\n",
       "   petal width in cm class of iris  \n",
       "0                0.2   Iris-setosa  \n",
       "1                0.2   Iris-setosa  \n",
       "2                0.2   Iris-setosa  \n",
       "3                0.2   Iris-setosa  \n",
       "4                0.2   Iris-setosa  "
      ]
     },
     "execution_count": 2,
     "metadata": {},
     "output_type": "execute_result"
    }
   ],
   "source": [
    "datas.head()"
   ]
  },
  {
   "cell_type": "markdown",
   "metadata": {},
   "source": [
    "## Discretization"
   ]
  },
  {
   "cell_type": "code",
   "execution_count": 3,
   "metadata": {
    "collapsed": false
   },
   "outputs": [
    {
     "data": {
      "text/html": [
       "<div>\n",
       "<table border=\"1\" class=\"dataframe\">\n",
       "  <thead>\n",
       "    <tr style=\"text-align: right;\">\n",
       "      <th></th>\n",
       "      <th>sepal length in cm</th>\n",
       "      <th>sepal width in cm</th>\n",
       "      <th>petal length in cm</th>\n",
       "      <th>petal width in cm</th>\n",
       "      <th>class of iris</th>\n",
       "    </tr>\n",
       "  </thead>\n",
       "  <tbody>\n",
       "    <tr>\n",
       "      <th>0</th>\n",
       "      <td>(5, 5.4]</td>\n",
       "      <td>(3.4, 4.4]</td>\n",
       "      <td>[1, 1.5]</td>\n",
       "      <td>[0.1, 0.2]</td>\n",
       "      <td>Iris-setosa</td>\n",
       "    </tr>\n",
       "    <tr>\n",
       "      <th>1</th>\n",
       "      <td>[4.3, 5]</td>\n",
       "      <td>(2.9, 3]</td>\n",
       "      <td>[1, 1.5]</td>\n",
       "      <td>[0.1, 0.2]</td>\n",
       "      <td>Iris-setosa</td>\n",
       "    </tr>\n",
       "    <tr>\n",
       "      <th>2</th>\n",
       "      <td>[4.3, 5]</td>\n",
       "      <td>(3, 3.2]</td>\n",
       "      <td>[1, 1.5]</td>\n",
       "      <td>[0.1, 0.2]</td>\n",
       "      <td>Iris-setosa</td>\n",
       "    </tr>\n",
       "    <tr>\n",
       "      <th>3</th>\n",
       "      <td>[4.3, 5]</td>\n",
       "      <td>(3, 3.2]</td>\n",
       "      <td>[1, 1.5]</td>\n",
       "      <td>[0.1, 0.2]</td>\n",
       "      <td>Iris-setosa</td>\n",
       "    </tr>\n",
       "    <tr>\n",
       "      <th>4</th>\n",
       "      <td>[4.3, 5]</td>\n",
       "      <td>(3.4, 4.4]</td>\n",
       "      <td>[1, 1.5]</td>\n",
       "      <td>[0.1, 0.2]</td>\n",
       "      <td>Iris-setosa</td>\n",
       "    </tr>\n",
       "  </tbody>\n",
       "</table>\n",
       "</div>"
      ],
      "text/plain": [
       "  sepal length in cm sepal width in cm petal length in cm petal width in cm  \\\n",
       "0           (5, 5.4]        (3.4, 4.4]           [1, 1.5]        [0.1, 0.2]   \n",
       "1           [4.3, 5]          (2.9, 3]           [1, 1.5]        [0.1, 0.2]   \n",
       "2           [4.3, 5]          (3, 3.2]           [1, 1.5]        [0.1, 0.2]   \n",
       "3           [4.3, 5]          (3, 3.2]           [1, 1.5]        [0.1, 0.2]   \n",
       "4           [4.3, 5]        (3.4, 4.4]           [1, 1.5]        [0.1, 0.2]   \n",
       "\n",
       "  class of iris  \n",
       "0   Iris-setosa  \n",
       "1   Iris-setosa  \n",
       "2   Iris-setosa  \n",
       "3   Iris-setosa  \n",
       "4   Iris-setosa  "
      ]
     },
     "execution_count": 3,
     "metadata": {},
     "output_type": "execute_result"
    }
   ],
   "source": [
    "import numpy\n",
    "disc=6 # Disc(retization) may be between 2 and 9\n",
    "r=numpy.array(range(disc+1))/(1.0*disc)\n",
    "\n",
    "# quantiles are building using pandas.qcut\n",
    "# The \"class\" column is just copied.\n",
    "l=[]\n",
    "for col in datas.columns.values:\n",
    "    if col!=\"class of iris\":\n",
    "        l.append(pandas.DataFrame(pandas.qcut(datas[col],r),columns=[col]))\n",
    "    else:\n",
    "        l.append(pandas.DataFrame(datas[col],columns=[col]))\n",
    "treated=pandas.concat(l, join='outer', axis=1)\n",
    "\n",
    "treated.head()"
   ]
  },
  {
   "cell_type": "code",
   "execution_count": 4,
   "metadata": {
    "collapsed": false
   },
   "outputs": [
    {
     "name": "stdout",
     "output_type": "stream",
     "text": [
      "=================================\n",
      "  Size of the generated database\n",
      "=================================\n",
      "151\n",
      "\n",
      "=================================\n",
      "  First lines\n",
      "=================================\n",
      "sepal length in cm,sepal width in cm,petal length in cm,petal width in cm,class of iris\n",
      "\"(5, 5.4]\",\"(3.4, 4.4]\",\"[1, 1.5]\",\"[0.1, 0.2]\",Iris-setosa\n",
      "\"[4.3, 5]\",\"(2.9, 3]\",\"[1, 1.5]\",\"[0.1, 0.2]\",Iris-setosa\n",
      "\"[4.3, 5]\",\"(3, 3.2]\",\"[1, 1.5]\",\"[0.1, 0.2]\",Iris-setosa\n",
      "\"[4.3, 5]\",\"(3, 3.2]\",\"[1, 1.5]\",\"[0.1, 0.2]\",Iris-setosa\n",
      "\"[4.3, 5]\",\"(3.4, 4.4]\",\"[1, 1.5]\",\"[0.1, 0.2]\",Iris-setosa\n",
      "\"(5, 5.4]\",\"(3.4, 4.4]\",\"(1.5, 2.633]\",\"(0.2, 0.867]\",Iris-setosa\n",
      "\"[4.3, 5]\",\"(3.2, 3.4]\",\"[1, 1.5]\",\"(0.2, 0.867]\",Iris-setosa\n",
      "\"[4.3, 5]\",\"(3.2, 3.4]\",\"[1, 1.5]\",\"[0.1, 0.2]\",Iris-setosa\n",
      "\"[4.3, 5]\",\"(2.7, 2.9]\",\"[1, 1.5]\",\"[0.1, 0.2]\",Iris-setosa\n",
      "\n"
     ]
    }
   ],
   "source": [
    "#we put the discretized values in a csv file in order to be learned by pyAgrum\n",
    "treated.to_csv(\"irisTreated.csv\",index=False)\n",
    "\n",
    "from pyAgrum.lib.utils.oslike import wc_l,head\n",
    "print(\"=================================\\n  Size of the generated database\\n=================================\")\n",
    "wc_l(\"irisTreated.csv\")\n",
    "print(\"\\n=================================\\n  First lines\\n=================================\")\n",
    "head(\"irisTreated.csv\")"
   ]
  },
  {
   "cell_type": "markdown",
   "metadata": {},
   "source": [
    "# Learning with pyAgrum"
   ]
  },
  {
   "cell_type": "code",
   "execution_count": 5,
   "metadata": {
    "collapsed": false
   },
   "outputs": [
    {
     "name": "stdout",
     "output_type": "stream",
     "text": [
      "pyAgrum version 0.9.2.9\n",
      "(c) Pierre-Henri Wuillemin, Christophe Gonzales, Lionel Torti\n",
      "    UPMC 2015\n",
      "\n",
      "    This is free software; see the source code for copying conditions.\n",
      "    There is ABSOLUTELY NO WARRANTY; not even for MERCHANTABILITY or\n",
      "    FITNESS FOR A PARTICULAR PURPOSE.  For details, see 'pyAgrum.warranty'.\n",
      "    \n"
     ]
    }
   ],
   "source": [
    "%matplotlib inline\n",
    "from pylab import *\n",
    "import matplotlib.pyplot as plt\n",
    "\n",
    "import pyAgrum as gum\n",
    "import pyAgrum.lib.notebook as gnb\n",
    "gum.about()\n"
   ]
  },
  {
   "cell_type": "code",
   "execution_count": 6,
   "metadata": {
    "collapsed": false
   },
   "outputs": [
    {
     "name": "stdout",
     "output_type": "stream",
     "text": [
      "Learned in 0.015827s\n"
     ]
    },
    {
     "data": {
      "image/png": "[encoded data removed]"
     },
     "metadata": {},
     "output_type": "display_data"
    }
   ],
   "source": [
    "learner=gum.BNLearner(\"irisTreated.csv\")\n",
    "learner.useLocalSearchWithTabuList()\n",
    "bn_iris=learner.learnBN()\n",
    "print(\"Learned in {0}s\".format(learner.currentTime()))\n",
    "gnb.showBN(bn_iris)"
   ]
  },
  {
   "cell_type": "code",
   "execution_count": 7,
   "metadata": {
    "collapsed": false
   },
   "outputs": [
    {
     "name": "stdout",
     "output_type": "stream",
     "text": [
      "Learned in 0.002693s\n"
     ]
    },
    {
     "data": {
      "image/png": "[encoded data removed]"
     },
     "metadata": {},
     "output_type": "display_data"
    }
   ],
   "source": [
    "learner=gum.BNLearner(\"irisTreated.csv\")\n",
    "learner.useGreedyHillClimbing()\n",
    "bn_iris2=learner.learnBN()\n",
    "print(\"Learned in {0}s\".format(learner.currentTime()))\n",
    "gnb.showBN(bn_iris2)"
   ]
  },
  {
   "cell_type": "code",
   "execution_count": 8,
   "metadata": {
    "collapsed": false
   },
   "outputs": [
    {
     "data": {
      "text/plain": [
       "('sepal length in cm',\n",
       " 'sepal width in cm',\n",
       " 'petal length in cm',\n",
       " 'petal width in cm',\n",
       " 'class of iris')"
      ]
     },
     "execution_count": 8,
     "metadata": {},
     "output_type": "execute_result"
    }
   ],
   "source": [
    "learner.names()"
   ]
  },
  {
   "cell_type": "code",
   "execution_count": 9,
   "metadata": {
    "collapsed": false
   },
   "outputs": [
    {
     "name": "stdout",
     "output_type": "stream",
     "text": [
      "sepal length in cm<\"(5, 5.4]\",\"[4.3, 5]\",\"(5.4, 5.8]\",\"(6.7, 7.9]\",\"(6.3, 6.7]\",\"(5.8, 6.3]\">\n"
     ]
    }
   ],
   "source": [
    "print(bn_iris.variableFromName('sepal length in cm'))"
   ]
  },
  {
   "cell_type": "code",
   "execution_count": null,
   "metadata": {
    "collapsed": true
   },
   "outputs": [],
   "source": []
  }
 ],
 "metadata": {
  "kernelspec": {
   "display_name": "Python 3",
   "language": "python",
   "name": "python3"
  },
  "language_info": {
   "codemirror_mode": {
    "name": "ipython",
    "version": 3
   },
   "file_extension": ".py",
   "mimetype": "text/x-python",
   "name": "python",
   "nbconvert_exporter": "python",
   "pygments_lexer": "ipython3",
   "version": "3.5.0+"
  }
 },
 "nbformat": 4,
 "nbformat_minor": 0
}
