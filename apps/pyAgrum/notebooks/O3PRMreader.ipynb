{
 "cells": [
  {
   "cell_type": "code",
   "execution_count": 1,
   "metadata": {
    "collapsed": false
   },
   "outputs": [],
   "source": [
    "import pyAgrum as gum\n",
    "import pyAgrum.lib.notebook as gnb\n"
   ]
  },
  {
   "cell_type": "code",
   "execution_count": 2,
   "metadata": {
    "collapsed": false
   },
   "outputs": [
    {
     "data": {
      "text/html": [
       "<div align='center'><svg height=\"260pt\" viewBox=\"0.00 0.00 553.49 260.00\" width=\"553pt\" xmlns=\"http://www.w3.org/2000/svg\" xmlns:xlink=\"http://www.w3.org/1999/xlink\">\n",
       "<g class=\"graph\" id=\"graph0\" transform=\"scale(1 1) rotate(0) translate(4 256)\">\n",
       "<title>G</title>\n",
       "<polygon fill=\"white\" points=\"-4,4 -4,-256 549.49,-256 549.49,4 -4,4\" stroke=\"none\"/>\n",
       "<!-- A1.Productivity -->\n",
       "<g class=\"node\" id=\"node1\"><title>A1.Productivity</title>\n",
       "<g id=\"a_node1\"><a xlink:title=\"(0) A1.Productivity\">\n",
       "<ellipse cx=\"196.245\" cy=\"-234\" fill=\"#444444\" rx=\"67.6881\" ry=\"18\" stroke=\"black\"/>\n",
       "<text fill=\"#ffffff\" font-family=\"Times,serif\" font-size=\"14.00\" text-anchor=\"middle\" x=\"196.245\" y=\"-230.3\">A1.Productivity</text>\n",
       "</a>\n",
       "</g>\n",
       "</g>\n",
       "<!-- A1.Cost -->\n",
       "<g class=\"node\" id=\"node3\"><title>A1.Cost</title>\n",
       "<g id=\"a_node3\"><a xlink:title=\"(2) A1.Cost\">\n",
       "<ellipse cx=\"56.2451\" cy=\"-162\" fill=\"#444444\" rx=\"40.0939\" ry=\"18\" stroke=\"black\"/>\n",
       "<text fill=\"#ffffff\" font-family=\"Times,serif\" font-size=\"14.00\" text-anchor=\"middle\" x=\"56.2451\" y=\"-158.3\">A1.Cost</text>\n",
       "</a>\n",
       "</g>\n",
       "</g>\n",
       "<!-- A1.Productivity&#45;&gt;A1.Cost -->\n",
       "<g class=\"edge\" id=\"edge3\"><title>A1.Productivity-&gt;A1.Cost</title>\n",
       "<path d=\"M165.867,-217.811C143.956,-206.855 114.322,-192.038 91.3888,-180.572\" fill=\"none\" stroke=\"black\"/>\n",
       "<polygon fill=\"black\" points=\"92.8388,-177.384 82.3293,-176.042 89.7083,-183.645 92.8388,-177.384\" stroke=\"black\"/>\n",
       "</g>\n",
       "<!-- A2.Agg_Productivity -->\n",
       "<g class=\"node\" id=\"node8\"><title>A2.Agg_Productivity</title>\n",
       "<g id=\"a_node8\"><a xlink:title=\"(7) A2.Agg_Productivity\">\n",
       "<ellipse cx=\"203.245\" cy=\"-162\" fill=\"#444444\" rx=\"87.1846\" ry=\"18\" stroke=\"black\"/>\n",
       "<text fill=\"#ffffff\" font-family=\"Times,serif\" font-size=\"14.00\" text-anchor=\"middle\" x=\"203.245\" y=\"-158.3\">A2.Agg_Productivity</text>\n",
       "</a>\n",
       "</g>\n",
       "</g>\n",
       "<!-- A1.Productivity&#45;&gt;A2.Agg_Productivity -->\n",
       "<g class=\"edge\" id=\"edge6\"><title>A1.Productivity-&gt;A2.Agg_Productivity</title>\n",
       "<path d=\"M197.975,-215.697C198.747,-207.983 199.674,-198.712 200.534,-190.112\" fill=\"none\" stroke=\"black\"/>\n",
       "<polygon fill=\"black\" points=\"204.022,-190.403 201.535,-180.104 197.057,-189.706 204.022,-190.403\" stroke=\"black\"/>\n",
       "</g>\n",
       "<!-- A1.Capacity -->\n",
       "<g class=\"node\" id=\"node2\"><title>A1.Capacity</title>\n",
       "<g id=\"a_node2\"><a xlink:title=\"(1) A1.Capacity\">\n",
       "<ellipse cx=\"55.2451\" cy=\"-234\" fill=\"#444444\" rx=\"55.4913\" ry=\"18\" stroke=\"black\"/>\n",
       "<text fill=\"#ffffff\" font-family=\"Times,serif\" font-size=\"14.00\" text-anchor=\"middle\" x=\"55.2451\" y=\"-230.3\">A1.Capacity</text>\n",
       "</a>\n",
       "</g>\n",
       "</g>\n",
       "<!-- A1.Capacity&#45;&gt;A1.Cost -->\n",
       "<g class=\"edge\" id=\"edge8\"><title>A1.Capacity-&gt;A1.Cost</title>\n",
       "<path d=\"M55.4923,-215.697C55.6025,-207.983 55.7349,-198.712 55.8578,-190.112\" fill=\"none\" stroke=\"black\"/>\n",
       "<polygon fill=\"black\" points=\"59.3575,-190.153 56.0008,-180.104 52.3582,-190.053 59.3575,-190.153\" stroke=\"black\"/>\n",
       "</g>\n",
       "<!-- A0.Productivity -->\n",
       "<g class=\"node\" id=\"node4\"><title>A0.Productivity</title>\n",
       "<g id=\"a_node4\"><a xlink:title=\"(3) A0.Productivity\">\n",
       "<ellipse cx=\"349.245\" cy=\"-234\" fill=\"#444444\" rx=\"67.6881\" ry=\"18\" stroke=\"black\"/>\n",
       "<text fill=\"#ffffff\" font-family=\"Times,serif\" font-size=\"14.00\" text-anchor=\"middle\" x=\"349.245\" y=\"-230.3\">A0.Productivity</text>\n",
       "</a>\n",
       "</g>\n",
       "</g>\n",
       "<!-- A0.Cost -->\n",
       "<g class=\"node\" id=\"node6\"><title>A0.Cost</title>\n",
       "<g id=\"a_node6\"><a xlink:title=\"(5) A0.Cost\">\n",
       "<ellipse cx=\"419.245\" cy=\"-162\" fill=\"#444444\" rx=\"40.0939\" ry=\"18\" stroke=\"black\"/>\n",
       "<text fill=\"#ffffff\" font-family=\"Times,serif\" font-size=\"14.00\" text-anchor=\"middle\" x=\"419.245\" y=\"-158.3\">A0.Cost</text>\n",
       "</a>\n",
       "</g>\n",
       "</g>\n",
       "<!-- A0.Productivity&#45;&gt;A0.Cost -->\n",
       "<g class=\"edge\" id=\"edge1\"><title>A0.Productivity-&gt;A0.Cost</title>\n",
       "<path d=\"M365.834,-216.411C374.855,-207.39 386.157,-196.088 396.039,-186.207\" fill=\"none\" stroke=\"black\"/>\n",
       "<polygon fill=\"black\" points=\"398.661,-188.534 403.257,-178.988 393.711,-183.584 398.661,-188.534\" stroke=\"black\"/>\n",
       "</g>\n",
       "<!-- A0.Productivity&#45;&gt;A2.Agg_Productivity -->\n",
       "<g class=\"edge\" id=\"edge7\"><title>A0.Productivity-&gt;A2.Agg_Productivity</title>\n",
       "<path d=\"M317.924,-217.983C296.716,-207.815 268.448,-194.262 245.285,-183.156\" fill=\"none\" stroke=\"black\"/>\n",
       "<polygon fill=\"black\" points=\"246.563,-179.888 236.033,-178.72 243.537,-186.2 246.563,-179.888\" stroke=\"black\"/>\n",
       "</g>\n",
       "<!-- A0.Capacity -->\n",
       "<g class=\"node\" id=\"node5\"><title>A0.Capacity</title>\n",
       "<g id=\"a_node5\"><a xlink:title=\"(4) A0.Capacity\">\n",
       "<ellipse cx=\"490.245\" cy=\"-234\" fill=\"#444444\" rx=\"55.4913\" ry=\"18\" stroke=\"black\"/>\n",
       "<text fill=\"#ffffff\" font-family=\"Times,serif\" font-size=\"14.00\" text-anchor=\"middle\" x=\"490.245\" y=\"-230.3\">A0.Capacity</text>\n",
       "</a>\n",
       "</g>\n",
       "</g>\n",
       "<!-- A0.Capacity&#45;&gt;A0.Cost -->\n",
       "<g class=\"edge\" id=\"edge5\"><title>A0.Capacity-&gt;A0.Cost</title>\n",
       "<path d=\"M473.778,-216.765C464.416,-207.535 452.547,-195.833 442.274,-185.705\" fill=\"none\" stroke=\"black\"/>\n",
       "<polygon fill=\"black\" points=\"444.713,-183.194 435.135,-178.666 439.798,-188.179 444.713,-183.194\" stroke=\"black\"/>\n",
       "</g>\n",
       "<!-- A2.Capacity -->\n",
       "<g class=\"node\" id=\"node7\"><title>A2.Capacity</title>\n",
       "<g id=\"a_node7\"><a xlink:title=\"(6) A2.Capacity\">\n",
       "<ellipse cx=\"344.245\" cy=\"-90\" fill=\"#444444\" rx=\"55.4913\" ry=\"18\" stroke=\"black\"/>\n",
       "<text fill=\"#ffffff\" font-family=\"Times,serif\" font-size=\"14.00\" text-anchor=\"middle\" x=\"344.245\" y=\"-86.3\">A2.Capacity</text>\n",
       "</a>\n",
       "</g>\n",
       "</g>\n",
       "<!-- A2.Cost -->\n",
       "<g class=\"node\" id=\"node10\"><title>A2.Cost</title>\n",
       "<g id=\"a_node10\"><a xlink:title=\"(9) A2.Cost\">\n",
       "<ellipse cx=\"273.245\" cy=\"-18\" fill=\"#444444\" rx=\"40.0939\" ry=\"18\" stroke=\"black\"/>\n",
       "<text fill=\"#ffffff\" font-family=\"Times,serif\" font-size=\"14.00\" text-anchor=\"middle\" x=\"273.245\" y=\"-14.3\">A2.Cost</text>\n",
       "</a>\n",
       "</g>\n",
       "</g>\n",
       "<!-- A2.Capacity&#45;&gt;A2.Cost -->\n",
       "<g class=\"edge\" id=\"edge2\"><title>A2.Capacity-&gt;A2.Cost</title>\n",
       "<path d=\"M327.778,-72.7646C318.416,-63.5347 306.547,-51.8329 296.274,-41.7047\" fill=\"none\" stroke=\"black\"/>\n",
       "<polygon fill=\"black\" points=\"298.713,-39.1942 289.135,-34.6658 293.798,-44.1789 298.713,-39.1942\" stroke=\"black\"/>\n",
       "</g>\n",
       "<!-- A2.Productivity -->\n",
       "<g class=\"node\" id=\"node9\"><title>A2.Productivity</title>\n",
       "<g id=\"a_node9\"><a xlink:title=\"(8) A2.Productivity\">\n",
       "<ellipse cx=\"203.245\" cy=\"-90\" fill=\"#444444\" rx=\"67.6881\" ry=\"18\" stroke=\"black\"/>\n",
       "<text fill=\"#ffffff\" font-family=\"Times,serif\" font-size=\"14.00\" text-anchor=\"middle\" x=\"203.245\" y=\"-86.3\">A2.Productivity</text>\n",
       "</a>\n",
       "</g>\n",
       "</g>\n",
       "<!-- A2.Agg_Productivity&#45;&gt;A2.Productivity -->\n",
       "<g class=\"edge\" id=\"edge4\"><title>A2.Agg_Productivity-&gt;A2.Productivity</title>\n",
       "<path d=\"M203.245,-143.697C203.245,-135.983 203.245,-126.712 203.245,-118.112\" fill=\"none\" stroke=\"black\"/>\n",
       "<polygon fill=\"black\" points=\"206.745,-118.104 203.245,-108.104 199.745,-118.104 206.745,-118.104\" stroke=\"black\"/>\n",
       "</g>\n",
       "<!-- A2.Productivity&#45;&gt;A2.Cost -->\n",
       "<g class=\"edge\" id=\"edge9\"><title>A2.Productivity-&gt;A2.Cost</title>\n",
       "<path d=\"M219.834,-72.411C228.855,-63.3901 240.157,-52.0882 250.039,-42.2065\" fill=\"none\" stroke=\"black\"/>\n",
       "<polygon fill=\"black\" points=\"252.661,-44.5341 257.257,-34.9881 247.711,-39.5843 252.661,-44.5341\" stroke=\"black\"/>\n",
       "</g>\n",
       "</g>\n",
       "</svg></div>"
      ],
      "text/plain": [
       "<IPython.core.display.HTML object>"
      ]
     },
     "metadata": {},
     "output_type": "display_data"
    }
   ],
   "source": [
    "bn=gum.loadBN(\"./aSys.o3prm\")\n",
    "gnb.showBN(bn,size=\"10\")\n"
   ]
  },
  {
   "cell_type": "code",
   "execution_count": null,
   "metadata": {
    "collapsed": true
   },
   "outputs": [],
   "source": [
    "bn.cpt(0) // et là, ça plante"
   ]
  },
  {
   "cell_type": "code",
   "execution_count": null,
   "metadata": {
    "collapsed": true
   },
   "outputs": [],
   "source": []
  }
 ],
 "metadata": {
  "kernelspec": {
   "display_name": "Python 3",
   "language": "python",
   "name": "python3"
  },
  "language_info": {
   "codemirror_mode": {
    "name": "ipython",
    "version": 3
   },
   "file_extension": ".py",
   "mimetype": "text/x-python",
   "name": "python",
   "nbconvert_exporter": "python",
   "pygments_lexer": "ipython3",
   "version": "3.5.0+"
  }
 },
 "nbformat": 4,
 "nbformat_minor": 0
}
