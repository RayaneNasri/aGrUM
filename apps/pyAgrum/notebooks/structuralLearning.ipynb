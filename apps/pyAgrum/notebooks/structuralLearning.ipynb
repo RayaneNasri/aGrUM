{
 "cells": [
  {
   "cell_type": "code",
   "execution_count": 1,
   "metadata": {
    "collapsed": false
   },
   "outputs": [],
   "source": [
    "%matplotlib inline\n",
    "from pylab import *\n",
    "import matplotlib.pyplot as plt"
   ]
  },
  {
   "cell_type": "code",
   "execution_count": 2,
   "metadata": {
    "collapsed": false
   },
   "outputs": [
    {
     "name": "stdout",
     "output_type": "stream",
     "text": [
      "pyAgrum version 0.9.2.9\n",
      "(c) Pierre-Henri Wuillemin, Christophe Gonzales, Lionel Torti\n",
      "    UPMC 2015\n",
      "\n",
      "    This is free software; see the source code for copying conditions.\n",
      "    There is ABSOLUTELY NO WARRANTY; not even for MERCHANTABILITY or\n",
      "    FITNESS FOR A PARTICULAR PURPOSE.  For details, see 'pyAgrum.warranty'.\n",
      "    \n"
     ]
    },
    {
     "data": {
      "text/html": [
       "<table width='100%'><tr><th>Library</th><th>Version</th></tr><tr><td>OS</td><td>posix [linux]</td></tr><tr><td>Python</td><td>3.5.0+ (default, Oct 11 2015, 09:05:38) \n",
       "[GCC 5.2.1 20151010]</td></tr><tr><td>IPython</td><td>4.0.0</td></tr><tr><td>MatPlotLib</td><td>1.5.0</td></tr><tr><td>Numpy</td><td>1.10.1</td></tr><tr><td>pyAgrum</td><td>0.9.2.9</td></tr></table><div align='right'><small>Wed Nov 04 19:50:40 2015 CET</small></div>"
      ],
      "text/plain": [
       "<IPython.core.display.HTML object>"
      ]
     },
     "execution_count": 2,
     "metadata": {},
     "output_type": "execute_result"
    }
   ],
   "source": [
    "import pyAgrum as gum\n",
    "import pyAgrum.lib.notebook as gnb\n",
    "gum.about()\n",
    "gnb.configuration()\n"
   ]
  },
  {
   "cell_type": "markdown",
   "metadata": {},
   "source": [
    "# Generating the database from a BN"
   ]
  },
  {
   "cell_type": "code",
   "execution_count": 26,
   "metadata": {
    "collapsed": false
   },
   "outputs": [
    {
     "data": {
      "text/html": [
       "<div align='center'><svg height=\"221pt\" viewBox=\"0.00 0.00 288.00 221.02\" width=\"288pt\" xmlns=\"http://www.w3.org/2000/svg\" xmlns:xlink=\"http://www.w3.org/1999/xlink\">\n",
       "<g class=\"graph\" id=\"graph0\" transform=\"scale(0.850084 0.850084) rotate(0) translate(4 256)\">\n",
       "<title>G</title>\n",
       "<polygon fill=\"white\" points=\"-4,4 -4,-256 334.79,-256 334.79,4 -4,4\" stroke=\"none\"/>\n",
       "<!-- visit_to_Asia? -->\n",
       "<g class=\"node\" id=\"node1\"><title>visit_to_Asia?</title>\n",
       "<g id=\"a_node1\"><a xlink:title=\"(0) visit_to_Asia?\">\n",
       "<ellipse cx=\"61.7445\" cy=\"-234\" fill=\"#444444\" rx=\"61.99\" ry=\"18\" stroke=\"black\"/>\n",
       "<text fill=\"#ffffff\" font-family=\"Times,serif\" font-size=\"14.00\" text-anchor=\"middle\" x=\"61.7445\" y=\"-230.3\">visit_to_Asia?</text>\n",
       "</a>\n",
       "</g>\n",
       "</g>\n",
       "<!-- tuberculosis? -->\n",
       "<g class=\"node\" id=\"node2\"><title>tuberculosis?</title>\n",
       "<g id=\"a_node2\"><a xlink:title=\"(1) tuberculosis?\">\n",
       "<ellipse cx=\"61.7445\" cy=\"-162\" fill=\"#444444\" rx=\"57.3905\" ry=\"18\" stroke=\"black\"/>\n",
       "<text fill=\"#ffffff\" font-family=\"Times,serif\" font-size=\"14.00\" text-anchor=\"middle\" x=\"61.7445\" y=\"-158.3\">tuberculosis?</text>\n",
       "</a>\n",
       "</g>\n",
       "</g>\n",
       "<!-- visit_to_Asia?&#45;&gt;tuberculosis? -->\n",
       "<g class=\"edge\" id=\"edge1\"><title>visit_to_Asia?-&gt;tuberculosis?</title>\n",
       "<path d=\"M61.7445,-215.697C61.7445,-207.983 61.7445,-198.712 61.7445,-190.112\" fill=\"none\" stroke=\"black\"/>\n",
       "<polygon fill=\"black\" points=\"65.2446,-190.104 61.7445,-180.104 58.2446,-190.104 65.2446,-190.104\" stroke=\"black\"/>\n",
       "</g>\n",
       "<!-- tuberculos_or_cancer? -->\n",
       "<g class=\"node\" id=\"node3\"><title>tuberculos_or_cancer?</title>\n",
       "<g id=\"a_node3\"><a xlink:title=\"(2) tuberculos_or_cancer?\">\n",
       "<ellipse cx=\"122.745\" cy=\"-90\" fill=\"#444444\" rx=\"90.1842\" ry=\"18\" stroke=\"black\"/>\n",
       "<text fill=\"#ffffff\" font-family=\"Times,serif\" font-size=\"14.00\" text-anchor=\"middle\" x=\"122.745\" y=\"-86.3\">tuberculos_or_cancer?</text>\n",
       "</a>\n",
       "</g>\n",
       "</g>\n",
       "<!-- tuberculosis?&#45;&gt;tuberculos_or_cancer? -->\n",
       "<g class=\"edge\" id=\"edge6\"><title>tuberculosis?-&gt;tuberculos_or_cancer?</title>\n",
       "<path d=\"M76.2007,-144.411C83.6874,-135.82 92.977,-125.159 101.283,-115.627\" fill=\"none\" stroke=\"black\"/>\n",
       "<polygon fill=\"black\" points=\"104.037,-117.795 107.968,-107.956 98.7599,-113.196 104.037,-117.795\" stroke=\"black\"/>\n",
       "</g>\n",
       "<!-- positive_XraY? -->\n",
       "<g class=\"node\" id=\"node4\"><title>positive_XraY?</title>\n",
       "<g id=\"a_node4\"><a xlink:title=\"(3) positive_XraY?\">\n",
       "<ellipse cx=\"122.745\" cy=\"-18\" fill=\"#444444\" rx=\"66.0889\" ry=\"18\" stroke=\"black\"/>\n",
       "<text fill=\"#ffffff\" font-family=\"Times,serif\" font-size=\"14.00\" text-anchor=\"middle\" x=\"122.745\" y=\"-14.3\">positive_XraY?</text>\n",
       "</a>\n",
       "</g>\n",
       "</g>\n",
       "<!-- tuberculos_or_cancer?&#45;&gt;positive_XraY? -->\n",
       "<g class=\"edge\" id=\"edge3\"><title>tuberculos_or_cancer?-&gt;positive_XraY?</title>\n",
       "<path d=\"M122.745,-71.6966C122.745,-63.9827 122.745,-54.7125 122.745,-46.1124\" fill=\"none\" stroke=\"black\"/>\n",
       "<polygon fill=\"black\" points=\"126.245,-46.1043 122.745,-36.1043 119.245,-46.1044 126.245,-46.1043\" stroke=\"black\"/>\n",
       "</g>\n",
       "<!-- dyspnoea? -->\n",
       "<g class=\"node\" id=\"node8\"><title>dyspnoea?</title>\n",
       "<g id=\"a_node8\"><a xlink:title=\"(7) dyspnoea?\">\n",
       "<ellipse cx=\"267.745\" cy=\"-18\" fill=\"#444444\" rx=\"48.1917\" ry=\"18\" stroke=\"black\"/>\n",
       "<text fill=\"#ffffff\" font-family=\"Times,serif\" font-size=\"14.00\" text-anchor=\"middle\" x=\"267.745\" y=\"-14.3\">dyspnoea?</text>\n",
       "</a>\n",
       "</g>\n",
       "</g>\n",
       "<!-- tuberculos_or_cancer?&#45;&gt;dyspnoea? -->\n",
       "<g class=\"edge\" id=\"edge4\"><title>tuberculos_or_cancer?-&gt;dyspnoea?</title>\n",
       "<path d=\"M155.647,-73.1159C177.826,-62.4091 207.136,-48.2595 230.222,-37.1142\" fill=\"none\" stroke=\"black\"/>\n",
       "<polygon fill=\"black\" points=\"231.892,-40.1949 239.375,-32.6954 228.848,-33.891 231.892,-40.1949\" stroke=\"black\"/>\n",
       "</g>\n",
       "<!-- lung_cancer? -->\n",
       "<g class=\"node\" id=\"node5\"><title>lung_cancer?</title>\n",
       "<g id=\"a_node5\"><a xlink:title=\"(4) lung_cancer?\">\n",
       "<ellipse cx=\"194.745\" cy=\"-162\" fill=\"#444444\" rx=\"57.6901\" ry=\"18\" stroke=\"black\"/>\n",
       "<text fill=\"#ffffff\" font-family=\"Times,serif\" font-size=\"14.00\" text-anchor=\"middle\" x=\"194.745\" y=\"-158.3\">lung_cancer?</text>\n",
       "</a>\n",
       "</g>\n",
       "</g>\n",
       "<!-- lung_cancer?&#45;&gt;tuberculos_or_cancer? -->\n",
       "<g class=\"edge\" id=\"edge5\"><title>lung_cancer?-&gt;tuberculos_or_cancer?</title>\n",
       "<path d=\"M178.045,-144.765C169.041,-136.011 157.75,-125.033 147.721,-115.283\" fill=\"none\" stroke=\"black\"/>\n",
       "<polygon fill=\"black\" points=\"149.967,-112.585 140.358,-108.124 145.088,-117.604 149.967,-112.585\" stroke=\"black\"/>\n",
       "</g>\n",
       "<!-- smoking? -->\n",
       "<g class=\"node\" id=\"node6\"><title>smoking?</title>\n",
       "<g id=\"a_node6\"><a xlink:title=\"(5) smoking?\">\n",
       "<ellipse cx=\"237.745\" cy=\"-234\" fill=\"#444444\" rx=\"45.4919\" ry=\"18\" stroke=\"black\"/>\n",
       "<text fill=\"#ffffff\" font-family=\"Times,serif\" font-size=\"14.00\" text-anchor=\"middle\" x=\"237.745\" y=\"-230.3\">smoking?</text>\n",
       "</a>\n",
       "</g>\n",
       "</g>\n",
       "<!-- smoking?&#45;&gt;lung_cancer? -->\n",
       "<g class=\"edge\" id=\"edge7\"><title>smoking?-&gt;lung_cancer?</title>\n",
       "<path d=\"M227.554,-216.411C222.435,-208.077 216.12,-197.797 210.402,-188.488\" fill=\"none\" stroke=\"black\"/>\n",
       "<polygon fill=\"black\" points=\"213.377,-186.645 205.16,-179.956 207.412,-190.309 213.377,-186.645\" stroke=\"black\"/>\n",
       "</g>\n",
       "<!-- bronchitis? -->\n",
       "<g class=\"node\" id=\"node7\"><title>bronchitis?</title>\n",
       "<g id=\"a_node7\"><a xlink:title=\"(6) bronchitis?\">\n",
       "<ellipse cx=\"280.745\" cy=\"-90\" fill=\"#444444\" rx=\"50.0912\" ry=\"18\" stroke=\"black\"/>\n",
       "<text fill=\"#ffffff\" font-family=\"Times,serif\" font-size=\"14.00\" text-anchor=\"middle\" x=\"280.745\" y=\"-86.3\">bronchitis?</text>\n",
       "</a>\n",
       "</g>\n",
       "</g>\n",
       "<!-- smoking?&#45;&gt;bronchitis? -->\n",
       "<g class=\"edge\" id=\"edge2\"><title>smoking?-&gt;bronchitis?</title>\n",
       "<path d=\"M246.482,-216.186C251.517,-205.946 257.642,-192.474 261.745,-180 268.439,-159.645 273.373,-135.879 276.533,-118.028\" fill=\"none\" stroke=\"black\"/>\n",
       "<polygon fill=\"black\" points=\"280.009,-118.461 278.23,-108.017 273.108,-117.292 280.009,-118.461\" stroke=\"black\"/>\n",
       "</g>\n",
       "<!-- bronchitis?&#45;&gt;dyspnoea? -->\n",
       "<g class=\"edge\" id=\"edge8\"><title>bronchitis?-&gt;dyspnoea?</title>\n",
       "<path d=\"M277.531,-71.6966C276.098,-63.9827 274.377,-54.7125 272.78,-46.1124\" fill=\"none\" stroke=\"black\"/>\n",
       "<polygon fill=\"black\" points=\"276.188,-45.2971 270.921,-36.1043 269.306,-46.5753 276.188,-45.2971\" stroke=\"black\"/>\n",
       "</g>\n",
       "</g>\n",
       "</svg></div>"
      ],
      "text/plain": [
       "<IPython.core.display.HTML object>"
      ]
     },
     "metadata": {},
     "output_type": "display_data"
    }
   ],
   "source": [
    "bn=gum.loadBN(\"../resources/asia.bif\")\n",
    "gnb.showBN(bn)"
   ]
  },
  {
   "cell_type": "code",
   "execution_count": 27,
   "metadata": {
    "collapsed": false
   },
   "outputs": [
    {
     "name": "stdout",
     "output_type": "stream",
     "text": [
      " sample_asia.csv : [ ######################################################### ] 100%\n",
      "Log2-Likelihood : -1615599.1742011285\n",
      "\n"
     ]
    },
    {
     "data": {
      "text/plain": [
       "-1615599.1742011285"
      ]
     },
     "execution_count": 27,
     "metadata": {},
     "output_type": "execute_result"
    }
   ],
   "source": [
    "# generateCSV from a BN : the loglikelihood of the base is returned\n",
    "import pyAgrum.lib.bn2csv as bn2csv\n",
    "bn2csv.generateCSV(bn,\"sample_asia.csv\",500000,True)"
   ]
  },
  {
   "cell_type": "code",
   "execution_count": 5,
   "metadata": {
    "collapsed": false
   },
   "outputs": [
    {
     "name": "stdout",
     "output_type": "stream",
     "text": [
      "===\n",
      "  Size of the generated database\n",
      "===\n",
      "500001\n",
      "\n",
      "===\n",
      "  First lines\n",
      "===\n",
      "smoking?,lung_cancer?,bronchitis?,visit_to_Asia?,tuberculosis?,tuberculos_or_cancer?,dyspnoea?,positive_XraY?\n",
      "0,1,0,1,1,1,0,0\n",
      "0,1,1,1,1,1,0,1\n",
      "1,1,1,1,1,1,1,1\n",
      "1,1,1,1,1,1,1,1\n",
      "1,1,1,1,1,1,1,1\n",
      "1,1,1,1,1,1,1,1\n",
      "0,1,0,1,1,1,1,1\n",
      "0,1,0,1,1,1,0,1\n",
      "1,1,1,1,1,1,0,1\n",
      "\n"
     ]
    }
   ],
   "source": [
    "from pyAgrum.lib.utils.oslike import wc_l,head\n",
    "print(\"===\\n  Size of the generated database\\n===\")\n",
    "wc_l(\"sample_asia.csv\")\n",
    "print(\"\\n===\\n  First lines\\n===\")\n",
    "head(\"sample_asia.csv\")"
   ]
  },
  {
   "cell_type": "code",
   "execution_count": 6,
   "metadata": {
    "collapsed": false
   },
   "outputs": [
    {
     "data": {
      "text/plain": [
       "('smoking?',\n",
       " 'lung_cancer?',\n",
       " 'bronchitis?',\n",
       " 'visit_to_Asia?',\n",
       " 'tuberculosis?',\n",
       " 'tuberculos_or_cancer?',\n",
       " 'dyspnoea?',\n",
       " 'positive_XraY?')"
      ]
     },
     "execution_count": 6,
     "metadata": {},
     "output_type": "execute_result"
    }
   ],
   "source": [
    "learner=gum.BNLearner(\"sample_asia.csv\")\n",
    "learner.names()"
   ]
  },
  {
   "cell_type": "code",
   "execution_count": 7,
   "metadata": {
    "collapsed": false
   },
   "outputs": [
    {
     "data": {
      "text/plain": [
       "3"
      ]
     },
     "execution_count": 7,
     "metadata": {},
     "output_type": "execute_result"
    }
   ],
   "source": [
    "learner.idFromName('visit_to_Asia?') # first row is 0"
   ]
  },
  {
   "cell_type": "code",
   "execution_count": 8,
   "metadata": {
    "collapsed": false
   },
   "outputs": [
    {
     "data": {
      "text/plain": [
       "'tuberculosis?'"
      ]
     },
     "execution_count": 8,
     "metadata": {},
     "output_type": "execute_result"
    }
   ],
   "source": [
    "learner.nameFromId(4)"
   ]
  },
  {
   "cell_type": "markdown",
   "metadata": {},
   "source": [
    "# Parameters learning from the database"
   ]
  },
  {
   "cell_type": "markdown",
   "metadata": {},
   "source": [
    "We give the $bn$ as a parameter for the learner in order to have the variables and the order of the labels for each variables. Please try to remove the argument $bn$ in the first line below to see the difference ..."
   ]
  },
  {
   "cell_type": "code",
   "execution_count": 9,
   "metadata": {
    "collapsed": false
   },
   "outputs": [
    {
     "data": {
      "text/html": [
       "<div align='center'><svg height=\"221pt\" viewBox=\"0.00 0.00 288.00 221.02\" width=\"288pt\" xmlns=\"http://www.w3.org/2000/svg\" xmlns:xlink=\"http://www.w3.org/1999/xlink\">\n",
       "<g class=\"graph\" id=\"graph0\" transform=\"scale(0.850084 0.850084) rotate(0) translate(4 256)\">\n",
       "<title>G</title>\n",
       "<polygon fill=\"white\" points=\"-4,4 -4,-256 334.79,-256 334.79,4 -4,4\" stroke=\"none\"/>\n",
       "<!-- smoking? -->\n",
       "<g class=\"node\" id=\"node1\"><title>smoking?</title>\n",
       "<g id=\"a_node1\"><a xlink:title=\"(0) smoking?\">\n",
       "<ellipse cx=\"93.0456\" cy=\"-234\" fill=\"#444444\" rx=\"45.4919\" ry=\"18\" stroke=\"black\"/>\n",
       "<text fill=\"#ffffff\" font-family=\"Times,serif\" font-size=\"14.00\" text-anchor=\"middle\" x=\"93.0456\" y=\"-230.3\">smoking?</text>\n",
       "</a>\n",
       "</g>\n",
       "</g>\n",
       "<!-- lung_cancer? -->\n",
       "<g class=\"node\" id=\"node2\"><title>lung_cancer?</title>\n",
       "<g id=\"a_node2\"><a xlink:title=\"(1) lung_cancer?\">\n",
       "<ellipse cx=\"136.046\" cy=\"-162\" fill=\"#444444\" rx=\"57.6901\" ry=\"18\" stroke=\"black\"/>\n",
       "<text fill=\"#ffffff\" font-family=\"Times,serif\" font-size=\"14.00\" text-anchor=\"middle\" x=\"136.046\" y=\"-158.3\">lung_cancer?</text>\n",
       "</a>\n",
       "</g>\n",
       "</g>\n",
       "<!-- smoking?&#45;&gt;lung_cancer? -->\n",
       "<g class=\"edge\" id=\"edge3\"><title>smoking?-&gt;lung_cancer?</title>\n",
       "<path d=\"M103.236,-216.411C108.355,-208.077 114.67,-197.797 120.388,-188.488\" fill=\"none\" stroke=\"black\"/>\n",
       "<polygon fill=\"black\" points=\"123.378,-190.309 125.63,-179.956 117.413,-186.645 123.378,-190.309\" stroke=\"black\"/>\n",
       "</g>\n",
       "<!-- bronchitis? -->\n",
       "<g class=\"node\" id=\"node3\"><title>bronchitis?</title>\n",
       "<g id=\"a_node3\"><a xlink:title=\"(2) bronchitis?\">\n",
       "<ellipse cx=\"50.0456\" cy=\"-90\" fill=\"#444444\" rx=\"50.0912\" ry=\"18\" stroke=\"black\"/>\n",
       "<text fill=\"#ffffff\" font-family=\"Times,serif\" font-size=\"14.00\" text-anchor=\"middle\" x=\"50.0456\" y=\"-86.3\">bronchitis?</text>\n",
       "</a>\n",
       "</g>\n",
       "</g>\n",
       "<!-- smoking?&#45;&gt;bronchitis? -->\n",
       "<g class=\"edge\" id=\"edge5\"><title>smoking?-&gt;bronchitis?</title>\n",
       "<path d=\"M84.3084,-216.186C79.2732,-205.946 73.1483,-192.474 69.0456,-180 62.3506,-159.645 57.4168,-135.879 54.2571,-118.028\" fill=\"none\" stroke=\"black\"/>\n",
       "<polygon fill=\"black\" points=\"57.6822,-117.292 52.5604,-108.017 50.7807,-118.461 57.6822,-117.292\" stroke=\"black\"/>\n",
       "</g>\n",
       "<!-- tuberculos_or_cancer? -->\n",
       "<g class=\"node\" id=\"node6\"><title>tuberculos_or_cancer?</title>\n",
       "<g id=\"a_node6\"><a xlink:title=\"(5) tuberculos_or_cancer?\">\n",
       "<ellipse cx=\"208.046\" cy=\"-90\" fill=\"#444444\" rx=\"90.1842\" ry=\"18\" stroke=\"black\"/>\n",
       "<text fill=\"#ffffff\" font-family=\"Times,serif\" font-size=\"14.00\" text-anchor=\"middle\" x=\"208.046\" y=\"-86.3\">tuberculos_or_cancer?</text>\n",
       "</a>\n",
       "</g>\n",
       "</g>\n",
       "<!-- lung_cancer?&#45;&gt;tuberculos_or_cancer? -->\n",
       "<g class=\"edge\" id=\"edge7\"><title>lung_cancer?-&gt;tuberculos_or_cancer?</title>\n",
       "<path d=\"M152.745,-144.765C161.749,-136.011 173.04,-125.033 183.069,-115.283\" fill=\"none\" stroke=\"black\"/>\n",
       "<polygon fill=\"black\" points=\"185.702,-117.604 190.432,-108.124 180.823,-112.585 185.702,-117.604\" stroke=\"black\"/>\n",
       "</g>\n",
       "<!-- dyspnoea? -->\n",
       "<g class=\"node\" id=\"node7\"><title>dyspnoea?</title>\n",
       "<g id=\"a_node7\"><a xlink:title=\"(6) dyspnoea?\">\n",
       "<ellipse cx=\"63.0456\" cy=\"-18\" fill=\"#444444\" rx=\"48.1917\" ry=\"18\" stroke=\"black\"/>\n",
       "<text fill=\"#ffffff\" font-family=\"Times,serif\" font-size=\"14.00\" text-anchor=\"middle\" x=\"63.0456\" y=\"-14.3\">dyspnoea?</text>\n",
       "</a>\n",
       "</g>\n",
       "</g>\n",
       "<!-- bronchitis?&#45;&gt;dyspnoea? -->\n",
       "<g class=\"edge\" id=\"edge4\"><title>bronchitis?-&gt;dyspnoea?</title>\n",
       "<path d=\"M53.259,-71.6966C54.6916,-63.9827 56.4132,-54.7125 58.0104,-46.1124\" fill=\"none\" stroke=\"black\"/>\n",
       "<polygon fill=\"black\" points=\"61.4842,-46.5753 59.869,-36.1043 54.6019,-45.2971 61.4842,-46.5753\" stroke=\"black\"/>\n",
       "</g>\n",
       "<!-- visit_to_Asia? -->\n",
       "<g class=\"node\" id=\"node4\"><title>visit_to_Asia?</title>\n",
       "<g id=\"a_node4\"><a xlink:title=\"(3) visit_to_Asia?\">\n",
       "<ellipse cx=\"269.046\" cy=\"-234\" fill=\"#444444\" rx=\"61.99\" ry=\"18\" stroke=\"black\"/>\n",
       "<text fill=\"#ffffff\" font-family=\"Times,serif\" font-size=\"14.00\" text-anchor=\"middle\" x=\"269.046\" y=\"-230.3\">visit_to_Asia?</text>\n",
       "</a>\n",
       "</g>\n",
       "</g>\n",
       "<!-- tuberculosis? -->\n",
       "<g class=\"node\" id=\"node5\"><title>tuberculosis?</title>\n",
       "<g id=\"a_node5\"><a xlink:title=\"(4) tuberculosis?\">\n",
       "<ellipse cx=\"269.046\" cy=\"-162\" fill=\"#444444\" rx=\"57.3905\" ry=\"18\" stroke=\"black\"/>\n",
       "<text fill=\"#ffffff\" font-family=\"Times,serif\" font-size=\"14.00\" text-anchor=\"middle\" x=\"269.046\" y=\"-158.3\">tuberculosis?</text>\n",
       "</a>\n",
       "</g>\n",
       "</g>\n",
       "<!-- visit_to_Asia?&#45;&gt;tuberculosis? -->\n",
       "<g class=\"edge\" id=\"edge1\"><title>visit_to_Asia?-&gt;tuberculosis?</title>\n",
       "<path d=\"M269.046,-215.697C269.046,-207.983 269.046,-198.712 269.046,-190.112\" fill=\"none\" stroke=\"black\"/>\n",
       "<polygon fill=\"black\" points=\"272.546,-190.104 269.046,-180.104 265.546,-190.104 272.546,-190.104\" stroke=\"black\"/>\n",
       "</g>\n",
       "<!-- tuberculosis?&#45;&gt;tuberculos_or_cancer? -->\n",
       "<g class=\"edge\" id=\"edge8\"><title>tuberculosis?-&gt;tuberculos_or_cancer?</title>\n",
       "<path d=\"M254.589,-144.411C247.103,-135.82 237.813,-125.159 229.507,-115.627\" fill=\"none\" stroke=\"black\"/>\n",
       "<polygon fill=\"black\" points=\"232.03,-113.196 222.822,-107.956 226.753,-117.795 232.03,-113.196\" stroke=\"black\"/>\n",
       "</g>\n",
       "<!-- tuberculos_or_cancer?&#45;&gt;dyspnoea? -->\n",
       "<g class=\"edge\" id=\"edge2\"><title>tuberculos_or_cancer?-&gt;dyspnoea?</title>\n",
       "<path d=\"M175.143,-73.1159C152.964,-62.4091 123.654,-48.2595 100.568,-37.1142\" fill=\"none\" stroke=\"black\"/>\n",
       "<polygon fill=\"black\" points=\"101.942,-33.891 91.4146,-32.6954 98.8985,-40.1949 101.942,-33.891\" stroke=\"black\"/>\n",
       "</g>\n",
       "<!-- positive_XraY? -->\n",
       "<g class=\"node\" id=\"node8\"><title>positive_XraY?</title>\n",
       "<g id=\"a_node8\"><a xlink:title=\"(7) positive_XraY?\">\n",
       "<ellipse cx=\"208.046\" cy=\"-18\" fill=\"#444444\" rx=\"66.0889\" ry=\"18\" stroke=\"black\"/>\n",
       "<text fill=\"#ffffff\" font-family=\"Times,serif\" font-size=\"14.00\" text-anchor=\"middle\" x=\"208.046\" y=\"-14.3\">positive_XraY?</text>\n",
       "</a>\n",
       "</g>\n",
       "</g>\n",
       "<!-- tuberculos_or_cancer?&#45;&gt;positive_XraY? -->\n",
       "<g class=\"edge\" id=\"edge6\"><title>tuberculos_or_cancer?-&gt;positive_XraY?</title>\n",
       "<path d=\"M208.046,-71.6966C208.046,-63.9827 208.046,-54.7125 208.046,-46.1124\" fill=\"none\" stroke=\"black\"/>\n",
       "<polygon fill=\"black\" points=\"211.546,-46.1043 208.046,-36.1043 204.546,-46.1044 211.546,-46.1043\" stroke=\"black\"/>\n",
       "</g>\n",
       "</g>\n",
       "</svg></div>"
      ],
      "text/plain": [
       "<IPython.core.display.HTML object>"
      ]
     },
     "metadata": {},
     "output_type": "display_data"
    }
   ],
   "source": [
    "learner=gum.BNLearner('sample_asia.csv',bn)\n",
    "bn2=learner.learnParameters(bn)\n",
    "gnb.showBN(bn2)"
   ]
  },
  {
   "cell_type": "code",
   "execution_count": 24,
   "metadata": {
    "collapsed": false
   },
   "outputs": [
    {
     "data": {
      "text/html": [
       "<table width=\"100%\"><tr><td style=\"text-align:center;\">original BN</td><td style=\"text-align:center;\">Learned BN</td></tr><tr><td style=\"text-align:right;\"><pre>|---------------|\n",
       "|visit_to_Asia? |\n",
       "|   0      1    |\n",
       "|---------------|\n",
       "| 0.0100 0.9900 |\n",
       "|---------------|</pre></td><td style=\"text-align:right;\"><pre>|---------------|\n",
       "|visit_to_Asia? |\n",
       "|   1      0    |\n",
       "|---------------|\n",
       "| 0.9899 0.0101 |\n",
       "|---------------|</pre></td></tr><tr><td style=\"text-align:right;\"><pre>                |---------------|\n",
       "----------------| tuberculosis? |\n",
       " visit_to_Asia? |   0      1    |\n",
       "----------------|---------------|\n",
       "       0        | 0.0500 0.9500 |\n",
       "       1        | 0.0100 0.9900 |\n",
       "----------------|---------------|</pre></td><td style=\"text-align:right;\"><pre>                |---------------|\n",
       "----------------| tuberculosis? |\n",
       " visit_to_Asia? |   1      0    |\n",
       "----------------|---------------|\n",
       "       1        | 0.9901 0.0099 |\n",
       "       0        | 0.9499 0.0501 |\n",
       "----------------|---------------|</pre></td></tr></table>"
      ],
      "text/plain": [
       "<IPython.core.display.HTML object>"
      ]
     },
     "execution_count": 24,
     "metadata": {},
     "output_type": "execute_result"
    }
   ],
   "source": [
    "from pyAgrum.lib.pretty_print import pretty_cpt\n",
    "from IPython.display import HTML\n",
    "\n",
    "HTML('<table width=\"100%\"><tr><td style=\"text-align:center;\">original BN</td>'+\n",
    "     '<td style=\"text-align:center;\">Learned BN</td></tr>'+\n",
    "     '<tr><td style=\"text-align:right;\"><pre>'+\n",
    "     pretty_cpt (bn.cpt (bn.idFromName('visit_to_Asia?')))\n",
    "    +'</pre></td><td style=\"text-align:right;\"><pre>'+\n",
    "     pretty_cpt(bn2.cpt(bn2.idFromName('visit_to_Asia?')))\n",
    "     +'</pre></td></tr><tr><td style=\"text-align:right;\"><pre>'+\n",
    "     pretty_cpt (bn.cpt (bn.idFromName('tuberculosis?')))\n",
    "    +'</pre></td><td style=\"text-align:right;\"><pre>'+\n",
    "     pretty_cpt(bn2.cpt(bn2.idFromName('tuberculosis?')))\n",
    "     +'</pre></td></tr></table>')"
   ]
  },
  {
   "cell_type": "markdown",
   "metadata": {},
   "source": [
    "# Structural learning a BN from the database"
   ]
  },
  {
   "cell_type": "markdown",
   "metadata": {},
   "source": [
    "## Different algorithms"
   ]
  },
  {
   "cell_type": "markdown",
   "metadata": {},
   "source": [
    "For now, there are three algorithms that are wrapped in pyAgrum : LocalSearchWithTabuList,"
   ]
  },
  {
   "cell_type": "code",
   "execution_count": 11,
   "metadata": {
    "collapsed": false
   },
   "outputs": [
    {
     "name": "stdout",
     "output_type": "stream",
     "text": [
      "Learned in 3.333524s\n"
     ]
    },
    {
     "data": {
      "text/html": [
       "<div align='center'><svg height=\"288pt\" viewBox=\"0.00 0.00 244.37 288.00\" width=\"244pt\" xmlns=\"http://www.w3.org/2000/svg\" xmlns:xlink=\"http://www.w3.org/1999/xlink\">\n",
       "<g class=\"graph\" id=\"graph0\" transform=\"scale(0.86747 0.86747) rotate(0) translate(4 328)\">\n",
       "<title>G</title>\n",
       "<polygon fill=\"white\" points=\"-4,4 -4,-328 277.708,-328 277.708,4 -4,4\" stroke=\"none\"/>\n",
       "<!-- smoking? -->\n",
       "<g class=\"node\" id=\"node1\"><title>smoking?</title>\n",
       "<g id=\"a_node1\"><a xlink:title=\"(0) smoking?\">\n",
       "<ellipse cx=\"213.366\" cy=\"-234\" fill=\"#444444\" rx=\"45.4919\" ry=\"18\" stroke=\"black\"/>\n",
       "<text fill=\"#ffffff\" font-family=\"Times,serif\" font-size=\"14.00\" text-anchor=\"middle\" x=\"213.366\" y=\"-230.3\">smoking?</text>\n",
       "</a>\n",
       "</g>\n",
       "</g>\n",
       "<!-- lung_cancer? -->\n",
       "<g class=\"node\" id=\"node2\"><title>lung_cancer?</title>\n",
       "<g id=\"a_node2\"><a xlink:title=\"(1) lung_cancer?\">\n",
       "<ellipse cx=\"215.366\" cy=\"-162\" fill=\"#444444\" rx=\"57.6901\" ry=\"18\" stroke=\"black\"/>\n",
       "<text fill=\"#ffffff\" font-family=\"Times,serif\" font-size=\"14.00\" text-anchor=\"middle\" x=\"215.366\" y=\"-158.3\">lung_cancer?</text>\n",
       "</a>\n",
       "</g>\n",
       "</g>\n",
       "<!-- smoking?&#45;&gt;lung_cancer? -->\n",
       "<g class=\"edge\" id=\"edge4\"><title>smoking?-&gt;lung_cancer?</title>\n",
       "<path d=\"M213.861,-215.697C214.081,-207.983 214.346,-198.712 214.591,-190.112\" fill=\"none\" stroke=\"black\"/>\n",
       "<polygon fill=\"black\" points=\"218.09,-190.2 214.877,-180.104 211.093,-190 218.09,-190.2\" stroke=\"black\"/>\n",
       "</g>\n",
       "<!-- tuberculos_or_cancer? -->\n",
       "<g class=\"node\" id=\"node6\"><title>tuberculos_or_cancer?</title>\n",
       "<g id=\"a_node6\"><a xlink:title=\"(5) tuberculos_or_cancer?\">\n",
       "<ellipse cx=\"183.366\" cy=\"-90\" fill=\"#444444\" rx=\"90.1842\" ry=\"18\" stroke=\"black\"/>\n",
       "<text fill=\"#ffffff\" font-family=\"Times,serif\" font-size=\"14.00\" text-anchor=\"middle\" x=\"183.366\" y=\"-86.3\">tuberculos_or_cancer?</text>\n",
       "</a>\n",
       "</g>\n",
       "</g>\n",
       "<!-- lung_cancer?&#45;&gt;tuberculos_or_cancer? -->\n",
       "<g class=\"edge\" id=\"edge5\"><title>lung_cancer?-&gt;tuberculos_or_cancer?</title>\n",
       "<path d=\"M207.62,-144.055C203.979,-136.091 199.554,-126.411 195.485,-117.51\" fill=\"none\" stroke=\"black\"/>\n",
       "<polygon fill=\"black\" points=\"198.604,-115.915 191.263,-108.275 192.238,-118.825 198.604,-115.915\" stroke=\"black\"/>\n",
       "</g>\n",
       "<!-- bronchitis? -->\n",
       "<g class=\"node\" id=\"node3\"><title>bronchitis?</title>\n",
       "<g id=\"a_node3\"><a xlink:title=\"(2) bronchitis?\">\n",
       "<ellipse cx=\"105.366\" cy=\"-306\" fill=\"#444444\" rx=\"50.0912\" ry=\"18\" stroke=\"black\"/>\n",
       "<text fill=\"#ffffff\" font-family=\"Times,serif\" font-size=\"14.00\" text-anchor=\"middle\" x=\"105.366\" y=\"-302.3\">bronchitis?</text>\n",
       "</a>\n",
       "</g>\n",
       "</g>\n",
       "<!-- bronchitis?&#45;&gt;smoking? -->\n",
       "<g class=\"edge\" id=\"edge8\"><title>bronchitis?-&gt;smoking?</title>\n",
       "<path d=\"M128.535,-289.983C144.158,-279.857 164.959,-266.375 182.052,-255.296\" fill=\"none\" stroke=\"black\"/>\n",
       "<polygon fill=\"black\" points=\"184.119,-258.128 190.606,-249.752 180.311,-252.254 184.119,-258.128\" stroke=\"black\"/>\n",
       "</g>\n",
       "<!-- dyspnoea? -->\n",
       "<g class=\"node\" id=\"node7\"><title>dyspnoea?</title>\n",
       "<g id=\"a_node7\"><a xlink:title=\"(6) dyspnoea?\">\n",
       "<ellipse cx=\"54.3661\" cy=\"-18\" fill=\"#444444\" rx=\"48.1917\" ry=\"18\" stroke=\"black\"/>\n",
       "<text fill=\"#ffffff\" font-family=\"Times,serif\" font-size=\"14.00\" text-anchor=\"middle\" x=\"54.3661\" y=\"-14.3\">dyspnoea?</text>\n",
       "</a>\n",
       "</g>\n",
       "</g>\n",
       "<!-- bronchitis?&#45;&gt;dyspnoea? -->\n",
       "<g class=\"edge\" id=\"edge3\"><title>bronchitis?-&gt;dyspnoea?</title>\n",
       "<path d=\"M68.9417,-293.315C49.6438,-285.055 27.6519,-271.856 16.3661,-252 -21.842,-184.777 16.9014,-90.0944 39.9289,-44.9322\" fill=\"none\" stroke=\"black\"/>\n",
       "<polygon fill=\"black\" points=\"43.1623,-46.3026 44.7074,-35.8211 36.9631,-43.0513 43.1623,-46.3026\" stroke=\"black\"/>\n",
       "</g>\n",
       "<!-- visit_to_Asia? -->\n",
       "<g class=\"node\" id=\"node4\"><title>visit_to_Asia?</title>\n",
       "<g id=\"a_node4\"><a xlink:title=\"(3) visit_to_Asia?\">\n",
       "<ellipse cx=\"87.3661\" cy=\"-234\" fill=\"#444444\" rx=\"61.99\" ry=\"18\" stroke=\"black\"/>\n",
       "<text fill=\"#ffffff\" font-family=\"Times,serif\" font-size=\"14.00\" text-anchor=\"middle\" x=\"87.3661\" y=\"-230.3\">visit_to_Asia?</text>\n",
       "</a>\n",
       "</g>\n",
       "</g>\n",
       "<!-- tuberculosis? -->\n",
       "<g class=\"node\" id=\"node5\"><title>tuberculosis?</title>\n",
       "<g id=\"a_node5\"><a xlink:title=\"(4) tuberculosis?\">\n",
       "<ellipse cx=\"82.3661\" cy=\"-162\" fill=\"#444444\" rx=\"57.3905\" ry=\"18\" stroke=\"black\"/>\n",
       "<text fill=\"#ffffff\" font-family=\"Times,serif\" font-size=\"14.00\" text-anchor=\"middle\" x=\"82.3661\" y=\"-158.3\">tuberculosis?</text>\n",
       "</a>\n",
       "</g>\n",
       "</g>\n",
       "<!-- visit_to_Asia?&#45;&gt;tuberculosis? -->\n",
       "<g class=\"edge\" id=\"edge2\"><title>visit_to_Asia?-&gt;tuberculosis?</title>\n",
       "<path d=\"M86.1302,-215.697C85.5792,-207.983 84.917,-198.712 84.3027,-190.112\" fill=\"none\" stroke=\"black\"/>\n",
       "<polygon fill=\"black\" points=\"87.7915,-189.83 83.5879,-180.104 80.8093,-190.328 87.7915,-189.83\" stroke=\"black\"/>\n",
       "</g>\n",
       "<!-- tuberculosis?&#45;&gt;tuberculos_or_cancer? -->\n",
       "<g class=\"edge\" id=\"edge7\"><title>tuberculosis?-&gt;tuberculos_or_cancer?</title>\n",
       "<path d=\"M105.033,-145.291C118.646,-135.856 136.183,-123.701 151.212,-113.285\" fill=\"none\" stroke=\"black\"/>\n",
       "<polygon fill=\"black\" points=\"153.497,-115.96 159.722,-107.387 149.509,-110.207 153.497,-115.96\" stroke=\"black\"/>\n",
       "</g>\n",
       "<!-- tuberculosis?&#45;&gt;dyspnoea? -->\n",
       "<g class=\"edge\" id=\"edge9\"><title>tuberculosis?-&gt;dyspnoea?</title>\n",
       "<path d=\"M78.9887,-143.871C74.1956,-119.564 65.3726,-74.8187 59.6927,-46.0132\" fill=\"none\" stroke=\"black\"/>\n",
       "<polygon fill=\"black\" points=\"63.1241,-45.3232 57.7556,-36.1893 56.2563,-46.6775 63.1241,-45.3232\" stroke=\"black\"/>\n",
       "</g>\n",
       "<!-- tuberculos_or_cancer?&#45;&gt;dyspnoea? -->\n",
       "<g class=\"edge\" id=\"edge1\"><title>tuberculos_or_cancer?-&gt;dyspnoea?</title>\n",
       "<path d=\"M153.771,-72.9406C134.677,-62.5796 109.744,-49.0498 89.6248,-38.1326\" fill=\"none\" stroke=\"black\"/>\n",
       "<polygon fill=\"black\" points=\"91.2168,-35.0144 80.7581,-33.3212 87.8782,-41.167 91.2168,-35.0144\" stroke=\"black\"/>\n",
       "</g>\n",
       "<!-- positive_XraY? -->\n",
       "<g class=\"node\" id=\"node8\"><title>positive_XraY?</title>\n",
       "<g id=\"a_node8\"><a xlink:title=\"(7) positive_XraY?\">\n",
       "<ellipse cx=\"186.366\" cy=\"-18\" fill=\"#444444\" rx=\"66.0889\" ry=\"18\" stroke=\"black\"/>\n",
       "<text fill=\"#ffffff\" font-family=\"Times,serif\" font-size=\"14.00\" text-anchor=\"middle\" x=\"186.366\" y=\"-14.3\">positive_XraY?</text>\n",
       "</a>\n",
       "</g>\n",
       "</g>\n",
       "<!-- tuberculos_or_cancer?&#45;&gt;positive_XraY? -->\n",
       "<g class=\"edge\" id=\"edge6\"><title>tuberculos_or_cancer?-&gt;positive_XraY?</title>\n",
       "<path d=\"M184.108,-71.6966C184.438,-63.9827 184.836,-54.7125 185.204,-46.1124\" fill=\"none\" stroke=\"black\"/>\n",
       "<polygon fill=\"black\" points=\"188.702,-46.2451 185.633,-36.1043 181.708,-45.9453 188.702,-46.2451\" stroke=\"black\"/>\n",
       "</g>\n",
       "</g>\n",
       "</svg></div>"
      ],
      "text/plain": [
       "<IPython.core.display.HTML object>"
      ]
     },
     "metadata": {},
     "output_type": "display_data"
    },
    {
     "data": {
      "text/plain": [
       "{'bhattacharya': 5.493847622527333,\n",
       " 'errorPQ': 0,\n",
       " 'errorQP': 128,\n",
       " 'hellinger': 1.4113029791211433,\n",
       " 'klPQ': 21.83553788805645,\n",
       " 'klQP': 20.174939573983675}"
      ]
     },
     "execution_count": 11,
     "metadata": {},
     "output_type": "execute_result"
    }
   ],
   "source": [
    "learner=gum.BNLearner(\"sample_asia.csv\")\n",
    "learner.useLocalSearchWithTabuList()\n",
    "bn2=learner.learnBN()\n",
    "print(\"Learned in {0}s\".format(learner.currentTime()))\n",
    "gnb.showBN(bn2)\n",
    "kl=gum.BruteForceKL(bn,bn2)\n",
    "kl.compute()"
   ]
  },
  {
   "cell_type": "markdown",
   "metadata": {},
   "source": [
    "A greedy Hill Climbing algorithm (with insert, remove and change arc as atomic operations)."
   ]
  },
  {
   "cell_type": "code",
   "execution_count": 12,
   "metadata": {
    "collapsed": false
   },
   "outputs": [
    {
     "name": "stdout",
     "output_type": "stream",
     "text": [
      "Learned in 0.502448s\n"
     ]
    },
    {
     "data": {
      "text/html": [
       "<div align='center'><svg height=\"288pt\" viewBox=\"0.00 0.00 269.42 288.00\" width=\"269pt\" xmlns=\"http://www.w3.org/2000/svg\" xmlns:xlink=\"http://www.w3.org/1999/xlink\">\n",
       "<g class=\"graph\" id=\"graph0\" transform=\"scale(0.712871 0.712871) rotate(0) translate(4 400)\">\n",
       "<title>G</title>\n",
       "<polygon fill=\"white\" points=\"-4,4 -4,-400 373.941,-400 373.941,4 -4,4\" stroke=\"none\"/>\n",
       "<!-- smoking? -->\n",
       "<g class=\"node\" id=\"node1\"><title>smoking?</title>\n",
       "<g id=\"a_node1\"><a xlink:title=\"(0) smoking?\">\n",
       "<ellipse cx=\"57.8449\" cy=\"-18\" fill=\"#444444\" rx=\"45.4919\" ry=\"18\" stroke=\"black\"/>\n",
       "<text fill=\"#ffffff\" font-family=\"Times,serif\" font-size=\"14.00\" text-anchor=\"middle\" x=\"57.8449\" y=\"-14.3\">smoking?</text>\n",
       "</a>\n",
       "</g>\n",
       "</g>\n",
       "<!-- lung_cancer? -->\n",
       "<g class=\"node\" id=\"node2\"><title>lung_cancer?</title>\n",
       "<g id=\"a_node2\"><a xlink:title=\"(1) lung_cancer?\">\n",
       "<ellipse cx=\"57.8449\" cy=\"-306\" fill=\"#444444\" rx=\"57.6901\" ry=\"18\" stroke=\"black\"/>\n",
       "<text fill=\"#ffffff\" font-family=\"Times,serif\" font-size=\"14.00\" text-anchor=\"middle\" x=\"57.8449\" y=\"-302.3\">lung_cancer?</text>\n",
       "</a>\n",
       "</g>\n",
       "</g>\n",
       "<!-- lung_cancer?&#45;&gt;smoking? -->\n",
       "<g class=\"edge\" id=\"edge5\"><title>lung_cancer?-&gt;smoking?</title>\n",
       "<path d=\"M53.3008,-287.897C43.6772,-249.16 23.2742,-151.882 37.8449,-72 39.4938,-62.9598 42.6034,-53.4583 45.8878,-45.0364\" fill=\"none\" stroke=\"black\"/>\n",
       "<polygon fill=\"black\" points=\"49.1461,-46.316 49.7465,-35.7382 42.6807,-43.6329 49.1461,-46.316\" stroke=\"black\"/>\n",
       "</g>\n",
       "<!-- bronchitis? -->\n",
       "<g class=\"node\" id=\"node3\"><title>bronchitis?</title>\n",
       "<g id=\"a_node3\"><a xlink:title=\"(2) bronchitis?\">\n",
       "<ellipse cx=\"96.8449\" cy=\"-90\" fill=\"#444444\" rx=\"50.0912\" ry=\"18\" stroke=\"black\"/>\n",
       "<text fill=\"#ffffff\" font-family=\"Times,serif\" font-size=\"14.00\" text-anchor=\"middle\" x=\"96.8449\" y=\"-86.3\">bronchitis?</text>\n",
       "</a>\n",
       "</g>\n",
       "</g>\n",
       "<!-- lung_cancer?&#45;&gt;bronchitis? -->\n",
       "<g class=\"edge\" id=\"edge10\"><title>lung_cancer?-&gt;bronchitis?</title>\n",
       "<path d=\"M60.9705,-287.849C67.7309,-250.753 83.758,-162.81 91.9056,-118.103\" fill=\"none\" stroke=\"black\"/>\n",
       "<polygon fill=\"black\" points=\"95.3547,-118.698 93.7044,-108.232 88.4681,-117.443 95.3547,-118.698\" stroke=\"black\"/>\n",
       "</g>\n",
       "<!-- tuberculos_or_cancer? -->\n",
       "<g class=\"node\" id=\"node6\"><title>tuberculos_or_cancer?</title>\n",
       "<g id=\"a_node6\"><a xlink:title=\"(5) tuberculos_or_cancer?\">\n",
       "<ellipse cx=\"189.845\" cy=\"-234\" fill=\"#444444\" rx=\"90.1842\" ry=\"18\" stroke=\"black\"/>\n",
       "<text fill=\"#ffffff\" font-family=\"Times,serif\" font-size=\"14.00\" text-anchor=\"middle\" x=\"189.845\" y=\"-230.3\">tuberculos_or_cancer?</text>\n",
       "</a>\n",
       "</g>\n",
       "</g>\n",
       "<!-- lung_cancer?&#45;&gt;tuberculos_or_cancer? -->\n",
       "<g class=\"edge\" id=\"edge3\"><title>lung_cancer?-&gt;tuberculos_or_cancer?</title>\n",
       "<path d=\"M85.8387,-290.155C104.693,-280.156 129.824,-266.829 150.659,-255.78\" fill=\"none\" stroke=\"black\"/>\n",
       "<polygon fill=\"black\" points=\"152.398,-258.82 159.592,-251.043 149.118,-252.636 152.398,-258.82\" stroke=\"black\"/>\n",
       "</g>\n",
       "<!-- bronchitis?&#45;&gt;smoking? -->\n",
       "<g class=\"edge\" id=\"edge9\"><title>bronchitis?-&gt;smoking?</title>\n",
       "<path d=\"M87.4041,-72.055C82.8052,-63.8006 77.1785,-53.7014 72.073,-44.5378\" fill=\"none\" stroke=\"black\"/>\n",
       "<polygon fill=\"black\" points=\"75.1233,-42.8212 67.1987,-35.789 69.0083,-46.2282 75.1233,-42.8212\" stroke=\"black\"/>\n",
       "</g>\n",
       "<!-- visit_to_Asia? -->\n",
       "<g class=\"node\" id=\"node4\"><title>visit_to_Asia?</title>\n",
       "<g id=\"a_node4\"><a xlink:title=\"(3) visit_to_Asia?\">\n",
       "<ellipse cx=\"248.845\" cy=\"-378\" fill=\"#444444\" rx=\"61.99\" ry=\"18\" stroke=\"black\"/>\n",
       "<text fill=\"#ffffff\" font-family=\"Times,serif\" font-size=\"14.00\" text-anchor=\"middle\" x=\"248.845\" y=\"-374.3\">visit_to_Asia?</text>\n",
       "</a>\n",
       "</g>\n",
       "</g>\n",
       "<!-- tuberculosis? -->\n",
       "<g class=\"node\" id=\"node5\"><title>tuberculosis?</title>\n",
       "<g id=\"a_node5\"><a xlink:title=\"(4) tuberculosis?\">\n",
       "<ellipse cx=\"248.845\" cy=\"-306\" fill=\"#444444\" rx=\"57.3905\" ry=\"18\" stroke=\"black\"/>\n",
       "<text fill=\"#ffffff\" font-family=\"Times,serif\" font-size=\"14.00\" text-anchor=\"middle\" x=\"248.845\" y=\"-302.3\">tuberculosis?</text>\n",
       "</a>\n",
       "</g>\n",
       "</g>\n",
       "<!-- visit_to_Asia?&#45;&gt;tuberculosis? -->\n",
       "<g class=\"edge\" id=\"edge2\"><title>visit_to_Asia?-&gt;tuberculosis?</title>\n",
       "<path d=\"M248.845,-359.697C248.845,-351.983 248.845,-342.712 248.845,-334.112\" fill=\"none\" stroke=\"black\"/>\n",
       "<polygon fill=\"black\" points=\"252.345,-334.104 248.845,-324.104 245.345,-334.104 252.345,-334.104\" stroke=\"black\"/>\n",
       "</g>\n",
       "<!-- tuberculosis?&#45;&gt;tuberculos_or_cancer? -->\n",
       "<g class=\"edge\" id=\"edge8\"><title>tuberculosis?-&gt;tuberculos_or_cancer?</title>\n",
       "<path d=\"M234.863,-288.411C227.621,-279.82 218.636,-269.159 210.602,-259.627\" fill=\"none\" stroke=\"black\"/>\n",
       "<polygon fill=\"black\" points=\"213.257,-257.347 204.137,-251.956 207.905,-261.858 213.257,-257.347\" stroke=\"black\"/>\n",
       "</g>\n",
       "<!-- dyspnoea? -->\n",
       "<g class=\"node\" id=\"node7\"><title>dyspnoea?</title>\n",
       "<g id=\"a_node7\"><a xlink:title=\"(6) dyspnoea?\">\n",
       "<ellipse cx=\"321.845\" cy=\"-162\" fill=\"#444444\" rx=\"48.1917\" ry=\"18\" stroke=\"black\"/>\n",
       "<text fill=\"#ffffff\" font-family=\"Times,serif\" font-size=\"14.00\" text-anchor=\"middle\" x=\"321.845\" y=\"-158.3\">dyspnoea?</text>\n",
       "</a>\n",
       "</g>\n",
       "</g>\n",
       "<!-- tuberculosis?&#45;&gt;dyspnoea? -->\n",
       "<g class=\"edge\" id=\"edge11\"><title>tuberculosis?-&gt;dyspnoea?</title>\n",
       "<path d=\"M263.532,-288.208C271.76,-278.194 281.76,-264.944 288.845,-252 299.743,-232.09 308.466,-207.841 314.201,-189.686\" fill=\"none\" stroke=\"black\"/>\n",
       "<polygon fill=\"black\" points=\"317.574,-190.622 317.15,-180.036 310.88,-188.577 317.574,-190.622\" stroke=\"black\"/>\n",
       "</g>\n",
       "<!-- tuberculos_or_cancer?&#45;&gt;bronchitis? -->\n",
       "<g class=\"edge\" id=\"edge6\"><title>tuberculos_or_cancer?-&gt;bronchitis?</title>\n",
       "<path d=\"M156.914,-217.142C141.854,-208.254 125.117,-195.762 114.845,-180 102.901,-161.673 98.6167,-137.064 97.1976,-118.369\" fill=\"none\" stroke=\"black\"/>\n",
       "<polygon fill=\"black\" points=\"100.68,-117.938 96.6569,-108.137 93.6896,-118.308 100.68,-117.938\" stroke=\"black\"/>\n",
       "</g>\n",
       "<!-- tuberculos_or_cancer?&#45;&gt;dyspnoea? -->\n",
       "<g class=\"edge\" id=\"edge1\"><title>tuberculos_or_cancer?-&gt;dyspnoea?</title>\n",
       "<path d=\"M220.128,-216.941C239.798,-206.51 265.525,-192.867 286.183,-181.912\" fill=\"none\" stroke=\"black\"/>\n",
       "<polygon fill=\"black\" points=\"288.083,-184.866 295.278,-177.089 284.803,-178.682 288.083,-184.866\" stroke=\"black\"/>\n",
       "</g>\n",
       "<!-- positive_XraY? -->\n",
       "<g class=\"node\" id=\"node8\"><title>positive_XraY?</title>\n",
       "<g id=\"a_node8\"><a xlink:title=\"(7) positive_XraY?\">\n",
       "<ellipse cx=\"189.845\" cy=\"-162\" fill=\"#444444\" rx=\"66.0889\" ry=\"18\" stroke=\"black\"/>\n",
       "<text fill=\"#ffffff\" font-family=\"Times,serif\" font-size=\"14.00\" text-anchor=\"middle\" x=\"189.845\" y=\"-158.3\">positive_XraY?</text>\n",
       "</a>\n",
       "</g>\n",
       "</g>\n",
       "<!-- tuberculos_or_cancer?&#45;&gt;positive_XraY? -->\n",
       "<g class=\"edge\" id=\"edge4\"><title>tuberculos_or_cancer?-&gt;positive_XraY?</title>\n",
       "<path d=\"M189.845,-215.697C189.845,-207.983 189.845,-198.712 189.845,-190.112\" fill=\"none\" stroke=\"black\"/>\n",
       "<polygon fill=\"black\" points=\"193.345,-190.104 189.845,-180.104 186.345,-190.104 193.345,-190.104\" stroke=\"black\"/>\n",
       "</g>\n",
       "<!-- dyspnoea?&#45;&gt;bronchitis? -->\n",
       "<g class=\"edge\" id=\"edge7\"><title>dyspnoea?-&gt;bronchitis?</title>\n",
       "<path d=\"M286.193,-149.908C247.533,-137.881 185.681,-118.638 143.257,-105.439\" fill=\"none\" stroke=\"black\"/>\n",
       "<polygon fill=\"black\" points=\"144.038,-102.017 133.45,-102.388 141.959,-108.701 144.038,-102.017\" stroke=\"black\"/>\n",
       "</g>\n",
       "</g>\n",
       "</svg></div>"
      ],
      "text/plain": [
       "<IPython.core.display.HTML object>"
      ]
     },
     "metadata": {},
     "output_type": "display_data"
    }
   ],
   "source": [
    "learner=gum.BNLearner(\"sample_asia.csv\")\n",
    "learner.useGreedyHillClimbing()\n",
    "bn2=learner.learnBN()\n",
    "print(\"Learned in {0}s\".format(learner.currentTime()))\n",
    "gnb.showBN(bn2)"
   ]
  },
  {
   "cell_type": "markdown",
   "metadata": {},
   "source": [
    "And a K2 for those who likes it :)"
   ]
  },
  {
   "cell_type": "code",
   "execution_count": 13,
   "metadata": {
    "collapsed": false
   },
   "outputs": [
    {
     "name": "stdout",
     "output_type": "stream",
     "text": [
      "Learned in 0.272495s\n"
     ]
    },
    {
     "data": {
      "text/html": [
       "<div align='center'><svg height=\"221pt\" viewBox=\"0.00 0.00 288.00 221.02\" width=\"288pt\" xmlns=\"http://www.w3.org/2000/svg\" xmlns:xlink=\"http://www.w3.org/1999/xlink\">\n",
       "<g class=\"graph\" id=\"graph0\" transform=\"scale(0.850084 0.850084) rotate(0) translate(4 256)\">\n",
       "<title>G</title>\n",
       "<polygon fill=\"white\" points=\"-4,4 -4,-256 334.79,-256 334.79,4 -4,4\" stroke=\"none\"/>\n",
       "<!-- smoking? -->\n",
       "<g class=\"node\" id=\"node1\"><title>smoking?</title>\n",
       "<g id=\"a_node1\"><a xlink:title=\"(0) smoking?\">\n",
       "<ellipse cx=\"93.0456\" cy=\"-234\" fill=\"#444444\" rx=\"45.4919\" ry=\"18\" stroke=\"black\"/>\n",
       "<text fill=\"#ffffff\" font-family=\"Times,serif\" font-size=\"14.00\" text-anchor=\"middle\" x=\"93.0456\" y=\"-230.3\">smoking?</text>\n",
       "</a>\n",
       "</g>\n",
       "</g>\n",
       "<!-- lung_cancer? -->\n",
       "<g class=\"node\" id=\"node2\"><title>lung_cancer?</title>\n",
       "<g id=\"a_node2\"><a xlink:title=\"(1) lung_cancer?\">\n",
       "<ellipse cx=\"136.046\" cy=\"-162\" fill=\"#444444\" rx=\"57.6901\" ry=\"18\" stroke=\"black\"/>\n",
       "<text fill=\"#ffffff\" font-family=\"Times,serif\" font-size=\"14.00\" text-anchor=\"middle\" x=\"136.046\" y=\"-158.3\">lung_cancer?</text>\n",
       "</a>\n",
       "</g>\n",
       "</g>\n",
       "<!-- smoking?&#45;&gt;lung_cancer? -->\n",
       "<g class=\"edge\" id=\"edge2\"><title>smoking?-&gt;lung_cancer?</title>\n",
       "<path d=\"M103.236,-216.411C108.355,-208.077 114.67,-197.797 120.388,-188.488\" fill=\"none\" stroke=\"black\"/>\n",
       "<polygon fill=\"black\" points=\"123.378,-190.309 125.63,-179.956 117.413,-186.645 123.378,-190.309\" stroke=\"black\"/>\n",
       "</g>\n",
       "<!-- bronchitis? -->\n",
       "<g class=\"node\" id=\"node3\"><title>bronchitis?</title>\n",
       "<g id=\"a_node3\"><a xlink:title=\"(2) bronchitis?\">\n",
       "<ellipse cx=\"50.0456\" cy=\"-90\" fill=\"#444444\" rx=\"50.0912\" ry=\"18\" stroke=\"black\"/>\n",
       "<text fill=\"#ffffff\" font-family=\"Times,serif\" font-size=\"14.00\" text-anchor=\"middle\" x=\"50.0456\" y=\"-86.3\">bronchitis?</text>\n",
       "</a>\n",
       "</g>\n",
       "</g>\n",
       "<!-- smoking?&#45;&gt;bronchitis? -->\n",
       "<g class=\"edge\" id=\"edge7\"><title>smoking?-&gt;bronchitis?</title>\n",
       "<path d=\"M84.3084,-216.186C79.2732,-205.946 73.1483,-192.474 69.0456,-180 62.3506,-159.645 57.4168,-135.879 54.2571,-118.028\" fill=\"none\" stroke=\"black\"/>\n",
       "<polygon fill=\"black\" points=\"57.6822,-117.292 52.5604,-108.017 50.7807,-118.461 57.6822,-117.292\" stroke=\"black\"/>\n",
       "</g>\n",
       "<!-- tuberculos_or_cancer? -->\n",
       "<g class=\"node\" id=\"node6\"><title>tuberculos_or_cancer?</title>\n",
       "<g id=\"a_node6\"><a xlink:title=\"(5) tuberculos_or_cancer?\">\n",
       "<ellipse cx=\"208.046\" cy=\"-90\" fill=\"#444444\" rx=\"90.1842\" ry=\"18\" stroke=\"black\"/>\n",
       "<text fill=\"#ffffff\" font-family=\"Times,serif\" font-size=\"14.00\" text-anchor=\"middle\" x=\"208.046\" y=\"-86.3\">tuberculos_or_cancer?</text>\n",
       "</a>\n",
       "</g>\n",
       "</g>\n",
       "<!-- lung_cancer?&#45;&gt;tuberculos_or_cancer? -->\n",
       "<g class=\"edge\" id=\"edge5\"><title>lung_cancer?-&gt;tuberculos_or_cancer?</title>\n",
       "<path d=\"M152.745,-144.765C161.749,-136.011 173.04,-125.033 183.069,-115.283\" fill=\"none\" stroke=\"black\"/>\n",
       "<polygon fill=\"black\" points=\"185.702,-117.604 190.432,-108.124 180.823,-112.585 185.702,-117.604\" stroke=\"black\"/>\n",
       "</g>\n",
       "<!-- dyspnoea? -->\n",
       "<g class=\"node\" id=\"node7\"><title>dyspnoea?</title>\n",
       "<g id=\"a_node7\"><a xlink:title=\"(6) dyspnoea?\">\n",
       "<ellipse cx=\"63.0456\" cy=\"-18\" fill=\"#444444\" rx=\"48.1917\" ry=\"18\" stroke=\"black\"/>\n",
       "<text fill=\"#ffffff\" font-family=\"Times,serif\" font-size=\"14.00\" text-anchor=\"middle\" x=\"63.0456\" y=\"-14.3\">dyspnoea?</text>\n",
       "</a>\n",
       "</g>\n",
       "</g>\n",
       "<!-- bronchitis?&#45;&gt;dyspnoea? -->\n",
       "<g class=\"edge\" id=\"edge1\"><title>bronchitis?-&gt;dyspnoea?</title>\n",
       "<path d=\"M53.259,-71.6966C54.6916,-63.9827 56.4132,-54.7125 58.0104,-46.1124\" fill=\"none\" stroke=\"black\"/>\n",
       "<polygon fill=\"black\" points=\"61.4842,-46.5753 59.869,-36.1043 54.6019,-45.2971 61.4842,-46.5753\" stroke=\"black\"/>\n",
       "</g>\n",
       "<!-- visit_to_Asia? -->\n",
       "<g class=\"node\" id=\"node4\"><title>visit_to_Asia?</title>\n",
       "<g id=\"a_node4\"><a xlink:title=\"(3) visit_to_Asia?\">\n",
       "<ellipse cx=\"269.046\" cy=\"-234\" fill=\"#444444\" rx=\"61.99\" ry=\"18\" stroke=\"black\"/>\n",
       "<text fill=\"#ffffff\" font-family=\"Times,serif\" font-size=\"14.00\" text-anchor=\"middle\" x=\"269.046\" y=\"-230.3\">visit_to_Asia?</text>\n",
       "</a>\n",
       "</g>\n",
       "</g>\n",
       "<!-- tuberculosis? -->\n",
       "<g class=\"node\" id=\"node5\"><title>tuberculosis?</title>\n",
       "<g id=\"a_node5\"><a xlink:title=\"(4) tuberculosis?\">\n",
       "<ellipse cx=\"269.046\" cy=\"-162\" fill=\"#444444\" rx=\"57.3905\" ry=\"18\" stroke=\"black\"/>\n",
       "<text fill=\"#ffffff\" font-family=\"Times,serif\" font-size=\"14.00\" text-anchor=\"middle\" x=\"269.046\" y=\"-158.3\">tuberculosis?</text>\n",
       "</a>\n",
       "</g>\n",
       "</g>\n",
       "<!-- visit_to_Asia?&#45;&gt;tuberculosis? -->\n",
       "<g class=\"edge\" id=\"edge3\"><title>visit_to_Asia?-&gt;tuberculosis?</title>\n",
       "<path d=\"M269.046,-215.697C269.046,-207.983 269.046,-198.712 269.046,-190.112\" fill=\"none\" stroke=\"black\"/>\n",
       "<polygon fill=\"black\" points=\"272.546,-190.104 269.046,-180.104 265.546,-190.104 272.546,-190.104\" stroke=\"black\"/>\n",
       "</g>\n",
       "<!-- tuberculosis?&#45;&gt;tuberculos_or_cancer? -->\n",
       "<g class=\"edge\" id=\"edge8\"><title>tuberculosis?-&gt;tuberculos_or_cancer?</title>\n",
       "<path d=\"M254.589,-144.411C247.103,-135.82 237.813,-125.159 229.507,-115.627\" fill=\"none\" stroke=\"black\"/>\n",
       "<polygon fill=\"black\" points=\"232.03,-113.196 222.822,-107.956 226.753,-117.795 232.03,-113.196\" stroke=\"black\"/>\n",
       "</g>\n",
       "<!-- tuberculos_or_cancer?&#45;&gt;dyspnoea? -->\n",
       "<g class=\"edge\" id=\"edge4\"><title>tuberculos_or_cancer?-&gt;dyspnoea?</title>\n",
       "<path d=\"M175.143,-73.1159C152.964,-62.4091 123.654,-48.2595 100.568,-37.1142\" fill=\"none\" stroke=\"black\"/>\n",
       "<polygon fill=\"black\" points=\"101.942,-33.891 91.4146,-32.6954 98.8985,-40.1949 101.942,-33.891\" stroke=\"black\"/>\n",
       "</g>\n",
       "<!-- positive_XraY? -->\n",
       "<g class=\"node\" id=\"node8\"><title>positive_XraY?</title>\n",
       "<g id=\"a_node8\"><a xlink:title=\"(7) positive_XraY?\">\n",
       "<ellipse cx=\"208.046\" cy=\"-18\" fill=\"#444444\" rx=\"66.0889\" ry=\"18\" stroke=\"black\"/>\n",
       "<text fill=\"#ffffff\" font-family=\"Times,serif\" font-size=\"14.00\" text-anchor=\"middle\" x=\"208.046\" y=\"-14.3\">positive_XraY?</text>\n",
       "</a>\n",
       "</g>\n",
       "</g>\n",
       "<!-- tuberculos_or_cancer?&#45;&gt;positive_XraY? -->\n",
       "<g class=\"edge\" id=\"edge6\"><title>tuberculos_or_cancer?-&gt;positive_XraY?</title>\n",
       "<path d=\"M208.046,-71.6966C208.046,-63.9827 208.046,-54.7125 208.046,-46.1124\" fill=\"none\" stroke=\"black\"/>\n",
       "<polygon fill=\"black\" points=\"211.546,-46.1043 208.046,-36.1043 204.546,-46.1044 211.546,-46.1043\" stroke=\"black\"/>\n",
       "</g>\n",
       "</g>\n",
       "</svg></div>"
      ],
      "text/plain": [
       "<IPython.core.display.HTML object>"
      ]
     },
     "metadata": {},
     "output_type": "display_data"
    }
   ],
   "source": [
    "learner=gum.BNLearner(\"sample_asia.csv\")\n",
    "learner.useK2([0,1,2,3,4,5,6,7])\n",
    "bn2=learner.learnBN()\n",
    "print(\"Learned in {0}s\".format(learner.currentTime()))\n",
    "gnb.showBN(bn2)"
   ]
  },
  {
   "cell_type": "markdown",
   "metadata": {},
   "source": [
    "K2 can be very good if the order is the good one (a topological order of nodes in the reference)\n"
   ]
  },
  {
   "cell_type": "code",
   "execution_count": 14,
   "metadata": {
    "collapsed": false
   },
   "outputs": [
    {
     "name": "stdout",
     "output_type": "stream",
     "text": [
      "Learned in 0.407861s\n"
     ]
    },
    {
     "data": {
      "text/html": [
       "<div align='center'><svg height=\"288pt\" viewBox=\"0.00 0.00 273.66 288.00\" width=\"274pt\" xmlns=\"http://www.w3.org/2000/svg\" xmlns:xlink=\"http://www.w3.org/1999/xlink\">\n",
       "<g class=\"graph\" id=\"graph0\" transform=\"scale(0.712871 0.712871) rotate(0) translate(4 400)\">\n",
       "<title>G</title>\n",
       "<polygon fill=\"white\" points=\"-4,4 -4,-400 379.89,-400 379.89,4 -4,4\" stroke=\"none\"/>\n",
       "<!-- smoking? -->\n",
       "<g class=\"node\" id=\"node1\"><title>smoking?</title>\n",
       "<g id=\"a_node1\"><a xlink:title=\"(0) smoking?\">\n",
       "<ellipse cx=\"184.046\" cy=\"-18\" fill=\"#444444\" rx=\"45.4919\" ry=\"18\" stroke=\"black\"/>\n",
       "<text fill=\"#ffffff\" font-family=\"Times,serif\" font-size=\"14.00\" text-anchor=\"middle\" x=\"184.046\" y=\"-14.3\">smoking?</text>\n",
       "</a>\n",
       "</g>\n",
       "</g>\n",
       "<!-- lung_cancer? -->\n",
       "<g class=\"node\" id=\"node2\"><title>lung_cancer?</title>\n",
       "<g id=\"a_node2\"><a xlink:title=\"(1) lung_cancer?\">\n",
       "<ellipse cx=\"318.046\" cy=\"-90\" fill=\"#444444\" rx=\"57.6901\" ry=\"18\" stroke=\"black\"/>\n",
       "<text fill=\"#ffffff\" font-family=\"Times,serif\" font-size=\"14.00\" text-anchor=\"middle\" x=\"318.046\" y=\"-86.3\">lung_cancer?</text>\n",
       "</a>\n",
       "</g>\n",
       "</g>\n",
       "<!-- lung_cancer?&#45;&gt;smoking? -->\n",
       "<g class=\"edge\" id=\"edge6\"><title>lung_cancer?-&gt;smoking?</title>\n",
       "<path d=\"M289.628,-74.1548C269.192,-63.4795 241.492,-49.0096 219.592,-37.5692\" fill=\"none\" stroke=\"black\"/>\n",
       "<polygon fill=\"black\" points=\"221.084,-34.3996 210.6,-32.8716 217.843,-40.604 221.084,-34.3996\" stroke=\"black\"/>\n",
       "</g>\n",
       "<!-- bronchitis? -->\n",
       "<g class=\"node\" id=\"node3\"><title>bronchitis?</title>\n",
       "<g id=\"a_node3\"><a xlink:title=\"(2) bronchitis?\">\n",
       "<ellipse cx=\"50.0456\" cy=\"-90\" fill=\"#444444\" rx=\"50.0912\" ry=\"18\" stroke=\"black\"/>\n",
       "<text fill=\"#ffffff\" font-family=\"Times,serif\" font-size=\"14.00\" text-anchor=\"middle\" x=\"50.0456\" y=\"-86.3\">bronchitis?</text>\n",
       "</a>\n",
       "</g>\n",
       "</g>\n",
       "<!-- bronchitis?&#45;&gt;smoking? -->\n",
       "<g class=\"edge\" id=\"edge10\"><title>bronchitis?-&gt;smoking?</title>\n",
       "<path d=\"M77.1625,-74.8345C97.73,-64.0902 126.182,-49.2275 148.559,-37.5376\" fill=\"none\" stroke=\"black\"/>\n",
       "<polygon fill=\"black\" points=\"150.183,-40.638 157.426,-32.9056 146.942,-34.4336 150.183,-40.638\" stroke=\"black\"/>\n",
       "</g>\n",
       "<!-- visit_to_Asia? -->\n",
       "<g class=\"node\" id=\"node4\"><title>visit_to_Asia?</title>\n",
       "<g id=\"a_node4\"><a xlink:title=\"(3) visit_to_Asia?\">\n",
       "<ellipse cx=\"180.046\" cy=\"-90\" fill=\"#444444\" rx=\"61.99\" ry=\"18\" stroke=\"black\"/>\n",
       "<text fill=\"#ffffff\" font-family=\"Times,serif\" font-size=\"14.00\" text-anchor=\"middle\" x=\"180.046\" y=\"-86.3\">visit_to_Asia?</text>\n",
       "</a>\n",
       "</g>\n",
       "</g>\n",
       "<!-- tuberculosis? -->\n",
       "<g class=\"node\" id=\"node5\"><title>tuberculosis?</title>\n",
       "<g id=\"a_node5\"><a xlink:title=\"(4) tuberculosis?\">\n",
       "<ellipse cx=\"180.046\" cy=\"-162\" fill=\"#444444\" rx=\"57.3905\" ry=\"18\" stroke=\"black\"/>\n",
       "<text fill=\"#ffffff\" font-family=\"Times,serif\" font-size=\"14.00\" text-anchor=\"middle\" x=\"180.046\" y=\"-158.3\">tuberculosis?</text>\n",
       "</a>\n",
       "</g>\n",
       "</g>\n",
       "<!-- tuberculosis?&#45;&gt;lung_cancer? -->\n",
       "<g class=\"edge\" id=\"edge9\"><title>tuberculosis?-&gt;lung_cancer?</title>\n",
       "<path d=\"M208.975,-146.326C229.675,-135.825 257.739,-121.59 280.216,-110.189\" fill=\"none\" stroke=\"black\"/>\n",
       "<polygon fill=\"black\" points=\"281.819,-113.3 289.154,-105.655 278.653,-107.057 281.819,-113.3\" stroke=\"black\"/>\n",
       "</g>\n",
       "<!-- tuberculosis?&#45;&gt;bronchitis? -->\n",
       "<g class=\"edge\" id=\"edge13\"><title>tuberculosis?-&gt;bronchitis?</title>\n",
       "<path d=\"M152.476,-146.155C132.999,-135.667 106.719,-121.517 85.6558,-110.175\" fill=\"none\" stroke=\"black\"/>\n",
       "<polygon fill=\"black\" points=\"87.1504,-107.004 76.6863,-105.345 83.8317,-113.168 87.1504,-107.004\" stroke=\"black\"/>\n",
       "</g>\n",
       "<!-- tuberculosis?&#45;&gt;visit_to_Asia? -->\n",
       "<g class=\"edge\" id=\"edge2\"><title>tuberculosis?-&gt;visit_to_Asia?</title>\n",
       "<path d=\"M180.046,-143.697C180.046,-135.983 180.046,-126.712 180.046,-118.112\" fill=\"none\" stroke=\"black\"/>\n",
       "<polygon fill=\"black\" points=\"183.546,-118.104 180.046,-108.104 176.546,-118.104 183.546,-118.104\" stroke=\"black\"/>\n",
       "</g>\n",
       "<!-- tuberculos_or_cancer? -->\n",
       "<g class=\"node\" id=\"node6\"><title>tuberculos_or_cancer?</title>\n",
       "<g id=\"a_node6\"><a xlink:title=\"(5) tuberculos_or_cancer?\">\n",
       "<ellipse cx=\"206.046\" cy=\"-234\" fill=\"#444444\" rx=\"90.1842\" ry=\"18\" stroke=\"black\"/>\n",
       "<text fill=\"#ffffff\" font-family=\"Times,serif\" font-size=\"14.00\" text-anchor=\"middle\" x=\"206.046\" y=\"-230.3\">tuberculos_or_cancer?</text>\n",
       "</a>\n",
       "</g>\n",
       "</g>\n",
       "<!-- tuberculos_or_cancer?&#45;&gt;lung_cancer? -->\n",
       "<g class=\"edge\" id=\"edge1\"><title>tuberculos_or_cancer?-&gt;lung_cancer?</title>\n",
       "<path d=\"M219.333,-216.153C238.952,-191.279 275.79,-144.574 298.495,-115.788\" fill=\"none\" stroke=\"black\"/>\n",
       "<polygon fill=\"black\" points=\"301.33,-117.844 304.775,-107.825 295.834,-113.509 301.33,-117.844\" stroke=\"black\"/>\n",
       "</g>\n",
       "<!-- tuberculos_or_cancer?&#45;&gt;bronchitis? -->\n",
       "<g class=\"edge\" id=\"edge5\"><title>tuberculos_or_cancer?-&gt;bronchitis?</title>\n",
       "<path d=\"M170.971,-217.259C152.76,-208.033 130.865,-195.204 114.046,-180 93.6625,-161.574 75.9145,-135.624 64.3123,-116.498\" fill=\"none\" stroke=\"black\"/>\n",
       "<polygon fill=\"black\" points=\"67.2259,-114.548 59.1258,-107.719 61.1992,-118.109 67.2259,-114.548\" stroke=\"black\"/>\n",
       "</g>\n",
       "<!-- tuberculos_or_cancer?&#45;&gt;tuberculosis? -->\n",
       "<g class=\"edge\" id=\"edge11\"><title>tuberculos_or_cancer?-&gt;tuberculosis?</title>\n",
       "<path d=\"M199.619,-215.697C196.69,-207.813 193.159,-198.304 189.906,-189.546\" fill=\"none\" stroke=\"black\"/>\n",
       "<polygon fill=\"black\" points=\"193.162,-188.26 186.399,-180.104 186.6,-190.697 193.162,-188.26\" stroke=\"black\"/>\n",
       "</g>\n",
       "<!-- dyspnoea? -->\n",
       "<g class=\"node\" id=\"node7\"><title>dyspnoea?</title>\n",
       "<g id=\"a_node7\"><a xlink:title=\"(6) dyspnoea?\">\n",
       "<ellipse cx=\"98.0456\" cy=\"-306\" fill=\"#444444\" rx=\"48.1917\" ry=\"18\" stroke=\"black\"/>\n",
       "<text fill=\"#ffffff\" font-family=\"Times,serif\" font-size=\"14.00\" text-anchor=\"middle\" x=\"98.0456\" y=\"-302.3\">dyspnoea?</text>\n",
       "</a>\n",
       "</g>\n",
       "</g>\n",
       "<!-- dyspnoea?&#45;&gt;bronchitis? -->\n",
       "<g class=\"edge\" id=\"edge7\"><title>dyspnoea?-&gt;bronchitis?</title>\n",
       "<path d=\"M94.1987,-287.849C85.8781,-250.753 66.1525,-162.81 56.1247,-118.103\" fill=\"none\" stroke=\"black\"/>\n",
       "<polygon fill=\"black\" points=\"59.5146,-117.224 53.9108,-108.232 52.6843,-118.756 59.5146,-117.224\" stroke=\"black\"/>\n",
       "</g>\n",
       "<!-- dyspnoea?&#45;&gt;tuberculosis? -->\n",
       "<g class=\"edge\" id=\"edge3\"><title>dyspnoea?-&gt;tuberculosis?</title>\n",
       "<path d=\"M95.807,-287.679C94.2264,-268.766 94.2731,-238.215 107.046,-216 114.91,-202.321 127.891,-191.2 140.743,-182.742\" fill=\"none\" stroke=\"black\"/>\n",
       "<polygon fill=\"black\" points=\"142.877,-185.538 149.556,-177.313 139.206,-179.578 142.877,-185.538\" stroke=\"black\"/>\n",
       "</g>\n",
       "<!-- dyspnoea?&#45;&gt;tuberculos_or_cancer? -->\n",
       "<g class=\"edge\" id=\"edge4\"><title>dyspnoea?-&gt;tuberculos_or_cancer?</title>\n",
       "<path d=\"M120.95,-290.155C135.924,-280.449 155.739,-267.606 172.479,-256.756\" fill=\"none\" stroke=\"black\"/>\n",
       "<polygon fill=\"black\" points=\"174.424,-259.666 180.912,-251.29 170.617,-253.792 174.424,-259.666\" stroke=\"black\"/>\n",
       "</g>\n",
       "<!-- positive_XraY? -->\n",
       "<g class=\"node\" id=\"node8\"><title>positive_XraY?</title>\n",
       "<g id=\"a_node8\"><a xlink:title=\"(7) positive_XraY?\">\n",
       "<ellipse cx=\"146.046\" cy=\"-378\" fill=\"#444444\" rx=\"66.0889\" ry=\"18\" stroke=\"black\"/>\n",
       "<text fill=\"#ffffff\" font-family=\"Times,serif\" font-size=\"14.00\" text-anchor=\"middle\" x=\"146.046\" y=\"-374.3\">positive_XraY?</text>\n",
       "</a>\n",
       "</g>\n",
       "</g>\n",
       "<!-- positive_XraY?&#45;&gt;tuberculos_or_cancer? -->\n",
       "<g class=\"edge\" id=\"edge8\"><title>positive_XraY?-&gt;tuberculos_or_cancer?</title>\n",
       "<path d=\"M153.283,-359.871C163.599,-335.457 182.626,-290.426 194.791,-261.635\" fill=\"none\" stroke=\"black\"/>\n",
       "<polygon fill=\"black\" points=\"198.114,-262.763 198.782,-252.189 191.666,-260.038 198.114,-262.763\" stroke=\"black\"/>\n",
       "</g>\n",
       "<!-- positive_XraY?&#45;&gt;dyspnoea? -->\n",
       "<g class=\"edge\" id=\"edge12\"><title>positive_XraY?-&gt;dyspnoea?</title>\n",
       "<path d=\"M134.426,-360.055C128.707,-351.715 121.696,-341.491 115.361,-332.252\" fill=\"none\" stroke=\"black\"/>\n",
       "<polygon fill=\"black\" points=\"118.1,-330.057 109.558,-323.789 112.327,-334.016 118.1,-330.057\" stroke=\"black\"/>\n",
       "</g>\n",
       "</g>\n",
       "</svg></div>"
      ],
      "text/plain": [
       "<IPython.core.display.HTML object>"
      ]
     },
     "metadata": {},
     "output_type": "display_data"
    }
   ],
   "source": [
    "learner=gum.BNLearner(\"sample_asia.csv\")\n",
    "learner.useK2([7,6,5,4,3,2,1,0])\n",
    "bn2=learner.learnBN()\n",
    "print(\"Learned in {0}s\".format(learner.currentTime()))\n",
    "gnb.showBN(bn2)"
   ]
  },
  {
   "cell_type": "markdown",
   "metadata": {},
   "source": [
    "# Following the learning curve"
   ]
  },
  {
   "cell_type": "code",
   "execution_count": 15,
   "metadata": {
    "collapsed": false
   },
   "outputs": [
    {
     "data": {
      "image/png": "[encoded data removed]",
      "text/plain": [
       "<matplotlib.figure.Figure at 0x7fc8ced23908>"
      ]
     },
     "metadata": {},
     "output_type": "display_data"
    }
   ],
   "source": [
    "learner=gum.BNLearner(\"sample_asia.csv\")\n",
    "learner.useLocalSearchWithTabuList()\n",
    "\n",
    "# we could prefere a log2likelihood score\n",
    "# learner.useScoreLog2Likelihood()\n",
    "learner.setMaxTime(10)\n",
    "\n",
    "# representation of the error as a pseudo log (negative values really represents negative epsilon\n",
    "@np.vectorize\n",
    "def pseudolog(x):\n",
    "    seuil=2.0\n",
    "    y=-x if x<0 else x\n",
    "        \n",
    "    if y<seuil:\n",
    "        res=y*np.log10(seuil)/seuil\n",
    "    else:\n",
    "        res=np.log10(y)\n",
    "        \n",
    "    return res if x>0 else -res\n",
    "\n",
    "# in order to control the complexity, we limit the number of parents\n",
    "learner.setMaxIndegree(3) # no more than 1 parent by node\n",
    "gnb.animApproximationScheme(learner,\n",
    "                            scale=pseudolog) # scale by default is np.log10\n",
    "\n",
    "bn2=learner.learnBN()\n"
   ]
  },
  {
   "cell_type": "markdown",
   "metadata": {},
   "source": [
    "# Customizing the learning algorithms"
   ]
  },
  {
   "cell_type": "markdown",
   "metadata": {},
   "source": [
    "## 1. Learn a tree ?"
   ]
  },
  {
   "cell_type": "code",
   "execution_count": 16,
   "metadata": {
    "collapsed": false
   },
   "outputs": [
    {
     "data": {
      "text/html": [
       "<div align='center'><svg height=\"302pt\" viewBox=\"0.00 0.00 360.00 301.79\" width=\"360pt\" xmlns=\"http://www.w3.org/2000/svg\" xmlns:xlink=\"http://www.w3.org/1999/xlink\">\n",
       "<g class=\"graph\" id=\"graph0\" transform=\"scale(0.909002 0.909002) rotate(0) translate(4 328)\">\n",
       "<title>G</title>\n",
       "<polygon fill=\"white\" points=\"-4,4 -4,-328 392.039,-328 392.039,4 -4,4\" stroke=\"none\"/>\n",
       "<!-- smoking? -->\n",
       "<g class=\"node\" id=\"node1\"><title>smoking?</title>\n",
       "<g id=\"a_node1\"><a xlink:title=\"(0) smoking?\">\n",
       "<ellipse cx=\"191.745\" cy=\"-18\" fill=\"#444444\" rx=\"45.4919\" ry=\"18\" stroke=\"black\"/>\n",
       "<text fill=\"#ffffff\" font-family=\"Times,serif\" font-size=\"14.00\" text-anchor=\"middle\" x=\"191.745\" y=\"-14.3\">smoking?</text>\n",
       "</a>\n",
       "</g>\n",
       "</g>\n",
       "<!-- lung_cancer? -->\n",
       "<g class=\"node\" id=\"node2\"><title>lung_cancer?</title>\n",
       "<g id=\"a_node2\"><a xlink:title=\"(1) lung_cancer?\">\n",
       "<ellipse cx=\"189.745\" cy=\"-306\" fill=\"#444444\" rx=\"57.6901\" ry=\"18\" stroke=\"black\"/>\n",
       "<text fill=\"#ffffff\" font-family=\"Times,serif\" font-size=\"14.00\" text-anchor=\"middle\" x=\"189.745\" y=\"-302.3\">lung_cancer?</text>\n",
       "</a>\n",
       "</g>\n",
       "</g>\n",
       "<!-- tuberculos_or_cancer? -->\n",
       "<g class=\"node\" id=\"node6\"><title>tuberculos_or_cancer?</title>\n",
       "<g id=\"a_node6\"><a xlink:title=\"(5) tuberculos_or_cancer?\">\n",
       "<ellipse cx=\"189.745\" cy=\"-234\" fill=\"#444444\" rx=\"90.1842\" ry=\"18\" stroke=\"black\"/>\n",
       "<text fill=\"#ffffff\" font-family=\"Times,serif\" font-size=\"14.00\" text-anchor=\"middle\" x=\"189.745\" y=\"-230.3\">tuberculos_or_cancer?</text>\n",
       "</a>\n",
       "</g>\n",
       "</g>\n",
       "<!-- lung_cancer?&#45;&gt;tuberculos_or_cancer? -->\n",
       "<g class=\"edge\" id=\"edge3\"><title>lung_cancer?-&gt;tuberculos_or_cancer?</title>\n",
       "<path d=\"M189.745,-287.697C189.745,-279.983 189.745,-270.712 189.745,-262.112\" fill=\"none\" stroke=\"black\"/>\n",
       "<polygon fill=\"black\" points=\"193.245,-262.104 189.745,-252.104 186.245,-262.104 193.245,-262.104\" stroke=\"black\"/>\n",
       "</g>\n",
       "<!-- bronchitis? -->\n",
       "<g class=\"node\" id=\"node3\"><title>bronchitis?</title>\n",
       "<g id=\"a_node3\"><a xlink:title=\"(2) bronchitis?\">\n",
       "<ellipse cx=\"191.745\" cy=\"-90\" fill=\"#444444\" rx=\"50.0912\" ry=\"18\" stroke=\"black\"/>\n",
       "<text fill=\"#ffffff\" font-family=\"Times,serif\" font-size=\"14.00\" text-anchor=\"middle\" x=\"191.745\" y=\"-86.3\">bronchitis?</text>\n",
       "</a>\n",
       "</g>\n",
       "</g>\n",
       "<!-- bronchitis?&#45;&gt;smoking? -->\n",
       "<g class=\"edge\" id=\"edge6\"><title>bronchitis?-&gt;smoking?</title>\n",
       "<path d=\"M191.745,-71.6966C191.745,-63.9827 191.745,-54.7125 191.745,-46.1124\" fill=\"none\" stroke=\"black\"/>\n",
       "<polygon fill=\"black\" points=\"195.245,-46.1043 191.745,-36.1043 188.245,-46.1044 195.245,-46.1043\" stroke=\"black\"/>\n",
       "</g>\n",
       "<!-- visit_to_Asia? -->\n",
       "<g class=\"node\" id=\"node4\"><title>visit_to_Asia?</title>\n",
       "<g id=\"a_node4\"><a xlink:title=\"(3) visit_to_Asia?\">\n",
       "<ellipse cx=\"61.7445\" cy=\"-90\" fill=\"#444444\" rx=\"61.99\" ry=\"18\" stroke=\"black\"/>\n",
       "<text fill=\"#ffffff\" font-family=\"Times,serif\" font-size=\"14.00\" text-anchor=\"middle\" x=\"61.7445\" y=\"-86.3\">visit_to_Asia?</text>\n",
       "</a>\n",
       "</g>\n",
       "</g>\n",
       "<!-- tuberculosis? -->\n",
       "<g class=\"node\" id=\"node5\"><title>tuberculosis?</title>\n",
       "<g id=\"a_node5\"><a xlink:title=\"(4) tuberculosis?\">\n",
       "<ellipse cx=\"63.7445\" cy=\"-162\" fill=\"#444444\" rx=\"57.3905\" ry=\"18\" stroke=\"black\"/>\n",
       "<text fill=\"#ffffff\" font-family=\"Times,serif\" font-size=\"14.00\" text-anchor=\"middle\" x=\"63.7445\" y=\"-158.3\">tuberculosis?</text>\n",
       "</a>\n",
       "</g>\n",
       "</g>\n",
       "<!-- tuberculosis?&#45;&gt;visit_to_Asia? -->\n",
       "<g class=\"edge\" id=\"edge1\"><title>tuberculosis?-&gt;visit_to_Asia?</title>\n",
       "<path d=\"M63.2501,-143.697C63.0297,-135.983 62.7649,-126.712 62.5192,-118.112\" fill=\"none\" stroke=\"black\"/>\n",
       "<polygon fill=\"black\" points=\"66.0175,-118 62.2332,-108.104 59.0203,-118.2 66.0175,-118\" stroke=\"black\"/>\n",
       "</g>\n",
       "<!-- tuberculos_or_cancer?&#45;&gt;tuberculosis? -->\n",
       "<g class=\"edge\" id=\"edge7\"><title>tuberculos_or_cancer?-&gt;tuberculosis?</title>\n",
       "<path d=\"M160.838,-216.941C142.648,-206.835 119.033,-193.716 99.6468,-182.946\" fill=\"none\" stroke=\"black\"/>\n",
       "<polygon fill=\"black\" points=\"101.234,-179.824 90.7928,-178.027 97.8346,-185.943 101.234,-179.824\" stroke=\"black\"/>\n",
       "</g>\n",
       "<!-- dyspnoea? -->\n",
       "<g class=\"node\" id=\"node7\"><title>dyspnoea?</title>\n",
       "<g id=\"a_node7\"><a xlink:title=\"(6) dyspnoea?\">\n",
       "<ellipse cx=\"189.745\" cy=\"-162\" fill=\"#444444\" rx=\"48.1917\" ry=\"18\" stroke=\"black\"/>\n",
       "<text fill=\"#ffffff\" font-family=\"Times,serif\" font-size=\"14.00\" text-anchor=\"middle\" x=\"189.745\" y=\"-158.3\">dyspnoea?</text>\n",
       "</a>\n",
       "</g>\n",
       "</g>\n",
       "<!-- tuberculos_or_cancer?&#45;&gt;dyspnoea? -->\n",
       "<g class=\"edge\" id=\"edge2\"><title>tuberculos_or_cancer?-&gt;dyspnoea?</title>\n",
       "<path d=\"M189.745,-215.697C189.745,-207.983 189.745,-198.712 189.745,-190.112\" fill=\"none\" stroke=\"black\"/>\n",
       "<polygon fill=\"black\" points=\"193.245,-190.104 189.745,-180.104 186.245,-190.104 193.245,-190.104\" stroke=\"black\"/>\n",
       "</g>\n",
       "<!-- positive_XraY? -->\n",
       "<g class=\"node\" id=\"node8\"><title>positive_XraY?</title>\n",
       "<g id=\"a_node8\"><a xlink:title=\"(7) positive_XraY?\">\n",
       "<ellipse cx=\"321.745\" cy=\"-162\" fill=\"#444444\" rx=\"66.0889\" ry=\"18\" stroke=\"black\"/>\n",
       "<text fill=\"#ffffff\" font-family=\"Times,serif\" font-size=\"14.00\" text-anchor=\"middle\" x=\"321.745\" y=\"-158.3\">positive_XraY?</text>\n",
       "</a>\n",
       "</g>\n",
       "</g>\n",
       "<!-- tuberculos_or_cancer?&#45;&gt;positive_XraY? -->\n",
       "<g class=\"edge\" id=\"edge4\"><title>tuberculos_or_cancer?-&gt;positive_XraY?</title>\n",
       "<path d=\"M220.028,-216.941C239.038,-206.86 263.704,-193.779 283.986,-183.023\" fill=\"none\" stroke=\"black\"/>\n",
       "<polygon fill=\"black\" points=\"285.765,-186.042 292.96,-178.264 282.486,-179.857 285.765,-186.042\" stroke=\"black\"/>\n",
       "</g>\n",
       "<!-- dyspnoea?&#45;&gt;bronchitis? -->\n",
       "<g class=\"edge\" id=\"edge5\"><title>dyspnoea?-&gt;bronchitis?</title>\n",
       "<path d=\"M190.239,-143.697C190.459,-135.983 190.724,-126.712 190.97,-118.112\" fill=\"none\" stroke=\"black\"/>\n",
       "<polygon fill=\"black\" points=\"194.469,-118.2 191.256,-108.104 187.472,-118 194.469,-118.2\" stroke=\"black\"/>\n",
       "</g>\n",
       "</g>\n",
       "</svg></div>"
      ],
      "text/plain": [
       "<IPython.core.display.HTML object>"
      ]
     },
     "metadata": {},
     "output_type": "display_data"
    }
   ],
   "source": [
    "learner=gum.BNLearner(\"sample_asia.csv\")\n",
    "learner.useGreedyHillClimbing()\n",
    "\n",
    "learner.setMaxIndegree(1) # no more than 1 parent by node\n",
    "\n",
    "bn2=learner.learnBN()\n",
    "gnb.showBN(bn2,size=\"5\")"
   ]
  },
  {
   "cell_type": "markdown",
   "metadata": {},
   "source": [
    "## 2. with prior structural knowledge"
   ]
  },
  {
   "cell_type": "code",
   "execution_count": 17,
   "metadata": {
    "collapsed": false
   },
   "outputs": [
    {
     "data": {
      "text/html": [
       "<div align='center'><svg height=\"360pt\" viewBox=\"0.00 0.00 260.61 360.00\" width=\"261pt\" xmlns=\"http://www.w3.org/2000/svg\" xmlns:xlink=\"http://www.w3.org/1999/xlink\">\n",
       "<g class=\"graph\" id=\"graph0\" transform=\"scale(0.756303 0.756303) rotate(0) translate(4 472)\">\n",
       "<title>G</title>\n",
       "<polygon fill=\"white\" points=\"-4,4 -4,-472 340.588,-472 340.588,4 -4,4\" stroke=\"none\"/>\n",
       "<!-- smoking? -->\n",
       "<g class=\"node\" id=\"node1\"><title>smoking?</title>\n",
       "<g id=\"a_node1\"><a xlink:title=\"(0) smoking?\">\n",
       "<ellipse cx=\"58.2934\" cy=\"-306\" fill=\"#444444\" rx=\"45.4919\" ry=\"18\" stroke=\"black\"/>\n",
       "<text fill=\"#ffffff\" font-family=\"Times,serif\" font-size=\"14.00\" text-anchor=\"middle\" x=\"58.2934\" y=\"-302.3\">smoking?</text>\n",
       "</a>\n",
       "</g>\n",
       "</g>\n",
       "<!-- lung_cancer? -->\n",
       "<g class=\"node\" id=\"node2\"><title>lung_cancer?</title>\n",
       "<g id=\"a_node2\"><a xlink:title=\"(1) lung_cancer?\">\n",
       "<ellipse cx=\"58.2934\" cy=\"-234\" fill=\"#444444\" rx=\"57.6901\" ry=\"18\" stroke=\"black\"/>\n",
       "<text fill=\"#ffffff\" font-family=\"Times,serif\" font-size=\"14.00\" text-anchor=\"middle\" x=\"58.2934\" y=\"-230.3\">lung_cancer?</text>\n",
       "</a>\n",
       "</g>\n",
       "</g>\n",
       "<!-- smoking?&#45;&gt;lung_cancer? -->\n",
       "<g class=\"edge\" id=\"edge3\"><title>smoking?-&gt;lung_cancer?</title>\n",
       "<path d=\"M58.2934,-287.697C58.2934,-279.983 58.2934,-270.712 58.2934,-262.112\" fill=\"none\" stroke=\"black\"/>\n",
       "<polygon fill=\"black\" points=\"61.7935,-262.104 58.2934,-252.104 54.7935,-262.104 61.7935,-262.104\" stroke=\"black\"/>\n",
       "</g>\n",
       "<!-- visit_to_Asia? -->\n",
       "<g class=\"node\" id=\"node4\"><title>visit_to_Asia?</title>\n",
       "<g id=\"a_node4\"><a xlink:title=\"(3) visit_to_Asia?\">\n",
       "<ellipse cx=\"86.2934\" cy=\"-90\" fill=\"#444444\" rx=\"61.99\" ry=\"18\" stroke=\"black\"/>\n",
       "<text fill=\"#ffffff\" font-family=\"Times,serif\" font-size=\"14.00\" text-anchor=\"middle\" x=\"86.2934\" y=\"-86.3\">visit_to_Asia?</text>\n",
       "</a>\n",
       "</g>\n",
       "</g>\n",
       "<!-- lung_cancer?&#45;&gt;visit_to_Asia? -->\n",
       "<g class=\"edge\" id=\"edge1\"><title>lung_cancer?-&gt;visit_to_Asia?</title>\n",
       "<path d=\"M61.6709,-215.871C66.464,-191.564 75.2869,-146.819 80.9668,-118.013\" fill=\"none\" stroke=\"black\"/>\n",
       "<polygon fill=\"black\" points=\"84.4032,-118.677 82.904,-108.189 77.5354,-117.323 84.4032,-118.677\" stroke=\"black\"/>\n",
       "</g>\n",
       "<!-- tuberculosis? -->\n",
       "<g class=\"node\" id=\"node5\"><title>tuberculosis?</title>\n",
       "<g id=\"a_node5\"><a xlink:title=\"(4) tuberculosis?\">\n",
       "<ellipse cx=\"86.2934\" cy=\"-18\" fill=\"#444444\" rx=\"57.3905\" ry=\"18\" stroke=\"black\"/>\n",
       "<text fill=\"#ffffff\" font-family=\"Times,serif\" font-size=\"14.00\" text-anchor=\"middle\" x=\"86.2934\" y=\"-14.3\">tuberculosis?</text>\n",
       "</a>\n",
       "</g>\n",
       "</g>\n",
       "<!-- lung_cancer?&#45;&gt;tuberculosis? -->\n",
       "<g class=\"edge\" id=\"edge4\"><title>lung_cancer?-&gt;tuberculosis?</title>\n",
       "<path d=\"M46.2799,-216.212C26.2754,-186.022 -9.34503,-121.138 15.2934,-72 22.1836,-58.2583 34.5145,-47.1685 46.988,-38.7544\" fill=\"none\" stroke=\"black\"/>\n",
       "<polygon fill=\"black\" points=\"48.9747,-41.6397 55.5812,-33.357 45.2514,-35.712 48.9747,-41.6397\" stroke=\"black\"/>\n",
       "</g>\n",
       "<!-- tuberculos_or_cancer? -->\n",
       "<g class=\"node\" id=\"node6\"><title>tuberculos_or_cancer?</title>\n",
       "<g id=\"a_node6\"><a xlink:title=\"(5) tuberculos_or_cancer?\">\n",
       "<ellipse cx=\"176.293\" cy=\"-162\" fill=\"#444444\" rx=\"90.1842\" ry=\"18\" stroke=\"black\"/>\n",
       "<text fill=\"#ffffff\" font-family=\"Times,serif\" font-size=\"14.00\" text-anchor=\"middle\" x=\"176.293\" y=\"-158.3\">tuberculos_or_cancer?</text>\n",
       "</a>\n",
       "</g>\n",
       "</g>\n",
       "<!-- lung_cancer?&#45;&gt;tuberculos_or_cancer? -->\n",
       "<g class=\"edge\" id=\"edge7\"><title>lung_cancer?-&gt;tuberculos_or_cancer?</title>\n",
       "<path d=\"M83.8976,-217.811C100.324,-208.066 121.901,-195.267 140.072,-184.487\" fill=\"none\" stroke=\"black\"/>\n",
       "<polygon fill=\"black\" points=\"141.866,-187.492 148.681,-179.38 138.295,-181.472 141.866,-187.492\" stroke=\"black\"/>\n",
       "</g>\n",
       "<!-- bronchitis? -->\n",
       "<g class=\"node\" id=\"node3\"><title>bronchitis?</title>\n",
       "<g id=\"a_node3\"><a xlink:title=\"(2) bronchitis?\">\n",
       "<ellipse cx=\"130.293\" cy=\"-378\" fill=\"#444444\" rx=\"50.0912\" ry=\"18\" stroke=\"black\"/>\n",
       "<text fill=\"#ffffff\" font-family=\"Times,serif\" font-size=\"14.00\" text-anchor=\"middle\" x=\"130.293\" y=\"-374.3\">bronchitis?</text>\n",
       "</a>\n",
       "</g>\n",
       "</g>\n",
       "<!-- bronchitis?&#45;&gt;smoking? -->\n",
       "<g class=\"edge\" id=\"edge13\"><title>bronchitis?-&gt;smoking?</title>\n",
       "<path d=\"M113.594,-360.765C104.234,-351.665 92.4029,-340.162 82.0879,-330.134\" fill=\"none\" stroke=\"black\"/>\n",
       "<polygon fill=\"black\" points=\"84.5118,-327.609 74.9021,-323.147 79.6322,-332.628 84.5118,-327.609\" stroke=\"black\"/>\n",
       "</g>\n",
       "<!-- bronchitis?&#45;&gt;lung_cancer? -->\n",
       "<g class=\"edge\" id=\"edge15\"><title>bronchitis?-&gt;lung_cancer?</title>\n",
       "<path d=\"M129.79,-359.924C128.59,-341.226 124.699,-310.862 112.293,-288 106.126,-276.635 96.7178,-266.173 87.4724,-257.601\" fill=\"none\" stroke=\"black\"/>\n",
       "<polygon fill=\"black\" points=\"89.6388,-254.845 79.8194,-250.867 85.0144,-260.1 89.6388,-254.845\" stroke=\"black\"/>\n",
       "</g>\n",
       "<!-- bronchitis?&#45;&gt;tuberculos_or_cancer? -->\n",
       "<g class=\"edge\" id=\"edge14\"><title>bronchitis?-&gt;tuberculos_or_cancer?</title>\n",
       "<path d=\"M133.98,-359.849C141.954,-322.753 160.858,-234.81 170.468,-190.103\" fill=\"none\" stroke=\"black\"/>\n",
       "<polygon fill=\"black\" points=\"173.909,-190.745 172.589,-180.232 167.066,-189.274 173.909,-190.745\" stroke=\"black\"/>\n",
       "</g>\n",
       "<!-- visit_to_Asia?&#45;&gt;tuberculosis? -->\n",
       "<g class=\"edge\" id=\"edge2\"><title>visit_to_Asia?-&gt;tuberculosis?</title>\n",
       "<path d=\"M86.2934,-71.6966C86.2934,-63.9827 86.2934,-54.7125 86.2934,-46.1124\" fill=\"none\" stroke=\"black\"/>\n",
       "<polygon fill=\"black\" points=\"89.7935,-46.1043 86.2934,-36.1043 82.7935,-46.1044 89.7935,-46.1043\" stroke=\"black\"/>\n",
       "</g>\n",
       "<!-- tuberculos_or_cancer?&#45;&gt;visit_to_Asia? -->\n",
       "<g class=\"edge\" id=\"edge9\"><title>tuberculos_or_cancer?-&gt;visit_to_Asia?</title>\n",
       "<path d=\"M154.965,-144.411C143.025,-135.125 127.978,-123.421 115.014,-113.338\" fill=\"none\" stroke=\"black\"/>\n",
       "<polygon fill=\"black\" points=\"116.892,-110.365 106.85,-106.988 112.594,-115.89 116.892,-110.365\" stroke=\"black\"/>\n",
       "</g>\n",
       "<!-- tuberculos_or_cancer?&#45;&gt;tuberculosis? -->\n",
       "<g class=\"edge\" id=\"edge12\"><title>tuberculos_or_cancer?-&gt;tuberculosis?</title>\n",
       "<path d=\"M176.147,-143.922C175.233,-124.948 171.445,-94.0816 157.293,-72 148.864,-58.847 135.948,-47.7885 123.432,-39.2328\" fill=\"none\" stroke=\"black\"/>\n",
       "<polygon fill=\"black\" points=\"125.19,-36.2016 114.891,-33.7145 121.391,-42.0812 125.19,-36.2016\" stroke=\"black\"/>\n",
       "</g>\n",
       "<!-- positive_XraY? -->\n",
       "<g class=\"node\" id=\"node8\"><title>positive_XraY?</title>\n",
       "<g id=\"a_node8\"><a xlink:title=\"(7) positive_XraY?\">\n",
       "<ellipse cx=\"270.293\" cy=\"-90\" fill=\"#444444\" rx=\"66.0889\" ry=\"18\" stroke=\"black\"/>\n",
       "<text fill=\"#ffffff\" font-family=\"Times,serif\" font-size=\"14.00\" text-anchor=\"middle\" x=\"270.293\" y=\"-86.3\">positive_XraY?</text>\n",
       "</a>\n",
       "</g>\n",
       "</g>\n",
       "<!-- tuberculos_or_cancer?&#45;&gt;positive_XraY? -->\n",
       "<g class=\"edge\" id=\"edge8\"><title>tuberculos_or_cancer?-&gt;positive_XraY?</title>\n",
       "<path d=\"M198.57,-144.411C211.069,-135.103 226.829,-123.367 240.39,-113.268\" fill=\"none\" stroke=\"black\"/>\n",
       "<polygon fill=\"black\" points=\"242.571,-116.008 248.501,-107.228 238.39,-110.394 242.571,-116.008\" stroke=\"black\"/>\n",
       "</g>\n",
       "<!-- dyspnoea? -->\n",
       "<g class=\"node\" id=\"node7\"><title>dyspnoea?</title>\n",
       "<g id=\"a_node7\"><a xlink:title=\"(6) dyspnoea?\">\n",
       "<ellipse cx=\"91.2934\" cy=\"-450\" fill=\"#444444\" rx=\"48.1917\" ry=\"18\" stroke=\"black\"/>\n",
       "<text fill=\"#ffffff\" font-family=\"Times,serif\" font-size=\"14.00\" text-anchor=\"middle\" x=\"91.2934\" y=\"-446.3\">dyspnoea?</text>\n",
       "</a>\n",
       "</g>\n",
       "</g>\n",
       "<!-- dyspnoea?&#45;&gt;smoking? -->\n",
       "<g class=\"edge\" id=\"edge6\"><title>dyspnoea?-&gt;smoking?</title>\n",
       "<path d=\"M83.853,-432.117C79.6004,-421.852 74.4929,-408.378 71.2934,-396 66.0262,-375.622 62.7016,-352.03 60.7343,-334.258\" fill=\"none\" stroke=\"black\"/>\n",
       "<polygon fill=\"black\" points=\"64.2127,-333.868 59.7039,-324.28 57.2497,-334.587 64.2127,-333.868\" stroke=\"black\"/>\n",
       "</g>\n",
       "<!-- dyspnoea?&#45;&gt;lung_cancer? -->\n",
       "<g class=\"edge\" id=\"edge10\"><title>dyspnoea?-&gt;lung_cancer?</title>\n",
       "<path d=\"M75.1964,-433.016C54.1211,-410.833 18.2239,-368.401 4.2934,-324 -0.496308,-308.734 -1.89854,-302.753 4.2934,-288 9.25786,-276.171 18.2928,-265.655 27.5702,-257.17\" fill=\"none\" stroke=\"black\"/>\n",
       "<polygon fill=\"black\" points=\"30.0054,-259.693 35.3363,-250.537 25.4591,-254.371 30.0054,-259.693\" stroke=\"black\"/>\n",
       "</g>\n",
       "<!-- dyspnoea?&#45;&gt;bronchitis? -->\n",
       "<g class=\"edge\" id=\"edge11\"><title>dyspnoea?-&gt;bronchitis?</title>\n",
       "<path d=\"M100.734,-432.055C105.333,-423.801 110.96,-413.701 116.065,-404.538\" fill=\"none\" stroke=\"black\"/>\n",
       "<polygon fill=\"black\" points=\"119.13,-406.228 120.94,-395.789 113.015,-402.821 119.13,-406.228\" stroke=\"black\"/>\n",
       "</g>\n",
       "<!-- dyspnoea?&#45;&gt;tuberculos_or_cancer? -->\n",
       "<g class=\"edge\" id=\"edge5\"><title>dyspnoea?-&gt;tuberculos_or_cancer?</title>\n",
       "<path d=\"M129.789,-438.818C151.348,-430.929 176.419,-417.6 189.293,-396 228.345,-330.483 202.929,-235.319 186.745,-189.546\" fill=\"none\" stroke=\"black\"/>\n",
       "<polygon fill=\"black\" points=\"189.99,-188.227 183.263,-180.042 183.417,-190.635 189.99,-188.227\" stroke=\"black\"/>\n",
       "</g>\n",
       "</g>\n",
       "</svg></div>"
      ],
      "text/plain": [
       "<IPython.core.display.HTML object>"
      ]
     },
     "metadata": {},
     "output_type": "display_data"
    },
    {
     "data": {
      "text/plain": [
       "{'bhattacharya': 5.590267167359873,\n",
       " 'errorPQ': 0,\n",
       " 'errorQP': 128,\n",
       " 'hellinger': 1.411570746096023,\n",
       " 'klPQ': 22.501716722173146,\n",
       " 'klQP': 20.174341281195876}"
      ]
     },
     "execution_count": 17,
     "metadata": {},
     "output_type": "execute_result"
    }
   ],
   "source": [
    "learner=gum.BNLearner(\"sample_asia.csv\")\n",
    "learner.useGreedyHillClimbing()\n",
    "\n",
    "# I know that smoking causes cancer\n",
    "learner.addMandatoryArc(0,1) # smoking->lung_cancer\n",
    "learner.addMandatoryArc(\"visit_to_Asia?\",\"tuberculosis?\")\n",
    "\n",
    "bn2=learner.learnBN()\n",
    "gnb.showBN(bn2,size=\"5\")\n",
    "kl=gum.BruteForceKL(bn,bn2)\n",
    "kl.compute()"
   ]
  },
  {
   "cell_type": "markdown",
   "metadata": {},
   "source": [
    "## 3. changing the scores"
   ]
  },
  {
   "cell_type": "markdown",
   "metadata": {},
   "source": [
    "By default, a BDEU score is used. But it can be changed."
   ]
  },
  {
   "cell_type": "code",
   "execution_count": 18,
   "metadata": {
    "collapsed": false
   },
   "outputs": [
    {
     "data": {
      "text/html": [
       "<div align='center'><svg height=\"360pt\" viewBox=\"0.00 0.00 209.53 360.00\" width=\"210pt\" xmlns=\"http://www.w3.org/2000/svg\" xmlns:xlink=\"http://www.w3.org/1999/xlink\">\n",
       "<g class=\"graph\" id=\"graph0\" transform=\"scale(0.756303 0.756303) rotate(0) translate(4 472)\">\n",
       "<title>G</title>\n",
       "<polygon fill=\"white\" points=\"-4,4 -4,-472 273.039,-472 273.039,4 -4,4\" stroke=\"none\"/>\n",
       "<!-- smoking? -->\n",
       "<g class=\"node\" id=\"node1\"><title>smoking?</title>\n",
       "<g id=\"a_node1\"><a xlink:title=\"(0) smoking?\">\n",
       "<ellipse cx=\"131.745\" cy=\"-306\" fill=\"#444444\" rx=\"45.4919\" ry=\"18\" stroke=\"black\"/>\n",
       "<text fill=\"#ffffff\" font-family=\"Times,serif\" font-size=\"14.00\" text-anchor=\"middle\" x=\"131.745\" y=\"-302.3\">smoking?</text>\n",
       "</a>\n",
       "</g>\n",
       "</g>\n",
       "<!-- lung_cancer? -->\n",
       "<g class=\"node\" id=\"node2\"><title>lung_cancer?</title>\n",
       "<g id=\"a_node2\"><a xlink:title=\"(1) lung_cancer?\">\n",
       "<ellipse cx=\"131.745\" cy=\"-234\" fill=\"#444444\" rx=\"57.6901\" ry=\"18\" stroke=\"black\"/>\n",
       "<text fill=\"#ffffff\" font-family=\"Times,serif\" font-size=\"14.00\" text-anchor=\"middle\" x=\"131.745\" y=\"-230.3\">lung_cancer?</text>\n",
       "</a>\n",
       "</g>\n",
       "</g>\n",
       "<!-- smoking?&#45;&gt;lung_cancer? -->\n",
       "<g class=\"edge\" id=\"edge1\"><title>smoking?-&gt;lung_cancer?</title>\n",
       "<path d=\"M131.745,-287.697C131.745,-279.983 131.745,-270.712 131.745,-262.112\" fill=\"none\" stroke=\"black\"/>\n",
       "<polygon fill=\"black\" points=\"135.245,-262.104 131.745,-252.104 128.245,-262.104 135.245,-262.104\" stroke=\"black\"/>\n",
       "</g>\n",
       "<!-- tuberculos_or_cancer? -->\n",
       "<g class=\"node\" id=\"node6\"><title>tuberculos_or_cancer?</title>\n",
       "<g id=\"a_node6\"><a xlink:title=\"(5) tuberculos_or_cancer?\">\n",
       "<ellipse cx=\"131.745\" cy=\"-162\" fill=\"#444444\" rx=\"90.1842\" ry=\"18\" stroke=\"black\"/>\n",
       "<text fill=\"#ffffff\" font-family=\"Times,serif\" font-size=\"14.00\" text-anchor=\"middle\" x=\"131.745\" y=\"-158.3\">tuberculos_or_cancer?</text>\n",
       "</a>\n",
       "</g>\n",
       "</g>\n",
       "<!-- lung_cancer?&#45;&gt;tuberculos_or_cancer? -->\n",
       "<g class=\"edge\" id=\"edge3\"><title>lung_cancer?-&gt;tuberculos_or_cancer?</title>\n",
       "<path d=\"M131.745,-215.697C131.745,-207.983 131.745,-198.712 131.745,-190.112\" fill=\"none\" stroke=\"black\"/>\n",
       "<polygon fill=\"black\" points=\"135.245,-190.104 131.745,-180.104 128.245,-190.104 135.245,-190.104\" stroke=\"black\"/>\n",
       "</g>\n",
       "<!-- bronchitis? -->\n",
       "<g class=\"node\" id=\"node3\"><title>bronchitis?</title>\n",
       "<g id=\"a_node3\"><a xlink:title=\"(2) bronchitis?\">\n",
       "<ellipse cx=\"131.745\" cy=\"-378\" fill=\"#444444\" rx=\"50.0912\" ry=\"18\" stroke=\"black\"/>\n",
       "<text fill=\"#ffffff\" font-family=\"Times,serif\" font-size=\"14.00\" text-anchor=\"middle\" x=\"131.745\" y=\"-374.3\">bronchitis?</text>\n",
       "</a>\n",
       "</g>\n",
       "</g>\n",
       "<!-- bronchitis?&#45;&gt;smoking? -->\n",
       "<g class=\"edge\" id=\"edge6\"><title>bronchitis?-&gt;smoking?</title>\n",
       "<path d=\"M131.745,-359.697C131.745,-351.983 131.745,-342.712 131.745,-334.112\" fill=\"none\" stroke=\"black\"/>\n",
       "<polygon fill=\"black\" points=\"135.245,-334.104 131.745,-324.104 128.245,-334.104 135.245,-334.104\" stroke=\"black\"/>\n",
       "</g>\n",
       "<!-- visit_to_Asia? -->\n",
       "<g class=\"node\" id=\"node4\"><title>visit_to_Asia?</title>\n",
       "<g id=\"a_node4\"><a xlink:title=\"(3) visit_to_Asia?\">\n",
       "<ellipse cx=\"61.7445\" cy=\"-18\" fill=\"#444444\" rx=\"61.99\" ry=\"18\" stroke=\"black\"/>\n",
       "<text fill=\"#ffffff\" font-family=\"Times,serif\" font-size=\"14.00\" text-anchor=\"middle\" x=\"61.7445\" y=\"-14.3\">visit_to_Asia?</text>\n",
       "</a>\n",
       "</g>\n",
       "</g>\n",
       "<!-- tuberculosis? -->\n",
       "<g class=\"node\" id=\"node5\"><title>tuberculosis?</title>\n",
       "<g id=\"a_node5\"><a xlink:title=\"(4) tuberculosis?\">\n",
       "<ellipse cx=\"61.7445\" cy=\"-90\" fill=\"#444444\" rx=\"57.3905\" ry=\"18\" stroke=\"black\"/>\n",
       "<text fill=\"#ffffff\" font-family=\"Times,serif\" font-size=\"14.00\" text-anchor=\"middle\" x=\"61.7445\" y=\"-86.3\">tuberculosis?</text>\n",
       "</a>\n",
       "</g>\n",
       "</g>\n",
       "<!-- tuberculosis?&#45;&gt;visit_to_Asia? -->\n",
       "<g class=\"edge\" id=\"edge2\"><title>tuberculosis?-&gt;visit_to_Asia?</title>\n",
       "<path d=\"M61.7445,-71.6966C61.7445,-63.9827 61.7445,-54.7125 61.7445,-46.1124\" fill=\"none\" stroke=\"black\"/>\n",
       "<polygon fill=\"black\" points=\"65.2446,-46.1043 61.7445,-36.1043 58.2446,-46.1044 65.2446,-46.1043\" stroke=\"black\"/>\n",
       "</g>\n",
       "<!-- tuberculos_or_cancer?&#45;&gt;tuberculosis? -->\n",
       "<g class=\"edge\" id=\"edge7\"><title>tuberculos_or_cancer?-&gt;tuberculosis?</title>\n",
       "<path d=\"M114.799,-144.055C105.9,-135.156 94.8566,-124.112 85.153,-114.408\" fill=\"none\" stroke=\"black\"/>\n",
       "<polygon fill=\"black\" points=\"87.5975,-111.903 78.0515,-107.307 82.6477,-116.853 87.5975,-111.903\" stroke=\"black\"/>\n",
       "</g>\n",
       "<!-- positive_XraY? -->\n",
       "<g class=\"node\" id=\"node8\"><title>positive_XraY?</title>\n",
       "<g id=\"a_node8\"><a xlink:title=\"(7) positive_XraY?\">\n",
       "<ellipse cx=\"202.745\" cy=\"-90\" fill=\"#444444\" rx=\"66.0889\" ry=\"18\" stroke=\"black\"/>\n",
       "<text fill=\"#ffffff\" font-family=\"Times,serif\" font-size=\"14.00\" text-anchor=\"middle\" x=\"202.745\" y=\"-86.3\">positive_XraY?</text>\n",
       "</a>\n",
       "</g>\n",
       "</g>\n",
       "<!-- tuberculos_or_cancer?&#45;&gt;positive_XraY? -->\n",
       "<g class=\"edge\" id=\"edge4\"><title>tuberculos_or_cancer?-&gt;positive_XraY?</title>\n",
       "<path d=\"M148.932,-144.055C157.827,-135.285 168.835,-124.432 178.573,-114.831\" fill=\"none\" stroke=\"black\"/>\n",
       "<polygon fill=\"black\" points=\"181.052,-117.302 185.716,-107.789 176.137,-112.317 181.052,-117.302\" stroke=\"black\"/>\n",
       "</g>\n",
       "<!-- dyspnoea? -->\n",
       "<g class=\"node\" id=\"node7\"><title>dyspnoea?</title>\n",
       "<g id=\"a_node7\"><a xlink:title=\"(6) dyspnoea?\">\n",
       "<ellipse cx=\"131.745\" cy=\"-450\" fill=\"#444444\" rx=\"48.1917\" ry=\"18\" stroke=\"black\"/>\n",
       "<text fill=\"#ffffff\" font-family=\"Times,serif\" font-size=\"14.00\" text-anchor=\"middle\" x=\"131.745\" y=\"-446.3\">dyspnoea?</text>\n",
       "</a>\n",
       "</g>\n",
       "</g>\n",
       "<!-- dyspnoea?&#45;&gt;bronchitis? -->\n",
       "<g class=\"edge\" id=\"edge5\"><title>dyspnoea?-&gt;bronchitis?</title>\n",
       "<path d=\"M131.745,-431.697C131.745,-423.983 131.745,-414.712 131.745,-406.112\" fill=\"none\" stroke=\"black\"/>\n",
       "<polygon fill=\"black\" points=\"135.245,-406.104 131.745,-396.104 128.245,-406.104 135.245,-406.104\" stroke=\"black\"/>\n",
       "</g>\n",
       "</g>\n",
       "</svg></div>"
      ],
      "text/plain": [
       "<IPython.core.display.HTML object>"
      ]
     },
     "metadata": {},
     "output_type": "display_data"
    },
    {
     "data": {
      "text/plain": [
       "{'bhattacharya': 4.494522638036479,\n",
       " 'errorPQ': 64,\n",
       " 'errorQP': 96,\n",
       " 'hellinger': 1.4062929757494587,\n",
       " 'klPQ': 15.760210603820498,\n",
       " 'klQP': 20.138069193883556}"
      ]
     },
     "execution_count": 18,
     "metadata": {},
     "output_type": "execute_result"
    }
   ],
   "source": [
    "learner=gum.BNLearner(\"sample_asia.csv\")\n",
    "learner.useGreedyHillClimbing()\n",
    "\n",
    "# I know that smoking causes cancer\n",
    "learner.addMandatoryArc(0,1)\n",
    "\n",
    "# we prefere a log2likelihood score\n",
    "learner.useScoreLog2Likelihood()\n",
    "\n",
    "# in order to control the complexity, we limit the number of parents\n",
    "learner.setMaxIndegree(1) # no more than 1 parent by node\n",
    "\n",
    "bn2=learner.learnBN()\n",
    "gnb.showBN(bn2,size=\"5\")\n",
    "kl=gum.BruteForceKL(bn,bn2)\n",
    "kl.compute()"
   ]
  },
  {
   "cell_type": "markdown",
   "metadata": {},
   "source": [
    "## 4. Mixing algorithms"
   ]
  },
  {
   "cell_type": "markdown",
   "metadata": {},
   "source": [
    "First we learn a structure with HillClimbing (faster ?)"
   ]
  },
  {
   "cell_type": "code",
   "execution_count": 19,
   "metadata": {
    "collapsed": false
   },
   "outputs": [
    {
     "data": {
      "text/html": [
       "<div align='center'><svg height=\"288pt\" viewBox=\"0.00 0.00 193.85 288.00\" width=\"194pt\" xmlns=\"http://www.w3.org/2000/svg\" xmlns:xlink=\"http://www.w3.org/1999/xlink\">\n",
       "<g class=\"graph\" id=\"graph0\" transform=\"scale(0.605042 0.605042) rotate(0) translate(4 472)\">\n",
       "<title>G</title>\n",
       "<polygon fill=\"white\" points=\"-4,4 -4,-472 316.388,-472 316.388,4 -4,4\" stroke=\"none\"/>\n",
       "<!-- smoking? -->\n",
       "<g class=\"node\" id=\"node1\"><title>smoking?</title>\n",
       "<g id=\"a_node1\"><a xlink:title=\"(0) smoking?\">\n",
       "<ellipse cx=\"167.046\" cy=\"-234\" fill=\"#444444\" rx=\"45.4919\" ry=\"18\" stroke=\"black\"/>\n",
       "<text fill=\"#ffffff\" font-family=\"Times,serif\" font-size=\"14.00\" text-anchor=\"middle\" x=\"167.046\" y=\"-230.3\">smoking?</text>\n",
       "</a>\n",
       "</g>\n",
       "</g>\n",
       "<!-- lung_cancer? -->\n",
       "<g class=\"node\" id=\"node2\"><title>lung_cancer?</title>\n",
       "<g id=\"a_node2\"><a xlink:title=\"(1) lung_cancer?\">\n",
       "<ellipse cx=\"167.046\" cy=\"-162\" fill=\"#444444\" rx=\"57.6901\" ry=\"18\" stroke=\"black\"/>\n",
       "<text fill=\"#ffffff\" font-family=\"Times,serif\" font-size=\"14.00\" text-anchor=\"middle\" x=\"167.046\" y=\"-158.3\">lung_cancer?</text>\n",
       "</a>\n",
       "</g>\n",
       "</g>\n",
       "<!-- smoking?&#45;&gt;lung_cancer? -->\n",
       "<g class=\"edge\" id=\"edge3\"><title>smoking?-&gt;lung_cancer?</title>\n",
       "<path d=\"M167.046,-215.697C167.046,-207.983 167.046,-198.712 167.046,-190.112\" fill=\"none\" stroke=\"black\"/>\n",
       "<polygon fill=\"black\" points=\"170.546,-190.104 167.046,-180.104 163.546,-190.104 170.546,-190.104\" stroke=\"black\"/>\n",
       "</g>\n",
       "<!-- tuberculos_or_cancer? -->\n",
       "<g class=\"node\" id=\"node6\"><title>tuberculos_or_cancer?</title>\n",
       "<g id=\"a_node6\"><a xlink:title=\"(5) tuberculos_or_cancer?\">\n",
       "<ellipse cx=\"222.046\" cy=\"-90\" fill=\"#444444\" rx=\"90.1842\" ry=\"18\" stroke=\"black\"/>\n",
       "<text fill=\"#ffffff\" font-family=\"Times,serif\" font-size=\"14.00\" text-anchor=\"middle\" x=\"222.046\" y=\"-86.3\">tuberculos_or_cancer?</text>\n",
       "</a>\n",
       "</g>\n",
       "</g>\n",
       "<!-- lung_cancer?&#45;&gt;tuberculos_or_cancer? -->\n",
       "<g class=\"edge\" id=\"edge5\"><title>lung_cancer?-&gt;tuberculos_or_cancer?</title>\n",
       "<path d=\"M180.08,-144.411C186.763,-135.906 195.039,-125.372 202.47,-115.914\" fill=\"none\" stroke=\"black\"/>\n",
       "<polygon fill=\"black\" points=\"205.297,-117.982 208.723,-107.956 199.792,-113.657 205.297,-117.982\" stroke=\"black\"/>\n",
       "</g>\n",
       "<!-- bronchitis? -->\n",
       "<g class=\"node\" id=\"node3\"><title>bronchitis?</title>\n",
       "<g id=\"a_node3\"><a xlink:title=\"(2) bronchitis?\">\n",
       "<ellipse cx=\"50.0456\" cy=\"-378\" fill=\"#444444\" rx=\"50.0912\" ry=\"18\" stroke=\"black\"/>\n",
       "<text fill=\"#ffffff\" font-family=\"Times,serif\" font-size=\"14.00\" text-anchor=\"middle\" x=\"50.0456\" y=\"-374.3\">bronchitis?</text>\n",
       "</a>\n",
       "</g>\n",
       "</g>\n",
       "<!-- bronchitis?&#45;&gt;smoking? -->\n",
       "<g class=\"edge\" id=\"edge11\"><title>bronchitis?-&gt;smoking?</title>\n",
       "<path d=\"M49.6041,-359.867C49.9645,-340.56 53.2318,-309.121 69.0456,-288 82.2356,-270.383 103.059,-257.957 122.125,-249.587\" fill=\"none\" stroke=\"black\"/>\n",
       "<polygon fill=\"black\" points=\"123.68,-252.731 131.593,-245.686 121.014,-246.259 123.68,-252.731\" stroke=\"black\"/>\n",
       "</g>\n",
       "<!-- bronchitis?&#45;&gt;lung_cancer? -->\n",
       "<g class=\"edge\" id=\"edge13\"><title>bronchitis?-&gt;lung_cancer?</title>\n",
       "<path d=\"M46.8505,-359.743C44.1823,-341.416 41.9757,-311.858 50.0456,-288 65.042,-243.664 105.853,-206.579 135.049,-184.598\" fill=\"none\" stroke=\"black\"/>\n",
       "<polygon fill=\"black\" points=\"137.323,-187.271 143.32,-178.537 133.185,-181.625 137.323,-187.271\" stroke=\"black\"/>\n",
       "</g>\n",
       "<!-- dyspnoea? -->\n",
       "<g class=\"node\" id=\"node7\"><title>dyspnoea?</title>\n",
       "<g id=\"a_node7\"><a xlink:title=\"(6) dyspnoea?\">\n",
       "<ellipse cx=\"126.046\" cy=\"-306\" fill=\"#444444\" rx=\"48.1917\" ry=\"18\" stroke=\"black\"/>\n",
       "<text fill=\"#ffffff\" font-family=\"Times,serif\" font-size=\"14.00\" text-anchor=\"middle\" x=\"126.046\" y=\"-302.3\">dyspnoea?</text>\n",
       "</a>\n",
       "</g>\n",
       "</g>\n",
       "<!-- bronchitis?&#45;&gt;dyspnoea? -->\n",
       "<g class=\"edge\" id=\"edge1\"><title>bronchitis?-&gt;dyspnoea?</title>\n",
       "<path d=\"M67.6725,-360.765C77.623,-351.6 90.2196,-339.998 101.162,-329.919\" fill=\"none\" stroke=\"black\"/>\n",
       "<polygon fill=\"black\" points=\"103.792,-332.255 108.776,-322.906 99.0496,-327.106 103.792,-332.255\" stroke=\"black\"/>\n",
       "</g>\n",
       "<!-- visit_to_Asia? -->\n",
       "<g class=\"node\" id=\"node4\"><title>visit_to_Asia?</title>\n",
       "<g id=\"a_node4\"><a xlink:title=\"(3) visit_to_Asia?\">\n",
       "<ellipse cx=\"221.046\" cy=\"-450\" fill=\"#444444\" rx=\"61.99\" ry=\"18\" stroke=\"black\"/>\n",
       "<text fill=\"#ffffff\" font-family=\"Times,serif\" font-size=\"14.00\" text-anchor=\"middle\" x=\"221.046\" y=\"-446.3\">visit_to_Asia?</text>\n",
       "</a>\n",
       "</g>\n",
       "</g>\n",
       "<!-- tuberculosis? -->\n",
       "<g class=\"node\" id=\"node5\"><title>tuberculosis?</title>\n",
       "<g id=\"a_node5\"><a xlink:title=\"(4) tuberculosis?\">\n",
       "<ellipse cx=\"221.046\" cy=\"-378\" fill=\"#444444\" rx=\"57.3905\" ry=\"18\" stroke=\"black\"/>\n",
       "<text fill=\"#ffffff\" font-family=\"Times,serif\" font-size=\"14.00\" text-anchor=\"middle\" x=\"221.046\" y=\"-374.3\">tuberculosis?</text>\n",
       "</a>\n",
       "</g>\n",
       "</g>\n",
       "<!-- visit_to_Asia?&#45;&gt;tuberculosis? -->\n",
       "<g class=\"edge\" id=\"edge2\"><title>visit_to_Asia?-&gt;tuberculosis?</title>\n",
       "<path d=\"M221.046,-431.697C221.046,-423.983 221.046,-414.712 221.046,-406.112\" fill=\"none\" stroke=\"black\"/>\n",
       "<polygon fill=\"black\" points=\"224.546,-406.104 221.046,-396.104 217.546,-406.104 224.546,-406.104\" stroke=\"black\"/>\n",
       "</g>\n",
       "<!-- tuberculosis?&#45;&gt;smoking? -->\n",
       "<g class=\"edge\" id=\"edge7\"><title>tuberculosis?-&gt;smoking?</title>\n",
       "<path d=\"M214.532,-359.871C205.248,-335.457 188.123,-290.426 177.174,-261.635\" fill=\"none\" stroke=\"black\"/>\n",
       "<polygon fill=\"black\" points=\"180.408,-260.292 173.582,-252.189 173.865,-262.78 180.408,-260.292\" stroke=\"black\"/>\n",
       "</g>\n",
       "<!-- tuberculosis?&#45;&gt;lung_cancer? -->\n",
       "<g class=\"edge\" id=\"edge10\"><title>tuberculosis?-&gt;lung_cancer?</title>\n",
       "<path d=\"M225.247,-359.698C231.747,-329.252 241.49,-264.712 221.046,-216 216.081,-204.171 207.046,-193.655 197.769,-185.17\" fill=\"none\" stroke=\"black\"/>\n",
       "<polygon fill=\"black\" points=\"199.88,-182.371 190.003,-178.537 195.334,-187.693 199.88,-182.371\" stroke=\"black\"/>\n",
       "</g>\n",
       "<!-- tuberculosis?&#45;&gt;tuberculos_or_cancer? -->\n",
       "<g class=\"edge\" id=\"edge9\"><title>tuberculosis?-&gt;tuberculos_or_cancer?</title>\n",
       "<path d=\"M231.821,-360.084C237.58,-350.029 244.08,-336.779 247.046,-324 264.075,-250.622 243.393,-161.502 230.642,-117.796\" fill=\"none\" stroke=\"black\"/>\n",
       "<polygon fill=\"black\" points=\"233.985,-116.759 227.752,-108.192 227.282,-118.777 233.985,-116.759\" stroke=\"black\"/>\n",
       "</g>\n",
       "<!-- tuberculosis?&#45;&gt;dyspnoea? -->\n",
       "<g class=\"edge\" id=\"edge12\"><title>tuberculosis?-&gt;dyspnoea?</title>\n",
       "<path d=\"M199.489,-361.116C186.309,-351.405 169.285,-338.861 154.947,-328.296\" fill=\"none\" stroke=\"black\"/>\n",
       "<polygon fill=\"black\" points=\"156.991,-325.454 146.864,-322.34 152.839,-331.09 156.991,-325.454\" stroke=\"black\"/>\n",
       "</g>\n",
       "<!-- positive_XraY? -->\n",
       "<g class=\"node\" id=\"node8\"><title>positive_XraY?</title>\n",
       "<g id=\"a_node8\"><a xlink:title=\"(7) positive_XraY?\">\n",
       "<ellipse cx=\"222.046\" cy=\"-18\" fill=\"#444444\" rx=\"66.0889\" ry=\"18\" stroke=\"black\"/>\n",
       "<text fill=\"#ffffff\" font-family=\"Times,serif\" font-size=\"14.00\" text-anchor=\"middle\" x=\"222.046\" y=\"-14.3\">positive_XraY?</text>\n",
       "</a>\n",
       "</g>\n",
       "</g>\n",
       "<!-- tuberculos_or_cancer?&#45;&gt;positive_XraY? -->\n",
       "<g class=\"edge\" id=\"edge6\"><title>tuberculos_or_cancer?-&gt;positive_XraY?</title>\n",
       "<path d=\"M222.046,-71.6966C222.046,-63.9827 222.046,-54.7125 222.046,-46.1124\" fill=\"none\" stroke=\"black\"/>\n",
       "<polygon fill=\"black\" points=\"225.546,-46.1043 222.046,-36.1043 218.546,-46.1044 225.546,-46.1043\" stroke=\"black\"/>\n",
       "</g>\n",
       "<!-- dyspnoea?&#45;&gt;smoking? -->\n",
       "<g class=\"edge\" id=\"edge4\"><title>dyspnoea?-&gt;smoking?</title>\n",
       "<path d=\"M135.971,-288.055C140.805,-279.801 146.72,-269.701 152.088,-260.538\" fill=\"none\" stroke=\"black\"/>\n",
       "<polygon fill=\"black\" points=\"155.178,-262.187 157.212,-251.789 149.138,-258.649 155.178,-262.187\" stroke=\"black\"/>\n",
       "</g>\n",
       "<!-- dyspnoea?&#45;&gt;lung_cancer? -->\n",
       "<g class=\"edge\" id=\"edge8\"><title>dyspnoea?-&gt;lung_cancer?</title>\n",
       "<path d=\"M118.376,-287.928C111.257,-269.498 103.135,-239.614 113.046,-216 118.01,-204.171 127.045,-193.655 136.322,-185.17\" fill=\"none\" stroke=\"black\"/>\n",
       "<polygon fill=\"black\" points=\"138.758,-187.693 144.088,-178.537 134.211,-182.371 138.758,-187.693\" stroke=\"black\"/>\n",
       "</g>\n",
       "</g>\n",
       "</svg></div>"
      ],
      "text/plain": [
       "<IPython.core.display.HTML object>"
      ]
     },
     "metadata": {},
     "output_type": "display_data"
    }
   ],
   "source": [
    "learner=gum.BNLearner(\"sample_asia.csv\")\n",
    "learner.useGreedyHillClimbing()\n",
    "learner.addMandatoryArc(0,1)\n",
    "bn2=learner.learnBN()\n",
    "gnb.showBN(bn2)"
   ]
  },
  {
   "cell_type": "markdown",
   "metadata": {},
   "source": [
    "And then we refine with tabuList"
   ]
  },
  {
   "cell_type": "code",
   "execution_count": 21,
   "metadata": {
    "collapsed": false
   },
   "outputs": [
    {
     "data": {
      "text/html": [
       "<div align='center'><svg height=\"288pt\" viewBox=\"0.00 0.00 244.37 288.00\" width=\"244pt\" xmlns=\"http://www.w3.org/2000/svg\" xmlns:xlink=\"http://www.w3.org/1999/xlink\">\n",
       "<g class=\"graph\" id=\"graph0\" transform=\"scale(0.86747 0.86747) rotate(0) translate(4 328)\">\n",
       "<title>G</title>\n",
       "<polygon fill=\"white\" points=\"-4,4 -4,-328 277.708,-328 277.708,4 -4,4\" stroke=\"none\"/>\n",
       "<!-- smoking? -->\n",
       "<g class=\"node\" id=\"node1\"><title>smoking?</title>\n",
       "<g id=\"a_node1\"><a xlink:title=\"(0) smoking?\">\n",
       "<ellipse cx=\"213.366\" cy=\"-234\" fill=\"#444444\" rx=\"45.4919\" ry=\"18\" stroke=\"black\"/>\n",
       "<text fill=\"#ffffff\" font-family=\"Times,serif\" font-size=\"14.00\" text-anchor=\"middle\" x=\"213.366\" y=\"-230.3\">smoking?</text>\n",
       "</a>\n",
       "</g>\n",
       "</g>\n",
       "<!-- lung_cancer? -->\n",
       "<g class=\"node\" id=\"node2\"><title>lung_cancer?</title>\n",
       "<g id=\"a_node2\"><a xlink:title=\"(1) lung_cancer?\">\n",
       "<ellipse cx=\"215.366\" cy=\"-162\" fill=\"#444444\" rx=\"57.6901\" ry=\"18\" stroke=\"black\"/>\n",
       "<text fill=\"#ffffff\" font-family=\"Times,serif\" font-size=\"14.00\" text-anchor=\"middle\" x=\"215.366\" y=\"-158.3\">lung_cancer?</text>\n",
       "</a>\n",
       "</g>\n",
       "</g>\n",
       "<!-- smoking?&#45;&gt;lung_cancer? -->\n",
       "<g class=\"edge\" id=\"edge4\"><title>smoking?-&gt;lung_cancer?</title>\n",
       "<path d=\"M213.861,-215.697C214.081,-207.983 214.346,-198.712 214.591,-190.112\" fill=\"none\" stroke=\"black\"/>\n",
       "<polygon fill=\"black\" points=\"218.09,-190.2 214.877,-180.104 211.093,-190 218.09,-190.2\" stroke=\"black\"/>\n",
       "</g>\n",
       "<!-- tuberculos_or_cancer? -->\n",
       "<g class=\"node\" id=\"node6\"><title>tuberculos_or_cancer?</title>\n",
       "<g id=\"a_node6\"><a xlink:title=\"(5) tuberculos_or_cancer?\">\n",
       "<ellipse cx=\"183.366\" cy=\"-90\" fill=\"#444444\" rx=\"90.1842\" ry=\"18\" stroke=\"black\"/>\n",
       "<text fill=\"#ffffff\" font-family=\"Times,serif\" font-size=\"14.00\" text-anchor=\"middle\" x=\"183.366\" y=\"-86.3\">tuberculos_or_cancer?</text>\n",
       "</a>\n",
       "</g>\n",
       "</g>\n",
       "<!-- lung_cancer?&#45;&gt;tuberculos_or_cancer? -->\n",
       "<g class=\"edge\" id=\"edge5\"><title>lung_cancer?-&gt;tuberculos_or_cancer?</title>\n",
       "<path d=\"M207.62,-144.055C203.979,-136.091 199.554,-126.411 195.485,-117.51\" fill=\"none\" stroke=\"black\"/>\n",
       "<polygon fill=\"black\" points=\"198.604,-115.915 191.263,-108.275 192.238,-118.825 198.604,-115.915\" stroke=\"black\"/>\n",
       "</g>\n",
       "<!-- bronchitis? -->\n",
       "<g class=\"node\" id=\"node3\"><title>bronchitis?</title>\n",
       "<g id=\"a_node3\"><a xlink:title=\"(2) bronchitis?\">\n",
       "<ellipse cx=\"105.366\" cy=\"-306\" fill=\"#444444\" rx=\"50.0912\" ry=\"18\" stroke=\"black\"/>\n",
       "<text fill=\"#ffffff\" font-family=\"Times,serif\" font-size=\"14.00\" text-anchor=\"middle\" x=\"105.366\" y=\"-302.3\">bronchitis?</text>\n",
       "</a>\n",
       "</g>\n",
       "</g>\n",
       "<!-- bronchitis?&#45;&gt;smoking? -->\n",
       "<g class=\"edge\" id=\"edge8\"><title>bronchitis?-&gt;smoking?</title>\n",
       "<path d=\"M128.535,-289.983C144.158,-279.857 164.959,-266.375 182.052,-255.296\" fill=\"none\" stroke=\"black\"/>\n",
       "<polygon fill=\"black\" points=\"184.119,-258.128 190.606,-249.752 180.311,-252.254 184.119,-258.128\" stroke=\"black\"/>\n",
       "</g>\n",
       "<!-- dyspnoea? -->\n",
       "<g class=\"node\" id=\"node7\"><title>dyspnoea?</title>\n",
       "<g id=\"a_node7\"><a xlink:title=\"(6) dyspnoea?\">\n",
       "<ellipse cx=\"54.3661\" cy=\"-18\" fill=\"#444444\" rx=\"48.1917\" ry=\"18\" stroke=\"black\"/>\n",
       "<text fill=\"#ffffff\" font-family=\"Times,serif\" font-size=\"14.00\" text-anchor=\"middle\" x=\"54.3661\" y=\"-14.3\">dyspnoea?</text>\n",
       "</a>\n",
       "</g>\n",
       "</g>\n",
       "<!-- bronchitis?&#45;&gt;dyspnoea? -->\n",
       "<g class=\"edge\" id=\"edge3\"><title>bronchitis?-&gt;dyspnoea?</title>\n",
       "<path d=\"M68.9417,-293.315C49.6438,-285.055 27.6519,-271.856 16.3661,-252 -21.842,-184.777 16.9014,-90.0944 39.9289,-44.9322\" fill=\"none\" stroke=\"black\"/>\n",
       "<polygon fill=\"black\" points=\"43.1623,-46.3026 44.7074,-35.8211 36.9631,-43.0513 43.1623,-46.3026\" stroke=\"black\"/>\n",
       "</g>\n",
       "<!-- visit_to_Asia? -->\n",
       "<g class=\"node\" id=\"node4\"><title>visit_to_Asia?</title>\n",
       "<g id=\"a_node4\"><a xlink:title=\"(3) visit_to_Asia?\">\n",
       "<ellipse cx=\"87.3661\" cy=\"-234\" fill=\"#444444\" rx=\"61.99\" ry=\"18\" stroke=\"black\"/>\n",
       "<text fill=\"#ffffff\" font-family=\"Times,serif\" font-size=\"14.00\" text-anchor=\"middle\" x=\"87.3661\" y=\"-230.3\">visit_to_Asia?</text>\n",
       "</a>\n",
       "</g>\n",
       "</g>\n",
       "<!-- tuberculosis? -->\n",
       "<g class=\"node\" id=\"node5\"><title>tuberculosis?</title>\n",
       "<g id=\"a_node5\"><a xlink:title=\"(4) tuberculosis?\">\n",
       "<ellipse cx=\"82.3661\" cy=\"-162\" fill=\"#444444\" rx=\"57.3905\" ry=\"18\" stroke=\"black\"/>\n",
       "<text fill=\"#ffffff\" font-family=\"Times,serif\" font-size=\"14.00\" text-anchor=\"middle\" x=\"82.3661\" y=\"-158.3\">tuberculosis?</text>\n",
       "</a>\n",
       "</g>\n",
       "</g>\n",
       "<!-- visit_to_Asia?&#45;&gt;tuberculosis? -->\n",
       "<g class=\"edge\" id=\"edge2\"><title>visit_to_Asia?-&gt;tuberculosis?</title>\n",
       "<path d=\"M86.1302,-215.697C85.5792,-207.983 84.917,-198.712 84.3027,-190.112\" fill=\"none\" stroke=\"black\"/>\n",
       "<polygon fill=\"black\" points=\"87.7915,-189.83 83.5879,-180.104 80.8093,-190.328 87.7915,-189.83\" stroke=\"black\"/>\n",
       "</g>\n",
       "<!-- tuberculosis?&#45;&gt;tuberculos_or_cancer? -->\n",
       "<g class=\"edge\" id=\"edge7\"><title>tuberculosis?-&gt;tuberculos_or_cancer?</title>\n",
       "<path d=\"M105.033,-145.291C118.646,-135.856 136.183,-123.701 151.212,-113.285\" fill=\"none\" stroke=\"black\"/>\n",
       "<polygon fill=\"black\" points=\"153.497,-115.96 159.722,-107.387 149.509,-110.207 153.497,-115.96\" stroke=\"black\"/>\n",
       "</g>\n",
       "<!-- tuberculosis?&#45;&gt;dyspnoea? -->\n",
       "<g class=\"edge\" id=\"edge9\"><title>tuberculosis?-&gt;dyspnoea?</title>\n",
       "<path d=\"M78.9887,-143.871C74.1956,-119.564 65.3726,-74.8187 59.6927,-46.0132\" fill=\"none\" stroke=\"black\"/>\n",
       "<polygon fill=\"black\" points=\"63.1241,-45.3232 57.7556,-36.1893 56.2563,-46.6775 63.1241,-45.3232\" stroke=\"black\"/>\n",
       "</g>\n",
       "<!-- tuberculos_or_cancer?&#45;&gt;dyspnoea? -->\n",
       "<g class=\"edge\" id=\"edge1\"><title>tuberculos_or_cancer?-&gt;dyspnoea?</title>\n",
       "<path d=\"M153.771,-72.9406C134.677,-62.5796 109.744,-49.0498 89.6248,-38.1326\" fill=\"none\" stroke=\"black\"/>\n",
       "<polygon fill=\"black\" points=\"91.2168,-35.0144 80.7581,-33.3212 87.8782,-41.167 91.2168,-35.0144\" stroke=\"black\"/>\n",
       "</g>\n",
       "<!-- positive_XraY? -->\n",
       "<g class=\"node\" id=\"node8\"><title>positive_XraY?</title>\n",
       "<g id=\"a_node8\"><a xlink:title=\"(7) positive_XraY?\">\n",
       "<ellipse cx=\"186.366\" cy=\"-18\" fill=\"#444444\" rx=\"66.0889\" ry=\"18\" stroke=\"black\"/>\n",
       "<text fill=\"#ffffff\" font-family=\"Times,serif\" font-size=\"14.00\" text-anchor=\"middle\" x=\"186.366\" y=\"-14.3\">positive_XraY?</text>\n",
       "</a>\n",
       "</g>\n",
       "</g>\n",
       "<!-- tuberculos_or_cancer?&#45;&gt;positive_XraY? -->\n",
       "<g class=\"edge\" id=\"edge6\"><title>tuberculos_or_cancer?-&gt;positive_XraY?</title>\n",
       "<path d=\"M184.108,-71.6966C184.438,-63.9827 184.836,-54.7125 185.204,-46.1124\" fill=\"none\" stroke=\"black\"/>\n",
       "<polygon fill=\"black\" points=\"188.702,-46.2451 185.633,-36.1043 181.708,-45.9453 188.702,-46.2451\" stroke=\"black\"/>\n",
       "</g>\n",
       "</g>\n",
       "</svg></div>"
      ],
      "text/plain": [
       "<IPython.core.display.HTML object>"
      ]
     },
     "metadata": {},
     "output_type": "display_data"
    },
    {
     "data": {
      "text/plain": [
       "{'bhattacharya': 5.493847622527333,\n",
       " 'errorPQ': 0,\n",
       " 'errorQP': 128,\n",
       " 'hellinger': 1.4113029791211433,\n",
       " 'klPQ': 21.83553788805645,\n",
       " 'klQP': 20.174939573983675}"
      ]
     },
     "execution_count": 21,
     "metadata": {},
     "output_type": "execute_result"
    }
   ],
   "source": [
    "learner=gum.BNLearner(\"sample_asia.csv\")\n",
    "learner.useLocalSearchWithTabuList()\n",
    "\n",
    "#learner.setInitialDAG(bn2.dag())\n",
    "##learner.setMaxNbDecreasingChanges(2)\n",
    "\n",
    "bn3=learner.learnBN()\n",
    "gnb.showBN(bn3)\n",
    "kl=gum.BruteForceKL(bn,bn3)\n",
    "kl.compute()"
   ]
  },
  {
   "cell_type": "markdown",
   "metadata": {},
   "source": [
    "# Impact of the size of the database for the learning"
   ]
  },
  {
   "cell_type": "code",
   "execution_count": 22,
   "metadata": {
    "collapsed": false
   },
   "outputs": [],
   "source": [
    "import IPython.display\n",
    "rows=3\n",
    "sizes=[300,400,500,700,1000,2000,5000,\n",
    "       10000,20000,50000,75000,\n",
    "       100000,150000,175000,\n",
    "       200000,300000,500000]"
   ]
  },
  {
   "cell_type": "code",
   "execution_count": 29,
   "metadata": {
    "collapsed": false
   },
   "outputs": [
    {
     "name": "stdout",
     "output_type": "stream",
     "text": [
      "head: sample_asia.csv: nombre de lignes incorrect\n",
      "0 0 0 extract_asia.csv\n"
     ]
    },
    {
     "ename": "Exception",
     "evalue": "Null Element : No parsed data",
     "output_type": "error",
     "traceback": [
      "\u001b[1;31m---------------------------------------------------------------------------\u001b[0m",
      "\u001b[1;31mException\u001b[0m                                 Traceback (most recent call last)",
      "\u001b[1;32m<ipython-input-29-2764e20e168c>\u001b[0m in \u001b[0;36m<module>\u001b[1;34m()\u001b[0m\n\u001b[0;32m      6\u001b[0m     \u001b[0mget_ipython\u001b[0m\u001b[1;33m(\u001b[0m\u001b[1;33m)\u001b[0m\u001b[1;33m.\u001b[0m\u001b[0msystem\u001b[0m\u001b[1;33m(\u001b[0m\u001b[1;34m'head -n $n sample_asia.csv > extract_asia.csv'\u001b[0m\u001b[1;33m)\u001b[0m\u001b[1;33m\u001b[0m\u001b[0m\n\u001b[0;32m      7\u001b[0m     \u001b[0mget_ipython\u001b[0m\u001b[1;33m(\u001b[0m\u001b[1;33m)\u001b[0m\u001b[1;33m.\u001b[0m\u001b[0msystem\u001b[0m\u001b[1;33m(\u001b[0m\u001b[1;34m'wc extract_asia.csv'\u001b[0m\u001b[1;33m)\u001b[0m\u001b[1;33m\u001b[0m\u001b[0m\n\u001b[1;32m----> 8\u001b[1;33m     \u001b[0mlearner\u001b[0m\u001b[1;33m=\u001b[0m\u001b[0mgum\u001b[0m\u001b[1;33m.\u001b[0m\u001b[0mBNLearner\u001b[0m\u001b[1;33m(\u001b[0m\u001b[1;34m\"extract_asia.csv\"\u001b[0m\u001b[1;33m)\u001b[0m\u001b[1;33m\u001b[0m\u001b[0m\n\u001b[0m\u001b[0;32m      9\u001b[0m     \u001b[0mlearner\u001b[0m\u001b[1;33m.\u001b[0m\u001b[0museGreedyHillClimbing\u001b[0m\u001b[1;33m(\u001b[0m\u001b[1;33m)\u001b[0m\u001b[1;33m\u001b[0m\u001b[0m\n\u001b[0;32m     10\u001b[0m     \u001b[0mbn2\u001b[0m\u001b[1;33m=\u001b[0m\u001b[0mlearner\u001b[0m\u001b[1;33m.\u001b[0m\u001b[0mlearnBN\u001b[0m\u001b[1;33m(\u001b[0m\u001b[1;33m)\u001b[0m\u001b[1;33m\u001b[0m\u001b[0m\n",
      "\u001b[1;32m/home/phw/usr/lib/python3.5/site-packages/pyAgrum/pyAgrum.py\u001b[0m in \u001b[0;36m__init__\u001b[1;34m(self, *args)\u001b[0m\n\u001b[0;32m   6122\u001b[0m         \u001b[0m__init__\u001b[0m\u001b[1;33m(\u001b[0m\u001b[0mgum\u001b[0m\u001b[1;33m:\u001b[0m\u001b[1;33m:\u001b[0m\u001b[0mlearning\u001b[0m\u001b[1;33m:\u001b[0m\u001b[1;33m:\u001b[0m\u001b[0mBNLearner\u001b[0m\u001b[1;33m<\u001b[0m\u001b[1;33m(\u001b[0m\u001b[0mdouble\u001b[0m\u001b[1;33m)\u001b[0m\u001b[1;33m>\u001b[0m \u001b[0mself\u001b[0m\u001b[1;33m,\u001b[0m \u001b[0mBNLearner_double\u001b[0m \u001b[0marg2\u001b[0m\u001b[1;33m)\u001b[0m \u001b[1;33m->\u001b[0m \u001b[0mBNLearner_double\u001b[0m\u001b[1;33m\u001b[0m\u001b[0m\n\u001b[0;32m   6123\u001b[0m         \"\"\"\n\u001b[1;32m-> 6124\u001b[1;33m         \u001b[0mthis\u001b[0m \u001b[1;33m=\u001b[0m \u001b[0m_pyAgrum\u001b[0m\u001b[1;33m.\u001b[0m\u001b[0mnew_BNLearner_double\u001b[0m\u001b[1;33m(\u001b[0m\u001b[1;33m*\u001b[0m\u001b[0margs\u001b[0m\u001b[1;33m)\u001b[0m\u001b[1;33m\u001b[0m\u001b[0m\n\u001b[0m\u001b[0;32m   6125\u001b[0m         \u001b[1;32mtry\u001b[0m\u001b[1;33m:\u001b[0m\u001b[1;33m\u001b[0m\u001b[0m\n\u001b[0;32m   6126\u001b[0m             \u001b[0mself\u001b[0m\u001b[1;33m.\u001b[0m\u001b[0mthis\u001b[0m\u001b[1;33m.\u001b[0m\u001b[0mappend\u001b[0m\u001b[1;33m(\u001b[0m\u001b[0mthis\u001b[0m\u001b[1;33m)\u001b[0m\u001b[1;33m\u001b[0m\u001b[0m\n",
      "\u001b[1;31mException\u001b[0m: Null Element : No parsed data"
     ]
    }
   ],
   "source": [
    "res=\"<table>\"\n",
    "nbr=0\n",
    "l=[]\n",
    "for i in sizes:\n",
    "    n=i+1\n",
    "    !head -n $n sample_asia.csv > extract_asia.csv\n",
    "    !wc extract_asia.csv\n",
    "    learner=gum.BNLearner(\"extract_asia.csv\")\n",
    "    learner.useGreedyHillClimbing()\n",
    "    bn2=learner.learnBN()\n",
    "    !rm -f extract_asia.csv\n",
    "    \n",
    "    kl=gum.BruteForceKL(bn,bn2)\n",
    "    r=kl.compute()\n",
    "    l.append(r['klPQ'])\n",
    "    \n",
    "    if nbr % rows == 0:\n",
    "        res+=\"<tr>\"\n",
    "    res+=\"<td><center>size=\"+str(i)+\"</center>\"+gnb.getBN(bn2,size=\"3\").data+\"</td>\"\n",
    "    nbr+=1\n",
    "    if nbr % rows == 0:\n",
    "        res+=\"</tr>\"\n",
    "if nbr % rows!=0:\n",
    "    res+=\"</tr>\"\n",
    "res+=\"</table>\"\n",
    "\n",
    "IPython.display.display(IPython.display.HTML(res))\n",
    "\n",
    "plot(sizes,l)\n",
    "print(l[-1])"
   ]
  },
  {
   "cell_type": "code",
   "execution_count": 25,
   "metadata": {
    "collapsed": false
   },
   "outputs": [
    {
     "name": "stdout",
     "output_type": "stream",
     "text": [
      "head: sample_asia.csv: nombre de lignes incorrect\r\n"
     ]
    },
    {
     "ename": "Exception",
     "evalue": "Null Element : No parsed data",
     "output_type": "error",
     "traceback": [
      "\u001b[1;31m---------------------------------------------------------------------------\u001b[0m",
      "\u001b[1;31mException\u001b[0m                                 Traceback (most recent call last)",
      "\u001b[1;32m<ipython-input-25-746ccd48163b>\u001b[0m in \u001b[0;36m<module>\u001b[1;34m()\u001b[0m\n\u001b[0;32m      6\u001b[0m     \u001b[0mget_ipython\u001b[0m\u001b[1;33m(\u001b[0m\u001b[1;33m)\u001b[0m\u001b[1;33m.\u001b[0m\u001b[0msystem\u001b[0m\u001b[1;33m(\u001b[0m\u001b[1;34m'head -n $n sample_asia.csv > extract_asia.csv'\u001b[0m\u001b[1;33m)\u001b[0m\u001b[1;33m\u001b[0m\u001b[0m\n\u001b[0;32m      7\u001b[0m     \u001b[1;31m#!wc extract_asia.csv\u001b[0m\u001b[1;33m\u001b[0m\u001b[1;33m\u001b[0m\u001b[0m\n\u001b[1;32m----> 8\u001b[1;33m     \u001b[0mlearner\u001b[0m\u001b[1;33m=\u001b[0m\u001b[0mgum\u001b[0m\u001b[1;33m.\u001b[0m\u001b[0mBNLearner\u001b[0m\u001b[1;33m(\u001b[0m\u001b[1;34m\"extract_asia.csv\"\u001b[0m\u001b[1;33m)\u001b[0m\u001b[1;33m\u001b[0m\u001b[0m\n\u001b[0m\u001b[0;32m      9\u001b[0m     \u001b[0mlearner\u001b[0m\u001b[1;33m.\u001b[0m\u001b[0museLocalSearchWithTabuList\u001b[0m\u001b[1;33m(\u001b[0m\u001b[1;33m)\u001b[0m\u001b[1;33m\u001b[0m\u001b[0m\n\u001b[0;32m     10\u001b[0m     \u001b[0mbn2\u001b[0m\u001b[1;33m=\u001b[0m\u001b[0mlearner\u001b[0m\u001b[1;33m.\u001b[0m\u001b[0mlearnBN\u001b[0m\u001b[1;33m(\u001b[0m\u001b[1;33m)\u001b[0m\u001b[1;33m\u001b[0m\u001b[0m\n",
      "\u001b[1;32m/home/phw/usr/lib/python3.5/site-packages/pyAgrum/pyAgrum.py\u001b[0m in \u001b[0;36m__init__\u001b[1;34m(self, *args)\u001b[0m\n\u001b[0;32m   6122\u001b[0m         \u001b[0m__init__\u001b[0m\u001b[1;33m(\u001b[0m\u001b[0mgum\u001b[0m\u001b[1;33m:\u001b[0m\u001b[1;33m:\u001b[0m\u001b[0mlearning\u001b[0m\u001b[1;33m:\u001b[0m\u001b[1;33m:\u001b[0m\u001b[0mBNLearner\u001b[0m\u001b[1;33m<\u001b[0m\u001b[1;33m(\u001b[0m\u001b[0mdouble\u001b[0m\u001b[1;33m)\u001b[0m\u001b[1;33m>\u001b[0m \u001b[0mself\u001b[0m\u001b[1;33m,\u001b[0m \u001b[0mBNLearner_double\u001b[0m \u001b[0marg2\u001b[0m\u001b[1;33m)\u001b[0m \u001b[1;33m->\u001b[0m \u001b[0mBNLearner_double\u001b[0m\u001b[1;33m\u001b[0m\u001b[0m\n\u001b[0;32m   6123\u001b[0m         \"\"\"\n\u001b[1;32m-> 6124\u001b[1;33m         \u001b[0mthis\u001b[0m \u001b[1;33m=\u001b[0m \u001b[0m_pyAgrum\u001b[0m\u001b[1;33m.\u001b[0m\u001b[0mnew_BNLearner_double\u001b[0m\u001b[1;33m(\u001b[0m\u001b[1;33m*\u001b[0m\u001b[0margs\u001b[0m\u001b[1;33m)\u001b[0m\u001b[1;33m\u001b[0m\u001b[0m\n\u001b[0m\u001b[0;32m   6125\u001b[0m         \u001b[1;32mtry\u001b[0m\u001b[1;33m:\u001b[0m\u001b[1;33m\u001b[0m\u001b[0m\n\u001b[0;32m   6126\u001b[0m             \u001b[0mself\u001b[0m\u001b[1;33m.\u001b[0m\u001b[0mthis\u001b[0m\u001b[1;33m.\u001b[0m\u001b[0mappend\u001b[0m\u001b[1;33m(\u001b[0m\u001b[0mthis\u001b[0m\u001b[1;33m)\u001b[0m\u001b[1;33m\u001b[0m\u001b[0m\n",
      "\u001b[1;31mException\u001b[0m: Null Element : No parsed data"
     ]
    }
   ],
   "source": [
    "res=\"<table>\"\n",
    "nbr=0\n",
    "l=[]\n",
    "for i in sizes:\n",
    "    n=i+1\n",
    "    !head -n $n sample_asia.csv > extract_asia.csv\n",
    "    #!wc extract_asia.csv\n",
    "    learner=gum.BNLearner(\"extract_asia.csv\")\n",
    "    learner.useLocalSearchWithTabuList()\n",
    "    bn2=learner.learnBN()\n",
    "    !rm -f extract_asia.csv\n",
    "    \n",
    "    kl=gum.BruteForceKL(bn,bn2)\n",
    "    r=kl.compute()\n",
    "    l.append(r['klPQ'])\n",
    "    \n",
    "    bn2.setProperty(\"name\",\"BN(%{0})\".format(i))\n",
    "    if nbr % rows == 0:\n",
    "        res+=\"<tr>\"\n",
    "    res+=\"<td><center>size=\"+str(i)+\"</center>\"+gnb.getBN(bn2,size=\"3\").data+\"</td>\"\n",
    "    nbr+=1\n",
    "    if nbr % rows == 0:\n",
    "        res+=\"</tr>\"\n",
    "if nbr % rows!=0:\n",
    "    res+=\"</tr>\"\n",
    "res+=\"</table>\"\n",
    "\n",
    "IPython.display.display(IPython.display.HTML(res))\n",
    "\n",
    "plot(sizes,l)\n",
    "print(l[-1])"
   ]
  },
  {
   "cell_type": "code",
   "execution_count": null,
   "metadata": {
    "collapsed": false
   },
   "outputs": [],
   "source": []
  }
 ],
 "metadata": {
  "kernelspec": {
   "display_name": "Python 3",
   "language": "python",
   "name": "python3"
  },
  "language_info": {
   "codemirror_mode": {
    "name": "ipython",
    "version": 3
   },
   "file_extension": ".py",
   "mimetype": "text/x-python",
   "name": "python",
   "nbconvert_exporter": "python",
   "pygments_lexer": "ipython3",
   "version": "3.5.0+"
  }
 },
 "nbformat": 4,
 "nbformat_minor": 0
}
