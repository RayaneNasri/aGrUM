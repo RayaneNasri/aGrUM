{
 "cells": [
  {
   "cell_type": "code",
   "execution_count": 1,
   "metadata": {
    "collapsed": false
   },
   "outputs": [],
   "source": [
    "%matplotlib inline\n",
    "from pylab import *\n",
    "import matplotlib.pyplot as plt"
   ]
  },
  {
   "cell_type": "code",
   "execution_count": 2,
   "metadata": {
    "collapsed": false
   },
   "outputs": [
    {
     "name": "stdout",
     "output_type": "stream",
     "text": [
      "pyAgrum version 0.9.2.9\n",
      "(c) Pierre-Henri Wuillemin, Christophe Gonzales, Lionel Torti\n",
      "    UPMC 2015\n",
      "\n",
      "    This is free software; see the source code for copying conditions.\n",
      "    There is ABSOLUTELY NO WARRANTY; not even for MERCHANTABILITY or\n",
      "    FITNESS FOR A PARTICULAR PURPOSE.  For details, see 'pyAgrum.warranty'.\n",
      "    \n"
     ]
    },
    {
     "data": {
      "text/html": [
       "<table width='100%'><tr><th>Library</th><th>Version</th></tr><tr><td>OS</td><td>posix [linux]</td></tr><tr><td>Python</td><td>3.5.0+ (default, Oct 11 2015, 09:05:38) \n",
       "[GCC 5.2.1 20151010]</td></tr><tr><td>IPython</td><td>4.0.0</td></tr><tr><td>MatPlotLib</td><td>1.5.0</td></tr><tr><td>Numpy</td><td>1.10.1</td></tr><tr><td>pyAgrum</td><td>0.9.2.9</td></tr></table><div align='right'><small>Mon Nov 02 19:29:06 2015 CET</small></div>"
      ],
      "text/plain": [
       "<IPython.core.display.HTML object>"
      ]
     },
     "execution_count": 2,
     "metadata": {},
     "output_type": "execute_result"
    }
   ],
   "source": [
    "import pyAgrum as gum\n",
    "import pyAgrum.lib.notebook as gnb\n",
    "gum.about()\n",
    "gnb.configuration()\n"
   ]
  },
  {
   "cell_type": "markdown",
   "metadata": {},
   "source": [
    "# Generating the database from a BN"
   ]
  },
  {
   "cell_type": "code",
   "execution_count": 3,
   "metadata": {
    "collapsed": false
   },
   "outputs": [
    {
     "data": {
      "text/html": [
       "<div align='center'><svg height=\"221pt\" viewBox=\"0.00 0.00 288.00 221.02\" width=\"288pt\" xmlns=\"http://www.w3.org/2000/svg\" xmlns:xlink=\"http://www.w3.org/1999/xlink\">\n",
       "<g class=\"graph\" id=\"graph0\" transform=\"scale(0.850084 0.850084) rotate(0) translate(4 256)\">\n",
       "<title>G</title>\n",
       "<polygon fill=\"white\" points=\"-4,4 -4,-256 334.79,-256 334.79,4 -4,4\" stroke=\"none\"/>\n",
       "<!-- visit_to_Asia? -->\n",
       "<g class=\"node\" id=\"node1\"><title>visit_to_Asia?</title>\n",
       "<g id=\"a_node1\"><a xlink:title=\"(0) visit_to_Asia?\">\n",
       "<ellipse cx=\"61.7445\" cy=\"-234\" fill=\"#444444\" rx=\"61.99\" ry=\"18\" stroke=\"black\"/>\n",
       "<text fill=\"#ffffff\" font-family=\"Times,serif\" font-size=\"14.00\" text-anchor=\"middle\" x=\"61.7445\" y=\"-230.3\">visit_to_Asia?</text>\n",
       "</a>\n",
       "</g>\n",
       "</g>\n",
       "<!-- tuberculosis? -->\n",
       "<g class=\"node\" id=\"node2\"><title>tuberculosis?</title>\n",
       "<g id=\"a_node2\"><a xlink:title=\"(1) tuberculosis?\">\n",
       "<ellipse cx=\"61.7445\" cy=\"-162\" fill=\"#444444\" rx=\"57.3905\" ry=\"18\" stroke=\"black\"/>\n",
       "<text fill=\"#ffffff\" font-family=\"Times,serif\" font-size=\"14.00\" text-anchor=\"middle\" x=\"61.7445\" y=\"-158.3\">tuberculosis?</text>\n",
       "</a>\n",
       "</g>\n",
       "</g>\n",
       "<!-- visit_to_Asia?&#45;&gt;tuberculosis? -->\n",
       "<g class=\"edge\" id=\"edge1\"><title>visit_to_Asia?-&gt;tuberculosis?</title>\n",
       "<path d=\"M61.7445,-215.697C61.7445,-207.983 61.7445,-198.712 61.7445,-190.112\" fill=\"none\" stroke=\"black\"/>\n",
       "<polygon fill=\"black\" points=\"65.2446,-190.104 61.7445,-180.104 58.2446,-190.104 65.2446,-190.104\" stroke=\"black\"/>\n",
       "</g>\n",
       "<!-- tuberculos_or_cancer? -->\n",
       "<g class=\"node\" id=\"node3\"><title>tuberculos_or_cancer?</title>\n",
       "<g id=\"a_node3\"><a xlink:title=\"(2) tuberculos_or_cancer?\">\n",
       "<ellipse cx=\"122.745\" cy=\"-90\" fill=\"#444444\" rx=\"90.1842\" ry=\"18\" stroke=\"black\"/>\n",
       "<text fill=\"#ffffff\" font-family=\"Times,serif\" font-size=\"14.00\" text-anchor=\"middle\" x=\"122.745\" y=\"-86.3\">tuberculos_or_cancer?</text>\n",
       "</a>\n",
       "</g>\n",
       "</g>\n",
       "<!-- tuberculosis?&#45;&gt;tuberculos_or_cancer? -->\n",
       "<g class=\"edge\" id=\"edge6\"><title>tuberculosis?-&gt;tuberculos_or_cancer?</title>\n",
       "<path d=\"M76.2007,-144.411C83.6874,-135.82 92.977,-125.159 101.283,-115.627\" fill=\"none\" stroke=\"black\"/>\n",
       "<polygon fill=\"black\" points=\"104.037,-117.795 107.968,-107.956 98.7599,-113.196 104.037,-117.795\" stroke=\"black\"/>\n",
       "</g>\n",
       "<!-- positive_XraY? -->\n",
       "<g class=\"node\" id=\"node4\"><title>positive_XraY?</title>\n",
       "<g id=\"a_node4\"><a xlink:title=\"(3) positive_XraY?\">\n",
       "<ellipse cx=\"122.745\" cy=\"-18\" fill=\"#444444\" rx=\"66.0889\" ry=\"18\" stroke=\"black\"/>\n",
       "<text fill=\"#ffffff\" font-family=\"Times,serif\" font-size=\"14.00\" text-anchor=\"middle\" x=\"122.745\" y=\"-14.3\">positive_XraY?</text>\n",
       "</a>\n",
       "</g>\n",
       "</g>\n",
       "<!-- tuberculos_or_cancer?&#45;&gt;positive_XraY? -->\n",
       "<g class=\"edge\" id=\"edge3\"><title>tuberculos_or_cancer?-&gt;positive_XraY?</title>\n",
       "<path d=\"M122.745,-71.6966C122.745,-63.9827 122.745,-54.7125 122.745,-46.1124\" fill=\"none\" stroke=\"black\"/>\n",
       "<polygon fill=\"black\" points=\"126.245,-46.1043 122.745,-36.1043 119.245,-46.1044 126.245,-46.1043\" stroke=\"black\"/>\n",
       "</g>\n",
       "<!-- dyspnoea? -->\n",
       "<g class=\"node\" id=\"node8\"><title>dyspnoea?</title>\n",
       "<g id=\"a_node8\"><a xlink:title=\"(7) dyspnoea?\">\n",
       "<ellipse cx=\"267.745\" cy=\"-18\" fill=\"#444444\" rx=\"48.1917\" ry=\"18\" stroke=\"black\"/>\n",
       "<text fill=\"#ffffff\" font-family=\"Times,serif\" font-size=\"14.00\" text-anchor=\"middle\" x=\"267.745\" y=\"-14.3\">dyspnoea?</text>\n",
       "</a>\n",
       "</g>\n",
       "</g>\n",
       "<!-- tuberculos_or_cancer?&#45;&gt;dyspnoea? -->\n",
       "<g class=\"edge\" id=\"edge4\"><title>tuberculos_or_cancer?-&gt;dyspnoea?</title>\n",
       "<path d=\"M155.647,-73.1159C177.826,-62.4091 207.136,-48.2595 230.222,-37.1142\" fill=\"none\" stroke=\"black\"/>\n",
       "<polygon fill=\"black\" points=\"231.892,-40.1949 239.375,-32.6954 228.848,-33.891 231.892,-40.1949\" stroke=\"black\"/>\n",
       "</g>\n",
       "<!-- lung_cancer? -->\n",
       "<g class=\"node\" id=\"node5\"><title>lung_cancer?</title>\n",
       "<g id=\"a_node5\"><a xlink:title=\"(4) lung_cancer?\">\n",
       "<ellipse cx=\"194.745\" cy=\"-162\" fill=\"#444444\" rx=\"57.6901\" ry=\"18\" stroke=\"black\"/>\n",
       "<text fill=\"#ffffff\" font-family=\"Times,serif\" font-size=\"14.00\" text-anchor=\"middle\" x=\"194.745\" y=\"-158.3\">lung_cancer?</text>\n",
       "</a>\n",
       "</g>\n",
       "</g>\n",
       "<!-- lung_cancer?&#45;&gt;tuberculos_or_cancer? -->\n",
       "<g class=\"edge\" id=\"edge5\"><title>lung_cancer?-&gt;tuberculos_or_cancer?</title>\n",
       "<path d=\"M178.045,-144.765C169.041,-136.011 157.75,-125.033 147.721,-115.283\" fill=\"none\" stroke=\"black\"/>\n",
       "<polygon fill=\"black\" points=\"149.967,-112.585 140.358,-108.124 145.088,-117.604 149.967,-112.585\" stroke=\"black\"/>\n",
       "</g>\n",
       "<!-- smoking? -->\n",
       "<g class=\"node\" id=\"node6\"><title>smoking?</title>\n",
       "<g id=\"a_node6\"><a xlink:title=\"(5) smoking?\">\n",
       "<ellipse cx=\"237.745\" cy=\"-234\" fill=\"#444444\" rx=\"45.4919\" ry=\"18\" stroke=\"black\"/>\n",
       "<text fill=\"#ffffff\" font-family=\"Times,serif\" font-size=\"14.00\" text-anchor=\"middle\" x=\"237.745\" y=\"-230.3\">smoking?</text>\n",
       "</a>\n",
       "</g>\n",
       "</g>\n",
       "<!-- smoking?&#45;&gt;lung_cancer? -->\n",
       "<g class=\"edge\" id=\"edge7\"><title>smoking?-&gt;lung_cancer?</title>\n",
       "<path d=\"M227.554,-216.411C222.435,-208.077 216.12,-197.797 210.402,-188.488\" fill=\"none\" stroke=\"black\"/>\n",
       "<polygon fill=\"black\" points=\"213.377,-186.645 205.16,-179.956 207.412,-190.309 213.377,-186.645\" stroke=\"black\"/>\n",
       "</g>\n",
       "<!-- bronchitis? -->\n",
       "<g class=\"node\" id=\"node7\"><title>bronchitis?</title>\n",
       "<g id=\"a_node7\"><a xlink:title=\"(6) bronchitis?\">\n",
       "<ellipse cx=\"280.745\" cy=\"-90\" fill=\"#444444\" rx=\"50.0912\" ry=\"18\" stroke=\"black\"/>\n",
       "<text fill=\"#ffffff\" font-family=\"Times,serif\" font-size=\"14.00\" text-anchor=\"middle\" x=\"280.745\" y=\"-86.3\">bronchitis?</text>\n",
       "</a>\n",
       "</g>\n",
       "</g>\n",
       "<!-- smoking?&#45;&gt;bronchitis? -->\n",
       "<g class=\"edge\" id=\"edge2\"><title>smoking?-&gt;bronchitis?</title>\n",
       "<path d=\"M246.482,-216.186C251.517,-205.946 257.642,-192.474 261.745,-180 268.439,-159.645 273.373,-135.879 276.533,-118.028\" fill=\"none\" stroke=\"black\"/>\n",
       "<polygon fill=\"black\" points=\"280.009,-118.461 278.23,-108.017 273.108,-117.292 280.009,-118.461\" stroke=\"black\"/>\n",
       "</g>\n",
       "<!-- bronchitis?&#45;&gt;dyspnoea? -->\n",
       "<g class=\"edge\" id=\"edge8\"><title>bronchitis?-&gt;dyspnoea?</title>\n",
       "<path d=\"M277.531,-71.6966C276.098,-63.9827 274.377,-54.7125 272.78,-46.1124\" fill=\"none\" stroke=\"black\"/>\n",
       "<polygon fill=\"black\" points=\"276.188,-45.2971 270.921,-36.1043 269.306,-46.5753 276.188,-45.2971\" stroke=\"black\"/>\n",
       "</g>\n",
       "</g>\n",
       "</svg></div>"
      ],
      "text/plain": [
       "<IPython.core.display.HTML object>"
      ]
     },
     "metadata": {},
     "output_type": "display_data"
    }
   ],
   "source": [
    "bn=gum.loadBN(\"../resources/asia.bif\")\n",
    "gnb.showBN(bn)"
   ]
  },
  {
   "cell_type": "code",
   "execution_count": null,
   "metadata": {
    "collapsed": false
   },
   "outputs": [],
   "source": [
    "# generateCSV from a BN : the loglikelihood of the base is returned\n",
    "import pyAgrum.lib.bn2csv as bn2csv\n",
    "bn2csv.generateCSV(bn,\"sample_asia.csv\",500000,True)"
   ]
  },
  {
   "cell_type": "code",
   "execution_count": null,
   "metadata": {
    "collapsed": false
   },
   "outputs": [],
   "source": [
    "from pyAgrum.lib.utils.oslike import wc_l,head\n",
    "print(\"===\\n  Size of the generated database\\n===\")\n",
    "wc_l(\"sample_asia.csv\")\n",
    "print(\"\\n===\\n  First lines\\n===\")\n",
    "head(\"sample_asia.csv\")"
   ]
  },
  {
   "cell_type": "code",
   "execution_count": null,
   "metadata": {
    "collapsed": false
   },
   "outputs": [],
   "source": [
    "learner=gum.BNLearner(\"sample_asia.csv\")\n",
    "learner.names()"
   ]
  },
  {
   "cell_type": "code",
   "execution_count": null,
   "metadata": {
    "collapsed": false
   },
   "outputs": [],
   "source": [
    "learner.idFromName('visit_to_Asia?') # first row is 0"
   ]
  },
  {
   "cell_type": "code",
   "execution_count": null,
   "metadata": {
    "collapsed": false
   },
   "outputs": [],
   "source": [
    "learner.nameFromId(4)"
   ]
  },
  {
   "cell_type": "markdown",
   "metadata": {},
   "source": [
    "# Parameters learning from the database"
   ]
  },
  {
   "cell_type": "markdown",
   "metadata": {},
   "source": [
    "We give the $bn$ as a parameter for the learner in order to have the variables and the order of the labels for each variables. Please try to remove the argument $bn$ in the first line below to see the difference ..."
   ]
  },
  {
   "cell_type": "code",
   "execution_count": 4,
   "metadata": {
    "collapsed": false
   },
   "outputs": [
    {
     "data": {
      "text/html": [
       "<div align='center'><svg height=\"221pt\" viewBox=\"0.00 0.00 288.00 221.02\" width=\"288pt\" xmlns=\"http://www.w3.org/2000/svg\" xmlns:xlink=\"http://www.w3.org/1999/xlink\">\n",
       "<g class=\"graph\" id=\"graph0\" transform=\"scale(0.850084 0.850084) rotate(0) translate(4 256)\">\n",
       "<title>G</title>\n",
       "<polygon fill=\"white\" points=\"-4,4 -4,-256 334.79,-256 334.79,4 -4,4\" stroke=\"none\"/>\n",
       "<!-- smoking? -->\n",
       "<g class=\"node\" id=\"node1\"><title>smoking?</title>\n",
       "<g id=\"a_node1\"><a xlink:title=\"(0) smoking?\">\n",
       "<ellipse cx=\"93.0456\" cy=\"-234\" fill=\"#444444\" rx=\"45.4919\" ry=\"18\" stroke=\"black\"/>\n",
       "<text fill=\"#ffffff\" font-family=\"Times,serif\" font-size=\"14.00\" text-anchor=\"middle\" x=\"93.0456\" y=\"-230.3\">smoking?</text>\n",
       "</a>\n",
       "</g>\n",
       "</g>\n",
       "<!-- lung_cancer? -->\n",
       "<g class=\"node\" id=\"node2\"><title>lung_cancer?</title>\n",
       "<g id=\"a_node2\"><a xlink:title=\"(1) lung_cancer?\">\n",
       "<ellipse cx=\"136.046\" cy=\"-162\" fill=\"#444444\" rx=\"57.6901\" ry=\"18\" stroke=\"black\"/>\n",
       "<text fill=\"#ffffff\" font-family=\"Times,serif\" font-size=\"14.00\" text-anchor=\"middle\" x=\"136.046\" y=\"-158.3\">lung_cancer?</text>\n",
       "</a>\n",
       "</g>\n",
       "</g>\n",
       "<!-- smoking?&#45;&gt;lung_cancer? -->\n",
       "<g class=\"edge\" id=\"edge3\"><title>smoking?-&gt;lung_cancer?</title>\n",
       "<path d=\"M103.236,-216.411C108.355,-208.077 114.67,-197.797 120.388,-188.488\" fill=\"none\" stroke=\"black\"/>\n",
       "<polygon fill=\"black\" points=\"123.378,-190.309 125.63,-179.956 117.413,-186.645 123.378,-190.309\" stroke=\"black\"/>\n",
       "</g>\n",
       "<!-- bronchitis? -->\n",
       "<g class=\"node\" id=\"node3\"><title>bronchitis?</title>\n",
       "<g id=\"a_node3\"><a xlink:title=\"(2) bronchitis?\">\n",
       "<ellipse cx=\"50.0456\" cy=\"-90\" fill=\"#444444\" rx=\"50.0912\" ry=\"18\" stroke=\"black\"/>\n",
       "<text fill=\"#ffffff\" font-family=\"Times,serif\" font-size=\"14.00\" text-anchor=\"middle\" x=\"50.0456\" y=\"-86.3\">bronchitis?</text>\n",
       "</a>\n",
       "</g>\n",
       "</g>\n",
       "<!-- smoking?&#45;&gt;bronchitis? -->\n",
       "<g class=\"edge\" id=\"edge5\"><title>smoking?-&gt;bronchitis?</title>\n",
       "<path d=\"M84.3084,-216.186C79.2732,-205.946 73.1483,-192.474 69.0456,-180 62.3506,-159.645 57.4168,-135.879 54.2571,-118.028\" fill=\"none\" stroke=\"black\"/>\n",
       "<polygon fill=\"black\" points=\"57.6822,-117.292 52.5604,-108.017 50.7807,-118.461 57.6822,-117.292\" stroke=\"black\"/>\n",
       "</g>\n",
       "<!-- tuberculos_or_cancer? -->\n",
       "<g class=\"node\" id=\"node6\"><title>tuberculos_or_cancer?</title>\n",
       "<g id=\"a_node6\"><a xlink:title=\"(5) tuberculos_or_cancer?\">\n",
       "<ellipse cx=\"208.046\" cy=\"-90\" fill=\"#444444\" rx=\"90.1842\" ry=\"18\" stroke=\"black\"/>\n",
       "<text fill=\"#ffffff\" font-family=\"Times,serif\" font-size=\"14.00\" text-anchor=\"middle\" x=\"208.046\" y=\"-86.3\">tuberculos_or_cancer?</text>\n",
       "</a>\n",
       "</g>\n",
       "</g>\n",
       "<!-- lung_cancer?&#45;&gt;tuberculos_or_cancer? -->\n",
       "<g class=\"edge\" id=\"edge7\"><title>lung_cancer?-&gt;tuberculos_or_cancer?</title>\n",
       "<path d=\"M152.745,-144.765C161.749,-136.011 173.04,-125.033 183.069,-115.283\" fill=\"none\" stroke=\"black\"/>\n",
       "<polygon fill=\"black\" points=\"185.702,-117.604 190.432,-108.124 180.823,-112.585 185.702,-117.604\" stroke=\"black\"/>\n",
       "</g>\n",
       "<!-- dyspnoea? -->\n",
       "<g class=\"node\" id=\"node7\"><title>dyspnoea?</title>\n",
       "<g id=\"a_node7\"><a xlink:title=\"(6) dyspnoea?\">\n",
       "<ellipse cx=\"63.0456\" cy=\"-18\" fill=\"#444444\" rx=\"48.1917\" ry=\"18\" stroke=\"black\"/>\n",
       "<text fill=\"#ffffff\" font-family=\"Times,serif\" font-size=\"14.00\" text-anchor=\"middle\" x=\"63.0456\" y=\"-14.3\">dyspnoea?</text>\n",
       "</a>\n",
       "</g>\n",
       "</g>\n",
       "<!-- bronchitis?&#45;&gt;dyspnoea? -->\n",
       "<g class=\"edge\" id=\"edge4\"><title>bronchitis?-&gt;dyspnoea?</title>\n",
       "<path d=\"M53.259,-71.6966C54.6916,-63.9827 56.4132,-54.7125 58.0104,-46.1124\" fill=\"none\" stroke=\"black\"/>\n",
       "<polygon fill=\"black\" points=\"61.4842,-46.5753 59.869,-36.1043 54.6019,-45.2971 61.4842,-46.5753\" stroke=\"black\"/>\n",
       "</g>\n",
       "<!-- visit_to_Asia? -->\n",
       "<g class=\"node\" id=\"node4\"><title>visit_to_Asia?</title>\n",
       "<g id=\"a_node4\"><a xlink:title=\"(3) visit_to_Asia?\">\n",
       "<ellipse cx=\"269.046\" cy=\"-234\" fill=\"#444444\" rx=\"61.99\" ry=\"18\" stroke=\"black\"/>\n",
       "<text fill=\"#ffffff\" font-family=\"Times,serif\" font-size=\"14.00\" text-anchor=\"middle\" x=\"269.046\" y=\"-230.3\">visit_to_Asia?</text>\n",
       "</a>\n",
       "</g>\n",
       "</g>\n",
       "<!-- tuberculosis? -->\n",
       "<g class=\"node\" id=\"node5\"><title>tuberculosis?</title>\n",
       "<g id=\"a_node5\"><a xlink:title=\"(4) tuberculosis?\">\n",
       "<ellipse cx=\"269.046\" cy=\"-162\" fill=\"#444444\" rx=\"57.3905\" ry=\"18\" stroke=\"black\"/>\n",
       "<text fill=\"#ffffff\" font-family=\"Times,serif\" font-size=\"14.00\" text-anchor=\"middle\" x=\"269.046\" y=\"-158.3\">tuberculosis?</text>\n",
       "</a>\n",
       "</g>\n",
       "</g>\n",
       "<!-- visit_to_Asia?&#45;&gt;tuberculosis? -->\n",
       "<g class=\"edge\" id=\"edge1\"><title>visit_to_Asia?-&gt;tuberculosis?</title>\n",
       "<path d=\"M269.046,-215.697C269.046,-207.983 269.046,-198.712 269.046,-190.112\" fill=\"none\" stroke=\"black\"/>\n",
       "<polygon fill=\"black\" points=\"272.546,-190.104 269.046,-180.104 265.546,-190.104 272.546,-190.104\" stroke=\"black\"/>\n",
       "</g>\n",
       "<!-- tuberculosis?&#45;&gt;tuberculos_or_cancer? -->\n",
       "<g class=\"edge\" id=\"edge8\"><title>tuberculosis?-&gt;tuberculos_or_cancer?</title>\n",
       "<path d=\"M254.589,-144.411C247.103,-135.82 237.813,-125.159 229.507,-115.627\" fill=\"none\" stroke=\"black\"/>\n",
       "<polygon fill=\"black\" points=\"232.03,-113.196 222.822,-107.956 226.753,-117.795 232.03,-113.196\" stroke=\"black\"/>\n",
       "</g>\n",
       "<!-- tuberculos_or_cancer?&#45;&gt;dyspnoea? -->\n",
       "<g class=\"edge\" id=\"edge2\"><title>tuberculos_or_cancer?-&gt;dyspnoea?</title>\n",
       "<path d=\"M175.143,-73.1159C152.964,-62.4091 123.654,-48.2595 100.568,-37.1142\" fill=\"none\" stroke=\"black\"/>\n",
       "<polygon fill=\"black\" points=\"101.942,-33.891 91.4146,-32.6954 98.8985,-40.1949 101.942,-33.891\" stroke=\"black\"/>\n",
       "</g>\n",
       "<!-- positive_XraY? -->\n",
       "<g class=\"node\" id=\"node8\"><title>positive_XraY?</title>\n",
       "<g id=\"a_node8\"><a xlink:title=\"(7) positive_XraY?\">\n",
       "<ellipse cx=\"208.046\" cy=\"-18\" fill=\"#444444\" rx=\"66.0889\" ry=\"18\" stroke=\"black\"/>\n",
       "<text fill=\"#ffffff\" font-family=\"Times,serif\" font-size=\"14.00\" text-anchor=\"middle\" x=\"208.046\" y=\"-14.3\">positive_XraY?</text>\n",
       "</a>\n",
       "</g>\n",
       "</g>\n",
       "<!-- tuberculos_or_cancer?&#45;&gt;positive_XraY? -->\n",
       "<g class=\"edge\" id=\"edge6\"><title>tuberculos_or_cancer?-&gt;positive_XraY?</title>\n",
       "<path d=\"M208.046,-71.6966C208.046,-63.9827 208.046,-54.7125 208.046,-46.1124\" fill=\"none\" stroke=\"black\"/>\n",
       "<polygon fill=\"black\" points=\"211.546,-46.1043 208.046,-36.1043 204.546,-46.1044 211.546,-46.1043\" stroke=\"black\"/>\n",
       "</g>\n",
       "</g>\n",
       "</svg></div>"
      ],
      "text/plain": [
       "<IPython.core.display.HTML object>"
      ]
     },
     "metadata": {},
     "output_type": "display_data"
    }
   ],
   "source": [
    "learner=gum.BNLearner('sample_asia.csv',bn)\n",
    "bn2=learner.learnParameters(bn)\n",
    "gnb.showBN(bn2)"
   ]
  },
  {
   "cell_type": "code",
   "execution_count": 5,
   "metadata": {
    "collapsed": false
   },
   "outputs": [
    {
     "data": {
      "text/html": [
       "<table width=\"100%\"><tr><td style=\"text-align:center;\">original BN</td><td style=\"text-align:center;\">Learned BN</td></tr><tr><td style=\"text-align:right;\"><pre>|---------------|\n",
       "|visit_to_Asia? |\n",
       "|   0      1    |\n",
       "|---------------|\n",
       "| 0.0100 0.9900 |\n",
       "|---------------|</pre></td><td style=\"text-align:right;\"><pre>|---------------|\n",
       "|visit_to_Asia? |\n",
       "|   0      1    |\n",
       "|---------------|\n",
       "| 0.0101 0.9899 |\n",
       "|---------------|</pre></td></tr><tr><td style=\"text-align:right;\"><pre>                |---------------|\n",
       "----------------| tuberculosis? |\n",
       " visit_to_Asia? |   0      1    |\n",
       "----------------|---------------|\n",
       "       0        | 0.0500 0.9500 |\n",
       "       1        | 0.0100 0.9900 |\n",
       "----------------|---------------|</pre></td><td style=\"text-align:right;\"><pre>                |---------------|\n",
       "----------------| tuberculosis? |\n",
       " visit_to_Asia? |   0      1    |\n",
       "----------------|---------------|\n",
       "       0        | 0.0510 0.9490 |\n",
       "       1        | 0.0100 0.9900 |\n",
       "----------------|---------------|</pre></td></tr></table>"
      ],
      "text/plain": [
       "<IPython.core.display.HTML object>"
      ]
     },
     "execution_count": 5,
     "metadata": {},
     "output_type": "execute_result"
    }
   ],
   "source": [
    "from pyAgrum.lib.pretty_print import pretty_cpt\n",
    "from IPython.display import HTML\n",
    "\n",
    "HTML('<table width=\"100%\"><tr><td style=\"text-align:center;\">original BN</td>'+\n",
    "     '<td style=\"text-align:center;\">Learned BN</td></tr>'+\n",
    "     '<tr><td style=\"text-align:right;\"><pre>'+\n",
    "     pretty_cpt (bn.cpt (bn.idFromName('visit_to_Asia?')))\n",
    "    +'</pre></td><td style=\"text-align:right;\"><pre>'+\n",
    "     pretty_cpt(bn2.cpt(bn2.idFromName('visit_to_Asia?')))\n",
    "     +'</pre></td></tr><tr><td style=\"text-align:right;\"><pre>'+\n",
    "     pretty_cpt (bn.cpt (bn.idFromName('tuberculosis?')))\n",
    "    +'</pre></td><td style=\"text-align:right;\"><pre>'+\n",
    "     pretty_cpt(bn2.cpt(bn2.idFromName('tuberculosis?')))\n",
    "     +'</pre></td></tr></table>')"
   ]
  },
  {
   "cell_type": "markdown",
   "metadata": {},
   "source": [
    "# Structural learning a BN from the database"
   ]
  },
  {
   "cell_type": "markdown",
   "metadata": {},
   "source": [
    "## Different algorithms"
   ]
  },
  {
   "cell_type": "markdown",
   "metadata": {},
   "source": [
    "For now, there are three algorithms that are wrapped in pyAgrum : LocalSearchWithTabuList,"
   ]
  },
  {
   "cell_type": "code",
   "execution_count": 6,
   "metadata": {
    "collapsed": false
   },
   "outputs": [
    {
     "name": "stdout",
     "output_type": "stream",
     "text": [
      "Learned in 2.432141s\n"
     ]
    },
    {
     "data": {
      "text/html": [
       "<div align='center'><svg height=\"288pt\" viewBox=\"0.00 0.00 260.06 288.00\" width=\"260pt\" xmlns=\"http://www.w3.org/2000/svg\" xmlns:xlink=\"http://www.w3.org/1999/xlink\">\n",
       "<g class=\"graph\" id=\"graph0\" transform=\"scale(0.86747 0.86747) rotate(0) translate(4 328)\">\n",
       "<title>G</title>\n",
       "<polygon fill=\"white\" points=\"-4,4 -4,-328 295.79,-328 295.79,4 -4,4\" stroke=\"none\"/>\n",
       "<!-- smoking? -->\n",
       "<g class=\"node\" id=\"node1\"><title>smoking?</title>\n",
       "<g id=\"a_node1\"><a xlink:title=\"(0) smoking?\">\n",
       "<ellipse cx=\"90.0456\" cy=\"-234\" fill=\"#444444\" rx=\"45.4919\" ry=\"18\" stroke=\"black\"/>\n",
       "<text fill=\"#ffffff\" font-family=\"Times,serif\" font-size=\"14.00\" text-anchor=\"middle\" x=\"90.0456\" y=\"-230.3\">smoking?</text>\n",
       "</a>\n",
       "</g>\n",
       "</g>\n",
       "<!-- lung_cancer? -->\n",
       "<g class=\"node\" id=\"node2\"><title>lung_cancer?</title>\n",
       "<g id=\"a_node2\"><a xlink:title=\"(1) lung_cancer?\">\n",
       "<ellipse cx=\"97.0456\" cy=\"-162\" fill=\"#444444\" rx=\"57.6901\" ry=\"18\" stroke=\"black\"/>\n",
       "<text fill=\"#ffffff\" font-family=\"Times,serif\" font-size=\"14.00\" text-anchor=\"middle\" x=\"97.0456\" y=\"-158.3\">lung_cancer?</text>\n",
       "</a>\n",
       "</g>\n",
       "</g>\n",
       "<!-- smoking?&#45;&gt;lung_cancer? -->\n",
       "<g class=\"edge\" id=\"edge4\"><title>smoking?-&gt;lung_cancer?</title>\n",
       "<path d=\"M91.7759,-215.697C92.5473,-207.983 93.4743,-198.712 94.3343,-190.112\" fill=\"none\" stroke=\"black\"/>\n",
       "<polygon fill=\"black\" points=\"97.8226,-190.403 95.3351,-180.104 90.8574,-189.706 97.8226,-190.403\" stroke=\"black\"/>\n",
       "</g>\n",
       "<!-- tuberculos_or_cancer? -->\n",
       "<g class=\"node\" id=\"node6\"><title>tuberculos_or_cancer?</title>\n",
       "<g id=\"a_node6\"><a xlink:title=\"(5) tuberculos_or_cancer?\">\n",
       "<ellipse cx=\"198.046\" cy=\"-90\" fill=\"#444444\" rx=\"90.1842\" ry=\"18\" stroke=\"black\"/>\n",
       "<text fill=\"#ffffff\" font-family=\"Times,serif\" font-size=\"14.00\" text-anchor=\"middle\" x=\"198.046\" y=\"-86.3\">tuberculos_or_cancer?</text>\n",
       "</a>\n",
       "</g>\n",
       "</g>\n",
       "<!-- lung_cancer?&#45;&gt;tuberculos_or_cancer? -->\n",
       "<g class=\"edge\" id=\"edge5\"><title>lung_cancer?-&gt;tuberculos_or_cancer?</title>\n",
       "<path d=\"M119.712,-145.291C133.325,-135.856 150.863,-123.701 165.891,-113.285\" fill=\"none\" stroke=\"black\"/>\n",
       "<polygon fill=\"black\" points=\"168.176,-115.96 174.401,-107.387 164.189,-110.207 168.176,-115.96\" stroke=\"black\"/>\n",
       "</g>\n",
       "<!-- dyspnoea? -->\n",
       "<g class=\"node\" id=\"node7\"><title>dyspnoea?</title>\n",
       "<g id=\"a_node7\"><a xlink:title=\"(6) dyspnoea?\">\n",
       "<ellipse cx=\"69.0456\" cy=\"-18\" fill=\"#444444\" rx=\"48.1917\" ry=\"18\" stroke=\"black\"/>\n",
       "<text fill=\"#ffffff\" font-family=\"Times,serif\" font-size=\"14.00\" text-anchor=\"middle\" x=\"69.0456\" y=\"-14.3\">dyspnoea?</text>\n",
       "</a>\n",
       "</g>\n",
       "</g>\n",
       "<!-- lung_cancer?&#45;&gt;dyspnoea? -->\n",
       "<g class=\"edge\" id=\"edge8\"><title>lung_cancer?-&gt;dyspnoea?</title>\n",
       "<path d=\"M93.6681,-143.871C88.875,-119.564 80.0521,-74.8187 74.3721,-46.0132\" fill=\"none\" stroke=\"black\"/>\n",
       "<polygon fill=\"black\" points=\"77.8035,-45.3232 72.435,-36.1893 70.9358,-46.6775 77.8035,-45.3232\" stroke=\"black\"/>\n",
       "</g>\n",
       "<!-- bronchitis? -->\n",
       "<g class=\"node\" id=\"node3\"><title>bronchitis?</title>\n",
       "<g id=\"a_node3\"><a xlink:title=\"(2) bronchitis?\">\n",
       "<ellipse cx=\"50.0456\" cy=\"-306\" fill=\"#444444\" rx=\"50.0912\" ry=\"18\" stroke=\"black\"/>\n",
       "<text fill=\"#ffffff\" font-family=\"Times,serif\" font-size=\"14.00\" text-anchor=\"middle\" x=\"50.0456\" y=\"-302.3\">bronchitis?</text>\n",
       "</a>\n",
       "</g>\n",
       "</g>\n",
       "<!-- bronchitis?&#45;&gt;smoking? -->\n",
       "<g class=\"edge\" id=\"edge9\"><title>bronchitis?-&gt;smoking?</title>\n",
       "<path d=\"M59.7284,-288.055C64.4452,-279.801 70.2162,-269.701 75.4526,-260.538\" fill=\"none\" stroke=\"black\"/>\n",
       "<polygon fill=\"black\" points=\"78.5293,-262.208 80.4518,-251.789 72.4515,-258.735 78.5293,-262.208\" stroke=\"black\"/>\n",
       "</g>\n",
       "<!-- bronchitis?&#45;&gt;dyspnoea? -->\n",
       "<g class=\"edge\" id=\"edge2\"><title>bronchitis?-&gt;dyspnoea?</title>\n",
       "<path d=\"M44.737,-287.982C41.7246,-277.669 38.1472,-264.192 36.0456,-252 27.8793,-204.625 22.8037,-191.525 30.0456,-144 35.3729,-109.038 48.6274,-70.4083 58.2074,-45.4787\" fill=\"none\" stroke=\"black\"/>\n",
       "<polygon fill=\"black\" points=\"61.5321,-46.5876 61.9275,-36.0001 55.0159,-44.0301 61.5321,-46.5876\" stroke=\"black\"/>\n",
       "</g>\n",
       "<!-- visit_to_Asia? -->\n",
       "<g class=\"node\" id=\"node4\"><title>visit_to_Asia?</title>\n",
       "<g id=\"a_node4\"><a xlink:title=\"(3) visit_to_Asia?\">\n",
       "<ellipse cx=\"230.046\" cy=\"-234\" fill=\"#444444\" rx=\"61.99\" ry=\"18\" stroke=\"black\"/>\n",
       "<text fill=\"#ffffff\" font-family=\"Times,serif\" font-size=\"14.00\" text-anchor=\"middle\" x=\"230.046\" y=\"-230.3\">visit_to_Asia?</text>\n",
       "</a>\n",
       "</g>\n",
       "</g>\n",
       "<!-- tuberculosis? -->\n",
       "<g class=\"node\" id=\"node5\"><title>tuberculosis?</title>\n",
       "<g id=\"a_node5\"><a xlink:title=\"(4) tuberculosis?\">\n",
       "<ellipse cx=\"230.046\" cy=\"-162\" fill=\"#444444\" rx=\"57.3905\" ry=\"18\" stroke=\"black\"/>\n",
       "<text fill=\"#ffffff\" font-family=\"Times,serif\" font-size=\"14.00\" text-anchor=\"middle\" x=\"230.046\" y=\"-158.3\">tuberculosis?</text>\n",
       "</a>\n",
       "</g>\n",
       "</g>\n",
       "<!-- visit_to_Asia?&#45;&gt;tuberculosis? -->\n",
       "<g class=\"edge\" id=\"edge3\"><title>visit_to_Asia?-&gt;tuberculosis?</title>\n",
       "<path d=\"M230.046,-215.697C230.046,-207.983 230.046,-198.712 230.046,-190.112\" fill=\"none\" stroke=\"black\"/>\n",
       "<polygon fill=\"black\" points=\"233.546,-190.104 230.046,-180.104 226.546,-190.104 233.546,-190.104\" stroke=\"black\"/>\n",
       "</g>\n",
       "<!-- tuberculosis?&#45;&gt;tuberculos_or_cancer? -->\n",
       "<g class=\"edge\" id=\"edge7\"><title>tuberculosis?-&gt;tuberculos_or_cancer?</title>\n",
       "<path d=\"M222.299,-144.055C218.659,-136.091 214.233,-126.411 210.164,-117.51\" fill=\"none\" stroke=\"black\"/>\n",
       "<polygon fill=\"black\" points=\"213.284,-115.915 205.943,-108.275 206.917,-118.825 213.284,-115.915\" stroke=\"black\"/>\n",
       "</g>\n",
       "<!-- tuberculos_or_cancer?&#45;&gt;dyspnoea? -->\n",
       "<g class=\"edge\" id=\"edge1\"><title>tuberculos_or_cancer?-&gt;dyspnoea?</title>\n",
       "<path d=\"M168.45,-72.9406C149.357,-62.5796 124.423,-49.0498 104.304,-38.1326\" fill=\"none\" stroke=\"black\"/>\n",
       "<polygon fill=\"black\" points=\"105.896,-35.0144 95.4376,-33.3212 102.558,-41.167 105.896,-35.0144\" stroke=\"black\"/>\n",
       "</g>\n",
       "<!-- positive_XraY? -->\n",
       "<g class=\"node\" id=\"node8\"><title>positive_XraY?</title>\n",
       "<g id=\"a_node8\"><a xlink:title=\"(7) positive_XraY?\">\n",
       "<ellipse cx=\"201.046\" cy=\"-18\" fill=\"#444444\" rx=\"66.0889\" ry=\"18\" stroke=\"black\"/>\n",
       "<text fill=\"#ffffff\" font-family=\"Times,serif\" font-size=\"14.00\" text-anchor=\"middle\" x=\"201.046\" y=\"-14.3\">positive_XraY?</text>\n",
       "</a>\n",
       "</g>\n",
       "</g>\n",
       "<!-- tuberculos_or_cancer?&#45;&gt;positive_XraY? -->\n",
       "<g class=\"edge\" id=\"edge6\"><title>tuberculos_or_cancer?-&gt;positive_XraY?</title>\n",
       "<path d=\"M198.787,-71.6966C199.118,-63.9827 199.515,-54.7125 199.884,-46.1124\" fill=\"none\" stroke=\"black\"/>\n",
       "<polygon fill=\"black\" points=\"203.381,-46.2451 200.313,-36.1043 196.387,-45.9453 203.381,-46.2451\" stroke=\"black\"/>\n",
       "</g>\n",
       "</g>\n",
       "</svg></div>"
      ],
      "text/plain": [
       "<IPython.core.display.HTML object>"
      ]
     },
     "metadata": {},
     "output_type": "display_data"
    },
    {
     "data": {
      "text/plain": [
       "{'bhattacharya': 4.472419591660955,\n",
       " 'errorPQ': 0,\n",
       " 'errorQP': 128,\n",
       " 'hellinger': 1.4061154558368407,\n",
       " 'klPQ': 16.88334437114407,\n",
       " 'klQP': 15.432683048973228}"
      ]
     },
     "execution_count": 6,
     "metadata": {},
     "output_type": "execute_result"
    }
   ],
   "source": [
    "learner=gum.BNLearner(\"sample_asia.csv\")\n",
    "learner.useLocalSearchWithTabuList()\n",
    "bn2=learner.learnBN()\n",
    "print(\"Learned in {0}s\".format(learner.currentTime()))\n",
    "gnb.showBN(bn2)\n",
    "kl=gum.BruteForceKL(bn,bn2)\n",
    "kl.compute()"
   ]
  },
  {
   "cell_type": "markdown",
   "metadata": {},
   "source": [
    "A greedy Hill Climbing algorithm (with insert, remove and change arc as atomic operations)."
   ]
  },
  {
   "cell_type": "code",
   "execution_count": null,
   "metadata": {
    "collapsed": false
   },
   "outputs": [],
   "source": [
    "learner=gum.BNLearner(\"sample_asia.csv\")\n",
    "learner.useGreedyHillClimbing()\n",
    "bn2=learner.learnBN()\n",
    "print(\"Learned in {0}s\".format(learner.currentTime()))\n",
    "gnb.showBN(bn2)"
   ]
  },
  {
   "cell_type": "markdown",
   "metadata": {},
   "source": [
    "And a K2 for those who likes it :)"
   ]
  },
  {
   "cell_type": "code",
   "execution_count": null,
   "metadata": {
    "collapsed": false
   },
   "outputs": [],
   "source": [
    "learner=gum.BNLearner(\"sample_asia.csv\")\n",
    "learner.useK2([0,1,2,3,4,5,6,7])\n",
    "bn2=learner.learnBN()\n",
    "print(\"Learned in {0}s\".format(learner.currentTime()))\n",
    "gnb.showBN(bn2)"
   ]
  },
  {
   "cell_type": "markdown",
   "metadata": {},
   "source": [
    "K2 can be very good if the order is the good one (a topological order of nodes in the reference)\n"
   ]
  },
  {
   "cell_type": "code",
   "execution_count": null,
   "metadata": {
    "collapsed": false
   },
   "outputs": [],
   "source": [
    "learner=gum.BNLearner(\"sample_asia.csv\")\n",
    "learner.useK2([7,6,5,4,3,2,1,0])\n",
    "bn2=learner.learnBN()\n",
    "print(\"Learned in {0}s\".format(learner.currentTime()))\n",
    "gnb.showBN(bn2)"
   ]
  },
  {
   "cell_type": "markdown",
   "metadata": {},
   "source": [
    "# Following the learning curve"
   ]
  },
  {
   "cell_type": "code",
   "execution_count": 7,
   "metadata": {
    "collapsed": false
   },
   "outputs": [
    {
     "data": {
      "image/png": "[encoded data removed]",
      "text/plain": [
       "<matplotlib.figure.Figure at 0x7f5fb8a2ce48>"
      ]
     },
     "metadata": {},
     "output_type": "display_data"
    }
   ],
   "source": [
    "learner=gum.BNLearner(\"sample_asia.csv\")\n",
    "learner.useLocalSearchWithTabuList()\n",
    "\n",
    "# we could prefere a log2likelihood score\n",
    "# learner.useScoreLog2Likelihood()\n",
    "learner.setMaxTime(10)\n",
    "\n",
    "# representation of the error as a pseudo log (negative values really represents negative epsilon\n",
    "@np.vectorize\n",
    "def pseudolog(x):\n",
    "    seuil=2.0\n",
    "    y=-x if x<0 else x\n",
    "        \n",
    "    if y<seuil:\n",
    "        res=y*np.log10(seuil)/seuil\n",
    "    else:\n",
    "        res=np.log10(y)\n",
    "        \n",
    "    return res if x>0 else -res\n",
    "\n",
    "# in order to control the complexity, we limit the number of parents\n",
    "learner.setMaxIndegree(3) # no more than 1 parent by node\n",
    "gnb.animApproximationScheme(learner,\n",
    "                            scale=pseudolog) # scale by default is np.log10\n",
    "\n",
    "bn2=learner.learnBN()\n"
   ]
  },
  {
   "cell_type": "markdown",
   "metadata": {},
   "source": [
    "# Customizing the learning algorithms"
   ]
  },
  {
   "cell_type": "markdown",
   "metadata": {},
   "source": [
    "## 1. Learn a tree ?"
   ]
  },
  {
   "cell_type": "code",
   "execution_count": null,
   "metadata": {
    "collapsed": false
   },
   "outputs": [],
   "source": [
    "learner=gum.BNLearner(\"sample_asia.csv\")\n",
    "learner.useGreedyHillClimbing()\n",
    "\n",
    "learner.setMaxIndegree(1) # no more than 1 parent by node\n",
    "\n",
    "bn2=learner.learnBN()\n",
    "gnb.showBN(bn2,size=\"5\")"
   ]
  },
  {
   "cell_type": "markdown",
   "metadata": {},
   "source": [
    "## 2. with prior structural knowledge"
   ]
  },
  {
   "cell_type": "code",
   "execution_count": null,
   "metadata": {
    "collapsed": false
   },
   "outputs": [],
   "source": [
    "learner=gum.BNLearner(\"sample_asia.csv\")\n",
    "learner.useGreedyHillClimbing()\n",
    "\n",
    "# I know that smoking causes cancer\n",
    "learner.addMandatoryArc(0,1) # smoking->lung_cancer\n",
    "learner.addMandatoryArc(\"visit_to_Asia?\",\"tuberculosis?\")\n",
    "\n",
    "bn2=learner.learnBN()\n",
    "gnb.showBN(bn2,size=\"5\")\n",
    "kl=gum.BruteForceKL(bn,bn2)\n",
    "kl.compute()"
   ]
  },
  {
   "cell_type": "markdown",
   "metadata": {},
   "source": [
    "## 3. changing the scores"
   ]
  },
  {
   "cell_type": "markdown",
   "metadata": {},
   "source": [
    "By default, a BDEU score is used. But it can be changed."
   ]
  },
  {
   "cell_type": "code",
   "execution_count": null,
   "metadata": {
    "collapsed": false
   },
   "outputs": [],
   "source": [
    "learner=gum.BNLearner(\"sample_asia.csv\")\n",
    "learner.useGreedyHillClimbing()\n",
    "\n",
    "# I know that smoking causes cancer\n",
    "learner.addMandatoryArc(0,1)\n",
    "\n",
    "# we prefere a log2likelihood score\n",
    "learner.useScoreLog2Likelihood()\n",
    "\n",
    "# in order to control the complexity, we limit the number of parents\n",
    "learner.setMaxIndegree(1) # no more than 1 parent by node\n",
    "\n",
    "bn2=learner.learnBN()\n",
    "gnb.showBN(bn2,size=\"5\")\n",
    "kl=gum.BruteForceKL(bn,bn2)\n",
    "kl.compute()"
   ]
  },
  {
   "cell_type": "markdown",
   "metadata": {},
   "source": [
    "## 4. Mixing algorithms"
   ]
  },
  {
   "cell_type": "markdown",
   "metadata": {},
   "source": [
    "First we learn a structure with HillClimbing (faster ?)"
   ]
  },
  {
   "cell_type": "code",
   "execution_count": null,
   "metadata": {
    "collapsed": false
   },
   "outputs": [],
   "source": [
    "learner=gum.BNLearner(\"sample_asia.csv\")\n",
    "learner.useGreedyHillClimbing()\n",
    "learner.addMandatoryArc(0,1)\n",
    "bn2=learner.learnBN()\n",
    "gnb.showBN(bn2)"
   ]
  },
  {
   "cell_type": "markdown",
   "metadata": {},
   "source": [
    "And then we refine with tabuList"
   ]
  },
  {
   "cell_type": "code",
   "execution_count": null,
   "metadata": {
    "collapsed": false
   },
   "outputs": [],
   "source": [
    "learner=gum.BNLearner(\"sample_asia.csv\")\n",
    "learner.useLocalSearchWithTabuList()\n",
    "\n",
    "learner.setInitialDAG(bn2.dag())\n",
    "#learner.setMaxNbDecreasingChanges(2)\n",
    "\n",
    "bn3=learner.learnBN()\n",
    "gnb.showBN(bn3)\n",
    "kl=gum.BruteForceKL(bn,bn3)\n",
    "kl.compute()"
   ]
  },
  {
   "cell_type": "markdown",
   "metadata": {},
   "source": [
    "# Impact of the size of the database for the learning"
   ]
  },
  {
   "cell_type": "code",
   "execution_count": null,
   "metadata": {
    "collapsed": false
   },
   "outputs": [],
   "source": [
    "import IPython.display\n",
    "rows=3\n",
    "sizes=[300,400,500,700,1000,2000,5000,\n",
    "       10000,20000,50000,75000,\n",
    "       100000,150000,175000,\n",
    "       200000,300000,500000]"
   ]
  },
  {
   "cell_type": "code",
   "execution_count": null,
   "metadata": {
    "collapsed": false
   },
   "outputs": [],
   "source": [
    "res=\"<table>\"\n",
    "nbr=0\n",
    "l=[]\n",
    "for i in sizes:\n",
    "    n=i+1\n",
    "    !head -n $n sample_asia.csv > extract_asia.csv\n",
    "    #!wc extract_asia.csv\n",
    "    learner=gum.BNLearner(\"extract_asia.csv\")\n",
    "    learner.useGreedyHillClimbing()\n",
    "    bn2=learner.learnBN()\n",
    "    !rm -f extract_asia.csv\n",
    "    \n",
    "    kl=gum.BruteForceKL(bn,bn2)\n",
    "    r=kl.compute()\n",
    "    l.append(r['klPQ'])\n",
    "    \n",
    "    if nbr % rows == 0:\n",
    "        res+=\"<tr>\"\n",
    "    res+=\"<td><center>size=\"+str(i)+\"</center>\"+gnb.getBN(bn2,size=\"3\").data+\"</td>\"\n",
    "    nbr+=1\n",
    "    if nbr % rows == 0:\n",
    "        res+=\"</tr>\"\n",
    "if nbr % rows!=0:\n",
    "    res+=\"</tr>\"\n",
    "res+=\"</table>\"\n",
    "\n",
    "IPython.display.display(IPython.display.HTML(res))\n",
    "\n",
    "plot(sizes,l)\n",
    "print(l[-1])"
   ]
  },
  {
   "cell_type": "code",
   "execution_count": null,
   "metadata": {
    "collapsed": false
   },
   "outputs": [],
   "source": [
    "res=\"<table>\"\n",
    "nbr=0\n",
    "l=[]\n",
    "for i in sizes:\n",
    "    n=i+1\n",
    "    !head -n $n sample_asia.csv > extract_asia.csv\n",
    "    #!wc extract_asia.csv\n",
    "    learner=gum.BNLearner(\"extract_asia.csv\")\n",
    "    learner.useLocalSearchWithTabuList()\n",
    "    bn2=learner.learnBN()\n",
    "    !rm -f extract_asia.csv\n",
    "    \n",
    "    kl=gum.BruteForceKL(bn,bn2)\n",
    "    r=kl.compute()\n",
    "    l.append(r['klPQ'])\n",
    "    \n",
    "    bn2.setProperty(\"name\",\"BN(%{0})\".format(i))\n",
    "    if nbr % rows == 0:\n",
    "        res+=\"<tr>\"\n",
    "    res+=\"<td><center>size=\"+str(i)+\"</center>\"+gnb.getBN(bn2,size=\"3\").data+\"</td>\"\n",
    "    nbr+=1\n",
    "    if nbr % rows == 0:\n",
    "        res+=\"</tr>\"\n",
    "if nbr % rows!=0:\n",
    "    res+=\"</tr>\"\n",
    "res+=\"</table>\"\n",
    "\n",
    "IPython.display.display(IPython.display.HTML(res))\n",
    "\n",
    "plot(sizes,l)\n",
    "print(l[-1])"
   ]
  },
  {
   "cell_type": "code",
   "execution_count": null,
   "metadata": {
    "collapsed": false
   },
   "outputs": [],
   "source": []
  }
 ],
 "metadata": {
  "kernelspec": {
   "display_name": "Python 3",
   "language": "python",
   "name": "python3"
  },
  "language_info": {
   "codemirror_mode": {
    "name": "ipython",
    "version": 3
   },
   "file_extension": ".py",
   "mimetype": "text/x-python",
   "name": "python",
   "nbconvert_exporter": "python",
   "pygments_lexer": "ipython3",
   "version": "3.5.0+"
  }
 },
 "nbformat": 4,
 "nbformat_minor": 0
}
