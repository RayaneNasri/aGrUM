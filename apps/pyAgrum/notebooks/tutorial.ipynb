{
 "metadata": {
  "name": "",
  "signature": "sha256:d4d9f1a33a6d246bf42a91c5fe042e62a56d69b94989ed58370f5b4d7cde5fab"
 },
 "nbformat": 3,
 "nbformat_minor": 0,
 "worksheets": [
  {
   "cells": [
    {
     "cell_type": "code",
     "collapsed": false,
     "input": [
      "%matplotlib inline\n",
      "from pylab import *\n",
      "import matplotlib.pyplot as plt"
     ],
     "language": "python",
     "metadata": {},
     "outputs": [],
     "prompt_number": 1
    },
    {
     "cell_type": "heading",
     "level": 1,
     "metadata": {},
     "source": [
      "Creating your first Bayesian Network with pyAgrum"
     ]
    },
    {
     "cell_type": "markdown",
     "metadata": {},
     "source": [
      "(This example is based on an OpenBayes [closed] website tutorial)"
     ]
    },
    {
     "cell_type": "markdown",
     "metadata": {},
     "source": [
      "<p>A <b>Bayesian network</b> (BN) is composed of <b>random variables</b> (nodes) and their conditional dependencies (arcs) forming an acyclic directecd graph (DAG). A <b>conditional probability table</b> (CPT) is associated to each node :\n",
      "<center><img src=\"files/images/waterprinkler.png\"></center>\n",
      "Such a BN allows to manipulate the joint probability $P(C,S,R,W)$&nbsp;&nbsp;&nbsp;using this decomposition :\n",
      "<center>\n",
      "    $P(C,S,R,W)=\\sum_X P(X | Parents_X) = P(C) \\cdot P(S | C) \\cdot P(R | C) \\cdot P(W | S,R)$\n",
      "</center>\n",
      "</p>\n",
      "<p>\n",
      "    Imagine you want to create your first bayesian network, say for example the 'Water Sprinkler' network. This is an easy example. All the nodes are boolean (only 2 possible values).\n",
      "</p>"
     ]
    },
    {
     "cell_type": "heading",
     "level": 2,
     "metadata": {},
     "source": [
      "Import the pyAgrum package"
     ]
    },
    {
     "cell_type": "code",
     "collapsed": false,
     "input": [
      "import pyAgrum as gum"
     ],
     "language": "python",
     "metadata": {},
     "outputs": [],
     "prompt_number": 2
    },
    {
     "cell_type": "heading",
     "level": 2,
     "metadata": {},
     "source": [
      "Create the network topology"
     ]
    },
    {
     "cell_type": "heading",
     "level": 3,
     "metadata": {},
     "source": [
      "Create the BN"
     ]
    },
    {
     "cell_type": "markdown",
     "metadata": {},
     "source": [
      "The next line creates an empty BN network with a 'name' property."
     ]
    },
    {
     "cell_type": "code",
     "collapsed": false,
     "input": [
      "bn=gum.BayesNet('WaterSprinkler')\n",
      "print bn"
     ],
     "language": "python",
     "metadata": {},
     "outputs": [
      {
       "output_type": "stream",
       "stream": "stdout",
       "text": [
        "BN{nodes: 0, arcs: 0, domainSize: 1, parameters: 0, compression ratio: 100-10^-inf% }\n"
       ]
      }
     ],
     "prompt_number": 3
    },
    {
     "cell_type": "heading",
     "level": 3,
     "metadata": {},
     "source": [
      "Create the variables"
     ]
    },
    {
     "cell_type": "markdown",
     "metadata": {},
     "source": [
      "pyAgrum(aGrUM) provides 3 types of variables :\n",
      "<ul>\n",
      "    <li>LabelizedVariable</li>\n",
      "    <li>RangeVariable</li>\n",
      "    <li>DiscretizedVariable</li>\n",
      "</ul>\n",
      "In this tutorial, we will use LabelizedVariable. The next line will create a varible 'c' with 2 values and add it to the BN. The value returned is the id of the node in the topology."
     ]
    },
    {
     "cell_type": "code",
     "collapsed": false,
     "input": [
      "c=bn.add(gum.LabelizedVariable('c','cloudy ?',2))\n",
      "print c"
     ],
     "language": "python",
     "metadata": {},
     "outputs": [
      {
       "output_type": "stream",
       "stream": "stdout",
       "text": [
        "0\n"
       ]
      }
     ],
     "prompt_number": 4
    },
    {
     "cell_type": "markdown",
     "metadata": {},
     "source": [
      "You can continue adding nodes in the nework this way. Let us use python to compact a bit the code :"
     ]
    },
    {
     "cell_type": "code",
     "collapsed": false,
     "input": [
      "s, r, w = [ bn.add(gum.LabelizedVariable(name, '', 2)) for name in 's r w'.split() ]\n",
      "print (s,r,w)\n",
      "print bn"
     ],
     "language": "python",
     "metadata": {},
     "outputs": [
      {
       "output_type": "stream",
       "stream": "stdout",
       "text": [
        "(1, 2, 3)\n",
        "BN{nodes: 4, arcs: 0, domainSize: 16, parameters: 8, compression ratio: 50% }\n"
       ]
      }
     ],
     "prompt_number": 5
    },
    {
     "cell_type": "heading",
     "level": 3,
     "metadata": {},
     "source": [
      "Create the arcs"
     ]
    },
    {
     "cell_type": "markdown",
     "metadata": {},
     "source": [
      "Now we have to connect nodes. Remember that <tt>c</tt> and <tt>s</tt> are ids for nodes :"
     ]
    },
    {
     "cell_type": "code",
     "collapsed": false,
     "input": [
      "bn.addArc(c,s)"
     ],
     "language": "python",
     "metadata": {},
     "outputs": [],
     "prompt_number": 6
    },
    {
     "cell_type": "markdown",
     "metadata": {},
     "source": [
      "Once again, python can help us :"
     ]
    },
    {
     "cell_type": "code",
     "collapsed": false,
     "input": [
      "for link in [(c,r),(s,w),(r,w)]:\n",
      "    bn.addArc(*link)\n",
      "print(bn)"
     ],
     "language": "python",
     "metadata": {},
     "outputs": [
      {
       "output_type": "stream",
       "stream": "stdout",
       "text": [
        "BN{nodes: 4, arcs: 4, domainSize: 16, parameters: 18, compression ratio: -12% }\n"
       ]
      }
     ],
     "prompt_number": 7
    },
    {
     "cell_type": "markdown",
     "metadata": {},
     "source": [
      "pyAgrum allows use to show a better representation of <tt>bn</tt>. <br/><tt>gumLib</tt> is a set of tools written in pyAgrum to help using aGrUM in python. <tt>gumLib.notebook</tt> add dedicated functions for iPython notebook."
     ]
    },
    {
     "cell_type": "code",
     "collapsed": false,
     "input": [
      "import gumLib.notebook as nb\n",
      "nb.showBN(bn)"
     ],
     "language": "python",
     "metadata": {},
     "outputs": [
      {
       "html": [
        "<div align='center'><svg height=\"188pt\" viewBox=\"0.00 0.00 134.00 188.00\" width=\"134pt\" xmlns=\"http://www.w3.org/2000/svg\" xmlns:xlink=\"http://www.w3.org/1999/xlink\">\n",
        "<g class=\"graph\" id=\"graph0\" transform=\"scale(1 1) rotate(0) translate(4 184)\">\n",
        "<title>G</title>\n",
        "<polygon fill=\"white\" points=\"-4,4 -4,-184 130,-184 130,4 -4,4\" stroke=\"none\"/>\n",
        "<!-- c -->\n",
        "<g class=\"node\" id=\"node1\"><title>c</title>\n",
        "<g id=\"a_node1\"><a xlink:title=\"(0) c\">\n",
        "<ellipse cx=\"63\" cy=\"-162\" fill=\"#444444\" rx=\"27\" ry=\"18\" stroke=\"black\"/>\n",
        "<text fill=\"#ffffff\" font-family=\"Times,serif\" font-size=\"14.00\" text-anchor=\"middle\" x=\"63\" y=\"-158.3\">c</text>\n",
        "</a>\n",
        "</g>\n",
        "</g>\n",
        "<!-- s -->\n",
        "<g class=\"node\" id=\"node2\"><title>s</title>\n",
        "<g id=\"a_node2\"><a xlink:title=\"(1) s\">\n",
        "<ellipse cx=\"27\" cy=\"-90\" fill=\"#444444\" rx=\"27\" ry=\"18\" stroke=\"black\"/>\n",
        "<text fill=\"#ffffff\" font-family=\"Times,serif\" font-size=\"14.00\" text-anchor=\"middle\" x=\"27\" y=\"-86.3\">s</text>\n",
        "</a>\n",
        "</g>\n",
        "</g>\n",
        "<!-- c&#45;&gt;s -->\n",
        "<g class=\"edge\" id=\"edge1\"><title>c-&gt;s</title>\n",
        "<path d=\"M54.6504,-144.765C50.2885,-136.283 44.8531,-125.714 39.9587,-116.197\" fill=\"none\" stroke=\"black\"/>\n",
        "<polygon fill=\"black\" points=\"42.9904,-114.439 35.3043,-107.147 36.7654,-117.641 42.9904,-114.439\" stroke=\"black\"/>\n",
        "</g>\n",
        "<!-- r -->\n",
        "<g class=\"node\" id=\"node3\"><title>r</title>\n",
        "<g id=\"a_node3\"><a xlink:title=\"(2) r\">\n",
        "<ellipse cx=\"99\" cy=\"-90\" fill=\"#444444\" rx=\"27\" ry=\"18\" stroke=\"black\"/>\n",
        "<text fill=\"#ffffff\" font-family=\"Times,serif\" font-size=\"14.00\" text-anchor=\"middle\" x=\"99\" y=\"-86.3\">r</text>\n",
        "</a>\n",
        "</g>\n",
        "</g>\n",
        "<!-- c&#45;&gt;r -->\n",
        "<g class=\"edge\" id=\"edge3\"><title>c-&gt;r</title>\n",
        "<path d=\"M71.3496,-144.765C75.7115,-136.283 81.1469,-125.714 86.0413,-116.197\" fill=\"none\" stroke=\"black\"/>\n",
        "<polygon fill=\"black\" points=\"89.2346,-117.641 90.6957,-107.147 83.0096,-114.439 89.2346,-117.641\" stroke=\"black\"/>\n",
        "</g>\n",
        "<!-- w -->\n",
        "<g class=\"node\" id=\"node4\"><title>w</title>\n",
        "<g id=\"a_node4\"><a xlink:title=\"(3) w\">\n",
        "<ellipse cx=\"63\" cy=\"-18\" fill=\"#444444\" rx=\"27\" ry=\"18\" stroke=\"black\"/>\n",
        "<text fill=\"#ffffff\" font-family=\"Times,serif\" font-size=\"14.00\" text-anchor=\"middle\" x=\"63\" y=\"-14.3\">w</text>\n",
        "</a>\n",
        "</g>\n",
        "</g>\n",
        "<!-- s&#45;&gt;w -->\n",
        "<g class=\"edge\" id=\"edge2\"><title>s-&gt;w</title>\n",
        "<path d=\"M35.3496,-72.7646C39.7115,-64.2831 45.1469,-53.7144 50.0413,-44.1974\" fill=\"none\" stroke=\"black\"/>\n",
        "<polygon fill=\"black\" points=\"53.2346,-45.6409 54.6957,-35.1473 47.0096,-42.4395 53.2346,-45.6409\" stroke=\"black\"/>\n",
        "</g>\n",
        "<!-- r&#45;&gt;w -->\n",
        "<g class=\"edge\" id=\"edge4\"><title>r-&gt;w</title>\n",
        "<path d=\"M90.6504,-72.7646C86.2885,-64.2831 80.8531,-53.7144 75.9587,-44.1974\" fill=\"none\" stroke=\"black\"/>\n",
        "<polygon fill=\"black\" points=\"78.9904,-42.4395 71.3043,-35.1473 72.7654,-45.6409 78.9904,-42.4395\" stroke=\"black\"/>\n",
        "</g>\n",
        "</g>\n",
        "</svg></div>"
       ],
       "metadata": {},
       "output_type": "display_data",
       "text": [
        "<IPython.core.display.HTML at 0x7f26ecca2c10>"
       ]
      }
     ],
     "prompt_number": 8
    },
    {
     "cell_type": "heading",
     "level": 3,
     "metadata": {},
     "source": [
      "Create the probability tables"
     ]
    },
    {
     "cell_type": "markdown",
     "metadata": {},
     "source": [
      "Once the network topology is constructed, we must initialize the conditional probability tables (CPT) distributions.\n",
      "Each CPT is consider as a Potential object in pyAgrum. There is several ways to fill a such object.<br/>\n",
      "\n",
      "To get the CPT of a variable, use the cpt method of your BayesNet instance with the variable id as parameter.<br/>\n",
      "\n",
      "Now we are ready to fill in the parameters for each node in our network. There are several ways to add these parameters<br/>"
     ]
    },
    {
     "cell_type": "markdown",
     "metadata": {},
     "source": [
      "<li>Low-level way</li>"
     ]
    },
    {
     "cell_type": "code",
     "collapsed": false,
     "input": [
      "bn.cpt(c).fillWith([0.5,0.5])"
     ],
     "language": "python",
     "metadata": {},
     "outputs": [],
     "prompt_number": 9
    },
    {
     "cell_type": "markdown",
     "metadata": {},
     "source": [
      "<li>Using the order of variables</li>"
     ]
    },
    {
     "cell_type": "code",
     "collapsed": false,
     "input": [
      "bn.cpt(s).var_names"
     ],
     "language": "python",
     "metadata": {},
     "outputs": [
      {
       "metadata": {},
       "output_type": "pyout",
       "prompt_number": 10,
       "text": [
        "['c', 's']"
       ]
      }
     ],
     "prompt_number": 10
    },
    {
     "cell_type": "code",
     "collapsed": false,
     "input": [
      "bn.cpt(s)[:]=[ [0.5,0.5],[0.9,0.1]]"
     ],
     "language": "python",
     "metadata": {},
     "outputs": [],
     "prompt_number": 11
    },
    {
     "cell_type": "markdown",
     "metadata": {},
     "source": [
      "Then $P(S | C=0)=[0.5,0.5]$ <br/>and $P(S | C=1)=[0.9,0.1]$."
     ]
    },
    {
     "cell_type": "code",
     "collapsed": false,
     "input": [
      "print bn.cpt(s)[1]"
     ],
     "language": "python",
     "metadata": {},
     "outputs": [
      {
       "output_type": "stream",
       "stream": "stdout",
       "text": [
        "[ 0.9  0.1]\n"
       ]
      }
     ],
     "prompt_number": 12
    },
    {
     "cell_type": "markdown",
     "metadata": {},
     "source": [
      "One can do the same in stages :"
     ]
    },
    {
     "cell_type": "code",
     "collapsed": false,
     "input": [
      "bn.cpt(s)[0,:]=0.5 # equivalent to [0.5,0.5]\n",
      "bn.cpt(s)[1,:]=[0.9,0.1]"
     ],
     "language": "python",
     "metadata": {},
     "outputs": [],
     "prompt_number": 13
    },
    {
     "cell_type": "code",
     "collapsed": false,
     "input": [
      "bn.cpt(w).var_names"
     ],
     "language": "python",
     "metadata": {},
     "outputs": [
      {
       "metadata": {},
       "output_type": "pyout",
       "prompt_number": 14,
       "text": [
        "['r', 's', 'w']"
       ]
      }
     ],
     "prompt_number": 14
    },
    {
     "cell_type": "code",
     "collapsed": false,
     "input": [
      "bn.cpt(w)[0,0,:] = [1, 0] # r=0,s=0\n",
      "bn.cpt(w)[0,1,:] = [0.1, 0.9] # r=0,s=1\n",
      "bn.cpt(w)[1,0,:] = [0.1, 0.9] # r=1,s=0\n",
      "bn.cpt(w)[1,1,:] = [0.01, 0.99] # r=1,s=1"
     ],
     "language": "python",
     "metadata": {},
     "outputs": [],
     "prompt_number": 15
    },
    {
     "cell_type": "markdown",
     "metadata": {},
     "source": [
      "<li>Using a dictionnaty</li>"
     ]
    },
    {
     "cell_type": "markdown",
     "metadata": {},
     "source": [
      "This probably is the most convenient way :"
     ]
    },
    {
     "cell_type": "code",
     "collapsed": false,
     "input": [
      "bn.cpt(w)[{'r': 0, 's': 0}] = [1, 0]\n",
      "bn.cpt(w)[{'r': 0, 's': 1}] = [0.1, 0.9]\n",
      "bn.cpt(w)[{'r': 1, 's': 0}] = [0.1, 0.9]\n",
      "bn.cpt(w)[{'r': 1, 's': 1}] = [0.01, 0.99]"
     ],
     "language": "python",
     "metadata": {},
     "outputs": [],
     "prompt_number": 16
    },
    {
     "cell_type": "markdown",
     "metadata": {},
     "source": [
      "The use of dictionaries is a feature borrowed from OpenBayes. It facilitates the use and avoid common errors that happen when introducing data into the wrong places."
     ]
    },
    {
     "cell_type": "code",
     "collapsed": false,
     "input": [
      "bn.cpt(r)[{'c':0}]=[0.8,0.2]\n",
      "bn.cpt(r)[{'c':1}]=[0.2,0.8]"
     ],
     "language": "python",
     "metadata": {},
     "outputs": [],
     "prompt_number": 17
    },
    {
     "cell_type": "heading",
     "level": 2,
     "metadata": {},
     "source": [
      "Input/output"
     ]
    },
    {
     "cell_type": "markdown",
     "metadata": {},
     "source": [
      "Now our BN is complete. It can be saved in different format :"
     ]
    },
    {
     "cell_type": "code",
     "collapsed": false,
     "input": [
      "print gum.availableBNExts()"
     ],
     "language": "python",
     "metadata": {},
     "outputs": [
      {
       "output_type": "stream",
       "stream": "stdout",
       "text": [
        "bif|dsl|net|bifxml\n"
       ]
      }
     ],
     "prompt_number": 18
    },
    {
     "cell_type": "markdown",
     "metadata": {},
     "source": [
      "We can save a BN using BIF format"
     ]
    },
    {
     "cell_type": "code",
     "collapsed": false,
     "input": [
      "gum.saveBN(bn,\"WaterSprinkler.bif\")"
     ],
     "language": "python",
     "metadata": {},
     "outputs": [],
     "prompt_number": 19
    },
    {
     "cell_type": "code",
     "collapsed": false,
     "input": [
      "with open(\"WaterSprinkler.bif\",\"rb\") as out:\n",
      "    print(out.read())"
     ],
     "language": "python",
     "metadata": {},
     "outputs": [
      {
       "output_type": "stream",
       "stream": "stdout",
       "text": [
        "\n",
        "network WaterSprinkler{\n",
        "   property software aGrUM;\n",
        "}\n",
        "\n",
        "variable c {\n",
        "   type discrete[2] {0, 1};\n",
        "}\n",
        "\n",
        "variable s {\n",
        "   type discrete[2] {0, 1};\n",
        "}\n",
        "\n",
        "variable r {\n",
        "   type discrete[2] {0, 1};\n",
        "}\n",
        "\n",
        "variable w {\n",
        "   type discrete[2] {0, 1};\n",
        "}\n",
        "\n",
        "probability (c) {\n",
        "   default 0.5 0.5;\n",
        "}\n",
        "probability (s | c) {\n",
        "   (0) 0.5 0.5;\n",
        "   (1) 0.9 0.1;\n",
        "}\n",
        "probability (r | c) {\n",
        "   (0) 0.8 0.2;\n",
        "   (1) 0.2 0.8;\n",
        "}\n",
        "probability (w | s, r) {\n",
        "   (0, 0) 1 0;\n",
        "   (1, 0) 0.1 0.9;\n",
        "   (0, 1) 0.1 0.9;\n",
        "   (1, 1) 0.01 0.99;\n",
        "}\n",
        "\n",
        "\n"
       ]
      }
     ],
     "prompt_number": 20
    },
    {
     "cell_type": "code",
     "collapsed": false,
     "input": [
      "bn2=gum.loadBN(\"WaterSprinkler.bif\")"
     ],
     "language": "python",
     "metadata": {},
     "outputs": [],
     "prompt_number": 21
    },
    {
     "cell_type": "markdown",
     "metadata": {},
     "source": [
      "We can also save and load it in the other formats"
     ]
    },
    {
     "cell_type": "code",
     "collapsed": false,
     "input": [
      "gum.saveBN(bn,\"WaterSprinkler.net\")\n",
      "with open(\"WaterSprinkler.net\",\"rb\") as out:\n",
      "    print(out.read())\n",
      "bn3=gum.loadBN(\"WaterSprinkler.net\")"
     ],
     "language": "python",
     "metadata": {},
     "outputs": [
      {
       "output_type": "stream",
       "stream": "stdout",
       "text": [
        "\n",
        "net {\n",
        "  name = WaterSprinkler;\n",
        "  software = \"aGrUM \";\n",
        "  node_size = (50 50);\n",
        "}\n",
        "\n",
        "node c {\n",
        "   states = (0 1 );\n",
        "   label = \"c\";\n",
        "   ID = \"c\";\n",
        "}\n",
        "\n",
        "node s {\n",
        "   states = (0 1 );\n",
        "   label = \"s\";\n",
        "   ID = \"s\";\n",
        "}\n",
        "\n",
        "node r {\n",
        "   states = (0 1 );\n",
        "   label = \"r\";\n",
        "   ID = \"r\";\n",
        "}\n",
        "\n",
        "node w {\n",
        "   states = (0 1 );\n",
        "   label = \"w\";\n",
        "   ID = \"w\";\n",
        "}\n",
        "\n",
        "potential (c) {\n",
        "   data = (  0.5 0.5);\n",
        "}\n",
        "potential ( s | c   ) {\n",
        "   data = \n",
        "   ((   0.5   0.5)\n",
        "   (   0.9   0.1));\n",
        "}\n",
        "potential ( r | c   ) {\n",
        "   data = \n",
        "   ((   0.8   0.2)\n",
        "   (   0.2   0.8));\n",
        "}\n",
        "potential ( w | s   r   ) {\n",
        "   data = \n",
        "   (((   1   0)\n",
        "   (   0.1   0.9))\n",
        "   ((   0.1   0.9)\n",
        "   (   0.01   0.99)));\n",
        "}\n",
        "\n",
        "\n"
       ]
      }
     ],
     "prompt_number": 22
    },
    {
     "cell_type": "heading",
     "level": 1,
     "metadata": {},
     "source": [
      "Inference in Bayesian Network"
     ]
    },
    {
     "cell_type": "markdown",
     "metadata": {},
     "source": [
      "We have to choose an inference engine to perform calculations for us. Two inference engines are available for now in pyAgrum :\n",
      "<ul>\n",
      "    <li><b>LazyPropagation</b> : an exact inference method that transforms the bayesian network into an equivalent structure (called join/junction tree) by eliminating any undirected loops. For example, the water-sprinkler network forms an undirected loop with the nodes c, s, r and w.</li>\n",
      "    <li><b>Gibbs</b> : an approximate inference engine using the Gibbs sampling algorithm to generate a sequence of samples from the joint probability distribution.</li>\n",
      "</ul>\n",
      "        \n"
     ]
    },
    {
     "cell_type": "code",
     "collapsed": false,
     "input": [
      "ie=gum.LazyPropagation(bn)"
     ],
     "language": "python",
     "metadata": {},
     "outputs": [],
     "prompt_number": 23
    },
    {
     "cell_type": "heading",
     "level": 2,
     "metadata": {},
     "source": [
      "Inference without evidence"
     ]
    },
    {
     "cell_type": "code",
     "collapsed": false,
     "input": [
      "ie.makeInference()\n",
      "print (ie.posterior(w))"
     ],
     "language": "python",
     "metadata": {},
     "outputs": [
      {
       "output_type": "stream",
       "stream": "stdout",
       "text": [
        "<w:0> :: 0.3529 /<w:1> :: 0.6471\n"
       ]
      }
     ],
     "prompt_number": 24
    },
    {
     "cell_type": "markdown",
     "metadata": {},
     "source": [
      "In our BN, $P(W) = [ 0.3529  0.6471]$"
     ]
    },
    {
     "cell_type": "heading",
     "level": 2,
     "metadata": {},
     "source": [
      "Inference with evidence"
     ]
    },
    {
     "cell_type": "markdown",
     "metadata": {},
     "source": [
      "Suppose now that you know that the sprinkler is on and that it is not cloudy, and you wonder what's the probability of the grass being wet : $P(W|S=1,C=0)$. <br/>This is called evidence. Evidence is entered using a dictionary."
     ]
    },
    {
     "cell_type": "code",
     "collapsed": false,
     "input": [
      "ie.setEvidence({'s': 1, 'c': 0})\n",
      "ie.makeInference()\n",
      "print(ie.posterior(w))"
     ],
     "language": "python",
     "metadata": {},
     "outputs": [
      {
       "output_type": "stream",
       "stream": "stdout",
       "text": [
        "<w:0> :: 0.082 /<w:1> :: 0.918\n"
       ]
      }
     ],
     "prompt_number": 25
    },
    {
     "cell_type": "markdown",
     "metadata": {},
     "source": [
      "You can also set the entire evidence likelihood (soft evidence)"
     ]
    },
    {
     "cell_type": "code",
     "collapsed": false,
     "input": [
      "ie.setEvidence({'s': [0, 1], 'c': [1, 0]})\n",
      "ie.makeInference()\n",
      "print(ie.posterior(w))"
     ],
     "language": "python",
     "metadata": {},
     "outputs": [
      {
       "output_type": "stream",
       "stream": "stdout",
       "text": [
        "<w:0> :: 0.082 /<w:1> :: 0.918\n"
       ]
      }
     ],
     "prompt_number": 26
    },
    {
     "cell_type": "markdown",
     "metadata": {},
     "source": [
      "the gumLib.notebook utility proposes certain functions to graphically show distributions."
     ]
    },
    {
     "cell_type": "code",
     "collapsed": false,
     "input": [
      "nb.showProba(ie.posterior(w))"
     ],
     "language": "python",
     "metadata": {},
     "outputs": [
      {
       "metadata": {},
       "output_type": "display_data",
       "png": "[encoded data removed]",
       "text": [
        "<matplotlib.figure.Figure at 0x7f26ecca8d50>"
       ]
      }
     ],
     "prompt_number": 27
    },
    {
     "cell_type": "code",
     "collapsed": false,
     "input": [
      "nb.showPosterior(bn,{'s':1,'c':0},'w')"
     ],
     "language": "python",
     "metadata": {},
     "outputs": [
      {
       "metadata": {},
       "output_type": "display_data",
       "png": "[encoded data removed]",
       "text": [
        "<matplotlib.figure.Figure at 0x7f26ecd32850>"
       ]
      }
     ],
     "prompt_number": 28
    },
    {
     "cell_type": "code",
     "collapsed": false,
     "input": [],
     "language": "python",
     "metadata": {},
     "outputs": [],
     "prompt_number": 28
    }
   ],
   "metadata": {}
  }
 ]
}