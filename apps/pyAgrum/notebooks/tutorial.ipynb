{
 "metadata": {
  "name": ""
 },
 "nbformat": 3,
 "nbformat_minor": 0,
 "worksheets": [
  {
   "cells": [
    {
     "cell_type": "heading",
     "level": 1,
     "metadata": {},
     "source": [
      "Creating your first Bayesian Network with pyAgrum"
     ]
    },
    {
     "cell_type": "markdown",
     "metadata": {},
     "source": [
      "(This example is based on an OpenBayes [closed] website tutorial)"
     ]
    },
    {
     "cell_type": "markdown",
     "metadata": {},
     "source": [
      "<p>A <b>Bayesian network</b> (BN) is composed of <b>random variables</b> (nodes) and their conditional dependencies (arcs) forming an acyclic directecd graph (DAG). A <b>conditional probability table</b> (CPT) is associated to each node :\n",
      "<center><img src=\"files/images/waterprinkler.png\"></center>\n",
      "Such a BN allows to manipulate the joint probability $P(C,S,R,W)$&nbsp;&nbsp;&nbsp;using this decomposition :\n",
      "<center>\n",
      "    $P(C,S,R,W)=\\sum_X P(X | Parents_X) = P(C) \\cdot P(S | C) \\cdot P(R | C) \\cdot P(W | S,R)$\n",
      "</center>\n",
      "</p>\n",
      "<p>\n",
      "    Imagine you want to create your first bayesian network, say for example the 'Water Sprinkler' network. This is an easy example. All the nodes are boolean (only 2 possible values).\n",
      "</p>"
     ]
    },
    {
     "cell_type": "heading",
     "level": 2,
     "metadata": {},
     "source": [
      "Import the pyAgrum package"
     ]
    },
    {
     "cell_type": "code",
     "collapsed": false,
     "input": [
      "import pyAgrum as gum"
     ],
     "language": "python",
     "metadata": {},
     "outputs": [],
     "prompt_number": 1
    },
    {
     "cell_type": "heading",
     "level": 2,
     "metadata": {},
     "source": [
      "Create the network topology"
     ]
    },
    {
     "cell_type": "heading",
     "level": 3,
     "metadata": {},
     "source": [
      "Create the BN"
     ]
    },
    {
     "cell_type": "markdown",
     "metadata": {},
     "source": [
      "The next line creates an empty BN network with a 'name' property."
     ]
    },
    {
     "cell_type": "code",
     "collapsed": false,
     "input": [
      "bn=gum.BayesNet('Water Sprinkler Bayesian Network (pyAgrum version)')\n",
      "print bn"
     ],
     "language": "python",
     "metadata": {},
     "outputs": [
      {
       "output_type": "stream",
       "stream": "stdout",
       "text": [
        "BN{nodes: 0, arcs: 0, domainSize: 1, parameters: 0, compression ratio: 100-10^-inf% }\n"
       ]
      }
     ],
     "prompt_number": 2
    },
    {
     "cell_type": "heading",
     "level": 3,
     "metadata": {},
     "source": [
      "Create the variables"
     ]
    },
    {
     "cell_type": "markdown",
     "metadata": {},
     "source": [
      "pyAgrum(aGrUM) provides 3 types of variables :\n",
      "<ul>\n",
      "    <li>LabelizedVar</li>\n",
      "    <li>RangeVar</li>\n",
      "    <li>DiscretizedVar</li>\n",
      "</ul>\n",
      "In this tutorial, we will use LabelizedVar. The next line will create a varible 'c' with 2 values and add it to the BN. The value returned is the id of the node in the topology."
     ]
    },
    {
     "cell_type": "code",
     "collapsed": false,
     "input": [
      "c=bn.add(gum.LabelizedVar('c','cloudy ?',2))\n",
      "print c"
     ],
     "language": "python",
     "metadata": {},
     "outputs": [
      {
       "output_type": "stream",
       "stream": "stdout",
       "text": [
        "0\n"
       ]
      }
     ],
     "prompt_number": 3
    },
    {
     "cell_type": "markdown",
     "metadata": {},
     "source": [
      "You can continue adding nodes in the nework this way. Let us use python to compact a bit the code :"
     ]
    },
    {
     "cell_type": "code",
     "collapsed": false,
     "input": [
      "s, r, w = [ bn.add(gum.LabelizedVar(name, '', 2)) for name in 's r w'.split() ]\n",
      "print (s,r,w)\n",
      "print bn"
     ],
     "language": "python",
     "metadata": {},
     "outputs": [
      {
       "output_type": "stream",
       "stream": "stdout",
       "text": [
        "(1, 2, 3)\n",
        "BN{nodes: 4, arcs: 0, domainSize: 16, parameters: 8, compression ratio: 50% }\n"
       ]
      }
     ],
     "prompt_number": 4
    },
    {
     "cell_type": "heading",
     "level": 3,
     "metadata": {},
     "source": [
      "Create the arcs"
     ]
    },
    {
     "cell_type": "markdown",
     "metadata": {},
     "source": [
      "Now we have to connect nodes. Remember that <tt>c</tt> and <tt>s</tt> are ids for nodes :"
     ]
    },
    {
     "cell_type": "code",
     "collapsed": false,
     "input": [
      "bn.insertArc(c,s)"
     ],
     "language": "python",
     "metadata": {},
     "outputs": [],
     "prompt_number": 6
    },
    {
     "cell_type": "markdown",
     "metadata": {},
     "source": [
      "Once again, python can help us :"
     ]
    },
    {
     "cell_type": "code",
     "collapsed": false,
     "input": [
      "for link in [(c,r),(s,w),(r,w)]:\n",
      "    bn.insertArc(*link)\n",
      "print(bn)"
     ],
     "language": "python",
     "metadata": {},
     "outputs": [
      {
       "output_type": "stream",
       "stream": "stdout",
       "text": [
        "BN{nodes: 4, arcs: 4, domainSize: 16, parameters: 18, compression ratio: -12% }\n"
       ]
      }
     ],
     "prompt_number": 7
    },
    {
     "cell_type": "markdown",
     "metadata": {},
     "source": [
      "pyAgrum allows use to show a better representation of <tt>bn</tt>. <br/><tt>gumLib</tt> is a set of tools written in pyAgrum to help using aGrUM in python. <tt>gumLib.notebook</tt> add dedicated functions for iPython notebook."
     ]
    },
    {
     "cell_type": "code",
     "collapsed": false,
     "input": [
      "import gumLib.notebook as nb\n",
      "nb.showBN(bn)"
     ],
     "language": "python",
     "metadata": {},
     "outputs": [
      {
       "html": [
        "<div align='center'><svg height=\"194pt\" viewBox=\"0.00 0.00 134.00 194.00\" width=\"134pt\" xmlns=\"http://www.w3.org/2000/svg\" xmlns:xlink=\"http://www.w3.org/1999/xlink\">\n",
        "<g class=\"graph\" id=\"graph1\" transform=\"scale(1 1) rotate(0) translate(4 190)\">\n",
        "<title>G</title>\n",
        "<polygon fill=\"white\" points=\"-4,5 -4,-190 131,-190 131,5 -4,5\" stroke=\"white\"/>\n",
        "<!-- c -->\n",
        "<g class=\"node\" id=\"node1\"><title>c</title>\n",
        "<ellipse cx=\"63\" cy=\"-167\" fill=\"#666666\" rx=\"27\" ry=\"18.3848\" stroke=\"black\"/>\n",
        "<text fill=\"#ffffff\" font-family=\"Times Roman,serif\" font-size=\"14.00\" text-anchor=\"middle\" x=\"63\" y=\"-163.4\">c</text>\n",
        "</g>\n",
        "<!-- s -->\n",
        "<g class=\"node\" id=\"node2\"><title>s</title>\n",
        "<ellipse cx=\"27\" cy=\"-93\" fill=\"#666666\" rx=\"27\" ry=\"18.3848\" stroke=\"black\"/>\n",
        "<text fill=\"#ffffff\" font-family=\"Times Roman,serif\" font-size=\"14.00\" text-anchor=\"middle\" x=\"27\" y=\"-89.4\">s</text>\n",
        "</g>\n",
        "<!-- c&#45;&gt;s -->\n",
        "<g class=\"edge\" id=\"edge2\"><title>c-&gt;s</title>\n",
        "<path d=\"M54.2854,-149.087C50.0403,-140.361 44.8464,-129.684 40.1337,-119.997\" fill=\"none\" stroke=\"black\"/>\n",
        "<polygon fill=\"black\" points=\"43.1564,-118.21 35.6343,-110.748 36.8617,-121.272 43.1564,-118.21\" stroke=\"black\"/>\n",
        "</g>\n",
        "<!-- r -->\n",
        "<g class=\"node\" id=\"node3\"><title>r</title>\n",
        "<ellipse cx=\"99\" cy=\"-93\" fill=\"#666666\" rx=\"27\" ry=\"18.3848\" stroke=\"black\"/>\n",
        "<text fill=\"#ffffff\" font-family=\"Times Roman,serif\" font-size=\"14.00\" text-anchor=\"middle\" x=\"99\" y=\"-89.4\">r</text>\n",
        "</g>\n",
        "<!-- c&#45;&gt;r -->\n",
        "<g class=\"edge\" id=\"edge6\"><title>c-&gt;r</title>\n",
        "<path d=\"M71.7146,-149.087C75.9597,-140.361 81.1536,-129.684 85.8663,-119.997\" fill=\"none\" stroke=\"black\"/>\n",
        "<polygon fill=\"black\" points=\"89.1383,-121.272 90.3657,-110.748 82.8436,-118.21 89.1383,-121.272\" stroke=\"black\"/>\n",
        "</g>\n",
        "<!-- w -->\n",
        "<g class=\"node\" id=\"node4\"><title>w</title>\n",
        "<ellipse cx=\"63\" cy=\"-19\" fill=\"#666666\" rx=\"27\" ry=\"18.3848\" stroke=\"black\"/>\n",
        "<text fill=\"#ffffff\" font-family=\"Times Roman,serif\" font-size=\"14.00\" text-anchor=\"middle\" x=\"63\" y=\"-15.4\">w</text>\n",
        "</g>\n",
        "<!-- s&#45;&gt;w -->\n",
        "<g class=\"edge\" id=\"edge4\"><title>s-&gt;w</title>\n",
        "<path d=\"M35.7146,-75.0867C39.9597,-66.3607 45.1536,-55.6843 49.8663,-45.9971\" fill=\"none\" stroke=\"black\"/>\n",
        "<polygon fill=\"black\" points=\"53.1383,-47.2719 54.3657,-36.7484 46.8436,-44.2096 53.1383,-47.2719\" stroke=\"black\"/>\n",
        "</g>\n",
        "<!-- r&#45;&gt;w -->\n",
        "<g class=\"edge\" id=\"edge8\"><title>r-&gt;w</title>\n",
        "<path d=\"M90.2854,-75.0867C86.0403,-66.3607 80.8464,-55.6843 76.1337,-45.9971\" fill=\"none\" stroke=\"black\"/>\n",
        "<polygon fill=\"black\" points=\"79.1564,-44.2096 71.6343,-36.7484 72.8617,-47.2719 79.1564,-44.2096\" stroke=\"black\"/>\n",
        "</g>\n",
        "</g>\n",
        "</svg></div>"
       ],
       "metadata": {},
       "output_type": "display_data",
       "text": [
        "<IPython.core.display.HTML at 0x4194d90>"
       ]
      }
     ],
     "prompt_number": 9
    },
    {
     "cell_type": "heading",
     "level": 3,
     "metadata": {},
     "source": [
      "Create the probability tables"
     ]
    },
    {
     "cell_type": "markdown",
     "metadata": {},
     "source": [
      "Once the network topology is constructed, we must initialize the conditional probability tables (CPT) distributions.\n",
      "Each CPT is consider as a Potential object in pyAgrum. There is several ways to fill a such object.<br/>\n",
      "\n",
      "To get the CPT of a variable, use the cpt method of your BayesNet instance with the variable id as parameter.<br/>\n",
      "\n",
      "Now we are ready to fill in the parameters for each node in our network. There are several ways to add these parameters<br/>"
     ]
    },
    {
     "cell_type": "markdown",
     "metadata": {},
     "source": [
      "<li>Low-level way</li>"
     ]
    },
    {
     "cell_type": "code",
     "collapsed": false,
     "input": [
      "bn.cpt(c).fillWith([0.5,0.5])"
     ],
     "language": "python",
     "metadata": {},
     "outputs": [],
     "prompt_number": 10
    },
    {
     "cell_type": "markdown",
     "metadata": {},
     "source": [
      "<li>Using the order of variables</li>"
     ]
    },
    {
     "cell_type": "code",
     "collapsed": false,
     "input": [
      "bn.cpt(s).var_names"
     ],
     "language": "python",
     "metadata": {},
     "outputs": [
      {
       "metadata": {},
       "output_type": "pyout",
       "prompt_number": 11,
       "text": [
        "['c', 's']"
       ]
      }
     ],
     "prompt_number": 11
    },
    {
     "cell_type": "code",
     "collapsed": false,
     "input": [
      "bn.cpt(s)[:]=[ [0.5,0.5],[0.9,0.1]]"
     ],
     "language": "python",
     "metadata": {},
     "outputs": [],
     "prompt_number": 12
    },
    {
     "cell_type": "markdown",
     "metadata": {},
     "source": [
      "Then $P(S | C=0)=[0.5,0.5]$ <br/>and $P(S | C=1)=[0.9,0.1]$."
     ]
    },
    {
     "cell_type": "code",
     "collapsed": false,
     "input": [
      "print bn.cpt(s)[1]"
     ],
     "language": "python",
     "metadata": {},
     "outputs": [
      {
       "output_type": "stream",
       "stream": "stdout",
       "text": [
        "[ 0.9  0.1]\n"
       ]
      }
     ],
     "prompt_number": 13
    },
    {
     "cell_type": "markdown",
     "metadata": {},
     "source": [
      "One can do the same in stages :"
     ]
    },
    {
     "cell_type": "code",
     "collapsed": false,
     "input": [
      "bn.cpt(s)[0,:]=0.5 # equivalent to [0.5,0.5]\n",
      "bn.cpt(s)[1,:]=[0.9,0.1]"
     ],
     "language": "python",
     "metadata": {},
     "outputs": [],
     "prompt_number": 14
    },
    {
     "cell_type": "code",
     "collapsed": false,
     "input": [
      "bn.cpt(w).var_names"
     ],
     "language": "python",
     "metadata": {},
     "outputs": [
      {
       "metadata": {},
       "output_type": "pyout",
       "prompt_number": 15,
       "text": [
        "['r', 's', 'w']"
       ]
      }
     ],
     "prompt_number": 15
    },
    {
     "cell_type": "code",
     "collapsed": false,
     "input": [
      "bn.cpt(w)[0,0,:] = [1, 0] # r=0,s=0\n",
      "bn.cpt(w)[0,1,:] = [0.1, 0.9] # r=0,s=1\n",
      "bn.cpt(w)[1,0,:] = [0.1, 0.9] # r=1,s=0\n",
      "bn.cpt(w)[1,1,:] = [0.01, 0.99] # r=1,s=1"
     ],
     "language": "python",
     "metadata": {},
     "outputs": [],
     "prompt_number": 16
    },
    {
     "cell_type": "markdown",
     "metadata": {},
     "source": [
      "<li>Using a dictionnaty</li>"
     ]
    },
    {
     "cell_type": "markdown",
     "metadata": {},
     "source": [
      "This probably is the most convenient way :"
     ]
    },
    {
     "cell_type": "code",
     "collapsed": false,
     "input": [
      "bn.cpt(w)[{'r': 0, 's': 0}] = [1, 0]\n",
      "bn.cpt(w)[{'r': 0, 's': 1}] = [0.1, 0.9]\n",
      "bn.cpt(w)[{'r': 1, 's': 0}] = [0.1, 0.9]\n",
      "bn.cpt(w)[{'r': 1, 's': 1}] = [0.01, 0.99]"
     ],
     "language": "python",
     "metadata": {},
     "outputs": [],
     "prompt_number": 17
    },
    {
     "cell_type": "markdown",
     "metadata": {},
     "source": [
      "The use of dictionaries is a feature borrowed from OpenBayes. It facilitates the use and avoid common errors that happen when introducing data into the wrong places."
     ]
    },
    {
     "cell_type": "code",
     "collapsed": false,
     "input": [
      "bn.cpt(r)[{'c':0}]=[0.8,0.2]\n",
      "bn.cpt(r)[{'c':1}]=[0.2,0.8]"
     ],
     "language": "python",
     "metadata": {},
     "outputs": [],
     "prompt_number": 18
    },
    {
     "cell_type": "heading",
     "level": 2,
     "metadata": {},
     "source": [
      "Input/output"
     ]
    },
    {
     "cell_type": "markdown",
     "metadata": {},
     "source": [
      "Now our BN is complete. It can be saved in different format :"
     ]
    },
    {
     "cell_type": "code",
     "collapsed": false,
     "input": [
      "print gum.availableBNExts()"
     ],
     "language": "python",
     "metadata": {},
     "outputs": [
      {
       "output_type": "stream",
       "stream": "stdout",
       "text": [
        "bif|dsl|net|bifxml\n"
       ]
      }
     ],
     "prompt_number": 19
    },
    {
     "cell_type": "code",
     "collapsed": false,
     "input": [
      "gum.saveBN(bn,\"WaterSprinkler.bif\")"
     ],
     "language": "python",
     "metadata": {},
     "outputs": [],
     "prompt_number": 20
    },
    {
     "cell_type": "code",
     "collapsed": false,
     "input": [
      "!cat WaterSprinkler.bif"
     ],
     "language": "python",
     "metadata": {},
     "outputs": [
      {
       "output_type": "stream",
       "stream": "stdout",
       "text": [
        "\r\n",
        "network aGrUM_BN {\r\n",
        "   property version 1.0;\r\n",
        "   property author aGrUM;\r\n",
        "}\r\n",
        "\r\n",
        "variable c {\r\n",
        "   type discrete[2] {0, 1};\r\n",
        "}\r\n",
        "\r\n",
        "variable s {\r\n",
        "   type discrete[2] {0, 1};\r\n",
        "}\r\n",
        "\r\n",
        "variable r {\r\n",
        "   type discrete[2] {0, 1};\r\n",
        "}\r\n",
        "\r\n",
        "variable w {\r\n",
        "   type discrete[2] {0, 1};\r\n",
        "}\r\n",
        "\r\n",
        "probability (c) {\r\n",
        "   default 0.5 0.5;\r\n",
        "}\r\n",
        "probability (s | c) {\r\n",
        "   (0) 0.5 0.5;\r\n",
        "   (1) 0.9 0.1;\r\n",
        "}\r\n",
        "probability (r | c) {\r\n",
        "   (0) 0.8 0.2;\r\n",
        "   (1) 0.2 0.8;\r\n",
        "}\r\n",
        "probability (w | s, r) {\r\n",
        "   (0, 0) 1 0;\r\n",
        "   (1, 0) 0.1 0.9;\r\n",
        "   (0, 1) 0.1 0.9;\r\n",
        "   (1, 1) 0.01 0.99;\r\n",
        "}\r\n",
        "\r\n"
       ]
      }
     ],
     "prompt_number": 21
    },
    {
     "cell_type": "code",
     "collapsed": false,
     "input": [
      "bn2=gum.loadBN(\"WaterSprinkler.bif\")"
     ],
     "language": "python",
     "metadata": {},
     "outputs": [],
     "prompt_number": 22
    },
    {
     "cell_type": "code",
     "collapsed": false,
     "input": [
      "gum.saveBN(bn,\"WaterSprinkler.net\")\n",
      "!cat WaterSprinkler.net\n",
      "bn3=gum.loadBN(\"WaterSprinkler.net\")"
     ],
     "language": "python",
     "metadata": {},
     "outputs": [
      {
       "output_type": "stream",
       "stream": "stdout",
       "text": [
        "\r\n",
        "net {\r\n",
        "node_size = (50 50);\r\n",
        "}\r\n",
        "\r\n",
        "node c {\r\n",
        "   states = (0 1 );\r\n",
        "   label = \"c\";   ID = \"c\";}\r\n",
        "\r\n",
        "node s {\r\n",
        "   states = (0 1 );\r\n",
        "   label = \"s\";   ID = \"s\";}\r\n",
        "\r\n",
        "node r {\r\n",
        "   states = (0 1 );\r\n",
        "   label = \"r\";   ID = \"r\";}\r\n",
        "\r\n",
        "node w {\r\n",
        "   states = (0 1 );\r\n",
        "   label = \"w\";   ID = \"w\";}\r\n",
        "\r\n",
        "potential (c) {\r\n",
        "   data = (  0.5 0.5);\r\n",
        "}\r\n",
        "potential ( s | c   ) {\r\n",
        "   data = \r\n",
        "   ((   0.5   0.5)\r\n",
        "   (   0.9   0.1));\r\n",
        "}\r\n",
        "potential ( r | c   ) {\r\n",
        "   data = \r\n",
        "   ((   0.8   0.2)\r\n",
        "   (   0.2   0.8));\r\n",
        "}\r\n",
        "potential ( w | s   r   ) {\r\n",
        "   data = \r\n",
        "   (((   1   0)\r\n",
        "   (   0.1   0.9))\r\n",
        "   ((   0.1   0.9)\r\n",
        "   (   0.01   0.99)));\r\n",
        "}\r\n",
        "\r\n"
       ]
      }
     ],
     "prompt_number": 23
    },
    {
     "cell_type": "heading",
     "level": 1,
     "metadata": {},
     "source": [
      "Inference in Bayesian Network"
     ]
    },
    {
     "cell_type": "markdown",
     "metadata": {},
     "source": [
      "We have to choose an inference engine to perform calculations for us. Two inference engines are available in pyAgrum :\n",
      "<ul>\n",
      "    <li><b>LazyPropagation</b> : an exact inference method that transforms the bayesian network into an equivalent structure (called join/junction tree) by eliminating any undirected loops. For example, the water-sprinkler network forms an undirected loop with the nodes c, s, r and w.</li>\n",
      "    <li><b>Gibbs</b> : an approximate inference engine using the Gibbs sampling algorithm to generate a sequence of samples from the joint probability distribution.</li>\n",
      "</ul>\n",
      "        \n"
     ]
    },
    {
     "cell_type": "code",
     "collapsed": false,
     "input": [
      "ie=gum.LazyPropagation(bn)"
     ],
     "language": "python",
     "metadata": {},
     "outputs": [],
     "prompt_number": 24
    },
    {
     "cell_type": "heading",
     "level": 2,
     "metadata": {},
     "source": [
      "Inference without evidence"
     ]
    },
    {
     "cell_type": "code",
     "collapsed": false,
     "input": [
      "ie.makeInference()\n",
      "print (ie.marginal(w))"
     ],
     "language": "python",
     "metadata": {},
     "outputs": [
      {
       "output_type": "stream",
       "stream": "stdout",
       "text": [
        "[ 0.3529  0.6471]\n"
       ]
      }
     ],
     "prompt_number": 25
    },
    {
     "cell_type": "markdown",
     "metadata": {},
     "source": [
      "In our BN, $P(W) = [ 0.3529  0.6471]$"
     ]
    },
    {
     "cell_type": "heading",
     "level": 2,
     "metadata": {},
     "source": [
      "Inference with evidence"
     ]
    },
    {
     "cell_type": "markdown",
     "metadata": {},
     "source": [
      "Suppose now that you know that the sprinkler is on and that it is not cloudy, and you wonder what's the probability of the grass being wet : $P(W|S=1,C=0)$. <br/>This is called evidence. Evidence is entered using a dictionary."
     ]
    },
    {
     "cell_type": "code",
     "collapsed": false,
     "input": [
      "ie.setEvidence({'s': 1, 'c': 0})\n",
      "ie.makeInference()\n",
      "print(ie.marginal(w))"
     ],
     "language": "python",
     "metadata": {},
     "outputs": [
      {
       "output_type": "stream",
       "stream": "stdout",
       "text": [
        "[ 0.082  0.918]\n"
       ]
      }
     ],
     "prompt_number": 26
    },
    {
     "cell_type": "markdown",
     "metadata": {},
     "source": [
      "You can also set the entire evidence likelihood (soft evidence)"
     ]
    },
    {
     "cell_type": "code",
     "collapsed": false,
     "input": [
      "ie.setEvidence({'s': [0, 1], 'c': [1, 0]})\n",
      "ie.makeInference()\n",
      "print(ie.marginal(w))"
     ],
     "language": "python",
     "metadata": {},
     "outputs": [
      {
       "output_type": "stream",
       "stream": "stdout",
       "text": [
        "[ 0.082  0.918]\n"
       ]
      }
     ],
     "prompt_number": 27
    },
    {
     "cell_type": "code",
     "collapsed": false,
     "input": [
      "nb.showProba(ie.marginal(w))"
     ],
     "language": "python",
     "metadata": {},
     "outputs": [
      {
       "metadata": {},
       "output_type": "display_data",
       "png": "[encoded data removed]",
       "text": [
        "<matplotlib.figure.Figure at 0x4194f50>"
       ]
      }
     ],
     "prompt_number": 28
    },
    {
     "cell_type": "code",
     "collapsed": false,
     "input": [
      "nb.showPosterior(bn,{'s':1,'c':0},'w')"
     ],
     "language": "python",
     "metadata": {},
     "outputs": [
      {
       "metadata": {},
       "output_type": "display_data",
       "png": "[encoded data removed]",
       "text": [
        "<matplotlib.figure.Figure at 0x41a5ad0>"
       ]
      }
     ],
     "prompt_number": 29
    }
   ],
   "metadata": {}
  }
 ]
}