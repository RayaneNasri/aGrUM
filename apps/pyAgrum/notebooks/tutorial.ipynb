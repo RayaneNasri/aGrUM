{
 "metadata": {
  "name": "tutorial"
 },
 "nbformat": 3,
 "nbformat_minor": 0,
 "worksheets": [
  {
   "cells": [
    {
     "cell_type": "heading",
     "level": 1,
     "metadata": {},
     "source": [
      "Creating your first Bayesian Network with pyAgrum"
     ]
    },
    {
     "cell_type": "markdown",
     "metadata": {},
     "source": [
      "(This example is based on an OpenBayes [closed] website tutorial)"
     ]
    },
    {
     "cell_type": "markdown",
     "metadata": {},
     "source": [
      "<p>A <b>Bayesian network</b> (BN) is composed of <b>random variables</b> (nodes) and their conditional dependencies (arcs) forming an acyclic directecd graph (DAG). A <b>conditional probability table</b> (CPT) is associated to each node :\n",
      "<center><img src=\"files/images/waterprinkler.png\"></center>\n",
      "Such a BN allows to manipulate the joint probability $P(C,S,R,W)$&nbsp;&nbsp;&nbsp;using this decomposition :\n",
      "<center>\n",
      "    $P(C,S,R,W)=\\sum_X P(X | Parents_X) = P(C) \\cdot P(S | C) \\cdot P(R | C) \\cdot P(W | S,R)$\n",
      "</center>\n",
      "</p>\n",
      "<p>\n",
      "    Imagine you want to create your first bayesian network, say for example the 'Water Sprinkler' network. This is an easy example. All the nodes are boolean (only 2 possible values).\n",
      "</p>"
     ]
    },
    {
     "cell_type": "heading",
     "level": 2,
     "metadata": {},
     "source": [
      "Import the pyAgrum package"
     ]
    },
    {
     "cell_type": "code",
     "collapsed": false,
     "input": [
      "import pyAgrum as gum"
     ],
     "language": "python",
     "metadata": {},
     "outputs": []
    },
    {
     "cell_type": "heading",
     "level": 2,
     "metadata": {},
     "source": [
      "Create the network topology"
     ]
    },
    {
     "cell_type": "heading",
     "level": 3,
     "metadata": {},
     "source": [
      "Create the BN"
     ]
    },
    {
     "cell_type": "markdown",
     "metadata": {},
     "source": [
      "The next line creates an empty BN network with a 'name' property."
     ]
    },
    {
     "cell_type": "code",
     "collapsed": false,
     "input": [
      "bn=gum.BayesNet('Water Sprinkler Bayesian Network (pyAgrum version)')\n",
      "print bn"
     ],
     "language": "python",
     "metadata": {},
     "outputs": []
    },
    {
     "cell_type": "heading",
     "level": 3,
     "metadata": {},
     "source": [
      "Create the variables"
     ]
    },
    {
     "cell_type": "markdown",
     "metadata": {},
     "source": [
      "pyAgrum(aGrUM) provides 3 types of variables :\n",
      "<ul>\n",
      "    <li>LabelizedVar</li>\n",
      "    <li>RangeVar</li>\n",
      "    <li>DiscretizedVar</li>\n",
      "</ul>\n",
      "In this tutorial, we will use LabelizedVar. The next line will create a varible 'c' with 2 values and add it to the BN. The value returned is the id of the node in the topology."
     ]
    },
    {
     "cell_type": "code",
     "collapsed": false,
     "input": [
      "c=bn.add(gum.LabelizedVar('c','cloudy ?',2))\n",
      "print c"
     ],
     "language": "python",
     "metadata": {},
     "outputs": []
    },
    {
     "cell_type": "markdown",
     "metadata": {},
     "source": [
      "You can continue adding nodes in the nework this way. Let us use python to compact a bit the code :"
     ]
    },
    {
     "cell_type": "code",
     "collapsed": false,
     "input": [
      "s, r, w = [ bn.add(gum.LabelizedVar(name, '', 2)) for name in 's r w'.split() ]\n",
      "print (s,r,w)\n",
      "print bn"
     ],
     "language": "python",
     "metadata": {},
     "outputs": []
    },
    {
     "cell_type": "heading",
     "level": 3,
     "metadata": {},
     "source": [
      "Create the arcs"
     ]
    },
    {
     "cell_type": "markdown",
     "metadata": {},
     "source": [
      "Now we have to connect nodes. Remember that <tt>c</tt> and <tt>s</tt> are ids for nodes :"
     ]
    },
    {
     "cell_type": "code",
     "collapsed": false,
     "input": [
      "bn.insertArc(c,s)"
     ],
     "language": "python",
     "metadata": {},
     "outputs": []
    },
    {
     "cell_type": "markdown",
     "metadata": {},
     "source": [
      "Once again, python can help us :"
     ]
    },
    {
     "cell_type": "code",
     "collapsed": false,
     "input": [
      "for link in [(c,r),(s,w),(r,w)]:\n",
      "    bn.insertArc(*link)\n",
      "print(bn)"
     ],
     "language": "python",
     "metadata": {},
     "outputs": []
    },
    {
     "cell_type": "markdown",
     "metadata": {},
     "source": [
      "pyAgrum allows use to show a better representation of <tt>bn</tt>. <br/><tt>gumLib</tt> is a set of tools written in pyAgrum to help using aGrUM in python. <tt>gumLib.notebook</tt> add dedicated functions for iPython notebook."
     ]
    },
    {
     "cell_type": "code",
     "collapsed": false,
     "input": [
      "import gumLib.notebook as nb\n",
      "nb.showBN(bn)"
     ],
     "language": "python",
     "metadata": {},
     "outputs": []
    },
    {
     "cell_type": "heading",
     "level": 3,
     "metadata": {},
     "source": [
      "Create the probability tables"
     ]
    },
    {
     "cell_type": "markdown",
     "metadata": {},
     "source": [
      "Once the network topology is constructed, we must initialize the conditional probability tables (CPT) distributions.\n",
      "Each CPT is consider as a Potential object in pyAgrum. There is several ways to fill a such object.<br/>\n",
      "\n",
      "To get the CPT of a variable, use the cpt method of your BayesNet instance with the variable id as parameter.<br/>\n",
      "\n",
      "Now we are ready to fill in the parameters for each node in our network. There are several ways to add these parameters<br/>"
     ]
    },
    {
     "cell_type": "markdown",
     "metadata": {},
     "source": [
      "<li>Low-level way</li>"
     ]
    },
    {
     "cell_type": "code",
     "collapsed": false,
     "input": [
      "bn.cpt(c).fillWith([0.5,0.5])"
     ],
     "language": "python",
     "metadata": {},
     "outputs": []
    },
    {
     "cell_type": "markdown",
     "metadata": {},
     "source": [
      "<li>Using the order of variables</li>"
     ]
    },
    {
     "cell_type": "code",
     "collapsed": false,
     "input": [
      "bn.cpt(s).var_names"
     ],
     "language": "python",
     "metadata": {},
     "outputs": []
    },
    {
     "cell_type": "code",
     "collapsed": false,
     "input": [
      "bn.cpt(s)[:]=[ [0.5,0.5],[0.9,0.1]]"
     ],
     "language": "python",
     "metadata": {},
     "outputs": []
    },
    {
     "cell_type": "markdown",
     "metadata": {},
     "source": [
      "Then $P(S | C=0)=[0.5,0.5]$ <br/>and $P(S | C=1)=[0.9,0.1]$."
     ]
    },
    {
     "cell_type": "code",
     "collapsed": false,
     "input": [
      "print bn.cpt(s)[1]"
     ],
     "language": "python",
     "metadata": {},
     "outputs": []
    },
    {
     "cell_type": "markdown",
     "metadata": {},
     "source": [
      "One can do the same in stages :"
     ]
    },
    {
     "cell_type": "code",
     "collapsed": false,
     "input": [
      "bn.cpt(s)[0,:]=0.5 # equivalent to [0.5,0.5]\n",
      "bn.cpt(s)[1,:]=[0.9,0.1]"
     ],
     "language": "python",
     "metadata": {},
     "outputs": []
    },
    {
     "cell_type": "code",
     "collapsed": false,
     "input": [
      "bn.cpt(w).var_names"
     ],
     "language": "python",
     "metadata": {},
     "outputs": []
    },
    {
     "cell_type": "code",
     "collapsed": false,
     "input": [
      "bn.cpt(w)[0,0,:] = [1, 0] # r=0,s=0\n",
      "bn.cpt(w)[0,1,:] = [0.1, 0.9] # r=0,s=1\n",
      "bn.cpt(w)[1,0,:] = [0.1, 0.9] # r=1,s=0\n",
      "bn.cpt(w)[1,1,:] = [0.01, 0.99] # r=1,s=1"
     ],
     "language": "python",
     "metadata": {},
     "outputs": []
    },
    {
     "cell_type": "markdown",
     "metadata": {},
     "source": [
      "<li>Using a dictionnaty</li>"
     ]
    },
    {
     "cell_type": "markdown",
     "metadata": {},
     "source": [
      "This probably is the most convenient way :"
     ]
    },
    {
     "cell_type": "code",
     "collapsed": false,
     "input": [
      "bn.cpt(w)[{'r': 0, 's': 0}] = [1, 0]\n",
      "bn.cpt(w)[{'r': 0, 's': 1}] = [0.1, 0.9]\n",
      "bn.cpt(w)[{'r': 1, 's': 0}] = [0.1, 0.9]\n",
      "bn.cpt(w)[{'r': 1, 's': 1}] = [0.01, 0.99]"
     ],
     "language": "python",
     "metadata": {},
     "outputs": []
    },
    {
     "cell_type": "markdown",
     "metadata": {},
     "source": [
      "The use of dictionaries is a feature borrowed from OpenBayes. It facilitates the use and avoid common errors that happen when introducing data into the wrong places."
     ]
    },
    {
     "cell_type": "code",
     "collapsed": false,
     "input": [
      "bn.cpt(r)[{'c':0}]=[0.8,0.2]\n",
      "bn.cpt(r)[{'c':1}]=[0.2,0.8]"
     ],
     "language": "python",
     "metadata": {},
     "outputs": []
    },
    {
     "cell_type": "heading",
     "level": 2,
     "metadata": {},
     "source": [
      "Input/output"
     ]
    },
    {
     "cell_type": "markdown",
     "metadata": {},
     "source": [
      "Now our BN is complete. It can be saved in different format :"
     ]
    },
    {
     "cell_type": "code",
     "collapsed": false,
     "input": [
      "print gum.availableBNExts()"
     ],
     "language": "python",
     "metadata": {},
     "outputs": []
    },
    {
     "cell_type": "code",
     "collapsed": false,
     "input": [
      "gum.saveBN(bn,\"WaterSprinkler.bif\")"
     ],
     "language": "python",
     "metadata": {},
     "outputs": []
    },
    {
     "cell_type": "code",
     "collapsed": false,
     "input": [
      "!cat WaterSprinkler.bif"
     ],
     "language": "python",
     "metadata": {},
     "outputs": []
    },
    {
     "cell_type": "code",
     "collapsed": false,
     "input": [
      "bn2=gum.loadBN(\"WaterSprinkler.bif\")"
     ],
     "language": "python",
     "metadata": {},
     "outputs": []
    },
    {
     "cell_type": "code",
     "collapsed": false,
     "input": [
      "gum.saveBN(bn,\"WaterSprinkler.net\")\n",
      "!cat WaterSprinkler.net\n",
      "bn3=gum.loadBN(\"WaterSprinkler.net\")"
     ],
     "language": "python",
     "metadata": {},
     "outputs": []
    },
    {
     "cell_type": "heading",
     "level": 1,
     "metadata": {},
     "source": [
      "Inference in Bayesian Network"
     ]
    },
    {
     "cell_type": "markdown",
     "metadata": {},
     "source": [
      "We have to choose an inference engine to perform calculations for us. Two inference engines are available in pyAgrum :\n",
      "<ul>\n",
      "    <li><b>LazyPropagation</b> : an exact inference method that transforms the bayesian network into an equivalent structure (called join/junction tree) by eliminating any undirected loops. For example, the water-sprinkler network forms an undirected loop with the nodes c, s, r and w.</li>\n",
      "    <li><b>Gibbs</b> : an approximate inference engine using the Gibbs sampling algorithm to generate a sequence of samples from the joint probability distribution.</li>\n",
      "</ul>\n",
      "        \n"
     ]
    },
    {
     "cell_type": "code",
     "collapsed": false,
     "input": [
      "ie=gum.LazyPropagation(bn)"
     ],
     "language": "python",
     "metadata": {},
     "outputs": []
    },
    {
     "cell_type": "heading",
     "level": 2,
     "metadata": {},
     "source": [
      "Inference without evidence"
     ]
    },
    {
     "cell_type": "code",
     "collapsed": false,
     "input": [
      "ie.makeInference()\n",
      "print (ie.marginal(w))"
     ],
     "language": "python",
     "metadata": {},
     "outputs": []
    },
    {
     "cell_type": "markdown",
     "metadata": {},
     "source": [
      "In our BN, $P(W) = [ 0.3529  0.6471]$"
     ]
    },
    {
     "cell_type": "heading",
     "level": 2,
     "metadata": {},
     "source": [
      "Inference with evidence"
     ]
    },
    {
     "cell_type": "markdown",
     "metadata": {},
     "source": [
      "Suppose now that you know that the sprinkler is on and that it is not cloudy, and you wonder what's the probability of the grass being wet : $P(W|S=1,C=0)$. <br/>This is called evidence. Evidence is entered using a dictionary."
     ]
    },
    {
     "cell_type": "code",
     "collapsed": false,
     "input": [
      "ie.setEvidence({'s': 0, 'c': 0})\n",
      "ie.makeInference()\n",
      "print(ie.marginal(w))"
     ],
     "language": "python",
     "metadata": {},
     "outputs": []
    },
    {
     "cell_type": "markdown",
     "metadata": {},
     "source": [
      "You can also set the entire evidence likelihood (soft evidence)"
     ]
    },
    {
     "cell_type": "code",
     "collapsed": false,
     "input": [
      "ie.setEvidence({'s': [0, 1], 'c': [1, 0]})\n",
      "ie.makeInference()\n",
      "print(ie.marginal(w))"
     ],
     "language": "python",
     "metadata": {},
     "outputs": []
    },
    {
     "cell_type": "code",
     "collapsed": false,
     "input": [
      "nb.showProba(ie.marginal(w))"
     ],
     "language": "python",
     "metadata": {},
     "outputs": []
    },
    {
     "cell_type": "code",
     "collapsed": false,
     "input": [
      "nb.showPosterior(bn,{'s':1,'c':0},'w')"
     ],
     "language": "python",
     "metadata": {},
     "outputs": []
    }
   ],
   "metadata": {}
  }
 ]
}