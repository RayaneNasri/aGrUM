{
 "cells": [
  {
   "cell_type": "code",
   "execution_count": 1,
   "metadata": {
    "collapsed": false
   },
   "outputs": [],
   "source": [
    "%matplotlib inline\n",
    "\n",
    "from pylab import *\n",
    "import matplotlib.pyplot as plt\n"
   ]
  },
  {
   "cell_type": "markdown",
   "metadata": {},
   "source": [
    "Initialisation\n",
    "==============\n",
    "\n",
    "* importing pyAgrum\n",
    "* importing pyAgrum.lib tools\n",
    "* loading a BN"
   ]
  },
  {
   "cell_type": "code",
   "execution_count": 2,
   "metadata": {
    "collapsed": false
   },
   "outputs": [],
   "source": [
    "import pyAgrum as gum\n",
    "import pyAgrum.lib.notebook as gnb"
   ]
  },
  {
   "cell_type": "markdown",
   "metadata": {},
   "source": [
    "## Create a first BN : bn"
   ]
  },
  {
   "cell_type": "code",
   "execution_count": 3,
   "metadata": {
    "collapsed": false
   },
   "outputs": [
    {
     "name": "stdout",
     "output_type": "stream",
     "text": [
      "\n"
     ]
    },
    {
     "data": {
      "text/html": [
       "<svg height=\"221pt\" viewBox=\"0.00 0.00 288.00 221.02\" width=\"288pt\" xmlns=\"http://www.w3.org/2000/svg\" xmlns:xlink=\"http://www.w3.org/1999/xlink\">\n",
       "<g class=\"graph\" id=\"graph0\" transform=\"scale(0.850084 0.850084) rotate(0) translate(4 256)\">\n",
       "<title>G</title>\n",
       "<polygon fill=\"white\" points=\"-4,4 -4,-256 334.79,-256 334.79,4 -4,4\" stroke=\"none\"/>\n",
       "<!-- visit_to_Asia? -->\n",
       "<g class=\"node\" id=\"node1\"><title>visit_to_Asia?</title>\n",
       "<g id=\"a_node1\"><a xlink:title=\"(0) visit_to_Asia?\">\n",
       "<ellipse cx=\"61.7445\" cy=\"-234\" fill=\"#444444\" rx=\"61.99\" ry=\"18\" stroke=\"black\"/>\n",
       "<text fill=\"#ffffff\" font-family=\"Times,serif\" font-size=\"14.00\" text-anchor=\"middle\" x=\"61.7445\" y=\"-230.3\">visit_to_Asia?</text>\n",
       "</a>\n",
       "</g>\n",
       "</g>\n",
       "<!-- tuberculosis? -->\n",
       "<g class=\"node\" id=\"node2\"><title>tuberculosis?</title>\n",
       "<g id=\"a_node2\"><a xlink:title=\"(1) tuberculosis?\">\n",
       "<ellipse cx=\"61.7445\" cy=\"-162\" fill=\"#444444\" rx=\"57.3905\" ry=\"18\" stroke=\"black\"/>\n",
       "<text fill=\"#ffffff\" font-family=\"Times,serif\" font-size=\"14.00\" text-anchor=\"middle\" x=\"61.7445\" y=\"-158.3\">tuberculosis?</text>\n",
       "</a>\n",
       "</g>\n",
       "</g>\n",
       "<!-- visit_to_Asia?&#45;&gt;tuberculosis? -->\n",
       "<g class=\"edge\" id=\"edge1\"><title>visit_to_Asia?-&gt;tuberculosis?</title>\n",
       "<g id=\"a_edge1\"><a xlink:title=\"(0, 1) : \">\n",
       "<path d=\"M61.7445,-215.697C61.7445,-207.983 61.7445,-198.712 61.7445,-190.112\" fill=\"none\" stroke=\"black\"/>\n",
       "<polygon fill=\"black\" points=\"65.2446,-190.104 61.7445,-180.104 58.2446,-190.104 65.2446,-190.104\" stroke=\"black\"/>\n",
       "</a>\n",
       "</g>\n",
       "</g>\n",
       "<!-- tuberculos_or_cancer? -->\n",
       "<g class=\"node\" id=\"node3\"><title>tuberculos_or_cancer?</title>\n",
       "<g id=\"a_node3\"><a xlink:title=\"(2) tuberculos_or_cancer?\">\n",
       "<ellipse cx=\"122.745\" cy=\"-90\" fill=\"#444444\" rx=\"90.1842\" ry=\"18\" stroke=\"black\"/>\n",
       "<text fill=\"#ffffff\" font-family=\"Times,serif\" font-size=\"14.00\" text-anchor=\"middle\" x=\"122.745\" y=\"-86.3\">tuberculos_or_cancer?</text>\n",
       "</a>\n",
       "</g>\n",
       "</g>\n",
       "<!-- tuberculosis?&#45;&gt;tuberculos_or_cancer? -->\n",
       "<g class=\"edge\" id=\"edge6\"><title>tuberculosis?-&gt;tuberculos_or_cancer?</title>\n",
       "<g id=\"a_edge6\"><a xlink:title=\"(1, 2) : \">\n",
       "<path d=\"M76.2007,-144.411C83.6874,-135.82 92.977,-125.159 101.283,-115.627\" fill=\"none\" stroke=\"black\"/>\n",
       "<polygon fill=\"black\" points=\"104.037,-117.795 107.968,-107.956 98.7599,-113.196 104.037,-117.795\" stroke=\"black\"/>\n",
       "</a>\n",
       "</g>\n",
       "</g>\n",
       "<!-- positive_XraY? -->\n",
       "<g class=\"node\" id=\"node4\"><title>positive_XraY?</title>\n",
       "<g id=\"a_node4\"><a xlink:title=\"(3) positive_XraY?\">\n",
       "<ellipse cx=\"122.745\" cy=\"-18\" fill=\"#444444\" rx=\"66.0889\" ry=\"18\" stroke=\"black\"/>\n",
       "<text fill=\"#ffffff\" font-family=\"Times,serif\" font-size=\"14.00\" text-anchor=\"middle\" x=\"122.745\" y=\"-14.3\">positive_XraY?</text>\n",
       "</a>\n",
       "</g>\n",
       "</g>\n",
       "<!-- tuberculos_or_cancer?&#45;&gt;positive_XraY? -->\n",
       "<g class=\"edge\" id=\"edge3\"><title>tuberculos_or_cancer?-&gt;positive_XraY?</title>\n",
       "<g id=\"a_edge3\"><a xlink:title=\"(2, 3) : \">\n",
       "<path d=\"M122.745,-71.6966C122.745,-63.9827 122.745,-54.7125 122.745,-46.1124\" fill=\"none\" stroke=\"black\"/>\n",
       "<polygon fill=\"black\" points=\"126.245,-46.1043 122.745,-36.1043 119.245,-46.1044 126.245,-46.1043\" stroke=\"black\"/>\n",
       "</a>\n",
       "</g>\n",
       "</g>\n",
       "<!-- dyspnoea? -->\n",
       "<g class=\"node\" id=\"node8\"><title>dyspnoea?</title>\n",
       "<g id=\"a_node8\"><a xlink:title=\"(7) dyspnoea?\">\n",
       "<ellipse cx=\"267.745\" cy=\"-18\" fill=\"#444444\" rx=\"48.1917\" ry=\"18\" stroke=\"black\"/>\n",
       "<text fill=\"#ffffff\" font-family=\"Times,serif\" font-size=\"14.00\" text-anchor=\"middle\" x=\"267.745\" y=\"-14.3\">dyspnoea?</text>\n",
       "</a>\n",
       "</g>\n",
       "</g>\n",
       "<!-- tuberculos_or_cancer?&#45;&gt;dyspnoea? -->\n",
       "<g class=\"edge\" id=\"edge4\"><title>tuberculos_or_cancer?-&gt;dyspnoea?</title>\n",
       "<g id=\"a_edge4\"><a xlink:title=\"(2, 7) : \">\n",
       "<path d=\"M155.647,-73.1159C177.826,-62.4091 207.136,-48.2595 230.222,-37.1142\" fill=\"none\" stroke=\"black\"/>\n",
       "<polygon fill=\"black\" points=\"231.892,-40.1949 239.375,-32.6954 228.848,-33.891 231.892,-40.1949\" stroke=\"black\"/>\n",
       "</a>\n",
       "</g>\n",
       "</g>\n",
       "<!-- lung_cancer? -->\n",
       "<g class=\"node\" id=\"node5\"><title>lung_cancer?</title>\n",
       "<g id=\"a_node5\"><a xlink:title=\"(4) lung_cancer?\">\n",
       "<ellipse cx=\"194.745\" cy=\"-162\" fill=\"#444444\" rx=\"57.6901\" ry=\"18\" stroke=\"black\"/>\n",
       "<text fill=\"#ffffff\" font-family=\"Times,serif\" font-size=\"14.00\" text-anchor=\"middle\" x=\"194.745\" y=\"-158.3\">lung_cancer?</text>\n",
       "</a>\n",
       "</g>\n",
       "</g>\n",
       "<!-- lung_cancer?&#45;&gt;tuberculos_or_cancer? -->\n",
       "<g class=\"edge\" id=\"edge5\"><title>lung_cancer?-&gt;tuberculos_or_cancer?</title>\n",
       "<g id=\"a_edge5\"><a xlink:title=\"(4, 2) : \">\n",
       "<path d=\"M178.045,-144.765C169.041,-136.011 157.75,-125.033 147.721,-115.283\" fill=\"none\" stroke=\"black\"/>\n",
       "<polygon fill=\"black\" points=\"149.967,-112.585 140.358,-108.124 145.088,-117.604 149.967,-112.585\" stroke=\"black\"/>\n",
       "</a>\n",
       "</g>\n",
       "</g>\n",
       "<!-- smoking? -->\n",
       "<g class=\"node\" id=\"node6\"><title>smoking?</title>\n",
       "<g id=\"a_node6\"><a xlink:title=\"(5) smoking?\">\n",
       "<ellipse cx=\"237.745\" cy=\"-234\" fill=\"#444444\" rx=\"45.4919\" ry=\"18\" stroke=\"black\"/>\n",
       "<text fill=\"#ffffff\" font-family=\"Times,serif\" font-size=\"14.00\" text-anchor=\"middle\" x=\"237.745\" y=\"-230.3\">smoking?</text>\n",
       "</a>\n",
       "</g>\n",
       "</g>\n",
       "<!-- smoking?&#45;&gt;lung_cancer? -->\n",
       "<g class=\"edge\" id=\"edge7\"><title>smoking?-&gt;lung_cancer?</title>\n",
       "<g id=\"a_edge7\"><a xlink:title=\"(5, 4) : \">\n",
       "<path d=\"M227.554,-216.411C222.435,-208.077 216.12,-197.797 210.402,-188.488\" fill=\"none\" stroke=\"black\"/>\n",
       "<polygon fill=\"black\" points=\"213.377,-186.645 205.16,-179.956 207.412,-190.309 213.377,-186.645\" stroke=\"black\"/>\n",
       "</a>\n",
       "</g>\n",
       "</g>\n",
       "<!-- bronchitis? -->\n",
       "<g class=\"node\" id=\"node7\"><title>bronchitis?</title>\n",
       "<g id=\"a_node7\"><a xlink:title=\"(6) bronchitis?\">\n",
       "<ellipse cx=\"280.745\" cy=\"-90\" fill=\"#444444\" rx=\"50.0912\" ry=\"18\" stroke=\"black\"/>\n",
       "<text fill=\"#ffffff\" font-family=\"Times,serif\" font-size=\"14.00\" text-anchor=\"middle\" x=\"280.745\" y=\"-86.3\">bronchitis?</text>\n",
       "</a>\n",
       "</g>\n",
       "</g>\n",
       "<!-- smoking?&#45;&gt;bronchitis? -->\n",
       "<g class=\"edge\" id=\"edge2\"><title>smoking?-&gt;bronchitis?</title>\n",
       "<g id=\"a_edge2\"><a xlink:title=\"(5, 6) : \">\n",
       "<path d=\"M246.482,-216.186C251.517,-205.946 257.642,-192.474 261.745,-180 268.439,-159.645 273.373,-135.879 276.533,-118.028\" fill=\"none\" stroke=\"black\"/>\n",
       "<polygon fill=\"black\" points=\"280.009,-118.461 278.23,-108.017 273.108,-117.292 280.009,-118.461\" stroke=\"black\"/>\n",
       "</a>\n",
       "</g>\n",
       "</g>\n",
       "<!-- bronchitis?&#45;&gt;dyspnoea? -->\n",
       "<g class=\"edge\" id=\"edge8\"><title>bronchitis?-&gt;dyspnoea?</title>\n",
       "<g id=\"a_edge8\"><a xlink:title=\"(6, 7) : \">\n",
       "<path d=\"M277.531,-71.6966C276.098,-63.9827 274.377,-54.7125 272.78,-46.1124\" fill=\"none\" stroke=\"black\"/>\n",
       "<polygon fill=\"black\" points=\"276.188,-45.2971 270.921,-36.1043 269.306,-46.5753 276.188,-45.2971\" stroke=\"black\"/>\n",
       "</a>\n",
       "</g>\n",
       "</g>\n",
       "</g>\n",
       "</svg>"
      ],
      "text/plain": [
       "<pyAgrum.pyAgrum.BayesNet_double; proxy of <Swig Object of type 'gum::BayesNet< double > *' at 0x7fb81f825420> >"
      ]
     },
     "execution_count": 3,
     "metadata": {},
     "output_type": "execute_result"
    }
   ],
   "source": [
    "bn=gum.loadBN(\"../resources/asia.bif\")\n",
    "# randomly re-generate parameters for every Conditional Probability Table\n",
    "bn.generateCPTs() \n",
    "bn"
   ]
  },
  {
   "cell_type": "markdown",
   "metadata": {},
   "source": [
    "## Create a second BN : bn2"
   ]
  },
  {
   "cell_type": "code",
   "execution_count": 4,
   "metadata": {
    "collapsed": false
   },
   "outputs": [
    {
     "name": "stdout",
     "output_type": "stream",
     "text": [
      "\n"
     ]
    },
    {
     "data": {
      "text/html": [
       "<svg height=\"221pt\" viewBox=\"0.00 0.00 288.00 221.02\" width=\"288pt\" xmlns=\"http://www.w3.org/2000/svg\" xmlns:xlink=\"http://www.w3.org/1999/xlink\">\n",
       "<g class=\"graph\" id=\"graph0\" transform=\"scale(0.850084 0.850084) rotate(0) translate(4 256)\">\n",
       "<title>G</title>\n",
       "<polygon fill=\"white\" points=\"-4,4 -4,-256 334.79,-256 334.79,4 -4,4\" stroke=\"none\"/>\n",
       "<!-- visit_to_Asia? -->\n",
       "<g class=\"node\" id=\"node1\"><title>visit_to_Asia?</title>\n",
       "<g id=\"a_node1\"><a xlink:title=\"(0) visit_to_Asia?\">\n",
       "<ellipse cx=\"61.7445\" cy=\"-234\" fill=\"#444444\" rx=\"61.99\" ry=\"18\" stroke=\"black\"/>\n",
       "<text fill=\"#ffffff\" font-family=\"Times,serif\" font-size=\"14.00\" text-anchor=\"middle\" x=\"61.7445\" y=\"-230.3\">visit_to_Asia?</text>\n",
       "</a>\n",
       "</g>\n",
       "</g>\n",
       "<!-- tuberculosis? -->\n",
       "<g class=\"node\" id=\"node2\"><title>tuberculosis?</title>\n",
       "<g id=\"a_node2\"><a xlink:title=\"(1) tuberculosis?\">\n",
       "<ellipse cx=\"61.7445\" cy=\"-162\" fill=\"#444444\" rx=\"57.3905\" ry=\"18\" stroke=\"black\"/>\n",
       "<text fill=\"#ffffff\" font-family=\"Times,serif\" font-size=\"14.00\" text-anchor=\"middle\" x=\"61.7445\" y=\"-158.3\">tuberculosis?</text>\n",
       "</a>\n",
       "</g>\n",
       "</g>\n",
       "<!-- visit_to_Asia?&#45;&gt;tuberculosis? -->\n",
       "<g class=\"edge\" id=\"edge1\"><title>visit_to_Asia?-&gt;tuberculosis?</title>\n",
       "<g id=\"a_edge1\"><a xlink:title=\"(0, 1) : \">\n",
       "<path d=\"M61.7445,-215.697C61.7445,-207.983 61.7445,-198.712 61.7445,-190.112\" fill=\"none\" stroke=\"black\"/>\n",
       "<polygon fill=\"black\" points=\"65.2446,-190.104 61.7445,-180.104 58.2446,-190.104 65.2446,-190.104\" stroke=\"black\"/>\n",
       "</a>\n",
       "</g>\n",
       "</g>\n",
       "<!-- tuberculos_or_cancer? -->\n",
       "<g class=\"node\" id=\"node3\"><title>tuberculos_or_cancer?</title>\n",
       "<g id=\"a_node3\"><a xlink:title=\"(2) tuberculos_or_cancer?\">\n",
       "<ellipse cx=\"122.745\" cy=\"-90\" fill=\"#444444\" rx=\"90.1842\" ry=\"18\" stroke=\"black\"/>\n",
       "<text fill=\"#ffffff\" font-family=\"Times,serif\" font-size=\"14.00\" text-anchor=\"middle\" x=\"122.745\" y=\"-86.3\">tuberculos_or_cancer?</text>\n",
       "</a>\n",
       "</g>\n",
       "</g>\n",
       "<!-- tuberculosis?&#45;&gt;tuberculos_or_cancer? -->\n",
       "<g class=\"edge\" id=\"edge6\"><title>tuberculosis?-&gt;tuberculos_or_cancer?</title>\n",
       "<g id=\"a_edge6\"><a xlink:title=\"(1, 2) : \">\n",
       "<path d=\"M76.2007,-144.411C83.6874,-135.82 92.977,-125.159 101.283,-115.627\" fill=\"none\" stroke=\"black\"/>\n",
       "<polygon fill=\"black\" points=\"104.037,-117.795 107.968,-107.956 98.7599,-113.196 104.037,-117.795\" stroke=\"black\"/>\n",
       "</a>\n",
       "</g>\n",
       "</g>\n",
       "<!-- positive_XraY? -->\n",
       "<g class=\"node\" id=\"node4\"><title>positive_XraY?</title>\n",
       "<g id=\"a_node4\"><a xlink:title=\"(3) positive_XraY?\">\n",
       "<ellipse cx=\"122.745\" cy=\"-18\" fill=\"#444444\" rx=\"66.0889\" ry=\"18\" stroke=\"black\"/>\n",
       "<text fill=\"#ffffff\" font-family=\"Times,serif\" font-size=\"14.00\" text-anchor=\"middle\" x=\"122.745\" y=\"-14.3\">positive_XraY?</text>\n",
       "</a>\n",
       "</g>\n",
       "</g>\n",
       "<!-- tuberculos_or_cancer?&#45;&gt;positive_XraY? -->\n",
       "<g class=\"edge\" id=\"edge3\"><title>tuberculos_or_cancer?-&gt;positive_XraY?</title>\n",
       "<g id=\"a_edge3\"><a xlink:title=\"(2, 3) : \">\n",
       "<path d=\"M122.745,-71.6966C122.745,-63.9827 122.745,-54.7125 122.745,-46.1124\" fill=\"none\" stroke=\"black\"/>\n",
       "<polygon fill=\"black\" points=\"126.245,-46.1043 122.745,-36.1043 119.245,-46.1044 126.245,-46.1043\" stroke=\"black\"/>\n",
       "</a>\n",
       "</g>\n",
       "</g>\n",
       "<!-- dyspnoea? -->\n",
       "<g class=\"node\" id=\"node8\"><title>dyspnoea?</title>\n",
       "<g id=\"a_node8\"><a xlink:title=\"(7) dyspnoea?\">\n",
       "<ellipse cx=\"267.745\" cy=\"-18\" fill=\"#444444\" rx=\"48.1917\" ry=\"18\" stroke=\"black\"/>\n",
       "<text fill=\"#ffffff\" font-family=\"Times,serif\" font-size=\"14.00\" text-anchor=\"middle\" x=\"267.745\" y=\"-14.3\">dyspnoea?</text>\n",
       "</a>\n",
       "</g>\n",
       "</g>\n",
       "<!-- tuberculos_or_cancer?&#45;&gt;dyspnoea? -->\n",
       "<g class=\"edge\" id=\"edge4\"><title>tuberculos_or_cancer?-&gt;dyspnoea?</title>\n",
       "<g id=\"a_edge4\"><a xlink:title=\"(2, 7) : \">\n",
       "<path d=\"M155.647,-73.1159C177.826,-62.4091 207.136,-48.2595 230.222,-37.1142\" fill=\"none\" stroke=\"black\"/>\n",
       "<polygon fill=\"black\" points=\"231.892,-40.1949 239.375,-32.6954 228.848,-33.891 231.892,-40.1949\" stroke=\"black\"/>\n",
       "</a>\n",
       "</g>\n",
       "</g>\n",
       "<!-- lung_cancer? -->\n",
       "<g class=\"node\" id=\"node5\"><title>lung_cancer?</title>\n",
       "<g id=\"a_node5\"><a xlink:title=\"(4) lung_cancer?\">\n",
       "<ellipse cx=\"194.745\" cy=\"-162\" fill=\"#444444\" rx=\"57.6901\" ry=\"18\" stroke=\"black\"/>\n",
       "<text fill=\"#ffffff\" font-family=\"Times,serif\" font-size=\"14.00\" text-anchor=\"middle\" x=\"194.745\" y=\"-158.3\">lung_cancer?</text>\n",
       "</a>\n",
       "</g>\n",
       "</g>\n",
       "<!-- lung_cancer?&#45;&gt;tuberculos_or_cancer? -->\n",
       "<g class=\"edge\" id=\"edge5\"><title>lung_cancer?-&gt;tuberculos_or_cancer?</title>\n",
       "<g id=\"a_edge5\"><a xlink:title=\"(4, 2) : \">\n",
       "<path d=\"M178.045,-144.765C169.041,-136.011 157.75,-125.033 147.721,-115.283\" fill=\"none\" stroke=\"black\"/>\n",
       "<polygon fill=\"black\" points=\"149.967,-112.585 140.358,-108.124 145.088,-117.604 149.967,-112.585\" stroke=\"black\"/>\n",
       "</a>\n",
       "</g>\n",
       "</g>\n",
       "<!-- smoking? -->\n",
       "<g class=\"node\" id=\"node6\"><title>smoking?</title>\n",
       "<g id=\"a_node6\"><a xlink:title=\"(5) smoking?\">\n",
       "<ellipse cx=\"237.745\" cy=\"-234\" fill=\"#444444\" rx=\"45.4919\" ry=\"18\" stroke=\"black\"/>\n",
       "<text fill=\"#ffffff\" font-family=\"Times,serif\" font-size=\"14.00\" text-anchor=\"middle\" x=\"237.745\" y=\"-230.3\">smoking?</text>\n",
       "</a>\n",
       "</g>\n",
       "</g>\n",
       "<!-- smoking?&#45;&gt;lung_cancer? -->\n",
       "<g class=\"edge\" id=\"edge7\"><title>smoking?-&gt;lung_cancer?</title>\n",
       "<g id=\"a_edge7\"><a xlink:title=\"(5, 4) : \">\n",
       "<path d=\"M227.554,-216.411C222.435,-208.077 216.12,-197.797 210.402,-188.488\" fill=\"none\" stroke=\"black\"/>\n",
       "<polygon fill=\"black\" points=\"213.377,-186.645 205.16,-179.956 207.412,-190.309 213.377,-186.645\" stroke=\"black\"/>\n",
       "</a>\n",
       "</g>\n",
       "</g>\n",
       "<!-- bronchitis? -->\n",
       "<g class=\"node\" id=\"node7\"><title>bronchitis?</title>\n",
       "<g id=\"a_node7\"><a xlink:title=\"(6) bronchitis?\">\n",
       "<ellipse cx=\"280.745\" cy=\"-90\" fill=\"#444444\" rx=\"50.0912\" ry=\"18\" stroke=\"black\"/>\n",
       "<text fill=\"#ffffff\" font-family=\"Times,serif\" font-size=\"14.00\" text-anchor=\"middle\" x=\"280.745\" y=\"-86.3\">bronchitis?</text>\n",
       "</a>\n",
       "</g>\n",
       "</g>\n",
       "<!-- smoking?&#45;&gt;bronchitis? -->\n",
       "<g class=\"edge\" id=\"edge2\"><title>smoking?-&gt;bronchitis?</title>\n",
       "<g id=\"a_edge2\"><a xlink:title=\"(5, 6) : \">\n",
       "<path d=\"M246.482,-216.186C251.517,-205.946 257.642,-192.474 261.745,-180 268.439,-159.645 273.373,-135.879 276.533,-118.028\" fill=\"none\" stroke=\"black\"/>\n",
       "<polygon fill=\"black\" points=\"280.009,-118.461 278.23,-108.017 273.108,-117.292 280.009,-118.461\" stroke=\"black\"/>\n",
       "</a>\n",
       "</g>\n",
       "</g>\n",
       "<!-- bronchitis?&#45;&gt;dyspnoea? -->\n",
       "<g class=\"edge\" id=\"edge8\"><title>bronchitis?-&gt;dyspnoea?</title>\n",
       "<g id=\"a_edge8\"><a xlink:title=\"(6, 7) : \">\n",
       "<path d=\"M277.531,-71.6966C276.098,-63.9827 274.377,-54.7125 272.78,-46.1124\" fill=\"none\" stroke=\"black\"/>\n",
       "<polygon fill=\"black\" points=\"276.188,-45.2971 270.921,-36.1043 269.306,-46.5753 276.188,-45.2971\" stroke=\"black\"/>\n",
       "</a>\n",
       "</g>\n",
       "</g>\n",
       "</g>\n",
       "</svg>"
      ],
      "text/plain": [
       "<pyAgrum.pyAgrum.BayesNet_double; proxy of <Swig Object of type 'gum::BayesNet< double > *' at 0x7fb81f769e40> >"
      ]
     },
     "execution_count": 4,
     "metadata": {},
     "output_type": "execute_result"
    }
   ],
   "source": [
    "bn2=gum.loadBN(\"../resources/asia.bif\")\n",
    "bn2.generateCPTs()\n",
    "bn2"
   ]
  },
  {
   "cell_type": "markdown",
   "metadata": {},
   "source": [
    "## bn vs bn2 : different parameters"
   ]
  },
  {
   "cell_type": "code",
   "execution_count": 5,
   "metadata": {
    "collapsed": false
   },
   "outputs": [
    {
     "data": {
      "text/html": [
       "<table style=\"border-style: hidden; border-collapse: collapse;\" width=\"100%\"><tr><td style=\"border-top:hidden;border-bottom:hidden;\"><div align=\"center\"><table>\n",
       "<tr><th colspan='1'></th><th colspan='2' style='background-color:#AAAAAA'><center>positive_XraY?</center></th></tr>\n",
       "<tr><th style='background-color:#AAAAAA'><center>tuberculos_or_cancer?</center></th><th style='background-color:#BBBBBB'><center>0</center></th><th style='background-color:#BBBBBB'><center>1</center></th></tr>\n",
       "<tr><th style='background-color:#BBBBBB'><center>0</center></th><td style='background-color:#aecf64;text-align:right;'>0.6292</td><td style='background-color:#cfae64;text-align:right;'>0.3708</td></tr>\n",
       "<tr><th style='background-color:#BBBBBB'><center>1</center></th><td style='background-color:#d5a864;text-align:right;'>0.3278</td><td style='background-color:#a8d564;text-align:right;'>0.6722</td></tr>\n",
       "</table></div></td><td style=\"border-top:hidden;border-bottom:hidden;\"><div align=\"center\"><table>\n",
       "<tr><th colspan='1'></th><th colspan='2' style='background-color:#AAAAAA'><center>positive_XraY?</center></th></tr>\n",
       "<tr><th style='background-color:#AAAAAA'><center>tuberculos_or_cancer?</center></th><th style='background-color:#BBBBBB'><center>0</center></th><th style='background-color:#BBBBBB'><center>1</center></th></tr>\n",
       "<tr><th style='background-color:#BBBBBB'><center>0</center></th><td style='background-color:#cbb264;text-align:right;'>0.4046</td><td style='background-color:#b2cb64;text-align:right;'>0.5954</td></tr>\n",
       "<tr><th style='background-color:#BBBBBB'><center>1</center></th><td style='background-color:#a9d464;text-align:right;'>0.6644</td><td style='background-color:#d4a964;text-align:right;'>0.3356</td></tr>\n",
       "</table></div></td></tr><tr><td style=\"border-top:hidden;border-bottom:hidden;\"><div align=\"center\"><small>a CPT in bn</small></div></td><td style=\"border-top:hidden;border-bottom:hidden;\"><div align=\"center\"><small>same CPT in bn2</small></div></td></tr></table>"
      ],
      "text/plain": [
       "<IPython.core.display.HTML object>"
      ]
     },
     "metadata": {},
     "output_type": "display_data"
    }
   ],
   "source": [
    "gnb.sideBySide(bn.cpt(3),bn2.cpt(3),\n",
    "              captions=[\"a CPT in bn\",\"same CPT in bn2\"])"
   ]
  },
  {
   "cell_type": "markdown",
   "metadata": {},
   "source": [
    "## Exact and (Gibbs) approximated KL-divergence "
   ]
  },
  {
   "cell_type": "markdown",
   "metadata": {},
   "source": [
    "In order to compute KL-divergence, we just need to be sure that the 2 distributions are defined on the same domain (same variables, etc.)"
   ]
  },
  {
   "cell_type": "markdown",
   "metadata": {},
   "source": [
    "<h3>Exact KL</h3>\n"
   ]
  },
  {
   "cell_type": "code",
   "execution_count": 6,
   "metadata": {
    "collapsed": false
   },
   "outputs": [
    {
     "name": "stdout",
     "output_type": "stream",
     "text": [
      "{'errorQP': 0, 'bhattacharya': 1.588263852263413, 'errorPQ': 0, 'hellinger': 1.261522917557506, 'klPQ': 7.361133692627076, 'klQP': 7.806939969411182}\n"
     ]
    }
   ],
   "source": [
    "g1=gum.BruteForceKL(bn,bn2)\n",
    "print(g1.compute())"
   ]
  },
  {
   "cell_type": "markdown",
   "metadata": {},
   "source": [
    "If the models are not on the same domain :"
   ]
  },
  {
   "cell_type": "code",
   "execution_count": 7,
   "metadata": {
    "collapsed": false
   },
   "outputs": [
    {
     "name": "stdout",
     "output_type": "stream",
     "text": [
      "\n"
     ]
    }
   ],
   "source": [
    "bn_different_domain=gum.loadBN(\"../resources/alarm.dsl\")\n",
    "\n",
    "# g=gum.BruteForceKL(bn,bn_different_domain) # a KL-divergence between asia and alarm ... :(\n",
    "#\n",
    "# would cause\n",
    "#---------------------------------------------------------------------------\n",
    "#OperationNotAllowed                       Traceback (most recent call last)\n",
    "#\n",
    "#OperationNotAllowed: this operation is not allowed : KL : the 2 BNs are not compatible (not the same vars : visit_to_Asia?)"
   ]
  },
  {
   "cell_type": "markdown",
   "metadata": {},
   "source": [
    "<h3>Gibbs-approximated KL</h3>\n",
    "\n",
    "There is something wrong with <em>Bhattacharya</em> computations...\n"
   ]
  },
  {
   "cell_type": "code",
   "execution_count": 8,
   "metadata": {
    "collapsed": false
   },
   "outputs": [],
   "source": [
    "g=gum.GibbsKL(bn,bn2)\n",
    "g.setVerbosity(True)\n",
    "g.setMaxTime(120)\n",
    "g.setBurnIn(5000)\n",
    "g.setEpsilon(1e-7)\n",
    "g.setPeriodSize(500)"
   ]
  },
  {
   "cell_type": "code",
   "execution_count": 9,
   "metadata": {
    "collapsed": false
   },
   "outputs": [
    {
     "name": "stdout",
     "output_type": "stream",
     "text": [
      "{'errorQP': 0, 'bhattacharya': -11.255342363606008, 'errorPQ': 0, 'hellinger': 1.2925539263129167, 'klPQ': 7.362253660317226, 'klQP': 8.992798289623599}\n",
      "Computed in 15.45828903 s\n"
     ]
    }
   ],
   "source": [
    "print(g.compute())\n",
    "print(\"Computed in {0} s\".format(g.currentTime()))"
   ]
  },
  {
   "cell_type": "code",
   "execution_count": 10,
   "metadata": {
    "collapsed": false
   },
   "outputs": [
    {
     "name": "stdout",
     "output_type": "stream",
     "text": [
      "--\n",
      "stopped with epsilon=1e-07\n",
      "--\n",
      "Temps de calcul : 15.45828903\n",
      "Nombre d'itérations : 377500\n"
     ]
    },
    {
     "data": {
      "image/png": "[encoded data removed]",
      "text/plain": [
       "<matplotlib.figure.Figure at 0x7fb871173048>"
      ]
     },
     "metadata": {},
     "output_type": "display_data"
    }
   ],
   "source": [
    "print(\"--\")\n",
    "\n",
    "print(g.messageApproximationScheme())\n",
    "print(\"--\")\n",
    "\n",
    "print(\"Temps de calcul : {0}\".format(g.currentTime()))\n",
    "print(\"Nombre d'itérations : {0}\".format(g.nbrIterations()))\n",
    "\n",
    "p=plot(g.history(), 'g')"
   ]
  },
  {
   "cell_type": "markdown",
   "metadata": {},
   "source": [
    "### Animation of Gibbs KL"
   ]
  },
  {
   "cell_type": "markdown",
   "metadata": {},
   "source": [
    "Since it may be difficult to know what happens during approximation algorithm, pyAgrum allows to follow the iteration using animated matplotlib figure"
   ]
  },
  {
   "cell_type": "code",
   "execution_count": 11,
   "metadata": {
    "collapsed": false
   },
   "outputs": [],
   "source": [
    "g=gum.GibbsKL(bn,bn2)\n",
    "g.setMaxTime(60)\n",
    "g.setBurnIn(500)\n",
    "g.setEpsilon(1e-7)\n",
    "g.setPeriodSize(5000)"
   ]
  },
  {
   "cell_type": "code",
   "execution_count": 12,
   "metadata": {
    "collapsed": false
   },
   "outputs": [
    {
     "data": {
      "text/plain": [
       "{'bhattacharya': -11.099686176984632,\n",
       " 'errorPQ': 0,\n",
       " 'errorQP': 0,\n",
       " 'hellinger': 1.2440138817733222,\n",
       " 'klPQ': 7.356524980049269,\n",
       " 'klQP': 7.217714175483931}"
      ]
     },
     "execution_count": 12,
     "metadata": {},
     "output_type": "execute_result"
    },
    {
     "data": {
      "image/png": "[encoded data removed]",
      "text/plain": [
       "<matplotlib.figure.Figure at 0x7fb87119bbe0>"
      ]
     },
     "metadata": {},
     "output_type": "display_data"
    }
   ],
   "source": [
    "gnb.animApproximationScheme(g) # logarithmique scale for Y\n",
    "g.compute()"
   ]
  },
  {
   "cell_type": "code",
   "execution_count": 13,
   "metadata": {
    "collapsed": true
   },
   "outputs": [],
   "source": []
  }
 ],
 "metadata": {
  "kernelspec": {
   "display_name": "Python 3",
   "language": "python",
   "name": "python3"
  },
  "language_info": {
   "codemirror_mode": {
    "name": "ipython",
    "version": 3
   },
   "file_extension": ".py",
   "mimetype": "text/x-python",
   "name": "python",
   "nbconvert_exporter": "python",
   "pygments_lexer": "ipython3",
   "version": "3.5.2+"
  }
 },
 "nbformat": 4,
 "nbformat_minor": 0
}
