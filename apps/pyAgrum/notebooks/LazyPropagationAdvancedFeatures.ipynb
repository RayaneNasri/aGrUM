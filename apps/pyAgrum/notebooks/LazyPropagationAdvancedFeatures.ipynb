{
 "cells": [
  {
   "cell_type": "code",
   "execution_count": 1,
   "metadata": {
    "collapsed": true
   },
   "outputs": [],
   "source": [
    "import pyAgrum as gum\n",
    "import pyAgrum.lib.notebook as gnb"
   ]
  },
  {
   "cell_type": "code",
   "execution_count": 2,
   "metadata": {
    "collapsed": false
   },
   "outputs": [
    {
     "data": {
      "text/html": [
       "<svg height=\"260pt\" viewBox=\"0.00 0.00 134.00 260.00\" width=\"134pt\" xmlns=\"http://www.w3.org/2000/svg\" xmlns:xlink=\"http://www.w3.org/1999/xlink\">\n",
       "<g class=\"graph\" id=\"graph0\" transform=\"scale(1 1) rotate(0) translate(4 256)\">\n",
       "<title>G</title>\n",
       "<polygon fill=\"white\" points=\"-4,4 -4,-256 130,-256 130,4 -4,4\" stroke=\"none\"/>\n",
       "<!-- A -->\n",
       "<g class=\"node\" id=\"node1\"><title>A</title>\n",
       "<g id=\"a_node1\"><a xlink:title=\"(0) A\">\n",
       "<ellipse cx=\"99\" cy=\"-234\" fill=\"#444444\" rx=\"27\" ry=\"18\" stroke=\"black\"/>\n",
       "<text fill=\"#ffffff\" font-family=\"Times,serif\" font-size=\"14.00\" text-anchor=\"middle\" x=\"99\" y=\"-230.3\">A</text>\n",
       "</a>\n",
       "</g>\n",
       "</g>\n",
       "<!-- B -->\n",
       "<g class=\"node\" id=\"node2\"><title>B</title>\n",
       "<g id=\"a_node2\"><a xlink:title=\"(1) B\">\n",
       "<ellipse cx=\"27\" cy=\"-162\" fill=\"#444444\" rx=\"27\" ry=\"18\" stroke=\"black\"/>\n",
       "<text fill=\"#ffffff\" font-family=\"Times,serif\" font-size=\"14.00\" text-anchor=\"middle\" x=\"27\" y=\"-158.3\">B</text>\n",
       "</a>\n",
       "</g>\n",
       "</g>\n",
       "<!-- A&#45;&gt;B -->\n",
       "<g class=\"edge\" id=\"edge1\"><title>A-&gt;B</title>\n",
       "<path d=\"M84.4297,-218.834C74.2501,-208.938 60.4761,-195.546 48.9694,-184.359\" fill=\"none\" stroke=\"black\"/>\n",
       "<polygon fill=\"black\" points=\"51.4055,-181.846 41.7957,-177.385 46.5259,-186.865 51.4055,-181.846\" stroke=\"black\"/>\n",
       "</g>\n",
       "<!-- E -->\n",
       "<g class=\"node\" id=\"node5\"><title>E</title>\n",
       "<g id=\"a_node5\"><a xlink:title=\"(4) E\">\n",
       "<ellipse cx=\"99\" cy=\"-90\" fill=\"#444444\" rx=\"27\" ry=\"18\" stroke=\"black\"/>\n",
       "<text fill=\"#ffffff\" font-family=\"Times,serif\" font-size=\"14.00\" text-anchor=\"middle\" x=\"99\" y=\"-86.3\">E</text>\n",
       "</a>\n",
       "</g>\n",
       "</g>\n",
       "<!-- A&#45;&gt;E -->\n",
       "<g class=\"edge\" id=\"edge7\"><title>A-&gt;E</title>\n",
       "<path d=\"M99,-215.871C99,-191.67 99,-147.211 99,-118.393\" fill=\"none\" stroke=\"black\"/>\n",
       "<polygon fill=\"black\" points=\"102.5,-118.189 99,-108.189 95.5001,-118.189 102.5,-118.189\" stroke=\"black\"/>\n",
       "</g>\n",
       "<!-- C -->\n",
       "<g class=\"node\" id=\"node3\"><title>C</title>\n",
       "<g id=\"a_node3\"><a xlink:title=\"(2) C\">\n",
       "<ellipse cx=\"27\" cy=\"-90\" fill=\"#444444\" rx=\"27\" ry=\"18\" stroke=\"black\"/>\n",
       "<text fill=\"#ffffff\" font-family=\"Times,serif\" font-size=\"14.00\" text-anchor=\"middle\" x=\"27\" y=\"-86.3\">C</text>\n",
       "</a>\n",
       "</g>\n",
       "</g>\n",
       "<!-- B&#45;&gt;C -->\n",
       "<g class=\"edge\" id=\"edge6\"><title>B-&gt;C</title>\n",
       "<path d=\"M27,-143.697C27,-135.983 27,-126.712 27,-118.112\" fill=\"none\" stroke=\"black\"/>\n",
       "<polygon fill=\"black\" points=\"30.5001,-118.104 27,-108.104 23.5001,-118.104 30.5001,-118.104\" stroke=\"black\"/>\n",
       "</g>\n",
       "<!-- D -->\n",
       "<g class=\"node\" id=\"node4\"><title>D</title>\n",
       "<g id=\"a_node4\"><a xlink:title=\"(3) D\">\n",
       "<ellipse cx=\"99\" cy=\"-18\" fill=\"#444444\" rx=\"27\" ry=\"18\" stroke=\"black\"/>\n",
       "<text fill=\"#ffffff\" font-family=\"Times,serif\" font-size=\"14.00\" text-anchor=\"middle\" x=\"99\" y=\"-14.3\">D</text>\n",
       "</a>\n",
       "</g>\n",
       "</g>\n",
       "<!-- C&#45;&gt;D -->\n",
       "<g class=\"edge\" id=\"edge5\"><title>C-&gt;D</title>\n",
       "<path d=\"M41.5703,-74.8345C51.7499,-64.9376 65.5239,-51.5462 77.0306,-40.3591\" fill=\"none\" stroke=\"black\"/>\n",
       "<polygon fill=\"black\" points=\"79.4741,-42.865 84.2043,-33.3847 74.5945,-37.8461 79.4741,-42.865\" stroke=\"black\"/>\n",
       "</g>\n",
       "<!-- H -->\n",
       "<g class=\"node\" id=\"node7\"><title>H</title>\n",
       "<g id=\"a_node7\"><a xlink:title=\"(6) H\">\n",
       "<ellipse cx=\"27\" cy=\"-18\" fill=\"#444444\" rx=\"27\" ry=\"18\" stroke=\"black\"/>\n",
       "<text fill=\"#ffffff\" font-family=\"Times,serif\" font-size=\"14.00\" text-anchor=\"middle\" x=\"27\" y=\"-14.3\">H</text>\n",
       "</a>\n",
       "</g>\n",
       "</g>\n",
       "<!-- C&#45;&gt;H -->\n",
       "<g class=\"edge\" id=\"edge4\"><title>C-&gt;H</title>\n",
       "<path d=\"M27,-71.6966C27,-63.9827 27,-54.7125 27,-46.1124\" fill=\"none\" stroke=\"black\"/>\n",
       "<polygon fill=\"black\" points=\"30.5001,-46.1043 27,-36.1043 23.5001,-46.1044 30.5001,-46.1043\" stroke=\"black\"/>\n",
       "</g>\n",
       "<!-- E&#45;&gt;D -->\n",
       "<g class=\"edge\" id=\"edge2\"><title>E-&gt;D</title>\n",
       "<path d=\"M99,-71.6966C99,-63.9827 99,-54.7125 99,-46.1124\" fill=\"none\" stroke=\"black\"/>\n",
       "<polygon fill=\"black\" points=\"102.5,-46.1043 99,-36.1043 95.5001,-46.1044 102.5,-46.1043\" stroke=\"black\"/>\n",
       "</g>\n",
       "<!-- F -->\n",
       "<g class=\"node\" id=\"node6\"><title>F</title>\n",
       "<g id=\"a_node6\"><a xlink:title=\"(5) F\">\n",
       "<ellipse cx=\"27\" cy=\"-234\" fill=\"#444444\" rx=\"27\" ry=\"18\" stroke=\"black\"/>\n",
       "<text fill=\"#ffffff\" font-family=\"Times,serif\" font-size=\"14.00\" text-anchor=\"middle\" x=\"27\" y=\"-230.3\">F</text>\n",
       "</a>\n",
       "</g>\n",
       "</g>\n",
       "<!-- F&#45;&gt;B -->\n",
       "<g class=\"edge\" id=\"edge3\"><title>F-&gt;B</title>\n",
       "<path d=\"M27,-215.697C27,-207.983 27,-198.712 27,-190.112\" fill=\"none\" stroke=\"black\"/>\n",
       "<polygon fill=\"black\" points=\"30.5001,-190.104 27,-180.104 23.5001,-190.104 30.5001,-190.104\" stroke=\"black\"/>\n",
       "</g>\n",
       "</g>\n",
       "</svg>"
      ],
      "text/plain": [
       "<pyAgrum.pyAgrum.BayesNet_double; proxy of <Swig Object of type 'gum::BayesNet< double > *' at 0x7feeb681de40> >"
      ]
     },
     "execution_count": 2,
     "metadata": {},
     "output_type": "execute_result"
    }
   ],
   "source": [
    "bn=gum.fastBN(\"A->B->C->D;A->E->D;F->B;C->H\")\n",
    "ie=gum.LazyPropagation(bn)\n",
    "bn              "
   ]
  },
  {
   "cell_type": "code",
   "execution_count": 3,
   "metadata": {
    "collapsed": false
   },
   "outputs": [
    {
     "data": {
      "text/html": [
       "<table>\n",
       "<tr><th colspan='1'></th><th colspan='2' style='background-color:#AAAAAA'><center>E</center></th></tr>\n",
       "<tr>\n",
       "<th style='background-color:#AAAAAA'><center>A</center></th>\n",
       "<th style='background-color:#BBBBBB'><center>0</center></th>\n",
       "<th style='background-color:#BBBBBB'><center>1</center></th>\n",
       "<tr>\n",
       "<th style='background-color:#BBBBBB'>0</th>\n",
       "<td style='text-align:right;'>0.4238</td>\n",
       "<td style='text-align:right;'>0.5762</td>\n",
       "</tr><tr>\n",
       "<th style='background-color:#BBBBBB'>1</th>\n",
       "<td style='text-align:right;'>0.8338</td>\n",
       "<td style='text-align:right;'>0.1662</td>\n",
       "</tr>\n",
       "</table>"
      ],
      "text/plain": [
       "<pyAgrum.pyAgrum.Potential_double; proxy of <Swig Object of type 'gum::Potential< double > *' at 0x7feeb6530690> >"
      ]
     },
     "execution_count": 3,
     "metadata": {},
     "output_type": "execute_result"
    }
   ],
   "source": [
    "ie.evidenceImpact(\"E\",[\"A\",\"F\",\"B\"])"
   ]
  },
  {
   "cell_type": "code",
   "execution_count": 4,
   "metadata": {
    "collapsed": false
   },
   "outputs": [
    {
     "data": {
      "text/html": [
       "<table>\n",
       "<tr><th colspan='3'></th><th colspan='2' style='background-color:#AAAAAA'><center>E</center></th></tr>\n",
       "<tr>\n",
       "<th style='background-color:#AAAAAA'><center>A</center></th>\n",
       "<th style='background-color:#AAAAAA'><center>B</center></th>\n",
       "<th style='background-color:#AAAAAA'><center>D</center></th>\n",
       "<th style='background-color:#BBBBBB'><center>0</center></th>\n",
       "<th style='background-color:#BBBBBB'><center>1</center></th>\n",
       "<tr>\n",
       "<th style='background-color:#BBBBBB;' rowspan = '4'>0</th>\n",
       "<th style='background-color:#BBBBBB;' rowspan = '2'>0</th>\n",
       "<th style='background-color:#BBBBBB'>0</th>\n",
       "<td style='text-align:right;'>0.6662</td>\n",
       "<td style='text-align:right;'>0.3338</td>\n",
       "</tr><tr>\n",
       "<th style='background-color:#BBBBBB'>1</th>\n",
       "<td style='text-align:right;'>0.2871</td>\n",
       "<td style='text-align:right;'>0.7129</td>\n",
       "</tr><tr>\n",
       "<th style='background-color:#BBBBBB;' rowspan = '2'>1</th>\n",
       "<th style='background-color:#BBBBBB'>0</th>\n",
       "<td style='text-align:right;'>0.4559</td>\n",
       "<td style='text-align:right;'>0.5441</td>\n",
       "</tr><tr>\n",
       "<th style='background-color:#BBBBBB'>1</th>\n",
       "<td style='text-align:right;'>0.3905</td>\n",
       "<td style='text-align:right;'>0.6095</td>\n",
       "</tr><tr>\n",
       "<th style='background-color:#BBBBBB;' rowspan = '4'>1</th>\n",
       "<th style='background-color:#BBBBBB;' rowspan = '2'>0</th>\n",
       "<th style='background-color:#BBBBBB'>0</th>\n",
       "<td style='text-align:right;'>0.9316</td>\n",
       "<td style='text-align:right;'>0.0684</td>\n",
       "</tr><tr>\n",
       "<th style='background-color:#BBBBBB'>1</th>\n",
       "<td style='text-align:right;'>0.7331</td>\n",
       "<td style='text-align:right;'>0.2669</td>\n",
       "</tr><tr>\n",
       "<th style='background-color:#BBBBBB;' rowspan = '2'>1</th>\n",
       "<th style='background-color:#BBBBBB'>0</th>\n",
       "<td style='text-align:right;'>0.8511</td>\n",
       "<td style='text-align:right;'>0.1489</td>\n",
       "</tr><tr>\n",
       "<th style='background-color:#BBBBBB'>1</th>\n",
       "<td style='text-align:right;'>0.8138</td>\n",
       "<td style='text-align:right;'>0.1862</td>\n",
       "</tr>\n",
       "</table>"
      ],
      "text/plain": [
       "<pyAgrum.pyAgrum.Potential_double; proxy of <Swig Object of type 'gum::Potential< double > *' at 0x7feeb6530750> >"
      ]
     },
     "execution_count": 4,
     "metadata": {},
     "output_type": "execute_result"
    }
   ],
   "source": [
    "ie.evidenceImpact(\"E\",[\"A\",\"F\",\"B\",\"D\"])"
   ]
  },
  {
   "cell_type": "code",
   "execution_count": 5,
   "metadata": {
    "collapsed": false
   },
   "outputs": [
    {
     "data": {
      "text/html": [
       "<table>\n",
       "<tr><th colspan='3'></th><th colspan='2' style='background-color:#AAAAAA'><center>E</center></th></tr>\n",
       "<tr>\n",
       "<th style='background-color:#AAAAAA'><center>C</center></th>\n",
       "<th style='background-color:#AAAAAA'><center>A</center></th>\n",
       "<th style='background-color:#AAAAAA'><center>D</center></th>\n",
       "<th style='background-color:#BBBBBB'><center>0</center></th>\n",
       "<th style='background-color:#BBBBBB'><center>1</center></th>\n",
       "<tr>\n",
       "<th style='background-color:#BBBBBB;' rowspan = '4'>0</th>\n",
       "<th style='background-color:#BBBBBB;' rowspan = '2'>0</th>\n",
       "<th style='background-color:#BBBBBB'>0</th>\n",
       "<td style='text-align:right;'>0.6676</td>\n",
       "<td style='text-align:right;'>0.3324</td>\n",
       "</tr><tr>\n",
       "<th style='background-color:#BBBBBB'>1</th>\n",
       "<td style='text-align:right;'>0.2867</td>\n",
       "<td style='text-align:right;'>0.7133</td>\n",
       "</tr><tr>\n",
       "<th style='background-color:#BBBBBB;' rowspan = '2'>1</th>\n",
       "<th style='background-color:#BBBBBB'>0</th>\n",
       "<td style='text-align:right;'>0.9320</td>\n",
       "<td style='text-align:right;'>0.0680</td>\n",
       "</tr><tr>\n",
       "<th style='background-color:#BBBBBB'>1</th>\n",
       "<td style='text-align:right;'>0.7327</td>\n",
       "<td style='text-align:right;'>0.2673</td>\n",
       "</tr><tr>\n",
       "<th style='background-color:#BBBBBB;' rowspan = '4'>1</th>\n",
       "<th style='background-color:#BBBBBB;' rowspan = '2'>0</th>\n",
       "<th style='background-color:#BBBBBB'>0</th>\n",
       "<td style='text-align:right;'>0.3657</td>\n",
       "<td style='text-align:right;'>0.6343</td>\n",
       "</tr><tr>\n",
       "<th style='background-color:#BBBBBB'>1</th>\n",
       "<td style='text-align:right;'>0.5178</td>\n",
       "<td style='text-align:right;'>0.4822</td>\n",
       "</tr><tr>\n",
       "<th style='background-color:#BBBBBB;' rowspan = '2'>1</th>\n",
       "<th style='background-color:#BBBBBB'>0</th>\n",
       "<td style='text-align:right;'>0.7973</td>\n",
       "<td style='text-align:right;'>0.2027</td>\n",
       "</tr><tr>\n",
       "<th style='background-color:#BBBBBB'>1</th>\n",
       "<td style='text-align:right;'>0.8799</td>\n",
       "<td style='text-align:right;'>0.1201</td>\n",
       "</tr>\n",
       "</table>"
      ],
      "text/plain": [
       "<pyAgrum.pyAgrum.Potential_double; proxy of <Swig Object of type 'gum::Potential< double > *' at 0x7feeb65307e0> >"
      ]
     },
     "execution_count": 5,
     "metadata": {},
     "output_type": "execute_result"
    }
   ],
   "source": [
    "ie.evidenceImpact(\"E\",[\"A\",\"B\",\"C\",\"D\",\"F\"])"
   ]
  },
  {
   "cell_type": "code",
   "execution_count": 6,
   "metadata": {
    "collapsed": true
   },
   "outputs": [],
   "source": []
  }
 ],
 "metadata": {
  "kernelspec": {
   "display_name": "devAgrum (python3)",
   "language": "python",
   "name": "devagrum"
  },
  "language_info": {
   "codemirror_mode": {
    "name": "ipython",
    "version": 3
   },
   "file_extension": ".py",
   "mimetype": "text/x-python",
   "name": "python",
   "nbconvert_exporter": "python",
   "pygments_lexer": "ipython3",
   "version": "3.5.2+"
  }
 },
 "nbformat": 4,
 "nbformat_minor": 2
}
