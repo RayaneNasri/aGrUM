{
 "metadata": {
  "name": ""
 },
 "nbformat": 3,
 "nbformat_minor": 0,
 "worksheets": [
  {
   "cells": [
    {
     "cell_type": "code",
     "collapsed": false,
     "input": [
      "import pyAgrum as gum\n",
      "import gumLib.notebook as gumnb"
     ],
     "language": "python",
     "metadata": {},
     "outputs": [],
     "prompt_number": 2
    },
    {
     "cell_type": "heading",
     "level": 2,
     "metadata": {},
     "source": [
      "Static Credal Net"
     ]
    },
    {
     "cell_type": "code",
     "collapsed": false,
     "input": [
      "cn=gum.CredalNet(\"../resources/cn/2Umin.bif\",\"../resources/cn/2Umax.bif\")\n",
      "cn.intervalToCredal()"
     ],
     "language": "python",
     "metadata": {},
     "outputs": [],
     "prompt_number": 3
    },
    {
     "cell_type": "code",
     "collapsed": false,
     "input": [
      "gumnb.showBN(cn.current_bn(),\"3\")"
     ],
     "language": "python",
     "metadata": {},
     "outputs": [
      {
       "html": [
        "<div align='center'><svg height=\"208pt\" viewBox=\"0.00 0.00 216.00 208.23\" width=\"216pt\" xmlns=\"http://www.w3.org/2000/svg\" xmlns:xlink=\"http://www.w3.org/1999/xlink\">\n",
        "<g class=\"graph\" id=\"graph1\" transform=\"scale(0.776978 0.776978) rotate(0) translate(4 264)\">\n",
        "<title>G</title>\n",
        "<polygon fill=\"white\" points=\"-4,5 -4,-264 275,-264 275,5 -4,5\" stroke=\"white\"/>\n",
        "<!-- A -->\n",
        "<g class=\"node\" id=\"node1\"><title>A</title>\n",
        "<ellipse cx=\"27\" cy=\"-241\" fill=\"#666666\" rx=\"27\" ry=\"18.3848\" stroke=\"black\"/>\n",
        "<text fill=\"#ffffff\" font-family=\"Times Roman,serif\" font-size=\"14.00\" text-anchor=\"middle\" x=\"27\" y=\"-237.4\">A</text>\n",
        "</g>\n",
        "<!-- E -->\n",
        "<g class=\"node\" id=\"node5\"><title>E</title>\n",
        "<ellipse cx=\"99\" cy=\"-167\" fill=\"#666666\" rx=\"27\" ry=\"18.3848\" stroke=\"black\"/>\n",
        "<text fill=\"#ffffff\" font-family=\"Times Roman,serif\" font-size=\"14.00\" text-anchor=\"middle\" x=\"99\" y=\"-163.4\">E</text>\n",
        "</g>\n",
        "<!-- A&#45;&gt;E -->\n",
        "<g class=\"edge\" id=\"edge14\"><title>A-&gt;E</title>\n",
        "<path d=\"M42.2693,-225.307C52.3602,-214.935 65.7474,-201.176 76.9831,-189.628\" fill=\"none\" stroke=\"black\"/>\n",
        "<polygon fill=\"black\" points=\"79.5345,-192.025 83.9996,-182.417 74.5174,-187.144 79.5345,-192.025\" stroke=\"black\"/>\n",
        "</g>\n",
        "<!-- B -->\n",
        "<g class=\"node\" id=\"node2\"><title>B</title>\n",
        "<ellipse cx=\"99\" cy=\"-241\" fill=\"#666666\" rx=\"27\" ry=\"18.3848\" stroke=\"black\"/>\n",
        "<text fill=\"#ffffff\" font-family=\"Times Roman,serif\" font-size=\"14.00\" text-anchor=\"middle\" x=\"99\" y=\"-237.4\">B</text>\n",
        "</g>\n",
        "<!-- B&#45;&gt;E -->\n",
        "<g class=\"edge\" id=\"edge2\"><title>B-&gt;E</title>\n",
        "<path d=\"M99,-222.327C99,-214.264 99,-204.648 99,-195.711\" fill=\"none\" stroke=\"black\"/>\n",
        "<polygon fill=\"black\" points=\"102.5,-195.667 99,-185.667 95.5001,-195.667 102.5,-195.667\" stroke=\"black\"/>\n",
        "</g>\n",
        "<!-- C -->\n",
        "<g class=\"node\" id=\"node3\"><title>C</title>\n",
        "<ellipse cx=\"171\" cy=\"-241\" fill=\"#666666\" rx=\"27\" ry=\"18.3848\" stroke=\"black\"/>\n",
        "<text fill=\"#ffffff\" font-family=\"Times Roman,serif\" font-size=\"14.00\" text-anchor=\"middle\" x=\"171\" y=\"-237.4\">C</text>\n",
        "</g>\n",
        "<!-- F -->\n",
        "<g class=\"node\" id=\"node6\"><title>F</title>\n",
        "<ellipse cx=\"171\" cy=\"-167\" fill=\"#666666\" rx=\"27\" ry=\"18.3848\" stroke=\"black\"/>\n",
        "<text fill=\"#ffffff\" font-family=\"Times Roman,serif\" font-size=\"14.00\" text-anchor=\"middle\" x=\"171\" y=\"-163.4\">F</text>\n",
        "</g>\n",
        "<!-- C&#45;&gt;F -->\n",
        "<g class=\"edge\" id=\"edge16\"><title>C-&gt;F</title>\n",
        "<path d=\"M171,-222.327C171,-214.264 171,-204.648 171,-195.711\" fill=\"none\" stroke=\"black\"/>\n",
        "<polygon fill=\"black\" points=\"174.5,-195.667 171,-185.667 167.5,-195.667 174.5,-195.667\" stroke=\"black\"/>\n",
        "</g>\n",
        "<!-- D -->\n",
        "<g class=\"node\" id=\"node4\"><title>D</title>\n",
        "<ellipse cx=\"243\" cy=\"-241\" fill=\"#666666\" rx=\"27\" ry=\"18.3848\" stroke=\"black\"/>\n",
        "<text fill=\"#ffffff\" font-family=\"Times Roman,serif\" font-size=\"14.00\" text-anchor=\"middle\" x=\"243\" y=\"-237.4\">D</text>\n",
        "</g>\n",
        "<!-- D&#45;&gt;F -->\n",
        "<g class=\"edge\" id=\"edge4\"><title>D-&gt;F</title>\n",
        "<path d=\"M227.731,-225.307C217.64,-214.935 204.253,-201.176 193.017,-189.628\" fill=\"none\" stroke=\"black\"/>\n",
        "<polygon fill=\"black\" points=\"195.483,-187.144 186,-182.417 190.465,-192.025 195.483,-187.144\" stroke=\"black\"/>\n",
        "</g>\n",
        "<!-- G -->\n",
        "<g class=\"node\" id=\"node7\"><title>G</title>\n",
        "<ellipse cx=\"243\" cy=\"-167\" fill=\"#666666\" rx=\"27\" ry=\"18.3848\" stroke=\"black\"/>\n",
        "<text fill=\"#ffffff\" font-family=\"Times Roman,serif\" font-size=\"14.00\" text-anchor=\"middle\" x=\"243\" y=\"-163.4\">G</text>\n",
        "</g>\n",
        "<!-- D&#45;&gt;G -->\n",
        "<g class=\"edge\" id=\"edge8\"><title>D-&gt;G</title>\n",
        "<path d=\"M243,-222.327C243,-214.264 243,-204.648 243,-195.711\" fill=\"none\" stroke=\"black\"/>\n",
        "<polygon fill=\"black\" points=\"246.5,-195.667 243,-185.667 239.5,-195.667 246.5,-195.667\" stroke=\"black\"/>\n",
        "</g>\n",
        "<!-- H -->\n",
        "<g class=\"node\" id=\"node8\"><title>H</title>\n",
        "<ellipse cx=\"135\" cy=\"-93\" fill=\"#666666\" rx=\"27\" ry=\"18.3848\" stroke=\"black\"/>\n",
        "<text fill=\"#ffffff\" font-family=\"Times Roman,serif\" font-size=\"14.00\" text-anchor=\"middle\" x=\"135\" y=\"-89.4\">H</text>\n",
        "</g>\n",
        "<!-- E&#45;&gt;H -->\n",
        "<g class=\"edge\" id=\"edge6\"><title>E-&gt;H</title>\n",
        "<path d=\"M107.715,-149.087C111.96,-140.361 117.154,-129.684 121.866,-119.997\" fill=\"none\" stroke=\"black\"/>\n",
        "<polygon fill=\"black\" points=\"125.138,-121.272 126.366,-110.748 118.844,-118.21 125.138,-121.272\" stroke=\"black\"/>\n",
        "</g>\n",
        "<!-- F&#45;&gt;H -->\n",
        "<g class=\"edge\" id=\"edge10\"><title>F-&gt;H</title>\n",
        "<path d=\"M162.285,-149.087C158.04,-140.361 152.846,-129.684 148.134,-119.997\" fill=\"none\" stroke=\"black\"/>\n",
        "<polygon fill=\"black\" points=\"151.156,-118.21 143.634,-110.748 144.862,-121.272 151.156,-118.21\" stroke=\"black\"/>\n",
        "</g>\n",
        "<!-- L -->\n",
        "<g class=\"node\" id=\"node9\"><title>L</title>\n",
        "<ellipse cx=\"135\" cy=\"-19\" fill=\"#666666\" rx=\"27\" ry=\"18.3848\" stroke=\"black\"/>\n",
        "<text fill=\"#ffffff\" font-family=\"Times Roman,serif\" font-size=\"14.00\" text-anchor=\"middle\" x=\"135\" y=\"-15.4\">L</text>\n",
        "</g>\n",
        "<!-- H&#45;&gt;L -->\n",
        "<g class=\"edge\" id=\"edge12\"><title>H-&gt;L</title>\n",
        "<path d=\"M135,-74.3267C135,-66.2639 135,-56.6477 135,-47.7115\" fill=\"none\" stroke=\"black\"/>\n",
        "<polygon fill=\"black\" points=\"138.5,-47.6673 135,-37.6674 131.5,-47.6674 138.5,-47.6673\" stroke=\"black\"/>\n",
        "</g>\n",
        "</g>\n",
        "</svg></div>"
       ],
       "metadata": {},
       "output_type": "display_data",
       "text": [
        "<IPython.core.display.HTML at 0x43784d0>"
       ]
      }
     ],
     "prompt_number": 4
    },
    {
     "cell_type": "code",
     "collapsed": false,
     "input": [
      "ie=gum.CNMonteCarloSampling(cn)\n",
      "ie.insertEvidenceFile(\"../resources/cn/L2U.evi\")\n",
      "\n",
      "ie.setRepetitiveInd(False)\n",
      "ie.setMaxTime(1)\n",
      "ie.setMaxIter(1000)\n",
      "\n",
      "ie.makeInference()"
     ],
     "language": "python",
     "metadata": {},
     "outputs": [],
     "prompt_number": 5
    },
    {
     "cell_type": "code",
     "collapsed": false,
     "input": [
      "print ie.marginalMax(0)\n",
      "print ie.marginalMin(0)\n",
      "#gumnb.showMinMaxProbas(ie.marginalMin(0),ie.marginalMax(0))"
     ],
     "language": "python",
     "metadata": {},
     "outputs": [
      {
       "output_type": "stream",
       "stream": "stdout",
       "text": [
        "(0.6946171099006729, 0.5563446804044363)\n",
        "(0.4436553195955638, 0.3053828900993271)\n"
       ]
      }
     ],
     "prompt_number": 6
    },
    {
     "cell_type": "heading",
     "level": 2,
     "metadata": {},
     "source": [
      "Dynamical Credal Net"
     ]
    },
    {
     "cell_type": "code",
     "collapsed": false,
     "input": [
      "cn=gum.CredalNet(\"../resources/cn/bn_c_8.bif\",\"../resources/cn/den_c_8.bif\")\n",
      "cn.bnToCredal(0.8,False)"
     ],
     "language": "python",
     "metadata": {},
     "outputs": [],
     "prompt_number": 7
    },
    {
     "cell_type": "code",
     "collapsed": false,
     "input": [
      "ie=gum.CNMonteCarloSampling(cn)\n",
      "ie.insertModalsFile(\"../resources/cn/modalities.modal\")\n",
      "\n",
      "ie.setRepetitiveInd(True)\n",
      "ie.setMaxTime(30)\n",
      "ie.setMaxIter(1000)\n",
      "\n",
      "ie.makeInference()"
     ],
     "language": "python",
     "metadata": {},
     "outputs": [],
     "prompt_number": 8
    },
    {
     "cell_type": "code",
     "collapsed": false,
     "input": [
      "print ie.dynamicExpMax(\"temp\")"
     ],
     "language": "python",
     "metadata": {},
     "outputs": [
      {
       "output_type": "stream",
       "stream": "stdout",
       "text": [
        "(14.20340464862347, 11.911090684366485, 12.190483075680442, 12.031555584857191, 12.004198572496797, 12.008870898650432, 12.007860641421736, 12.007688078235907, 12.007727248106775)\n"
       ]
      }
     ],
     "prompt_number": 9
    },
    {
     "cell_type": "code",
     "collapsed": false,
     "input": [
      "fig=figure()\n",
      "ax=fig.add_subplot(111)\n",
      "ax.fill_between(range(9),ie.dynamicExpMax(\"temp\"),ie.dynamicExpMin(\"temp\"))"
     ],
     "language": "python",
     "metadata": {},
     "outputs": [
      {
       "metadata": {},
       "output_type": "pyout",
       "prompt_number": 10,
       "text": [
        "<matplotlib.collections.PolyCollection at 0x49c4890>"
       ]
      },
      {
       "metadata": {},
       "output_type": "display_data",
       "png": "[encoded data removed]",
       "text": [
        "<matplotlib.figure.Figure at 0x46e8950>"
       ]
      }
     ],
     "prompt_number": 10
    },
    {
     "cell_type": "code",
     "collapsed": false,
     "input": [
      "ie=gum.CNMonteCarloSampling(cn)\n",
      "ie.insertModalsFile(\"../resources/cn/modalities.modal\")\n",
      "\n",
      "ie.setRepetitiveInd(False)\n",
      "ie.setMaxTime(30)\n",
      "ie.setMaxIter(1000)\n",
      "\n",
      "ie.makeInference()\n"
     ],
     "language": "python",
     "metadata": {},
     "outputs": [],
     "prompt_number": 11
    },
    {
     "cell_type": "code",
     "collapsed": false,
     "input": [
      "fig=figure()\n",
      "ax=fig.add_subplot(111)\n",
      "ax.fill_between(range(9),ie.dynamicExpMax(\"temp\"),ie.dynamicExpMin(\"temp\"))"
     ],
     "language": "python",
     "metadata": {},
     "outputs": [
      {
       "metadata": {},
       "output_type": "pyout",
       "prompt_number": 12,
       "text": [
        "<matplotlib.collections.PolyCollection at 0x4666710>"
       ]
      },
      {
       "metadata": {},
       "output_type": "display_data",
       "png": "[encoded data removed]",
       "text": [
        "<matplotlib.figure.Figure at 0x4670b90>"
       ]
      }
     ],
     "prompt_number": 12
    },
    {
     "cell_type": "code",
     "collapsed": false,
     "input": [
      "ie=gum.CNMonteCarloSampling(cn)\n",
      "ie.insertModalsFile(\"../resources/cn/modalities.modal\")\n",
      "\n",
      "ie.setRepetitiveInd(False)\n",
      "ie.setMaxTime(30)\n",
      "ie.setMaxIter(1000)\n",
      "\n",
      "gumnb.animApproximationScheme(ie)\n",
      "ie.makeInference()\n",
      "\n",
      "fig=figure()\n",
      "ax=fig.add_subplot(111)\n",
      "ax.fill_between(range(9),ie.dynamicExpMax(\"temp\"),ie.dynamicExpMin(\"temp\"))\n",
      "\n",
      "ie.getApproximationSchemeMsg()"
     ],
     "language": "python",
     "metadata": {},
     "outputs": [
      {
       "output_type": "stream",
       "stream": "stdout",
       "text": [
        "Solutions : stopped with epsilon=0\n",
        "Time : 11.81735 s\n",
        "Iterations : 34000\n"
       ]
      },
      {
       "metadata": {},
       "output_type": "pyout",
       "prompt_number": 13,
       "text": [
        "'stopped with epsilon=0'"
       ]
      },
      {
       "metadata": {},
       "output_type": "display_data",
       "png": "[encoded data removed]",
       "text": [
        "<matplotlib.figure.Figure at 0x463f510>"
       ]
      },
      {
       "metadata": {},
       "output_type": "display_data",
       "png": "[encoded data removed]",
       "text": [
        "<matplotlib.figure.Figure at 0x461da50>"
       ]
      }
     ],
     "prompt_number": 13
    },
    {
     "cell_type": "code",
     "collapsed": false,
     "input": [],
     "language": "python",
     "metadata": {},
     "outputs": []
    }
   ],
   "metadata": {}
  }
 ]
}