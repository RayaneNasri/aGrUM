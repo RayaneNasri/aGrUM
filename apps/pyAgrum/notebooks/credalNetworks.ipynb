{
 "metadata": {
  "name": "",
  "signature": "sha256:eddd726eb34a019fda88f601fb878aa50f7e549500283c0fa4e66d2fd242b899"
 },
 "nbformat": 3,
 "nbformat_minor": 0,
 "worksheets": [
  {
   "cells": [
    {
     "cell_type": "code",
     "collapsed": false,
     "input": [
      "%matplotlib inline\n",
      "from pylab import *\n",
      "import matplotlib.pyplot as plt"
     ],
     "language": "python",
     "metadata": {},
     "outputs": [],
     "prompt_number": 1
    },
    {
     "cell_type": "code",
     "collapsed": false,
     "input": [
      "import pyAgrum as gum\n",
      "import gumLib.notebook as gumnb"
     ],
     "language": "python",
     "metadata": {},
     "outputs": [],
     "prompt_number": 2
    },
    {
     "cell_type": "heading",
     "level": 2,
     "metadata": {},
     "source": [
      "Static Credal Net"
     ]
    },
    {
     "cell_type": "code",
     "collapsed": false,
     "input": [
      "cn=gum.CredalNet(\"../resources/cn/2Umin.bif\",\"../resources/cn/2Umax.bif\")\n",
      "cn.intervalToCredal()"
     ],
     "language": "python",
     "metadata": {},
     "outputs": [],
     "prompt_number": 3
    },
    {
     "cell_type": "code",
     "collapsed": false,
     "input": [
      "gumnb.showBN(cn.current_bn(),\"3\")"
     ],
     "language": "python",
     "metadata": {},
     "outputs": [
      {
       "html": [
        "<div align='center'><svg height=\"202pt\" viewBox=\"0.00 0.00 216.00 202.01\" width=\"216pt\" xmlns=\"http://www.w3.org/2000/svg\" xmlns:xlink=\"http://www.w3.org/1999/xlink\">\n",
        "<g class=\"graph\" id=\"graph0\" transform=\"scale(0.776978 0.776978) rotate(0) translate(4 256)\">\n",
        "<title>G</title>\n",
        "<polygon fill=\"white\" points=\"-4,4 -4,-256 274,-256 274,4 -4,4\" stroke=\"none\"/>\n",
        "<!-- A -->\n",
        "<g class=\"node\" id=\"node1\"><title>A</title>\n",
        "<g id=\"a_node1\"><a xlink:title=\"(0) A\">\n",
        "<ellipse cx=\"27\" cy=\"-234\" fill=\"#444444\" rx=\"27\" ry=\"18\" stroke=\"black\"/>\n",
        "<text fill=\"#ffffff\" font-family=\"Times,serif\" font-size=\"14.00\" text-anchor=\"middle\" x=\"27\" y=\"-230.3\">A</text>\n",
        "</a>\n",
        "</g>\n",
        "</g>\n",
        "<!-- E -->\n",
        "<g class=\"node\" id=\"node5\"><title>E</title>\n",
        "<g id=\"a_node5\"><a xlink:title=\"(4) E\">\n",
        "<ellipse cx=\"99\" cy=\"-162\" fill=\"#444444\" rx=\"27\" ry=\"18\" stroke=\"black\"/>\n",
        "<text fill=\"#ffffff\" font-family=\"Times,serif\" font-size=\"14.00\" text-anchor=\"middle\" x=\"99\" y=\"-158.3\">E</text>\n",
        "</a>\n",
        "</g>\n",
        "</g>\n",
        "<!-- A&#45;&gt;E -->\n",
        "<g class=\"edge\" id=\"edge7\"><title>A-&gt;E</title>\n",
        "<path d=\"M41.5703,-218.834C51.7499,-208.938 65.5239,-195.546 77.0306,-184.359\" fill=\"none\" stroke=\"black\"/>\n",
        "<polygon fill=\"black\" points=\"79.4741,-186.865 84.2043,-177.385 74.5945,-181.846 79.4741,-186.865\" stroke=\"black\"/>\n",
        "</g>\n",
        "<!-- B -->\n",
        "<g class=\"node\" id=\"node2\"><title>B</title>\n",
        "<g id=\"a_node2\"><a xlink:title=\"(1) B\">\n",
        "<ellipse cx=\"99\" cy=\"-234\" fill=\"#444444\" rx=\"27\" ry=\"18\" stroke=\"black\"/>\n",
        "<text fill=\"#ffffff\" font-family=\"Times,serif\" font-size=\"14.00\" text-anchor=\"middle\" x=\"99\" y=\"-230.3\">B</text>\n",
        "</a>\n",
        "</g>\n",
        "</g>\n",
        "<!-- B&#45;&gt;E -->\n",
        "<g class=\"edge\" id=\"edge1\"><title>B-&gt;E</title>\n",
        "<path d=\"M99,-215.697C99,-207.983 99,-198.712 99,-190.112\" fill=\"none\" stroke=\"black\"/>\n",
        "<polygon fill=\"black\" points=\"102.5,-190.104 99,-180.104 95.5001,-190.104 102.5,-190.104\" stroke=\"black\"/>\n",
        "</g>\n",
        "<!-- C -->\n",
        "<g class=\"node\" id=\"node3\"><title>C</title>\n",
        "<g id=\"a_node3\"><a xlink:title=\"(2) C\">\n",
        "<ellipse cx=\"171\" cy=\"-234\" fill=\"#444444\" rx=\"27\" ry=\"18\" stroke=\"black\"/>\n",
        "<text fill=\"#ffffff\" font-family=\"Times,serif\" font-size=\"14.00\" text-anchor=\"middle\" x=\"171\" y=\"-230.3\">C</text>\n",
        "</a>\n",
        "</g>\n",
        "</g>\n",
        "<!-- F -->\n",
        "<g class=\"node\" id=\"node6\"><title>F</title>\n",
        "<g id=\"a_node6\"><a xlink:title=\"(5) F\">\n",
        "<ellipse cx=\"171\" cy=\"-162\" fill=\"#444444\" rx=\"27\" ry=\"18\" stroke=\"black\"/>\n",
        "<text fill=\"#ffffff\" font-family=\"Times,serif\" font-size=\"14.00\" text-anchor=\"middle\" x=\"171\" y=\"-158.3\">F</text>\n",
        "</a>\n",
        "</g>\n",
        "</g>\n",
        "<!-- C&#45;&gt;F -->\n",
        "<g class=\"edge\" id=\"edge8\"><title>C-&gt;F</title>\n",
        "<path d=\"M171,-215.697C171,-207.983 171,-198.712 171,-190.112\" fill=\"none\" stroke=\"black\"/>\n",
        "<polygon fill=\"black\" points=\"174.5,-190.104 171,-180.104 167.5,-190.104 174.5,-190.104\" stroke=\"black\"/>\n",
        "</g>\n",
        "<!-- D -->\n",
        "<g class=\"node\" id=\"node4\"><title>D</title>\n",
        "<g id=\"a_node4\"><a xlink:title=\"(3) D\">\n",
        "<ellipse cx=\"243\" cy=\"-234\" fill=\"#444444\" rx=\"27\" ry=\"18\" stroke=\"black\"/>\n",
        "<text fill=\"#ffffff\" font-family=\"Times,serif\" font-size=\"14.00\" text-anchor=\"middle\" x=\"243\" y=\"-230.3\">D</text>\n",
        "</a>\n",
        "</g>\n",
        "</g>\n",
        "<!-- D&#45;&gt;F -->\n",
        "<g class=\"edge\" id=\"edge2\"><title>D-&gt;F</title>\n",
        "<path d=\"M228.43,-218.834C218.25,-208.938 204.476,-195.546 192.969,-184.359\" fill=\"none\" stroke=\"black\"/>\n",
        "<polygon fill=\"black\" points=\"195.405,-181.846 185.796,-177.385 190.526,-186.865 195.405,-181.846\" stroke=\"black\"/>\n",
        "</g>\n",
        "<!-- G -->\n",
        "<g class=\"node\" id=\"node7\"><title>G</title>\n",
        "<g id=\"a_node7\"><a xlink:title=\"(6) G\">\n",
        "<ellipse cx=\"243\" cy=\"-162\" fill=\"#444444\" rx=\"27\" ry=\"18\" stroke=\"black\"/>\n",
        "<text fill=\"#ffffff\" font-family=\"Times,serif\" font-size=\"14.00\" text-anchor=\"middle\" x=\"243\" y=\"-158.3\">G</text>\n",
        "</a>\n",
        "</g>\n",
        "</g>\n",
        "<!-- D&#45;&gt;G -->\n",
        "<g class=\"edge\" id=\"edge4\"><title>D-&gt;G</title>\n",
        "<path d=\"M243,-215.697C243,-207.983 243,-198.712 243,-190.112\" fill=\"none\" stroke=\"black\"/>\n",
        "<polygon fill=\"black\" points=\"246.5,-190.104 243,-180.104 239.5,-190.104 246.5,-190.104\" stroke=\"black\"/>\n",
        "</g>\n",
        "<!-- H -->\n",
        "<g class=\"node\" id=\"node8\"><title>H</title>\n",
        "<g id=\"a_node8\"><a xlink:title=\"(7) H\">\n",
        "<ellipse cx=\"135\" cy=\"-90\" fill=\"#444444\" rx=\"27\" ry=\"18\" stroke=\"black\"/>\n",
        "<text fill=\"#ffffff\" font-family=\"Times,serif\" font-size=\"14.00\" text-anchor=\"middle\" x=\"135\" y=\"-86.3\">H</text>\n",
        "</a>\n",
        "</g>\n",
        "</g>\n",
        "<!-- E&#45;&gt;H -->\n",
        "<g class=\"edge\" id=\"edge3\"><title>E-&gt;H</title>\n",
        "<path d=\"M107.35,-144.765C111.712,-136.283 117.147,-125.714 122.041,-116.197\" fill=\"none\" stroke=\"black\"/>\n",
        "<polygon fill=\"black\" points=\"125.235,-117.641 126.696,-107.147 119.01,-114.439 125.235,-117.641\" stroke=\"black\"/>\n",
        "</g>\n",
        "<!-- F&#45;&gt;H -->\n",
        "<g class=\"edge\" id=\"edge5\"><title>F-&gt;H</title>\n",
        "<path d=\"M162.65,-144.765C158.288,-136.283 152.853,-125.714 147.959,-116.197\" fill=\"none\" stroke=\"black\"/>\n",
        "<polygon fill=\"black\" points=\"150.99,-114.439 143.304,-107.147 144.765,-117.641 150.99,-114.439\" stroke=\"black\"/>\n",
        "</g>\n",
        "<!-- L -->\n",
        "<g class=\"node\" id=\"node9\"><title>L</title>\n",
        "<g id=\"a_node9\"><a xlink:title=\"(8) L\">\n",
        "<ellipse cx=\"135\" cy=\"-18\" fill=\"#444444\" rx=\"27\" ry=\"18\" stroke=\"black\"/>\n",
        "<text fill=\"#ffffff\" font-family=\"Times,serif\" font-size=\"14.00\" text-anchor=\"middle\" x=\"135\" y=\"-14.3\">L</text>\n",
        "</a>\n",
        "</g>\n",
        "</g>\n",
        "<!-- H&#45;&gt;L -->\n",
        "<g class=\"edge\" id=\"edge6\"><title>H-&gt;L</title>\n",
        "<path d=\"M135,-71.6966C135,-63.9827 135,-54.7125 135,-46.1124\" fill=\"none\" stroke=\"black\"/>\n",
        "<polygon fill=\"black\" points=\"138.5,-46.1043 135,-36.1043 131.5,-46.1044 138.5,-46.1043\" stroke=\"black\"/>\n",
        "</g>\n",
        "</g>\n",
        "</svg></div>"
       ],
       "metadata": {},
       "output_type": "display_data",
       "text": [
        "<IPython.core.display.HTML at 0x7f0e6e8b4050>"
       ]
      }
     ],
     "prompt_number": 4
    },
    {
     "cell_type": "code",
     "collapsed": false,
     "input": [
      "ie=gum.CNMonteCarloSampling(cn)\n",
      "ie.insertEvidenceFile(\"../resources/cn/L2U.evi\")\n",
      "\n",
      "ie.setRepetitiveInd(False)\n",
      "ie.setMaxTime(1)\n",
      "ie.setMaxIter(1000)\n",
      "\n",
      "ie.makeInference()"
     ],
     "language": "python",
     "metadata": {},
     "outputs": [],
     "prompt_number": 5
    },
    {
     "cell_type": "code",
     "collapsed": false,
     "input": [
      "print ie.marginalMax(0)\n",
      "print ie.marginalMin(0)\n",
      "#gumnb.showMinMaxProbas(ie.marginalMin(0),ie.marginalMax(0))"
     ],
     "language": "python",
     "metadata": {},
     "outputs": [
      {
       "output_type": "stream",
       "stream": "stdout",
       "text": [
        "(0.6951887969055021, 0.566722972972973)\n",
        "(0.43327702702702703, 0.30481120309449783)\n"
       ]
      }
     ],
     "prompt_number": 6
    },
    {
     "cell_type": "heading",
     "level": 2,
     "metadata": {},
     "source": [
      "Dynamical Credal Net"
     ]
    },
    {
     "cell_type": "code",
     "collapsed": false,
     "input": [
      "cn=gum.CredalNet(\"../resources/cn/bn_c_8.bif\",\"../resources/cn/den_c_8.bif\")\n",
      "cn.bnToCredal(0.8,False)"
     ],
     "language": "python",
     "metadata": {},
     "outputs": [],
     "prompt_number": 7
    },
    {
     "cell_type": "code",
     "collapsed": false,
     "input": [
      "ie=gum.CNMonteCarloSampling(cn)\n",
      "ie.insertModalsFile(\"../resources/cn/modalities.modal\")\n",
      "\n",
      "ie.setRepetitiveInd(True)\n",
      "ie.setMaxTime(30)\n",
      "ie.setMaxIter(1000)\n",
      "\n",
      "ie.makeInference()"
     ],
     "language": "python",
     "metadata": {},
     "outputs": [],
     "prompt_number": 8
    },
    {
     "cell_type": "code",
     "collapsed": false,
     "input": [
      "print ie.dynamicExpMax(\"temp\")"
     ],
     "language": "python",
     "metadata": {},
     "outputs": [
      {
       "output_type": "stream",
       "stream": "stdout",
       "text": [
        "(14.20340464862347, 11.911090684366485, 12.190483075680442, 12.031555584857191, 12.004198572496797, 12.008870898650432, 12.007860641421736, 12.007688078235907, 12.007727248106775)\n"
       ]
      }
     ],
     "prompt_number": 9
    },
    {
     "cell_type": "code",
     "collapsed": false,
     "input": [
      "fig=figure()\n",
      "ax=fig.add_subplot(111)\n",
      "ax.fill_between(range(9),ie.dynamicExpMax(\"temp\"),ie.dynamicExpMin(\"temp\"))"
     ],
     "language": "python",
     "metadata": {},
     "outputs": [
      {
       "metadata": {},
       "output_type": "pyout",
       "prompt_number": 10,
       "text": [
        "<matplotlib.collections.PolyCollection at 0x7f0e6e89d5d0>"
       ]
      },
      {
       "metadata": {},
       "output_type": "display_data",
       "png": "[encoded data removed]",
       "text": [
        "<matplotlib.figure.Figure at 0x7f0e6e89dad0>"
       ]
      }
     ],
     "prompt_number": 10
    },
    {
     "cell_type": "code",
     "collapsed": false,
     "input": [
      "ie=gum.CNMonteCarloSampling(cn)\n",
      "ie.insertModalsFile(\"../resources/cn/modalities.modal\")\n",
      "\n",
      "ie.setRepetitiveInd(False)\n",
      "ie.setMaxTime(30)\n",
      "ie.setMaxIter(1000)\n",
      "\n",
      "ie.makeInference()\n"
     ],
     "language": "python",
     "metadata": {},
     "outputs": [],
     "prompt_number": 11
    },
    {
     "cell_type": "code",
     "collapsed": false,
     "input": [
      "fig=figure()\n",
      "ax=fig.add_subplot(111)\n",
      "ax.fill_between(range(9),ie.dynamicExpMax(\"temp\"),ie.dynamicExpMin(\"temp\"))"
     ],
     "language": "python",
     "metadata": {},
     "outputs": [
      {
       "metadata": {},
       "output_type": "pyout",
       "prompt_number": 12,
       "text": [
        "<matplotlib.collections.PolyCollection at 0x7f0e6d529c10>"
       ]
      },
      {
       "metadata": {},
       "output_type": "display_data",
       "png": "[encoded data removed]",
       "text": [
        "<matplotlib.figure.Figure at 0x7f0e6e938950>"
       ]
      }
     ],
     "prompt_number": 12
    },
    {
     "cell_type": "code",
     "collapsed": false,
     "input": [
      "ie=gum.CNMonteCarloSampling(cn)\n",
      "ie.insertModalsFile(\"../resources/cn/modalities.modal\")\n",
      "\n",
      "ie.setRepetitiveInd(False)\n",
      "ie.setMaxTime(30)\n",
      "ie.setMaxIter(1000)\n",
      "\n",
      "gumnb.animApproximationScheme(ie)\n",
      "ie.makeInference()\n",
      "\n",
      "fig=figure()\n",
      "ax=fig.add_subplot(111)\n",
      "ax.fill_between(range(9),ie.dynamicExpMax(\"temp\"),ie.dynamicExpMin(\"temp\"))\n",
      "\n",
      "ie.getApproximationSchemeMsg()"
     ],
     "language": "python",
     "metadata": {},
     "outputs": [
      {
       "metadata": {},
       "output_type": "pyout",
       "prompt_number": 13,
       "text": [
        "'stopped with epsilon=0'"
       ]
      },
      {
       "metadata": {},
       "output_type": "display_data",
       "png": "[encoded data removed]",
       "text": [
        "<matplotlib.figure.Figure at 0x7f0e6e92fd50>"
       ]
      },
      {
       "metadata": {},
       "output_type": "display_data",
       "png": "[encoded data removed]",
       "text": [
        "<matplotlib.figure.Figure at 0x7f0e6e926c90>"
       ]
      }
     ],
     "prompt_number": 13
    },
    {
     "cell_type": "code",
     "collapsed": false,
     "input": [],
     "language": "python",
     "metadata": {},
     "outputs": []
    }
   ],
   "metadata": {}
  }
 ]
}