{
 "cells": [
  {
   "cell_type": "code",
   "execution_count": 1,
   "metadata": {
    "collapsed": false
   },
   "outputs": [],
   "source": [
    "%matplotlib inline\n",
    "from pylab import *\n",
    "import matplotlib.pyplot as plt"
   ]
  },
  {
   "cell_type": "code",
   "execution_count": 2,
   "metadata": {
    "collapsed": false
   },
   "outputs": [
    {
     "data": {
      "text/html": [
       "<table width='100%'><tr><th>Library</th><th>Version</th></tr><tr><td>OS</td><td>posix [linux]</td></tr><tr><td>Python</td><td>3.5.0+ (default, Oct 11 2015, 09:05:38) \n",
       "[GCC 5.2.1 20151010]</td></tr><tr><td>IPython</td><td>4.0.0</td></tr><tr><td>MatPlotLib</td><td>1.5.0</td></tr><tr><td>Numpy</td><td>1.10.1</td></tr><tr><td>pyAgrum</td><td>0.9.2.9</td></tr></table><div align='right'><small>Tue Nov 03 10:37:26 2015 CET</small></div>"
      ],
      "text/plain": [
       "<IPython.core.display.HTML object>"
      ]
     },
     "execution_count": 2,
     "metadata": {},
     "output_type": "execute_result"
    }
   ],
   "source": [
    "import pyAgrum as gum\n",
    "import pyAgrum.lib.notebook as gnb\n",
    "gnb.configuration()"
   ]
  },
  {
   "cell_type": "markdown",
   "metadata": {},
   "source": [
    "## Static Credal Net"
   ]
  },
  {
   "cell_type": "code",
   "execution_count": 3,
   "metadata": {
    "collapsed": false
   },
   "outputs": [],
   "source": [
    "cn=gum.CredalNet(\"../resources/cn/2Umin.bif\",\"../resources/cn/2Umax.bif\")\n",
    "cn.intervalToCredal()"
   ]
  },
  {
   "cell_type": "code",
   "execution_count": 4,
   "metadata": {
    "collapsed": false
   },
   "outputs": [
    {
     "data": {
      "text/html": [
       "<div align='center'><svg height=\"202pt\" viewBox=\"0.00 0.00 216.00 202.01\" width=\"216pt\" xmlns=\"http://www.w3.org/2000/svg\" xmlns:xlink=\"http://www.w3.org/1999/xlink\">\n",
       "<g class=\"graph\" id=\"graph0\" transform=\"scale(0.776978 0.776978) rotate(0) translate(4 256)\">\n",
       "<title>G</title>\n",
       "<polygon fill=\"white\" points=\"-4,4 -4,-256 274,-256 274,4 -4,4\" stroke=\"none\"/>\n",
       "<!-- A -->\n",
       "<g class=\"node\" id=\"node1\"><title>A</title>\n",
       "<g id=\"a_node1\"><a xlink:title=\"(0) A\">\n",
       "<ellipse cx=\"27\" cy=\"-234\" fill=\"#444444\" rx=\"27\" ry=\"18\" stroke=\"black\"/>\n",
       "<text fill=\"#ffffff\" font-family=\"Times,serif\" font-size=\"14.00\" text-anchor=\"middle\" x=\"27\" y=\"-230.3\">A</text>\n",
       "</a>\n",
       "</g>\n",
       "</g>\n",
       "<!-- E -->\n",
       "<g class=\"node\" id=\"node5\"><title>E</title>\n",
       "<g id=\"a_node5\"><a xlink:title=\"(4) E\">\n",
       "<ellipse cx=\"99\" cy=\"-162\" fill=\"#444444\" rx=\"27\" ry=\"18\" stroke=\"black\"/>\n",
       "<text fill=\"#ffffff\" font-family=\"Times,serif\" font-size=\"14.00\" text-anchor=\"middle\" x=\"99\" y=\"-158.3\">E</text>\n",
       "</a>\n",
       "</g>\n",
       "</g>\n",
       "<!-- A&#45;&gt;E -->\n",
       "<g class=\"edge\" id=\"edge7\"><title>A-&gt;E</title>\n",
       "<path d=\"M41.5703,-218.834C51.7499,-208.938 65.5239,-195.546 77.0306,-184.359\" fill=\"none\" stroke=\"black\"/>\n",
       "<polygon fill=\"black\" points=\"79.4741,-186.865 84.2043,-177.385 74.5945,-181.846 79.4741,-186.865\" stroke=\"black\"/>\n",
       "</g>\n",
       "<!-- B -->\n",
       "<g class=\"node\" id=\"node2\"><title>B</title>\n",
       "<g id=\"a_node2\"><a xlink:title=\"(1) B\">\n",
       "<ellipse cx=\"99\" cy=\"-234\" fill=\"#444444\" rx=\"27\" ry=\"18\" stroke=\"black\"/>\n",
       "<text fill=\"#ffffff\" font-family=\"Times,serif\" font-size=\"14.00\" text-anchor=\"middle\" x=\"99\" y=\"-230.3\">B</text>\n",
       "</a>\n",
       "</g>\n",
       "</g>\n",
       "<!-- B&#45;&gt;E -->\n",
       "<g class=\"edge\" id=\"edge1\"><title>B-&gt;E</title>\n",
       "<path d=\"M99,-215.697C99,-207.983 99,-198.712 99,-190.112\" fill=\"none\" stroke=\"black\"/>\n",
       "<polygon fill=\"black\" points=\"102.5,-190.104 99,-180.104 95.5001,-190.104 102.5,-190.104\" stroke=\"black\"/>\n",
       "</g>\n",
       "<!-- C -->\n",
       "<g class=\"node\" id=\"node3\"><title>C</title>\n",
       "<g id=\"a_node3\"><a xlink:title=\"(2) C\">\n",
       "<ellipse cx=\"171\" cy=\"-234\" fill=\"#444444\" rx=\"27\" ry=\"18\" stroke=\"black\"/>\n",
       "<text fill=\"#ffffff\" font-family=\"Times,serif\" font-size=\"14.00\" text-anchor=\"middle\" x=\"171\" y=\"-230.3\">C</text>\n",
       "</a>\n",
       "</g>\n",
       "</g>\n",
       "<!-- F -->\n",
       "<g class=\"node\" id=\"node6\"><title>F</title>\n",
       "<g id=\"a_node6\"><a xlink:title=\"(5) F\">\n",
       "<ellipse cx=\"171\" cy=\"-162\" fill=\"#444444\" rx=\"27\" ry=\"18\" stroke=\"black\"/>\n",
       "<text fill=\"#ffffff\" font-family=\"Times,serif\" font-size=\"14.00\" text-anchor=\"middle\" x=\"171\" y=\"-158.3\">F</text>\n",
       "</a>\n",
       "</g>\n",
       "</g>\n",
       "<!-- C&#45;&gt;F -->\n",
       "<g class=\"edge\" id=\"edge8\"><title>C-&gt;F</title>\n",
       "<path d=\"M171,-215.697C171,-207.983 171,-198.712 171,-190.112\" fill=\"none\" stroke=\"black\"/>\n",
       "<polygon fill=\"black\" points=\"174.5,-190.104 171,-180.104 167.5,-190.104 174.5,-190.104\" stroke=\"black\"/>\n",
       "</g>\n",
       "<!-- D -->\n",
       "<g class=\"node\" id=\"node4\"><title>D</title>\n",
       "<g id=\"a_node4\"><a xlink:title=\"(3) D\">\n",
       "<ellipse cx=\"243\" cy=\"-234\" fill=\"#444444\" rx=\"27\" ry=\"18\" stroke=\"black\"/>\n",
       "<text fill=\"#ffffff\" font-family=\"Times,serif\" font-size=\"14.00\" text-anchor=\"middle\" x=\"243\" y=\"-230.3\">D</text>\n",
       "</a>\n",
       "</g>\n",
       "</g>\n",
       "<!-- D&#45;&gt;F -->\n",
       "<g class=\"edge\" id=\"edge2\"><title>D-&gt;F</title>\n",
       "<path d=\"M228.43,-218.834C218.25,-208.938 204.476,-195.546 192.969,-184.359\" fill=\"none\" stroke=\"black\"/>\n",
       "<polygon fill=\"black\" points=\"195.405,-181.846 185.796,-177.385 190.526,-186.865 195.405,-181.846\" stroke=\"black\"/>\n",
       "</g>\n",
       "<!-- G -->\n",
       "<g class=\"node\" id=\"node7\"><title>G</title>\n",
       "<g id=\"a_node7\"><a xlink:title=\"(6) G\">\n",
       "<ellipse cx=\"243\" cy=\"-162\" fill=\"#444444\" rx=\"27\" ry=\"18\" stroke=\"black\"/>\n",
       "<text fill=\"#ffffff\" font-family=\"Times,serif\" font-size=\"14.00\" text-anchor=\"middle\" x=\"243\" y=\"-158.3\">G</text>\n",
       "</a>\n",
       "</g>\n",
       "</g>\n",
       "<!-- D&#45;&gt;G -->\n",
       "<g class=\"edge\" id=\"edge4\"><title>D-&gt;G</title>\n",
       "<path d=\"M243,-215.697C243,-207.983 243,-198.712 243,-190.112\" fill=\"none\" stroke=\"black\"/>\n",
       "<polygon fill=\"black\" points=\"246.5,-190.104 243,-180.104 239.5,-190.104 246.5,-190.104\" stroke=\"black\"/>\n",
       "</g>\n",
       "<!-- H -->\n",
       "<g class=\"node\" id=\"node8\"><title>H</title>\n",
       "<g id=\"a_node8\"><a xlink:title=\"(7) H\">\n",
       "<ellipse cx=\"135\" cy=\"-90\" fill=\"#444444\" rx=\"27\" ry=\"18\" stroke=\"black\"/>\n",
       "<text fill=\"#ffffff\" font-family=\"Times,serif\" font-size=\"14.00\" text-anchor=\"middle\" x=\"135\" y=\"-86.3\">H</text>\n",
       "</a>\n",
       "</g>\n",
       "</g>\n",
       "<!-- E&#45;&gt;H -->\n",
       "<g class=\"edge\" id=\"edge3\"><title>E-&gt;H</title>\n",
       "<path d=\"M107.35,-144.765C111.712,-136.283 117.147,-125.714 122.041,-116.197\" fill=\"none\" stroke=\"black\"/>\n",
       "<polygon fill=\"black\" points=\"125.235,-117.641 126.696,-107.147 119.01,-114.439 125.235,-117.641\" stroke=\"black\"/>\n",
       "</g>\n",
       "<!-- F&#45;&gt;H -->\n",
       "<g class=\"edge\" id=\"edge5\"><title>F-&gt;H</title>\n",
       "<path d=\"M162.65,-144.765C158.288,-136.283 152.853,-125.714 147.959,-116.197\" fill=\"none\" stroke=\"black\"/>\n",
       "<polygon fill=\"black\" points=\"150.99,-114.439 143.304,-107.147 144.765,-117.641 150.99,-114.439\" stroke=\"black\"/>\n",
       "</g>\n",
       "<!-- L -->\n",
       "<g class=\"node\" id=\"node9\"><title>L</title>\n",
       "<g id=\"a_node9\"><a xlink:title=\"(8) L\">\n",
       "<ellipse cx=\"135\" cy=\"-18\" fill=\"#444444\" rx=\"27\" ry=\"18\" stroke=\"black\"/>\n",
       "<text fill=\"#ffffff\" font-family=\"Times,serif\" font-size=\"14.00\" text-anchor=\"middle\" x=\"135\" y=\"-14.3\">L</text>\n",
       "</a>\n",
       "</g>\n",
       "</g>\n",
       "<!-- H&#45;&gt;L -->\n",
       "<g class=\"edge\" id=\"edge6\"><title>H-&gt;L</title>\n",
       "<path d=\"M135,-71.6966C135,-63.9827 135,-54.7125 135,-46.1124\" fill=\"none\" stroke=\"black\"/>\n",
       "<polygon fill=\"black\" points=\"138.5,-46.1043 135,-36.1043 131.5,-46.1044 138.5,-46.1043\" stroke=\"black\"/>\n",
       "</g>\n",
       "</g>\n",
       "</svg></div>"
      ],
      "text/plain": [
       "<IPython.core.display.HTML object>"
      ]
     },
     "metadata": {},
     "output_type": "display_data"
    }
   ],
   "source": [
    "gnb.showBN(cn.current_bn(),\"3\")"
   ]
  },
  {
   "cell_type": "code",
   "execution_count": 5,
   "metadata": {
    "collapsed": false
   },
   "outputs": [],
   "source": [
    "ie=gum.CNMonteCarloSampling(cn)\n",
    "ie.insertEvidenceFile(\"../resources/cn/L2U.evi\")"
   ]
  },
  {
   "cell_type": "code",
   "execution_count": 6,
   "metadata": {
    "collapsed": false
   },
   "outputs": [],
   "source": [
    "ie.setRepetitiveInd(False)\n",
    "\n",
    "ie.setRepetitiveInd(False)\n",
    "ie.setMaxTime(1)\n",
    "ie.setMaxIter(1000)\n",
    "\n",
    "ie.makeInference()"
   ]
  },
  {
   "cell_type": "code",
   "execution_count": 7,
   "metadata": {
    "collapsed": false
   },
   "outputs": [
    {
     "name": "stdout",
     "output_type": "stream",
     "text": [
      "(0.6944481096655478, 0.5600598791000375)\n",
      "(0.4399401208999626, 0.30555189033445207)\n"
     ]
    }
   ],
   "source": [
    "print(ie.marginalMax(0))\n",
    "print(ie.marginalMin(0))"
   ]
  },
  {
   "cell_type": "markdown",
   "metadata": {},
   "source": [
    "## Dynamical Credal Net"
   ]
  },
  {
   "cell_type": "code",
   "execution_count": 8,
   "metadata": {
    "collapsed": false
   },
   "outputs": [],
   "source": [
    "cn=gum.CredalNet(\"../resources/cn/bn_c_8.bif\",\"../resources/cn/den_c_8.bif\")\n",
    "cn.bnToCredal(0.8,False)"
   ]
  },
  {
   "cell_type": "code",
   "execution_count": 9,
   "metadata": {
    "collapsed": false
   },
   "outputs": [],
   "source": [
    "ie=gum.CNMonteCarloSampling(cn)\n",
    "ie.insertModalsFile(\"../resources/cn/modalities.modal\")\n",
    "\n",
    "ie.setRepetitiveInd(True)\n",
    "ie.setMaxTime(30)\n",
    "ie.setMaxIter(1000)\n",
    "\n",
    "ie.makeInference()"
   ]
  },
  {
   "cell_type": "code",
   "execution_count": 10,
   "metadata": {
    "collapsed": false
   },
   "outputs": [
    {
     "name": "stdout",
     "output_type": "stream",
     "text": [
      "(14.20340463585978, 11.911090727297022, 12.190483111797988, 12.031555626094853, 12.004198563223472, 12.008870939724428, 12.007860681770776, 12.007688128877898, 12.007727248106775)\n"
     ]
    }
   ],
   "source": [
    "print(ie.dynamicExpMax(\"temp\"))"
   ]
  },
  {
   "cell_type": "code",
   "execution_count": 11,
   "metadata": {
    "collapsed": false
   },
   "outputs": [
    {
     "data": {
      "text/plain": [
       "<matplotlib.collections.PolyCollection at 0x7f967794d748>"
      ]
     },
     "execution_count": 11,
     "metadata": {},
     "output_type": "execute_result"
    },
    {
     "data": {
      "image/png": "[encoded data removed]",
      "text/plain": [
       "<matplotlib.figure.Figure at 0x7f967793de10>"
      ]
     },
     "metadata": {},
     "output_type": "display_data"
    }
   ],
   "source": [
    "fig=figure()\n",
    "ax=fig.add_subplot(111)\n",
    "ax.fill_between(range(9),ie.dynamicExpMax(\"temp\"),ie.dynamicExpMin(\"temp\"))"
   ]
  },
  {
   "cell_type": "code",
   "execution_count": 12,
   "metadata": {
    "collapsed": false
   },
   "outputs": [],
   "source": [
    "ie=gum.CNMonteCarloSampling(cn)\n",
    "ie.insertModalsFile(\"../resources/cn/modalities.modal\")\n",
    "\n",
    "ie.setRepetitiveInd(False)\n",
    "ie.setMaxTime(30)\n",
    "ie.setMaxIter(1000)\n",
    "\n",
    "ie.makeInference()\n"
   ]
  },
  {
   "cell_type": "code",
   "execution_count": 13,
   "metadata": {
    "collapsed": false
   },
   "outputs": [
    {
     "data": {
      "text/plain": [
       "<matplotlib.collections.PolyCollection at 0x7f9677bc2b00>"
      ]
     },
     "execution_count": 13,
     "metadata": {},
     "output_type": "execute_result"
    },
    {
     "data": {
      "image/png": "[encoded data removed]",
      "text/plain": [
       "<matplotlib.figure.Figure at 0x7f9677f365c0>"
      ]
     },
     "metadata": {},
     "output_type": "display_data"
    }
   ],
   "source": [
    "fig=figure()\n",
    "ax=fig.add_subplot(111)\n",
    "ax.fill_between(range(9),ie.dynamicExpMax(\"temp\"),ie.dynamicExpMin(\"temp\"))"
   ]
  },
  {
   "cell_type": "code",
   "execution_count": 14,
   "metadata": {
    "collapsed": false
   },
   "outputs": [
    {
     "ename": "AttributeError",
     "evalue": "'SwigPyObject' object has no attribute 'setVerbosity'",
     "output_type": "error",
     "traceback": [
      "\u001b[1;31m---------------------------------------------------------------------------\u001b[0m",
      "\u001b[1;31mAttributeError\u001b[0m                            Traceback (most recent call last)",
      "\u001b[1;32m<ipython-input-14-66d86711d6e9>\u001b[0m in \u001b[0;36m<module>\u001b[1;34m()\u001b[0m\n\u001b[0;32m      6\u001b[0m \u001b[0mie\u001b[0m\u001b[1;33m.\u001b[0m\u001b[0msetMaxIter\u001b[0m\u001b[1;33m(\u001b[0m\u001b[1;36m1000\u001b[0m\u001b[1;33m)\u001b[0m\u001b[1;33m\u001b[0m\u001b[0m\n\u001b[0;32m      7\u001b[0m \u001b[1;33m\u001b[0m\u001b[0m\n\u001b[1;32m----> 8\u001b[1;33m \u001b[0mgnb\u001b[0m\u001b[1;33m.\u001b[0m\u001b[0manimApproximationScheme\u001b[0m\u001b[1;33m(\u001b[0m\u001b[0mie\u001b[0m\u001b[1;33m.\u001b[0m\u001b[0masApproximationScheme\u001b[0m\u001b[1;33m(\u001b[0m\u001b[1;33m)\u001b[0m\u001b[1;33m)\u001b[0m \u001b[1;31m#ie should be sufficient but not for CNMonteCarloSampling\u001b[0m\u001b[1;33m\u001b[0m\u001b[0m\n\u001b[0m\u001b[0;32m      9\u001b[0m \u001b[0mie\u001b[0m\u001b[1;33m.\u001b[0m\u001b[0mmakeInference\u001b[0m\u001b[1;33m(\u001b[0m\u001b[1;33m)\u001b[0m\u001b[1;33m\u001b[0m\u001b[0m\n\u001b[0;32m     10\u001b[0m \u001b[1;33m\u001b[0m\u001b[0m\n",
      "\u001b[1;32m/home/phw/usr/lib/python3.5/site-packages/pyAgrum/lib/notebook.py\u001b[0m in \u001b[0;36manimApproximationScheme\u001b[1;34m(apsc, scale)\u001b[0m\n\u001b[0;32m    135\u001b[0m \u001b[1;33m\u001b[0m\u001b[0m\n\u001b[0;32m    136\u001b[0m   \u001b[0mh\u001b[0m\u001b[1;33m=\u001b[0m\u001b[0mgum\u001b[0m\u001b[1;33m.\u001b[0m\u001b[0mPythonApproximationListener\u001b[0m\u001b[1;33m(\u001b[0m\u001b[0mapsc\u001b[0m\u001b[1;33m)\u001b[0m\u001b[1;33m\u001b[0m\u001b[0m\n\u001b[1;32m--> 137\u001b[1;33m   \u001b[0mapsc\u001b[0m\u001b[1;33m.\u001b[0m\u001b[0msetVerbosity\u001b[0m\u001b[1;33m(\u001b[0m\u001b[1;32mTrue\u001b[0m\u001b[1;33m)\u001b[0m\u001b[1;33m\u001b[0m\u001b[0m\n\u001b[0m\u001b[0;32m    138\u001b[0m   \u001b[0mapsc\u001b[0m\u001b[1;33m.\u001b[0m\u001b[0mlistener\u001b[0m\u001b[1;33m=\u001b[0m\u001b[0mh\u001b[0m\u001b[1;33m\u001b[0m\u001b[0m\n\u001b[0;32m    139\u001b[0m \u001b[1;33m\u001b[0m\u001b[0m\n",
      "\u001b[1;31mAttributeError\u001b[0m: 'SwigPyObject' object has no attribute 'setVerbosity'"
     ]
    },
    {
     "data": {
      "text/plain": [
       "<matplotlib.figure.Figure at 0x7f967785bb38>"
      ]
     },
     "metadata": {},
     "output_type": "display_data"
    }
   ],
   "source": [
    "ie=gum.CNMonteCarloSampling(cn)\n",
    "ie.insertModalsFile(\"../resources/cn/modalities.modal\")\n",
    "\n",
    "ie.setRepetitiveInd(False)\n",
    "ie.setMaxTime(30)\n",
    "ie.setMaxIter(1000)\n",
    "\n",
    "gnb.animApproximationScheme(ie)\n",
    "ie.makeInference()\n",
    "\n",
    "fig=figure()\n",
    "ax=fig.add_subplot(111)\n",
    "ax.fill_between(range(9),ie.dynamicExpMax(\"temp\"),ie.dynamicExpMin(\"temp\"))\n"
   ]
  },
  {
   "cell_type": "code",
   "execution_count": null,
   "metadata": {
    "collapsed": true
   },
   "outputs": [],
   "source": []
  }
 ],
 "metadata": {
  "kernelspec": {
   "display_name": "Python 3",
   "language": "python",
   "name": "python3"
  },
  "language_info": {
   "codemirror_mode": {
    "name": "ipython",
    "version": 3
   },
   "file_extension": ".py",
   "mimetype": "text/x-python",
   "name": "python",
   "nbconvert_exporter": "python",
   "pygments_lexer": "ipython3",
   "version": "3.5.0+"
  }
 },
 "nbformat": 4,
 "nbformat_minor": 0
}
