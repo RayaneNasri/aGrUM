{
 "metadata": {
  "name": ""
 },
 "nbformat": 3,
 "nbformat_minor": 0,
 "worksheets": [
  {
   "cells": [
    {
     "cell_type": "markdown",
     "metadata": {},
     "source": [
      "Initialisation\n",
      "==============\n",
      "\n",
      "* importing pyAgrum\n",
      "* importing gumLib tools\n",
      "* loading a BN"
     ]
    },
    {
     "cell_type": "code",
     "collapsed": true,
     "input": [
      "import pyAgrum as gum\n",
      "import gumLib.notebook as gnb"
     ],
     "language": "python",
     "metadata": {},
     "outputs": [],
     "prompt_number": 1
    },
    {
     "cell_type": "heading",
     "level": 2,
     "metadata": {},
     "source": [
      "Loading two BNs"
     ]
    },
    {
     "cell_type": "code",
     "collapsed": false,
     "input": [
      "bn=gum.loadBN(\"../resources/asia.bif\")\n",
      "bn2=gum.loadBN(\"../resources/asia.bif\")\n",
      "\n",
      "gnb.showBN(bn,size=\"3\")\n",
      "gnb.showBN(bn2,size=\"3\")"
     ],
     "language": "python",
     "metadata": {},
     "outputs": [
      {
       "html": [
        "<div align='center'><svg height=\"166pt\" viewBox=\"0.00 0.00 216.00 166.15\" width=\"216pt\" xmlns=\"http://www.w3.org/2000/svg\" xmlns:xlink=\"http://www.w3.org/1999/xlink\">\n",
        "<g class=\"graph\" id=\"graph0\" transform=\"scale(0.639053 0.639053) rotate(0) translate(4 256)\">\n",
        "<title>G</title>\n",
        "<polygon fill=\"white\" points=\"-4,4 -4,-256 334,-256 334,4 -4,4\" stroke=\"none\"/>\n",
        "<!-- visit_to_Asia? -->\n",
        "<g class=\"node\" id=\"node1\"><title>visit_to_Asia?</title>\n",
        "<ellipse cx=\"61\" cy=\"-234\" fill=\"#666666\" rx=\"61.6163\" ry=\"18\" stroke=\"black\"/>\n",
        "<text fill=\"#ffffff\" font-family=\"Times,serif\" font-size=\"14.00\" text-anchor=\"middle\" x=\"61\" y=\"-230.3\">visit_to_Asia?</text>\n",
        "</g>\n",
        "<!-- tuberculosis? -->\n",
        "<g class=\"node\" id=\"node2\"><title>tuberculosis?</title>\n",
        "<ellipse cx=\"61\" cy=\"-162\" fill=\"#666666\" rx=\"57.2927\" ry=\"18\" stroke=\"black\"/>\n",
        "<text fill=\"#ffffff\" font-family=\"Times,serif\" font-size=\"14.00\" text-anchor=\"middle\" x=\"61\" y=\"-158.3\">tuberculosis?</text>\n",
        "</g>\n",
        "<!-- visit_to_Asia?&#45;&gt;tuberculosis? -->\n",
        "<g class=\"edge\" id=\"edge1\"><title>visit_to_Asia?-&gt;tuberculosis?</title>\n",
        "<path d=\"M61,-215.697C61,-207.983 61,-198.712 61,-190.112\" fill=\"none\" stroke=\"black\"/>\n",
        "<polygon fill=\"black\" points=\"64.5001,-190.104 61,-180.104 57.5001,-190.104 64.5001,-190.104\" stroke=\"black\"/>\n",
        "</g>\n",
        "<!-- tuberculos_or_cancer? -->\n",
        "<g class=\"node\" id=\"node3\"><title>tuberculos_or_cancer?</title>\n",
        "<ellipse cx=\"122\" cy=\"-90\" fill=\"#666666\" rx=\"90.0136\" ry=\"18\" stroke=\"black\"/>\n",
        "<text fill=\"#ffffff\" font-family=\"Times,serif\" font-size=\"14.00\" text-anchor=\"middle\" x=\"122\" y=\"-86.3\">tuberculos_or_cancer?</text>\n",
        "</g>\n",
        "<!-- tuberculosis?&#45;&gt;tuberculos_or_cancer? -->\n",
        "<g class=\"edge\" id=\"edge6\"><title>tuberculosis?-&gt;tuberculos_or_cancer?</title>\n",
        "<path d=\"M75.4561,-144.411C82.9428,-135.82 92.2325,-125.159 100.539,-115.627\" fill=\"none\" stroke=\"black\"/>\n",
        "<polygon fill=\"black\" points=\"103.293,-117.795 107.224,-107.956 98.0154,-113.196 103.293,-117.795\" stroke=\"black\"/>\n",
        "</g>\n",
        "<!-- positive_XraY? -->\n",
        "<g class=\"node\" id=\"node4\"><title>positive_XraY?</title>\n",
        "<ellipse cx=\"122\" cy=\"-18\" fill=\"#666666\" rx=\"65.9423\" ry=\"18\" stroke=\"black\"/>\n",
        "<text fill=\"#ffffff\" font-family=\"Times,serif\" font-size=\"14.00\" text-anchor=\"middle\" x=\"122\" y=\"-14.3\">positive_XraY?</text>\n",
        "</g>\n",
        "<!-- tuberculos_or_cancer?&#45;&gt;positive_XraY? -->\n",
        "<g class=\"edge\" id=\"edge3\"><title>tuberculos_or_cancer?-&gt;positive_XraY?</title>\n",
        "<path d=\"M122,-71.6966C122,-63.9827 122,-54.7125 122,-46.1124\" fill=\"none\" stroke=\"black\"/>\n",
        "<polygon fill=\"black\" points=\"125.5,-46.1043 122,-36.1043 118.5,-46.1044 125.5,-46.1043\" stroke=\"black\"/>\n",
        "</g>\n",
        "<!-- dyspnoea? -->\n",
        "<g class=\"node\" id=\"node8\"><title>dyspnoea?</title>\n",
        "<ellipse cx=\"267\" cy=\"-18\" fill=\"#666666\" rx=\"48.1437\" ry=\"18\" stroke=\"black\"/>\n",
        "<text fill=\"#ffffff\" font-family=\"Times,serif\" font-size=\"14.00\" text-anchor=\"middle\" x=\"267\" y=\"-14.3\">dyspnoea?</text>\n",
        "</g>\n",
        "<!-- tuberculos_or_cancer?&#45;&gt;dyspnoea? -->\n",
        "<g class=\"edge\" id=\"edge4\"><title>tuberculos_or_cancer?-&gt;dyspnoea?</title>\n",
        "<path d=\"M154.903,-73.1159C177.081,-62.4091 206.391,-48.2595 229.478,-37.1142\" fill=\"none\" stroke=\"black\"/>\n",
        "<polygon fill=\"black\" points=\"231.147,-40.1949 238.631,-32.6954 228.104,-33.891 231.147,-40.1949\" stroke=\"black\"/>\n",
        "</g>\n",
        "<!-- lung_cancer? -->\n",
        "<g class=\"node\" id=\"node5\"><title>lung_cancer?</title>\n",
        "<ellipse cx=\"194\" cy=\"-162\" fill=\"#666666\" rx=\"57.2688\" ry=\"18\" stroke=\"black\"/>\n",
        "<text fill=\"#ffffff\" font-family=\"Times,serif\" font-size=\"14.00\" text-anchor=\"middle\" x=\"194\" y=\"-158.3\">lung_cancer?</text>\n",
        "</g>\n",
        "<!-- lung_cancer?&#45;&gt;tuberculos_or_cancer? -->\n",
        "<g class=\"edge\" id=\"edge5\"><title>lung_cancer?-&gt;tuberculos_or_cancer?</title>\n",
        "<path d=\"M177.301,-144.765C168.297,-136.011 157.005,-125.033 146.977,-115.283\" fill=\"none\" stroke=\"black\"/>\n",
        "<polygon fill=\"black\" points=\"149.223,-112.585 139.613,-108.124 144.343,-117.604 149.223,-112.585\" stroke=\"black\"/>\n",
        "</g>\n",
        "<!-- smoking? -->\n",
        "<g class=\"node\" id=\"node6\"><title>smoking?</title>\n",
        "<ellipse cx=\"237\" cy=\"-234\" fill=\"#666666\" rx=\"45.244\" ry=\"18\" stroke=\"black\"/>\n",
        "<text fill=\"#ffffff\" font-family=\"Times,serif\" font-size=\"14.00\" text-anchor=\"middle\" x=\"237\" y=\"-230.3\">smoking?</text>\n",
        "</g>\n",
        "<!-- smoking?&#45;&gt;lung_cancer? -->\n",
        "<g class=\"edge\" id=\"edge7\"><title>smoking?-&gt;lung_cancer?</title>\n",
        "<path d=\"M226.81,-216.411C221.69,-208.077 215.375,-197.797 209.657,-188.488\" fill=\"none\" stroke=\"black\"/>\n",
        "<polygon fill=\"black\" points=\"212.632,-186.645 204.416,-179.956 206.668,-190.309 212.632,-186.645\" stroke=\"black\"/>\n",
        "</g>\n",
        "<!-- bronchitis? -->\n",
        "<g class=\"node\" id=\"node7\"><title>bronchitis?</title>\n",
        "<ellipse cx=\"280\" cy=\"-90\" fill=\"#666666\" rx=\"50.0684\" ry=\"18\" stroke=\"black\"/>\n",
        "<text fill=\"#ffffff\" font-family=\"Times,serif\" font-size=\"14.00\" text-anchor=\"middle\" x=\"280\" y=\"-86.3\">bronchitis?</text>\n",
        "</g>\n",
        "<!-- smoking?&#45;&gt;bronchitis? -->\n",
        "<g class=\"edge\" id=\"edge2\"><title>smoking?-&gt;bronchitis?</title>\n",
        "<path d=\"M245.292,-216.131C250.089,-205.871 255.957,-192.397 260,-180 266.659,-159.58 271.876,-135.818 275.309,-117.985\" fill=\"none\" stroke=\"black\"/>\n",
        "<polygon fill=\"black\" points=\"278.781,-118.458 277.168,-107.986 271.899,-117.178 278.781,-118.458\" stroke=\"black\"/>\n",
        "</g>\n",
        "<!-- bronchitis?&#45;&gt;dyspnoea? -->\n",
        "<g class=\"edge\" id=\"edge8\"><title>bronchitis?-&gt;dyspnoea?</title>\n",
        "<path d=\"M276.787,-71.6966C275.354,-63.9827 273.632,-54.7125 272.035,-46.1124\" fill=\"none\" stroke=\"black\"/>\n",
        "<polygon fill=\"black\" points=\"275.444,-45.2971 270.177,-36.1043 268.561,-46.5753 275.444,-45.2971\" stroke=\"black\"/>\n",
        "</g>\n",
        "</g>\n",
        "</svg></div>"
       ],
       "metadata": {},
       "output_type": "display_data",
       "text": [
        "<IPython.core.display.HTML at 0x7f4147dc6c50>"
       ]
      },
      {
       "html": [
        "<div align='center'><svg height=\"166pt\" viewBox=\"0.00 0.00 216.00 166.15\" width=\"216pt\" xmlns=\"http://www.w3.org/2000/svg\" xmlns:xlink=\"http://www.w3.org/1999/xlink\">\n",
        "<g class=\"graph\" id=\"graph0\" transform=\"scale(0.639053 0.639053) rotate(0) translate(4 256)\">\n",
        "<title>G</title>\n",
        "<polygon fill=\"white\" points=\"-4,4 -4,-256 334,-256 334,4 -4,4\" stroke=\"none\"/>\n",
        "<!-- visit_to_Asia? -->\n",
        "<g class=\"node\" id=\"node1\"><title>visit_to_Asia?</title>\n",
        "<ellipse cx=\"61\" cy=\"-234\" fill=\"#666666\" rx=\"61.6163\" ry=\"18\" stroke=\"black\"/>\n",
        "<text fill=\"#ffffff\" font-family=\"Times,serif\" font-size=\"14.00\" text-anchor=\"middle\" x=\"61\" y=\"-230.3\">visit_to_Asia?</text>\n",
        "</g>\n",
        "<!-- tuberculosis? -->\n",
        "<g class=\"node\" id=\"node2\"><title>tuberculosis?</title>\n",
        "<ellipse cx=\"61\" cy=\"-162\" fill=\"#666666\" rx=\"57.2927\" ry=\"18\" stroke=\"black\"/>\n",
        "<text fill=\"#ffffff\" font-family=\"Times,serif\" font-size=\"14.00\" text-anchor=\"middle\" x=\"61\" y=\"-158.3\">tuberculosis?</text>\n",
        "</g>\n",
        "<!-- visit_to_Asia?&#45;&gt;tuberculosis? -->\n",
        "<g class=\"edge\" id=\"edge1\"><title>visit_to_Asia?-&gt;tuberculosis?</title>\n",
        "<path d=\"M61,-215.697C61,-207.983 61,-198.712 61,-190.112\" fill=\"none\" stroke=\"black\"/>\n",
        "<polygon fill=\"black\" points=\"64.5001,-190.104 61,-180.104 57.5001,-190.104 64.5001,-190.104\" stroke=\"black\"/>\n",
        "</g>\n",
        "<!-- tuberculos_or_cancer? -->\n",
        "<g class=\"node\" id=\"node3\"><title>tuberculos_or_cancer?</title>\n",
        "<ellipse cx=\"122\" cy=\"-90\" fill=\"#666666\" rx=\"90.0136\" ry=\"18\" stroke=\"black\"/>\n",
        "<text fill=\"#ffffff\" font-family=\"Times,serif\" font-size=\"14.00\" text-anchor=\"middle\" x=\"122\" y=\"-86.3\">tuberculos_or_cancer?</text>\n",
        "</g>\n",
        "<!-- tuberculosis?&#45;&gt;tuberculos_or_cancer? -->\n",
        "<g class=\"edge\" id=\"edge6\"><title>tuberculosis?-&gt;tuberculos_or_cancer?</title>\n",
        "<path d=\"M75.4561,-144.411C82.9428,-135.82 92.2325,-125.159 100.539,-115.627\" fill=\"none\" stroke=\"black\"/>\n",
        "<polygon fill=\"black\" points=\"103.293,-117.795 107.224,-107.956 98.0154,-113.196 103.293,-117.795\" stroke=\"black\"/>\n",
        "</g>\n",
        "<!-- positive_XraY? -->\n",
        "<g class=\"node\" id=\"node4\"><title>positive_XraY?</title>\n",
        "<ellipse cx=\"122\" cy=\"-18\" fill=\"#666666\" rx=\"65.9423\" ry=\"18\" stroke=\"black\"/>\n",
        "<text fill=\"#ffffff\" font-family=\"Times,serif\" font-size=\"14.00\" text-anchor=\"middle\" x=\"122\" y=\"-14.3\">positive_XraY?</text>\n",
        "</g>\n",
        "<!-- tuberculos_or_cancer?&#45;&gt;positive_XraY? -->\n",
        "<g class=\"edge\" id=\"edge3\"><title>tuberculos_or_cancer?-&gt;positive_XraY?</title>\n",
        "<path d=\"M122,-71.6966C122,-63.9827 122,-54.7125 122,-46.1124\" fill=\"none\" stroke=\"black\"/>\n",
        "<polygon fill=\"black\" points=\"125.5,-46.1043 122,-36.1043 118.5,-46.1044 125.5,-46.1043\" stroke=\"black\"/>\n",
        "</g>\n",
        "<!-- dyspnoea? -->\n",
        "<g class=\"node\" id=\"node8\"><title>dyspnoea?</title>\n",
        "<ellipse cx=\"267\" cy=\"-18\" fill=\"#666666\" rx=\"48.1437\" ry=\"18\" stroke=\"black\"/>\n",
        "<text fill=\"#ffffff\" font-family=\"Times,serif\" font-size=\"14.00\" text-anchor=\"middle\" x=\"267\" y=\"-14.3\">dyspnoea?</text>\n",
        "</g>\n",
        "<!-- tuberculos_or_cancer?&#45;&gt;dyspnoea? -->\n",
        "<g class=\"edge\" id=\"edge4\"><title>tuberculos_or_cancer?-&gt;dyspnoea?</title>\n",
        "<path d=\"M154.903,-73.1159C177.081,-62.4091 206.391,-48.2595 229.478,-37.1142\" fill=\"none\" stroke=\"black\"/>\n",
        "<polygon fill=\"black\" points=\"231.147,-40.1949 238.631,-32.6954 228.104,-33.891 231.147,-40.1949\" stroke=\"black\"/>\n",
        "</g>\n",
        "<!-- lung_cancer? -->\n",
        "<g class=\"node\" id=\"node5\"><title>lung_cancer?</title>\n",
        "<ellipse cx=\"194\" cy=\"-162\" fill=\"#666666\" rx=\"57.2688\" ry=\"18\" stroke=\"black\"/>\n",
        "<text fill=\"#ffffff\" font-family=\"Times,serif\" font-size=\"14.00\" text-anchor=\"middle\" x=\"194\" y=\"-158.3\">lung_cancer?</text>\n",
        "</g>\n",
        "<!-- lung_cancer?&#45;&gt;tuberculos_or_cancer? -->\n",
        "<g class=\"edge\" id=\"edge5\"><title>lung_cancer?-&gt;tuberculos_or_cancer?</title>\n",
        "<path d=\"M177.301,-144.765C168.297,-136.011 157.005,-125.033 146.977,-115.283\" fill=\"none\" stroke=\"black\"/>\n",
        "<polygon fill=\"black\" points=\"149.223,-112.585 139.613,-108.124 144.343,-117.604 149.223,-112.585\" stroke=\"black\"/>\n",
        "</g>\n",
        "<!-- smoking? -->\n",
        "<g class=\"node\" id=\"node6\"><title>smoking?</title>\n",
        "<ellipse cx=\"237\" cy=\"-234\" fill=\"#666666\" rx=\"45.244\" ry=\"18\" stroke=\"black\"/>\n",
        "<text fill=\"#ffffff\" font-family=\"Times,serif\" font-size=\"14.00\" text-anchor=\"middle\" x=\"237\" y=\"-230.3\">smoking?</text>\n",
        "</g>\n",
        "<!-- smoking?&#45;&gt;lung_cancer? -->\n",
        "<g class=\"edge\" id=\"edge7\"><title>smoking?-&gt;lung_cancer?</title>\n",
        "<path d=\"M226.81,-216.411C221.69,-208.077 215.375,-197.797 209.657,-188.488\" fill=\"none\" stroke=\"black\"/>\n",
        "<polygon fill=\"black\" points=\"212.632,-186.645 204.416,-179.956 206.668,-190.309 212.632,-186.645\" stroke=\"black\"/>\n",
        "</g>\n",
        "<!-- bronchitis? -->\n",
        "<g class=\"node\" id=\"node7\"><title>bronchitis?</title>\n",
        "<ellipse cx=\"280\" cy=\"-90\" fill=\"#666666\" rx=\"50.0684\" ry=\"18\" stroke=\"black\"/>\n",
        "<text fill=\"#ffffff\" font-family=\"Times,serif\" font-size=\"14.00\" text-anchor=\"middle\" x=\"280\" y=\"-86.3\">bronchitis?</text>\n",
        "</g>\n",
        "<!-- smoking?&#45;&gt;bronchitis? -->\n",
        "<g class=\"edge\" id=\"edge2\"><title>smoking?-&gt;bronchitis?</title>\n",
        "<path d=\"M245.292,-216.131C250.089,-205.871 255.957,-192.397 260,-180 266.659,-159.58 271.876,-135.818 275.309,-117.985\" fill=\"none\" stroke=\"black\"/>\n",
        "<polygon fill=\"black\" points=\"278.781,-118.458 277.168,-107.986 271.899,-117.178 278.781,-118.458\" stroke=\"black\"/>\n",
        "</g>\n",
        "<!-- bronchitis?&#45;&gt;dyspnoea? -->\n",
        "<g class=\"edge\" id=\"edge8\"><title>bronchitis?-&gt;dyspnoea?</title>\n",
        "<path d=\"M276.787,-71.6966C275.354,-63.9827 273.632,-54.7125 272.035,-46.1124\" fill=\"none\" stroke=\"black\"/>\n",
        "<polygon fill=\"black\" points=\"275.444,-45.2971 270.177,-36.1043 268.561,-46.5753 275.444,-45.2971\" stroke=\"black\"/>\n",
        "</g>\n",
        "</g>\n",
        "</svg></div>"
       ],
       "metadata": {},
       "output_type": "display_data",
       "text": [
        "<IPython.core.display.HTML at 0x7f414783b1d0>"
       ]
      }
     ],
     "prompt_number": 2
    },
    {
     "cell_type": "heading",
     "level": 2,
     "metadata": {},
     "source": [
      "Randomizing the parameters"
     ]
    },
    {
     "cell_type": "code",
     "collapsed": false,
     "input": [
      "bn.generateCPTs()\n",
      "bn2.generateCPTs()"
     ],
     "language": "python",
     "metadata": {},
     "outputs": [],
     "prompt_number": 3
    },
    {
     "cell_type": "heading",
     "level": 2,
     "metadata": {},
     "source": [
      "Direct comparison of parameters"
     ]
    },
    {
     "cell_type": "code",
     "collapsed": false,
     "input": [
      "from gumLib.pretty_print import pretty_cpt\n",
      "print(\"ORIGINAL BN\")\n",
      "pretty_cpt(bn.cpt(3))\n",
      "print(\"SCRAMBLED BN\")\n",
      "pretty_cpt(bn2.cpt(3))"
     ],
     "language": "python",
     "metadata": {},
     "outputs": [
      {
       "output_type": "stream",
       "stream": "stdout",
       "text": [
        "ORIGINAL BN\n",
        "                       |---------------|\n",
        "-----------------------|positive_XraY? |\n",
        " tuberculos_or_cancer? |   d1     d2   |\n",
        "-----------------------|---------------|\n",
        "          c1           | 0.2597 0.7403 |\n",
        "          c2           | 0.9142 0.0858 |\n",
        "-----------------------|---------------|\n",
        "SCRAMBLED BN\n",
        "                       |---------------|\n",
        "-----------------------|positive_XraY? |\n",
        " tuberculos_or_cancer? |   d1     d2   |\n",
        "-----------------------|---------------|\n",
        "          c1           | 0.4572 0.5428 |\n",
        "          c2           | 0.1341 0.8659 |\n",
        "-----------------------|---------------|\n"
       ]
      }
     ],
     "prompt_number": 4
    },
    {
     "cell_type": "heading",
     "level": 2,
     "metadata": {},
     "source": [
      "Exact KL-divergence "
     ]
    },
    {
     "cell_type": "markdown",
     "metadata": {},
     "source": [
      "Since the BN is not too big, BruteForceKL can be computed ..."
     ]
    },
    {
     "cell_type": "code",
     "collapsed": false,
     "input": [
      "g1=gum.BruteForceKL(bn,bn2)\n",
      "before_learning=g1.compute()\n",
      "print(before_learning['klPQ'])"
     ],
     "language": "python",
     "metadata": {},
     "outputs": [
      {
       "output_type": "stream",
       "stream": "stdout",
       "text": [
        "3.50238344475\n"
       ]
      }
     ],
     "prompt_number": 5
    },
    {
     "cell_type": "markdown",
     "metadata": {},
     "source": [
      "Just to be sure that the distance between a BN and itself is 0 :"
     ]
    },
    {
     "cell_type": "code",
     "collapsed": false,
     "input": [
      "g0=gum.BruteForceKL(bn,bn)\n",
      "print(g0.compute()['klPQ'])"
     ],
     "language": "python",
     "metadata": {},
     "outputs": [
      {
       "output_type": "stream",
       "stream": "stdout",
       "text": [
        "0.0\n"
       ]
      }
     ],
     "prompt_number": 6
    },
    {
     "cell_type": "heading",
     "level": 2,
     "metadata": {},
     "source": [
      "Generate a database from the original BN"
     ]
    },
    {
     "cell_type": "code",
     "collapsed": false,
     "input": [
      "from gumLib.bn2csv import generateCSV\n",
      "generateCSV(bn,\"test.csv\",10000,True)"
     ],
     "language": "python",
     "metadata": {},
     "outputs": [
      {
       "output_type": "stream",
       "stream": "stdout",
       "text": [
        "test.csv \r"
       ]
      },
      {
       "output_type": "stream",
       "stream": "stdout",
       "text": [
        "\r",
        "test.csv : [                                                                  ] 1%"
       ]
      },
      {
       "output_type": "stream",
       "stream": "stdout",
       "text": [
        " \r",
        "test.csv : [ #                                                                ] 2%"
       ]
      },
      {
       "output_type": "stream",
       "stream": "stdout",
       "text": [
        " \r",
        "test.csv : [ #                                                                ] 3%"
       ]
      },
      {
       "output_type": "stream",
       "stream": "stdout",
       "text": [
        " \r",
        "test.csv : [ ##                                                               ] 4%"
       ]
      },
      {
       "output_type": "stream",
       "stream": "stdout",
       "text": [
        " \r",
        "test.csv : [ ###                                                              ] 5%"
       ]
      },
      {
       "output_type": "stream",
       "stream": "stdout",
       "text": [
        " \r",
        "test.csv : [ ###                                                              ] 6%"
       ]
      },
      {
       "output_type": "stream",
       "stream": "stdout",
       "text": [
        " \r",
        "test.csv : [ ####                                                             ] 7%"
       ]
      },
      {
       "output_type": "stream",
       "stream": "stdout",
       "text": [
        " \r",
        "test.csv : [ #####                                                            ] 8%"
       ]
      },
      {
       "output_type": "stream",
       "stream": "stdout",
       "text": [
        " \r",
        "test.csv : [ #####                                                            ] 9%"
       ]
      },
      {
       "output_type": "stream",
       "stream": "stdout",
       "text": [
        " \r",
        "test.csv : [ ######                                                           ] 10%"
       ]
      },
      {
       "output_type": "stream",
       "stream": "stdout",
       "text": [
        " \r",
        "test.csv : [ #######                                                          ] 11%"
       ]
      },
      {
       "output_type": "stream",
       "stream": "stdout",
       "text": [
        " \r",
        "test.csv : [ #######                                                          ] 12%"
       ]
      },
      {
       "output_type": "stream",
       "stream": "stdout",
       "text": [
        " \r",
        "test.csv : [ ########                                                         ] 13%"
       ]
      },
      {
       "output_type": "stream",
       "stream": "stdout",
       "text": [
        " \r",
        "test.csv : [ ########                                                         ] 14%"
       ]
      },
      {
       "output_type": "stream",
       "stream": "stdout",
       "text": [
        " \r",
        "test.csv : [ #########                                                        ] 15%"
       ]
      },
      {
       "output_type": "stream",
       "stream": "stdout",
       "text": [
        " \r",
        "test.csv : [ ##########                                                       ] 16%"
       ]
      },
      {
       "output_type": "stream",
       "stream": "stdout",
       "text": [
        " \r",
        "test.csv : [ ##########                                                       ] 17%"
       ]
      },
      {
       "output_type": "stream",
       "stream": "stdout",
       "text": [
        " \r",
        "test.csv : [ ###########                                                      ] 18%"
       ]
      },
      {
       "output_type": "stream",
       "stream": "stdout",
       "text": [
        " \r",
        "test.csv : [ ############                                                     ] 19%"
       ]
      },
      {
       "output_type": "stream",
       "stream": "stdout",
       "text": [
        " \r",
        "test.csv : [ ############                                                     ] 20%"
       ]
      },
      {
       "output_type": "stream",
       "stream": "stdout",
       "text": [
        " \r",
        "test.csv : [ #############                                                    ] 21%"
       ]
      },
      {
       "output_type": "stream",
       "stream": "stdout",
       "text": [
        " \r",
        "test.csv : [ ##############                                                   ] 22%"
       ]
      },
      {
       "output_type": "stream",
       "stream": "stdout",
       "text": [
        " \r",
        "test.csv : [ ##############                                                   ] 23%"
       ]
      },
      {
       "output_type": "stream",
       "stream": "stdout",
       "text": [
        " \r",
        "test.csv : [ ###############                                                  ] 24%"
       ]
      },
      {
       "output_type": "stream",
       "stream": "stdout",
       "text": [
        " \r",
        "test.csv : [ ################                                                 ] 25%"
       ]
      },
      {
       "output_type": "stream",
       "stream": "stdout",
       "text": [
        " \r",
        "test.csv : [ ################                                                 ] 26%"
       ]
      },
      {
       "output_type": "stream",
       "stream": "stdout",
       "text": [
        " \r",
        "test.csv : [ #################                                                ] 27%"
       ]
      },
      {
       "output_type": "stream",
       "stream": "stdout",
       "text": [
        " \r",
        "test.csv : [ #################                                                ] 28%"
       ]
      },
      {
       "output_type": "stream",
       "stream": "stdout",
       "text": [
        " \r",
        "test.csv : [ ##################                                               ] 29%"
       ]
      },
      {
       "output_type": "stream",
       "stream": "stdout",
       "text": [
        " \r",
        "test.csv : [ ###################                                              ] 30%"
       ]
      },
      {
       "output_type": "stream",
       "stream": "stdout",
       "text": [
        " \r",
        "test.csv : [ ###################                                              ] 31%"
       ]
      },
      {
       "output_type": "stream",
       "stream": "stdout",
       "text": [
        " \r",
        "test.csv : [ ####################                                             ] 32%"
       ]
      },
      {
       "output_type": "stream",
       "stream": "stdout",
       "text": [
        " \r",
        "test.csv : [ #####################                                            ] 33%"
       ]
      },
      {
       "output_type": "stream",
       "stream": "stdout",
       "text": [
        " \r",
        "test.csv : [ #####################                                            ] 34%"
       ]
      },
      {
       "output_type": "stream",
       "stream": "stdout",
       "text": [
        " \r",
        "test.csv : [ ######################                                           ] 35%"
       ]
      },
      {
       "output_type": "stream",
       "stream": "stdout",
       "text": [
        " \r",
        "test.csv : [ #######################                                          ] 36%"
       ]
      },
      {
       "output_type": "stream",
       "stream": "stdout",
       "text": [
        " \r",
        "test.csv : [ #######################                                          ] 37%"
       ]
      },
      {
       "output_type": "stream",
       "stream": "stdout",
       "text": [
        " \r",
        "test.csv : [ ########################                                         ] 38%"
       ]
      },
      {
       "output_type": "stream",
       "stream": "stdout",
       "text": [
        " \r",
        "test.csv : [ ########################                                         ] 39%"
       ]
      },
      {
       "output_type": "stream",
       "stream": "stdout",
       "text": [
        " \r",
        "test.csv : [ #########################                                        ] 40%"
       ]
      },
      {
       "output_type": "stream",
       "stream": "stdout",
       "text": [
        " \r",
        "test.csv : [ ##########################                                       ] 41%"
       ]
      },
      {
       "output_type": "stream",
       "stream": "stdout",
       "text": [
        " \r",
        "test.csv : [ ##########################                                       ] 42%"
       ]
      },
      {
       "output_type": "stream",
       "stream": "stdout",
       "text": [
        " \r",
        "test.csv : [ ###########################                                      ] 43%"
       ]
      },
      {
       "output_type": "stream",
       "stream": "stdout",
       "text": [
        " \r",
        "test.csv : [ ############################                                     ] 44%"
       ]
      },
      {
       "output_type": "stream",
       "stream": "stdout",
       "text": [
        " \r",
        "test.csv : [ ############################                                     ] 45%"
       ]
      },
      {
       "output_type": "stream",
       "stream": "stdout",
       "text": [
        " \r",
        "test.csv : [ #############################                                    ] 46%"
       ]
      },
      {
       "output_type": "stream",
       "stream": "stdout",
       "text": [
        " \r",
        "test.csv : [ ##############################                                   ] 47%"
       ]
      },
      {
       "output_type": "stream",
       "stream": "stdout",
       "text": [
        " \r",
        "test.csv : [ ##############################                                   ] 48%"
       ]
      },
      {
       "output_type": "stream",
       "stream": "stdout",
       "text": [
        " \r",
        "test.csv : [ ###############################                                  ] 49%"
       ]
      },
      {
       "output_type": "stream",
       "stream": "stdout",
       "text": [
        " \r",
        "test.csv : [ ################################                                 ] 50%"
       ]
      },
      {
       "output_type": "stream",
       "stream": "stdout",
       "text": [
        " \r",
        "test.csv : [ ################################                                 ] 51%"
       ]
      },
      {
       "output_type": "stream",
       "stream": "stdout",
       "text": [
        " \r",
        "test.csv : [ #################################                                ] 52%"
       ]
      },
      {
       "output_type": "stream",
       "stream": "stdout",
       "text": [
        " \r",
        "test.csv : [ #################################                                ] 53%"
       ]
      },
      {
       "output_type": "stream",
       "stream": "stdout",
       "text": [
        " \r",
        "test.csv : [ ##################################                               ] 54%"
       ]
      },
      {
       "output_type": "stream",
       "stream": "stdout",
       "text": [
        " \r",
        "test.csv : [ ###################################                              ] 55%"
       ]
      },
      {
       "output_type": "stream",
       "stream": "stdout",
       "text": [
        " \r",
        "test.csv : [ ###################################                              ] 56%"
       ]
      },
      {
       "output_type": "stream",
       "stream": "stdout",
       "text": [
        " \r",
        "test.csv : [ ####################################                             ] 57%"
       ]
      },
      {
       "output_type": "stream",
       "stream": "stdout",
       "text": [
        " \r",
        "test.csv : [ #####################################                            ] 58%"
       ]
      },
      {
       "output_type": "stream",
       "stream": "stdout",
       "text": [
        " \r",
        "test.csv : [ #####################################                            ] 59%"
       ]
      },
      {
       "output_type": "stream",
       "stream": "stdout",
       "text": [
        " \r",
        "test.csv : [ ######################################                           ] 60%"
       ]
      },
      {
       "output_type": "stream",
       "stream": "stdout",
       "text": [
        " \r",
        "test.csv : [ #######################################                          ] 61%"
       ]
      },
      {
       "output_type": "stream",
       "stream": "stdout",
       "text": [
        " \r",
        "test.csv : [ #######################################                          ] 62%"
       ]
      },
      {
       "output_type": "stream",
       "stream": "stdout",
       "text": [
        " \r",
        "test.csv : [ ########################################                         ] 63%"
       ]
      },
      {
       "output_type": "stream",
       "stream": "stdout",
       "text": [
        " \r",
        "test.csv : [ ########################################                         ] 64%"
       ]
      },
      {
       "output_type": "stream",
       "stream": "stdout",
       "text": [
        " \r",
        "test.csv : [ #########################################                        ] 65%"
       ]
      },
      {
       "output_type": "stream",
       "stream": "stdout",
       "text": [
        " \r",
        "test.csv : [ ##########################################                       ] 66%"
       ]
      },
      {
       "output_type": "stream",
       "stream": "stdout",
       "text": [
        " \r",
        "test.csv : [ ##########################################                       ] 67%"
       ]
      },
      {
       "output_type": "stream",
       "stream": "stdout",
       "text": [
        " \r",
        "test.csv : [ ###########################################                      ] 68%"
       ]
      },
      {
       "output_type": "stream",
       "stream": "stdout",
       "text": [
        " \r",
        "test.csv : [ ############################################                     ] 69%"
       ]
      },
      {
       "output_type": "stream",
       "stream": "stdout",
       "text": [
        " \r",
        "test.csv : [ ############################################                     ] 70%"
       ]
      },
      {
       "output_type": "stream",
       "stream": "stdout",
       "text": [
        " \r",
        "test.csv : [ #############################################                    ] 71%"
       ]
      },
      {
       "output_type": "stream",
       "stream": "stdout",
       "text": [
        " \r",
        "test.csv : [ ##############################################                   ] 72%"
       ]
      },
      {
       "output_type": "stream",
       "stream": "stdout",
       "text": [
        " \r",
        "test.csv : [ ##############################################                   ] 73%"
       ]
      },
      {
       "output_type": "stream",
       "stream": "stdout",
       "text": [
        " \r",
        "test.csv : [ ###############################################                  ] 74%"
       ]
      },
      {
       "output_type": "stream",
       "stream": "stdout",
       "text": [
        " \r",
        "test.csv : [ ################################################                 ] 75%"
       ]
      },
      {
       "output_type": "stream",
       "stream": "stdout",
       "text": [
        " \r",
        "test.csv : [ ################################################                 ] 76%"
       ]
      },
      {
       "output_type": "stream",
       "stream": "stdout",
       "text": [
        " \r",
        "test.csv : [ #################################################                ] 77%"
       ]
      },
      {
       "output_type": "stream",
       "stream": "stdout",
       "text": [
        " \r",
        "test.csv : [ #################################################                ] 78%"
       ]
      },
      {
       "output_type": "stream",
       "stream": "stdout",
       "text": [
        " \r",
        "test.csv : [ ##################################################               ] 79%"
       ]
      },
      {
       "output_type": "stream",
       "stream": "stdout",
       "text": [
        " \r",
        "test.csv : [ ###################################################              ] 80%"
       ]
      },
      {
       "output_type": "stream",
       "stream": "stdout",
       "text": [
        " \r",
        "test.csv : [ ###################################################              ] 81%"
       ]
      },
      {
       "output_type": "stream",
       "stream": "stdout",
       "text": [
        " \r",
        "test.csv : [ ####################################################             ] 82%"
       ]
      },
      {
       "output_type": "stream",
       "stream": "stdout",
       "text": [
        " \r",
        "test.csv : [ #####################################################            ] 83%"
       ]
      },
      {
       "output_type": "stream",
       "stream": "stdout",
       "text": [
        " \r",
        "test.csv : [ #####################################################            ] 84%"
       ]
      },
      {
       "output_type": "stream",
       "stream": "stdout",
       "text": [
        " \r",
        "test.csv : [ ######################################################           ] 85%"
       ]
      },
      {
       "output_type": "stream",
       "stream": "stdout",
       "text": [
        " \r",
        "test.csv : [ #######################################################          ] 86%"
       ]
      },
      {
       "output_type": "stream",
       "stream": "stdout",
       "text": [
        " \r",
        "test.csv : [ #######################################################          ] 87%"
       ]
      },
      {
       "output_type": "stream",
       "stream": "stdout",
       "text": [
        " \r",
        "test.csv : [ ########################################################         ] 88%"
       ]
      },
      {
       "output_type": "stream",
       "stream": "stdout",
       "text": [
        " \r",
        "test.csv : [ ########################################################         ] 89%"
       ]
      },
      {
       "output_type": "stream",
       "stream": "stdout",
       "text": [
        " \r",
        "test.csv : [ #########################################################        ] 90%"
       ]
      },
      {
       "output_type": "stream",
       "stream": "stdout",
       "text": [
        " \r",
        "test.csv : [ ##########################################################       ] 91%"
       ]
      },
      {
       "output_type": "stream",
       "stream": "stdout",
       "text": [
        " \r",
        "test.csv : [ ##########################################################       ] 92%"
       ]
      },
      {
       "output_type": "stream",
       "stream": "stdout",
       "text": [
        " \r",
        "test.csv : [ ###########################################################      ] 93%"
       ]
      },
      {
       "output_type": "stream",
       "stream": "stdout",
       "text": [
        " \r",
        "test.csv : [ ############################################################     ] 94%"
       ]
      },
      {
       "output_type": "stream",
       "stream": "stdout",
       "text": [
        " \r",
        "test.csv : [ ############################################################     ] 95%"
       ]
      },
      {
       "output_type": "stream",
       "stream": "stdout",
       "text": [
        " \r",
        "test.csv : [ #############################################################    ] 96%"
       ]
      },
      {
       "output_type": "stream",
       "stream": "stdout",
       "text": [
        " \r",
        "test.csv : [ ##############################################################   ] 97%"
       ]
      },
      {
       "output_type": "stream",
       "stream": "stdout",
       "text": [
        " \r",
        "test.csv : [ ##############################################################   ] 98%"
       ]
      },
      {
       "output_type": "stream",
       "stream": "stdout",
       "text": [
        " \r",
        "test.csv : [ ###############################################################  ] 99%"
       ]
      },
      {
       "output_type": "stream",
       "stream": "stdout",
       "text": [
        " \r",
        "test.csv : [ ################################################################ ] 100%"
       ]
      },
      {
       "output_type": "stream",
       "stream": "stdout",
       "text": [
        "\n",
        "Log2-Likelihood : -59868.3929766\n",
        "\n"
       ]
      },
      {
       "metadata": {},
       "output_type": "pyout",
       "prompt_number": 7,
       "text": [
        "-59868.392976554125"
       ]
      }
     ],
     "prompt_number": 7
    },
    {
     "cell_type": "heading",
     "level": 2,
     "metadata": {},
     "source": [
      "Using pandas for counting"
     ]
    },
    {
     "cell_type": "code",
     "collapsed": false,
     "input": [
      "import pandas\n",
      "df=pandas.read_csv('test.csv')\n",
      "df"
     ],
     "language": "python",
     "metadata": {},
     "outputs": [
      {
       "html": [
        "<div style=\"max-height:1000px;max-width:1500px;overflow:auto;\">\n",
        "<table border=\"1\" class=\"dataframe\">\n",
        "  <thead>\n",
        "    <tr style=\"text-align: right;\">\n",
        "      <th></th>\n",
        "      <th>smoking?</th>\n",
        "      <th>lung_cancer?</th>\n",
        "      <th>bronchitis?</th>\n",
        "      <th>visit_to_Asia?</th>\n",
        "      <th>tuberculosis?</th>\n",
        "      <th>tuberculos_or_cancer?</th>\n",
        "      <th>dyspnoea?</th>\n",
        "      <th>positive_XraY?</th>\n",
        "    </tr>\n",
        "  </thead>\n",
        "  <tbody>\n",
        "    <tr>\n",
        "      <th>0 </th>\n",
        "      <td> 0</td>\n",
        "      <td> 1</td>\n",
        "      <td> 0</td>\n",
        "      <td> 0</td>\n",
        "      <td> 1</td>\n",
        "      <td> 0</td>\n",
        "      <td> 1</td>\n",
        "      <td> 1</td>\n",
        "    </tr>\n",
        "    <tr>\n",
        "      <th>1 </th>\n",
        "      <td> 1</td>\n",
        "      <td> 0</td>\n",
        "      <td> 0</td>\n",
        "      <td> 0</td>\n",
        "      <td> 1</td>\n",
        "      <td> 0</td>\n",
        "      <td> 1</td>\n",
        "      <td> 0</td>\n",
        "    </tr>\n",
        "    <tr>\n",
        "      <th>2 </th>\n",
        "      <td> 1</td>\n",
        "      <td> 0</td>\n",
        "      <td> 1</td>\n",
        "      <td> 0</td>\n",
        "      <td> 0</td>\n",
        "      <td> 1</td>\n",
        "      <td> 1</td>\n",
        "      <td> 0</td>\n",
        "    </tr>\n",
        "    <tr>\n",
        "      <th>3 </th>\n",
        "      <td> 1</td>\n",
        "      <td> 0</td>\n",
        "      <td> 0</td>\n",
        "      <td> 0</td>\n",
        "      <td> 1</td>\n",
        "      <td> 0</td>\n",
        "      <td> 1</td>\n",
        "      <td> 1</td>\n",
        "    </tr>\n",
        "    <tr>\n",
        "      <th>4 </th>\n",
        "      <td> 1</td>\n",
        "      <td> 0</td>\n",
        "      <td> 1</td>\n",
        "      <td> 0</td>\n",
        "      <td> 1</td>\n",
        "      <td> 0</td>\n",
        "      <td> 1</td>\n",
        "      <td> 0</td>\n",
        "    </tr>\n",
        "    <tr>\n",
        "      <th>5 </th>\n",
        "      <td> 0</td>\n",
        "      <td> 0</td>\n",
        "      <td> 0</td>\n",
        "      <td> 0</td>\n",
        "      <td> 1</td>\n",
        "      <td> 0</td>\n",
        "      <td> 1</td>\n",
        "      <td> 1</td>\n",
        "    </tr>\n",
        "    <tr>\n",
        "      <th>6 </th>\n",
        "      <td> 1</td>\n",
        "      <td> 0</td>\n",
        "      <td> 1</td>\n",
        "      <td> 0</td>\n",
        "      <td> 1</td>\n",
        "      <td> 0</td>\n",
        "      <td> 0</td>\n",
        "      <td> 1</td>\n",
        "    </tr>\n",
        "    <tr>\n",
        "      <th>7 </th>\n",
        "      <td> 1</td>\n",
        "      <td> 0</td>\n",
        "      <td> 1</td>\n",
        "      <td> 1</td>\n",
        "      <td> 0</td>\n",
        "      <td> 1</td>\n",
        "      <td> 1</td>\n",
        "      <td> 0</td>\n",
        "    </tr>\n",
        "    <tr>\n",
        "      <th>8 </th>\n",
        "      <td> 1</td>\n",
        "      <td> 1</td>\n",
        "      <td> 1</td>\n",
        "      <td> 0</td>\n",
        "      <td> 1</td>\n",
        "      <td> 1</td>\n",
        "      <td> 0</td>\n",
        "      <td> 0</td>\n",
        "    </tr>\n",
        "    <tr>\n",
        "      <th>9 </th>\n",
        "      <td> 1</td>\n",
        "      <td> 0</td>\n",
        "      <td> 1</td>\n",
        "      <td> 1</td>\n",
        "      <td> 0</td>\n",
        "      <td> 1</td>\n",
        "      <td> 0</td>\n",
        "      <td> 0</td>\n",
        "    </tr>\n",
        "    <tr>\n",
        "      <th>10</th>\n",
        "      <td> 0</td>\n",
        "      <td> 0</td>\n",
        "      <td> 0</td>\n",
        "      <td> 0</td>\n",
        "      <td> 1</td>\n",
        "      <td> 1</td>\n",
        "      <td> 0</td>\n",
        "      <td> 0</td>\n",
        "    </tr>\n",
        "    <tr>\n",
        "      <th>11</th>\n",
        "      <td> 1</td>\n",
        "      <td> 1</td>\n",
        "      <td> 1</td>\n",
        "      <td> 0</td>\n",
        "      <td> 1</td>\n",
        "      <td> 0</td>\n",
        "      <td> 1</td>\n",
        "      <td> 0</td>\n",
        "    </tr>\n",
        "    <tr>\n",
        "      <th>12</th>\n",
        "      <td> 1</td>\n",
        "      <td> 1</td>\n",
        "      <td> 1</td>\n",
        "      <td> 0</td>\n",
        "      <td> 1</td>\n",
        "      <td> 0</td>\n",
        "      <td> 0</td>\n",
        "      <td> 1</td>\n",
        "    </tr>\n",
        "    <tr>\n",
        "      <th>13</th>\n",
        "      <td> 1</td>\n",
        "      <td> 1</td>\n",
        "      <td> 1</td>\n",
        "      <td> 0</td>\n",
        "      <td> 1</td>\n",
        "      <td> 0</td>\n",
        "      <td> 0</td>\n",
        "      <td> 1</td>\n",
        "    </tr>\n",
        "    <tr>\n",
        "      <th>14</th>\n",
        "      <td> 1</td>\n",
        "      <td> 0</td>\n",
        "      <td> 0</td>\n",
        "      <td> 1</td>\n",
        "      <td> 0</td>\n",
        "      <td> 1</td>\n",
        "      <td> 1</td>\n",
        "      <td> 0</td>\n",
        "    </tr>\n",
        "    <tr>\n",
        "      <th>15</th>\n",
        "      <td> 1</td>\n",
        "      <td> 0</td>\n",
        "      <td> 1</td>\n",
        "      <td> 0</td>\n",
        "      <td> 1</td>\n",
        "      <td> 0</td>\n",
        "      <td> 1</td>\n",
        "      <td> 1</td>\n",
        "    </tr>\n",
        "    <tr>\n",
        "      <th>16</th>\n",
        "      <td> 1</td>\n",
        "      <td> 0</td>\n",
        "      <td> 1</td>\n",
        "      <td> 1</td>\n",
        "      <td> 1</td>\n",
        "      <td> 1</td>\n",
        "      <td> 1</td>\n",
        "      <td> 0</td>\n",
        "    </tr>\n",
        "    <tr>\n",
        "      <th>17</th>\n",
        "      <td> 1</td>\n",
        "      <td> 0</td>\n",
        "      <td> 1</td>\n",
        "      <td> 1</td>\n",
        "      <td> 0</td>\n",
        "      <td> 1</td>\n",
        "      <td> 1</td>\n",
        "      <td> 0</td>\n",
        "    </tr>\n",
        "    <tr>\n",
        "      <th>18</th>\n",
        "      <td> 1</td>\n",
        "      <td> 0</td>\n",
        "      <td> 1</td>\n",
        "      <td> 0</td>\n",
        "      <td> 1</td>\n",
        "      <td> 0</td>\n",
        "      <td> 0</td>\n",
        "      <td> 1</td>\n",
        "    </tr>\n",
        "    <tr>\n",
        "      <th>19</th>\n",
        "      <td> 1</td>\n",
        "      <td> 1</td>\n",
        "      <td> 0</td>\n",
        "      <td> 0</td>\n",
        "      <td> 1</td>\n",
        "      <td> 0</td>\n",
        "      <td> 0</td>\n",
        "      <td> 1</td>\n",
        "    </tr>\n",
        "    <tr>\n",
        "      <th>20</th>\n",
        "      <td> 1</td>\n",
        "      <td> 1</td>\n",
        "      <td> 1</td>\n",
        "      <td> 0</td>\n",
        "      <td> 1</td>\n",
        "      <td> 0</td>\n",
        "      <td> 0</td>\n",
        "      <td> 1</td>\n",
        "    </tr>\n",
        "    <tr>\n",
        "      <th>21</th>\n",
        "      <td> 1</td>\n",
        "      <td> 0</td>\n",
        "      <td> 0</td>\n",
        "      <td> 1</td>\n",
        "      <td> 0</td>\n",
        "      <td> 1</td>\n",
        "      <td> 1</td>\n",
        "      <td> 0</td>\n",
        "    </tr>\n",
        "    <tr>\n",
        "      <th>22</th>\n",
        "      <td> 1</td>\n",
        "      <td> 0</td>\n",
        "      <td> 1</td>\n",
        "      <td> 0</td>\n",
        "      <td> 1</td>\n",
        "      <td> 0</td>\n",
        "      <td> 1</td>\n",
        "      <td> 0</td>\n",
        "    </tr>\n",
        "    <tr>\n",
        "      <th>23</th>\n",
        "      <td> 1</td>\n",
        "      <td> 1</td>\n",
        "      <td> 1</td>\n",
        "      <td> 1</td>\n",
        "      <td> 0</td>\n",
        "      <td> 1</td>\n",
        "      <td> 0</td>\n",
        "      <td> 0</td>\n",
        "    </tr>\n",
        "    <tr>\n",
        "      <th>24</th>\n",
        "      <td> 1</td>\n",
        "      <td> 0</td>\n",
        "      <td> 1</td>\n",
        "      <td> 1</td>\n",
        "      <td> 0</td>\n",
        "      <td> 1</td>\n",
        "      <td> 0</td>\n",
        "      <td> 0</td>\n",
        "    </tr>\n",
        "    <tr>\n",
        "      <th>25</th>\n",
        "      <td> 1</td>\n",
        "      <td> 0</td>\n",
        "      <td> 0</td>\n",
        "      <td> 0</td>\n",
        "      <td> 1</td>\n",
        "      <td> 0</td>\n",
        "      <td> 1</td>\n",
        "      <td> 1</td>\n",
        "    </tr>\n",
        "    <tr>\n",
        "      <th>26</th>\n",
        "      <td> 1</td>\n",
        "      <td> 1</td>\n",
        "      <td> 1</td>\n",
        "      <td> 1</td>\n",
        "      <td> 0</td>\n",
        "      <td> 0</td>\n",
        "      <td> 1</td>\n",
        "      <td> 0</td>\n",
        "    </tr>\n",
        "    <tr>\n",
        "      <th>27</th>\n",
        "      <td> 1</td>\n",
        "      <td> 0</td>\n",
        "      <td> 0</td>\n",
        "      <td> 0</td>\n",
        "      <td> 1</td>\n",
        "      <td> 0</td>\n",
        "      <td> 0</td>\n",
        "      <td> 1</td>\n",
        "    </tr>\n",
        "    <tr>\n",
        "      <th>28</th>\n",
        "      <td> 1</td>\n",
        "      <td> 0</td>\n",
        "      <td> 1</td>\n",
        "      <td> 1</td>\n",
        "      <td> 0</td>\n",
        "      <td> 1</td>\n",
        "      <td> 0</td>\n",
        "      <td> 1</td>\n",
        "    </tr>\n",
        "    <tr>\n",
        "      <th>29</th>\n",
        "      <td> 1</td>\n",
        "      <td> 1</td>\n",
        "      <td> 1</td>\n",
        "      <td> 1</td>\n",
        "      <td> 0</td>\n",
        "      <td> 0</td>\n",
        "      <td> 1</td>\n",
        "      <td> 1</td>\n",
        "    </tr>\n",
        "    <tr>\n",
        "      <th>30</th>\n",
        "      <td> 1</td>\n",
        "      <td> 0</td>\n",
        "      <td> 0</td>\n",
        "      <td> 0</td>\n",
        "      <td> 1</td>\n",
        "      <td> 0</td>\n",
        "      <td> 1</td>\n",
        "      <td> 1</td>\n",
        "    </tr>\n",
        "    <tr>\n",
        "      <th>31</th>\n",
        "      <td> 1</td>\n",
        "      <td> 1</td>\n",
        "      <td> 1</td>\n",
        "      <td> 1</td>\n",
        "      <td> 0</td>\n",
        "      <td> 1</td>\n",
        "      <td> 1</td>\n",
        "      <td> 0</td>\n",
        "    </tr>\n",
        "    <tr>\n",
        "      <th>32</th>\n",
        "      <td> 1</td>\n",
        "      <td> 1</td>\n",
        "      <td> 1</td>\n",
        "      <td> 1</td>\n",
        "      <td> 0</td>\n",
        "      <td> 0</td>\n",
        "      <td> 1</td>\n",
        "      <td> 1</td>\n",
        "    </tr>\n",
        "    <tr>\n",
        "      <th>33</th>\n",
        "      <td> 1</td>\n",
        "      <td> 0</td>\n",
        "      <td> 0</td>\n",
        "      <td> 0</td>\n",
        "      <td> 1</td>\n",
        "      <td> 0</td>\n",
        "      <td> 1</td>\n",
        "      <td> 0</td>\n",
        "    </tr>\n",
        "    <tr>\n",
        "      <th>34</th>\n",
        "      <td> 1</td>\n",
        "      <td> 0</td>\n",
        "      <td> 1</td>\n",
        "      <td> 0</td>\n",
        "      <td> 1</td>\n",
        "      <td> 1</td>\n",
        "      <td> 0</td>\n",
        "      <td> 0</td>\n",
        "    </tr>\n",
        "    <tr>\n",
        "      <th>35</th>\n",
        "      <td> 1</td>\n",
        "      <td> 0</td>\n",
        "      <td> 0</td>\n",
        "      <td> 1</td>\n",
        "      <td> 0</td>\n",
        "      <td> 1</td>\n",
        "      <td> 0</td>\n",
        "      <td> 0</td>\n",
        "    </tr>\n",
        "    <tr>\n",
        "      <th>36</th>\n",
        "      <td> 1</td>\n",
        "      <td> 0</td>\n",
        "      <td> 1</td>\n",
        "      <td> 1</td>\n",
        "      <td> 1</td>\n",
        "      <td> 1</td>\n",
        "      <td> 0</td>\n",
        "      <td> 0</td>\n",
        "    </tr>\n",
        "    <tr>\n",
        "      <th>37</th>\n",
        "      <td> 0</td>\n",
        "      <td> 0</td>\n",
        "      <td> 0</td>\n",
        "      <td> 1</td>\n",
        "      <td> 1</td>\n",
        "      <td> 1</td>\n",
        "      <td> 0</td>\n",
        "      <td> 0</td>\n",
        "    </tr>\n",
        "    <tr>\n",
        "      <th>38</th>\n",
        "      <td> 0</td>\n",
        "      <td> 0</td>\n",
        "      <td> 0</td>\n",
        "      <td> 1</td>\n",
        "      <td> 0</td>\n",
        "      <td> 1</td>\n",
        "      <td> 0</td>\n",
        "      <td> 0</td>\n",
        "    </tr>\n",
        "    <tr>\n",
        "      <th>39</th>\n",
        "      <td> 1</td>\n",
        "      <td> 0</td>\n",
        "      <td> 1</td>\n",
        "      <td> 1</td>\n",
        "      <td> 0</td>\n",
        "      <td> 1</td>\n",
        "      <td> 1</td>\n",
        "      <td> 0</td>\n",
        "    </tr>\n",
        "    <tr>\n",
        "      <th>40</th>\n",
        "      <td> 0</td>\n",
        "      <td> 0</td>\n",
        "      <td> 0</td>\n",
        "      <td> 0</td>\n",
        "      <td> 1</td>\n",
        "      <td> 0</td>\n",
        "      <td> 1</td>\n",
        "      <td> 1</td>\n",
        "    </tr>\n",
        "    <tr>\n",
        "      <th>41</th>\n",
        "      <td> 1</td>\n",
        "      <td> 0</td>\n",
        "      <td> 1</td>\n",
        "      <td> 1</td>\n",
        "      <td> 1</td>\n",
        "      <td> 0</td>\n",
        "      <td> 1</td>\n",
        "      <td> 1</td>\n",
        "    </tr>\n",
        "    <tr>\n",
        "      <th>42</th>\n",
        "      <td> 1</td>\n",
        "      <td> 0</td>\n",
        "      <td> 1</td>\n",
        "      <td> 0</td>\n",
        "      <td> 0</td>\n",
        "      <td> 1</td>\n",
        "      <td> 1</td>\n",
        "      <td> 0</td>\n",
        "    </tr>\n",
        "    <tr>\n",
        "      <th>43</th>\n",
        "      <td> 0</td>\n",
        "      <td> 0</td>\n",
        "      <td> 0</td>\n",
        "      <td> 1</td>\n",
        "      <td> 1</td>\n",
        "      <td> 1</td>\n",
        "      <td> 0</td>\n",
        "      <td> 0</td>\n",
        "    </tr>\n",
        "    <tr>\n",
        "      <th>44</th>\n",
        "      <td> 1</td>\n",
        "      <td> 0</td>\n",
        "      <td> 1</td>\n",
        "      <td> 0</td>\n",
        "      <td> 1</td>\n",
        "      <td> 0</td>\n",
        "      <td> 1</td>\n",
        "      <td> 1</td>\n",
        "    </tr>\n",
        "    <tr>\n",
        "      <th>45</th>\n",
        "      <td> 1</td>\n",
        "      <td> 1</td>\n",
        "      <td> 1</td>\n",
        "      <td> 0</td>\n",
        "      <td> 1</td>\n",
        "      <td> 0</td>\n",
        "      <td> 1</td>\n",
        "      <td> 1</td>\n",
        "    </tr>\n",
        "    <tr>\n",
        "      <th>46</th>\n",
        "      <td> 0</td>\n",
        "      <td> 0</td>\n",
        "      <td> 0</td>\n",
        "      <td> 0</td>\n",
        "      <td> 0</td>\n",
        "      <td> 1</td>\n",
        "      <td> 1</td>\n",
        "      <td> 0</td>\n",
        "    </tr>\n",
        "    <tr>\n",
        "      <th>47</th>\n",
        "      <td> 0</td>\n",
        "      <td> 0</td>\n",
        "      <td> 0</td>\n",
        "      <td> 1</td>\n",
        "      <td> 1</td>\n",
        "      <td> 0</td>\n",
        "      <td> 1</td>\n",
        "      <td> 1</td>\n",
        "    </tr>\n",
        "    <tr>\n",
        "      <th>48</th>\n",
        "      <td> 1</td>\n",
        "      <td> 0</td>\n",
        "      <td> 1</td>\n",
        "      <td> 0</td>\n",
        "      <td> 1</td>\n",
        "      <td> 0</td>\n",
        "      <td> 1</td>\n",
        "      <td> 1</td>\n",
        "    </tr>\n",
        "    <tr>\n",
        "      <th>49</th>\n",
        "      <td> 1</td>\n",
        "      <td> 1</td>\n",
        "      <td> 1</td>\n",
        "      <td> 0</td>\n",
        "      <td> 1</td>\n",
        "      <td> 0</td>\n",
        "      <td> 1</td>\n",
        "      <td> 0</td>\n",
        "    </tr>\n",
        "    <tr>\n",
        "      <th>50</th>\n",
        "      <td> 1</td>\n",
        "      <td> 0</td>\n",
        "      <td> 1</td>\n",
        "      <td> 1</td>\n",
        "      <td> 1</td>\n",
        "      <td> 0</td>\n",
        "      <td> 0</td>\n",
        "      <td> 0</td>\n",
        "    </tr>\n",
        "    <tr>\n",
        "      <th>51</th>\n",
        "      <td> 0</td>\n",
        "      <td> 1</td>\n",
        "      <td> 0</td>\n",
        "      <td> 0</td>\n",
        "      <td> 1</td>\n",
        "      <td> 0</td>\n",
        "      <td> 0</td>\n",
        "      <td> 1</td>\n",
        "    </tr>\n",
        "    <tr>\n",
        "      <th>52</th>\n",
        "      <td> 0</td>\n",
        "      <td> 1</td>\n",
        "      <td> 1</td>\n",
        "      <td> 1</td>\n",
        "      <td> 0</td>\n",
        "      <td> 0</td>\n",
        "      <td> 0</td>\n",
        "      <td> 0</td>\n",
        "    </tr>\n",
        "    <tr>\n",
        "      <th>53</th>\n",
        "      <td> 1</td>\n",
        "      <td> 0</td>\n",
        "      <td> 1</td>\n",
        "      <td> 1</td>\n",
        "      <td> 0</td>\n",
        "      <td> 1</td>\n",
        "      <td> 1</td>\n",
        "      <td> 0</td>\n",
        "    </tr>\n",
        "    <tr>\n",
        "      <th>54</th>\n",
        "      <td> 1</td>\n",
        "      <td> 1</td>\n",
        "      <td> 1</td>\n",
        "      <td> 1</td>\n",
        "      <td> 1</td>\n",
        "      <td> 1</td>\n",
        "      <td> 1</td>\n",
        "      <td> 0</td>\n",
        "    </tr>\n",
        "    <tr>\n",
        "      <th>55</th>\n",
        "      <td> 1</td>\n",
        "      <td> 0</td>\n",
        "      <td> 0</td>\n",
        "      <td> 1</td>\n",
        "      <td> 0</td>\n",
        "      <td> 1</td>\n",
        "      <td> 0</td>\n",
        "      <td> 0</td>\n",
        "    </tr>\n",
        "    <tr>\n",
        "      <th>56</th>\n",
        "      <td> 1</td>\n",
        "      <td> 1</td>\n",
        "      <td> 0</td>\n",
        "      <td> 0</td>\n",
        "      <td> 1</td>\n",
        "      <td> 1</td>\n",
        "      <td> 1</td>\n",
        "      <td> 0</td>\n",
        "    </tr>\n",
        "    <tr>\n",
        "      <th>57</th>\n",
        "      <td> 0</td>\n",
        "      <td> 0</td>\n",
        "      <td> 0</td>\n",
        "      <td> 0</td>\n",
        "      <td> 1</td>\n",
        "      <td> 0</td>\n",
        "      <td> 1</td>\n",
        "      <td> 1</td>\n",
        "    </tr>\n",
        "    <tr>\n",
        "      <th>58</th>\n",
        "      <td> 1</td>\n",
        "      <td> 0</td>\n",
        "      <td> 1</td>\n",
        "      <td> 1</td>\n",
        "      <td> 1</td>\n",
        "      <td> 0</td>\n",
        "      <td> 1</td>\n",
        "      <td> 1</td>\n",
        "    </tr>\n",
        "    <tr>\n",
        "      <th>59</th>\n",
        "      <td> 1</td>\n",
        "      <td> 1</td>\n",
        "      <td> 0</td>\n",
        "      <td> 0</td>\n",
        "      <td> 1</td>\n",
        "      <td> 1</td>\n",
        "      <td> 0</td>\n",
        "      <td> 0</td>\n",
        "    </tr>\n",
        "    <tr>\n",
        "      <th></th>\n",
        "      <td>...</td>\n",
        "      <td>...</td>\n",
        "      <td>...</td>\n",
        "      <td>...</td>\n",
        "      <td>...</td>\n",
        "      <td>...</td>\n",
        "      <td>...</td>\n",
        "      <td>...</td>\n",
        "    </tr>\n",
        "  </tbody>\n",
        "</table>\n",
        "<p>10000 rows \u00d7 8 columns</p>\n",
        "</div>"
       ],
       "metadata": {},
       "output_type": "pyout",
       "prompt_number": 8,
       "text": [
        "    smoking?  lung_cancer?  bronchitis?  visit_to_Asia?  tuberculosis?  \\\n",
        "0          0             1            0               0              1   \n",
        "1          1             0            0               0              1   \n",
        "2          1             0            1               0              0   \n",
        "3          1             0            0               0              1   \n",
        "4          1             0            1               0              1   \n",
        "5          0             0            0               0              1   \n",
        "6          1             0            1               0              1   \n",
        "7          1             0            1               1              0   \n",
        "8          1             1            1               0              1   \n",
        "9          1             0            1               1              0   \n",
        "10         0             0            0               0              1   \n",
        "11         1             1            1               0              1   \n",
        "12         1             1            1               0              1   \n",
        "13         1             1            1               0              1   \n",
        "14         1             0            0               1              0   \n",
        "15         1             0            1               0              1   \n",
        "16         1             0            1               1              1   \n",
        "17         1             0            1               1              0   \n",
        "18         1             0            1               0              1   \n",
        "19         1             1            0               0              1   \n",
        "20         1             1            1               0              1   \n",
        "21         1             0            0               1              0   \n",
        "22         1             0            1               0              1   \n",
        "23         1             1            1               1              0   \n",
        "24         1             0            1               1              0   \n",
        "25         1             0            0               0              1   \n",
        "26         1             1            1               1              0   \n",
        "27         1             0            0               0              1   \n",
        "28         1             0            1               1              0   \n",
        "29         1             1            1               1              0   \n",
        "30         1             0            0               0              1   \n",
        "31         1             1            1               1              0   \n",
        "32         1             1            1               1              0   \n",
        "33         1             0            0               0              1   \n",
        "34         1             0            1               0              1   \n",
        "35         1             0            0               1              0   \n",
        "36         1             0            1               1              1   \n",
        "37         0             0            0               1              1   \n",
        "38         0             0            0               1              0   \n",
        "39         1             0            1               1              0   \n",
        "40         0             0            0               0              1   \n",
        "41         1             0            1               1              1   \n",
        "42         1             0            1               0              0   \n",
        "43         0             0            0               1              1   \n",
        "44         1             0            1               0              1   \n",
        "45         1             1            1               0              1   \n",
        "46         0             0            0               0              0   \n",
        "47         0             0            0               1              1   \n",
        "48         1             0            1               0              1   \n",
        "49         1             1            1               0              1   \n",
        "50         1             0            1               1              1   \n",
        "51         0             1            0               0              1   \n",
        "52         0             1            1               1              0   \n",
        "53         1             0            1               1              0   \n",
        "54         1             1            1               1              1   \n",
        "55         1             0            0               1              0   \n",
        "56         1             1            0               0              1   \n",
        "57         0             0            0               0              1   \n",
        "58         1             0            1               1              1   \n",
        "59         1             1            0               0              1   \n",
        "         ...           ...          ...             ...            ...   \n",
        "\n",
        "    tuberculos_or_cancer?  dyspnoea?  positive_XraY?  \n",
        "0                       0          1               1  \n",
        "1                       0          1               0  \n",
        "2                       1          1               0  \n",
        "3                       0          1               1  \n",
        "4                       0          1               0  \n",
        "5                       0          1               1  \n",
        "6                       0          0               1  \n",
        "7                       1          1               0  \n",
        "8                       1          0               0  \n",
        "9                       1          0               0  \n",
        "10                      1          0               0  \n",
        "11                      0          1               0  \n",
        "12                      0          0               1  \n",
        "13                      0          0               1  \n",
        "14                      1          1               0  \n",
        "15                      0          1               1  \n",
        "16                      1          1               0  \n",
        "17                      1          1               0  \n",
        "18                      0          0               1  \n",
        "19                      0          0               1  \n",
        "20                      0          0               1  \n",
        "21                      1          1               0  \n",
        "22                      0          1               0  \n",
        "23                      1          0               0  \n",
        "24                      1          0               0  \n",
        "25                      0          1               1  \n",
        "26                      0          1               0  \n",
        "27                      0          0               1  \n",
        "28                      1          0               1  \n",
        "29                      0          1               1  \n",
        "30                      0          1               1  \n",
        "31                      1          1               0  \n",
        "32                      0          1               1  \n",
        "33                      0          1               0  \n",
        "34                      1          0               0  \n",
        "35                      1          0               0  \n",
        "36                      1          0               0  \n",
        "37                      1          0               0  \n",
        "38                      1          0               0  \n",
        "39                      1          1               0  \n",
        "40                      0          1               1  \n",
        "41                      0          1               1  \n",
        "42                      1          1               0  \n",
        "43                      1          0               0  \n",
        "44                      0          1               1  \n",
        "45                      0          1               1  \n",
        "46                      1          1               0  \n",
        "47                      0          1               1  \n",
        "48                      0          1               1  \n",
        "49                      0          1               0  \n",
        "50                      0          0               0  \n",
        "51                      0          0               1  \n",
        "52                      0          0               0  \n",
        "53                      1          1               0  \n",
        "54                      1          1               0  \n",
        "55                      1          0               0  \n",
        "56                      1          1               0  \n",
        "57                      0          1               1  \n",
        "58                      0          1               1  \n",
        "59                      1          0               0  \n",
        "                      ...        ...             ...  \n",
        "\n",
        "[10000 rows x 8 columns]"
       ]
      }
     ],
     "prompt_number": 8
    },
    {
     "cell_type": "markdown",
     "metadata": {},
     "source": [
      "We use the crosstab function in pandas"
     ]
    },
    {
     "cell_type": "code",
     "collapsed": false,
     "input": [
      "c=pandas.crosstab(df['dyspnoea?'],[df['bronchitis?'],df['tuberculos_or_cancer?']])\n",
      "c"
     ],
     "language": "python",
     "metadata": {},
     "outputs": [
      {
       "html": [
        "<div style=\"max-height:1000px;max-width:1500px;overflow:auto;\">\n",
        "<table border=\"1\" class=\"dataframe\">\n",
        "  <thead>\n",
        "    <tr>\n",
        "      <th>bronchitis?</th>\n",
        "      <th colspan=\"2\" halign=\"left\">0</th>\n",
        "      <th colspan=\"2\" halign=\"left\">1</th>\n",
        "    </tr>\n",
        "    <tr>\n",
        "      <th>tuberculos_or_cancer?</th>\n",
        "      <th>0</th>\n",
        "      <th>1</th>\n",
        "      <th>0</th>\n",
        "      <th>1</th>\n",
        "    </tr>\n",
        "    <tr>\n",
        "      <th>dyspnoea?</th>\n",
        "      <th></th>\n",
        "      <th></th>\n",
        "      <th></th>\n",
        "      <th></th>\n",
        "    </tr>\n",
        "  </thead>\n",
        "  <tbody>\n",
        "    <tr>\n",
        "      <th>0</th>\n",
        "      <td> 576</td>\n",
        "      <td> 792</td>\n",
        "      <td> 2142</td>\n",
        "      <td> 1505</td>\n",
        "    </tr>\n",
        "    <tr>\n",
        "      <th>1</th>\n",
        "      <td> 897</td>\n",
        "      <td> 292</td>\n",
        "      <td> 2103</td>\n",
        "      <td> 1693</td>\n",
        "    </tr>\n",
        "  </tbody>\n",
        "</table>\n",
        "<p>2 rows \u00d7 4 columns</p>\n",
        "</div>"
       ],
       "metadata": {},
       "output_type": "pyout",
       "prompt_number": 9,
       "text": [
        "bronchitis?              0          1      \n",
        "tuberculos_or_cancer?    0    1     0     1\n",
        "dyspnoea?                                  \n",
        "0                      576  792  2142  1505\n",
        "1                      897  292  2103  1693\n",
        "\n",
        "[2 rows x 4 columns]"
       ]
      }
     ],
     "prompt_number": 9
    },
    {
     "cell_type": "markdown",
     "metadata": {},
     "source": [
      "Playing with numpy reshaping, we retrieve the good form for the CPT from the pandas cross-table"
     ]
    },
    {
     "cell_type": "code",
     "collapsed": false,
     "input": [
      "print(\"LEARNED PARAMETERS IN crosstab\")\n",
      "print(np.array((c/c.sum().apply(np.float32)).transpose()).reshape(2,2,2))\n",
      "print\n",
      "print(\"ORIGINAL PARAMETERS IN bn\")\n",
      "print bn.cpt(bn.idFromName('dyspnoea?'))[:]"
     ],
     "language": "python",
     "metadata": {},
     "outputs": [
      {
       "output_type": "stream",
       "stream": "stdout",
       "text": [
        "LEARNED PARAMETERS IN crosstab\n",
        "[[[ 0.3910387   0.6089613 ]\n",
        "  [ 0.73062731  0.26937269]]\n",
        "\n",
        " [[ 0.50459364  0.49540636]\n",
        "  [ 0.47060663  0.52939337]]]\n",
        "\n",
        "ORIGINAL PARAMETERS IN bn\n",
        "[[[ 0.40817048  0.59182952]\n",
        "  [ 0.49913475  0.50086525]]\n",
        "\n",
        " [[ 0.74182911  0.25817089]\n",
        "  [ 0.44677939  0.55322061]]]\n"
       ]
      }
     ],
     "prompt_number": 10
    },
    {
     "cell_type": "heading",
     "level": 2,
     "metadata": {},
     "source": [
      "A global method for estimating Bayesian Network parameters from CSV file using PANDAS"
     ]
    },
    {
     "cell_type": "code",
     "collapsed": false,
     "input": [
      "def computeCPTfromDF(bn,df,name):\n",
      "    \"\"\"\n",
      "    Compute the CPT of variable \"name\" in the BN bn from the database df\n",
      "    \"\"\"\n",
      "    id=bn.idFromName(name)\n",
      "    domains=[len(bn.variableFromName(name)) for name in bn.cpt(id).var_names]\n",
      "\n",
      "    parents=list(bn.cpt(id).var_names)\n",
      "    parents.pop()\n",
      "\n",
      "    c=pandas.crosstab(df[name],[df[parent] for parent in parents])\n",
      "\n",
      "    s=c.sum()\n",
      "    \n",
      "    # if c is monodimensionnal then s will be a float and not a Series \n",
      "    if type(s)==pandas.core.series.Series:\n",
      "        s=s.apply(np.float32)\n",
      "    else:\n",
      "        s=float(s)\n",
      "    \n",
      "    bn.cpt(id)[:]=np.array((c/s).transpose()).reshape(*domains)\n",
      "    \n",
      "def ParametersLearning(bn,df):\n",
      "    \"\"\"\n",
      "    Compute the CPTs of every varaible in the BN bn from the database df\n",
      "    \"\"\"\n",
      "    for name in bn.names():\n",
      "        computeCPTfromDF(bn,df,name)"
     ],
     "language": "python",
     "metadata": {},
     "outputs": [],
     "prompt_number": 11
    },
    {
     "cell_type": "code",
     "collapsed": false,
     "input": [
      "ParametersLearning(bn2,df)"
     ],
     "language": "python",
     "metadata": {},
     "outputs": [],
     "prompt_number": 12
    },
    {
     "cell_type": "markdown",
     "metadata": {},
     "source": [
      "KL has decreased a lot (if everything's OK)"
     ]
    },
    {
     "cell_type": "code",
     "collapsed": false,
     "input": [
      "g1=gum.BruteForceKL(bn,bn2)\n",
      "print(\"BEFORE LEARNING\")\n",
      "print(before_learning['klPQ'])\n",
      "print\n",
      "print(\"AFTER LEARNING\")\n",
      "print(g1.compute()['klPQ'])"
     ],
     "language": "python",
     "metadata": {},
     "outputs": [
      {
       "output_type": "stream",
       "stream": "stdout",
       "text": [
        "BEFORE LEARNING\n",
        "3.50238344475\n",
        "\n",
        "AFTER LEARNING\n",
        "0.00261704970738\n"
       ]
      }
     ],
     "prompt_number": 13
    },
    {
     "cell_type": "markdown",
     "metadata": {},
     "source": [
      "And CPTs should be close"
     ]
    },
    {
     "cell_type": "code",
     "collapsed": false,
     "input": [
      "print(\"ORIGINAL PARAMETERS\")\n",
      "pretty_cpt(bn.cpt(3))\n",
      "print\n",
      "print(\"LEARNED PARAMETERS\")\n",
      "pretty_cpt(bn2.cpt(3))"
     ],
     "language": "python",
     "metadata": {},
     "outputs": [
      {
       "output_type": "stream",
       "stream": "stdout",
       "text": [
        "ORIGINAL PARAMETERS\n",
        "                       |---------------|\n",
        "-----------------------|positive_XraY? |\n",
        " tuberculos_or_cancer? |   d1     d2   |\n",
        "-----------------------|---------------|\n",
        "          c1           | 0.2597 0.7403 |\n",
        "          c2           | 0.9142 0.0858 |\n",
        "-----------------------|---------------|\n",
        "\n",
        "LEARNED PARAMETERS\n",
        "                       |---------------|\n",
        "-----------------------|positive_XraY? |\n",
        " tuberculos_or_cancer? |   d1     d2   |\n",
        "-----------------------|---------------|\n",
        "          c1           | 0.2634 0.7366 |\n",
        "          c2           | 0.9143 0.0857 |\n",
        "-----------------------|---------------|\n"
       ]
      }
     ],
     "prompt_number": 14
    },
    {
     "cell_type": "heading",
     "level": 2,
     "metadata": {},
     "source": [
      "Influence of the size of the database on the quality of learned parameters"
     ]
    },
    {
     "cell_type": "markdown",
     "metadata": {},
     "source": [
      "What is the effect of increasing the size of the database on the KL ? We expect that the KL decreases to 0."
     ]
    },
    {
     "cell_type": "code",
     "collapsed": false,
     "input": [
      "res=[]\n",
      "for i in xrange(200,10001,50):\n",
      "    ParametersLearning(bn2,df[:i])\n",
      "    g1=gum.BruteForceKL(bn,bn2)\n",
      "    res.append(g1.compute()['klPQ'])\n",
      "fig=figure(figsize(10,6))\n",
      "ax  = fig.add_subplot(1, 1, 1)\n",
      "ax.plot(xrange(200,10001,50),res)\n",
      "ax.set_xlabel(\"size of the database\")\n",
      "ax.set_ylabel(\"KL\")\n",
      "t=ax.set_title(\"klPQ(bn,learnedBN(x))\")"
     ],
     "language": "python",
     "metadata": {},
     "outputs": [
      {
       "metadata": {},
       "output_type": "display_data",
       "png": "[encoded data removed]",
       "text": [
        "<matplotlib.figure.Figure at 0x7f41433a7150>"
       ]
      }
     ],
     "prompt_number": 15
    },
    {
     "cell_type": "code",
     "collapsed": false,
     "input": [],
     "language": "python",
     "metadata": {},
     "outputs": []
    }
   ],
   "metadata": {}
  }
 ]
}