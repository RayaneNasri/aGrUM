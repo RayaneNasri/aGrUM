{
 "cells": [
  {
   "cell_type": "code",
   "execution_count": 1,
   "metadata": {
    "collapsed": true
   },
   "outputs": [],
   "source": [
    "import pyAgrum as gum\n",
    "import pyAgrum.lib.notebook as gnb\n",
    "\n",
    "a,b,c=[gum.LabelizedVariable(s,s,2) for s in \"abc\"]"
   ]
  },
  {
   "cell_type": "markdown",
   "metadata": {},
   "source": [
    "# potential algebra"
   ]
  },
  {
   "cell_type": "code",
   "execution_count": 2,
   "metadata": {
    "collapsed": false
   },
   "outputs": [
    {
     "data": {
      "text/html": [
       "<table><tr><th colspan='1'></th><th colspan='2' style='background-color:#AAAAAA'><center>a</center></th></tr><tr><th style='background-color:#AAAAAA'><center>b</center></th><th style='background-color:#BBBBBB'><center>0</center></th><th style='background-color:#BBBBBB'><center>1</center></th><tr><th style='background-color:#BBBBBB'>0</th><td style='text-align:right;'>0.1000</td><td style='text-align:right;'>0.2000</td></tr><tr><th style='background-color:#BBBBBB'>1</th><td style='text-align:right;'>0.3000</td><td style='text-align:right;'>0.4000</td></tr></table>"
      ],
      "text/plain": [
       "<IPython.core.display.HTML object>"
      ]
     },
     "execution_count": 2,
     "metadata": {},
     "output_type": "execute_result"
    }
   ],
   "source": [
    "p1=gum.Potential().add(a).add(b).fillWith([1,2,3,4]).normalize()\n",
    "gnb.showPotential(p1)"
   ]
  },
  {
   "cell_type": "code",
   "execution_count": 3,
   "metadata": {
    "collapsed": false
   },
   "outputs": [
    {
     "data": {
      "text/html": [
       "<table><tr><th colspan='1'></th><th colspan='2' style='background-color:#AAAAAA'><center>b</center></th></tr><tr><th style='background-color:#AAAAAA'><center>c</center></th><th style='background-color:#BBBBBB'><center>0</center></th><th style='background-color:#BBBBBB'><center>1</center></th><tr><th style='background-color:#BBBBBB'>0</th><td style='text-align:right;'>0.2857</td><td style='text-align:right;'>0.3571</td></tr><tr><th style='background-color:#BBBBBB'>1</th><td style='text-align:right;'>0.1429</td><td style='text-align:right;'>0.2143</td></tr></table>"
      ],
      "text/plain": [
       "<IPython.core.display.HTML object>"
      ]
     },
     "execution_count": 3,
     "metadata": {},
     "output_type": "execute_result"
    }
   ],
   "source": [
    "p2=gum.Potential().add(b).add(c).fillWith([4,5,2,3]).normalize()\n",
    "gnb.showPotential(p2)"
   ]
  },
  {
   "cell_type": "code",
   "execution_count": 4,
   "metadata": {
    "collapsed": false
   },
   "outputs": [
    {
     "data": {
      "text/html": [
       "<table><tr><th colspan='2'></th><th colspan='2' style='background-color:#AAAAAA'><center>b</center></th></tr><tr><th style='background-color:#AAAAAA'><center>a</center></th><th style='background-color:#AAAAAA'><center>c</center></th><th style='background-color:#BBBBBB'><center>0</center></th><th style='background-color:#BBBBBB'><center>1</center></th><tr><th style='background-color:#BBBBBB;' rowspan = '2'>0</th><th style='background-color:#BBBBBB'>0</th><td style='text-align:right;'>0.3857</td><td style='text-align:right;'>0.6571</td></tr><tr><th style='background-color:#BBBBBB'>1</th><td style='text-align:right;'>0.2429</td><td style='text-align:right;'>0.5143</td></tr><tr><th style='background-color:#BBBBBB;' rowspan = '2'>1</th><th style='background-color:#BBBBBB'>0</th><td style='text-align:right;'>0.4857</td><td style='text-align:right;'>0.7571</td></tr><tr><th style='background-color:#BBBBBB'>1</th><td style='text-align:right;'>0.3429</td><td style='text-align:right;'>0.6143</td></tr></table>"
      ],
      "text/plain": [
       "<IPython.core.display.HTML object>"
      ]
     },
     "execution_count": 4,
     "metadata": {},
     "output_type": "execute_result"
    }
   ],
   "source": [
    "gnb.showPotential(p1+p2)"
   ]
  },
  {
   "cell_type": "code",
   "execution_count": 5,
   "metadata": {
    "collapsed": false
   },
   "outputs": [
    {
     "data": {
      "text/html": [
       "<table><tr><th colspan='2'></th><th colspan='2' style='background-color:#AAAAAA'><center>c</center></th></tr><tr><th style='background-color:#AAAAAA'><center>b</center></th><th style='background-color:#AAAAAA'><center>a</center></th><th style='background-color:#BBBBBB'><center>0</center></th><th style='background-color:#BBBBBB'><center>1</center></th><tr><th style='background-color:#BBBBBB;' rowspan = '2'>0</th><th style='background-color:#BBBBBB'>0</th><td style='text-align:right;'>0.3699</td><td style='text-align:right;'>0.3208</td></tr><tr><th style='background-color:#BBBBBB'>1</th><td style='text-align:right;'>0.3908</td><td style='text-align:right;'>0.3582</td></tr><tr><th style='background-color:#BBBBBB;' rowspan = '2'>1</th><th style='background-color:#BBBBBB'>0</th><td style='text-align:right;'>0.6301</td><td style='text-align:right;'>0.6792</td></tr><tr><th style='background-color:#BBBBBB'>1</th><td style='text-align:right;'>0.6092</td><td style='text-align:right;'>0.6418</td></tr></table>"
      ],
      "text/plain": [
       "<IPython.core.display.HTML object>"
      ]
     },
     "execution_count": 5,
     "metadata": {},
     "output_type": "execute_result"
    }
   ],
   "source": [
    "p3=p1+p2 \n",
    "gnb.showPotential(p3/p3.margSumOut([\"b\"]))"
   ]
  },
  {
   "cell_type": "code",
   "execution_count": 6,
   "metadata": {
    "collapsed": false
   },
   "outputs": [
    {
     "name": "stdout",
     "output_type": "stream",
     "text": [
      "<b:0|c:0|a:0> :: 0.385714 /<b:1|c:0|a:0> :: 0.657143 /<b:0|c:1|a:0> :: 0.242857 /<b:1|c:1|a:0> :: 0.514286 /<b:0|c:0|a:1> :: 0.485714 /<b:1|c:0|a:1> :: 0.757143 /<b:0|c:1|a:1> :: 0.342857 /<b:1|c:1|a:1> :: 0.614286\n",
      "<b:0|c:0|a:0> :: 0.385714 /<b:1|c:0|a:0> :: 0.657143 /<b:0|c:1|a:0> :: 0.242857 /<b:1|c:1|a:0> :: 0.514286 /<b:0|c:0|a:1> :: 0.485714 /<b:1|c:0|a:1> :: 0.757143 /<b:0|c:1|a:1> :: 0.342857 /<b:1|c:1|a:1> :: 0.614286\n"
     ]
    }
   ],
   "source": [
    "print(p3)\n",
    "p4=gum.Potential()+p3\n",
    "print(p4)\n"
   ]
  },
  {
   "cell_type": "markdown",
   "metadata": {},
   "source": [
    "# bayes formula"
   ]
  },
  {
   "cell_type": "code",
   "execution_count": 7,
   "metadata": {
    "collapsed": false
   },
   "outputs": [
    {
     "data": {
      "text/html": [
       "<svg height=\"116pt\" viewBox=\"0.00 0.00 134.00 116.00\" width=\"134pt\" xmlns=\"http://www.w3.org/2000/svg\" xmlns:xlink=\"http://www.w3.org/1999/xlink\">\n",
       "<g class=\"graph\" id=\"graph0\" transform=\"scale(1 1) rotate(0) translate(4 112)\">\n",
       "<title>G</title>\n",
       "<polygon fill=\"white\" points=\"-4,4 -4,-112 130,-112 130,4 -4,4\" stroke=\"none\"/>\n",
       "<!-- a -->\n",
       "<g class=\"node\" id=\"node1\"><title>a</title>\n",
       "<g id=\"a_node1\"><a xlink:title=\"(0) a\">\n",
       "<ellipse cx=\"27\" cy=\"-90\" fill=\"#444444\" rx=\"27\" ry=\"18\" stroke=\"black\"/>\n",
       "<text fill=\"#ffffff\" font-family=\"Times,serif\" font-size=\"14.00\" text-anchor=\"middle\" x=\"27\" y=\"-86.3\">a</text>\n",
       "</a>\n",
       "</g>\n",
       "</g>\n",
       "<!-- c -->\n",
       "<g class=\"node\" id=\"node3\"><title>c</title>\n",
       "<g id=\"a_node3\"><a xlink:title=\"(2) c\">\n",
       "<ellipse cx=\"63\" cy=\"-18\" fill=\"#444444\" rx=\"27\" ry=\"18\" stroke=\"black\"/>\n",
       "<text fill=\"#ffffff\" font-family=\"Times,serif\" font-size=\"14.00\" text-anchor=\"middle\" x=\"63\" y=\"-14.3\">c</text>\n",
       "</a>\n",
       "</g>\n",
       "</g>\n",
       "<!-- a&#45;&gt;c -->\n",
       "<g class=\"edge\" id=\"edge1\"><title>a-&gt;c</title>\n",
       "<path d=\"M35.3496,-72.7646C39.7115,-64.2831 45.1469,-53.7144 50.0413,-44.1974\" fill=\"none\" stroke=\"black\"/>\n",
       "<polygon fill=\"black\" points=\"53.2346,-45.6409 54.6957,-35.1473 47.0096,-42.4395 53.2346,-45.6409\" stroke=\"black\"/>\n",
       "</g>\n",
       "<!-- b -->\n",
       "<g class=\"node\" id=\"node2\"><title>b</title>\n",
       "<g id=\"a_node2\"><a xlink:title=\"(1) b\">\n",
       "<ellipse cx=\"99\" cy=\"-90\" fill=\"#444444\" rx=\"27\" ry=\"18\" stroke=\"black\"/>\n",
       "<text fill=\"#ffffff\" font-family=\"Times,serif\" font-size=\"14.00\" text-anchor=\"middle\" x=\"99\" y=\"-86.3\">b</text>\n",
       "</a>\n",
       "</g>\n",
       "</g>\n",
       "<!-- b&#45;&gt;c -->\n",
       "<g class=\"edge\" id=\"edge2\"><title>b-&gt;c</title>\n",
       "<path d=\"M90.6504,-72.7646C86.2885,-64.2831 80.8531,-53.7144 75.9587,-44.1974\" fill=\"none\" stroke=\"black\"/>\n",
       "<polygon fill=\"black\" points=\"78.9904,-42.4395 71.3043,-35.1473 72.7654,-45.6409 78.9904,-42.4395\" stroke=\"black\"/>\n",
       "</g>\n",
       "</g>\n",
       "</svg>"
      ],
      "text/plain": [
       "<IPython.core.display.HTML object>"
      ]
     },
     "metadata": {},
     "output_type": "display_data"
    }
   ],
   "source": [
    "bn=gum.BayesNet()\n",
    "na,nb,nc=[bn.add(s,3) for s in \"abc\"]\n",
    "\n",
    "bn.addArc(na,nc)\n",
    "bn.addArc(nb,nc)\n",
    "\n",
    "bn.generateCPTs()\n",
    "\n",
    "gnb.showBN(bn)"
   ]
  },
  {
   "cell_type": "markdown",
   "metadata": {},
   "source": [
    "In such a small bayes net, we can directly manipulate $P(a,b,c)$. For instance : $$P(b|c)=\\frac{\\sum_{a} P(a,b,c)}{\\sum_{a,b} P(a,b,c)}$$"
   ]
  },
  {
   "cell_type": "code",
   "execution_count": 8,
   "metadata": {
    "collapsed": false
   },
   "outputs": [
    {
     "data": {
      "text/html": [
       "<table><tr><th colspan='1'></th><th colspan='3' style='background-color:#AAAAAA'><center>b</center></th></tr><tr><th style='background-color:#AAAAAA'><center>c</center></th><th style='background-color:#BBBBBB'><center>0</center></th><th style='background-color:#BBBBBB'><center>1</center></th><th style='background-color:#BBBBBB'><center>2</center></th><tr><th style='background-color:#BBBBBB'>0</th><td style='text-align:right;'>0.1481</td><td style='text-align:right;'>0.7461</td><td style='text-align:right;'>0.1058</td></tr><tr><th style='background-color:#BBBBBB'>1</th><td style='text-align:right;'>0.4169</td><td style='text-align:right;'>0.3939</td><td style='text-align:right;'>0.1892</td></tr><tr><th style='background-color:#BBBBBB'>2</th><td style='text-align:right;'>0.3731</td><td style='text-align:right;'>0.4762</td><td style='text-align:right;'>0.1507</td></tr></table>"
      ],
      "text/plain": [
       "<IPython.core.display.HTML object>"
      ]
     },
     "execution_count": 8,
     "metadata": {},
     "output_type": "execute_result"
    }
   ],
   "source": [
    "pABC=bn.cpt(na)*bn.cpt(nb)*bn.cpt(nc)\n",
    "pBgivenC=(pABC.margSumOut([\"a\"])/pABC.margSumOut([\"a\",\"b\"])).putFirst(\"b\")\n",
    "\n",
    "gnb.showPotential(pBgivenC)"
   ]
  },
  {
   "cell_type": "markdown",
   "metadata": {},
   "source": [
    "# Joint, marginal probability, likelihood\n",
    "Let's compute the joint probability $P(A,B)$ from $P(A,B,C)$"
   ]
  },
  {
   "cell_type": "code",
   "execution_count": 9,
   "metadata": {
    "collapsed": false
   },
   "outputs": [
    {
     "name": "stdout",
     "output_type": "stream",
     "text": [
      "pAC really is a probability : it sums to 0.9999999999999999\n"
     ]
    },
    {
     "data": {
      "text/html": [
       "<table><tr><th colspan='1'></th><th colspan='3' style='background-color:#AAAAAA'><center>a</center></th></tr><tr><th style='background-color:#AAAAAA'><center>c</center></th><th style='background-color:#BBBBBB'><center>0</center></th><th style='background-color:#BBBBBB'><center>1</center></th><th style='background-color:#BBBBBB'><center>2</center></th><tr><th style='background-color:#BBBBBB'>0</th><td style='text-align:right;'>0.1730</td><td style='text-align:right;'>0.1339</td><td style='text-align:right;'>0.1350</td></tr><tr><th style='background-color:#BBBBBB'>1</th><td style='text-align:right;'>0.1369</td><td style='text-align:right;'>0.1054</td><td style='text-align:right;'>0.0317</td></tr><tr><th style='background-color:#BBBBBB'>2</th><td style='text-align:right;'>0.0928</td><td style='text-align:right;'>0.0877</td><td style='text-align:right;'>0.1035</td></tr></table>"
      ],
      "text/plain": [
       "<IPython.core.display.HTML object>"
      ]
     },
     "execution_count": 9,
     "metadata": {},
     "output_type": "execute_result"
    }
   ],
   "source": [
    "pAC=pABC.margSumOut([\"b\"])\n",
    "print(\"pAC really is a probability : it sums to {}\".format(pAC.sum()))\n",
    "gnb.showPotential(pAC)\n"
   ]
  },
  {
   "cell_type": "markdown",
   "metadata": {},
   "source": [
    "## Computing $p(A)$"
   ]
  },
  {
   "cell_type": "code",
   "execution_count": 10,
   "metadata": {
    "collapsed": false
   },
   "outputs": [
    {
     "data": {
      "text/html": [
       "<table><tr style='background-color:#AAAAAA'><th colspan='3'><center>a</center></th></tr><tr><th style='background-color:#BBBBBB'><center>0</center></th><th style='background-color:#BBBBBB'><center>1</center></th><th style='background-color:#BBBBBB'><center>2</center></th><tr><td style='text-align:right;'>0.4027</td><td style='text-align:right;'>0.3270</td><td style='text-align:right;'>0.2703</td></tr></table>"
      ],
      "text/plain": [
       "<IPython.core.display.HTML object>"
      ]
     },
     "execution_count": 10,
     "metadata": {},
     "output_type": "execute_result"
    }
   ],
   "source": [
    "gnb.showPotential(pAC.margSumOut([\"c\"]))"
   ]
  },
  {
   "cell_type": "markdown",
   "metadata": {},
   "source": [
    "## Computing $p(A |C=1)$\n",
    "It is easy to compute $p(A, C=1)$"
   ]
  },
  {
   "cell_type": "code",
   "execution_count": 11,
   "metadata": {
    "collapsed": false
   },
   "outputs": [
    {
     "data": {
      "text/html": [
       "<table><tr style='background-color:#AAAAAA'><th colspan='3'><center>a</center></th></tr><tr><th style='background-color:#BBBBBB'><center>0</center></th><th style='background-color:#BBBBBB'><center>1</center></th><th style='background-color:#BBBBBB'><center>2</center></th><tr><td style='text-align:right;'>0.1369</td><td style='text-align:right;'>0.1054</td><td style='text-align:right;'>0.0317</td></tr></table>"
      ],
      "text/plain": [
       "<IPython.core.display.HTML object>"
      ]
     },
     "execution_count": 11,
     "metadata": {},
     "output_type": "execute_result"
    }
   ],
   "source": [
    "gnb.showPotential(pAC.extract({\"c\":1}))"
   ]
  },
  {
   "cell_type": "markdown",
   "metadata": {},
   "source": [
    "Moreover, we know that $P(C=1)=\\sum_A P(A,C=1)$"
   ]
  },
  {
   "cell_type": "code",
   "execution_count": 12,
   "metadata": {
    "collapsed": false
   },
   "outputs": [
    {
     "data": {
      "text/plain": [
       "0.27405584604299216"
      ]
     },
     "execution_count": 12,
     "metadata": {},
     "output_type": "execute_result"
    }
   ],
   "source": [
    "pAC.extract({\"c\":1}).sum()"
   ]
  },
  {
   "cell_type": "markdown",
   "metadata": {},
   "source": [
    "Now we can compute $p(A|C=1)=\\frac{P(A,C=1)}{p(C=1)}$"
   ]
  },
  {
   "cell_type": "code",
   "execution_count": 13,
   "metadata": {
    "collapsed": false
   },
   "outputs": [
    {
     "data": {
      "text/html": [
       "<table><tr style='background-color:#AAAAAA'><th colspan='3'><center>a</center></th></tr><tr><th style='background-color:#BBBBBB'><center>0</center></th><th style='background-color:#BBBBBB'><center>1</center></th><th style='background-color:#BBBBBB'><center>2</center></th><tr><td style='text-align:right;'>0.4997</td><td style='text-align:right;'>0.3845</td><td style='text-align:right;'>0.1158</td></tr></table>"
      ],
      "text/plain": [
       "<IPython.core.display.HTML object>"
      ]
     },
     "execution_count": 13,
     "metadata": {},
     "output_type": "execute_result"
    }
   ],
   "source": [
    "gnb.showPotential(pAC.extract({\"c\":1}).normalize())"
   ]
  },
  {
   "cell_type": "markdown",
   "metadata": {},
   "source": [
    "## Computing $P(A|C)$\n",
    "$P(A|C)$ is represented by a matrix that verifies $p(A|C)=\\frac{P(A,C)}{P(C}$"
   ]
  },
  {
   "cell_type": "code",
   "execution_count": 14,
   "metadata": {
    "collapsed": false
   },
   "outputs": [
    {
     "data": {
      "text/html": [
       "<table><tr><th colspan='1'></th><th colspan='3' style='background-color:#AAAAAA'><center>c</center></th></tr><tr><th style='background-color:#AAAAAA'><center>a</center></th><th style='background-color:#BBBBBB'><center>0</center></th><th style='background-color:#BBBBBB'><center>1</center></th><th style='background-color:#BBBBBB'><center>2</center></th><tr><th style='background-color:#BBBBBB'>0</th><td style='text-align:right;'>0.3915</td><td style='text-align:right;'>0.4997</td><td style='text-align:right;'>0.3267</td></tr><tr><th style='background-color:#BBBBBB'>1</th><td style='text-align:right;'>0.3029</td><td style='text-align:right;'>0.3845</td><td style='text-align:right;'>0.3089</td></tr><tr><th style='background-color:#BBBBBB'>2</th><td style='text-align:right;'>0.3056</td><td style='text-align:right;'>0.1158</td><td style='text-align:right;'>0.3645</td></tr></table>"
      ],
      "text/plain": [
       "<IPython.core.display.HTML object>"
      ]
     },
     "execution_count": 14,
     "metadata": {},
     "output_type": "execute_result"
    }
   ],
   "source": [
    "pAgivenC=pAC/pAC.margSumIn([\"c\"])\n",
    "gnb.showPotential(pAgivenC)"
   ]
  },
  {
   "cell_type": "markdown",
   "metadata": {},
   "source": [
    "$P(A|C=1)$ is a row in this matrix"
   ]
  },
  {
   "cell_type": "code",
   "execution_count": 15,
   "metadata": {
    "collapsed": false
   },
   "outputs": [
    {
     "data": {
      "text/html": [
       "<table><tr style='background-color:#AAAAAA'><th colspan='3'><center>a</center></th></tr><tr><th style='background-color:#BBBBBB'><center>0</center></th><th style='background-color:#BBBBBB'><center>1</center></th><th style='background-color:#BBBBBB'><center>2</center></th><tr><td style='text-align:right;'>0.4997</td><td style='text-align:right;'>0.3845</td><td style='text-align:right;'>0.1158</td></tr></table>"
      ],
      "text/plain": [
       "<IPython.core.display.HTML object>"
      ]
     },
     "execution_count": 15,
     "metadata": {},
     "output_type": "execute_result"
    }
   ],
   "source": [
    "gnb.showPotential(pAgivenC.extract({'c':1}))"
   ]
  },
  {
   "cell_type": "markdown",
   "metadata": {},
   "source": [
    "## Likelihood $P(A=2|C)$"
   ]
  },
  {
   "cell_type": "markdown",
   "metadata": {},
   "source": [
    "A likelihood can also be found in this matrix."
   ]
  },
  {
   "cell_type": "code",
   "execution_count": 16,
   "metadata": {
    "collapsed": false
   },
   "outputs": [
    {
     "data": {
      "text/html": [
       "<table><tr style='background-color:#AAAAAA'><th colspan='3'><center>c</center></th></tr><tr><th style='background-color:#BBBBBB'><center>0</center></th><th style='background-color:#BBBBBB'><center>1</center></th><th style='background-color:#BBBBBB'><center>2</center></th><tr><td style='text-align:right;'>0.3056</td><td style='text-align:right;'>0.1158</td><td style='text-align:right;'>0.3645</td></tr></table>"
      ],
      "text/plain": [
       "<IPython.core.display.HTML object>"
      ]
     },
     "execution_count": 16,
     "metadata": {},
     "output_type": "execute_result"
    }
   ],
   "source": [
    "gnb.showPotential(pAgivenC.extract({'a':2}))"
   ]
  },
  {
   "cell_type": "markdown",
   "metadata": {},
   "source": [
    "A likelihood does not have to sum to 1. It is not relevant to normalize it."
   ]
  },
  {
   "cell_type": "code",
   "execution_count": 17,
   "metadata": {
    "collapsed": false
   },
   "outputs": [
    {
     "data": {
      "text/html": [
       "<table><tr style='background-color:#AAAAAA'><th colspan='3'><center>a</center></th></tr><tr><th style='background-color:#BBBBBB'><center>0</center></th><th style='background-color:#BBBBBB'><center>1</center></th><th style='background-color:#BBBBBB'><center>2</center></th><tr><td style='text-align:right;'>1.2178</td><td style='text-align:right;'>0.9963</td><td style='text-align:right;'>0.7859</td></tr></table>"
      ],
      "text/plain": [
       "<IPython.core.display.HTML object>"
      ]
     },
     "execution_count": 17,
     "metadata": {},
     "output_type": "execute_result"
    }
   ],
   "source": [
    "gnb.showPotential(pAgivenC.margSumIn([\"a\"]))"
   ]
  },
  {
   "cell_type": "markdown",
   "metadata": {},
   "source": [
    "# entropy of potential"
   ]
  },
  {
   "cell_type": "code",
   "execution_count": 18,
   "metadata": {
    "collapsed": true
   },
   "outputs": [],
   "source": [
    "%matplotlib inline\n",
    "from pylab import *\n",
    "import matplotlib.pyplot as plt\n",
    "import numpy as np"
   ]
  },
  {
   "cell_type": "code",
   "execution_count": 19,
   "metadata": {
    "collapsed": false
   },
   "outputs": [
    {
     "data": {
      "image/png": "[encoded data removed]",
      "text/plain": [
       "<matplotlib.figure.Figure at 0x7f39cb7d2978>"
      ]
     },
     "metadata": {},
     "output_type": "display_data"
    }
   ],
   "source": [
    "p1=gum.Potential().add(a)\n",
    "x = np.linspace(0, 1, 100)\n",
    "plt.plot(x,[p1.fillWith([p,1-p]).entropy() for p in x])\n",
    "plt.show()"
   ]
  },
  {
   "cell_type": "code",
   "execution_count": 20,
   "metadata": {
    "collapsed": false
   },
   "outputs": [
    {
     "data": {
      "image/png": "[encoded data removed]",
      "text/plain": [
       "<matplotlib.figure.Figure at 0x7f3a1d86dda0>"
      ]
     },
     "metadata": {},
     "output_type": "display_data"
    }
   ],
   "source": [
    "t=gum.LabelizedVariable('t','t',3)\n",
    "p1=gum.Potential().add(t)\n",
    "\n",
    "def entrop(bc):\n",
    "    \"\"\"\n",
    "    bc is a list [a,b,c] close to a distribution \n",
    "    (normalized just to be sure)\n",
    "    \"\"\"\n",
    "    return p1.fillWith(bc).normalize().entropy()\n",
    "\n",
    "import matplotlib.tri as tri\n",
    "\n",
    "corners = np.array([[0, 0], [1, 0], [0.5, 0.75**0.5]])\n",
    "triangle = tri.Triangulation(corners[:, 0], corners[:, 1])\n",
    "\n",
    "# Mid-points of triangle sides opposite of each corner\n",
    "midpoints = [(corners[(i + 1) % 3] + corners[(i + 2) % 3]) / 2.0 \\\n",
    "             for i in range(3)]\n",
    "def xy2bc(xy, tol=1.e-3):\n",
    "    \"\"\"\n",
    "    From 2D Cartesian coordinates to barycentric.\n",
    "    \"\"\"\n",
    "    s = [(corners[i] - midpoints[i]).dot(xy - midpoints[i]) / 0.75 \\\n",
    "         for i in range(3)]\n",
    "    return np.clip(s, tol, 1.0 - tol)\n",
    "    \n",
    "def draw_entropy(nlevels=200, subdiv=6, **kwargs):\n",
    "    import math\n",
    "\n",
    "    refiner = tri.UniformTriRefiner(triangle)\n",
    "    trimesh = refiner.refine_triangulation(subdiv=subdiv)\n",
    "    pvals = [entrop(xy2bc(xy)) for xy in zip(trimesh.x, trimesh.y)]\n",
    "\n",
    "    plt.tricontourf(trimesh, pvals, nlevels, **kwargs)\n",
    "    plt.axis('equal')\n",
    "    plt.xlim(0, 1)\n",
    "    plt.ylim(0, 0.75**0.5)\n",
    "    plt.axis('off')\n",
    "    \n",
    "draw_entropy()"
   ]
  },
  {
   "cell_type": "code",
   "execution_count": 21,
   "metadata": {
    "collapsed": true
   },
   "outputs": [],
   "source": []
  }
 ],
 "metadata": {
  "kernelspec": {
   "display_name": "Python 3",
   "language": "python",
   "name": "python3"
  },
  "language_info": {
   "codemirror_mode": {
    "name": "ipython",
    "version": 3
   },
   "file_extension": ".py",
   "mimetype": "text/x-python",
   "name": "python",
   "nbconvert_exporter": "python",
   "pygments_lexer": "ipython3",
   "version": "3.5.2"
  }
 },
 "nbformat": 4,
 "nbformat_minor": 0
}
