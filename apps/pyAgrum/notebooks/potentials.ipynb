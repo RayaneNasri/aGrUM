{
 "cells": [
  {
   "cell_type": "code",
   "execution_count": 1,
   "metadata": {
    "collapsed": false
   },
   "outputs": [],
   "source": [
    "import pyAgrum as gum\n",
    "import pyAgrum.lib.notebook as gnb\n",
    "\n",
    "a,b,c=[gum.LabelizedVariable(s,s,2) for s in \"abc\"]"
   ]
  },
  {
   "cell_type": "markdown",
   "metadata": {},
   "source": [
    "# potential algebra"
   ]
  },
  {
   "cell_type": "code",
   "execution_count": 2,
   "metadata": {
    "collapsed": false
   },
   "outputs": [],
   "source": [
    "p1=gum.Potential().add(a).add(b).fillWith([1,2,3,4]).normalize()\n",
    "p2=gum.Potential().add(b).add(c).fillWith([4,5,2,3]).normalize()"
   ]
  },
  {
   "cell_type": "code",
   "execution_count": 3,
   "metadata": {
    "collapsed": false
   },
   "outputs": [
    {
     "data": {
      "text/html": [
       "<table style=\"border-style: hidden; border-collapse: collapse;\" width=\"100%\"><tr><td style=\"border-top:hidden;border-bottom:hidden;\"><div align=\"center\"><table>\n",
       "<tr><th colspan='1'></th><th colspan='2' style='background-color:#AAAAAA'><center>a</center></th></tr>\n",
       "<tr><th style='background-color:#AAAAAA'><center>b</center></th><th style='background-color:#BBBBBB'><center>0</center></th><th style='background-color:#BBBBBB'><center>1</center></th></tr>\n",
       "<tr><th style='background-color:#BBBBBB'>0</th><td style='background-color:#f28b64;text-align:right;'>0.1000</td><td style='background-color:#e59864;text-align:right;'>0.2000</td></tr>\n",
       "<tr><th style='background-color:#BBBBBB'>1</th><td style='background-color:#d8a564;text-align:right;'>0.3000</td><td style='background-color:#cbb264;text-align:right;'>0.4000</td></tr>\n",
       "</table></div></td><td style=\"border-top:hidden;border-bottom:hidden;\"><div align=\"center\"><table>\n",
       "<tr><th colspan='1'></th><th colspan='2' style='background-color:#AAAAAA'><center>b</center></th></tr>\n",
       "<tr><th style='background-color:#AAAAAA'><center>c</center></th><th style='background-color:#BBBBBB'><center>0</center></th><th style='background-color:#BBBBBB'><center>1</center></th></tr>\n",
       "<tr><th style='background-color:#BBBBBB'>0</th><td style='background-color:#daa364;text-align:right;'>0.2857</td><td style='background-color:#d1ac64;text-align:right;'>0.3571</td></tr>\n",
       "<tr><th style='background-color:#BBBBBB'>1</th><td style='background-color:#ec9164;text-align:right;'>0.1429</td><td style='background-color:#e39a64;text-align:right;'>0.2143</td></tr>\n",
       "</table></div></td><td style=\"border-top:hidden;border-bottom:hidden;\"><div align=\"center\"><table>\n",
       "<tr><th colspan='2'></th><th colspan='2' style='background-color:#AAAAAA'><center>b</center></th></tr>\n",
       "<tr><th style='background-color:#AAAAAA'><center>c</center></th><th style='background-color:#AAAAAA'><center>a</center></th><th style='background-color:#BBBBBB'><center>0</center></th><th style='background-color:#BBBBBB'><center>1</center></th></tr>\n",
       "<tr><th style='background-color:#BBBBBB'>0</th><th style='background-color:#BBBBBB;' rowspan = '2'>0</th><td style='background-color:#cdb064;text-align:right;'>0.3857</td><td style='background-color:#aad364;text-align:right;'>0.6571</td></tr>\n",
       "<tr><th style='background-color:#BBBBBB'>1</th><td style='background-color:#df9e64;text-align:right;'>0.2429</td><td style='background-color:#bdc064;text-align:right;'>0.5143</td></tr>\n",
       "<tr><th style='background-color:#BBBBBB'>0</th><th style='background-color:#BBBBBB;' rowspan = '2'>1</th><td style='background-color:#c0bd64;text-align:right;'>0.4857</td><td style='background-color:#9edf64;text-align:right;'>0.7571</td></tr>\n",
       "<tr><th style='background-color:#BBBBBB'>1</th><td style='background-color:#d3aa64;text-align:right;'>0.3429</td><td style='background-color:#b0cd64;text-align:right;'>0.6143</td></tr>\n",
       "</table></div></td></tr><tr><td style=\"border-top:hidden;border-bottom:hidden;\"><div align=\"center\"><small>p1</small></div></td><td style=\"border-top:hidden;border-bottom:hidden;\"><div align=\"center\"><small>p2</small></div></td><td style=\"border-top:hidden;border-bottom:hidden;\"><div align=\"center\"><small>p1+p2</small></div></td></tr></table>"
      ],
      "text/plain": [
       "<IPython.core.display.HTML object>"
      ]
     },
     "metadata": {},
     "output_type": "display_data"
    }
   ],
   "source": [
    "gnb.sideBySide(p1,p2,p1+p2,\n",
    "              captions=['p1','p2','p1+p2'])"
   ]
  },
  {
   "cell_type": "code",
   "execution_count": 4,
   "metadata": {
    "collapsed": false
   },
   "outputs": [
    {
     "data": {
      "text/html": [
       "<table><tr><th colspan='2'></th><th colspan='2' style='background-color:#AAAAAA'><center>c</center></th></tr><tr><th style='background-color:#AAAAAA'><center>a</center></th><th style='background-color:#AAAAAA'><center>b</center></th><th style='background-color:#BBBBBB'><center>0</center></th><th style='background-color:#BBBBBB'><center>1</center></th></tr><tr><th style='background-color:#BBBBBB'>0</th><th style='background-color:#BBBBBB;' rowspan = '2'>0</th><td style='background-color:#cfae64;text-align:right;'>0.3699</td><td style='background-color:#d5a864;text-align:right;'>0.3208</td></tr><tr><th style='background-color:#BBBBBB'>1</th><td style='background-color:#ccb164;text-align:right;'>0.3908</td><td style='background-color:#d1ac64;text-align:right;'>0.3582</td></tr><tr><th style='background-color:#BBBBBB'>0</th><th style='background-color:#BBBBBB;' rowspan = '2'>1</th><td style='background-color:#aecf64;text-align:right;'>0.6301</td><td style='background-color:#a8d564;text-align:right;'>0.6792</td></tr><tr><th style='background-color:#BBBBBB'>1</th><td style='background-color:#b1cc64;text-align:right;'>0.6092</td><td style='background-color:#acd164;text-align:right;'>0.6418</td></tr></table>"
      ],
      "text/plain": [
       "<IPython.core.display.HTML object>"
      ]
     },
     "execution_count": 4,
     "metadata": {},
     "output_type": "execute_result"
    }
   ],
   "source": [
    "p3=p1+p2 \n",
    "gnb.showPotential(p3/p3.margSumOut([\"b\"]))"
   ]
  },
  {
   "cell_type": "code",
   "execution_count": 5,
   "metadata": {
    "collapsed": false
   },
   "outputs": [
    {
     "data": {
      "text/html": [
       "<table style=\"border-style: hidden; border-collapse: collapse;\" width=\"100%\"><tr><td style=\"border-top:hidden;border-bottom:hidden;\"><div align=\"center\"><table>\n",
       "<tr><th colspan='2'></th><th colspan='2' style='background-color:#AAAAAA'><center>b</center></th></tr>\n",
       "<tr><th style='background-color:#AAAAAA'><center>c</center></th><th style='background-color:#AAAAAA'><center>a</center></th><th style='background-color:#BBBBBB'><center>0</center></th><th style='background-color:#BBBBBB'><center>1</center></th></tr>\n",
       "<tr><th style='background-color:#BBBBBB'>0</th><th style='background-color:#BBBBBB;' rowspan = '2'>0</th><td style='background-color:#cdb064;text-align:right;'>0.3857</td><td style='background-color:#aad364;text-align:right;'>0.6571</td></tr>\n",
       "<tr><th style='background-color:#BBBBBB'>1</th><td style='background-color:#df9e64;text-align:right;'>0.2429</td><td style='background-color:#bdc064;text-align:right;'>0.5143</td></tr>\n",
       "<tr><th style='background-color:#BBBBBB'>0</th><th style='background-color:#BBBBBB;' rowspan = '2'>1</th><td style='background-color:#c0bd64;text-align:right;'>0.4857</td><td style='background-color:#9edf64;text-align:right;'>0.7571</td></tr>\n",
       "<tr><th style='background-color:#BBBBBB'>1</th><td style='background-color:#d3aa64;text-align:right;'>0.3429</td><td style='background-color:#b0cd64;text-align:right;'>0.6143</td></tr>\n",
       "</table></div></td><td style=\"border-top:hidden;border-bottom:hidden;\"><div align=\"center\"><table>\n",
       "<tr><th colspan='2'></th><th colspan='2' style='background-color:#AAAAAA'><center>b</center></th></tr>\n",
       "<tr><th style='background-color:#AAAAAA'><center>c</center></th><th style='background-color:#AAAAAA'><center>a</center></th><th style='background-color:#BBBBBB'><center>0</center></th><th style='background-color:#BBBBBB'><center>1</center></th></tr>\n",
       "<tr><th style='background-color:#BBBBBB'>0</th><th style='background-color:#BBBBBB;' rowspan = '2'>0</th><td style='text-align:right;'>1.3857</td><td style='text-align:right;'>1.6571</td></tr>\n",
       "<tr><th style='background-color:#BBBBBB'>1</th><td style='text-align:right;'>1.2429</td><td style='text-align:right;'>1.5143</td></tr>\n",
       "<tr><th style='background-color:#BBBBBB'>0</th><th style='background-color:#BBBBBB;' rowspan = '2'>1</th><td style='text-align:right;'>1.4857</td><td style='text-align:right;'>1.7571</td></tr>\n",
       "<tr><th style='background-color:#BBBBBB'>1</th><td style='text-align:right;'>1.3429</td><td style='text-align:right;'>1.6143</td></tr>\n",
       "</table></div></td></tr><tr><td style=\"border-top:hidden;border-bottom:hidden;\"><div align=\"center\"><small>p3</small></div></td><td style=\"border-top:hidden;border-bottom:hidden;\"><div align=\"center\"><small>p4</small></div></td></tr></table>"
      ],
      "text/plain": [
       "<IPython.core.display.HTML object>"
      ]
     },
     "metadata": {},
     "output_type": "display_data"
    }
   ],
   "source": [
    "p4=gum.Potential()+p3\n",
    "gnb.sideBySide(p3,p4,\n",
    "              captions=['p3','p4'])\n"
   ]
  },
  {
   "cell_type": "markdown",
   "metadata": {},
   "source": [
    "# bayes formula"
   ]
  },
  {
   "cell_type": "code",
   "execution_count": 6,
   "metadata": {
    "collapsed": false
   },
   "outputs": [
    {
     "data": {
      "text/html": [
       "<svg height=\"116pt\" viewBox=\"0.00 0.00 134.00 116.00\" width=\"134pt\" xmlns=\"http://www.w3.org/2000/svg\" xmlns:xlink=\"http://www.w3.org/1999/xlink\">\n",
       "<g class=\"graph\" id=\"graph0\" transform=\"scale(1 1) rotate(0) translate(4 112)\">\n",
       "<title>G</title>\n",
       "<polygon fill=\"#ffffff\" points=\"-4,4 -4,-112 130,-112 130,4 -4,4\" stroke=\"transparent\"/>\n",
       "<!-- a -->\n",
       "<g class=\"node\" id=\"node1\">\n",
       "<title>a</title>\n",
       "<g id=\"a_node1\"><a xlink:title=\"(0) a\">\n",
       "<ellipse cx=\"27\" cy=\"-90\" fill=\"#444444\" rx=\"27\" ry=\"18\" stroke=\"#000000\"/>\n",
       "<text fill=\"#ffffff\" font-family=\"Times,serif\" font-size=\"14.00\" text-anchor=\"middle\" x=\"27\" y=\"-85.8\">a</text>\n",
       "</a>\n",
       "</g>\n",
       "</g>\n",
       "<!-- c -->\n",
       "<g class=\"node\" id=\"node2\">\n",
       "<title>c</title>\n",
       "<g id=\"a_node2\"><a xlink:title=\"(1) c\">\n",
       "<ellipse cx=\"63\" cy=\"-18\" fill=\"#444444\" rx=\"27\" ry=\"18\" stroke=\"#000000\"/>\n",
       "<text fill=\"#ffffff\" font-family=\"Times,serif\" font-size=\"14.00\" text-anchor=\"middle\" x=\"63\" y=\"-13.8\">c</text>\n",
       "</a>\n",
       "</g>\n",
       "</g>\n",
       "<!-- a&#45;&gt;c -->\n",
       "<g class=\"edge\" id=\"edge1\">\n",
       "<title>a-&gt;c</title>\n",
       "<g id=\"a_edge1\"><a xlink:title=\"(0, 1) : \">\n",
       "<path d=\"M35.7146,-72.5708C39.9597,-64.0807 45.1536,-53.6929 49.8663,-44.2674\" fill=\"none\" stroke=\"#000000\"/>\n",
       "<polygon fill=\"#000000\" points=\"53.024,-45.7782 54.3657,-35.2687 46.763,-42.6477 53.024,-45.7782\" stroke=\"#000000\"/>\n",
       "</a>\n",
       "</g>\n",
       "</g>\n",
       "<!-- b -->\n",
       "<g class=\"node\" id=\"node3\">\n",
       "<title>b</title>\n",
       "<g id=\"a_node3\"><a xlink:title=\"(2) b\">\n",
       "<ellipse cx=\"99\" cy=\"-90\" fill=\"#444444\" rx=\"27\" ry=\"18\" stroke=\"#000000\"/>\n",
       "<text fill=\"#ffffff\" font-family=\"Times,serif\" font-size=\"14.00\" text-anchor=\"middle\" x=\"99\" y=\"-85.8\">b</text>\n",
       "</a>\n",
       "</g>\n",
       "</g>\n",
       "<!-- b&#45;&gt;c -->\n",
       "<g class=\"edge\" id=\"edge2\">\n",
       "<title>b-&gt;c</title>\n",
       "<g id=\"a_edge2\"><a xlink:title=\"(2, 1) : \">\n",
       "<path d=\"M90.2854,-72.5708C86.0403,-64.0807 80.8464,-53.6929 76.1337,-44.2674\" fill=\"none\" stroke=\"#000000\"/>\n",
       "<polygon fill=\"#000000\" points=\"79.237,-42.6477 71.6343,-35.2687 72.976,-45.7782 79.237,-42.6477\" stroke=\"#000000\"/>\n",
       "</a>\n",
       "</g>\n",
       "</g>\n",
       "</g>\n",
       "</svg>"
      ],
      "text/plain": [
       "<pyAgrum.pyAgrum.BayesNet_double; proxy of <Swig Object of type 'gum::BayesNet< double > *' at 0x10f7f4ed0> >"
      ]
     },
     "execution_count": 6,
     "metadata": {},
     "output_type": "execute_result"
    }
   ],
   "source": [
    "bn=gum.fastBN(\"a->c;b->c\",3)\n",
    "bn"
   ]
  },
  {
   "cell_type": "markdown",
   "metadata": {},
   "source": [
    "In such a small bayes net, we can directly manipulate $P(a,b,c)$. For instance : $$P(b|c)=\\frac{\\sum_{a} P(a,b,c)}{\\sum_{a,b} P(a,b,c)}$$"
   ]
  },
  {
   "cell_type": "code",
   "execution_count": 7,
   "metadata": {
    "collapsed": false
   },
   "outputs": [
    {
     "data": {
      "text/html": [
       "<table>\n",
       "<tr><th colspan='1'></th><th colspan='3' style='background-color:#AAAAAA'><center>b</center></th></tr>\n",
       "<tr><th style='background-color:#AAAAAA'><center>c</center></th><th style='background-color:#BBBBBB'><center>0</center></th><th style='background-color:#BBBBBB'><center>1</center></th><th style='background-color:#BBBBBB'><center>2</center></th></tr>\n",
       "<tr><th style='background-color:#BBBBBB'>0</th><td style='background-color:#dca164;text-align:right;'>0.2677</td><td style='background-color:#fa8364;text-align:right;'>0.0335</td><td style='background-color:#a5d864;text-align:right;'>0.6988</td></tr>\n",
       "<tr><th style='background-color:#BBBBBB'>1</th><td style='background-color:#d8a564;text-align:right;'>0.2991</td><td style='background-color:#fc8164;text-align:right;'>0.0190</td><td style='background-color:#a7d664;text-align:right;'>0.6819</td></tr>\n",
       "<tr><th style='background-color:#BBBBBB'>2</th><td style='background-color:#cbb264;text-align:right;'>0.3995</td><td style='background-color:#fb8264;text-align:right;'>0.0240</td><td style='background-color:#b5c864;text-align:right;'>0.5765</td></tr>\n",
       "</table>"
      ],
      "text/plain": [
       "<pyAgrum.pyAgrum.Potential_double; proxy of <Swig Object of type 'gum::Potential< double > *' at 0x10fa026c0> >"
      ]
     },
     "execution_count": 7,
     "metadata": {},
     "output_type": "execute_result"
    }
   ],
   "source": [
    "pABC=bn.cpt(\"a\")*bn.cpt(\"b\")*bn.cpt(\"c\")\n",
    "pBgivenC=(pABC.margSumOut([\"a\"])/pABC.margSumOut([\"a\",\"b\"])).putFirst(\"b\")\n",
    "\n",
    "pBgivenC"
   ]
  },
  {
   "cell_type": "markdown",
   "metadata": {},
   "source": [
    "# Joint, marginal probability, likelihood\n",
    "Let's compute the joint probability $P(A,B)$ from $P(A,B,C)$"
   ]
  },
  {
   "cell_type": "code",
   "execution_count": 8,
   "metadata": {
    "collapsed": false
   },
   "outputs": [
    {
     "name": "stdout",
     "output_type": "stream",
     "text": [
      "pAC really is a probability : it sums to 1.0\n"
     ]
    },
    {
     "data": {
      "text/html": [
       "<table>\n",
       "<tr><th colspan='1'></th><th colspan='3' style='background-color:#AAAAAA'><center>a</center></th></tr>\n",
       "<tr><th style='background-color:#AAAAAA'><center>c</center></th><th style='background-color:#BBBBBB'><center>0</center></th><th style='background-color:#BBBBBB'><center>1</center></th><th style='background-color:#BBBBBB'><center>2</center></th></tr>\n",
       "<tr><th style='background-color:#BBBBBB'>0</th><td style='background-color:#ee8f64;text-align:right;'>0.1320</td><td style='background-color:#fa8364;text-align:right;'>0.0315</td><td style='background-color:#f18c64;text-align:right;'>0.1035</td></tr>\n",
       "<tr><th style='background-color:#BBBBBB'>1</th><td style='background-color:#f18c64;text-align:right;'>0.1055</td><td style='background-color:#f68764;text-align:right;'>0.0636</td><td style='background-color:#ea9364;text-align:right;'>0.1574</td></tr>\n",
       "<tr><th style='background-color:#BBBBBB'>2</th><td style='background-color:#f38a64;text-align:right;'>0.0873</td><td style='background-color:#ea9364;text-align:right;'>0.1612</td><td style='background-color:#ea9364;text-align:right;'>0.1580</td></tr>\n",
       "</table>"
      ],
      "text/plain": [
       "<pyAgrum.pyAgrum.Potential_double; proxy of <Swig Object of type 'gum::Potential< double > *' at 0x10fa027e0> >"
      ]
     },
     "execution_count": 8,
     "metadata": {},
     "output_type": "execute_result"
    }
   ],
   "source": [
    "pAC=pABC.margSumOut([\"b\"])\n",
    "print(\"pAC really is a probability : it sums to {}\".format(pAC.sum()))\n",
    "pAC\n"
   ]
  },
  {
   "cell_type": "markdown",
   "metadata": {},
   "source": [
    "## Computing $p(A)$"
   ]
  },
  {
   "cell_type": "code",
   "execution_count": 9,
   "metadata": {
    "collapsed": false
   },
   "outputs": [
    {
     "data": {
      "text/html": [
       "<table>\n",
       "<tr style='background-color:#AAAAAA'><th colspan='3'><center>a</center></th></tr>\n",
       "<tr><th style='background-color:#BBBBBB'><center>0</center></th><th style='background-color:#BBBBBB'><center>1</center></th><th style='background-color:#BBBBBB'><center>2</center></th></tr>\n",
       "<tr><td style='background-color:#d5a864;text-align:right;'>0.3248</td><td style='background-color:#de9f64;text-align:right;'>0.2563</td><td style='background-color:#c9b464;text-align:right;'>0.4189</td></tr>\n",
       "</table>"
      ],
      "text/plain": [
       "<pyAgrum.pyAgrum.Potential_double; proxy of <Swig Object of type 'gum::Potential< double > *' at 0x10fa026f0> >"
      ]
     },
     "execution_count": 9,
     "metadata": {},
     "output_type": "execute_result"
    }
   ],
   "source": [
    "pAC.margSumOut([\"c\"])"
   ]
  },
  {
   "cell_type": "markdown",
   "metadata": {},
   "source": [
    "## Computing $p(A |C=1)$\n",
    "It is easy to compute $p(A, C=1)$"
   ]
  },
  {
   "cell_type": "code",
   "execution_count": 10,
   "metadata": {
    "collapsed": false
   },
   "outputs": [
    {
     "data": {
      "text/html": [
       "<table>\n",
       "<tr style='background-color:#AAAAAA'><th colspan='3'><center>a</center></th></tr>\n",
       "<tr><th style='background-color:#BBBBBB'><center>0</center></th><th style='background-color:#BBBBBB'><center>1</center></th><th style='background-color:#BBBBBB'><center>2</center></th></tr>\n",
       "<tr><td style='background-color:#f18c64;text-align:right;'>0.1055</td><td style='background-color:#f68764;text-align:right;'>0.0636</td><td style='background-color:#ea9364;text-align:right;'>0.1574</td></tr>\n",
       "</table>"
      ],
      "text/plain": [
       "<pyAgrum.pyAgrum.Potential_double; proxy of <Swig Object of type 'gum::Potential< double > *' at 0x10fa02690> >"
      ]
     },
     "execution_count": 10,
     "metadata": {},
     "output_type": "execute_result"
    }
   ],
   "source": [
    "pAC.extract({\"c\":1})"
   ]
  },
  {
   "cell_type": "markdown",
   "metadata": {},
   "source": [
    "Moreover, we know that $P(C=1)=\\sum_A P(A,C=1)$"
   ]
  },
  {
   "cell_type": "code",
   "execution_count": 11,
   "metadata": {
    "collapsed": false
   },
   "outputs": [
    {
     "data": {
      "text/plain": [
       "0.32651705815877474"
      ]
     },
     "execution_count": 11,
     "metadata": {},
     "output_type": "execute_result"
    }
   ],
   "source": [
    "pAC.extract({\"c\":1}).sum()"
   ]
  },
  {
   "cell_type": "markdown",
   "metadata": {},
   "source": [
    "Now we can compute $p(A|C=1)=\\frac{P(A,C=1)}{p(C=1)}$"
   ]
  },
  {
   "cell_type": "code",
   "execution_count": 12,
   "metadata": {
    "collapsed": false
   },
   "outputs": [
    {
     "data": {
      "text/html": [
       "<table>\n",
       "<tr style='background-color:#AAAAAA'><th colspan='3'><center>a</center></th></tr>\n",
       "<tr><th style='background-color:#BBBBBB'><center>0</center></th><th style='background-color:#BBBBBB'><center>1</center></th><th style='background-color:#BBBBBB'><center>2</center></th></tr>\n",
       "<tr><td style='background-color:#d5a864;text-align:right;'>0.3232</td><td style='background-color:#e69764;text-align:right;'>0.1948</td><td style='background-color:#c1bc64;text-align:right;'>0.4821</td></tr>\n",
       "</table>"
      ],
      "text/plain": [
       "<pyAgrum.pyAgrum.Potential_double; proxy of <Swig Object of type 'gum::Potential< double > *' at 0x10fa02930> >"
      ]
     },
     "execution_count": 12,
     "metadata": {},
     "output_type": "execute_result"
    }
   ],
   "source": [
    "pAC.extract({\"c\":1}).normalize()"
   ]
  },
  {
   "cell_type": "markdown",
   "metadata": {},
   "source": [
    "## Computing $P(A|C)$\n",
    "$P(A|C)$ is represented by a matrix that verifies $p(A|C)=\\frac{P(A,C)}{P(C}$"
   ]
  },
  {
   "cell_type": "code",
   "execution_count": 13,
   "metadata": {
    "collapsed": false
   },
   "outputs": [
    {
     "data": {
      "text/html": [
       "<table style=\"border-style: hidden; border-collapse: collapse;\" width=\"100%\"><tr><td style=\"border-top:hidden;border-bottom:hidden;\"><div align=\"center\"><table>\n",
       "<tr><th colspan='1'></th><th colspan='3' style='background-color:#AAAAAA'><center>c</center></th></tr>\n",
       "<tr><th style='background-color:#AAAAAA'><center>a</center></th><th style='background-color:#BBBBBB'><center>0</center></th><th style='background-color:#BBBBBB'><center>1</center></th><th style='background-color:#BBBBBB'><center>2</center></th></tr>\n",
       "<tr><th style='background-color:#BBBBBB'>0</th><td style='background-color:#bfbe64;text-align:right;'>0.4944</td><td style='background-color:#d5a864;text-align:right;'>0.3232</td><td style='background-color:#e39a64;text-align:right;'>0.2147</td></tr>\n",
       "<tr><th style='background-color:#BBBBBB'>1</th><td style='background-color:#ef8e64;text-align:right;'>0.1178</td><td style='background-color:#e69764;text-align:right;'>0.1948</td><td style='background-color:#ccb164;text-align:right;'>0.3966</td></tr>\n",
       "<tr><th style='background-color:#BBBBBB'>2</th><td style='background-color:#cdb064;text-align:right;'>0.3878</td><td style='background-color:#c1bc64;text-align:right;'>0.4821</td><td style='background-color:#cdb064;text-align:right;'>0.3887</td></tr>\n",
       "</table></div></td><td style=\"border-top:hidden;border-bottom:hidden;\"><div align=\"center\"><table>\n",
       "<tr style='background-color:#AAAAAA'><th colspan='3'><center>a</center></th></tr>\n",
       "<tr><th style='background-color:#BBBBBB'><center>0</center></th><th style='background-color:#BBBBBB'><center>1</center></th><th style='background-color:#BBBBBB'><center>2</center></th></tr>\n",
       "<tr><td style='background-color:#d5a864;text-align:right;'>0.3232</td><td style='background-color:#e69764;text-align:right;'>0.1948</td><td style='background-color:#c1bc64;text-align:right;'>0.4821</td></tr>\n",
       "</table></div></td></tr><tr><td style=\"border-top:hidden;border-bottom:hidden;\"><div align=\"center\"><small>$P(A|C)$</small></div></td><td style=\"border-top:hidden;border-bottom:hidden;\"><div align=\"center\"><small>$P(A|C=1)$</small></div></td></tr></table>"
      ],
      "text/plain": [
       "<IPython.core.display.HTML object>"
      ]
     },
     "metadata": {},
     "output_type": "display_data"
    }
   ],
   "source": [
    "pAgivenC=pAC/pAC.margSumIn([\"c\"])\n",
    "gnb.sideBySide(pAgivenC,pAgivenC.extract({'c':1}),\n",
    "               captions=[\"$P(A|C)$\",\"$P(A|C=1)$\"])"
   ]
  },
  {
   "cell_type": "markdown",
   "metadata": {},
   "source": [
    "## Likelihood $P(A=2|C)$"
   ]
  },
  {
   "cell_type": "markdown",
   "metadata": {},
   "source": [
    "A likelihood can also be found in this matrix."
   ]
  },
  {
   "cell_type": "code",
   "execution_count": 14,
   "metadata": {
    "collapsed": false
   },
   "outputs": [
    {
     "data": {
      "text/html": [
       "<table>\n",
       "<tr style='background-color:#AAAAAA'><th colspan='3'><center>c</center></th></tr>\n",
       "<tr><th style='background-color:#BBBBBB'><center>0</center></th><th style='background-color:#BBBBBB'><center>1</center></th><th style='background-color:#BBBBBB'><center>2</center></th></tr>\n",
       "<tr><td style='background-color:#cdb064;text-align:right;'>0.3878</td><td style='background-color:#c1bc64;text-align:right;'>0.4821</td><td style='background-color:#cdb064;text-align:right;'>0.3887</td></tr>\n",
       "</table>"
      ],
      "text/plain": [
       "<pyAgrum.pyAgrum.Potential_double; proxy of <Swig Object of type 'gum::Potential< double > *' at 0x10fa028a0> >"
      ]
     },
     "execution_count": 14,
     "metadata": {},
     "output_type": "execute_result"
    }
   ],
   "source": [
    "pAgivenC.extract({'a':2})"
   ]
  },
  {
   "cell_type": "markdown",
   "metadata": {},
   "source": [
    "A likelihood does not have to sum to 1. It is not relevant to normalize it."
   ]
  },
  {
   "cell_type": "code",
   "execution_count": 15,
   "metadata": {
    "collapsed": false
   },
   "outputs": [
    {
     "data": {
      "text/html": [
       "<table>\n",
       "<tr style='background-color:#AAAAAA'><th colspan='3'><center>a</center></th></tr>\n",
       "<tr><th style='background-color:#BBBBBB'><center>0</center></th><th style='background-color:#BBBBBB'><center>1</center></th><th style='background-color:#BBBBBB'><center>2</center></th></tr>\n",
       "<tr><td style='text-align:right;'>1.0322</td><td style='background-color:#a4d964;text-align:right;'>0.7092</td><td style='text-align:right;'>1.2586</td></tr>\n",
       "</table>"
      ],
      "text/plain": [
       "<pyAgrum.pyAgrum.Potential_double; proxy of <Swig Object of type 'gum::Potential< double > *' at 0x10fa02900> >"
      ]
     },
     "execution_count": 15,
     "metadata": {},
     "output_type": "execute_result"
    }
   ],
   "source": [
    "pAgivenC.margSumIn([\"a\"])"
   ]
  },
  {
   "cell_type": "markdown",
   "metadata": {},
   "source": [
    "# entropy of potential"
   ]
  },
  {
   "cell_type": "code",
   "execution_count": 16,
   "metadata": {
    "collapsed": true
   },
   "outputs": [],
   "source": [
    "%matplotlib inline\n",
    "from pylab import *\n",
    "import matplotlib.pyplot as plt\n",
    "import numpy as np"
   ]
  },
  {
   "cell_type": "code",
   "execution_count": 17,
   "metadata": {
    "collapsed": false
   },
   "outputs": [
    {
     "data": {
      "image/png": "[encoded data removed]",
      "text/plain": [
       "<matplotlib.figure.Figure at 0x10f8dd9b0>"
      ]
     },
     "metadata": {},
     "output_type": "display_data"
    }
   ],
   "source": [
    "p1=gum.Potential().add(a)\n",
    "x = np.linspace(0, 1, 100)\n",
    "plt.plot(x,[p1.fillWith([p,1-p]).entropy() for p in x])\n",
    "plt.show()"
   ]
  },
  {
   "cell_type": "code",
   "execution_count": 18,
   "metadata": {
    "collapsed": false
   },
   "outputs": [
    {
     "data": {
      "image/png": "[encoded data removed]",
      "text/plain": [
       "<matplotlib.figure.Figure at 0x10f7e97b8>"
      ]
     },
     "metadata": {},
     "output_type": "display_data"
    }
   ],
   "source": [
    "t=gum.LabelizedVariable('t','t',3)\n",
    "p1=gum.Potential().add(t)\n",
    "\n",
    "def entrop(bc):\n",
    "    \"\"\"\n",
    "    bc is a list [a,b,c] close to a distribution \n",
    "    (normalized just to be sure)\n",
    "    \"\"\"\n",
    "    return p1.fillWith(bc).normalize().entropy()\n",
    "\n",
    "import matplotlib.tri as tri\n",
    "\n",
    "corners = np.array([[0, 0], [1, 0], [0.5, 0.75**0.5]])\n",
    "triangle = tri.Triangulation(corners[:, 0], corners[:, 1])\n",
    "\n",
    "# Mid-points of triangle sides opposite of each corner\n",
    "midpoints = [(corners[(i + 1) % 3] + corners[(i + 2) % 3]) / 2.0 \\\n",
    "             for i in range(3)]\n",
    "def xy2bc(xy, tol=1.e-3):\n",
    "    \"\"\"\n",
    "    From 2D Cartesian coordinates to barycentric.\n",
    "    \"\"\"\n",
    "    s = [(corners[i] - midpoints[i]).dot(xy - midpoints[i]) / 0.75 \\\n",
    "         for i in range(3)]\n",
    "    return np.clip(s, tol, 1.0 - tol)\n",
    "    \n",
    "def draw_entropy(nlevels=200, subdiv=6, **kwargs):\n",
    "    import math\n",
    "\n",
    "    refiner = tri.UniformTriRefiner(triangle)\n",
    "    trimesh = refiner.refine_triangulation(subdiv=subdiv)\n",
    "    pvals = [entrop(xy2bc(xy)) for xy in zip(trimesh.x, trimesh.y)]\n",
    "\n",
    "    plt.tricontourf(trimesh, pvals, nlevels, **kwargs)\n",
    "    plt.axis('equal')\n",
    "    plt.xlim(0, 1)\n",
    "    plt.ylim(0, 0.75**0.5)\n",
    "    plt.axis('off')\n",
    "    \n",
    "draw_entropy()"
   ]
  },
  {
   "cell_type": "code",
   "execution_count": 19,
   "metadata": {
    "collapsed": true
   },
   "outputs": [],
   "source": []
  }
 ],
 "metadata": {
  "kernelspec": {
   "display_name": "Python [default]",
   "language": "python",
   "name": "python3"
  },
  "language_info": {
   "codemirror_mode": {
    "name": "ipython",
    "version": 3
   },
   "file_extension": ".py",
   "mimetype": "text/x-python",
   "name": "python",
   "nbconvert_exporter": "python",
   "pygments_lexer": "ipython3",
   "version": "3.5.2"
  }
 },
 "nbformat": 4,
 "nbformat_minor": 0
}
