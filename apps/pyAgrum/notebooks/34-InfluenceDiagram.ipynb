{
 "cells": [
  {
   "cell_type": "code",
   "execution_count": 1,
   "metadata": {
    "collapsed": false,
    "deletable": true,
    "editable": true
   },
   "outputs": [],
   "source": [
    "%matplotlib inline\n",
    "from pylab import *\n",
    "import matplotlib.pyplot as plt"
   ]
  },
  {
   "cell_type": "code",
   "execution_count": 2,
   "metadata": {
    "collapsed": false,
    "deletable": true,
    "editable": true
   },
   "outputs": [],
   "source": [
    "import pyAgrum as gum\n",
    "import pyAgrum.lib.notebook as gnb\n"
   ]
  },
  {
   "cell_type": "code",
   "execution_count": 3,
   "metadata": {
    "collapsed": false,
    "deletable": true,
    "editable": true
   },
   "outputs": [
    {
     "data": {
      "text/html": [
       "<svg height=\"432pt\" viewBox=\"0.00 0.00 409.56 432.00\" width=\"410pt\" xmlns=\"http://www.w3.org/2000/svg\" xmlns:xlink=\"http://www.w3.org/1999/xlink\">\n",
       "<g class=\"graph\" id=\"graph0\" transform=\"scale(0.907563 0.907563) rotate(0) translate(4 472)\">\n",
       "<title>../resources/diag.bifxml</title>\n",
       "<polygon fill=\"white\" points=\"-4,4 -4,-472 447.275,-472 447.275,4 -4,4\" stroke=\"none\"/>\n",
       "<!-- decisionVar1 -->\n",
       "<g class=\"node\" id=\"node1\"><title>decisionVar1</title>\n",
       "<polygon fill=\"lightgrey\" points=\"184.775,-468 92.7751,-468 92.7751,-432 184.775,-432 184.775,-468\" stroke=\"black\"/>\n",
       "<text font-family=\"Times,serif\" font-size=\"14.00\" text-anchor=\"middle\" x=\"138.775\" y=\"-446.3\">decisionVar1</text>\n",
       "</g>\n",
       "<!-- chanceVar1 -->\n",
       "<g class=\"node\" id=\"node7\"><title>chanceVar1</title>\n",
       "<ellipse cx=\"138.775\" cy=\"-378\" fill=\"lightgrey\" rx=\"53.8905\" ry=\"18\" stroke=\"black\"/>\n",
       "<text font-family=\"Times,serif\" font-size=\"14.00\" text-anchor=\"middle\" x=\"138.775\" y=\"-374.3\">chanceVar1</text>\n",
       "</g>\n",
       "<!-- decisionVar1&#45;&gt;chanceVar1 -->\n",
       "<g class=\"edge\" id=\"edge1\"><title>decisionVar1-&gt;chanceVar1</title>\n",
       "<path d=\"M138.775,-431.697C138.775,-423.983 138.775,-414.712 138.775,-406.112\" fill=\"none\" stroke=\"black\"/>\n",
       "<polygon fill=\"black\" points=\"142.275,-406.104 138.775,-396.104 135.275,-406.104 142.275,-406.104\" stroke=\"black\"/>\n",
       "</g>\n",
       "<!-- decisionVar2 -->\n",
       "<g class=\"node\" id=\"node2\"><title>decisionVar2</title>\n",
       "<polygon fill=\"lightgrey\" points=\"241.775,-252 149.775,-252 149.775,-216 241.775,-216 241.775,-252\" stroke=\"black\"/>\n",
       "<text font-family=\"Times,serif\" font-size=\"14.00\" text-anchor=\"middle\" x=\"195.775\" y=\"-230.3\">decisionVar2</text>\n",
       "</g>\n",
       "<!-- utilityVar1 -->\n",
       "<g class=\"node\" id=\"node5\"><title>utilityVar1</title>\n",
       "<polygon fill=\"lightgrey\" points=\"70.7751,-180 0.224179,-162 70.7751,-144 141.326,-162 70.7751,-180\" stroke=\"black\"/>\n",
       "<text font-family=\"Times,serif\" font-size=\"14.00\" text-anchor=\"middle\" x=\"70.7751\" y=\"-158.3\">utilityVar1</text>\n",
       "</g>\n",
       "<!-- decisionVar2&#45;&gt;utilityVar1 -->\n",
       "<g class=\"edge\" id=\"edge2\"><title>decisionVar2-&gt;utilityVar1</title>\n",
       "<path d=\"M165.197,-215.876C145.48,-204.835 119.969,-190.548 100.435,-179.61\" fill=\"none\" stroke=\"black\"/>\n",
       "<polygon fill=\"black\" points=\"102.086,-176.523 91.6511,-174.691 98.666,-182.63 102.086,-176.523\" stroke=\"black\"/>\n",
       "</g>\n",
       "<!-- chanceVar4 -->\n",
       "<g class=\"node\" id=\"node10\"><title>chanceVar4</title>\n",
       "<ellipse cx=\"214.775\" cy=\"-162\" fill=\"lightgrey\" rx=\"55.4913\" ry=\"18\" stroke=\"black\"/>\n",
       "<text font-family=\"Times,serif\" font-size=\"14.00\" text-anchor=\"middle\" x=\"214.775\" y=\"-158.3\">chanceVar4</text>\n",
       "</g>\n",
       "<!-- decisionVar2&#45;&gt;chanceVar4 -->\n",
       "<g class=\"edge\" id=\"edge3\"><title>decisionVar2-&gt;chanceVar4</title>\n",
       "<path d=\"M200.472,-215.697C202.589,-207.898 205.137,-198.509 207.493,-189.829\" fill=\"none\" stroke=\"black\"/>\n",
       "<polygon fill=\"black\" points=\"210.891,-190.672 210.133,-180.104 204.135,-188.838 210.891,-190.672\" stroke=\"black\"/>\n",
       "</g>\n",
       "<!-- decisionVar3 -->\n",
       "<g class=\"node\" id=\"node3\"><title>decisionVar3</title>\n",
       "<polygon fill=\"lightgrey\" points=\"375.775,-252 283.775,-252 283.775,-216 375.775,-216 375.775,-252\" stroke=\"black\"/>\n",
       "<text font-family=\"Times,serif\" font-size=\"14.00\" text-anchor=\"middle\" x=\"329.775\" y=\"-230.3\">decisionVar3</text>\n",
       "</g>\n",
       "<!-- chanceVar3 -->\n",
       "<g class=\"node\" id=\"node9\"><title>chanceVar3</title>\n",
       "<ellipse cx=\"341.775\" cy=\"-162\" fill=\"lightgrey\" rx=\"53.8905\" ry=\"18\" stroke=\"black\"/>\n",
       "<text font-family=\"Times,serif\" font-size=\"14.00\" text-anchor=\"middle\" x=\"341.775\" y=\"-158.3\">chanceVar3</text>\n",
       "</g>\n",
       "<!-- decisionVar3&#45;&gt;chanceVar3 -->\n",
       "<g class=\"edge\" id=\"edge4\"><title>decisionVar3-&gt;chanceVar3</title>\n",
       "<path d=\"M332.741,-215.697C334.064,-207.983 335.653,-198.712 337.127,-190.112\" fill=\"none\" stroke=\"black\"/>\n",
       "<polygon fill=\"black\" points=\"340.603,-190.552 338.843,-180.104 333.704,-189.369 340.603,-190.552\" stroke=\"black\"/>\n",
       "</g>\n",
       "<!-- decisionVar4 -->\n",
       "<g class=\"node\" id=\"node4\"><title>decisionVar4</title>\n",
       "<polygon fill=\"lightgrey\" points=\"443.275,-108 350.275,-108 350.275,-72 443.275,-72 443.275,-108\" stroke=\"black\"/>\n",
       "<text font-family=\"Times,serif\" font-size=\"14.00\" text-anchor=\"middle\" x=\"396.775\" y=\"-86.3\">decisionVar4</text>\n",
       "</g>\n",
       "<!-- utilityVar2 -->\n",
       "<g class=\"node\" id=\"node6\"><title>utilityVar2</title>\n",
       "<polygon fill=\"lightgrey\" points=\"336.775,-36 266.224,-18 336.775,-3.55271e-15 407.326,-18 336.775,-36\" stroke=\"black\"/>\n",
       "<text font-family=\"Times,serif\" font-size=\"14.00\" text-anchor=\"middle\" x=\"336.775\" y=\"-14.3\">utilityVar2</text>\n",
       "</g>\n",
       "<!-- decisionVar4&#45;&gt;utilityVar2 -->\n",
       "<g class=\"edge\" id=\"edge5\"><title>decisionVar4-&gt;utilityVar2</title>\n",
       "<path d=\"M381.944,-71.6966C374.027,-62.4607 364.198,-50.9936 355.733,-41.1172\" fill=\"none\" stroke=\"black\"/>\n",
       "<polygon fill=\"black\" points=\"358.18,-38.5938 349.014,-33.279 352.865,-43.1493 358.18,-38.5938\" stroke=\"black\"/>\n",
       "</g>\n",
       "<!-- chanceVar1&#45;&gt;utilityVar1 -->\n",
       "<g class=\"edge\" id=\"edge6\"><title>chanceVar1-&gt;utilityVar1</title>\n",
       "<path d=\"M133.325,-359.849C121.392,-322.294 92.8991,-232.625 78.8661,-188.463\" fill=\"none\" stroke=\"black\"/>\n",
       "<polygon fill=\"black\" points=\"82.15,-187.24 75.7859,-178.769 75.4787,-189.36 82.15,-187.24\" stroke=\"black\"/>\n",
       "</g>\n",
       "<!-- chanceVar2 -->\n",
       "<g class=\"node\" id=\"node8\"><title>chanceVar2</title>\n",
       "<ellipse cx=\"195.775\" cy=\"-306\" fill=\"lightgrey\" rx=\"53.8905\" ry=\"18\" stroke=\"black\"/>\n",
       "<text font-family=\"Times,serif\" font-size=\"14.00\" text-anchor=\"middle\" x=\"195.775\" y=\"-302.3\">chanceVar2</text>\n",
       "</g>\n",
       "<!-- chanceVar1&#45;&gt;chanceVar2 -->\n",
       "<g class=\"edge\" id=\"edge7\"><title>chanceVar1-&gt;chanceVar2</title>\n",
       "<path d=\"M152.283,-360.411C159.311,-351.781 168.039,-341.062 175.827,-331.497\" fill=\"none\" stroke=\"black\"/>\n",
       "<polygon fill=\"black\" points=\"178.764,-333.434 182.364,-323.47 173.336,-329.014 178.764,-333.434\" stroke=\"black\"/>\n",
       "</g>\n",
       "<!-- chanceVar2&#45;&gt;decisionVar2 -->\n",
       "<g class=\"edge\" id=\"edge8\"><title>chanceVar2-&gt;decisionVar2</title>\n",
       "<path d=\"M195.775,-287.697C195.775,-279.983 195.775,-270.712 195.775,-262.112\" fill=\"none\" stroke=\"black\"/>\n",
       "<polygon fill=\"black\" points=\"199.275,-262.104 195.775,-252.104 192.275,-262.104 199.275,-262.104\" stroke=\"black\"/>\n",
       "</g>\n",
       "<!-- chanceVar2&#45;&gt;decisionVar3 -->\n",
       "<g class=\"edge\" id=\"edge9\"><title>chanceVar2-&gt;decisionVar3</title>\n",
       "<path d=\"M223.54,-290.496C242.104,-280.798 266.873,-267.859 287.824,-256.915\" fill=\"none\" stroke=\"black\"/>\n",
       "<polygon fill=\"black\" points=\"289.599,-259.936 296.842,-252.204 286.358,-253.732 289.599,-259.936\" stroke=\"black\"/>\n",
       "</g>\n",
       "<!-- chanceVar5 -->\n",
       "<g class=\"node\" id=\"node11\"><title>chanceVar5</title>\n",
       "<ellipse cx=\"277.775\" cy=\"-90\" fill=\"lightgrey\" rx=\"54.6905\" ry=\"18\" stroke=\"black\"/>\n",
       "<text font-family=\"Times,serif\" font-size=\"14.00\" text-anchor=\"middle\" x=\"277.775\" y=\"-86.3\">chanceVar5</text>\n",
       "</g>\n",
       "<!-- chanceVar3&#45;&gt;chanceVar5 -->\n",
       "<g class=\"edge\" id=\"edge10\"><title>chanceVar3-&gt;chanceVar5</title>\n",
       "<path d=\"M326.608,-144.411C318.558,-135.606 308.521,-124.628 299.644,-114.919\" fill=\"none\" stroke=\"black\"/>\n",
       "<polygon fill=\"black\" points=\"302.164,-112.489 292.833,-107.47 296.998,-117.212 302.164,-112.489\" stroke=\"black\"/>\n",
       "</g>\n",
       "<!-- chanceVar4&#45;&gt;chanceVar5 -->\n",
       "<g class=\"edge\" id=\"edge11\"><title>chanceVar4-&gt;chanceVar5</title>\n",
       "<path d=\"M229.705,-144.411C237.63,-135.606 247.51,-124.628 256.248,-114.919\" fill=\"none\" stroke=\"black\"/>\n",
       "<polygon fill=\"black\" points=\"258.864,-117.244 262.952,-107.47 253.661,-112.562 258.864,-117.244\" stroke=\"black\"/>\n",
       "</g>\n",
       "<!-- chanceVar5&#45;&gt;utilityVar2 -->\n",
       "<g class=\"edge\" id=\"edge12\"><title>chanceVar5-&gt;utilityVar2</title>\n",
       "<path d=\"M291.757,-72.411C299.716,-62.9681 309.782,-51.0258 318.376,-40.8295\" fill=\"none\" stroke=\"black\"/>\n",
       "<polygon fill=\"black\" points=\"321.116,-43.0096 324.884,-33.1076 315.763,-38.4983 321.116,-43.0096\" stroke=\"black\"/>\n",
       "</g>\n",
       "</g>\n",
       "</svg>"
      ],
      "text/plain": [
       "<IPython.core.display.HTML object>"
      ]
     },
     "metadata": {},
     "output_type": "display_data"
    }
   ],
   "source": [
    "diag=gum.loadID(\"../resources/diag.bifxml\")\n",
    "gnb.showInfluenceDiagram(diag,size=\"6\",format='svg')"
   ]
  },
  {
   "cell_type": "code",
   "execution_count": 4,
   "metadata": {
    "collapsed": false,
    "deletable": true,
    "editable": true
   },
   "outputs": [
    {
     "data": {
      "text/html": [
       "<svg height=\"432pt\" viewBox=\"0.00 0.00 431.80 432.00\" width=\"432pt\" xmlns=\"http://www.w3.org/2000/svg\" xmlns:xlink=\"http://www.w3.org/1999/xlink\">\n",
       "<g class=\"graph\" id=\"graph0\" transform=\"scale(0.907563 0.907563) rotate(0) translate(4 472)\">\n",
       "<title>../resources/diag.bifxml</title>\n",
       "<polygon fill=\"white\" points=\"-4,4 -4,-472 471.775,-472 471.775,4 -4,4\" stroke=\"none\"/>\n",
       "<!-- decisionVar1 -->\n",
       "<g class=\"node\" id=\"node1\"><title>decisionVar1</title>\n",
       "<polygon fill=\"lightgrey\" points=\"337.775,-468 245.775,-468 245.775,-432 337.775,-432 337.775,-468\" stroke=\"black\"/>\n",
       "<text font-family=\"Times,serif\" font-size=\"14.00\" text-anchor=\"middle\" x=\"291.775\" y=\"-446.3\">decisionVar1</text>\n",
       "</g>\n",
       "<!-- chanceVar1 -->\n",
       "<g class=\"node\" id=\"node8\"><title>chanceVar1</title>\n",
       "<ellipse cx=\"233.775\" cy=\"-378\" fill=\"lightgrey\" rx=\"53.8905\" ry=\"18\" stroke=\"black\"/>\n",
       "<text font-family=\"Times,serif\" font-size=\"14.00\" text-anchor=\"middle\" x=\"233.775\" y=\"-374.3\">chanceVar1</text>\n",
       "</g>\n",
       "<!-- decisionVar1&#45;&gt;chanceVar1 -->\n",
       "<g class=\"edge\" id=\"edge2\"><title>decisionVar1-&gt;chanceVar1</title>\n",
       "<path d=\"M277.438,-431.697C270.381,-423.179 261.751,-412.765 254.033,-403.45\" fill=\"none\" stroke=\"black\"/>\n",
       "<polygon fill=\"black\" points=\"256.623,-401.089 247.548,-395.622 251.233,-405.556 256.623,-401.089\" stroke=\"black\"/>\n",
       "</g>\n",
       "<!-- F -->\n",
       "<g class=\"node\" id=\"node13\"><title>F</title>\n",
       "<ellipse cx=\"383.775\" cy=\"-306\" fill=\"lightgrey\" rx=\"27\" ry=\"18\" stroke=\"black\"/>\n",
       "<text font-family=\"Times,serif\" font-size=\"14.00\" text-anchor=\"middle\" x=\"383.775\" y=\"-302.3\">F</text>\n",
       "</g>\n",
       "<!-- decisionVar1&#45;&gt;F -->\n",
       "<g class=\"edge\" id=\"edge1\"><title>decisionVar1-&gt;F</title>\n",
       "<path d=\"M302.872,-431.871C319.087,-406.844 349.338,-360.153 367.902,-331.499\" fill=\"none\" stroke=\"black\"/>\n",
       "<polygon fill=\"black\" points=\"370.986,-333.176 373.487,-322.88 365.112,-329.37 370.986,-333.176\" stroke=\"black\"/>\n",
       "</g>\n",
       "<!-- decisionVar2 -->\n",
       "<g class=\"node\" id=\"node2\"><title>decisionVar2</title>\n",
       "<polygon fill=\"lightgrey\" points=\"260.775,-252 168.775,-252 168.775,-216 260.775,-216 260.775,-252\" stroke=\"black\"/>\n",
       "<text font-family=\"Times,serif\" font-size=\"14.00\" text-anchor=\"middle\" x=\"214.775\" y=\"-230.3\">decisionVar2</text>\n",
       "</g>\n",
       "<!-- utilityVar1 -->\n",
       "<g class=\"node\" id=\"node5\"><title>utilityVar1</title>\n",
       "<polygon fill=\"lightgrey\" points=\"70.7751,-180 0.224179,-162 70.7751,-144 141.326,-162 70.7751,-180\" stroke=\"black\"/>\n",
       "<text font-family=\"Times,serif\" font-size=\"14.00\" text-anchor=\"middle\" x=\"70.7751\" y=\"-158.3\">utilityVar1</text>\n",
       "</g>\n",
       "<!-- decisionVar2&#45;&gt;utilityVar1 -->\n",
       "<g class=\"edge\" id=\"edge3\"><title>decisionVar2-&gt;utilityVar1</title>\n",
       "<path d=\"M179.549,-215.876C156.235,-204.543 125.889,-189.792 103.176,-178.75\" fill=\"none\" stroke=\"black\"/>\n",
       "<polygon fill=\"black\" points=\"104.475,-175.49 93.9512,-174.266 101.415,-181.786 104.475,-175.49\" stroke=\"black\"/>\n",
       "</g>\n",
       "<!-- chanceVar4 -->\n",
       "<g class=\"node\" id=\"node11\"><title>chanceVar4</title>\n",
       "<ellipse cx=\"214.775\" cy=\"-162\" fill=\"lightgrey\" rx=\"55.4913\" ry=\"18\" stroke=\"black\"/>\n",
       "<text font-family=\"Times,serif\" font-size=\"14.00\" text-anchor=\"middle\" x=\"214.775\" y=\"-158.3\">chanceVar4</text>\n",
       "</g>\n",
       "<!-- decisionVar2&#45;&gt;chanceVar4 -->\n",
       "<g class=\"edge\" id=\"edge4\"><title>decisionVar2-&gt;chanceVar4</title>\n",
       "<path d=\"M214.775,-215.697C214.775,-207.983 214.775,-198.712 214.775,-190.112\" fill=\"none\" stroke=\"black\"/>\n",
       "<polygon fill=\"black\" points=\"218.275,-190.104 214.775,-180.104 211.275,-190.104 218.275,-190.104\" stroke=\"black\"/>\n",
       "</g>\n",
       "<!-- decisionVar3 -->\n",
       "<g class=\"node\" id=\"node3\"><title>decisionVar3</title>\n",
       "<polygon fill=\"lightgrey\" points=\"387.775,-252 295.775,-252 295.775,-216 387.775,-216 387.775,-252\" stroke=\"black\"/>\n",
       "<text font-family=\"Times,serif\" font-size=\"14.00\" text-anchor=\"middle\" x=\"341.775\" y=\"-230.3\">decisionVar3</text>\n",
       "</g>\n",
       "<!-- U -->\n",
       "<g class=\"node\" id=\"node7\"><title>U</title>\n",
       "<polygon fill=\"lightgrey\" points=\"440.775,-180 413.775,-162 440.775,-144 467.775,-162 440.775,-180\" stroke=\"black\"/>\n",
       "<text font-family=\"Times,serif\" font-size=\"14.00\" text-anchor=\"middle\" x=\"440.775\" y=\"-158.3\">U</text>\n",
       "</g>\n",
       "<!-- decisionVar3&#45;&gt;U -->\n",
       "<g class=\"edge\" id=\"edge6\"><title>decisionVar3-&gt;U</title>\n",
       "<path d=\"M365.993,-215.876C382.454,-204.237 404.015,-188.992 419.753,-177.864\" fill=\"none\" stroke=\"black\"/>\n",
       "<polygon fill=\"black\" points=\"422.12,-180.477 428.265,-171.846 418.079,-174.761 422.12,-180.477\" stroke=\"black\"/>\n",
       "</g>\n",
       "<!-- chanceVar3 -->\n",
       "<g class=\"node\" id=\"node10\"><title>chanceVar3</title>\n",
       "<ellipse cx=\"341.775\" cy=\"-162\" fill=\"lightgrey\" rx=\"53.8905\" ry=\"18\" stroke=\"black\"/>\n",
       "<text font-family=\"Times,serif\" font-size=\"14.00\" text-anchor=\"middle\" x=\"341.775\" y=\"-158.3\">chanceVar3</text>\n",
       "</g>\n",
       "<!-- decisionVar3&#45;&gt;chanceVar3 -->\n",
       "<g class=\"edge\" id=\"edge5\"><title>decisionVar3-&gt;chanceVar3</title>\n",
       "<path d=\"M341.775,-215.697C341.775,-207.983 341.775,-198.712 341.775,-190.112\" fill=\"none\" stroke=\"black\"/>\n",
       "<polygon fill=\"black\" points=\"345.275,-190.104 341.775,-180.104 338.275,-190.104 345.275,-190.104\" stroke=\"black\"/>\n",
       "</g>\n",
       "<!-- decisionVar4 -->\n",
       "<g class=\"node\" id=\"node4\"><title>decisionVar4</title>\n",
       "<polygon fill=\"lightgrey\" points=\"443.275,-108 350.275,-108 350.275,-72 443.275,-72 443.275,-108\" stroke=\"black\"/>\n",
       "<text font-family=\"Times,serif\" font-size=\"14.00\" text-anchor=\"middle\" x=\"396.775\" y=\"-86.3\">decisionVar4</text>\n",
       "</g>\n",
       "<!-- utilityVar2 -->\n",
       "<g class=\"node\" id=\"node6\"><title>utilityVar2</title>\n",
       "<polygon fill=\"lightgrey\" points=\"336.775,-36 266.224,-18 336.775,-3.55271e-15 407.326,-18 336.775,-36\" stroke=\"black\"/>\n",
       "<text font-family=\"Times,serif\" font-size=\"14.00\" text-anchor=\"middle\" x=\"336.775\" y=\"-14.3\">utilityVar2</text>\n",
       "</g>\n",
       "<!-- decisionVar4&#45;&gt;utilityVar2 -->\n",
       "<g class=\"edge\" id=\"edge7\"><title>decisionVar4-&gt;utilityVar2</title>\n",
       "<path d=\"M381.944,-71.6966C374.027,-62.4607 364.198,-50.9936 355.733,-41.1172\" fill=\"none\" stroke=\"black\"/>\n",
       "<polygon fill=\"black\" points=\"358.18,-38.5938 349.014,-33.279 352.865,-43.1493 358.18,-38.5938\" stroke=\"black\"/>\n",
       "</g>\n",
       "<!-- chanceVar1&#45;&gt;utilityVar1 -->\n",
       "<g class=\"edge\" id=\"edge8\"><title>chanceVar1-&gt;utilityVar1</title>\n",
       "<path d=\"M211.852,-361.33C198.994,-351.495 182.938,-338.048 170.775,-324 132.746,-280.076 99.6038,-220.152 82.6988,-187.194\" fill=\"none\" stroke=\"black\"/>\n",
       "<polygon fill=\"black\" points=\"85.8173,-185.605 78.1781,-178.264 79.5719,-188.767 85.8173,-185.605\" stroke=\"black\"/>\n",
       "</g>\n",
       "<!-- chanceVar2 -->\n",
       "<g class=\"node\" id=\"node9\"><title>chanceVar2</title>\n",
       "<ellipse cx=\"233.775\" cy=\"-306\" fill=\"lightgrey\" rx=\"53.8905\" ry=\"18\" stroke=\"black\"/>\n",
       "<text font-family=\"Times,serif\" font-size=\"14.00\" text-anchor=\"middle\" x=\"233.775\" y=\"-302.3\">chanceVar2</text>\n",
       "</g>\n",
       "<!-- chanceVar1&#45;&gt;chanceVar2 -->\n",
       "<g class=\"edge\" id=\"edge9\"><title>chanceVar1-&gt;chanceVar2</title>\n",
       "<path d=\"M233.775,-359.697C233.775,-351.983 233.775,-342.712 233.775,-334.112\" fill=\"none\" stroke=\"black\"/>\n",
       "<polygon fill=\"black\" points=\"237.275,-334.104 233.775,-324.104 230.275,-334.104 237.275,-334.104\" stroke=\"black\"/>\n",
       "</g>\n",
       "<!-- chanceVar2&#45;&gt;decisionVar2 -->\n",
       "<g class=\"edge\" id=\"edge10\"><title>chanceVar2-&gt;decisionVar2</title>\n",
       "<path d=\"M229.176,-288.055C227.06,-280.261 224.498,-270.822 222.125,-262.079\" fill=\"none\" stroke=\"black\"/>\n",
       "<polygon fill=\"black\" points=\"225.461,-261.009 219.464,-252.275 218.706,-262.843 225.461,-261.009\" stroke=\"black\"/>\n",
       "</g>\n",
       "<!-- chanceVar2&#45;&gt;decisionVar3 -->\n",
       "<g class=\"edge\" id=\"edge11\"><title>chanceVar2-&gt;decisionVar3</title>\n",
       "<path d=\"M257.476,-289.638C271.936,-280.266 290.682,-268.116 306.823,-257.654\" fill=\"none\" stroke=\"black\"/>\n",
       "<polygon fill=\"black\" points=\"308.99,-260.42 315.478,-252.044 305.183,-254.546 308.99,-260.42\" stroke=\"black\"/>\n",
       "</g>\n",
       "<!-- chanceVar5 -->\n",
       "<g class=\"node\" id=\"node12\"><title>chanceVar5</title>\n",
       "<ellipse cx=\"277.775\" cy=\"-90\" fill=\"lightgrey\" rx=\"54.6905\" ry=\"18\" stroke=\"black\"/>\n",
       "<text font-family=\"Times,serif\" font-size=\"14.00\" text-anchor=\"middle\" x=\"277.775\" y=\"-86.3\">chanceVar5</text>\n",
       "</g>\n",
       "<!-- chanceVar3&#45;&gt;chanceVar5 -->\n",
       "<g class=\"edge\" id=\"edge12\"><title>chanceVar3-&gt;chanceVar5</title>\n",
       "<path d=\"M326.608,-144.411C318.558,-135.606 308.521,-124.628 299.644,-114.919\" fill=\"none\" stroke=\"black\"/>\n",
       "<polygon fill=\"black\" points=\"302.164,-112.489 292.833,-107.47 296.998,-117.212 302.164,-112.489\" stroke=\"black\"/>\n",
       "</g>\n",
       "<!-- chanceVar4&#45;&gt;chanceVar5 -->\n",
       "<g class=\"edge\" id=\"edge13\"><title>chanceVar4-&gt;chanceVar5</title>\n",
       "<path d=\"M229.705,-144.411C237.63,-135.606 247.51,-124.628 256.248,-114.919\" fill=\"none\" stroke=\"black\"/>\n",
       "<polygon fill=\"black\" points=\"258.864,-117.244 262.952,-107.47 253.661,-112.562 258.864,-117.244\" stroke=\"black\"/>\n",
       "</g>\n",
       "<!-- chanceVar5&#45;&gt;utilityVar2 -->\n",
       "<g class=\"edge\" id=\"edge14\"><title>chanceVar5-&gt;utilityVar2</title>\n",
       "<path d=\"M291.757,-72.411C299.716,-62.9681 309.782,-51.0258 318.376,-40.8295\" fill=\"none\" stroke=\"black\"/>\n",
       "<polygon fill=\"black\" points=\"321.116,-43.0096 324.884,-33.1076 315.763,-38.4983 321.116,-43.0096\" stroke=\"black\"/>\n",
       "</g>\n",
       "<!-- F&#45;&gt;U -->\n",
       "<g class=\"edge\" id=\"edge15\"><title>F-&gt;U</title>\n",
       "<path d=\"M390.425,-288.433C400.573,-263.151 419.959,-214.858 431.49,-186.132\" fill=\"none\" stroke=\"black\"/>\n",
       "<polygon fill=\"black\" points=\"434.874,-187.097 435.351,-176.513 428.378,-184.49 434.874,-187.097\" stroke=\"black\"/>\n",
       "</g>\n",
       "</g>\n",
       "</svg>"
      ],
      "text/plain": [
       "<IPython.core.display.HTML object>"
      ]
     },
     "metadata": {},
     "output_type": "display_data"
    }
   ],
   "source": [
    "F=diag.addChanceNode(gum.LabelizedVariable(\"F\",\"F\",2))\n",
    "diag.addArc(diag.idFromName(\"decisionVar1\"),F)\n",
    "\n",
    "U=diag.addUtilityNode(gum.LabelizedVariable(\"U\",\"U\",1))\n",
    "diag.addArc(diag.idFromName(\"decisionVar3\"),U)\n",
    "diag.addArc(diag.idFromName(\"F\"),U)\n",
    "\n",
    "gnb.showInfluenceDiagram(diag,size=\"6\",format=\"svg\") \n",
    "# note the difference between png (above) and svg (here)rendering"
   ]
  },
  {
   "cell_type": "code",
   "execution_count": 5,
   "metadata": {
    "collapsed": false,
    "deletable": true,
    "editable": true
   },
   "outputs": [],
   "source": [
    "diag.cpt(F)[{'decisionVar1':0}]=[0.9,0.1]\n",
    "diag.cpt(F)[{'decisionVar1':1}]=[0.3,0.7]\n",
    "\n",
    "diag.utility(U)[{'F':0,'decisionVar3':0}]=2\n",
    "diag.utility(U)[{'F':0,'decisionVar3':1}]=4\n",
    "diag.utility(U)[{'F':1}]=[[0],[5]]"
   ]
  },
  {
   "cell_type": "code",
   "execution_count": 6,
   "metadata": {
    "collapsed": false,
    "deletable": true,
    "editable": true
   },
   "outputs": [
    {
     "data": {
      "image/png": "[encoded data removed]"
     },
     "metadata": {},
     "output_type": "display_data"
    }
   ],
   "source": [
    "asia=gum.loadID(\"../resources/DecAsia.bifxml\")\n",
    "gnb.showInfluenceDiagram(asia)"
   ]
  },
  {
   "cell_type": "code",
   "execution_count": 7,
   "metadata": {
    "collapsed": false,
    "deletable": true,
    "editable": true
   },
   "outputs": [
    {
     "data": {
      "image/png": "[encoded data removed]"
     },
     "metadata": {},
     "output_type": "display_data"
    }
   ],
   "source": [
    "oil=gum.loadID(\"../resources/OilWildcater.bifxml\")\n",
    "gnb.showInfluenceDiagram(oil)"
   ]
  },
  {
   "cell_type": "code",
   "execution_count": 8,
   "metadata": {
    "collapsed": false,
    "deletable": true,
    "editable": true
   },
   "outputs": [],
   "source": [
    "ie=gum.InfluenceDiagramInference(oil)"
   ]
  },
  {
   "cell_type": "code",
   "execution_count": 9,
   "metadata": {
    "collapsed": false,
    "deletable": true,
    "editable": true
   },
   "outputs": [
    {
     "name": "stdout",
     "output_type": "stream",
     "text": [
      "Best decision for T : 1\n",
      "Best decision for D : 1\n",
      "For a maxEU : 60.0\n"
     ]
    }
   ],
   "source": [
    "ie.makeInference()\n",
    "print(\"Best decision for T : {0}\".format(ie.getBestDecisionChoice(oil.idFromName(\"T\"))))\n",
    "print(\"Best decision for D : {0}\".format(ie.getBestDecisionChoice(oil.idFromName(\"D\"))))\n",
    "print(\"For a maxEU : {0}\".format(ie.getMEU()))"
   ]
  },
  {
   "cell_type": "code",
   "execution_count": 10,
   "metadata": {
    "collapsed": false,
    "deletable": true,
    "editable": true
   },
   "outputs": [
    {
     "name": "stdout",
     "output_type": "stream",
     "text": [
      "O<Dry,Wet,Soak>\n"
     ]
    }
   ],
   "source": [
    "print(oil.variable(3))"
   ]
  },
  {
   "cell_type": "code",
   "execution_count": 11,
   "metadata": {
    "collapsed": false,
    "deletable": true,
    "editable": true
   },
   "outputs": [
    {
     "name": "stdout",
     "output_type": "stream",
     "text": [
      "Best decision for T : 1\n",
      "Best decision for D : 1\n",
      "For a maxEU : 0.0\n"
     ]
    }
   ],
   "source": [
    "ie.eraseAllEvidence()\n",
    "ie.setEvidence({3:0})\n",
    "ie.makeInference()\n",
    "print(\"Best decision for T : {0}\".format(ie.getBestDecisionChoice(oil.idFromName(\"T\"))))\n",
    "print(\"Best decision for D : {0}\".format(ie.getBestDecisionChoice(oil.idFromName(\"D\"))))\n",
    "print(\"For a maxEU : {0}\".format(ie.getMEU()))"
   ]
  },
  {
   "cell_type": "code",
   "execution_count": 12,
   "metadata": {
    "collapsed": false,
    "deletable": true,
    "editable": true
   },
   "outputs": [
    {
     "name": "stdout",
     "output_type": "stream",
     "text": [
      "Best decision for T : 1\n",
      "Best decision for D : 0\n",
      "For a maxEU : 60.0\n"
     ]
    }
   ],
   "source": [
    "ie.eraseAllEvidence()\n",
    "ie.setEvidence({3:1})\n",
    "ie.makeInference()\n",
    "print(\"Best decision for T : {0}\".format(ie.getBestDecisionChoice(oil.idFromName(\"T\"))))\n",
    "print(\"Best decision for D : {0}\".format(ie.getBestDecisionChoice(oil.idFromName(\"D\"))))\n",
    "print(\"For a maxEU : {0}\".format(ie.getMEU()))"
   ]
  },
  {
   "cell_type": "code",
   "execution_count": 13,
   "metadata": {
    "collapsed": false,
    "deletable": true,
    "editable": true
   },
   "outputs": [
    {
     "name": "stdout",
     "output_type": "stream",
     "text": [
      "Best decision for T : 1\n",
      "Best decision for D : 0\n",
      "For a maxEU : 10.0\n"
     ]
    }
   ],
   "source": [
    "ie.eraseAllEvidence()\n",
    "ie.setEvidence({3:2})\n",
    "ie.makeInference()\n",
    "print(\"Best decision for T : {0}\".format(ie.getBestDecisionChoice(oil.idFromName(\"T\"))))\n",
    "print(\"Best decision for D : {0}\".format(ie.getBestDecisionChoice(oil.idFromName(\"D\"))))\n",
    "print(\"For a maxEU : {0}\".format(ie.getMEU()))"
   ]
  },
  {
   "cell_type": "code",
   "execution_count": 14,
   "metadata": {
    "collapsed": false,
    "deletable": true,
    "editable": true
   },
   "outputs": [
    {
     "name": "stdout",
     "output_type": "stream",
     "text": [
      "Best decision for T : 1\n",
      "Best decision for D : 1\n",
      "For a maxEU : 30.0\n"
     ]
    }
   ],
   "source": [
    "ie.eraseAllEvidence()\n",
    "ie.setEvidence({3:[1,0.5,0.1]})\n",
    "ie.makeInference()\n",
    "print(\"Best decision for T : {0}\".format(ie.getBestDecisionChoice(oil.idFromName(\"T\"))))\n",
    "print(\"Best decision for D : {0}\".format(ie.getBestDecisionChoice(oil.idFromName(\"D\"))))\n",
    "print(\"For a maxEU : {0}\".format(ie.getMEU()))"
   ]
  },
  {
   "cell_type": "code",
   "execution_count": null,
   "metadata": {
    "collapsed": true,
    "deletable": true,
    "editable": true
   },
   "outputs": [],
   "source": []
  }
 ],
 "metadata": {
  "kernelspec": {
   "display_name": "Python 3",
   "language": "python",
   "name": "python3"
  },
  "language_info": {
   "codemirror_mode": {
    "name": "ipython",
    "version": 3
   },
   "file_extension": ".py",
   "mimetype": "text/x-python",
   "name": "python",
   "nbconvert_exporter": "python",
   "pygments_lexer": "ipython3",
   "version": "3.4.5"
  }
 },
 "nbformat": 4,
 "nbformat_minor": 0
}
