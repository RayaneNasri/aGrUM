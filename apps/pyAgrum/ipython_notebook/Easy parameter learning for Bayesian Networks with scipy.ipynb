{
 "metadata": {
  "name": "Easy parameter learning for Bayesian Networks with scipy"
 },
 "nbformat": 3,
 "nbformat_minor": 0,
 "worksheets": [
  {
   "cells": [
    {
     "cell_type": "markdown",
     "metadata": {},
     "source": [
      "Initialisation\n",
      "==============\n",
      "\n",
      "* importing pyAgrum\n",
      "* importing gumLib tools\n",
      "* loading a BN"
     ]
    },
    {
     "cell_type": "code",
     "collapsed": true,
     "input": [
      "import pyAgrum as gum\n",
      "import gumLib.notebook as gumnb"
     ],
     "language": "python",
     "metadata": {},
     "outputs": []
    },
    {
     "cell_type": "heading",
     "level": 2,
     "metadata": {},
     "source": [
      "Create a first BN : bn"
     ]
    },
    {
     "cell_type": "code",
     "collapsed": false,
     "input": [
      "bn=gum.loadBN(\"../resources/asia.bif\")\n",
      "bn.generateCPTs()\n",
      "gumnb.showBN(bn,size=\"3,3\")"
     ],
     "language": "python",
     "metadata": {},
     "outputs": []
    },
    {
     "cell_type": "code",
     "collapsed": false,
     "input": [
      "from gumLib.pretty_cpt import pretty_cpt\n",
      "pretty_cpt(bn.cpt(3))"
     ],
     "language": "python",
     "metadata": {},
     "outputs": []
    },
    {
     "cell_type": "heading",
     "level": 2,
     "metadata": {},
     "source": [
      "Create a second BN : bn2"
     ]
    },
    {
     "cell_type": "code",
     "collapsed": false,
     "input": [
      "bn2=gum.loadBN(\"../../../src/testunits/ressources/asia.bif\")\n",
      "bn2.generateCPTs()\n",
      "gumnb.showBN(bn,size=\"3,3\")"
     ],
     "language": "python",
     "metadata": {},
     "outputs": []
    },
    {
     "cell_type": "code",
     "collapsed": false,
     "input": [
      "from gumLib.pretty_cpt import pretty_cpt\n",
      "pretty_cpt(bn2.cpt(3))"
     ],
     "language": "python",
     "metadata": {},
     "outputs": []
    },
    {
     "cell_type": "heading",
     "level": 2,
     "metadata": {},
     "source": [
      "Exact and (Gibbs) approximated KL-divergence "
     ]
    },
    {
     "cell_type": "code",
     "collapsed": false,
     "input": [
      "g1=gum.BruteForceKL(bn,bn2)\n",
      "print(g1.compute())"
     ],
     "language": "python",
     "metadata": {},
     "outputs": []
    },
    {
     "cell_type": "code",
     "collapsed": false,
     "input": [
      "g=gum.GibbsKL(bn,bn2)\n",
      "g.setVerbosity(True)\n",
      "g.setMaxTime(60)\n",
      "g.setBurnIn(1000)\n",
      "g.setEpsilon(1e-7)\n",
      "print(g.compute())"
     ],
     "language": "python",
     "metadata": {},
     "outputs": []
    },
    {
     "cell_type": "code",
     "collapsed": true,
     "input": [
      "print(\"--\")\n",
      "print(g.messageApproximationScheme())\n",
      "print(\"--\")\n",
      "\n",
      "print(\"Temps de calcul : {0}\".format(g.currentTime()))\n",
      "print(\"Nombre d'it\u00e9rations : {0}\".format(g.nbrIterations()))\n",
      "\n",
      "import matplotlib.pyplot as plt\n",
      "import math\n",
      "\n",
      "h1=g.history()\n",
      "\n",
      "plt.figure(1)\n",
      "p=plt.plot(log10(h1), 'g')"
     ],
     "language": "python",
     "metadata": {},
     "outputs": []
    },
    {
     "cell_type": "code",
     "collapsed": false,
     "input": [
      "from gumLib.bn2csv import generateCSV\n",
      "from IPython.display import clear_output\n",
      "from IPython.display import HTML, Javascript, display\n",
      "generateCSV(bn,\"test.csv\",10000,True)"
     ],
     "language": "python",
     "metadata": {},
     "outputs": []
    },
    {
     "cell_type": "code",
     "collapsed": false,
     "input": [
      "import numpy as np\n",
      "types=[(name,np.uint8) for name in bn.names()]\n",
      "print(bn.names())\n",
      "recs = np.recfromcsv('test.csv', dtype=types,delimiter=',',names=None)\n",
      "print(recs[['bronchitis?','tuberculosis?']])"
     ],
     "language": "python",
     "metadata": {},
     "outputs": []
    },
    {
     "cell_type": "code",
     "collapsed": false,
     "input": [],
     "language": "python",
     "metadata": {},
     "outputs": []
    },
    {
     "cell_type": "code",
     "collapsed": false,
     "input": [
      "','.join(bn.names())"
     ],
     "language": "python",
     "metadata": {},
     "outputs": []
    },
    {
     "cell_type": "code",
     "collapsed": false,
     "input": [],
     "language": "python",
     "metadata": {},
     "outputs": []
    }
   ],
   "metadata": {}
  }
 ]
}