{
 "metadata": {
  "name": "pyCredalNetworks"
 },
 "nbformat": 3,
 "nbformat_minor": 0,
 "worksheets": [
  {
   "cells": [
    {
     "cell_type": "code",
     "collapsed": false,
     "input": [
      "import pyAgrum as gum\n",
      "import gumLib.notebook as gumnb"
     ],
     "language": "python",
     "metadata": {},
     "outputs": []
    },
    {
     "cell_type": "heading",
     "level": 2,
     "metadata": {},
     "source": [
      "Static Credal Net"
     ]
    },
    {
     "cell_type": "code",
     "collapsed": false,
     "input": [
      "cn=gum.CredalNet(\"../resources/cn/2Umin.bif\",\"../resources/cn/2Umax.bif\")\n",
      "cn.intervalToCredal(0)\n",
      "gumnb.showBN(cn.current_bn())"
     ],
     "language": "python",
     "metadata": {},
     "outputs": []
    },
    {
     "cell_type": "code",
     "collapsed": false,
     "input": [
      "ie=gum.MCSampling(cn)\n",
      "ie.insertEvidenceFile(\"../resources/cn/L2U.evi\")\n",
      "\n",
      "ie.setRepetitiveInd(False)\n",
      "ie.setTimeLimit(1)\n",
      "ie.setIterStop(1000)\n",
      "\n",
      "ie.makeInference()"
     ],
     "language": "python",
     "metadata": {},
     "outputs": []
    },
    {
     "cell_type": "code",
     "collapsed": false,
     "input": [
      "print ie.marginalMax(0)\n",
      "print ie.marginalMin(0)\n",
      "#gumnb.showMinMaxProbas(ie.marginalMin(0),ie.marginalMax(0))"
     ],
     "language": "python",
     "metadata": {},
     "outputs": []
    },
    {
     "cell_type": "heading",
     "level": 2,
     "metadata": {},
     "source": [
      "Dynamical Credal Net"
     ]
    },
    {
     "cell_type": "code",
     "collapsed": false,
     "input": [
      "cn=gum.CredalNet(\"../resources/cn/bn_c_8.bif\",\"../resources/cn/den_c_8.bif\")\n",
      "cn.bnToCredal(0.8,False)"
     ],
     "language": "python",
     "metadata": {},
     "outputs": []
    },
    {
     "cell_type": "code",
     "collapsed": false,
     "input": [
      "ie=gum.MCSampling(cn)\n",
      "ie.insertModalsFile(\"../resources/cn/modalities.modal\")\n",
      "\n",
      "ie.setRepetitiveInd(True)\n",
      "ie.setTimeLimit(30)\n",
      "ie.setIterStop(1000)\n",
      "\n",
      "ie.makeInference_v3()"
     ],
     "language": "python",
     "metadata": {},
     "outputs": []
    },
    {
     "cell_type": "code",
     "collapsed": false,
     "input": [
      "print ie.dynamicExpMax(\"temp\")"
     ],
     "language": "python",
     "metadata": {},
     "outputs": []
    },
    {
     "cell_type": "code",
     "collapsed": false,
     "input": [
      "fig=figure()\n",
      "ax=fig.add_subplot(111)\n",
      "ax.fill_between(range(9),ie.dynamicExpMax(\"temp\"),ie.dynamicExpMin(\"temp\"))"
     ],
     "language": "python",
     "metadata": {},
     "outputs": []
    },
    {
     "cell_type": "code",
     "collapsed": false,
     "input": [
      "ie=gum.MCSampling(cn)\n",
      "ie.insertModalsFile(\"../resources/cn/modalities.modal\")\n",
      "\n",
      "ie.setRepetitiveInd(False)\n",
      "ie.setTimeLimit(30)\n",
      "ie.setIterStop(1000)\n",
      "\n",
      "ie.makeInference_v3()\n"
     ],
     "language": "python",
     "metadata": {},
     "outputs": []
    },
    {
     "cell_type": "code",
     "collapsed": false,
     "input": [
      "fig=figure()\n",
      "ax=fig.add_subplot(111)\n",
      "ax.fill_between(range(9),ie.dynamicExpMax(\"temp\"),ie.dynamicExpMin(\"temp\"))"
     ],
     "language": "python",
     "metadata": {},
     "outputs": []
    },
    {
     "cell_type": "code",
     "collapsed": false,
     "input": [
      "ie=gum.MCSampling(cn)\n",
      "ie.insertModalsFile(\"../resources/cn/modalities.modal\")\n",
      "\n",
      "ie.setRepetitiveInd(False)\n",
      "ie.setTimeLimit(30)\n",
      "ie.setIterStop(1000)\n",
      "ie.setVerbosity(True)\n",
      "\n",
      "from IPython.display import clear_output\n",
      "f, ax = plt.subplots()\n",
      "\n",
      "h=gum.PythonApproximationListener(ie)\n",
      "\n",
      "def stopper(x):\n",
      "    clear_output()\n",
      "    print(\"Solutions : {0}\".format(x))\n",
      "    print(\"Time : {0} s\".format(ie.currentTime()))\n",
      "    print(\"Iterations : {0}\".format(ie.nbrIterations()))\n",
      "    \n",
      "def progresser(x,y,z):\n",
      "    ax.plot(log10(ie.history()), 'g')\n",
      "    clear_output()\n",
      "    display(f)\n",
      "\n",
      "h.setWhenStop(stopper)\n",
      "h.setWhenProgress(progresser)\n",
      "ie.makeInference_v3()"
     ],
     "language": "python",
     "metadata": {},
     "outputs": []
    }
   ],
   "metadata": {}
  }
 ]
}